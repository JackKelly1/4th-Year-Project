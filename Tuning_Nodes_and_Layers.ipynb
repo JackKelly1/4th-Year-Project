{
 "cells": [
  {
   "cell_type": "code",
   "execution_count": 1,
   "metadata": {},
   "outputs": [
    {
     "name": "stderr",
     "output_type": "stream",
     "text": [
      "Using TensorFlow backend.\n"
     ]
    }
   ],
   "source": [
    "import tensorflow as tf\n",
    "import pandas as pd\n",
    "from sklearn import preprocessing\n",
    "from sklearn.model_selection import train_test_split\n",
    "from sklearn.utils import shuffle\n",
    "from sklearn.metrics import mean_squared_error\n",
    "from keras.models import Sequential\n",
    "from keras.layers import Dense\n",
    "from keras import regularizers\n",
    "from tensorflow import keras\n",
    "import matplotlib.pyplot as plt\n",
    "import numpy as np\n",
    "import time\n",
    "import h5py\n",
    "import kerastuner as kt"
   ]
  },
  {
   "cell_type": "code",
   "execution_count": 2,
   "metadata": {},
   "outputs": [],
   "source": [
    "### IMPORT, RAMDOMIZE AND SCALE DATA ###\n",
    "\n",
    "def processing_data(N_channels, file_path):\n",
    "    df = pd.read_csv(file_path)\n",
    "    # dataset\n",
    "    dataset = df.values\n",
    "    # input power and channels statuses\n",
    "    X = dataset[:,0:N_channels+1]\n",
    "    # channel SNRs\n",
    "    Y = dataset[:,N_channels+1:2*N_channels+1]\n",
    "    # shuffle necessary because while shuffle=True in .fit() shuffles the data, it splits into different datasets first\n",
    "    X, Y = shuffle(X, Y)\n",
    "    # scaling between 0 and 1\n",
    "    min_max_scaler = preprocessing.MinMaxScaler()\n",
    "    X = min_max_scaler.fit_transform(X)\n",
    "    Y = min_max_scaler.fit_transform(Y)\n",
    "    return X, Y"
   ]
  },
  {
   "cell_type": "code",
   "execution_count": 3,
   "metadata": {},
   "outputs": [],
   "source": [
    "### RECEIVE 20,000 PIECES OF DATA ###\n",
    "\n",
    "N_channels = 40\n",
    "file_path = '/Users/jackkelly/Desktop/Building_Model/Data/40_channels_data_blocks_20000.csv'\n",
    "X_scale, Y_scale = processing_data(N_channels, file_path)\n",
    "X_scale, X_test, Y_scale, Y_test = train_test_split(X_scale, Y_scale, test_size=0.15)"
   ]
  },
  {
   "cell_type": "code",
   "execution_count": 4,
   "metadata": {},
   "outputs": [],
   "source": [
    "### FUNCTION TAKES HYPERPARAMETERS AND RETURNS COMPILED MODEL ###\n",
    "\n",
    "def model_builder(hp):\n",
    "    model = keras.Sequential()\n",
    "    model.add(keras.layers.InputLayer(input_shape=N_channels+1))\n",
    "#     hp_regularizer = hp.Choice('kernel_regularizer', values=[1e-4, 1e-5, 1e-6])\n",
    "    for i in range(hp.Int('n_layers', 1, 2)):\n",
    "#         model.add(keras.layers.Dense(hp.Int(f'hidden_{i}_units', min_value=10, max_value=320, step=1), kernel_regularizer=regularizers.l2(hp_regularizer)))\n",
    "        model.add(keras.layers.Dense(hp.Int(f'hidden_{i}_units', min_value=10, max_value=320, step=1)))\n",
    "    model.add(keras.layers.Dense(N_channels, activation='sigmoid'))\n",
    "    # Tune the learning rate for the optimizer\n",
    "    # Choose an optimal value from 0.01, 0.001, or 0.0001\n",
    "    hp_learning_rate = hp.Choice('learning_rate', values=[1e-2, 1e-3, 1e-4])\n",
    "\n",
    "    model.compile(optimizer=keras.optimizers.Adam(learning_rate=hp_learning_rate),\n",
    "                loss=keras.losses.MeanSquaredError(), metrics=['mean_squared_error'])\n",
    "\n",
    "    return model"
   ]
  },
  {
   "cell_type": "code",
   "execution_count": 5,
   "metadata": {},
   "outputs": [],
   "source": [
    "### CREATE HYPERBAND TUNER ###\n",
    "\n",
    "# The maximum number of epochs to train one model. It is recommended to \n",
    "# set this to a value slightly higher than the expected time \n",
    "# to convergence for your largest Model, and to use early stopping \n",
    "# during training\n",
    "tuner = kt.Hyperband(model_builder,\n",
    "                     objective=kt.Objective('mean_squared_error', 'min'),\n",
    "                     max_epochs=25,\n",
    "                     factor=3,\n",
    "                     directory='/Users/jackkelly/Desktop/Building_Model/',\n",
    "                     project_name='intro_to_kt_layers',\n",
    "                     overwrite=True)\n",
    "# stop_early = tf.keras.callbacks.EarlyStopping(monitor='val_loss', patience=5)\n",
    "stop_early = tf.keras.callbacks.EarlyStopping(monitor='mean_squared_error', patience=5)"
   ]
  },
  {
   "cell_type": "code",
   "execution_count": 6,
   "metadata": {},
   "outputs": [
    {
     "name": "stdout",
     "output_type": "stream",
     "text": [
      "Train on 14450 samples, validate on 2550 samples\n",
      "Epoch 1/3\n",
      "14450/14450 - 2s - loss: 0.0067 - mean_squared_error: 0.0067 - val_loss: 0.0021 - val_mean_squared_error: 0.0021\n",
      "Epoch 2/3\n",
      "14450/14450 - 1s - loss: 6.3950e-04 - mean_squared_error: 6.3950e-04 - val_loss: 6.4542e-04 - val_mean_squared_error: 6.4542e-04\n",
      "Epoch 3/3\n",
      "14450/14450 - 1s - loss: 8.2943e-04 - mean_squared_error: 8.2943e-04 - val_loss: 7.1942e-04 - val_mean_squared_error: 7.1942e-04\n"
     ]
    },
    {
     "data": {
      "text/html": [
       "<span style=\"color:#4527A0\"><h1 style=\"font-size:18px\">Trial complete</h1></span>"
      ],
      "text/plain": [
       "<IPython.core.display.HTML object>"
      ]
     },
     "metadata": {},
     "output_type": "display_data"
    },
    {
     "data": {
      "text/html": [
       "<span style=\"color:#4527A0\"><h1 style=\"font-size:18px\">Trial summary</h1></span>"
      ],
      "text/plain": [
       "<IPython.core.display.HTML object>"
      ]
     },
     "metadata": {},
     "output_type": "display_data"
    },
    {
     "data": {
      "text/html": [
       "<span style=\"color:cyan\"> |-Trial ID: 9900e3ee94d4fbc860e84d0d35beabe8</span>"
      ],
      "text/plain": [
       "<IPython.core.display.HTML object>"
      ]
     },
     "metadata": {},
     "output_type": "display_data"
    },
    {
     "data": {
      "text/html": [
       "<span style=\"color:cyan\"> |-Score: 0.000639500271063298</span>"
      ],
      "text/plain": [
       "<IPython.core.display.HTML object>"
      ]
     },
     "metadata": {},
     "output_type": "display_data"
    },
    {
     "data": {
      "text/html": [
       "<span style=\"color:cyan\"> |-Best step: 0</span>"
      ],
      "text/plain": [
       "<IPython.core.display.HTML object>"
      ]
     },
     "metadata": {},
     "output_type": "display_data"
    },
    {
     "data": {
      "text/html": [
       "<span style=\"color:#7E57C2\"><h2 style=\"font-size:16px\">Hyperparameters:</h2></span>"
      ],
      "text/plain": [
       "<IPython.core.display.HTML object>"
      ]
     },
     "metadata": {},
     "output_type": "display_data"
    },
    {
     "data": {
      "text/html": [
       "<span style=\"color:cyan\"> |-hidden_0_units: 250</span>"
      ],
      "text/plain": [
       "<IPython.core.display.HTML object>"
      ]
     },
     "metadata": {},
     "output_type": "display_data"
    },
    {
     "data": {
      "text/html": [
       "<span style=\"color:blue\"> |-learning_rate: 0.01</span>"
      ],
      "text/plain": [
       "<IPython.core.display.HTML object>"
      ]
     },
     "metadata": {},
     "output_type": "display_data"
    },
    {
     "data": {
      "text/html": [
       "<span style=\"color:cyan\"> |-n_layers: 1</span>"
      ],
      "text/plain": [
       "<IPython.core.display.HTML object>"
      ]
     },
     "metadata": {},
     "output_type": "display_data"
    },
    {
     "data": {
      "text/html": [
       "<span style=\"color:blue\"> |-tuner/bracket: 2</span>"
      ],
      "text/plain": [
       "<IPython.core.display.HTML object>"
      ]
     },
     "metadata": {},
     "output_type": "display_data"
    },
    {
     "data": {
      "text/html": [
       "<span style=\"color:cyan\"> |-tuner/epochs: 3</span>"
      ],
      "text/plain": [
       "<IPython.core.display.HTML object>"
      ]
     },
     "metadata": {},
     "output_type": "display_data"
    },
    {
     "data": {
      "text/html": [
       "<span style=\"color:blue\"> |-tuner/initial_epoch: 0</span>"
      ],
      "text/plain": [
       "<IPython.core.display.HTML object>"
      ]
     },
     "metadata": {},
     "output_type": "display_data"
    },
    {
     "data": {
      "text/html": [
       "<span style=\"color:cyan\"> |-tuner/round: 0</span>"
      ],
      "text/plain": [
       "<IPython.core.display.HTML object>"
      ]
     },
     "metadata": {},
     "output_type": "display_data"
    },
    {
     "name": "stdout",
     "output_type": "stream",
     "text": [
      "Train on 14450 samples, validate on 2550 samples\n",
      "Epoch 1/3\n",
      "14450/14450 - 2s - loss: 0.1573 - mean_squared_error: 0.1573 - val_loss: 0.1217 - val_mean_squared_error: 0.1217\n",
      "Epoch 2/3\n",
      "14450/14450 - 1s - loss: 0.0912 - mean_squared_error: 0.0912 - val_loss: 0.0654 - val_mean_squared_error: 0.0654\n",
      "Epoch 3/3\n",
      "14450/14450 - 1s - loss: 0.0485 - mean_squared_error: 0.0485 - val_loss: 0.0352 - val_mean_squared_error: 0.0352\n"
     ]
    },
    {
     "data": {
      "text/html": [
       "<span style=\"color:#4527A0\"><h1 style=\"font-size:18px\">Trial complete</h1></span>"
      ],
      "text/plain": [
       "<IPython.core.display.HTML object>"
      ]
     },
     "metadata": {},
     "output_type": "display_data"
    },
    {
     "data": {
      "text/html": [
       "<span style=\"color:#4527A0\"><h1 style=\"font-size:18px\">Trial summary</h1></span>"
      ],
      "text/plain": [
       "<IPython.core.display.HTML object>"
      ]
     },
     "metadata": {},
     "output_type": "display_data"
    },
    {
     "data": {
      "text/html": [
       "<span style=\"color:cyan\"> |-Trial ID: 45c5420d5899c094d45f6b1d02bf18d1</span>"
      ],
      "text/plain": [
       "<IPython.core.display.HTML object>"
      ]
     },
     "metadata": {},
     "output_type": "display_data"
    },
    {
     "data": {
      "text/html": [
       "<span style=\"color:cyan\"> |-Score: 0.048497386276721954</span>"
      ],
      "text/plain": [
       "<IPython.core.display.HTML object>"
      ]
     },
     "metadata": {},
     "output_type": "display_data"
    },
    {
     "data": {
      "text/html": [
       "<span style=\"color:cyan\"> |-Best step: 0</span>"
      ],
      "text/plain": [
       "<IPython.core.display.HTML object>"
      ]
     },
     "metadata": {},
     "output_type": "display_data"
    },
    {
     "data": {
      "text/html": [
       "<span style=\"color:#7E57C2\"><h2 style=\"font-size:16px\">Hyperparameters:</h2></span>"
      ],
      "text/plain": [
       "<IPython.core.display.HTML object>"
      ]
     },
     "metadata": {},
     "output_type": "display_data"
    },
    {
     "data": {
      "text/html": [
       "<span style=\"color:cyan\"> |-hidden_0_units: 309</span>"
      ],
      "text/plain": [
       "<IPython.core.display.HTML object>"
      ]
     },
     "metadata": {},
     "output_type": "display_data"
    },
    {
     "data": {
      "text/html": [
       "<span style=\"color:blue\"> |-learning_rate: 0.0001</span>"
      ],
      "text/plain": [
       "<IPython.core.display.HTML object>"
      ]
     },
     "metadata": {},
     "output_type": "display_data"
    },
    {
     "data": {
      "text/html": [
       "<span style=\"color:cyan\"> |-n_layers: 1</span>"
      ],
      "text/plain": [
       "<IPython.core.display.HTML object>"
      ]
     },
     "metadata": {},
     "output_type": "display_data"
    },
    {
     "data": {
      "text/html": [
       "<span style=\"color:blue\"> |-tuner/bracket: 2</span>"
      ],
      "text/plain": [
       "<IPython.core.display.HTML object>"
      ]
     },
     "metadata": {},
     "output_type": "display_data"
    },
    {
     "data": {
      "text/html": [
       "<span style=\"color:cyan\"> |-tuner/epochs: 3</span>"
      ],
      "text/plain": [
       "<IPython.core.display.HTML object>"
      ]
     },
     "metadata": {},
     "output_type": "display_data"
    },
    {
     "data": {
      "text/html": [
       "<span style=\"color:blue\"> |-tuner/initial_epoch: 0</span>"
      ],
      "text/plain": [
       "<IPython.core.display.HTML object>"
      ]
     },
     "metadata": {},
     "output_type": "display_data"
    },
    {
     "data": {
      "text/html": [
       "<span style=\"color:cyan\"> |-tuner/round: 0</span>"
      ],
      "text/plain": [
       "<IPython.core.display.HTML object>"
      ]
     },
     "metadata": {},
     "output_type": "display_data"
    },
    {
     "name": "stdout",
     "output_type": "stream",
     "text": [
      "Train on 14450 samples, validate on 2550 samples\n",
      "Epoch 1/3\n",
      "14450/14450 - 2s - loss: 0.1612 - mean_squared_error: 0.1612 - val_loss: 0.1301 - val_mean_squared_error: 0.1301\n",
      "Epoch 2/3\n",
      "14450/14450 - 1s - loss: 0.1021 - mean_squared_error: 0.1021 - val_loss: 0.0772 - val_mean_squared_error: 0.0772\n",
      "Epoch 3/3\n",
      "14450/14450 - 1s - loss: 0.0595 - mean_squared_error: 0.0595 - val_loss: 0.0452 - val_mean_squared_error: 0.0452\n"
     ]
    },
    {
     "data": {
      "text/html": [
       "<span style=\"color:#4527A0\"><h1 style=\"font-size:18px\">Trial complete</h1></span>"
      ],
      "text/plain": [
       "<IPython.core.display.HTML object>"
      ]
     },
     "metadata": {},
     "output_type": "display_data"
    },
    {
     "data": {
      "text/html": [
       "<span style=\"color:#4527A0\"><h1 style=\"font-size:18px\">Trial summary</h1></span>"
      ],
      "text/plain": [
       "<IPython.core.display.HTML object>"
      ]
     },
     "metadata": {},
     "output_type": "display_data"
    },
    {
     "data": {
      "text/html": [
       "<span style=\"color:cyan\"> |-Trial ID: 45c16c0cc766903641f6e78adcb91f58</span>"
      ],
      "text/plain": [
       "<IPython.core.display.HTML object>"
      ]
     },
     "metadata": {},
     "output_type": "display_data"
    },
    {
     "data": {
      "text/html": [
       "<span style=\"color:cyan\"> |-Score: 0.05947493389248848</span>"
      ],
      "text/plain": [
       "<IPython.core.display.HTML object>"
      ]
     },
     "metadata": {},
     "output_type": "display_data"
    },
    {
     "data": {
      "text/html": [
       "<span style=\"color:cyan\"> |-Best step: 0</span>"
      ],
      "text/plain": [
       "<IPython.core.display.HTML object>"
      ]
     },
     "metadata": {},
     "output_type": "display_data"
    },
    {
     "data": {
      "text/html": [
       "<span style=\"color:#7E57C2\"><h2 style=\"font-size:16px\">Hyperparameters:</h2></span>"
      ],
      "text/plain": [
       "<IPython.core.display.HTML object>"
      ]
     },
     "metadata": {},
     "output_type": "display_data"
    },
    {
     "data": {
      "text/html": [
       "<span style=\"color:cyan\"> |-hidden_0_units: 229</span>"
      ],
      "text/plain": [
       "<IPython.core.display.HTML object>"
      ]
     },
     "metadata": {},
     "output_type": "display_data"
    },
    {
     "data": {
      "text/html": [
       "<span style=\"color:blue\"> |-learning_rate: 0.0001</span>"
      ],
      "text/plain": [
       "<IPython.core.display.HTML object>"
      ]
     },
     "metadata": {},
     "output_type": "display_data"
    },
    {
     "data": {
      "text/html": [
       "<span style=\"color:cyan\"> |-n_layers: 1</span>"
      ],
      "text/plain": [
       "<IPython.core.display.HTML object>"
      ]
     },
     "metadata": {},
     "output_type": "display_data"
    },
    {
     "data": {
      "text/html": [
       "<span style=\"color:blue\"> |-tuner/bracket: 2</span>"
      ],
      "text/plain": [
       "<IPython.core.display.HTML object>"
      ]
     },
     "metadata": {},
     "output_type": "display_data"
    },
    {
     "data": {
      "text/html": [
       "<span style=\"color:cyan\"> |-tuner/epochs: 3</span>"
      ],
      "text/plain": [
       "<IPython.core.display.HTML object>"
      ]
     },
     "metadata": {},
     "output_type": "display_data"
    },
    {
     "data": {
      "text/html": [
       "<span style=\"color:blue\"> |-tuner/initial_epoch: 0</span>"
      ],
      "text/plain": [
       "<IPython.core.display.HTML object>"
      ]
     },
     "metadata": {},
     "output_type": "display_data"
    },
    {
     "data": {
      "text/html": [
       "<span style=\"color:cyan\"> |-tuner/round: 0</span>"
      ],
      "text/plain": [
       "<IPython.core.display.HTML object>"
      ]
     },
     "metadata": {},
     "output_type": "display_data"
    },
    {
     "name": "stdout",
     "output_type": "stream",
     "text": [
      "Train on 14450 samples, validate on 2550 samples\n",
      "Epoch 1/3\n",
      "14450/14450 - 2s - loss: 0.1096 - mean_squared_error: 0.1096 - val_loss: 0.0955 - val_mean_squared_error: 0.0955\n",
      "Epoch 2/3\n",
      "14450/14450 - 1s - loss: 0.0945 - mean_squared_error: 0.0945 - val_loss: 0.0952 - val_mean_squared_error: 0.0952\n",
      "Epoch 3/3\n",
      "14450/14450 - 1s - loss: 0.0940 - mean_squared_error: 0.0940 - val_loss: 0.0949 - val_mean_squared_error: 0.0949\n"
     ]
    },
    {
     "data": {
      "text/html": [
       "<span style=\"color:#4527A0\"><h1 style=\"font-size:18px\">Trial complete</h1></span>"
      ],
      "text/plain": [
       "<IPython.core.display.HTML object>"
      ]
     },
     "metadata": {},
     "output_type": "display_data"
    },
    {
     "data": {
      "text/html": [
       "<span style=\"color:#4527A0\"><h1 style=\"font-size:18px\">Trial summary</h1></span>"
      ],
      "text/plain": [
       "<IPython.core.display.HTML object>"
      ]
     },
     "metadata": {},
     "output_type": "display_data"
    },
    {
     "data": {
      "text/html": [
       "<span style=\"color:cyan\"> |-Trial ID: f3b34d67e19f1297cb0485392db991a4</span>"
      ],
      "text/plain": [
       "<IPython.core.display.HTML object>"
      ]
     },
     "metadata": {},
     "output_type": "display_data"
    },
    {
     "data": {
      "text/html": [
       "<span style=\"color:cyan\"> |-Score: 0.09402914345264435</span>"
      ],
      "text/plain": [
       "<IPython.core.display.HTML object>"
      ]
     },
     "metadata": {},
     "output_type": "display_data"
    },
    {
     "data": {
      "text/html": [
       "<span style=\"color:cyan\"> |-Best step: 0</span>"
      ],
      "text/plain": [
       "<IPython.core.display.HTML object>"
      ]
     },
     "metadata": {},
     "output_type": "display_data"
    },
    {
     "data": {
      "text/html": [
       "<span style=\"color:#7E57C2\"><h2 style=\"font-size:16px\">Hyperparameters:</h2></span>"
      ],
      "text/plain": [
       "<IPython.core.display.HTML object>"
      ]
     },
     "metadata": {},
     "output_type": "display_data"
    },
    {
     "data": {
      "text/html": [
       "<span style=\"color:cyan\"> |-hidden_0_units: 316</span>"
      ],
      "text/plain": [
       "<IPython.core.display.HTML object>"
      ]
     },
     "metadata": {},
     "output_type": "display_data"
    },
    {
     "data": {
      "text/html": [
       "<span style=\"color:blue\"> |-hidden_1_units: 10</span>"
      ],
      "text/plain": [
       "<IPython.core.display.HTML object>"
      ]
     },
     "metadata": {},
     "output_type": "display_data"
    },
    {
     "data": {
      "text/html": [
       "<span style=\"color:cyan\"> |-learning_rate: 0.001</span>"
      ],
      "text/plain": [
       "<IPython.core.display.HTML object>"
      ]
     },
     "metadata": {},
     "output_type": "display_data"
    },
    {
     "data": {
      "text/html": [
       "<span style=\"color:blue\"> |-n_layers: 2</span>"
      ],
      "text/plain": [
       "<IPython.core.display.HTML object>"
      ]
     },
     "metadata": {},
     "output_type": "display_data"
    },
    {
     "data": {
      "text/html": [
       "<span style=\"color:cyan\"> |-tuner/bracket: 2</span>"
      ],
      "text/plain": [
       "<IPython.core.display.HTML object>"
      ]
     },
     "metadata": {},
     "output_type": "display_data"
    },
    {
     "data": {
      "text/html": [
       "<span style=\"color:blue\"> |-tuner/epochs: 3</span>"
      ],
      "text/plain": [
       "<IPython.core.display.HTML object>"
      ]
     },
     "metadata": {},
     "output_type": "display_data"
    },
    {
     "data": {
      "text/html": [
       "<span style=\"color:cyan\"> |-tuner/initial_epoch: 0</span>"
      ],
      "text/plain": [
       "<IPython.core.display.HTML object>"
      ]
     },
     "metadata": {},
     "output_type": "display_data"
    },
    {
     "data": {
      "text/html": [
       "<span style=\"color:blue\"> |-tuner/round: 0</span>"
      ],
      "text/plain": [
       "<IPython.core.display.HTML object>"
      ]
     },
     "metadata": {},
     "output_type": "display_data"
    },
    {
     "name": "stdout",
     "output_type": "stream",
     "text": [
      "Train on 14450 samples, validate on 2550 samples\n",
      "Epoch 1/3\n",
      "14450/14450 - 2s - loss: 0.0057 - mean_squared_error: 0.0057 - val_loss: 0.0011 - val_mean_squared_error: 0.0011\n",
      "Epoch 2/3\n",
      "14450/14450 - 1s - loss: 0.0229 - mean_squared_error: 0.0229 - val_loss: 0.1155 - val_mean_squared_error: 0.1155\n",
      "Epoch 3/3\n",
      "14450/14450 - 1s - loss: 0.1260 - mean_squared_error: 0.1260 - val_loss: 0.1114 - val_mean_squared_error: 0.1114\n"
     ]
    },
    {
     "data": {
      "text/html": [
       "<span style=\"color:#4527A0\"><h1 style=\"font-size:18px\">Trial complete</h1></span>"
      ],
      "text/plain": [
       "<IPython.core.display.HTML object>"
      ]
     },
     "metadata": {},
     "output_type": "display_data"
    },
    {
     "data": {
      "text/html": [
       "<span style=\"color:#4527A0\"><h1 style=\"font-size:18px\">Trial summary</h1></span>"
      ],
      "text/plain": [
       "<IPython.core.display.HTML object>"
      ]
     },
     "metadata": {},
     "output_type": "display_data"
    },
    {
     "data": {
      "text/html": [
       "<span style=\"color:cyan\"> |-Trial ID: 1acef50c1d34248613dcec2024a1b809</span>"
      ],
      "text/plain": [
       "<IPython.core.display.HTML object>"
      ]
     },
     "metadata": {},
     "output_type": "display_data"
    },
    {
     "data": {
      "text/html": [
       "<span style=\"color:cyan\"> |-Score: 0.005744880065321922</span>"
      ],
      "text/plain": [
       "<IPython.core.display.HTML object>"
      ]
     },
     "metadata": {},
     "output_type": "display_data"
    },
    {
     "data": {
      "text/html": [
       "<span style=\"color:cyan\"> |-Best step: 0</span>"
      ],
      "text/plain": [
       "<IPython.core.display.HTML object>"
      ]
     },
     "metadata": {},
     "output_type": "display_data"
    },
    {
     "data": {
      "text/html": [
       "<span style=\"color:#7E57C2\"><h2 style=\"font-size:16px\">Hyperparameters:</h2></span>"
      ],
      "text/plain": [
       "<IPython.core.display.HTML object>"
      ]
     },
     "metadata": {},
     "output_type": "display_data"
    },
    {
     "data": {
      "text/html": [
       "<span style=\"color:cyan\"> |-hidden_0_units: 92</span>"
      ],
      "text/plain": [
       "<IPython.core.display.HTML object>"
      ]
     },
     "metadata": {},
     "output_type": "display_data"
    },
    {
     "data": {
      "text/html": [
       "<span style=\"color:blue\"> |-hidden_1_units: 287</span>"
      ],
      "text/plain": [
       "<IPython.core.display.HTML object>"
      ]
     },
     "metadata": {},
     "output_type": "display_data"
    },
    {
     "data": {
      "text/html": [
       "<span style=\"color:cyan\"> |-learning_rate: 0.01</span>"
      ],
      "text/plain": [
       "<IPython.core.display.HTML object>"
      ]
     },
     "metadata": {},
     "output_type": "display_data"
    },
    {
     "data": {
      "text/html": [
       "<span style=\"color:blue\"> |-n_layers: 2</span>"
      ],
      "text/plain": [
       "<IPython.core.display.HTML object>"
      ]
     },
     "metadata": {},
     "output_type": "display_data"
    },
    {
     "data": {
      "text/html": [
       "<span style=\"color:cyan\"> |-tuner/bracket: 2</span>"
      ],
      "text/plain": [
       "<IPython.core.display.HTML object>"
      ]
     },
     "metadata": {},
     "output_type": "display_data"
    },
    {
     "data": {
      "text/html": [
       "<span style=\"color:blue\"> |-tuner/epochs: 3</span>"
      ],
      "text/plain": [
       "<IPython.core.display.HTML object>"
      ]
     },
     "metadata": {},
     "output_type": "display_data"
    },
    {
     "data": {
      "text/html": [
       "<span style=\"color:cyan\"> |-tuner/initial_epoch: 0</span>"
      ],
      "text/plain": [
       "<IPython.core.display.HTML object>"
      ]
     },
     "metadata": {},
     "output_type": "display_data"
    },
    {
     "data": {
      "text/html": [
       "<span style=\"color:blue\"> |-tuner/round: 0</span>"
      ],
      "text/plain": [
       "<IPython.core.display.HTML object>"
      ]
     },
     "metadata": {},
     "output_type": "display_data"
    },
    {
     "name": "stdout",
     "output_type": "stream",
     "text": [
      "Train on 14450 samples, validate on 2550 samples\n",
      "Epoch 1/3\n",
      "14450/14450 - 2s - loss: 0.1617 - mean_squared_error: 0.1617 - val_loss: 0.1291 - val_mean_squared_error: 0.1291\n",
      "Epoch 2/3\n",
      "14450/14450 - 1s - loss: 0.0997 - mean_squared_error: 0.0997 - val_loss: 0.0743 - val_mean_squared_error: 0.0743\n",
      "Epoch 3/3\n",
      "14450/14450 - 1s - loss: 0.0565 - mean_squared_error: 0.0565 - val_loss: 0.0424 - val_mean_squared_error: 0.0424\n"
     ]
    },
    {
     "data": {
      "text/html": [
       "<span style=\"color:#4527A0\"><h1 style=\"font-size:18px\">Trial complete</h1></span>"
      ],
      "text/plain": [
       "<IPython.core.display.HTML object>"
      ]
     },
     "metadata": {},
     "output_type": "display_data"
    },
    {
     "data": {
      "text/html": [
       "<span style=\"color:#4527A0\"><h1 style=\"font-size:18px\">Trial summary</h1></span>"
      ],
      "text/plain": [
       "<IPython.core.display.HTML object>"
      ]
     },
     "metadata": {},
     "output_type": "display_data"
    },
    {
     "data": {
      "text/html": [
       "<span style=\"color:cyan\"> |-Trial ID: b04cc53cf4fbab6d1e3d8965e2491b09</span>"
      ],
      "text/plain": [
       "<IPython.core.display.HTML object>"
      ]
     },
     "metadata": {},
     "output_type": "display_data"
    },
    {
     "data": {
      "text/html": [
       "<span style=\"color:cyan\"> |-Score: 0.056527383625507355</span>"
      ],
      "text/plain": [
       "<IPython.core.display.HTML object>"
      ]
     },
     "metadata": {},
     "output_type": "display_data"
    },
    {
     "data": {
      "text/html": [
       "<span style=\"color:cyan\"> |-Best step: 0</span>"
      ],
      "text/plain": [
       "<IPython.core.display.HTML object>"
      ]
     },
     "metadata": {},
     "output_type": "display_data"
    },
    {
     "data": {
      "text/html": [
       "<span style=\"color:#7E57C2\"><h2 style=\"font-size:16px\">Hyperparameters:</h2></span>"
      ],
      "text/plain": [
       "<IPython.core.display.HTML object>"
      ]
     },
     "metadata": {},
     "output_type": "display_data"
    },
    {
     "data": {
      "text/html": [
       "<span style=\"color:cyan\"> |-hidden_0_units: 260</span>"
      ],
      "text/plain": [
       "<IPython.core.display.HTML object>"
      ]
     },
     "metadata": {},
     "output_type": "display_data"
    },
    {
     "data": {
      "text/html": [
       "<span style=\"color:blue\"> |-hidden_1_units: 251</span>"
      ],
      "text/plain": [
       "<IPython.core.display.HTML object>"
      ]
     },
     "metadata": {},
     "output_type": "display_data"
    },
    {
     "data": {
      "text/html": [
       "<span style=\"color:cyan\"> |-learning_rate: 0.0001</span>"
      ],
      "text/plain": [
       "<IPython.core.display.HTML object>"
      ]
     },
     "metadata": {},
     "output_type": "display_data"
    },
    {
     "data": {
      "text/html": [
       "<span style=\"color:blue\"> |-n_layers: 1</span>"
      ],
      "text/plain": [
       "<IPython.core.display.HTML object>"
      ]
     },
     "metadata": {},
     "output_type": "display_data"
    },
    {
     "data": {
      "text/html": [
       "<span style=\"color:cyan\"> |-tuner/bracket: 2</span>"
      ],
      "text/plain": [
       "<IPython.core.display.HTML object>"
      ]
     },
     "metadata": {},
     "output_type": "display_data"
    },
    {
     "data": {
      "text/html": [
       "<span style=\"color:blue\"> |-tuner/epochs: 3</span>"
      ],
      "text/plain": [
       "<IPython.core.display.HTML object>"
      ]
     },
     "metadata": {},
     "output_type": "display_data"
    },
    {
     "data": {
      "text/html": [
       "<span style=\"color:cyan\"> |-tuner/initial_epoch: 0</span>"
      ],
      "text/plain": [
       "<IPython.core.display.HTML object>"
      ]
     },
     "metadata": {},
     "output_type": "display_data"
    },
    {
     "data": {
      "text/html": [
       "<span style=\"color:blue\"> |-tuner/round: 0</span>"
      ],
      "text/plain": [
       "<IPython.core.display.HTML object>"
      ]
     },
     "metadata": {},
     "output_type": "display_data"
    },
    {
     "name": "stdout",
     "output_type": "stream",
     "text": [
      "Train on 14450 samples, validate on 2550 samples\n",
      "Epoch 1/3\n",
      "14450/14450 - 2s - loss: 0.0061 - mean_squared_error: 0.0061 - val_loss: 0.0011 - val_mean_squared_error: 0.0011\n",
      "Epoch 2/3\n",
      "14450/14450 - 1s - loss: 0.0026 - mean_squared_error: 0.0026 - val_loss: 0.0173 - val_mean_squared_error: 0.0173\n",
      "Epoch 3/3\n",
      "14450/14450 - 1s - loss: 0.0945 - mean_squared_error: 0.0945 - val_loss: 0.0874 - val_mean_squared_error: 0.0874\n"
     ]
    },
    {
     "data": {
      "text/html": [
       "<span style=\"color:#4527A0\"><h1 style=\"font-size:18px\">Trial complete</h1></span>"
      ],
      "text/plain": [
       "<IPython.core.display.HTML object>"
      ]
     },
     "metadata": {},
     "output_type": "display_data"
    },
    {
     "data": {
      "text/html": [
       "<span style=\"color:#4527A0\"><h1 style=\"font-size:18px\">Trial summary</h1></span>"
      ],
      "text/plain": [
       "<IPython.core.display.HTML object>"
      ]
     },
     "metadata": {},
     "output_type": "display_data"
    },
    {
     "data": {
      "text/html": [
       "<span style=\"color:cyan\"> |-Trial ID: eb2076ac4784538a511bbcbb896d98f8</span>"
      ],
      "text/plain": [
       "<IPython.core.display.HTML object>"
      ]
     },
     "metadata": {},
     "output_type": "display_data"
    },
    {
     "data": {
      "text/html": [
       "<span style=\"color:cyan\"> |-Score: 0.0025924465153366327</span>"
      ],
      "text/plain": [
       "<IPython.core.display.HTML object>"
      ]
     },
     "metadata": {},
     "output_type": "display_data"
    },
    {
     "data": {
      "text/html": [
       "<span style=\"color:cyan\"> |-Best step: 0</span>"
      ],
      "text/plain": [
       "<IPython.core.display.HTML object>"
      ]
     },
     "metadata": {},
     "output_type": "display_data"
    },
    {
     "data": {
      "text/html": [
       "<span style=\"color:#7E57C2\"><h2 style=\"font-size:16px\">Hyperparameters:</h2></span>"
      ],
      "text/plain": [
       "<IPython.core.display.HTML object>"
      ]
     },
     "metadata": {},
     "output_type": "display_data"
    },
    {
     "data": {
      "text/html": [
       "<span style=\"color:cyan\"> |-hidden_0_units: 81</span>"
      ],
      "text/plain": [
       "<IPython.core.display.HTML object>"
      ]
     },
     "metadata": {},
     "output_type": "display_data"
    },
    {
     "data": {
      "text/html": [
       "<span style=\"color:blue\"> |-hidden_1_units: 257</span>"
      ],
      "text/plain": [
       "<IPython.core.display.HTML object>"
      ]
     },
     "metadata": {},
     "output_type": "display_data"
    },
    {
     "data": {
      "text/html": [
       "<span style=\"color:cyan\"> |-learning_rate: 0.01</span>"
      ],
      "text/plain": [
       "<IPython.core.display.HTML object>"
      ]
     },
     "metadata": {},
     "output_type": "display_data"
    },
    {
     "data": {
      "text/html": [
       "<span style=\"color:blue\"> |-n_layers: 2</span>"
      ],
      "text/plain": [
       "<IPython.core.display.HTML object>"
      ]
     },
     "metadata": {},
     "output_type": "display_data"
    },
    {
     "data": {
      "text/html": [
       "<span style=\"color:cyan\"> |-tuner/bracket: 2</span>"
      ],
      "text/plain": [
       "<IPython.core.display.HTML object>"
      ]
     },
     "metadata": {},
     "output_type": "display_data"
    },
    {
     "data": {
      "text/html": [
       "<span style=\"color:blue\"> |-tuner/epochs: 3</span>"
      ],
      "text/plain": [
       "<IPython.core.display.HTML object>"
      ]
     },
     "metadata": {},
     "output_type": "display_data"
    },
    {
     "data": {
      "text/html": [
       "<span style=\"color:cyan\"> |-tuner/initial_epoch: 0</span>"
      ],
      "text/plain": [
       "<IPython.core.display.HTML object>"
      ]
     },
     "metadata": {},
     "output_type": "display_data"
    },
    {
     "data": {
      "text/html": [
       "<span style=\"color:blue\"> |-tuner/round: 0</span>"
      ],
      "text/plain": [
       "<IPython.core.display.HTML object>"
      ]
     },
     "metadata": {},
     "output_type": "display_data"
    },
    {
     "name": "stdout",
     "output_type": "stream",
     "text": [
      "Train on 14450 samples, validate on 2550 samples\n",
      "Epoch 1/3\n",
      "14450/14450 - 2s - loss: 0.1570 - mean_squared_error: 0.1570 - val_loss: 0.1185 - val_mean_squared_error: 0.1185\n",
      "Epoch 2/3\n",
      "14450/14450 - 1s - loss: 0.0887 - mean_squared_error: 0.0887 - val_loss: 0.0673 - val_mean_squared_error: 0.0673\n",
      "Epoch 3/3\n",
      "14450/14450 - 1s - loss: 0.0526 - mean_squared_error: 0.0526 - val_loss: 0.0406 - val_mean_squared_error: 0.0406\n"
     ]
    },
    {
     "data": {
      "text/html": [
       "<span style=\"color:#4527A0\"><h1 style=\"font-size:18px\">Trial complete</h1></span>"
      ],
      "text/plain": [
       "<IPython.core.display.HTML object>"
      ]
     },
     "metadata": {},
     "output_type": "display_data"
    },
    {
     "data": {
      "text/html": [
       "<span style=\"color:#4527A0\"><h1 style=\"font-size:18px\">Trial summary</h1></span>"
      ],
      "text/plain": [
       "<IPython.core.display.HTML object>"
      ]
     },
     "metadata": {},
     "output_type": "display_data"
    },
    {
     "data": {
      "text/html": [
       "<span style=\"color:cyan\"> |-Trial ID: e9d371c3febb177674193987de4b215e</span>"
      ],
      "text/plain": [
       "<IPython.core.display.HTML object>"
      ]
     },
     "metadata": {},
     "output_type": "display_data"
    },
    {
     "data": {
      "text/html": [
       "<span style=\"color:cyan\"> |-Score: 0.05259675532579422</span>"
      ],
      "text/plain": [
       "<IPython.core.display.HTML object>"
      ]
     },
     "metadata": {},
     "output_type": "display_data"
    },
    {
     "data": {
      "text/html": [
       "<span style=\"color:cyan\"> |-Best step: 0</span>"
      ],
      "text/plain": [
       "<IPython.core.display.HTML object>"
      ]
     },
     "metadata": {},
     "output_type": "display_data"
    },
    {
     "data": {
      "text/html": [
       "<span style=\"color:#7E57C2\"><h2 style=\"font-size:16px\">Hyperparameters:</h2></span>"
      ],
      "text/plain": [
       "<IPython.core.display.HTML object>"
      ]
     },
     "metadata": {},
     "output_type": "display_data"
    },
    {
     "data": {
      "text/html": [
       "<span style=\"color:cyan\"> |-hidden_0_units: 64</span>"
      ],
      "text/plain": [
       "<IPython.core.display.HTML object>"
      ]
     },
     "metadata": {},
     "output_type": "display_data"
    },
    {
     "data": {
      "text/html": [
       "<span style=\"color:blue\"> |-hidden_1_units: 188</span>"
      ],
      "text/plain": [
       "<IPython.core.display.HTML object>"
      ]
     },
     "metadata": {},
     "output_type": "display_data"
    },
    {
     "data": {
      "text/html": [
       "<span style=\"color:cyan\"> |-learning_rate: 0.0001</span>"
      ],
      "text/plain": [
       "<IPython.core.display.HTML object>"
      ]
     },
     "metadata": {},
     "output_type": "display_data"
    },
    {
     "data": {
      "text/html": [
       "<span style=\"color:blue\"> |-n_layers: 2</span>"
      ],
      "text/plain": [
       "<IPython.core.display.HTML object>"
      ]
     },
     "metadata": {},
     "output_type": "display_data"
    },
    {
     "data": {
      "text/html": [
       "<span style=\"color:cyan\"> |-tuner/bracket: 2</span>"
      ],
      "text/plain": [
       "<IPython.core.display.HTML object>"
      ]
     },
     "metadata": {},
     "output_type": "display_data"
    },
    {
     "data": {
      "text/html": [
       "<span style=\"color:blue\"> |-tuner/epochs: 3</span>"
      ],
      "text/plain": [
       "<IPython.core.display.HTML object>"
      ]
     },
     "metadata": {},
     "output_type": "display_data"
    },
    {
     "data": {
      "text/html": [
       "<span style=\"color:cyan\"> |-tuner/initial_epoch: 0</span>"
      ],
      "text/plain": [
       "<IPython.core.display.HTML object>"
      ]
     },
     "metadata": {},
     "output_type": "display_data"
    },
    {
     "data": {
      "text/html": [
       "<span style=\"color:blue\"> |-tuner/round: 0</span>"
      ],
      "text/plain": [
       "<IPython.core.display.HTML object>"
      ]
     },
     "metadata": {},
     "output_type": "display_data"
    },
    {
     "name": "stdout",
     "output_type": "stream",
     "text": [
      "Train on 14450 samples, validate on 2550 samples\n",
      "Epoch 1/3\n",
      "14450/14450 - 2s - loss: 0.0786 - mean_squared_error: 0.0786 - val_loss: 0.0175 - val_mean_squared_error: 0.0175\n",
      "Epoch 2/3\n",
      "14450/14450 - 1s - loss: 0.0066 - mean_squared_error: 0.0066 - val_loss: 0.0022 - val_mean_squared_error: 0.0022\n",
      "Epoch 3/3\n",
      "14450/14450 - 1s - loss: 0.0013 - mean_squared_error: 0.0013 - val_loss: 8.5192e-04 - val_mean_squared_error: 8.5192e-04\n"
     ]
    },
    {
     "data": {
      "text/html": [
       "<span style=\"color:#4527A0\"><h1 style=\"font-size:18px\">Trial complete</h1></span>"
      ],
      "text/plain": [
       "<IPython.core.display.HTML object>"
      ]
     },
     "metadata": {},
     "output_type": "display_data"
    },
    {
     "data": {
      "text/html": [
       "<span style=\"color:#4527A0\"><h1 style=\"font-size:18px\">Trial summary</h1></span>"
      ],
      "text/plain": [
       "<IPython.core.display.HTML object>"
      ]
     },
     "metadata": {},
     "output_type": "display_data"
    },
    {
     "data": {
      "text/html": [
       "<span style=\"color:cyan\"> |-Trial ID: b2077caa7ff659bdb4480b48f4e05c78</span>"
      ],
      "text/plain": [
       "<IPython.core.display.HTML object>"
      ]
     },
     "metadata": {},
     "output_type": "display_data"
    },
    {
     "data": {
      "text/html": [
       "<span style=\"color:cyan\"> |-Score: 0.0013286523753777146</span>"
      ],
      "text/plain": [
       "<IPython.core.display.HTML object>"
      ]
     },
     "metadata": {},
     "output_type": "display_data"
    },
    {
     "data": {
      "text/html": [
       "<span style=\"color:cyan\"> |-Best step: 0</span>"
      ],
      "text/plain": [
       "<IPython.core.display.HTML object>"
      ]
     },
     "metadata": {},
     "output_type": "display_data"
    },
    {
     "data": {
      "text/html": [
       "<span style=\"color:#7E57C2\"><h2 style=\"font-size:16px\">Hyperparameters:</h2></span>"
      ],
      "text/plain": [
       "<IPython.core.display.HTML object>"
      ]
     },
     "metadata": {},
     "output_type": "display_data"
    },
    {
     "data": {
      "text/html": [
       "<span style=\"color:cyan\"> |-hidden_0_units: 84</span>"
      ],
      "text/plain": [
       "<IPython.core.display.HTML object>"
      ]
     },
     "metadata": {},
     "output_type": "display_data"
    },
    {
     "data": {
      "text/html": [
       "<span style=\"color:blue\"> |-hidden_1_units: 277</span>"
      ],
      "text/plain": [
       "<IPython.core.display.HTML object>"
      ]
     },
     "metadata": {},
     "output_type": "display_data"
    },
    {
     "data": {
      "text/html": [
       "<span style=\"color:cyan\"> |-learning_rate: 0.001</span>"
      ],
      "text/plain": [
       "<IPython.core.display.HTML object>"
      ]
     },
     "metadata": {},
     "output_type": "display_data"
    },
    {
     "data": {
      "text/html": [
       "<span style=\"color:blue\"> |-n_layers: 1</span>"
      ],
      "text/plain": [
       "<IPython.core.display.HTML object>"
      ]
     },
     "metadata": {},
     "output_type": "display_data"
    },
    {
     "data": {
      "text/html": [
       "<span style=\"color:cyan\"> |-tuner/bracket: 2</span>"
      ],
      "text/plain": [
       "<IPython.core.display.HTML object>"
      ]
     },
     "metadata": {},
     "output_type": "display_data"
    },
    {
     "data": {
      "text/html": [
       "<span style=\"color:blue\"> |-tuner/epochs: 3</span>"
      ],
      "text/plain": [
       "<IPython.core.display.HTML object>"
      ]
     },
     "metadata": {},
     "output_type": "display_data"
    },
    {
     "data": {
      "text/html": [
       "<span style=\"color:cyan\"> |-tuner/initial_epoch: 0</span>"
      ],
      "text/plain": [
       "<IPython.core.display.HTML object>"
      ]
     },
     "metadata": {},
     "output_type": "display_data"
    },
    {
     "data": {
      "text/html": [
       "<span style=\"color:blue\"> |-tuner/round: 0</span>"
      ],
      "text/plain": [
       "<IPython.core.display.HTML object>"
      ]
     },
     "metadata": {},
     "output_type": "display_data"
    },
    {
     "name": "stdout",
     "output_type": "stream",
     "text": [
      "Train on 14450 samples, validate on 2550 samples\n",
      "Epoch 1/3\n",
      "14450/14450 - 2s - loss: 0.0706 - mean_squared_error: 0.0706 - val_loss: 0.0652 - val_mean_squared_error: 0.0652\n",
      "Epoch 2/3\n",
      "14450/14450 - 1s - loss: 0.0639 - mean_squared_error: 0.0639 - val_loss: 0.0652 - val_mean_squared_error: 0.0652\n",
      "Epoch 3/3\n",
      "14450/14450 - 1s - loss: 0.0626 - mean_squared_error: 0.0626 - val_loss: 0.0631 - val_mean_squared_error: 0.0631\n"
     ]
    },
    {
     "data": {
      "text/html": [
       "<span style=\"color:#4527A0\"><h1 style=\"font-size:18px\">Trial complete</h1></span>"
      ],
      "text/plain": [
       "<IPython.core.display.HTML object>"
      ]
     },
     "metadata": {},
     "output_type": "display_data"
    },
    {
     "data": {
      "text/html": [
       "<span style=\"color:#4527A0\"><h1 style=\"font-size:18px\">Trial summary</h1></span>"
      ],
      "text/plain": [
       "<IPython.core.display.HTML object>"
      ]
     },
     "metadata": {},
     "output_type": "display_data"
    },
    {
     "data": {
      "text/html": [
       "<span style=\"color:cyan\"> |-Trial ID: edbb2d78c65ddba75c0cc2a20140bf20</span>"
      ],
      "text/plain": [
       "<IPython.core.display.HTML object>"
      ]
     },
     "metadata": {},
     "output_type": "display_data"
    },
    {
     "data": {
      "text/html": [
       "<span style=\"color:cyan\"> |-Score: 0.0625586286187172</span>"
      ],
      "text/plain": [
       "<IPython.core.display.HTML object>"
      ]
     },
     "metadata": {},
     "output_type": "display_data"
    },
    {
     "data": {
      "text/html": [
       "<span style=\"color:cyan\"> |-Best step: 0</span>"
      ],
      "text/plain": [
       "<IPython.core.display.HTML object>"
      ]
     },
     "metadata": {},
     "output_type": "display_data"
    },
    {
     "data": {
      "text/html": [
       "<span style=\"color:#7E57C2\"><h2 style=\"font-size:16px\">Hyperparameters:</h2></span>"
      ],
      "text/plain": [
       "<IPython.core.display.HTML object>"
      ]
     },
     "metadata": {},
     "output_type": "display_data"
    },
    {
     "data": {
      "text/html": [
       "<span style=\"color:cyan\"> |-hidden_0_units: 18</span>"
      ],
      "text/plain": [
       "<IPython.core.display.HTML object>"
      ]
     },
     "metadata": {},
     "output_type": "display_data"
    },
    {
     "data": {
      "text/html": [
       "<span style=\"color:blue\"> |-hidden_1_units: 99</span>"
      ],
      "text/plain": [
       "<IPython.core.display.HTML object>"
      ]
     },
     "metadata": {},
     "output_type": "display_data"
    },
    {
     "data": {
      "text/html": [
       "<span style=\"color:cyan\"> |-learning_rate: 0.01</span>"
      ],
      "text/plain": [
       "<IPython.core.display.HTML object>"
      ]
     },
     "metadata": {},
     "output_type": "display_data"
    },
    {
     "data": {
      "text/html": [
       "<span style=\"color:blue\"> |-n_layers: 2</span>"
      ],
      "text/plain": [
       "<IPython.core.display.HTML object>"
      ]
     },
     "metadata": {},
     "output_type": "display_data"
    },
    {
     "data": {
      "text/html": [
       "<span style=\"color:cyan\"> |-tuner/bracket: 2</span>"
      ],
      "text/plain": [
       "<IPython.core.display.HTML object>"
      ]
     },
     "metadata": {},
     "output_type": "display_data"
    },
    {
     "data": {
      "text/html": [
       "<span style=\"color:blue\"> |-tuner/epochs: 3</span>"
      ],
      "text/plain": [
       "<IPython.core.display.HTML object>"
      ]
     },
     "metadata": {},
     "output_type": "display_data"
    },
    {
     "data": {
      "text/html": [
       "<span style=\"color:cyan\"> |-tuner/initial_epoch: 0</span>"
      ],
      "text/plain": [
       "<IPython.core.display.HTML object>"
      ]
     },
     "metadata": {},
     "output_type": "display_data"
    },
    {
     "data": {
      "text/html": [
       "<span style=\"color:blue\"> |-tuner/round: 0</span>"
      ],
      "text/plain": [
       "<IPython.core.display.HTML object>"
      ]
     },
     "metadata": {},
     "output_type": "display_data"
    },
    {
     "name": "stdout",
     "output_type": "stream",
     "text": [
      "Train on 14450 samples, validate on 2550 samples\n",
      "Epoch 1/3\n",
      "14450/14450 - 2s - loss: 0.0129 - mean_squared_error: 0.0129 - val_loss: 4.2720e-04 - val_mean_squared_error: 4.2720e-04\n",
      "Epoch 2/3\n",
      "14450/14450 - 1s - loss: 4.7995e-04 - mean_squared_error: 4.7996e-04 - val_loss: 3.7189e-04 - val_mean_squared_error: 3.7189e-04\n",
      "Epoch 3/3\n",
      "14450/14450 - 1s - loss: 4.9394e-04 - mean_squared_error: 4.9394e-04 - val_loss: 5.3620e-04 - val_mean_squared_error: 5.3620e-04\n"
     ]
    },
    {
     "data": {
      "text/html": [
       "<span style=\"color:#4527A0\"><h1 style=\"font-size:18px\">Trial complete</h1></span>"
      ],
      "text/plain": [
       "<IPython.core.display.HTML object>"
      ]
     },
     "metadata": {},
     "output_type": "display_data"
    },
    {
     "data": {
      "text/html": [
       "<span style=\"color:#4527A0\"><h1 style=\"font-size:18px\">Trial summary</h1></span>"
      ],
      "text/plain": [
       "<IPython.core.display.HTML object>"
      ]
     },
     "metadata": {},
     "output_type": "display_data"
    },
    {
     "data": {
      "text/html": [
       "<span style=\"color:cyan\"> |-Trial ID: 903a4bdb254abe9f8b54a755420b5f28</span>"
      ],
      "text/plain": [
       "<IPython.core.display.HTML object>"
      ]
     },
     "metadata": {},
     "output_type": "display_data"
    },
    {
     "data": {
      "text/html": [
       "<span style=\"color:cyan\"> |-Score: 0.0004799550515599549</span>"
      ],
      "text/plain": [
       "<IPython.core.display.HTML object>"
      ]
     },
     "metadata": {},
     "output_type": "display_data"
    },
    {
     "data": {
      "text/html": [
       "<span style=\"color:cyan\"> |-Best step: 0</span>"
      ],
      "text/plain": [
       "<IPython.core.display.HTML object>"
      ]
     },
     "metadata": {},
     "output_type": "display_data"
    },
    {
     "data": {
      "text/html": [
       "<span style=\"color:#7E57C2\"><h2 style=\"font-size:16px\">Hyperparameters:</h2></span>"
      ],
      "text/plain": [
       "<IPython.core.display.HTML object>"
      ]
     },
     "metadata": {},
     "output_type": "display_data"
    },
    {
     "data": {
      "text/html": [
       "<span style=\"color:cyan\"> |-hidden_0_units: 61</span>"
      ],
      "text/plain": [
       "<IPython.core.display.HTML object>"
      ]
     },
     "metadata": {},
     "output_type": "display_data"
    },
    {
     "data": {
      "text/html": [
       "<span style=\"color:blue\"> |-hidden_1_units: 247</span>"
      ],
      "text/plain": [
       "<IPython.core.display.HTML object>"
      ]
     },
     "metadata": {},
     "output_type": "display_data"
    },
    {
     "data": {
      "text/html": [
       "<span style=\"color:cyan\"> |-learning_rate: 0.01</span>"
      ],
      "text/plain": [
       "<IPython.core.display.HTML object>"
      ]
     },
     "metadata": {},
     "output_type": "display_data"
    },
    {
     "data": {
      "text/html": [
       "<span style=\"color:blue\"> |-n_layers: 1</span>"
      ],
      "text/plain": [
       "<IPython.core.display.HTML object>"
      ]
     },
     "metadata": {},
     "output_type": "display_data"
    },
    {
     "data": {
      "text/html": [
       "<span style=\"color:cyan\"> |-tuner/bracket: 2</span>"
      ],
      "text/plain": [
       "<IPython.core.display.HTML object>"
      ]
     },
     "metadata": {},
     "output_type": "display_data"
    },
    {
     "data": {
      "text/html": [
       "<span style=\"color:blue\"> |-tuner/epochs: 3</span>"
      ],
      "text/plain": [
       "<IPython.core.display.HTML object>"
      ]
     },
     "metadata": {},
     "output_type": "display_data"
    },
    {
     "data": {
      "text/html": [
       "<span style=\"color:cyan\"> |-tuner/initial_epoch: 0</span>"
      ],
      "text/plain": [
       "<IPython.core.display.HTML object>"
      ]
     },
     "metadata": {},
     "output_type": "display_data"
    },
    {
     "data": {
      "text/html": [
       "<span style=\"color:blue\"> |-tuner/round: 0</span>"
      ],
      "text/plain": [
       "<IPython.core.display.HTML object>"
      ]
     },
     "metadata": {},
     "output_type": "display_data"
    },
    {
     "name": "stdout",
     "output_type": "stream",
     "text": [
      "Train on 14450 samples, validate on 2550 samples\n",
      "Epoch 1/3\n",
      "14450/14450 - 2s - loss: 0.0064 - mean_squared_error: 0.0064 - val_loss: 9.9406e-04 - val_mean_squared_error: 9.9406e-04\n",
      "Epoch 2/3\n",
      "14450/14450 - 1s - loss: 7.1455e-04 - mean_squared_error: 7.1455e-04 - val_loss: 0.0019 - val_mean_squared_error: 0.0019\n",
      "Epoch 3/3\n",
      "14450/14450 - 1s - loss: 7.4552e-04 - mean_squared_error: 7.4552e-04 - val_loss: 0.0011 - val_mean_squared_error: 0.0011\n"
     ]
    },
    {
     "data": {
      "text/html": [
       "<span style=\"color:#4527A0\"><h1 style=\"font-size:18px\">Trial complete</h1></span>"
      ],
      "text/plain": [
       "<IPython.core.display.HTML object>"
      ]
     },
     "metadata": {},
     "output_type": "display_data"
    },
    {
     "data": {
      "text/html": [
       "<span style=\"color:#4527A0\"><h1 style=\"font-size:18px\">Trial summary</h1></span>"
      ],
      "text/plain": [
       "<IPython.core.display.HTML object>"
      ]
     },
     "metadata": {},
     "output_type": "display_data"
    },
    {
     "data": {
      "text/html": [
       "<span style=\"color:cyan\"> |-Trial ID: 430085399b55e16ccc5df7ac20ac9dfb</span>"
      ],
      "text/plain": [
       "<IPython.core.display.HTML object>"
      ]
     },
     "metadata": {},
     "output_type": "display_data"
    },
    {
     "data": {
      "text/html": [
       "<span style=\"color:cyan\"> |-Score: 0.0007145467679947615</span>"
      ],
      "text/plain": [
       "<IPython.core.display.HTML object>"
      ]
     },
     "metadata": {},
     "output_type": "display_data"
    },
    {
     "data": {
      "text/html": [
       "<span style=\"color:cyan\"> |-Best step: 0</span>"
      ],
      "text/plain": [
       "<IPython.core.display.HTML object>"
      ]
     },
     "metadata": {},
     "output_type": "display_data"
    },
    {
     "data": {
      "text/html": [
       "<span style=\"color:#7E57C2\"><h2 style=\"font-size:16px\">Hyperparameters:</h2></span>"
      ],
      "text/plain": [
       "<IPython.core.display.HTML object>"
      ]
     },
     "metadata": {},
     "output_type": "display_data"
    },
    {
     "data": {
      "text/html": [
       "<span style=\"color:cyan\"> |-hidden_0_units: 300</span>"
      ],
      "text/plain": [
       "<IPython.core.display.HTML object>"
      ]
     },
     "metadata": {},
     "output_type": "display_data"
    },
    {
     "data": {
      "text/html": [
       "<span style=\"color:blue\"> |-hidden_1_units: 43</span>"
      ],
      "text/plain": [
       "<IPython.core.display.HTML object>"
      ]
     },
     "metadata": {},
     "output_type": "display_data"
    },
    {
     "data": {
      "text/html": [
       "<span style=\"color:cyan\"> |-learning_rate: 0.01</span>"
      ],
      "text/plain": [
       "<IPython.core.display.HTML object>"
      ]
     },
     "metadata": {},
     "output_type": "display_data"
    },
    {
     "data": {
      "text/html": [
       "<span style=\"color:blue\"> |-n_layers: 1</span>"
      ],
      "text/plain": [
       "<IPython.core.display.HTML object>"
      ]
     },
     "metadata": {},
     "output_type": "display_data"
    },
    {
     "data": {
      "text/html": [
       "<span style=\"color:cyan\"> |-tuner/bracket: 2</span>"
      ],
      "text/plain": [
       "<IPython.core.display.HTML object>"
      ]
     },
     "metadata": {},
     "output_type": "display_data"
    },
    {
     "data": {
      "text/html": [
       "<span style=\"color:blue\"> |-tuner/epochs: 3</span>"
      ],
      "text/plain": [
       "<IPython.core.display.HTML object>"
      ]
     },
     "metadata": {},
     "output_type": "display_data"
    },
    {
     "data": {
      "text/html": [
       "<span style=\"color:cyan\"> |-tuner/initial_epoch: 0</span>"
      ],
      "text/plain": [
       "<IPython.core.display.HTML object>"
      ]
     },
     "metadata": {},
     "output_type": "display_data"
    },
    {
     "data": {
      "text/html": [
       "<span style=\"color:blue\"> |-tuner/round: 0</span>"
      ],
      "text/plain": [
       "<IPython.core.display.HTML object>"
      ]
     },
     "metadata": {},
     "output_type": "display_data"
    },
    {
     "name": "stdout",
     "output_type": "stream",
     "text": [
      "Train on 14450 samples, validate on 2550 samples\n",
      "Epoch 4/9\n",
      "14450/14450 - 2s - loss: 0.0134 - mean_squared_error: 0.0134 - val_loss: 0.0018 - val_mean_squared_error: 0.0018\n",
      "Epoch 5/9\n",
      "14450/14450 - 1s - loss: 5.8713e-04 - mean_squared_error: 5.8713e-04 - val_loss: 4.9902e-04 - val_mean_squared_error: 4.9902e-04\n",
      "Epoch 6/9\n",
      "14450/14450 - 1s - loss: 5.6925e-04 - mean_squared_error: 5.6925e-04 - val_loss: 5.1198e-04 - val_mean_squared_error: 5.1198e-04\n",
      "Epoch 7/9\n",
      "14450/14450 - 1s - loss: 4.6006e-04 - mean_squared_error: 4.6006e-04 - val_loss: 6.0089e-04 - val_mean_squared_error: 6.0089e-04\n",
      "Epoch 8/9\n",
      "14450/14450 - 1s - loss: 4.8915e-04 - mean_squared_error: 4.8915e-04 - val_loss: 5.7487e-04 - val_mean_squared_error: 5.7487e-04\n",
      "Epoch 9/9\n",
      "14450/14450 - 1s - loss: 5.0396e-04 - mean_squared_error: 5.0396e-04 - val_loss: 4.4877e-04 - val_mean_squared_error: 4.4877e-04\n"
     ]
    },
    {
     "data": {
      "text/html": [
       "<span style=\"color:#4527A0\"><h1 style=\"font-size:18px\">Trial complete</h1></span>"
      ],
      "text/plain": [
       "<IPython.core.display.HTML object>"
      ]
     },
     "metadata": {},
     "output_type": "display_data"
    },
    {
     "data": {
      "text/html": [
       "<span style=\"color:#4527A0\"><h1 style=\"font-size:18px\">Trial summary</h1></span>"
      ],
      "text/plain": [
       "<IPython.core.display.HTML object>"
      ]
     },
     "metadata": {},
     "output_type": "display_data"
    },
    {
     "data": {
      "text/html": [
       "<span style=\"color:cyan\"> |-Trial ID: 0f58b7fa7ef6a52d8f1dcc12c342963b</span>"
      ],
      "text/plain": [
       "<IPython.core.display.HTML object>"
      ]
     },
     "metadata": {},
     "output_type": "display_data"
    },
    {
     "data": {
      "text/html": [
       "<span style=\"color:cyan\"> |-Score: 0.0004600642714649439</span>"
      ],
      "text/plain": [
       "<IPython.core.display.HTML object>"
      ]
     },
     "metadata": {},
     "output_type": "display_data"
    },
    {
     "data": {
      "text/html": [
       "<span style=\"color:cyan\"> |-Best step: 0</span>"
      ],
      "text/plain": [
       "<IPython.core.display.HTML object>"
      ]
     },
     "metadata": {},
     "output_type": "display_data"
    },
    {
     "data": {
      "text/html": [
       "<span style=\"color:#7E57C2\"><h2 style=\"font-size:16px\">Hyperparameters:</h2></span>"
      ],
      "text/plain": [
       "<IPython.core.display.HTML object>"
      ]
     },
     "metadata": {},
     "output_type": "display_data"
    },
    {
     "data": {
      "text/html": [
       "<span style=\"color:cyan\"> |-hidden_0_units: 61</span>"
      ],
      "text/plain": [
       "<IPython.core.display.HTML object>"
      ]
     },
     "metadata": {},
     "output_type": "display_data"
    },
    {
     "data": {
      "text/html": [
       "<span style=\"color:blue\"> |-hidden_1_units: 247</span>"
      ],
      "text/plain": [
       "<IPython.core.display.HTML object>"
      ]
     },
     "metadata": {},
     "output_type": "display_data"
    },
    {
     "data": {
      "text/html": [
       "<span style=\"color:cyan\"> |-learning_rate: 0.01</span>"
      ],
      "text/plain": [
       "<IPython.core.display.HTML object>"
      ]
     },
     "metadata": {},
     "output_type": "display_data"
    },
    {
     "data": {
      "text/html": [
       "<span style=\"color:blue\"> |-n_layers: 1</span>"
      ],
      "text/plain": [
       "<IPython.core.display.HTML object>"
      ]
     },
     "metadata": {},
     "output_type": "display_data"
    },
    {
     "data": {
      "text/html": [
       "<span style=\"color:cyan\"> |-tuner/bracket: 2</span>"
      ],
      "text/plain": [
       "<IPython.core.display.HTML object>"
      ]
     },
     "metadata": {},
     "output_type": "display_data"
    },
    {
     "data": {
      "text/html": [
       "<span style=\"color:blue\"> |-tuner/epochs: 9</span>"
      ],
      "text/plain": [
       "<IPython.core.display.HTML object>"
      ]
     },
     "metadata": {},
     "output_type": "display_data"
    },
    {
     "data": {
      "text/html": [
       "<span style=\"color:cyan\"> |-tuner/initial_epoch: 3</span>"
      ],
      "text/plain": [
       "<IPython.core.display.HTML object>"
      ]
     },
     "metadata": {},
     "output_type": "display_data"
    },
    {
     "data": {
      "text/html": [
       "<span style=\"color:blue\"> |-tuner/round: 1</span>"
      ],
      "text/plain": [
       "<IPython.core.display.HTML object>"
      ]
     },
     "metadata": {},
     "output_type": "display_data"
    },
    {
     "data": {
      "text/html": [
       "<span style=\"color:cyan\"> |-tuner/trial_id: 903a4bdb254abe9f8b54a755420b5f28</span>"
      ],
      "text/plain": [
       "<IPython.core.display.HTML object>"
      ]
     },
     "metadata": {},
     "output_type": "display_data"
    },
    {
     "name": "stdout",
     "output_type": "stream",
     "text": [
      "Train on 14450 samples, validate on 2550 samples\n",
      "Epoch 4/9\n",
      "14450/14450 - 2s - loss: 0.0064 - mean_squared_error: 0.0064 - val_loss: 4.9174e-04 - val_mean_squared_error: 4.9174e-04\n",
      "Epoch 5/9\n",
      "14450/14450 - 1s - loss: 7.9938e-04 - mean_squared_error: 7.9938e-04 - val_loss: 4.6701e-04 - val_mean_squared_error: 4.6701e-04\n",
      "Epoch 6/9\n",
      "14450/14450 - 1s - loss: 7.4024e-04 - mean_squared_error: 7.4024e-04 - val_loss: 8.2953e-04 - val_mean_squared_error: 8.2953e-04\n",
      "Epoch 7/9\n",
      "14450/14450 - 1s - loss: 9.0957e-04 - mean_squared_error: 9.0957e-04 - val_loss: 9.9453e-04 - val_mean_squared_error: 9.9453e-04\n",
      "Epoch 8/9\n",
      "14450/14450 - 1s - loss: 0.0010 - mean_squared_error: 0.0010 - val_loss: 0.0015 - val_mean_squared_error: 0.0015\n",
      "Epoch 9/9\n",
      "14450/14450 - 1s - loss: 0.0017 - mean_squared_error: 0.0017 - val_loss: 0.0021 - val_mean_squared_error: 0.0021\n"
     ]
    },
    {
     "data": {
      "text/html": [
       "<span style=\"color:#4527A0\"><h1 style=\"font-size:18px\">Trial complete</h1></span>"
      ],
      "text/plain": [
       "<IPython.core.display.HTML object>"
      ]
     },
     "metadata": {},
     "output_type": "display_data"
    },
    {
     "data": {
      "text/html": [
       "<span style=\"color:#4527A0\"><h1 style=\"font-size:18px\">Trial summary</h1></span>"
      ],
      "text/plain": [
       "<IPython.core.display.HTML object>"
      ]
     },
     "metadata": {},
     "output_type": "display_data"
    },
    {
     "data": {
      "text/html": [
       "<span style=\"color:cyan\"> |-Trial ID: 959ea9b73adda60b74b29f025fec1f23</span>"
      ],
      "text/plain": [
       "<IPython.core.display.HTML object>"
      ]
     },
     "metadata": {},
     "output_type": "display_data"
    },
    {
     "data": {
      "text/html": [
       "<span style=\"color:cyan\"> |-Score: 0.000740236893761903</span>"
      ],
      "text/plain": [
       "<IPython.core.display.HTML object>"
      ]
     },
     "metadata": {},
     "output_type": "display_data"
    },
    {
     "data": {
      "text/html": [
       "<span style=\"color:cyan\"> |-Best step: 0</span>"
      ],
      "text/plain": [
       "<IPython.core.display.HTML object>"
      ]
     },
     "metadata": {},
     "output_type": "display_data"
    },
    {
     "data": {
      "text/html": [
       "<span style=\"color:#7E57C2\"><h2 style=\"font-size:16px\">Hyperparameters:</h2></span>"
      ],
      "text/plain": [
       "<IPython.core.display.HTML object>"
      ]
     },
     "metadata": {},
     "output_type": "display_data"
    },
    {
     "data": {
      "text/html": [
       "<span style=\"color:cyan\"> |-hidden_0_units: 250</span>"
      ],
      "text/plain": [
       "<IPython.core.display.HTML object>"
      ]
     },
     "metadata": {},
     "output_type": "display_data"
    },
    {
     "data": {
      "text/html": [
       "<span style=\"color:blue\"> |-learning_rate: 0.01</span>"
      ],
      "text/plain": [
       "<IPython.core.display.HTML object>"
      ]
     },
     "metadata": {},
     "output_type": "display_data"
    },
    {
     "data": {
      "text/html": [
       "<span style=\"color:cyan\"> |-n_layers: 1</span>"
      ],
      "text/plain": [
       "<IPython.core.display.HTML object>"
      ]
     },
     "metadata": {},
     "output_type": "display_data"
    },
    {
     "data": {
      "text/html": [
       "<span style=\"color:blue\"> |-tuner/bracket: 2</span>"
      ],
      "text/plain": [
       "<IPython.core.display.HTML object>"
      ]
     },
     "metadata": {},
     "output_type": "display_data"
    },
    {
     "data": {
      "text/html": [
       "<span style=\"color:cyan\"> |-tuner/epochs: 9</span>"
      ],
      "text/plain": [
       "<IPython.core.display.HTML object>"
      ]
     },
     "metadata": {},
     "output_type": "display_data"
    },
    {
     "data": {
      "text/html": [
       "<span style=\"color:blue\"> |-tuner/initial_epoch: 3</span>"
      ],
      "text/plain": [
       "<IPython.core.display.HTML object>"
      ]
     },
     "metadata": {},
     "output_type": "display_data"
    },
    {
     "data": {
      "text/html": [
       "<span style=\"color:cyan\"> |-tuner/round: 1</span>"
      ],
      "text/plain": [
       "<IPython.core.display.HTML object>"
      ]
     },
     "metadata": {},
     "output_type": "display_data"
    },
    {
     "data": {
      "text/html": [
       "<span style=\"color:blue\"> |-tuner/trial_id: 9900e3ee94d4fbc860e84d0d35beabe8</span>"
      ],
      "text/plain": [
       "<IPython.core.display.HTML object>"
      ]
     },
     "metadata": {},
     "output_type": "display_data"
    },
    {
     "name": "stdout",
     "output_type": "stream",
     "text": [
      "Train on 14450 samples, validate on 2550 samples\n",
      "Epoch 4/9\n",
      "14450/14450 - 2s - loss: 0.0062 - mean_squared_error: 0.0062 - val_loss: 8.2759e-04 - val_mean_squared_error: 8.2758e-04\n",
      "Epoch 5/9\n",
      "14450/14450 - 1s - loss: 7.9823e-04 - mean_squared_error: 7.9823e-04 - val_loss: 7.2779e-04 - val_mean_squared_error: 7.2779e-04\n",
      "Epoch 6/9\n",
      "14450/14450 - 1s - loss: 8.0355e-04 - mean_squared_error: 8.0355e-04 - val_loss: 7.7343e-04 - val_mean_squared_error: 7.7343e-04\n",
      "Epoch 7/9\n",
      "14450/14450 - 1s - loss: 0.0010 - mean_squared_error: 0.0010 - val_loss: 0.0012 - val_mean_squared_error: 0.0012\n",
      "Epoch 8/9\n",
      "14450/14450 - 1s - loss: 0.0015 - mean_squared_error: 0.0015 - val_loss: 0.0015 - val_mean_squared_error: 0.0015\n",
      "Epoch 9/9\n",
      "14450/14450 - 1s - loss: 0.0020 - mean_squared_error: 0.0020 - val_loss: 0.0013 - val_mean_squared_error: 0.0013\n"
     ]
    },
    {
     "data": {
      "text/html": [
       "<span style=\"color:#4527A0\"><h1 style=\"font-size:18px\">Trial complete</h1></span>"
      ],
      "text/plain": [
       "<IPython.core.display.HTML object>"
      ]
     },
     "metadata": {},
     "output_type": "display_data"
    },
    {
     "data": {
      "text/html": [
       "<span style=\"color:#4527A0\"><h1 style=\"font-size:18px\">Trial summary</h1></span>"
      ],
      "text/plain": [
       "<IPython.core.display.HTML object>"
      ]
     },
     "metadata": {},
     "output_type": "display_data"
    },
    {
     "data": {
      "text/html": [
       "<span style=\"color:cyan\"> |-Trial ID: a49e383d344452c26b6f3a1d839afcbe</span>"
      ],
      "text/plain": [
       "<IPython.core.display.HTML object>"
      ]
     },
     "metadata": {},
     "output_type": "display_data"
    },
    {
     "data": {
      "text/html": [
       "<span style=\"color:cyan\"> |-Score: 0.0007982259849086404</span>"
      ],
      "text/plain": [
       "<IPython.core.display.HTML object>"
      ]
     },
     "metadata": {},
     "output_type": "display_data"
    },
    {
     "data": {
      "text/html": [
       "<span style=\"color:cyan\"> |-Best step: 0</span>"
      ],
      "text/plain": [
       "<IPython.core.display.HTML object>"
      ]
     },
     "metadata": {},
     "output_type": "display_data"
    },
    {
     "data": {
      "text/html": [
       "<span style=\"color:#7E57C2\"><h2 style=\"font-size:16px\">Hyperparameters:</h2></span>"
      ],
      "text/plain": [
       "<IPython.core.display.HTML object>"
      ]
     },
     "metadata": {},
     "output_type": "display_data"
    },
    {
     "data": {
      "text/html": [
       "<span style=\"color:cyan\"> |-hidden_0_units: 300</span>"
      ],
      "text/plain": [
       "<IPython.core.display.HTML object>"
      ]
     },
     "metadata": {},
     "output_type": "display_data"
    },
    {
     "data": {
      "text/html": [
       "<span style=\"color:blue\"> |-hidden_1_units: 43</span>"
      ],
      "text/plain": [
       "<IPython.core.display.HTML object>"
      ]
     },
     "metadata": {},
     "output_type": "display_data"
    },
    {
     "data": {
      "text/html": [
       "<span style=\"color:cyan\"> |-learning_rate: 0.01</span>"
      ],
      "text/plain": [
       "<IPython.core.display.HTML object>"
      ]
     },
     "metadata": {},
     "output_type": "display_data"
    },
    {
     "data": {
      "text/html": [
       "<span style=\"color:blue\"> |-n_layers: 1</span>"
      ],
      "text/plain": [
       "<IPython.core.display.HTML object>"
      ]
     },
     "metadata": {},
     "output_type": "display_data"
    },
    {
     "data": {
      "text/html": [
       "<span style=\"color:cyan\"> |-tuner/bracket: 2</span>"
      ],
      "text/plain": [
       "<IPython.core.display.HTML object>"
      ]
     },
     "metadata": {},
     "output_type": "display_data"
    },
    {
     "data": {
      "text/html": [
       "<span style=\"color:blue\"> |-tuner/epochs: 9</span>"
      ],
      "text/plain": [
       "<IPython.core.display.HTML object>"
      ]
     },
     "metadata": {},
     "output_type": "display_data"
    },
    {
     "data": {
      "text/html": [
       "<span style=\"color:cyan\"> |-tuner/initial_epoch: 3</span>"
      ],
      "text/plain": [
       "<IPython.core.display.HTML object>"
      ]
     },
     "metadata": {},
     "output_type": "display_data"
    },
    {
     "data": {
      "text/html": [
       "<span style=\"color:blue\"> |-tuner/round: 1</span>"
      ],
      "text/plain": [
       "<IPython.core.display.HTML object>"
      ]
     },
     "metadata": {},
     "output_type": "display_data"
    },
    {
     "data": {
      "text/html": [
       "<span style=\"color:cyan\"> |-tuner/trial_id: 430085399b55e16ccc5df7ac20ac9dfb</span>"
      ],
      "text/plain": [
       "<IPython.core.display.HTML object>"
      ]
     },
     "metadata": {},
     "output_type": "display_data"
    },
    {
     "name": "stdout",
     "output_type": "stream",
     "text": [
      "Train on 14450 samples, validate on 2550 samples\n",
      "Epoch 4/9\n",
      "14450/14450 - 2s - loss: 0.0780 - mean_squared_error: 0.0780 - val_loss: 0.0160 - val_mean_squared_error: 0.0160\n",
      "Epoch 5/9\n",
      "14450/14450 - 1s - loss: 0.0060 - mean_squared_error: 0.0060 - val_loss: 0.0020 - val_mean_squared_error: 0.0020\n",
      "Epoch 6/9\n",
      "14450/14450 - 1s - loss: 0.0012 - mean_squared_error: 0.0012 - val_loss: 8.0995e-04 - val_mean_squared_error: 8.0995e-04\n",
      "Epoch 7/9\n",
      "14450/14450 - 1s - loss: 6.4919e-04 - mean_squared_error: 6.4919e-04 - val_loss: 5.2398e-04 - val_mean_squared_error: 5.2398e-04\n",
      "Epoch 8/9\n",
      "14450/14450 - 1s - loss: 4.7268e-04 - mean_squared_error: 4.7268e-04 - val_loss: 4.7296e-04 - val_mean_squared_error: 4.7296e-04\n",
      "Epoch 9/9\n",
      "14450/14450 - 1s - loss: 4.0607e-04 - mean_squared_error: 4.0607e-04 - val_loss: 4.3025e-04 - val_mean_squared_error: 4.3025e-04\n"
     ]
    },
    {
     "data": {
      "text/html": [
       "<span style=\"color:#4527A0\"><h1 style=\"font-size:18px\">Trial complete</h1></span>"
      ],
      "text/plain": [
       "<IPython.core.display.HTML object>"
      ]
     },
     "metadata": {},
     "output_type": "display_data"
    },
    {
     "data": {
      "text/html": [
       "<span style=\"color:#4527A0\"><h1 style=\"font-size:18px\">Trial summary</h1></span>"
      ],
      "text/plain": [
       "<IPython.core.display.HTML object>"
      ]
     },
     "metadata": {},
     "output_type": "display_data"
    },
    {
     "data": {
      "text/html": [
       "<span style=\"color:cyan\"> |-Trial ID: 10bb9b8d0f56d0d3562e226c5606194a</span>"
      ],
      "text/plain": [
       "<IPython.core.display.HTML object>"
      ]
     },
     "metadata": {},
     "output_type": "display_data"
    },
    {
     "data": {
      "text/html": [
       "<span style=\"color:cyan\"> |-Score: 0.0004060689243488014</span>"
      ],
      "text/plain": [
       "<IPython.core.display.HTML object>"
      ]
     },
     "metadata": {},
     "output_type": "display_data"
    },
    {
     "data": {
      "text/html": [
       "<span style=\"color:cyan\"> |-Best step: 0</span>"
      ],
      "text/plain": [
       "<IPython.core.display.HTML object>"
      ]
     },
     "metadata": {},
     "output_type": "display_data"
    },
    {
     "data": {
      "text/html": [
       "<span style=\"color:#7E57C2\"><h2 style=\"font-size:16px\">Hyperparameters:</h2></span>"
      ],
      "text/plain": [
       "<IPython.core.display.HTML object>"
      ]
     },
     "metadata": {},
     "output_type": "display_data"
    },
    {
     "data": {
      "text/html": [
       "<span style=\"color:cyan\"> |-hidden_0_units: 84</span>"
      ],
      "text/plain": [
       "<IPython.core.display.HTML object>"
      ]
     },
     "metadata": {},
     "output_type": "display_data"
    },
    {
     "data": {
      "text/html": [
       "<span style=\"color:blue\"> |-hidden_1_units: 277</span>"
      ],
      "text/plain": [
       "<IPython.core.display.HTML object>"
      ]
     },
     "metadata": {},
     "output_type": "display_data"
    },
    {
     "data": {
      "text/html": [
       "<span style=\"color:cyan\"> |-learning_rate: 0.001</span>"
      ],
      "text/plain": [
       "<IPython.core.display.HTML object>"
      ]
     },
     "metadata": {},
     "output_type": "display_data"
    },
    {
     "data": {
      "text/html": [
       "<span style=\"color:blue\"> |-n_layers: 1</span>"
      ],
      "text/plain": [
       "<IPython.core.display.HTML object>"
      ]
     },
     "metadata": {},
     "output_type": "display_data"
    },
    {
     "data": {
      "text/html": [
       "<span style=\"color:cyan\"> |-tuner/bracket: 2</span>"
      ],
      "text/plain": [
       "<IPython.core.display.HTML object>"
      ]
     },
     "metadata": {},
     "output_type": "display_data"
    },
    {
     "data": {
      "text/html": [
       "<span style=\"color:blue\"> |-tuner/epochs: 9</span>"
      ],
      "text/plain": [
       "<IPython.core.display.HTML object>"
      ]
     },
     "metadata": {},
     "output_type": "display_data"
    },
    {
     "data": {
      "text/html": [
       "<span style=\"color:cyan\"> |-tuner/initial_epoch: 3</span>"
      ],
      "text/plain": [
       "<IPython.core.display.HTML object>"
      ]
     },
     "metadata": {},
     "output_type": "display_data"
    },
    {
     "data": {
      "text/html": [
       "<span style=\"color:blue\"> |-tuner/round: 1</span>"
      ],
      "text/plain": [
       "<IPython.core.display.HTML object>"
      ]
     },
     "metadata": {},
     "output_type": "display_data"
    },
    {
     "data": {
      "text/html": [
       "<span style=\"color:cyan\"> |-tuner/trial_id: b2077caa7ff659bdb4480b48f4e05c78</span>"
      ],
      "text/plain": [
       "<IPython.core.display.HTML object>"
      ]
     },
     "metadata": {},
     "output_type": "display_data"
    },
    {
     "name": "stdout",
     "output_type": "stream",
     "text": [
      "Train on 14450 samples, validate on 2550 samples\n",
      "Epoch 10/25\n",
      "14450/14450 - 2s - loss: 0.0780 - mean_squared_error: 0.0780 - val_loss: 0.0161 - val_mean_squared_error: 0.0161\n",
      "Epoch 11/25\n",
      "14450/14450 - 1s - loss: 0.0060 - mean_squared_error: 0.0060 - val_loss: 0.0020 - val_mean_squared_error: 0.0020\n",
      "Epoch 12/25\n",
      "14450/14450 - 1s - loss: 0.0012 - mean_squared_error: 0.0012 - val_loss: 8.0781e-04 - val_mean_squared_error: 8.0781e-04\n",
      "Epoch 13/25\n",
      "14450/14450 - 1s - loss: 6.4802e-04 - mean_squared_error: 6.4802e-04 - val_loss: 5.2295e-04 - val_mean_squared_error: 5.2295e-04\n",
      "Epoch 14/25\n",
      "14450/14450 - 1s - loss: 4.7502e-04 - mean_squared_error: 4.7502e-04 - val_loss: 4.2933e-04 - val_mean_squared_error: 4.2933e-04\n",
      "Epoch 15/25\n",
      "14450/14450 - 1s - loss: 4.0694e-04 - mean_squared_error: 4.0694e-04 - val_loss: 3.6440e-04 - val_mean_squared_error: 3.6440e-04\n",
      "Epoch 16/25\n",
      "14450/14450 - 1s - loss: 3.6515e-04 - mean_squared_error: 3.6515e-04 - val_loss: 4.0452e-04 - val_mean_squared_error: 4.0452e-04\n",
      "Epoch 17/25\n",
      "14450/14450 - 1s - loss: 3.4728e-04 - mean_squared_error: 3.4728e-04 - val_loss: 3.1738e-04 - val_mean_squared_error: 3.1738e-04\n",
      "Epoch 18/25\n",
      "14450/14450 - 1s - loss: 3.3269e-04 - mean_squared_error: 3.3269e-04 - val_loss: 3.5227e-04 - val_mean_squared_error: 3.5227e-04\n",
      "Epoch 19/25\n",
      "14450/14450 - 1s - loss: 3.2951e-04 - mean_squared_error: 3.2951e-04 - val_loss: 3.0008e-04 - val_mean_squared_error: 3.0008e-04\n",
      "Epoch 20/25\n",
      "14450/14450 - 1s - loss: 3.3850e-04 - mean_squared_error: 3.3850e-04 - val_loss: 2.9976e-04 - val_mean_squared_error: 2.9976e-04\n",
      "Epoch 21/25\n",
      "14450/14450 - 1s - loss: 3.2617e-04 - mean_squared_error: 3.2617e-04 - val_loss: 3.1458e-04 - val_mean_squared_error: 3.1458e-04\n",
      "Epoch 22/25\n",
      "14450/14450 - 1s - loss: 3.2414e-04 - mean_squared_error: 3.2414e-04 - val_loss: 2.9360e-04 - val_mean_squared_error: 2.9360e-04\n",
      "Epoch 23/25\n",
      "14450/14450 - 1s - loss: 3.2059e-04 - mean_squared_error: 3.2059e-04 - val_loss: 4.7214e-04 - val_mean_squared_error: 4.7214e-04\n",
      "Epoch 24/25\n",
      "14450/14450 - 1s - loss: 3.1951e-04 - mean_squared_error: 3.1951e-04 - val_loss: 3.0494e-04 - val_mean_squared_error: 3.0494e-04\n",
      "Epoch 25/25\n",
      "14450/14450 - 1s - loss: 3.1450e-04 - mean_squared_error: 3.1450e-04 - val_loss: 2.9683e-04 - val_mean_squared_error: 2.9683e-04\n"
     ]
    },
    {
     "data": {
      "text/html": [
       "<span style=\"color:#4527A0\"><h1 style=\"font-size:18px\">Trial complete</h1></span>"
      ],
      "text/plain": [
       "<IPython.core.display.HTML object>"
      ]
     },
     "metadata": {},
     "output_type": "display_data"
    },
    {
     "data": {
      "text/html": [
       "<span style=\"color:#4527A0\"><h1 style=\"font-size:18px\">Trial summary</h1></span>"
      ],
      "text/plain": [
       "<IPython.core.display.HTML object>"
      ]
     },
     "metadata": {},
     "output_type": "display_data"
    },
    {
     "data": {
      "text/html": [
       "<span style=\"color:cyan\"> |-Trial ID: 3fecd4dfa4cafb1515400d029259466c</span>"
      ],
      "text/plain": [
       "<IPython.core.display.HTML object>"
      ]
     },
     "metadata": {},
     "output_type": "display_data"
    },
    {
     "data": {
      "text/html": [
       "<span style=\"color:cyan\"> |-Score: 0.00031449500238522887</span>"
      ],
      "text/plain": [
       "<IPython.core.display.HTML object>"
      ]
     },
     "metadata": {},
     "output_type": "display_data"
    },
    {
     "data": {
      "text/html": [
       "<span style=\"color:cyan\"> |-Best step: 0</span>"
      ],
      "text/plain": [
       "<IPython.core.display.HTML object>"
      ]
     },
     "metadata": {},
     "output_type": "display_data"
    },
    {
     "data": {
      "text/html": [
       "<span style=\"color:#7E57C2\"><h2 style=\"font-size:16px\">Hyperparameters:</h2></span>"
      ],
      "text/plain": [
       "<IPython.core.display.HTML object>"
      ]
     },
     "metadata": {},
     "output_type": "display_data"
    },
    {
     "data": {
      "text/html": [
       "<span style=\"color:cyan\"> |-hidden_0_units: 84</span>"
      ],
      "text/plain": [
       "<IPython.core.display.HTML object>"
      ]
     },
     "metadata": {},
     "output_type": "display_data"
    },
    {
     "data": {
      "text/html": [
       "<span style=\"color:blue\"> |-hidden_1_units: 277</span>"
      ],
      "text/plain": [
       "<IPython.core.display.HTML object>"
      ]
     },
     "metadata": {},
     "output_type": "display_data"
    },
    {
     "data": {
      "text/html": [
       "<span style=\"color:cyan\"> |-learning_rate: 0.001</span>"
      ],
      "text/plain": [
       "<IPython.core.display.HTML object>"
      ]
     },
     "metadata": {},
     "output_type": "display_data"
    },
    {
     "data": {
      "text/html": [
       "<span style=\"color:blue\"> |-n_layers: 1</span>"
      ],
      "text/plain": [
       "<IPython.core.display.HTML object>"
      ]
     },
     "metadata": {},
     "output_type": "display_data"
    },
    {
     "data": {
      "text/html": [
       "<span style=\"color:cyan\"> |-tuner/bracket: 2</span>"
      ],
      "text/plain": [
       "<IPython.core.display.HTML object>"
      ]
     },
     "metadata": {},
     "output_type": "display_data"
    },
    {
     "data": {
      "text/html": [
       "<span style=\"color:blue\"> |-tuner/epochs: 25</span>"
      ],
      "text/plain": [
       "<IPython.core.display.HTML object>"
      ]
     },
     "metadata": {},
     "output_type": "display_data"
    },
    {
     "data": {
      "text/html": [
       "<span style=\"color:cyan\"> |-tuner/initial_epoch: 9</span>"
      ],
      "text/plain": [
       "<IPython.core.display.HTML object>"
      ]
     },
     "metadata": {},
     "output_type": "display_data"
    },
    {
     "data": {
      "text/html": [
       "<span style=\"color:blue\"> |-tuner/round: 2</span>"
      ],
      "text/plain": [
       "<IPython.core.display.HTML object>"
      ]
     },
     "metadata": {},
     "output_type": "display_data"
    },
    {
     "data": {
      "text/html": [
       "<span style=\"color:cyan\"> |-tuner/trial_id: 10bb9b8d0f56d0d3562e226c5606194a</span>"
      ],
      "text/plain": [
       "<IPython.core.display.HTML object>"
      ]
     },
     "metadata": {},
     "output_type": "display_data"
    },
    {
     "name": "stdout",
     "output_type": "stream",
     "text": [
      "Train on 14450 samples, validate on 2550 samples\n",
      "Epoch 10/25\n",
      "14450/14450 - 2s - loss: 0.0134 - mean_squared_error: 0.0134 - val_loss: 4.2928e-04 - val_mean_squared_error: 4.2928e-04\n",
      "Epoch 11/25\n",
      "14450/14450 - 1s - loss: 4.4703e-04 - mean_squared_error: 4.4703e-04 - val_loss: 3.7377e-04 - val_mean_squared_error: 3.7377e-04\n",
      "Epoch 12/25\n",
      "14450/14450 - 1s - loss: 5.1657e-04 - mean_squared_error: 5.1657e-04 - val_loss: 3.6397e-04 - val_mean_squared_error: 3.6397e-04\n",
      "Epoch 13/25\n",
      "14450/14450 - 1s - loss: 4.6057e-04 - mean_squared_error: 4.6057e-04 - val_loss: 7.3149e-04 - val_mean_squared_error: 7.3149e-04\n",
      "Epoch 14/25\n",
      "14450/14450 - 1s - loss: 4.8095e-04 - mean_squared_error: 4.8095e-04 - val_loss: 3.5813e-04 - val_mean_squared_error: 3.5813e-04\n",
      "Epoch 15/25\n",
      "14450/14450 - 1s - loss: 4.7700e-04 - mean_squared_error: 4.7700e-04 - val_loss: 5.1949e-04 - val_mean_squared_error: 5.1949e-04\n",
      "Epoch 16/25\n",
      "14450/14450 - 1s - loss: 5.4877e-04 - mean_squared_error: 5.4877e-04 - val_loss: 5.1915e-04 - val_mean_squared_error: 5.1915e-04\n"
     ]
    },
    {
     "data": {
      "text/html": [
       "<span style=\"color:#4527A0\"><h1 style=\"font-size:18px\">Trial complete</h1></span>"
      ],
      "text/plain": [
       "<IPython.core.display.HTML object>"
      ]
     },
     "metadata": {},
     "output_type": "display_data"
    },
    {
     "data": {
      "text/html": [
       "<span style=\"color:#4527A0\"><h1 style=\"font-size:18px\">Trial summary</h1></span>"
      ],
      "text/plain": [
       "<IPython.core.display.HTML object>"
      ]
     },
     "metadata": {},
     "output_type": "display_data"
    },
    {
     "data": {
      "text/html": [
       "<span style=\"color:cyan\"> |-Trial ID: a78cd53f90f825f6373491997206e8ab</span>"
      ],
      "text/plain": [
       "<IPython.core.display.HTML object>"
      ]
     },
     "metadata": {},
     "output_type": "display_data"
    },
    {
     "data": {
      "text/html": [
       "<span style=\"color:cyan\"> |-Score: 0.0004470316634979099</span>"
      ],
      "text/plain": [
       "<IPython.core.display.HTML object>"
      ]
     },
     "metadata": {},
     "output_type": "display_data"
    },
    {
     "data": {
      "text/html": [
       "<span style=\"color:cyan\"> |-Best step: 0</span>"
      ],
      "text/plain": [
       "<IPython.core.display.HTML object>"
      ]
     },
     "metadata": {},
     "output_type": "display_data"
    },
    {
     "data": {
      "text/html": [
       "<span style=\"color:#7E57C2\"><h2 style=\"font-size:16px\">Hyperparameters:</h2></span>"
      ],
      "text/plain": [
       "<IPython.core.display.HTML object>"
      ]
     },
     "metadata": {},
     "output_type": "display_data"
    },
    {
     "data": {
      "text/html": [
       "<span style=\"color:cyan\"> |-hidden_0_units: 61</span>"
      ],
      "text/plain": [
       "<IPython.core.display.HTML object>"
      ]
     },
     "metadata": {},
     "output_type": "display_data"
    },
    {
     "data": {
      "text/html": [
       "<span style=\"color:blue\"> |-hidden_1_units: 247</span>"
      ],
      "text/plain": [
       "<IPython.core.display.HTML object>"
      ]
     },
     "metadata": {},
     "output_type": "display_data"
    },
    {
     "data": {
      "text/html": [
       "<span style=\"color:cyan\"> |-learning_rate: 0.01</span>"
      ],
      "text/plain": [
       "<IPython.core.display.HTML object>"
      ]
     },
     "metadata": {},
     "output_type": "display_data"
    },
    {
     "data": {
      "text/html": [
       "<span style=\"color:blue\"> |-n_layers: 1</span>"
      ],
      "text/plain": [
       "<IPython.core.display.HTML object>"
      ]
     },
     "metadata": {},
     "output_type": "display_data"
    },
    {
     "data": {
      "text/html": [
       "<span style=\"color:cyan\"> |-tuner/bracket: 2</span>"
      ],
      "text/plain": [
       "<IPython.core.display.HTML object>"
      ]
     },
     "metadata": {},
     "output_type": "display_data"
    },
    {
     "data": {
      "text/html": [
       "<span style=\"color:blue\"> |-tuner/epochs: 25</span>"
      ],
      "text/plain": [
       "<IPython.core.display.HTML object>"
      ]
     },
     "metadata": {},
     "output_type": "display_data"
    },
    {
     "data": {
      "text/html": [
       "<span style=\"color:cyan\"> |-tuner/initial_epoch: 9</span>"
      ],
      "text/plain": [
       "<IPython.core.display.HTML object>"
      ]
     },
     "metadata": {},
     "output_type": "display_data"
    },
    {
     "data": {
      "text/html": [
       "<span style=\"color:blue\"> |-tuner/round: 2</span>"
      ],
      "text/plain": [
       "<IPython.core.display.HTML object>"
      ]
     },
     "metadata": {},
     "output_type": "display_data"
    },
    {
     "data": {
      "text/html": [
       "<span style=\"color:cyan\"> |-tuner/trial_id: 0f58b7fa7ef6a52d8f1dcc12c342963b</span>"
      ],
      "text/plain": [
       "<IPython.core.display.HTML object>"
      ]
     },
     "metadata": {},
     "output_type": "display_data"
    },
    {
     "name": "stdout",
     "output_type": "stream",
     "text": [
      "Train on 14450 samples, validate on 2550 samples\n",
      "Epoch 1/9\n",
      "14450/14450 - 2s - loss: 0.1585 - mean_squared_error: 0.1585 - val_loss: 0.1226 - val_mean_squared_error: 0.1226\n",
      "Epoch 2/9\n",
      "14450/14450 - 1s - loss: 0.0913 - mean_squared_error: 0.0913 - val_loss: 0.0647 - val_mean_squared_error: 0.0647\n",
      "Epoch 3/9\n",
      "14450/14450 - 1s - loss: 0.0476 - mean_squared_error: 0.0476 - val_loss: 0.0342 - val_mean_squared_error: 0.0342\n",
      "Epoch 4/9\n",
      "14450/14450 - 1s - loss: 0.0253 - mean_squared_error: 0.0253 - val_loss: 0.0183 - val_mean_squared_error: 0.0183\n",
      "Epoch 5/9\n",
      "14450/14450 - 1s - loss: 0.0136 - mean_squared_error: 0.0136 - val_loss: 0.0099 - val_mean_squared_error: 0.0099\n",
      "Epoch 6/9\n",
      "14450/14450 - 1s - loss: 0.0075 - mean_squared_error: 0.0075 - val_loss: 0.0056 - val_mean_squared_error: 0.0056\n",
      "Epoch 7/9\n",
      "14450/14450 - 1s - loss: 0.0044 - mean_squared_error: 0.0044 - val_loss: 0.0034 - val_mean_squared_error: 0.0034\n",
      "Epoch 8/9\n",
      "14450/14450 - 1s - loss: 0.0027 - mean_squared_error: 0.0027 - val_loss: 0.0022 - val_mean_squared_error: 0.0022\n",
      "Epoch 9/9\n",
      "14450/14450 - 1s - loss: 0.0018 - mean_squared_error: 0.0018 - val_loss: 0.0015 - val_mean_squared_error: 0.0015\n"
     ]
    },
    {
     "data": {
      "text/html": [
       "<span style=\"color:#4527A0\"><h1 style=\"font-size:18px\">Trial complete</h1></span>"
      ],
      "text/plain": [
       "<IPython.core.display.HTML object>"
      ]
     },
     "metadata": {},
     "output_type": "display_data"
    },
    {
     "data": {
      "text/html": [
       "<span style=\"color:#4527A0\"><h1 style=\"font-size:18px\">Trial summary</h1></span>"
      ],
      "text/plain": [
       "<IPython.core.display.HTML object>"
      ]
     },
     "metadata": {},
     "output_type": "display_data"
    },
    {
     "data": {
      "text/html": [
       "<span style=\"color:cyan\"> |-Trial ID: ca56b475f85f29fe02c1fbec28c94852</span>"
      ],
      "text/plain": [
       "<IPython.core.display.HTML object>"
      ]
     },
     "metadata": {},
     "output_type": "display_data"
    },
    {
     "data": {
      "text/html": [
       "<span style=\"color:cyan\"> |-Score: 0.001811971073038876</span>"
      ],
      "text/plain": [
       "<IPython.core.display.HTML object>"
      ]
     },
     "metadata": {},
     "output_type": "display_data"
    },
    {
     "data": {
      "text/html": [
       "<span style=\"color:cyan\"> |-Best step: 0</span>"
      ],
      "text/plain": [
       "<IPython.core.display.HTML object>"
      ]
     },
     "metadata": {},
     "output_type": "display_data"
    },
    {
     "data": {
      "text/html": [
       "<span style=\"color:#7E57C2\"><h2 style=\"font-size:16px\">Hyperparameters:</h2></span>"
      ],
      "text/plain": [
       "<IPython.core.display.HTML object>"
      ]
     },
     "metadata": {},
     "output_type": "display_data"
    },
    {
     "data": {
      "text/html": [
       "<span style=\"color:cyan\"> |-hidden_0_units: 313</span>"
      ],
      "text/plain": [
       "<IPython.core.display.HTML object>"
      ]
     },
     "metadata": {},
     "output_type": "display_data"
    },
    {
     "data": {
      "text/html": [
       "<span style=\"color:blue\"> |-hidden_1_units: 197</span>"
      ],
      "text/plain": [
       "<IPython.core.display.HTML object>"
      ]
     },
     "metadata": {},
     "output_type": "display_data"
    },
    {
     "data": {
      "text/html": [
       "<span style=\"color:cyan\"> |-learning_rate: 0.0001</span>"
      ],
      "text/plain": [
       "<IPython.core.display.HTML object>"
      ]
     },
     "metadata": {},
     "output_type": "display_data"
    },
    {
     "data": {
      "text/html": [
       "<span style=\"color:blue\"> |-n_layers: 1</span>"
      ],
      "text/plain": [
       "<IPython.core.display.HTML object>"
      ]
     },
     "metadata": {},
     "output_type": "display_data"
    },
    {
     "data": {
      "text/html": [
       "<span style=\"color:cyan\"> |-tuner/bracket: 1</span>"
      ],
      "text/plain": [
       "<IPython.core.display.HTML object>"
      ]
     },
     "metadata": {},
     "output_type": "display_data"
    },
    {
     "data": {
      "text/html": [
       "<span style=\"color:blue\"> |-tuner/epochs: 9</span>"
      ],
      "text/plain": [
       "<IPython.core.display.HTML object>"
      ]
     },
     "metadata": {},
     "output_type": "display_data"
    },
    {
     "data": {
      "text/html": [
       "<span style=\"color:cyan\"> |-tuner/initial_epoch: 0</span>"
      ],
      "text/plain": [
       "<IPython.core.display.HTML object>"
      ]
     },
     "metadata": {},
     "output_type": "display_data"
    },
    {
     "data": {
      "text/html": [
       "<span style=\"color:blue\"> |-tuner/round: 0</span>"
      ],
      "text/plain": [
       "<IPython.core.display.HTML object>"
      ]
     },
     "metadata": {},
     "output_type": "display_data"
    },
    {
     "name": "stdout",
     "output_type": "stream",
     "text": [
      "Train on 14450 samples, validate on 2550 samples\n",
      "Epoch 1/9\n",
      "14450/14450 - 2s - loss: 0.0237 - mean_squared_error: 0.0237 - val_loss: 5.8182e-04 - val_mean_squared_error: 5.8182e-04\n",
      "Epoch 2/9\n",
      "14450/14450 - 1s - loss: 4.6918e-04 - mean_squared_error: 4.6918e-04 - val_loss: 4.0331e-04 - val_mean_squared_error: 4.0331e-04\n",
      "Epoch 3/9\n",
      "14450/14450 - 2s - loss: 4.4394e-04 - mean_squared_error: 4.4394e-04 - val_loss: 4.9585e-04 - val_mean_squared_error: 4.9585e-04\n",
      "Epoch 4/9\n",
      "14450/14450 - 1s - loss: 4.0626e-04 - mean_squared_error: 4.0626e-04 - val_loss: 3.3649e-04 - val_mean_squared_error: 3.3649e-04\n",
      "Epoch 5/9\n",
      "14450/14450 - 1s - loss: 4.0247e-04 - mean_squared_error: 4.0247e-04 - val_loss: 3.5090e-04 - val_mean_squared_error: 3.5090e-04\n",
      "Epoch 6/9\n",
      "14450/14450 - 1s - loss: 3.7218e-04 - mean_squared_error: 3.7218e-04 - val_loss: 3.1480e-04 - val_mean_squared_error: 3.1480e-04\n",
      "Epoch 7/9\n",
      "14450/14450 - 1s - loss: 3.9968e-04 - mean_squared_error: 3.9968e-04 - val_loss: 3.6819e-04 - val_mean_squared_error: 3.6819e-04\n",
      "Epoch 8/9\n",
      "14450/14450 - 1s - loss: 3.9296e-04 - mean_squared_error: 3.9296e-04 - val_loss: 4.1871e-04 - val_mean_squared_error: 4.1871e-04\n",
      "Epoch 9/9\n",
      "14450/14450 - 1s - loss: 3.8709e-04 - mean_squared_error: 3.8709e-04 - val_loss: 3.6283e-04 - val_mean_squared_error: 3.6284e-04\n"
     ]
    },
    {
     "data": {
      "text/html": [
       "<span style=\"color:#4527A0\"><h1 style=\"font-size:18px\">Trial complete</h1></span>"
      ],
      "text/plain": [
       "<IPython.core.display.HTML object>"
      ]
     },
     "metadata": {},
     "output_type": "display_data"
    },
    {
     "data": {
      "text/html": [
       "<span style=\"color:#4527A0\"><h1 style=\"font-size:18px\">Trial summary</h1></span>"
      ],
      "text/plain": [
       "<IPython.core.display.HTML object>"
      ]
     },
     "metadata": {},
     "output_type": "display_data"
    },
    {
     "data": {
      "text/html": [
       "<span style=\"color:cyan\"> |-Trial ID: ab6bae5f74c11662a128e9b3a2a26a6d</span>"
      ],
      "text/plain": [
       "<IPython.core.display.HTML object>"
      ]
     },
     "metadata": {},
     "output_type": "display_data"
    },
    {
     "data": {
      "text/html": [
       "<span style=\"color:cyan\"> |-Score: 0.0003721828106790781</span>"
      ],
      "text/plain": [
       "<IPython.core.display.HTML object>"
      ]
     },
     "metadata": {},
     "output_type": "display_data"
    },
    {
     "data": {
      "text/html": [
       "<span style=\"color:cyan\"> |-Best step: 0</span>"
      ],
      "text/plain": [
       "<IPython.core.display.HTML object>"
      ]
     },
     "metadata": {},
     "output_type": "display_data"
    },
    {
     "data": {
      "text/html": [
       "<span style=\"color:#7E57C2\"><h2 style=\"font-size:16px\">Hyperparameters:</h2></span>"
      ],
      "text/plain": [
       "<IPython.core.display.HTML object>"
      ]
     },
     "metadata": {},
     "output_type": "display_data"
    },
    {
     "data": {
      "text/html": [
       "<span style=\"color:cyan\"> |-hidden_0_units: 142</span>"
      ],
      "text/plain": [
       "<IPython.core.display.HTML object>"
      ]
     },
     "metadata": {},
     "output_type": "display_data"
    },
    {
     "data": {
      "text/html": [
       "<span style=\"color:blue\"> |-hidden_1_units: 239</span>"
      ],
      "text/plain": [
       "<IPython.core.display.HTML object>"
      ]
     },
     "metadata": {},
     "output_type": "display_data"
    },
    {
     "data": {
      "text/html": [
       "<span style=\"color:cyan\"> |-learning_rate: 0.001</span>"
      ],
      "text/plain": [
       "<IPython.core.display.HTML object>"
      ]
     },
     "metadata": {},
     "output_type": "display_data"
    },
    {
     "data": {
      "text/html": [
       "<span style=\"color:blue\"> |-n_layers: 2</span>"
      ],
      "text/plain": [
       "<IPython.core.display.HTML object>"
      ]
     },
     "metadata": {},
     "output_type": "display_data"
    },
    {
     "data": {
      "text/html": [
       "<span style=\"color:cyan\"> |-tuner/bracket: 1</span>"
      ],
      "text/plain": [
       "<IPython.core.display.HTML object>"
      ]
     },
     "metadata": {},
     "output_type": "display_data"
    },
    {
     "data": {
      "text/html": [
       "<span style=\"color:blue\"> |-tuner/epochs: 9</span>"
      ],
      "text/plain": [
       "<IPython.core.display.HTML object>"
      ]
     },
     "metadata": {},
     "output_type": "display_data"
    },
    {
     "data": {
      "text/html": [
       "<span style=\"color:cyan\"> |-tuner/initial_epoch: 0</span>"
      ],
      "text/plain": [
       "<IPython.core.display.HTML object>"
      ]
     },
     "metadata": {},
     "output_type": "display_data"
    },
    {
     "data": {
      "text/html": [
       "<span style=\"color:blue\"> |-tuner/round: 0</span>"
      ],
      "text/plain": [
       "<IPython.core.display.HTML object>"
      ]
     },
     "metadata": {},
     "output_type": "display_data"
    },
    {
     "name": "stdout",
     "output_type": "stream",
     "text": [
      "Train on 14450 samples, validate on 2550 samples\n",
      "Epoch 1/9\n",
      "14450/14450 - 2s - loss: 0.0671 - mean_squared_error: 0.0671 - val_loss: 0.0090 - val_mean_squared_error: 0.0090\n",
      "Epoch 2/9\n",
      "14450/14450 - 1s - loss: 0.0035 - mean_squared_error: 0.0035 - val_loss: 0.0014 - val_mean_squared_error: 0.0014\n",
      "Epoch 3/9\n",
      "14450/14450 - 1s - loss: 9.2674e-04 - mean_squared_error: 9.2674e-04 - val_loss: 6.7006e-04 - val_mean_squared_error: 6.7006e-04\n",
      "Epoch 4/9\n",
      "14450/14450 - 1s - loss: 5.5183e-04 - mean_squared_error: 5.5183e-04 - val_loss: 4.5579e-04 - val_mean_squared_error: 4.5579e-04\n",
      "Epoch 5/9\n",
      "14450/14450 - 1s - loss: 4.2699e-04 - mean_squared_error: 4.2699e-04 - val_loss: 3.7986e-04 - val_mean_squared_error: 3.7986e-04\n",
      "Epoch 6/9\n",
      "14450/14450 - 1s - loss: 3.7980e-04 - mean_squared_error: 3.7980e-04 - val_loss: 3.5746e-04 - val_mean_squared_error: 3.5746e-04\n",
      "Epoch 7/9\n",
      "14450/14450 - 1s - loss: 3.5824e-04 - mean_squared_error: 3.5824e-04 - val_loss: 3.6552e-04 - val_mean_squared_error: 3.6552e-04\n",
      "Epoch 8/9\n",
      "14450/14450 - 1s - loss: 3.4349e-04 - mean_squared_error: 3.4349e-04 - val_loss: 3.1344e-04 - val_mean_squared_error: 3.1344e-04\n",
      "Epoch 9/9\n",
      "14450/14450 - 1s - loss: 3.3593e-04 - mean_squared_error: 3.3593e-04 - val_loss: 3.1832e-04 - val_mean_squared_error: 3.1832e-04\n"
     ]
    },
    {
     "data": {
      "text/html": [
       "<span style=\"color:#4527A0\"><h1 style=\"font-size:18px\">Trial complete</h1></span>"
      ],
      "text/plain": [
       "<IPython.core.display.HTML object>"
      ]
     },
     "metadata": {},
     "output_type": "display_data"
    },
    {
     "data": {
      "text/html": [
       "<span style=\"color:#4527A0\"><h1 style=\"font-size:18px\">Trial summary</h1></span>"
      ],
      "text/plain": [
       "<IPython.core.display.HTML object>"
      ]
     },
     "metadata": {},
     "output_type": "display_data"
    },
    {
     "data": {
      "text/html": [
       "<span style=\"color:cyan\"> |-Trial ID: 0c29dcb3510da296ed74f92572ba499a</span>"
      ],
      "text/plain": [
       "<IPython.core.display.HTML object>"
      ]
     },
     "metadata": {},
     "output_type": "display_data"
    },
    {
     "data": {
      "text/html": [
       "<span style=\"color:cyan\"> |-Score: 0.0003359308175276965</span>"
      ],
      "text/plain": [
       "<IPython.core.display.HTML object>"
      ]
     },
     "metadata": {},
     "output_type": "display_data"
    },
    {
     "data": {
      "text/html": [
       "<span style=\"color:cyan\"> |-Best step: 0</span>"
      ],
      "text/plain": [
       "<IPython.core.display.HTML object>"
      ]
     },
     "metadata": {},
     "output_type": "display_data"
    },
    {
     "data": {
      "text/html": [
       "<span style=\"color:#7E57C2\"><h2 style=\"font-size:16px\">Hyperparameters:</h2></span>"
      ],
      "text/plain": [
       "<IPython.core.display.HTML object>"
      ]
     },
     "metadata": {},
     "output_type": "display_data"
    },
    {
     "data": {
      "text/html": [
       "<span style=\"color:cyan\"> |-hidden_0_units: 120</span>"
      ],
      "text/plain": [
       "<IPython.core.display.HTML object>"
      ]
     },
     "metadata": {},
     "output_type": "display_data"
    },
    {
     "data": {
      "text/html": [
       "<span style=\"color:blue\"> |-hidden_1_units: 130</span>"
      ],
      "text/plain": [
       "<IPython.core.display.HTML object>"
      ]
     },
     "metadata": {},
     "output_type": "display_data"
    },
    {
     "data": {
      "text/html": [
       "<span style=\"color:cyan\"> |-learning_rate: 0.001</span>"
      ],
      "text/plain": [
       "<IPython.core.display.HTML object>"
      ]
     },
     "metadata": {},
     "output_type": "display_data"
    },
    {
     "data": {
      "text/html": [
       "<span style=\"color:blue\"> |-n_layers: 1</span>"
      ],
      "text/plain": [
       "<IPython.core.display.HTML object>"
      ]
     },
     "metadata": {},
     "output_type": "display_data"
    },
    {
     "data": {
      "text/html": [
       "<span style=\"color:cyan\"> |-tuner/bracket: 1</span>"
      ],
      "text/plain": [
       "<IPython.core.display.HTML object>"
      ]
     },
     "metadata": {},
     "output_type": "display_data"
    },
    {
     "data": {
      "text/html": [
       "<span style=\"color:blue\"> |-tuner/epochs: 9</span>"
      ],
      "text/plain": [
       "<IPython.core.display.HTML object>"
      ]
     },
     "metadata": {},
     "output_type": "display_data"
    },
    {
     "data": {
      "text/html": [
       "<span style=\"color:cyan\"> |-tuner/initial_epoch: 0</span>"
      ],
      "text/plain": [
       "<IPython.core.display.HTML object>"
      ]
     },
     "metadata": {},
     "output_type": "display_data"
    },
    {
     "data": {
      "text/html": [
       "<span style=\"color:blue\"> |-tuner/round: 0</span>"
      ],
      "text/plain": [
       "<IPython.core.display.HTML object>"
      ]
     },
     "metadata": {},
     "output_type": "display_data"
    },
    {
     "name": "stdout",
     "output_type": "stream",
     "text": [
      "Train on 14450 samples, validate on 2550 samples\n",
      "Epoch 1/9\n",
      "14450/14450 - 2s - loss: 0.0455 - mean_squared_error: 0.0455 - val_loss: 0.0031 - val_mean_squared_error: 0.0031\n",
      "Epoch 2/9\n",
      "14450/14450 - 1s - loss: 0.0015 - mean_squared_error: 0.0015 - val_loss: 7.4332e-04 - val_mean_squared_error: 7.4332e-04\n",
      "Epoch 3/9\n",
      "14450/14450 - 1s - loss: 5.8463e-04 - mean_squared_error: 5.8463e-04 - val_loss: 4.5757e-04 - val_mean_squared_error: 4.5757e-04\n",
      "Epoch 4/9\n",
      "14450/14450 - 1s - loss: 4.2521e-04 - mean_squared_error: 4.2521e-04 - val_loss: 4.1360e-04 - val_mean_squared_error: 4.1360e-04\n",
      "Epoch 5/9\n",
      "14450/14450 - 1s - loss: 3.8541e-04 - mean_squared_error: 3.8541e-04 - val_loss: 3.3296e-04 - val_mean_squared_error: 3.3296e-04\n",
      "Epoch 6/9\n",
      "14450/14450 - 1s - loss: 3.6617e-04 - mean_squared_error: 3.6617e-04 - val_loss: 3.3122e-04 - val_mean_squared_error: 3.3122e-04\n",
      "Epoch 7/9\n",
      "14450/14450 - 1s - loss: 3.5683e-04 - mean_squared_error: 3.5683e-04 - val_loss: 3.1416e-04 - val_mean_squared_error: 3.1416e-04\n",
      "Epoch 8/9\n",
      "14450/14450 - 1s - loss: 3.4092e-04 - mean_squared_error: 3.4092e-04 - val_loss: 3.2696e-04 - val_mean_squared_error: 3.2696e-04\n",
      "Epoch 9/9\n",
      "14450/14450 - 1s - loss: 3.5799e-04 - mean_squared_error: 3.5799e-04 - val_loss: 3.1530e-04 - val_mean_squared_error: 3.1530e-04\n"
     ]
    },
    {
     "data": {
      "text/html": [
       "<span style=\"color:#4527A0\"><h1 style=\"font-size:18px\">Trial complete</h1></span>"
      ],
      "text/plain": [
       "<IPython.core.display.HTML object>"
      ]
     },
     "metadata": {},
     "output_type": "display_data"
    },
    {
     "data": {
      "text/html": [
       "<span style=\"color:#4527A0\"><h1 style=\"font-size:18px\">Trial summary</h1></span>"
      ],
      "text/plain": [
       "<IPython.core.display.HTML object>"
      ]
     },
     "metadata": {},
     "output_type": "display_data"
    },
    {
     "data": {
      "text/html": [
       "<span style=\"color:cyan\"> |-Trial ID: 3526529860809a580bfc79c8d887e0cd</span>"
      ],
      "text/plain": [
       "<IPython.core.display.HTML object>"
      ]
     },
     "metadata": {},
     "output_type": "display_data"
    },
    {
     "data": {
      "text/html": [
       "<span style=\"color:cyan\"> |-Score: 0.00034092459827661514</span>"
      ],
      "text/plain": [
       "<IPython.core.display.HTML object>"
      ]
     },
     "metadata": {},
     "output_type": "display_data"
    },
    {
     "data": {
      "text/html": [
       "<span style=\"color:cyan\"> |-Best step: 0</span>"
      ],
      "text/plain": [
       "<IPython.core.display.HTML object>"
      ]
     },
     "metadata": {},
     "output_type": "display_data"
    },
    {
     "data": {
      "text/html": [
       "<span style=\"color:#7E57C2\"><h2 style=\"font-size:16px\">Hyperparameters:</h2></span>"
      ],
      "text/plain": [
       "<IPython.core.display.HTML object>"
      ]
     },
     "metadata": {},
     "output_type": "display_data"
    },
    {
     "data": {
      "text/html": [
       "<span style=\"color:cyan\"> |-hidden_0_units: 222</span>"
      ],
      "text/plain": [
       "<IPython.core.display.HTML object>"
      ]
     },
     "metadata": {},
     "output_type": "display_data"
    },
    {
     "data": {
      "text/html": [
       "<span style=\"color:blue\"> |-hidden_1_units: 285</span>"
      ],
      "text/plain": [
       "<IPython.core.display.HTML object>"
      ]
     },
     "metadata": {},
     "output_type": "display_data"
    },
    {
     "data": {
      "text/html": [
       "<span style=\"color:cyan\"> |-learning_rate: 0.001</span>"
      ],
      "text/plain": [
       "<IPython.core.display.HTML object>"
      ]
     },
     "metadata": {},
     "output_type": "display_data"
    },
    {
     "data": {
      "text/html": [
       "<span style=\"color:blue\"> |-n_layers: 1</span>"
      ],
      "text/plain": [
       "<IPython.core.display.HTML object>"
      ]
     },
     "metadata": {},
     "output_type": "display_data"
    },
    {
     "data": {
      "text/html": [
       "<span style=\"color:cyan\"> |-tuner/bracket: 1</span>"
      ],
      "text/plain": [
       "<IPython.core.display.HTML object>"
      ]
     },
     "metadata": {},
     "output_type": "display_data"
    },
    {
     "data": {
      "text/html": [
       "<span style=\"color:blue\"> |-tuner/epochs: 9</span>"
      ],
      "text/plain": [
       "<IPython.core.display.HTML object>"
      ]
     },
     "metadata": {},
     "output_type": "display_data"
    },
    {
     "data": {
      "text/html": [
       "<span style=\"color:cyan\"> |-tuner/initial_epoch: 0</span>"
      ],
      "text/plain": [
       "<IPython.core.display.HTML object>"
      ]
     },
     "metadata": {},
     "output_type": "display_data"
    },
    {
     "data": {
      "text/html": [
       "<span style=\"color:blue\"> |-tuner/round: 0</span>"
      ],
      "text/plain": [
       "<IPython.core.display.HTML object>"
      ]
     },
     "metadata": {},
     "output_type": "display_data"
    },
    {
     "name": "stdout",
     "output_type": "stream",
     "text": [
      "Train on 14450 samples, validate on 2550 samples\n",
      "Epoch 1/9\n",
      "14450/14450 - 2s - loss: 0.1852 - mean_squared_error: 0.1852 - val_loss: 0.1669 - val_mean_squared_error: 0.1669\n",
      "Epoch 2/9\n",
      "14450/14450 - 1s - loss: 0.1511 - mean_squared_error: 0.1511 - val_loss: 0.1364 - val_mean_squared_error: 0.1364\n",
      "Epoch 3/9\n",
      "14450/14450 - 1s - loss: 0.1210 - mean_squared_error: 0.1210 - val_loss: 0.1072 - val_mean_squared_error: 0.1072\n",
      "Epoch 4/9\n",
      "14450/14450 - 1s - loss: 0.0944 - mean_squared_error: 0.0944 - val_loss: 0.0835 - val_mean_squared_error: 0.0835\n",
      "Epoch 5/9\n",
      "14450/14450 - 1s - loss: 0.0741 - mean_squared_error: 0.0741 - val_loss: 0.0661 - val_mean_squared_error: 0.0661\n",
      "Epoch 6/9\n",
      "14450/14450 - 1s - loss: 0.0589 - mean_squared_error: 0.0589 - val_loss: 0.0525 - val_mean_squared_error: 0.0525\n",
      "Epoch 7/9\n",
      "14450/14450 - 1s - loss: 0.0466 - mean_squared_error: 0.0466 - val_loss: 0.0412 - val_mean_squared_error: 0.0412\n",
      "Epoch 8/9\n",
      "14450/14450 - 1s - loss: 0.0362 - mean_squared_error: 0.0362 - val_loss: 0.0317 - val_mean_squared_error: 0.0317\n",
      "Epoch 9/9\n",
      "14450/14450 - 1s - loss: 0.0274 - mean_squared_error: 0.0274 - val_loss: 0.0238 - val_mean_squared_error: 0.0238\n"
     ]
    },
    {
     "data": {
      "text/html": [
       "<span style=\"color:#4527A0\"><h1 style=\"font-size:18px\">Trial complete</h1></span>"
      ],
      "text/plain": [
       "<IPython.core.display.HTML object>"
      ]
     },
     "metadata": {},
     "output_type": "display_data"
    },
    {
     "data": {
      "text/html": [
       "<span style=\"color:#4527A0\"><h1 style=\"font-size:18px\">Trial summary</h1></span>"
      ],
      "text/plain": [
       "<IPython.core.display.HTML object>"
      ]
     },
     "metadata": {},
     "output_type": "display_data"
    },
    {
     "data": {
      "text/html": [
       "<span style=\"color:cyan\"> |-Trial ID: 5cd431d2c84a63e4ecf0e9b5d0129625</span>"
      ],
      "text/plain": [
       "<IPython.core.display.HTML object>"
      ]
     },
     "metadata": {},
     "output_type": "display_data"
    },
    {
     "data": {
      "text/html": [
       "<span style=\"color:cyan\"> |-Score: 0.02744734287261963</span>"
      ],
      "text/plain": [
       "<IPython.core.display.HTML object>"
      ]
     },
     "metadata": {},
     "output_type": "display_data"
    },
    {
     "data": {
      "text/html": [
       "<span style=\"color:cyan\"> |-Best step: 0</span>"
      ],
      "text/plain": [
       "<IPython.core.display.HTML object>"
      ]
     },
     "metadata": {},
     "output_type": "display_data"
    },
    {
     "data": {
      "text/html": [
       "<span style=\"color:#7E57C2\"><h2 style=\"font-size:16px\">Hyperparameters:</h2></span>"
      ],
      "text/plain": [
       "<IPython.core.display.HTML object>"
      ]
     },
     "metadata": {},
     "output_type": "display_data"
    },
    {
     "data": {
      "text/html": [
       "<span style=\"color:cyan\"> |-hidden_0_units: 69</span>"
      ],
      "text/plain": [
       "<IPython.core.display.HTML object>"
      ]
     },
     "metadata": {},
     "output_type": "display_data"
    },
    {
     "data": {
      "text/html": [
       "<span style=\"color:blue\"> |-hidden_1_units: 30</span>"
      ],
      "text/plain": [
       "<IPython.core.display.HTML object>"
      ]
     },
     "metadata": {},
     "output_type": "display_data"
    },
    {
     "data": {
      "text/html": [
       "<span style=\"color:cyan\"> |-learning_rate: 0.0001</span>"
      ],
      "text/plain": [
       "<IPython.core.display.HTML object>"
      ]
     },
     "metadata": {},
     "output_type": "display_data"
    },
    {
     "data": {
      "text/html": [
       "<span style=\"color:blue\"> |-n_layers: 1</span>"
      ],
      "text/plain": [
       "<IPython.core.display.HTML object>"
      ]
     },
     "metadata": {},
     "output_type": "display_data"
    },
    {
     "data": {
      "text/html": [
       "<span style=\"color:cyan\"> |-tuner/bracket: 1</span>"
      ],
      "text/plain": [
       "<IPython.core.display.HTML object>"
      ]
     },
     "metadata": {},
     "output_type": "display_data"
    },
    {
     "data": {
      "text/html": [
       "<span style=\"color:blue\"> |-tuner/epochs: 9</span>"
      ],
      "text/plain": [
       "<IPython.core.display.HTML object>"
      ]
     },
     "metadata": {},
     "output_type": "display_data"
    },
    {
     "data": {
      "text/html": [
       "<span style=\"color:cyan\"> |-tuner/initial_epoch: 0</span>"
      ],
      "text/plain": [
       "<IPython.core.display.HTML object>"
      ]
     },
     "metadata": {},
     "output_type": "display_data"
    },
    {
     "data": {
      "text/html": [
       "<span style=\"color:blue\"> |-tuner/round: 0</span>"
      ],
      "text/plain": [
       "<IPython.core.display.HTML object>"
      ]
     },
     "metadata": {},
     "output_type": "display_data"
    },
    {
     "name": "stdout",
     "output_type": "stream",
     "text": [
      "Train on 14450 samples, validate on 2550 samples\n",
      "Epoch 1/9\n",
      "14450/14450 - 2s - loss: 0.0101 - mean_squared_error: 0.0101 - val_loss: 0.0012 - val_mean_squared_error: 0.0012\n",
      "Epoch 2/9\n",
      "14450/14450 - 1s - loss: 5.4886e-04 - mean_squared_error: 5.4886e-04 - val_loss: 4.7794e-04 - val_mean_squared_error: 4.7794e-04\n",
      "Epoch 3/9\n",
      "14450/14450 - 1s - loss: 5.8700e-04 - mean_squared_error: 5.8700e-04 - val_loss: 7.6205e-04 - val_mean_squared_error: 7.6205e-04\n",
      "Epoch 4/9\n",
      "14450/14450 - 1s - loss: 4.5402e-04 - mean_squared_error: 4.5402e-04 - val_loss: 3.8365e-04 - val_mean_squared_error: 3.8365e-04\n",
      "Epoch 5/9\n",
      "14450/14450 - 1s - loss: 5.1174e-04 - mean_squared_error: 5.1174e-04 - val_loss: 4.4181e-04 - val_mean_squared_error: 4.4181e-04\n",
      "Epoch 6/9\n",
      "14450/14450 - 1s - loss: 5.5143e-04 - mean_squared_error: 5.5143e-04 - val_loss: 4.3831e-04 - val_mean_squared_error: 4.3831e-04\n",
      "Epoch 7/9\n",
      "14450/14450 - 1s - loss: 6.0995e-04 - mean_squared_error: 6.0995e-04 - val_loss: 5.6064e-04 - val_mean_squared_error: 5.6064e-04\n",
      "Epoch 8/9\n",
      "14450/14450 - 1s - loss: 6.3076e-04 - mean_squared_error: 6.3076e-04 - val_loss: 8.3951e-04 - val_mean_squared_error: 8.3951e-04\n",
      "Epoch 9/9\n",
      "14450/14450 - 1s - loss: 6.1593e-04 - mean_squared_error: 6.1593e-04 - val_loss: 0.0012 - val_mean_squared_error: 0.0012\n"
     ]
    },
    {
     "data": {
      "text/html": [
       "<span style=\"color:#4527A0\"><h1 style=\"font-size:18px\">Trial complete</h1></span>"
      ],
      "text/plain": [
       "<IPython.core.display.HTML object>"
      ]
     },
     "metadata": {},
     "output_type": "display_data"
    },
    {
     "data": {
      "text/html": [
       "<span style=\"color:#4527A0\"><h1 style=\"font-size:18px\">Trial summary</h1></span>"
      ],
      "text/plain": [
       "<IPython.core.display.HTML object>"
      ]
     },
     "metadata": {},
     "output_type": "display_data"
    },
    {
     "data": {
      "text/html": [
       "<span style=\"color:cyan\"> |-Trial ID: 2cf50332fae0716262e4f5b208805b3e</span>"
      ],
      "text/plain": [
       "<IPython.core.display.HTML object>"
      ]
     },
     "metadata": {},
     "output_type": "display_data"
    },
    {
     "data": {
      "text/html": [
       "<span style=\"color:cyan\"> |-Score: 0.0004540156514849514</span>"
      ],
      "text/plain": [
       "<IPython.core.display.HTML object>"
      ]
     },
     "metadata": {},
     "output_type": "display_data"
    },
    {
     "data": {
      "text/html": [
       "<span style=\"color:cyan\"> |-Best step: 0</span>"
      ],
      "text/plain": [
       "<IPython.core.display.HTML object>"
      ]
     },
     "metadata": {},
     "output_type": "display_data"
    },
    {
     "data": {
      "text/html": [
       "<span style=\"color:#7E57C2\"><h2 style=\"font-size:16px\">Hyperparameters:</h2></span>"
      ],
      "text/plain": [
       "<IPython.core.display.HTML object>"
      ]
     },
     "metadata": {},
     "output_type": "display_data"
    },
    {
     "data": {
      "text/html": [
       "<span style=\"color:cyan\"> |-hidden_0_units: 84</span>"
      ],
      "text/plain": [
       "<IPython.core.display.HTML object>"
      ]
     },
     "metadata": {},
     "output_type": "display_data"
    },
    {
     "data": {
      "text/html": [
       "<span style=\"color:blue\"> |-hidden_1_units: 245</span>"
      ],
      "text/plain": [
       "<IPython.core.display.HTML object>"
      ]
     },
     "metadata": {},
     "output_type": "display_data"
    },
    {
     "data": {
      "text/html": [
       "<span style=\"color:cyan\"> |-learning_rate: 0.01</span>"
      ],
      "text/plain": [
       "<IPython.core.display.HTML object>"
      ]
     },
     "metadata": {},
     "output_type": "display_data"
    },
    {
     "data": {
      "text/html": [
       "<span style=\"color:blue\"> |-n_layers: 1</span>"
      ],
      "text/plain": [
       "<IPython.core.display.HTML object>"
      ]
     },
     "metadata": {},
     "output_type": "display_data"
    },
    {
     "data": {
      "text/html": [
       "<span style=\"color:cyan\"> |-tuner/bracket: 1</span>"
      ],
      "text/plain": [
       "<IPython.core.display.HTML object>"
      ]
     },
     "metadata": {},
     "output_type": "display_data"
    },
    {
     "data": {
      "text/html": [
       "<span style=\"color:blue\"> |-tuner/epochs: 9</span>"
      ],
      "text/plain": [
       "<IPython.core.display.HTML object>"
      ]
     },
     "metadata": {},
     "output_type": "display_data"
    },
    {
     "data": {
      "text/html": [
       "<span style=\"color:cyan\"> |-tuner/initial_epoch: 0</span>"
      ],
      "text/plain": [
       "<IPython.core.display.HTML object>"
      ]
     },
     "metadata": {},
     "output_type": "display_data"
    },
    {
     "data": {
      "text/html": [
       "<span style=\"color:blue\"> |-tuner/round: 0</span>"
      ],
      "text/plain": [
       "<IPython.core.display.HTML object>"
      ]
     },
     "metadata": {},
     "output_type": "display_data"
    },
    {
     "name": "stdout",
     "output_type": "stream",
     "text": [
      "Train on 14450 samples, validate on 2550 samples\n",
      "Epoch 10/25\n",
      "14450/14450 - 2s - loss: 0.0660 - mean_squared_error: 0.0660 - val_loss: 0.0088 - val_mean_squared_error: 0.0088\n",
      "Epoch 11/25\n",
      "14450/14450 - 1s - loss: 0.0035 - mean_squared_error: 0.0035 - val_loss: 0.0014 - val_mean_squared_error: 0.0014\n",
      "Epoch 12/25\n",
      "14450/14450 - 1s - loss: 9.2013e-04 - mean_squared_error: 9.2013e-04 - val_loss: 6.4177e-04 - val_mean_squared_error: 6.4177e-04\n",
      "Epoch 13/25\n",
      "14450/14450 - 1s - loss: 5.4732e-04 - mean_squared_error: 5.4732e-04 - val_loss: 4.5239e-04 - val_mean_squared_error: 4.5239e-04\n",
      "Epoch 14/25\n",
      "14450/14450 - 1s - loss: 4.2810e-04 - mean_squared_error: 4.2810e-04 - val_loss: 3.8138e-04 - val_mean_squared_error: 3.8138e-04\n",
      "Epoch 15/25\n",
      "14450/14450 - 1s - loss: 3.8531e-04 - mean_squared_error: 3.8531e-04 - val_loss: 3.4150e-04 - val_mean_squared_error: 3.4150e-04\n",
      "Epoch 16/25\n",
      "14450/14450 - 1s - loss: 3.5354e-04 - mean_squared_error: 3.5354e-04 - val_loss: 3.2555e-04 - val_mean_squared_error: 3.2555e-04\n",
      "Epoch 17/25\n",
      "14450/14450 - 1s - loss: 3.3966e-04 - mean_squared_error: 3.3966e-04 - val_loss: 3.1518e-04 - val_mean_squared_error: 3.1518e-04\n",
      "Epoch 18/25\n",
      "14450/14450 - 1s - loss: 3.3987e-04 - mean_squared_error: 3.3987e-04 - val_loss: 3.8346e-04 - val_mean_squared_error: 3.8346e-04\n",
      "Epoch 19/25\n",
      "14450/14450 - 1s - loss: 3.4211e-04 - mean_squared_error: 3.4211e-04 - val_loss: 3.0179e-04 - val_mean_squared_error: 3.0179e-04\n",
      "Epoch 20/25\n",
      "14450/14450 - 1s - loss: 3.2852e-04 - mean_squared_error: 3.2852e-04 - val_loss: 3.0993e-04 - val_mean_squared_error: 3.0993e-04\n",
      "Epoch 21/25\n",
      "14450/14450 - 1s - loss: 3.3407e-04 - mean_squared_error: 3.3407e-04 - val_loss: 3.1012e-04 - val_mean_squared_error: 3.1012e-04\n",
      "Epoch 22/25\n",
      "14450/14450 - 1s - loss: 3.2492e-04 - mean_squared_error: 3.2492e-04 - val_loss: 3.7242e-04 - val_mean_squared_error: 3.7242e-04\n",
      "Epoch 23/25\n",
      "14450/14450 - 1s - loss: 3.2806e-04 - mean_squared_error: 3.2806e-04 - val_loss: 2.9612e-04 - val_mean_squared_error: 2.9612e-04\n",
      "Epoch 24/25\n",
      "14450/14450 - 1s - loss: 3.2018e-04 - mean_squared_error: 3.2018e-04 - val_loss: 4.1571e-04 - val_mean_squared_error: 4.1571e-04\n",
      "Epoch 25/25\n",
      "14450/14450 - 1s - loss: 3.2753e-04 - mean_squared_error: 3.2753e-04 - val_loss: 2.9592e-04 - val_mean_squared_error: 2.9592e-04\n"
     ]
    },
    {
     "data": {
      "text/html": [
       "<span style=\"color:#4527A0\"><h1 style=\"font-size:18px\">Trial complete</h1></span>"
      ],
      "text/plain": [
       "<IPython.core.display.HTML object>"
      ]
     },
     "metadata": {},
     "output_type": "display_data"
    },
    {
     "data": {
      "text/html": [
       "<span style=\"color:#4527A0\"><h1 style=\"font-size:18px\">Trial summary</h1></span>"
      ],
      "text/plain": [
       "<IPython.core.display.HTML object>"
      ]
     },
     "metadata": {},
     "output_type": "display_data"
    },
    {
     "data": {
      "text/html": [
       "<span style=\"color:cyan\"> |-Trial ID: 80be56f99f8e31fe7fcc8d1640806ab0</span>"
      ],
      "text/plain": [
       "<IPython.core.display.HTML object>"
      ]
     },
     "metadata": {},
     "output_type": "display_data"
    },
    {
     "data": {
      "text/html": [
       "<span style=\"color:cyan\"> |-Score: 0.00032017589546740055</span>"
      ],
      "text/plain": [
       "<IPython.core.display.HTML object>"
      ]
     },
     "metadata": {},
     "output_type": "display_data"
    },
    {
     "data": {
      "text/html": [
       "<span style=\"color:cyan\"> |-Best step: 0</span>"
      ],
      "text/plain": [
       "<IPython.core.display.HTML object>"
      ]
     },
     "metadata": {},
     "output_type": "display_data"
    },
    {
     "data": {
      "text/html": [
       "<span style=\"color:#7E57C2\"><h2 style=\"font-size:16px\">Hyperparameters:</h2></span>"
      ],
      "text/plain": [
       "<IPython.core.display.HTML object>"
      ]
     },
     "metadata": {},
     "output_type": "display_data"
    },
    {
     "data": {
      "text/html": [
       "<span style=\"color:cyan\"> |-hidden_0_units: 120</span>"
      ],
      "text/plain": [
       "<IPython.core.display.HTML object>"
      ]
     },
     "metadata": {},
     "output_type": "display_data"
    },
    {
     "data": {
      "text/html": [
       "<span style=\"color:blue\"> |-hidden_1_units: 130</span>"
      ],
      "text/plain": [
       "<IPython.core.display.HTML object>"
      ]
     },
     "metadata": {},
     "output_type": "display_data"
    },
    {
     "data": {
      "text/html": [
       "<span style=\"color:cyan\"> |-learning_rate: 0.001</span>"
      ],
      "text/plain": [
       "<IPython.core.display.HTML object>"
      ]
     },
     "metadata": {},
     "output_type": "display_data"
    },
    {
     "data": {
      "text/html": [
       "<span style=\"color:blue\"> |-n_layers: 1</span>"
      ],
      "text/plain": [
       "<IPython.core.display.HTML object>"
      ]
     },
     "metadata": {},
     "output_type": "display_data"
    },
    {
     "data": {
      "text/html": [
       "<span style=\"color:cyan\"> |-tuner/bracket: 1</span>"
      ],
      "text/plain": [
       "<IPython.core.display.HTML object>"
      ]
     },
     "metadata": {},
     "output_type": "display_data"
    },
    {
     "data": {
      "text/html": [
       "<span style=\"color:blue\"> |-tuner/epochs: 25</span>"
      ],
      "text/plain": [
       "<IPython.core.display.HTML object>"
      ]
     },
     "metadata": {},
     "output_type": "display_data"
    },
    {
     "data": {
      "text/html": [
       "<span style=\"color:cyan\"> |-tuner/initial_epoch: 9</span>"
      ],
      "text/plain": [
       "<IPython.core.display.HTML object>"
      ]
     },
     "metadata": {},
     "output_type": "display_data"
    },
    {
     "data": {
      "text/html": [
       "<span style=\"color:blue\"> |-tuner/round: 1</span>"
      ],
      "text/plain": [
       "<IPython.core.display.HTML object>"
      ]
     },
     "metadata": {},
     "output_type": "display_data"
    },
    {
     "data": {
      "text/html": [
       "<span style=\"color:cyan\"> |-tuner/trial_id: 0c29dcb3510da296ed74f92572ba499a</span>"
      ],
      "text/plain": [
       "<IPython.core.display.HTML object>"
      ]
     },
     "metadata": {},
     "output_type": "display_data"
    },
    {
     "name": "stdout",
     "output_type": "stream",
     "text": [
      "Train on 14450 samples, validate on 2550 samples\n",
      "Epoch 10/25\n",
      "14450/14450 - 2s - loss: 0.0447 - mean_squared_error: 0.0447 - val_loss: 0.0031 - val_mean_squared_error: 0.0031\n",
      "Epoch 11/25\n",
      "14450/14450 - 1s - loss: 0.0014 - mean_squared_error: 0.0014 - val_loss: 7.6079e-04 - val_mean_squared_error: 7.6079e-04\n",
      "Epoch 12/25\n",
      "14450/14450 - 1s - loss: 5.8344e-04 - mean_squared_error: 5.8344e-04 - val_loss: 4.7681e-04 - val_mean_squared_error: 4.7680e-04\n",
      "Epoch 13/25\n",
      "14450/14450 - 1s - loss: 4.2641e-04 - mean_squared_error: 4.2641e-04 - val_loss: 3.6845e-04 - val_mean_squared_error: 3.6845e-04\n",
      "Epoch 14/25\n",
      "14450/14450 - 1s - loss: 3.7246e-04 - mean_squared_error: 3.7246e-04 - val_loss: 3.3556e-04 - val_mean_squared_error: 3.3556e-04\n",
      "Epoch 15/25\n",
      "14450/14450 - 1s - loss: 3.6953e-04 - mean_squared_error: 3.6953e-04 - val_loss: 3.2028e-04 - val_mean_squared_error: 3.2028e-04\n",
      "Epoch 16/25\n",
      "14450/14450 - 1s - loss: 3.4966e-04 - mean_squared_error: 3.4966e-04 - val_loss: 3.4817e-04 - val_mean_squared_error: 3.4817e-04\n",
      "Epoch 17/25\n",
      "14450/14450 - 1s - loss: 3.4333e-04 - mean_squared_error: 3.4333e-04 - val_loss: 3.7530e-04 - val_mean_squared_error: 3.7530e-04\n",
      "Epoch 18/25\n",
      "14450/14450 - 2s - loss: 3.4508e-04 - mean_squared_error: 3.4508e-04 - val_loss: 3.2069e-04 - val_mean_squared_error: 3.2069e-04\n",
      "Epoch 19/25\n",
      "14450/14450 - 1s - loss: 3.4612e-04 - mean_squared_error: 3.4612e-04 - val_loss: 3.0708e-04 - val_mean_squared_error: 3.0708e-04\n",
      "Epoch 20/25\n",
      "14450/14450 - 1s - loss: 3.4040e-04 - mean_squared_error: 3.4040e-04 - val_loss: 3.6215e-04 - val_mean_squared_error: 3.6215e-04\n",
      "Epoch 21/25\n",
      "14450/14450 - 1s - loss: 3.3837e-04 - mean_squared_error: 3.3837e-04 - val_loss: 3.2358e-04 - val_mean_squared_error: 3.2358e-04\n",
      "Epoch 22/25\n",
      "14450/14450 - 1s - loss: 3.4746e-04 - mean_squared_error: 3.4746e-04 - val_loss: 3.8479e-04 - val_mean_squared_error: 3.8479e-04\n",
      "Epoch 23/25\n",
      "14450/14450 - 1s - loss: 3.4257e-04 - mean_squared_error: 3.4257e-04 - val_loss: 3.1724e-04 - val_mean_squared_error: 3.1724e-04\n",
      "Epoch 24/25\n",
      "14450/14450 - 1s - loss: 3.4285e-04 - mean_squared_error: 3.4285e-04 - val_loss: 3.6540e-04 - val_mean_squared_error: 3.6540e-04\n",
      "Epoch 25/25\n",
      "14450/14450 - 1s - loss: 3.2749e-04 - mean_squared_error: 3.2749e-04 - val_loss: 3.2294e-04 - val_mean_squared_error: 3.2294e-04\n"
     ]
    },
    {
     "data": {
      "text/html": [
       "<span style=\"color:#4527A0\"><h1 style=\"font-size:18px\">Trial complete</h1></span>"
      ],
      "text/plain": [
       "<IPython.core.display.HTML object>"
      ]
     },
     "metadata": {},
     "output_type": "display_data"
    },
    {
     "data": {
      "text/html": [
       "<span style=\"color:#4527A0\"><h1 style=\"font-size:18px\">Trial summary</h1></span>"
      ],
      "text/plain": [
       "<IPython.core.display.HTML object>"
      ]
     },
     "metadata": {},
     "output_type": "display_data"
    },
    {
     "data": {
      "text/html": [
       "<span style=\"color:cyan\"> |-Trial ID: 220184895ddb03efaaecc7fb542806c8</span>"
      ],
      "text/plain": [
       "<IPython.core.display.HTML object>"
      ]
     },
     "metadata": {},
     "output_type": "display_data"
    },
    {
     "data": {
      "text/html": [
       "<span style=\"color:cyan\"> |-Score: 0.0003274917835369706</span>"
      ],
      "text/plain": [
       "<IPython.core.display.HTML object>"
      ]
     },
     "metadata": {},
     "output_type": "display_data"
    },
    {
     "data": {
      "text/html": [
       "<span style=\"color:cyan\"> |-Best step: 0</span>"
      ],
      "text/plain": [
       "<IPython.core.display.HTML object>"
      ]
     },
     "metadata": {},
     "output_type": "display_data"
    },
    {
     "data": {
      "text/html": [
       "<span style=\"color:#7E57C2\"><h2 style=\"font-size:16px\">Hyperparameters:</h2></span>"
      ],
      "text/plain": [
       "<IPython.core.display.HTML object>"
      ]
     },
     "metadata": {},
     "output_type": "display_data"
    },
    {
     "data": {
      "text/html": [
       "<span style=\"color:cyan\"> |-hidden_0_units: 222</span>"
      ],
      "text/plain": [
       "<IPython.core.display.HTML object>"
      ]
     },
     "metadata": {},
     "output_type": "display_data"
    },
    {
     "data": {
      "text/html": [
       "<span style=\"color:blue\"> |-hidden_1_units: 285</span>"
      ],
      "text/plain": [
       "<IPython.core.display.HTML object>"
      ]
     },
     "metadata": {},
     "output_type": "display_data"
    },
    {
     "data": {
      "text/html": [
       "<span style=\"color:cyan\"> |-learning_rate: 0.001</span>"
      ],
      "text/plain": [
       "<IPython.core.display.HTML object>"
      ]
     },
     "metadata": {},
     "output_type": "display_data"
    },
    {
     "data": {
      "text/html": [
       "<span style=\"color:blue\"> |-n_layers: 1</span>"
      ],
      "text/plain": [
       "<IPython.core.display.HTML object>"
      ]
     },
     "metadata": {},
     "output_type": "display_data"
    },
    {
     "data": {
      "text/html": [
       "<span style=\"color:cyan\"> |-tuner/bracket: 1</span>"
      ],
      "text/plain": [
       "<IPython.core.display.HTML object>"
      ]
     },
     "metadata": {},
     "output_type": "display_data"
    },
    {
     "data": {
      "text/html": [
       "<span style=\"color:blue\"> |-tuner/epochs: 25</span>"
      ],
      "text/plain": [
       "<IPython.core.display.HTML object>"
      ]
     },
     "metadata": {},
     "output_type": "display_data"
    },
    {
     "data": {
      "text/html": [
       "<span style=\"color:cyan\"> |-tuner/initial_epoch: 9</span>"
      ],
      "text/plain": [
       "<IPython.core.display.HTML object>"
      ]
     },
     "metadata": {},
     "output_type": "display_data"
    },
    {
     "data": {
      "text/html": [
       "<span style=\"color:blue\"> |-tuner/round: 1</span>"
      ],
      "text/plain": [
       "<IPython.core.display.HTML object>"
      ]
     },
     "metadata": {},
     "output_type": "display_data"
    },
    {
     "data": {
      "text/html": [
       "<span style=\"color:cyan\"> |-tuner/trial_id: 3526529860809a580bfc79c8d887e0cd</span>"
      ],
      "text/plain": [
       "<IPython.core.display.HTML object>"
      ]
     },
     "metadata": {},
     "output_type": "display_data"
    },
    {
     "name": "stdout",
     "output_type": "stream",
     "text": [
      "Train on 14450 samples, validate on 2550 samples\n",
      "Epoch 1/25\n",
      "14450/14450 - 3s - loss: 0.1346 - mean_squared_error: 0.1346 - val_loss: 0.0799 - val_mean_squared_error: 0.0799\n",
      "Epoch 2/25\n",
      "14450/14450 - 2s - loss: 0.0511 - mean_squared_error: 0.0511 - val_loss: 0.0306 - val_mean_squared_error: 0.0306\n",
      "Epoch 3/25\n",
      "14450/14450 - 2s - loss: 0.0191 - mean_squared_error: 0.0191 - val_loss: 0.0109 - val_mean_squared_error: 0.0109\n",
      "Epoch 4/25\n",
      "14450/14450 - 2s - loss: 0.0069 - mean_squared_error: 0.0069 - val_loss: 0.0042 - val_mean_squared_error: 0.0042\n",
      "Epoch 5/25\n",
      "14450/14450 - 2s - loss: 0.0029 - mean_squared_error: 0.0029 - val_loss: 0.0019 - val_mean_squared_error: 0.0019\n",
      "Epoch 6/25\n",
      "14450/14450 - 2s - loss: 0.0015 - mean_squared_error: 0.0015 - val_loss: 0.0011 - val_mean_squared_error: 0.0011\n",
      "Epoch 7/25\n",
      "14450/14450 - 2s - loss: 9.0945e-04 - mean_squared_error: 9.0945e-04 - val_loss: 7.4354e-04 - val_mean_squared_error: 7.4354e-04\n",
      "Epoch 8/25\n",
      "14450/14450 - 2s - loss: 6.5474e-04 - mean_squared_error: 6.5474e-04 - val_loss: 5.6625e-04 - val_mean_squared_error: 5.6625e-04\n",
      "Epoch 9/25\n",
      "14450/14450 - 2s - loss: 5.2196e-04 - mean_squared_error: 5.2196e-04 - val_loss: 4.7825e-04 - val_mean_squared_error: 4.7825e-04\n",
      "Epoch 10/25\n",
      "14450/14450 - 1s - loss: 4.4696e-04 - mean_squared_error: 4.4696e-04 - val_loss: 4.1369e-04 - val_mean_squared_error: 4.1369e-04\n",
      "Epoch 11/25\n",
      "14450/14450 - 2s - loss: 4.0089e-04 - mean_squared_error: 4.0089e-04 - val_loss: 3.6734e-04 - val_mean_squared_error: 3.6734e-04\n",
      "Epoch 12/25\n",
      "14450/14450 - 2s - loss: 3.6805e-04 - mean_squared_error: 3.6805e-04 - val_loss: 3.4746e-04 - val_mean_squared_error: 3.4746e-04\n",
      "Epoch 13/25\n",
      "14450/14450 - 2s - loss: 3.4923e-04 - mean_squared_error: 3.4923e-04 - val_loss: 3.3965e-04 - val_mean_squared_error: 3.3965e-04\n",
      "Epoch 14/25\n",
      "14450/14450 - 2s - loss: 3.3655e-04 - mean_squared_error: 3.3655e-04 - val_loss: 3.1647e-04 - val_mean_squared_error: 3.1647e-04\n",
      "Epoch 15/25\n",
      "14450/14450 - 2s - loss: 3.2689e-04 - mean_squared_error: 3.2689e-04 - val_loss: 3.0993e-04 - val_mean_squared_error: 3.0993e-04\n",
      "Epoch 16/25\n",
      "14450/14450 - 2s - loss: 3.1886e-04 - mean_squared_error: 3.1886e-04 - val_loss: 3.0906e-04 - val_mean_squared_error: 3.0906e-04\n",
      "Epoch 17/25\n",
      "14450/14450 - 2s - loss: 3.1675e-04 - mean_squared_error: 3.1675e-04 - val_loss: 2.9880e-04 - val_mean_squared_error: 2.9880e-04\n",
      "Epoch 18/25\n",
      "14450/14450 - 1s - loss: 3.1590e-04 - mean_squared_error: 3.1590e-04 - val_loss: 2.9614e-04 - val_mean_squared_error: 2.9614e-04\n",
      "Epoch 19/25\n",
      "14450/14450 - 1s - loss: 3.1087e-04 - mean_squared_error: 3.1087e-04 - val_loss: 3.0509e-04 - val_mean_squared_error: 3.0509e-04\n",
      "Epoch 20/25\n",
      "14450/14450 - 2s - loss: 3.0614e-04 - mean_squared_error: 3.0614e-04 - val_loss: 3.1845e-04 - val_mean_squared_error: 3.1845e-04\n",
      "Epoch 21/25\n",
      "14450/14450 - 2s - loss: 3.0896e-04 - mean_squared_error: 3.0896e-04 - val_loss: 3.0666e-04 - val_mean_squared_error: 3.0666e-04\n",
      "Epoch 22/25\n",
      "14450/14450 - 2s - loss: 3.0304e-04 - mean_squared_error: 3.0304e-04 - val_loss: 3.3767e-04 - val_mean_squared_error: 3.3767e-04\n",
      "Epoch 23/25\n",
      "14450/14450 - 2s - loss: 3.0608e-04 - mean_squared_error: 3.0608e-04 - val_loss: 3.0565e-04 - val_mean_squared_error: 3.0565e-04\n",
      "Epoch 24/25\n",
      "14450/14450 - 2s - loss: 3.0278e-04 - mean_squared_error: 3.0278e-04 - val_loss: 2.8444e-04 - val_mean_squared_error: 2.8444e-04\n",
      "Epoch 25/25\n",
      "14450/14450 - 1s - loss: 3.0640e-04 - mean_squared_error: 3.0640e-04 - val_loss: 2.8939e-04 - val_mean_squared_error: 2.8939e-04\n"
     ]
    },
    {
     "data": {
      "text/html": [
       "<span style=\"color:#4527A0\"><h1 style=\"font-size:18px\">Trial complete</h1></span>"
      ],
      "text/plain": [
       "<IPython.core.display.HTML object>"
      ]
     },
     "metadata": {},
     "output_type": "display_data"
    },
    {
     "data": {
      "text/html": [
       "<span style=\"color:#4527A0\"><h1 style=\"font-size:18px\">Trial summary</h1></span>"
      ],
      "text/plain": [
       "<IPython.core.display.HTML object>"
      ]
     },
     "metadata": {},
     "output_type": "display_data"
    },
    {
     "data": {
      "text/html": [
       "<span style=\"color:cyan\"> |-Trial ID: 5ca13846e132050507059a30b38efe57</span>"
      ],
      "text/plain": [
       "<IPython.core.display.HTML object>"
      ]
     },
     "metadata": {},
     "output_type": "display_data"
    },
    {
     "data": {
      "text/html": [
       "<span style=\"color:cyan\"> |-Score: 0.00030277660698629916</span>"
      ],
      "text/plain": [
       "<IPython.core.display.HTML object>"
      ]
     },
     "metadata": {},
     "output_type": "display_data"
    },
    {
     "data": {
      "text/html": [
       "<span style=\"color:cyan\"> |-Best step: 0</span>"
      ],
      "text/plain": [
       "<IPython.core.display.HTML object>"
      ]
     },
     "metadata": {},
     "output_type": "display_data"
    },
    {
     "data": {
      "text/html": [
       "<span style=\"color:#7E57C2\"><h2 style=\"font-size:16px\">Hyperparameters:</h2></span>"
      ],
      "text/plain": [
       "<IPython.core.display.HTML object>"
      ]
     },
     "metadata": {},
     "output_type": "display_data"
    },
    {
     "data": {
      "text/html": [
       "<span style=\"color:cyan\"> |-hidden_0_units: 113</span>"
      ],
      "text/plain": [
       "<IPython.core.display.HTML object>"
      ]
     },
     "metadata": {},
     "output_type": "display_data"
    },
    {
     "data": {
      "text/html": [
       "<span style=\"color:blue\"> |-hidden_1_units: 307</span>"
      ],
      "text/plain": [
       "<IPython.core.display.HTML object>"
      ]
     },
     "metadata": {},
     "output_type": "display_data"
    },
    {
     "data": {
      "text/html": [
       "<span style=\"color:cyan\"> |-learning_rate: 0.0001</span>"
      ],
      "text/plain": [
       "<IPython.core.display.HTML object>"
      ]
     },
     "metadata": {},
     "output_type": "display_data"
    },
    {
     "data": {
      "text/html": [
       "<span style=\"color:blue\"> |-n_layers: 2</span>"
      ],
      "text/plain": [
       "<IPython.core.display.HTML object>"
      ]
     },
     "metadata": {},
     "output_type": "display_data"
    },
    {
     "data": {
      "text/html": [
       "<span style=\"color:cyan\"> |-tuner/bracket: 0</span>"
      ],
      "text/plain": [
       "<IPython.core.display.HTML object>"
      ]
     },
     "metadata": {},
     "output_type": "display_data"
    },
    {
     "data": {
      "text/html": [
       "<span style=\"color:blue\"> |-tuner/epochs: 25</span>"
      ],
      "text/plain": [
       "<IPython.core.display.HTML object>"
      ]
     },
     "metadata": {},
     "output_type": "display_data"
    },
    {
     "data": {
      "text/html": [
       "<span style=\"color:cyan\"> |-tuner/initial_epoch: 0</span>"
      ],
      "text/plain": [
       "<IPython.core.display.HTML object>"
      ]
     },
     "metadata": {},
     "output_type": "display_data"
    },
    {
     "data": {
      "text/html": [
       "<span style=\"color:blue\"> |-tuner/round: 0</span>"
      ],
      "text/plain": [
       "<IPython.core.display.HTML object>"
      ]
     },
     "metadata": {},
     "output_type": "display_data"
    },
    {
     "name": "stdout",
     "output_type": "stream",
     "text": [
      "Train on 14450 samples, validate on 2550 samples\n",
      "Epoch 1/25\n",
      "14450/14450 - 2s - loss: 0.0649 - mean_squared_error: 0.0649 - val_loss: 0.0221 - val_mean_squared_error: 0.0221\n",
      "Epoch 2/25\n",
      "14450/14450 - 1s - loss: 0.0192 - mean_squared_error: 0.0192 - val_loss: 0.0190 - val_mean_squared_error: 0.0190\n",
      "Epoch 3/25\n",
      "14450/14450 - 1s - loss: 0.0181 - mean_squared_error: 0.0181 - val_loss: 0.0186 - val_mean_squared_error: 0.0186\n",
      "Epoch 4/25\n",
      "14450/14450 - 1s - loss: 0.0178 - mean_squared_error: 0.0178 - val_loss: 0.0188 - val_mean_squared_error: 0.0188\n",
      "Epoch 5/25\n",
      "14450/14450 - 1s - loss: 0.0176 - mean_squared_error: 0.0176 - val_loss: 0.0185 - val_mean_squared_error: 0.0185\n",
      "Epoch 6/25\n",
      "14450/14450 - 1s - loss: 0.0174 - mean_squared_error: 0.0174 - val_loss: 0.0184 - val_mean_squared_error: 0.0184\n",
      "Epoch 7/25\n",
      "14450/14450 - 1s - loss: 0.0172 - mean_squared_error: 0.0172 - val_loss: 0.0185 - val_mean_squared_error: 0.0185\n",
      "Epoch 8/25\n",
      "14450/14450 - 1s - loss: 0.0170 - mean_squared_error: 0.0170 - val_loss: 0.0182 - val_mean_squared_error: 0.0182\n",
      "Epoch 9/25\n",
      "14450/14450 - 1s - loss: 0.0169 - mean_squared_error: 0.0169 - val_loss: 0.0184 - val_mean_squared_error: 0.0184\n",
      "Epoch 10/25\n",
      "14450/14450 - 1s - loss: 0.0167 - mean_squared_error: 0.0167 - val_loss: 0.0180 - val_mean_squared_error: 0.0180\n",
      "Epoch 11/25\n",
      "14450/14450 - 1s - loss: 0.0166 - mean_squared_error: 0.0166 - val_loss: 0.0182 - val_mean_squared_error: 0.0182\n",
      "Epoch 12/25\n",
      "14450/14450 - 1s - loss: 0.0165 - mean_squared_error: 0.0165 - val_loss: 0.0179 - val_mean_squared_error: 0.0179\n",
      "Epoch 13/25\n",
      "14450/14450 - 1s - loss: 0.0164 - mean_squared_error: 0.0164 - val_loss: 0.0179 - val_mean_squared_error: 0.0179\n",
      "Epoch 14/25\n",
      "14450/14450 - 1s - loss: 0.0163 - mean_squared_error: 0.0163 - val_loss: 0.0177 - val_mean_squared_error: 0.0177\n",
      "Epoch 15/25\n",
      "14450/14450 - 1s - loss: 0.0162 - mean_squared_error: 0.0162 - val_loss: 0.0177 - val_mean_squared_error: 0.0177\n",
      "Epoch 16/25\n",
      "14450/14450 - 1s - loss: 0.0162 - mean_squared_error: 0.0162 - val_loss: 0.0174 - val_mean_squared_error: 0.0174\n",
      "Epoch 17/25\n",
      "14450/14450 - 1s - loss: 0.0161 - mean_squared_error: 0.0161 - val_loss: 0.0174 - val_mean_squared_error: 0.0174\n",
      "Epoch 18/25\n",
      "14450/14450 - 1s - loss: 0.0160 - mean_squared_error: 0.0160 - val_loss: 0.0173 - val_mean_squared_error: 0.0173\n",
      "Epoch 19/25\n",
      "14450/14450 - 1s - loss: 0.0159 - mean_squared_error: 0.0159 - val_loss: 0.0172 - val_mean_squared_error: 0.0172\n",
      "Epoch 20/25\n",
      "14450/14450 - 1s - loss: 0.0158 - mean_squared_error: 0.0158 - val_loss: 0.0173 - val_mean_squared_error: 0.0173\n",
      "Epoch 21/25\n",
      "14450/14450 - 1s - loss: 0.0158 - mean_squared_error: 0.0158 - val_loss: 0.0171 - val_mean_squared_error: 0.0171\n",
      "Epoch 22/25\n",
      "14450/14450 - 1s - loss: 0.0157 - mean_squared_error: 0.0157 - val_loss: 0.0170 - val_mean_squared_error: 0.0170\n",
      "Epoch 23/25\n",
      "14450/14450 - 1s - loss: 0.0156 - mean_squared_error: 0.0156 - val_loss: 0.0170 - val_mean_squared_error: 0.0170\n",
      "Epoch 24/25\n",
      "14450/14450 - 1s - loss: 0.0156 - mean_squared_error: 0.0156 - val_loss: 0.0169 - val_mean_squared_error: 0.0169\n",
      "Epoch 25/25\n",
      "14450/14450 - 1s - loss: 0.0155 - mean_squared_error: 0.0155 - val_loss: 0.0168 - val_mean_squared_error: 0.0168\n"
     ]
    },
    {
     "data": {
      "text/html": [
       "<span style=\"color:#4527A0\"><h1 style=\"font-size:18px\">Trial complete</h1></span>"
      ],
      "text/plain": [
       "<IPython.core.display.HTML object>"
      ]
     },
     "metadata": {},
     "output_type": "display_data"
    },
    {
     "data": {
      "text/html": [
       "<span style=\"color:#4527A0\"><h1 style=\"font-size:18px\">Trial summary</h1></span>"
      ],
      "text/plain": [
       "<IPython.core.display.HTML object>"
      ]
     },
     "metadata": {},
     "output_type": "display_data"
    },
    {
     "data": {
      "text/html": [
       "<span style=\"color:cyan\"> |-Trial ID: 5bbc4b66946f9c4c8201b569fa86ae3c</span>"
      ],
      "text/plain": [
       "<IPython.core.display.HTML object>"
      ]
     },
     "metadata": {},
     "output_type": "display_data"
    },
    {
     "data": {
      "text/html": [
       "<span style=\"color:cyan\"> |-Score: 0.015543607994914055</span>"
      ],
      "text/plain": [
       "<IPython.core.display.HTML object>"
      ]
     },
     "metadata": {},
     "output_type": "display_data"
    },
    {
     "data": {
      "text/html": [
       "<span style=\"color:cyan\"> |-Best step: 0</span>"
      ],
      "text/plain": [
       "<IPython.core.display.HTML object>"
      ]
     },
     "metadata": {},
     "output_type": "display_data"
    },
    {
     "data": {
      "text/html": [
       "<span style=\"color:#7E57C2\"><h2 style=\"font-size:16px\">Hyperparameters:</h2></span>"
      ],
      "text/plain": [
       "<IPython.core.display.HTML object>"
      ]
     },
     "metadata": {},
     "output_type": "display_data"
    },
    {
     "data": {
      "text/html": [
       "<span style=\"color:cyan\"> |-hidden_0_units: 233</span>"
      ],
      "text/plain": [
       "<IPython.core.display.HTML object>"
      ]
     },
     "metadata": {},
     "output_type": "display_data"
    },
    {
     "data": {
      "text/html": [
       "<span style=\"color:blue\"> |-hidden_1_units: 30</span>"
      ],
      "text/plain": [
       "<IPython.core.display.HTML object>"
      ]
     },
     "metadata": {},
     "output_type": "display_data"
    },
    {
     "data": {
      "text/html": [
       "<span style=\"color:cyan\"> |-learning_rate: 0.001</span>"
      ],
      "text/plain": [
       "<IPython.core.display.HTML object>"
      ]
     },
     "metadata": {},
     "output_type": "display_data"
    },
    {
     "data": {
      "text/html": [
       "<span style=\"color:blue\"> |-n_layers: 2</span>"
      ],
      "text/plain": [
       "<IPython.core.display.HTML object>"
      ]
     },
     "metadata": {},
     "output_type": "display_data"
    },
    {
     "data": {
      "text/html": [
       "<span style=\"color:cyan\"> |-tuner/bracket: 0</span>"
      ],
      "text/plain": [
       "<IPython.core.display.HTML object>"
      ]
     },
     "metadata": {},
     "output_type": "display_data"
    },
    {
     "data": {
      "text/html": [
       "<span style=\"color:blue\"> |-tuner/epochs: 25</span>"
      ],
      "text/plain": [
       "<IPython.core.display.HTML object>"
      ]
     },
     "metadata": {},
     "output_type": "display_data"
    },
    {
     "data": {
      "text/html": [
       "<span style=\"color:cyan\"> |-tuner/initial_epoch: 0</span>"
      ],
      "text/plain": [
       "<IPython.core.display.HTML object>"
      ]
     },
     "metadata": {},
     "output_type": "display_data"
    },
    {
     "data": {
      "text/html": [
       "<span style=\"color:blue\"> |-tuner/round: 0</span>"
      ],
      "text/plain": [
       "<IPython.core.display.HTML object>"
      ]
     },
     "metadata": {},
     "output_type": "display_data"
    },
    {
     "name": "stdout",
     "output_type": "stream",
     "text": [
      "Train on 14450 samples, validate on 2550 samples\n",
      "Epoch 1/25\n",
      "14450/14450 - 2s - loss: 0.1599 - mean_squared_error: 0.1599 - val_loss: 0.1267 - val_mean_squared_error: 0.1267\n",
      "Epoch 2/25\n",
      "14450/14450 - 1s - loss: 0.0967 - mean_squared_error: 0.0967 - val_loss: 0.0709 - val_mean_squared_error: 0.0709\n",
      "Epoch 3/25\n",
      "14450/14450 - 1s - loss: 0.0532 - mean_squared_error: 0.0532 - val_loss: 0.0392 - val_mean_squared_error: 0.0392\n",
      "Epoch 4/25\n",
      "14450/14450 - 1s - loss: 0.0295 - mean_squared_error: 0.0295 - val_loss: 0.0218 - val_mean_squared_error: 0.0218\n",
      "Epoch 5/25\n",
      "14450/14450 - 1s - loss: 0.0163 - mean_squared_error: 0.0163 - val_loss: 0.0121 - val_mean_squared_error: 0.0121\n",
      "Epoch 6/25\n",
      "14450/14450 - 1s - loss: 0.0092 - mean_squared_error: 0.0092 - val_loss: 0.0069 - val_mean_squared_error: 0.0069\n",
      "Epoch 7/25\n",
      "14450/14450 - 1s - loss: 0.0054 - mean_squared_error: 0.0054 - val_loss: 0.0041 - val_mean_squared_error: 0.0041\n",
      "Epoch 8/25\n",
      "14450/14450 - 1s - loss: 0.0033 - mean_squared_error: 0.0033 - val_loss: 0.0026 - val_mean_squared_error: 0.0026\n",
      "Epoch 9/25\n",
      "14450/14450 - 1s - loss: 0.0022 - mean_squared_error: 0.0022 - val_loss: 0.0018 - val_mean_squared_error: 0.0018\n",
      "Epoch 10/25\n",
      "14450/14450 - 1s - loss: 0.0015 - mean_squared_error: 0.0015 - val_loss: 0.0013 - val_mean_squared_error: 0.0013\n",
      "Epoch 11/25\n",
      "14450/14450 - 1s - loss: 0.0011 - mean_squared_error: 0.0011 - val_loss: 9.4919e-04 - val_mean_squared_error: 9.4919e-04\n",
      "Epoch 12/25\n",
      "14450/14450 - 1s - loss: 8.4939e-04 - mean_squared_error: 8.4939e-04 - val_loss: 7.5622e-04 - val_mean_squared_error: 7.5622e-04\n",
      "Epoch 13/25\n",
      "14450/14450 - 1s - loss: 6.8283e-04 - mean_squared_error: 6.8283e-04 - val_loss: 6.2115e-04 - val_mean_squared_error: 6.2115e-04\n",
      "Epoch 14/25\n",
      "14450/14450 - 1s - loss: 5.7083e-04 - mean_squared_error: 5.7083e-04 - val_loss: 5.1883e-04 - val_mean_squared_error: 5.1883e-04\n",
      "Epoch 15/25\n",
      "14450/14450 - 1s - loss: 4.9665e-04 - mean_squared_error: 4.9665e-04 - val_loss: 4.5613e-04 - val_mean_squared_error: 4.5613e-04\n",
      "Epoch 16/25\n",
      "14450/14450 - 1s - loss: 4.4336e-04 - mean_squared_error: 4.4336e-04 - val_loss: 4.1437e-04 - val_mean_squared_error: 4.1437e-04\n",
      "Epoch 17/25\n",
      "14450/14450 - 1s - loss: 4.0887e-04 - mean_squared_error: 4.0887e-04 - val_loss: 3.8177e-04 - val_mean_squared_error: 3.8177e-04\n",
      "Epoch 18/25\n",
      "14450/14450 - 1s - loss: 3.8146e-04 - mean_squared_error: 3.8146e-04 - val_loss: 3.6188e-04 - val_mean_squared_error: 3.6188e-04\n",
      "Epoch 19/25\n",
      "14450/14450 - 1s - loss: 3.6305e-04 - mean_squared_error: 3.6305e-04 - val_loss: 3.4269e-04 - val_mean_squared_error: 3.4269e-04\n",
      "Epoch 20/25\n",
      "14450/14450 - 1s - loss: 3.4620e-04 - mean_squared_error: 3.4620e-04 - val_loss: 3.4083e-04 - val_mean_squared_error: 3.4083e-04\n",
      "Epoch 21/25\n",
      "14450/14450 - 1s - loss: 3.3690e-04 - mean_squared_error: 3.3690e-04 - val_loss: 3.3619e-04 - val_mean_squared_error: 3.3619e-04\n",
      "Epoch 22/25\n",
      "14450/14450 - 1s - loss: 3.2916e-04 - mean_squared_error: 3.2916e-04 - val_loss: 3.1603e-04 - val_mean_squared_error: 3.1603e-04\n",
      "Epoch 23/25\n",
      "14450/14450 - 1s - loss: 3.2018e-04 - mean_squared_error: 3.2018e-04 - val_loss: 3.0637e-04 - val_mean_squared_error: 3.0637e-04\n",
      "Epoch 24/25\n",
      "14450/14450 - 1s - loss: 3.1775e-04 - mean_squared_error: 3.1775e-04 - val_loss: 3.0491e-04 - val_mean_squared_error: 3.0491e-04\n",
      "Epoch 25/25\n",
      "14450/14450 - 1s - loss: 3.1507e-04 - mean_squared_error: 3.1507e-04 - val_loss: 3.1037e-04 - val_mean_squared_error: 3.1037e-04\n"
     ]
    },
    {
     "data": {
      "text/html": [
       "<span style=\"color:#4527A0\"><h1 style=\"font-size:18px\">Trial complete</h1></span>"
      ],
      "text/plain": [
       "<IPython.core.display.HTML object>"
      ]
     },
     "metadata": {},
     "output_type": "display_data"
    },
    {
     "data": {
      "text/html": [
       "<span style=\"color:#4527A0\"><h1 style=\"font-size:18px\">Trial summary</h1></span>"
      ],
      "text/plain": [
       "<IPython.core.display.HTML object>"
      ]
     },
     "metadata": {},
     "output_type": "display_data"
    },
    {
     "data": {
      "text/html": [
       "<span style=\"color:cyan\"> |-Trial ID: c5140a2c85b671e20ae7270546d8a336</span>"
      ],
      "text/plain": [
       "<IPython.core.display.HTML object>"
      ]
     },
     "metadata": {},
     "output_type": "display_data"
    },
    {
     "data": {
      "text/html": [
       "<span style=\"color:cyan\"> |-Score: 0.000315072073135525</span>"
      ],
      "text/plain": [
       "<IPython.core.display.HTML object>"
      ]
     },
     "metadata": {},
     "output_type": "display_data"
    },
    {
     "data": {
      "text/html": [
       "<span style=\"color:cyan\"> |-Best step: 0</span>"
      ],
      "text/plain": [
       "<IPython.core.display.HTML object>"
      ]
     },
     "metadata": {},
     "output_type": "display_data"
    },
    {
     "data": {
      "text/html": [
       "<span style=\"color:#7E57C2\"><h2 style=\"font-size:16px\">Hyperparameters:</h2></span>"
      ],
      "text/plain": [
       "<IPython.core.display.HTML object>"
      ]
     },
     "metadata": {},
     "output_type": "display_data"
    },
    {
     "data": {
      "text/html": [
       "<span style=\"color:cyan\"> |-hidden_0_units: 280</span>"
      ],
      "text/plain": [
       "<IPython.core.display.HTML object>"
      ]
     },
     "metadata": {},
     "output_type": "display_data"
    },
    {
     "data": {
      "text/html": [
       "<span style=\"color:blue\"> |-hidden_1_units: 60</span>"
      ],
      "text/plain": [
       "<IPython.core.display.HTML object>"
      ]
     },
     "metadata": {},
     "output_type": "display_data"
    },
    {
     "data": {
      "text/html": [
       "<span style=\"color:cyan\"> |-learning_rate: 0.0001</span>"
      ],
      "text/plain": [
       "<IPython.core.display.HTML object>"
      ]
     },
     "metadata": {},
     "output_type": "display_data"
    },
    {
     "data": {
      "text/html": [
       "<span style=\"color:blue\"> |-n_layers: 1</span>"
      ],
      "text/plain": [
       "<IPython.core.display.HTML object>"
      ]
     },
     "metadata": {},
     "output_type": "display_data"
    },
    {
     "data": {
      "text/html": [
       "<span style=\"color:cyan\"> |-tuner/bracket: 0</span>"
      ],
      "text/plain": [
       "<IPython.core.display.HTML object>"
      ]
     },
     "metadata": {},
     "output_type": "display_data"
    },
    {
     "data": {
      "text/html": [
       "<span style=\"color:blue\"> |-tuner/epochs: 25</span>"
      ],
      "text/plain": [
       "<IPython.core.display.HTML object>"
      ]
     },
     "metadata": {},
     "output_type": "display_data"
    },
    {
     "data": {
      "text/html": [
       "<span style=\"color:cyan\"> |-tuner/initial_epoch: 0</span>"
      ],
      "text/plain": [
       "<IPython.core.display.HTML object>"
      ]
     },
     "metadata": {},
     "output_type": "display_data"
    },
    {
     "data": {
      "text/html": [
       "<span style=\"color:blue\"> |-tuner/round: 0</span>"
      ],
      "text/plain": [
       "<IPython.core.display.HTML object>"
      ]
     },
     "metadata": {},
     "output_type": "display_data"
    },
    {
     "name": "stdout",
     "output_type": "stream",
     "text": [
      "Train on 14450 samples, validate on 2550 samples\n",
      "Epoch 1/25\n",
      "14450/14450 - 2s - loss: 0.0263 - mean_squared_error: 0.0263 - val_loss: 6.6765e-04 - val_mean_squared_error: 6.6765e-04\n",
      "Epoch 2/25\n",
      "14450/14450 - 2s - loss: 4.9274e-04 - mean_squared_error: 4.9274e-04 - val_loss: 3.7091e-04 - val_mean_squared_error: 3.7091e-04\n",
      "Epoch 3/25\n",
      "14450/14450 - 2s - loss: 3.8431e-04 - mean_squared_error: 3.8431e-04 - val_loss: 3.3659e-04 - val_mean_squared_error: 3.3659e-04\n",
      "Epoch 4/25\n",
      "14450/14450 - 1s - loss: 3.9038e-04 - mean_squared_error: 3.9038e-04 - val_loss: 3.6652e-04 - val_mean_squared_error: 3.6652e-04\n",
      "Epoch 5/25\n",
      "14450/14450 - 2s - loss: 3.9435e-04 - mean_squared_error: 3.9435e-04 - val_loss: 3.7731e-04 - val_mean_squared_error: 3.7731e-04\n",
      "Epoch 6/25\n",
      "14450/14450 - 2s - loss: 3.7222e-04 - mean_squared_error: 3.7222e-04 - val_loss: 3.9427e-04 - val_mean_squared_error: 3.9427e-04\n",
      "Epoch 7/25\n",
      "14450/14450 - 2s - loss: 3.8353e-04 - mean_squared_error: 3.8353e-04 - val_loss: 3.4596e-04 - val_mean_squared_error: 3.4596e-04\n",
      "Epoch 8/25\n",
      "14450/14450 - 2s - loss: 4.1647e-04 - mean_squared_error: 4.1647e-04 - val_loss: 3.5101e-04 - val_mean_squared_error: 3.5101e-04\n",
      "Epoch 9/25\n",
      "14450/14450 - 2s - loss: 3.8276e-04 - mean_squared_error: 3.8276e-04 - val_loss: 3.3562e-04 - val_mean_squared_error: 3.3562e-04\n",
      "Epoch 10/25\n",
      "14450/14450 - 1s - loss: 3.7433e-04 - mean_squared_error: 3.7433e-04 - val_loss: 3.4407e-04 - val_mean_squared_error: 3.4407e-04\n",
      "Epoch 11/25\n",
      "14450/14450 - 1s - loss: 4.1453e-04 - mean_squared_error: 4.1453e-04 - val_loss: 3.7108e-04 - val_mean_squared_error: 3.7108e-04\n"
     ]
    },
    {
     "data": {
      "text/html": [
       "<span style=\"color:#4527A0\"><h1 style=\"font-size:18px\">Trial complete</h1></span>"
      ],
      "text/plain": [
       "<IPython.core.display.HTML object>"
      ]
     },
     "metadata": {},
     "output_type": "display_data"
    },
    {
     "data": {
      "text/html": [
       "<span style=\"color:#4527A0\"><h1 style=\"font-size:18px\">Trial summary</h1></span>"
      ],
      "text/plain": [
       "<IPython.core.display.HTML object>"
      ]
     },
     "metadata": {},
     "output_type": "display_data"
    },
    {
     "data": {
      "text/html": [
       "<span style=\"color:cyan\"> |-Trial ID: e66e9c1cdb295aa4c1011f329d7bb2f9</span>"
      ],
      "text/plain": [
       "<IPython.core.display.HTML object>"
      ]
     },
     "metadata": {},
     "output_type": "display_data"
    },
    {
     "data": {
      "text/html": [
       "<span style=\"color:cyan\"> |-Score: 0.0003722177934832871</span>"
      ],
      "text/plain": [
       "<IPython.core.display.HTML object>"
      ]
     },
     "metadata": {},
     "output_type": "display_data"
    },
    {
     "data": {
      "text/html": [
       "<span style=\"color:cyan\"> |-Best step: 0</span>"
      ],
      "text/plain": [
       "<IPython.core.display.HTML object>"
      ]
     },
     "metadata": {},
     "output_type": "display_data"
    },
    {
     "data": {
      "text/html": [
       "<span style=\"color:#7E57C2\"><h2 style=\"font-size:16px\">Hyperparameters:</h2></span>"
      ],
      "text/plain": [
       "<IPython.core.display.HTML object>"
      ]
     },
     "metadata": {},
     "output_type": "display_data"
    },
    {
     "data": {
      "text/html": [
       "<span style=\"color:cyan\"> |-hidden_0_units: 120</span>"
      ],
      "text/plain": [
       "<IPython.core.display.HTML object>"
      ]
     },
     "metadata": {},
     "output_type": "display_data"
    },
    {
     "data": {
      "text/html": [
       "<span style=\"color:blue\"> |-hidden_1_units: 240</span>"
      ],
      "text/plain": [
       "<IPython.core.display.HTML object>"
      ]
     },
     "metadata": {},
     "output_type": "display_data"
    },
    {
     "data": {
      "text/html": [
       "<span style=\"color:cyan\"> |-learning_rate: 0.001</span>"
      ],
      "text/plain": [
       "<IPython.core.display.HTML object>"
      ]
     },
     "metadata": {},
     "output_type": "display_data"
    },
    {
     "data": {
      "text/html": [
       "<span style=\"color:blue\"> |-n_layers: 2</span>"
      ],
      "text/plain": [
       "<IPython.core.display.HTML object>"
      ]
     },
     "metadata": {},
     "output_type": "display_data"
    },
    {
     "data": {
      "text/html": [
       "<span style=\"color:cyan\"> |-tuner/bracket: 0</span>"
      ],
      "text/plain": [
       "<IPython.core.display.HTML object>"
      ]
     },
     "metadata": {},
     "output_type": "display_data"
    },
    {
     "data": {
      "text/html": [
       "<span style=\"color:blue\"> |-tuner/epochs: 25</span>"
      ],
      "text/plain": [
       "<IPython.core.display.HTML object>"
      ]
     },
     "metadata": {},
     "output_type": "display_data"
    },
    {
     "data": {
      "text/html": [
       "<span style=\"color:cyan\"> |-tuner/initial_epoch: 0</span>"
      ],
      "text/plain": [
       "<IPython.core.display.HTML object>"
      ]
     },
     "metadata": {},
     "output_type": "display_data"
    },
    {
     "data": {
      "text/html": [
       "<span style=\"color:blue\"> |-tuner/round: 0</span>"
      ],
      "text/plain": [
       "<IPython.core.display.HTML object>"
      ]
     },
     "metadata": {},
     "output_type": "display_data"
    },
    {
     "name": "stdout",
     "output_type": "stream",
     "text": [
      "INFO:tensorflow:Oracle triggered exit\n",
      "355.216500043869\n"
     ]
    }
   ],
   "source": [
    "### SEARCHING FOR THE ANN LAYOUT THAT ACCOMPLISHES THE HYPERPARAMTER GOALS ###\n",
    "\n",
    "start_time = time.time()\n",
    "# tuner.search(X_scale, Y_scale, epochs=50, validation_split=0.15, callbacks=[stop_early], verbose=2)\n",
    "tuner.search(X_scale, Y_scale, validation_split=0.15, callbacks=[stop_early], verbose=2)\n",
    "searching_time = time.time() - start_time\n",
    "print(searching_time)"
   ]
  },
  {
   "cell_type": "code",
   "execution_count": 7,
   "metadata": {},
   "outputs": [
    {
     "name": "stdout",
     "output_type": "stream",
     "text": [
      "\n",
      "The hyperparameter search is complete. The optimal number of hidden layers are 2 and the optimal learning rate for the optimizer\n",
      "is 0.0001.\n",
      "\n",
      "Best epoch: 36\n",
      "Train on 14450 samples, validate on 2550 samples\n",
      "Epoch 1/36\n",
      "14450/14450 - 2s - loss: 0.1308 - mean_squared_error: 0.1308 - val_loss: 0.0792 - val_mean_squared_error: 0.0792\n",
      "Epoch 2/36\n",
      "14450/14450 - 1s - loss: 0.0516 - mean_squared_error: 0.0516 - val_loss: 0.0316 - val_mean_squared_error: 0.0316\n",
      "Epoch 3/36\n",
      "14450/14450 - 1s - loss: 0.0196 - mean_squared_error: 0.0196 - val_loss: 0.0114 - val_mean_squared_error: 0.0114\n",
      "Epoch 4/36\n",
      "14450/14450 - 1s - loss: 0.0071 - mean_squared_error: 0.0071 - val_loss: 0.0044 - val_mean_squared_error: 0.0044\n",
      "Epoch 5/36\n",
      "14450/14450 - 2s - loss: 0.0030 - mean_squared_error: 0.0030 - val_loss: 0.0020 - val_mean_squared_error: 0.0020\n",
      "Epoch 6/36\n",
      "14450/14450 - 2s - loss: 0.0015 - mean_squared_error: 0.0015 - val_loss: 0.0011 - val_mean_squared_error: 0.0011\n",
      "Epoch 7/36\n",
      "14450/14450 - 1s - loss: 9.3026e-04 - mean_squared_error: 9.3026e-04 - val_loss: 7.5890e-04 - val_mean_squared_error: 7.5890e-04\n",
      "Epoch 8/36\n",
      "14450/14450 - 1s - loss: 6.6395e-04 - mean_squared_error: 6.6395e-04 - val_loss: 5.8295e-04 - val_mean_squared_error: 5.8295e-04\n",
      "Epoch 9/36\n",
      "14450/14450 - 1s - loss: 5.2938e-04 - mean_squared_error: 5.2938e-04 - val_loss: 4.7437e-04 - val_mean_squared_error: 4.7437e-04\n",
      "Epoch 10/36\n",
      "14450/14450 - 2s - loss: 4.4760e-04 - mean_squared_error: 4.4761e-04 - val_loss: 4.1397e-04 - val_mean_squared_error: 4.1397e-04\n",
      "Epoch 11/36\n",
      "14450/14450 - 2s - loss: 4.0082e-04 - mean_squared_error: 4.0082e-04 - val_loss: 3.7558e-04 - val_mean_squared_error: 3.7558e-04\n",
      "Epoch 12/36\n",
      "14450/14450 - 1s - loss: 3.6947e-04 - mean_squared_error: 3.6947e-04 - val_loss: 3.4378e-04 - val_mean_squared_error: 3.4378e-04\n",
      "Epoch 13/36\n",
      "14450/14450 - 2s - loss: 3.4948e-04 - mean_squared_error: 3.4948e-04 - val_loss: 3.2556e-04 - val_mean_squared_error: 3.2556e-04\n",
      "Epoch 14/36\n",
      "14450/14450 - 2s - loss: 3.3302e-04 - mean_squared_error: 3.3302e-04 - val_loss: 3.2803e-04 - val_mean_squared_error: 3.2803e-04\n",
      "Epoch 15/36\n",
      "14450/14450 - 2s - loss: 3.2832e-04 - mean_squared_error: 3.2832e-04 - val_loss: 3.0936e-04 - val_mean_squared_error: 3.0936e-04\n",
      "Epoch 16/36\n",
      "14450/14450 - 2s - loss: 3.2010e-04 - mean_squared_error: 3.2010e-04 - val_loss: 3.7031e-04 - val_mean_squared_error: 3.7031e-04\n",
      "Epoch 17/36\n",
      "14450/14450 - 2s - loss: 3.1324e-04 - mean_squared_error: 3.1324e-04 - val_loss: 2.9586e-04 - val_mean_squared_error: 2.9586e-04\n",
      "Epoch 18/36\n",
      "14450/14450 - 1s - loss: 3.1482e-04 - mean_squared_error: 3.1482e-04 - val_loss: 2.9609e-04 - val_mean_squared_error: 2.9609e-04\n",
      "Epoch 19/36\n",
      "14450/14450 - 1s - loss: 3.0805e-04 - mean_squared_error: 3.0805e-04 - val_loss: 2.9008e-04 - val_mean_squared_error: 2.9008e-04\n",
      "Epoch 20/36\n",
      "14450/14450 - 1s - loss: 3.0462e-04 - mean_squared_error: 3.0462e-04 - val_loss: 3.3437e-04 - val_mean_squared_error: 3.3437e-04\n",
      "Epoch 21/36\n",
      "14450/14450 - 1s - loss: 3.0425e-04 - mean_squared_error: 3.0425e-04 - val_loss: 2.9290e-04 - val_mean_squared_error: 2.9290e-04\n",
      "Epoch 22/36\n",
      "14450/14450 - 1s - loss: 3.0153e-04 - mean_squared_error: 3.0153e-04 - val_loss: 2.8892e-04 - val_mean_squared_error: 2.8892e-04\n",
      "Epoch 23/36\n",
      "14450/14450 - 2s - loss: 3.0190e-04 - mean_squared_error: 3.0190e-04 - val_loss: 3.2219e-04 - val_mean_squared_error: 3.2219e-04\n",
      "Epoch 24/36\n",
      "14450/14450 - 2s - loss: 3.0426e-04 - mean_squared_error: 3.0426e-04 - val_loss: 2.8559e-04 - val_mean_squared_error: 2.8559e-04\n",
      "Epoch 25/36\n",
      "14450/14450 - 1s - loss: 3.0209e-04 - mean_squared_error: 3.0209e-04 - val_loss: 2.8523e-04 - val_mean_squared_error: 2.8523e-04\n",
      "Epoch 26/36\n",
      "14450/14450 - 1s - loss: 2.9997e-04 - mean_squared_error: 2.9997e-04 - val_loss: 2.9353e-04 - val_mean_squared_error: 2.9353e-04\n",
      "Epoch 27/36\n",
      "14450/14450 - 1s - loss: 3.0083e-04 - mean_squared_error: 3.0083e-04 - val_loss: 2.8710e-04 - val_mean_squared_error: 2.8710e-04\n",
      "Epoch 28/36\n",
      "14450/14450 - 1s - loss: 2.9871e-04 - mean_squared_error: 2.9871e-04 - val_loss: 2.8884e-04 - val_mean_squared_error: 2.8884e-04\n",
      "Epoch 29/36\n",
      "14450/14450 - 2s - loss: 2.9724e-04 - mean_squared_error: 2.9724e-04 - val_loss: 3.0827e-04 - val_mean_squared_error: 3.0827e-04\n",
      "Epoch 30/36\n",
      "14450/14450 - 2s - loss: 3.0266e-04 - mean_squared_error: 3.0266e-04 - val_loss: 2.9849e-04 - val_mean_squared_error: 2.9849e-04\n",
      "Epoch 31/36\n",
      "14450/14450 - 2s - loss: 2.9978e-04 - mean_squared_error: 2.9978e-04 - val_loss: 2.9789e-04 - val_mean_squared_error: 2.9789e-04\n",
      "Epoch 32/36\n",
      "14450/14450 - 2s - loss: 3.0015e-04 - mean_squared_error: 3.0015e-04 - val_loss: 2.7911e-04 - val_mean_squared_error: 2.7911e-04\n",
      "Epoch 33/36\n",
      "14450/14450 - 2s - loss: 2.9488e-04 - mean_squared_error: 2.9488e-04 - val_loss: 2.8048e-04 - val_mean_squared_error: 2.8048e-04\n",
      "Epoch 34/36\n",
      "14450/14450 - 1s - loss: 2.9815e-04 - mean_squared_error: 2.9815e-04 - val_loss: 2.8184e-04 - val_mean_squared_error: 2.8184e-04\n",
      "Epoch 35/36\n",
      "14450/14450 - 1s - loss: 3.0065e-04 - mean_squared_error: 3.0065e-04 - val_loss: 2.8329e-04 - val_mean_squared_error: 2.8329e-04\n",
      "Epoch 36/36\n",
      "14450/14450 - 1s - loss: 3.0075e-04 - mean_squared_error: 3.0075e-04 - val_loss: 2.8361e-04 - val_mean_squared_error: 2.8361e-04\n"
     ]
    }
   ],
   "source": [
    "# Build the model with the optimal hyperparameters and train it on the data for 25 epochs\n",
    "best_hps=tuner.get_best_hyperparameters(num_trials=1)[0]\n",
    "print(f\"\"\"\n",
    "The hyperparameter search is complete. The optimal number of hidden layers are {best_hps.get('n_layers')} and the optimal learning rate for the optimizer\n",
    "is {best_hps.get('learning_rate')}.\n",
    "\"\"\")\n",
    "model = tuner.hypermodel.build(best_hps)\n",
    "history = model.fit(X_scale, Y_scale, epochs=40, shuffle=True, validation_split=0.25, verbose=0)\n",
    "\n",
    "mean_squared_error_per_epoch = history.history['mean_squared_error']\n",
    "best_epoch = mean_squared_error_per_epoch.index(min(mean_squared_error_per_epoch)) + 1\n",
    "print('Best epoch: %d' % (best_epoch,))\n",
    "hypermodel = tuner.hypermodel.build(best_hps)\n",
    "\n",
    "# Retrain the model\n",
    "hypermodel_hist = hypermodel.fit(X_scale, Y_scale, epochs=best_epoch, shuffle=True, validation_split=0.15, verbose=2)"
   ]
  },
  {
   "cell_type": "code",
   "execution_count": 8,
   "metadata": {},
   "outputs": [
    {
     "name": "stdout",
     "output_type": "stream",
     "text": [
      "3000/1 [================================================================================================================================================================================================================================================================================================================================================================================================================================================================================================================================================================================================================================================================================================================================================================================================================================================================================================================================================================================================================================================================================================================================================================================================================================================================================================================================================================================================================================================================================================================================================================================================================================================================================================================================================================================================================================================================================================================================================================================================================================================================================================================================================================================================================================================================================================================================================================================================================================================================================================================================================================================================================================================================================================================================================================================================================================================================================================================================================================================================================================================================================================================================================================================================================================================================================================================================================================================================================================================================================================================================================================================================================================================================================================================================================================================================================================================================================================================================================================================================================================================================================================================================================================================================================================================================================================================================================================================================================================================================================================================================================================================================================================================================================================================================================================================================================================================================================================================================================================================================================================================================================================================================================================================================================================================================================================================================================================================================================================================================================================================================================================================================================================================================================================================================================================================================================================================================================================================================================================================================================================================================================================================================================================================================================================================================================================================================================================================================================================================================================================================================================================================================================================================================================================================================================================================================================================================================================================================================================================================================================================================================================================================================================================================================================================================================================================================================================================================================================================================================================================================================================================================================================================================================================================================================================================================================================================================================================================================================================================================================================================================================================================================================================================================================================================================================================================================================================================================================================================================================================================================================================================================================================================================================================================================================================================================================================================================================================================================================================================================================================================================================================================================================================================================================================================================================================================================================================================================================================================================================================================================================================================================================================================================================================================================================================================================================================================================================================================================================================================================================================================================================================================================================================================================================================================================================================================================================================================================================================================================================================================================================================================================================================================================================================================================================================================================================================================================================================================================================================================================================================================================================================================================================================================================================================================================================================================================================================================================================================================================================================================================================================================================================================================================================================================================================================================================================================================================================================================================================================================================================================================================================================================================================================================================================================================================================================================================================================================================================================================================================================================================================================================================================================================================================================================================================================================================================================================================================================================================================================================================================================================================================================================================================================================================================================================================================================================================================================================================================================================================================================================================================================================================================================================================================================================================================================================================================================================================================================================================================================================================================================================================================================================================================================================================================================================================================================================================================================================================================================================================================================================================================================================================================================================================================================================================================================================================================================================================================================================================================================================================================================================================================================================================================================================================================================================================================================================================================================================================================================================================================================================================================================================================================================================================================================================================================================================================================================================================================================================================================================================================================================================================================================================================================================================================================================================================================================================================================================================================================================================================================================================================================================================================================================================================================================================================================================================================================================================================================================================================================================================================================================================================================================================================================================================================================================================================================================================================================================================================================================================================================================================================================================================================================================================================================================================================================================================================================================================================================================================================================================================================================================================================================================================================================================================================================================================================================================================================================================================================================================================================================================================================================================================================================================================================================================================================================================================================================================================================================================================================================================================================================================================================================================================================================================================================================================================================================================================================================================================================================================================================================================================================================================================================================================================================================================================================================================================================================================================================================================================================================================================================================================================================================================================================================================================================================================================================================================================================================================================================================================================================================================================================================================================================================================================================================================================================================================================================================================================================================================================================================================================================================================================================================================================================================================================================================================================================================================================================================================================================================================================================================================================================================================================================================================================================================================================================================================================================================================================================================================================================================================================================================================================================================================================================================================================================================================================================================================================================================================================================================================================================================================================================================================================================================================================================================================================================================================================================================================================================================================================================================================================================================================================================================================================================================================================================================================================================================================================================================================================================================================================================================================================================================================================================================================================================================================================================================================================================================================================================================================================================================================================================================================================================================================================================================================================================================================================================================================================================================================================================================================================================================================================================================================================================================================================================================================================================================================================================================================================================================================================================================================================================================================================================================================================================================================================================================================================================================================================================================================================================================================================================================================================================================================================================================================================================================================================================================================================================================================================================================================================================================================================================================================================================================================================================================================================================================================================================================================================================================================================================================================================================================================================================================================================================================================================================================================================================================================================================================================================================================================================================================================================================================================================================================================================================================================================================================================================================================================================================================================================================================================================================================================================================================================================================================================================================================================================================================================================================================================================================================================================================================================================================================================================================================================================================================================================================================================================================================================================================================================================================================================================================================================================================================================================================================================================================================================================================================================================================================================================================================================================================================================================================================================================================================================================================================================================================================================================================================================================================================================================================================================================================================================================================================================================================================================================================================================================================================================================================================================================================================================================================================================================================================================================================================================================================================================================================================================================================================================================================================================================================================================================================================================================================================================================================================================================================================================================================================================================================================================================================================================================================================================================================================================================================================================================================================================================================================================================================================================================================================================================================================================================================================================================================================================================================================================================================================================================================================================================================================================================================================================================================================================================================================================================================================================================================================================================================================================================================================================================================================================================================================================================================================================================================================================================================================================================================================================================================================================================================================================================================================================================================================================================================================================================================================================================================================================================================================================================================================================================================================================================================================================================================================================================================================================================================================================================================================================================================================================================================================================================================================================================================================================================================================================================================================================================================================================================================================================================================================================================================================================================================================================================================================================================================================================================================================================================================================================================================================================================================================================================================================================================================================================================================================================================================================================================================================================================================================================================================================================================================================================================================================================================================================================================================================================================================================================================================================================================================================================================================================================================================================================================================================================================================================================================================================================================================================================================================================================================================================================================================================================================================================================================================================================================================================================================================================================================================================================================================================================================================================================================================================================================================================================================================================================================================================================================================================================================================================================================================================================================================================================================================================================================================================================================================================================================================================================================================================================================================================================================================================================================================================================================================================================================================================================================================================================================================================================================================================================================================================================================================================================================================================================================================================================================================================================================================================================================================================================================================================================================================================================================================================================================================================================================================================================================================================================================================================================================================================================================================================================================================================================================================================================================================================================================================================================================================================================================================================================================================================================================================================================================================================================================================================================================================================================================================================================================================================================================================================================================================================================================================================================================================================================================================================================================================================================================================================================================================================================================================================================================================================================================================================================================================================================================================================================================================================================================================================================================================================================================================================================================================================================================================================================================================================================================================================================================================================================================================================================================================================================================================================================================================================================================================================================================================================================================================================================================================================================================================================================================================================================================================================================================================================================================================================================================================================================================================================================================================================================================================================================================================================================================================================================================================================================================================================================================================================================================================================================================================================================================================================================================================================================================================================================================================================================================================================================================================================================================================================================================================================================================================================================================================================================================================================================================================================================================================================================================================================================================================================================================================================================================================================================================================================================================================================================================================================================================================================================================================================================================================================================================================================================================================================================================================================================================================================================================================================================================================================================================================================================================================================================================================================================================================================================================================================================================================================================================================================================================================================================================================================================================================================================================================================================================================================================================================================================================================================================================================================================================================================================================================================================================================================================================================================================================================================================================================================================================================================================================================================================================================================================================================================================================================================================================================================================================================================================================================================================================================================================================================================================================================================================================================================================================================================================================================================================================================================================================================================================================================================================================================================================================================================================================================================================================================================================================================================================================================================================================================================================================================================================================================================================================================================================================================================================================================================================================================================================================================================================================================================================================================================================================================================================================================================================================================================================================================================================================================================================================================================================================================================================================================================================================================================================================================================================================================================================================================================================================================================================================================================================================================================================================================================================================================================================================================================================================================================================================================================================================================================================================================================================================================================================================================================================================================================================================================================================================================================================================================================================================================================================================================================================================================================================================================================================================================================================================================================================================================================================================================================================================================================================================================================================================================================================================================================================================================================================================================================================================================================================================================================================================================================================================================================================================================================================================================================================================================================================================================================================================================================================================================================================================================================================================================================================================================================================================================================================================================================================================================================================================================================================================================================================================================================================================================================================================================================================================================================================================================================================================================================================================================================================================================================================================================================================================================================================================================================================================================================================================================================================================================================================================================================================================================================================================================================================================================================================================================================================================================================================================================================================================================================================================================================================================================================================================================================================================================================================================================================================================================================================================================================================================================================================================================================================================================================================================================================================================================================================================================================================================================================================================================================================================================================================================================================================================================================================================================================================================================================================================================================================================================================================================================================================================================================================================================================================================================================================================================================================================================================================================================================================================================================================================================================================================================================================================================================================================================================================================================================================================================================================================================================================================================================================================================================================================================================================================================================================================================================================================================================================================================================================================================================================================================================================================================================================================================================================================================================================================================================================================================================================================================================================================================================================================================================================================================================================================================================================================================================================================================================================================================================================================================================================================================================================================================================================================================================================================================================================================================================================================================================================================================================================================================================================================================================================================================================================================================================================================================================================================================================================================================================================================================================================================================================================================================================================================================================================================================================================================================================================================================================================================================================================================================================================================================================================================================================================================================================================================================================================================================================================================================================================================================================================================================================================================================================================================================================================================================================================================================================================================================================================================================================================================================================================================================================================================================================================================================================================================================================================================================================================================================================================================================================================================================================================================================================================================================================================================================================================================================================================================================================================================================================================================================================================================================================================================================================================================================================================================================================================================================================================================================================================================================================================================================================================================================================================================================================================================================================================================================================================================================================================================================================================================================================================================================================================================================================================================================================================================================================================================================================================================================================================================================================================================================================================================================================================================================================================================================================================================================================================================================================================================================================================================================================================================================================================================================================================================================================================================================================================================================================================================================================================================================================================================================================================================================================================================================================================================================================================================================================================================================================================================================================================================================================================================================================================================================================================================================================================================================================================================================================================================================================================================================================================================================================================================================================================================================================================================================================================================================================================================================================================================================================================================================================================================================================================================================================================================================================================================================================================================================================================================================================================================================================================================================================================================================================================================================================================================================================================================================================================================================================================================================================================================================================================================================================================================================================================================================================================================================================================================================================================================================================================================================================================================================================================================================================================================================================================================================================================================================================================================================================================================================================================================================================================================================================================================================================================================================================================================================================================================================================================================================================================================================================================================================================================================================================================================================================================================================================================================================================================================================================================================================================================================================================================================================================================================================================================================================================================================================================================================================================================================================================================================================================================================================================================================================================================================================================================================================================================================================================================================================================================================================================================================================================================================================================================================================================================================================================================================================================================================================================================================================================================================================================================================================================================================================================================================================================================================================================================================================================================================================================================================================================================================================================================================================================================================================================================================================================================================================================================================================================================================================================================================================================================================================================================================================================================================================================================================================================================================================================================================================================================================================================================================================================================================================================================================================================================================================================================================================================================================================================================================================================================================================================================================================================================================================================================================================================================================================================================================================================================================================================================================================================================================================================================================================================================================================================================================================================================================================================================================================================================================================================================================================================================================================================================================================================================================================================================================================================================================================================================================================================================================================================================================================================================================================================================================================================================================================================================================================================================================================================================================================================================================================================================================================================================================================================================================================================================================================================================================================================================================================================================================================================================================================================================================================================================================================================================================================================================================================================================================================================================================================================================================================================================================================================================================================================================================================================================================================================================================================================================================================================================================================================================================================================================================================================================================================================================================================================================================================================================================================================================================================================================================================================================================================================================================================================================================================================================================================================================================================================================================================================================================================================================================================================================================================================================================================================================================================================================================================================================================================================================================================================================================================================================================================================================================================================================================================================================================================================================================================================================================================================================================================================================================================================================================================================================================================================================================================================================================================================================================================================================================================================================================================================================================================================================================================================================================================================================================================================================================================================================================================================================================================================================================================================================================================================================================================================================================================================================================================================================================================================================================================================================================================================================================================================================================================================================================================================================================================================================================================================================================================================================================================================================================================================================================================================================================================================================================================================================================================================================================================================================================================================================================================================================================================================================================================================================================================================================================================================================================================================================================================================================================================================================================================================================================================================================================================================================================================================================================================================================================================================================================================================================================================================================================================================================================================================================================================================================================================================================================================================================================================================================================================================================================================================================================================================================================================================================================================================================================================================================================================================================================================================================================================================================================================================================================================================================================================================================================================================================================================================================================================================================================================================================================================================================================================================================================================================================================================================================================================================================================================================================================================================================================================================================================================================================================================================================================================================================================================================================================================================================================================================================================================================================================================================================================================================================================================================================================================================================================================================================================================================================================================================================================================================================================================================================================================================================================================================================================================================================================================================================================================================================================================================================================================================================================================================================================================================================================================================================================================================================================================================================================================================================================================================================================================================================================================================================================================================================================================================================================================================================================================================================================================================================================================================================================================================================================================================================================================================================================================================================================================================================================================================================================================================================================================================================================================================================================================================================================================================================================================================================================================================================================================================================================================================================================================================================================================================================================================================================================================================================================================================================================================================================================================================================================================================================================================================================================================================================================================================================================================================================================================================================================================================================================================================================================================================================================================================================================================================================================================================================================================================================================================================================================================================================================================================================================================================================================================================================================================================================================================================================================================================================================================================================================================================================================================================================================================================================================================================================================================================================================================================================================================================================================================================================================================================================================================================================================================================================================================================================================================================================================================================================================================================================================================================================================================================================================================================================================================================================================================================================================================================================================================================================================================================================================================================================================================================================================================================================================================================================================================================================================================================================================================================================================================================================================================================================================================================================================================================================================================================================================================================================================================================================================================================================================================================================================================================================================================================================================================================================================================================================================================================================================================================================================================================================================================================================================================================================================================================================================================================================================================================================================================================================================================================================================================================================================================================================================================================================================================================================================================================================================================================================================================================================================================================================================================================================================================================================================================================================================================================================================================================================================================================================================================================================================================================================================================================================================================================================================================================================================================================================================================================================================================================================================================================================]"
     ]
    },
    {
     "name": "stdout",
     "output_type": "stream",
     "text": [
      " - 0s 48us/sample - loss: 2.3687e-04 - mean_squared_error: 2.9921e-04\n",
      "0.0002992148\n"
     ]
    }
   ],
   "source": [
    "# file_path = '/Users/jackkelly/Desktop/Building_Model/Data/40_channels_data_10000.csv'\n",
    "# X_test, Y_test = processing_data(N_channels, file_path)\n",
    "eval_result = hypermodel.evaluate(X_test, Y_test)[1]\n",
    "print(eval_result)"
   ]
  },
  {
   "cell_type": "code",
   "execution_count": 9,
   "metadata": {},
   "outputs": [
    {
     "data": {
      "image/png": "[encoded data removed]",
      "text/plain": [
       "<Figure size 432x288 with 1 Axes>"
      ]
     },
     "metadata": {
      "needs_background": "light"
     },
     "output_type": "display_data"
    }
   ],
   "source": [
    "def visualising_data(hist, name):\n",
    "    plt.title('Tuned ANN')\n",
    "    plt.plot(hist.history['mean_squared_error'], label='Train')\n",
    "    plt.plot(hist.history['val_mean_squared_error'], label='Validation')\n",
    "    plt.ylabel('MSE')\n",
    "    plt.xlabel('Epoch')\n",
    "    plt.legend()\n",
    "    plt.savefig(name)\n",
    "    plt.show()\n",
    "visualising_data(hypermodel_hist, '/Users/jackkelly/Desktop/Building_Model/Figures/hypermodel_results.png')"
   ]
  },
  {
   "cell_type": "code",
   "execution_count": 10,
   "metadata": {},
   "outputs": [
    {
     "name": "stdout",
     "output_type": "stream",
     "text": [
      "Model: \"sequential\"\n",
      "_________________________________________________________________\n",
      "Layer (type)                 Output Shape              Param #   \n",
      "=================================================================\n",
      "dense (Dense)                (None, 113)               4746      \n",
      "_________________________________________________________________\n",
      "dense_1 (Dense)              (None, 307)               34998     \n",
      "_________________________________________________________________\n",
      "dense_2 (Dense)              (None, 40)                12320     \n",
      "=================================================================\n",
      "Total params: 52,064\n",
      "Trainable params: 52,064\n",
      "Non-trainable params: 0\n",
      "_________________________________________________________________\n"
     ]
    }
   ],
   "source": [
    "# shows weights of the ANN\n",
    "# hypermodel.weights\n",
    "hypermodel.summary()\n",
    "# print(hypermodel.metrics_names)"
   ]
  },
  {
   "cell_type": "code",
   "execution_count": 11,
   "metadata": {},
   "outputs": [],
   "source": [
    "# INSERT SOMETHING THAT CALCUALTES ALL MEAN SQUARED ERRORS AND PLOTS ON CDF GRAPH"
   ]
  },
  {
   "cell_type": "code",
   "execution_count": 12,
   "metadata": {},
   "outputs": [],
   "source": [
    "# best_hps.__dict__.keys()\n",
    "# best_hps.__dict__['values']\n",
    "hypermodel.save('/Users/jackkelly/Desktop/Building_Model/Tuned_' + str(N_channels) + '_channels_ANN_model_v2.h5')"
   ]
  },
  {
   "cell_type": "markdown",
   "metadata": {},
   "source": [
    "# Transfer Learning"
   ]
  },
  {
   "cell_type": "code",
   "execution_count": 13,
   "metadata": {},
   "outputs": [],
   "source": [
    "def transfer_learning(model_path):\n",
    "    hypermodel = keras.models.load_model(model_path)\n",
    "    hypermodel.summary()\n",
    "    model = tf.keras.Sequential()\n",
    "    for layer in hypermodel.layers[:-1]: # go through until last layer\n",
    "        layer.trainable=False\n",
    "        model.add(layer)\n",
    "    model.add(keras.layers.Dense(40, activation='sigmoid'))\n",
    "    model.summary()\n",
    "\n",
    "    model.compile(optimizer='adam', loss=keras.losses.MeanSquaredError(), metrics=['mean_squared_error'])\n",
    "    return model"
   ]
  },
  {
   "cell_type": "code",
   "execution_count": 14,
   "metadata": {},
   "outputs": [
    {
     "name": "stdout",
     "output_type": "stream",
     "text": [
      "Model: \"sequential\"\n",
      "_________________________________________________________________\n",
      "Layer (type)                 Output Shape              Param #   \n",
      "=================================================================\n",
      "dense (Dense)                (None, 113)               4746      \n",
      "_________________________________________________________________\n",
      "dense_1 (Dense)              (None, 307)               34998     \n",
      "_________________________________________________________________\n",
      "dense_2 (Dense)              (None, 40)                12320     \n",
      "=================================================================\n",
      "Total params: 52,064\n",
      "Trainable params: 52,064\n",
      "Non-trainable params: 0\n",
      "_________________________________________________________________\n",
      "Model: \"sequential_1\"\n",
      "_________________________________________________________________\n",
      "Layer (type)                 Output Shape              Param #   \n",
      "=================================================================\n",
      "dense (Dense)                (None, 113)               4746      \n",
      "_________________________________________________________________\n",
      "dense_1 (Dense)              (None, 307)               34998     \n",
      "_________________________________________________________________\n",
      "dense_3 (Dense)              (None, 40)                12320     \n",
      "=================================================================\n",
      "Total params: 52,064\n",
      "Trainable params: 12,320\n",
      "Non-trainable params: 39,744\n",
      "_________________________________________________________________\n"
     ]
    }
   ],
   "source": [
    "model = transfer_learning('Tuned_' + str(N_channels) + '_channels_ANN_model_v2.h5')\n",
    "N_channels = 40\n",
    "file_path = '/Users/jackkelly/Desktop/Building_Model/Data/40_channels_data_variedlengths_10000.csv'\n",
    "X_scale, Y_scale = processing_data(N_channels, file_path)\n",
    "X_train, X_val_and_test, Y_train, Y_val_and_test = train_test_split(X_scale, Y_scale, test_size=0.3)\n",
    "X_val, X_test, Y_val, Y_test = train_test_split(X_val_and_test, Y_val_and_test, test_size=0.5)"
   ]
  },
  {
   "cell_type": "code",
   "execution_count": 15,
   "metadata": {},
   "outputs": [
    {
     "name": "stdout",
     "output_type": "stream",
     "text": [
      "Train on 7000 samples, validate on 1500 samples\n",
      "Epoch 1/40\n",
      "7000/7000 [==============================] - ETA: 1:39 - loss: 0.2439 - mean_squared_error: 0.24 - ETA: 4s - loss: 0.1846 - mean_squared_error: 0.1846 - ETA: 2s - loss: 0.1561 - mean_squared_error: 0.15 - ETA: 1s - loss: 0.1329 - mean_squared_error: 0.13 - ETA: 1s - loss: 0.1148 - mean_squared_error: 0.11 - ETA: 0s - loss: 0.0990 - mean_squared_error: 0.09 - ETA: 0s - loss: 0.0878 - mean_squared_error: 0.08 - ETA: 0s - loss: 0.0785 - mean_squared_error: 0.07 - ETA: 0s - loss: 0.0708 - mean_squared_error: 0.07 - ETA: 0s - loss: 0.0644 - mean_squared_error: 0.06 - ETA: 0s - loss: 0.0603 - mean_squared_error: 0.06 - ETA: 0s - loss: 0.0555 - mean_squared_error: 0.05 - 1s 187us/sample - loss: 0.0551 - mean_squared_error: 0.0551 - val_loss: 0.0079 - val_mean_squared_error: 0.0079\n",
      "Epoch 2/40\n",
      "7000/7000 [==============================] - ETA: 0s - loss: 0.0077 - mean_squared_error: 0.00 - ETA: 0s - loss: 0.0070 - mean_squared_error: 0.00 - ETA: 0s - loss: 0.0065 - mean_squared_error: 0.00 - ETA: 0s - loss: 0.0060 - mean_squared_error: 0.00 - ETA: 0s - loss: 0.0056 - mean_squared_error: 0.00 - ETA: 0s - loss: 0.0053 - mean_squared_error: 0.00 - ETA: 0s - loss: 0.0050 - mean_squared_error: 0.00 - ETA: 0s - loss: 0.0047 - mean_squared_error: 0.00 - ETA: 0s - loss: 0.0045 - mean_squared_error: 0.00 - ETA: 0s - loss: 0.0043 - mean_squared_error: 0.00 - ETA: 0s - loss: 0.0041 - mean_squared_error: 0.00 - 1s 96us/sample - loss: 0.0040 - mean_squared_error: 0.0040 - val_loss: 0.0022 - val_mean_squared_error: 0.0022\n",
      "Epoch 3/40\n",
      "7000/7000 [==============================] - ETA: 0s - loss: 0.0022 - mean_squared_error: 0.00 - ETA: 0s - loss: 0.0020 - mean_squared_error: 0.00 - ETA: 0s - loss: 0.0019 - mean_squared_error: 0.00 - ETA: 0s - loss: 0.0019 - mean_squared_error: 0.00 - ETA: 0s - loss: 0.0019 - mean_squared_error: 0.00 - ETA: 0s - loss: 0.0018 - mean_squared_error: 0.00 - ETA: 0s - loss: 0.0017 - mean_squared_error: 0.00 - ETA: 0s - loss: 0.0017 - mean_squared_error: 0.00 - ETA: 0s - loss: 0.0016 - mean_squared_error: 0.00 - ETA: 0s - loss: 0.0016 - mean_squared_error: 0.00 - ETA: 0s - loss: 0.0016 - mean_squared_error: 0.00 - 1s 97us/sample - loss: 0.0015 - mean_squared_error: 0.0015 - val_loss: 0.0011 - val_mean_squared_error: 0.0011\n",
      "Epoch 4/40\n",
      "7000/7000 [==============================] - ETA: 0s - loss: 0.0011 - mean_squared_error: 0.00 - ETA: 0s - loss: 0.0010 - mean_squared_error: 0.00 - ETA: 0s - loss: 0.0010 - mean_squared_error: 0.00 - ETA: 0s - loss: 0.0010 - mean_squared_error: 0.00 - ETA: 0s - loss: 0.0010 - mean_squared_error: 0.00 - ETA: 0s - loss: 9.8484e-04 - mean_squared_error: 9.8484e- - ETA: 0s - loss: 9.7169e-04 - mean_squared_error: 9.7169e- - ETA: 0s - loss: 9.5356e-04 - mean_squared_error: 9.5356e- - ETA: 0s - loss: 9.3573e-04 - mean_squared_error: 9.3573e- - ETA: 0s - loss: 9.2410e-04 - mean_squared_error: 9.2410e- - ETA: 0s - loss: 9.0795e-04 - mean_squared_error: 9.0795e- - ETA: 0s - loss: 8.9179e-04 - mean_squared_error: 8.9179e- - 1s 103us/sample - loss: 8.8907e-04 - mean_squared_error: 8.8907e-04 - val_loss: 7.4675e-04 - val_mean_squared_error: 7.4675e-04\n",
      "Epoch 5/40\n",
      "7000/7000 [==============================] - ETA: 0s - loss: 8.1363e-04 - mean_squared_error: 8.1363e- - ETA: 0s - loss: 6.8677e-04 - mean_squared_error: 6.8677e- - ETA: 0s - loss: 6.8751e-04 - mean_squared_error: 6.8751e- - ETA: 0s - loss: 6.9725e-04 - mean_squared_error: 6.9725e- - ETA: 0s - loss: 6.8653e-04 - mean_squared_error: 6.8653e- - ETA: 0s - loss: 6.7651e-04 - mean_squared_error: 6.7651e- - ETA: 0s - loss: 6.7748e-04 - mean_squared_error: 6.7748e- - ETA: 0s - loss: 6.6483e-04 - mean_squared_error: 6.6483e- - ETA: 0s - loss: 6.5426e-04 - mean_squared_error: 6.5426e- - ETA: 0s - loss: 6.4193e-04 - mean_squared_error: 6.4193e- - ETA: 0s - loss: 6.3032e-04 - mean_squared_error: 6.3032e- - ETA: 0s - loss: 6.2100e-04 - mean_squared_error: 6.2101e- - 1s 105us/sample - loss: 6.1748e-04 - mean_squared_error: 6.1748e-04 - val_loss: 5.5007e-04 - val_mean_squared_error: 5.5007e-04\n",
      "Epoch 6/40\n",
      "7000/7000 [==============================] - ETA: 0s - loss: 4.9873e-04 - mean_squared_error: 4.9873e- - ETA: 0s - loss: 5.3847e-04 - mean_squared_error: 5.3847e- - ETA: 0s - loss: 5.0562e-04 - mean_squared_error: 5.0562e- - ETA: 0s - loss: 5.0470e-04 - mean_squared_error: 5.0470e- - ETA: 0s - loss: 4.9495e-04 - mean_squared_error: 4.9495e- - ETA: 0s - loss: 4.9038e-04 - mean_squared_error: 4.9038e- - ETA: 0s - loss: 4.9171e-04 - mean_squared_error: 4.9171e- - ETA: 0s - loss: 4.8567e-04 - mean_squared_error: 4.8567e- - ETA: 0s - loss: 4.8514e-04 - mean_squared_error: 4.8514e- - ETA: 0s - loss: 4.7614e-04 - mean_squared_error: 4.7614e- - ETA: 0s - loss: 4.7634e-04 - mean_squared_error: 4.7634e- - ETA: 0s - loss: 4.7173e-04 - mean_squared_error: 4.7173e- - 1s 107us/sample - loss: 4.7039e-04 - mean_squared_error: 4.7039e-04 - val_loss: 4.3277e-04 - val_mean_squared_error: 4.3277e-04\n",
      "Epoch 7/40\n",
      "7000/7000 [==============================] - ETA: 0s - loss: 6.6133e-04 - mean_squared_error: 6.6133e- - ETA: 0s - loss: 4.2315e-04 - mean_squared_error: 4.2315e- - ETA: 0s - loss: 3.9831e-04 - mean_squared_error: 3.9831e- - ETA: 0s - loss: 4.0418e-04 - mean_squared_error: 4.0418e- - ETA: 0s - loss: 3.9575e-04 - mean_squared_error: 3.9575e- - ETA: 0s - loss: 3.9213e-04 - mean_squared_error: 3.9213e- - ETA: 0s - loss: 4.0153e-04 - mean_squared_error: 4.0153e- - ETA: 0s - loss: 3.9934e-04 - mean_squared_error: 3.9934e- - ETA: 0s - loss: 3.9280e-04 - mean_squared_error: 3.9280e- - ETA: 0s - loss: 3.9005e-04 - mean_squared_error: 3.9005e- - ETA: 0s - loss: 3.8165e-04 - mean_squared_error: 3.8165e- - ETA: 0s - loss: 3.7920e-04 - mean_squared_error: 3.7920e- - ETA: 0s - loss: 3.7807e-04 - mean_squared_error: 3.7807e- - 1s 111us/sample - loss: 3.7808e-04 - mean_squared_error: 3.7808e-04 - val_loss: 3.5531e-04 - val_mean_squared_error: 3.5531e-04\n",
      "Epoch 8/40\n",
      "7000/7000 [==============================] - ETA: 0s - loss: 3.1268e-04 - mean_squared_error: 3.1268e- - ETA: 0s - loss: 3.3167e-04 - mean_squared_error: 3.3167e- - ETA: 0s - loss: 3.3162e-04 - mean_squared_error: 3.3162e- - ETA: 0s - loss: 3.4432e-04 - mean_squared_error: 3.4432e- - ETA: 0s - loss: 3.3509e-04 - mean_squared_error: 3.3509e- - ETA: 0s - loss: 3.3107e-04 - mean_squared_error: 3.3107e- - ETA: 0s - loss: 3.2890e-04 - mean_squared_error: 3.2890e- - ETA: 0s - loss: 3.2832e-04 - mean_squared_error: 3.2832e- - ETA: 0s - loss: 3.2106e-04 - mean_squared_error: 3.2106e- - ETA: 0s - loss: 3.1923e-04 - mean_squared_error: 3.1923e- - ETA: 0s - loss: 3.1709e-04 - mean_squared_error: 3.1709e- - ETA: 0s - loss: 3.1601e-04 - mean_squared_error: 3.1601e- - 1s 106us/sample - loss: 3.1499e-04 - mean_squared_error: 3.1499e-04 - val_loss: 2.9965e-04 - val_mean_squared_error: 2.9965e-04\n",
      "Epoch 9/40\n",
      "7000/7000 [==============================] - ETA: 1s - loss: 2.2016e-04 - mean_squared_error: 2.2016e- - ETA: 0s - loss: 2.8312e-04 - mean_squared_error: 2.8312e- - ETA: 0s - loss: 2.8276e-04 - mean_squared_error: 2.8276e- - ETA: 0s - loss: 2.8107e-04 - mean_squared_error: 2.8107e- - ETA: 0s - loss: 2.7416e-04 - mean_squared_error: 2.7416e- - ETA: 0s - loss: 2.7368e-04 - mean_squared_error: 2.7368e- - ETA: 0s - loss: 2.7230e-04 - mean_squared_error: 2.7230e- - ETA: 0s - loss: 2.7658e-04 - mean_squared_error: 2.7658e- - ETA: 0s - loss: 2.7399e-04 - mean_squared_error: 2.7399e- - ETA: 0s - loss: 2.7006e-04 - mean_squared_error: 2.7006e- - ETA: 0s - loss: 2.6904e-04 - mean_squared_error: 2.6904e- - ETA: 0s - loss: 2.6755e-04 - mean_squared_error: 2.6755e- - 1s 106us/sample - loss: 2.6890e-04 - mean_squared_error: 2.6890e-04 - val_loss: 2.5910e-04 - val_mean_squared_error: 2.5910e-04\n",
      "Epoch 10/40\n"
     ]
    },
    {
     "name": "stdout",
     "output_type": "stream",
     "text": [
      "7000/7000 [==============================] - ETA: 1s - loss: 9.8007e-05 - mean_squared_error: 9.8007e- - ETA: 0s - loss: 2.4023e-04 - mean_squared_error: 2.4023e- - ETA: 0s - loss: 2.4580e-04 - mean_squared_error: 2.4580e- - ETA: 0s - loss: 2.5646e-04 - mean_squared_error: 2.5646e- - ETA: 0s - loss: 2.4299e-04 - mean_squared_error: 2.4299e- - ETA: 0s - loss: 2.3355e-04 - mean_squared_error: 2.3355e- - ETA: 0s - loss: 2.3693e-04 - mean_squared_error: 2.3693e- - ETA: 0s - loss: 2.3490e-04 - mean_squared_error: 2.3490e- - ETA: 0s - loss: 2.3550e-04 - mean_squared_error: 2.3550e- - ETA: 0s - loss: 2.3524e-04 - mean_squared_error: 2.3524e- - ETA: 0s - loss: 2.3581e-04 - mean_squared_error: 2.3581e- - ETA: 0s - loss: 2.3602e-04 - mean_squared_error: 2.3602e- - 1s 108us/sample - loss: 2.3434e-04 - mean_squared_error: 2.3434e-04 - val_loss: 2.2671e-04 - val_mean_squared_error: 2.2671e-04\n",
      "Epoch 11/40\n",
      "7000/7000 [==============================] - ETA: 1s - loss: 2.6257e-04 - mean_squared_error: 2.6257e- - ETA: 0s - loss: 2.2796e-04 - mean_squared_error: 2.2796e- - ETA: 0s - loss: 2.1801e-04 - mean_squared_error: 2.1801e- - ETA: 0s - loss: 2.1386e-04 - mean_squared_error: 2.1386e- - ETA: 0s - loss: 2.2056e-04 - mean_squared_error: 2.2056e- - ETA: 0s - loss: 2.1412e-04 - mean_squared_error: 2.1412e- - ETA: 0s - loss: 2.1143e-04 - mean_squared_error: 2.1143e- - ETA: 0s - loss: 2.0871e-04 - mean_squared_error: 2.0871e- - ETA: 0s - loss: 2.1221e-04 - mean_squared_error: 2.1221e- - ETA: 0s - loss: 2.1012e-04 - mean_squared_error: 2.1012e- - ETA: 0s - loss: 2.0595e-04 - mean_squared_error: 2.0595e- - ETA: 0s - loss: 2.0542e-04 - mean_squared_error: 2.0542e- - 1s 110us/sample - loss: 2.0754e-04 - mean_squared_error: 2.0754e-04 - val_loss: 2.0246e-04 - val_mean_squared_error: 2.0246e-04\n",
      "Epoch 12/40\n",
      "7000/7000 [==============================] - ETA: 1s - loss: 1.8532e-04 - mean_squared_error: 1.8532e- - ETA: 0s - loss: 1.7998e-04 - mean_squared_error: 1.7998e- - ETA: 0s - loss: 1.8196e-04 - mean_squared_error: 1.8196e- - ETA: 0s - loss: 1.7056e-04 - mean_squared_error: 1.7056e- - ETA: 0s - loss: 1.8532e-04 - mean_squared_error: 1.8532e- - ETA: 0s - loss: 1.8279e-04 - mean_squared_error: 1.8279e- - ETA: 0s - loss: 1.8312e-04 - mean_squared_error: 1.8312e- - ETA: 0s - loss: 1.8439e-04 - mean_squared_error: 1.8439e- - ETA: 0s - loss: 1.8120e-04 - mean_squared_error: 1.8120e- - ETA: 0s - loss: 1.8289e-04 - mean_squared_error: 1.8289e- - ETA: 0s - loss: 1.8300e-04 - mean_squared_error: 1.8300e- - ETA: 0s - loss: 1.8301e-04 - mean_squared_error: 1.8301e- - ETA: 0s - loss: 1.8476e-04 - mean_squared_error: 1.8476e- - 1s 118us/sample - loss: 1.8663e-04 - mean_squared_error: 1.8663e-04 - val_loss: 1.8326e-04 - val_mean_squared_error: 1.8326e-04\n",
      "Epoch 13/40\n",
      "7000/7000 [==============================] - ETA: 1s - loss: 1.7534e-04 - mean_squared_error: 1.7534e- - ETA: 0s - loss: 1.4262e-04 - mean_squared_error: 1.4262e- - ETA: 0s - loss: 1.5740e-04 - mean_squared_error: 1.5740e- - ETA: 0s - loss: 1.6799e-04 - mean_squared_error: 1.6799e- - ETA: 0s - loss: 1.6931e-04 - mean_squared_error: 1.6931e- - ETA: 0s - loss: 1.6700e-04 - mean_squared_error: 1.6700e- - ETA: 0s - loss: 1.7004e-04 - mean_squared_error: 1.7004e- - ETA: 0s - loss: 1.7067e-04 - mean_squared_error: 1.7067e- - ETA: 0s - loss: 1.7021e-04 - mean_squared_error: 1.7021e- - ETA: 0s - loss: 1.6637e-04 - mean_squared_error: 1.6637e- - ETA: 0s - loss: 1.6712e-04 - mean_squared_error: 1.6712e- - ETA: 0s - loss: 1.7014e-04 - mean_squared_error: 1.7014e- - ETA: 0s - loss: 1.7069e-04 - mean_squared_error: 1.7069e- - 1s 114us/sample - loss: 1.7019e-04 - mean_squared_error: 1.7019e-04 - val_loss: 1.6741e-04 - val_mean_squared_error: 1.6741e-04\n",
      "Epoch 14/40\n",
      "7000/7000 [==============================] - ETA: 1s - loss: 3.4482e-04 - mean_squared_error: 3.4482e- - ETA: 0s - loss: 1.5820e-04 - mean_squared_error: 1.5820e- - ETA: 0s - loss: 1.4793e-04 - mean_squared_error: 1.4793e- - ETA: 0s - loss: 1.4659e-04 - mean_squared_error: 1.4659e- - ETA: 0s - loss: 1.4347e-04 - mean_squared_error: 1.4347e- - ETA: 0s - loss: 1.4950e-04 - mean_squared_error: 1.4950e- - ETA: 0s - loss: 1.5122e-04 - mean_squared_error: 1.5122e- - ETA: 0s - loss: 1.5554e-04 - mean_squared_error: 1.5554e- - ETA: 0s - loss: 1.5646e-04 - mean_squared_error: 1.5646e- - ETA: 0s - loss: 1.5898e-04 - mean_squared_error: 1.5898e- - ETA: 0s - loss: 1.5895e-04 - mean_squared_error: 1.5895e- - ETA: 0s - loss: 1.5825e-04 - mean_squared_error: 1.5825e- - 1s 106us/sample - loss: 1.5748e-04 - mean_squared_error: 1.5748e-04 - val_loss: 1.5550e-04 - val_mean_squared_error: 1.5550e-04\n",
      "Epoch 15/40\n",
      "7000/7000 [==============================] - ETA: 1s - loss: 1.1063e-04 - mean_squared_error: 1.1063e- - ETA: 0s - loss: 1.5144e-04 - mean_squared_error: 1.5144e- - ETA: 0s - loss: 1.4064e-04 - mean_squared_error: 1.4064e- - ETA: 0s - loss: 1.4234e-04 - mean_squared_error: 1.4234e- - ETA: 0s - loss: 1.4579e-04 - mean_squared_error: 1.4579e- - ETA: 0s - loss: 1.4985e-04 - mean_squared_error: 1.4985e- - ETA: 0s - loss: 1.5244e-04 - mean_squared_error: 1.5244e- - ETA: 0s - loss: 1.4721e-04 - mean_squared_error: 1.4721e- - ETA: 0s - loss: 1.4847e-04 - mean_squared_error: 1.4847e- - ETA: 0s - loss: 1.4850e-04 - mean_squared_error: 1.4850e- - ETA: 0s - loss: 1.4832e-04 - mean_squared_error: 1.4832e- - ETA: 0s - loss: 1.4821e-04 - mean_squared_error: 1.4821e- - 1s 106us/sample - loss: 1.4785e-04 - mean_squared_error: 1.4785e-04 - val_loss: 1.4634e-04 - val_mean_squared_error: 1.4634e-04\n",
      "Epoch 16/40\n",
      "7000/7000 [==============================] - ETA: 0s - loss: 1.8462e-04 - mean_squared_error: 1.8462e- - ETA: 0s - loss: 1.6958e-04 - mean_squared_error: 1.6958e- - ETA: 0s - loss: 1.5622e-04 - mean_squared_error: 1.5622e- - ETA: 0s - loss: 1.4639e-04 - mean_squared_error: 1.4639e- - ETA: 0s - loss: 1.4483e-04 - mean_squared_error: 1.4483e- - ETA: 0s - loss: 1.4424e-04 - mean_squared_error: 1.4424e- - ETA: 0s - loss: 1.4174e-04 - mean_squared_error: 1.4174e- - ETA: 0s - loss: 1.4202e-04 - mean_squared_error: 1.4202e- - ETA: 0s - loss: 1.4323e-04 - mean_squared_error: 1.4323e- - ETA: 0s - loss: 1.4207e-04 - mean_squared_error: 1.4207e- - ETA: 0s - loss: 1.4152e-04 - mean_squared_error: 1.4152e- - ETA: 0s - loss: 1.4108e-04 - mean_squared_error: 1.4108e- - 1s 101us/sample - loss: 1.4052e-04 - mean_squared_error: 1.4052e-04 - val_loss: 1.3881e-04 - val_mean_squared_error: 1.3881e-04\n",
      "Epoch 17/40\n",
      "7000/7000 [==============================] - ETA: 0s - loss: 6.3806e-05 - mean_squared_error: 6.3806e- - ETA: 0s - loss: 1.3128e-04 - mean_squared_error: 1.3128e- - ETA: 0s - loss: 1.3880e-04 - mean_squared_error: 1.3880e- - ETA: 0s - loss: 1.3765e-04 - mean_squared_error: 1.3765e- - ETA: 0s - loss: 1.4108e-04 - mean_squared_error: 1.4108e- - ETA: 0s - loss: 1.4243e-04 - mean_squared_error: 1.4243e- - ETA: 0s - loss: 1.3987e-04 - mean_squared_error: 1.3987e- - ETA: 0s - loss: 1.4099e-04 - mean_squared_error: 1.4099e- - ETA: 0s - loss: 1.3870e-04 - mean_squared_error: 1.3870e- - ETA: 0s - loss: 1.3664e-04 - mean_squared_error: 1.3664e- - ETA: 0s - loss: 1.3462e-04 - mean_squared_error: 1.3462e- - ETA: 0s - loss: 1.3510e-04 - mean_squared_error: 1.3510e- - 1s 101us/sample - loss: 1.3502e-04 - mean_squared_error: 1.3502e-04 - val_loss: 1.3550e-04 - val_mean_squared_error: 1.3550e-04\n",
      "Epoch 18/40\n",
      "7000/7000 [==============================] - ETA: 1s - loss: 1.0578e-04 - mean_squared_error: 1.0578e- - ETA: 0s - loss: 1.4312e-04 - mean_squared_error: 1.4312e- - ETA: 0s - loss: 1.3844e-04 - mean_squared_error: 1.3844e- - ETA: 0s - loss: 1.3081e-04 - mean_squared_error: 1.3081e- - ETA: 0s - loss: 1.2255e-04 - mean_squared_error: 1.2255e- - ETA: 0s - loss: 1.2310e-04 - mean_squared_error: 1.2310e- - ETA: 0s - loss: 1.2479e-04 - mean_squared_error: 1.2479e- - ETA: 0s - loss: 1.2631e-04 - mean_squared_error: 1.2631e- - ETA: 0s - loss: 1.2583e-04 - mean_squared_error: 1.2583e- - ETA: 0s - loss: 1.2639e-04 - mean_squared_error: 1.2639e- - ETA: 0s - loss: 1.3005e-04 - mean_squared_error: 1.3005e- - ETA: 0s - loss: 1.3051e-04 - mean_squared_error: 1.3051e- - 1s 103us/sample - loss: 1.3066e-04 - mean_squared_error: 1.3066e-04 - val_loss: 1.3018e-04 - val_mean_squared_error: 1.3018e-04\n"
     ]
    },
    {
     "name": "stdout",
     "output_type": "stream",
     "text": [
      "Epoch 19/40\n",
      "7000/7000 [==============================] - ETA: 0s - loss: 1.2597e-04 - mean_squared_error: 1.2597e- - ETA: 0s - loss: 1.2969e-04 - mean_squared_error: 1.2969e- - ETA: 0s - loss: 1.2385e-04 - mean_squared_error: 1.2385e- - ETA: 0s - loss: 1.2112e-04 - mean_squared_error: 1.2112e- - ETA: 0s - loss: 1.2323e-04 - mean_squared_error: 1.2323e- - ETA: 0s - loss: 1.2356e-04 - mean_squared_error: 1.2356e- - ETA: 0s - loss: 1.2282e-04 - mean_squared_error: 1.2282e- - ETA: 0s - loss: 1.2454e-04 - mean_squared_error: 1.2454e- - ETA: 0s - loss: 1.2425e-04 - mean_squared_error: 1.2425e- - ETA: 0s - loss: 1.2605e-04 - mean_squared_error: 1.2605e- - ETA: 0s - loss: 1.2838e-04 - mean_squared_error: 1.2838e- - 1s 96us/sample - loss: 1.2803e-04 - mean_squared_error: 1.2803e-04 - val_loss: 1.2759e-04 - val_mean_squared_error: 1.2759e-04\n",
      "Epoch 20/40\n",
      "7000/7000 [==============================] - ETA: 1s - loss: 1.3128e-04 - mean_squared_error: 1.3128e- - ETA: 0s - loss: 1.2775e-04 - mean_squared_error: 1.2775e- - ETA: 0s - loss: 1.1914e-04 - mean_squared_error: 1.1914e- - ETA: 0s - loss: 1.2088e-04 - mean_squared_error: 1.2088e- - ETA: 0s - loss: 1.2416e-04 - mean_squared_error: 1.2416e- - ETA: 0s - loss: 1.2631e-04 - mean_squared_error: 1.2631e- - ETA: 0s - loss: 1.2839e-04 - mean_squared_error: 1.2839e- - ETA: 0s - loss: 1.2608e-04 - mean_squared_error: 1.2608e- - ETA: 0s - loss: 1.2637e-04 - mean_squared_error: 1.2637e- - ETA: 0s - loss: 1.2710e-04 - mean_squared_error: 1.2710e- - ETA: 0s - loss: 1.2653e-04 - mean_squared_error: 1.2653e- - 1s 96us/sample - loss: 1.2671e-04 - mean_squared_error: 1.2671e-04 - val_loss: 1.2528e-04 - val_mean_squared_error: 1.2528e-04\n",
      "Epoch 21/40\n",
      "7000/7000 [==============================] - ETA: 0s - loss: 1.2436e-04 - mean_squared_error: 1.2436e- - ETA: 0s - loss: 1.1432e-04 - mean_squared_error: 1.1432e- - ETA: 0s - loss: 1.1782e-04 - mean_squared_error: 1.1782e- - ETA: 0s - loss: 1.2350e-04 - mean_squared_error: 1.2350e- - ETA: 0s - loss: 1.2405e-04 - mean_squared_error: 1.2405e- - ETA: 0s - loss: 1.2398e-04 - mean_squared_error: 1.2398e- - ETA: 0s - loss: 1.2284e-04 - mean_squared_error: 1.2284e- - ETA: 0s - loss: 1.2518e-04 - mean_squared_error: 1.2518e- - ETA: 0s - loss: 1.2484e-04 - mean_squared_error: 1.2484e- - ETA: 0s - loss: 1.2528e-04 - mean_squared_error: 1.2528e- - ETA: 0s - loss: 1.2502e-04 - mean_squared_error: 1.2502e- - 1s 95us/sample - loss: 1.2479e-04 - mean_squared_error: 1.2479e-04 - val_loss: 1.2344e-04 - val_mean_squared_error: 1.2344e-04\n",
      "Epoch 22/40\n",
      "7000/7000 [==============================] - ETA: 0s - loss: 1.6513e-04 - mean_squared_error: 1.6513e- - ETA: 0s - loss: 1.4643e-04 - mean_squared_error: 1.4643e- - ETA: 0s - loss: 1.3953e-04 - mean_squared_error: 1.3953e- - ETA: 0s - loss: 1.3361e-04 - mean_squared_error: 1.3361e- - ETA: 0s - loss: 1.2889e-04 - mean_squared_error: 1.2889e- - ETA: 0s - loss: 1.2629e-04 - mean_squared_error: 1.2629e- - ETA: 0s - loss: 1.2840e-04 - mean_squared_error: 1.2840e- - ETA: 0s - loss: 1.2680e-04 - mean_squared_error: 1.2680e- - ETA: 0s - loss: 1.2602e-04 - mean_squared_error: 1.2602e- - ETA: 0s - loss: 1.2542e-04 - mean_squared_error: 1.2542e- - ETA: 0s - loss: 1.2537e-04 - mean_squared_error: 1.2537e- - 1s 97us/sample - loss: 1.2410e-04 - mean_squared_error: 1.2410e-04 - val_loss: 1.2262e-04 - val_mean_squared_error: 1.2262e-04\n",
      "Epoch 23/40\n",
      "7000/7000 [==============================] - ETA: 0s - loss: 9.4714e-05 - mean_squared_error: 9.4714e- - ETA: 0s - loss: 1.1352e-04 - mean_squared_error: 1.1352e- - ETA: 0s - loss: 1.2375e-04 - mean_squared_error: 1.2375e- - ETA: 0s - loss: 1.2453e-04 - mean_squared_error: 1.2453e- - ETA: 0s - loss: 1.2592e-04 - mean_squared_error: 1.2592e- - ETA: 0s - loss: 1.2697e-04 - mean_squared_error: 1.2697e- - ETA: 0s - loss: 1.2608e-04 - mean_squared_error: 1.2608e- - ETA: 0s - loss: 1.2639e-04 - mean_squared_error: 1.2639e- - ETA: 0s - loss: 1.2528e-04 - mean_squared_error: 1.2528e- - ETA: 0s - loss: 1.2397e-04 - mean_squared_error: 1.2397e- - ETA: 0s - loss: 1.2464e-04 - mean_squared_error: 1.2464e- - 1s 97us/sample - loss: 1.2378e-04 - mean_squared_error: 1.2378e-04 - val_loss: 1.2201e-04 - val_mean_squared_error: 1.2201e-04\n",
      "Epoch 24/40\n",
      "7000/7000 [==============================] - ETA: 0s - loss: 1.6828e-04 - mean_squared_error: 1.6828e- - ETA: 0s - loss: 1.2081e-04 - mean_squared_error: 1.2081e- - ETA: 0s - loss: 1.2193e-04 - mean_squared_error: 1.2193e- - ETA: 0s - loss: 1.2906e-04 - mean_squared_error: 1.2906e- - ETA: 0s - loss: 1.2338e-04 - mean_squared_error: 1.2338e- - ETA: 0s - loss: 1.2404e-04 - mean_squared_error: 1.2404e- - ETA: 0s - loss: 1.2164e-04 - mean_squared_error: 1.2164e- - ETA: 0s - loss: 1.2271e-04 - mean_squared_error: 1.2271e- - ETA: 0s - loss: 1.2423e-04 - mean_squared_error: 1.2423e- - ETA: 0s - loss: 1.2414e-04 - mean_squared_error: 1.2414e- - ETA: 0s - loss: 1.2334e-04 - mean_squared_error: 1.2334e- - 1s 97us/sample - loss: 1.2365e-04 - mean_squared_error: 1.2365e-04 - val_loss: 1.2222e-04 - val_mean_squared_error: 1.2222e-04\n",
      "Epoch 25/40\n",
      "7000/7000 [==============================] - ETA: 0s - loss: 1.2490e-04 - mean_squared_error: 1.2490e- - ETA: 0s - loss: 1.3270e-04 - mean_squared_error: 1.3270e- - ETA: 0s - loss: 1.3687e-04 - mean_squared_error: 1.3687e- - ETA: 0s - loss: 1.3127e-04 - mean_squared_error: 1.3127e- - ETA: 0s - loss: 1.2879e-04 - mean_squared_error: 1.2879e- - ETA: 0s - loss: 1.2730e-04 - mean_squared_error: 1.2730e- - ETA: 0s - loss: 1.2604e-04 - mean_squared_error: 1.2604e- - ETA: 0s - loss: 1.2606e-04 - mean_squared_error: 1.2606e- - ETA: 0s - loss: 1.2504e-04 - mean_squared_error: 1.2504e- - ETA: 0s - loss: 1.2498e-04 - mean_squared_error: 1.2498e- - ETA: 0s - loss: 1.2414e-04 - mean_squared_error: 1.2414e- - 1s 98us/sample - loss: 1.2408e-04 - mean_squared_error: 1.2408e-04 - val_loss: 1.2126e-04 - val_mean_squared_error: 1.2126e-04\n",
      "Epoch 26/40\n",
      "7000/7000 [==============================] - ETA: 0s - loss: 5.9120e-05 - mean_squared_error: 5.9120e- - ETA: 0s - loss: 1.1581e-04 - mean_squared_error: 1.1581e- - ETA: 0s - loss: 1.2159e-04 - mean_squared_error: 1.2159e- - ETA: 0s - loss: 1.2262e-04 - mean_squared_error: 1.2262e- - ETA: 0s - loss: 1.2714e-04 - mean_squared_error: 1.2714e- - ETA: 0s - loss: 1.2849e-04 - mean_squared_error: 1.2849e- - ETA: 0s - loss: 1.2794e-04 - mean_squared_error: 1.2794e- - ETA: 0s - loss: 1.2715e-04 - mean_squared_error: 1.2715e- - ETA: 0s - loss: 1.2590e-04 - mean_squared_error: 1.2590e- - ETA: 0s - loss: 1.2512e-04 - mean_squared_error: 1.2512e- - ETA: 0s - loss: 1.2460e-04 - mean_squared_error: 1.2460e- - 1s 98us/sample - loss: 1.2301e-04 - mean_squared_error: 1.2301e-04 - val_loss: 1.2333e-04 - val_mean_squared_error: 1.2333e-04\n",
      "Epoch 27/40\n",
      "7000/7000 [==============================] - ETA: 0s - loss: 1.4819e-04 - mean_squared_error: 1.4819e- - ETA: 0s - loss: 1.2291e-04 - mean_squared_error: 1.2291e- - ETA: 0s - loss: 1.2063e-04 - mean_squared_error: 1.2063e- - ETA: 0s - loss: 1.2186e-04 - mean_squared_error: 1.2186e- - ETA: 0s - loss: 1.2526e-04 - mean_squared_error: 1.2526e- - ETA: 0s - loss: 1.2251e-04 - mean_squared_error: 1.2251e- - ETA: 0s - loss: 1.2135e-04 - mean_squared_error: 1.2135e- - ETA: 0s - loss: 1.2019e-04 - mean_squared_error: 1.2019e- - ETA: 0s - loss: 1.2104e-04 - mean_squared_error: 1.2104e- - ETA: 0s - loss: 1.2043e-04 - mean_squared_error: 1.2043e- - ETA: 0s - loss: 1.2287e-04 - mean_squared_error: 1.2287e- - 1s 98us/sample - loss: 1.2344e-04 - mean_squared_error: 1.2344e-04 - val_loss: 1.2709e-04 - val_mean_squared_error: 1.2709e-04\n",
      "Epoch 28/40\n"
     ]
    },
    {
     "name": "stdout",
     "output_type": "stream",
     "text": [
      "7000/7000 [==============================] - ETA: 0s - loss: 1.2643e-04 - mean_squared_error: 1.2643e- - ETA: 0s - loss: 1.3127e-04 - mean_squared_error: 1.3127e- - ETA: 0s - loss: 1.2972e-04 - mean_squared_error: 1.2972e- - ETA: 0s - loss: 1.3095e-04 - mean_squared_error: 1.3095e- - ETA: 0s - loss: 1.3567e-04 - mean_squared_error: 1.3567e- - ETA: 0s - loss: 1.3154e-04 - mean_squared_error: 1.3154e- - ETA: 0s - loss: 1.2758e-04 - mean_squared_error: 1.2758e- - ETA: 0s - loss: 1.2615e-04 - mean_squared_error: 1.2615e- - ETA: 0s - loss: 1.2456e-04 - mean_squared_error: 1.2456e- - ETA: 0s - loss: 1.2356e-04 - mean_squared_error: 1.2356e- - ETA: 0s - loss: 1.2394e-04 - mean_squared_error: 1.2394e- - ETA: 0s - loss: 1.2481e-04 - mean_squared_error: 1.2481e- - 1s 106us/sample - loss: 1.2415e-04 - mean_squared_error: 1.2415e-04 - val_loss: 1.2235e-04 - val_mean_squared_error: 1.2235e-04\n",
      "Epoch 29/40\n",
      "7000/7000 [==============================] - ETA: 0s - loss: 8.9745e-05 - mean_squared_error: 8.9745e- - ETA: 0s - loss: 1.2535e-04 - mean_squared_error: 1.2535e- - ETA: 0s - loss: 1.2707e-04 - mean_squared_error: 1.2707e- - ETA: 0s - loss: 1.2609e-04 - mean_squared_error: 1.2609e- - ETA: 0s - loss: 1.2432e-04 - mean_squared_error: 1.2432e- - ETA: 0s - loss: 1.2520e-04 - mean_squared_error: 1.2520e- - ETA: 0s - loss: 1.2568e-04 - mean_squared_error: 1.2568e- - ETA: 0s - loss: 1.2452e-04 - mean_squared_error: 1.2452e- - ETA: 0s - loss: 1.2411e-04 - mean_squared_error: 1.2411e- - ETA: 0s - loss: 1.2259e-04 - mean_squared_error: 1.2259e- - ETA: 0s - loss: 1.2378e-04 - mean_squared_error: 1.2378e- - ETA: 0s - loss: 1.2440e-04 - mean_squared_error: 1.2440e- - 1s 101us/sample - loss: 1.2398e-04 - mean_squared_error: 1.2398e-04 - val_loss: 1.2296e-04 - val_mean_squared_error: 1.2296e-04\n",
      "Epoch 30/40\n",
      "7000/7000 [==============================] - ETA: 0s - loss: 5.2149e-05 - mean_squared_error: 5.2149e- - ETA: 0s - loss: 1.2395e-04 - mean_squared_error: 1.2395e- - ETA: 0s - loss: 1.1885e-04 - mean_squared_error: 1.1885e- - ETA: 0s - loss: 1.1688e-04 - mean_squared_error: 1.1688e- - ETA: 0s - loss: 1.2116e-04 - mean_squared_error: 1.2116e- - ETA: 0s - loss: 1.2556e-04 - mean_squared_error: 1.2556e- - ETA: 0s - loss: 1.2608e-04 - mean_squared_error: 1.2608e- - ETA: 0s - loss: 1.2655e-04 - mean_squared_error: 1.2655e- - ETA: 0s - loss: 1.2518e-04 - mean_squared_error: 1.2518e- - ETA: 0s - loss: 1.2508e-04 - mean_squared_error: 1.2508e- - ETA: 0s - loss: 1.2479e-04 - mean_squared_error: 1.2479e- - 1s 99us/sample - loss: 1.2408e-04 - mean_squared_error: 1.2408e-04 - val_loss: 1.2165e-04 - val_mean_squared_error: 1.2165e-04\n",
      "Epoch 31/40\n",
      "7000/7000 [==============================] - ETA: 0s - loss: 1.1114e-04 - mean_squared_error: 1.1114e- - ETA: 0s - loss: 1.0831e-04 - mean_squared_error: 1.0831e- - ETA: 0s - loss: 1.1659e-04 - mean_squared_error: 1.1659e- - ETA: 0s - loss: 1.2219e-04 - mean_squared_error: 1.2219e- - ETA: 0s - loss: 1.2929e-04 - mean_squared_error: 1.2929e- - ETA: 0s - loss: 1.2720e-04 - mean_squared_error: 1.2720e- - ETA: 0s - loss: 1.2502e-04 - mean_squared_error: 1.2502e- - ETA: 0s - loss: 1.2654e-04 - mean_squared_error: 1.2654e- - ETA: 0s - loss: 1.2710e-04 - mean_squared_error: 1.2710e- - ETA: 0s - loss: 1.2607e-04 - mean_squared_error: 1.2607e- - ETA: 0s - loss: 1.2475e-04 - mean_squared_error: 1.2475e- - 1s 98us/sample - loss: 1.2464e-04 - mean_squared_error: 1.2464e-04 - val_loss: 1.2355e-04 - val_mean_squared_error: 1.2355e-04\n",
      "Epoch 32/40\n",
      "7000/7000 [==============================] - ETA: 0s - loss: 1.2950e-04 - mean_squared_error: 1.2950e- - ETA: 0s - loss: 1.2651e-04 - mean_squared_error: 1.2651e- - ETA: 0s - loss: 1.2894e-04 - mean_squared_error: 1.2894e- - ETA: 0s - loss: 1.2780e-04 - mean_squared_error: 1.2780e- - ETA: 0s - loss: 1.2560e-04 - mean_squared_error: 1.2560e- - ETA: 0s - loss: 1.2366e-04 - mean_squared_error: 1.2366e- - ETA: 0s - loss: 1.2356e-04 - mean_squared_error: 1.2356e- - ETA: 0s - loss: 1.2623e-04 - mean_squared_error: 1.2623e- - ETA: 0s - loss: 1.2497e-04 - mean_squared_error: 1.2497e- - ETA: 0s - loss: 1.2492e-04 - mean_squared_error: 1.2492e- - ETA: 0s - loss: 1.2491e-04 - mean_squared_error: 1.2491e- - 1s 98us/sample - loss: 1.2507e-04 - mean_squared_error: 1.2507e-04 - val_loss: 1.2327e-04 - val_mean_squared_error: 1.2327e-04\n",
      "Epoch 33/40\n",
      "7000/7000 [==============================] - ETA: 0s - loss: 2.1090e-04 - mean_squared_error: 2.1090e- - ETA: 0s - loss: 1.2972e-04 - mean_squared_error: 1.2972e- - ETA: 0s - loss: 1.3354e-04 - mean_squared_error: 1.3354e- - ETA: 0s - loss: 1.3092e-04 - mean_squared_error: 1.3092e- - ETA: 0s - loss: 1.2374e-04 - mean_squared_error: 1.2374e- - ETA: 0s - loss: 1.2207e-04 - mean_squared_error: 1.2207e- - ETA: 0s - loss: 1.2193e-04 - mean_squared_error: 1.2193e- - ETA: 0s - loss: 1.2320e-04 - mean_squared_error: 1.2320e- - ETA: 0s - loss: 1.2264e-04 - mean_squared_error: 1.2264e- - ETA: 0s - loss: 1.2281e-04 - mean_squared_error: 1.2281e- - ETA: 0s - loss: 1.2409e-04 - mean_squared_error: 1.2409e- - ETA: 0s - loss: 1.2410e-04 - mean_squared_error: 1.2410e- - 1s 104us/sample - loss: 1.2487e-04 - mean_squared_error: 1.2487e-04 - val_loss: 1.2238e-04 - val_mean_squared_error: 1.2238e-04\n",
      "Epoch 34/40\n",
      "7000/7000 [==============================] - ETA: 1s - loss: 1.2614e-04 - mean_squared_error: 1.2614e- - ETA: 0s - loss: 1.3378e-04 - mean_squared_error: 1.3378e- - ETA: 0s - loss: 1.2720e-04 - mean_squared_error: 1.2720e- - ETA: 0s - loss: 1.2501e-04 - mean_squared_error: 1.2501e- - ETA: 0s - loss: 1.2249e-04 - mean_squared_error: 1.2249e- - ETA: 0s - loss: 1.2292e-04 - mean_squared_error: 1.2292e- - ETA: 0s - loss: 1.2700e-04 - mean_squared_error: 1.2700e- - ETA: 0s - loss: 1.2688e-04 - mean_squared_error: 1.2688e- - ETA: 0s - loss: 1.2856e-04 - mean_squared_error: 1.2856e- - ETA: 0s - loss: 1.2791e-04 - mean_squared_error: 1.2791e- - ETA: 0s - loss: 1.2741e-04 - mean_squared_error: 1.2741e- - ETA: 0s - loss: 1.2703e-04 - mean_squared_error: 1.2703e- - 1s 106us/sample - loss: 1.2619e-04 - mean_squared_error: 1.2619e-04 - val_loss: 1.2216e-04 - val_mean_squared_error: 1.2216e-04\n",
      "Epoch 35/40\n",
      "7000/7000 [==============================] - ETA: 1s - loss: 8.7001e-05 - mean_squared_error: 8.7001e- - ETA: 0s - loss: 1.2190e-04 - mean_squared_error: 1.2190e- - ETA: 0s - loss: 1.1720e-04 - mean_squared_error: 1.1720e- - ETA: 0s - loss: 1.2403e-04 - mean_squared_error: 1.2403e- - ETA: 0s - loss: 1.2527e-04 - mean_squared_error: 1.2527e- - ETA: 0s - loss: 1.3025e-04 - mean_squared_error: 1.3025e- - ETA: 0s - loss: 1.3120e-04 - mean_squared_error: 1.3120e- - ETA: 0s - loss: 1.2963e-04 - mean_squared_error: 1.2963e- - ETA: 0s - loss: 1.3005e-04 - mean_squared_error: 1.3005e- - ETA: 0s - loss: 1.2964e-04 - mean_squared_error: 1.2964e- - ETA: 0s - loss: 1.2823e-04 - mean_squared_error: 1.2823e- - ETA: 0s - loss: 1.2747e-04 - mean_squared_error: 1.2747e- - 1s 106us/sample - loss: 1.2669e-04 - mean_squared_error: 1.2669e-04 - val_loss: 1.2521e-04 - val_mean_squared_error: 1.2521e-04\n",
      "Epoch 36/40\n",
      "7000/7000 [==============================] - ETA: 0s - loss: 7.9744e-05 - mean_squared_error: 7.9744e- - ETA: 0s - loss: 1.2230e-04 - mean_squared_error: 1.2230e- - ETA: 0s - loss: 1.2741e-04 - mean_squared_error: 1.2741e- - ETA: 0s - loss: 1.3218e-04 - mean_squared_error: 1.3218e- - ETA: 0s - loss: 1.3231e-04 - mean_squared_error: 1.3231e- - ETA: 0s - loss: 1.2937e-04 - mean_squared_error: 1.2937e- - ETA: 0s - loss: 1.2796e-04 - mean_squared_error: 1.2796e- - ETA: 0s - loss: 1.2590e-04 - mean_squared_error: 1.2590e- - ETA: 0s - loss: 1.2447e-04 - mean_squared_error: 1.2447e- - ETA: 0s - loss: 1.2375e-04 - mean_squared_error: 1.2375e- - ETA: 0s - loss: 1.2564e-04 - mean_squared_error: 1.2564e- - ETA: 0s - loss: 1.2511e-04 - mean_squared_error: 1.2511e- - 1s 102us/sample - loss: 1.2534e-04 - mean_squared_error: 1.2534e-04 - val_loss: 1.2441e-04 - val_mean_squared_error: 1.2441e-04\n",
      "Epoch 37/40\n"
     ]
    },
    {
     "name": "stdout",
     "output_type": "stream",
     "text": [
      "7000/7000 [==============================] - ETA: 0s - loss: 7.2519e-05 - mean_squared_error: 7.2519e- - ETA: 0s - loss: 1.3195e-04 - mean_squared_error: 1.3195e- - ETA: 0s - loss: 1.3320e-04 - mean_squared_error: 1.3320e- - ETA: 0s - loss: 1.3049e-04 - mean_squared_error: 1.3049e- - ETA: 0s - loss: 1.2864e-04 - mean_squared_error: 1.2864e- - ETA: 0s - loss: 1.2591e-04 - mean_squared_error: 1.2591e- - ETA: 0s - loss: 1.2519e-04 - mean_squared_error: 1.2519e- - ETA: 0s - loss: 1.2493e-04 - mean_squared_error: 1.2493e- - ETA: 0s - loss: 1.2191e-04 - mean_squared_error: 1.2191e- - ETA: 0s - loss: 1.2190e-04 - mean_squared_error: 1.2190e- - ETA: 0s - loss: 1.2508e-04 - mean_squared_error: 1.2508e- - ETA: 0s - loss: 1.2604e-04 - mean_squared_error: 1.2604e- - 1s 107us/sample - loss: 1.2573e-04 - mean_squared_error: 1.2573e-04 - val_loss: 1.2288e-04 - val_mean_squared_error: 1.2288e-04\n",
      "Epoch 38/40\n",
      "7000/7000 [==============================] - ETA: 1s - loss: 1.1399e-04 - mean_squared_error: 1.1399e- - ETA: 0s - loss: 1.2612e-04 - mean_squared_error: 1.2612e- - ETA: 0s - loss: 1.3185e-04 - mean_squared_error: 1.3185e- - ETA: 0s - loss: 1.3011e-04 - mean_squared_error: 1.3011e- - ETA: 0s - loss: 1.3059e-04 - mean_squared_error: 1.3059e- - ETA: 0s - loss: 1.2992e-04 - mean_squared_error: 1.2992e- - ETA: 0s - loss: 1.2813e-04 - mean_squared_error: 1.2813e- - ETA: 0s - loss: 1.2714e-04 - mean_squared_error: 1.2714e- - ETA: 0s - loss: 1.2733e-04 - mean_squared_error: 1.2733e- - ETA: 0s - loss: 1.2716e-04 - mean_squared_error: 1.2716e- - ETA: 0s - loss: 1.2669e-04 - mean_squared_error: 1.2669e- - ETA: 0s - loss: 1.2738e-04 - mean_squared_error: 1.2738e- - ETA: 0s - loss: 1.2636e-04 - mean_squared_error: 1.2636e- - 1s 115us/sample - loss: 1.2660e-04 - mean_squared_error: 1.2660e-04 - val_loss: 1.2376e-04 - val_mean_squared_error: 1.2376e-04\n",
      "Epoch 39/40\n",
      "7000/7000 [==============================] - ETA: 0s - loss: 1.3052e-04 - mean_squared_error: 1.3052e- - ETA: 0s - loss: 1.0844e-04 - mean_squared_error: 1.0844e- - ETA: 0s - loss: 1.1716e-04 - mean_squared_error: 1.1716e- - ETA: 0s - loss: 1.1892e-04 - mean_squared_error: 1.1892e- - ETA: 0s - loss: 1.2034e-04 - mean_squared_error: 1.2034e- - ETA: 0s - loss: 1.2375e-04 - mean_squared_error: 1.2375e- - ETA: 0s - loss: 1.2628e-04 - mean_squared_error: 1.2628e- - ETA: 0s - loss: 1.2802e-04 - mean_squared_error: 1.2802e- - ETA: 0s - loss: 1.2540e-04 - mean_squared_error: 1.2540e- - ETA: 0s - loss: 1.2518e-04 - mean_squared_error: 1.2518e- - ETA: 0s - loss: 1.2410e-04 - mean_squared_error: 1.2410e- - ETA: 0s - loss: 1.2572e-04 - mean_squared_error: 1.2572e- - ETA: 0s - loss: 1.2647e-04 - mean_squared_error: 1.2647e- - 1s 115us/sample - loss: 1.2624e-04 - mean_squared_error: 1.2624e-04 - val_loss: 1.2445e-04 - val_mean_squared_error: 1.2445e-04\n",
      "Epoch 40/40\n",
      "7000/7000 [==============================] - ETA: 0s - loss: 1.9048e-04 - mean_squared_error: 1.9048e- - ETA: 0s - loss: 1.3909e-04 - mean_squared_error: 1.3909e- - ETA: 0s - loss: 1.3371e-04 - mean_squared_error: 1.3371e- - ETA: 0s - loss: 1.2759e-04 - mean_squared_error: 1.2759e- - ETA: 0s - loss: 1.2582e-04 - mean_squared_error: 1.2582e- - ETA: 0s - loss: 1.2835e-04 - mean_squared_error: 1.2835e- - ETA: 0s - loss: 1.2447e-04 - mean_squared_error: 1.2447e- - ETA: 0s - loss: 1.2530e-04 - mean_squared_error: 1.2530e- - ETA: 0s - loss: 1.2500e-04 - mean_squared_error: 1.2500e- - ETA: 0s - loss: 1.2525e-04 - mean_squared_error: 1.2525e- - ETA: 0s - loss: 1.2743e-04 - mean_squared_error: 1.2743e- - ETA: 0s - loss: 1.2786e-04 - mean_squared_error: 1.2786e- - ETA: 0s - loss: 1.2781e-04 - mean_squared_error: 1.2781e- - 1s 111us/sample - loss: 1.2791e-04 - mean_squared_error: 1.2791e-04 - val_loss: 1.2286e-04 - val_mean_squared_error: 1.2286e-04\n",
      "29.774956226348877\n"
     ]
    }
   ],
   "source": [
    "start_time = time.time()\n",
    "# new_hist = model.fit(X_train, Y_train, validation_data=(X_val, Y_val), epochs=40, shuffle=True, verbose=1, batch_size=N_channels+1)\n",
    "new_hist = model.fit(X_train, Y_train, validation_data=(X_val, Y_val), epochs=40, shuffle=True, verbose=1)\n",
    "training_time = time.time() - start_time\n",
    "print(training_time)"
   ]
  },
  {
   "cell_type": "code",
   "execution_count": 16,
   "metadata": {},
   "outputs": [
    {
     "name": "stdout",
     "output_type": "stream",
     "text": [
      "1500/1 [========================================================================================================================================================================================================================================================================================================================================================================================================================================================================================================================================================================================================================================================================================================================================================================================================================================================================================================================================================================================================================================================================================================================================================================================================================================================================================================================================================================================================================================================================================================================================================================================================================================================================================================================================================================================================================================================================================================================================================================================================================================================================================================================================================================================================================================================================================================================================================================================================================================================================================================================================================================================================================================================================================================================================================================================================================================================================================================================================================================================================================================================================================================================================================================================================================================================================================================================================================================================================================================================================================================================================================================================================================================================================================================================================================================================================================================================================================================================================================================================================================================================================================================================================================================================================================================================================================================================================================================================================================================================================================================================================================================================================================================================================================================================================================================================================================================================================================================================================================================================================================================================================================================================================================================================================================================================================================================================================================================================================================================================================================================================================================================================================================================================================================================================================================================================================================================================================================================================================================================================================================================================================================================================================================================================================================================================================================================================================================================================================================================================================================================================================================================================================================================================================================================================================================================================================================================================================================================================================================================================================================================================================================================================================================================================================================================================================================================================================================================================================================================================================================================================================================================================================================================================================================================================================================================================================================================================================================================================================================================================================================================================================================================================================================================================================================================================================================================================================================================================================================================================================================================================================================================================================================================================================================================================================================================================================================================================================================================================================================================================================================================================================================================================================================================================================================================================================================================================================================================================================================================================================================================================================================================================================================================================================================================================================================================================================================================================================================================================================================================================================================================================================================================================================================================================================================================================================================================================================================================================================================================================================================================================================================================================================================================================================================================================================================================================================================================================================================================================================================================================================================================================================================================================================================================================================================================================================================================================================================================================================================================================================================================================================================================================================================================================================================================================================================================================================================================================================================================================================================================================================================================================================================================================================================================================================================================================================================================================================================================================================================================================================================================================================================================================================================================================================================================================================================================================================================================================================================================================================================================================================================================================================================================================================================================================================================================================================================================================================================================================================================================================================================================================================================================================================================================================================================================================================================================================================================================================================================================================================================================================================================================================================================================================================================================================================================================================================================================================================================================================================================================================================================================================================================================================================================================================================================================================================================================================================================================================================================================================================================================================================================================================================================================================================================================================================================================================================================================================================================================================================================================================================================================================================================================================================================================================================================================================================================================================================================================================================================================================================================================================================================================================================================================================================================================================================================================================================================================================================================================================================================================================================================================================================================================================================================================================================================================================================================================================================================================================================================================================================================================================================================================================================================================================================================================================================================================================================================================================================================================================================================================================================================================================================================================================================================================================================================================================================================================================================================================================================================================================================================================================================================================================================================================================================================================================================================================================================================================================================================================================================================================================================================================================================================================================================================================================================================================================================================================================================================================================================================================================================================================================================================================================================================================================================================================================================================================================================================================================================================================================================================================================================================================================================================================================================================================================================================================================================================================================================================================================================================================================================================================================================================================================================================================================================================================================================================================================================================================================================================================================================================================================================================================================================================================================================================================================================================================================================================================================================================================================================================================================================================================================================================================================================================================================================================================================================================================================================================================================================================================================================================================================================================================================================================================================================================================================================================================================================================================================================================================================================================================================================================================================================================================================================================================================================================================================================================================================================================================================================================================================================================================================================================================================================================================================================================================================================================================================================================================================================================================================================================================================================================================================================================================================================================================================================================================================================================================================================================================================================================================================================================================================================================================================================================================================================================================================================================================================================================================================================================================================================================================================================================================================================================================================================================================================================================================================================================================================================================================================================================================================================================================================================================================================================================================================================================================================================================================================================================================================================================================================================================================================================================================================================================================================================================================================================================================================================================================================================================================================================================================================================================================================================================================================================================================================================================================================================================================================================================================================================================================================================================================================================================================================================================================================================================================================================================================================================================================================================================================================================================================================================================================================================================================================================================================================================================================================================================================================================================================================================================================================================================================================================================================================================================================================================================================================================================================================================================================================================================================================================================================================================================================================================================================================================================================================================================================================================================================================================================================================================================================================================================================================================================================================================================================================================================================================================================================================================================================================================================================================================================================================================================================================================================================================================================================================================================================================================================================================================================================================================================================================================================================================================================================================================================================================================================================================================================================================================================================================================================================================================================================================================================================================================================================================================================================================================================================================================================================================================================================================================================================================================================================================================================================================================================================================================================================================================================================================================================================================================================================================================================================================================================================================================================================================================================================================================================================================================================================================================================================================================================================================================================================================================================================================================================================================================================================================================================================================================================================================================================================================================================================================================================================================================================================================================================================================================================================================================================================================================================================================================================================================================================================================================================================================================================================================================================================================================================================================================================================================================================================================================================================================================================================================================================================================================================================================================================================================================================================================================================================================================================================================================================================================================================================================================================================================================================================================================================================================================================================================================================================================================================================================================================================================================================================================================================================================================================================================================================================================================================================================================================================================================================================================================================================================================================================================================================================================================================================================================================================================================================================================================================================================================================================================================================================================================================================================================================================================================================================================================================================================================================================================================================================================================================================================================================================================================================================================================================================================================================================================================================================================================================================================================================================================================================================================================================================================================================================================================================================================================================================================================================================================================================================================================================================================================================================================================================================================================================================================================================================================================================================================================================================================================================================================================================================================================================================================================================================================================================================================================================================================================================================================================================================================================================================================================================================================================================================================================================================================================================================================================================================================================================================================================================================================================================================================================================================================================================================================================================================================================================================================================================================================================================================================================================================================================================================================================================================================================================================================================================================================================================================================================================================================================================================================================================================================================================================================================================================================================================================================================================================================================================================================================================================================================================================================================================================================================================================================================================================================================================================================================================================================================================================================================================================================================================================================================================================================================================================================================================================================================================================================================================================================================================================================================================================================================================================================================================================================================================================================================================================================================================================================================================================================================================================================================================================================================================================================================================================================================================================================================================================================================================================================================================================================================================================================================================================================================================================================================================================================================================================================================================================================================================================================================================================================================================================================================================================================================================================================================================================================================================================================================================================================================================================================================================================================================================================================================================================================================================================================================================================================================================================================================================================================================================================================================================================================================================================================================================================================================================================================================================================================================================================================================================================================================================================================================================================================================================================================================================================================================================================================================================================================================================================================================================================================================================================================================================================================================================================================================================================================================================================================================================================================================================================================================================================================================================================================================================================================================================================================================================================================================================================================================================================================================================================================================================================================================================================================================================================================================================================================================================================================================================================================================================================================================================================================================================================================================================================================================================================================================================================================================================================================================================================================================================================================================================================================================================================================================================================================================================================================================================================================================================================================================================================================================================================================================================================================================================================================================================================================================================================================================================================================================================================================================================================================================================================================================================================================================================================================================================================================================================================================================================================================================]"
     ]
    },
    {
     "name": "stdout",
     "output_type": "stream",
     "text": [
      " - 0s 47us/sample - loss: 1.1556e-04 - mean_squared_error: 1.1979e-04\n",
      "[0.00011978904365484293, 0.00011978903]\n",
      "[0.00059679506936421, 0.00059679494]\n"
     ]
    }
   ],
   "source": [
    "# evaluating transfer-learned model\n",
    "eval_result = model.evaluate(X_test, Y_test, verbose=1)\n",
    "# evaluating OLD model with new data\n",
    "hypermodel_result = hypermodel.evaluate(X_test, Y_test, verbose=0)\n",
    "print(eval_result)\n",
    "print(hypermodel_result)"
   ]
  },
  {
   "cell_type": "code",
   "execution_count": 17,
   "metadata": {},
   "outputs": [],
   "source": [
    "# visualising_data(hypermodel_hist)\n",
    "# visualising_data(model.history)"
   ]
  },
  {
   "cell_type": "code",
   "execution_count": 18,
   "metadata": {},
   "outputs": [
    {
     "name": "stdout",
     "output_type": "stream",
     "text": [
      "21.378423929214478\n",
      "[0.0001301684723972964, 0.00013016848]\n",
      "[0.0006420355515244107, 0.0006420355]\n"
     ]
    }
   ],
   "source": [
    "N_channels = 40\n",
    "file_path = '/Users/jackkelly/Desktop/Building_Model/Data/40_channels_data_variedlengths_EDFAs_10000.csv'\n",
    "X_scale, Y_scale = processing_data(N_channels, file_path)\n",
    "X_train, X_val_and_test, Y_train, Y_val_and_test = train_test_split(X_scale, Y_scale, test_size=0.3)\n",
    "X_val, X_test, Y_val, Y_test = train_test_split(X_val_and_test, Y_val_and_test, test_size=0.5)\n",
    "start_time = time.time()\n",
    "new_hist = model.fit(X_train, Y_train, validation_data=(X_val, Y_val), epochs=40, shuffle=True, verbose=0, batch_size=N_channels+1)\n",
    "training_time = time.time() - start_time\n",
    "print(training_time)\n",
    "# evaluating transfer-learned model\n",
    "value_new = model.evaluate(X_test, Y_test, verbose=0)\n",
    "# evaluating new model\n",
    "value_old = hypermodel.evaluate(X_test, Y_test, verbose=0)\n",
    "print(value_new)\n",
    "print(value_old)"
   ]
  },
  {
   "cell_type": "code",
   "execution_count": 19,
   "metadata": {},
   "outputs": [
    {
     "data": {
      "text/plain": [
       "{'_space': {'n_layers': Int(name: \"n_layers\", min_value: 1, max_value: 2, step: 1, sampling: None, default: 1),\n",
       "  'hidden_0_units': Int(name: \"hidden_0_units\", min_value: 10, max_value: 320, step: 1, sampling: None, default: 10),\n",
       "  'learning_rate': Choice(name: \"learning_rate\", values: [0.01, 0.001, 0.0001], ordered: True, default: 0.01),\n",
       "  'hidden_1_units': Int(name: \"hidden_1_units\", min_value: 10, max_value: 320, step: 1, sampling: None, default: 10)},\n",
       " 'values': {'n_layers': 2,\n",
       "  'hidden_0_units': 113,\n",
       "  'learning_rate': 0.0001,\n",
       "  'hidden_1_units': 307,\n",
       "  'tuner/epochs': 25,\n",
       "  'tuner/initial_epoch': 0,\n",
       "  'tuner/bracket': 0,\n",
       "  'tuner/round': 0},\n",
       " '_scopes': []}"
      ]
     },
     "execution_count": 19,
     "metadata": {},
     "output_type": "execute_result"
    }
   ],
   "source": [
    "best_hps.__dict__"
   ]
  },
  {
   "cell_type": "code",
   "execution_count": null,
   "metadata": {},
   "outputs": [],
   "source": []
  }
 ],
 "metadata": {
  "kernelspec": {
   "display_name": "Python 3",
   "language": "python",
   "name": "python3"
  },
  "language_info": {
   "codemirror_mode": {
    "name": "ipython",
    "version": 3
   },
   "file_extension": ".py",
   "mimetype": "text/x-python",
   "name": "python",
   "nbconvert_exporter": "python",
   "pygments_lexer": "ipython3",
   "version": "3.6.10"
  }
 },
 "nbformat": 4,
 "nbformat_minor": 4
}
