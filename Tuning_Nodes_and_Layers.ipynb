{
 "cells": [
  {
   "cell_type": "code",
   "execution_count": 1,
   "metadata": {},
   "outputs": [
    {
     "name": "stderr",
     "output_type": "stream",
     "text": [
      "Using TensorFlow backend.\n"
     ]
    }
   ],
   "source": [
    "import tensorflow as tf\n",
    "import pandas as pd\n",
    "from sklearn import preprocessing\n",
    "from sklearn.model_selection import train_test_split\n",
    "from sklearn.utils import shuffle\n",
    "from sklearn.metrics import mean_squared_error\n",
    "from keras.models import Sequential\n",
    "from keras.layers import Dense\n",
    "from keras import regularizers\n",
    "from tensorflow import keras\n",
    "import matplotlib.pyplot as plt\n",
    "import numpy as np\n",
    "import time\n",
    "import h5py\n",
    "import kerastuner as kt"
   ]
  },
  {
   "cell_type": "code",
   "execution_count": 2,
   "metadata": {},
   "outputs": [],
   "source": [
    "### IMPORT, RAMDOMIZE AND SCALE DATA ###\n",
    "\n",
    "def processing_data(N_channels, file_path):\n",
    "    df = pd.read_csv(file_path)\n",
    "    # dataset\n",
    "    dataset = df.values\n",
    "    # input power and channels statuses\n",
    "    X = dataset[:,0:N_channels+1]\n",
    "    # channel SNRs\n",
    "    Y = dataset[:,N_channels+1:2*N_channels+1]\n",
    "    # shuffle necessary because while shuffle=True in .fit() shuffles the data, it splits into different datasets first\n",
    "    X, Y = shuffle(X, Y)\n",
    "    # scaling between 0 and 1\n",
    "    min_max_scaler = preprocessing.MinMaxScaler()\n",
    "    X = min_max_scaler.fit_transform(X)\n",
    "    Y = min_max_scaler.fit_transform(Y)\n",
    "    return X, Y"
   ]
  },
  {
   "cell_type": "code",
   "execution_count": 3,
   "metadata": {},
   "outputs": [],
   "source": [
    "### RECEIVE 20,000 PIECES OF DATA ###\n",
    "\n",
    "N_channels = 40\n",
    "file_path = '/Users/jackkelly/Desktop/Building_Model/Data/40_channels_data_blocks_20000.csv'\n",
    "X_scale, Y_scale = processing_data(N_channels, file_path)"
   ]
  },
  {
   "cell_type": "code",
   "execution_count": 4,
   "metadata": {},
   "outputs": [],
   "source": [
    "### FUNCTION TAKES HYPERPARAMETERS AND RETURNS COMPILED MODEL ###\n",
    "\n",
    "def model_builder(hp):\n",
    "    model = keras.Sequential()\n",
    "    model.add(keras.layers.InputLayer(input_shape=N_channels+1))\n",
    "    for i in range(hp.Int('n_layers', 1, 3)):\n",
    "        model.add(keras.layers.Dense(hp.Int(f'hidden_{i}_units', min_value=10, max_value=320, step=1)))\n",
    "    model.add(keras.layers.Dense(N_channels, activation='sigmoid'))\n",
    "    # Tune the learning rate for the optimizer\n",
    "    # Choose an optimal value from 0.01, 0.001, or 0.0001\n",
    "    hp_learning_rate = hp.Choice('learning_rate', values=[1e-2, 1e-3, 1e-4])\n",
    "\n",
    "    model.compile(optimizer=keras.optimizers.Adam(learning_rate=hp_learning_rate),\n",
    "                loss=keras.losses.MeanSquaredError(), metrics=['mean_squared_error'])\n",
    "\n",
    "    return model"
   ]
  },
  {
   "cell_type": "code",
   "execution_count": 5,
   "metadata": {},
   "outputs": [],
   "source": [
    "### CREATE HYPERBAND TUNER ###\n",
    "\n",
    "# The maximum number of epochs to train one model. It is recommended to \n",
    "# set this to a value slightly higher than the expected time \n",
    "# to convergence for your largest Model, and to use early stopping \n",
    "# during training\n",
    "tuner = kt.Hyperband(model_builder,\n",
    "                     objective=kt.Objective('mean_squared_error', 'min'),\n",
    "                     max_epochs=25,\n",
    "                     factor=3,\n",
    "                     directory='/Users/jackkelly/Desktop/Building_Model/',\n",
    "                     project_name='intro_to_kt_layers',\n",
    "                     overwrite=True)\n",
    "# stop_early = tf.keras.callbacks.EarlyStopping(monitor='val_loss', patience=5)\n",
    "stop_early = tf.keras.callbacks.EarlyStopping(monitor='mean_squared_error', patience=5)"
   ]
  },
  {
   "cell_type": "code",
   "execution_count": 6,
   "metadata": {},
   "outputs": [
    {
     "name": "stdout",
     "output_type": "stream",
     "text": [
      "Train on 17000 samples, validate on 3000 samples\n",
      "Epoch 1/3\n",
      "17000/17000 - 3s - loss: 0.1647 - mean_squared_error: 0.1647 - val_loss: 0.1296 - val_mean_squared_error: 0.1296\n",
      "Epoch 2/3\n",
      "17000/17000 - 1s - loss: 0.1022 - mean_squared_error: 0.1022 - val_loss: 0.0755 - val_mean_squared_error: 0.0755\n",
      "Epoch 3/3\n",
      "17000/17000 - 1s - loss: 0.0591 - mean_squared_error: 0.0591 - val_loss: 0.0438 - val_mean_squared_error: 0.0438\n"
     ]
    },
    {
     "data": {
      "text/html": [
       "<span style=\"color:#4527A0\"><h1 style=\"font-size:18px\">Trial complete</h1></span>"
      ],
      "text/plain": [
       "<IPython.core.display.HTML object>"
      ]
     },
     "metadata": {},
     "output_type": "display_data"
    },
    {
     "data": {
      "text/html": [
       "<span style=\"color:#4527A0\"><h1 style=\"font-size:18px\">Trial summary</h1></span>"
      ],
      "text/plain": [
       "<IPython.core.display.HTML object>"
      ]
     },
     "metadata": {},
     "output_type": "display_data"
    },
    {
     "data": {
      "text/html": [
       "<span style=\"color:cyan\"> |-Trial ID: 3d7184c018fae7908396ba5bd2f5cab2</span>"
      ],
      "text/plain": [
       "<IPython.core.display.HTML object>"
      ]
     },
     "metadata": {},
     "output_type": "display_data"
    },
    {
     "data": {
      "text/html": [
       "<span style=\"color:cyan\"> |-Score: 0.059144746512174606</span>"
      ],
      "text/plain": [
       "<IPython.core.display.HTML object>"
      ]
     },
     "metadata": {},
     "output_type": "display_data"
    },
    {
     "data": {
      "text/html": [
       "<span style=\"color:cyan\"> |-Best step: 0</span>"
      ],
      "text/plain": [
       "<IPython.core.display.HTML object>"
      ]
     },
     "metadata": {},
     "output_type": "display_data"
    },
    {
     "data": {
      "text/html": [
       "<span style=\"color:#7E57C2\"><h2 style=\"font-size:16px\">Hyperparameters:</h2></span>"
      ],
      "text/plain": [
       "<IPython.core.display.HTML object>"
      ]
     },
     "metadata": {},
     "output_type": "display_data"
    },
    {
     "data": {
      "text/html": [
       "<span style=\"color:cyan\"> |-hidden_0_units: 189</span>"
      ],
      "text/plain": [
       "<IPython.core.display.HTML object>"
      ]
     },
     "metadata": {},
     "output_type": "display_data"
    },
    {
     "data": {
      "text/html": [
       "<span style=\"color:blue\"> |-learning_rate: 0.0001</span>"
      ],
      "text/plain": [
       "<IPython.core.display.HTML object>"
      ]
     },
     "metadata": {},
     "output_type": "display_data"
    },
    {
     "data": {
      "text/html": [
       "<span style=\"color:cyan\"> |-n_layers: 1</span>"
      ],
      "text/plain": [
       "<IPython.core.display.HTML object>"
      ]
     },
     "metadata": {},
     "output_type": "display_data"
    },
    {
     "data": {
      "text/html": [
       "<span style=\"color:blue\"> |-tuner/bracket: 2</span>"
      ],
      "text/plain": [
       "<IPython.core.display.HTML object>"
      ]
     },
     "metadata": {},
     "output_type": "display_data"
    },
    {
     "data": {
      "text/html": [
       "<span style=\"color:cyan\"> |-tuner/epochs: 3</span>"
      ],
      "text/plain": [
       "<IPython.core.display.HTML object>"
      ]
     },
     "metadata": {},
     "output_type": "display_data"
    },
    {
     "data": {
      "text/html": [
       "<span style=\"color:blue\"> |-tuner/initial_epoch: 0</span>"
      ],
      "text/plain": [
       "<IPython.core.display.HTML object>"
      ]
     },
     "metadata": {},
     "output_type": "display_data"
    },
    {
     "data": {
      "text/html": [
       "<span style=\"color:cyan\"> |-tuner/round: 0</span>"
      ],
      "text/plain": [
       "<IPython.core.display.HTML object>"
      ]
     },
     "metadata": {},
     "output_type": "display_data"
    },
    {
     "name": "stdout",
     "output_type": "stream",
     "text": [
      "Train on 17000 samples, validate on 3000 samples\n",
      "Epoch 1/3\n",
      "17000/17000 - 2s - loss: 0.1751 - mean_squared_error: 0.1751 - val_loss: 0.1481 - val_mean_squared_error: 0.1481\n",
      "Epoch 2/3\n",
      "17000/17000 - 1s - loss: 0.1288 - mean_squared_error: 0.1288 - val_loss: 0.1136 - val_mean_squared_error: 0.1136\n",
      "Epoch 3/3\n",
      "17000/17000 - 1s - loss: 0.1104 - mean_squared_error: 0.1104 - val_loss: 0.1047 - val_mean_squared_error: 0.1047\n"
     ]
    },
    {
     "data": {
      "text/html": [
       "<span style=\"color:#4527A0\"><h1 style=\"font-size:18px\">Trial complete</h1></span>"
      ],
      "text/plain": [
       "<IPython.core.display.HTML object>"
      ]
     },
     "metadata": {},
     "output_type": "display_data"
    },
    {
     "data": {
      "text/html": [
       "<span style=\"color:#4527A0\"><h1 style=\"font-size:18px\">Trial summary</h1></span>"
      ],
      "text/plain": [
       "<IPython.core.display.HTML object>"
      ]
     },
     "metadata": {},
     "output_type": "display_data"
    },
    {
     "data": {
      "text/html": [
       "<span style=\"color:cyan\"> |-Trial ID: 9791c26e81582edc5298d03ad7cb1c67</span>"
      ],
      "text/plain": [
       "<IPython.core.display.HTML object>"
      ]
     },
     "metadata": {},
     "output_type": "display_data"
    },
    {
     "data": {
      "text/html": [
       "<span style=\"color:cyan\"> |-Score: 0.11035642772912979</span>"
      ],
      "text/plain": [
       "<IPython.core.display.HTML object>"
      ]
     },
     "metadata": {},
     "output_type": "display_data"
    },
    {
     "data": {
      "text/html": [
       "<span style=\"color:cyan\"> |-Best step: 0</span>"
      ],
      "text/plain": [
       "<IPython.core.display.HTML object>"
      ]
     },
     "metadata": {},
     "output_type": "display_data"
    },
    {
     "data": {
      "text/html": [
       "<span style=\"color:#7E57C2\"><h2 style=\"font-size:16px\">Hyperparameters:</h2></span>"
      ],
      "text/plain": [
       "<IPython.core.display.HTML object>"
      ]
     },
     "metadata": {},
     "output_type": "display_data"
    },
    {
     "data": {
      "text/html": [
       "<span style=\"color:cyan\"> |-hidden_0_units: 240</span>"
      ],
      "text/plain": [
       "<IPython.core.display.HTML object>"
      ]
     },
     "metadata": {},
     "output_type": "display_data"
    },
    {
     "data": {
      "text/html": [
       "<span style=\"color:blue\"> |-hidden_1_units: 10</span>"
      ],
      "text/plain": [
       "<IPython.core.display.HTML object>"
      ]
     },
     "metadata": {},
     "output_type": "display_data"
    },
    {
     "data": {
      "text/html": [
       "<span style=\"color:cyan\"> |-hidden_2_units: 10</span>"
      ],
      "text/plain": [
       "<IPython.core.display.HTML object>"
      ]
     },
     "metadata": {},
     "output_type": "display_data"
    },
    {
     "data": {
      "text/html": [
       "<span style=\"color:blue\"> |-learning_rate: 0.0001</span>"
      ],
      "text/plain": [
       "<IPython.core.display.HTML object>"
      ]
     },
     "metadata": {},
     "output_type": "display_data"
    },
    {
     "data": {
      "text/html": [
       "<span style=\"color:cyan\"> |-n_layers: 3</span>"
      ],
      "text/plain": [
       "<IPython.core.display.HTML object>"
      ]
     },
     "metadata": {},
     "output_type": "display_data"
    },
    {
     "data": {
      "text/html": [
       "<span style=\"color:blue\"> |-tuner/bracket: 2</span>"
      ],
      "text/plain": [
       "<IPython.core.display.HTML object>"
      ]
     },
     "metadata": {},
     "output_type": "display_data"
    },
    {
     "data": {
      "text/html": [
       "<span style=\"color:cyan\"> |-tuner/epochs: 3</span>"
      ],
      "text/plain": [
       "<IPython.core.display.HTML object>"
      ]
     },
     "metadata": {},
     "output_type": "display_data"
    },
    {
     "data": {
      "text/html": [
       "<span style=\"color:blue\"> |-tuner/initial_epoch: 0</span>"
      ],
      "text/plain": [
       "<IPython.core.display.HTML object>"
      ]
     },
     "metadata": {},
     "output_type": "display_data"
    },
    {
     "data": {
      "text/html": [
       "<span style=\"color:cyan\"> |-tuner/round: 0</span>"
      ],
      "text/plain": [
       "<IPython.core.display.HTML object>"
      ]
     },
     "metadata": {},
     "output_type": "display_data"
    },
    {
     "name": "stdout",
     "output_type": "stream",
     "text": [
      "Train on 17000 samples, validate on 3000 samples\n",
      "Epoch 1/3\n",
      "17000/17000 - 2s - loss: 0.0065 - mean_squared_error: 0.0065 - val_loss: 0.0011 - val_mean_squared_error: 0.0011\n",
      "Epoch 2/3\n",
      "17000/17000 - 2s - loss: 0.0181 - mean_squared_error: 0.0181 - val_loss: 0.1026 - val_mean_squared_error: 0.1026\n",
      "Epoch 3/3\n",
      "17000/17000 - 2s - loss: 0.0830 - mean_squared_error: 0.0830 - val_loss: 0.0378 - val_mean_squared_error: 0.0378\n"
     ]
    },
    {
     "data": {
      "text/html": [
       "<span style=\"color:#4527A0\"><h1 style=\"font-size:18px\">Trial complete</h1></span>"
      ],
      "text/plain": [
       "<IPython.core.display.HTML object>"
      ]
     },
     "metadata": {},
     "output_type": "display_data"
    },
    {
     "data": {
      "text/html": [
       "<span style=\"color:#4527A0\"><h1 style=\"font-size:18px\">Trial summary</h1></span>"
      ],
      "text/plain": [
       "<IPython.core.display.HTML object>"
      ]
     },
     "metadata": {},
     "output_type": "display_data"
    },
    {
     "data": {
      "text/html": [
       "<span style=\"color:cyan\"> |-Trial ID: 047fe2ac1c5575783dac393a95f447f4</span>"
      ],
      "text/plain": [
       "<IPython.core.display.HTML object>"
      ]
     },
     "metadata": {},
     "output_type": "display_data"
    },
    {
     "data": {
      "text/html": [
       "<span style=\"color:cyan\"> |-Score: 0.006484735291451216</span>"
      ],
      "text/plain": [
       "<IPython.core.display.HTML object>"
      ]
     },
     "metadata": {},
     "output_type": "display_data"
    },
    {
     "data": {
      "text/html": [
       "<span style=\"color:cyan\"> |-Best step: 0</span>"
      ],
      "text/plain": [
       "<IPython.core.display.HTML object>"
      ]
     },
     "metadata": {},
     "output_type": "display_data"
    },
    {
     "data": {
      "text/html": [
       "<span style=\"color:#7E57C2\"><h2 style=\"font-size:16px\">Hyperparameters:</h2></span>"
      ],
      "text/plain": [
       "<IPython.core.display.HTML object>"
      ]
     },
     "metadata": {},
     "output_type": "display_data"
    },
    {
     "data": {
      "text/html": [
       "<span style=\"color:cyan\"> |-hidden_0_units: 232</span>"
      ],
      "text/plain": [
       "<IPython.core.display.HTML object>"
      ]
     },
     "metadata": {},
     "output_type": "display_data"
    },
    {
     "data": {
      "text/html": [
       "<span style=\"color:blue\"> |-hidden_1_units: 77</span>"
      ],
      "text/plain": [
       "<IPython.core.display.HTML object>"
      ]
     },
     "metadata": {},
     "output_type": "display_data"
    },
    {
     "data": {
      "text/html": [
       "<span style=\"color:cyan\"> |-hidden_2_units: 237</span>"
      ],
      "text/plain": [
       "<IPython.core.display.HTML object>"
      ]
     },
     "metadata": {},
     "output_type": "display_data"
    },
    {
     "data": {
      "text/html": [
       "<span style=\"color:blue\"> |-learning_rate: 0.01</span>"
      ],
      "text/plain": [
       "<IPython.core.display.HTML object>"
      ]
     },
     "metadata": {},
     "output_type": "display_data"
    },
    {
     "data": {
      "text/html": [
       "<span style=\"color:cyan\"> |-n_layers: 2</span>"
      ],
      "text/plain": [
       "<IPython.core.display.HTML object>"
      ]
     },
     "metadata": {},
     "output_type": "display_data"
    },
    {
     "data": {
      "text/html": [
       "<span style=\"color:blue\"> |-tuner/bracket: 2</span>"
      ],
      "text/plain": [
       "<IPython.core.display.HTML object>"
      ]
     },
     "metadata": {},
     "output_type": "display_data"
    },
    {
     "data": {
      "text/html": [
       "<span style=\"color:cyan\"> |-tuner/epochs: 3</span>"
      ],
      "text/plain": [
       "<IPython.core.display.HTML object>"
      ]
     },
     "metadata": {},
     "output_type": "display_data"
    },
    {
     "data": {
      "text/html": [
       "<span style=\"color:blue\"> |-tuner/initial_epoch: 0</span>"
      ],
      "text/plain": [
       "<IPython.core.display.HTML object>"
      ]
     },
     "metadata": {},
     "output_type": "display_data"
    },
    {
     "data": {
      "text/html": [
       "<span style=\"color:cyan\"> |-tuner/round: 0</span>"
      ],
      "text/plain": [
       "<IPython.core.display.HTML object>"
      ]
     },
     "metadata": {},
     "output_type": "display_data"
    },
    {
     "name": "stdout",
     "output_type": "stream",
     "text": [
      "Train on 17000 samples, validate on 3000 samples\n",
      "Epoch 1/3\n",
      "17000/17000 - 2s - loss: 0.1523 - mean_squared_error: 0.1523 - val_loss: 0.1088 - val_mean_squared_error: 0.1088\n",
      "Epoch 2/3\n",
      "17000/17000 - 1s - loss: 0.0775 - mean_squared_error: 0.0775 - val_loss: 0.0511 - val_mean_squared_error: 0.0511\n",
      "Epoch 3/3\n",
      "17000/17000 - 2s - loss: 0.0367 - mean_squared_error: 0.0367 - val_loss: 0.0244 - val_mean_squared_error: 0.0244\n"
     ]
    },
    {
     "data": {
      "text/html": [
       "<span style=\"color:#4527A0\"><h1 style=\"font-size:18px\">Trial complete</h1></span>"
      ],
      "text/plain": [
       "<IPython.core.display.HTML object>"
      ]
     },
     "metadata": {},
     "output_type": "display_data"
    },
    {
     "data": {
      "text/html": [
       "<span style=\"color:#4527A0\"><h1 style=\"font-size:18px\">Trial summary</h1></span>"
      ],
      "text/plain": [
       "<IPython.core.display.HTML object>"
      ]
     },
     "metadata": {},
     "output_type": "display_data"
    },
    {
     "data": {
      "text/html": [
       "<span style=\"color:cyan\"> |-Trial ID: 9979bcca4330d0e732d7ad06c9734f29</span>"
      ],
      "text/plain": [
       "<IPython.core.display.HTML object>"
      ]
     },
     "metadata": {},
     "output_type": "display_data"
    },
    {
     "data": {
      "text/html": [
       "<span style=\"color:cyan\"> |-Score: 0.03674379363656044</span>"
      ],
      "text/plain": [
       "<IPython.core.display.HTML object>"
      ]
     },
     "metadata": {},
     "output_type": "display_data"
    },
    {
     "data": {
      "text/html": [
       "<span style=\"color:cyan\"> |-Best step: 0</span>"
      ],
      "text/plain": [
       "<IPython.core.display.HTML object>"
      ]
     },
     "metadata": {},
     "output_type": "display_data"
    },
    {
     "data": {
      "text/html": [
       "<span style=\"color:#7E57C2\"><h2 style=\"font-size:16px\">Hyperparameters:</h2></span>"
      ],
      "text/plain": [
       "<IPython.core.display.HTML object>"
      ]
     },
     "metadata": {},
     "output_type": "display_data"
    },
    {
     "data": {
      "text/html": [
       "<span style=\"color:cyan\"> |-hidden_0_units: 319</span>"
      ],
      "text/plain": [
       "<IPython.core.display.HTML object>"
      ]
     },
     "metadata": {},
     "output_type": "display_data"
    },
    {
     "data": {
      "text/html": [
       "<span style=\"color:blue\"> |-hidden_1_units: 77</span>"
      ],
      "text/plain": [
       "<IPython.core.display.HTML object>"
      ]
     },
     "metadata": {},
     "output_type": "display_data"
    },
    {
     "data": {
      "text/html": [
       "<span style=\"color:cyan\"> |-hidden_2_units: 313</span>"
      ],
      "text/plain": [
       "<IPython.core.display.HTML object>"
      ]
     },
     "metadata": {},
     "output_type": "display_data"
    },
    {
     "data": {
      "text/html": [
       "<span style=\"color:blue\"> |-learning_rate: 0.0001</span>"
      ],
      "text/plain": [
       "<IPython.core.display.HTML object>"
      ]
     },
     "metadata": {},
     "output_type": "display_data"
    },
    {
     "data": {
      "text/html": [
       "<span style=\"color:cyan\"> |-n_layers: 1</span>"
      ],
      "text/plain": [
       "<IPython.core.display.HTML object>"
      ]
     },
     "metadata": {},
     "output_type": "display_data"
    },
    {
     "data": {
      "text/html": [
       "<span style=\"color:blue\"> |-tuner/bracket: 2</span>"
      ],
      "text/plain": [
       "<IPython.core.display.HTML object>"
      ]
     },
     "metadata": {},
     "output_type": "display_data"
    },
    {
     "data": {
      "text/html": [
       "<span style=\"color:cyan\"> |-tuner/epochs: 3</span>"
      ],
      "text/plain": [
       "<IPython.core.display.HTML object>"
      ]
     },
     "metadata": {},
     "output_type": "display_data"
    },
    {
     "data": {
      "text/html": [
       "<span style=\"color:blue\"> |-tuner/initial_epoch: 0</span>"
      ],
      "text/plain": [
       "<IPython.core.display.HTML object>"
      ]
     },
     "metadata": {},
     "output_type": "display_data"
    },
    {
     "data": {
      "text/html": [
       "<span style=\"color:cyan\"> |-tuner/round: 0</span>"
      ],
      "text/plain": [
       "<IPython.core.display.HTML object>"
      ]
     },
     "metadata": {},
     "output_type": "display_data"
    },
    {
     "name": "stdout",
     "output_type": "stream",
     "text": [
      "Train on 17000 samples, validate on 3000 samples\n",
      "Epoch 1/3\n",
      "17000/17000 - 2s - loss: 0.0535 - mean_squared_error: 0.0535 - val_loss: 0.0046 - val_mean_squared_error: 0.0046\n",
      "Epoch 2/3\n",
      "17000/17000 - 1s - loss: 0.0020 - mean_squared_error: 0.0020 - val_loss: 8.7103e-04 - val_mean_squared_error: 8.7103e-04\n",
      "Epoch 3/3\n",
      "17000/17000 - 1s - loss: 6.6124e-04 - mean_squared_error: 6.6124e-04 - val_loss: 5.2054e-04 - val_mean_squared_error: 5.2054e-04\n"
     ]
    },
    {
     "data": {
      "text/html": [
       "<span style=\"color:#4527A0\"><h1 style=\"font-size:18px\">Trial complete</h1></span>"
      ],
      "text/plain": [
       "<IPython.core.display.HTML object>"
      ]
     },
     "metadata": {},
     "output_type": "display_data"
    },
    {
     "data": {
      "text/html": [
       "<span style=\"color:#4527A0\"><h1 style=\"font-size:18px\">Trial summary</h1></span>"
      ],
      "text/plain": [
       "<IPython.core.display.HTML object>"
      ]
     },
     "metadata": {},
     "output_type": "display_data"
    },
    {
     "data": {
      "text/html": [
       "<span style=\"color:cyan\"> |-Trial ID: 6154e0710f2d10e4ed026de100abb8fd</span>"
      ],
      "text/plain": [
       "<IPython.core.display.HTML object>"
      ]
     },
     "metadata": {},
     "output_type": "display_data"
    },
    {
     "data": {
      "text/html": [
       "<span style=\"color:cyan\"> |-Score: 0.0006612423458136618</span>"
      ],
      "text/plain": [
       "<IPython.core.display.HTML object>"
      ]
     },
     "metadata": {},
     "output_type": "display_data"
    },
    {
     "data": {
      "text/html": [
       "<span style=\"color:cyan\"> |-Best step: 0</span>"
      ],
      "text/plain": [
       "<IPython.core.display.HTML object>"
      ]
     },
     "metadata": {},
     "output_type": "display_data"
    },
    {
     "data": {
      "text/html": [
       "<span style=\"color:#7E57C2\"><h2 style=\"font-size:16px\">Hyperparameters:</h2></span>"
      ],
      "text/plain": [
       "<IPython.core.display.HTML object>"
      ]
     },
     "metadata": {},
     "output_type": "display_data"
    },
    {
     "data": {
      "text/html": [
       "<span style=\"color:cyan\"> |-hidden_0_units: 123</span>"
      ],
      "text/plain": [
       "<IPython.core.display.HTML object>"
      ]
     },
     "metadata": {},
     "output_type": "display_data"
    },
    {
     "data": {
      "text/html": [
       "<span style=\"color:blue\"> |-hidden_1_units: 71</span>"
      ],
      "text/plain": [
       "<IPython.core.display.HTML object>"
      ]
     },
     "metadata": {},
     "output_type": "display_data"
    },
    {
     "data": {
      "text/html": [
       "<span style=\"color:cyan\"> |-hidden_2_units: 107</span>"
      ],
      "text/plain": [
       "<IPython.core.display.HTML object>"
      ]
     },
     "metadata": {},
     "output_type": "display_data"
    },
    {
     "data": {
      "text/html": [
       "<span style=\"color:blue\"> |-learning_rate: 0.001</span>"
      ],
      "text/plain": [
       "<IPython.core.display.HTML object>"
      ]
     },
     "metadata": {},
     "output_type": "display_data"
    },
    {
     "data": {
      "text/html": [
       "<span style=\"color:cyan\"> |-n_layers: 1</span>"
      ],
      "text/plain": [
       "<IPython.core.display.HTML object>"
      ]
     },
     "metadata": {},
     "output_type": "display_data"
    },
    {
     "data": {
      "text/html": [
       "<span style=\"color:blue\"> |-tuner/bracket: 2</span>"
      ],
      "text/plain": [
       "<IPython.core.display.HTML object>"
      ]
     },
     "metadata": {},
     "output_type": "display_data"
    },
    {
     "data": {
      "text/html": [
       "<span style=\"color:cyan\"> |-tuner/epochs: 3</span>"
      ],
      "text/plain": [
       "<IPython.core.display.HTML object>"
      ]
     },
     "metadata": {},
     "output_type": "display_data"
    },
    {
     "data": {
      "text/html": [
       "<span style=\"color:blue\"> |-tuner/initial_epoch: 0</span>"
      ],
      "text/plain": [
       "<IPython.core.display.HTML object>"
      ]
     },
     "metadata": {},
     "output_type": "display_data"
    },
    {
     "data": {
      "text/html": [
       "<span style=\"color:cyan\"> |-tuner/round: 0</span>"
      ],
      "text/plain": [
       "<IPython.core.display.HTML object>"
      ]
     },
     "metadata": {},
     "output_type": "display_data"
    },
    {
     "name": "stdout",
     "output_type": "stream",
     "text": [
      "Train on 17000 samples, validate on 3000 samples\n",
      "Epoch 1/3\n",
      "17000/17000 - 3s - loss: 0.0081 - mean_squared_error: 0.0081 - val_loss: 0.0071 - val_mean_squared_error: 0.0071\n",
      "Epoch 2/3\n",
      "17000/17000 - 2s - loss: 0.3671 - mean_squared_error: 0.3671 - val_loss: 0.4078 - val_mean_squared_error: 0.4078\n",
      "Epoch 3/3\n",
      "17000/17000 - 2s - loss: 0.4066 - mean_squared_error: 0.4066 - val_loss: 0.4098 - val_mean_squared_error: 0.4098\n"
     ]
    },
    {
     "data": {
      "text/html": [
       "<span style=\"color:#4527A0\"><h1 style=\"font-size:18px\">Trial complete</h1></span>"
      ],
      "text/plain": [
       "<IPython.core.display.HTML object>"
      ]
     },
     "metadata": {},
     "output_type": "display_data"
    },
    {
     "data": {
      "text/html": [
       "<span style=\"color:#4527A0\"><h1 style=\"font-size:18px\">Trial summary</h1></span>"
      ],
      "text/plain": [
       "<IPython.core.display.HTML object>"
      ]
     },
     "metadata": {},
     "output_type": "display_data"
    },
    {
     "data": {
      "text/html": [
       "<span style=\"color:cyan\"> |-Trial ID: cab9ceb713915d21f00509252b83697e</span>"
      ],
      "text/plain": [
       "<IPython.core.display.HTML object>"
      ]
     },
     "metadata": {},
     "output_type": "display_data"
    },
    {
     "data": {
      "text/html": [
       "<span style=\"color:cyan\"> |-Score: 0.008100505918264389</span>"
      ],
      "text/plain": [
       "<IPython.core.display.HTML object>"
      ]
     },
     "metadata": {},
     "output_type": "display_data"
    },
    {
     "data": {
      "text/html": [
       "<span style=\"color:cyan\"> |-Best step: 0</span>"
      ],
      "text/plain": [
       "<IPython.core.display.HTML object>"
      ]
     },
     "metadata": {},
     "output_type": "display_data"
    },
    {
     "data": {
      "text/html": [
       "<span style=\"color:#7E57C2\"><h2 style=\"font-size:16px\">Hyperparameters:</h2></span>"
      ],
      "text/plain": [
       "<IPython.core.display.HTML object>"
      ]
     },
     "metadata": {},
     "output_type": "display_data"
    },
    {
     "data": {
      "text/html": [
       "<span style=\"color:cyan\"> |-hidden_0_units: 294</span>"
      ],
      "text/plain": [
       "<IPython.core.display.HTML object>"
      ]
     },
     "metadata": {},
     "output_type": "display_data"
    },
    {
     "data": {
      "text/html": [
       "<span style=\"color:blue\"> |-hidden_1_units: 75</span>"
      ],
      "text/plain": [
       "<IPython.core.display.HTML object>"
      ]
     },
     "metadata": {},
     "output_type": "display_data"
    },
    {
     "data": {
      "text/html": [
       "<span style=\"color:cyan\"> |-hidden_2_units: 104</span>"
      ],
      "text/plain": [
       "<IPython.core.display.HTML object>"
      ]
     },
     "metadata": {},
     "output_type": "display_data"
    },
    {
     "data": {
      "text/html": [
       "<span style=\"color:blue\"> |-learning_rate: 0.01</span>"
      ],
      "text/plain": [
       "<IPython.core.display.HTML object>"
      ]
     },
     "metadata": {},
     "output_type": "display_data"
    },
    {
     "data": {
      "text/html": [
       "<span style=\"color:cyan\"> |-n_layers: 3</span>"
      ],
      "text/plain": [
       "<IPython.core.display.HTML object>"
      ]
     },
     "metadata": {},
     "output_type": "display_data"
    },
    {
     "data": {
      "text/html": [
       "<span style=\"color:blue\"> |-tuner/bracket: 2</span>"
      ],
      "text/plain": [
       "<IPython.core.display.HTML object>"
      ]
     },
     "metadata": {},
     "output_type": "display_data"
    },
    {
     "data": {
      "text/html": [
       "<span style=\"color:cyan\"> |-tuner/epochs: 3</span>"
      ],
      "text/plain": [
       "<IPython.core.display.HTML object>"
      ]
     },
     "metadata": {},
     "output_type": "display_data"
    },
    {
     "data": {
      "text/html": [
       "<span style=\"color:blue\"> |-tuner/initial_epoch: 0</span>"
      ],
      "text/plain": [
       "<IPython.core.display.HTML object>"
      ]
     },
     "metadata": {},
     "output_type": "display_data"
    },
    {
     "data": {
      "text/html": [
       "<span style=\"color:cyan\"> |-tuner/round: 0</span>"
      ],
      "text/plain": [
       "<IPython.core.display.HTML object>"
      ]
     },
     "metadata": {},
     "output_type": "display_data"
    },
    {
     "name": "stdout",
     "output_type": "stream",
     "text": [
      "Train on 17000 samples, validate on 3000 samples\n",
      "Epoch 1/3\n",
      "17000/17000 - 3s - loss: 0.1512 - mean_squared_error: 0.1512 - val_loss: 0.1050 - val_mean_squared_error: 0.1050\n",
      "Epoch 2/3\n",
      "17000/17000 - 2s - loss: 0.0842 - mean_squared_error: 0.0842 - val_loss: 0.0668 - val_mean_squared_error: 0.0668\n",
      "Epoch 3/3\n",
      "17000/17000 - 2s - loss: 0.0568 - mean_squared_error: 0.0568 - val_loss: 0.0470 - val_mean_squared_error: 0.0470\n"
     ]
    },
    {
     "data": {
      "text/html": [
       "<span style=\"color:#4527A0\"><h1 style=\"font-size:18px\">Trial complete</h1></span>"
      ],
      "text/plain": [
       "<IPython.core.display.HTML object>"
      ]
     },
     "metadata": {},
     "output_type": "display_data"
    },
    {
     "data": {
      "text/html": [
       "<span style=\"color:#4527A0\"><h1 style=\"font-size:18px\">Trial summary</h1></span>"
      ],
      "text/plain": [
       "<IPython.core.display.HTML object>"
      ]
     },
     "metadata": {},
     "output_type": "display_data"
    },
    {
     "data": {
      "text/html": [
       "<span style=\"color:cyan\"> |-Trial ID: b7c33352ac9eb690db069ec4a88cbc11</span>"
      ],
      "text/plain": [
       "<IPython.core.display.HTML object>"
      ]
     },
     "metadata": {},
     "output_type": "display_data"
    },
    {
     "data": {
      "text/html": [
       "<span style=\"color:cyan\"> |-Score: 0.0568019300699234</span>"
      ],
      "text/plain": [
       "<IPython.core.display.HTML object>"
      ]
     },
     "metadata": {},
     "output_type": "display_data"
    },
    {
     "data": {
      "text/html": [
       "<span style=\"color:cyan\"> |-Best step: 0</span>"
      ],
      "text/plain": [
       "<IPython.core.display.HTML object>"
      ]
     },
     "metadata": {},
     "output_type": "display_data"
    },
    {
     "data": {
      "text/html": [
       "<span style=\"color:#7E57C2\"><h2 style=\"font-size:16px\">Hyperparameters:</h2></span>"
      ],
      "text/plain": [
       "<IPython.core.display.HTML object>"
      ]
     },
     "metadata": {},
     "output_type": "display_data"
    },
    {
     "data": {
      "text/html": [
       "<span style=\"color:cyan\"> |-hidden_0_units: 107</span>"
      ],
      "text/plain": [
       "<IPython.core.display.HTML object>"
      ]
     },
     "metadata": {},
     "output_type": "display_data"
    },
    {
     "data": {
      "text/html": [
       "<span style=\"color:blue\"> |-hidden_1_units: 122</span>"
      ],
      "text/plain": [
       "<IPython.core.display.HTML object>"
      ]
     },
     "metadata": {},
     "output_type": "display_data"
    },
    {
     "data": {
      "text/html": [
       "<span style=\"color:cyan\"> |-hidden_2_units: 28</span>"
      ],
      "text/plain": [
       "<IPython.core.display.HTML object>"
      ]
     },
     "metadata": {},
     "output_type": "display_data"
    },
    {
     "data": {
      "text/html": [
       "<span style=\"color:blue\"> |-learning_rate: 0.0001</span>"
      ],
      "text/plain": [
       "<IPython.core.display.HTML object>"
      ]
     },
     "metadata": {},
     "output_type": "display_data"
    },
    {
     "data": {
      "text/html": [
       "<span style=\"color:cyan\"> |-n_layers: 3</span>"
      ],
      "text/plain": [
       "<IPython.core.display.HTML object>"
      ]
     },
     "metadata": {},
     "output_type": "display_data"
    },
    {
     "data": {
      "text/html": [
       "<span style=\"color:blue\"> |-tuner/bracket: 2</span>"
      ],
      "text/plain": [
       "<IPython.core.display.HTML object>"
      ]
     },
     "metadata": {},
     "output_type": "display_data"
    },
    {
     "data": {
      "text/html": [
       "<span style=\"color:cyan\"> |-tuner/epochs: 3</span>"
      ],
      "text/plain": [
       "<IPython.core.display.HTML object>"
      ]
     },
     "metadata": {},
     "output_type": "display_data"
    },
    {
     "data": {
      "text/html": [
       "<span style=\"color:blue\"> |-tuner/initial_epoch: 0</span>"
      ],
      "text/plain": [
       "<IPython.core.display.HTML object>"
      ]
     },
     "metadata": {},
     "output_type": "display_data"
    },
    {
     "data": {
      "text/html": [
       "<span style=\"color:cyan\"> |-tuner/round: 0</span>"
      ],
      "text/plain": [
       "<IPython.core.display.HTML object>"
      ]
     },
     "metadata": {},
     "output_type": "display_data"
    },
    {
     "name": "stdout",
     "output_type": "stream",
     "text": [
      "Train on 17000 samples, validate on 3000 samples\n",
      "Epoch 1/3\n",
      "17000/17000 - 3s - loss: 0.0058 - mean_squared_error: 0.0058 - val_loss: 0.0026 - val_mean_squared_error: 0.0026\n",
      "Epoch 2/3\n",
      "17000/17000 - 2s - loss: 0.1135 - mean_squared_error: 0.1135 - val_loss: 0.2070 - val_mean_squared_error: 0.2070\n",
      "Epoch 3/3\n",
      "17000/17000 - 2s - loss: 0.2304 - mean_squared_error: 0.2304 - val_loss: 0.2118 - val_mean_squared_error: 0.2118\n"
     ]
    },
    {
     "data": {
      "text/html": [
       "<span style=\"color:#4527A0\"><h1 style=\"font-size:18px\">Trial complete</h1></span>"
      ],
      "text/plain": [
       "<IPython.core.display.HTML object>"
      ]
     },
     "metadata": {},
     "output_type": "display_data"
    },
    {
     "data": {
      "text/html": [
       "<span style=\"color:#4527A0\"><h1 style=\"font-size:18px\">Trial summary</h1></span>"
      ],
      "text/plain": [
       "<IPython.core.display.HTML object>"
      ]
     },
     "metadata": {},
     "output_type": "display_data"
    },
    {
     "data": {
      "text/html": [
       "<span style=\"color:cyan\"> |-Trial ID: 3748a52f6821bc1eee41a7d3d44dfc4b</span>"
      ],
      "text/plain": [
       "<IPython.core.display.HTML object>"
      ]
     },
     "metadata": {},
     "output_type": "display_data"
    },
    {
     "data": {
      "text/html": [
       "<span style=\"color:cyan\"> |-Score: 0.005795692093670368</span>"
      ],
      "text/plain": [
       "<IPython.core.display.HTML object>"
      ]
     },
     "metadata": {},
     "output_type": "display_data"
    },
    {
     "data": {
      "text/html": [
       "<span style=\"color:cyan\"> |-Best step: 0</span>"
      ],
      "text/plain": [
       "<IPython.core.display.HTML object>"
      ]
     },
     "metadata": {},
     "output_type": "display_data"
    },
    {
     "data": {
      "text/html": [
       "<span style=\"color:#7E57C2\"><h2 style=\"font-size:16px\">Hyperparameters:</h2></span>"
      ],
      "text/plain": [
       "<IPython.core.display.HTML object>"
      ]
     },
     "metadata": {},
     "output_type": "display_data"
    },
    {
     "data": {
      "text/html": [
       "<span style=\"color:cyan\"> |-hidden_0_units: 312</span>"
      ],
      "text/plain": [
       "<IPython.core.display.HTML object>"
      ]
     },
     "metadata": {},
     "output_type": "display_data"
    },
    {
     "data": {
      "text/html": [
       "<span style=\"color:blue\"> |-hidden_1_units: 134</span>"
      ],
      "text/plain": [
       "<IPython.core.display.HTML object>"
      ]
     },
     "metadata": {},
     "output_type": "display_data"
    },
    {
     "data": {
      "text/html": [
       "<span style=\"color:cyan\"> |-hidden_2_units: 172</span>"
      ],
      "text/plain": [
       "<IPython.core.display.HTML object>"
      ]
     },
     "metadata": {},
     "output_type": "display_data"
    },
    {
     "data": {
      "text/html": [
       "<span style=\"color:blue\"> |-learning_rate: 0.01</span>"
      ],
      "text/plain": [
       "<IPython.core.display.HTML object>"
      ]
     },
     "metadata": {},
     "output_type": "display_data"
    },
    {
     "data": {
      "text/html": [
       "<span style=\"color:cyan\"> |-n_layers: 2</span>"
      ],
      "text/plain": [
       "<IPython.core.display.HTML object>"
      ]
     },
     "metadata": {},
     "output_type": "display_data"
    },
    {
     "data": {
      "text/html": [
       "<span style=\"color:blue\"> |-tuner/bracket: 2</span>"
      ],
      "text/plain": [
       "<IPython.core.display.HTML object>"
      ]
     },
     "metadata": {},
     "output_type": "display_data"
    },
    {
     "data": {
      "text/html": [
       "<span style=\"color:cyan\"> |-tuner/epochs: 3</span>"
      ],
      "text/plain": [
       "<IPython.core.display.HTML object>"
      ]
     },
     "metadata": {},
     "output_type": "display_data"
    },
    {
     "data": {
      "text/html": [
       "<span style=\"color:blue\"> |-tuner/initial_epoch: 0</span>"
      ],
      "text/plain": [
       "<IPython.core.display.HTML object>"
      ]
     },
     "metadata": {},
     "output_type": "display_data"
    },
    {
     "data": {
      "text/html": [
       "<span style=\"color:cyan\"> |-tuner/round: 0</span>"
      ],
      "text/plain": [
       "<IPython.core.display.HTML object>"
      ]
     },
     "metadata": {},
     "output_type": "display_data"
    },
    {
     "name": "stdout",
     "output_type": "stream",
     "text": [
      "Train on 17000 samples, validate on 3000 samples\n",
      "Epoch 1/3\n",
      "17000/17000 - 3s - loss: 0.0228 - mean_squared_error: 0.0228 - val_loss: 0.0011 - val_mean_squared_error: 0.0011\n",
      "Epoch 2/3\n",
      "17000/17000 - 2s - loss: 4.5245e-04 - mean_squared_error: 4.5245e-04 - val_loss: 3.7546e-04 - val_mean_squared_error: 3.7546e-04\n",
      "Epoch 3/3\n",
      "17000/17000 - 3s - loss: 4.4250e-04 - mean_squared_error: 4.4250e-04 - val_loss: 5.1216e-04 - val_mean_squared_error: 5.1216e-04\n"
     ]
    },
    {
     "data": {
      "text/html": [
       "<span style=\"color:#4527A0\"><h1 style=\"font-size:18px\">Trial complete</h1></span>"
      ],
      "text/plain": [
       "<IPython.core.display.HTML object>"
      ]
     },
     "metadata": {},
     "output_type": "display_data"
    },
    {
     "data": {
      "text/html": [
       "<span style=\"color:#4527A0\"><h1 style=\"font-size:18px\">Trial summary</h1></span>"
      ],
      "text/plain": [
       "<IPython.core.display.HTML object>"
      ]
     },
     "metadata": {},
     "output_type": "display_data"
    },
    {
     "data": {
      "text/html": [
       "<span style=\"color:cyan\"> |-Trial ID: 58cef0331556345b67047aee411db697</span>"
      ],
      "text/plain": [
       "<IPython.core.display.HTML object>"
      ]
     },
     "metadata": {},
     "output_type": "display_data"
    },
    {
     "data": {
      "text/html": [
       "<span style=\"color:cyan\"> |-Score: 0.00044250444625504315</span>"
      ],
      "text/plain": [
       "<IPython.core.display.HTML object>"
      ]
     },
     "metadata": {},
     "output_type": "display_data"
    },
    {
     "data": {
      "text/html": [
       "<span style=\"color:cyan\"> |-Best step: 0</span>"
      ],
      "text/plain": [
       "<IPython.core.display.HTML object>"
      ]
     },
     "metadata": {},
     "output_type": "display_data"
    },
    {
     "data": {
      "text/html": [
       "<span style=\"color:#7E57C2\"><h2 style=\"font-size:16px\">Hyperparameters:</h2></span>"
      ],
      "text/plain": [
       "<IPython.core.display.HTML object>"
      ]
     },
     "metadata": {},
     "output_type": "display_data"
    },
    {
     "data": {
      "text/html": [
       "<span style=\"color:cyan\"> |-hidden_0_units: 240</span>"
      ],
      "text/plain": [
       "<IPython.core.display.HTML object>"
      ]
     },
     "metadata": {},
     "output_type": "display_data"
    },
    {
     "data": {
      "text/html": [
       "<span style=\"color:blue\"> |-hidden_1_units: 47</span>"
      ],
      "text/plain": [
       "<IPython.core.display.HTML object>"
      ]
     },
     "metadata": {},
     "output_type": "display_data"
    },
    {
     "data": {
      "text/html": [
       "<span style=\"color:cyan\"> |-hidden_2_units: 202</span>"
      ],
      "text/plain": [
       "<IPython.core.display.HTML object>"
      ]
     },
     "metadata": {},
     "output_type": "display_data"
    },
    {
     "data": {
      "text/html": [
       "<span style=\"color:blue\"> |-learning_rate: 0.001</span>"
      ],
      "text/plain": [
       "<IPython.core.display.HTML object>"
      ]
     },
     "metadata": {},
     "output_type": "display_data"
    },
    {
     "data": {
      "text/html": [
       "<span style=\"color:cyan\"> |-n_layers: 3</span>"
      ],
      "text/plain": [
       "<IPython.core.display.HTML object>"
      ]
     },
     "metadata": {},
     "output_type": "display_data"
    },
    {
     "data": {
      "text/html": [
       "<span style=\"color:blue\"> |-tuner/bracket: 2</span>"
      ],
      "text/plain": [
       "<IPython.core.display.HTML object>"
      ]
     },
     "metadata": {},
     "output_type": "display_data"
    },
    {
     "data": {
      "text/html": [
       "<span style=\"color:cyan\"> |-tuner/epochs: 3</span>"
      ],
      "text/plain": [
       "<IPython.core.display.HTML object>"
      ]
     },
     "metadata": {},
     "output_type": "display_data"
    },
    {
     "data": {
      "text/html": [
       "<span style=\"color:blue\"> |-tuner/initial_epoch: 0</span>"
      ],
      "text/plain": [
       "<IPython.core.display.HTML object>"
      ]
     },
     "metadata": {},
     "output_type": "display_data"
    },
    {
     "data": {
      "text/html": [
       "<span style=\"color:cyan\"> |-tuner/round: 0</span>"
      ],
      "text/plain": [
       "<IPython.core.display.HTML object>"
      ]
     },
     "metadata": {},
     "output_type": "display_data"
    },
    {
     "name": "stdout",
     "output_type": "stream",
     "text": [
      "Train on 17000 samples, validate on 3000 samples\n",
      "Epoch 1/3\n",
      "17000/17000 - 2s - loss: 0.1701 - mean_squared_error: 0.1701 - val_loss: 0.1409 - val_mean_squared_error: 0.1409\n",
      "Epoch 2/3\n",
      "17000/17000 - 2s - loss: 0.1166 - mean_squared_error: 0.1166 - val_loss: 0.0913 - val_mean_squared_error: 0.0913\n",
      "Epoch 3/3\n",
      "17000/17000 - 2s - loss: 0.0738 - mean_squared_error: 0.0738 - val_loss: 0.0573 - val_mean_squared_error: 0.0573\n"
     ]
    },
    {
     "data": {
      "text/html": [
       "<span style=\"color:#4527A0\"><h1 style=\"font-size:18px\">Trial complete</h1></span>"
      ],
      "text/plain": [
       "<IPython.core.display.HTML object>"
      ]
     },
     "metadata": {},
     "output_type": "display_data"
    },
    {
     "data": {
      "text/html": [
       "<span style=\"color:#4527A0\"><h1 style=\"font-size:18px\">Trial summary</h1></span>"
      ],
      "text/plain": [
       "<IPython.core.display.HTML object>"
      ]
     },
     "metadata": {},
     "output_type": "display_data"
    },
    {
     "data": {
      "text/html": [
       "<span style=\"color:cyan\"> |-Trial ID: d79c373ac93bb4329b1c46aa2bd8712f</span>"
      ],
      "text/plain": [
       "<IPython.core.display.HTML object>"
      ]
     },
     "metadata": {},
     "output_type": "display_data"
    },
    {
     "data": {
      "text/html": [
       "<span style=\"color:cyan\"> |-Score: 0.0738355815410614</span>"
      ],
      "text/plain": [
       "<IPython.core.display.HTML object>"
      ]
     },
     "metadata": {},
     "output_type": "display_data"
    },
    {
     "data": {
      "text/html": [
       "<span style=\"color:cyan\"> |-Best step: 0</span>"
      ],
      "text/plain": [
       "<IPython.core.display.HTML object>"
      ]
     },
     "metadata": {},
     "output_type": "display_data"
    },
    {
     "data": {
      "text/html": [
       "<span style=\"color:#7E57C2\"><h2 style=\"font-size:16px\">Hyperparameters:</h2></span>"
      ],
      "text/plain": [
       "<IPython.core.display.HTML object>"
      ]
     },
     "metadata": {},
     "output_type": "display_data"
    },
    {
     "data": {
      "text/html": [
       "<span style=\"color:cyan\"> |-hidden_0_units: 139</span>"
      ],
      "text/plain": [
       "<IPython.core.display.HTML object>"
      ]
     },
     "metadata": {},
     "output_type": "display_data"
    },
    {
     "data": {
      "text/html": [
       "<span style=\"color:blue\"> |-hidden_1_units: 212</span>"
      ],
      "text/plain": [
       "<IPython.core.display.HTML object>"
      ]
     },
     "metadata": {},
     "output_type": "display_data"
    },
    {
     "data": {
      "text/html": [
       "<span style=\"color:cyan\"> |-hidden_2_units: 103</span>"
      ],
      "text/plain": [
       "<IPython.core.display.HTML object>"
      ]
     },
     "metadata": {},
     "output_type": "display_data"
    },
    {
     "data": {
      "text/html": [
       "<span style=\"color:blue\"> |-learning_rate: 0.0001</span>"
      ],
      "text/plain": [
       "<IPython.core.display.HTML object>"
      ]
     },
     "metadata": {},
     "output_type": "display_data"
    },
    {
     "data": {
      "text/html": [
       "<span style=\"color:cyan\"> |-n_layers: 1</span>"
      ],
      "text/plain": [
       "<IPython.core.display.HTML object>"
      ]
     },
     "metadata": {},
     "output_type": "display_data"
    },
    {
     "data": {
      "text/html": [
       "<span style=\"color:blue\"> |-tuner/bracket: 2</span>"
      ],
      "text/plain": [
       "<IPython.core.display.HTML object>"
      ]
     },
     "metadata": {},
     "output_type": "display_data"
    },
    {
     "data": {
      "text/html": [
       "<span style=\"color:cyan\"> |-tuner/epochs: 3</span>"
      ],
      "text/plain": [
       "<IPython.core.display.HTML object>"
      ]
     },
     "metadata": {},
     "output_type": "display_data"
    },
    {
     "data": {
      "text/html": [
       "<span style=\"color:blue\"> |-tuner/initial_epoch: 0</span>"
      ],
      "text/plain": [
       "<IPython.core.display.HTML object>"
      ]
     },
     "metadata": {},
     "output_type": "display_data"
    },
    {
     "data": {
      "text/html": [
       "<span style=\"color:cyan\"> |-tuner/round: 0</span>"
      ],
      "text/plain": [
       "<IPython.core.display.HTML object>"
      ]
     },
     "metadata": {},
     "output_type": "display_data"
    },
    {
     "name": "stdout",
     "output_type": "stream",
     "text": [
      "Train on 17000 samples, validate on 3000 samples\n",
      "Epoch 1/3\n",
      "17000/17000 - 2s - loss: 0.0557 - mean_squared_error: 0.0557 - val_loss: 0.0049 - val_mean_squared_error: 0.0049\n",
      "Epoch 2/3\n",
      "17000/17000 - 1s - loss: 0.0021 - mean_squared_error: 0.0021 - val_loss: 9.0425e-04 - val_mean_squared_error: 9.0425e-04\n",
      "Epoch 3/3\n",
      "17000/17000 - 2s - loss: 6.7751e-04 - mean_squared_error: 6.7751e-04 - val_loss: 4.9704e-04 - val_mean_squared_error: 4.9704e-04\n"
     ]
    },
    {
     "data": {
      "text/html": [
       "<span style=\"color:#4527A0\"><h1 style=\"font-size:18px\">Trial complete</h1></span>"
      ],
      "text/plain": [
       "<IPython.core.display.HTML object>"
      ]
     },
     "metadata": {},
     "output_type": "display_data"
    },
    {
     "data": {
      "text/html": [
       "<span style=\"color:#4527A0\"><h1 style=\"font-size:18px\">Trial summary</h1></span>"
      ],
      "text/plain": [
       "<IPython.core.display.HTML object>"
      ]
     },
     "metadata": {},
     "output_type": "display_data"
    },
    {
     "data": {
      "text/html": [
       "<span style=\"color:cyan\"> |-Trial ID: 33d3cc4942506dcbf1037cd7fc667319</span>"
      ],
      "text/plain": [
       "<IPython.core.display.HTML object>"
      ]
     },
     "metadata": {},
     "output_type": "display_data"
    },
    {
     "data": {
      "text/html": [
       "<span style=\"color:cyan\"> |-Score: 0.00067750527523458</span>"
      ],
      "text/plain": [
       "<IPython.core.display.HTML object>"
      ]
     },
     "metadata": {},
     "output_type": "display_data"
    },
    {
     "data": {
      "text/html": [
       "<span style=\"color:cyan\"> |-Best step: 0</span>"
      ],
      "text/plain": [
       "<IPython.core.display.HTML object>"
      ]
     },
     "metadata": {},
     "output_type": "display_data"
    },
    {
     "data": {
      "text/html": [
       "<span style=\"color:#7E57C2\"><h2 style=\"font-size:16px\">Hyperparameters:</h2></span>"
      ],
      "text/plain": [
       "<IPython.core.display.HTML object>"
      ]
     },
     "metadata": {},
     "output_type": "display_data"
    },
    {
     "data": {
      "text/html": [
       "<span style=\"color:cyan\"> |-hidden_0_units: 119</span>"
      ],
      "text/plain": [
       "<IPython.core.display.HTML object>"
      ]
     },
     "metadata": {},
     "output_type": "display_data"
    },
    {
     "data": {
      "text/html": [
       "<span style=\"color:blue\"> |-hidden_1_units: 109</span>"
      ],
      "text/plain": [
       "<IPython.core.display.HTML object>"
      ]
     },
     "metadata": {},
     "output_type": "display_data"
    },
    {
     "data": {
      "text/html": [
       "<span style=\"color:cyan\"> |-hidden_2_units: 265</span>"
      ],
      "text/plain": [
       "<IPython.core.display.HTML object>"
      ]
     },
     "metadata": {},
     "output_type": "display_data"
    },
    {
     "data": {
      "text/html": [
       "<span style=\"color:blue\"> |-learning_rate: 0.001</span>"
      ],
      "text/plain": [
       "<IPython.core.display.HTML object>"
      ]
     },
     "metadata": {},
     "output_type": "display_data"
    },
    {
     "data": {
      "text/html": [
       "<span style=\"color:cyan\"> |-n_layers: 1</span>"
      ],
      "text/plain": [
       "<IPython.core.display.HTML object>"
      ]
     },
     "metadata": {},
     "output_type": "display_data"
    },
    {
     "data": {
      "text/html": [
       "<span style=\"color:blue\"> |-tuner/bracket: 2</span>"
      ],
      "text/plain": [
       "<IPython.core.display.HTML object>"
      ]
     },
     "metadata": {},
     "output_type": "display_data"
    },
    {
     "data": {
      "text/html": [
       "<span style=\"color:cyan\"> |-tuner/epochs: 3</span>"
      ],
      "text/plain": [
       "<IPython.core.display.HTML object>"
      ]
     },
     "metadata": {},
     "output_type": "display_data"
    },
    {
     "data": {
      "text/html": [
       "<span style=\"color:blue\"> |-tuner/initial_epoch: 0</span>"
      ],
      "text/plain": [
       "<IPython.core.display.HTML object>"
      ]
     },
     "metadata": {},
     "output_type": "display_data"
    },
    {
     "data": {
      "text/html": [
       "<span style=\"color:cyan\"> |-tuner/round: 0</span>"
      ],
      "text/plain": [
       "<IPython.core.display.HTML object>"
      ]
     },
     "metadata": {},
     "output_type": "display_data"
    },
    {
     "name": "stdout",
     "output_type": "stream",
     "text": [
      "Train on 17000 samples, validate on 3000 samples\n",
      "Epoch 1/3\n",
      "17000/17000 - 2s - loss: 0.0452 - mean_squared_error: 0.0452 - val_loss: 0.0029 - val_mean_squared_error: 0.0029\n",
      "Epoch 2/3\n",
      "17000/17000 - 2s - loss: 0.0014 - mean_squared_error: 0.0014 - val_loss: 6.9082e-04 - val_mean_squared_error: 6.9082e-04\n",
      "Epoch 3/3\n",
      "17000/17000 - 2s - loss: 5.5679e-04 - mean_squared_error: 5.5679e-04 - val_loss: 4.4842e-04 - val_mean_squared_error: 4.4842e-04\n"
     ]
    },
    {
     "data": {
      "text/html": [
       "<span style=\"color:#4527A0\"><h1 style=\"font-size:18px\">Trial complete</h1></span>"
      ],
      "text/plain": [
       "<IPython.core.display.HTML object>"
      ]
     },
     "metadata": {},
     "output_type": "display_data"
    },
    {
     "data": {
      "text/html": [
       "<span style=\"color:#4527A0\"><h1 style=\"font-size:18px\">Trial summary</h1></span>"
      ],
      "text/plain": [
       "<IPython.core.display.HTML object>"
      ]
     },
     "metadata": {},
     "output_type": "display_data"
    },
    {
     "data": {
      "text/html": [
       "<span style=\"color:cyan\"> |-Trial ID: f34c5ca6df87dcdb73676c7d7255f9bf</span>"
      ],
      "text/plain": [
       "<IPython.core.display.HTML object>"
      ]
     },
     "metadata": {},
     "output_type": "display_data"
    },
    {
     "data": {
      "text/html": [
       "<span style=\"color:cyan\"> |-Score: 0.0005567892221733928</span>"
      ],
      "text/plain": [
       "<IPython.core.display.HTML object>"
      ]
     },
     "metadata": {},
     "output_type": "display_data"
    },
    {
     "data": {
      "text/html": [
       "<span style=\"color:cyan\"> |-Best step: 0</span>"
      ],
      "text/plain": [
       "<IPython.core.display.HTML object>"
      ]
     },
     "metadata": {},
     "output_type": "display_data"
    },
    {
     "data": {
      "text/html": [
       "<span style=\"color:#7E57C2\"><h2 style=\"font-size:16px\">Hyperparameters:</h2></span>"
      ],
      "text/plain": [
       "<IPython.core.display.HTML object>"
      ]
     },
     "metadata": {},
     "output_type": "display_data"
    },
    {
     "data": {
      "text/html": [
       "<span style=\"color:cyan\"> |-hidden_0_units: 168</span>"
      ],
      "text/plain": [
       "<IPython.core.display.HTML object>"
      ]
     },
     "metadata": {},
     "output_type": "display_data"
    },
    {
     "data": {
      "text/html": [
       "<span style=\"color:blue\"> |-hidden_1_units: 266</span>"
      ],
      "text/plain": [
       "<IPython.core.display.HTML object>"
      ]
     },
     "metadata": {},
     "output_type": "display_data"
    },
    {
     "data": {
      "text/html": [
       "<span style=\"color:cyan\"> |-hidden_2_units: 118</span>"
      ],
      "text/plain": [
       "<IPython.core.display.HTML object>"
      ]
     },
     "metadata": {},
     "output_type": "display_data"
    },
    {
     "data": {
      "text/html": [
       "<span style=\"color:blue\"> |-learning_rate: 0.001</span>"
      ],
      "text/plain": [
       "<IPython.core.display.HTML object>"
      ]
     },
     "metadata": {},
     "output_type": "display_data"
    },
    {
     "data": {
      "text/html": [
       "<span style=\"color:cyan\"> |-n_layers: 1</span>"
      ],
      "text/plain": [
       "<IPython.core.display.HTML object>"
      ]
     },
     "metadata": {},
     "output_type": "display_data"
    },
    {
     "data": {
      "text/html": [
       "<span style=\"color:blue\"> |-tuner/bracket: 2</span>"
      ],
      "text/plain": [
       "<IPython.core.display.HTML object>"
      ]
     },
     "metadata": {},
     "output_type": "display_data"
    },
    {
     "data": {
      "text/html": [
       "<span style=\"color:cyan\"> |-tuner/epochs: 3</span>"
      ],
      "text/plain": [
       "<IPython.core.display.HTML object>"
      ]
     },
     "metadata": {},
     "output_type": "display_data"
    },
    {
     "data": {
      "text/html": [
       "<span style=\"color:blue\"> |-tuner/initial_epoch: 0</span>"
      ],
      "text/plain": [
       "<IPython.core.display.HTML object>"
      ]
     },
     "metadata": {},
     "output_type": "display_data"
    },
    {
     "data": {
      "text/html": [
       "<span style=\"color:cyan\"> |-tuner/round: 0</span>"
      ],
      "text/plain": [
       "<IPython.core.display.HTML object>"
      ]
     },
     "metadata": {},
     "output_type": "display_data"
    },
    {
     "name": "stdout",
     "output_type": "stream",
     "text": [
      "Train on 17000 samples, validate on 3000 samples\n",
      "Epoch 4/9\n",
      "17000/17000 - 3s - loss: 0.0243 - mean_squared_error: 0.0243 - val_loss: 4.7965e-04 - val_mean_squared_error: 4.7965e-04\n",
      "Epoch 5/9\n",
      "17000/17000 - 2s - loss: 4.4272e-04 - mean_squared_error: 4.4272e-04 - val_loss: 4.1671e-04 - val_mean_squared_error: 4.1671e-04\n",
      "Epoch 6/9\n",
      "17000/17000 - 2s - loss: 4.5919e-04 - mean_squared_error: 4.5919e-04 - val_loss: 5.1591e-04 - val_mean_squared_error: 5.1591e-04\n",
      "Epoch 7/9\n",
      "17000/17000 - 2s - loss: 4.3435e-04 - mean_squared_error: 4.3435e-04 - val_loss: 5.7262e-04 - val_mean_squared_error: 5.7262e-04\n",
      "Epoch 8/9\n",
      "17000/17000 - 2s - loss: 4.8616e-04 - mean_squared_error: 4.8616e-04 - val_loss: 4.4584e-04 - val_mean_squared_error: 4.4584e-04\n",
      "Epoch 9/9\n",
      "17000/17000 - 2s - loss: 4.2340e-04 - mean_squared_error: 4.2340e-04 - val_loss: 4.6475e-04 - val_mean_squared_error: 4.6475e-04\n"
     ]
    },
    {
     "data": {
      "text/html": [
       "<span style=\"color:#4527A0\"><h1 style=\"font-size:18px\">Trial complete</h1></span>"
      ],
      "text/plain": [
       "<IPython.core.display.HTML object>"
      ]
     },
     "metadata": {},
     "output_type": "display_data"
    },
    {
     "data": {
      "text/html": [
       "<span style=\"color:#4527A0\"><h1 style=\"font-size:18px\">Trial summary</h1></span>"
      ],
      "text/plain": [
       "<IPython.core.display.HTML object>"
      ]
     },
     "metadata": {},
     "output_type": "display_data"
    },
    {
     "data": {
      "text/html": [
       "<span style=\"color:cyan\"> |-Trial ID: 1d44a345b2ed785df54011ca52d0c075</span>"
      ],
      "text/plain": [
       "<IPython.core.display.HTML object>"
      ]
     },
     "metadata": {},
     "output_type": "display_data"
    },
    {
     "data": {
      "text/html": [
       "<span style=\"color:cyan\"> |-Score: 0.0004233955987729132</span>"
      ],
      "text/plain": [
       "<IPython.core.display.HTML object>"
      ]
     },
     "metadata": {},
     "output_type": "display_data"
    },
    {
     "data": {
      "text/html": [
       "<span style=\"color:cyan\"> |-Best step: 0</span>"
      ],
      "text/plain": [
       "<IPython.core.display.HTML object>"
      ]
     },
     "metadata": {},
     "output_type": "display_data"
    },
    {
     "data": {
      "text/html": [
       "<span style=\"color:#7E57C2\"><h2 style=\"font-size:16px\">Hyperparameters:</h2></span>"
      ],
      "text/plain": [
       "<IPython.core.display.HTML object>"
      ]
     },
     "metadata": {},
     "output_type": "display_data"
    },
    {
     "data": {
      "text/html": [
       "<span style=\"color:cyan\"> |-hidden_0_units: 240</span>"
      ],
      "text/plain": [
       "<IPython.core.display.HTML object>"
      ]
     },
     "metadata": {},
     "output_type": "display_data"
    },
    {
     "data": {
      "text/html": [
       "<span style=\"color:blue\"> |-hidden_1_units: 47</span>"
      ],
      "text/plain": [
       "<IPython.core.display.HTML object>"
      ]
     },
     "metadata": {},
     "output_type": "display_data"
    },
    {
     "data": {
      "text/html": [
       "<span style=\"color:cyan\"> |-hidden_2_units: 202</span>"
      ],
      "text/plain": [
       "<IPython.core.display.HTML object>"
      ]
     },
     "metadata": {},
     "output_type": "display_data"
    },
    {
     "data": {
      "text/html": [
       "<span style=\"color:blue\"> |-learning_rate: 0.001</span>"
      ],
      "text/plain": [
       "<IPython.core.display.HTML object>"
      ]
     },
     "metadata": {},
     "output_type": "display_data"
    },
    {
     "data": {
      "text/html": [
       "<span style=\"color:cyan\"> |-n_layers: 3</span>"
      ],
      "text/plain": [
       "<IPython.core.display.HTML object>"
      ]
     },
     "metadata": {},
     "output_type": "display_data"
    },
    {
     "data": {
      "text/html": [
       "<span style=\"color:blue\"> |-tuner/bracket: 2</span>"
      ],
      "text/plain": [
       "<IPython.core.display.HTML object>"
      ]
     },
     "metadata": {},
     "output_type": "display_data"
    },
    {
     "data": {
      "text/html": [
       "<span style=\"color:cyan\"> |-tuner/epochs: 9</span>"
      ],
      "text/plain": [
       "<IPython.core.display.HTML object>"
      ]
     },
     "metadata": {},
     "output_type": "display_data"
    },
    {
     "data": {
      "text/html": [
       "<span style=\"color:blue\"> |-tuner/initial_epoch: 3</span>"
      ],
      "text/plain": [
       "<IPython.core.display.HTML object>"
      ]
     },
     "metadata": {},
     "output_type": "display_data"
    },
    {
     "data": {
      "text/html": [
       "<span style=\"color:cyan\"> |-tuner/round: 1</span>"
      ],
      "text/plain": [
       "<IPython.core.display.HTML object>"
      ]
     },
     "metadata": {},
     "output_type": "display_data"
    },
    {
     "data": {
      "text/html": [
       "<span style=\"color:blue\"> |-tuner/trial_id: 58cef0331556345b67047aee411db697</span>"
      ],
      "text/plain": [
       "<IPython.core.display.HTML object>"
      ]
     },
     "metadata": {},
     "output_type": "display_data"
    },
    {
     "name": "stdout",
     "output_type": "stream",
     "text": [
      "Train on 17000 samples, validate on 3000 samples\n",
      "Epoch 4/9\n",
      "17000/17000 - 2s - loss: 0.0470 - mean_squared_error: 0.0470 - val_loss: 0.0031 - val_mean_squared_error: 0.0031\n",
      "Epoch 5/9\n",
      "17000/17000 - 1s - loss: 0.0014 - mean_squared_error: 0.0014 - val_loss: 7.1028e-04 - val_mean_squared_error: 7.1028e-04\n",
      "Epoch 6/9\n",
      "17000/17000 - 2s - loss: 5.6703e-04 - mean_squared_error: 5.6703e-04 - val_loss: 4.4232e-04 - val_mean_squared_error: 4.4232e-04\n",
      "Epoch 7/9\n",
      "17000/17000 - 2s - loss: 4.1993e-04 - mean_squared_error: 4.1993e-04 - val_loss: 3.6887e-04 - val_mean_squared_error: 3.6887e-04\n",
      "Epoch 8/9\n",
      "17000/17000 - 2s - loss: 3.7039e-04 - mean_squared_error: 3.7039e-04 - val_loss: 3.6914e-04 - val_mean_squared_error: 3.6914e-04\n",
      "Epoch 9/9\n",
      "17000/17000 - 1s - loss: 3.5360e-04 - mean_squared_error: 3.5360e-04 - val_loss: 3.6149e-04 - val_mean_squared_error: 3.6149e-04\n"
     ]
    },
    {
     "data": {
      "text/html": [
       "<span style=\"color:#4527A0\"><h1 style=\"font-size:18px\">Trial complete</h1></span>"
      ],
      "text/plain": [
       "<IPython.core.display.HTML object>"
      ]
     },
     "metadata": {},
     "output_type": "display_data"
    },
    {
     "data": {
      "text/html": [
       "<span style=\"color:#4527A0\"><h1 style=\"font-size:18px\">Trial summary</h1></span>"
      ],
      "text/plain": [
       "<IPython.core.display.HTML object>"
      ]
     },
     "metadata": {},
     "output_type": "display_data"
    },
    {
     "data": {
      "text/html": [
       "<span style=\"color:cyan\"> |-Trial ID: 23b77f0df5971372eb2d8b36698f6b0f</span>"
      ],
      "text/plain": [
       "<IPython.core.display.HTML object>"
      ]
     },
     "metadata": {},
     "output_type": "display_data"
    },
    {
     "data": {
      "text/html": [
       "<span style=\"color:cyan\"> |-Score: 0.00035360216861590743</span>"
      ],
      "text/plain": [
       "<IPython.core.display.HTML object>"
      ]
     },
     "metadata": {},
     "output_type": "display_data"
    },
    {
     "data": {
      "text/html": [
       "<span style=\"color:cyan\"> |-Best step: 0</span>"
      ],
      "text/plain": [
       "<IPython.core.display.HTML object>"
      ]
     },
     "metadata": {},
     "output_type": "display_data"
    },
    {
     "data": {
      "text/html": [
       "<span style=\"color:#7E57C2\"><h2 style=\"font-size:16px\">Hyperparameters:</h2></span>"
      ],
      "text/plain": [
       "<IPython.core.display.HTML object>"
      ]
     },
     "metadata": {},
     "output_type": "display_data"
    },
    {
     "data": {
      "text/html": [
       "<span style=\"color:cyan\"> |-hidden_0_units: 168</span>"
      ],
      "text/plain": [
       "<IPython.core.display.HTML object>"
      ]
     },
     "metadata": {},
     "output_type": "display_data"
    },
    {
     "data": {
      "text/html": [
       "<span style=\"color:blue\"> |-hidden_1_units: 266</span>"
      ],
      "text/plain": [
       "<IPython.core.display.HTML object>"
      ]
     },
     "metadata": {},
     "output_type": "display_data"
    },
    {
     "data": {
      "text/html": [
       "<span style=\"color:cyan\"> |-hidden_2_units: 118</span>"
      ],
      "text/plain": [
       "<IPython.core.display.HTML object>"
      ]
     },
     "metadata": {},
     "output_type": "display_data"
    },
    {
     "data": {
      "text/html": [
       "<span style=\"color:blue\"> |-learning_rate: 0.001</span>"
      ],
      "text/plain": [
       "<IPython.core.display.HTML object>"
      ]
     },
     "metadata": {},
     "output_type": "display_data"
    },
    {
     "data": {
      "text/html": [
       "<span style=\"color:cyan\"> |-n_layers: 1</span>"
      ],
      "text/plain": [
       "<IPython.core.display.HTML object>"
      ]
     },
     "metadata": {},
     "output_type": "display_data"
    },
    {
     "data": {
      "text/html": [
       "<span style=\"color:blue\"> |-tuner/bracket: 2</span>"
      ],
      "text/plain": [
       "<IPython.core.display.HTML object>"
      ]
     },
     "metadata": {},
     "output_type": "display_data"
    },
    {
     "data": {
      "text/html": [
       "<span style=\"color:cyan\"> |-tuner/epochs: 9</span>"
      ],
      "text/plain": [
       "<IPython.core.display.HTML object>"
      ]
     },
     "metadata": {},
     "output_type": "display_data"
    },
    {
     "data": {
      "text/html": [
       "<span style=\"color:blue\"> |-tuner/initial_epoch: 3</span>"
      ],
      "text/plain": [
       "<IPython.core.display.HTML object>"
      ]
     },
     "metadata": {},
     "output_type": "display_data"
    },
    {
     "data": {
      "text/html": [
       "<span style=\"color:cyan\"> |-tuner/round: 1</span>"
      ],
      "text/plain": [
       "<IPython.core.display.HTML object>"
      ]
     },
     "metadata": {},
     "output_type": "display_data"
    },
    {
     "data": {
      "text/html": [
       "<span style=\"color:blue\"> |-tuner/trial_id: f34c5ca6df87dcdb73676c7d7255f9bf</span>"
      ],
      "text/plain": [
       "<IPython.core.display.HTML object>"
      ]
     },
     "metadata": {},
     "output_type": "display_data"
    },
    {
     "name": "stdout",
     "output_type": "stream",
     "text": [
      "Train on 17000 samples, validate on 3000 samples\n",
      "Epoch 4/9\n",
      "17000/17000 - 2s - loss: 0.0539 - mean_squared_error: 0.0539 - val_loss: 0.0047 - val_mean_squared_error: 0.0047\n",
      "Epoch 5/9\n",
      "17000/17000 - 2s - loss: 0.0020 - mean_squared_error: 0.0020 - val_loss: 9.4181e-04 - val_mean_squared_error: 9.4181e-04\n",
      "Epoch 6/9\n",
      "17000/17000 - 2s - loss: 6.7495e-04 - mean_squared_error: 6.7495e-04 - val_loss: 4.9671e-04 - val_mean_squared_error: 4.9671e-04\n",
      "Epoch 7/9\n",
      "17000/17000 - 2s - loss: 4.5453e-04 - mean_squared_error: 4.5453e-04 - val_loss: 3.8772e-04 - val_mean_squared_error: 3.8772e-04\n",
      "Epoch 8/9\n",
      "17000/17000 - 2s - loss: 3.8298e-04 - mean_squared_error: 3.8298e-04 - val_loss: 3.5771e-04 - val_mean_squared_error: 3.5771e-04\n",
      "Epoch 9/9\n",
      "17000/17000 - 1s - loss: 3.6125e-04 - mean_squared_error: 3.6125e-04 - val_loss: 3.1951e-04 - val_mean_squared_error: 3.1951e-04\n"
     ]
    },
    {
     "data": {
      "text/html": [
       "<span style=\"color:#4527A0\"><h1 style=\"font-size:18px\">Trial complete</h1></span>"
      ],
      "text/plain": [
       "<IPython.core.display.HTML object>"
      ]
     },
     "metadata": {},
     "output_type": "display_data"
    },
    {
     "data": {
      "text/html": [
       "<span style=\"color:#4527A0\"><h1 style=\"font-size:18px\">Trial summary</h1></span>"
      ],
      "text/plain": [
       "<IPython.core.display.HTML object>"
      ]
     },
     "metadata": {},
     "output_type": "display_data"
    },
    {
     "data": {
      "text/html": [
       "<span style=\"color:cyan\"> |-Trial ID: 3f0d48b4063c1faa3df0c61f587f06e5</span>"
      ],
      "text/plain": [
       "<IPython.core.display.HTML object>"
      ]
     },
     "metadata": {},
     "output_type": "display_data"
    },
    {
     "data": {
      "text/html": [
       "<span style=\"color:cyan\"> |-Score: 0.0003612495493143797</span>"
      ],
      "text/plain": [
       "<IPython.core.display.HTML object>"
      ]
     },
     "metadata": {},
     "output_type": "display_data"
    },
    {
     "data": {
      "text/html": [
       "<span style=\"color:cyan\"> |-Best step: 0</span>"
      ],
      "text/plain": [
       "<IPython.core.display.HTML object>"
      ]
     },
     "metadata": {},
     "output_type": "display_data"
    },
    {
     "data": {
      "text/html": [
       "<span style=\"color:#7E57C2\"><h2 style=\"font-size:16px\">Hyperparameters:</h2></span>"
      ],
      "text/plain": [
       "<IPython.core.display.HTML object>"
      ]
     },
     "metadata": {},
     "output_type": "display_data"
    },
    {
     "data": {
      "text/html": [
       "<span style=\"color:cyan\"> |-hidden_0_units: 123</span>"
      ],
      "text/plain": [
       "<IPython.core.display.HTML object>"
      ]
     },
     "metadata": {},
     "output_type": "display_data"
    },
    {
     "data": {
      "text/html": [
       "<span style=\"color:blue\"> |-hidden_1_units: 71</span>"
      ],
      "text/plain": [
       "<IPython.core.display.HTML object>"
      ]
     },
     "metadata": {},
     "output_type": "display_data"
    },
    {
     "data": {
      "text/html": [
       "<span style=\"color:cyan\"> |-hidden_2_units: 107</span>"
      ],
      "text/plain": [
       "<IPython.core.display.HTML object>"
      ]
     },
     "metadata": {},
     "output_type": "display_data"
    },
    {
     "data": {
      "text/html": [
       "<span style=\"color:blue\"> |-learning_rate: 0.001</span>"
      ],
      "text/plain": [
       "<IPython.core.display.HTML object>"
      ]
     },
     "metadata": {},
     "output_type": "display_data"
    },
    {
     "data": {
      "text/html": [
       "<span style=\"color:cyan\"> |-n_layers: 1</span>"
      ],
      "text/plain": [
       "<IPython.core.display.HTML object>"
      ]
     },
     "metadata": {},
     "output_type": "display_data"
    },
    {
     "data": {
      "text/html": [
       "<span style=\"color:blue\"> |-tuner/bracket: 2</span>"
      ],
      "text/plain": [
       "<IPython.core.display.HTML object>"
      ]
     },
     "metadata": {},
     "output_type": "display_data"
    },
    {
     "data": {
      "text/html": [
       "<span style=\"color:cyan\"> |-tuner/epochs: 9</span>"
      ],
      "text/plain": [
       "<IPython.core.display.HTML object>"
      ]
     },
     "metadata": {},
     "output_type": "display_data"
    },
    {
     "data": {
      "text/html": [
       "<span style=\"color:blue\"> |-tuner/initial_epoch: 3</span>"
      ],
      "text/plain": [
       "<IPython.core.display.HTML object>"
      ]
     },
     "metadata": {},
     "output_type": "display_data"
    },
    {
     "data": {
      "text/html": [
       "<span style=\"color:cyan\"> |-tuner/round: 1</span>"
      ],
      "text/plain": [
       "<IPython.core.display.HTML object>"
      ]
     },
     "metadata": {},
     "output_type": "display_data"
    },
    {
     "data": {
      "text/html": [
       "<span style=\"color:blue\"> |-tuner/trial_id: 6154e0710f2d10e4ed026de100abb8fd</span>"
      ],
      "text/plain": [
       "<IPython.core.display.HTML object>"
      ]
     },
     "metadata": {},
     "output_type": "display_data"
    },
    {
     "name": "stdout",
     "output_type": "stream",
     "text": [
      "Train on 17000 samples, validate on 3000 samples\n",
      "Epoch 4/9\n",
      "17000/17000 - 2s - loss: 0.0558 - mean_squared_error: 0.0558 - val_loss: 0.0050 - val_mean_squared_error: 0.0050\n",
      "Epoch 5/9\n",
      "17000/17000 - 1s - loss: 0.0021 - mean_squared_error: 0.0021 - val_loss: 9.1932e-04 - val_mean_squared_error: 9.1932e-04\n",
      "Epoch 6/9\n",
      "17000/17000 - 1s - loss: 6.8565e-04 - mean_squared_error: 6.8565e-04 - val_loss: 5.0315e-04 - val_mean_squared_error: 5.0315e-04\n",
      "Epoch 7/9\n",
      "17000/17000 - 1s - loss: 4.5955e-04 - mean_squared_error: 4.5955e-04 - val_loss: 3.9946e-04 - val_mean_squared_error: 3.9946e-04\n",
      "Epoch 8/9\n",
      "17000/17000 - 1s - loss: 3.8872e-04 - mean_squared_error: 3.8872e-04 - val_loss: 3.4300e-04 - val_mean_squared_error: 3.4300e-04\n",
      "Epoch 9/9\n",
      "17000/17000 - 1s - loss: 3.5635e-04 - mean_squared_error: 3.5635e-04 - val_loss: 3.1897e-04 - val_mean_squared_error: 3.1897e-04\n"
     ]
    },
    {
     "data": {
      "text/html": [
       "<span style=\"color:#4527A0\"><h1 style=\"font-size:18px\">Trial complete</h1></span>"
      ],
      "text/plain": [
       "<IPython.core.display.HTML object>"
      ]
     },
     "metadata": {},
     "output_type": "display_data"
    },
    {
     "data": {
      "text/html": [
       "<span style=\"color:#4527A0\"><h1 style=\"font-size:18px\">Trial summary</h1></span>"
      ],
      "text/plain": [
       "<IPython.core.display.HTML object>"
      ]
     },
     "metadata": {},
     "output_type": "display_data"
    },
    {
     "data": {
      "text/html": [
       "<span style=\"color:cyan\"> |-Trial ID: 94b67f2c7e563d97fcc480d971892ad6</span>"
      ],
      "text/plain": [
       "<IPython.core.display.HTML object>"
      ]
     },
     "metadata": {},
     "output_type": "display_data"
    },
    {
     "data": {
      "text/html": [
       "<span style=\"color:cyan\"> |-Score: 0.00035635026870295405</span>"
      ],
      "text/plain": [
       "<IPython.core.display.HTML object>"
      ]
     },
     "metadata": {},
     "output_type": "display_data"
    },
    {
     "data": {
      "text/html": [
       "<span style=\"color:cyan\"> |-Best step: 0</span>"
      ],
      "text/plain": [
       "<IPython.core.display.HTML object>"
      ]
     },
     "metadata": {},
     "output_type": "display_data"
    },
    {
     "data": {
      "text/html": [
       "<span style=\"color:#7E57C2\"><h2 style=\"font-size:16px\">Hyperparameters:</h2></span>"
      ],
      "text/plain": [
       "<IPython.core.display.HTML object>"
      ]
     },
     "metadata": {},
     "output_type": "display_data"
    },
    {
     "data": {
      "text/html": [
       "<span style=\"color:cyan\"> |-hidden_0_units: 119</span>"
      ],
      "text/plain": [
       "<IPython.core.display.HTML object>"
      ]
     },
     "metadata": {},
     "output_type": "display_data"
    },
    {
     "data": {
      "text/html": [
       "<span style=\"color:blue\"> |-hidden_1_units: 109</span>"
      ],
      "text/plain": [
       "<IPython.core.display.HTML object>"
      ]
     },
     "metadata": {},
     "output_type": "display_data"
    },
    {
     "data": {
      "text/html": [
       "<span style=\"color:cyan\"> |-hidden_2_units: 265</span>"
      ],
      "text/plain": [
       "<IPython.core.display.HTML object>"
      ]
     },
     "metadata": {},
     "output_type": "display_data"
    },
    {
     "data": {
      "text/html": [
       "<span style=\"color:blue\"> |-learning_rate: 0.001</span>"
      ],
      "text/plain": [
       "<IPython.core.display.HTML object>"
      ]
     },
     "metadata": {},
     "output_type": "display_data"
    },
    {
     "data": {
      "text/html": [
       "<span style=\"color:cyan\"> |-n_layers: 1</span>"
      ],
      "text/plain": [
       "<IPython.core.display.HTML object>"
      ]
     },
     "metadata": {},
     "output_type": "display_data"
    },
    {
     "data": {
      "text/html": [
       "<span style=\"color:blue\"> |-tuner/bracket: 2</span>"
      ],
      "text/plain": [
       "<IPython.core.display.HTML object>"
      ]
     },
     "metadata": {},
     "output_type": "display_data"
    },
    {
     "data": {
      "text/html": [
       "<span style=\"color:cyan\"> |-tuner/epochs: 9</span>"
      ],
      "text/plain": [
       "<IPython.core.display.HTML object>"
      ]
     },
     "metadata": {},
     "output_type": "display_data"
    },
    {
     "data": {
      "text/html": [
       "<span style=\"color:blue\"> |-tuner/initial_epoch: 3</span>"
      ],
      "text/plain": [
       "<IPython.core.display.HTML object>"
      ]
     },
     "metadata": {},
     "output_type": "display_data"
    },
    {
     "data": {
      "text/html": [
       "<span style=\"color:cyan\"> |-tuner/round: 1</span>"
      ],
      "text/plain": [
       "<IPython.core.display.HTML object>"
      ]
     },
     "metadata": {},
     "output_type": "display_data"
    },
    {
     "data": {
      "text/html": [
       "<span style=\"color:blue\"> |-tuner/trial_id: 33d3cc4942506dcbf1037cd7fc667319</span>"
      ],
      "text/plain": [
       "<IPython.core.display.HTML object>"
      ]
     },
     "metadata": {},
     "output_type": "display_data"
    },
    {
     "name": "stdout",
     "output_type": "stream",
     "text": [
      "Train on 17000 samples, validate on 3000 samples\n",
      "Epoch 10/25\n",
      "17000/17000 - 2s - loss: 0.0463 - mean_squared_error: 0.0463 - val_loss: 0.0030 - val_mean_squared_error: 0.0030\n",
      "Epoch 11/25\n",
      "17000/17000 - 1s - loss: 0.0014 - mean_squared_error: 0.0014 - val_loss: 7.0489e-04 - val_mean_squared_error: 7.0489e-04\n",
      "Epoch 12/25\n",
      "17000/17000 - 2s - loss: 5.6831e-04 - mean_squared_error: 5.6831e-04 - val_loss: 5.0475e-04 - val_mean_squared_error: 5.0475e-04\n",
      "Epoch 13/25\n",
      "17000/17000 - 2s - loss: 4.1750e-04 - mean_squared_error: 4.1750e-04 - val_loss: 3.6636e-04 - val_mean_squared_error: 3.6636e-04\n",
      "Epoch 14/25\n",
      "17000/17000 - 2s - loss: 3.7607e-04 - mean_squared_error: 3.7607e-04 - val_loss: 3.3790e-04 - val_mean_squared_error: 3.3790e-04\n",
      "Epoch 15/25\n",
      "17000/17000 - 1s - loss: 3.4866e-04 - mean_squared_error: 3.4866e-04 - val_loss: 3.1459e-04 - val_mean_squared_error: 3.1459e-04\n",
      "Epoch 16/25\n",
      "17000/17000 - 1s - loss: 3.4245e-04 - mean_squared_error: 3.4245e-04 - val_loss: 5.1003e-04 - val_mean_squared_error: 5.1003e-04\n",
      "Epoch 17/25\n",
      "17000/17000 - 1s - loss: 3.4935e-04 - mean_squared_error: 3.4935e-04 - val_loss: 3.6051e-04 - val_mean_squared_error: 3.6051e-04\n",
      "Epoch 18/25\n",
      "17000/17000 - 2s - loss: 3.2696e-04 - mean_squared_error: 3.2696e-04 - val_loss: 3.1908e-04 - val_mean_squared_error: 3.1908e-04\n",
      "Epoch 19/25\n",
      "17000/17000 - 2s - loss: 3.4103e-04 - mean_squared_error: 3.4103e-04 - val_loss: 3.6267e-04 - val_mean_squared_error: 3.6267e-04\n",
      "Epoch 20/25\n",
      "17000/17000 - 2s - loss: 3.3332e-04 - mean_squared_error: 3.3332e-04 - val_loss: 3.4179e-04 - val_mean_squared_error: 3.4179e-04\n",
      "Epoch 21/25\n",
      "17000/17000 - 1s - loss: 3.3070e-04 - mean_squared_error: 3.3070e-04 - val_loss: 5.5385e-04 - val_mean_squared_error: 5.5385e-04\n",
      "Epoch 22/25\n",
      "17000/17000 - 1s - loss: 3.4043e-04 - mean_squared_error: 3.4043e-04 - val_loss: 4.1232e-04 - val_mean_squared_error: 4.1232e-04\n",
      "Epoch 23/25\n",
      "17000/17000 - 1s - loss: 3.3203e-04 - mean_squared_error: 3.3203e-04 - val_loss: 3.0330e-04 - val_mean_squared_error: 3.0330e-04\n"
     ]
    },
    {
     "data": {
      "text/html": [
       "<span style=\"color:#4527A0\"><h1 style=\"font-size:18px\">Trial complete</h1></span>"
      ],
      "text/plain": [
       "<IPython.core.display.HTML object>"
      ]
     },
     "metadata": {},
     "output_type": "display_data"
    },
    {
     "data": {
      "text/html": [
       "<span style=\"color:#4527A0\"><h1 style=\"font-size:18px\">Trial summary</h1></span>"
      ],
      "text/plain": [
       "<IPython.core.display.HTML object>"
      ]
     },
     "metadata": {},
     "output_type": "display_data"
    },
    {
     "data": {
      "text/html": [
       "<span style=\"color:cyan\"> |-Trial ID: af2d0ee07044279bcdfcc71f0415c8da</span>"
      ],
      "text/plain": [
       "<IPython.core.display.HTML object>"
      ]
     },
     "metadata": {},
     "output_type": "display_data"
    },
    {
     "data": {
      "text/html": [
       "<span style=\"color:cyan\"> |-Score: 0.0003269644803367555</span>"
      ],
      "text/plain": [
       "<IPython.core.display.HTML object>"
      ]
     },
     "metadata": {},
     "output_type": "display_data"
    },
    {
     "data": {
      "text/html": [
       "<span style=\"color:cyan\"> |-Best step: 0</span>"
      ],
      "text/plain": [
       "<IPython.core.display.HTML object>"
      ]
     },
     "metadata": {},
     "output_type": "display_data"
    },
    {
     "data": {
      "text/html": [
       "<span style=\"color:#7E57C2\"><h2 style=\"font-size:16px\">Hyperparameters:</h2></span>"
      ],
      "text/plain": [
       "<IPython.core.display.HTML object>"
      ]
     },
     "metadata": {},
     "output_type": "display_data"
    },
    {
     "data": {
      "text/html": [
       "<span style=\"color:cyan\"> |-hidden_0_units: 168</span>"
      ],
      "text/plain": [
       "<IPython.core.display.HTML object>"
      ]
     },
     "metadata": {},
     "output_type": "display_data"
    },
    {
     "data": {
      "text/html": [
       "<span style=\"color:blue\"> |-hidden_1_units: 266</span>"
      ],
      "text/plain": [
       "<IPython.core.display.HTML object>"
      ]
     },
     "metadata": {},
     "output_type": "display_data"
    },
    {
     "data": {
      "text/html": [
       "<span style=\"color:cyan\"> |-hidden_2_units: 118</span>"
      ],
      "text/plain": [
       "<IPython.core.display.HTML object>"
      ]
     },
     "metadata": {},
     "output_type": "display_data"
    },
    {
     "data": {
      "text/html": [
       "<span style=\"color:blue\"> |-learning_rate: 0.001</span>"
      ],
      "text/plain": [
       "<IPython.core.display.HTML object>"
      ]
     },
     "metadata": {},
     "output_type": "display_data"
    },
    {
     "data": {
      "text/html": [
       "<span style=\"color:cyan\"> |-n_layers: 1</span>"
      ],
      "text/plain": [
       "<IPython.core.display.HTML object>"
      ]
     },
     "metadata": {},
     "output_type": "display_data"
    },
    {
     "data": {
      "text/html": [
       "<span style=\"color:blue\"> |-tuner/bracket: 2</span>"
      ],
      "text/plain": [
       "<IPython.core.display.HTML object>"
      ]
     },
     "metadata": {},
     "output_type": "display_data"
    },
    {
     "data": {
      "text/html": [
       "<span style=\"color:cyan\"> |-tuner/epochs: 25</span>"
      ],
      "text/plain": [
       "<IPython.core.display.HTML object>"
      ]
     },
     "metadata": {},
     "output_type": "display_data"
    },
    {
     "data": {
      "text/html": [
       "<span style=\"color:blue\"> |-tuner/initial_epoch: 9</span>"
      ],
      "text/plain": [
       "<IPython.core.display.HTML object>"
      ]
     },
     "metadata": {},
     "output_type": "display_data"
    },
    {
     "data": {
      "text/html": [
       "<span style=\"color:cyan\"> |-tuner/round: 2</span>"
      ],
      "text/plain": [
       "<IPython.core.display.HTML object>"
      ]
     },
     "metadata": {},
     "output_type": "display_data"
    },
    {
     "data": {
      "text/html": [
       "<span style=\"color:blue\"> |-tuner/trial_id: 23b77f0df5971372eb2d8b36698f6b0f</span>"
      ],
      "text/plain": [
       "<IPython.core.display.HTML object>"
      ]
     },
     "metadata": {},
     "output_type": "display_data"
    },
    {
     "name": "stdout",
     "output_type": "stream",
     "text": [
      "Train on 17000 samples, validate on 3000 samples\n",
      "Epoch 10/25\n",
      "17000/17000 - 2s - loss: 0.0553 - mean_squared_error: 0.0553 - val_loss: 0.0048 - val_mean_squared_error: 0.0048\n",
      "Epoch 11/25\n",
      "17000/17000 - 2s - loss: 0.0021 - mean_squared_error: 0.0021 - val_loss: 8.9804e-04 - val_mean_squared_error: 8.9804e-04\n",
      "Epoch 12/25\n",
      "17000/17000 - 2s - loss: 6.7268e-04 - mean_squared_error: 6.7268e-04 - val_loss: 5.3146e-04 - val_mean_squared_error: 5.3146e-04\n",
      "Epoch 13/25\n",
      "17000/17000 - 1s - loss: 4.5568e-04 - mean_squared_error: 4.5568e-04 - val_loss: 3.9229e-04 - val_mean_squared_error: 3.9229e-04\n",
      "Epoch 14/25\n",
      "17000/17000 - 2s - loss: 3.8518e-04 - mean_squared_error: 3.8518e-04 - val_loss: 4.0433e-04 - val_mean_squared_error: 4.0433e-04\n",
      "Epoch 15/25\n",
      "17000/17000 - 1s - loss: 3.5982e-04 - mean_squared_error: 3.5982e-04 - val_loss: 3.2221e-04 - val_mean_squared_error: 3.2221e-04\n",
      "Epoch 16/25\n",
      "17000/17000 - 1s - loss: 3.4712e-04 - mean_squared_error: 3.4712e-04 - val_loss: 4.7499e-04 - val_mean_squared_error: 4.7499e-04\n",
      "Epoch 17/25\n",
      "17000/17000 - 1s - loss: 3.5379e-04 - mean_squared_error: 3.5379e-04 - val_loss: 3.4396e-04 - val_mean_squared_error: 3.4396e-04\n",
      "Epoch 18/25\n",
      "17000/17000 - 2s - loss: 3.3577e-04 - mean_squared_error: 3.3577e-04 - val_loss: 2.9893e-04 - val_mean_squared_error: 2.9893e-04\n",
      "Epoch 19/25\n",
      "17000/17000 - 1s - loss: 3.2516e-04 - mean_squared_error: 3.2516e-04 - val_loss: 3.5429e-04 - val_mean_squared_error: 3.5429e-04\n",
      "Epoch 20/25\n",
      "17000/17000 - 1s - loss: 3.3448e-04 - mean_squared_error: 3.3448e-04 - val_loss: 3.0839e-04 - val_mean_squared_error: 3.0839e-04\n",
      "Epoch 21/25\n",
      "17000/17000 - 1s - loss: 3.3026e-04 - mean_squared_error: 3.3026e-04 - val_loss: 2.9026e-04 - val_mean_squared_error: 2.9026e-04\n",
      "Epoch 22/25\n",
      "17000/17000 - 1s - loss: 3.1970e-04 - mean_squared_error: 3.1970e-04 - val_loss: 2.9586e-04 - val_mean_squared_error: 2.9586e-04\n",
      "Epoch 23/25\n",
      "17000/17000 - 2s - loss: 3.2383e-04 - mean_squared_error: 3.2383e-04 - val_loss: 2.9674e-04 - val_mean_squared_error: 2.9674e-04\n",
      "Epoch 24/25\n",
      "17000/17000 - 2s - loss: 3.2880e-04 - mean_squared_error: 3.2880e-04 - val_loss: 2.9778e-04 - val_mean_squared_error: 2.9778e-04\n",
      "Epoch 25/25\n",
      "17000/17000 - 2s - loss: 3.2200e-04 - mean_squared_error: 3.2200e-04 - val_loss: 2.9134e-04 - val_mean_squared_error: 2.9134e-04\n"
     ]
    },
    {
     "data": {
      "text/html": [
       "<span style=\"color:#4527A0\"><h1 style=\"font-size:18px\">Trial complete</h1></span>"
      ],
      "text/plain": [
       "<IPython.core.display.HTML object>"
      ]
     },
     "metadata": {},
     "output_type": "display_data"
    },
    {
     "data": {
      "text/html": [
       "<span style=\"color:#4527A0\"><h1 style=\"font-size:18px\">Trial summary</h1></span>"
      ],
      "text/plain": [
       "<IPython.core.display.HTML object>"
      ]
     },
     "metadata": {},
     "output_type": "display_data"
    },
    {
     "data": {
      "text/html": [
       "<span style=\"color:cyan\"> |-Trial ID: 5c4da94a1da0ed1e2911358d701b773e</span>"
      ],
      "text/plain": [
       "<IPython.core.display.HTML object>"
      ]
     },
     "metadata": {},
     "output_type": "display_data"
    },
    {
     "data": {
      "text/html": [
       "<span style=\"color:cyan\"> |-Score: 0.00031969777774065733</span>"
      ],
      "text/plain": [
       "<IPython.core.display.HTML object>"
      ]
     },
     "metadata": {},
     "output_type": "display_data"
    },
    {
     "data": {
      "text/html": [
       "<span style=\"color:cyan\"> |-Best step: 0</span>"
      ],
      "text/plain": [
       "<IPython.core.display.HTML object>"
      ]
     },
     "metadata": {},
     "output_type": "display_data"
    },
    {
     "data": {
      "text/html": [
       "<span style=\"color:#7E57C2\"><h2 style=\"font-size:16px\">Hyperparameters:</h2></span>"
      ],
      "text/plain": [
       "<IPython.core.display.HTML object>"
      ]
     },
     "metadata": {},
     "output_type": "display_data"
    },
    {
     "data": {
      "text/html": [
       "<span style=\"color:cyan\"> |-hidden_0_units: 119</span>"
      ],
      "text/plain": [
       "<IPython.core.display.HTML object>"
      ]
     },
     "metadata": {},
     "output_type": "display_data"
    },
    {
     "data": {
      "text/html": [
       "<span style=\"color:blue\"> |-hidden_1_units: 109</span>"
      ],
      "text/plain": [
       "<IPython.core.display.HTML object>"
      ]
     },
     "metadata": {},
     "output_type": "display_data"
    },
    {
     "data": {
      "text/html": [
       "<span style=\"color:cyan\"> |-hidden_2_units: 265</span>"
      ],
      "text/plain": [
       "<IPython.core.display.HTML object>"
      ]
     },
     "metadata": {},
     "output_type": "display_data"
    },
    {
     "data": {
      "text/html": [
       "<span style=\"color:blue\"> |-learning_rate: 0.001</span>"
      ],
      "text/plain": [
       "<IPython.core.display.HTML object>"
      ]
     },
     "metadata": {},
     "output_type": "display_data"
    },
    {
     "data": {
      "text/html": [
       "<span style=\"color:cyan\"> |-n_layers: 1</span>"
      ],
      "text/plain": [
       "<IPython.core.display.HTML object>"
      ]
     },
     "metadata": {},
     "output_type": "display_data"
    },
    {
     "data": {
      "text/html": [
       "<span style=\"color:blue\"> |-tuner/bracket: 2</span>"
      ],
      "text/plain": [
       "<IPython.core.display.HTML object>"
      ]
     },
     "metadata": {},
     "output_type": "display_data"
    },
    {
     "data": {
      "text/html": [
       "<span style=\"color:cyan\"> |-tuner/epochs: 25</span>"
      ],
      "text/plain": [
       "<IPython.core.display.HTML object>"
      ]
     },
     "metadata": {},
     "output_type": "display_data"
    },
    {
     "data": {
      "text/html": [
       "<span style=\"color:blue\"> |-tuner/initial_epoch: 9</span>"
      ],
      "text/plain": [
       "<IPython.core.display.HTML object>"
      ]
     },
     "metadata": {},
     "output_type": "display_data"
    },
    {
     "data": {
      "text/html": [
       "<span style=\"color:cyan\"> |-tuner/round: 2</span>"
      ],
      "text/plain": [
       "<IPython.core.display.HTML object>"
      ]
     },
     "metadata": {},
     "output_type": "display_data"
    },
    {
     "data": {
      "text/html": [
       "<span style=\"color:blue\"> |-tuner/trial_id: 94b67f2c7e563d97fcc480d971892ad6</span>"
      ],
      "text/plain": [
       "<IPython.core.display.HTML object>"
      ]
     },
     "metadata": {},
     "output_type": "display_data"
    },
    {
     "name": "stdout",
     "output_type": "stream",
     "text": [
      "Train on 17000 samples, validate on 3000 samples\n",
      "Epoch 1/9\n",
      "17000/17000 - 3s - loss: 0.1443 - mean_squared_error: 0.1443 - val_loss: 0.0960 - val_mean_squared_error: 0.0960\n",
      "Epoch 2/9\n",
      "17000/17000 - 2s - loss: 0.0766 - mean_squared_error: 0.0766 - val_loss: 0.0606 - val_mean_squared_error: 0.0606\n",
      "Epoch 3/9\n",
      "17000/17000 - 2s - loss: 0.0509 - mean_squared_error: 0.0509 - val_loss: 0.0418 - val_mean_squared_error: 0.0418\n",
      "Epoch 4/9\n",
      "17000/17000 - 2s - loss: 0.0357 - mean_squared_error: 0.0357 - val_loss: 0.0301 - val_mean_squared_error: 0.0301\n",
      "Epoch 5/9\n",
      "17000/17000 - 2s - loss: 0.0262 - mean_squared_error: 0.0262 - val_loss: 0.0230 - val_mean_squared_error: 0.0230\n",
      "Epoch 6/9\n",
      "17000/17000 - 2s - loss: 0.0205 - mean_squared_error: 0.0205 - val_loss: 0.0189 - val_mean_squared_error: 0.0189\n",
      "Epoch 7/9\n",
      "17000/17000 - 2s - loss: 0.0175 - mean_squared_error: 0.0175 - val_loss: 0.0170 - val_mean_squared_error: 0.0170\n",
      "Epoch 8/9\n",
      "17000/17000 - 2s - loss: 0.0162 - mean_squared_error: 0.0162 - val_loss: 0.0161 - val_mean_squared_error: 0.0161\n",
      "Epoch 9/9\n",
      "17000/17000 - 2s - loss: 0.0154 - mean_squared_error: 0.0154 - val_loss: 0.0155 - val_mean_squared_error: 0.0155\n"
     ]
    },
    {
     "data": {
      "text/html": [
       "<span style=\"color:#4527A0\"><h1 style=\"font-size:18px\">Trial complete</h1></span>"
      ],
      "text/plain": [
       "<IPython.core.display.HTML object>"
      ]
     },
     "metadata": {},
     "output_type": "display_data"
    },
    {
     "data": {
      "text/html": [
       "<span style=\"color:#4527A0\"><h1 style=\"font-size:18px\">Trial summary</h1></span>"
      ],
      "text/plain": [
       "<IPython.core.display.HTML object>"
      ]
     },
     "metadata": {},
     "output_type": "display_data"
    },
    {
     "data": {
      "text/html": [
       "<span style=\"color:cyan\"> |-Trial ID: cefa750da814c66db43e7bf33eaa92fc</span>"
      ],
      "text/plain": [
       "<IPython.core.display.HTML object>"
      ]
     },
     "metadata": {},
     "output_type": "display_data"
    },
    {
     "data": {
      "text/html": [
       "<span style=\"color:cyan\"> |-Score: 0.01544517744332552</span>"
      ],
      "text/plain": [
       "<IPython.core.display.HTML object>"
      ]
     },
     "metadata": {},
     "output_type": "display_data"
    },
    {
     "data": {
      "text/html": [
       "<span style=\"color:cyan\"> |-Best step: 0</span>"
      ],
      "text/plain": [
       "<IPython.core.display.HTML object>"
      ]
     },
     "metadata": {},
     "output_type": "display_data"
    },
    {
     "data": {
      "text/html": [
       "<span style=\"color:#7E57C2\"><h2 style=\"font-size:16px\">Hyperparameters:</h2></span>"
      ],
      "text/plain": [
       "<IPython.core.display.HTML object>"
      ]
     },
     "metadata": {},
     "output_type": "display_data"
    },
    {
     "data": {
      "text/html": [
       "<span style=\"color:cyan\"> |-hidden_0_units: 32</span>"
      ],
      "text/plain": [
       "<IPython.core.display.HTML object>"
      ]
     },
     "metadata": {},
     "output_type": "display_data"
    },
    {
     "data": {
      "text/html": [
       "<span style=\"color:blue\"> |-hidden_1_units: 145</span>"
      ],
      "text/plain": [
       "<IPython.core.display.HTML object>"
      ]
     },
     "metadata": {},
     "output_type": "display_data"
    },
    {
     "data": {
      "text/html": [
       "<span style=\"color:cyan\"> |-hidden_2_units: 128</span>"
      ],
      "text/plain": [
       "<IPython.core.display.HTML object>"
      ]
     },
     "metadata": {},
     "output_type": "display_data"
    },
    {
     "data": {
      "text/html": [
       "<span style=\"color:blue\"> |-learning_rate: 0.0001</span>"
      ],
      "text/plain": [
       "<IPython.core.display.HTML object>"
      ]
     },
     "metadata": {},
     "output_type": "display_data"
    },
    {
     "data": {
      "text/html": [
       "<span style=\"color:cyan\"> |-n_layers: 3</span>"
      ],
      "text/plain": [
       "<IPython.core.display.HTML object>"
      ]
     },
     "metadata": {},
     "output_type": "display_data"
    },
    {
     "data": {
      "text/html": [
       "<span style=\"color:blue\"> |-tuner/bracket: 1</span>"
      ],
      "text/plain": [
       "<IPython.core.display.HTML object>"
      ]
     },
     "metadata": {},
     "output_type": "display_data"
    },
    {
     "data": {
      "text/html": [
       "<span style=\"color:cyan\"> |-tuner/epochs: 9</span>"
      ],
      "text/plain": [
       "<IPython.core.display.HTML object>"
      ]
     },
     "metadata": {},
     "output_type": "display_data"
    },
    {
     "data": {
      "text/html": [
       "<span style=\"color:blue\"> |-tuner/initial_epoch: 0</span>"
      ],
      "text/plain": [
       "<IPython.core.display.HTML object>"
      ]
     },
     "metadata": {},
     "output_type": "display_data"
    },
    {
     "data": {
      "text/html": [
       "<span style=\"color:cyan\"> |-tuner/round: 0</span>"
      ],
      "text/plain": [
       "<IPython.core.display.HTML object>"
      ]
     },
     "metadata": {},
     "output_type": "display_data"
    },
    {
     "name": "stdout",
     "output_type": "stream",
     "text": [
      "Train on 17000 samples, validate on 3000 samples\n",
      "Epoch 1/9\n",
      "17000/17000 - 2s - loss: 0.0056 - mean_squared_error: 0.0056 - val_loss: 5.7253e-04 - val_mean_squared_error: 5.7253e-04\n",
      "Epoch 2/9\n",
      "17000/17000 - 2s - loss: 7.5757e-04 - mean_squared_error: 7.5757e-04 - val_loss: 7.1687e-04 - val_mean_squared_error: 7.1687e-04\n",
      "Epoch 3/9\n",
      "17000/17000 - 2s - loss: 7.1917e-04 - mean_squared_error: 7.1917e-04 - val_loss: 0.0012 - val_mean_squared_error: 0.0012\n",
      "Epoch 4/9\n",
      "17000/17000 - 2s - loss: 0.0013 - mean_squared_error: 0.0013 - val_loss: 0.0023 - val_mean_squared_error: 0.0023\n",
      "Epoch 5/9\n",
      "17000/17000 - 2s - loss: 0.0011 - mean_squared_error: 0.0011 - val_loss: 0.0014 - val_mean_squared_error: 0.0014\n",
      "Epoch 6/9\n",
      "17000/17000 - 2s - loss: 0.0035 - mean_squared_error: 0.0035 - val_loss: 0.0083 - val_mean_squared_error: 0.0083\n",
      "Epoch 7/9\n",
      "17000/17000 - 2s - loss: 0.0089 - mean_squared_error: 0.0089 - val_loss: 0.0085 - val_mean_squared_error: 0.0085\n",
      "Epoch 8/9\n",
      "17000/17000 - 2s - loss: 0.0070 - mean_squared_error: 0.0070 - val_loss: 0.0081 - val_mean_squared_error: 0.0081\n"
     ]
    },
    {
     "data": {
      "text/html": [
       "<span style=\"color:#4527A0\"><h1 style=\"font-size:18px\">Trial complete</h1></span>"
      ],
      "text/plain": [
       "<IPython.core.display.HTML object>"
      ]
     },
     "metadata": {},
     "output_type": "display_data"
    },
    {
     "data": {
      "text/html": [
       "<span style=\"color:#4527A0\"><h1 style=\"font-size:18px\">Trial summary</h1></span>"
      ],
      "text/plain": [
       "<IPython.core.display.HTML object>"
      ]
     },
     "metadata": {},
     "output_type": "display_data"
    },
    {
     "data": {
      "text/html": [
       "<span style=\"color:cyan\"> |-Trial ID: f02247185cd5344a34f6b2d4fece3269</span>"
      ],
      "text/plain": [
       "<IPython.core.display.HTML object>"
      ]
     },
     "metadata": {},
     "output_type": "display_data"
    },
    {
     "data": {
      "text/html": [
       "<span style=\"color:cyan\"> |-Score: 0.0007191686891019344</span>"
      ],
      "text/plain": [
       "<IPython.core.display.HTML object>"
      ]
     },
     "metadata": {},
     "output_type": "display_data"
    },
    {
     "data": {
      "text/html": [
       "<span style=\"color:cyan\"> |-Best step: 0</span>"
      ],
      "text/plain": [
       "<IPython.core.display.HTML object>"
      ]
     },
     "metadata": {},
     "output_type": "display_data"
    },
    {
     "data": {
      "text/html": [
       "<span style=\"color:#7E57C2\"><h2 style=\"font-size:16px\">Hyperparameters:</h2></span>"
      ],
      "text/plain": [
       "<IPython.core.display.HTML object>"
      ]
     },
     "metadata": {},
     "output_type": "display_data"
    },
    {
     "data": {
      "text/html": [
       "<span style=\"color:cyan\"> |-hidden_0_units: 272</span>"
      ],
      "text/plain": [
       "<IPython.core.display.HTML object>"
      ]
     },
     "metadata": {},
     "output_type": "display_data"
    },
    {
     "data": {
      "text/html": [
       "<span style=\"color:blue\"> |-hidden_1_units: 187</span>"
      ],
      "text/plain": [
       "<IPython.core.display.HTML object>"
      ]
     },
     "metadata": {},
     "output_type": "display_data"
    },
    {
     "data": {
      "text/html": [
       "<span style=\"color:cyan\"> |-hidden_2_units: 194</span>"
      ],
      "text/plain": [
       "<IPython.core.display.HTML object>"
      ]
     },
     "metadata": {},
     "output_type": "display_data"
    },
    {
     "data": {
      "text/html": [
       "<span style=\"color:blue\"> |-learning_rate: 0.01</span>"
      ],
      "text/plain": [
       "<IPython.core.display.HTML object>"
      ]
     },
     "metadata": {},
     "output_type": "display_data"
    },
    {
     "data": {
      "text/html": [
       "<span style=\"color:cyan\"> |-n_layers: 1</span>"
      ],
      "text/plain": [
       "<IPython.core.display.HTML object>"
      ]
     },
     "metadata": {},
     "output_type": "display_data"
    },
    {
     "data": {
      "text/html": [
       "<span style=\"color:blue\"> |-tuner/bracket: 1</span>"
      ],
      "text/plain": [
       "<IPython.core.display.HTML object>"
      ]
     },
     "metadata": {},
     "output_type": "display_data"
    },
    {
     "data": {
      "text/html": [
       "<span style=\"color:cyan\"> |-tuner/epochs: 9</span>"
      ],
      "text/plain": [
       "<IPython.core.display.HTML object>"
      ]
     },
     "metadata": {},
     "output_type": "display_data"
    },
    {
     "data": {
      "text/html": [
       "<span style=\"color:blue\"> |-tuner/initial_epoch: 0</span>"
      ],
      "text/plain": [
       "<IPython.core.display.HTML object>"
      ]
     },
     "metadata": {},
     "output_type": "display_data"
    },
    {
     "data": {
      "text/html": [
       "<span style=\"color:cyan\"> |-tuner/round: 0</span>"
      ],
      "text/plain": [
       "<IPython.core.display.HTML object>"
      ]
     },
     "metadata": {},
     "output_type": "display_data"
    },
    {
     "name": "stdout",
     "output_type": "stream",
     "text": [
      "Train on 17000 samples, validate on 3000 samples\n",
      "Epoch 1/9\n",
      "17000/17000 - 2s - loss: 0.1506 - mean_squared_error: 0.1506 - val_loss: 0.1017 - val_mean_squared_error: 0.1017\n",
      "Epoch 2/9\n",
      "17000/17000 - 2s - loss: 0.0750 - mean_squared_error: 0.0750 - val_loss: 0.0547 - val_mean_squared_error: 0.0547\n",
      "Epoch 3/9\n",
      "17000/17000 - 2s - loss: 0.0421 - mean_squared_error: 0.0421 - val_loss: 0.0305 - val_mean_squared_error: 0.0305\n",
      "Epoch 4/9\n",
      "17000/17000 - 2s - loss: 0.0230 - mean_squared_error: 0.0230 - val_loss: 0.0163 - val_mean_squared_error: 0.0163\n",
      "Epoch 5/9\n",
      "17000/17000 - 2s - loss: 0.0123 - mean_squared_error: 0.0123 - val_loss: 0.0090 - val_mean_squared_error: 0.0090\n",
      "Epoch 6/9\n",
      "17000/17000 - 2s - loss: 0.0070 - mean_squared_error: 0.0070 - val_loss: 0.0052 - val_mean_squared_error: 0.0052\n",
      "Epoch 7/9\n",
      "17000/17000 - 2s - loss: 0.0042 - mean_squared_error: 0.0042 - val_loss: 0.0033 - val_mean_squared_error: 0.0033\n",
      "Epoch 8/9\n",
      "17000/17000 - 2s - loss: 0.0027 - mean_squared_error: 0.0027 - val_loss: 0.0021 - val_mean_squared_error: 0.0021\n",
      "Epoch 9/9\n",
      "17000/17000 - 2s - loss: 0.0017 - mean_squared_error: 0.0017 - val_loss: 0.0013 - val_mean_squared_error: 0.0013\n"
     ]
    },
    {
     "data": {
      "text/html": [
       "<span style=\"color:#4527A0\"><h1 style=\"font-size:18px\">Trial complete</h1></span>"
      ],
      "text/plain": [
       "<IPython.core.display.HTML object>"
      ]
     },
     "metadata": {},
     "output_type": "display_data"
    },
    {
     "data": {
      "text/html": [
       "<span style=\"color:#4527A0\"><h1 style=\"font-size:18px\">Trial summary</h1></span>"
      ],
      "text/plain": [
       "<IPython.core.display.HTML object>"
      ]
     },
     "metadata": {},
     "output_type": "display_data"
    },
    {
     "data": {
      "text/html": [
       "<span style=\"color:cyan\"> |-Trial ID: 9ff31ea78e2e1d94671086455e660d53</span>"
      ],
      "text/plain": [
       "<IPython.core.display.HTML object>"
      ]
     },
     "metadata": {},
     "output_type": "display_data"
    },
    {
     "data": {
      "text/html": [
       "<span style=\"color:cyan\"> |-Score: 0.0017323397332802415</span>"
      ],
      "text/plain": [
       "<IPython.core.display.HTML object>"
      ]
     },
     "metadata": {},
     "output_type": "display_data"
    },
    {
     "data": {
      "text/html": [
       "<span style=\"color:cyan\"> |-Best step: 0</span>"
      ],
      "text/plain": [
       "<IPython.core.display.HTML object>"
      ]
     },
     "metadata": {},
     "output_type": "display_data"
    },
    {
     "data": {
      "text/html": [
       "<span style=\"color:#7E57C2\"><h2 style=\"font-size:16px\">Hyperparameters:</h2></span>"
      ],
      "text/plain": [
       "<IPython.core.display.HTML object>"
      ]
     },
     "metadata": {},
     "output_type": "display_data"
    },
    {
     "data": {
      "text/html": [
       "<span style=\"color:cyan\"> |-hidden_0_units: 298</span>"
      ],
      "text/plain": [
       "<IPython.core.display.HTML object>"
      ]
     },
     "metadata": {},
     "output_type": "display_data"
    },
    {
     "data": {
      "text/html": [
       "<span style=\"color:blue\"> |-hidden_1_units: 42</span>"
      ],
      "text/plain": [
       "<IPython.core.display.HTML object>"
      ]
     },
     "metadata": {},
     "output_type": "display_data"
    },
    {
     "data": {
      "text/html": [
       "<span style=\"color:cyan\"> |-hidden_2_units: 277</span>"
      ],
      "text/plain": [
       "<IPython.core.display.HTML object>"
      ]
     },
     "metadata": {},
     "output_type": "display_data"
    },
    {
     "data": {
      "text/html": [
       "<span style=\"color:blue\"> |-learning_rate: 0.0001</span>"
      ],
      "text/plain": [
       "<IPython.core.display.HTML object>"
      ]
     },
     "metadata": {},
     "output_type": "display_data"
    },
    {
     "data": {
      "text/html": [
       "<span style=\"color:cyan\"> |-n_layers: 2</span>"
      ],
      "text/plain": [
       "<IPython.core.display.HTML object>"
      ]
     },
     "metadata": {},
     "output_type": "display_data"
    },
    {
     "data": {
      "text/html": [
       "<span style=\"color:blue\"> |-tuner/bracket: 1</span>"
      ],
      "text/plain": [
       "<IPython.core.display.HTML object>"
      ]
     },
     "metadata": {},
     "output_type": "display_data"
    },
    {
     "data": {
      "text/html": [
       "<span style=\"color:cyan\"> |-tuner/epochs: 9</span>"
      ],
      "text/plain": [
       "<IPython.core.display.HTML object>"
      ]
     },
     "metadata": {},
     "output_type": "display_data"
    },
    {
     "data": {
      "text/html": [
       "<span style=\"color:blue\"> |-tuner/initial_epoch: 0</span>"
      ],
      "text/plain": [
       "<IPython.core.display.HTML object>"
      ]
     },
     "metadata": {},
     "output_type": "display_data"
    },
    {
     "data": {
      "text/html": [
       "<span style=\"color:cyan\"> |-tuner/round: 0</span>"
      ],
      "text/plain": [
       "<IPython.core.display.HTML object>"
      ]
     },
     "metadata": {},
     "output_type": "display_data"
    },
    {
     "name": "stdout",
     "output_type": "stream",
     "text": [
      "Train on 17000 samples, validate on 3000 samples\n",
      "Epoch 1/9\n",
      "17000/17000 - 2s - loss: 0.1533 - mean_squared_error: 0.1533 - val_loss: 0.1129 - val_mean_squared_error: 0.1129\n",
      "Epoch 2/9\n",
      "17000/17000 - 1s - loss: 0.0828 - mean_squared_error: 0.0828 - val_loss: 0.0566 - val_mean_squared_error: 0.0566\n",
      "Epoch 3/9\n",
      "17000/17000 - 1s - loss: 0.0418 - mean_squared_error: 0.0418 - val_loss: 0.0287 - val_mean_squared_error: 0.0287\n",
      "Epoch 4/9\n",
      "17000/17000 - 2s - loss: 0.0211 - mean_squared_error: 0.0211 - val_loss: 0.0144 - val_mean_squared_error: 0.0144\n",
      "Epoch 5/9\n",
      "17000/17000 - 2s - loss: 0.0106 - mean_squared_error: 0.0106 - val_loss: 0.0074 - val_mean_squared_error: 0.0074\n",
      "Epoch 6/9\n",
      "17000/17000 - 1s - loss: 0.0056 - mean_squared_error: 0.0056 - val_loss: 0.0040 - val_mean_squared_error: 0.0040\n",
      "Epoch 7/9\n",
      "17000/17000 - 1s - loss: 0.0032 - mean_squared_error: 0.0032 - val_loss: 0.0024 - val_mean_squared_error: 0.0024\n",
      "Epoch 8/9\n",
      "17000/17000 - 1s - loss: 0.0020 - mean_squared_error: 0.0020 - val_loss: 0.0015 - val_mean_squared_error: 0.0015\n",
      "Epoch 9/9\n",
      "17000/17000 - 2s - loss: 0.0013 - mean_squared_error: 0.0013 - val_loss: 0.0011 - val_mean_squared_error: 0.0011\n"
     ]
    },
    {
     "data": {
      "text/html": [
       "<span style=\"color:#4527A0\"><h1 style=\"font-size:18px\">Trial complete</h1></span>"
      ],
      "text/plain": [
       "<IPython.core.display.HTML object>"
      ]
     },
     "metadata": {},
     "output_type": "display_data"
    },
    {
     "data": {
      "text/html": [
       "<span style=\"color:#4527A0\"><h1 style=\"font-size:18px\">Trial summary</h1></span>"
      ],
      "text/plain": [
       "<IPython.core.display.HTML object>"
      ]
     },
     "metadata": {},
     "output_type": "display_data"
    },
    {
     "data": {
      "text/html": [
       "<span style=\"color:cyan\"> |-Trial ID: f33983b683fe33e8d0be423a7042cc16</span>"
      ],
      "text/plain": [
       "<IPython.core.display.HTML object>"
      ]
     },
     "metadata": {},
     "output_type": "display_data"
    },
    {
     "data": {
      "text/html": [
       "<span style=\"color:cyan\"> |-Score: 0.0013119821669533849</span>"
      ],
      "text/plain": [
       "<IPython.core.display.HTML object>"
      ]
     },
     "metadata": {},
     "output_type": "display_data"
    },
    {
     "data": {
      "text/html": [
       "<span style=\"color:cyan\"> |-Best step: 0</span>"
      ],
      "text/plain": [
       "<IPython.core.display.HTML object>"
      ]
     },
     "metadata": {},
     "output_type": "display_data"
    },
    {
     "data": {
      "text/html": [
       "<span style=\"color:#7E57C2\"><h2 style=\"font-size:16px\">Hyperparameters:</h2></span>"
      ],
      "text/plain": [
       "<IPython.core.display.HTML object>"
      ]
     },
     "metadata": {},
     "output_type": "display_data"
    },
    {
     "data": {
      "text/html": [
       "<span style=\"color:cyan\"> |-hidden_0_units: 271</span>"
      ],
      "text/plain": [
       "<IPython.core.display.HTML object>"
      ]
     },
     "metadata": {},
     "output_type": "display_data"
    },
    {
     "data": {
      "text/html": [
       "<span style=\"color:blue\"> |-hidden_1_units: 219</span>"
      ],
      "text/plain": [
       "<IPython.core.display.HTML object>"
      ]
     },
     "metadata": {},
     "output_type": "display_data"
    },
    {
     "data": {
      "text/html": [
       "<span style=\"color:cyan\"> |-hidden_2_units: 68</span>"
      ],
      "text/plain": [
       "<IPython.core.display.HTML object>"
      ]
     },
     "metadata": {},
     "output_type": "display_data"
    },
    {
     "data": {
      "text/html": [
       "<span style=\"color:blue\"> |-learning_rate: 0.0001</span>"
      ],
      "text/plain": [
       "<IPython.core.display.HTML object>"
      ]
     },
     "metadata": {},
     "output_type": "display_data"
    },
    {
     "data": {
      "text/html": [
       "<span style=\"color:cyan\"> |-n_layers: 1</span>"
      ],
      "text/plain": [
       "<IPython.core.display.HTML object>"
      ]
     },
     "metadata": {},
     "output_type": "display_data"
    },
    {
     "data": {
      "text/html": [
       "<span style=\"color:blue\"> |-tuner/bracket: 1</span>"
      ],
      "text/plain": [
       "<IPython.core.display.HTML object>"
      ]
     },
     "metadata": {},
     "output_type": "display_data"
    },
    {
     "data": {
      "text/html": [
       "<span style=\"color:cyan\"> |-tuner/epochs: 9</span>"
      ],
      "text/plain": [
       "<IPython.core.display.HTML object>"
      ]
     },
     "metadata": {},
     "output_type": "display_data"
    },
    {
     "data": {
      "text/html": [
       "<span style=\"color:blue\"> |-tuner/initial_epoch: 0</span>"
      ],
      "text/plain": [
       "<IPython.core.display.HTML object>"
      ]
     },
     "metadata": {},
     "output_type": "display_data"
    },
    {
     "data": {
      "text/html": [
       "<span style=\"color:cyan\"> |-tuner/round: 0</span>"
      ],
      "text/plain": [
       "<IPython.core.display.HTML object>"
      ]
     },
     "metadata": {},
     "output_type": "display_data"
    },
    {
     "name": "stdout",
     "output_type": "stream",
     "text": [
      "Train on 17000 samples, validate on 3000 samples\n",
      "Epoch 1/9\n",
      "17000/17000 - 3s - loss: 0.0222 - mean_squared_error: 0.0222 - val_loss: 4.6972e-04 - val_mean_squared_error: 4.6972e-04\n",
      "Epoch 2/9\n",
      "17000/17000 - 2s - loss: 4.3734e-04 - mean_squared_error: 4.3734e-04 - val_loss: 3.6661e-04 - val_mean_squared_error: 3.6661e-04\n",
      "Epoch 3/9\n",
      "17000/17000 - 2s - loss: 4.0272e-04 - mean_squared_error: 4.0272e-04 - val_loss: 4.1686e-04 - val_mean_squared_error: 4.1686e-04\n",
      "Epoch 4/9\n",
      "17000/17000 - 2s - loss: 4.2943e-04 - mean_squared_error: 4.2943e-04 - val_loss: 3.3582e-04 - val_mean_squared_error: 3.3582e-04\n",
      "Epoch 5/9\n",
      "17000/17000 - 2s - loss: 4.1632e-04 - mean_squared_error: 4.1632e-04 - val_loss: 3.9067e-04 - val_mean_squared_error: 3.9067e-04\n",
      "Epoch 6/9\n",
      "17000/17000 - 2s - loss: 4.2240e-04 - mean_squared_error: 4.2240e-04 - val_loss: 4.2640e-04 - val_mean_squared_error: 4.2640e-04\n",
      "Epoch 7/9\n",
      "17000/17000 - 2s - loss: 4.3816e-04 - mean_squared_error: 4.3816e-04 - val_loss: 4.1187e-04 - val_mean_squared_error: 4.1187e-04\n",
      "Epoch 8/9\n",
      "17000/17000 - 2s - loss: 4.4491e-04 - mean_squared_error: 4.4491e-04 - val_loss: 4.1382e-04 - val_mean_squared_error: 4.1382e-04\n"
     ]
    },
    {
     "data": {
      "text/html": [
       "<span style=\"color:#4527A0\"><h1 style=\"font-size:18px\">Trial complete</h1></span>"
      ],
      "text/plain": [
       "<IPython.core.display.HTML object>"
      ]
     },
     "metadata": {},
     "output_type": "display_data"
    },
    {
     "data": {
      "text/html": [
       "<span style=\"color:#4527A0\"><h1 style=\"font-size:18px\">Trial summary</h1></span>"
      ],
      "text/plain": [
       "<IPython.core.display.HTML object>"
      ]
     },
     "metadata": {},
     "output_type": "display_data"
    },
    {
     "data": {
      "text/html": [
       "<span style=\"color:cyan\"> |-Trial ID: 58b5b3044d2c00bbd3173672c2fadf8d</span>"
      ],
      "text/plain": [
       "<IPython.core.display.HTML object>"
      ]
     },
     "metadata": {},
     "output_type": "display_data"
    },
    {
     "data": {
      "text/html": [
       "<span style=\"color:cyan\"> |-Score: 0.0004027205577585846</span>"
      ],
      "text/plain": [
       "<IPython.core.display.HTML object>"
      ]
     },
     "metadata": {},
     "output_type": "display_data"
    },
    {
     "data": {
      "text/html": [
       "<span style=\"color:cyan\"> |-Best step: 0</span>"
      ],
      "text/plain": [
       "<IPython.core.display.HTML object>"
      ]
     },
     "metadata": {},
     "output_type": "display_data"
    },
    {
     "data": {
      "text/html": [
       "<span style=\"color:#7E57C2\"><h2 style=\"font-size:16px\">Hyperparameters:</h2></span>"
      ],
      "text/plain": [
       "<IPython.core.display.HTML object>"
      ]
     },
     "metadata": {},
     "output_type": "display_data"
    },
    {
     "data": {
      "text/html": [
       "<span style=\"color:cyan\"> |-hidden_0_units: 72</span>"
      ],
      "text/plain": [
       "<IPython.core.display.HTML object>"
      ]
     },
     "metadata": {},
     "output_type": "display_data"
    },
    {
     "data": {
      "text/html": [
       "<span style=\"color:blue\"> |-hidden_1_units: 123</span>"
      ],
      "text/plain": [
       "<IPython.core.display.HTML object>"
      ]
     },
     "metadata": {},
     "output_type": "display_data"
    },
    {
     "data": {
      "text/html": [
       "<span style=\"color:cyan\"> |-hidden_2_units: 261</span>"
      ],
      "text/plain": [
       "<IPython.core.display.HTML object>"
      ]
     },
     "metadata": {},
     "output_type": "display_data"
    },
    {
     "data": {
      "text/html": [
       "<span style=\"color:blue\"> |-learning_rate: 0.001</span>"
      ],
      "text/plain": [
       "<IPython.core.display.HTML object>"
      ]
     },
     "metadata": {},
     "output_type": "display_data"
    },
    {
     "data": {
      "text/html": [
       "<span style=\"color:cyan\"> |-n_layers: 3</span>"
      ],
      "text/plain": [
       "<IPython.core.display.HTML object>"
      ]
     },
     "metadata": {},
     "output_type": "display_data"
    },
    {
     "data": {
      "text/html": [
       "<span style=\"color:blue\"> |-tuner/bracket: 1</span>"
      ],
      "text/plain": [
       "<IPython.core.display.HTML object>"
      ]
     },
     "metadata": {},
     "output_type": "display_data"
    },
    {
     "data": {
      "text/html": [
       "<span style=\"color:cyan\"> |-tuner/epochs: 9</span>"
      ],
      "text/plain": [
       "<IPython.core.display.HTML object>"
      ]
     },
     "metadata": {},
     "output_type": "display_data"
    },
    {
     "data": {
      "text/html": [
       "<span style=\"color:blue\"> |-tuner/initial_epoch: 0</span>"
      ],
      "text/plain": [
       "<IPython.core.display.HTML object>"
      ]
     },
     "metadata": {},
     "output_type": "display_data"
    },
    {
     "data": {
      "text/html": [
       "<span style=\"color:cyan\"> |-tuner/round: 0</span>"
      ],
      "text/plain": [
       "<IPython.core.display.HTML object>"
      ]
     },
     "metadata": {},
     "output_type": "display_data"
    },
    {
     "name": "stdout",
     "output_type": "stream",
     "text": [
      "Train on 17000 samples, validate on 3000 samples\n",
      "Epoch 1/9\n",
      "17000/17000 - 2s - loss: 0.1297 - mean_squared_error: 0.1297 - val_loss: 0.0720 - val_mean_squared_error: 0.0720\n",
      "Epoch 2/9\n",
      "17000/17000 - 2s - loss: 0.0462 - mean_squared_error: 0.0462 - val_loss: 0.0262 - val_mean_squared_error: 0.0262\n",
      "Epoch 3/9\n",
      "17000/17000 - 2s - loss: 0.0161 - mean_squared_error: 0.0161 - val_loss: 0.0087 - val_mean_squared_error: 0.0087\n",
      "Epoch 4/9\n",
      "17000/17000 - 2s - loss: 0.0055 - mean_squared_error: 0.0055 - val_loss: 0.0032 - val_mean_squared_error: 0.0032\n",
      "Epoch 5/9\n",
      "17000/17000 - 2s - loss: 0.0022 - mean_squared_error: 0.0022 - val_loss: 0.0015 - val_mean_squared_error: 0.0015\n",
      "Epoch 6/9\n",
      "17000/17000 - 2s - loss: 0.0011 - mean_squared_error: 0.0011 - val_loss: 8.4090e-04 - val_mean_squared_error: 8.4090e-04\n",
      "Epoch 7/9\n",
      "17000/17000 - 2s - loss: 7.2132e-04 - mean_squared_error: 7.2132e-04 - val_loss: 5.8927e-04 - val_mean_squared_error: 5.8927e-04\n",
      "Epoch 8/9\n",
      "17000/17000 - 2s - loss: 5.4022e-04 - mean_squared_error: 5.4022e-04 - val_loss: 4.6917e-04 - val_mean_squared_error: 4.6917e-04\n",
      "Epoch 9/9\n",
      "17000/17000 - 2s - loss: 4.4984e-04 - mean_squared_error: 4.4984e-04 - val_loss: 4.0215e-04 - val_mean_squared_error: 4.0215e-04\n"
     ]
    },
    {
     "data": {
      "text/html": [
       "<span style=\"color:#4527A0\"><h1 style=\"font-size:18px\">Trial complete</h1></span>"
      ],
      "text/plain": [
       "<IPython.core.display.HTML object>"
      ]
     },
     "metadata": {},
     "output_type": "display_data"
    },
    {
     "data": {
      "text/html": [
       "<span style=\"color:#4527A0\"><h1 style=\"font-size:18px\">Trial summary</h1></span>"
      ],
      "text/plain": [
       "<IPython.core.display.HTML object>"
      ]
     },
     "metadata": {},
     "output_type": "display_data"
    },
    {
     "data": {
      "text/html": [
       "<span style=\"color:cyan\"> |-Trial ID: a82fc986b322adf7cd70338a40e686cf</span>"
      ],
      "text/plain": [
       "<IPython.core.display.HTML object>"
      ]
     },
     "metadata": {},
     "output_type": "display_data"
    },
    {
     "data": {
      "text/html": [
       "<span style=\"color:cyan\"> |-Score: 0.00044983820407651365</span>"
      ],
      "text/plain": [
       "<IPython.core.display.HTML object>"
      ]
     },
     "metadata": {},
     "output_type": "display_data"
    },
    {
     "data": {
      "text/html": [
       "<span style=\"color:cyan\"> |-Best step: 0</span>"
      ],
      "text/plain": [
       "<IPython.core.display.HTML object>"
      ]
     },
     "metadata": {},
     "output_type": "display_data"
    },
    {
     "data": {
      "text/html": [
       "<span style=\"color:#7E57C2\"><h2 style=\"font-size:16px\">Hyperparameters:</h2></span>"
      ],
      "text/plain": [
       "<IPython.core.display.HTML object>"
      ]
     },
     "metadata": {},
     "output_type": "display_data"
    },
    {
     "data": {
      "text/html": [
       "<span style=\"color:cyan\"> |-hidden_0_units: 103</span>"
      ],
      "text/plain": [
       "<IPython.core.display.HTML object>"
      ]
     },
     "metadata": {},
     "output_type": "display_data"
    },
    {
     "data": {
      "text/html": [
       "<span style=\"color:blue\"> |-hidden_1_units: 287</span>"
      ],
      "text/plain": [
       "<IPython.core.display.HTML object>"
      ]
     },
     "metadata": {},
     "output_type": "display_data"
    },
    {
     "data": {
      "text/html": [
       "<span style=\"color:cyan\"> |-hidden_2_units: 27</span>"
      ],
      "text/plain": [
       "<IPython.core.display.HTML object>"
      ]
     },
     "metadata": {},
     "output_type": "display_data"
    },
    {
     "data": {
      "text/html": [
       "<span style=\"color:blue\"> |-learning_rate: 0.0001</span>"
      ],
      "text/plain": [
       "<IPython.core.display.HTML object>"
      ]
     },
     "metadata": {},
     "output_type": "display_data"
    },
    {
     "data": {
      "text/html": [
       "<span style=\"color:cyan\"> |-n_layers: 2</span>"
      ],
      "text/plain": [
       "<IPython.core.display.HTML object>"
      ]
     },
     "metadata": {},
     "output_type": "display_data"
    },
    {
     "data": {
      "text/html": [
       "<span style=\"color:blue\"> |-tuner/bracket: 1</span>"
      ],
      "text/plain": [
       "<IPython.core.display.HTML object>"
      ]
     },
     "metadata": {},
     "output_type": "display_data"
    },
    {
     "data": {
      "text/html": [
       "<span style=\"color:cyan\"> |-tuner/epochs: 9</span>"
      ],
      "text/plain": [
       "<IPython.core.display.HTML object>"
      ]
     },
     "metadata": {},
     "output_type": "display_data"
    },
    {
     "data": {
      "text/html": [
       "<span style=\"color:blue\"> |-tuner/initial_epoch: 0</span>"
      ],
      "text/plain": [
       "<IPython.core.display.HTML object>"
      ]
     },
     "metadata": {},
     "output_type": "display_data"
    },
    {
     "data": {
      "text/html": [
       "<span style=\"color:cyan\"> |-tuner/round: 0</span>"
      ],
      "text/plain": [
       "<IPython.core.display.HTML object>"
      ]
     },
     "metadata": {},
     "output_type": "display_data"
    },
    {
     "name": "stdout",
     "output_type": "stream",
     "text": [
      "Train on 17000 samples, validate on 3000 samples\n",
      "Epoch 10/25\n",
      "17000/17000 - 3s - loss: 0.0208 - mean_squared_error: 0.0208 - val_loss: 4.1972e-04 - val_mean_squared_error: 4.1972e-04\n",
      "Epoch 11/25\n",
      "17000/17000 - 2s - loss: 4.6179e-04 - mean_squared_error: 4.6179e-04 - val_loss: 8.2694e-04 - val_mean_squared_error: 8.2694e-04\n",
      "Epoch 12/25\n",
      "17000/17000 - 2s - loss: 4.0615e-04 - mean_squared_error: 4.0615e-04 - val_loss: 3.6802e-04 - val_mean_squared_error: 3.6802e-04\n",
      "Epoch 13/25\n",
      "17000/17000 - 2s - loss: 4.0439e-04 - mean_squared_error: 4.0439e-04 - val_loss: 3.7587e-04 - val_mean_squared_error: 3.7587e-04\n",
      "Epoch 14/25\n",
      "17000/17000 - 2s - loss: 4.3346e-04 - mean_squared_error: 4.3346e-04 - val_loss: 3.9087e-04 - val_mean_squared_error: 3.9087e-04\n",
      "Epoch 15/25\n",
      "17000/17000 - 2s - loss: 4.3524e-04 - mean_squared_error: 4.3524e-04 - val_loss: 4.0150e-04 - val_mean_squared_error: 4.0150e-04\n",
      "Epoch 16/25\n",
      "17000/17000 - 2s - loss: 4.5238e-04 - mean_squared_error: 4.5238e-04 - val_loss: 3.9982e-04 - val_mean_squared_error: 3.9982e-04\n",
      "Epoch 17/25\n",
      "17000/17000 - 2s - loss: 4.6948e-04 - mean_squared_error: 4.6948e-04 - val_loss: 5.0425e-04 - val_mean_squared_error: 5.0425e-04\n",
      "Epoch 18/25\n",
      "17000/17000 - 2s - loss: 4.5265e-04 - mean_squared_error: 4.5265e-04 - val_loss: 4.0227e-04 - val_mean_squared_error: 4.0227e-04\n"
     ]
    },
    {
     "data": {
      "text/html": [
       "<span style=\"color:#4527A0\"><h1 style=\"font-size:18px\">Trial complete</h1></span>"
      ],
      "text/plain": [
       "<IPython.core.display.HTML object>"
      ]
     },
     "metadata": {},
     "output_type": "display_data"
    },
    {
     "data": {
      "text/html": [
       "<span style=\"color:#4527A0\"><h1 style=\"font-size:18px\">Trial summary</h1></span>"
      ],
      "text/plain": [
       "<IPython.core.display.HTML object>"
      ]
     },
     "metadata": {},
     "output_type": "display_data"
    },
    {
     "data": {
      "text/html": [
       "<span style=\"color:cyan\"> |-Trial ID: 6c778e5cf0ef1236219a6a8214ba175a</span>"
      ],
      "text/plain": [
       "<IPython.core.display.HTML object>"
      ]
     },
     "metadata": {},
     "output_type": "display_data"
    },
    {
     "data": {
      "text/html": [
       "<span style=\"color:cyan\"> |-Score: 0.0004043854132760316</span>"
      ],
      "text/plain": [
       "<IPython.core.display.HTML object>"
      ]
     },
     "metadata": {},
     "output_type": "display_data"
    },
    {
     "data": {
      "text/html": [
       "<span style=\"color:cyan\"> |-Best step: 0</span>"
      ],
      "text/plain": [
       "<IPython.core.display.HTML object>"
      ]
     },
     "metadata": {},
     "output_type": "display_data"
    },
    {
     "data": {
      "text/html": [
       "<span style=\"color:#7E57C2\"><h2 style=\"font-size:16px\">Hyperparameters:</h2></span>"
      ],
      "text/plain": [
       "<IPython.core.display.HTML object>"
      ]
     },
     "metadata": {},
     "output_type": "display_data"
    },
    {
     "data": {
      "text/html": [
       "<span style=\"color:cyan\"> |-hidden_0_units: 72</span>"
      ],
      "text/plain": [
       "<IPython.core.display.HTML object>"
      ]
     },
     "metadata": {},
     "output_type": "display_data"
    },
    {
     "data": {
      "text/html": [
       "<span style=\"color:blue\"> |-hidden_1_units: 123</span>"
      ],
      "text/plain": [
       "<IPython.core.display.HTML object>"
      ]
     },
     "metadata": {},
     "output_type": "display_data"
    },
    {
     "data": {
      "text/html": [
       "<span style=\"color:cyan\"> |-hidden_2_units: 261</span>"
      ],
      "text/plain": [
       "<IPython.core.display.HTML object>"
      ]
     },
     "metadata": {},
     "output_type": "display_data"
    },
    {
     "data": {
      "text/html": [
       "<span style=\"color:blue\"> |-learning_rate: 0.001</span>"
      ],
      "text/plain": [
       "<IPython.core.display.HTML object>"
      ]
     },
     "metadata": {},
     "output_type": "display_data"
    },
    {
     "data": {
      "text/html": [
       "<span style=\"color:cyan\"> |-n_layers: 3</span>"
      ],
      "text/plain": [
       "<IPython.core.display.HTML object>"
      ]
     },
     "metadata": {},
     "output_type": "display_data"
    },
    {
     "data": {
      "text/html": [
       "<span style=\"color:blue\"> |-tuner/bracket: 1</span>"
      ],
      "text/plain": [
       "<IPython.core.display.HTML object>"
      ]
     },
     "metadata": {},
     "output_type": "display_data"
    },
    {
     "data": {
      "text/html": [
       "<span style=\"color:cyan\"> |-tuner/epochs: 25</span>"
      ],
      "text/plain": [
       "<IPython.core.display.HTML object>"
      ]
     },
     "metadata": {},
     "output_type": "display_data"
    },
    {
     "data": {
      "text/html": [
       "<span style=\"color:blue\"> |-tuner/initial_epoch: 9</span>"
      ],
      "text/plain": [
       "<IPython.core.display.HTML object>"
      ]
     },
     "metadata": {},
     "output_type": "display_data"
    },
    {
     "data": {
      "text/html": [
       "<span style=\"color:cyan\"> |-tuner/round: 1</span>"
      ],
      "text/plain": [
       "<IPython.core.display.HTML object>"
      ]
     },
     "metadata": {},
     "output_type": "display_data"
    },
    {
     "data": {
      "text/html": [
       "<span style=\"color:blue\"> |-tuner/trial_id: 58b5b3044d2c00bbd3173672c2fadf8d</span>"
      ],
      "text/plain": [
       "<IPython.core.display.HTML object>"
      ]
     },
     "metadata": {},
     "output_type": "display_data"
    },
    {
     "name": "stdout",
     "output_type": "stream",
     "text": [
      "Train on 17000 samples, validate on 3000 samples\n",
      "Epoch 10/25\n",
      "17000/17000 - 3s - loss: 0.1295 - mean_squared_error: 0.1295 - val_loss: 0.0716 - val_mean_squared_error: 0.0716\n",
      "Epoch 11/25\n",
      "17000/17000 - 2s - loss: 0.0451 - mean_squared_error: 0.0451 - val_loss: 0.0248 - val_mean_squared_error: 0.0248\n",
      "Epoch 12/25\n",
      "17000/17000 - 2s - loss: 0.0151 - mean_squared_error: 0.0151 - val_loss: 0.0079 - val_mean_squared_error: 0.0079\n",
      "Epoch 13/25\n",
      "17000/17000 - 2s - loss: 0.0050 - mean_squared_error: 0.0050 - val_loss: 0.0029 - val_mean_squared_error: 0.0029\n",
      "Epoch 14/25\n",
      "17000/17000 - 2s - loss: 0.0020 - mean_squared_error: 0.0020 - val_loss: 0.0014 - val_mean_squared_error: 0.0014\n",
      "Epoch 15/25\n",
      "17000/17000 - 2s - loss: 0.0011 - mean_squared_error: 0.0011 - val_loss: 8.0884e-04 - val_mean_squared_error: 8.0884e-04\n",
      "Epoch 16/25\n",
      "17000/17000 - 2s - loss: 6.9855e-04 - mean_squared_error: 6.9855e-04 - val_loss: 6.0554e-04 - val_mean_squared_error: 6.0554e-04\n",
      "Epoch 17/25\n",
      "17000/17000 - 2s - loss: 5.3302e-04 - mean_squared_error: 5.3302e-04 - val_loss: 4.5915e-04 - val_mean_squared_error: 4.5915e-04\n",
      "Epoch 18/25\n",
      "17000/17000 - 2s - loss: 4.4163e-04 - mean_squared_error: 4.4163e-04 - val_loss: 3.9335e-04 - val_mean_squared_error: 3.9335e-04\n",
      "Epoch 19/25\n",
      "17000/17000 - 2s - loss: 3.9445e-04 - mean_squared_error: 3.9445e-04 - val_loss: 3.5609e-04 - val_mean_squared_error: 3.5609e-04\n",
      "Epoch 20/25\n",
      "17000/17000 - 2s - loss: 3.6194e-04 - mean_squared_error: 3.6194e-04 - val_loss: 3.3102e-04 - val_mean_squared_error: 3.3102e-04\n",
      "Epoch 21/25\n",
      "17000/17000 - 2s - loss: 3.4059e-04 - mean_squared_error: 3.4059e-04 - val_loss: 3.1947e-04 - val_mean_squared_error: 3.1947e-04\n",
      "Epoch 22/25\n",
      "17000/17000 - 2s - loss: 3.3011e-04 - mean_squared_error: 3.3011e-04 - val_loss: 3.2698e-04 - val_mean_squared_error: 3.2698e-04\n",
      "Epoch 23/25\n",
      "17000/17000 - 2s - loss: 3.2156e-04 - mean_squared_error: 3.2156e-04 - val_loss: 3.0418e-04 - val_mean_squared_error: 3.0418e-04\n",
      "Epoch 24/25\n",
      "17000/17000 - 2s - loss: 3.1775e-04 - mean_squared_error: 3.1775e-04 - val_loss: 3.0895e-04 - val_mean_squared_error: 3.0895e-04\n",
      "Epoch 25/25\n",
      "17000/17000 - 2s - loss: 3.1685e-04 - mean_squared_error: 3.1685e-04 - val_loss: 2.9027e-04 - val_mean_squared_error: 2.9027e-04\n"
     ]
    },
    {
     "data": {
      "text/html": [
       "<span style=\"color:#4527A0\"><h1 style=\"font-size:18px\">Trial complete</h1></span>"
      ],
      "text/plain": [
       "<IPython.core.display.HTML object>"
      ]
     },
     "metadata": {},
     "output_type": "display_data"
    },
    {
     "data": {
      "text/html": [
       "<span style=\"color:#4527A0\"><h1 style=\"font-size:18px\">Trial summary</h1></span>"
      ],
      "text/plain": [
       "<IPython.core.display.HTML object>"
      ]
     },
     "metadata": {},
     "output_type": "display_data"
    },
    {
     "data": {
      "text/html": [
       "<span style=\"color:cyan\"> |-Trial ID: af0256101bca3c6290caed2120fe0a36</span>"
      ],
      "text/plain": [
       "<IPython.core.display.HTML object>"
      ]
     },
     "metadata": {},
     "output_type": "display_data"
    },
    {
     "data": {
      "text/html": [
       "<span style=\"color:cyan\"> |-Score: 0.00031684551504440606</span>"
      ],
      "text/plain": [
       "<IPython.core.display.HTML object>"
      ]
     },
     "metadata": {},
     "output_type": "display_data"
    },
    {
     "data": {
      "text/html": [
       "<span style=\"color:cyan\"> |-Best step: 0</span>"
      ],
      "text/plain": [
       "<IPython.core.display.HTML object>"
      ]
     },
     "metadata": {},
     "output_type": "display_data"
    },
    {
     "data": {
      "text/html": [
       "<span style=\"color:#7E57C2\"><h2 style=\"font-size:16px\">Hyperparameters:</h2></span>"
      ],
      "text/plain": [
       "<IPython.core.display.HTML object>"
      ]
     },
     "metadata": {},
     "output_type": "display_data"
    },
    {
     "data": {
      "text/html": [
       "<span style=\"color:cyan\"> |-hidden_0_units: 103</span>"
      ],
      "text/plain": [
       "<IPython.core.display.HTML object>"
      ]
     },
     "metadata": {},
     "output_type": "display_data"
    },
    {
     "data": {
      "text/html": [
       "<span style=\"color:blue\"> |-hidden_1_units: 287</span>"
      ],
      "text/plain": [
       "<IPython.core.display.HTML object>"
      ]
     },
     "metadata": {},
     "output_type": "display_data"
    },
    {
     "data": {
      "text/html": [
       "<span style=\"color:cyan\"> |-hidden_2_units: 27</span>"
      ],
      "text/plain": [
       "<IPython.core.display.HTML object>"
      ]
     },
     "metadata": {},
     "output_type": "display_data"
    },
    {
     "data": {
      "text/html": [
       "<span style=\"color:blue\"> |-learning_rate: 0.0001</span>"
      ],
      "text/plain": [
       "<IPython.core.display.HTML object>"
      ]
     },
     "metadata": {},
     "output_type": "display_data"
    },
    {
     "data": {
      "text/html": [
       "<span style=\"color:cyan\"> |-n_layers: 2</span>"
      ],
      "text/plain": [
       "<IPython.core.display.HTML object>"
      ]
     },
     "metadata": {},
     "output_type": "display_data"
    },
    {
     "data": {
      "text/html": [
       "<span style=\"color:blue\"> |-tuner/bracket: 1</span>"
      ],
      "text/plain": [
       "<IPython.core.display.HTML object>"
      ]
     },
     "metadata": {},
     "output_type": "display_data"
    },
    {
     "data": {
      "text/html": [
       "<span style=\"color:cyan\"> |-tuner/epochs: 25</span>"
      ],
      "text/plain": [
       "<IPython.core.display.HTML object>"
      ]
     },
     "metadata": {},
     "output_type": "display_data"
    },
    {
     "data": {
      "text/html": [
       "<span style=\"color:blue\"> |-tuner/initial_epoch: 9</span>"
      ],
      "text/plain": [
       "<IPython.core.display.HTML object>"
      ]
     },
     "metadata": {},
     "output_type": "display_data"
    },
    {
     "data": {
      "text/html": [
       "<span style=\"color:cyan\"> |-tuner/round: 1</span>"
      ],
      "text/plain": [
       "<IPython.core.display.HTML object>"
      ]
     },
     "metadata": {},
     "output_type": "display_data"
    },
    {
     "data": {
      "text/html": [
       "<span style=\"color:blue\"> |-tuner/trial_id: a82fc986b322adf7cd70338a40e686cf</span>"
      ],
      "text/plain": [
       "<IPython.core.display.HTML object>"
      ]
     },
     "metadata": {},
     "output_type": "display_data"
    },
    {
     "name": "stdout",
     "output_type": "stream",
     "text": [
      "Train on 17000 samples, validate on 3000 samples\n",
      "Epoch 1/25\n",
      "17000/17000 - 2s - loss: 0.0310 - mean_squared_error: 0.0310 - val_loss: 8.0817e-04 - val_mean_squared_error: 8.0817e-04\n",
      "Epoch 2/25\n",
      "17000/17000 - 2s - loss: 5.4515e-04 - mean_squared_error: 5.4515e-04 - val_loss: 3.9321e-04 - val_mean_squared_error: 3.9321e-04\n",
      "Epoch 3/25\n",
      "17000/17000 - 2s - loss: 3.9059e-04 - mean_squared_error: 3.9059e-04 - val_loss: 3.3892e-04 - val_mean_squared_error: 3.3892e-04\n",
      "Epoch 4/25\n",
      "17000/17000 - 2s - loss: 3.7726e-04 - mean_squared_error: 3.7726e-04 - val_loss: 3.6750e-04 - val_mean_squared_error: 3.6750e-04\n",
      "Epoch 5/25\n",
      "17000/17000 - 2s - loss: 3.5920e-04 - mean_squared_error: 3.5920e-04 - val_loss: 3.4872e-04 - val_mean_squared_error: 3.4872e-04\n",
      "Epoch 6/25\n",
      "17000/17000 - 2s - loss: 3.8256e-04 - mean_squared_error: 3.8256e-04 - val_loss: 3.9313e-04 - val_mean_squared_error: 3.9313e-04\n",
      "Epoch 7/25\n",
      "17000/17000 - 2s - loss: 3.7749e-04 - mean_squared_error: 3.7749e-04 - val_loss: 3.2682e-04 - val_mean_squared_error: 3.2682e-04\n",
      "Epoch 8/25\n",
      "17000/17000 - 2s - loss: 3.6467e-04 - mean_squared_error: 3.6467e-04 - val_loss: 3.5571e-04 - val_mean_squared_error: 3.5571e-04\n",
      "Epoch 9/25\n",
      "17000/17000 - 2s - loss: 3.6953e-04 - mean_squared_error: 3.6953e-04 - val_loss: 3.3677e-04 - val_mean_squared_error: 3.3677e-04\n",
      "Epoch 10/25\n",
      "17000/17000 - 2s - loss: 3.7126e-04 - mean_squared_error: 3.7126e-04 - val_loss: 3.3229e-04 - val_mean_squared_error: 3.3229e-04\n"
     ]
    },
    {
     "data": {
      "text/html": [
       "<span style=\"color:#4527A0\"><h1 style=\"font-size:18px\">Trial complete</h1></span>"
      ],
      "text/plain": [
       "<IPython.core.display.HTML object>"
      ]
     },
     "metadata": {},
     "output_type": "display_data"
    },
    {
     "data": {
      "text/html": [
       "<span style=\"color:#4527A0\"><h1 style=\"font-size:18px\">Trial summary</h1></span>"
      ],
      "text/plain": [
       "<IPython.core.display.HTML object>"
      ]
     },
     "metadata": {},
     "output_type": "display_data"
    },
    {
     "data": {
      "text/html": [
       "<span style=\"color:cyan\"> |-Trial ID: 7c8550bc1b020714af1853f771dbe2ad</span>"
      ],
      "text/plain": [
       "<IPython.core.display.HTML object>"
      ]
     },
     "metadata": {},
     "output_type": "display_data"
    },
    {
     "data": {
      "text/html": [
       "<span style=\"color:cyan\"> |-Score: 0.0003592008724808693</span>"
      ],
      "text/plain": [
       "<IPython.core.display.HTML object>"
      ]
     },
     "metadata": {},
     "output_type": "display_data"
    },
    {
     "data": {
      "text/html": [
       "<span style=\"color:cyan\"> |-Best step: 0</span>"
      ],
      "text/plain": [
       "<IPython.core.display.HTML object>"
      ]
     },
     "metadata": {},
     "output_type": "display_data"
    },
    {
     "data": {
      "text/html": [
       "<span style=\"color:#7E57C2\"><h2 style=\"font-size:16px\">Hyperparameters:</h2></span>"
      ],
      "text/plain": [
       "<IPython.core.display.HTML object>"
      ]
     },
     "metadata": {},
     "output_type": "display_data"
    },
    {
     "data": {
      "text/html": [
       "<span style=\"color:cyan\"> |-hidden_0_units: 71</span>"
      ],
      "text/plain": [
       "<IPython.core.display.HTML object>"
      ]
     },
     "metadata": {},
     "output_type": "display_data"
    },
    {
     "data": {
      "text/html": [
       "<span style=\"color:blue\"> |-hidden_1_units: 204</span>"
      ],
      "text/plain": [
       "<IPython.core.display.HTML object>"
      ]
     },
     "metadata": {},
     "output_type": "display_data"
    },
    {
     "data": {
      "text/html": [
       "<span style=\"color:cyan\"> |-hidden_2_units: 128</span>"
      ],
      "text/plain": [
       "<IPython.core.display.HTML object>"
      ]
     },
     "metadata": {},
     "output_type": "display_data"
    },
    {
     "data": {
      "text/html": [
       "<span style=\"color:blue\"> |-learning_rate: 0.001</span>"
      ],
      "text/plain": [
       "<IPython.core.display.HTML object>"
      ]
     },
     "metadata": {},
     "output_type": "display_data"
    },
    {
     "data": {
      "text/html": [
       "<span style=\"color:cyan\"> |-n_layers: 2</span>"
      ],
      "text/plain": [
       "<IPython.core.display.HTML object>"
      ]
     },
     "metadata": {},
     "output_type": "display_data"
    },
    {
     "data": {
      "text/html": [
       "<span style=\"color:blue\"> |-tuner/bracket: 0</span>"
      ],
      "text/plain": [
       "<IPython.core.display.HTML object>"
      ]
     },
     "metadata": {},
     "output_type": "display_data"
    },
    {
     "data": {
      "text/html": [
       "<span style=\"color:cyan\"> |-tuner/epochs: 25</span>"
      ],
      "text/plain": [
       "<IPython.core.display.HTML object>"
      ]
     },
     "metadata": {},
     "output_type": "display_data"
    },
    {
     "data": {
      "text/html": [
       "<span style=\"color:blue\"> |-tuner/initial_epoch: 0</span>"
      ],
      "text/plain": [
       "<IPython.core.display.HTML object>"
      ]
     },
     "metadata": {},
     "output_type": "display_data"
    },
    {
     "data": {
      "text/html": [
       "<span style=\"color:cyan\"> |-tuner/round: 0</span>"
      ],
      "text/plain": [
       "<IPython.core.display.HTML object>"
      ]
     },
     "metadata": {},
     "output_type": "display_data"
    },
    {
     "name": "stdout",
     "output_type": "stream",
     "text": [
      "Train on 17000 samples, validate on 3000 samples\n",
      "Epoch 1/25\n",
      "17000/17000 - 2s - loss: 0.1600 - mean_squared_error: 0.1600 - val_loss: 0.1234 - val_mean_squared_error: 0.1234\n",
      "Epoch 2/25\n",
      "17000/17000 - 2s - loss: 0.1021 - mean_squared_error: 0.1021 - val_loss: 0.0857 - val_mean_squared_error: 0.0857\n",
      "Epoch 3/25\n",
      "17000/17000 - 2s - loss: 0.0786 - mean_squared_error: 0.0786 - val_loss: 0.0701 - val_mean_squared_error: 0.0701\n",
      "Epoch 4/25\n",
      "17000/17000 - 2s - loss: 0.0665 - mean_squared_error: 0.0665 - val_loss: 0.0613 - val_mean_squared_error: 0.0613\n",
      "Epoch 5/25\n",
      "17000/17000 - 2s - loss: 0.0601 - mean_squared_error: 0.0601 - val_loss: 0.0570 - val_mean_squared_error: 0.0570\n",
      "Epoch 6/25\n",
      "17000/17000 - 2s - loss: 0.0571 - mean_squared_error: 0.0571 - val_loss: 0.0553 - val_mean_squared_error: 0.0553\n",
      "Epoch 7/25\n",
      "17000/17000 - 2s - loss: 0.0560 - mean_squared_error: 0.0560 - val_loss: 0.0546 - val_mean_squared_error: 0.0546\n",
      "Epoch 8/25\n",
      "17000/17000 - 2s - loss: 0.0555 - mean_squared_error: 0.0555 - val_loss: 0.0543 - val_mean_squared_error: 0.0543\n",
      "Epoch 9/25\n",
      "17000/17000 - 2s - loss: 0.0552 - mean_squared_error: 0.0552 - val_loss: 0.0542 - val_mean_squared_error: 0.0542\n",
      "Epoch 10/25\n",
      "17000/17000 - 2s - loss: 0.0551 - mean_squared_error: 0.0551 - val_loss: 0.0541 - val_mean_squared_error: 0.0541\n",
      "Epoch 11/25\n",
      "17000/17000 - 2s - loss: 0.0550 - mean_squared_error: 0.0550 - val_loss: 0.0540 - val_mean_squared_error: 0.0540\n",
      "Epoch 12/25\n",
      "17000/17000 - 2s - loss: 0.0549 - mean_squared_error: 0.0549 - val_loss: 0.0540 - val_mean_squared_error: 0.0540\n",
      "Epoch 13/25\n",
      "17000/17000 - 2s - loss: 0.0548 - mean_squared_error: 0.0548 - val_loss: 0.0539 - val_mean_squared_error: 0.0539\n",
      "Epoch 14/25\n",
      "17000/17000 - 2s - loss: 0.0547 - mean_squared_error: 0.0547 - val_loss: 0.0538 - val_mean_squared_error: 0.0538\n",
      "Epoch 15/25\n",
      "17000/17000 - 2s - loss: 0.0547 - mean_squared_error: 0.0547 - val_loss: 0.0538 - val_mean_squared_error: 0.0538\n",
      "Epoch 16/25\n",
      "17000/17000 - 2s - loss: 0.0546 - mean_squared_error: 0.0546 - val_loss: 0.0538 - val_mean_squared_error: 0.0538\n",
      "Epoch 17/25\n",
      "17000/17000 - 2s - loss: 0.0545 - mean_squared_error: 0.0545 - val_loss: 0.0537 - val_mean_squared_error: 0.0537\n",
      "Epoch 18/25\n",
      "17000/17000 - 2s - loss: 0.0545 - mean_squared_error: 0.0545 - val_loss: 0.0537 - val_mean_squared_error: 0.0537\n",
      "Epoch 19/25\n",
      "17000/17000 - 2s - loss: 0.0544 - mean_squared_error: 0.0544 - val_loss: 0.0536 - val_mean_squared_error: 0.0536\n",
      "Epoch 20/25\n",
      "17000/17000 - 2s - loss: 0.0543 - mean_squared_error: 0.0543 - val_loss: 0.0536 - val_mean_squared_error: 0.0536\n",
      "Epoch 21/25\n",
      "17000/17000 - 2s - loss: 0.0543 - mean_squared_error: 0.0543 - val_loss: 0.0536 - val_mean_squared_error: 0.0536\n",
      "Epoch 22/25\n",
      "17000/17000 - 2s - loss: 0.0542 - mean_squared_error: 0.0542 - val_loss: 0.0535 - val_mean_squared_error: 0.0535\n",
      "Epoch 23/25\n",
      "17000/17000 - 2s - loss: 0.0542 - mean_squared_error: 0.0542 - val_loss: 0.0535 - val_mean_squared_error: 0.0535\n",
      "Epoch 24/25\n",
      "17000/17000 - 2s - loss: 0.0541 - mean_squared_error: 0.0541 - val_loss: 0.0535 - val_mean_squared_error: 0.0535\n",
      "Epoch 25/25\n",
      "17000/17000 - 2s - loss: 0.0541 - mean_squared_error: 0.0541 - val_loss: 0.0534 - val_mean_squared_error: 0.0534\n"
     ]
    },
    {
     "data": {
      "text/html": [
       "<span style=\"color:#4527A0\"><h1 style=\"font-size:18px\">Trial complete</h1></span>"
      ],
      "text/plain": [
       "<IPython.core.display.HTML object>"
      ]
     },
     "metadata": {},
     "output_type": "display_data"
    },
    {
     "data": {
      "text/html": [
       "<span style=\"color:#4527A0\"><h1 style=\"font-size:18px\">Trial summary</h1></span>"
      ],
      "text/plain": [
       "<IPython.core.display.HTML object>"
      ]
     },
     "metadata": {},
     "output_type": "display_data"
    },
    {
     "data": {
      "text/html": [
       "<span style=\"color:cyan\"> |-Trial ID: 3169719418954f9e3d2b8b4844c7193b</span>"
      ],
      "text/plain": [
       "<IPython.core.display.HTML object>"
      ]
     },
     "metadata": {},
     "output_type": "display_data"
    },
    {
     "data": {
      "text/html": [
       "<span style=\"color:cyan\"> |-Score: 0.05408356711268425</span>"
      ],
      "text/plain": [
       "<IPython.core.display.HTML object>"
      ]
     },
     "metadata": {},
     "output_type": "display_data"
    },
    {
     "data": {
      "text/html": [
       "<span style=\"color:cyan\"> |-Best step: 0</span>"
      ],
      "text/plain": [
       "<IPython.core.display.HTML object>"
      ]
     },
     "metadata": {},
     "output_type": "display_data"
    },
    {
     "data": {
      "text/html": [
       "<span style=\"color:#7E57C2\"><h2 style=\"font-size:16px\">Hyperparameters:</h2></span>"
      ],
      "text/plain": [
       "<IPython.core.display.HTML object>"
      ]
     },
     "metadata": {},
     "output_type": "display_data"
    },
    {
     "data": {
      "text/html": [
       "<span style=\"color:cyan\"> |-hidden_0_units: 270</span>"
      ],
      "text/plain": [
       "<IPython.core.display.HTML object>"
      ]
     },
     "metadata": {},
     "output_type": "display_data"
    },
    {
     "data": {
      "text/html": [
       "<span style=\"color:blue\"> |-hidden_1_units: 20</span>"
      ],
      "text/plain": [
       "<IPython.core.display.HTML object>"
      ]
     },
     "metadata": {},
     "output_type": "display_data"
    },
    {
     "data": {
      "text/html": [
       "<span style=\"color:cyan\"> |-hidden_2_units: 104</span>"
      ],
      "text/plain": [
       "<IPython.core.display.HTML object>"
      ]
     },
     "metadata": {},
     "output_type": "display_data"
    },
    {
     "data": {
      "text/html": [
       "<span style=\"color:blue\"> |-learning_rate: 0.0001</span>"
      ],
      "text/plain": [
       "<IPython.core.display.HTML object>"
      ]
     },
     "metadata": {},
     "output_type": "display_data"
    },
    {
     "data": {
      "text/html": [
       "<span style=\"color:cyan\"> |-n_layers: 2</span>"
      ],
      "text/plain": [
       "<IPython.core.display.HTML object>"
      ]
     },
     "metadata": {},
     "output_type": "display_data"
    },
    {
     "data": {
      "text/html": [
       "<span style=\"color:blue\"> |-tuner/bracket: 0</span>"
      ],
      "text/plain": [
       "<IPython.core.display.HTML object>"
      ]
     },
     "metadata": {},
     "output_type": "display_data"
    },
    {
     "data": {
      "text/html": [
       "<span style=\"color:cyan\"> |-tuner/epochs: 25</span>"
      ],
      "text/plain": [
       "<IPython.core.display.HTML object>"
      ]
     },
     "metadata": {},
     "output_type": "display_data"
    },
    {
     "data": {
      "text/html": [
       "<span style=\"color:blue\"> |-tuner/initial_epoch: 0</span>"
      ],
      "text/plain": [
       "<IPython.core.display.HTML object>"
      ]
     },
     "metadata": {},
     "output_type": "display_data"
    },
    {
     "data": {
      "text/html": [
       "<span style=\"color:cyan\"> |-tuner/round: 0</span>"
      ],
      "text/plain": [
       "<IPython.core.display.HTML object>"
      ]
     },
     "metadata": {},
     "output_type": "display_data"
    },
    {
     "name": "stdout",
     "output_type": "stream",
     "text": [
      "Train on 17000 samples, validate on 3000 samples\n",
      "Epoch 1/25\n",
      "17000/17000 - 2s - loss: 0.0136 - mean_squared_error: 0.0136 - val_loss: 3.9123e-04 - val_mean_squared_error: 3.9123e-04\n",
      "Epoch 2/25\n",
      "17000/17000 - 1s - loss: 4.9606e-04 - mean_squared_error: 4.9606e-04 - val_loss: 9.1295e-04 - val_mean_squared_error: 9.1295e-04\n",
      "Epoch 3/25\n",
      "17000/17000 - 1s - loss: 4.6104e-04 - mean_squared_error: 4.6104e-04 - val_loss: 3.8637e-04 - val_mean_squared_error: 3.8637e-04\n",
      "Epoch 4/25\n",
      "17000/17000 - 1s - loss: 5.7266e-04 - mean_squared_error: 5.7266e-04 - val_loss: 4.0167e-04 - val_mean_squared_error: 4.0167e-04\n",
      "Epoch 5/25\n",
      "17000/17000 - 1s - loss: 4.3803e-04 - mean_squared_error: 4.3803e-04 - val_loss: 4.6790e-04 - val_mean_squared_error: 4.6790e-04\n",
      "Epoch 6/25\n",
      "17000/17000 - 1s - loss: 4.4985e-04 - mean_squared_error: 4.4985e-04 - val_loss: 4.8155e-04 - val_mean_squared_error: 4.8155e-04\n",
      "Epoch 7/25\n",
      "17000/17000 - 1s - loss: 4.9751e-04 - mean_squared_error: 4.9751e-04 - val_loss: 5.0087e-04 - val_mean_squared_error: 5.0086e-04\n",
      "Epoch 8/25\n",
      "17000/17000 - 1s - loss: 4.6802e-04 - mean_squared_error: 4.6802e-04 - val_loss: 4.0920e-04 - val_mean_squared_error: 4.0920e-04\n",
      "Epoch 9/25\n",
      "17000/17000 - 1s - loss: 5.1814e-04 - mean_squared_error: 5.1814e-04 - val_loss: 6.0849e-04 - val_mean_squared_error: 6.0849e-04\n",
      "Epoch 10/25\n",
      "17000/17000 - 1s - loss: 4.8985e-04 - mean_squared_error: 4.8985e-04 - val_loss: 5.5555e-04 - val_mean_squared_error: 5.5555e-04\n"
     ]
    },
    {
     "data": {
      "text/html": [
       "<span style=\"color:#4527A0\"><h1 style=\"font-size:18px\">Trial complete</h1></span>"
      ],
      "text/plain": [
       "<IPython.core.display.HTML object>"
      ]
     },
     "metadata": {},
     "output_type": "display_data"
    },
    {
     "data": {
      "text/html": [
       "<span style=\"color:#4527A0\"><h1 style=\"font-size:18px\">Trial summary</h1></span>"
      ],
      "text/plain": [
       "<IPython.core.display.HTML object>"
      ]
     },
     "metadata": {},
     "output_type": "display_data"
    },
    {
     "data": {
      "text/html": [
       "<span style=\"color:cyan\"> |-Trial ID: 1e09072578b977df9c6631832d38fd4c</span>"
      ],
      "text/plain": [
       "<IPython.core.display.HTML object>"
      ]
     },
     "metadata": {},
     "output_type": "display_data"
    },
    {
     "data": {
      "text/html": [
       "<span style=\"color:cyan\"> |-Score: 0.000438030285295099</span>"
      ],
      "text/plain": [
       "<IPython.core.display.HTML object>"
      ]
     },
     "metadata": {},
     "output_type": "display_data"
    },
    {
     "data": {
      "text/html": [
       "<span style=\"color:cyan\"> |-Best step: 0</span>"
      ],
      "text/plain": [
       "<IPython.core.display.HTML object>"
      ]
     },
     "metadata": {},
     "output_type": "display_data"
    },
    {
     "data": {
      "text/html": [
       "<span style=\"color:#7E57C2\"><h2 style=\"font-size:16px\">Hyperparameters:</h2></span>"
      ],
      "text/plain": [
       "<IPython.core.display.HTML object>"
      ]
     },
     "metadata": {},
     "output_type": "display_data"
    },
    {
     "data": {
      "text/html": [
       "<span style=\"color:cyan\"> |-hidden_0_units: 50</span>"
      ],
      "text/plain": [
       "<IPython.core.display.HTML object>"
      ]
     },
     "metadata": {},
     "output_type": "display_data"
    },
    {
     "data": {
      "text/html": [
       "<span style=\"color:blue\"> |-hidden_1_units: 166</span>"
      ],
      "text/plain": [
       "<IPython.core.display.HTML object>"
      ]
     },
     "metadata": {},
     "output_type": "display_data"
    },
    {
     "data": {
      "text/html": [
       "<span style=\"color:cyan\"> |-hidden_2_units: 299</span>"
      ],
      "text/plain": [
       "<IPython.core.display.HTML object>"
      ]
     },
     "metadata": {},
     "output_type": "display_data"
    },
    {
     "data": {
      "text/html": [
       "<span style=\"color:blue\"> |-learning_rate: 0.01</span>"
      ],
      "text/plain": [
       "<IPython.core.display.HTML object>"
      ]
     },
     "metadata": {},
     "output_type": "display_data"
    },
    {
     "data": {
      "text/html": [
       "<span style=\"color:cyan\"> |-n_layers: 1</span>"
      ],
      "text/plain": [
       "<IPython.core.display.HTML object>"
      ]
     },
     "metadata": {},
     "output_type": "display_data"
    },
    {
     "data": {
      "text/html": [
       "<span style=\"color:blue\"> |-tuner/bracket: 0</span>"
      ],
      "text/plain": [
       "<IPython.core.display.HTML object>"
      ]
     },
     "metadata": {},
     "output_type": "display_data"
    },
    {
     "data": {
      "text/html": [
       "<span style=\"color:cyan\"> |-tuner/epochs: 25</span>"
      ],
      "text/plain": [
       "<IPython.core.display.HTML object>"
      ]
     },
     "metadata": {},
     "output_type": "display_data"
    },
    {
     "data": {
      "text/html": [
       "<span style=\"color:blue\"> |-tuner/initial_epoch: 0</span>"
      ],
      "text/plain": [
       "<IPython.core.display.HTML object>"
      ]
     },
     "metadata": {},
     "output_type": "display_data"
    },
    {
     "data": {
      "text/html": [
       "<span style=\"color:cyan\"> |-tuner/round: 0</span>"
      ],
      "text/plain": [
       "<IPython.core.display.HTML object>"
      ]
     },
     "metadata": {},
     "output_type": "display_data"
    },
    {
     "name": "stdout",
     "output_type": "stream",
     "text": [
      "Train on 17000 samples, validate on 3000 samples\n",
      "Epoch 1/25\n",
      "17000/17000 - 3s - loss: 0.0501 - mean_squared_error: 0.0501 - val_loss: 0.1327 - val_mean_squared_error: 0.1327\n",
      "Epoch 2/25\n",
      "17000/17000 - 2s - loss: 0.2419 - mean_squared_error: 0.2419 - val_loss: 0.2630 - val_mean_squared_error: 0.2630\n",
      "Epoch 3/25\n",
      "17000/17000 - 2s - loss: 0.3677 - mean_squared_error: 0.3677 - val_loss: 0.3916 - val_mean_squared_error: 0.3916\n",
      "Epoch 4/25\n",
      "17000/17000 - 2s - loss: 0.3882 - mean_squared_error: 0.3882 - val_loss: 0.3916 - val_mean_squared_error: 0.3916\n",
      "Epoch 5/25\n",
      "17000/17000 - 2s - loss: 0.3882 - mean_squared_error: 0.3882 - val_loss: 0.3916 - val_mean_squared_error: 0.3916\n",
      "Epoch 6/25\n",
      "17000/17000 - 2s - loss: 0.3882 - mean_squared_error: 0.3882 - val_loss: 0.3916 - val_mean_squared_error: 0.3916\n"
     ]
    },
    {
     "data": {
      "text/html": [
       "<span style=\"color:#4527A0\"><h1 style=\"font-size:18px\">Trial complete</h1></span>"
      ],
      "text/plain": [
       "<IPython.core.display.HTML object>"
      ]
     },
     "metadata": {},
     "output_type": "display_data"
    },
    {
     "data": {
      "text/html": [
       "<span style=\"color:#4527A0\"><h1 style=\"font-size:18px\">Trial summary</h1></span>"
      ],
      "text/plain": [
       "<IPython.core.display.HTML object>"
      ]
     },
     "metadata": {},
     "output_type": "display_data"
    },
    {
     "data": {
      "text/html": [
       "<span style=\"color:cyan\"> |-Trial ID: 5f022ef46a020a79f1893f32f80d77fb</span>"
      ],
      "text/plain": [
       "<IPython.core.display.HTML object>"
      ]
     },
     "metadata": {},
     "output_type": "display_data"
    },
    {
     "data": {
      "text/html": [
       "<span style=\"color:cyan\"> |-Score: 0.05011478811502457</span>"
      ],
      "text/plain": [
       "<IPython.core.display.HTML object>"
      ]
     },
     "metadata": {},
     "output_type": "display_data"
    },
    {
     "data": {
      "text/html": [
       "<span style=\"color:cyan\"> |-Best step: 0</span>"
      ],
      "text/plain": [
       "<IPython.core.display.HTML object>"
      ]
     },
     "metadata": {},
     "output_type": "display_data"
    },
    {
     "data": {
      "text/html": [
       "<span style=\"color:#7E57C2\"><h2 style=\"font-size:16px\">Hyperparameters:</h2></span>"
      ],
      "text/plain": [
       "<IPython.core.display.HTML object>"
      ]
     },
     "metadata": {},
     "output_type": "display_data"
    },
    {
     "data": {
      "text/html": [
       "<span style=\"color:cyan\"> |-hidden_0_units: 275</span>"
      ],
      "text/plain": [
       "<IPython.core.display.HTML object>"
      ]
     },
     "metadata": {},
     "output_type": "display_data"
    },
    {
     "data": {
      "text/html": [
       "<span style=\"color:blue\"> |-hidden_1_units: 107</span>"
      ],
      "text/plain": [
       "<IPython.core.display.HTML object>"
      ]
     },
     "metadata": {},
     "output_type": "display_data"
    },
    {
     "data": {
      "text/html": [
       "<span style=\"color:cyan\"> |-hidden_2_units: 33</span>"
      ],
      "text/plain": [
       "<IPython.core.display.HTML object>"
      ]
     },
     "metadata": {},
     "output_type": "display_data"
    },
    {
     "data": {
      "text/html": [
       "<span style=\"color:blue\"> |-learning_rate: 0.01</span>"
      ],
      "text/plain": [
       "<IPython.core.display.HTML object>"
      ]
     },
     "metadata": {},
     "output_type": "display_data"
    },
    {
     "data": {
      "text/html": [
       "<span style=\"color:cyan\"> |-n_layers: 3</span>"
      ],
      "text/plain": [
       "<IPython.core.display.HTML object>"
      ]
     },
     "metadata": {},
     "output_type": "display_data"
    },
    {
     "data": {
      "text/html": [
       "<span style=\"color:blue\"> |-tuner/bracket: 0</span>"
      ],
      "text/plain": [
       "<IPython.core.display.HTML object>"
      ]
     },
     "metadata": {},
     "output_type": "display_data"
    },
    {
     "data": {
      "text/html": [
       "<span style=\"color:cyan\"> |-tuner/epochs: 25</span>"
      ],
      "text/plain": [
       "<IPython.core.display.HTML object>"
      ]
     },
     "metadata": {},
     "output_type": "display_data"
    },
    {
     "data": {
      "text/html": [
       "<span style=\"color:blue\"> |-tuner/initial_epoch: 0</span>"
      ],
      "text/plain": [
       "<IPython.core.display.HTML object>"
      ]
     },
     "metadata": {},
     "output_type": "display_data"
    },
    {
     "data": {
      "text/html": [
       "<span style=\"color:cyan\"> |-tuner/round: 0</span>"
      ],
      "text/plain": [
       "<IPython.core.display.HTML object>"
      ]
     },
     "metadata": {},
     "output_type": "display_data"
    },
    {
     "name": "stdout",
     "output_type": "stream",
     "text": [
      "INFO:tensorflow:Oracle triggered exit\n",
      "395.59201097488403\n"
     ]
    }
   ],
   "source": [
    "### SEARCHING FOR THE ANN LAYOUT THAT ACCOMPLISHES THE HYPERPARAMTER GOALS ###\n",
    "\n",
    "start_time = time.time()\n",
    "# tuner.search(X_scale, Y_scale, epochs=50, validation_split=0.15, callbacks=[stop_early], verbose=2)\n",
    "tuner.search(X_scale, Y_scale, validation_split=0.15, callbacks=[stop_early], verbose=2)\n",
    "searching_time = time.time() - start_time\n",
    "print(searching_time)"
   ]
  },
  {
   "cell_type": "code",
   "execution_count": 7,
   "metadata": {},
   "outputs": [
    {
     "name": "stdout",
     "output_type": "stream",
     "text": [
      "\n",
      "The hyperparameter search is complete. The optimal number of hidden layers are 2 and the optimal learning rate for the optimizer\n",
      "is 0.0001.\n",
      "\n",
      "Best epoch: 35\n"
     ]
    }
   ],
   "source": [
    "# Build the model with the optimal hyperparameters and train it on the data for 25 epochs\n",
    "best_hps=tuner.get_best_hyperparameters(num_trials=1)[0]\n",
    "print(f\"\"\"\n",
    "The hyperparameter search is complete. The optimal number of hidden layers are {best_hps.get('n_layers')} and the optimal learning rate for the optimizer\n",
    "is {best_hps.get('learning_rate')}.\n",
    "\"\"\")\n",
    "model = tuner.hypermodel.build(best_hps)\n",
    "history = model.fit(X_scale, Y_scale, epochs=40, shuffle=True, validation_split=0.25, verbose=0)\n",
    "\n",
    "mean_squared_error_per_epoch = history.history['mean_squared_error']\n",
    "best_epoch = mean_squared_error_per_epoch.index(min(mean_squared_error_per_epoch)) + 1\n",
    "print('Best epoch: %d' % (best_epoch,))\n",
    "hypermodel = tuner.hypermodel.build(best_hps)\n",
    "\n",
    "# Retrain the model\n",
    "hypermodel_hist = hypermodel.fit(X_scale, Y_scale, epochs=best_epoch, shuffle=True, validation_split=0.15, verbose=0)"
   ]
  },
  {
   "cell_type": "code",
   "execution_count": 8,
   "metadata": {},
   "outputs": [
    {
     "name": "stdout",
     "output_type": "stream",
     "text": [
      "120/1 [================================================================================================================================================================================================================================================================================================================================================================================================================================================================================================================================================================================================================================================================================================================================================================================================================================================================================================================================================================================================================================================================================================================================================================================================================================================================================================================================================================================================================================================================================================================================================================================================================================================================================================================================================================================================================================================================================================================================================================================================================================================================================================================================================================================================================================================================================================================================================================================================================================================================================================================================================================================================================================================================================================================================================================================================================================================================================================================================================================================================================================================================================================================================================================================================================================================================================================================================================================================================================================================================================================================================================================================================================================================================================================================================================] - 0s 67us/sample - loss: 9.4632e-04 - mean_squared_error: 8.7399e-04\n"
     ]
    }
   ],
   "source": [
    "file_path = '/Users/jackkelly/Desktop/Building_Model/Data/InitialData.csv'\n",
    "X_test, Y_test = processing_data(N_channels, file_path)\n",
    "eval_result = hypermodel.evaluate(X_test, Y_test)"
   ]
  },
  {
   "cell_type": "code",
   "execution_count": 9,
   "metadata": {},
   "outputs": [
    {
     "data": {
      "image/png": "[encoded data removed]",
      "text/plain": [
       "<Figure size 432x288 with 1 Axes>"
      ]
     },
     "metadata": {
      "needs_background": "light"
     },
     "output_type": "display_data"
    }
   ],
   "source": [
    "def visualising_data(hist):\n",
    "    plt.title('Mean Squared Error')\n",
    "    plt.plot(hist.history['mean_squared_error'], label='Train')\n",
    "    plt.plot(hist.history['val_mean_squared_error'], label='Validation')\n",
    "    plt.legend()\n",
    "    plt.show()\n",
    "visualising_data(history)"
   ]
  },
  {
   "cell_type": "code",
   "execution_count": 10,
   "metadata": {},
   "outputs": [
    {
     "name": "stdout",
     "output_type": "stream",
     "text": [
      "Model: \"sequential\"\n",
      "_________________________________________________________________\n",
      "Layer (type)                 Output Shape              Param #   \n",
      "=================================================================\n",
      "dense (Dense)                (None, 103)               4326      \n",
      "_________________________________________________________________\n",
      "dense_1 (Dense)              (None, 287)               29848     \n",
      "_________________________________________________________________\n",
      "dense_2 (Dense)              (None, 40)                11520     \n",
      "=================================================================\n",
      "Total params: 45,694\n",
      "Trainable params: 45,694\n",
      "Non-trainable params: 0\n",
      "_________________________________________________________________\n"
     ]
    }
   ],
   "source": [
    "# shows weights of the ANN\n",
    "# hypermodel.weights\n",
    "hypermodel.summary()\n",
    "# print(hypermodel.metrics_names)"
   ]
  },
  {
   "cell_type": "code",
   "execution_count": 11,
   "metadata": {},
   "outputs": [],
   "source": [
    "# INSERT SOMETHING THAT CALCUALTES ALL MEAN SQUARED ERRORS AND PLOTS ON CDF GRAPH"
   ]
  },
  {
   "cell_type": "code",
   "execution_count": 12,
   "metadata": {},
   "outputs": [],
   "source": [
    "# best_hps.__dict__.keys()\n",
    "# best_hps.__dict__['values']\n",
    "hypermodel.save('/Users/jackkelly/Desktop/Building_Model/Tuned_' + str(N_channels) + '_channels_ANN_model_v2.h5')"
   ]
  },
  {
   "cell_type": "markdown",
   "metadata": {},
   "source": [
    "# Transfer Learning"
   ]
  },
  {
   "cell_type": "code",
   "execution_count": 13,
   "metadata": {},
   "outputs": [],
   "source": [
    "def transfer_learning(model_path):\n",
    "    hypermodel = keras.models.load_model(model_path)\n",
    "    hypermodel.summary()\n",
    "    model = tf.keras.Sequential()\n",
    "    for layer in hypermodel.layers[:-1]: # go through until last layer\n",
    "        layer.trainable=False\n",
    "        model.add(layer)\n",
    "    model.add(keras.layers.Dense(40, activation='sigmoid'))\n",
    "    model.summary()\n",
    "\n",
    "    model.compile(optimizer='adam', loss=keras.losses.MeanSquaredError(), metrics=['mean_squared_error'])\n",
    "    return model"
   ]
  },
  {
   "cell_type": "code",
   "execution_count": 14,
   "metadata": {},
   "outputs": [],
   "source": [
    "# hypermodel = keras.models.load_model('Tuned_' + str(N_channels) + '_channels_ANN_model.h5')"
   ]
  },
  {
   "cell_type": "code",
   "execution_count": 15,
   "metadata": {},
   "outputs": [],
   "source": [
    "# hypermodel.summary()"
   ]
  },
  {
   "cell_type": "code",
   "execution_count": 16,
   "metadata": {},
   "outputs": [],
   "source": [
    "# model = tf.keras.Sequential()\n",
    "# for layer in hypermodel.layers[:-1]: # go through until last layer\n",
    "#     layer.trainable=False\n",
    "#     model.add(layer)\n",
    "# model.add(keras.layers.Dense(40, activation='sigmoid'))\n",
    "# model.summary()\n",
    "\n",
    "# model.compile(optimizer='adam', loss=keras.losses.MeanSquaredError(), metrics=['mean_squared_error'])"
   ]
  },
  {
   "cell_type": "code",
   "execution_count": 17,
   "metadata": {},
   "outputs": [
    {
     "name": "stdout",
     "output_type": "stream",
     "text": [
      "Model: \"sequential\"\n",
      "_________________________________________________________________\n",
      "Layer (type)                 Output Shape              Param #   \n",
      "=================================================================\n",
      "dense (Dense)                (None, 207)               8694      \n",
      "_________________________________________________________________\n",
      "dense_1 (Dense)              (None, 300)               62400     \n",
      "_________________________________________________________________\n",
      "dense_2 (Dense)              (None, 40)                12040     \n",
      "=================================================================\n",
      "Total params: 83,134\n",
      "Trainable params: 83,134\n",
      "Non-trainable params: 0\n",
      "_________________________________________________________________\n",
      "Model: \"sequential_1\"\n",
      "_________________________________________________________________\n",
      "Layer (type)                 Output Shape              Param #   \n",
      "=================================================================\n",
      "dense (Dense)                (None, 207)               8694      \n",
      "_________________________________________________________________\n",
      "dense_1 (Dense)              (None, 300)               62400     \n",
      "_________________________________________________________________\n",
      "dense_3 (Dense)              (None, 40)                12040     \n",
      "=================================================================\n",
      "Total params: 83,134\n",
      "Trainable params: 12,040\n",
      "Non-trainable params: 71,094\n",
      "_________________________________________________________________\n"
     ]
    }
   ],
   "source": [
    "model = transfer_learning('Tuned_' + str(N_channels) + '_channels_ANN_model.h5')\n",
    "N_channels = 40\n",
    "file_path = '/Users/jackkelly/Desktop/Building_Model/Data/40_channels_data_variedlengths_10000.csv'\n",
    "X_scale, Y_scale = processing_data(N_channels, file_path)\n",
    "X_train, X_val_and_test, Y_train, Y_val_and_test = train_test_split(X_scale, Y_scale, test_size=0.3)\n",
    "X_val, X_test, Y_val, Y_test = train_test_split(X_val_and_test, Y_val_and_test, test_size=0.5)"
   ]
  },
  {
   "cell_type": "code",
   "execution_count": 18,
   "metadata": {},
   "outputs": [
    {
     "name": "stdout",
     "output_type": "stream",
     "text": [
      "Train on 7000 samples, validate on 1500 samples\n",
      "Epoch 1/40\n",
      "7000/7000 [==============================] - ETA: 1:22 - loss: 0.2418 - mean_squared_error: 0.24 - ETA: 4s - loss: 0.1925 - mean_squared_error: 0.1925 - ETA: 2s - loss: 0.1606 - mean_squared_error: 0.16 - ETA: 1s - loss: 0.1343 - mean_squared_error: 0.13 - ETA: 0s - loss: 0.1150 - mean_squared_error: 0.11 - ETA: 0s - loss: 0.0994 - mean_squared_error: 0.09 - ETA: 0s - loss: 0.0875 - mean_squared_error: 0.08 - ETA: 0s - loss: 0.0780 - mean_squared_error: 0.07 - ETA: 0s - loss: 0.0701 - mean_squared_error: 0.07 - 1s 184us/sample - loss: 0.0641 - mean_squared_error: 0.0641 - val_loss: 0.0103 - val_mean_squared_error: 0.0103\n",
      "Epoch 2/40\n",
      "7000/7000 [==============================] - ETA: 0s - loss: 0.0096 - mean_squared_error: 0.00 - ETA: 0s - loss: 0.0092 - mean_squared_error: 0.00 - ETA: 0s - loss: 0.0085 - mean_squared_error: 0.00 - ETA: 0s - loss: 0.0078 - mean_squared_error: 0.00 - ETA: 0s - loss: 0.0072 - mean_squared_error: 0.00 - ETA: 0s - loss: 0.0068 - mean_squared_error: 0.00 - ETA: 0s - loss: 0.0064 - mean_squared_error: 0.00 - ETA: 0s - loss: 0.0060 - mean_squared_error: 0.00 - ETA: 0s - loss: 0.0057 - mean_squared_error: 0.00 - ETA: 0s - loss: 0.0054 - mean_squared_error: 0.00 - 1s 88us/sample - loss: 0.0053 - mean_squared_error: 0.0053 - val_loss: 0.0028 - val_mean_squared_error: 0.0028\n",
      "Epoch 3/40\n",
      "7000/7000 [==============================] - ETA: 0s - loss: 0.0029 - mean_squared_error: 0.00 - ETA: 0s - loss: 0.0027 - mean_squared_error: 0.00 - ETA: 0s - loss: 0.0025 - mean_squared_error: 0.00 - ETA: 0s - loss: 0.0024 - mean_squared_error: 0.00 - ETA: 0s - loss: 0.0024 - mean_squared_error: 0.00 - ETA: 0s - loss: 0.0022 - mean_squared_error: 0.00 - ETA: 0s - loss: 0.0022 - mean_squared_error: 0.00 - ETA: 0s - loss: 0.0021 - mean_squared_error: 0.00 - ETA: 0s - loss: 0.0020 - mean_squared_error: 0.00 - ETA: 0s - loss: 0.0020 - mean_squared_error: 0.00 - 1s 91us/sample - loss: 0.0020 - mean_squared_error: 0.0020 - val_loss: 0.0014 - val_mean_squared_error: 0.0014\n",
      "Epoch 4/40\n",
      "7000/7000 [==============================] - ETA: 0s - loss: 0.0012 - mean_squared_error: 0.00 - ETA: 0s - loss: 0.0014 - mean_squared_error: 0.00 - ETA: 0s - loss: 0.0013 - mean_squared_error: 0.00 - ETA: 0s - loss: 0.0013 - mean_squared_error: 0.00 - ETA: 0s - loss: 0.0012 - mean_squared_error: 0.00 - ETA: 0s - loss: 0.0012 - mean_squared_error: 0.00 - ETA: 0s - loss: 0.0012 - mean_squared_error: 0.00 - ETA: 0s - loss: 0.0012 - mean_squared_error: 0.00 - ETA: 0s - loss: 0.0011 - mean_squared_error: 0.00 - 1s 80us/sample - loss: 0.0011 - mean_squared_error: 0.0011 - val_loss: 9.0202e-04 - val_mean_squared_error: 9.0202e-04\n",
      "Epoch 5/40\n",
      "7000/7000 [==============================] - ETA: 0s - loss: 7.4462e-04 - mean_squared_error: 7.4462e- - ETA: 0s - loss: 8.7863e-04 - mean_squared_error: 8.7863e- - ETA: 0s - loss: 8.7501e-04 - mean_squared_error: 8.7501e- - ETA: 0s - loss: 8.6915e-04 - mean_squared_error: 8.6915e- - ETA: 0s - loss: 8.4424e-04 - mean_squared_error: 8.4424e- - ETA: 0s - loss: 8.1244e-04 - mean_squared_error: 8.1244e- - ETA: 0s - loss: 7.9510e-04 - mean_squared_error: 7.9510e- - ETA: 0s - loss: 7.8615e-04 - mean_squared_error: 7.8615e- - ETA: 0s - loss: 7.7028e-04 - mean_squared_error: 7.7028e- - 1s 83us/sample - loss: 7.6007e-04 - mean_squared_error: 7.6007e-04 - val_loss: 6.5522e-04 - val_mean_squared_error: 6.5522e-04\n",
      "Epoch 6/40\n",
      "7000/7000 [==============================] - ETA: 0s - loss: 8.2089e-04 - mean_squared_error: 8.2089e- - ETA: 0s - loss: 6.7267e-04 - mean_squared_error: 6.7267e- - ETA: 0s - loss: 6.5914e-04 - mean_squared_error: 6.5914e- - ETA: 0s - loss: 6.4755e-04 - mean_squared_error: 6.4755e- - ETA: 0s - loss: 6.2827e-04 - mean_squared_error: 6.2827e- - ETA: 0s - loss: 6.1687e-04 - mean_squared_error: 6.1687e- - ETA: 0s - loss: 6.0911e-04 - mean_squared_error: 6.0911e- - ETA: 0s - loss: 5.9376e-04 - mean_squared_error: 5.9376e- - ETA: 0s - loss: 5.8434e-04 - mean_squared_error: 5.8434e- - ETA: 0s - loss: 5.7188e-04 - mean_squared_error: 5.7188e- - 1s 86us/sample - loss: 5.7208e-04 - mean_squared_error: 5.7208e-04 - val_loss: 5.1266e-04 - val_mean_squared_error: 5.1266e-04\n",
      "Epoch 7/40\n",
      "7000/7000 [==============================] - ETA: 1s - loss: 3.1614e-04 - mean_squared_error: 3.1614e- - ETA: 0s - loss: 4.9658e-04 - mean_squared_error: 4.9658e- - ETA: 0s - loss: 5.1433e-04 - mean_squared_error: 5.1432e- - ETA: 0s - loss: 5.0034e-04 - mean_squared_error: 5.0034e- - ETA: 0s - loss: 4.9350e-04 - mean_squared_error: 4.9350e- - ETA: 0s - loss: 4.8477e-04 - mean_squared_error: 4.8477e- - ETA: 0s - loss: 4.7405e-04 - mean_squared_error: 4.7405e- - ETA: 0s - loss: 4.6914e-04 - mean_squared_error: 4.6914e- - ETA: 0s - loss: 4.6484e-04 - mean_squared_error: 4.6484e- - ETA: 0s - loss: 4.5674e-04 - mean_squared_error: 4.5674e- - 1s 86us/sample - loss: 4.5716e-04 - mean_squared_error: 4.5716e-04 - val_loss: 4.1966e-04 - val_mean_squared_error: 4.1966e-04\n",
      "Epoch 8/40\n",
      "7000/7000 [==============================] - ETA: 0s - loss: 3.7149e-04 - mean_squared_error: 3.7149e- - ETA: 0s - loss: 4.1278e-04 - mean_squared_error: 4.1278e- - ETA: 0s - loss: 3.9743e-04 - mean_squared_error: 3.9743e- - ETA: 0s - loss: 3.9245e-04 - mean_squared_error: 3.9245e- - ETA: 0s - loss: 3.9496e-04 - mean_squared_error: 3.9496e- - ETA: 0s - loss: 3.9347e-04 - mean_squared_error: 3.9347e- - ETA: 0s - loss: 3.8436e-04 - mean_squared_error: 3.8436e- - ETA: 0s - loss: 3.8766e-04 - mean_squared_error: 3.8766e- - ETA: 0s - loss: 3.8552e-04 - mean_squared_error: 3.8552e- - ETA: 0s - loss: 3.8171e-04 - mean_squared_error: 3.8171e- - 1s 89us/sample - loss: 3.7991e-04 - mean_squared_error: 3.7991e-04 - val_loss: 3.5605e-04 - val_mean_squared_error: 3.5605e-04\n",
      "Epoch 9/40\n",
      "7000/7000 [==============================] - ETA: 0s - loss: 4.5175e-04 - mean_squared_error: 4.5175e- - ETA: 0s - loss: 3.7217e-04 - mean_squared_error: 3.7217e- - ETA: 0s - loss: 3.5960e-04 - mean_squared_error: 3.5960e- - ETA: 0s - loss: 3.5248e-04 - mean_squared_error: 3.5248e- - ETA: 0s - loss: 3.4974e-04 - mean_squared_error: 3.4974e- - ETA: 0s - loss: 3.3887e-04 - mean_squared_error: 3.3887e- - ETA: 0s - loss: 3.3316e-04 - mean_squared_error: 3.3316e- - ETA: 0s - loss: 3.3209e-04 - mean_squared_error: 3.3209e- - ETA: 0s - loss: 3.3063e-04 - mean_squared_error: 3.3063e- - ETA: 0s - loss: 3.2545e-04 - mean_squared_error: 3.2545e- - 1s 87us/sample - loss: 3.2456e-04 - mean_squared_error: 3.2456e-04 - val_loss: 3.0728e-04 - val_mean_squared_error: 3.0728e-04\n",
      "Epoch 10/40\n",
      "7000/7000 [==============================] - ETA: 0s - loss: 2.7057e-04 - mean_squared_error: 2.7057e- - ETA: 0s - loss: 2.7892e-04 - mean_squared_error: 2.7892e- - ETA: 0s - loss: 2.8348e-04 - mean_squared_error: 2.8348e- - ETA: 0s - loss: 2.8105e-04 - mean_squared_error: 2.8105e- - ETA: 0s - loss: 2.8956e-04 - mean_squared_error: 2.8956e- - ETA: 0s - loss: 2.8396e-04 - mean_squared_error: 2.8396e- - ETA: 0s - loss: 2.8779e-04 - mean_squared_error: 2.8779e- - ETA: 0s - loss: 2.8910e-04 - mean_squared_error: 2.8910e- - ETA: 0s - loss: 2.8783e-04 - mean_squared_error: 2.8783e- - ETA: 0s - loss: 2.8437e-04 - mean_squared_error: 2.8437e- - 1s 90us/sample - loss: 2.8282e-04 - mean_squared_error: 2.8282e-04 - val_loss: 2.7008e-04 - val_mean_squared_error: 2.7008e-04\n",
      "Epoch 11/40\n",
      "7000/7000 [==============================] - ETA: 1s - loss: 3.3650e-04 - mean_squared_error: 3.3650e- - ETA: 0s - loss: 2.7704e-04 - mean_squared_error: 2.7704e- - ETA: 0s - loss: 2.6125e-04 - mean_squared_error: 2.6125e- - ETA: 0s - loss: 2.5769e-04 - mean_squared_error: 2.5769e- - ETA: 0s - loss: 2.5524e-04 - mean_squared_error: 2.5524e- - ETA: 0s - loss: 2.5073e-04 - mean_squared_error: 2.5073e- - ETA: 0s - loss: 2.5379e-04 - mean_squared_error: 2.5379e- - ETA: 0s - loss: 2.5481e-04 - mean_squared_error: 2.5481e- - ETA: 0s - loss: 2.5218e-04 - mean_squared_error: 2.5218e- - ETA: 0s - loss: 2.5091e-04 - mean_squared_error: 2.5091e- - 1s 85us/sample - loss: 2.5036e-04 - mean_squared_error: 2.5036e-04 - val_loss: 2.4151e-04 - val_mean_squared_error: 2.4151e-04\n",
      "Epoch 12/40\n"
     ]
    },
    {
     "name": "stdout",
     "output_type": "stream",
     "text": [
      "7000/7000 [==============================] - ETA: 0s - loss: 1.9940e-04 - mean_squared_error: 1.9940e- - ETA: 0s - loss: 2.4084e-04 - mean_squared_error: 2.4084e- - ETA: 0s - loss: 2.4058e-04 - mean_squared_error: 2.4058e- - ETA: 0s - loss: 2.3246e-04 - mean_squared_error: 2.3246e- - ETA: 0s - loss: 2.3328e-04 - mean_squared_error: 2.3328e- - ETA: 0s - loss: 2.2959e-04 - mean_squared_error: 2.2959e- - ETA: 0s - loss: 2.3147e-04 - mean_squared_error: 2.3147e- - ETA: 0s - loss: 2.3305e-04 - mean_squared_error: 2.3305e- - ETA: 0s - loss: 2.2860e-04 - mean_squared_error: 2.2860e- - ETA: 0s - loss: 2.2543e-04 - mean_squared_error: 2.2543e- - 1s 85us/sample - loss: 2.2454e-04 - mean_squared_error: 2.2454e-04 - val_loss: 2.1824e-04 - val_mean_squared_error: 2.1824e-04\n",
      "Epoch 13/40\n",
      "7000/7000 [==============================] - ETA: 0s - loss: 1.4635e-04 - mean_squared_error: 1.4635e- - ETA: 0s - loss: 1.9696e-04 - mean_squared_error: 1.9696e- - ETA: 0s - loss: 2.0559e-04 - mean_squared_error: 2.0559e- - ETA: 0s - loss: 2.0325e-04 - mean_squared_error: 2.0325e- - ETA: 0s - loss: 2.0393e-04 - mean_squared_error: 2.0393e- - ETA: 0s - loss: 2.0374e-04 - mean_squared_error: 2.0374e- - ETA: 0s - loss: 2.0591e-04 - mean_squared_error: 2.0591e- - ETA: 0s - loss: 2.0560e-04 - mean_squared_error: 2.0560e- - ETA: 0s - loss: 2.0395e-04 - mean_squared_error: 2.0395e- - ETA: 0s - loss: 2.0471e-04 - mean_squared_error: 2.0471e- - ETA: 0s - loss: 2.0864e-04 - mean_squared_error: 2.0864e- - ETA: 0s - loss: 2.0775e-04 - mean_squared_error: 2.0775e- - ETA: 0s - loss: 2.0514e-04 - mean_squared_error: 2.0514e- - 1s 116us/sample - loss: 2.0380e-04 - mean_squared_error: 2.0380e-04 - val_loss: 1.9914e-04 - val_mean_squared_error: 1.9914e-04\n",
      "Epoch 14/40\n",
      "7000/7000 [==============================] - ETA: 0s - loss: 1.5223e-04 - mean_squared_error: 1.5223e- - ETA: 0s - loss: 2.0834e-04 - mean_squared_error: 2.0834e- - ETA: 0s - loss: 1.9180e-04 - mean_squared_error: 1.9180e- - ETA: 0s - loss: 1.9093e-04 - mean_squared_error: 1.9093e- - ETA: 0s - loss: 1.9543e-04 - mean_squared_error: 1.9543e- - ETA: 0s - loss: 1.9566e-04 - mean_squared_error: 1.9566e- - ETA: 0s - loss: 1.9488e-04 - mean_squared_error: 1.9488e- - ETA: 0s - loss: 1.9255e-04 - mean_squared_error: 1.9255e- - ETA: 0s - loss: 1.9310e-04 - mean_squared_error: 1.9310e- - ETA: 0s - loss: 1.8894e-04 - mean_squared_error: 1.8894e- - 1s 95us/sample - loss: 1.8701e-04 - mean_squared_error: 1.8701e-04 - val_loss: 1.8407e-04 - val_mean_squared_error: 1.8407e-04\n",
      "Epoch 15/40\n",
      "7000/7000 [==============================] - ETA: 0s - loss: 9.5597e-05 - mean_squared_error: 9.5597e- - ETA: 0s - loss: 1.6796e-04 - mean_squared_error: 1.6796e- - ETA: 0s - loss: 1.7893e-04 - mean_squared_error: 1.7893e- - ETA: 0s - loss: 1.7962e-04 - mean_squared_error: 1.7962e- - ETA: 0s - loss: 1.8309e-04 - mean_squared_error: 1.8309e- - ETA: 0s - loss: 1.7721e-04 - mean_squared_error: 1.7721e- - ETA: 0s - loss: 1.8078e-04 - mean_squared_error: 1.8078e- - ETA: 0s - loss: 1.7989e-04 - mean_squared_error: 1.7989e- - ETA: 0s - loss: 1.7792e-04 - mean_squared_error: 1.7792e- - ETA: 0s - loss: 1.7522e-04 - mean_squared_error: 1.7522e- - ETA: 0s - loss: 1.7654e-04 - mean_squared_error: 1.7654e- - ETA: 0s - loss: 1.7377e-04 - mean_squared_error: 1.7377e- - 1s 110us/sample - loss: 1.7331e-04 - mean_squared_error: 1.7331e-04 - val_loss: 1.7147e-04 - val_mean_squared_error: 1.7147e-04\n",
      "Epoch 16/40\n",
      "7000/7000 [==============================] - ETA: 0s - loss: 1.4717e-04 - mean_squared_error: 1.4717e- - ETA: 0s - loss: 1.6489e-04 - mean_squared_error: 1.6489e- - ETA: 0s - loss: 1.6510e-04 - mean_squared_error: 1.6510e- - ETA: 0s - loss: 1.6216e-04 - mean_squared_error: 1.6216e- - ETA: 0s - loss: 1.6424e-04 - mean_squared_error: 1.6424e- - ETA: 0s - loss: 1.6526e-04 - mean_squared_error: 1.6526e- - ETA: 0s - loss: 1.6579e-04 - mean_squared_error: 1.6579e- - ETA: 0s - loss: 1.6411e-04 - mean_squared_error: 1.6411e- - ETA: 0s - loss: 1.6210e-04 - mean_squared_error: 1.6210e- - ETA: 0s - loss: 1.6209e-04 - mean_squared_error: 1.6209e- - 1s 97us/sample - loss: 1.6211e-04 - mean_squared_error: 1.6211e-04 - val_loss: 1.6160e-04 - val_mean_squared_error: 1.6160e-04\n",
      "Epoch 17/40\n",
      "7000/7000 [==============================] - ETA: 0s - loss: 1.2947e-04 - mean_squared_error: 1.2947e- - ETA: 0s - loss: 1.4505e-04 - mean_squared_error: 1.4505e- - ETA: 0s - loss: 1.5612e-04 - mean_squared_error: 1.5612e- - ETA: 0s - loss: 1.5003e-04 - mean_squared_error: 1.5003e- - ETA: 0s - loss: 1.4764e-04 - mean_squared_error: 1.4764e- - ETA: 0s - loss: 1.5640e-04 - mean_squared_error: 1.5640e- - ETA: 0s - loss: 1.5643e-04 - mean_squared_error: 1.5643e- - ETA: 0s - loss: 1.5630e-04 - mean_squared_error: 1.5630e- - ETA: 0s - loss: 1.5478e-04 - mean_squared_error: 1.5478e- - ETA: 0s - loss: 1.5327e-04 - mean_squared_error: 1.5327e- - 1s 86us/sample - loss: 1.5308e-04 - mean_squared_error: 1.5308e-04 - val_loss: 1.5328e-04 - val_mean_squared_error: 1.5328e-04\n",
      "Epoch 18/40\n",
      "7000/7000 [==============================] - ETA: 0s - loss: 1.8835e-04 - mean_squared_error: 1.8835e- - ETA: 0s - loss: 1.6963e-04 - mean_squared_error: 1.6963e- - ETA: 0s - loss: 1.6041e-04 - mean_squared_error: 1.6041e- - ETA: 0s - loss: 1.5243e-04 - mean_squared_error: 1.5243e- - ETA: 0s - loss: 1.5024e-04 - mean_squared_error: 1.5024e- - ETA: 0s - loss: 1.4938e-04 - mean_squared_error: 1.4938e- - ETA: 0s - loss: 1.4656e-04 - mean_squared_error: 1.4656e- - ETA: 0s - loss: 1.4620e-04 - mean_squared_error: 1.4620e- - ETA: 0s - loss: 1.4619e-04 - mean_squared_error: 1.4619e- - ETA: 0s - loss: 1.4820e-04 - mean_squared_error: 1.4820e- - ETA: 0s - loss: 1.4615e-04 - mean_squared_error: 1.4615e- - 1s 92us/sample - loss: 1.4559e-04 - mean_squared_error: 1.4559e-04 - val_loss: 1.4682e-04 - val_mean_squared_error: 1.4682e-04\n",
      "Epoch 19/40\n",
      "7000/7000 [==============================] - ETA: 0s - loss: 1.1292e-04 - mean_squared_error: 1.1292e- - ETA: 0s - loss: 1.4319e-04 - mean_squared_error: 1.4319e- - ETA: 0s - loss: 1.3916e-04 - mean_squared_error: 1.3916e- - ETA: 0s - loss: 1.3923e-04 - mean_squared_error: 1.3923e- - ETA: 0s - loss: 1.3681e-04 - mean_squared_error: 1.3681e- - ETA: 0s - loss: 1.4106e-04 - mean_squared_error: 1.4106e- - ETA: 0s - loss: 1.4021e-04 - mean_squared_error: 1.4021e- - ETA: 0s - loss: 1.3937e-04 - mean_squared_error: 1.3937e- - ETA: 0s - loss: 1.3855e-04 - mean_squared_error: 1.3855e- - ETA: 0s - loss: 1.3955e-04 - mean_squared_error: 1.3955e- - 1s 87us/sample - loss: 1.3956e-04 - mean_squared_error: 1.3956e-04 - val_loss: 1.4162e-04 - val_mean_squared_error: 1.4162e-04\n",
      "Epoch 20/40\n",
      "7000/7000 [==============================] - ETA: 0s - loss: 1.5638e-04 - mean_squared_error: 1.5638e- - ETA: 0s - loss: 1.1988e-04 - mean_squared_error: 1.1988e- - ETA: 0s - loss: 1.2731e-04 - mean_squared_error: 1.2731e- - ETA: 0s - loss: 1.2529e-04 - mean_squared_error: 1.2529e- - ETA: 0s - loss: 1.2595e-04 - mean_squared_error: 1.2595e- - ETA: 0s - loss: 1.2771e-04 - mean_squared_error: 1.2771e- - ETA: 0s - loss: 1.3161e-04 - mean_squared_error: 1.3161e- - ETA: 0s - loss: 1.3207e-04 - mean_squared_error: 1.3207e- - ETA: 0s - loss: 1.3265e-04 - mean_squared_error: 1.3265e- - ETA: 0s - loss: 1.3476e-04 - mean_squared_error: 1.3476e- - 1s 85us/sample - loss: 1.3506e-04 - mean_squared_error: 1.3506e-04 - val_loss: 1.3740e-04 - val_mean_squared_error: 1.3740e-04\n",
      "Epoch 21/40\n",
      "7000/7000 [==============================] - ETA: 0s - loss: 7.7557e-05 - mean_squared_error: 7.7557e- - ETA: 0s - loss: 1.2966e-04 - mean_squared_error: 1.2966e- - ETA: 0s - loss: 1.3651e-04 - mean_squared_error: 1.3651e- - ETA: 0s - loss: 1.2985e-04 - mean_squared_error: 1.2985e- - ETA: 0s - loss: 1.3230e-04 - mean_squared_error: 1.3230e- - ETA: 0s - loss: 1.3289e-04 - mean_squared_error: 1.3289e- - ETA: 0s - loss: 1.3128e-04 - mean_squared_error: 1.3128e- - ETA: 0s - loss: 1.3063e-04 - mean_squared_error: 1.3063e- - ETA: 0s - loss: 1.3191e-04 - mean_squared_error: 1.3191e- - ETA: 0s - loss: 1.3114e-04 - mean_squared_error: 1.3114e- - 1s 90us/sample - loss: 1.3123e-04 - mean_squared_error: 1.3123e-04 - val_loss: 1.3417e-04 - val_mean_squared_error: 1.3417e-04\n"
     ]
    },
    {
     "name": "stdout",
     "output_type": "stream",
     "text": [
      "Epoch 22/40\n",
      "7000/7000 [==============================] - ETA: 0s - loss: 1.8604e-04 - mean_squared_error: 1.8604e- - ETA: 0s - loss: 1.4008e-04 - mean_squared_error: 1.4008e- - ETA: 0s - loss: 1.3610e-04 - mean_squared_error: 1.3610e- - ETA: 0s - loss: 1.3380e-04 - mean_squared_error: 1.3380e- - ETA: 0s - loss: 1.3197e-04 - mean_squared_error: 1.3197e- - ETA: 0s - loss: 1.2830e-04 - mean_squared_error: 1.2830e- - ETA: 0s - loss: 1.2596e-04 - mean_squared_error: 1.2596e- - ETA: 0s - loss: 1.2923e-04 - mean_squared_error: 1.2923e- - ETA: 0s - loss: 1.3029e-04 - mean_squared_error: 1.3029e- - ETA: 0s - loss: 1.2922e-04 - mean_squared_error: 1.2922e- - 1s 89us/sample - loss: 1.2859e-04 - mean_squared_error: 1.2859e-04 - val_loss: 1.3181e-04 - val_mean_squared_error: 1.3181e-04\n",
      "Epoch 23/40\n",
      "7000/7000 [==============================] - ETA: 0s - loss: 1.6115e-04 - mean_squared_error: 1.6115e- - ETA: 0s - loss: 1.3997e-04 - mean_squared_error: 1.3997e- - ETA: 0s - loss: 1.2901e-04 - mean_squared_error: 1.2901e- - ETA: 0s - loss: 1.3172e-04 - mean_squared_error: 1.3172e- - ETA: 0s - loss: 1.2841e-04 - mean_squared_error: 1.2841e- - ETA: 0s - loss: 1.2943e-04 - mean_squared_error: 1.2943e- - ETA: 0s - loss: 1.2881e-04 - mean_squared_error: 1.2881e- - ETA: 0s - loss: 1.2781e-04 - mean_squared_error: 1.2781e- - ETA: 0s - loss: 1.2557e-04 - mean_squared_error: 1.2557e- - ETA: 0s - loss: 1.2539e-04 - mean_squared_error: 1.2539e- - ETA: 0s - loss: 1.2658e-04 - mean_squared_error: 1.2658e- - 1s 95us/sample - loss: 1.2628e-04 - mean_squared_error: 1.2628e-04 - val_loss: 1.2965e-04 - val_mean_squared_error: 1.2965e-04\n",
      "Epoch 24/40\n",
      "7000/7000 [==============================] - ETA: 0s - loss: 1.8261e-04 - mean_squared_error: 1.8261e- - ETA: 0s - loss: 1.2630e-04 - mean_squared_error: 1.2630e- - ETA: 0s - loss: 1.2255e-04 - mean_squared_error: 1.2255e- - ETA: 0s - loss: 1.2281e-04 - mean_squared_error: 1.2281e- - ETA: 0s - loss: 1.2456e-04 - mean_squared_error: 1.2456e- - ETA: 0s - loss: 1.2465e-04 - mean_squared_error: 1.2465e- - ETA: 0s - loss: 1.2606e-04 - mean_squared_error: 1.2606e- - ETA: 0s - loss: 1.2603e-04 - mean_squared_error: 1.2603e- - ETA: 0s - loss: 1.2575e-04 - mean_squared_error: 1.2575e- - 1s 90us/sample - loss: 1.2490e-04 - mean_squared_error: 1.2490e-04 - val_loss: 1.2800e-04 - val_mean_squared_error: 1.2800e-04\n",
      "Epoch 25/40\n",
      "7000/7000 [==============================] - ETA: 0s - loss: 1.3851e-04 - mean_squared_error: 1.3851e- - ETA: 0s - loss: 1.1922e-04 - mean_squared_error: 1.1922e- - ETA: 0s - loss: 1.2003e-04 - mean_squared_error: 1.2003e- - ETA: 0s - loss: 1.2074e-04 - mean_squared_error: 1.2074e- - ETA: 0s - loss: 1.2464e-04 - mean_squared_error: 1.2464e- - ETA: 0s - loss: 1.2386e-04 - mean_squared_error: 1.2386e- - ETA: 0s - loss: 1.2349e-04 - mean_squared_error: 1.2349e- - ETA: 0s - loss: 1.2291e-04 - mean_squared_error: 1.2291e- - ETA: 0s - loss: 1.2200e-04 - mean_squared_error: 1.2200e- - 1s 82us/sample - loss: 1.2340e-04 - mean_squared_error: 1.2340e-04 - val_loss: 1.2937e-04 - val_mean_squared_error: 1.2937e-04\n",
      "Epoch 26/40\n",
      "7000/7000 [==============================] - ETA: 0s - loss: 1.1065e-04 - mean_squared_error: 1.1065e- - ETA: 0s - loss: 1.1235e-04 - mean_squared_error: 1.1235e- - ETA: 0s - loss: 1.0777e-04 - mean_squared_error: 1.0777e- - ETA: 0s - loss: 1.0905e-04 - mean_squared_error: 1.0905e- - ETA: 0s - loss: 1.1514e-04 - mean_squared_error: 1.1514e- - ETA: 0s - loss: 1.1810e-04 - mean_squared_error: 1.1810e- - ETA: 0s - loss: 1.1896e-04 - mean_squared_error: 1.1896e- - ETA: 0s - loss: 1.2039e-04 - mean_squared_error: 1.2039e- - ETA: 0s - loss: 1.2287e-04 - mean_squared_error: 1.2287e- - 1s 82us/sample - loss: 1.2247e-04 - mean_squared_error: 1.2247e-04 - val_loss: 1.2688e-04 - val_mean_squared_error: 1.2688e-04\n",
      "Epoch 27/40\n",
      "7000/7000 [==============================] - ETA: 0s - loss: 1.1555e-04 - mean_squared_error: 1.1555e- - ETA: 0s - loss: 1.3047e-04 - mean_squared_error: 1.3047e- - ETA: 0s - loss: 1.2837e-04 - mean_squared_error: 1.2837e- - ETA: 0s - loss: 1.2796e-04 - mean_squared_error: 1.2796e- - ETA: 0s - loss: 1.2599e-04 - mean_squared_error: 1.2599e- - ETA: 0s - loss: 1.2521e-04 - mean_squared_error: 1.2521e- - ETA: 0s - loss: 1.2121e-04 - mean_squared_error: 1.2121e- - ETA: 0s - loss: 1.2275e-04 - mean_squared_error: 1.2275e- - ETA: 0s - loss: 1.2184e-04 - mean_squared_error: 1.2184e- - 1s 80us/sample - loss: 1.2212e-04 - mean_squared_error: 1.2212e-04 - val_loss: 1.2617e-04 - val_mean_squared_error: 1.2617e-04\n",
      "Epoch 28/40\n",
      "7000/7000 [==============================] - ETA: 0s - loss: 1.3710e-04 - mean_squared_error: 1.3710e- - ETA: 0s - loss: 1.0928e-04 - mean_squared_error: 1.0928e- - ETA: 0s - loss: 1.1521e-04 - mean_squared_error: 1.1521e- - ETA: 0s - loss: 1.1850e-04 - mean_squared_error: 1.1850e- - ETA: 0s - loss: 1.1903e-04 - mean_squared_error: 1.1903e- - ETA: 0s - loss: 1.2260e-04 - mean_squared_error: 1.2260e- - ETA: 0s - loss: 1.1946e-04 - mean_squared_error: 1.1946e- - ETA: 0s - loss: 1.2230e-04 - mean_squared_error: 1.2230e- - ETA: 0s - loss: 1.2189e-04 - mean_squared_error: 1.2189e- - 1s 83us/sample - loss: 1.2159e-04 - mean_squared_error: 1.2159e-04 - val_loss: 1.2452e-04 - val_mean_squared_error: 1.2452e-04\n",
      "Epoch 29/40\n",
      "7000/7000 [==============================] - ETA: 0s - loss: 9.0517e-05 - mean_squared_error: 9.0517e- - ETA: 0s - loss: 1.1297e-04 - mean_squared_error: 1.1297e- - ETA: 0s - loss: 1.1700e-04 - mean_squared_error: 1.1700e- - ETA: 0s - loss: 1.1662e-04 - mean_squared_error: 1.1662e- - ETA: 0s - loss: 1.1776e-04 - mean_squared_error: 1.1776e- - ETA: 0s - loss: 1.1469e-04 - mean_squared_error: 1.1469e- - ETA: 0s - loss: 1.1714e-04 - mean_squared_error: 1.1714e- - ETA: 0s - loss: 1.2101e-04 - mean_squared_error: 1.2101e- - ETA: 0s - loss: 1.2246e-04 - mean_squared_error: 1.2246e- - 1s 82us/sample - loss: 1.2151e-04 - mean_squared_error: 1.2151e-04 - val_loss: 1.2473e-04 - val_mean_squared_error: 1.2473e-04\n",
      "Epoch 30/40\n",
      "7000/7000 [==============================] - ETA: 0s - loss: 1.7156e-04 - mean_squared_error: 1.7156e- - ETA: 0s - loss: 1.2263e-04 - mean_squared_error: 1.2263e- - ETA: 0s - loss: 1.2271e-04 - mean_squared_error: 1.2271e- - ETA: 0s - loss: 1.1765e-04 - mean_squared_error: 1.1765e- - ETA: 0s - loss: 1.1787e-04 - mean_squared_error: 1.1787e- - ETA: 0s - loss: 1.1705e-04 - mean_squared_error: 1.1705e- - ETA: 0s - loss: 1.1830e-04 - mean_squared_error: 1.1830e- - ETA: 0s - loss: 1.2099e-04 - mean_squared_error: 1.2099e- - ETA: 0s - loss: 1.2021e-04 - mean_squared_error: 1.2021e- - 1s 79us/sample - loss: 1.2096e-04 - mean_squared_error: 1.2096e-04 - val_loss: 1.2654e-04 - val_mean_squared_error: 1.2654e-04\n",
      "Epoch 31/40\n",
      "7000/7000 [==============================] - ETA: 0s - loss: 1.3049e-04 - mean_squared_error: 1.3049e- - ETA: 0s - loss: 1.3153e-04 - mean_squared_error: 1.3153e- - ETA: 0s - loss: 1.2585e-04 - mean_squared_error: 1.2585e- - ETA: 0s - loss: 1.1900e-04 - mean_squared_error: 1.1900e- - ETA: 0s - loss: 1.2339e-04 - mean_squared_error: 1.2339e- - ETA: 0s - loss: 1.2337e-04 - mean_squared_error: 1.2337e- - ETA: 0s - loss: 1.2067e-04 - mean_squared_error: 1.2067e- - ETA: 0s - loss: 1.1983e-04 - mean_squared_error: 1.1983e- - ETA: 0s - loss: 1.2039e-04 - mean_squared_error: 1.2039e- - 1s 80us/sample - loss: 1.2095e-04 - mean_squared_error: 1.2095e-04 - val_loss: 1.2505e-04 - val_mean_squared_error: 1.2505e-04\n",
      "Epoch 32/40\n",
      "7000/7000 [==============================] - ETA: 0s - loss: 6.4593e-05 - mean_squared_error: 6.4593e- - ETA: 0s - loss: 1.2208e-04 - mean_squared_error: 1.2208e- - ETA: 0s - loss: 1.2421e-04 - mean_squared_error: 1.2421e- - ETA: 0s - loss: 1.1841e-04 - mean_squared_error: 1.1841e- - ETA: 0s - loss: 1.2105e-04 - mean_squared_error: 1.2105e- - ETA: 0s - loss: 1.1994e-04 - mean_squared_error: 1.1994e- - ETA: 0s - loss: 1.2017e-04 - mean_squared_error: 1.2017e- - ETA: 0s - loss: 1.2074e-04 - mean_squared_error: 1.2074e- - ETA: 0s - loss: 1.2095e-04 - mean_squared_error: 1.2095e- - 1s 84us/sample - loss: 1.2087e-04 - mean_squared_error: 1.2087e-04 - val_loss: 1.2431e-04 - val_mean_squared_error: 1.2431e-04\n",
      "Epoch 33/40\n"
     ]
    },
    {
     "name": "stdout",
     "output_type": "stream",
     "text": [
      "7000/7000 [==============================] - ETA: 0s - loss: 9.8544e-05 - mean_squared_error: 9.8544e- - ETA: 0s - loss: 1.1817e-04 - mean_squared_error: 1.1817e- - ETA: 0s - loss: 1.1919e-04 - mean_squared_error: 1.1919e- - ETA: 0s - loss: 1.2147e-04 - mean_squared_error: 1.2147e- - ETA: 0s - loss: 1.2175e-04 - mean_squared_error: 1.2175e- - ETA: 0s - loss: 1.2000e-04 - mean_squared_error: 1.2000e- - ETA: 0s - loss: 1.2049e-04 - mean_squared_error: 1.2049e- - ETA: 0s - loss: 1.1975e-04 - mean_squared_error: 1.1975e- - ETA: 0s - loss: 1.1971e-04 - mean_squared_error: 1.1971e- - 1s 84us/sample - loss: 1.2079e-04 - mean_squared_error: 1.2079e-04 - val_loss: 1.2567e-04 - val_mean_squared_error: 1.2567e-04\n",
      "Epoch 34/40\n",
      "7000/7000 [==============================] - ETA: 0s - loss: 1.6395e-04 - mean_squared_error: 1.6395e- - ETA: 0s - loss: 1.2199e-04 - mean_squared_error: 1.2199e- - ETA: 0s - loss: 1.3091e-04 - mean_squared_error: 1.3091e- - ETA: 0s - loss: 1.2755e-04 - mean_squared_error: 1.2755e- - ETA: 0s - loss: 1.2471e-04 - mean_squared_error: 1.2471e- - ETA: 0s - loss: 1.2297e-04 - mean_squared_error: 1.2297e- - ETA: 0s - loss: 1.2239e-04 - mean_squared_error: 1.2239e- - ETA: 0s - loss: 1.2229e-04 - mean_squared_error: 1.2229e- - ETA: 0s - loss: 1.2140e-04 - mean_squared_error: 1.2140e- - ETA: 0s - loss: 1.2106e-04 - mean_squared_error: 1.2106e- - 1s 85us/sample - loss: 1.2109e-04 - mean_squared_error: 1.2109e-04 - val_loss: 1.2474e-04 - val_mean_squared_error: 1.2474e-04\n",
      "Epoch 35/40\n",
      "7000/7000 [==============================] - ETA: 0s - loss: 1.3139e-04 - mean_squared_error: 1.3139e- - ETA: 0s - loss: 1.2697e-04 - mean_squared_error: 1.2697e- - ETA: 0s - loss: 1.2178e-04 - mean_squared_error: 1.2178e- - ETA: 0s - loss: 1.2582e-04 - mean_squared_error: 1.2582e- - ETA: 0s - loss: 1.2259e-04 - mean_squared_error: 1.2259e- - ETA: 0s - loss: 1.2460e-04 - mean_squared_error: 1.2460e- - ETA: 0s - loss: 1.2397e-04 - mean_squared_error: 1.2397e- - ETA: 0s - loss: 1.2319e-04 - mean_squared_error: 1.2319e- - ETA: 0s - loss: 1.2101e-04 - mean_squared_error: 1.2101e- - ETA: 0s - loss: 1.2179e-04 - mean_squared_error: 1.2179e- - 1s 96us/sample - loss: 1.2184e-04 - mean_squared_error: 1.2184e-04 - val_loss: 1.2541e-04 - val_mean_squared_error: 1.2541e-04\n",
      "Epoch 36/40\n",
      "7000/7000 [==============================] - ETA: 0s - loss: 1.1066e-04 - mean_squared_error: 1.1066e- - ETA: 0s - loss: 1.0970e-04 - mean_squared_error: 1.0970e- - ETA: 0s - loss: 1.1480e-04 - mean_squared_error: 1.1480e- - ETA: 0s - loss: 1.1459e-04 - mean_squared_error: 1.1459e- - ETA: 0s - loss: 1.1688e-04 - mean_squared_error: 1.1688e- - ETA: 0s - loss: 1.1820e-04 - mean_squared_error: 1.1819e- - ETA: 0s - loss: 1.1913e-04 - mean_squared_error: 1.1913e- - ETA: 0s - loss: 1.2066e-04 - mean_squared_error: 1.2066e- - ETA: 0s - loss: 1.2182e-04 - mean_squared_error: 1.2182e- - ETA: 0s - loss: 1.2271e-04 - mean_squared_error: 1.2271e- - 1s 97us/sample - loss: 1.2121e-04 - mean_squared_error: 1.2121e-04 - val_loss: 1.2690e-04 - val_mean_squared_error: 1.2690e-04\n",
      "Epoch 37/40\n",
      "7000/7000 [==============================] - ETA: 0s - loss: 9.1814e-05 - mean_squared_error: 9.1814e- - ETA: 0s - loss: 1.4025e-04 - mean_squared_error: 1.4025e- - ETA: 0s - loss: 1.3011e-04 - mean_squared_error: 1.3011e- - ETA: 0s - loss: 1.2006e-04 - mean_squared_error: 1.2006e- - ETA: 0s - loss: 1.2142e-04 - mean_squared_error: 1.2142e- - ETA: 0s - loss: 1.2323e-04 - mean_squared_error: 1.2323e- - ETA: 0s - loss: 1.2123e-04 - mean_squared_error: 1.2123e- - ETA: 0s - loss: 1.2044e-04 - mean_squared_error: 1.2044e- - ETA: 0s - loss: 1.1963e-04 - mean_squared_error: 1.1963e- - ETA: 0s - loss: 1.1990e-04 - mean_squared_error: 1.1990e- - ETA: 0s - loss: 1.2118e-04 - mean_squared_error: 1.2118e- - 1s 99us/sample - loss: 1.2197e-04 - mean_squared_error: 1.2197e-04 - val_loss: 1.2631e-04 - val_mean_squared_error: 1.2631e-04\n",
      "Epoch 38/40\n",
      "7000/7000 [==============================] - ETA: 0s - loss: 1.3042e-04 - mean_squared_error: 1.3042e- - ETA: 0s - loss: 1.2522e-04 - mean_squared_error: 1.2522e- - ETA: 0s - loss: 1.2441e-04 - mean_squared_error: 1.2441e- - ETA: 0s - loss: 1.2105e-04 - mean_squared_error: 1.2105e- - ETA: 0s - loss: 1.2044e-04 - mean_squared_error: 1.2044e- - ETA: 0s - loss: 1.2172e-04 - mean_squared_error: 1.2172e- - ETA: 0s - loss: 1.2033e-04 - mean_squared_error: 1.2033e- - ETA: 0s - loss: 1.2000e-04 - mean_squared_error: 1.2000e- - ETA: 0s - loss: 1.2065e-04 - mean_squared_error: 1.2065e- - ETA: 0s - loss: 1.2153e-04 - mean_squared_error: 1.2153e- - 1s 88us/sample - loss: 1.2122e-04 - mean_squared_error: 1.2122e-04 - val_loss: 1.2661e-04 - val_mean_squared_error: 1.2661e-04\n",
      "Epoch 39/40\n",
      "7000/7000 [==============================] - ETA: 0s - loss: 1.0739e-04 - mean_squared_error: 1.0739e- - ETA: 0s - loss: 1.2924e-04 - mean_squared_error: 1.2924e- - ETA: 0s - loss: 1.2686e-04 - mean_squared_error: 1.2686e- - ETA: 0s - loss: 1.2712e-04 - mean_squared_error: 1.2712e- - ETA: 0s - loss: 1.2559e-04 - mean_squared_error: 1.2559e- - ETA: 0s - loss: 1.2162e-04 - mean_squared_error: 1.2162e- - ETA: 0s - loss: 1.1916e-04 - mean_squared_error: 1.1916e- - ETA: 0s - loss: 1.1980e-04 - mean_squared_error: 1.1980e- - ETA: 0s - loss: 1.2070e-04 - mean_squared_error: 1.2070e- - ETA: 0s - loss: 1.2084e-04 - mean_squared_error: 1.2084e- - 1s 89us/sample - loss: 1.2214e-04 - mean_squared_error: 1.2214e-04 - val_loss: 1.2412e-04 - val_mean_squared_error: 1.2412e-04\n",
      "Epoch 40/40\n",
      "7000/7000 [==============================] - ETA: 0s - loss: 1.4576e-04 - mean_squared_error: 1.4576e- - ETA: 0s - loss: 1.2423e-04 - mean_squared_error: 1.2423e- - ETA: 0s - loss: 1.3243e-04 - mean_squared_error: 1.3243e- - ETA: 0s - loss: 1.2439e-04 - mean_squared_error: 1.2439e- - ETA: 0s - loss: 1.2418e-04 - mean_squared_error: 1.2418e- - ETA: 0s - loss: 1.2288e-04 - mean_squared_error: 1.2288e- - ETA: 0s - loss: 1.2309e-04 - mean_squared_error: 1.2309e- - ETA: 0s - loss: 1.2467e-04 - mean_squared_error: 1.2467e- - ETA: 0s - loss: 1.2343e-04 - mean_squared_error: 1.2343e- - ETA: 0s - loss: 1.2274e-04 - mean_squared_error: 1.2274e- - 1s 89us/sample - loss: 1.2177e-04 - mean_squared_error: 1.2177e-04 - val_loss: 1.2514e-04 - val_mean_squared_error: 1.2514e-04\n",
      "25.76358723640442\n"
     ]
    }
   ],
   "source": [
    "start_time = time.time()\n",
    "new_hist = model.fit(X_train, Y_train, validation_data=(X_val, Y_val), epochs=40, shuffle=True, verbose=1, batch_size=N_channels+1)\n",
    "training_time = time.time() - start_time\n",
    "print(training_time)"
   ]
  },
  {
   "cell_type": "code",
   "execution_count": 19,
   "metadata": {},
   "outputs": [
    {
     "name": "stdout",
     "output_type": "stream",
     "text": [
      "1500/1 [========================================================================================================================================================================================================================================================================================================================================================================================================================================================================================================================================================================================================================================================================================================================================================================================================================================================================================================================================================================================================================================================================================================================================================================================================================================================================================================================================================================================================================================================================================================================================================================================================================================================================================================================================================================================================================================================================================================================================================================================================================================================================================================================================================================================================================================================================================================================================================================================================================================================================================================================================================================================================================================================================================================================================================================================================================================================================================================================================================================================================================================================================================================================================================================================================================================================================================================================================================================================================================================================================================================================================================================================================================================================================================================================================================================================================================================================================================================================================================================================================================================================================================================================================================================================================================================================================================================================================================================================================================================================================================================================================================================================================================================================================================================================================================================================================================================================================================================================================================================================================================================================================================================================================================================================================================================================================================================================================================================================================================================================================================================================================================================================================================================================================================================================================================================================================================================================================================================================================================================================================================================================================================================================================================================================================================================================================================================================================================================================================================================================================================================================================================================================================================================================================================================================================================================================================================================================================================================================================================================================================================================================================================================================================================================================================================================================================================================================================================================================================================================================================================================================================================================================================================================================================================================================================================================================================================================================================================================================================================================================================================================================================================================================================================================================================================================================================================================================================================================================================================================================================================================================================================================================================================================================================================================================================================================================================================================================================================================================================================================================================================================================================================================================================================================================================================================================================================================================================================================================================================================================================================================================================================================================================================================================================================================================================================================================================================================================================================================================================================================================================================================================================================================================================================================================================================================================================================================================================================================================================================================================================================================================================================================================================================================================================================================================================================================================================================================================================================================================================================================================================================================================================================================================================================================================================================================================================================================================================================================================================================================================================================================================================================================================================================================================================================================================================================================================================================================================================================================================================================================================================================================================================================================================================================================================================================================================================================================================================================================================================================================================================================================================================================================================================================================================================================================================================================================================================================================================================================================================================================================================================================================================================================================================================================================================================================================================================================================================================================================================================================================================================================================================================================================================================================================================================================================================================================================================================================================================================================================================================================================================================================================================================================================================================================================================================================================================================================================================================================================================================================================================================================================================================================================================================================================================================================================================================================================================================================================================================================================================================================================================================================================================================================================================================================================================================================================================================================================================================================================================================================================================================================================================================================================================================================================================================================================================================================================================================================================================================================================================================================================================================================================================================================================================================================================================================================================================================================================================================================================================================================================================================================================================================================================================================================================================================================================================================================================================================================================================================================================================================================================================================================================================================================================================================================================================================================================================================================================================================================================================================================================================================================================================================================================================================================================================================================================================================================================================================================================================================================================================================================================================================================================================================================================================================================================================================================================================================================================================================================================================================================================================================================================================================================================================================================================================================================================================================================================================================================================================================================================================================================================================================================================================================================================================================================================================================================================================================================================================================================================================================================================================================================================================================================================================================================================================================================================================================================================================================================================================================================================================================================================================================================================================================================================================================================================================================================================================================================================================================================================================================================================================================================================================================================================================================================================================================================================================================================================================================================================================================================================================================================================================================================================================================================================================================================================================================================================================================================================================================================================================================================================================================================================================================================================================================================================================================================================================================================================================================================================================================================================================================================================================================================================================================================================================================================================================================================================================================================================================================================================================================================================================================================================================================================================================================================================================================================================================================================================================================================================================================================================================================================================================================================================================================================================================================================================================================================================================================================================================================================================================================================================================================================================================================================================================================================================================================================================================================================================================================================================================================================================================================================================================================================================================================================================================================================================================================================================================================================================================================================================================================================================================================================================================================================================================================================================================================================================================================================================================================================================================================================================================================================================================================================================================================================================================================================================================================================================================================================================================================================================================================================================================================================================================================================================================================================================================================================================================================================================================================================================================================================================================================================================================================================================================================================================================================================================================================================================================================================================================================================================================================================================================================================================================================================================================================================================================================================================================================================================================================================================================================================================================================================================================================================================================================================================================================================================================================================================================================================================================================================================================================================================================================================================================================================================================================================================================================================================================================================================================================================================================================================================================================================================================================================================================================================================================================================================================================================================================================================================================================================================================================================================================================================================================================================================================================================================================================================================================================================================================================================================================================================================================================================================================================================================================================================================================================================================================================================================================================================================================================================================================================================================================================================================================================================================================================================================================================================================================================================================================================================================================================================================================================================================================================================================================================================================================================================================================================================================================================================================================================================================================================================================================================================================================================================================================================================================================================================================================================================================================================================================================================================================================================================================================================================================================================================================================================================================================================================================================================================================================================================================================================================================================================================================================================================================================================================================================================================================================================================================================================================================================================================================================================================================================================================================================================================================================================================================================================================================================================================================================================================================================================================================================================================================================================================================================================================================================================================================================================================================================================================================================================================================================================================================================================================================================================================================================================================================================================================================================================================================================================================================================================================================================================================================================================================================================================================================================================================================================================================================================================================================================================================================================================================================================================================================================================================================================================================================================================================================================================================================================================================================================================================================================================================================================================================================================================================================================================================================================================================================================================================================================================================================================================================================================================================================================================================================================================================================================================================================================================================================================================================================================================================================================================================================================================================================================================================================================================================================================================================================================================================================================================================================================================================================================================================================================================================================================================================================================================================================================================================================================================================================================================================================================================================================================================================================================================================================================================================================================================================================================================================================================================================================================================================================================================================================================================================================================================================================================================================================================================================================================================================================================================================================================================================================================================================================================================================================================================================================================================================================================================================================================================================================================================================================================================================================================================================================================================================================================================================================================================================================================================================================================================================================================================================================================================================================================================================================================================================================================================================================================================================================================================================================================================================================================================================================================================================================================================================================================================================================================================================================================================================================================================================================================================================================================================================================================================================================================================================================================================================================================================================================================================================================================================================================================================================================================================================================================================================================================================================================================================================================================================================================================================================================================================================================================================================================================================================================================================================================================================================================================================================================================================================================================================================================================================================================================================================================================================================================================================================================================================================================================================================================================================================================================================================================================================================================================================================================================================================================================================================================================================================================================================================================================================================================================================================================================================================================================================================================================================================================================================================================================================================================================================================================================================================================================================================================================================================================================================================================================================================================================================================================================================================================================================================================================================================================================================================================================================================================================================================================================================================================================================================================================================================================================================================================================================================================================================================================================================================================================================================================================================================================================================================================================================================================================================================================================================================================================================================================================================================================================================================================================================================================================================================================================================================================================================================================================================================================================================================================================================================================================================================================================================================================================================================================================================================================================================================================================================================================================================================================================================================================================================================================================================================================================================================================================================================================================================================================================================================================================================================================================================================================================================================================================================================================================================================================================================================================================================================================================================================================================================================================================================================================================================================================================================================================================================================================================================================================================================================================================================================================================================================================================================]"
     ]
    },
    {
     "name": "stdout",
     "output_type": "stream",
     "text": [
      " - 0s 60us/sample - loss: 1.2191e-04 - mean_squared_error: 1.2004e-04\n"
     ]
    },
    {
     "name": "stdout",
     "output_type": "stream",
     "text": [
      "1500/1 [========================================================================================================================================================================================================================================================================================================================================================================================================================================================================================================================================================================================================================================================================================================================================================================================================================================================================================================================================================================================================================================================================================================================================================================================================================================================================================================================================================================================================================================================================================================================================================================================================================================================================================================================================================================================================================================================================================================================================================================================================================================================================================================================================================================================================================================================================================================================================================================================================================================================================================================================================================================================================================================================================================================================================================================================================================================================================================================================================================================================================================================================================================================================================================================================================================================================================================================================================================================================================================================================================================================================================================================================================================================================================================================================================================================================================================================================================================================================================================================================================================================================================================================================================================================================================================================================================================================================================================================================================================================================================================================================================================================================================================================================================================================================================================================================================================================================================================================================================================================================================================================================================================================================================================================================================================================================================================================================================================================================================================================================================================================================================================================================================================================================================================================================================================================================================================================================================================================================================================================================================================================================================================================================================================================================================================================================================================================================================================================================================================================================================================================================================================================================================================================================================================================================================================================================================================================================================================================================================================================================================================================================================================================================================================================================================================================================================================================================================================================================================================================================================================================================================================================================================================================================================================================================================================================================================================================================================================================================================================================================================================================================================================================================================================================================================================================================================================================================================================================================================================================================================================================================================================================================================================================================================================================================================================================================================================================================================================================================================================================================================================================================================================================================================================================================================================================================================================================================================================================================================================================================================================================================================================================================================================================================================================================================================================================================================================================================================================================================================================================================================================================================================================================================================================================================================================================================================================================================================================================================================================================================================================================================================================================================================================================================================================================================================================================================================================================================================================================================================================================================================================================================================================================================================================================================================================================================================================================================================================================================================================================================================================================================================================================================================================================================================================================================================================================================================================================================================================================================================================================================================================================================================================================================================================================================================================================================================================================================================================================================================================================================================================================================================================================================================================================================================================================================================================================================================================================================================================================================================================================================================================================================================================================================================================================================================================================================================================================================================================================================================================================================================================================================================================================================================================================================================================================================================================================================================================================================================================================================================================================================================================================================================================================================================================================================================================================================================================================================================================================================================================================================================================================================================================================================================================================================================================================================================================================================================================================================================================================================================================================================================================================================================================================================================================================================================================================================================================================================================================================================================================================================================================================================================================================================================================================================================================================================================================================================================================================================================================================================================================================================================================================================================================================================================================================================================================================================================================================================================================================================================================================================================================================================================================================================================================================================================================================================================================================================================================================================================================================================================================================================================================================================================================================================================================================================================================================================================================================================================================================================================================================================================================================================================================================================================================================================================================================================================================================================================================================================================================================================================================================================================================================================================================================================================================================================================================================================================================================================================================================================================================================================================================================================================================================================================================================================================================================================================================================================================================================================================================================================================================================================================================================================================================================================================================================================================================================================================================================================================================================================================================================================================================================================================================================================================================================================================================================================================================================================================================================================================================================================================================================================================================================================================================================================================================================================================================================================================================================================================================================================================================================================================================================================================================================================================================================================================================================================================================================================================================================================================================================================================================================================================================================================================================================================================================================================================================================================================================================================================================================================================================================================================================================================================================================================================================================================================================================================================================================================================================================================================================================================================================================================================================================================================================================================================================================================================================================================================================================================================================================================================================================================================================================================================================================================================================================================================================================================================================================================================================================================================================================================================================================================================================================================================================================================================================================================================================================================================================================================================================================================================================================================================================================================================================================================================================================================================================================================================================================================================================================================================================================================================================================================================================================================================================================================================================================================================================================================================================================================================================================================================================================================================================================================================================================================================================================================================================================================================================================================================================================================================================================================================================================================================================================================================================================================================================================================================================================================================================================================================================================================================================================================================================================================================================================================================================================================================================================================================================================================================================================================================================================================================================================================================================================================================================================================================================================================================================================================================================================================================================================================================================================================================================================================================================================================================================================================================================================================================================================================================================================================================================================================================================================================================================================================================================================================================================================================================================================================================================================================================================================================================================================================================================================================================================================================================================================================================================================================================================================================================================================================================================================================================================================================================================================================================================================================================================================================================================================================================================================================================================================================================================================================================================================================================================================================================================================================================================================================================================================================================================================================================================================================================================================================================================================================================================================================================================================================================================================================================================================================================================================================================================================================================================================================================================================================================================================================================================================================================================================================================================================================================================================================================================================================================================================================================================================================================================================================================================================================================================================================================================================================================================================================================================================================================================================================================================================================================================================================================================================================================================================================================================================================================================================================================================================================================================================================================================================================================================================================================================================================================================================================================================================================================================================================================================================================================================================================================================================================================================================================================================================================================================================================================================================================================================================================================================================================================================================================================================================================================================================================================================================================================================================================================================================================================================================================================================================================================================================================================================================================================================================================================================================================================================================================================================================================================================================================================================================================================================================================================================================================================================================================================================================================================================================================================================================================================================================================================================================================================================================================================================================================================================================================================================================================================================================================================================================================================================================================================================================================================================================================================================================================================================================================================================================================================================================================================================================================================================================================================================================================================================================================================================================================================================================================================================================================================================================================================================================================================================================================================================================================================================================================================================================================================================================================================================================================================================================================================================================================================================================================================================================================================================================================================================================================================================================================================================================================================================================================================================================================================================================================================================================================================================================================================================================================================================================================================================================================================================================================================================================================================================================================================================================================================================================================================================================================================================================================================================================================================================================================================================================================================================================================================================================================================================================================================================================================================================================================================================================================================================================================================================================================================================================================================================================================================================================================================================================================================================================================================================================================================================================================================================================================================================================================================================================================================================================================================================================================================================================================================================================================================================================================================================================================================================================================================================================================================================================================================================================================================================================================================================================================================================================================================================================================================================================================================================================================================================================================================================================================================================================================================================================================================================================================================================================================================================================================================================================================================================================================================================================================================================================================================================================================================================================================================================================================================================================================================================================================================================================================================================================================================================================================================================================================================================================================================================================================================================================================================================================================================================================================================================================================================================================================================================================================================================================================================================================================================================================================================================================================================================================================================================================================================================================================================================================================================================================================================================================================================================================================================================================================================================================================================================================================================================================================================================================================================================================================================================================================================================================================================================================================================================================================================================================================================================================================================================================================================================================================================================================================================================================================================================================================================================================================================================================================================================================================================================================================================================================================================================================================================================================================================================================================================================================================================================================================================================================================================================================================================================================================================================================================================================================================================================================================================================================================================================================================================================================================================================================================================================================================================================================================================================================================================================================================================================================================================================================================================================================================================================================================================================================================================================================================================================================================================================================================================================================================================================================================================================================================================================================================================================================================================================================================================================================================================================================================================================================================================================================================================================================================================================================================================================================================================================================================================================================================================================================================================================================================================================================================================================================================================================================================================================================================================] - 0s 47us/sample - loss: 8.5269e-04 - mean_squared_error: 7.7397e-04\n"
     ]
    },
    {
     "name": "stdout",
     "output_type": "stream",
     "text": [
      "[0.00012004390727573385, 0.000120043915]\n",
      "[0.0007739679324440658, 0.000773968]\n"
     ]
    }
   ],
   "source": [
    "# evaluating transfer-learned model\n",
    "eval_result = model.evaluate(X_test, Y_test, verbose=1)\n",
    "# evaluating OLD model with new data\n",
    "hypermodel_result = hypermodel.evaluate(X_test, Y_test, verbose=1)\n",
    "print(eval_result)\n",
    "print(hypermodel_result)"
   ]
  },
  {
   "cell_type": "code",
   "execution_count": 20,
   "metadata": {},
   "outputs": [
    {
     "data": {
      "image/png": "[encoded data removed]",
      "text/plain": [
       "<Figure size 432x288 with 1 Axes>"
      ]
     },
     "metadata": {
      "needs_background": "light"
     },
     "output_type": "display_data"
    },
    {
     "data": {
      "image/png": "[encoded data removed]",
      "text/plain": [
       "<Figure size 432x288 with 1 Axes>"
      ]
     },
     "metadata": {
      "needs_background": "light"
     },
     "output_type": "display_data"
    }
   ],
   "source": [
    "visualising_data(hypermodel_hist)\n",
    "visualising_data(model.history)"
   ]
  },
  {
   "cell_type": "code",
   "execution_count": 21,
   "metadata": {},
   "outputs": [
    {
     "name": "stdout",
     "output_type": "stream",
     "text": [
      "Train on 7000 samples, validate on 1500 samples\n",
      "Epoch 1/40\n",
      "7000/7000 [==============================] - ETA: 7s - loss: 1.0537e-04 - mean_squared_error: 1.0537e- - ETA: 0s - loss: 1.1384e-04 - mean_squared_error: 1.1384e- - ETA: 0s - loss: 1.1911e-04 - mean_squared_error: 1.1911e- - ETA: 0s - loss: 1.1891e-04 - mean_squared_error: 1.1891e- - ETA: 0s - loss: 1.1650e-04 - mean_squared_error: 1.1650e- - ETA: 0s - loss: 1.1571e-04 - mean_squared_error: 1.1571e- - ETA: 0s - loss: 1.1590e-04 - mean_squared_error: 1.1590e- - ETA: 0s - loss: 1.1657e-04 - mean_squared_error: 1.1657e- - ETA: 0s - loss: 1.1750e-04 - mean_squared_error: 1.1750e- - 1s 96us/sample - loss: 1.1818e-04 - mean_squared_error: 1.1818e-04 - val_loss: 1.1539e-04 - val_mean_squared_error: 1.1539e-04\n",
      "Epoch 2/40\n",
      "7000/7000 [==============================] - ETA: 1s - loss: 1.7742e-04 - mean_squared_error: 1.7742e- - ETA: 0s - loss: 1.1894e-04 - mean_squared_error: 1.1894e- - ETA: 0s - loss: 1.1644e-04 - mean_squared_error: 1.1644e- - ETA: 0s - loss: 1.1704e-04 - mean_squared_error: 1.1704e- - ETA: 0s - loss: 1.1681e-04 - mean_squared_error: 1.1681e- - ETA: 0s - loss: 1.1636e-04 - mean_squared_error: 1.1636e- - ETA: 0s - loss: 1.1627e-04 - mean_squared_error: 1.1627e- - ETA: 0s - loss: 1.1793e-04 - mean_squared_error: 1.1793e- - ETA: 0s - loss: 1.1636e-04 - mean_squared_error: 1.1636e- - ETA: 0s - loss: 1.1820e-04 - mean_squared_error: 1.1820e- - 1s 88us/sample - loss: 1.1848e-04 - mean_squared_error: 1.1848e-04 - val_loss: 1.1854e-04 - val_mean_squared_error: 1.1854e-04\n",
      "Epoch 3/40\n",
      "7000/7000 [==============================] - ETA: 0s - loss: 1.3974e-04 - mean_squared_error: 1.3974e- - ETA: 0s - loss: 1.2251e-04 - mean_squared_error: 1.2251e- - ETA: 0s - loss: 1.1229e-04 - mean_squared_error: 1.1229e- - ETA: 0s - loss: 1.1334e-04 - mean_squared_error: 1.1334e- - ETA: 0s - loss: 1.1475e-04 - mean_squared_error: 1.1475e- - ETA: 0s - loss: 1.1488e-04 - mean_squared_error: 1.1488e- - ETA: 0s - loss: 1.1842e-04 - mean_squared_error: 1.1842e- - ETA: 0s - loss: 1.1815e-04 - mean_squared_error: 1.1815e- - ETA: 0s - loss: 1.1975e-04 - mean_squared_error: 1.1975e- - ETA: 0s - loss: 1.1945e-04 - mean_squared_error: 1.1945e- - 1s 88us/sample - loss: 1.1861e-04 - mean_squared_error: 1.1861e-04 - val_loss: 1.1715e-04 - val_mean_squared_error: 1.1715e-04\n",
      "Epoch 4/40\n",
      "7000/7000 [==============================] - ETA: 0s - loss: 1.5699e-04 - mean_squared_error: 1.5699e- - ETA: 0s - loss: 1.1774e-04 - mean_squared_error: 1.1774e- - ETA: 0s - loss: 1.1531e-04 - mean_squared_error: 1.1531e- - ETA: 0s - loss: 1.1931e-04 - mean_squared_error: 1.1931e- - ETA: 0s - loss: 1.2036e-04 - mean_squared_error: 1.2036e- - ETA: 0s - loss: 1.2004e-04 - mean_squared_error: 1.2004e- - ETA: 0s - loss: 1.1962e-04 - mean_squared_error: 1.1962e- - ETA: 0s - loss: 1.1749e-04 - mean_squared_error: 1.1749e- - ETA: 0s - loss: 1.1700e-04 - mean_squared_error: 1.1700e- - 1s 84us/sample - loss: 1.1872e-04 - mean_squared_error: 1.1872e-04 - val_loss: 1.2496e-04 - val_mean_squared_error: 1.2496e-04\n",
      "Epoch 5/40\n",
      "7000/7000 [==============================] - ETA: 0s - loss: 1.6141e-04 - mean_squared_error: 1.6141e- - ETA: 0s - loss: 1.3241e-04 - mean_squared_error: 1.3241e- - ETA: 0s - loss: 1.2244e-04 - mean_squared_error: 1.2244e- - ETA: 0s - loss: 1.2168e-04 - mean_squared_error: 1.2168e- - ETA: 0s - loss: 1.2243e-04 - mean_squared_error: 1.2243e- - ETA: 0s - loss: 1.2211e-04 - mean_squared_error: 1.2211e- - ETA: 0s - loss: 1.2174e-04 - mean_squared_error: 1.2174e- - ETA: 0s - loss: 1.2078e-04 - mean_squared_error: 1.2078e- - ETA: 0s - loss: 1.1955e-04 - mean_squared_error: 1.1955e- - 1s 84us/sample - loss: 1.1866e-04 - mean_squared_error: 1.1866e-04 - val_loss: 1.1585e-04 - val_mean_squared_error: 1.1585e-04\n",
      "Epoch 6/40\n",
      "7000/7000 [==============================] - ETA: 0s - loss: 5.3428e-05 - mean_squared_error: 5.3428e- - ETA: 0s - loss: 1.2554e-04 - mean_squared_error: 1.2554e- - ETA: 0s - loss: 1.2365e-04 - mean_squared_error: 1.2365e- - ETA: 0s - loss: 1.2145e-04 - mean_squared_error: 1.2145e- - ETA: 0s - loss: 1.1766e-04 - mean_squared_error: 1.1766e- - ETA: 0s - loss: 1.1887e-04 - mean_squared_error: 1.1887e- - ETA: 0s - loss: 1.2107e-04 - mean_squared_error: 1.2107e- - ETA: 0s - loss: 1.1999e-04 - mean_squared_error: 1.1999e- - ETA: 0s - loss: 1.1940e-04 - mean_squared_error: 1.1940e- - ETA: 0s - loss: 1.1982e-04 - mean_squared_error: 1.1982e- - 1s 83us/sample - loss: 1.1968e-04 - mean_squared_error: 1.1968e-04 - val_loss: 1.1698e-04 - val_mean_squared_error: 1.1698e-04\n",
      "Epoch 7/40\n",
      "7000/7000 [==============================] - ETA: 0s - loss: 9.4251e-05 - mean_squared_error: 9.4251e- - ETA: 0s - loss: 1.1706e-04 - mean_squared_error: 1.1706e- - ETA: 0s - loss: 1.1659e-04 - mean_squared_error: 1.1659e- - ETA: 0s - loss: 1.1763e-04 - mean_squared_error: 1.1763e- - ETA: 0s - loss: 1.1962e-04 - mean_squared_error: 1.1962e- - ETA: 0s - loss: 1.1979e-04 - mean_squared_error: 1.1979e- - ETA: 0s - loss: 1.2168e-04 - mean_squared_error: 1.2168e- - ETA: 0s - loss: 1.1982e-04 - mean_squared_error: 1.1982e- - ETA: 0s - loss: 1.1943e-04 - mean_squared_error: 1.1943e- - 1s 84us/sample - loss: 1.1934e-04 - mean_squared_error: 1.1934e-04 - val_loss: 1.1739e-04 - val_mean_squared_error: 1.1739e-04\n",
      "Epoch 8/40\n",
      "7000/7000 [==============================] - ETA: 0s - loss: 7.9767e-05 - mean_squared_error: 7.9767e- - ETA: 0s - loss: 1.0306e-04 - mean_squared_error: 1.0306e- - ETA: 0s - loss: 1.1525e-04 - mean_squared_error: 1.1525e- - ETA: 0s - loss: 1.1675e-04 - mean_squared_error: 1.1675e- - ETA: 0s - loss: 1.1707e-04 - mean_squared_error: 1.1707e- - ETA: 0s - loss: 1.1868e-04 - mean_squared_error: 1.1868e- - ETA: 0s - loss: 1.1895e-04 - mean_squared_error: 1.1895e- - ETA: 0s - loss: 1.1918e-04 - mean_squared_error: 1.1918e- - ETA: 0s - loss: 1.1982e-04 - mean_squared_error: 1.1982e- - 1s 83us/sample - loss: 1.1982e-04 - mean_squared_error: 1.1982e-04 - val_loss: 1.1974e-04 - val_mean_squared_error: 1.1974e-04\n",
      "Epoch 9/40\n",
      "7000/7000 [==============================] - ETA: 0s - loss: 1.4240e-04 - mean_squared_error: 1.4240e- - ETA: 0s - loss: 1.1180e-04 - mean_squared_error: 1.1180e- - ETA: 0s - loss: 1.1779e-04 - mean_squared_error: 1.1779e- - ETA: 0s - loss: 1.1331e-04 - mean_squared_error: 1.1331e- - ETA: 0s - loss: 1.2031e-04 - mean_squared_error: 1.2031e- - ETA: 0s - loss: 1.2105e-04 - mean_squared_error: 1.2105e- - ETA: 0s - loss: 1.2270e-04 - mean_squared_error: 1.2270e- - ETA: 0s - loss: 1.2139e-04 - mean_squared_error: 1.2139e- - ETA: 0s - loss: 1.1993e-04 - mean_squared_error: 1.1993e- - 1s 82us/sample - loss: 1.2032e-04 - mean_squared_error: 1.2032e-04 - val_loss: 1.2026e-04 - val_mean_squared_error: 1.2026e-04\n",
      "Epoch 10/40\n",
      "7000/7000 [==============================] - ETA: 0s - loss: 1.3764e-04 - mean_squared_error: 1.3764e- - ETA: 0s - loss: 1.2102e-04 - mean_squared_error: 1.2102e- - ETA: 0s - loss: 1.1760e-04 - mean_squared_error: 1.1760e- - ETA: 0s - loss: 1.1599e-04 - mean_squared_error: 1.1599e- - ETA: 0s - loss: 1.1923e-04 - mean_squared_error: 1.1923e- - ETA: 0s - loss: 1.2077e-04 - mean_squared_error: 1.2077e- - ETA: 0s - loss: 1.2009e-04 - mean_squared_error: 1.2009e- - ETA: 0s - loss: 1.2154e-04 - mean_squared_error: 1.2154e- - ETA: 0s - loss: 1.2183e-04 - mean_squared_error: 1.2183e- - ETA: 0s - loss: 1.2062e-04 - mean_squared_error: 1.2062e- - 1s 89us/sample - loss: 1.2031e-04 - mean_squared_error: 1.2031e-04 - val_loss: 1.2119e-04 - val_mean_squared_error: 1.2119e-04\n",
      "Epoch 11/40\n",
      "7000/7000 [==============================] - ETA: 0s - loss: 8.4546e-05 - mean_squared_error: 8.4546e- - ETA: 0s - loss: 1.1394e-04 - mean_squared_error: 1.1394e- - ETA: 0s - loss: 1.0990e-04 - mean_squared_error: 1.0990e- - ETA: 0s - loss: 1.1463e-04 - mean_squared_error: 1.1463e- - ETA: 0s - loss: 1.1839e-04 - mean_squared_error: 1.1839e- - ETA: 0s - loss: 1.2309e-04 - mean_squared_error: 1.2309e- - ETA: 0s - loss: 1.2238e-04 - mean_squared_error: 1.2238e- - ETA: 0s - loss: 1.2179e-04 - mean_squared_error: 1.2179e- - ETA: 0s - loss: 1.2235e-04 - mean_squared_error: 1.2235e- - ETA: 0s - loss: 1.2265e-04 - mean_squared_error: 1.2265e- - 1s 92us/sample - loss: 1.2235e-04 - mean_squared_error: 1.2235e-04 - val_loss: 1.2051e-04 - val_mean_squared_error: 1.2051e-04\n"
     ]
    },
    {
     "name": "stdout",
     "output_type": "stream",
     "text": [
      "Epoch 12/40\n",
      "7000/7000 [==============================] - ETA: 0s - loss: 8.6151e-05 - mean_squared_error: 8.6151e- - ETA: 0s - loss: 1.1793e-04 - mean_squared_error: 1.1793e- - ETA: 0s - loss: 1.1571e-04 - mean_squared_error: 1.1571e- - ETA: 0s - loss: 1.2201e-04 - mean_squared_error: 1.2201e- - ETA: 0s - loss: 1.2123e-04 - mean_squared_error: 1.2123e- - ETA: 0s - loss: 1.2033e-04 - mean_squared_error: 1.2033e- - ETA: 0s - loss: 1.2162e-04 - mean_squared_error: 1.2162e- - ETA: 0s - loss: 1.1975e-04 - mean_squared_error: 1.1975e- - ETA: 0s - loss: 1.1944e-04 - mean_squared_error: 1.1944e- - ETA: 0s - loss: 1.1980e-04 - mean_squared_error: 1.1980e- - 1s 93us/sample - loss: 1.1991e-04 - mean_squared_error: 1.1991e-04 - val_loss: 1.1841e-04 - val_mean_squared_error: 1.1841e-04\n",
      "Epoch 13/40\n",
      "7000/7000 [==============================] - ETA: 0s - loss: 6.6282e-05 - mean_squared_error: 6.6282e- - ETA: 0s - loss: 1.2764e-04 - mean_squared_error: 1.2764e- - ETA: 0s - loss: 1.2069e-04 - mean_squared_error: 1.2069e- - ETA: 0s - loss: 1.2027e-04 - mean_squared_error: 1.2027e- - ETA: 0s - loss: 1.1799e-04 - mean_squared_error: 1.1799e- - ETA: 0s - loss: 1.2065e-04 - mean_squared_error: 1.2065e- - ETA: 0s - loss: 1.1905e-04 - mean_squared_error: 1.1905e- - ETA: 0s - loss: 1.1773e-04 - mean_squared_error: 1.1773e- - ETA: 0s - loss: 1.1903e-04 - mean_squared_error: 1.1903e- - ETA: 0s - loss: 1.1989e-04 - mean_squared_error: 1.1989e- - 1s 92us/sample - loss: 1.2013e-04 - mean_squared_error: 1.2013e-04 - val_loss: 1.1736e-04 - val_mean_squared_error: 1.1736e-04\n",
      "Epoch 14/40\n",
      "7000/7000 [==============================] - ETA: 0s - loss: 1.3306e-04 - mean_squared_error: 1.3306e- - ETA: 0s - loss: 1.1892e-04 - mean_squared_error: 1.1892e- - ETA: 0s - loss: 1.1302e-04 - mean_squared_error: 1.1302e- - ETA: 0s - loss: 1.1570e-04 - mean_squared_error: 1.1570e- - ETA: 0s - loss: 1.1729e-04 - mean_squared_error: 1.1729e- - ETA: 0s - loss: 1.2057e-04 - mean_squared_error: 1.2057e- - ETA: 0s - loss: 1.2149e-04 - mean_squared_error: 1.2149e- - ETA: 0s - loss: 1.2035e-04 - mean_squared_error: 1.2035e- - ETA: 0s - loss: 1.2159e-04 - mean_squared_error: 1.2159e- - ETA: 0s - loss: 1.2014e-04 - mean_squared_error: 1.2014e- - 1s 90us/sample - loss: 1.2021e-04 - mean_squared_error: 1.2021e-04 - val_loss: 1.2292e-04 - val_mean_squared_error: 1.2292e-04\n",
      "Epoch 15/40\n",
      "7000/7000 [==============================] - ETA: 0s - loss: 1.3633e-04 - mean_squared_error: 1.3633e- - ETA: 0s - loss: 1.2746e-04 - mean_squared_error: 1.2746e- - ETA: 0s - loss: 1.2857e-04 - mean_squared_error: 1.2857e- - ETA: 0s - loss: 1.2123e-04 - mean_squared_error: 1.2123e- - ETA: 0s - loss: 1.2026e-04 - mean_squared_error: 1.2026e- - ETA: 0s - loss: 1.2189e-04 - mean_squared_error: 1.2189e- - ETA: 0s - loss: 1.2225e-04 - mean_squared_error: 1.2225e- - ETA: 0s - loss: 1.2221e-04 - mean_squared_error: 1.2221e- - ETA: 0s - loss: 1.2276e-04 - mean_squared_error: 1.2276e- - ETA: 0s - loss: 1.2131e-04 - mean_squared_error: 1.2131e- - 1s 90us/sample - loss: 1.2080e-04 - mean_squared_error: 1.2080e-04 - val_loss: 1.1749e-04 - val_mean_squared_error: 1.1749e-04\n",
      "Epoch 16/40\n",
      "7000/7000 [==============================] - ETA: 0s - loss: 9.1415e-05 - mean_squared_error: 9.1415e- - ETA: 0s - loss: 1.3237e-04 - mean_squared_error: 1.3237e- - ETA: 0s - loss: 1.2870e-04 - mean_squared_error: 1.2870e- - ETA: 0s - loss: 1.2444e-04 - mean_squared_error: 1.2444e- - ETA: 0s - loss: 1.1882e-04 - mean_squared_error: 1.1882e- - ETA: 0s - loss: 1.2063e-04 - mean_squared_error: 1.2063e- - ETA: 0s - loss: 1.2033e-04 - mean_squared_error: 1.2033e- - ETA: 0s - loss: 1.2072e-04 - mean_squared_error: 1.2072e- - ETA: 0s - loss: 1.2151e-04 - mean_squared_error: 1.2151e- - ETA: 0s - loss: 1.1976e-04 - mean_squared_error: 1.1976e- - 1s 88us/sample - loss: 1.1928e-04 - mean_squared_error: 1.1928e-04 - val_loss: 1.2017e-04 - val_mean_squared_error: 1.2017e-04\n",
      "Epoch 17/40\n",
      "7000/7000 [==============================] - ETA: 0s - loss: 1.2581e-04 - mean_squared_error: 1.2581e- - ETA: 0s - loss: 1.5294e-04 - mean_squared_error: 1.5294e- - ETA: 0s - loss: 1.3189e-04 - mean_squared_error: 1.3189e- - ETA: 0s - loss: 1.2183e-04 - mean_squared_error: 1.2183e- - ETA: 0s - loss: 1.2317e-04 - mean_squared_error: 1.2317e- - ETA: 0s - loss: 1.2249e-04 - mean_squared_error: 1.2249e- - ETA: 0s - loss: 1.2218e-04 - mean_squared_error: 1.2218e- - ETA: 0s - loss: 1.2096e-04 - mean_squared_error: 1.2096e- - ETA: 0s - loss: 1.2051e-04 - mean_squared_error: 1.2051e- - ETA: 0s - loss: 1.2095e-04 - mean_squared_error: 1.2095e- - 1s 92us/sample - loss: 1.2047e-04 - mean_squared_error: 1.2047e-04 - val_loss: 1.1630e-04 - val_mean_squared_error: 1.1630e-04\n",
      "Epoch 18/40\n",
      "7000/7000 [==============================] - ETA: 0s - loss: 5.8628e-05 - mean_squared_error: 5.8628e- - ETA: 0s - loss: 1.0313e-04 - mean_squared_error: 1.0313e- - ETA: 0s - loss: 1.0353e-04 - mean_squared_error: 1.0353e- - ETA: 0s - loss: 1.1358e-04 - mean_squared_error: 1.1358e- - ETA: 0s - loss: 1.1842e-04 - mean_squared_error: 1.1842e- - ETA: 0s - loss: 1.1995e-04 - mean_squared_error: 1.1995e- - ETA: 0s - loss: 1.2040e-04 - mean_squared_error: 1.2040e- - ETA: 0s - loss: 1.2050e-04 - mean_squared_error: 1.2050e- - ETA: 0s - loss: 1.1940e-04 - mean_squared_error: 1.1940e- - ETA: 0s - loss: 1.2020e-04 - mean_squared_error: 1.2020e- - 1s 93us/sample - loss: 1.2001e-04 - mean_squared_error: 1.2001e-04 - val_loss: 1.1890e-04 - val_mean_squared_error: 1.1889e-04\n",
      "Epoch 19/40\n",
      "7000/7000 [==============================] - ETA: 0s - loss: 1.4739e-04 - mean_squared_error: 1.4739e- - ETA: 0s - loss: 1.2306e-04 - mean_squared_error: 1.2306e- - ETA: 0s - loss: 1.2455e-04 - mean_squared_error: 1.2455e- - ETA: 0s - loss: 1.2414e-04 - mean_squared_error: 1.2414e- - ETA: 0s - loss: 1.2009e-04 - mean_squared_error: 1.2009e- - ETA: 0s - loss: 1.2062e-04 - mean_squared_error: 1.2062e- - ETA: 0s - loss: 1.2085e-04 - mean_squared_error: 1.2085e- - ETA: 0s - loss: 1.2110e-04 - mean_squared_error: 1.2110e- - ETA: 0s - loss: 1.2053e-04 - mean_squared_error: 1.2053e- - ETA: 0s - loss: 1.2116e-04 - mean_squared_error: 1.2116e- - 1s 94us/sample - loss: 1.2085e-04 - mean_squared_error: 1.2085e-04 - val_loss: 1.2345e-04 - val_mean_squared_error: 1.2345e-04\n",
      "Epoch 20/40\n",
      "7000/7000 [==============================] - ETA: 0s - loss: 1.1730e-04 - mean_squared_error: 1.1730e- - ETA: 0s - loss: 1.1681e-04 - mean_squared_error: 1.1681e- - ETA: 0s - loss: 1.1430e-04 - mean_squared_error: 1.1430e- - ETA: 0s - loss: 1.2068e-04 - mean_squared_error: 1.2068e- - ETA: 0s - loss: 1.2323e-04 - mean_squared_error: 1.2323e- - ETA: 0s - loss: 1.1929e-04 - mean_squared_error: 1.1929e- - ETA: 0s - loss: 1.1854e-04 - mean_squared_error: 1.1854e- - ETA: 0s - loss: 1.2090e-04 - mean_squared_error: 1.2090e- - ETA: 0s - loss: 1.1970e-04 - mean_squared_error: 1.1970e- - ETA: 0s - loss: 1.2007e-04 - mean_squared_error: 1.2007e- - 1s 86us/sample - loss: 1.2008e-04 - mean_squared_error: 1.2008e-04 - val_loss: 1.1894e-04 - val_mean_squared_error: 1.1894e-04\n",
      "Epoch 21/40\n",
      "7000/7000 [==============================] - ETA: 0s - loss: 2.1177e-04 - mean_squared_error: 2.1177e- - ETA: 0s - loss: 1.0628e-04 - mean_squared_error: 1.0628e- - ETA: 0s - loss: 1.1334e-04 - mean_squared_error: 1.1334e- - ETA: 0s - loss: 1.1136e-04 - mean_squared_error: 1.1136e- - ETA: 0s - loss: 1.1351e-04 - mean_squared_error: 1.1351e- - ETA: 0s - loss: 1.1611e-04 - mean_squared_error: 1.1611e- - ETA: 0s - loss: 1.1695e-04 - mean_squared_error: 1.1695e- - ETA: 0s - loss: 1.1681e-04 - mean_squared_error: 1.1681e- - ETA: 0s - loss: 1.1896e-04 - mean_squared_error: 1.1896e- - ETA: 0s - loss: 1.1912e-04 - mean_squared_error: 1.1912e- - 1s 86us/sample - loss: 1.2010e-04 - mean_squared_error: 1.2010e-04 - val_loss: 1.1891e-04 - val_mean_squared_error: 1.1891e-04\n",
      "Epoch 22/40\n"
     ]
    },
    {
     "name": "stdout",
     "output_type": "stream",
     "text": [
      "7000/7000 [==============================] - ETA: 0s - loss: 1.2700e-04 - mean_squared_error: 1.2700e- - ETA: 0s - loss: 1.2134e-04 - mean_squared_error: 1.2134e- - ETA: 0s - loss: 1.2680e-04 - mean_squared_error: 1.2680e- - ETA: 0s - loss: 1.2498e-04 - mean_squared_error: 1.2498e- - ETA: 0s - loss: 1.1891e-04 - mean_squared_error: 1.1891e- - ETA: 0s - loss: 1.2238e-04 - mean_squared_error: 1.2238e- - ETA: 0s - loss: 1.2261e-04 - mean_squared_error: 1.2261e- - ETA: 0s - loss: 1.2251e-04 - mean_squared_error: 1.2251e- - ETA: 0s - loss: 1.2202e-04 - mean_squared_error: 1.2202e- - 1s 83us/sample - loss: 1.2084e-04 - mean_squared_error: 1.2084e-04 - val_loss: 1.1610e-04 - val_mean_squared_error: 1.1610e-04\n",
      "Epoch 23/40\n",
      "7000/7000 [==============================] - ETA: 0s - loss: 7.8235e-05 - mean_squared_error: 7.8235e- - ETA: 0s - loss: 1.0851e-04 - mean_squared_error: 1.0851e- - ETA: 0s - loss: 1.1582e-04 - mean_squared_error: 1.1582e- - ETA: 0s - loss: 1.1771e-04 - mean_squared_error: 1.1771e- - ETA: 0s - loss: 1.1780e-04 - mean_squared_error: 1.1780e- - ETA: 0s - loss: 1.1881e-04 - mean_squared_error: 1.1881e- - ETA: 0s - loss: 1.1769e-04 - mean_squared_error: 1.1769e- - ETA: 0s - loss: 1.1852e-04 - mean_squared_error: 1.1852e- - ETA: 0s - loss: 1.1995e-04 - mean_squared_error: 1.1995e- - 1s 85us/sample - loss: 1.2011e-04 - mean_squared_error: 1.2011e-04 - val_loss: 1.1969e-04 - val_mean_squared_error: 1.1969e-04\n",
      "Epoch 24/40\n",
      "7000/7000 [==============================] - ETA: 0s - loss: 7.7564e-05 - mean_squared_error: 7.7564e- - ETA: 0s - loss: 1.1803e-04 - mean_squared_error: 1.1803e- - ETA: 0s - loss: 1.2601e-04 - mean_squared_error: 1.2601e- - ETA: 0s - loss: 1.2192e-04 - mean_squared_error: 1.2192e- - ETA: 0s - loss: 1.1921e-04 - mean_squared_error: 1.1921e- - ETA: 0s - loss: 1.2037e-04 - mean_squared_error: 1.2037e- - ETA: 0s - loss: 1.1879e-04 - mean_squared_error: 1.1879e- - ETA: 0s - loss: 1.1900e-04 - mean_squared_error: 1.1900e- - ETA: 0s - loss: 1.1940e-04 - mean_squared_error: 1.1940e- - 1s 82us/sample - loss: 1.2004e-04 - mean_squared_error: 1.2004e-04 - val_loss: 1.1926e-04 - val_mean_squared_error: 1.1926e-04\n",
      "Epoch 25/40\n",
      "7000/7000 [==============================] - ETA: 0s - loss: 1.0417e-04 - mean_squared_error: 1.0417e- - ETA: 0s - loss: 1.2550e-04 - mean_squared_error: 1.2550e- - ETA: 0s - loss: 1.2669e-04 - mean_squared_error: 1.2669e- - ETA: 0s - loss: 1.2106e-04 - mean_squared_error: 1.2106e- - ETA: 0s - loss: 1.1795e-04 - mean_squared_error: 1.1795e- - ETA: 0s - loss: 1.1800e-04 - mean_squared_error: 1.1800e- - ETA: 0s - loss: 1.1757e-04 - mean_squared_error: 1.1757e- - ETA: 0s - loss: 1.1792e-04 - mean_squared_error: 1.1792e- - ETA: 0s - loss: 1.1836e-04 - mean_squared_error: 1.1836e- - 1s 80us/sample - loss: 1.1957e-04 - mean_squared_error: 1.1957e-04 - val_loss: 1.1888e-04 - val_mean_squared_error: 1.1888e-04\n",
      "Epoch 26/40\n",
      "7000/7000 [==============================] - ETA: 0s - loss: 7.6472e-05 - mean_squared_error: 7.6472e- - ETA: 0s - loss: 1.0762e-04 - mean_squared_error: 1.0762e- - ETA: 0s - loss: 1.0963e-04 - mean_squared_error: 1.0963e- - ETA: 0s - loss: 1.1270e-04 - mean_squared_error: 1.1270e- - ETA: 0s - loss: 1.1361e-04 - mean_squared_error: 1.1361e- - ETA: 0s - loss: 1.1709e-04 - mean_squared_error: 1.1709e- - ETA: 0s - loss: 1.1825e-04 - mean_squared_error: 1.1825e- - ETA: 0s - loss: 1.1941e-04 - mean_squared_error: 1.1941e- - ETA: 0s - loss: 1.2002e-04 - mean_squared_error: 1.2002e- - 1s 82us/sample - loss: 1.2047e-04 - mean_squared_error: 1.2047e-04 - val_loss: 1.1599e-04 - val_mean_squared_error: 1.1599e-04\n",
      "Epoch 27/40\n",
      "7000/7000 [==============================] - ETA: 0s - loss: 2.0056e-04 - mean_squared_error: 2.0056e- - ETA: 0s - loss: 1.1086e-04 - mean_squared_error: 1.1086e- - ETA: 0s - loss: 1.1492e-04 - mean_squared_error: 1.1492e- - ETA: 0s - loss: 1.1917e-04 - mean_squared_error: 1.1917e- - ETA: 0s - loss: 1.1924e-04 - mean_squared_error: 1.1924e- - ETA: 0s - loss: 1.1903e-04 - mean_squared_error: 1.1903e- - ETA: 0s - loss: 1.1757e-04 - mean_squared_error: 1.1757e- - ETA: 0s - loss: 1.1885e-04 - mean_squared_error: 1.1885e- - ETA: 0s - loss: 1.1777e-04 - mean_squared_error: 1.1777e- - 1s 81us/sample - loss: 1.1929e-04 - mean_squared_error: 1.1929e-04 - val_loss: 1.1664e-04 - val_mean_squared_error: 1.1664e-04\n",
      "Epoch 28/40\n",
      "7000/7000 [==============================] - ETA: 0s - loss: 1.6058e-04 - mean_squared_error: 1.6058e- - ETA: 0s - loss: 1.4010e-04 - mean_squared_error: 1.4010e- - ETA: 0s - loss: 1.2982e-04 - mean_squared_error: 1.2982e- - ETA: 0s - loss: 1.2656e-04 - mean_squared_error: 1.2656e- - ETA: 0s - loss: 1.2311e-04 - mean_squared_error: 1.2311e- - ETA: 0s - loss: 1.2309e-04 - mean_squared_error: 1.2309e- - ETA: 0s - loss: 1.2368e-04 - mean_squared_error: 1.2368e- - ETA: 0s - loss: 1.2230e-04 - mean_squared_error: 1.2230e- - ETA: 0s - loss: 1.2080e-04 - mean_squared_error: 1.2080e- - 1s 82us/sample - loss: 1.2027e-04 - mean_squared_error: 1.2027e-04 - val_loss: 1.1873e-04 - val_mean_squared_error: 1.1873e-04\n",
      "Epoch 29/40\n",
      "7000/7000 [==============================] - ETA: 0s - loss: 6.5699e-05 - mean_squared_error: 6.5699e- - ETA: 0s - loss: 1.0619e-04 - mean_squared_error: 1.0619e- - ETA: 0s - loss: 1.1464e-04 - mean_squared_error: 1.1464e- - ETA: 0s - loss: 1.1692e-04 - mean_squared_error: 1.1692e- - ETA: 0s - loss: 1.1554e-04 - mean_squared_error: 1.1554e- - ETA: 0s - loss: 1.1638e-04 - mean_squared_error: 1.1638e- - ETA: 0s - loss: 1.1800e-04 - mean_squared_error: 1.1800e- - ETA: 0s - loss: 1.2179e-04 - mean_squared_error: 1.2179e- - ETA: 0s - loss: 1.2045e-04 - mean_squared_error: 1.2045e- - 1s 84us/sample - loss: 1.2004e-04 - mean_squared_error: 1.2004e-04 - val_loss: 1.1652e-04 - val_mean_squared_error: 1.1652e-04\n",
      "Epoch 30/40\n",
      "7000/7000 [==============================] - ETA: 0s - loss: 1.2475e-04 - mean_squared_error: 1.2475e- - ETA: 0s - loss: 1.0563e-04 - mean_squared_error: 1.0563e- - ETA: 0s - loss: 1.1651e-04 - mean_squared_error: 1.1651e- - ETA: 0s - loss: 1.2255e-04 - mean_squared_error: 1.2255e- - ETA: 0s - loss: 1.2240e-04 - mean_squared_error: 1.2240e- - ETA: 0s - loss: 1.2202e-04 - mean_squared_error: 1.2202e- - ETA: 0s - loss: 1.2078e-04 - mean_squared_error: 1.2078e- - ETA: 0s - loss: 1.1831e-04 - mean_squared_error: 1.1831e- - ETA: 0s - loss: 1.1845e-04 - mean_squared_error: 1.1845e- - ETA: 0s - loss: 1.2033e-04 - mean_squared_error: 1.2033e- - 1s 86us/sample - loss: 1.2023e-04 - mean_squared_error: 1.2023e-04 - val_loss: 1.2622e-04 - val_mean_squared_error: 1.2622e-04\n",
      "Epoch 31/40\n",
      "7000/7000 [==============================] - ETA: 0s - loss: 2.1035e-04 - mean_squared_error: 2.1035e- - ETA: 0s - loss: 1.2218e-04 - mean_squared_error: 1.2218e- - ETA: 0s - loss: 1.2381e-04 - mean_squared_error: 1.2381e- - ETA: 0s - loss: 1.2466e-04 - mean_squared_error: 1.2466e- - ETA: 0s - loss: 1.2479e-04 - mean_squared_error: 1.2479e- - ETA: 0s - loss: 1.2214e-04 - mean_squared_error: 1.2214e- - ETA: 0s - loss: 1.2071e-04 - mean_squared_error: 1.2071e- - ETA: 0s - loss: 1.2006e-04 - mean_squared_error: 1.2006e- - ETA: 0s - loss: 1.2117e-04 - mean_squared_error: 1.2117e- - 1s 83us/sample - loss: 1.2015e-04 - mean_squared_error: 1.2015e-04 - val_loss: 1.2108e-04 - val_mean_squared_error: 1.2108e-04\n",
      "Epoch 32/40\n",
      "7000/7000 [==============================] - ETA: 0s - loss: 1.6019e-04 - mean_squared_error: 1.6019e- - ETA: 0s - loss: 1.1581e-04 - mean_squared_error: 1.1581e- - ETA: 0s - loss: 1.1003e-04 - mean_squared_error: 1.1003e- - ETA: 0s - loss: 1.1300e-04 - mean_squared_error: 1.1300e- - ETA: 0s - loss: 1.1841e-04 - mean_squared_error: 1.1841e- - ETA: 0s - loss: 1.1866e-04 - mean_squared_error: 1.1866e- - ETA: 0s - loss: 1.1801e-04 - mean_squared_error: 1.1801e- - ETA: 0s - loss: 1.1993e-04 - mean_squared_error: 1.1993e- - ETA: 0s - loss: 1.1880e-04 - mean_squared_error: 1.1880e- - 1s 84us/sample - loss: 1.1964e-04 - mean_squared_error: 1.1964e-04 - val_loss: 1.1815e-04 - val_mean_squared_error: 1.1815e-04\n",
      "Epoch 33/40\n"
     ]
    },
    {
     "name": "stdout",
     "output_type": "stream",
     "text": [
      "7000/7000 [==============================] - ETA: 0s - loss: 6.4739e-05 - mean_squared_error: 6.4739e- - ETA: 0s - loss: 1.1198e-04 - mean_squared_error: 1.1198e- - ETA: 0s - loss: 1.1966e-04 - mean_squared_error: 1.1966e- - ETA: 0s - loss: 1.2069e-04 - mean_squared_error: 1.2069e- - ETA: 0s - loss: 1.2184e-04 - mean_squared_error: 1.2184e- - ETA: 0s - loss: 1.2293e-04 - mean_squared_error: 1.2293e- - ETA: 0s - loss: 1.2228e-04 - mean_squared_error: 1.2228e- - ETA: 0s - loss: 1.2150e-04 - mean_squared_error: 1.2150e- - ETA: 0s - loss: 1.2137e-04 - mean_squared_error: 1.2137e- - 1s 83us/sample - loss: 1.2177e-04 - mean_squared_error: 1.2177e-04 - val_loss: 1.1483e-04 - val_mean_squared_error: 1.1483e-04\n",
      "Epoch 34/40\n",
      "7000/7000 [==============================] - ETA: 0s - loss: 1.0573e-04 - mean_squared_error: 1.0573e- - ETA: 0s - loss: 1.1021e-04 - mean_squared_error: 1.1021e- - ETA: 0s - loss: 1.1476e-04 - mean_squared_error: 1.1476e- - ETA: 0s - loss: 1.1691e-04 - mean_squared_error: 1.1691e- - ETA: 0s - loss: 1.1759e-04 - mean_squared_error: 1.1759e- - ETA: 0s - loss: 1.1904e-04 - mean_squared_error: 1.1904e- - ETA: 0s - loss: 1.1859e-04 - mean_squared_error: 1.1859e- - ETA: 0s - loss: 1.1832e-04 - mean_squared_error: 1.1832e- - ETA: 0s - loss: 1.1918e-04 - mean_squared_error: 1.1918e- - 1s 83us/sample - loss: 1.2004e-04 - mean_squared_error: 1.2004e-04 - val_loss: 1.1958e-04 - val_mean_squared_error: 1.1958e-04\n",
      "Epoch 35/40\n",
      "7000/7000 [==============================] - ETA: 0s - loss: 8.7022e-05 - mean_squared_error: 8.7022e- - ETA: 0s - loss: 1.1963e-04 - mean_squared_error: 1.1963e- - ETA: 0s - loss: 1.1799e-04 - mean_squared_error: 1.1799e- - ETA: 0s - loss: 1.1796e-04 - mean_squared_error: 1.1796e- - ETA: 0s - loss: 1.1780e-04 - mean_squared_error: 1.1780e- - ETA: 0s - loss: 1.1616e-04 - mean_squared_error: 1.1616e- - ETA: 0s - loss: 1.1679e-04 - mean_squared_error: 1.1679e- - ETA: 0s - loss: 1.1895e-04 - mean_squared_error: 1.1895e- - ETA: 0s - loss: 1.2035e-04 - mean_squared_error: 1.2035e- - 1s 82us/sample - loss: 1.2013e-04 - mean_squared_error: 1.2013e-04 - val_loss: 1.2149e-04 - val_mean_squared_error: 1.2149e-04\n",
      "Epoch 36/40\n",
      "7000/7000 [==============================] - ETA: 0s - loss: 1.3639e-04 - mean_squared_error: 1.3639e- - ETA: 0s - loss: 1.3206e-04 - mean_squared_error: 1.3206e- - ETA: 0s - loss: 1.2005e-04 - mean_squared_error: 1.2005e- - ETA: 0s - loss: 1.2262e-04 - mean_squared_error: 1.2262e- - ETA: 0s - loss: 1.2085e-04 - mean_squared_error: 1.2085e- - ETA: 0s - loss: 1.2065e-04 - mean_squared_error: 1.2065e- - ETA: 0s - loss: 1.2165e-04 - mean_squared_error: 1.2165e- - ETA: 0s - loss: 1.2113e-04 - mean_squared_error: 1.2113e- - ETA: 0s - loss: 1.1865e-04 - mean_squared_error: 1.1865e- - 1s 80us/sample - loss: 1.1984e-04 - mean_squared_error: 1.1984e-04 - val_loss: 1.2740e-04 - val_mean_squared_error: 1.2740e-04\n",
      "Epoch 37/40\n",
      "7000/7000 [==============================] - ETA: 0s - loss: 8.2790e-05 - mean_squared_error: 8.2790e- - ETA: 0s - loss: 1.0929e-04 - mean_squared_error: 1.0929e- - ETA: 0s - loss: 1.1216e-04 - mean_squared_error: 1.1216e- - ETA: 0s - loss: 1.1986e-04 - mean_squared_error: 1.1986e- - ETA: 0s - loss: 1.1949e-04 - mean_squared_error: 1.1949e- - ETA: 0s - loss: 1.2081e-04 - mean_squared_error: 1.2081e- - ETA: 0s - loss: 1.2076e-04 - mean_squared_error: 1.2076e- - ETA: 0s - loss: 1.2113e-04 - mean_squared_error: 1.2113e- - ETA: 0s - loss: 1.2140e-04 - mean_squared_error: 1.2140e- - 1s 80us/sample - loss: 1.2063e-04 - mean_squared_error: 1.2063e-04 - val_loss: 1.1854e-04 - val_mean_squared_error: 1.1854e-04\n",
      "Epoch 38/40\n",
      "7000/7000 [==============================] - ETA: 0s - loss: 9.5905e-05 - mean_squared_error: 9.5905e- - ETA: 0s - loss: 1.2436e-04 - mean_squared_error: 1.2436e- - ETA: 0s - loss: 1.2083e-04 - mean_squared_error: 1.2083e- - ETA: 0s - loss: 1.2106e-04 - mean_squared_error: 1.2106e- - ETA: 0s - loss: 1.2168e-04 - mean_squared_error: 1.2168e- - ETA: 0s - loss: 1.2270e-04 - mean_squared_error: 1.2270e- - ETA: 0s - loss: 1.2019e-04 - mean_squared_error: 1.2019e- - ETA: 0s - loss: 1.2043e-04 - mean_squared_error: 1.2043e- - ETA: 0s - loss: 1.1941e-04 - mean_squared_error: 1.1941e- - 1s 82us/sample - loss: 1.1992e-04 - mean_squared_error: 1.1992e-04 - val_loss: 1.1887e-04 - val_mean_squared_error: 1.1887e-04\n",
      "Epoch 39/40\n",
      "7000/7000 [==============================] - ETA: 0s - loss: 1.2913e-04 - mean_squared_error: 1.2913e- - ETA: 0s - loss: 1.2472e-04 - mean_squared_error: 1.2472e- - ETA: 0s - loss: 1.1353e-04 - mean_squared_error: 1.1353e- - ETA: 0s - loss: 1.1373e-04 - mean_squared_error: 1.1373e- - ETA: 0s - loss: 1.1587e-04 - mean_squared_error: 1.1587e- - ETA: 0s - loss: 1.1500e-04 - mean_squared_error: 1.1500e- - ETA: 0s - loss: 1.1597e-04 - mean_squared_error: 1.1597e- - ETA: 0s - loss: 1.1630e-04 - mean_squared_error: 1.1630e- - ETA: 0s - loss: 1.1870e-04 - mean_squared_error: 1.1870e- - 1s 83us/sample - loss: 1.2036e-04 - mean_squared_error: 1.2036e-04 - val_loss: 1.1912e-04 - val_mean_squared_error: 1.1912e-04\n",
      "Epoch 40/40\n",
      "7000/7000 [==============================] - ETA: 0s - loss: 1.0721e-04 - mean_squared_error: 1.0721e- - ETA: 0s - loss: 1.0676e-04 - mean_squared_error: 1.0676e- - ETA: 0s - loss: 1.1455e-04 - mean_squared_error: 1.1455e- - ETA: 0s - loss: 1.1992e-04 - mean_squared_error: 1.1992e- - ETA: 0s - loss: 1.1964e-04 - mean_squared_error: 1.1964e- - ETA: 0s - loss: 1.2011e-04 - mean_squared_error: 1.2011e- - ETA: 0s - loss: 1.2054e-04 - mean_squared_error: 1.2054e- - ETA: 0s - loss: 1.2113e-04 - mean_squared_error: 1.2113e- - ETA: 0s - loss: 1.2122e-04 - mean_squared_error: 1.2122e- - ETA: 0s - loss: 1.2065e-04 - mean_squared_error: 1.2065e- - 1s 83us/sample - loss: 1.2050e-04 - mean_squared_error: 1.2050e-04 - val_loss: 1.1789e-04 - val_mean_squared_error: 1.1789e-04\n",
      "24.186607122421265\n"
     ]
    },
    {
     "name": "stdout",
     "output_type": "stream",
     "text": [
      "1500/1 [========================================================================================================================================================================================================================================================================================================================================================================================================================================================================================================================================================================================================================================================================================================================================================================================================================================================================================================================================================================================================================================================================================================================================================================================================================================================================================================================================================================================================================================================================================================================================================================================================================================================================================================================================================================================================================================================================================================================================================================================================================================================================================================================================================================================================================================================================================================================================================================================================================================================================================================================================================================================================================================================================================================================================================================================================================================================================================================================================================================================================================================================================================================================================================================================================================================================================================================================================================================================================================================================================================================================================================================================================================================================================================================================================================================================================================================================================================================================================================================================================================================================================================================================================================================================================================================================================================================================================================================================================================================================================================================================================================================================================================================================================================================================================================================================================================================================================================================================================================================================================================================================================================================================================================================================================================================================================================================================================================================================================================================================================================================================================================================================================================================================================================================================================================================================================================================================================================================================================================================================================================================================================================================================================================================================================================================================================================================================================================================================================================================================================================================================================================================================================================================================================================================================================================================================================================================================================================================================================================================================================================================================================================================================================================================================================================================================================================================================================================================================================================================================================================================================================================================================================================================================================================================================================================================================================================================================================================================================================================================================================================================================================================================================================================================================================================================================================================================================================================================================================================================================================================================================================================================================================================================================================================================================================================================================================================================================================================================================================================================================================================================================================================================================================================================================================================================================================================================================================================================================================================================================================================================================================================================================================================================================================================================================================================================================================================================================================================================================================================================================================================================================================================================================================================================================================================================================================================================================================================================================================================================================================================================================================================================================================================================================================================================================================================================================================================================================================================================================================================================================================================================================================================================================================================================================================================================================================================================================================================================================================================================================================================================================================================================================================================================================================================================================================================================================================================================================================================================================================================================================================================================================================================================================================================================================================================================================================================================================================================================================================================================================================================================================================================================================================================================================================================================================================================================================================================================================================================================================================================================================================================================================================================================================================================================================================================================================================================================================================================================================================================================================================================================================================================================================================================================================================================================================================================================================================================================================================================================================================================================================================================================================================================================================================================================================================================================================================================================================================================================================================================================================================================================================================================================================================================================================================================================================================================================================================================================================================================================================================================================================================================================================================================================================================================================================================================================================================================================================================================================================================================================================================================================================================================================================================================================================================================================================================================================================================================================================================================================================================================================================================================================================================================================================================================================================================================================================================================================================================================================================================================================================================================================================================================================================================================================================================================================================================================================================================================================================================================================================================================================================================================================================================================================================================================================================================================================================================================================================================================================================================================================================================================================================================================================================================================================================================================================================================================================================================================================================================================================================================================================================================================================================================================================================================================================================================================================================================================================================================================================================================================================================================================================================================================================================================================================================================================================================================================================================================================================================================================================================================================================================================================================================================================================================================================================================================================================================================================================================================================================================================================================================================================================================================================================================================================================================================================================================================================================================================================================================================================================================================================================================================================================================================================================================================================================================================================================================================================================================================================================================================================================================================================================================================================================================================================================================================================================================================================================================================================================================================================================================================================================================================================================================================================================================================================================================================================================================================================================================================================================================================================================================================================================================================================================================================================================================================================================================================================================================================================================================================================================================================================================================================================================================================================================================================================================================================================================================================================================================================================================================================================================================================================================================================================================================================================================================================================================================================================================================================================================================================================================================================================================================================================================================================================================================================================================================================================================================================================================================================================================================================================================================================================================================================================================================================================================================================================================================================================================================================================================================================================================================================================================================================================================================================================================================================================================================================================================================================================================================================================================================================================================================================================================================================================================================================================================================================================================================================================================================================================================================================================================================================================================================================================================================================================================================================================================================================================================================================================================================================================================================================================================================================================================================================================================================================================================================================================================================================================================================================================================================================================================================================================================================================================================================================================================================================================================================================================================================================================================================================================================================================================================================================================================================================================================================================================================================================================================================================================================================================================================================================================================================================================================================================================================================================================================================================================================================================================================================================================================================================================================================================================================================================================================================================================================================================================================================================================================================================================================================================================================================================================================================================================================================================================================================================================================================================================================================================================================================================================================================================================================================================================================================================================================================================================================================================================================================================================================================================================================================================================================================================================================================================================================================================================================================================================================================================================================================================================================================================================================================================================================================================================================================================================================================================================================================================================================================================================================================================================================================================================================================================================================================================================================================================================================================================================================================================================================================================================================================================================================================================================================================================================================================================================================================================================================================================================================================================================================================================================================================================================================================================================================================================================================================================================================================================================================================================================================================================================================================================================================================================================================================================================================================================================================================================================================================================================================================================================================================================================================================================================================================================================================================================================================================================================================================================================================================================================================================================================================================================================================================================================================================================================================================================================================================================================================================================================================================================================================================================================================================================================================================================================================================================================================================================================================================================================================================================================================================================================================================================================================================================================================================================================================================================================================================================================================================================================================================================================================================================================================================================================================================================================================================================================================================================================================================================================================================================================================================================================================================================================================================================================================================================================================================================================================================================================================================================================================================================================================================================================================================================================================================================================================================================================================================================================================================================================================================================================================================================================================================================================================================================================================================================================================================================================================================================================================================================================================================================================================================================================================================================================================================================================================================================================================================================================================================================================================================================================================================================================================================================================================================================================================================================================================================================================================================================================================================================================================================================================================================================================================================================================================================================================================================================================================================================================================================================================================================================================================================================================================================================================================================================================================================================================================================================================================================================================================================================================================================================================================================================================================================================================================================================================================================================================================================================================================================================================================================================================================================================================================================================================================================================================================================================================================================================================================================================================================================================================================================================================================================================================================================================================================================================================================================================================================================================================================================================================================================================================================================================================================================================================================================================================================================================================================================================================================================================================================================================================================================================================================================================================================================================================================================================================================================================================================================================================================================================================================================================================================================================================================================================================================================================================================================================================================================================================================================================================================================================================================================================================================================================================================================================================================================================================================================================================================================================================================================================================================================================================================================================================================================================================================================================================================================================================================================================================================================================================================================================================================================================================================================================================================================================================================================================================================================================================================================================================================================================================================================================================================================================================================================================================================================================================================================================================================================================================================================================================================================================================================================================================================================================================================================================================================================================================================================================================================================================================================================================================================================================================================================================================================================================================================================================================================================================================================================================================================================================================================================================================================================================================================================================================================================================================================================================================================================================================================================================================================================================================================================================================================================================================================================================================================================================================================================================================================================================================================================================================================================================================================================================================================================================================================================================================================================================================================================================================================================================================================================================================================================================================================================================================================================================================================================================================================================================================================================================================================================================================================================================================================================================================================================================================================================================================================================================================================================================================================================================================================================================================================================================================================================================================================================================================================================================================================================================================================================================================================================================================================================================================================================================================================================================================================================================================================================================] - 0s 47us/sample - loss: 9.8968e-05 - mean_squared_error: 1.1222e-04\n"
     ]
    },
    {
     "name": "stdout",
     "output_type": "stream",
     "text": [
      "1500/1 [========================================================================================================================================================================================================================================================================================================================================================================================================================================================================================================================================================================================================================================================================================================================================================================================================================================================================================================================================================================================================================================================================================================================================================================================================================================================================================================================================================================================================================================================================================================================================================================================================================================================================================================================================================================================================================================================================================================================================================================================================================================================================================================================================================================================================================================================================================================================================================================================================================================================================================================================================================================================================================================================================================================================================================================================================================================================================================================================================================================================================================================================================================================================================================================================================================================================================================================================================================================================================================================================================================================================================================================================================================================================================================================================================================================================================================================================================================================================================================================================================================================================================================================================================================================================================================================================================================================================================================================================================================================================================================================================================================================================================================================================================================================================================================================================================================================================================================================================================================================================================================================================================================================================================================================================================================================================================================================================================================================================================================================================================================================================================================================================================================================================================================================================================================================================================================================================================================================================================================================================================================================================================================================================================================================================================================================================================================================================================================================================================================================================================================================================================================================================================================================================================================================================================================================================================================================================================================================================================================================================================================================================================================================================================================================================================================================================================================================================================================================================================================================================================================================================================================================================================================================================================================================================================================================================================================================================================================================================================================================================================================================================================================================================================================================================================================================================================================================================================================================================================================================================================================================================================================================================================================================================================================================================================================================================================================================================================================================================================================================================================================================================================================================================================================================================================================================================================================================================================================================================================================================================================================================================================================================================================================================================================================================================================================================================================================================================================================================================================================================================================================================================================================================================================================================================================================================================================================================================================================================================================================================================================================================================================================================================================================================================================================================================================================================================================================================================================================================================================================================================================================================================================================================================================================================================================================================================================================================================================================================================================================================================================================================================================================================================================================================================================================================================================================================================================================================================================================================================================================================================================================================================================================================================================================================================================================================================================================================================================================================================================================================================================================================================================================================================================================================================================================================================================================================================================================================================================================================================================================================================================================================================================================================================================================================================================================================================================================================================================================================================================================================================================================================================================================================================================================================================================================================================================================================================================================================================================================================================================================================================================================================================================================================================================================================================================================================================================================================================================================================================================================================================================================================================================================================================================================================================================================================================================================================================================================================================================================================================================================================================================================================================================================================================================================================================================================================================================================================================================================================================================================================================================================================================================================================================================================================================================================================================================================================================================================================================================================================================================================================================================================================================================================================================================================================================================================================================================================================================================================================================================================================================================================================================================================================================================================================================================================================================================================================================================================================================================================================================================================================================================================================================================================================================================================================================================================================================================================================================================================================================================================================================================================================================================================================================================================================================================================================================================================================================================================================================================================================================================================================================================================================================================================================================================================================================================================================================================================================================================================================================================================================================================================================================================================================================================================================================================================================================================================================================================================================================================================================================================================================================================================================================================================================================================================================================================================================================================================================================================================================================================================================================================================================================================================================================================================================================================================================================================================================================================================================================================================================================================================================================================================================================================================================================================================================================================================================================================================================================================================================================================================================================================================================================================================================================================================================================================================================================================================================================================================================================================================================================================================================================================================================================================================================================================================================================================================================================================================================================================================================================================================================================================================================================================================================================================================================================================================================================================================================================================================================================================================================================================================================================================================================================================================================================================================================================================================================================================================================================================================================================================================================================================================================================================================================================================================================================================================================================================================================================================================================================================================================================================================================================================================================================================================================================================================================================================================================================================================================================================================================================================================================================================================================================================================================================================================================================================================================================================================================================================================================================================================================================================================================================================================================================================================================================================================================================================================================================================================================================================================================================================================================================================================================================================================================================================================================================================================================================================================================================================================================================================================================================================================================================================================================================================================================================================================================================================================================================================================================================================================================================================================================================================================================================================================================================================================================================================================================================================================================================================================================================================================================================================================================================================================================================================================================================================================================================================================================================================================================================================================================================================================================================================================================================================================================================================================================================================================================================================================================================================================================================================================================================================================================================================================================================================================================================================================================================================================================================================================================================================================================================================================================================================================================================================================================================================================================================================================================================================================================================================================================================================================================================================================================================================================================================================================================================================================================================================================================================================================================================================================================================================================================================================================================================================================================================================================================================================================================================================================================================================================================================================================================================================================================================================================================================================================================================================================================================================================================================================================================================================================================================================================================================================================================================================================================================================================================================================================================================================================================================================================================================================================================================================================================================================================================================================================================================================================================================================================================================================================================================================================================================================================================================================================================================================================================================================================================================================================================================================================================================================================================================================================================================================================================================================================================================================================================================================================================================================================================================================================================================================================================================================================================================================================================================================================================================================================================================================================================================================================================================================================================================================================================================================================================================================================================================================================================================================================================================================================================================================================================================================================================================================================================================================================================================================================================================================================================================================================================================================================================================================================================================================================================================================================================================================================================================================================================================================================================================================================================================================================================================================================================================================================================================================================================================================================================================================================================================================================================================================================================================================================================================================================================================================================================================================================================================================================================================================================================================================================================================================================================================================================================================================================================================================================================================================================================================================================================================================================================================================================================================================================================================================================================================================================================================================================================================================================================================================================================================================================================================================================================================================================================================================================================================================================================================================================================================================================================================================================================================================================================================================================================================================================================================================================================================================================================================================================================================================================================================================================================================================================================================================================================================================================================================================================================================================================================================================================================================================================================================================================================================================================================================================================================================================================================================================================================================================================================================================================================================================================================================================================================================================================================================================================================================================================================================================================================================================================================================================================================================================================================================================================================================================================================================================================================================================================================================================================================================================================================================================================================================================================================================================================================================================================================================================================================================================================================================================================================================================================================================================================================================================================================================================================================================================================================================================================================================================================================================================================================================================================================================================================================================================================================================================================================================================================================================================================================================================================================================================================================================================================================================================================================================================================================================================================================================================================================================================================================================================================================================================================================================================================================================================================================================================================================================================================================================================================================================================================================================================================================================================================================================================================================================================================================================================================================================================================================================================================================================================================================================================================================================================================================================================================================================================================================================================================================================================================================================================================================================================================================================================================================================================================================================================================================================================================================================================================================================================================================================================================================================================================================================================================================================================================================================================================================================================================================================================================================================================================================================================================================================================================================================================================================================================================================================================================================================================================================================================================================================================================================================================================================================================================================================================================================================================================================================================================================================================================================================================================================================================================================================================================================================================================================================================================================================================================================================================================================================================================================================================================================================================================================================================================================================================================================================================================================================================================================================================================================================================================================================================================================================================================================================================================================================================================================================================================================================================================================================================================================================================================================================================================================================================================================================================================================================================================================================================================================================================================================================================================================================================================================================================================================================================================================================================================================================================================================================================================================================================================================================================================================================================================================================================================================================================================================================================================================================================================================================================================================================================================================================================================================================================================================================================================================================================]"
     ]
    },
    {
     "name": "stdout",
     "output_type": "stream",
     "text": [
      " - 0s 46us/sample - loss: 7.0589e-04 - mean_squared_error: 7.3480e-04\n"
     ]
    },
    {
     "data": {
      "text/plain": [
       "[0.0007347958077055713, 0.00073479576]"
      ]
     },
     "execution_count": 21,
     "metadata": {},
     "output_type": "execute_result"
    }
   ],
   "source": [
    "N_channels = 40\n",
    "file_path = '/Users/jackkelly/Desktop/Building_Model/Data/40_channels_data_variedlengths_EDFAs_10000.csv'\n",
    "X_scale, Y_scale = processing_data(N_channels, file_path)\n",
    "X_train, X_val_and_test, Y_train, Y_val_and_test = train_test_split(X_scale, Y_scale, test_size=0.3)\n",
    "X_val, X_test, Y_val, Y_test = train_test_split(X_val_and_test, Y_val_and_test, test_size=0.5)\n",
    "start_time = time.time()\n",
    "new_hist = model.fit(X_train, Y_train, validation_data=(X_val, Y_val), epochs=40, shuffle=True, verbose=1, batch_size=N_channels+1)\n",
    "training_time = time.time() - start_time\n",
    "print(training_time)\n",
    "# evaluating transfer-learned model\n",
    "eval_result = model.evaluate(X_test, Y_test)\n",
    "# evaluating new model\n",
    "hypermodel.evaluate(X_test, Y_test)"
   ]
  },
  {
   "cell_type": "code",
   "execution_count": 25,
   "metadata": {},
   "outputs": [
    {
     "name": "stdout",
     "output_type": "stream",
     "text": [
      "Model: \"sequential_1\"\n",
      "_________________________________________________________________\n",
      "Layer (type)                 Output Shape              Param #   \n",
      "=================================================================\n",
      "dense (Dense)                (None, 207)               8694      \n",
      "_________________________________________________________________\n",
      "dense_1 (Dense)              (None, 300)               62400     \n",
      "_________________________________________________________________\n",
      "dense_3 (Dense)              (None, 40)                12040     \n",
      "=================================================================\n",
      "Total params: 83,134\n",
      "Trainable params: 12,040\n",
      "Non-trainable params: 71,094\n",
      "_________________________________________________________________\n"
     ]
    }
   ],
   "source": []
  },
  {
   "cell_type": "code",
   "execution_count": null,
   "metadata": {},
   "outputs": [],
   "source": []
  }
 ],
 "metadata": {
  "kernelspec": {
   "display_name": "Python 3",
   "language": "python",
   "name": "python3"
  },
  "language_info": {
   "codemirror_mode": {
    "name": "ipython",
    "version": 3
   },
   "file_extension": ".py",
   "mimetype": "text/x-python",
   "name": "python",
   "nbconvert_exporter": "python",
   "pygments_lexer": "ipython3",
   "version": "3.6.10"
  }
 },
 "nbformat": 4,
 "nbformat_minor": 4
}
