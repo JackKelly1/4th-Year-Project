{
 "cells": [
  {
   "cell_type": "code",
   "execution_count": 1,
   "metadata": {},
   "outputs": [
    {
     "name": "stderr",
     "output_type": "stream",
     "text": [
      "Using TensorFlow backend.\n"
     ]
    }
   ],
   "source": [
    "import tensorflow as tf\n",
    "import pandas as pd\n",
    "from sklearn import preprocessing\n",
    "from sklearn.model_selection import train_test_split\n",
    "from sklearn.utils import shuffle\n",
    "from sklearn.metrics import mean_squared_error\n",
    "from keras.models import Sequential\n",
    "from keras.layers import Dense\n",
    "from keras import regularizers\n",
    "from tensorflow import keras\n",
    "import matplotlib.pyplot as plt\n",
    "import numpy as np\n",
    "import time\n",
    "import h5py\n",
    "import kerastuner as kt"
   ]
  },
  {
   "cell_type": "code",
   "execution_count": 2,
   "metadata": {},
   "outputs": [],
   "source": [
    "### IMPORT, RAMDOMIZE AND SCALE DATA ###\n",
    "\n",
    "def processing_data(N_channels, file_path):\n",
    "    df = pd.read_csv(file_path)\n",
    "    # dataset\n",
    "    dataset = df.values\n",
    "    # input power and channels statuses\n",
    "    X = dataset[:,0:N_channels+1]\n",
    "    # channel SNRs\n",
    "    Y = dataset[:,N_channels+1:2*N_channels+1]\n",
    "    # shuffle necessary because while shuffle=True in .fit() shuffles the data, it splits into different datasets first\n",
    "    X, Y = shuffle(X, Y)\n",
    "    # scaling between 0 and 1\n",
    "    min_max_scaler = preprocessing.MinMaxScaler()\n",
    "    X = min_max_scaler.fit_transform(X)\n",
    "    Y = min_max_scaler.fit_transform(Y)\n",
    "    return X, Y"
   ]
  },
  {
   "cell_type": "code",
   "execution_count": 3,
   "metadata": {},
   "outputs": [],
   "source": [
    "### RECEIVE 20,000 PIECES OF DATA ###\n",
    "\n",
    "N_channels = 40\n",
    "file_path = '/Users/jackkelly/Desktop/Building_Model/Data/40_channels_data_blocks_20000.csv'\n",
    "X_scale, Y_scale = processing_data(N_channels, file_path)"
   ]
  },
  {
   "cell_type": "code",
   "execution_count": 4,
   "metadata": {},
   "outputs": [],
   "source": [
    "### FUNCTION TAKES HYPERPARAMETERS AND RETURNS COMPILED MODEL ###\n",
    "\n",
    "def model_builder(hp):\n",
    "    model = keras.Sequential()\n",
    "    model.add(keras.layers.InputLayer(input_shape=N_channels+1))\n",
    "    hp_regularizer = hp.Choice('kernel_regularizer', values=[1e-4, 1e-5, 1e-6])\n",
    "    for i in range(hp.Int('n_layers', 1, 2)):\n",
    "        model.add(keras.layers.Dense(hp.Int(f'hidden_{i}_units', min_value=10, max_value=320, step=1), kernel_regularizer=regularizers.l2(hp_regularizer)))\n",
    "    model.add(keras.layers.Dense(N_channels, activation='sigmoid'))\n",
    "    # Tune the learning rate for the optimizer\n",
    "    # Choose an optimal value from 0.01, 0.001, or 0.0001\n",
    "    hp_learning_rate = hp.Choice('learning_rate', values=[1e-2, 1e-3, 1e-4])\n",
    "\n",
    "    model.compile(optimizer=keras.optimizers.Adam(learning_rate=hp_learning_rate),\n",
    "                loss=keras.losses.MeanSquaredError(), metrics=['mean_squared_error'])\n",
    "\n",
    "    return model"
   ]
  },
  {
   "cell_type": "code",
   "execution_count": 5,
   "metadata": {},
   "outputs": [],
   "source": [
    "### CREATE HYPERBAND TUNER ###\n",
    "\n",
    "# The maximum number of epochs to train one model. It is recommended to \n",
    "# set this to a value slightly higher than the expected time \n",
    "# to convergence for your largest Model, and to use early stopping \n",
    "# during training\n",
    "tuner = kt.Hyperband(model_builder,\n",
    "                     objective=kt.Objective('mean_squared_error', 'min'),\n",
    "                     max_epochs=25,\n",
    "                     factor=3,\n",
    "                     directory='/Users/jackkelly/Desktop/Building_Model/',\n",
    "                     project_name='intro_to_kt_layers',\n",
    "                     overwrite=True)\n",
    "# stop_early = tf.keras.callbacks.EarlyStopping(monitor='val_loss', patience=5)\n",
    "stop_early = tf.keras.callbacks.EarlyStopping(monitor='mean_squared_error', patience=5)"
   ]
  },
  {
   "cell_type": "code",
   "execution_count": 6,
   "metadata": {},
   "outputs": [
    {
     "name": "stdout",
     "output_type": "stream",
     "text": [
      "Train on 17000 samples, validate on 3000 samples\n",
      "Epoch 1/3\n",
      "17000/17000 - 2s - loss: 0.0233 - mean_squared_error: 0.0159 - val_loss: 0.0068 - val_mean_squared_error: 0.0018\n",
      "Epoch 2/3\n",
      "17000/17000 - 1s - loss: 0.0054 - mean_squared_error: 0.0015 - val_loss: 0.0059 - val_mean_squared_error: 0.0027\n",
      "Epoch 3/3\n",
      "17000/17000 - 1s - loss: 0.0042 - mean_squared_error: 0.0014 - val_loss: 0.0036 - val_mean_squared_error: 0.0011\n"
     ]
    },
    {
     "data": {
      "text/html": [
       "<span style=\"color:#4527A0\"><h1 style=\"font-size:18px\">Trial complete</h1></span>"
      ],
      "text/plain": [
       "<IPython.core.display.HTML object>"
      ]
     },
     "metadata": {},
     "output_type": "display_data"
    },
    {
     "data": {
      "text/html": [
       "<span style=\"color:#4527A0\"><h1 style=\"font-size:18px\">Trial summary</h1></span>"
      ],
      "text/plain": [
       "<IPython.core.display.HTML object>"
      ]
     },
     "metadata": {},
     "output_type": "display_data"
    },
    {
     "data": {
      "text/html": [
       "<span style=\"color:cyan\"> |-Trial ID: fc3aee3a8aa0b073b0d200e9751a0af3</span>"
      ],
      "text/plain": [
       "<IPython.core.display.HTML object>"
      ]
     },
     "metadata": {},
     "output_type": "display_data"
    },
    {
     "data": {
      "text/html": [
       "<span style=\"color:cyan\"> |-Score: 0.00137468206230551</span>"
      ],
      "text/plain": [
       "<IPython.core.display.HTML object>"
      ]
     },
     "metadata": {},
     "output_type": "display_data"
    },
    {
     "data": {
      "text/html": [
       "<span style=\"color:cyan\"> |-Best step: 0</span>"
      ],
      "text/plain": [
       "<IPython.core.display.HTML object>"
      ]
     },
     "metadata": {},
     "output_type": "display_data"
    },
    {
     "data": {
      "text/html": [
       "<span style=\"color:#7E57C2\"><h2 style=\"font-size:16px\">Hyperparameters:</h2></span>"
      ],
      "text/plain": [
       "<IPython.core.display.HTML object>"
      ]
     },
     "metadata": {},
     "output_type": "display_data"
    },
    {
     "data": {
      "text/html": [
       "<span style=\"color:cyan\"> |-hidden_0_units: 45</span>"
      ],
      "text/plain": [
       "<IPython.core.display.HTML object>"
      ]
     },
     "metadata": {},
     "output_type": "display_data"
    },
    {
     "data": {
      "text/html": [
       "<span style=\"color:blue\"> |-kernel_regularizer: 0.0001</span>"
      ],
      "text/plain": [
       "<IPython.core.display.HTML object>"
      ]
     },
     "metadata": {},
     "output_type": "display_data"
    },
    {
     "data": {
      "text/html": [
       "<span style=\"color:cyan\"> |-learning_rate: 0.01</span>"
      ],
      "text/plain": [
       "<IPython.core.display.HTML object>"
      ]
     },
     "metadata": {},
     "output_type": "display_data"
    },
    {
     "data": {
      "text/html": [
       "<span style=\"color:blue\"> |-n_layers: 1</span>"
      ],
      "text/plain": [
       "<IPython.core.display.HTML object>"
      ]
     },
     "metadata": {},
     "output_type": "display_data"
    },
    {
     "data": {
      "text/html": [
       "<span style=\"color:cyan\"> |-tuner/bracket: 2</span>"
      ],
      "text/plain": [
       "<IPython.core.display.HTML object>"
      ]
     },
     "metadata": {},
     "output_type": "display_data"
    },
    {
     "data": {
      "text/html": [
       "<span style=\"color:blue\"> |-tuner/epochs: 3</span>"
      ],
      "text/plain": [
       "<IPython.core.display.HTML object>"
      ]
     },
     "metadata": {},
     "output_type": "display_data"
    },
    {
     "data": {
      "text/html": [
       "<span style=\"color:cyan\"> |-tuner/initial_epoch: 0</span>"
      ],
      "text/plain": [
       "<IPython.core.display.HTML object>"
      ]
     },
     "metadata": {},
     "output_type": "display_data"
    },
    {
     "data": {
      "text/html": [
       "<span style=\"color:blue\"> |-tuner/round: 0</span>"
      ],
      "text/plain": [
       "<IPython.core.display.HTML object>"
      ]
     },
     "metadata": {},
     "output_type": "display_data"
    },
    {
     "name": "stdout",
     "output_type": "stream",
     "text": [
      "Train on 17000 samples, validate on 3000 samples\n",
      "Epoch 1/3\n",
      "17000/17000 - 2s - loss: 0.1379 - mean_squared_error: 0.1337 - val_loss: 0.1078 - val_mean_squared_error: 0.1029\n",
      "Epoch 2/3\n",
      "17000/17000 - 1s - loss: 0.1024 - mean_squared_error: 0.0970 - val_loss: 0.1011 - val_mean_squared_error: 0.0956\n",
      "Epoch 3/3\n",
      "17000/17000 - 1s - loss: 0.0999 - mean_squared_error: 0.0947 - val_loss: 0.1003 - val_mean_squared_error: 0.0954\n"
     ]
    },
    {
     "data": {
      "text/html": [
       "<span style=\"color:#4527A0\"><h1 style=\"font-size:18px\">Trial complete</h1></span>"
      ],
      "text/plain": [
       "<IPython.core.display.HTML object>"
      ]
     },
     "metadata": {},
     "output_type": "display_data"
    },
    {
     "data": {
      "text/html": [
       "<span style=\"color:#4527A0\"><h1 style=\"font-size:18px\">Trial summary</h1></span>"
      ],
      "text/plain": [
       "<IPython.core.display.HTML object>"
      ]
     },
     "metadata": {},
     "output_type": "display_data"
    },
    {
     "data": {
      "text/html": [
       "<span style=\"color:cyan\"> |-Trial ID: 6f1cdcfa02445aea07889a6b53116138</span>"
      ],
      "text/plain": [
       "<IPython.core.display.HTML object>"
      ]
     },
     "metadata": {},
     "output_type": "display_data"
    },
    {
     "data": {
      "text/html": [
       "<span style=\"color:cyan\"> |-Score: 0.09471333771944046</span>"
      ],
      "text/plain": [
       "<IPython.core.display.HTML object>"
      ]
     },
     "metadata": {},
     "output_type": "display_data"
    },
    {
     "data": {
      "text/html": [
       "<span style=\"color:cyan\"> |-Best step: 0</span>"
      ],
      "text/plain": [
       "<IPython.core.display.HTML object>"
      ]
     },
     "metadata": {},
     "output_type": "display_data"
    },
    {
     "data": {
      "text/html": [
       "<span style=\"color:#7E57C2\"><h2 style=\"font-size:16px\">Hyperparameters:</h2></span>"
      ],
      "text/plain": [
       "<IPython.core.display.HTML object>"
      ]
     },
     "metadata": {},
     "output_type": "display_data"
    },
    {
     "data": {
      "text/html": [
       "<span style=\"color:cyan\"> |-hidden_0_units: 21</span>"
      ],
      "text/plain": [
       "<IPython.core.display.HTML object>"
      ]
     },
     "metadata": {},
     "output_type": "display_data"
    },
    {
     "data": {
      "text/html": [
       "<span style=\"color:blue\"> |-hidden_1_units: 10</span>"
      ],
      "text/plain": [
       "<IPython.core.display.HTML object>"
      ]
     },
     "metadata": {},
     "output_type": "display_data"
    },
    {
     "data": {
      "text/html": [
       "<span style=\"color:cyan\"> |-kernel_regularizer: 0.0001</span>"
      ],
      "text/plain": [
       "<IPython.core.display.HTML object>"
      ]
     },
     "metadata": {},
     "output_type": "display_data"
    },
    {
     "data": {
      "text/html": [
       "<span style=\"color:blue\"> |-learning_rate: 0.001</span>"
      ],
      "text/plain": [
       "<IPython.core.display.HTML object>"
      ]
     },
     "metadata": {},
     "output_type": "display_data"
    },
    {
     "data": {
      "text/html": [
       "<span style=\"color:cyan\"> |-n_layers: 2</span>"
      ],
      "text/plain": [
       "<IPython.core.display.HTML object>"
      ]
     },
     "metadata": {},
     "output_type": "display_data"
    },
    {
     "data": {
      "text/html": [
       "<span style=\"color:blue\"> |-tuner/bracket: 2</span>"
      ],
      "text/plain": [
       "<IPython.core.display.HTML object>"
      ]
     },
     "metadata": {},
     "output_type": "display_data"
    },
    {
     "data": {
      "text/html": [
       "<span style=\"color:cyan\"> |-tuner/epochs: 3</span>"
      ],
      "text/plain": [
       "<IPython.core.display.HTML object>"
      ]
     },
     "metadata": {},
     "output_type": "display_data"
    },
    {
     "data": {
      "text/html": [
       "<span style=\"color:blue\"> |-tuner/initial_epoch: 0</span>"
      ],
      "text/plain": [
       "<IPython.core.display.HTML object>"
      ]
     },
     "metadata": {},
     "output_type": "display_data"
    },
    {
     "data": {
      "text/html": [
       "<span style=\"color:cyan\"> |-tuner/round: 0</span>"
      ],
      "text/plain": [
       "<IPython.core.display.HTML object>"
      ]
     },
     "metadata": {},
     "output_type": "display_data"
    },
    {
     "name": "stdout",
     "output_type": "stream",
     "text": [
      "Train on 17000 samples, validate on 3000 samples\n",
      "Epoch 1/3\n",
      "17000/17000 - 2s - loss: 0.0568 - mean_squared_error: 0.0391 - val_loss: 0.0216 - val_mean_squared_error: 0.0032\n",
      "Epoch 2/3\n",
      "17000/17000 - 2s - loss: 0.0182 - mean_squared_error: 0.0025 - val_loss: 0.0158 - val_mean_squared_error: 0.0021\n",
      "Epoch 3/3\n",
      "17000/17000 - 2s - loss: 0.0143 - mean_squared_error: 0.0020 - val_loss: 0.0131 - val_mean_squared_error: 0.0018\n"
     ]
    },
    {
     "data": {
      "text/html": [
       "<span style=\"color:#4527A0\"><h1 style=\"font-size:18px\">Trial complete</h1></span>"
      ],
      "text/plain": [
       "<IPython.core.display.HTML object>"
      ]
     },
     "metadata": {},
     "output_type": "display_data"
    },
    {
     "data": {
      "text/html": [
       "<span style=\"color:#4527A0\"><h1 style=\"font-size:18px\">Trial summary</h1></span>"
      ],
      "text/plain": [
       "<IPython.core.display.HTML object>"
      ]
     },
     "metadata": {},
     "output_type": "display_data"
    },
    {
     "data": {
      "text/html": [
       "<span style=\"color:cyan\"> |-Trial ID: e8fe26b6bddb5b58dc78ff3fe819a2a8</span>"
      ],
      "text/plain": [
       "<IPython.core.display.HTML object>"
      ]
     },
     "metadata": {},
     "output_type": "display_data"
    },
    {
     "data": {
      "text/html": [
       "<span style=\"color:cyan\"> |-Score: 0.001987480092793703</span>"
      ],
      "text/plain": [
       "<IPython.core.display.HTML object>"
      ]
     },
     "metadata": {},
     "output_type": "display_data"
    },
    {
     "data": {
      "text/html": [
       "<span style=\"color:cyan\"> |-Best step: 0</span>"
      ],
      "text/plain": [
       "<IPython.core.display.HTML object>"
      ]
     },
     "metadata": {},
     "output_type": "display_data"
    },
    {
     "data": {
      "text/html": [
       "<span style=\"color:#7E57C2\"><h2 style=\"font-size:16px\">Hyperparameters:</h2></span>"
      ],
      "text/plain": [
       "<IPython.core.display.HTML object>"
      ]
     },
     "metadata": {},
     "output_type": "display_data"
    },
    {
     "data": {
      "text/html": [
       "<span style=\"color:cyan\"> |-hidden_0_units: 61</span>"
      ],
      "text/plain": [
       "<IPython.core.display.HTML object>"
      ]
     },
     "metadata": {},
     "output_type": "display_data"
    },
    {
     "data": {
      "text/html": [
       "<span style=\"color:blue\"> |-hidden_1_units: 172</span>"
      ],
      "text/plain": [
       "<IPython.core.display.HTML object>"
      ]
     },
     "metadata": {},
     "output_type": "display_data"
    },
    {
     "data": {
      "text/html": [
       "<span style=\"color:cyan\"> |-kernel_regularizer: 0.0001</span>"
      ],
      "text/plain": [
       "<IPython.core.display.HTML object>"
      ]
     },
     "metadata": {},
     "output_type": "display_data"
    },
    {
     "data": {
      "text/html": [
       "<span style=\"color:blue\"> |-learning_rate: 0.001</span>"
      ],
      "text/plain": [
       "<IPython.core.display.HTML object>"
      ]
     },
     "metadata": {},
     "output_type": "display_data"
    },
    {
     "data": {
      "text/html": [
       "<span style=\"color:cyan\"> |-n_layers: 2</span>"
      ],
      "text/plain": [
       "<IPython.core.display.HTML object>"
      ]
     },
     "metadata": {},
     "output_type": "display_data"
    },
    {
     "data": {
      "text/html": [
       "<span style=\"color:blue\"> |-tuner/bracket: 2</span>"
      ],
      "text/plain": [
       "<IPython.core.display.HTML object>"
      ]
     },
     "metadata": {},
     "output_type": "display_data"
    },
    {
     "data": {
      "text/html": [
       "<span style=\"color:cyan\"> |-tuner/epochs: 3</span>"
      ],
      "text/plain": [
       "<IPython.core.display.HTML object>"
      ]
     },
     "metadata": {},
     "output_type": "display_data"
    },
    {
     "data": {
      "text/html": [
       "<span style=\"color:blue\"> |-tuner/initial_epoch: 0</span>"
      ],
      "text/plain": [
       "<IPython.core.display.HTML object>"
      ]
     },
     "metadata": {},
     "output_type": "display_data"
    },
    {
     "data": {
      "text/html": [
       "<span style=\"color:cyan\"> |-tuner/round: 0</span>"
      ],
      "text/plain": [
       "<IPython.core.display.HTML object>"
      ]
     },
     "metadata": {},
     "output_type": "display_data"
    },
    {
     "name": "stdout",
     "output_type": "stream",
     "text": [
      "Train on 17000 samples, validate on 3000 samples\n",
      "Epoch 1/3\n",
      "17000/17000 - 2s - loss: 0.0674 - mean_squared_error: 0.0586 - val_loss: 0.0192 - val_mean_squared_error: 0.0076\n",
      "Epoch 2/3\n",
      "17000/17000 - 1s - loss: 0.0153 - mean_squared_error: 0.0042 - val_loss: 0.0128 - val_mean_squared_error: 0.0029\n",
      "Epoch 3/3\n",
      "17000/17000 - 1s - loss: 0.0112 - mean_squared_error: 0.0026 - val_loss: 0.0097 - val_mean_squared_error: 0.0023\n"
     ]
    },
    {
     "data": {
      "text/html": [
       "<span style=\"color:#4527A0\"><h1 style=\"font-size:18px\">Trial complete</h1></span>"
      ],
      "text/plain": [
       "<IPython.core.display.HTML object>"
      ]
     },
     "metadata": {},
     "output_type": "display_data"
    },
    {
     "data": {
      "text/html": [
       "<span style=\"color:#4527A0\"><h1 style=\"font-size:18px\">Trial summary</h1></span>"
      ],
      "text/plain": [
       "<IPython.core.display.HTML object>"
      ]
     },
     "metadata": {},
     "output_type": "display_data"
    },
    {
     "data": {
      "text/html": [
       "<span style=\"color:cyan\"> |-Trial ID: 218f47507f219b17525ea23b99e0c03a</span>"
      ],
      "text/plain": [
       "<IPython.core.display.HTML object>"
      ]
     },
     "metadata": {},
     "output_type": "display_data"
    },
    {
     "data": {
      "text/html": [
       "<span style=\"color:cyan\"> |-Score: 0.0025707499589771032</span>"
      ],
      "text/plain": [
       "<IPython.core.display.HTML object>"
      ]
     },
     "metadata": {},
     "output_type": "display_data"
    },
    {
     "data": {
      "text/html": [
       "<span style=\"color:cyan\"> |-Best step: 0</span>"
      ],
      "text/plain": [
       "<IPython.core.display.HTML object>"
      ]
     },
     "metadata": {},
     "output_type": "display_data"
    },
    {
     "data": {
      "text/html": [
       "<span style=\"color:#7E57C2\"><h2 style=\"font-size:16px\">Hyperparameters:</h2></span>"
      ],
      "text/plain": [
       "<IPython.core.display.HTML object>"
      ]
     },
     "metadata": {},
     "output_type": "display_data"
    },
    {
     "data": {
      "text/html": [
       "<span style=\"color:cyan\"> |-hidden_0_units: 120</span>"
      ],
      "text/plain": [
       "<IPython.core.display.HTML object>"
      ]
     },
     "metadata": {},
     "output_type": "display_data"
    },
    {
     "data": {
      "text/html": [
       "<span style=\"color:blue\"> |-hidden_1_units: 271</span>"
      ],
      "text/plain": [
       "<IPython.core.display.HTML object>"
      ]
     },
     "metadata": {},
     "output_type": "display_data"
    },
    {
     "data": {
      "text/html": [
       "<span style=\"color:cyan\"> |-kernel_regularizer: 0.0001</span>"
      ],
      "text/plain": [
       "<IPython.core.display.HTML object>"
      ]
     },
     "metadata": {},
     "output_type": "display_data"
    },
    {
     "data": {
      "text/html": [
       "<span style=\"color:blue\"> |-learning_rate: 0.001</span>"
      ],
      "text/plain": [
       "<IPython.core.display.HTML object>"
      ]
     },
     "metadata": {},
     "output_type": "display_data"
    },
    {
     "data": {
      "text/html": [
       "<span style=\"color:cyan\"> |-n_layers: 1</span>"
      ],
      "text/plain": [
       "<IPython.core.display.HTML object>"
      ]
     },
     "metadata": {},
     "output_type": "display_data"
    },
    {
     "data": {
      "text/html": [
       "<span style=\"color:blue\"> |-tuner/bracket: 2</span>"
      ],
      "text/plain": [
       "<IPython.core.display.HTML object>"
      ]
     },
     "metadata": {},
     "output_type": "display_data"
    },
    {
     "data": {
      "text/html": [
       "<span style=\"color:cyan\"> |-tuner/epochs: 3</span>"
      ],
      "text/plain": [
       "<IPython.core.display.HTML object>"
      ]
     },
     "metadata": {},
     "output_type": "display_data"
    },
    {
     "data": {
      "text/html": [
       "<span style=\"color:blue\"> |-tuner/initial_epoch: 0</span>"
      ],
      "text/plain": [
       "<IPython.core.display.HTML object>"
      ]
     },
     "metadata": {},
     "output_type": "display_data"
    },
    {
     "data": {
      "text/html": [
       "<span style=\"color:cyan\"> |-tuner/round: 0</span>"
      ],
      "text/plain": [
       "<IPython.core.display.HTML object>"
      ]
     },
     "metadata": {},
     "output_type": "display_data"
    },
    {
     "name": "stdout",
     "output_type": "stream",
     "text": [
      "Train on 17000 samples, validate on 3000 samples\n",
      "Epoch 1/3\n",
      "17000/17000 - 3s - loss: 0.1468 - mean_squared_error: 0.1192 - val_loss: 0.0901 - val_mean_squared_error: 0.0617\n",
      "Epoch 2/3\n",
      "17000/17000 - 3s - loss: 0.0656 - mean_squared_error: 0.0363 - val_loss: 0.0493 - val_mean_squared_error: 0.0194\n",
      "Epoch 3/3\n",
      "17000/17000 - 2s - loss: 0.0416 - mean_squared_error: 0.0117 - val_loss: 0.0366 - val_mean_squared_error: 0.0071\n"
     ]
    },
    {
     "data": {
      "text/html": [
       "<span style=\"color:#4527A0\"><h1 style=\"font-size:18px\">Trial complete</h1></span>"
      ],
      "text/plain": [
       "<IPython.core.display.HTML object>"
      ]
     },
     "metadata": {},
     "output_type": "display_data"
    },
    {
     "data": {
      "text/html": [
       "<span style=\"color:#4527A0\"><h1 style=\"font-size:18px\">Trial summary</h1></span>"
      ],
      "text/plain": [
       "<IPython.core.display.HTML object>"
      ]
     },
     "metadata": {},
     "output_type": "display_data"
    },
    {
     "data": {
      "text/html": [
       "<span style=\"color:cyan\"> |-Trial ID: 87d390b492fbe6689f8e724fc3f6b00d</span>"
      ],
      "text/plain": [
       "<IPython.core.display.HTML object>"
      ]
     },
     "metadata": {},
     "output_type": "display_data"
    },
    {
     "data": {
      "text/html": [
       "<span style=\"color:cyan\"> |-Score: 0.011712082661688328</span>"
      ],
      "text/plain": [
       "<IPython.core.display.HTML object>"
      ]
     },
     "metadata": {},
     "output_type": "display_data"
    },
    {
     "data": {
      "text/html": [
       "<span style=\"color:cyan\"> |-Best step: 0</span>"
      ],
      "text/plain": [
       "<IPython.core.display.HTML object>"
      ]
     },
     "metadata": {},
     "output_type": "display_data"
    },
    {
     "data": {
      "text/html": [
       "<span style=\"color:#7E57C2\"><h2 style=\"font-size:16px\">Hyperparameters:</h2></span>"
      ],
      "text/plain": [
       "<IPython.core.display.HTML object>"
      ]
     },
     "metadata": {},
     "output_type": "display_data"
    },
    {
     "data": {
      "text/html": [
       "<span style=\"color:cyan\"> |-hidden_0_units: 198</span>"
      ],
      "text/plain": [
       "<IPython.core.display.HTML object>"
      ]
     },
     "metadata": {},
     "output_type": "display_data"
    },
    {
     "data": {
      "text/html": [
       "<span style=\"color:blue\"> |-hidden_1_units: 218</span>"
      ],
      "text/plain": [
       "<IPython.core.display.HTML object>"
      ]
     },
     "metadata": {},
     "output_type": "display_data"
    },
    {
     "data": {
      "text/html": [
       "<span style=\"color:cyan\"> |-kernel_regularizer: 0.0001</span>"
      ],
      "text/plain": [
       "<IPython.core.display.HTML object>"
      ]
     },
     "metadata": {},
     "output_type": "display_data"
    },
    {
     "data": {
      "text/html": [
       "<span style=\"color:blue\"> |-learning_rate: 0.0001</span>"
      ],
      "text/plain": [
       "<IPython.core.display.HTML object>"
      ]
     },
     "metadata": {},
     "output_type": "display_data"
    },
    {
     "data": {
      "text/html": [
       "<span style=\"color:cyan\"> |-n_layers: 2</span>"
      ],
      "text/plain": [
       "<IPython.core.display.HTML object>"
      ]
     },
     "metadata": {},
     "output_type": "display_data"
    },
    {
     "data": {
      "text/html": [
       "<span style=\"color:blue\"> |-tuner/bracket: 2</span>"
      ],
      "text/plain": [
       "<IPython.core.display.HTML object>"
      ]
     },
     "metadata": {},
     "output_type": "display_data"
    },
    {
     "data": {
      "text/html": [
       "<span style=\"color:cyan\"> |-tuner/epochs: 3</span>"
      ],
      "text/plain": [
       "<IPython.core.display.HTML object>"
      ]
     },
     "metadata": {},
     "output_type": "display_data"
    },
    {
     "data": {
      "text/html": [
       "<span style=\"color:blue\"> |-tuner/initial_epoch: 0</span>"
      ],
      "text/plain": [
       "<IPython.core.display.HTML object>"
      ]
     },
     "metadata": {},
     "output_type": "display_data"
    },
    {
     "data": {
      "text/html": [
       "<span style=\"color:cyan\"> |-tuner/round: 0</span>"
      ],
      "text/plain": [
       "<IPython.core.display.HTML object>"
      ]
     },
     "metadata": {},
     "output_type": "display_data"
    },
    {
     "name": "stdout",
     "output_type": "stream",
     "text": [
      "Train on 17000 samples, validate on 3000 samples\n",
      "Epoch 1/3\n",
      "17000/17000 - 2s - loss: 0.0400 - mean_squared_error: 0.0399 - val_loss: 0.0025 - val_mean_squared_error: 0.0023\n",
      "Epoch 2/3\n",
      "17000/17000 - 1s - loss: 0.0013 - mean_squared_error: 0.0011 - val_loss: 8.3696e-04 - val_mean_squared_error: 6.2484e-04\n",
      "Epoch 3/3\n",
      "17000/17000 - 1s - loss: 7.3921e-04 - mean_squared_error: 5.1922e-04 - val_loss: 6.6236e-04 - val_mean_squared_error: 4.3630e-04\n"
     ]
    },
    {
     "data": {
      "text/html": [
       "<span style=\"color:#4527A0\"><h1 style=\"font-size:18px\">Trial complete</h1></span>"
      ],
      "text/plain": [
       "<IPython.core.display.HTML object>"
      ]
     },
     "metadata": {},
     "output_type": "display_data"
    },
    {
     "data": {
      "text/html": [
       "<span style=\"color:#4527A0\"><h1 style=\"font-size:18px\">Trial summary</h1></span>"
      ],
      "text/plain": [
       "<IPython.core.display.HTML object>"
      ]
     },
     "metadata": {},
     "output_type": "display_data"
    },
    {
     "data": {
      "text/html": [
       "<span style=\"color:cyan\"> |-Trial ID: 488846b80d0602f23425230218600e1e</span>"
      ],
      "text/plain": [
       "<IPython.core.display.HTML object>"
      ]
     },
     "metadata": {},
     "output_type": "display_data"
    },
    {
     "data": {
      "text/html": [
       "<span style=\"color:cyan\"> |-Score: 0.0005192201933823526</span>"
      ],
      "text/plain": [
       "<IPython.core.display.HTML object>"
      ]
     },
     "metadata": {},
     "output_type": "display_data"
    },
    {
     "data": {
      "text/html": [
       "<span style=\"color:cyan\"> |-Best step: 0</span>"
      ],
      "text/plain": [
       "<IPython.core.display.HTML object>"
      ]
     },
     "metadata": {},
     "output_type": "display_data"
    },
    {
     "data": {
      "text/html": [
       "<span style=\"color:#7E57C2\"><h2 style=\"font-size:16px\">Hyperparameters:</h2></span>"
      ],
      "text/plain": [
       "<IPython.core.display.HTML object>"
      ]
     },
     "metadata": {},
     "output_type": "display_data"
    },
    {
     "data": {
      "text/html": [
       "<span style=\"color:cyan\"> |-hidden_0_units: 204</span>"
      ],
      "text/plain": [
       "<IPython.core.display.HTML object>"
      ]
     },
     "metadata": {},
     "output_type": "display_data"
    },
    {
     "data": {
      "text/html": [
       "<span style=\"color:blue\"> |-hidden_1_units: 181</span>"
      ],
      "text/plain": [
       "<IPython.core.display.HTML object>"
      ]
     },
     "metadata": {},
     "output_type": "display_data"
    },
    {
     "data": {
      "text/html": [
       "<span style=\"color:cyan\"> |-kernel_regularizer: 1e-06</span>"
      ],
      "text/plain": [
       "<IPython.core.display.HTML object>"
      ]
     },
     "metadata": {},
     "output_type": "display_data"
    },
    {
     "data": {
      "text/html": [
       "<span style=\"color:blue\"> |-learning_rate: 0.001</span>"
      ],
      "text/plain": [
       "<IPython.core.display.HTML object>"
      ]
     },
     "metadata": {},
     "output_type": "display_data"
    },
    {
     "data": {
      "text/html": [
       "<span style=\"color:cyan\"> |-n_layers: 1</span>"
      ],
      "text/plain": [
       "<IPython.core.display.HTML object>"
      ]
     },
     "metadata": {},
     "output_type": "display_data"
    },
    {
     "data": {
      "text/html": [
       "<span style=\"color:blue\"> |-tuner/bracket: 2</span>"
      ],
      "text/plain": [
       "<IPython.core.display.HTML object>"
      ]
     },
     "metadata": {},
     "output_type": "display_data"
    },
    {
     "data": {
      "text/html": [
       "<span style=\"color:cyan\"> |-tuner/epochs: 3</span>"
      ],
      "text/plain": [
       "<IPython.core.display.HTML object>"
      ]
     },
     "metadata": {},
     "output_type": "display_data"
    },
    {
     "data": {
      "text/html": [
       "<span style=\"color:blue\"> |-tuner/initial_epoch: 0</span>"
      ],
      "text/plain": [
       "<IPython.core.display.HTML object>"
      ]
     },
     "metadata": {},
     "output_type": "display_data"
    },
    {
     "data": {
      "text/html": [
       "<span style=\"color:cyan\"> |-tuner/round: 0</span>"
      ],
      "text/plain": [
       "<IPython.core.display.HTML object>"
      ]
     },
     "metadata": {},
     "output_type": "display_data"
    },
    {
     "name": "stdout",
     "output_type": "stream",
     "text": [
      "Train on 17000 samples, validate on 3000 samples\n",
      "Epoch 1/3\n",
      "17000/17000 - 2s - loss: 0.0890 - mean_squared_error: 0.0889 - val_loss: 0.0861 - val_mean_squared_error: 0.0859\n",
      "Epoch 2/3\n",
      "17000/17000 - 2s - loss: 0.0832 - mean_squared_error: 0.0831 - val_loss: 0.0849 - val_mean_squared_error: 0.0847\n",
      "Epoch 3/3\n",
      "17000/17000 - 2s - loss: 0.0818 - mean_squared_error: 0.0817 - val_loss: 0.0824 - val_mean_squared_error: 0.0822\n"
     ]
    },
    {
     "data": {
      "text/html": [
       "<span style=\"color:#4527A0\"><h1 style=\"font-size:18px\">Trial complete</h1></span>"
      ],
      "text/plain": [
       "<IPython.core.display.HTML object>"
      ]
     },
     "metadata": {},
     "output_type": "display_data"
    },
    {
     "data": {
      "text/html": [
       "<span style=\"color:#4527A0\"><h1 style=\"font-size:18px\">Trial summary</h1></span>"
      ],
      "text/plain": [
       "<IPython.core.display.HTML object>"
      ]
     },
     "metadata": {},
     "output_type": "display_data"
    },
    {
     "data": {
      "text/html": [
       "<span style=\"color:cyan\"> |-Trial ID: 982c6cc66b415e8d9d0146b5da25a8d5</span>"
      ],
      "text/plain": [
       "<IPython.core.display.HTML object>"
      ]
     },
     "metadata": {},
     "output_type": "display_data"
    },
    {
     "data": {
      "text/html": [
       "<span style=\"color:cyan\"> |-Score: 0.0816742554306984</span>"
      ],
      "text/plain": [
       "<IPython.core.display.HTML object>"
      ]
     },
     "metadata": {},
     "output_type": "display_data"
    },
    {
     "data": {
      "text/html": [
       "<span style=\"color:cyan\"> |-Best step: 0</span>"
      ],
      "text/plain": [
       "<IPython.core.display.HTML object>"
      ]
     },
     "metadata": {},
     "output_type": "display_data"
    },
    {
     "data": {
      "text/html": [
       "<span style=\"color:#7E57C2\"><h2 style=\"font-size:16px\">Hyperparameters:</h2></span>"
      ],
      "text/plain": [
       "<IPython.core.display.HTML object>"
      ]
     },
     "metadata": {},
     "output_type": "display_data"
    },
    {
     "data": {
      "text/html": [
       "<span style=\"color:cyan\"> |-hidden_0_units: 311</span>"
      ],
      "text/plain": [
       "<IPython.core.display.HTML object>"
      ]
     },
     "metadata": {},
     "output_type": "display_data"
    },
    {
     "data": {
      "text/html": [
       "<span style=\"color:blue\"> |-hidden_1_units: 13</span>"
      ],
      "text/plain": [
       "<IPython.core.display.HTML object>"
      ]
     },
     "metadata": {},
     "output_type": "display_data"
    },
    {
     "data": {
      "text/html": [
       "<span style=\"color:cyan\"> |-kernel_regularizer: 1e-06</span>"
      ],
      "text/plain": [
       "<IPython.core.display.HTML object>"
      ]
     },
     "metadata": {},
     "output_type": "display_data"
    },
    {
     "data": {
      "text/html": [
       "<span style=\"color:blue\"> |-learning_rate: 0.01</span>"
      ],
      "text/plain": [
       "<IPython.core.display.HTML object>"
      ]
     },
     "metadata": {},
     "output_type": "display_data"
    },
    {
     "data": {
      "text/html": [
       "<span style=\"color:cyan\"> |-n_layers: 2</span>"
      ],
      "text/plain": [
       "<IPython.core.display.HTML object>"
      ]
     },
     "metadata": {},
     "output_type": "display_data"
    },
    {
     "data": {
      "text/html": [
       "<span style=\"color:blue\"> |-tuner/bracket: 2</span>"
      ],
      "text/plain": [
       "<IPython.core.display.HTML object>"
      ]
     },
     "metadata": {},
     "output_type": "display_data"
    },
    {
     "data": {
      "text/html": [
       "<span style=\"color:cyan\"> |-tuner/epochs: 3</span>"
      ],
      "text/plain": [
       "<IPython.core.display.HTML object>"
      ]
     },
     "metadata": {},
     "output_type": "display_data"
    },
    {
     "data": {
      "text/html": [
       "<span style=\"color:blue\"> |-tuner/initial_epoch: 0</span>"
      ],
      "text/plain": [
       "<IPython.core.display.HTML object>"
      ]
     },
     "metadata": {},
     "output_type": "display_data"
    },
    {
     "data": {
      "text/html": [
       "<span style=\"color:cyan\"> |-tuner/round: 0</span>"
      ],
      "text/plain": [
       "<IPython.core.display.HTML object>"
      ]
     },
     "metadata": {},
     "output_type": "display_data"
    },
    {
     "name": "stdout",
     "output_type": "stream",
     "text": [
      "Train on 17000 samples, validate on 3000 samples\n",
      "Epoch 1/3\n",
      "17000/17000 - 3s - loss: 0.0249 - mean_squared_error: 0.0215 - val_loss: 0.0043 - val_mean_squared_error: 6.5590e-04\n",
      "Epoch 2/3\n",
      "17000/17000 - 2s - loss: 0.0040 - mean_squared_error: 5.5980e-04 - val_loss: 0.0036 - val_mean_squared_error: 5.1158e-04\n",
      "Epoch 3/3\n",
      "17000/17000 - 2s - loss: 0.0034 - mean_squared_error: 5.2126e-04 - val_loss: 0.0031 - val_mean_squared_error: 4.7681e-04\n"
     ]
    },
    {
     "data": {
      "text/html": [
       "<span style=\"color:#4527A0\"><h1 style=\"font-size:18px\">Trial complete</h1></span>"
      ],
      "text/plain": [
       "<IPython.core.display.HTML object>"
      ]
     },
     "metadata": {},
     "output_type": "display_data"
    },
    {
     "data": {
      "text/html": [
       "<span style=\"color:#4527A0\"><h1 style=\"font-size:18px\">Trial summary</h1></span>"
      ],
      "text/plain": [
       "<IPython.core.display.HTML object>"
      ]
     },
     "metadata": {},
     "output_type": "display_data"
    },
    {
     "data": {
      "text/html": [
       "<span style=\"color:cyan\"> |-Trial ID: c741d52ba4b5dc6e7e926009ac9fae3c</span>"
      ],
      "text/plain": [
       "<IPython.core.display.HTML object>"
      ]
     },
     "metadata": {},
     "output_type": "display_data"
    },
    {
     "data": {
      "text/html": [
       "<span style=\"color:cyan\"> |-Score: 0.0005212640389800072</span>"
      ],
      "text/plain": [
       "<IPython.core.display.HTML object>"
      ]
     },
     "metadata": {},
     "output_type": "display_data"
    },
    {
     "data": {
      "text/html": [
       "<span style=\"color:cyan\"> |-Best step: 0</span>"
      ],
      "text/plain": [
       "<IPython.core.display.HTML object>"
      ]
     },
     "metadata": {},
     "output_type": "display_data"
    },
    {
     "data": {
      "text/html": [
       "<span style=\"color:#7E57C2\"><h2 style=\"font-size:16px\">Hyperparameters:</h2></span>"
      ],
      "text/plain": [
       "<IPython.core.display.HTML object>"
      ]
     },
     "metadata": {},
     "output_type": "display_data"
    },
    {
     "data": {
      "text/html": [
       "<span style=\"color:cyan\"> |-hidden_0_units: 153</span>"
      ],
      "text/plain": [
       "<IPython.core.display.HTML object>"
      ]
     },
     "metadata": {},
     "output_type": "display_data"
    },
    {
     "data": {
      "text/html": [
       "<span style=\"color:blue\"> |-hidden_1_units: 205</span>"
      ],
      "text/plain": [
       "<IPython.core.display.HTML object>"
      ]
     },
     "metadata": {},
     "output_type": "display_data"
    },
    {
     "data": {
      "text/html": [
       "<span style=\"color:cyan\"> |-kernel_regularizer: 1e-05</span>"
      ],
      "text/plain": [
       "<IPython.core.display.HTML object>"
      ]
     },
     "metadata": {},
     "output_type": "display_data"
    },
    {
     "data": {
      "text/html": [
       "<span style=\"color:blue\"> |-learning_rate: 0.001</span>"
      ],
      "text/plain": [
       "<IPython.core.display.HTML object>"
      ]
     },
     "metadata": {},
     "output_type": "display_data"
    },
    {
     "data": {
      "text/html": [
       "<span style=\"color:cyan\"> |-n_layers: 2</span>"
      ],
      "text/plain": [
       "<IPython.core.display.HTML object>"
      ]
     },
     "metadata": {},
     "output_type": "display_data"
    },
    {
     "data": {
      "text/html": [
       "<span style=\"color:blue\"> |-tuner/bracket: 2</span>"
      ],
      "text/plain": [
       "<IPython.core.display.HTML object>"
      ]
     },
     "metadata": {},
     "output_type": "display_data"
    },
    {
     "data": {
      "text/html": [
       "<span style=\"color:cyan\"> |-tuner/epochs: 3</span>"
      ],
      "text/plain": [
       "<IPython.core.display.HTML object>"
      ]
     },
     "metadata": {},
     "output_type": "display_data"
    },
    {
     "data": {
      "text/html": [
       "<span style=\"color:blue\"> |-tuner/initial_epoch: 0</span>"
      ],
      "text/plain": [
       "<IPython.core.display.HTML object>"
      ]
     },
     "metadata": {},
     "output_type": "display_data"
    },
    {
     "data": {
      "text/html": [
       "<span style=\"color:cyan\"> |-tuner/round: 0</span>"
      ],
      "text/plain": [
       "<IPython.core.display.HTML object>"
      ]
     },
     "metadata": {},
     "output_type": "display_data"
    },
    {
     "name": "stdout",
     "output_type": "stream",
     "text": [
      "Train on 17000 samples, validate on 3000 samples\n",
      "Epoch 1/3\n",
      "17000/17000 - 2s - loss: 0.0136 - mean_squared_error: 0.0121 - val_loss: 0.0020 - val_mean_squared_error: 5.1915e-04\n",
      "Epoch 2/3\n",
      "17000/17000 - 1s - loss: 0.0018 - mean_squared_error: 5.5698e-04 - val_loss: 0.0016 - val_mean_squared_error: 5.7498e-04\n",
      "Epoch 3/3\n",
      "17000/17000 - 1s - loss: 0.0016 - mean_squared_error: 7.4100e-04 - val_loss: 0.0027 - val_mean_squared_error: 0.0019\n"
     ]
    },
    {
     "data": {
      "text/html": [
       "<span style=\"color:#4527A0\"><h1 style=\"font-size:18px\">Trial complete</h1></span>"
      ],
      "text/plain": [
       "<IPython.core.display.HTML object>"
      ]
     },
     "metadata": {},
     "output_type": "display_data"
    },
    {
     "data": {
      "text/html": [
       "<span style=\"color:#4527A0\"><h1 style=\"font-size:18px\">Trial summary</h1></span>"
      ],
      "text/plain": [
       "<IPython.core.display.HTML object>"
      ]
     },
     "metadata": {},
     "output_type": "display_data"
    },
    {
     "data": {
      "text/html": [
       "<span style=\"color:cyan\"> |-Trial ID: d1349fcd9a78163538273f5d94c68439</span>"
      ],
      "text/plain": [
       "<IPython.core.display.HTML object>"
      ]
     },
     "metadata": {},
     "output_type": "display_data"
    },
    {
     "data": {
      "text/html": [
       "<span style=\"color:cyan\"> |-Score: 0.0005569769418798387</span>"
      ],
      "text/plain": [
       "<IPython.core.display.HTML object>"
      ]
     },
     "metadata": {},
     "output_type": "display_data"
    },
    {
     "data": {
      "text/html": [
       "<span style=\"color:cyan\"> |-Best step: 0</span>"
      ],
      "text/plain": [
       "<IPython.core.display.HTML object>"
      ]
     },
     "metadata": {},
     "output_type": "display_data"
    },
    {
     "data": {
      "text/html": [
       "<span style=\"color:#7E57C2\"><h2 style=\"font-size:16px\">Hyperparameters:</h2></span>"
      ],
      "text/plain": [
       "<IPython.core.display.HTML object>"
      ]
     },
     "metadata": {},
     "output_type": "display_data"
    },
    {
     "data": {
      "text/html": [
       "<span style=\"color:cyan\"> |-hidden_0_units: 54</span>"
      ],
      "text/plain": [
       "<IPython.core.display.HTML object>"
      ]
     },
     "metadata": {},
     "output_type": "display_data"
    },
    {
     "data": {
      "text/html": [
       "<span style=\"color:blue\"> |-hidden_1_units: 163</span>"
      ],
      "text/plain": [
       "<IPython.core.display.HTML object>"
      ]
     },
     "metadata": {},
     "output_type": "display_data"
    },
    {
     "data": {
      "text/html": [
       "<span style=\"color:cyan\"> |-kernel_regularizer: 1e-05</span>"
      ],
      "text/plain": [
       "<IPython.core.display.HTML object>"
      ]
     },
     "metadata": {},
     "output_type": "display_data"
    },
    {
     "data": {
      "text/html": [
       "<span style=\"color:blue\"> |-learning_rate: 0.01</span>"
      ],
      "text/plain": [
       "<IPython.core.display.HTML object>"
      ]
     },
     "metadata": {},
     "output_type": "display_data"
    },
    {
     "data": {
      "text/html": [
       "<span style=\"color:cyan\"> |-n_layers: 1</span>"
      ],
      "text/plain": [
       "<IPython.core.display.HTML object>"
      ]
     },
     "metadata": {},
     "output_type": "display_data"
    },
    {
     "data": {
      "text/html": [
       "<span style=\"color:blue\"> |-tuner/bracket: 2</span>"
      ],
      "text/plain": [
       "<IPython.core.display.HTML object>"
      ]
     },
     "metadata": {},
     "output_type": "display_data"
    },
    {
     "data": {
      "text/html": [
       "<span style=\"color:cyan\"> |-tuner/epochs: 3</span>"
      ],
      "text/plain": [
       "<IPython.core.display.HTML object>"
      ]
     },
     "metadata": {},
     "output_type": "display_data"
    },
    {
     "data": {
      "text/html": [
       "<span style=\"color:blue\"> |-tuner/initial_epoch: 0</span>"
      ],
      "text/plain": [
       "<IPython.core.display.HTML object>"
      ]
     },
     "metadata": {},
     "output_type": "display_data"
    },
    {
     "data": {
      "text/html": [
       "<span style=\"color:cyan\"> |-tuner/round: 0</span>"
      ],
      "text/plain": [
       "<IPython.core.display.HTML object>"
      ]
     },
     "metadata": {},
     "output_type": "display_data"
    },
    {
     "name": "stdout",
     "output_type": "stream",
     "text": [
      "Train on 17000 samples, validate on 3000 samples\n",
      "Epoch 1/3\n",
      "17000/17000 - 2s - loss: 0.0511 - mean_squared_error: 0.0408 - val_loss: 0.0158 - val_mean_squared_error: 0.0041\n",
      "Epoch 2/3\n",
      "17000/17000 - 1s - loss: 0.0129 - mean_squared_error: 0.0030 - val_loss: 0.0106 - val_mean_squared_error: 0.0024\n",
      "Epoch 3/3\n",
      "17000/17000 - 2s - loss: 0.0092 - mean_squared_error: 0.0022 - val_loss: 0.0080 - val_mean_squared_error: 0.0019\n"
     ]
    },
    {
     "data": {
      "text/html": [
       "<span style=\"color:#4527A0\"><h1 style=\"font-size:18px\">Trial complete</h1></span>"
      ],
      "text/plain": [
       "<IPython.core.display.HTML object>"
      ]
     },
     "metadata": {},
     "output_type": "display_data"
    },
    {
     "data": {
      "text/html": [
       "<span style=\"color:#4527A0\"><h1 style=\"font-size:18px\">Trial summary</h1></span>"
      ],
      "text/plain": [
       "<IPython.core.display.HTML object>"
      ]
     },
     "metadata": {},
     "output_type": "display_data"
    },
    {
     "data": {
      "text/html": [
       "<span style=\"color:cyan\"> |-Trial ID: 474441a051c902a2a36d1c255a13ab4c</span>"
      ],
      "text/plain": [
       "<IPython.core.display.HTML object>"
      ]
     },
     "metadata": {},
     "output_type": "display_data"
    },
    {
     "data": {
      "text/html": [
       "<span style=\"color:cyan\"> |-Score: 0.0021989631932228804</span>"
      ],
      "text/plain": [
       "<IPython.core.display.HTML object>"
      ]
     },
     "metadata": {},
     "output_type": "display_data"
    },
    {
     "data": {
      "text/html": [
       "<span style=\"color:cyan\"> |-Best step: 0</span>"
      ],
      "text/plain": [
       "<IPython.core.display.HTML object>"
      ]
     },
     "metadata": {},
     "output_type": "display_data"
    },
    {
     "data": {
      "text/html": [
       "<span style=\"color:#7E57C2\"><h2 style=\"font-size:16px\">Hyperparameters:</h2></span>"
      ],
      "text/plain": [
       "<IPython.core.display.HTML object>"
      ]
     },
     "metadata": {},
     "output_type": "display_data"
    },
    {
     "data": {
      "text/html": [
       "<span style=\"color:cyan\"> |-hidden_0_units: 226</span>"
      ],
      "text/plain": [
       "<IPython.core.display.HTML object>"
      ]
     },
     "metadata": {},
     "output_type": "display_data"
    },
    {
     "data": {
      "text/html": [
       "<span style=\"color:blue\"> |-hidden_1_units: 10</span>"
      ],
      "text/plain": [
       "<IPython.core.display.HTML object>"
      ]
     },
     "metadata": {},
     "output_type": "display_data"
    },
    {
     "data": {
      "text/html": [
       "<span style=\"color:cyan\"> |-kernel_regularizer: 0.0001</span>"
      ],
      "text/plain": [
       "<IPython.core.display.HTML object>"
      ]
     },
     "metadata": {},
     "output_type": "display_data"
    },
    {
     "data": {
      "text/html": [
       "<span style=\"color:blue\"> |-learning_rate: 0.001</span>"
      ],
      "text/plain": [
       "<IPython.core.display.HTML object>"
      ]
     },
     "metadata": {},
     "output_type": "display_data"
    },
    {
     "data": {
      "text/html": [
       "<span style=\"color:cyan\"> |-n_layers: 1</span>"
      ],
      "text/plain": [
       "<IPython.core.display.HTML object>"
      ]
     },
     "metadata": {},
     "output_type": "display_data"
    },
    {
     "data": {
      "text/html": [
       "<span style=\"color:blue\"> |-tuner/bracket: 2</span>"
      ],
      "text/plain": [
       "<IPython.core.display.HTML object>"
      ]
     },
     "metadata": {},
     "output_type": "display_data"
    },
    {
     "data": {
      "text/html": [
       "<span style=\"color:cyan\"> |-tuner/epochs: 3</span>"
      ],
      "text/plain": [
       "<IPython.core.display.HTML object>"
      ]
     },
     "metadata": {},
     "output_type": "display_data"
    },
    {
     "data": {
      "text/html": [
       "<span style=\"color:blue\"> |-tuner/initial_epoch: 0</span>"
      ],
      "text/plain": [
       "<IPython.core.display.HTML object>"
      ]
     },
     "metadata": {},
     "output_type": "display_data"
    },
    {
     "data": {
      "text/html": [
       "<span style=\"color:cyan\"> |-tuner/round: 0</span>"
      ],
      "text/plain": [
       "<IPython.core.display.HTML object>"
      ]
     },
     "metadata": {},
     "output_type": "display_data"
    },
    {
     "name": "stdout",
     "output_type": "stream",
     "text": [
      "Train on 17000 samples, validate on 3000 samples\n",
      "Epoch 1/3\n",
      "17000/17000 - 2s - loss: 0.0228 - mean_squared_error: 0.0082 - val_loss: 0.0154 - val_mean_squared_error: 0.0057\n",
      "Epoch 2/3\n",
      "17000/17000 - 2s - loss: 0.0305 - mean_squared_error: 0.0130 - val_loss: 0.0096 - val_mean_squared_error: 0.0016\n",
      "Epoch 3/3\n",
      "17000/17000 - 2s - loss: 0.0091 - mean_squared_error: 0.0018 - val_loss: 0.0108 - val_mean_squared_error: 0.0038\n"
     ]
    },
    {
     "data": {
      "text/html": [
       "<span style=\"color:#4527A0\"><h1 style=\"font-size:18px\">Trial complete</h1></span>"
      ],
      "text/plain": [
       "<IPython.core.display.HTML object>"
      ]
     },
     "metadata": {},
     "output_type": "display_data"
    },
    {
     "data": {
      "text/html": [
       "<span style=\"color:#4527A0\"><h1 style=\"font-size:18px\">Trial summary</h1></span>"
      ],
      "text/plain": [
       "<IPython.core.display.HTML object>"
      ]
     },
     "metadata": {},
     "output_type": "display_data"
    },
    {
     "data": {
      "text/html": [
       "<span style=\"color:cyan\"> |-Trial ID: 0e3951d52c95efa4da69eb790e84f57b</span>"
      ],
      "text/plain": [
       "<IPython.core.display.HTML object>"
      ]
     },
     "metadata": {},
     "output_type": "display_data"
    },
    {
     "data": {
      "text/html": [
       "<span style=\"color:cyan\"> |-Score: 0.0018192968564108014</span>"
      ],
      "text/plain": [
       "<IPython.core.display.HTML object>"
      ]
     },
     "metadata": {},
     "output_type": "display_data"
    },
    {
     "data": {
      "text/html": [
       "<span style=\"color:cyan\"> |-Best step: 0</span>"
      ],
      "text/plain": [
       "<IPython.core.display.HTML object>"
      ]
     },
     "metadata": {},
     "output_type": "display_data"
    },
    {
     "data": {
      "text/html": [
       "<span style=\"color:#7E57C2\"><h2 style=\"font-size:16px\">Hyperparameters:</h2></span>"
      ],
      "text/plain": [
       "<IPython.core.display.HTML object>"
      ]
     },
     "metadata": {},
     "output_type": "display_data"
    },
    {
     "data": {
      "text/html": [
       "<span style=\"color:cyan\"> |-hidden_0_units: 232</span>"
      ],
      "text/plain": [
       "<IPython.core.display.HTML object>"
      ]
     },
     "metadata": {},
     "output_type": "display_data"
    },
    {
     "data": {
      "text/html": [
       "<span style=\"color:blue\"> |-hidden_1_units: 98</span>"
      ],
      "text/plain": [
       "<IPython.core.display.HTML object>"
      ]
     },
     "metadata": {},
     "output_type": "display_data"
    },
    {
     "data": {
      "text/html": [
       "<span style=\"color:cyan\"> |-kernel_regularizer: 0.0001</span>"
      ],
      "text/plain": [
       "<IPython.core.display.HTML object>"
      ]
     },
     "metadata": {},
     "output_type": "display_data"
    },
    {
     "data": {
      "text/html": [
       "<span style=\"color:blue\"> |-learning_rate: 0.01</span>"
      ],
      "text/plain": [
       "<IPython.core.display.HTML object>"
      ]
     },
     "metadata": {},
     "output_type": "display_data"
    },
    {
     "data": {
      "text/html": [
       "<span style=\"color:cyan\"> |-n_layers: 2</span>"
      ],
      "text/plain": [
       "<IPython.core.display.HTML object>"
      ]
     },
     "metadata": {},
     "output_type": "display_data"
    },
    {
     "data": {
      "text/html": [
       "<span style=\"color:blue\"> |-tuner/bracket: 2</span>"
      ],
      "text/plain": [
       "<IPython.core.display.HTML object>"
      ]
     },
     "metadata": {},
     "output_type": "display_data"
    },
    {
     "data": {
      "text/html": [
       "<span style=\"color:cyan\"> |-tuner/epochs: 3</span>"
      ],
      "text/plain": [
       "<IPython.core.display.HTML object>"
      ]
     },
     "metadata": {},
     "output_type": "display_data"
    },
    {
     "data": {
      "text/html": [
       "<span style=\"color:blue\"> |-tuner/initial_epoch: 0</span>"
      ],
      "text/plain": [
       "<IPython.core.display.HTML object>"
      ]
     },
     "metadata": {},
     "output_type": "display_data"
    },
    {
     "data": {
      "text/html": [
       "<span style=\"color:cyan\"> |-tuner/round: 0</span>"
      ],
      "text/plain": [
       "<IPython.core.display.HTML object>"
      ]
     },
     "metadata": {},
     "output_type": "display_data"
    },
    {
     "name": "stdout",
     "output_type": "stream",
     "text": [
      "Train on 17000 samples, validate on 3000 samples\n",
      "Epoch 1/3\n",
      "17000/17000 - 2s - loss: 0.0347 - mean_squared_error: 0.0334 - val_loss: 0.0034 - val_mean_squared_error: 0.0016\n",
      "Epoch 2/3\n",
      "17000/17000 - 2s - loss: 0.0028 - mean_squared_error: 9.5171e-04 - val_loss: 0.0025 - val_mean_squared_error: 6.2573e-04\n",
      "Epoch 3/3\n",
      "17000/17000 - 2s - loss: 0.0024 - mean_squared_error: 5.6945e-04 - val_loss: 0.0022 - val_mean_squared_error: 5.3444e-04\n"
     ]
    },
    {
     "data": {
      "text/html": [
       "<span style=\"color:#4527A0\"><h1 style=\"font-size:18px\">Trial complete</h1></span>"
      ],
      "text/plain": [
       "<IPython.core.display.HTML object>"
      ]
     },
     "metadata": {},
     "output_type": "display_data"
    },
    {
     "data": {
      "text/html": [
       "<span style=\"color:#4527A0\"><h1 style=\"font-size:18px\">Trial summary</h1></span>"
      ],
      "text/plain": [
       "<IPython.core.display.HTML object>"
      ]
     },
     "metadata": {},
     "output_type": "display_data"
    },
    {
     "data": {
      "text/html": [
       "<span style=\"color:cyan\"> |-Trial ID: 04e077ccc428de5803581a52985a6fee</span>"
      ],
      "text/plain": [
       "<IPython.core.display.HTML object>"
      ]
     },
     "metadata": {},
     "output_type": "display_data"
    },
    {
     "data": {
      "text/html": [
       "<span style=\"color:cyan\"> |-Score: 0.000569452706258744</span>"
      ],
      "text/plain": [
       "<IPython.core.display.HTML object>"
      ]
     },
     "metadata": {},
     "output_type": "display_data"
    },
    {
     "data": {
      "text/html": [
       "<span style=\"color:cyan\"> |-Best step: 0</span>"
      ],
      "text/plain": [
       "<IPython.core.display.HTML object>"
      ]
     },
     "metadata": {},
     "output_type": "display_data"
    },
    {
     "data": {
      "text/html": [
       "<span style=\"color:#7E57C2\"><h2 style=\"font-size:16px\">Hyperparameters:</h2></span>"
      ],
      "text/plain": [
       "<IPython.core.display.HTML object>"
      ]
     },
     "metadata": {},
     "output_type": "display_data"
    },
    {
     "data": {
      "text/html": [
       "<span style=\"color:cyan\"> |-hidden_0_units: 295</span>"
      ],
      "text/plain": [
       "<IPython.core.display.HTML object>"
      ]
     },
     "metadata": {},
     "output_type": "display_data"
    },
    {
     "data": {
      "text/html": [
       "<span style=\"color:blue\"> |-hidden_1_units: 64</span>"
      ],
      "text/plain": [
       "<IPython.core.display.HTML object>"
      ]
     },
     "metadata": {},
     "output_type": "display_data"
    },
    {
     "data": {
      "text/html": [
       "<span style=\"color:cyan\"> |-kernel_regularizer: 1e-05</span>"
      ],
      "text/plain": [
       "<IPython.core.display.HTML object>"
      ]
     },
     "metadata": {},
     "output_type": "display_data"
    },
    {
     "data": {
      "text/html": [
       "<span style=\"color:blue\"> |-learning_rate: 0.001</span>"
      ],
      "text/plain": [
       "<IPython.core.display.HTML object>"
      ]
     },
     "metadata": {},
     "output_type": "display_data"
    },
    {
     "data": {
      "text/html": [
       "<span style=\"color:cyan\"> |-n_layers: 1</span>"
      ],
      "text/plain": [
       "<IPython.core.display.HTML object>"
      ]
     },
     "metadata": {},
     "output_type": "display_data"
    },
    {
     "data": {
      "text/html": [
       "<span style=\"color:blue\"> |-tuner/bracket: 2</span>"
      ],
      "text/plain": [
       "<IPython.core.display.HTML object>"
      ]
     },
     "metadata": {},
     "output_type": "display_data"
    },
    {
     "data": {
      "text/html": [
       "<span style=\"color:cyan\"> |-tuner/epochs: 3</span>"
      ],
      "text/plain": [
       "<IPython.core.display.HTML object>"
      ]
     },
     "metadata": {},
     "output_type": "display_data"
    },
    {
     "data": {
      "text/html": [
       "<span style=\"color:blue\"> |-tuner/initial_epoch: 0</span>"
      ],
      "text/plain": [
       "<IPython.core.display.HTML object>"
      ]
     },
     "metadata": {},
     "output_type": "display_data"
    },
    {
     "data": {
      "text/html": [
       "<span style=\"color:cyan\"> |-tuner/round: 0</span>"
      ],
      "text/plain": [
       "<IPython.core.display.HTML object>"
      ]
     },
     "metadata": {},
     "output_type": "display_data"
    },
    {
     "name": "stdout",
     "output_type": "stream",
     "text": [
      "Train on 17000 samples, validate on 3000 samples\n",
      "Epoch 4/9\n",
      "17000/17000 - 2s - loss: 0.0417 - mean_squared_error: 0.0416 - val_loss: 0.0026 - val_mean_squared_error: 0.0024\n",
      "Epoch 5/9\n",
      "17000/17000 - 1s - loss: 0.0014 - mean_squared_error: 0.0012 - val_loss: 8.5653e-04 - val_mean_squared_error: 6.4612e-04\n",
      "Epoch 6/9\n",
      "17000/17000 - 2s - loss: 7.4411e-04 - mean_squared_error: 5.2585e-04 - val_loss: 6.7413e-04 - val_mean_squared_error: 4.4948e-04\n",
      "Epoch 7/9\n",
      "17000/17000 - 2s - loss: 6.3603e-04 - mean_squared_error: 4.0753e-04 - val_loss: 5.9630e-04 - val_mean_squared_error: 3.6505e-04\n",
      "Epoch 8/9\n",
      "17000/17000 - 2s - loss: 6.0255e-04 - mean_squared_error: 3.6980e-04 - val_loss: 5.7332e-04 - val_mean_squared_error: 3.3965e-04\n",
      "Epoch 9/9\n",
      "17000/17000 - 2s - loss: 5.8852e-04 - mean_squared_error: 3.5489e-04 - val_loss: 5.5629e-04 - val_mean_squared_error: 3.2323e-04\n"
     ]
    },
    {
     "data": {
      "text/html": [
       "<span style=\"color:#4527A0\"><h1 style=\"font-size:18px\">Trial complete</h1></span>"
      ],
      "text/plain": [
       "<IPython.core.display.HTML object>"
      ]
     },
     "metadata": {},
     "output_type": "display_data"
    },
    {
     "data": {
      "text/html": [
       "<span style=\"color:#4527A0\"><h1 style=\"font-size:18px\">Trial summary</h1></span>"
      ],
      "text/plain": [
       "<IPython.core.display.HTML object>"
      ]
     },
     "metadata": {},
     "output_type": "display_data"
    },
    {
     "data": {
      "text/html": [
       "<span style=\"color:cyan\"> |-Trial ID: 028dfdac639916d2fd0a11a5dcf12739</span>"
      ],
      "text/plain": [
       "<IPython.core.display.HTML object>"
      ]
     },
     "metadata": {},
     "output_type": "display_data"
    },
    {
     "data": {
      "text/html": [
       "<span style=\"color:cyan\"> |-Score: 0.0003548924287315458</span>"
      ],
      "text/plain": [
       "<IPython.core.display.HTML object>"
      ]
     },
     "metadata": {},
     "output_type": "display_data"
    },
    {
     "data": {
      "text/html": [
       "<span style=\"color:cyan\"> |-Best step: 0</span>"
      ],
      "text/plain": [
       "<IPython.core.display.HTML object>"
      ]
     },
     "metadata": {},
     "output_type": "display_data"
    },
    {
     "data": {
      "text/html": [
       "<span style=\"color:#7E57C2\"><h2 style=\"font-size:16px\">Hyperparameters:</h2></span>"
      ],
      "text/plain": [
       "<IPython.core.display.HTML object>"
      ]
     },
     "metadata": {},
     "output_type": "display_data"
    },
    {
     "data": {
      "text/html": [
       "<span style=\"color:cyan\"> |-hidden_0_units: 204</span>"
      ],
      "text/plain": [
       "<IPython.core.display.HTML object>"
      ]
     },
     "metadata": {},
     "output_type": "display_data"
    },
    {
     "data": {
      "text/html": [
       "<span style=\"color:blue\"> |-hidden_1_units: 181</span>"
      ],
      "text/plain": [
       "<IPython.core.display.HTML object>"
      ]
     },
     "metadata": {},
     "output_type": "display_data"
    },
    {
     "data": {
      "text/html": [
       "<span style=\"color:cyan\"> |-kernel_regularizer: 1e-06</span>"
      ],
      "text/plain": [
       "<IPython.core.display.HTML object>"
      ]
     },
     "metadata": {},
     "output_type": "display_data"
    },
    {
     "data": {
      "text/html": [
       "<span style=\"color:blue\"> |-learning_rate: 0.001</span>"
      ],
      "text/plain": [
       "<IPython.core.display.HTML object>"
      ]
     },
     "metadata": {},
     "output_type": "display_data"
    },
    {
     "data": {
      "text/html": [
       "<span style=\"color:cyan\"> |-n_layers: 1</span>"
      ],
      "text/plain": [
       "<IPython.core.display.HTML object>"
      ]
     },
     "metadata": {},
     "output_type": "display_data"
    },
    {
     "data": {
      "text/html": [
       "<span style=\"color:blue\"> |-tuner/bracket: 2</span>"
      ],
      "text/plain": [
       "<IPython.core.display.HTML object>"
      ]
     },
     "metadata": {},
     "output_type": "display_data"
    },
    {
     "data": {
      "text/html": [
       "<span style=\"color:cyan\"> |-tuner/epochs: 9</span>"
      ],
      "text/plain": [
       "<IPython.core.display.HTML object>"
      ]
     },
     "metadata": {},
     "output_type": "display_data"
    },
    {
     "data": {
      "text/html": [
       "<span style=\"color:blue\"> |-tuner/initial_epoch: 3</span>"
      ],
      "text/plain": [
       "<IPython.core.display.HTML object>"
      ]
     },
     "metadata": {},
     "output_type": "display_data"
    },
    {
     "data": {
      "text/html": [
       "<span style=\"color:cyan\"> |-tuner/round: 1</span>"
      ],
      "text/plain": [
       "<IPython.core.display.HTML object>"
      ]
     },
     "metadata": {},
     "output_type": "display_data"
    },
    {
     "data": {
      "text/html": [
       "<span style=\"color:blue\"> |-tuner/trial_id: 488846b80d0602f23425230218600e1e</span>"
      ],
      "text/plain": [
       "<IPython.core.display.HTML object>"
      ]
     },
     "metadata": {},
     "output_type": "display_data"
    },
    {
     "name": "stdout",
     "output_type": "stream",
     "text": [
      "Train on 17000 samples, validate on 3000 samples\n",
      "Epoch 4/9\n",
      "17000/17000 - 3s - loss: 0.0249 - mean_squared_error: 0.0215 - val_loss: 0.0043 - val_mean_squared_error: 6.6999e-04\n",
      "Epoch 5/9\n",
      "17000/17000 - 2s - loss: 0.0040 - mean_squared_error: 5.5116e-04 - val_loss: 0.0036 - val_mean_squared_error: 4.9166e-04\n",
      "Epoch 6/9\n",
      "17000/17000 - 2s - loss: 0.0034 - mean_squared_error: 5.2011e-04 - val_loss: 0.0031 - val_mean_squared_error: 4.7420e-04\n",
      "Epoch 7/9\n",
      "17000/17000 - 2s - loss: 0.0029 - mean_squared_error: 5.2537e-04 - val_loss: 0.0031 - val_mean_squared_error: 8.7928e-04\n",
      "Epoch 8/9\n",
      "17000/17000 - 2s - loss: 0.0025 - mean_squared_error: 5.0029e-04 - val_loss: 0.0024 - val_mean_squared_error: 4.5511e-04\n",
      "Epoch 9/9\n",
      "17000/17000 - 2s - loss: 0.0023 - mean_squared_error: 4.7869e-04 - val_loss: 0.0022 - val_mean_squared_error: 4.6580e-04\n"
     ]
    },
    {
     "data": {
      "text/html": [
       "<span style=\"color:#4527A0\"><h1 style=\"font-size:18px\">Trial complete</h1></span>"
      ],
      "text/plain": [
       "<IPython.core.display.HTML object>"
      ]
     },
     "metadata": {},
     "output_type": "display_data"
    },
    {
     "data": {
      "text/html": [
       "<span style=\"color:#4527A0\"><h1 style=\"font-size:18px\">Trial summary</h1></span>"
      ],
      "text/plain": [
       "<IPython.core.display.HTML object>"
      ]
     },
     "metadata": {},
     "output_type": "display_data"
    },
    {
     "data": {
      "text/html": [
       "<span style=\"color:cyan\"> |-Trial ID: 0fdbb7e5eab8e70ed6147960554dfb13</span>"
      ],
      "text/plain": [
       "<IPython.core.display.HTML object>"
      ]
     },
     "metadata": {},
     "output_type": "display_data"
    },
    {
     "data": {
      "text/html": [
       "<span style=\"color:cyan\"> |-Score: 0.00047868667752481997</span>"
      ],
      "text/plain": [
       "<IPython.core.display.HTML object>"
      ]
     },
     "metadata": {},
     "output_type": "display_data"
    },
    {
     "data": {
      "text/html": [
       "<span style=\"color:cyan\"> |-Best step: 0</span>"
      ],
      "text/plain": [
       "<IPython.core.display.HTML object>"
      ]
     },
     "metadata": {},
     "output_type": "display_data"
    },
    {
     "data": {
      "text/html": [
       "<span style=\"color:#7E57C2\"><h2 style=\"font-size:16px\">Hyperparameters:</h2></span>"
      ],
      "text/plain": [
       "<IPython.core.display.HTML object>"
      ]
     },
     "metadata": {},
     "output_type": "display_data"
    },
    {
     "data": {
      "text/html": [
       "<span style=\"color:cyan\"> |-hidden_0_units: 153</span>"
      ],
      "text/plain": [
       "<IPython.core.display.HTML object>"
      ]
     },
     "metadata": {},
     "output_type": "display_data"
    },
    {
     "data": {
      "text/html": [
       "<span style=\"color:blue\"> |-hidden_1_units: 205</span>"
      ],
      "text/plain": [
       "<IPython.core.display.HTML object>"
      ]
     },
     "metadata": {},
     "output_type": "display_data"
    },
    {
     "data": {
      "text/html": [
       "<span style=\"color:cyan\"> |-kernel_regularizer: 1e-05</span>"
      ],
      "text/plain": [
       "<IPython.core.display.HTML object>"
      ]
     },
     "metadata": {},
     "output_type": "display_data"
    },
    {
     "data": {
      "text/html": [
       "<span style=\"color:blue\"> |-learning_rate: 0.001</span>"
      ],
      "text/plain": [
       "<IPython.core.display.HTML object>"
      ]
     },
     "metadata": {},
     "output_type": "display_data"
    },
    {
     "data": {
      "text/html": [
       "<span style=\"color:cyan\"> |-n_layers: 2</span>"
      ],
      "text/plain": [
       "<IPython.core.display.HTML object>"
      ]
     },
     "metadata": {},
     "output_type": "display_data"
    },
    {
     "data": {
      "text/html": [
       "<span style=\"color:blue\"> |-tuner/bracket: 2</span>"
      ],
      "text/plain": [
       "<IPython.core.display.HTML object>"
      ]
     },
     "metadata": {},
     "output_type": "display_data"
    },
    {
     "data": {
      "text/html": [
       "<span style=\"color:cyan\"> |-tuner/epochs: 9</span>"
      ],
      "text/plain": [
       "<IPython.core.display.HTML object>"
      ]
     },
     "metadata": {},
     "output_type": "display_data"
    },
    {
     "data": {
      "text/html": [
       "<span style=\"color:blue\"> |-tuner/initial_epoch: 3</span>"
      ],
      "text/plain": [
       "<IPython.core.display.HTML object>"
      ]
     },
     "metadata": {},
     "output_type": "display_data"
    },
    {
     "data": {
      "text/html": [
       "<span style=\"color:cyan\"> |-tuner/round: 1</span>"
      ],
      "text/plain": [
       "<IPython.core.display.HTML object>"
      ]
     },
     "metadata": {},
     "output_type": "display_data"
    },
    {
     "data": {
      "text/html": [
       "<span style=\"color:blue\"> |-tuner/trial_id: c741d52ba4b5dc6e7e926009ac9fae3c</span>"
      ],
      "text/plain": [
       "<IPython.core.display.HTML object>"
      ]
     },
     "metadata": {},
     "output_type": "display_data"
    },
    {
     "name": "stdout",
     "output_type": "stream",
     "text": [
      "Train on 17000 samples, validate on 3000 samples\n",
      "Epoch 4/9\n",
      "17000/17000 - 2s - loss: 0.0143 - mean_squared_error: 0.0128 - val_loss: 0.0020 - val_mean_squared_error: 5.0017e-04\n",
      "Epoch 5/9\n",
      "17000/17000 - 1s - loss: 0.0018 - mean_squared_error: 5.7113e-04 - val_loss: 0.0016 - val_mean_squared_error: 4.8241e-04\n",
      "Epoch 6/9\n",
      "17000/17000 - 1s - loss: 0.0015 - mean_squared_error: 5.6920e-04 - val_loss: 0.0014 - val_mean_squared_error: 6.0317e-04\n",
      "Epoch 7/9\n",
      "17000/17000 - 2s - loss: 0.0016 - mean_squared_error: 8.1068e-04 - val_loss: 0.0014 - val_mean_squared_error: 6.8674e-04\n",
      "Epoch 8/9\n",
      "17000/17000 - 1s - loss: 0.0015 - mean_squared_error: 8.2399e-04 - val_loss: 0.0014 - val_mean_squared_error: 7.0154e-04\n",
      "Epoch 9/9\n",
      "17000/17000 - 1s - loss: 0.0013 - mean_squared_error: 6.6273e-04 - val_loss: 0.0012 - val_mean_squared_error: 6.4724e-04\n"
     ]
    },
    {
     "data": {
      "text/html": [
       "<span style=\"color:#4527A0\"><h1 style=\"font-size:18px\">Trial complete</h1></span>"
      ],
      "text/plain": [
       "<IPython.core.display.HTML object>"
      ]
     },
     "metadata": {},
     "output_type": "display_data"
    },
    {
     "data": {
      "text/html": [
       "<span style=\"color:#4527A0\"><h1 style=\"font-size:18px\">Trial summary</h1></span>"
      ],
      "text/plain": [
       "<IPython.core.display.HTML object>"
      ]
     },
     "metadata": {},
     "output_type": "display_data"
    },
    {
     "data": {
      "text/html": [
       "<span style=\"color:cyan\"> |-Trial ID: 978d0ba72540006ea4948edbe32880f7</span>"
      ],
      "text/plain": [
       "<IPython.core.display.HTML object>"
      ]
     },
     "metadata": {},
     "output_type": "display_data"
    },
    {
     "data": {
      "text/html": [
       "<span style=\"color:cyan\"> |-Score: 0.0005691966507583857</span>"
      ],
      "text/plain": [
       "<IPython.core.display.HTML object>"
      ]
     },
     "metadata": {},
     "output_type": "display_data"
    },
    {
     "data": {
      "text/html": [
       "<span style=\"color:cyan\"> |-Best step: 0</span>"
      ],
      "text/plain": [
       "<IPython.core.display.HTML object>"
      ]
     },
     "metadata": {},
     "output_type": "display_data"
    },
    {
     "data": {
      "text/html": [
       "<span style=\"color:#7E57C2\"><h2 style=\"font-size:16px\">Hyperparameters:</h2></span>"
      ],
      "text/plain": [
       "<IPython.core.display.HTML object>"
      ]
     },
     "metadata": {},
     "output_type": "display_data"
    },
    {
     "data": {
      "text/html": [
       "<span style=\"color:cyan\"> |-hidden_0_units: 54</span>"
      ],
      "text/plain": [
       "<IPython.core.display.HTML object>"
      ]
     },
     "metadata": {},
     "output_type": "display_data"
    },
    {
     "data": {
      "text/html": [
       "<span style=\"color:blue\"> |-hidden_1_units: 163</span>"
      ],
      "text/plain": [
       "<IPython.core.display.HTML object>"
      ]
     },
     "metadata": {},
     "output_type": "display_data"
    },
    {
     "data": {
      "text/html": [
       "<span style=\"color:cyan\"> |-kernel_regularizer: 1e-05</span>"
      ],
      "text/plain": [
       "<IPython.core.display.HTML object>"
      ]
     },
     "metadata": {},
     "output_type": "display_data"
    },
    {
     "data": {
      "text/html": [
       "<span style=\"color:blue\"> |-learning_rate: 0.01</span>"
      ],
      "text/plain": [
       "<IPython.core.display.HTML object>"
      ]
     },
     "metadata": {},
     "output_type": "display_data"
    },
    {
     "data": {
      "text/html": [
       "<span style=\"color:cyan\"> |-n_layers: 1</span>"
      ],
      "text/plain": [
       "<IPython.core.display.HTML object>"
      ]
     },
     "metadata": {},
     "output_type": "display_data"
    },
    {
     "data": {
      "text/html": [
       "<span style=\"color:blue\"> |-tuner/bracket: 2</span>"
      ],
      "text/plain": [
       "<IPython.core.display.HTML object>"
      ]
     },
     "metadata": {},
     "output_type": "display_data"
    },
    {
     "data": {
      "text/html": [
       "<span style=\"color:cyan\"> |-tuner/epochs: 9</span>"
      ],
      "text/plain": [
       "<IPython.core.display.HTML object>"
      ]
     },
     "metadata": {},
     "output_type": "display_data"
    },
    {
     "data": {
      "text/html": [
       "<span style=\"color:blue\"> |-tuner/initial_epoch: 3</span>"
      ],
      "text/plain": [
       "<IPython.core.display.HTML object>"
      ]
     },
     "metadata": {},
     "output_type": "display_data"
    },
    {
     "data": {
      "text/html": [
       "<span style=\"color:cyan\"> |-tuner/round: 1</span>"
      ],
      "text/plain": [
       "<IPython.core.display.HTML object>"
      ]
     },
     "metadata": {},
     "output_type": "display_data"
    },
    {
     "data": {
      "text/html": [
       "<span style=\"color:blue\"> |-tuner/trial_id: d1349fcd9a78163538273f5d94c68439</span>"
      ],
      "text/plain": [
       "<IPython.core.display.HTML object>"
      ]
     },
     "metadata": {},
     "output_type": "display_data"
    },
    {
     "name": "stdout",
     "output_type": "stream",
     "text": [
      "Train on 17000 samples, validate on 3000 samples\n",
      "Epoch 4/9\n",
      "17000/17000 - 2s - loss: 0.0342 - mean_squared_error: 0.0328 - val_loss: 0.0034 - val_mean_squared_error: 0.0016\n",
      "Epoch 5/9\n",
      "17000/17000 - 2s - loss: 0.0028 - mean_squared_error: 9.5178e-04 - val_loss: 0.0025 - val_mean_squared_error: 6.2512e-04\n",
      "Epoch 6/9\n",
      "17000/17000 - 2s - loss: 0.0024 - mean_squared_error: 5.7377e-04 - val_loss: 0.0022 - val_mean_squared_error: 5.1759e-04\n",
      "Epoch 7/9\n",
      "17000/17000 - 2s - loss: 0.0021 - mean_squared_error: 5.0658e-04 - val_loss: 0.0020 - val_mean_squared_error: 5.1310e-04\n",
      "Epoch 8/9\n",
      "17000/17000 - 2s - loss: 0.0019 - mean_squared_error: 4.8326e-04 - val_loss: 0.0018 - val_mean_squared_error: 4.7713e-04\n",
      "Epoch 9/9\n",
      "17000/17000 - 2s - loss: 0.0017 - mean_squared_error: 4.6343e-04 - val_loss: 0.0016 - val_mean_squared_error: 4.4075e-04\n"
     ]
    },
    {
     "data": {
      "text/html": [
       "<span style=\"color:#4527A0\"><h1 style=\"font-size:18px\">Trial complete</h1></span>"
      ],
      "text/plain": [
       "<IPython.core.display.HTML object>"
      ]
     },
     "metadata": {},
     "output_type": "display_data"
    },
    {
     "data": {
      "text/html": [
       "<span style=\"color:#4527A0\"><h1 style=\"font-size:18px\">Trial summary</h1></span>"
      ],
      "text/plain": [
       "<IPython.core.display.HTML object>"
      ]
     },
     "metadata": {},
     "output_type": "display_data"
    },
    {
     "data": {
      "text/html": [
       "<span style=\"color:cyan\"> |-Trial ID: f4bc5679ef5df1f47033c280c43460f9</span>"
      ],
      "text/plain": [
       "<IPython.core.display.HTML object>"
      ]
     },
     "metadata": {},
     "output_type": "display_data"
    },
    {
     "data": {
      "text/html": [
       "<span style=\"color:cyan\"> |-Score: 0.0004634313809219748</span>"
      ],
      "text/plain": [
       "<IPython.core.display.HTML object>"
      ]
     },
     "metadata": {},
     "output_type": "display_data"
    },
    {
     "data": {
      "text/html": [
       "<span style=\"color:cyan\"> |-Best step: 0</span>"
      ],
      "text/plain": [
       "<IPython.core.display.HTML object>"
      ]
     },
     "metadata": {},
     "output_type": "display_data"
    },
    {
     "data": {
      "text/html": [
       "<span style=\"color:#7E57C2\"><h2 style=\"font-size:16px\">Hyperparameters:</h2></span>"
      ],
      "text/plain": [
       "<IPython.core.display.HTML object>"
      ]
     },
     "metadata": {},
     "output_type": "display_data"
    },
    {
     "data": {
      "text/html": [
       "<span style=\"color:cyan\"> |-hidden_0_units: 295</span>"
      ],
      "text/plain": [
       "<IPython.core.display.HTML object>"
      ]
     },
     "metadata": {},
     "output_type": "display_data"
    },
    {
     "data": {
      "text/html": [
       "<span style=\"color:blue\"> |-hidden_1_units: 64</span>"
      ],
      "text/plain": [
       "<IPython.core.display.HTML object>"
      ]
     },
     "metadata": {},
     "output_type": "display_data"
    },
    {
     "data": {
      "text/html": [
       "<span style=\"color:cyan\"> |-kernel_regularizer: 1e-05</span>"
      ],
      "text/plain": [
       "<IPython.core.display.HTML object>"
      ]
     },
     "metadata": {},
     "output_type": "display_data"
    },
    {
     "data": {
      "text/html": [
       "<span style=\"color:blue\"> |-learning_rate: 0.001</span>"
      ],
      "text/plain": [
       "<IPython.core.display.HTML object>"
      ]
     },
     "metadata": {},
     "output_type": "display_data"
    },
    {
     "data": {
      "text/html": [
       "<span style=\"color:cyan\"> |-n_layers: 1</span>"
      ],
      "text/plain": [
       "<IPython.core.display.HTML object>"
      ]
     },
     "metadata": {},
     "output_type": "display_data"
    },
    {
     "data": {
      "text/html": [
       "<span style=\"color:blue\"> |-tuner/bracket: 2</span>"
      ],
      "text/plain": [
       "<IPython.core.display.HTML object>"
      ]
     },
     "metadata": {},
     "output_type": "display_data"
    },
    {
     "data": {
      "text/html": [
       "<span style=\"color:cyan\"> |-tuner/epochs: 9</span>"
      ],
      "text/plain": [
       "<IPython.core.display.HTML object>"
      ]
     },
     "metadata": {},
     "output_type": "display_data"
    },
    {
     "data": {
      "text/html": [
       "<span style=\"color:blue\"> |-tuner/initial_epoch: 3</span>"
      ],
      "text/plain": [
       "<IPython.core.display.HTML object>"
      ]
     },
     "metadata": {},
     "output_type": "display_data"
    },
    {
     "data": {
      "text/html": [
       "<span style=\"color:cyan\"> |-tuner/round: 1</span>"
      ],
      "text/plain": [
       "<IPython.core.display.HTML object>"
      ]
     },
     "metadata": {},
     "output_type": "display_data"
    },
    {
     "data": {
      "text/html": [
       "<span style=\"color:blue\"> |-tuner/trial_id: 04e077ccc428de5803581a52985a6fee</span>"
      ],
      "text/plain": [
       "<IPython.core.display.HTML object>"
      ]
     },
     "metadata": {},
     "output_type": "display_data"
    },
    {
     "name": "stdout",
     "output_type": "stream",
     "text": [
      "Train on 17000 samples, validate on 3000 samples\n",
      "Epoch 10/25\n",
      "17000/17000 - 2s - loss: 0.0417 - mean_squared_error: 0.0416 - val_loss: 0.0026 - val_mean_squared_error: 0.0024\n",
      "Epoch 11/25\n",
      "17000/17000 - 2s - loss: 0.0014 - mean_squared_error: 0.0012 - val_loss: 8.5283e-04 - val_mean_squared_error: 6.3949e-04\n",
      "Epoch 12/25\n",
      "17000/17000 - 2s - loss: 7.4919e-04 - mean_squared_error: 5.2778e-04 - val_loss: 6.5259e-04 - val_mean_squared_error: 4.2516e-04\n",
      "Epoch 13/25\n",
      "17000/17000 - 2s - loss: 6.5032e-04 - mean_squared_error: 4.1903e-04 - val_loss: 5.9578e-04 - val_mean_squared_error: 3.6175e-04\n",
      "Epoch 14/25\n",
      "17000/17000 - 2s - loss: 6.0523e-04 - mean_squared_error: 3.6966e-04 - val_loss: 5.9427e-04 - val_mean_squared_error: 3.5775e-04\n",
      "Epoch 15/25\n",
      "17000/17000 - 1s - loss: 5.9844e-04 - mean_squared_error: 3.6206e-04 - val_loss: 6.1080e-04 - val_mean_squared_error: 3.7483e-04\n",
      "Epoch 16/25\n",
      "17000/17000 - 2s - loss: 5.8305e-04 - mean_squared_error: 3.4833e-04 - val_loss: 5.7071e-04 - val_mean_squared_error: 3.3771e-04\n",
      "Epoch 17/25\n",
      "17000/17000 - 1s - loss: 5.8798e-04 - mean_squared_error: 3.5695e-04 - val_loss: 5.5317e-04 - val_mean_squared_error: 3.2452e-04\n",
      "Epoch 18/25\n",
      "17000/17000 - 1s - loss: 5.8608e-04 - mean_squared_error: 3.5992e-04 - val_loss: 5.7794e-04 - val_mean_squared_error: 3.5466e-04\n",
      "Epoch 19/25\n",
      "17000/17000 - 1s - loss: 5.6070e-04 - mean_squared_error: 3.3996e-04 - val_loss: 5.2946e-04 - val_mean_squared_error: 3.1179e-04\n",
      "Epoch 20/25\n",
      "17000/17000 - 1s - loss: 5.5678e-04 - mean_squared_error: 3.4209e-04 - val_loss: 5.4230e-04 - val_mean_squared_error: 3.3031e-04\n",
      "Epoch 21/25\n",
      "17000/17000 - 2s - loss: 5.4502e-04 - mean_squared_error: 3.3645e-04 - val_loss: 5.0510e-04 - val_mean_squared_error: 2.9965e-04\n",
      "Epoch 22/25\n",
      "17000/17000 - 2s - loss: 5.3684e-04 - mean_squared_error: 3.3463e-04 - val_loss: 5.3107e-04 - val_mean_squared_error: 3.3204e-04\n",
      "Epoch 23/25\n",
      "17000/17000 - 1s - loss: 5.3256e-04 - mean_squared_error: 3.3698e-04 - val_loss: 6.0999e-04 - val_mean_squared_error: 4.1780e-04\n",
      "Epoch 24/25\n",
      "17000/17000 - 1s - loss: 5.3531e-04 - mean_squared_error: 3.4630e-04 - val_loss: 5.3969e-04 - val_mean_squared_error: 3.5412e-04\n",
      "Epoch 25/25\n",
      "17000/17000 - 1s - loss: 5.2063e-04 - mean_squared_error: 3.3795e-04 - val_loss: 4.8356e-04 - val_mean_squared_error: 3.0371e-04\n"
     ]
    },
    {
     "data": {
      "text/html": [
       "<span style=\"color:#4527A0\"><h1 style=\"font-size:18px\">Trial complete</h1></span>"
      ],
      "text/plain": [
       "<IPython.core.display.HTML object>"
      ]
     },
     "metadata": {},
     "output_type": "display_data"
    },
    {
     "data": {
      "text/html": [
       "<span style=\"color:#4527A0\"><h1 style=\"font-size:18px\">Trial summary</h1></span>"
      ],
      "text/plain": [
       "<IPython.core.display.HTML object>"
      ]
     },
     "metadata": {},
     "output_type": "display_data"
    },
    {
     "data": {
      "text/html": [
       "<span style=\"color:cyan\"> |-Trial ID: f0a078dfadadb47195e5185cf23d5626</span>"
      ],
      "text/plain": [
       "<IPython.core.display.HTML object>"
      ]
     },
     "metadata": {},
     "output_type": "display_data"
    },
    {
     "data": {
      "text/html": [
       "<span style=\"color:cyan\"> |-Score: 0.0003346300800330937</span>"
      ],
      "text/plain": [
       "<IPython.core.display.HTML object>"
      ]
     },
     "metadata": {},
     "output_type": "display_data"
    },
    {
     "data": {
      "text/html": [
       "<span style=\"color:cyan\"> |-Best step: 0</span>"
      ],
      "text/plain": [
       "<IPython.core.display.HTML object>"
      ]
     },
     "metadata": {},
     "output_type": "display_data"
    },
    {
     "data": {
      "text/html": [
       "<span style=\"color:#7E57C2\"><h2 style=\"font-size:16px\">Hyperparameters:</h2></span>"
      ],
      "text/plain": [
       "<IPython.core.display.HTML object>"
      ]
     },
     "metadata": {},
     "output_type": "display_data"
    },
    {
     "data": {
      "text/html": [
       "<span style=\"color:cyan\"> |-hidden_0_units: 204</span>"
      ],
      "text/plain": [
       "<IPython.core.display.HTML object>"
      ]
     },
     "metadata": {},
     "output_type": "display_data"
    },
    {
     "data": {
      "text/html": [
       "<span style=\"color:blue\"> |-hidden_1_units: 181</span>"
      ],
      "text/plain": [
       "<IPython.core.display.HTML object>"
      ]
     },
     "metadata": {},
     "output_type": "display_data"
    },
    {
     "data": {
      "text/html": [
       "<span style=\"color:cyan\"> |-kernel_regularizer: 1e-06</span>"
      ],
      "text/plain": [
       "<IPython.core.display.HTML object>"
      ]
     },
     "metadata": {},
     "output_type": "display_data"
    },
    {
     "data": {
      "text/html": [
       "<span style=\"color:blue\"> |-learning_rate: 0.001</span>"
      ],
      "text/plain": [
       "<IPython.core.display.HTML object>"
      ]
     },
     "metadata": {},
     "output_type": "display_data"
    },
    {
     "data": {
      "text/html": [
       "<span style=\"color:cyan\"> |-n_layers: 1</span>"
      ],
      "text/plain": [
       "<IPython.core.display.HTML object>"
      ]
     },
     "metadata": {},
     "output_type": "display_data"
    },
    {
     "data": {
      "text/html": [
       "<span style=\"color:blue\"> |-tuner/bracket: 2</span>"
      ],
      "text/plain": [
       "<IPython.core.display.HTML object>"
      ]
     },
     "metadata": {},
     "output_type": "display_data"
    },
    {
     "data": {
      "text/html": [
       "<span style=\"color:cyan\"> |-tuner/epochs: 25</span>"
      ],
      "text/plain": [
       "<IPython.core.display.HTML object>"
      ]
     },
     "metadata": {},
     "output_type": "display_data"
    },
    {
     "data": {
      "text/html": [
       "<span style=\"color:blue\"> |-tuner/initial_epoch: 9</span>"
      ],
      "text/plain": [
       "<IPython.core.display.HTML object>"
      ]
     },
     "metadata": {},
     "output_type": "display_data"
    },
    {
     "data": {
      "text/html": [
       "<span style=\"color:cyan\"> |-tuner/round: 2</span>"
      ],
      "text/plain": [
       "<IPython.core.display.HTML object>"
      ]
     },
     "metadata": {},
     "output_type": "display_data"
    },
    {
     "data": {
      "text/html": [
       "<span style=\"color:blue\"> |-tuner/trial_id: 028dfdac639916d2fd0a11a5dcf12739</span>"
      ],
      "text/plain": [
       "<IPython.core.display.HTML object>"
      ]
     },
     "metadata": {},
     "output_type": "display_data"
    },
    {
     "name": "stdout",
     "output_type": "stream",
     "text": [
      "Train on 17000 samples, validate on 3000 samples\n",
      "Epoch 10/25\n",
      "17000/17000 - 2s - loss: 0.0347 - mean_squared_error: 0.0334 - val_loss: 0.0034 - val_mean_squared_error: 0.0016\n",
      "Epoch 11/25\n",
      "17000/17000 - 2s - loss: 0.0028 - mean_squared_error: 9.5239e-04 - val_loss: 0.0025 - val_mean_squared_error: 6.6519e-04\n",
      "Epoch 12/25\n",
      "17000/17000 - 2s - loss: 0.0024 - mean_squared_error: 5.7437e-04 - val_loss: 0.0022 - val_mean_squared_error: 4.9290e-04\n",
      "Epoch 13/25\n",
      "17000/17000 - 2s - loss: 0.0021 - mean_squared_error: 5.0853e-04 - val_loss: 0.0020 - val_mean_squared_error: 4.6773e-04\n",
      "Epoch 14/25\n",
      "17000/17000 - 2s - loss: 0.0019 - mean_squared_error: 4.7957e-04 - val_loss: 0.0018 - val_mean_squared_error: 4.6338e-04\n",
      "Epoch 15/25\n",
      "17000/17000 - 2s - loss: 0.0017 - mean_squared_error: 4.8194e-04 - val_loss: 0.0016 - val_mean_squared_error: 4.2754e-04\n",
      "Epoch 16/25\n",
      "17000/17000 - 2s - loss: 0.0015 - mean_squared_error: 4.5303e-04 - val_loss: 0.0014 - val_mean_squared_error: 4.1604e-04\n",
      "Epoch 17/25\n",
      "17000/17000 - 2s - loss: 0.0014 - mean_squared_error: 4.3865e-04 - val_loss: 0.0013 - val_mean_squared_error: 3.9936e-04\n",
      "Epoch 18/25\n",
      "17000/17000 - 2s - loss: 0.0012 - mean_squared_error: 4.2498e-04 - val_loss: 0.0012 - val_mean_squared_error: 4.1370e-04\n",
      "Epoch 19/25\n",
      "17000/17000 - 2s - loss: 0.0011 - mean_squared_error: 4.1943e-04 - val_loss: 0.0013 - val_mean_squared_error: 5.8161e-04\n",
      "Epoch 20/25\n",
      "17000/17000 - 2s - loss: 0.0010 - mean_squared_error: 4.1137e-04 - val_loss: 0.0011 - val_mean_squared_error: 4.8441e-04\n",
      "Epoch 21/25\n",
      "17000/17000 - 2s - loss: 9.9825e-04 - mean_squared_error: 4.2759e-04 - val_loss: 9.1887e-04 - val_mean_squared_error: 3.7618e-04\n",
      "Epoch 22/25\n",
      "17000/17000 - 2s - loss: 9.1373e-04 - mean_squared_error: 3.9535e-04 - val_loss: 8.7216e-04 - val_mean_squared_error: 3.7648e-04\n",
      "Epoch 23/25\n",
      "17000/17000 - 2s - loss: 8.6417e-04 - mean_squared_error: 3.9114e-04 - val_loss: 8.0346e-04 - val_mean_squared_error: 3.5198e-04\n",
      "Epoch 24/25\n",
      "17000/17000 - 2s - loss: 8.2156e-04 - mean_squared_error: 3.8849e-04 - val_loss: 7.8827e-04 - val_mean_squared_error: 3.7227e-04\n",
      "Epoch 25/25\n",
      "17000/17000 - 2s - loss: 7.9099e-04 - mean_squared_error: 3.9053e-04 - val_loss: 7.9480e-04 - val_mean_squared_error: 4.0930e-04\n"
     ]
    },
    {
     "data": {
      "text/html": [
       "<span style=\"color:#4527A0\"><h1 style=\"font-size:18px\">Trial complete</h1></span>"
      ],
      "text/plain": [
       "<IPython.core.display.HTML object>"
      ]
     },
     "metadata": {},
     "output_type": "display_data"
    },
    {
     "data": {
      "text/html": [
       "<span style=\"color:#4527A0\"><h1 style=\"font-size:18px\">Trial summary</h1></span>"
      ],
      "text/plain": [
       "<IPython.core.display.HTML object>"
      ]
     },
     "metadata": {},
     "output_type": "display_data"
    },
    {
     "data": {
      "text/html": [
       "<span style=\"color:cyan\"> |-Trial ID: cc69e7033dfc32345405729e0a3031f4</span>"
      ],
      "text/plain": [
       "<IPython.core.display.HTML object>"
      ]
     },
     "metadata": {},
     "output_type": "display_data"
    },
    {
     "data": {
      "text/html": [
       "<span style=\"color:cyan\"> |-Score: 0.0003884862526319921</span>"
      ],
      "text/plain": [
       "<IPython.core.display.HTML object>"
      ]
     },
     "metadata": {},
     "output_type": "display_data"
    },
    {
     "data": {
      "text/html": [
       "<span style=\"color:cyan\"> |-Best step: 0</span>"
      ],
      "text/plain": [
       "<IPython.core.display.HTML object>"
      ]
     },
     "metadata": {},
     "output_type": "display_data"
    },
    {
     "data": {
      "text/html": [
       "<span style=\"color:#7E57C2\"><h2 style=\"font-size:16px\">Hyperparameters:</h2></span>"
      ],
      "text/plain": [
       "<IPython.core.display.HTML object>"
      ]
     },
     "metadata": {},
     "output_type": "display_data"
    },
    {
     "data": {
      "text/html": [
       "<span style=\"color:cyan\"> |-hidden_0_units: 295</span>"
      ],
      "text/plain": [
       "<IPython.core.display.HTML object>"
      ]
     },
     "metadata": {},
     "output_type": "display_data"
    },
    {
     "data": {
      "text/html": [
       "<span style=\"color:blue\"> |-hidden_1_units: 64</span>"
      ],
      "text/plain": [
       "<IPython.core.display.HTML object>"
      ]
     },
     "metadata": {},
     "output_type": "display_data"
    },
    {
     "data": {
      "text/html": [
       "<span style=\"color:cyan\"> |-kernel_regularizer: 1e-05</span>"
      ],
      "text/plain": [
       "<IPython.core.display.HTML object>"
      ]
     },
     "metadata": {},
     "output_type": "display_data"
    },
    {
     "data": {
      "text/html": [
       "<span style=\"color:blue\"> |-learning_rate: 0.001</span>"
      ],
      "text/plain": [
       "<IPython.core.display.HTML object>"
      ]
     },
     "metadata": {},
     "output_type": "display_data"
    },
    {
     "data": {
      "text/html": [
       "<span style=\"color:cyan\"> |-n_layers: 1</span>"
      ],
      "text/plain": [
       "<IPython.core.display.HTML object>"
      ]
     },
     "metadata": {},
     "output_type": "display_data"
    },
    {
     "data": {
      "text/html": [
       "<span style=\"color:blue\"> |-tuner/bracket: 2</span>"
      ],
      "text/plain": [
       "<IPython.core.display.HTML object>"
      ]
     },
     "metadata": {},
     "output_type": "display_data"
    },
    {
     "data": {
      "text/html": [
       "<span style=\"color:cyan\"> |-tuner/epochs: 25</span>"
      ],
      "text/plain": [
       "<IPython.core.display.HTML object>"
      ]
     },
     "metadata": {},
     "output_type": "display_data"
    },
    {
     "data": {
      "text/html": [
       "<span style=\"color:blue\"> |-tuner/initial_epoch: 9</span>"
      ],
      "text/plain": [
       "<IPython.core.display.HTML object>"
      ]
     },
     "metadata": {},
     "output_type": "display_data"
    },
    {
     "data": {
      "text/html": [
       "<span style=\"color:cyan\"> |-tuner/round: 2</span>"
      ],
      "text/plain": [
       "<IPython.core.display.HTML object>"
      ]
     },
     "metadata": {},
     "output_type": "display_data"
    },
    {
     "data": {
      "text/html": [
       "<span style=\"color:blue\"> |-tuner/trial_id: f4bc5679ef5df1f47033c280c43460f9</span>"
      ],
      "text/plain": [
       "<IPython.core.display.HTML object>"
      ]
     },
     "metadata": {},
     "output_type": "display_data"
    },
    {
     "name": "stdout",
     "output_type": "stream",
     "text": [
      "Train on 17000 samples, validate on 3000 samples\n",
      "Epoch 1/9\n",
      "17000/17000 - 3s - loss: 0.0056 - mean_squared_error: 0.0052 - val_loss: 0.0015 - val_mean_squared_error: 0.0011\n",
      "Epoch 2/9\n",
      "17000/17000 - 2s - loss: 0.0614 - mean_squared_error: 0.0602 - val_loss: 0.1893 - val_mean_squared_error: 0.1854\n",
      "Epoch 3/9\n",
      "17000/17000 - 2s - loss: 0.2214 - mean_squared_error: 0.2159 - val_loss: 0.2269 - val_mean_squared_error: 0.2203\n",
      "Epoch 4/9\n",
      "17000/17000 - 2s - loss: 0.2130 - mean_squared_error: 0.2057 - val_loss: 0.2243 - val_mean_squared_error: 0.2163\n",
      "Epoch 5/9\n",
      "17000/17000 - 2s - loss: 0.2187 - mean_squared_error: 0.2100 - val_loss: 0.2078 - val_mean_squared_error: 0.1984\n",
      "Epoch 6/9\n",
      "17000/17000 - 2s - loss: 0.2207 - mean_squared_error: 0.2109 - val_loss: 0.2165 - val_mean_squared_error: 0.2061\n"
     ]
    },
    {
     "data": {
      "text/html": [
       "<span style=\"color:#4527A0\"><h1 style=\"font-size:18px\">Trial complete</h1></span>"
      ],
      "text/plain": [
       "<IPython.core.display.HTML object>"
      ]
     },
     "metadata": {},
     "output_type": "display_data"
    },
    {
     "data": {
      "text/html": [
       "<span style=\"color:#4527A0\"><h1 style=\"font-size:18px\">Trial summary</h1></span>"
      ],
      "text/plain": [
       "<IPython.core.display.HTML object>"
      ]
     },
     "metadata": {},
     "output_type": "display_data"
    },
    {
     "data": {
      "text/html": [
       "<span style=\"color:cyan\"> |-Trial ID: c3c07bff8fb2dcc18797e11dcd773368</span>"
      ],
      "text/plain": [
       "<IPython.core.display.HTML object>"
      ]
     },
     "metadata": {},
     "output_type": "display_data"
    },
    {
     "data": {
      "text/html": [
       "<span style=\"color:cyan\"> |-Score: 0.005201159510761499</span>"
      ],
      "text/plain": [
       "<IPython.core.display.HTML object>"
      ]
     },
     "metadata": {},
     "output_type": "display_data"
    },
    {
     "data": {
      "text/html": [
       "<span style=\"color:cyan\"> |-Best step: 0</span>"
      ],
      "text/plain": [
       "<IPython.core.display.HTML object>"
      ]
     },
     "metadata": {},
     "output_type": "display_data"
    },
    {
     "data": {
      "text/html": [
       "<span style=\"color:#7E57C2\"><h2 style=\"font-size:16px\">Hyperparameters:</h2></span>"
      ],
      "text/plain": [
       "<IPython.core.display.HTML object>"
      ]
     },
     "metadata": {},
     "output_type": "display_data"
    },
    {
     "data": {
      "text/html": [
       "<span style=\"color:cyan\"> |-hidden_0_units: 164</span>"
      ],
      "text/plain": [
       "<IPython.core.display.HTML object>"
      ]
     },
     "metadata": {},
     "output_type": "display_data"
    },
    {
     "data": {
      "text/html": [
       "<span style=\"color:blue\"> |-hidden_1_units: 194</span>"
      ],
      "text/plain": [
       "<IPython.core.display.HTML object>"
      ]
     },
     "metadata": {},
     "output_type": "display_data"
    },
    {
     "data": {
      "text/html": [
       "<span style=\"color:cyan\"> |-kernel_regularizer: 1e-06</span>"
      ],
      "text/plain": [
       "<IPython.core.display.HTML object>"
      ]
     },
     "metadata": {},
     "output_type": "display_data"
    },
    {
     "data": {
      "text/html": [
       "<span style=\"color:blue\"> |-learning_rate: 0.01</span>"
      ],
      "text/plain": [
       "<IPython.core.display.HTML object>"
      ]
     },
     "metadata": {},
     "output_type": "display_data"
    },
    {
     "data": {
      "text/html": [
       "<span style=\"color:cyan\"> |-n_layers: 2</span>"
      ],
      "text/plain": [
       "<IPython.core.display.HTML object>"
      ]
     },
     "metadata": {},
     "output_type": "display_data"
    },
    {
     "data": {
      "text/html": [
       "<span style=\"color:blue\"> |-tuner/bracket: 1</span>"
      ],
      "text/plain": [
       "<IPython.core.display.HTML object>"
      ]
     },
     "metadata": {},
     "output_type": "display_data"
    },
    {
     "data": {
      "text/html": [
       "<span style=\"color:cyan\"> |-tuner/epochs: 9</span>"
      ],
      "text/plain": [
       "<IPython.core.display.HTML object>"
      ]
     },
     "metadata": {},
     "output_type": "display_data"
    },
    {
     "data": {
      "text/html": [
       "<span style=\"color:blue\"> |-tuner/initial_epoch: 0</span>"
      ],
      "text/plain": [
       "<IPython.core.display.HTML object>"
      ]
     },
     "metadata": {},
     "output_type": "display_data"
    },
    {
     "data": {
      "text/html": [
       "<span style=\"color:cyan\"> |-tuner/round: 0</span>"
      ],
      "text/plain": [
       "<IPython.core.display.HTML object>"
      ]
     },
     "metadata": {},
     "output_type": "display_data"
    },
    {
     "name": "stdout",
     "output_type": "stream",
     "text": [
      "Train on 17000 samples, validate on 3000 samples\n",
      "Epoch 1/9\n",
      "17000/17000 - 2s - loss: 0.0502 - mean_squared_error: 0.0400 - val_loss: 0.0155 - val_mean_squared_error: 0.0039\n",
      "Epoch 2/9\n",
      "17000/17000 - 2s - loss: 0.0127 - mean_squared_error: 0.0029 - val_loss: 0.0104 - val_mean_squared_error: 0.0024\n",
      "Epoch 3/9\n",
      "17000/17000 - 2s - loss: 0.0090 - mean_squared_error: 0.0022 - val_loss: 0.0078 - val_mean_squared_error: 0.0019\n",
      "Epoch 4/9\n",
      "17000/17000 - 2s - loss: 0.0070 - mean_squared_error: 0.0017 - val_loss: 0.0064 - val_mean_squared_error: 0.0017\n",
      "Epoch 5/9\n",
      "17000/17000 - 2s - loss: 0.0057 - mean_squared_error: 0.0014 - val_loss: 0.0052 - val_mean_squared_error: 0.0013\n",
      "Epoch 6/9\n",
      "17000/17000 - 1s - loss: 0.0048 - mean_squared_error: 0.0012 - val_loss: 0.0044 - val_mean_squared_error: 0.0011\n",
      "Epoch 7/9\n",
      "17000/17000 - 2s - loss: 0.0041 - mean_squared_error: 0.0010 - val_loss: 0.0038 - val_mean_squared_error: 9.3096e-04\n",
      "Epoch 8/9\n",
      "17000/17000 - 2s - loss: 0.0036 - mean_squared_error: 9.2503e-04 - val_loss: 0.0033 - val_mean_squared_error: 8.3819e-04\n",
      "Epoch 9/9\n",
      "17000/17000 - 2s - loss: 0.0031 - mean_squared_error: 8.3383e-04 - val_loss: 0.0029 - val_mean_squared_error: 7.6783e-04\n"
     ]
    },
    {
     "data": {
      "text/html": [
       "<span style=\"color:#4527A0\"><h1 style=\"font-size:18px\">Trial complete</h1></span>"
      ],
      "text/plain": [
       "<IPython.core.display.HTML object>"
      ]
     },
     "metadata": {},
     "output_type": "display_data"
    },
    {
     "data": {
      "text/html": [
       "<span style=\"color:#4527A0\"><h1 style=\"font-size:18px\">Trial summary</h1></span>"
      ],
      "text/plain": [
       "<IPython.core.display.HTML object>"
      ]
     },
     "metadata": {},
     "output_type": "display_data"
    },
    {
     "data": {
      "text/html": [
       "<span style=\"color:cyan\"> |-Trial ID: 508be4150158ed6f75be2000d1c09cde</span>"
      ],
      "text/plain": [
       "<IPython.core.display.HTML object>"
      ]
     },
     "metadata": {},
     "output_type": "display_data"
    },
    {
     "data": {
      "text/html": [
       "<span style=\"color:cyan\"> |-Score: 0.0008338254410773516</span>"
      ],
      "text/plain": [
       "<IPython.core.display.HTML object>"
      ]
     },
     "metadata": {},
     "output_type": "display_data"
    },
    {
     "data": {
      "text/html": [
       "<span style=\"color:cyan\"> |-Best step: 0</span>"
      ],
      "text/plain": [
       "<IPython.core.display.HTML object>"
      ]
     },
     "metadata": {},
     "output_type": "display_data"
    },
    {
     "data": {
      "text/html": [
       "<span style=\"color:#7E57C2\"><h2 style=\"font-size:16px\">Hyperparameters:</h2></span>"
      ],
      "text/plain": [
       "<IPython.core.display.HTML object>"
      ]
     },
     "metadata": {},
     "output_type": "display_data"
    },
    {
     "data": {
      "text/html": [
       "<span style=\"color:cyan\"> |-hidden_0_units: 236</span>"
      ],
      "text/plain": [
       "<IPython.core.display.HTML object>"
      ]
     },
     "metadata": {},
     "output_type": "display_data"
    },
    {
     "data": {
      "text/html": [
       "<span style=\"color:blue\"> |-hidden_1_units: 154</span>"
      ],
      "text/plain": [
       "<IPython.core.display.HTML object>"
      ]
     },
     "metadata": {},
     "output_type": "display_data"
    },
    {
     "data": {
      "text/html": [
       "<span style=\"color:cyan\"> |-kernel_regularizer: 0.0001</span>"
      ],
      "text/plain": [
       "<IPython.core.display.HTML object>"
      ]
     },
     "metadata": {},
     "output_type": "display_data"
    },
    {
     "data": {
      "text/html": [
       "<span style=\"color:blue\"> |-learning_rate: 0.001</span>"
      ],
      "text/plain": [
       "<IPython.core.display.HTML object>"
      ]
     },
     "metadata": {},
     "output_type": "display_data"
    },
    {
     "data": {
      "text/html": [
       "<span style=\"color:cyan\"> |-n_layers: 1</span>"
      ],
      "text/plain": [
       "<IPython.core.display.HTML object>"
      ]
     },
     "metadata": {},
     "output_type": "display_data"
    },
    {
     "data": {
      "text/html": [
       "<span style=\"color:blue\"> |-tuner/bracket: 1</span>"
      ],
      "text/plain": [
       "<IPython.core.display.HTML object>"
      ]
     },
     "metadata": {},
     "output_type": "display_data"
    },
    {
     "data": {
      "text/html": [
       "<span style=\"color:cyan\"> |-tuner/epochs: 9</span>"
      ],
      "text/plain": [
       "<IPython.core.display.HTML object>"
      ]
     },
     "metadata": {},
     "output_type": "display_data"
    },
    {
     "data": {
      "text/html": [
       "<span style=\"color:blue\"> |-tuner/initial_epoch: 0</span>"
      ],
      "text/plain": [
       "<IPython.core.display.HTML object>"
      ]
     },
     "metadata": {},
     "output_type": "display_data"
    },
    {
     "data": {
      "text/html": [
       "<span style=\"color:cyan\"> |-tuner/round: 0</span>"
      ],
      "text/plain": [
       "<IPython.core.display.HTML object>"
      ]
     },
     "metadata": {},
     "output_type": "display_data"
    },
    {
     "name": "stdout",
     "output_type": "stream",
     "text": [
      "Train on 17000 samples, validate on 3000 samples\n",
      "Epoch 1/9\n",
      "17000/17000 - 3s - loss: 0.1459 - mean_squared_error: 0.1156 - val_loss: 0.0860 - val_mean_squared_error: 0.0549\n",
      "Epoch 2/9\n",
      "17000/17000 - 2s - loss: 0.0625 - mean_squared_error: 0.0307 - val_loss: 0.0473 - val_mean_squared_error: 0.0151\n",
      "Epoch 3/9\n",
      "17000/17000 - 2s - loss: 0.0409 - mean_squared_error: 0.0092 - val_loss: 0.0364 - val_mean_squared_error: 0.0057\n",
      "Epoch 4/9\n",
      "17000/17000 - 2s - loss: 0.0335 - mean_squared_error: 0.0044 - val_loss: 0.0309 - val_mean_squared_error: 0.0036\n",
      "Epoch 5/9\n",
      "17000/17000 - 2s - loss: 0.0286 - mean_squared_error: 0.0033 - val_loss: 0.0265 - val_mean_squared_error: 0.0030\n",
      "Epoch 6/9\n",
      "17000/17000 - 2s - loss: 0.0246 - mean_squared_error: 0.0029 - val_loss: 0.0229 - val_mean_squared_error: 0.0028\n",
      "Epoch 7/9\n",
      "17000/17000 - 2s - loss: 0.0215 - mean_squared_error: 0.0027 - val_loss: 0.0201 - val_mean_squared_error: 0.0026\n",
      "Epoch 8/9\n",
      "17000/17000 - 2s - loss: 0.0191 - mean_squared_error: 0.0025 - val_loss: 0.0181 - val_mean_squared_error: 0.0024\n",
      "Epoch 9/9\n",
      "17000/17000 - 2s - loss: 0.0173 - mean_squared_error: 0.0023 - val_loss: 0.0165 - val_mean_squared_error: 0.0022\n"
     ]
    },
    {
     "data": {
      "text/html": [
       "<span style=\"color:#4527A0\"><h1 style=\"font-size:18px\">Trial complete</h1></span>"
      ],
      "text/plain": [
       "<IPython.core.display.HTML object>"
      ]
     },
     "metadata": {},
     "output_type": "display_data"
    },
    {
     "data": {
      "text/html": [
       "<span style=\"color:#4527A0\"><h1 style=\"font-size:18px\">Trial summary</h1></span>"
      ],
      "text/plain": [
       "<IPython.core.display.HTML object>"
      ]
     },
     "metadata": {},
     "output_type": "display_data"
    },
    {
     "data": {
      "text/html": [
       "<span style=\"color:cyan\"> |-Trial ID: 9fffdcd634b2e1c601507c85a7bb202c</span>"
      ],
      "text/plain": [
       "<IPython.core.display.HTML object>"
      ]
     },
     "metadata": {},
     "output_type": "display_data"
    },
    {
     "data": {
      "text/html": [
       "<span style=\"color:cyan\"> |-Score: 0.0023297560401260853</span>"
      ],
      "text/plain": [
       "<IPython.core.display.HTML object>"
      ]
     },
     "metadata": {},
     "output_type": "display_data"
    },
    {
     "data": {
      "text/html": [
       "<span style=\"color:cyan\"> |-Best step: 0</span>"
      ],
      "text/plain": [
       "<IPython.core.display.HTML object>"
      ]
     },
     "metadata": {},
     "output_type": "display_data"
    },
    {
     "data": {
      "text/html": [
       "<span style=\"color:#7E57C2\"><h2 style=\"font-size:16px\">Hyperparameters:</h2></span>"
      ],
      "text/plain": [
       "<IPython.core.display.HTML object>"
      ]
     },
     "metadata": {},
     "output_type": "display_data"
    },
    {
     "data": {
      "text/html": [
       "<span style=\"color:cyan\"> |-hidden_0_units: 222</span>"
      ],
      "text/plain": [
       "<IPython.core.display.HTML object>"
      ]
     },
     "metadata": {},
     "output_type": "display_data"
    },
    {
     "data": {
      "text/html": [
       "<span style=\"color:blue\"> |-hidden_1_units: 254</span>"
      ],
      "text/plain": [
       "<IPython.core.display.HTML object>"
      ]
     },
     "metadata": {},
     "output_type": "display_data"
    },
    {
     "data": {
      "text/html": [
       "<span style=\"color:cyan\"> |-kernel_regularizer: 0.0001</span>"
      ],
      "text/plain": [
       "<IPython.core.display.HTML object>"
      ]
     },
     "metadata": {},
     "output_type": "display_data"
    },
    {
     "data": {
      "text/html": [
       "<span style=\"color:blue\"> |-learning_rate: 0.0001</span>"
      ],
      "text/plain": [
       "<IPython.core.display.HTML object>"
      ]
     },
     "metadata": {},
     "output_type": "display_data"
    },
    {
     "data": {
      "text/html": [
       "<span style=\"color:cyan\"> |-n_layers: 2</span>"
      ],
      "text/plain": [
       "<IPython.core.display.HTML object>"
      ]
     },
     "metadata": {},
     "output_type": "display_data"
    },
    {
     "data": {
      "text/html": [
       "<span style=\"color:blue\"> |-tuner/bracket: 1</span>"
      ],
      "text/plain": [
       "<IPython.core.display.HTML object>"
      ]
     },
     "metadata": {},
     "output_type": "display_data"
    },
    {
     "data": {
      "text/html": [
       "<span style=\"color:cyan\"> |-tuner/epochs: 9</span>"
      ],
      "text/plain": [
       "<IPython.core.display.HTML object>"
      ]
     },
     "metadata": {},
     "output_type": "display_data"
    },
    {
     "data": {
      "text/html": [
       "<span style=\"color:blue\"> |-tuner/initial_epoch: 0</span>"
      ],
      "text/plain": [
       "<IPython.core.display.HTML object>"
      ]
     },
     "metadata": {},
     "output_type": "display_data"
    },
    {
     "data": {
      "text/html": [
       "<span style=\"color:cyan\"> |-tuner/round: 0</span>"
      ],
      "text/plain": [
       "<IPython.core.display.HTML object>"
      ]
     },
     "metadata": {},
     "output_type": "display_data"
    },
    {
     "name": "stdout",
     "output_type": "stream",
     "text": [
      "Train on 17000 samples, validate on 3000 samples\n",
      "Epoch 1/9\n",
      "17000/17000 - 3s - loss: 0.1326 - mean_squared_error: 0.1301 - val_loss: 0.0757 - val_mean_squared_error: 0.0731\n",
      "Epoch 2/9\n",
      "17000/17000 - 2s - loss: 0.0474 - mean_squared_error: 0.0446 - val_loss: 0.0277 - val_mean_squared_error: 0.0247\n",
      "Epoch 3/9\n",
      "17000/17000 - 2s - loss: 0.0175 - mean_squared_error: 0.0144 - val_loss: 0.0110 - val_mean_squared_error: 0.0077\n",
      "Epoch 4/9\n",
      "17000/17000 - 2s - loss: 0.0082 - mean_squared_error: 0.0048 - val_loss: 0.0065 - val_mean_squared_error: 0.0029\n",
      "Epoch 5/9\n",
      "17000/17000 - 2s - loss: 0.0057 - mean_squared_error: 0.0021 - val_loss: 0.0051 - val_mean_squared_error: 0.0015\n",
      "Epoch 6/9\n",
      "17000/17000 - 2s - loss: 0.0048 - mean_squared_error: 0.0012 - val_loss: 0.0046 - val_mean_squared_error: 9.2251e-04\n",
      "Epoch 7/9\n",
      "17000/17000 - 2s - loss: 0.0045 - mean_squared_error: 8.0839e-04 - val_loss: 0.0044 - val_mean_squared_error: 6.9680e-04\n",
      "Epoch 8/9\n",
      "17000/17000 - 2s - loss: 0.0043 - mean_squared_error: 6.4613e-04 - val_loss: 0.0042 - val_mean_squared_error: 5.8257e-04\n",
      "Epoch 9/9\n",
      "17000/17000 - 2s - loss: 0.0041 - mean_squared_error: 5.6261e-04 - val_loss: 0.0040 - val_mean_squared_error: 5.1918e-04\n"
     ]
    },
    {
     "data": {
      "text/html": [
       "<span style=\"color:#4527A0\"><h1 style=\"font-size:18px\">Trial complete</h1></span>"
      ],
      "text/plain": [
       "<IPython.core.display.HTML object>"
      ]
     },
     "metadata": {},
     "output_type": "display_data"
    },
    {
     "data": {
      "text/html": [
       "<span style=\"color:#4527A0\"><h1 style=\"font-size:18px\">Trial summary</h1></span>"
      ],
      "text/plain": [
       "<IPython.core.display.HTML object>"
      ]
     },
     "metadata": {},
     "output_type": "display_data"
    },
    {
     "data": {
      "text/html": [
       "<span style=\"color:cyan\"> |-Trial ID: fafe9d44ef4b8915d31bb73c6f4b9c96</span>"
      ],
      "text/plain": [
       "<IPython.core.display.HTML object>"
      ]
     },
     "metadata": {},
     "output_type": "display_data"
    },
    {
     "data": {
      "text/html": [
       "<span style=\"color:cyan\"> |-Score: 0.0005626149941235781</span>"
      ],
      "text/plain": [
       "<IPython.core.display.HTML object>"
      ]
     },
     "metadata": {},
     "output_type": "display_data"
    },
    {
     "data": {
      "text/html": [
       "<span style=\"color:cyan\"> |-Best step: 0</span>"
      ],
      "text/plain": [
       "<IPython.core.display.HTML object>"
      ]
     },
     "metadata": {},
     "output_type": "display_data"
    },
    {
     "data": {
      "text/html": [
       "<span style=\"color:#7E57C2\"><h2 style=\"font-size:16px\">Hyperparameters:</h2></span>"
      ],
      "text/plain": [
       "<IPython.core.display.HTML object>"
      ]
     },
     "metadata": {},
     "output_type": "display_data"
    },
    {
     "data": {
      "text/html": [
       "<span style=\"color:cyan\"> |-hidden_0_units: 154</span>"
      ],
      "text/plain": [
       "<IPython.core.display.HTML object>"
      ]
     },
     "metadata": {},
     "output_type": "display_data"
    },
    {
     "data": {
      "text/html": [
       "<span style=\"color:blue\"> |-hidden_1_units: 185</span>"
      ],
      "text/plain": [
       "<IPython.core.display.HTML object>"
      ]
     },
     "metadata": {},
     "output_type": "display_data"
    },
    {
     "data": {
      "text/html": [
       "<span style=\"color:cyan\"> |-kernel_regularizer: 1e-05</span>"
      ],
      "text/plain": [
       "<IPython.core.display.HTML object>"
      ]
     },
     "metadata": {},
     "output_type": "display_data"
    },
    {
     "data": {
      "text/html": [
       "<span style=\"color:blue\"> |-learning_rate: 0.0001</span>"
      ],
      "text/plain": [
       "<IPython.core.display.HTML object>"
      ]
     },
     "metadata": {},
     "output_type": "display_data"
    },
    {
     "data": {
      "text/html": [
       "<span style=\"color:cyan\"> |-n_layers: 2</span>"
      ],
      "text/plain": [
       "<IPython.core.display.HTML object>"
      ]
     },
     "metadata": {},
     "output_type": "display_data"
    },
    {
     "data": {
      "text/html": [
       "<span style=\"color:blue\"> |-tuner/bracket: 1</span>"
      ],
      "text/plain": [
       "<IPython.core.display.HTML object>"
      ]
     },
     "metadata": {},
     "output_type": "display_data"
    },
    {
     "data": {
      "text/html": [
       "<span style=\"color:cyan\"> |-tuner/epochs: 9</span>"
      ],
      "text/plain": [
       "<IPython.core.display.HTML object>"
      ]
     },
     "metadata": {},
     "output_type": "display_data"
    },
    {
     "data": {
      "text/html": [
       "<span style=\"color:blue\"> |-tuner/initial_epoch: 0</span>"
      ],
      "text/plain": [
       "<IPython.core.display.HTML object>"
      ]
     },
     "metadata": {},
     "output_type": "display_data"
    },
    {
     "data": {
      "text/html": [
       "<span style=\"color:cyan\"> |-tuner/round: 0</span>"
      ],
      "text/plain": [
       "<IPython.core.display.HTML object>"
      ]
     },
     "metadata": {},
     "output_type": "display_data"
    },
    {
     "name": "stdout",
     "output_type": "stream",
     "text": [
      "Train on 17000 samples, validate on 3000 samples\n",
      "Epoch 1/9\n",
      "17000/17000 - 2s - loss: 0.1741 - mean_squared_error: 0.1735 - val_loss: 0.1480 - val_mean_squared_error: 0.1474\n",
      "Epoch 2/9\n",
      "17000/17000 - 1s - loss: 0.1241 - mean_squared_error: 0.1235 - val_loss: 0.1017 - val_mean_squared_error: 0.1010\n",
      "Epoch 3/9\n",
      "17000/17000 - 1s - loss: 0.0833 - mean_squared_error: 0.0825 - val_loss: 0.0680 - val_mean_squared_error: 0.0672\n",
      "Epoch 4/9\n",
      "17000/17000 - 1s - loss: 0.0560 - mean_squared_error: 0.0551 - val_loss: 0.0459 - val_mean_squared_error: 0.0450\n",
      "Epoch 5/9\n",
      "17000/17000 - 1s - loss: 0.0375 - mean_squared_error: 0.0365 - val_loss: 0.0303 - val_mean_squared_error: 0.0293\n",
      "Epoch 6/9\n",
      "17000/17000 - 2s - loss: 0.0244 - mean_squared_error: 0.0233 - val_loss: 0.0195 - val_mean_squared_error: 0.0183\n",
      "Epoch 7/9\n",
      "17000/17000 - 2s - loss: 0.0157 - mean_squared_error: 0.0144 - val_loss: 0.0125 - val_mean_squared_error: 0.0112\n",
      "Epoch 8/9\n",
      "17000/17000 - 1s - loss: 0.0102 - mean_squared_error: 0.0088 - val_loss: 0.0083 - val_mean_squared_error: 0.0069\n",
      "Epoch 9/9\n",
      "17000/17000 - 2s - loss: 0.0070 - mean_squared_error: 0.0055 - val_loss: 0.0059 - val_mean_squared_error: 0.0044\n"
     ]
    },
    {
     "data": {
      "text/html": [
       "<span style=\"color:#4527A0\"><h1 style=\"font-size:18px\">Trial complete</h1></span>"
      ],
      "text/plain": [
       "<IPython.core.display.HTML object>"
      ]
     },
     "metadata": {},
     "output_type": "display_data"
    },
    {
     "data": {
      "text/html": [
       "<span style=\"color:#4527A0\"><h1 style=\"font-size:18px\">Trial summary</h1></span>"
      ],
      "text/plain": [
       "<IPython.core.display.HTML object>"
      ]
     },
     "metadata": {},
     "output_type": "display_data"
    },
    {
     "data": {
      "text/html": [
       "<span style=\"color:cyan\"> |-Trial ID: 8d151d7879b275e1583a68377fd4111e</span>"
      ],
      "text/plain": [
       "<IPython.core.display.HTML object>"
      ]
     },
     "metadata": {},
     "output_type": "display_data"
    },
    {
     "data": {
      "text/html": [
       "<span style=\"color:cyan\"> |-Score: 0.0055091665126383305</span>"
      ],
      "text/plain": [
       "<IPython.core.display.HTML object>"
      ]
     },
     "metadata": {},
     "output_type": "display_data"
    },
    {
     "data": {
      "text/html": [
       "<span style=\"color:cyan\"> |-Best step: 0</span>"
      ],
      "text/plain": [
       "<IPython.core.display.HTML object>"
      ]
     },
     "metadata": {},
     "output_type": "display_data"
    },
    {
     "data": {
      "text/html": [
       "<span style=\"color:#7E57C2\"><h2 style=\"font-size:16px\">Hyperparameters:</h2></span>"
      ],
      "text/plain": [
       "<IPython.core.display.HTML object>"
      ]
     },
     "metadata": {},
     "output_type": "display_data"
    },
    {
     "data": {
      "text/html": [
       "<span style=\"color:cyan\"> |-hidden_0_units: 122</span>"
      ],
      "text/plain": [
       "<IPython.core.display.HTML object>"
      ]
     },
     "metadata": {},
     "output_type": "display_data"
    },
    {
     "data": {
      "text/html": [
       "<span style=\"color:blue\"> |-hidden_1_units: 78</span>"
      ],
      "text/plain": [
       "<IPython.core.display.HTML object>"
      ]
     },
     "metadata": {},
     "output_type": "display_data"
    },
    {
     "data": {
      "text/html": [
       "<span style=\"color:cyan\"> |-kernel_regularizer: 1e-05</span>"
      ],
      "text/plain": [
       "<IPython.core.display.HTML object>"
      ]
     },
     "metadata": {},
     "output_type": "display_data"
    },
    {
     "data": {
      "text/html": [
       "<span style=\"color:blue\"> |-learning_rate: 0.0001</span>"
      ],
      "text/plain": [
       "<IPython.core.display.HTML object>"
      ]
     },
     "metadata": {},
     "output_type": "display_data"
    },
    {
     "data": {
      "text/html": [
       "<span style=\"color:cyan\"> |-n_layers: 1</span>"
      ],
      "text/plain": [
       "<IPython.core.display.HTML object>"
      ]
     },
     "metadata": {},
     "output_type": "display_data"
    },
    {
     "data": {
      "text/html": [
       "<span style=\"color:blue\"> |-tuner/bracket: 1</span>"
      ],
      "text/plain": [
       "<IPython.core.display.HTML object>"
      ]
     },
     "metadata": {},
     "output_type": "display_data"
    },
    {
     "data": {
      "text/html": [
       "<span style=\"color:cyan\"> |-tuner/epochs: 9</span>"
      ],
      "text/plain": [
       "<IPython.core.display.HTML object>"
      ]
     },
     "metadata": {},
     "output_type": "display_data"
    },
    {
     "data": {
      "text/html": [
       "<span style=\"color:blue\"> |-tuner/initial_epoch: 0</span>"
      ],
      "text/plain": [
       "<IPython.core.display.HTML object>"
      ]
     },
     "metadata": {},
     "output_type": "display_data"
    },
    {
     "data": {
      "text/html": [
       "<span style=\"color:cyan\"> |-tuner/round: 0</span>"
      ],
      "text/plain": [
       "<IPython.core.display.HTML object>"
      ]
     },
     "metadata": {},
     "output_type": "display_data"
    },
    {
     "name": "stdout",
     "output_type": "stream",
     "text": [
      "Train on 17000 samples, validate on 3000 samples\n",
      "Epoch 1/9\n",
      "17000/17000 - 3s - loss: 0.0217 - mean_squared_error: 0.0080 - val_loss: 0.0264 - val_mean_squared_error: 0.0149\n",
      "Epoch 2/9\n",
      "17000/17000 - 2s - loss: 0.0229 - mean_squared_error: 0.0092 - val_loss: 0.0088 - val_mean_squared_error: 0.0016\n",
      "Epoch 3/9\n",
      "17000/17000 - 2s - loss: 0.0098 - mean_squared_error: 0.0029 - val_loss: 0.0875 - val_mean_squared_error: 0.0733\n",
      "Epoch 4/9\n",
      "17000/17000 - 2s - loss: 0.1514 - mean_squared_error: 0.1048 - val_loss: 0.0360 - val_mean_squared_error: 0.0118\n",
      "Epoch 5/9\n",
      "17000/17000 - 2s - loss: 0.0133 - mean_squared_error: 0.0039 - val_loss: 0.0072 - val_mean_squared_error: 0.0015\n",
      "Epoch 6/9\n",
      "17000/17000 - 2s - loss: 0.0071 - mean_squared_error: 0.0016 - val_loss: 0.0074 - val_mean_squared_error: 0.0020\n",
      "Epoch 7/9\n",
      "17000/17000 - 2s - loss: 0.0073 - mean_squared_error: 0.0020 - val_loss: 0.0112 - val_mean_squared_error: 0.0055\n",
      "Epoch 8/9\n",
      "17000/17000 - 2s - loss: 0.1238 - mean_squared_error: 0.0735 - val_loss: 0.0381 - val_mean_squared_error: 0.0110\n",
      "Epoch 9/9\n",
      "17000/17000 - 2s - loss: 0.0164 - mean_squared_error: 0.0055 - val_loss: 0.0061 - val_mean_squared_error: 0.0010\n"
     ]
    },
    {
     "data": {
      "text/html": [
       "<span style=\"color:#4527A0\"><h1 style=\"font-size:18px\">Trial complete</h1></span>"
      ],
      "text/plain": [
       "<IPython.core.display.HTML object>"
      ]
     },
     "metadata": {},
     "output_type": "display_data"
    },
    {
     "data": {
      "text/html": [
       "<span style=\"color:#4527A0\"><h1 style=\"font-size:18px\">Trial summary</h1></span>"
      ],
      "text/plain": [
       "<IPython.core.display.HTML object>"
      ]
     },
     "metadata": {},
     "output_type": "display_data"
    },
    {
     "data": {
      "text/html": [
       "<span style=\"color:cyan\"> |-Trial ID: fa8e9859b80feddba6fe7dd1b17ee427</span>"
      ],
      "text/plain": [
       "<IPython.core.display.HTML object>"
      ]
     },
     "metadata": {},
     "output_type": "display_data"
    },
    {
     "data": {
      "text/html": [
       "<span style=\"color:cyan\"> |-Score: 0.0015540985623374581</span>"
      ],
      "text/plain": [
       "<IPython.core.display.HTML object>"
      ]
     },
     "metadata": {},
     "output_type": "display_data"
    },
    {
     "data": {
      "text/html": [
       "<span style=\"color:cyan\"> |-Best step: 0</span>"
      ],
      "text/plain": [
       "<IPython.core.display.HTML object>"
      ]
     },
     "metadata": {},
     "output_type": "display_data"
    },
    {
     "data": {
      "text/html": [
       "<span style=\"color:#7E57C2\"><h2 style=\"font-size:16px\">Hyperparameters:</h2></span>"
      ],
      "text/plain": [
       "<IPython.core.display.HTML object>"
      ]
     },
     "metadata": {},
     "output_type": "display_data"
    },
    {
     "data": {
      "text/html": [
       "<span style=\"color:cyan\"> |-hidden_0_units: 170</span>"
      ],
      "text/plain": [
       "<IPython.core.display.HTML object>"
      ]
     },
     "metadata": {},
     "output_type": "display_data"
    },
    {
     "data": {
      "text/html": [
       "<span style=\"color:blue\"> |-hidden_1_units: 113</span>"
      ],
      "text/plain": [
       "<IPython.core.display.HTML object>"
      ]
     },
     "metadata": {},
     "output_type": "display_data"
    },
    {
     "data": {
      "text/html": [
       "<span style=\"color:cyan\"> |-kernel_regularizer: 0.0001</span>"
      ],
      "text/plain": [
       "<IPython.core.display.HTML object>"
      ]
     },
     "metadata": {},
     "output_type": "display_data"
    },
    {
     "data": {
      "text/html": [
       "<span style=\"color:blue\"> |-learning_rate: 0.01</span>"
      ],
      "text/plain": [
       "<IPython.core.display.HTML object>"
      ]
     },
     "metadata": {},
     "output_type": "display_data"
    },
    {
     "data": {
      "text/html": [
       "<span style=\"color:cyan\"> |-n_layers: 2</span>"
      ],
      "text/plain": [
       "<IPython.core.display.HTML object>"
      ]
     },
     "metadata": {},
     "output_type": "display_data"
    },
    {
     "data": {
      "text/html": [
       "<span style=\"color:blue\"> |-tuner/bracket: 1</span>"
      ],
      "text/plain": [
       "<IPython.core.display.HTML object>"
      ]
     },
     "metadata": {},
     "output_type": "display_data"
    },
    {
     "data": {
      "text/html": [
       "<span style=\"color:cyan\"> |-tuner/epochs: 9</span>"
      ],
      "text/plain": [
       "<IPython.core.display.HTML object>"
      ]
     },
     "metadata": {},
     "output_type": "display_data"
    },
    {
     "data": {
      "text/html": [
       "<span style=\"color:blue\"> |-tuner/initial_epoch: 0</span>"
      ],
      "text/plain": [
       "<IPython.core.display.HTML object>"
      ]
     },
     "metadata": {},
     "output_type": "display_data"
    },
    {
     "data": {
      "text/html": [
       "<span style=\"color:cyan\"> |-tuner/round: 0</span>"
      ],
      "text/plain": [
       "<IPython.core.display.HTML object>"
      ]
     },
     "metadata": {},
     "output_type": "display_data"
    },
    {
     "name": "stdout",
     "output_type": "stream",
     "text": [
      "Train on 17000 samples, validate on 3000 samples\n",
      "Epoch 10/25\n",
      "17000/17000 - 3s - loss: 0.1340 - mean_squared_error: 0.1316 - val_loss: 0.0763 - val_mean_squared_error: 0.0738\n",
      "Epoch 11/25\n",
      "17000/17000 - 2s - loss: 0.0480 - mean_squared_error: 0.0452 - val_loss: 0.0278 - val_mean_squared_error: 0.0248\n",
      "Epoch 12/25\n",
      "17000/17000 - 2s - loss: 0.0176 - mean_squared_error: 0.0145 - val_loss: 0.0109 - val_mean_squared_error: 0.0076\n",
      "Epoch 13/25\n",
      "17000/17000 - 2s - loss: 0.0082 - mean_squared_error: 0.0048 - val_loss: 0.0064 - val_mean_squared_error: 0.0029\n",
      "Epoch 14/25\n",
      "17000/17000 - 2s - loss: 0.0056 - mean_squared_error: 0.0021 - val_loss: 0.0051 - val_mean_squared_error: 0.0015\n",
      "Epoch 15/25\n",
      "17000/17000 - 2s - loss: 0.0048 - mean_squared_error: 0.0012 - val_loss: 0.0046 - val_mean_squared_error: 9.2728e-04\n",
      "Epoch 16/25\n",
      "17000/17000 - 2s - loss: 0.0045 - mean_squared_error: 8.1298e-04 - val_loss: 0.0043 - val_mean_squared_error: 6.9258e-04\n",
      "Epoch 17/25\n",
      "17000/17000 - 2s - loss: 0.0043 - mean_squared_error: 6.4799e-04 - val_loss: 0.0042 - val_mean_squared_error: 5.7932e-04\n",
      "Epoch 18/25\n",
      "17000/17000 - 2s - loss: 0.0041 - mean_squared_error: 5.6006e-04 - val_loss: 0.0040 - val_mean_squared_error: 5.1591e-04\n",
      "Epoch 19/25\n",
      "17000/17000 - 2s - loss: 0.0039 - mean_squared_error: 5.1335e-04 - val_loss: 0.0039 - val_mean_squared_error: 4.9591e-04\n",
      "Epoch 20/25\n",
      "17000/17000 - 2s - loss: 0.0038 - mean_squared_error: 4.8728e-04 - val_loss: 0.0037 - val_mean_squared_error: 4.6402e-04\n",
      "Epoch 21/25\n",
      "17000/17000 - 2s - loss: 0.0036 - mean_squared_error: 4.7311e-04 - val_loss: 0.0035 - val_mean_squared_error: 4.5890e-04\n",
      "Epoch 22/25\n",
      "17000/17000 - 2s - loss: 0.0034 - mean_squared_error: 4.6148e-04 - val_loss: 0.0033 - val_mean_squared_error: 4.4857e-04\n",
      "Epoch 23/25\n",
      "17000/17000 - 2s - loss: 0.0032 - mean_squared_error: 4.5558e-04 - val_loss: 0.0031 - val_mean_squared_error: 4.3098e-04\n",
      "Epoch 24/25\n",
      "17000/17000 - 2s - loss: 0.0031 - mean_squared_error: 4.4502e-04 - val_loss: 0.0030 - val_mean_squared_error: 4.2189e-04\n",
      "Epoch 25/25\n",
      "17000/17000 - 2s - loss: 0.0029 - mean_squared_error: 4.3871e-04 - val_loss: 0.0028 - val_mean_squared_error: 4.2094e-04\n"
     ]
    },
    {
     "data": {
      "text/html": [
       "<span style=\"color:#4527A0\"><h1 style=\"font-size:18px\">Trial complete</h1></span>"
      ],
      "text/plain": [
       "<IPython.core.display.HTML object>"
      ]
     },
     "metadata": {},
     "output_type": "display_data"
    },
    {
     "data": {
      "text/html": [
       "<span style=\"color:#4527A0\"><h1 style=\"font-size:18px\">Trial summary</h1></span>"
      ],
      "text/plain": [
       "<IPython.core.display.HTML object>"
      ]
     },
     "metadata": {},
     "output_type": "display_data"
    },
    {
     "data": {
      "text/html": [
       "<span style=\"color:cyan\"> |-Trial ID: 870503f3537b7a1f968b43f4167aa935</span>"
      ],
      "text/plain": [
       "<IPython.core.display.HTML object>"
      ]
     },
     "metadata": {},
     "output_type": "display_data"
    },
    {
     "data": {
      "text/html": [
       "<span style=\"color:cyan\"> |-Score: 0.0004387058434076607</span>"
      ],
      "text/plain": [
       "<IPython.core.display.HTML object>"
      ]
     },
     "metadata": {},
     "output_type": "display_data"
    },
    {
     "data": {
      "text/html": [
       "<span style=\"color:cyan\"> |-Best step: 0</span>"
      ],
      "text/plain": [
       "<IPython.core.display.HTML object>"
      ]
     },
     "metadata": {},
     "output_type": "display_data"
    },
    {
     "data": {
      "text/html": [
       "<span style=\"color:#7E57C2\"><h2 style=\"font-size:16px\">Hyperparameters:</h2></span>"
      ],
      "text/plain": [
       "<IPython.core.display.HTML object>"
      ]
     },
     "metadata": {},
     "output_type": "display_data"
    },
    {
     "data": {
      "text/html": [
       "<span style=\"color:cyan\"> |-hidden_0_units: 154</span>"
      ],
      "text/plain": [
       "<IPython.core.display.HTML object>"
      ]
     },
     "metadata": {},
     "output_type": "display_data"
    },
    {
     "data": {
      "text/html": [
       "<span style=\"color:blue\"> |-hidden_1_units: 185</span>"
      ],
      "text/plain": [
       "<IPython.core.display.HTML object>"
      ]
     },
     "metadata": {},
     "output_type": "display_data"
    },
    {
     "data": {
      "text/html": [
       "<span style=\"color:cyan\"> |-kernel_regularizer: 1e-05</span>"
      ],
      "text/plain": [
       "<IPython.core.display.HTML object>"
      ]
     },
     "metadata": {},
     "output_type": "display_data"
    },
    {
     "data": {
      "text/html": [
       "<span style=\"color:blue\"> |-learning_rate: 0.0001</span>"
      ],
      "text/plain": [
       "<IPython.core.display.HTML object>"
      ]
     },
     "metadata": {},
     "output_type": "display_data"
    },
    {
     "data": {
      "text/html": [
       "<span style=\"color:cyan\"> |-n_layers: 2</span>"
      ],
      "text/plain": [
       "<IPython.core.display.HTML object>"
      ]
     },
     "metadata": {},
     "output_type": "display_data"
    },
    {
     "data": {
      "text/html": [
       "<span style=\"color:blue\"> |-tuner/bracket: 1</span>"
      ],
      "text/plain": [
       "<IPython.core.display.HTML object>"
      ]
     },
     "metadata": {},
     "output_type": "display_data"
    },
    {
     "data": {
      "text/html": [
       "<span style=\"color:cyan\"> |-tuner/epochs: 25</span>"
      ],
      "text/plain": [
       "<IPython.core.display.HTML object>"
      ]
     },
     "metadata": {},
     "output_type": "display_data"
    },
    {
     "data": {
      "text/html": [
       "<span style=\"color:blue\"> |-tuner/initial_epoch: 9</span>"
      ],
      "text/plain": [
       "<IPython.core.display.HTML object>"
      ]
     },
     "metadata": {},
     "output_type": "display_data"
    },
    {
     "data": {
      "text/html": [
       "<span style=\"color:cyan\"> |-tuner/round: 1</span>"
      ],
      "text/plain": [
       "<IPython.core.display.HTML object>"
      ]
     },
     "metadata": {},
     "output_type": "display_data"
    },
    {
     "data": {
      "text/html": [
       "<span style=\"color:blue\"> |-tuner/trial_id: fafe9d44ef4b8915d31bb73c6f4b9c96</span>"
      ],
      "text/plain": [
       "<IPython.core.display.HTML object>"
      ]
     },
     "metadata": {},
     "output_type": "display_data"
    },
    {
     "name": "stdout",
     "output_type": "stream",
     "text": [
      "Train on 17000 samples, validate on 3000 samples\n",
      "Epoch 10/25\n",
      "17000/17000 - 2s - loss: 0.0494 - mean_squared_error: 0.0391 - val_loss: 0.0153 - val_mean_squared_error: 0.0038\n",
      "Epoch 11/25\n",
      "17000/17000 - 1s - loss: 0.0125 - mean_squared_error: 0.0029 - val_loss: 0.0103 - val_mean_squared_error: 0.0024\n",
      "Epoch 12/25\n",
      "17000/17000 - 2s - loss: 0.0089 - mean_squared_error: 0.0021 - val_loss: 0.0077 - val_mean_squared_error: 0.0018\n",
      "Epoch 13/25\n",
      "17000/17000 - 2s - loss: 0.0069 - mean_squared_error: 0.0017 - val_loss: 0.0061 - val_mean_squared_error: 0.0015\n",
      "Epoch 14/25\n",
      "17000/17000 - 2s - loss: 0.0056 - mean_squared_error: 0.0014 - val_loss: 0.0051 - val_mean_squared_error: 0.0013\n",
      "Epoch 15/25\n",
      "17000/17000 - 2s - loss: 0.0047 - mean_squared_error: 0.0012 - val_loss: 0.0043 - val_mean_squared_error: 0.0011\n",
      "Epoch 16/25\n",
      "17000/17000 - 2s - loss: 0.0040 - mean_squared_error: 0.0010 - val_loss: 0.0037 - val_mean_squared_error: 9.4362e-04\n",
      "Epoch 17/25\n",
      "17000/17000 - 2s - loss: 0.0035 - mean_squared_error: 9.1519e-04 - val_loss: 0.0033 - val_mean_squared_error: 8.3476e-04\n",
      "Epoch 18/25\n",
      "17000/17000 - 1s - loss: 0.0031 - mean_squared_error: 8.1576e-04 - val_loss: 0.0029 - val_mean_squared_error: 7.8444e-04\n",
      "Epoch 19/25\n",
      "17000/17000 - 1s - loss: 0.0028 - mean_squared_error: 7.6370e-04 - val_loss: 0.0027 - val_mean_squared_error: 7.9418e-04\n",
      "Epoch 20/25\n",
      "17000/17000 - 1s - loss: 0.0025 - mean_squared_error: 6.9370e-04 - val_loss: 0.0023 - val_mean_squared_error: 6.7259e-04\n",
      "Epoch 21/25\n",
      "17000/17000 - 2s - loss: 0.0023 - mean_squared_error: 6.7164e-04 - val_loss: 0.0021 - val_mean_squared_error: 6.1252e-04\n",
      "Epoch 22/25\n",
      "17000/17000 - 2s - loss: 0.0021 - mean_squared_error: 6.2738e-04 - val_loss: 0.0020 - val_mean_squared_error: 6.0430e-04\n",
      "Epoch 23/25\n",
      "17000/17000 - 1s - loss: 0.0019 - mean_squared_error: 5.8022e-04 - val_loss: 0.0018 - val_mean_squared_error: 5.7951e-04\n",
      "Epoch 24/25\n",
      "17000/17000 - 1s - loss: 0.0017 - mean_squared_error: 5.7614e-04 - val_loss: 0.0017 - val_mean_squared_error: 6.1603e-04\n",
      "Epoch 25/25\n",
      "17000/17000 - 1s - loss: 0.0016 - mean_squared_error: 5.5600e-04 - val_loss: 0.0016 - val_mean_squared_error: 5.3899e-04\n"
     ]
    },
    {
     "data": {
      "text/html": [
       "<span style=\"color:#4527A0\"><h1 style=\"font-size:18px\">Trial complete</h1></span>"
      ],
      "text/plain": [
       "<IPython.core.display.HTML object>"
      ]
     },
     "metadata": {},
     "output_type": "display_data"
    },
    {
     "data": {
      "text/html": [
       "<span style=\"color:#4527A0\"><h1 style=\"font-size:18px\">Trial summary</h1></span>"
      ],
      "text/plain": [
       "<IPython.core.display.HTML object>"
      ]
     },
     "metadata": {},
     "output_type": "display_data"
    },
    {
     "data": {
      "text/html": [
       "<span style=\"color:cyan\"> |-Trial ID: 66942d989092b7e135d23500af6990d5</span>"
      ],
      "text/plain": [
       "<IPython.core.display.HTML object>"
      ]
     },
     "metadata": {},
     "output_type": "display_data"
    },
    {
     "data": {
      "text/html": [
       "<span style=\"color:cyan\"> |-Score: 0.0005559983546845615</span>"
      ],
      "text/plain": [
       "<IPython.core.display.HTML object>"
      ]
     },
     "metadata": {},
     "output_type": "display_data"
    },
    {
     "data": {
      "text/html": [
       "<span style=\"color:cyan\"> |-Best step: 0</span>"
      ],
      "text/plain": [
       "<IPython.core.display.HTML object>"
      ]
     },
     "metadata": {},
     "output_type": "display_data"
    },
    {
     "data": {
      "text/html": [
       "<span style=\"color:#7E57C2\"><h2 style=\"font-size:16px\">Hyperparameters:</h2></span>"
      ],
      "text/plain": [
       "<IPython.core.display.HTML object>"
      ]
     },
     "metadata": {},
     "output_type": "display_data"
    },
    {
     "data": {
      "text/html": [
       "<span style=\"color:cyan\"> |-hidden_0_units: 236</span>"
      ],
      "text/plain": [
       "<IPython.core.display.HTML object>"
      ]
     },
     "metadata": {},
     "output_type": "display_data"
    },
    {
     "data": {
      "text/html": [
       "<span style=\"color:blue\"> |-hidden_1_units: 154</span>"
      ],
      "text/plain": [
       "<IPython.core.display.HTML object>"
      ]
     },
     "metadata": {},
     "output_type": "display_data"
    },
    {
     "data": {
      "text/html": [
       "<span style=\"color:cyan\"> |-kernel_regularizer: 0.0001</span>"
      ],
      "text/plain": [
       "<IPython.core.display.HTML object>"
      ]
     },
     "metadata": {},
     "output_type": "display_data"
    },
    {
     "data": {
      "text/html": [
       "<span style=\"color:blue\"> |-learning_rate: 0.001</span>"
      ],
      "text/plain": [
       "<IPython.core.display.HTML object>"
      ]
     },
     "metadata": {},
     "output_type": "display_data"
    },
    {
     "data": {
      "text/html": [
       "<span style=\"color:cyan\"> |-n_layers: 1</span>"
      ],
      "text/plain": [
       "<IPython.core.display.HTML object>"
      ]
     },
     "metadata": {},
     "output_type": "display_data"
    },
    {
     "data": {
      "text/html": [
       "<span style=\"color:blue\"> |-tuner/bracket: 1</span>"
      ],
      "text/plain": [
       "<IPython.core.display.HTML object>"
      ]
     },
     "metadata": {},
     "output_type": "display_data"
    },
    {
     "data": {
      "text/html": [
       "<span style=\"color:cyan\"> |-tuner/epochs: 25</span>"
      ],
      "text/plain": [
       "<IPython.core.display.HTML object>"
      ]
     },
     "metadata": {},
     "output_type": "display_data"
    },
    {
     "data": {
      "text/html": [
       "<span style=\"color:blue\"> |-tuner/initial_epoch: 9</span>"
      ],
      "text/plain": [
       "<IPython.core.display.HTML object>"
      ]
     },
     "metadata": {},
     "output_type": "display_data"
    },
    {
     "data": {
      "text/html": [
       "<span style=\"color:cyan\"> |-tuner/round: 1</span>"
      ],
      "text/plain": [
       "<IPython.core.display.HTML object>"
      ]
     },
     "metadata": {},
     "output_type": "display_data"
    },
    {
     "data": {
      "text/html": [
       "<span style=\"color:blue\"> |-tuner/trial_id: 508be4150158ed6f75be2000d1c09cde</span>"
      ],
      "text/plain": [
       "<IPython.core.display.HTML object>"
      ]
     },
     "metadata": {},
     "output_type": "display_data"
    },
    {
     "name": "stdout",
     "output_type": "stream",
     "text": [
      "Train on 17000 samples, validate on 3000 samples\n",
      "Epoch 1/25\n",
      "17000/17000 - 2s - loss: 0.1669 - mean_squared_error: 0.1498 - val_loss: 0.1199 - val_mean_squared_error: 0.1024\n",
      "Epoch 2/25\n",
      "17000/17000 - 2s - loss: 0.0911 - mean_squared_error: 0.0728 - val_loss: 0.0710 - val_mean_squared_error: 0.0518\n",
      "Epoch 3/25\n",
      "17000/17000 - 2s - loss: 0.0577 - mean_squared_error: 0.0376 - val_loss: 0.0471 - val_mean_squared_error: 0.0261\n",
      "Epoch 4/25\n",
      "17000/17000 - 2s - loss: 0.0400 - mean_squared_error: 0.0184 - val_loss: 0.0347 - val_mean_squared_error: 0.0126\n",
      "Epoch 5/25\n",
      "17000/17000 - 2s - loss: 0.0314 - mean_squared_error: 0.0091 - val_loss: 0.0289 - val_mean_squared_error: 0.0066\n",
      "Epoch 6/25\n",
      "17000/17000 - 2s - loss: 0.0272 - mean_squared_error: 0.0052 - val_loss: 0.0257 - val_mean_squared_error: 0.0041\n",
      "Epoch 7/25\n",
      "17000/17000 - 2s - loss: 0.0245 - mean_squared_error: 0.0035 - val_loss: 0.0234 - val_mean_squared_error: 0.0031\n",
      "Epoch 8/25\n",
      "17000/17000 - 2s - loss: 0.0225 - mean_squared_error: 0.0029 - val_loss: 0.0215 - val_mean_squared_error: 0.0027\n",
      "Epoch 9/25\n",
      "17000/17000 - 2s - loss: 0.0207 - mean_squared_error: 0.0026 - val_loss: 0.0198 - val_mean_squared_error: 0.0025\n",
      "Epoch 10/25\n",
      "17000/17000 - 2s - loss: 0.0191 - mean_squared_error: 0.0025 - val_loss: 0.0183 - val_mean_squared_error: 0.0024\n",
      "Epoch 11/25\n",
      "17000/17000 - 2s - loss: 0.0177 - mean_squared_error: 0.0023 - val_loss: 0.0170 - val_mean_squared_error: 0.0022\n",
      "Epoch 12/25\n",
      "17000/17000 - 2s - loss: 0.0164 - mean_squared_error: 0.0022 - val_loss: 0.0159 - val_mean_squared_error: 0.0021\n",
      "Epoch 13/25\n",
      "17000/17000 - 2s - loss: 0.0154 - mean_squared_error: 0.0021 - val_loss: 0.0149 - val_mean_squared_error: 0.0020\n",
      "Epoch 14/25\n",
      "17000/17000 - 2s - loss: 0.0145 - mean_squared_error: 0.0019 - val_loss: 0.0140 - val_mean_squared_error: 0.0019\n",
      "Epoch 15/25\n",
      "17000/17000 - 2s - loss: 0.0136 - mean_squared_error: 0.0018 - val_loss: 0.0133 - val_mean_squared_error: 0.0018\n",
      "Epoch 16/25\n",
      "17000/17000 - 2s - loss: 0.0129 - mean_squared_error: 0.0017 - val_loss: 0.0125 - val_mean_squared_error: 0.0017\n",
      "Epoch 17/25\n",
      "17000/17000 - 2s - loss: 0.0122 - mean_squared_error: 0.0016 - val_loss: 0.0119 - val_mean_squared_error: 0.0016\n",
      "Epoch 18/25\n",
      "17000/17000 - 2s - loss: 0.0116 - mean_squared_error: 0.0016 - val_loss: 0.0113 - val_mean_squared_error: 0.0015\n",
      "Epoch 19/25\n",
      "17000/17000 - 2s - loss: 0.0110 - mean_squared_error: 0.0015 - val_loss: 0.0108 - val_mean_squared_error: 0.0014\n",
      "Epoch 20/25\n",
      "17000/17000 - 2s - loss: 0.0105 - mean_squared_error: 0.0014 - val_loss: 0.0103 - val_mean_squared_error: 0.0014\n",
      "Epoch 21/25\n",
      "17000/17000 - 2s - loss: 0.0101 - mean_squared_error: 0.0014 - val_loss: 0.0098 - val_mean_squared_error: 0.0013\n",
      "Epoch 22/25\n",
      "17000/17000 - 2s - loss: 0.0096 - mean_squared_error: 0.0013 - val_loss: 0.0094 - val_mean_squared_error: 0.0012\n",
      "Epoch 23/25\n",
      "17000/17000 - 2s - loss: 0.0092 - mean_squared_error: 0.0012 - val_loss: 0.0090 - val_mean_squared_error: 0.0012\n",
      "Epoch 24/25\n",
      "17000/17000 - 2s - loss: 0.0089 - mean_squared_error: 0.0012 - val_loss: 0.0087 - val_mean_squared_error: 0.0012\n",
      "Epoch 25/25\n",
      "17000/17000 - 2s - loss: 0.0086 - mean_squared_error: 0.0012 - val_loss: 0.0084 - val_mean_squared_error: 0.0011\n"
     ]
    },
    {
     "data": {
      "text/html": [
       "<span style=\"color:#4527A0\"><h1 style=\"font-size:18px\">Trial complete</h1></span>"
      ],
      "text/plain": [
       "<IPython.core.display.HTML object>"
      ]
     },
     "metadata": {},
     "output_type": "display_data"
    },
    {
     "data": {
      "text/html": [
       "<span style=\"color:#4527A0\"><h1 style=\"font-size:18px\">Trial summary</h1></span>"
      ],
      "text/plain": [
       "<IPython.core.display.HTML object>"
      ]
     },
     "metadata": {},
     "output_type": "display_data"
    },
    {
     "data": {
      "text/html": [
       "<span style=\"color:cyan\"> |-Trial ID: 591e16d0f3f92129d0b6c78f05e76456</span>"
      ],
      "text/plain": [
       "<IPython.core.display.HTML object>"
      ]
     },
     "metadata": {},
     "output_type": "display_data"
    },
    {
     "data": {
      "text/html": [
       "<span style=\"color:cyan\"> |-Score: 0.0011624470353126526</span>"
      ],
      "text/plain": [
       "<IPython.core.display.HTML object>"
      ]
     },
     "metadata": {},
     "output_type": "display_data"
    },
    {
     "data": {
      "text/html": [
       "<span style=\"color:cyan\"> |-Best step: 0</span>"
      ],
      "text/plain": [
       "<IPython.core.display.HTML object>"
      ]
     },
     "metadata": {},
     "output_type": "display_data"
    },
    {
     "data": {
      "text/html": [
       "<span style=\"color:#7E57C2\"><h2 style=\"font-size:16px\">Hyperparameters:</h2></span>"
      ],
      "text/plain": [
       "<IPython.core.display.HTML object>"
      ]
     },
     "metadata": {},
     "output_type": "display_data"
    },
    {
     "data": {
      "text/html": [
       "<span style=\"color:cyan\"> |-hidden_0_units: 89</span>"
      ],
      "text/plain": [
       "<IPython.core.display.HTML object>"
      ]
     },
     "metadata": {},
     "output_type": "display_data"
    },
    {
     "data": {
      "text/html": [
       "<span style=\"color:blue\"> |-hidden_1_units: 177</span>"
      ],
      "text/plain": [
       "<IPython.core.display.HTML object>"
      ]
     },
     "metadata": {},
     "output_type": "display_data"
    },
    {
     "data": {
      "text/html": [
       "<span style=\"color:cyan\"> |-kernel_regularizer: 0.0001</span>"
      ],
      "text/plain": [
       "<IPython.core.display.HTML object>"
      ]
     },
     "metadata": {},
     "output_type": "display_data"
    },
    {
     "data": {
      "text/html": [
       "<span style=\"color:blue\"> |-learning_rate: 0.0001</span>"
      ],
      "text/plain": [
       "<IPython.core.display.HTML object>"
      ]
     },
     "metadata": {},
     "output_type": "display_data"
    },
    {
     "data": {
      "text/html": [
       "<span style=\"color:cyan\"> |-n_layers: 2</span>"
      ],
      "text/plain": [
       "<IPython.core.display.HTML object>"
      ]
     },
     "metadata": {},
     "output_type": "display_data"
    },
    {
     "data": {
      "text/html": [
       "<span style=\"color:blue\"> |-tuner/bracket: 0</span>"
      ],
      "text/plain": [
       "<IPython.core.display.HTML object>"
      ]
     },
     "metadata": {},
     "output_type": "display_data"
    },
    {
     "data": {
      "text/html": [
       "<span style=\"color:cyan\"> |-tuner/epochs: 25</span>"
      ],
      "text/plain": [
       "<IPython.core.display.HTML object>"
      ]
     },
     "metadata": {},
     "output_type": "display_data"
    },
    {
     "data": {
      "text/html": [
       "<span style=\"color:blue\"> |-tuner/initial_epoch: 0</span>"
      ],
      "text/plain": [
       "<IPython.core.display.HTML object>"
      ]
     },
     "metadata": {},
     "output_type": "display_data"
    },
    {
     "data": {
      "text/html": [
       "<span style=\"color:cyan\"> |-tuner/round: 0</span>"
      ],
      "text/plain": [
       "<IPython.core.display.HTML object>"
      ]
     },
     "metadata": {},
     "output_type": "display_data"
    },
    {
     "name": "stdout",
     "output_type": "stream",
     "text": [
      "Train on 17000 samples, validate on 3000 samples\n",
      "Epoch 1/25\n",
      "17000/17000 - 2s - loss: 0.0142 - mean_squared_error: 0.0075 - val_loss: 0.0182 - val_mean_squared_error: 0.0116\n",
      "Epoch 2/25\n",
      "17000/17000 - 2s - loss: 0.0119 - mean_squared_error: 0.0063 - val_loss: 0.0109 - val_mean_squared_error: 0.0044\n",
      "Epoch 3/25\n",
      "17000/17000 - 2s - loss: 0.0095 - mean_squared_error: 0.0049 - val_loss: 0.0049 - val_mean_squared_error: 0.0012\n",
      "Epoch 4/25\n",
      "17000/17000 - 2s - loss: 0.0076 - mean_squared_error: 0.0039 - val_loss: 0.0031 - val_mean_squared_error: 0.0010\n",
      "Epoch 5/25\n",
      "17000/17000 - 2s - loss: 0.0090 - mean_squared_error: 0.0053 - val_loss: 0.0340 - val_mean_squared_error: 0.0308\n",
      "Epoch 6/25\n",
      "17000/17000 - 2s - loss: 0.0123 - mean_squared_error: 0.0076 - val_loss: 0.0134 - val_mean_squared_error: 0.0068\n",
      "Epoch 7/25\n",
      "17000/17000 - 2s - loss: 0.0064 - mean_squared_error: 0.0035 - val_loss: 0.0247 - val_mean_squared_error: 0.0188\n",
      "Epoch 8/25\n",
      "17000/17000 - 2s - loss: 0.0083 - mean_squared_error: 0.0047 - val_loss: 0.0184 - val_mean_squared_error: 0.0137\n",
      "Epoch 9/25\n",
      "17000/17000 - 2s - loss: 0.0074 - mean_squared_error: 0.0043 - val_loss: 0.0213 - val_mean_squared_error: 0.0152\n",
      "Epoch 10/25\n",
      "17000/17000 - 2s - loss: 0.0059 - mean_squared_error: 0.0029 - val_loss: 0.0032 - val_mean_squared_error: 0.0016\n",
      "Epoch 11/25\n",
      "17000/17000 - 2s - loss: 0.0086 - mean_squared_error: 0.0051 - val_loss: 0.0027 - val_mean_squared_error: 0.0010\n",
      "Epoch 12/25\n",
      "17000/17000 - 2s - loss: 0.0061 - mean_squared_error: 0.0034 - val_loss: 0.0026 - val_mean_squared_error: 0.0011\n",
      "Epoch 13/25\n",
      "17000/17000 - 2s - loss: 0.0079 - mean_squared_error: 0.0047 - val_loss: 0.0026 - val_mean_squared_error: 6.1338e-04\n",
      "Epoch 14/25\n",
      "17000/17000 - 2s - loss: 0.0084 - mean_squared_error: 0.0052 - val_loss: 0.0062 - val_mean_squared_error: 0.0024\n",
      "Epoch 15/25\n",
      "17000/17000 - 2s - loss: 0.0048 - mean_squared_error: 0.0024 - val_loss: 0.0025 - val_mean_squared_error: 7.4704e-04\n",
      "Epoch 16/25\n",
      "17000/17000 - 2s - loss: 0.0082 - mean_squared_error: 0.0055 - val_loss: 0.0246 - val_mean_squared_error: 0.0188\n",
      "Epoch 17/25\n",
      "17000/17000 - 2s - loss: 0.0075 - mean_squared_error: 0.0040 - val_loss: 0.0028 - val_mean_squared_error: 0.0010\n",
      "Epoch 18/25\n",
      "17000/17000 - 2s - loss: 0.0068 - mean_squared_error: 0.0040 - val_loss: 0.0025 - val_mean_squared_error: 6.7630e-04\n",
      "Epoch 19/25\n",
      "17000/17000 - 2s - loss: 0.0075 - mean_squared_error: 0.0044 - val_loss: 0.0029 - val_mean_squared_error: 5.9438e-04\n",
      "Epoch 20/25\n",
      "17000/17000 - 2s - loss: 0.0082 - mean_squared_error: 0.0054 - val_loss: 0.0096 - val_mean_squared_error: 0.0053\n"
     ]
    },
    {
     "data": {
      "text/html": [
       "<span style=\"color:#4527A0\"><h1 style=\"font-size:18px\">Trial complete</h1></span>"
      ],
      "text/plain": [
       "<IPython.core.display.HTML object>"
      ]
     },
     "metadata": {},
     "output_type": "display_data"
    },
    {
     "data": {
      "text/html": [
       "<span style=\"color:#4527A0\"><h1 style=\"font-size:18px\">Trial summary</h1></span>"
      ],
      "text/plain": [
       "<IPython.core.display.HTML object>"
      ]
     },
     "metadata": {},
     "output_type": "display_data"
    },
    {
     "data": {
      "text/html": [
       "<span style=\"color:cyan\"> |-Trial ID: ac843b41f46655d5df237b00b38dfee4</span>"
      ],
      "text/plain": [
       "<IPython.core.display.HTML object>"
      ]
     },
     "metadata": {},
     "output_type": "display_data"
    },
    {
     "data": {
      "text/html": [
       "<span style=\"color:cyan\"> |-Score: 0.002354096621274948</span>"
      ],
      "text/plain": [
       "<IPython.core.display.HTML object>"
      ]
     },
     "metadata": {},
     "output_type": "display_data"
    },
    {
     "data": {
      "text/html": [
       "<span style=\"color:cyan\"> |-Best step: 0</span>"
      ],
      "text/plain": [
       "<IPython.core.display.HTML object>"
      ]
     },
     "metadata": {},
     "output_type": "display_data"
    },
    {
     "data": {
      "text/html": [
       "<span style=\"color:#7E57C2\"><h2 style=\"font-size:16px\">Hyperparameters:</h2></span>"
      ],
      "text/plain": [
       "<IPython.core.display.HTML object>"
      ]
     },
     "metadata": {},
     "output_type": "display_data"
    },
    {
     "data": {
      "text/html": [
       "<span style=\"color:cyan\"> |-hidden_0_units: 314</span>"
      ],
      "text/plain": [
       "<IPython.core.display.HTML object>"
      ]
     },
     "metadata": {},
     "output_type": "display_data"
    },
    {
     "data": {
      "text/html": [
       "<span style=\"color:blue\"> |-hidden_1_units: 148</span>"
      ],
      "text/plain": [
       "<IPython.core.display.HTML object>"
      ]
     },
     "metadata": {},
     "output_type": "display_data"
    },
    {
     "data": {
      "text/html": [
       "<span style=\"color:cyan\"> |-kernel_regularizer: 0.0001</span>"
      ],
      "text/plain": [
       "<IPython.core.display.HTML object>"
      ]
     },
     "metadata": {},
     "output_type": "display_data"
    },
    {
     "data": {
      "text/html": [
       "<span style=\"color:blue\"> |-learning_rate: 0.01</span>"
      ],
      "text/plain": [
       "<IPython.core.display.HTML object>"
      ]
     },
     "metadata": {},
     "output_type": "display_data"
    },
    {
     "data": {
      "text/html": [
       "<span style=\"color:cyan\"> |-n_layers: 1</span>"
      ],
      "text/plain": [
       "<IPython.core.display.HTML object>"
      ]
     },
     "metadata": {},
     "output_type": "display_data"
    },
    {
     "data": {
      "text/html": [
       "<span style=\"color:blue\"> |-tuner/bracket: 0</span>"
      ],
      "text/plain": [
       "<IPython.core.display.HTML object>"
      ]
     },
     "metadata": {},
     "output_type": "display_data"
    },
    {
     "data": {
      "text/html": [
       "<span style=\"color:cyan\"> |-tuner/epochs: 25</span>"
      ],
      "text/plain": [
       "<IPython.core.display.HTML object>"
      ]
     },
     "metadata": {},
     "output_type": "display_data"
    },
    {
     "data": {
      "text/html": [
       "<span style=\"color:blue\"> |-tuner/initial_epoch: 0</span>"
      ],
      "text/plain": [
       "<IPython.core.display.HTML object>"
      ]
     },
     "metadata": {},
     "output_type": "display_data"
    },
    {
     "data": {
      "text/html": [
       "<span style=\"color:cyan\"> |-tuner/round: 0</span>"
      ],
      "text/plain": [
       "<IPython.core.display.HTML object>"
      ]
     },
     "metadata": {},
     "output_type": "display_data"
    },
    {
     "name": "stdout",
     "output_type": "stream",
     "text": [
      "Train on 17000 samples, validate on 3000 samples\n",
      "Epoch 1/25\n",
      "17000/17000 - 3s - loss: 0.1403 - mean_squared_error: 0.1046 - val_loss: 0.0792 - val_mean_squared_error: 0.0429\n",
      "Epoch 2/25\n",
      "17000/17000 - 2s - loss: 0.0585 - mean_squared_error: 0.0220 - val_loss: 0.0460 - val_mean_squared_error: 0.0100\n",
      "Epoch 3/25\n",
      "17000/17000 - 2s - loss: 0.0406 - mean_squared_error: 0.0065 - val_loss: 0.0364 - val_mean_squared_error: 0.0044\n",
      "Epoch 4/25\n",
      "17000/17000 - 2s - loss: 0.0332 - mean_squared_error: 0.0037 - val_loss: 0.0302 - val_mean_squared_error: 0.0033\n",
      "Epoch 5/25\n",
      "17000/17000 - 2s - loss: 0.0277 - mean_squared_error: 0.0031 - val_loss: 0.0253 - val_mean_squared_error: 0.0029\n",
      "Epoch 6/25\n",
      "17000/17000 - 2s - loss: 0.0234 - mean_squared_error: 0.0028 - val_loss: 0.0216 - val_mean_squared_error: 0.0027\n",
      "Epoch 7/25\n",
      "17000/17000 - 2s - loss: 0.0203 - mean_squared_error: 0.0026 - val_loss: 0.0190 - val_mean_squared_error: 0.0025\n",
      "Epoch 8/25\n",
      "17000/17000 - 2s - loss: 0.0180 - mean_squared_error: 0.0024 - val_loss: 0.0172 - val_mean_squared_error: 0.0023\n",
      "Epoch 9/25\n",
      "17000/17000 - 2s - loss: 0.0164 - mean_squared_error: 0.0023 - val_loss: 0.0157 - val_mean_squared_error: 0.0022\n",
      "Epoch 10/25\n",
      "17000/17000 - 2s - loss: 0.0152 - mean_squared_error: 0.0021 - val_loss: 0.0146 - val_mean_squared_error: 0.0020\n",
      "Epoch 11/25\n",
      "17000/17000 - 2s - loss: 0.0142 - mean_squared_error: 0.0020 - val_loss: 0.0137 - val_mean_squared_error: 0.0019\n",
      "Epoch 12/25\n",
      "17000/17000 - 2s - loss: 0.0133 - mean_squared_error: 0.0019 - val_loss: 0.0128 - val_mean_squared_error: 0.0018\n",
      "Epoch 13/25\n",
      "17000/17000 - 2s - loss: 0.0125 - mean_squared_error: 0.0018 - val_loss: 0.0121 - val_mean_squared_error: 0.0017\n",
      "Epoch 14/25\n",
      "17000/17000 - 2s - loss: 0.0117 - mean_squared_error: 0.0017 - val_loss: 0.0114 - val_mean_squared_error: 0.0016\n",
      "Epoch 15/25\n",
      "17000/17000 - 2s - loss: 0.0111 - mean_squared_error: 0.0016 - val_loss: 0.0108 - val_mean_squared_error: 0.0015\n",
      "Epoch 16/25\n",
      "17000/17000 - 2s - loss: 0.0105 - mean_squared_error: 0.0015 - val_loss: 0.0102 - val_mean_squared_error: 0.0014\n",
      "Epoch 17/25\n",
      "17000/17000 - 2s - loss: 0.0100 - mean_squared_error: 0.0014 - val_loss: 0.0097 - val_mean_squared_error: 0.0013\n",
      "Epoch 18/25\n",
      "17000/17000 - 2s - loss: 0.0095 - mean_squared_error: 0.0013 - val_loss: 0.0093 - val_mean_squared_error: 0.0013\n",
      "Epoch 19/25\n",
      "17000/17000 - 2s - loss: 0.0090 - mean_squared_error: 0.0013 - val_loss: 0.0088 - val_mean_squared_error: 0.0012\n",
      "Epoch 20/25\n",
      "17000/17000 - 2s - loss: 0.0086 - mean_squared_error: 0.0012 - val_loss: 0.0084 - val_mean_squared_error: 0.0012\n",
      "Epoch 21/25\n",
      "17000/17000 - 2s - loss: 0.0083 - mean_squared_error: 0.0012 - val_loss: 0.0081 - val_mean_squared_error: 0.0011\n",
      "Epoch 22/25\n",
      "17000/17000 - 2s - loss: 0.0079 - mean_squared_error: 0.0011 - val_loss: 0.0078 - val_mean_squared_error: 0.0011\n",
      "Epoch 23/25\n",
      "17000/17000 - 2s - loss: 0.0076 - mean_squared_error: 0.0011 - val_loss: 0.0075 - val_mean_squared_error: 0.0011\n",
      "Epoch 24/25\n",
      "17000/17000 - 2s - loss: 0.0073 - mean_squared_error: 0.0010 - val_loss: 0.0072 - val_mean_squared_error: 0.0010\n",
      "Epoch 25/25\n",
      "17000/17000 - 2s - loss: 0.0071 - mean_squared_error: 0.0010 - val_loss: 0.0070 - val_mean_squared_error: 0.0010\n"
     ]
    },
    {
     "data": {
      "text/html": [
       "<span style=\"color:#4527A0\"><h1 style=\"font-size:18px\">Trial complete</h1></span>"
      ],
      "text/plain": [
       "<IPython.core.display.HTML object>"
      ]
     },
     "metadata": {},
     "output_type": "display_data"
    },
    {
     "data": {
      "text/html": [
       "<span style=\"color:#4527A0\"><h1 style=\"font-size:18px\">Trial summary</h1></span>"
      ],
      "text/plain": [
       "<IPython.core.display.HTML object>"
      ]
     },
     "metadata": {},
     "output_type": "display_data"
    },
    {
     "data": {
      "text/html": [
       "<span style=\"color:cyan\"> |-Trial ID: 65c05cea13b6d082441a3aeb452bc4ff</span>"
      ],
      "text/plain": [
       "<IPython.core.display.HTML object>"
      ]
     },
     "metadata": {},
     "output_type": "display_data"
    },
    {
     "data": {
      "text/html": [
       "<span style=\"color:cyan\"> |-Score: 0.0010170197347179055</span>"
      ],
      "text/plain": [
       "<IPython.core.display.HTML object>"
      ]
     },
     "metadata": {},
     "output_type": "display_data"
    },
    {
     "data": {
      "text/html": [
       "<span style=\"color:cyan\"> |-Best step: 0</span>"
      ],
      "text/plain": [
       "<IPython.core.display.HTML object>"
      ]
     },
     "metadata": {},
     "output_type": "display_data"
    },
    {
     "data": {
      "text/html": [
       "<span style=\"color:#7E57C2\"><h2 style=\"font-size:16px\">Hyperparameters:</h2></span>"
      ],
      "text/plain": [
       "<IPython.core.display.HTML object>"
      ]
     },
     "metadata": {},
     "output_type": "display_data"
    },
    {
     "data": {
      "text/html": [
       "<span style=\"color:cyan\"> |-hidden_0_units: 300</span>"
      ],
      "text/plain": [
       "<IPython.core.display.HTML object>"
      ]
     },
     "metadata": {},
     "output_type": "display_data"
    },
    {
     "data": {
      "text/html": [
       "<span style=\"color:blue\"> |-hidden_1_units: 279</span>"
      ],
      "text/plain": [
       "<IPython.core.display.HTML object>"
      ]
     },
     "metadata": {},
     "output_type": "display_data"
    },
    {
     "data": {
      "text/html": [
       "<span style=\"color:cyan\"> |-kernel_regularizer: 0.0001</span>"
      ],
      "text/plain": [
       "<IPython.core.display.HTML object>"
      ]
     },
     "metadata": {},
     "output_type": "display_data"
    },
    {
     "data": {
      "text/html": [
       "<span style=\"color:blue\"> |-learning_rate: 0.0001</span>"
      ],
      "text/plain": [
       "<IPython.core.display.HTML object>"
      ]
     },
     "metadata": {},
     "output_type": "display_data"
    },
    {
     "data": {
      "text/html": [
       "<span style=\"color:cyan\"> |-n_layers: 2</span>"
      ],
      "text/plain": [
       "<IPython.core.display.HTML object>"
      ]
     },
     "metadata": {},
     "output_type": "display_data"
    },
    {
     "data": {
      "text/html": [
       "<span style=\"color:blue\"> |-tuner/bracket: 0</span>"
      ],
      "text/plain": [
       "<IPython.core.display.HTML object>"
      ]
     },
     "metadata": {},
     "output_type": "display_data"
    },
    {
     "data": {
      "text/html": [
       "<span style=\"color:cyan\"> |-tuner/epochs: 25</span>"
      ],
      "text/plain": [
       "<IPython.core.display.HTML object>"
      ]
     },
     "metadata": {},
     "output_type": "display_data"
    },
    {
     "data": {
      "text/html": [
       "<span style=\"color:blue\"> |-tuner/initial_epoch: 0</span>"
      ],
      "text/plain": [
       "<IPython.core.display.HTML object>"
      ]
     },
     "metadata": {},
     "output_type": "display_data"
    },
    {
     "data": {
      "text/html": [
       "<span style=\"color:cyan\"> |-tuner/round: 0</span>"
      ],
      "text/plain": [
       "<IPython.core.display.HTML object>"
      ]
     },
     "metadata": {},
     "output_type": "display_data"
    },
    {
     "name": "stdout",
     "output_type": "stream",
     "text": [
      "Train on 17000 samples, validate on 3000 samples\n",
      "Epoch 1/25\n",
      "17000/17000 - 3s - loss: 0.0224 - mean_squared_error: 0.0081 - val_loss: 0.0122 - val_mean_squared_error: 0.0030\n",
      "Epoch 2/25\n",
      "17000/17000 - 2s - loss: 0.0444 - mean_squared_error: 0.0225 - val_loss: 0.0094 - val_mean_squared_error: 0.0014\n",
      "Epoch 3/25\n",
      "17000/17000 - 2s - loss: 0.0087 - mean_squared_error: 0.0016 - val_loss: 0.0087 - val_mean_squared_error: 0.0022\n",
      "Epoch 4/25\n",
      "17000/17000 - 2s - loss: 0.0937 - mean_squared_error: 0.0599 - val_loss: 0.1090 - val_mean_squared_error: 0.0532\n",
      "Epoch 5/25\n",
      "17000/17000 - 2s - loss: 0.0361 - mean_squared_error: 0.0136 - val_loss: 0.0074 - val_mean_squared_error: 0.0012\n",
      "Epoch 6/25\n",
      "17000/17000 - 2s - loss: 0.0070 - mean_squared_error: 0.0013 - val_loss: 0.0076 - val_mean_squared_error: 0.0021\n",
      "Epoch 7/25\n",
      "17000/17000 - 2s - loss: 0.0071 - mean_squared_error: 0.0018 - val_loss: 0.0088 - val_mean_squared_error: 0.0034\n",
      "Epoch 8/25\n",
      "17000/17000 - 2s - loss: 0.1510 - mean_squared_error: 0.1004 - val_loss: 0.0868 - val_mean_squared_error: 0.0340\n",
      "Epoch 9/25\n",
      "17000/17000 - 2s - loss: 0.0344 - mean_squared_error: 0.0119 - val_loss: 0.0083 - val_mean_squared_error: 0.0020\n",
      "Epoch 10/25\n",
      "17000/17000 - 2s - loss: 0.0064 - mean_squared_error: 0.0013 - val_loss: 0.0062 - val_mean_squared_error: 0.0015\n",
      "Epoch 11/25\n",
      "17000/17000 - 2s - loss: 0.0060 - mean_squared_error: 0.0014 - val_loss: 0.0063 - val_mean_squared_error: 0.0018\n",
      "Epoch 12/25\n",
      "17000/17000 - 2s - loss: 0.0545 - mean_squared_error: 0.0432 - val_loss: 0.4300 - val_mean_squared_error: 0.3732\n",
      "Epoch 13/25\n",
      "17000/17000 - 2s - loss: 0.3676 - mean_squared_error: 0.3439 - val_loss: 0.2529 - val_mean_squared_error: 0.2334\n",
      "Epoch 14/25\n",
      "17000/17000 - 2s - loss: 0.2442 - mean_squared_error: 0.2270 - val_loss: 0.2382 - val_mean_squared_error: 0.2240\n",
      "Epoch 15/25\n",
      "17000/17000 - 2s - loss: 0.2462 - mean_squared_error: 0.2274 - val_loss: 0.2371 - val_mean_squared_error: 0.2223\n"
     ]
    },
    {
     "data": {
      "text/html": [
       "<span style=\"color:#4527A0\"><h1 style=\"font-size:18px\">Trial complete</h1></span>"
      ],
      "text/plain": [
       "<IPython.core.display.HTML object>"
      ]
     },
     "metadata": {},
     "output_type": "display_data"
    },
    {
     "data": {
      "text/html": [
       "<span style=\"color:#4527A0\"><h1 style=\"font-size:18px\">Trial summary</h1></span>"
      ],
      "text/plain": [
       "<IPython.core.display.HTML object>"
      ]
     },
     "metadata": {},
     "output_type": "display_data"
    },
    {
     "data": {
      "text/html": [
       "<span style=\"color:cyan\"> |-Trial ID: b068902d3fb357ed53cc97b5a682f618</span>"
      ],
      "text/plain": [
       "<IPython.core.display.HTML object>"
      ]
     },
     "metadata": {},
     "output_type": "display_data"
    },
    {
     "data": {
      "text/html": [
       "<span style=\"color:cyan\"> |-Score: 0.0013181389076635242</span>"
      ],
      "text/plain": [
       "<IPython.core.display.HTML object>"
      ]
     },
     "metadata": {},
     "output_type": "display_data"
    },
    {
     "data": {
      "text/html": [
       "<span style=\"color:cyan\"> |-Best step: 0</span>"
      ],
      "text/plain": [
       "<IPython.core.display.HTML object>"
      ]
     },
     "metadata": {},
     "output_type": "display_data"
    },
    {
     "data": {
      "text/html": [
       "<span style=\"color:#7E57C2\"><h2 style=\"font-size:16px\">Hyperparameters:</h2></span>"
      ],
      "text/plain": [
       "<IPython.core.display.HTML object>"
      ]
     },
     "metadata": {},
     "output_type": "display_data"
    },
    {
     "data": {
      "text/html": [
       "<span style=\"color:cyan\"> |-hidden_0_units: 194</span>"
      ],
      "text/plain": [
       "<IPython.core.display.HTML object>"
      ]
     },
     "metadata": {},
     "output_type": "display_data"
    },
    {
     "data": {
      "text/html": [
       "<span style=\"color:blue\"> |-hidden_1_units: 134</span>"
      ],
      "text/plain": [
       "<IPython.core.display.HTML object>"
      ]
     },
     "metadata": {},
     "output_type": "display_data"
    },
    {
     "data": {
      "text/html": [
       "<span style=\"color:cyan\"> |-kernel_regularizer: 0.0001</span>"
      ],
      "text/plain": [
       "<IPython.core.display.HTML object>"
      ]
     },
     "metadata": {},
     "output_type": "display_data"
    },
    {
     "data": {
      "text/html": [
       "<span style=\"color:blue\"> |-learning_rate: 0.01</span>"
      ],
      "text/plain": [
       "<IPython.core.display.HTML object>"
      ]
     },
     "metadata": {},
     "output_type": "display_data"
    },
    {
     "data": {
      "text/html": [
       "<span style=\"color:cyan\"> |-n_layers: 2</span>"
      ],
      "text/plain": [
       "<IPython.core.display.HTML object>"
      ]
     },
     "metadata": {},
     "output_type": "display_data"
    },
    {
     "data": {
      "text/html": [
       "<span style=\"color:blue\"> |-tuner/bracket: 0</span>"
      ],
      "text/plain": [
       "<IPython.core.display.HTML object>"
      ]
     },
     "metadata": {},
     "output_type": "display_data"
    },
    {
     "data": {
      "text/html": [
       "<span style=\"color:cyan\"> |-tuner/epochs: 25</span>"
      ],
      "text/plain": [
       "<IPython.core.display.HTML object>"
      ]
     },
     "metadata": {},
     "output_type": "display_data"
    },
    {
     "data": {
      "text/html": [
       "<span style=\"color:blue\"> |-tuner/initial_epoch: 0</span>"
      ],
      "text/plain": [
       "<IPython.core.display.HTML object>"
      ]
     },
     "metadata": {},
     "output_type": "display_data"
    },
    {
     "data": {
      "text/html": [
       "<span style=\"color:cyan\"> |-tuner/round: 0</span>"
      ],
      "text/plain": [
       "<IPython.core.display.HTML object>"
      ]
     },
     "metadata": {},
     "output_type": "display_data"
    },
    {
     "name": "stdout",
     "output_type": "stream",
     "text": [
      "INFO:tensorflow:Oracle triggered exit\n",
      "480.9861378669739\n"
     ]
    }
   ],
   "source": [
    "### SEARCHING FOR THE ANN LAYOUT THAT ACCOMPLISHES THE HYPERPARAMTER GOALS ###\n",
    "\n",
    "start_time = time.time()\n",
    "# tuner.search(X_scale, Y_scale, epochs=50, validation_split=0.15, callbacks=[stop_early], verbose=2)\n",
    "tuner.search(X_scale, Y_scale, validation_split=0.15, callbacks=[stop_early], verbose=2)\n",
    "searching_time = time.time() - start_time\n",
    "print(searching_time)"
   ]
  },
  {
   "cell_type": "code",
   "execution_count": 7,
   "metadata": {},
   "outputs": [
    {
     "name": "stdout",
     "output_type": "stream",
     "text": [
      "\n",
      "The hyperparameter search is complete. The optimal number of hidden layers are 1 and the optimal learning rate for the optimizer\n",
      "is 0.001.\n",
      "\n",
      "Best epoch: 39\n",
      "Train on 17000 samples, validate on 3000 samples\n",
      "Epoch 1/39\n",
      "17000/17000 - 2s - loss: 0.0419 - mean_squared_error: 0.0418 - val_loss: 0.0026 - val_mean_squared_error: 0.0024\n",
      "Epoch 2/39\n",
      "17000/17000 - 1s - loss: 0.0014 - mean_squared_error: 0.0012 - val_loss: 8.4781e-04 - val_mean_squared_error: 6.3625e-04\n",
      "Epoch 3/39\n",
      "17000/17000 - 1s - loss: 7.4535e-04 - mean_squared_error: 5.2574e-04 - val_loss: 6.4607e-04 - val_mean_squared_error: 4.2027e-04\n",
      "Epoch 4/39\n",
      "17000/17000 - 1s - loss: 6.3937e-04 - mean_squared_error: 4.0970e-04 - val_loss: 5.9724e-04 - val_mean_squared_error: 3.6463e-04\n",
      "Epoch 5/39\n",
      "17000/17000 - 1s - loss: 6.1027e-04 - mean_squared_error: 3.7618e-04 - val_loss: 5.6647e-04 - val_mean_squared_error: 3.3148e-04\n",
      "Epoch 6/39\n",
      "17000/17000 - 1s - loss: 5.9583e-04 - mean_squared_error: 3.6094e-04 - val_loss: 5.6356e-04 - val_mean_squared_error: 3.2911e-04\n",
      "Epoch 7/39\n",
      "17000/17000 - 1s - loss: 5.8026e-04 - mean_squared_error: 3.4703e-04 - val_loss: 5.8595e-04 - val_mean_squared_error: 3.5389e-04\n",
      "Epoch 8/39\n",
      "17000/17000 - 1s - loss: 5.8853e-04 - mean_squared_error: 3.5879e-04 - val_loss: 5.3404e-04 - val_mean_squared_error: 3.0674e-04\n",
      "Epoch 9/39\n",
      "17000/17000 - 1s - loss: 5.6960e-04 - mean_squared_error: 3.4462e-04 - val_loss: 5.7019e-04 - val_mean_squared_error: 3.4776e-04\n",
      "Epoch 10/39\n",
      "17000/17000 - 1s - loss: 5.5840e-04 - mean_squared_error: 3.3867e-04 - val_loss: 6.9094e-04 - val_mean_squared_error: 4.7397e-04\n",
      "Epoch 11/39\n",
      "17000/17000 - 1s - loss: 5.5224e-04 - mean_squared_error: 3.3854e-04 - val_loss: 5.3198e-04 - val_mean_squared_error: 3.2129e-04\n",
      "Epoch 12/39\n",
      "17000/17000 - 1s - loss: 5.5370e-04 - mean_squared_error: 3.4640e-04 - val_loss: 5.2559e-04 - val_mean_squared_error: 3.2150e-04\n",
      "Epoch 13/39\n",
      "17000/17000 - 1s - loss: 5.4298e-04 - mean_squared_error: 3.4208e-04 - val_loss: 5.0520e-04 - val_mean_squared_error: 3.0740e-04\n",
      "Epoch 14/39\n",
      "17000/17000 - 1s - loss: 5.3271e-04 - mean_squared_error: 3.3818e-04 - val_loss: 4.8900e-04 - val_mean_squared_error: 2.9776e-04\n",
      "Epoch 15/39\n",
      "17000/17000 - 1s - loss: 5.2893e-04 - mean_squared_error: 3.4061e-04 - val_loss: 4.9681e-04 - val_mean_squared_error: 3.1164e-04\n",
      "Epoch 16/39\n",
      "17000/17000 - 2s - loss: 5.2009e-04 - mean_squared_error: 3.3802e-04 - val_loss: 4.8539e-04 - val_mean_squared_error: 3.0633e-04\n",
      "Epoch 17/39\n",
      "17000/17000 - 1s - loss: 5.1298e-04 - mean_squared_error: 3.3683e-04 - val_loss: 5.4432e-04 - val_mean_squared_error: 3.7098e-04\n",
      "Epoch 18/39\n",
      "17000/17000 - 1s - loss: 5.0590e-04 - mean_squared_error: 3.3539e-04 - val_loss: 4.7116e-04 - val_mean_squared_error: 3.0341e-04\n",
      "Epoch 19/39\n",
      "17000/17000 - 2s - loss: 5.1467e-04 - mean_squared_error: 3.4990e-04 - val_loss: 4.8126e-04 - val_mean_squared_error: 3.1898e-04\n",
      "Epoch 20/39\n",
      "17000/17000 - 2s - loss: 4.9903e-04 - mean_squared_error: 3.3926e-04 - val_loss: 4.6485e-04 - val_mean_squared_error: 3.0780e-04\n",
      "Epoch 21/39\n",
      "17000/17000 - 2s - loss: 4.8722e-04 - mean_squared_error: 3.3241e-04 - val_loss: 4.6320e-04 - val_mean_squared_error: 3.1074e-04\n",
      "Epoch 22/39\n",
      "17000/17000 - 2s - loss: 4.8291e-04 - mean_squared_error: 3.3278e-04 - val_loss: 4.5218e-04 - val_mean_squared_error: 3.0420e-04\n",
      "Epoch 23/39\n",
      "17000/17000 - 2s - loss: 5.0097e-04 - mean_squared_error: 3.5570e-04 - val_loss: 5.2055e-04 - val_mean_squared_error: 3.7753e-04\n",
      "Epoch 24/39\n",
      "17000/17000 - 1s - loss: 4.7257e-04 - mean_squared_error: 3.3153e-04 - val_loss: 4.4158e-04 - val_mean_squared_error: 3.0244e-04\n",
      "Epoch 25/39\n",
      "17000/17000 - 1s - loss: 4.7044e-04 - mean_squared_error: 3.3322e-04 - val_loss: 4.7776e-04 - val_mean_squared_error: 3.4260e-04\n",
      "Epoch 26/39\n",
      "17000/17000 - 1s - loss: 4.6838e-04 - mean_squared_error: 3.3501e-04 - val_loss: 4.3428e-04 - val_mean_squared_error: 3.0275e-04\n",
      "Epoch 27/39\n",
      "17000/17000 - 1s - loss: 4.6085e-04 - mean_squared_error: 3.3102e-04 - val_loss: 4.4506e-04 - val_mean_squared_error: 3.1697e-04\n",
      "Epoch 28/39\n",
      "17000/17000 - 1s - loss: 4.6868e-04 - mean_squared_error: 3.4250e-04 - val_loss: 4.4147e-04 - val_mean_squared_error: 3.1690e-04\n",
      "Epoch 29/39\n",
      "17000/17000 - 1s - loss: 4.5894e-04 - mean_squared_error: 3.3622e-04 - val_loss: 4.6458e-04 - val_mean_squared_error: 3.4342e-04\n",
      "Epoch 30/39\n",
      "17000/17000 - 2s - loss: 4.5273e-04 - mean_squared_error: 3.3290e-04 - val_loss: 4.4927e-04 - val_mean_squared_error: 3.3065e-04\n",
      "Epoch 31/39\n",
      "17000/17000 - 2s - loss: 4.5268e-04 - mean_squared_error: 3.3566e-04 - val_loss: 4.1696e-04 - val_mean_squared_error: 3.0145e-04\n",
      "Epoch 32/39\n",
      "17000/17000 - 2s - loss: 4.5319e-04 - mean_squared_error: 3.3908e-04 - val_loss: 4.9065e-04 - val_mean_squared_error: 3.7799e-04\n",
      "Epoch 33/39\n",
      "17000/17000 - 1s - loss: 4.4446e-04 - mean_squared_error: 3.3302e-04 - val_loss: 4.2912e-04 - val_mean_squared_error: 3.1884e-04\n",
      "Epoch 34/39\n",
      "17000/17000 - 1s - loss: 4.4882e-04 - mean_squared_error: 3.3994e-04 - val_loss: 4.0582e-04 - val_mean_squared_error: 2.9793e-04\n",
      "Epoch 35/39\n",
      "17000/17000 - 2s - loss: 4.4336e-04 - mean_squared_error: 3.3672e-04 - val_loss: 4.3619e-04 - val_mean_squared_error: 3.3061e-04\n",
      "Epoch 36/39\n",
      "17000/17000 - 2s - loss: 4.3609e-04 - mean_squared_error: 3.3156e-04 - val_loss: 4.2066e-04 - val_mean_squared_error: 3.1720e-04\n",
      "Epoch 37/39\n",
      "17000/17000 - 2s - loss: 4.4063e-04 - mean_squared_error: 3.3833e-04 - val_loss: 4.1485e-04 - val_mean_squared_error: 3.1339e-04\n",
      "Epoch 38/39\n",
      "17000/17000 - 2s - loss: 4.3235e-04 - mean_squared_error: 3.3199e-04 - val_loss: 4.1742e-04 - val_mean_squared_error: 3.1825e-04\n",
      "Epoch 39/39\n",
      "17000/17000 - 2s - loss: 4.3101e-04 - mean_squared_error: 3.3258e-04 - val_loss: 4.0519e-04 - val_mean_squared_error: 3.0758e-04\n"
     ]
    }
   ],
   "source": [
    "# Build the model with the optimal hyperparameters and train it on the data for 25 epochs\n",
    "best_hps=tuner.get_best_hyperparameters(num_trials=1)[0]\n",
    "print(f\"\"\"\n",
    "The hyperparameter search is complete. The optimal number of hidden layers are {best_hps.get('n_layers')} and the optimal learning rate for the optimizer\n",
    "is {best_hps.get('learning_rate')}.\n",
    "\"\"\")\n",
    "model = tuner.hypermodel.build(best_hps)\n",
    "history = model.fit(X_scale, Y_scale, epochs=40, shuffle=True, validation_split=0.25, verbose=0)\n",
    "\n",
    "mean_squared_error_per_epoch = history.history['mean_squared_error']\n",
    "best_epoch = mean_squared_error_per_epoch.index(min(mean_squared_error_per_epoch)) + 1\n",
    "print('Best epoch: %d' % (best_epoch,))\n",
    "hypermodel = tuner.hypermodel.build(best_hps)\n",
    "\n",
    "# Retrain the model\n",
    "hypermodel_hist = hypermodel.fit(X_scale, Y_scale, epochs=best_epoch, shuffle=True, validation_split=0.15, verbose=2)"
   ]
  },
  {
   "cell_type": "code",
   "execution_count": 8,
   "metadata": {},
   "outputs": [
    {
     "name": "stdout",
     "output_type": "stream",
     "text": [
      "10000/1 [================================================================================================================================================================================================================================================================================================================================================================================================================================================================================================================================================================================================================================================================================================================================================================================================================================================================================================================================================================================================================================================================================================================================================================================================================================================================================================================================================================================================================================================================================================================================================================================================================================================================================================================================================================================================================================================================================================================================================================================================================================================================================================================================================================================================================================================================================================================================================================================================================================================================================================================================================================================================================================================================================================================================================================================================================================================================================================================================================================================================================================================================================================================================================================================================================================================================================================================================================================================================================================================================================================================================================================================================================================================================================================================================================================================================================================================================================================================================================================================================================================================================================================================================================================================================================================================================================================================================================================================================================================================================================================================================================================================================================================================================================================================================================================================================================================================================================================================================================================================================================================================================================================================================================================================================================================================================================================================================================================================================================================================================================================================================================================================================================================================================================================================================================================================================================================================================================================================================================================================================================================================================================================================================================================================================================================================================================================================================================================================================================================================================================================================================================================================================================================================================================================================================================================================================================================================================================================================================================================================================================================================================================================================================================================================================================================================================================================================================================================================================================================================================================================================================================================================================================================================================================================================================================================================================================================================================================================================================================================================================================================================================================================================================================================================================================================================================================================================================================================================================================================================================================================================================================================================================================================================================================================================================================================================================================================================================================================================================================================================================================================================================================================================================================================================================================================================================================================================================================================================================================================================================================================================================================================================================================================================================================================================================================================================================================================================================================================================================================================================================================================================================================================================================================================================================================================================================================================================================================================================================================================================================================================================================================================================================================================================================================================================================================================================================================================================================================================================================================================================================================================================================================================================================================================================================================================================================================================================================================================================================================================================================================================================================================================================================================================================================================================================================================================================================================================================================================================================================================================================================================================================================================================================================================================================================================================================================================================================================================================================================================================================================================================================================================================================================================================================================================================================================================================================================================================================================================================================================================================================================================================================================================================================================================================================================================================================================================================================================================================================================================================================================================================================================================================================================================================================================================================================================================================================================================================================================================================================================================================================================================================================================================================================================================================================================================================================================================================================================================================================================================================================================================================================================================================================================================================================================================================================================================================================================================================================================================================================================================================================================================================================================================================================================================================================================================================================================================================================================================================================================================================================================================================================================================================================================================================================================================================================================================================================================================================================================================================================================================================================================================================================================================================================================================================================================================================================================================================================================================================================================================================================================================================================================================================================================================================================================================================================================================================================================================================================================================================================================================================================================================================================================================================================================================================================================================================================================================================================================================================================================================================================================================================================================================================================================================================================================================================================================================================================================================================================================================================================================================================================================================================================================================================================================================================================================================================================================================================================================================================================================================================================================================================================================================================================================================================================================================================================================================================================================================================================================================================================================================================================================================================================================================================================================================================================================================================================================================================================================================================================================================================================================================================================================================================================================================================================================================================================================================================================================================================================================================================================================================================================================================================================================================================================================================================================================================================================================================================================================================================================================================================================================================================================================================================================================================================================================================================================================================================================================================================================================================================================================================================================================================================================================================================================================================================================================================================================================================================================================================================================================================================================================================================================================================================================================================================================================================================================================================================================================================================================================================================================================================================================================================================================================================================================================================================================================================================================================================================================================================================================================================================================================================================================================================================================================================================================================================================================================================================================================================================================================================================================================================================================================================================================================================================================================================================================================================================================================================================================================================================================================================================================================================================================================================================================================================================================================================================================================================================================================================================================================================================================================================================================================================================================================================================================================================================================================================================================================================================================================================================================================================================================================================================================================================================================================================================================================================================================================================================================================================================================================================================================================================================================================================================================================================================================================================================================================================================================================================================================================================================================================================================================================================================================================================================================================================================================================================================================================================================================================================================================================================================================================================================================================================================================================================================================================================================================================================================================================================================================================================================================================================================================================================================================================================================================================================================================================================================================================================================================================================================================================================================================================================================================================================================================================================================================================================================================================================================================================================================================================================================================================================================================================================================================================================================================================================================================================================================================================================================================================================================================================================================================================================================================================================================================================================================================================================================================================================================================================================================================================================================================================================================================================================================================================================================================================================================================================================================================================================================================================================================================================================================================================================================================================================================================================================================================================================================================================================================================================================================================================================================================================================================================================================================================================================================================================================================================================================================================================================================================================================================================================================================================================================================================================================================================================================================================================================================================================================================================================================================================================================================================================================================================================================================================================================================================================================================================================================================================================================================================================================================================================================================================================================================================================================================================================================================================================================================================================================================================================================================================================================================================================================================================================================================================================================================================================================================================================================================================================================================================================================================================================================================================================================================================================================================================================================================================================================================================================================================================================================================================================================================================================================================================================================================================================================================================================================================================================================================================================================================================================================================================================================================================================================================================================================================================================================================================================================================================================================================================================================================================================================================================================================================================================================================================================================================================================================================================================================================================================================================================================================================================================================================================================================================================================================================================================================================================================================================================================================================================================================================================================================================================================================================================================================================================================================================================================================================================================================================================================================================================================================================================================================================================================================================================================================================================================================================================================================================================================================================================================================================================================================================================================================================================================================================================================================================================================================================================================================================================================================================================================================================================================================================================================================================================================================================================================================================================================================================================================================================================================================================================================================================================================================================================================================================================================================================================================================================================================================================================================================================================================================================================================================================================================================================================================================================================================================================================================================================================================================================================================================================================================================================================================================================================================================================================================================================================================================================================================================================================================================================================================================================================================================================================================================================================================================================================================================================================================================================================================================================================================================================================================================================================================================================================================================================================================================================================================================================================================================================================================================================================================================================================================================================================================================================================================================================================================================================================================================================================================================================================================================================================================================================================================================================================================================================================================================================================================================================================================================================================================================================================================================================================================================================================================================================================================================================================================================================================================================================================================================================================================================================================================================================================================================================================================================================================================================================================================================================================================================================================================================================================================================================================================================================================================================================================================================================================================================================================================================================================================================================================================================================================================================================================================================================================================================================================================================================================================================================================================================================================================================================================================================================================================================================================================================================================================================================================================================================================================================================================================================================================================================================================================================================================================================================================================================================================================================================================================================================================================================================================================================================================================================================================================================================================================================================================================================================================================================================================================================================================================================================================================================================================================================================================================================================================================================================================================================================================================================================================================================================================================================================================================================================================================================================================================================================================================================================================================================================================================================================================================================================================================================================================================================================================================================================================================================================================================================================================================================================================================================================================================================================================================================================================================================================================================================================================================================================================================================================================================================================================================================================================================================================================================================================================================================================================================================================================================================================================================================================================================================================================================================================================================================================================================================================================================================================================================================================================================================================================================================================================================================================================================================================================================================================================================================================================================================================================================================================================================================================================================================================================================================================================================================================================================================================================================================================================================================================================================================================================================================================================================================================================================================================================================================================================================================================================================================================================================================================================================================================================================================================================================================================================================================================================================================================================================================================================================================================================================================================================================================================================================================================================================================================================================================================================================================================================================================================================================================================================================================================================================================================================================================================================================================================================================================================================================================================================================================================================================================================================================================================================================================================================================================================================================================================================================================================================================================================================================================================================================================================================================================================================================================================================================================================================================================================================================================================================================================================================================================================================================================================================================================================================================================================================================================================================================================================================================================================================================================================================================================================================================================================================================================================================================================================================================================================================================================================================================================================================================================================================================================================================================================================================================================================================================================================================================================================================================================================================================================================================================================================================================================================================================================================================================================================================================================================================================================================================================================================================================================================================================================================================================================================================================================================================================================================================================================================================================================================================================================================================================================================================================================================================================================================================================================================================================================================================================================================================================================================================================================================================================================================================================================================================================================================================================================================================================================================================================================================================================================================================================================================================================================================================================================================================================================================================================================================================================================================================================================================================================================================================================================================================================================================================================================================================================================================================================================================================================================================================================================================================================================================================================================================================================================================================================================================================================================================================================================================================================================================================================================================================================================================================================================================================================================================================================================================================================================================================================================================================================================================================================================================================================================================================================================================================================================================================================================================================================================================================================================================================================================================================================================================================================================================================================================================================================================================================================================================================================================================================================================================================================================================================================================================================================================================================================================================================================================================================================================================================================================================================================================================================================================================================================================================================================================================================================================================================================================================================================================================================================================================================================================================================================================================================================================================================================================================================================================================================================================================================================================================================================================================================================================================================================================================================================================================================================================================================================================================================================================================================================================================================================================================================================================================================================================================================================================================================================================================================================================================================================================================================================================================================================================================================================================================================================================================================================================================================================================================================================================================================================================================================================================================================================================================================================================================================================================================================================================================================================================================================================================================================================================================================================================================================================================================================================================================================================================================================================================================================================================================================================================================================================================================================================================================================================================================================================================================================================================================================================================================================================================================================================================================================================================================================================================================================================================================================================================================================================================================================================================================================================================================================================================================================================================================================================================================================================================================================================================================================================================================================================================================================================================================================================================================================================================================================================================================================================================================================================================================================================================================================================================================================================================================================================================================================================================================================================================================================================================================================================================================================================================================================================================================================================================================================================================================================================================================================================================================================================================================================================================================================================================================================================================================================================================================================================================================================================================================================================================================================================================================================================================================================================================================================================================================================================================================================================================================================================================================================================================================================================================================================================================================================================================================================================================================================================================================================================================================================================================================================================================================================================================================================================================================================================================================================================================================================================================================================================================================================================================================================================================================================================================================================================================================================================================================================================================================================================================================================================================================================================================================================================================================================================================================================================================================================================================================================================================================================================================================================================================================================================================================================================================================================================================================================================================================================================================================================================================================================================================================================================================================================================================================================================================================================================================================================================================================================================================================================================================================================================================================================================================================================================================================================================================================================================================================================================================================================================================================================================================================================================================================================================================================================================================================================================================================================================================================================================================================================================================================================================================================================================================================================================================================================================================================================================================================================================================================================================================================================================================================================================================================================================================================================================================================================================================================================================================================================================================================================================================================================================================================================================================================================================================================================================================================================================================================================================================================================================================================================================================================================================================================================================================================================================================================================================================================================================================================================================================================================================================================================================================================================================================================================================================================================================================================================================================================================================================================================================================================================================================================================================================================================================================================================================================================================================================================================================================================================================================================================================================================================================================================================================================================================================================================================================================================================================================================================================================================================================================================================================================================================================================================================================================================================================================================================================================================================================================================================================================================================================================================================================================================================================================================================================================================================================================================================================================================================================================================================================================================================================================================================================================================================================================================================================================================================================================================================================================================================================================================================================================================================================================================================================================================================================================================================================================================================================================================================================================================================================================================================================================================================================================================================================================================================================================================================================================================================================================================================================================================================================================================================================================================================================================================================================================================================================================================================================================================================================================================================================================================================================================================================================================================================================================================================================================================================================================================================================================================================================================================================================================================================================================================================================================================================================================================================================================================================================================================================================================================================================================================================================================================================================================================================================================================================================================================================================================================================================================================================================================================================================================================================================================================================================================================================================================================================================================================================================================================================================================================================================================================================================================================================================================================================================================================================================================================================================================================================================================================================================================================================================================================================================================================================================================================================================================================================================================================================================================================================================================================================================================================================================================================================================================================================================================================================================================================================================================================================================================================================================================================================================================================================================================================================================================================================================================================================================================================================================================================================================================================================================================================================================================================================================================================================================================================================================================================================================================================================================================================================================================================================================================================================================================================================================================================================================================================================================================================================================================================================================================================================================================================================================================================================================================================================================================================================================================================================================================================================================================================================================================================================================================================================================================================================================================================================================================================================================================================================================================================================================================================================================================================================================================================================================================================================================================================================================================================================================================================================================================================================================================================================================================================================================================================================================================================================================================================================================================================================================================================================================================================================================================================================================================================================================================================================================================================================================================================================================================================================================================================================================================================================================================================================================================================================================================================================================================================================================================================================================================================================================================================================================================================================================================================================================================================================================================================================================================================================================================================================================================================================================================================================================================================================================================================================================================================================================================================================================================================================================================================================================================================================================================================================================================================================================================================================================================================================================================================================================================================================================================================================================================================================================================================================================================================================================================================================================================================================================================================================================================================================================================================================================================================================================================================================================================================================================================================================================================================================================================================================================================================================================================================================================================================================================================================================================================================================================================================================================================================================================================================================================================================================================================================================================================================================================================================================================================================================================================================================================================================================================================================================================================================================================================================================================================================================================================================================================================================================================================================================================================================================================================================================================================================================================================================================================================================================================================================================================================================================================================================================================================================================================================================================================================================================================================================================================================================================================================================================================================================================================================================================================================================================================================================================================================================================================================================================================================================================================================================================================================================================================================================================================================================================================================================================================================================================================================================================================================================================================================================================================================================================================================================================================================================================================================================================================================================================================================================================================================================================================================================================================================================================================================================================================================================================================================================================================================================================================================================================================================================================================================================================================================================================================================================================================================================================================================================================================================================================================================================================================================================================================================================================================================================================================================================================================================================================================================================================================================================================================================================================================================================================================================================================================================================================================================================================================================================================================================================================================================================================================================================================================================================================================================================================================================================================================================================================================================================================================================================================================================================================================================================================================================================================================================================================================================================================================================================================================================================================================================================================================================================================================================================================================================================================================================================================================================================================================================================================================================================================================================================================================================================================================================================================================================================================================================================================================================================================================================================================================================================================================================================================================================================================================================================================================================================================================================================================================================================================================================================================================================================================================================================================================================================================================================================================================================================================================================================================================================================================================================================================================================================================================================================================================================================================================================================================================================================================================================================================================================================================================================================================================================================================================================================================================================================================================================================================================================================================================================================================================================================================================================================================================================================================================================================================================================================================================================================================================================================================================================================================================================================================================================================================================================================================================================================================================================================================================================================================================================================================================================================================================================================================================================================================================================================================================================================================================================================================================================================================================================================================================================================================================================================================================================================================================================================================================================================================================================================================================================================================================================================================================================================================================================================================================================================================================================================================================================================================================================================================================================================================================================================================================================================================================================================================================================================================================================================================================================================================================================================================================================================================================================================================================================================================================================================================================================================================================================================================================================================================================================================================================================================================================================================================================================================================================================================================================================================================================================================================================================================================================================================================================================================================================================================================================================================================================================================================================================================================================================================================================================================================================================================================================================================================================================================================================================================================================================================================================================================================================================================================================================================================================================================================================================================================================================================================================================================================================================================================================================================================================================================================================================================================================================================================================================================================================================================================================================================================================================================================================================================================================================================================================================================================================================================================================================================================================================================================================================================================================================================================================================================================================================================================================================================================================================================================================================================================================================================================================================================================================================================================================================================================================================================================================================================================================================================================================================================================================================================================================================================================================================================================================================================================================================================================================================================================================================================================================================================================================================================================================================================================================================================================================================================================================================================================================================================================================================================================================================================================================================================================================================================================================================================================================================================================================================================================================================================================================================================================================================================================================================================================================================================================================================================================================================================================================================================================================================================================================================================================================================================================================================================================================================================================================================================================================================================================================================================================================================================================================================================================================================================================================================================================================================================================================================================================================================================================================================================================================================================================================================================================================================================================================================================================================================================================================================================================================================================================================================================================================================================================================================================================================================================================================================================================================================================================================================================================================================================================================================================================================================================================================================================================================================================================================================================================================================================================================================================================================================================================================================================================================================================================================================================================================================================================================================================================================================================================================================================================================================================================================================================================================================================================================================================================================================================================================================================================================================================================================================================================================================================================================================================================================================================================================================================================================================================================================================================================================================================================================================================================================================================================================================================================================================================================================================================================================================================================================================================================================================================================================================================================================================================================================================================================================================================================================================================================================================================================================================================================================================================================================================================================================================================================================================================================================================================================================================================================================================================================================================================================================================================================================================================================================================================================================================================================================================================================================================================================================================================================================================================================================================================================================================================================================================================================================================================================================================================================================================================================================================================================================================================================================================================================================================================================================================================================================================================================================================================================================================================================================================================================================================================================================================================================================================================================================================================================================================================================================================================================================================================================================================================================================================================================================================================================================================================================================================================================================================================================================================================================================================================================================================================================================================================================================================================================================================================================================================================================================================================================================================================================================================================================================================================================================================================================================================================================================================================================================================================================================================================================================================================================================================================================================================================================================================================================================================================================================================================================================================================================================================================================================================================================================================================================================================================================================================================================================================================================================================================================================================================================================================================================================================================================================================================================================================================================================================================================================================================================================================================================================================================================================================================================================================================================================================================================================================================================================================================================================================================================================================================================================================================================================================================================================================================================================================================================================================================================================================================================================================================================================================================================================================================================================================================================================================================================================================================================================================================================================================================================================================================================================================================================================================================================================================================================================================================================================================================================================================================================================================================================================================================================================================================================================================================================================================================================================================================================================================================================================================================================================================================================================================================================================================================================================================================================================================================================================================================================================================================================================================================================================================================================================================================================================================================================================================================================================================================================================================================================================================================================================================================================================================================================================================================================================================================================================================================================================================================================================================================================================================================================================================================================================================================================================================================================================================================================================================================================================================================================================================================================================================================================================================================================================================================================================================================================================================================================================================================================================================================================================================================================================================================================================================================================================================================================================================================================================================================================================================================================================================================================================================================================================================================================================================================================================================================================================================================================================================================================================================================================================================================================================================================================================================================================================================================================================================================================================================================================================================================================================================================================================================================================================================================================================================================================================================================================================================================================================================================================================================================================================================================================================================================================================================================================================================================================================================================================================================================================================================================================================================================================================================================================================================================================================================================================================================================================================================================================================================================================================================================================================================================================================================================================================================================================================================================================================================================================================================================================================================================================================================================================================================================================================================================================================================================================================================================================================================================================================================================================================================================================================================================================================================================================================================================================================================================================================================================================================================================================================================================================================================================================================================================================================================================================================================================================================================================================================================================================================================================================================================================================================================================================================================================================================================================================================================================================================================================================================================================================================================================================================================================================================================================================================================================================================================================================================================================================================================================================================================================================================================================================================================================================================================================================================================================================================================================================================================================================================================================================================================================================================================================================================================================================================================================================================================================================================================================================================================================================================================================================================================================================================================================================================================================================================================================================================================================================================================================================================================================================================================================================================================================================================================================================================================================================================================================================================================================================================================================================================================================================================================================================================================================================================================================================================================================================================================================================================================================================================================================================================================================================================================================================================================================================================================================================================================================================================================================================================================================================================================================================================================================================================================================================================================================================================================================================================================================================================================================================================================================================================================================================================================================================================================================================================================================================================================================================================================================================================================================================================================================================================================================================================================================================================================================================================================================================================================================================================================================================================================================================================================================================================================================================================================================================================================================================================================================================================================================================================================================================================================================================================================================================================================================================================================================================================================================================================================================================================================================================================================================================================================================================================================================================================================================================================================================================================================================================================================================================================================================================================================================================================================================================================================================================================================================================================================================================================================================================================================================================================================================================================================================================================================================================================================================================================================================================================================================================================================================================================================================================================================================================================================================================================================================================================================================================================================================================================================================================================================================================================================================================================================================================================================================================================================================================================================================================================================================================================================================================================================================================================================================================================================================================================================================================================================================================================================================================================================================================================================================================================================================================================================================================================================================================================================================================================================================================================================================================================================================================================================================================================================================================================================================================================================================================================================================================================================================================================================================================================================================================================================================================================================================================================================================================================================================================================================================================================================================================================================================================================================================================================================================================================================================================================================================================================================================================================================================================================================================================================================================================================================================================================================================================================================================================================================================================================================================================================================================================================================================================================================================================================================================================================================================================================================================================================================================================================================================================================================================================================================================================================================================================================================================================================================================================================================================================================================================================================================================================================================================================================================================================================================================================================================================================================================================================================================================================================================================================================================================================================================================================================================================================================================================================================================================================================================================================================================================================================================================================================================================================================================================================================================================================================================================================================================================================================================================================================================================================================================================================================================================================================================================================================================================================================================================================================================================================================================================================================================================================================================================================================================================================================================================================================================================================================================================================================================================================================================================================================================================================================================================================================================================================================================================================================================================================================================================================================================================================================================================================================================================================================================================================================================================================================================================================================================================================================================================================================================================================================================================================================================================================================================================================================================================================================================================================================================================================================================================================================================================================================================================================================================================================================================================================================================================================================================================================================================================================================================================================================================================================================================================================================================================================================================================================================================================================================================================================================================================================================================================================================================================================================================================================================================================================================================================================================================================================================================================================================================================================================================================================================================================================================================================================================================================================================================================================================================================================================================================================================================================================================================================================================================================================================================================================================================================================================================================================================================================================================================================================================================================================================================================================================================================================================================================================================================================================================================================================================================================================================================================================================================================================================================================================================================================================================================================================================================================================================================================================================================================================================================================================================================================================================================================================================================================================================================================================================================================================================================================================================================================================================================================================================================================================================================================================================================================================================================================================================================================================================================================================================================================================================================================================================================================================================================================================================================================================================================================================================================================================================================================================================================================================================================================================================================================================================================================================================================================================================================================================================================================================================================================================================================================================================================================================================================================================================================================================================================================================================================================================================================================================================================================================================================================================================================================================================================================================================================================================================================================================================================================================================================================================================================================================================================================================================================================================================================================================================================================================================================================================================================================================================================================================================================================================================================================================================================================================================================================================================================================================================================================================================================================================================================================================================================================================================================================================================================================================================================================================================================================================================================================================================================================================================================================================================================================================================================================================================================================================================================================================================================================================================================================================================================================================================================================================================================================================================================================================================================================================================================================================================================================================================================================================================================================================================================================================================================================================================================================================================================================================================================================================================================================================================================================================================================================================================================================================================================================================================================================================================================================================================================================================================================================================================================================================================================================================================================================================================================================================================================================================================================================================================================================================================================================================================================================================================================================================================================================================================================================================================================================================================================================================================================================================================================================================================================================================================================================================================================================================================================================================================================================================================================================================================================================================================================================================================================================================================================================================================================================================================================================================================================================================================================================================================================================================================================================================================================================================================================================================================================================================================================================================================================================================================================================================================================================================================================================================================================================================================================================================================================================================================================================================================================================================================================================================================================================================================================================================================================================================================================================================================================================================================================================================================================================================================================================================================================================================================================================================================================================================================================================================================================================================================================================================================================================================================================================================================================================================================================================================================================================================================================================================================================================================================================================================================================================================================================================================================================================================================================================================================================================================================================================================================================================================================================================================================================================================================================================================================================================================================================================================================================================================================================================================================================================================================================================================================================================================================================================================================================================================================================================================================================================================================================================================================================================================================================================================================================================================================================================================================================================================================================================================================================================================================================================================================================================================================================================================================================================================================================================================================================================================================================================================================================================================================================================================================================================================================================================================================================================================================================================================================================================================================================================================================================================================================================================================================================================================================================================================================================================================================================================================================================================================================================================================================================================================================================================================================================================================================================================================================================================================================================================================================================================================================================================================================================================================================================================================================================================================================================================================================================================================================================================================================================================================================================================================================================================================================================================================================================================================================================================================================================================================================================================================================================================================================================================================================================================================================================================================================================================================================================================================================================================================================================================================================================================================================================================================================================================================================================================================================================================================================================================================================================================================================================================================================================================================================================================================================================================================================================================================================================================================================================================================================================================================================================================================================================================================================================================================================================================================================================================================================================================================================================================================================================================================================================================================================================================================================================================================================================================================================================================================================================================================================================================================================================================================================================================================================================================================================================================================================================================================================================================================================================================================================================================================================================================================================================================================================================================================================================================================================================================================================================================================================================================================================================================================================================================================================================================================================================================================================================================================================================================================================================================================================================================================================================================================================================================================================================================================================================================================================================================================================================================================================================================================================================================================================================================================================================================================================================================================================================================================================================================================================================================================================================================================================================================================================================================================================================================================================================================================================================================================================================================================================================================================================================================================================================================================================================================================================================================================================================================================================================================================================================================================================================================================================================================================================================================================================================================================================================================================================================================================================================================================================================================================================================================================================================================================================================================================================================================================================================================================================================================================================================================================================================================================================================================================================================================================================================================================================================================================================================================================================================================================================================================================================================================================================================================================================================================================================================================================================================================================================================================================================================================================================================================================================================================================================================================================================================================================================================================================================================================================================================================================================================================================================================================================================================================================================================================================================================================================================================================================================================================================================================================================================================================================================================================================================================================================================================================================================================================================================================================================================================================================================================================================================================================================================================================================================================================================================================================================================================================================================================================================================================================================================================================================================================================================================================================================================================================================================================================================================================================================================================================================================================================================================================================================================================================================================================================================================================================================================================================================================================================================================================================================================================================================================================================================================================================================================================================================================================================================================================================================================================================================================================================================================================================================================================================================================================================================================================================================================================================================================================================================================================================================================================================================================================================================================================================================================================================================================================================================================================================================================================================================================================================================================================================================================================================================================================================================================================================================================================================================================================================================================================================================================================================================================================================================================================================================================================================================================================================================================================================================================================================================================================================================================================================================================================================================================================================================================================================================================================================================================================================================================================================================================================================================================================================================================================================================================================================================================================================================================================================================================================================================================================================================================================================================================================================================================================================================================================================================================================================================================================================================================================================================================================================================================================================================================================================================================================================================================================================================================================================================================================================================================================================================================================================================================================================================================================================================================================================================================================================================================================================================================================================================================================================================================================================================================================================================================================================================================================================================================================================================================================================================================================================================================================================================================================================================================================================================================================================================================================================================================================================================================================================================================================================================================================================================================================================================================================================================================================================================================================================================================================================================================================================================================================================================================================================================================================================================================================================================================================================================================================================================================================================================================================================================================================================================================================================================================================================================================================================================================================================================================================================================================================================================================================================================================================================================================================================================================================================================================================================================================================================================================================================================================================================================================================================================================================================================================================================================================================================================================================================================================================================================================================================================================================================================================================================================================================================================================================================================================================================================================================================================================================================================================================================================================================================================================================================================================================================================================================================================================================================================================================================================================================================================================================================================================================================================================================================================================================================================================================================================================================================================================================================================================================================================================================================================================================================================================================================================================================================================================================================================================================================================================================================================================================================================================================================================================================================================================================================================================================================================================================================================================================================================================================================================================================================================================================================================================================================================================================================================================================================================================================================================================================================================================================================================================================================================================================================================================================================================================================================================================================================================================================================================================================================================================================================================================================================================================================================================================================================================================================================================================================================================================================================================================================================================================================================================================================================================================================================================================================================================================================================================================================================================================================================================================================================================================================================================================================================================================================================================================================================================================================================================================================================================================================================================================================================================================================================================================================================================================================================================================================================================================================================================================================================================================================================================================================================================================================================================================================================================================================================================================================================================================================================================================================================================================================================================================================================================================================================================================================================================================================================================================================================================================================================================================================================================================================================================================================================================================================================================================================================================================================================================================================================================================================================================================================================================================================================================================================================================================================================================================================================================================================================================================================================================================================================================================================================================================================================================================================================================================================================================================================================================================================================================================================================================================================================================================================================================================================================================================================================================================================================================================================================================================================================================================================================================================================================================================================================================================================================================================================================================================================================================================================================================================================================================================================================================================================================================================================================================================================================================================================================================================================================================================================================================================================================================================================================================================================================================================================================================================================================================================================================================================================================================================================================================================================================================================================================================================================================================================================================================================================================================================================================================================================================================================================================================================================================================================================================================================================================================================================================================================================================================================================================================================================================================================================================================================================================================================================================================================================================================================================================================================================================================================================================================================================================================================================================================================================================================================================================================================================================================================================================================================================================================================================================================================================================================================================================================================================================================================================================================================================================================================================================================================================================================================================================================================================================================================================================================================================================================================================================================================================================================================================================================================================================================================================================================================================================================================================================================================================================================================================================================================================================================================================================================================================================================================================================================================================================================================================================================================================================================================================================================================================================================================================================================================================================================================================================================================================================================================================================================================================================================================================================================================================================================================================================================================================================================================================================================================================================================================================================================================================================================================================================================================================================================================================================================================================================================================================================================================================================================================================================================================================================================================================================================================================================================================================================================================================================================================================================================================================================================================================================================================================================================================================================================================================================================================================================================================================================================================================================================================================================================================================================================================================================================================================================================================================================================================================================================================================================================================================================================================================================================================================================================================================================================================================================================================================================================================================================================================================================================================================================================================================================================================================================================================================================================================================================================================================================================================================================================================================================================================================================================================================================================================================================================================================================================================================================================================================================================================================================================================================================================================================================================================================================================================================================================================================================================================================================================================================================================================================================================================================================================================================================================================================================================================================================================================================================================================================================================================================================================================================================================================================================================================================================================================================================================================================================================================================================================================================================================================================================================================================================================================================================================================================================================================================================================================================================================================================================================================================================================================================================================================================================================================================================================================================================================================================================================================================================================================================================================================================================================================================================================================================================================================================================================================================================================================================================================================================================================================================================================================================================================================================================================================================================================================================================================================================================================================================================================================================================================================================================================================================================================================================================================================================================================================================================================================================================================================================================================================================================================================================================================================================================================================================================================================================================================================================================================================================================================================================================================================================================================================================================================================================================================================================================================================================================================================================================================================================================================================================================================================================================================================================================================================================================================================================================================================================================================================================================================================================================================================================================================================================================================================================================================================================================================================================================================================================================================================================================================================================================================================================================================================================================================================================================================================================================================================================================================================================================================================================================================================================================================================================================================================================================================================================================================================================================================================================================================================================================================================================================================================================================================================================================================================================================================================================================================================================================================================================================================================================================================================================================================================================================================================================================================================================================================================================================================================================================================================================================================================================================================================================================================================================================================================================================================================================================================================================================================================================================================================================================================================================================================================================================================================================================================================================================================================================================================================================================================================================================================================================================================================================================================================================================================================================================================================================================================================================================================================================================================================================================================================================================================================================================================================================================================================================================================================================================================================================================================================================================================================================================================================================================================================================================================================================================================================================================================================================================================================================================================================================================================================================================================================================================================================================================================================================================================================================================================================================================================================================================================================================================================================================================================================================================================================================================================================================================================================================================================================================================================================================================================================================================================================================================================================================================================================================================================================================================================================================================================================================================================================================================================================================================================================================================================================================================================================================================================================================================================================================================================================================================================================================================================================================================================================================================================================================================================================================================================================================================================================================================================================================================================================================================================================================================================================================================================================================================================================================================================================================================================================================================================================================================================================================================================================================================================================================================================================================================================================================================================================================================================================================================================================================================================================================================================================================================================================================================================================================================================================================================================================================================================================================================================================================================================================================================================================================================================================================================================================================================================================================================================================================================================================================================================================================================================================================================================================================================================================================================================================================================================================================================================================================================================================================================================================================================================================================================================================================================================================================================================================================================================================================================================================================================================================================================================================================================================================================================================================================================================================================================================================================================================================================================================================================================================================================================================================================================================================================================================================================================================================================================================================================================================================================================================================================================================================================================================================================================================================================================================================================================================================================================================================================================================================================================================================================================================================================================================================================================================================================================================================================================================================================================================================================================================================================================================================================================================================================================================================================================================================================================================================================================================================================================================================================================================================================================================================================================================================================================================================================================================================================================================================================================================================================================================================================================================================================================================================================================================================================================================================================================================================================================================================================================================================================================================================================================================================================================================================================================================================================================================================================================================================================================================================================================================================================================================================================================================================================================================================================================================================================================================================================================================================================================================================================================================================================================================================================================================================================================================================================================================================================================================================================================================================================================================================================================================================================================================================================================================================================================================================================================================================================================================================================================================================================================================================================================================================================================================================================================================================================================================================================================================================================================================================================================================================================================================================================================================================================================================================================================================================================================================================================================================================================================================================================================================================================================================================================================================================================================================================================================================================================================================================================================================================================================================================================================================================================================================================================================================================================================================================================================================================================================================================================================================================================================================================================================================================================================================================================================================================================================================================================================================================================================================================================================================================================================================================================================================================================================================================================================================================================================================================================================================================================================================================================================================================================================================================================================================================================================================================================================================================================================================================================================================================================================================================================================================================================================================================================================================================================================================================================================================================================================================================================================================================================================================================================================================================================================================================================================================================================================================================================================================================================================================================================================================================================================================================================================================================================================================================================================================================================================================================================================================================================================================================================================================================================================================================================================================================================================================================================================================================================================================================================================================================================================================================================================================================================================================================================================================================================================================================================================================================================================================================================================================================================================================================================================================================================================================================================================================================================================================================================================================================================================================================================================================================================================================================================================================================================================================================================================================================================================================================================================================================================================================================================================================================================================================================================================================================================================================================================================================================================================================================================================================================================================================================================================================================================================================================================================================================================================================================================================================================================================================================================================================================================================================================================================================================================================================================================================================================================================================================================================================================================================================================================================================================================================================================================================================================================================================================================================================================================================================================================================================================================================================================================================================================================================================================================================================================================================================================================================================================================================================================================================================================================================================================================================================================================================================================================================================================================================================================================================================================================================================================================================================================================================================================================================================================================================================================================================================================================================================================================================================================================================================================================================================================================================================================================================================================================================================================================================================================================================================================================================================================================================================================================================================================================================================================================================================================================================================================================================================================================================================================================================================================================================================================================================================================================================================================================================================================================================================================================================================================================================================================================================================================================================================================================================================================================================================================================================================================================================================================================================================================================================================================================================================================================================================================================================================================================================================================================================================================================================================================================================================================================================================================================================================================================================================================================================================================================================================================================================================================================================================================================================================================================================================================================================================================================================================================================================================================================================================================================================================================================================================================================================================================================================================================================================================================================================================================================================================================================================================================================================================================================================================================================================================================================================================================================================================================================================================================================================================================================================================================================================================================================================================================================================================================================================================================================================================================================================================================================================================================================================================================================================================================================================================================================================================================================================================================================================================================================================================================================================================================================================================================================================================================================================================================================================================================================================================================================================================================================================================================================================================================================================================================================================================================================================================================================================================================================================================================================================================================================================================================================================================================================================================================================================================================================================================================================================================================================================================================================================================================================================================================================================================================================================================================================================================================================================================================================================================================================================================================================================================================================================================================================================================================================================================================================================================================================================================================================================================================================================================================================================================================================================================================================================================================================================================================================================================================================================================================================================================================================================================================================================================================================================================================================================================================================================================================================================================================================================================================================================================================================================================================================================================================================================================================================================================================================================================================================================================================================================================================================================================================================================================================================================================================================================================================================================================================================================================================================================================================================================================================================================================================================================================================================================================================================================================================================================================================================================================================================================================================================================================================================================================================================================================================================================================================================================================================================================================================================================================================================================================================================================================================================================================================================================================================================================================================================================================================================================================================================================================================================================================================================================================================================================================================================================================================================================================================================================================================================================================================================================================================================================================================================================================================================================================================================================================================================================================================================================================================================================================================================================================================================================================================================================================================================================================================================================================================================================================================================================================================================================================================================================================================================================================================================================================================================================================================================================================================================================================================================================================================================================================================================================================================================================================================================================================================================================================================================================================================================================================================================================================================================================================================================================================================================================================================================================================================================================================================================================================================================================================================================================================================================================================================================================================================================================================================================================================================================================================================================================================================================================================================================================================================================================================================================================================================================================================================================================================================================================================================================================================================================================================================================================================================================================================================================================================================================================================================================================================================================================================================================================================================================================================================================================================================================================================================================================================================================================================================================================================================================================================================================================================================================================================================================================================================================================================================================================================================================================================================================================================================================================================================================================================================================================================================================================================================================================================================================================================================================================================================================================================================================================================================================================================================================================================================================================================================================================================================================================================================================================================================================================================================================================================================================================================================================================================================================================================================================================================================================================================================================================================================================================================================================================================================================================================================================================================================================================================================================================================================================================================================================================================================================================================================================================================================================================================================================================================================================================================================================================================================================================================================================================================================================================================================================================================================================================================================================================================================================================================================================================================================================================================================================================================================================================================================================================================================================================================================================================================================================================================================================================================================================================================================================================================================================================================================================================================================================================================================================================================================================================================================================================================================================================================================================================================================================================================================================================================================================================================================================================================================================================================================================================================================================================================================================================================================================================================================================================================================================================================================================================================================================================================================================================================================================================================================================================================================================================================================================================================================================================================================================================================================================================================================================================================================================================================================================================================================================================================================================================================================================================================================================================================================================================================================================================================================================================================================================================================================================================================================================================================================================================================================================================================================================================================================================================================================================================================================================================================================================================================================================================================================================================================================================================================================================================================================================================================================================================================================================================================================================================================================================================================================================================================================================================================================================================================================================================================================================================================================================================================================================================================================================================================================================================================================================================================================================================================================================================================================================================================================================================================================================================================================================================================================================================================================================================================================================================================================================================================================================================================================================================================================================================================================================================================================================================================================================================================================================================================================================================================================================================================================================================================================================================================================================================================================================================================================================================================================================================================================================================================================================================================================================================================================================================================================================================================================================================================================================================================================================================================================================================================================================================================================================================================================================================================================================================================================================================================================================================================================================================================================================================================================================================================================================================================================================================================================================================================================================================================================================================================================================================================================================================================================================================================================================================================================================================================================================================================================================================================================================================================================================================================================================================================================================================================================================================================================================================================================================================================================================================================================================================================================================================================================================================================================================================================================================================================================================================================================================================================================================================================================================================================================================================================================================================================================================================================================================================================================================================================================================================================================================================================================================================================================================================================================================================================================================================================================================================================================================================================================================================================================================================================================================================================================================================================================================================================================================================================================================================================================================================================================================================================================================================================================================================================================================================================================================================================================================================================================================================================================================================================================================================================================================================================================================================================================================================================================================================================================================================================================================================================================================================================================================================================================================================================================================================================================================================================================================================================================================================================================================================================================================================================================================================================================================================================================================================================================================================================================================================================================================================================================================================================================================================================================================================================================================================================================================================================================================================================================================================================================================================================================================================================================================================================================================================================================================================================================================================================================================================================================================================================================================================================================================================================================================================================================================================================================================================================================================================================================================================================================================================================================================================================================================================================================================================================================================================================================================================================================================================================================================================================================================================================================================================================================================================================================================================================================================================================================================================================================================================================================================================================================================================================================================================================================================================================================================================================================================================================================================================================================================================================================================================================================================================================================================================================================================================================================================================================================================================================================================================================================================================================================================================================================================================================================================================================================================================================================================================================================================================================================================================================================================================================================================================================================================================================================================================================================================================================================================================================================================================================================================================================================================================================================================================================================================================================================================================================================================================================================================================================================================================================================================================================================================================================================================================================================================================================================================================================================================================================================================================================================================================================================================================================================================================================================================================================================================================================================================================================================================================================================================================================================================================================================================================================================================================================================================================================================================================================================================================================================================================================================================================================================================================================================================================================================================================================================================================================================================================================================================================================================================================================================================================================================================================================================================================================================================================================================================================================================================================================================================================================================================================================================================================================================================================================================================================================================================================================================================================================================================================================================================================================================================================================================================================================================================================================================================================================================================================================================================================================================================================================================================================================================================================================================================================================================================================================================================================================================================================================================================================================================================================================================================================================================================================================================================================================================================================================================================================================================================================================================================================================================================================================================================================================================================================================================================================================================================================================================================================================================================================================================================================================================================================================================================================================================================================================================================================================================================================================================================================================================================================================================================================================================================================================================================================================================================================================================================================================================================================================================================================================================================================================================================================================================================================================================================================================================================================================================================================================================================================================================================================================================================================================================================================================================================================================================================================================================================================================================================================================================================================================================================================================================================================================================================================================================================================================================================================================================================================================================================================================================================================================================================================================================================================================================================================================================================================================================================================================================================================================================================================================================================================================================================================================================================================================================================================================================================================================================================================================================================================================================================================================================================================================================================================================================================================================================================================================================================================================================================================================================================================================================================================================================================================================================================================================================================================================================================================================================================================================================================================================================================================================================================================================================================================================================================================================================================================================================================================================================================================================================================================================================================================================================================================================================================================================================================================================================================================================================================================================================================================================================================================================================================================================================================================================================================================================================================================================================================================================================================================================================================================================================================================================================================================================================================================================================================================================================================================================================================================================================================================================================================================================================================================================================================================================================================================================================================================================================================================================================================================================================================================================================================================================================================================================================================================================================================================================================================================================================================================================================================================================================================================================================================================================================================================================================================================================================================================================================================================================================================================================================================================================================================================================================================================================================================================================================================================================================================================================================================================================================================================================================================================================================================================================================================================================================================================================================================================================================================================================================================================================================================================================================================================================================================================================================================================================================================================================================================================================================================================================================================================================================================================================================================================================================================================================================================================================================================================================================================================================================================================================================================================================================================================================================================================================================================================================================================================================================================================================================================================================================================================================================================================================================================================================================================================================================================================================================================================================================================================================================================================================================================================================================================================================================================================================================================================================================================================================================================================================================================================================================================================================================================================================================================================================================================================================================================================================================================================================================================================================================================================================================================================================================================================================================================================================================================================================================================================================================================================================================================================================================================================================================================================================================================================================================================================================================================================================================================================================================================================================================================================================================================================================================================================================================================================================================================================================================================================================================================================================================================================================================================================================================================================================================================================================================================================================================================================================================================================================================================================================================================================================================================================================================================================================================================================================================================================================================================================================================================================================================================================================================================================================================================================================================================================================================================================================================================================================================================================================================================================================================================================================================================================================================================================================================================================================================================================================================================================================================================================================================================================================================================================================================================================================================================================================================================================================================================================================================================================================================================================================================================================================================================================================================================================================================================================================================================================================================================================================================================================================================================================================================================================================================================================================================================================================================================================================================================================================================================================================================================================================================================================================================================================================================================================================================================================================================================================================================================================================================================================================================================================================================================================================================================================================================================================================================================================================================================================================================================================================================================================================================================================================================================================================================================================================================================================================================================================================================================================================================================================================================================================================================================================================================================================================================================================================================================================================================================================================================================================================================================================================================================================================================================================================================================================================================================================================================================================================================================================================================================================================================================================================================================================================================================================================================================================================================================================================================================================================================================================================================================================================================================================================================================================================================================================================================================================================================================================================================================================================================================================================================================================================================================================================================================================================================================================================================================================================================================================================================================================================================================================================================================================================================================================================================================================================================================================================================================================================================================================================================================================================================================================================================================================================================================================================================================================================================================================================================================================================================================================================================================================================================================================================================================================================================================================================================================================================================================================================================================================================================================================================================================================================================================================================================================================================================================================================================================================================================================================================================================================================================================================================================================================================================================================================================================================================================================================================================================================================================================================================================================================================================================================================================================================================================================================================================================================================================================================================================================================================================================================================================================================================================================================================================================================================================================================================================================================================================================================================================================================================================================================================================================================================================================================================================================================================================================================================================================================================================================================================================================================================================================================================================================================================================================================================================================================================================================================================================================================================================================================================================================================================================================================================================================================================================================================================================================================================================================================================================================================================================================================================================================================================================================================================================================================================================================================================================================================================================================================================================================================================================================================================================================================================================================================================================================================================================================================================================================================================================================================================================================================================================================================================================================================================================================================================================================================================================================================================================================================================================================================================================================================================================================================================================================================================================================================================================================================================================================================================================================================================================================================================================================================================================================================================================================================================================================================================================================================================================================================================================================================================================================================================================================================================================================================================================================================================================================================================================================================================================================================================================================================================================================================================================================================================================================================================================================================================================================================================================================================================================================================================================================================================================================================================================================================================================================================================================================================================================================================================================================================================================================================================================================================================================================================================================================================================================================================================================================================================================================================================================================================================================================================================================================================================================================================================================================================================================================================================================================================================================================================================================================================================================================================================================================================================================================================================================================================================================================================================================================================================================================================================================================================================================================================================================================================================================================================================================================================================================================================================================================================================================================================================================================================================================================================================================================================================================================================================================================================================================================================================================================================================================================================================================================================================================================================================================================================================================================================================================================================================================================================================================================================================================================================================================================================================================================================================================================================================================================================================================================================================================================================================================================================================================================================================================================================================================================================================================================================================================================================================================================================================================================================================================================================================================================================================================================================================================================================================================================================================================================================================================================================================================================================================================================================================================================================================================================================================================================================================================================================================================================================================================================================================================================================================================================================================================================================================================================================================================================================================================================================================================================================================================================================================================================================================================================================================================================================================================================================================================================================================================================================================================================================================================================================================================================================================================================================================================================================================================================================================================================================================================================================================================================================================================================================================================================================================================================================================================================================================================================================================================================================================================================================================================================================================================================================================================================================================================================================================================================================================================================================================================================================================================================================================================================================================================================================================================================================================================================================================================================================================================================================================================================================================================================================================================================================================================================================================================================================================================================================================================================================================================================================================================================================================================================================================================================================]"
     ]
    },
    {
     "name": "stdout",
     "output_type": "stream",
     "text": [
      " - 0s 39us/sample - loss: 3.6379e-04 - mean_squared_error: 3.3223e-04\n",
      "0.0003322295\n"
     ]
    }
   ],
   "source": [
    "file_path = '/Users/jackkelly/Desktop/Building_Model/Data/40_channels_data_10000.csv'\n",
    "X_test, Y_test = processing_data(N_channels, file_path)\n",
    "eval_result = hypermodel.evaluate(X_test, Y_test)[1]\n",
    "print(eval_result)"
   ]
  },
  {
   "cell_type": "code",
   "execution_count": 27,
   "metadata": {},
   "outputs": [
    {
     "data": {
      "image/png": "[encoded data removed]",
      "text/plain": [
       "<Figure size 432x288 with 1 Axes>"
      ]
     },
     "metadata": {
      "needs_background": "light"
     },
     "output_type": "display_data"
    }
   ],
   "source": [
    "def visualising_data(hist, name):\n",
    "    plt.title('Tuned ANN')\n",
    "    plt.plot(hist.history['mean_squared_error'], label='Train')\n",
    "    plt.plot(hist.history['val_mean_squared_error'], label='Validation')\n",
    "    plt.ylabel('MSE')\n",
    "    plt.xlabel('Epoch')\n",
    "    plt.legend()\n",
    "    plt.savefig(name)\n",
    "    plt.show()\n",
    "visualising_data(hypermodel_hist, '/Users/jackkelly/Desktop/Building_Model/Figures/hypermodel_results.png')"
   ]
  },
  {
   "cell_type": "code",
   "execution_count": 10,
   "metadata": {},
   "outputs": [
    {
     "name": "stdout",
     "output_type": "stream",
     "text": [
      "Model: \"sequential\"\n",
      "_________________________________________________________________\n",
      "Layer (type)                 Output Shape              Param #   \n",
      "=================================================================\n",
      "dense (Dense)                (None, 204)               8568      \n",
      "_________________________________________________________________\n",
      "dense_1 (Dense)              (None, 40)                8200      \n",
      "=================================================================\n",
      "Total params: 16,768\n",
      "Trainable params: 16,768\n",
      "Non-trainable params: 0\n",
      "_________________________________________________________________\n"
     ]
    }
   ],
   "source": [
    "# shows weights of the ANN\n",
    "# hypermodel.weights\n",
    "hypermodel.summary()\n",
    "# print(hypermodel.metrics_names)"
   ]
  },
  {
   "cell_type": "code",
   "execution_count": 11,
   "metadata": {},
   "outputs": [],
   "source": [
    "# INSERT SOMETHING THAT CALCUALTES ALL MEAN SQUARED ERRORS AND PLOTS ON CDF GRAPH"
   ]
  },
  {
   "cell_type": "code",
   "execution_count": 12,
   "metadata": {},
   "outputs": [],
   "source": [
    "# best_hps.__dict__.keys()\n",
    "# best_hps.__dict__['values']\n",
    "hypermodel.save('/Users/jackkelly/Desktop/Building_Model/Tuned_' + str(N_channels) + '_channels_ANN_model_v2.h5')"
   ]
  },
  {
   "cell_type": "markdown",
   "metadata": {},
   "source": [
    "# Transfer Learning"
   ]
  },
  {
   "cell_type": "code",
   "execution_count": 13,
   "metadata": {},
   "outputs": [],
   "source": [
    "def transfer_learning(model_path):\n",
    "    hypermodel = keras.models.load_model(model_path)\n",
    "    hypermodel.summary()\n",
    "    model = tf.keras.Sequential()\n",
    "    for layer in hypermodel.layers[:-1]: # go through until last layer\n",
    "        layer.trainable=False\n",
    "        model.add(layer)\n",
    "    model.add(keras.layers.Dense(40, activation='sigmoid'))\n",
    "    model.summary()\n",
    "\n",
    "    model.compile(optimizer='adam', loss=keras.losses.MeanSquaredError(), metrics=['mean_squared_error'])\n",
    "    return model"
   ]
  },
  {
   "cell_type": "code",
   "execution_count": 14,
   "metadata": {},
   "outputs": [],
   "source": [
    "# hypermodel = keras.models.load_model('Tuned_' + str(N_channels) + '_channels_ANN_model.h5')"
   ]
  },
  {
   "cell_type": "code",
   "execution_count": 15,
   "metadata": {},
   "outputs": [],
   "source": [
    "# hypermodel.summary()"
   ]
  },
  {
   "cell_type": "code",
   "execution_count": 16,
   "metadata": {},
   "outputs": [],
   "source": [
    "# model = tf.keras.Sequential()\n",
    "# for layer in hypermodel.layers[:-1]: # go through until last layer\n",
    "#     layer.trainable=False\n",
    "#     model.add(layer)\n",
    "# model.add(keras.layers.Dense(40, activation='sigmoid'))\n",
    "# model.summary()\n",
    "\n",
    "# model.compile(optimizer='adam', loss=keras.losses.MeanSquaredError(), metrics=['mean_squared_error'])"
   ]
  },
  {
   "cell_type": "code",
   "execution_count": 17,
   "metadata": {},
   "outputs": [
    {
     "name": "stdout",
     "output_type": "stream",
     "text": [
      "Model: \"sequential\"\n",
      "_________________________________________________________________\n",
      "Layer (type)                 Output Shape              Param #   \n",
      "=================================================================\n",
      "dense (Dense)                (None, 204)               8568      \n",
      "_________________________________________________________________\n",
      "dense_1 (Dense)              (None, 40)                8200      \n",
      "=================================================================\n",
      "Total params: 16,768\n",
      "Trainable params: 16,768\n",
      "Non-trainable params: 0\n",
      "_________________________________________________________________\n",
      "Model: \"sequential_1\"\n",
      "_________________________________________________________________\n",
      "Layer (type)                 Output Shape              Param #   \n",
      "=================================================================\n",
      "dense (Dense)                (None, 204)               8568      \n",
      "_________________________________________________________________\n",
      "dense_2 (Dense)              (None, 40)                8200      \n",
      "=================================================================\n",
      "Total params: 16,768\n",
      "Trainable params: 8,200\n",
      "Non-trainable params: 8,568\n",
      "_________________________________________________________________\n"
     ]
    }
   ],
   "source": [
    "model = transfer_learning('Tuned_' + str(N_channels) + '_channels_ANN_model_v2.h5')\n",
    "N_channels = 40\n",
    "file_path = '/Users/jackkelly/Desktop/Building_Model/Data/40_channels_data_variedlengths_10000.csv'\n",
    "X_scale, Y_scale = processing_data(N_channels, file_path)\n",
    "X_train, X_val_and_test, Y_train, Y_val_and_test = train_test_split(X_scale, Y_scale, test_size=0.3)\n",
    "X_val, X_test, Y_val, Y_test = train_test_split(X_val_and_test, Y_val_and_test, test_size=0.5)"
   ]
  },
  {
   "cell_type": "code",
   "execution_count": 18,
   "metadata": {},
   "outputs": [
    {
     "name": "stdout",
     "output_type": "stream",
     "text": [
      "Train on 7000 samples, validate on 1500 samples\n",
      "Epoch 1/40\n",
      "7000/7000 [==============================] - ETA: 1:18 - loss: 0.2077 - mean_squared_error: 0.20 - ETA: 3s - loss: 0.1731 - mean_squared_error: 0.1730 - ETA: 1s - loss: 0.1585 - mean_squared_error: 0.15 - ETA: 0s - loss: 0.1483 - mean_squared_error: 0.14 - ETA: 0s - loss: 0.1405 - mean_squared_error: 0.14 - ETA: 0s - loss: 0.1324 - mean_squared_error: 0.13 - ETA: 0s - loss: 0.1254 - mean_squared_error: 0.12 - ETA: 0s - loss: 0.1185 - mean_squared_error: 0.11 - 1s 166us/sample - loss: 0.1149 - mean_squared_error: 0.1148 - val_loss: 0.0686 - val_mean_squared_error: 0.0685\n",
      "Epoch 2/40\n",
      "7000/7000 [==============================] - ETA: 0s - loss: 0.0718 - mean_squared_error: 0.07 - ETA: 0s - loss: 0.0633 - mean_squared_error: 0.06 - ETA: 0s - loss: 0.0607 - mean_squared_error: 0.06 - ETA: 0s - loss: 0.0571 - mean_squared_error: 0.05 - ETA: 0s - loss: 0.0540 - mean_squared_error: 0.05 - ETA: 0s - loss: 0.0511 - mean_squared_error: 0.05 - ETA: 0s - loss: 0.0501 - mean_squared_error: 0.05 - ETA: 0s - loss: 0.0477 - mean_squared_error: 0.04 - ETA: 0s - loss: 0.0454 - mean_squared_error: 0.04 - 1s 77us/sample - loss: 0.0441 - mean_squared_error: 0.0440 - val_loss: 0.0272 - val_mean_squared_error: 0.0271\n",
      "Epoch 3/40\n",
      "7000/7000 [==============================] - ETA: 0s - loss: 0.0280 - mean_squared_error: 0.02 - ETA: 0s - loss: 0.0256 - mean_squared_error: 0.02 - ETA: 0s - loss: 0.0245 - mean_squared_error: 0.02 - ETA: 0s - loss: 0.0234 - mean_squared_error: 0.02 - ETA: 0s - loss: 0.0224 - mean_squared_error: 0.02 - ETA: 0s - loss: 0.0215 - mean_squared_error: 0.02 - ETA: 0s - loss: 0.0206 - mean_squared_error: 0.02 - ETA: 0s - loss: 0.0198 - mean_squared_error: 0.01 - ETA: 0s - loss: 0.0190 - mean_squared_error: 0.01 - 1s 76us/sample - loss: 0.0188 - mean_squared_error: 0.0187 - val_loss: 0.0130 - val_mean_squared_error: 0.0129\n",
      "Epoch 4/40\n",
      "7000/7000 [==============================] - ETA: 0s - loss: 0.0126 - mean_squared_error: 0.01 - ETA: 0s - loss: 0.0127 - mean_squared_error: 0.01 - ETA: 0s - loss: 0.0120 - mean_squared_error: 0.01 - ETA: 0s - loss: 0.0116 - mean_squared_error: 0.01 - ETA: 0s - loss: 0.0111 - mean_squared_error: 0.01 - ETA: 0s - loss: 0.0107 - mean_squared_error: 0.01 - ETA: 0s - loss: 0.0103 - mean_squared_error: 0.01 - ETA: 0s - loss: 0.0100 - mean_squared_error: 0.00 - ETA: 0s - loss: 0.0097 - mean_squared_error: 0.00 - 1s 78us/sample - loss: 0.0096 - mean_squared_error: 0.0095 - val_loss: 0.0072 - val_mean_squared_error: 0.0071\n",
      "Epoch 5/40\n",
      "7000/7000 [==============================] - ETA: 0s - loss: 0.0081 - mean_squared_error: 0.00 - ETA: 0s - loss: 0.0068 - mean_squared_error: 0.00 - ETA: 0s - loss: 0.0067 - mean_squared_error: 0.00 - ETA: 0s - loss: 0.0065 - mean_squared_error: 0.00 - ETA: 0s - loss: 0.0063 - mean_squared_error: 0.00 - ETA: 0s - loss: 0.0061 - mean_squared_error: 0.00 - ETA: 0s - loss: 0.0059 - mean_squared_error: 0.00 - ETA: 0s - loss: 0.0057 - mean_squared_error: 0.00 - ETA: 0s - loss: 0.0056 - mean_squared_error: 0.00 - 1s 80us/sample - loss: 0.0056 - mean_squared_error: 0.0055 - val_loss: 0.0044 - val_mean_squared_error: 0.0043\n",
      "Epoch 6/40\n",
      "7000/7000 [==============================] - ETA: 0s - loss: 0.0043 - mean_squared_error: 0.00 - ETA: 0s - loss: 0.0043 - mean_squared_error: 0.00 - ETA: 0s - loss: 0.0041 - mean_squared_error: 0.00 - ETA: 0s - loss: 0.0040 - mean_squared_error: 0.00 - ETA: 0s - loss: 0.0040 - mean_squared_error: 0.00 - ETA: 0s - loss: 0.0039 - mean_squared_error: 0.00 - ETA: 0s - loss: 0.0038 - mean_squared_error: 0.00 - ETA: 0s - loss: 0.0037 - mean_squared_error: 0.00 - ETA: 0s - loss: 0.0036 - mean_squared_error: 0.00 - 1s 79us/sample - loss: 0.0036 - mean_squared_error: 0.0035 - val_loss: 0.0030 - val_mean_squared_error: 0.0029\n",
      "Epoch 7/40\n",
      "7000/7000 [==============================] - ETA: 0s - loss: 0.0036 - mean_squared_error: 0.00 - ETA: 0s - loss: 0.0029 - mean_squared_error: 0.00 - ETA: 0s - loss: 0.0029 - mean_squared_error: 0.00 - ETA: 0s - loss: 0.0028 - mean_squared_error: 0.00 - ETA: 0s - loss: 0.0027 - mean_squared_error: 0.00 - ETA: 0s - loss: 0.0027 - mean_squared_error: 0.00 - ETA: 0s - loss: 0.0026 - mean_squared_error: 0.00 - ETA: 0s - loss: 0.0026 - mean_squared_error: 0.00 - ETA: 0s - loss: 0.0025 - mean_squared_error: 0.00 - ETA: 0s - loss: 0.0025 - mean_squared_error: 0.00 - 1s 85us/sample - loss: 0.0025 - mean_squared_error: 0.0024 - val_loss: 0.0021 - val_mean_squared_error: 0.0020\n",
      "Epoch 8/40\n",
      "7000/7000 [==============================] - ETA: 0s - loss: 0.0023 - mean_squared_error: 0.00 - ETA: 0s - loss: 0.0020 - mean_squared_error: 0.00 - ETA: 0s - loss: 0.0020 - mean_squared_error: 0.00 - ETA: 0s - loss: 0.0020 - mean_squared_error: 0.00 - ETA: 0s - loss: 0.0020 - mean_squared_error: 0.00 - ETA: 0s - loss: 0.0019 - mean_squared_error: 0.00 - ETA: 0s - loss: 0.0019 - mean_squared_error: 0.00 - ETA: 0s - loss: 0.0019 - mean_squared_error: 0.00 - ETA: 0s - loss: 0.0018 - mean_squared_error: 0.00 - ETA: 0s - loss: 0.0018 - mean_squared_error: 0.00 - 1s 87us/sample - loss: 0.0018 - mean_squared_error: 0.0017 - val_loss: 0.0016 - val_mean_squared_error: 0.0015\n",
      "Epoch 9/40\n",
      "7000/7000 [==============================] - ETA: 0s - loss: 0.0014 - mean_squared_error: 0.00 - ETA: 0s - loss: 0.0015 - mean_squared_error: 0.00 - ETA: 0s - loss: 0.0015 - mean_squared_error: 0.00 - ETA: 0s - loss: 0.0015 - mean_squared_error: 0.00 - ETA: 0s - loss: 0.0015 - mean_squared_error: 0.00 - ETA: 0s - loss: 0.0015 - mean_squared_error: 0.00 - ETA: 0s - loss: 0.0015 - mean_squared_error: 0.00 - ETA: 0s - loss: 0.0015 - mean_squared_error: 0.00 - ETA: 0s - loss: 0.0014 - mean_squared_error: 0.00 - ETA: 0s - loss: 0.0014 - mean_squared_error: 0.00 - 1s 88us/sample - loss: 0.0014 - mean_squared_error: 0.0013 - val_loss: 0.0013 - val_mean_squared_error: 0.0012\n",
      "Epoch 10/40\n",
      "7000/7000 [==============================] - ETA: 0s - loss: 0.0011 - mean_squared_error: 0.00 - ETA: 0s - loss: 0.0012 - mean_squared_error: 0.00 - ETA: 0s - loss: 0.0012 - mean_squared_error: 0.00 - ETA: 0s - loss: 0.0012 - mean_squared_error: 0.00 - ETA: 0s - loss: 0.0012 - mean_squared_error: 0.00 - ETA: 0s - loss: 0.0012 - mean_squared_error: 0.00 - ETA: 0s - loss: 0.0012 - mean_squared_error: 0.00 - ETA: 0s - loss: 0.0012 - mean_squared_error: 0.00 - ETA: 0s - loss: 0.0012 - mean_squared_error: 0.00 - ETA: 0s - loss: 0.0011 - mean_squared_error: 0.00 - 1s 86us/sample - loss: 0.0011 - mean_squared_error: 0.0011 - val_loss: 0.0011 - val_mean_squared_error: 9.7608e-04\n",
      "Epoch 11/40\n",
      "7000/7000 [==============================] - ETA: 0s - loss: 0.0012 - mean_squared_error: 0.00 - ETA: 0s - loss: 0.0010 - mean_squared_error: 9.2021e- - ETA: 0s - loss: 0.0010 - mean_squared_error: 9.2674e- - ETA: 0s - loss: 0.0010 - mean_squared_error: 9.2245e- - ETA: 0s - loss: 0.0010 - mean_squared_error: 9.1231e- - ETA: 0s - loss: 9.9753e-04 - mean_squared_error: 8.9991e- - ETA: 0s - loss: 9.9252e-04 - mean_squared_error: 8.9491e- - ETA: 0s - loss: 9.8289e-04 - mean_squared_error: 8.8528e- - ETA: 0s - loss: 9.7469e-04 - mean_squared_error: 8.7707e- - 1s 84us/sample - loss: 9.7079e-04 - mean_squared_error: 8.7317e-04 - val_loss: 9.2161e-04 - val_mean_squared_error: 8.2400e-04\n",
      "Epoch 12/40\n",
      "7000/7000 [==============================] - ETA: 0s - loss: 9.3696e-04 - mean_squared_error: 8.3934e- - ETA: 0s - loss: 9.0453e-04 - mean_squared_error: 8.0692e- - ETA: 0s - loss: 8.8302e-04 - mean_squared_error: 7.8541e- - ETA: 0s - loss: 8.8563e-04 - mean_squared_error: 7.8802e- - ETA: 0s - loss: 8.7707e-04 - mean_squared_error: 7.7945e- - ETA: 0s - loss: 8.6795e-04 - mean_squared_error: 7.7033e- - ETA: 0s - loss: 8.5727e-04 - mean_squared_error: 7.5966e- - ETA: 0s - loss: 8.5324e-04 - mean_squared_error: 7.5563e- - ETA: 0s - loss: 8.5270e-04 - mean_squared_error: 7.5509e- - ETA: 0s - loss: 8.4465e-04 - mean_squared_error: 7.4704e- - 1s 85us/sample - loss: 8.4459e-04 - mean_squared_error: 7.4698e-04 - val_loss: 8.1177e-04 - val_mean_squared_error: 7.1416e-04\n",
      "Epoch 13/40\n"
     ]
    },
    {
     "name": "stdout",
     "output_type": "stream",
     "text": [
      "7000/7000 [==============================] - ETA: 0s - loss: 6.4200e-04 - mean_squared_error: 5.4439e- - ETA: 0s - loss: 7.5946e-04 - mean_squared_error: 6.6184e- - ETA: 0s - loss: 7.5680e-04 - mean_squared_error: 6.5919e- - ETA: 0s - loss: 7.5125e-04 - mean_squared_error: 6.5364e- - ETA: 0s - loss: 7.6296e-04 - mean_squared_error: 6.6534e- - ETA: 0s - loss: 7.6225e-04 - mean_squared_error: 6.6464e- - ETA: 0s - loss: 7.6190e-04 - mean_squared_error: 6.6429e- - ETA: 0s - loss: 7.5846e-04 - mean_squared_error: 6.6085e- - ETA: 0s - loss: 7.5323e-04 - mean_squared_error: 6.5562e- - 1s 79us/sample - loss: 7.5192e-04 - mean_squared_error: 6.5431e-04 - val_loss: 7.2963e-04 - val_mean_squared_error: 6.3202e-04\n",
      "Epoch 14/40\n",
      "7000/7000 [==============================] - ETA: 0s - loss: 6.0629e-04 - mean_squared_error: 5.0867e- - ETA: 0s - loss: 7.0943e-04 - mean_squared_error: 6.1181e- - ETA: 0s - loss: 7.0858e-04 - mean_squared_error: 6.1096e- - ETA: 0s - loss: 6.9328e-04 - mean_squared_error: 5.9566e- - ETA: 0s - loss: 6.9679e-04 - mean_squared_error: 5.9918e- - ETA: 0s - loss: 6.8620e-04 - mean_squared_error: 5.8859e- - ETA: 0s - loss: 6.8560e-04 - mean_squared_error: 5.8798e- - ETA: 0s - loss: 6.8326e-04 - mean_squared_error: 5.8565e- - ETA: 0s - loss: 6.8187e-04 - mean_squared_error: 5.8425e- - 1s 78us/sample - loss: 6.8120e-04 - mean_squared_error: 5.8359e-04 - val_loss: 6.6566e-04 - val_mean_squared_error: 5.6805e-04\n",
      "Epoch 15/40\n",
      "7000/7000 [==============================] - ETA: 0s - loss: 6.5578e-04 - mean_squared_error: 5.5816e- - ETA: 0s - loss: 6.6035e-04 - mean_squared_error: 5.6274e- - ETA: 0s - loss: 6.4245e-04 - mean_squared_error: 5.4483e- - ETA: 0s - loss: 6.4022e-04 - mean_squared_error: 5.4261e- - ETA: 0s - loss: 6.4112e-04 - mean_squared_error: 5.4351e- - ETA: 0s - loss: 6.3858e-04 - mean_squared_error: 5.4097e- - ETA: 0s - loss: 6.2952e-04 - mean_squared_error: 5.3191e- - ETA: 0s - loss: 6.2758e-04 - mean_squared_error: 5.2996e- - ETA: 0s - loss: 6.2609e-04 - mean_squared_error: 5.2847e- - 1s 77us/sample - loss: 6.2525e-04 - mean_squared_error: 5.2764e-04 - val_loss: 6.1377e-04 - val_mean_squared_error: 5.1615e-04\n",
      "Epoch 16/40\n",
      "7000/7000 [==============================] - ETA: 0s - loss: 5.8886e-04 - mean_squared_error: 4.9125e- - ETA: 0s - loss: 5.8334e-04 - mean_squared_error: 4.8573e- - ETA: 0s - loss: 6.0063e-04 - mean_squared_error: 5.0302e- - ETA: 0s - loss: 5.9995e-04 - mean_squared_error: 5.0234e- - ETA: 0s - loss: 5.9252e-04 - mean_squared_error: 4.9491e- - ETA: 0s - loss: 5.8788e-04 - mean_squared_error: 4.9027e- - ETA: 0s - loss: 5.8513e-04 - mean_squared_error: 4.8752e- - ETA: 0s - loss: 5.8244e-04 - mean_squared_error: 4.8483e- - 1s 73us/sample - loss: 5.7948e-04 - mean_squared_error: 4.8187e-04 - val_loss: 5.7101e-04 - val_mean_squared_error: 4.7339e-04\n",
      "Epoch 17/40\n",
      "7000/7000 [==============================] - ETA: 1s - loss: 5.4724e-04 - mean_squared_error: 4.4963e- - ETA: 0s - loss: 5.5045e-04 - mean_squared_error: 4.5284e- - ETA: 0s - loss: 5.5414e-04 - mean_squared_error: 4.5653e- - ETA: 0s - loss: 5.5928e-04 - mean_squared_error: 4.6167e- - ETA: 0s - loss: 5.5541e-04 - mean_squared_error: 4.5780e- - ETA: 0s - loss: 5.4973e-04 - mean_squared_error: 4.5212e- - ETA: 0s - loss: 5.5079e-04 - mean_squared_error: 4.5318e- - ETA: 0s - loss: 5.4444e-04 - mean_squared_error: 4.4683e- - 1s 73us/sample - loss: 5.4105e-04 - mean_squared_error: 4.4344e-04 - val_loss: 5.3450e-04 - val_mean_squared_error: 4.3689e-04\n",
      "Epoch 18/40\n",
      "7000/7000 [==============================] - ETA: 0s - loss: 6.0995e-04 - mean_squared_error: 5.1234e- - ETA: 0s - loss: 5.1024e-04 - mean_squared_error: 4.1263e- - ETA: 0s - loss: 5.2999e-04 - mean_squared_error: 4.3238e- - ETA: 0s - loss: 5.1755e-04 - mean_squared_error: 4.1994e- - ETA: 0s - loss: 5.1562e-04 - mean_squared_error: 4.1800e- - ETA: 0s - loss: 5.1233e-04 - mean_squared_error: 4.1472e- - ETA: 0s - loss: 5.1007e-04 - mean_squared_error: 4.1245e- - ETA: 0s - loss: 5.0692e-04 - mean_squared_error: 4.0931e- - ETA: 0s - loss: 5.0795e-04 - mean_squared_error: 4.1033e- - 1s 76us/sample - loss: 5.0813e-04 - mean_squared_error: 4.1051e-04 - val_loss: 5.0310e-04 - val_mean_squared_error: 4.0549e-04\n",
      "Epoch 19/40\n",
      "7000/7000 [==============================] - ETA: 0s - loss: 4.3886e-04 - mean_squared_error: 3.4125e- - ETA: 0s - loss: 4.9492e-04 - mean_squared_error: 3.9730e- - ETA: 0s - loss: 4.7016e-04 - mean_squared_error: 3.7255e- - ETA: 0s - loss: 4.8158e-04 - mean_squared_error: 3.8396e- - ETA: 0s - loss: 4.7981e-04 - mean_squared_error: 3.8219e- - ETA: 0s - loss: 4.8230e-04 - mean_squared_error: 3.8469e- - ETA: 0s - loss: 4.7860e-04 - mean_squared_error: 3.8098e- - ETA: 0s - loss: 4.7894e-04 - mean_squared_error: 3.8132e- - 1s 72us/sample - loss: 4.7936e-04 - mean_squared_error: 3.8175e-04 - val_loss: 4.7556e-04 - val_mean_squared_error: 3.7794e-04\n",
      "Epoch 20/40\n",
      "7000/7000 [==============================] - ETA: 0s - loss: 5.1481e-04 - mean_squared_error: 4.1720e- - ETA: 0s - loss: 4.5620e-04 - mean_squared_error: 3.5858e- - ETA: 0s - loss: 4.5812e-04 - mean_squared_error: 3.6051e- - ETA: 0s - loss: 4.5103e-04 - mean_squared_error: 3.5341e- - ETA: 0s - loss: 4.4824e-04 - mean_squared_error: 3.5062e- - ETA: 0s - loss: 4.4550e-04 - mean_squared_error: 3.4788e- - ETA: 0s - loss: 4.5323e-04 - mean_squared_error: 3.5562e- - ETA: 0s - loss: 4.5418e-04 - mean_squared_error: 3.5657e- - 1s 73us/sample - loss: 4.5405e-04 - mean_squared_error: 3.5643e-04 - val_loss: 4.5081e-04 - val_mean_squared_error: 3.5320e-04\n",
      "Epoch 21/40\n",
      "7000/7000 [==============================] - ETA: 0s - loss: 4.1853e-04 - mean_squared_error: 3.2092e- - ETA: 0s - loss: 4.4958e-04 - mean_squared_error: 3.5196e- - ETA: 0s - loss: 4.3203e-04 - mean_squared_error: 3.3441e- - ETA: 0s - loss: 4.3142e-04 - mean_squared_error: 3.3381e- - ETA: 0s - loss: 4.3400e-04 - mean_squared_error: 3.3639e- - ETA: 0s - loss: 4.3253e-04 - mean_squared_error: 3.3492e- - ETA: 0s - loss: 4.3422e-04 - mean_squared_error: 3.3661e- - ETA: 0s - loss: 4.3260e-04 - mean_squared_error: 3.3498e- - 1s 72us/sample - loss: 4.3154e-04 - mean_squared_error: 3.3393e-04 - val_loss: 4.2884e-04 - val_mean_squared_error: 3.3122e-04\n",
      "Epoch 22/40\n",
      "7000/7000 [==============================] - ETA: 0s - loss: 3.6479e-04 - mean_squared_error: 2.6718e- - ETA: 0s - loss: 4.2046e-04 - mean_squared_error: 3.2285e- - ETA: 0s - loss: 4.1828e-04 - mean_squared_error: 3.2066e- - ETA: 0s - loss: 4.1605e-04 - mean_squared_error: 3.1843e- - ETA: 0s - loss: 4.2424e-04 - mean_squared_error: 3.2663e- - ETA: 0s - loss: 4.1415e-04 - mean_squared_error: 3.1654e- - ETA: 0s - loss: 4.1748e-04 - mean_squared_error: 3.1987e- - ETA: 0s - loss: 4.1711e-04 - mean_squared_error: 3.1949e- - ETA: 0s - loss: 4.1214e-04 - mean_squared_error: 3.1453e- - 1s 76us/sample - loss: 4.1130e-04 - mean_squared_error: 3.1369e-04 - val_loss: 4.0912e-04 - val_mean_squared_error: 3.1150e-04\n",
      "Epoch 23/40\n",
      "7000/7000 [==============================] - ETA: 0s - loss: 3.3231e-04 - mean_squared_error: 2.3469e- - ETA: 0s - loss: 3.9734e-04 - mean_squared_error: 2.9972e- - ETA: 0s - loss: 3.9537e-04 - mean_squared_error: 2.9776e- - ETA: 0s - loss: 3.9610e-04 - mean_squared_error: 2.9849e- - ETA: 0s - loss: 3.9240e-04 - mean_squared_error: 2.9479e- - ETA: 0s - loss: 3.9277e-04 - mean_squared_error: 2.9516e- - ETA: 0s - loss: 3.9124e-04 - mean_squared_error: 2.9363e- - ETA: 0s - loss: 3.9317e-04 - mean_squared_error: 2.9555e- - ETA: 0s - loss: 3.9356e-04 - mean_squared_error: 2.9595e- - 1s 77us/sample - loss: 3.9304e-04 - mean_squared_error: 2.9542e-04 - val_loss: 3.9125e-04 - val_mean_squared_error: 2.9364e-04\n",
      "Epoch 24/40\n"
     ]
    },
    {
     "name": "stdout",
     "output_type": "stream",
     "text": [
      "7000/7000 [==============================] - ETA: 0s - loss: 4.1217e-04 - mean_squared_error: 3.1455e- - ETA: 0s - loss: 3.8552e-04 - mean_squared_error: 2.8791e- - ETA: 0s - loss: 3.7789e-04 - mean_squared_error: 2.8028e- - ETA: 0s - loss: 3.7430e-04 - mean_squared_error: 2.7669e- - ETA: 0s - loss: 3.8008e-04 - mean_squared_error: 2.8246e- - ETA: 0s - loss: 3.7559e-04 - mean_squared_error: 2.7798e- - ETA: 0s - loss: 3.7523e-04 - mean_squared_error: 2.7761e- - ETA: 0s - loss: 3.7609e-04 - mean_squared_error: 2.7848e- - ETA: 0s - loss: 3.7620e-04 - mean_squared_error: 2.7858e- - 1s 80us/sample - loss: 3.7656e-04 - mean_squared_error: 2.7894e-04 - val_loss: 3.7518e-04 - val_mean_squared_error: 2.7757e-04\n",
      "Epoch 25/40\n",
      "7000/7000 [==============================] - ETA: 0s - loss: 4.1611e-04 - mean_squared_error: 3.1849e- - ETA: 0s - loss: 3.5779e-04 - mean_squared_error: 2.6018e- - ETA: 0s - loss: 3.6931e-04 - mean_squared_error: 2.7170e- - ETA: 0s - loss: 3.7049e-04 - mean_squared_error: 2.7288e- - ETA: 0s - loss: 3.6746e-04 - mean_squared_error: 2.6985e- - ETA: 0s - loss: 3.7043e-04 - mean_squared_error: 2.7282e- - ETA: 0s - loss: 3.6567e-04 - mean_squared_error: 2.6806e- - ETA: 0s - loss: 3.6399e-04 - mean_squared_error: 2.6638e- - ETA: 0s - loss: 3.6121e-04 - mean_squared_error: 2.6359e- - 1s 79us/sample - loss: 3.6148e-04 - mean_squared_error: 2.6387e-04 - val_loss: 3.6017e-04 - val_mean_squared_error: 2.6256e-04\n",
      "Epoch 26/40\n",
      "7000/7000 [==============================] - ETA: 0s - loss: 3.7845e-04 - mean_squared_error: 2.8084e- - ETA: 0s - loss: 3.4433e-04 - mean_squared_error: 2.4672e- - ETA: 0s - loss: 3.5108e-04 - mean_squared_error: 2.5347e- - ETA: 0s - loss: 3.4638e-04 - mean_squared_error: 2.4877e- - ETA: 0s - loss: 3.4505e-04 - mean_squared_error: 2.4744e- - ETA: 0s - loss: 3.4395e-04 - mean_squared_error: 2.4633e- - ETA: 0s - loss: 3.4384e-04 - mean_squared_error: 2.4623e- - ETA: 0s - loss: 3.4701e-04 - mean_squared_error: 2.4940e- - ETA: 0s - loss: 3.4675e-04 - mean_squared_error: 2.4914e- - 1s 77us/sample - loss: 3.4775e-04 - mean_squared_error: 2.5013e-04 - val_loss: 3.4663e-04 - val_mean_squared_error: 2.4902e-04\n",
      "Epoch 27/40\n",
      "7000/7000 [==============================] - ETA: 0s - loss: 2.0284e-04 - mean_squared_error: 1.0522e- - ETA: 0s - loss: 3.4993e-04 - mean_squared_error: 2.5232e- - ETA: 0s - loss: 3.5334e-04 - mean_squared_error: 2.5573e- - ETA: 0s - loss: 3.4131e-04 - mean_squared_error: 2.4369e- - ETA: 0s - loss: 3.4122e-04 - mean_squared_error: 2.4361e- - ETA: 0s - loss: 3.3751e-04 - mean_squared_error: 2.3989e- - ETA: 0s - loss: 3.3682e-04 - mean_squared_error: 2.3920e- - ETA: 0s - loss: 3.3627e-04 - mean_squared_error: 2.3866e- - ETA: 0s - loss: 3.3518e-04 - mean_squared_error: 2.3757e- - 1s 76us/sample - loss: 3.3521e-04 - mean_squared_error: 2.3760e-04 - val_loss: 3.3419e-04 - val_mean_squared_error: 2.3658e-04\n",
      "Epoch 28/40\n",
      "7000/7000 [==============================] - ETA: 0s - loss: 3.0954e-04 - mean_squared_error: 2.1193e- - ETA: 0s - loss: 3.1407e-04 - mean_squared_error: 2.1645e- - ETA: 0s - loss: 3.2379e-04 - mean_squared_error: 2.2618e- - ETA: 0s - loss: 3.2281e-04 - mean_squared_error: 2.2520e- - ETA: 0s - loss: 3.2346e-04 - mean_squared_error: 2.2585e- - ETA: 0s - loss: 3.2178e-04 - mean_squared_error: 2.2417e- - ETA: 0s - loss: 3.2213e-04 - mean_squared_error: 2.2452e- - ETA: 0s - loss: 3.2099e-04 - mean_squared_error: 2.2337e- - ETA: 0s - loss: 3.2269e-04 - mean_squared_error: 2.2507e- - 1s 75us/sample - loss: 3.2368e-04 - mean_squared_error: 2.2607e-04 - val_loss: 3.2274e-04 - val_mean_squared_error: 2.2512e-04\n",
      "Epoch 29/40\n",
      "7000/7000 [==============================] - ETA: 0s - loss: 3.7760e-04 - mean_squared_error: 2.7999e- - ETA: 0s - loss: 3.1416e-04 - mean_squared_error: 2.1655e- - ETA: 0s - loss: 3.1391e-04 - mean_squared_error: 2.1629e- - ETA: 0s - loss: 3.1167e-04 - mean_squared_error: 2.1405e- - ETA: 0s - loss: 3.1548e-04 - mean_squared_error: 2.1787e- - ETA: 0s - loss: 3.1478e-04 - mean_squared_error: 2.1717e- - ETA: 0s - loss: 3.1572e-04 - mean_squared_error: 2.1811e- - ETA: 0s - loss: 3.1274e-04 - mean_squared_error: 2.1513e- - 1s 73us/sample - loss: 3.1293e-04 - mean_squared_error: 2.1531e-04 - val_loss: 3.1213e-04 - val_mean_squared_error: 2.1452e-04\n",
      "Epoch 30/40\n",
      "7000/7000 [==============================] - ETA: 0s - loss: 3.5066e-04 - mean_squared_error: 2.5305e- - ETA: 0s - loss: 2.9996e-04 - mean_squared_error: 2.0234e- - ETA: 0s - loss: 3.0069e-04 - mean_squared_error: 2.0307e- - ETA: 0s - loss: 3.0447e-04 - mean_squared_error: 2.0686e- - ETA: 0s - loss: 3.0460e-04 - mean_squared_error: 2.0699e- - ETA: 0s - loss: 3.0627e-04 - mean_squared_error: 2.0865e- - ETA: 0s - loss: 3.0268e-04 - mean_squared_error: 2.0507e- - ETA: 0s - loss: 3.0180e-04 - mean_squared_error: 2.0418e- - 1s 73us/sample - loss: 3.0322e-04 - mean_squared_error: 2.0560e-04 - val_loss: 3.0256e-04 - val_mean_squared_error: 2.0494e-04\n",
      "Epoch 31/40\n",
      "7000/7000 [==============================] - ETA: 0s - loss: 2.1931e-04 - mean_squared_error: 1.2170e- - ETA: 0s - loss: 2.8612e-04 - mean_squared_error: 1.8851e- - ETA: 0s - loss: 2.9465e-04 - mean_squared_error: 1.9704e- - ETA: 0s - loss: 2.9749e-04 - mean_squared_error: 1.9987e- - ETA: 0s - loss: 2.9798e-04 - mean_squared_error: 2.0037e- - ETA: 0s - loss: 2.9490e-04 - mean_squared_error: 1.9729e- - ETA: 0s - loss: 2.9320e-04 - mean_squared_error: 1.9559e- - ETA: 0s - loss: 2.9670e-04 - mean_squared_error: 1.9908e- - 1s 72us/sample - loss: 2.9417e-04 - mean_squared_error: 1.9656e-04 - val_loss: 2.9350e-04 - val_mean_squared_error: 1.9588e-04\n",
      "Epoch 32/40\n",
      "7000/7000 [==============================] - ETA: 0s - loss: 3.4132e-04 - mean_squared_error: 2.4370e- - ETA: 0s - loss: 2.8155e-04 - mean_squared_error: 1.8393e- - ETA: 0s - loss: 2.8959e-04 - mean_squared_error: 1.9198e- - ETA: 0s - loss: 2.9014e-04 - mean_squared_error: 1.9253e- - ETA: 0s - loss: 2.8816e-04 - mean_squared_error: 1.9055e- - ETA: 0s - loss: 2.8611e-04 - mean_squared_error: 1.8849e- - ETA: 0s - loss: 2.8175e-04 - mean_squared_error: 1.8413e- - ETA: 0s - loss: 2.8580e-04 - mean_squared_error: 1.8818e- - 0s 71us/sample - loss: 2.8582e-04 - mean_squared_error: 1.8821e-04 - val_loss: 2.8522e-04 - val_mean_squared_error: 1.8761e-04\n",
      "Epoch 33/40\n",
      "7000/7000 [==============================] - ETA: 0s - loss: 1.8225e-04 - mean_squared_error: 8.4639e- - ETA: 0s - loss: 2.7208e-04 - mean_squared_error: 1.7446e- - ETA: 0s - loss: 2.7625e-04 - mean_squared_error: 1.7864e- - ETA: 0s - loss: 2.8226e-04 - mean_squared_error: 1.8465e- - ETA: 0s - loss: 2.8122e-04 - mean_squared_error: 1.8360e- - ETA: 0s - loss: 2.8009e-04 - mean_squared_error: 1.8247e- - ETA: 0s - loss: 2.7830e-04 - mean_squared_error: 1.8069e- - ETA: 0s - loss: 2.7931e-04 - mean_squared_error: 1.8170e- - 0s 71us/sample - loss: 2.7809e-04 - mean_squared_error: 1.8048e-04 - val_loss: 2.7788e-04 - val_mean_squared_error: 1.8026e-04\n",
      "Epoch 34/40\n",
      "7000/7000 [==============================] - ETA: 0s - loss: 2.2447e-04 - mean_squared_error: 1.2685e- - ETA: 0s - loss: 2.6906e-04 - mean_squared_error: 1.7144e- - ETA: 0s - loss: 2.6712e-04 - mean_squared_error: 1.6950e- - ETA: 0s - loss: 2.6924e-04 - mean_squared_error: 1.7163e- - ETA: 0s - loss: 2.6899e-04 - mean_squared_error: 1.7138e- - ETA: 0s - loss: 2.7517e-04 - mean_squared_error: 1.7756e- - ETA: 0s - loss: 2.7695e-04 - mean_squared_error: 1.7933e- - ETA: 0s - loss: 2.7309e-04 - mean_squared_error: 1.7547e- - 1s 72us/sample - loss: 2.7111e-04 - mean_squared_error: 1.7350e-04 - val_loss: 2.7091e-04 - val_mean_squared_error: 1.7330e-04\n",
      "Epoch 35/40\n",
      "7000/7000 [==============================] - ETA: 0s - loss: 2.2774e-04 - mean_squared_error: 1.3012e- - ETA: 0s - loss: 2.5903e-04 - mean_squared_error: 1.6142e- - ETA: 0s - loss: 2.5613e-04 - mean_squared_error: 1.5851e- - ETA: 0s - loss: 2.6366e-04 - mean_squared_error: 1.6604e- - ETA: 0s - loss: 2.6637e-04 - mean_squared_error: 1.6876e- - ETA: 0s - loss: 2.7175e-04 - mean_squared_error: 1.7414e- - ETA: 0s - loss: 2.6732e-04 - mean_squared_error: 1.6971e- - ETA: 0s - loss: 2.6515e-04 - mean_squared_error: 1.6754e- - ETA: 0s - loss: 2.6596e-04 - mean_squared_error: 1.6834e- - 1s 78us/sample - loss: 2.6469e-04 - mean_squared_error: 1.6708e-04 - val_loss: 2.6419e-04 - val_mean_squared_error: 1.6658e-04\n"
     ]
    },
    {
     "name": "stdout",
     "output_type": "stream",
     "text": [
      "Epoch 36/40\n",
      "7000/7000 [==============================] - ETA: 0s - loss: 2.5040e-04 - mean_squared_error: 1.5278e- - ETA: 0s - loss: 2.6397e-04 - mean_squared_error: 1.6636e- - ETA: 0s - loss: 2.6073e-04 - mean_squared_error: 1.6311e- - ETA: 0s - loss: 2.6221e-04 - mean_squared_error: 1.6459e- - ETA: 0s - loss: 2.6450e-04 - mean_squared_error: 1.6689e- - ETA: 0s - loss: 2.6321e-04 - mean_squared_error: 1.6560e- - ETA: 0s - loss: 2.6215e-04 - mean_squared_error: 1.6454e- - ETA: 0s - loss: 2.6075e-04 - mean_squared_error: 1.6314e- - ETA: 0s - loss: 2.5980e-04 - mean_squared_error: 1.6219e- - 1s 78us/sample - loss: 2.5882e-04 - mean_squared_error: 1.6121e-04 - val_loss: 2.5837e-04 - val_mean_squared_error: 1.6076e-04\n",
      "Epoch 37/40\n",
      "7000/7000 [==============================] - ETA: 0s - loss: 3.2527e-04 - mean_squared_error: 2.2766e- - ETA: 0s - loss: 2.6272e-04 - mean_squared_error: 1.6510e- - ETA: 0s - loss: 2.6087e-04 - mean_squared_error: 1.6326e- - ETA: 0s - loss: 2.5812e-04 - mean_squared_error: 1.6051e- - ETA: 0s - loss: 2.5681e-04 - mean_squared_error: 1.5919e- - ETA: 0s - loss: 2.5668e-04 - mean_squared_error: 1.5907e- - ETA: 0s - loss: 2.6056e-04 - mean_squared_error: 1.6294e- - ETA: 0s - loss: 2.5613e-04 - mean_squared_error: 1.5851e- - ETA: 0s - loss: 2.5553e-04 - mean_squared_error: 1.5792e- - 1s 80us/sample - loss: 2.5368e-04 - mean_squared_error: 1.5606e-04 - val_loss: 2.5354e-04 - val_mean_squared_error: 1.5593e-04\n",
      "Epoch 38/40\n",
      "7000/7000 [==============================] - ETA: 0s - loss: 2.0403e-04 - mean_squared_error: 1.0642e- - ETA: 0s - loss: 2.6333e-04 - mean_squared_error: 1.6572e- - ETA: 0s - loss: 2.6199e-04 - mean_squared_error: 1.6437e- - ETA: 0s - loss: 2.5767e-04 - mean_squared_error: 1.6005e- - ETA: 0s - loss: 2.5030e-04 - mean_squared_error: 1.5269e- - ETA: 0s - loss: 2.5116e-04 - mean_squared_error: 1.5355e- - ETA: 0s - loss: 2.5077e-04 - mean_squared_error: 1.5315e- - ETA: 0s - loss: 2.4882e-04 - mean_squared_error: 1.5121e- - ETA: 0s - loss: 2.4921e-04 - mean_squared_error: 1.5159e- - 1s 78us/sample - loss: 2.4884e-04 - mean_squared_error: 1.5122e-04 - val_loss: 2.4937e-04 - val_mean_squared_error: 1.5176e-04\n",
      "Epoch 39/40\n",
      "7000/7000 [==============================] - ETA: 0s - loss: 2.3239e-04 - mean_squared_error: 1.3478e- - ETA: 0s - loss: 2.3272e-04 - mean_squared_error: 1.3511e- - ETA: 0s - loss: 2.3286e-04 - mean_squared_error: 1.3524e- - ETA: 0s - loss: 2.3246e-04 - mean_squared_error: 1.3485e- - ETA: 0s - loss: 2.3928e-04 - mean_squared_error: 1.4167e- - ETA: 0s - loss: 2.4061e-04 - mean_squared_error: 1.4300e- - ETA: 0s - loss: 2.4394e-04 - mean_squared_error: 1.4633e- - ETA: 0s - loss: 2.4583e-04 - mean_squared_error: 1.4821e- - ETA: 0s - loss: 2.4499e-04 - mean_squared_error: 1.4737e- - 1s 81us/sample - loss: 2.4468e-04 - mean_squared_error: 1.4707e-04 - val_loss: 2.4454e-04 - val_mean_squared_error: 1.4692e-04\n",
      "Epoch 40/40\n",
      "7000/7000 [==============================] - ETA: 0s - loss: 2.4749e-04 - mean_squared_error: 1.4987e- - ETA: 0s - loss: 2.5231e-04 - mean_squared_error: 1.5470e- - ETA: 0s - loss: 2.4457e-04 - mean_squared_error: 1.4696e- - ETA: 0s - loss: 2.4483e-04 - mean_squared_error: 1.4721e- - ETA: 0s - loss: 2.4798e-04 - mean_squared_error: 1.5036e- - ETA: 0s - loss: 2.4420e-04 - mean_squared_error: 1.4658e- - ETA: 0s - loss: 2.4095e-04 - mean_squared_error: 1.4334e- - ETA: 0s - loss: 2.4130e-04 - mean_squared_error: 1.4369e- - ETA: 0s - loss: 2.3974e-04 - mean_squared_error: 1.4212e- - 1s 84us/sample - loss: 2.4077e-04 - mean_squared_error: 1.4315e-04 - val_loss: 2.4101e-04 - val_mean_squared_error: 1.4340e-04\n",
      "22.59302282333374\n"
     ]
    }
   ],
   "source": [
    "start_time = time.time()\n",
    "new_hist = model.fit(X_train, Y_train, validation_data=(X_val, Y_val), epochs=40, shuffle=True, verbose=1, batch_size=N_channels+1)\n",
    "training_time = time.time() - start_time\n",
    "print(training_time)"
   ]
  },
  {
   "cell_type": "code",
   "execution_count": 19,
   "metadata": {},
   "outputs": [
    {
     "name": "stdout",
     "output_type": "stream",
     "text": [
      "1500/1 [========================================================================================================================================================================================================================================================================================================================================================================================================================================================================================================================================================================================================================================================================================================================================================================================================================================================================================================================================================================================================================================================================================================================================================================================================================================================================================================================================================================================================================================================================================================================================================================================================================================================================================================================================================================================================================================================================================================================================================================================================================================================================================================================================================================================================================================================================================================================================================================================================================================================================================================================================================================================================================================================================================================================================================================================================================================================================================================================================================================================================================================================================================================================================================================================================================================================================================================================================================================================================================================================================================================================================================================================================================================================================================================================================================================================================================================================================================================================================================================================================================================================================================================================================================================================================================================================================================================================================================================================================================================================================================================================================================================================================================================================================================================================================================================================================================================================================================================================================================================================================================================================================================================================================================================================================================================================================================================================================================================================================================================================================================================================================================================================================================================================================================================================================================================================================================================================================================================================================================================================================================================================================================================================================================================================================================================================================================================================================================================================================================================================================================================================================================================================================================================================================================================================================================================================================================================================================================================================================================================================================================================================================================================================================================================================================================================================================================================================================================================================================================================================================================================================================================================================================================================================================================================================================================================================================================================================================================================================================================================================================================================================================================================================================================================================================================================================================================================================================================================================================================================================================================================================================================================================================================================================================================================================================================================================================================================================================================================================================================================================================================================================================================================================================================================================================================================================================================================================================================================================================================================================================================================================================================================================================================================================================================================================================================================================================================================================================================================================================================================================================================================================================================================================================================================================================================================================================================================================================================================================================================================================================================================================================================================================================================================================================================================================================================================================================================================================================================================================================================================================================================================================================================================================================================================================================================================================================================================================================================================================================================================================================================================================================================================================================================================================================================================================================================================================================================================================================================================================================================================================================================================================================================================================================================================================================================================================================================================================================================================================================================================================================================================================================================================================================================================================================================================================================================================================================================================================================================================================================================================================================================================================================================================================================================================================================================================================================================================================================================================================================================================================================================================================================================================================================================================================================================================================================================================================================================================================================================================================================================================================================================================================================================================================================================================================================================================================================================================================================================================================================================================================================================================================================================================================================================================================================================================================================================================================================================================================================================================================================================================================================================================================================================================================================================================================================================================================================================================================================================================================================================================================================================================================================================================================================================================================================================================================================================================================================================================================================================================================================================================================================================================================================================================================================================================================================================================================================================================================================================================================================================================================================================================================================================================================================================================================================================================================================================================================================================================================================================================================================================================================================================================================================================================================================================================================================================================================================================================================================================================================================================================================================================================================================================================================================================================================================================================================================================================================================================================================================================================================================================================================================================================================================================================================================================================================================================================================================================================================================================================================================================================================================================================================================================================================================================================================================================================================================================================================================================================================================================================================================================================================================================================================================================================================================================================================================================================================================================================================================================================================================================================================================================================================================================================================================================================================================================================================================================================================================================================================================================================================================================================================================================================================================================================================================================================================================================================================================================================================================================================================================================================================================================================================================================================================================================================================================================================================================================================================================================================================================================================================================================================================================================================================================================================================================================================================================================================================================================================================================================================================================================================================================================================================================================================================================================================================================================================================================================================================================================================================================================================================================================================================================================================================================================================================================================================================================================================================================================================================================================================================================================================================================================================================================================================================================================================================================================================================================================================================================================================================================================================================================================================================================================================================================================================================================================================================================================================================================================================================================================================================================================================================================================================================================================================================================================================================================================================================================================================================================================================================================================================================================================================================================================================================================================================================================================================================================================================================================================================================================================================================================================================================================================================================================================================================================================================================================================================================================================================================================================================================================================================================================================================================================================================================================================================================================================================================================================================================================================================================================================================================================================================================================================================================================================================================================================================================================================================================================================================================================================================================================================================================================================================================================================================================================================================================================================================================================================================================================================================================================================================================================================================================================================================================================================================================================================================================================================================================================================================================================================================================================================================================================================================================================================================================================================================================================================================================================================================================================================================================================================================================================================================================================================================================================================================================================================================================================================================================================================================================================================================================================================================================================================================================================================================================================================================================================================================================================================================================================================================================================================================================================================================================================================================================================================================================================================================================================================================================================================================================================================================================================================================================================================================================================================================================================================================================================================================================================================================================================================================================================================================================================================================================================================================================================================================================================================================================================================================================================================================================================================================================================================================================================================================================================================================================================================================================================================================================================================================================================================================================================================================================================================================================================================================================================================================================================================================================================================================================================================================================================================================================================================================================================================================================================================================================================================================================================================================================================================================================================================================================================================================================================================================================================================================================================================================================================================================================================================================================================================================================================================================================================================================================================================================================================================================================================================================================================================================================================================================================================================================================================================================================================================================================================================================================================================================================================================================================================================================================================================================================================================================================================================================================================================================================================================================================================================================================================================================================================================================================================================================================================================================================================================================================================================================================================================================================================================================================================================================================================================================================================================================================================================================================================================================================================================================================================================================================================================================================================================================================================================================================================================================================================================================================================================================================================================================================================================================================================================================================================================================================================================================================================================================================================================================================================================================================================================================================================================================================================================================================================================================================================================================================================================================================================================================================================================================================================================================================================================================================================================================================================================================================================================================================================================================================================================================================================================================================================================================================================================================================================================================================================================================================================================================================================================================================================================================================================================================================================================================================================================================================================================================================================================================================================================================================================================================================================================================================================================================================================================================================================================================================================================================================================================================================================================================================================================================================================================================================================================================================================================================================================================================================================================================================================================================================================================================================================================================================================================================================================================================================================================================================================================================================================================================================================================================================================================================================================================================================================================================================================================================================================================================================================================================================================================================================================================================================================================================================================================================================================================================================================================================================================================================================================================================================================================================================================================================================================================================================================================================================================================================================================================================================================================================================================================================================================================================================================================================================================================================================================================================================================================================================================================================================================================================================================================================================================================================================================================================================================================================================================================================================================================================================================================================================================================================================================================================================================================================================================================================================================================================================================================================================================================================================================================================================================================================================================================================================================================================================================================================================================================================================================================================================================================================================================================================================================================================================================================================================================================================================================================================================================================================================================================================================================================================================================================================================================================================================================================================================================================================================================================================================================================================================================================================================================================================================================================================================================================================================================================================================================================================================================================================================================================================================================================================================================================================================================================================================================================================================================================================================================================================================================================================================================================================================================================================================================================================================================================================================================================================================================================================================================================================================================================================================================================================================================================================================================================================================================================================================================================================================================================================================================================================================================================================================================================================================================================================================================================================================================================================================================================================================================================================================================================================================================================================================================================================================================================================================================================================================================================================================================================================================================================================================================================================================================================================================================================================================================================================================================================================================================================================================================================================================================================================================================================================================================================================================================================================================================================================================================================================================================================================================================================================================================]"
     ]
    },
    {
     "name": "stdout",
     "output_type": "stream",
     "text": [
      " - 0s 46us/sample - loss: 1.9905e-04 - mean_squared_error: 1.3361e-04\n",
      "[0.00023122231596304723, 0.00013360877]\n",
      "[0.0008090754775330424, 0.0007114619]\n"
     ]
    }
   ],
   "source": [
    "# evaluating transfer-learned model\n",
    "eval_result = model.evaluate(X_test, Y_test, verbose=1)\n",
    "# evaluating OLD model with new data\n",
    "hypermodel_result = hypermodel.evaluate(X_test, Y_test, verbose=0)\n",
    "print(eval_result)\n",
    "print(hypermodel_result)"
   ]
  },
  {
   "cell_type": "code",
   "execution_count": 20,
   "metadata": {},
   "outputs": [
    {
     "data": {
      "image/png": "[encoded data removed]",
      "text/plain": [
       "<Figure size 432x288 with 1 Axes>"
      ]
     },
     "metadata": {
      "needs_background": "light"
     },
     "output_type": "display_data"
    },
    {
     "data": {
      "image/png": "[encoded data removed]",
      "text/plain": [
       "<Figure size 432x288 with 1 Axes>"
      ]
     },
     "metadata": {
      "needs_background": "light"
     },
     "output_type": "display_data"
    }
   ],
   "source": [
    "# visualising_data(hypermodel_hist)\n",
    "# visualising_data(model.history)"
   ]
  },
  {
   "cell_type": "code",
   "execution_count": 21,
   "metadata": {},
   "outputs": [
    {
     "name": "stdout",
     "output_type": "stream",
     "text": [
      "19.54207730293274\n",
      "[0.0002075995944129924, 0.00010998606]\n",
      "[0.0008206666878735026, 0.0007230531]\n"
     ]
    }
   ],
   "source": [
    "N_channels = 40\n",
    "file_path = '/Users/jackkelly/Desktop/Building_Model/Data/40_channels_data_variedlengths_EDFAs_10000.csv'\n",
    "X_scale, Y_scale = processing_data(N_channels, file_path)\n",
    "X_train, X_val_and_test, Y_train, Y_val_and_test = train_test_split(X_scale, Y_scale, test_size=0.3)\n",
    "X_val, X_test, Y_val, Y_test = train_test_split(X_val_and_test, Y_val_and_test, test_size=0.5)\n",
    "start_time = time.time()\n",
    "new_hist = model.fit(X_train, Y_train, validation_data=(X_val, Y_val), epochs=40, shuffle=True, verbose=0, batch_size=N_channels+1)\n",
    "training_time = time.time() - start_time\n",
    "print(training_time)\n",
    "# evaluating transfer-learned model\n",
    "value_new = model.evaluate(X_test, Y_test, verbose=0)\n",
    "# evaluating new model\n",
    "value_old = hypermodel.evaluate(X_test, Y_test, verbose=0)\n",
    "print(value_new)\n",
    "print(value_old)"
   ]
  },
  {
   "cell_type": "code",
   "execution_count": null,
   "metadata": {},
   "outputs": [],
   "source": []
  }
 ],
 "metadata": {
  "kernelspec": {
   "display_name": "Python 3",
   "language": "python",
   "name": "python3"
  },
  "language_info": {
   "codemirror_mode": {
    "name": "ipython",
    "version": 3
   },
   "file_extension": ".py",
   "mimetype": "text/x-python",
   "name": "python",
   "nbconvert_exporter": "python",
   "pygments_lexer": "ipython3",
   "version": "3.6.10"
  }
 },
 "nbformat": 4,
 "nbformat_minor": 4
}
