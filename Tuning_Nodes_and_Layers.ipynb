{
 "cells": [
  {
   "cell_type": "code",
   "execution_count": 1,
   "metadata": {},
   "outputs": [
    {
     "name": "stderr",
     "output_type": "stream",
     "text": [
      "Using TensorFlow backend.\n"
     ]
    }
   ],
   "source": [
    "import tensorflow as tf\n",
    "import pandas as pd\n",
    "from sklearn import preprocessing\n",
    "from sklearn.model_selection import train_test_split\n",
    "from sklearn.utils import shuffle\n",
    "from sklearn.metrics import mean_squared_error\n",
    "from keras.models import Sequential\n",
    "from keras.layers import Dense\n",
    "from keras import regularizers\n",
    "from tensorflow import keras\n",
    "import matplotlib.pyplot as plt\n",
    "import numpy as np\n",
    "import time\n",
    "import h5py\n",
    "import kerastuner as kt"
   ]
  },
  {
   "cell_type": "code",
   "execution_count": 2,
   "metadata": {},
   "outputs": [],
   "source": [
    "### IMPORT, RAMDOMIZE AND SCALE DATA ###\n",
    "\n",
    "def processing_data(N_channels, file_path):\n",
    "    df = pd.read_csv(file_path)\n",
    "    # dataset\n",
    "    dataset = df.values\n",
    "    # input power and channels statuses\n",
    "    X = dataset[:,0:N_channels+1]\n",
    "    # channel SNRs\n",
    "    Y = dataset[:,N_channels+1:2*N_channels+1]\n",
    "    # shuffle necessary because while shuffle=True in .fit() shuffles the data, it splits into different datasets first\n",
    "    X, Y = shuffle(X, Y)\n",
    "    # scaling between 0 and 1\n",
    "    min_max_scaler = preprocessing.MinMaxScaler()\n",
    "    X = min_max_scaler.fit_transform(X)\n",
    "    Y = min_max_scaler.fit_transform(Y)\n",
    "    return X, Y"
   ]
  },
  {
   "cell_type": "code",
   "execution_count": 3,
   "metadata": {},
   "outputs": [],
   "source": [
    "### RECEIVE 20,000 PIECES OF DATA ###\n",
    "\n",
    "N_channels = 40\n",
    "file_path = '/Users/jackkelly/Desktop/Building_Model/Data/40_channels_data_blocks_20000.csv'\n",
    "X_scale, Y_scale = processing_data(N_channels, file_path)\n",
    "X_scale, X_test, Y_scale, Y_test = train_test_split(X_scale, Y_scale, test_size=0.15)"
   ]
  },
  {
   "cell_type": "code",
   "execution_count": 4,
   "metadata": {},
   "outputs": [],
   "source": [
    "### FUNCTION TAKES HYPERPARAMETERS AND RETURNS COMPILED MODEL ###\n",
    "\n",
    "def model_builder(hp):\n",
    "    model = keras.Sequential()\n",
    "    model.add(keras.layers.InputLayer(input_shape=N_channels+1))\n",
    "#     hp_regularizer = hp.Choice('kernel_regularizer', values=[1e-4, 1e-5, 1e-6])\n",
    "    for i in range(hp.Int('n_layers', 1, 2)):\n",
    "#         model.add(keras.layers.Dense(hp.Int(f'hidden_{i}_units', min_value=10, max_value=320, step=1), kernel_regularizer=regularizers.l2(hp_regularizer)))\n",
    "        model.add(keras.layers.Dense(hp.Int(f'hidden_{i}_units', min_value=10, max_value=320, step=1)))\n",
    "    model.add(keras.layers.Dense(N_channels, activation='sigmoid'))\n",
    "    # Tune the learning rate for the optimizer\n",
    "    # Choose an optimal value from 0.01, 0.001, or 0.0001\n",
    "    hp_learning_rate = hp.Choice('learning_rate', values=[1e-2, 1e-3, 1e-4])\n",
    "\n",
    "    model.compile(optimizer=keras.optimizers.Adam(learning_rate=hp_learning_rate),\n",
    "                loss=keras.losses.MeanSquaredError(), metrics=['mean_squared_error'])\n",
    "\n",
    "    return model"
   ]
  },
  {
   "cell_type": "code",
   "execution_count": 5,
   "metadata": {},
   "outputs": [],
   "source": [
    "### CREATE HYPERBAND TUNER ###\n",
    "\n",
    "# The maximum number of epochs to train one model. It is recommended to \n",
    "# set this to a value slightly higher than the expected time \n",
    "# to convergence for your largest Model, and to use early stopping \n",
    "# during training\n",
    "tuner = kt.Hyperband(model_builder,\n",
    "                     objective=kt.Objective('mean_squared_error', 'min'),\n",
    "                     max_epochs=25,\n",
    "                     factor=3,\n",
    "                     directory='/Users/jackkelly/Desktop/Building_Model/',\n",
    "                     project_name='intro_to_kt_layers',\n",
    "                     overwrite=True)\n",
    "# stop_early = tf.keras.callbacks.EarlyStopping(monitor='val_loss', patience=5)\n",
    "stop_early = tf.keras.callbacks.EarlyStopping(monitor='mean_squared_error', patience=5)"
   ]
  },
  {
   "cell_type": "code",
   "execution_count": 6,
   "metadata": {},
   "outputs": [
    {
     "name": "stdout",
     "output_type": "stream",
     "text": [
      "Train on 14450 samples, validate on 2550 samples\n",
      "Epoch 1/3\n",
      "14450/14450 - 2s - loss: 0.1779 - mean_squared_error: 0.1779 - val_loss: 0.1590 - val_mean_squared_error: 0.1590\n",
      "Epoch 2/3\n",
      "14450/14450 - 1s - loss: 0.1376 - mean_squared_error: 0.1376 - val_loss: 0.1185 - val_mean_squared_error: 0.1185\n",
      "Epoch 3/3\n",
      "14450/14450 - 1s - loss: 0.1101 - mean_squared_error: 0.1101 - val_loss: 0.1035 - val_mean_squared_error: 0.1035\n"
     ]
    },
    {
     "data": {
      "text/html": [
       "<span style=\"color:#4527A0\"><h1 style=\"font-size:18px\">Trial complete</h1></span>"
      ],
      "text/plain": [
       "<IPython.core.display.HTML object>"
      ]
     },
     "metadata": {},
     "output_type": "display_data"
    },
    {
     "data": {
      "text/html": [
       "<span style=\"color:#4527A0\"><h1 style=\"font-size:18px\">Trial summary</h1></span>"
      ],
      "text/plain": [
       "<IPython.core.display.HTML object>"
      ]
     },
     "metadata": {},
     "output_type": "display_data"
    },
    {
     "data": {
      "text/html": [
       "<span style=\"color:cyan\"> |-Trial ID: d5f88c7fa3b77fbf3c3fc19eff01e298</span>"
      ],
      "text/plain": [
       "<IPython.core.display.HTML object>"
      ]
     },
     "metadata": {},
     "output_type": "display_data"
    },
    {
     "data": {
      "text/html": [
       "<span style=\"color:cyan\"> |-Score: 0.11007634550333023</span>"
      ],
      "text/plain": [
       "<IPython.core.display.HTML object>"
      ]
     },
     "metadata": {},
     "output_type": "display_data"
    },
    {
     "data": {
      "text/html": [
       "<span style=\"color:cyan\"> |-Best step: 0</span>"
      ],
      "text/plain": [
       "<IPython.core.display.HTML object>"
      ]
     },
     "metadata": {},
     "output_type": "display_data"
    },
    {
     "data": {
      "text/html": [
       "<span style=\"color:#7E57C2\"><h2 style=\"font-size:16px\">Hyperparameters:</h2></span>"
      ],
      "text/plain": [
       "<IPython.core.display.HTML object>"
      ]
     },
     "metadata": {},
     "output_type": "display_data"
    },
    {
     "data": {
      "text/html": [
       "<span style=\"color:cyan\"> |-hidden_0_units: 232</span>"
      ],
      "text/plain": [
       "<IPython.core.display.HTML object>"
      ]
     },
     "metadata": {},
     "output_type": "display_data"
    },
    {
     "data": {
      "text/html": [
       "<span style=\"color:blue\"> |-hidden_1_units: 10</span>"
      ],
      "text/plain": [
       "<IPython.core.display.HTML object>"
      ]
     },
     "metadata": {},
     "output_type": "display_data"
    },
    {
     "data": {
      "text/html": [
       "<span style=\"color:cyan\"> |-learning_rate: 0.0001</span>"
      ],
      "text/plain": [
       "<IPython.core.display.HTML object>"
      ]
     },
     "metadata": {},
     "output_type": "display_data"
    },
    {
     "data": {
      "text/html": [
       "<span style=\"color:blue\"> |-n_layers: 2</span>"
      ],
      "text/plain": [
       "<IPython.core.display.HTML object>"
      ]
     },
     "metadata": {},
     "output_type": "display_data"
    },
    {
     "data": {
      "text/html": [
       "<span style=\"color:cyan\"> |-tuner/bracket: 2</span>"
      ],
      "text/plain": [
       "<IPython.core.display.HTML object>"
      ]
     },
     "metadata": {},
     "output_type": "display_data"
    },
    {
     "data": {
      "text/html": [
       "<span style=\"color:blue\"> |-tuner/epochs: 3</span>"
      ],
      "text/plain": [
       "<IPython.core.display.HTML object>"
      ]
     },
     "metadata": {},
     "output_type": "display_data"
    },
    {
     "data": {
      "text/html": [
       "<span style=\"color:cyan\"> |-tuner/initial_epoch: 0</span>"
      ],
      "text/plain": [
       "<IPython.core.display.HTML object>"
      ]
     },
     "metadata": {},
     "output_type": "display_data"
    },
    {
     "data": {
      "text/html": [
       "<span style=\"color:blue\"> |-tuner/round: 0</span>"
      ],
      "text/plain": [
       "<IPython.core.display.HTML object>"
      ]
     },
     "metadata": {},
     "output_type": "display_data"
    },
    {
     "name": "stdout",
     "output_type": "stream",
     "text": [
      "Train on 14450 samples, validate on 2550 samples\n",
      "Epoch 1/3\n",
      "14450/14450 - 2s - loss: 0.0436 - mean_squared_error: 0.0436 - val_loss: 0.0018 - val_mean_squared_error: 0.0018\n",
      "Epoch 2/3\n",
      "14450/14450 - 1s - loss: 8.0948e-04 - mean_squared_error: 8.0948e-04 - val_loss: 4.5100e-04 - val_mean_squared_error: 4.5100e-04\n",
      "Epoch 3/3\n",
      "14450/14450 - 1s - loss: 4.2037e-04 - mean_squared_error: 4.2037e-04 - val_loss: 3.7431e-04 - val_mean_squared_error: 3.7431e-04\n"
     ]
    },
    {
     "data": {
      "text/html": [
       "<span style=\"color:#4527A0\"><h1 style=\"font-size:18px\">Trial complete</h1></span>"
      ],
      "text/plain": [
       "<IPython.core.display.HTML object>"
      ]
     },
     "metadata": {},
     "output_type": "display_data"
    },
    {
     "data": {
      "text/html": [
       "<span style=\"color:#4527A0\"><h1 style=\"font-size:18px\">Trial summary</h1></span>"
      ],
      "text/plain": [
       "<IPython.core.display.HTML object>"
      ]
     },
     "metadata": {},
     "output_type": "display_data"
    },
    {
     "data": {
      "text/html": [
       "<span style=\"color:cyan\"> |-Trial ID: c8f6c9f00c47312c9750f1b2a1f28e57</span>"
      ],
      "text/plain": [
       "<IPython.core.display.HTML object>"
      ]
     },
     "metadata": {},
     "output_type": "display_data"
    },
    {
     "data": {
      "text/html": [
       "<span style=\"color:cyan\"> |-Score: 0.0004203654534649104</span>"
      ],
      "text/plain": [
       "<IPython.core.display.HTML object>"
      ]
     },
     "metadata": {},
     "output_type": "display_data"
    },
    {
     "data": {
      "text/html": [
       "<span style=\"color:cyan\"> |-Best step: 0</span>"
      ],
      "text/plain": [
       "<IPython.core.display.HTML object>"
      ]
     },
     "metadata": {},
     "output_type": "display_data"
    },
    {
     "data": {
      "text/html": [
       "<span style=\"color:#7E57C2\"><h2 style=\"font-size:16px\">Hyperparameters:</h2></span>"
      ],
      "text/plain": [
       "<IPython.core.display.HTML object>"
      ]
     },
     "metadata": {},
     "output_type": "display_data"
    },
    {
     "data": {
      "text/html": [
       "<span style=\"color:cyan\"> |-hidden_0_units: 100</span>"
      ],
      "text/plain": [
       "<IPython.core.display.HTML object>"
      ]
     },
     "metadata": {},
     "output_type": "display_data"
    },
    {
     "data": {
      "text/html": [
       "<span style=\"color:blue\"> |-hidden_1_units: 97</span>"
      ],
      "text/plain": [
       "<IPython.core.display.HTML object>"
      ]
     },
     "metadata": {},
     "output_type": "display_data"
    },
    {
     "data": {
      "text/html": [
       "<span style=\"color:cyan\"> |-learning_rate: 0.001</span>"
      ],
      "text/plain": [
       "<IPython.core.display.HTML object>"
      ]
     },
     "metadata": {},
     "output_type": "display_data"
    },
    {
     "data": {
      "text/html": [
       "<span style=\"color:blue\"> |-n_layers: 2</span>"
      ],
      "text/plain": [
       "<IPython.core.display.HTML object>"
      ]
     },
     "metadata": {},
     "output_type": "display_data"
    },
    {
     "data": {
      "text/html": [
       "<span style=\"color:cyan\"> |-tuner/bracket: 2</span>"
      ],
      "text/plain": [
       "<IPython.core.display.HTML object>"
      ]
     },
     "metadata": {},
     "output_type": "display_data"
    },
    {
     "data": {
      "text/html": [
       "<span style=\"color:blue\"> |-tuner/epochs: 3</span>"
      ],
      "text/plain": [
       "<IPython.core.display.HTML object>"
      ]
     },
     "metadata": {},
     "output_type": "display_data"
    },
    {
     "data": {
      "text/html": [
       "<span style=\"color:cyan\"> |-tuner/initial_epoch: 0</span>"
      ],
      "text/plain": [
       "<IPython.core.display.HTML object>"
      ]
     },
     "metadata": {},
     "output_type": "display_data"
    },
    {
     "data": {
      "text/html": [
       "<span style=\"color:blue\"> |-tuner/round: 0</span>"
      ],
      "text/plain": [
       "<IPython.core.display.HTML object>"
      ]
     },
     "metadata": {},
     "output_type": "display_data"
    },
    {
     "name": "stdout",
     "output_type": "stream",
     "text": [
      "Train on 14450 samples, validate on 2550 samples\n",
      "Epoch 1/3\n",
      "14450/14450 - 2s - loss: 0.1640 - mean_squared_error: 0.1640 - val_loss: 0.1347 - val_mean_squared_error: 0.1347\n",
      "Epoch 2/3\n",
      "14450/14450 - 1s - loss: 0.1079 - mean_squared_error: 0.1079 - val_loss: 0.0830 - val_mean_squared_error: 0.0830\n",
      "Epoch 3/3\n",
      "14450/14450 - 1s - loss: 0.0648 - mean_squared_error: 0.0648 - val_loss: 0.0496 - val_mean_squared_error: 0.0496\n"
     ]
    },
    {
     "data": {
      "text/html": [
       "<span style=\"color:#4527A0\"><h1 style=\"font-size:18px\">Trial complete</h1></span>"
      ],
      "text/plain": [
       "<IPython.core.display.HTML object>"
      ]
     },
     "metadata": {},
     "output_type": "display_data"
    },
    {
     "data": {
      "text/html": [
       "<span style=\"color:#4527A0\"><h1 style=\"font-size:18px\">Trial summary</h1></span>"
      ],
      "text/plain": [
       "<IPython.core.display.HTML object>"
      ]
     },
     "metadata": {},
     "output_type": "display_data"
    },
    {
     "data": {
      "text/html": [
       "<span style=\"color:cyan\"> |-Trial ID: 483f75bf581da20b9e6bc64b4071cee4</span>"
      ],
      "text/plain": [
       "<IPython.core.display.HTML object>"
      ]
     },
     "metadata": {},
     "output_type": "display_data"
    },
    {
     "data": {
      "text/html": [
       "<span style=\"color:cyan\"> |-Score: 0.06477098166942596</span>"
      ],
      "text/plain": [
       "<IPython.core.display.HTML object>"
      ]
     },
     "metadata": {},
     "output_type": "display_data"
    },
    {
     "data": {
      "text/html": [
       "<span style=\"color:cyan\"> |-Best step: 0</span>"
      ],
      "text/plain": [
       "<IPython.core.display.HTML object>"
      ]
     },
     "metadata": {},
     "output_type": "display_data"
    },
    {
     "data": {
      "text/html": [
       "<span style=\"color:#7E57C2\"><h2 style=\"font-size:16px\">Hyperparameters:</h2></span>"
      ],
      "text/plain": [
       "<IPython.core.display.HTML object>"
      ]
     },
     "metadata": {},
     "output_type": "display_data"
    },
    {
     "data": {
      "text/html": [
       "<span style=\"color:cyan\"> |-hidden_0_units: 218</span>"
      ],
      "text/plain": [
       "<IPython.core.display.HTML object>"
      ]
     },
     "metadata": {},
     "output_type": "display_data"
    },
    {
     "data": {
      "text/html": [
       "<span style=\"color:blue\"> |-hidden_1_units: 70</span>"
      ],
      "text/plain": [
       "<IPython.core.display.HTML object>"
      ]
     },
     "metadata": {},
     "output_type": "display_data"
    },
    {
     "data": {
      "text/html": [
       "<span style=\"color:cyan\"> |-learning_rate: 0.0001</span>"
      ],
      "text/plain": [
       "<IPython.core.display.HTML object>"
      ]
     },
     "metadata": {},
     "output_type": "display_data"
    },
    {
     "data": {
      "text/html": [
       "<span style=\"color:blue\"> |-n_layers: 1</span>"
      ],
      "text/plain": [
       "<IPython.core.display.HTML object>"
      ]
     },
     "metadata": {},
     "output_type": "display_data"
    },
    {
     "data": {
      "text/html": [
       "<span style=\"color:cyan\"> |-tuner/bracket: 2</span>"
      ],
      "text/plain": [
       "<IPython.core.display.HTML object>"
      ]
     },
     "metadata": {},
     "output_type": "display_data"
    },
    {
     "data": {
      "text/html": [
       "<span style=\"color:blue\"> |-tuner/epochs: 3</span>"
      ],
      "text/plain": [
       "<IPython.core.display.HTML object>"
      ]
     },
     "metadata": {},
     "output_type": "display_data"
    },
    {
     "data": {
      "text/html": [
       "<span style=\"color:cyan\"> |-tuner/initial_epoch: 0</span>"
      ],
      "text/plain": [
       "<IPython.core.display.HTML object>"
      ]
     },
     "metadata": {},
     "output_type": "display_data"
    },
    {
     "data": {
      "text/html": [
       "<span style=\"color:blue\"> |-tuner/round: 0</span>"
      ],
      "text/plain": [
       "<IPython.core.display.HTML object>"
      ]
     },
     "metadata": {},
     "output_type": "display_data"
    },
    {
     "name": "stdout",
     "output_type": "stream",
     "text": [
      "Train on 14450 samples, validate on 2550 samples\n",
      "Epoch 1/3\n",
      "14450/14450 - 2s - loss: 0.0070 - mean_squared_error: 0.0070 - val_loss: 4.6514e-04 - val_mean_squared_error: 4.6514e-04\n",
      "Epoch 2/3\n",
      "14450/14450 - 1s - loss: 7.1008e-04 - mean_squared_error: 7.1008e-04 - val_loss: 4.7790e-04 - val_mean_squared_error: 4.7790e-04\n",
      "Epoch 3/3\n",
      "14450/14450 - 1s - loss: 6.1071e-04 - mean_squared_error: 6.1071e-04 - val_loss: 5.5840e-04 - val_mean_squared_error: 5.5840e-04\n"
     ]
    },
    {
     "data": {
      "text/html": [
       "<span style=\"color:#4527A0\"><h1 style=\"font-size:18px\">Trial complete</h1></span>"
      ],
      "text/plain": [
       "<IPython.core.display.HTML object>"
      ]
     },
     "metadata": {},
     "output_type": "display_data"
    },
    {
     "data": {
      "text/html": [
       "<span style=\"color:#4527A0\"><h1 style=\"font-size:18px\">Trial summary</h1></span>"
      ],
      "text/plain": [
       "<IPython.core.display.HTML object>"
      ]
     },
     "metadata": {},
     "output_type": "display_data"
    },
    {
     "data": {
      "text/html": [
       "<span style=\"color:cyan\"> |-Trial ID: 5dfd5bb060a3d2747227f1daf7a03109</span>"
      ],
      "text/plain": [
       "<IPython.core.display.HTML object>"
      ]
     },
     "metadata": {},
     "output_type": "display_data"
    },
    {
     "data": {
      "text/html": [
       "<span style=\"color:cyan\"> |-Score: 0.0006107126828283072</span>"
      ],
      "text/plain": [
       "<IPython.core.display.HTML object>"
      ]
     },
     "metadata": {},
     "output_type": "display_data"
    },
    {
     "data": {
      "text/html": [
       "<span style=\"color:cyan\"> |-Best step: 0</span>"
      ],
      "text/plain": [
       "<IPython.core.display.HTML object>"
      ]
     },
     "metadata": {},
     "output_type": "display_data"
    },
    {
     "data": {
      "text/html": [
       "<span style=\"color:#7E57C2\"><h2 style=\"font-size:16px\">Hyperparameters:</h2></span>"
      ],
      "text/plain": [
       "<IPython.core.display.HTML object>"
      ]
     },
     "metadata": {},
     "output_type": "display_data"
    },
    {
     "data": {
      "text/html": [
       "<span style=\"color:cyan\"> |-hidden_0_units: 177</span>"
      ],
      "text/plain": [
       "<IPython.core.display.HTML object>"
      ]
     },
     "metadata": {},
     "output_type": "display_data"
    },
    {
     "data": {
      "text/html": [
       "<span style=\"color:blue\"> |-hidden_1_units: 172</span>"
      ],
      "text/plain": [
       "<IPython.core.display.HTML object>"
      ]
     },
     "metadata": {},
     "output_type": "display_data"
    },
    {
     "data": {
      "text/html": [
       "<span style=\"color:cyan\"> |-learning_rate: 0.01</span>"
      ],
      "text/plain": [
       "<IPython.core.display.HTML object>"
      ]
     },
     "metadata": {},
     "output_type": "display_data"
    },
    {
     "data": {
      "text/html": [
       "<span style=\"color:blue\"> |-n_layers: 1</span>"
      ],
      "text/plain": [
       "<IPython.core.display.HTML object>"
      ]
     },
     "metadata": {},
     "output_type": "display_data"
    },
    {
     "data": {
      "text/html": [
       "<span style=\"color:cyan\"> |-tuner/bracket: 2</span>"
      ],
      "text/plain": [
       "<IPython.core.display.HTML object>"
      ]
     },
     "metadata": {},
     "output_type": "display_data"
    },
    {
     "data": {
      "text/html": [
       "<span style=\"color:blue\"> |-tuner/epochs: 3</span>"
      ],
      "text/plain": [
       "<IPython.core.display.HTML object>"
      ]
     },
     "metadata": {},
     "output_type": "display_data"
    },
    {
     "data": {
      "text/html": [
       "<span style=\"color:cyan\"> |-tuner/initial_epoch: 0</span>"
      ],
      "text/plain": [
       "<IPython.core.display.HTML object>"
      ]
     },
     "metadata": {},
     "output_type": "display_data"
    },
    {
     "data": {
      "text/html": [
       "<span style=\"color:blue\"> |-tuner/round: 0</span>"
      ],
      "text/plain": [
       "<IPython.core.display.HTML object>"
      ]
     },
     "metadata": {},
     "output_type": "display_data"
    },
    {
     "name": "stdout",
     "output_type": "stream",
     "text": [
      "Train on 14450 samples, validate on 2550 samples\n",
      "Epoch 1/3\n",
      "14450/14450 - 2s - loss: 0.1420 - mean_squared_error: 0.1420 - val_loss: 0.0895 - val_mean_squared_error: 0.0895\n",
      "Epoch 2/3\n",
      "14450/14450 - 2s - loss: 0.0603 - mean_squared_error: 0.0603 - val_loss: 0.0379 - val_mean_squared_error: 0.0379\n",
      "Epoch 3/3\n",
      "14450/14450 - 2s - loss: 0.0243 - mean_squared_error: 0.0243 - val_loss: 0.0141 - val_mean_squared_error: 0.0141\n"
     ]
    },
    {
     "data": {
      "text/html": [
       "<span style=\"color:#4527A0\"><h1 style=\"font-size:18px\">Trial complete</h1></span>"
      ],
      "text/plain": [
       "<IPython.core.display.HTML object>"
      ]
     },
     "metadata": {},
     "output_type": "display_data"
    },
    {
     "data": {
      "text/html": [
       "<span style=\"color:#4527A0\"><h1 style=\"font-size:18px\">Trial summary</h1></span>"
      ],
      "text/plain": [
       "<IPython.core.display.HTML object>"
      ]
     },
     "metadata": {},
     "output_type": "display_data"
    },
    {
     "data": {
      "text/html": [
       "<span style=\"color:cyan\"> |-Trial ID: dae85b4b7a7d19d970de799402dddfcc</span>"
      ],
      "text/plain": [
       "<IPython.core.display.HTML object>"
      ]
     },
     "metadata": {},
     "output_type": "display_data"
    },
    {
     "data": {
      "text/html": [
       "<span style=\"color:cyan\"> |-Score: 0.024349499493837357</span>"
      ],
      "text/plain": [
       "<IPython.core.display.HTML object>"
      ]
     },
     "metadata": {},
     "output_type": "display_data"
    },
    {
     "data": {
      "text/html": [
       "<span style=\"color:cyan\"> |-Best step: 0</span>"
      ],
      "text/plain": [
       "<IPython.core.display.HTML object>"
      ]
     },
     "metadata": {},
     "output_type": "display_data"
    },
    {
     "data": {
      "text/html": [
       "<span style=\"color:#7E57C2\"><h2 style=\"font-size:16px\">Hyperparameters:</h2></span>"
      ],
      "text/plain": [
       "<IPython.core.display.HTML object>"
      ]
     },
     "metadata": {},
     "output_type": "display_data"
    },
    {
     "data": {
      "text/html": [
       "<span style=\"color:cyan\"> |-hidden_0_units: 256</span>"
      ],
      "text/plain": [
       "<IPython.core.display.HTML object>"
      ]
     },
     "metadata": {},
     "output_type": "display_data"
    },
    {
     "data": {
      "text/html": [
       "<span style=\"color:blue\"> |-hidden_1_units: 107</span>"
      ],
      "text/plain": [
       "<IPython.core.display.HTML object>"
      ]
     },
     "metadata": {},
     "output_type": "display_data"
    },
    {
     "data": {
      "text/html": [
       "<span style=\"color:cyan\"> |-learning_rate: 0.0001</span>"
      ],
      "text/plain": [
       "<IPython.core.display.HTML object>"
      ]
     },
     "metadata": {},
     "output_type": "display_data"
    },
    {
     "data": {
      "text/html": [
       "<span style=\"color:blue\"> |-n_layers: 2</span>"
      ],
      "text/plain": [
       "<IPython.core.display.HTML object>"
      ]
     },
     "metadata": {},
     "output_type": "display_data"
    },
    {
     "data": {
      "text/html": [
       "<span style=\"color:cyan\"> |-tuner/bracket: 2</span>"
      ],
      "text/plain": [
       "<IPython.core.display.HTML object>"
      ]
     },
     "metadata": {},
     "output_type": "display_data"
    },
    {
     "data": {
      "text/html": [
       "<span style=\"color:blue\"> |-tuner/epochs: 3</span>"
      ],
      "text/plain": [
       "<IPython.core.display.HTML object>"
      ]
     },
     "metadata": {},
     "output_type": "display_data"
    },
    {
     "data": {
      "text/html": [
       "<span style=\"color:cyan\"> |-tuner/initial_epoch: 0</span>"
      ],
      "text/plain": [
       "<IPython.core.display.HTML object>"
      ]
     },
     "metadata": {},
     "output_type": "display_data"
    },
    {
     "data": {
      "text/html": [
       "<span style=\"color:blue\"> |-tuner/round: 0</span>"
      ],
      "text/plain": [
       "<IPython.core.display.HTML object>"
      ]
     },
     "metadata": {},
     "output_type": "display_data"
    },
    {
     "name": "stdout",
     "output_type": "stream",
     "text": [
      "Train on 14450 samples, validate on 2550 samples\n",
      "Epoch 1/3\n",
      "14450/14450 - 2s - loss: 0.0186 - mean_squared_error: 0.0186 - val_loss: 7.1810e-04 - val_mean_squared_error: 7.1810e-04\n",
      "Epoch 2/3\n",
      "14450/14450 - 2s - loss: 4.4966e-04 - mean_squared_error: 4.4966e-04 - val_loss: 6.2841e-04 - val_mean_squared_error: 6.2841e-04\n",
      "Epoch 3/3\n",
      "14450/14450 - 2s - loss: 4.6841e-04 - mean_squared_error: 4.6841e-04 - val_loss: 5.3653e-04 - val_mean_squared_error: 5.3653e-04\n"
     ]
    },
    {
     "data": {
      "text/html": [
       "<span style=\"color:#4527A0\"><h1 style=\"font-size:18px\">Trial complete</h1></span>"
      ],
      "text/plain": [
       "<IPython.core.display.HTML object>"
      ]
     },
     "metadata": {},
     "output_type": "display_data"
    },
    {
     "data": {
      "text/html": [
       "<span style=\"color:#4527A0\"><h1 style=\"font-size:18px\">Trial summary</h1></span>"
      ],
      "text/plain": [
       "<IPython.core.display.HTML object>"
      ]
     },
     "metadata": {},
     "output_type": "display_data"
    },
    {
     "data": {
      "text/html": [
       "<span style=\"color:cyan\"> |-Trial ID: 434831b1e3129a15cb6cd1dec6ccaa79</span>"
      ],
      "text/plain": [
       "<IPython.core.display.HTML object>"
      ]
     },
     "metadata": {},
     "output_type": "display_data"
    },
    {
     "data": {
      "text/html": [
       "<span style=\"color:cyan\"> |-Score: 0.00044966209679841995</span>"
      ],
      "text/plain": [
       "<IPython.core.display.HTML object>"
      ]
     },
     "metadata": {},
     "output_type": "display_data"
    },
    {
     "data": {
      "text/html": [
       "<span style=\"color:cyan\"> |-Best step: 0</span>"
      ],
      "text/plain": [
       "<IPython.core.display.HTML object>"
      ]
     },
     "metadata": {},
     "output_type": "display_data"
    },
    {
     "data": {
      "text/html": [
       "<span style=\"color:#7E57C2\"><h2 style=\"font-size:16px\">Hyperparameters:</h2></span>"
      ],
      "text/plain": [
       "<IPython.core.display.HTML object>"
      ]
     },
     "metadata": {},
     "output_type": "display_data"
    },
    {
     "data": {
      "text/html": [
       "<span style=\"color:cyan\"> |-hidden_0_units: 215</span>"
      ],
      "text/plain": [
       "<IPython.core.display.HTML object>"
      ]
     },
     "metadata": {},
     "output_type": "display_data"
    },
    {
     "data": {
      "text/html": [
       "<span style=\"color:blue\"> |-hidden_1_units: 311</span>"
      ],
      "text/plain": [
       "<IPython.core.display.HTML object>"
      ]
     },
     "metadata": {},
     "output_type": "display_data"
    },
    {
     "data": {
      "text/html": [
       "<span style=\"color:cyan\"> |-learning_rate: 0.001</span>"
      ],
      "text/plain": [
       "<IPython.core.display.HTML object>"
      ]
     },
     "metadata": {},
     "output_type": "display_data"
    },
    {
     "data": {
      "text/html": [
       "<span style=\"color:blue\"> |-n_layers: 2</span>"
      ],
      "text/plain": [
       "<IPython.core.display.HTML object>"
      ]
     },
     "metadata": {},
     "output_type": "display_data"
    },
    {
     "data": {
      "text/html": [
       "<span style=\"color:cyan\"> |-tuner/bracket: 2</span>"
      ],
      "text/plain": [
       "<IPython.core.display.HTML object>"
      ]
     },
     "metadata": {},
     "output_type": "display_data"
    },
    {
     "data": {
      "text/html": [
       "<span style=\"color:blue\"> |-tuner/epochs: 3</span>"
      ],
      "text/plain": [
       "<IPython.core.display.HTML object>"
      ]
     },
     "metadata": {},
     "output_type": "display_data"
    },
    {
     "data": {
      "text/html": [
       "<span style=\"color:cyan\"> |-tuner/initial_epoch: 0</span>"
      ],
      "text/plain": [
       "<IPython.core.display.HTML object>"
      ]
     },
     "metadata": {},
     "output_type": "display_data"
    },
    {
     "data": {
      "text/html": [
       "<span style=\"color:blue\"> |-tuner/round: 0</span>"
      ],
      "text/plain": [
       "<IPython.core.display.HTML object>"
      ]
     },
     "metadata": {},
     "output_type": "display_data"
    },
    {
     "name": "stdout",
     "output_type": "stream",
     "text": [
      "Train on 14450 samples, validate on 2550 samples\n",
      "Epoch 1/3\n",
      "14450/14450 - 2s - loss: 0.0125 - mean_squared_error: 0.0125 - val_loss: 4.9479e-04 - val_mean_squared_error: 4.9479e-04\n",
      "Epoch 2/3\n",
      "14450/14450 - 1s - loss: 5.5302e-04 - mean_squared_error: 5.5302e-04 - val_loss: 3.9756e-04 - val_mean_squared_error: 3.9756e-04\n",
      "Epoch 3/3\n",
      "14450/14450 - 1s - loss: 4.6766e-04 - mean_squared_error: 4.6766e-04 - val_loss: 5.6836e-04 - val_mean_squared_error: 5.6836e-04\n"
     ]
    },
    {
     "data": {
      "text/html": [
       "<span style=\"color:#4527A0\"><h1 style=\"font-size:18px\">Trial complete</h1></span>"
      ],
      "text/plain": [
       "<IPython.core.display.HTML object>"
      ]
     },
     "metadata": {},
     "output_type": "display_data"
    },
    {
     "data": {
      "text/html": [
       "<span style=\"color:#4527A0\"><h1 style=\"font-size:18px\">Trial summary</h1></span>"
      ],
      "text/plain": [
       "<IPython.core.display.HTML object>"
      ]
     },
     "metadata": {},
     "output_type": "display_data"
    },
    {
     "data": {
      "text/html": [
       "<span style=\"color:cyan\"> |-Trial ID: 75135a79b534df6a48f478d645ee89b6</span>"
      ],
      "text/plain": [
       "<IPython.core.display.HTML object>"
      ]
     },
     "metadata": {},
     "output_type": "display_data"
    },
    {
     "data": {
      "text/html": [
       "<span style=\"color:cyan\"> |-Score: 0.0004676553944591433</span>"
      ],
      "text/plain": [
       "<IPython.core.display.HTML object>"
      ]
     },
     "metadata": {},
     "output_type": "display_data"
    },
    {
     "data": {
      "text/html": [
       "<span style=\"color:cyan\"> |-Best step: 0</span>"
      ],
      "text/plain": [
       "<IPython.core.display.HTML object>"
      ]
     },
     "metadata": {},
     "output_type": "display_data"
    },
    {
     "data": {
      "text/html": [
       "<span style=\"color:#7E57C2\"><h2 style=\"font-size:16px\">Hyperparameters:</h2></span>"
      ],
      "text/plain": [
       "<IPython.core.display.HTML object>"
      ]
     },
     "metadata": {},
     "output_type": "display_data"
    },
    {
     "data": {
      "text/html": [
       "<span style=\"color:cyan\"> |-hidden_0_units: 68</span>"
      ],
      "text/plain": [
       "<IPython.core.display.HTML object>"
      ]
     },
     "metadata": {},
     "output_type": "display_data"
    },
    {
     "data": {
      "text/html": [
       "<span style=\"color:blue\"> |-hidden_1_units: 296</span>"
      ],
      "text/plain": [
       "<IPython.core.display.HTML object>"
      ]
     },
     "metadata": {},
     "output_type": "display_data"
    },
    {
     "data": {
      "text/html": [
       "<span style=\"color:cyan\"> |-learning_rate: 0.01</span>"
      ],
      "text/plain": [
       "<IPython.core.display.HTML object>"
      ]
     },
     "metadata": {},
     "output_type": "display_data"
    },
    {
     "data": {
      "text/html": [
       "<span style=\"color:blue\"> |-n_layers: 1</span>"
      ],
      "text/plain": [
       "<IPython.core.display.HTML object>"
      ]
     },
     "metadata": {},
     "output_type": "display_data"
    },
    {
     "data": {
      "text/html": [
       "<span style=\"color:cyan\"> |-tuner/bracket: 2</span>"
      ],
      "text/plain": [
       "<IPython.core.display.HTML object>"
      ]
     },
     "metadata": {},
     "output_type": "display_data"
    },
    {
     "data": {
      "text/html": [
       "<span style=\"color:blue\"> |-tuner/epochs: 3</span>"
      ],
      "text/plain": [
       "<IPython.core.display.HTML object>"
      ]
     },
     "metadata": {},
     "output_type": "display_data"
    },
    {
     "data": {
      "text/html": [
       "<span style=\"color:cyan\"> |-tuner/initial_epoch: 0</span>"
      ],
      "text/plain": [
       "<IPython.core.display.HTML object>"
      ]
     },
     "metadata": {},
     "output_type": "display_data"
    },
    {
     "data": {
      "text/html": [
       "<span style=\"color:blue\"> |-tuner/round: 0</span>"
      ],
      "text/plain": [
       "<IPython.core.display.HTML object>"
      ]
     },
     "metadata": {},
     "output_type": "display_data"
    },
    {
     "name": "stdout",
     "output_type": "stream",
     "text": [
      "Train on 14450 samples, validate on 2550 samples\n",
      "Epoch 1/3\n",
      "14450/14450 - 2s - loss: 0.0376 - mean_squared_error: 0.0376 - val_loss: 0.0020 - val_mean_squared_error: 0.0020\n",
      "Epoch 2/3\n",
      "14450/14450 - 1s - loss: 0.0010 - mean_squared_error: 0.0010 - val_loss: 5.9553e-04 - val_mean_squared_error: 5.9553e-04\n",
      "Epoch 3/3\n",
      "14450/14450 - 1s - loss: 5.0725e-04 - mean_squared_error: 5.0725e-04 - val_loss: 4.0259e-04 - val_mean_squared_error: 4.0259e-04\n"
     ]
    },
    {
     "data": {
      "text/html": [
       "<span style=\"color:#4527A0\"><h1 style=\"font-size:18px\">Trial complete</h1></span>"
      ],
      "text/plain": [
       "<IPython.core.display.HTML object>"
      ]
     },
     "metadata": {},
     "output_type": "display_data"
    },
    {
     "data": {
      "text/html": [
       "<span style=\"color:#4527A0\"><h1 style=\"font-size:18px\">Trial summary</h1></span>"
      ],
      "text/plain": [
       "<IPython.core.display.HTML object>"
      ]
     },
     "metadata": {},
     "output_type": "display_data"
    },
    {
     "data": {
      "text/html": [
       "<span style=\"color:cyan\"> |-Trial ID: fcfc581bb977b6b30cc84df1e34d29f7</span>"
      ],
      "text/plain": [
       "<IPython.core.display.HTML object>"
      ]
     },
     "metadata": {},
     "output_type": "display_data"
    },
    {
     "data": {
      "text/html": [
       "<span style=\"color:cyan\"> |-Score: 0.000507248449139297</span>"
      ],
      "text/plain": [
       "<IPython.core.display.HTML object>"
      ]
     },
     "metadata": {},
     "output_type": "display_data"
    },
    {
     "data": {
      "text/html": [
       "<span style=\"color:cyan\"> |-Best step: 0</span>"
      ],
      "text/plain": [
       "<IPython.core.display.HTML object>"
      ]
     },
     "metadata": {},
     "output_type": "display_data"
    },
    {
     "data": {
      "text/html": [
       "<span style=\"color:#7E57C2\"><h2 style=\"font-size:16px\">Hyperparameters:</h2></span>"
      ],
      "text/plain": [
       "<IPython.core.display.HTML object>"
      ]
     },
     "metadata": {},
     "output_type": "display_data"
    },
    {
     "data": {
      "text/html": [
       "<span style=\"color:cyan\"> |-hidden_0_units: 301</span>"
      ],
      "text/plain": [
       "<IPython.core.display.HTML object>"
      ]
     },
     "metadata": {},
     "output_type": "display_data"
    },
    {
     "data": {
      "text/html": [
       "<span style=\"color:blue\"> |-hidden_1_units: 216</span>"
      ],
      "text/plain": [
       "<IPython.core.display.HTML object>"
      ]
     },
     "metadata": {},
     "output_type": "display_data"
    },
    {
     "data": {
      "text/html": [
       "<span style=\"color:cyan\"> |-learning_rate: 0.001</span>"
      ],
      "text/plain": [
       "<IPython.core.display.HTML object>"
      ]
     },
     "metadata": {},
     "output_type": "display_data"
    },
    {
     "data": {
      "text/html": [
       "<span style=\"color:blue\"> |-n_layers: 1</span>"
      ],
      "text/plain": [
       "<IPython.core.display.HTML object>"
      ]
     },
     "metadata": {},
     "output_type": "display_data"
    },
    {
     "data": {
      "text/html": [
       "<span style=\"color:cyan\"> |-tuner/bracket: 2</span>"
      ],
      "text/plain": [
       "<IPython.core.display.HTML object>"
      ]
     },
     "metadata": {},
     "output_type": "display_data"
    },
    {
     "data": {
      "text/html": [
       "<span style=\"color:blue\"> |-tuner/epochs: 3</span>"
      ],
      "text/plain": [
       "<IPython.core.display.HTML object>"
      ]
     },
     "metadata": {},
     "output_type": "display_data"
    },
    {
     "data": {
      "text/html": [
       "<span style=\"color:cyan\"> |-tuner/initial_epoch: 0</span>"
      ],
      "text/plain": [
       "<IPython.core.display.HTML object>"
      ]
     },
     "metadata": {},
     "output_type": "display_data"
    },
    {
     "data": {
      "text/html": [
       "<span style=\"color:blue\"> |-tuner/round: 0</span>"
      ],
      "text/plain": [
       "<IPython.core.display.HTML object>"
      ]
     },
     "metadata": {},
     "output_type": "display_data"
    },
    {
     "name": "stdout",
     "output_type": "stream",
     "text": [
      "Train on 14450 samples, validate on 2550 samples\n",
      "Epoch 1/3\n",
      "14450/14450 - 2s - loss: 0.1149 - mean_squared_error: 0.1149 - val_loss: 0.0528 - val_mean_squared_error: 0.0528\n",
      "Epoch 2/3\n",
      "14450/14450 - 2s - loss: 0.0281 - mean_squared_error: 0.0281 - val_loss: 0.0121 - val_mean_squared_error: 0.0121\n",
      "Epoch 3/3\n",
      "14450/14450 - 2s - loss: 0.0066 - mean_squared_error: 0.0066 - val_loss: 0.0034 - val_mean_squared_error: 0.0034\n"
     ]
    },
    {
     "data": {
      "text/html": [
       "<span style=\"color:#4527A0\"><h1 style=\"font-size:18px\">Trial complete</h1></span>"
      ],
      "text/plain": [
       "<IPython.core.display.HTML object>"
      ]
     },
     "metadata": {},
     "output_type": "display_data"
    },
    {
     "data": {
      "text/html": [
       "<span style=\"color:#4527A0\"><h1 style=\"font-size:18px\">Trial summary</h1></span>"
      ],
      "text/plain": [
       "<IPython.core.display.HTML object>"
      ]
     },
     "metadata": {},
     "output_type": "display_data"
    },
    {
     "data": {
      "text/html": [
       "<span style=\"color:cyan\"> |-Trial ID: dfe381258660fcabbe7ca6da5b9b533b</span>"
      ],
      "text/plain": [
       "<IPython.core.display.HTML object>"
      ]
     },
     "metadata": {},
     "output_type": "display_data"
    },
    {
     "data": {
      "text/html": [
       "<span style=\"color:cyan\"> |-Score: 0.006645233836025</span>"
      ],
      "text/plain": [
       "<IPython.core.display.HTML object>"
      ]
     },
     "metadata": {},
     "output_type": "display_data"
    },
    {
     "data": {
      "text/html": [
       "<span style=\"color:cyan\"> |-Best step: 0</span>"
      ],
      "text/plain": [
       "<IPython.core.display.HTML object>"
      ]
     },
     "metadata": {},
     "output_type": "display_data"
    },
    {
     "data": {
      "text/html": [
       "<span style=\"color:#7E57C2\"><h2 style=\"font-size:16px\">Hyperparameters:</h2></span>"
      ],
      "text/plain": [
       "<IPython.core.display.HTML object>"
      ]
     },
     "metadata": {},
     "output_type": "display_data"
    },
    {
     "data": {
      "text/html": [
       "<span style=\"color:cyan\"> |-hidden_0_units: 286</span>"
      ],
      "text/plain": [
       "<IPython.core.display.HTML object>"
      ]
     },
     "metadata": {},
     "output_type": "display_data"
    },
    {
     "data": {
      "text/html": [
       "<span style=\"color:blue\"> |-hidden_1_units: 267</span>"
      ],
      "text/plain": [
       "<IPython.core.display.HTML object>"
      ]
     },
     "metadata": {},
     "output_type": "display_data"
    },
    {
     "data": {
      "text/html": [
       "<span style=\"color:cyan\"> |-learning_rate: 0.0001</span>"
      ],
      "text/plain": [
       "<IPython.core.display.HTML object>"
      ]
     },
     "metadata": {},
     "output_type": "display_data"
    },
    {
     "data": {
      "text/html": [
       "<span style=\"color:blue\"> |-n_layers: 2</span>"
      ],
      "text/plain": [
       "<IPython.core.display.HTML object>"
      ]
     },
     "metadata": {},
     "output_type": "display_data"
    },
    {
     "data": {
      "text/html": [
       "<span style=\"color:cyan\"> |-tuner/bracket: 2</span>"
      ],
      "text/plain": [
       "<IPython.core.display.HTML object>"
      ]
     },
     "metadata": {},
     "output_type": "display_data"
    },
    {
     "data": {
      "text/html": [
       "<span style=\"color:blue\"> |-tuner/epochs: 3</span>"
      ],
      "text/plain": [
       "<IPython.core.display.HTML object>"
      ]
     },
     "metadata": {},
     "output_type": "display_data"
    },
    {
     "data": {
      "text/html": [
       "<span style=\"color:cyan\"> |-tuner/initial_epoch: 0</span>"
      ],
      "text/plain": [
       "<IPython.core.display.HTML object>"
      ]
     },
     "metadata": {},
     "output_type": "display_data"
    },
    {
     "data": {
      "text/html": [
       "<span style=\"color:blue\"> |-tuner/round: 0</span>"
      ],
      "text/plain": [
       "<IPython.core.display.HTML object>"
      ]
     },
     "metadata": {},
     "output_type": "display_data"
    },
    {
     "name": "stdout",
     "output_type": "stream",
     "text": [
      "Train on 14450 samples, validate on 2550 samples\n",
      "Epoch 1/3\n",
      "14450/14450 - 2s - loss: 0.0062 - mean_squared_error: 0.0062 - val_loss: 0.0016 - val_mean_squared_error: 0.0016\n",
      "Epoch 2/3\n",
      "14450/14450 - 2s - loss: 0.0750 - mean_squared_error: 0.0750 - val_loss: 0.1820 - val_mean_squared_error: 0.1820\n",
      "Epoch 3/3\n",
      "14450/14450 - 2s - loss: 0.2303 - mean_squared_error: 0.2303 - val_loss: 0.2202 - val_mean_squared_error: 0.2202\n"
     ]
    },
    {
     "data": {
      "text/html": [
       "<span style=\"color:#4527A0\"><h1 style=\"font-size:18px\">Trial complete</h1></span>"
      ],
      "text/plain": [
       "<IPython.core.display.HTML object>"
      ]
     },
     "metadata": {},
     "output_type": "display_data"
    },
    {
     "data": {
      "text/html": [
       "<span style=\"color:#4527A0\"><h1 style=\"font-size:18px\">Trial summary</h1></span>"
      ],
      "text/plain": [
       "<IPython.core.display.HTML object>"
      ]
     },
     "metadata": {},
     "output_type": "display_data"
    },
    {
     "data": {
      "text/html": [
       "<span style=\"color:cyan\"> |-Trial ID: edd7f5db37a51ec8f2800c9c9b95366a</span>"
      ],
      "text/plain": [
       "<IPython.core.display.HTML object>"
      ]
     },
     "metadata": {},
     "output_type": "display_data"
    },
    {
     "data": {
      "text/html": [
       "<span style=\"color:cyan\"> |-Score: 0.006187327206134796</span>"
      ],
      "text/plain": [
       "<IPython.core.display.HTML object>"
      ]
     },
     "metadata": {},
     "output_type": "display_data"
    },
    {
     "data": {
      "text/html": [
       "<span style=\"color:cyan\"> |-Best step: 0</span>"
      ],
      "text/plain": [
       "<IPython.core.display.HTML object>"
      ]
     },
     "metadata": {},
     "output_type": "display_data"
    },
    {
     "data": {
      "text/html": [
       "<span style=\"color:#7E57C2\"><h2 style=\"font-size:16px\">Hyperparameters:</h2></span>"
      ],
      "text/plain": [
       "<IPython.core.display.HTML object>"
      ]
     },
     "metadata": {},
     "output_type": "display_data"
    },
    {
     "data": {
      "text/html": [
       "<span style=\"color:cyan\"> |-hidden_0_units: 269</span>"
      ],
      "text/plain": [
       "<IPython.core.display.HTML object>"
      ]
     },
     "metadata": {},
     "output_type": "display_data"
    },
    {
     "data": {
      "text/html": [
       "<span style=\"color:blue\"> |-hidden_1_units: 154</span>"
      ],
      "text/plain": [
       "<IPython.core.display.HTML object>"
      ]
     },
     "metadata": {},
     "output_type": "display_data"
    },
    {
     "data": {
      "text/html": [
       "<span style=\"color:cyan\"> |-learning_rate: 0.01</span>"
      ],
      "text/plain": [
       "<IPython.core.display.HTML object>"
      ]
     },
     "metadata": {},
     "output_type": "display_data"
    },
    {
     "data": {
      "text/html": [
       "<span style=\"color:blue\"> |-n_layers: 2</span>"
      ],
      "text/plain": [
       "<IPython.core.display.HTML object>"
      ]
     },
     "metadata": {},
     "output_type": "display_data"
    },
    {
     "data": {
      "text/html": [
       "<span style=\"color:cyan\"> |-tuner/bracket: 2</span>"
      ],
      "text/plain": [
       "<IPython.core.display.HTML object>"
      ]
     },
     "metadata": {},
     "output_type": "display_data"
    },
    {
     "data": {
      "text/html": [
       "<span style=\"color:blue\"> |-tuner/epochs: 3</span>"
      ],
      "text/plain": [
       "<IPython.core.display.HTML object>"
      ]
     },
     "metadata": {},
     "output_type": "display_data"
    },
    {
     "data": {
      "text/html": [
       "<span style=\"color:cyan\"> |-tuner/initial_epoch: 0</span>"
      ],
      "text/plain": [
       "<IPython.core.display.HTML object>"
      ]
     },
     "metadata": {},
     "output_type": "display_data"
    },
    {
     "data": {
      "text/html": [
       "<span style=\"color:blue\"> |-tuner/round: 0</span>"
      ],
      "text/plain": [
       "<IPython.core.display.HTML object>"
      ]
     },
     "metadata": {},
     "output_type": "display_data"
    },
    {
     "name": "stdout",
     "output_type": "stream",
     "text": [
      "Train on 14450 samples, validate on 2550 samples\n",
      "Epoch 1/3\n",
      "14450/14450 - 2s - loss: 0.0568 - mean_squared_error: 0.0568 - val_loss: 0.0502 - val_mean_squared_error: 0.0502\n",
      "Epoch 2/3\n",
      "14450/14450 - 1s - loss: 0.0491 - mean_squared_error: 0.0491 - val_loss: 0.0499 - val_mean_squared_error: 0.0499\n",
      "Epoch 3/3\n",
      "14450/14450 - 1s - loss: 0.0482 - mean_squared_error: 0.0482 - val_loss: 0.0498 - val_mean_squared_error: 0.0498\n"
     ]
    },
    {
     "data": {
      "text/html": [
       "<span style=\"color:#4527A0\"><h1 style=\"font-size:18px\">Trial complete</h1></span>"
      ],
      "text/plain": [
       "<IPython.core.display.HTML object>"
      ]
     },
     "metadata": {},
     "output_type": "display_data"
    },
    {
     "data": {
      "text/html": [
       "<span style=\"color:#4527A0\"><h1 style=\"font-size:18px\">Trial summary</h1></span>"
      ],
      "text/plain": [
       "<IPython.core.display.HTML object>"
      ]
     },
     "metadata": {},
     "output_type": "display_data"
    },
    {
     "data": {
      "text/html": [
       "<span style=\"color:cyan\"> |-Trial ID: e7c1725c49ee01f9603d20ae818f1339</span>"
      ],
      "text/plain": [
       "<IPython.core.display.HTML object>"
      ]
     },
     "metadata": {},
     "output_type": "display_data"
    },
    {
     "data": {
      "text/html": [
       "<span style=\"color:cyan\"> |-Score: 0.04822849854826927</span>"
      ],
      "text/plain": [
       "<IPython.core.display.HTML object>"
      ]
     },
     "metadata": {},
     "output_type": "display_data"
    },
    {
     "data": {
      "text/html": [
       "<span style=\"color:cyan\"> |-Best step: 0</span>"
      ],
      "text/plain": [
       "<IPython.core.display.HTML object>"
      ]
     },
     "metadata": {},
     "output_type": "display_data"
    },
    {
     "data": {
      "text/html": [
       "<span style=\"color:#7E57C2\"><h2 style=\"font-size:16px\">Hyperparameters:</h2></span>"
      ],
      "text/plain": [
       "<IPython.core.display.HTML object>"
      ]
     },
     "metadata": {},
     "output_type": "display_data"
    },
    {
     "data": {
      "text/html": [
       "<span style=\"color:cyan\"> |-hidden_0_units: 22</span>"
      ],
      "text/plain": [
       "<IPython.core.display.HTML object>"
      ]
     },
     "metadata": {},
     "output_type": "display_data"
    },
    {
     "data": {
      "text/html": [
       "<span style=\"color:blue\"> |-hidden_1_units: 112</span>"
      ],
      "text/plain": [
       "<IPython.core.display.HTML object>"
      ]
     },
     "metadata": {},
     "output_type": "display_data"
    },
    {
     "data": {
      "text/html": [
       "<span style=\"color:cyan\"> |-learning_rate: 0.01</span>"
      ],
      "text/plain": [
       "<IPython.core.display.HTML object>"
      ]
     },
     "metadata": {},
     "output_type": "display_data"
    },
    {
     "data": {
      "text/html": [
       "<span style=\"color:blue\"> |-n_layers: 2</span>"
      ],
      "text/plain": [
       "<IPython.core.display.HTML object>"
      ]
     },
     "metadata": {},
     "output_type": "display_data"
    },
    {
     "data": {
      "text/html": [
       "<span style=\"color:cyan\"> |-tuner/bracket: 2</span>"
      ],
      "text/plain": [
       "<IPython.core.display.HTML object>"
      ]
     },
     "metadata": {},
     "output_type": "display_data"
    },
    {
     "data": {
      "text/html": [
       "<span style=\"color:blue\"> |-tuner/epochs: 3</span>"
      ],
      "text/plain": [
       "<IPython.core.display.HTML object>"
      ]
     },
     "metadata": {},
     "output_type": "display_data"
    },
    {
     "data": {
      "text/html": [
       "<span style=\"color:cyan\"> |-tuner/initial_epoch: 0</span>"
      ],
      "text/plain": [
       "<IPython.core.display.HTML object>"
      ]
     },
     "metadata": {},
     "output_type": "display_data"
    },
    {
     "data": {
      "text/html": [
       "<span style=\"color:blue\"> |-tuner/round: 0</span>"
      ],
      "text/plain": [
       "<IPython.core.display.HTML object>"
      ]
     },
     "metadata": {},
     "output_type": "display_data"
    },
    {
     "name": "stdout",
     "output_type": "stream",
     "text": [
      "Train on 14450 samples, validate on 2550 samples\n",
      "Epoch 1/3\n",
      "14450/14450 - 2s - loss: 0.1165 - mean_squared_error: 0.1165 - val_loss: 0.0532 - val_mean_squared_error: 0.0532\n",
      "Epoch 2/3\n",
      "14450/14450 - 2s - loss: 0.0283 - mean_squared_error: 0.0283 - val_loss: 0.0124 - val_mean_squared_error: 0.0124\n",
      "Epoch 3/3\n",
      "14450/14450 - 2s - loss: 0.0068 - mean_squared_error: 0.0068 - val_loss: 0.0035 - val_mean_squared_error: 0.0035\n"
     ]
    },
    {
     "data": {
      "text/html": [
       "<span style=\"color:#4527A0\"><h1 style=\"font-size:18px\">Trial complete</h1></span>"
      ],
      "text/plain": [
       "<IPython.core.display.HTML object>"
      ]
     },
     "metadata": {},
     "output_type": "display_data"
    },
    {
     "data": {
      "text/html": [
       "<span style=\"color:#4527A0\"><h1 style=\"font-size:18px\">Trial summary</h1></span>"
      ],
      "text/plain": [
       "<IPython.core.display.HTML object>"
      ]
     },
     "metadata": {},
     "output_type": "display_data"
    },
    {
     "data": {
      "text/html": [
       "<span style=\"color:cyan\"> |-Trial ID: 6a468cf592277cde801a1570087bc455</span>"
      ],
      "text/plain": [
       "<IPython.core.display.HTML object>"
      ]
     },
     "metadata": {},
     "output_type": "display_data"
    },
    {
     "data": {
      "text/html": [
       "<span style=\"color:cyan\"> |-Score: 0.006783831864595413</span>"
      ],
      "text/plain": [
       "<IPython.core.display.HTML object>"
      ]
     },
     "metadata": {},
     "output_type": "display_data"
    },
    {
     "data": {
      "text/html": [
       "<span style=\"color:cyan\"> |-Best step: 0</span>"
      ],
      "text/plain": [
       "<IPython.core.display.HTML object>"
      ]
     },
     "metadata": {},
     "output_type": "display_data"
    },
    {
     "data": {
      "text/html": [
       "<span style=\"color:#7E57C2\"><h2 style=\"font-size:16px\">Hyperparameters:</h2></span>"
      ],
      "text/plain": [
       "<IPython.core.display.HTML object>"
      ]
     },
     "metadata": {},
     "output_type": "display_data"
    },
    {
     "data": {
      "text/html": [
       "<span style=\"color:cyan\"> |-hidden_0_units: 275</span>"
      ],
      "text/plain": [
       "<IPython.core.display.HTML object>"
      ]
     },
     "metadata": {},
     "output_type": "display_data"
    },
    {
     "data": {
      "text/html": [
       "<span style=\"color:blue\"> |-hidden_1_units: 278</span>"
      ],
      "text/plain": [
       "<IPython.core.display.HTML object>"
      ]
     },
     "metadata": {},
     "output_type": "display_data"
    },
    {
     "data": {
      "text/html": [
       "<span style=\"color:cyan\"> |-learning_rate: 0.0001</span>"
      ],
      "text/plain": [
       "<IPython.core.display.HTML object>"
      ]
     },
     "metadata": {},
     "output_type": "display_data"
    },
    {
     "data": {
      "text/html": [
       "<span style=\"color:blue\"> |-n_layers: 2</span>"
      ],
      "text/plain": [
       "<IPython.core.display.HTML object>"
      ]
     },
     "metadata": {},
     "output_type": "display_data"
    },
    {
     "data": {
      "text/html": [
       "<span style=\"color:cyan\"> |-tuner/bracket: 2</span>"
      ],
      "text/plain": [
       "<IPython.core.display.HTML object>"
      ]
     },
     "metadata": {},
     "output_type": "display_data"
    },
    {
     "data": {
      "text/html": [
       "<span style=\"color:blue\"> |-tuner/epochs: 3</span>"
      ],
      "text/plain": [
       "<IPython.core.display.HTML object>"
      ]
     },
     "metadata": {},
     "output_type": "display_data"
    },
    {
     "data": {
      "text/html": [
       "<span style=\"color:cyan\"> |-tuner/initial_epoch: 0</span>"
      ],
      "text/plain": [
       "<IPython.core.display.HTML object>"
      ]
     },
     "metadata": {},
     "output_type": "display_data"
    },
    {
     "data": {
      "text/html": [
       "<span style=\"color:blue\"> |-tuner/round: 0</span>"
      ],
      "text/plain": [
       "<IPython.core.display.HTML object>"
      ]
     },
     "metadata": {},
     "output_type": "display_data"
    },
    {
     "name": "stdout",
     "output_type": "stream",
     "text": [
      "Train on 14450 samples, validate on 2550 samples\n",
      "Epoch 4/9\n",
      "14450/14450 - 2s - loss: 0.0412 - mean_squared_error: 0.0412 - val_loss: 0.0018 - val_mean_squared_error: 0.0018\n",
      "Epoch 5/9\n",
      "14450/14450 - 1s - loss: 7.8884e-04 - mean_squared_error: 7.8884e-04 - val_loss: 4.7490e-04 - val_mean_squared_error: 4.7490e-04\n",
      "Epoch 6/9\n",
      "14450/14450 - 1s - loss: 4.4139e-04 - mean_squared_error: 4.4139e-04 - val_loss: 3.8736e-04 - val_mean_squared_error: 3.8736e-04\n",
      "Epoch 7/9\n",
      "14450/14450 - 2s - loss: 3.8973e-04 - mean_squared_error: 3.8973e-04 - val_loss: 3.7289e-04 - val_mean_squared_error: 3.7289e-04\n",
      "Epoch 8/9\n",
      "14450/14450 - 2s - loss: 3.7113e-04 - mean_squared_error: 3.7113e-04 - val_loss: 4.8206e-04 - val_mean_squared_error: 4.8206e-04\n",
      "Epoch 9/9\n",
      "14450/14450 - 1s - loss: 3.9664e-04 - mean_squared_error: 3.9665e-04 - val_loss: 6.1450e-04 - val_mean_squared_error: 6.1450e-04\n"
     ]
    },
    {
     "data": {
      "text/html": [
       "<span style=\"color:#4527A0\"><h1 style=\"font-size:18px\">Trial complete</h1></span>"
      ],
      "text/plain": [
       "<IPython.core.display.HTML object>"
      ]
     },
     "metadata": {},
     "output_type": "display_data"
    },
    {
     "data": {
      "text/html": [
       "<span style=\"color:#4527A0\"><h1 style=\"font-size:18px\">Trial summary</h1></span>"
      ],
      "text/plain": [
       "<IPython.core.display.HTML object>"
      ]
     },
     "metadata": {},
     "output_type": "display_data"
    },
    {
     "data": {
      "text/html": [
       "<span style=\"color:cyan\"> |-Trial ID: 0d3d035023f33334e3383b7ef3633594</span>"
      ],
      "text/plain": [
       "<IPython.core.display.HTML object>"
      ]
     },
     "metadata": {},
     "output_type": "display_data"
    },
    {
     "data": {
      "text/html": [
       "<span style=\"color:cyan\"> |-Score: 0.00037113126018084586</span>"
      ],
      "text/plain": [
       "<IPython.core.display.HTML object>"
      ]
     },
     "metadata": {},
     "output_type": "display_data"
    },
    {
     "data": {
      "text/html": [
       "<span style=\"color:cyan\"> |-Best step: 0</span>"
      ],
      "text/plain": [
       "<IPython.core.display.HTML object>"
      ]
     },
     "metadata": {},
     "output_type": "display_data"
    },
    {
     "data": {
      "text/html": [
       "<span style=\"color:#7E57C2\"><h2 style=\"font-size:16px\">Hyperparameters:</h2></span>"
      ],
      "text/plain": [
       "<IPython.core.display.HTML object>"
      ]
     },
     "metadata": {},
     "output_type": "display_data"
    },
    {
     "data": {
      "text/html": [
       "<span style=\"color:cyan\"> |-hidden_0_units: 100</span>"
      ],
      "text/plain": [
       "<IPython.core.display.HTML object>"
      ]
     },
     "metadata": {},
     "output_type": "display_data"
    },
    {
     "data": {
      "text/html": [
       "<span style=\"color:blue\"> |-hidden_1_units: 97</span>"
      ],
      "text/plain": [
       "<IPython.core.display.HTML object>"
      ]
     },
     "metadata": {},
     "output_type": "display_data"
    },
    {
     "data": {
      "text/html": [
       "<span style=\"color:cyan\"> |-learning_rate: 0.001</span>"
      ],
      "text/plain": [
       "<IPython.core.display.HTML object>"
      ]
     },
     "metadata": {},
     "output_type": "display_data"
    },
    {
     "data": {
      "text/html": [
       "<span style=\"color:blue\"> |-n_layers: 2</span>"
      ],
      "text/plain": [
       "<IPython.core.display.HTML object>"
      ]
     },
     "metadata": {},
     "output_type": "display_data"
    },
    {
     "data": {
      "text/html": [
       "<span style=\"color:cyan\"> |-tuner/bracket: 2</span>"
      ],
      "text/plain": [
       "<IPython.core.display.HTML object>"
      ]
     },
     "metadata": {},
     "output_type": "display_data"
    },
    {
     "data": {
      "text/html": [
       "<span style=\"color:blue\"> |-tuner/epochs: 9</span>"
      ],
      "text/plain": [
       "<IPython.core.display.HTML object>"
      ]
     },
     "metadata": {},
     "output_type": "display_data"
    },
    {
     "data": {
      "text/html": [
       "<span style=\"color:cyan\"> |-tuner/initial_epoch: 3</span>"
      ],
      "text/plain": [
       "<IPython.core.display.HTML object>"
      ]
     },
     "metadata": {},
     "output_type": "display_data"
    },
    {
     "data": {
      "text/html": [
       "<span style=\"color:blue\"> |-tuner/round: 1</span>"
      ],
      "text/plain": [
       "<IPython.core.display.HTML object>"
      ]
     },
     "metadata": {},
     "output_type": "display_data"
    },
    {
     "data": {
      "text/html": [
       "<span style=\"color:cyan\"> |-tuner/trial_id: c8f6c9f00c47312c9750f1b2a1f28e57</span>"
      ],
      "text/plain": [
       "<IPython.core.display.HTML object>"
      ]
     },
     "metadata": {},
     "output_type": "display_data"
    },
    {
     "name": "stdout",
     "output_type": "stream",
     "text": [
      "Train on 14450 samples, validate on 2550 samples\n",
      "Epoch 4/9\n",
      "14450/14450 - 2s - loss: 0.0180 - mean_squared_error: 0.0180 - val_loss: 4.6222e-04 - val_mean_squared_error: 4.6222e-04\n",
      "Epoch 5/9\n",
      "14450/14450 - 2s - loss: 4.4676e-04 - mean_squared_error: 4.4676e-04 - val_loss: 4.7742e-04 - val_mean_squared_error: 4.7742e-04\n",
      "Epoch 6/9\n",
      "14450/14450 - 2s - loss: 4.3580e-04 - mean_squared_error: 4.3580e-04 - val_loss: 3.5854e-04 - val_mean_squared_error: 3.5854e-04\n",
      "Epoch 7/9\n",
      "14450/14450 - 2s - loss: 4.0962e-04 - mean_squared_error: 4.0962e-04 - val_loss: 4.2820e-04 - val_mean_squared_error: 4.2820e-04\n",
      "Epoch 8/9\n",
      "14450/14450 - 2s - loss: 4.0636e-04 - mean_squared_error: 4.0636e-04 - val_loss: 3.8501e-04 - val_mean_squared_error: 3.8501e-04\n",
      "Epoch 9/9\n",
      "14450/14450 - 2s - loss: 4.1480e-04 - mean_squared_error: 4.1480e-04 - val_loss: 4.3799e-04 - val_mean_squared_error: 4.3799e-04\n"
     ]
    },
    {
     "data": {
      "text/html": [
       "<span style=\"color:#4527A0\"><h1 style=\"font-size:18px\">Trial complete</h1></span>"
      ],
      "text/plain": [
       "<IPython.core.display.HTML object>"
      ]
     },
     "metadata": {},
     "output_type": "display_data"
    },
    {
     "data": {
      "text/html": [
       "<span style=\"color:#4527A0\"><h1 style=\"font-size:18px\">Trial summary</h1></span>"
      ],
      "text/plain": [
       "<IPython.core.display.HTML object>"
      ]
     },
     "metadata": {},
     "output_type": "display_data"
    },
    {
     "data": {
      "text/html": [
       "<span style=\"color:cyan\"> |-Trial ID: ab95e0f64df74c7bf71c4ad3ad018f49</span>"
      ],
      "text/plain": [
       "<IPython.core.display.HTML object>"
      ]
     },
     "metadata": {},
     "output_type": "display_data"
    },
    {
     "data": {
      "text/html": [
       "<span style=\"color:cyan\"> |-Score: 0.00040635999175719917</span>"
      ],
      "text/plain": [
       "<IPython.core.display.HTML object>"
      ]
     },
     "metadata": {},
     "output_type": "display_data"
    },
    {
     "data": {
      "text/html": [
       "<span style=\"color:cyan\"> |-Best step: 0</span>"
      ],
      "text/plain": [
       "<IPython.core.display.HTML object>"
      ]
     },
     "metadata": {},
     "output_type": "display_data"
    },
    {
     "data": {
      "text/html": [
       "<span style=\"color:#7E57C2\"><h2 style=\"font-size:16px\">Hyperparameters:</h2></span>"
      ],
      "text/plain": [
       "<IPython.core.display.HTML object>"
      ]
     },
     "metadata": {},
     "output_type": "display_data"
    },
    {
     "data": {
      "text/html": [
       "<span style=\"color:cyan\"> |-hidden_0_units: 215</span>"
      ],
      "text/plain": [
       "<IPython.core.display.HTML object>"
      ]
     },
     "metadata": {},
     "output_type": "display_data"
    },
    {
     "data": {
      "text/html": [
       "<span style=\"color:blue\"> |-hidden_1_units: 311</span>"
      ],
      "text/plain": [
       "<IPython.core.display.HTML object>"
      ]
     },
     "metadata": {},
     "output_type": "display_data"
    },
    {
     "data": {
      "text/html": [
       "<span style=\"color:cyan\"> |-learning_rate: 0.001</span>"
      ],
      "text/plain": [
       "<IPython.core.display.HTML object>"
      ]
     },
     "metadata": {},
     "output_type": "display_data"
    },
    {
     "data": {
      "text/html": [
       "<span style=\"color:blue\"> |-n_layers: 2</span>"
      ],
      "text/plain": [
       "<IPython.core.display.HTML object>"
      ]
     },
     "metadata": {},
     "output_type": "display_data"
    },
    {
     "data": {
      "text/html": [
       "<span style=\"color:cyan\"> |-tuner/bracket: 2</span>"
      ],
      "text/plain": [
       "<IPython.core.display.HTML object>"
      ]
     },
     "metadata": {},
     "output_type": "display_data"
    },
    {
     "data": {
      "text/html": [
       "<span style=\"color:blue\"> |-tuner/epochs: 9</span>"
      ],
      "text/plain": [
       "<IPython.core.display.HTML object>"
      ]
     },
     "metadata": {},
     "output_type": "display_data"
    },
    {
     "data": {
      "text/html": [
       "<span style=\"color:cyan\"> |-tuner/initial_epoch: 3</span>"
      ],
      "text/plain": [
       "<IPython.core.display.HTML object>"
      ]
     },
     "metadata": {},
     "output_type": "display_data"
    },
    {
     "data": {
      "text/html": [
       "<span style=\"color:blue\"> |-tuner/round: 1</span>"
      ],
      "text/plain": [
       "<IPython.core.display.HTML object>"
      ]
     },
     "metadata": {},
     "output_type": "display_data"
    },
    {
     "data": {
      "text/html": [
       "<span style=\"color:cyan\"> |-tuner/trial_id: 434831b1e3129a15cb6cd1dec6ccaa79</span>"
      ],
      "text/plain": [
       "<IPython.core.display.HTML object>"
      ]
     },
     "metadata": {},
     "output_type": "display_data"
    },
    {
     "name": "stdout",
     "output_type": "stream",
     "text": [
      "Train on 14450 samples, validate on 2550 samples\n",
      "Epoch 4/9\n",
      "14450/14450 - 2s - loss: 0.0128 - mean_squared_error: 0.0128 - val_loss: 4.2196e-04 - val_mean_squared_error: 4.2196e-04\n",
      "Epoch 5/9\n",
      "14450/14450 - 1s - loss: 5.2375e-04 - mean_squared_error: 5.2375e-04 - val_loss: 4.8783e-04 - val_mean_squared_error: 4.8783e-04\n",
      "Epoch 6/9\n",
      "14450/14450 - 1s - loss: 5.9677e-04 - mean_squared_error: 5.9677e-04 - val_loss: 3.6199e-04 - val_mean_squared_error: 3.6199e-04\n",
      "Epoch 7/9\n",
      "14450/14450 - 1s - loss: 5.2844e-04 - mean_squared_error: 5.2844e-04 - val_loss: 4.5458e-04 - val_mean_squared_error: 4.5458e-04\n",
      "Epoch 8/9\n",
      "14450/14450 - 1s - loss: 4.8339e-04 - mean_squared_error: 4.8339e-04 - val_loss: 3.8263e-04 - val_mean_squared_error: 3.8263e-04\n",
      "Epoch 9/9\n",
      "14450/14450 - 1s - loss: 4.7972e-04 - mean_squared_error: 4.7972e-04 - val_loss: 4.8482e-04 - val_mean_squared_error: 4.8482e-04\n"
     ]
    },
    {
     "data": {
      "text/html": [
       "<span style=\"color:#4527A0\"><h1 style=\"font-size:18px\">Trial complete</h1></span>"
      ],
      "text/plain": [
       "<IPython.core.display.HTML object>"
      ]
     },
     "metadata": {},
     "output_type": "display_data"
    },
    {
     "data": {
      "text/html": [
       "<span style=\"color:#4527A0\"><h1 style=\"font-size:18px\">Trial summary</h1></span>"
      ],
      "text/plain": [
       "<IPython.core.display.HTML object>"
      ]
     },
     "metadata": {},
     "output_type": "display_data"
    },
    {
     "data": {
      "text/html": [
       "<span style=\"color:cyan\"> |-Trial ID: 96cd0ea9d552f2ea958473d2c10d5977</span>"
      ],
      "text/plain": [
       "<IPython.core.display.HTML object>"
      ]
     },
     "metadata": {},
     "output_type": "display_data"
    },
    {
     "data": {
      "text/html": [
       "<span style=\"color:cyan\"> |-Score: 0.00047971963067539036</span>"
      ],
      "text/plain": [
       "<IPython.core.display.HTML object>"
      ]
     },
     "metadata": {},
     "output_type": "display_data"
    },
    {
     "data": {
      "text/html": [
       "<span style=\"color:cyan\"> |-Best step: 0</span>"
      ],
      "text/plain": [
       "<IPython.core.display.HTML object>"
      ]
     },
     "metadata": {},
     "output_type": "display_data"
    },
    {
     "data": {
      "text/html": [
       "<span style=\"color:#7E57C2\"><h2 style=\"font-size:16px\">Hyperparameters:</h2></span>"
      ],
      "text/plain": [
       "<IPython.core.display.HTML object>"
      ]
     },
     "metadata": {},
     "output_type": "display_data"
    },
    {
     "data": {
      "text/html": [
       "<span style=\"color:cyan\"> |-hidden_0_units: 68</span>"
      ],
      "text/plain": [
       "<IPython.core.display.HTML object>"
      ]
     },
     "metadata": {},
     "output_type": "display_data"
    },
    {
     "data": {
      "text/html": [
       "<span style=\"color:blue\"> |-hidden_1_units: 296</span>"
      ],
      "text/plain": [
       "<IPython.core.display.HTML object>"
      ]
     },
     "metadata": {},
     "output_type": "display_data"
    },
    {
     "data": {
      "text/html": [
       "<span style=\"color:cyan\"> |-learning_rate: 0.01</span>"
      ],
      "text/plain": [
       "<IPython.core.display.HTML object>"
      ]
     },
     "metadata": {},
     "output_type": "display_data"
    },
    {
     "data": {
      "text/html": [
       "<span style=\"color:blue\"> |-n_layers: 1</span>"
      ],
      "text/plain": [
       "<IPython.core.display.HTML object>"
      ]
     },
     "metadata": {},
     "output_type": "display_data"
    },
    {
     "data": {
      "text/html": [
       "<span style=\"color:cyan\"> |-tuner/bracket: 2</span>"
      ],
      "text/plain": [
       "<IPython.core.display.HTML object>"
      ]
     },
     "metadata": {},
     "output_type": "display_data"
    },
    {
     "data": {
      "text/html": [
       "<span style=\"color:blue\"> |-tuner/epochs: 9</span>"
      ],
      "text/plain": [
       "<IPython.core.display.HTML object>"
      ]
     },
     "metadata": {},
     "output_type": "display_data"
    },
    {
     "data": {
      "text/html": [
       "<span style=\"color:cyan\"> |-tuner/initial_epoch: 3</span>"
      ],
      "text/plain": [
       "<IPython.core.display.HTML object>"
      ]
     },
     "metadata": {},
     "output_type": "display_data"
    },
    {
     "data": {
      "text/html": [
       "<span style=\"color:blue\"> |-tuner/round: 1</span>"
      ],
      "text/plain": [
       "<IPython.core.display.HTML object>"
      ]
     },
     "metadata": {},
     "output_type": "display_data"
    },
    {
     "data": {
      "text/html": [
       "<span style=\"color:cyan\"> |-tuner/trial_id: 75135a79b534df6a48f478d645ee89b6</span>"
      ],
      "text/plain": [
       "<IPython.core.display.HTML object>"
      ]
     },
     "metadata": {},
     "output_type": "display_data"
    },
    {
     "name": "stdout",
     "output_type": "stream",
     "text": [
      "Train on 14450 samples, validate on 2550 samples\n",
      "Epoch 4/9\n",
      "14450/14450 - 2s - loss: 0.0391 - mean_squared_error: 0.0391 - val_loss: 0.0021 - val_mean_squared_error: 0.0021\n",
      "Epoch 5/9\n",
      "14450/14450 - 1s - loss: 0.0011 - mean_squared_error: 0.0011 - val_loss: 6.0928e-04 - val_mean_squared_error: 6.0928e-04\n",
      "Epoch 6/9\n",
      "14450/14450 - 1s - loss: 5.1676e-04 - mean_squared_error: 5.1676e-04 - val_loss: 4.1893e-04 - val_mean_squared_error: 4.1893e-04\n",
      "Epoch 7/9\n",
      "14450/14450 - 1s - loss: 4.1022e-04 - mean_squared_error: 4.1022e-04 - val_loss: 3.5076e-04 - val_mean_squared_error: 3.5076e-04\n",
      "Epoch 8/9\n",
      "14450/14450 - 2s - loss: 3.8487e-04 - mean_squared_error: 3.8487e-04 - val_loss: 4.3047e-04 - val_mean_squared_error: 4.3047e-04\n",
      "Epoch 9/9\n",
      "14450/14450 - 1s - loss: 3.4930e-04 - mean_squared_error: 3.4930e-04 - val_loss: 5.0934e-04 - val_mean_squared_error: 5.0934e-04\n"
     ]
    },
    {
     "data": {
      "text/html": [
       "<span style=\"color:#4527A0\"><h1 style=\"font-size:18px\">Trial complete</h1></span>"
      ],
      "text/plain": [
       "<IPython.core.display.HTML object>"
      ]
     },
     "metadata": {},
     "output_type": "display_data"
    },
    {
     "data": {
      "text/html": [
       "<span style=\"color:#4527A0\"><h1 style=\"font-size:18px\">Trial summary</h1></span>"
      ],
      "text/plain": [
       "<IPython.core.display.HTML object>"
      ]
     },
     "metadata": {},
     "output_type": "display_data"
    },
    {
     "data": {
      "text/html": [
       "<span style=\"color:cyan\"> |-Trial ID: a5de9443336010443c580dcb71375fed</span>"
      ],
      "text/plain": [
       "<IPython.core.display.HTML object>"
      ]
     },
     "metadata": {},
     "output_type": "display_data"
    },
    {
     "data": {
      "text/html": [
       "<span style=\"color:cyan\"> |-Score: 0.00034929942921735346</span>"
      ],
      "text/plain": [
       "<IPython.core.display.HTML object>"
      ]
     },
     "metadata": {},
     "output_type": "display_data"
    },
    {
     "data": {
      "text/html": [
       "<span style=\"color:cyan\"> |-Best step: 0</span>"
      ],
      "text/plain": [
       "<IPython.core.display.HTML object>"
      ]
     },
     "metadata": {},
     "output_type": "display_data"
    },
    {
     "data": {
      "text/html": [
       "<span style=\"color:#7E57C2\"><h2 style=\"font-size:16px\">Hyperparameters:</h2></span>"
      ],
      "text/plain": [
       "<IPython.core.display.HTML object>"
      ]
     },
     "metadata": {},
     "output_type": "display_data"
    },
    {
     "data": {
      "text/html": [
       "<span style=\"color:cyan\"> |-hidden_0_units: 301</span>"
      ],
      "text/plain": [
       "<IPython.core.display.HTML object>"
      ]
     },
     "metadata": {},
     "output_type": "display_data"
    },
    {
     "data": {
      "text/html": [
       "<span style=\"color:blue\"> |-hidden_1_units: 216</span>"
      ],
      "text/plain": [
       "<IPython.core.display.HTML object>"
      ]
     },
     "metadata": {},
     "output_type": "display_data"
    },
    {
     "data": {
      "text/html": [
       "<span style=\"color:cyan\"> |-learning_rate: 0.001</span>"
      ],
      "text/plain": [
       "<IPython.core.display.HTML object>"
      ]
     },
     "metadata": {},
     "output_type": "display_data"
    },
    {
     "data": {
      "text/html": [
       "<span style=\"color:blue\"> |-n_layers: 1</span>"
      ],
      "text/plain": [
       "<IPython.core.display.HTML object>"
      ]
     },
     "metadata": {},
     "output_type": "display_data"
    },
    {
     "data": {
      "text/html": [
       "<span style=\"color:cyan\"> |-tuner/bracket: 2</span>"
      ],
      "text/plain": [
       "<IPython.core.display.HTML object>"
      ]
     },
     "metadata": {},
     "output_type": "display_data"
    },
    {
     "data": {
      "text/html": [
       "<span style=\"color:blue\"> |-tuner/epochs: 9</span>"
      ],
      "text/plain": [
       "<IPython.core.display.HTML object>"
      ]
     },
     "metadata": {},
     "output_type": "display_data"
    },
    {
     "data": {
      "text/html": [
       "<span style=\"color:cyan\"> |-tuner/initial_epoch: 3</span>"
      ],
      "text/plain": [
       "<IPython.core.display.HTML object>"
      ]
     },
     "metadata": {},
     "output_type": "display_data"
    },
    {
     "data": {
      "text/html": [
       "<span style=\"color:blue\"> |-tuner/round: 1</span>"
      ],
      "text/plain": [
       "<IPython.core.display.HTML object>"
      ]
     },
     "metadata": {},
     "output_type": "display_data"
    },
    {
     "data": {
      "text/html": [
       "<span style=\"color:cyan\"> |-tuner/trial_id: fcfc581bb977b6b30cc84df1e34d29f7</span>"
      ],
      "text/plain": [
       "<IPython.core.display.HTML object>"
      ]
     },
     "metadata": {},
     "output_type": "display_data"
    },
    {
     "name": "stdout",
     "output_type": "stream",
     "text": [
      "Train on 14450 samples, validate on 2550 samples\n",
      "Epoch 10/25\n",
      "14450/14450 - 2s - loss: 0.0383 - mean_squared_error: 0.0383 - val_loss: 0.0021 - val_mean_squared_error: 0.0021\n",
      "Epoch 11/25\n",
      "14450/14450 - 1s - loss: 0.0011 - mean_squared_error: 0.0011 - val_loss: 6.1212e-04 - val_mean_squared_error: 6.1212e-04\n",
      "Epoch 12/25\n",
      "14450/14450 - 2s - loss: 5.1690e-04 - mean_squared_error: 5.1690e-04 - val_loss: 4.6150e-04 - val_mean_squared_error: 4.6150e-04\n",
      "Epoch 13/25\n",
      "14450/14450 - 2s - loss: 4.1000e-04 - mean_squared_error: 4.1000e-04 - val_loss: 4.1449e-04 - val_mean_squared_error: 4.1449e-04\n",
      "Epoch 14/25\n",
      "14450/14450 - 1s - loss: 3.6997e-04 - mean_squared_error: 3.6997e-04 - val_loss: 3.3242e-04 - val_mean_squared_error: 3.3242e-04\n",
      "Epoch 15/25\n",
      "14450/14450 - 1s - loss: 3.5683e-04 - mean_squared_error: 3.5683e-04 - val_loss: 3.0886e-04 - val_mean_squared_error: 3.0886e-04\n",
      "Epoch 16/25\n",
      "14450/14450 - 1s - loss: 3.5850e-04 - mean_squared_error: 3.5850e-04 - val_loss: 3.0792e-04 - val_mean_squared_error: 3.0792e-04\n",
      "Epoch 17/25\n",
      "14450/14450 - 1s - loss: 3.6419e-04 - mean_squared_error: 3.6419e-04 - val_loss: 3.2791e-04 - val_mean_squared_error: 3.2791e-04\n",
      "Epoch 18/25\n",
      "14450/14450 - 1s - loss: 3.6756e-04 - mean_squared_error: 3.6756e-04 - val_loss: 5.9083e-04 - val_mean_squared_error: 5.9083e-04\n",
      "Epoch 19/25\n",
      "14450/14450 - 1s - loss: 3.4757e-04 - mean_squared_error: 3.4757e-04 - val_loss: 3.0518e-04 - val_mean_squared_error: 3.0518e-04\n",
      "Epoch 20/25\n",
      "14450/14450 - 1s - loss: 3.4911e-04 - mean_squared_error: 3.4911e-04 - val_loss: 4.7273e-04 - val_mean_squared_error: 4.7273e-04\n",
      "Epoch 21/25\n",
      "14450/14450 - 1s - loss: 3.4058e-04 - mean_squared_error: 3.4058e-04 - val_loss: 3.3480e-04 - val_mean_squared_error: 3.3480e-04\n",
      "Epoch 22/25\n",
      "14450/14450 - 1s - loss: 3.4838e-04 - mean_squared_error: 3.4838e-04 - val_loss: 3.0633e-04 - val_mean_squared_error: 3.0633e-04\n",
      "Epoch 23/25\n",
      "14450/14450 - 1s - loss: 3.4399e-04 - mean_squared_error: 3.4399e-04 - val_loss: 2.9924e-04 - val_mean_squared_error: 2.9924e-04\n",
      "Epoch 24/25\n",
      "14450/14450 - 1s - loss: 3.3687e-04 - mean_squared_error: 3.3687e-04 - val_loss: 3.1255e-04 - val_mean_squared_error: 3.1255e-04\n",
      "Epoch 25/25\n",
      "14450/14450 - 1s - loss: 3.5107e-04 - mean_squared_error: 3.5107e-04 - val_loss: 3.4150e-04 - val_mean_squared_error: 3.4150e-04\n"
     ]
    },
    {
     "data": {
      "text/html": [
       "<span style=\"color:#4527A0\"><h1 style=\"font-size:18px\">Trial complete</h1></span>"
      ],
      "text/plain": [
       "<IPython.core.display.HTML object>"
      ]
     },
     "metadata": {},
     "output_type": "display_data"
    },
    {
     "data": {
      "text/html": [
       "<span style=\"color:#4527A0\"><h1 style=\"font-size:18px\">Trial summary</h1></span>"
      ],
      "text/plain": [
       "<IPython.core.display.HTML object>"
      ]
     },
     "metadata": {},
     "output_type": "display_data"
    },
    {
     "data": {
      "text/html": [
       "<span style=\"color:cyan\"> |-Trial ID: b2741aad583de0d4445fc30a49c7b821</span>"
      ],
      "text/plain": [
       "<IPython.core.display.HTML object>"
      ]
     },
     "metadata": {},
     "output_type": "display_data"
    },
    {
     "data": {
      "text/html": [
       "<span style=\"color:cyan\"> |-Score: 0.00033687474206089973</span>"
      ],
      "text/plain": [
       "<IPython.core.display.HTML object>"
      ]
     },
     "metadata": {},
     "output_type": "display_data"
    },
    {
     "data": {
      "text/html": [
       "<span style=\"color:cyan\"> |-Best step: 0</span>"
      ],
      "text/plain": [
       "<IPython.core.display.HTML object>"
      ]
     },
     "metadata": {},
     "output_type": "display_data"
    },
    {
     "data": {
      "text/html": [
       "<span style=\"color:#7E57C2\"><h2 style=\"font-size:16px\">Hyperparameters:</h2></span>"
      ],
      "text/plain": [
       "<IPython.core.display.HTML object>"
      ]
     },
     "metadata": {},
     "output_type": "display_data"
    },
    {
     "data": {
      "text/html": [
       "<span style=\"color:cyan\"> |-hidden_0_units: 301</span>"
      ],
      "text/plain": [
       "<IPython.core.display.HTML object>"
      ]
     },
     "metadata": {},
     "output_type": "display_data"
    },
    {
     "data": {
      "text/html": [
       "<span style=\"color:blue\"> |-hidden_1_units: 216</span>"
      ],
      "text/plain": [
       "<IPython.core.display.HTML object>"
      ]
     },
     "metadata": {},
     "output_type": "display_data"
    },
    {
     "data": {
      "text/html": [
       "<span style=\"color:cyan\"> |-learning_rate: 0.001</span>"
      ],
      "text/plain": [
       "<IPython.core.display.HTML object>"
      ]
     },
     "metadata": {},
     "output_type": "display_data"
    },
    {
     "data": {
      "text/html": [
       "<span style=\"color:blue\"> |-n_layers: 1</span>"
      ],
      "text/plain": [
       "<IPython.core.display.HTML object>"
      ]
     },
     "metadata": {},
     "output_type": "display_data"
    },
    {
     "data": {
      "text/html": [
       "<span style=\"color:cyan\"> |-tuner/bracket: 2</span>"
      ],
      "text/plain": [
       "<IPython.core.display.HTML object>"
      ]
     },
     "metadata": {},
     "output_type": "display_data"
    },
    {
     "data": {
      "text/html": [
       "<span style=\"color:blue\"> |-tuner/epochs: 25</span>"
      ],
      "text/plain": [
       "<IPython.core.display.HTML object>"
      ]
     },
     "metadata": {},
     "output_type": "display_data"
    },
    {
     "data": {
      "text/html": [
       "<span style=\"color:cyan\"> |-tuner/initial_epoch: 9</span>"
      ],
      "text/plain": [
       "<IPython.core.display.HTML object>"
      ]
     },
     "metadata": {},
     "output_type": "display_data"
    },
    {
     "data": {
      "text/html": [
       "<span style=\"color:blue\"> |-tuner/round: 2</span>"
      ],
      "text/plain": [
       "<IPython.core.display.HTML object>"
      ]
     },
     "metadata": {},
     "output_type": "display_data"
    },
    {
     "data": {
      "text/html": [
       "<span style=\"color:cyan\"> |-tuner/trial_id: a5de9443336010443c580dcb71375fed</span>"
      ],
      "text/plain": [
       "<IPython.core.display.HTML object>"
      ]
     },
     "metadata": {},
     "output_type": "display_data"
    },
    {
     "name": "stdout",
     "output_type": "stream",
     "text": [
      "Train on 14450 samples, validate on 2550 samples\n",
      "Epoch 10/25\n",
      "14450/14450 - 2s - loss: 0.0419 - mean_squared_error: 0.0419 - val_loss: 0.0018 - val_mean_squared_error: 0.0018\n",
      "Epoch 11/25\n",
      "14450/14450 - 1s - loss: 7.9074e-04 - mean_squared_error: 7.9074e-04 - val_loss: 4.4485e-04 - val_mean_squared_error: 4.4484e-04\n",
      "Epoch 12/25\n",
      "14450/14450 - 1s - loss: 4.2655e-04 - mean_squared_error: 4.2655e-04 - val_loss: 3.4791e-04 - val_mean_squared_error: 3.4791e-04\n",
      "Epoch 13/25\n",
      "14450/14450 - 1s - loss: 3.7149e-04 - mean_squared_error: 3.7149e-04 - val_loss: 3.2625e-04 - val_mean_squared_error: 3.2625e-04\n",
      "Epoch 14/25\n",
      "14450/14450 - 1s - loss: 3.9933e-04 - mean_squared_error: 3.9933e-04 - val_loss: 3.1658e-04 - val_mean_squared_error: 3.1658e-04\n",
      "Epoch 15/25\n",
      "14450/14450 - 1s - loss: 3.7410e-04 - mean_squared_error: 3.7410e-04 - val_loss: 3.2041e-04 - val_mean_squared_error: 3.2041e-04\n",
      "Epoch 16/25\n",
      "14450/14450 - 1s - loss: 3.7523e-04 - mean_squared_error: 3.7523e-04 - val_loss: 3.2130e-04 - val_mean_squared_error: 3.2130e-04\n",
      "Epoch 17/25\n",
      "14450/14450 - 1s - loss: 3.6894e-04 - mean_squared_error: 3.6894e-04 - val_loss: 6.2939e-04 - val_mean_squared_error: 6.2939e-04\n",
      "Epoch 18/25\n",
      "14450/14450 - 1s - loss: 3.6520e-04 - mean_squared_error: 3.6520e-04 - val_loss: 3.3537e-04 - val_mean_squared_error: 3.3537e-04\n",
      "Epoch 19/25\n",
      "14450/14450 - 2s - loss: 3.8188e-04 - mean_squared_error: 3.8188e-04 - val_loss: 3.5725e-04 - val_mean_squared_error: 3.5725e-04\n",
      "Epoch 20/25\n",
      "14450/14450 - 1s - loss: 3.6760e-04 - mean_squared_error: 3.6760e-04 - val_loss: 3.2828e-04 - val_mean_squared_error: 3.2828e-04\n",
      "Epoch 21/25\n",
      "14450/14450 - 1s - loss: 4.0463e-04 - mean_squared_error: 4.0463e-04 - val_loss: 3.5858e-04 - val_mean_squared_error: 3.5858e-04\n",
      "Epoch 22/25\n",
      "14450/14450 - 1s - loss: 3.8099e-04 - mean_squared_error: 3.8099e-04 - val_loss: 3.2985e-04 - val_mean_squared_error: 3.2985e-04\n",
      "Epoch 23/25\n",
      "14450/14450 - 1s - loss: 3.5800e-04 - mean_squared_error: 3.5800e-04 - val_loss: 3.5165e-04 - val_mean_squared_error: 3.5165e-04\n",
      "Epoch 24/25\n",
      "14450/14450 - 1s - loss: 3.7633e-04 - mean_squared_error: 3.7633e-04 - val_loss: 3.4284e-04 - val_mean_squared_error: 3.4284e-04\n",
      "Epoch 25/25\n",
      "14450/14450 - 1s - loss: 3.9028e-04 - mean_squared_error: 3.9028e-04 - val_loss: 3.6909e-04 - val_mean_squared_error: 3.6909e-04\n"
     ]
    },
    {
     "data": {
      "text/html": [
       "<span style=\"color:#4527A0\"><h1 style=\"font-size:18px\">Trial complete</h1></span>"
      ],
      "text/plain": [
       "<IPython.core.display.HTML object>"
      ]
     },
     "metadata": {},
     "output_type": "display_data"
    },
    {
     "data": {
      "text/html": [
       "<span style=\"color:#4527A0\"><h1 style=\"font-size:18px\">Trial summary</h1></span>"
      ],
      "text/plain": [
       "<IPython.core.display.HTML object>"
      ]
     },
     "metadata": {},
     "output_type": "display_data"
    },
    {
     "data": {
      "text/html": [
       "<span style=\"color:cyan\"> |-Trial ID: 24b3cd85b4d85fa503f8bce8a9c80262</span>"
      ],
      "text/plain": [
       "<IPython.core.display.HTML object>"
      ]
     },
     "metadata": {},
     "output_type": "display_data"
    },
    {
     "data": {
      "text/html": [
       "<span style=\"color:cyan\"> |-Score: 0.0003580041229724884</span>"
      ],
      "text/plain": [
       "<IPython.core.display.HTML object>"
      ]
     },
     "metadata": {},
     "output_type": "display_data"
    },
    {
     "data": {
      "text/html": [
       "<span style=\"color:cyan\"> |-Best step: 0</span>"
      ],
      "text/plain": [
       "<IPython.core.display.HTML object>"
      ]
     },
     "metadata": {},
     "output_type": "display_data"
    },
    {
     "data": {
      "text/html": [
       "<span style=\"color:#7E57C2\"><h2 style=\"font-size:16px\">Hyperparameters:</h2></span>"
      ],
      "text/plain": [
       "<IPython.core.display.HTML object>"
      ]
     },
     "metadata": {},
     "output_type": "display_data"
    },
    {
     "data": {
      "text/html": [
       "<span style=\"color:cyan\"> |-hidden_0_units: 100</span>"
      ],
      "text/plain": [
       "<IPython.core.display.HTML object>"
      ]
     },
     "metadata": {},
     "output_type": "display_data"
    },
    {
     "data": {
      "text/html": [
       "<span style=\"color:blue\"> |-hidden_1_units: 97</span>"
      ],
      "text/plain": [
       "<IPython.core.display.HTML object>"
      ]
     },
     "metadata": {},
     "output_type": "display_data"
    },
    {
     "data": {
      "text/html": [
       "<span style=\"color:cyan\"> |-learning_rate: 0.001</span>"
      ],
      "text/plain": [
       "<IPython.core.display.HTML object>"
      ]
     },
     "metadata": {},
     "output_type": "display_data"
    },
    {
     "data": {
      "text/html": [
       "<span style=\"color:blue\"> |-n_layers: 2</span>"
      ],
      "text/plain": [
       "<IPython.core.display.HTML object>"
      ]
     },
     "metadata": {},
     "output_type": "display_data"
    },
    {
     "data": {
      "text/html": [
       "<span style=\"color:cyan\"> |-tuner/bracket: 2</span>"
      ],
      "text/plain": [
       "<IPython.core.display.HTML object>"
      ]
     },
     "metadata": {},
     "output_type": "display_data"
    },
    {
     "data": {
      "text/html": [
       "<span style=\"color:blue\"> |-tuner/epochs: 25</span>"
      ],
      "text/plain": [
       "<IPython.core.display.HTML object>"
      ]
     },
     "metadata": {},
     "output_type": "display_data"
    },
    {
     "data": {
      "text/html": [
       "<span style=\"color:cyan\"> |-tuner/initial_epoch: 9</span>"
      ],
      "text/plain": [
       "<IPython.core.display.HTML object>"
      ]
     },
     "metadata": {},
     "output_type": "display_data"
    },
    {
     "data": {
      "text/html": [
       "<span style=\"color:blue\"> |-tuner/round: 2</span>"
      ],
      "text/plain": [
       "<IPython.core.display.HTML object>"
      ]
     },
     "metadata": {},
     "output_type": "display_data"
    },
    {
     "data": {
      "text/html": [
       "<span style=\"color:cyan\"> |-tuner/trial_id: 0d3d035023f33334e3383b7ef3633594</span>"
      ],
      "text/plain": [
       "<IPython.core.display.HTML object>"
      ]
     },
     "metadata": {},
     "output_type": "display_data"
    },
    {
     "name": "stdout",
     "output_type": "stream",
     "text": [
      "Train on 14450 samples, validate on 2550 samples\n",
      "Epoch 1/9\n",
      "14450/14450 - 2s - loss: 0.0067 - mean_squared_error: 0.0067 - val_loss: 0.0033 - val_mean_squared_error: 0.0033\n",
      "Epoch 2/9\n",
      "14450/14450 - 2s - loss: 0.1759 - mean_squared_error: 0.1759 - val_loss: 0.2843 - val_mean_squared_error: 0.2843\n",
      "Epoch 3/9\n",
      "14450/14450 - 2s - loss: 0.2657 - mean_squared_error: 0.2657 - val_loss: 0.2397 - val_mean_squared_error: 0.2397\n",
      "Epoch 4/9\n",
      "14450/14450 - 2s - loss: 0.2880 - mean_squared_error: 0.2880 - val_loss: 0.2705 - val_mean_squared_error: 0.2705\n",
      "Epoch 5/9\n",
      "14450/14450 - 2s - loss: 0.3098 - mean_squared_error: 0.3098 - val_loss: 0.3671 - val_mean_squared_error: 0.3671\n",
      "Epoch 6/9\n",
      "14450/14450 - 2s - loss: 0.2942 - mean_squared_error: 0.2942 - val_loss: 0.2572 - val_mean_squared_error: 0.2572\n"
     ]
    },
    {
     "data": {
      "text/html": [
       "<span style=\"color:#4527A0\"><h1 style=\"font-size:18px\">Trial complete</h1></span>"
      ],
      "text/plain": [
       "<IPython.core.display.HTML object>"
      ]
     },
     "metadata": {},
     "output_type": "display_data"
    },
    {
     "data": {
      "text/html": [
       "<span style=\"color:#4527A0\"><h1 style=\"font-size:18px\">Trial summary</h1></span>"
      ],
      "text/plain": [
       "<IPython.core.display.HTML object>"
      ]
     },
     "metadata": {},
     "output_type": "display_data"
    },
    {
     "data": {
      "text/html": [
       "<span style=\"color:cyan\"> |-Trial ID: aaad3d2e56a97696f9b925edfa7516a7</span>"
      ],
      "text/plain": [
       "<IPython.core.display.HTML object>"
      ]
     },
     "metadata": {},
     "output_type": "display_data"
    },
    {
     "data": {
      "text/html": [
       "<span style=\"color:cyan\"> |-Score: 0.006667084991931915</span>"
      ],
      "text/plain": [
       "<IPython.core.display.HTML object>"
      ]
     },
     "metadata": {},
     "output_type": "display_data"
    },
    {
     "data": {
      "text/html": [
       "<span style=\"color:cyan\"> |-Best step: 0</span>"
      ],
      "text/plain": [
       "<IPython.core.display.HTML object>"
      ]
     },
     "metadata": {},
     "output_type": "display_data"
    },
    {
     "data": {
      "text/html": [
       "<span style=\"color:#7E57C2\"><h2 style=\"font-size:16px\">Hyperparameters:</h2></span>"
      ],
      "text/plain": [
       "<IPython.core.display.HTML object>"
      ]
     },
     "metadata": {},
     "output_type": "display_data"
    },
    {
     "data": {
      "text/html": [
       "<span style=\"color:cyan\"> |-hidden_0_units: 295</span>"
      ],
      "text/plain": [
       "<IPython.core.display.HTML object>"
      ]
     },
     "metadata": {},
     "output_type": "display_data"
    },
    {
     "data": {
      "text/html": [
       "<span style=\"color:blue\"> |-hidden_1_units: 243</span>"
      ],
      "text/plain": [
       "<IPython.core.display.HTML object>"
      ]
     },
     "metadata": {},
     "output_type": "display_data"
    },
    {
     "data": {
      "text/html": [
       "<span style=\"color:cyan\"> |-learning_rate: 0.01</span>"
      ],
      "text/plain": [
       "<IPython.core.display.HTML object>"
      ]
     },
     "metadata": {},
     "output_type": "display_data"
    },
    {
     "data": {
      "text/html": [
       "<span style=\"color:blue\"> |-n_layers: 2</span>"
      ],
      "text/plain": [
       "<IPython.core.display.HTML object>"
      ]
     },
     "metadata": {},
     "output_type": "display_data"
    },
    {
     "data": {
      "text/html": [
       "<span style=\"color:cyan\"> |-tuner/bracket: 1</span>"
      ],
      "text/plain": [
       "<IPython.core.display.HTML object>"
      ]
     },
     "metadata": {},
     "output_type": "display_data"
    },
    {
     "data": {
      "text/html": [
       "<span style=\"color:blue\"> |-tuner/epochs: 9</span>"
      ],
      "text/plain": [
       "<IPython.core.display.HTML object>"
      ]
     },
     "metadata": {},
     "output_type": "display_data"
    },
    {
     "data": {
      "text/html": [
       "<span style=\"color:cyan\"> |-tuner/initial_epoch: 0</span>"
      ],
      "text/plain": [
       "<IPython.core.display.HTML object>"
      ]
     },
     "metadata": {},
     "output_type": "display_data"
    },
    {
     "data": {
      "text/html": [
       "<span style=\"color:blue\"> |-tuner/round: 0</span>"
      ],
      "text/plain": [
       "<IPython.core.display.HTML object>"
      ]
     },
     "metadata": {},
     "output_type": "display_data"
    },
    {
     "name": "stdout",
     "output_type": "stream",
     "text": [
      "Train on 14450 samples, validate on 2550 samples\n",
      "Epoch 1/9\n",
      "14450/14450 - 2s - loss: 0.1714 - mean_squared_error: 0.1714 - val_loss: 0.1444 - val_mean_squared_error: 0.1444\n",
      "Epoch 2/9\n",
      "14450/14450 - 1s - loss: 0.1203 - mean_squared_error: 0.1203 - val_loss: 0.0970 - val_mean_squared_error: 0.0970\n",
      "Epoch 3/9\n",
      "14450/14450 - 1s - loss: 0.0787 - mean_squared_error: 0.0787 - val_loss: 0.0625 - val_mean_squared_error: 0.0625\n",
      "Epoch 4/9\n",
      "14450/14450 - 1s - loss: 0.0511 - mean_squared_error: 0.0511 - val_loss: 0.0407 - val_mean_squared_error: 0.0407\n",
      "Epoch 5/9\n",
      "14450/14450 - 1s - loss: 0.0330 - mean_squared_error: 0.0330 - val_loss: 0.0260 - val_mean_squared_error: 0.0260\n",
      "Epoch 6/9\n",
      "14450/14450 - 1s - loss: 0.0209 - mean_squared_error: 0.0209 - val_loss: 0.0162 - val_mean_squared_error: 0.0162\n",
      "Epoch 7/9\n",
      "14450/14450 - 1s - loss: 0.0130 - mean_squared_error: 0.0130 - val_loss: 0.0101 - val_mean_squared_error: 0.0101\n",
      "Epoch 8/9\n",
      "14450/14450 - 1s - loss: 0.0081 - mean_squared_error: 0.0081 - val_loss: 0.0064 - val_mean_squared_error: 0.0064\n",
      "Epoch 9/9\n",
      "14450/14450 - 1s - loss: 0.0052 - mean_squared_error: 0.0052 - val_loss: 0.0041 - val_mean_squared_error: 0.0041\n"
     ]
    },
    {
     "data": {
      "text/html": [
       "<span style=\"color:#4527A0\"><h1 style=\"font-size:18px\">Trial complete</h1></span>"
      ],
      "text/plain": [
       "<IPython.core.display.HTML object>"
      ]
     },
     "metadata": {},
     "output_type": "display_data"
    },
    {
     "data": {
      "text/html": [
       "<span style=\"color:#4527A0\"><h1 style=\"font-size:18px\">Trial summary</h1></span>"
      ],
      "text/plain": [
       "<IPython.core.display.HTML object>"
      ]
     },
     "metadata": {},
     "output_type": "display_data"
    },
    {
     "data": {
      "text/html": [
       "<span style=\"color:cyan\"> |-Trial ID: ab662307546f98d0545bd5634b6a5300</span>"
      ],
      "text/plain": [
       "<IPython.core.display.HTML object>"
      ]
     },
     "metadata": {},
     "output_type": "display_data"
    },
    {
     "data": {
      "text/html": [
       "<span style=\"color:cyan\"> |-Score: 0.005186109803617001</span>"
      ],
      "text/plain": [
       "<IPython.core.display.HTML object>"
      ]
     },
     "metadata": {},
     "output_type": "display_data"
    },
    {
     "data": {
      "text/html": [
       "<span style=\"color:cyan\"> |-Best step: 0</span>"
      ],
      "text/plain": [
       "<IPython.core.display.HTML object>"
      ]
     },
     "metadata": {},
     "output_type": "display_data"
    },
    {
     "data": {
      "text/html": [
       "<span style=\"color:#7E57C2\"><h2 style=\"font-size:16px\">Hyperparameters:</h2></span>"
      ],
      "text/plain": [
       "<IPython.core.display.HTML object>"
      ]
     },
     "metadata": {},
     "output_type": "display_data"
    },
    {
     "data": {
      "text/html": [
       "<span style=\"color:cyan\"> |-hidden_0_units: 163</span>"
      ],
      "text/plain": [
       "<IPython.core.display.HTML object>"
      ]
     },
     "metadata": {},
     "output_type": "display_data"
    },
    {
     "data": {
      "text/html": [
       "<span style=\"color:blue\"> |-hidden_1_units: 117</span>"
      ],
      "text/plain": [
       "<IPython.core.display.HTML object>"
      ]
     },
     "metadata": {},
     "output_type": "display_data"
    },
    {
     "data": {
      "text/html": [
       "<span style=\"color:cyan\"> |-learning_rate: 0.0001</span>"
      ],
      "text/plain": [
       "<IPython.core.display.HTML object>"
      ]
     },
     "metadata": {},
     "output_type": "display_data"
    },
    {
     "data": {
      "text/html": [
       "<span style=\"color:blue\"> |-n_layers: 1</span>"
      ],
      "text/plain": [
       "<IPython.core.display.HTML object>"
      ]
     },
     "metadata": {},
     "output_type": "display_data"
    },
    {
     "data": {
      "text/html": [
       "<span style=\"color:cyan\"> |-tuner/bracket: 1</span>"
      ],
      "text/plain": [
       "<IPython.core.display.HTML object>"
      ]
     },
     "metadata": {},
     "output_type": "display_data"
    },
    {
     "data": {
      "text/html": [
       "<span style=\"color:blue\"> |-tuner/epochs: 9</span>"
      ],
      "text/plain": [
       "<IPython.core.display.HTML object>"
      ]
     },
     "metadata": {},
     "output_type": "display_data"
    },
    {
     "data": {
      "text/html": [
       "<span style=\"color:cyan\"> |-tuner/initial_epoch: 0</span>"
      ],
      "text/plain": [
       "<IPython.core.display.HTML object>"
      ]
     },
     "metadata": {},
     "output_type": "display_data"
    },
    {
     "data": {
      "text/html": [
       "<span style=\"color:blue\"> |-tuner/round: 0</span>"
      ],
      "text/plain": [
       "<IPython.core.display.HTML object>"
      ]
     },
     "metadata": {},
     "output_type": "display_data"
    },
    {
     "name": "stdout",
     "output_type": "stream",
     "text": [
      "Train on 14450 samples, validate on 2550 samples\n",
      "Epoch 1/9\n",
      "14450/14450 - 2s - loss: 0.0063 - mean_squared_error: 0.0063 - val_loss: 7.3105e-04 - val_mean_squared_error: 7.3105e-04\n",
      "Epoch 2/9\n",
      "14450/14450 - 2s - loss: 0.0022 - mean_squared_error: 0.0022 - val_loss: 0.0146 - val_mean_squared_error: 0.0146\n",
      "Epoch 3/9\n",
      "14450/14450 - 1s - loss: 0.1760 - mean_squared_error: 0.1760 - val_loss: 0.1919 - val_mean_squared_error: 0.1919\n",
      "Epoch 4/9\n",
      "14450/14450 - 1s - loss: 0.2146 - mean_squared_error: 0.2146 - val_loss: 0.1912 - val_mean_squared_error: 0.1912\n",
      "Epoch 5/9\n",
      "14450/14450 - 1s - loss: 0.1977 - mean_squared_error: 0.1977 - val_loss: 0.2188 - val_mean_squared_error: 0.2188\n",
      "Epoch 6/9\n",
      "14450/14450 - 1s - loss: 0.2024 - mean_squared_error: 0.2024 - val_loss: 0.2343 - val_mean_squared_error: 0.2343\n",
      "Epoch 7/9\n",
      "14450/14450 - 1s - loss: 0.2137 - mean_squared_error: 0.2137 - val_loss: 0.2016 - val_mean_squared_error: 0.2016\n"
     ]
    },
    {
     "data": {
      "text/html": [
       "<span style=\"color:#4527A0\"><h1 style=\"font-size:18px\">Trial complete</h1></span>"
      ],
      "text/plain": [
       "<IPython.core.display.HTML object>"
      ]
     },
     "metadata": {},
     "output_type": "display_data"
    },
    {
     "data": {
      "text/html": [
       "<span style=\"color:#4527A0\"><h1 style=\"font-size:18px\">Trial summary</h1></span>"
      ],
      "text/plain": [
       "<IPython.core.display.HTML object>"
      ]
     },
     "metadata": {},
     "output_type": "display_data"
    },
    {
     "data": {
      "text/html": [
       "<span style=\"color:cyan\"> |-Trial ID: 625f840e95160c47208ec1661fc21453</span>"
      ],
      "text/plain": [
       "<IPython.core.display.HTML object>"
      ]
     },
     "metadata": {},
     "output_type": "display_data"
    },
    {
     "data": {
      "text/html": [
       "<span style=\"color:cyan\"> |-Score: 0.0021502110175788403</span>"
      ],
      "text/plain": [
       "<IPython.core.display.HTML object>"
      ]
     },
     "metadata": {},
     "output_type": "display_data"
    },
    {
     "data": {
      "text/html": [
       "<span style=\"color:cyan\"> |-Best step: 0</span>"
      ],
      "text/plain": [
       "<IPython.core.display.HTML object>"
      ]
     },
     "metadata": {},
     "output_type": "display_data"
    },
    {
     "data": {
      "text/html": [
       "<span style=\"color:#7E57C2\"><h2 style=\"font-size:16px\">Hyperparameters:</h2></span>"
      ],
      "text/plain": [
       "<IPython.core.display.HTML object>"
      ]
     },
     "metadata": {},
     "output_type": "display_data"
    },
    {
     "data": {
      "text/html": [
       "<span style=\"color:cyan\"> |-hidden_0_units: 189</span>"
      ],
      "text/plain": [
       "<IPython.core.display.HTML object>"
      ]
     },
     "metadata": {},
     "output_type": "display_data"
    },
    {
     "data": {
      "text/html": [
       "<span style=\"color:blue\"> |-hidden_1_units: 148</span>"
      ],
      "text/plain": [
       "<IPython.core.display.HTML object>"
      ]
     },
     "metadata": {},
     "output_type": "display_data"
    },
    {
     "data": {
      "text/html": [
       "<span style=\"color:cyan\"> |-learning_rate: 0.01</span>"
      ],
      "text/plain": [
       "<IPython.core.display.HTML object>"
      ]
     },
     "metadata": {},
     "output_type": "display_data"
    },
    {
     "data": {
      "text/html": [
       "<span style=\"color:blue\"> |-n_layers: 2</span>"
      ],
      "text/plain": [
       "<IPython.core.display.HTML object>"
      ]
     },
     "metadata": {},
     "output_type": "display_data"
    },
    {
     "data": {
      "text/html": [
       "<span style=\"color:cyan\"> |-tuner/bracket: 1</span>"
      ],
      "text/plain": [
       "<IPython.core.display.HTML object>"
      ]
     },
     "metadata": {},
     "output_type": "display_data"
    },
    {
     "data": {
      "text/html": [
       "<span style=\"color:blue\"> |-tuner/epochs: 9</span>"
      ],
      "text/plain": [
       "<IPython.core.display.HTML object>"
      ]
     },
     "metadata": {},
     "output_type": "display_data"
    },
    {
     "data": {
      "text/html": [
       "<span style=\"color:cyan\"> |-tuner/initial_epoch: 0</span>"
      ],
      "text/plain": [
       "<IPython.core.display.HTML object>"
      ]
     },
     "metadata": {},
     "output_type": "display_data"
    },
    {
     "data": {
      "text/html": [
       "<span style=\"color:blue\"> |-tuner/round: 0</span>"
      ],
      "text/plain": [
       "<IPython.core.display.HTML object>"
      ]
     },
     "metadata": {},
     "output_type": "display_data"
    },
    {
     "name": "stdout",
     "output_type": "stream",
     "text": [
      "Train on 14450 samples, validate on 2550 samples\n",
      "Epoch 1/9\n",
      "14450/14450 - 2s - loss: 0.1652 - mean_squared_error: 0.1652 - val_loss: 0.1377 - val_mean_squared_error: 0.1377\n",
      "Epoch 2/9\n",
      "14450/14450 - 1s - loss: 0.1123 - mean_squared_error: 0.1123 - val_loss: 0.0884 - val_mean_squared_error: 0.0884\n",
      "Epoch 3/9\n",
      "14450/14450 - 1s - loss: 0.0704 - mean_squared_error: 0.0704 - val_loss: 0.0550 - val_mean_squared_error: 0.0550\n",
      "Epoch 4/9\n",
      "14450/14450 - 1s - loss: 0.0443 - mean_squared_error: 0.0443 - val_loss: 0.0347 - val_mean_squared_error: 0.0347\n",
      "Epoch 5/9\n",
      "14450/14450 - 1s - loss: 0.0277 - mean_squared_error: 0.0277 - val_loss: 0.0214 - val_mean_squared_error: 0.0214\n",
      "Epoch 6/9\n",
      "14450/14450 - 1s - loss: 0.0169 - mean_squared_error: 0.0169 - val_loss: 0.0130 - val_mean_squared_error: 0.0130\n",
      "Epoch 7/9\n",
      "14450/14450 - 1s - loss: 0.0103 - mean_squared_error: 0.0103 - val_loss: 0.0080 - val_mean_squared_error: 0.0080\n",
      "Epoch 8/9\n",
      "14450/14450 - 1s - loss: 0.0064 - mean_squared_error: 0.0064 - val_loss: 0.0050 - val_mean_squared_error: 0.0050\n",
      "Epoch 9/9\n",
      "14450/14450 - 1s - loss: 0.0041 - mean_squared_error: 0.0041 - val_loss: 0.0033 - val_mean_squared_error: 0.0033\n"
     ]
    },
    {
     "data": {
      "text/html": [
       "<span style=\"color:#4527A0\"><h1 style=\"font-size:18px\">Trial complete</h1></span>"
      ],
      "text/plain": [
       "<IPython.core.display.HTML object>"
      ]
     },
     "metadata": {},
     "output_type": "display_data"
    },
    {
     "data": {
      "text/html": [
       "<span style=\"color:#4527A0\"><h1 style=\"font-size:18px\">Trial summary</h1></span>"
      ],
      "text/plain": [
       "<IPython.core.display.HTML object>"
      ]
     },
     "metadata": {},
     "output_type": "display_data"
    },
    {
     "data": {
      "text/html": [
       "<span style=\"color:cyan\"> |-Trial ID: 8953b1b353374c3f972d49610bf5f6de</span>"
      ],
      "text/plain": [
       "<IPython.core.display.HTML object>"
      ]
     },
     "metadata": {},
     "output_type": "display_data"
    },
    {
     "data": {
      "text/html": [
       "<span style=\"color:cyan\"> |-Score: 0.004099591169506311</span>"
      ],
      "text/plain": [
       "<IPython.core.display.HTML object>"
      ]
     },
     "metadata": {},
     "output_type": "display_data"
    },
    {
     "data": {
      "text/html": [
       "<span style=\"color:cyan\"> |-Best step: 0</span>"
      ],
      "text/plain": [
       "<IPython.core.display.HTML object>"
      ]
     },
     "metadata": {},
     "output_type": "display_data"
    },
    {
     "data": {
      "text/html": [
       "<span style=\"color:#7E57C2\"><h2 style=\"font-size:16px\">Hyperparameters:</h2></span>"
      ],
      "text/plain": [
       "<IPython.core.display.HTML object>"
      ]
     },
     "metadata": {},
     "output_type": "display_data"
    },
    {
     "data": {
      "text/html": [
       "<span style=\"color:cyan\"> |-hidden_0_units: 184</span>"
      ],
      "text/plain": [
       "<IPython.core.display.HTML object>"
      ]
     },
     "metadata": {},
     "output_type": "display_data"
    },
    {
     "data": {
      "text/html": [
       "<span style=\"color:blue\"> |-hidden_1_units: 100</span>"
      ],
      "text/plain": [
       "<IPython.core.display.HTML object>"
      ]
     },
     "metadata": {},
     "output_type": "display_data"
    },
    {
     "data": {
      "text/html": [
       "<span style=\"color:cyan\"> |-learning_rate: 0.0001</span>"
      ],
      "text/plain": [
       "<IPython.core.display.HTML object>"
      ]
     },
     "metadata": {},
     "output_type": "display_data"
    },
    {
     "data": {
      "text/html": [
       "<span style=\"color:blue\"> |-n_layers: 1</span>"
      ],
      "text/plain": [
       "<IPython.core.display.HTML object>"
      ]
     },
     "metadata": {},
     "output_type": "display_data"
    },
    {
     "data": {
      "text/html": [
       "<span style=\"color:cyan\"> |-tuner/bracket: 1</span>"
      ],
      "text/plain": [
       "<IPython.core.display.HTML object>"
      ]
     },
     "metadata": {},
     "output_type": "display_data"
    },
    {
     "data": {
      "text/html": [
       "<span style=\"color:blue\"> |-tuner/epochs: 9</span>"
      ],
      "text/plain": [
       "<IPython.core.display.HTML object>"
      ]
     },
     "metadata": {},
     "output_type": "display_data"
    },
    {
     "data": {
      "text/html": [
       "<span style=\"color:cyan\"> |-tuner/initial_epoch: 0</span>"
      ],
      "text/plain": [
       "<IPython.core.display.HTML object>"
      ]
     },
     "metadata": {},
     "output_type": "display_data"
    },
    {
     "data": {
      "text/html": [
       "<span style=\"color:blue\"> |-tuner/round: 0</span>"
      ],
      "text/plain": [
       "<IPython.core.display.HTML object>"
      ]
     },
     "metadata": {},
     "output_type": "display_data"
    },
    {
     "name": "stdout",
     "output_type": "stream",
     "text": [
      "Train on 14450 samples, validate on 2550 samples\n",
      "Epoch 1/9\n",
      "14450/14450 - 2s - loss: 0.0838 - mean_squared_error: 0.0838 - val_loss: 0.0602 - val_mean_squared_error: 0.0602\n",
      "Epoch 2/9\n",
      "14450/14450 - 2s - loss: 0.0592 - mean_squared_error: 0.0592 - val_loss: 0.0598 - val_mean_squared_error: 0.0598\n",
      "Epoch 3/9\n",
      "14450/14450 - 2s - loss: 0.0585 - mean_squared_error: 0.0585 - val_loss: 0.0595 - val_mean_squared_error: 0.0595\n",
      "Epoch 4/9\n",
      "14450/14450 - 2s - loss: 0.0580 - mean_squared_error: 0.0580 - val_loss: 0.0592 - val_mean_squared_error: 0.0592\n",
      "Epoch 5/9\n",
      "14450/14450 - 2s - loss: 0.0576 - mean_squared_error: 0.0576 - val_loss: 0.0590 - val_mean_squared_error: 0.0590\n",
      "Epoch 6/9\n",
      "14450/14450 - 2s - loss: 0.0573 - mean_squared_error: 0.0573 - val_loss: 0.0589 - val_mean_squared_error: 0.0589\n",
      "Epoch 7/9\n",
      "14450/14450 - 1s - loss: 0.0571 - mean_squared_error: 0.0571 - val_loss: 0.0587 - val_mean_squared_error: 0.0587\n",
      "Epoch 8/9\n",
      "14450/14450 - 1s - loss: 0.0568 - mean_squared_error: 0.0568 - val_loss: 0.0584 - val_mean_squared_error: 0.0584\n",
      "Epoch 9/9\n",
      "14450/14450 - 1s - loss: 0.0567 - mean_squared_error: 0.0567 - val_loss: 0.0583 - val_mean_squared_error: 0.0583\n"
     ]
    },
    {
     "data": {
      "text/html": [
       "<span style=\"color:#4527A0\"><h1 style=\"font-size:18px\">Trial complete</h1></span>"
      ],
      "text/plain": [
       "<IPython.core.display.HTML object>"
      ]
     },
     "metadata": {},
     "output_type": "display_data"
    },
    {
     "data": {
      "text/html": [
       "<span style=\"color:#4527A0\"><h1 style=\"font-size:18px\">Trial summary</h1></span>"
      ],
      "text/plain": [
       "<IPython.core.display.HTML object>"
      ]
     },
     "metadata": {},
     "output_type": "display_data"
    },
    {
     "data": {
      "text/html": [
       "<span style=\"color:cyan\"> |-Trial ID: 9fe6f1408fe97950433a79b30dd19e09</span>"
      ],
      "text/plain": [
       "<IPython.core.display.HTML object>"
      ]
     },
     "metadata": {},
     "output_type": "display_data"
    },
    {
     "data": {
      "text/html": [
       "<span style=\"color:cyan\"> |-Score: 0.056673813611269</span>"
      ],
      "text/plain": [
       "<IPython.core.display.HTML object>"
      ]
     },
     "metadata": {},
     "output_type": "display_data"
    },
    {
     "data": {
      "text/html": [
       "<span style=\"color:cyan\"> |-Best step: 0</span>"
      ],
      "text/plain": [
       "<IPython.core.display.HTML object>"
      ]
     },
     "metadata": {},
     "output_type": "display_data"
    },
    {
     "data": {
      "text/html": [
       "<span style=\"color:#7E57C2\"><h2 style=\"font-size:16px\">Hyperparameters:</h2></span>"
      ],
      "text/plain": [
       "<IPython.core.display.HTML object>"
      ]
     },
     "metadata": {},
     "output_type": "display_data"
    },
    {
     "data": {
      "text/html": [
       "<span style=\"color:cyan\"> |-hidden_0_units: 261</span>"
      ],
      "text/plain": [
       "<IPython.core.display.HTML object>"
      ]
     },
     "metadata": {},
     "output_type": "display_data"
    },
    {
     "data": {
      "text/html": [
       "<span style=\"color:blue\"> |-hidden_1_units: 19</span>"
      ],
      "text/plain": [
       "<IPython.core.display.HTML object>"
      ]
     },
     "metadata": {},
     "output_type": "display_data"
    },
    {
     "data": {
      "text/html": [
       "<span style=\"color:cyan\"> |-learning_rate: 0.001</span>"
      ],
      "text/plain": [
       "<IPython.core.display.HTML object>"
      ]
     },
     "metadata": {},
     "output_type": "display_data"
    },
    {
     "data": {
      "text/html": [
       "<span style=\"color:blue\"> |-n_layers: 2</span>"
      ],
      "text/plain": [
       "<IPython.core.display.HTML object>"
      ]
     },
     "metadata": {},
     "output_type": "display_data"
    },
    {
     "data": {
      "text/html": [
       "<span style=\"color:cyan\"> |-tuner/bracket: 1</span>"
      ],
      "text/plain": [
       "<IPython.core.display.HTML object>"
      ]
     },
     "metadata": {},
     "output_type": "display_data"
    },
    {
     "data": {
      "text/html": [
       "<span style=\"color:blue\"> |-tuner/epochs: 9</span>"
      ],
      "text/plain": [
       "<IPython.core.display.HTML object>"
      ]
     },
     "metadata": {},
     "output_type": "display_data"
    },
    {
     "data": {
      "text/html": [
       "<span style=\"color:cyan\"> |-tuner/initial_epoch: 0</span>"
      ],
      "text/plain": [
       "<IPython.core.display.HTML object>"
      ]
     },
     "metadata": {},
     "output_type": "display_data"
    },
    {
     "data": {
      "text/html": [
       "<span style=\"color:blue\"> |-tuner/round: 0</span>"
      ],
      "text/plain": [
       "<IPython.core.display.HTML object>"
      ]
     },
     "metadata": {},
     "output_type": "display_data"
    },
    {
     "name": "stdout",
     "output_type": "stream",
     "text": [
      "Train on 14450 samples, validate on 2550 samples\n",
      "Epoch 1/9\n",
      "14450/14450 - 2s - loss: 0.1636 - mean_squared_error: 0.1636 - val_loss: 0.1360 - val_mean_squared_error: 0.1360\n",
      "Epoch 2/9\n",
      "14450/14450 - 1s - loss: 0.1145 - mean_squared_error: 0.1145 - val_loss: 0.0971 - val_mean_squared_error: 0.0971\n",
      "Epoch 3/9\n",
      "14450/14450 - 1s - loss: 0.0880 - mean_squared_error: 0.0880 - val_loss: 0.0804 - val_mean_squared_error: 0.0804\n",
      "Epoch 4/9\n",
      "14450/14450 - 1s - loss: 0.0759 - mean_squared_error: 0.0759 - val_loss: 0.0715 - val_mean_squared_error: 0.0715\n",
      "Epoch 5/9\n",
      "14450/14450 - 1s - loss: 0.0687 - mean_squared_error: 0.0687 - val_loss: 0.0658 - val_mean_squared_error: 0.0658\n",
      "Epoch 6/9\n",
      "14450/14450 - 1s - loss: 0.0641 - mean_squared_error: 0.0641 - val_loss: 0.0623 - val_mean_squared_error: 0.0623\n",
      "Epoch 7/9\n",
      "14450/14450 - 1s - loss: 0.0612 - mean_squared_error: 0.0612 - val_loss: 0.0601 - val_mean_squared_error: 0.0601\n",
      "Epoch 8/9\n",
      "14450/14450 - 1s - loss: 0.0594 - mean_squared_error: 0.0594 - val_loss: 0.0587 - val_mean_squared_error: 0.0587\n",
      "Epoch 9/9\n",
      "14450/14450 - 1s - loss: 0.0580 - mean_squared_error: 0.0580 - val_loss: 0.0574 - val_mean_squared_error: 0.0574\n"
     ]
    },
    {
     "data": {
      "text/html": [
       "<span style=\"color:#4527A0\"><h1 style=\"font-size:18px\">Trial complete</h1></span>"
      ],
      "text/plain": [
       "<IPython.core.display.HTML object>"
      ]
     },
     "metadata": {},
     "output_type": "display_data"
    },
    {
     "data": {
      "text/html": [
       "<span style=\"color:#4527A0\"><h1 style=\"font-size:18px\">Trial summary</h1></span>"
      ],
      "text/plain": [
       "<IPython.core.display.HTML object>"
      ]
     },
     "metadata": {},
     "output_type": "display_data"
    },
    {
     "data": {
      "text/html": [
       "<span style=\"color:cyan\"> |-Trial ID: bc2dcf544e86020b23f772cf1d2a436d</span>"
      ],
      "text/plain": [
       "<IPython.core.display.HTML object>"
      ]
     },
     "metadata": {},
     "output_type": "display_data"
    },
    {
     "data": {
      "text/html": [
       "<span style=\"color:cyan\"> |-Score: 0.057961609214544296</span>"
      ],
      "text/plain": [
       "<IPython.core.display.HTML object>"
      ]
     },
     "metadata": {},
     "output_type": "display_data"
    },
    {
     "data": {
      "text/html": [
       "<span style=\"color:cyan\"> |-Best step: 0</span>"
      ],
      "text/plain": [
       "<IPython.core.display.HTML object>"
      ]
     },
     "metadata": {},
     "output_type": "display_data"
    },
    {
     "data": {
      "text/html": [
       "<span style=\"color:#7E57C2\"><h2 style=\"font-size:16px\">Hyperparameters:</h2></span>"
      ],
      "text/plain": [
       "<IPython.core.display.HTML object>"
      ]
     },
     "metadata": {},
     "output_type": "display_data"
    },
    {
     "data": {
      "text/html": [
       "<span style=\"color:cyan\"> |-hidden_0_units: 20</span>"
      ],
      "text/plain": [
       "<IPython.core.display.HTML object>"
      ]
     },
     "metadata": {},
     "output_type": "display_data"
    },
    {
     "data": {
      "text/html": [
       "<span style=\"color:blue\"> |-hidden_1_units: 313</span>"
      ],
      "text/plain": [
       "<IPython.core.display.HTML object>"
      ]
     },
     "metadata": {},
     "output_type": "display_data"
    },
    {
     "data": {
      "text/html": [
       "<span style=\"color:cyan\"> |-learning_rate: 0.0001</span>"
      ],
      "text/plain": [
       "<IPython.core.display.HTML object>"
      ]
     },
     "metadata": {},
     "output_type": "display_data"
    },
    {
     "data": {
      "text/html": [
       "<span style=\"color:blue\"> |-n_layers: 2</span>"
      ],
      "text/plain": [
       "<IPython.core.display.HTML object>"
      ]
     },
     "metadata": {},
     "output_type": "display_data"
    },
    {
     "data": {
      "text/html": [
       "<span style=\"color:cyan\"> |-tuner/bracket: 1</span>"
      ],
      "text/plain": [
       "<IPython.core.display.HTML object>"
      ]
     },
     "metadata": {},
     "output_type": "display_data"
    },
    {
     "data": {
      "text/html": [
       "<span style=\"color:blue\"> |-tuner/epochs: 9</span>"
      ],
      "text/plain": [
       "<IPython.core.display.HTML object>"
      ]
     },
     "metadata": {},
     "output_type": "display_data"
    },
    {
     "data": {
      "text/html": [
       "<span style=\"color:cyan\"> |-tuner/initial_epoch: 0</span>"
      ],
      "text/plain": [
       "<IPython.core.display.HTML object>"
      ]
     },
     "metadata": {},
     "output_type": "display_data"
    },
    {
     "data": {
      "text/html": [
       "<span style=\"color:blue\"> |-tuner/round: 0</span>"
      ],
      "text/plain": [
       "<IPython.core.display.HTML object>"
      ]
     },
     "metadata": {},
     "output_type": "display_data"
    },
    {
     "name": "stdout",
     "output_type": "stream",
     "text": [
      "Train on 14450 samples, validate on 2550 samples\n",
      "Epoch 10/25\n",
      "14450/14450 - 2s - loss: 0.0061 - mean_squared_error: 0.0061 - val_loss: 0.0021 - val_mean_squared_error: 0.0021\n",
      "Epoch 11/25\n",
      "14450/14450 - 2s - loss: 0.0042 - mean_squared_error: 0.0042 - val_loss: 0.0616 - val_mean_squared_error: 0.0616\n",
      "Epoch 12/25\n",
      "14450/14450 - 2s - loss: 0.1456 - mean_squared_error: 0.1456 - val_loss: 0.1598 - val_mean_squared_error: 0.1598\n",
      "Epoch 13/25\n",
      "14450/14450 - 2s - loss: 0.1473 - mean_squared_error: 0.1473 - val_loss: 0.1468 - val_mean_squared_error: 0.1468\n",
      "Epoch 14/25\n",
      "14450/14450 - 2s - loss: 0.1194 - mean_squared_error: 0.1194 - val_loss: 0.0949 - val_mean_squared_error: 0.0949\n",
      "Epoch 15/25\n",
      "14450/14450 - 1s - loss: 0.1106 - mean_squared_error: 0.1106 - val_loss: 0.1053 - val_mean_squared_error: 0.1053\n",
      "Epoch 16/25\n",
      "14450/14450 - 2s - loss: 0.0994 - mean_squared_error: 0.0994 - val_loss: 0.1050 - val_mean_squared_error: 0.1050\n"
     ]
    },
    {
     "data": {
      "text/html": [
       "<span style=\"color:#4527A0\"><h1 style=\"font-size:18px\">Trial complete</h1></span>"
      ],
      "text/plain": [
       "<IPython.core.display.HTML object>"
      ]
     },
     "metadata": {},
     "output_type": "display_data"
    },
    {
     "data": {
      "text/html": [
       "<span style=\"color:#4527A0\"><h1 style=\"font-size:18px\">Trial summary</h1></span>"
      ],
      "text/plain": [
       "<IPython.core.display.HTML object>"
      ]
     },
     "metadata": {},
     "output_type": "display_data"
    },
    {
     "data": {
      "text/html": [
       "<span style=\"color:cyan\"> |-Trial ID: f238c637158d2437ffcd437acb49042a</span>"
      ],
      "text/plain": [
       "<IPython.core.display.HTML object>"
      ]
     },
     "metadata": {},
     "output_type": "display_data"
    },
    {
     "data": {
      "text/html": [
       "<span style=\"color:cyan\"> |-Score: 0.004235445987433195</span>"
      ],
      "text/plain": [
       "<IPython.core.display.HTML object>"
      ]
     },
     "metadata": {},
     "output_type": "display_data"
    },
    {
     "data": {
      "text/html": [
       "<span style=\"color:cyan\"> |-Best step: 0</span>"
      ],
      "text/plain": [
       "<IPython.core.display.HTML object>"
      ]
     },
     "metadata": {},
     "output_type": "display_data"
    },
    {
     "data": {
      "text/html": [
       "<span style=\"color:#7E57C2\"><h2 style=\"font-size:16px\">Hyperparameters:</h2></span>"
      ],
      "text/plain": [
       "<IPython.core.display.HTML object>"
      ]
     },
     "metadata": {},
     "output_type": "display_data"
    },
    {
     "data": {
      "text/html": [
       "<span style=\"color:cyan\"> |-hidden_0_units: 189</span>"
      ],
      "text/plain": [
       "<IPython.core.display.HTML object>"
      ]
     },
     "metadata": {},
     "output_type": "display_data"
    },
    {
     "data": {
      "text/html": [
       "<span style=\"color:blue\"> |-hidden_1_units: 148</span>"
      ],
      "text/plain": [
       "<IPython.core.display.HTML object>"
      ]
     },
     "metadata": {},
     "output_type": "display_data"
    },
    {
     "data": {
      "text/html": [
       "<span style=\"color:cyan\"> |-learning_rate: 0.01</span>"
      ],
      "text/plain": [
       "<IPython.core.display.HTML object>"
      ]
     },
     "metadata": {},
     "output_type": "display_data"
    },
    {
     "data": {
      "text/html": [
       "<span style=\"color:blue\"> |-n_layers: 2</span>"
      ],
      "text/plain": [
       "<IPython.core.display.HTML object>"
      ]
     },
     "metadata": {},
     "output_type": "display_data"
    },
    {
     "data": {
      "text/html": [
       "<span style=\"color:cyan\"> |-tuner/bracket: 1</span>"
      ],
      "text/plain": [
       "<IPython.core.display.HTML object>"
      ]
     },
     "metadata": {},
     "output_type": "display_data"
    },
    {
     "data": {
      "text/html": [
       "<span style=\"color:blue\"> |-tuner/epochs: 25</span>"
      ],
      "text/plain": [
       "<IPython.core.display.HTML object>"
      ]
     },
     "metadata": {},
     "output_type": "display_data"
    },
    {
     "data": {
      "text/html": [
       "<span style=\"color:cyan\"> |-tuner/initial_epoch: 9</span>"
      ],
      "text/plain": [
       "<IPython.core.display.HTML object>"
      ]
     },
     "metadata": {},
     "output_type": "display_data"
    },
    {
     "data": {
      "text/html": [
       "<span style=\"color:blue\"> |-tuner/round: 1</span>"
      ],
      "text/plain": [
       "<IPython.core.display.HTML object>"
      ]
     },
     "metadata": {},
     "output_type": "display_data"
    },
    {
     "data": {
      "text/html": [
       "<span style=\"color:cyan\"> |-tuner/trial_id: 625f840e95160c47208ec1661fc21453</span>"
      ],
      "text/plain": [
       "<IPython.core.display.HTML object>"
      ]
     },
     "metadata": {},
     "output_type": "display_data"
    },
    {
     "name": "stdout",
     "output_type": "stream",
     "text": [
      "Train on 14450 samples, validate on 2550 samples\n",
      "Epoch 10/25\n",
      "14450/14450 - 2s - loss: 0.1680 - mean_squared_error: 0.1680 - val_loss: 0.1406 - val_mean_squared_error: 0.1406\n",
      "Epoch 11/25\n",
      "14450/14450 - 1s - loss: 0.1144 - mean_squared_error: 0.1144 - val_loss: 0.0908 - val_mean_squared_error: 0.0908\n",
      "Epoch 12/25\n",
      "14450/14450 - 1s - loss: 0.0719 - mean_squared_error: 0.0719 - val_loss: 0.0563 - val_mean_squared_error: 0.0563\n",
      "Epoch 13/25\n",
      "14450/14450 - 1s - loss: 0.0448 - mean_squared_error: 0.0448 - val_loss: 0.0351 - val_mean_squared_error: 0.0351\n",
      "Epoch 14/25\n",
      "14450/14450 - 1s - loss: 0.0278 - mean_squared_error: 0.0278 - val_loss: 0.0215 - val_mean_squared_error: 0.0215\n",
      "Epoch 15/25\n",
      "14450/14450 - 1s - loss: 0.0169 - mean_squared_error: 0.0169 - val_loss: 0.0130 - val_mean_squared_error: 0.0130\n",
      "Epoch 16/25\n",
      "14450/14450 - 1s - loss: 0.0103 - mean_squared_error: 0.0103 - val_loss: 0.0080 - val_mean_squared_error: 0.0080\n",
      "Epoch 17/25\n",
      "14450/14450 - 1s - loss: 0.0064 - mean_squared_error: 0.0064 - val_loss: 0.0050 - val_mean_squared_error: 0.0050\n",
      "Epoch 18/25\n",
      "14450/14450 - 1s - loss: 0.0041 - mean_squared_error: 0.0041 - val_loss: 0.0033 - val_mean_squared_error: 0.0033\n",
      "Epoch 19/25\n",
      "14450/14450 - 1s - loss: 0.0027 - mean_squared_error: 0.0027 - val_loss: 0.0022 - val_mean_squared_error: 0.0022\n",
      "Epoch 20/25\n",
      "14450/14450 - 1s - loss: 0.0019 - mean_squared_error: 0.0019 - val_loss: 0.0016 - val_mean_squared_error: 0.0016\n",
      "Epoch 21/25\n",
      "14450/14450 - 1s - loss: 0.0014 - mean_squared_error: 0.0014 - val_loss: 0.0012 - val_mean_squared_error: 0.0012\n",
      "Epoch 22/25\n",
      "14450/14450 - 1s - loss: 0.0010 - mean_squared_error: 0.0010 - val_loss: 8.9713e-04 - val_mean_squared_error: 8.9713e-04\n",
      "Epoch 23/25\n",
      "14450/14450 - 1s - loss: 8.1496e-04 - mean_squared_error: 8.1496e-04 - val_loss: 7.1834e-04 - val_mean_squared_error: 7.1834e-04\n",
      "Epoch 24/25\n",
      "14450/14450 - 1s - loss: 6.6780e-04 - mean_squared_error: 6.6780e-04 - val_loss: 5.9826e-04 - val_mean_squared_error: 5.9826e-04\n",
      "Epoch 25/25\n",
      "14450/14450 - 1s - loss: 5.6685e-04 - mean_squared_error: 5.6685e-04 - val_loss: 5.2153e-04 - val_mean_squared_error: 5.2153e-04\n"
     ]
    },
    {
     "data": {
      "text/html": [
       "<span style=\"color:#4527A0\"><h1 style=\"font-size:18px\">Trial complete</h1></span>"
      ],
      "text/plain": [
       "<IPython.core.display.HTML object>"
      ]
     },
     "metadata": {},
     "output_type": "display_data"
    },
    {
     "data": {
      "text/html": [
       "<span style=\"color:#4527A0\"><h1 style=\"font-size:18px\">Trial summary</h1></span>"
      ],
      "text/plain": [
       "<IPython.core.display.HTML object>"
      ]
     },
     "metadata": {},
     "output_type": "display_data"
    },
    {
     "data": {
      "text/html": [
       "<span style=\"color:cyan\"> |-Trial ID: 5d77b0423b7cc597b8164ae961a248af</span>"
      ],
      "text/plain": [
       "<IPython.core.display.HTML object>"
      ]
     },
     "metadata": {},
     "output_type": "display_data"
    },
    {
     "data": {
      "text/html": [
       "<span style=\"color:cyan\"> |-Score: 0.0005668508820235729</span>"
      ],
      "text/plain": [
       "<IPython.core.display.HTML object>"
      ]
     },
     "metadata": {},
     "output_type": "display_data"
    },
    {
     "data": {
      "text/html": [
       "<span style=\"color:cyan\"> |-Best step: 0</span>"
      ],
      "text/plain": [
       "<IPython.core.display.HTML object>"
      ]
     },
     "metadata": {},
     "output_type": "display_data"
    },
    {
     "data": {
      "text/html": [
       "<span style=\"color:#7E57C2\"><h2 style=\"font-size:16px\">Hyperparameters:</h2></span>"
      ],
      "text/plain": [
       "<IPython.core.display.HTML object>"
      ]
     },
     "metadata": {},
     "output_type": "display_data"
    },
    {
     "data": {
      "text/html": [
       "<span style=\"color:cyan\"> |-hidden_0_units: 184</span>"
      ],
      "text/plain": [
       "<IPython.core.display.HTML object>"
      ]
     },
     "metadata": {},
     "output_type": "display_data"
    },
    {
     "data": {
      "text/html": [
       "<span style=\"color:blue\"> |-hidden_1_units: 100</span>"
      ],
      "text/plain": [
       "<IPython.core.display.HTML object>"
      ]
     },
     "metadata": {},
     "output_type": "display_data"
    },
    {
     "data": {
      "text/html": [
       "<span style=\"color:cyan\"> |-learning_rate: 0.0001</span>"
      ],
      "text/plain": [
       "<IPython.core.display.HTML object>"
      ]
     },
     "metadata": {},
     "output_type": "display_data"
    },
    {
     "data": {
      "text/html": [
       "<span style=\"color:blue\"> |-n_layers: 1</span>"
      ],
      "text/plain": [
       "<IPython.core.display.HTML object>"
      ]
     },
     "metadata": {},
     "output_type": "display_data"
    },
    {
     "data": {
      "text/html": [
       "<span style=\"color:cyan\"> |-tuner/bracket: 1</span>"
      ],
      "text/plain": [
       "<IPython.core.display.HTML object>"
      ]
     },
     "metadata": {},
     "output_type": "display_data"
    },
    {
     "data": {
      "text/html": [
       "<span style=\"color:blue\"> |-tuner/epochs: 25</span>"
      ],
      "text/plain": [
       "<IPython.core.display.HTML object>"
      ]
     },
     "metadata": {},
     "output_type": "display_data"
    },
    {
     "data": {
      "text/html": [
       "<span style=\"color:cyan\"> |-tuner/initial_epoch: 9</span>"
      ],
      "text/plain": [
       "<IPython.core.display.HTML object>"
      ]
     },
     "metadata": {},
     "output_type": "display_data"
    },
    {
     "data": {
      "text/html": [
       "<span style=\"color:blue\"> |-tuner/round: 1</span>"
      ],
      "text/plain": [
       "<IPython.core.display.HTML object>"
      ]
     },
     "metadata": {},
     "output_type": "display_data"
    },
    {
     "data": {
      "text/html": [
       "<span style=\"color:cyan\"> |-tuner/trial_id: 8953b1b353374c3f972d49610bf5f6de</span>"
      ],
      "text/plain": [
       "<IPython.core.display.HTML object>"
      ]
     },
     "metadata": {},
     "output_type": "display_data"
    },
    {
     "name": "stdout",
     "output_type": "stream",
     "text": [
      "Train on 14450 samples, validate on 2550 samples\n",
      "Epoch 1/25\n",
      "14450/14450 - 2s - loss: 0.0386 - mean_squared_error: 0.0386 - val_loss: 0.0013 - val_mean_squared_error: 0.0013\n",
      "Epoch 2/25\n",
      "14450/14450 - 1s - loss: 6.4375e-04 - mean_squared_error: 6.4375e-04 - val_loss: 5.0281e-04 - val_mean_squared_error: 5.0281e-04\n",
      "Epoch 3/25\n",
      "14450/14450 - 2s - loss: 4.2786e-04 - mean_squared_error: 4.2786e-04 - val_loss: 3.3711e-04 - val_mean_squared_error: 3.3711e-04\n",
      "Epoch 4/25\n",
      "14450/14450 - 2s - loss: 3.9919e-04 - mean_squared_error: 3.9919e-04 - val_loss: 3.2223e-04 - val_mean_squared_error: 3.2223e-04\n",
      "Epoch 5/25\n",
      "14450/14450 - 2s - loss: 3.6889e-04 - mean_squared_error: 3.6889e-04 - val_loss: 3.1083e-04 - val_mean_squared_error: 3.1083e-04\n",
      "Epoch 6/25\n",
      "14450/14450 - 2s - loss: 4.2367e-04 - mean_squared_error: 4.2367e-04 - val_loss: 3.2894e-04 - val_mean_squared_error: 3.2894e-04\n",
      "Epoch 7/25\n",
      "14450/14450 - 1s - loss: 4.0417e-04 - mean_squared_error: 4.0417e-04 - val_loss: 3.4320e-04 - val_mean_squared_error: 3.4320e-04\n",
      "Epoch 8/25\n",
      "14450/14450 - 1s - loss: 3.7751e-04 - mean_squared_error: 3.7751e-04 - val_loss: 3.0837e-04 - val_mean_squared_error: 3.0837e-04\n",
      "Epoch 9/25\n",
      "14450/14450 - 1s - loss: 3.8967e-04 - mean_squared_error: 3.8967e-04 - val_loss: 3.3392e-04 - val_mean_squared_error: 3.3392e-04\n",
      "Epoch 10/25\n",
      "14450/14450 - 1s - loss: 3.8302e-04 - mean_squared_error: 3.8302e-04 - val_loss: 4.9085e-04 - val_mean_squared_error: 4.9085e-04\n"
     ]
    },
    {
     "data": {
      "text/html": [
       "<span style=\"color:#4527A0\"><h1 style=\"font-size:18px\">Trial complete</h1></span>"
      ],
      "text/plain": [
       "<IPython.core.display.HTML object>"
      ]
     },
     "metadata": {},
     "output_type": "display_data"
    },
    {
     "data": {
      "text/html": [
       "<span style=\"color:#4527A0\"><h1 style=\"font-size:18px\">Trial summary</h1></span>"
      ],
      "text/plain": [
       "<IPython.core.display.HTML object>"
      ]
     },
     "metadata": {},
     "output_type": "display_data"
    },
    {
     "data": {
      "text/html": [
       "<span style=\"color:cyan\"> |-Trial ID: e7182f04bde1d8a73c0a876328c7917d</span>"
      ],
      "text/plain": [
       "<IPython.core.display.HTML object>"
      ]
     },
     "metadata": {},
     "output_type": "display_data"
    },
    {
     "data": {
      "text/html": [
       "<span style=\"color:cyan\"> |-Score: 0.0003688893048092723</span>"
      ],
      "text/plain": [
       "<IPython.core.display.HTML object>"
      ]
     },
     "metadata": {},
     "output_type": "display_data"
    },
    {
     "data": {
      "text/html": [
       "<span style=\"color:cyan\"> |-Best step: 0</span>"
      ],
      "text/plain": [
       "<IPython.core.display.HTML object>"
      ]
     },
     "metadata": {},
     "output_type": "display_data"
    },
    {
     "data": {
      "text/html": [
       "<span style=\"color:#7E57C2\"><h2 style=\"font-size:16px\">Hyperparameters:</h2></span>"
      ],
      "text/plain": [
       "<IPython.core.display.HTML object>"
      ]
     },
     "metadata": {},
     "output_type": "display_data"
    },
    {
     "data": {
      "text/html": [
       "<span style=\"color:cyan\"> |-hidden_0_units: 224</span>"
      ],
      "text/plain": [
       "<IPython.core.display.HTML object>"
      ]
     },
     "metadata": {},
     "output_type": "display_data"
    },
    {
     "data": {
      "text/html": [
       "<span style=\"color:blue\"> |-hidden_1_units: 55</span>"
      ],
      "text/plain": [
       "<IPython.core.display.HTML object>"
      ]
     },
     "metadata": {},
     "output_type": "display_data"
    },
    {
     "data": {
      "text/html": [
       "<span style=\"color:cyan\"> |-learning_rate: 0.001</span>"
      ],
      "text/plain": [
       "<IPython.core.display.HTML object>"
      ]
     },
     "metadata": {},
     "output_type": "display_data"
    },
    {
     "data": {
      "text/html": [
       "<span style=\"color:blue\"> |-n_layers: 2</span>"
      ],
      "text/plain": [
       "<IPython.core.display.HTML object>"
      ]
     },
     "metadata": {},
     "output_type": "display_data"
    },
    {
     "data": {
      "text/html": [
       "<span style=\"color:cyan\"> |-tuner/bracket: 0</span>"
      ],
      "text/plain": [
       "<IPython.core.display.HTML object>"
      ]
     },
     "metadata": {},
     "output_type": "display_data"
    },
    {
     "data": {
      "text/html": [
       "<span style=\"color:blue\"> |-tuner/epochs: 25</span>"
      ],
      "text/plain": [
       "<IPython.core.display.HTML object>"
      ]
     },
     "metadata": {},
     "output_type": "display_data"
    },
    {
     "data": {
      "text/html": [
       "<span style=\"color:cyan\"> |-tuner/initial_epoch: 0</span>"
      ],
      "text/plain": [
       "<IPython.core.display.HTML object>"
      ]
     },
     "metadata": {},
     "output_type": "display_data"
    },
    {
     "data": {
      "text/html": [
       "<span style=\"color:blue\"> |-tuner/round: 0</span>"
      ],
      "text/plain": [
       "<IPython.core.display.HTML object>"
      ]
     },
     "metadata": {},
     "output_type": "display_data"
    },
    {
     "name": "stdout",
     "output_type": "stream",
     "text": [
      "Train on 14450 samples, validate on 2550 samples\n",
      "Epoch 1/25\n",
      "14450/14450 - 2s - loss: 0.0311 - mean_squared_error: 0.0311 - val_loss: 8.1172e-04 - val_mean_squared_error: 8.1172e-04\n",
      "Epoch 2/25\n",
      "14450/14450 - 1s - loss: 5.3100e-04 - mean_squared_error: 5.3100e-04 - val_loss: 4.7318e-04 - val_mean_squared_error: 4.7318e-04\n",
      "Epoch 3/25\n",
      "14450/14450 - 1s - loss: 4.2995e-04 - mean_squared_error: 4.2995e-04 - val_loss: 3.3386e-04 - val_mean_squared_error: 3.3386e-04\n",
      "Epoch 4/25\n",
      "14450/14450 - 1s - loss: 3.7829e-04 - mean_squared_error: 3.7829e-04 - val_loss: 3.5291e-04 - val_mean_squared_error: 3.5291e-04\n",
      "Epoch 5/25\n",
      "14450/14450 - 1s - loss: 4.1148e-04 - mean_squared_error: 4.1148e-04 - val_loss: 4.4515e-04 - val_mean_squared_error: 4.4515e-04\n",
      "Epoch 6/25\n",
      "14450/14450 - 1s - loss: 4.1654e-04 - mean_squared_error: 4.1654e-04 - val_loss: 3.5115e-04 - val_mean_squared_error: 3.5115e-04\n",
      "Epoch 7/25\n",
      "14450/14450 - 1s - loss: 3.8015e-04 - mean_squared_error: 3.8015e-04 - val_loss: 3.2091e-04 - val_mean_squared_error: 3.2091e-04\n",
      "Epoch 8/25\n",
      "14450/14450 - 2s - loss: 3.6698e-04 - mean_squared_error: 3.6698e-04 - val_loss: 3.7677e-04 - val_mean_squared_error: 3.7677e-04\n",
      "Epoch 9/25\n",
      "14450/14450 - 1s - loss: 4.0045e-04 - mean_squared_error: 4.0045e-04 - val_loss: 4.6334e-04 - val_mean_squared_error: 4.6334e-04\n",
      "Epoch 10/25\n",
      "14450/14450 - 1s - loss: 3.8852e-04 - mean_squared_error: 3.8852e-04 - val_loss: 3.4192e-04 - val_mean_squared_error: 3.4192e-04\n",
      "Epoch 11/25\n",
      "14450/14450 - 1s - loss: 4.0692e-04 - mean_squared_error: 4.0692e-04 - val_loss: 3.5959e-04 - val_mean_squared_error: 3.5959e-04\n",
      "Epoch 12/25\n",
      "14450/14450 - 1s - loss: 3.9906e-04 - mean_squared_error: 3.9906e-04 - val_loss: 4.0265e-04 - val_mean_squared_error: 4.0265e-04\n",
      "Epoch 13/25\n",
      "14450/14450 - 2s - loss: 4.0414e-04 - mean_squared_error: 4.0414e-04 - val_loss: 3.2341e-04 - val_mean_squared_error: 3.2341e-04\n"
     ]
    },
    {
     "data": {
      "text/html": [
       "<span style=\"color:#4527A0\"><h1 style=\"font-size:18px\">Trial complete</h1></span>"
      ],
      "text/plain": [
       "<IPython.core.display.HTML object>"
      ]
     },
     "metadata": {},
     "output_type": "display_data"
    },
    {
     "data": {
      "text/html": [
       "<span style=\"color:#4527A0\"><h1 style=\"font-size:18px\">Trial summary</h1></span>"
      ],
      "text/plain": [
       "<IPython.core.display.HTML object>"
      ]
     },
     "metadata": {},
     "output_type": "display_data"
    },
    {
     "data": {
      "text/html": [
       "<span style=\"color:cyan\"> |-Trial ID: a0224fe30db71662c29690d9c8970a5b</span>"
      ],
      "text/plain": [
       "<IPython.core.display.HTML object>"
      ]
     },
     "metadata": {},
     "output_type": "display_data"
    },
    {
     "data": {
      "text/html": [
       "<span style=\"color:cyan\"> |-Score: 0.00036697546602226794</span>"
      ],
      "text/plain": [
       "<IPython.core.display.HTML object>"
      ]
     },
     "metadata": {},
     "output_type": "display_data"
    },
    {
     "data": {
      "text/html": [
       "<span style=\"color:cyan\"> |-Best step: 0</span>"
      ],
      "text/plain": [
       "<IPython.core.display.HTML object>"
      ]
     },
     "metadata": {},
     "output_type": "display_data"
    },
    {
     "data": {
      "text/html": [
       "<span style=\"color:#7E57C2\"><h2 style=\"font-size:16px\">Hyperparameters:</h2></span>"
      ],
      "text/plain": [
       "<IPython.core.display.HTML object>"
      ]
     },
     "metadata": {},
     "output_type": "display_data"
    },
    {
     "data": {
      "text/html": [
       "<span style=\"color:cyan\"> |-hidden_0_units: 214</span>"
      ],
      "text/plain": [
       "<IPython.core.display.HTML object>"
      ]
     },
     "metadata": {},
     "output_type": "display_data"
    },
    {
     "data": {
      "text/html": [
       "<span style=\"color:blue\"> |-hidden_1_units: 89</span>"
      ],
      "text/plain": [
       "<IPython.core.display.HTML object>"
      ]
     },
     "metadata": {},
     "output_type": "display_data"
    },
    {
     "data": {
      "text/html": [
       "<span style=\"color:cyan\"> |-learning_rate: 0.001</span>"
      ],
      "text/plain": [
       "<IPython.core.display.HTML object>"
      ]
     },
     "metadata": {},
     "output_type": "display_data"
    },
    {
     "data": {
      "text/html": [
       "<span style=\"color:blue\"> |-n_layers: 2</span>"
      ],
      "text/plain": [
       "<IPython.core.display.HTML object>"
      ]
     },
     "metadata": {},
     "output_type": "display_data"
    },
    {
     "data": {
      "text/html": [
       "<span style=\"color:cyan\"> |-tuner/bracket: 0</span>"
      ],
      "text/plain": [
       "<IPython.core.display.HTML object>"
      ]
     },
     "metadata": {},
     "output_type": "display_data"
    },
    {
     "data": {
      "text/html": [
       "<span style=\"color:blue\"> |-tuner/epochs: 25</span>"
      ],
      "text/plain": [
       "<IPython.core.display.HTML object>"
      ]
     },
     "metadata": {},
     "output_type": "display_data"
    },
    {
     "data": {
      "text/html": [
       "<span style=\"color:cyan\"> |-tuner/initial_epoch: 0</span>"
      ],
      "text/plain": [
       "<IPython.core.display.HTML object>"
      ]
     },
     "metadata": {},
     "output_type": "display_data"
    },
    {
     "data": {
      "text/html": [
       "<span style=\"color:blue\"> |-tuner/round: 0</span>"
      ],
      "text/plain": [
       "<IPython.core.display.HTML object>"
      ]
     },
     "metadata": {},
     "output_type": "display_data"
    },
    {
     "name": "stdout",
     "output_type": "stream",
     "text": [
      "Train on 14450 samples, validate on 2550 samples\n",
      "Epoch 1/25\n",
      "14450/14450 - 2s - loss: 0.1642 - mean_squared_error: 0.1642 - val_loss: 0.1280 - val_mean_squared_error: 0.1280\n",
      "Epoch 2/25\n",
      "14450/14450 - 1s - loss: 0.0974 - mean_squared_error: 0.0974 - val_loss: 0.0740 - val_mean_squared_error: 0.0740\n",
      "Epoch 3/25\n",
      "14450/14450 - 2s - loss: 0.0587 - mean_squared_error: 0.0587 - val_loss: 0.0447 - val_mean_squared_error: 0.0447\n",
      "Epoch 4/25\n",
      "14450/14450 - 1s - loss: 0.0341 - mean_squared_error: 0.0341 - val_loss: 0.0247 - val_mean_squared_error: 0.0247\n",
      "Epoch 5/25\n",
      "14450/14450 - 1s - loss: 0.0182 - mean_squared_error: 0.0182 - val_loss: 0.0126 - val_mean_squared_error: 0.0126\n",
      "Epoch 6/25\n",
      "14450/14450 - 1s - loss: 0.0092 - mean_squared_error: 0.0092 - val_loss: 0.0064 - val_mean_squared_error: 0.0064\n",
      "Epoch 7/25\n",
      "14450/14450 - 2s - loss: 0.0047 - mean_squared_error: 0.0047 - val_loss: 0.0034 - val_mean_squared_error: 0.0034\n",
      "Epoch 8/25\n",
      "14450/14450 - 2s - loss: 0.0026 - mean_squared_error: 0.0026 - val_loss: 0.0019 - val_mean_squared_error: 0.0019\n",
      "Epoch 9/25\n",
      "14450/14450 - 2s - loss: 0.0015 - mean_squared_error: 0.0015 - val_loss: 0.0012 - val_mean_squared_error: 0.0012\n",
      "Epoch 10/25\n",
      "14450/14450 - 1s - loss: 9.6872e-04 - mean_squared_error: 9.6872e-04 - val_loss: 7.8810e-04 - val_mean_squared_error: 7.8810e-04\n",
      "Epoch 11/25\n",
      "14450/14450 - 1s - loss: 6.9869e-04 - mean_squared_error: 6.9869e-04 - val_loss: 5.9898e-04 - val_mean_squared_error: 5.9898e-04\n",
      "Epoch 12/25\n",
      "14450/14450 - 1s - loss: 5.5648e-04 - mean_squared_error: 5.5648e-04 - val_loss: 4.9537e-04 - val_mean_squared_error: 4.9537e-04\n",
      "Epoch 13/25\n",
      "14450/14450 - 1s - loss: 4.7267e-04 - mean_squared_error: 4.7267e-04 - val_loss: 4.2719e-04 - val_mean_squared_error: 4.2719e-04\n",
      "Epoch 14/25\n",
      "14450/14450 - 1s - loss: 4.2065e-04 - mean_squared_error: 4.2065e-04 - val_loss: 3.8759e-04 - val_mean_squared_error: 3.8759e-04\n",
      "Epoch 15/25\n",
      "14450/14450 - 1s - loss: 3.8834e-04 - mean_squared_error: 3.8834e-04 - val_loss: 3.6282e-04 - val_mean_squared_error: 3.6282e-04\n",
      "Epoch 16/25\n",
      "14450/14450 - 1s - loss: 3.6310e-04 - mean_squared_error: 3.6310e-04 - val_loss: 3.4277e-04 - val_mean_squared_error: 3.4277e-04\n",
      "Epoch 17/25\n",
      "14450/14450 - 1s - loss: 3.4534e-04 - mean_squared_error: 3.4534e-04 - val_loss: 3.2713e-04 - val_mean_squared_error: 3.2713e-04\n",
      "Epoch 18/25\n",
      "14450/14450 - 1s - loss: 3.3571e-04 - mean_squared_error: 3.3571e-04 - val_loss: 3.1422e-04 - val_mean_squared_error: 3.1422e-04\n",
      "Epoch 19/25\n",
      "14450/14450 - 1s - loss: 3.2999e-04 - mean_squared_error: 3.2999e-04 - val_loss: 3.0628e-04 - val_mean_squared_error: 3.0628e-04\n",
      "Epoch 20/25\n",
      "14450/14450 - 1s - loss: 3.2090e-04 - mean_squared_error: 3.2090e-04 - val_loss: 3.0217e-04 - val_mean_squared_error: 3.0217e-04\n",
      "Epoch 21/25\n",
      "14450/14450 - 1s - loss: 3.1575e-04 - mean_squared_error: 3.1575e-04 - val_loss: 2.9603e-04 - val_mean_squared_error: 2.9603e-04\n",
      "Epoch 22/25\n",
      "14450/14450 - 1s - loss: 3.1329e-04 - mean_squared_error: 3.1329e-04 - val_loss: 2.9321e-04 - val_mean_squared_error: 2.9321e-04\n",
      "Epoch 23/25\n",
      "14450/14450 - 1s - loss: 3.1432e-04 - mean_squared_error: 3.1432e-04 - val_loss: 3.1035e-04 - val_mean_squared_error: 3.1035e-04\n",
      "Epoch 24/25\n",
      "14450/14450 - 1s - loss: 3.1340e-04 - mean_squared_error: 3.1340e-04 - val_loss: 3.0817e-04 - val_mean_squared_error: 3.0817e-04\n",
      "Epoch 25/25\n",
      "14450/14450 - 1s - loss: 3.0478e-04 - mean_squared_error: 3.0478e-04 - val_loss: 3.0244e-04 - val_mean_squared_error: 3.0244e-04\n"
     ]
    },
    {
     "data": {
      "text/html": [
       "<span style=\"color:#4527A0\"><h1 style=\"font-size:18px\">Trial complete</h1></span>"
      ],
      "text/plain": [
       "<IPython.core.display.HTML object>"
      ]
     },
     "metadata": {},
     "output_type": "display_data"
    },
    {
     "data": {
      "text/html": [
       "<span style=\"color:#4527A0\"><h1 style=\"font-size:18px\">Trial summary</h1></span>"
      ],
      "text/plain": [
       "<IPython.core.display.HTML object>"
      ]
     },
     "metadata": {},
     "output_type": "display_data"
    },
    {
     "data": {
      "text/html": [
       "<span style=\"color:cyan\"> |-Trial ID: 260f82611c739f53f7df133208158a44</span>"
      ],
      "text/plain": [
       "<IPython.core.display.HTML object>"
      ]
     },
     "metadata": {},
     "output_type": "display_data"
    },
    {
     "data": {
      "text/html": [
       "<span style=\"color:cyan\"> |-Score: 0.0003047758073080331</span>"
      ],
      "text/plain": [
       "<IPython.core.display.HTML object>"
      ]
     },
     "metadata": {},
     "output_type": "display_data"
    },
    {
     "data": {
      "text/html": [
       "<span style=\"color:cyan\"> |-Best step: 0</span>"
      ],
      "text/plain": [
       "<IPython.core.display.HTML object>"
      ]
     },
     "metadata": {},
     "output_type": "display_data"
    },
    {
     "data": {
      "text/html": [
       "<span style=\"color:#7E57C2\"><h2 style=\"font-size:16px\">Hyperparameters:</h2></span>"
      ],
      "text/plain": [
       "<IPython.core.display.HTML object>"
      ]
     },
     "metadata": {},
     "output_type": "display_data"
    },
    {
     "data": {
      "text/html": [
       "<span style=\"color:cyan\"> |-hidden_0_units: 114</span>"
      ],
      "text/plain": [
       "<IPython.core.display.HTML object>"
      ]
     },
     "metadata": {},
     "output_type": "display_data"
    },
    {
     "data": {
      "text/html": [
       "<span style=\"color:blue\"> |-hidden_1_units: 86</span>"
      ],
      "text/plain": [
       "<IPython.core.display.HTML object>"
      ]
     },
     "metadata": {},
     "output_type": "display_data"
    },
    {
     "data": {
      "text/html": [
       "<span style=\"color:cyan\"> |-learning_rate: 0.0001</span>"
      ],
      "text/plain": [
       "<IPython.core.display.HTML object>"
      ]
     },
     "metadata": {},
     "output_type": "display_data"
    },
    {
     "data": {
      "text/html": [
       "<span style=\"color:blue\"> |-n_layers: 2</span>"
      ],
      "text/plain": [
       "<IPython.core.display.HTML object>"
      ]
     },
     "metadata": {},
     "output_type": "display_data"
    },
    {
     "data": {
      "text/html": [
       "<span style=\"color:cyan\"> |-tuner/bracket: 0</span>"
      ],
      "text/plain": [
       "<IPython.core.display.HTML object>"
      ]
     },
     "metadata": {},
     "output_type": "display_data"
    },
    {
     "data": {
      "text/html": [
       "<span style=\"color:blue\"> |-tuner/epochs: 25</span>"
      ],
      "text/plain": [
       "<IPython.core.display.HTML object>"
      ]
     },
     "metadata": {},
     "output_type": "display_data"
    },
    {
     "data": {
      "text/html": [
       "<span style=\"color:cyan\"> |-tuner/initial_epoch: 0</span>"
      ],
      "text/plain": [
       "<IPython.core.display.HTML object>"
      ]
     },
     "metadata": {},
     "output_type": "display_data"
    },
    {
     "data": {
      "text/html": [
       "<span style=\"color:blue\"> |-tuner/round: 0</span>"
      ],
      "text/plain": [
       "<IPython.core.display.HTML object>"
      ]
     },
     "metadata": {},
     "output_type": "display_data"
    },
    {
     "name": "stdout",
     "output_type": "stream",
     "text": [
      "Train on 14450 samples, validate on 2550 samples\n",
      "Epoch 1/25\n",
      "14450/14450 - 2s - loss: 0.1630 - mean_squared_error: 0.1630 - val_loss: 0.1321 - val_mean_squared_error: 0.1321\n",
      "Epoch 2/25\n",
      "14450/14450 - 1s - loss: 0.1040 - mean_squared_error: 0.1040 - val_loss: 0.0787 - val_mean_squared_error: 0.0787\n",
      "Epoch 3/25\n",
      "14450/14450 - 1s - loss: 0.0606 - mean_squared_error: 0.0606 - val_loss: 0.0458 - val_mean_squared_error: 0.0458\n",
      "Epoch 4/25\n",
      "14450/14450 - 1s - loss: 0.0355 - mean_squared_error: 0.0355 - val_loss: 0.0269 - val_mean_squared_error: 0.0269\n",
      "Epoch 5/25\n",
      "14450/14450 - 1s - loss: 0.0207 - mean_squared_error: 0.0207 - val_loss: 0.0155 - val_mean_squared_error: 0.0155\n",
      "Epoch 6/25\n",
      "14450/14450 - 1s - loss: 0.0120 - mean_squared_error: 0.0120 - val_loss: 0.0091 - val_mean_squared_error: 0.0091\n",
      "Epoch 7/25\n",
      "14450/14450 - 1s - loss: 0.0071 - mean_squared_error: 0.0071 - val_loss: 0.0055 - val_mean_squared_error: 0.0055\n",
      "Epoch 8/25\n",
      "14450/14450 - 1s - loss: 0.0044 - mean_squared_error: 0.0044 - val_loss: 0.0034 - val_mean_squared_error: 0.0034\n",
      "Epoch 9/25\n",
      "14450/14450 - 1s - loss: 0.0028 - mean_squared_error: 0.0028 - val_loss: 0.0023 - val_mean_squared_error: 0.0023\n",
      "Epoch 10/25\n",
      "14450/14450 - 1s - loss: 0.0019 - mean_squared_error: 0.0019 - val_loss: 0.0016 - val_mean_squared_error: 0.0016\n",
      "Epoch 11/25\n",
      "14450/14450 - 1s - loss: 0.0014 - mean_squared_error: 0.0014 - val_loss: 0.0012 - val_mean_squared_error: 0.0012\n",
      "Epoch 12/25\n",
      "14450/14450 - 1s - loss: 0.0010 - mean_squared_error: 0.0010 - val_loss: 9.0175e-04 - val_mean_squared_error: 9.0175e-04\n",
      "Epoch 13/25\n",
      "14450/14450 - 1s - loss: 8.0628e-04 - mean_squared_error: 8.0628e-04 - val_loss: 7.1040e-04 - val_mean_squared_error: 7.1040e-04\n",
      "Epoch 14/25\n",
      "14450/14450 - 1s - loss: 6.5808e-04 - mean_squared_error: 6.5808e-04 - val_loss: 6.0173e-04 - val_mean_squared_error: 6.0173e-04\n",
      "Epoch 15/25\n",
      "14450/14450 - 1s - loss: 5.5926e-04 - mean_squared_error: 5.5926e-04 - val_loss: 5.3289e-04 - val_mean_squared_error: 5.3289e-04\n",
      "Epoch 16/25\n",
      "14450/14450 - 1s - loss: 4.8906e-04 - mean_squared_error: 4.8906e-04 - val_loss: 4.4800e-04 - val_mean_squared_error: 4.4800e-04\n",
      "Epoch 17/25\n",
      "14450/14450 - 1s - loss: 4.4079e-04 - mean_squared_error: 4.4079e-04 - val_loss: 4.2173e-04 - val_mean_squared_error: 4.2173e-04\n",
      "Epoch 18/25\n",
      "14450/14450 - 1s - loss: 4.0670e-04 - mean_squared_error: 4.0670e-04 - val_loss: 3.8356e-04 - val_mean_squared_error: 3.8356e-04\n",
      "Epoch 19/25\n",
      "14450/14450 - 1s - loss: 3.8209e-04 - mean_squared_error: 3.8209e-04 - val_loss: 3.5731e-04 - val_mean_squared_error: 3.5731e-04\n",
      "Epoch 20/25\n",
      "14450/14450 - 1s - loss: 3.6180e-04 - mean_squared_error: 3.6180e-04 - val_loss: 3.4058e-04 - val_mean_squared_error: 3.4058e-04\n",
      "Epoch 21/25\n",
      "14450/14450 - 1s - loss: 3.4990e-04 - mean_squared_error: 3.4990e-04 - val_loss: 3.2931e-04 - val_mean_squared_error: 3.2931e-04\n",
      "Epoch 22/25\n",
      "14450/14450 - 1s - loss: 3.3819e-04 - mean_squared_error: 3.3819e-04 - val_loss: 3.2943e-04 - val_mean_squared_error: 3.2943e-04\n",
      "Epoch 23/25\n",
      "14450/14450 - 1s - loss: 3.3054e-04 - mean_squared_error: 3.3054e-04 - val_loss: 3.3446e-04 - val_mean_squared_error: 3.3446e-04\n",
      "Epoch 24/25\n",
      "14450/14450 - 1s - loss: 3.2592e-04 - mean_squared_error: 3.2592e-04 - val_loss: 3.0669e-04 - val_mean_squared_error: 3.0669e-04\n",
      "Epoch 25/25\n",
      "14450/14450 - 1s - loss: 3.1918e-04 - mean_squared_error: 3.1918e-04 - val_loss: 3.0241e-04 - val_mean_squared_error: 3.0241e-04\n"
     ]
    },
    {
     "data": {
      "text/html": [
       "<span style=\"color:#4527A0\"><h1 style=\"font-size:18px\">Trial complete</h1></span>"
      ],
      "text/plain": [
       "<IPython.core.display.HTML object>"
      ]
     },
     "metadata": {},
     "output_type": "display_data"
    },
    {
     "data": {
      "text/html": [
       "<span style=\"color:#4527A0\"><h1 style=\"font-size:18px\">Trial summary</h1></span>"
      ],
      "text/plain": [
       "<IPython.core.display.HTML object>"
      ]
     },
     "metadata": {},
     "output_type": "display_data"
    },
    {
     "data": {
      "text/html": [
       "<span style=\"color:cyan\"> |-Trial ID: 886f042f23bc5b11d3bd76a632ebf722</span>"
      ],
      "text/plain": [
       "<IPython.core.display.HTML object>"
      ]
     },
     "metadata": {},
     "output_type": "display_data"
    },
    {
     "data": {
      "text/html": [
       "<span style=\"color:cyan\"> |-Score: 0.00031918290187604725</span>"
      ],
      "text/plain": [
       "<IPython.core.display.HTML object>"
      ]
     },
     "metadata": {},
     "output_type": "display_data"
    },
    {
     "data": {
      "text/html": [
       "<span style=\"color:cyan\"> |-Best step: 0</span>"
      ],
      "text/plain": [
       "<IPython.core.display.HTML object>"
      ]
     },
     "metadata": {},
     "output_type": "display_data"
    },
    {
     "data": {
      "text/html": [
       "<span style=\"color:#7E57C2\"><h2 style=\"font-size:16px\">Hyperparameters:</h2></span>"
      ],
      "text/plain": [
       "<IPython.core.display.HTML object>"
      ]
     },
     "metadata": {},
     "output_type": "display_data"
    },
    {
     "data": {
      "text/html": [
       "<span style=\"color:cyan\"> |-hidden_0_units: 234</span>"
      ],
      "text/plain": [
       "<IPython.core.display.HTML object>"
      ]
     },
     "metadata": {},
     "output_type": "display_data"
    },
    {
     "data": {
      "text/html": [
       "<span style=\"color:blue\"> |-hidden_1_units: 48</span>"
      ],
      "text/plain": [
       "<IPython.core.display.HTML object>"
      ]
     },
     "metadata": {},
     "output_type": "display_data"
    },
    {
     "data": {
      "text/html": [
       "<span style=\"color:cyan\"> |-learning_rate: 0.0001</span>"
      ],
      "text/plain": [
       "<IPython.core.display.HTML object>"
      ]
     },
     "metadata": {},
     "output_type": "display_data"
    },
    {
     "data": {
      "text/html": [
       "<span style=\"color:blue\"> |-n_layers: 1</span>"
      ],
      "text/plain": [
       "<IPython.core.display.HTML object>"
      ]
     },
     "metadata": {},
     "output_type": "display_data"
    },
    {
     "data": {
      "text/html": [
       "<span style=\"color:cyan\"> |-tuner/bracket: 0</span>"
      ],
      "text/plain": [
       "<IPython.core.display.HTML object>"
      ]
     },
     "metadata": {},
     "output_type": "display_data"
    },
    {
     "data": {
      "text/html": [
       "<span style=\"color:blue\"> |-tuner/epochs: 25</span>"
      ],
      "text/plain": [
       "<IPython.core.display.HTML object>"
      ]
     },
     "metadata": {},
     "output_type": "display_data"
    },
    {
     "data": {
      "text/html": [
       "<span style=\"color:cyan\"> |-tuner/initial_epoch: 0</span>"
      ],
      "text/plain": [
       "<IPython.core.display.HTML object>"
      ]
     },
     "metadata": {},
     "output_type": "display_data"
    },
    {
     "data": {
      "text/html": [
       "<span style=\"color:blue\"> |-tuner/round: 0</span>"
      ],
      "text/plain": [
       "<IPython.core.display.HTML object>"
      ]
     },
     "metadata": {},
     "output_type": "display_data"
    },
    {
     "name": "stdout",
     "output_type": "stream",
     "text": [
      "INFO:tensorflow:Oracle triggered exit\n",
      "360.26893305778503\n"
     ]
    }
   ],
   "source": [
    "### SEARCHING FOR THE ANN LAYOUT THAT ACCOMPLISHES THE HYPERPARAMTER GOALS ###\n",
    "\n",
    "start_time = time.time()\n",
    "# tuner.search(X_scale, Y_scale, epochs=50, validation_split=0.15, callbacks=[stop_early], verbose=2)\n",
    "tuner.search(X_scale, Y_scale, validation_split=0.15, callbacks=[stop_early], verbose=2)\n",
    "searching_time = time.time() - start_time\n",
    "print(searching_time)"
   ]
  },
  {
   "cell_type": "code",
   "execution_count": 7,
   "metadata": {},
   "outputs": [
    {
     "name": "stdout",
     "output_type": "stream",
     "text": [
      "\n",
      "The hyperparameter search is complete. The optimal number of hidden layers are 2 and the optimal learning rate for the optimizer\n",
      "is 0.0001.\n",
      "\n",
      "Best epoch: 40\n",
      "Train on 14450 samples, validate on 2550 samples\n",
      "Epoch 1/40\n",
      "14450/14450 - 2s - loss: 0.1619 - mean_squared_error: 0.1619 - val_loss: 0.1257 - val_mean_squared_error: 0.1257\n",
      "Epoch 2/40\n",
      "14450/14450 - 1s - loss: 0.0957 - mean_squared_error: 0.0957 - val_loss: 0.0722 - val_mean_squared_error: 0.0722\n",
      "Epoch 3/40\n",
      "14450/14450 - 1s - loss: 0.0573 - mean_squared_error: 0.0573 - val_loss: 0.0438 - val_mean_squared_error: 0.0438\n",
      "Epoch 4/40\n",
      "14450/14450 - 1s - loss: 0.0337 - mean_squared_error: 0.0337 - val_loss: 0.0246 - val_mean_squared_error: 0.0246\n",
      "Epoch 5/40\n",
      "14450/14450 - 1s - loss: 0.0183 - mean_squared_error: 0.0183 - val_loss: 0.0130 - val_mean_squared_error: 0.0130\n",
      "Epoch 6/40\n",
      "14450/14450 - 1s - loss: 0.0095 - mean_squared_error: 0.0095 - val_loss: 0.0068 - val_mean_squared_error: 0.0068\n",
      "Epoch 7/40\n",
      "14450/14450 - 1s - loss: 0.0050 - mean_squared_error: 0.0050 - val_loss: 0.0036 - val_mean_squared_error: 0.0036\n",
      "Epoch 8/40\n",
      "14450/14450 - 1s - loss: 0.0028 - mean_squared_error: 0.0028 - val_loss: 0.0021 - val_mean_squared_error: 0.0021\n",
      "Epoch 9/40\n",
      "14450/14450 - 1s - loss: 0.0016 - mean_squared_error: 0.0016 - val_loss: 0.0012 - val_mean_squared_error: 0.0012\n",
      "Epoch 10/40\n",
      "14450/14450 - 1s - loss: 0.0010 - mean_squared_error: 0.0010 - val_loss: 8.1680e-04 - val_mean_squared_error: 8.1680e-04\n",
      "Epoch 11/40\n",
      "14450/14450 - 1s - loss: 7.1716e-04 - mean_squared_error: 7.1716e-04 - val_loss: 6.1252e-04 - val_mean_squared_error: 6.1252e-04\n",
      "Epoch 12/40\n",
      "14450/14450 - 1s - loss: 5.6378e-04 - mean_squared_error: 5.6378e-04 - val_loss: 4.9586e-04 - val_mean_squared_error: 4.9586e-04\n",
      "Epoch 13/40\n",
      "14450/14450 - 1s - loss: 4.7664e-04 - mean_squared_error: 4.7664e-04 - val_loss: 4.3842e-04 - val_mean_squared_error: 4.3842e-04\n",
      "Epoch 14/40\n",
      "14450/14450 - 1s - loss: 4.2411e-04 - mean_squared_error: 4.2411e-04 - val_loss: 3.9511e-04 - val_mean_squared_error: 3.9511e-04\n",
      "Epoch 15/40\n",
      "14450/14450 - 1s - loss: 3.8758e-04 - mean_squared_error: 3.8758e-04 - val_loss: 3.5886e-04 - val_mean_squared_error: 3.5886e-04\n",
      "Epoch 16/40\n",
      "14450/14450 - 1s - loss: 3.6543e-04 - mean_squared_error: 3.6543e-04 - val_loss: 3.3876e-04 - val_mean_squared_error: 3.3876e-04\n",
      "Epoch 17/40\n",
      "14450/14450 - 1s - loss: 3.4961e-04 - mean_squared_error: 3.4961e-04 - val_loss: 3.2704e-04 - val_mean_squared_error: 3.2704e-04\n",
      "Epoch 18/40\n",
      "14450/14450 - 1s - loss: 3.3882e-04 - mean_squared_error: 3.3882e-04 - val_loss: 3.1472e-04 - val_mean_squared_error: 3.1472e-04\n",
      "Epoch 19/40\n",
      "14450/14450 - 1s - loss: 3.2850e-04 - mean_squared_error: 3.2850e-04 - val_loss: 3.0578e-04 - val_mean_squared_error: 3.0578e-04\n",
      "Epoch 20/40\n",
      "14450/14450 - 1s - loss: 3.2100e-04 - mean_squared_error: 3.2100e-04 - val_loss: 3.1083e-04 - val_mean_squared_error: 3.1083e-04\n",
      "Epoch 21/40\n",
      "14450/14450 - 1s - loss: 3.1978e-04 - mean_squared_error: 3.1978e-04 - val_loss: 3.0382e-04 - val_mean_squared_error: 3.0382e-04\n",
      "Epoch 22/40\n",
      "14450/14450 - 1s - loss: 3.1136e-04 - mean_squared_error: 3.1136e-04 - val_loss: 2.9418e-04 - val_mean_squared_error: 2.9418e-04\n",
      "Epoch 23/40\n",
      "14450/14450 - 1s - loss: 3.1350e-04 - mean_squared_error: 3.1350e-04 - val_loss: 3.2550e-04 - val_mean_squared_error: 3.2550e-04\n",
      "Epoch 24/40\n",
      "14450/14450 - 1s - loss: 3.1064e-04 - mean_squared_error: 3.1064e-04 - val_loss: 2.9023e-04 - val_mean_squared_error: 2.9023e-04\n",
      "Epoch 25/40\n",
      "14450/14450 - 2s - loss: 3.0867e-04 - mean_squared_error: 3.0867e-04 - val_loss: 2.9525e-04 - val_mean_squared_error: 2.9525e-04\n",
      "Epoch 26/40\n",
      "14450/14450 - 1s - loss: 3.0516e-04 - mean_squared_error: 3.0516e-04 - val_loss: 2.9193e-04 - val_mean_squared_error: 2.9193e-04\n",
      "Epoch 27/40\n",
      "14450/14450 - 1s - loss: 3.0692e-04 - mean_squared_error: 3.0692e-04 - val_loss: 2.8835e-04 - val_mean_squared_error: 2.8835e-04\n",
      "Epoch 28/40\n",
      "14450/14450 - 1s - loss: 3.0633e-04 - mean_squared_error: 3.0633e-04 - val_loss: 2.9350e-04 - val_mean_squared_error: 2.9350e-04\n",
      "Epoch 29/40\n",
      "14450/14450 - 1s - loss: 3.0172e-04 - mean_squared_error: 3.0172e-04 - val_loss: 2.8991e-04 - val_mean_squared_error: 2.8991e-04\n",
      "Epoch 30/40\n",
      "14450/14450 - 1s - loss: 3.0025e-04 - mean_squared_error: 3.0025e-04 - val_loss: 2.8628e-04 - val_mean_squared_error: 2.8628e-04\n",
      "Epoch 31/40\n",
      "14450/14450 - 1s - loss: 3.0059e-04 - mean_squared_error: 3.0059e-04 - val_loss: 2.7909e-04 - val_mean_squared_error: 2.7909e-04\n",
      "Epoch 32/40\n",
      "14450/14450 - 1s - loss: 3.0175e-04 - mean_squared_error: 3.0175e-04 - val_loss: 2.8263e-04 - val_mean_squared_error: 2.8263e-04\n",
      "Epoch 33/40\n",
      "14450/14450 - 1s - loss: 2.9738e-04 - mean_squared_error: 2.9738e-04 - val_loss: 2.8346e-04 - val_mean_squared_error: 2.8346e-04\n",
      "Epoch 34/40\n",
      "14450/14450 - 1s - loss: 3.0280e-04 - mean_squared_error: 3.0280e-04 - val_loss: 2.8033e-04 - val_mean_squared_error: 2.8033e-04\n",
      "Epoch 35/40\n",
      "14450/14450 - 1s - loss: 3.0088e-04 - mean_squared_error: 3.0088e-04 - val_loss: 2.7902e-04 - val_mean_squared_error: 2.7902e-04\n",
      "Epoch 36/40\n",
      "14450/14450 - 1s - loss: 2.9971e-04 - mean_squared_error: 2.9971e-04 - val_loss: 2.8084e-04 - val_mean_squared_error: 2.8084e-04\n",
      "Epoch 37/40\n",
      "14450/14450 - 1s - loss: 2.9608e-04 - mean_squared_error: 2.9608e-04 - val_loss: 2.9243e-04 - val_mean_squared_error: 2.9243e-04\n",
      "Epoch 38/40\n",
      "14450/14450 - 1s - loss: 2.9990e-04 - mean_squared_error: 2.9990e-04 - val_loss: 3.0616e-04 - val_mean_squared_error: 3.0616e-04\n",
      "Epoch 39/40\n",
      "14450/14450 - 1s - loss: 2.9856e-04 - mean_squared_error: 2.9856e-04 - val_loss: 2.8290e-04 - val_mean_squared_error: 2.8290e-04\n",
      "Epoch 40/40\n",
      "14450/14450 - 1s - loss: 2.9586e-04 - mean_squared_error: 2.9586e-04 - val_loss: 2.7999e-04 - val_mean_squared_error: 2.7999e-04\n"
     ]
    }
   ],
   "source": [
    "# Build the model with the optimal hyperparameters and train it on the data for 25 epochs\n",
    "best_hps=tuner.get_best_hyperparameters(num_trials=1)[0]\n",
    "print(f\"\"\"\n",
    "The hyperparameter search is complete. The optimal number of hidden layers are {best_hps.get('n_layers')} and the optimal learning rate for the optimizer\n",
    "is {best_hps.get('learning_rate')}.\n",
    "\"\"\")\n",
    "model = tuner.hypermodel.build(best_hps)\n",
    "history = model.fit(X_scale, Y_scale, epochs=40, shuffle=True, validation_split=0.25, verbose=0)\n",
    "\n",
    "mean_squared_error_per_epoch = history.history['mean_squared_error']\n",
    "best_epoch = mean_squared_error_per_epoch.index(min(mean_squared_error_per_epoch)) + 1\n",
    "print('Best epoch: %d' % (best_epoch,))\n",
    "hypermodel = tuner.hypermodel.build(best_hps)\n",
    "\n",
    "# Retrain the model\n",
    "hypermodel_hist = hypermodel.fit(X_scale, Y_scale, epochs=best_epoch, shuffle=True, validation_split=0.15, verbose=2)"
   ]
  },
  {
   "cell_type": "code",
   "execution_count": 8,
   "metadata": {},
   "outputs": [
    {
     "name": "stdout",
     "output_type": "stream",
     "text": [
      "3000/1 [================================================================================================================================================================================================================================================================================================================================================================================================================================================================================================================================================================================================================================================================================================================================================================================================================================================================================================================================================================================================================================================================================================================================================================================================================================================================================================================================================================================================================================================================================================================================================================================================================================================================================================================================================================================================================================================================================================================================================================================================================================================================================================================================================================================================================================================================================================================================================================================================================================================================================================================================================================================================================================================================================================================================================================================================================================================================================================================================================================================================================================================================================================================================================================================================================================================================================================================================================================================================================================================================================================================================================================================================================================================================================================================================================================================================================================================================================================================================================================================================================================================================================================================================================================================================================================================================================================================================================================================================================================================================================================================================================================================================================================================================================================================================================================================================================================================================================================================================================================================================================================================================================================================================================================================================================================================================================================================================================================================================================================================================================================================================================================================================================================================================================================================================================================================================================================================================================================================================================================================================================================================================================================================================================================================================================================================================================================================================================================================================================================================================================================================================================================================================================================================================================================================================================================================================================================================================================================================================================================================================================================================================================================================================================================================================================================================================================================================================================================================================================================================================================================================================================================================================================================================================================================================================================================================================================================================================================================================================================================================================================================================================================================================================================================================================================================================================================================================================================================================================================================================================================================================================================================================================================================================================================================================================================================================================================================================================================================================================================================================================================================================================================================================================================================================================================================================================================================================================================================================================================================================================================================================================================================================================================================================================================================================================================================================================================================================================================================================================================================================================================================================================================================================================================================================================================================================================================================================================================================================================================================================================================================================================================================================================================================================================================================================================================================================================================================================================================================================================================================================================================================================================================================================================================================================================================================================================================================================================================================================================================================================================================================================================================================================================================================================================================================================================================================================================================================================================================================================================================================================================================================================================================================================================================================================================================================================================================================================================================================================================================================================================================================================================================================================================================================================================================================================================================================================================================================================================================================================================================================================================================================================================================================================================================================================================================================================================================================================================================================================================================================================================================================================================================================================================================================================================================================================================================================================================================================================================================================================================================================================================================================================================================================================================================================================================================================================================================================================================================================================================================================================================================================================================================================================================================================================================================================================================================================================================================================================================================================================================================================================================================================================================================================================================================================================================================================================================================================================================================================================================================================================================================================================================================================================================================================================================================================================================================================================================================================================================================================================================================================================================================================================================================================================================================================================================================================================================================================================================================================================================================================================================================================================================================================================================================================================================================================================================================================================================================================================================================================================================================================================================================================================================================================================================================================================================================================================================================================================================================================================================================================================================================================================================================================================================================================================================================================================================================================================================================================================================================================================================================================================================================================================================================================================================================================================================================================================================================================================================================================================================================================================================================================================================================================================================================================================================================================================================================================================================================================================================================================================================================================================================================================================================================================================================================================================================================================================================================================================================================================================================================================================================================================================================================================================================================================================================================================================================================================================================================================================================================================================================================================================================================================================================================================================================================================================================================================================================================================================================================================================================================================================================================================================================================================================================================================================================================================================================================================================================================================================================================================================================================================================================================================================================================================================================================================================================================================================================================================================================================================================================================================================================================================================================================================================================================================================================================================================================================================================================================================================================================================================================================================================================================================================================================================================================================================================================================================================================================================================================================================================================================================================================================================================================================================================================================================================================================================================================================================================================================================================================================================================================================================================================================================================================================================================================================================================================================================================================================================================================================================================================================================================================================================================================================================================================================================================================================================================================================================================================================================================================================================================================================================================================================================================================================================================================================================================================================================================================================================================================================================================================================================================================================================================================================================================================================================================================================================================================================================================================================================================================================================================================================================================================================================================================================================================================================================================================================================================================================================================================================================================================================================================================================================================================================================================================================================================================================================================================================================================================================================================================================================================================================================================================================================================================================================================================================================================================================================================================================================================================================================================================================================================================================================================================================================================================================================================================================================================================================================================================================================================================================================================================================================================================================================================================================================================================================================================================================================================================================================================================================================================================================================================================================================================================================================================================================================================================================================================================================================================================================================================================================================================================================================================================================================================================================================================================================================================================================================================================================================================================================================================================================================================================================================================================================================================================================================================================================================================================================================================================================================================================================================================================================================================================================================================================================================================================================================================================================================================================================================================================================================================================================================================================================================================================================================================================================================================================================================================================================================================================================================================================================================================================================================================================================================================================================================================================================================================================================================================================================================================================================================================================================================================================================================================================================================================================================================================================================================================================================================================================================================================================================================================================================================================================================================================================================================================================================================================================================================================================================================================================================================================================================================================================================================================================================================================================================================================================================================================================================================================================================================================================================================================================================================================================================================================================================================================================================================================================================================================================================================================================================================================================================================================================================================================================================================================================================================================================================================================================================================================================================================================================================================================================================================================================================================================================================================================================================================================================================================================================================================================================================================================================================================================================================================================================================================================================================================================================================================================================================================================================================================================================================================================================================================================================================================================================================================================================================================================================================================================================================================================================================================================================================================================================================================================================================================================================================================================================================================================================================================================================================================================================================================================================================================================================================================================================================================================================================================================================================================================================================================================================================================================================================================================================================================================================================================================================================================================================================================================================================================================================================================================================================================================================================================================================================================================================================================================================================================================================================================================================================================================================================================================================================================================================================================================================================================================================================================================================================================================================================================================================================================================================================================================================================================================================================================================================================================================================================================================================================================================================================================================================================================================================================================================================================================================================================================================================================================================================================================================================================================================================================================================================================================================================================================================================================================================================================================================================================================================================================================================================================================================================================================================================================================================================================================================================================================================================================================================================================================================================================================================================================================================================================================================================================================================================================================================================================================================================================================================================================================================================================================================================================================================================================================================================================================================================================================================================================================================================================================================================================================================================================================================================================================================================================================================================================================================================================================================================================================================================================================================================================================================================================================================================================================================================================================================================================================================================================================================================================================================================================================================================================================================================================================================================================================================================================================================================================================================================================================================================================================================================================================================================================================================================================================================================================================================================================================================================================================================================================================================================================================================================================================================================================================================================================================================================================================================================================================================================================================================================================================================================================================================================================================================================================================================================================================================================================================================================================================================================================================================================================================================================================================================================================================================================================================================================================================================================================================================================================================================================================================================================================================================================================================================================================================================================================================================================================================================================================================================================================================================================================================================================================================================================================================================================================================================================================================================================================================================================================================================================================================================================================================================================================================================================================================================================================================================================================================================================================================================================================================================================================================================================================================================================================================================================================================================================================================================================================================================================================================================================================================================================================================================================================================================================================================================================================================================================================================================================================================================================================================================================================================================================================================================================================================================================================================================================================================================================================================================================================================================================================================================================================================================================================================================================================================================================================================================================================================================================================================================================================================================================================================================================================================================================================================================================================================================================================================================================================================================================================================================================================================================================================================================================================================================================================================================================================================================================================================================================================================================================================================================================================================================================================================================================================================================================================================================================================================================================================================================================================================================================================================================================================================================================================================================================================================================================================================================================================================================================================================================================================================================================================================================================================================================================================================================================================================================================================================================================================================================================================================================================================================================================================================================================================================================================================================================================================================================================================================================================================================================================================================================================================================================================================================================================================================================================================================================================================================================================================================================================================================================================================================================================================================================================================================================================================================================================================================================================================================================================================================================================================================================================================================================================================================================================================================================================================================================================================================================================================================================================================================================================================================================================================================================================================================================================================================================================================================================================================================================================================================================================================================================================================================================================================================================================================================================================================================================================================================================================================================================================================================================================================================================================================================================================================================================================================================================================================================================================================================================================================================================================================================================================================================================================================================================================================================================================================================================================================================================================================================================================================================================================================================================================================================================================================================================================================================================================================================================================================================================================================================================================================================================================================================================================================================================================================================================================================================================================================================================================================================================================================================================================================================================================================================================================================================================================================================================================================================================================================================================================================================================================================================================================================================================================================================================================================================================================================================================================================================================================================================================================================================================================================================================================================================================================================================================================================================================================================================================================================================================================================================================================================================================================================================================================================================================================================================================================================================================================================================================================================================================================================================================================================================================================================================================================================================================================================================================================================================================================================================================================================================================================================================================================================================================================================================================================================================================================================================================================================================================================================================================================================================================================================================================================================================================================================================================================================================================================================================================================================================================================================================================================================================================================================================================================================================================================================================================================================================================================================================================================================================================================================================================================================================================================================================================================================================================================================================================================================================================================================================================================================================================================================================================================================================================================================================================================================================================================================================================================================================================================================================================================================================================================================================================================================================================================================================================================================================================================================================================================================================================================================================================================================================================================================================================================================================================================================================================================================================================================================================================================================================================================================================================================================================================================================================================================================================================================================================================================================================================================================================================================================================================================================================================================================================================================================================================================================================================================================================================================================================================================================================================================================================================================================================================================================================================================================================================================================================================================================================================================================================================================================================================================================================================================================================================================================================================================================================================================================================================================================================================================================================================================================================================================================================================================================================================================================================================================================================================================================================================================================================================================================================================================================================================================================================================================================================================================================================================================================================================================================================================================================================================================================================================================================================================================================================================================================================================================================================================================================================================================================================================================================================================================================================================================================================================================================================================================================================================================================================================================================================================================================================================================================================================================================================================================================================================================================================================================================================================================================================================================================================================================================================================================================================================================================================================================================================================================================================================================================================================================================================================================================================================================================================================================================================================================================================================================================================================================================================================================================================================================================================================================================================================================================================================================================================================================================================================================================================================================================================================================================================================================================================================================================================================================================================================================================================================================================================================================================================================================================================================================================================================================================================================================================================================================================================================================================================================================================================================================================================================================================================================================================================================================================================================================================================================================================================================================================================================================================================================================================================================================================================================================================================================================================================================================================================================================================================================================================================================================================================================================================================================================================================================================================================================================================================================================================================================================================================================================================================================================================================================================================================================================================================================================================================================================================================================================================================================================================================================================================================================================================================================================================================================================================================================================================================================================================================================================================================================================================================================================================================================================================================================================================================================================================================================================================================================================================================================================================================================================================================================================================================================================================================================================================================================================================================================================================================================================================================================================================================================================================================================================================================================================================================================================================================================================================================================================================================================================================================================================================================================================================================================================================================================================================================================================================================================================================================================================================================================================================================================================================================================================================================================================================================================================================================================================================================================================================================================================================================================================================================================================================================================================================================================================================================================================================================================================================================================================================================================================================================================================================================================================================================================================================================================================================================================================================================================================================================================================================================================================================================================================================================================================================================================================================================================================================================================================================================================================================================================================================================================================================================================================================================================================================================================================================================================================================================================================================================================================================================================================================================================================================================================================================================================================================================================================================================================================================================================================================================================================================================================================================================================================================================================================================================================================================================================================================================================================================================================================================================================================================================================================================================================================================================================================================================================================================================================================================================================================================================================================================================================================================================================================================================================================================================================================================================================================================================================================================================================================================================================================================================================================================================================================================================================================================================================================================================================================================================================================================================================================================================================================================================================================================================================================================================================================================================================================================================================================================================================================================================================================================================================================================================================================================================================================================================================================================================================================================================================================================================================================================================================================================================================================================================================================================================================================================================================================================================================================================================================================================================================================================================================================================================================================================================================================================================================================================================================================================================================================================================================================================================================================================================================================================================================================================================================================================================================================================================================================================================================================================================================================================================================================================================================================================================================================================================================================================================================================================================================================================================================================================================================================================================================================================================================================================================================================================================================================================================================================================================================================================================================================================================================================================================================================================================================================================================================================================================================================================================================================================================================================================================================================================================================================================================================================================================================================================================================================================================================================================================================================================================================================================================================================================================================================================================================================================================================================================================================================================================================================================================================================================================================================================================================================================================================================================================================================================================================================================================================================================================================================================================================================================================================================================================================================================================================================================================================================================================================================================================================================================================================================================================================================================================================================================================================================================================================================================================================================================================================================================================================================================================================================================================================================================================================================================================================================================================================================================================================================================================================================================================================================================================================================================================================================================================================================================================================================================================================================================================================================================================================================================================================================================================================================================================================================================================================================================================================================================================================================================================================================================================================================================================================================================================================================================================================================================================================================================================================================================================================================================================================================================================================================================================================================================================================================================================================================================================================================================================================================================================================================================================================================================================================================================================================================================================================================================================================================================================================================================================================================================================================================================================================================================================================================================================================================================================================================================================================================================================================================================================================================================================================================================================================================================================================================================================================================================================================================================================================================================================================================================================================================================================================================================================================================================================================================================================================================================================================================================================================================================================================================================================================================================================================================================================================================================================================================================================================================================================================================================================================================================================================================================================================================================================================================================================================================================================================================================================================================================================================================================================================================================================================================================================================================================================================================================================================================================================================================================================================================================================================================================================================================================================================================================================================================================================================================================================================================================================================================================================================================================================================================================================================================================================================================================================================================================================================================================================================================================================================================================================================================================================================================================================================================================================================================================================================================================================================================================================================================================================================================================================================================================================================================================================================================================================================================================================================================================================================================================================================================================================================================================================================================================================================================================================================================================================================================================================================================================================================================================================================================================================================================================================================================================================================================================================================================================================================================================================================================================================================================================================================================================================================================================================================================================================================================================================================================================================================================================================================================================================================================================================================================================================================================================================================================================================================================================================================================================================================================================================================================================================================================================================================================================================================================================================================================================================================================================================================================================================================================================================================================================================================================================================================================================================================================================================================================================================================================================================================================================================================================================]"
     ]
    },
    {
     "name": "stdout",
     "output_type": "stream",
     "text": [
      " - 0s 43us/sample - loss: 4.2000e-04 - mean_squared_error: 2.7903e-04\n",
      "0.0002790345\n"
     ]
    }
   ],
   "source": [
    "# file_path = '/Users/jackkelly/Desktop/Building_Model/Data/40_channels_data_10000.csv'\n",
    "# X_test, Y_test = processing_data(N_channels, file_path)\n",
    "eval_result = hypermodel.evaluate(X_test, Y_test)[1]\n",
    "print(eval_result)"
   ]
  },
  {
   "cell_type": "code",
   "execution_count": 9,
   "metadata": {},
   "outputs": [
    {
     "data": {
      "image/png": "[encoded data removed]",
      "text/plain": [
       "<Figure size 432x288 with 1 Axes>"
      ]
     },
     "metadata": {
      "needs_background": "light"
     },
     "output_type": "display_data"
    }
   ],
   "source": [
    "def visualising_data(hist, name):\n",
    "    plt.title('Tuned ANN')\n",
    "    plt.plot(hist.history['mean_squared_error'], label='Train')\n",
    "    plt.plot(hist.history['val_mean_squared_error'], label='Validation')\n",
    "    plt.ylabel('MSE')\n",
    "    plt.xlabel('Epoch')\n",
    "    plt.legend()\n",
    "    plt.savefig(name)\n",
    "    plt.show()\n",
    "visualising_data(hypermodel_hist, '/Users/jackkelly/Desktop/Building_Model/Figures/hypermodel_results.png')"
   ]
  },
  {
   "cell_type": "code",
   "execution_count": 10,
   "metadata": {},
   "outputs": [
    {
     "name": "stdout",
     "output_type": "stream",
     "text": [
      "Model: \"sequential\"\n",
      "_________________________________________________________________\n",
      "Layer (type)                 Output Shape              Param #   \n",
      "=================================================================\n",
      "dense (Dense)                (None, 114)               4788      \n",
      "_________________________________________________________________\n",
      "dense_1 (Dense)              (None, 86)                9890      \n",
      "_________________________________________________________________\n",
      "dense_2 (Dense)              (None, 40)                3480      \n",
      "=================================================================\n",
      "Total params: 18,158\n",
      "Trainable params: 18,158\n",
      "Non-trainable params: 0\n",
      "_________________________________________________________________\n"
     ]
    }
   ],
   "source": [
    "# shows weights of the ANN\n",
    "# hypermodel.weights\n",
    "hypermodel.summary()\n",
    "# print(hypermodel.metrics_names)"
   ]
  },
  {
   "cell_type": "code",
   "execution_count": 11,
   "metadata": {},
   "outputs": [],
   "source": [
    "# INSERT SOMETHING THAT CALCUALTES ALL MEAN SQUARED ERRORS AND PLOTS ON CDF GRAPH"
   ]
  },
  {
   "cell_type": "code",
   "execution_count": 12,
   "metadata": {},
   "outputs": [],
   "source": [
    "# best_hps.__dict__.keys()\n",
    "# best_hps.__dict__['values']\n",
    "hypermodel.save('/Users/jackkelly/Desktop/Building_Model/Tuned_' + str(N_channels) + '_channels_ANN_model_v2.h5')"
   ]
  },
  {
   "cell_type": "markdown",
   "metadata": {},
   "source": [
    "# Transfer Learning"
   ]
  },
  {
   "cell_type": "code",
   "execution_count": 25,
   "metadata": {},
   "outputs": [],
   "source": [
    "def transfer_learning(model_path):\n",
    "    hypermodel = keras.models.load_model(model_path)\n",
    "    hypermodel.summary()\n",
    "    model = tf.keras.Sequential()\n",
    "    for layer in hypermodel.layers[:-1]: # go through until last layer\n",
    "        layer.trainable=False\n",
    "        model.add(layer)\n",
    "    model.add(keras.layers.Dense(40, activation='sigmoid'))\n",
    "    model.summary()\n",
    "\n",
    "    model.compile(optimizer='adam', loss=keras.losses.MeanSquaredError(), metrics=['mean_squared_error'])\n",
    "    return model"
   ]
  },
  {
   "cell_type": "code",
   "execution_count": 26,
   "metadata": {},
   "outputs": [
    {
     "name": "stdout",
     "output_type": "stream",
     "text": [
      "Model: \"sequential\"\n",
      "_________________________________________________________________\n",
      "Layer (type)                 Output Shape              Param #   \n",
      "=================================================================\n",
      "dense (Dense)                (None, 114)               4788      \n",
      "_________________________________________________________________\n",
      "dense_1 (Dense)              (None, 86)                9890      \n",
      "_________________________________________________________________\n",
      "dense_2 (Dense)              (None, 40)                3480      \n",
      "=================================================================\n",
      "Total params: 18,158\n",
      "Trainable params: 18,158\n",
      "Non-trainable params: 0\n",
      "_________________________________________________________________\n",
      "Model: \"sequential_2\"\n",
      "_________________________________________________________________\n",
      "Layer (type)                 Output Shape              Param #   \n",
      "=================================================================\n",
      "dense (Dense)                (None, 114)               4788      \n",
      "_________________________________________________________________\n",
      "dense_1 (Dense)              (None, 86)                9890      \n",
      "_________________________________________________________________\n",
      "dense_4 (Dense)              (None, 40)                3480      \n",
      "=================================================================\n",
      "Total params: 18,158\n",
      "Trainable params: 18,158\n",
      "Non-trainable params: 0\n",
      "_________________________________________________________________\n"
     ]
    }
   ],
   "source": [
    "model = transfer_learning('Tuned_' + str(N_channels) + '_channels_ANN_model_v2.h5')\n",
    "N_channels = 40\n",
    "file_path = '/Users/jackkelly/Desktop/Building_Model/Data/40_channels_data_variedlengths_10000.csv'\n",
    "X_scale, Y_scale = processing_data(N_channels, file_path)\n",
    "X_train, X_val_and_test, Y_train, Y_val_and_test = train_test_split(X_scale, Y_scale, test_size=0.3)\n",
    "X_val, X_test, Y_val, Y_test = train_test_split(X_val_and_test, Y_val_and_test, test_size=0.5)"
   ]
  },
  {
   "cell_type": "code",
   "execution_count": 27,
   "metadata": {},
   "outputs": [
    {
     "name": "stdout",
     "output_type": "stream",
     "text": [
      "25.271531105041504\n",
      "[0.00016004387351373832, 0.00016004387]\n",
      "[0.0006284171515144408, 0.00062841707]\n"
     ]
    }
   ],
   "source": [
    "start_time = time.time()\n",
    "# new_hist = model.fit(X_train, Y_train, validation_data=(X_val, Y_val), epochs=40, shuffle=True, verbose=1, batch_size=N_channels+1)\n",
    "new_hist = model.fit(X_train, Y_train, validation_data=(X_val, Y_val), epochs=40, shuffle=True, verbose=0)\n",
    "training_time = time.time() - start_time\n",
    "print(training_time)\n",
    "# evaluating transfer-learned model\n",
    "eval_result = model.evaluate(X_test, Y_test, verbose=0)\n",
    "# evaluating OLD model with new data\n",
    "hypermodel_result = hypermodel.evaluate(X_test, Y_test, verbose=0)\n",
    "print(eval_result)\n",
    "print(hypermodel_result)"
   ]
  },
  {
   "cell_type": "code",
   "execution_count": 28,
   "metadata": {},
   "outputs": [
    {
     "name": "stdout",
     "output_type": "stream",
     "text": [
      "20.54501700401306\n",
      "[0.00012849174794973806, 0.00012849172]\n",
      "[0.00063512748790284, 0.0006351275]\n"
     ]
    }
   ],
   "source": [
    "N_channels = 40\n",
    "file_path = '/Users/jackkelly/Desktop/Building_Model/Data/40_channels_data_variedlengths_EDFAs_10000.csv'\n",
    "X_scale, Y_scale = processing_data(N_channels, file_path)\n",
    "X_train, X_val_and_test, Y_train, Y_val_and_test = train_test_split(X_scale, Y_scale, test_size=0.3)\n",
    "X_val, X_test, Y_val, Y_test = train_test_split(X_val_and_test, Y_val_and_test, test_size=0.5)\n",
    "start_time = time.time()\n",
    "new_hist = model.fit(X_train, Y_train, validation_data=(X_val, Y_val), epochs=40, shuffle=True, verbose=0, batch_size=N_channels+1)\n",
    "training_time = time.time() - start_time\n",
    "print(training_time)\n",
    "# evaluating transfer-learned model\n",
    "value_new = model.evaluate(X_test, Y_test, verbose=0)\n",
    "# evaluating new model\n",
    "value_old = hypermodel.evaluate(X_test, Y_test, verbose=0)\n",
    "print(value_new)\n",
    "print(value_old)"
   ]
  },
  {
   "cell_type": "code",
   "execution_count": 29,
   "metadata": {},
   "outputs": [
    {
     "data": {
      "text/plain": [
       "{'_space': {'n_layers': Int(name: \"n_layers\", min_value: 1, max_value: 2, step: 1, sampling: None, default: 1),\n",
       "  'hidden_0_units': Int(name: \"hidden_0_units\", min_value: 10, max_value: 320, step: 1, sampling: None, default: 10),\n",
       "  'learning_rate': Choice(name: \"learning_rate\", values: [0.01, 0.001, 0.0001], ordered: True, default: 0.01),\n",
       "  'hidden_1_units': Int(name: \"hidden_1_units\", min_value: 10, max_value: 320, step: 1, sampling: None, default: 10)},\n",
       " 'values': {'n_layers': 2,\n",
       "  'hidden_0_units': 114,\n",
       "  'learning_rate': 0.0001,\n",
       "  'hidden_1_units': 86,\n",
       "  'tuner/epochs': 25,\n",
       "  'tuner/initial_epoch': 0,\n",
       "  'tuner/bracket': 0,\n",
       "  'tuner/round': 0},\n",
       " '_scopes': []}"
      ]
     },
     "execution_count": 29,
     "metadata": {},
     "output_type": "execute_result"
    }
   ],
   "source": [
    "best_hps.__dict__"
   ]
  },
  {
   "cell_type": "code",
   "execution_count": 30,
   "metadata": {},
   "outputs": [
    {
     "data": {
      "image/png": "[encoded data removed]",
      "text/plain": [
       "<Figure size 432x288 with 1 Axes>"
      ]
     },
     "metadata": {
      "needs_background": "light"
     },
     "output_type": "display_data"
    }
   ],
   "source": [
    "visualising_data(new_hist, '/Users/jackkelly/Desktop/Building_Model/Figures/tuned_new_network.png')"
   ]
  },
  {
   "cell_type": "code",
   "execution_count": 31,
   "metadata": {},
   "outputs": [],
   "source": [
    "N_channels = 40\n",
    "file_path = '/Users/jackkelly/Desktop/Building_Model/Data/40_channels_data_blocks_20000.csv'\n",
    "X_scale, Y_scale = processing_data(N_channels, file_path)\n",
    "X_scale, X_test, Y_scale, Y_test = train_test_split(X_scale, Y_scale, test_size=0.15)"
   ]
  },
  {
   "cell_type": "code",
   "execution_count": 32,
   "metadata": {},
   "outputs": [
    {
     "name": "stdout",
     "output_type": "stream",
     "text": [
      "17000/1 [================================================================================================================================================================================================================================================================================================================================================================================================================================================================================================================================================================================================================================================================================================================================================================================================================================================================================================================================================================================================================================================================================================================================================================================================================================================================================================================================================================================================================================================================================================================================================================================================================================================================================================================================================================================================================================================================================================================================================================================================================================================================================================================================================================================================================================================================================================================================================================================================================================================================================================================================================================================================================================================================================================================================================================================================================================================================================================================================================================================================================================================================================================================================================================================================================================================================================================================================================================================================================================================================================================================================================================================================================================================================================================================================================================================================================================================================================================================================================================================================================================================================================================================================================================================================================================================================================================================================================================================================================================================================================================================================================================================================================================================================================================================================================================================================================================================================================================================================================================================================================================================================================================================================================================================================================================================================================================================================================================================================================================================================================================================================================================================================================================================================================================================================================================================================================================================================================================================================================================================================================================================================================================================================================================================================================================================================================================================================================================================================================================================================================================================================================================================================================================================================================================================================================================================================================================================================================================================================================================================================================================================================================================================================================================================================================================================================================================================================================================================================================================================================================================================================================================================================================================================================================================================================================================================================================================================================================================================================================================================================================================================================================================================================================================================================================================================================================================================================================================================================================================================================================================================================================================================================================================================================================================================================================================================================================================================================================================================================================================================================================================================================================================================================================================================================================================================================================================================================================================================================================================================================================================================================================================================================================================================================================================================================================================================================================================================================================================================================================================================================================================================================================================================================================================================================================================================================================================================================================================================================================================================================================================================================================================================================================================================================================================================================================================================================================================================================================================================================================================================================================================================================================================================================================================================================================================================================================================================================================================================================================================================================================================================================================================================================================================================================================================================================================================================================================================================================================================================================================================================================================================================================================================================================================================================================================================================================================================================================================================================================================================================================================================================================================================================================================================================================================================================================================================================================================================================================================================================================================================================================================================================================================================================================================================================================================================================================================================================================================================================================================================================================================================================================================================================================================================================================================================================================================================================================================================================================================================================================================================================================================================================================================================================================================================================================================================================================================================================================================================================================================================================================================================================================================================================================================================================================================================================================================================================================================================================================================================================================================================================================================================================================================================================================================================================================================================================================================================================================================================================================================================================================================================================================================================================================================================================================================================================================================================================================================================================================================================================================================================================================================================================================================================================================================================================================================================================================================================================================================================================================================================================================================================================================================================================================================================================================================================================================================================================================================================================================================================================================================================================================================================================================================================================================================================================================================================================================================================================================================================================================================================================================================================================================================================================================================================================================================================================================================================================================================================================================================================================================================================================================================================================================================================================================================================================================================================================================================================================================================================================================================================================================================================================================================================================================================================================================================================================================================================================================================================================================================================================================================================================================================================================================================================================================================================================================================================================================================================================================================================================================================================================================================================================================================================================================================================================================================================================================================================================================================================================================================================================================================================================================================================================================================================================================================================================================================================================================================================================================================================================================================================================================================================================================================================================================================================================================================================================================================================================================================================================================================================================================================================================================================================================================================================================================================================================================================================================================================================================================================================================================================================================================================================================================================================================================================================================================================================================================================================================================================================================================================================================================================================================================================================================================================================================================================================================================================================================================================================================================================================================================================================================================================================================================================================================================================================================================================================================================================================================================================================================================================================================================================================================================================================================================================================================================================================================================================================================================================================================================================================================================================================================================================================================================================================================================================================================================================================================================================================================================================================================================================================================================================================================================================================================================================================================================================================================================================================================================================================================================================================================================================================================================================================================================================================================================================================================================================================================================================================================================================================================================================================================================================================================================================================================================================================================================================================================================================================================================================================================================================================================================================================================================================================================================================================================================================================================================================================================================================================================================================================================================================================================================================================================================================================================================================================================================================================================================================================================================================================================================================================================================================================================================================================================================================================================================================================================================================================================================================================================================================================================================================================================================================================================================================================================================================================================================================================================================================================================================================================================================================================================================================================================================================================================================================================================================================================================================================================================================================================================================================================================================================================================================================================================================================================================================================================================================================================================================================================================================================================================================================================================================================================================================================================================================================================================================================================================================================================================================================================================================================================================================================================================================================================================================================================================================================================================================================================================================================================================================================================================================================================================================================================================================================================================================================================================================================================================================================================================================================================================================================================================================================================================================================================================================================================================================================================================================================================================================================================================================================================================================================================================================================================================================================================================================================================================================================================================================================================================================================================================================================================================================================================================================================================================================================================================================================================================================================================================================================================================================================================================================================================================================================================================================================================================================================================================================================================================================================================================================================================================================================================================================================================================================================================================================================================================================================================================================================================================================================================================================================================================================================================================================================================================================================================================================================================================================================================================================================================================================================================================================================================================================================================================================================================================================================================================================================================================================================================================================================================================================================================================================================================================================================================================================================================================================================================================================================================================================================================================================================================================================================================================================================================================================================================================================================================================================================================================================================================================================================================================================================================================================================================================================================================================================================================================================================================================================================================================================================================================================================================================================================================================================================================================================================================================================================================================================================================================================================================================================================================================================================================================================================================================================================================================================================================================================================================================================================================================================================================================================================================================================================================================================================================================================================================================================================================================================================================================================================================================================================================================================================================================================================================================================================================================================================================================================================================================================================================================================================================================================================================================================================================================================================================================================================================================================================================================================================================================================================================================================================================================================================================================================================================================================================================================================================================================================================================================================================================================================================================================================================================================================================================================================================================================================================================================================================================================================================================================================================================================================================================================================================================================================================================================================================================================================================================================================================================================================================================================================================================================================================================================================================================================================================================================================================================================================================================================================================================================================================================================================================================================================================================================================================================================================================================================================================================================================================================================================================================================================================================================================================================================================================================================================================================================================================================================================================================================================================================================================================================================================================================================================================================================================================================================================================================================================================================================================================================================================================================================================================================================================================================================================================================================================================================================================================================================================================================================================================================================================================================================================================================================================================================================================================================================================================================================================================================================================================================================================================================================================================================================================================================================================================================================================================================================================================================================================================================================================================================================================================================================================================================================================================================================================================================================================================================================================================================================================================================================================================================================================================================================================================================================================================================================================================================================================================================================================================================================================================================================================================================================================================================================================================================================================================================================================================================================================================================================================================================================================================================================================================================================================================================================================================================================================================================================================================================================================================================================================================================================================================================================================================================================================================================================================================================================================================================================================================================================================================================================================================================================================================================================================================================================================================================================================================================================================================================================================================================================================================================================================================================================================================================================================================================================================================================================================================================================================================================================================================================================================================================================================================================================================================================================================================================================================================================================================================================================================================================================================================================================================================================================================================================================================================================================================================================================================================================================================================================================================================================================================================================================================================================================================================================================================================================================================================================================================================================================================================================================================================================================================================================================================================================================================================================================================================================================================================================================================================================================================================================================================================================================================================================================================================================================================================================================================================================================================================================================================================================================================================================================================================================================================================================================================================================================================================================================================================================================================================================================================================================================================================================================================================================================================================================================================================================================================================================================================================================================================================================================================================================================================================================================================================================================================================================================================================================================================================================================================================================================================================================================================================================================================================================================================================================================================================================================================================================================================================================================================================================================================================================================================================================================================================================================================================================================================================================================================================================================================================================================================================================================================================================================================================================================================================================================================================================================================================================================================================================================================================================================================================================================================================================================================================================================================================================================================================================================================================================================================================================================================================================================================================================================================================================================================================================================================================================================================================================================================================================================================================================================================================================================================================================================================================================================================================================================================================================================================================================================================================================================================================================================================================================================================================================================================================================================================================================================================================================================================================================================================================================================================================================================================================================================================================================================================================================================================================================================================================================================================================================================================================================================================================================================================================================================================================================================================================================================================================================================================================================================================================================================================================================================================================================================================================================================================================================================================================================================================================================================================================================================================================================================================================================================================================================================================================================================================================================================================================================================================================================================================================================================================================================================================================================================================================================================================================================================================================================================================================================================================================================================================================================================================================================================================================================================================================================================================================================================================================================================================================================================================================================================================================================================================================================================================================================================================================================================================================================================================================================================================================================================================================================================================================================================================================================================================================================================================================================================================================================================================================================================================================================================================================================================================================================================================================================================================================================================================================================================================================================================================================================================================================================================================================================================================================================================================================================================================================================================================================================================================================================================================================================================================================================================================================================================================================================================================================================================================================================================================================================================================================================================================================================================================================================================================================================================================================================================================================================================================================================================================================================================================================================================================================================================================================================================================================================================================================================================================================================================================================================================================================================================================================================================================================================================================================================================================================================================================================================================================================================================================================================================================================================================================================================================================================================================================================================================================================================================================================================================================================================================================================================================================================================================================================================================================================================================================================================================================================================================================================================================================================================================================================================================================================================================================================================================================================================================================================================================================================================================================================================================================================================================================================================================================================================================================================================================================================================================================================================================================================================================================================================================================================================================================================================================================================================================================================================================================================================================================================================================================================================================================================================================================================================================================================================================================================================================================================================================================================================================================================================================================================================================================================================================================================================================================================================================================================================================================================================================================================================================================================================================================================================================================================================================================================================================================================================================================================================================================================================================================================================================================================================================================================================================================================================================================================================================================================================================================================================================================================================================================================================================================================================================================================================================================================================================================================================================================================================================================================================================================================================================================================================================================================================================================================================================================================================================================================================================================================================================================================================================================================================================================================================================================================================================================================================================================================================================================================================================================================================================================================================================================================================================================================================================================================================================================================================================================================================================================================================================================================================================================================================================================================================================================================================================================================================================================================================================================================================================================================================================================================================================================================================================================================================================================================================================================================================================================================================================================================================================================================================================================================================================================================================================================================================================================================================================================================================================================================================================================================================================================================================================================================================================================================================================================================================================================================================================================================================================================================================================================================================================================================================================================================================================================================================================================================================================================================================================================================================================================================================================================================================================================================================================================================================================================================================================================================================================================================================================================================================================================================================================================================================================================================================================================================================================================================================================================================================================================================================================================================================================================================================================================================================================================================================================================================================================================================================================================================================================================================================================================================================================================================================================================================================================================================================================================================================================================================================================================================================================================================================================================================================================================================================================================================================================================================================================================================================================================================================================================================================================================================================================================================================================================================================================================================================================================================================================================================================================================================================================================================================================================================================================================================================================================================================================================================================================================================================================================================================================================================================================================================================================================================================================================================================================================================================================================================================================================================================================================================================================================================================================================================================================================================================================================================================================================================================================================================================================================================================================================================================================================================================================================================================================================================================================================================================================================================================================================================================================================================================================================================================================================================================================================================================================================================================================================================================================================================================================================================================================================================================================================================================================================================================================================================================================================================================================================================================================================================================================================================================================================================================================================================================================================================================================================================================================================================================================================================================================================================================================================================================================================================================================================================================================================================================================================================================================================================================================================================================================================================================================================================================================================================================================================================================================================================================================================================================================================================================================================================================================================================================================================================================================================================================================================================================================================================================================================================================================================================================================================================================================================================================================================================================================================================================================================================================================================================================================================================================================================================================================================================================================================================================================================================================================================================================================================================================================================================================================================================================================================================================================================================================================================================================================================================================================================================================================================================================================================================================================================================================================================================================================================================================================================================================================================================================================================================================================================================================================================================================================================================================================================================================================================================================================================================================================================================================================================================================================================================================================================================================================================================================================================================================================================================================================================================================================================================================================================================================================================================================================================================================================================================================================================================================================================================================================================================================================================================================================================================================================================================================================================================================================================================================================================================================================================================================================================================================================================================================================================================================================================================================================================================================================================================================================================================================================================================================================================================================================================================================================================================================================================================================================================================================================================================================================================================================================================================================================================================================================================================================================================================================================================================================================================================================================================================================================================================================================================================================================================================================================================================================================================================================================================================================================================================================================================================================================================================================================================================================================================================================================================================================================================================================================================================================================================================================================================================================================================================================================================================================================================================================================================================================================================================================================================================================================================================================================================================================================================================================================================================================================================================================================================================================================================================================================================================================================================================================================================================================================================================================================================================================================================================================================================================================================================================================================================================================================================================================================================================================================================================================================================================================================================================================================================================================================================================================================================================================================================================================================================================================================================================================================================================================================================================================================================================================================================================================================================================================================================================================================================================================================================================================================================================================================================================================================================================================================================================================================================================================================================================================================================================================================================================================================================================================================================================================================================================================================================================================================================================================================================================================================================================================================================================================================================================================================================================================================================================================================================================================================================================================================================================================================================================================================================================================================================================================================================================================================================================================================================================================================================================================================================================================================================================================================================================================================================================================================================================================================================================================================================================================================================================================================================================================================================================================================================================================================================================================================================================================================================================================================================================================================================================================================================================================================================================================================================================================================================================================================================================================================================================================================================================================================================================================================================================================================================================================================================================================================================================================================================================================================================================================================================================================================================================================================================================================================================================================================================================================================================================================================================================================================================================================================================================================================================================================================================================================================================================================================================================================================================================================================================================================================================================================================================================================================================================================================================================================================================================================================================================================================================================================================================================================================================================================================================================================================================================================================================================================================================================================================================================================================================================================================================================================================================================================================================================================================================================================================================================================================================================================================================================================================================================================================================================================================================================================================================================================================================================================================================================================================================================================================================================================================================================================================================================================================================================================================================================================================================================================================================================================================================================================================================================================================================================================================================================================================================================================================================================================================================================================================================================================================================================================================================================================================================================================================================================================================================================================================================================================================================================================================================================================================================================================================================================================================================================================================================================================================================================================================================================================================================================================================================================================================================================================================================================================================================================================================================================================================================================================================================================================================================================================================================================================================================================================================================================================================================================================================================================================================================================================================================================================================================================================================================================================================================================================================================================================================================================================================================================================================================================================================================================================================================================================================================================================================================================================================================================================================================================================================================================================================================================================================================================================================================================================================================================================================================================================================================================================================================================================================================================================================================================================================================================================================================================================================================================================================================================================================================================================================================================================================================================================================================================================================================================================================================================================================================================================================================================================================================================================================================================================================================================================================================================================================================================================================================================================================================================================================================================================================================================================================================================================================================================================================================================================================================================================================================================================================================================================================================================================================================================================================================================================================================================================================================================================================================================================================================================================================================================================================================================================================================================================================================================================================================================================================================================================================================================================================================================================================================================================================================================================================================================================================================================================================================================================================================================================================================================================================================================================================================================================================================================================================================================================================================================================================================================================================================================================================================================================================================================================================================================================================================================================================================================================================================================================================================================================================================================================================================================================================================================================================================================================================================================================================================================================================================================================================================================================================================================================================================================================================================================================================================================================================================================================================================================================================================================================================================================================================================================================================================================================================================================================================================================================================================================================================================================================================================================================================================================================================================================================================================================================================================================================================================================================================================================================================================================================================================================================================================================================================================================================================================================================================================================================================================================================================================================================================================================================================================================================================================================================================================================================================================================================================================================================================================================================================================================================================================================================================================================================================================================================================================================================================================================================================================================================================================================================================================================================================================================================================================================================================================================================================================================================================================================================================================================================================================================================================================================================================================================================================================================================================================================================================================================================================================================================================================================================================================================================================================================================================================================================================================================================================================================================================================================================================================================================================================================================================================================================================================================================================================================================================================================================================================================================================================================================================================================================================================================================================================================================================================================================================================================================================================================================================================================================================================================================================================================================================================================================================================================================================================================================================================================================================================================================================================================================================================================================================================================================================================================================================================================================================================================================================================================================================================================================================================================================================================================================================================================================================================================================================================================================================================================================================================================================================================================================================================================================================================================================================================================================================================================================================================================================================================================================================================================================================================================================================================================================================================================================================================================================================================================================================================================================================================================================================================================================================================================================================================================================================================================================================================================================================================================================================================================================================================================================================================================================================================================================================================================================================================================================================================================================================================================================================================================================================================================================================================================================================================================================================================================================================================================================================================================================================================================================================================================================================================================================================================================================================================================================================================================================================================================================================================================================================================================================================================================================================================================================================================================================================================================================================================================================================================================================================================================================================================================================================================================================================================================================================================================================================================================================================================================================================================================================================================================================================================================================================================================================================================================================================================================================================================================================================================================================================================================================================================================================================================================================================================================================================================================================================================================================================================================================================================================================================================================================================================================================================================================================================================================================================================================================================================================================================================================================================================================================================================================================================================================================================================================================================================================================================================================================================================================================================================================================================================================================================================================================================================================================================================================================================================================================================================================================================================================================================================================================================================================================================================================================================================================================================================================================================================================================================================================================================================================================================================================================================================================================================================================================================================================================================================================================================================================================================================================================================================================================================================================================================================================================================================================================================================================================================================================================================================================================================================================================================================================================================================================================================================================================================================================================================================================================================================================================================================================================================================================================================================================================================================================================================================================================================================================================================================================================================================================================================================================================================================================================================================================================================================================================================================================================================================================================================================================================================================================================================================================================================================================================================================================================================================================================================================================================================================================================================================================================================================================================================================================================================================================================================================================================================================================================================================================================================================================================================================================================================================================================================================================================================================================================================================================================================================================================================================================================================================================================================================================================================================================================================================================================================================================================================================================================================================================================================================================================================================================================================================================================================================================================================================================================================================================================================================================================================================================================================================================================================================================================================================================================================================================================================================================================================================================================================================================================================================================================================================================================================================================================================================================================================================================================================================================================================================================================================================================================================================================================================================================================================================================================================================================================================================================================================================================================================================================================================================================================================================================================================================================================================================================================================================================================================================================================================================================================================================================================================================================================================================================================================================================================================================================================================================================================================================================================================================================================================================================================================================================================================================================================================================================================================================================================================================================================================================================================================================================================================================================================================================================================================================================================================================================================================================================================================================================================================================================================================================================================================================================================================================================================================================================================================================================================================================================================================================================================================================================================================================================================================================================================================================================================================================================================================================================================================================================================================================================================================================================================================================================================================================================================================================================================================================================================================================================================================================================================================================================================================================================================================================================================================================================================================================================================================================================================================================================================================================================================================================================================================================================================================================================================================================================================================================================================================================================================================================================================================================================================================================================================================================================================================================================================================================================================================================================================================================================================================================================================================================================================================================================================================================================================================================================================================================================================================================================================================================================================================================================================================================================================================================================================================================================================================================================================================================================================================================================================================================================================================================================================================================================================================================================================================================================================================================================================================================================================================================================================================================================================================================================================================================================================================================================================================================================================================================================================================================================================================================================================================================================================================================================================================================================================================================================================================================================================================================================================================================================================================================================================================================================================================================================================================================================================================================================================================================================================================================================================================================================================================================================================================================================================================================================================================================================================================================================================================================================================================================================================================================================================================================================================================================================================================================================================================================================================================================================================================================================================================================================================================================================================================================================================================================================================================================================================================================================================================================================================================================================================================================================================================================================================================================================================================================================================================================================================================================================================================================================================================================================================================================================================================================================================================================================================================================================================================================================================================================================================================================================================================================================================================================================================================================================================================================================================================================================================================================================================================================================================================================================================================================================================================================================================================================================================================================================================================================================================================================================================================================================================================================================================================================================================================================================================================================================================================================================================================================================================================================================================================================================================================================================================================================================================================================================================================================================================================================================================================================================================================================================================================================================================================================================================================================================================================================================================================================================================================================================================================================================================================================================================================================================================================================================================================================================================================================================================================================================================================================================================================================================================================================================================================================================================================================================================================================================================================================================================================================================================================================================================================================================================================================================================================================================================================================================================================================================================================================================================================================================================================================================================================================================================================================================================================================================================================================================================================================================================================================================================================================================================================================================================================================================================================================================================================================================================================================================================================================================================================================================================================================================================================================================================================================================================================================================================================================================================================================================================================================================================================================================================================================================================================================================================================================================================================================================================================================================================================================================================================================================================================================================================================================================================================================================================================================================================================================================================================================================================================================================================================================================================================================================================================================================================================================================================================================================================================================================================================================================================================================================================================================================================================================================================================================================================================================================================================================================================================================================================================================================================================================================================================================================================================================================================================================================================================================================================================================================================================================================================================================================================================================================================================================================================================================================================================================================================================================================================================================================================================================================================================================================================================================================================================================================================================================================================================================================================================================================================================================================================================================================================================================================================================================================================================================================================================================================================================================================================================================================================================================================================================================================================================================================================================================================================================================================================================================================================================================================================================================================================================================================================================================================================================================================================================================================================================================================================================================================================================================================================================================================================================================================================================================================================================================================================================================================================================================================================================================================================================================================================================================================================================================================================================================================================================================================================================================================================================================================================================================================================================================================================================================================================================================================================================================================================================================================================================================================================================================================================================================================================================================================================================================================================================================================================================================================================================================================================================================================================================================================================================================================================================================================================================================================================================================================================================================================================================================================================================================================================================================================================================================================================================================================================================================================================================================================================================================================================================================================================================================================================================================================================================================================================================================================================================================================================================================================================================================================================================================================================================================================================================================================================================================================================================================================================================================================================================================================================================================================================================================================================================================================================================================================================================================================================================================================================================================================================================================================================================================================================================================================================================================================================================================================================================================================================================================================================================================================================================================================================================================================================================================================================================================================================================================================================================================================================================================================================================================================================================================================================================================================================================================================================================================================================================================================================================================================================================================================================================================================================================================================================================================================================================================================================================================================================================================================================================================================================================================================================================================================================================================================================================================================================================================================================================================================================================================================================================================================================================================================================================================================================================================================================================================================================================================================================================================================================================================================================================================================================================================================================================================================================================================================================================================================================================================================================================================================================================================================================================================================================================================================================================================================================================================================================================================================================================================================================================================================================================================================================================================================================================================================================================================================================================================================================================================================================================================================================================================================================================================================================================================================================================================================================================================================================================================================================================================================================================================================================================================================================================================================================================================================================================================================================================================================================================================================================================================================================================================================================================================================================================================================================================================================================================================================================================================================================================================================================================================================================================================================================================================================================================================================================================================================================================================================================================================================================================================================================================================================================================================================================================================================================================================================================================================================================================================================================================================================================================================================================================================================================================================================================================================================================================================================================================================================================================================================================================================================================================================================================================================================================================================================================================================================================================================================================================================================================================================================================================================================================================================================================================================================================================================================================================================================================================================================================================================================================================================================================================================================================================================================================================================================================================================================================================================================================================================================================================================================================================================================================================================================================================================================================================================================================================================================================================================================================================================================================================================================================================================================================================================================================================================================================================================================================================================================================================================================================================================================================================================================================================================================================================================================================================================================================================================================================================================================================================================================================================================================================================================================================================================================================================================================================================================================================================================================================================================================================================================================================================================================================================================================================================================================================================================================================================================================================================================================================================================================================================================================================================================================================================================================================================================================================================================================================================================================================================================================================================================================================================================================================================================================================================================================================================================================================================================================================================================================================================================================================================================================================================================================================================================================================================================================================================================================================================================================================================================================================================================================================================================================================================================================================================================================================================================================================================================================================================================================================================================================================================================================================================================================================================================================================================================================================================================================================================================================================================================================================================================================================================================================================================================================================================================================================================================================================================================================================================================================================================================================================================================================================================================================================================================================================================================================================================================================================================================================================================================================================================================================================================================================================================================================================================================================================================================================================================================================================================================================================================================================================================================================================================================================================================================================================================================================================================================================================================================================================================================================================================================================================================================================================================================================================================================================================================================================================================================================================================================================================================================================================================================================================================================================================================================================================================================================================================================================================================================================================================================================================================================================================================================================================================================================================================================================================================================================================================================================================================================================================================================================================================================================================================================================================================================================================================================================================================================================================================================================================================================================================================================================================================================================================================================================================================================================================================================================================================================================================================================================================================================================================================================================================================================================================================================================================================================================================================================================================================================================================================================================================================================================================================================================================================================================================================================================================================================================================================================================================================================================================================================================================================================================================================================================================================================================================================================================================================================================================================================================================================================================================================================================================================================================================================================================================================================================================================================================================================================================================================================================================================================================================================================================================================================================================================================================================================================================================================================================================================================================================================================================================================================================================================================================================================================================================================================================================================================================================================================================================================================================================================================================================================================================================================================================================================================================================================================================================================================================================================================================================================================================================================================================================================================================================================================================================================================================================================================================================================================================================================================================================================================================================================================================================================================================================================================================================================================================================================================================================================================================================================================================================================================================================================================================================================================================================================================================================================================================================================================================================================================================================================================================================================================================================================================================================================================================================================================================================================================================================================================================================================================================================================================================================================================================================================================================================================================================================================================================================================================================================================================================================================================================================================================================================================================================================================================================================================================================================================================================================================================================================================================================================================================================================================================================================================================================================================================================================================================================================================================================================================================================================================================================================================================================================================================================================================================================================================================================================================================================================================================================================================================================================================================================================================================================================================================================================================================================================================================================================================================================================================================================================================================================================================================================================================================================================================================================================================================================================================================================================================================================================================================================================================================================================================================================================================================================================================================================================================================================================================================================================================================================================================================================================================================================================================================================================================================================================================================================================================================================================================================================================================================================================================================================================================================================================================================================================================================================================================================================================================================================================================================================================================================================================================================================================================================================================================================================================================================================================================================================================================================================================================================================================================================================================================================================================================================================================================================================================================================================================================================================================================================================================================================================================================================================================================================================================================================================================================================================================================================================================================================================================================================================================================================================================================================================================================================================================================================================================================================================================================================================================================================================================================================================================================================================================================================================================================================================================================================================================================================================================================================================================================================================================================================================================================================================================================================================================================================================================================================================================================================================================================================================================================================================================================================================================================================================================================================================================================================================================================================================================================================================================================================================================================================================================================================================================================================================================================================================================================================================================================================================================================================================================================================================================================================================================================================================================================================================================================================================================================================================================================================================================================================================================================================================================================================================================================================================================================================================================================================================================================================================================================================================================================================================================================================================================================================================================================================================================================================================================================================================================================================================================================================================================================================================================================================================================================================================================================================================================================================================================================================================================================================================================================================================================================================================================================================================================================================================================================================================================================================================================================================================================================================================================================================================================================================================================================================================================================================================================================================================================================================================================================================================================================================================================================================================================================================================================================================================================================================================================================================================================================================================================================================================================================================================================================================================================================================================================================================================================================================================================================================================================================================================================================================================================================================================================================================================================================================================================================================================================================================================================================================================================================================================================================================================================================================================================================================================================================================================================================================================================================================================================================================================================================================================================================================================================================================================================================================================================================================================================================================================================================================================================================================================================================================================================================================================================================================================================================================================================================================================================================================================================================================================================================================================================================================================================================================================================================================================================================================================================================================================================================================================================================================================================================================================================================================================================================================================================================================================================================================================================================================================================================================================================================================================================================================================================================================================================================================================================================================================================================================================================================================================================================================================================================================================================================================================================================================================================================================================================================================================================================================================================================================================================================================================================================================================================================================================================================================================================================================================================================================================================================================================================================================================================================================================================================================================================================================================================================================================================================================================================================================================================================================================================================================================================================================================================================================================================================================================================================================================================================================================================================================================================================================================================================================================================================================================================================================================================================================================================================================================================================================================================================================================================================================================================================================================================================================================================================================================================================================================================================================================================================================================================================================================================================================================================================================================================================================================================================================================================================================================================================================================================================================================================================================================================================================================================================================================================================================================================================================================================================================================================================================================================================================================================================================================================================================================================================================================================================================================================================================================================================================================================================================================================================================================================================================================================================================================================================================================================================================================================================================================================================================================================================================================================================================================================================================================================================================================================================================================================================================================================================================================================================================================================================================================================================================================================================================================================================================================================================================================================================================================================================================================================================================================================================================================================================================================================================================================================================================================================================================================================================================================================================================================================================================================================================================================================================================================================================================================================================================================================================================================================================================================================================================================================================================================================================================================================================================================================================================================================================================================================================================================================================================================================================================================================================================================================================================================================================================================================================================================================================================================================================================================================================================================================================================================================================================================================================================================================================================================================================================================================================================================================================================================================================================================================================================================================================================================================================================================================================================================================================================================================================================================================================================================================================================================================================================================================================================================================================================================================================================================================================================================================================================================================================================================================================================================================================================================================================================================================================================================================================================================================================================================================================================================================================================================================================================================================================================================================================================================================================================================================================================================================================================================================================================================================================================================================================================================================================================================================================================================================================================================================================================================================================================================================================================================================================================================================================================================================================================================================================================================================================================================================================================================================================================================================================================================================================================================================================================================================================================================================================================================================================================================================================================================================================================================================================================================================================================================================================================================================================================================================================================================================================================================================================================================================================================================================================================================================================================================================================================================================================================================================================================================================================================================================================================================================================================================================================================================================================================================================================================================================================================================================================================================================================================================================================================================================================================================================================================================================================================================================================================================================================================================================================================================================================================================================================================================================================================================================================================================================================================================================================================================================================================================================================================================================================================================================================================================================================================================================================================================================================================================================================================================================================================================================================================================================================================================================================================================================================================================================================================================================================================================================================================================================================================================================================================================================================================================================================================================================================================================================================================================================================================================================================================================================================================================================================================================================================================================================================================================================================================================================================================================================================================================================================================================================================================================================================================================================================================================================================================================================================================================================================================================================================================================================================================================================================================================================================================================================================================================================================================================================================================================================================================================================================================================================================================================================================================================================================================================================================================================================================================================================================================================================================================================================================================================================================================================================================================================================================================================================================================================================================================================================================================================================================================================================================================================================================================================================================================================================================================================================================================================================================================================================================================================================================================================================================================================================================================================================================================================================================================================================================================================================================================================================================================================================================================================================================================================================================================================================================================================================================================================================================================================================================================================================================================================================================================================================================================================================================================================================================================================================================================================================================================================================================================================================================================================================================================================================================================================================================================================================================================================================================================================================================================================================================================================================================================================================================================================================================================================================================================================================================================================================================================================================================================================================================================================================================================================================================================================================================================================================================================================================================================================================================================================================================================================================================================================================================================================================================================================================================================================================================================================================================================================================================================================================================================================================================================================================================================================================================================================================================================================================================================================================================================================================================================================================================================================================================================================================================================================================================================================================================================================================================================================================================================================================================================================================================================================================================================================================================================================================================================================================================================================================================================================================================================================================================================================================================================================================================================================================================================================================================================================================================================================================================================================================================================================================================================================================================================================================================================================================================================================================================================================================================================================================================================================================================================================================================================================================================================================================================================================================================================================================================================================================================================================================================================================================================================================================================================================================================================================================================================================================================================================================================================================================================================================================================================================================================================================================================================================================================================================================================================================================================================================================================================================================================================================================================================================================================================================================================================================================================================================================================================================================================================================================================================================================================================================================================================================================================================================================================================================================================================================================================================================================================================================================================================================================================================================================================================================================================================================================================================================================================================================================================================================================================================================================================================================================================================================================================================================================================================================================================================================================================================================================================================================================================================================================================================================================================================================================================================================================================================================================================================================================================================================================================================================================================================================================================================================================================================================================================================================================================================================================================================================================================================================================================================================================================================================================================================================================================================================================================================================================================================================================================================================================================================================================================================================================================================================================================================================================================================================================================================================================================================================================================================================================================================================================================================================================================================================================================================================================================================================================================================================================================================================================================================================================================================================================================================================================================================================================================================================================================================================================================================================================================================================================================================================================================================================================================================================================================================================================================================================================================================================================================================================================================================================================================================================================================================================================================================================================================================================================================================================================================================================================================================================================================================================================================================================================================================================================================================================================================================================================================================================================================================================================================================================================================================================================================================================================================================================================================================================================================================================================================================================================================================================================================================================================================================================================================================================================================================================================================================================================================================================================================================================================================================================================================================================================================================================================================================================================================================================================================================================================================================================================================================================================================================================================================================================================================================================================================================================================================================================================================================================================================================================================================================================================================================================================================================================================================================================================================================================================================================================================================================================================================================================================================================================================================================================================================================================================================================================================================================================================================================================================================================================================================================================================================================================================================================================================================================================================================================================================================================================================================================================================================================================================================================================================================================================================================================================================================================================================================================================================================================================================================================================================================================================================================================================================================================================================================================================================================================================================================================================================================================================================================================================================================================================================================================================================================================================================================================================================================================================================================================================================================================================================================================================================================================================================================================================================================================================================================================================================================================================================================================================================================================================================================================================================================================================================================================================================================================================================================================================================================================================================================================================================================================================================================================================================================================================================================================================================================================================================================================================================================================================================================================================================================================================================================================================================================================================================================================================================================================================================================================================================================================================================================================================================================================================================================================================================================================================================================================================================================================================================================================================================================================================================================================================================================================================================================================================================================================================================================================================================================================================================================================================================================================================================================================================================================================================================================================================================================================================================================================================================================================================================================================================================================================================================================================================================================================================================================================================================================================================================================================================================================================================================================================================================================================================================================================================================================================================================================================================================================================================================================================================================================================================================================================================================================================================================================================================================================================================================================================================================================================================================================================================================================================================================================================================================================================================================================================================================================================================================================================================================================================================================================================================================================================================================================================================================================================================================================================================================================================================================================================================================================================================================================================================================================================================================================================================================================================================================================================================================================================================================================================================================================================================================================================================================================================================================================================================================================================================================================================================================================================================================================================================================================================================================================================================================================================================================================================================================================================================================================================================================================================================================================================================================================================================================================================================================================================================================================================================================================================================================================================================================================================================================================================================================================================================================================================================================================================================================================================================================================================================================================================================================================================================================================================================================================================================================================================================================================================================================================================================================================================================================================================================================================================================================================================================================================================================================================================================================================================================================================================================================================================================================================================================================================================================================================================================================================================================================================================================================================================================================================================================================================================================================================================================================================================================================================================================================================================================================================================================================================================================================================================================================================================================================================================================================================================================================================================================================================================================================================================================================================================================================================================================================================================================================================================================================================================================================================================================================================================================================================================================================================================================================================================================================================================================================================================================================================================================================================================================================================================================================================================================================================================================================================================================================================================================================================================================================================================================================================================================================================================================================================================================================================================================================================================================================================================================================================================================================================================================================================================================================================================================================================================================================================================================================================================================================================================================================================================================================================================================================================================================================================================================================================================================================================================================================================================================================================================================================================================================================================================================================================================================================================================================================================================================================================================================================================================================================================================================================================================================================================================================================================================================================================================================================================================================================================================================================================================================================================================================================================================================================================================================================================================================================================================================================================================================================================================================================================================================================================================================================================================================================================================================================================================================================================================================================================================================================================================================================================================================================================================================================================================================================================================================================================================================================================================================================================================================================================================================================================================================================================================================================================================================================================================================================================================================================================================================================================================================================================================================================================================================================================================================================================================================================================================================================================================================================================================================================================================================================================================================================================================================================================================================================================================================================================================================================================================================================================================================================================================================================================================================================================================================================================================================================================================================================================================================================================================================================================================================================================================================================================================================================================================================================================================================================================================================================================================================================================================================================================================================================================================================================================================================================================================================================================================================================================================================================================================================================================================================================================================================================================================================================================================================================================================================================================================================================================================================================================================================================================================================================================================================================================================================================================================================================================================================================================================================================================================================================================================================================================================================================================================================================================================================================================================================================================================================================================================================================================================================================================================================================================================================================================================================================================================================================================================================================================================================================================================================================================================================================================================================================================================================================================================================================================================================================================================================================================================================================================================================================================================================================================================================================================================================================================================================================================================================================================================================================================================================================================================================================================================================================================================================================================================================================================================================================================================================================================================================================================================================================================================================================================================================================================================================================================================================================================================================================================================================================================================================================================================================================================================================================================================================================================================================================================================================================================================================================================================================================================================================================================================================================================================================================================================================================================================================================================================================================================================================================================================================================================================================================================================================================================================================================================================================================================================================================================================================================================================================================================================================================================================================================================================================================================================================================================================================================================================================================================================================================================================================================================================================================================================================================================================================================================================================================================================================================================================================================================================================================================================================================================================================================================================================================================================================================================================================================================================================================================================================================================================================================================================================================================================================================================================================================================================================================================================================================================================================================================================================================================================================================================================================================================================================================================================================================================================================================================================================================================================================================================================================================================================================================================================================================================================================================================================================================================================================================================================================================================================================================================================================================================================================================================================================================================================================================================================================================================================================================================================================================================================================================================================================================================================================================================================================================================================================================================================================================================================================================================================================================================================================================================================================================================================================================================================================================================================================================================================================================================================================================================================================================================================================================================================================================================================================================================================================================================================================================================================================================================================================================================================================================================================================================================================================================================================================================================================================================================================================================================================================================================================================================================================================================================================================================================================================================================================================================================================================================================================================================================================================================================================================================================================================================================================================================================================================================================================================================================================================================================================================================================================================================================================================================================================================================================================================================================================================================================================================================================================================================================================================================================================================================================================================================================================================================================================================================================================================================================================================================================================================================================================================================================================================================================================================================================================================================================================================================================================================================================================================================================================================================================================================================================================================================================================================================================================================================================================================================================================================================================================================================================================================================================================================================================================================================================================================================================================================================================================================================================================================================================================================================================================================================================================================================================================================================================================================================================================================================================================================================================================================================================================================================================================================================================================================================================================================================================================================================================================================================================================================================================================================================================================================================================================================================================================================================================================================================================================================================================================================================================================================================================================================================================================================================================================================================================================================================================================================================================================================================================================================================================================================================================================================================================================================================================================================================================================================================================================================================================================================================================================================================================================================================================================================================================================================================================================================================================================================================================================================================================================================================================================================================================================================================================================================================================================================================================================================================================================================================================================================================================================================================================================================================================================================================================================================================================================================================================================================================================================================================================================================================================================================================================================================================================================================================================================================================================================================================================================================================================================================================================================================================================================================================================================================================================================================================================================================================================================================================================================================================================================================================================================================================================================================================================================================================================================================================================================================================================================================================================================================================================================================================================================================================================================================================================================================================================================================================================================================================================================================================================================================================================================================================================================================================================================================================================================================================================================================================================================================================================================================================================================================================================================================================================================================================================================================================================================================================================================================================================================================================================================================================================================================================================================================================================================================================================================================================================================================================================================================================================================================================================================================================================================================================================================================================================================================================================================================================================================================================================================================================================================================================================================================================================================================================================================================================================================================================================================================================================================================================================================================================================================================================================================================================================================================================================================================================================================================================================================================================================================================================================================================================================================================================================================================================================================================================================================================================================================================================================================================================================================================================================================================================================================================================================================================================================================================================================================================================================================================================================================================================================================================================================================================================================================================================================================================================================================================================================================================================================================================================================================================================================================================================================================================================================================================================================================================================================================================================================================================================================================================================================================================================================================================================================================================================================================================================================================================================================================================================================================================================================================================================================================================================================================================================================================================================================================================================================================================================================================================================================================================================================================================================================================================================================================================================================================================================================================================================================================================================================================================================================================================================================================================================================================================================================================================================================================================================================================================================================================================================================================================================================================================================================================================================================================================================================================================================================================================================================================================================================================================================================================================================================================================================================================================================================================================================================================================================================================================================================================================================================================================================================================================================================================================================================================================================================================================================================================================================================================================================================================================================================================================================================================================================================================================================================================================================================================================================================================================================================================================================================================================================================================================================================================================================================================================================================================================================================================================================================================================================================================================================================================================================================================================================================================================================================================================================================================================================================================================================================================================================================================================================================================================================================================================================================================================================================================================================================================================================================================================================================================================================================================================================================================================================================================================================================================================================================================================================================================================================================================================================================================================================================================================================================================================================================================================================================================================================================================================================================================================================================================================================================================================================================================================================================================================================================================================================================================================================================================================================================================================================================================================================================================================================================================================================================================================================================================================================================================================================================================================================================================================================================================================================================================================================================================================================================================================================================================================================================================================================================================================================================================================================================================================================================================================================================================================================================================================================================================================================================================================================================================================================================================================================================================================================================================================================================================================================================================================================================================================================================================================================================================================================================================================================================================================================================================================================================================================================================================================================================================================================================================================================================================================================================================================================================================================================================================================================================================================================================================================================================================================================================================================================================================================================================================================================================================================================================================================================================================================================================================================================================================================================================================================================================================================================================================================================================================================================================================================================================================================================================================================================================================================================================================================================================================================================================================================================================================================================================================================================================================================================================================================================================================================================================================================================================================================================================================================================================================================================================================================================================================================================================================================================================================================================================================================================================================================================================================================================================================================================================================================================================================================================================================================================================================================================================================================================================================================================================================================================================================================================================================================================================================================================================================================================================================================================================================================================================================================================================================================================================================================================================================================================================================================================================================================================================================================================================================================================================================================================================================================================================================================================================================================================================================================================================================================================================================================================================================================================================================================================================================================================================================================================================================================================================================================================================================================================================================================================================================================================================================================================================================================================================================================================================================================================================================================================================================================================================================================================================================================================================================================================================================================================================================================================================================================================================================================================================================================================================================================================================================================================================================================================================================================================================================================================================================================================================================================================================================================================================================================================================================================================================================================================================================================================================================================================================================================================================================================================================================================================================================================================================================================================================================================================================================================================================================================================================================================================================================================================================================================================================================================================================================================================================================================================================================================================================================================================================================================================================================================================================================================================================================================================================================================================================================================================================================================================================================================================================================================================================================================================================================================================================================================================================================================================================================================================================================================================================================================================================================================================================================================================================================================================================================================================================================================================================================================================================================================================================================================================================================================================================================================================================================================================================================================================================================================================================================================================================================================================================================================================================================================================================================================================================================================================================================================================================================================================================================================================================================================================================================================================================================================================================================================================================================================================================================================================================================================================================================================================================================================================================================================================================================================================================================================================================================================================================================================================================================================================================================================================================================================================================================================================================================================================================================================================================================================================================================================================================================================================================================================================================================================================================================================================================================================================================================================================================================================================================================================================================================================================================================================================================================================================================================================================================================================================================================================================================================================================================================================================================================================================================================================================================================================================================================================================================================================================================================================================================================================================================================================================================================================================================================================================================================================================================================================================================================================================================================================================================================================================================================================================================================================================================================================================================================================================================================================================================================================================================================================================================================================================================================================================================================================================================================================================================================================================================================================================================================================================================================================================================================================================================================================================================================================================================================================================================================================================================================================================================================================================================================================================================================================================================================================================================================================================================================================================================================================================================================================================================================================================================================================================================================================================================================================================================================================================================================================================================================================================================================================================================================================================================================================================================================================================================================================================================================================================================================================================================================================================================================================================================================================================================================================================================================================================================================================================================================================================================================================================================================================================================================================================================================================================================================================================================================================================================================================================================================================================================================================================================================================================================================================================================================================================================================================================================================================================================================================================================================================================================================================================================================================================================================================================================================================================================================================================================================================================================================================================================================================================================================================================================================================================================================================================================================================================================================================================================================================================================================================================================================================================================================================================================================================================================================================================================================================================================================================================================================================================================================================================================================================================================================================================================================================================================================================================================================================================================================================================================================================================================================================================================================================================================================================================================================================================================================================================================================================================================================================================================================================================================================================================================================================================================================================================================================================================================================================================================================================================================================================================================================================================================================================================================================================================================================================================================================================================================================================================================================================================================================================================================================================================================================================================================================================================================================================================================================================================================================================================================================================================================================================================================================================================================================================================================================================================================================================================================================================================================================================================================================================================================================================================================================================================================================================================================================================================================================================================================================================================================================================================================================================================================================================================================================================================================================================================================================================================================================================================================================================================================================================================================================================================================================================================================================================================================================================================================================================================================================================================================================================================================================================================================================================================================================================================================================================================================================================================================================================================================================================================================================================================================================================================================================================================================================================================================================================================================================================================================================================================================================================================================================================================================================================================================================================================================================================================================================================================================================================================================================================================================================================================================================================================================================================================================================================================================================================================================================================================================================================================================================================================================================================================================================================================================================================================================================================================================================================================================================================================================================================================================================================================================================================================================================================================================================================================================================================================================================================================================================================================================================================================================================================================================================================================================================================================================================================================================================================================================================================================================================================================================================================================================================================================================================================================================================================================================================================================================================================================================================================================================================================================================================================================================================================================================================================================================================================================================================================================================================================================================================================================================================================================================================================================================================================================================================================================================================================================================================================================================================================================================================================================================================================================================================================================================================================================================================================================================================================================================================================================================================================================================================================================================================================================================================================================================================================================================================================================================================================================================================================================================================================================================================================================================================================================================================================================================================================================================================================================================================================================================================================================================================================================================================================================================================================================================================================================================================================================================================================================================================================================================================================================================================================================================================================================================================================================================================================================================================================================================================================================================================================================================================================================================================================================================================================================================================================================================================================================================================================================================================================================================================================================================================================================================================================================================================================================================================================================================================================================================================================================================================================================================================================================================================================================================================================================================================================================================================================================================================================================================================================================================================================================================================================================================================================================================================================================================================================================================================================================================================================================================================================================================================================================================================================================================================================================================================================================================================================================================================================================================================================================================================================================================================================================================================================================================================================================================================================================================================================================================================================================================================================================================================================================================================================================================================================================================================================================================================================================================================================================================================================================================================================================================================================================================================================================================================================================================================================================================================================================================================================================================================================================================================================================================================================================================================================================================================================================================================================================================================================================================================================================================================================================================================================================================================================================================================================================================================================================================================================================================================================================================================================================================================================================================================================================================================================================================================================================================================================================================================================================================================================================================================================================================================================================================================================================================================================================================================================================================================================================================================================================================================================================================================================================================================================================================================================================================================================================================================================================================================================================================================================================================================================================================================================================================================================================================================================================================================================================================================================================================================================================================================================================================================================================================================================================================================================================================================================================================================================================================================================================================================================================================================================================================================================================================================================================================================================================================================================================================================================================================================================================================================================================================================================================================================================================================================================================================================================================================================================================================================================================================================================================================================================================================================================================================================================================================================================================================================================================================================================================================================================================================================================================================================================================================================================================================================================================================================================================================================================================================================================================================================================================================================================================================================================================================================================================================================================================================================================================================================================================================================================================================================================================================================================================================================================================================================================================================================================================================================================================================================================================================================================================================================================================================================================================================================================================================================================================================================================================================================================================================================================================================================================================================================================================================================================================================================================================================================================================================================================================================================================================================================================================================================================================================================================================================================================================================================================================================================================================================================================================================================================================================================================================================================================================================================================================================================================================================================================================================================================================================================================================================================================================================================================================================================================================================================================================================================================================================================================================================================================================================================================================================================================================================================================================================================================================================================================================================================================================================================================================================================================================================================================================================================================================================================================================================================================================================================================================================================================================================================================================================================================================================================================================================================================================================================================================================================================================================================================================================================================================================================================================================================================================================================================================================================================================================================================================================================================================================================================================================================================================================================================================================================================================================================================================================================================================================================================================================================================================================================================================================================================================================================================================================================================================================================================================================================================================================================================================================================================================================================================================================================================================================================================================================================================================================================================================================================================================================================================================================================================================================================================================================================================================================================================================================================================================================================================================================================================================================================================================================================================================================================================================================================================================================================================================================================================================================================================================================================================================================================================================================================================================================================================================================================================================================================================================================================================================================================================================================================================================================================================================================================================================================================================================================================================================================================================================================================================================================================================================================================================================================================================================================================================================================================================================================================================================================================================================================================================================================================================================================================================================================================================================================================================================================================================================================================================================================================================================================================================================================================================================================================================================================================================================================================================================================================================================================================================================================================================================================================================================================================================================================================================================================================================================================================================================================================================================================================================================================================================================================================================================================================================================================================================================================================================================================================================================================================================================================================================================================================================================================================================================================================================================================================================================================================================================================================================================================================================================================================================================================================================================================================================================================================================================================================================================================================================================================================================================================================================================================================================================================================================================================================================================================================================================================================================================================================================================================================================================================================================================================================================================================================================================================================================================================================================================================================================================================================================================================================================================================================================================================================================================================================================================================================================================================================================================================================================================================================================================================================================================================================================================================================================================================================================================================================================================================================================================================================================================================================================================================================================================================================================================================================================================================================================================================================================================================================================================================================================================================================================================================================================================================================================================================================================================================================================================================================================================================================================================================================================================================================================================================================================================================================================================================================================================================================================================================================================================================================================================================================================================================================================================================================================================================================================================================================================================================================================================================================================================================================================================================================================================================================================================================================================================================================================================================================================================================================================================================================================================================================================================================================================================================================================================================================================================================================================================================================================================================================================================================================================================================================================================================================================================================================================================================================================================================================================================================================================================================================================================================================================================================================================================================================================================================================================================================================================================================================================================================================================================================================================================================================================================================================================================================================================================================================================================================================================================================================================================================================================================================================================================================================================================================================================================================================================================================================================================================================================================================================================================================================================================================================================================================================================================================================================================================================================================================================================================================================================================================================================================================================================================================================================================================================================================================================================================================================================================================================================================================================================================================================================================================================================================================================================================================================================================================================================================================================================================================================================================================================================================================================================================================================================================================================================================================================================================================================================================================================================================================================================================================================================================================================================================================================================================================================================================================================================================================================================================================================================================================================================================================================================================================================================================================================================================================================================================================================================================================================================================================================================================================================================================================================================================================================================================================================================================================================================================================================================================================================================================================================================================================================================================================================================================================================================================================================================================================================================================================================================================================================================================================================================================================================================================================================================================================================================================================================================================================================================================================================================================================================================================================================================================================================================================================================================================================================================================================================================================================================================================================================================================================================================================================================================================================================================================================================================================================================================================================================================================================================================================================================================================================================================================================================================================================================================================================================================================================================================================================================================================================================================================================================================================================================================================================================================================================================================================================================================================================================================================================================================================================================================================================================================================================================================================================================================================================================================================================================================================================================================================================================================================================================================================================================================================================================================================================================================================================================================================================================================================================================================================================================================================================================================================================================================================================================================================================================================================================================================================================================================================================================================================================================================================================================================================================================================================================================================================================================================================================================================================================================================================================================================================================================================================================================================================================================================================================================================================================================================================================================================================================================================================================================================================================================================================================================================================================================================================================================================================================================================================================================================================================================================================================================================================================================================================================================================================================================================================================================================================================================================================================================================================================================================================================================================================================================================================================================================================================================================================================================================================================================================================================================================================================================================================================================================================================================================================================================================================================================================================================================================================================================================================================================================================================================================================================================================================================================================================================================================================================================================================================================================================================================================================================================================================================================================================================================================================================================================================================================================================================================================================================================================================================================================================================================================================================================================================================================================================================================================================================================================================================================================================================================================================================================================================================================================================================================================================================================================================================================================================================================================================================================================================================================================================================================================================================================================================================================================================================================================================================================================================================================================================================================================================================================================================================================================================================================================================================================================================================================================================================================================================================================================================================================================================================================================================================================================================================================================================================================================================================================================================================================================================================================================================================================================================================================================================================================================================================================================================================================================================================================================================================================================================================================================================================================================================================================================================================================================================================================================================================================================================================================================================================================================================================================================================================================================================================================================================================================================================================================================================================================================================================================================================================================================================================================================================================================================================================================================================================================================================================================================================================================================================================================================================================================================================================================================================================================================================================================================================================================================================================================================================================================================================================================================================================================================================================================================================================================================================================================================================================================================================================================================================================================================================================================================================================================================================================================================================================================================================================================================================================================================================================================================================================================================================================================================================================================================================================================================================================================================================================================================================================================================================================================================================================================================================================================================================================================================================================================================================================================================================================================================================================================================================================================================================================================================================================================================================================================================================================================================================================================================================================================================================================================================================================================================================================================================================================================================================================================================================================================================================================================================================================================================================================================================================================================================================================================================================================================================================================================================================================================================================================================================================================================================================================================================================================================================================================================================================================================================================================================================================================================================================================================================================================================================================================================================================================================================================================================================================================================================================================================================================================================================================================================================================================================================================================================================================================================================================================================================================================================================================================================================================================================================================================================================================================================================================================================================================================================================================================================================================================================================================================================================================================================================================================================================================================================================================================================================================================================================================================================================================================================================================================================================================================================================================================================================================================================================================================================================================================================================================================================================================================================================================================================================================================================================================================================================================================================================================================================================================================================================================================================================================================================================================================================================================================================================================================================================================================================================================================================================================================================================================================================================================================================================================================================================================================================================================================================================================================================================================================================================================================================================================================================================================================================================================================================================================================================================================================================================================================================================================================================================================================================================================================================================================================================================================================================================================================================================================================================================================================================================================================================================================================================================================================================================================================================================================================================================================================================================================================================================================================================================================================================================================================================================================================================================================================================================================================================================================================================================================================================================================================================================================================================================================================================================================================================================================================================================================================================================================================================================================================================================================================================================================================================================================================================================================================================================================================================================================================================================================================================================================================================================================================================================================================================================================================================================================================================================================================================================================================================================================================================================================================================================================================================================================================================================================================================================================================================================================================================================================================================================================================================================================================================================================================================================================================================================================================================================================================================================================================================================================================================================================================================================================================================================================================================================================================================================================================================================================================================================================================================================================================================================================================================================================================================================================================================================================================================================================================================================================================================================================================================================================================================================================================================================================================================================================================================================================================================================================================================================================================================================================================================================================================================================================================================================================================================================================================================================================================================================================================================================================================================================================================================================================================================================================================================================================================================================================================================================================================================================================================================================================================================================================================================================================================================================================================================================================================================================================================================================================================================================================================================================================================================================================================================================================================================================================================================================================================================================================================================================================================================================================================================================================================================================================================================================================================================================================================================================================================================================================================================================================================================================================================================================================================================================================================================================================================================================================================================================================================================================================================================================================================================================================================================================================================================================================================================================================================================================================================================================================================================================================================================================================================================================================================================================================================================================================================================================================================================================================================================================================================================================================================================================================================================================================================================================================================================================================================================================================================================================================================================================================================================================================================================================================================================================================================================================================================================================================================================================================================================================================================================================================================================================================================================================================================================================================================================================================================================================================================================================================================================================================================================================================================================================================================================================================================================================================================================================================================================================================================================================================================================================================================================================================================================================================================================================================================================================================================================================================================================================================================================================================================================================================================================================================================================================================================================================================================================================================================================================================================================================================================================================================================================================================================================================================================================================================================================================================================================================================================================================================================================================================================================================================================================================================================================================================================================================================================================================================================================================================================================================================================================================================================================================================================================================================================================================================================================================================================================================================================================================================================================================================================================================================================================================================================================================================================================================================================================================================================================================================================================================================================================================================================================================================================================================================================================================================================================================================================================================================================================================================================================================================================================================================================================================================================================================================================================================================================================================================================================================================================================================================================================================================================================================================================================================================================================================================================================================================================================================================================================================================================================================================================================================================================================================================================================================================================================================================================================================================================================================================================================================================================================================================================================================================================================================================================================================================================================================================================================================================================================================================================================================================================================================================================================================================================================================================================================================================================================================================================================================================================================================================================================================================================================================================================================================================================================================================================================================================================================================================================================================================================================================================================================================================================================================================================================================================================================================================================================================================================================================================================================================================================================================================================================================================================================================================================================================================================================================================================================================================================================================================================================================================================================================================================================================================================================================================================================================================================================================================================================================================================================================================================================================================================================================================================================================================================================================================================================================================================================================================================================================================================================================================================================================================================================================================================================================================================================================================================================================================================================================================================================================================================================================================================================================================================================================================================================================================================================================================================================================================================================================================================================================================================================================================================================================================================================================================================================================================================================================================================================================================================================================================================================================================================================================================================================================================================================================================================================================================================================================================================================================================================================================================================================================================================================================================================================================================================================================================================================================================================================================================================================================================================================================================================================================================================================================================================================================================================================================================================================================================================================================================================================================================================================================================================================================================================================================================================================================================================================================================================================================================================================================================================================================================================================================================================================================================================================================================================================================================================================================================================================================================================================================================================================================================================================================================================================================================================================================================================================================================================================================================================================================================================================================================================================================================================================================================================================================================================================================================================================================================================================================================================================================================================================================================================================================================================================================================================================================================================================================================================================================================================================================================================================================================================================================================================================================================================================================================================================================================================================================================================================================================================================================================================================================================================================================================================================================================================================================================================================================================================================================================================================================================================================================================================================================================================================================================================================================================================================================================================================================================================================================================================================================================================================================================================================================================================================================================================================================================================================================================================================================================================================================================================================================================================================================================================================================================================================================================================================================================================================================================================================================================================================================================================================================================================================================================================================================================================================================================================================================================================================================================================================================================================================================================================================================================================================================================================================================================================================================================================================================================================================================================================================================================================================================================================================================================================================================================================================================================================================================================================================================================================================================================================================================================================================================================================================================================================================================================================================================================================================================================================================================================================================================================================================================================================================================================================================================================================================================================================================================================================================================================================================================================================================================================================================================================================================================================================================================================================================================================================================================================================================================================================================================================================================================================================================================================================================================================================================================================================================================================================================================================================================================================================================================================================================================================================================================================================================================================================================================================================================================================================================================================================================================================================================================================================================================================================================================================================================================================================================================================================================================================================================================================================================================================================================================================================================================================================================================================================================================================================================================================================================================================================================================================================================================================================================================================================================================================================================================================================================================================================================================================================================================================================================================================================================================================================================================================================================================================================================================================================================================================================================================================================================================================================================================================================================================================================================================================================================================================================================================================================================================================================================================================================================================================================================================================================================================================================================================================================================================================================================================================================================================================================================================================================================================================================================================================================================================================================================================================================================================================================================================================================================================================================================================================================================================================================================================================================================================================================================================================================================================================================================================================================================================================================================================================================================================================================================================================================================================================================================================================================================================================================================================================================================================================================================================================================================================================================================================================================================================================================================================================================================================================================================================================================================================================================================================================================================================================================================================================================================================================================================================================================================================================================================================================================================================================================================================================================================================================================================================================================================================================================================================================================================================================================================================================================================================================================================================================================================================================================================================================================================================================================================================================================================================================================================================================================================================================================================================================================================================================================================================================================================================================================================================================================================================================================================================================================================================================================================================================================================================================================================================================================================================================================================================================================================================================================================================================================================================================================================================================================================================================================================================================================================================================================================================================================================================================================================================================================================================================================================================================================================================================================================================================================================================================================================================================================================================================================================================================================================================================================================================================================================================================================================================================================================================================================================================================================================================================================================================================================================================================================================================================================================================================================================================================================================================================================================================================================================================================================================================================================================================================================================================================================================================================================================================================================================================================================================================================================================================================================================================================================================================================================================================================================================================================================================================================================================================================================================================================================================================================================================================================================================================================================================================================================================================================================================================================================================================================================================================================================================================================================================================================================================================================================================================================================================================================================================================================================================================================================================================================================================================================================================================================================================================================================================================================================================================================================================================================================================================================================================================================================================================================================================================================================================================================================================================================================================================================================================================================================================================================================================================================================================================================================================================================================================================================================================================================================================================================================================================================================================================================================================================================================================================================================================================================================================================================================================================================================================================================================================================================================================================================================================================================================================================================================================================================================================================================================================================================================================================================================================================================================================================================================================================================================================================================================================================================================================================================================================================================================================================================================================================================================================================================================================================================================================================================================================================================================================================================================================================================================================================================================================================================================================================================================================================================================================================================================================================================================================================================================================================================================================================================================================================================================================================================================================================================================================================================================================================================================================================================================================================================================================================================================================================================================================================================================================================================================================================================================================================================================================================================================================================================================================================================================================================================================================================================================================================================================================================================================================================================================================================================================================================================================================================================================================================================================================================================================================================================================================================================================================================================================================================================================================================================================================================================================================================================================================================================================================================================================================================================================================================================================================================================================================================================================================================================================================================================================================================================================================================================================================================================================================================================================================================================================================================================================================================================================================================================================================================================================================================================================================================================================================================================================================================================================================================================================================================================================================================================================================================================================================================================================================================================================================================================================================================================================================================================================================================================================================================================================================================================================================================================================================================================================================================================================================================================================================================================================================================================================================================================================================================================================================================================================================================================================================================================================================================================================================================================================================================================================================================================================================================================================================================================================================================================================================================================================================================================================================================================================================================================================================================================================================================================================================================================================================================================================================================================================================================================================================================================================================================================================================================================================================================================================================================================================================================================================================================================================================================================================================================================================================================================================================================================================================================================================================================================================================================================================================================================================================================================================================================================================================================================================================================================================================================================================================================================================================================================================================================================================================================================================================================================================================================================================================================================================================================================================================================================================================================================================================================================================================================================================================================================================================================================================================================================================================================================================================================================================================================================================================================================================================================================================================================================================================================================================================================================================================================================================================================================================================================================================================================================================================================================================================================================================================================================================================================================================================================================================================================================================================================================================================================================================================================================================================================================================================================================================================================================================================================================================================================================================================================================================================================================================================================================================================================================================================================================================================================================================================================================================================================================================================================================================================================================================================================================================================================================================================================================================================================================================================================================================================================================================================================================================================================================================================================================================================================================================================================================================================================================================================================================================================================================================================================================================================================================================================================================================================================================================================================================================================================================================================================================================================================================================================================================================================================================================================================================================================================================================================================================================================================================================================================================================================================================================================================================================================================================================================================================================================================================================================================================================================================================================================================================================================================================================================================================================================================================================================================================================================================================================================================================================================================================================================================================================================================================================================================================================================================================================================================================================================================================================================================================================================================================================================================================================================================================================================================================================================================================================================================================================================================================================================================================================================================================================================================================================================================================================================================================================================================================================================================================================================================================================================================================================================================================================================================================================================================================================================================================================================================================================================================================================================================================================================================================================================================================================================================================================================================================================================================================================================================================================================================================================================================================================================================================================================================================================================================================================================================================================================================================================================================================================================================================================================================================================================================================================================================================================================================================================================================================================================================================================================================================================================================================================================================================================================================================================================================================================================================================================================================================================================================================================================================================================================================================================================================================================================================================================================================================================================================================================================================================================================================================================================================================================================================================================================================================================================================================================================================================================================================================================================================================================================================================================================================================================================================================================================================================================================================================================================================================================================================================================================================================================================================================================================================================================================================================================================================================================================================================================================================================================================================================================================================================================================================================================================================================================================================================================================================================================================================================================================================================================================================================================================================================================================================================================================================================================================================================================================================================================================================================================================================================================================================================================================================================================================================================================================================================================================================================================================================================================================================================================================================================================================================================================================================================================================================================================================================================================================================================================================================================================================================================================================================================================================================================================================================================================================================================================================================================================================================================================================================================================================================================================================================================================================================================================================================================================================================================================================================================================================================================================================================================================================================================================================================================================================================================================================================================================================================================================================================================================================================================================================================================================================================================================================================================================================================================================================================================================================================================================================================================================================================================================================================================================================================================================================================================================================================================================================================================================================================================================================================================================================================================================================================================================================================================================================================================================================================================================================================================================================================================================================================================================================================================================================================================================================================================================================================================================================================================================================================================================================================================================================================================================================================================================================================================================================================================================================================================================================================================================================================================================================================================================================================================================================================================================================================================================================================================================================================================================================================================================================================================================================================================================================================================================================================================================================================================================================================================================================================================================================================================================================================================================================================================================================================================================================================================================================================================================================================================================================================================================================================================================================================================================================================================================================================================================================================================================================================================================================================================================================================================================================================================================================================================================================================================================================================================================================================================================================================================================================================================================================================================================================================================================================================================================================================================================================================================================================================================================================================================================================================================================================================================================================================================================================================================================================================================================================================================================================================================================================================================================================================================================================================================================================================================================================================================================================================================================================================================================================================================================================================================================================================================================================================================================================================================================================================================================================================================================================================================================================================================================================================================================================================================================================================================================================================================================================================================================================================================================================================================================================================================================================================================================================================================================================================================================================================================================================================================================================================================================================================================================================================================================================================================================================================================================================================================================================================================================================================================================================================================================================================================================================================================================================================================================================================================================================================================================================================================================================================================================================================================================================================================================================================================================================================================================================================================================================================================================================================================================================================================================================================================================================================================================================================================================================================================================================================================================================================================================================================================================================================================================================================================================================================================================================================================================================================================================================================================================================================================================================================================================================================================================================================================================================================================================================================================================================================================================================================================================================================================================================================================================================================================================================================================================================================================================================================================================================================================================================================================================================================================================================================================================================================================================================================================================================================================================================================================================================================================================================================================================================================================================================================================================================================================================================================================================================================================================================================================================================================================================================================================================================================================================================================================================================================================================================================================================================================================================================================================================================================================================================================================================================================================================================================================================================================================================================================================================================================================================================================================================================================================================================================================================================================================================================================================================================================================================================================================================================================================================================================================================================================================================================================================================================================================================================================================================================================================================================================================================================================================================================================================================================================================================================================================================================================================================================================================================================================================================================================================================================================================================================================================================================================================================================================================================================================================================================================================================================================================================================================================================================================================================================================================================================================================================================================================================================================================================================================================================================================================================================================================================================================================================================================================================================================================================================================================================================================================================================================================================================================================================================================================================================================================================================================================================================================================================================================================================================================================================================================================================================================================================================================================================================================================================================================================================================================================================================================================================================================================================================================================================================================================================================================================================================================================================================================================================================================================================================================================================================================================================================================================================================================================================================================================================================================================================================================================================================================================================================================================================================================================================================================================================================================================================================================================================================================================================================================================================================================================================================================================================================================================================================================================================================================================================================================================================================================================================================================================================================================================================================================================================================================================================================================================================================================================================================================================================================================================================================================================================================================================================================================================================================================================================================================================================================================================================================================================================================================================================================================================================================================================================================================================================================================================================================================================================================================================================================================================================================================================================================================================================================================================================================================================================================================================================================================================================================================================================================================================================================================================================================================================================================================================================================================================================================================================================================================================================================================================================================================================================================================================================================================================================================================================================================================================================================================================================================================================================================================================================================================================================================================================================================================================================================================================================================================================================================================================================================================================================================================================================================================================================================================================================================================================================================================================================================================================================================================================================================================================================================================================================================================================================================================================================================================================================================================================================================================================================================================================================================================================================================================================================================================================================================================================================================================================================================================================================================================================================================================================================================================================================================================================================================================================================================================================================================================================================================================================================================================================================================================================================================================================================================================================================================================================================================================================================================================================================================================================================================================================================================================================================================================================================================================================================================================================================================================================================================================================================================================================================================================================================================================================================================================================================================================================================================================================================================================================================================================================================================================================================================================================================================================================================================================================================================================================================================================================================================================================================================================================================================================================================================================================================================================================================================================================================================================================================================================================================================================================================================================================================================================================================================================================================================================================================================================================================================================================================================================================================================================================================================================================================================================================================================================================================================================================================================================================================================================================================================================================================================================================================================================================================================================================================================================================================================================================================================================================================================================================================================================================================================================================================================================================================================================================================================================================================================================================================================================================================================================================================================================================================================================================================================================================================================================================================================================================================================================================================================================================================================================================================================================================================================================================================================================================================================================================================================================================================================================================================================================================================================================================================================================================================================================================================================================================================================================================================================================================================================================================================================================================================================================================================================================================================================================================================================================================================================================================================================================================================================================================================================================================================================================================================================================================================================================================================================================================================================================================================================================================================================================================================================================================================================================================================================================================================================================================================================================================================================================================================================================================================================================================================================================================================================================================================================================================================================================================================================================================================================================================================================================================================================================================================================================================================================================================================================================================================================================================================================================================================================================================================================================================================================================================================================================================================================================================================================================================================================================================================================================================================================================================================================================================================================================================================================================================================================================================================================================================================================================================================================================================================================================================================================================================================================================================================================================================================================================================================================================================================================================================================================================================================================================================================================================================================================================================================================================================================================================================================================================================================================================================================================================================================================================================================================================================================================================================================================================================================================================================================================================================================================================================================================================================================================================================================================================================================================================================================================================================================================================================================================================================================================================================================================================================================================================================================================================================================================================================================================================================================================================================================================================================================================================================================================================================================================================================================================================================================================================================================================================================================================================================================================================================================================================================================================================================================================================================================================================================================================================================================================================================================================================================================================================================================================================================================================================================================================================================================================================================================================================================================================================================================================================================================================================================================================================================================================================================================================================================================================================================================================================================================================================================================================================================================================================================================================================================================================================================================================================================================================================================================================================================================================================================================================================================================================================================================================================================================================================================================================================================================================================================================================================================================================================================================================================================================================================================================================================================================================================================================================================================================================================================================================================================================================================================================================================================================================================================================================================================================================================================================================================================================================================================================================================================================================================================================================================================================================================================================================================================================================================================================================================================================================================================================================================================================================================================================================================================================================================================================================================================================================================================================================================================================================================================================================================================================================================================================================================================================================================================================================================================================================================================================================================================================================================================================================================================================================================================================================================================================================================================================================================================================================================================================================================================================================================================================================================================================================================================================================================================================================================================================================================================================================================================================================================================================================================================================================================================================================================================================================================================================================================================================================================================================================================================================================================================================================================================================================================================================================================================================================================================================================================================================================================================================================================================================================================================================================================================================================================================================================================================================================================================================================================================================================================================================================================================================================================================================================================================================================================================================================================================================================================================================================================================================================================================================================================================================================================================================================================================================================================================================================================================================================================================================================================================================================================================================================================================================================================================================================================================================================================================================================================================================================================================================================================================================================================================================================================================================================================================================================================================================================================================================================================================================================================================================================================================================================================================================================================================================================================================================================================================================================================================================================================================================================================================================================================================================================================================================================================================================================================================================================================================================================================================================================================================================================================================================================================================================================================================================================================================================================================================================================================================================================================================================================================================================================================================================================================================================================================================================================================================================================================================================================================================================================================================================================================================================================================================================================================================================================================================================================================================================================================================================================================================================================================================================================================================================================================================================================================================================================================================================================================================================================================================================================================================================================================================================================================================================================================================================================================================================================================================================================================================================================================================================================================================================================================================================================================================================================================================================================================================================================================================================================================================================================================================================================================================================================================================================================================================================================================================================================================================================================================================================================================================================================================================================================================================================================================================================================================================================================================================================================================================================================================================================================================================================================================================================================================================================================================================================================================================================================================================================================================================================================================================================================================================================================================================================================================================================================================================================================================================================================================================================================================================================================================================================================================================================================================================================================================================================================================================================================================================================================================================================================================================================================================================================================================================================================================================================================================================================================================================================================================================================================================================================================================================================================================================================================================================================================================================================================================================================================================================================================================================================================================================================================================================================================================================================================================================================================================================================================================================================================================================================================================================================================================================================================================================================================================================================================================================================================================================================================================================================================================================================================================================================================================================================================================================================================================================================================================================================================================================================================================================================================================================================================================================================================================================================================================================================================================================================================================================================================================================================================================================================================================================================================================================================================================================================================================================================================================================================================================================================================================================================================================================================================================================================================================================================================================================================================================================================================================================================================================================================================================================================================================================================================================================================================================================================================================================================================================================================================================================================================================================================================================================================================================================================================================================================================================================================================================================================================================================================================================================================================================================================================================================================================================================================================================================================================================================================================================================================================================================================================================================================================================================================================================================================================================================================================================================================================================================================================================================================================================================================================================================================================================================================================================================================================================================================================================================================================================================================================================================================================================================================================================================================================================================================================================================================================================================================================================================================================================================================================================================================================================================================================================================================================================================================================================================================================================================================================================================================================================================================================================================================================================================================================================================================================================================================================================================================================================================================================================================================================================================================================================================================================================================================================================================================================================================================================================================================================================================================================================================================================================================================================================================================================================================================================================================================================================================================================================================================================================================================================================================================================================================================================================================================================================================================================================================================================================================================================================================================================================================================================================================================================================================================================================================================================================================================================================================================================================================================================================================================================================================================================================================================================================================================================================================================================================================================================================================================================================================================================================================================================================================================================================================================================================================================================================================================================================================================================================================================================================================================================================================================================================================================================================================================================================================================================================================================================================================================================================================================================================================================================================================================================================================================================================================================================================================================================================================================================================================================================================================================================================================================================================================================================================================================================================================================================================================================================================================================================================================================================================================================================================================================================================================================================================================================================================================================================================================================================================================================================================================================================================================================================================================================================================================================================================================================================================================================================================================================================================================================================================================================================================================================================================================================================================================================================================================================================================================================================================================================================================================================================================================================================================================================================================================================================================================================================================================================================================================================================================================================================================================================================================================================================================================================================================================================================================================================================================================================================================================================================================================================================================================================================================================================================================================================================================================================================================================================================================================================================================================================================================================================================================================================================================================================================================================================================================================================================================================================================================================================================================================================================================================================================================================================================================================================================================================================================================================================================================================================================================================================================================================================================================================================================================================================================================================================================================================================================================================================================================================================================================================================================================================================================================================================================================================================================================================================================================================================================================================================================================================================================================================================================================================================================================================================================================================================================================================================================================================================================================================================================================================================================================================================================================================================================================================================================================================================================================================================================================================================================================================================================================================================================================================================================================================================================================================================================================================================================================================================================================================================================================================================================================================================================================================================================================================================================================================================================================================================================================================================================================================================================================================================================================================================================================================================================================================================================================================================================================================================================================================================================================================================================================================================================================================================================================================================================================================================================================================================================================================================================================================================================================================================================================================================================================================================================================================================================================================================================================================================================================================================================================================================================================================================================================================================================================================================================================================================================================================================================================================================================================================================================================================================================================================================================================================================================================================================================================================================================================================================================================================================================================================================================================================================================================================================================================================================================================================================================================================================================================================================================================================================================================================================================================================================================================================================================================================================================================================================================================================================================================================================================================================================================================================================================================================================================================================================================================================================================================================================================================================================================================================================================================================================================================================================================================================================================================================================================================================================================================================================================================================================================================================================================================================================================================================================================================================================================================================================================================================================================================================================================================================================================================================================================================================================================================================================================================================================================================================================================================================================================================================================================================================================================================================================================================================================================================================================================================================================================================================================================================================================================================================================================================================================================================================================================================================================================================================================================================================================================================================================================================================================================================================================================================================================================================================================================================================================================================================================================================================================================================================================================================================================================================================================================================================================================================================================================================================================================================================================================================================================================================================================================================================================================================================================================================================================================================================================================================================================================================================================================================================================================================================================================================================================================================================================================================================================================================================================================================================================================================================================================================================================================================================================================================================================================================================================================================================================================================================================================================================================================================================================================================================================================================================================================================================================================================================================================================================================================================================================================================================================================================================================================================================================================================================================================================================================================================================================================================================================================================================================================================================================================================================================================================================================================================================================================================================================================================================================================================================================================================================================================================================================================================================================================================================================================================================================================================================================================================================================================================================================================================================================================================================================================================================================================================================================================================================================================================================================================================================================================================================================================================================================================================================================================================================================================================================================================================================================================================================================================================================================================================================================================================================================================================================================================================================================================================================================================================================================================================================================================================================================================================================================================================================================================================================================================================================================================================================================================================================================================================================================================================================================================================================================================================================================================================================================================================================================================================================================================================================================================================================================================================================================================================================================================================================================================================================================================================================================================================================================================================================================================================================================================================================================================================================================================================================================================================================================================================================================================================================================================================================================================================================================================================================================================================================================================================================================================================================================================================================================================================================================================================================================================================================================================================================================================================================================================================================================================================================================================================================================================================================================================================================================================================================================================================================================================================================================================================================================================================================================================================================================================================================================================================================================================================================================================================================================================================================================================================================================================================================================================================================================================================================================================================================================================================================================================================================================================================================================================================================================================================================================================================================================================================================================================================================================================================================================================================================================================================================================================================================================================================================================================================================================================================================================================================================================================================================================================================================================================================================================================================================================================================================================================================================================================================================================================================================================================================================================================================================================================================================================================================================================================================================================================================================================================================================================================================================================================================================================================================================================================================================================================================================================================================================================================================================================================================================================================================================================================================================================================================================================================================================================================================================================================================================================================================================================================================================================================================================================================================================================================================================================================================================================================================================================================================================================================================================================================================================================================================================================================================================================================================================================================================================================================================================================================================================================================================================================================================================================================================================================================================================================================================================================================================================================================================================================================================================================================================================================================================================================================================================================================================================================================================================================================================================================================================================================================================================================================================================================================================================================================================================================================================================================================================================================================================================================================================================================================================================================================================================================================================================================================================================================================================================================]"
     ]
    },
    {
     "name": "stdout",
     "output_type": "stream",
     "text": [
      " - 1s 36us/sample - loss: 2.3753e-04 - mean_squared_error: 2.8741e-04\n"
     ]
    },
    {
     "data": {
      "text/plain": [
       "[0.00028740597008179654, 0.0002874059]"
      ]
     },
     "execution_count": 32,
     "metadata": {},
     "output_type": "execute_result"
    }
   ],
   "source": [
    "hypermodel.evaluate(X_scale, Y_scale)"
   ]
  },
  {
   "cell_type": "code",
   "execution_count": 37,
   "metadata": {},
   "outputs": [
    {
     "data": {
      "text/plain": [
       "{'loss': [0.16191140412459323,\n",
       "  0.09565688519638715,\n",
       "  0.0573138672783713,\n",
       "  0.03365775189700836,\n",
       "  0.01828433660874111,\n",
       "  0.009499922644114927,\n",
       "  0.004997044733135758,\n",
       "  0.0027535574530028967,\n",
       "  0.001608134167555681,\n",
       "  0.0010157899145249625,\n",
       "  0.0007171593615817467,\n",
       "  0.0005637822294113094,\n",
       "  0.0004766441436176701,\n",
       "  0.0004241141298814809,\n",
       "  0.0003875830130523496,\n",
       "  0.00036543289043176853,\n",
       "  0.00034960536872742496,\n",
       "  0.00033882441150611043,\n",
       "  0.0003285033748385248,\n",
       "  0.0003210040998595177,\n",
       "  0.00031977535948112196,\n",
       "  0.0003113552091109879,\n",
       "  0.0003134976786554865,\n",
       "  0.0003106447753607647,\n",
       "  0.00030866886115275247,\n",
       "  0.00030516049929388565,\n",
       "  0.0003069152288254879,\n",
       "  0.0003063296203728714,\n",
       "  0.0003017177619885937,\n",
       "  0.0003002467816216214,\n",
       "  0.00030058788955388883,\n",
       "  0.0003017465686377228,\n",
       "  0.0002973807287107586,\n",
       "  0.0003027969589666383,\n",
       "  0.00030088479466902277,\n",
       "  0.00029971035007245606,\n",
       "  0.0002960759003394506,\n",
       "  0.00029989975722100596,\n",
       "  0.00029855745862669936,\n",
       "  0.0002958594044351428],\n",
       " 'mean_squared_error': [0.16191144,\n",
       "  0.09565688,\n",
       "  0.057313878,\n",
       "  0.03365773,\n",
       "  0.018284341,\n",
       "  0.009499923,\n",
       "  0.0049970457,\n",
       "  0.0027535562,\n",
       "  0.0016081352,\n",
       "  0.0010157898,\n",
       "  0.0007171593,\n",
       "  0.00056378235,\n",
       "  0.00047664405,\n",
       "  0.0004241142,\n",
       "  0.00038758304,\n",
       "  0.0003654328,\n",
       "  0.00034960549,\n",
       "  0.00033882432,\n",
       "  0.00032850343,\n",
       "  0.00032100413,\n",
       "  0.00031977537,\n",
       "  0.00031135525,\n",
       "  0.00031349767,\n",
       "  0.0003106449,\n",
       "  0.00030866894,\n",
       "  0.00030516044,\n",
       "  0.00030691517,\n",
       "  0.00030632957,\n",
       "  0.0003017178,\n",
       "  0.00030024681,\n",
       "  0.00030058785,\n",
       "  0.0003017465,\n",
       "  0.0002973808,\n",
       "  0.00030279692,\n",
       "  0.00030088477,\n",
       "  0.00029971026,\n",
       "  0.00029607583,\n",
       "  0.0002998998,\n",
       "  0.00029855745,\n",
       "  0.0002958594],\n",
       " 'val_loss': [0.1256932834550446,\n",
       "  0.07218968636849347,\n",
       "  0.04382496504222645,\n",
       "  0.02463697540993784,\n",
       "  0.012989980438176323,\n",
       "  0.006757706274077588,\n",
       "  0.0036384499777911924,\n",
       "  0.00206337893235625,\n",
       "  0.001236992858752024,\n",
       "  0.0008167980691673709,\n",
       "  0.0006125236529509957,\n",
       "  0.0004958608536981046,\n",
       "  0.00043841762109842223,\n",
       "  0.00039510818499633495,\n",
       "  0.0003588551710651932,\n",
       "  0.00033876449625263466,\n",
       "  0.00032704091222281114,\n",
       "  0.00031472299772990393,\n",
       "  0.0003057789853682705,\n",
       "  0.0003108318145706446,\n",
       "  0.00030381592422011583,\n",
       "  0.00029417503449390186,\n",
       "  0.00032549972054731174,\n",
       "  0.00029022771598059024,\n",
       "  0.0002952490467806438,\n",
       "  0.0002919345320540243,\n",
       "  0.0002883516420044151,\n",
       "  0.0002934996703155704,\n",
       "  0.00028991406922703426,\n",
       "  0.00028628119189913075,\n",
       "  0.00027908541209648784,\n",
       "  0.00028263464261887264,\n",
       "  0.00028346340087534607,\n",
       "  0.00028032613297303516,\n",
       "  0.00027902150131743766,\n",
       "  0.00028083567409410926,\n",
       "  0.00029242935300549016,\n",
       "  0.00030616168231776387,\n",
       "  0.0002828966439975535,\n",
       "  0.0002799917964091269],\n",
       " 'val_mean_squared_error': [0.12569332,\n",
       "  0.072189674,\n",
       "  0.043824967,\n",
       "  0.024636975,\n",
       "  0.012989979,\n",
       "  0.006757705,\n",
       "  0.00363845,\n",
       "  0.0020633794,\n",
       "  0.0012369928,\n",
       "  0.0008167982,\n",
       "  0.00061252364,\n",
       "  0.0004958608,\n",
       "  0.0004384177,\n",
       "  0.00039510822,\n",
       "  0.00035885518,\n",
       "  0.00033876448,\n",
       "  0.0003270409,\n",
       "  0.000314723,\n",
       "  0.00030577902,\n",
       "  0.00031083182,\n",
       "  0.00030381593,\n",
       "  0.0002941751,\n",
       "  0.00032549977,\n",
       "  0.00029022773,\n",
       "  0.00029524905,\n",
       "  0.00029193453,\n",
       "  0.00028835167,\n",
       "  0.00029349967,\n",
       "  0.00028991402,\n",
       "  0.0002862812,\n",
       "  0.0002790854,\n",
       "  0.00028263466,\n",
       "  0.0002834634,\n",
       "  0.00028032612,\n",
       "  0.00027902145,\n",
       "  0.00028083567,\n",
       "  0.00029242932,\n",
       "  0.00030616167,\n",
       "  0.00028289665,\n",
       "  0.0002799918]}"
      ]
     },
     "execution_count": 37,
     "metadata": {},
     "output_type": "execute_result"
    }
   ],
   "source": [
    "hypermodel_hist.history"
   ]
  },
  {
   "cell_type": "code",
   "execution_count": 49,
   "metadata": {},
   "outputs": [],
   "source": [
    "def build_model(N_channels, file_path):\n",
    "    X, Y = processing_data(N_channels, file_path)\n",
    "    X_train, X_val_and_test, Y_train, Y_val_and_test = train_test_split(X, Y, test_size=0.3)\n",
    "    X_val, X_test, Y_val, Y_test = train_test_split(X_val_and_test, Y_val_and_test, test_size=0.5)\n",
    "    model = Sequential()\n",
    "#     kernel_regularizer=regularizers.l2(0.00001)  - ADD THIS AT SOME POINT\n",
    "    model.add(Dense(80, activation='relu', kernel_regularizer=regularizers.l1(0.000001), input_dim=N_channels+1))\n",
    "    model.add(Dense(80, activation='relu', kernel_regularizer=regularizers.l1(0.000001)))\n",
    "    model.add(Dense(N_channels, activation='sigmoid', kernel_regularizer=regularizers.l1(0.000001)))\n",
    "    # learning_rate=0.1 causes zig-zags, learning_rate=0.0001 is far too slow\n",
    "#     opt = keras.optimizers.Adam(learning_rate=0.001) - doesn't allow model to be saved as h5 model for some reason\n",
    "    opt = 'adam'\n",
    "    model.compile(optimizer=opt, loss='mean_squared_error', metrics=['mean_squared_error'])\n",
    "    # fit as we are fitting the parameters to the data\n",
    "    # verbose shows how much info is shown during model fitting\n",
    "    # shuffle by default set to true so this is for visual purposes\n",
    "    start_time = time.time()\n",
    "    hist = model.fit(X_train, Y_train, validation_data=(X_val, Y_val), epochs=40, shuffle=True, verbose=1, batch_size=N_channels+1)\n",
    "    training_time = time.time() - start_time\n",
    "    print(\"Training Time: %s\" % (training_time))\n",
    "    return hist, model, X_train, Y_train, X_val, Y_val, X_test, Y_test"
   ]
  },
  {
   "cell_type": "code",
   "execution_count": 50,
   "metadata": {},
   "outputs": [
    {
     "name": "stdout",
     "output_type": "stream",
     "text": [
      "Train on 14000 samples, validate on 3000 samples\n",
      "Epoch 1/40\n",
      "14000/14000 [==============================] - ETA: 3:26 - loss: 0.1997 - mean_squared_error: 0.19 - ETA: 13s - loss: 0.1933 - mean_squared_error: 0.1920 - ETA: 7s - loss: 0.1882 - mean_squared_error: 0.186 - ETA: 5s - loss: 0.1825 - mean_squared_error: 0.18 - ETA: 4s - loss: 0.1740 - mean_squared_error: 0.17 - ETA: 3s - loss: 0.1636 - mean_squared_error: 0.16 - ETA: 2s - loss: 0.1544 - mean_squared_error: 0.15 - ETA: 2s - loss: 0.1459 - mean_squared_error: 0.14 - ETA: 1s - loss: 0.1387 - mean_squared_error: 0.13 - ETA: 1s - loss: 0.1328 - mean_squared_error: 0.13 - ETA: 1s - loss: 0.1271 - mean_squared_error: 0.12 - ETA: 1s - loss: 0.1219 - mean_squared_error: 0.12 - ETA: 0s - loss: 0.1170 - mean_squared_error: 0.11 - ETA: 0s - loss: 0.1126 - mean_squared_error: 0.11 - ETA: 0s - loss: 0.1082 - mean_squared_error: 0.10 - ETA: 0s - loss: 0.1041 - mean_squared_error: 0.10 - ETA: 0s - loss: 0.1001 - mean_squared_error: 0.09 - ETA: 0s - loss: 0.0962 - mean_squared_error: 0.09 - ETA: 0s - loss: 0.0930 - mean_squared_error: 0.09 - ETA: 0s - loss: 0.0898 - mean_squared_error: 0.08 - ETA: 0s - loss: 0.0868 - mean_squared_error: 0.08 - ETA: 0s - loss: 0.0840 - mean_squared_error: 0.08 - 2s 141us/step - loss: 0.0833 - mean_squared_error: 0.0818 - val_loss: 0.0254 - val_mean_squared_error: 0.0237\n",
      "Epoch 2/40\n",
      "14000/14000 [==============================] - ETA: 1s - loss: 0.0251 - mean_squared_error: 0.02 - ETA: 1s - loss: 0.0238 - mean_squared_error: 0.02 - ETA: 1s - loss: 0.0229 - mean_squared_error: 0.02 - ETA: 0s - loss: 0.0219 - mean_squared_error: 0.02 - ETA: 0s - loss: 0.0211 - mean_squared_error: 0.01 - ETA: 0s - loss: 0.0204 - mean_squared_error: 0.01 - ETA: 0s - loss: 0.0194 - mean_squared_error: 0.01 - ETA: 0s - loss: 0.0186 - mean_squared_error: 0.01 - ETA: 0s - loss: 0.0179 - mean_squared_error: 0.01 - ETA: 0s - loss: 0.0172 - mean_squared_error: 0.01 - ETA: 0s - loss: 0.0166 - mean_squared_error: 0.01 - ETA: 0s - loss: 0.0160 - mean_squared_error: 0.01 - ETA: 0s - loss: 0.0154 - mean_squared_error: 0.01 - ETA: 0s - loss: 0.0149 - mean_squared_error: 0.01 - ETA: 0s - loss: 0.0144 - mean_squared_error: 0.01 - ETA: 0s - loss: 0.0140 - mean_squared_error: 0.01 - ETA: 0s - loss: 0.0136 - mean_squared_error: 0.01 - ETA: 0s - loss: 0.0132 - mean_squared_error: 0.01 - ETA: 0s - loss: 0.0128 - mean_squared_error: 0.01 - ETA: 0s - loss: 0.0124 - mean_squared_error: 0.01 - ETA: 0s - loss: 0.0121 - mean_squared_error: 0.01 - 1s 83us/step - loss: 0.0118 - mean_squared_error: 0.0100 - val_loss: 0.0054 - val_mean_squared_error: 0.0035\n",
      "Epoch 3/40\n",
      "14000/14000 [==============================] - ETA: 1s - loss: 0.0050 - mean_squared_error: 0.00 - ETA: 1s - loss: 0.0054 - mean_squared_error: 0.00 - ETA: 0s - loss: 0.0053 - mean_squared_error: 0.00 - ETA: 0s - loss: 0.0052 - mean_squared_error: 0.00 - ETA: 0s - loss: 0.0050 - mean_squared_error: 0.00 - ETA: 0s - loss: 0.0050 - mean_squared_error: 0.00 - ETA: 0s - loss: 0.0049 - mean_squared_error: 0.00 - ETA: 0s - loss: 0.0048 - mean_squared_error: 0.00 - ETA: 0s - loss: 0.0048 - mean_squared_error: 0.00 - ETA: 0s - loss: 0.0047 - mean_squared_error: 0.00 - ETA: 0s - loss: 0.0047 - mean_squared_error: 0.00 - ETA: 0s - loss: 0.0046 - mean_squared_error: 0.00 - ETA: 0s - loss: 0.0045 - mean_squared_error: 0.00 - ETA: 0s - loss: 0.0045 - mean_squared_error: 0.00 - ETA: 0s - loss: 0.0044 - mean_squared_error: 0.00 - ETA: 0s - loss: 0.0044 - mean_squared_error: 0.00 - ETA: 0s - loss: 0.0043 - mean_squared_error: 0.00 - ETA: 0s - loss: 0.0043 - mean_squared_error: 0.00 - ETA: 0s - loss: 0.0042 - mean_squared_error: 0.00 - ETA: 0s - loss: 0.0042 - mean_squared_error: 0.00 - ETA: 0s - loss: 0.0041 - mean_squared_error: 0.00 - ETA: 0s - loss: 0.0041 - mean_squared_error: 0.00 - 1s 86us/step - loss: 0.0041 - mean_squared_error: 0.0021 - val_loss: 0.0033 - val_mean_squared_error: 0.0013\n",
      "Epoch 4/40\n",
      "14000/14000 [==============================] - ETA: 1s - loss: 0.0032 - mean_squared_error: 0.00 - ETA: 1s - loss: 0.0032 - mean_squared_error: 0.00 - ETA: 1s - loss: 0.0031 - mean_squared_error: 0.00 - ETA: 1s - loss: 0.0031 - mean_squared_error: 0.00 - ETA: 1s - loss: 0.0031 - mean_squared_error: 0.00 - ETA: 0s - loss: 0.0031 - mean_squared_error: 0.00 - ETA: 0s - loss: 0.0030 - mean_squared_error: 0.00 - ETA: 0s - loss: 0.0030 - mean_squared_error: 0.00 - ETA: 0s - loss: 0.0030 - mean_squared_error: 0.00 - ETA: 0s - loss: 0.0030 - mean_squared_error: 0.00 - ETA: 0s - loss: 0.0030 - mean_squared_error: 0.00 - ETA: 0s - loss: 0.0030 - mean_squared_error: 0.00 - ETA: 0s - loss: 0.0030 - mean_squared_error: 9.9429e- - ETA: 0s - loss: 0.0030 - mean_squared_error: 9.8323e- - ETA: 0s - loss: 0.0029 - mean_squared_error: 9.7560e- - ETA: 0s - loss: 0.0029 - mean_squared_error: 9.6376e- - ETA: 0s - loss: 0.0029 - mean_squared_error: 9.5513e- - ETA: 0s - loss: 0.0029 - mean_squared_error: 9.4056e- - ETA: 0s - loss: 0.0029 - mean_squared_error: 9.2519e- - ETA: 0s - loss: 0.0029 - mean_squared_error: 9.1420e- - ETA: 0s - loss: 0.0029 - mean_squared_error: 9.0887e- - ETA: 0s - loss: 0.0029 - mean_squared_error: 9.0691e- - 1s 85us/step - loss: 0.0029 - mean_squared_error: 9.0699e-04 - val_loss: 0.0028 - val_mean_squared_error: 8.5888e-04\n",
      "Epoch 5/40\n",
      "14000/14000 [==============================] - ETA: 1s - loss: 0.0029 - mean_squared_error: 9.1679e- - ETA: 0s - loss: 0.0028 - mean_squared_error: 8.5107e- - ETA: 0s - loss: 0.0027 - mean_squared_error: 7.4777e- - ETA: 0s - loss: 0.0027 - mean_squared_error: 7.4620e- - ETA: 0s - loss: 0.0027 - mean_squared_error: 7.3736e- - ETA: 0s - loss: 0.0027 - mean_squared_error: 7.2598e- - ETA: 0s - loss: 0.0027 - mean_squared_error: 7.2794e- - ETA: 0s - loss: 0.0028 - mean_squared_error: 7.9834e- - ETA: 0s - loss: 0.0028 - mean_squared_error: 8.2201e- - ETA: 0s - loss: 0.0028 - mean_squared_error: 8.0271e- - ETA: 0s - loss: 0.0028 - mean_squared_error: 7.8603e- - ETA: 0s - loss: 0.0028 - mean_squared_error: 7.7192e- - ETA: 0s - loss: 0.0027 - mean_squared_error: 7.5946e- - ETA: 0s - loss: 0.0027 - mean_squared_error: 7.4749e- - ETA: 0s - loss: 0.0027 - mean_squared_error: 7.4128e- - ETA: 0s - loss: 0.0027 - mean_squared_error: 7.3340e- - ETA: 0s - loss: 0.0027 - mean_squared_error: 7.2388e- - ETA: 0s - loss: 0.0027 - mean_squared_error: 7.2514e- - ETA: 0s - loss: 0.0027 - mean_squared_error: 7.2168e- - ETA: 0s - loss: 0.0027 - mean_squared_error: 7.1410e- - ETA: 0s - loss: 0.0027 - mean_squared_error: 7.1327e- - 1s 82us/step - loss: 0.0027 - mean_squared_error: 7.1541e-04 - val_loss: 0.0030 - val_mean_squared_error: 9.8581e-04\n",
      "Epoch 6/40\n",
      "14000/14000 [==============================] - ETA: 1s - loss: 0.0029 - mean_squared_error: 9.0808e- - ETA: 1s - loss: 0.0027 - mean_squared_error: 7.0031e- - ETA: 0s - loss: 0.0026 - mean_squared_error: 6.4432e- - ETA: 0s - loss: 0.0026 - mean_squared_error: 6.2359e- - ETA: 0s - loss: 0.0026 - mean_squared_error: 6.2934e- - ETA: 0s - loss: 0.0026 - mean_squared_error: 6.2299e- - ETA: 0s - loss: 0.0026 - mean_squared_error: 6.1233e- - ETA: 0s - loss: 0.0026 - mean_squared_error: 6.1934e- - ETA: 0s - loss: 0.0026 - mean_squared_error: 6.3261e- - ETA: 0s - loss: 0.0026 - mean_squared_error: 6.5684e- - ETA: 0s - loss: 0.0026 - mean_squared_error: 6.5869e- - ETA: 0s - loss: 0.0026 - mean_squared_error: 6.5183e- - ETA: 0s - loss: 0.0026 - mean_squared_error: 6.4263e- - ETA: 0s - loss: 0.0026 - mean_squared_error: 6.3786e- - ETA: 0s - loss: 0.0026 - mean_squared_error: 6.3901e- - ETA: 0s - loss: 0.0026 - mean_squared_error: 6.4724e- - ETA: 0s - loss: 0.0026 - mean_squared_error: 6.5828e- - ETA: 0s - loss: 0.0027 - mean_squared_error: 6.6332e- - ETA: 0s - loss: 0.0026 - mean_squared_error: 6.5772e- - ETA: 0s - loss: 0.0026 - mean_squared_error: 6.5036e- - ETA: 0s - loss: 0.0026 - mean_squared_error: 6.4340e- - ETA: 0s - loss: 0.0026 - mean_squared_error: 6.3902e- - 1s 85us/step - loss: 0.0026 - mean_squared_error: 6.4095e-04 - val_loss: 0.0028 - val_mean_squared_error: 7.6661e-04\n",
      "Epoch 7/40\n"
     ]
    },
    {
     "name": "stdout",
     "output_type": "stream",
     "text": [
      "14000/14000 [==============================] - ETA: 1s - loss: 0.0030 - mean_squared_error: 9.9773e- - ETA: 1s - loss: 0.0026 - mean_squared_error: 6.5768e- - ETA: 1s - loss: 0.0027 - mean_squared_error: 7.3371e- - ETA: 1s - loss: 0.0027 - mean_squared_error: 7.2069e- - ETA: 0s - loss: 0.0027 - mean_squared_error: 6.8802e- - ETA: 0s - loss: 0.0028 - mean_squared_error: 8.0339e- - ETA: 0s - loss: 0.0028 - mean_squared_error: 8.5849e- - ETA: 0s - loss: 0.0028 - mean_squared_error: 8.3349e- - ETA: 0s - loss: 0.0028 - mean_squared_error: 8.0152e- - ETA: 0s - loss: 0.0028 - mean_squared_error: 7.6552e- - ETA: 0s - loss: 0.0027 - mean_squared_error: 7.4536e- - ETA: 0s - loss: 0.0027 - mean_squared_error: 7.2231e- - ETA: 0s - loss: 0.0027 - mean_squared_error: 7.0591e- - ETA: 0s - loss: 0.0027 - mean_squared_error: 7.1336e- - ETA: 0s - loss: 0.0027 - mean_squared_error: 7.1532e- - ETA: 0s - loss: 0.0027 - mean_squared_error: 7.0420e- - ETA: 0s - loss: 0.0027 - mean_squared_error: 6.9199e- - ETA: 0s - loss: 0.0027 - mean_squared_error: 6.8154e- - ETA: 0s - loss: 0.0027 - mean_squared_error: 6.7343e- - ETA: 0s - loss: 0.0027 - mean_squared_error: 6.6971e- - ETA: 0s - loss: 0.0027 - mean_squared_error: 6.6352e- - ETA: 0s - loss: 0.0026 - mean_squared_error: 6.5724e- - 1s 89us/step - loss: 0.0026 - mean_squared_error: 6.5142e-04 - val_loss: 0.0024 - val_mean_squared_error: 4.6290e-04\n",
      "Epoch 8/40\n",
      "14000/14000 [==============================] - ETA: 1s - loss: 0.0025 - mean_squared_error: 5.1804e- - ETA: 1s - loss: 0.0026 - mean_squared_error: 5.6742e- - ETA: 1s - loss: 0.0025 - mean_squared_error: 5.5935e- - ETA: 1s - loss: 0.0025 - mean_squared_error: 5.4424e- - ETA: 0s - loss: 0.0026 - mean_squared_error: 5.9093e- - ETA: 0s - loss: 0.0026 - mean_squared_error: 6.0041e- - ETA: 0s - loss: 0.0026 - mean_squared_error: 6.0038e- - ETA: 0s - loss: 0.0026 - mean_squared_error: 6.0203e- - ETA: 0s - loss: 0.0026 - mean_squared_error: 6.1175e- - ETA: 0s - loss: 0.0026 - mean_squared_error: 6.0797e- - ETA: 0s - loss: 0.0026 - mean_squared_error: 5.9706e- - ETA: 0s - loss: 0.0026 - mean_squared_error: 5.8976e- - ETA: 0s - loss: 0.0026 - mean_squared_error: 5.8393e- - ETA: 0s - loss: 0.0026 - mean_squared_error: 5.8223e- - ETA: 0s - loss: 0.0026 - mean_squared_error: 5.7769e- - ETA: 0s - loss: 0.0026 - mean_squared_error: 5.7762e- - ETA: 0s - loss: 0.0026 - mean_squared_error: 5.7407e- - ETA: 0s - loss: 0.0026 - mean_squared_error: 5.6925e- - ETA: 0s - loss: 0.0026 - mean_squared_error: 5.6875e- - ETA: 0s - loss: 0.0026 - mean_squared_error: 5.7206e- - ETA: 0s - loss: 0.0026 - mean_squared_error: 5.6991e- - ETA: 0s - loss: 0.0026 - mean_squared_error: 5.6522e- - ETA: 0s - loss: 0.0025 - mean_squared_error: 5.5731e- - ETA: 0s - loss: 0.0025 - mean_squared_error: 5.5392e- - 1s 94us/step - loss: 0.0025 - mean_squared_error: 5.5374e-04 - val_loss: 0.0024 - val_mean_squared_error: 4.4196e-04\n",
      "Epoch 9/40\n",
      "14000/14000 [==============================] - ETA: 1s - loss: 0.0027 - mean_squared_error: 7.0769e- - ETA: 1s - loss: 0.0025 - mean_squared_error: 4.7915e- - ETA: 1s - loss: 0.0025 - mean_squared_error: 4.7228e- - ETA: 1s - loss: 0.0025 - mean_squared_error: 5.2745e- - ETA: 0s - loss: 0.0025 - mean_squared_error: 5.4693e- - ETA: 0s - loss: 0.0025 - mean_squared_error: 5.4204e- - ETA: 0s - loss: 0.0025 - mean_squared_error: 5.2539e- - ETA: 0s - loss: 0.0025 - mean_squared_error: 5.2042e- - ETA: 0s - loss: 0.0025 - mean_squared_error: 5.3005e- - ETA: 0s - loss: 0.0025 - mean_squared_error: 5.2668e- - ETA: 0s - loss: 0.0025 - mean_squared_error: 5.1511e- - ETA: 0s - loss: 0.0025 - mean_squared_error: 5.2002e- - ETA: 0s - loss: 0.0025 - mean_squared_error: 5.2028e- - ETA: 0s - loss: 0.0025 - mean_squared_error: 5.2547e- - ETA: 0s - loss: 0.0025 - mean_squared_error: 5.2231e- - ETA: 0s - loss: 0.0025 - mean_squared_error: 5.2359e- - ETA: 0s - loss: 0.0025 - mean_squared_error: 5.2650e- - ETA: 0s - loss: 0.0025 - mean_squared_error: 5.2298e- - ETA: 0s - loss: 0.0025 - mean_squared_error: 5.2263e- - ETA: 0s - loss: 0.0025 - mean_squared_error: 5.2189e- - ETA: 0s - loss: 0.0025 - mean_squared_error: 5.2122e- - ETA: 0s - loss: 0.0025 - mean_squared_error: 5.2125e- - 1s 88us/step - loss: 0.0025 - mean_squared_error: 5.2624e-04 - val_loss: 0.0025 - val_mean_squared_error: 4.9711e-04\n",
      "Epoch 10/40\n",
      "14000/14000 [==============================] - ETA: 1s - loss: 0.0026 - mean_squared_error: 5.9381e- - ETA: 1s - loss: 0.0025 - mean_squared_error: 5.2961e- - ETA: 1s - loss: 0.0025 - mean_squared_error: 5.3640e- - ETA: 0s - loss: 0.0025 - mean_squared_error: 5.4075e- - ETA: 0s - loss: 0.0025 - mean_squared_error: 5.1168e- - ETA: 0s - loss: 0.0025 - mean_squared_error: 5.0134e- - ETA: 0s - loss: 0.0025 - mean_squared_error: 5.0420e- - ETA: 0s - loss: 0.0025 - mean_squared_error: 5.4297e- - ETA: 0s - loss: 0.0025 - mean_squared_error: 5.3070e- - ETA: 0s - loss: 0.0025 - mean_squared_error: 5.2943e- - ETA: 0s - loss: 0.0025 - mean_squared_error: 5.2500e- - ETA: 0s - loss: 0.0025 - mean_squared_error: 5.2632e- - ETA: 0s - loss: 0.0025 - mean_squared_error: 5.3861e- - ETA: 0s - loss: 0.0025 - mean_squared_error: 5.3663e- - ETA: 0s - loss: 0.0025 - mean_squared_error: 5.3723e- - ETA: 0s - loss: 0.0025 - mean_squared_error: 5.3258e- - ETA: 0s - loss: 0.0025 - mean_squared_error: 5.2851e- - ETA: 0s - loss: 0.0025 - mean_squared_error: 5.2809e- - ETA: 0s - loss: 0.0025 - mean_squared_error: 5.2872e- - ETA: 0s - loss: 0.0025 - mean_squared_error: 5.2632e- - ETA: 0s - loss: 0.0025 - mean_squared_error: 5.2308e- - ETA: 0s - loss: 0.0025 - mean_squared_error: 5.2244e- - ETA: 0s - loss: 0.0025 - mean_squared_error: 5.1980e- - 1s 89us/step - loss: 0.0025 - mean_squared_error: 5.1882e-04 - val_loss: 0.0024 - val_mean_squared_error: 4.1959e-04\n",
      "Epoch 11/40\n",
      "14000/14000 [==============================] - ETA: 1s - loss: 0.0025 - mean_squared_error: 5.5214e- - ETA: 1s - loss: 0.0024 - mean_squared_error: 4.7360e- - ETA: 1s - loss: 0.0025 - mean_squared_error: 5.4420e- - ETA: 0s - loss: 0.0025 - mean_squared_error: 5.7445e- - ETA: 0s - loss: 0.0025 - mean_squared_error: 5.4727e- - ETA: 0s - loss: 0.0025 - mean_squared_error: 5.3133e- - ETA: 0s - loss: 0.0025 - mean_squared_error: 5.5425e- - ETA: 0s - loss: 0.0025 - mean_squared_error: 5.5295e- - ETA: 0s - loss: 0.0026 - mean_squared_error: 6.0964e- - ETA: 0s - loss: 0.0026 - mean_squared_error: 6.2224e- - ETA: 0s - loss: 0.0026 - mean_squared_error: 6.0682e- - ETA: 0s - loss: 0.0026 - mean_squared_error: 5.9474e- - ETA: 0s - loss: 0.0026 - mean_squared_error: 5.8246e- - ETA: 0s - loss: 0.0025 - mean_squared_error: 5.7125e- - ETA: 0s - loss: 0.0025 - mean_squared_error: 5.6511e- - ETA: 0s - loss: 0.0025 - mean_squared_error: 5.7503e- - ETA: 0s - loss: 0.0026 - mean_squared_error: 5.7980e- - ETA: 0s - loss: 0.0026 - mean_squared_error: 5.9020e- - ETA: 0s - loss: 0.0026 - mean_squared_error: 5.8678e- - ETA: 0s - loss: 0.0026 - mean_squared_error: 5.8555e- - ETA: 0s - loss: 0.0026 - mean_squared_error: 5.7803e- - ETA: 0s - loss: 0.0025 - mean_squared_error: 5.7502e- - 1s 87us/step - loss: 0.0025 - mean_squared_error: 5.7603e-04 - val_loss: 0.0024 - val_mean_squared_error: 4.2987e-04\n",
      "Epoch 12/40\n"
     ]
    },
    {
     "name": "stdout",
     "output_type": "stream",
     "text": [
      "14000/14000 [==============================] - ETA: 1s - loss: 0.0024 - mean_squared_error: 4.2656e- - ETA: 1s - loss: 0.0024 - mean_squared_error: 4.6982e- - ETA: 1s - loss: 0.0025 - mean_squared_error: 4.8929e- - ETA: 1s - loss: 0.0025 - mean_squared_error: 4.8553e- - ETA: 0s - loss: 0.0025 - mean_squared_error: 4.8906e- - ETA: 0s - loss: 0.0025 - mean_squared_error: 4.8365e- - ETA: 0s - loss: 0.0024 - mean_squared_error: 4.7028e- - ETA: 0s - loss: 0.0024 - mean_squared_error: 4.6942e- - ETA: 0s - loss: 0.0024 - mean_squared_error: 4.7873e- - ETA: 0s - loss: 0.0025 - mean_squared_error: 4.8588e- - ETA: 0s - loss: 0.0024 - mean_squared_error: 4.8065e- - ETA: 0s - loss: 0.0024 - mean_squared_error: 4.7798e- - ETA: 0s - loss: 0.0024 - mean_squared_error: 4.7824e- - ETA: 0s - loss: 0.0024 - mean_squared_error: 4.7519e- - ETA: 0s - loss: 0.0024 - mean_squared_error: 4.6974e- - ETA: 0s - loss: 0.0024 - mean_squared_error: 4.6994e- - ETA: 0s - loss: 0.0024 - mean_squared_error: 4.7000e- - ETA: 0s - loss: 0.0024 - mean_squared_error: 4.6970e- - ETA: 0s - loss: 0.0024 - mean_squared_error: 4.7006e- - ETA: 0s - loss: 0.0024 - mean_squared_error: 4.7006e- - ETA: 0s - loss: 0.0024 - mean_squared_error: 4.6993e- - ETA: 0s - loss: 0.0024 - mean_squared_error: 4.6991e- - ETA: 0s - loss: 0.0024 - mean_squared_error: 4.7101e- - 1s 90us/step - loss: 0.0024 - mean_squared_error: 4.7176e-04 - val_loss: 0.0025 - val_mean_squared_error: 4.9443e-04\n",
      "Epoch 13/40\n",
      "14000/14000 [==============================] - ETA: 1s - loss: 0.0025 - mean_squared_error: 4.9609e- - ETA: 1s - loss: 0.0024 - mean_squared_error: 4.2389e- - ETA: 1s - loss: 0.0024 - mean_squared_error: 4.6812e- - ETA: 0s - loss: 0.0024 - mean_squared_error: 4.7144e- - ETA: 0s - loss: 0.0024 - mean_squared_error: 4.8643e- - ETA: 0s - loss: 0.0024 - mean_squared_error: 4.8734e- - ETA: 0s - loss: 0.0025 - mean_squared_error: 4.9965e- - ETA: 0s - loss: 0.0025 - mean_squared_error: 4.9139e- - ETA: 0s - loss: 0.0025 - mean_squared_error: 5.0897e- - ETA: 0s - loss: 0.0026 - mean_squared_error: 6.0398e- - ETA: 0s - loss: 0.0026 - mean_squared_error: 6.3848e- - ETA: 0s - loss: 0.0026 - mean_squared_error: 6.3249e- - ETA: 0s - loss: 0.0026 - mean_squared_error: 6.1942e- - ETA: 0s - loss: 0.0026 - mean_squared_error: 6.1392e- - ETA: 0s - loss: 0.0026 - mean_squared_error: 6.0636e- - ETA: 0s - loss: 0.0026 - mean_squared_error: 6.0383e- - ETA: 0s - loss: 0.0026 - mean_squared_error: 5.9138e- - ETA: 0s - loss: 0.0025 - mean_squared_error: 5.8363e- - ETA: 0s - loss: 0.0025 - mean_squared_error: 5.7726e- - ETA: 0s - loss: 0.0025 - mean_squared_error: 5.7072e- - ETA: 0s - loss: 0.0025 - mean_squared_error: 5.6438e- - ETA: 0s - loss: 0.0025 - mean_squared_error: 5.5638e- - 1s 87us/step - loss: 0.0025 - mean_squared_error: 5.5472e-04 - val_loss: 0.0023 - val_mean_squared_error: 3.8677e-04\n",
      "Epoch 14/40\n",
      "14000/14000 [==============================] - ETA: 1s - loss: 0.0026 - mean_squared_error: 6.0475e- - ETA: 1s - loss: 0.0024 - mean_squared_error: 4.7537e- - ETA: 1s - loss: 0.0025 - mean_squared_error: 5.0152e- - ETA: 0s - loss: 0.0025 - mean_squared_error: 5.1655e- - ETA: 0s - loss: 0.0025 - mean_squared_error: 5.3501e- - ETA: 0s - loss: 0.0025 - mean_squared_error: 5.4124e- - ETA: 0s - loss: 0.0025 - mean_squared_error: 5.2319e- - ETA: 0s - loss: 0.0025 - mean_squared_error: 5.0182e- - ETA: 0s - loss: 0.0024 - mean_squared_error: 4.9400e- - ETA: 0s - loss: 0.0024 - mean_squared_error: 4.8723e- - ETA: 0s - loss: 0.0024 - mean_squared_error: 4.8279e- - ETA: 0s - loss: 0.0024 - mean_squared_error: 4.8029e- - ETA: 0s - loss: 0.0024 - mean_squared_error: 4.7769e- - ETA: 0s - loss: 0.0024 - mean_squared_error: 4.9123e- - ETA: 0s - loss: 0.0024 - mean_squared_error: 4.8599e- - ETA: 0s - loss: 0.0024 - mean_squared_error: 4.8427e- - ETA: 0s - loss: 0.0024 - mean_squared_error: 4.8727e- - ETA: 0s - loss: 0.0024 - mean_squared_error: 4.8910e- - ETA: 0s - loss: 0.0024 - mean_squared_error: 4.9074e- - ETA: 0s - loss: 0.0025 - mean_squared_error: 5.0776e- - ETA: 0s - loss: 0.0025 - mean_squared_error: 5.0936e- - ETA: 0s - loss: 0.0025 - mean_squared_error: 5.0668e- - 1s 86us/step - loss: 0.0025 - mean_squared_error: 5.0646e-04 - val_loss: 0.0026 - val_mean_squared_error: 6.2805e-04\n",
      "Epoch 15/40\n",
      "14000/14000 [==============================] - ETA: 1s - loss: 0.0025 - mean_squared_error: 5.6688e- - ETA: 1s - loss: 0.0025 - mean_squared_error: 5.3287e- - ETA: 0s - loss: 0.0024 - mean_squared_error: 5.0070e- - ETA: 0s - loss: 0.0025 - mean_squared_error: 5.0322e- - ETA: 0s - loss: 0.0024 - mean_squared_error: 4.8668e- - ETA: 0s - loss: 0.0024 - mean_squared_error: 4.6879e- - ETA: 0s - loss: 0.0024 - mean_squared_error: 4.6286e- - ETA: 0s - loss: 0.0024 - mean_squared_error: 4.6392e- - ETA: 0s - loss: 0.0024 - mean_squared_error: 4.7926e- - ETA: 0s - loss: 0.0024 - mean_squared_error: 4.7930e- - ETA: 0s - loss: 0.0024 - mean_squared_error: 4.7525e- - ETA: 0s - loss: 0.0024 - mean_squared_error: 4.7625e- - ETA: 0s - loss: 0.0024 - mean_squared_error: 4.7624e- - ETA: 0s - loss: 0.0024 - mean_squared_error: 5.0119e- - ETA: 0s - loss: 0.0025 - mean_squared_error: 5.1344e- - ETA: 0s - loss: 0.0025 - mean_squared_error: 5.1394e- - ETA: 0s - loss: 0.0025 - mean_squared_error: 5.1576e- - ETA: 0s - loss: 0.0025 - mean_squared_error: 5.1079e- - ETA: 0s - loss: 0.0025 - mean_squared_error: 5.1364e- - ETA: 0s - loss: 0.0025 - mean_squared_error: 5.1247e- - ETA: 0s - loss: 0.0025 - mean_squared_error: 5.0815e- - ETA: 0s - loss: 0.0024 - mean_squared_error: 5.0380e- - 1s 86us/step - loss: 0.0024 - mean_squared_error: 5.0272e-04 - val_loss: 0.0023 - val_mean_squared_error: 3.8950e-04\n",
      "Epoch 16/40\n",
      "14000/14000 [==============================] - ETA: 1s - loss: 0.0022 - mean_squared_error: 2.6852e- - ETA: 1s - loss: 0.0024 - mean_squared_error: 4.4004e- - ETA: 0s - loss: 0.0024 - mean_squared_error: 4.3055e- - ETA: 0s - loss: 0.0024 - mean_squared_error: 4.4846e- - ETA: 0s - loss: 0.0024 - mean_squared_error: 4.4578e- - ETA: 0s - loss: 0.0024 - mean_squared_error: 4.6376e- - ETA: 0s - loss: 0.0024 - mean_squared_error: 4.5631e- - ETA: 0s - loss: 0.0024 - mean_squared_error: 4.4939e- - ETA: 0s - loss: 0.0024 - mean_squared_error: 4.4291e- - ETA: 0s - loss: 0.0024 - mean_squared_error: 4.4174e- - ETA: 0s - loss: 0.0024 - mean_squared_error: 4.4968e- - ETA: 0s - loss: 0.0024 - mean_squared_error: 4.4784e- - ETA: 0s - loss: 0.0024 - mean_squared_error: 4.4451e- - ETA: 0s - loss: 0.0024 - mean_squared_error: 4.4426e- - ETA: 0s - loss: 0.0024 - mean_squared_error: 4.4420e- - ETA: 0s - loss: 0.0024 - mean_squared_error: 4.4613e- - ETA: 0s - loss: 0.0024 - mean_squared_error: 4.4381e- - ETA: 0s - loss: 0.0024 - mean_squared_error: 4.4222e- - ETA: 0s - loss: 0.0024 - mean_squared_error: 4.4130e- - ETA: 0s - loss: 0.0024 - mean_squared_error: 4.3992e- - ETA: 0s - loss: 0.0024 - mean_squared_error: 4.3885e- - ETA: 0s - loss: 0.0024 - mean_squared_error: 4.4109e- - 1s 85us/step - loss: 0.0024 - mean_squared_error: 4.4104e-04 - val_loss: 0.0024 - val_mean_squared_error: 4.7086e-04\n",
      "Epoch 17/40\n"
     ]
    },
    {
     "name": "stdout",
     "output_type": "stream",
     "text": [
      "14000/14000 [==============================] - ETA: 1s - loss: 0.0024 - mean_squared_error: 5.1009e- - ETA: 1s - loss: 0.0025 - mean_squared_error: 5.1577e- - ETA: 1s - loss: 0.0025 - mean_squared_error: 5.2084e- - ETA: 0s - loss: 0.0025 - mean_squared_error: 6.1045e- - ETA: 0s - loss: 0.0025 - mean_squared_error: 5.7305e- - ETA: 0s - loss: 0.0025 - mean_squared_error: 5.6784e- - ETA: 0s - loss: 0.0025 - mean_squared_error: 5.5980e- - ETA: 0s - loss: 0.0025 - mean_squared_error: 5.5008e- - ETA: 0s - loss: 0.0025 - mean_squared_error: 5.4069e- - ETA: 0s - loss: 0.0025 - mean_squared_error: 5.2676e- - ETA: 0s - loss: 0.0025 - mean_squared_error: 5.2205e- - ETA: 0s - loss: 0.0024 - mean_squared_error: 5.0989e- - ETA: 0s - loss: 0.0024 - mean_squared_error: 5.0976e- - ETA: 0s - loss: 0.0024 - mean_squared_error: 5.0851e- - ETA: 0s - loss: 0.0025 - mean_squared_error: 5.3711e- - ETA: 0s - loss: 0.0025 - mean_squared_error: 5.4727e- - ETA: 0s - loss: 0.0025 - mean_squared_error: 5.4230e- - ETA: 0s - loss: 0.0025 - mean_squared_error: 5.4073e- - ETA: 0s - loss: 0.0025 - mean_squared_error: 5.4139e- - ETA: 0s - loss: 0.0025 - mean_squared_error: 5.4138e- - ETA: 0s - loss: 0.0025 - mean_squared_error: 5.3293e- - ETA: 0s - loss: 0.0025 - mean_squared_error: 5.2780e- - 1s 87us/step - loss: 0.0025 - mean_squared_error: 5.2296e-04 - val_loss: 0.0024 - val_mean_squared_error: 4.9906e-04\n",
      "Epoch 18/40\n",
      "14000/14000 [==============================] - ETA: 1s - loss: 0.0023 - mean_squared_error: 4.2127e- - ETA: 1s - loss: 0.0026 - mean_squared_error: 7.0356e- - ETA: 1s - loss: 0.0026 - mean_squared_error: 6.8580e- - ETA: 0s - loss: 0.0026 - mean_squared_error: 6.6611e- - ETA: 0s - loss: 0.0025 - mean_squared_error: 6.0691e- - ETA: 0s - loss: 0.0025 - mean_squared_error: 5.7061e- - ETA: 0s - loss: 0.0025 - mean_squared_error: 5.4983e- - ETA: 0s - loss: 0.0025 - mean_squared_error: 5.5325e- - ETA: 0s - loss: 0.0025 - mean_squared_error: 5.5498e- - ETA: 0s - loss: 0.0025 - mean_squared_error: 5.4948e- - ETA: 0s - loss: 0.0025 - mean_squared_error: 5.4511e- - ETA: 0s - loss: 0.0025 - mean_squared_error: 5.3981e- - ETA: 0s - loss: 0.0025 - mean_squared_error: 5.2979e- - ETA: 0s - loss: 0.0024 - mean_squared_error: 5.2155e- - ETA: 0s - loss: 0.0024 - mean_squared_error: 5.1438e- - ETA: 0s - loss: 0.0024 - mean_squared_error: 5.1739e- - ETA: 0s - loss: 0.0024 - mean_squared_error: 5.0936e- - ETA: 0s - loss: 0.0024 - mean_squared_error: 5.0581e- - ETA: 0s - loss: 0.0024 - mean_squared_error: 5.0591e- - ETA: 0s - loss: 0.0024 - mean_squared_error: 5.0685e- - ETA: 0s - loss: 0.0024 - mean_squared_error: 5.0416e- - 1s 84us/step - loss: 0.0024 - mean_squared_error: 4.9868e-04 - val_loss: 0.0023 - val_mean_squared_error: 3.9206e-04\n",
      "Epoch 19/40\n",
      "14000/14000 [==============================] - ETA: 1s - loss: 0.0022 - mean_squared_error: 3.1966e- - ETA: 1s - loss: 0.0023 - mean_squared_error: 4.2139e- - ETA: 0s - loss: 0.0024 - mean_squared_error: 4.5173e- - ETA: 0s - loss: 0.0024 - mean_squared_error: 4.4928e- - ETA: 0s - loss: 0.0024 - mean_squared_error: 4.5951e- - ETA: 0s - loss: 0.0024 - mean_squared_error: 4.5364e- - ETA: 0s - loss: 0.0024 - mean_squared_error: 4.5027e- - ETA: 0s - loss: 0.0024 - mean_squared_error: 4.6097e- - ETA: 0s - loss: 0.0024 - mean_squared_error: 4.6936e- - ETA: 0s - loss: 0.0024 - mean_squared_error: 4.6838e- - ETA: 0s - loss: 0.0024 - mean_squared_error: 4.6127e- - ETA: 0s - loss: 0.0024 - mean_squared_error: 4.5716e- - ETA: 0s - loss: 0.0024 - mean_squared_error: 4.5797e- - ETA: 0s - loss: 0.0024 - mean_squared_error: 4.5336e- - ETA: 0s - loss: 0.0024 - mean_squared_error: 4.5173e- - ETA: 0s - loss: 0.0024 - mean_squared_error: 4.5703e- - ETA: 0s - loss: 0.0024 - mean_squared_error: 4.5609e- - ETA: 0s - loss: 0.0024 - mean_squared_error: 4.5655e- - ETA: 0s - loss: 0.0024 - mean_squared_error: 4.5480e- - ETA: 0s - loss: 0.0024 - mean_squared_error: 4.5454e- - ETA: 0s - loss: 0.0024 - mean_squared_error: 4.6270e- - ETA: 0s - loss: 0.0024 - mean_squared_error: 4.7143e- - 1s 85us/step - loss: 0.0024 - mean_squared_error: 4.7206e-04 - val_loss: 0.0023 - val_mean_squared_error: 4.0551e-04\n",
      "Epoch 20/40\n",
      "14000/14000 [==============================] - ETA: 1s - loss: 0.0023 - mean_squared_error: 4.2898e- - ETA: 1s - loss: 0.0024 - mean_squared_error: 4.9157e- - ETA: 1s - loss: 0.0024 - mean_squared_error: 4.4954e- - ETA: 0s - loss: 0.0024 - mean_squared_error: 4.5405e- - ETA: 0s - loss: 0.0024 - mean_squared_error: 4.5572e- - ETA: 0s - loss: 0.0024 - mean_squared_error: 4.8800e- - ETA: 0s - loss: 0.0024 - mean_squared_error: 4.9675e- - ETA: 0s - loss: 0.0024 - mean_squared_error: 5.2986e- - ETA: 0s - loss: 0.0024 - mean_squared_error: 5.3078e- - ETA: 0s - loss: 0.0024 - mean_squared_error: 5.2022e- - ETA: 0s - loss: 0.0024 - mean_squared_error: 5.0774e- - ETA: 0s - loss: 0.0024 - mean_squared_error: 4.9792e- - ETA: 0s - loss: 0.0024 - mean_squared_error: 4.8951e- - ETA: 0s - loss: 0.0024 - mean_squared_error: 4.8505e- - ETA: 0s - loss: 0.0024 - mean_squared_error: 4.7921e- - ETA: 0s - loss: 0.0024 - mean_squared_error: 4.7778e- - ETA: 0s - loss: 0.0024 - mean_squared_error: 4.7303e- - ETA: 0s - loss: 0.0024 - mean_squared_error: 4.6898e- - ETA: 0s - loss: 0.0024 - mean_squared_error: 4.6417e- - ETA: 0s - loss: 0.0024 - mean_squared_error: 4.6209e- - ETA: 0s - loss: 0.0024 - mean_squared_error: 4.6128e- - ETA: 0s - loss: 0.0024 - mean_squared_error: 4.6898e- - 1s 87us/step - loss: 0.0024 - mean_squared_error: 4.6924e-04 - val_loss: 0.0023 - val_mean_squared_error: 3.8769e-04\n",
      "Epoch 21/40\n",
      "14000/14000 [==============================] - ETA: 1s - loss: 0.0023 - mean_squared_error: 3.6382e- - ETA: 1s - loss: 0.0023 - mean_squared_error: 4.2967e- - ETA: 1s - loss: 0.0024 - mean_squared_error: 4.8886e- - ETA: 0s - loss: 0.0024 - mean_squared_error: 4.7695e- - ETA: 0s - loss: 0.0024 - mean_squared_error: 4.7055e- - ETA: 0s - loss: 0.0024 - mean_squared_error: 4.7687e- - ETA: 0s - loss: 0.0024 - mean_squared_error: 4.8005e- - ETA: 0s - loss: 0.0024 - mean_squared_error: 4.6655e- - ETA: 0s - loss: 0.0024 - mean_squared_error: 4.6156e- - ETA: 0s - loss: 0.0024 - mean_squared_error: 4.5582e- - ETA: 0s - loss: 0.0024 - mean_squared_error: 4.5473e- - ETA: 0s - loss: 0.0024 - mean_squared_error: 4.7675e- - ETA: 0s - loss: 0.0024 - mean_squared_error: 4.7831e- - ETA: 0s - loss: 0.0024 - mean_squared_error: 4.7491e- - ETA: 0s - loss: 0.0024 - mean_squared_error: 4.7126e- - ETA: 0s - loss: 0.0024 - mean_squared_error: 4.7173e- - ETA: 0s - loss: 0.0024 - mean_squared_error: 4.7170e- - ETA: 0s - loss: 0.0024 - mean_squared_error: 4.7270e- - ETA: 0s - loss: 0.0024 - mean_squared_error: 4.7541e- - ETA: 0s - loss: 0.0024 - mean_squared_error: 4.7436e- - ETA: 0s - loss: 0.0024 - mean_squared_error: 4.7089e- - ETA: 0s - loss: 0.0024 - mean_squared_error: 4.6590e- - 1s 88us/step - loss: 0.0024 - mean_squared_error: 4.6541e-04 - val_loss: 0.0023 - val_mean_squared_error: 4.3819e-04\n",
      "Epoch 22/40\n"
     ]
    },
    {
     "name": "stdout",
     "output_type": "stream",
     "text": [
      "14000/14000 [==============================] - ETA: 1s - loss: 0.0023 - mean_squared_error: 4.2932e- - ETA: 1s - loss: 0.0023 - mean_squared_error: 4.0528e- - ETA: 0s - loss: 0.0023 - mean_squared_error: 4.2446e- - ETA: 0s - loss: 0.0023 - mean_squared_error: 4.1749e- - ETA: 0s - loss: 0.0024 - mean_squared_error: 4.6606e- - ETA: 0s - loss: 0.0024 - mean_squared_error: 5.1592e- - ETA: 0s - loss: 0.0024 - mean_squared_error: 5.0457e- - ETA: 0s - loss: 0.0024 - mean_squared_error: 4.9277e- - ETA: 0s - loss: 0.0024 - mean_squared_error: 4.8694e- - ETA: 0s - loss: 0.0024 - mean_squared_error: 4.9915e- - ETA: 0s - loss: 0.0024 - mean_squared_error: 5.0288e- - ETA: 0s - loss: 0.0024 - mean_squared_error: 5.0576e- - ETA: 0s - loss: 0.0024 - mean_squared_error: 5.1511e- - ETA: 0s - loss: 0.0024 - mean_squared_error: 5.2174e- - ETA: 0s - loss: 0.0024 - mean_squared_error: 5.1406e- - ETA: 0s - loss: 0.0024 - mean_squared_error: 5.1015e- - ETA: 0s - loss: 0.0024 - mean_squared_error: 5.0440e- - ETA: 0s - loss: 0.0024 - mean_squared_error: 4.9990e- - ETA: 0s - loss: 0.0024 - mean_squared_error: 4.9556e- - ETA: 0s - loss: 0.0024 - mean_squared_error: 4.9116e- - ETA: 0s - loss: 0.0024 - mean_squared_error: 4.8771e- - ETA: 0s - loss: 0.0024 - mean_squared_error: 4.8376e- - 1s 87us/step - loss: 0.0024 - mean_squared_error: 4.8220e-04 - val_loss: 0.0023 - val_mean_squared_error: 3.6620e-04\n",
      "Epoch 23/40\n",
      "14000/14000 [==============================] - ETA: 1s - loss: 0.0022 - mean_squared_error: 3.1595e- - ETA: 1s - loss: 0.0023 - mean_squared_error: 4.1554e- - ETA: 1s - loss: 0.0023 - mean_squared_error: 4.0881e- - ETA: 0s - loss: 0.0023 - mean_squared_error: 4.1555e- - ETA: 0s - loss: 0.0023 - mean_squared_error: 4.3078e- - ETA: 0s - loss: 0.0023 - mean_squared_error: 4.3455e- - ETA: 0s - loss: 0.0023 - mean_squared_error: 4.3116e- - ETA: 0s - loss: 0.0023 - mean_squared_error: 4.2606e- - ETA: 0s - loss: 0.0023 - mean_squared_error: 4.2258e- - ETA: 0s - loss: 0.0023 - mean_squared_error: 4.3035e- - ETA: 0s - loss: 0.0023 - mean_squared_error: 4.3378e- - ETA: 0s - loss: 0.0023 - mean_squared_error: 4.4277e- - ETA: 0s - loss: 0.0024 - mean_squared_error: 4.6058e- - ETA: 0s - loss: 0.0023 - mean_squared_error: 4.5929e- - ETA: 0s - loss: 0.0023 - mean_squared_error: 4.5918e- - ETA: 0s - loss: 0.0023 - mean_squared_error: 4.5815e- - ETA: 0s - loss: 0.0023 - mean_squared_error: 4.5949e- - ETA: 0s - loss: 0.0023 - mean_squared_error: 4.5998e- - ETA: 0s - loss: 0.0023 - mean_squared_error: 4.5555e- - ETA: 0s - loss: 0.0023 - mean_squared_error: 4.5767e- - ETA: 0s - loss: 0.0024 - mean_squared_error: 4.6269e- - ETA: 0s - loss: 0.0024 - mean_squared_error: 4.6584e- - 1s 85us/step - loss: 0.0024 - mean_squared_error: 4.6644e-04 - val_loss: 0.0024 - val_mean_squared_error: 4.8365e-04\n",
      "Epoch 24/40\n",
      "14000/14000 [==============================] - ETA: 2s - loss: 0.0023 - mean_squared_error: 4.0057e- - ETA: 1s - loss: 0.0023 - mean_squared_error: 4.4366e- - ETA: 1s - loss: 0.0023 - mean_squared_error: 4.4401e- - ETA: 1s - loss: 0.0023 - mean_squared_error: 4.3441e- - ETA: 0s - loss: 0.0023 - mean_squared_error: 4.4642e- - ETA: 0s - loss: 0.0023 - mean_squared_error: 4.3358e- - ETA: 0s - loss: 0.0023 - mean_squared_error: 4.3039e- - ETA: 0s - loss: 0.0023 - mean_squared_error: 4.2605e- - ETA: 0s - loss: 0.0023 - mean_squared_error: 4.3752e- - ETA: 0s - loss: 0.0023 - mean_squared_error: 4.4066e- - ETA: 0s - loss: 0.0023 - mean_squared_error: 4.3987e- - ETA: 0s - loss: 0.0023 - mean_squared_error: 4.3606e- - ETA: 0s - loss: 0.0023 - mean_squared_error: 4.3741e- - ETA: 0s - loss: 0.0023 - mean_squared_error: 4.3782e- - ETA: 0s - loss: 0.0023 - mean_squared_error: 4.3638e- - ETA: 0s - loss: 0.0023 - mean_squared_error: 4.3891e- - ETA: 0s - loss: 0.0023 - mean_squared_error: 4.5133e- - ETA: 0s - loss: 0.0023 - mean_squared_error: 4.4875e- - ETA: 0s - loss: 0.0023 - mean_squared_error: 4.5131e- - ETA: 0s - loss: 0.0023 - mean_squared_error: 4.5827e- - ETA: 0s - loss: 0.0023 - mean_squared_error: 4.6553e- - ETA: 0s - loss: 0.0023 - mean_squared_error: 4.6654e- - ETA: 0s - loss: 0.0024 - mean_squared_error: 4.6866e- - 1s 89us/step - loss: 0.0024 - mean_squared_error: 4.6800e-04 - val_loss: 0.0023 - val_mean_squared_error: 4.0447e-04\n",
      "Epoch 25/40\n",
      "14000/14000 [==============================] - ETA: 1s - loss: 0.0024 - mean_squared_error: 4.7572e- - ETA: 1s - loss: 0.0023 - mean_squared_error: 4.0821e- - ETA: 1s - loss: 0.0023 - mean_squared_error: 4.1953e- - ETA: 0s - loss: 0.0023 - mean_squared_error: 4.2359e- - ETA: 0s - loss: 0.0023 - mean_squared_error: 4.1481e- - ETA: 0s - loss: 0.0023 - mean_squared_error: 4.1118e- - ETA: 0s - loss: 0.0023 - mean_squared_error: 4.2111e- - ETA: 0s - loss: 0.0023 - mean_squared_error: 4.2547e- - ETA: 0s - loss: 0.0023 - mean_squared_error: 4.2526e- - ETA: 0s - loss: 0.0023 - mean_squared_error: 4.2628e- - ETA: 0s - loss: 0.0023 - mean_squared_error: 4.2652e- - ETA: 0s - loss: 0.0023 - mean_squared_error: 4.2457e- - ETA: 0s - loss: 0.0023 - mean_squared_error: 4.2223e- - ETA: 0s - loss: 0.0023 - mean_squared_error: 4.2907e- - ETA: 0s - loss: 0.0023 - mean_squared_error: 4.2450e- - ETA: 0s - loss: 0.0023 - mean_squared_error: 4.2374e- - ETA: 0s - loss: 0.0023 - mean_squared_error: 4.2366e- - ETA: 0s - loss: 0.0023 - mean_squared_error: 4.2870e- - ETA: 0s - loss: 0.0023 - mean_squared_error: 4.3453e- - ETA: 0s - loss: 0.0023 - mean_squared_error: 4.4505e- - ETA: 0s - loss: 0.0023 - mean_squared_error: 4.4587e- - ETA: 0s - loss: 0.0023 - mean_squared_error: 4.4438e- - 1s 85us/step - loss: 0.0023 - mean_squared_error: 4.4426e-04 - val_loss: 0.0022 - val_mean_squared_error: 3.7044e-04\n",
      "Epoch 26/40\n",
      "14000/14000 [==============================] - ETA: 1s - loss: 0.0025 - mean_squared_error: 6.2436e- - ETA: 1s - loss: 0.0023 - mean_squared_error: 4.1405e- - ETA: 1s - loss: 0.0023 - mean_squared_error: 4.5759e- - ETA: 0s - loss: 0.0024 - mean_squared_error: 4.8593e- - ETA: 0s - loss: 0.0023 - mean_squared_error: 4.7728e- - ETA: 0s - loss: 0.0024 - mean_squared_error: 4.8543e- - ETA: 0s - loss: 0.0024 - mean_squared_error: 5.4306e- - ETA: 0s - loss: 0.0024 - mean_squared_error: 5.4741e- - ETA: 0s - loss: 0.0024 - mean_squared_error: 5.4324e- - ETA: 0s - loss: 0.0024 - mean_squared_error: 5.3533e- - ETA: 0s - loss: 0.0024 - mean_squared_error: 5.2225e- - ETA: 0s - loss: 0.0024 - mean_squared_error: 5.0829e- - ETA: 0s - loss: 0.0024 - mean_squared_error: 5.0109e- - ETA: 0s - loss: 0.0024 - mean_squared_error: 4.9591e- - ETA: 0s - loss: 0.0024 - mean_squared_error: 4.9447e- - ETA: 0s - loss: 0.0024 - mean_squared_error: 4.9174e- - ETA: 0s - loss: 0.0024 - mean_squared_error: 5.1465e- - ETA: 0s - loss: 0.0024 - mean_squared_error: 5.2323e- - ETA: 0s - loss: 0.0024 - mean_squared_error: 5.2298e- - ETA: 0s - loss: 0.0024 - mean_squared_error: 5.1562e- - ETA: 0s - loss: 0.0024 - mean_squared_error: 5.1042e- - ETA: 0s - loss: 0.0024 - mean_squared_error: 5.0673e- - 1s 88us/step - loss: 0.0024 - mean_squared_error: 5.1865e-04 - val_loss: 0.0023 - val_mean_squared_error: 4.3409e-04\n",
      "Epoch 27/40\n"
     ]
    },
    {
     "name": "stdout",
     "output_type": "stream",
     "text": [
      "14000/14000 [==============================] - ETA: 1s - loss: 0.0023 - mean_squared_error: 4.4588e- - ETA: 1s - loss: 0.0023 - mean_squared_error: 4.6366e- - ETA: 1s - loss: 0.0023 - mean_squared_error: 4.4765e- - ETA: 1s - loss: 0.0023 - mean_squared_error: 4.4374e- - ETA: 0s - loss: 0.0023 - mean_squared_error: 4.5072e- - ETA: 0s - loss: 0.0023 - mean_squared_error: 4.5726e- - ETA: 0s - loss: 0.0023 - mean_squared_error: 4.7094e- - ETA: 0s - loss: 0.0023 - mean_squared_error: 4.6528e- - ETA: 0s - loss: 0.0023 - mean_squared_error: 4.7050e- - ETA: 0s - loss: 0.0023 - mean_squared_error: 4.7402e- - ETA: 0s - loss: 0.0023 - mean_squared_error: 4.7088e- - ETA: 0s - loss: 0.0023 - mean_squared_error: 4.6565e- - ETA: 0s - loss: 0.0023 - mean_squared_error: 4.5857e- - ETA: 0s - loss: 0.0023 - mean_squared_error: 4.5369e- - ETA: 0s - loss: 0.0023 - mean_squared_error: 4.5047e- - ETA: 0s - loss: 0.0023 - mean_squared_error: 4.4780e- - ETA: 0s - loss: 0.0023 - mean_squared_error: 4.4440e- - ETA: 0s - loss: 0.0023 - mean_squared_error: 4.4214e- - ETA: 0s - loss: 0.0023 - mean_squared_error: 4.4194e- - ETA: 0s - loss: 0.0023 - mean_squared_error: 4.4197e- - ETA: 0s - loss: 0.0023 - mean_squared_error: 4.3898e- - ETA: 0s - loss: 0.0023 - mean_squared_error: 4.4232e- - 1s 88us/step - loss: 0.0023 - mean_squared_error: 4.4535e-04 - val_loss: 0.0024 - val_mean_squared_error: 5.4970e-04\n",
      "Epoch 28/40\n",
      "14000/14000 [==============================] - ETA: 1s - loss: 0.0023 - mean_squared_error: 4.7849e- - ETA: 1s - loss: 0.0024 - mean_squared_error: 5.3454e- - ETA: 1s - loss: 0.0023 - mean_squared_error: 4.9277e- - ETA: 0s - loss: 0.0023 - mean_squared_error: 4.8583e- - ETA: 0s - loss: 0.0023 - mean_squared_error: 4.6743e- - ETA: 0s - loss: 0.0023 - mean_squared_error: 4.5645e- - ETA: 0s - loss: 0.0023 - mean_squared_error: 4.4579e- - ETA: 0s - loss: 0.0023 - mean_squared_error: 4.4143e- - ETA: 0s - loss: 0.0023 - mean_squared_error: 4.3752e- - ETA: 0s - loss: 0.0023 - mean_squared_error: 4.3363e- - ETA: 0s - loss: 0.0023 - mean_squared_error: 4.3955e- - ETA: 0s - loss: 0.0023 - mean_squared_error: 4.4692e- - ETA: 0s - loss: 0.0023 - mean_squared_error: 4.4985e- - ETA: 0s - loss: 0.0023 - mean_squared_error: 4.4979e- - ETA: 0s - loss: 0.0023 - mean_squared_error: 4.5288e- - ETA: 0s - loss: 0.0023 - mean_squared_error: 4.6273e- - ETA: 0s - loss: 0.0023 - mean_squared_error: 4.6756e- - ETA: 0s - loss: 0.0023 - mean_squared_error: 4.6628e- - ETA: 0s - loss: 0.0023 - mean_squared_error: 4.6382e- - ETA: 0s - loss: 0.0023 - mean_squared_error: 4.6072e- - ETA: 0s - loss: 0.0023 - mean_squared_error: 4.5564e- - ETA: 0s - loss: 0.0023 - mean_squared_error: 4.5592e- - 1s 86us/step - loss: 0.0023 - mean_squared_error: 4.5579e-04 - val_loss: 0.0023 - val_mean_squared_error: 4.9701e-04\n",
      "Epoch 29/40\n",
      "14000/14000 [==============================] - ETA: 1s - loss: 0.0023 - mean_squared_error: 4.6625e- - ETA: 1s - loss: 0.0023 - mean_squared_error: 4.7547e- - ETA: 1s - loss: 0.0023 - mean_squared_error: 4.5639e- - ETA: 1s - loss: 0.0023 - mean_squared_error: 4.4054e- - ETA: 1s - loss: 0.0023 - mean_squared_error: 4.3836e- - ETA: 0s - loss: 0.0023 - mean_squared_error: 4.3135e- - ETA: 0s - loss: 0.0023 - mean_squared_error: 4.2944e- - ETA: 0s - loss: 0.0023 - mean_squared_error: 4.2854e- - ETA: 0s - loss: 0.0023 - mean_squared_error: 4.4557e- - ETA: 0s - loss: 0.0023 - mean_squared_error: 4.8452e- - ETA: 0s - loss: 0.0024 - mean_squared_error: 5.0567e- - ETA: 0s - loss: 0.0024 - mean_squared_error: 5.0895e- - ETA: 0s - loss: 0.0023 - mean_squared_error: 4.9998e- - ETA: 0s - loss: 0.0023 - mean_squared_error: 4.9624e- - ETA: 0s - loss: 0.0024 - mean_squared_error: 5.0614e- - ETA: 0s - loss: 0.0023 - mean_squared_error: 4.9807e- - ETA: 0s - loss: 0.0023 - mean_squared_error: 4.9311e- - ETA: 0s - loss: 0.0023 - mean_squared_error: 4.9126e- - ETA: 0s - loss: 0.0023 - mean_squared_error: 4.9180e- - ETA: 0s - loss: 0.0023 - mean_squared_error: 5.0113e- - ETA: 0s - loss: 0.0023 - mean_squared_error: 4.9794e- - ETA: 0s - loss: 0.0023 - mean_squared_error: 4.9364e- - 1s 87us/step - loss: 0.0023 - mean_squared_error: 4.9144e-04 - val_loss: 0.0022 - val_mean_squared_error: 3.6948e-04\n",
      "Epoch 30/40\n",
      "14000/14000 [==============================] - ETA: 1s - loss: 0.0024 - mean_squared_error: 5.1606e- - ETA: 1s - loss: 0.0023 - mean_squared_error: 4.1212e- - ETA: 0s - loss: 0.0022 - mean_squared_error: 3.9790e- - ETA: 0s - loss: 0.0022 - mean_squared_error: 4.0629e- - ETA: 0s - loss: 0.0023 - mean_squared_error: 4.1685e- - ETA: 0s - loss: 0.0023 - mean_squared_error: 4.1251e- - ETA: 0s - loss: 0.0023 - mean_squared_error: 4.1331e- - ETA: 0s - loss: 0.0023 - mean_squared_error: 4.1819e- - ETA: 0s - loss: 0.0023 - mean_squared_error: 4.1515e- - ETA: 0s - loss: 0.0023 - mean_squared_error: 4.1231e- - ETA: 0s - loss: 0.0023 - mean_squared_error: 4.1561e- - ETA: 0s - loss: 0.0023 - mean_squared_error: 4.1488e- - ETA: 0s - loss: 0.0023 - mean_squared_error: 4.1287e- - ETA: 0s - loss: 0.0023 - mean_squared_error: 4.0992e- - ETA: 0s - loss: 0.0023 - mean_squared_error: 4.1196e- - ETA: 0s - loss: 0.0023 - mean_squared_error: 4.0898e- - ETA: 0s - loss: 0.0022 - mean_squared_error: 4.0598e- - ETA: 0s - loss: 0.0022 - mean_squared_error: 4.0686e- - ETA: 0s - loss: 0.0022 - mean_squared_error: 4.0806e- - ETA: 0s - loss: 0.0022 - mean_squared_error: 4.0889e- - ETA: 0s - loss: 0.0023 - mean_squared_error: 4.1494e- - ETA: 0s - loss: 0.0023 - mean_squared_error: 4.1677e- - 1s 86us/step - loss: 0.0023 - mean_squared_error: 4.1656e-04 - val_loss: 0.0022 - val_mean_squared_error: 3.7815e-04\n",
      "Epoch 31/40\n",
      "14000/14000 [==============================] - ETA: 1s - loss: 0.0021 - mean_squared_error: 2.7802e- - ETA: 1s - loss: 0.0023 - mean_squared_error: 4.5549e- - ETA: 1s - loss: 0.0023 - mean_squared_error: 4.2874e- - ETA: 0s - loss: 0.0023 - mean_squared_error: 4.3785e- - ETA: 0s - loss: 0.0023 - mean_squared_error: 4.3581e- - ETA: 0s - loss: 0.0023 - mean_squared_error: 4.5372e- - ETA: 0s - loss: 0.0023 - mean_squared_error: 4.5486e- - ETA: 0s - loss: 0.0023 - mean_squared_error: 4.4600e- - ETA: 0s - loss: 0.0023 - mean_squared_error: 4.4003e- - ETA: 0s - loss: 0.0023 - mean_squared_error: 4.4855e- - ETA: 0s - loss: 0.0023 - mean_squared_error: 4.5390e- - ETA: 0s - loss: 0.0023 - mean_squared_error: 4.7938e- - ETA: 0s - loss: 0.0023 - mean_squared_error: 5.0962e- - ETA: 0s - loss: 0.0023 - mean_squared_error: 5.1177e- - ETA: 0s - loss: 0.0023 - mean_squared_error: 5.0897e- - ETA: 0s - loss: 0.0023 - mean_squared_error: 5.0940e- - ETA: 0s - loss: 0.0023 - mean_squared_error: 5.0548e- - ETA: 0s - loss: 0.0023 - mean_squared_error: 5.0517e- - ETA: 0s - loss: 0.0023 - mean_squared_error: 5.0320e- - ETA: 0s - loss: 0.0023 - mean_squared_error: 4.9972e- - ETA: 0s - loss: 0.0023 - mean_squared_error: 4.9796e- - ETA: 0s - loss: 0.0023 - mean_squared_error: 4.9228e- - 1s 87us/step - loss: 0.0023 - mean_squared_error: 4.9200e-04 - val_loss: 0.0022 - val_mean_squared_error: 4.0375e-04\n",
      "Epoch 32/40\n"
     ]
    },
    {
     "name": "stdout",
     "output_type": "stream",
     "text": [
      "14000/14000 [==============================] - ETA: 1s - loss: 0.0022 - mean_squared_error: 3.9017e- - ETA: 1s - loss: 0.0022 - mean_squared_error: 4.0389e- - ETA: 1s - loss: 0.0022 - mean_squared_error: 4.1544e- - ETA: 1s - loss: 0.0023 - mean_squared_error: 4.2433e- - ETA: 0s - loss: 0.0022 - mean_squared_error: 4.0739e- - ETA: 0s - loss: 0.0022 - mean_squared_error: 3.9781e- - ETA: 0s - loss: 0.0022 - mean_squared_error: 4.1404e- - ETA: 0s - loss: 0.0022 - mean_squared_error: 4.1281e- - ETA: 0s - loss: 0.0022 - mean_squared_error: 4.0950e- - ETA: 0s - loss: 0.0022 - mean_squared_error: 4.1228e- - ETA: 0s - loss: 0.0023 - mean_squared_error: 4.2552e- - ETA: 0s - loss: 0.0023 - mean_squared_error: 4.3007e- - ETA: 0s - loss: 0.0023 - mean_squared_error: 4.3037e- - ETA: 0s - loss: 0.0023 - mean_squared_error: 4.3504e- - ETA: 0s - loss: 0.0023 - mean_squared_error: 4.3810e- - ETA: 0s - loss: 0.0023 - mean_squared_error: 4.3753e- - ETA: 0s - loss: 0.0023 - mean_squared_error: 4.3766e- - ETA: 0s - loss: 0.0023 - mean_squared_error: 4.3407e- - ETA: 0s - loss: 0.0023 - mean_squared_error: 4.3660e- - ETA: 0s - loss: 0.0023 - mean_squared_error: 4.4234e- - ETA: 0s - loss: 0.0023 - mean_squared_error: 4.4283e- - ETA: 0s - loss: 0.0023 - mean_squared_error: 4.4075e- - 1s 88us/step - loss: 0.0023 - mean_squared_error: 4.4101e-04 - val_loss: 0.0022 - val_mean_squared_error: 3.7935e-04\n",
      "Epoch 33/40\n",
      "14000/14000 [==============================] - ETA: 1s - loss: 0.0023 - mean_squared_error: 4.7247e- - ETA: 1s - loss: 0.0023 - mean_squared_error: 4.7342e- - ETA: 1s - loss: 0.0023 - mean_squared_error: 4.4113e- - ETA: 0s - loss: 0.0023 - mean_squared_error: 4.3546e- - ETA: 0s - loss: 0.0023 - mean_squared_error: 4.4081e- - ETA: 0s - loss: 0.0023 - mean_squared_error: 4.2790e- - ETA: 0s - loss: 0.0023 - mean_squared_error: 4.4277e- - ETA: 0s - loss: 0.0023 - mean_squared_error: 4.4775e- - ETA: 0s - loss: 0.0023 - mean_squared_error: 4.4239e- - ETA: 0s - loss: 0.0023 - mean_squared_error: 4.4023e- - ETA: 0s - loss: 0.0023 - mean_squared_error: 4.4328e- - ETA: 0s - loss: 0.0023 - mean_squared_error: 4.4120e- - ETA: 0s - loss: 0.0023 - mean_squared_error: 4.3937e- - ETA: 0s - loss: 0.0023 - mean_squared_error: 4.3864e- - ETA: 0s - loss: 0.0023 - mean_squared_error: 4.3618e- - ETA: 0s - loss: 0.0023 - mean_squared_error: 4.3175e- - ETA: 0s - loss: 0.0023 - mean_squared_error: 4.3057e- - ETA: 0s - loss: 0.0023 - mean_squared_error: 4.3180e- - ETA: 0s - loss: 0.0023 - mean_squared_error: 4.3121e- - ETA: 0s - loss: 0.0023 - mean_squared_error: 4.2993e- - ETA: 0s - loss: 0.0023 - mean_squared_error: 4.3486e- - ETA: 0s - loss: 0.0023 - mean_squared_error: 4.3244e- - 1s 87us/step - loss: 0.0023 - mean_squared_error: 4.3263e-04 - val_loss: 0.0023 - val_mean_squared_error: 5.0031e-04\n",
      "Epoch 34/40\n",
      "14000/14000 [==============================] - ETA: 1s - loss: 0.0023 - mean_squared_error: 4.3825e- - ETA: 1s - loss: 0.0022 - mean_squared_error: 4.1110e- - ETA: 0s - loss: 0.0022 - mean_squared_error: 4.2505e- - ETA: 0s - loss: 0.0023 - mean_squared_error: 4.4797e- - ETA: 0s - loss: 0.0023 - mean_squared_error: 4.5066e- - ETA: 0s - loss: 0.0023 - mean_squared_error: 4.4085e- - ETA: 0s - loss: 0.0023 - mean_squared_error: 4.3970e- - ETA: 0s - loss: 0.0023 - mean_squared_error: 4.3782e- - ETA: 0s - loss: 0.0023 - mean_squared_error: 4.3909e- - ETA: 0s - loss: 0.0023 - mean_squared_error: 5.0661e- - ETA: 0s - loss: 0.0024 - mean_squared_error: 5.6249e- - ETA: 0s - loss: 0.0024 - mean_squared_error: 5.6779e- - ETA: 0s - loss: 0.0024 - mean_squared_error: 5.5702e- - ETA: 0s - loss: 0.0024 - mean_squared_error: 5.4532e- - ETA: 0s - loss: 0.0024 - mean_squared_error: 5.3801e- - ETA: 0s - loss: 0.0023 - mean_squared_error: 5.2924e- - ETA: 0s - loss: 0.0023 - mean_squared_error: 5.2476e- - ETA: 0s - loss: 0.0023 - mean_squared_error: 5.2166e- - ETA: 0s - loss: 0.0023 - mean_squared_error: 5.1756e- - ETA: 0s - loss: 0.0023 - mean_squared_error: 5.1132e- - ETA: 0s - loss: 0.0023 - mean_squared_error: 5.0473e- - 1s 84us/step - loss: 0.0023 - mean_squared_error: 4.9948e-04 - val_loss: 0.0022 - val_mean_squared_error: 3.7484e-04\n",
      "Epoch 35/40\n",
      "14000/14000 [==============================] - ETA: 1s - loss: 0.0020 - mean_squared_error: 2.3892e- - ETA: 1s - loss: 0.0022 - mean_squared_error: 4.1589e- - ETA: 0s - loss: 0.0022 - mean_squared_error: 4.2989e- - ETA: 0s - loss: 0.0022 - mean_squared_error: 4.2447e- - ETA: 0s - loss: 0.0023 - mean_squared_error: 4.5011e- - ETA: 0s - loss: 0.0023 - mean_squared_error: 4.4609e- - ETA: 0s - loss: 0.0023 - mean_squared_error: 4.4200e- - ETA: 0s - loss: 0.0023 - mean_squared_error: 4.4360e- - ETA: 0s - loss: 0.0023 - mean_squared_error: 4.5347e- - ETA: 0s - loss: 0.0023 - mean_squared_error: 4.5657e- - ETA: 0s - loss: 0.0023 - mean_squared_error: 4.5803e- - ETA: 0s - loss: 0.0023 - mean_squared_error: 4.6328e- - ETA: 0s - loss: 0.0023 - mean_squared_error: 4.6417e- - ETA: 0s - loss: 0.0023 - mean_squared_error: 4.6260e- - ETA: 0s - loss: 0.0023 - mean_squared_error: 4.5897e- - ETA: 0s - loss: 0.0023 - mean_squared_error: 4.5177e- - ETA: 0s - loss: 0.0023 - mean_squared_error: 4.4747e- - ETA: 0s - loss: 0.0023 - mean_squared_error: 4.4721e- - ETA: 0s - loss: 0.0023 - mean_squared_error: 4.4713e- - ETA: 0s - loss: 0.0023 - mean_squared_error: 4.4626e- - ETA: 0s - loss: 0.0023 - mean_squared_error: 4.5237e- - ETA: 0s - loss: 0.0023 - mean_squared_error: 4.5361e- - 1s 85us/step - loss: 0.0023 - mean_squared_error: 4.5377e-04 - val_loss: 0.0024 - val_mean_squared_error: 5.7417e-04\n",
      "Epoch 36/40\n",
      "14000/14000 [==============================] - ETA: 1s - loss: 0.0025 - mean_squared_error: 6.5238e- - ETA: 1s - loss: 0.0023 - mean_squared_error: 5.3264e- - ETA: 0s - loss: 0.0023 - mean_squared_error: 4.9388e- - ETA: 0s - loss: 0.0023 - mean_squared_error: 4.7360e- - ETA: 0s - loss: 0.0023 - mean_squared_error: 4.7024e- - ETA: 0s - loss: 0.0023 - mean_squared_error: 4.6609e- - ETA: 0s - loss: 0.0023 - mean_squared_error: 4.5641e- - ETA: 0s - loss: 0.0023 - mean_squared_error: 4.4893e- - ETA: 0s - loss: 0.0023 - mean_squared_error: 4.4855e- - ETA: 0s - loss: 0.0022 - mean_squared_error: 4.4389e- - ETA: 0s - loss: 0.0023 - mean_squared_error: 4.5300e- - ETA: 0s - loss: 0.0023 - mean_squared_error: 4.4919e- - ETA: 0s - loss: 0.0023 - mean_squared_error: 4.4801e- - ETA: 0s - loss: 0.0022 - mean_squared_error: 4.4694e- - ETA: 0s - loss: 0.0022 - mean_squared_error: 4.4279e- - ETA: 0s - loss: 0.0022 - mean_squared_error: 4.4071e- - ETA: 0s - loss: 0.0022 - mean_squared_error: 4.4396e- - ETA: 0s - loss: 0.0022 - mean_squared_error: 4.4126e- - ETA: 0s - loss: 0.0022 - mean_squared_error: 4.3993e- - ETA: 0s - loss: 0.0022 - mean_squared_error: 4.4299e- - ETA: 0s - loss: 0.0023 - mean_squared_error: 4.4957e- - ETA: 0s - loss: 0.0023 - mean_squared_error: 4.5053e- - 1s 86us/step - loss: 0.0023 - mean_squared_error: 4.4933e-04 - val_loss: 0.0022 - val_mean_squared_error: 4.4160e-04\n",
      "Epoch 37/40\n"
     ]
    },
    {
     "name": "stdout",
     "output_type": "stream",
     "text": [
      "14000/14000 [==============================] - ETA: 1s - loss: 0.0024 - mean_squared_error: 5.7740e- - ETA: 1s - loss: 0.0023 - mean_squared_error: 4.6585e- - ETA: 1s - loss: 0.0023 - mean_squared_error: 4.5823e- - ETA: 1s - loss: 0.0023 - mean_squared_error: 4.5499e- - ETA: 0s - loss: 0.0022 - mean_squared_error: 4.4730e- - ETA: 0s - loss: 0.0023 - mean_squared_error: 4.5652e- - ETA: 0s - loss: 0.0023 - mean_squared_error: 4.5359e- - ETA: 0s - loss: 0.0022 - mean_squared_error: 4.4958e- - ETA: 0s - loss: 0.0022 - mean_squared_error: 4.4321e- - ETA: 0s - loss: 0.0022 - mean_squared_error: 4.4032e- - ETA: 0s - loss: 0.0022 - mean_squared_error: 4.4076e- - ETA: 0s - loss: 0.0022 - mean_squared_error: 4.4489e- - ETA: 0s - loss: 0.0022 - mean_squared_error: 4.4226e- - ETA: 0s - loss: 0.0022 - mean_squared_error: 4.4230e- - ETA: 0s - loss: 0.0022 - mean_squared_error: 4.4146e- - ETA: 0s - loss: 0.0022 - mean_squared_error: 4.3767e- - ETA: 0s - loss: 0.0022 - mean_squared_error: 4.3564e- - ETA: 0s - loss: 0.0022 - mean_squared_error: 4.3305e- - ETA: 0s - loss: 0.0022 - mean_squared_error: 4.3274e- - ETA: 0s - loss: 0.0022 - mean_squared_error: 4.3449e- - ETA: 0s - loss: 0.0022 - mean_squared_error: 4.3494e- - ETA: 0s - loss: 0.0022 - mean_squared_error: 4.3152e- - 1s 88us/step - loss: 0.0022 - mean_squared_error: 4.3266e-04 - val_loss: 0.0022 - val_mean_squared_error: 3.9835e-04\n",
      "Epoch 38/40\n",
      "14000/14000 [==============================] - ETA: 1s - loss: 0.0021 - mean_squared_error: 3.4614e- - ETA: 1s - loss: 0.0023 - mean_squared_error: 5.3610e- - ETA: 1s - loss: 0.0023 - mean_squared_error: 5.0027e- - ETA: 0s - loss: 0.0023 - mean_squared_error: 4.5998e- - ETA: 0s - loss: 0.0022 - mean_squared_error: 4.4461e- - ETA: 0s - loss: 0.0022 - mean_squared_error: 4.3810e- - ETA: 0s - loss: 0.0022 - mean_squared_error: 4.4644e- - ETA: 0s - loss: 0.0023 - mean_squared_error: 4.6415e- - ETA: 0s - loss: 0.0022 - mean_squared_error: 4.5316e- - ETA: 0s - loss: 0.0022 - mean_squared_error: 4.4915e- - ETA: 0s - loss: 0.0022 - mean_squared_error: 4.4651e- - ETA: 0s - loss: 0.0022 - mean_squared_error: 4.4133e- - ETA: 0s - loss: 0.0022 - mean_squared_error: 4.3812e- - ETA: 0s - loss: 0.0022 - mean_squared_error: 4.3322e- - ETA: 0s - loss: 0.0022 - mean_squared_error: 4.3749e- - ETA: 0s - loss: 0.0022 - mean_squared_error: 4.3826e- - ETA: 0s - loss: 0.0022 - mean_squared_error: 4.4441e- - ETA: 0s - loss: 0.0022 - mean_squared_error: 4.4288e- - ETA: 0s - loss: 0.0022 - mean_squared_error: 4.4101e- - ETA: 0s - loss: 0.0022 - mean_squared_error: 4.3832e- - ETA: 0s - loss: 0.0022 - mean_squared_error: 4.3707e- - ETA: 0s - loss: 0.0022 - mean_squared_error: 4.3420e- - 1s 88us/step - loss: 0.0022 - mean_squared_error: 4.3352e-04 - val_loss: 0.0021 - val_mean_squared_error: 3.6220e-04\n",
      "Epoch 39/40\n",
      "14000/14000 [==============================] - ETA: 1s - loss: 0.0023 - mean_squared_error: 4.8251e- - ETA: 1s - loss: 0.0022 - mean_squared_error: 4.0683e- - ETA: 1s - loss: 0.0022 - mean_squared_error: 3.7977e- - ETA: 1s - loss: 0.0022 - mean_squared_error: 4.1570e- - ETA: 0s - loss: 0.0022 - mean_squared_error: 4.5789e- - ETA: 0s - loss: 0.0023 - mean_squared_error: 5.0463e- - ETA: 0s - loss: 0.0023 - mean_squared_error: 5.4863e- - ETA: 0s - loss: 0.0023 - mean_squared_error: 5.4400e- - ETA: 0s - loss: 0.0023 - mean_squared_error: 5.4639e- - ETA: 0s - loss: 0.0023 - mean_squared_error: 5.3397e- - ETA: 0s - loss: 0.0023 - mean_squared_error: 5.2347e- - ETA: 0s - loss: 0.0023 - mean_squared_error: 5.1506e- - ETA: 0s - loss: 0.0023 - mean_squared_error: 5.0489e- - ETA: 0s - loss: 0.0023 - mean_squared_error: 4.9283e- - ETA: 0s - loss: 0.0023 - mean_squared_error: 4.8950e- - ETA: 0s - loss: 0.0023 - mean_squared_error: 4.8760e- - ETA: 0s - loss: 0.0023 - mean_squared_error: 4.8508e- - ETA: 0s - loss: 0.0023 - mean_squared_error: 4.8104e- - ETA: 0s - loss: 0.0023 - mean_squared_error: 4.8005e- - ETA: 0s - loss: 0.0023 - mean_squared_error: 4.7735e- - ETA: 0s - loss: 0.0023 - mean_squared_error: 4.7337e- - ETA: 0s - loss: 0.0023 - mean_squared_error: 4.7178e- - ETA: 0s - loss: 0.0023 - mean_squared_error: 4.7484e- - 1s 90us/step - loss: 0.0023 - mean_squared_error: 4.7626e-04 - val_loss: 0.0024 - val_mean_squared_error: 6.0270e-04\n",
      "Epoch 40/40\n",
      "14000/14000 [==============================] - ETA: 1s - loss: 0.0025 - mean_squared_error: 7.0630e- - ETA: 1s - loss: 0.0023 - mean_squared_error: 5.4611e- - ETA: 1s - loss: 0.0023 - mean_squared_error: 5.6794e- - ETA: 0s - loss: 0.0024 - mean_squared_error: 5.8871e- - ETA: 0s - loss: 0.0023 - mean_squared_error: 5.6889e- - ETA: 0s - loss: 0.0023 - mean_squared_error: 5.2953e- - ETA: 0s - loss: 0.0023 - mean_squared_error: 5.0097e- - ETA: 0s - loss: 0.0023 - mean_squared_error: 4.9031e- - ETA: 0s - loss: 0.0023 - mean_squared_error: 4.7748e- - ETA: 0s - loss: 0.0022 - mean_squared_error: 4.7229e- - ETA: 0s - loss: 0.0022 - mean_squared_error: 4.6610e- - ETA: 0s - loss: 0.0022 - mean_squared_error: 4.6138e- - ETA: 0s - loss: 0.0022 - mean_squared_error: 4.5781e- - ETA: 0s - loss: 0.0022 - mean_squared_error: 4.5738e- - ETA: 0s - loss: 0.0022 - mean_squared_error: 4.6047e- - ETA: 0s - loss: 0.0022 - mean_squared_error: 4.7193e- - ETA: 0s - loss: 0.0022 - mean_squared_error: 4.7285e- - ETA: 0s - loss: 0.0022 - mean_squared_error: 4.6627e- - ETA: 0s - loss: 0.0022 - mean_squared_error: 4.6793e- - ETA: 0s - loss: 0.0022 - mean_squared_error: 4.6239e- - ETA: 0s - loss: 0.0022 - mean_squared_error: 4.6142e- - ETA: 0s - loss: 0.0022 - mean_squared_error: 4.5937e- - 1s 85us/step - loss: 0.0022 - mean_squared_error: 4.5913e-04 - val_loss: 0.0022 - val_mean_squared_error: 3.8768e-04\n",
      "Training Time: 49.89897394180298\n"
     ]
    }
   ],
   "source": [
    "N_channels = 40\n",
    "file_path = '/Users/jackkelly/Desktop/Building_Model/Data/40_channels_data_blocks_20000.csv'\n",
    "hist, model, X_train, Y_train, X_val, Y_val, X_test, Y_test = build_model(N_channels, file_path)"
   ]
  },
  {
   "cell_type": "code",
   "execution_count": 51,
   "metadata": {},
   "outputs": [
    {
     "data": {
      "text/plain": [
       "{'val_loss': [0.02538502112093071,\n",
       "  0.0053988230611818535,\n",
       "  0.003289651670337965,\n",
       "  0.0028408091797027736,\n",
       "  0.0029738233488363526,\n",
       "  0.002755526453567048,\n",
       "  0.0024493745203750827,\n",
       "  0.0024252000397536905,\n",
       "  0.00247717618305857,\n",
       "  0.0023947070779589317,\n",
       "  0.002398919979420801,\n",
       "  0.0024578259128611533,\n",
       "  0.0023427951640139022,\n",
       "  0.0025773898484185336,\n",
       "  0.0023318971861153843,\n",
       "  0.0024071639694739134,\n",
       "  0.002427385825974246,\n",
       "  0.0023129365042162437,\n",
       "  0.0023190940105511496,\n",
       "  0.0022946809111939123,\n",
       "  0.0023383042931867143,\n",
       "  0.002258826256186391,\n",
       "  0.0023693588820751757,\n",
       "  0.0022831344571895896,\n",
       "  0.002242654350741456,\n",
       "  0.0022978117486927656,\n",
       "  0.0024069351484067737,\n",
       "  0.0023474706020982315,\n",
       "  0.0022127707546266417,\n",
       "  0.0022156084372351565,\n",
       "  0.002233914487995207,\n",
       "  0.002203020343867441,\n",
       "  0.0023179613751514506,\n",
       "  0.0021850830799279115,\n",
       "  0.002378296729642898,\n",
       "  0.0022393519641676295,\n",
       "  0.002189983488448585,\n",
       "  0.002147560562705621,\n",
       "  0.002381332107586786,\n",
       "  0.002159397862541179],\n",
       " 'val_mean_squared_error': [0.023684246465563774,\n",
       "  0.003491392359137535,\n",
       "  0.0013290905626490712,\n",
       "  0.0008588822092860937,\n",
       "  0.0009858140256255865,\n",
       "  0.0007666132296435535,\n",
       "  0.0004628956376109272,\n",
       "  0.0004419585457071662,\n",
       "  0.0004971103044226766,\n",
       "  0.00041959149530157447,\n",
       "  0.0004298689018469304,\n",
       "  0.0004944279207848012,\n",
       "  0.0003867658379022032,\n",
       "  0.0006280471570789814,\n",
       "  0.00038949778536334634,\n",
       "  0.0004708559426944703,\n",
       "  0.0004990633460693061,\n",
       "  0.00039205545908771455,\n",
       "  0.00040550727862864733,\n",
       "  0.0003876869159284979,\n",
       "  0.0004381886392366141,\n",
       "  0.00036620168248191476,\n",
       "  0.00048365016118623316,\n",
       "  0.000404467893531546,\n",
       "  0.00037043963675387204,\n",
       "  0.0004340894229244441,\n",
       "  0.0005497003439813852,\n",
       "  0.0004970142035745084,\n",
       "  0.00036948415799997747,\n",
       "  0.0003781513369176537,\n",
       "  0.0004037516482640058,\n",
       "  0.0003793483483605087,\n",
       "  0.0005003122496418655,\n",
       "  0.00037483772030100226,\n",
       "  0.0005741722416132689,\n",
       "  0.0004415982693899423,\n",
       "  0.0003983481728937477,\n",
       "  0.00036219911999069154,\n",
       "  0.0006027010385878384,\n",
       "  0.0003876766422763467],\n",
       " 'loss': [0.0832768203335415,\n",
       "  0.011836786120398237,\n",
       "  0.004075288753091757,\n",
       "  0.002879421154103641,\n",
       "  0.0027010154737924625,\n",
       "  0.0026297062483416605,\n",
       "  0.0026389381534619523,\n",
       "  0.0025388553376542405,\n",
       "  0.002507954600150697,\n",
       "  0.002496330574088331,\n",
       "  0.0025478167286741415,\n",
       "  0.002437934692433503,\n",
       "  0.002514353184511752,\n",
       "  0.0024592345787511605,\n",
       "  0.002448736269492656,\n",
       "  0.0023801809475823706,\n",
       "  0.002455245322198607,\n",
       "  0.002423078287974931,\n",
       "  0.0023896563434474436,\n",
       "  0.0023795367492130026,\n",
       "  0.002368721119444152,\n",
       "  0.0023784792687843686,\n",
       "  0.0023556807696420165,\n",
       "  0.0023502100174581366,\n",
       "  0.002319651426431457,\n",
       "  0.0023864994565291064,\n",
       "  0.002305530335488064,\n",
       "  0.0023098794491296366,\n",
       "  0.002338422143565757,\n",
       "  0.0022571555503777094,\n",
       "  0.002325871702133944,\n",
       "  0.0022679451504622455,\n",
       "  0.002253349156967098,\n",
       "  0.0023135685024317353,\n",
       "  0.002260732940531203,\n",
       "  0.0022503651806951635,\n",
       "  0.0022273858745216527,\n",
       "  0.002222112512332387,\n",
       "  0.0022578425049931475,\n",
       "  0.0022342423732126396],\n",
       " 'mean_squared_error': [0.08178233,\n",
       "  0.010010883,\n",
       "  0.002136325,\n",
       "  0.0009069945,\n",
       "  0.0007154091,\n",
       "  0.0006409516,\n",
       "  0.00065141596,\n",
       "  0.0005537398,\n",
       "  0.00052624434,\n",
       "  0.00051881553,\n",
       "  0.00057602866,\n",
       "  0.0004717595,\n",
       "  0.0005547175,\n",
       "  0.00050645566,\n",
       "  0.00050271803,\n",
       "  0.00044104308,\n",
       "  0.0005229625,\n",
       "  0.00049868395,\n",
       "  0.00047205767,\n",
       "  0.00046923742,\n",
       "  0.00046541082,\n",
       "  0.0004822026,\n",
       "  0.00046643632,\n",
       "  0.00046800374,\n",
       "  0.00044425818,\n",
       "  0.0005186518,\n",
       "  0.00044535467,\n",
       "  0.0004557853,\n",
       "  0.0004914381,\n",
       "  0.00041655562,\n",
       "  0.00049200107,\n",
       "  0.000441006,\n",
       "  0.00043263266,\n",
       "  0.0004994837,\n",
       "  0.00045377234,\n",
       "  0.0004493336,\n",
       "  0.00043265737,\n",
       "  0.0004335196,\n",
       "  0.00047625916,\n",
       "  0.0004591261]}"
      ]
     },
     "execution_count": 51,
     "metadata": {},
     "output_type": "execute_result"
    }
   ],
   "source": [
    "hist.history"
   ]
  },
  {
   "cell_type": "code",
   "execution_count": 82,
   "metadata": {},
   "outputs": [
    {
     "name": "stdout",
     "output_type": "stream",
     "text": [
      "90th percentile mse =  0.0008385766050933083 dB\n"
     ]
    },
    {
     "data": {
      "image/png": "[encoded data removed]",
      "text/plain": [
       "<Figure size 432x288 with 1 Axes>"
      ]
     },
     "metadata": {
      "needs_background": "light"
     },
     "output_type": "display_data"
    }
   ],
   "source": [
    "# name = '/Users/jackkelly/Desktop/Building_Model/Figures/Comparison.png'\n",
    "# plt.title('Comparison of new and old ANN model')\n",
    "# plt.plot(hypermodel_hist.history['mean_squared_error'], label='[Trained ANN] Train')\n",
    "# plt.plot(hypermodel_hist.history['val_mean_squared_error'], label='[Trained ANN] Validation')\n",
    "# plt.plot(hist.history['val_mean_squared_error'], label='[Non-tuned ANN] Validation')\n",
    "# plt.ylabel('MSE')\n",
    "# plt.xlabel('Epoch')\n",
    "# plt.legend()\n",
    "# plt.savefig(name)\n",
    "# plt.show()\n",
    "\n",
    "predictions = model.predict(X_test)\n",
    "# mse = mean_squared_error(predictions, Y_test)\n",
    "mean_squared_error_store = []\n",
    "for i in range(3000):\n",
    "    mean_squared_error_store.append(mean_squared_error(predictions[i], Y_test[i]))\n",
    "x = np.sort(mean_squared_error_store)\n",
    "y = np.arange(1, len(x)+1) / len(x)\n",
    "\n",
    "predictions_hyper = hypermodel.predict(X_test)\n",
    "# mse = mean_squared_error(predictions, Y_test)\n",
    "mean_squared_error_store_hyper = []\n",
    "for i in range(3000):\n",
    "    mean_squared_error_store_hyper.append(mean_squared_error(predictions_hyper[i], Y_test[i]))\n",
    "x_hyper = np.sort(mean_squared_error_store_hyper)\n",
    "y_hyper = np.arange(1, len(x_hyper)+1) / len(x_hyper)\n",
    "\n",
    "\n",
    "# 500 elements in mseArray so 90th percentile is 450th element\n",
    "print('90th percentile mse = ', x[2700],'dB')\n",
    "mse_ecdf = plt.plot(x,y, marker='.', linestyle='none', color='blue', label='Non-Tuned')\n",
    "mse_ecdf = plt.plot(x_hyper, y_hyper, marker='*', linestyle='none', color='green', label='Tuned')\n",
    "plt.title('Cumulative Distribution Function Plot')\n",
    "plt.xlabel('MSE')\n",
    "plt.ylabel('CDF')\n",
    "plt.legend()\n",
    "plt.savefig('CDF_initial_ann.png')\n",
    "plt.show()"
   ]
  },
  {
   "cell_type": "code",
   "execution_count": null,
   "metadata": {},
   "outputs": [],
   "source": []
  }
 ],
 "metadata": {
  "kernelspec": {
   "display_name": "Python 3",
   "language": "python",
   "name": "python3"
  },
  "language_info": {
   "codemirror_mode": {
    "name": "ipython",
    "version": 3
   },
   "file_extension": ".py",
   "mimetype": "text/x-python",
   "name": "python",
   "nbconvert_exporter": "python",
   "pygments_lexer": "ipython3",
   "version": "3.6.10"
  }
 },
 "nbformat": 4,
 "nbformat_minor": 4
}
