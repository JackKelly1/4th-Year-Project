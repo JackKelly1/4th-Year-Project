{
 "cells": [
  {
   "cell_type": "code",
   "execution_count": 1,
   "metadata": {},
   "outputs": [
    {
     "name": "stderr",
     "output_type": "stream",
     "text": [
      "Using TensorFlow backend.\n"
     ]
    }
   ],
   "source": [
    "import tensorflow as tf\n",
    "import pandas as pd\n",
    "from sklearn import preprocessing\n",
    "from sklearn.model_selection import train_test_split\n",
    "from sklearn.utils import shuffle\n",
    "from sklearn.metrics import mean_squared_error\n",
    "from keras.models import Sequential\n",
    "from keras.layers import Dense\n",
    "from keras import regularizers\n",
    "from tensorflow import keras\n",
    "import matplotlib.pyplot as plt\n",
    "import numpy as np\n",
    "import time\n",
    "import h5py\n",
    "import kerastuner as kt"
   ]
  },
  {
   "cell_type": "code",
   "execution_count": 2,
   "metadata": {},
   "outputs": [],
   "source": [
    "### IMPORT, RAMDOMIZE AND SCALE DATA ###\n",
    "\n",
    "def processing_data(N_channels, file_path):\n",
    "    df = pd.read_csv(file_path)\n",
    "    # dataset\n",
    "    dataset = df.values\n",
    "    # input power and channels statuses\n",
    "    X = dataset[:,0:N_channels+1]\n",
    "    # channel SNRs\n",
    "    Y = dataset[:,N_channels+1:2*N_channels+1]\n",
    "    # shuffle necessary because while shuffle=True in .fit() shuffles the data, it splits into different datasets first\n",
    "    X, Y = shuffle(X, Y)\n",
    "    # scaling between 0 and 1\n",
    "    min_max_scaler = preprocessing.MinMaxScaler()\n",
    "    X = min_max_scaler.fit_transform(X)\n",
    "    Y = min_max_scaler.fit_transform(Y)\n",
    "    return X, Y"
   ]
  },
  {
   "cell_type": "code",
   "execution_count": 3,
   "metadata": {},
   "outputs": [],
   "source": [
    "### RECEIVE 20,000 PIECES OF DATA ###\n",
    "\n",
    "N_channels = 40\n",
    "file_path = '/Users/jackkelly/Desktop/Building_Model/Data/40_channels_data_blocks_20000.csv'\n",
    "X_scale, Y_scale = processing_data(N_channels, file_path)\n",
    "X_scale, X_test, Y_scale, Y_test = train_test_split(X_scale, Y_scale, test_size=0.15)"
   ]
  },
  {
   "cell_type": "code",
   "execution_count": 4,
   "metadata": {},
   "outputs": [],
   "source": [
    "### FUNCTION TAKES HYPERPARAMETERS AND RETURNS COMPILED MODEL ###\n",
    "\n",
    "def model_builder(hp):\n",
    "    model = keras.Sequential()\n",
    "    model.add(keras.layers.InputLayer(input_shape=N_channels+1))\n",
    "#     hp_regularizer = hp.Choice('kernel_regularizer', values=[1e-4, 1e-5, 1e-6])\n",
    "    for i in range(hp.Int('n_layers', 1, 2)):\n",
    "#         model.add(keras.layers.Dense(hp.Int(f'hidden_{i}_units', min_value=10, max_value=320, step=1), kernel_regularizer=regularizers.l2(hp_regularizer)))\n",
    "        model.add(keras.layers.Dense(hp.Int(f'hidden_{i}_units', min_value=10, max_value=320, step=1)))\n",
    "    model.add(keras.layers.Dense(N_channels, activation='sigmoid'))\n",
    "    # Tune the learning rate for the optimizer\n",
    "    # Choose an optimal value from 0.01, 0.001, or 0.0001\n",
    "    hp_learning_rate = hp.Choice('learning_rate', values=[1e-2, 1e-3, 1e-4])\n",
    "\n",
    "    model.compile(optimizer=keras.optimizers.Adam(learning_rate=hp_learning_rate),\n",
    "                loss=keras.losses.MeanSquaredError(), metrics=['mean_squared_error'])\n",
    "\n",
    "    return model"
   ]
  },
  {
   "cell_type": "code",
   "execution_count": 5,
   "metadata": {},
   "outputs": [],
   "source": [
    "### CREATE HYPERBAND TUNER ###\n",
    "\n",
    "# The maximum number of epochs to train one model. It is recommended to \n",
    "# set this to a value slightly higher than the expected time \n",
    "# to convergence for your largest Model, and to use early stopping \n",
    "# during training\n",
    "tuner = kt.Hyperband(model_builder,\n",
    "                     objective=kt.Objective('mean_squared_error', 'min'),\n",
    "                     max_epochs=25,\n",
    "                     factor=3,\n",
    "                     directory='/Users/jackkelly/Desktop/Building_Model/',\n",
    "                     project_name='intro_to_kt_layers',\n",
    "                     overwrite=True)\n",
    "# stop_early = tf.keras.callbacks.EarlyStopping(monitor='val_loss', patience=5)\n",
    "stop_early = tf.keras.callbacks.EarlyStopping(monitor='mean_squared_error', patience=5)"
   ]
  },
  {
   "cell_type": "code",
   "execution_count": 6,
   "metadata": {},
   "outputs": [
    {
     "name": "stdout",
     "output_type": "stream",
     "text": [
      "Train on 14450 samples, validate on 2550 samples\n",
      "Epoch 1/3\n",
      "14450/14450 - 2s - loss: 0.1779 - mean_squared_error: 0.1779 - val_loss: 0.1590 - val_mean_squared_error: 0.1590\n",
      "Epoch 2/3\n",
      "14450/14450 - 1s - loss: 0.1376 - mean_squared_error: 0.1376 - val_loss: 0.1185 - val_mean_squared_error: 0.1185\n",
      "Epoch 3/3\n",
      "14450/14450 - 1s - loss: 0.1101 - mean_squared_error: 0.1101 - val_loss: 0.1035 - val_mean_squared_error: 0.1035\n"
     ]
    },
    {
     "data": {
      "text/html": [
       "<span style=\"color:#4527A0\"><h1 style=\"font-size:18px\">Trial complete</h1></span>"
      ],
      "text/plain": [
       "<IPython.core.display.HTML object>"
      ]
     },
     "metadata": {},
     "output_type": "display_data"
    },
    {
     "data": {
      "text/html": [
       "<span style=\"color:#4527A0\"><h1 style=\"font-size:18px\">Trial summary</h1></span>"
      ],
      "text/plain": [
       "<IPython.core.display.HTML object>"
      ]
     },
     "metadata": {},
     "output_type": "display_data"
    },
    {
     "data": {
      "text/html": [
       "<span style=\"color:cyan\"> |-Trial ID: d5f88c7fa3b77fbf3c3fc19eff01e298</span>"
      ],
      "text/plain": [
       "<IPython.core.display.HTML object>"
      ]
     },
     "metadata": {},
     "output_type": "display_data"
    },
    {
     "data": {
      "text/html": [
       "<span style=\"color:cyan\"> |-Score: 0.11007634550333023</span>"
      ],
      "text/plain": [
       "<IPython.core.display.HTML object>"
      ]
     },
     "metadata": {},
     "output_type": "display_data"
    },
    {
     "data": {
      "text/html": [
       "<span style=\"color:cyan\"> |-Best step: 0</span>"
      ],
      "text/plain": [
       "<IPython.core.display.HTML object>"
      ]
     },
     "metadata": {},
     "output_type": "display_data"
    },
    {
     "data": {
      "text/html": [
       "<span style=\"color:#7E57C2\"><h2 style=\"font-size:16px\">Hyperparameters:</h2></span>"
      ],
      "text/plain": [
       "<IPython.core.display.HTML object>"
      ]
     },
     "metadata": {},
     "output_type": "display_data"
    },
    {
     "data": {
      "text/html": [
       "<span style=\"color:cyan\"> |-hidden_0_units: 232</span>"
      ],
      "text/plain": [
       "<IPython.core.display.HTML object>"
      ]
     },
     "metadata": {},
     "output_type": "display_data"
    },
    {
     "data": {
      "text/html": [
       "<span style=\"color:blue\"> |-hidden_1_units: 10</span>"
      ],
      "text/plain": [
       "<IPython.core.display.HTML object>"
      ]
     },
     "metadata": {},
     "output_type": "display_data"
    },
    {
     "data": {
      "text/html": [
       "<span style=\"color:cyan\"> |-learning_rate: 0.0001</span>"
      ],
      "text/plain": [
       "<IPython.core.display.HTML object>"
      ]
     },
     "metadata": {},
     "output_type": "display_data"
    },
    {
     "data": {
      "text/html": [
       "<span style=\"color:blue\"> |-n_layers: 2</span>"
      ],
      "text/plain": [
       "<IPython.core.display.HTML object>"
      ]
     },
     "metadata": {},
     "output_type": "display_data"
    },
    {
     "data": {
      "text/html": [
       "<span style=\"color:cyan\"> |-tuner/bracket: 2</span>"
      ],
      "text/plain": [
       "<IPython.core.display.HTML object>"
      ]
     },
     "metadata": {},
     "output_type": "display_data"
    },
    {
     "data": {
      "text/html": [
       "<span style=\"color:blue\"> |-tuner/epochs: 3</span>"
      ],
      "text/plain": [
       "<IPython.core.display.HTML object>"
      ]
     },
     "metadata": {},
     "output_type": "display_data"
    },
    {
     "data": {
      "text/html": [
       "<span style=\"color:cyan\"> |-tuner/initial_epoch: 0</span>"
      ],
      "text/plain": [
       "<IPython.core.display.HTML object>"
      ]
     },
     "metadata": {},
     "output_type": "display_data"
    },
    {
     "data": {
      "text/html": [
       "<span style=\"color:blue\"> |-tuner/round: 0</span>"
      ],
      "text/plain": [
       "<IPython.core.display.HTML object>"
      ]
     },
     "metadata": {},
     "output_type": "display_data"
    },
    {
     "name": "stdout",
     "output_type": "stream",
     "text": [
      "Train on 14450 samples, validate on 2550 samples\n",
      "Epoch 1/3\n",
      "14450/14450 - 2s - loss: 0.0436 - mean_squared_error: 0.0436 - val_loss: 0.0018 - val_mean_squared_error: 0.0018\n",
      "Epoch 2/3\n",
      "14450/14450 - 1s - loss: 8.0948e-04 - mean_squared_error: 8.0948e-04 - val_loss: 4.5100e-04 - val_mean_squared_error: 4.5100e-04\n",
      "Epoch 3/3\n",
      "14450/14450 - 1s - loss: 4.2037e-04 - mean_squared_error: 4.2037e-04 - val_loss: 3.7431e-04 - val_mean_squared_error: 3.7431e-04\n"
     ]
    },
    {
     "data": {
      "text/html": [
       "<span style=\"color:#4527A0\"><h1 style=\"font-size:18px\">Trial complete</h1></span>"
      ],
      "text/plain": [
       "<IPython.core.display.HTML object>"
      ]
     },
     "metadata": {},
     "output_type": "display_data"
    },
    {
     "data": {
      "text/html": [
       "<span style=\"color:#4527A0\"><h1 style=\"font-size:18px\">Trial summary</h1></span>"
      ],
      "text/plain": [
       "<IPython.core.display.HTML object>"
      ]
     },
     "metadata": {},
     "output_type": "display_data"
    },
    {
     "data": {
      "text/html": [
       "<span style=\"color:cyan\"> |-Trial ID: c8f6c9f00c47312c9750f1b2a1f28e57</span>"
      ],
      "text/plain": [
       "<IPython.core.display.HTML object>"
      ]
     },
     "metadata": {},
     "output_type": "display_data"
    },
    {
     "data": {
      "text/html": [
       "<span style=\"color:cyan\"> |-Score: 0.0004203654534649104</span>"
      ],
      "text/plain": [
       "<IPython.core.display.HTML object>"
      ]
     },
     "metadata": {},
     "output_type": "display_data"
    },
    {
     "data": {
      "text/html": [
       "<span style=\"color:cyan\"> |-Best step: 0</span>"
      ],
      "text/plain": [
       "<IPython.core.display.HTML object>"
      ]
     },
     "metadata": {},
     "output_type": "display_data"
    },
    {
     "data": {
      "text/html": [
       "<span style=\"color:#7E57C2\"><h2 style=\"font-size:16px\">Hyperparameters:</h2></span>"
      ],
      "text/plain": [
       "<IPython.core.display.HTML object>"
      ]
     },
     "metadata": {},
     "output_type": "display_data"
    },
    {
     "data": {
      "text/html": [
       "<span style=\"color:cyan\"> |-hidden_0_units: 100</span>"
      ],
      "text/plain": [
       "<IPython.core.display.HTML object>"
      ]
     },
     "metadata": {},
     "output_type": "display_data"
    },
    {
     "data": {
      "text/html": [
       "<span style=\"color:blue\"> |-hidden_1_units: 97</span>"
      ],
      "text/plain": [
       "<IPython.core.display.HTML object>"
      ]
     },
     "metadata": {},
     "output_type": "display_data"
    },
    {
     "data": {
      "text/html": [
       "<span style=\"color:cyan\"> |-learning_rate: 0.001</span>"
      ],
      "text/plain": [
       "<IPython.core.display.HTML object>"
      ]
     },
     "metadata": {},
     "output_type": "display_data"
    },
    {
     "data": {
      "text/html": [
       "<span style=\"color:blue\"> |-n_layers: 2</span>"
      ],
      "text/plain": [
       "<IPython.core.display.HTML object>"
      ]
     },
     "metadata": {},
     "output_type": "display_data"
    },
    {
     "data": {
      "text/html": [
       "<span style=\"color:cyan\"> |-tuner/bracket: 2</span>"
      ],
      "text/plain": [
       "<IPython.core.display.HTML object>"
      ]
     },
     "metadata": {},
     "output_type": "display_data"
    },
    {
     "data": {
      "text/html": [
       "<span style=\"color:blue\"> |-tuner/epochs: 3</span>"
      ],
      "text/plain": [
       "<IPython.core.display.HTML object>"
      ]
     },
     "metadata": {},
     "output_type": "display_data"
    },
    {
     "data": {
      "text/html": [
       "<span style=\"color:cyan\"> |-tuner/initial_epoch: 0</span>"
      ],
      "text/plain": [
       "<IPython.core.display.HTML object>"
      ]
     },
     "metadata": {},
     "output_type": "display_data"
    },
    {
     "data": {
      "text/html": [
       "<span style=\"color:blue\"> |-tuner/round: 0</span>"
      ],
      "text/plain": [
       "<IPython.core.display.HTML object>"
      ]
     },
     "metadata": {},
     "output_type": "display_data"
    },
    {
     "name": "stdout",
     "output_type": "stream",
     "text": [
      "Train on 14450 samples, validate on 2550 samples\n",
      "Epoch 1/3\n",
      "14450/14450 - 2s - loss: 0.1640 - mean_squared_error: 0.1640 - val_loss: 0.1347 - val_mean_squared_error: 0.1347\n",
      "Epoch 2/3\n",
      "14450/14450 - 1s - loss: 0.1079 - mean_squared_error: 0.1079 - val_loss: 0.0830 - val_mean_squared_error: 0.0830\n",
      "Epoch 3/3\n",
      "14450/14450 - 1s - loss: 0.0648 - mean_squared_error: 0.0648 - val_loss: 0.0496 - val_mean_squared_error: 0.0496\n"
     ]
    },
    {
     "data": {
      "text/html": [
       "<span style=\"color:#4527A0\"><h1 style=\"font-size:18px\">Trial complete</h1></span>"
      ],
      "text/plain": [
       "<IPython.core.display.HTML object>"
      ]
     },
     "metadata": {},
     "output_type": "display_data"
    },
    {
     "data": {
      "text/html": [
       "<span style=\"color:#4527A0\"><h1 style=\"font-size:18px\">Trial summary</h1></span>"
      ],
      "text/plain": [
       "<IPython.core.display.HTML object>"
      ]
     },
     "metadata": {},
     "output_type": "display_data"
    },
    {
     "data": {
      "text/html": [
       "<span style=\"color:cyan\"> |-Trial ID: 483f75bf581da20b9e6bc64b4071cee4</span>"
      ],
      "text/plain": [
       "<IPython.core.display.HTML object>"
      ]
     },
     "metadata": {},
     "output_type": "display_data"
    },
    {
     "data": {
      "text/html": [
       "<span style=\"color:cyan\"> |-Score: 0.06477098166942596</span>"
      ],
      "text/plain": [
       "<IPython.core.display.HTML object>"
      ]
     },
     "metadata": {},
     "output_type": "display_data"
    },
    {
     "data": {
      "text/html": [
       "<span style=\"color:cyan\"> |-Best step: 0</span>"
      ],
      "text/plain": [
       "<IPython.core.display.HTML object>"
      ]
     },
     "metadata": {},
     "output_type": "display_data"
    },
    {
     "data": {
      "text/html": [
       "<span style=\"color:#7E57C2\"><h2 style=\"font-size:16px\">Hyperparameters:</h2></span>"
      ],
      "text/plain": [
       "<IPython.core.display.HTML object>"
      ]
     },
     "metadata": {},
     "output_type": "display_data"
    },
    {
     "data": {
      "text/html": [
       "<span style=\"color:cyan\"> |-hidden_0_units: 218</span>"
      ],
      "text/plain": [
       "<IPython.core.display.HTML object>"
      ]
     },
     "metadata": {},
     "output_type": "display_data"
    },
    {
     "data": {
      "text/html": [
       "<span style=\"color:blue\"> |-hidden_1_units: 70</span>"
      ],
      "text/plain": [
       "<IPython.core.display.HTML object>"
      ]
     },
     "metadata": {},
     "output_type": "display_data"
    },
    {
     "data": {
      "text/html": [
       "<span style=\"color:cyan\"> |-learning_rate: 0.0001</span>"
      ],
      "text/plain": [
       "<IPython.core.display.HTML object>"
      ]
     },
     "metadata": {},
     "output_type": "display_data"
    },
    {
     "data": {
      "text/html": [
       "<span style=\"color:blue\"> |-n_layers: 1</span>"
      ],
      "text/plain": [
       "<IPython.core.display.HTML object>"
      ]
     },
     "metadata": {},
     "output_type": "display_data"
    },
    {
     "data": {
      "text/html": [
       "<span style=\"color:cyan\"> |-tuner/bracket: 2</span>"
      ],
      "text/plain": [
       "<IPython.core.display.HTML object>"
      ]
     },
     "metadata": {},
     "output_type": "display_data"
    },
    {
     "data": {
      "text/html": [
       "<span style=\"color:blue\"> |-tuner/epochs: 3</span>"
      ],
      "text/plain": [
       "<IPython.core.display.HTML object>"
      ]
     },
     "metadata": {},
     "output_type": "display_data"
    },
    {
     "data": {
      "text/html": [
       "<span style=\"color:cyan\"> |-tuner/initial_epoch: 0</span>"
      ],
      "text/plain": [
       "<IPython.core.display.HTML object>"
      ]
     },
     "metadata": {},
     "output_type": "display_data"
    },
    {
     "data": {
      "text/html": [
       "<span style=\"color:blue\"> |-tuner/round: 0</span>"
      ],
      "text/plain": [
       "<IPython.core.display.HTML object>"
      ]
     },
     "metadata": {},
     "output_type": "display_data"
    },
    {
     "name": "stdout",
     "output_type": "stream",
     "text": [
      "Train on 14450 samples, validate on 2550 samples\n",
      "Epoch 1/3\n",
      "14450/14450 - 2s - loss: 0.0070 - mean_squared_error: 0.0070 - val_loss: 4.6514e-04 - val_mean_squared_error: 4.6514e-04\n",
      "Epoch 2/3\n",
      "14450/14450 - 1s - loss: 7.1008e-04 - mean_squared_error: 7.1008e-04 - val_loss: 4.7790e-04 - val_mean_squared_error: 4.7790e-04\n",
      "Epoch 3/3\n",
      "14450/14450 - 1s - loss: 6.1071e-04 - mean_squared_error: 6.1071e-04 - val_loss: 5.5840e-04 - val_mean_squared_error: 5.5840e-04\n"
     ]
    },
    {
     "data": {
      "text/html": [
       "<span style=\"color:#4527A0\"><h1 style=\"font-size:18px\">Trial complete</h1></span>"
      ],
      "text/plain": [
       "<IPython.core.display.HTML object>"
      ]
     },
     "metadata": {},
     "output_type": "display_data"
    },
    {
     "data": {
      "text/html": [
       "<span style=\"color:#4527A0\"><h1 style=\"font-size:18px\">Trial summary</h1></span>"
      ],
      "text/plain": [
       "<IPython.core.display.HTML object>"
      ]
     },
     "metadata": {},
     "output_type": "display_data"
    },
    {
     "data": {
      "text/html": [
       "<span style=\"color:cyan\"> |-Trial ID: 5dfd5bb060a3d2747227f1daf7a03109</span>"
      ],
      "text/plain": [
       "<IPython.core.display.HTML object>"
      ]
     },
     "metadata": {},
     "output_type": "display_data"
    },
    {
     "data": {
      "text/html": [
       "<span style=\"color:cyan\"> |-Score: 0.0006107126828283072</span>"
      ],
      "text/plain": [
       "<IPython.core.display.HTML object>"
      ]
     },
     "metadata": {},
     "output_type": "display_data"
    },
    {
     "data": {
      "text/html": [
       "<span style=\"color:cyan\"> |-Best step: 0</span>"
      ],
      "text/plain": [
       "<IPython.core.display.HTML object>"
      ]
     },
     "metadata": {},
     "output_type": "display_data"
    },
    {
     "data": {
      "text/html": [
       "<span style=\"color:#7E57C2\"><h2 style=\"font-size:16px\">Hyperparameters:</h2></span>"
      ],
      "text/plain": [
       "<IPython.core.display.HTML object>"
      ]
     },
     "metadata": {},
     "output_type": "display_data"
    },
    {
     "data": {
      "text/html": [
       "<span style=\"color:cyan\"> |-hidden_0_units: 177</span>"
      ],
      "text/plain": [
       "<IPython.core.display.HTML object>"
      ]
     },
     "metadata": {},
     "output_type": "display_data"
    },
    {
     "data": {
      "text/html": [
       "<span style=\"color:blue\"> |-hidden_1_units: 172</span>"
      ],
      "text/plain": [
       "<IPython.core.display.HTML object>"
      ]
     },
     "metadata": {},
     "output_type": "display_data"
    },
    {
     "data": {
      "text/html": [
       "<span style=\"color:cyan\"> |-learning_rate: 0.01</span>"
      ],
      "text/plain": [
       "<IPython.core.display.HTML object>"
      ]
     },
     "metadata": {},
     "output_type": "display_data"
    },
    {
     "data": {
      "text/html": [
       "<span style=\"color:blue\"> |-n_layers: 1</span>"
      ],
      "text/plain": [
       "<IPython.core.display.HTML object>"
      ]
     },
     "metadata": {},
     "output_type": "display_data"
    },
    {
     "data": {
      "text/html": [
       "<span style=\"color:cyan\"> |-tuner/bracket: 2</span>"
      ],
      "text/plain": [
       "<IPython.core.display.HTML object>"
      ]
     },
     "metadata": {},
     "output_type": "display_data"
    },
    {
     "data": {
      "text/html": [
       "<span style=\"color:blue\"> |-tuner/epochs: 3</span>"
      ],
      "text/plain": [
       "<IPython.core.display.HTML object>"
      ]
     },
     "metadata": {},
     "output_type": "display_data"
    },
    {
     "data": {
      "text/html": [
       "<span style=\"color:cyan\"> |-tuner/initial_epoch: 0</span>"
      ],
      "text/plain": [
       "<IPython.core.display.HTML object>"
      ]
     },
     "metadata": {},
     "output_type": "display_data"
    },
    {
     "data": {
      "text/html": [
       "<span style=\"color:blue\"> |-tuner/round: 0</span>"
      ],
      "text/plain": [
       "<IPython.core.display.HTML object>"
      ]
     },
     "metadata": {},
     "output_type": "display_data"
    },
    {
     "name": "stdout",
     "output_type": "stream",
     "text": [
      "Train on 14450 samples, validate on 2550 samples\n",
      "Epoch 1/3\n",
      "14450/14450 - 2s - loss: 0.1420 - mean_squared_error: 0.1420 - val_loss: 0.0895 - val_mean_squared_error: 0.0895\n",
      "Epoch 2/3\n",
      "14450/14450 - 2s - loss: 0.0603 - mean_squared_error: 0.0603 - val_loss: 0.0379 - val_mean_squared_error: 0.0379\n",
      "Epoch 3/3\n",
      "14450/14450 - 2s - loss: 0.0243 - mean_squared_error: 0.0243 - val_loss: 0.0141 - val_mean_squared_error: 0.0141\n"
     ]
    },
    {
     "data": {
      "text/html": [
       "<span style=\"color:#4527A0\"><h1 style=\"font-size:18px\">Trial complete</h1></span>"
      ],
      "text/plain": [
       "<IPython.core.display.HTML object>"
      ]
     },
     "metadata": {},
     "output_type": "display_data"
    },
    {
     "data": {
      "text/html": [
       "<span style=\"color:#4527A0\"><h1 style=\"font-size:18px\">Trial summary</h1></span>"
      ],
      "text/plain": [
       "<IPython.core.display.HTML object>"
      ]
     },
     "metadata": {},
     "output_type": "display_data"
    },
    {
     "data": {
      "text/html": [
       "<span style=\"color:cyan\"> |-Trial ID: dae85b4b7a7d19d970de799402dddfcc</span>"
      ],
      "text/plain": [
       "<IPython.core.display.HTML object>"
      ]
     },
     "metadata": {},
     "output_type": "display_data"
    },
    {
     "data": {
      "text/html": [
       "<span style=\"color:cyan\"> |-Score: 0.024349499493837357</span>"
      ],
      "text/plain": [
       "<IPython.core.display.HTML object>"
      ]
     },
     "metadata": {},
     "output_type": "display_data"
    },
    {
     "data": {
      "text/html": [
       "<span style=\"color:cyan\"> |-Best step: 0</span>"
      ],
      "text/plain": [
       "<IPython.core.display.HTML object>"
      ]
     },
     "metadata": {},
     "output_type": "display_data"
    },
    {
     "data": {
      "text/html": [
       "<span style=\"color:#7E57C2\"><h2 style=\"font-size:16px\">Hyperparameters:</h2></span>"
      ],
      "text/plain": [
       "<IPython.core.display.HTML object>"
      ]
     },
     "metadata": {},
     "output_type": "display_data"
    },
    {
     "data": {
      "text/html": [
       "<span style=\"color:cyan\"> |-hidden_0_units: 256</span>"
      ],
      "text/plain": [
       "<IPython.core.display.HTML object>"
      ]
     },
     "metadata": {},
     "output_type": "display_data"
    },
    {
     "data": {
      "text/html": [
       "<span style=\"color:blue\"> |-hidden_1_units: 107</span>"
      ],
      "text/plain": [
       "<IPython.core.display.HTML object>"
      ]
     },
     "metadata": {},
     "output_type": "display_data"
    },
    {
     "data": {
      "text/html": [
       "<span style=\"color:cyan\"> |-learning_rate: 0.0001</span>"
      ],
      "text/plain": [
       "<IPython.core.display.HTML object>"
      ]
     },
     "metadata": {},
     "output_type": "display_data"
    },
    {
     "data": {
      "text/html": [
       "<span style=\"color:blue\"> |-n_layers: 2</span>"
      ],
      "text/plain": [
       "<IPython.core.display.HTML object>"
      ]
     },
     "metadata": {},
     "output_type": "display_data"
    },
    {
     "data": {
      "text/html": [
       "<span style=\"color:cyan\"> |-tuner/bracket: 2</span>"
      ],
      "text/plain": [
       "<IPython.core.display.HTML object>"
      ]
     },
     "metadata": {},
     "output_type": "display_data"
    },
    {
     "data": {
      "text/html": [
       "<span style=\"color:blue\"> |-tuner/epochs: 3</span>"
      ],
      "text/plain": [
       "<IPython.core.display.HTML object>"
      ]
     },
     "metadata": {},
     "output_type": "display_data"
    },
    {
     "data": {
      "text/html": [
       "<span style=\"color:cyan\"> |-tuner/initial_epoch: 0</span>"
      ],
      "text/plain": [
       "<IPython.core.display.HTML object>"
      ]
     },
     "metadata": {},
     "output_type": "display_data"
    },
    {
     "data": {
      "text/html": [
       "<span style=\"color:blue\"> |-tuner/round: 0</span>"
      ],
      "text/plain": [
       "<IPython.core.display.HTML object>"
      ]
     },
     "metadata": {},
     "output_type": "display_data"
    },
    {
     "name": "stdout",
     "output_type": "stream",
     "text": [
      "Train on 14450 samples, validate on 2550 samples\n",
      "Epoch 1/3\n",
      "14450/14450 - 2s - loss: 0.0186 - mean_squared_error: 0.0186 - val_loss: 7.1810e-04 - val_mean_squared_error: 7.1810e-04\n",
      "Epoch 2/3\n",
      "14450/14450 - 2s - loss: 4.4966e-04 - mean_squared_error: 4.4966e-04 - val_loss: 6.2841e-04 - val_mean_squared_error: 6.2841e-04\n",
      "Epoch 3/3\n",
      "14450/14450 - 2s - loss: 4.6841e-04 - mean_squared_error: 4.6841e-04 - val_loss: 5.3653e-04 - val_mean_squared_error: 5.3653e-04\n"
     ]
    },
    {
     "data": {
      "text/html": [
       "<span style=\"color:#4527A0\"><h1 style=\"font-size:18px\">Trial complete</h1></span>"
      ],
      "text/plain": [
       "<IPython.core.display.HTML object>"
      ]
     },
     "metadata": {},
     "output_type": "display_data"
    },
    {
     "data": {
      "text/html": [
       "<span style=\"color:#4527A0\"><h1 style=\"font-size:18px\">Trial summary</h1></span>"
      ],
      "text/plain": [
       "<IPython.core.display.HTML object>"
      ]
     },
     "metadata": {},
     "output_type": "display_data"
    },
    {
     "data": {
      "text/html": [
       "<span style=\"color:cyan\"> |-Trial ID: 434831b1e3129a15cb6cd1dec6ccaa79</span>"
      ],
      "text/plain": [
       "<IPython.core.display.HTML object>"
      ]
     },
     "metadata": {},
     "output_type": "display_data"
    },
    {
     "data": {
      "text/html": [
       "<span style=\"color:cyan\"> |-Score: 0.00044966209679841995</span>"
      ],
      "text/plain": [
       "<IPython.core.display.HTML object>"
      ]
     },
     "metadata": {},
     "output_type": "display_data"
    },
    {
     "data": {
      "text/html": [
       "<span style=\"color:cyan\"> |-Best step: 0</span>"
      ],
      "text/plain": [
       "<IPython.core.display.HTML object>"
      ]
     },
     "metadata": {},
     "output_type": "display_data"
    },
    {
     "data": {
      "text/html": [
       "<span style=\"color:#7E57C2\"><h2 style=\"font-size:16px\">Hyperparameters:</h2></span>"
      ],
      "text/plain": [
       "<IPython.core.display.HTML object>"
      ]
     },
     "metadata": {},
     "output_type": "display_data"
    },
    {
     "data": {
      "text/html": [
       "<span style=\"color:cyan\"> |-hidden_0_units: 215</span>"
      ],
      "text/plain": [
       "<IPython.core.display.HTML object>"
      ]
     },
     "metadata": {},
     "output_type": "display_data"
    },
    {
     "data": {
      "text/html": [
       "<span style=\"color:blue\"> |-hidden_1_units: 311</span>"
      ],
      "text/plain": [
       "<IPython.core.display.HTML object>"
      ]
     },
     "metadata": {},
     "output_type": "display_data"
    },
    {
     "data": {
      "text/html": [
       "<span style=\"color:cyan\"> |-learning_rate: 0.001</span>"
      ],
      "text/plain": [
       "<IPython.core.display.HTML object>"
      ]
     },
     "metadata": {},
     "output_type": "display_data"
    },
    {
     "data": {
      "text/html": [
       "<span style=\"color:blue\"> |-n_layers: 2</span>"
      ],
      "text/plain": [
       "<IPython.core.display.HTML object>"
      ]
     },
     "metadata": {},
     "output_type": "display_data"
    },
    {
     "data": {
      "text/html": [
       "<span style=\"color:cyan\"> |-tuner/bracket: 2</span>"
      ],
      "text/plain": [
       "<IPython.core.display.HTML object>"
      ]
     },
     "metadata": {},
     "output_type": "display_data"
    },
    {
     "data": {
      "text/html": [
       "<span style=\"color:blue\"> |-tuner/epochs: 3</span>"
      ],
      "text/plain": [
       "<IPython.core.display.HTML object>"
      ]
     },
     "metadata": {},
     "output_type": "display_data"
    },
    {
     "data": {
      "text/html": [
       "<span style=\"color:cyan\"> |-tuner/initial_epoch: 0</span>"
      ],
      "text/plain": [
       "<IPython.core.display.HTML object>"
      ]
     },
     "metadata": {},
     "output_type": "display_data"
    },
    {
     "data": {
      "text/html": [
       "<span style=\"color:blue\"> |-tuner/round: 0</span>"
      ],
      "text/plain": [
       "<IPython.core.display.HTML object>"
      ]
     },
     "metadata": {},
     "output_type": "display_data"
    },
    {
     "name": "stdout",
     "output_type": "stream",
     "text": [
      "Train on 14450 samples, validate on 2550 samples\n",
      "Epoch 1/3\n",
      "14450/14450 - 2s - loss: 0.0125 - mean_squared_error: 0.0125 - val_loss: 4.9479e-04 - val_mean_squared_error: 4.9479e-04\n",
      "Epoch 2/3\n",
      "14450/14450 - 1s - loss: 5.5302e-04 - mean_squared_error: 5.5302e-04 - val_loss: 3.9756e-04 - val_mean_squared_error: 3.9756e-04\n",
      "Epoch 3/3\n",
      "14450/14450 - 1s - loss: 4.6766e-04 - mean_squared_error: 4.6766e-04 - val_loss: 5.6836e-04 - val_mean_squared_error: 5.6836e-04\n"
     ]
    },
    {
     "data": {
      "text/html": [
       "<span style=\"color:#4527A0\"><h1 style=\"font-size:18px\">Trial complete</h1></span>"
      ],
      "text/plain": [
       "<IPython.core.display.HTML object>"
      ]
     },
     "metadata": {},
     "output_type": "display_data"
    },
    {
     "data": {
      "text/html": [
       "<span style=\"color:#4527A0\"><h1 style=\"font-size:18px\">Trial summary</h1></span>"
      ],
      "text/plain": [
       "<IPython.core.display.HTML object>"
      ]
     },
     "metadata": {},
     "output_type": "display_data"
    },
    {
     "data": {
      "text/html": [
       "<span style=\"color:cyan\"> |-Trial ID: 75135a79b534df6a48f478d645ee89b6</span>"
      ],
      "text/plain": [
       "<IPython.core.display.HTML object>"
      ]
     },
     "metadata": {},
     "output_type": "display_data"
    },
    {
     "data": {
      "text/html": [
       "<span style=\"color:cyan\"> |-Score: 0.0004676553944591433</span>"
      ],
      "text/plain": [
       "<IPython.core.display.HTML object>"
      ]
     },
     "metadata": {},
     "output_type": "display_data"
    },
    {
     "data": {
      "text/html": [
       "<span style=\"color:cyan\"> |-Best step: 0</span>"
      ],
      "text/plain": [
       "<IPython.core.display.HTML object>"
      ]
     },
     "metadata": {},
     "output_type": "display_data"
    },
    {
     "data": {
      "text/html": [
       "<span style=\"color:#7E57C2\"><h2 style=\"font-size:16px\">Hyperparameters:</h2></span>"
      ],
      "text/plain": [
       "<IPython.core.display.HTML object>"
      ]
     },
     "metadata": {},
     "output_type": "display_data"
    },
    {
     "data": {
      "text/html": [
       "<span style=\"color:cyan\"> |-hidden_0_units: 68</span>"
      ],
      "text/plain": [
       "<IPython.core.display.HTML object>"
      ]
     },
     "metadata": {},
     "output_type": "display_data"
    },
    {
     "data": {
      "text/html": [
       "<span style=\"color:blue\"> |-hidden_1_units: 296</span>"
      ],
      "text/plain": [
       "<IPython.core.display.HTML object>"
      ]
     },
     "metadata": {},
     "output_type": "display_data"
    },
    {
     "data": {
      "text/html": [
       "<span style=\"color:cyan\"> |-learning_rate: 0.01</span>"
      ],
      "text/plain": [
       "<IPython.core.display.HTML object>"
      ]
     },
     "metadata": {},
     "output_type": "display_data"
    },
    {
     "data": {
      "text/html": [
       "<span style=\"color:blue\"> |-n_layers: 1</span>"
      ],
      "text/plain": [
       "<IPython.core.display.HTML object>"
      ]
     },
     "metadata": {},
     "output_type": "display_data"
    },
    {
     "data": {
      "text/html": [
       "<span style=\"color:cyan\"> |-tuner/bracket: 2</span>"
      ],
      "text/plain": [
       "<IPython.core.display.HTML object>"
      ]
     },
     "metadata": {},
     "output_type": "display_data"
    },
    {
     "data": {
      "text/html": [
       "<span style=\"color:blue\"> |-tuner/epochs: 3</span>"
      ],
      "text/plain": [
       "<IPython.core.display.HTML object>"
      ]
     },
     "metadata": {},
     "output_type": "display_data"
    },
    {
     "data": {
      "text/html": [
       "<span style=\"color:cyan\"> |-tuner/initial_epoch: 0</span>"
      ],
      "text/plain": [
       "<IPython.core.display.HTML object>"
      ]
     },
     "metadata": {},
     "output_type": "display_data"
    },
    {
     "data": {
      "text/html": [
       "<span style=\"color:blue\"> |-tuner/round: 0</span>"
      ],
      "text/plain": [
       "<IPython.core.display.HTML object>"
      ]
     },
     "metadata": {},
     "output_type": "display_data"
    },
    {
     "name": "stdout",
     "output_type": "stream",
     "text": [
      "Train on 14450 samples, validate on 2550 samples\n",
      "Epoch 1/3\n",
      "14450/14450 - 2s - loss: 0.0376 - mean_squared_error: 0.0376 - val_loss: 0.0020 - val_mean_squared_error: 0.0020\n",
      "Epoch 2/3\n",
      "14450/14450 - 1s - loss: 0.0010 - mean_squared_error: 0.0010 - val_loss: 5.9553e-04 - val_mean_squared_error: 5.9553e-04\n",
      "Epoch 3/3\n",
      "14450/14450 - 1s - loss: 5.0725e-04 - mean_squared_error: 5.0725e-04 - val_loss: 4.0259e-04 - val_mean_squared_error: 4.0259e-04\n"
     ]
    },
    {
     "data": {
      "text/html": [
       "<span style=\"color:#4527A0\"><h1 style=\"font-size:18px\">Trial complete</h1></span>"
      ],
      "text/plain": [
       "<IPython.core.display.HTML object>"
      ]
     },
     "metadata": {},
     "output_type": "display_data"
    },
    {
     "data": {
      "text/html": [
       "<span style=\"color:#4527A0\"><h1 style=\"font-size:18px\">Trial summary</h1></span>"
      ],
      "text/plain": [
       "<IPython.core.display.HTML object>"
      ]
     },
     "metadata": {},
     "output_type": "display_data"
    },
    {
     "data": {
      "text/html": [
       "<span style=\"color:cyan\"> |-Trial ID: fcfc581bb977b6b30cc84df1e34d29f7</span>"
      ],
      "text/plain": [
       "<IPython.core.display.HTML object>"
      ]
     },
     "metadata": {},
     "output_type": "display_data"
    },
    {
     "data": {
      "text/html": [
       "<span style=\"color:cyan\"> |-Score: 0.000507248449139297</span>"
      ],
      "text/plain": [
       "<IPython.core.display.HTML object>"
      ]
     },
     "metadata": {},
     "output_type": "display_data"
    },
    {
     "data": {
      "text/html": [
       "<span style=\"color:cyan\"> |-Best step: 0</span>"
      ],
      "text/plain": [
       "<IPython.core.display.HTML object>"
      ]
     },
     "metadata": {},
     "output_type": "display_data"
    },
    {
     "data": {
      "text/html": [
       "<span style=\"color:#7E57C2\"><h2 style=\"font-size:16px\">Hyperparameters:</h2></span>"
      ],
      "text/plain": [
       "<IPython.core.display.HTML object>"
      ]
     },
     "metadata": {},
     "output_type": "display_data"
    },
    {
     "data": {
      "text/html": [
       "<span style=\"color:cyan\"> |-hidden_0_units: 301</span>"
      ],
      "text/plain": [
       "<IPython.core.display.HTML object>"
      ]
     },
     "metadata": {},
     "output_type": "display_data"
    },
    {
     "data": {
      "text/html": [
       "<span style=\"color:blue\"> |-hidden_1_units: 216</span>"
      ],
      "text/plain": [
       "<IPython.core.display.HTML object>"
      ]
     },
     "metadata": {},
     "output_type": "display_data"
    },
    {
     "data": {
      "text/html": [
       "<span style=\"color:cyan\"> |-learning_rate: 0.001</span>"
      ],
      "text/plain": [
       "<IPython.core.display.HTML object>"
      ]
     },
     "metadata": {},
     "output_type": "display_data"
    },
    {
     "data": {
      "text/html": [
       "<span style=\"color:blue\"> |-n_layers: 1</span>"
      ],
      "text/plain": [
       "<IPython.core.display.HTML object>"
      ]
     },
     "metadata": {},
     "output_type": "display_data"
    },
    {
     "data": {
      "text/html": [
       "<span style=\"color:cyan\"> |-tuner/bracket: 2</span>"
      ],
      "text/plain": [
       "<IPython.core.display.HTML object>"
      ]
     },
     "metadata": {},
     "output_type": "display_data"
    },
    {
     "data": {
      "text/html": [
       "<span style=\"color:blue\"> |-tuner/epochs: 3</span>"
      ],
      "text/plain": [
       "<IPython.core.display.HTML object>"
      ]
     },
     "metadata": {},
     "output_type": "display_data"
    },
    {
     "data": {
      "text/html": [
       "<span style=\"color:cyan\"> |-tuner/initial_epoch: 0</span>"
      ],
      "text/plain": [
       "<IPython.core.display.HTML object>"
      ]
     },
     "metadata": {},
     "output_type": "display_data"
    },
    {
     "data": {
      "text/html": [
       "<span style=\"color:blue\"> |-tuner/round: 0</span>"
      ],
      "text/plain": [
       "<IPython.core.display.HTML object>"
      ]
     },
     "metadata": {},
     "output_type": "display_data"
    },
    {
     "name": "stdout",
     "output_type": "stream",
     "text": [
      "Train on 14450 samples, validate on 2550 samples\n",
      "Epoch 1/3\n",
      "14450/14450 - 2s - loss: 0.1149 - mean_squared_error: 0.1149 - val_loss: 0.0528 - val_mean_squared_error: 0.0528\n",
      "Epoch 2/3\n",
      "14450/14450 - 2s - loss: 0.0281 - mean_squared_error: 0.0281 - val_loss: 0.0121 - val_mean_squared_error: 0.0121\n",
      "Epoch 3/3\n",
      "14450/14450 - 2s - loss: 0.0066 - mean_squared_error: 0.0066 - val_loss: 0.0034 - val_mean_squared_error: 0.0034\n"
     ]
    },
    {
     "data": {
      "text/html": [
       "<span style=\"color:#4527A0\"><h1 style=\"font-size:18px\">Trial complete</h1></span>"
      ],
      "text/plain": [
       "<IPython.core.display.HTML object>"
      ]
     },
     "metadata": {},
     "output_type": "display_data"
    },
    {
     "data": {
      "text/html": [
       "<span style=\"color:#4527A0\"><h1 style=\"font-size:18px\">Trial summary</h1></span>"
      ],
      "text/plain": [
       "<IPython.core.display.HTML object>"
      ]
     },
     "metadata": {},
     "output_type": "display_data"
    },
    {
     "data": {
      "text/html": [
       "<span style=\"color:cyan\"> |-Trial ID: dfe381258660fcabbe7ca6da5b9b533b</span>"
      ],
      "text/plain": [
       "<IPython.core.display.HTML object>"
      ]
     },
     "metadata": {},
     "output_type": "display_data"
    },
    {
     "data": {
      "text/html": [
       "<span style=\"color:cyan\"> |-Score: 0.006645233836025</span>"
      ],
      "text/plain": [
       "<IPython.core.display.HTML object>"
      ]
     },
     "metadata": {},
     "output_type": "display_data"
    },
    {
     "data": {
      "text/html": [
       "<span style=\"color:cyan\"> |-Best step: 0</span>"
      ],
      "text/plain": [
       "<IPython.core.display.HTML object>"
      ]
     },
     "metadata": {},
     "output_type": "display_data"
    },
    {
     "data": {
      "text/html": [
       "<span style=\"color:#7E57C2\"><h2 style=\"font-size:16px\">Hyperparameters:</h2></span>"
      ],
      "text/plain": [
       "<IPython.core.display.HTML object>"
      ]
     },
     "metadata": {},
     "output_type": "display_data"
    },
    {
     "data": {
      "text/html": [
       "<span style=\"color:cyan\"> |-hidden_0_units: 286</span>"
      ],
      "text/plain": [
       "<IPython.core.display.HTML object>"
      ]
     },
     "metadata": {},
     "output_type": "display_data"
    },
    {
     "data": {
      "text/html": [
       "<span style=\"color:blue\"> |-hidden_1_units: 267</span>"
      ],
      "text/plain": [
       "<IPython.core.display.HTML object>"
      ]
     },
     "metadata": {},
     "output_type": "display_data"
    },
    {
     "data": {
      "text/html": [
       "<span style=\"color:cyan\"> |-learning_rate: 0.0001</span>"
      ],
      "text/plain": [
       "<IPython.core.display.HTML object>"
      ]
     },
     "metadata": {},
     "output_type": "display_data"
    },
    {
     "data": {
      "text/html": [
       "<span style=\"color:blue\"> |-n_layers: 2</span>"
      ],
      "text/plain": [
       "<IPython.core.display.HTML object>"
      ]
     },
     "metadata": {},
     "output_type": "display_data"
    },
    {
     "data": {
      "text/html": [
       "<span style=\"color:cyan\"> |-tuner/bracket: 2</span>"
      ],
      "text/plain": [
       "<IPython.core.display.HTML object>"
      ]
     },
     "metadata": {},
     "output_type": "display_data"
    },
    {
     "data": {
      "text/html": [
       "<span style=\"color:blue\"> |-tuner/epochs: 3</span>"
      ],
      "text/plain": [
       "<IPython.core.display.HTML object>"
      ]
     },
     "metadata": {},
     "output_type": "display_data"
    },
    {
     "data": {
      "text/html": [
       "<span style=\"color:cyan\"> |-tuner/initial_epoch: 0</span>"
      ],
      "text/plain": [
       "<IPython.core.display.HTML object>"
      ]
     },
     "metadata": {},
     "output_type": "display_data"
    },
    {
     "data": {
      "text/html": [
       "<span style=\"color:blue\"> |-tuner/round: 0</span>"
      ],
      "text/plain": [
       "<IPython.core.display.HTML object>"
      ]
     },
     "metadata": {},
     "output_type": "display_data"
    },
    {
     "name": "stdout",
     "output_type": "stream",
     "text": [
      "Train on 14450 samples, validate on 2550 samples\n",
      "Epoch 1/3\n",
      "14450/14450 - 2s - loss: 0.0062 - mean_squared_error: 0.0062 - val_loss: 0.0016 - val_mean_squared_error: 0.0016\n",
      "Epoch 2/3\n",
      "14450/14450 - 2s - loss: 0.0750 - mean_squared_error: 0.0750 - val_loss: 0.1820 - val_mean_squared_error: 0.1820\n",
      "Epoch 3/3\n",
      "14450/14450 - 2s - loss: 0.2303 - mean_squared_error: 0.2303 - val_loss: 0.2202 - val_mean_squared_error: 0.2202\n"
     ]
    },
    {
     "data": {
      "text/html": [
       "<span style=\"color:#4527A0\"><h1 style=\"font-size:18px\">Trial complete</h1></span>"
      ],
      "text/plain": [
       "<IPython.core.display.HTML object>"
      ]
     },
     "metadata": {},
     "output_type": "display_data"
    },
    {
     "data": {
      "text/html": [
       "<span style=\"color:#4527A0\"><h1 style=\"font-size:18px\">Trial summary</h1></span>"
      ],
      "text/plain": [
       "<IPython.core.display.HTML object>"
      ]
     },
     "metadata": {},
     "output_type": "display_data"
    },
    {
     "data": {
      "text/html": [
       "<span style=\"color:cyan\"> |-Trial ID: edd7f5db37a51ec8f2800c9c9b95366a</span>"
      ],
      "text/plain": [
       "<IPython.core.display.HTML object>"
      ]
     },
     "metadata": {},
     "output_type": "display_data"
    },
    {
     "data": {
      "text/html": [
       "<span style=\"color:cyan\"> |-Score: 0.006187327206134796</span>"
      ],
      "text/plain": [
       "<IPython.core.display.HTML object>"
      ]
     },
     "metadata": {},
     "output_type": "display_data"
    },
    {
     "data": {
      "text/html": [
       "<span style=\"color:cyan\"> |-Best step: 0</span>"
      ],
      "text/plain": [
       "<IPython.core.display.HTML object>"
      ]
     },
     "metadata": {},
     "output_type": "display_data"
    },
    {
     "data": {
      "text/html": [
       "<span style=\"color:#7E57C2\"><h2 style=\"font-size:16px\">Hyperparameters:</h2></span>"
      ],
      "text/plain": [
       "<IPython.core.display.HTML object>"
      ]
     },
     "metadata": {},
     "output_type": "display_data"
    },
    {
     "data": {
      "text/html": [
       "<span style=\"color:cyan\"> |-hidden_0_units: 269</span>"
      ],
      "text/plain": [
       "<IPython.core.display.HTML object>"
      ]
     },
     "metadata": {},
     "output_type": "display_data"
    },
    {
     "data": {
      "text/html": [
       "<span style=\"color:blue\"> |-hidden_1_units: 154</span>"
      ],
      "text/plain": [
       "<IPython.core.display.HTML object>"
      ]
     },
     "metadata": {},
     "output_type": "display_data"
    },
    {
     "data": {
      "text/html": [
       "<span style=\"color:cyan\"> |-learning_rate: 0.01</span>"
      ],
      "text/plain": [
       "<IPython.core.display.HTML object>"
      ]
     },
     "metadata": {},
     "output_type": "display_data"
    },
    {
     "data": {
      "text/html": [
       "<span style=\"color:blue\"> |-n_layers: 2</span>"
      ],
      "text/plain": [
       "<IPython.core.display.HTML object>"
      ]
     },
     "metadata": {},
     "output_type": "display_data"
    },
    {
     "data": {
      "text/html": [
       "<span style=\"color:cyan\"> |-tuner/bracket: 2</span>"
      ],
      "text/plain": [
       "<IPython.core.display.HTML object>"
      ]
     },
     "metadata": {},
     "output_type": "display_data"
    },
    {
     "data": {
      "text/html": [
       "<span style=\"color:blue\"> |-tuner/epochs: 3</span>"
      ],
      "text/plain": [
       "<IPython.core.display.HTML object>"
      ]
     },
     "metadata": {},
     "output_type": "display_data"
    },
    {
     "data": {
      "text/html": [
       "<span style=\"color:cyan\"> |-tuner/initial_epoch: 0</span>"
      ],
      "text/plain": [
       "<IPython.core.display.HTML object>"
      ]
     },
     "metadata": {},
     "output_type": "display_data"
    },
    {
     "data": {
      "text/html": [
       "<span style=\"color:blue\"> |-tuner/round: 0</span>"
      ],
      "text/plain": [
       "<IPython.core.display.HTML object>"
      ]
     },
     "metadata": {},
     "output_type": "display_data"
    },
    {
     "name": "stdout",
     "output_type": "stream",
     "text": [
      "Train on 14450 samples, validate on 2550 samples\n",
      "Epoch 1/3\n",
      "14450/14450 - 2s - loss: 0.0568 - mean_squared_error: 0.0568 - val_loss: 0.0502 - val_mean_squared_error: 0.0502\n",
      "Epoch 2/3\n",
      "14450/14450 - 1s - loss: 0.0491 - mean_squared_error: 0.0491 - val_loss: 0.0499 - val_mean_squared_error: 0.0499\n",
      "Epoch 3/3\n",
      "14450/14450 - 1s - loss: 0.0482 - mean_squared_error: 0.0482 - val_loss: 0.0498 - val_mean_squared_error: 0.0498\n"
     ]
    },
    {
     "data": {
      "text/html": [
       "<span style=\"color:#4527A0\"><h1 style=\"font-size:18px\">Trial complete</h1></span>"
      ],
      "text/plain": [
       "<IPython.core.display.HTML object>"
      ]
     },
     "metadata": {},
     "output_type": "display_data"
    },
    {
     "data": {
      "text/html": [
       "<span style=\"color:#4527A0\"><h1 style=\"font-size:18px\">Trial summary</h1></span>"
      ],
      "text/plain": [
       "<IPython.core.display.HTML object>"
      ]
     },
     "metadata": {},
     "output_type": "display_data"
    },
    {
     "data": {
      "text/html": [
       "<span style=\"color:cyan\"> |-Trial ID: e7c1725c49ee01f9603d20ae818f1339</span>"
      ],
      "text/plain": [
       "<IPython.core.display.HTML object>"
      ]
     },
     "metadata": {},
     "output_type": "display_data"
    },
    {
     "data": {
      "text/html": [
       "<span style=\"color:cyan\"> |-Score: 0.04822849854826927</span>"
      ],
      "text/plain": [
       "<IPython.core.display.HTML object>"
      ]
     },
     "metadata": {},
     "output_type": "display_data"
    },
    {
     "data": {
      "text/html": [
       "<span style=\"color:cyan\"> |-Best step: 0</span>"
      ],
      "text/plain": [
       "<IPython.core.display.HTML object>"
      ]
     },
     "metadata": {},
     "output_type": "display_data"
    },
    {
     "data": {
      "text/html": [
       "<span style=\"color:#7E57C2\"><h2 style=\"font-size:16px\">Hyperparameters:</h2></span>"
      ],
      "text/plain": [
       "<IPython.core.display.HTML object>"
      ]
     },
     "metadata": {},
     "output_type": "display_data"
    },
    {
     "data": {
      "text/html": [
       "<span style=\"color:cyan\"> |-hidden_0_units: 22</span>"
      ],
      "text/plain": [
       "<IPython.core.display.HTML object>"
      ]
     },
     "metadata": {},
     "output_type": "display_data"
    },
    {
     "data": {
      "text/html": [
       "<span style=\"color:blue\"> |-hidden_1_units: 112</span>"
      ],
      "text/plain": [
       "<IPython.core.display.HTML object>"
      ]
     },
     "metadata": {},
     "output_type": "display_data"
    },
    {
     "data": {
      "text/html": [
       "<span style=\"color:cyan\"> |-learning_rate: 0.01</span>"
      ],
      "text/plain": [
       "<IPython.core.display.HTML object>"
      ]
     },
     "metadata": {},
     "output_type": "display_data"
    },
    {
     "data": {
      "text/html": [
       "<span style=\"color:blue\"> |-n_layers: 2</span>"
      ],
      "text/plain": [
       "<IPython.core.display.HTML object>"
      ]
     },
     "metadata": {},
     "output_type": "display_data"
    },
    {
     "data": {
      "text/html": [
       "<span style=\"color:cyan\"> |-tuner/bracket: 2</span>"
      ],
      "text/plain": [
       "<IPython.core.display.HTML object>"
      ]
     },
     "metadata": {},
     "output_type": "display_data"
    },
    {
     "data": {
      "text/html": [
       "<span style=\"color:blue\"> |-tuner/epochs: 3</span>"
      ],
      "text/plain": [
       "<IPython.core.display.HTML object>"
      ]
     },
     "metadata": {},
     "output_type": "display_data"
    },
    {
     "data": {
      "text/html": [
       "<span style=\"color:cyan\"> |-tuner/initial_epoch: 0</span>"
      ],
      "text/plain": [
       "<IPython.core.display.HTML object>"
      ]
     },
     "metadata": {},
     "output_type": "display_data"
    },
    {
     "data": {
      "text/html": [
       "<span style=\"color:blue\"> |-tuner/round: 0</span>"
      ],
      "text/plain": [
       "<IPython.core.display.HTML object>"
      ]
     },
     "metadata": {},
     "output_type": "display_data"
    },
    {
     "name": "stdout",
     "output_type": "stream",
     "text": [
      "Train on 14450 samples, validate on 2550 samples\n",
      "Epoch 1/3\n",
      "14450/14450 - 2s - loss: 0.1165 - mean_squared_error: 0.1165 - val_loss: 0.0532 - val_mean_squared_error: 0.0532\n",
      "Epoch 2/3\n",
      "14450/14450 - 2s - loss: 0.0283 - mean_squared_error: 0.0283 - val_loss: 0.0124 - val_mean_squared_error: 0.0124\n",
      "Epoch 3/3\n",
      "14450/14450 - 2s - loss: 0.0068 - mean_squared_error: 0.0068 - val_loss: 0.0035 - val_mean_squared_error: 0.0035\n"
     ]
    },
    {
     "data": {
      "text/html": [
       "<span style=\"color:#4527A0\"><h1 style=\"font-size:18px\">Trial complete</h1></span>"
      ],
      "text/plain": [
       "<IPython.core.display.HTML object>"
      ]
     },
     "metadata": {},
     "output_type": "display_data"
    },
    {
     "data": {
      "text/html": [
       "<span style=\"color:#4527A0\"><h1 style=\"font-size:18px\">Trial summary</h1></span>"
      ],
      "text/plain": [
       "<IPython.core.display.HTML object>"
      ]
     },
     "metadata": {},
     "output_type": "display_data"
    },
    {
     "data": {
      "text/html": [
       "<span style=\"color:cyan\"> |-Trial ID: 6a468cf592277cde801a1570087bc455</span>"
      ],
      "text/plain": [
       "<IPython.core.display.HTML object>"
      ]
     },
     "metadata": {},
     "output_type": "display_data"
    },
    {
     "data": {
      "text/html": [
       "<span style=\"color:cyan\"> |-Score: 0.006783831864595413</span>"
      ],
      "text/plain": [
       "<IPython.core.display.HTML object>"
      ]
     },
     "metadata": {},
     "output_type": "display_data"
    },
    {
     "data": {
      "text/html": [
       "<span style=\"color:cyan\"> |-Best step: 0</span>"
      ],
      "text/plain": [
       "<IPython.core.display.HTML object>"
      ]
     },
     "metadata": {},
     "output_type": "display_data"
    },
    {
     "data": {
      "text/html": [
       "<span style=\"color:#7E57C2\"><h2 style=\"font-size:16px\">Hyperparameters:</h2></span>"
      ],
      "text/plain": [
       "<IPython.core.display.HTML object>"
      ]
     },
     "metadata": {},
     "output_type": "display_data"
    },
    {
     "data": {
      "text/html": [
       "<span style=\"color:cyan\"> |-hidden_0_units: 275</span>"
      ],
      "text/plain": [
       "<IPython.core.display.HTML object>"
      ]
     },
     "metadata": {},
     "output_type": "display_data"
    },
    {
     "data": {
      "text/html": [
       "<span style=\"color:blue\"> |-hidden_1_units: 278</span>"
      ],
      "text/plain": [
       "<IPython.core.display.HTML object>"
      ]
     },
     "metadata": {},
     "output_type": "display_data"
    },
    {
     "data": {
      "text/html": [
       "<span style=\"color:cyan\"> |-learning_rate: 0.0001</span>"
      ],
      "text/plain": [
       "<IPython.core.display.HTML object>"
      ]
     },
     "metadata": {},
     "output_type": "display_data"
    },
    {
     "data": {
      "text/html": [
       "<span style=\"color:blue\"> |-n_layers: 2</span>"
      ],
      "text/plain": [
       "<IPython.core.display.HTML object>"
      ]
     },
     "metadata": {},
     "output_type": "display_data"
    },
    {
     "data": {
      "text/html": [
       "<span style=\"color:cyan\"> |-tuner/bracket: 2</span>"
      ],
      "text/plain": [
       "<IPython.core.display.HTML object>"
      ]
     },
     "metadata": {},
     "output_type": "display_data"
    },
    {
     "data": {
      "text/html": [
       "<span style=\"color:blue\"> |-tuner/epochs: 3</span>"
      ],
      "text/plain": [
       "<IPython.core.display.HTML object>"
      ]
     },
     "metadata": {},
     "output_type": "display_data"
    },
    {
     "data": {
      "text/html": [
       "<span style=\"color:cyan\"> |-tuner/initial_epoch: 0</span>"
      ],
      "text/plain": [
       "<IPython.core.display.HTML object>"
      ]
     },
     "metadata": {},
     "output_type": "display_data"
    },
    {
     "data": {
      "text/html": [
       "<span style=\"color:blue\"> |-tuner/round: 0</span>"
      ],
      "text/plain": [
       "<IPython.core.display.HTML object>"
      ]
     },
     "metadata": {},
     "output_type": "display_data"
    },
    {
     "name": "stdout",
     "output_type": "stream",
     "text": [
      "Train on 14450 samples, validate on 2550 samples\n",
      "Epoch 4/9\n",
      "14450/14450 - 2s - loss: 0.0412 - mean_squared_error: 0.0412 - val_loss: 0.0018 - val_mean_squared_error: 0.0018\n",
      "Epoch 5/9\n",
      "14450/14450 - 1s - loss: 7.8884e-04 - mean_squared_error: 7.8884e-04 - val_loss: 4.7490e-04 - val_mean_squared_error: 4.7490e-04\n",
      "Epoch 6/9\n",
      "14450/14450 - 1s - loss: 4.4139e-04 - mean_squared_error: 4.4139e-04 - val_loss: 3.8736e-04 - val_mean_squared_error: 3.8736e-04\n",
      "Epoch 7/9\n",
      "14450/14450 - 2s - loss: 3.8973e-04 - mean_squared_error: 3.8973e-04 - val_loss: 3.7289e-04 - val_mean_squared_error: 3.7289e-04\n",
      "Epoch 8/9\n",
      "14450/14450 - 2s - loss: 3.7113e-04 - mean_squared_error: 3.7113e-04 - val_loss: 4.8206e-04 - val_mean_squared_error: 4.8206e-04\n",
      "Epoch 9/9\n",
      "14450/14450 - 1s - loss: 3.9664e-04 - mean_squared_error: 3.9665e-04 - val_loss: 6.1450e-04 - val_mean_squared_error: 6.1450e-04\n"
     ]
    },
    {
     "data": {
      "text/html": [
       "<span style=\"color:#4527A0\"><h1 style=\"font-size:18px\">Trial complete</h1></span>"
      ],
      "text/plain": [
       "<IPython.core.display.HTML object>"
      ]
     },
     "metadata": {},
     "output_type": "display_data"
    },
    {
     "data": {
      "text/html": [
       "<span style=\"color:#4527A0\"><h1 style=\"font-size:18px\">Trial summary</h1></span>"
      ],
      "text/plain": [
       "<IPython.core.display.HTML object>"
      ]
     },
     "metadata": {},
     "output_type": "display_data"
    },
    {
     "data": {
      "text/html": [
       "<span style=\"color:cyan\"> |-Trial ID: 0d3d035023f33334e3383b7ef3633594</span>"
      ],
      "text/plain": [
       "<IPython.core.display.HTML object>"
      ]
     },
     "metadata": {},
     "output_type": "display_data"
    },
    {
     "data": {
      "text/html": [
       "<span style=\"color:cyan\"> |-Score: 0.00037113126018084586</span>"
      ],
      "text/plain": [
       "<IPython.core.display.HTML object>"
      ]
     },
     "metadata": {},
     "output_type": "display_data"
    },
    {
     "data": {
      "text/html": [
       "<span style=\"color:cyan\"> |-Best step: 0</span>"
      ],
      "text/plain": [
       "<IPython.core.display.HTML object>"
      ]
     },
     "metadata": {},
     "output_type": "display_data"
    },
    {
     "data": {
      "text/html": [
       "<span style=\"color:#7E57C2\"><h2 style=\"font-size:16px\">Hyperparameters:</h2></span>"
      ],
      "text/plain": [
       "<IPython.core.display.HTML object>"
      ]
     },
     "metadata": {},
     "output_type": "display_data"
    },
    {
     "data": {
      "text/html": [
       "<span style=\"color:cyan\"> |-hidden_0_units: 100</span>"
      ],
      "text/plain": [
       "<IPython.core.display.HTML object>"
      ]
     },
     "metadata": {},
     "output_type": "display_data"
    },
    {
     "data": {
      "text/html": [
       "<span style=\"color:blue\"> |-hidden_1_units: 97</span>"
      ],
      "text/plain": [
       "<IPython.core.display.HTML object>"
      ]
     },
     "metadata": {},
     "output_type": "display_data"
    },
    {
     "data": {
      "text/html": [
       "<span style=\"color:cyan\"> |-learning_rate: 0.001</span>"
      ],
      "text/plain": [
       "<IPython.core.display.HTML object>"
      ]
     },
     "metadata": {},
     "output_type": "display_data"
    },
    {
     "data": {
      "text/html": [
       "<span style=\"color:blue\"> |-n_layers: 2</span>"
      ],
      "text/plain": [
       "<IPython.core.display.HTML object>"
      ]
     },
     "metadata": {},
     "output_type": "display_data"
    },
    {
     "data": {
      "text/html": [
       "<span style=\"color:cyan\"> |-tuner/bracket: 2</span>"
      ],
      "text/plain": [
       "<IPython.core.display.HTML object>"
      ]
     },
     "metadata": {},
     "output_type": "display_data"
    },
    {
     "data": {
      "text/html": [
       "<span style=\"color:blue\"> |-tuner/epochs: 9</span>"
      ],
      "text/plain": [
       "<IPython.core.display.HTML object>"
      ]
     },
     "metadata": {},
     "output_type": "display_data"
    },
    {
     "data": {
      "text/html": [
       "<span style=\"color:cyan\"> |-tuner/initial_epoch: 3</span>"
      ],
      "text/plain": [
       "<IPython.core.display.HTML object>"
      ]
     },
     "metadata": {},
     "output_type": "display_data"
    },
    {
     "data": {
      "text/html": [
       "<span style=\"color:blue\"> |-tuner/round: 1</span>"
      ],
      "text/plain": [
       "<IPython.core.display.HTML object>"
      ]
     },
     "metadata": {},
     "output_type": "display_data"
    },
    {
     "data": {
      "text/html": [
       "<span style=\"color:cyan\"> |-tuner/trial_id: c8f6c9f00c47312c9750f1b2a1f28e57</span>"
      ],
      "text/plain": [
       "<IPython.core.display.HTML object>"
      ]
     },
     "metadata": {},
     "output_type": "display_data"
    },
    {
     "name": "stdout",
     "output_type": "stream",
     "text": [
      "Train on 14450 samples, validate on 2550 samples\n",
      "Epoch 4/9\n",
      "14450/14450 - 2s - loss: 0.0180 - mean_squared_error: 0.0180 - val_loss: 4.6222e-04 - val_mean_squared_error: 4.6222e-04\n",
      "Epoch 5/9\n",
      "14450/14450 - 2s - loss: 4.4676e-04 - mean_squared_error: 4.4676e-04 - val_loss: 4.7742e-04 - val_mean_squared_error: 4.7742e-04\n",
      "Epoch 6/9\n",
      "14450/14450 - 2s - loss: 4.3580e-04 - mean_squared_error: 4.3580e-04 - val_loss: 3.5854e-04 - val_mean_squared_error: 3.5854e-04\n",
      "Epoch 7/9\n",
      "14450/14450 - 2s - loss: 4.0962e-04 - mean_squared_error: 4.0962e-04 - val_loss: 4.2820e-04 - val_mean_squared_error: 4.2820e-04\n",
      "Epoch 8/9\n",
      "14450/14450 - 2s - loss: 4.0636e-04 - mean_squared_error: 4.0636e-04 - val_loss: 3.8501e-04 - val_mean_squared_error: 3.8501e-04\n",
      "Epoch 9/9\n",
      "14450/14450 - 2s - loss: 4.1480e-04 - mean_squared_error: 4.1480e-04 - val_loss: 4.3799e-04 - val_mean_squared_error: 4.3799e-04\n"
     ]
    },
    {
     "data": {
      "text/html": [
       "<span style=\"color:#4527A0\"><h1 style=\"font-size:18px\">Trial complete</h1></span>"
      ],
      "text/plain": [
       "<IPython.core.display.HTML object>"
      ]
     },
     "metadata": {},
     "output_type": "display_data"
    },
    {
     "data": {
      "text/html": [
       "<span style=\"color:#4527A0\"><h1 style=\"font-size:18px\">Trial summary</h1></span>"
      ],
      "text/plain": [
       "<IPython.core.display.HTML object>"
      ]
     },
     "metadata": {},
     "output_type": "display_data"
    },
    {
     "data": {
      "text/html": [
       "<span style=\"color:cyan\"> |-Trial ID: ab95e0f64df74c7bf71c4ad3ad018f49</span>"
      ],
      "text/plain": [
       "<IPython.core.display.HTML object>"
      ]
     },
     "metadata": {},
     "output_type": "display_data"
    },
    {
     "data": {
      "text/html": [
       "<span style=\"color:cyan\"> |-Score: 0.00040635999175719917</span>"
      ],
      "text/plain": [
       "<IPython.core.display.HTML object>"
      ]
     },
     "metadata": {},
     "output_type": "display_data"
    },
    {
     "data": {
      "text/html": [
       "<span style=\"color:cyan\"> |-Best step: 0</span>"
      ],
      "text/plain": [
       "<IPython.core.display.HTML object>"
      ]
     },
     "metadata": {},
     "output_type": "display_data"
    },
    {
     "data": {
      "text/html": [
       "<span style=\"color:#7E57C2\"><h2 style=\"font-size:16px\">Hyperparameters:</h2></span>"
      ],
      "text/plain": [
       "<IPython.core.display.HTML object>"
      ]
     },
     "metadata": {},
     "output_type": "display_data"
    },
    {
     "data": {
      "text/html": [
       "<span style=\"color:cyan\"> |-hidden_0_units: 215</span>"
      ],
      "text/plain": [
       "<IPython.core.display.HTML object>"
      ]
     },
     "metadata": {},
     "output_type": "display_data"
    },
    {
     "data": {
      "text/html": [
       "<span style=\"color:blue\"> |-hidden_1_units: 311</span>"
      ],
      "text/plain": [
       "<IPython.core.display.HTML object>"
      ]
     },
     "metadata": {},
     "output_type": "display_data"
    },
    {
     "data": {
      "text/html": [
       "<span style=\"color:cyan\"> |-learning_rate: 0.001</span>"
      ],
      "text/plain": [
       "<IPython.core.display.HTML object>"
      ]
     },
     "metadata": {},
     "output_type": "display_data"
    },
    {
     "data": {
      "text/html": [
       "<span style=\"color:blue\"> |-n_layers: 2</span>"
      ],
      "text/plain": [
       "<IPython.core.display.HTML object>"
      ]
     },
     "metadata": {},
     "output_type": "display_data"
    },
    {
     "data": {
      "text/html": [
       "<span style=\"color:cyan\"> |-tuner/bracket: 2</span>"
      ],
      "text/plain": [
       "<IPython.core.display.HTML object>"
      ]
     },
     "metadata": {},
     "output_type": "display_data"
    },
    {
     "data": {
      "text/html": [
       "<span style=\"color:blue\"> |-tuner/epochs: 9</span>"
      ],
      "text/plain": [
       "<IPython.core.display.HTML object>"
      ]
     },
     "metadata": {},
     "output_type": "display_data"
    },
    {
     "data": {
      "text/html": [
       "<span style=\"color:cyan\"> |-tuner/initial_epoch: 3</span>"
      ],
      "text/plain": [
       "<IPython.core.display.HTML object>"
      ]
     },
     "metadata": {},
     "output_type": "display_data"
    },
    {
     "data": {
      "text/html": [
       "<span style=\"color:blue\"> |-tuner/round: 1</span>"
      ],
      "text/plain": [
       "<IPython.core.display.HTML object>"
      ]
     },
     "metadata": {},
     "output_type": "display_data"
    },
    {
     "data": {
      "text/html": [
       "<span style=\"color:cyan\"> |-tuner/trial_id: 434831b1e3129a15cb6cd1dec6ccaa79</span>"
      ],
      "text/plain": [
       "<IPython.core.display.HTML object>"
      ]
     },
     "metadata": {},
     "output_type": "display_data"
    },
    {
     "name": "stdout",
     "output_type": "stream",
     "text": [
      "Train on 14450 samples, validate on 2550 samples\n",
      "Epoch 4/9\n",
      "14450/14450 - 2s - loss: 0.0128 - mean_squared_error: 0.0128 - val_loss: 4.2196e-04 - val_mean_squared_error: 4.2196e-04\n",
      "Epoch 5/9\n",
      "14450/14450 - 1s - loss: 5.2375e-04 - mean_squared_error: 5.2375e-04 - val_loss: 4.8783e-04 - val_mean_squared_error: 4.8783e-04\n",
      "Epoch 6/9\n",
      "14450/14450 - 1s - loss: 5.9677e-04 - mean_squared_error: 5.9677e-04 - val_loss: 3.6199e-04 - val_mean_squared_error: 3.6199e-04\n",
      "Epoch 7/9\n",
      "14450/14450 - 1s - loss: 5.2844e-04 - mean_squared_error: 5.2844e-04 - val_loss: 4.5458e-04 - val_mean_squared_error: 4.5458e-04\n",
      "Epoch 8/9\n",
      "14450/14450 - 1s - loss: 4.8339e-04 - mean_squared_error: 4.8339e-04 - val_loss: 3.8263e-04 - val_mean_squared_error: 3.8263e-04\n",
      "Epoch 9/9\n",
      "14450/14450 - 1s - loss: 4.7972e-04 - mean_squared_error: 4.7972e-04 - val_loss: 4.8482e-04 - val_mean_squared_error: 4.8482e-04\n"
     ]
    },
    {
     "data": {
      "text/html": [
       "<span style=\"color:#4527A0\"><h1 style=\"font-size:18px\">Trial complete</h1></span>"
      ],
      "text/plain": [
       "<IPython.core.display.HTML object>"
      ]
     },
     "metadata": {},
     "output_type": "display_data"
    },
    {
     "data": {
      "text/html": [
       "<span style=\"color:#4527A0\"><h1 style=\"font-size:18px\">Trial summary</h1></span>"
      ],
      "text/plain": [
       "<IPython.core.display.HTML object>"
      ]
     },
     "metadata": {},
     "output_type": "display_data"
    },
    {
     "data": {
      "text/html": [
       "<span style=\"color:cyan\"> |-Trial ID: 96cd0ea9d552f2ea958473d2c10d5977</span>"
      ],
      "text/plain": [
       "<IPython.core.display.HTML object>"
      ]
     },
     "metadata": {},
     "output_type": "display_data"
    },
    {
     "data": {
      "text/html": [
       "<span style=\"color:cyan\"> |-Score: 0.00047971963067539036</span>"
      ],
      "text/plain": [
       "<IPython.core.display.HTML object>"
      ]
     },
     "metadata": {},
     "output_type": "display_data"
    },
    {
     "data": {
      "text/html": [
       "<span style=\"color:cyan\"> |-Best step: 0</span>"
      ],
      "text/plain": [
       "<IPython.core.display.HTML object>"
      ]
     },
     "metadata": {},
     "output_type": "display_data"
    },
    {
     "data": {
      "text/html": [
       "<span style=\"color:#7E57C2\"><h2 style=\"font-size:16px\">Hyperparameters:</h2></span>"
      ],
      "text/plain": [
       "<IPython.core.display.HTML object>"
      ]
     },
     "metadata": {},
     "output_type": "display_data"
    },
    {
     "data": {
      "text/html": [
       "<span style=\"color:cyan\"> |-hidden_0_units: 68</span>"
      ],
      "text/plain": [
       "<IPython.core.display.HTML object>"
      ]
     },
     "metadata": {},
     "output_type": "display_data"
    },
    {
     "data": {
      "text/html": [
       "<span style=\"color:blue\"> |-hidden_1_units: 296</span>"
      ],
      "text/plain": [
       "<IPython.core.display.HTML object>"
      ]
     },
     "metadata": {},
     "output_type": "display_data"
    },
    {
     "data": {
      "text/html": [
       "<span style=\"color:cyan\"> |-learning_rate: 0.01</span>"
      ],
      "text/plain": [
       "<IPython.core.display.HTML object>"
      ]
     },
     "metadata": {},
     "output_type": "display_data"
    },
    {
     "data": {
      "text/html": [
       "<span style=\"color:blue\"> |-n_layers: 1</span>"
      ],
      "text/plain": [
       "<IPython.core.display.HTML object>"
      ]
     },
     "metadata": {},
     "output_type": "display_data"
    },
    {
     "data": {
      "text/html": [
       "<span style=\"color:cyan\"> |-tuner/bracket: 2</span>"
      ],
      "text/plain": [
       "<IPython.core.display.HTML object>"
      ]
     },
     "metadata": {},
     "output_type": "display_data"
    },
    {
     "data": {
      "text/html": [
       "<span style=\"color:blue\"> |-tuner/epochs: 9</span>"
      ],
      "text/plain": [
       "<IPython.core.display.HTML object>"
      ]
     },
     "metadata": {},
     "output_type": "display_data"
    },
    {
     "data": {
      "text/html": [
       "<span style=\"color:cyan\"> |-tuner/initial_epoch: 3</span>"
      ],
      "text/plain": [
       "<IPython.core.display.HTML object>"
      ]
     },
     "metadata": {},
     "output_type": "display_data"
    },
    {
     "data": {
      "text/html": [
       "<span style=\"color:blue\"> |-tuner/round: 1</span>"
      ],
      "text/plain": [
       "<IPython.core.display.HTML object>"
      ]
     },
     "metadata": {},
     "output_type": "display_data"
    },
    {
     "data": {
      "text/html": [
       "<span style=\"color:cyan\"> |-tuner/trial_id: 75135a79b534df6a48f478d645ee89b6</span>"
      ],
      "text/plain": [
       "<IPython.core.display.HTML object>"
      ]
     },
     "metadata": {},
     "output_type": "display_data"
    },
    {
     "name": "stdout",
     "output_type": "stream",
     "text": [
      "Train on 14450 samples, validate on 2550 samples\n",
      "Epoch 4/9\n",
      "14450/14450 - 2s - loss: 0.0391 - mean_squared_error: 0.0391 - val_loss: 0.0021 - val_mean_squared_error: 0.0021\n",
      "Epoch 5/9\n",
      "14450/14450 - 1s - loss: 0.0011 - mean_squared_error: 0.0011 - val_loss: 6.0928e-04 - val_mean_squared_error: 6.0928e-04\n",
      "Epoch 6/9\n",
      "14450/14450 - 1s - loss: 5.1676e-04 - mean_squared_error: 5.1676e-04 - val_loss: 4.1893e-04 - val_mean_squared_error: 4.1893e-04\n",
      "Epoch 7/9\n",
      "14450/14450 - 1s - loss: 4.1022e-04 - mean_squared_error: 4.1022e-04 - val_loss: 3.5076e-04 - val_mean_squared_error: 3.5076e-04\n",
      "Epoch 8/9\n",
      "14450/14450 - 2s - loss: 3.8487e-04 - mean_squared_error: 3.8487e-04 - val_loss: 4.3047e-04 - val_mean_squared_error: 4.3047e-04\n",
      "Epoch 9/9\n",
      "14450/14450 - 1s - loss: 3.4930e-04 - mean_squared_error: 3.4930e-04 - val_loss: 5.0934e-04 - val_mean_squared_error: 5.0934e-04\n"
     ]
    },
    {
     "data": {
      "text/html": [
       "<span style=\"color:#4527A0\"><h1 style=\"font-size:18px\">Trial complete</h1></span>"
      ],
      "text/plain": [
       "<IPython.core.display.HTML object>"
      ]
     },
     "metadata": {},
     "output_type": "display_data"
    },
    {
     "data": {
      "text/html": [
       "<span style=\"color:#4527A0\"><h1 style=\"font-size:18px\">Trial summary</h1></span>"
      ],
      "text/plain": [
       "<IPython.core.display.HTML object>"
      ]
     },
     "metadata": {},
     "output_type": "display_data"
    },
    {
     "data": {
      "text/html": [
       "<span style=\"color:cyan\"> |-Trial ID: a5de9443336010443c580dcb71375fed</span>"
      ],
      "text/plain": [
       "<IPython.core.display.HTML object>"
      ]
     },
     "metadata": {},
     "output_type": "display_data"
    },
    {
     "data": {
      "text/html": [
       "<span style=\"color:cyan\"> |-Score: 0.00034929942921735346</span>"
      ],
      "text/plain": [
       "<IPython.core.display.HTML object>"
      ]
     },
     "metadata": {},
     "output_type": "display_data"
    },
    {
     "data": {
      "text/html": [
       "<span style=\"color:cyan\"> |-Best step: 0</span>"
      ],
      "text/plain": [
       "<IPython.core.display.HTML object>"
      ]
     },
     "metadata": {},
     "output_type": "display_data"
    },
    {
     "data": {
      "text/html": [
       "<span style=\"color:#7E57C2\"><h2 style=\"font-size:16px\">Hyperparameters:</h2></span>"
      ],
      "text/plain": [
       "<IPython.core.display.HTML object>"
      ]
     },
     "metadata": {},
     "output_type": "display_data"
    },
    {
     "data": {
      "text/html": [
       "<span style=\"color:cyan\"> |-hidden_0_units: 301</span>"
      ],
      "text/plain": [
       "<IPython.core.display.HTML object>"
      ]
     },
     "metadata": {},
     "output_type": "display_data"
    },
    {
     "data": {
      "text/html": [
       "<span style=\"color:blue\"> |-hidden_1_units: 216</span>"
      ],
      "text/plain": [
       "<IPython.core.display.HTML object>"
      ]
     },
     "metadata": {},
     "output_type": "display_data"
    },
    {
     "data": {
      "text/html": [
       "<span style=\"color:cyan\"> |-learning_rate: 0.001</span>"
      ],
      "text/plain": [
       "<IPython.core.display.HTML object>"
      ]
     },
     "metadata": {},
     "output_type": "display_data"
    },
    {
     "data": {
      "text/html": [
       "<span style=\"color:blue\"> |-n_layers: 1</span>"
      ],
      "text/plain": [
       "<IPython.core.display.HTML object>"
      ]
     },
     "metadata": {},
     "output_type": "display_data"
    },
    {
     "data": {
      "text/html": [
       "<span style=\"color:cyan\"> |-tuner/bracket: 2</span>"
      ],
      "text/plain": [
       "<IPython.core.display.HTML object>"
      ]
     },
     "metadata": {},
     "output_type": "display_data"
    },
    {
     "data": {
      "text/html": [
       "<span style=\"color:blue\"> |-tuner/epochs: 9</span>"
      ],
      "text/plain": [
       "<IPython.core.display.HTML object>"
      ]
     },
     "metadata": {},
     "output_type": "display_data"
    },
    {
     "data": {
      "text/html": [
       "<span style=\"color:cyan\"> |-tuner/initial_epoch: 3</span>"
      ],
      "text/plain": [
       "<IPython.core.display.HTML object>"
      ]
     },
     "metadata": {},
     "output_type": "display_data"
    },
    {
     "data": {
      "text/html": [
       "<span style=\"color:blue\"> |-tuner/round: 1</span>"
      ],
      "text/plain": [
       "<IPython.core.display.HTML object>"
      ]
     },
     "metadata": {},
     "output_type": "display_data"
    },
    {
     "data": {
      "text/html": [
       "<span style=\"color:cyan\"> |-tuner/trial_id: fcfc581bb977b6b30cc84df1e34d29f7</span>"
      ],
      "text/plain": [
       "<IPython.core.display.HTML object>"
      ]
     },
     "metadata": {},
     "output_type": "display_data"
    },
    {
     "name": "stdout",
     "output_type": "stream",
     "text": [
      "Train on 14450 samples, validate on 2550 samples\n",
      "Epoch 10/25\n",
      "14450/14450 - 2s - loss: 0.0383 - mean_squared_error: 0.0383 - val_loss: 0.0021 - val_mean_squared_error: 0.0021\n",
      "Epoch 11/25\n",
      "14450/14450 - 1s - loss: 0.0011 - mean_squared_error: 0.0011 - val_loss: 6.1212e-04 - val_mean_squared_error: 6.1212e-04\n",
      "Epoch 12/25\n",
      "14450/14450 - 2s - loss: 5.1690e-04 - mean_squared_error: 5.1690e-04 - val_loss: 4.6150e-04 - val_mean_squared_error: 4.6150e-04\n",
      "Epoch 13/25\n",
      "14450/14450 - 2s - loss: 4.1000e-04 - mean_squared_error: 4.1000e-04 - val_loss: 4.1449e-04 - val_mean_squared_error: 4.1449e-04\n",
      "Epoch 14/25\n",
      "14450/14450 - 1s - loss: 3.6997e-04 - mean_squared_error: 3.6997e-04 - val_loss: 3.3242e-04 - val_mean_squared_error: 3.3242e-04\n",
      "Epoch 15/25\n",
      "14450/14450 - 1s - loss: 3.5683e-04 - mean_squared_error: 3.5683e-04 - val_loss: 3.0886e-04 - val_mean_squared_error: 3.0886e-04\n",
      "Epoch 16/25\n",
      "14450/14450 - 1s - loss: 3.5850e-04 - mean_squared_error: 3.5850e-04 - val_loss: 3.0792e-04 - val_mean_squared_error: 3.0792e-04\n",
      "Epoch 17/25\n",
      "14450/14450 - 1s - loss: 3.6419e-04 - mean_squared_error: 3.6419e-04 - val_loss: 3.2791e-04 - val_mean_squared_error: 3.2791e-04\n",
      "Epoch 18/25\n",
      "14450/14450 - 1s - loss: 3.6756e-04 - mean_squared_error: 3.6756e-04 - val_loss: 5.9083e-04 - val_mean_squared_error: 5.9083e-04\n",
      "Epoch 19/25\n",
      "14450/14450 - 1s - loss: 3.4757e-04 - mean_squared_error: 3.4757e-04 - val_loss: 3.0518e-04 - val_mean_squared_error: 3.0518e-04\n",
      "Epoch 20/25\n",
      "14450/14450 - 1s - loss: 3.4911e-04 - mean_squared_error: 3.4911e-04 - val_loss: 4.7273e-04 - val_mean_squared_error: 4.7273e-04\n",
      "Epoch 21/25\n",
      "14450/14450 - 1s - loss: 3.4058e-04 - mean_squared_error: 3.4058e-04 - val_loss: 3.3480e-04 - val_mean_squared_error: 3.3480e-04\n",
      "Epoch 22/25\n",
      "14450/14450 - 1s - loss: 3.4838e-04 - mean_squared_error: 3.4838e-04 - val_loss: 3.0633e-04 - val_mean_squared_error: 3.0633e-04\n",
      "Epoch 23/25\n",
      "14450/14450 - 1s - loss: 3.4399e-04 - mean_squared_error: 3.4399e-04 - val_loss: 2.9924e-04 - val_mean_squared_error: 2.9924e-04\n",
      "Epoch 24/25\n",
      "14450/14450 - 1s - loss: 3.3687e-04 - mean_squared_error: 3.3687e-04 - val_loss: 3.1255e-04 - val_mean_squared_error: 3.1255e-04\n",
      "Epoch 25/25\n",
      "14450/14450 - 1s - loss: 3.5107e-04 - mean_squared_error: 3.5107e-04 - val_loss: 3.4150e-04 - val_mean_squared_error: 3.4150e-04\n"
     ]
    },
    {
     "data": {
      "text/html": [
       "<span style=\"color:#4527A0\"><h1 style=\"font-size:18px\">Trial complete</h1></span>"
      ],
      "text/plain": [
       "<IPython.core.display.HTML object>"
      ]
     },
     "metadata": {},
     "output_type": "display_data"
    },
    {
     "data": {
      "text/html": [
       "<span style=\"color:#4527A0\"><h1 style=\"font-size:18px\">Trial summary</h1></span>"
      ],
      "text/plain": [
       "<IPython.core.display.HTML object>"
      ]
     },
     "metadata": {},
     "output_type": "display_data"
    },
    {
     "data": {
      "text/html": [
       "<span style=\"color:cyan\"> |-Trial ID: b2741aad583de0d4445fc30a49c7b821</span>"
      ],
      "text/plain": [
       "<IPython.core.display.HTML object>"
      ]
     },
     "metadata": {},
     "output_type": "display_data"
    },
    {
     "data": {
      "text/html": [
       "<span style=\"color:cyan\"> |-Score: 0.00033687474206089973</span>"
      ],
      "text/plain": [
       "<IPython.core.display.HTML object>"
      ]
     },
     "metadata": {},
     "output_type": "display_data"
    },
    {
     "data": {
      "text/html": [
       "<span style=\"color:cyan\"> |-Best step: 0</span>"
      ],
      "text/plain": [
       "<IPython.core.display.HTML object>"
      ]
     },
     "metadata": {},
     "output_type": "display_data"
    },
    {
     "data": {
      "text/html": [
       "<span style=\"color:#7E57C2\"><h2 style=\"font-size:16px\">Hyperparameters:</h2></span>"
      ],
      "text/plain": [
       "<IPython.core.display.HTML object>"
      ]
     },
     "metadata": {},
     "output_type": "display_data"
    },
    {
     "data": {
      "text/html": [
       "<span style=\"color:cyan\"> |-hidden_0_units: 301</span>"
      ],
      "text/plain": [
       "<IPython.core.display.HTML object>"
      ]
     },
     "metadata": {},
     "output_type": "display_data"
    },
    {
     "data": {
      "text/html": [
       "<span style=\"color:blue\"> |-hidden_1_units: 216</span>"
      ],
      "text/plain": [
       "<IPython.core.display.HTML object>"
      ]
     },
     "metadata": {},
     "output_type": "display_data"
    },
    {
     "data": {
      "text/html": [
       "<span style=\"color:cyan\"> |-learning_rate: 0.001</span>"
      ],
      "text/plain": [
       "<IPython.core.display.HTML object>"
      ]
     },
     "metadata": {},
     "output_type": "display_data"
    },
    {
     "data": {
      "text/html": [
       "<span style=\"color:blue\"> |-n_layers: 1</span>"
      ],
      "text/plain": [
       "<IPython.core.display.HTML object>"
      ]
     },
     "metadata": {},
     "output_type": "display_data"
    },
    {
     "data": {
      "text/html": [
       "<span style=\"color:cyan\"> |-tuner/bracket: 2</span>"
      ],
      "text/plain": [
       "<IPython.core.display.HTML object>"
      ]
     },
     "metadata": {},
     "output_type": "display_data"
    },
    {
     "data": {
      "text/html": [
       "<span style=\"color:blue\"> |-tuner/epochs: 25</span>"
      ],
      "text/plain": [
       "<IPython.core.display.HTML object>"
      ]
     },
     "metadata": {},
     "output_type": "display_data"
    },
    {
     "data": {
      "text/html": [
       "<span style=\"color:cyan\"> |-tuner/initial_epoch: 9</span>"
      ],
      "text/plain": [
       "<IPython.core.display.HTML object>"
      ]
     },
     "metadata": {},
     "output_type": "display_data"
    },
    {
     "data": {
      "text/html": [
       "<span style=\"color:blue\"> |-tuner/round: 2</span>"
      ],
      "text/plain": [
       "<IPython.core.display.HTML object>"
      ]
     },
     "metadata": {},
     "output_type": "display_data"
    },
    {
     "data": {
      "text/html": [
       "<span style=\"color:cyan\"> |-tuner/trial_id: a5de9443336010443c580dcb71375fed</span>"
      ],
      "text/plain": [
       "<IPython.core.display.HTML object>"
      ]
     },
     "metadata": {},
     "output_type": "display_data"
    },
    {
     "name": "stdout",
     "output_type": "stream",
     "text": [
      "Train on 14450 samples, validate on 2550 samples\n",
      "Epoch 10/25\n",
      "14450/14450 - 2s - loss: 0.0419 - mean_squared_error: 0.0419 - val_loss: 0.0018 - val_mean_squared_error: 0.0018\n",
      "Epoch 11/25\n",
      "14450/14450 - 1s - loss: 7.9074e-04 - mean_squared_error: 7.9074e-04 - val_loss: 4.4485e-04 - val_mean_squared_error: 4.4484e-04\n",
      "Epoch 12/25\n",
      "14450/14450 - 1s - loss: 4.2655e-04 - mean_squared_error: 4.2655e-04 - val_loss: 3.4791e-04 - val_mean_squared_error: 3.4791e-04\n",
      "Epoch 13/25\n",
      "14450/14450 - 1s - loss: 3.7149e-04 - mean_squared_error: 3.7149e-04 - val_loss: 3.2625e-04 - val_mean_squared_error: 3.2625e-04\n",
      "Epoch 14/25\n",
      "14450/14450 - 1s - loss: 3.9933e-04 - mean_squared_error: 3.9933e-04 - val_loss: 3.1658e-04 - val_mean_squared_error: 3.1658e-04\n",
      "Epoch 15/25\n",
      "14450/14450 - 1s - loss: 3.7410e-04 - mean_squared_error: 3.7410e-04 - val_loss: 3.2041e-04 - val_mean_squared_error: 3.2041e-04\n",
      "Epoch 16/25\n",
      "14450/14450 - 1s - loss: 3.7523e-04 - mean_squared_error: 3.7523e-04 - val_loss: 3.2130e-04 - val_mean_squared_error: 3.2130e-04\n",
      "Epoch 17/25\n",
      "14450/14450 - 1s - loss: 3.6894e-04 - mean_squared_error: 3.6894e-04 - val_loss: 6.2939e-04 - val_mean_squared_error: 6.2939e-04\n",
      "Epoch 18/25\n",
      "14450/14450 - 1s - loss: 3.6520e-04 - mean_squared_error: 3.6520e-04 - val_loss: 3.3537e-04 - val_mean_squared_error: 3.3537e-04\n",
      "Epoch 19/25\n",
      "14450/14450 - 2s - loss: 3.8188e-04 - mean_squared_error: 3.8188e-04 - val_loss: 3.5725e-04 - val_mean_squared_error: 3.5725e-04\n",
      "Epoch 20/25\n",
      "14450/14450 - 1s - loss: 3.6760e-04 - mean_squared_error: 3.6760e-04 - val_loss: 3.2828e-04 - val_mean_squared_error: 3.2828e-04\n",
      "Epoch 21/25\n",
      "14450/14450 - 1s - loss: 4.0463e-04 - mean_squared_error: 4.0463e-04 - val_loss: 3.5858e-04 - val_mean_squared_error: 3.5858e-04\n",
      "Epoch 22/25\n",
      "14450/14450 - 1s - loss: 3.8099e-04 - mean_squared_error: 3.8099e-04 - val_loss: 3.2985e-04 - val_mean_squared_error: 3.2985e-04\n",
      "Epoch 23/25\n",
      "14450/14450 - 1s - loss: 3.5800e-04 - mean_squared_error: 3.5800e-04 - val_loss: 3.5165e-04 - val_mean_squared_error: 3.5165e-04\n",
      "Epoch 24/25\n",
      "14450/14450 - 1s - loss: 3.7633e-04 - mean_squared_error: 3.7633e-04 - val_loss: 3.4284e-04 - val_mean_squared_error: 3.4284e-04\n",
      "Epoch 25/25\n",
      "14450/14450 - 1s - loss: 3.9028e-04 - mean_squared_error: 3.9028e-04 - val_loss: 3.6909e-04 - val_mean_squared_error: 3.6909e-04\n"
     ]
    },
    {
     "data": {
      "text/html": [
       "<span style=\"color:#4527A0\"><h1 style=\"font-size:18px\">Trial complete</h1></span>"
      ],
      "text/plain": [
       "<IPython.core.display.HTML object>"
      ]
     },
     "metadata": {},
     "output_type": "display_data"
    },
    {
     "data": {
      "text/html": [
       "<span style=\"color:#4527A0\"><h1 style=\"font-size:18px\">Trial summary</h1></span>"
      ],
      "text/plain": [
       "<IPython.core.display.HTML object>"
      ]
     },
     "metadata": {},
     "output_type": "display_data"
    },
    {
     "data": {
      "text/html": [
       "<span style=\"color:cyan\"> |-Trial ID: 24b3cd85b4d85fa503f8bce8a9c80262</span>"
      ],
      "text/plain": [
       "<IPython.core.display.HTML object>"
      ]
     },
     "metadata": {},
     "output_type": "display_data"
    },
    {
     "data": {
      "text/html": [
       "<span style=\"color:cyan\"> |-Score: 0.0003580041229724884</span>"
      ],
      "text/plain": [
       "<IPython.core.display.HTML object>"
      ]
     },
     "metadata": {},
     "output_type": "display_data"
    },
    {
     "data": {
      "text/html": [
       "<span style=\"color:cyan\"> |-Best step: 0</span>"
      ],
      "text/plain": [
       "<IPython.core.display.HTML object>"
      ]
     },
     "metadata": {},
     "output_type": "display_data"
    },
    {
     "data": {
      "text/html": [
       "<span style=\"color:#7E57C2\"><h2 style=\"font-size:16px\">Hyperparameters:</h2></span>"
      ],
      "text/plain": [
       "<IPython.core.display.HTML object>"
      ]
     },
     "metadata": {},
     "output_type": "display_data"
    },
    {
     "data": {
      "text/html": [
       "<span style=\"color:cyan\"> |-hidden_0_units: 100</span>"
      ],
      "text/plain": [
       "<IPython.core.display.HTML object>"
      ]
     },
     "metadata": {},
     "output_type": "display_data"
    },
    {
     "data": {
      "text/html": [
       "<span style=\"color:blue\"> |-hidden_1_units: 97</span>"
      ],
      "text/plain": [
       "<IPython.core.display.HTML object>"
      ]
     },
     "metadata": {},
     "output_type": "display_data"
    },
    {
     "data": {
      "text/html": [
       "<span style=\"color:cyan\"> |-learning_rate: 0.001</span>"
      ],
      "text/plain": [
       "<IPython.core.display.HTML object>"
      ]
     },
     "metadata": {},
     "output_type": "display_data"
    },
    {
     "data": {
      "text/html": [
       "<span style=\"color:blue\"> |-n_layers: 2</span>"
      ],
      "text/plain": [
       "<IPython.core.display.HTML object>"
      ]
     },
     "metadata": {},
     "output_type": "display_data"
    },
    {
     "data": {
      "text/html": [
       "<span style=\"color:cyan\"> |-tuner/bracket: 2</span>"
      ],
      "text/plain": [
       "<IPython.core.display.HTML object>"
      ]
     },
     "metadata": {},
     "output_type": "display_data"
    },
    {
     "data": {
      "text/html": [
       "<span style=\"color:blue\"> |-tuner/epochs: 25</span>"
      ],
      "text/plain": [
       "<IPython.core.display.HTML object>"
      ]
     },
     "metadata": {},
     "output_type": "display_data"
    },
    {
     "data": {
      "text/html": [
       "<span style=\"color:cyan\"> |-tuner/initial_epoch: 9</span>"
      ],
      "text/plain": [
       "<IPython.core.display.HTML object>"
      ]
     },
     "metadata": {},
     "output_type": "display_data"
    },
    {
     "data": {
      "text/html": [
       "<span style=\"color:blue\"> |-tuner/round: 2</span>"
      ],
      "text/plain": [
       "<IPython.core.display.HTML object>"
      ]
     },
     "metadata": {},
     "output_type": "display_data"
    },
    {
     "data": {
      "text/html": [
       "<span style=\"color:cyan\"> |-tuner/trial_id: 0d3d035023f33334e3383b7ef3633594</span>"
      ],
      "text/plain": [
       "<IPython.core.display.HTML object>"
      ]
     },
     "metadata": {},
     "output_type": "display_data"
    },
    {
     "name": "stdout",
     "output_type": "stream",
     "text": [
      "Train on 14450 samples, validate on 2550 samples\n",
      "Epoch 1/9\n",
      "14450/14450 - 2s - loss: 0.0067 - mean_squared_error: 0.0067 - val_loss: 0.0033 - val_mean_squared_error: 0.0033\n",
      "Epoch 2/9\n",
      "14450/14450 - 2s - loss: 0.1759 - mean_squared_error: 0.1759 - val_loss: 0.2843 - val_mean_squared_error: 0.2843\n",
      "Epoch 3/9\n",
      "14450/14450 - 2s - loss: 0.2657 - mean_squared_error: 0.2657 - val_loss: 0.2397 - val_mean_squared_error: 0.2397\n",
      "Epoch 4/9\n",
      "14450/14450 - 2s - loss: 0.2880 - mean_squared_error: 0.2880 - val_loss: 0.2705 - val_mean_squared_error: 0.2705\n",
      "Epoch 5/9\n",
      "14450/14450 - 2s - loss: 0.3098 - mean_squared_error: 0.3098 - val_loss: 0.3671 - val_mean_squared_error: 0.3671\n",
      "Epoch 6/9\n",
      "14450/14450 - 2s - loss: 0.2942 - mean_squared_error: 0.2942 - val_loss: 0.2572 - val_mean_squared_error: 0.2572\n"
     ]
    },
    {
     "data": {
      "text/html": [
       "<span style=\"color:#4527A0\"><h1 style=\"font-size:18px\">Trial complete</h1></span>"
      ],
      "text/plain": [
       "<IPython.core.display.HTML object>"
      ]
     },
     "metadata": {},
     "output_type": "display_data"
    },
    {
     "data": {
      "text/html": [
       "<span style=\"color:#4527A0\"><h1 style=\"font-size:18px\">Trial summary</h1></span>"
      ],
      "text/plain": [
       "<IPython.core.display.HTML object>"
      ]
     },
     "metadata": {},
     "output_type": "display_data"
    },
    {
     "data": {
      "text/html": [
       "<span style=\"color:cyan\"> |-Trial ID: aaad3d2e56a97696f9b925edfa7516a7</span>"
      ],
      "text/plain": [
       "<IPython.core.display.HTML object>"
      ]
     },
     "metadata": {},
     "output_type": "display_data"
    },
    {
     "data": {
      "text/html": [
       "<span style=\"color:cyan\"> |-Score: 0.006667084991931915</span>"
      ],
      "text/plain": [
       "<IPython.core.display.HTML object>"
      ]
     },
     "metadata": {},
     "output_type": "display_data"
    },
    {
     "data": {
      "text/html": [
       "<span style=\"color:cyan\"> |-Best step: 0</span>"
      ],
      "text/plain": [
       "<IPython.core.display.HTML object>"
      ]
     },
     "metadata": {},
     "output_type": "display_data"
    },
    {
     "data": {
      "text/html": [
       "<span style=\"color:#7E57C2\"><h2 style=\"font-size:16px\">Hyperparameters:</h2></span>"
      ],
      "text/plain": [
       "<IPython.core.display.HTML object>"
      ]
     },
     "metadata": {},
     "output_type": "display_data"
    },
    {
     "data": {
      "text/html": [
       "<span style=\"color:cyan\"> |-hidden_0_units: 295</span>"
      ],
      "text/plain": [
       "<IPython.core.display.HTML object>"
      ]
     },
     "metadata": {},
     "output_type": "display_data"
    },
    {
     "data": {
      "text/html": [
       "<span style=\"color:blue\"> |-hidden_1_units: 243</span>"
      ],
      "text/plain": [
       "<IPython.core.display.HTML object>"
      ]
     },
     "metadata": {},
     "output_type": "display_data"
    },
    {
     "data": {
      "text/html": [
       "<span style=\"color:cyan\"> |-learning_rate: 0.01</span>"
      ],
      "text/plain": [
       "<IPython.core.display.HTML object>"
      ]
     },
     "metadata": {},
     "output_type": "display_data"
    },
    {
     "data": {
      "text/html": [
       "<span style=\"color:blue\"> |-n_layers: 2</span>"
      ],
      "text/plain": [
       "<IPython.core.display.HTML object>"
      ]
     },
     "metadata": {},
     "output_type": "display_data"
    },
    {
     "data": {
      "text/html": [
       "<span style=\"color:cyan\"> |-tuner/bracket: 1</span>"
      ],
      "text/plain": [
       "<IPython.core.display.HTML object>"
      ]
     },
     "metadata": {},
     "output_type": "display_data"
    },
    {
     "data": {
      "text/html": [
       "<span style=\"color:blue\"> |-tuner/epochs: 9</span>"
      ],
      "text/plain": [
       "<IPython.core.display.HTML object>"
      ]
     },
     "metadata": {},
     "output_type": "display_data"
    },
    {
     "data": {
      "text/html": [
       "<span style=\"color:cyan\"> |-tuner/initial_epoch: 0</span>"
      ],
      "text/plain": [
       "<IPython.core.display.HTML object>"
      ]
     },
     "metadata": {},
     "output_type": "display_data"
    },
    {
     "data": {
      "text/html": [
       "<span style=\"color:blue\"> |-tuner/round: 0</span>"
      ],
      "text/plain": [
       "<IPython.core.display.HTML object>"
      ]
     },
     "metadata": {},
     "output_type": "display_data"
    },
    {
     "name": "stdout",
     "output_type": "stream",
     "text": [
      "Train on 14450 samples, validate on 2550 samples\n",
      "Epoch 1/9\n",
      "14450/14450 - 2s - loss: 0.1714 - mean_squared_error: 0.1714 - val_loss: 0.1444 - val_mean_squared_error: 0.1444\n",
      "Epoch 2/9\n",
      "14450/14450 - 1s - loss: 0.1203 - mean_squared_error: 0.1203 - val_loss: 0.0970 - val_mean_squared_error: 0.0970\n",
      "Epoch 3/9\n",
      "14450/14450 - 1s - loss: 0.0787 - mean_squared_error: 0.0787 - val_loss: 0.0625 - val_mean_squared_error: 0.0625\n",
      "Epoch 4/9\n",
      "14450/14450 - 1s - loss: 0.0511 - mean_squared_error: 0.0511 - val_loss: 0.0407 - val_mean_squared_error: 0.0407\n",
      "Epoch 5/9\n",
      "14450/14450 - 1s - loss: 0.0330 - mean_squared_error: 0.0330 - val_loss: 0.0260 - val_mean_squared_error: 0.0260\n",
      "Epoch 6/9\n",
      "14450/14450 - 1s - loss: 0.0209 - mean_squared_error: 0.0209 - val_loss: 0.0162 - val_mean_squared_error: 0.0162\n",
      "Epoch 7/9\n",
      "14450/14450 - 1s - loss: 0.0130 - mean_squared_error: 0.0130 - val_loss: 0.0101 - val_mean_squared_error: 0.0101\n",
      "Epoch 8/9\n",
      "14450/14450 - 1s - loss: 0.0081 - mean_squared_error: 0.0081 - val_loss: 0.0064 - val_mean_squared_error: 0.0064\n",
      "Epoch 9/9\n",
      "14450/14450 - 1s - loss: 0.0052 - mean_squared_error: 0.0052 - val_loss: 0.0041 - val_mean_squared_error: 0.0041\n"
     ]
    },
    {
     "data": {
      "text/html": [
       "<span style=\"color:#4527A0\"><h1 style=\"font-size:18px\">Trial complete</h1></span>"
      ],
      "text/plain": [
       "<IPython.core.display.HTML object>"
      ]
     },
     "metadata": {},
     "output_type": "display_data"
    },
    {
     "data": {
      "text/html": [
       "<span style=\"color:#4527A0\"><h1 style=\"font-size:18px\">Trial summary</h1></span>"
      ],
      "text/plain": [
       "<IPython.core.display.HTML object>"
      ]
     },
     "metadata": {},
     "output_type": "display_data"
    },
    {
     "data": {
      "text/html": [
       "<span style=\"color:cyan\"> |-Trial ID: ab662307546f98d0545bd5634b6a5300</span>"
      ],
      "text/plain": [
       "<IPython.core.display.HTML object>"
      ]
     },
     "metadata": {},
     "output_type": "display_data"
    },
    {
     "data": {
      "text/html": [
       "<span style=\"color:cyan\"> |-Score: 0.005186109803617001</span>"
      ],
      "text/plain": [
       "<IPython.core.display.HTML object>"
      ]
     },
     "metadata": {},
     "output_type": "display_data"
    },
    {
     "data": {
      "text/html": [
       "<span style=\"color:cyan\"> |-Best step: 0</span>"
      ],
      "text/plain": [
       "<IPython.core.display.HTML object>"
      ]
     },
     "metadata": {},
     "output_type": "display_data"
    },
    {
     "data": {
      "text/html": [
       "<span style=\"color:#7E57C2\"><h2 style=\"font-size:16px\">Hyperparameters:</h2></span>"
      ],
      "text/plain": [
       "<IPython.core.display.HTML object>"
      ]
     },
     "metadata": {},
     "output_type": "display_data"
    },
    {
     "data": {
      "text/html": [
       "<span style=\"color:cyan\"> |-hidden_0_units: 163</span>"
      ],
      "text/plain": [
       "<IPython.core.display.HTML object>"
      ]
     },
     "metadata": {},
     "output_type": "display_data"
    },
    {
     "data": {
      "text/html": [
       "<span style=\"color:blue\"> |-hidden_1_units: 117</span>"
      ],
      "text/plain": [
       "<IPython.core.display.HTML object>"
      ]
     },
     "metadata": {},
     "output_type": "display_data"
    },
    {
     "data": {
      "text/html": [
       "<span style=\"color:cyan\"> |-learning_rate: 0.0001</span>"
      ],
      "text/plain": [
       "<IPython.core.display.HTML object>"
      ]
     },
     "metadata": {},
     "output_type": "display_data"
    },
    {
     "data": {
      "text/html": [
       "<span style=\"color:blue\"> |-n_layers: 1</span>"
      ],
      "text/plain": [
       "<IPython.core.display.HTML object>"
      ]
     },
     "metadata": {},
     "output_type": "display_data"
    },
    {
     "data": {
      "text/html": [
       "<span style=\"color:cyan\"> |-tuner/bracket: 1</span>"
      ],
      "text/plain": [
       "<IPython.core.display.HTML object>"
      ]
     },
     "metadata": {},
     "output_type": "display_data"
    },
    {
     "data": {
      "text/html": [
       "<span style=\"color:blue\"> |-tuner/epochs: 9</span>"
      ],
      "text/plain": [
       "<IPython.core.display.HTML object>"
      ]
     },
     "metadata": {},
     "output_type": "display_data"
    },
    {
     "data": {
      "text/html": [
       "<span style=\"color:cyan\"> |-tuner/initial_epoch: 0</span>"
      ],
      "text/plain": [
       "<IPython.core.display.HTML object>"
      ]
     },
     "metadata": {},
     "output_type": "display_data"
    },
    {
     "data": {
      "text/html": [
       "<span style=\"color:blue\"> |-tuner/round: 0</span>"
      ],
      "text/plain": [
       "<IPython.core.display.HTML object>"
      ]
     },
     "metadata": {},
     "output_type": "display_data"
    },
    {
     "name": "stdout",
     "output_type": "stream",
     "text": [
      "Train on 14450 samples, validate on 2550 samples\n",
      "Epoch 1/9\n",
      "14450/14450 - 2s - loss: 0.0063 - mean_squared_error: 0.0063 - val_loss: 7.3105e-04 - val_mean_squared_error: 7.3105e-04\n",
      "Epoch 2/9\n",
      "14450/14450 - 2s - loss: 0.0022 - mean_squared_error: 0.0022 - val_loss: 0.0146 - val_mean_squared_error: 0.0146\n",
      "Epoch 3/9\n",
      "14450/14450 - 1s - loss: 0.1760 - mean_squared_error: 0.1760 - val_loss: 0.1919 - val_mean_squared_error: 0.1919\n",
      "Epoch 4/9\n",
      "14450/14450 - 1s - loss: 0.2146 - mean_squared_error: 0.2146 - val_loss: 0.1912 - val_mean_squared_error: 0.1912\n",
      "Epoch 5/9\n",
      "14450/14450 - 1s - loss: 0.1977 - mean_squared_error: 0.1977 - val_loss: 0.2188 - val_mean_squared_error: 0.2188\n",
      "Epoch 6/9\n",
      "14450/14450 - 1s - loss: 0.2024 - mean_squared_error: 0.2024 - val_loss: 0.2343 - val_mean_squared_error: 0.2343\n",
      "Epoch 7/9\n",
      "14450/14450 - 1s - loss: 0.2137 - mean_squared_error: 0.2137 - val_loss: 0.2016 - val_mean_squared_error: 0.2016\n"
     ]
    },
    {
     "data": {
      "text/html": [
       "<span style=\"color:#4527A0\"><h1 style=\"font-size:18px\">Trial complete</h1></span>"
      ],
      "text/plain": [
       "<IPython.core.display.HTML object>"
      ]
     },
     "metadata": {},
     "output_type": "display_data"
    },
    {
     "data": {
      "text/html": [
       "<span style=\"color:#4527A0\"><h1 style=\"font-size:18px\">Trial summary</h1></span>"
      ],
      "text/plain": [
       "<IPython.core.display.HTML object>"
      ]
     },
     "metadata": {},
     "output_type": "display_data"
    },
    {
     "data": {
      "text/html": [
       "<span style=\"color:cyan\"> |-Trial ID: 625f840e95160c47208ec1661fc21453</span>"
      ],
      "text/plain": [
       "<IPython.core.display.HTML object>"
      ]
     },
     "metadata": {},
     "output_type": "display_data"
    },
    {
     "data": {
      "text/html": [
       "<span style=\"color:cyan\"> |-Score: 0.0021502110175788403</span>"
      ],
      "text/plain": [
       "<IPython.core.display.HTML object>"
      ]
     },
     "metadata": {},
     "output_type": "display_data"
    },
    {
     "data": {
      "text/html": [
       "<span style=\"color:cyan\"> |-Best step: 0</span>"
      ],
      "text/plain": [
       "<IPython.core.display.HTML object>"
      ]
     },
     "metadata": {},
     "output_type": "display_data"
    },
    {
     "data": {
      "text/html": [
       "<span style=\"color:#7E57C2\"><h2 style=\"font-size:16px\">Hyperparameters:</h2></span>"
      ],
      "text/plain": [
       "<IPython.core.display.HTML object>"
      ]
     },
     "metadata": {},
     "output_type": "display_data"
    },
    {
     "data": {
      "text/html": [
       "<span style=\"color:cyan\"> |-hidden_0_units: 189</span>"
      ],
      "text/plain": [
       "<IPython.core.display.HTML object>"
      ]
     },
     "metadata": {},
     "output_type": "display_data"
    },
    {
     "data": {
      "text/html": [
       "<span style=\"color:blue\"> |-hidden_1_units: 148</span>"
      ],
      "text/plain": [
       "<IPython.core.display.HTML object>"
      ]
     },
     "metadata": {},
     "output_type": "display_data"
    },
    {
     "data": {
      "text/html": [
       "<span style=\"color:cyan\"> |-learning_rate: 0.01</span>"
      ],
      "text/plain": [
       "<IPython.core.display.HTML object>"
      ]
     },
     "metadata": {},
     "output_type": "display_data"
    },
    {
     "data": {
      "text/html": [
       "<span style=\"color:blue\"> |-n_layers: 2</span>"
      ],
      "text/plain": [
       "<IPython.core.display.HTML object>"
      ]
     },
     "metadata": {},
     "output_type": "display_data"
    },
    {
     "data": {
      "text/html": [
       "<span style=\"color:cyan\"> |-tuner/bracket: 1</span>"
      ],
      "text/plain": [
       "<IPython.core.display.HTML object>"
      ]
     },
     "metadata": {},
     "output_type": "display_data"
    },
    {
     "data": {
      "text/html": [
       "<span style=\"color:blue\"> |-tuner/epochs: 9</span>"
      ],
      "text/plain": [
       "<IPython.core.display.HTML object>"
      ]
     },
     "metadata": {},
     "output_type": "display_data"
    },
    {
     "data": {
      "text/html": [
       "<span style=\"color:cyan\"> |-tuner/initial_epoch: 0</span>"
      ],
      "text/plain": [
       "<IPython.core.display.HTML object>"
      ]
     },
     "metadata": {},
     "output_type": "display_data"
    },
    {
     "data": {
      "text/html": [
       "<span style=\"color:blue\"> |-tuner/round: 0</span>"
      ],
      "text/plain": [
       "<IPython.core.display.HTML object>"
      ]
     },
     "metadata": {},
     "output_type": "display_data"
    },
    {
     "name": "stdout",
     "output_type": "stream",
     "text": [
      "Train on 14450 samples, validate on 2550 samples\n",
      "Epoch 1/9\n",
      "14450/14450 - 2s - loss: 0.1652 - mean_squared_error: 0.1652 - val_loss: 0.1377 - val_mean_squared_error: 0.1377\n",
      "Epoch 2/9\n",
      "14450/14450 - 1s - loss: 0.1123 - mean_squared_error: 0.1123 - val_loss: 0.0884 - val_mean_squared_error: 0.0884\n",
      "Epoch 3/9\n",
      "14450/14450 - 1s - loss: 0.0704 - mean_squared_error: 0.0704 - val_loss: 0.0550 - val_mean_squared_error: 0.0550\n",
      "Epoch 4/9\n",
      "14450/14450 - 1s - loss: 0.0443 - mean_squared_error: 0.0443 - val_loss: 0.0347 - val_mean_squared_error: 0.0347\n",
      "Epoch 5/9\n",
      "14450/14450 - 1s - loss: 0.0277 - mean_squared_error: 0.0277 - val_loss: 0.0214 - val_mean_squared_error: 0.0214\n",
      "Epoch 6/9\n",
      "14450/14450 - 1s - loss: 0.0169 - mean_squared_error: 0.0169 - val_loss: 0.0130 - val_mean_squared_error: 0.0130\n",
      "Epoch 7/9\n",
      "14450/14450 - 1s - loss: 0.0103 - mean_squared_error: 0.0103 - val_loss: 0.0080 - val_mean_squared_error: 0.0080\n",
      "Epoch 8/9\n",
      "14450/14450 - 1s - loss: 0.0064 - mean_squared_error: 0.0064 - val_loss: 0.0050 - val_mean_squared_error: 0.0050\n",
      "Epoch 9/9\n",
      "14450/14450 - 1s - loss: 0.0041 - mean_squared_error: 0.0041 - val_loss: 0.0033 - val_mean_squared_error: 0.0033\n"
     ]
    },
    {
     "data": {
      "text/html": [
       "<span style=\"color:#4527A0\"><h1 style=\"font-size:18px\">Trial complete</h1></span>"
      ],
      "text/plain": [
       "<IPython.core.display.HTML object>"
      ]
     },
     "metadata": {},
     "output_type": "display_data"
    },
    {
     "data": {
      "text/html": [
       "<span style=\"color:#4527A0\"><h1 style=\"font-size:18px\">Trial summary</h1></span>"
      ],
      "text/plain": [
       "<IPython.core.display.HTML object>"
      ]
     },
     "metadata": {},
     "output_type": "display_data"
    },
    {
     "data": {
      "text/html": [
       "<span style=\"color:cyan\"> |-Trial ID: 8953b1b353374c3f972d49610bf5f6de</span>"
      ],
      "text/plain": [
       "<IPython.core.display.HTML object>"
      ]
     },
     "metadata": {},
     "output_type": "display_data"
    },
    {
     "data": {
      "text/html": [
       "<span style=\"color:cyan\"> |-Score: 0.004099591169506311</span>"
      ],
      "text/plain": [
       "<IPython.core.display.HTML object>"
      ]
     },
     "metadata": {},
     "output_type": "display_data"
    },
    {
     "data": {
      "text/html": [
       "<span style=\"color:cyan\"> |-Best step: 0</span>"
      ],
      "text/plain": [
       "<IPython.core.display.HTML object>"
      ]
     },
     "metadata": {},
     "output_type": "display_data"
    },
    {
     "data": {
      "text/html": [
       "<span style=\"color:#7E57C2\"><h2 style=\"font-size:16px\">Hyperparameters:</h2></span>"
      ],
      "text/plain": [
       "<IPython.core.display.HTML object>"
      ]
     },
     "metadata": {},
     "output_type": "display_data"
    },
    {
     "data": {
      "text/html": [
       "<span style=\"color:cyan\"> |-hidden_0_units: 184</span>"
      ],
      "text/plain": [
       "<IPython.core.display.HTML object>"
      ]
     },
     "metadata": {},
     "output_type": "display_data"
    },
    {
     "data": {
      "text/html": [
       "<span style=\"color:blue\"> |-hidden_1_units: 100</span>"
      ],
      "text/plain": [
       "<IPython.core.display.HTML object>"
      ]
     },
     "metadata": {},
     "output_type": "display_data"
    },
    {
     "data": {
      "text/html": [
       "<span style=\"color:cyan\"> |-learning_rate: 0.0001</span>"
      ],
      "text/plain": [
       "<IPython.core.display.HTML object>"
      ]
     },
     "metadata": {},
     "output_type": "display_data"
    },
    {
     "data": {
      "text/html": [
       "<span style=\"color:blue\"> |-n_layers: 1</span>"
      ],
      "text/plain": [
       "<IPython.core.display.HTML object>"
      ]
     },
     "metadata": {},
     "output_type": "display_data"
    },
    {
     "data": {
      "text/html": [
       "<span style=\"color:cyan\"> |-tuner/bracket: 1</span>"
      ],
      "text/plain": [
       "<IPython.core.display.HTML object>"
      ]
     },
     "metadata": {},
     "output_type": "display_data"
    },
    {
     "data": {
      "text/html": [
       "<span style=\"color:blue\"> |-tuner/epochs: 9</span>"
      ],
      "text/plain": [
       "<IPython.core.display.HTML object>"
      ]
     },
     "metadata": {},
     "output_type": "display_data"
    },
    {
     "data": {
      "text/html": [
       "<span style=\"color:cyan\"> |-tuner/initial_epoch: 0</span>"
      ],
      "text/plain": [
       "<IPython.core.display.HTML object>"
      ]
     },
     "metadata": {},
     "output_type": "display_data"
    },
    {
     "data": {
      "text/html": [
       "<span style=\"color:blue\"> |-tuner/round: 0</span>"
      ],
      "text/plain": [
       "<IPython.core.display.HTML object>"
      ]
     },
     "metadata": {},
     "output_type": "display_data"
    },
    {
     "name": "stdout",
     "output_type": "stream",
     "text": [
      "Train on 14450 samples, validate on 2550 samples\n",
      "Epoch 1/9\n",
      "14450/14450 - 2s - loss: 0.0838 - mean_squared_error: 0.0838 - val_loss: 0.0602 - val_mean_squared_error: 0.0602\n",
      "Epoch 2/9\n",
      "14450/14450 - 2s - loss: 0.0592 - mean_squared_error: 0.0592 - val_loss: 0.0598 - val_mean_squared_error: 0.0598\n",
      "Epoch 3/9\n",
      "14450/14450 - 2s - loss: 0.0585 - mean_squared_error: 0.0585 - val_loss: 0.0595 - val_mean_squared_error: 0.0595\n",
      "Epoch 4/9\n",
      "14450/14450 - 2s - loss: 0.0580 - mean_squared_error: 0.0580 - val_loss: 0.0592 - val_mean_squared_error: 0.0592\n",
      "Epoch 5/9\n",
      "14450/14450 - 2s - loss: 0.0576 - mean_squared_error: 0.0576 - val_loss: 0.0590 - val_mean_squared_error: 0.0590\n",
      "Epoch 6/9\n",
      "14450/14450 - 2s - loss: 0.0573 - mean_squared_error: 0.0573 - val_loss: 0.0589 - val_mean_squared_error: 0.0589\n",
      "Epoch 7/9\n",
      "14450/14450 - 1s - loss: 0.0571 - mean_squared_error: 0.0571 - val_loss: 0.0587 - val_mean_squared_error: 0.0587\n",
      "Epoch 8/9\n",
      "14450/14450 - 1s - loss: 0.0568 - mean_squared_error: 0.0568 - val_loss: 0.0584 - val_mean_squared_error: 0.0584\n",
      "Epoch 9/9\n",
      "14450/14450 - 1s - loss: 0.0567 - mean_squared_error: 0.0567 - val_loss: 0.0583 - val_mean_squared_error: 0.0583\n"
     ]
    },
    {
     "data": {
      "text/html": [
       "<span style=\"color:#4527A0\"><h1 style=\"font-size:18px\">Trial complete</h1></span>"
      ],
      "text/plain": [
       "<IPython.core.display.HTML object>"
      ]
     },
     "metadata": {},
     "output_type": "display_data"
    },
    {
     "data": {
      "text/html": [
       "<span style=\"color:#4527A0\"><h1 style=\"font-size:18px\">Trial summary</h1></span>"
      ],
      "text/plain": [
       "<IPython.core.display.HTML object>"
      ]
     },
     "metadata": {},
     "output_type": "display_data"
    },
    {
     "data": {
      "text/html": [
       "<span style=\"color:cyan\"> |-Trial ID: 9fe6f1408fe97950433a79b30dd19e09</span>"
      ],
      "text/plain": [
       "<IPython.core.display.HTML object>"
      ]
     },
     "metadata": {},
     "output_type": "display_data"
    },
    {
     "data": {
      "text/html": [
       "<span style=\"color:cyan\"> |-Score: 0.056673813611269</span>"
      ],
      "text/plain": [
       "<IPython.core.display.HTML object>"
      ]
     },
     "metadata": {},
     "output_type": "display_data"
    },
    {
     "data": {
      "text/html": [
       "<span style=\"color:cyan\"> |-Best step: 0</span>"
      ],
      "text/plain": [
       "<IPython.core.display.HTML object>"
      ]
     },
     "metadata": {},
     "output_type": "display_data"
    },
    {
     "data": {
      "text/html": [
       "<span style=\"color:#7E57C2\"><h2 style=\"font-size:16px\">Hyperparameters:</h2></span>"
      ],
      "text/plain": [
       "<IPython.core.display.HTML object>"
      ]
     },
     "metadata": {},
     "output_type": "display_data"
    },
    {
     "data": {
      "text/html": [
       "<span style=\"color:cyan\"> |-hidden_0_units: 261</span>"
      ],
      "text/plain": [
       "<IPython.core.display.HTML object>"
      ]
     },
     "metadata": {},
     "output_type": "display_data"
    },
    {
     "data": {
      "text/html": [
       "<span style=\"color:blue\"> |-hidden_1_units: 19</span>"
      ],
      "text/plain": [
       "<IPython.core.display.HTML object>"
      ]
     },
     "metadata": {},
     "output_type": "display_data"
    },
    {
     "data": {
      "text/html": [
       "<span style=\"color:cyan\"> |-learning_rate: 0.001</span>"
      ],
      "text/plain": [
       "<IPython.core.display.HTML object>"
      ]
     },
     "metadata": {},
     "output_type": "display_data"
    },
    {
     "data": {
      "text/html": [
       "<span style=\"color:blue\"> |-n_layers: 2</span>"
      ],
      "text/plain": [
       "<IPython.core.display.HTML object>"
      ]
     },
     "metadata": {},
     "output_type": "display_data"
    },
    {
     "data": {
      "text/html": [
       "<span style=\"color:cyan\"> |-tuner/bracket: 1</span>"
      ],
      "text/plain": [
       "<IPython.core.display.HTML object>"
      ]
     },
     "metadata": {},
     "output_type": "display_data"
    },
    {
     "data": {
      "text/html": [
       "<span style=\"color:blue\"> |-tuner/epochs: 9</span>"
      ],
      "text/plain": [
       "<IPython.core.display.HTML object>"
      ]
     },
     "metadata": {},
     "output_type": "display_data"
    },
    {
     "data": {
      "text/html": [
       "<span style=\"color:cyan\"> |-tuner/initial_epoch: 0</span>"
      ],
      "text/plain": [
       "<IPython.core.display.HTML object>"
      ]
     },
     "metadata": {},
     "output_type": "display_data"
    },
    {
     "data": {
      "text/html": [
       "<span style=\"color:blue\"> |-tuner/round: 0</span>"
      ],
      "text/plain": [
       "<IPython.core.display.HTML object>"
      ]
     },
     "metadata": {},
     "output_type": "display_data"
    },
    {
     "name": "stdout",
     "output_type": "stream",
     "text": [
      "Train on 14450 samples, validate on 2550 samples\n",
      "Epoch 1/9\n",
      "14450/14450 - 2s - loss: 0.1636 - mean_squared_error: 0.1636 - val_loss: 0.1360 - val_mean_squared_error: 0.1360\n",
      "Epoch 2/9\n",
      "14450/14450 - 1s - loss: 0.1145 - mean_squared_error: 0.1145 - val_loss: 0.0971 - val_mean_squared_error: 0.0971\n",
      "Epoch 3/9\n",
      "14450/14450 - 1s - loss: 0.0880 - mean_squared_error: 0.0880 - val_loss: 0.0804 - val_mean_squared_error: 0.0804\n",
      "Epoch 4/9\n",
      "14450/14450 - 1s - loss: 0.0759 - mean_squared_error: 0.0759 - val_loss: 0.0715 - val_mean_squared_error: 0.0715\n",
      "Epoch 5/9\n",
      "14450/14450 - 1s - loss: 0.0687 - mean_squared_error: 0.0687 - val_loss: 0.0658 - val_mean_squared_error: 0.0658\n",
      "Epoch 6/9\n",
      "14450/14450 - 1s - loss: 0.0641 - mean_squared_error: 0.0641 - val_loss: 0.0623 - val_mean_squared_error: 0.0623\n",
      "Epoch 7/9\n",
      "14450/14450 - 1s - loss: 0.0612 - mean_squared_error: 0.0612 - val_loss: 0.0601 - val_mean_squared_error: 0.0601\n",
      "Epoch 8/9\n",
      "14450/14450 - 1s - loss: 0.0594 - mean_squared_error: 0.0594 - val_loss: 0.0587 - val_mean_squared_error: 0.0587\n",
      "Epoch 9/9\n",
      "14450/14450 - 1s - loss: 0.0580 - mean_squared_error: 0.0580 - val_loss: 0.0574 - val_mean_squared_error: 0.0574\n"
     ]
    },
    {
     "data": {
      "text/html": [
       "<span style=\"color:#4527A0\"><h1 style=\"font-size:18px\">Trial complete</h1></span>"
      ],
      "text/plain": [
       "<IPython.core.display.HTML object>"
      ]
     },
     "metadata": {},
     "output_type": "display_data"
    },
    {
     "data": {
      "text/html": [
       "<span style=\"color:#4527A0\"><h1 style=\"font-size:18px\">Trial summary</h1></span>"
      ],
      "text/plain": [
       "<IPython.core.display.HTML object>"
      ]
     },
     "metadata": {},
     "output_type": "display_data"
    },
    {
     "data": {
      "text/html": [
       "<span style=\"color:cyan\"> |-Trial ID: bc2dcf544e86020b23f772cf1d2a436d</span>"
      ],
      "text/plain": [
       "<IPython.core.display.HTML object>"
      ]
     },
     "metadata": {},
     "output_type": "display_data"
    },
    {
     "data": {
      "text/html": [
       "<span style=\"color:cyan\"> |-Score: 0.057961609214544296</span>"
      ],
      "text/plain": [
       "<IPython.core.display.HTML object>"
      ]
     },
     "metadata": {},
     "output_type": "display_data"
    },
    {
     "data": {
      "text/html": [
       "<span style=\"color:cyan\"> |-Best step: 0</span>"
      ],
      "text/plain": [
       "<IPython.core.display.HTML object>"
      ]
     },
     "metadata": {},
     "output_type": "display_data"
    },
    {
     "data": {
      "text/html": [
       "<span style=\"color:#7E57C2\"><h2 style=\"font-size:16px\">Hyperparameters:</h2></span>"
      ],
      "text/plain": [
       "<IPython.core.display.HTML object>"
      ]
     },
     "metadata": {},
     "output_type": "display_data"
    },
    {
     "data": {
      "text/html": [
       "<span style=\"color:cyan\"> |-hidden_0_units: 20</span>"
      ],
      "text/plain": [
       "<IPython.core.display.HTML object>"
      ]
     },
     "metadata": {},
     "output_type": "display_data"
    },
    {
     "data": {
      "text/html": [
       "<span style=\"color:blue\"> |-hidden_1_units: 313</span>"
      ],
      "text/plain": [
       "<IPython.core.display.HTML object>"
      ]
     },
     "metadata": {},
     "output_type": "display_data"
    },
    {
     "data": {
      "text/html": [
       "<span style=\"color:cyan\"> |-learning_rate: 0.0001</span>"
      ],
      "text/plain": [
       "<IPython.core.display.HTML object>"
      ]
     },
     "metadata": {},
     "output_type": "display_data"
    },
    {
     "data": {
      "text/html": [
       "<span style=\"color:blue\"> |-n_layers: 2</span>"
      ],
      "text/plain": [
       "<IPython.core.display.HTML object>"
      ]
     },
     "metadata": {},
     "output_type": "display_data"
    },
    {
     "data": {
      "text/html": [
       "<span style=\"color:cyan\"> |-tuner/bracket: 1</span>"
      ],
      "text/plain": [
       "<IPython.core.display.HTML object>"
      ]
     },
     "metadata": {},
     "output_type": "display_data"
    },
    {
     "data": {
      "text/html": [
       "<span style=\"color:blue\"> |-tuner/epochs: 9</span>"
      ],
      "text/plain": [
       "<IPython.core.display.HTML object>"
      ]
     },
     "metadata": {},
     "output_type": "display_data"
    },
    {
     "data": {
      "text/html": [
       "<span style=\"color:cyan\"> |-tuner/initial_epoch: 0</span>"
      ],
      "text/plain": [
       "<IPython.core.display.HTML object>"
      ]
     },
     "metadata": {},
     "output_type": "display_data"
    },
    {
     "data": {
      "text/html": [
       "<span style=\"color:blue\"> |-tuner/round: 0</span>"
      ],
      "text/plain": [
       "<IPython.core.display.HTML object>"
      ]
     },
     "metadata": {},
     "output_type": "display_data"
    },
    {
     "name": "stdout",
     "output_type": "stream",
     "text": [
      "Train on 14450 samples, validate on 2550 samples\n",
      "Epoch 10/25\n",
      "14450/14450 - 2s - loss: 0.0061 - mean_squared_error: 0.0061 - val_loss: 0.0021 - val_mean_squared_error: 0.0021\n",
      "Epoch 11/25\n",
      "14450/14450 - 2s - loss: 0.0042 - mean_squared_error: 0.0042 - val_loss: 0.0616 - val_mean_squared_error: 0.0616\n",
      "Epoch 12/25\n",
      "14450/14450 - 2s - loss: 0.1456 - mean_squared_error: 0.1456 - val_loss: 0.1598 - val_mean_squared_error: 0.1598\n",
      "Epoch 13/25\n",
      "14450/14450 - 2s - loss: 0.1473 - mean_squared_error: 0.1473 - val_loss: 0.1468 - val_mean_squared_error: 0.1468\n",
      "Epoch 14/25\n",
      "14450/14450 - 2s - loss: 0.1194 - mean_squared_error: 0.1194 - val_loss: 0.0949 - val_mean_squared_error: 0.0949\n",
      "Epoch 15/25\n",
      "14450/14450 - 1s - loss: 0.1106 - mean_squared_error: 0.1106 - val_loss: 0.1053 - val_mean_squared_error: 0.1053\n",
      "Epoch 16/25\n",
      "14450/14450 - 2s - loss: 0.0994 - mean_squared_error: 0.0994 - val_loss: 0.1050 - val_mean_squared_error: 0.1050\n"
     ]
    },
    {
     "data": {
      "text/html": [
       "<span style=\"color:#4527A0\"><h1 style=\"font-size:18px\">Trial complete</h1></span>"
      ],
      "text/plain": [
       "<IPython.core.display.HTML object>"
      ]
     },
     "metadata": {},
     "output_type": "display_data"
    },
    {
     "data": {
      "text/html": [
       "<span style=\"color:#4527A0\"><h1 style=\"font-size:18px\">Trial summary</h1></span>"
      ],
      "text/plain": [
       "<IPython.core.display.HTML object>"
      ]
     },
     "metadata": {},
     "output_type": "display_data"
    },
    {
     "data": {
      "text/html": [
       "<span style=\"color:cyan\"> |-Trial ID: f238c637158d2437ffcd437acb49042a</span>"
      ],
      "text/plain": [
       "<IPython.core.display.HTML object>"
      ]
     },
     "metadata": {},
     "output_type": "display_data"
    },
    {
     "data": {
      "text/html": [
       "<span style=\"color:cyan\"> |-Score: 0.004235445987433195</span>"
      ],
      "text/plain": [
       "<IPython.core.display.HTML object>"
      ]
     },
     "metadata": {},
     "output_type": "display_data"
    },
    {
     "data": {
      "text/html": [
       "<span style=\"color:cyan\"> |-Best step: 0</span>"
      ],
      "text/plain": [
       "<IPython.core.display.HTML object>"
      ]
     },
     "metadata": {},
     "output_type": "display_data"
    },
    {
     "data": {
      "text/html": [
       "<span style=\"color:#7E57C2\"><h2 style=\"font-size:16px\">Hyperparameters:</h2></span>"
      ],
      "text/plain": [
       "<IPython.core.display.HTML object>"
      ]
     },
     "metadata": {},
     "output_type": "display_data"
    },
    {
     "data": {
      "text/html": [
       "<span style=\"color:cyan\"> |-hidden_0_units: 189</span>"
      ],
      "text/plain": [
       "<IPython.core.display.HTML object>"
      ]
     },
     "metadata": {},
     "output_type": "display_data"
    },
    {
     "data": {
      "text/html": [
       "<span style=\"color:blue\"> |-hidden_1_units: 148</span>"
      ],
      "text/plain": [
       "<IPython.core.display.HTML object>"
      ]
     },
     "metadata": {},
     "output_type": "display_data"
    },
    {
     "data": {
      "text/html": [
       "<span style=\"color:cyan\"> |-learning_rate: 0.01</span>"
      ],
      "text/plain": [
       "<IPython.core.display.HTML object>"
      ]
     },
     "metadata": {},
     "output_type": "display_data"
    },
    {
     "data": {
      "text/html": [
       "<span style=\"color:blue\"> |-n_layers: 2</span>"
      ],
      "text/plain": [
       "<IPython.core.display.HTML object>"
      ]
     },
     "metadata": {},
     "output_type": "display_data"
    },
    {
     "data": {
      "text/html": [
       "<span style=\"color:cyan\"> |-tuner/bracket: 1</span>"
      ],
      "text/plain": [
       "<IPython.core.display.HTML object>"
      ]
     },
     "metadata": {},
     "output_type": "display_data"
    },
    {
     "data": {
      "text/html": [
       "<span style=\"color:blue\"> |-tuner/epochs: 25</span>"
      ],
      "text/plain": [
       "<IPython.core.display.HTML object>"
      ]
     },
     "metadata": {},
     "output_type": "display_data"
    },
    {
     "data": {
      "text/html": [
       "<span style=\"color:cyan\"> |-tuner/initial_epoch: 9</span>"
      ],
      "text/plain": [
       "<IPython.core.display.HTML object>"
      ]
     },
     "metadata": {},
     "output_type": "display_data"
    },
    {
     "data": {
      "text/html": [
       "<span style=\"color:blue\"> |-tuner/round: 1</span>"
      ],
      "text/plain": [
       "<IPython.core.display.HTML object>"
      ]
     },
     "metadata": {},
     "output_type": "display_data"
    },
    {
     "data": {
      "text/html": [
       "<span style=\"color:cyan\"> |-tuner/trial_id: 625f840e95160c47208ec1661fc21453</span>"
      ],
      "text/plain": [
       "<IPython.core.display.HTML object>"
      ]
     },
     "metadata": {},
     "output_type": "display_data"
    },
    {
     "name": "stdout",
     "output_type": "stream",
     "text": [
      "Train on 14450 samples, validate on 2550 samples\n",
      "Epoch 10/25\n",
      "14450/14450 - 2s - loss: 0.1680 - mean_squared_error: 0.1680 - val_loss: 0.1406 - val_mean_squared_error: 0.1406\n",
      "Epoch 11/25\n",
      "14450/14450 - 1s - loss: 0.1144 - mean_squared_error: 0.1144 - val_loss: 0.0908 - val_mean_squared_error: 0.0908\n",
      "Epoch 12/25\n",
      "14450/14450 - 1s - loss: 0.0719 - mean_squared_error: 0.0719 - val_loss: 0.0563 - val_mean_squared_error: 0.0563\n",
      "Epoch 13/25\n",
      "14450/14450 - 1s - loss: 0.0448 - mean_squared_error: 0.0448 - val_loss: 0.0351 - val_mean_squared_error: 0.0351\n",
      "Epoch 14/25\n",
      "14450/14450 - 1s - loss: 0.0278 - mean_squared_error: 0.0278 - val_loss: 0.0215 - val_mean_squared_error: 0.0215\n",
      "Epoch 15/25\n",
      "14450/14450 - 1s - loss: 0.0169 - mean_squared_error: 0.0169 - val_loss: 0.0130 - val_mean_squared_error: 0.0130\n",
      "Epoch 16/25\n",
      "14450/14450 - 1s - loss: 0.0103 - mean_squared_error: 0.0103 - val_loss: 0.0080 - val_mean_squared_error: 0.0080\n",
      "Epoch 17/25\n",
      "14450/14450 - 1s - loss: 0.0064 - mean_squared_error: 0.0064 - val_loss: 0.0050 - val_mean_squared_error: 0.0050\n",
      "Epoch 18/25\n",
      "14450/14450 - 1s - loss: 0.0041 - mean_squared_error: 0.0041 - val_loss: 0.0033 - val_mean_squared_error: 0.0033\n",
      "Epoch 19/25\n",
      "14450/14450 - 1s - loss: 0.0027 - mean_squared_error: 0.0027 - val_loss: 0.0022 - val_mean_squared_error: 0.0022\n",
      "Epoch 20/25\n",
      "14450/14450 - 1s - loss: 0.0019 - mean_squared_error: 0.0019 - val_loss: 0.0016 - val_mean_squared_error: 0.0016\n",
      "Epoch 21/25\n",
      "14450/14450 - 1s - loss: 0.0014 - mean_squared_error: 0.0014 - val_loss: 0.0012 - val_mean_squared_error: 0.0012\n",
      "Epoch 22/25\n",
      "14450/14450 - 1s - loss: 0.0010 - mean_squared_error: 0.0010 - val_loss: 8.9713e-04 - val_mean_squared_error: 8.9713e-04\n",
      "Epoch 23/25\n",
      "14450/14450 - 1s - loss: 8.1496e-04 - mean_squared_error: 8.1496e-04 - val_loss: 7.1834e-04 - val_mean_squared_error: 7.1834e-04\n",
      "Epoch 24/25\n",
      "14450/14450 - 1s - loss: 6.6780e-04 - mean_squared_error: 6.6780e-04 - val_loss: 5.9826e-04 - val_mean_squared_error: 5.9826e-04\n",
      "Epoch 25/25\n",
      "14450/14450 - 1s - loss: 5.6685e-04 - mean_squared_error: 5.6685e-04 - val_loss: 5.2153e-04 - val_mean_squared_error: 5.2153e-04\n"
     ]
    },
    {
     "data": {
      "text/html": [
       "<span style=\"color:#4527A0\"><h1 style=\"font-size:18px\">Trial complete</h1></span>"
      ],
      "text/plain": [
       "<IPython.core.display.HTML object>"
      ]
     },
     "metadata": {},
     "output_type": "display_data"
    },
    {
     "data": {
      "text/html": [
       "<span style=\"color:#4527A0\"><h1 style=\"font-size:18px\">Trial summary</h1></span>"
      ],
      "text/plain": [
       "<IPython.core.display.HTML object>"
      ]
     },
     "metadata": {},
     "output_type": "display_data"
    },
    {
     "data": {
      "text/html": [
       "<span style=\"color:cyan\"> |-Trial ID: 5d77b0423b7cc597b8164ae961a248af</span>"
      ],
      "text/plain": [
       "<IPython.core.display.HTML object>"
      ]
     },
     "metadata": {},
     "output_type": "display_data"
    },
    {
     "data": {
      "text/html": [
       "<span style=\"color:cyan\"> |-Score: 0.0005668508820235729</span>"
      ],
      "text/plain": [
       "<IPython.core.display.HTML object>"
      ]
     },
     "metadata": {},
     "output_type": "display_data"
    },
    {
     "data": {
      "text/html": [
       "<span style=\"color:cyan\"> |-Best step: 0</span>"
      ],
      "text/plain": [
       "<IPython.core.display.HTML object>"
      ]
     },
     "metadata": {},
     "output_type": "display_data"
    },
    {
     "data": {
      "text/html": [
       "<span style=\"color:#7E57C2\"><h2 style=\"font-size:16px\">Hyperparameters:</h2></span>"
      ],
      "text/plain": [
       "<IPython.core.display.HTML object>"
      ]
     },
     "metadata": {},
     "output_type": "display_data"
    },
    {
     "data": {
      "text/html": [
       "<span style=\"color:cyan\"> |-hidden_0_units: 184</span>"
      ],
      "text/plain": [
       "<IPython.core.display.HTML object>"
      ]
     },
     "metadata": {},
     "output_type": "display_data"
    },
    {
     "data": {
      "text/html": [
       "<span style=\"color:blue\"> |-hidden_1_units: 100</span>"
      ],
      "text/plain": [
       "<IPython.core.display.HTML object>"
      ]
     },
     "metadata": {},
     "output_type": "display_data"
    },
    {
     "data": {
      "text/html": [
       "<span style=\"color:cyan\"> |-learning_rate: 0.0001</span>"
      ],
      "text/plain": [
       "<IPython.core.display.HTML object>"
      ]
     },
     "metadata": {},
     "output_type": "display_data"
    },
    {
     "data": {
      "text/html": [
       "<span style=\"color:blue\"> |-n_layers: 1</span>"
      ],
      "text/plain": [
       "<IPython.core.display.HTML object>"
      ]
     },
     "metadata": {},
     "output_type": "display_data"
    },
    {
     "data": {
      "text/html": [
       "<span style=\"color:cyan\"> |-tuner/bracket: 1</span>"
      ],
      "text/plain": [
       "<IPython.core.display.HTML object>"
      ]
     },
     "metadata": {},
     "output_type": "display_data"
    },
    {
     "data": {
      "text/html": [
       "<span style=\"color:blue\"> |-tuner/epochs: 25</span>"
      ],
      "text/plain": [
       "<IPython.core.display.HTML object>"
      ]
     },
     "metadata": {},
     "output_type": "display_data"
    },
    {
     "data": {
      "text/html": [
       "<span style=\"color:cyan\"> |-tuner/initial_epoch: 9</span>"
      ],
      "text/plain": [
       "<IPython.core.display.HTML object>"
      ]
     },
     "metadata": {},
     "output_type": "display_data"
    },
    {
     "data": {
      "text/html": [
       "<span style=\"color:blue\"> |-tuner/round: 1</span>"
      ],
      "text/plain": [
       "<IPython.core.display.HTML object>"
      ]
     },
     "metadata": {},
     "output_type": "display_data"
    },
    {
     "data": {
      "text/html": [
       "<span style=\"color:cyan\"> |-tuner/trial_id: 8953b1b353374c3f972d49610bf5f6de</span>"
      ],
      "text/plain": [
       "<IPython.core.display.HTML object>"
      ]
     },
     "metadata": {},
     "output_type": "display_data"
    },
    {
     "name": "stdout",
     "output_type": "stream",
     "text": [
      "Train on 14450 samples, validate on 2550 samples\n",
      "Epoch 1/25\n",
      "14450/14450 - 2s - loss: 0.0386 - mean_squared_error: 0.0386 - val_loss: 0.0013 - val_mean_squared_error: 0.0013\n",
      "Epoch 2/25\n",
      "14450/14450 - 1s - loss: 6.4375e-04 - mean_squared_error: 6.4375e-04 - val_loss: 5.0281e-04 - val_mean_squared_error: 5.0281e-04\n",
      "Epoch 3/25\n",
      "14450/14450 - 2s - loss: 4.2786e-04 - mean_squared_error: 4.2786e-04 - val_loss: 3.3711e-04 - val_mean_squared_error: 3.3711e-04\n",
      "Epoch 4/25\n",
      "14450/14450 - 2s - loss: 3.9919e-04 - mean_squared_error: 3.9919e-04 - val_loss: 3.2223e-04 - val_mean_squared_error: 3.2223e-04\n",
      "Epoch 5/25\n",
      "14450/14450 - 2s - loss: 3.6889e-04 - mean_squared_error: 3.6889e-04 - val_loss: 3.1083e-04 - val_mean_squared_error: 3.1083e-04\n",
      "Epoch 6/25\n",
      "14450/14450 - 2s - loss: 4.2367e-04 - mean_squared_error: 4.2367e-04 - val_loss: 3.2894e-04 - val_mean_squared_error: 3.2894e-04\n",
      "Epoch 7/25\n",
      "14450/14450 - 1s - loss: 4.0417e-04 - mean_squared_error: 4.0417e-04 - val_loss: 3.4320e-04 - val_mean_squared_error: 3.4320e-04\n",
      "Epoch 8/25\n",
      "14450/14450 - 1s - loss: 3.7751e-04 - mean_squared_error: 3.7751e-04 - val_loss: 3.0837e-04 - val_mean_squared_error: 3.0837e-04\n",
      "Epoch 9/25\n",
      "14450/14450 - 1s - loss: 3.8967e-04 - mean_squared_error: 3.8967e-04 - val_loss: 3.3392e-04 - val_mean_squared_error: 3.3392e-04\n",
      "Epoch 10/25\n",
      "14450/14450 - 1s - loss: 3.8302e-04 - mean_squared_error: 3.8302e-04 - val_loss: 4.9085e-04 - val_mean_squared_error: 4.9085e-04\n"
     ]
    },
    {
     "data": {
      "text/html": [
       "<span style=\"color:#4527A0\"><h1 style=\"font-size:18px\">Trial complete</h1></span>"
      ],
      "text/plain": [
       "<IPython.core.display.HTML object>"
      ]
     },
     "metadata": {},
     "output_type": "display_data"
    },
    {
     "data": {
      "text/html": [
       "<span style=\"color:#4527A0\"><h1 style=\"font-size:18px\">Trial summary</h1></span>"
      ],
      "text/plain": [
       "<IPython.core.display.HTML object>"
      ]
     },
     "metadata": {},
     "output_type": "display_data"
    },
    {
     "data": {
      "text/html": [
       "<span style=\"color:cyan\"> |-Trial ID: e7182f04bde1d8a73c0a876328c7917d</span>"
      ],
      "text/plain": [
       "<IPython.core.display.HTML object>"
      ]
     },
     "metadata": {},
     "output_type": "display_data"
    },
    {
     "data": {
      "text/html": [
       "<span style=\"color:cyan\"> |-Score: 0.0003688893048092723</span>"
      ],
      "text/plain": [
       "<IPython.core.display.HTML object>"
      ]
     },
     "metadata": {},
     "output_type": "display_data"
    },
    {
     "data": {
      "text/html": [
       "<span style=\"color:cyan\"> |-Best step: 0</span>"
      ],
      "text/plain": [
       "<IPython.core.display.HTML object>"
      ]
     },
     "metadata": {},
     "output_type": "display_data"
    },
    {
     "data": {
      "text/html": [
       "<span style=\"color:#7E57C2\"><h2 style=\"font-size:16px\">Hyperparameters:</h2></span>"
      ],
      "text/plain": [
       "<IPython.core.display.HTML object>"
      ]
     },
     "metadata": {},
     "output_type": "display_data"
    },
    {
     "data": {
      "text/html": [
       "<span style=\"color:cyan\"> |-hidden_0_units: 224</span>"
      ],
      "text/plain": [
       "<IPython.core.display.HTML object>"
      ]
     },
     "metadata": {},
     "output_type": "display_data"
    },
    {
     "data": {
      "text/html": [
       "<span style=\"color:blue\"> |-hidden_1_units: 55</span>"
      ],
      "text/plain": [
       "<IPython.core.display.HTML object>"
      ]
     },
     "metadata": {},
     "output_type": "display_data"
    },
    {
     "data": {
      "text/html": [
       "<span style=\"color:cyan\"> |-learning_rate: 0.001</span>"
      ],
      "text/plain": [
       "<IPython.core.display.HTML object>"
      ]
     },
     "metadata": {},
     "output_type": "display_data"
    },
    {
     "data": {
      "text/html": [
       "<span style=\"color:blue\"> |-n_layers: 2</span>"
      ],
      "text/plain": [
       "<IPython.core.display.HTML object>"
      ]
     },
     "metadata": {},
     "output_type": "display_data"
    },
    {
     "data": {
      "text/html": [
       "<span style=\"color:cyan\"> |-tuner/bracket: 0</span>"
      ],
      "text/plain": [
       "<IPython.core.display.HTML object>"
      ]
     },
     "metadata": {},
     "output_type": "display_data"
    },
    {
     "data": {
      "text/html": [
       "<span style=\"color:blue\"> |-tuner/epochs: 25</span>"
      ],
      "text/plain": [
       "<IPython.core.display.HTML object>"
      ]
     },
     "metadata": {},
     "output_type": "display_data"
    },
    {
     "data": {
      "text/html": [
       "<span style=\"color:cyan\"> |-tuner/initial_epoch: 0</span>"
      ],
      "text/plain": [
       "<IPython.core.display.HTML object>"
      ]
     },
     "metadata": {},
     "output_type": "display_data"
    },
    {
     "data": {
      "text/html": [
       "<span style=\"color:blue\"> |-tuner/round: 0</span>"
      ],
      "text/plain": [
       "<IPython.core.display.HTML object>"
      ]
     },
     "metadata": {},
     "output_type": "display_data"
    },
    {
     "name": "stdout",
     "output_type": "stream",
     "text": [
      "Train on 14450 samples, validate on 2550 samples\n",
      "Epoch 1/25\n",
      "14450/14450 - 2s - loss: 0.0311 - mean_squared_error: 0.0311 - val_loss: 8.1172e-04 - val_mean_squared_error: 8.1172e-04\n",
      "Epoch 2/25\n",
      "14450/14450 - 1s - loss: 5.3100e-04 - mean_squared_error: 5.3100e-04 - val_loss: 4.7318e-04 - val_mean_squared_error: 4.7318e-04\n",
      "Epoch 3/25\n",
      "14450/14450 - 1s - loss: 4.2995e-04 - mean_squared_error: 4.2995e-04 - val_loss: 3.3386e-04 - val_mean_squared_error: 3.3386e-04\n",
      "Epoch 4/25\n",
      "14450/14450 - 1s - loss: 3.7829e-04 - mean_squared_error: 3.7829e-04 - val_loss: 3.5291e-04 - val_mean_squared_error: 3.5291e-04\n",
      "Epoch 5/25\n",
      "14450/14450 - 1s - loss: 4.1148e-04 - mean_squared_error: 4.1148e-04 - val_loss: 4.4515e-04 - val_mean_squared_error: 4.4515e-04\n",
      "Epoch 6/25\n",
      "14450/14450 - 1s - loss: 4.1654e-04 - mean_squared_error: 4.1654e-04 - val_loss: 3.5115e-04 - val_mean_squared_error: 3.5115e-04\n",
      "Epoch 7/25\n",
      "14450/14450 - 1s - loss: 3.8015e-04 - mean_squared_error: 3.8015e-04 - val_loss: 3.2091e-04 - val_mean_squared_error: 3.2091e-04\n",
      "Epoch 8/25\n",
      "14450/14450 - 2s - loss: 3.6698e-04 - mean_squared_error: 3.6698e-04 - val_loss: 3.7677e-04 - val_mean_squared_error: 3.7677e-04\n",
      "Epoch 9/25\n",
      "14450/14450 - 1s - loss: 4.0045e-04 - mean_squared_error: 4.0045e-04 - val_loss: 4.6334e-04 - val_mean_squared_error: 4.6334e-04\n",
      "Epoch 10/25\n",
      "14450/14450 - 1s - loss: 3.8852e-04 - mean_squared_error: 3.8852e-04 - val_loss: 3.4192e-04 - val_mean_squared_error: 3.4192e-04\n",
      "Epoch 11/25\n",
      "14450/14450 - 1s - loss: 4.0692e-04 - mean_squared_error: 4.0692e-04 - val_loss: 3.5959e-04 - val_mean_squared_error: 3.5959e-04\n",
      "Epoch 12/25\n",
      "14450/14450 - 1s - loss: 3.9906e-04 - mean_squared_error: 3.9906e-04 - val_loss: 4.0265e-04 - val_mean_squared_error: 4.0265e-04\n",
      "Epoch 13/25\n",
      "14450/14450 - 2s - loss: 4.0414e-04 - mean_squared_error: 4.0414e-04 - val_loss: 3.2341e-04 - val_mean_squared_error: 3.2341e-04\n"
     ]
    },
    {
     "data": {
      "text/html": [
       "<span style=\"color:#4527A0\"><h1 style=\"font-size:18px\">Trial complete</h1></span>"
      ],
      "text/plain": [
       "<IPython.core.display.HTML object>"
      ]
     },
     "metadata": {},
     "output_type": "display_data"
    },
    {
     "data": {
      "text/html": [
       "<span style=\"color:#4527A0\"><h1 style=\"font-size:18px\">Trial summary</h1></span>"
      ],
      "text/plain": [
       "<IPython.core.display.HTML object>"
      ]
     },
     "metadata": {},
     "output_type": "display_data"
    },
    {
     "data": {
      "text/html": [
       "<span style=\"color:cyan\"> |-Trial ID: a0224fe30db71662c29690d9c8970a5b</span>"
      ],
      "text/plain": [
       "<IPython.core.display.HTML object>"
      ]
     },
     "metadata": {},
     "output_type": "display_data"
    },
    {
     "data": {
      "text/html": [
       "<span style=\"color:cyan\"> |-Score: 0.00036697546602226794</span>"
      ],
      "text/plain": [
       "<IPython.core.display.HTML object>"
      ]
     },
     "metadata": {},
     "output_type": "display_data"
    },
    {
     "data": {
      "text/html": [
       "<span style=\"color:cyan\"> |-Best step: 0</span>"
      ],
      "text/plain": [
       "<IPython.core.display.HTML object>"
      ]
     },
     "metadata": {},
     "output_type": "display_data"
    },
    {
     "data": {
      "text/html": [
       "<span style=\"color:#7E57C2\"><h2 style=\"font-size:16px\">Hyperparameters:</h2></span>"
      ],
      "text/plain": [
       "<IPython.core.display.HTML object>"
      ]
     },
     "metadata": {},
     "output_type": "display_data"
    },
    {
     "data": {
      "text/html": [
       "<span style=\"color:cyan\"> |-hidden_0_units: 214</span>"
      ],
      "text/plain": [
       "<IPython.core.display.HTML object>"
      ]
     },
     "metadata": {},
     "output_type": "display_data"
    },
    {
     "data": {
      "text/html": [
       "<span style=\"color:blue\"> |-hidden_1_units: 89</span>"
      ],
      "text/plain": [
       "<IPython.core.display.HTML object>"
      ]
     },
     "metadata": {},
     "output_type": "display_data"
    },
    {
     "data": {
      "text/html": [
       "<span style=\"color:cyan\"> |-learning_rate: 0.001</span>"
      ],
      "text/plain": [
       "<IPython.core.display.HTML object>"
      ]
     },
     "metadata": {},
     "output_type": "display_data"
    },
    {
     "data": {
      "text/html": [
       "<span style=\"color:blue\"> |-n_layers: 2</span>"
      ],
      "text/plain": [
       "<IPython.core.display.HTML object>"
      ]
     },
     "metadata": {},
     "output_type": "display_data"
    },
    {
     "data": {
      "text/html": [
       "<span style=\"color:cyan\"> |-tuner/bracket: 0</span>"
      ],
      "text/plain": [
       "<IPython.core.display.HTML object>"
      ]
     },
     "metadata": {},
     "output_type": "display_data"
    },
    {
     "data": {
      "text/html": [
       "<span style=\"color:blue\"> |-tuner/epochs: 25</span>"
      ],
      "text/plain": [
       "<IPython.core.display.HTML object>"
      ]
     },
     "metadata": {},
     "output_type": "display_data"
    },
    {
     "data": {
      "text/html": [
       "<span style=\"color:cyan\"> |-tuner/initial_epoch: 0</span>"
      ],
      "text/plain": [
       "<IPython.core.display.HTML object>"
      ]
     },
     "metadata": {},
     "output_type": "display_data"
    },
    {
     "data": {
      "text/html": [
       "<span style=\"color:blue\"> |-tuner/round: 0</span>"
      ],
      "text/plain": [
       "<IPython.core.display.HTML object>"
      ]
     },
     "metadata": {},
     "output_type": "display_data"
    },
    {
     "name": "stdout",
     "output_type": "stream",
     "text": [
      "Train on 14450 samples, validate on 2550 samples\n",
      "Epoch 1/25\n",
      "14450/14450 - 2s - loss: 0.1642 - mean_squared_error: 0.1642 - val_loss: 0.1280 - val_mean_squared_error: 0.1280\n",
      "Epoch 2/25\n",
      "14450/14450 - 1s - loss: 0.0974 - mean_squared_error: 0.0974 - val_loss: 0.0740 - val_mean_squared_error: 0.0740\n",
      "Epoch 3/25\n",
      "14450/14450 - 2s - loss: 0.0587 - mean_squared_error: 0.0587 - val_loss: 0.0447 - val_mean_squared_error: 0.0447\n",
      "Epoch 4/25\n",
      "14450/14450 - 1s - loss: 0.0341 - mean_squared_error: 0.0341 - val_loss: 0.0247 - val_mean_squared_error: 0.0247\n",
      "Epoch 5/25\n",
      "14450/14450 - 1s - loss: 0.0182 - mean_squared_error: 0.0182 - val_loss: 0.0126 - val_mean_squared_error: 0.0126\n",
      "Epoch 6/25\n",
      "14450/14450 - 1s - loss: 0.0092 - mean_squared_error: 0.0092 - val_loss: 0.0064 - val_mean_squared_error: 0.0064\n",
      "Epoch 7/25\n",
      "14450/14450 - 2s - loss: 0.0047 - mean_squared_error: 0.0047 - val_loss: 0.0034 - val_mean_squared_error: 0.0034\n",
      "Epoch 8/25\n",
      "14450/14450 - 2s - loss: 0.0026 - mean_squared_error: 0.0026 - val_loss: 0.0019 - val_mean_squared_error: 0.0019\n",
      "Epoch 9/25\n",
      "14450/14450 - 2s - loss: 0.0015 - mean_squared_error: 0.0015 - val_loss: 0.0012 - val_mean_squared_error: 0.0012\n",
      "Epoch 10/25\n",
      "14450/14450 - 1s - loss: 9.6872e-04 - mean_squared_error: 9.6872e-04 - val_loss: 7.8810e-04 - val_mean_squared_error: 7.8810e-04\n",
      "Epoch 11/25\n",
      "14450/14450 - 1s - loss: 6.9869e-04 - mean_squared_error: 6.9869e-04 - val_loss: 5.9898e-04 - val_mean_squared_error: 5.9898e-04\n",
      "Epoch 12/25\n",
      "14450/14450 - 1s - loss: 5.5648e-04 - mean_squared_error: 5.5648e-04 - val_loss: 4.9537e-04 - val_mean_squared_error: 4.9537e-04\n",
      "Epoch 13/25\n",
      "14450/14450 - 1s - loss: 4.7267e-04 - mean_squared_error: 4.7267e-04 - val_loss: 4.2719e-04 - val_mean_squared_error: 4.2719e-04\n",
      "Epoch 14/25\n",
      "14450/14450 - 1s - loss: 4.2065e-04 - mean_squared_error: 4.2065e-04 - val_loss: 3.8759e-04 - val_mean_squared_error: 3.8759e-04\n",
      "Epoch 15/25\n",
      "14450/14450 - 1s - loss: 3.8834e-04 - mean_squared_error: 3.8834e-04 - val_loss: 3.6282e-04 - val_mean_squared_error: 3.6282e-04\n",
      "Epoch 16/25\n",
      "14450/14450 - 1s - loss: 3.6310e-04 - mean_squared_error: 3.6310e-04 - val_loss: 3.4277e-04 - val_mean_squared_error: 3.4277e-04\n",
      "Epoch 17/25\n",
      "14450/14450 - 1s - loss: 3.4534e-04 - mean_squared_error: 3.4534e-04 - val_loss: 3.2713e-04 - val_mean_squared_error: 3.2713e-04\n",
      "Epoch 18/25\n",
      "14450/14450 - 1s - loss: 3.3571e-04 - mean_squared_error: 3.3571e-04 - val_loss: 3.1422e-04 - val_mean_squared_error: 3.1422e-04\n",
      "Epoch 19/25\n",
      "14450/14450 - 1s - loss: 3.2999e-04 - mean_squared_error: 3.2999e-04 - val_loss: 3.0628e-04 - val_mean_squared_error: 3.0628e-04\n",
      "Epoch 20/25\n",
      "14450/14450 - 1s - loss: 3.2090e-04 - mean_squared_error: 3.2090e-04 - val_loss: 3.0217e-04 - val_mean_squared_error: 3.0217e-04\n",
      "Epoch 21/25\n",
      "14450/14450 - 1s - loss: 3.1575e-04 - mean_squared_error: 3.1575e-04 - val_loss: 2.9603e-04 - val_mean_squared_error: 2.9603e-04\n",
      "Epoch 22/25\n",
      "14450/14450 - 1s - loss: 3.1329e-04 - mean_squared_error: 3.1329e-04 - val_loss: 2.9321e-04 - val_mean_squared_error: 2.9321e-04\n",
      "Epoch 23/25\n",
      "14450/14450 - 1s - loss: 3.1432e-04 - mean_squared_error: 3.1432e-04 - val_loss: 3.1035e-04 - val_mean_squared_error: 3.1035e-04\n",
      "Epoch 24/25\n",
      "14450/14450 - 1s - loss: 3.1340e-04 - mean_squared_error: 3.1340e-04 - val_loss: 3.0817e-04 - val_mean_squared_error: 3.0817e-04\n",
      "Epoch 25/25\n",
      "14450/14450 - 1s - loss: 3.0478e-04 - mean_squared_error: 3.0478e-04 - val_loss: 3.0244e-04 - val_mean_squared_error: 3.0244e-04\n"
     ]
    },
    {
     "data": {
      "text/html": [
       "<span style=\"color:#4527A0\"><h1 style=\"font-size:18px\">Trial complete</h1></span>"
      ],
      "text/plain": [
       "<IPython.core.display.HTML object>"
      ]
     },
     "metadata": {},
     "output_type": "display_data"
    },
    {
     "data": {
      "text/html": [
       "<span style=\"color:#4527A0\"><h1 style=\"font-size:18px\">Trial summary</h1></span>"
      ],
      "text/plain": [
       "<IPython.core.display.HTML object>"
      ]
     },
     "metadata": {},
     "output_type": "display_data"
    },
    {
     "data": {
      "text/html": [
       "<span style=\"color:cyan\"> |-Trial ID: 260f82611c739f53f7df133208158a44</span>"
      ],
      "text/plain": [
       "<IPython.core.display.HTML object>"
      ]
     },
     "metadata": {},
     "output_type": "display_data"
    },
    {
     "data": {
      "text/html": [
       "<span style=\"color:cyan\"> |-Score: 0.0003047758073080331</span>"
      ],
      "text/plain": [
       "<IPython.core.display.HTML object>"
      ]
     },
     "metadata": {},
     "output_type": "display_data"
    },
    {
     "data": {
      "text/html": [
       "<span style=\"color:cyan\"> |-Best step: 0</span>"
      ],
      "text/plain": [
       "<IPython.core.display.HTML object>"
      ]
     },
     "metadata": {},
     "output_type": "display_data"
    },
    {
     "data": {
      "text/html": [
       "<span style=\"color:#7E57C2\"><h2 style=\"font-size:16px\">Hyperparameters:</h2></span>"
      ],
      "text/plain": [
       "<IPython.core.display.HTML object>"
      ]
     },
     "metadata": {},
     "output_type": "display_data"
    },
    {
     "data": {
      "text/html": [
       "<span style=\"color:cyan\"> |-hidden_0_units: 114</span>"
      ],
      "text/plain": [
       "<IPython.core.display.HTML object>"
      ]
     },
     "metadata": {},
     "output_type": "display_data"
    },
    {
     "data": {
      "text/html": [
       "<span style=\"color:blue\"> |-hidden_1_units: 86</span>"
      ],
      "text/plain": [
       "<IPython.core.display.HTML object>"
      ]
     },
     "metadata": {},
     "output_type": "display_data"
    },
    {
     "data": {
      "text/html": [
       "<span style=\"color:cyan\"> |-learning_rate: 0.0001</span>"
      ],
      "text/plain": [
       "<IPython.core.display.HTML object>"
      ]
     },
     "metadata": {},
     "output_type": "display_data"
    },
    {
     "data": {
      "text/html": [
       "<span style=\"color:blue\"> |-n_layers: 2</span>"
      ],
      "text/plain": [
       "<IPython.core.display.HTML object>"
      ]
     },
     "metadata": {},
     "output_type": "display_data"
    },
    {
     "data": {
      "text/html": [
       "<span style=\"color:cyan\"> |-tuner/bracket: 0</span>"
      ],
      "text/plain": [
       "<IPython.core.display.HTML object>"
      ]
     },
     "metadata": {},
     "output_type": "display_data"
    },
    {
     "data": {
      "text/html": [
       "<span style=\"color:blue\"> |-tuner/epochs: 25</span>"
      ],
      "text/plain": [
       "<IPython.core.display.HTML object>"
      ]
     },
     "metadata": {},
     "output_type": "display_data"
    },
    {
     "data": {
      "text/html": [
       "<span style=\"color:cyan\"> |-tuner/initial_epoch: 0</span>"
      ],
      "text/plain": [
       "<IPython.core.display.HTML object>"
      ]
     },
     "metadata": {},
     "output_type": "display_data"
    },
    {
     "data": {
      "text/html": [
       "<span style=\"color:blue\"> |-tuner/round: 0</span>"
      ],
      "text/plain": [
       "<IPython.core.display.HTML object>"
      ]
     },
     "metadata": {},
     "output_type": "display_data"
    },
    {
     "name": "stdout",
     "output_type": "stream",
     "text": [
      "Train on 14450 samples, validate on 2550 samples\n",
      "Epoch 1/25\n",
      "14450/14450 - 2s - loss: 0.1630 - mean_squared_error: 0.1630 - val_loss: 0.1321 - val_mean_squared_error: 0.1321\n",
      "Epoch 2/25\n",
      "14450/14450 - 1s - loss: 0.1040 - mean_squared_error: 0.1040 - val_loss: 0.0787 - val_mean_squared_error: 0.0787\n",
      "Epoch 3/25\n",
      "14450/14450 - 1s - loss: 0.0606 - mean_squared_error: 0.0606 - val_loss: 0.0458 - val_mean_squared_error: 0.0458\n",
      "Epoch 4/25\n",
      "14450/14450 - 1s - loss: 0.0355 - mean_squared_error: 0.0355 - val_loss: 0.0269 - val_mean_squared_error: 0.0269\n",
      "Epoch 5/25\n",
      "14450/14450 - 1s - loss: 0.0207 - mean_squared_error: 0.0207 - val_loss: 0.0155 - val_mean_squared_error: 0.0155\n",
      "Epoch 6/25\n",
      "14450/14450 - 1s - loss: 0.0120 - mean_squared_error: 0.0120 - val_loss: 0.0091 - val_mean_squared_error: 0.0091\n",
      "Epoch 7/25\n",
      "14450/14450 - 1s - loss: 0.0071 - mean_squared_error: 0.0071 - val_loss: 0.0055 - val_mean_squared_error: 0.0055\n",
      "Epoch 8/25\n",
      "14450/14450 - 1s - loss: 0.0044 - mean_squared_error: 0.0044 - val_loss: 0.0034 - val_mean_squared_error: 0.0034\n",
      "Epoch 9/25\n",
      "14450/14450 - 1s - loss: 0.0028 - mean_squared_error: 0.0028 - val_loss: 0.0023 - val_mean_squared_error: 0.0023\n",
      "Epoch 10/25\n",
      "14450/14450 - 1s - loss: 0.0019 - mean_squared_error: 0.0019 - val_loss: 0.0016 - val_mean_squared_error: 0.0016\n",
      "Epoch 11/25\n",
      "14450/14450 - 1s - loss: 0.0014 - mean_squared_error: 0.0014 - val_loss: 0.0012 - val_mean_squared_error: 0.0012\n",
      "Epoch 12/25\n",
      "14450/14450 - 1s - loss: 0.0010 - mean_squared_error: 0.0010 - val_loss: 9.0175e-04 - val_mean_squared_error: 9.0175e-04\n",
      "Epoch 13/25\n",
      "14450/14450 - 1s - loss: 8.0628e-04 - mean_squared_error: 8.0628e-04 - val_loss: 7.1040e-04 - val_mean_squared_error: 7.1040e-04\n",
      "Epoch 14/25\n",
      "14450/14450 - 1s - loss: 6.5808e-04 - mean_squared_error: 6.5808e-04 - val_loss: 6.0173e-04 - val_mean_squared_error: 6.0173e-04\n",
      "Epoch 15/25\n",
      "14450/14450 - 1s - loss: 5.5926e-04 - mean_squared_error: 5.5926e-04 - val_loss: 5.3289e-04 - val_mean_squared_error: 5.3289e-04\n",
      "Epoch 16/25\n",
      "14450/14450 - 1s - loss: 4.8906e-04 - mean_squared_error: 4.8906e-04 - val_loss: 4.4800e-04 - val_mean_squared_error: 4.4800e-04\n",
      "Epoch 17/25\n",
      "14450/14450 - 1s - loss: 4.4079e-04 - mean_squared_error: 4.4079e-04 - val_loss: 4.2173e-04 - val_mean_squared_error: 4.2173e-04\n",
      "Epoch 18/25\n",
      "14450/14450 - 1s - loss: 4.0670e-04 - mean_squared_error: 4.0670e-04 - val_loss: 3.8356e-04 - val_mean_squared_error: 3.8356e-04\n",
      "Epoch 19/25\n",
      "14450/14450 - 1s - loss: 3.8209e-04 - mean_squared_error: 3.8209e-04 - val_loss: 3.5731e-04 - val_mean_squared_error: 3.5731e-04\n",
      "Epoch 20/25\n",
      "14450/14450 - 1s - loss: 3.6180e-04 - mean_squared_error: 3.6180e-04 - val_loss: 3.4058e-04 - val_mean_squared_error: 3.4058e-04\n",
      "Epoch 21/25\n",
      "14450/14450 - 1s - loss: 3.4990e-04 - mean_squared_error: 3.4990e-04 - val_loss: 3.2931e-04 - val_mean_squared_error: 3.2931e-04\n",
      "Epoch 22/25\n",
      "14450/14450 - 1s - loss: 3.3819e-04 - mean_squared_error: 3.3819e-04 - val_loss: 3.2943e-04 - val_mean_squared_error: 3.2943e-04\n",
      "Epoch 23/25\n",
      "14450/14450 - 1s - loss: 3.3054e-04 - mean_squared_error: 3.3054e-04 - val_loss: 3.3446e-04 - val_mean_squared_error: 3.3446e-04\n",
      "Epoch 24/25\n",
      "14450/14450 - 1s - loss: 3.2592e-04 - mean_squared_error: 3.2592e-04 - val_loss: 3.0669e-04 - val_mean_squared_error: 3.0669e-04\n",
      "Epoch 25/25\n",
      "14450/14450 - 1s - loss: 3.1918e-04 - mean_squared_error: 3.1918e-04 - val_loss: 3.0241e-04 - val_mean_squared_error: 3.0241e-04\n"
     ]
    },
    {
     "data": {
      "text/html": [
       "<span style=\"color:#4527A0\"><h1 style=\"font-size:18px\">Trial complete</h1></span>"
      ],
      "text/plain": [
       "<IPython.core.display.HTML object>"
      ]
     },
     "metadata": {},
     "output_type": "display_data"
    },
    {
     "data": {
      "text/html": [
       "<span style=\"color:#4527A0\"><h1 style=\"font-size:18px\">Trial summary</h1></span>"
      ],
      "text/plain": [
       "<IPython.core.display.HTML object>"
      ]
     },
     "metadata": {},
     "output_type": "display_data"
    },
    {
     "data": {
      "text/html": [
       "<span style=\"color:cyan\"> |-Trial ID: 886f042f23bc5b11d3bd76a632ebf722</span>"
      ],
      "text/plain": [
       "<IPython.core.display.HTML object>"
      ]
     },
     "metadata": {},
     "output_type": "display_data"
    },
    {
     "data": {
      "text/html": [
       "<span style=\"color:cyan\"> |-Score: 0.00031918290187604725</span>"
      ],
      "text/plain": [
       "<IPython.core.display.HTML object>"
      ]
     },
     "metadata": {},
     "output_type": "display_data"
    },
    {
     "data": {
      "text/html": [
       "<span style=\"color:cyan\"> |-Best step: 0</span>"
      ],
      "text/plain": [
       "<IPython.core.display.HTML object>"
      ]
     },
     "metadata": {},
     "output_type": "display_data"
    },
    {
     "data": {
      "text/html": [
       "<span style=\"color:#7E57C2\"><h2 style=\"font-size:16px\">Hyperparameters:</h2></span>"
      ],
      "text/plain": [
       "<IPython.core.display.HTML object>"
      ]
     },
     "metadata": {},
     "output_type": "display_data"
    },
    {
     "data": {
      "text/html": [
       "<span style=\"color:cyan\"> |-hidden_0_units: 234</span>"
      ],
      "text/plain": [
       "<IPython.core.display.HTML object>"
      ]
     },
     "metadata": {},
     "output_type": "display_data"
    },
    {
     "data": {
      "text/html": [
       "<span style=\"color:blue\"> |-hidden_1_units: 48</span>"
      ],
      "text/plain": [
       "<IPython.core.display.HTML object>"
      ]
     },
     "metadata": {},
     "output_type": "display_data"
    },
    {
     "data": {
      "text/html": [
       "<span style=\"color:cyan\"> |-learning_rate: 0.0001</span>"
      ],
      "text/plain": [
       "<IPython.core.display.HTML object>"
      ]
     },
     "metadata": {},
     "output_type": "display_data"
    },
    {
     "data": {
      "text/html": [
       "<span style=\"color:blue\"> |-n_layers: 1</span>"
      ],
      "text/plain": [
       "<IPython.core.display.HTML object>"
      ]
     },
     "metadata": {},
     "output_type": "display_data"
    },
    {
     "data": {
      "text/html": [
       "<span style=\"color:cyan\"> |-tuner/bracket: 0</span>"
      ],
      "text/plain": [
       "<IPython.core.display.HTML object>"
      ]
     },
     "metadata": {},
     "output_type": "display_data"
    },
    {
     "data": {
      "text/html": [
       "<span style=\"color:blue\"> |-tuner/epochs: 25</span>"
      ],
      "text/plain": [
       "<IPython.core.display.HTML object>"
      ]
     },
     "metadata": {},
     "output_type": "display_data"
    },
    {
     "data": {
      "text/html": [
       "<span style=\"color:cyan\"> |-tuner/initial_epoch: 0</span>"
      ],
      "text/plain": [
       "<IPython.core.display.HTML object>"
      ]
     },
     "metadata": {},
     "output_type": "display_data"
    },
    {
     "data": {
      "text/html": [
       "<span style=\"color:blue\"> |-tuner/round: 0</span>"
      ],
      "text/plain": [
       "<IPython.core.display.HTML object>"
      ]
     },
     "metadata": {},
     "output_type": "display_data"
    },
    {
     "name": "stdout",
     "output_type": "stream",
     "text": [
      "INFO:tensorflow:Oracle triggered exit\n",
      "360.26893305778503\n"
     ]
    }
   ],
   "source": [
    "### SEARCHING FOR THE ANN LAYOUT THAT ACCOMPLISHES THE HYPERPARAMTER GOALS ###\n",
    "\n",
    "start_time = time.time()\n",
    "# tuner.search(X_scale, Y_scale, epochs=50, validation_split=0.15, callbacks=[stop_early], verbose=2)\n",
    "tuner.search(X_scale, Y_scale, validation_split=0.15, callbacks=[stop_early], verbose=2)\n",
    "searching_time = time.time() - start_time\n",
    "print(searching_time)"
   ]
  },
  {
   "cell_type": "code",
   "execution_count": 7,
   "metadata": {},
   "outputs": [
    {
     "name": "stdout",
     "output_type": "stream",
     "text": [
      "\n",
      "The hyperparameter search is complete. The optimal number of hidden layers are 2 and the optimal learning rate for the optimizer\n",
      "is 0.0001.\n",
      "\n",
      "Best epoch: 40\n",
      "Train on 14450 samples, validate on 2550 samples\n",
      "Epoch 1/40\n",
      "14450/14450 - 2s - loss: 0.1619 - mean_squared_error: 0.1619 - val_loss: 0.1257 - val_mean_squared_error: 0.1257\n",
      "Epoch 2/40\n",
      "14450/14450 - 1s - loss: 0.0957 - mean_squared_error: 0.0957 - val_loss: 0.0722 - val_mean_squared_error: 0.0722\n",
      "Epoch 3/40\n",
      "14450/14450 - 1s - loss: 0.0573 - mean_squared_error: 0.0573 - val_loss: 0.0438 - val_mean_squared_error: 0.0438\n",
      "Epoch 4/40\n",
      "14450/14450 - 1s - loss: 0.0337 - mean_squared_error: 0.0337 - val_loss: 0.0246 - val_mean_squared_error: 0.0246\n",
      "Epoch 5/40\n",
      "14450/14450 - 1s - loss: 0.0183 - mean_squared_error: 0.0183 - val_loss: 0.0130 - val_mean_squared_error: 0.0130\n",
      "Epoch 6/40\n",
      "14450/14450 - 1s - loss: 0.0095 - mean_squared_error: 0.0095 - val_loss: 0.0068 - val_mean_squared_error: 0.0068\n",
      "Epoch 7/40\n",
      "14450/14450 - 1s - loss: 0.0050 - mean_squared_error: 0.0050 - val_loss: 0.0036 - val_mean_squared_error: 0.0036\n",
      "Epoch 8/40\n",
      "14450/14450 - 1s - loss: 0.0028 - mean_squared_error: 0.0028 - val_loss: 0.0021 - val_mean_squared_error: 0.0021\n",
      "Epoch 9/40\n",
      "14450/14450 - 1s - loss: 0.0016 - mean_squared_error: 0.0016 - val_loss: 0.0012 - val_mean_squared_error: 0.0012\n",
      "Epoch 10/40\n",
      "14450/14450 - 1s - loss: 0.0010 - mean_squared_error: 0.0010 - val_loss: 8.1680e-04 - val_mean_squared_error: 8.1680e-04\n",
      "Epoch 11/40\n",
      "14450/14450 - 1s - loss: 7.1716e-04 - mean_squared_error: 7.1716e-04 - val_loss: 6.1252e-04 - val_mean_squared_error: 6.1252e-04\n",
      "Epoch 12/40\n",
      "14450/14450 - 1s - loss: 5.6378e-04 - mean_squared_error: 5.6378e-04 - val_loss: 4.9586e-04 - val_mean_squared_error: 4.9586e-04\n",
      "Epoch 13/40\n",
      "14450/14450 - 1s - loss: 4.7664e-04 - mean_squared_error: 4.7664e-04 - val_loss: 4.3842e-04 - val_mean_squared_error: 4.3842e-04\n",
      "Epoch 14/40\n",
      "14450/14450 - 1s - loss: 4.2411e-04 - mean_squared_error: 4.2411e-04 - val_loss: 3.9511e-04 - val_mean_squared_error: 3.9511e-04\n",
      "Epoch 15/40\n",
      "14450/14450 - 1s - loss: 3.8758e-04 - mean_squared_error: 3.8758e-04 - val_loss: 3.5886e-04 - val_mean_squared_error: 3.5886e-04\n",
      "Epoch 16/40\n",
      "14450/14450 - 1s - loss: 3.6543e-04 - mean_squared_error: 3.6543e-04 - val_loss: 3.3876e-04 - val_mean_squared_error: 3.3876e-04\n",
      "Epoch 17/40\n",
      "14450/14450 - 1s - loss: 3.4961e-04 - mean_squared_error: 3.4961e-04 - val_loss: 3.2704e-04 - val_mean_squared_error: 3.2704e-04\n",
      "Epoch 18/40\n",
      "14450/14450 - 1s - loss: 3.3882e-04 - mean_squared_error: 3.3882e-04 - val_loss: 3.1472e-04 - val_mean_squared_error: 3.1472e-04\n",
      "Epoch 19/40\n",
      "14450/14450 - 1s - loss: 3.2850e-04 - mean_squared_error: 3.2850e-04 - val_loss: 3.0578e-04 - val_mean_squared_error: 3.0578e-04\n",
      "Epoch 20/40\n",
      "14450/14450 - 1s - loss: 3.2100e-04 - mean_squared_error: 3.2100e-04 - val_loss: 3.1083e-04 - val_mean_squared_error: 3.1083e-04\n",
      "Epoch 21/40\n",
      "14450/14450 - 1s - loss: 3.1978e-04 - mean_squared_error: 3.1978e-04 - val_loss: 3.0382e-04 - val_mean_squared_error: 3.0382e-04\n",
      "Epoch 22/40\n",
      "14450/14450 - 1s - loss: 3.1136e-04 - mean_squared_error: 3.1136e-04 - val_loss: 2.9418e-04 - val_mean_squared_error: 2.9418e-04\n",
      "Epoch 23/40\n",
      "14450/14450 - 1s - loss: 3.1350e-04 - mean_squared_error: 3.1350e-04 - val_loss: 3.2550e-04 - val_mean_squared_error: 3.2550e-04\n",
      "Epoch 24/40\n",
      "14450/14450 - 1s - loss: 3.1064e-04 - mean_squared_error: 3.1064e-04 - val_loss: 2.9023e-04 - val_mean_squared_error: 2.9023e-04\n",
      "Epoch 25/40\n",
      "14450/14450 - 2s - loss: 3.0867e-04 - mean_squared_error: 3.0867e-04 - val_loss: 2.9525e-04 - val_mean_squared_error: 2.9525e-04\n",
      "Epoch 26/40\n",
      "14450/14450 - 1s - loss: 3.0516e-04 - mean_squared_error: 3.0516e-04 - val_loss: 2.9193e-04 - val_mean_squared_error: 2.9193e-04\n",
      "Epoch 27/40\n",
      "14450/14450 - 1s - loss: 3.0692e-04 - mean_squared_error: 3.0692e-04 - val_loss: 2.8835e-04 - val_mean_squared_error: 2.8835e-04\n",
      "Epoch 28/40\n",
      "14450/14450 - 1s - loss: 3.0633e-04 - mean_squared_error: 3.0633e-04 - val_loss: 2.9350e-04 - val_mean_squared_error: 2.9350e-04\n",
      "Epoch 29/40\n",
      "14450/14450 - 1s - loss: 3.0172e-04 - mean_squared_error: 3.0172e-04 - val_loss: 2.8991e-04 - val_mean_squared_error: 2.8991e-04\n",
      "Epoch 30/40\n",
      "14450/14450 - 1s - loss: 3.0025e-04 - mean_squared_error: 3.0025e-04 - val_loss: 2.8628e-04 - val_mean_squared_error: 2.8628e-04\n",
      "Epoch 31/40\n",
      "14450/14450 - 1s - loss: 3.0059e-04 - mean_squared_error: 3.0059e-04 - val_loss: 2.7909e-04 - val_mean_squared_error: 2.7909e-04\n",
      "Epoch 32/40\n",
      "14450/14450 - 1s - loss: 3.0175e-04 - mean_squared_error: 3.0175e-04 - val_loss: 2.8263e-04 - val_mean_squared_error: 2.8263e-04\n",
      "Epoch 33/40\n",
      "14450/14450 - 1s - loss: 2.9738e-04 - mean_squared_error: 2.9738e-04 - val_loss: 2.8346e-04 - val_mean_squared_error: 2.8346e-04\n",
      "Epoch 34/40\n",
      "14450/14450 - 1s - loss: 3.0280e-04 - mean_squared_error: 3.0280e-04 - val_loss: 2.8033e-04 - val_mean_squared_error: 2.8033e-04\n",
      "Epoch 35/40\n",
      "14450/14450 - 1s - loss: 3.0088e-04 - mean_squared_error: 3.0088e-04 - val_loss: 2.7902e-04 - val_mean_squared_error: 2.7902e-04\n",
      "Epoch 36/40\n",
      "14450/14450 - 1s - loss: 2.9971e-04 - mean_squared_error: 2.9971e-04 - val_loss: 2.8084e-04 - val_mean_squared_error: 2.8084e-04\n",
      "Epoch 37/40\n",
      "14450/14450 - 1s - loss: 2.9608e-04 - mean_squared_error: 2.9608e-04 - val_loss: 2.9243e-04 - val_mean_squared_error: 2.9243e-04\n",
      "Epoch 38/40\n",
      "14450/14450 - 1s - loss: 2.9990e-04 - mean_squared_error: 2.9990e-04 - val_loss: 3.0616e-04 - val_mean_squared_error: 3.0616e-04\n",
      "Epoch 39/40\n",
      "14450/14450 - 1s - loss: 2.9856e-04 - mean_squared_error: 2.9856e-04 - val_loss: 2.8290e-04 - val_mean_squared_error: 2.8290e-04\n",
      "Epoch 40/40\n",
      "14450/14450 - 1s - loss: 2.9586e-04 - mean_squared_error: 2.9586e-04 - val_loss: 2.7999e-04 - val_mean_squared_error: 2.7999e-04\n"
     ]
    }
   ],
   "source": [
    "# Build the model with the optimal hyperparameters and train it on the data for 25 epochs\n",
    "best_hps=tuner.get_best_hyperparameters(num_trials=1)[0]\n",
    "print(f\"\"\"\n",
    "The hyperparameter search is complete. The optimal number of hidden layers are {best_hps.get('n_layers')} and the optimal learning rate for the optimizer\n",
    "is {best_hps.get('learning_rate')}.\n",
    "\"\"\")\n",
    "model = tuner.hypermodel.build(best_hps)\n",
    "history = model.fit(X_scale, Y_scale, epochs=40, shuffle=True, validation_split=0.25, verbose=0)\n",
    "\n",
    "mean_squared_error_per_epoch = history.history['mean_squared_error']\n",
    "best_epoch = mean_squared_error_per_epoch.index(min(mean_squared_error_per_epoch)) + 1\n",
    "print('Best epoch: %d' % (best_epoch,))\n",
    "hypermodel = tuner.hypermodel.build(best_hps)\n",
    "\n",
    "# Retrain the model\n",
    "hypermodel_hist = hypermodel.fit(X_scale, Y_scale, epochs=best_epoch, shuffle=True, validation_split=0.15, verbose=2)"
   ]
  },
  {
   "cell_type": "code",
   "execution_count": 8,
   "metadata": {},
   "outputs": [
    {
     "name": "stdout",
     "output_type": "stream",
     "text": [
      "3000/1 [================================================================================================================================================================================================================================================================================================================================================================================================================================================================================================================================================================================================================================================================================================================================================================================================================================================================================================================================================================================================================================================================================================================================================================================================================================================================================================================================================================================================================================================================================================================================================================================================================================================================================================================================================================================================================================================================================================================================================================================================================================================================================================================================================================================================================================================================================================================================================================================================================================================================================================================================================================================================================================================================================================================================================================================================================================================================================================================================================================================================================================================================================================================================================================================================================================================================================================================================================================================================================================================================================================================================================================================================================================================================================================================================================================================================================================================================================================================================================================================================================================================================================================================================================================================================================================================================================================================================================================================================================================================================================================================================================================================================================================================================================================================================================================================================================================================================================================================================================================================================================================================================================================================================================================================================================================================================================================================================================================================================================================================================================================================================================================================================================================================================================================================================================================================================================================================================================================================================================================================================================================================================================================================================================================================================================================================================================================================================================================================================================================================================================================================================================================================================================================================================================================================================================================================================================================================================================================================================================================================================================================================================================================================================================================================================================================================================================================================================================================================================================================================================================================================================================================================================================================================================================================================================================================================================================================================================================================================================================================================================================================================================================================================================================================================================================================================================================================================================================================================================================================================================================================================================================================================================================================================================================================================================================================================================================================================================================================================================================================================================================================================================================================================================================================================================================================================================================================================================================================================================================================================================================================================================================================================================================================================================================================================================================================================================================================================================================================================================================================================================================================================================================================================================================================================================================================================================================================================================================================================================================================================================================================================================================================================================================================================================================================================================================================================================================================================================================================================================================================================================================================================================================================================================================================================================================================================================================================================================================================================================================================================================================================================================================================================================================================================================================================================================================================================================================================================================================================================================================================================================================================================================================================================================================================================================================================================================================================================================================================================================================================================================================================================================================================================================================================================================================================================================================================================================================================================================================================================================================================================================================================================================================================================================================================================================================================================================================================================================================================================================================================================================================================================================================================================================================================================================================================================================================================================================================================================================================================================================================================================================================================================================================================================================================================================================================================================================================================================================================================================================================================================================================================================================================================================================================================================================================================================================================================================================================================================================================================================================================================================================================================================================================================================================================================================================================================================================================================================================================================================================================================================================================================================================================================================================================================================================================================================================================================================================================================================================================================================================================================================================================================================================================================================================================================================================================================================================================================================================================================================================================================================================================================================================================================================================================================================================================================================================================================================================================================================================================================================================================================================================================================================================================================================================================================================================================================================================================================================================================================================================================================================================================================================================================================================================================================================================================================================================================================================================================================================================================================================================================================================================================================================================================================================================================================================================================================================================================================================================================================================================================================================================================================================================================================================================================================================================================================================================================================================================================================================================================================================================================================================================================================================================================================================================================================================================================================================================================================================================================================================================================================================================================================================================================================================================================================================================================================================================================================================================================================================================================================================================================================================================================================================================================================================================================================================================================================================================================================================================================================================================================================================================================================================================================================================================================================================================================================================================================================================================================================================================================================================================================================================================================================================================================================================================================================================================================================================================================================================================================================================================================================================================================================================================================================================================================================================================================================================================================================================================================================================================================================================================================================================================================================================================================================================================================================================================================================================================================================================================================================================================================================================================================================================================================================================================================================================================================================================================================================================================================================================================================================================================================================================================================================================================================================================================================================================================================================================================================================================================================================================================================================================================================================================================================================================================================================================================================================================================================================================================================================================================================================================================================================================================================================================================================================================================================================================================================================================================================================================================================================================================================================================================================================================================================================================================================================================================================================================================================================================================================================================================================================================================================================================================================================================================================================================================================================================================================================================================================================================================================================================================================================================================================================================================================================================================================================================================================================================================================================================================================================================================================================================================================================================================================================================================================================================================================================================================================================================================================================================================================================================================================================================================================================================================================================================================================================================================================================================================================================================================================================================================================================================================================================================================================================================================================================================================================================================================================================================================================================================================================================================================================================================================================================================================================================================================================================================================================================================================================================================================================================================================================================================================================================================================================================================================================================================================================================================================================================================================================================================================================================================================================================================================================================================================================================================================================================================================================================================================================================================================================================================================================================================================================================================================================================================================================================================================================================================================================================================================================================================================================================================================================================================================================================================================================================================================================================================================================================================================================================================================================================================================================================================================================================================================================================================================================================================================================================================================================================================================================================================================================================================================================================================================================================================================================================================================================================================================================================================================================================================================================================================================================================================================================================================================================================================================================================================================================================================================================================================================================================================================================================================================================================================================================================================================================================================================================================================================================================================================================================================================================================================================================================================================================================================================================================================================================================================================================================================================================================================================================================================================================================================================================================================================================================================================================================================================================================================================================================================================================================================================================================================================================================================================================================================================================================================================================================================================================================================================================================================================================================================================================================================================================================================================================================================================================================================================================================================================================================================================================================================================================================================================================================================================================================================================================================================================================================================================================================================================================================================================================================================================================================================================================================================================================================================================================================================================================================================================================================================================================================================================================================================================================================================================================================================================================================================================================================================================================================================================================================================================================================================================================================================================================================================================================================================================================================================================================================================================================================================================================================================================================================================================================================================================================================================================================================================================================================================================================================================================================================================================================================================================================================================================================================================================================================================================================================================================================================================================================================================================================================================================================================================================================================================================================================================================================================================================================================================================================================================================================================================================================================================================================================================================================================================================================================================================================================================================================================================================================================================================================================================================================================================================================================================================================================================================================================================================================================================================================================================================================================================================================================================================================================================================================================================================================================================================================================================================================================================================================================================================================================================================================================================================================================================================================================================================================================================================================================================================================================================================================================================================================================================================================================================================================================================================================================================================================================================================================================================================================================================================================================================================================================================================================================================================================================================================================================================================================================================================================================================================================================================================================================================================================================================================================================================================================================================================================================================================================================================================================================================================================================================================================================================================================================================================================================================================================================================================================================================================================================================================================================================================================================================================================================================================================================================================================================================================================================================================================================================================================================================================================================================================================================================================================================================================================================================================================================================================================================================================================================================================================================================================================================================================================================================================================================================================================================================================================================================================================================================================================================================================================================================================================================================================================================================================================================================================================================================================================================================================================================================================================================================================================================================================================================================================================================================================================================================================================================================================================================================================================================================================================================================================================================================================================================================================================================================================================================================================================================================================================================================================================================================================================================================================================================================================================================================================================================================================================================================================================================================================================================================================================================================================================================================================================================================================================================================================================================================================================================================================================================================================================================================================================================================================================================================================================================================================================================================================================================================================================================================================================================================================================================================================================================================================================================================================================================================================================================================================================================================================================================================================================================================================================================================================================================================================================================================================================================================================================================================================================================================================================================================================================================================================================================================================================================================================================================================================================================================================================================================================================================================================================================================================================================================================================================================================================================================================================================================================================================================================================================================================================================================================================================================================================================================================================================================================================================================================================================================================================================================================================================================================================================================================================================================================================================================================================================================================================================================================================================================================================================================================================================================================================================================================================================================================================================================================================================================================================================================================================================================================================================================================================================================================================================================================================================================================================================================================================================================================================================================================================================================================================================================================================================================================================================================================================================================================================================================================================================================================================================================================================================================================================================================================================================================================================================================================================================================================================================================================================================================================================================================================================================================================================================================================================================================================================================================================================================================================================================================================================================================================================================================================================================================================================================================================================================================================================================================================================================================================================================================================================================================================================================================================================================================================================================================================================================================================================================================================================================================================================================================================================================================================================================================================================================================================================================================================================================================================================================================================================================================================================================================================================================================================================================================================================================================================================================================================================================================================================================================================================================================================================================================================================================================================================================================================================================================================================================================================================================================================================================================================================================================================================================================================================================================================================================================================================================================================================================================================================================================================================================================================================================================================================================================================================================================================================================================================================================================================================================================================================================================================================================================================================================================================================================================================================================================================================================================================================================================================================================================================================================================================================================================================================================================================================================================================================================================================================================================================================================================================================================================================================================================================================================================================================================================================================================================================================================================================================================================================================================================================================================================================================================================================================================================================================================================================================================================================================================================================================================================================================================================================================================================================================================================================================================================================================================================================================================================================================================================================================================================================================================================================================================================================================================================================================================================================================================================================================================================================================================================================================================================================================================================================================================================================================================================================================================================================================================================================================================================================================================================================================================================================================================================================================================================================================================================================================================================================================================================================================================================================================================================================================================================================================================================================================================================================================================================================================================================================================================================================================================================================================================================================================================================================================================================================================================================================================================================================================================================================================================================================================================================================================================================================================================================================================================================================================================================================================================================================================================================================================================================================================================================================================================================================================================================================================================================================================================================================================================================================================================================================================================================================================================================================================================================================================================================================================================================================================================================================================================================================================================================================================================================================================================================================================================================================================================================================================================================================================================================================================================================================================================================================================================================================================================================================================================================================================================================================================================================================================================================================================================================================================================================================================================================================================================================================================================================================================================================================================================================================================================================================================================================================================================================================================================================================================================================================================================================================================================================================================================================================================================================================================================================================================================================================================================================================================================================================================================================================================================================================================================================================================================================================================================================================================================================================================================================================================================================================================================================================================================================================================================================================================================================================================================================================================================================================================================================================================================================================================================================================================================================================================================================================================================================================================================================================================================================================================================================================================================================================================================================================================================================================================================================================================================================================================================================================================================================================================================================================================================================================================================================================================================================================================================================================================================================================================================================================================================================================================================================================================================================================================================================================================================================================================================================================================================================================================================================================================================================================================================================================================================================================================================================================================================================================================================================================================================================================================================================================================================================================================================================================================================================================================================================================================================================================================================================================================================================================================================================================================================================================================================================================================================================================================================================================================================================================================================================================================================================================================================================================================================================================================================================================================================================================================================================================================================================================================================================================================================================================================================================================================================================================================================================================================================================================================================================================================================================================================================================================================================================================================================================================================================================================================================================================================================================================================================================================================================================================================================================================================================================================================================================================================================================================================================================================================================================================================================================================================================================================================================================================================================================================================================================================================================================================================================================================================================================================================================================================================================================================================================================================================================================================================================================================================================================================================================================================================================================================================================================================================================================================================================================================================================================================================================================================================================================================================================================================================================================================================================================================================================================================================================================================================================================================================================================================================================================================================================================================================================================================================================================================================================================================================================================================================================================================================================================================================================================================================================================================================================================================================================================================================================================================================================================================================================================================================================================================================================================================================================================================================================================================================================================================================================================================================================================================================================================================================================================================================================================================================================================================================================================================================================================================================================================================================================================================================================================================================================================================================================================================================================================================================================================================================================================================================================================================================================================================================================================================================================================================================================================================================================================================================================================================================================================================================================================================================================================================================================================================================================================================================================================================================================================================================================================================================================================================================================================================================================================================================================================================================================================================================================================================================================================================================================================================================================================================================================================================================================================================================================================================================================================================================================================================================================================================================================================================================================================================================================================================================================================================================================================================================================================================================================================================================================================================================================================================================================================================================================================================================================================================================================================================================================================================================================================================================================================================================================================================================================================================================================================================================================================================================================================================================================================================================================================================================================================================================================================================================================================================================================================================================================================================================================================================================================================================================================================================================================================================================================================================================================================================================================================================================================================================================================================================================================================================================================================================================================================================================================================================================================================================================================================================================================================================================================================================================================================================================================================================================================================================================================================================================================================================================================================================================================================================================================================================================================================================================================================================================================================================================================================================================================================================================================================================================================================================================================================================================================================================================================================================================================================================================================================================================================================================================================================================================================================================================================================================================================================================================================================================================================================================================================================================================================================================================================================================================================================================================================================================================================================================================================================================================================================================================================================================================================================================================================================================================================================================================================================================================================================================================================================================================================================================================================================================================================================================================================================================================================================================================================================================================================================================================================================================================================================================================================================================================================================================================================================================================================================================================================================================================================================================================================================================================================================================================================================================================================================================================================================================================================================================================================================================================================================================================================================================================================================================================================================================================================================================================================================================================================================================================================================================================================================================================================================================================================================================================================================================================================================================================================================================================================================================================================================================================================================================================================================================================================================================================================================================================================================================================================================================================================================================================================================================================================================================================================================================================================================================================================================================================================================================================================================================================================================================================================================================================================================================================================================================================================================================================================================================================================================================================================================================================================================================================================================================================================================================================================================================================================================================================================================================================================================================================================================================================================================================================================================================================================================================================================================================================================================================================================================================================================================================================================================================================================================================================================================================================================================================================================================================================================================================================================================================================================================================================================================================================================================================================================================================================================================================================================================================================================================================================================================================================================================================================================================================================================================================================================================================================================================================================================================================================================================================================================================================================================================================================================================================================================================================================================================================================================================================================================================================================================================================================================================================================================================================================================================================================================================================================================================================================================================================================================================================================================================================================================================================================================================================================================================================================================================================================================================================================================================================================================================================================================================================================================================================================================================================================================================================================================================================================================================================================================================================================================================================================================================================================================================================================================================================================================================================================================================================================================================================================================================================================================================================================================================================================================================================================================================================================================================================================================================================================================================================================================================================================================================================================================================================================================================================================================================================================================================================================================================================================================================================================================================================================================================================================================================================================================================================================================================================================================================================================================================================================================================================================================================================================================================================================================================================================================================================================================================================================================================================================================================================================================================================================================================================================================================================================================================================================================================================================================================================================================================================================================================================================================================================================================================================================================================================================================================================================================================================================]"
     ]
    },
    {
     "name": "stdout",
     "output_type": "stream",
     "text": [
      " - 0s 43us/sample - loss: 4.2000e-04 - mean_squared_error: 2.7903e-04\n",
      "0.0002790345\n"
     ]
    }
   ],
   "source": [
    "# file_path = '/Users/jackkelly/Desktop/Building_Model/Data/40_channels_data_10000.csv'\n",
    "# X_test, Y_test = processing_data(N_channels, file_path)\n",
    "eval_result = hypermodel.evaluate(X_test, Y_test)[1]\n",
    "print(eval_result)"
   ]
  },
  {
   "cell_type": "code",
   "execution_count": 9,
   "metadata": {},
   "outputs": [
    {
     "data": {
      "image/png": "[encoded data removed]",
      "text/plain": [
       "<Figure size 432x288 with 1 Axes>"
      ]
     },
     "metadata": {
      "needs_background": "light"
     },
     "output_type": "display_data"
    }
   ],
   "source": [
    "def visualising_data(hist, name):\n",
    "    plt.title('Tuned ANN')\n",
    "    plt.plot(hist.history['mean_squared_error'], label='Train')\n",
    "    plt.plot(hist.history['val_mean_squared_error'], label='Validation')\n",
    "    plt.ylabel('MSE')\n",
    "    plt.xlabel('Epoch')\n",
    "    plt.legend()\n",
    "    plt.savefig(name)\n",
    "    plt.show()\n",
    "visualising_data(hypermodel_hist, '/Users/jackkelly/Desktop/Building_Model/Figures/hypermodel_results.png')"
   ]
  },
  {
   "cell_type": "code",
   "execution_count": 10,
   "metadata": {},
   "outputs": [
    {
     "name": "stdout",
     "output_type": "stream",
     "text": [
      "Model: \"sequential\"\n",
      "_________________________________________________________________\n",
      "Layer (type)                 Output Shape              Param #   \n",
      "=================================================================\n",
      "dense (Dense)                (None, 114)               4788      \n",
      "_________________________________________________________________\n",
      "dense_1 (Dense)              (None, 86)                9890      \n",
      "_________________________________________________________________\n",
      "dense_2 (Dense)              (None, 40)                3480      \n",
      "=================================================================\n",
      "Total params: 18,158\n",
      "Trainable params: 18,158\n",
      "Non-trainable params: 0\n",
      "_________________________________________________________________\n"
     ]
    }
   ],
   "source": [
    "# shows weights of the ANN\n",
    "# hypermodel.weights\n",
    "hypermodel.summary()\n",
    "# print(hypermodel.metrics_names)"
   ]
  },
  {
   "cell_type": "code",
   "execution_count": 11,
   "metadata": {},
   "outputs": [],
   "source": [
    "# INSERT SOMETHING THAT CALCUALTES ALL MEAN SQUARED ERRORS AND PLOTS ON CDF GRAPH"
   ]
  },
  {
   "cell_type": "code",
   "execution_count": 12,
   "metadata": {},
   "outputs": [],
   "source": [
    "# best_hps.__dict__.keys()\n",
    "# best_hps.__dict__['values']\n",
    "hypermodel.save('/Users/jackkelly/Desktop/Building_Model/Tuned_' + str(N_channels) + '_channels_ANN_model_v2.h5')"
   ]
  },
  {
   "cell_type": "markdown",
   "metadata": {},
   "source": [
    "# Transfer Learning"
   ]
  },
  {
   "cell_type": "code",
   "execution_count": 13,
   "metadata": {},
   "outputs": [],
   "source": [
    "def transfer_learning(model_path):\n",
    "    hypermodel = keras.models.load_model(model_path)\n",
    "    hypermodel.summary()\n",
    "    model = tf.keras.Sequential()\n",
    "    for layer in hypermodel.layers[:-1]: # go through until last layer\n",
    "        layer.trainable=False\n",
    "        model.add(layer)\n",
    "    model.add(keras.layers.Dense(40, activation='sigmoid'))\n",
    "    model.summary()\n",
    "\n",
    "    model.compile(optimizer='adam', loss=keras.losses.MeanSquaredError(), metrics=['mean_squared_error'])\n",
    "    return model"
   ]
  },
  {
   "cell_type": "code",
   "execution_count": 14,
   "metadata": {},
   "outputs": [
    {
     "name": "stdout",
     "output_type": "stream",
     "text": [
      "Model: \"sequential\"\n",
      "_________________________________________________________________\n",
      "Layer (type)                 Output Shape              Param #   \n",
      "=================================================================\n",
      "dense (Dense)                (None, 114)               4788      \n",
      "_________________________________________________________________\n",
      "dense_1 (Dense)              (None, 86)                9890      \n",
      "_________________________________________________________________\n",
      "dense_2 (Dense)              (None, 40)                3480      \n",
      "=================================================================\n",
      "Total params: 18,158\n",
      "Trainable params: 18,158\n",
      "Non-trainable params: 0\n",
      "_________________________________________________________________\n",
      "Model: \"sequential_1\"\n",
      "_________________________________________________________________\n",
      "Layer (type)                 Output Shape              Param #   \n",
      "=================================================================\n",
      "dense (Dense)                (None, 114)               4788      \n",
      "_________________________________________________________________\n",
      "dense_1 (Dense)              (None, 86)                9890      \n",
      "_________________________________________________________________\n",
      "dense_3 (Dense)              (None, 40)                3480      \n",
      "=================================================================\n",
      "Total params: 18,158\n",
      "Trainable params: 3,480\n",
      "Non-trainable params: 14,678\n",
      "_________________________________________________________________\n"
     ]
    }
   ],
   "source": [
    "model = transfer_learning('Tuned_' + str(N_channels) + '_channels_ANN_model_v2.h5')\n",
    "N_channels = 40\n",
    "file_path = '/Users/jackkelly/Desktop/Building_Model/Data/40_channels_data_variedlengths_10000.csv'\n",
    "X_scale, Y_scale = processing_data(N_channels, file_path)\n",
    "X_train, X_val_and_test, Y_train, Y_val_and_test = train_test_split(X_scale, Y_scale, test_size=0.3)\n",
    "X_val, X_test, Y_val, Y_test = train_test_split(X_val_and_test, Y_val_and_test, test_size=0.5)"
   ]
  },
  {
   "cell_type": "code",
   "execution_count": 15,
   "metadata": {},
   "outputs": [
    {
     "name": "stdout",
     "output_type": "stream",
     "text": [
      "24.3152859210968\n",
      "[0.00012274991200926402, 0.00012274993]\n",
      "[0.0006825056145898998, 0.00068250566]\n"
     ]
    }
   ],
   "source": [
    "start_time = time.time()\n",
    "# new_hist = model.fit(X_train, Y_train, validation_data=(X_val, Y_val), epochs=40, shuffle=True, verbose=1, batch_size=N_channels+1)\n",
    "new_hist = model.fit(X_train, Y_train, validation_data=(X_val, Y_val), epochs=40, shuffle=True, verbose=0)\n",
    "training_time = time.time() - start_time\n",
    "print(training_time)\n",
    "# evaluating transfer-learned model\n",
    "eval_result = model.evaluate(X_test, Y_test, verbose=0)\n",
    "# evaluating OLD model with new data\n",
    "hypermodel_result = hypermodel.evaluate(X_test, Y_test, verbose=0)\n",
    "print(eval_result)\n",
    "print(hypermodel_result)"
   ]
  },
  {
   "cell_type": "code",
   "execution_count": 16,
   "metadata": {},
   "outputs": [
    {
     "name": "stdout",
     "output_type": "stream",
     "text": [
      "20.766396045684814\n",
      "[0.00010581751441350206, 0.00010581752]\n",
      "[0.0006379291953829428, 0.0006379293]\n"
     ]
    }
   ],
   "source": [
    "N_channels = 40\n",
    "file_path = '/Users/jackkelly/Desktop/Building_Model/Data/40_channels_data_variedlengths_EDFAs_10000.csv'\n",
    "X_scale, Y_scale = processing_data(N_channels, file_path)\n",
    "X_train, X_val_and_test, Y_train, Y_val_and_test = train_test_split(X_scale, Y_scale, test_size=0.3)\n",
    "X_val, X_test, Y_val, Y_test = train_test_split(X_val_and_test, Y_val_and_test, test_size=0.5)\n",
    "start_time = time.time()\n",
    "new_hist = model.fit(X_train, Y_train, validation_data=(X_val, Y_val), epochs=40, shuffle=True, verbose=0, batch_size=N_channels+1)\n",
    "training_time = time.time() - start_time\n",
    "print(training_time)\n",
    "# evaluating transfer-learned model\n",
    "value_new = model.evaluate(X_test, Y_test, verbose=0)\n",
    "# evaluating new model\n",
    "value_old = hypermodel.evaluate(X_test, Y_test, verbose=0)\n",
    "print(value_new)\n",
    "print(value_old)"
   ]
  }
 ],
 "metadata": {
  "kernelspec": {
   "display_name": "Python 3",
   "language": "python",
   "name": "python3"
  },
  "language_info": {
   "codemirror_mode": {
    "name": "ipython",
    "version": 3
   },
   "file_extension": ".py",
   "mimetype": "text/x-python",
   "name": "python",
   "nbconvert_exporter": "python",
   "pygments_lexer": "ipython3",
   "version": "3.6.10"
  }
 },
 "nbformat": 4,
 "nbformat_minor": 4
}
