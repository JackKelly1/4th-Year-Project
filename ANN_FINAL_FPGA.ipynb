{
 "cells": [
  {
   "cell_type": "code",
   "execution_count": 1,
   "metadata": {},
   "outputs": [
    {
     "name": "stderr",
     "output_type": "stream",
     "text": [
      "Using TensorFlow backend.\n"
     ]
    }
   ],
   "source": [
    "import tensorflow as tf\n",
    "import pandas as pd\n",
    "from sklearn import preprocessing\n",
    "from sklearn.model_selection import train_test_split\n",
    "from sklearn.utils import shuffle\n",
    "from sklearn.metrics import mean_squared_error\n",
    "from keras.models import Sequential\n",
    "from keras.layers import Dense\n",
    "from keras.layers import Dropout\n",
    "from keras import regularizers\n",
    "from tensorflow import keras\n",
    "import matplotlib.pyplot as plt\n",
    "import numpy as np\n",
    "import time\n",
    "import h5py\n",
    "import kerastuner as kt\n",
    "import tempfile\n",
    "import os\n",
    "%load_ext tensorboard"
   ]
  },
  {
   "cell_type": "code",
   "execution_count": 2,
   "metadata": {},
   "outputs": [],
   "source": [
    "# Reproducibility\n",
    "seed = 9 # arbitrary number\n",
    "np.random.seed(seed=seed)\n",
    "tf.random.set_seed(seed=seed)"
   ]
  },
  {
   "cell_type": "code",
   "execution_count": 3,
   "metadata": {},
   "outputs": [],
   "source": [
    "### IMPORT, RAMDOMIZE AND SCALE DATA ###\n",
    "def processing_data(N_channels, file_path):\n",
    "    df = pd.read_csv(file_path)\n",
    "    # dataset\n",
    "    dataset = df.values\n",
    "    # input power and channels statuses\n",
    "    X = dataset[:,0:N_channels+1]\n",
    "    # channel SNRs\n",
    "    Y = dataset[:,N_channels+1:2*N_channels+1]\n",
    "    # shuffle necessary because while shuffle=True in .fit() shuffles the data, it splits into different datasets first\n",
    "    X, Y = shuffle(X, Y)\n",
    "    # scaling between 0 and 1\n",
    "    min_max_scaler = preprocessing.MinMaxScaler()\n",
    "    X = min_max_scaler.fit_transform(X)\n",
    "    Y = min_max_scaler.fit_transform(Y)\n",
    "    return X, Y"
   ]
  },
  {
   "cell_type": "code",
   "execution_count": 4,
   "metadata": {},
   "outputs": [],
   "source": [
    "### RECEIVE 10,000 PIECES OF DATA ###\n",
    "\n",
    "N_channels = 40\n",
    "file_path = '/Users/jackkelly/Desktop/Building_Model/Data_NEW/10000_initial_data.csv'\n",
    "X_scale, Y_scale = processing_data(N_channels, file_path)\n",
    "# X_scale, X_test, Y_scale, Y_test = train_test_split(X_scale, Y_scale, test_size=0.15)"
   ]
  },
  {
   "cell_type": "code",
   "execution_count": 5,
   "metadata": {},
   "outputs": [],
   "source": [
    "### FUNCTION TAKES HYPERPARAMETERS AND RETURNS COMPILED MODEL ###\n",
    "\n",
    "def model_builder(hp):\n",
    "    model = keras.Sequential()\n",
    "    model.add(keras.layers.InputLayer(input_shape=N_channels+1))\n",
    "#     hp_regularizer = hp.Choice('regularizer_penalty', values=[1e-4, 1e-5, 1e-6])\n",
    "#     for i in range(hp.Int('n_layers', 1, 2)):\n",
    "    model.add(keras.layers.Dense(hp.Int(f'hidden_units', min_value=20, max_value=200, step=2), kernel_regularizer=tf.keras.regularizers.l2(1e-6)))\n",
    "#     model.add(keras.layers.Dense(hp.Int('hidden_units', min_value=10, max_value=320, step=1), kernel_regularizer=tf.keras.regularizers.l2(hp_regularizer)))\n",
    "#         model.add(keras.layers.Dense(hp.Int(f'hidden_{i}_units', min_value=10, max_value=320, step=1)))\n",
    "#     SHOULD DROPOUT BE INCLUDED??\n",
    "    model.add(keras.layers.Dropout(0.1))\n",
    "    model.add(keras.layers.Dense(N_channels, activation='sigmoid', kernel_regularizer=tf.keras.regularizers.l2(1e-6)))\n",
    "#     model.add(keras.layers.Dense(N_channels, activation='sigmoid', kernel_regularizer=tf.keras.regularizers.l2(hp_regularizer)))\n",
    "    # Tune the learning rate for the optimizer\n",
    "    # Choose an optimal value from 0.01, 0.001, or 0.0001\n",
    "    hp_learning_rate = hp.Choice('learning_rate', values=[1e-2, 1e-3, 1e-4])\n",
    "    model.compile(optimizer=keras.optimizers.Adam(learning_rate=hp_learning_rate),\n",
    "                    loss=keras.losses.MeanSquaredError(), metrics=['mean_squared_error', 'mean_absolute_error'])\n",
    "    return model"
   ]
  },
  {
   "cell_type": "code",
   "execution_count": 6,
   "metadata": {},
   "outputs": [],
   "source": [
    "### CREATE HYPERBAND TUNER ###\n",
    "\n",
    "# The maximum number of epochs to train one model. It is recommended to \n",
    "# set this to a value slightly higher than the expected time \n",
    "# to convergence for your largest Model, and to use early stopping \n",
    "# during training\n",
    "tuner = kt.Hyperband(model_builder,\n",
    "                     objective=kt.Objective('val_mean_squared_error', 'min'),\n",
    "                     max_epochs=50,\n",
    "                     factor=3,\n",
    "                     directory='/Users/jackkelly/Desktop/Building_Model/',\n",
    "                     project_name='intro_to_kt_layers_fpga',\n",
    "                     overwrite=True,\n",
    "                     seed=8)\n",
    "# stop_early = tf.keras.callbacks.EarlyStopping(monitor='val_loss', patience=5)\n",
    "stop_early = tf.keras.callbacks.EarlyStopping(monitor='val_mean_squared_error', patience=5)"
   ]
  },
  {
   "cell_type": "code",
   "execution_count": 7,
   "metadata": {},
   "outputs": [
    {
     "name": "stdout",
     "output_type": "stream",
     "text": [
      "Train on 8000 samples, validate on 2000 samples\n",
      "Epoch 1/2\n",
      "8000/8000 - 2s - loss: 0.1483 - mean_squared_error: 0.1482 - mean_absolute_error: 0.3504 - val_loss: 0.0851 - val_mean_squared_error: 0.0849 - val_mean_absolute_error: 0.2596\n",
      "Epoch 2/2\n",
      "8000/8000 - 1s - loss: 0.0592 - mean_squared_error: 0.0590 - mean_absolute_error: 0.2048 - val_loss: 0.0345 - val_mean_squared_error: 0.0343 - val_mean_absolute_error: 0.1562\n"
     ]
    },
    {
     "data": {
      "text/html": [
       "<span style=\"color:#4527A0\"><h1 style=\"font-size:18px\">Trial complete</h1></span>"
      ],
      "text/plain": [
       "<IPython.core.display.HTML object>"
      ]
     },
     "metadata": {},
     "output_type": "display_data"
    },
    {
     "data": {
      "text/html": [
       "<span style=\"color:#4527A0\"><h1 style=\"font-size:18px\">Trial summary</h1></span>"
      ],
      "text/plain": [
       "<IPython.core.display.HTML object>"
      ]
     },
     "metadata": {},
     "output_type": "display_data"
    },
    {
     "data": {
      "text/html": [
       "<span style=\"color:cyan\"> |-Trial ID: 2117c7f66ddfe715350fc814fa20392a</span>"
      ],
      "text/plain": [
       "<IPython.core.display.HTML object>"
      ]
     },
     "metadata": {},
     "output_type": "display_data"
    },
    {
     "data": {
      "text/html": [
       "<span style=\"color:cyan\"> |-Score: 0.03427489846944809</span>"
      ],
      "text/plain": [
       "<IPython.core.display.HTML object>"
      ]
     },
     "metadata": {},
     "output_type": "display_data"
    },
    {
     "data": {
      "text/html": [
       "<span style=\"color:cyan\"> |-Best step: 0</span>"
      ],
      "text/plain": [
       "<IPython.core.display.HTML object>"
      ]
     },
     "metadata": {},
     "output_type": "display_data"
    },
    {
     "data": {
      "text/html": [
       "<span style=\"color:#7E57C2\"><h2 style=\"font-size:16px\">Hyperparameters:</h2></span>"
      ],
      "text/plain": [
       "<IPython.core.display.HTML object>"
      ]
     },
     "metadata": {},
     "output_type": "display_data"
    },
    {
     "data": {
      "text/html": [
       "<span style=\"color:cyan\"> |-hidden_units: 60</span>"
      ],
      "text/plain": [
       "<IPython.core.display.HTML object>"
      ]
     },
     "metadata": {},
     "output_type": "display_data"
    },
    {
     "data": {
      "text/html": [
       "<span style=\"color:blue\"> |-learning_rate: 0.001</span>"
      ],
      "text/plain": [
       "<IPython.core.display.HTML object>"
      ]
     },
     "metadata": {},
     "output_type": "display_data"
    },
    {
     "data": {
      "text/html": [
       "<span style=\"color:cyan\"> |-tuner/bracket: 3</span>"
      ],
      "text/plain": [
       "<IPython.core.display.HTML object>"
      ]
     },
     "metadata": {},
     "output_type": "display_data"
    },
    {
     "data": {
      "text/html": [
       "<span style=\"color:blue\"> |-tuner/epochs: 2</span>"
      ],
      "text/plain": [
       "<IPython.core.display.HTML object>"
      ]
     },
     "metadata": {},
     "output_type": "display_data"
    },
    {
     "data": {
      "text/html": [
       "<span style=\"color:cyan\"> |-tuner/initial_epoch: 0</span>"
      ],
      "text/plain": [
       "<IPython.core.display.HTML object>"
      ]
     },
     "metadata": {},
     "output_type": "display_data"
    },
    {
     "data": {
      "text/html": [
       "<span style=\"color:blue\"> |-tuner/round: 0</span>"
      ],
      "text/plain": [
       "<IPython.core.display.HTML object>"
      ]
     },
     "metadata": {},
     "output_type": "display_data"
    },
    {
     "name": "stdout",
     "output_type": "stream",
     "text": [
      "Train on 8000 samples, validate on 2000 samples\n",
      "Epoch 1/2\n",
      "8000/8000 - 2s - loss: 0.1170 - mean_squared_error: 0.1168 - mean_absolute_error: 0.3055 - val_loss: 0.0457 - val_mean_squared_error: 0.0455 - val_mean_absolute_error: 0.1870\n",
      "Epoch 2/2\n",
      "8000/8000 - 1s - loss: 0.0253 - mean_squared_error: 0.0250 - mean_absolute_error: 0.1333 - val_loss: 0.0103 - val_mean_squared_error: 0.0099 - val_mean_absolute_error: 0.0878\n"
     ]
    },
    {
     "data": {
      "text/html": [
       "<span style=\"color:#4527A0\"><h1 style=\"font-size:18px\">Trial complete</h1></span>"
      ],
      "text/plain": [
       "<IPython.core.display.HTML object>"
      ]
     },
     "metadata": {},
     "output_type": "display_data"
    },
    {
     "data": {
      "text/html": [
       "<span style=\"color:#4527A0\"><h1 style=\"font-size:18px\">Trial summary</h1></span>"
      ],
      "text/plain": [
       "<IPython.core.display.HTML object>"
      ]
     },
     "metadata": {},
     "output_type": "display_data"
    },
    {
     "data": {
      "text/html": [
       "<span style=\"color:cyan\"> |-Trial ID: b817a521b4b5cb534b8f1478f4a22e67</span>"
      ],
      "text/plain": [
       "<IPython.core.display.HTML object>"
      ]
     },
     "metadata": {},
     "output_type": "display_data"
    },
    {
     "data": {
      "text/html": [
       "<span style=\"color:cyan\"> |-Score: 0.009936517104506493</span>"
      ],
      "text/plain": [
       "<IPython.core.display.HTML object>"
      ]
     },
     "metadata": {},
     "output_type": "display_data"
    },
    {
     "data": {
      "text/html": [
       "<span style=\"color:cyan\"> |-Best step: 0</span>"
      ],
      "text/plain": [
       "<IPython.core.display.HTML object>"
      ]
     },
     "metadata": {},
     "output_type": "display_data"
    },
    {
     "data": {
      "text/html": [
       "<span style=\"color:#7E57C2\"><h2 style=\"font-size:16px\">Hyperparameters:</h2></span>"
      ],
      "text/plain": [
       "<IPython.core.display.HTML object>"
      ]
     },
     "metadata": {},
     "output_type": "display_data"
    },
    {
     "data": {
      "text/html": [
       "<span style=\"color:cyan\"> |-hidden_units: 122</span>"
      ],
      "text/plain": [
       "<IPython.core.display.HTML object>"
      ]
     },
     "metadata": {},
     "output_type": "display_data"
    },
    {
     "data": {
      "text/html": [
       "<span style=\"color:blue\"> |-learning_rate: 0.001</span>"
      ],
      "text/plain": [
       "<IPython.core.display.HTML object>"
      ]
     },
     "metadata": {},
     "output_type": "display_data"
    },
    {
     "data": {
      "text/html": [
       "<span style=\"color:cyan\"> |-tuner/bracket: 3</span>"
      ],
      "text/plain": [
       "<IPython.core.display.HTML object>"
      ]
     },
     "metadata": {},
     "output_type": "display_data"
    },
    {
     "data": {
      "text/html": [
       "<span style=\"color:blue\"> |-tuner/epochs: 2</span>"
      ],
      "text/plain": [
       "<IPython.core.display.HTML object>"
      ]
     },
     "metadata": {},
     "output_type": "display_data"
    },
    {
     "data": {
      "text/html": [
       "<span style=\"color:cyan\"> |-tuner/initial_epoch: 0</span>"
      ],
      "text/plain": [
       "<IPython.core.display.HTML object>"
      ]
     },
     "metadata": {},
     "output_type": "display_data"
    },
    {
     "data": {
      "text/html": [
       "<span style=\"color:blue\"> |-tuner/round: 0</span>"
      ],
      "text/plain": [
       "<IPython.core.display.HTML object>"
      ]
     },
     "metadata": {},
     "output_type": "display_data"
    },
    {
     "name": "stdout",
     "output_type": "stream",
     "text": [
      "Train on 8000 samples, validate on 2000 samples\n",
      "Epoch 1/2\n",
      "8000/8000 - 2s - loss: 0.1221 - mean_squared_error: 0.1219 - mean_absolute_error: 0.3130 - val_loss: 0.0528 - val_mean_squared_error: 0.0526 - val_mean_absolute_error: 0.2002\n",
      "Epoch 2/2\n",
      "8000/8000 - 1s - loss: 0.0303 - mean_squared_error: 0.0300 - mean_absolute_error: 0.1455 - val_loss: 0.0126 - val_mean_squared_error: 0.0123 - val_mean_absolute_error: 0.0976\n"
     ]
    },
    {
     "data": {
      "text/html": [
       "<span style=\"color:#4527A0\"><h1 style=\"font-size:18px\">Trial complete</h1></span>"
      ],
      "text/plain": [
       "<IPython.core.display.HTML object>"
      ]
     },
     "metadata": {},
     "output_type": "display_data"
    },
    {
     "data": {
      "text/html": [
       "<span style=\"color:#4527A0\"><h1 style=\"font-size:18px\">Trial summary</h1></span>"
      ],
      "text/plain": [
       "<IPython.core.display.HTML object>"
      ]
     },
     "metadata": {},
     "output_type": "display_data"
    },
    {
     "data": {
      "text/html": [
       "<span style=\"color:cyan\"> |-Trial ID: 2ac7c938cd3aeaf6945259296b48b0c1</span>"
      ],
      "text/plain": [
       "<IPython.core.display.HTML object>"
      ]
     },
     "metadata": {},
     "output_type": "display_data"
    },
    {
     "data": {
      "text/html": [
       "<span style=\"color:cyan\"> |-Score: 0.012282293289899826</span>"
      ],
      "text/plain": [
       "<IPython.core.display.HTML object>"
      ]
     },
     "metadata": {},
     "output_type": "display_data"
    },
    {
     "data": {
      "text/html": [
       "<span style=\"color:cyan\"> |-Best step: 0</span>"
      ],
      "text/plain": [
       "<IPython.core.display.HTML object>"
      ]
     },
     "metadata": {},
     "output_type": "display_data"
    },
    {
     "data": {
      "text/html": [
       "<span style=\"color:#7E57C2\"><h2 style=\"font-size:16px\">Hyperparameters:</h2></span>"
      ],
      "text/plain": [
       "<IPython.core.display.HTML object>"
      ]
     },
     "metadata": {},
     "output_type": "display_data"
    },
    {
     "data": {
      "text/html": [
       "<span style=\"color:cyan\"> |-hidden_units: 106</span>"
      ],
      "text/plain": [
       "<IPython.core.display.HTML object>"
      ]
     },
     "metadata": {},
     "output_type": "display_data"
    },
    {
     "data": {
      "text/html": [
       "<span style=\"color:blue\"> |-learning_rate: 0.001</span>"
      ],
      "text/plain": [
       "<IPython.core.display.HTML object>"
      ]
     },
     "metadata": {},
     "output_type": "display_data"
    },
    {
     "data": {
      "text/html": [
       "<span style=\"color:cyan\"> |-tuner/bracket: 3</span>"
      ],
      "text/plain": [
       "<IPython.core.display.HTML object>"
      ]
     },
     "metadata": {},
     "output_type": "display_data"
    },
    {
     "data": {
      "text/html": [
       "<span style=\"color:blue\"> |-tuner/epochs: 2</span>"
      ],
      "text/plain": [
       "<IPython.core.display.HTML object>"
      ]
     },
     "metadata": {},
     "output_type": "display_data"
    },
    {
     "data": {
      "text/html": [
       "<span style=\"color:cyan\"> |-tuner/initial_epoch: 0</span>"
      ],
      "text/plain": [
       "<IPython.core.display.HTML object>"
      ]
     },
     "metadata": {},
     "output_type": "display_data"
    },
    {
     "data": {
      "text/html": [
       "<span style=\"color:blue\"> |-tuner/round: 0</span>"
      ],
      "text/plain": [
       "<IPython.core.display.HTML object>"
      ]
     },
     "metadata": {},
     "output_type": "display_data"
    },
    {
     "name": "stdout",
     "output_type": "stream",
     "text": [
      "Train on 8000 samples, validate on 2000 samples\n",
      "Epoch 1/2\n",
      "8000/8000 - 1s - loss: 0.0477 - mean_squared_error: 0.0474 - mean_absolute_error: 0.1509 - val_loss: 0.0052 - val_mean_squared_error: 0.0047 - val_mean_absolute_error: 0.0481\n",
      "Epoch 2/2\n",
      "8000/8000 - 1s - loss: 0.0111 - mean_squared_error: 0.0105 - mean_absolute_error: 0.0585 - val_loss: 0.0051 - val_mean_squared_error: 0.0044 - val_mean_absolute_error: 0.0393\n"
     ]
    },
    {
     "data": {
      "text/html": [
       "<span style=\"color:#4527A0\"><h1 style=\"font-size:18px\">Trial complete</h1></span>"
      ],
      "text/plain": [
       "<IPython.core.display.HTML object>"
      ]
     },
     "metadata": {},
     "output_type": "display_data"
    },
    {
     "data": {
      "text/html": [
       "<span style=\"color:#4527A0\"><h1 style=\"font-size:18px\">Trial summary</h1></span>"
      ],
      "text/plain": [
       "<IPython.core.display.HTML object>"
      ]
     },
     "metadata": {},
     "output_type": "display_data"
    },
    {
     "data": {
      "text/html": [
       "<span style=\"color:cyan\"> |-Trial ID: c50a266cc216ebc24e17dcf53ce6ee95</span>"
      ],
      "text/plain": [
       "<IPython.core.display.HTML object>"
      ]
     },
     "metadata": {},
     "output_type": "display_data"
    },
    {
     "data": {
      "text/html": [
       "<span style=\"color:cyan\"> |-Score: 0.004412470385432243</span>"
      ],
      "text/plain": [
       "<IPython.core.display.HTML object>"
      ]
     },
     "metadata": {},
     "output_type": "display_data"
    },
    {
     "data": {
      "text/html": [
       "<span style=\"color:cyan\"> |-Best step: 0</span>"
      ],
      "text/plain": [
       "<IPython.core.display.HTML object>"
      ]
     },
     "metadata": {},
     "output_type": "display_data"
    },
    {
     "data": {
      "text/html": [
       "<span style=\"color:#7E57C2\"><h2 style=\"font-size:16px\">Hyperparameters:</h2></span>"
      ],
      "text/plain": [
       "<IPython.core.display.HTML object>"
      ]
     },
     "metadata": {},
     "output_type": "display_data"
    },
    {
     "data": {
      "text/html": [
       "<span style=\"color:cyan\"> |-hidden_units: 40</span>"
      ],
      "text/plain": [
       "<IPython.core.display.HTML object>"
      ]
     },
     "metadata": {},
     "output_type": "display_data"
    },
    {
     "data": {
      "text/html": [
       "<span style=\"color:blue\"> |-learning_rate: 0.01</span>"
      ],
      "text/plain": [
       "<IPython.core.display.HTML object>"
      ]
     },
     "metadata": {},
     "output_type": "display_data"
    },
    {
     "data": {
      "text/html": [
       "<span style=\"color:cyan\"> |-tuner/bracket: 3</span>"
      ],
      "text/plain": [
       "<IPython.core.display.HTML object>"
      ]
     },
     "metadata": {},
     "output_type": "display_data"
    },
    {
     "data": {
      "text/html": [
       "<span style=\"color:blue\"> |-tuner/epochs: 2</span>"
      ],
      "text/plain": [
       "<IPython.core.display.HTML object>"
      ]
     },
     "metadata": {},
     "output_type": "display_data"
    },
    {
     "data": {
      "text/html": [
       "<span style=\"color:cyan\"> |-tuner/initial_epoch: 0</span>"
      ],
      "text/plain": [
       "<IPython.core.display.HTML object>"
      ]
     },
     "metadata": {},
     "output_type": "display_data"
    },
    {
     "data": {
      "text/html": [
       "<span style=\"color:blue\"> |-tuner/round: 0</span>"
      ],
      "text/plain": [
       "<IPython.core.display.HTML object>"
      ]
     },
     "metadata": {},
     "output_type": "display_data"
    },
    {
     "name": "stdout",
     "output_type": "stream",
     "text": [
      "Train on 8000 samples, validate on 2000 samples\n",
      "Epoch 1/2\n",
      "8000/8000 - 1s - loss: 0.2161 - mean_squared_error: 0.2160 - mean_absolute_error: 0.4328 - val_loss: 0.1996 - val_mean_squared_error: 0.1995 - val_mean_absolute_error: 0.4165\n",
      "Epoch 2/2\n",
      "8000/8000 - 1s - loss: 0.1918 - mean_squared_error: 0.1917 - mean_absolute_error: 0.4064 - val_loss: 0.1804 - val_mean_squared_error: 0.1803 - val_mean_absolute_error: 0.3944\n"
     ]
    },
    {
     "data": {
      "text/html": [
       "<span style=\"color:#4527A0\"><h1 style=\"font-size:18px\">Trial complete</h1></span>"
      ],
      "text/plain": [
       "<IPython.core.display.HTML object>"
      ]
     },
     "metadata": {},
     "output_type": "display_data"
    },
    {
     "data": {
      "text/html": [
       "<span style=\"color:#4527A0\"><h1 style=\"font-size:18px\">Trial summary</h1></span>"
      ],
      "text/plain": [
       "<IPython.core.display.HTML object>"
      ]
     },
     "metadata": {},
     "output_type": "display_data"
    },
    {
     "data": {
      "text/html": [
       "<span style=\"color:cyan\"> |-Trial ID: 73c212691fde16ec1910d279c7838760</span>"
      ],
      "text/plain": [
       "<IPython.core.display.HTML object>"
      ]
     },
     "metadata": {},
     "output_type": "display_data"
    },
    {
     "data": {
      "text/html": [
       "<span style=\"color:cyan\"> |-Score: 0.18027456104755402</span>"
      ],
      "text/plain": [
       "<IPython.core.display.HTML object>"
      ]
     },
     "metadata": {},
     "output_type": "display_data"
    },
    {
     "data": {
      "text/html": [
       "<span style=\"color:cyan\"> |-Best step: 0</span>"
      ],
      "text/plain": [
       "<IPython.core.display.HTML object>"
      ]
     },
     "metadata": {},
     "output_type": "display_data"
    },
    {
     "data": {
      "text/html": [
       "<span style=\"color:#7E57C2\"><h2 style=\"font-size:16px\">Hyperparameters:</h2></span>"
      ],
      "text/plain": [
       "<IPython.core.display.HTML object>"
      ]
     },
     "metadata": {},
     "output_type": "display_data"
    },
    {
     "data": {
      "text/html": [
       "<span style=\"color:cyan\"> |-hidden_units: 86</span>"
      ],
      "text/plain": [
       "<IPython.core.display.HTML object>"
      ]
     },
     "metadata": {},
     "output_type": "display_data"
    },
    {
     "data": {
      "text/html": [
       "<span style=\"color:blue\"> |-learning_rate: 0.0001</span>"
      ],
      "text/plain": [
       "<IPython.core.display.HTML object>"
      ]
     },
     "metadata": {},
     "output_type": "display_data"
    },
    {
     "data": {
      "text/html": [
       "<span style=\"color:cyan\"> |-tuner/bracket: 3</span>"
      ],
      "text/plain": [
       "<IPython.core.display.HTML object>"
      ]
     },
     "metadata": {},
     "output_type": "display_data"
    },
    {
     "data": {
      "text/html": [
       "<span style=\"color:blue\"> |-tuner/epochs: 2</span>"
      ],
      "text/plain": [
       "<IPython.core.display.HTML object>"
      ]
     },
     "metadata": {},
     "output_type": "display_data"
    },
    {
     "data": {
      "text/html": [
       "<span style=\"color:cyan\"> |-tuner/initial_epoch: 0</span>"
      ],
      "text/plain": [
       "<IPython.core.display.HTML object>"
      ]
     },
     "metadata": {},
     "output_type": "display_data"
    },
    {
     "data": {
      "text/html": [
       "<span style=\"color:blue\"> |-tuner/round: 0</span>"
      ],
      "text/plain": [
       "<IPython.core.display.HTML object>"
      ]
     },
     "metadata": {},
     "output_type": "display_data"
    },
    {
     "name": "stdout",
     "output_type": "stream",
     "text": [
      "Train on 8000 samples, validate on 2000 samples\n",
      "Epoch 1/2\n",
      "8000/8000 - 2s - loss: 0.2194 - mean_squared_error: 0.2193 - mean_absolute_error: 0.4411 - val_loss: 0.2038 - val_mean_squared_error: 0.2037 - val_mean_absolute_error: 0.4248\n",
      "Epoch 2/2\n",
      "8000/8000 - 1s - loss: 0.1972 - mean_squared_error: 0.1972 - mean_absolute_error: 0.4140 - val_loss: 0.1883 - val_mean_squared_error: 0.1882 - val_mean_absolute_error: 0.4034\n"
     ]
    },
    {
     "data": {
      "text/html": [
       "<span style=\"color:#4527A0\"><h1 style=\"font-size:18px\">Trial complete</h1></span>"
      ],
      "text/plain": [
       "<IPython.core.display.HTML object>"
      ]
     },
     "metadata": {},
     "output_type": "display_data"
    },
    {
     "data": {
      "text/html": [
       "<span style=\"color:#4527A0\"><h1 style=\"font-size:18px\">Trial summary</h1></span>"
      ],
      "text/plain": [
       "<IPython.core.display.HTML object>"
      ]
     },
     "metadata": {},
     "output_type": "display_data"
    },
    {
     "data": {
      "text/html": [
       "<span style=\"color:cyan\"> |-Trial ID: d1311b987a36561539427fd1c631c91d</span>"
      ],
      "text/plain": [
       "<IPython.core.display.HTML object>"
      ]
     },
     "metadata": {},
     "output_type": "display_data"
    },
    {
     "data": {
      "text/html": [
       "<span style=\"color:cyan\"> |-Score: 0.18824568390846252</span>"
      ],
      "text/plain": [
       "<IPython.core.display.HTML object>"
      ]
     },
     "metadata": {},
     "output_type": "display_data"
    },
    {
     "data": {
      "text/html": [
       "<span style=\"color:cyan\"> |-Best step: 0</span>"
      ],
      "text/plain": [
       "<IPython.core.display.HTML object>"
      ]
     },
     "metadata": {},
     "output_type": "display_data"
    },
    {
     "data": {
      "text/html": [
       "<span style=\"color:#7E57C2\"><h2 style=\"font-size:16px\">Hyperparameters:</h2></span>"
      ],
      "text/plain": [
       "<IPython.core.display.HTML object>"
      ]
     },
     "metadata": {},
     "output_type": "display_data"
    },
    {
     "data": {
      "text/html": [
       "<span style=\"color:cyan\"> |-hidden_units: 52</span>"
      ],
      "text/plain": [
       "<IPython.core.display.HTML object>"
      ]
     },
     "metadata": {},
     "output_type": "display_data"
    },
    {
     "data": {
      "text/html": [
       "<span style=\"color:blue\"> |-learning_rate: 0.0001</span>"
      ],
      "text/plain": [
       "<IPython.core.display.HTML object>"
      ]
     },
     "metadata": {},
     "output_type": "display_data"
    },
    {
     "data": {
      "text/html": [
       "<span style=\"color:cyan\"> |-tuner/bracket: 3</span>"
      ],
      "text/plain": [
       "<IPython.core.display.HTML object>"
      ]
     },
     "metadata": {},
     "output_type": "display_data"
    },
    {
     "data": {
      "text/html": [
       "<span style=\"color:blue\"> |-tuner/epochs: 2</span>"
      ],
      "text/plain": [
       "<IPython.core.display.HTML object>"
      ]
     },
     "metadata": {},
     "output_type": "display_data"
    },
    {
     "data": {
      "text/html": [
       "<span style=\"color:cyan\"> |-tuner/initial_epoch: 0</span>"
      ],
      "text/plain": [
       "<IPython.core.display.HTML object>"
      ]
     },
     "metadata": {},
     "output_type": "display_data"
    },
    {
     "data": {
      "text/html": [
       "<span style=\"color:blue\"> |-tuner/round: 0</span>"
      ],
      "text/plain": [
       "<IPython.core.display.HTML object>"
      ]
     },
     "metadata": {},
     "output_type": "display_data"
    },
    {
     "name": "stdout",
     "output_type": "stream",
     "text": [
      "Train on 8000 samples, validate on 2000 samples\n",
      "Epoch 1/2\n",
      "8000/8000 - 2s - loss: 0.0165 - mean_squared_error: 0.0159 - mean_absolute_error: 0.0716 - val_loss: 0.0017 - val_mean_squared_error: 0.0011 - val_mean_absolute_error: 0.0234\n",
      "Epoch 2/2\n",
      "8000/8000 - 1s - loss: 0.0037 - mean_squared_error: 0.0030 - mean_absolute_error: 0.0326 - val_loss: 0.0022 - val_mean_squared_error: 0.0015 - val_mean_absolute_error: 0.0242\n"
     ]
    },
    {
     "data": {
      "text/html": [
       "<span style=\"color:#4527A0\"><h1 style=\"font-size:18px\">Trial complete</h1></span>"
      ],
      "text/plain": [
       "<IPython.core.display.HTML object>"
      ]
     },
     "metadata": {},
     "output_type": "display_data"
    },
    {
     "data": {
      "text/html": [
       "<span style=\"color:#4527A0\"><h1 style=\"font-size:18px\">Trial summary</h1></span>"
      ],
      "text/plain": [
       "<IPython.core.display.HTML object>"
      ]
     },
     "metadata": {},
     "output_type": "display_data"
    },
    {
     "data": {
      "text/html": [
       "<span style=\"color:cyan\"> |-Trial ID: 36a64eeea7665f6674d0a34264748223</span>"
      ],
      "text/plain": [
       "<IPython.core.display.HTML object>"
      ]
     },
     "metadata": {},
     "output_type": "display_data"
    },
    {
     "data": {
      "text/html": [
       "<span style=\"color:cyan\"> |-Score: 0.001095108105801046</span>"
      ],
      "text/plain": [
       "<IPython.core.display.HTML object>"
      ]
     },
     "metadata": {},
     "output_type": "display_data"
    },
    {
     "data": {
      "text/html": [
       "<span style=\"color:cyan\"> |-Best step: 0</span>"
      ],
      "text/plain": [
       "<IPython.core.display.HTML object>"
      ]
     },
     "metadata": {},
     "output_type": "display_data"
    },
    {
     "data": {
      "text/html": [
       "<span style=\"color:#7E57C2\"><h2 style=\"font-size:16px\">Hyperparameters:</h2></span>"
      ],
      "text/plain": [
       "<IPython.core.display.HTML object>"
      ]
     },
     "metadata": {},
     "output_type": "display_data"
    },
    {
     "data": {
      "text/html": [
       "<span style=\"color:cyan\"> |-hidden_units: 184</span>"
      ],
      "text/plain": [
       "<IPython.core.display.HTML object>"
      ]
     },
     "metadata": {},
     "output_type": "display_data"
    },
    {
     "data": {
      "text/html": [
       "<span style=\"color:blue\"> |-learning_rate: 0.01</span>"
      ],
      "text/plain": [
       "<IPython.core.display.HTML object>"
      ]
     },
     "metadata": {},
     "output_type": "display_data"
    },
    {
     "data": {
      "text/html": [
       "<span style=\"color:cyan\"> |-tuner/bracket: 3</span>"
      ],
      "text/plain": [
       "<IPython.core.display.HTML object>"
      ]
     },
     "metadata": {},
     "output_type": "display_data"
    },
    {
     "data": {
      "text/html": [
       "<span style=\"color:blue\"> |-tuner/epochs: 2</span>"
      ],
      "text/plain": [
       "<IPython.core.display.HTML object>"
      ]
     },
     "metadata": {},
     "output_type": "display_data"
    },
    {
     "data": {
      "text/html": [
       "<span style=\"color:cyan\"> |-tuner/initial_epoch: 0</span>"
      ],
      "text/plain": [
       "<IPython.core.display.HTML object>"
      ]
     },
     "metadata": {},
     "output_type": "display_data"
    },
    {
     "data": {
      "text/html": [
       "<span style=\"color:blue\"> |-tuner/round: 0</span>"
      ],
      "text/plain": [
       "<IPython.core.display.HTML object>"
      ]
     },
     "metadata": {},
     "output_type": "display_data"
    },
    {
     "name": "stdout",
     "output_type": "stream",
     "text": [
      "Train on 8000 samples, validate on 2000 samples\n",
      "Epoch 1/2\n",
      "8000/8000 - 2s - loss: 0.0965 - mean_squared_error: 0.0963 - mean_absolute_error: 0.2723 - val_loss: 0.0264 - val_mean_squared_error: 0.0261 - val_mean_absolute_error: 0.1429\n",
      "Epoch 2/2\n",
      "8000/8000 - 1s - loss: 0.0140 - mean_squared_error: 0.0137 - mean_absolute_error: 0.0995 - val_loss: 0.0059 - val_mean_squared_error: 0.0055 - val_mean_absolute_error: 0.0660\n"
     ]
    },
    {
     "data": {
      "text/html": [
       "<span style=\"color:#4527A0\"><h1 style=\"font-size:18px\">Trial complete</h1></span>"
      ],
      "text/plain": [
       "<IPython.core.display.HTML object>"
      ]
     },
     "metadata": {},
     "output_type": "display_data"
    },
    {
     "data": {
      "text/html": [
       "<span style=\"color:#4527A0\"><h1 style=\"font-size:18px\">Trial summary</h1></span>"
      ],
      "text/plain": [
       "<IPython.core.display.HTML object>"
      ]
     },
     "metadata": {},
     "output_type": "display_data"
    },
    {
     "data": {
      "text/html": [
       "<span style=\"color:cyan\"> |-Trial ID: 3b6a238f019da44de9b54139dc139a0a</span>"
      ],
      "text/plain": [
       "<IPython.core.display.HTML object>"
      ]
     },
     "metadata": {},
     "output_type": "display_data"
    },
    {
     "data": {
      "text/html": [
       "<span style=\"color:cyan\"> |-Score: 0.005504126660525799</span>"
      ],
      "text/plain": [
       "<IPython.core.display.HTML object>"
      ]
     },
     "metadata": {},
     "output_type": "display_data"
    },
    {
     "data": {
      "text/html": [
       "<span style=\"color:cyan\"> |-Best step: 0</span>"
      ],
      "text/plain": [
       "<IPython.core.display.HTML object>"
      ]
     },
     "metadata": {},
     "output_type": "display_data"
    },
    {
     "data": {
      "text/html": [
       "<span style=\"color:#7E57C2\"><h2 style=\"font-size:16px\">Hyperparameters:</h2></span>"
      ],
      "text/plain": [
       "<IPython.core.display.HTML object>"
      ]
     },
     "metadata": {},
     "output_type": "display_data"
    },
    {
     "data": {
      "text/html": [
       "<span style=\"color:cyan\"> |-hidden_units: 192</span>"
      ],
      "text/plain": [
       "<IPython.core.display.HTML object>"
      ]
     },
     "metadata": {},
     "output_type": "display_data"
    },
    {
     "data": {
      "text/html": [
       "<span style=\"color:blue\"> |-learning_rate: 0.001</span>"
      ],
      "text/plain": [
       "<IPython.core.display.HTML object>"
      ]
     },
     "metadata": {},
     "output_type": "display_data"
    },
    {
     "data": {
      "text/html": [
       "<span style=\"color:cyan\"> |-tuner/bracket: 3</span>"
      ],
      "text/plain": [
       "<IPython.core.display.HTML object>"
      ]
     },
     "metadata": {},
     "output_type": "display_data"
    },
    {
     "data": {
      "text/html": [
       "<span style=\"color:blue\"> |-tuner/epochs: 2</span>"
      ],
      "text/plain": [
       "<IPython.core.display.HTML object>"
      ]
     },
     "metadata": {},
     "output_type": "display_data"
    },
    {
     "data": {
      "text/html": [
       "<span style=\"color:cyan\"> |-tuner/initial_epoch: 0</span>"
      ],
      "text/plain": [
       "<IPython.core.display.HTML object>"
      ]
     },
     "metadata": {},
     "output_type": "display_data"
    },
    {
     "data": {
      "text/html": [
       "<span style=\"color:blue\"> |-tuner/round: 0</span>"
      ],
      "text/plain": [
       "<IPython.core.display.HTML object>"
      ]
     },
     "metadata": {},
     "output_type": "display_data"
    },
    {
     "name": "stdout",
     "output_type": "stream",
     "text": [
      "Train on 8000 samples, validate on 2000 samples\n",
      "Epoch 1/2\n",
      "8000/8000 - 2s - loss: 0.1090 - mean_squared_error: 0.1088 - mean_absolute_error: 0.2930 - val_loss: 0.0379 - val_mean_squared_error: 0.0377 - val_mean_absolute_error: 0.1701\n",
      "Epoch 2/2\n",
      "8000/8000 - 1s - loss: 0.0204 - mean_squared_error: 0.0201 - mean_absolute_error: 0.1196 - val_loss: 0.0081 - val_mean_squared_error: 0.0077 - val_mean_absolute_error: 0.0782\n"
     ]
    },
    {
     "data": {
      "text/html": [
       "<span style=\"color:#4527A0\"><h1 style=\"font-size:18px\">Trial complete</h1></span>"
      ],
      "text/plain": [
       "<IPython.core.display.HTML object>"
      ]
     },
     "metadata": {},
     "output_type": "display_data"
    },
    {
     "data": {
      "text/html": [
       "<span style=\"color:#4527A0\"><h1 style=\"font-size:18px\">Trial summary</h1></span>"
      ],
      "text/plain": [
       "<IPython.core.display.HTML object>"
      ]
     },
     "metadata": {},
     "output_type": "display_data"
    },
    {
     "data": {
      "text/html": [
       "<span style=\"color:cyan\"> |-Trial ID: 35e46b813ac8bf77b74931a7bd8ea4bf</span>"
      ],
      "text/plain": [
       "<IPython.core.display.HTML object>"
      ]
     },
     "metadata": {},
     "output_type": "display_data"
    },
    {
     "data": {
      "text/html": [
       "<span style=\"color:cyan\"> |-Score: 0.00774549413472414</span>"
      ],
      "text/plain": [
       "<IPython.core.display.HTML object>"
      ]
     },
     "metadata": {},
     "output_type": "display_data"
    },
    {
     "data": {
      "text/html": [
       "<span style=\"color:cyan\"> |-Best step: 0</span>"
      ],
      "text/plain": [
       "<IPython.core.display.HTML object>"
      ]
     },
     "metadata": {},
     "output_type": "display_data"
    },
    {
     "data": {
      "text/html": [
       "<span style=\"color:#7E57C2\"><h2 style=\"font-size:16px\">Hyperparameters:</h2></span>"
      ],
      "text/plain": [
       "<IPython.core.display.HTML object>"
      ]
     },
     "metadata": {},
     "output_type": "display_data"
    },
    {
     "data": {
      "text/html": [
       "<span style=\"color:cyan\"> |-hidden_units: 148</span>"
      ],
      "text/plain": [
       "<IPython.core.display.HTML object>"
      ]
     },
     "metadata": {},
     "output_type": "display_data"
    },
    {
     "data": {
      "text/html": [
       "<span style=\"color:blue\"> |-learning_rate: 0.001</span>"
      ],
      "text/plain": [
       "<IPython.core.display.HTML object>"
      ]
     },
     "metadata": {},
     "output_type": "display_data"
    },
    {
     "data": {
      "text/html": [
       "<span style=\"color:cyan\"> |-tuner/bracket: 3</span>"
      ],
      "text/plain": [
       "<IPython.core.display.HTML object>"
      ]
     },
     "metadata": {},
     "output_type": "display_data"
    },
    {
     "data": {
      "text/html": [
       "<span style=\"color:blue\"> |-tuner/epochs: 2</span>"
      ],
      "text/plain": [
       "<IPython.core.display.HTML object>"
      ]
     },
     "metadata": {},
     "output_type": "display_data"
    },
    {
     "data": {
      "text/html": [
       "<span style=\"color:cyan\"> |-tuner/initial_epoch: 0</span>"
      ],
      "text/plain": [
       "<IPython.core.display.HTML object>"
      ]
     },
     "metadata": {},
     "output_type": "display_data"
    },
    {
     "data": {
      "text/html": [
       "<span style=\"color:blue\"> |-tuner/round: 0</span>"
      ],
      "text/plain": [
       "<IPython.core.display.HTML object>"
      ]
     },
     "metadata": {},
     "output_type": "display_data"
    },
    {
     "name": "stdout",
     "output_type": "stream",
     "text": [
      "Train on 8000 samples, validate on 2000 samples\n",
      "Epoch 1/2\n",
      "8000/8000 - 2s - loss: 0.2049 - mean_squared_error: 0.2048 - mean_absolute_error: 0.4253 - val_loss: 0.1869 - val_mean_squared_error: 0.1868 - val_mean_absolute_error: 0.4037\n",
      "Epoch 2/2\n",
      "8000/8000 - 1s - loss: 0.1748 - mean_squared_error: 0.1747 - mean_absolute_error: 0.3896 - val_loss: 0.1596 - val_mean_squared_error: 0.1595 - val_mean_absolute_error: 0.3718\n"
     ]
    },
    {
     "data": {
      "text/html": [
       "<span style=\"color:#4527A0\"><h1 style=\"font-size:18px\">Trial complete</h1></span>"
      ],
      "text/plain": [
       "<IPython.core.display.HTML object>"
      ]
     },
     "metadata": {},
     "output_type": "display_data"
    },
    {
     "data": {
      "text/html": [
       "<span style=\"color:#4527A0\"><h1 style=\"font-size:18px\">Trial summary</h1></span>"
      ],
      "text/plain": [
       "<IPython.core.display.HTML object>"
      ]
     },
     "metadata": {},
     "output_type": "display_data"
    },
    {
     "data": {
      "text/html": [
       "<span style=\"color:cyan\"> |-Trial ID: 40c1002abb80fbb91bd2ee530884c5ba</span>"
      ],
      "text/plain": [
       "<IPython.core.display.HTML object>"
      ]
     },
     "metadata": {},
     "output_type": "display_data"
    },
    {
     "data": {
      "text/html": [
       "<span style=\"color:cyan\"> |-Score: 0.15948717296123505</span>"
      ],
      "text/plain": [
       "<IPython.core.display.HTML object>"
      ]
     },
     "metadata": {},
     "output_type": "display_data"
    },
    {
     "data": {
      "text/html": [
       "<span style=\"color:cyan\"> |-Best step: 0</span>"
      ],
      "text/plain": [
       "<IPython.core.display.HTML object>"
      ]
     },
     "metadata": {},
     "output_type": "display_data"
    },
    {
     "data": {
      "text/html": [
       "<span style=\"color:#7E57C2\"><h2 style=\"font-size:16px\">Hyperparameters:</h2></span>"
      ],
      "text/plain": [
       "<IPython.core.display.HTML object>"
      ]
     },
     "metadata": {},
     "output_type": "display_data"
    },
    {
     "data": {
      "text/html": [
       "<span style=\"color:cyan\"> |-hidden_units: 154</span>"
      ],
      "text/plain": [
       "<IPython.core.display.HTML object>"
      ]
     },
     "metadata": {},
     "output_type": "display_data"
    },
    {
     "data": {
      "text/html": [
       "<span style=\"color:blue\"> |-learning_rate: 0.0001</span>"
      ],
      "text/plain": [
       "<IPython.core.display.HTML object>"
      ]
     },
     "metadata": {},
     "output_type": "display_data"
    },
    {
     "data": {
      "text/html": [
       "<span style=\"color:cyan\"> |-tuner/bracket: 3</span>"
      ],
      "text/plain": [
       "<IPython.core.display.HTML object>"
      ]
     },
     "metadata": {},
     "output_type": "display_data"
    },
    {
     "data": {
      "text/html": [
       "<span style=\"color:blue\"> |-tuner/epochs: 2</span>"
      ],
      "text/plain": [
       "<IPython.core.display.HTML object>"
      ]
     },
     "metadata": {},
     "output_type": "display_data"
    },
    {
     "data": {
      "text/html": [
       "<span style=\"color:cyan\"> |-tuner/initial_epoch: 0</span>"
      ],
      "text/plain": [
       "<IPython.core.display.HTML object>"
      ]
     },
     "metadata": {},
     "output_type": "display_data"
    },
    {
     "data": {
      "text/html": [
       "<span style=\"color:blue\"> |-tuner/round: 0</span>"
      ],
      "text/plain": [
       "<IPython.core.display.HTML object>"
      ]
     },
     "metadata": {},
     "output_type": "display_data"
    },
    {
     "name": "stdout",
     "output_type": "stream",
     "text": [
      "Train on 8000 samples, validate on 2000 samples\n",
      "Epoch 1/2\n",
      "8000/8000 - 1s - loss: 0.2237 - mean_squared_error: 0.2236 - mean_absolute_error: 0.4391 - val_loss: 0.2093 - val_mean_squared_error: 0.2092 - val_mean_absolute_error: 0.4269\n",
      "Epoch 2/2\n",
      "8000/8000 - 0s - loss: 0.2043 - mean_squared_error: 0.2042 - mean_absolute_error: 0.4194 - val_loss: 0.1952 - val_mean_squared_error: 0.1952 - val_mean_absolute_error: 0.4104\n"
     ]
    },
    {
     "data": {
      "text/html": [
       "<span style=\"color:#4527A0\"><h1 style=\"font-size:18px\">Trial complete</h1></span>"
      ],
      "text/plain": [
       "<IPython.core.display.HTML object>"
      ]
     },
     "metadata": {},
     "output_type": "display_data"
    },
    {
     "data": {
      "text/html": [
       "<span style=\"color:#4527A0\"><h1 style=\"font-size:18px\">Trial summary</h1></span>"
      ],
      "text/plain": [
       "<IPython.core.display.HTML object>"
      ]
     },
     "metadata": {},
     "output_type": "display_data"
    },
    {
     "data": {
      "text/html": [
       "<span style=\"color:cyan\"> |-Trial ID: 1108dbab3c795ca0cebc7fa8d5361280</span>"
      ],
      "text/plain": [
       "<IPython.core.display.HTML object>"
      ]
     },
     "metadata": {},
     "output_type": "display_data"
    },
    {
     "data": {
      "text/html": [
       "<span style=\"color:cyan\"> |-Score: 0.19515037536621094</span>"
      ],
      "text/plain": [
       "<IPython.core.display.HTML object>"
      ]
     },
     "metadata": {},
     "output_type": "display_data"
    },
    {
     "data": {
      "text/html": [
       "<span style=\"color:cyan\"> |-Best step: 0</span>"
      ],
      "text/plain": [
       "<IPython.core.display.HTML object>"
      ]
     },
     "metadata": {},
     "output_type": "display_data"
    },
    {
     "data": {
      "text/html": [
       "<span style=\"color:#7E57C2\"><h2 style=\"font-size:16px\">Hyperparameters:</h2></span>"
      ],
      "text/plain": [
       "<IPython.core.display.HTML object>"
      ]
     },
     "metadata": {},
     "output_type": "display_data"
    },
    {
     "data": {
      "text/html": [
       "<span style=\"color:cyan\"> |-hidden_units: 40</span>"
      ],
      "text/plain": [
       "<IPython.core.display.HTML object>"
      ]
     },
     "metadata": {},
     "output_type": "display_data"
    },
    {
     "data": {
      "text/html": [
       "<span style=\"color:blue\"> |-learning_rate: 0.0001</span>"
      ],
      "text/plain": [
       "<IPython.core.display.HTML object>"
      ]
     },
     "metadata": {},
     "output_type": "display_data"
    },
    {
     "data": {
      "text/html": [
       "<span style=\"color:cyan\"> |-tuner/bracket: 3</span>"
      ],
      "text/plain": [
       "<IPython.core.display.HTML object>"
      ]
     },
     "metadata": {},
     "output_type": "display_data"
    },
    {
     "data": {
      "text/html": [
       "<span style=\"color:blue\"> |-tuner/epochs: 2</span>"
      ],
      "text/plain": [
       "<IPython.core.display.HTML object>"
      ]
     },
     "metadata": {},
     "output_type": "display_data"
    },
    {
     "data": {
      "text/html": [
       "<span style=\"color:cyan\"> |-tuner/initial_epoch: 0</span>"
      ],
      "text/plain": [
       "<IPython.core.display.HTML object>"
      ]
     },
     "metadata": {},
     "output_type": "display_data"
    },
    {
     "data": {
      "text/html": [
       "<span style=\"color:blue\"> |-tuner/round: 0</span>"
      ],
      "text/plain": [
       "<IPython.core.display.HTML object>"
      ]
     },
     "metadata": {},
     "output_type": "display_data"
    },
    {
     "name": "stdout",
     "output_type": "stream",
     "text": [
      "Train on 8000 samples, validate on 2000 samples\n",
      "Epoch 1/2\n",
      "8000/8000 - 1s - loss: 0.0210 - mean_squared_error: 0.0205 - mean_absolute_error: 0.0859 - val_loss: 0.0023 - val_mean_squared_error: 0.0017 - val_mean_absolute_error: 0.0282\n",
      "Epoch 2/2\n",
      "8000/8000 - 1s - loss: 0.0046 - mean_squared_error: 0.0039 - mean_absolute_error: 0.0371 - val_loss: 0.0032 - val_mean_squared_error: 0.0025 - val_mean_absolute_error: 0.0301\n"
     ]
    },
    {
     "data": {
      "text/html": [
       "<span style=\"color:#4527A0\"><h1 style=\"font-size:18px\">Trial complete</h1></span>"
      ],
      "text/plain": [
       "<IPython.core.display.HTML object>"
      ]
     },
     "metadata": {},
     "output_type": "display_data"
    },
    {
     "data": {
      "text/html": [
       "<span style=\"color:#4527A0\"><h1 style=\"font-size:18px\">Trial summary</h1></span>"
      ],
      "text/plain": [
       "<IPython.core.display.HTML object>"
      ]
     },
     "metadata": {},
     "output_type": "display_data"
    },
    {
     "data": {
      "text/html": [
       "<span style=\"color:cyan\"> |-Trial ID: 990cfa9f5e2c9f7765da89a7e62cc0d0</span>"
      ],
      "text/plain": [
       "<IPython.core.display.HTML object>"
      ]
     },
     "metadata": {},
     "output_type": "display_data"
    },
    {
     "data": {
      "text/html": [
       "<span style=\"color:cyan\"> |-Score: 0.0016905282391235232</span>"
      ],
      "text/plain": [
       "<IPython.core.display.HTML object>"
      ]
     },
     "metadata": {},
     "output_type": "display_data"
    },
    {
     "data": {
      "text/html": [
       "<span style=\"color:cyan\"> |-Best step: 0</span>"
      ],
      "text/plain": [
       "<IPython.core.display.HTML object>"
      ]
     },
     "metadata": {},
     "output_type": "display_data"
    },
    {
     "data": {
      "text/html": [
       "<span style=\"color:#7E57C2\"><h2 style=\"font-size:16px\">Hyperparameters:</h2></span>"
      ],
      "text/plain": [
       "<IPython.core.display.HTML object>"
      ]
     },
     "metadata": {},
     "output_type": "display_data"
    },
    {
     "data": {
      "text/html": [
       "<span style=\"color:cyan\"> |-hidden_units: 118</span>"
      ],
      "text/plain": [
       "<IPython.core.display.HTML object>"
      ]
     },
     "metadata": {},
     "output_type": "display_data"
    },
    {
     "data": {
      "text/html": [
       "<span style=\"color:blue\"> |-learning_rate: 0.01</span>"
      ],
      "text/plain": [
       "<IPython.core.display.HTML object>"
      ]
     },
     "metadata": {},
     "output_type": "display_data"
    },
    {
     "data": {
      "text/html": [
       "<span style=\"color:cyan\"> |-tuner/bracket: 3</span>"
      ],
      "text/plain": [
       "<IPython.core.display.HTML object>"
      ]
     },
     "metadata": {},
     "output_type": "display_data"
    },
    {
     "data": {
      "text/html": [
       "<span style=\"color:blue\"> |-tuner/epochs: 2</span>"
      ],
      "text/plain": [
       "<IPython.core.display.HTML object>"
      ]
     },
     "metadata": {},
     "output_type": "display_data"
    },
    {
     "data": {
      "text/html": [
       "<span style=\"color:cyan\"> |-tuner/initial_epoch: 0</span>"
      ],
      "text/plain": [
       "<IPython.core.display.HTML object>"
      ]
     },
     "metadata": {},
     "output_type": "display_data"
    },
    {
     "data": {
      "text/html": [
       "<span style=\"color:blue\"> |-tuner/round: 0</span>"
      ],
      "text/plain": [
       "<IPython.core.display.HTML object>"
      ]
     },
     "metadata": {},
     "output_type": "display_data"
    },
    {
     "name": "stdout",
     "output_type": "stream",
     "text": [
      "Train on 8000 samples, validate on 2000 samples\n",
      "Epoch 1/2\n",
      "8000/8000 - 1s - loss: 0.2217 - mean_squared_error: 0.2216 - mean_absolute_error: 0.4423 - val_loss: 0.2103 - val_mean_squared_error: 0.2102 - val_mean_absolute_error: 0.4325\n",
      "Epoch 2/2\n",
      "8000/8000 - 1s - loss: 0.2052 - mean_squared_error: 0.2051 - mean_absolute_error: 0.4247 - val_loss: 0.1972 - val_mean_squared_error: 0.1972 - val_mean_absolute_error: 0.4160\n"
     ]
    },
    {
     "data": {
      "text/html": [
       "<span style=\"color:#4527A0\"><h1 style=\"font-size:18px\">Trial complete</h1></span>"
      ],
      "text/plain": [
       "<IPython.core.display.HTML object>"
      ]
     },
     "metadata": {},
     "output_type": "display_data"
    },
    {
     "data": {
      "text/html": [
       "<span style=\"color:#4527A0\"><h1 style=\"font-size:18px\">Trial summary</h1></span>"
      ],
      "text/plain": [
       "<IPython.core.display.HTML object>"
      ]
     },
     "metadata": {},
     "output_type": "display_data"
    },
    {
     "data": {
      "text/html": [
       "<span style=\"color:cyan\"> |-Trial ID: 7e46e2733c33ea625a627bfb4e337f2e</span>"
      ],
      "text/plain": [
       "<IPython.core.display.HTML object>"
      ]
     },
     "metadata": {},
     "output_type": "display_data"
    },
    {
     "data": {
      "text/html": [
       "<span style=\"color:cyan\"> |-Score: 0.19715407490730286</span>"
      ],
      "text/plain": [
       "<IPython.core.display.HTML object>"
      ]
     },
     "metadata": {},
     "output_type": "display_data"
    },
    {
     "data": {
      "text/html": [
       "<span style=\"color:cyan\"> |-Best step: 0</span>"
      ],
      "text/plain": [
       "<IPython.core.display.HTML object>"
      ]
     },
     "metadata": {},
     "output_type": "display_data"
    },
    {
     "data": {
      "text/html": [
       "<span style=\"color:#7E57C2\"><h2 style=\"font-size:16px\">Hyperparameters:</h2></span>"
      ],
      "text/plain": [
       "<IPython.core.display.HTML object>"
      ]
     },
     "metadata": {},
     "output_type": "display_data"
    },
    {
     "data": {
      "text/html": [
       "<span style=\"color:cyan\"> |-hidden_units: 34</span>"
      ],
      "text/plain": [
       "<IPython.core.display.HTML object>"
      ]
     },
     "metadata": {},
     "output_type": "display_data"
    },
    {
     "data": {
      "text/html": [
       "<span style=\"color:blue\"> |-learning_rate: 0.0001</span>"
      ],
      "text/plain": [
       "<IPython.core.display.HTML object>"
      ]
     },
     "metadata": {},
     "output_type": "display_data"
    },
    {
     "data": {
      "text/html": [
       "<span style=\"color:cyan\"> |-tuner/bracket: 3</span>"
      ],
      "text/plain": [
       "<IPython.core.display.HTML object>"
      ]
     },
     "metadata": {},
     "output_type": "display_data"
    },
    {
     "data": {
      "text/html": [
       "<span style=\"color:blue\"> |-tuner/epochs: 2</span>"
      ],
      "text/plain": [
       "<IPython.core.display.HTML object>"
      ]
     },
     "metadata": {},
     "output_type": "display_data"
    },
    {
     "data": {
      "text/html": [
       "<span style=\"color:cyan\"> |-tuner/initial_epoch: 0</span>"
      ],
      "text/plain": [
       "<IPython.core.display.HTML object>"
      ]
     },
     "metadata": {},
     "output_type": "display_data"
    },
    {
     "data": {
      "text/html": [
       "<span style=\"color:blue\"> |-tuner/round: 0</span>"
      ],
      "text/plain": [
       "<IPython.core.display.HTML object>"
      ]
     },
     "metadata": {},
     "output_type": "display_data"
    },
    {
     "name": "stdout",
     "output_type": "stream",
     "text": [
      "Train on 8000 samples, validate on 2000 samples\n",
      "Epoch 1/2\n",
      "8000/8000 - 2s - loss: 0.2087 - mean_squared_error: 0.2086 - mean_absolute_error: 0.4302 - val_loss: 0.1906 - val_mean_squared_error: 0.1905 - val_mean_absolute_error: 0.4075\n",
      "Epoch 2/2\n",
      "8000/8000 - 1s - loss: 0.1821 - mean_squared_error: 0.1820 - mean_absolute_error: 0.3966 - val_loss: 0.1681 - val_mean_squared_error: 0.1680 - val_mean_absolute_error: 0.3809\n"
     ]
    },
    {
     "data": {
      "text/html": [
       "<span style=\"color:#4527A0\"><h1 style=\"font-size:18px\">Trial complete</h1></span>"
      ],
      "text/plain": [
       "<IPython.core.display.HTML object>"
      ]
     },
     "metadata": {},
     "output_type": "display_data"
    },
    {
     "data": {
      "text/html": [
       "<span style=\"color:#4527A0\"><h1 style=\"font-size:18px\">Trial summary</h1></span>"
      ],
      "text/plain": [
       "<IPython.core.display.HTML object>"
      ]
     },
     "metadata": {},
     "output_type": "display_data"
    },
    {
     "data": {
      "text/html": [
       "<span style=\"color:cyan\"> |-Trial ID: 9d03845a9820aa7a97f136e115e34014</span>"
      ],
      "text/plain": [
       "<IPython.core.display.HTML object>"
      ]
     },
     "metadata": {},
     "output_type": "display_data"
    },
    {
     "data": {
      "text/html": [
       "<span style=\"color:cyan\"> |-Score: 0.16799220442771912</span>"
      ],
      "text/plain": [
       "<IPython.core.display.HTML object>"
      ]
     },
     "metadata": {},
     "output_type": "display_data"
    },
    {
     "data": {
      "text/html": [
       "<span style=\"color:cyan\"> |-Best step: 0</span>"
      ],
      "text/plain": [
       "<IPython.core.display.HTML object>"
      ]
     },
     "metadata": {},
     "output_type": "display_data"
    },
    {
     "data": {
      "text/html": [
       "<span style=\"color:#7E57C2\"><h2 style=\"font-size:16px\">Hyperparameters:</h2></span>"
      ],
      "text/plain": [
       "<IPython.core.display.HTML object>"
      ]
     },
     "metadata": {},
     "output_type": "display_data"
    },
    {
     "data": {
      "text/html": [
       "<span style=\"color:cyan\"> |-hidden_units: 116</span>"
      ],
      "text/plain": [
       "<IPython.core.display.HTML object>"
      ]
     },
     "metadata": {},
     "output_type": "display_data"
    },
    {
     "data": {
      "text/html": [
       "<span style=\"color:blue\"> |-learning_rate: 0.0001</span>"
      ],
      "text/plain": [
       "<IPython.core.display.HTML object>"
      ]
     },
     "metadata": {},
     "output_type": "display_data"
    },
    {
     "data": {
      "text/html": [
       "<span style=\"color:cyan\"> |-tuner/bracket: 3</span>"
      ],
      "text/plain": [
       "<IPython.core.display.HTML object>"
      ]
     },
     "metadata": {},
     "output_type": "display_data"
    },
    {
     "data": {
      "text/html": [
       "<span style=\"color:blue\"> |-tuner/epochs: 2</span>"
      ],
      "text/plain": [
       "<IPython.core.display.HTML object>"
      ]
     },
     "metadata": {},
     "output_type": "display_data"
    },
    {
     "data": {
      "text/html": [
       "<span style=\"color:cyan\"> |-tuner/initial_epoch: 0</span>"
      ],
      "text/plain": [
       "<IPython.core.display.HTML object>"
      ]
     },
     "metadata": {},
     "output_type": "display_data"
    },
    {
     "data": {
      "text/html": [
       "<span style=\"color:blue\"> |-tuner/round: 0</span>"
      ],
      "text/plain": [
       "<IPython.core.display.HTML object>"
      ]
     },
     "metadata": {},
     "output_type": "display_data"
    },
    {
     "name": "stdout",
     "output_type": "stream",
     "text": [
      "Train on 8000 samples, validate on 2000 samples\n",
      "Epoch 1/2\n",
      "8000/8000 - 2s - loss: 0.2207 - mean_squared_error: 0.2206 - mean_absolute_error: 0.4378 - val_loss: 0.2038 - val_mean_squared_error: 0.2036 - val_mean_absolute_error: 0.4197\n",
      "Epoch 2/2\n",
      "8000/8000 - 1s - loss: 0.1962 - mean_squared_error: 0.1961 - mean_absolute_error: 0.4101 - val_loss: 0.1849 - val_mean_squared_error: 0.1848 - val_mean_absolute_error: 0.3983\n"
     ]
    },
    {
     "data": {
      "text/html": [
       "<span style=\"color:#4527A0\"><h1 style=\"font-size:18px\">Trial complete</h1></span>"
      ],
      "text/plain": [
       "<IPython.core.display.HTML object>"
      ]
     },
     "metadata": {},
     "output_type": "display_data"
    },
    {
     "data": {
      "text/html": [
       "<span style=\"color:#4527A0\"><h1 style=\"font-size:18px\">Trial summary</h1></span>"
      ],
      "text/plain": [
       "<IPython.core.display.HTML object>"
      ]
     },
     "metadata": {},
     "output_type": "display_data"
    },
    {
     "data": {
      "text/html": [
       "<span style=\"color:cyan\"> |-Trial ID: 54f03798e71626fd7f99bf42f28c190a</span>"
      ],
      "text/plain": [
       "<IPython.core.display.HTML object>"
      ]
     },
     "metadata": {},
     "output_type": "display_data"
    },
    {
     "data": {
      "text/html": [
       "<span style=\"color:cyan\"> |-Score: 0.1848381906747818</span>"
      ],
      "text/plain": [
       "<IPython.core.display.HTML object>"
      ]
     },
     "metadata": {},
     "output_type": "display_data"
    },
    {
     "data": {
      "text/html": [
       "<span style=\"color:cyan\"> |-Best step: 0</span>"
      ],
      "text/plain": [
       "<IPython.core.display.HTML object>"
      ]
     },
     "metadata": {},
     "output_type": "display_data"
    },
    {
     "data": {
      "text/html": [
       "<span style=\"color:#7E57C2\"><h2 style=\"font-size:16px\">Hyperparameters:</h2></span>"
      ],
      "text/plain": [
       "<IPython.core.display.HTML object>"
      ]
     },
     "metadata": {},
     "output_type": "display_data"
    },
    {
     "data": {
      "text/html": [
       "<span style=\"color:cyan\"> |-hidden_units: 80</span>"
      ],
      "text/plain": [
       "<IPython.core.display.HTML object>"
      ]
     },
     "metadata": {},
     "output_type": "display_data"
    },
    {
     "data": {
      "text/html": [
       "<span style=\"color:blue\"> |-learning_rate: 0.0001</span>"
      ],
      "text/plain": [
       "<IPython.core.display.HTML object>"
      ]
     },
     "metadata": {},
     "output_type": "display_data"
    },
    {
     "data": {
      "text/html": [
       "<span style=\"color:cyan\"> |-tuner/bracket: 3</span>"
      ],
      "text/plain": [
       "<IPython.core.display.HTML object>"
      ]
     },
     "metadata": {},
     "output_type": "display_data"
    },
    {
     "data": {
      "text/html": [
       "<span style=\"color:blue\"> |-tuner/epochs: 2</span>"
      ],
      "text/plain": [
       "<IPython.core.display.HTML object>"
      ]
     },
     "metadata": {},
     "output_type": "display_data"
    },
    {
     "data": {
      "text/html": [
       "<span style=\"color:cyan\"> |-tuner/initial_epoch: 0</span>"
      ],
      "text/plain": [
       "<IPython.core.display.HTML object>"
      ]
     },
     "metadata": {},
     "output_type": "display_data"
    },
    {
     "data": {
      "text/html": [
       "<span style=\"color:blue\"> |-tuner/round: 0</span>"
      ],
      "text/plain": [
       "<IPython.core.display.HTML object>"
      ]
     },
     "metadata": {},
     "output_type": "display_data"
    },
    {
     "name": "stdout",
     "output_type": "stream",
     "text": [
      "Train on 8000 samples, validate on 2000 samples\n",
      "Epoch 1/2\n",
      "8000/8000 - 2s - loss: 0.0188 - mean_squared_error: 0.0183 - mean_absolute_error: 0.0793 - val_loss: 0.0021 - val_mean_squared_error: 0.0015 - val_mean_absolute_error: 0.0265\n",
      "Epoch 2/2\n",
      "8000/8000 - 1s - loss: 0.0042 - mean_squared_error: 0.0035 - mean_absolute_error: 0.0353 - val_loss: 0.0022 - val_mean_squared_error: 0.0015 - val_mean_absolute_error: 0.0244\n"
     ]
    },
    {
     "data": {
      "text/html": [
       "<span style=\"color:#4527A0\"><h1 style=\"font-size:18px\">Trial complete</h1></span>"
      ],
      "text/plain": [
       "<IPython.core.display.HTML object>"
      ]
     },
     "metadata": {},
     "output_type": "display_data"
    },
    {
     "data": {
      "text/html": [
       "<span style=\"color:#4527A0\"><h1 style=\"font-size:18px\">Trial summary</h1></span>"
      ],
      "text/plain": [
       "<IPython.core.display.HTML object>"
      ]
     },
     "metadata": {},
     "output_type": "display_data"
    },
    {
     "data": {
      "text/html": [
       "<span style=\"color:cyan\"> |-Trial ID: d3fd2ee1527348094a760d1489b91b32</span>"
      ],
      "text/plain": [
       "<IPython.core.display.HTML object>"
      ]
     },
     "metadata": {},
     "output_type": "display_data"
    },
    {
     "data": {
      "text/html": [
       "<span style=\"color:cyan\"> |-Score: 0.001515094772912562</span>"
      ],
      "text/plain": [
       "<IPython.core.display.HTML object>"
      ]
     },
     "metadata": {},
     "output_type": "display_data"
    },
    {
     "data": {
      "text/html": [
       "<span style=\"color:cyan\"> |-Best step: 0</span>"
      ],
      "text/plain": [
       "<IPython.core.display.HTML object>"
      ]
     },
     "metadata": {},
     "output_type": "display_data"
    },
    {
     "data": {
      "text/html": [
       "<span style=\"color:#7E57C2\"><h2 style=\"font-size:16px\">Hyperparameters:</h2></span>"
      ],
      "text/plain": [
       "<IPython.core.display.HTML object>"
      ]
     },
     "metadata": {},
     "output_type": "display_data"
    },
    {
     "data": {
      "text/html": [
       "<span style=\"color:cyan\"> |-hidden_units: 136</span>"
      ],
      "text/plain": [
       "<IPython.core.display.HTML object>"
      ]
     },
     "metadata": {},
     "output_type": "display_data"
    },
    {
     "data": {
      "text/html": [
       "<span style=\"color:blue\"> |-learning_rate: 0.01</span>"
      ],
      "text/plain": [
       "<IPython.core.display.HTML object>"
      ]
     },
     "metadata": {},
     "output_type": "display_data"
    },
    {
     "data": {
      "text/html": [
       "<span style=\"color:cyan\"> |-tuner/bracket: 3</span>"
      ],
      "text/plain": [
       "<IPython.core.display.HTML object>"
      ]
     },
     "metadata": {},
     "output_type": "display_data"
    },
    {
     "data": {
      "text/html": [
       "<span style=\"color:blue\"> |-tuner/epochs: 2</span>"
      ],
      "text/plain": [
       "<IPython.core.display.HTML object>"
      ]
     },
     "metadata": {},
     "output_type": "display_data"
    },
    {
     "data": {
      "text/html": [
       "<span style=\"color:cyan\"> |-tuner/initial_epoch: 0</span>"
      ],
      "text/plain": [
       "<IPython.core.display.HTML object>"
      ]
     },
     "metadata": {},
     "output_type": "display_data"
    },
    {
     "data": {
      "text/html": [
       "<span style=\"color:blue\"> |-tuner/round: 0</span>"
      ],
      "text/plain": [
       "<IPython.core.display.HTML object>"
      ]
     },
     "metadata": {},
     "output_type": "display_data"
    },
    {
     "name": "stdout",
     "output_type": "stream",
     "text": [
      "Train on 8000 samples, validate on 2000 samples\n",
      "Epoch 1/2\n",
      "8000/8000 - 2s - loss: 0.1242 - mean_squared_error: 0.1241 - mean_absolute_error: 0.3163 - val_loss: 0.0533 - val_mean_squared_error: 0.0531 - val_mean_absolute_error: 0.2024\n",
      "Epoch 2/2\n",
      "8000/8000 - 1s - loss: 0.0306 - mean_squared_error: 0.0303 - mean_absolute_error: 0.1465 - val_loss: 0.0127 - val_mean_squared_error: 0.0123 - val_mean_absolute_error: 0.0979\n"
     ]
    },
    {
     "data": {
      "text/html": [
       "<span style=\"color:#4527A0\"><h1 style=\"font-size:18px\">Trial complete</h1></span>"
      ],
      "text/plain": [
       "<IPython.core.display.HTML object>"
      ]
     },
     "metadata": {},
     "output_type": "display_data"
    },
    {
     "data": {
      "text/html": [
       "<span style=\"color:#4527A0\"><h1 style=\"font-size:18px\">Trial summary</h1></span>"
      ],
      "text/plain": [
       "<IPython.core.display.HTML object>"
      ]
     },
     "metadata": {},
     "output_type": "display_data"
    },
    {
     "data": {
      "text/html": [
       "<span style=\"color:cyan\"> |-Trial ID: d391b41c33572edb754eab718a2d70ee</span>"
      ],
      "text/plain": [
       "<IPython.core.display.HTML object>"
      ]
     },
     "metadata": {},
     "output_type": "display_data"
    },
    {
     "data": {
      "text/html": [
       "<span style=\"color:cyan\"> |-Score: 0.012343441136181355</span>"
      ],
      "text/plain": [
       "<IPython.core.display.HTML object>"
      ]
     },
     "metadata": {},
     "output_type": "display_data"
    },
    {
     "data": {
      "text/html": [
       "<span style=\"color:cyan\"> |-Best step: 0</span>"
      ],
      "text/plain": [
       "<IPython.core.display.HTML object>"
      ]
     },
     "metadata": {},
     "output_type": "display_data"
    },
    {
     "data": {
      "text/html": [
       "<span style=\"color:#7E57C2\"><h2 style=\"font-size:16px\">Hyperparameters:</h2></span>"
      ],
      "text/plain": [
       "<IPython.core.display.HTML object>"
      ]
     },
     "metadata": {},
     "output_type": "display_data"
    },
    {
     "data": {
      "text/html": [
       "<span style=\"color:cyan\"> |-hidden_units: 102</span>"
      ],
      "text/plain": [
       "<IPython.core.display.HTML object>"
      ]
     },
     "metadata": {},
     "output_type": "display_data"
    },
    {
     "data": {
      "text/html": [
       "<span style=\"color:blue\"> |-learning_rate: 0.001</span>"
      ],
      "text/plain": [
       "<IPython.core.display.HTML object>"
      ]
     },
     "metadata": {},
     "output_type": "display_data"
    },
    {
     "data": {
      "text/html": [
       "<span style=\"color:cyan\"> |-tuner/bracket: 3</span>"
      ],
      "text/plain": [
       "<IPython.core.display.HTML object>"
      ]
     },
     "metadata": {},
     "output_type": "display_data"
    },
    {
     "data": {
      "text/html": [
       "<span style=\"color:blue\"> |-tuner/epochs: 2</span>"
      ],
      "text/plain": [
       "<IPython.core.display.HTML object>"
      ]
     },
     "metadata": {},
     "output_type": "display_data"
    },
    {
     "data": {
      "text/html": [
       "<span style=\"color:cyan\"> |-tuner/initial_epoch: 0</span>"
      ],
      "text/plain": [
       "<IPython.core.display.HTML object>"
      ]
     },
     "metadata": {},
     "output_type": "display_data"
    },
    {
     "data": {
      "text/html": [
       "<span style=\"color:blue\"> |-tuner/round: 0</span>"
      ],
      "text/plain": [
       "<IPython.core.display.HTML object>"
      ]
     },
     "metadata": {},
     "output_type": "display_data"
    },
    {
     "name": "stdout",
     "output_type": "stream",
     "text": [
      "Train on 8000 samples, validate on 2000 samples\n",
      "Epoch 1/2\n",
      "8000/8000 - 2s - loss: 0.1288 - mean_squared_error: 0.1287 - mean_absolute_error: 0.3242 - val_loss: 0.0597 - val_mean_squared_error: 0.0596 - val_mean_absolute_error: 0.2147\n",
      "Epoch 2/2\n",
      "8000/8000 - 1s - loss: 0.0357 - mean_squared_error: 0.0354 - mean_absolute_error: 0.1584 - val_loss: 0.0156 - val_mean_squared_error: 0.0153 - val_mean_absolute_error: 0.1076\n"
     ]
    },
    {
     "data": {
      "text/html": [
       "<span style=\"color:#4527A0\"><h1 style=\"font-size:18px\">Trial complete</h1></span>"
      ],
      "text/plain": [
       "<IPython.core.display.HTML object>"
      ]
     },
     "metadata": {},
     "output_type": "display_data"
    },
    {
     "data": {
      "text/html": [
       "<span style=\"color:#4527A0\"><h1 style=\"font-size:18px\">Trial summary</h1></span>"
      ],
      "text/plain": [
       "<IPython.core.display.HTML object>"
      ]
     },
     "metadata": {},
     "output_type": "display_data"
    },
    {
     "data": {
      "text/html": [
       "<span style=\"color:cyan\"> |-Trial ID: 96e2bcc0c77ad026b3d4db6817fb9714</span>"
      ],
      "text/plain": [
       "<IPython.core.display.HTML object>"
      ]
     },
     "metadata": {},
     "output_type": "display_data"
    },
    {
     "data": {
      "text/html": [
       "<span style=\"color:cyan\"> |-Score: 0.015304094180464745</span>"
      ],
      "text/plain": [
       "<IPython.core.display.HTML object>"
      ]
     },
     "metadata": {},
     "output_type": "display_data"
    },
    {
     "data": {
      "text/html": [
       "<span style=\"color:cyan\"> |-Best step: 0</span>"
      ],
      "text/plain": [
       "<IPython.core.display.HTML object>"
      ]
     },
     "metadata": {},
     "output_type": "display_data"
    },
    {
     "data": {
      "text/html": [
       "<span style=\"color:#7E57C2\"><h2 style=\"font-size:16px\">Hyperparameters:</h2></span>"
      ],
      "text/plain": [
       "<IPython.core.display.HTML object>"
      ]
     },
     "metadata": {},
     "output_type": "display_data"
    },
    {
     "data": {
      "text/html": [
       "<span style=\"color:cyan\"> |-hidden_units: 94</span>"
      ],
      "text/plain": [
       "<IPython.core.display.HTML object>"
      ]
     },
     "metadata": {},
     "output_type": "display_data"
    },
    {
     "data": {
      "text/html": [
       "<span style=\"color:blue\"> |-learning_rate: 0.001</span>"
      ],
      "text/plain": [
       "<IPython.core.display.HTML object>"
      ]
     },
     "metadata": {},
     "output_type": "display_data"
    },
    {
     "data": {
      "text/html": [
       "<span style=\"color:cyan\"> |-tuner/bracket: 3</span>"
      ],
      "text/plain": [
       "<IPython.core.display.HTML object>"
      ]
     },
     "metadata": {},
     "output_type": "display_data"
    },
    {
     "data": {
      "text/html": [
       "<span style=\"color:blue\"> |-tuner/epochs: 2</span>"
      ],
      "text/plain": [
       "<IPython.core.display.HTML object>"
      ]
     },
     "metadata": {},
     "output_type": "display_data"
    },
    {
     "data": {
      "text/html": [
       "<span style=\"color:cyan\"> |-tuner/initial_epoch: 0</span>"
      ],
      "text/plain": [
       "<IPython.core.display.HTML object>"
      ]
     },
     "metadata": {},
     "output_type": "display_data"
    },
    {
     "data": {
      "text/html": [
       "<span style=\"color:blue\"> |-tuner/round: 0</span>"
      ],
      "text/plain": [
       "<IPython.core.display.HTML object>"
      ]
     },
     "metadata": {},
     "output_type": "display_data"
    },
    {
     "name": "stdout",
     "output_type": "stream",
     "text": [
      "Train on 8000 samples, validate on 2000 samples\n",
      "Epoch 1/2\n",
      "8000/8000 - 2s - loss: 0.1002 - mean_squared_error: 0.1000 - mean_absolute_error: 0.2789 - val_loss: 0.0294 - val_mean_squared_error: 0.0291 - val_mean_absolute_error: 0.1502\n",
      "Epoch 2/2\n",
      "8000/8000 - 1s - loss: 0.0156 - mean_squared_error: 0.0152 - mean_absolute_error: 0.1047 - val_loss: 0.0064 - val_mean_squared_error: 0.0060 - val_mean_absolute_error: 0.0688\n"
     ]
    },
    {
     "data": {
      "text/html": [
       "<span style=\"color:#4527A0\"><h1 style=\"font-size:18px\">Trial complete</h1></span>"
      ],
      "text/plain": [
       "<IPython.core.display.HTML object>"
      ]
     },
     "metadata": {},
     "output_type": "display_data"
    },
    {
     "data": {
      "text/html": [
       "<span style=\"color:#4527A0\"><h1 style=\"font-size:18px\">Trial summary</h1></span>"
      ],
      "text/plain": [
       "<IPython.core.display.HTML object>"
      ]
     },
     "metadata": {},
     "output_type": "display_data"
    },
    {
     "data": {
      "text/html": [
       "<span style=\"color:cyan\"> |-Trial ID: ff6396ae37833192dbd89bb2e73fbe0e</span>"
      ],
      "text/plain": [
       "<IPython.core.display.HTML object>"
      ]
     },
     "metadata": {},
     "output_type": "display_data"
    },
    {
     "data": {
      "text/html": [
       "<span style=\"color:cyan\"> |-Score: 0.005972430109977722</span>"
      ],
      "text/plain": [
       "<IPython.core.display.HTML object>"
      ]
     },
     "metadata": {},
     "output_type": "display_data"
    },
    {
     "data": {
      "text/html": [
       "<span style=\"color:cyan\"> |-Best step: 0</span>"
      ],
      "text/plain": [
       "<IPython.core.display.HTML object>"
      ]
     },
     "metadata": {},
     "output_type": "display_data"
    },
    {
     "data": {
      "text/html": [
       "<span style=\"color:#7E57C2\"><h2 style=\"font-size:16px\">Hyperparameters:</h2></span>"
      ],
      "text/plain": [
       "<IPython.core.display.HTML object>"
      ]
     },
     "metadata": {},
     "output_type": "display_data"
    },
    {
     "data": {
      "text/html": [
       "<span style=\"color:cyan\"> |-hidden_units: 180</span>"
      ],
      "text/plain": [
       "<IPython.core.display.HTML object>"
      ]
     },
     "metadata": {},
     "output_type": "display_data"
    },
    {
     "data": {
      "text/html": [
       "<span style=\"color:blue\"> |-learning_rate: 0.001</span>"
      ],
      "text/plain": [
       "<IPython.core.display.HTML object>"
      ]
     },
     "metadata": {},
     "output_type": "display_data"
    },
    {
     "data": {
      "text/html": [
       "<span style=\"color:cyan\"> |-tuner/bracket: 3</span>"
      ],
      "text/plain": [
       "<IPython.core.display.HTML object>"
      ]
     },
     "metadata": {},
     "output_type": "display_data"
    },
    {
     "data": {
      "text/html": [
       "<span style=\"color:blue\"> |-tuner/epochs: 2</span>"
      ],
      "text/plain": [
       "<IPython.core.display.HTML object>"
      ]
     },
     "metadata": {},
     "output_type": "display_data"
    },
    {
     "data": {
      "text/html": [
       "<span style=\"color:cyan\"> |-tuner/initial_epoch: 0</span>"
      ],
      "text/plain": [
       "<IPython.core.display.HTML object>"
      ]
     },
     "metadata": {},
     "output_type": "display_data"
    },
    {
     "data": {
      "text/html": [
       "<span style=\"color:blue\"> |-tuner/round: 0</span>"
      ],
      "text/plain": [
       "<IPython.core.display.HTML object>"
      ]
     },
     "metadata": {},
     "output_type": "display_data"
    },
    {
     "name": "stdout",
     "output_type": "stream",
     "text": [
      "Train on 8000 samples, validate on 2000 samples\n",
      "Epoch 1/2\n",
      "8000/8000 - 2s - loss: 0.0221 - mean_squared_error: 0.0216 - mean_absolute_error: 0.0890 - val_loss: 0.0020 - val_mean_squared_error: 0.0014 - val_mean_absolute_error: 0.0267\n",
      "Epoch 2/2\n",
      "8000/8000 - 1s - loss: 0.0046 - mean_squared_error: 0.0039 - mean_absolute_error: 0.0372 - val_loss: 0.0026 - val_mean_squared_error: 0.0019 - val_mean_absolute_error: 0.0273\n"
     ]
    },
    {
     "data": {
      "text/html": [
       "<span style=\"color:#4527A0\"><h1 style=\"font-size:18px\">Trial complete</h1></span>"
      ],
      "text/plain": [
       "<IPython.core.display.HTML object>"
      ]
     },
     "metadata": {},
     "output_type": "display_data"
    },
    {
     "data": {
      "text/html": [
       "<span style=\"color:#4527A0\"><h1 style=\"font-size:18px\">Trial summary</h1></span>"
      ],
      "text/plain": [
       "<IPython.core.display.HTML object>"
      ]
     },
     "metadata": {},
     "output_type": "display_data"
    },
    {
     "data": {
      "text/html": [
       "<span style=\"color:cyan\"> |-Trial ID: 8a409725500f81fed5eba4d4ad0081b1</span>"
      ],
      "text/plain": [
       "<IPython.core.display.HTML object>"
      ]
     },
     "metadata": {},
     "output_type": "display_data"
    },
    {
     "data": {
      "text/html": [
       "<span style=\"color:cyan\"> |-Score: 0.0013935700990259647</span>"
      ],
      "text/plain": [
       "<IPython.core.display.HTML object>"
      ]
     },
     "metadata": {},
     "output_type": "display_data"
    },
    {
     "data": {
      "text/html": [
       "<span style=\"color:cyan\"> |-Best step: 0</span>"
      ],
      "text/plain": [
       "<IPython.core.display.HTML object>"
      ]
     },
     "metadata": {},
     "output_type": "display_data"
    },
    {
     "data": {
      "text/html": [
       "<span style=\"color:#7E57C2\"><h2 style=\"font-size:16px\">Hyperparameters:</h2></span>"
      ],
      "text/plain": [
       "<IPython.core.display.HTML object>"
      ]
     },
     "metadata": {},
     "output_type": "display_data"
    },
    {
     "data": {
      "text/html": [
       "<span style=\"color:cyan\"> |-hidden_units: 110</span>"
      ],
      "text/plain": [
       "<IPython.core.display.HTML object>"
      ]
     },
     "metadata": {},
     "output_type": "display_data"
    },
    {
     "data": {
      "text/html": [
       "<span style=\"color:blue\"> |-learning_rate: 0.01</span>"
      ],
      "text/plain": [
       "<IPython.core.display.HTML object>"
      ]
     },
     "metadata": {},
     "output_type": "display_data"
    },
    {
     "data": {
      "text/html": [
       "<span style=\"color:cyan\"> |-tuner/bracket: 3</span>"
      ],
      "text/plain": [
       "<IPython.core.display.HTML object>"
      ]
     },
     "metadata": {},
     "output_type": "display_data"
    },
    {
     "data": {
      "text/html": [
       "<span style=\"color:blue\"> |-tuner/epochs: 2</span>"
      ],
      "text/plain": [
       "<IPython.core.display.HTML object>"
      ]
     },
     "metadata": {},
     "output_type": "display_data"
    },
    {
     "data": {
      "text/html": [
       "<span style=\"color:cyan\"> |-tuner/initial_epoch: 0</span>"
      ],
      "text/plain": [
       "<IPython.core.display.HTML object>"
      ]
     },
     "metadata": {},
     "output_type": "display_data"
    },
    {
     "data": {
      "text/html": [
       "<span style=\"color:blue\"> |-tuner/round: 0</span>"
      ],
      "text/plain": [
       "<IPython.core.display.HTML object>"
      ]
     },
     "metadata": {},
     "output_type": "display_data"
    },
    {
     "name": "stdout",
     "output_type": "stream",
     "text": [
      "Train on 8000 samples, validate on 2000 samples\n",
      "Epoch 1/2\n",
      "8000/8000 - 2s - loss: 0.2024 - mean_squared_error: 0.2023 - mean_absolute_error: 0.4236 - val_loss: 0.1828 - val_mean_squared_error: 0.1827 - val_mean_absolute_error: 0.4001\n",
      "Epoch 2/2\n",
      "8000/8000 - 1s - loss: 0.1685 - mean_squared_error: 0.1684 - mean_absolute_error: 0.3833 - val_loss: 0.1519 - val_mean_squared_error: 0.1518 - val_mean_absolute_error: 0.3637\n"
     ]
    },
    {
     "data": {
      "text/html": [
       "<span style=\"color:#4527A0\"><h1 style=\"font-size:18px\">Trial complete</h1></span>"
      ],
      "text/plain": [
       "<IPython.core.display.HTML object>"
      ]
     },
     "metadata": {},
     "output_type": "display_data"
    },
    {
     "data": {
      "text/html": [
       "<span style=\"color:#4527A0\"><h1 style=\"font-size:18px\">Trial summary</h1></span>"
      ],
      "text/plain": [
       "<IPython.core.display.HTML object>"
      ]
     },
     "metadata": {},
     "output_type": "display_data"
    },
    {
     "data": {
      "text/html": [
       "<span style=\"color:cyan\"> |-Trial ID: 8f5e740ee0a5a015f19e6e7d48847cbe</span>"
      ],
      "text/plain": [
       "<IPython.core.display.HTML object>"
      ]
     },
     "metadata": {},
     "output_type": "display_data"
    },
    {
     "data": {
      "text/html": [
       "<span style=\"color:cyan\"> |-Score: 0.15179839730262756</span>"
      ],
      "text/plain": [
       "<IPython.core.display.HTML object>"
      ]
     },
     "metadata": {},
     "output_type": "display_data"
    },
    {
     "data": {
      "text/html": [
       "<span style=\"color:cyan\"> |-Best step: 0</span>"
      ],
      "text/plain": [
       "<IPython.core.display.HTML object>"
      ]
     },
     "metadata": {},
     "output_type": "display_data"
    },
    {
     "data": {
      "text/html": [
       "<span style=\"color:#7E57C2\"><h2 style=\"font-size:16px\">Hyperparameters:</h2></span>"
      ],
      "text/plain": [
       "<IPython.core.display.HTML object>"
      ]
     },
     "metadata": {},
     "output_type": "display_data"
    },
    {
     "data": {
      "text/html": [
       "<span style=\"color:cyan\"> |-hidden_units: 196</span>"
      ],
      "text/plain": [
       "<IPython.core.display.HTML object>"
      ]
     },
     "metadata": {},
     "output_type": "display_data"
    },
    {
     "data": {
      "text/html": [
       "<span style=\"color:blue\"> |-learning_rate: 0.0001</span>"
      ],
      "text/plain": [
       "<IPython.core.display.HTML object>"
      ]
     },
     "metadata": {},
     "output_type": "display_data"
    },
    {
     "data": {
      "text/html": [
       "<span style=\"color:cyan\"> |-tuner/bracket: 3</span>"
      ],
      "text/plain": [
       "<IPython.core.display.HTML object>"
      ]
     },
     "metadata": {},
     "output_type": "display_data"
    },
    {
     "data": {
      "text/html": [
       "<span style=\"color:blue\"> |-tuner/epochs: 2</span>"
      ],
      "text/plain": [
       "<IPython.core.display.HTML object>"
      ]
     },
     "metadata": {},
     "output_type": "display_data"
    },
    {
     "data": {
      "text/html": [
       "<span style=\"color:cyan\"> |-tuner/initial_epoch: 0</span>"
      ],
      "text/plain": [
       "<IPython.core.display.HTML object>"
      ]
     },
     "metadata": {},
     "output_type": "display_data"
    },
    {
     "data": {
      "text/html": [
       "<span style=\"color:blue\"> |-tuner/round: 0</span>"
      ],
      "text/plain": [
       "<IPython.core.display.HTML object>"
      ]
     },
     "metadata": {},
     "output_type": "display_data"
    },
    {
     "name": "stdout",
     "output_type": "stream",
     "text": [
      "Train on 8000 samples, validate on 2000 samples\n",
      "Epoch 1/2\n",
      "8000/8000 - 2s - loss: 0.0160 - mean_squared_error: 0.0155 - mean_absolute_error: 0.0703 - val_loss: 0.0017 - val_mean_squared_error: 0.0011 - val_mean_absolute_error: 0.0233\n",
      "Epoch 2/2\n",
      "8000/8000 - 1s - loss: 0.0037 - mean_squared_error: 0.0030 - mean_absolute_error: 0.0323 - val_loss: 0.0029 - val_mean_squared_error: 0.0022 - val_mean_absolute_error: 0.0277\n"
     ]
    },
    {
     "data": {
      "text/html": [
       "<span style=\"color:#4527A0\"><h1 style=\"font-size:18px\">Trial complete</h1></span>"
      ],
      "text/plain": [
       "<IPython.core.display.HTML object>"
      ]
     },
     "metadata": {},
     "output_type": "display_data"
    },
    {
     "data": {
      "text/html": [
       "<span style=\"color:#4527A0\"><h1 style=\"font-size:18px\">Trial summary</h1></span>"
      ],
      "text/plain": [
       "<IPython.core.display.HTML object>"
      ]
     },
     "metadata": {},
     "output_type": "display_data"
    },
    {
     "data": {
      "text/html": [
       "<span style=\"color:cyan\"> |-Trial ID: 93f0cec631a9f7e72738fcd67af05183</span>"
      ],
      "text/plain": [
       "<IPython.core.display.HTML object>"
      ]
     },
     "metadata": {},
     "output_type": "display_data"
    },
    {
     "data": {
      "text/html": [
       "<span style=\"color:cyan\"> |-Score: 0.0011025858111679554</span>"
      ],
      "text/plain": [
       "<IPython.core.display.HTML object>"
      ]
     },
     "metadata": {},
     "output_type": "display_data"
    },
    {
     "data": {
      "text/html": [
       "<span style=\"color:cyan\"> |-Best step: 0</span>"
      ],
      "text/plain": [
       "<IPython.core.display.HTML object>"
      ]
     },
     "metadata": {},
     "output_type": "display_data"
    },
    {
     "data": {
      "text/html": [
       "<span style=\"color:#7E57C2\"><h2 style=\"font-size:16px\">Hyperparameters:</h2></span>"
      ],
      "text/plain": [
       "<IPython.core.display.HTML object>"
      ]
     },
     "metadata": {},
     "output_type": "display_data"
    },
    {
     "data": {
      "text/html": [
       "<span style=\"color:cyan\"> |-hidden_units: 194</span>"
      ],
      "text/plain": [
       "<IPython.core.display.HTML object>"
      ]
     },
     "metadata": {},
     "output_type": "display_data"
    },
    {
     "data": {
      "text/html": [
       "<span style=\"color:blue\"> |-learning_rate: 0.01</span>"
      ],
      "text/plain": [
       "<IPython.core.display.HTML object>"
      ]
     },
     "metadata": {},
     "output_type": "display_data"
    },
    {
     "data": {
      "text/html": [
       "<span style=\"color:cyan\"> |-tuner/bracket: 3</span>"
      ],
      "text/plain": [
       "<IPython.core.display.HTML object>"
      ]
     },
     "metadata": {},
     "output_type": "display_data"
    },
    {
     "data": {
      "text/html": [
       "<span style=\"color:blue\"> |-tuner/epochs: 2</span>"
      ],
      "text/plain": [
       "<IPython.core.display.HTML object>"
      ]
     },
     "metadata": {},
     "output_type": "display_data"
    },
    {
     "data": {
      "text/html": [
       "<span style=\"color:cyan\"> |-tuner/initial_epoch: 0</span>"
      ],
      "text/plain": [
       "<IPython.core.display.HTML object>"
      ]
     },
     "metadata": {},
     "output_type": "display_data"
    },
    {
     "data": {
      "text/html": [
       "<span style=\"color:blue\"> |-tuner/round: 0</span>"
      ],
      "text/plain": [
       "<IPython.core.display.HTML object>"
      ]
     },
     "metadata": {},
     "output_type": "display_data"
    },
    {
     "name": "stdout",
     "output_type": "stream",
     "text": [
      "Train on 8000 samples, validate on 2000 samples\n",
      "Epoch 1/2\n",
      "8000/8000 - 2s - loss: 0.0203 - mean_squared_error: 0.0198 - mean_absolute_error: 0.0839 - val_loss: 0.0021 - val_mean_squared_error: 0.0015 - val_mean_absolute_error: 0.0268\n",
      "Epoch 2/2\n",
      "8000/8000 - 1s - loss: 0.0043 - mean_squared_error: 0.0036 - mean_absolute_error: 0.0358 - val_loss: 0.0021 - val_mean_squared_error: 0.0015 - val_mean_absolute_error: 0.0244\n"
     ]
    },
    {
     "data": {
      "text/html": [
       "<span style=\"color:#4527A0\"><h1 style=\"font-size:18px\">Trial complete</h1></span>"
      ],
      "text/plain": [
       "<IPython.core.display.HTML object>"
      ]
     },
     "metadata": {},
     "output_type": "display_data"
    },
    {
     "data": {
      "text/html": [
       "<span style=\"color:#4527A0\"><h1 style=\"font-size:18px\">Trial summary</h1></span>"
      ],
      "text/plain": [
       "<IPython.core.display.HTML object>"
      ]
     },
     "metadata": {},
     "output_type": "display_data"
    },
    {
     "data": {
      "text/html": [
       "<span style=\"color:cyan\"> |-Trial ID: 6fdbf5922361472bde8785ef3e238436</span>"
      ],
      "text/plain": [
       "<IPython.core.display.HTML object>"
      ]
     },
     "metadata": {},
     "output_type": "display_data"
    },
    {
     "data": {
      "text/html": [
       "<span style=\"color:cyan\"> |-Score: 0.001465033390559256</span>"
      ],
      "text/plain": [
       "<IPython.core.display.HTML object>"
      ]
     },
     "metadata": {},
     "output_type": "display_data"
    },
    {
     "data": {
      "text/html": [
       "<span style=\"color:cyan\"> |-Best step: 0</span>"
      ],
      "text/plain": [
       "<IPython.core.display.HTML object>"
      ]
     },
     "metadata": {},
     "output_type": "display_data"
    },
    {
     "data": {
      "text/html": [
       "<span style=\"color:#7E57C2\"><h2 style=\"font-size:16px\">Hyperparameters:</h2></span>"
      ],
      "text/plain": [
       "<IPython.core.display.HTML object>"
      ]
     },
     "metadata": {},
     "output_type": "display_data"
    },
    {
     "data": {
      "text/html": [
       "<span style=\"color:cyan\"> |-hidden_units: 124</span>"
      ],
      "text/plain": [
       "<IPython.core.display.HTML object>"
      ]
     },
     "metadata": {},
     "output_type": "display_data"
    },
    {
     "data": {
      "text/html": [
       "<span style=\"color:blue\"> |-learning_rate: 0.01</span>"
      ],
      "text/plain": [
       "<IPython.core.display.HTML object>"
      ]
     },
     "metadata": {},
     "output_type": "display_data"
    },
    {
     "data": {
      "text/html": [
       "<span style=\"color:cyan\"> |-tuner/bracket: 3</span>"
      ],
      "text/plain": [
       "<IPython.core.display.HTML object>"
      ]
     },
     "metadata": {},
     "output_type": "display_data"
    },
    {
     "data": {
      "text/html": [
       "<span style=\"color:blue\"> |-tuner/epochs: 2</span>"
      ],
      "text/plain": [
       "<IPython.core.display.HTML object>"
      ]
     },
     "metadata": {},
     "output_type": "display_data"
    },
    {
     "data": {
      "text/html": [
       "<span style=\"color:cyan\"> |-tuner/initial_epoch: 0</span>"
      ],
      "text/plain": [
       "<IPython.core.display.HTML object>"
      ]
     },
     "metadata": {},
     "output_type": "display_data"
    },
    {
     "data": {
      "text/html": [
       "<span style=\"color:blue\"> |-tuner/round: 0</span>"
      ],
      "text/plain": [
       "<IPython.core.display.HTML object>"
      ]
     },
     "metadata": {},
     "output_type": "display_data"
    },
    {
     "name": "stdout",
     "output_type": "stream",
     "text": [
      "Train on 8000 samples, validate on 2000 samples\n",
      "Epoch 1/2\n",
      "8000/8000 - 1s - loss: 0.1423 - mean_squared_error: 0.1422 - mean_absolute_error: 0.3420 - val_loss: 0.0753 - val_mean_squared_error: 0.0752 - val_mean_absolute_error: 0.2424\n",
      "Epoch 2/2\n",
      "8000/8000 - 1s - loss: 0.0487 - mean_squared_error: 0.0485 - mean_absolute_error: 0.1852 - val_loss: 0.0250 - val_mean_squared_error: 0.0247 - val_mean_absolute_error: 0.1344\n"
     ]
    },
    {
     "data": {
      "text/html": [
       "<span style=\"color:#4527A0\"><h1 style=\"font-size:18px\">Trial complete</h1></span>"
      ],
      "text/plain": [
       "<IPython.core.display.HTML object>"
      ]
     },
     "metadata": {},
     "output_type": "display_data"
    },
    {
     "data": {
      "text/html": [
       "<span style=\"color:#4527A0\"><h1 style=\"font-size:18px\">Trial summary</h1></span>"
      ],
      "text/plain": [
       "<IPython.core.display.HTML object>"
      ]
     },
     "metadata": {},
     "output_type": "display_data"
    },
    {
     "data": {
      "text/html": [
       "<span style=\"color:cyan\"> |-Trial ID: 357f39226ac090d98adeb052e568f09f</span>"
      ],
      "text/plain": [
       "<IPython.core.display.HTML object>"
      ]
     },
     "metadata": {},
     "output_type": "display_data"
    },
    {
     "data": {
      "text/html": [
       "<span style=\"color:cyan\"> |-Score: 0.024702776223421097</span>"
      ],
      "text/plain": [
       "<IPython.core.display.HTML object>"
      ]
     },
     "metadata": {},
     "output_type": "display_data"
    },
    {
     "data": {
      "text/html": [
       "<span style=\"color:cyan\"> |-Best step: 0</span>"
      ],
      "text/plain": [
       "<IPython.core.display.HTML object>"
      ]
     },
     "metadata": {},
     "output_type": "display_data"
    },
    {
     "data": {
      "text/html": [
       "<span style=\"color:#7E57C2\"><h2 style=\"font-size:16px\">Hyperparameters:</h2></span>"
      ],
      "text/plain": [
       "<IPython.core.display.HTML object>"
      ]
     },
     "metadata": {},
     "output_type": "display_data"
    },
    {
     "data": {
      "text/html": [
       "<span style=\"color:cyan\"> |-hidden_units: 76</span>"
      ],
      "text/plain": [
       "<IPython.core.display.HTML object>"
      ]
     },
     "metadata": {},
     "output_type": "display_data"
    },
    {
     "data": {
      "text/html": [
       "<span style=\"color:blue\"> |-learning_rate: 0.001</span>"
      ],
      "text/plain": [
       "<IPython.core.display.HTML object>"
      ]
     },
     "metadata": {},
     "output_type": "display_data"
    },
    {
     "data": {
      "text/html": [
       "<span style=\"color:cyan\"> |-tuner/bracket: 3</span>"
      ],
      "text/plain": [
       "<IPython.core.display.HTML object>"
      ]
     },
     "metadata": {},
     "output_type": "display_data"
    },
    {
     "data": {
      "text/html": [
       "<span style=\"color:blue\"> |-tuner/epochs: 2</span>"
      ],
      "text/plain": [
       "<IPython.core.display.HTML object>"
      ]
     },
     "metadata": {},
     "output_type": "display_data"
    },
    {
     "data": {
      "text/html": [
       "<span style=\"color:cyan\"> |-tuner/initial_epoch: 0</span>"
      ],
      "text/plain": [
       "<IPython.core.display.HTML object>"
      ]
     },
     "metadata": {},
     "output_type": "display_data"
    },
    {
     "data": {
      "text/html": [
       "<span style=\"color:blue\"> |-tuner/round: 0</span>"
      ],
      "text/plain": [
       "<IPython.core.display.HTML object>"
      ]
     },
     "metadata": {},
     "output_type": "display_data"
    },
    {
     "name": "stdout",
     "output_type": "stream",
     "text": [
      "Train on 8000 samples, validate on 2000 samples\n",
      "Epoch 1/2\n",
      "8000/8000 - 2s - loss: 0.0995 - mean_squared_error: 0.0993 - mean_absolute_error: 0.2771 - val_loss: 0.0280 - val_mean_squared_error: 0.0277 - val_mean_absolute_error: 0.1466\n",
      "Epoch 2/2\n",
      "8000/8000 - 1s - loss: 0.0147 - mean_squared_error: 0.0144 - mean_absolute_error: 0.1017 - val_loss: 0.0061 - val_mean_squared_error: 0.0057 - val_mean_absolute_error: 0.0671\n"
     ]
    },
    {
     "data": {
      "text/html": [
       "<span style=\"color:#4527A0\"><h1 style=\"font-size:18px\">Trial complete</h1></span>"
      ],
      "text/plain": [
       "<IPython.core.display.HTML object>"
      ]
     },
     "metadata": {},
     "output_type": "display_data"
    },
    {
     "data": {
      "text/html": [
       "<span style=\"color:#4527A0\"><h1 style=\"font-size:18px\">Trial summary</h1></span>"
      ],
      "text/plain": [
       "<IPython.core.display.HTML object>"
      ]
     },
     "metadata": {},
     "output_type": "display_data"
    },
    {
     "data": {
      "text/html": [
       "<span style=\"color:cyan\"> |-Trial ID: d64af22588c896f6bcc75ea46c0b398f</span>"
      ],
      "text/plain": [
       "<IPython.core.display.HTML object>"
      ]
     },
     "metadata": {},
     "output_type": "display_data"
    },
    {
     "data": {
      "text/html": [
       "<span style=\"color:cyan\"> |-Score: 0.005696925800293684</span>"
      ],
      "text/plain": [
       "<IPython.core.display.HTML object>"
      ]
     },
     "metadata": {},
     "output_type": "display_data"
    },
    {
     "data": {
      "text/html": [
       "<span style=\"color:cyan\"> |-Best step: 0</span>"
      ],
      "text/plain": [
       "<IPython.core.display.HTML object>"
      ]
     },
     "metadata": {},
     "output_type": "display_data"
    },
    {
     "data": {
      "text/html": [
       "<span style=\"color:#7E57C2\"><h2 style=\"font-size:16px\">Hyperparameters:</h2></span>"
      ],
      "text/plain": [
       "<IPython.core.display.HTML object>"
      ]
     },
     "metadata": {},
     "output_type": "display_data"
    },
    {
     "data": {
      "text/html": [
       "<span style=\"color:cyan\"> |-hidden_units: 188</span>"
      ],
      "text/plain": [
       "<IPython.core.display.HTML object>"
      ]
     },
     "metadata": {},
     "output_type": "display_data"
    },
    {
     "data": {
      "text/html": [
       "<span style=\"color:blue\"> |-learning_rate: 0.001</span>"
      ],
      "text/plain": [
       "<IPython.core.display.HTML object>"
      ]
     },
     "metadata": {},
     "output_type": "display_data"
    },
    {
     "data": {
      "text/html": [
       "<span style=\"color:cyan\"> |-tuner/bracket: 3</span>"
      ],
      "text/plain": [
       "<IPython.core.display.HTML object>"
      ]
     },
     "metadata": {},
     "output_type": "display_data"
    },
    {
     "data": {
      "text/html": [
       "<span style=\"color:blue\"> |-tuner/epochs: 2</span>"
      ],
      "text/plain": [
       "<IPython.core.display.HTML object>"
      ]
     },
     "metadata": {},
     "output_type": "display_data"
    },
    {
     "data": {
      "text/html": [
       "<span style=\"color:cyan\"> |-tuner/initial_epoch: 0</span>"
      ],
      "text/plain": [
       "<IPython.core.display.HTML object>"
      ]
     },
     "metadata": {},
     "output_type": "display_data"
    },
    {
     "data": {
      "text/html": [
       "<span style=\"color:blue\"> |-tuner/round: 0</span>"
      ],
      "text/plain": [
       "<IPython.core.display.HTML object>"
      ]
     },
     "metadata": {},
     "output_type": "display_data"
    },
    {
     "name": "stdout",
     "output_type": "stream",
     "text": [
      "Train on 8000 samples, validate on 2000 samples\n",
      "Epoch 1/2\n",
      "8000/8000 - 1s - loss: 0.0631 - mean_squared_error: 0.0628 - mean_absolute_error: 0.1806 - val_loss: 0.0189 - val_mean_squared_error: 0.0185 - val_mean_absolute_error: 0.0854\n",
      "Epoch 2/2\n",
      "8000/8000 - 1s - loss: 0.0285 - mean_squared_error: 0.0280 - mean_absolute_error: 0.0944 - val_loss: 0.0173 - val_mean_squared_error: 0.0167 - val_mean_absolute_error: 0.0733\n"
     ]
    },
    {
     "data": {
      "text/html": [
       "<span style=\"color:#4527A0\"><h1 style=\"font-size:18px\">Trial complete</h1></span>"
      ],
      "text/plain": [
       "<IPython.core.display.HTML object>"
      ]
     },
     "metadata": {},
     "output_type": "display_data"
    },
    {
     "data": {
      "text/html": [
       "<span style=\"color:#4527A0\"><h1 style=\"font-size:18px\">Trial summary</h1></span>"
      ],
      "text/plain": [
       "<IPython.core.display.HTML object>"
      ]
     },
     "metadata": {},
     "output_type": "display_data"
    },
    {
     "data": {
      "text/html": [
       "<span style=\"color:cyan\"> |-Trial ID: 2ef697ac4b847d725dabdc6d23306c7d</span>"
      ],
      "text/plain": [
       "<IPython.core.display.HTML object>"
      ]
     },
     "metadata": {},
     "output_type": "display_data"
    },
    {
     "data": {
      "text/html": [
       "<span style=\"color:cyan\"> |-Score: 0.01673204079270363</span>"
      ],
      "text/plain": [
       "<IPython.core.display.HTML object>"
      ]
     },
     "metadata": {},
     "output_type": "display_data"
    },
    {
     "data": {
      "text/html": [
       "<span style=\"color:cyan\"> |-Best step: 0</span>"
      ],
      "text/plain": [
       "<IPython.core.display.HTML object>"
      ]
     },
     "metadata": {},
     "output_type": "display_data"
    },
    {
     "data": {
      "text/html": [
       "<span style=\"color:#7E57C2\"><h2 style=\"font-size:16px\">Hyperparameters:</h2></span>"
      ],
      "text/plain": [
       "<IPython.core.display.HTML object>"
      ]
     },
     "metadata": {},
     "output_type": "display_data"
    },
    {
     "data": {
      "text/html": [
       "<span style=\"color:cyan\"> |-hidden_units: 32</span>"
      ],
      "text/plain": [
       "<IPython.core.display.HTML object>"
      ]
     },
     "metadata": {},
     "output_type": "display_data"
    },
    {
     "data": {
      "text/html": [
       "<span style=\"color:blue\"> |-learning_rate: 0.01</span>"
      ],
      "text/plain": [
       "<IPython.core.display.HTML object>"
      ]
     },
     "metadata": {},
     "output_type": "display_data"
    },
    {
     "data": {
      "text/html": [
       "<span style=\"color:cyan\"> |-tuner/bracket: 3</span>"
      ],
      "text/plain": [
       "<IPython.core.display.HTML object>"
      ]
     },
     "metadata": {},
     "output_type": "display_data"
    },
    {
     "data": {
      "text/html": [
       "<span style=\"color:blue\"> |-tuner/epochs: 2</span>"
      ],
      "text/plain": [
       "<IPython.core.display.HTML object>"
      ]
     },
     "metadata": {},
     "output_type": "display_data"
    },
    {
     "data": {
      "text/html": [
       "<span style=\"color:cyan\"> |-tuner/initial_epoch: 0</span>"
      ],
      "text/plain": [
       "<IPython.core.display.HTML object>"
      ]
     },
     "metadata": {},
     "output_type": "display_data"
    },
    {
     "data": {
      "text/html": [
       "<span style=\"color:blue\"> |-tuner/round: 0</span>"
      ],
      "text/plain": [
       "<IPython.core.display.HTML object>"
      ]
     },
     "metadata": {},
     "output_type": "display_data"
    },
    {
     "name": "stdout",
     "output_type": "stream",
     "text": [
      "Train on 8000 samples, validate on 2000 samples\n",
      "Epoch 1/2\n",
      "8000/8000 - 2s - loss: 0.0999 - mean_squared_error: 0.0997 - mean_absolute_error: 0.2783 - val_loss: 0.0292 - val_mean_squared_error: 0.0289 - val_mean_absolute_error: 0.1503\n",
      "Epoch 2/2\n",
      "8000/8000 - 1s - loss: 0.0153 - mean_squared_error: 0.0150 - mean_absolute_error: 0.1037 - val_loss: 0.0063 - val_mean_squared_error: 0.0059 - val_mean_absolute_error: 0.0684\n"
     ]
    },
    {
     "data": {
      "text/html": [
       "<span style=\"color:#4527A0\"><h1 style=\"font-size:18px\">Trial complete</h1></span>"
      ],
      "text/plain": [
       "<IPython.core.display.HTML object>"
      ]
     },
     "metadata": {},
     "output_type": "display_data"
    },
    {
     "data": {
      "text/html": [
       "<span style=\"color:#4527A0\"><h1 style=\"font-size:18px\">Trial summary</h1></span>"
      ],
      "text/plain": [
       "<IPython.core.display.HTML object>"
      ]
     },
     "metadata": {},
     "output_type": "display_data"
    },
    {
     "data": {
      "text/html": [
       "<span style=\"color:cyan\"> |-Trial ID: 1c13a6ae372eb6f80ed40da6d290b401</span>"
      ],
      "text/plain": [
       "<IPython.core.display.HTML object>"
      ]
     },
     "metadata": {},
     "output_type": "display_data"
    },
    {
     "data": {
      "text/html": [
       "<span style=\"color:cyan\"> |-Score: 0.005889467429369688</span>"
      ],
      "text/plain": [
       "<IPython.core.display.HTML object>"
      ]
     },
     "metadata": {},
     "output_type": "display_data"
    },
    {
     "data": {
      "text/html": [
       "<span style=\"color:cyan\"> |-Best step: 0</span>"
      ],
      "text/plain": [
       "<IPython.core.display.HTML object>"
      ]
     },
     "metadata": {},
     "output_type": "display_data"
    },
    {
     "data": {
      "text/html": [
       "<span style=\"color:#7E57C2\"><h2 style=\"font-size:16px\">Hyperparameters:</h2></span>"
      ],
      "text/plain": [
       "<IPython.core.display.HTML object>"
      ]
     },
     "metadata": {},
     "output_type": "display_data"
    },
    {
     "data": {
      "text/html": [
       "<span style=\"color:cyan\"> |-hidden_units: 184</span>"
      ],
      "text/plain": [
       "<IPython.core.display.HTML object>"
      ]
     },
     "metadata": {},
     "output_type": "display_data"
    },
    {
     "data": {
      "text/html": [
       "<span style=\"color:blue\"> |-learning_rate: 0.001</span>"
      ],
      "text/plain": [
       "<IPython.core.display.HTML object>"
      ]
     },
     "metadata": {},
     "output_type": "display_data"
    },
    {
     "data": {
      "text/html": [
       "<span style=\"color:cyan\"> |-tuner/bracket: 3</span>"
      ],
      "text/plain": [
       "<IPython.core.display.HTML object>"
      ]
     },
     "metadata": {},
     "output_type": "display_data"
    },
    {
     "data": {
      "text/html": [
       "<span style=\"color:blue\"> |-tuner/epochs: 2</span>"
      ],
      "text/plain": [
       "<IPython.core.display.HTML object>"
      ]
     },
     "metadata": {},
     "output_type": "display_data"
    },
    {
     "data": {
      "text/html": [
       "<span style=\"color:cyan\"> |-tuner/initial_epoch: 0</span>"
      ],
      "text/plain": [
       "<IPython.core.display.HTML object>"
      ]
     },
     "metadata": {},
     "output_type": "display_data"
    },
    {
     "data": {
      "text/html": [
       "<span style=\"color:blue\"> |-tuner/round: 0</span>"
      ],
      "text/plain": [
       "<IPython.core.display.HTML object>"
      ]
     },
     "metadata": {},
     "output_type": "display_data"
    },
    {
     "name": "stdout",
     "output_type": "stream",
     "text": [
      "Train on 8000 samples, validate on 2000 samples\n",
      "Epoch 1/2\n",
      "8000/8000 - 1s - loss: 0.1745 - mean_squared_error: 0.1744 - mean_absolute_error: 0.3856 - val_loss: 0.1219 - val_mean_squared_error: 0.1218 - val_mean_absolute_error: 0.3192\n",
      "Epoch 2/2\n",
      "8000/8000 - 1s - loss: 0.0963 - mean_squared_error: 0.0961 - mean_absolute_error: 0.2674 - val_loss: 0.0747 - val_mean_squared_error: 0.0746 - val_mean_absolute_error: 0.2278\n"
     ]
    },
    {
     "data": {
      "text/html": [
       "<span style=\"color:#4527A0\"><h1 style=\"font-size:18px\">Trial complete</h1></span>"
      ],
      "text/plain": [
       "<IPython.core.display.HTML object>"
      ]
     },
     "metadata": {},
     "output_type": "display_data"
    },
    {
     "data": {
      "text/html": [
       "<span style=\"color:#4527A0\"><h1 style=\"font-size:18px\">Trial summary</h1></span>"
      ],
      "text/plain": [
       "<IPython.core.display.HTML object>"
      ]
     },
     "metadata": {},
     "output_type": "display_data"
    },
    {
     "data": {
      "text/html": [
       "<span style=\"color:cyan\"> |-Trial ID: 44e3bae6f0e1bd549ed500587487e437</span>"
      ],
      "text/plain": [
       "<IPython.core.display.HTML object>"
      ]
     },
     "metadata": {},
     "output_type": "display_data"
    },
    {
     "data": {
      "text/html": [
       "<span style=\"color:cyan\"> |-Score: 0.0745772272348404</span>"
      ],
      "text/plain": [
       "<IPython.core.display.HTML object>"
      ]
     },
     "metadata": {},
     "output_type": "display_data"
    },
    {
     "data": {
      "text/html": [
       "<span style=\"color:cyan\"> |-Best step: 0</span>"
      ],
      "text/plain": [
       "<IPython.core.display.HTML object>"
      ]
     },
     "metadata": {},
     "output_type": "display_data"
    },
    {
     "data": {
      "text/html": [
       "<span style=\"color:#7E57C2\"><h2 style=\"font-size:16px\">Hyperparameters:</h2></span>"
      ],
      "text/plain": [
       "<IPython.core.display.HTML object>"
      ]
     },
     "metadata": {},
     "output_type": "display_data"
    },
    {
     "data": {
      "text/html": [
       "<span style=\"color:cyan\"> |-hidden_units: 34</span>"
      ],
      "text/plain": [
       "<IPython.core.display.HTML object>"
      ]
     },
     "metadata": {},
     "output_type": "display_data"
    },
    {
     "data": {
      "text/html": [
       "<span style=\"color:blue\"> |-learning_rate: 0.001</span>"
      ],
      "text/plain": [
       "<IPython.core.display.HTML object>"
      ]
     },
     "metadata": {},
     "output_type": "display_data"
    },
    {
     "data": {
      "text/html": [
       "<span style=\"color:cyan\"> |-tuner/bracket: 3</span>"
      ],
      "text/plain": [
       "<IPython.core.display.HTML object>"
      ]
     },
     "metadata": {},
     "output_type": "display_data"
    },
    {
     "data": {
      "text/html": [
       "<span style=\"color:blue\"> |-tuner/epochs: 2</span>"
      ],
      "text/plain": [
       "<IPython.core.display.HTML object>"
      ]
     },
     "metadata": {},
     "output_type": "display_data"
    },
    {
     "data": {
      "text/html": [
       "<span style=\"color:cyan\"> |-tuner/initial_epoch: 0</span>"
      ],
      "text/plain": [
       "<IPython.core.display.HTML object>"
      ]
     },
     "metadata": {},
     "output_type": "display_data"
    },
    {
     "data": {
      "text/html": [
       "<span style=\"color:blue\"> |-tuner/round: 0</span>"
      ],
      "text/plain": [
       "<IPython.core.display.HTML object>"
      ]
     },
     "metadata": {},
     "output_type": "display_data"
    },
    {
     "name": "stdout",
     "output_type": "stream",
     "text": [
      "Train on 8000 samples, validate on 2000 samples\n",
      "Epoch 1/2\n",
      "8000/8000 - 2s - loss: 0.1030 - mean_squared_error: 0.1028 - mean_absolute_error: 0.2829 - val_loss: 0.0314 - val_mean_squared_error: 0.0312 - val_mean_absolute_error: 0.1558\n",
      "Epoch 2/2\n",
      "8000/8000 - 1s - loss: 0.0166 - mean_squared_error: 0.0163 - mean_absolute_error: 0.1083 - val_loss: 0.0068 - val_mean_squared_error: 0.0064 - val_mean_absolute_error: 0.0712\n"
     ]
    },
    {
     "data": {
      "text/html": [
       "<span style=\"color:#4527A0\"><h1 style=\"font-size:18px\">Trial complete</h1></span>"
      ],
      "text/plain": [
       "<IPython.core.display.HTML object>"
      ]
     },
     "metadata": {},
     "output_type": "display_data"
    },
    {
     "data": {
      "text/html": [
       "<span style=\"color:#4527A0\"><h1 style=\"font-size:18px\">Trial summary</h1></span>"
      ],
      "text/plain": [
       "<IPython.core.display.HTML object>"
      ]
     },
     "metadata": {},
     "output_type": "display_data"
    },
    {
     "data": {
      "text/html": [
       "<span style=\"color:cyan\"> |-Trial ID: 5e1c93ca9e4fd19c95af8e8fe2657f32</span>"
      ],
      "text/plain": [
       "<IPython.core.display.HTML object>"
      ]
     },
     "metadata": {},
     "output_type": "display_data"
    },
    {
     "data": {
      "text/html": [
       "<span style=\"color:cyan\"> |-Score: 0.006420879624783993</span>"
      ],
      "text/plain": [
       "<IPython.core.display.HTML object>"
      ]
     },
     "metadata": {},
     "output_type": "display_data"
    },
    {
     "data": {
      "text/html": [
       "<span style=\"color:cyan\"> |-Best step: 0</span>"
      ],
      "text/plain": [
       "<IPython.core.display.HTML object>"
      ]
     },
     "metadata": {},
     "output_type": "display_data"
    },
    {
     "data": {
      "text/html": [
       "<span style=\"color:#7E57C2\"><h2 style=\"font-size:16px\">Hyperparameters:</h2></span>"
      ],
      "text/plain": [
       "<IPython.core.display.HTML object>"
      ]
     },
     "metadata": {},
     "output_type": "display_data"
    },
    {
     "data": {
      "text/html": [
       "<span style=\"color:cyan\"> |-hidden_units: 174</span>"
      ],
      "text/plain": [
       "<IPython.core.display.HTML object>"
      ]
     },
     "metadata": {},
     "output_type": "display_data"
    },
    {
     "data": {
      "text/html": [
       "<span style=\"color:blue\"> |-learning_rate: 0.001</span>"
      ],
      "text/plain": [
       "<IPython.core.display.HTML object>"
      ]
     },
     "metadata": {},
     "output_type": "display_data"
    },
    {
     "data": {
      "text/html": [
       "<span style=\"color:cyan\"> |-tuner/bracket: 3</span>"
      ],
      "text/plain": [
       "<IPython.core.display.HTML object>"
      ]
     },
     "metadata": {},
     "output_type": "display_data"
    },
    {
     "data": {
      "text/html": [
       "<span style=\"color:blue\"> |-tuner/epochs: 2</span>"
      ],
      "text/plain": [
       "<IPython.core.display.HTML object>"
      ]
     },
     "metadata": {},
     "output_type": "display_data"
    },
    {
     "data": {
      "text/html": [
       "<span style=\"color:cyan\"> |-tuner/initial_epoch: 0</span>"
      ],
      "text/plain": [
       "<IPython.core.display.HTML object>"
      ]
     },
     "metadata": {},
     "output_type": "display_data"
    },
    {
     "data": {
      "text/html": [
       "<span style=\"color:blue\"> |-tuner/round: 0</span>"
      ],
      "text/plain": [
       "<IPython.core.display.HTML object>"
      ]
     },
     "metadata": {},
     "output_type": "display_data"
    },
    {
     "name": "stdout",
     "output_type": "stream",
     "text": [
      "Train on 8000 samples, validate on 2000 samples\n",
      "Epoch 1/2\n",
      "8000/8000 - 1s - loss: 0.1343 - mean_squared_error: 0.1341 - mean_absolute_error: 0.3308 - val_loss: 0.0649 - val_mean_squared_error: 0.0647 - val_mean_absolute_error: 0.2244\n",
      "Epoch 2/2\n",
      "8000/8000 - 1s - loss: 0.0400 - mean_squared_error: 0.0398 - mean_absolute_error: 0.1679 - val_loss: 0.0182 - val_mean_squared_error: 0.0179 - val_mean_absolute_error: 0.1160\n"
     ]
    },
    {
     "data": {
      "text/html": [
       "<span style=\"color:#4527A0\"><h1 style=\"font-size:18px\">Trial complete</h1></span>"
      ],
      "text/plain": [
       "<IPython.core.display.HTML object>"
      ]
     },
     "metadata": {},
     "output_type": "display_data"
    },
    {
     "data": {
      "text/html": [
       "<span style=\"color:#4527A0\"><h1 style=\"font-size:18px\">Trial summary</h1></span>"
      ],
      "text/plain": [
       "<IPython.core.display.HTML object>"
      ]
     },
     "metadata": {},
     "output_type": "display_data"
    },
    {
     "data": {
      "text/html": [
       "<span style=\"color:cyan\"> |-Trial ID: 300bbd988e9144bca1310b04cf71568d</span>"
      ],
      "text/plain": [
       "<IPython.core.display.HTML object>"
      ]
     },
     "metadata": {},
     "output_type": "display_data"
    },
    {
     "data": {
      "text/html": [
       "<span style=\"color:cyan\"> |-Score: 0.017949502915143967</span>"
      ],
      "text/plain": [
       "<IPython.core.display.HTML object>"
      ]
     },
     "metadata": {},
     "output_type": "display_data"
    },
    {
     "data": {
      "text/html": [
       "<span style=\"color:cyan\"> |-Best step: 0</span>"
      ],
      "text/plain": [
       "<IPython.core.display.HTML object>"
      ]
     },
     "metadata": {},
     "output_type": "display_data"
    },
    {
     "data": {
      "text/html": [
       "<span style=\"color:#7E57C2\"><h2 style=\"font-size:16px\">Hyperparameters:</h2></span>"
      ],
      "text/plain": [
       "<IPython.core.display.HTML object>"
      ]
     },
     "metadata": {},
     "output_type": "display_data"
    },
    {
     "data": {
      "text/html": [
       "<span style=\"color:cyan\"> |-hidden_units: 86</span>"
      ],
      "text/plain": [
       "<IPython.core.display.HTML object>"
      ]
     },
     "metadata": {},
     "output_type": "display_data"
    },
    {
     "data": {
      "text/html": [
       "<span style=\"color:blue\"> |-learning_rate: 0.001</span>"
      ],
      "text/plain": [
       "<IPython.core.display.HTML object>"
      ]
     },
     "metadata": {},
     "output_type": "display_data"
    },
    {
     "data": {
      "text/html": [
       "<span style=\"color:cyan\"> |-tuner/bracket: 3</span>"
      ],
      "text/plain": [
       "<IPython.core.display.HTML object>"
      ]
     },
     "metadata": {},
     "output_type": "display_data"
    },
    {
     "data": {
      "text/html": [
       "<span style=\"color:blue\"> |-tuner/epochs: 2</span>"
      ],
      "text/plain": [
       "<IPython.core.display.HTML object>"
      ]
     },
     "metadata": {},
     "output_type": "display_data"
    },
    {
     "data": {
      "text/html": [
       "<span style=\"color:cyan\"> |-tuner/initial_epoch: 0</span>"
      ],
      "text/plain": [
       "<IPython.core.display.HTML object>"
      ]
     },
     "metadata": {},
     "output_type": "display_data"
    },
    {
     "data": {
      "text/html": [
       "<span style=\"color:blue\"> |-tuner/round: 0</span>"
      ],
      "text/plain": [
       "<IPython.core.display.HTML object>"
      ]
     },
     "metadata": {},
     "output_type": "display_data"
    },
    {
     "name": "stdout",
     "output_type": "stream",
     "text": [
      "Train on 8000 samples, validate on 2000 samples\n",
      "Epoch 1/2\n",
      "8000/8000 - 2s - loss: 0.0173 - mean_squared_error: 0.0168 - mean_absolute_error: 0.0746 - val_loss: 0.0019 - val_mean_squared_error: 0.0013 - val_mean_absolute_error: 0.0246\n",
      "Epoch 2/2\n",
      "8000/8000 - 1s - loss: 0.0038 - mean_squared_error: 0.0032 - mean_absolute_error: 0.0334 - val_loss: 0.0023 - val_mean_squared_error: 0.0016 - val_mean_absolute_error: 0.0254\n"
     ]
    },
    {
     "data": {
      "text/html": [
       "<span style=\"color:#4527A0\"><h1 style=\"font-size:18px\">Trial complete</h1></span>"
      ],
      "text/plain": [
       "<IPython.core.display.HTML object>"
      ]
     },
     "metadata": {},
     "output_type": "display_data"
    },
    {
     "data": {
      "text/html": [
       "<span style=\"color:#4527A0\"><h1 style=\"font-size:18px\">Trial summary</h1></span>"
      ],
      "text/plain": [
       "<IPython.core.display.HTML object>"
      ]
     },
     "metadata": {},
     "output_type": "display_data"
    },
    {
     "data": {
      "text/html": [
       "<span style=\"color:cyan\"> |-Trial ID: 864eaaa3425cc11a348c117cd51acf82</span>"
      ],
      "text/plain": [
       "<IPython.core.display.HTML object>"
      ]
     },
     "metadata": {},
     "output_type": "display_data"
    },
    {
     "data": {
      "text/html": [
       "<span style=\"color:cyan\"> |-Score: 0.0012869501952081919</span>"
      ],
      "text/plain": [
       "<IPython.core.display.HTML object>"
      ]
     },
     "metadata": {},
     "output_type": "display_data"
    },
    {
     "data": {
      "text/html": [
       "<span style=\"color:cyan\"> |-Best step: 0</span>"
      ],
      "text/plain": [
       "<IPython.core.display.HTML object>"
      ]
     },
     "metadata": {},
     "output_type": "display_data"
    },
    {
     "data": {
      "text/html": [
       "<span style=\"color:#7E57C2\"><h2 style=\"font-size:16px\">Hyperparameters:</h2></span>"
      ],
      "text/plain": [
       "<IPython.core.display.HTML object>"
      ]
     },
     "metadata": {},
     "output_type": "display_data"
    },
    {
     "data": {
      "text/html": [
       "<span style=\"color:cyan\"> |-hidden_units: 166</span>"
      ],
      "text/plain": [
       "<IPython.core.display.HTML object>"
      ]
     },
     "metadata": {},
     "output_type": "display_data"
    },
    {
     "data": {
      "text/html": [
       "<span style=\"color:blue\"> |-learning_rate: 0.01</span>"
      ],
      "text/plain": [
       "<IPython.core.display.HTML object>"
      ]
     },
     "metadata": {},
     "output_type": "display_data"
    },
    {
     "data": {
      "text/html": [
       "<span style=\"color:cyan\"> |-tuner/bracket: 3</span>"
      ],
      "text/plain": [
       "<IPython.core.display.HTML object>"
      ]
     },
     "metadata": {},
     "output_type": "display_data"
    },
    {
     "data": {
      "text/html": [
       "<span style=\"color:blue\"> |-tuner/epochs: 2</span>"
      ],
      "text/plain": [
       "<IPython.core.display.HTML object>"
      ]
     },
     "metadata": {},
     "output_type": "display_data"
    },
    {
     "data": {
      "text/html": [
       "<span style=\"color:cyan\"> |-tuner/initial_epoch: 0</span>"
      ],
      "text/plain": [
       "<IPython.core.display.HTML object>"
      ]
     },
     "metadata": {},
     "output_type": "display_data"
    },
    {
     "data": {
      "text/html": [
       "<span style=\"color:blue\"> |-tuner/round: 0</span>"
      ],
      "text/plain": [
       "<IPython.core.display.HTML object>"
      ]
     },
     "metadata": {},
     "output_type": "display_data"
    },
    {
     "name": "stdout",
     "output_type": "stream",
     "text": [
      "Train on 8000 samples, validate on 2000 samples\n",
      "Epoch 1/2\n",
      "8000/8000 - 2s - loss: 0.2154 - mean_squared_error: 0.2153 - mean_absolute_error: 0.4329 - val_loss: 0.2009 - val_mean_squared_error: 0.2008 - val_mean_absolute_error: 0.4177\n",
      "Epoch 2/2\n",
      "8000/8000 - 1s - loss: 0.1935 - mean_squared_error: 0.1934 - mean_absolute_error: 0.4078 - val_loss: 0.1835 - val_mean_squared_error: 0.1834 - val_mean_absolute_error: 0.3969\n"
     ]
    },
    {
     "data": {
      "text/html": [
       "<span style=\"color:#4527A0\"><h1 style=\"font-size:18px\">Trial complete</h1></span>"
      ],
      "text/plain": [
       "<IPython.core.display.HTML object>"
      ]
     },
     "metadata": {},
     "output_type": "display_data"
    },
    {
     "data": {
      "text/html": [
       "<span style=\"color:#4527A0\"><h1 style=\"font-size:18px\">Trial summary</h1></span>"
      ],
      "text/plain": [
       "<IPython.core.display.HTML object>"
      ]
     },
     "metadata": {},
     "output_type": "display_data"
    },
    {
     "data": {
      "text/html": [
       "<span style=\"color:cyan\"> |-Trial ID: cfbf9bd1dbb99bf81816edf1ca62c45e</span>"
      ],
      "text/plain": [
       "<IPython.core.display.HTML object>"
      ]
     },
     "metadata": {},
     "output_type": "display_data"
    },
    {
     "data": {
      "text/html": [
       "<span style=\"color:cyan\"> |-Score: 0.18338333070278168</span>"
      ],
      "text/plain": [
       "<IPython.core.display.HTML object>"
      ]
     },
     "metadata": {},
     "output_type": "display_data"
    },
    {
     "data": {
      "text/html": [
       "<span style=\"color:cyan\"> |-Best step: 0</span>"
      ],
      "text/plain": [
       "<IPython.core.display.HTML object>"
      ]
     },
     "metadata": {},
     "output_type": "display_data"
    },
    {
     "data": {
      "text/html": [
       "<span style=\"color:#7E57C2\"><h2 style=\"font-size:16px\">Hyperparameters:</h2></span>"
      ],
      "text/plain": [
       "<IPython.core.display.HTML object>"
      ]
     },
     "metadata": {},
     "output_type": "display_data"
    },
    {
     "data": {
      "text/html": [
       "<span style=\"color:cyan\"> |-hidden_units: 68</span>"
      ],
      "text/plain": [
       "<IPython.core.display.HTML object>"
      ]
     },
     "metadata": {},
     "output_type": "display_data"
    },
    {
     "data": {
      "text/html": [
       "<span style=\"color:blue\"> |-learning_rate: 0.0001</span>"
      ],
      "text/plain": [
       "<IPython.core.display.HTML object>"
      ]
     },
     "metadata": {},
     "output_type": "display_data"
    },
    {
     "data": {
      "text/html": [
       "<span style=\"color:cyan\"> |-tuner/bracket: 3</span>"
      ],
      "text/plain": [
       "<IPython.core.display.HTML object>"
      ]
     },
     "metadata": {},
     "output_type": "display_data"
    },
    {
     "data": {
      "text/html": [
       "<span style=\"color:blue\"> |-tuner/epochs: 2</span>"
      ],
      "text/plain": [
       "<IPython.core.display.HTML object>"
      ]
     },
     "metadata": {},
     "output_type": "display_data"
    },
    {
     "data": {
      "text/html": [
       "<span style=\"color:cyan\"> |-tuner/initial_epoch: 0</span>"
      ],
      "text/plain": [
       "<IPython.core.display.HTML object>"
      ]
     },
     "metadata": {},
     "output_type": "display_data"
    },
    {
     "data": {
      "text/html": [
       "<span style=\"color:blue\"> |-tuner/round: 0</span>"
      ],
      "text/plain": [
       "<IPython.core.display.HTML object>"
      ]
     },
     "metadata": {},
     "output_type": "display_data"
    },
    {
     "name": "stdout",
     "output_type": "stream",
     "text": [
      "Train on 8000 samples, validate on 2000 samples\n",
      "Epoch 1/2\n",
      "8000/8000 - 1s - loss: 0.1605 - mean_squared_error: 0.1604 - mean_absolute_error: 0.3671 - val_loss: 0.1020 - val_mean_squared_error: 0.1019 - val_mean_absolute_error: 0.2877\n",
      "Epoch 2/2\n",
      "8000/8000 - 1s - loss: 0.0772 - mean_squared_error: 0.0770 - mean_absolute_error: 0.2361 - val_loss: 0.0531 - val_mean_squared_error: 0.0529 - val_mean_absolute_error: 0.1918\n"
     ]
    },
    {
     "data": {
      "text/html": [
       "<span style=\"color:#4527A0\"><h1 style=\"font-size:18px\">Trial complete</h1></span>"
      ],
      "text/plain": [
       "<IPython.core.display.HTML object>"
      ]
     },
     "metadata": {},
     "output_type": "display_data"
    },
    {
     "data": {
      "text/html": [
       "<span style=\"color:#4527A0\"><h1 style=\"font-size:18px\">Trial summary</h1></span>"
      ],
      "text/plain": [
       "<IPython.core.display.HTML object>"
      ]
     },
     "metadata": {},
     "output_type": "display_data"
    },
    {
     "data": {
      "text/html": [
       "<span style=\"color:cyan\"> |-Trial ID: aebf2f39909d3fd03b3e354ca304557d</span>"
      ],
      "text/plain": [
       "<IPython.core.display.HTML object>"
      ]
     },
     "metadata": {},
     "output_type": "display_data"
    },
    {
     "data": {
      "text/html": [
       "<span style=\"color:cyan\"> |-Score: 0.052938953042030334</span>"
      ],
      "text/plain": [
       "<IPython.core.display.HTML object>"
      ]
     },
     "metadata": {},
     "output_type": "display_data"
    },
    {
     "data": {
      "text/html": [
       "<span style=\"color:cyan\"> |-Best step: 0</span>"
      ],
      "text/plain": [
       "<IPython.core.display.HTML object>"
      ]
     },
     "metadata": {},
     "output_type": "display_data"
    },
    {
     "data": {
      "text/html": [
       "<span style=\"color:#7E57C2\"><h2 style=\"font-size:16px\">Hyperparameters:</h2></span>"
      ],
      "text/plain": [
       "<IPython.core.display.HTML object>"
      ]
     },
     "metadata": {},
     "output_type": "display_data"
    },
    {
     "data": {
      "text/html": [
       "<span style=\"color:cyan\"> |-hidden_units: 46</span>"
      ],
      "text/plain": [
       "<IPython.core.display.HTML object>"
      ]
     },
     "metadata": {},
     "output_type": "display_data"
    },
    {
     "data": {
      "text/html": [
       "<span style=\"color:blue\"> |-learning_rate: 0.001</span>"
      ],
      "text/plain": [
       "<IPython.core.display.HTML object>"
      ]
     },
     "metadata": {},
     "output_type": "display_data"
    },
    {
     "data": {
      "text/html": [
       "<span style=\"color:cyan\"> |-tuner/bracket: 3</span>"
      ],
      "text/plain": [
       "<IPython.core.display.HTML object>"
      ]
     },
     "metadata": {},
     "output_type": "display_data"
    },
    {
     "data": {
      "text/html": [
       "<span style=\"color:blue\"> |-tuner/epochs: 2</span>"
      ],
      "text/plain": [
       "<IPython.core.display.HTML object>"
      ]
     },
     "metadata": {},
     "output_type": "display_data"
    },
    {
     "data": {
      "text/html": [
       "<span style=\"color:cyan\"> |-tuner/initial_epoch: 0</span>"
      ],
      "text/plain": [
       "<IPython.core.display.HTML object>"
      ]
     },
     "metadata": {},
     "output_type": "display_data"
    },
    {
     "data": {
      "text/html": [
       "<span style=\"color:blue\"> |-tuner/round: 0</span>"
      ],
      "text/plain": [
       "<IPython.core.display.HTML object>"
      ]
     },
     "metadata": {},
     "output_type": "display_data"
    },
    {
     "name": "stdout",
     "output_type": "stream",
     "text": [
      "Train on 8000 samples, validate on 2000 samples\n",
      "Epoch 1/2\n",
      "8000/8000 - 2s - loss: 0.0180 - mean_squared_error: 0.0175 - mean_absolute_error: 0.0771 - val_loss: 0.0019 - val_mean_squared_error: 0.0012 - val_mean_absolute_error: 0.0250\n",
      "Epoch 2/2\n",
      "8000/8000 - 1s - loss: 0.0040 - mean_squared_error: 0.0034 - mean_absolute_error: 0.0345 - val_loss: 0.0025 - val_mean_squared_error: 0.0018 - val_mean_absolute_error: 0.0258\n"
     ]
    },
    {
     "data": {
      "text/html": [
       "<span style=\"color:#4527A0\"><h1 style=\"font-size:18px\">Trial complete</h1></span>"
      ],
      "text/plain": [
       "<IPython.core.display.HTML object>"
      ]
     },
     "metadata": {},
     "output_type": "display_data"
    },
    {
     "data": {
      "text/html": [
       "<span style=\"color:#4527A0\"><h1 style=\"font-size:18px\">Trial summary</h1></span>"
      ],
      "text/plain": [
       "<IPython.core.display.HTML object>"
      ]
     },
     "metadata": {},
     "output_type": "display_data"
    },
    {
     "data": {
      "text/html": [
       "<span style=\"color:cyan\"> |-Trial ID: ba7b0a30d9eabf49c3bfe1ea6a01265d</span>"
      ],
      "text/plain": [
       "<IPython.core.display.HTML object>"
      ]
     },
     "metadata": {},
     "output_type": "display_data"
    },
    {
     "data": {
      "text/html": [
       "<span style=\"color:cyan\"> |-Score: 0.0012470181100070477</span>"
      ],
      "text/plain": [
       "<IPython.core.display.HTML object>"
      ]
     },
     "metadata": {},
     "output_type": "display_data"
    },
    {
     "data": {
      "text/html": [
       "<span style=\"color:cyan\"> |-Best step: 0</span>"
      ],
      "text/plain": [
       "<IPython.core.display.HTML object>"
      ]
     },
     "metadata": {},
     "output_type": "display_data"
    },
    {
     "data": {
      "text/html": [
       "<span style=\"color:#7E57C2\"><h2 style=\"font-size:16px\">Hyperparameters:</h2></span>"
      ],
      "text/plain": [
       "<IPython.core.display.HTML object>"
      ]
     },
     "metadata": {},
     "output_type": "display_data"
    },
    {
     "data": {
      "text/html": [
       "<span style=\"color:cyan\"> |-hidden_units: 152</span>"
      ],
      "text/plain": [
       "<IPython.core.display.HTML object>"
      ]
     },
     "metadata": {},
     "output_type": "display_data"
    },
    {
     "data": {
      "text/html": [
       "<span style=\"color:blue\"> |-learning_rate: 0.01</span>"
      ],
      "text/plain": [
       "<IPython.core.display.HTML object>"
      ]
     },
     "metadata": {},
     "output_type": "display_data"
    },
    {
     "data": {
      "text/html": [
       "<span style=\"color:cyan\"> |-tuner/bracket: 3</span>"
      ],
      "text/plain": [
       "<IPython.core.display.HTML object>"
      ]
     },
     "metadata": {},
     "output_type": "display_data"
    },
    {
     "data": {
      "text/html": [
       "<span style=\"color:blue\"> |-tuner/epochs: 2</span>"
      ],
      "text/plain": [
       "<IPython.core.display.HTML object>"
      ]
     },
     "metadata": {},
     "output_type": "display_data"
    },
    {
     "data": {
      "text/html": [
       "<span style=\"color:cyan\"> |-tuner/initial_epoch: 0</span>"
      ],
      "text/plain": [
       "<IPython.core.display.HTML object>"
      ]
     },
     "metadata": {},
     "output_type": "display_data"
    },
    {
     "data": {
      "text/html": [
       "<span style=\"color:blue\"> |-tuner/round: 0</span>"
      ],
      "text/plain": [
       "<IPython.core.display.HTML object>"
      ]
     },
     "metadata": {},
     "output_type": "display_data"
    },
    {
     "name": "stdout",
     "output_type": "stream",
     "text": [
      "Train on 8000 samples, validate on 2000 samples\n",
      "Epoch 3/6\n",
      "8000/8000 - 2s - loss: 0.0169 - mean_squared_error: 0.0164 - mean_absolute_error: 0.0726 - val_loss: 0.0019 - val_mean_squared_error: 0.0013 - val_mean_absolute_error: 0.0244\n",
      "Epoch 4/6\n",
      "8000/8000 - 1s - loss: 0.0037 - mean_squared_error: 0.0030 - mean_absolute_error: 0.0325 - val_loss: 0.0024 - val_mean_squared_error: 0.0017 - val_mean_absolute_error: 0.0253\n",
      "Epoch 5/6\n",
      "8000/8000 - 1s - loss: 0.0041 - mean_squared_error: 0.0034 - mean_absolute_error: 0.0328 - val_loss: 0.0031 - val_mean_squared_error: 0.0024 - val_mean_absolute_error: 0.0280\n",
      "Epoch 6/6\n",
      "8000/8000 - 1s - loss: 0.0042 - mean_squared_error: 0.0035 - mean_absolute_error: 0.0329 - val_loss: 0.0036 - val_mean_squared_error: 0.0028 - val_mean_absolute_error: 0.0302\n"
     ]
    },
    {
     "data": {
      "text/html": [
       "<span style=\"color:#4527A0\"><h1 style=\"font-size:18px\">Trial complete</h1></span>"
      ],
      "text/plain": [
       "<IPython.core.display.HTML object>"
      ]
     },
     "metadata": {},
     "output_type": "display_data"
    },
    {
     "data": {
      "text/html": [
       "<span style=\"color:#4527A0\"><h1 style=\"font-size:18px\">Trial summary</h1></span>"
      ],
      "text/plain": [
       "<IPython.core.display.HTML object>"
      ]
     },
     "metadata": {},
     "output_type": "display_data"
    },
    {
     "data": {
      "text/html": [
       "<span style=\"color:cyan\"> |-Trial ID: b7acd10b6bf48e97319f5376f12ee9d5</span>"
      ],
      "text/plain": [
       "<IPython.core.display.HTML object>"
      ]
     },
     "metadata": {},
     "output_type": "display_data"
    },
    {
     "data": {
      "text/html": [
       "<span style=\"color:cyan\"> |-Score: 0.0012705253902822733</span>"
      ],
      "text/plain": [
       "<IPython.core.display.HTML object>"
      ]
     },
     "metadata": {},
     "output_type": "display_data"
    },
    {
     "data": {
      "text/html": [
       "<span style=\"color:cyan\"> |-Best step: 0</span>"
      ],
      "text/plain": [
       "<IPython.core.display.HTML object>"
      ]
     },
     "metadata": {},
     "output_type": "display_data"
    },
    {
     "data": {
      "text/html": [
       "<span style=\"color:#7E57C2\"><h2 style=\"font-size:16px\">Hyperparameters:</h2></span>"
      ],
      "text/plain": [
       "<IPython.core.display.HTML object>"
      ]
     },
     "metadata": {},
     "output_type": "display_data"
    },
    {
     "data": {
      "text/html": [
       "<span style=\"color:cyan\"> |-hidden_units: 184</span>"
      ],
      "text/plain": [
       "<IPython.core.display.HTML object>"
      ]
     },
     "metadata": {},
     "output_type": "display_data"
    },
    {
     "data": {
      "text/html": [
       "<span style=\"color:blue\"> |-learning_rate: 0.01</span>"
      ],
      "text/plain": [
       "<IPython.core.display.HTML object>"
      ]
     },
     "metadata": {},
     "output_type": "display_data"
    },
    {
     "data": {
      "text/html": [
       "<span style=\"color:cyan\"> |-tuner/bracket: 3</span>"
      ],
      "text/plain": [
       "<IPython.core.display.HTML object>"
      ]
     },
     "metadata": {},
     "output_type": "display_data"
    },
    {
     "data": {
      "text/html": [
       "<span style=\"color:blue\"> |-tuner/epochs: 6</span>"
      ],
      "text/plain": [
       "<IPython.core.display.HTML object>"
      ]
     },
     "metadata": {},
     "output_type": "display_data"
    },
    {
     "data": {
      "text/html": [
       "<span style=\"color:cyan\"> |-tuner/initial_epoch: 2</span>"
      ],
      "text/plain": [
       "<IPython.core.display.HTML object>"
      ]
     },
     "metadata": {},
     "output_type": "display_data"
    },
    {
     "data": {
      "text/html": [
       "<span style=\"color:blue\"> |-tuner/round: 1</span>"
      ],
      "text/plain": [
       "<IPython.core.display.HTML object>"
      ]
     },
     "metadata": {},
     "output_type": "display_data"
    },
    {
     "data": {
      "text/html": [
       "<span style=\"color:cyan\"> |-tuner/trial_id: 36a64eeea7665f6674d0a34264748223</span>"
      ],
      "text/plain": [
       "<IPython.core.display.HTML object>"
      ]
     },
     "metadata": {},
     "output_type": "display_data"
    },
    {
     "name": "stdout",
     "output_type": "stream",
     "text": [
      "Train on 8000 samples, validate on 2000 samples\n",
      "Epoch 3/6\n",
      "8000/8000 - 2s - loss: 0.0163 - mean_squared_error: 0.0158 - mean_absolute_error: 0.0711 - val_loss: 0.0018 - val_mean_squared_error: 0.0012 - val_mean_absolute_error: 0.0238\n",
      "Epoch 4/6\n",
      "8000/8000 - 1s - loss: 0.0036 - mean_squared_error: 0.0029 - mean_absolute_error: 0.0320 - val_loss: 0.0021 - val_mean_squared_error: 0.0014 - val_mean_absolute_error: 0.0237\n",
      "Epoch 5/6\n",
      "8000/8000 - 1s - loss: 0.0038 - mean_squared_error: 0.0031 - mean_absolute_error: 0.0319 - val_loss: 0.0032 - val_mean_squared_error: 0.0024 - val_mean_absolute_error: 0.0283\n",
      "Epoch 6/6\n",
      "8000/8000 - 1s - loss: 0.0043 - mean_squared_error: 0.0035 - mean_absolute_error: 0.0331 - val_loss: 0.0028 - val_mean_squared_error: 0.0020 - val_mean_absolute_error: 0.0257\n"
     ]
    },
    {
     "data": {
      "text/html": [
       "<span style=\"color:#4527A0\"><h1 style=\"font-size:18px\">Trial complete</h1></span>"
      ],
      "text/plain": [
       "<IPython.core.display.HTML object>"
      ]
     },
     "metadata": {},
     "output_type": "display_data"
    },
    {
     "data": {
      "text/html": [
       "<span style=\"color:#4527A0\"><h1 style=\"font-size:18px\">Trial summary</h1></span>"
      ],
      "text/plain": [
       "<IPython.core.display.HTML object>"
      ]
     },
     "metadata": {},
     "output_type": "display_data"
    },
    {
     "data": {
      "text/html": [
       "<span style=\"color:cyan\"> |-Trial ID: 561793d899ff27bbc26aff5327ccd815</span>"
      ],
      "text/plain": [
       "<IPython.core.display.HTML object>"
      ]
     },
     "metadata": {},
     "output_type": "display_data"
    },
    {
     "data": {
      "text/html": [
       "<span style=\"color:cyan\"> |-Score: 0.0011748333927243948</span>"
      ],
      "text/plain": [
       "<IPython.core.display.HTML object>"
      ]
     },
     "metadata": {},
     "output_type": "display_data"
    },
    {
     "data": {
      "text/html": [
       "<span style=\"color:cyan\"> |-Best step: 0</span>"
      ],
      "text/plain": [
       "<IPython.core.display.HTML object>"
      ]
     },
     "metadata": {},
     "output_type": "display_data"
    },
    {
     "data": {
      "text/html": [
       "<span style=\"color:#7E57C2\"><h2 style=\"font-size:16px\">Hyperparameters:</h2></span>"
      ],
      "text/plain": [
       "<IPython.core.display.HTML object>"
      ]
     },
     "metadata": {},
     "output_type": "display_data"
    },
    {
     "data": {
      "text/html": [
       "<span style=\"color:cyan\"> |-hidden_units: 194</span>"
      ],
      "text/plain": [
       "<IPython.core.display.HTML object>"
      ]
     },
     "metadata": {},
     "output_type": "display_data"
    },
    {
     "data": {
      "text/html": [
       "<span style=\"color:blue\"> |-learning_rate: 0.01</span>"
      ],
      "text/plain": [
       "<IPython.core.display.HTML object>"
      ]
     },
     "metadata": {},
     "output_type": "display_data"
    },
    {
     "data": {
      "text/html": [
       "<span style=\"color:cyan\"> |-tuner/bracket: 3</span>"
      ],
      "text/plain": [
       "<IPython.core.display.HTML object>"
      ]
     },
     "metadata": {},
     "output_type": "display_data"
    },
    {
     "data": {
      "text/html": [
       "<span style=\"color:blue\"> |-tuner/epochs: 6</span>"
      ],
      "text/plain": [
       "<IPython.core.display.HTML object>"
      ]
     },
     "metadata": {},
     "output_type": "display_data"
    },
    {
     "data": {
      "text/html": [
       "<span style=\"color:cyan\"> |-tuner/initial_epoch: 2</span>"
      ],
      "text/plain": [
       "<IPython.core.display.HTML object>"
      ]
     },
     "metadata": {},
     "output_type": "display_data"
    },
    {
     "data": {
      "text/html": [
       "<span style=\"color:blue\"> |-tuner/round: 1</span>"
      ],
      "text/plain": [
       "<IPython.core.display.HTML object>"
      ]
     },
     "metadata": {},
     "output_type": "display_data"
    },
    {
     "data": {
      "text/html": [
       "<span style=\"color:cyan\"> |-tuner/trial_id: 93f0cec631a9f7e72738fcd67af05183</span>"
      ],
      "text/plain": [
       "<IPython.core.display.HTML object>"
      ]
     },
     "metadata": {},
     "output_type": "display_data"
    },
    {
     "name": "stdout",
     "output_type": "stream",
     "text": [
      "Train on 8000 samples, validate on 2000 samples\n",
      "Epoch 3/6\n",
      "8000/8000 - 2s - loss: 0.0179 - mean_squared_error: 0.0174 - mean_absolute_error: 0.0768 - val_loss: 0.0023 - val_mean_squared_error: 0.0016 - val_mean_absolute_error: 0.0270\n",
      "Epoch 4/6\n",
      "8000/8000 - 1s - loss: 0.0039 - mean_squared_error: 0.0032 - mean_absolute_error: 0.0339 - val_loss: 0.0022 - val_mean_squared_error: 0.0015 - val_mean_absolute_error: 0.0240\n",
      "Epoch 5/6\n",
      "8000/8000 - 1s - loss: 0.0042 - mean_squared_error: 0.0035 - mean_absolute_error: 0.0338 - val_loss: 0.0032 - val_mean_squared_error: 0.0025 - val_mean_absolute_error: 0.0288\n",
      "Epoch 6/6\n",
      "8000/8000 - 1s - loss: 0.0046 - mean_squared_error: 0.0038 - mean_absolute_error: 0.0345 - val_loss: 0.0028 - val_mean_squared_error: 0.0021 - val_mean_absolute_error: 0.0262\n"
     ]
    },
    {
     "data": {
      "text/html": [
       "<span style=\"color:#4527A0\"><h1 style=\"font-size:18px\">Trial complete</h1></span>"
      ],
      "text/plain": [
       "<IPython.core.display.HTML object>"
      ]
     },
     "metadata": {},
     "output_type": "display_data"
    },
    {
     "data": {
      "text/html": [
       "<span style=\"color:#4527A0\"><h1 style=\"font-size:18px\">Trial summary</h1></span>"
      ],
      "text/plain": [
       "<IPython.core.display.HTML object>"
      ]
     },
     "metadata": {},
     "output_type": "display_data"
    },
    {
     "data": {
      "text/html": [
       "<span style=\"color:cyan\"> |-Trial ID: 31ecea62f68bec353261ad92ed57be62</span>"
      ],
      "text/plain": [
       "<IPython.core.display.HTML object>"
      ]
     },
     "metadata": {},
     "output_type": "display_data"
    },
    {
     "data": {
      "text/html": [
       "<span style=\"color:cyan\"> |-Score: 0.001484306063503027</span>"
      ],
      "text/plain": [
       "<IPython.core.display.HTML object>"
      ]
     },
     "metadata": {},
     "output_type": "display_data"
    },
    {
     "data": {
      "text/html": [
       "<span style=\"color:cyan\"> |-Best step: 0</span>"
      ],
      "text/plain": [
       "<IPython.core.display.HTML object>"
      ]
     },
     "metadata": {},
     "output_type": "display_data"
    },
    {
     "data": {
      "text/html": [
       "<span style=\"color:#7E57C2\"><h2 style=\"font-size:16px\">Hyperparameters:</h2></span>"
      ],
      "text/plain": [
       "<IPython.core.display.HTML object>"
      ]
     },
     "metadata": {},
     "output_type": "display_data"
    },
    {
     "data": {
      "text/html": [
       "<span style=\"color:cyan\"> |-hidden_units: 152</span>"
      ],
      "text/plain": [
       "<IPython.core.display.HTML object>"
      ]
     },
     "metadata": {},
     "output_type": "display_data"
    },
    {
     "data": {
      "text/html": [
       "<span style=\"color:blue\"> |-learning_rate: 0.01</span>"
      ],
      "text/plain": [
       "<IPython.core.display.HTML object>"
      ]
     },
     "metadata": {},
     "output_type": "display_data"
    },
    {
     "data": {
      "text/html": [
       "<span style=\"color:cyan\"> |-tuner/bracket: 3</span>"
      ],
      "text/plain": [
       "<IPython.core.display.HTML object>"
      ]
     },
     "metadata": {},
     "output_type": "display_data"
    },
    {
     "data": {
      "text/html": [
       "<span style=\"color:blue\"> |-tuner/epochs: 6</span>"
      ],
      "text/plain": [
       "<IPython.core.display.HTML object>"
      ]
     },
     "metadata": {},
     "output_type": "display_data"
    },
    {
     "data": {
      "text/html": [
       "<span style=\"color:cyan\"> |-tuner/initial_epoch: 2</span>"
      ],
      "text/plain": [
       "<IPython.core.display.HTML object>"
      ]
     },
     "metadata": {},
     "output_type": "display_data"
    },
    {
     "data": {
      "text/html": [
       "<span style=\"color:blue\"> |-tuner/round: 1</span>"
      ],
      "text/plain": [
       "<IPython.core.display.HTML object>"
      ]
     },
     "metadata": {},
     "output_type": "display_data"
    },
    {
     "data": {
      "text/html": [
       "<span style=\"color:cyan\"> |-tuner/trial_id: ba7b0a30d9eabf49c3bfe1ea6a01265d</span>"
      ],
      "text/plain": [
       "<IPython.core.display.HTML object>"
      ]
     },
     "metadata": {},
     "output_type": "display_data"
    },
    {
     "name": "stdout",
     "output_type": "stream",
     "text": [
      "Train on 8000 samples, validate on 2000 samples\n",
      "Epoch 3/6\n",
      "8000/8000 - 2s - loss: 0.0179 - mean_squared_error: 0.0174 - mean_absolute_error: 0.0757 - val_loss: 0.0023 - val_mean_squared_error: 0.0017 - val_mean_absolute_error: 0.0271\n",
      "Epoch 4/6\n",
      "8000/8000 - 1s - loss: 0.0038 - mean_squared_error: 0.0031 - mean_absolute_error: 0.0334 - val_loss: 0.0024 - val_mean_squared_error: 0.0017 - val_mean_absolute_error: 0.0255\n",
      "Epoch 5/6\n",
      "8000/8000 - 1s - loss: 0.0043 - mean_squared_error: 0.0036 - mean_absolute_error: 0.0337 - val_loss: 0.0030 - val_mean_squared_error: 0.0022 - val_mean_absolute_error: 0.0274\n",
      "Epoch 6/6\n",
      "8000/8000 - 1s - loss: 0.0043 - mean_squared_error: 0.0036 - mean_absolute_error: 0.0336 - val_loss: 0.0024 - val_mean_squared_error: 0.0017 - val_mean_absolute_error: 0.0244\n"
     ]
    },
    {
     "data": {
      "text/html": [
       "<span style=\"color:#4527A0\"><h1 style=\"font-size:18px\">Trial complete</h1></span>"
      ],
      "text/plain": [
       "<IPython.core.display.HTML object>"
      ]
     },
     "metadata": {},
     "output_type": "display_data"
    },
    {
     "data": {
      "text/html": [
       "<span style=\"color:#4527A0\"><h1 style=\"font-size:18px\">Trial summary</h1></span>"
      ],
      "text/plain": [
       "<IPython.core.display.HTML object>"
      ]
     },
     "metadata": {},
     "output_type": "display_data"
    },
    {
     "data": {
      "text/html": [
       "<span style=\"color:cyan\"> |-Trial ID: 8a77cc7cbe3e13fa7c690a4a4263835e</span>"
      ],
      "text/plain": [
       "<IPython.core.display.HTML object>"
      ]
     },
     "metadata": {},
     "output_type": "display_data"
    },
    {
     "data": {
      "text/html": [
       "<span style=\"color:cyan\"> |-Score: 0.0016576367197558284</span>"
      ],
      "text/plain": [
       "<IPython.core.display.HTML object>"
      ]
     },
     "metadata": {},
     "output_type": "display_data"
    },
    {
     "data": {
      "text/html": [
       "<span style=\"color:cyan\"> |-Best step: 0</span>"
      ],
      "text/plain": [
       "<IPython.core.display.HTML object>"
      ]
     },
     "metadata": {},
     "output_type": "display_data"
    },
    {
     "data": {
      "text/html": [
       "<span style=\"color:#7E57C2\"><h2 style=\"font-size:16px\">Hyperparameters:</h2></span>"
      ],
      "text/plain": [
       "<IPython.core.display.HTML object>"
      ]
     },
     "metadata": {},
     "output_type": "display_data"
    },
    {
     "data": {
      "text/html": [
       "<span style=\"color:cyan\"> |-hidden_units: 166</span>"
      ],
      "text/plain": [
       "<IPython.core.display.HTML object>"
      ]
     },
     "metadata": {},
     "output_type": "display_data"
    },
    {
     "data": {
      "text/html": [
       "<span style=\"color:blue\"> |-learning_rate: 0.01</span>"
      ],
      "text/plain": [
       "<IPython.core.display.HTML object>"
      ]
     },
     "metadata": {},
     "output_type": "display_data"
    },
    {
     "data": {
      "text/html": [
       "<span style=\"color:cyan\"> |-tuner/bracket: 3</span>"
      ],
      "text/plain": [
       "<IPython.core.display.HTML object>"
      ]
     },
     "metadata": {},
     "output_type": "display_data"
    },
    {
     "data": {
      "text/html": [
       "<span style=\"color:blue\"> |-tuner/epochs: 6</span>"
      ],
      "text/plain": [
       "<IPython.core.display.HTML object>"
      ]
     },
     "metadata": {},
     "output_type": "display_data"
    },
    {
     "data": {
      "text/html": [
       "<span style=\"color:cyan\"> |-tuner/initial_epoch: 2</span>"
      ],
      "text/plain": [
       "<IPython.core.display.HTML object>"
      ]
     },
     "metadata": {},
     "output_type": "display_data"
    },
    {
     "data": {
      "text/html": [
       "<span style=\"color:blue\"> |-tuner/round: 1</span>"
      ],
      "text/plain": [
       "<IPython.core.display.HTML object>"
      ]
     },
     "metadata": {},
     "output_type": "display_data"
    },
    {
     "data": {
      "text/html": [
       "<span style=\"color:cyan\"> |-tuner/trial_id: 864eaaa3425cc11a348c117cd51acf82</span>"
      ],
      "text/plain": [
       "<IPython.core.display.HTML object>"
      ]
     },
     "metadata": {},
     "output_type": "display_data"
    },
    {
     "name": "stdout",
     "output_type": "stream",
     "text": [
      "Train on 8000 samples, validate on 2000 samples\n",
      "Epoch 3/6\n",
      "8000/8000 - 2s - loss: 0.0222 - mean_squared_error: 0.0218 - mean_absolute_error: 0.0894 - val_loss: 0.0024 - val_mean_squared_error: 0.0018 - val_mean_absolute_error: 0.0292\n",
      "Epoch 4/6\n",
      "8000/8000 - 1s - loss: 0.0046 - mean_squared_error: 0.0040 - mean_absolute_error: 0.0375 - val_loss: 0.0026 - val_mean_squared_error: 0.0019 - val_mean_absolute_error: 0.0270\n",
      "Epoch 5/6\n",
      "8000/8000 - 1s - loss: 0.0048 - mean_squared_error: 0.0041 - mean_absolute_error: 0.0364 - val_loss: 0.0028 - val_mean_squared_error: 0.0021 - val_mean_absolute_error: 0.0267\n",
      "Epoch 6/6\n",
      "8000/8000 - 1s - loss: 0.0052 - mean_squared_error: 0.0045 - mean_absolute_error: 0.0373 - val_loss: 0.0039 - val_mean_squared_error: 0.0032 - val_mean_absolute_error: 0.0309\n"
     ]
    },
    {
     "data": {
      "text/html": [
       "<span style=\"color:#4527A0\"><h1 style=\"font-size:18px\">Trial complete</h1></span>"
      ],
      "text/plain": [
       "<IPython.core.display.HTML object>"
      ]
     },
     "metadata": {},
     "output_type": "display_data"
    },
    {
     "data": {
      "text/html": [
       "<span style=\"color:#4527A0\"><h1 style=\"font-size:18px\">Trial summary</h1></span>"
      ],
      "text/plain": [
       "<IPython.core.display.HTML object>"
      ]
     },
     "metadata": {},
     "output_type": "display_data"
    },
    {
     "data": {
      "text/html": [
       "<span style=\"color:cyan\"> |-Trial ID: bee2f544caa2d9280fdf92255e607eeb</span>"
      ],
      "text/plain": [
       "<IPython.core.display.HTML object>"
      ]
     },
     "metadata": {},
     "output_type": "display_data"
    },
    {
     "data": {
      "text/html": [
       "<span style=\"color:cyan\"> |-Score: 0.0018382749985903502</span>"
      ],
      "text/plain": [
       "<IPython.core.display.HTML object>"
      ]
     },
     "metadata": {},
     "output_type": "display_data"
    },
    {
     "data": {
      "text/html": [
       "<span style=\"color:cyan\"> |-Best step: 0</span>"
      ],
      "text/plain": [
       "<IPython.core.display.HTML object>"
      ]
     },
     "metadata": {},
     "output_type": "display_data"
    },
    {
     "data": {
      "text/html": [
       "<span style=\"color:#7E57C2\"><h2 style=\"font-size:16px\">Hyperparameters:</h2></span>"
      ],
      "text/plain": [
       "<IPython.core.display.HTML object>"
      ]
     },
     "metadata": {},
     "output_type": "display_data"
    },
    {
     "data": {
      "text/html": [
       "<span style=\"color:cyan\"> |-hidden_units: 110</span>"
      ],
      "text/plain": [
       "<IPython.core.display.HTML object>"
      ]
     },
     "metadata": {},
     "output_type": "display_data"
    },
    {
     "data": {
      "text/html": [
       "<span style=\"color:blue\"> |-learning_rate: 0.01</span>"
      ],
      "text/plain": [
       "<IPython.core.display.HTML object>"
      ]
     },
     "metadata": {},
     "output_type": "display_data"
    },
    {
     "data": {
      "text/html": [
       "<span style=\"color:cyan\"> |-tuner/bracket: 3</span>"
      ],
      "text/plain": [
       "<IPython.core.display.HTML object>"
      ]
     },
     "metadata": {},
     "output_type": "display_data"
    },
    {
     "data": {
      "text/html": [
       "<span style=\"color:blue\"> |-tuner/epochs: 6</span>"
      ],
      "text/plain": [
       "<IPython.core.display.HTML object>"
      ]
     },
     "metadata": {},
     "output_type": "display_data"
    },
    {
     "data": {
      "text/html": [
       "<span style=\"color:cyan\"> |-tuner/initial_epoch: 2</span>"
      ],
      "text/plain": [
       "<IPython.core.display.HTML object>"
      ]
     },
     "metadata": {},
     "output_type": "display_data"
    },
    {
     "data": {
      "text/html": [
       "<span style=\"color:blue\"> |-tuner/round: 1</span>"
      ],
      "text/plain": [
       "<IPython.core.display.HTML object>"
      ]
     },
     "metadata": {},
     "output_type": "display_data"
    },
    {
     "data": {
      "text/html": [
       "<span style=\"color:cyan\"> |-tuner/trial_id: 8a409725500f81fed5eba4d4ad0081b1</span>"
      ],
      "text/plain": [
       "<IPython.core.display.HTML object>"
      ]
     },
     "metadata": {},
     "output_type": "display_data"
    },
    {
     "name": "stdout",
     "output_type": "stream",
     "text": [
      "Train on 8000 samples, validate on 2000 samples\n",
      "Epoch 3/6\n",
      "8000/8000 - 2s - loss: 0.0206 - mean_squared_error: 0.0201 - mean_absolute_error: 0.0848 - val_loss: 0.0022 - val_mean_squared_error: 0.0016 - val_mean_absolute_error: 0.0274\n",
      "Epoch 4/6\n",
      "8000/8000 - 1s - loss: 0.0043 - mean_squared_error: 0.0037 - mean_absolute_error: 0.0361 - val_loss: 0.0022 - val_mean_squared_error: 0.0015 - val_mean_absolute_error: 0.0246\n",
      "Epoch 5/6\n",
      "8000/8000 - 1s - loss: 0.0045 - mean_squared_error: 0.0039 - mean_absolute_error: 0.0353 - val_loss: 0.0035 - val_mean_squared_error: 0.0028 - val_mean_absolute_error: 0.0305\n",
      "Epoch 6/6\n",
      "8000/8000 - 1s - loss: 0.0048 - mean_squared_error: 0.0041 - mean_absolute_error: 0.0360 - val_loss: 0.0029 - val_mean_squared_error: 0.0021 - val_mean_absolute_error: 0.0264\n"
     ]
    },
    {
     "data": {
      "text/html": [
       "<span style=\"color:#4527A0\"><h1 style=\"font-size:18px\">Trial complete</h1></span>"
      ],
      "text/plain": [
       "<IPython.core.display.HTML object>"
      ]
     },
     "metadata": {},
     "output_type": "display_data"
    },
    {
     "data": {
      "text/html": [
       "<span style=\"color:#4527A0\"><h1 style=\"font-size:18px\">Trial summary</h1></span>"
      ],
      "text/plain": [
       "<IPython.core.display.HTML object>"
      ]
     },
     "metadata": {},
     "output_type": "display_data"
    },
    {
     "data": {
      "text/html": [
       "<span style=\"color:cyan\"> |-Trial ID: e299418a3e8693029a04096c5f159cde</span>"
      ],
      "text/plain": [
       "<IPython.core.display.HTML object>"
      ]
     },
     "metadata": {},
     "output_type": "display_data"
    },
    {
     "data": {
      "text/html": [
       "<span style=\"color:cyan\"> |-Score: 0.0014987430768087506</span>"
      ],
      "text/plain": [
       "<IPython.core.display.HTML object>"
      ]
     },
     "metadata": {},
     "output_type": "display_data"
    },
    {
     "data": {
      "text/html": [
       "<span style=\"color:cyan\"> |-Best step: 0</span>"
      ],
      "text/plain": [
       "<IPython.core.display.HTML object>"
      ]
     },
     "metadata": {},
     "output_type": "display_data"
    },
    {
     "data": {
      "text/html": [
       "<span style=\"color:#7E57C2\"><h2 style=\"font-size:16px\">Hyperparameters:</h2></span>"
      ],
      "text/plain": [
       "<IPython.core.display.HTML object>"
      ]
     },
     "metadata": {},
     "output_type": "display_data"
    },
    {
     "data": {
      "text/html": [
       "<span style=\"color:cyan\"> |-hidden_units: 124</span>"
      ],
      "text/plain": [
       "<IPython.core.display.HTML object>"
      ]
     },
     "metadata": {},
     "output_type": "display_data"
    },
    {
     "data": {
      "text/html": [
       "<span style=\"color:blue\"> |-learning_rate: 0.01</span>"
      ],
      "text/plain": [
       "<IPython.core.display.HTML object>"
      ]
     },
     "metadata": {},
     "output_type": "display_data"
    },
    {
     "data": {
      "text/html": [
       "<span style=\"color:cyan\"> |-tuner/bracket: 3</span>"
      ],
      "text/plain": [
       "<IPython.core.display.HTML object>"
      ]
     },
     "metadata": {},
     "output_type": "display_data"
    },
    {
     "data": {
      "text/html": [
       "<span style=\"color:blue\"> |-tuner/epochs: 6</span>"
      ],
      "text/plain": [
       "<IPython.core.display.HTML object>"
      ]
     },
     "metadata": {},
     "output_type": "display_data"
    },
    {
     "data": {
      "text/html": [
       "<span style=\"color:cyan\"> |-tuner/initial_epoch: 2</span>"
      ],
      "text/plain": [
       "<IPython.core.display.HTML object>"
      ]
     },
     "metadata": {},
     "output_type": "display_data"
    },
    {
     "data": {
      "text/html": [
       "<span style=\"color:blue\"> |-tuner/round: 1</span>"
      ],
      "text/plain": [
       "<IPython.core.display.HTML object>"
      ]
     },
     "metadata": {},
     "output_type": "display_data"
    },
    {
     "data": {
      "text/html": [
       "<span style=\"color:cyan\"> |-tuner/trial_id: 6fdbf5922361472bde8785ef3e238436</span>"
      ],
      "text/plain": [
       "<IPython.core.display.HTML object>"
      ]
     },
     "metadata": {},
     "output_type": "display_data"
    },
    {
     "name": "stdout",
     "output_type": "stream",
     "text": [
      "Train on 8000 samples, validate on 2000 samples\n",
      "Epoch 3/6\n",
      "8000/8000 - 2s - loss: 0.0189 - mean_squared_error: 0.0184 - mean_absolute_error: 0.0799 - val_loss: 0.0023 - val_mean_squared_error: 0.0017 - val_mean_absolute_error: 0.0272\n",
      "Epoch 4/6\n",
      "8000/8000 - 1s - loss: 0.0042 - mean_squared_error: 0.0035 - mean_absolute_error: 0.0354 - val_loss: 0.0027 - val_mean_squared_error: 0.0020 - val_mean_absolute_error: 0.0270\n",
      "Epoch 5/6\n",
      "8000/8000 - 1s - loss: 0.0045 - mean_squared_error: 0.0038 - mean_absolute_error: 0.0349 - val_loss: 0.0031 - val_mean_squared_error: 0.0024 - val_mean_absolute_error: 0.0282\n",
      "Epoch 6/6\n",
      "8000/8000 - 1s - loss: 0.0047 - mean_squared_error: 0.0040 - mean_absolute_error: 0.0352 - val_loss: 0.0032 - val_mean_squared_error: 0.0024 - val_mean_absolute_error: 0.0279\n"
     ]
    },
    {
     "data": {
      "text/html": [
       "<span style=\"color:#4527A0\"><h1 style=\"font-size:18px\">Trial complete</h1></span>"
      ],
      "text/plain": [
       "<IPython.core.display.HTML object>"
      ]
     },
     "metadata": {},
     "output_type": "display_data"
    },
    {
     "data": {
      "text/html": [
       "<span style=\"color:#4527A0\"><h1 style=\"font-size:18px\">Trial summary</h1></span>"
      ],
      "text/plain": [
       "<IPython.core.display.HTML object>"
      ]
     },
     "metadata": {},
     "output_type": "display_data"
    },
    {
     "data": {
      "text/html": [
       "<span style=\"color:cyan\"> |-Trial ID: ef1e10cf7a5263302a2ad8542686fea2</span>"
      ],
      "text/plain": [
       "<IPython.core.display.HTML object>"
      ]
     },
     "metadata": {},
     "output_type": "display_data"
    },
    {
     "data": {
      "text/html": [
       "<span style=\"color:cyan\"> |-Score: 0.001667418284341693</span>"
      ],
      "text/plain": [
       "<IPython.core.display.HTML object>"
      ]
     },
     "metadata": {},
     "output_type": "display_data"
    },
    {
     "data": {
      "text/html": [
       "<span style=\"color:cyan\"> |-Best step: 0</span>"
      ],
      "text/plain": [
       "<IPython.core.display.HTML object>"
      ]
     },
     "metadata": {},
     "output_type": "display_data"
    },
    {
     "data": {
      "text/html": [
       "<span style=\"color:#7E57C2\"><h2 style=\"font-size:16px\">Hyperparameters:</h2></span>"
      ],
      "text/plain": [
       "<IPython.core.display.HTML object>"
      ]
     },
     "metadata": {},
     "output_type": "display_data"
    },
    {
     "data": {
      "text/html": [
       "<span style=\"color:cyan\"> |-hidden_units: 136</span>"
      ],
      "text/plain": [
       "<IPython.core.display.HTML object>"
      ]
     },
     "metadata": {},
     "output_type": "display_data"
    },
    {
     "data": {
      "text/html": [
       "<span style=\"color:blue\"> |-learning_rate: 0.01</span>"
      ],
      "text/plain": [
       "<IPython.core.display.HTML object>"
      ]
     },
     "metadata": {},
     "output_type": "display_data"
    },
    {
     "data": {
      "text/html": [
       "<span style=\"color:cyan\"> |-tuner/bracket: 3</span>"
      ],
      "text/plain": [
       "<IPython.core.display.HTML object>"
      ]
     },
     "metadata": {},
     "output_type": "display_data"
    },
    {
     "data": {
      "text/html": [
       "<span style=\"color:blue\"> |-tuner/epochs: 6</span>"
      ],
      "text/plain": [
       "<IPython.core.display.HTML object>"
      ]
     },
     "metadata": {},
     "output_type": "display_data"
    },
    {
     "data": {
      "text/html": [
       "<span style=\"color:cyan\"> |-tuner/initial_epoch: 2</span>"
      ],
      "text/plain": [
       "<IPython.core.display.HTML object>"
      ]
     },
     "metadata": {},
     "output_type": "display_data"
    },
    {
     "data": {
      "text/html": [
       "<span style=\"color:blue\"> |-tuner/round: 1</span>"
      ],
      "text/plain": [
       "<IPython.core.display.HTML object>"
      ]
     },
     "metadata": {},
     "output_type": "display_data"
    },
    {
     "data": {
      "text/html": [
       "<span style=\"color:cyan\"> |-tuner/trial_id: d3fd2ee1527348094a760d1489b91b32</span>"
      ],
      "text/plain": [
       "<IPython.core.display.HTML object>"
      ]
     },
     "metadata": {},
     "output_type": "display_data"
    },
    {
     "name": "stdout",
     "output_type": "stream",
     "text": [
      "Train on 8000 samples, validate on 2000 samples\n",
      "Epoch 3/6\n",
      "8000/8000 - 2s - loss: 0.0214 - mean_squared_error: 0.0209 - mean_absolute_error: 0.0871 - val_loss: 0.0024 - val_mean_squared_error: 0.0018 - val_mean_absolute_error: 0.0287\n",
      "Epoch 4/6\n",
      "8000/8000 - 1s - loss: 0.0044 - mean_squared_error: 0.0037 - mean_absolute_error: 0.0363 - val_loss: 0.0021 - val_mean_squared_error: 0.0015 - val_mean_absolute_error: 0.0243\n",
      "Epoch 5/6\n",
      "8000/8000 - 1s - loss: 0.0046 - mean_squared_error: 0.0039 - mean_absolute_error: 0.0355 - val_loss: 0.0030 - val_mean_squared_error: 0.0023 - val_mean_absolute_error: 0.0281\n",
      "Epoch 6/6\n",
      "8000/8000 - 1s - loss: 0.0050 - mean_squared_error: 0.0043 - mean_absolute_error: 0.0363 - val_loss: 0.0032 - val_mean_squared_error: 0.0025 - val_mean_absolute_error: 0.0282\n"
     ]
    },
    {
     "data": {
      "text/html": [
       "<span style=\"color:#4527A0\"><h1 style=\"font-size:18px\">Trial complete</h1></span>"
      ],
      "text/plain": [
       "<IPython.core.display.HTML object>"
      ]
     },
     "metadata": {},
     "output_type": "display_data"
    },
    {
     "data": {
      "text/html": [
       "<span style=\"color:#4527A0\"><h1 style=\"font-size:18px\">Trial summary</h1></span>"
      ],
      "text/plain": [
       "<IPython.core.display.HTML object>"
      ]
     },
     "metadata": {},
     "output_type": "display_data"
    },
    {
     "data": {
      "text/html": [
       "<span style=\"color:cyan\"> |-Trial ID: 17f3be4750ab9c3b9c279d0abfe743a7</span>"
      ],
      "text/plain": [
       "<IPython.core.display.HTML object>"
      ]
     },
     "metadata": {},
     "output_type": "display_data"
    },
    {
     "data": {
      "text/html": [
       "<span style=\"color:cyan\"> |-Score: 0.0014501764671877027</span>"
      ],
      "text/plain": [
       "<IPython.core.display.HTML object>"
      ]
     },
     "metadata": {},
     "output_type": "display_data"
    },
    {
     "data": {
      "text/html": [
       "<span style=\"color:cyan\"> |-Best step: 0</span>"
      ],
      "text/plain": [
       "<IPython.core.display.HTML object>"
      ]
     },
     "metadata": {},
     "output_type": "display_data"
    },
    {
     "data": {
      "text/html": [
       "<span style=\"color:#7E57C2\"><h2 style=\"font-size:16px\">Hyperparameters:</h2></span>"
      ],
      "text/plain": [
       "<IPython.core.display.HTML object>"
      ]
     },
     "metadata": {},
     "output_type": "display_data"
    },
    {
     "data": {
      "text/html": [
       "<span style=\"color:cyan\"> |-hidden_units: 118</span>"
      ],
      "text/plain": [
       "<IPython.core.display.HTML object>"
      ]
     },
     "metadata": {},
     "output_type": "display_data"
    },
    {
     "data": {
      "text/html": [
       "<span style=\"color:blue\"> |-learning_rate: 0.01</span>"
      ],
      "text/plain": [
       "<IPython.core.display.HTML object>"
      ]
     },
     "metadata": {},
     "output_type": "display_data"
    },
    {
     "data": {
      "text/html": [
       "<span style=\"color:cyan\"> |-tuner/bracket: 3</span>"
      ],
      "text/plain": [
       "<IPython.core.display.HTML object>"
      ]
     },
     "metadata": {},
     "output_type": "display_data"
    },
    {
     "data": {
      "text/html": [
       "<span style=\"color:blue\"> |-tuner/epochs: 6</span>"
      ],
      "text/plain": [
       "<IPython.core.display.HTML object>"
      ]
     },
     "metadata": {},
     "output_type": "display_data"
    },
    {
     "data": {
      "text/html": [
       "<span style=\"color:cyan\"> |-tuner/initial_epoch: 2</span>"
      ],
      "text/plain": [
       "<IPython.core.display.HTML object>"
      ]
     },
     "metadata": {},
     "output_type": "display_data"
    },
    {
     "data": {
      "text/html": [
       "<span style=\"color:blue\"> |-tuner/round: 1</span>"
      ],
      "text/plain": [
       "<IPython.core.display.HTML object>"
      ]
     },
     "metadata": {},
     "output_type": "display_data"
    },
    {
     "data": {
      "text/html": [
       "<span style=\"color:cyan\"> |-tuner/trial_id: 990cfa9f5e2c9f7765da89a7e62cc0d0</span>"
      ],
      "text/plain": [
       "<IPython.core.display.HTML object>"
      ]
     },
     "metadata": {},
     "output_type": "display_data"
    },
    {
     "name": "stdout",
     "output_type": "stream",
     "text": [
      "Train on 8000 samples, validate on 2000 samples\n",
      "Epoch 3/6\n",
      "8000/8000 - 1s - loss: 0.0494 - mean_squared_error: 0.0491 - mean_absolute_error: 0.1548 - val_loss: 0.0052 - val_mean_squared_error: 0.0047 - val_mean_absolute_error: 0.0482\n",
      "Epoch 4/6\n",
      "8000/8000 - 1s - loss: 0.0110 - mean_squared_error: 0.0104 - mean_absolute_error: 0.0588 - val_loss: 0.0051 - val_mean_squared_error: 0.0045 - val_mean_absolute_error: 0.0398\n",
      "Epoch 5/6\n",
      "8000/8000 - 0s - loss: 0.0103 - mean_squared_error: 0.0097 - mean_absolute_error: 0.0527 - val_loss: 0.0049 - val_mean_squared_error: 0.0042 - val_mean_absolute_error: 0.0366\n",
      "Epoch 6/6\n",
      "8000/8000 - 0s - loss: 0.0101 - mean_squared_error: 0.0094 - mean_absolute_error: 0.0514 - val_loss: 0.0054 - val_mean_squared_error: 0.0047 - val_mean_absolute_error: 0.0379\n"
     ]
    },
    {
     "data": {
      "text/html": [
       "<span style=\"color:#4527A0\"><h1 style=\"font-size:18px\">Trial complete</h1></span>"
      ],
      "text/plain": [
       "<IPython.core.display.HTML object>"
      ]
     },
     "metadata": {},
     "output_type": "display_data"
    },
    {
     "data": {
      "text/html": [
       "<span style=\"color:#4527A0\"><h1 style=\"font-size:18px\">Trial summary</h1></span>"
      ],
      "text/plain": [
       "<IPython.core.display.HTML object>"
      ]
     },
     "metadata": {},
     "output_type": "display_data"
    },
    {
     "data": {
      "text/html": [
       "<span style=\"color:cyan\"> |-Trial ID: 7ac2389e519e9262271913ecfc657374</span>"
      ],
      "text/plain": [
       "<IPython.core.display.HTML object>"
      ]
     },
     "metadata": {},
     "output_type": "display_data"
    },
    {
     "data": {
      "text/html": [
       "<span style=\"color:cyan\"> |-Score: 0.004206846933811903</span>"
      ],
      "text/plain": [
       "<IPython.core.display.HTML object>"
      ]
     },
     "metadata": {},
     "output_type": "display_data"
    },
    {
     "data": {
      "text/html": [
       "<span style=\"color:cyan\"> |-Best step: 0</span>"
      ],
      "text/plain": [
       "<IPython.core.display.HTML object>"
      ]
     },
     "metadata": {},
     "output_type": "display_data"
    },
    {
     "data": {
      "text/html": [
       "<span style=\"color:#7E57C2\"><h2 style=\"font-size:16px\">Hyperparameters:</h2></span>"
      ],
      "text/plain": [
       "<IPython.core.display.HTML object>"
      ]
     },
     "metadata": {},
     "output_type": "display_data"
    },
    {
     "data": {
      "text/html": [
       "<span style=\"color:cyan\"> |-hidden_units: 40</span>"
      ],
      "text/plain": [
       "<IPython.core.display.HTML object>"
      ]
     },
     "metadata": {},
     "output_type": "display_data"
    },
    {
     "data": {
      "text/html": [
       "<span style=\"color:blue\"> |-learning_rate: 0.01</span>"
      ],
      "text/plain": [
       "<IPython.core.display.HTML object>"
      ]
     },
     "metadata": {},
     "output_type": "display_data"
    },
    {
     "data": {
      "text/html": [
       "<span style=\"color:cyan\"> |-tuner/bracket: 3</span>"
      ],
      "text/plain": [
       "<IPython.core.display.HTML object>"
      ]
     },
     "metadata": {},
     "output_type": "display_data"
    },
    {
     "data": {
      "text/html": [
       "<span style=\"color:blue\"> |-tuner/epochs: 6</span>"
      ],
      "text/plain": [
       "<IPython.core.display.HTML object>"
      ]
     },
     "metadata": {},
     "output_type": "display_data"
    },
    {
     "data": {
      "text/html": [
       "<span style=\"color:cyan\"> |-tuner/initial_epoch: 2</span>"
      ],
      "text/plain": [
       "<IPython.core.display.HTML object>"
      ]
     },
     "metadata": {},
     "output_type": "display_data"
    },
    {
     "data": {
      "text/html": [
       "<span style=\"color:blue\"> |-tuner/round: 1</span>"
      ],
      "text/plain": [
       "<IPython.core.display.HTML object>"
      ]
     },
     "metadata": {},
     "output_type": "display_data"
    },
    {
     "data": {
      "text/html": [
       "<span style=\"color:cyan\"> |-tuner/trial_id: c50a266cc216ebc24e17dcf53ce6ee95</span>"
      ],
      "text/plain": [
       "<IPython.core.display.HTML object>"
      ]
     },
     "metadata": {},
     "output_type": "display_data"
    },
    {
     "name": "stdout",
     "output_type": "stream",
     "text": [
      "Train on 8000 samples, validate on 2000 samples\n",
      "Epoch 3/6\n",
      "8000/8000 - 2s - loss: 0.0981 - mean_squared_error: 0.0980 - mean_absolute_error: 0.2746 - val_loss: 0.0268 - val_mean_squared_error: 0.0265 - val_mean_absolute_error: 0.1435\n",
      "Epoch 4/6\n",
      "8000/8000 - 1s - loss: 0.0142 - mean_squared_error: 0.0139 - mean_absolute_error: 0.1002 - val_loss: 0.0060 - val_mean_squared_error: 0.0056 - val_mean_absolute_error: 0.0665\n",
      "Epoch 5/6\n",
      "8000/8000 - 1s - loss: 0.0056 - mean_squared_error: 0.0052 - mean_absolute_error: 0.0598 - val_loss: 0.0032 - val_mean_squared_error: 0.0027 - val_mean_absolute_error: 0.0449\n",
      "Epoch 6/6\n",
      "8000/8000 - 1s - loss: 0.0039 - mean_squared_error: 0.0034 - mean_absolute_error: 0.0458 - val_loss: 0.0024 - val_mean_squared_error: 0.0019 - val_mean_absolute_error: 0.0354\n"
     ]
    },
    {
     "data": {
      "text/html": [
       "<span style=\"color:#4527A0\"><h1 style=\"font-size:18px\">Trial complete</h1></span>"
      ],
      "text/plain": [
       "<IPython.core.display.HTML object>"
      ]
     },
     "metadata": {},
     "output_type": "display_data"
    },
    {
     "data": {
      "text/html": [
       "<span style=\"color:#4527A0\"><h1 style=\"font-size:18px\">Trial summary</h1></span>"
      ],
      "text/plain": [
       "<IPython.core.display.HTML object>"
      ]
     },
     "metadata": {},
     "output_type": "display_data"
    },
    {
     "data": {
      "text/html": [
       "<span style=\"color:cyan\"> |-Trial ID: 3049dbc235158fd2cebdf269c42a9230</span>"
      ],
      "text/plain": [
       "<IPython.core.display.HTML object>"
      ]
     },
     "metadata": {},
     "output_type": "display_data"
    },
    {
     "data": {
      "text/html": [
       "<span style=\"color:cyan\"> |-Score: 0.0018790994072332978</span>"
      ],
      "text/plain": [
       "<IPython.core.display.HTML object>"
      ]
     },
     "metadata": {},
     "output_type": "display_data"
    },
    {
     "data": {
      "text/html": [
       "<span style=\"color:cyan\"> |-Best step: 0</span>"
      ],
      "text/plain": [
       "<IPython.core.display.HTML object>"
      ]
     },
     "metadata": {},
     "output_type": "display_data"
    },
    {
     "data": {
      "text/html": [
       "<span style=\"color:#7E57C2\"><h2 style=\"font-size:16px\">Hyperparameters:</h2></span>"
      ],
      "text/plain": [
       "<IPython.core.display.HTML object>"
      ]
     },
     "metadata": {},
     "output_type": "display_data"
    },
    {
     "data": {
      "text/html": [
       "<span style=\"color:cyan\"> |-hidden_units: 192</span>"
      ],
      "text/plain": [
       "<IPython.core.display.HTML object>"
      ]
     },
     "metadata": {},
     "output_type": "display_data"
    },
    {
     "data": {
      "text/html": [
       "<span style=\"color:blue\"> |-learning_rate: 0.001</span>"
      ],
      "text/plain": [
       "<IPython.core.display.HTML object>"
      ]
     },
     "metadata": {},
     "output_type": "display_data"
    },
    {
     "data": {
      "text/html": [
       "<span style=\"color:cyan\"> |-tuner/bracket: 3</span>"
      ],
      "text/plain": [
       "<IPython.core.display.HTML object>"
      ]
     },
     "metadata": {},
     "output_type": "display_data"
    },
    {
     "data": {
      "text/html": [
       "<span style=\"color:blue\"> |-tuner/epochs: 6</span>"
      ],
      "text/plain": [
       "<IPython.core.display.HTML object>"
      ]
     },
     "metadata": {},
     "output_type": "display_data"
    },
    {
     "data": {
      "text/html": [
       "<span style=\"color:cyan\"> |-tuner/initial_epoch: 2</span>"
      ],
      "text/plain": [
       "<IPython.core.display.HTML object>"
      ]
     },
     "metadata": {},
     "output_type": "display_data"
    },
    {
     "data": {
      "text/html": [
       "<span style=\"color:blue\"> |-tuner/round: 1</span>"
      ],
      "text/plain": [
       "<IPython.core.display.HTML object>"
      ]
     },
     "metadata": {},
     "output_type": "display_data"
    },
    {
     "data": {
      "text/html": [
       "<span style=\"color:cyan\"> |-tuner/trial_id: 3b6a238f019da44de9b54139dc139a0a</span>"
      ],
      "text/plain": [
       "<IPython.core.display.HTML object>"
      ]
     },
     "metadata": {},
     "output_type": "display_data"
    },
    {
     "name": "stdout",
     "output_type": "stream",
     "text": [
      "Train on 8000 samples, validate on 2000 samples\n",
      "Epoch 3/6\n",
      "8000/8000 - 2s - loss: 0.0958 - mean_squared_error: 0.0956 - mean_absolute_error: 0.2711 - val_loss: 0.0261 - val_mean_squared_error: 0.0258 - val_mean_absolute_error: 0.1418\n",
      "Epoch 4/6\n",
      "8000/8000 - 1s - loss: 0.0139 - mean_squared_error: 0.0136 - mean_absolute_error: 0.0990 - val_loss: 0.0058 - val_mean_squared_error: 0.0054 - val_mean_absolute_error: 0.0655\n",
      "Epoch 5/6\n",
      "8000/8000 - 1s - loss: 0.0055 - mean_squared_error: 0.0051 - mean_absolute_error: 0.0592 - val_loss: 0.0031 - val_mean_squared_error: 0.0026 - val_mean_absolute_error: 0.0441\n",
      "Epoch 6/6\n",
      "8000/8000 - 1s - loss: 0.0039 - mean_squared_error: 0.0034 - mean_absolute_error: 0.0454 - val_loss: 0.0024 - val_mean_squared_error: 0.0019 - val_mean_absolute_error: 0.0354\n"
     ]
    },
    {
     "data": {
      "text/html": [
       "<span style=\"color:#4527A0\"><h1 style=\"font-size:18px\">Trial complete</h1></span>"
      ],
      "text/plain": [
       "<IPython.core.display.HTML object>"
      ]
     },
     "metadata": {},
     "output_type": "display_data"
    },
    {
     "data": {
      "text/html": [
       "<span style=\"color:#4527A0\"><h1 style=\"font-size:18px\">Trial summary</h1></span>"
      ],
      "text/plain": [
       "<IPython.core.display.HTML object>"
      ]
     },
     "metadata": {},
     "output_type": "display_data"
    },
    {
     "data": {
      "text/html": [
       "<span style=\"color:cyan\"> |-Trial ID: 57755551119ee0b1634deb84ec7d9da8</span>"
      ],
      "text/plain": [
       "<IPython.core.display.HTML object>"
      ]
     },
     "metadata": {},
     "output_type": "display_data"
    },
    {
     "data": {
      "text/html": [
       "<span style=\"color:cyan\"> |-Score: 0.0018988152733072639</span>"
      ],
      "text/plain": [
       "<IPython.core.display.HTML object>"
      ]
     },
     "metadata": {},
     "output_type": "display_data"
    },
    {
     "data": {
      "text/html": [
       "<span style=\"color:cyan\"> |-Best step: 0</span>"
      ],
      "text/plain": [
       "<IPython.core.display.HTML object>"
      ]
     },
     "metadata": {},
     "output_type": "display_data"
    },
    {
     "data": {
      "text/html": [
       "<span style=\"color:#7E57C2\"><h2 style=\"font-size:16px\">Hyperparameters:</h2></span>"
      ],
      "text/plain": [
       "<IPython.core.display.HTML object>"
      ]
     },
     "metadata": {},
     "output_type": "display_data"
    },
    {
     "data": {
      "text/html": [
       "<span style=\"color:cyan\"> |-hidden_units: 188</span>"
      ],
      "text/plain": [
       "<IPython.core.display.HTML object>"
      ]
     },
     "metadata": {},
     "output_type": "display_data"
    },
    {
     "data": {
      "text/html": [
       "<span style=\"color:blue\"> |-learning_rate: 0.001</span>"
      ],
      "text/plain": [
       "<IPython.core.display.HTML object>"
      ]
     },
     "metadata": {},
     "output_type": "display_data"
    },
    {
     "data": {
      "text/html": [
       "<span style=\"color:cyan\"> |-tuner/bracket: 3</span>"
      ],
      "text/plain": [
       "<IPython.core.display.HTML object>"
      ]
     },
     "metadata": {},
     "output_type": "display_data"
    },
    {
     "data": {
      "text/html": [
       "<span style=\"color:blue\"> |-tuner/epochs: 6</span>"
      ],
      "text/plain": [
       "<IPython.core.display.HTML object>"
      ]
     },
     "metadata": {},
     "output_type": "display_data"
    },
    {
     "data": {
      "text/html": [
       "<span style=\"color:cyan\"> |-tuner/initial_epoch: 2</span>"
      ],
      "text/plain": [
       "<IPython.core.display.HTML object>"
      ]
     },
     "metadata": {},
     "output_type": "display_data"
    },
    {
     "data": {
      "text/html": [
       "<span style=\"color:blue\"> |-tuner/round: 1</span>"
      ],
      "text/plain": [
       "<IPython.core.display.HTML object>"
      ]
     },
     "metadata": {},
     "output_type": "display_data"
    },
    {
     "data": {
      "text/html": [
       "<span style=\"color:cyan\"> |-tuner/trial_id: d64af22588c896f6bcc75ea46c0b398f</span>"
      ],
      "text/plain": [
       "<IPython.core.display.HTML object>"
      ]
     },
     "metadata": {},
     "output_type": "display_data"
    },
    {
     "name": "stdout",
     "output_type": "stream",
     "text": [
      "Train on 8000 samples, validate on 2000 samples\n",
      "Epoch 3/6\n",
      "8000/8000 - 2s - loss: 0.0987 - mean_squared_error: 0.0985 - mean_absolute_error: 0.2762 - val_loss: 0.0284 - val_mean_squared_error: 0.0282 - val_mean_absolute_error: 0.1484\n",
      "Epoch 4/6\n",
      "8000/8000 - 1s - loss: 0.0151 - mean_squared_error: 0.0147 - mean_absolute_error: 0.1032 - val_loss: 0.0063 - val_mean_squared_error: 0.0059 - val_mean_absolute_error: 0.0683\n",
      "Epoch 5/6\n",
      "8000/8000 - 1s - loss: 0.0058 - mean_squared_error: 0.0054 - mean_absolute_error: 0.0610 - val_loss: 0.0032 - val_mean_squared_error: 0.0027 - val_mean_absolute_error: 0.0455\n",
      "Epoch 6/6\n",
      "8000/8000 - 1s - loss: 0.0040 - mean_squared_error: 0.0035 - mean_absolute_error: 0.0467 - val_loss: 0.0026 - val_mean_squared_error: 0.0020 - val_mean_absolute_error: 0.0366\n"
     ]
    },
    {
     "data": {
      "text/html": [
       "<span style=\"color:#4527A0\"><h1 style=\"font-size:18px\">Trial complete</h1></span>"
      ],
      "text/plain": [
       "<IPython.core.display.HTML object>"
      ]
     },
     "metadata": {},
     "output_type": "display_data"
    },
    {
     "data": {
      "text/html": [
       "<span style=\"color:#4527A0\"><h1 style=\"font-size:18px\">Trial summary</h1></span>"
      ],
      "text/plain": [
       "<IPython.core.display.HTML object>"
      ]
     },
     "metadata": {},
     "output_type": "display_data"
    },
    {
     "data": {
      "text/html": [
       "<span style=\"color:cyan\"> |-Trial ID: 3af7c45cdcd2fcc6e61730ef7391b0ad</span>"
      ],
      "text/plain": [
       "<IPython.core.display.HTML object>"
      ]
     },
     "metadata": {},
     "output_type": "display_data"
    },
    {
     "data": {
      "text/html": [
       "<span style=\"color:cyan\"> |-Score: 0.0020316047593951225</span>"
      ],
      "text/plain": [
       "<IPython.core.display.HTML object>"
      ]
     },
     "metadata": {},
     "output_type": "display_data"
    },
    {
     "data": {
      "text/html": [
       "<span style=\"color:cyan\"> |-Best step: 0</span>"
      ],
      "text/plain": [
       "<IPython.core.display.HTML object>"
      ]
     },
     "metadata": {},
     "output_type": "display_data"
    },
    {
     "data": {
      "text/html": [
       "<span style=\"color:#7E57C2\"><h2 style=\"font-size:16px\">Hyperparameters:</h2></span>"
      ],
      "text/plain": [
       "<IPython.core.display.HTML object>"
      ]
     },
     "metadata": {},
     "output_type": "display_data"
    },
    {
     "data": {
      "text/html": [
       "<span style=\"color:cyan\"> |-hidden_units: 184</span>"
      ],
      "text/plain": [
       "<IPython.core.display.HTML object>"
      ]
     },
     "metadata": {},
     "output_type": "display_data"
    },
    {
     "data": {
      "text/html": [
       "<span style=\"color:blue\"> |-learning_rate: 0.001</span>"
      ],
      "text/plain": [
       "<IPython.core.display.HTML object>"
      ]
     },
     "metadata": {},
     "output_type": "display_data"
    },
    {
     "data": {
      "text/html": [
       "<span style=\"color:cyan\"> |-tuner/bracket: 3</span>"
      ],
      "text/plain": [
       "<IPython.core.display.HTML object>"
      ]
     },
     "metadata": {},
     "output_type": "display_data"
    },
    {
     "data": {
      "text/html": [
       "<span style=\"color:blue\"> |-tuner/epochs: 6</span>"
      ],
      "text/plain": [
       "<IPython.core.display.HTML object>"
      ]
     },
     "metadata": {},
     "output_type": "display_data"
    },
    {
     "data": {
      "text/html": [
       "<span style=\"color:cyan\"> |-tuner/initial_epoch: 2</span>"
      ],
      "text/plain": [
       "<IPython.core.display.HTML object>"
      ]
     },
     "metadata": {},
     "output_type": "display_data"
    },
    {
     "data": {
      "text/html": [
       "<span style=\"color:blue\"> |-tuner/round: 1</span>"
      ],
      "text/plain": [
       "<IPython.core.display.HTML object>"
      ]
     },
     "metadata": {},
     "output_type": "display_data"
    },
    {
     "data": {
      "text/html": [
       "<span style=\"color:cyan\"> |-tuner/trial_id: 1c13a6ae372eb6f80ed40da6d290b401</span>"
      ],
      "text/plain": [
       "<IPython.core.display.HTML object>"
      ]
     },
     "metadata": {},
     "output_type": "display_data"
    },
    {
     "name": "stdout",
     "output_type": "stream",
     "text": [
      "Train on 8000 samples, validate on 2000 samples\n",
      "Epoch 7/17\n",
      "8000/8000 - 2s - loss: 0.0160 - mean_squared_error: 0.0155 - mean_absolute_error: 0.0703 - val_loss: 0.0019 - val_mean_squared_error: 0.0012 - val_mean_absolute_error: 0.0238\n",
      "Epoch 8/17\n",
      "8000/8000 - 1s - loss: 0.0036 - mean_squared_error: 0.0030 - mean_absolute_error: 0.0322 - val_loss: 0.0024 - val_mean_squared_error: 0.0017 - val_mean_absolute_error: 0.0249\n",
      "Epoch 9/17\n",
      "8000/8000 - 1s - loss: 0.0039 - mean_squared_error: 0.0032 - mean_absolute_error: 0.0321 - val_loss: 0.0030 - val_mean_squared_error: 0.0023 - val_mean_absolute_error: 0.0278\n",
      "Epoch 10/17\n",
      "8000/8000 - 1s - loss: 0.0044 - mean_squared_error: 0.0036 - mean_absolute_error: 0.0334 - val_loss: 0.0028 - val_mean_squared_error: 0.0020 - val_mean_absolute_error: 0.0255\n",
      "Epoch 11/17\n",
      "8000/8000 - 1s - loss: 0.0044 - mean_squared_error: 0.0037 - mean_absolute_error: 0.0335 - val_loss: 0.0036 - val_mean_squared_error: 0.0028 - val_mean_absolute_error: 0.0298\n",
      "Epoch 12/17\n",
      "8000/8000 - 1s - loss: 0.0048 - mean_squared_error: 0.0041 - mean_absolute_error: 0.0346 - val_loss: 0.0037 - val_mean_squared_error: 0.0030 - val_mean_absolute_error: 0.0293\n"
     ]
    },
    {
     "data": {
      "text/html": [
       "<span style=\"color:#4527A0\"><h1 style=\"font-size:18px\">Trial complete</h1></span>"
      ],
      "text/plain": [
       "<IPython.core.display.HTML object>"
      ]
     },
     "metadata": {},
     "output_type": "display_data"
    },
    {
     "data": {
      "text/html": [
       "<span style=\"color:#4527A0\"><h1 style=\"font-size:18px\">Trial summary</h1></span>"
      ],
      "text/plain": [
       "<IPython.core.display.HTML object>"
      ]
     },
     "metadata": {},
     "output_type": "display_data"
    },
    {
     "data": {
      "text/html": [
       "<span style=\"color:cyan\"> |-Trial ID: f11bba064a1bcb77e9bd85a2f183262a</span>"
      ],
      "text/plain": [
       "<IPython.core.display.HTML object>"
      ]
     },
     "metadata": {},
     "output_type": "display_data"
    },
    {
     "data": {
      "text/html": [
       "<span style=\"color:cyan\"> |-Score: 0.0012120312312617898</span>"
      ],
      "text/plain": [
       "<IPython.core.display.HTML object>"
      ]
     },
     "metadata": {},
     "output_type": "display_data"
    },
    {
     "data": {
      "text/html": [
       "<span style=\"color:cyan\"> |-Best step: 0</span>"
      ],
      "text/plain": [
       "<IPython.core.display.HTML object>"
      ]
     },
     "metadata": {},
     "output_type": "display_data"
    },
    {
     "data": {
      "text/html": [
       "<span style=\"color:#7E57C2\"><h2 style=\"font-size:16px\">Hyperparameters:</h2></span>"
      ],
      "text/plain": [
       "<IPython.core.display.HTML object>"
      ]
     },
     "metadata": {},
     "output_type": "display_data"
    },
    {
     "data": {
      "text/html": [
       "<span style=\"color:cyan\"> |-hidden_units: 194</span>"
      ],
      "text/plain": [
       "<IPython.core.display.HTML object>"
      ]
     },
     "metadata": {},
     "output_type": "display_data"
    },
    {
     "data": {
      "text/html": [
       "<span style=\"color:blue\"> |-learning_rate: 0.01</span>"
      ],
      "text/plain": [
       "<IPython.core.display.HTML object>"
      ]
     },
     "metadata": {},
     "output_type": "display_data"
    },
    {
     "data": {
      "text/html": [
       "<span style=\"color:cyan\"> |-tuner/bracket: 3</span>"
      ],
      "text/plain": [
       "<IPython.core.display.HTML object>"
      ]
     },
     "metadata": {},
     "output_type": "display_data"
    },
    {
     "data": {
      "text/html": [
       "<span style=\"color:blue\"> |-tuner/epochs: 17</span>"
      ],
      "text/plain": [
       "<IPython.core.display.HTML object>"
      ]
     },
     "metadata": {},
     "output_type": "display_data"
    },
    {
     "data": {
      "text/html": [
       "<span style=\"color:cyan\"> |-tuner/initial_epoch: 6</span>"
      ],
      "text/plain": [
       "<IPython.core.display.HTML object>"
      ]
     },
     "metadata": {},
     "output_type": "display_data"
    },
    {
     "data": {
      "text/html": [
       "<span style=\"color:blue\"> |-tuner/round: 2</span>"
      ],
      "text/plain": [
       "<IPython.core.display.HTML object>"
      ]
     },
     "metadata": {},
     "output_type": "display_data"
    },
    {
     "data": {
      "text/html": [
       "<span style=\"color:cyan\"> |-tuner/trial_id: 561793d899ff27bbc26aff5327ccd815</span>"
      ],
      "text/plain": [
       "<IPython.core.display.HTML object>"
      ]
     },
     "metadata": {},
     "output_type": "display_data"
    },
    {
     "name": "stdout",
     "output_type": "stream",
     "text": [
      "Train on 8000 samples, validate on 2000 samples\n",
      "Epoch 7/17\n",
      "8000/8000 - 2s - loss: 0.0165 - mean_squared_error: 0.0160 - mean_absolute_error: 0.0717 - val_loss: 0.0020 - val_mean_squared_error: 0.0014 - val_mean_absolute_error: 0.0251\n",
      "Epoch 8/17\n",
      "8000/8000 - 1s - loss: 0.0036 - mean_squared_error: 0.0030 - mean_absolute_error: 0.0324 - val_loss: 0.0024 - val_mean_squared_error: 0.0017 - val_mean_absolute_error: 0.0252\n",
      "Epoch 9/17\n",
      "8000/8000 - 1s - loss: 0.0041 - mean_squared_error: 0.0034 - mean_absolute_error: 0.0329 - val_loss: 0.0033 - val_mean_squared_error: 0.0026 - val_mean_absolute_error: 0.0291\n",
      "Epoch 10/17\n",
      "8000/8000 - 1s - loss: 0.0043 - mean_squared_error: 0.0036 - mean_absolute_error: 0.0334 - val_loss: 0.0033 - val_mean_squared_error: 0.0026 - val_mean_absolute_error: 0.0286\n",
      "Epoch 11/17\n",
      "8000/8000 - 1s - loss: 0.0045 - mean_squared_error: 0.0038 - mean_absolute_error: 0.0337 - val_loss: 0.0035 - val_mean_squared_error: 0.0028 - val_mean_absolute_error: 0.0295\n",
      "Epoch 12/17\n",
      "8000/8000 - 1s - loss: 0.0046 - mean_squared_error: 0.0039 - mean_absolute_error: 0.0341 - val_loss: 0.0035 - val_mean_squared_error: 0.0027 - val_mean_absolute_error: 0.0287\n"
     ]
    },
    {
     "data": {
      "text/html": [
       "<span style=\"color:#4527A0\"><h1 style=\"font-size:18px\">Trial complete</h1></span>"
      ],
      "text/plain": [
       "<IPython.core.display.HTML object>"
      ]
     },
     "metadata": {},
     "output_type": "display_data"
    },
    {
     "data": {
      "text/html": [
       "<span style=\"color:#4527A0\"><h1 style=\"font-size:18px\">Trial summary</h1></span>"
      ],
      "text/plain": [
       "<IPython.core.display.HTML object>"
      ]
     },
     "metadata": {},
     "output_type": "display_data"
    },
    {
     "data": {
      "text/html": [
       "<span style=\"color:cyan\"> |-Trial ID: 53cac6f2bbdc0db0488824a3be00a5c9</span>"
      ],
      "text/plain": [
       "<IPython.core.display.HTML object>"
      ]
     },
     "metadata": {},
     "output_type": "display_data"
    },
    {
     "data": {
      "text/html": [
       "<span style=\"color:cyan\"> |-Score: 0.001399642089381814</span>"
      ],
      "text/plain": [
       "<IPython.core.display.HTML object>"
      ]
     },
     "metadata": {},
     "output_type": "display_data"
    },
    {
     "data": {
      "text/html": [
       "<span style=\"color:cyan\"> |-Best step: 0</span>"
      ],
      "text/plain": [
       "<IPython.core.display.HTML object>"
      ]
     },
     "metadata": {},
     "output_type": "display_data"
    },
    {
     "data": {
      "text/html": [
       "<span style=\"color:#7E57C2\"><h2 style=\"font-size:16px\">Hyperparameters:</h2></span>"
      ],
      "text/plain": [
       "<IPython.core.display.HTML object>"
      ]
     },
     "metadata": {},
     "output_type": "display_data"
    },
    {
     "data": {
      "text/html": [
       "<span style=\"color:cyan\"> |-hidden_units: 184</span>"
      ],
      "text/plain": [
       "<IPython.core.display.HTML object>"
      ]
     },
     "metadata": {},
     "output_type": "display_data"
    },
    {
     "data": {
      "text/html": [
       "<span style=\"color:blue\"> |-learning_rate: 0.01</span>"
      ],
      "text/plain": [
       "<IPython.core.display.HTML object>"
      ]
     },
     "metadata": {},
     "output_type": "display_data"
    },
    {
     "data": {
      "text/html": [
       "<span style=\"color:cyan\"> |-tuner/bracket: 3</span>"
      ],
      "text/plain": [
       "<IPython.core.display.HTML object>"
      ]
     },
     "metadata": {},
     "output_type": "display_data"
    },
    {
     "data": {
      "text/html": [
       "<span style=\"color:blue\"> |-tuner/epochs: 17</span>"
      ],
      "text/plain": [
       "<IPython.core.display.HTML object>"
      ]
     },
     "metadata": {},
     "output_type": "display_data"
    },
    {
     "data": {
      "text/html": [
       "<span style=\"color:cyan\"> |-tuner/initial_epoch: 6</span>"
      ],
      "text/plain": [
       "<IPython.core.display.HTML object>"
      ]
     },
     "metadata": {},
     "output_type": "display_data"
    },
    {
     "data": {
      "text/html": [
       "<span style=\"color:blue\"> |-tuner/round: 2</span>"
      ],
      "text/plain": [
       "<IPython.core.display.HTML object>"
      ]
     },
     "metadata": {},
     "output_type": "display_data"
    },
    {
     "data": {
      "text/html": [
       "<span style=\"color:cyan\"> |-tuner/trial_id: b7acd10b6bf48e97319f5376f12ee9d5</span>"
      ],
      "text/plain": [
       "<IPython.core.display.HTML object>"
      ]
     },
     "metadata": {},
     "output_type": "display_data"
    },
    {
     "name": "stdout",
     "output_type": "stream",
     "text": [
      "Train on 8000 samples, validate on 2000 samples\n",
      "Epoch 7/17\n",
      "8000/8000 - 2s - loss: 0.0218 - mean_squared_error: 0.0213 - mean_absolute_error: 0.0879 - val_loss: 0.0021 - val_mean_squared_error: 0.0015 - val_mean_absolute_error: 0.0270\n",
      "Epoch 8/17\n",
      "8000/8000 - 1s - loss: 0.0045 - mean_squared_error: 0.0038 - mean_absolute_error: 0.0367 - val_loss: 0.0029 - val_mean_squared_error: 0.0022 - val_mean_absolute_error: 0.0284\n",
      "Epoch 9/17\n",
      "8000/8000 - 1s - loss: 0.0048 - mean_squared_error: 0.0041 - mean_absolute_error: 0.0361 - val_loss: 0.0032 - val_mean_squared_error: 0.0025 - val_mean_absolute_error: 0.0285\n",
      "Epoch 10/17\n",
      "8000/8000 - 1s - loss: 0.0048 - mean_squared_error: 0.0041 - mean_absolute_error: 0.0358 - val_loss: 0.0035 - val_mean_squared_error: 0.0028 - val_mean_absolute_error: 0.0298\n",
      "Epoch 11/17\n",
      "8000/8000 - 1s - loss: 0.0050 - mean_squared_error: 0.0043 - mean_absolute_error: 0.0360 - val_loss: 0.0029 - val_mean_squared_error: 0.0021 - val_mean_absolute_error: 0.0266\n",
      "Epoch 12/17\n",
      "8000/8000 - 1s - loss: 0.0051 - mean_squared_error: 0.0044 - mean_absolute_error: 0.0364 - val_loss: 0.0034 - val_mean_squared_error: 0.0026 - val_mean_absolute_error: 0.0283\n"
     ]
    },
    {
     "data": {
      "text/html": [
       "<span style=\"color:#4527A0\"><h1 style=\"font-size:18px\">Trial complete</h1></span>"
      ],
      "text/plain": [
       "<IPython.core.display.HTML object>"
      ]
     },
     "metadata": {},
     "output_type": "display_data"
    },
    {
     "data": {
      "text/html": [
       "<span style=\"color:#4527A0\"><h1 style=\"font-size:18px\">Trial summary</h1></span>"
      ],
      "text/plain": [
       "<IPython.core.display.HTML object>"
      ]
     },
     "metadata": {},
     "output_type": "display_data"
    },
    {
     "data": {
      "text/html": [
       "<span style=\"color:cyan\"> |-Trial ID: aab0bc2971c9af242730ab7df5b235c3</span>"
      ],
      "text/plain": [
       "<IPython.core.display.HTML object>"
      ]
     },
     "metadata": {},
     "output_type": "display_data"
    },
    {
     "data": {
      "text/html": [
       "<span style=\"color:cyan\"> |-Score: 0.0014853711472824216</span>"
      ],
      "text/plain": [
       "<IPython.core.display.HTML object>"
      ]
     },
     "metadata": {},
     "output_type": "display_data"
    },
    {
     "data": {
      "text/html": [
       "<span style=\"color:cyan\"> |-Best step: 0</span>"
      ],
      "text/plain": [
       "<IPython.core.display.HTML object>"
      ]
     },
     "metadata": {},
     "output_type": "display_data"
    },
    {
     "data": {
      "text/html": [
       "<span style=\"color:#7E57C2\"><h2 style=\"font-size:16px\">Hyperparameters:</h2></span>"
      ],
      "text/plain": [
       "<IPython.core.display.HTML object>"
      ]
     },
     "metadata": {},
     "output_type": "display_data"
    },
    {
     "data": {
      "text/html": [
       "<span style=\"color:cyan\"> |-hidden_units: 118</span>"
      ],
      "text/plain": [
       "<IPython.core.display.HTML object>"
      ]
     },
     "metadata": {},
     "output_type": "display_data"
    },
    {
     "data": {
      "text/html": [
       "<span style=\"color:blue\"> |-learning_rate: 0.01</span>"
      ],
      "text/plain": [
       "<IPython.core.display.HTML object>"
      ]
     },
     "metadata": {},
     "output_type": "display_data"
    },
    {
     "data": {
      "text/html": [
       "<span style=\"color:cyan\"> |-tuner/bracket: 3</span>"
      ],
      "text/plain": [
       "<IPython.core.display.HTML object>"
      ]
     },
     "metadata": {},
     "output_type": "display_data"
    },
    {
     "data": {
      "text/html": [
       "<span style=\"color:blue\"> |-tuner/epochs: 17</span>"
      ],
      "text/plain": [
       "<IPython.core.display.HTML object>"
      ]
     },
     "metadata": {},
     "output_type": "display_data"
    },
    {
     "data": {
      "text/html": [
       "<span style=\"color:cyan\"> |-tuner/initial_epoch: 6</span>"
      ],
      "text/plain": [
       "<IPython.core.display.HTML object>"
      ]
     },
     "metadata": {},
     "output_type": "display_data"
    },
    {
     "data": {
      "text/html": [
       "<span style=\"color:blue\"> |-tuner/round: 2</span>"
      ],
      "text/plain": [
       "<IPython.core.display.HTML object>"
      ]
     },
     "metadata": {},
     "output_type": "display_data"
    },
    {
     "data": {
      "text/html": [
       "<span style=\"color:cyan\"> |-tuner/trial_id: 17f3be4750ab9c3b9c279d0abfe743a7</span>"
      ],
      "text/plain": [
       "<IPython.core.display.HTML object>"
      ]
     },
     "metadata": {},
     "output_type": "display_data"
    },
    {
     "name": "stdout",
     "output_type": "stream",
     "text": [
      "Train on 8000 samples, validate on 2000 samples\n",
      "Epoch 7/17\n",
      "8000/8000 - 2s - loss: 0.0179 - mean_squared_error: 0.0174 - mean_absolute_error: 0.0762 - val_loss: 0.0021 - val_mean_squared_error: 0.0015 - val_mean_absolute_error: 0.0260\n",
      "Epoch 8/17\n",
      "8000/8000 - 1s - loss: 0.0040 - mean_squared_error: 0.0033 - mean_absolute_error: 0.0342 - val_loss: 0.0037 - val_mean_squared_error: 0.0030 - val_mean_absolute_error: 0.0319\n",
      "Epoch 9/17\n",
      "8000/8000 - 1s - loss: 0.0044 - mean_squared_error: 0.0036 - mean_absolute_error: 0.0342 - val_loss: 0.0033 - val_mean_squared_error: 0.0026 - val_mean_absolute_error: 0.0289\n",
      "Epoch 10/17\n",
      "8000/8000 - 1s - loss: 0.0046 - mean_squared_error: 0.0039 - mean_absolute_error: 0.0346 - val_loss: 0.0030 - val_mean_squared_error: 0.0023 - val_mean_absolute_error: 0.0269\n",
      "Epoch 11/17\n",
      "8000/8000 - 1s - loss: 0.0047 - mean_squared_error: 0.0040 - mean_absolute_error: 0.0346 - val_loss: 0.0034 - val_mean_squared_error: 0.0027 - val_mean_absolute_error: 0.0290\n",
      "Epoch 12/17\n",
      "8000/8000 - 1s - loss: 0.0047 - mean_squared_error: 0.0040 - mean_absolute_error: 0.0347 - val_loss: 0.0045 - val_mean_squared_error: 0.0038 - val_mean_absolute_error: 0.0314\n"
     ]
    },
    {
     "data": {
      "text/html": [
       "<span style=\"color:#4527A0\"><h1 style=\"font-size:18px\">Trial complete</h1></span>"
      ],
      "text/plain": [
       "<IPython.core.display.HTML object>"
      ]
     },
     "metadata": {},
     "output_type": "display_data"
    },
    {
     "data": {
      "text/html": [
       "<span style=\"color:#4527A0\"><h1 style=\"font-size:18px\">Trial summary</h1></span>"
      ],
      "text/plain": [
       "<IPython.core.display.HTML object>"
      ]
     },
     "metadata": {},
     "output_type": "display_data"
    },
    {
     "data": {
      "text/html": [
       "<span style=\"color:cyan\"> |-Trial ID: 3906f9dca3e93bf350eee541c11f919e</span>"
      ],
      "text/plain": [
       "<IPython.core.display.HTML object>"
      ]
     },
     "metadata": {},
     "output_type": "display_data"
    },
    {
     "data": {
      "text/html": [
       "<span style=\"color:cyan\"> |-Score: 0.0014642932219430804</span>"
      ],
      "text/plain": [
       "<IPython.core.display.HTML object>"
      ]
     },
     "metadata": {},
     "output_type": "display_data"
    },
    {
     "data": {
      "text/html": [
       "<span style=\"color:cyan\"> |-Best step: 0</span>"
      ],
      "text/plain": [
       "<IPython.core.display.HTML object>"
      ]
     },
     "metadata": {},
     "output_type": "display_data"
    },
    {
     "data": {
      "text/html": [
       "<span style=\"color:#7E57C2\"><h2 style=\"font-size:16px\">Hyperparameters:</h2></span>"
      ],
      "text/plain": [
       "<IPython.core.display.HTML object>"
      ]
     },
     "metadata": {},
     "output_type": "display_data"
    },
    {
     "data": {
      "text/html": [
       "<span style=\"color:cyan\"> |-hidden_units: 152</span>"
      ],
      "text/plain": [
       "<IPython.core.display.HTML object>"
      ]
     },
     "metadata": {},
     "output_type": "display_data"
    },
    {
     "data": {
      "text/html": [
       "<span style=\"color:blue\"> |-learning_rate: 0.01</span>"
      ],
      "text/plain": [
       "<IPython.core.display.HTML object>"
      ]
     },
     "metadata": {},
     "output_type": "display_data"
    },
    {
     "data": {
      "text/html": [
       "<span style=\"color:cyan\"> |-tuner/bracket: 3</span>"
      ],
      "text/plain": [
       "<IPython.core.display.HTML object>"
      ]
     },
     "metadata": {},
     "output_type": "display_data"
    },
    {
     "data": {
      "text/html": [
       "<span style=\"color:blue\"> |-tuner/epochs: 17</span>"
      ],
      "text/plain": [
       "<IPython.core.display.HTML object>"
      ]
     },
     "metadata": {},
     "output_type": "display_data"
    },
    {
     "data": {
      "text/html": [
       "<span style=\"color:cyan\"> |-tuner/initial_epoch: 6</span>"
      ],
      "text/plain": [
       "<IPython.core.display.HTML object>"
      ]
     },
     "metadata": {},
     "output_type": "display_data"
    },
    {
     "data": {
      "text/html": [
       "<span style=\"color:blue\"> |-tuner/round: 2</span>"
      ],
      "text/plain": [
       "<IPython.core.display.HTML object>"
      ]
     },
     "metadata": {},
     "output_type": "display_data"
    },
    {
     "data": {
      "text/html": [
       "<span style=\"color:cyan\"> |-tuner/trial_id: 31ecea62f68bec353261ad92ed57be62</span>"
      ],
      "text/plain": [
       "<IPython.core.display.HTML object>"
      ]
     },
     "metadata": {},
     "output_type": "display_data"
    },
    {
     "name": "stdout",
     "output_type": "stream",
     "text": [
      "Train on 8000 samples, validate on 2000 samples\n",
      "Epoch 18/50\n",
      "8000/8000 - 2s - loss: 0.0159 - mean_squared_error: 0.0154 - mean_absolute_error: 0.0699 - val_loss: 0.0020 - val_mean_squared_error: 0.0013 - val_mean_absolute_error: 0.0248\n",
      "Epoch 19/50\n",
      "8000/8000 - 1s - loss: 0.0037 - mean_squared_error: 0.0030 - mean_absolute_error: 0.0326 - val_loss: 0.0023 - val_mean_squared_error: 0.0016 - val_mean_absolute_error: 0.0249\n",
      "Epoch 20/50\n",
      "8000/8000 - 1s - loss: 0.0039 - mean_squared_error: 0.0032 - mean_absolute_error: 0.0320 - val_loss: 0.0035 - val_mean_squared_error: 0.0027 - val_mean_absolute_error: 0.0296\n",
      "Epoch 21/50\n",
      "8000/8000 - 1s - loss: 0.0044 - mean_squared_error: 0.0037 - mean_absolute_error: 0.0336 - val_loss: 0.0031 - val_mean_squared_error: 0.0023 - val_mean_absolute_error: 0.0270\n",
      "Epoch 22/50\n",
      "8000/8000 - 1s - loss: 0.0045 - mean_squared_error: 0.0037 - mean_absolute_error: 0.0336 - val_loss: 0.0035 - val_mean_squared_error: 0.0027 - val_mean_absolute_error: 0.0290\n",
      "Epoch 23/50\n",
      "8000/8000 - 1s - loss: 0.0048 - mean_squared_error: 0.0040 - mean_absolute_error: 0.0344 - val_loss: 0.0039 - val_mean_squared_error: 0.0031 - val_mean_absolute_error: 0.0303\n"
     ]
    },
    {
     "data": {
      "text/html": [
       "<span style=\"color:#4527A0\"><h1 style=\"font-size:18px\">Trial complete</h1></span>"
      ],
      "text/plain": [
       "<IPython.core.display.HTML object>"
      ]
     },
     "metadata": {},
     "output_type": "display_data"
    },
    {
     "data": {
      "text/html": [
       "<span style=\"color:#4527A0\"><h1 style=\"font-size:18px\">Trial summary</h1></span>"
      ],
      "text/plain": [
       "<IPython.core.display.HTML object>"
      ]
     },
     "metadata": {},
     "output_type": "display_data"
    },
    {
     "data": {
      "text/html": [
       "<span style=\"color:cyan\"> |-Trial ID: 939e093e2749f77cda445fa96c57abd6</span>"
      ],
      "text/plain": [
       "<IPython.core.display.HTML object>"
      ]
     },
     "metadata": {},
     "output_type": "display_data"
    },
    {
     "data": {
      "text/html": [
       "<span style=\"color:cyan\"> |-Score: 0.0013434931170195341</span>"
      ],
      "text/plain": [
       "<IPython.core.display.HTML object>"
      ]
     },
     "metadata": {},
     "output_type": "display_data"
    },
    {
     "data": {
      "text/html": [
       "<span style=\"color:cyan\"> |-Best step: 0</span>"
      ],
      "text/plain": [
       "<IPython.core.display.HTML object>"
      ]
     },
     "metadata": {},
     "output_type": "display_data"
    },
    {
     "data": {
      "text/html": [
       "<span style=\"color:#7E57C2\"><h2 style=\"font-size:16px\">Hyperparameters:</h2></span>"
      ],
      "text/plain": [
       "<IPython.core.display.HTML object>"
      ]
     },
     "metadata": {},
     "output_type": "display_data"
    },
    {
     "data": {
      "text/html": [
       "<span style=\"color:cyan\"> |-hidden_units: 194</span>"
      ],
      "text/plain": [
       "<IPython.core.display.HTML object>"
      ]
     },
     "metadata": {},
     "output_type": "display_data"
    },
    {
     "data": {
      "text/html": [
       "<span style=\"color:blue\"> |-learning_rate: 0.01</span>"
      ],
      "text/plain": [
       "<IPython.core.display.HTML object>"
      ]
     },
     "metadata": {},
     "output_type": "display_data"
    },
    {
     "data": {
      "text/html": [
       "<span style=\"color:cyan\"> |-tuner/bracket: 3</span>"
      ],
      "text/plain": [
       "<IPython.core.display.HTML object>"
      ]
     },
     "metadata": {},
     "output_type": "display_data"
    },
    {
     "data": {
      "text/html": [
       "<span style=\"color:blue\"> |-tuner/epochs: 50</span>"
      ],
      "text/plain": [
       "<IPython.core.display.HTML object>"
      ]
     },
     "metadata": {},
     "output_type": "display_data"
    },
    {
     "data": {
      "text/html": [
       "<span style=\"color:cyan\"> |-tuner/initial_epoch: 17</span>"
      ],
      "text/plain": [
       "<IPython.core.display.HTML object>"
      ]
     },
     "metadata": {},
     "output_type": "display_data"
    },
    {
     "data": {
      "text/html": [
       "<span style=\"color:blue\"> |-tuner/round: 3</span>"
      ],
      "text/plain": [
       "<IPython.core.display.HTML object>"
      ]
     },
     "metadata": {},
     "output_type": "display_data"
    },
    {
     "data": {
      "text/html": [
       "<span style=\"color:cyan\"> |-tuner/trial_id: f11bba064a1bcb77e9bd85a2f183262a</span>"
      ],
      "text/plain": [
       "<IPython.core.display.HTML object>"
      ]
     },
     "metadata": {},
     "output_type": "display_data"
    },
    {
     "name": "stdout",
     "output_type": "stream",
     "text": [
      "Train on 8000 samples, validate on 2000 samples\n",
      "Epoch 18/50\n",
      "8000/8000 - 2s - loss: 0.0171 - mean_squared_error: 0.0166 - mean_absolute_error: 0.0734 - val_loss: 0.0019 - val_mean_squared_error: 0.0013 - val_mean_absolute_error: 0.0244\n",
      "Epoch 19/50\n",
      "8000/8000 - 1s - loss: 0.0038 - mean_squared_error: 0.0031 - mean_absolute_error: 0.0329 - val_loss: 0.0027 - val_mean_squared_error: 0.0020 - val_mean_absolute_error: 0.0269\n",
      "Epoch 20/50\n",
      "8000/8000 - 1s - loss: 0.0040 - mean_squared_error: 0.0033 - mean_absolute_error: 0.0325 - val_loss: 0.0032 - val_mean_squared_error: 0.0025 - val_mean_absolute_error: 0.0285\n",
      "Epoch 21/50\n",
      "8000/8000 - 1s - loss: 0.0043 - mean_squared_error: 0.0036 - mean_absolute_error: 0.0334 - val_loss: 0.0031 - val_mean_squared_error: 0.0024 - val_mean_absolute_error: 0.0276\n",
      "Epoch 22/50\n",
      "8000/8000 - 1s - loss: 0.0045 - mean_squared_error: 0.0038 - mean_absolute_error: 0.0338 - val_loss: 0.0034 - val_mean_squared_error: 0.0027 - val_mean_absolute_error: 0.0283\n",
      "Epoch 23/50\n",
      "8000/8000 - 1s - loss: 0.0045 - mean_squared_error: 0.0038 - mean_absolute_error: 0.0338 - val_loss: 0.0034 - val_mean_squared_error: 0.0027 - val_mean_absolute_error: 0.0287\n"
     ]
    },
    {
     "data": {
      "text/html": [
       "<span style=\"color:#4527A0\"><h1 style=\"font-size:18px\">Trial complete</h1></span>"
      ],
      "text/plain": [
       "<IPython.core.display.HTML object>"
      ]
     },
     "metadata": {},
     "output_type": "display_data"
    },
    {
     "data": {
      "text/html": [
       "<span style=\"color:#4527A0\"><h1 style=\"font-size:18px\">Trial summary</h1></span>"
      ],
      "text/plain": [
       "<IPython.core.display.HTML object>"
      ]
     },
     "metadata": {},
     "output_type": "display_data"
    },
    {
     "data": {
      "text/html": [
       "<span style=\"color:cyan\"> |-Trial ID: 1b27e5f0ae416aeb78e1370cc1a289d8</span>"
      ],
      "text/plain": [
       "<IPython.core.display.HTML object>"
      ]
     },
     "metadata": {},
     "output_type": "display_data"
    },
    {
     "data": {
      "text/html": [
       "<span style=\"color:cyan\"> |-Score: 0.0012576443841680884</span>"
      ],
      "text/plain": [
       "<IPython.core.display.HTML object>"
      ]
     },
     "metadata": {},
     "output_type": "display_data"
    },
    {
     "data": {
      "text/html": [
       "<span style=\"color:cyan\"> |-Best step: 0</span>"
      ],
      "text/plain": [
       "<IPython.core.display.HTML object>"
      ]
     },
     "metadata": {},
     "output_type": "display_data"
    },
    {
     "data": {
      "text/html": [
       "<span style=\"color:#7E57C2\"><h2 style=\"font-size:16px\">Hyperparameters:</h2></span>"
      ],
      "text/plain": [
       "<IPython.core.display.HTML object>"
      ]
     },
     "metadata": {},
     "output_type": "display_data"
    },
    {
     "data": {
      "text/html": [
       "<span style=\"color:cyan\"> |-hidden_units: 184</span>"
      ],
      "text/plain": [
       "<IPython.core.display.HTML object>"
      ]
     },
     "metadata": {},
     "output_type": "display_data"
    },
    {
     "data": {
      "text/html": [
       "<span style=\"color:blue\"> |-learning_rate: 0.01</span>"
      ],
      "text/plain": [
       "<IPython.core.display.HTML object>"
      ]
     },
     "metadata": {},
     "output_type": "display_data"
    },
    {
     "data": {
      "text/html": [
       "<span style=\"color:cyan\"> |-tuner/bracket: 3</span>"
      ],
      "text/plain": [
       "<IPython.core.display.HTML object>"
      ]
     },
     "metadata": {},
     "output_type": "display_data"
    },
    {
     "data": {
      "text/html": [
       "<span style=\"color:blue\"> |-tuner/epochs: 50</span>"
      ],
      "text/plain": [
       "<IPython.core.display.HTML object>"
      ]
     },
     "metadata": {},
     "output_type": "display_data"
    },
    {
     "data": {
      "text/html": [
       "<span style=\"color:cyan\"> |-tuner/initial_epoch: 17</span>"
      ],
      "text/plain": [
       "<IPython.core.display.HTML object>"
      ]
     },
     "metadata": {},
     "output_type": "display_data"
    },
    {
     "data": {
      "text/html": [
       "<span style=\"color:blue\"> |-tuner/round: 3</span>"
      ],
      "text/plain": [
       "<IPython.core.display.HTML object>"
      ]
     },
     "metadata": {},
     "output_type": "display_data"
    },
    {
     "data": {
      "text/html": [
       "<span style=\"color:cyan\"> |-tuner/trial_id: 53cac6f2bbdc0db0488824a3be00a5c9</span>"
      ],
      "text/plain": [
       "<IPython.core.display.HTML object>"
      ]
     },
     "metadata": {},
     "output_type": "display_data"
    },
    {
     "name": "stdout",
     "output_type": "stream",
     "text": [
      "Train on 8000 samples, validate on 2000 samples\n",
      "Epoch 1/6\n",
      "8000/8000 - 2s - loss: 0.0175 - mean_squared_error: 0.0170 - mean_absolute_error: 0.0750 - val_loss: 0.0020 - val_mean_squared_error: 0.0014 - val_mean_absolute_error: 0.0254\n",
      "Epoch 2/6\n",
      "8000/8000 - 1s - loss: 0.0039 - mean_squared_error: 0.0032 - mean_absolute_error: 0.0337 - val_loss: 0.0025 - val_mean_squared_error: 0.0018 - val_mean_absolute_error: 0.0260\n",
      "Epoch 3/6\n",
      "8000/8000 - 1s - loss: 0.0042 - mean_squared_error: 0.0035 - mean_absolute_error: 0.0334 - val_loss: 0.0029 - val_mean_squared_error: 0.0022 - val_mean_absolute_error: 0.0271\n",
      "Epoch 4/6\n",
      "8000/8000 - 1s - loss: 0.0044 - mean_squared_error: 0.0037 - mean_absolute_error: 0.0340 - val_loss: 0.0032 - val_mean_squared_error: 0.0025 - val_mean_absolute_error: 0.0283\n",
      "Epoch 5/6\n",
      "8000/8000 - 1s - loss: 0.0047 - mean_squared_error: 0.0039 - mean_absolute_error: 0.0345 - val_loss: 0.0034 - val_mean_squared_error: 0.0026 - val_mean_absolute_error: 0.0289\n",
      "Epoch 6/6\n",
      "8000/8000 - 1s - loss: 0.0048 - mean_squared_error: 0.0040 - mean_absolute_error: 0.0348 - val_loss: 0.0035 - val_mean_squared_error: 0.0028 - val_mean_absolute_error: 0.0290\n"
     ]
    },
    {
     "data": {
      "text/html": [
       "<span style=\"color:#4527A0\"><h1 style=\"font-size:18px\">Trial complete</h1></span>"
      ],
      "text/plain": [
       "<IPython.core.display.HTML object>"
      ]
     },
     "metadata": {},
     "output_type": "display_data"
    },
    {
     "data": {
      "text/html": [
       "<span style=\"color:#4527A0\"><h1 style=\"font-size:18px\">Trial summary</h1></span>"
      ],
      "text/plain": [
       "<IPython.core.display.HTML object>"
      ]
     },
     "metadata": {},
     "output_type": "display_data"
    },
    {
     "data": {
      "text/html": [
       "<span style=\"color:cyan\"> |-Trial ID: 7c4b12ed21f78b499549611ca7f12a60</span>"
      ],
      "text/plain": [
       "<IPython.core.display.HTML object>"
      ]
     },
     "metadata": {},
     "output_type": "display_data"
    },
    {
     "data": {
      "text/html": [
       "<span style=\"color:cyan\"> |-Score: 0.001360999420285225</span>"
      ],
      "text/plain": [
       "<IPython.core.display.HTML object>"
      ]
     },
     "metadata": {},
     "output_type": "display_data"
    },
    {
     "data": {
      "text/html": [
       "<span style=\"color:cyan\"> |-Best step: 0</span>"
      ],
      "text/plain": [
       "<IPython.core.display.HTML object>"
      ]
     },
     "metadata": {},
     "output_type": "display_data"
    },
    {
     "data": {
      "text/html": [
       "<span style=\"color:#7E57C2\"><h2 style=\"font-size:16px\">Hyperparameters:</h2></span>"
      ],
      "text/plain": [
       "<IPython.core.display.HTML object>"
      ]
     },
     "metadata": {},
     "output_type": "display_data"
    },
    {
     "data": {
      "text/html": [
       "<span style=\"color:cyan\"> |-hidden_units: 162</span>"
      ],
      "text/plain": [
       "<IPython.core.display.HTML object>"
      ]
     },
     "metadata": {},
     "output_type": "display_data"
    },
    {
     "data": {
      "text/html": [
       "<span style=\"color:blue\"> |-learning_rate: 0.01</span>"
      ],
      "text/plain": [
       "<IPython.core.display.HTML object>"
      ]
     },
     "metadata": {},
     "output_type": "display_data"
    },
    {
     "data": {
      "text/html": [
       "<span style=\"color:cyan\"> |-tuner/bracket: 2</span>"
      ],
      "text/plain": [
       "<IPython.core.display.HTML object>"
      ]
     },
     "metadata": {},
     "output_type": "display_data"
    },
    {
     "data": {
      "text/html": [
       "<span style=\"color:blue\"> |-tuner/epochs: 6</span>"
      ],
      "text/plain": [
       "<IPython.core.display.HTML object>"
      ]
     },
     "metadata": {},
     "output_type": "display_data"
    },
    {
     "data": {
      "text/html": [
       "<span style=\"color:cyan\"> |-tuner/initial_epoch: 0</span>"
      ],
      "text/plain": [
       "<IPython.core.display.HTML object>"
      ]
     },
     "metadata": {},
     "output_type": "display_data"
    },
    {
     "data": {
      "text/html": [
       "<span style=\"color:blue\"> |-tuner/round: 0</span>"
      ],
      "text/plain": [
       "<IPython.core.display.HTML object>"
      ]
     },
     "metadata": {},
     "output_type": "display_data"
    },
    {
     "name": "stdout",
     "output_type": "stream",
     "text": [
      "Train on 8000 samples, validate on 2000 samples\n",
      "Epoch 1/6\n",
      "8000/8000 - 2s - loss: 0.0241 - mean_squared_error: 0.0237 - mean_absolute_error: 0.0952 - val_loss: 0.0024 - val_mean_squared_error: 0.0018 - val_mean_absolute_error: 0.0295\n",
      "Epoch 2/6\n",
      "8000/8000 - 1s - loss: 0.0051 - mean_squared_error: 0.0045 - mean_absolute_error: 0.0399 - val_loss: 0.0031 - val_mean_squared_error: 0.0024 - val_mean_absolute_error: 0.0293\n",
      "Epoch 3/6\n",
      "8000/8000 - 1s - loss: 0.0054 - mean_squared_error: 0.0047 - mean_absolute_error: 0.0385 - val_loss: 0.0042 - val_mean_squared_error: 0.0035 - val_mean_absolute_error: 0.0337\n",
      "Epoch 4/6\n",
      "8000/8000 - 1s - loss: 0.0055 - mean_squared_error: 0.0048 - mean_absolute_error: 0.0383 - val_loss: 0.0039 - val_mean_squared_error: 0.0032 - val_mean_absolute_error: 0.0319\n",
      "Epoch 5/6\n",
      "8000/8000 - 1s - loss: 0.0057 - mean_squared_error: 0.0049 - mean_absolute_error: 0.0386 - val_loss: 0.0039 - val_mean_squared_error: 0.0032 - val_mean_absolute_error: 0.0317\n",
      "Epoch 6/6\n",
      "8000/8000 - 1s - loss: 0.0056 - mean_squared_error: 0.0049 - mean_absolute_error: 0.0382 - val_loss: 0.0040 - val_mean_squared_error: 0.0032 - val_mean_absolute_error: 0.0315\n"
     ]
    },
    {
     "data": {
      "text/html": [
       "<span style=\"color:#4527A0\"><h1 style=\"font-size:18px\">Trial complete</h1></span>"
      ],
      "text/plain": [
       "<IPython.core.display.HTML object>"
      ]
     },
     "metadata": {},
     "output_type": "display_data"
    },
    {
     "data": {
      "text/html": [
       "<span style=\"color:#4527A0\"><h1 style=\"font-size:18px\">Trial summary</h1></span>"
      ],
      "text/plain": [
       "<IPython.core.display.HTML object>"
      ]
     },
     "metadata": {},
     "output_type": "display_data"
    },
    {
     "data": {
      "text/html": [
       "<span style=\"color:cyan\"> |-Trial ID: 8c9d3ac528673253a53a24c26975f409</span>"
      ],
      "text/plain": [
       "<IPython.core.display.HTML object>"
      ]
     },
     "metadata": {},
     "output_type": "display_data"
    },
    {
     "data": {
      "text/html": [
       "<span style=\"color:cyan\"> |-Score: 0.0017905606655403972</span>"
      ],
      "text/plain": [
       "<IPython.core.display.HTML object>"
      ]
     },
     "metadata": {},
     "output_type": "display_data"
    },
    {
     "data": {
      "text/html": [
       "<span style=\"color:cyan\"> |-Best step: 0</span>"
      ],
      "text/plain": [
       "<IPython.core.display.HTML object>"
      ]
     },
     "metadata": {},
     "output_type": "display_data"
    },
    {
     "data": {
      "text/html": [
       "<span style=\"color:#7E57C2\"><h2 style=\"font-size:16px\">Hyperparameters:</h2></span>"
      ],
      "text/plain": [
       "<IPython.core.display.HTML object>"
      ]
     },
     "metadata": {},
     "output_type": "display_data"
    },
    {
     "data": {
      "text/html": [
       "<span style=\"color:cyan\"> |-hidden_units: 92</span>"
      ],
      "text/plain": [
       "<IPython.core.display.HTML object>"
      ]
     },
     "metadata": {},
     "output_type": "display_data"
    },
    {
     "data": {
      "text/html": [
       "<span style=\"color:blue\"> |-learning_rate: 0.01</span>"
      ],
      "text/plain": [
       "<IPython.core.display.HTML object>"
      ]
     },
     "metadata": {},
     "output_type": "display_data"
    },
    {
     "data": {
      "text/html": [
       "<span style=\"color:cyan\"> |-tuner/bracket: 2</span>"
      ],
      "text/plain": [
       "<IPython.core.display.HTML object>"
      ]
     },
     "metadata": {},
     "output_type": "display_data"
    },
    {
     "data": {
      "text/html": [
       "<span style=\"color:blue\"> |-tuner/epochs: 6</span>"
      ],
      "text/plain": [
       "<IPython.core.display.HTML object>"
      ]
     },
     "metadata": {},
     "output_type": "display_data"
    },
    {
     "data": {
      "text/html": [
       "<span style=\"color:cyan\"> |-tuner/initial_epoch: 0</span>"
      ],
      "text/plain": [
       "<IPython.core.display.HTML object>"
      ]
     },
     "metadata": {},
     "output_type": "display_data"
    },
    {
     "data": {
      "text/html": [
       "<span style=\"color:blue\"> |-tuner/round: 0</span>"
      ],
      "text/plain": [
       "<IPython.core.display.HTML object>"
      ]
     },
     "metadata": {},
     "output_type": "display_data"
    },
    {
     "name": "stdout",
     "output_type": "stream",
     "text": [
      "Train on 8000 samples, validate on 2000 samples\n",
      "Epoch 1/6\n",
      "8000/8000 - 2s - loss: 0.0342 - mean_squared_error: 0.0338 - mean_absolute_error: 0.1212 - val_loss: 0.0031 - val_mean_squared_error: 0.0026 - val_mean_absolute_error: 0.0353\n",
      "Epoch 2/6\n",
      "8000/8000 - 1s - loss: 0.0075 - mean_squared_error: 0.0069 - mean_absolute_error: 0.0483 - val_loss: 0.0039 - val_mean_squared_error: 0.0033 - val_mean_absolute_error: 0.0337\n",
      "Epoch 3/6\n",
      "8000/8000 - 1s - loss: 0.0077 - mean_squared_error: 0.0070 - mean_absolute_error: 0.0458 - val_loss: 0.0050 - val_mean_squared_error: 0.0043 - val_mean_absolute_error: 0.0368\n",
      "Epoch 4/6\n",
      "8000/8000 - 1s - loss: 0.0077 - mean_squared_error: 0.0070 - mean_absolute_error: 0.0449 - val_loss: 0.0051 - val_mean_squared_error: 0.0044 - val_mean_absolute_error: 0.0367\n",
      "Epoch 5/6\n",
      "8000/8000 - 1s - loss: 0.0078 - mean_squared_error: 0.0071 - mean_absolute_error: 0.0450 - val_loss: 0.0040 - val_mean_squared_error: 0.0032 - val_mean_absolute_error: 0.0309\n",
      "Epoch 6/6\n",
      "8000/8000 - 1s - loss: 0.0078 - mean_squared_error: 0.0071 - mean_absolute_error: 0.0449 - val_loss: 0.0052 - val_mean_squared_error: 0.0045 - val_mean_absolute_error: 0.0360\n"
     ]
    },
    {
     "data": {
      "text/html": [
       "<span style=\"color:#4527A0\"><h1 style=\"font-size:18px\">Trial complete</h1></span>"
      ],
      "text/plain": [
       "<IPython.core.display.HTML object>"
      ]
     },
     "metadata": {},
     "output_type": "display_data"
    },
    {
     "data": {
      "text/html": [
       "<span style=\"color:#4527A0\"><h1 style=\"font-size:18px\">Trial summary</h1></span>"
      ],
      "text/plain": [
       "<IPython.core.display.HTML object>"
      ]
     },
     "metadata": {},
     "output_type": "display_data"
    },
    {
     "data": {
      "text/html": [
       "<span style=\"color:cyan\"> |-Trial ID: 5e3238de0756f4b347479b97dfffe6cc</span>"
      ],
      "text/plain": [
       "<IPython.core.display.HTML object>"
      ]
     },
     "metadata": {},
     "output_type": "display_data"
    },
    {
     "data": {
      "text/html": [
       "<span style=\"color:cyan\"> |-Score: 0.002571913180872798</span>"
      ],
      "text/plain": [
       "<IPython.core.display.HTML object>"
      ]
     },
     "metadata": {},
     "output_type": "display_data"
    },
    {
     "data": {
      "text/html": [
       "<span style=\"color:cyan\"> |-Best step: 0</span>"
      ],
      "text/plain": [
       "<IPython.core.display.HTML object>"
      ]
     },
     "metadata": {},
     "output_type": "display_data"
    },
    {
     "data": {
      "text/html": [
       "<span style=\"color:#7E57C2\"><h2 style=\"font-size:16px\">Hyperparameters:</h2></span>"
      ],
      "text/plain": [
       "<IPython.core.display.HTML object>"
      ]
     },
     "metadata": {},
     "output_type": "display_data"
    },
    {
     "data": {
      "text/html": [
       "<span style=\"color:cyan\"> |-hidden_units: 56</span>"
      ],
      "text/plain": [
       "<IPython.core.display.HTML object>"
      ]
     },
     "metadata": {},
     "output_type": "display_data"
    },
    {
     "data": {
      "text/html": [
       "<span style=\"color:blue\"> |-learning_rate: 0.01</span>"
      ],
      "text/plain": [
       "<IPython.core.display.HTML object>"
      ]
     },
     "metadata": {},
     "output_type": "display_data"
    },
    {
     "data": {
      "text/html": [
       "<span style=\"color:cyan\"> |-tuner/bracket: 2</span>"
      ],
      "text/plain": [
       "<IPython.core.display.HTML object>"
      ]
     },
     "metadata": {},
     "output_type": "display_data"
    },
    {
     "data": {
      "text/html": [
       "<span style=\"color:blue\"> |-tuner/epochs: 6</span>"
      ],
      "text/plain": [
       "<IPython.core.display.HTML object>"
      ]
     },
     "metadata": {},
     "output_type": "display_data"
    },
    {
     "data": {
      "text/html": [
       "<span style=\"color:cyan\"> |-tuner/initial_epoch: 0</span>"
      ],
      "text/plain": [
       "<IPython.core.display.HTML object>"
      ]
     },
     "metadata": {},
     "output_type": "display_data"
    },
    {
     "data": {
      "text/html": [
       "<span style=\"color:blue\"> |-tuner/round: 0</span>"
      ],
      "text/plain": [
       "<IPython.core.display.HTML object>"
      ]
     },
     "metadata": {},
     "output_type": "display_data"
    },
    {
     "name": "stdout",
     "output_type": "stream",
     "text": [
      "Train on 8000 samples, validate on 2000 samples\n",
      "Epoch 1/6\n",
      "8000/8000 - 1s - loss: 0.1284 - mean_squared_error: 0.1282 - mean_absolute_error: 0.3221 - val_loss: 0.0577 - val_mean_squared_error: 0.0575 - val_mean_absolute_error: 0.2124\n",
      "Epoch 2/6\n",
      "8000/8000 - 1s - loss: 0.0344 - mean_squared_error: 0.0341 - mean_absolute_error: 0.1553 - val_loss: 0.0146 - val_mean_squared_error: 0.0143 - val_mean_absolute_error: 0.1050\n",
      "Epoch 3/6\n",
      "8000/8000 - 1s - loss: 0.0121 - mean_squared_error: 0.0118 - mean_absolute_error: 0.0893 - val_loss: 0.0056 - val_mean_squared_error: 0.0052 - val_mean_absolute_error: 0.0641\n",
      "Epoch 4/6\n",
      "8000/8000 - 1s - loss: 0.0071 - mean_squared_error: 0.0067 - mean_absolute_error: 0.0647 - val_loss: 0.0037 - val_mean_squared_error: 0.0032 - val_mean_absolute_error: 0.0481\n",
      "Epoch 5/6\n",
      "8000/8000 - 1s - loss: 0.0056 - mean_squared_error: 0.0051 - mean_absolute_error: 0.0534 - val_loss: 0.0027 - val_mean_squared_error: 0.0022 - val_mean_absolute_error: 0.0388\n",
      "Epoch 6/6\n",
      "8000/8000 - 1s - loss: 0.0049 - mean_squared_error: 0.0044 - mean_absolute_error: 0.0471 - val_loss: 0.0022 - val_mean_squared_error: 0.0017 - val_mean_absolute_error: 0.0333\n"
     ]
    },
    {
     "data": {
      "text/html": [
       "<span style=\"color:#4527A0\"><h1 style=\"font-size:18px\">Trial complete</h1></span>"
      ],
      "text/plain": [
       "<IPython.core.display.HTML object>"
      ]
     },
     "metadata": {},
     "output_type": "display_data"
    },
    {
     "data": {
      "text/html": [
       "<span style=\"color:#4527A0\"><h1 style=\"font-size:18px\">Trial summary</h1></span>"
      ],
      "text/plain": [
       "<IPython.core.display.HTML object>"
      ]
     },
     "metadata": {},
     "output_type": "display_data"
    },
    {
     "data": {
      "text/html": [
       "<span style=\"color:cyan\"> |-Trial ID: 22773a49f5b277c989f89c1c226f1762</span>"
      ],
      "text/plain": [
       "<IPython.core.display.HTML object>"
      ]
     },
     "metadata": {},
     "output_type": "display_data"
    },
    {
     "data": {
      "text/html": [
       "<span style=\"color:cyan\"> |-Score: 0.001691347104497254</span>"
      ],
      "text/plain": [
       "<IPython.core.display.HTML object>"
      ]
     },
     "metadata": {},
     "output_type": "display_data"
    },
    {
     "data": {
      "text/html": [
       "<span style=\"color:cyan\"> |-Best step: 0</span>"
      ],
      "text/plain": [
       "<IPython.core.display.HTML object>"
      ]
     },
     "metadata": {},
     "output_type": "display_data"
    },
    {
     "data": {
      "text/html": [
       "<span style=\"color:#7E57C2\"><h2 style=\"font-size:16px\">Hyperparameters:</h2></span>"
      ],
      "text/plain": [
       "<IPython.core.display.HTML object>"
      ]
     },
     "metadata": {},
     "output_type": "display_data"
    },
    {
     "data": {
      "text/html": [
       "<span style=\"color:cyan\"> |-hidden_units: 96</span>"
      ],
      "text/plain": [
       "<IPython.core.display.HTML object>"
      ]
     },
     "metadata": {},
     "output_type": "display_data"
    },
    {
     "data": {
      "text/html": [
       "<span style=\"color:blue\"> |-learning_rate: 0.001</span>"
      ],
      "text/plain": [
       "<IPython.core.display.HTML object>"
      ]
     },
     "metadata": {},
     "output_type": "display_data"
    },
    {
     "data": {
      "text/html": [
       "<span style=\"color:cyan\"> |-tuner/bracket: 2</span>"
      ],
      "text/plain": [
       "<IPython.core.display.HTML object>"
      ]
     },
     "metadata": {},
     "output_type": "display_data"
    },
    {
     "data": {
      "text/html": [
       "<span style=\"color:blue\"> |-tuner/epochs: 6</span>"
      ],
      "text/plain": [
       "<IPython.core.display.HTML object>"
      ]
     },
     "metadata": {},
     "output_type": "display_data"
    },
    {
     "data": {
      "text/html": [
       "<span style=\"color:cyan\"> |-tuner/initial_epoch: 0</span>"
      ],
      "text/plain": [
       "<IPython.core.display.HTML object>"
      ]
     },
     "metadata": {},
     "output_type": "display_data"
    },
    {
     "data": {
      "text/html": [
       "<span style=\"color:blue\"> |-tuner/round: 0</span>"
      ],
      "text/plain": [
       "<IPython.core.display.HTML object>"
      ]
     },
     "metadata": {},
     "output_type": "display_data"
    },
    {
     "name": "stdout",
     "output_type": "stream",
     "text": [
      "Train on 8000 samples, validate on 2000 samples\n",
      "Epoch 1/6\n",
      "8000/8000 - 2s - loss: 0.2094 - mean_squared_error: 0.2093 - mean_absolute_error: 0.4313 - val_loss: 0.1915 - val_mean_squared_error: 0.1914 - val_mean_absolute_error: 0.4092\n",
      "Epoch 2/6\n",
      "8000/8000 - 1s - loss: 0.1811 - mean_squared_error: 0.1810 - mean_absolute_error: 0.3963 - val_loss: 0.1682 - val_mean_squared_error: 0.1681 - val_mean_absolute_error: 0.3815\n",
      "Epoch 3/6\n",
      "8000/8000 - 1s - loss: 0.1580 - mean_squared_error: 0.1578 - mean_absolute_error: 0.3695 - val_loss: 0.1451 - val_mean_squared_error: 0.1449 - val_mean_absolute_error: 0.3546\n",
      "Epoch 4/6\n",
      "8000/8000 - 1s - loss: 0.1349 - mean_squared_error: 0.1348 - mean_absolute_error: 0.3409 - val_loss: 0.1228 - val_mean_squared_error: 0.1227 - val_mean_absolute_error: 0.3255\n",
      "Epoch 5/6\n",
      "8000/8000 - 1s - loss: 0.1138 - mean_squared_error: 0.1137 - mean_absolute_error: 0.3117 - val_loss: 0.1031 - val_mean_squared_error: 0.1029 - val_mean_absolute_error: 0.2960\n",
      "Epoch 6/6\n",
      "8000/8000 - 1s - loss: 0.0956 - mean_squared_error: 0.0954 - mean_absolute_error: 0.2830 - val_loss: 0.0866 - val_mean_squared_error: 0.0864 - val_mean_absolute_error: 0.2693\n"
     ]
    },
    {
     "data": {
      "text/html": [
       "<span style=\"color:#4527A0\"><h1 style=\"font-size:18px\">Trial complete</h1></span>"
      ],
      "text/plain": [
       "<IPython.core.display.HTML object>"
      ]
     },
     "metadata": {},
     "output_type": "display_data"
    },
    {
     "data": {
      "text/html": [
       "<span style=\"color:#4527A0\"><h1 style=\"font-size:18px\">Trial summary</h1></span>"
      ],
      "text/plain": [
       "<IPython.core.display.HTML object>"
      ]
     },
     "metadata": {},
     "output_type": "display_data"
    },
    {
     "data": {
      "text/html": [
       "<span style=\"color:cyan\"> |-Trial ID: c85ebcc1b255a428d949e12c29198eaf</span>"
      ],
      "text/plain": [
       "<IPython.core.display.HTML object>"
      ]
     },
     "metadata": {},
     "output_type": "display_data"
    },
    {
     "data": {
      "text/html": [
       "<span style=\"color:cyan\"> |-Score: 0.0864473506808281</span>"
      ],
      "text/plain": [
       "<IPython.core.display.HTML object>"
      ]
     },
     "metadata": {},
     "output_type": "display_data"
    },
    {
     "data": {
      "text/html": [
       "<span style=\"color:cyan\"> |-Best step: 0</span>"
      ],
      "text/plain": [
       "<IPython.core.display.HTML object>"
      ]
     },
     "metadata": {},
     "output_type": "display_data"
    },
    {
     "data": {
      "text/html": [
       "<span style=\"color:#7E57C2\"><h2 style=\"font-size:16px\">Hyperparameters:</h2></span>"
      ],
      "text/plain": [
       "<IPython.core.display.HTML object>"
      ]
     },
     "metadata": {},
     "output_type": "display_data"
    },
    {
     "data": {
      "text/html": [
       "<span style=\"color:cyan\"> |-hidden_units: 118</span>"
      ],
      "text/plain": [
       "<IPython.core.display.HTML object>"
      ]
     },
     "metadata": {},
     "output_type": "display_data"
    },
    {
     "data": {
      "text/html": [
       "<span style=\"color:blue\"> |-learning_rate: 0.0001</span>"
      ],
      "text/plain": [
       "<IPython.core.display.HTML object>"
      ]
     },
     "metadata": {},
     "output_type": "display_data"
    },
    {
     "data": {
      "text/html": [
       "<span style=\"color:cyan\"> |-tuner/bracket: 2</span>"
      ],
      "text/plain": [
       "<IPython.core.display.HTML object>"
      ]
     },
     "metadata": {},
     "output_type": "display_data"
    },
    {
     "data": {
      "text/html": [
       "<span style=\"color:blue\"> |-tuner/epochs: 6</span>"
      ],
      "text/plain": [
       "<IPython.core.display.HTML object>"
      ]
     },
     "metadata": {},
     "output_type": "display_data"
    },
    {
     "data": {
      "text/html": [
       "<span style=\"color:cyan\"> |-tuner/initial_epoch: 0</span>"
      ],
      "text/plain": [
       "<IPython.core.display.HTML object>"
      ]
     },
     "metadata": {},
     "output_type": "display_data"
    },
    {
     "data": {
      "text/html": [
       "<span style=\"color:blue\"> |-tuner/round: 0</span>"
      ],
      "text/plain": [
       "<IPython.core.display.HTML object>"
      ]
     },
     "metadata": {},
     "output_type": "display_data"
    },
    {
     "name": "stdout",
     "output_type": "stream",
     "text": [
      "Train on 8000 samples, validate on 2000 samples\n",
      "Epoch 1/6\n",
      "8000/8000 - 2s - loss: 0.0268 - mean_squared_error: 0.0264 - mean_absolute_error: 0.1022 - val_loss: 0.0023 - val_mean_squared_error: 0.0017 - val_mean_absolute_error: 0.0298\n",
      "Epoch 2/6\n",
      "8000/8000 - 1s - loss: 0.0053 - mean_squared_error: 0.0046 - mean_absolute_error: 0.0407 - val_loss: 0.0035 - val_mean_squared_error: 0.0028 - val_mean_absolute_error: 0.0318\n",
      "Epoch 3/6\n",
      "8000/8000 - 1s - loss: 0.0054 - mean_squared_error: 0.0047 - mean_absolute_error: 0.0387 - val_loss: 0.0034 - val_mean_squared_error: 0.0027 - val_mean_absolute_error: 0.0302\n",
      "Epoch 4/6\n",
      "8000/8000 - 1s - loss: 0.0059 - mean_squared_error: 0.0052 - mean_absolute_error: 0.0396 - val_loss: 0.0035 - val_mean_squared_error: 0.0028 - val_mean_absolute_error: 0.0300\n",
      "Epoch 5/6\n",
      "8000/8000 - 1s - loss: 0.0059 - mean_squared_error: 0.0052 - mean_absolute_error: 0.0393 - val_loss: 0.0041 - val_mean_squared_error: 0.0033 - val_mean_absolute_error: 0.0321\n",
      "Epoch 6/6\n",
      "8000/8000 - 1s - loss: 0.0058 - mean_squared_error: 0.0051 - mean_absolute_error: 0.0390 - val_loss: 0.0040 - val_mean_squared_error: 0.0033 - val_mean_absolute_error: 0.0321\n"
     ]
    },
    {
     "data": {
      "text/html": [
       "<span style=\"color:#4527A0\"><h1 style=\"font-size:18px\">Trial complete</h1></span>"
      ],
      "text/plain": [
       "<IPython.core.display.HTML object>"
      ]
     },
     "metadata": {},
     "output_type": "display_data"
    },
    {
     "data": {
      "text/html": [
       "<span style=\"color:#4527A0\"><h1 style=\"font-size:18px\">Trial summary</h1></span>"
      ],
      "text/plain": [
       "<IPython.core.display.HTML object>"
      ]
     },
     "metadata": {},
     "output_type": "display_data"
    },
    {
     "data": {
      "text/html": [
       "<span style=\"color:cyan\"> |-Trial ID: 8cdf8a6899844111cd01f214a2e87fc6</span>"
      ],
      "text/plain": [
       "<IPython.core.display.HTML object>"
      ]
     },
     "metadata": {},
     "output_type": "display_data"
    },
    {
     "data": {
      "text/html": [
       "<span style=\"color:cyan\"> |-Score: 0.0017109442269429564</span>"
      ],
      "text/plain": [
       "<IPython.core.display.HTML object>"
      ]
     },
     "metadata": {},
     "output_type": "display_data"
    },
    {
     "data": {
      "text/html": [
       "<span style=\"color:cyan\"> |-Best step: 0</span>"
      ],
      "text/plain": [
       "<IPython.core.display.HTML object>"
      ]
     },
     "metadata": {},
     "output_type": "display_data"
    },
    {
     "data": {
      "text/html": [
       "<span style=\"color:#7E57C2\"><h2 style=\"font-size:16px\">Hyperparameters:</h2></span>"
      ],
      "text/plain": [
       "<IPython.core.display.HTML object>"
      ]
     },
     "metadata": {},
     "output_type": "display_data"
    },
    {
     "data": {
      "text/html": [
       "<span style=\"color:cyan\"> |-hidden_units: 86</span>"
      ],
      "text/plain": [
       "<IPython.core.display.HTML object>"
      ]
     },
     "metadata": {},
     "output_type": "display_data"
    },
    {
     "data": {
      "text/html": [
       "<span style=\"color:blue\"> |-learning_rate: 0.01</span>"
      ],
      "text/plain": [
       "<IPython.core.display.HTML object>"
      ]
     },
     "metadata": {},
     "output_type": "display_data"
    },
    {
     "data": {
      "text/html": [
       "<span style=\"color:cyan\"> |-tuner/bracket: 2</span>"
      ],
      "text/plain": [
       "<IPython.core.display.HTML object>"
      ]
     },
     "metadata": {},
     "output_type": "display_data"
    },
    {
     "data": {
      "text/html": [
       "<span style=\"color:blue\"> |-tuner/epochs: 6</span>"
      ],
      "text/plain": [
       "<IPython.core.display.HTML object>"
      ]
     },
     "metadata": {},
     "output_type": "display_data"
    },
    {
     "data": {
      "text/html": [
       "<span style=\"color:cyan\"> |-tuner/initial_epoch: 0</span>"
      ],
      "text/plain": [
       "<IPython.core.display.HTML object>"
      ]
     },
     "metadata": {},
     "output_type": "display_data"
    },
    {
     "data": {
      "text/html": [
       "<span style=\"color:blue\"> |-tuner/round: 0</span>"
      ],
      "text/plain": [
       "<IPython.core.display.HTML object>"
      ]
     },
     "metadata": {},
     "output_type": "display_data"
    },
    {
     "name": "stdout",
     "output_type": "stream",
     "text": [
      "Train on 8000 samples, validate on 2000 samples\n",
      "Epoch 1/6\n",
      "8000/8000 - 1s - loss: 0.1325 - mean_squared_error: 0.1323 - mean_absolute_error: 0.3287 - val_loss: 0.0641 - val_mean_squared_error: 0.0639 - val_mean_absolute_error: 0.2238\n",
      "Epoch 2/6\n",
      "8000/8000 - 1s - loss: 0.0394 - mean_squared_error: 0.0392 - mean_absolute_error: 0.1666 - val_loss: 0.0178 - val_mean_squared_error: 0.0175 - val_mean_absolute_error: 0.1149\n",
      "Epoch 3/6\n",
      "8000/8000 - 1s - loss: 0.0144 - mean_squared_error: 0.0140 - mean_absolute_error: 0.0970 - val_loss: 0.0064 - val_mean_squared_error: 0.0060 - val_mean_absolute_error: 0.0691\n",
      "Epoch 4/6\n",
      "8000/8000 - 1s - loss: 0.0082 - mean_squared_error: 0.0078 - mean_absolute_error: 0.0697 - val_loss: 0.0041 - val_mean_squared_error: 0.0036 - val_mean_absolute_error: 0.0513\n",
      "Epoch 5/6\n",
      "8000/8000 - 1s - loss: 0.0063 - mean_squared_error: 0.0058 - mean_absolute_error: 0.0572 - val_loss: 0.0029 - val_mean_squared_error: 0.0024 - val_mean_absolute_error: 0.0411\n",
      "Epoch 6/6\n",
      "8000/8000 - 1s - loss: 0.0055 - mean_squared_error: 0.0050 - mean_absolute_error: 0.0503 - val_loss: 0.0024 - val_mean_squared_error: 0.0019 - val_mean_absolute_error: 0.0352\n"
     ]
    },
    {
     "data": {
      "text/html": [
       "<span style=\"color:#4527A0\"><h1 style=\"font-size:18px\">Trial complete</h1></span>"
      ],
      "text/plain": [
       "<IPython.core.display.HTML object>"
      ]
     },
     "metadata": {},
     "output_type": "display_data"
    },
    {
     "data": {
      "text/html": [
       "<span style=\"color:#4527A0\"><h1 style=\"font-size:18px\">Trial summary</h1></span>"
      ],
      "text/plain": [
       "<IPython.core.display.HTML object>"
      ]
     },
     "metadata": {},
     "output_type": "display_data"
    },
    {
     "data": {
      "text/html": [
       "<span style=\"color:cyan\"> |-Trial ID: 120383ba42e7ee10442e3d6e45d55f44</span>"
      ],
      "text/plain": [
       "<IPython.core.display.HTML object>"
      ]
     },
     "metadata": {},
     "output_type": "display_data"
    },
    {
     "data": {
      "text/html": [
       "<span style=\"color:cyan\"> |-Score: 0.0018803020939230919</span>"
      ],
      "text/plain": [
       "<IPython.core.display.HTML object>"
      ]
     },
     "metadata": {},
     "output_type": "display_data"
    },
    {
     "data": {
      "text/html": [
       "<span style=\"color:cyan\"> |-Best step: 0</span>"
      ],
      "text/plain": [
       "<IPython.core.display.HTML object>"
      ]
     },
     "metadata": {},
     "output_type": "display_data"
    },
    {
     "data": {
      "text/html": [
       "<span style=\"color:#7E57C2\"><h2 style=\"font-size:16px\">Hyperparameters:</h2></span>"
      ],
      "text/plain": [
       "<IPython.core.display.HTML object>"
      ]
     },
     "metadata": {},
     "output_type": "display_data"
    },
    {
     "data": {
      "text/html": [
       "<span style=\"color:cyan\"> |-hidden_units: 84</span>"
      ],
      "text/plain": [
       "<IPython.core.display.HTML object>"
      ]
     },
     "metadata": {},
     "output_type": "display_data"
    },
    {
     "data": {
      "text/html": [
       "<span style=\"color:blue\"> |-learning_rate: 0.001</span>"
      ],
      "text/plain": [
       "<IPython.core.display.HTML object>"
      ]
     },
     "metadata": {},
     "output_type": "display_data"
    },
    {
     "data": {
      "text/html": [
       "<span style=\"color:cyan\"> |-tuner/bracket: 2</span>"
      ],
      "text/plain": [
       "<IPython.core.display.HTML object>"
      ]
     },
     "metadata": {},
     "output_type": "display_data"
    },
    {
     "data": {
      "text/html": [
       "<span style=\"color:blue\"> |-tuner/epochs: 6</span>"
      ],
      "text/plain": [
       "<IPython.core.display.HTML object>"
      ]
     },
     "metadata": {},
     "output_type": "display_data"
    },
    {
     "data": {
      "text/html": [
       "<span style=\"color:cyan\"> |-tuner/initial_epoch: 0</span>"
      ],
      "text/plain": [
       "<IPython.core.display.HTML object>"
      ]
     },
     "metadata": {},
     "output_type": "display_data"
    },
    {
     "data": {
      "text/html": [
       "<span style=\"color:blue\"> |-tuner/round: 0</span>"
      ],
      "text/plain": [
       "<IPython.core.display.HTML object>"
      ]
     },
     "metadata": {},
     "output_type": "display_data"
    },
    {
     "name": "stdout",
     "output_type": "stream",
     "text": [
      "Train on 8000 samples, validate on 2000 samples\n",
      "Epoch 1/6\n",
      "8000/8000 - 1s - loss: 0.2263 - mean_squared_error: 0.2262 - mean_absolute_error: 0.4472 - val_loss: 0.2090 - val_mean_squared_error: 0.2089 - val_mean_absolute_error: 0.4303\n",
      "Epoch 2/6\n",
      "8000/8000 - 1s - loss: 0.2021 - mean_squared_error: 0.2020 - mean_absolute_error: 0.4198 - val_loss: 0.1931 - val_mean_squared_error: 0.1930 - val_mean_absolute_error: 0.4089\n",
      "Epoch 3/6\n",
      "8000/8000 - 1s - loss: 0.1878 - mean_squared_error: 0.1877 - mean_absolute_error: 0.4018 - val_loss: 0.1797 - val_mean_squared_error: 0.1797 - val_mean_absolute_error: 0.3938\n",
      "Epoch 4/6\n",
      "8000/8000 - 1s - loss: 0.1745 - mean_squared_error: 0.1744 - mean_absolute_error: 0.3869 - val_loss: 0.1665 - val_mean_squared_error: 0.1664 - val_mean_absolute_error: 0.3783\n",
      "Epoch 5/6\n",
      "8000/8000 - 1s - loss: 0.1611 - mean_squared_error: 0.1610 - mean_absolute_error: 0.3713 - val_loss: 0.1532 - val_mean_squared_error: 0.1531 - val_mean_absolute_error: 0.3621\n",
      "Epoch 6/6\n",
      "8000/8000 - 1s - loss: 0.1479 - mean_squared_error: 0.1478 - mean_absolute_error: 0.3547 - val_loss: 0.1403 - val_mean_squared_error: 0.1402 - val_mean_absolute_error: 0.3457\n"
     ]
    },
    {
     "data": {
      "text/html": [
       "<span style=\"color:#4527A0\"><h1 style=\"font-size:18px\">Trial complete</h1></span>"
      ],
      "text/plain": [
       "<IPython.core.display.HTML object>"
      ]
     },
     "metadata": {},
     "output_type": "display_data"
    },
    {
     "data": {
      "text/html": [
       "<span style=\"color:#4527A0\"><h1 style=\"font-size:18px\">Trial summary</h1></span>"
      ],
      "text/plain": [
       "<IPython.core.display.HTML object>"
      ]
     },
     "metadata": {},
     "output_type": "display_data"
    },
    {
     "data": {
      "text/html": [
       "<span style=\"color:cyan\"> |-Trial ID: 4d5f13ef11b69f968b32401f6b32f3c6</span>"
      ],
      "text/plain": [
       "<IPython.core.display.HTML object>"
      ]
     },
     "metadata": {},
     "output_type": "display_data"
    },
    {
     "data": {
      "text/html": [
       "<span style=\"color:cyan\"> |-Score: 0.14016516506671906</span>"
      ],
      "text/plain": [
       "<IPython.core.display.HTML object>"
      ]
     },
     "metadata": {},
     "output_type": "display_data"
    },
    {
     "data": {
      "text/html": [
       "<span style=\"color:cyan\"> |-Best step: 0</span>"
      ],
      "text/plain": [
       "<IPython.core.display.HTML object>"
      ]
     },
     "metadata": {},
     "output_type": "display_data"
    },
    {
     "data": {
      "text/html": [
       "<span style=\"color:#7E57C2\"><h2 style=\"font-size:16px\">Hyperparameters:</h2></span>"
      ],
      "text/plain": [
       "<IPython.core.display.HTML object>"
      ]
     },
     "metadata": {},
     "output_type": "display_data"
    },
    {
     "data": {
      "text/html": [
       "<span style=\"color:cyan\"> |-hidden_units: 46</span>"
      ],
      "text/plain": [
       "<IPython.core.display.HTML object>"
      ]
     },
     "metadata": {},
     "output_type": "display_data"
    },
    {
     "data": {
      "text/html": [
       "<span style=\"color:blue\"> |-learning_rate: 0.0001</span>"
      ],
      "text/plain": [
       "<IPython.core.display.HTML object>"
      ]
     },
     "metadata": {},
     "output_type": "display_data"
    },
    {
     "data": {
      "text/html": [
       "<span style=\"color:cyan\"> |-tuner/bracket: 2</span>"
      ],
      "text/plain": [
       "<IPython.core.display.HTML object>"
      ]
     },
     "metadata": {},
     "output_type": "display_data"
    },
    {
     "data": {
      "text/html": [
       "<span style=\"color:blue\"> |-tuner/epochs: 6</span>"
      ],
      "text/plain": [
       "<IPython.core.display.HTML object>"
      ]
     },
     "metadata": {},
     "output_type": "display_data"
    },
    {
     "data": {
      "text/html": [
       "<span style=\"color:cyan\"> |-tuner/initial_epoch: 0</span>"
      ],
      "text/plain": [
       "<IPython.core.display.HTML object>"
      ]
     },
     "metadata": {},
     "output_type": "display_data"
    },
    {
     "data": {
      "text/html": [
       "<span style=\"color:blue\"> |-tuner/round: 0</span>"
      ],
      "text/plain": [
       "<IPython.core.display.HTML object>"
      ]
     },
     "metadata": {},
     "output_type": "display_data"
    },
    {
     "name": "stdout",
     "output_type": "stream",
     "text": [
      "Train on 8000 samples, validate on 2000 samples\n",
      "Epoch 1/6\n",
      "8000/8000 - 2s - loss: 0.2032 - mean_squared_error: 0.2030 - mean_absolute_error: 0.4244 - val_loss: 0.1835 - val_mean_squared_error: 0.1834 - val_mean_absolute_error: 0.4008\n",
      "Epoch 2/6\n",
      "8000/8000 - 1s - loss: 0.1700 - mean_squared_error: 0.1699 - mean_absolute_error: 0.3847 - val_loss: 0.1532 - val_mean_squared_error: 0.1530 - val_mean_absolute_error: 0.3651\n",
      "Epoch 3/6\n",
      "8000/8000 - 1s - loss: 0.1397 - mean_squared_error: 0.1395 - mean_absolute_error: 0.3485 - val_loss: 0.1234 - val_mean_squared_error: 0.1233 - val_mean_absolute_error: 0.3278\n",
      "Epoch 4/6\n",
      "8000/8000 - 1s - loss: 0.1113 - mean_squared_error: 0.1112 - mean_absolute_error: 0.3100 - val_loss: 0.0972 - val_mean_squared_error: 0.0970 - val_mean_absolute_error: 0.2903\n",
      "Epoch 5/6\n",
      "8000/8000 - 1s - loss: 0.0879 - mean_squared_error: 0.0877 - mean_absolute_error: 0.2730 - val_loss: 0.0767 - val_mean_squared_error: 0.0766 - val_mean_absolute_error: 0.2540\n",
      "Epoch 6/6\n",
      "8000/8000 - 1s - loss: 0.0697 - mean_squared_error: 0.0695 - mean_absolute_error: 0.2399 - val_loss: 0.0610 - val_mean_squared_error: 0.0608 - val_mean_absolute_error: 0.2243\n"
     ]
    },
    {
     "data": {
      "text/html": [
       "<span style=\"color:#4527A0\"><h1 style=\"font-size:18px\">Trial complete</h1></span>"
      ],
      "text/plain": [
       "<IPython.core.display.HTML object>"
      ]
     },
     "metadata": {},
     "output_type": "display_data"
    },
    {
     "data": {
      "text/html": [
       "<span style=\"color:#4527A0\"><h1 style=\"font-size:18px\">Trial summary</h1></span>"
      ],
      "text/plain": [
       "<IPython.core.display.HTML object>"
      ]
     },
     "metadata": {},
     "output_type": "display_data"
    },
    {
     "data": {
      "text/html": [
       "<span style=\"color:cyan\"> |-Trial ID: 65007ee467102f10368ef56f3b82b8af</span>"
      ],
      "text/plain": [
       "<IPython.core.display.HTML object>"
      ]
     },
     "metadata": {},
     "output_type": "display_data"
    },
    {
     "data": {
      "text/html": [
       "<span style=\"color:cyan\"> |-Score: 0.06078214943408966</span>"
      ],
      "text/plain": [
       "<IPython.core.display.HTML object>"
      ]
     },
     "metadata": {},
     "output_type": "display_data"
    },
    {
     "data": {
      "text/html": [
       "<span style=\"color:cyan\"> |-Best step: 0</span>"
      ],
      "text/plain": [
       "<IPython.core.display.HTML object>"
      ]
     },
     "metadata": {},
     "output_type": "display_data"
    },
    {
     "data": {
      "text/html": [
       "<span style=\"color:#7E57C2\"><h2 style=\"font-size:16px\">Hyperparameters:</h2></span>"
      ],
      "text/plain": [
       "<IPython.core.display.HTML object>"
      ]
     },
     "metadata": {},
     "output_type": "display_data"
    },
    {
     "data": {
      "text/html": [
       "<span style=\"color:cyan\"> |-hidden_units: 192</span>"
      ],
      "text/plain": [
       "<IPython.core.display.HTML object>"
      ]
     },
     "metadata": {},
     "output_type": "display_data"
    },
    {
     "data": {
      "text/html": [
       "<span style=\"color:blue\"> |-learning_rate: 0.0001</span>"
      ],
      "text/plain": [
       "<IPython.core.display.HTML object>"
      ]
     },
     "metadata": {},
     "output_type": "display_data"
    },
    {
     "data": {
      "text/html": [
       "<span style=\"color:cyan\"> |-tuner/bracket: 2</span>"
      ],
      "text/plain": [
       "<IPython.core.display.HTML object>"
      ]
     },
     "metadata": {},
     "output_type": "display_data"
    },
    {
     "data": {
      "text/html": [
       "<span style=\"color:blue\"> |-tuner/epochs: 6</span>"
      ],
      "text/plain": [
       "<IPython.core.display.HTML object>"
      ]
     },
     "metadata": {},
     "output_type": "display_data"
    },
    {
     "data": {
      "text/html": [
       "<span style=\"color:cyan\"> |-tuner/initial_epoch: 0</span>"
      ],
      "text/plain": [
       "<IPython.core.display.HTML object>"
      ]
     },
     "metadata": {},
     "output_type": "display_data"
    },
    {
     "data": {
      "text/html": [
       "<span style=\"color:blue\"> |-tuner/round: 0</span>"
      ],
      "text/plain": [
       "<IPython.core.display.HTML object>"
      ]
     },
     "metadata": {},
     "output_type": "display_data"
    },
    {
     "name": "stdout",
     "output_type": "stream",
     "text": [
      "Train on 8000 samples, validate on 2000 samples\n",
      "Epoch 1/6\n",
      "8000/8000 - 2s - loss: 0.0185 - mean_squared_error: 0.0180 - mean_absolute_error: 0.0784 - val_loss: 0.0020 - val_mean_squared_error: 0.0014 - val_mean_absolute_error: 0.0259\n",
      "Epoch 2/6\n",
      "8000/8000 - 1s - loss: 0.0040 - mean_squared_error: 0.0033 - mean_absolute_error: 0.0343 - val_loss: 0.0028 - val_mean_squared_error: 0.0021 - val_mean_absolute_error: 0.0279\n",
      "Epoch 3/6\n",
      "8000/8000 - 1s - loss: 0.0044 - mean_squared_error: 0.0037 - mean_absolute_error: 0.0343 - val_loss: 0.0032 - val_mean_squared_error: 0.0025 - val_mean_absolute_error: 0.0288\n",
      "Epoch 4/6\n",
      "8000/8000 - 1s - loss: 0.0046 - mean_squared_error: 0.0039 - mean_absolute_error: 0.0346 - val_loss: 0.0031 - val_mean_squared_error: 0.0024 - val_mean_absolute_error: 0.0281\n",
      "Epoch 5/6\n",
      "8000/8000 - 1s - loss: 0.0047 - mean_squared_error: 0.0040 - mean_absolute_error: 0.0348 - val_loss: 0.0031 - val_mean_squared_error: 0.0023 - val_mean_absolute_error: 0.0274\n",
      "Epoch 6/6\n",
      "8000/8000 - 1s - loss: 0.0047 - mean_squared_error: 0.0040 - mean_absolute_error: 0.0347 - val_loss: 0.0042 - val_mean_squared_error: 0.0035 - val_mean_absolute_error: 0.0328\n"
     ]
    },
    {
     "data": {
      "text/html": [
       "<span style=\"color:#4527A0\"><h1 style=\"font-size:18px\">Trial complete</h1></span>"
      ],
      "text/plain": [
       "<IPython.core.display.HTML object>"
      ]
     },
     "metadata": {},
     "output_type": "display_data"
    },
    {
     "data": {
      "text/html": [
       "<span style=\"color:#4527A0\"><h1 style=\"font-size:18px\">Trial summary</h1></span>"
      ],
      "text/plain": [
       "<IPython.core.display.HTML object>"
      ]
     },
     "metadata": {},
     "output_type": "display_data"
    },
    {
     "data": {
      "text/html": [
       "<span style=\"color:cyan\"> |-Trial ID: 9d9e5ed7b89969bbd341097294718eff</span>"
      ],
      "text/plain": [
       "<IPython.core.display.HTML object>"
      ]
     },
     "metadata": {},
     "output_type": "display_data"
    },
    {
     "data": {
      "text/html": [
       "<span style=\"color:cyan\"> |-Score: 0.0014150126371532679</span>"
      ],
      "text/plain": [
       "<IPython.core.display.HTML object>"
      ]
     },
     "metadata": {},
     "output_type": "display_data"
    },
    {
     "data": {
      "text/html": [
       "<span style=\"color:cyan\"> |-Best step: 0</span>"
      ],
      "text/plain": [
       "<IPython.core.display.HTML object>"
      ]
     },
     "metadata": {},
     "output_type": "display_data"
    },
    {
     "data": {
      "text/html": [
       "<span style=\"color:#7E57C2\"><h2 style=\"font-size:16px\">Hyperparameters:</h2></span>"
      ],
      "text/plain": [
       "<IPython.core.display.HTML object>"
      ]
     },
     "metadata": {},
     "output_type": "display_data"
    },
    {
     "data": {
      "text/html": [
       "<span style=\"color:cyan\"> |-hidden_units: 148</span>"
      ],
      "text/plain": [
       "<IPython.core.display.HTML object>"
      ]
     },
     "metadata": {},
     "output_type": "display_data"
    },
    {
     "data": {
      "text/html": [
       "<span style=\"color:blue\"> |-learning_rate: 0.01</span>"
      ],
      "text/plain": [
       "<IPython.core.display.HTML object>"
      ]
     },
     "metadata": {},
     "output_type": "display_data"
    },
    {
     "data": {
      "text/html": [
       "<span style=\"color:cyan\"> |-tuner/bracket: 2</span>"
      ],
      "text/plain": [
       "<IPython.core.display.HTML object>"
      ]
     },
     "metadata": {},
     "output_type": "display_data"
    },
    {
     "data": {
      "text/html": [
       "<span style=\"color:blue\"> |-tuner/epochs: 6</span>"
      ],
      "text/plain": [
       "<IPython.core.display.HTML object>"
      ]
     },
     "metadata": {},
     "output_type": "display_data"
    },
    {
     "data": {
      "text/html": [
       "<span style=\"color:cyan\"> |-tuner/initial_epoch: 0</span>"
      ],
      "text/plain": [
       "<IPython.core.display.HTML object>"
      ]
     },
     "metadata": {},
     "output_type": "display_data"
    },
    {
     "data": {
      "text/html": [
       "<span style=\"color:blue\"> |-tuner/round: 0</span>"
      ],
      "text/plain": [
       "<IPython.core.display.HTML object>"
      ]
     },
     "metadata": {},
     "output_type": "display_data"
    },
    {
     "name": "stdout",
     "output_type": "stream",
     "text": [
      "Train on 8000 samples, validate on 2000 samples\n",
      "Epoch 1/6\n",
      "8000/8000 - 1s - loss: 0.1590 - mean_squared_error: 0.1589 - mean_absolute_error: 0.3656 - val_loss: 0.1037 - val_mean_squared_error: 0.1036 - val_mean_absolute_error: 0.2893\n",
      "Epoch 2/6\n",
      "8000/8000 - 1s - loss: 0.0779 - mean_squared_error: 0.0777 - mean_absolute_error: 0.2372 - val_loss: 0.0533 - val_mean_squared_error: 0.0531 - val_mean_absolute_error: 0.1924\n",
      "Epoch 3/6\n",
      "8000/8000 - 1s - loss: 0.0432 - mean_squared_error: 0.0429 - mean_absolute_error: 0.1654 - val_loss: 0.0257 - val_mean_squared_error: 0.0254 - val_mean_absolute_error: 0.1302\n",
      "Epoch 4/6\n",
      "8000/8000 - 1s - loss: 0.0251 - mean_squared_error: 0.0248 - mean_absolute_error: 0.1198 - val_loss: 0.0127 - val_mean_squared_error: 0.0123 - val_mean_absolute_error: 0.0906\n",
      "Epoch 5/6\n",
      "8000/8000 - 1s - loss: 0.0166 - mean_squared_error: 0.0163 - mean_absolute_error: 0.0931 - val_loss: 0.0069 - val_mean_squared_error: 0.0065 - val_mean_absolute_error: 0.0674\n",
      "Epoch 6/6\n",
      "8000/8000 - 1s - loss: 0.0127 - mean_squared_error: 0.0123 - mean_absolute_error: 0.0777 - val_loss: 0.0046 - val_mean_squared_error: 0.0041 - val_mean_absolute_error: 0.0532\n"
     ]
    },
    {
     "data": {
      "text/html": [
       "<span style=\"color:#4527A0\"><h1 style=\"font-size:18px\">Trial complete</h1></span>"
      ],
      "text/plain": [
       "<IPython.core.display.HTML object>"
      ]
     },
     "metadata": {},
     "output_type": "display_data"
    },
    {
     "data": {
      "text/html": [
       "<span style=\"color:#4527A0\"><h1 style=\"font-size:18px\">Trial summary</h1></span>"
      ],
      "text/plain": [
       "<IPython.core.display.HTML object>"
      ]
     },
     "metadata": {},
     "output_type": "display_data"
    },
    {
     "data": {
      "text/html": [
       "<span style=\"color:cyan\"> |-Trial ID: 876e85ce50a2f690ab0c6d6db442e216</span>"
      ],
      "text/plain": [
       "<IPython.core.display.HTML object>"
      ]
     },
     "metadata": {},
     "output_type": "display_data"
    },
    {
     "data": {
      "text/html": [
       "<span style=\"color:cyan\"> |-Score: 0.004139037802815437</span>"
      ],
      "text/plain": [
       "<IPython.core.display.HTML object>"
      ]
     },
     "metadata": {},
     "output_type": "display_data"
    },
    {
     "data": {
      "text/html": [
       "<span style=\"color:cyan\"> |-Best step: 0</span>"
      ],
      "text/plain": [
       "<IPython.core.display.HTML object>"
      ]
     },
     "metadata": {},
     "output_type": "display_data"
    },
    {
     "data": {
      "text/html": [
       "<span style=\"color:#7E57C2\"><h2 style=\"font-size:16px\">Hyperparameters:</h2></span>"
      ],
      "text/plain": [
       "<IPython.core.display.HTML object>"
      ]
     },
     "metadata": {},
     "output_type": "display_data"
    },
    {
     "data": {
      "text/html": [
       "<span style=\"color:cyan\"> |-hidden_units: 44</span>"
      ],
      "text/plain": [
       "<IPython.core.display.HTML object>"
      ]
     },
     "metadata": {},
     "output_type": "display_data"
    },
    {
     "data": {
      "text/html": [
       "<span style=\"color:blue\"> |-learning_rate: 0.001</span>"
      ],
      "text/plain": [
       "<IPython.core.display.HTML object>"
      ]
     },
     "metadata": {},
     "output_type": "display_data"
    },
    {
     "data": {
      "text/html": [
       "<span style=\"color:cyan\"> |-tuner/bracket: 2</span>"
      ],
      "text/plain": [
       "<IPython.core.display.HTML object>"
      ]
     },
     "metadata": {},
     "output_type": "display_data"
    },
    {
     "data": {
      "text/html": [
       "<span style=\"color:blue\"> |-tuner/epochs: 6</span>"
      ],
      "text/plain": [
       "<IPython.core.display.HTML object>"
      ]
     },
     "metadata": {},
     "output_type": "display_data"
    },
    {
     "data": {
      "text/html": [
       "<span style=\"color:cyan\"> |-tuner/initial_epoch: 0</span>"
      ],
      "text/plain": [
       "<IPython.core.display.HTML object>"
      ]
     },
     "metadata": {},
     "output_type": "display_data"
    },
    {
     "data": {
      "text/html": [
       "<span style=\"color:blue\"> |-tuner/round: 0</span>"
      ],
      "text/plain": [
       "<IPython.core.display.HTML object>"
      ]
     },
     "metadata": {},
     "output_type": "display_data"
    },
    {
     "name": "stdout",
     "output_type": "stream",
     "text": [
      "Train on 8000 samples, validate on 2000 samples\n",
      "Epoch 1/6\n",
      "8000/8000 - 2s - loss: 0.0162 - mean_squared_error: 0.0157 - mean_absolute_error: 0.0710 - val_loss: 0.0024 - val_mean_squared_error: 0.0018 - val_mean_absolute_error: 0.0274\n",
      "Epoch 2/6\n",
      "8000/8000 - 1s - loss: 0.0036 - mean_squared_error: 0.0029 - mean_absolute_error: 0.0320 - val_loss: 0.0020 - val_mean_squared_error: 0.0013 - val_mean_absolute_error: 0.0231\n",
      "Epoch 3/6\n",
      "8000/8000 - 1s - loss: 0.0040 - mean_squared_error: 0.0033 - mean_absolute_error: 0.0328 - val_loss: 0.0032 - val_mean_squared_error: 0.0025 - val_mean_absolute_error: 0.0287\n",
      "Epoch 4/6\n",
      "8000/8000 - 1s - loss: 0.0044 - mean_squared_error: 0.0037 - mean_absolute_error: 0.0336 - val_loss: 0.0034 - val_mean_squared_error: 0.0027 - val_mean_absolute_error: 0.0292\n",
      "Epoch 5/6\n",
      "8000/8000 - 1s - loss: 0.0044 - mean_squared_error: 0.0037 - mean_absolute_error: 0.0334 - val_loss: 0.0033 - val_mean_squared_error: 0.0026 - val_mean_absolute_error: 0.0283\n",
      "Epoch 6/6\n",
      "8000/8000 - 1s - loss: 0.0047 - mean_squared_error: 0.0040 - mean_absolute_error: 0.0343 - val_loss: 0.0038 - val_mean_squared_error: 0.0031 - val_mean_absolute_error: 0.0306\n"
     ]
    },
    {
     "data": {
      "text/html": [
       "<span style=\"color:#4527A0\"><h1 style=\"font-size:18px\">Trial complete</h1></span>"
      ],
      "text/plain": [
       "<IPython.core.display.HTML object>"
      ]
     },
     "metadata": {},
     "output_type": "display_data"
    },
    {
     "data": {
      "text/html": [
       "<span style=\"color:#4527A0\"><h1 style=\"font-size:18px\">Trial summary</h1></span>"
      ],
      "text/plain": [
       "<IPython.core.display.HTML object>"
      ]
     },
     "metadata": {},
     "output_type": "display_data"
    },
    {
     "data": {
      "text/html": [
       "<span style=\"color:cyan\"> |-Trial ID: 224b23881fd55c213fda6218c42075d3</span>"
      ],
      "text/plain": [
       "<IPython.core.display.HTML object>"
      ]
     },
     "metadata": {},
     "output_type": "display_data"
    },
    {
     "data": {
      "text/html": [
       "<span style=\"color:cyan\"> |-Score: 0.0013304842868819833</span>"
      ],
      "text/plain": [
       "<IPython.core.display.HTML object>"
      ]
     },
     "metadata": {},
     "output_type": "display_data"
    },
    {
     "data": {
      "text/html": [
       "<span style=\"color:cyan\"> |-Best step: 0</span>"
      ],
      "text/plain": [
       "<IPython.core.display.HTML object>"
      ]
     },
     "metadata": {},
     "output_type": "display_data"
    },
    {
     "data": {
      "text/html": [
       "<span style=\"color:#7E57C2\"><h2 style=\"font-size:16px\">Hyperparameters:</h2></span>"
      ],
      "text/plain": [
       "<IPython.core.display.HTML object>"
      ]
     },
     "metadata": {},
     "output_type": "display_data"
    },
    {
     "data": {
      "text/html": [
       "<span style=\"color:cyan\"> |-hidden_units: 188</span>"
      ],
      "text/plain": [
       "<IPython.core.display.HTML object>"
      ]
     },
     "metadata": {},
     "output_type": "display_data"
    },
    {
     "data": {
      "text/html": [
       "<span style=\"color:blue\"> |-learning_rate: 0.01</span>"
      ],
      "text/plain": [
       "<IPython.core.display.HTML object>"
      ]
     },
     "metadata": {},
     "output_type": "display_data"
    },
    {
     "data": {
      "text/html": [
       "<span style=\"color:cyan\"> |-tuner/bracket: 2</span>"
      ],
      "text/plain": [
       "<IPython.core.display.HTML object>"
      ]
     },
     "metadata": {},
     "output_type": "display_data"
    },
    {
     "data": {
      "text/html": [
       "<span style=\"color:blue\"> |-tuner/epochs: 6</span>"
      ],
      "text/plain": [
       "<IPython.core.display.HTML object>"
      ]
     },
     "metadata": {},
     "output_type": "display_data"
    },
    {
     "data": {
      "text/html": [
       "<span style=\"color:cyan\"> |-tuner/initial_epoch: 0</span>"
      ],
      "text/plain": [
       "<IPython.core.display.HTML object>"
      ]
     },
     "metadata": {},
     "output_type": "display_data"
    },
    {
     "data": {
      "text/html": [
       "<span style=\"color:blue\"> |-tuner/round: 0</span>"
      ],
      "text/plain": [
       "<IPython.core.display.HTML object>"
      ]
     },
     "metadata": {},
     "output_type": "display_data"
    },
    {
     "name": "stdout",
     "output_type": "stream",
     "text": [
      "Train on 8000 samples, validate on 2000 samples\n",
      "Epoch 1/6\n",
      "8000/8000 - 2s - loss: 0.0225 - mean_squared_error: 0.0220 - mean_absolute_error: 0.0903 - val_loss: 0.0027 - val_mean_squared_error: 0.0021 - val_mean_absolute_error: 0.0305\n",
      "Epoch 2/6\n",
      "8000/8000 - 1s - loss: 0.0046 - mean_squared_error: 0.0040 - mean_absolute_error: 0.0376 - val_loss: 0.0029 - val_mean_squared_error: 0.0022 - val_mean_absolute_error: 0.0289\n",
      "Epoch 3/6\n",
      "8000/8000 - 1s - loss: 0.0050 - mean_squared_error: 0.0043 - mean_absolute_error: 0.0369 - val_loss: 0.0030 - val_mean_squared_error: 0.0023 - val_mean_absolute_error: 0.0279\n",
      "Epoch 4/6\n",
      "8000/8000 - 1s - loss: 0.0053 - mean_squared_error: 0.0046 - mean_absolute_error: 0.0375 - val_loss: 0.0040 - val_mean_squared_error: 0.0033 - val_mean_absolute_error: 0.0321\n",
      "Epoch 5/6\n",
      "8000/8000 - 1s - loss: 0.0052 - mean_squared_error: 0.0045 - mean_absolute_error: 0.0370 - val_loss: 0.0037 - val_mean_squared_error: 0.0029 - val_mean_absolute_error: 0.0303\n",
      "Epoch 6/6\n",
      "8000/8000 - 1s - loss: 0.0053 - mean_squared_error: 0.0045 - mean_absolute_error: 0.0369 - val_loss: 0.0039 - val_mean_squared_error: 0.0031 - val_mean_absolute_error: 0.0312\n"
     ]
    },
    {
     "data": {
      "text/html": [
       "<span style=\"color:#4527A0\"><h1 style=\"font-size:18px\">Trial complete</h1></span>"
      ],
      "text/plain": [
       "<IPython.core.display.HTML object>"
      ]
     },
     "metadata": {},
     "output_type": "display_data"
    },
    {
     "data": {
      "text/html": [
       "<span style=\"color:#4527A0\"><h1 style=\"font-size:18px\">Trial summary</h1></span>"
      ],
      "text/plain": [
       "<IPython.core.display.HTML object>"
      ]
     },
     "metadata": {},
     "output_type": "display_data"
    },
    {
     "data": {
      "text/html": [
       "<span style=\"color:cyan\"> |-Trial ID: fa8ef5eb61cb75694e46eb43539dd41a</span>"
      ],
      "text/plain": [
       "<IPython.core.display.HTML object>"
      ]
     },
     "metadata": {},
     "output_type": "display_data"
    },
    {
     "data": {
      "text/html": [
       "<span style=\"color:cyan\"> |-Score: 0.002105566905811429</span>"
      ],
      "text/plain": [
       "<IPython.core.display.HTML object>"
      ]
     },
     "metadata": {},
     "output_type": "display_data"
    },
    {
     "data": {
      "text/html": [
       "<span style=\"color:cyan\"> |-Best step: 0</span>"
      ],
      "text/plain": [
       "<IPython.core.display.HTML object>"
      ]
     },
     "metadata": {},
     "output_type": "display_data"
    },
    {
     "data": {
      "text/html": [
       "<span style=\"color:#7E57C2\"><h2 style=\"font-size:16px\">Hyperparameters:</h2></span>"
      ],
      "text/plain": [
       "<IPython.core.display.HTML object>"
      ]
     },
     "metadata": {},
     "output_type": "display_data"
    },
    {
     "data": {
      "text/html": [
       "<span style=\"color:cyan\"> |-hidden_units: 106</span>"
      ],
      "text/plain": [
       "<IPython.core.display.HTML object>"
      ]
     },
     "metadata": {},
     "output_type": "display_data"
    },
    {
     "data": {
      "text/html": [
       "<span style=\"color:blue\"> |-learning_rate: 0.01</span>"
      ],
      "text/plain": [
       "<IPython.core.display.HTML object>"
      ]
     },
     "metadata": {},
     "output_type": "display_data"
    },
    {
     "data": {
      "text/html": [
       "<span style=\"color:cyan\"> |-tuner/bracket: 2</span>"
      ],
      "text/plain": [
       "<IPython.core.display.HTML object>"
      ]
     },
     "metadata": {},
     "output_type": "display_data"
    },
    {
     "data": {
      "text/html": [
       "<span style=\"color:blue\"> |-tuner/epochs: 6</span>"
      ],
      "text/plain": [
       "<IPython.core.display.HTML object>"
      ]
     },
     "metadata": {},
     "output_type": "display_data"
    },
    {
     "data": {
      "text/html": [
       "<span style=\"color:cyan\"> |-tuner/initial_epoch: 0</span>"
      ],
      "text/plain": [
       "<IPython.core.display.HTML object>"
      ]
     },
     "metadata": {},
     "output_type": "display_data"
    },
    {
     "data": {
      "text/html": [
       "<span style=\"color:blue\"> |-tuner/round: 0</span>"
      ],
      "text/plain": [
       "<IPython.core.display.HTML object>"
      ]
     },
     "metadata": {},
     "output_type": "display_data"
    },
    {
     "name": "stdout",
     "output_type": "stream",
     "text": [
      "Train on 8000 samples, validate on 2000 samples\n",
      "Epoch 1/6\n",
      "8000/8000 - 2s - loss: 0.1465 - mean_squared_error: 0.1464 - mean_absolute_error: 0.3493 - val_loss: 0.0817 - val_mean_squared_error: 0.0816 - val_mean_absolute_error: 0.2557\n",
      "Epoch 2/6\n",
      "8000/8000 - 1s - loss: 0.0552 - mean_squared_error: 0.0550 - mean_absolute_error: 0.1990 - val_loss: 0.0301 - val_mean_squared_error: 0.0298 - val_mean_absolute_error: 0.1464\n",
      "Epoch 3/6\n",
      "8000/8000 - 1s - loss: 0.0231 - mean_squared_error: 0.0228 - mean_absolute_error: 0.1224 - val_loss: 0.0106 - val_mean_squared_error: 0.0103 - val_mean_absolute_error: 0.0884\n",
      "Epoch 4/6\n",
      "8000/8000 - 1s - loss: 0.0121 - mean_squared_error: 0.0117 - mean_absolute_error: 0.0851 - val_loss: 0.0054 - val_mean_squared_error: 0.0050 - val_mean_absolute_error: 0.0616\n",
      "Epoch 5/6\n",
      "8000/8000 - 1s - loss: 0.0087 - mean_squared_error: 0.0082 - mean_absolute_error: 0.0678 - val_loss: 0.0035 - val_mean_squared_error: 0.0030 - val_mean_absolute_error: 0.0479\n",
      "Epoch 6/6\n",
      "8000/8000 - 1s - loss: 0.0073 - mean_squared_error: 0.0068 - mean_absolute_error: 0.0588 - val_loss: 0.0029 - val_mean_squared_error: 0.0024 - val_mean_absolute_error: 0.0405\n"
     ]
    },
    {
     "data": {
      "text/html": [
       "<span style=\"color:#4527A0\"><h1 style=\"font-size:18px\">Trial complete</h1></span>"
      ],
      "text/plain": [
       "<IPython.core.display.HTML object>"
      ]
     },
     "metadata": {},
     "output_type": "display_data"
    },
    {
     "data": {
      "text/html": [
       "<span style=\"color:#4527A0\"><h1 style=\"font-size:18px\">Trial summary</h1></span>"
      ],
      "text/plain": [
       "<IPython.core.display.HTML object>"
      ]
     },
     "metadata": {},
     "output_type": "display_data"
    },
    {
     "data": {
      "text/html": [
       "<span style=\"color:cyan\"> |-Trial ID: eef42a2fc764126e2cbc6ef389c6b4a1</span>"
      ],
      "text/plain": [
       "<IPython.core.display.HTML object>"
      ]
     },
     "metadata": {},
     "output_type": "display_data"
    },
    {
     "data": {
      "text/html": [
       "<span style=\"color:cyan\"> |-Score: 0.0023740455508232117</span>"
      ],
      "text/plain": [
       "<IPython.core.display.HTML object>"
      ]
     },
     "metadata": {},
     "output_type": "display_data"
    },
    {
     "data": {
      "text/html": [
       "<span style=\"color:cyan\"> |-Best step: 0</span>"
      ],
      "text/plain": [
       "<IPython.core.display.HTML object>"
      ]
     },
     "metadata": {},
     "output_type": "display_data"
    },
    {
     "data": {
      "text/html": [
       "<span style=\"color:#7E57C2\"><h2 style=\"font-size:16px\">Hyperparameters:</h2></span>"
      ],
      "text/plain": [
       "<IPython.core.display.HTML object>"
      ]
     },
     "metadata": {},
     "output_type": "display_data"
    },
    {
     "data": {
      "text/html": [
       "<span style=\"color:cyan\"> |-hidden_units: 64</span>"
      ],
      "text/plain": [
       "<IPython.core.display.HTML object>"
      ]
     },
     "metadata": {},
     "output_type": "display_data"
    },
    {
     "data": {
      "text/html": [
       "<span style=\"color:blue\"> |-learning_rate: 0.001</span>"
      ],
      "text/plain": [
       "<IPython.core.display.HTML object>"
      ]
     },
     "metadata": {},
     "output_type": "display_data"
    },
    {
     "data": {
      "text/html": [
       "<span style=\"color:cyan\"> |-tuner/bracket: 2</span>"
      ],
      "text/plain": [
       "<IPython.core.display.HTML object>"
      ]
     },
     "metadata": {},
     "output_type": "display_data"
    },
    {
     "data": {
      "text/html": [
       "<span style=\"color:blue\"> |-tuner/epochs: 6</span>"
      ],
      "text/plain": [
       "<IPython.core.display.HTML object>"
      ]
     },
     "metadata": {},
     "output_type": "display_data"
    },
    {
     "data": {
      "text/html": [
       "<span style=\"color:cyan\"> |-tuner/initial_epoch: 0</span>"
      ],
      "text/plain": [
       "<IPython.core.display.HTML object>"
      ]
     },
     "metadata": {},
     "output_type": "display_data"
    },
    {
     "data": {
      "text/html": [
       "<span style=\"color:blue\"> |-tuner/round: 0</span>"
      ],
      "text/plain": [
       "<IPython.core.display.HTML object>"
      ]
     },
     "metadata": {},
     "output_type": "display_data"
    },
    {
     "name": "stdout",
     "output_type": "stream",
     "text": [
      "Train on 8000 samples, validate on 2000 samples\n",
      "Epoch 1/6\n",
      "8000/8000 - 2s - loss: 0.0168 - mean_squared_error: 0.0163 - mean_absolute_error: 0.0730 - val_loss: 0.0025 - val_mean_squared_error: 0.0019 - val_mean_absolute_error: 0.0279\n",
      "Epoch 2/6\n",
      "8000/8000 - 1s - loss: 0.0039 - mean_squared_error: 0.0032 - mean_absolute_error: 0.0334 - val_loss: 0.0028 - val_mean_squared_error: 0.0021 - val_mean_absolute_error: 0.0273\n",
      "Epoch 3/6\n",
      "8000/8000 - 1s - loss: 0.0041 - mean_squared_error: 0.0034 - mean_absolute_error: 0.0330 - val_loss: 0.0028 - val_mean_squared_error: 0.0021 - val_mean_absolute_error: 0.0267\n",
      "Epoch 4/6\n",
      "8000/8000 - 1s - loss: 0.0045 - mean_squared_error: 0.0038 - mean_absolute_error: 0.0341 - val_loss: 0.0029 - val_mean_squared_error: 0.0021 - val_mean_absolute_error: 0.0263\n",
      "Epoch 5/6\n",
      "8000/8000 - 1s - loss: 0.0045 - mean_squared_error: 0.0038 - mean_absolute_error: 0.0339 - val_loss: 0.0031 - val_mean_squared_error: 0.0024 - val_mean_absolute_error: 0.0274\n",
      "Epoch 6/6\n",
      "8000/8000 - 1s - loss: 0.0049 - mean_squared_error: 0.0041 - mean_absolute_error: 0.0351 - val_loss: 0.0036 - val_mean_squared_error: 0.0028 - val_mean_absolute_error: 0.0289\n"
     ]
    },
    {
     "data": {
      "text/html": [
       "<span style=\"color:#4527A0\"><h1 style=\"font-size:18px\">Trial complete</h1></span>"
      ],
      "text/plain": [
       "<IPython.core.display.HTML object>"
      ]
     },
     "metadata": {},
     "output_type": "display_data"
    },
    {
     "data": {
      "text/html": [
       "<span style=\"color:#4527A0\"><h1 style=\"font-size:18px\">Trial summary</h1></span>"
      ],
      "text/plain": [
       "<IPython.core.display.HTML object>"
      ]
     },
     "metadata": {},
     "output_type": "display_data"
    },
    {
     "data": {
      "text/html": [
       "<span style=\"color:cyan\"> |-Trial ID: 2e0b8ac5776c5e5093e97591879eda3c</span>"
      ],
      "text/plain": [
       "<IPython.core.display.HTML object>"
      ]
     },
     "metadata": {},
     "output_type": "display_data"
    },
    {
     "data": {
      "text/html": [
       "<span style=\"color:cyan\"> |-Score: 0.0018829579930752516</span>"
      ],
      "text/plain": [
       "<IPython.core.display.HTML object>"
      ]
     },
     "metadata": {},
     "output_type": "display_data"
    },
    {
     "data": {
      "text/html": [
       "<span style=\"color:cyan\"> |-Best step: 0</span>"
      ],
      "text/plain": [
       "<IPython.core.display.HTML object>"
      ]
     },
     "metadata": {},
     "output_type": "display_data"
    },
    {
     "data": {
      "text/html": [
       "<span style=\"color:#7E57C2\"><h2 style=\"font-size:16px\">Hyperparameters:</h2></span>"
      ],
      "text/plain": [
       "<IPython.core.display.HTML object>"
      ]
     },
     "metadata": {},
     "output_type": "display_data"
    },
    {
     "data": {
      "text/html": [
       "<span style=\"color:cyan\"> |-hidden_units: 168</span>"
      ],
      "text/plain": [
       "<IPython.core.display.HTML object>"
      ]
     },
     "metadata": {},
     "output_type": "display_data"
    },
    {
     "data": {
      "text/html": [
       "<span style=\"color:blue\"> |-learning_rate: 0.01</span>"
      ],
      "text/plain": [
       "<IPython.core.display.HTML object>"
      ]
     },
     "metadata": {},
     "output_type": "display_data"
    },
    {
     "data": {
      "text/html": [
       "<span style=\"color:cyan\"> |-tuner/bracket: 2</span>"
      ],
      "text/plain": [
       "<IPython.core.display.HTML object>"
      ]
     },
     "metadata": {},
     "output_type": "display_data"
    },
    {
     "data": {
      "text/html": [
       "<span style=\"color:blue\"> |-tuner/epochs: 6</span>"
      ],
      "text/plain": [
       "<IPython.core.display.HTML object>"
      ]
     },
     "metadata": {},
     "output_type": "display_data"
    },
    {
     "data": {
      "text/html": [
       "<span style=\"color:cyan\"> |-tuner/initial_epoch: 0</span>"
      ],
      "text/plain": [
       "<IPython.core.display.HTML object>"
      ]
     },
     "metadata": {},
     "output_type": "display_data"
    },
    {
     "data": {
      "text/html": [
       "<span style=\"color:blue\"> |-tuner/round: 0</span>"
      ],
      "text/plain": [
       "<IPython.core.display.HTML object>"
      ]
     },
     "metadata": {},
     "output_type": "display_data"
    },
    {
     "name": "stdout",
     "output_type": "stream",
     "text": [
      "Train on 8000 samples, validate on 2000 samples\n",
      "Epoch 7/17\n",
      "8000/8000 - 2s - loss: 0.0161 - mean_squared_error: 0.0156 - mean_absolute_error: 0.0703 - val_loss: 0.0019 - val_mean_squared_error: 0.0012 - val_mean_absolute_error: 0.0240\n",
      "Epoch 8/17\n",
      "8000/8000 - 1s - loss: 0.0038 - mean_squared_error: 0.0031 - mean_absolute_error: 0.0329 - val_loss: 0.0033 - val_mean_squared_error: 0.0026 - val_mean_absolute_error: 0.0295\n",
      "Epoch 9/17\n",
      "8000/8000 - 1s - loss: 0.0041 - mean_squared_error: 0.0033 - mean_absolute_error: 0.0326 - val_loss: 0.0030 - val_mean_squared_error: 0.0023 - val_mean_absolute_error: 0.0274\n",
      "Epoch 10/17\n",
      "8000/8000 - 1s - loss: 0.0044 - mean_squared_error: 0.0037 - mean_absolute_error: 0.0337 - val_loss: 0.0039 - val_mean_squared_error: 0.0031 - val_mean_absolute_error: 0.0311\n",
      "Epoch 11/17\n",
      "8000/8000 - 1s - loss: 0.0045 - mean_squared_error: 0.0037 - mean_absolute_error: 0.0335 - val_loss: 0.0035 - val_mean_squared_error: 0.0028 - val_mean_absolute_error: 0.0293\n",
      "Epoch 12/17\n",
      "8000/8000 - 1s - loss: 0.0045 - mean_squared_error: 0.0038 - mean_absolute_error: 0.0337 - val_loss: 0.0034 - val_mean_squared_error: 0.0027 - val_mean_absolute_error: 0.0285\n"
     ]
    },
    {
     "data": {
      "text/html": [
       "<span style=\"color:#4527A0\"><h1 style=\"font-size:18px\">Trial complete</h1></span>"
      ],
      "text/plain": [
       "<IPython.core.display.HTML object>"
      ]
     },
     "metadata": {},
     "output_type": "display_data"
    },
    {
     "data": {
      "text/html": [
       "<span style=\"color:#4527A0\"><h1 style=\"font-size:18px\">Trial summary</h1></span>"
      ],
      "text/plain": [
       "<IPython.core.display.HTML object>"
      ]
     },
     "metadata": {},
     "output_type": "display_data"
    },
    {
     "data": {
      "text/html": [
       "<span style=\"color:cyan\"> |-Trial ID: 4ca716e79000b8278346ee7588531b88</span>"
      ],
      "text/plain": [
       "<IPython.core.display.HTML object>"
      ]
     },
     "metadata": {},
     "output_type": "display_data"
    },
    {
     "data": {
      "text/html": [
       "<span style=\"color:cyan\"> |-Score: 0.0012265113182365894</span>"
      ],
      "text/plain": [
       "<IPython.core.display.HTML object>"
      ]
     },
     "metadata": {},
     "output_type": "display_data"
    },
    {
     "data": {
      "text/html": [
       "<span style=\"color:cyan\"> |-Best step: 0</span>"
      ],
      "text/plain": [
       "<IPython.core.display.HTML object>"
      ]
     },
     "metadata": {},
     "output_type": "display_data"
    },
    {
     "data": {
      "text/html": [
       "<span style=\"color:#7E57C2\"><h2 style=\"font-size:16px\">Hyperparameters:</h2></span>"
      ],
      "text/plain": [
       "<IPython.core.display.HTML object>"
      ]
     },
     "metadata": {},
     "output_type": "display_data"
    },
    {
     "data": {
      "text/html": [
       "<span style=\"color:cyan\"> |-hidden_units: 188</span>"
      ],
      "text/plain": [
       "<IPython.core.display.HTML object>"
      ]
     },
     "metadata": {},
     "output_type": "display_data"
    },
    {
     "data": {
      "text/html": [
       "<span style=\"color:blue\"> |-learning_rate: 0.01</span>"
      ],
      "text/plain": [
       "<IPython.core.display.HTML object>"
      ]
     },
     "metadata": {},
     "output_type": "display_data"
    },
    {
     "data": {
      "text/html": [
       "<span style=\"color:cyan\"> |-tuner/bracket: 2</span>"
      ],
      "text/plain": [
       "<IPython.core.display.HTML object>"
      ]
     },
     "metadata": {},
     "output_type": "display_data"
    },
    {
     "data": {
      "text/html": [
       "<span style=\"color:blue\"> |-tuner/epochs: 17</span>"
      ],
      "text/plain": [
       "<IPython.core.display.HTML object>"
      ]
     },
     "metadata": {},
     "output_type": "display_data"
    },
    {
     "data": {
      "text/html": [
       "<span style=\"color:cyan\"> |-tuner/initial_epoch: 6</span>"
      ],
      "text/plain": [
       "<IPython.core.display.HTML object>"
      ]
     },
     "metadata": {},
     "output_type": "display_data"
    },
    {
     "data": {
      "text/html": [
       "<span style=\"color:blue\"> |-tuner/round: 1</span>"
      ],
      "text/plain": [
       "<IPython.core.display.HTML object>"
      ]
     },
     "metadata": {},
     "output_type": "display_data"
    },
    {
     "data": {
      "text/html": [
       "<span style=\"color:cyan\"> |-tuner/trial_id: 224b23881fd55c213fda6218c42075d3</span>"
      ],
      "text/plain": [
       "<IPython.core.display.HTML object>"
      ]
     },
     "metadata": {},
     "output_type": "display_data"
    },
    {
     "name": "stdout",
     "output_type": "stream",
     "text": [
      "Train on 8000 samples, validate on 2000 samples\n",
      "Epoch 7/17\n",
      "8000/8000 - 2s - loss: 0.0176 - mean_squared_error: 0.0171 - mean_absolute_error: 0.0753 - val_loss: 0.0022 - val_mean_squared_error: 0.0016 - val_mean_absolute_error: 0.0265\n",
      "Epoch 8/17\n",
      "8000/8000 - 1s - loss: 0.0040 - mean_squared_error: 0.0033 - mean_absolute_error: 0.0339 - val_loss: 0.0027 - val_mean_squared_error: 0.0020 - val_mean_absolute_error: 0.0269\n",
      "Epoch 9/17\n",
      "8000/8000 - 1s - loss: 0.0041 - mean_squared_error: 0.0034 - mean_absolute_error: 0.0332 - val_loss: 0.0032 - val_mean_squared_error: 0.0025 - val_mean_absolute_error: 0.0288\n",
      "Epoch 10/17\n",
      "8000/8000 - 1s - loss: 0.0044 - mean_squared_error: 0.0037 - mean_absolute_error: 0.0339 - val_loss: 0.0030 - val_mean_squared_error: 0.0022 - val_mean_absolute_error: 0.0271\n",
      "Epoch 11/17\n",
      "8000/8000 - 1s - loss: 0.0048 - mean_squared_error: 0.0041 - mean_absolute_error: 0.0351 - val_loss: 0.0036 - val_mean_squared_error: 0.0029 - val_mean_absolute_error: 0.0300\n",
      "Epoch 12/17\n",
      "8000/8000 - 1s - loss: 0.0047 - mean_squared_error: 0.0040 - mean_absolute_error: 0.0346 - val_loss: 0.0038 - val_mean_squared_error: 0.0031 - val_mean_absolute_error: 0.0304\n"
     ]
    },
    {
     "data": {
      "text/html": [
       "<span style=\"color:#4527A0\"><h1 style=\"font-size:18px\">Trial complete</h1></span>"
      ],
      "text/plain": [
       "<IPython.core.display.HTML object>"
      ]
     },
     "metadata": {},
     "output_type": "display_data"
    },
    {
     "data": {
      "text/html": [
       "<span style=\"color:#4527A0\"><h1 style=\"font-size:18px\">Trial summary</h1></span>"
      ],
      "text/plain": [
       "<IPython.core.display.HTML object>"
      ]
     },
     "metadata": {},
     "output_type": "display_data"
    },
    {
     "data": {
      "text/html": [
       "<span style=\"color:cyan\"> |-Trial ID: b557717957855d9408755c7f30f3e468</span>"
      ],
      "text/plain": [
       "<IPython.core.display.HTML object>"
      ]
     },
     "metadata": {},
     "output_type": "display_data"
    },
    {
     "data": {
      "text/html": [
       "<span style=\"color:cyan\"> |-Score: 0.0016072997823357582</span>"
      ],
      "text/plain": [
       "<IPython.core.display.HTML object>"
      ]
     },
     "metadata": {},
     "output_type": "display_data"
    },
    {
     "data": {
      "text/html": [
       "<span style=\"color:cyan\"> |-Best step: 0</span>"
      ],
      "text/plain": [
       "<IPython.core.display.HTML object>"
      ]
     },
     "metadata": {},
     "output_type": "display_data"
    },
    {
     "data": {
      "text/html": [
       "<span style=\"color:#7E57C2\"><h2 style=\"font-size:16px\">Hyperparameters:</h2></span>"
      ],
      "text/plain": [
       "<IPython.core.display.HTML object>"
      ]
     },
     "metadata": {},
     "output_type": "display_data"
    },
    {
     "data": {
      "text/html": [
       "<span style=\"color:cyan\"> |-hidden_units: 162</span>"
      ],
      "text/plain": [
       "<IPython.core.display.HTML object>"
      ]
     },
     "metadata": {},
     "output_type": "display_data"
    },
    {
     "data": {
      "text/html": [
       "<span style=\"color:blue\"> |-learning_rate: 0.01</span>"
      ],
      "text/plain": [
       "<IPython.core.display.HTML object>"
      ]
     },
     "metadata": {},
     "output_type": "display_data"
    },
    {
     "data": {
      "text/html": [
       "<span style=\"color:cyan\"> |-tuner/bracket: 2</span>"
      ],
      "text/plain": [
       "<IPython.core.display.HTML object>"
      ]
     },
     "metadata": {},
     "output_type": "display_data"
    },
    {
     "data": {
      "text/html": [
       "<span style=\"color:blue\"> |-tuner/epochs: 17</span>"
      ],
      "text/plain": [
       "<IPython.core.display.HTML object>"
      ]
     },
     "metadata": {},
     "output_type": "display_data"
    },
    {
     "data": {
      "text/html": [
       "<span style=\"color:cyan\"> |-tuner/initial_epoch: 6</span>"
      ],
      "text/plain": [
       "<IPython.core.display.HTML object>"
      ]
     },
     "metadata": {},
     "output_type": "display_data"
    },
    {
     "data": {
      "text/html": [
       "<span style=\"color:blue\"> |-tuner/round: 1</span>"
      ],
      "text/plain": [
       "<IPython.core.display.HTML object>"
      ]
     },
     "metadata": {},
     "output_type": "display_data"
    },
    {
     "data": {
      "text/html": [
       "<span style=\"color:cyan\"> |-tuner/trial_id: 7c4b12ed21f78b499549611ca7f12a60</span>"
      ],
      "text/plain": [
       "<IPython.core.display.HTML object>"
      ]
     },
     "metadata": {},
     "output_type": "display_data"
    },
    {
     "name": "stdout",
     "output_type": "stream",
     "text": [
      "Train on 8000 samples, validate on 2000 samples\n",
      "Epoch 7/17\n",
      "8000/8000 - 2s - loss: 0.0184 - mean_squared_error: 0.0180 - mean_absolute_error: 0.0784 - val_loss: 0.0022 - val_mean_squared_error: 0.0016 - val_mean_absolute_error: 0.0271\n",
      "Epoch 8/17\n",
      "8000/8000 - 1s - loss: 0.0040 - mean_squared_error: 0.0033 - mean_absolute_error: 0.0344 - val_loss: 0.0026 - val_mean_squared_error: 0.0019 - val_mean_absolute_error: 0.0268\n",
      "Epoch 9/17\n",
      "8000/8000 - 1s - loss: 0.0042 - mean_squared_error: 0.0035 - mean_absolute_error: 0.0337 - val_loss: 0.0031 - val_mean_squared_error: 0.0024 - val_mean_absolute_error: 0.0281\n",
      "Epoch 10/17\n",
      "8000/8000 - 1s - loss: 0.0046 - mean_squared_error: 0.0038 - mean_absolute_error: 0.0346 - val_loss: 0.0031 - val_mean_squared_error: 0.0024 - val_mean_absolute_error: 0.0278\n",
      "Epoch 11/17\n",
      "8000/8000 - 1s - loss: 0.0048 - mean_squared_error: 0.0040 - mean_absolute_error: 0.0350 - val_loss: 0.0029 - val_mean_squared_error: 0.0022 - val_mean_absolute_error: 0.0265\n",
      "Epoch 12/17\n",
      "8000/8000 - 1s - loss: 0.0046 - mean_squared_error: 0.0039 - mean_absolute_error: 0.0343 - val_loss: 0.0031 - val_mean_squared_error: 0.0023 - val_mean_absolute_error: 0.0272\n"
     ]
    },
    {
     "data": {
      "text/html": [
       "<span style=\"color:#4527A0\"><h1 style=\"font-size:18px\">Trial complete</h1></span>"
      ],
      "text/plain": [
       "<IPython.core.display.HTML object>"
      ]
     },
     "metadata": {},
     "output_type": "display_data"
    },
    {
     "data": {
      "text/html": [
       "<span style=\"color:#4527A0\"><h1 style=\"font-size:18px\">Trial summary</h1></span>"
      ],
      "text/plain": [
       "<IPython.core.display.HTML object>"
      ]
     },
     "metadata": {},
     "output_type": "display_data"
    },
    {
     "data": {
      "text/html": [
       "<span style=\"color:cyan\"> |-Trial ID: 4870a83879caa17daa63827696260521</span>"
      ],
      "text/plain": [
       "<IPython.core.display.HTML object>"
      ]
     },
     "metadata": {},
     "output_type": "display_data"
    },
    {
     "data": {
      "text/html": [
       "<span style=\"color:cyan\"> |-Score: 0.0016242637066170573</span>"
      ],
      "text/plain": [
       "<IPython.core.display.HTML object>"
      ]
     },
     "metadata": {},
     "output_type": "display_data"
    },
    {
     "data": {
      "text/html": [
       "<span style=\"color:cyan\"> |-Best step: 0</span>"
      ],
      "text/plain": [
       "<IPython.core.display.HTML object>"
      ]
     },
     "metadata": {},
     "output_type": "display_data"
    },
    {
     "data": {
      "text/html": [
       "<span style=\"color:#7E57C2\"><h2 style=\"font-size:16px\">Hyperparameters:</h2></span>"
      ],
      "text/plain": [
       "<IPython.core.display.HTML object>"
      ]
     },
     "metadata": {},
     "output_type": "display_data"
    },
    {
     "data": {
      "text/html": [
       "<span style=\"color:cyan\"> |-hidden_units: 148</span>"
      ],
      "text/plain": [
       "<IPython.core.display.HTML object>"
      ]
     },
     "metadata": {},
     "output_type": "display_data"
    },
    {
     "data": {
      "text/html": [
       "<span style=\"color:blue\"> |-learning_rate: 0.01</span>"
      ],
      "text/plain": [
       "<IPython.core.display.HTML object>"
      ]
     },
     "metadata": {},
     "output_type": "display_data"
    },
    {
     "data": {
      "text/html": [
       "<span style=\"color:cyan\"> |-tuner/bracket: 2</span>"
      ],
      "text/plain": [
       "<IPython.core.display.HTML object>"
      ]
     },
     "metadata": {},
     "output_type": "display_data"
    },
    {
     "data": {
      "text/html": [
       "<span style=\"color:blue\"> |-tuner/epochs: 17</span>"
      ],
      "text/plain": [
       "<IPython.core.display.HTML object>"
      ]
     },
     "metadata": {},
     "output_type": "display_data"
    },
    {
     "data": {
      "text/html": [
       "<span style=\"color:cyan\"> |-tuner/initial_epoch: 6</span>"
      ],
      "text/plain": [
       "<IPython.core.display.HTML object>"
      ]
     },
     "metadata": {},
     "output_type": "display_data"
    },
    {
     "data": {
      "text/html": [
       "<span style=\"color:blue\"> |-tuner/round: 1</span>"
      ],
      "text/plain": [
       "<IPython.core.display.HTML object>"
      ]
     },
     "metadata": {},
     "output_type": "display_data"
    },
    {
     "data": {
      "text/html": [
       "<span style=\"color:cyan\"> |-tuner/trial_id: 9d9e5ed7b89969bbd341097294718eff</span>"
      ],
      "text/plain": [
       "<IPython.core.display.HTML object>"
      ]
     },
     "metadata": {},
     "output_type": "display_data"
    },
    {
     "name": "stdout",
     "output_type": "stream",
     "text": [
      "Train on 8000 samples, validate on 2000 samples\n",
      "Epoch 7/17\n",
      "8000/8000 - 2s - loss: 0.1305 - mean_squared_error: 0.1304 - mean_absolute_error: 0.3250 - val_loss: 0.0596 - val_mean_squared_error: 0.0594 - val_mean_absolute_error: 0.2144\n",
      "Epoch 8/17\n",
      "8000/8000 - 1s - loss: 0.0355 - mean_squared_error: 0.0353 - mean_absolute_error: 0.1577 - val_loss: 0.0153 - val_mean_squared_error: 0.0150 - val_mean_absolute_error: 0.1067\n",
      "Epoch 9/17\n",
      "8000/8000 - 1s - loss: 0.0125 - mean_squared_error: 0.0121 - mean_absolute_error: 0.0903 - val_loss: 0.0058 - val_mean_squared_error: 0.0054 - val_mean_absolute_error: 0.0648\n",
      "Epoch 10/17\n",
      "8000/8000 - 1s - loss: 0.0072 - mean_squared_error: 0.0068 - mean_absolute_error: 0.0652 - val_loss: 0.0038 - val_mean_squared_error: 0.0034 - val_mean_absolute_error: 0.0489\n",
      "Epoch 11/17\n",
      "8000/8000 - 1s - loss: 0.0056 - mean_squared_error: 0.0051 - mean_absolute_error: 0.0537 - val_loss: 0.0026 - val_mean_squared_error: 0.0021 - val_mean_absolute_error: 0.0388\n",
      "Epoch 12/17\n",
      "8000/8000 - 1s - loss: 0.0050 - mean_squared_error: 0.0044 - mean_absolute_error: 0.0475 - val_loss: 0.0022 - val_mean_squared_error: 0.0017 - val_mean_absolute_error: 0.0334\n",
      "Epoch 13/17\n",
      "8000/8000 - 1s - loss: 0.0046 - mean_squared_error: 0.0040 - mean_absolute_error: 0.0434 - val_loss: 0.0021 - val_mean_squared_error: 0.0015 - val_mean_absolute_error: 0.0304\n",
      "Epoch 14/17\n",
      "8000/8000 - 1s - loss: 0.0043 - mean_squared_error: 0.0037 - mean_absolute_error: 0.0404 - val_loss: 0.0020 - val_mean_squared_error: 0.0014 - val_mean_absolute_error: 0.0284\n",
      "Epoch 15/17\n",
      "8000/8000 - 1s - loss: 0.0043 - mean_squared_error: 0.0037 - mean_absolute_error: 0.0390 - val_loss: 0.0020 - val_mean_squared_error: 0.0014 - val_mean_absolute_error: 0.0272\n",
      "Epoch 16/17\n",
      "8000/8000 - 1s - loss: 0.0042 - mean_squared_error: 0.0036 - mean_absolute_error: 0.0377 - val_loss: 0.0020 - val_mean_squared_error: 0.0014 - val_mean_absolute_error: 0.0266\n",
      "Epoch 17/17\n",
      "8000/8000 - 1s - loss: 0.0041 - mean_squared_error: 0.0035 - mean_absolute_error: 0.0367 - val_loss: 0.0019 - val_mean_squared_error: 0.0013 - val_mean_absolute_error: 0.0257\n"
     ]
    },
    {
     "data": {
      "text/html": [
       "<span style=\"color:#4527A0\"><h1 style=\"font-size:18px\">Trial complete</h1></span>"
      ],
      "text/plain": [
       "<IPython.core.display.HTML object>"
      ]
     },
     "metadata": {},
     "output_type": "display_data"
    },
    {
     "data": {
      "text/html": [
       "<span style=\"color:#4527A0\"><h1 style=\"font-size:18px\">Trial summary</h1></span>"
      ],
      "text/plain": [
       "<IPython.core.display.HTML object>"
      ]
     },
     "metadata": {},
     "output_type": "display_data"
    },
    {
     "data": {
      "text/html": [
       "<span style=\"color:cyan\"> |-Trial ID: bd0ac29297ef8b0f0b2d3e1fb4de0ae3</span>"
      ],
      "text/plain": [
       "<IPython.core.display.HTML object>"
      ]
     },
     "metadata": {},
     "output_type": "display_data"
    },
    {
     "data": {
      "text/html": [
       "<span style=\"color:cyan\"> |-Score: 0.0013131563318893313</span>"
      ],
      "text/plain": [
       "<IPython.core.display.HTML object>"
      ]
     },
     "metadata": {},
     "output_type": "display_data"
    },
    {
     "data": {
      "text/html": [
       "<span style=\"color:cyan\"> |-Best step: 0</span>"
      ],
      "text/plain": [
       "<IPython.core.display.HTML object>"
      ]
     },
     "metadata": {},
     "output_type": "display_data"
    },
    {
     "data": {
      "text/html": [
       "<span style=\"color:#7E57C2\"><h2 style=\"font-size:16px\">Hyperparameters:</h2></span>"
      ],
      "text/plain": [
       "<IPython.core.display.HTML object>"
      ]
     },
     "metadata": {},
     "output_type": "display_data"
    },
    {
     "data": {
      "text/html": [
       "<span style=\"color:cyan\"> |-hidden_units: 96</span>"
      ],
      "text/plain": [
       "<IPython.core.display.HTML object>"
      ]
     },
     "metadata": {},
     "output_type": "display_data"
    },
    {
     "data": {
      "text/html": [
       "<span style=\"color:blue\"> |-learning_rate: 0.001</span>"
      ],
      "text/plain": [
       "<IPython.core.display.HTML object>"
      ]
     },
     "metadata": {},
     "output_type": "display_data"
    },
    {
     "data": {
      "text/html": [
       "<span style=\"color:cyan\"> |-tuner/bracket: 2</span>"
      ],
      "text/plain": [
       "<IPython.core.display.HTML object>"
      ]
     },
     "metadata": {},
     "output_type": "display_data"
    },
    {
     "data": {
      "text/html": [
       "<span style=\"color:blue\"> |-tuner/epochs: 17</span>"
      ],
      "text/plain": [
       "<IPython.core.display.HTML object>"
      ]
     },
     "metadata": {},
     "output_type": "display_data"
    },
    {
     "data": {
      "text/html": [
       "<span style=\"color:cyan\"> |-tuner/initial_epoch: 6</span>"
      ],
      "text/plain": [
       "<IPython.core.display.HTML object>"
      ]
     },
     "metadata": {},
     "output_type": "display_data"
    },
    {
     "data": {
      "text/html": [
       "<span style=\"color:blue\"> |-tuner/round: 1</span>"
      ],
      "text/plain": [
       "<IPython.core.display.HTML object>"
      ]
     },
     "metadata": {},
     "output_type": "display_data"
    },
    {
     "data": {
      "text/html": [
       "<span style=\"color:cyan\"> |-tuner/trial_id: 22773a49f5b277c989f89c1c226f1762</span>"
      ],
      "text/plain": [
       "<IPython.core.display.HTML object>"
      ]
     },
     "metadata": {},
     "output_type": "display_data"
    },
    {
     "name": "stdout",
     "output_type": "stream",
     "text": [
      "Train on 8000 samples, validate on 2000 samples\n",
      "Epoch 7/17\n",
      "8000/8000 - 2s - loss: 0.0258 - mean_squared_error: 0.0253 - mean_absolute_error: 0.0997 - val_loss: 0.0024 - val_mean_squared_error: 0.0018 - val_mean_absolute_error: 0.0302\n",
      "Epoch 8/17\n",
      "8000/8000 - 1s - loss: 0.0053 - mean_squared_error: 0.0047 - mean_absolute_error: 0.0406 - val_loss: 0.0035 - val_mean_squared_error: 0.0028 - val_mean_absolute_error: 0.0315\n",
      "Epoch 9/17\n",
      "8000/8000 - 1s - loss: 0.0054 - mean_squared_error: 0.0048 - mean_absolute_error: 0.0388 - val_loss: 0.0043 - val_mean_squared_error: 0.0036 - val_mean_absolute_error: 0.0343\n",
      "Epoch 10/17\n",
      "8000/8000 - 1s - loss: 0.0056 - mean_squared_error: 0.0049 - mean_absolute_error: 0.0389 - val_loss: 0.0034 - val_mean_squared_error: 0.0027 - val_mean_absolute_error: 0.0295\n",
      "Epoch 11/17\n",
      "8000/8000 - 1s - loss: 0.0059 - mean_squared_error: 0.0051 - mean_absolute_error: 0.0391 - val_loss: 0.0037 - val_mean_squared_error: 0.0030 - val_mean_absolute_error: 0.0304\n",
      "Epoch 12/17\n",
      "8000/8000 - 1s - loss: 0.0059 - mean_squared_error: 0.0051 - mean_absolute_error: 0.0391 - val_loss: 0.0034 - val_mean_squared_error: 0.0027 - val_mean_absolute_error: 0.0287\n"
     ]
    },
    {
     "data": {
      "text/html": [
       "<span style=\"color:#4527A0\"><h1 style=\"font-size:18px\">Trial complete</h1></span>"
      ],
      "text/plain": [
       "<IPython.core.display.HTML object>"
      ]
     },
     "metadata": {},
     "output_type": "display_data"
    },
    {
     "data": {
      "text/html": [
       "<span style=\"color:#4527A0\"><h1 style=\"font-size:18px\">Trial summary</h1></span>"
      ],
      "text/plain": [
       "<IPython.core.display.HTML object>"
      ]
     },
     "metadata": {},
     "output_type": "display_data"
    },
    {
     "data": {
      "text/html": [
       "<span style=\"color:cyan\"> |-Trial ID: a92947e617d5fece50dce9386975998e</span>"
      ],
      "text/plain": [
       "<IPython.core.display.HTML object>"
      ]
     },
     "metadata": {},
     "output_type": "display_data"
    },
    {
     "data": {
      "text/html": [
       "<span style=\"color:cyan\"> |-Score: 0.0017880263039842248</span>"
      ],
      "text/plain": [
       "<IPython.core.display.HTML object>"
      ]
     },
     "metadata": {},
     "output_type": "display_data"
    },
    {
     "data": {
      "text/html": [
       "<span style=\"color:cyan\"> |-Best step: 0</span>"
      ],
      "text/plain": [
       "<IPython.core.display.HTML object>"
      ]
     },
     "metadata": {},
     "output_type": "display_data"
    },
    {
     "data": {
      "text/html": [
       "<span style=\"color:#7E57C2\"><h2 style=\"font-size:16px\">Hyperparameters:</h2></span>"
      ],
      "text/plain": [
       "<IPython.core.display.HTML object>"
      ]
     },
     "metadata": {},
     "output_type": "display_data"
    },
    {
     "data": {
      "text/html": [
       "<span style=\"color:cyan\"> |-hidden_units: 86</span>"
      ],
      "text/plain": [
       "<IPython.core.display.HTML object>"
      ]
     },
     "metadata": {},
     "output_type": "display_data"
    },
    {
     "data": {
      "text/html": [
       "<span style=\"color:blue\"> |-learning_rate: 0.01</span>"
      ],
      "text/plain": [
       "<IPython.core.display.HTML object>"
      ]
     },
     "metadata": {},
     "output_type": "display_data"
    },
    {
     "data": {
      "text/html": [
       "<span style=\"color:cyan\"> |-tuner/bracket: 2</span>"
      ],
      "text/plain": [
       "<IPython.core.display.HTML object>"
      ]
     },
     "metadata": {},
     "output_type": "display_data"
    },
    {
     "data": {
      "text/html": [
       "<span style=\"color:blue\"> |-tuner/epochs: 17</span>"
      ],
      "text/plain": [
       "<IPython.core.display.HTML object>"
      ]
     },
     "metadata": {},
     "output_type": "display_data"
    },
    {
     "data": {
      "text/html": [
       "<span style=\"color:cyan\"> |-tuner/initial_epoch: 6</span>"
      ],
      "text/plain": [
       "<IPython.core.display.HTML object>"
      ]
     },
     "metadata": {},
     "output_type": "display_data"
    },
    {
     "data": {
      "text/html": [
       "<span style=\"color:blue\"> |-tuner/round: 1</span>"
      ],
      "text/plain": [
       "<IPython.core.display.HTML object>"
      ]
     },
     "metadata": {},
     "output_type": "display_data"
    },
    {
     "data": {
      "text/html": [
       "<span style=\"color:cyan\"> |-tuner/trial_id: 8cdf8a6899844111cd01f214a2e87fc6</span>"
      ],
      "text/plain": [
       "<IPython.core.display.HTML object>"
      ]
     },
     "metadata": {},
     "output_type": "display_data"
    },
    {
     "name": "stdout",
     "output_type": "stream",
     "text": [
      "Train on 8000 samples, validate on 2000 samples\n",
      "Epoch 18/50\n",
      "8000/8000 - 2s - loss: 0.0163 - mean_squared_error: 0.0158 - mean_absolute_error: 0.0710 - val_loss: 0.0020 - val_mean_squared_error: 0.0014 - val_mean_absolute_error: 0.0250\n",
      "Epoch 19/50\n",
      "8000/8000 - 1s - loss: 0.0036 - mean_squared_error: 0.0029 - mean_absolute_error: 0.0320 - val_loss: 0.0028 - val_mean_squared_error: 0.0021 - val_mean_absolute_error: 0.0277\n",
      "Epoch 20/50\n",
      "8000/8000 - 1s - loss: 0.0040 - mean_squared_error: 0.0033 - mean_absolute_error: 0.0326 - val_loss: 0.0030 - val_mean_squared_error: 0.0023 - val_mean_absolute_error: 0.0275\n",
      "Epoch 21/50\n",
      "8000/8000 - 1s - loss: 0.0043 - mean_squared_error: 0.0036 - mean_absolute_error: 0.0334 - val_loss: 0.0033 - val_mean_squared_error: 0.0026 - val_mean_absolute_error: 0.0283\n",
      "Epoch 22/50\n",
      "8000/8000 - 1s - loss: 0.0046 - mean_squared_error: 0.0039 - mean_absolute_error: 0.0341 - val_loss: 0.0032 - val_mean_squared_error: 0.0025 - val_mean_absolute_error: 0.0275\n",
      "Epoch 23/50\n",
      "8000/8000 - 1s - loss: 0.0046 - mean_squared_error: 0.0038 - mean_absolute_error: 0.0336 - val_loss: 0.0035 - val_mean_squared_error: 0.0027 - val_mean_absolute_error: 0.0290\n"
     ]
    },
    {
     "data": {
      "text/html": [
       "<span style=\"color:#4527A0\"><h1 style=\"font-size:18px\">Trial complete</h1></span>"
      ],
      "text/plain": [
       "<IPython.core.display.HTML object>"
      ]
     },
     "metadata": {},
     "output_type": "display_data"
    },
    {
     "data": {
      "text/html": [
       "<span style=\"color:#4527A0\"><h1 style=\"font-size:18px\">Trial summary</h1></span>"
      ],
      "text/plain": [
       "<IPython.core.display.HTML object>"
      ]
     },
     "metadata": {},
     "output_type": "display_data"
    },
    {
     "data": {
      "text/html": [
       "<span style=\"color:cyan\"> |-Trial ID: feeb68089969dffc3ccb166a25694538</span>"
      ],
      "text/plain": [
       "<IPython.core.display.HTML object>"
      ]
     },
     "metadata": {},
     "output_type": "display_data"
    },
    {
     "data": {
      "text/html": [
       "<span style=\"color:cyan\"> |-Score: 0.001375952735543251</span>"
      ],
      "text/plain": [
       "<IPython.core.display.HTML object>"
      ]
     },
     "metadata": {},
     "output_type": "display_data"
    },
    {
     "data": {
      "text/html": [
       "<span style=\"color:cyan\"> |-Best step: 0</span>"
      ],
      "text/plain": [
       "<IPython.core.display.HTML object>"
      ]
     },
     "metadata": {},
     "output_type": "display_data"
    },
    {
     "data": {
      "text/html": [
       "<span style=\"color:#7E57C2\"><h2 style=\"font-size:16px\">Hyperparameters:</h2></span>"
      ],
      "text/plain": [
       "<IPython.core.display.HTML object>"
      ]
     },
     "metadata": {},
     "output_type": "display_data"
    },
    {
     "data": {
      "text/html": [
       "<span style=\"color:cyan\"> |-hidden_units: 188</span>"
      ],
      "text/plain": [
       "<IPython.core.display.HTML object>"
      ]
     },
     "metadata": {},
     "output_type": "display_data"
    },
    {
     "data": {
      "text/html": [
       "<span style=\"color:blue\"> |-learning_rate: 0.01</span>"
      ],
      "text/plain": [
       "<IPython.core.display.HTML object>"
      ]
     },
     "metadata": {},
     "output_type": "display_data"
    },
    {
     "data": {
      "text/html": [
       "<span style=\"color:cyan\"> |-tuner/bracket: 2</span>"
      ],
      "text/plain": [
       "<IPython.core.display.HTML object>"
      ]
     },
     "metadata": {},
     "output_type": "display_data"
    },
    {
     "data": {
      "text/html": [
       "<span style=\"color:blue\"> |-tuner/epochs: 50</span>"
      ],
      "text/plain": [
       "<IPython.core.display.HTML object>"
      ]
     },
     "metadata": {},
     "output_type": "display_data"
    },
    {
     "data": {
      "text/html": [
       "<span style=\"color:cyan\"> |-tuner/initial_epoch: 17</span>"
      ],
      "text/plain": [
       "<IPython.core.display.HTML object>"
      ]
     },
     "metadata": {},
     "output_type": "display_data"
    },
    {
     "data": {
      "text/html": [
       "<span style=\"color:blue\"> |-tuner/round: 2</span>"
      ],
      "text/plain": [
       "<IPython.core.display.HTML object>"
      ]
     },
     "metadata": {},
     "output_type": "display_data"
    },
    {
     "data": {
      "text/html": [
       "<span style=\"color:cyan\"> |-tuner/trial_id: 4ca716e79000b8278346ee7588531b88</span>"
      ],
      "text/plain": [
       "<IPython.core.display.HTML object>"
      ]
     },
     "metadata": {},
     "output_type": "display_data"
    },
    {
     "name": "stdout",
     "output_type": "stream",
     "text": [
      "Train on 8000 samples, validate on 2000 samples\n",
      "Epoch 18/50\n",
      "8000/8000 - 1s - loss: 0.1302 - mean_squared_error: 0.1300 - mean_absolute_error: 0.3251 - val_loss: 0.0597 - val_mean_squared_error: 0.0595 - val_mean_absolute_error: 0.2150\n",
      "Epoch 19/50\n",
      "8000/8000 - 1s - loss: 0.0357 - mean_squared_error: 0.0354 - mean_absolute_error: 0.1586 - val_loss: 0.0157 - val_mean_squared_error: 0.0154 - val_mean_absolute_error: 0.1077\n",
      "Epoch 20/50\n",
      "8000/8000 - 1s - loss: 0.0127 - mean_squared_error: 0.0123 - mean_absolute_error: 0.0914 - val_loss: 0.0059 - val_mean_squared_error: 0.0055 - val_mean_absolute_error: 0.0658\n",
      "Epoch 21/50\n",
      "8000/8000 - 1s - loss: 0.0073 - mean_squared_error: 0.0069 - mean_absolute_error: 0.0659 - val_loss: 0.0039 - val_mean_squared_error: 0.0034 - val_mean_absolute_error: 0.0495\n",
      "Epoch 22/50\n",
      "8000/8000 - 1s - loss: 0.0057 - mean_squared_error: 0.0052 - mean_absolute_error: 0.0543 - val_loss: 0.0026 - val_mean_squared_error: 0.0021 - val_mean_absolute_error: 0.0391\n",
      "Epoch 23/50\n",
      "8000/8000 - 1s - loss: 0.0050 - mean_squared_error: 0.0045 - mean_absolute_error: 0.0479 - val_loss: 0.0022 - val_mean_squared_error: 0.0017 - val_mean_absolute_error: 0.0337\n",
      "Epoch 24/50\n",
      "8000/8000 - 1s - loss: 0.0046 - mean_squared_error: 0.0041 - mean_absolute_error: 0.0438 - val_loss: 0.0021 - val_mean_squared_error: 0.0015 - val_mean_absolute_error: 0.0307\n",
      "Epoch 25/50\n",
      "8000/8000 - 1s - loss: 0.0044 - mean_squared_error: 0.0038 - mean_absolute_error: 0.0409 - val_loss: 0.0021 - val_mean_squared_error: 0.0015 - val_mean_absolute_error: 0.0293\n",
      "Epoch 26/50\n",
      "8000/8000 - 1s - loss: 0.0043 - mean_squared_error: 0.0037 - mean_absolute_error: 0.0393 - val_loss: 0.0018 - val_mean_squared_error: 0.0012 - val_mean_absolute_error: 0.0264\n",
      "Epoch 27/50\n",
      "8000/8000 - 1s - loss: 0.0042 - mean_squared_error: 0.0036 - mean_absolute_error: 0.0379 - val_loss: 0.0017 - val_mean_squared_error: 0.0011 - val_mean_absolute_error: 0.0248\n",
      "Epoch 28/50\n",
      "8000/8000 - 1s - loss: 0.0042 - mean_squared_error: 0.0035 - mean_absolute_error: 0.0367 - val_loss: 0.0018 - val_mean_squared_error: 0.0012 - val_mean_absolute_error: 0.0249\n",
      "Epoch 29/50\n",
      "8000/8000 - 1s - loss: 0.0041 - mean_squared_error: 0.0035 - mean_absolute_error: 0.0361 - val_loss: 0.0022 - val_mean_squared_error: 0.0015 - val_mean_absolute_error: 0.0265\n",
      "Epoch 30/50\n",
      "8000/8000 - 1s - loss: 0.0041 - mean_squared_error: 0.0034 - mean_absolute_error: 0.0354 - val_loss: 0.0021 - val_mean_squared_error: 0.0014 - val_mean_absolute_error: 0.0256\n",
      "Epoch 31/50\n",
      "8000/8000 - 1s - loss: 0.0041 - mean_squared_error: 0.0034 - mean_absolute_error: 0.0350 - val_loss: 0.0024 - val_mean_squared_error: 0.0018 - val_mean_absolute_error: 0.0275\n",
      "Epoch 32/50\n",
      "8000/8000 - 1s - loss: 0.0041 - mean_squared_error: 0.0034 - mean_absolute_error: 0.0347 - val_loss: 0.0018 - val_mean_squared_error: 0.0011 - val_mean_absolute_error: 0.0233\n"
     ]
    },
    {
     "data": {
      "text/html": [
       "<span style=\"color:#4527A0\"><h1 style=\"font-size:18px\">Trial complete</h1></span>"
      ],
      "text/plain": [
       "<IPython.core.display.HTML object>"
      ]
     },
     "metadata": {},
     "output_type": "display_data"
    },
    {
     "data": {
      "text/html": [
       "<span style=\"color:#4527A0\"><h1 style=\"font-size:18px\">Trial summary</h1></span>"
      ],
      "text/plain": [
       "<IPython.core.display.HTML object>"
      ]
     },
     "metadata": {},
     "output_type": "display_data"
    },
    {
     "data": {
      "text/html": [
       "<span style=\"color:cyan\"> |-Trial ID: b3aa63d5dfe6bd0fdfce1180b1b31bb0</span>"
      ],
      "text/plain": [
       "<IPython.core.display.HTML object>"
      ]
     },
     "metadata": {},
     "output_type": "display_data"
    },
    {
     "data": {
      "text/html": [
       "<span style=\"color:cyan\"> |-Score: 0.001085751922801137</span>"
      ],
      "text/plain": [
       "<IPython.core.display.HTML object>"
      ]
     },
     "metadata": {},
     "output_type": "display_data"
    },
    {
     "data": {
      "text/html": [
       "<span style=\"color:cyan\"> |-Best step: 0</span>"
      ],
      "text/plain": [
       "<IPython.core.display.HTML object>"
      ]
     },
     "metadata": {},
     "output_type": "display_data"
    },
    {
     "data": {
      "text/html": [
       "<span style=\"color:#7E57C2\"><h2 style=\"font-size:16px\">Hyperparameters:</h2></span>"
      ],
      "text/plain": [
       "<IPython.core.display.HTML object>"
      ]
     },
     "metadata": {},
     "output_type": "display_data"
    },
    {
     "data": {
      "text/html": [
       "<span style=\"color:cyan\"> |-hidden_units: 96</span>"
      ],
      "text/plain": [
       "<IPython.core.display.HTML object>"
      ]
     },
     "metadata": {},
     "output_type": "display_data"
    },
    {
     "data": {
      "text/html": [
       "<span style=\"color:blue\"> |-learning_rate: 0.001</span>"
      ],
      "text/plain": [
       "<IPython.core.display.HTML object>"
      ]
     },
     "metadata": {},
     "output_type": "display_data"
    },
    {
     "data": {
      "text/html": [
       "<span style=\"color:cyan\"> |-tuner/bracket: 2</span>"
      ],
      "text/plain": [
       "<IPython.core.display.HTML object>"
      ]
     },
     "metadata": {},
     "output_type": "display_data"
    },
    {
     "data": {
      "text/html": [
       "<span style=\"color:blue\"> |-tuner/epochs: 50</span>"
      ],
      "text/plain": [
       "<IPython.core.display.HTML object>"
      ]
     },
     "metadata": {},
     "output_type": "display_data"
    },
    {
     "data": {
      "text/html": [
       "<span style=\"color:cyan\"> |-tuner/initial_epoch: 17</span>"
      ],
      "text/plain": [
       "<IPython.core.display.HTML object>"
      ]
     },
     "metadata": {},
     "output_type": "display_data"
    },
    {
     "data": {
      "text/html": [
       "<span style=\"color:blue\"> |-tuner/round: 2</span>"
      ],
      "text/plain": [
       "<IPython.core.display.HTML object>"
      ]
     },
     "metadata": {},
     "output_type": "display_data"
    },
    {
     "data": {
      "text/html": [
       "<span style=\"color:cyan\"> |-tuner/trial_id: bd0ac29297ef8b0f0b2d3e1fb4de0ae3</span>"
      ],
      "text/plain": [
       "<IPython.core.display.HTML object>"
      ]
     },
     "metadata": {},
     "output_type": "display_data"
    },
    {
     "name": "stdout",
     "output_type": "stream",
     "text": [
      "Train on 8000 samples, validate on 2000 samples\n",
      "Epoch 1/17\n",
      "8000/8000 - 2s - loss: 0.0209 - mean_squared_error: 0.0205 - mean_absolute_error: 0.0860 - val_loss: 0.0027 - val_mean_squared_error: 0.0020 - val_mean_absolute_error: 0.0300\n",
      "Epoch 2/17\n",
      "8000/8000 - 1s - loss: 0.0046 - mean_squared_error: 0.0039 - mean_absolute_error: 0.0371 - val_loss: 0.0022 - val_mean_squared_error: 0.0015 - val_mean_absolute_error: 0.0243\n",
      "Epoch 3/17\n",
      "8000/8000 - 1s - loss: 0.0048 - mean_squared_error: 0.0041 - mean_absolute_error: 0.0363 - val_loss: 0.0035 - val_mean_squared_error: 0.0028 - val_mean_absolute_error: 0.0304\n",
      "Epoch 4/17\n",
      "8000/8000 - 1s - loss: 0.0050 - mean_squared_error: 0.0043 - mean_absolute_error: 0.0366 - val_loss: 0.0038 - val_mean_squared_error: 0.0031 - val_mean_absolute_error: 0.0312\n",
      "Epoch 5/17\n",
      "8000/8000 - 1s - loss: 0.0052 - mean_squared_error: 0.0045 - mean_absolute_error: 0.0369 - val_loss: 0.0031 - val_mean_squared_error: 0.0024 - val_mean_absolute_error: 0.0277\n",
      "Epoch 6/17\n",
      "8000/8000 - 1s - loss: 0.0052 - mean_squared_error: 0.0045 - mean_absolute_error: 0.0367 - val_loss: 0.0042 - val_mean_squared_error: 0.0034 - val_mean_absolute_error: 0.0329\n",
      "Epoch 7/17\n",
      "8000/8000 - 1s - loss: 0.0053 - mean_squared_error: 0.0045 - mean_absolute_error: 0.0369 - val_loss: 0.0037 - val_mean_squared_error: 0.0030 - val_mean_absolute_error: 0.0301\n"
     ]
    },
    {
     "data": {
      "text/html": [
       "<span style=\"color:#4527A0\"><h1 style=\"font-size:18px\">Trial complete</h1></span>"
      ],
      "text/plain": [
       "<IPython.core.display.HTML object>"
      ]
     },
     "metadata": {},
     "output_type": "display_data"
    },
    {
     "data": {
      "text/html": [
       "<span style=\"color:#4527A0\"><h1 style=\"font-size:18px\">Trial summary</h1></span>"
      ],
      "text/plain": [
       "<IPython.core.display.HTML object>"
      ]
     },
     "metadata": {},
     "output_type": "display_data"
    },
    {
     "data": {
      "text/html": [
       "<span style=\"color:cyan\"> |-Trial ID: b75410e705ea5c999cf16eeba546ade0</span>"
      ],
      "text/plain": [
       "<IPython.core.display.HTML object>"
      ]
     },
     "metadata": {},
     "output_type": "display_data"
    },
    {
     "data": {
      "text/html": [
       "<span style=\"color:cyan\"> |-Score: 0.001481851446442306</span>"
      ],
      "text/plain": [
       "<IPython.core.display.HTML object>"
      ]
     },
     "metadata": {},
     "output_type": "display_data"
    },
    {
     "data": {
      "text/html": [
       "<span style=\"color:cyan\"> |-Best step: 0</span>"
      ],
      "text/plain": [
       "<IPython.core.display.HTML object>"
      ]
     },
     "metadata": {},
     "output_type": "display_data"
    },
    {
     "data": {
      "text/html": [
       "<span style=\"color:#7E57C2\"><h2 style=\"font-size:16px\">Hyperparameters:</h2></span>"
      ],
      "text/plain": [
       "<IPython.core.display.HTML object>"
      ]
     },
     "metadata": {},
     "output_type": "display_data"
    },
    {
     "data": {
      "text/html": [
       "<span style=\"color:cyan\"> |-hidden_units: 112</span>"
      ],
      "text/plain": [
       "<IPython.core.display.HTML object>"
      ]
     },
     "metadata": {},
     "output_type": "display_data"
    },
    {
     "data": {
      "text/html": [
       "<span style=\"color:blue\"> |-learning_rate: 0.01</span>"
      ],
      "text/plain": [
       "<IPython.core.display.HTML object>"
      ]
     },
     "metadata": {},
     "output_type": "display_data"
    },
    {
     "data": {
      "text/html": [
       "<span style=\"color:cyan\"> |-tuner/bracket: 1</span>"
      ],
      "text/plain": [
       "<IPython.core.display.HTML object>"
      ]
     },
     "metadata": {},
     "output_type": "display_data"
    },
    {
     "data": {
      "text/html": [
       "<span style=\"color:blue\"> |-tuner/epochs: 17</span>"
      ],
      "text/plain": [
       "<IPython.core.display.HTML object>"
      ]
     },
     "metadata": {},
     "output_type": "display_data"
    },
    {
     "data": {
      "text/html": [
       "<span style=\"color:cyan\"> |-tuner/initial_epoch: 0</span>"
      ],
      "text/plain": [
       "<IPython.core.display.HTML object>"
      ]
     },
     "metadata": {},
     "output_type": "display_data"
    },
    {
     "data": {
      "text/html": [
       "<span style=\"color:blue\"> |-tuner/round: 0</span>"
      ],
      "text/plain": [
       "<IPython.core.display.HTML object>"
      ]
     },
     "metadata": {},
     "output_type": "display_data"
    },
    {
     "name": "stdout",
     "output_type": "stream",
     "text": [
      "Train on 8000 samples, validate on 2000 samples\n",
      "Epoch 1/17\n",
      "8000/8000 - 2s - loss: 0.0162 - mean_squared_error: 0.0157 - mean_absolute_error: 0.0707 - val_loss: 0.0030 - val_mean_squared_error: 0.0024 - val_mean_absolute_error: 0.0305\n",
      "Epoch 2/17\n",
      "8000/8000 - 1s - loss: 0.0038 - mean_squared_error: 0.0031 - mean_absolute_error: 0.0328 - val_loss: 0.0033 - val_mean_squared_error: 0.0026 - val_mean_absolute_error: 0.0303\n",
      "Epoch 3/17\n",
      "8000/8000 - 1s - loss: 0.0040 - mean_squared_error: 0.0033 - mean_absolute_error: 0.0326 - val_loss: 0.0028 - val_mean_squared_error: 0.0021 - val_mean_absolute_error: 0.0266\n",
      "Epoch 4/17\n",
      "8000/8000 - 1s - loss: 0.0044 - mean_squared_error: 0.0037 - mean_absolute_error: 0.0337 - val_loss: 0.0028 - val_mean_squared_error: 0.0020 - val_mean_absolute_error: 0.0257\n",
      "Epoch 5/17\n",
      "8000/8000 - 1s - loss: 0.0045 - mean_squared_error: 0.0038 - mean_absolute_error: 0.0338 - val_loss: 0.0040 - val_mean_squared_error: 0.0032 - val_mean_absolute_error: 0.0313\n",
      "Epoch 6/17\n",
      "8000/8000 - 1s - loss: 0.0048 - mean_squared_error: 0.0040 - mean_absolute_error: 0.0345 - val_loss: 0.0040 - val_mean_squared_error: 0.0032 - val_mean_absolute_error: 0.0308\n",
      "Epoch 7/17\n",
      "8000/8000 - 1s - loss: 0.0048 - mean_squared_error: 0.0040 - mean_absolute_error: 0.0343 - val_loss: 0.0039 - val_mean_squared_error: 0.0031 - val_mean_absolute_error: 0.0300\n",
      "Epoch 8/17\n",
      "8000/8000 - 1s - loss: 0.0048 - mean_squared_error: 0.0040 - mean_absolute_error: 0.0340 - val_loss: 0.0037 - val_mean_squared_error: 0.0029 - val_mean_absolute_error: 0.0296\n",
      "Epoch 9/17\n",
      "8000/8000 - 1s - loss: 0.0050 - mean_squared_error: 0.0042 - mean_absolute_error: 0.0346 - val_loss: 0.0036 - val_mean_squared_error: 0.0028 - val_mean_absolute_error: 0.0285\n"
     ]
    },
    {
     "data": {
      "text/html": [
       "<span style=\"color:#4527A0\"><h1 style=\"font-size:18px\">Trial complete</h1></span>"
      ],
      "text/plain": [
       "<IPython.core.display.HTML object>"
      ]
     },
     "metadata": {},
     "output_type": "display_data"
    },
    {
     "data": {
      "text/html": [
       "<span style=\"color:#4527A0\"><h1 style=\"font-size:18px\">Trial summary</h1></span>"
      ],
      "text/plain": [
       "<IPython.core.display.HTML object>"
      ]
     },
     "metadata": {},
     "output_type": "display_data"
    },
    {
     "data": {
      "text/html": [
       "<span style=\"color:cyan\"> |-Trial ID: 85c02df8dc9e5d9dfb54fcbcbf0e81c2</span>"
      ],
      "text/plain": [
       "<IPython.core.display.HTML object>"
      ]
     },
     "metadata": {},
     "output_type": "display_data"
    },
    {
     "data": {
      "text/html": [
       "<span style=\"color:cyan\"> |-Score: 0.0020464109256863594</span>"
      ],
      "text/plain": [
       "<IPython.core.display.HTML object>"
      ]
     },
     "metadata": {},
     "output_type": "display_data"
    },
    {
     "data": {
      "text/html": [
       "<span style=\"color:cyan\"> |-Best step: 0</span>"
      ],
      "text/plain": [
       "<IPython.core.display.HTML object>"
      ]
     },
     "metadata": {},
     "output_type": "display_data"
    },
    {
     "data": {
      "text/html": [
       "<span style=\"color:#7E57C2\"><h2 style=\"font-size:16px\">Hyperparameters:</h2></span>"
      ],
      "text/plain": [
       "<IPython.core.display.HTML object>"
      ]
     },
     "metadata": {},
     "output_type": "display_data"
    },
    {
     "data": {
      "text/html": [
       "<span style=\"color:cyan\"> |-hidden_units: 192</span>"
      ],
      "text/plain": [
       "<IPython.core.display.HTML object>"
      ]
     },
     "metadata": {},
     "output_type": "display_data"
    },
    {
     "data": {
      "text/html": [
       "<span style=\"color:blue\"> |-learning_rate: 0.01</span>"
      ],
      "text/plain": [
       "<IPython.core.display.HTML object>"
      ]
     },
     "metadata": {},
     "output_type": "display_data"
    },
    {
     "data": {
      "text/html": [
       "<span style=\"color:cyan\"> |-tuner/bracket: 1</span>"
      ],
      "text/plain": [
       "<IPython.core.display.HTML object>"
      ]
     },
     "metadata": {},
     "output_type": "display_data"
    },
    {
     "data": {
      "text/html": [
       "<span style=\"color:blue\"> |-tuner/epochs: 17</span>"
      ],
      "text/plain": [
       "<IPython.core.display.HTML object>"
      ]
     },
     "metadata": {},
     "output_type": "display_data"
    },
    {
     "data": {
      "text/html": [
       "<span style=\"color:cyan\"> |-tuner/initial_epoch: 0</span>"
      ],
      "text/plain": [
       "<IPython.core.display.HTML object>"
      ]
     },
     "metadata": {},
     "output_type": "display_data"
    },
    {
     "data": {
      "text/html": [
       "<span style=\"color:blue\"> |-tuner/round: 0</span>"
      ],
      "text/plain": [
       "<IPython.core.display.HTML object>"
      ]
     },
     "metadata": {},
     "output_type": "display_data"
    },
    {
     "name": "stdout",
     "output_type": "stream",
     "text": [
      "Train on 8000 samples, validate on 2000 samples\n",
      "Epoch 1/17\n",
      "8000/8000 - 2s - loss: 0.1981 - mean_squared_error: 0.1979 - mean_absolute_error: 0.4172 - val_loss: 0.1797 - val_mean_squared_error: 0.1796 - val_mean_absolute_error: 0.3964\n",
      "Epoch 2/17\n",
      "8000/8000 - 1s - loss: 0.1662 - mean_squared_error: 0.1661 - mean_absolute_error: 0.3801 - val_loss: 0.1494 - val_mean_squared_error: 0.1492 - val_mean_absolute_error: 0.3602\n",
      "Epoch 3/17\n",
      "8000/8000 - 1s - loss: 0.1361 - mean_squared_error: 0.1360 - mean_absolute_error: 0.3438 - val_loss: 0.1197 - val_mean_squared_error: 0.1196 - val_mean_absolute_error: 0.3228\n",
      "Epoch 4/17\n",
      "8000/8000 - 1s - loss: 0.1080 - mean_squared_error: 0.1078 - mean_absolute_error: 0.3053 - val_loss: 0.0936 - val_mean_squared_error: 0.0934 - val_mean_absolute_error: 0.2850\n",
      "Epoch 5/17\n",
      "8000/8000 - 1s - loss: 0.0844 - mean_squared_error: 0.0843 - mean_absolute_error: 0.2679 - val_loss: 0.0731 - val_mean_squared_error: 0.0729 - val_mean_absolute_error: 0.2484\n",
      "Epoch 6/17\n",
      "8000/8000 - 1s - loss: 0.0664 - mean_squared_error: 0.0662 - mean_absolute_error: 0.2345 - val_loss: 0.0576 - val_mean_squared_error: 0.0574 - val_mean_absolute_error: 0.2182\n",
      "Epoch 7/17\n",
      "8000/8000 - 1s - loss: 0.0528 - mean_squared_error: 0.0526 - mean_absolute_error: 0.2065 - val_loss: 0.0456 - val_mean_squared_error: 0.0454 - val_mean_absolute_error: 0.1916\n",
      "Epoch 8/17\n",
      "8000/8000 - 1s - loss: 0.0422 - mean_squared_error: 0.0419 - mean_absolute_error: 0.1824 - val_loss: 0.0360 - val_mean_squared_error: 0.0358 - val_mean_absolute_error: 0.1692\n",
      "Epoch 9/17\n",
      "8000/8000 - 1s - loss: 0.0337 - mean_squared_error: 0.0334 - mean_absolute_error: 0.1616 - val_loss: 0.0283 - val_mean_squared_error: 0.0281 - val_mean_absolute_error: 0.1494\n",
      "Epoch 10/17\n",
      "8000/8000 - 1s - loss: 0.0269 - mean_squared_error: 0.0266 - mean_absolute_error: 0.1435 - val_loss: 0.0223 - val_mean_squared_error: 0.0220 - val_mean_absolute_error: 0.1325\n",
      "Epoch 11/17\n",
      "8000/8000 - 1s - loss: 0.0216 - mean_squared_error: 0.0213 - mean_absolute_error: 0.1280 - val_loss: 0.0176 - val_mean_squared_error: 0.0173 - val_mean_absolute_error: 0.1176\n",
      "Epoch 12/17\n",
      "8000/8000 - 1s - loss: 0.0175 - mean_squared_error: 0.0172 - mean_absolute_error: 0.1144 - val_loss: 0.0140 - val_mean_squared_error: 0.0137 - val_mean_absolute_error: 0.1045\n",
      "Epoch 13/17\n",
      "8000/8000 - 1s - loss: 0.0143 - mean_squared_error: 0.0140 - mean_absolute_error: 0.1030 - val_loss: 0.0113 - val_mean_squared_error: 0.0109 - val_mean_absolute_error: 0.0938\n",
      "Epoch 14/17\n",
      "8000/8000 - 1s - loss: 0.0119 - mean_squared_error: 0.0115 - mean_absolute_error: 0.0932 - val_loss: 0.0092 - val_mean_squared_error: 0.0089 - val_mean_absolute_error: 0.0842\n",
      "Epoch 15/17\n",
      "8000/8000 - 1s - loss: 0.0100 - mean_squared_error: 0.0096 - mean_absolute_error: 0.0850 - val_loss: 0.0076 - val_mean_squared_error: 0.0073 - val_mean_absolute_error: 0.0766\n",
      "Epoch 16/17\n",
      "8000/8000 - 1s - loss: 0.0086 - mean_squared_error: 0.0082 - mean_absolute_error: 0.0781 - val_loss: 0.0064 - val_mean_squared_error: 0.0060 - val_mean_absolute_error: 0.0698\n",
      "Epoch 17/17\n",
      "8000/8000 - 1s - loss: 0.0075 - mean_squared_error: 0.0071 - mean_absolute_error: 0.0721 - val_loss: 0.0055 - val_mean_squared_error: 0.0051 - val_mean_absolute_error: 0.0639\n"
     ]
    },
    {
     "data": {
      "text/html": [
       "<span style=\"color:#4527A0\"><h1 style=\"font-size:18px\">Trial complete</h1></span>"
      ],
      "text/plain": [
       "<IPython.core.display.HTML object>"
      ]
     },
     "metadata": {},
     "output_type": "display_data"
    },
    {
     "data": {
      "text/html": [
       "<span style=\"color:#4527A0\"><h1 style=\"font-size:18px\">Trial summary</h1></span>"
      ],
      "text/plain": [
       "<IPython.core.display.HTML object>"
      ]
     },
     "metadata": {},
     "output_type": "display_data"
    },
    {
     "data": {
      "text/html": [
       "<span style=\"color:cyan\"> |-Trial ID: ebffb68b45351ebcb71c02a0915d8769</span>"
      ],
      "text/plain": [
       "<IPython.core.display.HTML object>"
      ]
     },
     "metadata": {},
     "output_type": "display_data"
    },
    {
     "data": {
      "text/html": [
       "<span style=\"color:cyan\"> |-Score: 0.005118199158459902</span>"
      ],
      "text/plain": [
       "<IPython.core.display.HTML object>"
      ]
     },
     "metadata": {},
     "output_type": "display_data"
    },
    {
     "data": {
      "text/html": [
       "<span style=\"color:cyan\"> |-Best step: 0</span>"
      ],
      "text/plain": [
       "<IPython.core.display.HTML object>"
      ]
     },
     "metadata": {},
     "output_type": "display_data"
    },
    {
     "data": {
      "text/html": [
       "<span style=\"color:#7E57C2\"><h2 style=\"font-size:16px\">Hyperparameters:</h2></span>"
      ],
      "text/plain": [
       "<IPython.core.display.HTML object>"
      ]
     },
     "metadata": {},
     "output_type": "display_data"
    },
    {
     "data": {
      "text/html": [
       "<span style=\"color:cyan\"> |-hidden_units: 190</span>"
      ],
      "text/plain": [
       "<IPython.core.display.HTML object>"
      ]
     },
     "metadata": {},
     "output_type": "display_data"
    },
    {
     "data": {
      "text/html": [
       "<span style=\"color:blue\"> |-learning_rate: 0.0001</span>"
      ],
      "text/plain": [
       "<IPython.core.display.HTML object>"
      ]
     },
     "metadata": {},
     "output_type": "display_data"
    },
    {
     "data": {
      "text/html": [
       "<span style=\"color:cyan\"> |-tuner/bracket: 1</span>"
      ],
      "text/plain": [
       "<IPython.core.display.HTML object>"
      ]
     },
     "metadata": {},
     "output_type": "display_data"
    },
    {
     "data": {
      "text/html": [
       "<span style=\"color:blue\"> |-tuner/epochs: 17</span>"
      ],
      "text/plain": [
       "<IPython.core.display.HTML object>"
      ]
     },
     "metadata": {},
     "output_type": "display_data"
    },
    {
     "data": {
      "text/html": [
       "<span style=\"color:cyan\"> |-tuner/initial_epoch: 0</span>"
      ],
      "text/plain": [
       "<IPython.core.display.HTML object>"
      ]
     },
     "metadata": {},
     "output_type": "display_data"
    },
    {
     "data": {
      "text/html": [
       "<span style=\"color:blue\"> |-tuner/round: 0</span>"
      ],
      "text/plain": [
       "<IPython.core.display.HTML object>"
      ]
     },
     "metadata": {},
     "output_type": "display_data"
    },
    {
     "name": "stdout",
     "output_type": "stream",
     "text": [
      "Train on 8000 samples, validate on 2000 samples\n",
      "Epoch 1/17\n",
      "8000/8000 - 2s - loss: 0.1233 - mean_squared_error: 0.1232 - mean_absolute_error: 0.3152 - val_loss: 0.0520 - val_mean_squared_error: 0.0518 - val_mean_absolute_error: 0.1999\n",
      "Epoch 2/17\n",
      "8000/8000 - 1s - loss: 0.0296 - mean_squared_error: 0.0294 - mean_absolute_error: 0.1442 - val_loss: 0.0122 - val_mean_squared_error: 0.0118 - val_mean_absolute_error: 0.0959\n",
      "Epoch 3/17\n",
      "8000/8000 - 1s - loss: 0.0102 - mean_squared_error: 0.0098 - mean_absolute_error: 0.0821 - val_loss: 0.0049 - val_mean_squared_error: 0.0045 - val_mean_absolute_error: 0.0594\n",
      "Epoch 4/17\n",
      "8000/8000 - 1s - loss: 0.0062 - mean_squared_error: 0.0057 - mean_absolute_error: 0.0601 - val_loss: 0.0035 - val_mean_squared_error: 0.0030 - val_mean_absolute_error: 0.0459\n",
      "Epoch 5/17\n",
      "8000/8000 - 1s - loss: 0.0049 - mean_squared_error: 0.0044 - mean_absolute_error: 0.0499 - val_loss: 0.0023 - val_mean_squared_error: 0.0018 - val_mean_absolute_error: 0.0359\n",
      "Epoch 6/17\n",
      "8000/8000 - 1s - loss: 0.0043 - mean_squared_error: 0.0038 - mean_absolute_error: 0.0442 - val_loss: 0.0021 - val_mean_squared_error: 0.0015 - val_mean_absolute_error: 0.0316\n",
      "Epoch 7/17\n",
      "8000/8000 - 1s - loss: 0.0040 - mean_squared_error: 0.0035 - mean_absolute_error: 0.0405 - val_loss: 0.0019 - val_mean_squared_error: 0.0014 - val_mean_absolute_error: 0.0289\n",
      "Epoch 8/17\n",
      "8000/8000 - 1s - loss: 0.0039 - mean_squared_error: 0.0033 - mean_absolute_error: 0.0382 - val_loss: 0.0018 - val_mean_squared_error: 0.0012 - val_mean_absolute_error: 0.0267\n",
      "Epoch 9/17\n",
      "8000/8000 - 1s - loss: 0.0037 - mean_squared_error: 0.0031 - mean_absolute_error: 0.0362 - val_loss: 0.0016 - val_mean_squared_error: 9.4141e-04 - val_mean_absolute_error: 0.0238\n",
      "Epoch 10/17\n",
      "8000/8000 - 1s - loss: 0.0037 - mean_squared_error: 0.0030 - mean_absolute_error: 0.0349 - val_loss: 0.0018 - val_mean_squared_error: 0.0011 - val_mean_absolute_error: 0.0246\n",
      "Epoch 11/17\n",
      "8000/8000 - 1s - loss: 0.0036 - mean_squared_error: 0.0030 - mean_absolute_error: 0.0341 - val_loss: 0.0018 - val_mean_squared_error: 0.0012 - val_mean_absolute_error: 0.0244\n",
      "Epoch 12/17\n",
      "8000/8000 - 1s - loss: 0.0036 - mean_squared_error: 0.0030 - mean_absolute_error: 0.0335 - val_loss: 0.0020 - val_mean_squared_error: 0.0013 - val_mean_absolute_error: 0.0249\n",
      "Epoch 13/17\n",
      "8000/8000 - 1s - loss: 0.0036 - mean_squared_error: 0.0029 - mean_absolute_error: 0.0329 - val_loss: 0.0018 - val_mean_squared_error: 0.0012 - val_mean_absolute_error: 0.0236\n",
      "Epoch 14/17\n",
      "8000/8000 - 1s - loss: 0.0036 - mean_squared_error: 0.0029 - mean_absolute_error: 0.0326 - val_loss: 0.0014 - val_mean_squared_error: 7.3964e-04 - val_mean_absolute_error: 0.0201\n",
      "Epoch 15/17\n",
      "8000/8000 - 1s - loss: 0.0035 - mean_squared_error: 0.0029 - mean_absolute_error: 0.0322 - val_loss: 0.0016 - val_mean_squared_error: 9.1150e-04 - val_mean_absolute_error: 0.0215\n",
      "Epoch 16/17\n",
      "8000/8000 - 1s - loss: 0.0036 - mean_squared_error: 0.0029 - mean_absolute_error: 0.0321 - val_loss: 0.0017 - val_mean_squared_error: 0.0011 - val_mean_absolute_error: 0.0224\n",
      "Epoch 17/17\n",
      "8000/8000 - 1s - loss: 0.0036 - mean_squared_error: 0.0029 - mean_absolute_error: 0.0321 - val_loss: 0.0018 - val_mean_squared_error: 0.0012 - val_mean_absolute_error: 0.0231\n"
     ]
    },
    {
     "data": {
      "text/html": [
       "<span style=\"color:#4527A0\"><h1 style=\"font-size:18px\">Trial complete</h1></span>"
      ],
      "text/plain": [
       "<IPython.core.display.HTML object>"
      ]
     },
     "metadata": {},
     "output_type": "display_data"
    },
    {
     "data": {
      "text/html": [
       "<span style=\"color:#4527A0\"><h1 style=\"font-size:18px\">Trial summary</h1></span>"
      ],
      "text/plain": [
       "<IPython.core.display.HTML object>"
      ]
     },
     "metadata": {},
     "output_type": "display_data"
    },
    {
     "data": {
      "text/html": [
       "<span style=\"color:cyan\"> |-Trial ID: 8a99076a4ef2adcc305cd094eff7bbb9</span>"
      ],
      "text/plain": [
       "<IPython.core.display.HTML object>"
      ]
     },
     "metadata": {},
     "output_type": "display_data"
    },
    {
     "data": {
      "text/html": [
       "<span style=\"color:cyan\"> |-Score: 0.0007396379951387644</span>"
      ],
      "text/plain": [
       "<IPython.core.display.HTML object>"
      ]
     },
     "metadata": {},
     "output_type": "display_data"
    },
    {
     "data": {
      "text/html": [
       "<span style=\"color:cyan\"> |-Best step: 0</span>"
      ],
      "text/plain": [
       "<IPython.core.display.HTML object>"
      ]
     },
     "metadata": {},
     "output_type": "display_data"
    },
    {
     "data": {
      "text/html": [
       "<span style=\"color:#7E57C2\"><h2 style=\"font-size:16px\">Hyperparameters:</h2></span>"
      ],
      "text/plain": [
       "<IPython.core.display.HTML object>"
      ]
     },
     "metadata": {},
     "output_type": "display_data"
    },
    {
     "data": {
      "text/html": [
       "<span style=\"color:cyan\"> |-hidden_units: 114</span>"
      ],
      "text/plain": [
       "<IPython.core.display.HTML object>"
      ]
     },
     "metadata": {},
     "output_type": "display_data"
    },
    {
     "data": {
      "text/html": [
       "<span style=\"color:blue\"> |-learning_rate: 0.001</span>"
      ],
      "text/plain": [
       "<IPython.core.display.HTML object>"
      ]
     },
     "metadata": {},
     "output_type": "display_data"
    },
    {
     "data": {
      "text/html": [
       "<span style=\"color:cyan\"> |-tuner/bracket: 1</span>"
      ],
      "text/plain": [
       "<IPython.core.display.HTML object>"
      ]
     },
     "metadata": {},
     "output_type": "display_data"
    },
    {
     "data": {
      "text/html": [
       "<span style=\"color:blue\"> |-tuner/epochs: 17</span>"
      ],
      "text/plain": [
       "<IPython.core.display.HTML object>"
      ]
     },
     "metadata": {},
     "output_type": "display_data"
    },
    {
     "data": {
      "text/html": [
       "<span style=\"color:cyan\"> |-tuner/initial_epoch: 0</span>"
      ],
      "text/plain": [
       "<IPython.core.display.HTML object>"
      ]
     },
     "metadata": {},
     "output_type": "display_data"
    },
    {
     "data": {
      "text/html": [
       "<span style=\"color:blue\"> |-tuner/round: 0</span>"
      ],
      "text/plain": [
       "<IPython.core.display.HTML object>"
      ]
     },
     "metadata": {},
     "output_type": "display_data"
    },
    {
     "name": "stdout",
     "output_type": "stream",
     "text": [
      "Train on 8000 samples, validate on 2000 samples\n",
      "Epoch 1/17\n",
      "8000/8000 - 2s - loss: 0.2089 - mean_squared_error: 0.2088 - mean_absolute_error: 0.4282 - val_loss: 0.1917 - val_mean_squared_error: 0.1916 - val_mean_absolute_error: 0.4090\n",
      "Epoch 2/17\n",
      "8000/8000 - 1s - loss: 0.1820 - mean_squared_error: 0.1819 - mean_absolute_error: 0.3970 - val_loss: 0.1694 - val_mean_squared_error: 0.1693 - val_mean_absolute_error: 0.3828\n",
      "Epoch 3/17\n",
      "8000/8000 - 1s - loss: 0.1599 - mean_squared_error: 0.1598 - mean_absolute_error: 0.3717 - val_loss: 0.1471 - val_mean_squared_error: 0.1470 - val_mean_absolute_error: 0.3572\n",
      "Epoch 4/17\n",
      "8000/8000 - 1s - loss: 0.1377 - mean_squared_error: 0.1376 - mean_absolute_error: 0.3444 - val_loss: 0.1256 - val_mean_squared_error: 0.1255 - val_mean_absolute_error: 0.3293\n",
      "Epoch 5/17\n",
      "8000/8000 - 1s - loss: 0.1173 - mean_squared_error: 0.1172 - mean_absolute_error: 0.3167 - val_loss: 0.1063 - val_mean_squared_error: 0.1062 - val_mean_absolute_error: 0.3008\n",
      "Epoch 6/17\n",
      "8000/8000 - 1s - loss: 0.0994 - mean_squared_error: 0.0992 - mean_absolute_error: 0.2891 - val_loss: 0.0901 - val_mean_squared_error: 0.0899 - val_mean_absolute_error: 0.2753\n",
      "Epoch 7/17\n",
      "8000/8000 - 1s - loss: 0.0847 - mean_squared_error: 0.0845 - mean_absolute_error: 0.2639 - val_loss: 0.0768 - val_mean_squared_error: 0.0766 - val_mean_absolute_error: 0.2510\n",
      "Epoch 8/17\n",
      "8000/8000 - 1s - loss: 0.0726 - mean_squared_error: 0.0725 - mean_absolute_error: 0.2413 - val_loss: 0.0657 - val_mean_squared_error: 0.0655 - val_mean_absolute_error: 0.2297\n",
      "Epoch 9/17\n",
      "8000/8000 - 1s - loss: 0.0625 - mean_squared_error: 0.0623 - mean_absolute_error: 0.2213 - val_loss: 0.0561 - val_mean_squared_error: 0.0559 - val_mean_absolute_error: 0.2100\n",
      "Epoch 10/17\n",
      "8000/8000 - 1s - loss: 0.0536 - mean_squared_error: 0.0534 - mean_absolute_error: 0.2029 - val_loss: 0.0477 - val_mean_squared_error: 0.0475 - val_mean_absolute_error: 0.1925\n",
      "Epoch 11/17\n",
      "8000/8000 - 1s - loss: 0.0459 - mean_squared_error: 0.0457 - mean_absolute_error: 0.1862 - val_loss: 0.0402 - val_mean_squared_error: 0.0400 - val_mean_absolute_error: 0.1765\n",
      "Epoch 12/17\n",
      "8000/8000 - 1s - loss: 0.0391 - mean_squared_error: 0.0389 - mean_absolute_error: 0.1707 - val_loss: 0.0337 - val_mean_squared_error: 0.0335 - val_mean_absolute_error: 0.1608\n",
      "Epoch 13/17\n",
      "8000/8000 - 1s - loss: 0.0334 - mean_squared_error: 0.0331 - mean_absolute_error: 0.1568 - val_loss: 0.0281 - val_mean_squared_error: 0.0279 - val_mean_absolute_error: 0.1469\n",
      "Epoch 14/17\n",
      "8000/8000 - 1s - loss: 0.0284 - mean_squared_error: 0.0281 - mean_absolute_error: 0.1439 - val_loss: 0.0234 - val_mean_squared_error: 0.0231 - val_mean_absolute_error: 0.1333\n",
      "Epoch 15/17\n",
      "8000/8000 - 1s - loss: 0.0240 - mean_squared_error: 0.0238 - mean_absolute_error: 0.1319 - val_loss: 0.0194 - val_mean_squared_error: 0.0191 - val_mean_absolute_error: 0.1217\n",
      "Epoch 16/17\n",
      "8000/8000 - 1s - loss: 0.0206 - mean_squared_error: 0.0203 - mean_absolute_error: 0.1214 - val_loss: 0.0161 - val_mean_squared_error: 0.0158 - val_mean_absolute_error: 0.1112\n",
      "Epoch 17/17\n",
      "8000/8000 - 1s - loss: 0.0176 - mean_squared_error: 0.0173 - mean_absolute_error: 0.1119 - val_loss: 0.0135 - val_mean_squared_error: 0.0132 - val_mean_absolute_error: 0.1014\n"
     ]
    },
    {
     "data": {
      "text/html": [
       "<span style=\"color:#4527A0\"><h1 style=\"font-size:18px\">Trial complete</h1></span>"
      ],
      "text/plain": [
       "<IPython.core.display.HTML object>"
      ]
     },
     "metadata": {},
     "output_type": "display_data"
    },
    {
     "data": {
      "text/html": [
       "<span style=\"color:#4527A0\"><h1 style=\"font-size:18px\">Trial summary</h1></span>"
      ],
      "text/plain": [
       "<IPython.core.display.HTML object>"
      ]
     },
     "metadata": {},
     "output_type": "display_data"
    },
    {
     "data": {
      "text/html": [
       "<span style=\"color:cyan\"> |-Trial ID: c33a78c515e97a3b937971de7c6e6a54</span>"
      ],
      "text/plain": [
       "<IPython.core.display.HTML object>"
      ]
     },
     "metadata": {},
     "output_type": "display_data"
    },
    {
     "data": {
      "text/html": [
       "<span style=\"color:cyan\"> |-Score: 0.013152212835848331</span>"
      ],
      "text/plain": [
       "<IPython.core.display.HTML object>"
      ]
     },
     "metadata": {},
     "output_type": "display_data"
    },
    {
     "data": {
      "text/html": [
       "<span style=\"color:cyan\"> |-Best step: 0</span>"
      ],
      "text/plain": [
       "<IPython.core.display.HTML object>"
      ]
     },
     "metadata": {},
     "output_type": "display_data"
    },
    {
     "data": {
      "text/html": [
       "<span style=\"color:#7E57C2\"><h2 style=\"font-size:16px\">Hyperparameters:</h2></span>"
      ],
      "text/plain": [
       "<IPython.core.display.HTML object>"
      ]
     },
     "metadata": {},
     "output_type": "display_data"
    },
    {
     "data": {
      "text/html": [
       "<span style=\"color:cyan\"> |-hidden_units: 108</span>"
      ],
      "text/plain": [
       "<IPython.core.display.HTML object>"
      ]
     },
     "metadata": {},
     "output_type": "display_data"
    },
    {
     "data": {
      "text/html": [
       "<span style=\"color:blue\"> |-learning_rate: 0.0001</span>"
      ],
      "text/plain": [
       "<IPython.core.display.HTML object>"
      ]
     },
     "metadata": {},
     "output_type": "display_data"
    },
    {
     "data": {
      "text/html": [
       "<span style=\"color:cyan\"> |-tuner/bracket: 1</span>"
      ],
      "text/plain": [
       "<IPython.core.display.HTML object>"
      ]
     },
     "metadata": {},
     "output_type": "display_data"
    },
    {
     "data": {
      "text/html": [
       "<span style=\"color:blue\"> |-tuner/epochs: 17</span>"
      ],
      "text/plain": [
       "<IPython.core.display.HTML object>"
      ]
     },
     "metadata": {},
     "output_type": "display_data"
    },
    {
     "data": {
      "text/html": [
       "<span style=\"color:cyan\"> |-tuner/initial_epoch: 0</span>"
      ],
      "text/plain": [
       "<IPython.core.display.HTML object>"
      ]
     },
     "metadata": {},
     "output_type": "display_data"
    },
    {
     "data": {
      "text/html": [
       "<span style=\"color:blue\"> |-tuner/round: 0</span>"
      ],
      "text/plain": [
       "<IPython.core.display.HTML object>"
      ]
     },
     "metadata": {},
     "output_type": "display_data"
    },
    {
     "name": "stdout",
     "output_type": "stream",
     "text": [
      "Train on 8000 samples, validate on 2000 samples\n",
      "Epoch 1/17\n",
      "8000/8000 - 2s - loss: 0.0365 - mean_squared_error: 0.0361 - mean_absolute_error: 0.1268 - val_loss: 0.0033 - val_mean_squared_error: 0.0028 - val_mean_absolute_error: 0.0371\n",
      "Epoch 2/17\n",
      "8000/8000 - 1s - loss: 0.0076 - mean_squared_error: 0.0070 - mean_absolute_error: 0.0491 - val_loss: 0.0041 - val_mean_squared_error: 0.0035 - val_mean_absolute_error: 0.0349\n",
      "Epoch 3/17\n",
      "8000/8000 - 1s - loss: 0.0078 - mean_squared_error: 0.0071 - mean_absolute_error: 0.0462 - val_loss: 0.0038 - val_mean_squared_error: 0.0031 - val_mean_absolute_error: 0.0319\n",
      "Epoch 4/17\n",
      "8000/8000 - 1s - loss: 0.0079 - mean_squared_error: 0.0072 - mean_absolute_error: 0.0458 - val_loss: 0.0047 - val_mean_squared_error: 0.0039 - val_mean_absolute_error: 0.0345\n",
      "Epoch 5/17\n",
      "8000/8000 - 1s - loss: 0.0080 - mean_squared_error: 0.0073 - mean_absolute_error: 0.0454 - val_loss: 0.0046 - val_mean_squared_error: 0.0038 - val_mean_absolute_error: 0.0337\n",
      "Epoch 6/17\n",
      "8000/8000 - 1s - loss: 0.0081 - mean_squared_error: 0.0074 - mean_absolute_error: 0.0455 - val_loss: 0.0046 - val_mean_squared_error: 0.0039 - val_mean_absolute_error: 0.0336\n"
     ]
    },
    {
     "data": {
      "text/html": [
       "<span style=\"color:#4527A0\"><h1 style=\"font-size:18px\">Trial complete</h1></span>"
      ],
      "text/plain": [
       "<IPython.core.display.HTML object>"
      ]
     },
     "metadata": {},
     "output_type": "display_data"
    },
    {
     "data": {
      "text/html": [
       "<span style=\"color:#4527A0\"><h1 style=\"font-size:18px\">Trial summary</h1></span>"
      ],
      "text/plain": [
       "<IPython.core.display.HTML object>"
      ]
     },
     "metadata": {},
     "output_type": "display_data"
    },
    {
     "data": {
      "text/html": [
       "<span style=\"color:cyan\"> |-Trial ID: d8d549db8a4ed25bdf0568de8842a511</span>"
      ],
      "text/plain": [
       "<IPython.core.display.HTML object>"
      ]
     },
     "metadata": {},
     "output_type": "display_data"
    },
    {
     "data": {
      "text/html": [
       "<span style=\"color:cyan\"> |-Score: 0.0027907572221010923</span>"
      ],
      "text/plain": [
       "<IPython.core.display.HTML object>"
      ]
     },
     "metadata": {},
     "output_type": "display_data"
    },
    {
     "data": {
      "text/html": [
       "<span style=\"color:cyan\"> |-Best step: 0</span>"
      ],
      "text/plain": [
       "<IPython.core.display.HTML object>"
      ]
     },
     "metadata": {},
     "output_type": "display_data"
    },
    {
     "data": {
      "text/html": [
       "<span style=\"color:#7E57C2\"><h2 style=\"font-size:16px\">Hyperparameters:</h2></span>"
      ],
      "text/plain": [
       "<IPython.core.display.HTML object>"
      ]
     },
     "metadata": {},
     "output_type": "display_data"
    },
    {
     "data": {
      "text/html": [
       "<span style=\"color:cyan\"> |-hidden_units: 54</span>"
      ],
      "text/plain": [
       "<IPython.core.display.HTML object>"
      ]
     },
     "metadata": {},
     "output_type": "display_data"
    },
    {
     "data": {
      "text/html": [
       "<span style=\"color:blue\"> |-learning_rate: 0.01</span>"
      ],
      "text/plain": [
       "<IPython.core.display.HTML object>"
      ]
     },
     "metadata": {},
     "output_type": "display_data"
    },
    {
     "data": {
      "text/html": [
       "<span style=\"color:cyan\"> |-tuner/bracket: 1</span>"
      ],
      "text/plain": [
       "<IPython.core.display.HTML object>"
      ]
     },
     "metadata": {},
     "output_type": "display_data"
    },
    {
     "data": {
      "text/html": [
       "<span style=\"color:blue\"> |-tuner/epochs: 17</span>"
      ],
      "text/plain": [
       "<IPython.core.display.HTML object>"
      ]
     },
     "metadata": {},
     "output_type": "display_data"
    },
    {
     "data": {
      "text/html": [
       "<span style=\"color:cyan\"> |-tuner/initial_epoch: 0</span>"
      ],
      "text/plain": [
       "<IPython.core.display.HTML object>"
      ]
     },
     "metadata": {},
     "output_type": "display_data"
    },
    {
     "data": {
      "text/html": [
       "<span style=\"color:blue\"> |-tuner/round: 0</span>"
      ],
      "text/plain": [
       "<IPython.core.display.HTML object>"
      ]
     },
     "metadata": {},
     "output_type": "display_data"
    },
    {
     "name": "stdout",
     "output_type": "stream",
     "text": [
      "Train on 8000 samples, validate on 2000 samples\n",
      "Epoch 1/17\n",
      "8000/8000 - 2s - loss: 0.2013 - mean_squared_error: 0.2012 - mean_absolute_error: 0.4216 - val_loss: 0.1839 - val_mean_squared_error: 0.1837 - val_mean_absolute_error: 0.4011\n",
      "Epoch 2/17\n",
      "8000/8000 - 1s - loss: 0.1719 - mean_squared_error: 0.1718 - mean_absolute_error: 0.3867 - val_loss: 0.1566 - val_mean_squared_error: 0.1565 - val_mean_absolute_error: 0.3691\n",
      "Epoch 3/17\n",
      "8000/8000 - 1s - loss: 0.1448 - mean_squared_error: 0.1447 - mean_absolute_error: 0.3549 - val_loss: 0.1297 - val_mean_squared_error: 0.1296 - val_mean_absolute_error: 0.3363\n",
      "Epoch 4/17\n",
      "8000/8000 - 1s - loss: 0.1188 - mean_squared_error: 0.1187 - mean_absolute_error: 0.3207 - val_loss: 0.1050 - val_mean_squared_error: 0.1049 - val_mean_absolute_error: 0.3019\n",
      "Epoch 5/17\n",
      "8000/8000 - 1s - loss: 0.0961 - mean_squared_error: 0.0960 - mean_absolute_error: 0.2867 - val_loss: 0.0846 - val_mean_squared_error: 0.0845 - val_mean_absolute_error: 0.2681\n",
      "Epoch 6/17\n",
      "8000/8000 - 1s - loss: 0.0778 - mean_squared_error: 0.0776 - mean_absolute_error: 0.2550 - val_loss: 0.0685 - val_mean_squared_error: 0.0683 - val_mean_absolute_error: 0.2390\n",
      "Epoch 7/17\n",
      "8000/8000 - 1s - loss: 0.0635 - mean_squared_error: 0.0633 - mean_absolute_error: 0.2274 - val_loss: 0.0557 - val_mean_squared_error: 0.0555 - val_mean_absolute_error: 0.2129\n",
      "Epoch 8/17\n",
      "8000/8000 - 1s - loss: 0.0519 - mean_squared_error: 0.0517 - mean_absolute_error: 0.2032 - val_loss: 0.0452 - val_mean_squared_error: 0.0450 - val_mean_absolute_error: 0.1899\n",
      "Epoch 9/17\n",
      "8000/8000 - 1s - loss: 0.0425 - mean_squared_error: 0.0423 - mean_absolute_error: 0.1822 - val_loss: 0.0365 - val_mean_squared_error: 0.0363 - val_mean_absolute_error: 0.1695\n",
      "Epoch 10/17\n",
      "8000/8000 - 1s - loss: 0.0347 - mean_squared_error: 0.0345 - mean_absolute_error: 0.1632 - val_loss: 0.0293 - val_mean_squared_error: 0.0290 - val_mean_absolute_error: 0.1517\n",
      "Epoch 11/17\n",
      "8000/8000 - 1s - loss: 0.0283 - mean_squared_error: 0.0280 - mean_absolute_error: 0.1464 - val_loss: 0.0235 - val_mean_squared_error: 0.0232 - val_mean_absolute_error: 0.1358\n",
      "Epoch 12/17\n",
      "8000/8000 - 1s - loss: 0.0231 - mean_squared_error: 0.0228 - mean_absolute_error: 0.1317 - val_loss: 0.0188 - val_mean_squared_error: 0.0185 - val_mean_absolute_error: 0.1211\n",
      "Epoch 13/17\n",
      "8000/8000 - 1s - loss: 0.0191 - mean_squared_error: 0.0188 - mean_absolute_error: 0.1189 - val_loss: 0.0152 - val_mean_squared_error: 0.0149 - val_mean_absolute_error: 0.1088\n",
      "Epoch 14/17\n",
      "8000/8000 - 1s - loss: 0.0158 - mean_squared_error: 0.0154 - mean_absolute_error: 0.1078 - val_loss: 0.0124 - val_mean_squared_error: 0.0120 - val_mean_absolute_error: 0.0977\n",
      "Epoch 15/17\n",
      "8000/8000 - 1s - loss: 0.0133 - mean_squared_error: 0.0129 - mean_absolute_error: 0.0983 - val_loss: 0.0101 - val_mean_squared_error: 0.0098 - val_mean_absolute_error: 0.0886\n",
      "Epoch 16/17\n",
      "8000/8000 - 1s - loss: 0.0112 - mean_squared_error: 0.0109 - mean_absolute_error: 0.0898 - val_loss: 0.0084 - val_mean_squared_error: 0.0081 - val_mean_absolute_error: 0.0807\n",
      "Epoch 17/17\n",
      "8000/8000 - 1s - loss: 0.0096 - mean_squared_error: 0.0093 - mean_absolute_error: 0.0825 - val_loss: 0.0071 - val_mean_squared_error: 0.0068 - val_mean_absolute_error: 0.0736\n"
     ]
    },
    {
     "data": {
      "text/html": [
       "<span style=\"color:#4527A0\"><h1 style=\"font-size:18px\">Trial complete</h1></span>"
      ],
      "text/plain": [
       "<IPython.core.display.HTML object>"
      ]
     },
     "metadata": {},
     "output_type": "display_data"
    },
    {
     "data": {
      "text/html": [
       "<span style=\"color:#4527A0\"><h1 style=\"font-size:18px\">Trial summary</h1></span>"
      ],
      "text/plain": [
       "<IPython.core.display.HTML object>"
      ]
     },
     "metadata": {},
     "output_type": "display_data"
    },
    {
     "data": {
      "text/html": [
       "<span style=\"color:cyan\"> |-Trial ID: afa635f9fb1096a9d53f7477dd1fe748</span>"
      ],
      "text/plain": [
       "<IPython.core.display.HTML object>"
      ]
     },
     "metadata": {},
     "output_type": "display_data"
    },
    {
     "data": {
      "text/html": [
       "<span style=\"color:cyan\"> |-Score: 0.0067660207860171795</span>"
      ],
      "text/plain": [
       "<IPython.core.display.HTML object>"
      ]
     },
     "metadata": {},
     "output_type": "display_data"
    },
    {
     "data": {
      "text/html": [
       "<span style=\"color:cyan\"> |-Best step: 0</span>"
      ],
      "text/plain": [
       "<IPython.core.display.HTML object>"
      ]
     },
     "metadata": {},
     "output_type": "display_data"
    },
    {
     "data": {
      "text/html": [
       "<span style=\"color:#7E57C2\"><h2 style=\"font-size:16px\">Hyperparameters:</h2></span>"
      ],
      "text/plain": [
       "<IPython.core.display.HTML object>"
      ]
     },
     "metadata": {},
     "output_type": "display_data"
    },
    {
     "data": {
      "text/html": [
       "<span style=\"color:cyan\"> |-hidden_units: 158</span>"
      ],
      "text/plain": [
       "<IPython.core.display.HTML object>"
      ]
     },
     "metadata": {},
     "output_type": "display_data"
    },
    {
     "data": {
      "text/html": [
       "<span style=\"color:blue\"> |-learning_rate: 0.0001</span>"
      ],
      "text/plain": [
       "<IPython.core.display.HTML object>"
      ]
     },
     "metadata": {},
     "output_type": "display_data"
    },
    {
     "data": {
      "text/html": [
       "<span style=\"color:cyan\"> |-tuner/bracket: 1</span>"
      ],
      "text/plain": [
       "<IPython.core.display.HTML object>"
      ]
     },
     "metadata": {},
     "output_type": "display_data"
    },
    {
     "data": {
      "text/html": [
       "<span style=\"color:blue\"> |-tuner/epochs: 17</span>"
      ],
      "text/plain": [
       "<IPython.core.display.HTML object>"
      ]
     },
     "metadata": {},
     "output_type": "display_data"
    },
    {
     "data": {
      "text/html": [
       "<span style=\"color:cyan\"> |-tuner/initial_epoch: 0</span>"
      ],
      "text/plain": [
       "<IPython.core.display.HTML object>"
      ]
     },
     "metadata": {},
     "output_type": "display_data"
    },
    {
     "data": {
      "text/html": [
       "<span style=\"color:blue\"> |-tuner/round: 0</span>"
      ],
      "text/plain": [
       "<IPython.core.display.HTML object>"
      ]
     },
     "metadata": {},
     "output_type": "display_data"
    },
    {
     "name": "stdout",
     "output_type": "stream",
     "text": [
      "Train on 8000 samples, validate on 2000 samples\n",
      "Epoch 1/17\n",
      "8000/8000 - 1s - loss: 0.1304 - mean_squared_error: 0.1303 - mean_absolute_error: 0.3246 - val_loss: 0.0598 - val_mean_squared_error: 0.0596 - val_mean_absolute_error: 0.2149\n",
      "Epoch 2/17\n",
      "8000/8000 - 1s - loss: 0.0353 - mean_squared_error: 0.0350 - mean_absolute_error: 0.1576 - val_loss: 0.0154 - val_mean_squared_error: 0.0151 - val_mean_absolute_error: 0.1068\n",
      "Epoch 3/17\n",
      "8000/8000 - 1s - loss: 0.0124 - mean_squared_error: 0.0120 - mean_absolute_error: 0.0904 - val_loss: 0.0058 - val_mean_squared_error: 0.0055 - val_mean_absolute_error: 0.0651\n",
      "Epoch 4/17\n",
      "8000/8000 - 1s - loss: 0.0071 - mean_squared_error: 0.0067 - mean_absolute_error: 0.0650 - val_loss: 0.0038 - val_mean_squared_error: 0.0033 - val_mean_absolute_error: 0.0489\n",
      "Epoch 5/17\n",
      "8000/8000 - 1s - loss: 0.0055 - mean_squared_error: 0.0050 - mean_absolute_error: 0.0535 - val_loss: 0.0028 - val_mean_squared_error: 0.0023 - val_mean_absolute_error: 0.0395\n",
      "Epoch 6/17\n",
      "8000/8000 - 1s - loss: 0.0049 - mean_squared_error: 0.0043 - mean_absolute_error: 0.0474 - val_loss: 0.0023 - val_mean_squared_error: 0.0018 - val_mean_absolute_error: 0.0340\n",
      "Epoch 7/17\n",
      "8000/8000 - 1s - loss: 0.0045 - mean_squared_error: 0.0039 - mean_absolute_error: 0.0431 - val_loss: 0.0020 - val_mean_squared_error: 0.0014 - val_mean_absolute_error: 0.0301\n",
      "Epoch 8/17\n",
      "8000/8000 - 1s - loss: 0.0042 - mean_squared_error: 0.0036 - mean_absolute_error: 0.0402 - val_loss: 0.0021 - val_mean_squared_error: 0.0015 - val_mean_absolute_error: 0.0289\n",
      "Epoch 9/17\n",
      "8000/8000 - 1s - loss: 0.0041 - mean_squared_error: 0.0035 - mean_absolute_error: 0.0383 - val_loss: 0.0017 - val_mean_squared_error: 0.0011 - val_mean_absolute_error: 0.0252\n",
      "Epoch 10/17\n",
      "8000/8000 - 1s - loss: 0.0041 - mean_squared_error: 0.0035 - mean_absolute_error: 0.0373 - val_loss: 0.0020 - val_mean_squared_error: 0.0014 - val_mean_absolute_error: 0.0265\n",
      "Epoch 11/17\n",
      "8000/8000 - 1s - loss: 0.0040 - mean_squared_error: 0.0034 - mean_absolute_error: 0.0361 - val_loss: 0.0021 - val_mean_squared_error: 0.0015 - val_mean_absolute_error: 0.0268\n",
      "Epoch 12/17\n",
      "8000/8000 - 1s - loss: 0.0040 - mean_squared_error: 0.0033 - mean_absolute_error: 0.0353 - val_loss: 0.0018 - val_mean_squared_error: 0.0012 - val_mean_absolute_error: 0.0245\n",
      "Epoch 13/17\n",
      "8000/8000 - 1s - loss: 0.0040 - mean_squared_error: 0.0033 - mean_absolute_error: 0.0349 - val_loss: 0.0018 - val_mean_squared_error: 0.0012 - val_mean_absolute_error: 0.0239\n",
      "Epoch 14/17\n",
      "8000/8000 - 1s - loss: 0.0039 - mean_squared_error: 0.0033 - mean_absolute_error: 0.0344 - val_loss: 0.0016 - val_mean_squared_error: 9.5134e-04 - val_mean_absolute_error: 0.0221\n",
      "Epoch 15/17\n",
      "8000/8000 - 1s - loss: 0.0040 - mean_squared_error: 0.0033 - mean_absolute_error: 0.0342 - val_loss: 0.0025 - val_mean_squared_error: 0.0019 - val_mean_absolute_error: 0.0278\n",
      "Epoch 16/17\n",
      "8000/8000 - 1s - loss: 0.0039 - mean_squared_error: 0.0032 - mean_absolute_error: 0.0338 - val_loss: 0.0019 - val_mean_squared_error: 0.0013 - val_mean_absolute_error: 0.0240\n",
      "Epoch 17/17\n",
      "8000/8000 - 1s - loss: 0.0039 - mean_squared_error: 0.0032 - mean_absolute_error: 0.0335 - val_loss: 0.0019 - val_mean_squared_error: 0.0013 - val_mean_absolute_error: 0.0239\n"
     ]
    },
    {
     "data": {
      "text/html": [
       "<span style=\"color:#4527A0\"><h1 style=\"font-size:18px\">Trial complete</h1></span>"
      ],
      "text/plain": [
       "<IPython.core.display.HTML object>"
      ]
     },
     "metadata": {},
     "output_type": "display_data"
    },
    {
     "data": {
      "text/html": [
       "<span style=\"color:#4527A0\"><h1 style=\"font-size:18px\">Trial summary</h1></span>"
      ],
      "text/plain": [
       "<IPython.core.display.HTML object>"
      ]
     },
     "metadata": {},
     "output_type": "display_data"
    },
    {
     "data": {
      "text/html": [
       "<span style=\"color:cyan\"> |-Trial ID: 113a7d4acae06985d95c83981b10866a</span>"
      ],
      "text/plain": [
       "<IPython.core.display.HTML object>"
      ]
     },
     "metadata": {},
     "output_type": "display_data"
    },
    {
     "data": {
      "text/html": [
       "<span style=\"color:cyan\"> |-Score: 0.0009513373952358961</span>"
      ],
      "text/plain": [
       "<IPython.core.display.HTML object>"
      ]
     },
     "metadata": {},
     "output_type": "display_data"
    },
    {
     "data": {
      "text/html": [
       "<span style=\"color:cyan\"> |-Best step: 0</span>"
      ],
      "text/plain": [
       "<IPython.core.display.HTML object>"
      ]
     },
     "metadata": {},
     "output_type": "display_data"
    },
    {
     "data": {
      "text/html": [
       "<span style=\"color:#7E57C2\"><h2 style=\"font-size:16px\">Hyperparameters:</h2></span>"
      ],
      "text/plain": [
       "<IPython.core.display.HTML object>"
      ]
     },
     "metadata": {},
     "output_type": "display_data"
    },
    {
     "data": {
      "text/html": [
       "<span style=\"color:cyan\"> |-hidden_units: 100</span>"
      ],
      "text/plain": [
       "<IPython.core.display.HTML object>"
      ]
     },
     "metadata": {},
     "output_type": "display_data"
    },
    {
     "data": {
      "text/html": [
       "<span style=\"color:blue\"> |-learning_rate: 0.001</span>"
      ],
      "text/plain": [
       "<IPython.core.display.HTML object>"
      ]
     },
     "metadata": {},
     "output_type": "display_data"
    },
    {
     "data": {
      "text/html": [
       "<span style=\"color:cyan\"> |-tuner/bracket: 1</span>"
      ],
      "text/plain": [
       "<IPython.core.display.HTML object>"
      ]
     },
     "metadata": {},
     "output_type": "display_data"
    },
    {
     "data": {
      "text/html": [
       "<span style=\"color:blue\"> |-tuner/epochs: 17</span>"
      ],
      "text/plain": [
       "<IPython.core.display.HTML object>"
      ]
     },
     "metadata": {},
     "output_type": "display_data"
    },
    {
     "data": {
      "text/html": [
       "<span style=\"color:cyan\"> |-tuner/initial_epoch: 0</span>"
      ],
      "text/plain": [
       "<IPython.core.display.HTML object>"
      ]
     },
     "metadata": {},
     "output_type": "display_data"
    },
    {
     "data": {
      "text/html": [
       "<span style=\"color:blue\"> |-tuner/round: 0</span>"
      ],
      "text/plain": [
       "<IPython.core.display.HTML object>"
      ]
     },
     "metadata": {},
     "output_type": "display_data"
    },
    {
     "name": "stdout",
     "output_type": "stream",
     "text": [
      "Train on 8000 samples, validate on 2000 samples\n",
      "Epoch 18/50\n",
      "8000/8000 - 1s - loss: 0.1219 - mean_squared_error: 0.1217 - mean_absolute_error: 0.3132 - val_loss: 0.0503 - val_mean_squared_error: 0.0500 - val_mean_absolute_error: 0.1962\n",
      "Epoch 19/50\n",
      "8000/8000 - 1s - loss: 0.0286 - mean_squared_error: 0.0283 - mean_absolute_error: 0.1416 - val_loss: 0.0117 - val_mean_squared_error: 0.0114 - val_mean_absolute_error: 0.0935\n",
      "Epoch 20/50\n",
      "8000/8000 - 1s - loss: 0.0099 - mean_squared_error: 0.0095 - mean_absolute_error: 0.0807 - val_loss: 0.0048 - val_mean_squared_error: 0.0043 - val_mean_absolute_error: 0.0583\n",
      "Epoch 21/50\n",
      "8000/8000 - 1s - loss: 0.0061 - mean_squared_error: 0.0056 - mean_absolute_error: 0.0593 - val_loss: 0.0035 - val_mean_squared_error: 0.0030 - val_mean_absolute_error: 0.0454\n",
      "Epoch 22/50\n",
      "8000/8000 - 1s - loss: 0.0048 - mean_squared_error: 0.0043 - mean_absolute_error: 0.0492 - val_loss: 0.0023 - val_mean_squared_error: 0.0018 - val_mean_absolute_error: 0.0356\n",
      "Epoch 23/50\n",
      "8000/8000 - 1s - loss: 0.0043 - mean_squared_error: 0.0038 - mean_absolute_error: 0.0437 - val_loss: 0.0020 - val_mean_squared_error: 0.0015 - val_mean_absolute_error: 0.0311\n",
      "Epoch 24/50\n",
      "8000/8000 - 1s - loss: 0.0040 - mean_squared_error: 0.0034 - mean_absolute_error: 0.0401 - val_loss: 0.0019 - val_mean_squared_error: 0.0013 - val_mean_absolute_error: 0.0283\n",
      "Epoch 25/50\n",
      "8000/8000 - 1s - loss: 0.0038 - mean_squared_error: 0.0032 - mean_absolute_error: 0.0375 - val_loss: 0.0020 - val_mean_squared_error: 0.0014 - val_mean_absolute_error: 0.0278\n",
      "Epoch 26/50\n",
      "8000/8000 - 1s - loss: 0.0037 - mean_squared_error: 0.0031 - mean_absolute_error: 0.0361 - val_loss: 0.0019 - val_mean_squared_error: 0.0013 - val_mean_absolute_error: 0.0262\n",
      "Epoch 27/50\n",
      "8000/8000 - 1s - loss: 0.0037 - mean_squared_error: 0.0030 - mean_absolute_error: 0.0348 - val_loss: 0.0016 - val_mean_squared_error: 9.8481e-04 - val_mean_absolute_error: 0.0235\n",
      "Epoch 28/50\n",
      "8000/8000 - 1s - loss: 0.0036 - mean_squared_error: 0.0030 - mean_absolute_error: 0.0340 - val_loss: 0.0020 - val_mean_squared_error: 0.0014 - val_mean_absolute_error: 0.0257\n",
      "Epoch 29/50\n",
      "8000/8000 - 1s - loss: 0.0036 - mean_squared_error: 0.0030 - mean_absolute_error: 0.0335 - val_loss: 0.0017 - val_mean_squared_error: 0.0011 - val_mean_absolute_error: 0.0234\n",
      "Epoch 30/50\n",
      "8000/8000 - 1s - loss: 0.0036 - mean_squared_error: 0.0029 - mean_absolute_error: 0.0330 - val_loss: 0.0018 - val_mean_squared_error: 0.0011 - val_mean_absolute_error: 0.0235\n",
      "Epoch 31/50\n",
      "8000/8000 - 1s - loss: 0.0036 - mean_squared_error: 0.0030 - mean_absolute_error: 0.0327 - val_loss: 0.0014 - val_mean_squared_error: 7.5278e-04 - val_mean_absolute_error: 0.0203\n",
      "Epoch 32/50\n",
      "8000/8000 - 1s - loss: 0.0035 - mean_squared_error: 0.0029 - mean_absolute_error: 0.0322 - val_loss: 0.0018 - val_mean_squared_error: 0.0011 - val_mean_absolute_error: 0.0229\n",
      "Epoch 33/50\n",
      "8000/8000 - 1s - loss: 0.0035 - mean_squared_error: 0.0029 - mean_absolute_error: 0.0320 - val_loss: 0.0022 - val_mean_squared_error: 0.0015 - val_mean_absolute_error: 0.0257\n",
      "Epoch 34/50\n",
      "8000/8000 - 1s - loss: 0.0035 - mean_squared_error: 0.0029 - mean_absolute_error: 0.0320 - val_loss: 0.0021 - val_mean_squared_error: 0.0014 - val_mean_absolute_error: 0.0248\n",
      "Epoch 35/50\n",
      "8000/8000 - 1s - loss: 0.0035 - mean_squared_error: 0.0029 - mean_absolute_error: 0.0319 - val_loss: 0.0016 - val_mean_squared_error: 9.1607e-04 - val_mean_absolute_error: 0.0212\n",
      "Epoch 36/50\n",
      "8000/8000 - 1s - loss: 0.0036 - mean_squared_error: 0.0029 - mean_absolute_error: 0.0319 - val_loss: 0.0016 - val_mean_squared_error: 9.4935e-04 - val_mean_absolute_error: 0.0215\n"
     ]
    },
    {
     "data": {
      "text/html": [
       "<span style=\"color:#4527A0\"><h1 style=\"font-size:18px\">Trial complete</h1></span>"
      ],
      "text/plain": [
       "<IPython.core.display.HTML object>"
      ]
     },
     "metadata": {},
     "output_type": "display_data"
    },
    {
     "data": {
      "text/html": [
       "<span style=\"color:#4527A0\"><h1 style=\"font-size:18px\">Trial summary</h1></span>"
      ],
      "text/plain": [
       "<IPython.core.display.HTML object>"
      ]
     },
     "metadata": {},
     "output_type": "display_data"
    },
    {
     "data": {
      "text/html": [
       "<span style=\"color:cyan\"> |-Trial ID: d14a818fb53f4a502c58c54145151975</span>"
      ],
      "text/plain": [
       "<IPython.core.display.HTML object>"
      ]
     },
     "metadata": {},
     "output_type": "display_data"
    },
    {
     "data": {
      "text/html": [
       "<span style=\"color:cyan\"> |-Score: 0.0007527795969508588</span>"
      ],
      "text/plain": [
       "<IPython.core.display.HTML object>"
      ]
     },
     "metadata": {},
     "output_type": "display_data"
    },
    {
     "data": {
      "text/html": [
       "<span style=\"color:cyan\"> |-Best step: 0</span>"
      ],
      "text/plain": [
       "<IPython.core.display.HTML object>"
      ]
     },
     "metadata": {},
     "output_type": "display_data"
    },
    {
     "data": {
      "text/html": [
       "<span style=\"color:#7E57C2\"><h2 style=\"font-size:16px\">Hyperparameters:</h2></span>"
      ],
      "text/plain": [
       "<IPython.core.display.HTML object>"
      ]
     },
     "metadata": {},
     "output_type": "display_data"
    },
    {
     "data": {
      "text/html": [
       "<span style=\"color:cyan\"> |-hidden_units: 114</span>"
      ],
      "text/plain": [
       "<IPython.core.display.HTML object>"
      ]
     },
     "metadata": {},
     "output_type": "display_data"
    },
    {
     "data": {
      "text/html": [
       "<span style=\"color:blue\"> |-learning_rate: 0.001</span>"
      ],
      "text/plain": [
       "<IPython.core.display.HTML object>"
      ]
     },
     "metadata": {},
     "output_type": "display_data"
    },
    {
     "data": {
      "text/html": [
       "<span style=\"color:cyan\"> |-tuner/bracket: 1</span>"
      ],
      "text/plain": [
       "<IPython.core.display.HTML object>"
      ]
     },
     "metadata": {},
     "output_type": "display_data"
    },
    {
     "data": {
      "text/html": [
       "<span style=\"color:blue\"> |-tuner/epochs: 50</span>"
      ],
      "text/plain": [
       "<IPython.core.display.HTML object>"
      ]
     },
     "metadata": {},
     "output_type": "display_data"
    },
    {
     "data": {
      "text/html": [
       "<span style=\"color:cyan\"> |-tuner/initial_epoch: 17</span>"
      ],
      "text/plain": [
       "<IPython.core.display.HTML object>"
      ]
     },
     "metadata": {},
     "output_type": "display_data"
    },
    {
     "data": {
      "text/html": [
       "<span style=\"color:blue\"> |-tuner/round: 1</span>"
      ],
      "text/plain": [
       "<IPython.core.display.HTML object>"
      ]
     },
     "metadata": {},
     "output_type": "display_data"
    },
    {
     "data": {
      "text/html": [
       "<span style=\"color:cyan\"> |-tuner/trial_id: 8a99076a4ef2adcc305cd094eff7bbb9</span>"
      ],
      "text/plain": [
       "<IPython.core.display.HTML object>"
      ]
     },
     "metadata": {},
     "output_type": "display_data"
    },
    {
     "name": "stdout",
     "output_type": "stream",
     "text": [
      "Train on 8000 samples, validate on 2000 samples\n",
      "Epoch 18/50\n",
      "8000/8000 - 2s - loss: 0.1275 - mean_squared_error: 0.1273 - mean_absolute_error: 0.3213 - val_loss: 0.0565 - val_mean_squared_error: 0.0563 - val_mean_absolute_error: 0.2096\n",
      "Epoch 19/50\n",
      "8000/8000 - 1s - loss: 0.0329 - mean_squared_error: 0.0327 - mean_absolute_error: 0.1523 - val_loss: 0.0141 - val_mean_squared_error: 0.0138 - val_mean_absolute_error: 0.1028\n",
      "Epoch 20/50\n",
      "8000/8000 - 1s - loss: 0.0115 - mean_squared_error: 0.0112 - mean_absolute_error: 0.0873 - val_loss: 0.0055 - val_mean_squared_error: 0.0051 - val_mean_absolute_error: 0.0632\n",
      "Epoch 21/50\n",
      "8000/8000 - 1s - loss: 0.0069 - mean_squared_error: 0.0064 - mean_absolute_error: 0.0635 - val_loss: 0.0037 - val_mean_squared_error: 0.0033 - val_mean_absolute_error: 0.0480\n",
      "Epoch 22/50\n",
      "8000/8000 - 1s - loss: 0.0053 - mean_squared_error: 0.0048 - mean_absolute_error: 0.0523 - val_loss: 0.0026 - val_mean_squared_error: 0.0021 - val_mean_absolute_error: 0.0385\n",
      "Epoch 23/50\n",
      "8000/8000 - 1s - loss: 0.0047 - mean_squared_error: 0.0042 - mean_absolute_error: 0.0465 - val_loss: 0.0022 - val_mean_squared_error: 0.0016 - val_mean_absolute_error: 0.0329\n",
      "Epoch 24/50\n",
      "8000/8000 - 1s - loss: 0.0044 - mean_squared_error: 0.0039 - mean_absolute_error: 0.0427 - val_loss: 0.0022 - val_mean_squared_error: 0.0016 - val_mean_absolute_error: 0.0308\n",
      "Epoch 25/50\n",
      "8000/8000 - 1s - loss: 0.0042 - mean_squared_error: 0.0036 - mean_absolute_error: 0.0397 - val_loss: 0.0021 - val_mean_squared_error: 0.0016 - val_mean_absolute_error: 0.0291\n",
      "Epoch 26/50\n",
      "8000/8000 - 1s - loss: 0.0041 - mean_squared_error: 0.0035 - mean_absolute_error: 0.0382 - val_loss: 0.0017 - val_mean_squared_error: 0.0011 - val_mean_absolute_error: 0.0253\n",
      "Epoch 27/50\n",
      "8000/8000 - 1s - loss: 0.0040 - mean_squared_error: 0.0034 - mean_absolute_error: 0.0369 - val_loss: 0.0018 - val_mean_squared_error: 0.0012 - val_mean_absolute_error: 0.0252\n",
      "Epoch 28/50\n",
      "8000/8000 - 1s - loss: 0.0040 - mean_squared_error: 0.0034 - mean_absolute_error: 0.0360 - val_loss: 0.0018 - val_mean_squared_error: 0.0012 - val_mean_absolute_error: 0.0249\n",
      "Epoch 29/50\n",
      "8000/8000 - 1s - loss: 0.0039 - mean_squared_error: 0.0032 - mean_absolute_error: 0.0348 - val_loss: 0.0018 - val_mean_squared_error: 0.0012 - val_mean_absolute_error: 0.0241\n",
      "Epoch 30/50\n",
      "8000/8000 - 1s - loss: 0.0039 - mean_squared_error: 0.0033 - mean_absolute_error: 0.0347 - val_loss: 0.0018 - val_mean_squared_error: 0.0012 - val_mean_absolute_error: 0.0239\n",
      "Epoch 31/50\n",
      "8000/8000 - 1s - loss: 0.0039 - mean_squared_error: 0.0033 - mean_absolute_error: 0.0343 - val_loss: 0.0017 - val_mean_squared_error: 0.0011 - val_mean_absolute_error: 0.0231\n"
     ]
    },
    {
     "data": {
      "text/html": [
       "<span style=\"color:#4527A0\"><h1 style=\"font-size:18px\">Trial complete</h1></span>"
      ],
      "text/plain": [
       "<IPython.core.display.HTML object>"
      ]
     },
     "metadata": {},
     "output_type": "display_data"
    },
    {
     "data": {
      "text/html": [
       "<span style=\"color:#4527A0\"><h1 style=\"font-size:18px\">Trial summary</h1></span>"
      ],
      "text/plain": [
       "<IPython.core.display.HTML object>"
      ]
     },
     "metadata": {},
     "output_type": "display_data"
    },
    {
     "data": {
      "text/html": [
       "<span style=\"color:cyan\"> |-Trial ID: 3c5814ae839d7fa9d77b78d9b441843e</span>"
      ],
      "text/plain": [
       "<IPython.core.display.HTML object>"
      ]
     },
     "metadata": {},
     "output_type": "display_data"
    },
    {
     "data": {
      "text/html": [
       "<span style=\"color:cyan\"> |-Score: 0.0010768797947093844</span>"
      ],
      "text/plain": [
       "<IPython.core.display.HTML object>"
      ]
     },
     "metadata": {},
     "output_type": "display_data"
    },
    {
     "data": {
      "text/html": [
       "<span style=\"color:cyan\"> |-Best step: 0</span>"
      ],
      "text/plain": [
       "<IPython.core.display.HTML object>"
      ]
     },
     "metadata": {},
     "output_type": "display_data"
    },
    {
     "data": {
      "text/html": [
       "<span style=\"color:#7E57C2\"><h2 style=\"font-size:16px\">Hyperparameters:</h2></span>"
      ],
      "text/plain": [
       "<IPython.core.display.HTML object>"
      ]
     },
     "metadata": {},
     "output_type": "display_data"
    },
    {
     "data": {
      "text/html": [
       "<span style=\"color:cyan\"> |-hidden_units: 100</span>"
      ],
      "text/plain": [
       "<IPython.core.display.HTML object>"
      ]
     },
     "metadata": {},
     "output_type": "display_data"
    },
    {
     "data": {
      "text/html": [
       "<span style=\"color:blue\"> |-learning_rate: 0.001</span>"
      ],
      "text/plain": [
       "<IPython.core.display.HTML object>"
      ]
     },
     "metadata": {},
     "output_type": "display_data"
    },
    {
     "data": {
      "text/html": [
       "<span style=\"color:cyan\"> |-tuner/bracket: 1</span>"
      ],
      "text/plain": [
       "<IPython.core.display.HTML object>"
      ]
     },
     "metadata": {},
     "output_type": "display_data"
    },
    {
     "data": {
      "text/html": [
       "<span style=\"color:blue\"> |-tuner/epochs: 50</span>"
      ],
      "text/plain": [
       "<IPython.core.display.HTML object>"
      ]
     },
     "metadata": {},
     "output_type": "display_data"
    },
    {
     "data": {
      "text/html": [
       "<span style=\"color:cyan\"> |-tuner/initial_epoch: 17</span>"
      ],
      "text/plain": [
       "<IPython.core.display.HTML object>"
      ]
     },
     "metadata": {},
     "output_type": "display_data"
    },
    {
     "data": {
      "text/html": [
       "<span style=\"color:blue\"> |-tuner/round: 1</span>"
      ],
      "text/plain": [
       "<IPython.core.display.HTML object>"
      ]
     },
     "metadata": {},
     "output_type": "display_data"
    },
    {
     "data": {
      "text/html": [
       "<span style=\"color:cyan\"> |-tuner/trial_id: 113a7d4acae06985d95c83981b10866a</span>"
      ],
      "text/plain": [
       "<IPython.core.display.HTML object>"
      ]
     },
     "metadata": {},
     "output_type": "display_data"
    },
    {
     "name": "stdout",
     "output_type": "stream",
     "text": [
      "Train on 8000 samples, validate on 2000 samples\n",
      "Epoch 18/50\n",
      "8000/8000 - 2s - loss: 0.0219 - mean_squared_error: 0.0215 - mean_absolute_error: 0.0886 - val_loss: 0.0026 - val_mean_squared_error: 0.0020 - val_mean_absolute_error: 0.0299\n",
      "Epoch 19/50\n",
      "8000/8000 - 1s - loss: 0.0045 - mean_squared_error: 0.0038 - mean_absolute_error: 0.0370 - val_loss: 0.0026 - val_mean_squared_error: 0.0019 - val_mean_absolute_error: 0.0268\n",
      "Epoch 20/50\n",
      "8000/8000 - 1s - loss: 0.0048 - mean_squared_error: 0.0041 - mean_absolute_error: 0.0364 - val_loss: 0.0042 - val_mean_squared_error: 0.0035 - val_mean_absolute_error: 0.0338\n",
      "Epoch 21/50\n",
      "8000/8000 - 1s - loss: 0.0051 - mean_squared_error: 0.0044 - mean_absolute_error: 0.0369 - val_loss: 0.0037 - val_mean_squared_error: 0.0030 - val_mean_absolute_error: 0.0307\n",
      "Epoch 22/50\n",
      "8000/8000 - 1s - loss: 0.0051 - mean_squared_error: 0.0044 - mean_absolute_error: 0.0366 - val_loss: 0.0035 - val_mean_squared_error: 0.0028 - val_mean_absolute_error: 0.0294\n",
      "Epoch 23/50\n",
      "8000/8000 - 1s - loss: 0.0051 - mean_squared_error: 0.0044 - mean_absolute_error: 0.0363 - val_loss: 0.0041 - val_mean_squared_error: 0.0034 - val_mean_absolute_error: 0.0324\n",
      "Epoch 24/50\n",
      "8000/8000 - 1s - loss: 0.0052 - mean_squared_error: 0.0045 - mean_absolute_error: 0.0365 - val_loss: 0.0034 - val_mean_squared_error: 0.0027 - val_mean_absolute_error: 0.0288\n"
     ]
    },
    {
     "data": {
      "text/html": [
       "<span style=\"color:#4527A0\"><h1 style=\"font-size:18px\">Trial complete</h1></span>"
      ],
      "text/plain": [
       "<IPython.core.display.HTML object>"
      ]
     },
     "metadata": {},
     "output_type": "display_data"
    },
    {
     "data": {
      "text/html": [
       "<span style=\"color:#4527A0\"><h1 style=\"font-size:18px\">Trial summary</h1></span>"
      ],
      "text/plain": [
       "<IPython.core.display.HTML object>"
      ]
     },
     "metadata": {},
     "output_type": "display_data"
    },
    {
     "data": {
      "text/html": [
       "<span style=\"color:cyan\"> |-Trial ID: 96f51dae9d8eeb063d38be7dfca047dc</span>"
      ],
      "text/plain": [
       "<IPython.core.display.HTML object>"
      ]
     },
     "metadata": {},
     "output_type": "display_data"
    },
    {
     "data": {
      "text/html": [
       "<span style=\"color:cyan\"> |-Score: 0.0018697938648983836</span>"
      ],
      "text/plain": [
       "<IPython.core.display.HTML object>"
      ]
     },
     "metadata": {},
     "output_type": "display_data"
    },
    {
     "data": {
      "text/html": [
       "<span style=\"color:cyan\"> |-Best step: 0</span>"
      ],
      "text/plain": [
       "<IPython.core.display.HTML object>"
      ]
     },
     "metadata": {},
     "output_type": "display_data"
    },
    {
     "data": {
      "text/html": [
       "<span style=\"color:#7E57C2\"><h2 style=\"font-size:16px\">Hyperparameters:</h2></span>"
      ],
      "text/plain": [
       "<IPython.core.display.HTML object>"
      ]
     },
     "metadata": {},
     "output_type": "display_data"
    },
    {
     "data": {
      "text/html": [
       "<span style=\"color:cyan\"> |-hidden_units: 112</span>"
      ],
      "text/plain": [
       "<IPython.core.display.HTML object>"
      ]
     },
     "metadata": {},
     "output_type": "display_data"
    },
    {
     "data": {
      "text/html": [
       "<span style=\"color:blue\"> |-learning_rate: 0.01</span>"
      ],
      "text/plain": [
       "<IPython.core.display.HTML object>"
      ]
     },
     "metadata": {},
     "output_type": "display_data"
    },
    {
     "data": {
      "text/html": [
       "<span style=\"color:cyan\"> |-tuner/bracket: 1</span>"
      ],
      "text/plain": [
       "<IPython.core.display.HTML object>"
      ]
     },
     "metadata": {},
     "output_type": "display_data"
    },
    {
     "data": {
      "text/html": [
       "<span style=\"color:blue\"> |-tuner/epochs: 50</span>"
      ],
      "text/plain": [
       "<IPython.core.display.HTML object>"
      ]
     },
     "metadata": {},
     "output_type": "display_data"
    },
    {
     "data": {
      "text/html": [
       "<span style=\"color:cyan\"> |-tuner/initial_epoch: 17</span>"
      ],
      "text/plain": [
       "<IPython.core.display.HTML object>"
      ]
     },
     "metadata": {},
     "output_type": "display_data"
    },
    {
     "data": {
      "text/html": [
       "<span style=\"color:blue\"> |-tuner/round: 1</span>"
      ],
      "text/plain": [
       "<IPython.core.display.HTML object>"
      ]
     },
     "metadata": {},
     "output_type": "display_data"
    },
    {
     "data": {
      "text/html": [
       "<span style=\"color:cyan\"> |-tuner/trial_id: b75410e705ea5c999cf16eeba546ade0</span>"
      ],
      "text/plain": [
       "<IPython.core.display.HTML object>"
      ]
     },
     "metadata": {},
     "output_type": "display_data"
    },
    {
     "name": "stdout",
     "output_type": "stream",
     "text": [
      "Train on 8000 samples, validate on 2000 samples\n",
      "Epoch 1/50\n",
      "8000/8000 - 1s - loss: 0.2189 - mean_squared_error: 0.2188 - mean_absolute_error: 0.4387 - val_loss: 0.2056 - val_mean_squared_error: 0.2055 - val_mean_absolute_error: 0.4255\n",
      "Epoch 2/50\n",
      "8000/8000 - 1s - loss: 0.1993 - mean_squared_error: 0.1992 - mean_absolute_error: 0.4160 - val_loss: 0.1912 - val_mean_squared_error: 0.1911 - val_mean_absolute_error: 0.4072\n",
      "Epoch 3/50\n",
      "8000/8000 - 1s - loss: 0.1858 - mean_squared_error: 0.1858 - mean_absolute_error: 0.3996 - val_loss: 0.1784 - val_mean_squared_error: 0.1783 - val_mean_absolute_error: 0.3925\n",
      "Epoch 4/50\n",
      "8000/8000 - 1s - loss: 0.1731 - mean_squared_error: 0.1730 - mean_absolute_error: 0.3851 - val_loss: 0.1656 - val_mean_squared_error: 0.1655 - val_mean_absolute_error: 0.3772\n",
      "Epoch 5/50\n",
      "8000/8000 - 1s - loss: 0.1602 - mean_squared_error: 0.1601 - mean_absolute_error: 0.3700 - val_loss: 0.1527 - val_mean_squared_error: 0.1526 - val_mean_absolute_error: 0.3618\n",
      "Epoch 6/50\n",
      "8000/8000 - 1s - loss: 0.1474 - mean_squared_error: 0.1473 - mean_absolute_error: 0.3541 - val_loss: 0.1400 - val_mean_squared_error: 0.1399 - val_mean_absolute_error: 0.3457\n",
      "Epoch 7/50\n",
      "8000/8000 - 1s - loss: 0.1350 - mean_squared_error: 0.1349 - mean_absolute_error: 0.3376 - val_loss: 0.1280 - val_mean_squared_error: 0.1279 - val_mean_absolute_error: 0.3291\n",
      "Epoch 8/50\n",
      "8000/8000 - 1s - loss: 0.1233 - mean_squared_error: 0.1232 - mean_absolute_error: 0.3205 - val_loss: 0.1172 - val_mean_squared_error: 0.1171 - val_mean_absolute_error: 0.3130\n",
      "Epoch 9/50\n",
      "8000/8000 - 1s - loss: 0.1133 - mean_squared_error: 0.1132 - mean_absolute_error: 0.3047 - val_loss: 0.1078 - val_mean_squared_error: 0.1077 - val_mean_absolute_error: 0.2969\n",
      "Epoch 10/50\n",
      "8000/8000 - 1s - loss: 0.1047 - mean_squared_error: 0.1045 - mean_absolute_error: 0.2896 - val_loss: 0.0996 - val_mean_squared_error: 0.0995 - val_mean_absolute_error: 0.2830\n",
      "Epoch 11/50\n",
      "8000/8000 - 1s - loss: 0.0971 - mean_squared_error: 0.0970 - mean_absolute_error: 0.2758 - val_loss: 0.0925 - val_mean_squared_error: 0.0924 - val_mean_absolute_error: 0.2702\n",
      "Epoch 12/50\n",
      "8000/8000 - 1s - loss: 0.0905 - mean_squared_error: 0.0904 - mean_absolute_error: 0.2632 - val_loss: 0.0862 - val_mean_squared_error: 0.0861 - val_mean_absolute_error: 0.2567\n",
      "Epoch 13/50\n",
      "8000/8000 - 1s - loss: 0.0849 - mean_squared_error: 0.0847 - mean_absolute_error: 0.2518 - val_loss: 0.0804 - val_mean_squared_error: 0.0802 - val_mean_absolute_error: 0.2466\n",
      "Epoch 14/50\n",
      "8000/8000 - 1s - loss: 0.0793 - mean_squared_error: 0.0792 - mean_absolute_error: 0.2411 - val_loss: 0.0750 - val_mean_squared_error: 0.0748 - val_mean_absolute_error: 0.2351\n",
      "Epoch 15/50\n",
      "8000/8000 - 1s - loss: 0.0744 - mean_squared_error: 0.0742 - mean_absolute_error: 0.2310 - val_loss: 0.0699 - val_mean_squared_error: 0.0697 - val_mean_absolute_error: 0.2258\n",
      "Epoch 16/50\n",
      "8000/8000 - 1s - loss: 0.0696 - mean_squared_error: 0.0695 - mean_absolute_error: 0.2217 - val_loss: 0.0650 - val_mean_squared_error: 0.0648 - val_mean_absolute_error: 0.2160\n",
      "Epoch 17/50\n",
      "8000/8000 - 1s - loss: 0.0652 - mean_squared_error: 0.0650 - mean_absolute_error: 0.2125 - val_loss: 0.0604 - val_mean_squared_error: 0.0602 - val_mean_absolute_error: 0.2070\n",
      "Epoch 18/50\n",
      "8000/8000 - 1s - loss: 0.0612 - mean_squared_error: 0.0611 - mean_absolute_error: 0.2044 - val_loss: 0.0560 - val_mean_squared_error: 0.0558 - val_mean_absolute_error: 0.1977\n",
      "Epoch 19/50\n",
      "8000/8000 - 1s - loss: 0.0572 - mean_squared_error: 0.0570 - mean_absolute_error: 0.1961 - val_loss: 0.0518 - val_mean_squared_error: 0.0516 - val_mean_absolute_error: 0.1891\n",
      "Epoch 20/50\n",
      "8000/8000 - 1s - loss: 0.0535 - mean_squared_error: 0.0532 - mean_absolute_error: 0.1881 - val_loss: 0.0477 - val_mean_squared_error: 0.0475 - val_mean_absolute_error: 0.1807\n",
      "Epoch 21/50\n",
      "8000/8000 - 1s - loss: 0.0500 - mean_squared_error: 0.0498 - mean_absolute_error: 0.1806 - val_loss: 0.0439 - val_mean_squared_error: 0.0437 - val_mean_absolute_error: 0.1729\n",
      "Epoch 22/50\n",
      "8000/8000 - 0s - loss: 0.0464 - mean_squared_error: 0.0462 - mean_absolute_error: 0.1731 - val_loss: 0.0403 - val_mean_squared_error: 0.0401 - val_mean_absolute_error: 0.1646\n",
      "Epoch 23/50\n",
      "8000/8000 - 0s - loss: 0.0435 - mean_squared_error: 0.0433 - mean_absolute_error: 0.1663 - val_loss: 0.0369 - val_mean_squared_error: 0.0367 - val_mean_absolute_error: 0.1574\n",
      "Epoch 24/50\n",
      "8000/8000 - 0s - loss: 0.0405 - mean_squared_error: 0.0402 - mean_absolute_error: 0.1595 - val_loss: 0.0337 - val_mean_squared_error: 0.0335 - val_mean_absolute_error: 0.1498\n",
      "Epoch 25/50\n",
      "8000/8000 - 1s - loss: 0.0374 - mean_squared_error: 0.0371 - mean_absolute_error: 0.1521 - val_loss: 0.0308 - val_mean_squared_error: 0.0305 - val_mean_absolute_error: 0.1427\n",
      "Epoch 26/50\n",
      "8000/8000 - 1s - loss: 0.0350 - mean_squared_error: 0.0347 - mean_absolute_error: 0.1463 - val_loss: 0.0280 - val_mean_squared_error: 0.0277 - val_mean_absolute_error: 0.1361\n",
      "Epoch 27/50\n",
      "8000/8000 - 1s - loss: 0.0327 - mean_squared_error: 0.0324 - mean_absolute_error: 0.1405 - val_loss: 0.0254 - val_mean_squared_error: 0.0251 - val_mean_absolute_error: 0.1294\n",
      "Epoch 28/50\n",
      "8000/8000 - 1s - loss: 0.0305 - mean_squared_error: 0.0302 - mean_absolute_error: 0.1351 - val_loss: 0.0230 - val_mean_squared_error: 0.0227 - val_mean_absolute_error: 0.1231\n",
      "Epoch 29/50\n",
      "8000/8000 - 1s - loss: 0.0284 - mean_squared_error: 0.0281 - mean_absolute_error: 0.1296 - val_loss: 0.0209 - val_mean_squared_error: 0.0206 - val_mean_absolute_error: 0.1169\n",
      "Epoch 30/50\n",
      "8000/8000 - 1s - loss: 0.0263 - mean_squared_error: 0.0260 - mean_absolute_error: 0.1239 - val_loss: 0.0189 - val_mean_squared_error: 0.0186 - val_mean_absolute_error: 0.1114\n",
      "Epoch 31/50\n",
      "8000/8000 - 1s - loss: 0.0248 - mean_squared_error: 0.0245 - mean_absolute_error: 0.1196 - val_loss: 0.0171 - val_mean_squared_error: 0.0168 - val_mean_absolute_error: 0.1059\n",
      "Epoch 32/50\n",
      "8000/8000 - 1s - loss: 0.0230 - mean_squared_error: 0.0227 - mean_absolute_error: 0.1147 - val_loss: 0.0154 - val_mean_squared_error: 0.0151 - val_mean_absolute_error: 0.1010\n",
      "Epoch 33/50\n",
      "8000/8000 - 1s - loss: 0.0217 - mean_squared_error: 0.0214 - mean_absolute_error: 0.1106 - val_loss: 0.0140 - val_mean_squared_error: 0.0137 - val_mean_absolute_error: 0.0961\n",
      "Epoch 34/50\n",
      "8000/8000 - 1s - loss: 0.0203 - mean_squared_error: 0.0200 - mean_absolute_error: 0.1062 - val_loss: 0.0127 - val_mean_squared_error: 0.0124 - val_mean_absolute_error: 0.0915\n",
      "Epoch 35/50\n",
      "8000/8000 - 1s - loss: 0.0193 - mean_squared_error: 0.0190 - mean_absolute_error: 0.1030 - val_loss: 0.0116 - val_mean_squared_error: 0.0112 - val_mean_absolute_error: 0.0873\n",
      "Epoch 36/50\n",
      "8000/8000 - 0s - loss: 0.0181 - mean_squared_error: 0.0177 - mean_absolute_error: 0.0990 - val_loss: 0.0105 - val_mean_squared_error: 0.0102 - val_mean_absolute_error: 0.0834\n",
      "Epoch 37/50\n",
      "8000/8000 - 1s - loss: 0.0172 - mean_squared_error: 0.0168 - mean_absolute_error: 0.0957 - val_loss: 0.0096 - val_mean_squared_error: 0.0093 - val_mean_absolute_error: 0.0797\n",
      "Epoch 38/50\n",
      "8000/8000 - 1s - loss: 0.0162 - mean_squared_error: 0.0159 - mean_absolute_error: 0.0926 - val_loss: 0.0089 - val_mean_squared_error: 0.0085 - val_mean_absolute_error: 0.0763\n",
      "Epoch 39/50\n",
      "8000/8000 - 0s - loss: 0.0155 - mean_squared_error: 0.0151 - mean_absolute_error: 0.0897 - val_loss: 0.0082 - val_mean_squared_error: 0.0078 - val_mean_absolute_error: 0.0732\n",
      "Epoch 40/50\n",
      "8000/8000 - 1s - loss: 0.0149 - mean_squared_error: 0.0146 - mean_absolute_error: 0.0872 - val_loss: 0.0076 - val_mean_squared_error: 0.0072 - val_mean_absolute_error: 0.0703\n",
      "Epoch 41/50\n",
      "8000/8000 - 1s - loss: 0.0142 - mean_squared_error: 0.0138 - mean_absolute_error: 0.0848 - val_loss: 0.0070 - val_mean_squared_error: 0.0066 - val_mean_absolute_error: 0.0675\n",
      "Epoch 42/50\n",
      "8000/8000 - 0s - loss: 0.0137 - mean_squared_error: 0.0133 - mean_absolute_error: 0.0824 - val_loss: 0.0067 - val_mean_squared_error: 0.0062 - val_mean_absolute_error: 0.0652\n",
      "Epoch 43/50\n",
      "8000/8000 - 1s - loss: 0.0133 - mean_squared_error: 0.0129 - mean_absolute_error: 0.0804 - val_loss: 0.0062 - val_mean_squared_error: 0.0058 - val_mean_absolute_error: 0.0627\n",
      "Epoch 44/50\n",
      "8000/8000 - 1s - loss: 0.0128 - mean_squared_error: 0.0124 - mean_absolute_error: 0.0786 - val_loss: 0.0058 - val_mean_squared_error: 0.0054 - val_mean_absolute_error: 0.0606\n"
     ]
    },
    {
     "name": "stdout",
     "output_type": "stream",
     "text": [
      "Epoch 45/50\n",
      "8000/8000 - 1s - loss: 0.0123 - mean_squared_error: 0.0119 - mean_absolute_error: 0.0764 - val_loss: 0.0055 - val_mean_squared_error: 0.0051 - val_mean_absolute_error: 0.0586\n",
      "Epoch 46/50\n",
      "8000/8000 - 0s - loss: 0.0119 - mean_squared_error: 0.0115 - mean_absolute_error: 0.0747 - val_loss: 0.0052 - val_mean_squared_error: 0.0048 - val_mean_absolute_error: 0.0567\n",
      "Epoch 47/50\n",
      "8000/8000 - 1s - loss: 0.0116 - mean_squared_error: 0.0112 - mean_absolute_error: 0.0732 - val_loss: 0.0050 - val_mean_squared_error: 0.0045 - val_mean_absolute_error: 0.0551\n",
      "Epoch 48/50\n",
      "8000/8000 - 1s - loss: 0.0114 - mean_squared_error: 0.0110 - mean_absolute_error: 0.0721 - val_loss: 0.0048 - val_mean_squared_error: 0.0044 - val_mean_absolute_error: 0.0538\n",
      "Epoch 49/50\n",
      "8000/8000 - 1s - loss: 0.0109 - mean_squared_error: 0.0105 - mean_absolute_error: 0.0699 - val_loss: 0.0046 - val_mean_squared_error: 0.0041 - val_mean_absolute_error: 0.0521\n",
      "Epoch 50/50\n",
      "8000/8000 - 1s - loss: 0.0107 - mean_squared_error: 0.0103 - mean_absolute_error: 0.0688 - val_loss: 0.0045 - val_mean_squared_error: 0.0040 - val_mean_absolute_error: 0.0510\n"
     ]
    },
    {
     "data": {
      "text/html": [
       "<span style=\"color:#4527A0\"><h1 style=\"font-size:18px\">Trial complete</h1></span>"
      ],
      "text/plain": [
       "<IPython.core.display.HTML object>"
      ]
     },
     "metadata": {},
     "output_type": "display_data"
    },
    {
     "data": {
      "text/html": [
       "<span style=\"color:#4527A0\"><h1 style=\"font-size:18px\">Trial summary</h1></span>"
      ],
      "text/plain": [
       "<IPython.core.display.HTML object>"
      ]
     },
     "metadata": {},
     "output_type": "display_data"
    },
    {
     "data": {
      "text/html": [
       "<span style=\"color:cyan\"> |-Trial ID: 4cecb2864beb94b68d1cafbba99b0ed5</span>"
      ],
      "text/plain": [
       "<IPython.core.display.HTML object>"
      ]
     },
     "metadata": {},
     "output_type": "display_data"
    },
    {
     "data": {
      "text/html": [
       "<span style=\"color:cyan\"> |-Score: 0.004006249830126762</span>"
      ],
      "text/plain": [
       "<IPython.core.display.HTML object>"
      ]
     },
     "metadata": {},
     "output_type": "display_data"
    },
    {
     "data": {
      "text/html": [
       "<span style=\"color:cyan\"> |-Best step: 0</span>"
      ],
      "text/plain": [
       "<IPython.core.display.HTML object>"
      ]
     },
     "metadata": {},
     "output_type": "display_data"
    },
    {
     "data": {
      "text/html": [
       "<span style=\"color:#7E57C2\"><h2 style=\"font-size:16px\">Hyperparameters:</h2></span>"
      ],
      "text/plain": [
       "<IPython.core.display.HTML object>"
      ]
     },
     "metadata": {},
     "output_type": "display_data"
    },
    {
     "data": {
      "text/html": [
       "<span style=\"color:cyan\"> |-hidden_units: 44</span>"
      ],
      "text/plain": [
       "<IPython.core.display.HTML object>"
      ]
     },
     "metadata": {},
     "output_type": "display_data"
    },
    {
     "data": {
      "text/html": [
       "<span style=\"color:blue\"> |-learning_rate: 0.0001</span>"
      ],
      "text/plain": [
       "<IPython.core.display.HTML object>"
      ]
     },
     "metadata": {},
     "output_type": "display_data"
    },
    {
     "data": {
      "text/html": [
       "<span style=\"color:cyan\"> |-tuner/bracket: 0</span>"
      ],
      "text/plain": [
       "<IPython.core.display.HTML object>"
      ]
     },
     "metadata": {},
     "output_type": "display_data"
    },
    {
     "data": {
      "text/html": [
       "<span style=\"color:blue\"> |-tuner/epochs: 50</span>"
      ],
      "text/plain": [
       "<IPython.core.display.HTML object>"
      ]
     },
     "metadata": {},
     "output_type": "display_data"
    },
    {
     "data": {
      "text/html": [
       "<span style=\"color:cyan\"> |-tuner/initial_epoch: 0</span>"
      ],
      "text/plain": [
       "<IPython.core.display.HTML object>"
      ]
     },
     "metadata": {},
     "output_type": "display_data"
    },
    {
     "data": {
      "text/html": [
       "<span style=\"color:blue\"> |-tuner/round: 0</span>"
      ],
      "text/plain": [
       "<IPython.core.display.HTML object>"
      ]
     },
     "metadata": {},
     "output_type": "display_data"
    },
    {
     "name": "stdout",
     "output_type": "stream",
     "text": [
      "Train on 8000 samples, validate on 2000 samples\n",
      "Epoch 1/50\n",
      "8000/8000 - 2s - loss: 0.2031 - mean_squared_error: 0.2030 - mean_absolute_error: 0.4212 - val_loss: 0.1853 - val_mean_squared_error: 0.1852 - val_mean_absolute_error: 0.4020\n",
      "Epoch 2/50\n",
      "8000/8000 - 1s - loss: 0.1721 - mean_squared_error: 0.1719 - mean_absolute_error: 0.3867 - val_loss: 0.1564 - val_mean_squared_error: 0.1563 - val_mean_absolute_error: 0.3683\n",
      "Epoch 3/50\n",
      "8000/8000 - 1s - loss: 0.1433 - mean_squared_error: 0.1432 - mean_absolute_error: 0.3528 - val_loss: 0.1281 - val_mean_squared_error: 0.1279 - val_mean_absolute_error: 0.3335\n",
      "Epoch 4/50\n",
      "8000/8000 - 1s - loss: 0.1161 - mean_squared_error: 0.1160 - mean_absolute_error: 0.3167 - val_loss: 0.1026 - val_mean_squared_error: 0.1024 - val_mean_absolute_error: 0.2981\n",
      "Epoch 5/50\n",
      "8000/8000 - 1s - loss: 0.0930 - mean_squared_error: 0.0929 - mean_absolute_error: 0.2815 - val_loss: 0.0821 - val_mean_squared_error: 0.0819 - val_mean_absolute_error: 0.2635\n",
      "Epoch 6/50\n",
      "8000/8000 - 1s - loss: 0.0749 - mean_squared_error: 0.0747 - mean_absolute_error: 0.2494 - val_loss: 0.0661 - val_mean_squared_error: 0.0659 - val_mean_absolute_error: 0.2339\n",
      "Epoch 7/50\n",
      "8000/8000 - 1s - loss: 0.0609 - mean_squared_error: 0.0607 - mean_absolute_error: 0.2219 - val_loss: 0.0534 - val_mean_squared_error: 0.0532 - val_mean_absolute_error: 0.2074\n",
      "Epoch 8/50\n",
      "8000/8000 - 1s - loss: 0.0494 - mean_squared_error: 0.0492 - mean_absolute_error: 0.1976 - val_loss: 0.0431 - val_mean_squared_error: 0.0429 - val_mean_absolute_error: 0.1850\n",
      "Epoch 9/50\n",
      "8000/8000 - 1s - loss: 0.0401 - mean_squared_error: 0.0399 - mean_absolute_error: 0.1765 - val_loss: 0.0345 - val_mean_squared_error: 0.0343 - val_mean_absolute_error: 0.1647\n",
      "Epoch 10/50\n",
      "8000/8000 - 1s - loss: 0.0325 - mean_squared_error: 0.0323 - mean_absolute_error: 0.1577 - val_loss: 0.0276 - val_mean_squared_error: 0.0273 - val_mean_absolute_error: 0.1470\n",
      "Epoch 11/50\n",
      "8000/8000 - 1s - loss: 0.0265 - mean_squared_error: 0.0262 - mean_absolute_error: 0.1415 - val_loss: 0.0220 - val_mean_squared_error: 0.0217 - val_mean_absolute_error: 0.1313\n",
      "Epoch 12/50\n",
      "8000/8000 - 1s - loss: 0.0216 - mean_squared_error: 0.0213 - mean_absolute_error: 0.1271 - val_loss: 0.0176 - val_mean_squared_error: 0.0173 - val_mean_absolute_error: 0.1169\n",
      "Epoch 13/50\n",
      "8000/8000 - 1s - loss: 0.0176 - mean_squared_error: 0.0173 - mean_absolute_error: 0.1143 - val_loss: 0.0141 - val_mean_squared_error: 0.0138 - val_mean_absolute_error: 0.1050\n",
      "Epoch 14/50\n",
      "8000/8000 - 1s - loss: 0.0147 - mean_squared_error: 0.0143 - mean_absolute_error: 0.1039 - val_loss: 0.0115 - val_mean_squared_error: 0.0112 - val_mean_absolute_error: 0.0942\n",
      "Epoch 15/50\n",
      "8000/8000 - 1s - loss: 0.0122 - mean_squared_error: 0.0119 - mean_absolute_error: 0.0942 - val_loss: 0.0094 - val_mean_squared_error: 0.0091 - val_mean_absolute_error: 0.0854\n",
      "Epoch 16/50\n",
      "8000/8000 - 1s - loss: 0.0105 - mean_squared_error: 0.0101 - mean_absolute_error: 0.0865 - val_loss: 0.0079 - val_mean_squared_error: 0.0075 - val_mean_absolute_error: 0.0778\n",
      "Epoch 17/50\n",
      "8000/8000 - 1s - loss: 0.0090 - mean_squared_error: 0.0086 - mean_absolute_error: 0.0796 - val_loss: 0.0067 - val_mean_squared_error: 0.0063 - val_mean_absolute_error: 0.0710\n",
      "Epoch 18/50\n",
      "8000/8000 - 1s - loss: 0.0079 - mean_squared_error: 0.0075 - mean_absolute_error: 0.0738 - val_loss: 0.0057 - val_mean_squared_error: 0.0053 - val_mean_absolute_error: 0.0652\n",
      "Epoch 19/50\n",
      "8000/8000 - 1s - loss: 0.0070 - mean_squared_error: 0.0066 - mean_absolute_error: 0.0687 - val_loss: 0.0050 - val_mean_squared_error: 0.0046 - val_mean_absolute_error: 0.0602\n",
      "Epoch 20/50\n",
      "8000/8000 - 1s - loss: 0.0062 - mean_squared_error: 0.0058 - mean_absolute_error: 0.0639 - val_loss: 0.0044 - val_mean_squared_error: 0.0040 - val_mean_absolute_error: 0.0559\n",
      "Epoch 21/50\n",
      "8000/8000 - 1s - loss: 0.0056 - mean_squared_error: 0.0052 - mean_absolute_error: 0.0599 - val_loss: 0.0039 - val_mean_squared_error: 0.0035 - val_mean_absolute_error: 0.0521\n",
      "Epoch 22/50\n",
      "8000/8000 - 1s - loss: 0.0052 - mean_squared_error: 0.0048 - mean_absolute_error: 0.0569 - val_loss: 0.0036 - val_mean_squared_error: 0.0031 - val_mean_absolute_error: 0.0487\n",
      "Epoch 23/50\n",
      "8000/8000 - 1s - loss: 0.0048 - mean_squared_error: 0.0044 - mean_absolute_error: 0.0537 - val_loss: 0.0032 - val_mean_squared_error: 0.0027 - val_mean_absolute_error: 0.0456\n",
      "Epoch 24/50\n",
      "8000/8000 - 1s - loss: 0.0045 - mean_squared_error: 0.0040 - mean_absolute_error: 0.0510 - val_loss: 0.0029 - val_mean_squared_error: 0.0025 - val_mean_absolute_error: 0.0429\n",
      "Epoch 25/50\n",
      "8000/8000 - 1s - loss: 0.0043 - mean_squared_error: 0.0038 - mean_absolute_error: 0.0488 - val_loss: 0.0028 - val_mean_squared_error: 0.0024 - val_mean_absolute_error: 0.0410\n",
      "Epoch 26/50\n",
      "8000/8000 - 1s - loss: 0.0040 - mean_squared_error: 0.0035 - mean_absolute_error: 0.0465 - val_loss: 0.0026 - val_mean_squared_error: 0.0021 - val_mean_absolute_error: 0.0385\n",
      "Epoch 27/50\n",
      "8000/8000 - 1s - loss: 0.0038 - mean_squared_error: 0.0033 - mean_absolute_error: 0.0447 - val_loss: 0.0025 - val_mean_squared_error: 0.0019 - val_mean_absolute_error: 0.0368\n",
      "Epoch 28/50\n",
      "8000/8000 - 1s - loss: 0.0037 - mean_squared_error: 0.0032 - mean_absolute_error: 0.0432 - val_loss: 0.0023 - val_mean_squared_error: 0.0018 - val_mean_absolute_error: 0.0353\n",
      "Epoch 29/50\n",
      "8000/8000 - 1s - loss: 0.0035 - mean_squared_error: 0.0030 - mean_absolute_error: 0.0414 - val_loss: 0.0022 - val_mean_squared_error: 0.0017 - val_mean_absolute_error: 0.0337\n",
      "Epoch 30/50\n",
      "8000/8000 - 1s - loss: 0.0035 - mean_squared_error: 0.0029 - mean_absolute_error: 0.0402 - val_loss: 0.0020 - val_mean_squared_error: 0.0015 - val_mean_absolute_error: 0.0317\n",
      "Epoch 31/50\n",
      "8000/8000 - 1s - loss: 0.0034 - mean_squared_error: 0.0028 - mean_absolute_error: 0.0391 - val_loss: 0.0019 - val_mean_squared_error: 0.0014 - val_mean_absolute_error: 0.0307\n",
      "Epoch 32/50\n",
      "8000/8000 - 1s - loss: 0.0033 - mean_squared_error: 0.0027 - mean_absolute_error: 0.0379 - val_loss: 0.0018 - val_mean_squared_error: 0.0012 - val_mean_absolute_error: 0.0291\n",
      "Epoch 33/50\n",
      "8000/8000 - 1s - loss: 0.0032 - mean_squared_error: 0.0026 - mean_absolute_error: 0.0370 - val_loss: 0.0019 - val_mean_squared_error: 0.0013 - val_mean_absolute_error: 0.0291\n",
      "Epoch 34/50\n",
      "8000/8000 - 1s - loss: 0.0031 - mean_squared_error: 0.0026 - mean_absolute_error: 0.0362 - val_loss: 0.0018 - val_mean_squared_error: 0.0012 - val_mean_absolute_error: 0.0281\n",
      "Epoch 35/50\n",
      "8000/8000 - 1s - loss: 0.0031 - mean_squared_error: 0.0025 - mean_absolute_error: 0.0354 - val_loss: 0.0017 - val_mean_squared_error: 0.0012 - val_mean_absolute_error: 0.0273\n",
      "Epoch 36/50\n",
      "8000/8000 - 1s - loss: 0.0030 - mean_squared_error: 0.0024 - mean_absolute_error: 0.0347 - val_loss: 0.0017 - val_mean_squared_error: 0.0011 - val_mean_absolute_error: 0.0265\n",
      "Epoch 37/50\n",
      "8000/8000 - 1s - loss: 0.0030 - mean_squared_error: 0.0024 - mean_absolute_error: 0.0340 - val_loss: 0.0015 - val_mean_squared_error: 9.4221e-04 - val_mean_absolute_error: 0.0250\n",
      "Epoch 38/50\n",
      "8000/8000 - 1s - loss: 0.0029 - mean_squared_error: 0.0023 - mean_absolute_error: 0.0334 - val_loss: 0.0016 - val_mean_squared_error: 9.5408e-04 - val_mean_absolute_error: 0.0248\n",
      "Epoch 39/50\n",
      "8000/8000 - 1s - loss: 0.0029 - mean_squared_error: 0.0023 - mean_absolute_error: 0.0329 - val_loss: 0.0016 - val_mean_squared_error: 0.0010 - val_mean_absolute_error: 0.0252\n",
      "Epoch 40/50\n",
      "8000/8000 - 1s - loss: 0.0029 - mean_squared_error: 0.0022 - mean_absolute_error: 0.0323 - val_loss: 0.0015 - val_mean_squared_error: 9.1826e-04 - val_mean_absolute_error: 0.0241\n",
      "Epoch 41/50\n",
      "8000/8000 - 1s - loss: 0.0029 - mean_squared_error: 0.0023 - mean_absolute_error: 0.0321 - val_loss: 0.0015 - val_mean_squared_error: 8.3552e-04 - val_mean_absolute_error: 0.0232\n",
      "Epoch 42/50\n",
      "8000/8000 - 1s - loss: 0.0028 - mean_squared_error: 0.0022 - mean_absolute_error: 0.0317 - val_loss: 0.0016 - val_mean_squared_error: 9.7576e-04 - val_mean_absolute_error: 0.0241\n",
      "Epoch 43/50\n",
      "8000/8000 - 1s - loss: 0.0028 - mean_squared_error: 0.0022 - mean_absolute_error: 0.0314 - val_loss: 0.0015 - val_mean_squared_error: 8.3780e-04 - val_mean_absolute_error: 0.0228\n",
      "Epoch 44/50\n",
      "8000/8000 - 1s - loss: 0.0028 - mean_squared_error: 0.0022 - mean_absolute_error: 0.0312 - val_loss: 0.0015 - val_mean_squared_error: 8.3364e-04 - val_mean_absolute_error: 0.0227\n"
     ]
    },
    {
     "name": "stdout",
     "output_type": "stream",
     "text": [
      "Epoch 45/50\n",
      "8000/8000 - 1s - loss: 0.0028 - mean_squared_error: 0.0021 - mean_absolute_error: 0.0308 - val_loss: 0.0015 - val_mean_squared_error: 8.5395e-04 - val_mean_absolute_error: 0.0227\n",
      "Epoch 46/50\n",
      "8000/8000 - 1s - loss: 0.0028 - mean_squared_error: 0.0021 - mean_absolute_error: 0.0305 - val_loss: 0.0013 - val_mean_squared_error: 6.7603e-04 - val_mean_absolute_error: 0.0209\n",
      "Epoch 47/50\n",
      "8000/8000 - 1s - loss: 0.0028 - mean_squared_error: 0.0021 - mean_absolute_error: 0.0303 - val_loss: 0.0014 - val_mean_squared_error: 7.6709e-04 - val_mean_absolute_error: 0.0217\n",
      "Epoch 48/50\n",
      "8000/8000 - 1s - loss: 0.0027 - mean_squared_error: 0.0021 - mean_absolute_error: 0.0300 - val_loss: 0.0014 - val_mean_squared_error: 7.6904e-04 - val_mean_absolute_error: 0.0216\n",
      "Epoch 49/50\n",
      "8000/8000 - 1s - loss: 0.0027 - mean_squared_error: 0.0021 - mean_absolute_error: 0.0298 - val_loss: 0.0014 - val_mean_squared_error: 7.5133e-04 - val_mean_absolute_error: 0.0213\n",
      "Epoch 50/50\n",
      "8000/8000 - 1s - loss: 0.0027 - mean_squared_error: 0.0021 - mean_absolute_error: 0.0295 - val_loss: 0.0014 - val_mean_squared_error: 7.8052e-04 - val_mean_absolute_error: 0.0215\n"
     ]
    },
    {
     "data": {
      "text/html": [
       "<span style=\"color:#4527A0\"><h1 style=\"font-size:18px\">Trial complete</h1></span>"
      ],
      "text/plain": [
       "<IPython.core.display.HTML object>"
      ]
     },
     "metadata": {},
     "output_type": "display_data"
    },
    {
     "data": {
      "text/html": [
       "<span style=\"color:#4527A0\"><h1 style=\"font-size:18px\">Trial summary</h1></span>"
      ],
      "text/plain": [
       "<IPython.core.display.HTML object>"
      ]
     },
     "metadata": {},
     "output_type": "display_data"
    },
    {
     "data": {
      "text/html": [
       "<span style=\"color:cyan\"> |-Trial ID: f9cb5f3275b5d8f74d256cb21d74bcf1</span>"
      ],
      "text/plain": [
       "<IPython.core.display.HTML object>"
      ]
     },
     "metadata": {},
     "output_type": "display_data"
    },
    {
     "data": {
      "text/html": [
       "<span style=\"color:cyan\"> |-Score: 0.0006760346004739404</span>"
      ],
      "text/plain": [
       "<IPython.core.display.HTML object>"
      ]
     },
     "metadata": {},
     "output_type": "display_data"
    },
    {
     "data": {
      "text/html": [
       "<span style=\"color:cyan\"> |-Best step: 0</span>"
      ],
      "text/plain": [
       "<IPython.core.display.HTML object>"
      ]
     },
     "metadata": {},
     "output_type": "display_data"
    },
    {
     "data": {
      "text/html": [
       "<span style=\"color:#7E57C2\"><h2 style=\"font-size:16px\">Hyperparameters:</h2></span>"
      ],
      "text/plain": [
       "<IPython.core.display.HTML object>"
      ]
     },
     "metadata": {},
     "output_type": "display_data"
    },
    {
     "data": {
      "text/html": [
       "<span style=\"color:cyan\"> |-hidden_units: 168</span>"
      ],
      "text/plain": [
       "<IPython.core.display.HTML object>"
      ]
     },
     "metadata": {},
     "output_type": "display_data"
    },
    {
     "data": {
      "text/html": [
       "<span style=\"color:blue\"> |-learning_rate: 0.0001</span>"
      ],
      "text/plain": [
       "<IPython.core.display.HTML object>"
      ]
     },
     "metadata": {},
     "output_type": "display_data"
    },
    {
     "data": {
      "text/html": [
       "<span style=\"color:cyan\"> |-tuner/bracket: 0</span>"
      ],
      "text/plain": [
       "<IPython.core.display.HTML object>"
      ]
     },
     "metadata": {},
     "output_type": "display_data"
    },
    {
     "data": {
      "text/html": [
       "<span style=\"color:blue\"> |-tuner/epochs: 50</span>"
      ],
      "text/plain": [
       "<IPython.core.display.HTML object>"
      ]
     },
     "metadata": {},
     "output_type": "display_data"
    },
    {
     "data": {
      "text/html": [
       "<span style=\"color:cyan\"> |-tuner/initial_epoch: 0</span>"
      ],
      "text/plain": [
       "<IPython.core.display.HTML object>"
      ]
     },
     "metadata": {},
     "output_type": "display_data"
    },
    {
     "data": {
      "text/html": [
       "<span style=\"color:blue\"> |-tuner/round: 0</span>"
      ],
      "text/plain": [
       "<IPython.core.display.HTML object>"
      ]
     },
     "metadata": {},
     "output_type": "display_data"
    },
    {
     "name": "stdout",
     "output_type": "stream",
     "text": [
      "Train on 8000 samples, validate on 2000 samples\n",
      "Epoch 1/50\n",
      "8000/8000 - 2s - loss: 0.0969 - mean_squared_error: 0.0967 - mean_absolute_error: 0.2729 - val_loss: 0.0257 - val_mean_squared_error: 0.0255 - val_mean_absolute_error: 0.1410\n",
      "Epoch 2/50\n",
      "8000/8000 - 1s - loss: 0.0137 - mean_squared_error: 0.0133 - mean_absolute_error: 0.0981 - val_loss: 0.0057 - val_mean_squared_error: 0.0053 - val_mean_absolute_error: 0.0650\n",
      "Epoch 3/50\n",
      "8000/8000 - 1s - loss: 0.0054 - mean_squared_error: 0.0049 - mean_absolute_error: 0.0585 - val_loss: 0.0030 - val_mean_squared_error: 0.0025 - val_mean_absolute_error: 0.0437\n",
      "Epoch 4/50\n",
      "8000/8000 - 1s - loss: 0.0038 - mean_squared_error: 0.0033 - mean_absolute_error: 0.0451 - val_loss: 0.0024 - val_mean_squared_error: 0.0018 - val_mean_absolute_error: 0.0349\n",
      "Epoch 5/50\n",
      "8000/8000 - 1s - loss: 0.0032 - mean_squared_error: 0.0026 - mean_absolute_error: 0.0382 - val_loss: 0.0018 - val_mean_squared_error: 0.0012 - val_mean_absolute_error: 0.0285\n",
      "Epoch 6/50\n",
      "8000/8000 - 1s - loss: 0.0029 - mean_squared_error: 0.0023 - mean_absolute_error: 0.0342 - val_loss: 0.0015 - val_mean_squared_error: 9.3886e-04 - val_mean_absolute_error: 0.0246\n",
      "Epoch 7/50\n",
      "8000/8000 - 1s - loss: 0.0027 - mean_squared_error: 0.0021 - mean_absolute_error: 0.0315 - val_loss: 0.0014 - val_mean_squared_error: 7.9857e-04 - val_mean_absolute_error: 0.0224\n",
      "Epoch 8/50\n",
      "8000/8000 - 1s - loss: 0.0027 - mean_squared_error: 0.0020 - mean_absolute_error: 0.0299 - val_loss: 0.0015 - val_mean_squared_error: 8.4646e-04 - val_mean_absolute_error: 0.0220\n",
      "Epoch 9/50\n",
      "8000/8000 - 1s - loss: 0.0026 - mean_squared_error: 0.0019 - mean_absolute_error: 0.0287 - val_loss: 0.0014 - val_mean_squared_error: 7.1039e-04 - val_mean_absolute_error: 0.0202\n",
      "Epoch 10/50\n",
      "8000/8000 - 1s - loss: 0.0026 - mean_squared_error: 0.0019 - mean_absolute_error: 0.0281 - val_loss: 0.0012 - val_mean_squared_error: 5.6422e-04 - val_mean_absolute_error: 0.0184\n",
      "Epoch 11/50\n",
      "8000/8000 - 1s - loss: 0.0026 - mean_squared_error: 0.0019 - mean_absolute_error: 0.0275 - val_loss: 0.0013 - val_mean_squared_error: 6.6070e-04 - val_mean_absolute_error: 0.0191\n",
      "Epoch 12/50\n",
      "8000/8000 - 1s - loss: 0.0026 - mean_squared_error: 0.0019 - mean_absolute_error: 0.0271 - val_loss: 0.0014 - val_mean_squared_error: 7.5188e-04 - val_mean_absolute_error: 0.0197\n",
      "Epoch 13/50\n",
      "8000/8000 - 1s - loss: 0.0026 - mean_squared_error: 0.0019 - mean_absolute_error: 0.0269 - val_loss: 0.0014 - val_mean_squared_error: 7.3723e-04 - val_mean_absolute_error: 0.0195\n",
      "Epoch 14/50\n",
      "8000/8000 - 1s - loss: 0.0025 - mean_squared_error: 0.0019 - mean_absolute_error: 0.0266 - val_loss: 0.0014 - val_mean_squared_error: 6.9363e-04 - val_mean_absolute_error: 0.0190\n",
      "Epoch 15/50\n",
      "8000/8000 - 1s - loss: 0.0026 - mean_squared_error: 0.0019 - mean_absolute_error: 0.0267 - val_loss: 0.0015 - val_mean_squared_error: 7.8739e-04 - val_mean_absolute_error: 0.0198\n"
     ]
    },
    {
     "data": {
      "text/html": [
       "<span style=\"color:#4527A0\"><h1 style=\"font-size:18px\">Trial complete</h1></span>"
      ],
      "text/plain": [
       "<IPython.core.display.HTML object>"
      ]
     },
     "metadata": {},
     "output_type": "display_data"
    },
    {
     "data": {
      "text/html": [
       "<span style=\"color:#4527A0\"><h1 style=\"font-size:18px\">Trial summary</h1></span>"
      ],
      "text/plain": [
       "<IPython.core.display.HTML object>"
      ]
     },
     "metadata": {},
     "output_type": "display_data"
    },
    {
     "data": {
      "text/html": [
       "<span style=\"color:cyan\"> |-Trial ID: 0224dfe5ab8463f5b18f0b92999509f8</span>"
      ],
      "text/plain": [
       "<IPython.core.display.HTML object>"
      ]
     },
     "metadata": {},
     "output_type": "display_data"
    },
    {
     "data": {
      "text/html": [
       "<span style=\"color:cyan\"> |-Score: 0.000564220012165606</span>"
      ],
      "text/plain": [
       "<IPython.core.display.HTML object>"
      ]
     },
     "metadata": {},
     "output_type": "display_data"
    },
    {
     "data": {
      "text/html": [
       "<span style=\"color:cyan\"> |-Best step: 0</span>"
      ],
      "text/plain": [
       "<IPython.core.display.HTML object>"
      ]
     },
     "metadata": {},
     "output_type": "display_data"
    },
    {
     "data": {
      "text/html": [
       "<span style=\"color:#7E57C2\"><h2 style=\"font-size:16px\">Hyperparameters:</h2></span>"
      ],
      "text/plain": [
       "<IPython.core.display.HTML object>"
      ]
     },
     "metadata": {},
     "output_type": "display_data"
    },
    {
     "data": {
      "text/html": [
       "<span style=\"color:cyan\"> |-hidden_units: 196</span>"
      ],
      "text/plain": [
       "<IPython.core.display.HTML object>"
      ]
     },
     "metadata": {},
     "output_type": "display_data"
    },
    {
     "data": {
      "text/html": [
       "<span style=\"color:blue\"> |-learning_rate: 0.001</span>"
      ],
      "text/plain": [
       "<IPython.core.display.HTML object>"
      ]
     },
     "metadata": {},
     "output_type": "display_data"
    },
    {
     "data": {
      "text/html": [
       "<span style=\"color:cyan\"> |-tuner/bracket: 0</span>"
      ],
      "text/plain": [
       "<IPython.core.display.HTML object>"
      ]
     },
     "metadata": {},
     "output_type": "display_data"
    },
    {
     "data": {
      "text/html": [
       "<span style=\"color:blue\"> |-tuner/epochs: 50</span>"
      ],
      "text/plain": [
       "<IPython.core.display.HTML object>"
      ]
     },
     "metadata": {},
     "output_type": "display_data"
    },
    {
     "data": {
      "text/html": [
       "<span style=\"color:cyan\"> |-tuner/initial_epoch: 0</span>"
      ],
      "text/plain": [
       "<IPython.core.display.HTML object>"
      ]
     },
     "metadata": {},
     "output_type": "display_data"
    },
    {
     "data": {
      "text/html": [
       "<span style=\"color:blue\"> |-tuner/round: 0</span>"
      ],
      "text/plain": [
       "<IPython.core.display.HTML object>"
      ]
     },
     "metadata": {},
     "output_type": "display_data"
    },
    {
     "name": "stdout",
     "output_type": "stream",
     "text": [
      "Train on 8000 samples, validate on 2000 samples\n",
      "Epoch 1/50\n",
      "8000/8000 - 1s - loss: 0.2171 - mean_squared_error: 0.2170 - mean_absolute_error: 0.4355 - val_loss: 0.2034 - val_mean_squared_error: 0.2033 - val_mean_absolute_error: 0.4205\n",
      "Epoch 2/50\n",
      "8000/8000 - 1s - loss: 0.1975 - mean_squared_error: 0.1974 - mean_absolute_error: 0.4122 - val_loss: 0.1881 - val_mean_squared_error: 0.1881 - val_mean_absolute_error: 0.4020\n",
      "Epoch 3/50\n",
      "8000/8000 - 1s - loss: 0.1826 - mean_squared_error: 0.1825 - mean_absolute_error: 0.3953 - val_loss: 0.1734 - val_mean_squared_error: 0.1733 - val_mean_absolute_error: 0.3864\n",
      "Epoch 4/50\n",
      "8000/8000 - 1s - loss: 0.1677 - mean_squared_error: 0.1676 - mean_absolute_error: 0.3788 - val_loss: 0.1586 - val_mean_squared_error: 0.1585 - val_mean_absolute_error: 0.3688\n",
      "Epoch 5/50\n",
      "8000/8000 - 1s - loss: 0.1527 - mean_squared_error: 0.1526 - mean_absolute_error: 0.3611 - val_loss: 0.1439 - val_mean_squared_error: 0.1438 - val_mean_absolute_error: 0.3507\n",
      "Epoch 6/50\n",
      "8000/8000 - 1s - loss: 0.1379 - mean_squared_error: 0.1378 - mean_absolute_error: 0.3420 - val_loss: 0.1297 - val_mean_squared_error: 0.1296 - val_mean_absolute_error: 0.3320\n",
      "Epoch 7/50\n",
      "8000/8000 - 1s - loss: 0.1243 - mean_squared_error: 0.1242 - mean_absolute_error: 0.3231 - val_loss: 0.1167 - val_mean_squared_error: 0.1165 - val_mean_absolute_error: 0.3129\n",
      "Epoch 8/50\n",
      "8000/8000 - 1s - loss: 0.1122 - mean_squared_error: 0.1121 - mean_absolute_error: 0.3046 - val_loss: 0.1053 - val_mean_squared_error: 0.1051 - val_mean_absolute_error: 0.2947\n",
      "Epoch 9/50\n",
      "8000/8000 - 1s - loss: 0.1015 - mean_squared_error: 0.1014 - mean_absolute_error: 0.2867 - val_loss: 0.0954 - val_mean_squared_error: 0.0953 - val_mean_absolute_error: 0.2777\n",
      "Epoch 10/50\n",
      "8000/8000 - 1s - loss: 0.0926 - mean_squared_error: 0.0925 - mean_absolute_error: 0.2707 - val_loss: 0.0869 - val_mean_squared_error: 0.0868 - val_mean_absolute_error: 0.2625\n",
      "Epoch 11/50\n",
      "8000/8000 - 1s - loss: 0.0846 - mean_squared_error: 0.0845 - mean_absolute_error: 0.2557 - val_loss: 0.0794 - val_mean_squared_error: 0.0792 - val_mean_absolute_error: 0.2486\n",
      "Epoch 12/50\n",
      "8000/8000 - 1s - loss: 0.0779 - mean_squared_error: 0.0777 - mean_absolute_error: 0.2426 - val_loss: 0.0726 - val_mean_squared_error: 0.0724 - val_mean_absolute_error: 0.2346\n",
      "Epoch 13/50\n",
      "8000/8000 - 1s - loss: 0.0716 - mean_squared_error: 0.0714 - mean_absolute_error: 0.2300 - val_loss: 0.0662 - val_mean_squared_error: 0.0661 - val_mean_absolute_error: 0.2230\n",
      "Epoch 14/50\n",
      "8000/8000 - 1s - loss: 0.0658 - mean_squared_error: 0.0656 - mean_absolute_error: 0.2184 - val_loss: 0.0604 - val_mean_squared_error: 0.0602 - val_mean_absolute_error: 0.2104\n",
      "Epoch 15/50\n",
      "8000/8000 - 1s - loss: 0.0604 - mean_squared_error: 0.0602 - mean_absolute_error: 0.2075 - val_loss: 0.0547 - val_mean_squared_error: 0.0546 - val_mean_absolute_error: 0.1999\n",
      "Epoch 16/50\n",
      "8000/8000 - 1s - loss: 0.0553 - mean_squared_error: 0.0551 - mean_absolute_error: 0.1969 - val_loss: 0.0495 - val_mean_squared_error: 0.0493 - val_mean_absolute_error: 0.1894\n",
      "Epoch 17/50\n",
      "8000/8000 - 1s - loss: 0.0507 - mean_squared_error: 0.0505 - mean_absolute_error: 0.1873 - val_loss: 0.0446 - val_mean_squared_error: 0.0444 - val_mean_absolute_error: 0.1787\n",
      "Epoch 18/50\n",
      "8000/8000 - 1s - loss: 0.0462 - mean_squared_error: 0.0460 - mean_absolute_error: 0.1776 - val_loss: 0.0400 - val_mean_squared_error: 0.0398 - val_mean_absolute_error: 0.1681\n",
      "Epoch 19/50\n",
      "8000/8000 - 1s - loss: 0.0422 - mean_squared_error: 0.0420 - mean_absolute_error: 0.1687 - val_loss: 0.0358 - val_mean_squared_error: 0.0355 - val_mean_absolute_error: 0.1590\n",
      "Epoch 20/50\n",
      "8000/8000 - 1s - loss: 0.0382 - mean_squared_error: 0.0379 - mean_absolute_error: 0.1598 - val_loss: 0.0318 - val_mean_squared_error: 0.0316 - val_mean_absolute_error: 0.1495\n",
      "Epoch 21/50\n",
      "8000/8000 - 1s - loss: 0.0349 - mean_squared_error: 0.0347 - mean_absolute_error: 0.1518 - val_loss: 0.0282 - val_mean_squared_error: 0.0280 - val_mean_absolute_error: 0.1408\n",
      "Epoch 22/50\n",
      "8000/8000 - 1s - loss: 0.0315 - mean_squared_error: 0.0313 - mean_absolute_error: 0.1435 - val_loss: 0.0250 - val_mean_squared_error: 0.0247 - val_mean_absolute_error: 0.1323\n",
      "Epoch 23/50\n",
      "8000/8000 - 1s - loss: 0.0286 - mean_squared_error: 0.0283 - mean_absolute_error: 0.1360 - val_loss: 0.0220 - val_mean_squared_error: 0.0217 - val_mean_absolute_error: 0.1245\n",
      "Epoch 24/50\n",
      "8000/8000 - 1s - loss: 0.0262 - mean_squared_error: 0.0260 - mean_absolute_error: 0.1294 - val_loss: 0.0193 - val_mean_squared_error: 0.0191 - val_mean_absolute_error: 0.1169\n",
      "Epoch 25/50\n",
      "8000/8000 - 1s - loss: 0.0236 - mean_squared_error: 0.0233 - mean_absolute_error: 0.1221 - val_loss: 0.0170 - val_mean_squared_error: 0.0167 - val_mean_absolute_error: 0.1097\n",
      "Epoch 26/50\n",
      "8000/8000 - 1s - loss: 0.0217 - mean_squared_error: 0.0213 - mean_absolute_error: 0.1164 - val_loss: 0.0150 - val_mean_squared_error: 0.0146 - val_mean_absolute_error: 0.1031\n",
      "Epoch 27/50\n",
      "8000/8000 - 1s - loss: 0.0198 - mean_squared_error: 0.0194 - mean_absolute_error: 0.1105 - val_loss: 0.0132 - val_mean_squared_error: 0.0128 - val_mean_absolute_error: 0.0969\n",
      "Epoch 28/50\n",
      "8000/8000 - 1s - loss: 0.0179 - mean_squared_error: 0.0175 - mean_absolute_error: 0.1047 - val_loss: 0.0116 - val_mean_squared_error: 0.0113 - val_mean_absolute_error: 0.0911\n",
      "Epoch 29/50\n",
      "8000/8000 - 1s - loss: 0.0165 - mean_squared_error: 0.0162 - mean_absolute_error: 0.1000 - val_loss: 0.0103 - val_mean_squared_error: 0.0100 - val_mean_absolute_error: 0.0858\n",
      "Epoch 30/50\n",
      "8000/8000 - 1s - loss: 0.0152 - mean_squared_error: 0.0148 - mean_absolute_error: 0.0952 - val_loss: 0.0091 - val_mean_squared_error: 0.0088 - val_mean_absolute_error: 0.0809\n",
      "Epoch 31/50\n",
      "8000/8000 - 1s - loss: 0.0139 - mean_squared_error: 0.0136 - mean_absolute_error: 0.0907 - val_loss: 0.0081 - val_mean_squared_error: 0.0078 - val_mean_absolute_error: 0.0765\n",
      "Epoch 32/50\n",
      "8000/8000 - 1s - loss: 0.0132 - mean_squared_error: 0.0128 - mean_absolute_error: 0.0874 - val_loss: 0.0073 - val_mean_squared_error: 0.0069 - val_mean_absolute_error: 0.0724\n",
      "Epoch 33/50\n",
      "8000/8000 - 1s - loss: 0.0123 - mean_squared_error: 0.0120 - mean_absolute_error: 0.0839 - val_loss: 0.0067 - val_mean_squared_error: 0.0063 - val_mean_absolute_error: 0.0688\n",
      "Epoch 34/50\n",
      "8000/8000 - 1s - loss: 0.0115 - mean_squared_error: 0.0111 - mean_absolute_error: 0.0804 - val_loss: 0.0060 - val_mean_squared_error: 0.0056 - val_mean_absolute_error: 0.0652\n",
      "Epoch 35/50\n",
      "8000/8000 - 1s - loss: 0.0110 - mean_squared_error: 0.0106 - mean_absolute_error: 0.0780 - val_loss: 0.0056 - val_mean_squared_error: 0.0052 - val_mean_absolute_error: 0.0622\n",
      "Epoch 36/50\n",
      "8000/8000 - 1s - loss: 0.0105 - mean_squared_error: 0.0100 - mean_absolute_error: 0.0750 - val_loss: 0.0051 - val_mean_squared_error: 0.0047 - val_mean_absolute_error: 0.0595\n",
      "Epoch 37/50\n",
      "8000/8000 - 1s - loss: 0.0100 - mean_squared_error: 0.0096 - mean_absolute_error: 0.0728 - val_loss: 0.0047 - val_mean_squared_error: 0.0043 - val_mean_absolute_error: 0.0568\n",
      "Epoch 38/50\n",
      "8000/8000 - 1s - loss: 0.0095 - mean_squared_error: 0.0091 - mean_absolute_error: 0.0704 - val_loss: 0.0044 - val_mean_squared_error: 0.0040 - val_mean_absolute_error: 0.0545\n",
      "Epoch 39/50\n",
      "8000/8000 - 1s - loss: 0.0092 - mean_squared_error: 0.0088 - mean_absolute_error: 0.0686 - val_loss: 0.0043 - val_mean_squared_error: 0.0038 - val_mean_absolute_error: 0.0527\n",
      "Epoch 40/50\n",
      "8000/8000 - 1s - loss: 0.0090 - mean_squared_error: 0.0086 - mean_absolute_error: 0.0671 - val_loss: 0.0040 - val_mean_squared_error: 0.0036 - val_mean_absolute_error: 0.0508\n",
      "Epoch 41/50\n",
      "8000/8000 - 1s - loss: 0.0086 - mean_squared_error: 0.0081 - mean_absolute_error: 0.0648 - val_loss: 0.0038 - val_mean_squared_error: 0.0034 - val_mean_absolute_error: 0.0490\n",
      "Epoch 42/50\n",
      "8000/8000 - 1s - loss: 0.0083 - mean_squared_error: 0.0079 - mean_absolute_error: 0.0632 - val_loss: 0.0037 - val_mean_squared_error: 0.0033 - val_mean_absolute_error: 0.0478\n",
      "Epoch 43/50\n",
      "8000/8000 - 1s - loss: 0.0082 - mean_squared_error: 0.0077 - mean_absolute_error: 0.0623 - val_loss: 0.0035 - val_mean_squared_error: 0.0030 - val_mean_absolute_error: 0.0460\n",
      "Epoch 44/50\n",
      "8000/8000 - 1s - loss: 0.0082 - mean_squared_error: 0.0077 - mean_absolute_error: 0.0612 - val_loss: 0.0035 - val_mean_squared_error: 0.0030 - val_mean_absolute_error: 0.0452\n"
     ]
    },
    {
     "name": "stdout",
     "output_type": "stream",
     "text": [
      "Epoch 45/50\n",
      "8000/8000 - 1s - loss: 0.0078 - mean_squared_error: 0.0074 - mean_absolute_error: 0.0596 - val_loss: 0.0033 - val_mean_squared_error: 0.0028 - val_mean_absolute_error: 0.0437\n",
      "Epoch 46/50\n",
      "8000/8000 - 1s - loss: 0.0078 - mean_squared_error: 0.0073 - mean_absolute_error: 0.0589 - val_loss: 0.0032 - val_mean_squared_error: 0.0027 - val_mean_absolute_error: 0.0426\n",
      "Epoch 47/50\n",
      "8000/8000 - 1s - loss: 0.0076 - mean_squared_error: 0.0071 - mean_absolute_error: 0.0577 - val_loss: 0.0032 - val_mean_squared_error: 0.0027 - val_mean_absolute_error: 0.0419\n",
      "Epoch 48/50\n",
      "8000/8000 - 1s - loss: 0.0075 - mean_squared_error: 0.0070 - mean_absolute_error: 0.0569 - val_loss: 0.0032 - val_mean_squared_error: 0.0027 - val_mean_absolute_error: 0.0412\n",
      "Epoch 49/50\n",
      "8000/8000 - 1s - loss: 0.0075 - mean_squared_error: 0.0070 - mean_absolute_error: 0.0562 - val_loss: 0.0030 - val_mean_squared_error: 0.0025 - val_mean_absolute_error: 0.0402\n",
      "Epoch 50/50\n",
      "8000/8000 - 1s - loss: 0.0074 - mean_squared_error: 0.0069 - mean_absolute_error: 0.0554 - val_loss: 0.0029 - val_mean_squared_error: 0.0024 - val_mean_absolute_error: 0.0390\n"
     ]
    },
    {
     "data": {
      "text/html": [
       "<span style=\"color:#4527A0\"><h1 style=\"font-size:18px\">Trial complete</h1></span>"
      ],
      "text/plain": [
       "<IPython.core.display.HTML object>"
      ]
     },
     "metadata": {},
     "output_type": "display_data"
    },
    {
     "data": {
      "text/html": [
       "<span style=\"color:#4527A0\"><h1 style=\"font-size:18px\">Trial summary</h1></span>"
      ],
      "text/plain": [
       "<IPython.core.display.HTML object>"
      ]
     },
     "metadata": {},
     "output_type": "display_data"
    },
    {
     "data": {
      "text/html": [
       "<span style=\"color:cyan\"> |-Trial ID: 5fa589de42cdd781b2926bd01df515ef</span>"
      ],
      "text/plain": [
       "<IPython.core.display.HTML object>"
      ]
     },
     "metadata": {},
     "output_type": "display_data"
    },
    {
     "data": {
      "text/html": [
       "<span style=\"color:cyan\"> |-Score: 0.002399266930297017</span>"
      ],
      "text/plain": [
       "<IPython.core.display.HTML object>"
      ]
     },
     "metadata": {},
     "output_type": "display_data"
    },
    {
     "data": {
      "text/html": [
       "<span style=\"color:cyan\"> |-Best step: 0</span>"
      ],
      "text/plain": [
       "<IPython.core.display.HTML object>"
      ]
     },
     "metadata": {},
     "output_type": "display_data"
    },
    {
     "data": {
      "text/html": [
       "<span style=\"color:#7E57C2\"><h2 style=\"font-size:16px\">Hyperparameters:</h2></span>"
      ],
      "text/plain": [
       "<IPython.core.display.HTML object>"
      ]
     },
     "metadata": {},
     "output_type": "display_data"
    },
    {
     "data": {
      "text/html": [
       "<span style=\"color:cyan\"> |-hidden_units: 56</span>"
      ],
      "text/plain": [
       "<IPython.core.display.HTML object>"
      ]
     },
     "metadata": {},
     "output_type": "display_data"
    },
    {
     "data": {
      "text/html": [
       "<span style=\"color:blue\"> |-learning_rate: 0.0001</span>"
      ],
      "text/plain": [
       "<IPython.core.display.HTML object>"
      ]
     },
     "metadata": {},
     "output_type": "display_data"
    },
    {
     "data": {
      "text/html": [
       "<span style=\"color:cyan\"> |-tuner/bracket: 0</span>"
      ],
      "text/plain": [
       "<IPython.core.display.HTML object>"
      ]
     },
     "metadata": {},
     "output_type": "display_data"
    },
    {
     "data": {
      "text/html": [
       "<span style=\"color:blue\"> |-tuner/epochs: 50</span>"
      ],
      "text/plain": [
       "<IPython.core.display.HTML object>"
      ]
     },
     "metadata": {},
     "output_type": "display_data"
    },
    {
     "data": {
      "text/html": [
       "<span style=\"color:cyan\"> |-tuner/initial_epoch: 0</span>"
      ],
      "text/plain": [
       "<IPython.core.display.HTML object>"
      ]
     },
     "metadata": {},
     "output_type": "display_data"
    },
    {
     "data": {
      "text/html": [
       "<span style=\"color:blue\"> |-tuner/round: 0</span>"
      ],
      "text/plain": [
       "<IPython.core.display.HTML object>"
      ]
     },
     "metadata": {},
     "output_type": "display_data"
    },
    {
     "name": "stdout",
     "output_type": "stream",
     "text": [
      "Train on 8000 samples, validate on 2000 samples\n",
      "Epoch 1/50\n",
      "8000/8000 - 2s - loss: 0.1124 - mean_squared_error: 0.1122 - mean_absolute_error: 0.2984 - val_loss: 0.0399 - val_mean_squared_error: 0.0397 - val_mean_absolute_error: 0.1754\n",
      "Epoch 2/50\n",
      "8000/8000 - 1s - loss: 0.0215 - mean_squared_error: 0.0212 - mean_absolute_error: 0.1230 - val_loss: 0.0087 - val_mean_squared_error: 0.0083 - val_mean_absolute_error: 0.0806\n",
      "Epoch 3/50\n",
      "8000/8000 - 1s - loss: 0.0077 - mean_squared_error: 0.0072 - mean_absolute_error: 0.0709 - val_loss: 0.0039 - val_mean_squared_error: 0.0035 - val_mean_absolute_error: 0.0519\n",
      "Epoch 4/50\n",
      "8000/8000 - 1s - loss: 0.0050 - mean_squared_error: 0.0045 - mean_absolute_error: 0.0530 - val_loss: 0.0030 - val_mean_squared_error: 0.0025 - val_mean_absolute_error: 0.0408\n",
      "Epoch 5/50\n",
      "8000/8000 - 1s - loss: 0.0041 - mean_squared_error: 0.0035 - mean_absolute_error: 0.0445 - val_loss: 0.0021 - val_mean_squared_error: 0.0015 - val_mean_absolute_error: 0.0325\n",
      "Epoch 6/50\n",
      "8000/8000 - 1s - loss: 0.0036 - mean_squared_error: 0.0030 - mean_absolute_error: 0.0393 - val_loss: 0.0018 - val_mean_squared_error: 0.0013 - val_mean_absolute_error: 0.0285\n",
      "Epoch 7/50\n",
      "8000/8000 - 1s - loss: 0.0034 - mean_squared_error: 0.0028 - mean_absolute_error: 0.0365 - val_loss: 0.0016 - val_mean_squared_error: 9.7164e-04 - val_mean_absolute_error: 0.0251\n",
      "Epoch 8/50\n",
      "8000/8000 - 1s - loss: 0.0032 - mean_squared_error: 0.0026 - mean_absolute_error: 0.0342 - val_loss: 0.0016 - val_mean_squared_error: 9.6956e-04 - val_mean_absolute_error: 0.0239\n",
      "Epoch 9/50\n",
      "8000/8000 - 1s - loss: 0.0032 - mean_squared_error: 0.0026 - mean_absolute_error: 0.0328 - val_loss: 0.0015 - val_mean_squared_error: 8.9085e-04 - val_mean_absolute_error: 0.0227\n",
      "Epoch 10/50\n",
      "8000/8000 - 1s - loss: 0.0032 - mean_squared_error: 0.0025 - mean_absolute_error: 0.0319 - val_loss: 0.0014 - val_mean_squared_error: 7.6861e-04 - val_mean_absolute_error: 0.0212\n",
      "Epoch 11/50\n",
      "8000/8000 - 1s - loss: 0.0031 - mean_squared_error: 0.0025 - mean_absolute_error: 0.0310 - val_loss: 0.0015 - val_mean_squared_error: 8.9215e-04 - val_mean_absolute_error: 0.0219\n",
      "Epoch 12/50\n",
      "8000/8000 - 1s - loss: 0.0031 - mean_squared_error: 0.0025 - mean_absolute_error: 0.0306 - val_loss: 0.0016 - val_mean_squared_error: 9.5179e-04 - val_mean_absolute_error: 0.0219\n",
      "Epoch 13/50\n",
      "8000/8000 - 1s - loss: 0.0031 - mean_squared_error: 0.0024 - mean_absolute_error: 0.0302 - val_loss: 0.0017 - val_mean_squared_error: 0.0010 - val_mean_absolute_error: 0.0222\n",
      "Epoch 14/50\n",
      "8000/8000 - 1s - loss: 0.0031 - mean_squared_error: 0.0024 - mean_absolute_error: 0.0298 - val_loss: 0.0017 - val_mean_squared_error: 0.0010 - val_mean_absolute_error: 0.0221\n",
      "Epoch 15/50\n",
      "8000/8000 - 1s - loss: 0.0031 - mean_squared_error: 0.0024 - mean_absolute_error: 0.0299 - val_loss: 0.0016 - val_mean_squared_error: 9.1175e-04 - val_mean_absolute_error: 0.0212\n"
     ]
    },
    {
     "data": {
      "text/html": [
       "<span style=\"color:#4527A0\"><h1 style=\"font-size:18px\">Trial complete</h1></span>"
      ],
      "text/plain": [
       "<IPython.core.display.HTML object>"
      ]
     },
     "metadata": {},
     "output_type": "display_data"
    },
    {
     "data": {
      "text/html": [
       "<span style=\"color:#4527A0\"><h1 style=\"font-size:18px\">Trial summary</h1></span>"
      ],
      "text/plain": [
       "<IPython.core.display.HTML object>"
      ]
     },
     "metadata": {},
     "output_type": "display_data"
    },
    {
     "data": {
      "text/html": [
       "<span style=\"color:cyan\"> |-Trial ID: 93b3363d085fc3359931d5ff119727d3</span>"
      ],
      "text/plain": [
       "<IPython.core.display.HTML object>"
      ]
     },
     "metadata": {},
     "output_type": "display_data"
    },
    {
     "data": {
      "text/html": [
       "<span style=\"color:cyan\"> |-Score: 0.0007686132448725402</span>"
      ],
      "text/plain": [
       "<IPython.core.display.HTML object>"
      ]
     },
     "metadata": {},
     "output_type": "display_data"
    },
    {
     "data": {
      "text/html": [
       "<span style=\"color:cyan\"> |-Best step: 0</span>"
      ],
      "text/plain": [
       "<IPython.core.display.HTML object>"
      ]
     },
     "metadata": {},
     "output_type": "display_data"
    },
    {
     "data": {
      "text/html": [
       "<span style=\"color:#7E57C2\"><h2 style=\"font-size:16px\">Hyperparameters:</h2></span>"
      ],
      "text/plain": [
       "<IPython.core.display.HTML object>"
      ]
     },
     "metadata": {},
     "output_type": "display_data"
    },
    {
     "data": {
      "text/html": [
       "<span style=\"color:cyan\"> |-hidden_units: 144</span>"
      ],
      "text/plain": [
       "<IPython.core.display.HTML object>"
      ]
     },
     "metadata": {},
     "output_type": "display_data"
    },
    {
     "data": {
      "text/html": [
       "<span style=\"color:blue\"> |-learning_rate: 0.001</span>"
      ],
      "text/plain": [
       "<IPython.core.display.HTML object>"
      ]
     },
     "metadata": {},
     "output_type": "display_data"
    },
    {
     "data": {
      "text/html": [
       "<span style=\"color:cyan\"> |-tuner/bracket: 0</span>"
      ],
      "text/plain": [
       "<IPython.core.display.HTML object>"
      ]
     },
     "metadata": {},
     "output_type": "display_data"
    },
    {
     "data": {
      "text/html": [
       "<span style=\"color:blue\"> |-tuner/epochs: 50</span>"
      ],
      "text/plain": [
       "<IPython.core.display.HTML object>"
      ]
     },
     "metadata": {},
     "output_type": "display_data"
    },
    {
     "data": {
      "text/html": [
       "<span style=\"color:cyan\"> |-tuner/initial_epoch: 0</span>"
      ],
      "text/plain": [
       "<IPython.core.display.HTML object>"
      ]
     },
     "metadata": {},
     "output_type": "display_data"
    },
    {
     "data": {
      "text/html": [
       "<span style=\"color:blue\"> |-tuner/round: 0</span>"
      ],
      "text/plain": [
       "<IPython.core.display.HTML object>"
      ]
     },
     "metadata": {},
     "output_type": "display_data"
    },
    {
     "name": "stdout",
     "output_type": "stream",
     "text": [
      "INFO:tensorflow:Oracle triggered exit\n",
      "605.9393012523651\n"
     ]
    }
   ],
   "source": [
    "### SEARCHING FOR THE ANN LAYOUT THAT ACCOMPLISHES THE HYPERPARAMTER GOALS ###\n",
    "\n",
    "start_time = time.time()\n",
    "# tuner.search(X_scale, Y_scale, epochs=50, validation_split=0.15, callbacks=[stop_early], verbose=2)\n",
    "tuner.search(X_scale, Y_scale, validation_split=0.2, callbacks=[stop_early], verbose=2)\n",
    "searching_time = time.time() - start_time\n",
    "print(searching_time)"
   ]
  },
  {
   "cell_type": "code",
   "execution_count": 8,
   "metadata": {
    "scrolled": true
   },
   "outputs": [
    {
     "name": "stdout",
     "output_type": "stream",
     "text": [
      "Train on 8000 samples, validate on 2000 samples\n",
      "Epoch 1/100\n",
      "8000/8000 - 2s - loss: 0.0980 - mean_squared_error: 0.0978 - mean_absolute_error: 0.2744 - val_loss: 0.0265 - val_mean_squared_error: 0.0262 - val_mean_absolute_error: 0.1432\n",
      "Epoch 2/100\n",
      "8000/8000 - 1s - loss: 0.0140 - mean_squared_error: 0.0136 - mean_absolute_error: 0.0992 - val_loss: 0.0059 - val_mean_squared_error: 0.0055 - val_mean_absolute_error: 0.0657\n",
      "Epoch 3/100\n",
      "8000/8000 - 1s - loss: 0.0054 - mean_squared_error: 0.0050 - mean_absolute_error: 0.0590 - val_loss: 0.0030 - val_mean_squared_error: 0.0026 - val_mean_absolute_error: 0.0439\n",
      "Epoch 4/100\n",
      "8000/8000 - 1s - loss: 0.0038 - mean_squared_error: 0.0033 - mean_absolute_error: 0.0453 - val_loss: 0.0024 - val_mean_squared_error: 0.0018 - val_mean_absolute_error: 0.0350\n",
      "Epoch 5/100\n",
      "8000/8000 - 1s - loss: 0.0032 - mean_squared_error: 0.0026 - mean_absolute_error: 0.0382 - val_loss: 0.0018 - val_mean_squared_error: 0.0012 - val_mean_absolute_error: 0.0284\n",
      "Epoch 6/100\n",
      "8000/8000 - 1s - loss: 0.0029 - mean_squared_error: 0.0023 - mean_absolute_error: 0.0342 - val_loss: 0.0015 - val_mean_squared_error: 9.3073e-04 - val_mean_absolute_error: 0.0246\n",
      "Epoch 7/100\n",
      "8000/8000 - 1s - loss: 0.0027 - mean_squared_error: 0.0021 - mean_absolute_error: 0.0316 - val_loss: 0.0015 - val_mean_squared_error: 8.7833e-04 - val_mean_absolute_error: 0.0231\n",
      "Epoch 8/100\n",
      "8000/8000 - 1s - loss: 0.0026 - mean_squared_error: 0.0020 - mean_absolute_error: 0.0299 - val_loss: 0.0013 - val_mean_squared_error: 7.1118e-04 - val_mean_absolute_error: 0.0207\n",
      "Epoch 9/100\n",
      "8000/8000 - 1s - loss: 0.0026 - mean_squared_error: 0.0020 - mean_absolute_error: 0.0288 - val_loss: 0.0016 - val_mean_squared_error: 9.4450e-04 - val_mean_absolute_error: 0.0222\n",
      "Epoch 10/100\n",
      "8000/8000 - 1s - loss: 0.0026 - mean_squared_error: 0.0019 - mean_absolute_error: 0.0281 - val_loss: 0.0013 - val_mean_squared_error: 6.2708e-04 - val_mean_absolute_error: 0.0190\n",
      "Epoch 11/100\n",
      "8000/8000 - 1s - loss: 0.0026 - mean_squared_error: 0.0019 - mean_absolute_error: 0.0274 - val_loss: 0.0014 - val_mean_squared_error: 7.0645e-04 - val_mean_absolute_error: 0.0196\n",
      "Epoch 12/100\n",
      "8000/8000 - 1s - loss: 0.0025 - mean_squared_error: 0.0019 - mean_absolute_error: 0.0269 - val_loss: 0.0012 - val_mean_squared_error: 5.4277e-04 - val_mean_absolute_error: 0.0177\n",
      "Epoch 13/100\n",
      "8000/8000 - 1s - loss: 0.0026 - mean_squared_error: 0.0019 - mean_absolute_error: 0.0269 - val_loss: 0.0014 - val_mean_squared_error: 7.4581e-04 - val_mean_absolute_error: 0.0196\n",
      "Epoch 14/100\n",
      "8000/8000 - 1s - loss: 0.0026 - mean_squared_error: 0.0019 - mean_absolute_error: 0.0267 - val_loss: 0.0015 - val_mean_squared_error: 8.5734e-04 - val_mean_absolute_error: 0.0203\n",
      "Epoch 15/100\n",
      "8000/8000 - 1s - loss: 0.0026 - mean_squared_error: 0.0019 - mean_absolute_error: 0.0266 - val_loss: 0.0016 - val_mean_squared_error: 8.8169e-04 - val_mean_absolute_error: 0.0206\n",
      "Epoch 16/100\n",
      "8000/8000 - 1s - loss: 0.0025 - mean_squared_error: 0.0018 - mean_absolute_error: 0.0264 - val_loss: 0.0014 - val_mean_squared_error: 6.8759e-04 - val_mean_absolute_error: 0.0188\n",
      "Epoch 17/100\n",
      "8000/8000 - 1s - loss: 0.0025 - mean_squared_error: 0.0019 - mean_absolute_error: 0.0265 - val_loss: 0.0015 - val_mean_squared_error: 8.5304e-04 - val_mean_absolute_error: 0.0203\n",
      "Epoch 18/100\n",
      "8000/8000 - 1s - loss: 0.0026 - mean_squared_error: 0.0019 - mean_absolute_error: 0.0265 - val_loss: 0.0012 - val_mean_squared_error: 5.5073e-04 - val_mean_absolute_error: 0.0173\n",
      "Epoch 19/100\n",
      "8000/8000 - 1s - loss: 0.0026 - mean_squared_error: 0.0019 - mean_absolute_error: 0.0265 - val_loss: 0.0013 - val_mean_squared_error: 5.8715e-04 - val_mean_absolute_error: 0.0177\n",
      "Epoch 20/100\n",
      "8000/8000 - 1s - loss: 0.0025 - mean_squared_error: 0.0019 - mean_absolute_error: 0.0263 - val_loss: 0.0014 - val_mean_squared_error: 6.8538e-04 - val_mean_absolute_error: 0.0186\n",
      "Epoch 21/100\n",
      "8000/8000 - 1s - loss: 0.0025 - mean_squared_error: 0.0018 - mean_absolute_error: 0.0261 - val_loss: 0.0013 - val_mean_squared_error: 6.1740e-04 - val_mean_absolute_error: 0.0180\n",
      "Epoch 22/100\n",
      "8000/8000 - 1s - loss: 0.0025 - mean_squared_error: 0.0018 - mean_absolute_error: 0.0262 - val_loss: 0.0013 - val_mean_squared_error: 5.9608e-04 - val_mean_absolute_error: 0.0177\n",
      "Epoch 23/100\n",
      "8000/8000 - 1s - loss: 0.0025 - mean_squared_error: 0.0019 - mean_absolute_error: 0.0263 - val_loss: 0.0014 - val_mean_squared_error: 6.6720e-04 - val_mean_absolute_error: 0.0185\n",
      "Epoch 24/100\n",
      "8000/8000 - 1s - loss: 0.0025 - mean_squared_error: 0.0018 - mean_absolute_error: 0.0261 - val_loss: 0.0013 - val_mean_squared_error: 5.6855e-04 - val_mean_absolute_error: 0.0174\n",
      "Epoch 25/100\n",
      "8000/8000 - 1s - loss: 0.0025 - mean_squared_error: 0.0018 - mean_absolute_error: 0.0261 - val_loss: 0.0016 - val_mean_squared_error: 9.0610e-04 - val_mean_absolute_error: 0.0206\n",
      "Epoch 26/100\n",
      "8000/8000 - 1s - loss: 0.0025 - mean_squared_error: 0.0018 - mean_absolute_error: 0.0261 - val_loss: 0.0014 - val_mean_squared_error: 7.5934e-04 - val_mean_absolute_error: 0.0193\n",
      "Epoch 27/100\n",
      "8000/8000 - 1s - loss: 0.0025 - mean_squared_error: 0.0018 - mean_absolute_error: 0.0262 - val_loss: 0.0013 - val_mean_squared_error: 6.0139e-04 - val_mean_absolute_error: 0.0178\n",
      "Epoch 28/100\n",
      "8000/8000 - 1s - loss: 0.0025 - mean_squared_error: 0.0019 - mean_absolute_error: 0.0263 - val_loss: 0.0012 - val_mean_squared_error: 5.6489e-04 - val_mean_absolute_error: 0.0174\n",
      "Epoch 29/100\n",
      "8000/8000 - 1s - loss: 0.0025 - mean_squared_error: 0.0018 - mean_absolute_error: 0.0261 - val_loss: 0.0014 - val_mean_squared_error: 7.1891e-04 - val_mean_absolute_error: 0.0189\n",
      "Epoch 30/100\n",
      "8000/8000 - 1s - loss: 0.0025 - mean_squared_error: 0.0018 - mean_absolute_error: 0.0260 - val_loss: 0.0015 - val_mean_squared_error: 7.7418e-04 - val_mean_absolute_error: 0.0194\n",
      "Epoch 31/100\n",
      "8000/8000 - 1s - loss: 0.0025 - mean_squared_error: 0.0018 - mean_absolute_error: 0.0261 - val_loss: 0.0012 - val_mean_squared_error: 5.2994e-04 - val_mean_absolute_error: 0.0170\n",
      "Epoch 32/100\n",
      "8000/8000 - 1s - loss: 0.0025 - mean_squared_error: 0.0018 - mean_absolute_error: 0.0260 - val_loss: 0.0012 - val_mean_squared_error: 5.0536e-04 - val_mean_absolute_error: 0.0167\n",
      "Epoch 33/100\n",
      "8000/8000 - 1s - loss: 0.0025 - mean_squared_error: 0.0018 - mean_absolute_error: 0.0260 - val_loss: 0.0014 - val_mean_squared_error: 7.0935e-04 - val_mean_absolute_error: 0.0188\n",
      "Epoch 34/100\n",
      "8000/8000 - 1s - loss: 0.0025 - mean_squared_error: 0.0018 - mean_absolute_error: 0.0260 - val_loss: 0.0014 - val_mean_squared_error: 6.7518e-04 - val_mean_absolute_error: 0.0184\n",
      "Epoch 35/100\n",
      "8000/8000 - 1s - loss: 0.0025 - mean_squared_error: 0.0018 - mean_absolute_error: 0.0259 - val_loss: 0.0016 - val_mean_squared_error: 9.0682e-04 - val_mean_absolute_error: 0.0205\n",
      "Epoch 36/100\n",
      "8000/8000 - 1s - loss: 0.0025 - mean_squared_error: 0.0019 - mean_absolute_error: 0.0261 - val_loss: 0.0013 - val_mean_squared_error: 6.3560e-04 - val_mean_absolute_error: 0.0181\n",
      "Epoch 37/100\n",
      "8000/8000 - 1s - loss: 0.0025 - mean_squared_error: 0.0018 - mean_absolute_error: 0.0260 - val_loss: 0.0013 - val_mean_squared_error: 6.4129e-04 - val_mean_absolute_error: 0.0181\n",
      "Epoch 38/100\n",
      "8000/8000 - 1s - loss: 0.0025 - mean_squared_error: 0.0018 - mean_absolute_error: 0.0260 - val_loss: 0.0012 - val_mean_squared_error: 5.6248e-04 - val_mean_absolute_error: 0.0172\n",
      "Epoch 39/100\n",
      "8000/8000 - 1s - loss: 0.0025 - mean_squared_error: 0.0018 - mean_absolute_error: 0.0261 - val_loss: 0.0014 - val_mean_squared_error: 7.1216e-04 - val_mean_absolute_error: 0.0188\n",
      "Epoch 40/100\n",
      "8000/8000 - 1s - loss: 0.0025 - mean_squared_error: 0.0019 - mean_absolute_error: 0.0262 - val_loss: 0.0013 - val_mean_squared_error: 5.7347e-04 - val_mean_absolute_error: 0.0175\n",
      "Epoch 41/100\n",
      "8000/8000 - 1s - loss: 0.0025 - mean_squared_error: 0.0018 - mean_absolute_error: 0.0259 - val_loss: 0.0015 - val_mean_squared_error: 8.1064e-04 - val_mean_absolute_error: 0.0197\n",
      "Epoch 42/100\n",
      "8000/8000 - 1s - loss: 0.0025 - mean_squared_error: 0.0018 - mean_absolute_error: 0.0261 - val_loss: 0.0012 - val_mean_squared_error: 5.5395e-04 - val_mean_absolute_error: 0.0173\n",
      "Epoch 43/100\n",
      "8000/8000 - 1s - loss: 0.0025 - mean_squared_error: 0.0018 - mean_absolute_error: 0.0260 - val_loss: 0.0012 - val_mean_squared_error: 5.4000e-04 - val_mean_absolute_error: 0.0171\n"
     ]
    },
    {
     "name": "stdout",
     "output_type": "stream",
     "text": [
      "Epoch 44/100\n",
      "8000/8000 - 1s - loss: 0.0025 - mean_squared_error: 0.0018 - mean_absolute_error: 0.0259 - val_loss: 0.0014 - val_mean_squared_error: 7.0302e-04 - val_mean_absolute_error: 0.0187\n",
      "Epoch 45/100\n",
      "8000/8000 - 1s - loss: 0.0025 - mean_squared_error: 0.0018 - mean_absolute_error: 0.0259 - val_loss: 0.0014 - val_mean_squared_error: 7.5784e-04 - val_mean_absolute_error: 0.0192\n",
      "Epoch 46/100\n",
      "8000/8000 - 1s - loss: 0.0025 - mean_squared_error: 0.0018 - mean_absolute_error: 0.0259 - val_loss: 0.0014 - val_mean_squared_error: 7.3733e-04 - val_mean_absolute_error: 0.0190\n",
      "Epoch 47/100\n",
      "8000/8000 - 1s - loss: 0.0025 - mean_squared_error: 0.0018 - mean_absolute_error: 0.0259 - val_loss: 0.0015 - val_mean_squared_error: 8.1808e-04 - val_mean_absolute_error: 0.0197\n",
      "Epoch 48/100\n",
      "8000/8000 - 1s - loss: 0.0025 - mean_squared_error: 0.0018 - mean_absolute_error: 0.0260 - val_loss: 0.0012 - val_mean_squared_error: 5.3612e-04 - val_mean_absolute_error: 0.0170\n",
      "Epoch 49/100\n",
      "8000/8000 - 1s - loss: 0.0025 - mean_squared_error: 0.0018 - mean_absolute_error: 0.0258 - val_loss: 0.0014 - val_mean_squared_error: 7.0972e-04 - val_mean_absolute_error: 0.0186\n",
      "Epoch 50/100\n",
      "8000/8000 - 1s - loss: 0.0025 - mean_squared_error: 0.0018 - mean_absolute_error: 0.0258 - val_loss: 0.0014 - val_mean_squared_error: 7.5733e-04 - val_mean_absolute_error: 0.0192\n",
      "Epoch 51/100\n",
      "8000/8000 - 1s - loss: 0.0025 - mean_squared_error: 0.0018 - mean_absolute_error: 0.0260 - val_loss: 0.0012 - val_mean_squared_error: 5.2507e-04 - val_mean_absolute_error: 0.0169\n",
      "Epoch 52/100\n",
      "8000/8000 - 1s - loss: 0.0025 - mean_squared_error: 0.0018 - mean_absolute_error: 0.0259 - val_loss: 0.0013 - val_mean_squared_error: 6.1908e-04 - val_mean_absolute_error: 0.0179\n",
      "Epoch 53/100\n",
      "8000/8000 - 1s - loss: 0.0025 - mean_squared_error: 0.0018 - mean_absolute_error: 0.0260 - val_loss: 0.0014 - val_mean_squared_error: 7.5551e-04 - val_mean_absolute_error: 0.0192\n",
      "Epoch 54/100\n",
      "8000/8000 - 1s - loss: 0.0025 - mean_squared_error: 0.0018 - mean_absolute_error: 0.0258 - val_loss: 0.0017 - val_mean_squared_error: 0.0010 - val_mean_absolute_error: 0.0214\n",
      "Epoch 55/100\n",
      "8000/8000 - 1s - loss: 0.0025 - mean_squared_error: 0.0018 - mean_absolute_error: 0.0259 - val_loss: 0.0014 - val_mean_squared_error: 6.8783e-04 - val_mean_absolute_error: 0.0186\n",
      "Epoch 56/100\n",
      "8000/8000 - 1s - loss: 0.0025 - mean_squared_error: 0.0018 - mean_absolute_error: 0.0259 - val_loss: 0.0013 - val_mean_squared_error: 5.9980e-04 - val_mean_absolute_error: 0.0175\n",
      "Epoch 57/100\n",
      "8000/8000 - 1s - loss: 0.0025 - mean_squared_error: 0.0018 - mean_absolute_error: 0.0259 - val_loss: 0.0012 - val_mean_squared_error: 5.2107e-04 - val_mean_absolute_error: 0.0168\n",
      "Epoch 58/100\n",
      "8000/8000 - 1s - loss: 0.0025 - mean_squared_error: 0.0018 - mean_absolute_error: 0.0259 - val_loss: 0.0014 - val_mean_squared_error: 6.7957e-04 - val_mean_absolute_error: 0.0184\n",
      "Epoch 59/100\n",
      "8000/8000 - 1s - loss: 0.0025 - mean_squared_error: 0.0018 - mean_absolute_error: 0.0259 - val_loss: 0.0015 - val_mean_squared_error: 8.2252e-04 - val_mean_absolute_error: 0.0197\n",
      "Epoch 60/100\n",
      "8000/8000 - 1s - loss: 0.0025 - mean_squared_error: 0.0018 - mean_absolute_error: 0.0260 - val_loss: 0.0013 - val_mean_squared_error: 6.0437e-04 - val_mean_absolute_error: 0.0176\n",
      "Epoch 61/100\n",
      "8000/8000 - 1s - loss: 0.0025 - mean_squared_error: 0.0018 - mean_absolute_error: 0.0258 - val_loss: 0.0013 - val_mean_squared_error: 6.6690e-04 - val_mean_absolute_error: 0.0184\n",
      "Epoch 62/100\n",
      "8000/8000 - 1s - loss: 0.0025 - mean_squared_error: 0.0018 - mean_absolute_error: 0.0258 - val_loss: 0.0013 - val_mean_squared_error: 6.4736e-04 - val_mean_absolute_error: 0.0181\n",
      "Epoch 63/100\n",
      "8000/8000 - 1s - loss: 0.0025 - mean_squared_error: 0.0018 - mean_absolute_error: 0.0261 - val_loss: 0.0017 - val_mean_squared_error: 0.0010 - val_mean_absolute_error: 0.0213\n",
      "Epoch 64/100\n",
      "8000/8000 - 1s - loss: 0.0025 - mean_squared_error: 0.0018 - mean_absolute_error: 0.0260 - val_loss: 0.0012 - val_mean_squared_error: 5.4001e-04 - val_mean_absolute_error: 0.0171\n",
      "Epoch 65/100\n",
      "8000/8000 - 1s - loss: 0.0024 - mean_squared_error: 0.0018 - mean_absolute_error: 0.0257 - val_loss: 0.0014 - val_mean_squared_error: 7.4640e-04 - val_mean_absolute_error: 0.0191\n",
      "Epoch 66/100\n",
      "8000/8000 - 1s - loss: 0.0025 - mean_squared_error: 0.0018 - mean_absolute_error: 0.0260 - val_loss: 0.0012 - val_mean_squared_error: 5.4208e-04 - val_mean_absolute_error: 0.0171\n",
      "Epoch 67/100\n",
      "8000/8000 - 1s - loss: 0.0025 - mean_squared_error: 0.0018 - mean_absolute_error: 0.0258 - val_loss: 0.0012 - val_mean_squared_error: 5.3872e-04 - val_mean_absolute_error: 0.0171\n",
      "Epoch 68/100\n",
      "8000/8000 - 1s - loss: 0.0025 - mean_squared_error: 0.0018 - mean_absolute_error: 0.0258 - val_loss: 0.0016 - val_mean_squared_error: 9.6657e-04 - val_mean_absolute_error: 0.0208\n",
      "Epoch 69/100\n",
      "8000/8000 - 1s - loss: 0.0025 - mean_squared_error: 0.0018 - mean_absolute_error: 0.0259 - val_loss: 0.0012 - val_mean_squared_error: 5.4880e-04 - val_mean_absolute_error: 0.0172\n",
      "Epoch 70/100\n",
      "8000/8000 - 1s - loss: 0.0025 - mean_squared_error: 0.0018 - mean_absolute_error: 0.0257 - val_loss: 0.0012 - val_mean_squared_error: 4.7910e-04 - val_mean_absolute_error: 0.0163\n",
      "Epoch 71/100\n",
      "8000/8000 - 1s - loss: 0.0025 - mean_squared_error: 0.0018 - mean_absolute_error: 0.0257 - val_loss: 0.0015 - val_mean_squared_error: 8.0091e-04 - val_mean_absolute_error: 0.0196\n",
      "Epoch 72/100\n",
      "8000/8000 - 1s - loss: 0.0025 - mean_squared_error: 0.0018 - mean_absolute_error: 0.0258 - val_loss: 0.0012 - val_mean_squared_error: 5.1879e-04 - val_mean_absolute_error: 0.0167\n",
      "Epoch 73/100\n",
      "8000/8000 - 1s - loss: 0.0025 - mean_squared_error: 0.0018 - mean_absolute_error: 0.0258 - val_loss: 0.0017 - val_mean_squared_error: 0.0010 - val_mean_absolute_error: 0.0214\n",
      "Epoch 74/100\n",
      "8000/8000 - 1s - loss: 0.0025 - mean_squared_error: 0.0018 - mean_absolute_error: 0.0259 - val_loss: 0.0013 - val_mean_squared_error: 6.2045e-04 - val_mean_absolute_error: 0.0178\n",
      "Epoch 75/100\n",
      "8000/8000 - 1s - loss: 0.0025 - mean_squared_error: 0.0018 - mean_absolute_error: 0.0257 - val_loss: 0.0015 - val_mean_squared_error: 7.9696e-04 - val_mean_absolute_error: 0.0194\n",
      "Epoch 76/100\n",
      "8000/8000 - 1s - loss: 0.0025 - mean_squared_error: 0.0018 - mean_absolute_error: 0.0260 - val_loss: 0.0012 - val_mean_squared_error: 5.0948e-04 - val_mean_absolute_error: 0.0167\n",
      "Epoch 77/100\n",
      "8000/8000 - 1s - loss: 0.0025 - mean_squared_error: 0.0018 - mean_absolute_error: 0.0260 - val_loss: 0.0013 - val_mean_squared_error: 5.9674e-04 - val_mean_absolute_error: 0.0176\n",
      "Epoch 78/100\n",
      "8000/8000 - 1s - loss: 0.0025 - mean_squared_error: 0.0018 - mean_absolute_error: 0.0259 - val_loss: 0.0013 - val_mean_squared_error: 6.1946e-04 - val_mean_absolute_error: 0.0178\n",
      "Epoch 79/100\n",
      "8000/8000 - 1s - loss: 0.0025 - mean_squared_error: 0.0018 - mean_absolute_error: 0.0259 - val_loss: 0.0012 - val_mean_squared_error: 5.1901e-04 - val_mean_absolute_error: 0.0168\n",
      "Epoch 80/100\n",
      "8000/8000 - 1s - loss: 0.0025 - mean_squared_error: 0.0018 - mean_absolute_error: 0.0260 - val_loss: 0.0013 - val_mean_squared_error: 6.4034e-04 - val_mean_absolute_error: 0.0181\n",
      "Epoch 81/100\n",
      "8000/8000 - 1s - loss: 0.0025 - mean_squared_error: 0.0018 - mean_absolute_error: 0.0259 - val_loss: 0.0014 - val_mean_squared_error: 6.8939e-04 - val_mean_absolute_error: 0.0185\n",
      "Epoch 82/100\n",
      "8000/8000 - 1s - loss: 0.0025 - mean_squared_error: 0.0018 - mean_absolute_error: 0.0258 - val_loss: 0.0014 - val_mean_squared_error: 7.4296e-04 - val_mean_absolute_error: 0.0190\n",
      "Epoch 83/100\n",
      "8000/8000 - 1s - loss: 0.0025 - mean_squared_error: 0.0018 - mean_absolute_error: 0.0258 - val_loss: 0.0014 - val_mean_squared_error: 7.3818e-04 - val_mean_absolute_error: 0.0190\n",
      "Epoch 84/100\n",
      "8000/8000 - 1s - loss: 0.0025 - mean_squared_error: 0.0018 - mean_absolute_error: 0.0259 - val_loss: 0.0013 - val_mean_squared_error: 5.6743e-04 - val_mean_absolute_error: 0.0173\n",
      "Epoch 85/100\n",
      "8000/8000 - 1s - loss: 0.0025 - mean_squared_error: 0.0018 - mean_absolute_error: 0.0257 - val_loss: 0.0013 - val_mean_squared_error: 5.9186e-04 - val_mean_absolute_error: 0.0176\n",
      "Epoch 86/100\n",
      "8000/8000 - 1s - loss: 0.0024 - mean_squared_error: 0.0018 - mean_absolute_error: 0.0256 - val_loss: 0.0012 - val_mean_squared_error: 4.8359e-04 - val_mean_absolute_error: 0.0163\n"
     ]
    },
    {
     "name": "stdout",
     "output_type": "stream",
     "text": [
      "Epoch 87/100\n",
      "8000/8000 - 1s - loss: 0.0025 - mean_squared_error: 0.0018 - mean_absolute_error: 0.0256 - val_loss: 0.0016 - val_mean_squared_error: 8.9409e-04 - val_mean_absolute_error: 0.0203\n",
      "Epoch 88/100\n",
      "8000/8000 - 1s - loss: 0.0025 - mean_squared_error: 0.0018 - mean_absolute_error: 0.0257 - val_loss: 0.0014 - val_mean_squared_error: 7.2684e-04 - val_mean_absolute_error: 0.0188\n",
      "Epoch 89/100\n",
      "8000/8000 - 1s - loss: 0.0025 - mean_squared_error: 0.0018 - mean_absolute_error: 0.0257 - val_loss: 0.0012 - val_mean_squared_error: 4.9743e-04 - val_mean_absolute_error: 0.0165\n",
      "Epoch 90/100\n",
      "8000/8000 - 1s - loss: 0.0025 - mean_squared_error: 0.0018 - mean_absolute_error: 0.0257 - val_loss: 0.0013 - val_mean_squared_error: 6.3938e-04 - val_mean_absolute_error: 0.0179\n",
      "Epoch 91/100\n",
      "8000/8000 - 1s - loss: 0.0024 - mean_squared_error: 0.0018 - mean_absolute_error: 0.0256 - val_loss: 0.0016 - val_mean_squared_error: 8.9127e-04 - val_mean_absolute_error: 0.0203\n",
      "Epoch 92/100\n",
      "8000/8000 - 1s - loss: 0.0025 - mean_squared_error: 0.0018 - mean_absolute_error: 0.0257 - val_loss: 0.0015 - val_mean_squared_error: 8.5833e-04 - val_mean_absolute_error: 0.0200\n",
      "Epoch 93/100\n",
      "8000/8000 - 1s - loss: 0.0025 - mean_squared_error: 0.0018 - mean_absolute_error: 0.0257 - val_loss: 0.0013 - val_mean_squared_error: 6.1023e-04 - val_mean_absolute_error: 0.0177\n",
      "Epoch 94/100\n",
      "8000/8000 - 1s - loss: 0.0025 - mean_squared_error: 0.0018 - mean_absolute_error: 0.0258 - val_loss: 0.0013 - val_mean_squared_error: 6.3393e-04 - val_mean_absolute_error: 0.0179\n",
      "Epoch 95/100\n",
      "8000/8000 - 1s - loss: 0.0025 - mean_squared_error: 0.0018 - mean_absolute_error: 0.0257 - val_loss: 0.0014 - val_mean_squared_error: 7.2469e-04 - val_mean_absolute_error: 0.0188\n",
      "Epoch 96/100\n",
      "8000/8000 - 1s - loss: 0.0025 - mean_squared_error: 0.0018 - mean_absolute_error: 0.0258 - val_loss: 0.0013 - val_mean_squared_error: 5.7516e-04 - val_mean_absolute_error: 0.0173\n",
      "Epoch 97/100\n",
      "8000/8000 - 1s - loss: 0.0025 - mean_squared_error: 0.0018 - mean_absolute_error: 0.0256 - val_loss: 0.0014 - val_mean_squared_error: 6.6748e-04 - val_mean_absolute_error: 0.0183\n",
      "Epoch 98/100\n",
      "8000/8000 - 1s - loss: 0.0025 - mean_squared_error: 0.0018 - mean_absolute_error: 0.0257 - val_loss: 0.0013 - val_mean_squared_error: 5.9977e-04 - val_mean_absolute_error: 0.0176\n",
      "Epoch 99/100\n",
      "8000/8000 - 1s - loss: 0.0025 - mean_squared_error: 0.0018 - mean_absolute_error: 0.0258 - val_loss: 0.0013 - val_mean_squared_error: 6.1383e-04 - val_mean_absolute_error: 0.0177\n",
      "Epoch 100/100\n",
      "8000/8000 - 1s - loss: 0.0024 - mean_squared_error: 0.0018 - mean_absolute_error: 0.0255 - val_loss: 0.0013 - val_mean_squared_error: 6.4012e-04 - val_mean_absolute_error: 0.0179\n",
      "Best epoch: 86\n",
      "Train on 8000 samples, validate on 2000 samples\n",
      "Epoch 1/86\n",
      "8000/8000 - 2s - loss: 0.0955 - mean_squared_error: 0.0953 - mean_absolute_error: 0.2703 - val_loss: 0.0252 - val_mean_squared_error: 0.0249 - val_mean_absolute_error: 0.1392\n",
      "Epoch 2/86\n",
      "8000/8000 - 1s - loss: 0.0133 - mean_squared_error: 0.0130 - mean_absolute_error: 0.0968 - val_loss: 0.0056 - val_mean_squared_error: 0.0052 - val_mean_absolute_error: 0.0640\n",
      "Epoch 3/86\n",
      "8000/8000 - 1s - loss: 0.0053 - mean_squared_error: 0.0048 - mean_absolute_error: 0.0578 - val_loss: 0.0030 - val_mean_squared_error: 0.0025 - val_mean_absolute_error: 0.0433\n",
      "Epoch 4/86\n",
      "8000/8000 - 1s - loss: 0.0038 - mean_squared_error: 0.0033 - mean_absolute_error: 0.0446 - val_loss: 0.0022 - val_mean_squared_error: 0.0017 - val_mean_absolute_error: 0.0338\n",
      "Epoch 5/86\n",
      "8000/8000 - 1s - loss: 0.0032 - mean_squared_error: 0.0026 - mean_absolute_error: 0.0380 - val_loss: 0.0017 - val_mean_squared_error: 0.0012 - val_mean_absolute_error: 0.0281\n",
      "Epoch 6/86\n",
      "8000/8000 - 1s - loss: 0.0029 - mean_squared_error: 0.0023 - mean_absolute_error: 0.0341 - val_loss: 0.0015 - val_mean_squared_error: 9.2847e-04 - val_mean_absolute_error: 0.0245\n",
      "Epoch 7/86\n",
      "8000/8000 - 1s - loss: 0.0027 - mean_squared_error: 0.0021 - mean_absolute_error: 0.0314 - val_loss: 0.0015 - val_mean_squared_error: 8.9253e-04 - val_mean_absolute_error: 0.0232\n",
      "Epoch 8/86\n",
      "8000/8000 - 1s - loss: 0.0026 - mean_squared_error: 0.0020 - mean_absolute_error: 0.0298 - val_loss: 0.0014 - val_mean_squared_error: 7.2873e-04 - val_mean_absolute_error: 0.0209\n",
      "Epoch 9/86\n",
      "8000/8000 - 1s - loss: 0.0026 - mean_squared_error: 0.0020 - mean_absolute_error: 0.0287 - val_loss: 0.0015 - val_mean_squared_error: 8.2235e-04 - val_mean_absolute_error: 0.0212\n",
      "Epoch 10/86\n",
      "8000/8000 - 1s - loss: 0.0026 - mean_squared_error: 0.0019 - mean_absolute_error: 0.0280 - val_loss: 0.0012 - val_mean_squared_error: 5.7807e-04 - val_mean_absolute_error: 0.0185\n",
      "Epoch 11/86\n",
      "8000/8000 - 1s - loss: 0.0026 - mean_squared_error: 0.0019 - mean_absolute_error: 0.0274 - val_loss: 0.0012 - val_mean_squared_error: 5.6612e-04 - val_mean_absolute_error: 0.0181\n",
      "Epoch 12/86\n",
      "8000/8000 - 1s - loss: 0.0025 - mean_squared_error: 0.0019 - mean_absolute_error: 0.0270 - val_loss: 0.0012 - val_mean_squared_error: 5.6203e-04 - val_mean_absolute_error: 0.0179\n",
      "Epoch 13/86\n",
      "8000/8000 - 1s - loss: 0.0026 - mean_squared_error: 0.0019 - mean_absolute_error: 0.0269 - val_loss: 0.0013 - val_mean_squared_error: 5.7378e-04 - val_mean_absolute_error: 0.0179\n",
      "Epoch 14/86\n",
      "8000/8000 - 1s - loss: 0.0026 - mean_squared_error: 0.0019 - mean_absolute_error: 0.0267 - val_loss: 0.0014 - val_mean_squared_error: 6.9243e-04 - val_mean_absolute_error: 0.0189\n",
      "Epoch 15/86\n",
      "8000/8000 - 1s - loss: 0.0026 - mean_squared_error: 0.0019 - mean_absolute_error: 0.0267 - val_loss: 0.0014 - val_mean_squared_error: 6.6687e-04 - val_mean_absolute_error: 0.0187\n",
      "Epoch 16/86\n",
      "8000/8000 - 1s - loss: 0.0025 - mean_squared_error: 0.0018 - mean_absolute_error: 0.0264 - val_loss: 0.0014 - val_mean_squared_error: 7.2463e-04 - val_mean_absolute_error: 0.0191\n",
      "Epoch 17/86\n",
      "8000/8000 - 1s - loss: 0.0026 - mean_squared_error: 0.0019 - mean_absolute_error: 0.0265 - val_loss: 0.0016 - val_mean_squared_error: 8.7336e-04 - val_mean_absolute_error: 0.0204\n",
      "Epoch 18/86\n",
      "8000/8000 - 1s - loss: 0.0025 - mean_squared_error: 0.0019 - mean_absolute_error: 0.0264 - val_loss: 0.0013 - val_mean_squared_error: 5.9408e-04 - val_mean_absolute_error: 0.0178\n",
      "Epoch 19/86\n",
      "8000/8000 - 1s - loss: 0.0025 - mean_squared_error: 0.0018 - mean_absolute_error: 0.0263 - val_loss: 0.0014 - val_mean_squared_error: 7.5923e-04 - val_mean_absolute_error: 0.0194\n",
      "Epoch 20/86\n",
      "8000/8000 - 1s - loss: 0.0026 - mean_squared_error: 0.0019 - mean_absolute_error: 0.0265 - val_loss: 0.0015 - val_mean_squared_error: 8.2467e-04 - val_mean_absolute_error: 0.0199\n",
      "Epoch 21/86\n",
      "8000/8000 - 1s - loss: 0.0025 - mean_squared_error: 0.0019 - mean_absolute_error: 0.0262 - val_loss: 0.0014 - val_mean_squared_error: 7.0541e-04 - val_mean_absolute_error: 0.0189\n",
      "Epoch 22/86\n",
      "8000/8000 - 1s - loss: 0.0025 - mean_squared_error: 0.0018 - mean_absolute_error: 0.0262 - val_loss: 0.0013 - val_mean_squared_error: 6.5577e-04 - val_mean_absolute_error: 0.0183\n",
      "Epoch 23/86\n",
      "8000/8000 - 1s - loss: 0.0025 - mean_squared_error: 0.0019 - mean_absolute_error: 0.0263 - val_loss: 0.0013 - val_mean_squared_error: 6.4681e-04 - val_mean_absolute_error: 0.0183\n",
      "Epoch 24/86\n",
      "8000/8000 - 1s - loss: 0.0025 - mean_squared_error: 0.0019 - mean_absolute_error: 0.0263 - val_loss: 0.0015 - val_mean_squared_error: 7.8011e-04 - val_mean_absolute_error: 0.0195\n",
      "Epoch 25/86\n",
      "8000/8000 - 1s - loss: 0.0025 - mean_squared_error: 0.0019 - mean_absolute_error: 0.0263 - val_loss: 0.0016 - val_mean_squared_error: 8.7440e-04 - val_mean_absolute_error: 0.0203\n",
      "Epoch 26/86\n",
      "8000/8000 - 1s - loss: 0.0025 - mean_squared_error: 0.0019 - mean_absolute_error: 0.0262 - val_loss: 0.0016 - val_mean_squared_error: 9.0227e-04 - val_mean_absolute_error: 0.0205\n",
      "Epoch 27/86\n",
      "8000/8000 - 1s - loss: 0.0025 - mean_squared_error: 0.0018 - mean_absolute_error: 0.0262 - val_loss: 0.0012 - val_mean_squared_error: 5.1318e-04 - val_mean_absolute_error: 0.0168\n",
      "Epoch 28/86\n",
      "8000/8000 - 1s - loss: 0.0025 - mean_squared_error: 0.0018 - mean_absolute_error: 0.0261 - val_loss: 0.0013 - val_mean_squared_error: 6.1359e-04 - val_mean_absolute_error: 0.0179\n",
      "Epoch 29/86\n",
      "8000/8000 - 1s - loss: 0.0025 - mean_squared_error: 0.0019 - mean_absolute_error: 0.0263 - val_loss: 0.0013 - val_mean_squared_error: 6.3590e-04 - val_mean_absolute_error: 0.0182\n"
     ]
    },
    {
     "name": "stdout",
     "output_type": "stream",
     "text": [
      "Epoch 30/86\n",
      "8000/8000 - 1s - loss: 0.0025 - mean_squared_error: 0.0018 - mean_absolute_error: 0.0261 - val_loss: 0.0014 - val_mean_squared_error: 6.7762e-04 - val_mean_absolute_error: 0.0185\n",
      "Epoch 31/86\n",
      "8000/8000 - 1s - loss: 0.0025 - mean_squared_error: 0.0018 - mean_absolute_error: 0.0262 - val_loss: 0.0012 - val_mean_squared_error: 5.2814e-04 - val_mean_absolute_error: 0.0170\n",
      "Epoch 32/86\n",
      "8000/8000 - 1s - loss: 0.0025 - mean_squared_error: 0.0018 - mean_absolute_error: 0.0261 - val_loss: 0.0012 - val_mean_squared_error: 5.6413e-04 - val_mean_absolute_error: 0.0173\n",
      "Epoch 33/86\n",
      "8000/8000 - 1s - loss: 0.0025 - mean_squared_error: 0.0018 - mean_absolute_error: 0.0261 - val_loss: 0.0014 - val_mean_squared_error: 7.4057e-04 - val_mean_absolute_error: 0.0191\n",
      "Epoch 34/86\n",
      "8000/8000 - 1s - loss: 0.0025 - mean_squared_error: 0.0018 - mean_absolute_error: 0.0260 - val_loss: 0.0012 - val_mean_squared_error: 4.8668e-04 - val_mean_absolute_error: 0.0166\n",
      "Epoch 35/86\n",
      "8000/8000 - 1s - loss: 0.0025 - mean_squared_error: 0.0018 - mean_absolute_error: 0.0260 - val_loss: 0.0017 - val_mean_squared_error: 9.7886e-04 - val_mean_absolute_error: 0.0212\n",
      "Epoch 36/86\n",
      "8000/8000 - 1s - loss: 0.0025 - mean_squared_error: 0.0018 - mean_absolute_error: 0.0261 - val_loss: 0.0012 - val_mean_squared_error: 5.4564e-04 - val_mean_absolute_error: 0.0171\n",
      "Epoch 37/86\n",
      "8000/8000 - 1s - loss: 0.0025 - mean_squared_error: 0.0018 - mean_absolute_error: 0.0260 - val_loss: 0.0017 - val_mean_squared_error: 0.0010 - val_mean_absolute_error: 0.0217\n",
      "Epoch 38/86\n",
      "8000/8000 - 1s - loss: 0.0025 - mean_squared_error: 0.0018 - mean_absolute_error: 0.0260 - val_loss: 0.0013 - val_mean_squared_error: 6.4500e-04 - val_mean_absolute_error: 0.0182\n",
      "Epoch 39/86\n",
      "8000/8000 - 1s - loss: 0.0025 - mean_squared_error: 0.0019 - mean_absolute_error: 0.0262 - val_loss: 0.0015 - val_mean_squared_error: 7.9235e-04 - val_mean_absolute_error: 0.0196\n",
      "Epoch 40/86\n",
      "8000/8000 - 1s - loss: 0.0025 - mean_squared_error: 0.0018 - mean_absolute_error: 0.0260 - val_loss: 0.0013 - val_mean_squared_error: 5.7704e-04 - val_mean_absolute_error: 0.0174\n",
      "Epoch 41/86\n",
      "8000/8000 - 1s - loss: 0.0025 - mean_squared_error: 0.0018 - mean_absolute_error: 0.0261 - val_loss: 0.0015 - val_mean_squared_error: 8.5429e-04 - val_mean_absolute_error: 0.0200\n",
      "Epoch 42/86\n",
      "8000/8000 - 1s - loss: 0.0025 - mean_squared_error: 0.0018 - mean_absolute_error: 0.0260 - val_loss: 0.0012 - val_mean_squared_error: 4.7190e-04 - val_mean_absolute_error: 0.0164\n",
      "Epoch 43/86\n",
      "8000/8000 - 1s - loss: 0.0025 - mean_squared_error: 0.0018 - mean_absolute_error: 0.0260 - val_loss: 0.0014 - val_mean_squared_error: 7.4768e-04 - val_mean_absolute_error: 0.0192\n",
      "Epoch 44/86\n",
      "8000/8000 - 1s - loss: 0.0025 - mean_squared_error: 0.0018 - mean_absolute_error: 0.0261 - val_loss: 0.0013 - val_mean_squared_error: 6.0158e-04 - val_mean_absolute_error: 0.0177\n",
      "Epoch 45/86\n",
      "8000/8000 - 1s - loss: 0.0025 - mean_squared_error: 0.0018 - mean_absolute_error: 0.0260 - val_loss: 0.0013 - val_mean_squared_error: 5.8999e-04 - val_mean_absolute_error: 0.0176\n",
      "Epoch 46/86\n",
      "8000/8000 - 1s - loss: 0.0025 - mean_squared_error: 0.0018 - mean_absolute_error: 0.0261 - val_loss: 0.0015 - val_mean_squared_error: 8.3990e-04 - val_mean_absolute_error: 0.0199\n",
      "Epoch 47/86\n",
      "8000/8000 - 1s - loss: 0.0025 - mean_squared_error: 0.0018 - mean_absolute_error: 0.0261 - val_loss: 0.0014 - val_mean_squared_error: 6.9398e-04 - val_mean_absolute_error: 0.0186\n",
      "Epoch 48/86\n",
      "8000/8000 - 1s - loss: 0.0025 - mean_squared_error: 0.0018 - mean_absolute_error: 0.0261 - val_loss: 0.0012 - val_mean_squared_error: 5.0295e-04 - val_mean_absolute_error: 0.0166\n",
      "Epoch 49/86\n",
      "8000/8000 - 1s - loss: 0.0025 - mean_squared_error: 0.0019 - mean_absolute_error: 0.0262 - val_loss: 0.0013 - val_mean_squared_error: 6.5257e-04 - val_mean_absolute_error: 0.0182\n",
      "Epoch 50/86\n",
      "8000/8000 - 1s - loss: 0.0025 - mean_squared_error: 0.0018 - mean_absolute_error: 0.0260 - val_loss: 0.0012 - val_mean_squared_error: 5.3963e-04 - val_mean_absolute_error: 0.0171\n",
      "Epoch 51/86\n",
      "8000/8000 - 1s - loss: 0.0025 - mean_squared_error: 0.0018 - mean_absolute_error: 0.0259 - val_loss: 0.0012 - val_mean_squared_error: 5.4108e-04 - val_mean_absolute_error: 0.0171\n",
      "Epoch 52/86\n",
      "8000/8000 - 1s - loss: 0.0025 - mean_squared_error: 0.0018 - mean_absolute_error: 0.0259 - val_loss: 0.0013 - val_mean_squared_error: 6.0568e-04 - val_mean_absolute_error: 0.0177\n",
      "Epoch 53/86\n",
      "8000/8000 - 1s - loss: 0.0025 - mean_squared_error: 0.0018 - mean_absolute_error: 0.0259 - val_loss: 0.0013 - val_mean_squared_error: 6.3727e-04 - val_mean_absolute_error: 0.0181\n",
      "Epoch 54/86\n",
      "8000/8000 - 1s - loss: 0.0025 - mean_squared_error: 0.0018 - mean_absolute_error: 0.0261 - val_loss: 0.0016 - val_mean_squared_error: 9.4505e-04 - val_mean_absolute_error: 0.0208\n",
      "Epoch 55/86\n",
      "8000/8000 - 1s - loss: 0.0025 - mean_squared_error: 0.0018 - mean_absolute_error: 0.0261 - val_loss: 0.0012 - val_mean_squared_error: 5.5280e-04 - val_mean_absolute_error: 0.0172\n",
      "Epoch 56/86\n",
      "8000/8000 - 1s - loss: 0.0025 - mean_squared_error: 0.0018 - mean_absolute_error: 0.0260 - val_loss: 0.0012 - val_mean_squared_error: 5.3691e-04 - val_mean_absolute_error: 0.0170\n",
      "Epoch 57/86\n",
      "8000/8000 - 1s - loss: 0.0025 - mean_squared_error: 0.0018 - mean_absolute_error: 0.0261 - val_loss: 0.0013 - val_mean_squared_error: 5.9602e-04 - val_mean_absolute_error: 0.0177\n",
      "Epoch 58/86\n",
      "8000/8000 - 1s - loss: 0.0025 - mean_squared_error: 0.0018 - mean_absolute_error: 0.0260 - val_loss: 0.0012 - val_mean_squared_error: 5.5257e-04 - val_mean_absolute_error: 0.0171\n",
      "Epoch 59/86\n",
      "8000/8000 - 1s - loss: 0.0025 - mean_squared_error: 0.0018 - mean_absolute_error: 0.0259 - val_loss: 0.0015 - val_mean_squared_error: 8.1765e-04 - val_mean_absolute_error: 0.0198\n",
      "Epoch 60/86\n",
      "8000/8000 - 1s - loss: 0.0025 - mean_squared_error: 0.0018 - mean_absolute_error: 0.0260 - val_loss: 0.0012 - val_mean_squared_error: 5.6193e-04 - val_mean_absolute_error: 0.0173\n",
      "Epoch 61/86\n",
      "8000/8000 - 1s - loss: 0.0025 - mean_squared_error: 0.0018 - mean_absolute_error: 0.0259 - val_loss: 0.0013 - val_mean_squared_error: 6.1866e-04 - val_mean_absolute_error: 0.0178\n",
      "Epoch 62/86\n",
      "8000/8000 - 1s - loss: 0.0025 - mean_squared_error: 0.0018 - mean_absolute_error: 0.0259 - val_loss: 0.0012 - val_mean_squared_error: 5.6060e-04 - val_mean_absolute_error: 0.0172\n",
      "Epoch 63/86\n",
      "8000/8000 - 1s - loss: 0.0025 - mean_squared_error: 0.0018 - mean_absolute_error: 0.0258 - val_loss: 0.0017 - val_mean_squared_error: 0.0010 - val_mean_absolute_error: 0.0213\n",
      "Epoch 64/86\n",
      "8000/8000 - 1s - loss: 0.0025 - mean_squared_error: 0.0018 - mean_absolute_error: 0.0260 - val_loss: 0.0015 - val_mean_squared_error: 7.9811e-04 - val_mean_absolute_error: 0.0195\n",
      "Epoch 65/86\n",
      "8000/8000 - 1s - loss: 0.0025 - mean_squared_error: 0.0018 - mean_absolute_error: 0.0260 - val_loss: 0.0014 - val_mean_squared_error: 6.9502e-04 - val_mean_absolute_error: 0.0187\n",
      "Epoch 66/86\n",
      "8000/8000 - 1s - loss: 0.0025 - mean_squared_error: 0.0018 - mean_absolute_error: 0.0259 - val_loss: 0.0012 - val_mean_squared_error: 5.3367e-04 - val_mean_absolute_error: 0.0170\n",
      "Epoch 67/86\n",
      "8000/8000 - 1s - loss: 0.0025 - mean_squared_error: 0.0018 - mean_absolute_error: 0.0258 - val_loss: 0.0012 - val_mean_squared_error: 4.9156e-04 - val_mean_absolute_error: 0.0165\n",
      "Epoch 68/86\n",
      "8000/8000 - 1s - loss: 0.0025 - mean_squared_error: 0.0018 - mean_absolute_error: 0.0259 - val_loss: 0.0016 - val_mean_squared_error: 9.2602e-04 - val_mean_absolute_error: 0.0205\n",
      "Epoch 69/86\n",
      "8000/8000 - 1s - loss: 0.0025 - mean_squared_error: 0.0018 - mean_absolute_error: 0.0260 - val_loss: 0.0014 - val_mean_squared_error: 7.0482e-04 - val_mean_absolute_error: 0.0187\n",
      "Epoch 70/86\n",
      "8000/8000 - 1s - loss: 0.0025 - mean_squared_error: 0.0018 - mean_absolute_error: 0.0260 - val_loss: 0.0012 - val_mean_squared_error: 5.5599e-04 - val_mean_absolute_error: 0.0172\n",
      "Epoch 71/86\n",
      "8000/8000 - 1s - loss: 0.0025 - mean_squared_error: 0.0019 - mean_absolute_error: 0.0262 - val_loss: 0.0016 - val_mean_squared_error: 8.6834e-04 - val_mean_absolute_error: 0.0201\n",
      "Epoch 72/86\n",
      "8000/8000 - 1s - loss: 0.0025 - mean_squared_error: 0.0018 - mean_absolute_error: 0.0260 - val_loss: 0.0013 - val_mean_squared_error: 6.0168e-04 - val_mean_absolute_error: 0.0177\n"
     ]
    },
    {
     "name": "stdout",
     "output_type": "stream",
     "text": [
      "Epoch 73/86\n",
      "8000/8000 - 1s - loss: 0.0025 - mean_squared_error: 0.0018 - mean_absolute_error: 0.0257 - val_loss: 0.0016 - val_mean_squared_error: 8.8680e-04 - val_mean_absolute_error: 0.0203\n",
      "Epoch 74/86\n",
      "8000/8000 - 1s - loss: 0.0025 - mean_squared_error: 0.0018 - mean_absolute_error: 0.0260 - val_loss: 0.0016 - val_mean_squared_error: 9.1609e-04 - val_mean_absolute_error: 0.0204\n",
      "Epoch 75/86\n",
      "8000/8000 - 1s - loss: 0.0025 - mean_squared_error: 0.0018 - mean_absolute_error: 0.0258 - val_loss: 0.0014 - val_mean_squared_error: 6.8532e-04 - val_mean_absolute_error: 0.0185\n",
      "Epoch 76/86\n",
      "8000/8000 - 1s - loss: 0.0025 - mean_squared_error: 0.0018 - mean_absolute_error: 0.0260 - val_loss: 0.0013 - val_mean_squared_error: 6.2087e-04 - val_mean_absolute_error: 0.0178\n",
      "Epoch 77/86\n",
      "8000/8000 - 1s - loss: 0.0025 - mean_squared_error: 0.0018 - mean_absolute_error: 0.0259 - val_loss: 0.0015 - val_mean_squared_error: 7.8445e-04 - val_mean_absolute_error: 0.0195\n",
      "Epoch 78/86\n",
      "8000/8000 - 1s - loss: 0.0025 - mean_squared_error: 0.0018 - mean_absolute_error: 0.0260 - val_loss: 0.0013 - val_mean_squared_error: 6.5711e-04 - val_mean_absolute_error: 0.0182\n",
      "Epoch 79/86\n",
      "8000/8000 - 1s - loss: 0.0025 - mean_squared_error: 0.0018 - mean_absolute_error: 0.0258 - val_loss: 0.0012 - val_mean_squared_error: 4.8403e-04 - val_mean_absolute_error: 0.0164\n",
      "Epoch 80/86\n",
      "8000/8000 - 1s - loss: 0.0025 - mean_squared_error: 0.0018 - mean_absolute_error: 0.0258 - val_loss: 0.0013 - val_mean_squared_error: 6.6139e-04 - val_mean_absolute_error: 0.0182\n",
      "Epoch 81/86\n",
      "8000/8000 - 1s - loss: 0.0025 - mean_squared_error: 0.0018 - mean_absolute_error: 0.0258 - val_loss: 0.0013 - val_mean_squared_error: 5.7557e-04 - val_mean_absolute_error: 0.0173\n",
      "Epoch 82/86\n",
      "8000/8000 - 1s - loss: 0.0025 - mean_squared_error: 0.0018 - mean_absolute_error: 0.0258 - val_loss: 0.0013 - val_mean_squared_error: 6.4161e-04 - val_mean_absolute_error: 0.0180\n",
      "Epoch 83/86\n",
      "8000/8000 - 1s - loss: 0.0025 - mean_squared_error: 0.0018 - mean_absolute_error: 0.0260 - val_loss: 0.0014 - val_mean_squared_error: 6.7527e-04 - val_mean_absolute_error: 0.0184\n",
      "Epoch 84/86\n",
      "8000/8000 - 1s - loss: 0.0025 - mean_squared_error: 0.0018 - mean_absolute_error: 0.0259 - val_loss: 0.0013 - val_mean_squared_error: 5.7189e-04 - val_mean_absolute_error: 0.0173\n",
      "Epoch 85/86\n",
      "8000/8000 - 1s - loss: 0.0025 - mean_squared_error: 0.0018 - mean_absolute_error: 0.0257 - val_loss: 0.0013 - val_mean_squared_error: 6.2045e-04 - val_mean_absolute_error: 0.0178\n",
      "Epoch 86/86\n",
      "8000/8000 - 1s - loss: 0.0025 - mean_squared_error: 0.0018 - mean_absolute_error: 0.0258 - val_loss: 0.0012 - val_mean_squared_error: 4.8770e-04 - val_mean_absolute_error: 0.0163\n"
     ]
    }
   ],
   "source": [
    "# Build the model with the optimal hyperparameters and train it on the data for 25 epochs\n",
    "best_hps=tuner.get_best_hyperparameters(num_trials=1)[0]\n",
    "# print(f\"\"\"\n",
    "# The hyperparameter search is complete:\\n- The optimal number of hidden layers are {best_hps.get('n_layers')}\\n- The optimal learning rate for the optimizer\n",
    "# is {best_hps.get('learning_rate')}\\n- The optimal regularizer penalty is {best_hps.get('regularizer_penalty')}\n",
    "# \"\"\")\n",
    "model = tuner.hypermodel.build(best_hps)\n",
    "history = model.fit(X_scale, Y_scale, epochs=100, shuffle=True, validation_split=0.2, verbose=2)\n",
    "\n",
    "mean_squared_error_per_epoch = history.history['mean_squared_error']\n",
    "best_epoch = mean_squared_error_per_epoch.index(min(mean_squared_error_per_epoch)) + 1\n",
    "print('Best epoch: %d' % (best_epoch,))\n",
    "hypermodel = tuner.hypermodel.build(best_hps)\n",
    "\n",
    "# Retrain the model\n",
    "hypermodel_hist = hypermodel.fit(X_scale, Y_scale, epochs=best_epoch, shuffle=True, validation_split=0.2, verbose=2)"
   ]
  },
  {
   "cell_type": "code",
   "execution_count": 9,
   "metadata": {},
   "outputs": [
    {
     "name": "stdout",
     "output_type": "stream",
     "text": [
      "- hidden_units: 196\n",
      "- learning_rate: 0.001\n",
      "- tuner/epochs: 50\n",
      "- tuner/initial_epoch: 0\n",
      "- tuner/bracket: 0\n",
      "- tuner/round: 0\n"
     ]
    }
   ],
   "source": [
    "# List the tuned hyperparameter values\n",
    "# best_hps.__dict__.keys()\n",
    "for key, value in best_hps.__dict__['values'].items():\n",
    "    print(f'- {key}: {value}')"
   ]
  },
  {
   "cell_type": "code",
   "execution_count": 10,
   "metadata": {},
   "outputs": [
    {
     "name": "stdout",
     "output_type": "stream",
     "text": [
      "['loss', 'mean_squared_error', 'mean_absolute_error']\n",
      "MSE test: 0.000505145697388798\n"
     ]
    }
   ],
   "source": [
    "file_path = '/Users/jackkelly/Desktop/Building_Model/Data_NEW/10000_initial_data_testing.csv'\n",
    "X_test, Y_test = processing_data(N_channels, file_path)\n",
    "eval_result = hypermodel.evaluate(X_test, Y_test, verbose=0)[1]\n",
    "print(hypermodel.metrics_names)\n",
    "print(f'MSE test: {eval_result}')"
   ]
  },
  {
   "cell_type": "code",
   "execution_count": 11,
   "metadata": {},
   "outputs": [
    {
     "data": {
      "image/png": "[encoded data removed]",
      "text/plain": [
       "<Figure size 432x288 with 1 Axes>"
      ]
     },
     "metadata": {
      "needs_background": "light"
     },
     "output_type": "display_data"
    },
    {
     "data": {
      "image/png": "[encoded data removed]",
      "text/plain": [
       "<Figure size 432x288 with 1 Axes>"
      ]
     },
     "metadata": {
      "needs_background": "light"
     },
     "output_type": "display_data"
    }
   ],
   "source": [
    "def visualising_data_MSE(hist, name):\n",
    "#     MSE\n",
    "    plt.title('Mean squared error vs. the number of epochs')\n",
    "    plt.plot(hist.history['mean_squared_error'], label='Train')\n",
    "    plt.plot(hist.history['val_mean_squared_error'], label='Validation')\n",
    "    plt.ylabel('MSE')\n",
    "    plt.xlabel('Epoch')\n",
    "    plt.legend()\n",
    "    plt.savefig(name, bbox_inches='tight', format='svg', dpi=1200)\n",
    "    plt.show()\n",
    "\n",
    "def visualising_data_MAE(hist, name):\n",
    "    plt.title('Mean absolute error vs. the number of epochs')\n",
    "    plt.plot(hist.history['mean_absolute_error'], label='Train')\n",
    "    plt.plot(hist.history['val_mean_absolute_error'], label='Validation')\n",
    "    plt.ylabel('MAE')\n",
    "    plt.xlabel('Epoch')\n",
    "    plt.legend()\n",
    "    plt.savefig(name, bbox_inches='tight', format='svg', dpi=1200)\n",
    "    plt.show()\n",
    "    \n",
    "# data up to the best epoch\n",
    "# visualising_data_MSE(hypermodel_hist, '/Users/jackkelly/Desktop/Building_Model/Figures/hypermodel_results_MSE.svg')\n",
    "# data for the full 100 epochs\n",
    "visualising_data_MSE(history, '/Users/jackkelly/Desktop/Building_Model/Figures/full_epochs_results_MSE_FPGA.svg')\n",
    "visualising_data_MAE(history, '/Users/jackkelly/Desktop/Building_Model/Figures/full_epochs_results_MAE_FPGA.svg')"
   ]
  },
  {
   "cell_type": "code",
   "execution_count": 12,
   "metadata": {},
   "outputs": [
    {
     "name": "stdout",
     "output_type": "stream",
     "text": [
      "Model: \"sequential\"\n",
      "_________________________________________________________________\n",
      "Layer (type)                 Output Shape              Param #   \n",
      "=================================================================\n",
      "dense (Dense)                (None, 196)               8232      \n",
      "_________________________________________________________________\n",
      "dropout (Dropout)            (None, 196)               0         \n",
      "_________________________________________________________________\n",
      "dense_1 (Dense)              (None, 40)                7880      \n",
      "=================================================================\n",
      "Total params: 16,112\n",
      "Trainable params: 16,112\n",
      "Non-trainable params: 0\n",
      "_________________________________________________________________\n"
     ]
    }
   ],
   "source": [
    "# shows weights of the ANN\n",
    "# print(hypermodel.weights)\n",
    "hypermodel.summary()"
   ]
  },
  {
   "cell_type": "code",
   "execution_count": 13,
   "metadata": {},
   "outputs": [],
   "source": [
    "# Compare to previous model\n",
    "# model_drop01 = keras.models.load_model('/Users/jackkelly/Desktop/Building_Model/Tuned_40_channels_ANN_model_FPGA.h5')\n",
    "# drop01_result = model_drop01.evaluate(X_test, Y_test, verbose=0)[1]\n",
    "# print(f'MSE test with Dropout 0.1: {drop01_result}')\n",
    "# print(f'MSE test with Dropout 0.2: {eval_result}')"
   ]
  },
  {
   "cell_type": "code",
   "execution_count": 14,
   "metadata": {},
   "outputs": [],
   "source": [
    "# save the tuned model\n",
    "hypermodel.save('/Users/jackkelly/Desktop/Building_Model/Tuned_40_channels_ANN_model_FPGA.h5')"
   ]
  },
  {
   "cell_type": "code",
   "execution_count": 97,
   "metadata": {},
   "outputs": [
    {
     "name": "stdout",
     "output_type": "stream",
     "text": [
      "Saved baseline model to: /var/folders/yp/nbwcv8453t3f3sx3xxwwycqm0000gn/T/tmplve3fos_.h5\n"
     ]
    }
   ],
   "source": [
    "_, keras_file = tempfile.mkstemp('.h5')\n",
    "tf.keras.models.save_model(hypermodel, keras_file, include_optimizer=False)\n",
    "print('Saved baseline model to:', keras_file)"
   ]
  },
  {
   "cell_type": "markdown",
   "metadata": {},
   "source": [
    "# Low-magnitude Pruning"
   ]
  },
  {
   "cell_type": "code",
   "execution_count": 110,
   "metadata": {},
   "outputs": [
    {
     "name": "stdout",
     "output_type": "stream",
     "text": [
      "Model: \"sequential\"\n",
      "_________________________________________________________________\n",
      "Layer (type)                 Output Shape              Param #   \n",
      "=================================================================\n",
      "prune_low_magnitude_dense (P (None, 196)               16270     \n",
      "_________________________________________________________________\n",
      "prune_low_magnitude_dropout  (None, 196)               1         \n",
      "_________________________________________________________________\n",
      "prune_low_magnitude_dense_1  (None, 40)                15722     \n",
      "=================================================================\n",
      "Total params: 31,993\n",
      "Trainable params: 16,112\n",
      "Non-trainable params: 15,881\n",
      "_________________________________________________________________\n"
     ]
    }
   ],
   "source": [
    "import tensorflow_model_optimization as tfmot\n",
    "\n",
    "model = keras.models.load_model('/Users/jackkelly/Desktop/Building_Model/Tuned_40_channels_ANN_model_FPGA.h5')\n",
    "\n",
    "prune_low_magnitude = tfmot.sparsity.keras.prune_low_magnitude\n",
    "\n",
    "# Compute end step to finish pruning after 2 epochs.\n",
    "batch_size = 32\n",
    "epochs = 100\n",
    "validation_split = 0.2 # 20% of training set will be used for validation set. \n",
    "\n",
    "# num_images = train_images.shape[0] * (1 - validation_split)\n",
    "# end_step = np.ceil(num_images / batch_size).astype(np.int32) * epochs\n",
    "\n",
    "# Define model for pruning.\n",
    "# pruning_params = {\n",
    "#       'pruning_schedule': tfmot.sparsity.keras.PolynomialDecay(initial_sparsity=0.5,\n",
    "#                                                                final_sparsity=0.80,\n",
    "#                                                                begin_step=0,\n",
    "#                                                                end_step=2000)\n",
    "# }\n",
    "\n",
    "model_for_pruning = prune_low_magnitude(model)\n",
    "\n",
    "# `prune_low_magnitude` requires a recompile.\n",
    "# model_for_pruning.compile(optimizer='adam',\n",
    "#               loss=tf.keras.losses.SparseCategoricalCrossentropy(from_logits=True),\n",
    "#               metrics=['accuracy'])\n",
    "\n",
    "# `prune_low_magnitude` requires a recompile.\n",
    "model_for_pruning.compile(optimizer=keras.optimizers.Adam(),\n",
    "                    loss=keras.losses.MeanSquaredError(), metrics=['mean_squared_error', 'mean_absolute_error'])\n",
    "\n",
    "model_for_pruning.summary()"
   ]
  },
  {
   "cell_type": "code",
   "execution_count": 111,
   "metadata": {},
   "outputs": [
    {
     "name": "stdout",
     "output_type": "stream",
     "text": [
      "Train on 8000 samples, validate on 2000 samples\n",
      "Epoch 1/100\n",
      "8000/8000 [==============================] - ETA: 5:49 - loss: 0.0090 - mean_squared_error: 0.0084 - mean_absolute_error: 0.05 - ETA: 1:11 - loss: 0.0097 - mean_squared_error: 0.0091 - mean_absolute_error: 0.05 - ETA: 21s - loss: 0.0086 - mean_squared_error: 0.0079 - mean_absolute_error: 0.0505 - ETA: 12s - loss: 0.0076 - mean_squared_error: 0.0070 - mean_absolute_error: 0.047 - ETA: 8s - loss: 0.0070 - mean_squared_error: 0.0064 - mean_absolute_error: 0.045 - ETA: 6s - loss: 0.0065 - mean_squared_error: 0.0059 - mean_absolute_error: 0.04 - ETA: 5s - loss: 0.0062 - mean_squared_error: 0.0055 - mean_absolute_error: 0.04 - ETA: 4s - loss: 0.0059 - mean_squared_error: 0.0053 - mean_absolute_error: 0.04 - ETA: 3s - loss: 0.0057 - mean_squared_error: 0.0051 - mean_absolute_error: 0.04 - ETA: 2s - loss: 0.0055 - mean_squared_error: 0.0049 - mean_absolute_error: 0.04 - ETA: 2s - loss: 0.0053 - mean_squared_error: 0.0047 - mean_absolute_error: 0.04 - ETA: 2s - loss: 0.0051 - mean_squared_error: 0.0045 - mean_absolute_error: 0.03 - ETA: 1s - loss: 0.0050 - mean_squared_error: 0.0044 - mean_absolute_error: 0.03 - ETA: 1s - loss: 0.0049 - mean_squared_error: 0.0043 - mean_absolute_error: 0.03 - ETA: 1s - loss: 0.0048 - mean_squared_error: 0.0041 - mean_absolute_error: 0.03 - ETA: 0s - loss: 0.0047 - mean_squared_error: 0.0040 - mean_absolute_error: 0.03 - ETA: 0s - loss: 0.0046 - mean_squared_error: 0.0040 - mean_absolute_error: 0.03 - ETA: 0s - loss: 0.0045 - mean_squared_error: 0.0039 - mean_absolute_error: 0.03 - ETA: 0s - loss: 0.0044 - mean_squared_error: 0.0038 - mean_absolute_error: 0.03 - ETA: 0s - loss: 0.0044 - mean_squared_error: 0.0037 - mean_absolute_error: 0.03 - ETA: 0s - loss: 0.0043 - mean_squared_error: 0.0037 - mean_absolute_error: 0.03 - 3s 360us/sample - loss: 0.0042 - mean_squared_error: 0.0036 - mean_absolute_error: 0.0365 - val_loss: 0.0018 - val_mean_squared_error: 0.0012 - val_mean_absolute_error: 0.0245\n",
      "Epoch 2/100\n",
      "8000/8000 [==============================] - ETA: 1s - loss: 0.0028 - mean_squared_error: 0.0021 - mean_absolute_error: 0.03 - ETA: 1s - loss: 0.0029 - mean_squared_error: 0.0023 - mean_absolute_error: 0.03 - ETA: 0s - loss: 0.0031 - mean_squared_error: 0.0024 - mean_absolute_error: 0.03 - ETA: 0s - loss: 0.0030 - mean_squared_error: 0.0024 - mean_absolute_error: 0.03 - ETA: 0s - loss: 0.0030 - mean_squared_error: 0.0024 - mean_absolute_error: 0.03 - ETA: 0s - loss: 0.0030 - mean_squared_error: 0.0023 - mean_absolute_error: 0.03 - ETA: 0s - loss: 0.0029 - mean_squared_error: 0.0023 - mean_absolute_error: 0.03 - ETA: 0s - loss: 0.0029 - mean_squared_error: 0.0023 - mean_absolute_error: 0.03 - ETA: 0s - loss: 0.0029 - mean_squared_error: 0.0023 - mean_absolute_error: 0.03 - ETA: 0s - loss: 0.0029 - mean_squared_error: 0.0023 - mean_absolute_error: 0.03 - ETA: 0s - loss: 0.0029 - mean_squared_error: 0.0023 - mean_absolute_error: 0.03 - ETA: 0s - loss: 0.0029 - mean_squared_error: 0.0023 - mean_absolute_error: 0.03 - ETA: 0s - loss: 0.0029 - mean_squared_error: 0.0023 - mean_absolute_error: 0.03 - ETA: 0s - loss: 0.0029 - mean_squared_error: 0.0023 - mean_absolute_error: 0.03 - ETA: 0s - loss: 0.0029 - mean_squared_error: 0.0022 - mean_absolute_error: 0.03 - ETA: 0s - loss: 0.0029 - mean_squared_error: 0.0022 - mean_absolute_error: 0.03 - ETA: 0s - loss: 0.0029 - mean_squared_error: 0.0022 - mean_absolute_error: 0.03 - ETA: 0s - loss: 0.0029 - mean_squared_error: 0.0022 - mean_absolute_error: 0.03 - ETA: 0s - loss: 0.0028 - mean_squared_error: 0.0022 - mean_absolute_error: 0.03 - ETA: 0s - loss: 0.0028 - mean_squared_error: 0.0022 - mean_absolute_error: 0.03 - 1s 151us/sample - loss: 0.0028 - mean_squared_error: 0.0022 - mean_absolute_error: 0.0299 - val_loss: 0.0016 - val_mean_squared_error: 9.4081e-04 - val_mean_absolute_error: 0.0220\n",
      "Epoch 3/100\n",
      "8000/8000 [==============================] - ETA: 1s - loss: 0.0020 - mean_squared_error: 0.0013 - mean_absolute_error: 0.02 - ETA: 1s - loss: 0.0026 - mean_squared_error: 0.0019 - mean_absolute_error: 0.02 - ETA: 0s - loss: 0.0026 - mean_squared_error: 0.0019 - mean_absolute_error: 0.02 - ETA: 0s - loss: 0.0026 - mean_squared_error: 0.0019 - mean_absolute_error: 0.02 - ETA: 0s - loss: 0.0026 - mean_squared_error: 0.0020 - mean_absolute_error: 0.02 - ETA: 0s - loss: 0.0027 - mean_squared_error: 0.0020 - mean_absolute_error: 0.02 - ETA: 0s - loss: 0.0026 - mean_squared_error: 0.0020 - mean_absolute_error: 0.02 - ETA: 0s - loss: 0.0026 - mean_squared_error: 0.0020 - mean_absolute_error: 0.02 - ETA: 0s - loss: 0.0027 - mean_squared_error: 0.0020 - mean_absolute_error: 0.02 - ETA: 0s - loss: 0.0027 - mean_squared_error: 0.0020 - mean_absolute_error: 0.02 - ETA: 0s - loss: 0.0026 - mean_squared_error: 0.0020 - mean_absolute_error: 0.02 - ETA: 0s - loss: 0.0026 - mean_squared_error: 0.0020 - mean_absolute_error: 0.02 - ETA: 0s - loss: 0.0026 - mean_squared_error: 0.0020 - mean_absolute_error: 0.02 - ETA: 0s - loss: 0.0026 - mean_squared_error: 0.0020 - mean_absolute_error: 0.02 - ETA: 0s - loss: 0.0026 - mean_squared_error: 0.0020 - mean_absolute_error: 0.02 - ETA: 0s - loss: 0.0026 - mean_squared_error: 0.0020 - mean_absolute_error: 0.02 - ETA: 0s - loss: 0.0026 - mean_squared_error: 0.0020 - mean_absolute_error: 0.02 - ETA: 0s - loss: 0.0026 - mean_squared_error: 0.0020 - mean_absolute_error: 0.02 - ETA: 0s - loss: 0.0026 - mean_squared_error: 0.0020 - mean_absolute_error: 0.02 - ETA: 0s - loss: 0.0026 - mean_squared_error: 0.0020 - mean_absolute_error: 0.02 - 1s 148us/sample - loss: 0.0026 - mean_squared_error: 0.0020 - mean_absolute_error: 0.0280 - val_loss: 0.0014 - val_mean_squared_error: 7.0552e-04 - val_mean_absolute_error: 0.0197\n",
      "Epoch 4/100\n",
      "8000/8000 [==============================] - ETA: 1s - loss: 0.0027 - mean_squared_error: 0.0020 - mean_absolute_error: 0.02 - ETA: 1s - loss: 0.0027 - mean_squared_error: 0.0020 - mean_absolute_error: 0.02 - ETA: 0s - loss: 0.0027 - mean_squared_error: 0.0020 - mean_absolute_error: 0.02 - ETA: 0s - loss: 0.0027 - mean_squared_error: 0.0020 - mean_absolute_error: 0.02 - ETA: 0s - loss: 0.0027 - mean_squared_error: 0.0020 - mean_absolute_error: 0.02 - ETA: 0s - loss: 0.0027 - mean_squared_error: 0.0020 - mean_absolute_error: 0.02 - ETA: 0s - loss: 0.0026 - mean_squared_error: 0.0020 - mean_absolute_error: 0.02 - ETA: 0s - loss: 0.0026 - mean_squared_error: 0.0019 - mean_absolute_error: 0.02 - ETA: 0s - loss: 0.0026 - mean_squared_error: 0.0019 - mean_absolute_error: 0.02 - ETA: 0s - loss: 0.0026 - mean_squared_error: 0.0019 - mean_absolute_error: 0.02 - ETA: 0s - loss: 0.0026 - mean_squared_error: 0.0019 - mean_absolute_error: 0.02 - ETA: 0s - loss: 0.0026 - mean_squared_error: 0.0019 - mean_absolute_error: 0.02 - ETA: 0s - loss: 0.0026 - mean_squared_error: 0.0019 - mean_absolute_error: 0.02 - ETA: 0s - loss: 0.0026 - mean_squared_error: 0.0019 - mean_absolute_error: 0.02 - ETA: 0s - loss: 0.0026 - mean_squared_error: 0.0019 - mean_absolute_error: 0.02 - ETA: 0s - loss: 0.0026 - mean_squared_error: 0.0019 - mean_absolute_error: 0.02 - ETA: 0s - loss: 0.0026 - mean_squared_error: 0.0019 - mean_absolute_error: 0.02 - ETA: 0s - loss: 0.0026 - mean_squared_error: 0.0019 - mean_absolute_error: 0.02 - ETA: 0s - loss: 0.0026 - mean_squared_error: 0.0019 - mean_absolute_error: 0.02 - ETA: 0s - loss: 0.0026 - mean_squared_error: 0.0019 - mean_absolute_error: 0.02 - ETA: 0s - loss: 0.0026 - mean_squared_error: 0.0019 - mean_absolute_error: 0.02 - 1s 156us/sample - loss: 0.0026 - mean_squared_error: 0.0019 - mean_absolute_error: 0.0273 - val_loss: 0.0016 - val_mean_squared_error: 9.2915e-04 - val_mean_absolute_error: 0.0213\n",
      "Epoch 5/100\n"
     ]
    },
    {
     "name": "stdout",
     "output_type": "stream",
     "text": [
      "8000/8000 [==============================] - ETA: 1s - loss: 0.0025 - mean_squared_error: 0.0018 - mean_absolute_error: 0.02 - ETA: 1s - loss: 0.0027 - mean_squared_error: 0.0020 - mean_absolute_error: 0.02 - ETA: 1s - loss: 0.0027 - mean_squared_error: 0.0020 - mean_absolute_error: 0.02 - ETA: 0s - loss: 0.0026 - mean_squared_error: 0.0020 - mean_absolute_error: 0.02 - ETA: 0s - loss: 0.0026 - mean_squared_error: 0.0019 - mean_absolute_error: 0.02 - ETA: 0s - loss: 0.0025 - mean_squared_error: 0.0019 - mean_absolute_error: 0.02 - ETA: 0s - loss: 0.0025 - mean_squared_error: 0.0019 - mean_absolute_error: 0.02 - ETA: 0s - loss: 0.0025 - mean_squared_error: 0.0019 - mean_absolute_error: 0.02 - ETA: 0s - loss: 0.0026 - mean_squared_error: 0.0019 - mean_absolute_error: 0.02 - ETA: 0s - loss: 0.0026 - mean_squared_error: 0.0019 - mean_absolute_error: 0.02 - ETA: 0s - loss: 0.0025 - mean_squared_error: 0.0019 - mean_absolute_error: 0.02 - ETA: 0s - loss: 0.0026 - mean_squared_error: 0.0019 - mean_absolute_error: 0.02 - ETA: 0s - loss: 0.0026 - mean_squared_error: 0.0019 - mean_absolute_error: 0.02 - ETA: 0s - loss: 0.0026 - mean_squared_error: 0.0019 - mean_absolute_error: 0.02 - ETA: 0s - loss: 0.0026 - mean_squared_error: 0.0019 - mean_absolute_error: 0.02 - ETA: 0s - loss: 0.0026 - mean_squared_error: 0.0019 - mean_absolute_error: 0.02 - ETA: 0s - loss: 0.0026 - mean_squared_error: 0.0019 - mean_absolute_error: 0.02 - ETA: 0s - loss: 0.0026 - mean_squared_error: 0.0019 - mean_absolute_error: 0.02 - ETA: 0s - loss: 0.0026 - mean_squared_error: 0.0019 - mean_absolute_error: 0.02 - ETA: 0s - loss: 0.0026 - mean_squared_error: 0.0019 - mean_absolute_error: 0.02 - 1s 153us/sample - loss: 0.0026 - mean_squared_error: 0.0019 - mean_absolute_error: 0.0268 - val_loss: 0.0013 - val_mean_squared_error: 5.7520e-04 - val_mean_absolute_error: 0.0179\n",
      "Epoch 6/100\n",
      "8000/8000 [==============================] - ETA: 1s - loss: 0.0032 - mean_squared_error: 0.0025 - mean_absolute_error: 0.02 - ETA: 1s - loss: 0.0027 - mean_squared_error: 0.0020 - mean_absolute_error: 0.02 - ETA: 0s - loss: 0.0025 - mean_squared_error: 0.0018 - mean_absolute_error: 0.02 - ETA: 0s - loss: 0.0025 - mean_squared_error: 0.0018 - mean_absolute_error: 0.02 - ETA: 0s - loss: 0.0025 - mean_squared_error: 0.0018 - mean_absolute_error: 0.02 - ETA: 0s - loss: 0.0025 - mean_squared_error: 0.0018 - mean_absolute_error: 0.02 - ETA: 0s - loss: 0.0025 - mean_squared_error: 0.0018 - mean_absolute_error: 0.02 - ETA: 0s - loss: 0.0025 - mean_squared_error: 0.0018 - mean_absolute_error: 0.02 - ETA: 0s - loss: 0.0025 - mean_squared_error: 0.0018 - mean_absolute_error: 0.02 - ETA: 0s - loss: 0.0025 - mean_squared_error: 0.0018 - mean_absolute_error: 0.02 - ETA: 0s - loss: 0.0025 - mean_squared_error: 0.0018 - mean_absolute_error: 0.02 - ETA: 0s - loss: 0.0025 - mean_squared_error: 0.0018 - mean_absolute_error: 0.02 - ETA: 0s - loss: 0.0025 - mean_squared_error: 0.0018 - mean_absolute_error: 0.02 - ETA: 0s - loss: 0.0025 - mean_squared_error: 0.0018 - mean_absolute_error: 0.02 - ETA: 0s - loss: 0.0025 - mean_squared_error: 0.0018 - mean_absolute_error: 0.02 - ETA: 0s - loss: 0.0025 - mean_squared_error: 0.0018 - mean_absolute_error: 0.02 - ETA: 0s - loss: 0.0025 - mean_squared_error: 0.0018 - mean_absolute_error: 0.02 - ETA: 0s - loss: 0.0025 - mean_squared_error: 0.0019 - mean_absolute_error: 0.02 - ETA: 0s - loss: 0.0025 - mean_squared_error: 0.0019 - mean_absolute_error: 0.02 - ETA: 0s - loss: 0.0026 - mean_squared_error: 0.0019 - mean_absolute_error: 0.02 - ETA: 0s - loss: 0.0026 - mean_squared_error: 0.0019 - mean_absolute_error: 0.02 - 1s 159us/sample - loss: 0.0025 - mean_squared_error: 0.0019 - mean_absolute_error: 0.0265 - val_loss: 0.0012 - val_mean_squared_error: 5.3137e-04 - val_mean_absolute_error: 0.0172\n",
      "Epoch 7/100\n",
      "8000/8000 [==============================] - ETA: 1s - loss: 0.0016 - mean_squared_error: 9.3054e-04 - mean_absolute_error: 0.02 - ETA: 1s - loss: 0.0025 - mean_squared_error: 0.0018 - mean_absolute_error: 0.0265   - ETA: 1s - loss: 0.0025 - mean_squared_error: 0.0018 - mean_absolute_error: 0.02 - ETA: 0s - loss: 0.0025 - mean_squared_error: 0.0018 - mean_absolute_error: 0.02 - ETA: 0s - loss: 0.0026 - mean_squared_error: 0.0019 - mean_absolute_error: 0.02 - ETA: 0s - loss: 0.0026 - mean_squared_error: 0.0019 - mean_absolute_error: 0.02 - ETA: 0s - loss: 0.0026 - mean_squared_error: 0.0019 - mean_absolute_error: 0.02 - ETA: 0s - loss: 0.0026 - mean_squared_error: 0.0019 - mean_absolute_error: 0.02 - ETA: 0s - loss: 0.0025 - mean_squared_error: 0.0018 - mean_absolute_error: 0.02 - ETA: 0s - loss: 0.0026 - mean_squared_error: 0.0019 - mean_absolute_error: 0.02 - ETA: 0s - loss: 0.0026 - mean_squared_error: 0.0019 - mean_absolute_error: 0.02 - ETA: 0s - loss: 0.0026 - mean_squared_error: 0.0019 - mean_absolute_error: 0.02 - ETA: 0s - loss: 0.0026 - mean_squared_error: 0.0019 - mean_absolute_error: 0.02 - ETA: 0s - loss: 0.0026 - mean_squared_error: 0.0019 - mean_absolute_error: 0.02 - ETA: 0s - loss: 0.0026 - mean_squared_error: 0.0019 - mean_absolute_error: 0.02 - ETA: 0s - loss: 0.0026 - mean_squared_error: 0.0019 - mean_absolute_error: 0.02 - ETA: 0s - loss: 0.0026 - mean_squared_error: 0.0019 - mean_absolute_error: 0.02 - ETA: 0s - loss: 0.0026 - mean_squared_error: 0.0019 - mean_absolute_error: 0.02 - ETA: 0s - loss: 0.0026 - mean_squared_error: 0.0019 - mean_absolute_error: 0.02 - ETA: 0s - loss: 0.0026 - mean_squared_error: 0.0019 - mean_absolute_error: 0.02 - ETA: 0s - loss: 0.0026 - mean_squared_error: 0.0019 - mean_absolute_error: 0.02 - ETA: 0s - loss: 0.0026 - mean_squared_error: 0.0019 - mean_absolute_error: 0.02 - 1s 167us/sample - loss: 0.0026 - mean_squared_error: 0.0019 - mean_absolute_error: 0.0265 - val_loss: 0.0013 - val_mean_squared_error: 6.4701e-04 - val_mean_absolute_error: 0.0185\n",
      "Epoch 8/100\n",
      "8000/8000 [==============================] - ETA: 1s - loss: 0.0025 - mean_squared_error: 0.0018 - mean_absolute_error: 0.02 - ETA: 1s - loss: 0.0027 - mean_squared_error: 0.0020 - mean_absolute_error: 0.02 - ETA: 1s - loss: 0.0026 - mean_squared_error: 0.0019 - mean_absolute_error: 0.02 - ETA: 0s - loss: 0.0025 - mean_squared_error: 0.0018 - mean_absolute_error: 0.02 - ETA: 0s - loss: 0.0025 - mean_squared_error: 0.0018 - mean_absolute_error: 0.02 - ETA: 0s - loss: 0.0025 - mean_squared_error: 0.0018 - mean_absolute_error: 0.02 - ETA: 0s - loss: 0.0025 - mean_squared_error: 0.0018 - mean_absolute_error: 0.02 - ETA: 0s - loss: 0.0025 - mean_squared_error: 0.0018 - mean_absolute_error: 0.02 - ETA: 0s - loss: 0.0025 - mean_squared_error: 0.0018 - mean_absolute_error: 0.02 - ETA: 0s - loss: 0.0025 - mean_squared_error: 0.0018 - mean_absolute_error: 0.02 - ETA: 0s - loss: 0.0025 - mean_squared_error: 0.0018 - mean_absolute_error: 0.02 - ETA: 0s - loss: 0.0025 - mean_squared_error: 0.0018 - mean_absolute_error: 0.02 - ETA: 0s - loss: 0.0025 - mean_squared_error: 0.0018 - mean_absolute_error: 0.02 - ETA: 0s - loss: 0.0025 - mean_squared_error: 0.0018 - mean_absolute_error: 0.02 - ETA: 0s - loss: 0.0025 - mean_squared_error: 0.0018 - mean_absolute_error: 0.02 - ETA: 0s - loss: 0.0025 - mean_squared_error: 0.0018 - mean_absolute_error: 0.02 - ETA: 0s - loss: 0.0025 - mean_squared_error: 0.0018 - mean_absolute_error: 0.02 - ETA: 0s - loss: 0.0025 - mean_squared_error: 0.0018 - mean_absolute_error: 0.02 - ETA: 0s - loss: 0.0025 - mean_squared_error: 0.0018 - mean_absolute_error: 0.02 - ETA: 0s - loss: 0.0025 - mean_squared_error: 0.0018 - mean_absolute_error: 0.02 - ETA: 0s - loss: 0.0025 - mean_squared_error: 0.0018 - mean_absolute_error: 0.02 - ETA: 0s - loss: 0.0025 - mean_squared_error: 0.0018 - mean_absolute_error: 0.02 - 1s 167us/sample - loss: 0.0025 - mean_squared_error: 0.0018 - mean_absolute_error: 0.0261 - val_loss: 0.0012 - val_mean_squared_error: 5.3518e-04 - val_mean_absolute_error: 0.0173\n",
      "Epoch 9/100\n"
     ]
    },
    {
     "name": "stdout",
     "output_type": "stream",
     "text": [
      "8000/8000 [==============================] - ETA: 2s - loss: 0.0028 - mean_squared_error: 0.0021 - mean_absolute_error: 0.02 - ETA: 1s - loss: 0.0026 - mean_squared_error: 0.0019 - mean_absolute_error: 0.02 - ETA: 1s - loss: 0.0025 - mean_squared_error: 0.0018 - mean_absolute_error: 0.02 - ETA: 0s - loss: 0.0025 - mean_squared_error: 0.0018 - mean_absolute_error: 0.02 - ETA: 0s - loss: 0.0025 - mean_squared_error: 0.0018 - mean_absolute_error: 0.02 - ETA: 0s - loss: 0.0025 - mean_squared_error: 0.0018 - mean_absolute_error: 0.02 - ETA: 0s - loss: 0.0026 - mean_squared_error: 0.0019 - mean_absolute_error: 0.02 - ETA: 0s - loss: 0.0026 - mean_squared_error: 0.0019 - mean_absolute_error: 0.02 - ETA: 0s - loss: 0.0025 - mean_squared_error: 0.0018 - mean_absolute_error: 0.02 - ETA: 0s - loss: 0.0025 - mean_squared_error: 0.0018 - mean_absolute_error: 0.02 - ETA: 0s - loss: 0.0025 - mean_squared_error: 0.0018 - mean_absolute_error: 0.02 - ETA: 0s - loss: 0.0025 - mean_squared_error: 0.0018 - mean_absolute_error: 0.02 - ETA: 0s - loss: 0.0025 - mean_squared_error: 0.0018 - mean_absolute_error: 0.02 - ETA: 0s - loss: 0.0025 - mean_squared_error: 0.0018 - mean_absolute_error: 0.02 - ETA: 0s - loss: 0.0025 - mean_squared_error: 0.0018 - mean_absolute_error: 0.02 - ETA: 0s - loss: 0.0025 - mean_squared_error: 0.0018 - mean_absolute_error: 0.02 - ETA: 0s - loss: 0.0025 - mean_squared_error: 0.0018 - mean_absolute_error: 0.02 - ETA: 0s - loss: 0.0025 - mean_squared_error: 0.0018 - mean_absolute_error: 0.02 - ETA: 0s - loss: 0.0025 - mean_squared_error: 0.0018 - mean_absolute_error: 0.02 - ETA: 0s - loss: 0.0025 - mean_squared_error: 0.0018 - mean_absolute_error: 0.02 - ETA: 0s - loss: 0.0025 - mean_squared_error: 0.0018 - mean_absolute_error: 0.02 - ETA: 0s - loss: 0.0025 - mean_squared_error: 0.0018 - mean_absolute_error: 0.02 - 1s 167us/sample - loss: 0.0025 - mean_squared_error: 0.0018 - mean_absolute_error: 0.0260 - val_loss: 0.0012 - val_mean_squared_error: 5.0683e-04 - val_mean_absolute_error: 0.0169\n",
      "Epoch 10/100\n",
      "8000/8000 [==============================] - ETA: 1s - loss: 0.0025 - mean_squared_error: 0.0018 - mean_absolute_error: 0.02 - ETA: 1s - loss: 0.0024 - mean_squared_error: 0.0017 - mean_absolute_error: 0.02 - ETA: 0s - loss: 0.0024 - mean_squared_error: 0.0017 - mean_absolute_error: 0.02 - ETA: 0s - loss: 0.0025 - mean_squared_error: 0.0018 - mean_absolute_error: 0.02 - ETA: 0s - loss: 0.0024 - mean_squared_error: 0.0017 - mean_absolute_error: 0.02 - ETA: 0s - loss: 0.0024 - mean_squared_error: 0.0017 - mean_absolute_error: 0.02 - ETA: 0s - loss: 0.0024 - mean_squared_error: 0.0017 - mean_absolute_error: 0.02 - ETA: 0s - loss: 0.0024 - mean_squared_error: 0.0017 - mean_absolute_error: 0.02 - ETA: 0s - loss: 0.0025 - mean_squared_error: 0.0018 - mean_absolute_error: 0.02 - ETA: 0s - loss: 0.0025 - mean_squared_error: 0.0018 - mean_absolute_error: 0.02 - ETA: 0s - loss: 0.0025 - mean_squared_error: 0.0018 - mean_absolute_error: 0.02 - ETA: 0s - loss: 0.0025 - mean_squared_error: 0.0018 - mean_absolute_error: 0.02 - ETA: 0s - loss: 0.0025 - mean_squared_error: 0.0018 - mean_absolute_error: 0.02 - ETA: 0s - loss: 0.0025 - mean_squared_error: 0.0018 - mean_absolute_error: 0.02 - ETA: 0s - loss: 0.0025 - mean_squared_error: 0.0018 - mean_absolute_error: 0.02 - ETA: 0s - loss: 0.0025 - mean_squared_error: 0.0018 - mean_absolute_error: 0.02 - ETA: 0s - loss: 0.0025 - mean_squared_error: 0.0018 - mean_absolute_error: 0.02 - ETA: 0s - loss: 0.0025 - mean_squared_error: 0.0018 - mean_absolute_error: 0.02 - ETA: 0s - loss: 0.0025 - mean_squared_error: 0.0018 - mean_absolute_error: 0.02 - ETA: 0s - loss: 0.0025 - mean_squared_error: 0.0018 - mean_absolute_error: 0.02 - ETA: 0s - loss: 0.0025 - mean_squared_error: 0.0018 - mean_absolute_error: 0.02 - ETA: 0s - loss: 0.0025 - mean_squared_error: 0.0018 - mean_absolute_error: 0.02 - 1s 171us/sample - loss: 0.0025 - mean_squared_error: 0.0018 - mean_absolute_error: 0.0258 - val_loss: 0.0015 - val_mean_squared_error: 7.6432e-04 - val_mean_absolute_error: 0.0196\n",
      "Epoch 11/100\n",
      "8000/8000 [==============================] - ETA: 2s - loss: 0.0024 - mean_squared_error: 0.0017 - mean_absolute_error: 0.02 - ETA: 1s - loss: 0.0023 - mean_squared_error: 0.0016 - mean_absolute_error: 0.02 - ETA: 1s - loss: 0.0024 - mean_squared_error: 0.0017 - mean_absolute_error: 0.02 - ETA: 0s - loss: 0.0025 - mean_squared_error: 0.0018 - mean_absolute_error: 0.02 - ETA: 0s - loss: 0.0025 - mean_squared_error: 0.0018 - mean_absolute_error: 0.02 - ETA: 0s - loss: 0.0025 - mean_squared_error: 0.0018 - mean_absolute_error: 0.02 - ETA: 0s - loss: 0.0025 - mean_squared_error: 0.0018 - mean_absolute_error: 0.02 - ETA: 0s - loss: 0.0025 - mean_squared_error: 0.0018 - mean_absolute_error: 0.02 - ETA: 0s - loss: 0.0025 - mean_squared_error: 0.0018 - mean_absolute_error: 0.02 - ETA: 0s - loss: 0.0025 - mean_squared_error: 0.0018 - mean_absolute_error: 0.02 - ETA: 0s - loss: 0.0025 - mean_squared_error: 0.0018 - mean_absolute_error: 0.02 - ETA: 0s - loss: 0.0025 - mean_squared_error: 0.0018 - mean_absolute_error: 0.02 - ETA: 0s - loss: 0.0025 - mean_squared_error: 0.0018 - mean_absolute_error: 0.02 - ETA: 0s - loss: 0.0025 - mean_squared_error: 0.0018 - mean_absolute_error: 0.02 - ETA: 0s - loss: 0.0025 - mean_squared_error: 0.0018 - mean_absolute_error: 0.02 - ETA: 0s - loss: 0.0025 - mean_squared_error: 0.0018 - mean_absolute_error: 0.02 - ETA: 0s - loss: 0.0025 - mean_squared_error: 0.0018 - mean_absolute_error: 0.02 - ETA: 0s - loss: 0.0025 - mean_squared_error: 0.0018 - mean_absolute_error: 0.02 - ETA: 0s - loss: 0.0025 - mean_squared_error: 0.0018 - mean_absolute_error: 0.02 - ETA: 0s - loss: 0.0025 - mean_squared_error: 0.0018 - mean_absolute_error: 0.02 - ETA: 0s - loss: 0.0025 - mean_squared_error: 0.0018 - mean_absolute_error: 0.02 - ETA: 0s - loss: 0.0025 - mean_squared_error: 0.0018 - mean_absolute_error: 0.02 - 1s 164us/sample - loss: 0.0025 - mean_squared_error: 0.0018 - mean_absolute_error: 0.0259 - val_loss: 0.0013 - val_mean_squared_error: 6.0124e-04 - val_mean_absolute_error: 0.0179\n",
      "Epoch 12/100\n",
      "8000/8000 [==============================] - ETA: 1s - loss: 0.0021 - mean_squared_error: 0.0015 - mean_absolute_error: 0.02 - ETA: 1s - loss: 0.0025 - mean_squared_error: 0.0018 - mean_absolute_error: 0.02 - ETA: 1s - loss: 0.0025 - mean_squared_error: 0.0018 - mean_absolute_error: 0.02 - ETA: 0s - loss: 0.0025 - mean_squared_error: 0.0018 - mean_absolute_error: 0.02 - ETA: 0s - loss: 0.0025 - mean_squared_error: 0.0018 - mean_absolute_error: 0.02 - ETA: 0s - loss: 0.0025 - mean_squared_error: 0.0018 - mean_absolute_error: 0.02 - ETA: 0s - loss: 0.0025 - mean_squared_error: 0.0018 - mean_absolute_error: 0.02 - ETA: 0s - loss: 0.0025 - mean_squared_error: 0.0018 - mean_absolute_error: 0.02 - ETA: 0s - loss: 0.0025 - mean_squared_error: 0.0018 - mean_absolute_error: 0.02 - ETA: 0s - loss: 0.0025 - mean_squared_error: 0.0018 - mean_absolute_error: 0.02 - ETA: 0s - loss: 0.0025 - mean_squared_error: 0.0018 - mean_absolute_error: 0.02 - ETA: 0s - loss: 0.0025 - mean_squared_error: 0.0018 - mean_absolute_error: 0.02 - ETA: 0s - loss: 0.0025 - mean_squared_error: 0.0018 - mean_absolute_error: 0.02 - ETA: 0s - loss: 0.0025 - mean_squared_error: 0.0018 - mean_absolute_error: 0.02 - ETA: 0s - loss: 0.0025 - mean_squared_error: 0.0018 - mean_absolute_error: 0.02 - ETA: 0s - loss: 0.0025 - mean_squared_error: 0.0018 - mean_absolute_error: 0.02 - ETA: 0s - loss: 0.0025 - mean_squared_error: 0.0018 - mean_absolute_error: 0.02 - ETA: 0s - loss: 0.0025 - mean_squared_error: 0.0018 - mean_absolute_error: 0.02 - ETA: 0s - loss: 0.0025 - mean_squared_error: 0.0018 - mean_absolute_error: 0.02 - ETA: 0s - loss: 0.0025 - mean_squared_error: 0.0018 - mean_absolute_error: 0.02 - ETA: 0s - loss: 0.0025 - mean_squared_error: 0.0018 - mean_absolute_error: 0.02 - 1s 164us/sample - loss: 0.0025 - mean_squared_error: 0.0018 - mean_absolute_error: 0.0259 - val_loss: 0.0013 - val_mean_squared_error: 6.0750e-04 - val_mean_absolute_error: 0.0180\n",
      "Epoch 13/100\n"
     ]
    },
    {
     "name": "stdout",
     "output_type": "stream",
     "text": [
      "8000/8000 [==============================] - ETA: 1s - loss: 0.0025 - mean_squared_error: 0.0018 - mean_absolute_error: 0.02 - ETA: 1s - loss: 0.0025 - mean_squared_error: 0.0018 - mean_absolute_error: 0.02 - ETA: 1s - loss: 0.0025 - mean_squared_error: 0.0018 - mean_absolute_error: 0.02 - ETA: 1s - loss: 0.0025 - mean_squared_error: 0.0018 - mean_absolute_error: 0.02 - ETA: 0s - loss: 0.0025 - mean_squared_error: 0.0018 - mean_absolute_error: 0.02 - ETA: 0s - loss: 0.0025 - mean_squared_error: 0.0018 - mean_absolute_error: 0.02 - ETA: 0s - loss: 0.0025 - mean_squared_error: 0.0018 - mean_absolute_error: 0.02 - ETA: 0s - loss: 0.0025 - mean_squared_error: 0.0018 - mean_absolute_error: 0.02 - ETA: 0s - loss: 0.0025 - mean_squared_error: 0.0018 - mean_absolute_error: 0.02 - ETA: 0s - loss: 0.0025 - mean_squared_error: 0.0018 - mean_absolute_error: 0.02 - ETA: 0s - loss: 0.0025 - mean_squared_error: 0.0018 - mean_absolute_error: 0.02 - ETA: 0s - loss: 0.0025 - mean_squared_error: 0.0018 - mean_absolute_error: 0.02 - ETA: 0s - loss: 0.0025 - mean_squared_error: 0.0018 - mean_absolute_error: 0.02 - ETA: 0s - loss: 0.0025 - mean_squared_error: 0.0018 - mean_absolute_error: 0.02 - ETA: 0s - loss: 0.0025 - mean_squared_error: 0.0018 - mean_absolute_error: 0.02 - ETA: 0s - loss: 0.0025 - mean_squared_error: 0.0018 - mean_absolute_error: 0.02 - ETA: 0s - loss: 0.0025 - mean_squared_error: 0.0018 - mean_absolute_error: 0.02 - ETA: 0s - loss: 0.0025 - mean_squared_error: 0.0018 - mean_absolute_error: 0.02 - ETA: 0s - loss: 0.0025 - mean_squared_error: 0.0018 - mean_absolute_error: 0.02 - ETA: 0s - loss: 0.0025 - mean_squared_error: 0.0018 - mean_absolute_error: 0.02 - ETA: 0s - loss: 0.0025 - mean_squared_error: 0.0018 - mean_absolute_error: 0.02 - ETA: 0s - loss: 0.0025 - mean_squared_error: 0.0018 - mean_absolute_error: 0.02 - 1s 166us/sample - loss: 0.0025 - mean_squared_error: 0.0018 - mean_absolute_error: 0.0259 - val_loss: 0.0013 - val_mean_squared_error: 5.5708e-04 - val_mean_absolute_error: 0.0174\n",
      "Epoch 14/100\n",
      "8000/8000 [==============================] - ETA: 1s - loss: 0.0026 - mean_squared_error: 0.0019 - mean_absolute_error: 0.02 - ETA: 1s - loss: 0.0026 - mean_squared_error: 0.0019 - mean_absolute_error: 0.02 - ETA: 1s - loss: 0.0025 - mean_squared_error: 0.0018 - mean_absolute_error: 0.02 - ETA: 1s - loss: 0.0024 - mean_squared_error: 0.0017 - mean_absolute_error: 0.02 - ETA: 0s - loss: 0.0025 - mean_squared_error: 0.0018 - mean_absolute_error: 0.02 - ETA: 0s - loss: 0.0025 - mean_squared_error: 0.0018 - mean_absolute_error: 0.02 - ETA: 0s - loss: 0.0025 - mean_squared_error: 0.0018 - mean_absolute_error: 0.02 - ETA: 0s - loss: 0.0025 - mean_squared_error: 0.0018 - mean_absolute_error: 0.02 - ETA: 0s - loss: 0.0025 - mean_squared_error: 0.0018 - mean_absolute_error: 0.02 - ETA: 0s - loss: 0.0025 - mean_squared_error: 0.0018 - mean_absolute_error: 0.02 - ETA: 0s - loss: 0.0025 - mean_squared_error: 0.0018 - mean_absolute_error: 0.02 - ETA: 0s - loss: 0.0025 - mean_squared_error: 0.0018 - mean_absolute_error: 0.02 - ETA: 0s - loss: 0.0025 - mean_squared_error: 0.0018 - mean_absolute_error: 0.02 - ETA: 0s - loss: 0.0025 - mean_squared_error: 0.0018 - mean_absolute_error: 0.02 - ETA: 0s - loss: 0.0025 - mean_squared_error: 0.0018 - mean_absolute_error: 0.02 - ETA: 0s - loss: 0.0025 - mean_squared_error: 0.0018 - mean_absolute_error: 0.02 - ETA: 0s - loss: 0.0025 - mean_squared_error: 0.0018 - mean_absolute_error: 0.02 - ETA: 0s - loss: 0.0025 - mean_squared_error: 0.0018 - mean_absolute_error: 0.02 - ETA: 0s - loss: 0.0025 - mean_squared_error: 0.0018 - mean_absolute_error: 0.02 - ETA: 0s - loss: 0.0025 - mean_squared_error: 0.0018 - mean_absolute_error: 0.02 - ETA: 0s - loss: 0.0025 - mean_squared_error: 0.0018 - mean_absolute_error: 0.02 - ETA: 0s - loss: 0.0025 - mean_squared_error: 0.0018 - mean_absolute_error: 0.02 - 1s 166us/sample - loss: 0.0025 - mean_squared_error: 0.0018 - mean_absolute_error: 0.0259 - val_loss: 0.0013 - val_mean_squared_error: 5.6828e-04 - val_mean_absolute_error: 0.0175\n",
      "Epoch 15/100\n",
      "8000/8000 [==============================] - ETA: 2s - loss: 0.0027 - mean_squared_error: 0.0020 - mean_absolute_error: 0.02 - ETA: 1s - loss: 0.0025 - mean_squared_error: 0.0018 - mean_absolute_error: 0.02 - ETA: 1s - loss: 0.0024 - mean_squared_error: 0.0017 - mean_absolute_error: 0.02 - ETA: 1s - loss: 0.0025 - mean_squared_error: 0.0018 - mean_absolute_error: 0.02 - ETA: 0s - loss: 0.0025 - mean_squared_error: 0.0018 - mean_absolute_error: 0.02 - ETA: 0s - loss: 0.0025 - mean_squared_error: 0.0018 - mean_absolute_error: 0.02 - ETA: 0s - loss: 0.0025 - mean_squared_error: 0.0018 - mean_absolute_error: 0.02 - ETA: 0s - loss: 0.0025 - mean_squared_error: 0.0018 - mean_absolute_error: 0.02 - ETA: 0s - loss: 0.0025 - mean_squared_error: 0.0018 - mean_absolute_error: 0.02 - ETA: 0s - loss: 0.0025 - mean_squared_error: 0.0018 - mean_absolute_error: 0.02 - ETA: 0s - loss: 0.0025 - mean_squared_error: 0.0018 - mean_absolute_error: 0.02 - ETA: 0s - loss: 0.0025 - mean_squared_error: 0.0018 - mean_absolute_error: 0.02 - ETA: 0s - loss: 0.0025 - mean_squared_error: 0.0018 - mean_absolute_error: 0.02 - ETA: 0s - loss: 0.0025 - mean_squared_error: 0.0018 - mean_absolute_error: 0.02 - ETA: 0s - loss: 0.0025 - mean_squared_error: 0.0018 - mean_absolute_error: 0.02 - ETA: 0s - loss: 0.0025 - mean_squared_error: 0.0018 - mean_absolute_error: 0.02 - ETA: 0s - loss: 0.0025 - mean_squared_error: 0.0018 - mean_absolute_error: 0.02 - ETA: 0s - loss: 0.0025 - mean_squared_error: 0.0018 - mean_absolute_error: 0.02 - ETA: 0s - loss: 0.0025 - mean_squared_error: 0.0018 - mean_absolute_error: 0.02 - ETA: 0s - loss: 0.0025 - mean_squared_error: 0.0018 - mean_absolute_error: 0.02 - ETA: 0s - loss: 0.0025 - mean_squared_error: 0.0018 - mean_absolute_error: 0.02 - ETA: 0s - loss: 0.0025 - mean_squared_error: 0.0018 - mean_absolute_error: 0.02 - 1s 163us/sample - loss: 0.0025 - mean_squared_error: 0.0018 - mean_absolute_error: 0.0257 - val_loss: 0.0013 - val_mean_squared_error: 6.1877e-04 - val_mean_absolute_error: 0.0181\n",
      "Epoch 16/100\n",
      "8000/8000 [==============================] - ETA: 1s - loss: 0.0022 - mean_squared_error: 0.0015 - mean_absolute_error: 0.02 - ETA: 1s - loss: 0.0024 - mean_squared_error: 0.0017 - mean_absolute_error: 0.02 - ETA: 1s - loss: 0.0024 - mean_squared_error: 0.0017 - mean_absolute_error: 0.02 - ETA: 0s - loss: 0.0025 - mean_squared_error: 0.0018 - mean_absolute_error: 0.02 - ETA: 0s - loss: 0.0025 - mean_squared_error: 0.0018 - mean_absolute_error: 0.02 - ETA: 0s - loss: 0.0025 - mean_squared_error: 0.0018 - mean_absolute_error: 0.02 - ETA: 0s - loss: 0.0025 - mean_squared_error: 0.0018 - mean_absolute_error: 0.02 - ETA: 0s - loss: 0.0025 - mean_squared_error: 0.0018 - mean_absolute_error: 0.02 - ETA: 0s - loss: 0.0024 - mean_squared_error: 0.0017 - mean_absolute_error: 0.02 - ETA: 0s - loss: 0.0025 - mean_squared_error: 0.0018 - mean_absolute_error: 0.02 - ETA: 0s - loss: 0.0025 - mean_squared_error: 0.0018 - mean_absolute_error: 0.02 - ETA: 0s - loss: 0.0025 - mean_squared_error: 0.0018 - mean_absolute_error: 0.02 - ETA: 0s - loss: 0.0025 - mean_squared_error: 0.0018 - mean_absolute_error: 0.02 - ETA: 0s - loss: 0.0025 - mean_squared_error: 0.0018 - mean_absolute_error: 0.02 - ETA: 0s - loss: 0.0025 - mean_squared_error: 0.0018 - mean_absolute_error: 0.02 - ETA: 0s - loss: 0.0025 - mean_squared_error: 0.0018 - mean_absolute_error: 0.02 - ETA: 0s - loss: 0.0025 - mean_squared_error: 0.0018 - mean_absolute_error: 0.02 - ETA: 0s - loss: 0.0025 - mean_squared_error: 0.0018 - mean_absolute_error: 0.02 - ETA: 0s - loss: 0.0025 - mean_squared_error: 0.0018 - mean_absolute_error: 0.02 - ETA: 0s - loss: 0.0025 - mean_squared_error: 0.0018 - mean_absolute_error: 0.02 - ETA: 0s - loss: 0.0025 - mean_squared_error: 0.0018 - mean_absolute_error: 0.02 - ETA: 0s - loss: 0.0025 - mean_squared_error: 0.0018 - mean_absolute_error: 0.02 - ETA: 0s - loss: 0.0025 - mean_squared_error: 0.0018 - mean_absolute_error: 0.02 - ETA: 0s - loss: 0.0025 - mean_squared_error: 0.0018 - mean_absolute_error: 0.02 - 1s 185us/sample - loss: 0.0025 - mean_squared_error: 0.0018 - mean_absolute_error: 0.0259 - val_loss: 0.0012 - val_mean_squared_error: 4.9933e-04 - val_mean_absolute_error: 0.0167\n"
     ]
    },
    {
     "name": "stdout",
     "output_type": "stream",
     "text": [
      "Epoch 17/100\n",
      "8000/8000 [==============================] - ETA: 2s - loss: 0.0023 - mean_squared_error: 0.0016 - mean_absolute_error: 0.02 - ETA: 1s - loss: 0.0025 - mean_squared_error: 0.0018 - mean_absolute_error: 0.02 - ETA: 1s - loss: 0.0024 - mean_squared_error: 0.0018 - mean_absolute_error: 0.02 - ETA: 0s - loss: 0.0025 - mean_squared_error: 0.0018 - mean_absolute_error: 0.02 - ETA: 0s - loss: 0.0025 - mean_squared_error: 0.0018 - mean_absolute_error: 0.02 - ETA: 0s - loss: 0.0025 - mean_squared_error: 0.0018 - mean_absolute_error: 0.02 - ETA: 0s - loss: 0.0025 - mean_squared_error: 0.0018 - mean_absolute_error: 0.02 - ETA: 0s - loss: 0.0025 - mean_squared_error: 0.0018 - mean_absolute_error: 0.02 - ETA: 0s - loss: 0.0025 - mean_squared_error: 0.0018 - mean_absolute_error: 0.02 - ETA: 0s - loss: 0.0025 - mean_squared_error: 0.0018 - mean_absolute_error: 0.02 - ETA: 0s - loss: 0.0025 - mean_squared_error: 0.0018 - mean_absolute_error: 0.02 - ETA: 0s - loss: 0.0025 - mean_squared_error: 0.0018 - mean_absolute_error: 0.02 - ETA: 0s - loss: 0.0025 - mean_squared_error: 0.0018 - mean_absolute_error: 0.02 - ETA: 0s - loss: 0.0025 - mean_squared_error: 0.0018 - mean_absolute_error: 0.02 - ETA: 0s - loss: 0.0025 - mean_squared_error: 0.0019 - mean_absolute_error: 0.02 - ETA: 0s - loss: 0.0025 - mean_squared_error: 0.0018 - mean_absolute_error: 0.02 - ETA: 0s - loss: 0.0025 - mean_squared_error: 0.0018 - mean_absolute_error: 0.02 - ETA: 0s - loss: 0.0025 - mean_squared_error: 0.0018 - mean_absolute_error: 0.02 - ETA: 0s - loss: 0.0025 - mean_squared_error: 0.0018 - mean_absolute_error: 0.02 - ETA: 0s - loss: 0.0025 - mean_squared_error: 0.0018 - mean_absolute_error: 0.02 - ETA: 0s - loss: 0.0025 - mean_squared_error: 0.0018 - mean_absolute_error: 0.02 - ETA: 0s - loss: 0.0025 - mean_squared_error: 0.0018 - mean_absolute_error: 0.02 - ETA: 0s - loss: 0.0025 - mean_squared_error: 0.0018 - mean_absolute_error: 0.02 - 1s 174us/sample - loss: 0.0025 - mean_squared_error: 0.0018 - mean_absolute_error: 0.0259 - val_loss: 0.0013 - val_mean_squared_error: 5.6523e-04 - val_mean_absolute_error: 0.0175\n",
      "Epoch 18/100\n",
      "8000/8000 [==============================] - ETA: 1s - loss: 0.0021 - mean_squared_error: 0.0015 - mean_absolute_error: 0.02 - ETA: 1s - loss: 0.0024 - mean_squared_error: 0.0017 - mean_absolute_error: 0.02 - ETA: 0s - loss: 0.0024 - mean_squared_error: 0.0017 - mean_absolute_error: 0.02 - ETA: 1s - loss: 0.0024 - mean_squared_error: 0.0017 - mean_absolute_error: 0.02 - ETA: 1s - loss: 0.0024 - mean_squared_error: 0.0017 - mean_absolute_error: 0.02 - ETA: 1s - loss: 0.0024 - mean_squared_error: 0.0017 - mean_absolute_error: 0.02 - ETA: 1s - loss: 0.0024 - mean_squared_error: 0.0017 - mean_absolute_error: 0.02 - ETA: 1s - loss: 0.0024 - mean_squared_error: 0.0017 - mean_absolute_error: 0.02 - ETA: 1s - loss: 0.0025 - mean_squared_error: 0.0018 - mean_absolute_error: 0.02 - ETA: 1s - loss: 0.0025 - mean_squared_error: 0.0018 - mean_absolute_error: 0.02 - ETA: 1s - loss: 0.0025 - mean_squared_error: 0.0018 - mean_absolute_error: 0.02 - ETA: 0s - loss: 0.0025 - mean_squared_error: 0.0018 - mean_absolute_error: 0.02 - ETA: 0s - loss: 0.0024 - mean_squared_error: 0.0018 - mean_absolute_error: 0.02 - ETA: 0s - loss: 0.0024 - mean_squared_error: 0.0017 - mean_absolute_error: 0.02 - ETA: 0s - loss: 0.0024 - mean_squared_error: 0.0017 - mean_absolute_error: 0.02 - ETA: 0s - loss: 0.0025 - mean_squared_error: 0.0018 - mean_absolute_error: 0.02 - ETA: 0s - loss: 0.0025 - mean_squared_error: 0.0018 - mean_absolute_error: 0.02 - ETA: 0s - loss: 0.0025 - mean_squared_error: 0.0018 - mean_absolute_error: 0.02 - ETA: 0s - loss: 0.0025 - mean_squared_error: 0.0018 - mean_absolute_error: 0.02 - ETA: 0s - loss: 0.0025 - mean_squared_error: 0.0018 - mean_absolute_error: 0.02 - ETA: 0s - loss: 0.0025 - mean_squared_error: 0.0018 - mean_absolute_error: 0.02 - ETA: 0s - loss: 0.0025 - mean_squared_error: 0.0018 - mean_absolute_error: 0.02 - ETA: 0s - loss: 0.0025 - mean_squared_error: 0.0018 - mean_absolute_error: 0.02 - ETA: 0s - loss: 0.0025 - mean_squared_error: 0.0018 - mean_absolute_error: 0.02 - ETA: 0s - loss: 0.0025 - mean_squared_error: 0.0018 - mean_absolute_error: 0.02 - 2s 190us/sample - loss: 0.0025 - mean_squared_error: 0.0018 - mean_absolute_error: 0.0258 - val_loss: 0.0012 - val_mean_squared_error: 4.9870e-04 - val_mean_absolute_error: 0.0167\n",
      "Epoch 19/100\n",
      "8000/8000 [==============================] - ETA: 2s - loss: 0.0019 - mean_squared_error: 0.0012 - mean_absolute_error: 0.02 - ETA: 1s - loss: 0.0025 - mean_squared_error: 0.0018 - mean_absolute_error: 0.02 - ETA: 1s - loss: 0.0024 - mean_squared_error: 0.0017 - mean_absolute_error: 0.02 - ETA: 1s - loss: 0.0025 - mean_squared_error: 0.0018 - mean_absolute_error: 0.02 - ETA: 0s - loss: 0.0025 - mean_squared_error: 0.0018 - mean_absolute_error: 0.02 - ETA: 0s - loss: 0.0025 - mean_squared_error: 0.0018 - mean_absolute_error: 0.02 - ETA: 0s - loss: 0.0025 - mean_squared_error: 0.0018 - mean_absolute_error: 0.02 - ETA: 0s - loss: 0.0025 - mean_squared_error: 0.0018 - mean_absolute_error: 0.02 - ETA: 0s - loss: 0.0025 - mean_squared_error: 0.0018 - mean_absolute_error: 0.02 - ETA: 0s - loss: 0.0025 - mean_squared_error: 0.0018 - mean_absolute_error: 0.02 - ETA: 0s - loss: 0.0025 - mean_squared_error: 0.0018 - mean_absolute_error: 0.02 - ETA: 0s - loss: 0.0025 - mean_squared_error: 0.0018 - mean_absolute_error: 0.02 - ETA: 0s - loss: 0.0025 - mean_squared_error: 0.0018 - mean_absolute_error: 0.02 - ETA: 0s - loss: 0.0025 - mean_squared_error: 0.0018 - mean_absolute_error: 0.02 - ETA: 0s - loss: 0.0025 - mean_squared_error: 0.0018 - mean_absolute_error: 0.02 - ETA: 0s - loss: 0.0025 - mean_squared_error: 0.0018 - mean_absolute_error: 0.02 - ETA: 0s - loss: 0.0025 - mean_squared_error: 0.0018 - mean_absolute_error: 0.02 - ETA: 0s - loss: 0.0025 - mean_squared_error: 0.0018 - mean_absolute_error: 0.02 - ETA: 0s - loss: 0.0025 - mean_squared_error: 0.0018 - mean_absolute_error: 0.02 - ETA: 0s - loss: 0.0025 - mean_squared_error: 0.0018 - mean_absolute_error: 0.02 - ETA: 0s - loss: 0.0025 - mean_squared_error: 0.0018 - mean_absolute_error: 0.02 - ETA: 0s - loss: 0.0025 - mean_squared_error: 0.0018 - mean_absolute_error: 0.02 - ETA: 0s - loss: 0.0025 - mean_squared_error: 0.0018 - mean_absolute_error: 0.02 - 1s 170us/sample - loss: 0.0025 - mean_squared_error: 0.0018 - mean_absolute_error: 0.0258 - val_loss: 0.0013 - val_mean_squared_error: 6.1663e-04 - val_mean_absolute_error: 0.0181\n",
      "Epoch 20/100\n"
     ]
    },
    {
     "name": "stdout",
     "output_type": "stream",
     "text": [
      "8000/8000 [==============================] - ETA: 1s - loss: 0.0026 - mean_squared_error: 0.0020 - mean_absolute_error: 0.02 - ETA: 1s - loss: 0.0025 - mean_squared_error: 0.0018 - mean_absolute_error: 0.02 - ETA: 1s - loss: 0.0025 - mean_squared_error: 0.0018 - mean_absolute_error: 0.02 - ETA: 0s - loss: 0.0025 - mean_squared_error: 0.0018 - mean_absolute_error: 0.02 - ETA: 0s - loss: 0.0025 - mean_squared_error: 0.0018 - mean_absolute_error: 0.02 - ETA: 0s - loss: 0.0025 - mean_squared_error: 0.0018 - mean_absolute_error: 0.02 - ETA: 0s - loss: 0.0025 - mean_squared_error: 0.0018 - mean_absolute_error: 0.02 - ETA: 0s - loss: 0.0025 - mean_squared_error: 0.0018 - mean_absolute_error: 0.02 - ETA: 0s - loss: 0.0025 - mean_squared_error: 0.0018 - mean_absolute_error: 0.02 - ETA: 0s - loss: 0.0025 - mean_squared_error: 0.0018 - mean_absolute_error: 0.02 - ETA: 0s - loss: 0.0025 - mean_squared_error: 0.0018 - mean_absolute_error: 0.02 - ETA: 0s - loss: 0.0025 - mean_squared_error: 0.0018 - mean_absolute_error: 0.02 - ETA: 0s - loss: 0.0025 - mean_squared_error: 0.0018 - mean_absolute_error: 0.02 - ETA: 0s - loss: 0.0025 - mean_squared_error: 0.0018 - mean_absolute_error: 0.02 - ETA: 0s - loss: 0.0025 - mean_squared_error: 0.0018 - mean_absolute_error: 0.02 - ETA: 0s - loss: 0.0025 - mean_squared_error: 0.0018 - mean_absolute_error: 0.02 - ETA: 0s - loss: 0.0025 - mean_squared_error: 0.0018 - mean_absolute_error: 0.02 - ETA: 0s - loss: 0.0025 - mean_squared_error: 0.0018 - mean_absolute_error: 0.02 - ETA: 0s - loss: 0.0025 - mean_squared_error: 0.0018 - mean_absolute_error: 0.02 - ETA: 0s - loss: 0.0025 - mean_squared_error: 0.0018 - mean_absolute_error: 0.02 - ETA: 0s - loss: 0.0025 - mean_squared_error: 0.0018 - mean_absolute_error: 0.02 - ETA: 0s - loss: 0.0025 - mean_squared_error: 0.0018 - mean_absolute_error: 0.02 - 1s 167us/sample - loss: 0.0025 - mean_squared_error: 0.0018 - mean_absolute_error: 0.0258 - val_loss: 0.0014 - val_mean_squared_error: 6.6815e-04 - val_mean_absolute_error: 0.0186\n",
      "Epoch 21/100\n",
      "8000/8000 [==============================] - ETA: 2s - loss: 0.0021 - mean_squared_error: 0.0014 - mean_absolute_error: 0.02 - ETA: 1s - loss: 0.0024 - mean_squared_error: 0.0017 - mean_absolute_error: 0.02 - ETA: 1s - loss: 0.0024 - mean_squared_error: 0.0018 - mean_absolute_error: 0.02 - ETA: 0s - loss: 0.0025 - mean_squared_error: 0.0018 - mean_absolute_error: 0.02 - ETA: 0s - loss: 0.0024 - mean_squared_error: 0.0017 - mean_absolute_error: 0.02 - ETA: 0s - loss: 0.0025 - mean_squared_error: 0.0018 - mean_absolute_error: 0.02 - ETA: 0s - loss: 0.0025 - mean_squared_error: 0.0018 - mean_absolute_error: 0.02 - ETA: 0s - loss: 0.0024 - mean_squared_error: 0.0017 - mean_absolute_error: 0.02 - ETA: 0s - loss: 0.0024 - mean_squared_error: 0.0017 - mean_absolute_error: 0.02 - ETA: 0s - loss: 0.0025 - mean_squared_error: 0.0018 - mean_absolute_error: 0.02 - ETA: 0s - loss: 0.0024 - mean_squared_error: 0.0017 - mean_absolute_error: 0.02 - ETA: 0s - loss: 0.0024 - mean_squared_error: 0.0017 - mean_absolute_error: 0.02 - ETA: 0s - loss: 0.0024 - mean_squared_error: 0.0017 - mean_absolute_error: 0.02 - ETA: 0s - loss: 0.0024 - mean_squared_error: 0.0017 - mean_absolute_error: 0.02 - ETA: 0s - loss: 0.0024 - mean_squared_error: 0.0018 - mean_absolute_error: 0.02 - ETA: 0s - loss: 0.0025 - mean_squared_error: 0.0018 - mean_absolute_error: 0.02 - ETA: 0s - loss: 0.0024 - mean_squared_error: 0.0018 - mean_absolute_error: 0.02 - ETA: 0s - loss: 0.0024 - mean_squared_error: 0.0017 - mean_absolute_error: 0.02 - ETA: 0s - loss: 0.0024 - mean_squared_error: 0.0018 - mean_absolute_error: 0.02 - ETA: 0s - loss: 0.0024 - mean_squared_error: 0.0018 - mean_absolute_error: 0.02 - ETA: 0s - loss: 0.0024 - mean_squared_error: 0.0018 - mean_absolute_error: 0.02 - ETA: 0s - loss: 0.0025 - mean_squared_error: 0.0018 - mean_absolute_error: 0.02 - ETA: 0s - loss: 0.0025 - mean_squared_error: 0.0018 - mean_absolute_error: 0.02 - ETA: 0s - loss: 0.0025 - mean_squared_error: 0.0018 - mean_absolute_error: 0.02 - 1s 181us/sample - loss: 0.0025 - mean_squared_error: 0.0018 - mean_absolute_error: 0.0256 - val_loss: 0.0012 - val_mean_squared_error: 5.4561e-04 - val_mean_absolute_error: 0.0173\n",
      "Epoch 22/100\n",
      "8000/8000 [==============================] - ETA: 3s - loss: 0.0027 - mean_squared_error: 0.0020 - mean_absolute_error: 0.02 - ETA: 1s - loss: 0.0026 - mean_squared_error: 0.0019 - mean_absolute_error: 0.02 - ETA: 1s - loss: 0.0025 - mean_squared_error: 0.0018 - mean_absolute_error: 0.02 - ETA: 1s - loss: 0.0025 - mean_squared_error: 0.0018 - mean_absolute_error: 0.02 - ETA: 1s - loss: 0.0025 - mean_squared_error: 0.0018 - mean_absolute_error: 0.02 - ETA: 1s - loss: 0.0025 - mean_squared_error: 0.0018 - mean_absolute_error: 0.02 - ETA: 1s - loss: 0.0025 - mean_squared_error: 0.0018 - mean_absolute_error: 0.02 - ETA: 1s - loss: 0.0025 - mean_squared_error: 0.0018 - mean_absolute_error: 0.02 - ETA: 0s - loss: 0.0025 - mean_squared_error: 0.0018 - mean_absolute_error: 0.02 - ETA: 0s - loss: 0.0025 - mean_squared_error: 0.0018 - mean_absolute_error: 0.02 - ETA: 0s - loss: 0.0025 - mean_squared_error: 0.0018 - mean_absolute_error: 0.02 - ETA: 0s - loss: 0.0025 - mean_squared_error: 0.0018 - mean_absolute_error: 0.02 - ETA: 0s - loss: 0.0025 - mean_squared_error: 0.0018 - mean_absolute_error: 0.02 - ETA: 0s - loss: 0.0025 - mean_squared_error: 0.0018 - mean_absolute_error: 0.02 - ETA: 0s - loss: 0.0025 - mean_squared_error: 0.0018 - mean_absolute_error: 0.02 - ETA: 0s - loss: 0.0025 - mean_squared_error: 0.0018 - mean_absolute_error: 0.02 - ETA: 0s - loss: 0.0025 - mean_squared_error: 0.0018 - mean_absolute_error: 0.02 - ETA: 0s - loss: 0.0025 - mean_squared_error: 0.0018 - mean_absolute_error: 0.02 - ETA: 0s - loss: 0.0025 - mean_squared_error: 0.0018 - mean_absolute_error: 0.02 - ETA: 0s - loss: 0.0025 - mean_squared_error: 0.0018 - mean_absolute_error: 0.02 - ETA: 0s - loss: 0.0025 - mean_squared_error: 0.0018 - mean_absolute_error: 0.02 - ETA: 0s - loss: 0.0025 - mean_squared_error: 0.0018 - mean_absolute_error: 0.02 - ETA: 0s - loss: 0.0025 - mean_squared_error: 0.0018 - mean_absolute_error: 0.02 - 1s 171us/sample - loss: 0.0025 - mean_squared_error: 0.0018 - mean_absolute_error: 0.0258 - val_loss: 0.0012 - val_mean_squared_error: 5.3498e-04 - val_mean_absolute_error: 0.0171\n",
      "Epoch 23/100\n"
     ]
    },
    {
     "name": "stdout",
     "output_type": "stream",
     "text": [
      "8000/8000 [==============================] - ETA: 1s - loss: 0.0023 - mean_squared_error: 0.0016 - mean_absolute_error: 0.02 - ETA: 1s - loss: 0.0024 - mean_squared_error: 0.0017 - mean_absolute_error: 0.02 - ETA: 1s - loss: 0.0023 - mean_squared_error: 0.0016 - mean_absolute_error: 0.02 - ETA: 0s - loss: 0.0023 - mean_squared_error: 0.0016 - mean_absolute_error: 0.02 - ETA: 0s - loss: 0.0023 - mean_squared_error: 0.0016 - mean_absolute_error: 0.02 - ETA: 0s - loss: 0.0023 - mean_squared_error: 0.0016 - mean_absolute_error: 0.02 - ETA: 0s - loss: 0.0024 - mean_squared_error: 0.0017 - mean_absolute_error: 0.02 - ETA: 0s - loss: 0.0024 - mean_squared_error: 0.0017 - mean_absolute_error: 0.02 - ETA: 0s - loss: 0.0024 - mean_squared_error: 0.0017 - mean_absolute_error: 0.02 - ETA: 0s - loss: 0.0024 - mean_squared_error: 0.0017 - mean_absolute_error: 0.02 - ETA: 0s - loss: 0.0024 - mean_squared_error: 0.0017 - mean_absolute_error: 0.02 - ETA: 0s - loss: 0.0024 - mean_squared_error: 0.0017 - mean_absolute_error: 0.02 - ETA: 0s - loss: 0.0024 - mean_squared_error: 0.0017 - mean_absolute_error: 0.02 - ETA: 0s - loss: 0.0024 - mean_squared_error: 0.0017 - mean_absolute_error: 0.02 - ETA: 0s - loss: 0.0024 - mean_squared_error: 0.0017 - mean_absolute_error: 0.02 - ETA: 0s - loss: 0.0024 - mean_squared_error: 0.0017 - mean_absolute_error: 0.02 - ETA: 0s - loss: 0.0024 - mean_squared_error: 0.0017 - mean_absolute_error: 0.02 - ETA: 0s - loss: 0.0024 - mean_squared_error: 0.0017 - mean_absolute_error: 0.02 - ETA: 0s - loss: 0.0024 - mean_squared_error: 0.0018 - mean_absolute_error: 0.02 - ETA: 0s - loss: 0.0025 - mean_squared_error: 0.0018 - mean_absolute_error: 0.02 - ETA: 0s - loss: 0.0025 - mean_squared_error: 0.0018 - mean_absolute_error: 0.02 - ETA: 0s - loss: 0.0025 - mean_squared_error: 0.0018 - mean_absolute_error: 0.02 - ETA: 0s - loss: 0.0025 - mean_squared_error: 0.0018 - mean_absolute_error: 0.02 - ETA: 0s - loss: 0.0025 - mean_squared_error: 0.0018 - mean_absolute_error: 0.02 - 1s 184us/sample - loss: 0.0025 - mean_squared_error: 0.0018 - mean_absolute_error: 0.0256 - val_loss: 0.0014 - val_mean_squared_error: 6.7444e-04 - val_mean_absolute_error: 0.0186\n",
      "Epoch 24/100\n",
      "8000/8000 [==============================] - ETA: 1s - loss: 0.0020 - mean_squared_error: 0.0013 - mean_absolute_error: 0.02 - ETA: 1s - loss: 0.0025 - mean_squared_error: 0.0018 - mean_absolute_error: 0.02 - ETA: 1s - loss: 0.0026 - mean_squared_error: 0.0019 - mean_absolute_error: 0.02 - ETA: 1s - loss: 0.0025 - mean_squared_error: 0.0018 - mean_absolute_error: 0.02 - ETA: 1s - loss: 0.0025 - mean_squared_error: 0.0018 - mean_absolute_error: 0.02 - ETA: 1s - loss: 0.0025 - mean_squared_error: 0.0018 - mean_absolute_error: 0.02 - ETA: 1s - loss: 0.0025 - mean_squared_error: 0.0018 - mean_absolute_error: 0.02 - ETA: 1s - loss: 0.0025 - mean_squared_error: 0.0018 - mean_absolute_error: 0.02 - ETA: 1s - loss: 0.0025 - mean_squared_error: 0.0018 - mean_absolute_error: 0.02 - ETA: 0s - loss: 0.0025 - mean_squared_error: 0.0018 - mean_absolute_error: 0.02 - ETA: 0s - loss: 0.0025 - mean_squared_error: 0.0018 - mean_absolute_error: 0.02 - ETA: 0s - loss: 0.0025 - mean_squared_error: 0.0018 - mean_absolute_error: 0.02 - ETA: 0s - loss: 0.0025 - mean_squared_error: 0.0018 - mean_absolute_error: 0.02 - ETA: 0s - loss: 0.0025 - mean_squared_error: 0.0018 - mean_absolute_error: 0.02 - ETA: 0s - loss: 0.0025 - mean_squared_error: 0.0018 - mean_absolute_error: 0.02 - ETA: 0s - loss: 0.0025 - mean_squared_error: 0.0018 - mean_absolute_error: 0.02 - ETA: 0s - loss: 0.0025 - mean_squared_error: 0.0018 - mean_absolute_error: 0.02 - ETA: 0s - loss: 0.0025 - mean_squared_error: 0.0018 - mean_absolute_error: 0.02 - ETA: 0s - loss: 0.0025 - mean_squared_error: 0.0018 - mean_absolute_error: 0.02 - ETA: 0s - loss: 0.0025 - mean_squared_error: 0.0018 - mean_absolute_error: 0.02 - ETA: 0s - loss: 0.0025 - mean_squared_error: 0.0018 - mean_absolute_error: 0.02 - ETA: 0s - loss: 0.0025 - mean_squared_error: 0.0018 - mean_absolute_error: 0.02 - ETA: 0s - loss: 0.0025 - mean_squared_error: 0.0018 - mean_absolute_error: 0.02 - ETA: 0s - loss: 0.0025 - mean_squared_error: 0.0018 - mean_absolute_error: 0.02 - 1s 184us/sample - loss: 0.0025 - mean_squared_error: 0.0018 - mean_absolute_error: 0.0258 - val_loss: 0.0013 - val_mean_squared_error: 6.4406e-04 - val_mean_absolute_error: 0.0184\n",
      "Epoch 25/100\n",
      "8000/8000 [==============================] - ETA: 1s - loss: 0.0022 - mean_squared_error: 0.0015 - mean_absolute_error: 0.02 - ETA: 1s - loss: 0.0025 - mean_squared_error: 0.0018 - mean_absolute_error: 0.02 - ETA: 1s - loss: 0.0025 - mean_squared_error: 0.0018 - mean_absolute_error: 0.02 - ETA: 0s - loss: 0.0025 - mean_squared_error: 0.0018 - mean_absolute_error: 0.02 - ETA: 0s - loss: 0.0025 - mean_squared_error: 0.0018 - mean_absolute_error: 0.02 - ETA: 0s - loss: 0.0025 - mean_squared_error: 0.0018 - mean_absolute_error: 0.02 - ETA: 0s - loss: 0.0025 - mean_squared_error: 0.0018 - mean_absolute_error: 0.02 - ETA: 0s - loss: 0.0025 - mean_squared_error: 0.0018 - mean_absolute_error: 0.02 - ETA: 0s - loss: 0.0025 - mean_squared_error: 0.0018 - mean_absolute_error: 0.02 - ETA: 0s - loss: 0.0025 - mean_squared_error: 0.0018 - mean_absolute_error: 0.02 - ETA: 0s - loss: 0.0025 - mean_squared_error: 0.0018 - mean_absolute_error: 0.02 - ETA: 0s - loss: 0.0025 - mean_squared_error: 0.0018 - mean_absolute_error: 0.02 - ETA: 0s - loss: 0.0025 - mean_squared_error: 0.0018 - mean_absolute_error: 0.02 - ETA: 0s - loss: 0.0025 - mean_squared_error: 0.0018 - mean_absolute_error: 0.02 - ETA: 0s - loss: 0.0025 - mean_squared_error: 0.0018 - mean_absolute_error: 0.02 - ETA: 0s - loss: 0.0025 - mean_squared_error: 0.0018 - mean_absolute_error: 0.02 - ETA: 0s - loss: 0.0025 - mean_squared_error: 0.0018 - mean_absolute_error: 0.02 - ETA: 0s - loss: 0.0025 - mean_squared_error: 0.0018 - mean_absolute_error: 0.02 - ETA: 0s - loss: 0.0025 - mean_squared_error: 0.0018 - mean_absolute_error: 0.02 - ETA: 0s - loss: 0.0025 - mean_squared_error: 0.0018 - mean_absolute_error: 0.02 - ETA: 0s - loss: 0.0025 - mean_squared_error: 0.0018 - mean_absolute_error: 0.02 - ETA: 0s - loss: 0.0025 - mean_squared_error: 0.0018 - mean_absolute_error: 0.02 - ETA: 0s - loss: 0.0025 - mean_squared_error: 0.0018 - mean_absolute_error: 0.02 - 1s 183us/sample - loss: 0.0025 - mean_squared_error: 0.0018 - mean_absolute_error: 0.0256 - val_loss: 0.0013 - val_mean_squared_error: 5.6480e-04 - val_mean_absolute_error: 0.0174\n",
      "Epoch 26/100\n"
     ]
    },
    {
     "name": "stdout",
     "output_type": "stream",
     "text": [
      "8000/8000 [==============================] - ETA: 1s - loss: 0.0021 - mean_squared_error: 0.0014 - mean_absolute_error: 0.02 - ETA: 1s - loss: 0.0025 - mean_squared_error: 0.0018 - mean_absolute_error: 0.02 - ETA: 1s - loss: 0.0024 - mean_squared_error: 0.0017 - mean_absolute_error: 0.02 - ETA: 0s - loss: 0.0024 - mean_squared_error: 0.0017 - mean_absolute_error: 0.02 - ETA: 0s - loss: 0.0024 - mean_squared_error: 0.0017 - mean_absolute_error: 0.02 - ETA: 0s - loss: 0.0024 - mean_squared_error: 0.0017 - mean_absolute_error: 0.02 - ETA: 0s - loss: 0.0024 - mean_squared_error: 0.0017 - mean_absolute_error: 0.02 - ETA: 0s - loss: 0.0024 - mean_squared_error: 0.0017 - mean_absolute_error: 0.02 - ETA: 0s - loss: 0.0024 - mean_squared_error: 0.0017 - mean_absolute_error: 0.02 - ETA: 0s - loss: 0.0024 - mean_squared_error: 0.0017 - mean_absolute_error: 0.02 - ETA: 0s - loss: 0.0025 - mean_squared_error: 0.0018 - mean_absolute_error: 0.02 - ETA: 0s - loss: 0.0025 - mean_squared_error: 0.0018 - mean_absolute_error: 0.02 - ETA: 0s - loss: 0.0025 - mean_squared_error: 0.0018 - mean_absolute_error: 0.02 - ETA: 0s - loss: 0.0025 - mean_squared_error: 0.0018 - mean_absolute_error: 0.02 - ETA: 0s - loss: 0.0025 - mean_squared_error: 0.0018 - mean_absolute_error: 0.02 - ETA: 0s - loss: 0.0025 - mean_squared_error: 0.0018 - mean_absolute_error: 0.02 - ETA: 0s - loss: 0.0025 - mean_squared_error: 0.0018 - mean_absolute_error: 0.02 - ETA: 0s - loss: 0.0025 - mean_squared_error: 0.0018 - mean_absolute_error: 0.02 - ETA: 0s - loss: 0.0025 - mean_squared_error: 0.0018 - mean_absolute_error: 0.02 - ETA: 0s - loss: 0.0025 - mean_squared_error: 0.0018 - mean_absolute_error: 0.02 - ETA: 0s - loss: 0.0025 - mean_squared_error: 0.0018 - mean_absolute_error: 0.02 - ETA: 0s - loss: 0.0025 - mean_squared_error: 0.0018 - mean_absolute_error: 0.02 - ETA: 0s - loss: 0.0025 - mean_squared_error: 0.0018 - mean_absolute_error: 0.02 - 1s 171us/sample - loss: 0.0025 - mean_squared_error: 0.0018 - mean_absolute_error: 0.0256 - val_loss: 0.0012 - val_mean_squared_error: 5.5548e-04 - val_mean_absolute_error: 0.0174\n",
      "Epoch 27/100\n",
      "8000/8000 [==============================] - ETA: 1s - loss: 0.0019 - mean_squared_error: 0.0012 - mean_absolute_error: 0.02 - ETA: 1s - loss: 0.0024 - mean_squared_error: 0.0017 - mean_absolute_error: 0.02 - ETA: 0s - loss: 0.0024 - mean_squared_error: 0.0017 - mean_absolute_error: 0.02 - ETA: 0s - loss: 0.0024 - mean_squared_error: 0.0017 - mean_absolute_error: 0.02 - ETA: 0s - loss: 0.0024 - mean_squared_error: 0.0017 - mean_absolute_error: 0.02 - ETA: 0s - loss: 0.0024 - mean_squared_error: 0.0017 - mean_absolute_error: 0.02 - ETA: 0s - loss: 0.0024 - mean_squared_error: 0.0017 - mean_absolute_error: 0.02 - ETA: 0s - loss: 0.0024 - mean_squared_error: 0.0017 - mean_absolute_error: 0.02 - ETA: 0s - loss: 0.0024 - mean_squared_error: 0.0017 - mean_absolute_error: 0.02 - ETA: 0s - loss: 0.0025 - mean_squared_error: 0.0018 - mean_absolute_error: 0.02 - ETA: 0s - loss: 0.0025 - mean_squared_error: 0.0018 - mean_absolute_error: 0.02 - ETA: 0s - loss: 0.0025 - mean_squared_error: 0.0018 - mean_absolute_error: 0.02 - ETA: 0s - loss: 0.0025 - mean_squared_error: 0.0018 - mean_absolute_error: 0.02 - ETA: 0s - loss: 0.0025 - mean_squared_error: 0.0018 - mean_absolute_error: 0.02 - ETA: 0s - loss: 0.0025 - mean_squared_error: 0.0018 - mean_absolute_error: 0.02 - ETA: 0s - loss: 0.0025 - mean_squared_error: 0.0018 - mean_absolute_error: 0.02 - ETA: 0s - loss: 0.0025 - mean_squared_error: 0.0018 - mean_absolute_error: 0.02 - ETA: 0s - loss: 0.0025 - mean_squared_error: 0.0018 - mean_absolute_error: 0.02 - ETA: 0s - loss: 0.0025 - mean_squared_error: 0.0018 - mean_absolute_error: 0.02 - ETA: 0s - loss: 0.0025 - mean_squared_error: 0.0018 - mean_absolute_error: 0.02 - ETA: 0s - loss: 0.0025 - mean_squared_error: 0.0018 - mean_absolute_error: 0.02 - ETA: 0s - loss: 0.0025 - mean_squared_error: 0.0018 - mean_absolute_error: 0.02 - 1s 164us/sample - loss: 0.0025 - mean_squared_error: 0.0018 - mean_absolute_error: 0.0256 - val_loss: 0.0012 - val_mean_squared_error: 5.5439e-04 - val_mean_absolute_error: 0.0173\n",
      "Epoch 28/100\n",
      "8000/8000 [==============================] - ETA: 1s - loss: 0.0025 - mean_squared_error: 0.0018 - mean_absolute_error: 0.02 - ETA: 1s - loss: 0.0025 - mean_squared_error: 0.0018 - mean_absolute_error: 0.02 - ETA: 1s - loss: 0.0025 - mean_squared_error: 0.0018 - mean_absolute_error: 0.02 - ETA: 1s - loss: 0.0025 - mean_squared_error: 0.0018 - mean_absolute_error: 0.02 - ETA: 0s - loss: 0.0025 - mean_squared_error: 0.0018 - mean_absolute_error: 0.02 - ETA: 0s - loss: 0.0025 - mean_squared_error: 0.0018 - mean_absolute_error: 0.02 - ETA: 0s - loss: 0.0025 - mean_squared_error: 0.0019 - mean_absolute_error: 0.02 - ETA: 0s - loss: 0.0025 - mean_squared_error: 0.0018 - mean_absolute_error: 0.02 - ETA: 0s - loss: 0.0025 - mean_squared_error: 0.0018 - mean_absolute_error: 0.02 - ETA: 0s - loss: 0.0025 - mean_squared_error: 0.0018 - mean_absolute_error: 0.02 - ETA: 0s - loss: 0.0025 - mean_squared_error: 0.0018 - mean_absolute_error: 0.02 - ETA: 0s - loss: 0.0025 - mean_squared_error: 0.0018 - mean_absolute_error: 0.02 - ETA: 0s - loss: 0.0025 - mean_squared_error: 0.0018 - mean_absolute_error: 0.02 - ETA: 0s - loss: 0.0025 - mean_squared_error: 0.0018 - mean_absolute_error: 0.02 - ETA: 0s - loss: 0.0025 - mean_squared_error: 0.0018 - mean_absolute_error: 0.02 - ETA: 0s - loss: 0.0025 - mean_squared_error: 0.0018 - mean_absolute_error: 0.02 - ETA: 0s - loss: 0.0025 - mean_squared_error: 0.0018 - mean_absolute_error: 0.02 - ETA: 0s - loss: 0.0025 - mean_squared_error: 0.0018 - mean_absolute_error: 0.02 - ETA: 0s - loss: 0.0025 - mean_squared_error: 0.0018 - mean_absolute_error: 0.02 - ETA: 0s - loss: 0.0025 - mean_squared_error: 0.0018 - mean_absolute_error: 0.02 - ETA: 0s - loss: 0.0025 - mean_squared_error: 0.0018 - mean_absolute_error: 0.02 - ETA: 0s - loss: 0.0025 - mean_squared_error: 0.0018 - mean_absolute_error: 0.02 - ETA: 0s - loss: 0.0025 - mean_squared_error: 0.0018 - mean_absolute_error: 0.02 - 1s 173us/sample - loss: 0.0025 - mean_squared_error: 0.0018 - mean_absolute_error: 0.0256 - val_loss: 0.0012 - val_mean_squared_error: 5.0983e-04 - val_mean_absolute_error: 0.0168\n",
      "Epoch 29/100\n"
     ]
    },
    {
     "name": "stdout",
     "output_type": "stream",
     "text": [
      "8000/8000 [==============================] - ETA: 2s - loss: 0.0019 - mean_squared_error: 0.0012 - mean_absolute_error: 0.02 - ETA: 1s - loss: 0.0025 - mean_squared_error: 0.0018 - mean_absolute_error: 0.02 - ETA: 1s - loss: 0.0024 - mean_squared_error: 0.0018 - mean_absolute_error: 0.02 - ETA: 1s - loss: 0.0024 - mean_squared_error: 0.0017 - mean_absolute_error: 0.02 - ETA: 1s - loss: 0.0025 - mean_squared_error: 0.0018 - mean_absolute_error: 0.02 - ETA: 1s - loss: 0.0025 - mean_squared_error: 0.0018 - mean_absolute_error: 0.02 - ETA: 0s - loss: 0.0024 - mean_squared_error: 0.0018 - mean_absolute_error: 0.02 - ETA: 0s - loss: 0.0025 - mean_squared_error: 0.0018 - mean_absolute_error: 0.02 - ETA: 0s - loss: 0.0025 - mean_squared_error: 0.0018 - mean_absolute_error: 0.02 - ETA: 0s - loss: 0.0025 - mean_squared_error: 0.0018 - mean_absolute_error: 0.02 - ETA: 0s - loss: 0.0025 - mean_squared_error: 0.0018 - mean_absolute_error: 0.02 - ETA: 0s - loss: 0.0025 - mean_squared_error: 0.0018 - mean_absolute_error: 0.02 - ETA: 0s - loss: 0.0025 - mean_squared_error: 0.0018 - mean_absolute_error: 0.02 - ETA: 0s - loss: 0.0025 - mean_squared_error: 0.0018 - mean_absolute_error: 0.02 - ETA: 0s - loss: 0.0025 - mean_squared_error: 0.0018 - mean_absolute_error: 0.02 - ETA: 0s - loss: 0.0025 - mean_squared_error: 0.0018 - mean_absolute_error: 0.02 - ETA: 0s - loss: 0.0025 - mean_squared_error: 0.0018 - mean_absolute_error: 0.02 - ETA: 0s - loss: 0.0025 - mean_squared_error: 0.0018 - mean_absolute_error: 0.02 - ETA: 0s - loss: 0.0025 - mean_squared_error: 0.0018 - mean_absolute_error: 0.02 - ETA: 0s - loss: 0.0025 - mean_squared_error: 0.0018 - mean_absolute_error: 0.02 - ETA: 0s - loss: 0.0025 - mean_squared_error: 0.0018 - mean_absolute_error: 0.02 - ETA: 0s - loss: 0.0025 - mean_squared_error: 0.0018 - mean_absolute_error: 0.02 - ETA: 0s - loss: 0.0025 - mean_squared_error: 0.0018 - mean_absolute_error: 0.02 - ETA: 0s - loss: 0.0025 - mean_squared_error: 0.0018 - mean_absolute_error: 0.02 - ETA: 0s - loss: 0.0025 - mean_squared_error: 0.0018 - mean_absolute_error: 0.02 - 1s 187us/sample - loss: 0.0025 - mean_squared_error: 0.0018 - mean_absolute_error: 0.0258 - val_loss: 0.0014 - val_mean_squared_error: 6.7956e-04 - val_mean_absolute_error: 0.0186\n",
      "Epoch 30/100\n",
      "8000/8000 [==============================] - ETA: 1s - loss: 0.0027 - mean_squared_error: 0.0020 - mean_absolute_error: 0.02 - ETA: 1s - loss: 0.0025 - mean_squared_error: 0.0018 - mean_absolute_error: 0.02 - ETA: 1s - loss: 0.0025 - mean_squared_error: 0.0018 - mean_absolute_error: 0.02 - ETA: 1s - loss: 0.0026 - mean_squared_error: 0.0019 - mean_absolute_error: 0.02 - ETA: 1s - loss: 0.0026 - mean_squared_error: 0.0019 - mean_absolute_error: 0.02 - ETA: 1s - loss: 0.0025 - mean_squared_error: 0.0018 - mean_absolute_error: 0.02 - ETA: 0s - loss: 0.0025 - mean_squared_error: 0.0018 - mean_absolute_error: 0.02 - ETA: 0s - loss: 0.0025 - mean_squared_error: 0.0018 - mean_absolute_error: 0.02 - ETA: 0s - loss: 0.0025 - mean_squared_error: 0.0018 - mean_absolute_error: 0.02 - ETA: 0s - loss: 0.0025 - mean_squared_error: 0.0018 - mean_absolute_error: 0.02 - ETA: 0s - loss: 0.0025 - mean_squared_error: 0.0018 - mean_absolute_error: 0.02 - ETA: 0s - loss: 0.0025 - mean_squared_error: 0.0018 - mean_absolute_error: 0.02 - ETA: 0s - loss: 0.0025 - mean_squared_error: 0.0018 - mean_absolute_error: 0.02 - ETA: 0s - loss: 0.0025 - mean_squared_error: 0.0018 - mean_absolute_error: 0.02 - ETA: 0s - loss: 0.0025 - mean_squared_error: 0.0018 - mean_absolute_error: 0.02 - ETA: 0s - loss: 0.0025 - mean_squared_error: 0.0018 - mean_absolute_error: 0.02 - ETA: 0s - loss: 0.0025 - mean_squared_error: 0.0018 - mean_absolute_error: 0.02 - ETA: 0s - loss: 0.0025 - mean_squared_error: 0.0018 - mean_absolute_error: 0.02 - ETA: 0s - loss: 0.0025 - mean_squared_error: 0.0018 - mean_absolute_error: 0.02 - ETA: 0s - loss: 0.0025 - mean_squared_error: 0.0018 - mean_absolute_error: 0.02 - ETA: 0s - loss: 0.0025 - mean_squared_error: 0.0018 - mean_absolute_error: 0.02 - ETA: 0s - loss: 0.0025 - mean_squared_error: 0.0018 - mean_absolute_error: 0.02 - ETA: 0s - loss: 0.0025 - mean_squared_error: 0.0018 - mean_absolute_error: 0.02 - ETA: 0s - loss: 0.0025 - mean_squared_error: 0.0018 - mean_absolute_error: 0.02 - 1s 177us/sample - loss: 0.0025 - mean_squared_error: 0.0018 - mean_absolute_error: 0.0258 - val_loss: 0.0013 - val_mean_squared_error: 6.3915e-04 - val_mean_absolute_error: 0.0182\n",
      "Epoch 31/100\n",
      "8000/8000 [==============================] - ETA: 2s - loss: 0.0029 - mean_squared_error: 0.0023 - mean_absolute_error: 0.02 - ETA: 1s - loss: 0.0026 - mean_squared_error: 0.0019 - mean_absolute_error: 0.02 - ETA: 1s - loss: 0.0025 - mean_squared_error: 0.0018 - mean_absolute_error: 0.02 - ETA: 0s - loss: 0.0025 - mean_squared_error: 0.0018 - mean_absolute_error: 0.02 - ETA: 0s - loss: 0.0025 - mean_squared_error: 0.0018 - mean_absolute_error: 0.02 - ETA: 0s - loss: 0.0024 - mean_squared_error: 0.0017 - mean_absolute_error: 0.02 - ETA: 0s - loss: 0.0024 - mean_squared_error: 0.0018 - mean_absolute_error: 0.02 - ETA: 0s - loss: 0.0024 - mean_squared_error: 0.0017 - mean_absolute_error: 0.02 - ETA: 0s - loss: 0.0024 - mean_squared_error: 0.0017 - mean_absolute_error: 0.02 - ETA: 0s - loss: 0.0024 - mean_squared_error: 0.0017 - mean_absolute_error: 0.02 - ETA: 0s - loss: 0.0024 - mean_squared_error: 0.0017 - mean_absolute_error: 0.02 - ETA: 0s - loss: 0.0024 - mean_squared_error: 0.0017 - mean_absolute_error: 0.02 - ETA: 0s - loss: 0.0024 - mean_squared_error: 0.0017 - mean_absolute_error: 0.02 - ETA: 0s - loss: 0.0024 - mean_squared_error: 0.0017 - mean_absolute_error: 0.02 - ETA: 0s - loss: 0.0025 - mean_squared_error: 0.0018 - mean_absolute_error: 0.02 - ETA: 0s - loss: 0.0025 - mean_squared_error: 0.0018 - mean_absolute_error: 0.02 - ETA: 0s - loss: 0.0025 - mean_squared_error: 0.0018 - mean_absolute_error: 0.02 - ETA: 0s - loss: 0.0025 - mean_squared_error: 0.0018 - mean_absolute_error: 0.02 - ETA: 0s - loss: 0.0025 - mean_squared_error: 0.0018 - mean_absolute_error: 0.02 - ETA: 0s - loss: 0.0024 - mean_squared_error: 0.0018 - mean_absolute_error: 0.02 - ETA: 0s - loss: 0.0024 - mean_squared_error: 0.0018 - mean_absolute_error: 0.02 - ETA: 0s - loss: 0.0024 - mean_squared_error: 0.0018 - mean_absolute_error: 0.02 - 1s 173us/sample - loss: 0.0025 - mean_squared_error: 0.0018 - mean_absolute_error: 0.0256 - val_loss: 0.0012 - val_mean_squared_error: 4.8436e-04 - val_mean_absolute_error: 0.0165\n",
      "Epoch 32/100\n"
     ]
    },
    {
     "name": "stdout",
     "output_type": "stream",
     "text": [
      "8000/8000 [==============================] - ETA: 2s - loss: 0.0026 - mean_squared_error: 0.0019 - mean_absolute_error: 0.02 - ETA: 1s - loss: 0.0026 - mean_squared_error: 0.0019 - mean_absolute_error: 0.02 - ETA: 1s - loss: 0.0025 - mean_squared_error: 0.0018 - mean_absolute_error: 0.02 - ETA: 1s - loss: 0.0025 - mean_squared_error: 0.0018 - mean_absolute_error: 0.02 - ETA: 0s - loss: 0.0025 - mean_squared_error: 0.0018 - mean_absolute_error: 0.02 - ETA: 0s - loss: 0.0024 - mean_squared_error: 0.0018 - mean_absolute_error: 0.02 - ETA: 0s - loss: 0.0025 - mean_squared_error: 0.0018 - mean_absolute_error: 0.02 - ETA: 0s - loss: 0.0024 - mean_squared_error: 0.0017 - mean_absolute_error: 0.02 - ETA: 0s - loss: 0.0024 - mean_squared_error: 0.0017 - mean_absolute_error: 0.02 - ETA: 0s - loss: 0.0024 - mean_squared_error: 0.0017 - mean_absolute_error: 0.02 - ETA: 0s - loss: 0.0025 - mean_squared_error: 0.0018 - mean_absolute_error: 0.02 - ETA: 0s - loss: 0.0025 - mean_squared_error: 0.0018 - mean_absolute_error: 0.02 - ETA: 0s - loss: 0.0025 - mean_squared_error: 0.0018 - mean_absolute_error: 0.02 - ETA: 0s - loss: 0.0024 - mean_squared_error: 0.0018 - mean_absolute_error: 0.02 - ETA: 0s - loss: 0.0025 - mean_squared_error: 0.0018 - mean_absolute_error: 0.02 - ETA: 0s - loss: 0.0025 - mean_squared_error: 0.0018 - mean_absolute_error: 0.02 - ETA: 0s - loss: 0.0025 - mean_squared_error: 0.0018 - mean_absolute_error: 0.02 - ETA: 0s - loss: 0.0025 - mean_squared_error: 0.0018 - mean_absolute_error: 0.02 - ETA: 0s - loss: 0.0025 - mean_squared_error: 0.0018 - mean_absolute_error: 0.02 - ETA: 0s - loss: 0.0025 - mean_squared_error: 0.0018 - mean_absolute_error: 0.02 - ETA: 0s - loss: 0.0025 - mean_squared_error: 0.0018 - mean_absolute_error: 0.02 - ETA: 0s - loss: 0.0025 - mean_squared_error: 0.0018 - mean_absolute_error: 0.02 - 1s 163us/sample - loss: 0.0025 - mean_squared_error: 0.0018 - mean_absolute_error: 0.0256 - val_loss: 0.0015 - val_mean_squared_error: 7.5772e-04 - val_mean_absolute_error: 0.0194\n",
      "Epoch 33/100\n",
      "8000/8000 [==============================] - ETA: 1s - loss: 0.0024 - mean_squared_error: 0.0017 - mean_absolute_error: 0.02 - ETA: 1s - loss: 0.0025 - mean_squared_error: 0.0018 - mean_absolute_error: 0.02 - ETA: 0s - loss: 0.0025 - mean_squared_error: 0.0018 - mean_absolute_error: 0.02 - ETA: 0s - loss: 0.0025 - mean_squared_error: 0.0018 - mean_absolute_error: 0.02 - ETA: 0s - loss: 0.0025 - mean_squared_error: 0.0018 - mean_absolute_error: 0.02 - ETA: 0s - loss: 0.0025 - mean_squared_error: 0.0018 - mean_absolute_error: 0.02 - ETA: 0s - loss: 0.0024 - mean_squared_error: 0.0017 - mean_absolute_error: 0.02 - ETA: 0s - loss: 0.0025 - mean_squared_error: 0.0018 - mean_absolute_error: 0.02 - ETA: 0s - loss: 0.0025 - mean_squared_error: 0.0018 - mean_absolute_error: 0.02 - ETA: 0s - loss: 0.0025 - mean_squared_error: 0.0018 - mean_absolute_error: 0.02 - ETA: 0s - loss: 0.0024 - mean_squared_error: 0.0018 - mean_absolute_error: 0.02 - ETA: 0s - loss: 0.0024 - mean_squared_error: 0.0018 - mean_absolute_error: 0.02 - ETA: 0s - loss: 0.0024 - mean_squared_error: 0.0018 - mean_absolute_error: 0.02 - ETA: 0s - loss: 0.0025 - mean_squared_error: 0.0018 - mean_absolute_error: 0.02 - ETA: 0s - loss: 0.0025 - mean_squared_error: 0.0018 - mean_absolute_error: 0.02 - ETA: 0s - loss: 0.0025 - mean_squared_error: 0.0018 - mean_absolute_error: 0.02 - ETA: 0s - loss: 0.0025 - mean_squared_error: 0.0018 - mean_absolute_error: 0.02 - ETA: 0s - loss: 0.0025 - mean_squared_error: 0.0018 - mean_absolute_error: 0.02 - ETA: 0s - loss: 0.0025 - mean_squared_error: 0.0018 - mean_absolute_error: 0.02 - ETA: 0s - loss: 0.0025 - mean_squared_error: 0.0018 - mean_absolute_error: 0.02 - ETA: 0s - loss: 0.0025 - mean_squared_error: 0.0018 - mean_absolute_error: 0.02 - 1s 160us/sample - loss: 0.0024 - mean_squared_error: 0.0018 - mean_absolute_error: 0.0256 - val_loss: 0.0012 - val_mean_squared_error: 5.5094e-04 - val_mean_absolute_error: 0.0173\n",
      "Epoch 34/100\n",
      "8000/8000 [==============================] - ETA: 1s - loss: 0.0022 - mean_squared_error: 0.0015 - mean_absolute_error: 0.02 - ETA: 1s - loss: 0.0025 - mean_squared_error: 0.0018 - mean_absolute_error: 0.02 - ETA: 0s - loss: 0.0024 - mean_squared_error: 0.0017 - mean_absolute_error: 0.02 - ETA: 0s - loss: 0.0024 - mean_squared_error: 0.0017 - mean_absolute_error: 0.02 - ETA: 0s - loss: 0.0024 - mean_squared_error: 0.0017 - mean_absolute_error: 0.02 - ETA: 0s - loss: 0.0024 - mean_squared_error: 0.0017 - mean_absolute_error: 0.02 - ETA: 0s - loss: 0.0024 - mean_squared_error: 0.0017 - mean_absolute_error: 0.02 - ETA: 0s - loss: 0.0024 - mean_squared_error: 0.0018 - mean_absolute_error: 0.02 - ETA: 0s - loss: 0.0025 - mean_squared_error: 0.0018 - mean_absolute_error: 0.02 - ETA: 0s - loss: 0.0024 - mean_squared_error: 0.0018 - mean_absolute_error: 0.02 - ETA: 0s - loss: 0.0024 - mean_squared_error: 0.0018 - mean_absolute_error: 0.02 - ETA: 0s - loss: 0.0024 - mean_squared_error: 0.0017 - mean_absolute_error: 0.02 - ETA: 0s - loss: 0.0025 - mean_squared_error: 0.0018 - mean_absolute_error: 0.02 - ETA: 0s - loss: 0.0025 - mean_squared_error: 0.0018 - mean_absolute_error: 0.02 - ETA: 0s - loss: 0.0025 - mean_squared_error: 0.0018 - mean_absolute_error: 0.02 - ETA: 0s - loss: 0.0025 - mean_squared_error: 0.0018 - mean_absolute_error: 0.02 - ETA: 0s - loss: 0.0025 - mean_squared_error: 0.0018 - mean_absolute_error: 0.02 - ETA: 0s - loss: 0.0025 - mean_squared_error: 0.0018 - mean_absolute_error: 0.02 - ETA: 0s - loss: 0.0025 - mean_squared_error: 0.0018 - mean_absolute_error: 0.02 - ETA: 0s - loss: 0.0025 - mean_squared_error: 0.0018 - mean_absolute_error: 0.02 - ETA: 0s - loss: 0.0025 - mean_squared_error: 0.0018 - mean_absolute_error: 0.02 - 1s 158us/sample - loss: 0.0025 - mean_squared_error: 0.0018 - mean_absolute_error: 0.0257 - val_loss: 0.0014 - val_mean_squared_error: 7.1515e-04 - val_mean_absolute_error: 0.0190\n",
      "Epoch 35/100\n",
      "8000/8000 [==============================] - ETA: 1s - loss: 0.0023 - mean_squared_error: 0.0016 - mean_absolute_error: 0.02 - ETA: 1s - loss: 0.0024 - mean_squared_error: 0.0017 - mean_absolute_error: 0.02 - ETA: 1s - loss: 0.0025 - mean_squared_error: 0.0018 - mean_absolute_error: 0.02 - ETA: 1s - loss: 0.0025 - mean_squared_error: 0.0018 - mean_absolute_error: 0.02 - ETA: 1s - loss: 0.0025 - mean_squared_error: 0.0018 - mean_absolute_error: 0.02 - ETA: 1s - loss: 0.0025 - mean_squared_error: 0.0018 - mean_absolute_error: 0.02 - ETA: 1s - loss: 0.0025 - mean_squared_error: 0.0018 - mean_absolute_error: 0.02 - ETA: 1s - loss: 0.0025 - mean_squared_error: 0.0018 - mean_absolute_error: 0.02 - ETA: 0s - loss: 0.0025 - mean_squared_error: 0.0018 - mean_absolute_error: 0.02 - ETA: 0s - loss: 0.0025 - mean_squared_error: 0.0018 - mean_absolute_error: 0.02 - ETA: 0s - loss: 0.0025 - mean_squared_error: 0.0018 - mean_absolute_error: 0.02 - ETA: 0s - loss: 0.0025 - mean_squared_error: 0.0018 - mean_absolute_error: 0.02 - ETA: 0s - loss: 0.0025 - mean_squared_error: 0.0018 - mean_absolute_error: 0.02 - ETA: 0s - loss: 0.0025 - mean_squared_error: 0.0018 - mean_absolute_error: 0.02 - ETA: 0s - loss: 0.0025 - mean_squared_error: 0.0018 - mean_absolute_error: 0.02 - ETA: 0s - loss: 0.0025 - mean_squared_error: 0.0018 - mean_absolute_error: 0.02 - ETA: 0s - loss: 0.0025 - mean_squared_error: 0.0018 - mean_absolute_error: 0.02 - ETA: 0s - loss: 0.0025 - mean_squared_error: 0.0018 - mean_absolute_error: 0.02 - ETA: 0s - loss: 0.0025 - mean_squared_error: 0.0018 - mean_absolute_error: 0.02 - ETA: 0s - loss: 0.0025 - mean_squared_error: 0.0018 - mean_absolute_error: 0.02 - ETA: 0s - loss: 0.0025 - mean_squared_error: 0.0018 - mean_absolute_error: 0.02 - ETA: 0s - loss: 0.0025 - mean_squared_error: 0.0018 - mean_absolute_error: 0.02 - ETA: 0s - loss: 0.0025 - mean_squared_error: 0.0018 - mean_absolute_error: 0.02 - 1s 168us/sample - loss: 0.0025 - mean_squared_error: 0.0018 - mean_absolute_error: 0.0257 - val_loss: 0.0013 - val_mean_squared_error: 5.6248e-04 - val_mean_absolute_error: 0.0174\n",
      "Epoch 36/100\n"
     ]
    },
    {
     "name": "stdout",
     "output_type": "stream",
     "text": [
      "8000/8000 [==============================] - ETA: 1s - loss: 0.0019 - mean_squared_error: 0.0013 - mean_absolute_error: 0.02 - ETA: 1s - loss: 0.0024 - mean_squared_error: 0.0017 - mean_absolute_error: 0.02 - ETA: 0s - loss: 0.0024 - mean_squared_error: 0.0017 - mean_absolute_error: 0.02 - ETA: 0s - loss: 0.0024 - mean_squared_error: 0.0017 - mean_absolute_error: 0.02 - ETA: 0s - loss: 0.0024 - mean_squared_error: 0.0017 - mean_absolute_error: 0.02 - ETA: 0s - loss: 0.0024 - mean_squared_error: 0.0017 - mean_absolute_error: 0.02 - ETA: 0s - loss: 0.0024 - mean_squared_error: 0.0017 - mean_absolute_error: 0.02 - ETA: 0s - loss: 0.0024 - mean_squared_error: 0.0017 - mean_absolute_error: 0.02 - ETA: 0s - loss: 0.0024 - mean_squared_error: 0.0017 - mean_absolute_error: 0.02 - ETA: 0s - loss: 0.0024 - mean_squared_error: 0.0017 - mean_absolute_error: 0.02 - ETA: 0s - loss: 0.0024 - mean_squared_error: 0.0017 - mean_absolute_error: 0.02 - ETA: 0s - loss: 0.0024 - mean_squared_error: 0.0017 - mean_absolute_error: 0.02 - ETA: 0s - loss: 0.0024 - mean_squared_error: 0.0017 - mean_absolute_error: 0.02 - ETA: 0s - loss: 0.0024 - mean_squared_error: 0.0017 - mean_absolute_error: 0.02 - ETA: 0s - loss: 0.0024 - mean_squared_error: 0.0017 - mean_absolute_error: 0.02 - ETA: 0s - loss: 0.0024 - mean_squared_error: 0.0017 - mean_absolute_error: 0.02 - ETA: 0s - loss: 0.0024 - mean_squared_error: 0.0017 - mean_absolute_error: 0.02 - ETA: 0s - loss: 0.0024 - mean_squared_error: 0.0017 - mean_absolute_error: 0.02 - ETA: 0s - loss: 0.0024 - mean_squared_error: 0.0017 - mean_absolute_error: 0.02 - ETA: 0s - loss: 0.0024 - mean_squared_error: 0.0018 - mean_absolute_error: 0.02 - 1s 153us/sample - loss: 0.0024 - mean_squared_error: 0.0018 - mean_absolute_error: 0.0255 - val_loss: 0.0013 - val_mean_squared_error: 6.0647e-04 - val_mean_absolute_error: 0.0179\n",
      "Epoch 37/100\n",
      "8000/8000 [==============================] - ETA: 1s - loss: 0.0024 - mean_squared_error: 0.0017 - mean_absolute_error: 0.02 - ETA: 1s - loss: 0.0025 - mean_squared_error: 0.0018 - mean_absolute_error: 0.02 - ETA: 0s - loss: 0.0025 - mean_squared_error: 0.0018 - mean_absolute_error: 0.02 - ETA: 0s - loss: 0.0025 - mean_squared_error: 0.0018 - mean_absolute_error: 0.02 - ETA: 0s - loss: 0.0025 - mean_squared_error: 0.0018 - mean_absolute_error: 0.02 - ETA: 0s - loss: 0.0025 - mean_squared_error: 0.0018 - mean_absolute_error: 0.02 - ETA: 0s - loss: 0.0025 - mean_squared_error: 0.0018 - mean_absolute_error: 0.02 - ETA: 0s - loss: 0.0025 - mean_squared_error: 0.0018 - mean_absolute_error: 0.02 - ETA: 0s - loss: 0.0025 - mean_squared_error: 0.0018 - mean_absolute_error: 0.02 - ETA: 0s - loss: 0.0025 - mean_squared_error: 0.0018 - mean_absolute_error: 0.02 - ETA: 0s - loss: 0.0025 - mean_squared_error: 0.0018 - mean_absolute_error: 0.02 - ETA: 0s - loss: 0.0025 - mean_squared_error: 0.0018 - mean_absolute_error: 0.02 - ETA: 0s - loss: 0.0025 - mean_squared_error: 0.0018 - mean_absolute_error: 0.02 - ETA: 0s - loss: 0.0025 - mean_squared_error: 0.0018 - mean_absolute_error: 0.02 - ETA: 0s - loss: 0.0025 - mean_squared_error: 0.0018 - mean_absolute_error: 0.02 - ETA: 0s - loss: 0.0025 - mean_squared_error: 0.0018 - mean_absolute_error: 0.02 - ETA: 0s - loss: 0.0025 - mean_squared_error: 0.0018 - mean_absolute_error: 0.02 - ETA: 0s - loss: 0.0025 - mean_squared_error: 0.0018 - mean_absolute_error: 0.02 - ETA: 0s - loss: 0.0025 - mean_squared_error: 0.0018 - mean_absolute_error: 0.02 - ETA: 0s - loss: 0.0025 - mean_squared_error: 0.0018 - mean_absolute_error: 0.02 - 1s 153us/sample - loss: 0.0025 - mean_squared_error: 0.0018 - mean_absolute_error: 0.0256 - val_loss: 0.0012 - val_mean_squared_error: 4.6770e-04 - val_mean_absolute_error: 0.0163\n",
      "Epoch 38/100\n",
      "8000/8000 [==============================] - ETA: 1s - loss: 0.0022 - mean_squared_error: 0.0015 - mean_absolute_error: 0.02 - ETA: 1s - loss: 0.0023 - mean_squared_error: 0.0017 - mean_absolute_error: 0.02 - ETA: 0s - loss: 0.0025 - mean_squared_error: 0.0018 - mean_absolute_error: 0.02 - ETA: 0s - loss: 0.0024 - mean_squared_error: 0.0018 - mean_absolute_error: 0.02 - ETA: 0s - loss: 0.0025 - mean_squared_error: 0.0018 - mean_absolute_error: 0.02 - ETA: 0s - loss: 0.0025 - mean_squared_error: 0.0018 - mean_absolute_error: 0.02 - ETA: 0s - loss: 0.0024 - mean_squared_error: 0.0018 - mean_absolute_error: 0.02 - ETA: 0s - loss: 0.0024 - mean_squared_error: 0.0018 - mean_absolute_error: 0.02 - ETA: 0s - loss: 0.0024 - mean_squared_error: 0.0018 - mean_absolute_error: 0.02 - ETA: 0s - loss: 0.0024 - mean_squared_error: 0.0017 - mean_absolute_error: 0.02 - ETA: 0s - loss: 0.0024 - mean_squared_error: 0.0017 - mean_absolute_error: 0.02 - ETA: 0s - loss: 0.0024 - mean_squared_error: 0.0017 - mean_absolute_error: 0.02 - ETA: 0s - loss: 0.0024 - mean_squared_error: 0.0017 - mean_absolute_error: 0.02 - ETA: 0s - loss: 0.0024 - mean_squared_error: 0.0017 - mean_absolute_error: 0.02 - ETA: 0s - loss: 0.0024 - mean_squared_error: 0.0017 - mean_absolute_error: 0.02 - ETA: 0s - loss: 0.0024 - mean_squared_error: 0.0018 - mean_absolute_error: 0.02 - ETA: 0s - loss: 0.0024 - mean_squared_error: 0.0018 - mean_absolute_error: 0.02 - ETA: 0s - loss: 0.0024 - mean_squared_error: 0.0017 - mean_absolute_error: 0.02 - ETA: 0s - loss: 0.0024 - mean_squared_error: 0.0018 - mean_absolute_error: 0.02 - ETA: 0s - loss: 0.0025 - mean_squared_error: 0.0018 - mean_absolute_error: 0.02 - 1s 153us/sample - loss: 0.0024 - mean_squared_error: 0.0018 - mean_absolute_error: 0.0255 - val_loss: 0.0013 - val_mean_squared_error: 5.8181e-04 - val_mean_absolute_error: 0.0175\n",
      "Epoch 39/100\n",
      "8000/8000 [==============================] - ETA: 1s - loss: 0.0025 - mean_squared_error: 0.0018 - mean_absolute_error: 0.02 - ETA: 1s - loss: 0.0026 - mean_squared_error: 0.0019 - mean_absolute_error: 0.02 - ETA: 0s - loss: 0.0026 - mean_squared_error: 0.0019 - mean_absolute_error: 0.02 - ETA: 0s - loss: 0.0026 - mean_squared_error: 0.0019 - mean_absolute_error: 0.02 - ETA: 0s - loss: 0.0025 - mean_squared_error: 0.0018 - mean_absolute_error: 0.02 - ETA: 0s - loss: 0.0025 - mean_squared_error: 0.0018 - mean_absolute_error: 0.02 - ETA: 0s - loss: 0.0025 - mean_squared_error: 0.0018 - mean_absolute_error: 0.02 - ETA: 0s - loss: 0.0025 - mean_squared_error: 0.0018 - mean_absolute_error: 0.02 - ETA: 0s - loss: 0.0025 - mean_squared_error: 0.0018 - mean_absolute_error: 0.02 - ETA: 0s - loss: 0.0025 - mean_squared_error: 0.0018 - mean_absolute_error: 0.02 - ETA: 0s - loss: 0.0025 - mean_squared_error: 0.0018 - mean_absolute_error: 0.02 - ETA: 0s - loss: 0.0025 - mean_squared_error: 0.0018 - mean_absolute_error: 0.02 - ETA: 0s - loss: 0.0025 - mean_squared_error: 0.0018 - mean_absolute_error: 0.02 - ETA: 0s - loss: 0.0025 - mean_squared_error: 0.0018 - mean_absolute_error: 0.02 - ETA: 0s - loss: 0.0025 - mean_squared_error: 0.0018 - mean_absolute_error: 0.02 - ETA: 0s - loss: 0.0025 - mean_squared_error: 0.0018 - mean_absolute_error: 0.02 - ETA: 0s - loss: 0.0025 - mean_squared_error: 0.0018 - mean_absolute_error: 0.02 - ETA: 0s - loss: 0.0025 - mean_squared_error: 0.0018 - mean_absolute_error: 0.02 - ETA: 0s - loss: 0.0025 - mean_squared_error: 0.0018 - mean_absolute_error: 0.02 - ETA: 0s - loss: 0.0025 - mean_squared_error: 0.0018 - mean_absolute_error: 0.02 - ETA: 0s - loss: 0.0025 - mean_squared_error: 0.0018 - mean_absolute_error: 0.02 - 1s 158us/sample - loss: 0.0025 - mean_squared_error: 0.0018 - mean_absolute_error: 0.0256 - val_loss: 0.0015 - val_mean_squared_error: 7.9165e-04 - val_mean_absolute_error: 0.0196\n",
      "Epoch 40/100\n"
     ]
    },
    {
     "name": "stdout",
     "output_type": "stream",
     "text": [
      "8000/8000 [==============================] - ETA: 1s - loss: 0.0027 - mean_squared_error: 0.0020 - mean_absolute_error: 0.02 - ETA: 1s - loss: 0.0025 - mean_squared_error: 0.0018 - mean_absolute_error: 0.02 - ETA: 1s - loss: 0.0024 - mean_squared_error: 0.0017 - mean_absolute_error: 0.02 - ETA: 0s - loss: 0.0025 - mean_squared_error: 0.0018 - mean_absolute_error: 0.02 - ETA: 0s - loss: 0.0025 - mean_squared_error: 0.0018 - mean_absolute_error: 0.02 - ETA: 0s - loss: 0.0025 - mean_squared_error: 0.0018 - mean_absolute_error: 0.02 - ETA: 0s - loss: 0.0024 - mean_squared_error: 0.0018 - mean_absolute_error: 0.02 - ETA: 0s - loss: 0.0024 - mean_squared_error: 0.0017 - mean_absolute_error: 0.02 - ETA: 0s - loss: 0.0024 - mean_squared_error: 0.0017 - mean_absolute_error: 0.02 - ETA: 0s - loss: 0.0024 - mean_squared_error: 0.0017 - mean_absolute_error: 0.02 - ETA: 0s - loss: 0.0024 - mean_squared_error: 0.0017 - mean_absolute_error: 0.02 - ETA: 0s - loss: 0.0024 - mean_squared_error: 0.0017 - mean_absolute_error: 0.02 - ETA: 0s - loss: 0.0024 - mean_squared_error: 0.0018 - mean_absolute_error: 0.02 - ETA: 0s - loss: 0.0024 - mean_squared_error: 0.0018 - mean_absolute_error: 0.02 - ETA: 0s - loss: 0.0024 - mean_squared_error: 0.0018 - mean_absolute_error: 0.02 - ETA: 0s - loss: 0.0024 - mean_squared_error: 0.0018 - mean_absolute_error: 0.02 - ETA: 0s - loss: 0.0024 - mean_squared_error: 0.0018 - mean_absolute_error: 0.02 - ETA: 0s - loss: 0.0024 - mean_squared_error: 0.0018 - mean_absolute_error: 0.02 - ETA: 0s - loss: 0.0024 - mean_squared_error: 0.0018 - mean_absolute_error: 0.02 - ETA: 0s - loss: 0.0024 - mean_squared_error: 0.0018 - mean_absolute_error: 0.02 - ETA: 0s - loss: 0.0024 - mean_squared_error: 0.0018 - mean_absolute_error: 0.02 - 1s 158us/sample - loss: 0.0024 - mean_squared_error: 0.0017 - mean_absolute_error: 0.0256 - val_loss: 0.0012 - val_mean_squared_error: 5.3715e-04 - val_mean_absolute_error: 0.0171\n",
      "Epoch 41/100\n",
      "8000/8000 [==============================] - ETA: 2s - loss: 0.0025 - mean_squared_error: 0.0018 - mean_absolute_error: 0.02 - ETA: 1s - loss: 0.0025 - mean_squared_error: 0.0018 - mean_absolute_error: 0.02 - ETA: 1s - loss: 0.0025 - mean_squared_error: 0.0018 - mean_absolute_error: 0.02 - ETA: 0s - loss: 0.0025 - mean_squared_error: 0.0018 - mean_absolute_error: 0.02 - ETA: 0s - loss: 0.0025 - mean_squared_error: 0.0018 - mean_absolute_error: 0.02 - ETA: 0s - loss: 0.0025 - mean_squared_error: 0.0018 - mean_absolute_error: 0.02 - ETA: 0s - loss: 0.0025 - mean_squared_error: 0.0018 - mean_absolute_error: 0.02 - ETA: 0s - loss: 0.0025 - mean_squared_error: 0.0018 - mean_absolute_error: 0.02 - ETA: 0s - loss: 0.0025 - mean_squared_error: 0.0018 - mean_absolute_error: 0.02 - ETA: 0s - loss: 0.0025 - mean_squared_error: 0.0018 - mean_absolute_error: 0.02 - ETA: 0s - loss: 0.0025 - mean_squared_error: 0.0018 - mean_absolute_error: 0.02 - ETA: 0s - loss: 0.0025 - mean_squared_error: 0.0018 - mean_absolute_error: 0.02 - ETA: 0s - loss: 0.0025 - mean_squared_error: 0.0018 - mean_absolute_error: 0.02 - ETA: 0s - loss: 0.0025 - mean_squared_error: 0.0018 - mean_absolute_error: 0.02 - ETA: 0s - loss: 0.0025 - mean_squared_error: 0.0018 - mean_absolute_error: 0.02 - ETA: 0s - loss: 0.0024 - mean_squared_error: 0.0018 - mean_absolute_error: 0.02 - ETA: 0s - loss: 0.0025 - mean_squared_error: 0.0018 - mean_absolute_error: 0.02 - ETA: 0s - loss: 0.0025 - mean_squared_error: 0.0018 - mean_absolute_error: 0.02 - ETA: 0s - loss: 0.0025 - mean_squared_error: 0.0018 - mean_absolute_error: 0.02 - ETA: 0s - loss: 0.0025 - mean_squared_error: 0.0018 - mean_absolute_error: 0.02 - ETA: 0s - loss: 0.0025 - mean_squared_error: 0.0018 - mean_absolute_error: 0.02 - ETA: 0s - loss: 0.0025 - mean_squared_error: 0.0018 - mean_absolute_error: 0.02 - 1s 163us/sample - loss: 0.0025 - mean_squared_error: 0.0018 - mean_absolute_error: 0.0256 - val_loss: 0.0015 - val_mean_squared_error: 8.1591e-04 - val_mean_absolute_error: 0.0199\n",
      "Epoch 42/100\n",
      "8000/8000 [==============================] - ETA: 1s - loss: 0.0028 - mean_squared_error: 0.0021 - mean_absolute_error: 0.02 - ETA: 1s - loss: 0.0026 - mean_squared_error: 0.0019 - mean_absolute_error: 0.02 - ETA: 0s - loss: 0.0026 - mean_squared_error: 0.0019 - mean_absolute_error: 0.02 - ETA: 0s - loss: 0.0025 - mean_squared_error: 0.0018 - mean_absolute_error: 0.02 - ETA: 0s - loss: 0.0025 - mean_squared_error: 0.0018 - mean_absolute_error: 0.02 - ETA: 0s - loss: 0.0025 - mean_squared_error: 0.0018 - mean_absolute_error: 0.02 - ETA: 0s - loss: 0.0025 - mean_squared_error: 0.0018 - mean_absolute_error: 0.02 - ETA: 0s - loss: 0.0025 - mean_squared_error: 0.0018 - mean_absolute_error: 0.02 - ETA: 0s - loss: 0.0025 - mean_squared_error: 0.0018 - mean_absolute_error: 0.02 - ETA: 0s - loss: 0.0025 - mean_squared_error: 0.0018 - mean_absolute_error: 0.02 - ETA: 0s - loss: 0.0025 - mean_squared_error: 0.0018 - mean_absolute_error: 0.02 - ETA: 0s - loss: 0.0025 - mean_squared_error: 0.0018 - mean_absolute_error: 0.02 - ETA: 0s - loss: 0.0025 - mean_squared_error: 0.0018 - mean_absolute_error: 0.02 - ETA: 0s - loss: 0.0025 - mean_squared_error: 0.0018 - mean_absolute_error: 0.02 - ETA: 0s - loss: 0.0025 - mean_squared_error: 0.0018 - mean_absolute_error: 0.02 - ETA: 0s - loss: 0.0025 - mean_squared_error: 0.0018 - mean_absolute_error: 0.02 - ETA: 0s - loss: 0.0025 - mean_squared_error: 0.0018 - mean_absolute_error: 0.02 - ETA: 0s - loss: 0.0025 - mean_squared_error: 0.0018 - mean_absolute_error: 0.02 - ETA: 0s - loss: 0.0025 - mean_squared_error: 0.0018 - mean_absolute_error: 0.02 - ETA: 0s - loss: 0.0025 - mean_squared_error: 0.0018 - mean_absolute_error: 0.02 - ETA: 0s - loss: 0.0025 - mean_squared_error: 0.0018 - mean_absolute_error: 0.02 - 1s 164us/sample - loss: 0.0025 - mean_squared_error: 0.0018 - mean_absolute_error: 0.0258 - val_loss: 0.0012 - val_mean_squared_error: 5.2660e-04 - val_mean_absolute_error: 0.0171\n",
      "Epoch 43/100\n",
      "8000/8000 [==============================] - ETA: 2s - loss: 0.0021 - mean_squared_error: 0.0014 - mean_absolute_error: 0.02 - ETA: 1s - loss: 0.0023 - mean_squared_error: 0.0017 - mean_absolute_error: 0.02 - ETA: 1s - loss: 0.0024 - mean_squared_error: 0.0017 - mean_absolute_error: 0.02 - ETA: 1s - loss: 0.0024 - mean_squared_error: 0.0017 - mean_absolute_error: 0.02 - ETA: 0s - loss: 0.0024 - mean_squared_error: 0.0017 - mean_absolute_error: 0.02 - ETA: 0s - loss: 0.0024 - mean_squared_error: 0.0017 - mean_absolute_error: 0.02 - ETA: 0s - loss: 0.0024 - mean_squared_error: 0.0017 - mean_absolute_error: 0.02 - ETA: 0s - loss: 0.0025 - mean_squared_error: 0.0018 - mean_absolute_error: 0.02 - ETA: 0s - loss: 0.0025 - mean_squared_error: 0.0018 - mean_absolute_error: 0.02 - ETA: 0s - loss: 0.0024 - mean_squared_error: 0.0017 - mean_absolute_error: 0.02 - ETA: 0s - loss: 0.0025 - mean_squared_error: 0.0018 - mean_absolute_error: 0.02 - ETA: 0s - loss: 0.0024 - mean_squared_error: 0.0018 - mean_absolute_error: 0.02 - ETA: 0s - loss: 0.0024 - mean_squared_error: 0.0018 - mean_absolute_error: 0.02 - ETA: 0s - loss: 0.0024 - mean_squared_error: 0.0018 - mean_absolute_error: 0.02 - ETA: 0s - loss: 0.0025 - mean_squared_error: 0.0018 - mean_absolute_error: 0.02 - ETA: 0s - loss: 0.0025 - mean_squared_error: 0.0018 - mean_absolute_error: 0.02 - ETA: 0s - loss: 0.0025 - mean_squared_error: 0.0018 - mean_absolute_error: 0.02 - ETA: 0s - loss: 0.0025 - mean_squared_error: 0.0018 - mean_absolute_error: 0.02 - ETA: 0s - loss: 0.0024 - mean_squared_error: 0.0018 - mean_absolute_error: 0.02 - ETA: 0s - loss: 0.0024 - mean_squared_error: 0.0018 - mean_absolute_error: 0.02 - ETA: 0s - loss: 0.0024 - mean_squared_error: 0.0018 - mean_absolute_error: 0.02 - 1s 161us/sample - loss: 0.0024 - mean_squared_error: 0.0018 - mean_absolute_error: 0.0256 - val_loss: 0.0012 - val_mean_squared_error: 5.5352e-04 - val_mean_absolute_error: 0.0174\n",
      "Epoch 44/100\n"
     ]
    },
    {
     "name": "stdout",
     "output_type": "stream",
     "text": [
      "8000/8000 [==============================] - ETA: 1s - loss: 0.0029 - mean_squared_error: 0.0022 - mean_absolute_error: 0.02 - ETA: 1s - loss: 0.0024 - mean_squared_error: 0.0018 - mean_absolute_error: 0.02 - ETA: 0s - loss: 0.0025 - mean_squared_error: 0.0018 - mean_absolute_error: 0.02 - ETA: 0s - loss: 0.0024 - mean_squared_error: 0.0017 - mean_absolute_error: 0.02 - ETA: 0s - loss: 0.0024 - mean_squared_error: 0.0017 - mean_absolute_error: 0.02 - ETA: 0s - loss: 0.0024 - mean_squared_error: 0.0018 - mean_absolute_error: 0.02 - ETA: 0s - loss: 0.0024 - mean_squared_error: 0.0017 - mean_absolute_error: 0.02 - ETA: 0s - loss: 0.0024 - mean_squared_error: 0.0017 - mean_absolute_error: 0.02 - ETA: 0s - loss: 0.0024 - mean_squared_error: 0.0017 - mean_absolute_error: 0.02 - ETA: 0s - loss: 0.0025 - mean_squared_error: 0.0018 - mean_absolute_error: 0.02 - ETA: 0s - loss: 0.0025 - mean_squared_error: 0.0018 - mean_absolute_error: 0.02 - ETA: 0s - loss: 0.0024 - mean_squared_error: 0.0017 - mean_absolute_error: 0.02 - ETA: 0s - loss: 0.0024 - mean_squared_error: 0.0017 - mean_absolute_error: 0.02 - ETA: 0s - loss: 0.0024 - mean_squared_error: 0.0018 - mean_absolute_error: 0.02 - ETA: 0s - loss: 0.0024 - mean_squared_error: 0.0018 - mean_absolute_error: 0.02 - ETA: 0s - loss: 0.0024 - mean_squared_error: 0.0018 - mean_absolute_error: 0.02 - ETA: 0s - loss: 0.0024 - mean_squared_error: 0.0018 - mean_absolute_error: 0.02 - ETA: 0s - loss: 0.0024 - mean_squared_error: 0.0018 - mean_absolute_error: 0.02 - ETA: 0s - loss: 0.0025 - mean_squared_error: 0.0018 - mean_absolute_error: 0.02 - ETA: 0s - loss: 0.0025 - mean_squared_error: 0.0018 - mean_absolute_error: 0.02 - ETA: 0s - loss: 0.0025 - mean_squared_error: 0.0018 - mean_absolute_error: 0.02 - ETA: 0s - loss: 0.0025 - mean_squared_error: 0.0018 - mean_absolute_error: 0.02 - 1s 169us/sample - loss: 0.0025 - mean_squared_error: 0.0018 - mean_absolute_error: 0.0256 - val_loss: 0.0012 - val_mean_squared_error: 5.5486e-04 - val_mean_absolute_error: 0.0174\n",
      "Epoch 45/100\n",
      "8000/8000 [==============================] - ETA: 2s - loss: 0.0027 - mean_squared_error: 0.0020 - mean_absolute_error: 0.02 - ETA: 1s - loss: 0.0027 - mean_squared_error: 0.0020 - mean_absolute_error: 0.02 - ETA: 1s - loss: 0.0027 - mean_squared_error: 0.0020 - mean_absolute_error: 0.02 - ETA: 0s - loss: 0.0025 - mean_squared_error: 0.0018 - mean_absolute_error: 0.02 - ETA: 0s - loss: 0.0025 - mean_squared_error: 0.0018 - mean_absolute_error: 0.02 - ETA: 0s - loss: 0.0025 - mean_squared_error: 0.0018 - mean_absolute_error: 0.02 - ETA: 0s - loss: 0.0025 - mean_squared_error: 0.0018 - mean_absolute_error: 0.02 - ETA: 0s - loss: 0.0025 - mean_squared_error: 0.0018 - mean_absolute_error: 0.02 - ETA: 0s - loss: 0.0025 - mean_squared_error: 0.0018 - mean_absolute_error: 0.02 - ETA: 0s - loss: 0.0024 - mean_squared_error: 0.0018 - mean_absolute_error: 0.02 - ETA: 0s - loss: 0.0024 - mean_squared_error: 0.0017 - mean_absolute_error: 0.02 - ETA: 0s - loss: 0.0024 - mean_squared_error: 0.0018 - mean_absolute_error: 0.02 - ETA: 0s - loss: 0.0024 - mean_squared_error: 0.0018 - mean_absolute_error: 0.02 - ETA: 0s - loss: 0.0024 - mean_squared_error: 0.0018 - mean_absolute_error: 0.02 - ETA: 0s - loss: 0.0024 - mean_squared_error: 0.0017 - mean_absolute_error: 0.02 - ETA: 0s - loss: 0.0024 - mean_squared_error: 0.0017 - mean_absolute_error: 0.02 - ETA: 0s - loss: 0.0024 - mean_squared_error: 0.0017 - mean_absolute_error: 0.02 - ETA: 0s - loss: 0.0024 - mean_squared_error: 0.0017 - mean_absolute_error: 0.02 - ETA: 0s - loss: 0.0024 - mean_squared_error: 0.0017 - mean_absolute_error: 0.02 - ETA: 0s - loss: 0.0024 - mean_squared_error: 0.0017 - mean_absolute_error: 0.02 - ETA: 0s - loss: 0.0024 - mean_squared_error: 0.0018 - mean_absolute_error: 0.02 - ETA: 0s - loss: 0.0025 - mean_squared_error: 0.0018 - mean_absolute_error: 0.02 - ETA: 0s - loss: 0.0025 - mean_squared_error: 0.0018 - mean_absolute_error: 0.02 - 1s 177us/sample - loss: 0.0025 - mean_squared_error: 0.0018 - mean_absolute_error: 0.0256 - val_loss: 0.0015 - val_mean_squared_error: 7.8986e-04 - val_mean_absolute_error: 0.0197\n",
      "Epoch 46/100\n",
      "8000/8000 [==============================] - ETA: 1s - loss: 0.0022 - mean_squared_error: 0.0015 - mean_absolute_error: 0.02 - ETA: 1s - loss: 0.0025 - mean_squared_error: 0.0018 - mean_absolute_error: 0.02 - ETA: 1s - loss: 0.0024 - mean_squared_error: 0.0017 - mean_absolute_error: 0.02 - ETA: 0s - loss: 0.0024 - mean_squared_error: 0.0017 - mean_absolute_error: 0.02 - ETA: 0s - loss: 0.0024 - mean_squared_error: 0.0017 - mean_absolute_error: 0.02 - ETA: 0s - loss: 0.0024 - mean_squared_error: 0.0017 - mean_absolute_error: 0.02 - ETA: 0s - loss: 0.0024 - mean_squared_error: 0.0017 - mean_absolute_error: 0.02 - ETA: 0s - loss: 0.0024 - mean_squared_error: 0.0017 - mean_absolute_error: 0.02 - ETA: 0s - loss: 0.0024 - mean_squared_error: 0.0017 - mean_absolute_error: 0.02 - ETA: 0s - loss: 0.0024 - mean_squared_error: 0.0017 - mean_absolute_error: 0.02 - ETA: 0s - loss: 0.0024 - mean_squared_error: 0.0017 - mean_absolute_error: 0.02 - ETA: 0s - loss: 0.0024 - mean_squared_error: 0.0017 - mean_absolute_error: 0.02 - ETA: 0s - loss: 0.0024 - mean_squared_error: 0.0018 - mean_absolute_error: 0.02 - ETA: 0s - loss: 0.0024 - mean_squared_error: 0.0017 - mean_absolute_error: 0.02 - ETA: 0s - loss: 0.0024 - mean_squared_error: 0.0018 - mean_absolute_error: 0.02 - ETA: 0s - loss: 0.0025 - mean_squared_error: 0.0018 - mean_absolute_error: 0.02 - ETA: 0s - loss: 0.0025 - mean_squared_error: 0.0018 - mean_absolute_error: 0.02 - ETA: 0s - loss: 0.0025 - mean_squared_error: 0.0018 - mean_absolute_error: 0.02 - ETA: 0s - loss: 0.0025 - mean_squared_error: 0.0018 - mean_absolute_error: 0.02 - ETA: 0s - loss: 0.0025 - mean_squared_error: 0.0018 - mean_absolute_error: 0.02 - ETA: 0s - loss: 0.0025 - mean_squared_error: 0.0018 - mean_absolute_error: 0.02 - 1s 160us/sample - loss: 0.0025 - mean_squared_error: 0.0018 - mean_absolute_error: 0.0257 - val_loss: 0.0012 - val_mean_squared_error: 5.3778e-04 - val_mean_absolute_error: 0.0171\n",
      "Epoch 47/100\n",
      "8000/8000 [==============================] - ETA: 1s - loss: 0.0022 - mean_squared_error: 0.0015 - mean_absolute_error: 0.02 - ETA: 1s - loss: 0.0024 - mean_squared_error: 0.0017 - mean_absolute_error: 0.02 - ETA: 0s - loss: 0.0024 - mean_squared_error: 0.0017 - mean_absolute_error: 0.02 - ETA: 0s - loss: 0.0024 - mean_squared_error: 0.0017 - mean_absolute_error: 0.02 - ETA: 0s - loss: 0.0025 - mean_squared_error: 0.0018 - mean_absolute_error: 0.02 - ETA: 0s - loss: 0.0024 - mean_squared_error: 0.0018 - mean_absolute_error: 0.02 - ETA: 0s - loss: 0.0024 - mean_squared_error: 0.0018 - mean_absolute_error: 0.02 - ETA: 0s - loss: 0.0025 - mean_squared_error: 0.0018 - mean_absolute_error: 0.02 - ETA: 0s - loss: 0.0024 - mean_squared_error: 0.0017 - mean_absolute_error: 0.02 - ETA: 0s - loss: 0.0024 - mean_squared_error: 0.0017 - mean_absolute_error: 0.02 - ETA: 0s - loss: 0.0024 - mean_squared_error: 0.0017 - mean_absolute_error: 0.02 - ETA: 0s - loss: 0.0024 - mean_squared_error: 0.0017 - mean_absolute_error: 0.02 - ETA: 0s - loss: 0.0024 - mean_squared_error: 0.0018 - mean_absolute_error: 0.02 - ETA: 0s - loss: 0.0024 - mean_squared_error: 0.0017 - mean_absolute_error: 0.02 - ETA: 0s - loss: 0.0024 - mean_squared_error: 0.0017 - mean_absolute_error: 0.02 - ETA: 0s - loss: 0.0024 - mean_squared_error: 0.0017 - mean_absolute_error: 0.02 - ETA: 0s - loss: 0.0024 - mean_squared_error: 0.0018 - mean_absolute_error: 0.02 - ETA: 0s - loss: 0.0024 - mean_squared_error: 0.0018 - mean_absolute_error: 0.02 - ETA: 0s - loss: 0.0025 - mean_squared_error: 0.0018 - mean_absolute_error: 0.02 - ETA: 0s - loss: 0.0024 - mean_squared_error: 0.0018 - mean_absolute_error: 0.02 - ETA: 0s - loss: 0.0024 - mean_squared_error: 0.0018 - mean_absolute_error: 0.02 - ETA: 0s - loss: 0.0024 - mean_squared_error: 0.0017 - mean_absolute_error: 0.02 - ETA: 0s - loss: 0.0024 - mean_squared_error: 0.0017 - mean_absolute_error: 0.02 - 1s 187us/sample - loss: 0.0024 - mean_squared_error: 0.0017 - mean_absolute_error: 0.0255 - val_loss: 0.0013 - val_mean_squared_error: 5.8057e-04 - val_mean_absolute_error: 0.0177\n"
     ]
    },
    {
     "name": "stdout",
     "output_type": "stream",
     "text": [
      "Epoch 48/100\n",
      "8000/8000 [==============================] - ETA: 1s - loss: 0.0026 - mean_squared_error: 0.0019 - mean_absolute_error: 0.02 - ETA: 1s - loss: 0.0023 - mean_squared_error: 0.0016 - mean_absolute_error: 0.02 - ETA: 1s - loss: 0.0024 - mean_squared_error: 0.0017 - mean_absolute_error: 0.02 - ETA: 1s - loss: 0.0024 - mean_squared_error: 0.0017 - mean_absolute_error: 0.02 - ETA: 1s - loss: 0.0024 - mean_squared_error: 0.0017 - mean_absolute_error: 0.02 - ETA: 1s - loss: 0.0024 - mean_squared_error: 0.0017 - mean_absolute_error: 0.02 - ETA: 1s - loss: 0.0024 - mean_squared_error: 0.0017 - mean_absolute_error: 0.02 - ETA: 1s - loss: 0.0024 - mean_squared_error: 0.0017 - mean_absolute_error: 0.02 - ETA: 1s - loss: 0.0024 - mean_squared_error: 0.0017 - mean_absolute_error: 0.02 - ETA: 1s - loss: 0.0024 - mean_squared_error: 0.0017 - mean_absolute_error: 0.02 - ETA: 1s - loss: 0.0024 - mean_squared_error: 0.0017 - mean_absolute_error: 0.02 - ETA: 1s - loss: 0.0024 - mean_squared_error: 0.0017 - mean_absolute_error: 0.02 - ETA: 1s - loss: 0.0024 - mean_squared_error: 0.0017 - mean_absolute_error: 0.02 - ETA: 1s - loss: 0.0024 - mean_squared_error: 0.0017 - mean_absolute_error: 0.02 - ETA: 1s - loss: 0.0024 - mean_squared_error: 0.0018 - mean_absolute_error: 0.02 - ETA: 0s - loss: 0.0024 - mean_squared_error: 0.0017 - mean_absolute_error: 0.02 - ETA: 0s - loss: 0.0024 - mean_squared_error: 0.0017 - mean_absolute_error: 0.02 - ETA: 0s - loss: 0.0024 - mean_squared_error: 0.0018 - mean_absolute_error: 0.02 - ETA: 0s - loss: 0.0024 - mean_squared_error: 0.0017 - mean_absolute_error: 0.02 - ETA: 0s - loss: 0.0024 - mean_squared_error: 0.0017 - mean_absolute_error: 0.02 - ETA: 0s - loss: 0.0024 - mean_squared_error: 0.0017 - mean_absolute_error: 0.02 - ETA: 0s - loss: 0.0024 - mean_squared_error: 0.0017 - mean_absolute_error: 0.02 - ETA: 0s - loss: 0.0024 - mean_squared_error: 0.0018 - mean_absolute_error: 0.02 - ETA: 0s - loss: 0.0024 - mean_squared_error: 0.0018 - mean_absolute_error: 0.02 - ETA: 0s - loss: 0.0024 - mean_squared_error: 0.0017 - mean_absolute_error: 0.02 - ETA: 0s - loss: 0.0024 - mean_squared_error: 0.0017 - mean_absolute_error: 0.02 - ETA: 0s - loss: 0.0024 - mean_squared_error: 0.0017 - mean_absolute_error: 0.02 - ETA: 0s - loss: 0.0024 - mean_squared_error: 0.0017 - mean_absolute_error: 0.02 - 2s 209us/sample - loss: 0.0024 - mean_squared_error: 0.0017 - mean_absolute_error: 0.0254 - val_loss: 0.0013 - val_mean_squared_error: 5.9121e-04 - val_mean_absolute_error: 0.0178\n",
      "Epoch 49/100\n",
      "8000/8000 [==============================] - ETA: 1s - loss: 0.0020 - mean_squared_error: 0.0014 - mean_absolute_error: 0.02 - ETA: 1s - loss: 0.0023 - mean_squared_error: 0.0016 - mean_absolute_error: 0.02 - ETA: 1s - loss: 0.0023 - mean_squared_error: 0.0016 - mean_absolute_error: 0.02 - ETA: 1s - loss: 0.0024 - mean_squared_error: 0.0017 - mean_absolute_error: 0.02 - ETA: 0s - loss: 0.0024 - mean_squared_error: 0.0017 - mean_absolute_error: 0.02 - ETA: 0s - loss: 0.0025 - mean_squared_error: 0.0018 - mean_absolute_error: 0.02 - ETA: 0s - loss: 0.0024 - mean_squared_error: 0.0018 - mean_absolute_error: 0.02 - ETA: 0s - loss: 0.0025 - mean_squared_error: 0.0018 - mean_absolute_error: 0.02 - ETA: 0s - loss: 0.0025 - mean_squared_error: 0.0018 - mean_absolute_error: 0.02 - ETA: 0s - loss: 0.0025 - mean_squared_error: 0.0018 - mean_absolute_error: 0.02 - ETA: 0s - loss: 0.0025 - mean_squared_error: 0.0018 - mean_absolute_error: 0.02 - ETA: 0s - loss: 0.0025 - mean_squared_error: 0.0018 - mean_absolute_error: 0.02 - ETA: 0s - loss: 0.0025 - mean_squared_error: 0.0018 - mean_absolute_error: 0.02 - ETA: 0s - loss: 0.0025 - mean_squared_error: 0.0018 - mean_absolute_error: 0.02 - ETA: 0s - loss: 0.0025 - mean_squared_error: 0.0018 - mean_absolute_error: 0.02 - ETA: 0s - loss: 0.0025 - mean_squared_error: 0.0018 - mean_absolute_error: 0.02 - ETA: 0s - loss: 0.0025 - mean_squared_error: 0.0018 - mean_absolute_error: 0.02 - ETA: 0s - loss: 0.0025 - mean_squared_error: 0.0018 - mean_absolute_error: 0.02 - ETA: 0s - loss: 0.0025 - mean_squared_error: 0.0018 - mean_absolute_error: 0.02 - ETA: 0s - loss: 0.0025 - mean_squared_error: 0.0018 - mean_absolute_error: 0.02 - ETA: 0s - loss: 0.0025 - mean_squared_error: 0.0018 - mean_absolute_error: 0.02 - ETA: 0s - loss: 0.0025 - mean_squared_error: 0.0018 - mean_absolute_error: 0.02 - 1s 167us/sample - loss: 0.0025 - mean_squared_error: 0.0018 - mean_absolute_error: 0.0256 - val_loss: 0.0013 - val_mean_squared_error: 5.7109e-04 - val_mean_absolute_error: 0.0175\n",
      "Epoch 50/100\n",
      "8000/8000 [==============================] - ETA: 1s - loss: 0.0026 - mean_squared_error: 0.0019 - mean_absolute_error: 0.02 - ETA: 1s - loss: 0.0025 - mean_squared_error: 0.0018 - mean_absolute_error: 0.02 - ETA: 1s - loss: 0.0026 - mean_squared_error: 0.0019 - mean_absolute_error: 0.02 - ETA: 1s - loss: 0.0025 - mean_squared_error: 0.0018 - mean_absolute_error: 0.02 - ETA: 0s - loss: 0.0025 - mean_squared_error: 0.0018 - mean_absolute_error: 0.02 - ETA: 0s - loss: 0.0025 - mean_squared_error: 0.0018 - mean_absolute_error: 0.02 - ETA: 0s - loss: 0.0025 - mean_squared_error: 0.0018 - mean_absolute_error: 0.02 - ETA: 0s - loss: 0.0024 - mean_squared_error: 0.0018 - mean_absolute_error: 0.02 - ETA: 0s - loss: 0.0024 - mean_squared_error: 0.0018 - mean_absolute_error: 0.02 - ETA: 0s - loss: 0.0024 - mean_squared_error: 0.0017 - mean_absolute_error: 0.02 - ETA: 0s - loss: 0.0024 - mean_squared_error: 0.0017 - mean_absolute_error: 0.02 - ETA: 0s - loss: 0.0024 - mean_squared_error: 0.0018 - mean_absolute_error: 0.02 - ETA: 0s - loss: 0.0024 - mean_squared_error: 0.0017 - mean_absolute_error: 0.02 - ETA: 0s - loss: 0.0024 - mean_squared_error: 0.0017 - mean_absolute_error: 0.02 - ETA: 0s - loss: 0.0024 - mean_squared_error: 0.0017 - mean_absolute_error: 0.02 - ETA: 0s - loss: 0.0024 - mean_squared_error: 0.0017 - mean_absolute_error: 0.02 - ETA: 0s - loss: 0.0024 - mean_squared_error: 0.0017 - mean_absolute_error: 0.02 - ETA: 0s - loss: 0.0024 - mean_squared_error: 0.0018 - mean_absolute_error: 0.02 - ETA: 0s - loss: 0.0024 - mean_squared_error: 0.0018 - mean_absolute_error: 0.02 - ETA: 0s - loss: 0.0024 - mean_squared_error: 0.0018 - mean_absolute_error: 0.02 - ETA: 0s - loss: 0.0024 - mean_squared_error: 0.0018 - mean_absolute_error: 0.02 - 1s 159us/sample - loss: 0.0024 - mean_squared_error: 0.0018 - mean_absolute_error: 0.0255 - val_loss: 0.0012 - val_mean_squared_error: 4.8972e-04 - val_mean_absolute_error: 0.0165\n",
      "Epoch 51/100\n"
     ]
    },
    {
     "name": "stdout",
     "output_type": "stream",
     "text": [
      "8000/8000 [==============================] - ETA: 1s - loss: 0.0017 - mean_squared_error: 0.0010 - mean_absolute_error: 0.02 - ETA: 1s - loss: 0.0024 - mean_squared_error: 0.0018 - mean_absolute_error: 0.02 - ETA: 0s - loss: 0.0025 - mean_squared_error: 0.0018 - mean_absolute_error: 0.02 - ETA: 0s - loss: 0.0024 - mean_squared_error: 0.0017 - mean_absolute_error: 0.02 - ETA: 0s - loss: 0.0024 - mean_squared_error: 0.0017 - mean_absolute_error: 0.02 - ETA: 0s - loss: 0.0024 - mean_squared_error: 0.0017 - mean_absolute_error: 0.02 - ETA: 0s - loss: 0.0024 - mean_squared_error: 0.0017 - mean_absolute_error: 0.02 - ETA: 0s - loss: 0.0024 - mean_squared_error: 0.0017 - mean_absolute_error: 0.02 - ETA: 0s - loss: 0.0024 - mean_squared_error: 0.0017 - mean_absolute_error: 0.02 - ETA: 0s - loss: 0.0024 - mean_squared_error: 0.0017 - mean_absolute_error: 0.02 - ETA: 0s - loss: 0.0024 - mean_squared_error: 0.0017 - mean_absolute_error: 0.02 - ETA: 0s - loss: 0.0024 - mean_squared_error: 0.0017 - mean_absolute_error: 0.02 - ETA: 0s - loss: 0.0024 - mean_squared_error: 0.0017 - mean_absolute_error: 0.02 - ETA: 0s - loss: 0.0024 - mean_squared_error: 0.0017 - mean_absolute_error: 0.02 - ETA: 0s - loss: 0.0024 - mean_squared_error: 0.0017 - mean_absolute_error: 0.02 - ETA: 0s - loss: 0.0024 - mean_squared_error: 0.0017 - mean_absolute_error: 0.02 - ETA: 0s - loss: 0.0024 - mean_squared_error: 0.0017 - mean_absolute_error: 0.02 - ETA: 0s - loss: 0.0024 - mean_squared_error: 0.0017 - mean_absolute_error: 0.02 - ETA: 0s - loss: 0.0024 - mean_squared_error: 0.0017 - mean_absolute_error: 0.02 - ETA: 0s - loss: 0.0024 - mean_squared_error: 0.0017 - mean_absolute_error: 0.02 - ETA: 0s - loss: 0.0024 - mean_squared_error: 0.0017 - mean_absolute_error: 0.02 - 1s 158us/sample - loss: 0.0024 - mean_squared_error: 0.0017 - mean_absolute_error: 0.0254 - val_loss: 0.0011 - val_mean_squared_error: 4.3279e-04 - val_mean_absolute_error: 0.0158\n",
      "Epoch 52/100\n",
      "8000/8000 [==============================] - ETA: 1s - loss: 0.0019 - mean_squared_error: 0.0012 - mean_absolute_error: 0.02 - ETA: 1s - loss: 0.0023 - mean_squared_error: 0.0016 - mean_absolute_error: 0.02 - ETA: 0s - loss: 0.0024 - mean_squared_error: 0.0017 - mean_absolute_error: 0.02 - ETA: 0s - loss: 0.0025 - mean_squared_error: 0.0018 - mean_absolute_error: 0.02 - ETA: 0s - loss: 0.0025 - mean_squared_error: 0.0018 - mean_absolute_error: 0.02 - ETA: 0s - loss: 0.0025 - mean_squared_error: 0.0018 - mean_absolute_error: 0.02 - ETA: 0s - loss: 0.0025 - mean_squared_error: 0.0018 - mean_absolute_error: 0.02 - ETA: 0s - loss: 0.0025 - mean_squared_error: 0.0018 - mean_absolute_error: 0.02 - ETA: 0s - loss: 0.0025 - mean_squared_error: 0.0018 - mean_absolute_error: 0.02 - ETA: 0s - loss: 0.0025 - mean_squared_error: 0.0018 - mean_absolute_error: 0.02 - ETA: 0s - loss: 0.0025 - mean_squared_error: 0.0018 - mean_absolute_error: 0.02 - ETA: 0s - loss: 0.0025 - mean_squared_error: 0.0018 - mean_absolute_error: 0.02 - ETA: 0s - loss: 0.0025 - mean_squared_error: 0.0018 - mean_absolute_error: 0.02 - ETA: 0s - loss: 0.0025 - mean_squared_error: 0.0018 - mean_absolute_error: 0.02 - ETA: 0s - loss: 0.0025 - mean_squared_error: 0.0018 - mean_absolute_error: 0.02 - ETA: 0s - loss: 0.0025 - mean_squared_error: 0.0018 - mean_absolute_error: 0.02 - ETA: 0s - loss: 0.0025 - mean_squared_error: 0.0018 - mean_absolute_error: 0.02 - ETA: 0s - loss: 0.0025 - mean_squared_error: 0.0018 - mean_absolute_error: 0.02 - ETA: 0s - loss: 0.0025 - mean_squared_error: 0.0018 - mean_absolute_error: 0.02 - ETA: 0s - loss: 0.0025 - mean_squared_error: 0.0018 - mean_absolute_error: 0.02 - ETA: 0s - loss: 0.0025 - mean_squared_error: 0.0018 - mean_absolute_error: 0.02 - 1s 154us/sample - loss: 0.0025 - mean_squared_error: 0.0018 - mean_absolute_error: 0.0256 - val_loss: 0.0012 - val_mean_squared_error: 5.2573e-04 - val_mean_absolute_error: 0.0170\n",
      "Epoch 53/100\n",
      "8000/8000 [==============================] - ETA: 1s - loss: 0.0027 - mean_squared_error: 0.0020 - mean_absolute_error: 0.02 - ETA: 1s - loss: 0.0024 - mean_squared_error: 0.0017 - mean_absolute_error: 0.02 - ETA: 0s - loss: 0.0026 - mean_squared_error: 0.0019 - mean_absolute_error: 0.02 - ETA: 0s - loss: 0.0025 - mean_squared_error: 0.0018 - mean_absolute_error: 0.02 - ETA: 0s - loss: 0.0024 - mean_squared_error: 0.0017 - mean_absolute_error: 0.02 - ETA: 0s - loss: 0.0024 - mean_squared_error: 0.0017 - mean_absolute_error: 0.02 - ETA: 0s - loss: 0.0024 - mean_squared_error: 0.0018 - mean_absolute_error: 0.02 - ETA: 0s - loss: 0.0025 - mean_squared_error: 0.0018 - mean_absolute_error: 0.02 - ETA: 0s - loss: 0.0025 - mean_squared_error: 0.0018 - mean_absolute_error: 0.02 - ETA: 0s - loss: 0.0025 - mean_squared_error: 0.0018 - mean_absolute_error: 0.02 - ETA: 0s - loss: 0.0025 - mean_squared_error: 0.0018 - mean_absolute_error: 0.02 - ETA: 0s - loss: 0.0025 - mean_squared_error: 0.0018 - mean_absolute_error: 0.02 - ETA: 0s - loss: 0.0025 - mean_squared_error: 0.0018 - mean_absolute_error: 0.02 - ETA: 0s - loss: 0.0024 - mean_squared_error: 0.0018 - mean_absolute_error: 0.02 - ETA: 0s - loss: 0.0024 - mean_squared_error: 0.0018 - mean_absolute_error: 0.02 - ETA: 0s - loss: 0.0024 - mean_squared_error: 0.0017 - mean_absolute_error: 0.02 - ETA: 0s - loss: 0.0024 - mean_squared_error: 0.0017 - mean_absolute_error: 0.02 - ETA: 0s - loss: 0.0024 - mean_squared_error: 0.0018 - mean_absolute_error: 0.02 - ETA: 0s - loss: 0.0024 - mean_squared_error: 0.0017 - mean_absolute_error: 0.02 - ETA: 0s - loss: 0.0024 - mean_squared_error: 0.0017 - mean_absolute_error: 0.02 - 1s 156us/sample - loss: 0.0024 - mean_squared_error: 0.0018 - mean_absolute_error: 0.0255 - val_loss: 0.0012 - val_mean_squared_error: 5.0323e-04 - val_mean_absolute_error: 0.0168\n",
      "Epoch 54/100\n",
      "8000/8000 [==============================] - ETA: 1s - loss: 0.0031 - mean_squared_error: 0.0024 - mean_absolute_error: 0.02 - ETA: 1s - loss: 0.0026 - mean_squared_error: 0.0019 - mean_absolute_error: 0.02 - ETA: 1s - loss: 0.0025 - mean_squared_error: 0.0018 - mean_absolute_error: 0.02 - ETA: 0s - loss: 0.0025 - mean_squared_error: 0.0018 - mean_absolute_error: 0.02 - ETA: 0s - loss: 0.0024 - mean_squared_error: 0.0017 - mean_absolute_error: 0.02 - ETA: 0s - loss: 0.0024 - mean_squared_error: 0.0018 - mean_absolute_error: 0.02 - ETA: 0s - loss: 0.0024 - mean_squared_error: 0.0017 - mean_absolute_error: 0.02 - ETA: 0s - loss: 0.0024 - mean_squared_error: 0.0018 - mean_absolute_error: 0.02 - ETA: 0s - loss: 0.0025 - mean_squared_error: 0.0018 - mean_absolute_error: 0.02 - ETA: 0s - loss: 0.0025 - mean_squared_error: 0.0018 - mean_absolute_error: 0.02 - ETA: 0s - loss: 0.0025 - mean_squared_error: 0.0018 - mean_absolute_error: 0.02 - ETA: 0s - loss: 0.0025 - mean_squared_error: 0.0018 - mean_absolute_error: 0.02 - ETA: 0s - loss: 0.0025 - mean_squared_error: 0.0018 - mean_absolute_error: 0.02 - ETA: 0s - loss: 0.0025 - mean_squared_error: 0.0018 - mean_absolute_error: 0.02 - ETA: 0s - loss: 0.0025 - mean_squared_error: 0.0018 - mean_absolute_error: 0.02 - ETA: 0s - loss: 0.0025 - mean_squared_error: 0.0018 - mean_absolute_error: 0.02 - ETA: 0s - loss: 0.0025 - mean_squared_error: 0.0018 - mean_absolute_error: 0.02 - ETA: 0s - loss: 0.0025 - mean_squared_error: 0.0018 - mean_absolute_error: 0.02 - ETA: 0s - loss: 0.0025 - mean_squared_error: 0.0018 - mean_absolute_error: 0.02 - ETA: 0s - loss: 0.0025 - mean_squared_error: 0.0018 - mean_absolute_error: 0.02 - ETA: 0s - loss: 0.0025 - mean_squared_error: 0.0018 - mean_absolute_error: 0.02 - 1s 159us/sample - loss: 0.0025 - mean_squared_error: 0.0018 - mean_absolute_error: 0.0256 - val_loss: 0.0014 - val_mean_squared_error: 6.9768e-04 - val_mean_absolute_error: 0.0188\n",
      "Epoch 55/100\n"
     ]
    },
    {
     "name": "stdout",
     "output_type": "stream",
     "text": [
      "8000/8000 [==============================] - ETA: 1s - loss: 0.0022 - mean_squared_error: 0.0015 - mean_absolute_error: 0.02 - ETA: 1s - loss: 0.0024 - mean_squared_error: 0.0017 - mean_absolute_error: 0.02 - ETA: 1s - loss: 0.0024 - mean_squared_error: 0.0017 - mean_absolute_error: 0.02 - ETA: 0s - loss: 0.0025 - mean_squared_error: 0.0018 - mean_absolute_error: 0.02 - ETA: 0s - loss: 0.0025 - mean_squared_error: 0.0018 - mean_absolute_error: 0.02 - ETA: 0s - loss: 0.0025 - mean_squared_error: 0.0018 - mean_absolute_error: 0.02 - ETA: 0s - loss: 0.0025 - mean_squared_error: 0.0018 - mean_absolute_error: 0.02 - ETA: 0s - loss: 0.0024 - mean_squared_error: 0.0017 - mean_absolute_error: 0.02 - ETA: 0s - loss: 0.0024 - mean_squared_error: 0.0017 - mean_absolute_error: 0.02 - ETA: 0s - loss: 0.0025 - mean_squared_error: 0.0018 - mean_absolute_error: 0.02 - ETA: 0s - loss: 0.0025 - mean_squared_error: 0.0018 - mean_absolute_error: 0.02 - ETA: 0s - loss: 0.0025 - mean_squared_error: 0.0018 - mean_absolute_error: 0.02 - ETA: 0s - loss: 0.0025 - mean_squared_error: 0.0018 - mean_absolute_error: 0.02 - ETA: 0s - loss: 0.0025 - mean_squared_error: 0.0018 - mean_absolute_error: 0.02 - ETA: 0s - loss: 0.0025 - mean_squared_error: 0.0018 - mean_absolute_error: 0.02 - ETA: 0s - loss: 0.0025 - mean_squared_error: 0.0018 - mean_absolute_error: 0.02 - ETA: 0s - loss: 0.0025 - mean_squared_error: 0.0018 - mean_absolute_error: 0.02 - ETA: 0s - loss: 0.0025 - mean_squared_error: 0.0018 - mean_absolute_error: 0.02 - ETA: 0s - loss: 0.0025 - mean_squared_error: 0.0018 - mean_absolute_error: 0.02 - ETA: 0s - loss: 0.0024 - mean_squared_error: 0.0018 - mean_absolute_error: 0.02 - ETA: 0s - loss: 0.0024 - mean_squared_error: 0.0018 - mean_absolute_error: 0.02 - 1s 158us/sample - loss: 0.0024 - mean_squared_error: 0.0017 - mean_absolute_error: 0.0255 - val_loss: 0.0014 - val_mean_squared_error: 6.6342e-04 - val_mean_absolute_error: 0.0185\n",
      "Epoch 56/100\n",
      "8000/8000 [==============================] - ETA: 1s - loss: 0.0028 - mean_squared_error: 0.0021 - mean_absolute_error: 0.02 - ETA: 0s - loss: 0.0024 - mean_squared_error: 0.0017 - mean_absolute_error: 0.02 - ETA: 0s - loss: 0.0024 - mean_squared_error: 0.0017 - mean_absolute_error: 0.02 - ETA: 0s - loss: 0.0025 - mean_squared_error: 0.0018 - mean_absolute_error: 0.02 - ETA: 0s - loss: 0.0025 - mean_squared_error: 0.0018 - mean_absolute_error: 0.02 - ETA: 0s - loss: 0.0025 - mean_squared_error: 0.0018 - mean_absolute_error: 0.02 - ETA: 0s - loss: 0.0025 - mean_squared_error: 0.0018 - mean_absolute_error: 0.02 - ETA: 0s - loss: 0.0025 - mean_squared_error: 0.0018 - mean_absolute_error: 0.02 - ETA: 0s - loss: 0.0025 - mean_squared_error: 0.0018 - mean_absolute_error: 0.02 - ETA: 0s - loss: 0.0025 - mean_squared_error: 0.0018 - mean_absolute_error: 0.02 - ETA: 0s - loss: 0.0025 - mean_squared_error: 0.0018 - mean_absolute_error: 0.02 - ETA: 0s - loss: 0.0025 - mean_squared_error: 0.0018 - mean_absolute_error: 0.02 - ETA: 0s - loss: 0.0025 - mean_squared_error: 0.0018 - mean_absolute_error: 0.02 - ETA: 0s - loss: 0.0025 - mean_squared_error: 0.0018 - mean_absolute_error: 0.02 - ETA: 0s - loss: 0.0025 - mean_squared_error: 0.0018 - mean_absolute_error: 0.02 - ETA: 0s - loss: 0.0025 - mean_squared_error: 0.0018 - mean_absolute_error: 0.02 - ETA: 0s - loss: 0.0025 - mean_squared_error: 0.0018 - mean_absolute_error: 0.02 - ETA: 0s - loss: 0.0025 - mean_squared_error: 0.0018 - mean_absolute_error: 0.02 - ETA: 0s - loss: 0.0025 - mean_squared_error: 0.0018 - mean_absolute_error: 0.02 - ETA: 0s - loss: 0.0025 - mean_squared_error: 0.0018 - mean_absolute_error: 0.02 - ETA: 0s - loss: 0.0025 - mean_squared_error: 0.0018 - mean_absolute_error: 0.02 - 1s 155us/sample - loss: 0.0025 - mean_squared_error: 0.0018 - mean_absolute_error: 0.0257 - val_loss: 0.0014 - val_mean_squared_error: 6.7279e-04 - val_mean_absolute_error: 0.0185\n",
      "Epoch 57/100\n",
      "8000/8000 [==============================] - ETA: 1s - loss: 0.0028 - mean_squared_error: 0.0021 - mean_absolute_error: 0.02 - ETA: 1s - loss: 0.0024 - mean_squared_error: 0.0017 - mean_absolute_error: 0.02 - ETA: 0s - loss: 0.0024 - mean_squared_error: 0.0017 - mean_absolute_error: 0.02 - ETA: 0s - loss: 0.0024 - mean_squared_error: 0.0017 - mean_absolute_error: 0.02 - ETA: 0s - loss: 0.0024 - mean_squared_error: 0.0018 - mean_absolute_error: 0.02 - ETA: 0s - loss: 0.0024 - mean_squared_error: 0.0018 - mean_absolute_error: 0.02 - ETA: 0s - loss: 0.0025 - mean_squared_error: 0.0018 - mean_absolute_error: 0.02 - ETA: 0s - loss: 0.0025 - mean_squared_error: 0.0018 - mean_absolute_error: 0.02 - ETA: 0s - loss: 0.0025 - mean_squared_error: 0.0018 - mean_absolute_error: 0.02 - ETA: 0s - loss: 0.0024 - mean_squared_error: 0.0018 - mean_absolute_error: 0.02 - ETA: 0s - loss: 0.0024 - mean_squared_error: 0.0018 - mean_absolute_error: 0.02 - ETA: 0s - loss: 0.0025 - mean_squared_error: 0.0018 - mean_absolute_error: 0.02 - ETA: 0s - loss: 0.0024 - mean_squared_error: 0.0018 - mean_absolute_error: 0.02 - ETA: 0s - loss: 0.0024 - mean_squared_error: 0.0017 - mean_absolute_error: 0.02 - ETA: 0s - loss: 0.0024 - mean_squared_error: 0.0017 - mean_absolute_error: 0.02 - ETA: 0s - loss: 0.0024 - mean_squared_error: 0.0017 - mean_absolute_error: 0.02 - ETA: 0s - loss: 0.0024 - mean_squared_error: 0.0017 - mean_absolute_error: 0.02 - ETA: 0s - loss: 0.0024 - mean_squared_error: 0.0017 - mean_absolute_error: 0.02 - ETA: 0s - loss: 0.0024 - mean_squared_error: 0.0018 - mean_absolute_error: 0.02 - ETA: 0s - loss: 0.0024 - mean_squared_error: 0.0018 - mean_absolute_error: 0.02 - ETA: 0s - loss: 0.0024 - mean_squared_error: 0.0018 - mean_absolute_error: 0.02 - 1s 157us/sample - loss: 0.0024 - mean_squared_error: 0.0018 - mean_absolute_error: 0.0255 - val_loss: 0.0014 - val_mean_squared_error: 6.8045e-04 - val_mean_absolute_error: 0.0187\n",
      "Epoch 58/100\n",
      "8000/8000 [==============================] - ETA: 1s - loss: 0.0021 - mean_squared_error: 0.0014 - mean_absolute_error: 0.02 - ETA: 1s - loss: 0.0024 - mean_squared_error: 0.0017 - mean_absolute_error: 0.02 - ETA: 0s - loss: 0.0024 - mean_squared_error: 0.0018 - mean_absolute_error: 0.02 - ETA: 0s - loss: 0.0024 - mean_squared_error: 0.0017 - mean_absolute_error: 0.02 - ETA: 0s - loss: 0.0024 - mean_squared_error: 0.0017 - mean_absolute_error: 0.02 - ETA: 0s - loss: 0.0024 - mean_squared_error: 0.0017 - mean_absolute_error: 0.02 - ETA: 0s - loss: 0.0024 - mean_squared_error: 0.0017 - mean_absolute_error: 0.02 - ETA: 0s - loss: 0.0024 - mean_squared_error: 0.0017 - mean_absolute_error: 0.02 - ETA: 0s - loss: 0.0025 - mean_squared_error: 0.0018 - mean_absolute_error: 0.02 - ETA: 0s - loss: 0.0025 - mean_squared_error: 0.0018 - mean_absolute_error: 0.02 - ETA: 0s - loss: 0.0025 - mean_squared_error: 0.0018 - mean_absolute_error: 0.02 - ETA: 0s - loss: 0.0024 - mean_squared_error: 0.0018 - mean_absolute_error: 0.02 - ETA: 0s - loss: 0.0024 - mean_squared_error: 0.0017 - mean_absolute_error: 0.02 - ETA: 0s - loss: 0.0024 - mean_squared_error: 0.0017 - mean_absolute_error: 0.02 - ETA: 0s - loss: 0.0024 - mean_squared_error: 0.0017 - mean_absolute_error: 0.02 - ETA: 0s - loss: 0.0024 - mean_squared_error: 0.0017 - mean_absolute_error: 0.02 - ETA: 0s - loss: 0.0024 - mean_squared_error: 0.0017 - mean_absolute_error: 0.02 - ETA: 0s - loss: 0.0024 - mean_squared_error: 0.0017 - mean_absolute_error: 0.02 - ETA: 0s - loss: 0.0024 - mean_squared_error: 0.0017 - mean_absolute_error: 0.02 - ETA: 0s - loss: 0.0024 - mean_squared_error: 0.0017 - mean_absolute_error: 0.02 - ETA: 0s - loss: 0.0024 - mean_squared_error: 0.0017 - mean_absolute_error: 0.02 - 1s 161us/sample - loss: 0.0024 - mean_squared_error: 0.0017 - mean_absolute_error: 0.0254 - val_loss: 0.0013 - val_mean_squared_error: 5.6608e-04 - val_mean_absolute_error: 0.0174\n",
      "Epoch 59/100\n"
     ]
    },
    {
     "name": "stdout",
     "output_type": "stream",
     "text": [
      "8000/8000 [==============================] - ETA: 2s - loss: 0.0028 - mean_squared_error: 0.0021 - mean_absolute_error: 0.02 - ETA: 1s - loss: 0.0025 - mean_squared_error: 0.0018 - mean_absolute_error: 0.02 - ETA: 1s - loss: 0.0025 - mean_squared_error: 0.0018 - mean_absolute_error: 0.02 - ETA: 1s - loss: 0.0024 - mean_squared_error: 0.0017 - mean_absolute_error: 0.02 - ETA: 0s - loss: 0.0024 - mean_squared_error: 0.0017 - mean_absolute_error: 0.02 - ETA: 0s - loss: 0.0024 - mean_squared_error: 0.0017 - mean_absolute_error: 0.02 - ETA: 0s - loss: 0.0024 - mean_squared_error: 0.0017 - mean_absolute_error: 0.02 - ETA: 0s - loss: 0.0024 - mean_squared_error: 0.0017 - mean_absolute_error: 0.02 - ETA: 0s - loss: 0.0024 - mean_squared_error: 0.0017 - mean_absolute_error: 0.02 - ETA: 0s - loss: 0.0024 - mean_squared_error: 0.0017 - mean_absolute_error: 0.02 - ETA: 0s - loss: 0.0024 - mean_squared_error: 0.0017 - mean_absolute_error: 0.02 - ETA: 0s - loss: 0.0024 - mean_squared_error: 0.0017 - mean_absolute_error: 0.02 - ETA: 0s - loss: 0.0024 - mean_squared_error: 0.0017 - mean_absolute_error: 0.02 - ETA: 0s - loss: 0.0024 - mean_squared_error: 0.0017 - mean_absolute_error: 0.02 - ETA: 0s - loss: 0.0024 - mean_squared_error: 0.0017 - mean_absolute_error: 0.02 - ETA: 0s - loss: 0.0024 - mean_squared_error: 0.0017 - mean_absolute_error: 0.02 - ETA: 0s - loss: 0.0024 - mean_squared_error: 0.0017 - mean_absolute_error: 0.02 - ETA: 0s - loss: 0.0024 - mean_squared_error: 0.0017 - mean_absolute_error: 0.02 - ETA: 0s - loss: 0.0024 - mean_squared_error: 0.0017 - mean_absolute_error: 0.02 - ETA: 0s - loss: 0.0024 - mean_squared_error: 0.0017 - mean_absolute_error: 0.02 - ETA: 0s - loss: 0.0024 - mean_squared_error: 0.0017 - mean_absolute_error: 0.02 - ETA: 0s - loss: 0.0024 - mean_squared_error: 0.0017 - mean_absolute_error: 0.02 - ETA: 0s - loss: 0.0024 - mean_squared_error: 0.0017 - mean_absolute_error: 0.02 - 1s 180us/sample - loss: 0.0024 - mean_squared_error: 0.0017 - mean_absolute_error: 0.0254 - val_loss: 0.0014 - val_mean_squared_error: 7.1761e-04 - val_mean_absolute_error: 0.0189\n",
      "Epoch 60/100\n",
      "8000/8000 [==============================] - ETA: 1s - loss: 0.0018 - mean_squared_error: 0.0011 - mean_absolute_error: 0.01 - ETA: 1s - loss: 0.0025 - mean_squared_error: 0.0018 - mean_absolute_error: 0.02 - ETA: 1s - loss: 0.0025 - mean_squared_error: 0.0018 - mean_absolute_error: 0.02 - ETA: 0s - loss: 0.0025 - mean_squared_error: 0.0018 - mean_absolute_error: 0.02 - ETA: 0s - loss: 0.0025 - mean_squared_error: 0.0018 - mean_absolute_error: 0.02 - ETA: 0s - loss: 0.0025 - mean_squared_error: 0.0018 - mean_absolute_error: 0.02 - ETA: 0s - loss: 0.0025 - mean_squared_error: 0.0018 - mean_absolute_error: 0.02 - ETA: 0s - loss: 0.0025 - mean_squared_error: 0.0018 - mean_absolute_error: 0.02 - ETA: 0s - loss: 0.0025 - mean_squared_error: 0.0018 - mean_absolute_error: 0.02 - ETA: 0s - loss: 0.0025 - mean_squared_error: 0.0018 - mean_absolute_error: 0.02 - ETA: 0s - loss: 0.0025 - mean_squared_error: 0.0018 - mean_absolute_error: 0.02 - ETA: 0s - loss: 0.0025 - mean_squared_error: 0.0018 - mean_absolute_error: 0.02 - ETA: 0s - loss: 0.0025 - mean_squared_error: 0.0018 - mean_absolute_error: 0.02 - ETA: 0s - loss: 0.0025 - mean_squared_error: 0.0018 - mean_absolute_error: 0.02 - ETA: 0s - loss: 0.0024 - mean_squared_error: 0.0018 - mean_absolute_error: 0.02 - ETA: 0s - loss: 0.0024 - mean_squared_error: 0.0018 - mean_absolute_error: 0.02 - ETA: 0s - loss: 0.0024 - mean_squared_error: 0.0017 - mean_absolute_error: 0.02 - ETA: 0s - loss: 0.0024 - mean_squared_error: 0.0018 - mean_absolute_error: 0.02 - ETA: 0s - loss: 0.0024 - mean_squared_error: 0.0018 - mean_absolute_error: 0.02 - ETA: 0s - loss: 0.0024 - mean_squared_error: 0.0018 - mean_absolute_error: 0.02 - ETA: 0s - loss: 0.0024 - mean_squared_error: 0.0018 - mean_absolute_error: 0.02 - ETA: 0s - loss: 0.0024 - mean_squared_error: 0.0018 - mean_absolute_error: 0.02 - ETA: 0s - loss: 0.0024 - mean_squared_error: 0.0018 - mean_absolute_error: 0.02 - ETA: 0s - loss: 0.0025 - mean_squared_error: 0.0018 - mean_absolute_error: 0.02 - ETA: 0s - loss: 0.0025 - mean_squared_error: 0.0018 - mean_absolute_error: 0.02 - ETA: 0s - loss: 0.0025 - mean_squared_error: 0.0018 - mean_absolute_error: 0.02 - ETA: 0s - loss: 0.0025 - mean_squared_error: 0.0018 - mean_absolute_error: 0.02 - 2s 216us/sample - loss: 0.0025 - mean_squared_error: 0.0018 - mean_absolute_error: 0.0255 - val_loss: 0.0013 - val_mean_squared_error: 6.2841e-04 - val_mean_absolute_error: 0.0180\n",
      "Epoch 61/100\n",
      "8000/8000 [==============================] - ETA: 2s - loss: 0.0023 - mean_squared_error: 0.0016 - mean_absolute_error: 0.02 - ETA: 1s - loss: 0.0026 - mean_squared_error: 0.0019 - mean_absolute_error: 0.02 - ETA: 1s - loss: 0.0025 - mean_squared_error: 0.0019 - mean_absolute_error: 0.02 - ETA: 1s - loss: 0.0025 - mean_squared_error: 0.0018 - mean_absolute_error: 0.02 - ETA: 1s - loss: 0.0025 - mean_squared_error: 0.0018 - mean_absolute_error: 0.02 - ETA: 1s - loss: 0.0025 - mean_squared_error: 0.0018 - mean_absolute_error: 0.02 - ETA: 1s - loss: 0.0025 - mean_squared_error: 0.0018 - mean_absolute_error: 0.02 - ETA: 0s - loss: 0.0025 - mean_squared_error: 0.0018 - mean_absolute_error: 0.02 - ETA: 0s - loss: 0.0025 - mean_squared_error: 0.0018 - mean_absolute_error: 0.02 - ETA: 0s - loss: 0.0025 - mean_squared_error: 0.0018 - mean_absolute_error: 0.02 - ETA: 0s - loss: 0.0025 - mean_squared_error: 0.0018 - mean_absolute_error: 0.02 - ETA: 0s - loss: 0.0025 - mean_squared_error: 0.0018 - mean_absolute_error: 0.02 - ETA: 0s - loss: 0.0025 - mean_squared_error: 0.0018 - mean_absolute_error: 0.02 - ETA: 0s - loss: 0.0025 - mean_squared_error: 0.0018 - mean_absolute_error: 0.02 - ETA: 0s - loss: 0.0025 - mean_squared_error: 0.0018 - mean_absolute_error: 0.02 - ETA: 0s - loss: 0.0024 - mean_squared_error: 0.0018 - mean_absolute_error: 0.02 - ETA: 0s - loss: 0.0025 - mean_squared_error: 0.0018 - mean_absolute_error: 0.02 - ETA: 0s - loss: 0.0025 - mean_squared_error: 0.0018 - mean_absolute_error: 0.02 - ETA: 0s - loss: 0.0025 - mean_squared_error: 0.0018 - mean_absolute_error: 0.02 - ETA: 0s - loss: 0.0025 - mean_squared_error: 0.0018 - mean_absolute_error: 0.02 - ETA: 0s - loss: 0.0025 - mean_squared_error: 0.0018 - mean_absolute_error: 0.02 - ETA: 0s - loss: 0.0025 - mean_squared_error: 0.0018 - mean_absolute_error: 0.02 - ETA: 0s - loss: 0.0025 - mean_squared_error: 0.0018 - mean_absolute_error: 0.02 - ETA: 0s - loss: 0.0025 - mean_squared_error: 0.0018 - mean_absolute_error: 0.02 - ETA: 0s - loss: 0.0024 - mean_squared_error: 0.0018 - mean_absolute_error: 0.02 - ETA: 0s - loss: 0.0024 - mean_squared_error: 0.0017 - mean_absolute_error: 0.02 - ETA: 0s - loss: 0.0024 - mean_squared_error: 0.0017 - mean_absolute_error: 0.02 - ETA: 0s - loss: 0.0024 - mean_squared_error: 0.0017 - mean_absolute_error: 0.02 - ETA: 0s - loss: 0.0024 - mean_squared_error: 0.0017 - mean_absolute_error: 0.02 - 2s 215us/sample - loss: 0.0024 - mean_squared_error: 0.0018 - mean_absolute_error: 0.0255 - val_loss: 0.0012 - val_mean_squared_error: 5.3792e-04 - val_mean_absolute_error: 0.0171\n",
      "Epoch 62/100\n"
     ]
    },
    {
     "name": "stdout",
     "output_type": "stream",
     "text": [
      "8000/8000 [==============================] - ETA: 4s - loss: 0.0022 - mean_squared_error: 0.0015 - mean_absolute_error: 0.02 - ETA: 2s - loss: 0.0024 - mean_squared_error: 0.0017 - mean_absolute_error: 0.02 - ETA: 1s - loss: 0.0025 - mean_squared_error: 0.0018 - mean_absolute_error: 0.02 - ETA: 1s - loss: 0.0025 - mean_squared_error: 0.0018 - mean_absolute_error: 0.02 - ETA: 1s - loss: 0.0024 - mean_squared_error: 0.0017 - mean_absolute_error: 0.02 - ETA: 1s - loss: 0.0024 - mean_squared_error: 0.0017 - mean_absolute_error: 0.02 - ETA: 1s - loss: 0.0024 - mean_squared_error: 0.0017 - mean_absolute_error: 0.02 - ETA: 1s - loss: 0.0024 - mean_squared_error: 0.0017 - mean_absolute_error: 0.02 - ETA: 1s - loss: 0.0024 - mean_squared_error: 0.0017 - mean_absolute_error: 0.02 - ETA: 0s - loss: 0.0024 - mean_squared_error: 0.0017 - mean_absolute_error: 0.02 - ETA: 0s - loss: 0.0024 - mean_squared_error: 0.0018 - mean_absolute_error: 0.02 - ETA: 0s - loss: 0.0024 - mean_squared_error: 0.0017 - mean_absolute_error: 0.02 - ETA: 0s - loss: 0.0024 - mean_squared_error: 0.0018 - mean_absolute_error: 0.02 - ETA: 0s - loss: 0.0024 - mean_squared_error: 0.0017 - mean_absolute_error: 0.02 - ETA: 0s - loss: 0.0024 - mean_squared_error: 0.0017 - mean_absolute_error: 0.02 - ETA: 0s - loss: 0.0024 - mean_squared_error: 0.0017 - mean_absolute_error: 0.02 - ETA: 0s - loss: 0.0024 - mean_squared_error: 0.0017 - mean_absolute_error: 0.02 - ETA: 0s - loss: 0.0024 - mean_squared_error: 0.0017 - mean_absolute_error: 0.02 - ETA: 0s - loss: 0.0024 - mean_squared_error: 0.0017 - mean_absolute_error: 0.02 - ETA: 0s - loss: 0.0024 - mean_squared_error: 0.0017 - mean_absolute_error: 0.02 - ETA: 0s - loss: 0.0024 - mean_squared_error: 0.0017 - mean_absolute_error: 0.02 - ETA: 0s - loss: 0.0024 - mean_squared_error: 0.0018 - mean_absolute_error: 0.02 - ETA: 0s - loss: 0.0024 - mean_squared_error: 0.0018 - mean_absolute_error: 0.02 - ETA: 0s - loss: 0.0025 - mean_squared_error: 0.0018 - mean_absolute_error: 0.02 - ETA: 0s - loss: 0.0025 - mean_squared_error: 0.0018 - mean_absolute_error: 0.02 - 2s 193us/sample - loss: 0.0025 - mean_squared_error: 0.0018 - mean_absolute_error: 0.0256 - val_loss: 0.0013 - val_mean_squared_error: 5.7872e-04 - val_mean_absolute_error: 0.0175\n",
      "Epoch 63/100\n",
      "8000/8000 [==============================] - ETA: 2s - loss: 0.0028 - mean_squared_error: 0.0021 - mean_absolute_error: 0.02 - ETA: 1s - loss: 0.0024 - mean_squared_error: 0.0017 - mean_absolute_error: 0.02 - ETA: 1s - loss: 0.0024 - mean_squared_error: 0.0017 - mean_absolute_error: 0.02 - ETA: 0s - loss: 0.0024 - mean_squared_error: 0.0018 - mean_absolute_error: 0.02 - ETA: 0s - loss: 0.0024 - mean_squared_error: 0.0017 - mean_absolute_error: 0.02 - ETA: 0s - loss: 0.0024 - mean_squared_error: 0.0017 - mean_absolute_error: 0.02 - ETA: 0s - loss: 0.0025 - mean_squared_error: 0.0018 - mean_absolute_error: 0.02 - ETA: 0s - loss: 0.0025 - mean_squared_error: 0.0018 - mean_absolute_error: 0.02 - ETA: 0s - loss: 0.0025 - mean_squared_error: 0.0018 - mean_absolute_error: 0.02 - ETA: 0s - loss: 0.0025 - mean_squared_error: 0.0018 - mean_absolute_error: 0.02 - ETA: 0s - loss: 0.0025 - mean_squared_error: 0.0018 - mean_absolute_error: 0.02 - ETA: 0s - loss: 0.0025 - mean_squared_error: 0.0018 - mean_absolute_error: 0.02 - ETA: 0s - loss: 0.0025 - mean_squared_error: 0.0018 - mean_absolute_error: 0.02 - ETA: 0s - loss: 0.0025 - mean_squared_error: 0.0018 - mean_absolute_error: 0.02 - ETA: 0s - loss: 0.0025 - mean_squared_error: 0.0018 - mean_absolute_error: 0.02 - ETA: 0s - loss: 0.0025 - mean_squared_error: 0.0018 - mean_absolute_error: 0.02 - ETA: 0s - loss: 0.0025 - mean_squared_error: 0.0018 - mean_absolute_error: 0.02 - ETA: 0s - loss: 0.0024 - mean_squared_error: 0.0018 - mean_absolute_error: 0.02 - ETA: 0s - loss: 0.0025 - mean_squared_error: 0.0018 - mean_absolute_error: 0.02 - ETA: 0s - loss: 0.0025 - mean_squared_error: 0.0018 - mean_absolute_error: 0.02 - ETA: 0s - loss: 0.0025 - mean_squared_error: 0.0018 - mean_absolute_error: 0.02 - ETA: 0s - loss: 0.0025 - mean_squared_error: 0.0018 - mean_absolute_error: 0.02 - 1s 163us/sample - loss: 0.0025 - mean_squared_error: 0.0018 - mean_absolute_error: 0.0256 - val_loss: 0.0013 - val_mean_squared_error: 6.3210e-04 - val_mean_absolute_error: 0.0182\n",
      "Epoch 64/100\n",
      "8000/8000 [==============================] - ETA: 2s - loss: 0.0032 - mean_squared_error: 0.0025 - mean_absolute_error: 0.02 - ETA: 1s - loss: 0.0025 - mean_squared_error: 0.0018 - mean_absolute_error: 0.02 - ETA: 1s - loss: 0.0024 - mean_squared_error: 0.0017 - mean_absolute_error: 0.02 - ETA: 0s - loss: 0.0024 - mean_squared_error: 0.0017 - mean_absolute_error: 0.02 - ETA: 0s - loss: 0.0024 - mean_squared_error: 0.0017 - mean_absolute_error: 0.02 - ETA: 0s - loss: 0.0024 - mean_squared_error: 0.0017 - mean_absolute_error: 0.02 - ETA: 0s - loss: 0.0024 - mean_squared_error: 0.0017 - mean_absolute_error: 0.02 - ETA: 0s - loss: 0.0024 - mean_squared_error: 0.0017 - mean_absolute_error: 0.02 - ETA: 0s - loss: 0.0024 - mean_squared_error: 0.0017 - mean_absolute_error: 0.02 - ETA: 0s - loss: 0.0024 - mean_squared_error: 0.0017 - mean_absolute_error: 0.02 - ETA: 0s - loss: 0.0024 - mean_squared_error: 0.0017 - mean_absolute_error: 0.02 - ETA: 0s - loss: 0.0025 - mean_squared_error: 0.0018 - mean_absolute_error: 0.02 - ETA: 0s - loss: 0.0024 - mean_squared_error: 0.0018 - mean_absolute_error: 0.02 - ETA: 0s - loss: 0.0024 - mean_squared_error: 0.0018 - mean_absolute_error: 0.02 - ETA: 0s - loss: 0.0024 - mean_squared_error: 0.0018 - mean_absolute_error: 0.02 - ETA: 0s - loss: 0.0024 - mean_squared_error: 0.0018 - mean_absolute_error: 0.02 - ETA: 0s - loss: 0.0025 - mean_squared_error: 0.0018 - mean_absolute_error: 0.02 - ETA: 0s - loss: 0.0025 - mean_squared_error: 0.0018 - mean_absolute_error: 0.02 - ETA: 0s - loss: 0.0024 - mean_squared_error: 0.0018 - mean_absolute_error: 0.02 - ETA: 0s - loss: 0.0024 - mean_squared_error: 0.0018 - mean_absolute_error: 0.02 - ETA: 0s - loss: 0.0024 - mean_squared_error: 0.0018 - mean_absolute_error: 0.02 - ETA: 0s - loss: 0.0024 - mean_squared_error: 0.0018 - mean_absolute_error: 0.02 - ETA: 0s - loss: 0.0024 - mean_squared_error: 0.0018 - mean_absolute_error: 0.02 - ETA: 0s - loss: 0.0024 - mean_squared_error: 0.0018 - mean_absolute_error: 0.02 - 1s 186us/sample - loss: 0.0024 - mean_squared_error: 0.0018 - mean_absolute_error: 0.0255 - val_loss: 0.0012 - val_mean_squared_error: 4.7014e-04 - val_mean_absolute_error: 0.0163\n",
      "Epoch 65/100\n"
     ]
    },
    {
     "name": "stdout",
     "output_type": "stream",
     "text": [
      "8000/8000 [==============================] - ETA: 2s - loss: 0.0030 - mean_squared_error: 0.0023 - mean_absolute_error: 0.02 - ETA: 1s - loss: 0.0024 - mean_squared_error: 0.0017 - mean_absolute_error: 0.02 - ETA: 1s - loss: 0.0023 - mean_squared_error: 0.0016 - mean_absolute_error: 0.02 - ETA: 1s - loss: 0.0025 - mean_squared_error: 0.0018 - mean_absolute_error: 0.02 - ETA: 1s - loss: 0.0024 - mean_squared_error: 0.0017 - mean_absolute_error: 0.02 - ETA: 0s - loss: 0.0024 - mean_squared_error: 0.0017 - mean_absolute_error: 0.02 - ETA: 0s - loss: 0.0024 - mean_squared_error: 0.0017 - mean_absolute_error: 0.02 - ETA: 0s - loss: 0.0025 - mean_squared_error: 0.0018 - mean_absolute_error: 0.02 - ETA: 0s - loss: 0.0025 - mean_squared_error: 0.0018 - mean_absolute_error: 0.02 - ETA: 0s - loss: 0.0025 - mean_squared_error: 0.0018 - mean_absolute_error: 0.02 - ETA: 0s - loss: 0.0025 - mean_squared_error: 0.0018 - mean_absolute_error: 0.02 - ETA: 0s - loss: 0.0024 - mean_squared_error: 0.0018 - mean_absolute_error: 0.02 - ETA: 0s - loss: 0.0024 - mean_squared_error: 0.0017 - mean_absolute_error: 0.02 - ETA: 0s - loss: 0.0024 - mean_squared_error: 0.0017 - mean_absolute_error: 0.02 - ETA: 0s - loss: 0.0024 - mean_squared_error: 0.0017 - mean_absolute_error: 0.02 - ETA: 0s - loss: 0.0024 - mean_squared_error: 0.0017 - mean_absolute_error: 0.02 - ETA: 0s - loss: 0.0024 - mean_squared_error: 0.0018 - mean_absolute_error: 0.02 - ETA: 0s - loss: 0.0024 - mean_squared_error: 0.0017 - mean_absolute_error: 0.02 - ETA: 0s - loss: 0.0024 - mean_squared_error: 0.0017 - mean_absolute_error: 0.02 - ETA: 0s - loss: 0.0024 - mean_squared_error: 0.0017 - mean_absolute_error: 0.02 - ETA: 0s - loss: 0.0024 - mean_squared_error: 0.0018 - mean_absolute_error: 0.02 - ETA: 0s - loss: 0.0024 - mean_squared_error: 0.0018 - mean_absolute_error: 0.02 - ETA: 0s - loss: 0.0025 - mean_squared_error: 0.0018 - mean_absolute_error: 0.02 - ETA: 0s - loss: 0.0025 - mean_squared_error: 0.0018 - mean_absolute_error: 0.02 - ETA: 0s - loss: 0.0024 - mean_squared_error: 0.0018 - mean_absolute_error: 0.02 - 2s 198us/sample - loss: 0.0024 - mean_squared_error: 0.0018 - mean_absolute_error: 0.0254 - val_loss: 0.0012 - val_mean_squared_error: 5.0387e-04 - val_mean_absolute_error: 0.0168\n",
      "Epoch 66/100\n",
      "8000/8000 [==============================] - ETA: 1s - loss: 0.0030 - mean_squared_error: 0.0023 - mean_absolute_error: 0.02 - ETA: 1s - loss: 0.0024 - mean_squared_error: 0.0017 - mean_absolute_error: 0.02 - ETA: 1s - loss: 0.0024 - mean_squared_error: 0.0017 - mean_absolute_error: 0.02 - ETA: 1s - loss: 0.0024 - mean_squared_error: 0.0017 - mean_absolute_error: 0.02 - ETA: 1s - loss: 0.0024 - mean_squared_error: 0.0017 - mean_absolute_error: 0.02 - ETA: 0s - loss: 0.0024 - mean_squared_error: 0.0017 - mean_absolute_error: 0.02 - ETA: 0s - loss: 0.0024 - mean_squared_error: 0.0017 - mean_absolute_error: 0.02 - ETA: 0s - loss: 0.0024 - mean_squared_error: 0.0017 - mean_absolute_error: 0.02 - ETA: 0s - loss: 0.0024 - mean_squared_error: 0.0017 - mean_absolute_error: 0.02 - ETA: 0s - loss: 0.0024 - mean_squared_error: 0.0017 - mean_absolute_error: 0.02 - ETA: 0s - loss: 0.0024 - mean_squared_error: 0.0017 - mean_absolute_error: 0.02 - ETA: 0s - loss: 0.0024 - mean_squared_error: 0.0018 - mean_absolute_error: 0.02 - ETA: 0s - loss: 0.0024 - mean_squared_error: 0.0018 - mean_absolute_error: 0.02 - ETA: 0s - loss: 0.0024 - mean_squared_error: 0.0018 - mean_absolute_error: 0.02 - ETA: 0s - loss: 0.0024 - mean_squared_error: 0.0018 - mean_absolute_error: 0.02 - ETA: 0s - loss: 0.0024 - mean_squared_error: 0.0018 - mean_absolute_error: 0.02 - ETA: 0s - loss: 0.0025 - mean_squared_error: 0.0018 - mean_absolute_error: 0.02 - ETA: 0s - loss: 0.0025 - mean_squared_error: 0.0018 - mean_absolute_error: 0.02 - ETA: 0s - loss: 0.0025 - mean_squared_error: 0.0018 - mean_absolute_error: 0.02 - ETA: 0s - loss: 0.0024 - mean_squared_error: 0.0018 - mean_absolute_error: 0.02 - ETA: 0s - loss: 0.0024 - mean_squared_error: 0.0017 - mean_absolute_error: 0.02 - ETA: 0s - loss: 0.0024 - mean_squared_error: 0.0017 - mean_absolute_error: 0.02 - ETA: 0s - loss: 0.0024 - mean_squared_error: 0.0017 - mean_absolute_error: 0.02 - ETA: 0s - loss: 0.0024 - mean_squared_error: 0.0017 - mean_absolute_error: 0.02 - 1s 176us/sample - loss: 0.0024 - mean_squared_error: 0.0017 - mean_absolute_error: 0.0255 - val_loss: 0.0013 - val_mean_squared_error: 6.0136e-04 - val_mean_absolute_error: 0.0178\n",
      "Epoch 67/100\n",
      "8000/8000 [==============================] - ETA: 2s - loss: 0.0029 - mean_squared_error: 0.0022 - mean_absolute_error: 0.02 - ETA: 1s - loss: 0.0025 - mean_squared_error: 0.0018 - mean_absolute_error: 0.02 - ETA: 1s - loss: 0.0025 - mean_squared_error: 0.0018 - mean_absolute_error: 0.02 - ETA: 1s - loss: 0.0025 - mean_squared_error: 0.0018 - mean_absolute_error: 0.02 - ETA: 0s - loss: 0.0025 - mean_squared_error: 0.0018 - mean_absolute_error: 0.02 - ETA: 0s - loss: 0.0025 - mean_squared_error: 0.0018 - mean_absolute_error: 0.02 - ETA: 0s - loss: 0.0025 - mean_squared_error: 0.0018 - mean_absolute_error: 0.02 - ETA: 0s - loss: 0.0025 - mean_squared_error: 0.0018 - mean_absolute_error: 0.02 - ETA: 0s - loss: 0.0025 - mean_squared_error: 0.0018 - mean_absolute_error: 0.02 - ETA: 0s - loss: 0.0025 - mean_squared_error: 0.0018 - mean_absolute_error: 0.02 - ETA: 0s - loss: 0.0025 - mean_squared_error: 0.0018 - mean_absolute_error: 0.02 - ETA: 0s - loss: 0.0025 - mean_squared_error: 0.0018 - mean_absolute_error: 0.02 - ETA: 0s - loss: 0.0025 - mean_squared_error: 0.0018 - mean_absolute_error: 0.02 - ETA: 0s - loss: 0.0024 - mean_squared_error: 0.0018 - mean_absolute_error: 0.02 - ETA: 0s - loss: 0.0024 - mean_squared_error: 0.0017 - mean_absolute_error: 0.02 - ETA: 0s - loss: 0.0024 - mean_squared_error: 0.0017 - mean_absolute_error: 0.02 - ETA: 0s - loss: 0.0024 - mean_squared_error: 0.0017 - mean_absolute_error: 0.02 - ETA: 0s - loss: 0.0025 - mean_squared_error: 0.0018 - mean_absolute_error: 0.02 - ETA: 0s - loss: 0.0024 - mean_squared_error: 0.0018 - mean_absolute_error: 0.02 - ETA: 0s - loss: 0.0025 - mean_squared_error: 0.0018 - mean_absolute_error: 0.02 - ETA: 0s - loss: 0.0025 - mean_squared_error: 0.0018 - mean_absolute_error: 0.02 - ETA: 0s - loss: 0.0024 - mean_squared_error: 0.0018 - mean_absolute_error: 0.02 - 1s 173us/sample - loss: 0.0024 - mean_squared_error: 0.0018 - mean_absolute_error: 0.0255 - val_loss: 0.0014 - val_mean_squared_error: 6.8493e-04 - val_mean_absolute_error: 0.0187\n",
      "Epoch 68/100\n"
     ]
    },
    {
     "name": "stdout",
     "output_type": "stream",
     "text": [
      "8000/8000 [==============================] - ETA: 1s - loss: 0.0027 - mean_squared_error: 0.0020 - mean_absolute_error: 0.02 - ETA: 1s - loss: 0.0024 - mean_squared_error: 0.0017 - mean_absolute_error: 0.02 - ETA: 1s - loss: 0.0025 - mean_squared_error: 0.0018 - mean_absolute_error: 0.02 - ETA: 1s - loss: 0.0025 - mean_squared_error: 0.0018 - mean_absolute_error: 0.02 - ETA: 0s - loss: 0.0025 - mean_squared_error: 0.0018 - mean_absolute_error: 0.02 - ETA: 0s - loss: 0.0025 - mean_squared_error: 0.0018 - mean_absolute_error: 0.02 - ETA: 0s - loss: 0.0025 - mean_squared_error: 0.0018 - mean_absolute_error: 0.02 - ETA: 0s - loss: 0.0024 - mean_squared_error: 0.0018 - mean_absolute_error: 0.02 - ETA: 0s - loss: 0.0025 - mean_squared_error: 0.0018 - mean_absolute_error: 0.02 - ETA: 0s - loss: 0.0025 - mean_squared_error: 0.0018 - mean_absolute_error: 0.02 - ETA: 0s - loss: 0.0025 - mean_squared_error: 0.0018 - mean_absolute_error: 0.02 - ETA: 0s - loss: 0.0025 - mean_squared_error: 0.0018 - mean_absolute_error: 0.02 - ETA: 0s - loss: 0.0025 - mean_squared_error: 0.0018 - mean_absolute_error: 0.02 - ETA: 0s - loss: 0.0025 - mean_squared_error: 0.0018 - mean_absolute_error: 0.02 - ETA: 0s - loss: 0.0025 - mean_squared_error: 0.0018 - mean_absolute_error: 0.02 - ETA: 0s - loss: 0.0025 - mean_squared_error: 0.0018 - mean_absolute_error: 0.02 - ETA: 0s - loss: 0.0025 - mean_squared_error: 0.0018 - mean_absolute_error: 0.02 - ETA: 0s - loss: 0.0025 - mean_squared_error: 0.0018 - mean_absolute_error: 0.02 - ETA: 0s - loss: 0.0025 - mean_squared_error: 0.0018 - mean_absolute_error: 0.02 - ETA: 0s - loss: 0.0025 - mean_squared_error: 0.0018 - mean_absolute_error: 0.02 - ETA: 0s - loss: 0.0025 - mean_squared_error: 0.0018 - mean_absolute_error: 0.02 - 1s 163us/sample - loss: 0.0025 - mean_squared_error: 0.0018 - mean_absolute_error: 0.0256 - val_loss: 0.0014 - val_mean_squared_error: 7.4292e-04 - val_mean_absolute_error: 0.0191\n",
      "Epoch 69/100\n",
      "8000/8000 [==============================] - ETA: 1s - loss: 0.0025 - mean_squared_error: 0.0018 - mean_absolute_error: 0.02 - ETA: 1s - loss: 0.0024 - mean_squared_error: 0.0017 - mean_absolute_error: 0.02 - ETA: 1s - loss: 0.0024 - mean_squared_error: 0.0017 - mean_absolute_error: 0.02 - ETA: 0s - loss: 0.0024 - mean_squared_error: 0.0017 - mean_absolute_error: 0.02 - ETA: 0s - loss: 0.0025 - mean_squared_error: 0.0018 - mean_absolute_error: 0.02 - ETA: 0s - loss: 0.0024 - mean_squared_error: 0.0017 - mean_absolute_error: 0.02 - ETA: 0s - loss: 0.0024 - mean_squared_error: 0.0017 - mean_absolute_error: 0.02 - ETA: 0s - loss: 0.0024 - mean_squared_error: 0.0017 - mean_absolute_error: 0.02 - ETA: 0s - loss: 0.0024 - mean_squared_error: 0.0017 - mean_absolute_error: 0.02 - ETA: 0s - loss: 0.0024 - mean_squared_error: 0.0017 - mean_absolute_error: 0.02 - ETA: 0s - loss: 0.0024 - mean_squared_error: 0.0017 - mean_absolute_error: 0.02 - ETA: 0s - loss: 0.0024 - mean_squared_error: 0.0017 - mean_absolute_error: 0.02 - ETA: 0s - loss: 0.0024 - mean_squared_error: 0.0017 - mean_absolute_error: 0.02 - ETA: 0s - loss: 0.0024 - mean_squared_error: 0.0017 - mean_absolute_error: 0.02 - ETA: 0s - loss: 0.0024 - mean_squared_error: 0.0017 - mean_absolute_error: 0.02 - ETA: 0s - loss: 0.0024 - mean_squared_error: 0.0017 - mean_absolute_error: 0.02 - ETA: 0s - loss: 0.0024 - mean_squared_error: 0.0017 - mean_absolute_error: 0.02 - ETA: 0s - loss: 0.0024 - mean_squared_error: 0.0017 - mean_absolute_error: 0.02 - ETA: 0s - loss: 0.0024 - mean_squared_error: 0.0017 - mean_absolute_error: 0.02 - ETA: 0s - loss: 0.0024 - mean_squared_error: 0.0017 - mean_absolute_error: 0.02 - ETA: 0s - loss: 0.0024 - mean_squared_error: 0.0017 - mean_absolute_error: 0.02 - 1s 159us/sample - loss: 0.0024 - mean_squared_error: 0.0017 - mean_absolute_error: 0.0253 - val_loss: 0.0012 - val_mean_squared_error: 5.0714e-04 - val_mean_absolute_error: 0.0167\n",
      "Epoch 70/100\n",
      "8000/8000 [==============================] - ETA: 1s - loss: 0.0027 - mean_squared_error: 0.0020 - mean_absolute_error: 0.02 - ETA: 1s - loss: 0.0023 - mean_squared_error: 0.0017 - mean_absolute_error: 0.02 - ETA: 0s - loss: 0.0024 - mean_squared_error: 0.0017 - mean_absolute_error: 0.02 - ETA: 0s - loss: 0.0024 - mean_squared_error: 0.0017 - mean_absolute_error: 0.02 - ETA: 0s - loss: 0.0024 - mean_squared_error: 0.0017 - mean_absolute_error: 0.02 - ETA: 0s - loss: 0.0024 - mean_squared_error: 0.0017 - mean_absolute_error: 0.02 - ETA: 0s - loss: 0.0024 - mean_squared_error: 0.0017 - mean_absolute_error: 0.02 - ETA: 0s - loss: 0.0024 - mean_squared_error: 0.0017 - mean_absolute_error: 0.02 - ETA: 0s - loss: 0.0024 - mean_squared_error: 0.0017 - mean_absolute_error: 0.02 - ETA: 0s - loss: 0.0024 - mean_squared_error: 0.0017 - mean_absolute_error: 0.02 - ETA: 0s - loss: 0.0024 - mean_squared_error: 0.0017 - mean_absolute_error: 0.02 - ETA: 0s - loss: 0.0024 - mean_squared_error: 0.0017 - mean_absolute_error: 0.02 - ETA: 0s - loss: 0.0024 - mean_squared_error: 0.0017 - mean_absolute_error: 0.02 - ETA: 0s - loss: 0.0024 - mean_squared_error: 0.0017 - mean_absolute_error: 0.02 - ETA: 0s - loss: 0.0024 - mean_squared_error: 0.0017 - mean_absolute_error: 0.02 - ETA: 0s - loss: 0.0024 - mean_squared_error: 0.0017 - mean_absolute_error: 0.02 - ETA: 0s - loss: 0.0024 - mean_squared_error: 0.0017 - mean_absolute_error: 0.02 - ETA: 0s - loss: 0.0025 - mean_squared_error: 0.0018 - mean_absolute_error: 0.02 - ETA: 0s - loss: 0.0025 - mean_squared_error: 0.0018 - mean_absolute_error: 0.02 - ETA: 0s - loss: 0.0025 - mean_squared_error: 0.0018 - mean_absolute_error: 0.02 - ETA: 0s - loss: 0.0025 - mean_squared_error: 0.0018 - mean_absolute_error: 0.02 - 1s 161us/sample - loss: 0.0025 - mean_squared_error: 0.0018 - mean_absolute_error: 0.0255 - val_loss: 0.0013 - val_mean_squared_error: 6.0558e-04 - val_mean_absolute_error: 0.0178\n",
      "Epoch 71/100\n",
      "8000/8000 [==============================] - ETA: 1s - loss: 0.0022 - mean_squared_error: 0.0015 - mean_absolute_error: 0.02 - ETA: 1s - loss: 0.0026 - mean_squared_error: 0.0019 - mean_absolute_error: 0.02 - ETA: 1s - loss: 0.0025 - mean_squared_error: 0.0018 - mean_absolute_error: 0.02 - ETA: 0s - loss: 0.0025 - mean_squared_error: 0.0018 - mean_absolute_error: 0.02 - ETA: 0s - loss: 0.0025 - mean_squared_error: 0.0018 - mean_absolute_error: 0.02 - ETA: 0s - loss: 0.0025 - mean_squared_error: 0.0018 - mean_absolute_error: 0.02 - ETA: 0s - loss: 0.0025 - mean_squared_error: 0.0018 - mean_absolute_error: 0.02 - ETA: 0s - loss: 0.0025 - mean_squared_error: 0.0018 - mean_absolute_error: 0.02 - ETA: 0s - loss: 0.0025 - mean_squared_error: 0.0018 - mean_absolute_error: 0.02 - ETA: 0s - loss: 0.0024 - mean_squared_error: 0.0017 - mean_absolute_error: 0.02 - ETA: 0s - loss: 0.0024 - mean_squared_error: 0.0017 - mean_absolute_error: 0.02 - ETA: 0s - loss: 0.0024 - mean_squared_error: 0.0017 - mean_absolute_error: 0.02 - ETA: 0s - loss: 0.0024 - mean_squared_error: 0.0017 - mean_absolute_error: 0.02 - ETA: 0s - loss: 0.0024 - mean_squared_error: 0.0017 - mean_absolute_error: 0.02 - ETA: 0s - loss: 0.0024 - mean_squared_error: 0.0017 - mean_absolute_error: 0.02 - ETA: 0s - loss: 0.0024 - mean_squared_error: 0.0017 - mean_absolute_error: 0.02 - ETA: 0s - loss: 0.0024 - mean_squared_error: 0.0017 - mean_absolute_error: 0.02 - ETA: 0s - loss: 0.0024 - mean_squared_error: 0.0017 - mean_absolute_error: 0.02 - ETA: 0s - loss: 0.0024 - mean_squared_error: 0.0017 - mean_absolute_error: 0.02 - ETA: 0s - loss: 0.0024 - mean_squared_error: 0.0017 - mean_absolute_error: 0.02 - ETA: 0s - loss: 0.0024 - mean_squared_error: 0.0017 - mean_absolute_error: 0.02 - ETA: 0s - loss: 0.0024 - mean_squared_error: 0.0017 - mean_absolute_error: 0.02 - 1s 164us/sample - loss: 0.0024 - mean_squared_error: 0.0017 - mean_absolute_error: 0.0253 - val_loss: 0.0012 - val_mean_squared_error: 4.7502e-04 - val_mean_absolute_error: 0.0164\n",
      "Epoch 72/100\n"
     ]
    },
    {
     "name": "stdout",
     "output_type": "stream",
     "text": [
      "8000/8000 [==============================] - ETA: 1s - loss: 0.0026 - mean_squared_error: 0.0019 - mean_absolute_error: 0.02 - ETA: 1s - loss: 0.0026 - mean_squared_error: 0.0019 - mean_absolute_error: 0.02 - ETA: 1s - loss: 0.0025 - mean_squared_error: 0.0018 - mean_absolute_error: 0.02 - ETA: 1s - loss: 0.0024 - mean_squared_error: 0.0017 - mean_absolute_error: 0.02 - ETA: 0s - loss: 0.0024 - mean_squared_error: 0.0017 - mean_absolute_error: 0.02 - ETA: 0s - loss: 0.0024 - mean_squared_error: 0.0017 - mean_absolute_error: 0.02 - ETA: 0s - loss: 0.0025 - mean_squared_error: 0.0018 - mean_absolute_error: 0.02 - ETA: 0s - loss: 0.0024 - mean_squared_error: 0.0018 - mean_absolute_error: 0.02 - ETA: 0s - loss: 0.0024 - mean_squared_error: 0.0017 - mean_absolute_error: 0.02 - ETA: 0s - loss: 0.0024 - mean_squared_error: 0.0017 - mean_absolute_error: 0.02 - ETA: 0s - loss: 0.0024 - mean_squared_error: 0.0017 - mean_absolute_error: 0.02 - ETA: 0s - loss: 0.0024 - mean_squared_error: 0.0017 - mean_absolute_error: 0.02 - ETA: 0s - loss: 0.0024 - mean_squared_error: 0.0017 - mean_absolute_error: 0.02 - ETA: 0s - loss: 0.0024 - mean_squared_error: 0.0017 - mean_absolute_error: 0.02 - ETA: 0s - loss: 0.0024 - mean_squared_error: 0.0017 - mean_absolute_error: 0.02 - ETA: 0s - loss: 0.0024 - mean_squared_error: 0.0017 - mean_absolute_error: 0.02 - ETA: 0s - loss: 0.0024 - mean_squared_error: 0.0017 - mean_absolute_error: 0.02 - ETA: 0s - loss: 0.0024 - mean_squared_error: 0.0017 - mean_absolute_error: 0.02 - ETA: 0s - loss: 0.0024 - mean_squared_error: 0.0017 - mean_absolute_error: 0.02 - ETA: 0s - loss: 0.0024 - mean_squared_error: 0.0018 - mean_absolute_error: 0.02 - ETA: 0s - loss: 0.0024 - mean_squared_error: 0.0018 - mean_absolute_error: 0.02 - ETA: 0s - loss: 0.0024 - mean_squared_error: 0.0017 - mean_absolute_error: 0.02 - 1s 162us/sample - loss: 0.0024 - mean_squared_error: 0.0017 - mean_absolute_error: 0.0254 - val_loss: 0.0012 - val_mean_squared_error: 5.2079e-04 - val_mean_absolute_error: 0.0169\n",
      "Epoch 73/100\n",
      "8000/8000 [==============================] - ETA: 2s - loss: 0.0026 - mean_squared_error: 0.0019 - mean_absolute_error: 0.02 - ETA: 1s - loss: 0.0026 - mean_squared_error: 0.0019 - mean_absolute_error: 0.02 - ETA: 1s - loss: 0.0026 - mean_squared_error: 0.0019 - mean_absolute_error: 0.02 - ETA: 1s - loss: 0.0025 - mean_squared_error: 0.0019 - mean_absolute_error: 0.02 - ETA: 0s - loss: 0.0025 - mean_squared_error: 0.0018 - mean_absolute_error: 0.02 - ETA: 0s - loss: 0.0026 - mean_squared_error: 0.0019 - mean_absolute_error: 0.02 - ETA: 0s - loss: 0.0025 - mean_squared_error: 0.0018 - mean_absolute_error: 0.02 - ETA: 0s - loss: 0.0025 - mean_squared_error: 0.0018 - mean_absolute_error: 0.02 - ETA: 0s - loss: 0.0025 - mean_squared_error: 0.0018 - mean_absolute_error: 0.02 - ETA: 0s - loss: 0.0025 - mean_squared_error: 0.0018 - mean_absolute_error: 0.02 - ETA: 0s - loss: 0.0025 - mean_squared_error: 0.0018 - mean_absolute_error: 0.02 - ETA: 0s - loss: 0.0025 - mean_squared_error: 0.0018 - mean_absolute_error: 0.02 - ETA: 0s - loss: 0.0025 - mean_squared_error: 0.0018 - mean_absolute_error: 0.02 - ETA: 0s - loss: 0.0025 - mean_squared_error: 0.0018 - mean_absolute_error: 0.02 - ETA: 0s - loss: 0.0024 - mean_squared_error: 0.0018 - mean_absolute_error: 0.02 - ETA: 0s - loss: 0.0024 - mean_squared_error: 0.0017 - mean_absolute_error: 0.02 - ETA: 0s - loss: 0.0024 - mean_squared_error: 0.0018 - mean_absolute_error: 0.02 - ETA: 0s - loss: 0.0024 - mean_squared_error: 0.0018 - mean_absolute_error: 0.02 - ETA: 0s - loss: 0.0024 - mean_squared_error: 0.0017 - mean_absolute_error: 0.02 - ETA: 0s - loss: 0.0024 - mean_squared_error: 0.0018 - mean_absolute_error: 0.02 - ETA: 0s - loss: 0.0024 - mean_squared_error: 0.0018 - mean_absolute_error: 0.02 - ETA: 0s - loss: 0.0024 - mean_squared_error: 0.0017 - mean_absolute_error: 0.02 - ETA: 0s - loss: 0.0024 - mean_squared_error: 0.0017 - mean_absolute_error: 0.02 - 1s 172us/sample - loss: 0.0024 - mean_squared_error: 0.0017 - mean_absolute_error: 0.0254 - val_loss: 0.0012 - val_mean_squared_error: 5.4864e-04 - val_mean_absolute_error: 0.0172\n",
      "Epoch 74/100\n",
      "8000/8000 [==============================] - ETA: 1s - loss: 0.0027 - mean_squared_error: 0.0020 - mean_absolute_error: 0.02 - ETA: 1s - loss: 0.0023 - mean_squared_error: 0.0016 - mean_absolute_error: 0.02 - ETA: 1s - loss: 0.0023 - mean_squared_error: 0.0017 - mean_absolute_error: 0.02 - ETA: 0s - loss: 0.0024 - mean_squared_error: 0.0017 - mean_absolute_error: 0.02 - ETA: 0s - loss: 0.0024 - mean_squared_error: 0.0017 - mean_absolute_error: 0.02 - ETA: 0s - loss: 0.0024 - mean_squared_error: 0.0017 - mean_absolute_error: 0.02 - ETA: 0s - loss: 0.0024 - mean_squared_error: 0.0017 - mean_absolute_error: 0.02 - ETA: 0s - loss: 0.0024 - mean_squared_error: 0.0017 - mean_absolute_error: 0.02 - ETA: 0s - loss: 0.0024 - mean_squared_error: 0.0017 - mean_absolute_error: 0.02 - ETA: 0s - loss: 0.0024 - mean_squared_error: 0.0017 - mean_absolute_error: 0.02 - ETA: 0s - loss: 0.0024 - mean_squared_error: 0.0017 - mean_absolute_error: 0.02 - ETA: 0s - loss: 0.0024 - mean_squared_error: 0.0017 - mean_absolute_error: 0.02 - ETA: 0s - loss: 0.0024 - mean_squared_error: 0.0017 - mean_absolute_error: 0.02 - ETA: 0s - loss: 0.0024 - mean_squared_error: 0.0017 - mean_absolute_error: 0.02 - ETA: 0s - loss: 0.0024 - mean_squared_error: 0.0017 - mean_absolute_error: 0.02 - ETA: 0s - loss: 0.0024 - mean_squared_error: 0.0017 - mean_absolute_error: 0.02 - ETA: 0s - loss: 0.0024 - mean_squared_error: 0.0017 - mean_absolute_error: 0.02 - ETA: 0s - loss: 0.0025 - mean_squared_error: 0.0018 - mean_absolute_error: 0.02 - ETA: 0s - loss: 0.0025 - mean_squared_error: 0.0018 - mean_absolute_error: 0.02 - ETA: 0s - loss: 0.0025 - mean_squared_error: 0.0018 - mean_absolute_error: 0.02 - ETA: 0s - loss: 0.0025 - mean_squared_error: 0.0018 - mean_absolute_error: 0.02 - ETA: 0s - loss: 0.0025 - mean_squared_error: 0.0018 - mean_absolute_error: 0.02 - 1s 164us/sample - loss: 0.0025 - mean_squared_error: 0.0018 - mean_absolute_error: 0.0255 - val_loss: 0.0014 - val_mean_squared_error: 6.9523e-04 - val_mean_absolute_error: 0.0187\n",
      "Epoch 75/100\n",
      "8000/8000 [==============================] - ETA: 1s - loss: 0.0024 - mean_squared_error: 0.0017 - mean_absolute_error: 0.02 - ETA: 1s - loss: 0.0024 - mean_squared_error: 0.0017 - mean_absolute_error: 0.02 - ETA: 0s - loss: 0.0024 - mean_squared_error: 0.0017 - mean_absolute_error: 0.02 - ETA: 0s - loss: 0.0024 - mean_squared_error: 0.0017 - mean_absolute_error: 0.02 - ETA: 0s - loss: 0.0024 - mean_squared_error: 0.0017 - mean_absolute_error: 0.02 - ETA: 0s - loss: 0.0024 - mean_squared_error: 0.0017 - mean_absolute_error: 0.02 - ETA: 0s - loss: 0.0024 - mean_squared_error: 0.0017 - mean_absolute_error: 0.02 - ETA: 0s - loss: 0.0024 - mean_squared_error: 0.0017 - mean_absolute_error: 0.02 - ETA: 0s - loss: 0.0024 - mean_squared_error: 0.0017 - mean_absolute_error: 0.02 - ETA: 0s - loss: 0.0024 - mean_squared_error: 0.0017 - mean_absolute_error: 0.02 - ETA: 0s - loss: 0.0024 - mean_squared_error: 0.0017 - mean_absolute_error: 0.02 - ETA: 0s - loss: 0.0024 - mean_squared_error: 0.0017 - mean_absolute_error: 0.02 - ETA: 0s - loss: 0.0024 - mean_squared_error: 0.0017 - mean_absolute_error: 0.02 - ETA: 0s - loss: 0.0024 - mean_squared_error: 0.0017 - mean_absolute_error: 0.02 - ETA: 0s - loss: 0.0024 - mean_squared_error: 0.0017 - mean_absolute_error: 0.02 - ETA: 0s - loss: 0.0024 - mean_squared_error: 0.0017 - mean_absolute_error: 0.02 - ETA: 0s - loss: 0.0024 - mean_squared_error: 0.0017 - mean_absolute_error: 0.02 - ETA: 0s - loss: 0.0024 - mean_squared_error: 0.0017 - mean_absolute_error: 0.02 - ETA: 0s - loss: 0.0024 - mean_squared_error: 0.0017 - mean_absolute_error: 0.02 - ETA: 0s - loss: 0.0024 - mean_squared_error: 0.0017 - mean_absolute_error: 0.02 - ETA: 0s - loss: 0.0024 - mean_squared_error: 0.0017 - mean_absolute_error: 0.02 - 1s 158us/sample - loss: 0.0024 - mean_squared_error: 0.0017 - mean_absolute_error: 0.0252 - val_loss: 0.0013 - val_mean_squared_error: 5.8137e-04 - val_mean_absolute_error: 0.0176\n",
      "Epoch 76/100\n"
     ]
    },
    {
     "name": "stdout",
     "output_type": "stream",
     "text": [
      "8000/8000 [==============================] - ETA: 1s - loss: 0.0024 - mean_squared_error: 0.0018 - mean_absolute_error: 0.02 - ETA: 1s - loss: 0.0023 - mean_squared_error: 0.0016 - mean_absolute_error: 0.02 - ETA: 0s - loss: 0.0024 - mean_squared_error: 0.0017 - mean_absolute_error: 0.02 - ETA: 0s - loss: 0.0024 - mean_squared_error: 0.0017 - mean_absolute_error: 0.02 - ETA: 0s - loss: 0.0024 - mean_squared_error: 0.0017 - mean_absolute_error: 0.02 - ETA: 0s - loss: 0.0024 - mean_squared_error: 0.0017 - mean_absolute_error: 0.02 - ETA: 0s - loss: 0.0024 - mean_squared_error: 0.0017 - mean_absolute_error: 0.02 - ETA: 0s - loss: 0.0024 - mean_squared_error: 0.0017 - mean_absolute_error: 0.02 - ETA: 0s - loss: 0.0024 - mean_squared_error: 0.0017 - mean_absolute_error: 0.02 - ETA: 0s - loss: 0.0024 - mean_squared_error: 0.0017 - mean_absolute_error: 0.02 - ETA: 0s - loss: 0.0024 - mean_squared_error: 0.0017 - mean_absolute_error: 0.02 - ETA: 0s - loss: 0.0024 - mean_squared_error: 0.0017 - mean_absolute_error: 0.02 - ETA: 0s - loss: 0.0024 - mean_squared_error: 0.0017 - mean_absolute_error: 0.02 - ETA: 0s - loss: 0.0024 - mean_squared_error: 0.0017 - mean_absolute_error: 0.02 - ETA: 0s - loss: 0.0024 - mean_squared_error: 0.0017 - mean_absolute_error: 0.02 - ETA: 0s - loss: 0.0024 - mean_squared_error: 0.0017 - mean_absolute_error: 0.02 - ETA: 0s - loss: 0.0024 - mean_squared_error: 0.0017 - mean_absolute_error: 0.02 - ETA: 0s - loss: 0.0024 - mean_squared_error: 0.0017 - mean_absolute_error: 0.02 - ETA: 0s - loss: 0.0024 - mean_squared_error: 0.0017 - mean_absolute_error: 0.02 - ETA: 0s - loss: 0.0024 - mean_squared_error: 0.0017 - mean_absolute_error: 0.02 - 1s 152us/sample - loss: 0.0024 - mean_squared_error: 0.0017 - mean_absolute_error: 0.0253 - val_loss: 0.0013 - val_mean_squared_error: 6.0297e-04 - val_mean_absolute_error: 0.0178\n",
      "Epoch 77/100\n",
      "8000/8000 [==============================] - ETA: 2s - loss: 0.0025 - mean_squared_error: 0.0019 - mean_absolute_error: 0.02 - ETA: 1s - loss: 0.0023 - mean_squared_error: 0.0016 - mean_absolute_error: 0.02 - ETA: 0s - loss: 0.0024 - mean_squared_error: 0.0017 - mean_absolute_error: 0.02 - ETA: 0s - loss: 0.0024 - mean_squared_error: 0.0017 - mean_absolute_error: 0.02 - ETA: 0s - loss: 0.0024 - mean_squared_error: 0.0017 - mean_absolute_error: 0.02 - ETA: 0s - loss: 0.0024 - mean_squared_error: 0.0017 - mean_absolute_error: 0.02 - ETA: 0s - loss: 0.0024 - mean_squared_error: 0.0017 - mean_absolute_error: 0.02 - ETA: 0s - loss: 0.0024 - mean_squared_error: 0.0017 - mean_absolute_error: 0.02 - ETA: 0s - loss: 0.0024 - mean_squared_error: 0.0017 - mean_absolute_error: 0.02 - ETA: 0s - loss: 0.0024 - mean_squared_error: 0.0017 - mean_absolute_error: 0.02 - ETA: 0s - loss: 0.0024 - mean_squared_error: 0.0017 - mean_absolute_error: 0.02 - ETA: 0s - loss: 0.0024 - mean_squared_error: 0.0017 - mean_absolute_error: 0.02 - ETA: 0s - loss: 0.0025 - mean_squared_error: 0.0018 - mean_absolute_error: 0.02 - ETA: 0s - loss: 0.0025 - mean_squared_error: 0.0018 - mean_absolute_error: 0.02 - ETA: 0s - loss: 0.0024 - mean_squared_error: 0.0018 - mean_absolute_error: 0.02 - ETA: 0s - loss: 0.0024 - mean_squared_error: 0.0018 - mean_absolute_error: 0.02 - ETA: 0s - loss: 0.0025 - mean_squared_error: 0.0018 - mean_absolute_error: 0.02 - ETA: 0s - loss: 0.0025 - mean_squared_error: 0.0018 - mean_absolute_error: 0.02 - ETA: 0s - loss: 0.0024 - mean_squared_error: 0.0018 - mean_absolute_error: 0.02 - ETA: 0s - loss: 0.0024 - mean_squared_error: 0.0018 - mean_absolute_error: 0.02 - 1s 147us/sample - loss: 0.0024 - mean_squared_error: 0.0018 - mean_absolute_error: 0.0255 - val_loss: 0.0012 - val_mean_squared_error: 5.5252e-04 - val_mean_absolute_error: 0.0172\n",
      "Epoch 78/100\n",
      "8000/8000 [==============================] - ETA: 1s - loss: 0.0024 - mean_squared_error: 0.0017 - mean_absolute_error: 0.02 - ETA: 0s - loss: 0.0024 - mean_squared_error: 0.0017 - mean_absolute_error: 0.02 - ETA: 0s - loss: 0.0025 - mean_squared_error: 0.0018 - mean_absolute_error: 0.02 - ETA: 0s - loss: 0.0025 - mean_squared_error: 0.0018 - mean_absolute_error: 0.02 - ETA: 0s - loss: 0.0025 - mean_squared_error: 0.0018 - mean_absolute_error: 0.02 - ETA: 0s - loss: 0.0025 - mean_squared_error: 0.0018 - mean_absolute_error: 0.02 - ETA: 0s - loss: 0.0025 - mean_squared_error: 0.0018 - mean_absolute_error: 0.02 - ETA: 0s - loss: 0.0025 - mean_squared_error: 0.0018 - mean_absolute_error: 0.02 - ETA: 0s - loss: 0.0025 - mean_squared_error: 0.0018 - mean_absolute_error: 0.02 - ETA: 0s - loss: 0.0025 - mean_squared_error: 0.0018 - mean_absolute_error: 0.02 - ETA: 0s - loss: 0.0025 - mean_squared_error: 0.0018 - mean_absolute_error: 0.02 - ETA: 0s - loss: 0.0024 - mean_squared_error: 0.0018 - mean_absolute_error: 0.02 - ETA: 0s - loss: 0.0024 - mean_squared_error: 0.0017 - mean_absolute_error: 0.02 - ETA: 0s - loss: 0.0024 - mean_squared_error: 0.0017 - mean_absolute_error: 0.02 - ETA: 0s - loss: 0.0024 - mean_squared_error: 0.0017 - mean_absolute_error: 0.02 - ETA: 0s - loss: 0.0024 - mean_squared_error: 0.0017 - mean_absolute_error: 0.02 - ETA: 0s - loss: 0.0024 - mean_squared_error: 0.0017 - mean_absolute_error: 0.02 - ETA: 0s - loss: 0.0024 - mean_squared_error: 0.0018 - mean_absolute_error: 0.02 - ETA: 0s - loss: 0.0024 - mean_squared_error: 0.0018 - mean_absolute_error: 0.02 - ETA: 0s - loss: 0.0024 - mean_squared_error: 0.0018 - mean_absolute_error: 0.02 - 1s 148us/sample - loss: 0.0024 - mean_squared_error: 0.0018 - mean_absolute_error: 0.0255 - val_loss: 0.0014 - val_mean_squared_error: 6.7637e-04 - val_mean_absolute_error: 0.0185\n",
      "Epoch 79/100\n",
      "8000/8000 [==============================] - ETA: 1s - loss: 0.0026 - mean_squared_error: 0.0019 - mean_absolute_error: 0.02 - ETA: 1s - loss: 0.0025 - mean_squared_error: 0.0018 - mean_absolute_error: 0.02 - ETA: 0s - loss: 0.0025 - mean_squared_error: 0.0018 - mean_absolute_error: 0.02 - ETA: 0s - loss: 0.0025 - mean_squared_error: 0.0018 - mean_absolute_error: 0.02 - ETA: 0s - loss: 0.0024 - mean_squared_error: 0.0017 - mean_absolute_error: 0.02 - ETA: 0s - loss: 0.0024 - mean_squared_error: 0.0017 - mean_absolute_error: 0.02 - ETA: 0s - loss: 0.0024 - mean_squared_error: 0.0017 - mean_absolute_error: 0.02 - ETA: 0s - loss: 0.0024 - mean_squared_error: 0.0017 - mean_absolute_error: 0.02 - ETA: 0s - loss: 0.0024 - mean_squared_error: 0.0017 - mean_absolute_error: 0.02 - ETA: 0s - loss: 0.0024 - mean_squared_error: 0.0017 - mean_absolute_error: 0.02 - ETA: 0s - loss: 0.0024 - mean_squared_error: 0.0017 - mean_absolute_error: 0.02 - ETA: 0s - loss: 0.0024 - mean_squared_error: 0.0017 - mean_absolute_error: 0.02 - ETA: 0s - loss: 0.0024 - mean_squared_error: 0.0017 - mean_absolute_error: 0.02 - ETA: 0s - loss: 0.0024 - mean_squared_error: 0.0017 - mean_absolute_error: 0.02 - ETA: 0s - loss: 0.0024 - mean_squared_error: 0.0017 - mean_absolute_error: 0.02 - ETA: 0s - loss: 0.0024 - mean_squared_error: 0.0017 - mean_absolute_error: 0.02 - ETA: 0s - loss: 0.0024 - mean_squared_error: 0.0017 - mean_absolute_error: 0.02 - ETA: 0s - loss: 0.0024 - mean_squared_error: 0.0017 - mean_absolute_error: 0.02 - ETA: 0s - loss: 0.0024 - mean_squared_error: 0.0017 - mean_absolute_error: 0.02 - ETA: 0s - loss: 0.0024 - mean_squared_error: 0.0017 - mean_absolute_error: 0.02 - 1s 153us/sample - loss: 0.0024 - mean_squared_error: 0.0017 - mean_absolute_error: 0.0253 - val_loss: 0.0012 - val_mean_squared_error: 5.5545e-04 - val_mean_absolute_error: 0.0173\n",
      "Epoch 80/100\n"
     ]
    },
    {
     "name": "stdout",
     "output_type": "stream",
     "text": [
      "8000/8000 [==============================] - ETA: 1s - loss: 0.0023 - mean_squared_error: 0.0016 - mean_absolute_error: 0.02 - ETA: 1s - loss: 0.0026 - mean_squared_error: 0.0019 - mean_absolute_error: 0.02 - ETA: 1s - loss: 0.0025 - mean_squared_error: 0.0018 - mean_absolute_error: 0.02 - ETA: 1s - loss: 0.0024 - mean_squared_error: 0.0018 - mean_absolute_error: 0.02 - ETA: 1s - loss: 0.0024 - mean_squared_error: 0.0017 - mean_absolute_error: 0.02 - ETA: 0s - loss: 0.0024 - mean_squared_error: 0.0017 - mean_absolute_error: 0.02 - ETA: 0s - loss: 0.0024 - mean_squared_error: 0.0017 - mean_absolute_error: 0.02 - ETA: 0s - loss: 0.0024 - mean_squared_error: 0.0017 - mean_absolute_error: 0.02 - ETA: 0s - loss: 0.0024 - mean_squared_error: 0.0017 - mean_absolute_error: 0.02 - ETA: 0s - loss: 0.0024 - mean_squared_error: 0.0017 - mean_absolute_error: 0.02 - ETA: 0s - loss: 0.0024 - mean_squared_error: 0.0017 - mean_absolute_error: 0.02 - ETA: 0s - loss: 0.0024 - mean_squared_error: 0.0017 - mean_absolute_error: 0.02 - ETA: 0s - loss: 0.0024 - mean_squared_error: 0.0018 - mean_absolute_error: 0.02 - ETA: 0s - loss: 0.0024 - mean_squared_error: 0.0017 - mean_absolute_error: 0.02 - ETA: 0s - loss: 0.0024 - mean_squared_error: 0.0018 - mean_absolute_error: 0.02 - ETA: 0s - loss: 0.0024 - mean_squared_error: 0.0018 - mean_absolute_error: 0.02 - ETA: 0s - loss: 0.0024 - mean_squared_error: 0.0017 - mean_absolute_error: 0.02 - ETA: 0s - loss: 0.0024 - mean_squared_error: 0.0017 - mean_absolute_error: 0.02 - ETA: 0s - loss: 0.0024 - mean_squared_error: 0.0018 - mean_absolute_error: 0.02 - ETA: 0s - loss: 0.0024 - mean_squared_error: 0.0017 - mean_absolute_error: 0.02 - ETA: 0s - loss: 0.0024 - mean_squared_error: 0.0017 - mean_absolute_error: 0.02 - ETA: 0s - loss: 0.0024 - mean_squared_error: 0.0017 - mean_absolute_error: 0.02 - 1s 165us/sample - loss: 0.0024 - mean_squared_error: 0.0017 - mean_absolute_error: 0.0254 - val_loss: 0.0013 - val_mean_squared_error: 5.7437e-04 - val_mean_absolute_error: 0.0175\n",
      "Epoch 81/100\n",
      "8000/8000 [==============================] - ETA: 2s - loss: 0.0024 - mean_squared_error: 0.0017 - mean_absolute_error: 0.02 - ETA: 1s - loss: 0.0025 - mean_squared_error: 0.0018 - mean_absolute_error: 0.02 - ETA: 1s - loss: 0.0025 - mean_squared_error: 0.0018 - mean_absolute_error: 0.02 - ETA: 0s - loss: 0.0025 - mean_squared_error: 0.0018 - mean_absolute_error: 0.02 - ETA: 0s - loss: 0.0025 - mean_squared_error: 0.0018 - mean_absolute_error: 0.02 - ETA: 0s - loss: 0.0025 - mean_squared_error: 0.0018 - mean_absolute_error: 0.02 - ETA: 0s - loss: 0.0025 - mean_squared_error: 0.0018 - mean_absolute_error: 0.02 - ETA: 0s - loss: 0.0025 - mean_squared_error: 0.0018 - mean_absolute_error: 0.02 - ETA: 0s - loss: 0.0025 - mean_squared_error: 0.0018 - mean_absolute_error: 0.02 - ETA: 0s - loss: 0.0025 - mean_squared_error: 0.0018 - mean_absolute_error: 0.02 - ETA: 0s - loss: 0.0024 - mean_squared_error: 0.0018 - mean_absolute_error: 0.02 - ETA: 0s - loss: 0.0025 - mean_squared_error: 0.0018 - mean_absolute_error: 0.02 - ETA: 0s - loss: 0.0024 - mean_squared_error: 0.0017 - mean_absolute_error: 0.02 - ETA: 0s - loss: 0.0024 - mean_squared_error: 0.0017 - mean_absolute_error: 0.02 - ETA: 0s - loss: 0.0024 - mean_squared_error: 0.0017 - mean_absolute_error: 0.02 - ETA: 0s - loss: 0.0024 - mean_squared_error: 0.0017 - mean_absolute_error: 0.02 - ETA: 0s - loss: 0.0024 - mean_squared_error: 0.0017 - mean_absolute_error: 0.02 - ETA: 0s - loss: 0.0024 - mean_squared_error: 0.0017 - mean_absolute_error: 0.02 - ETA: 0s - loss: 0.0024 - mean_squared_error: 0.0017 - mean_absolute_error: 0.02 - ETA: 0s - loss: 0.0024 - mean_squared_error: 0.0017 - mean_absolute_error: 0.02 - ETA: 0s - loss: 0.0024 - mean_squared_error: 0.0017 - mean_absolute_error: 0.02 - 1s 162us/sample - loss: 0.0024 - mean_squared_error: 0.0017 - mean_absolute_error: 0.0253 - val_loss: 0.0012 - val_mean_squared_error: 4.9191e-04 - val_mean_absolute_error: 0.0165\n",
      "Epoch 82/100\n",
      "8000/8000 [==============================] - ETA: 1s - loss: 0.0022 - mean_squared_error: 0.0015 - mean_absolute_error: 0.02 - ETA: 1s - loss: 0.0023 - mean_squared_error: 0.0016 - mean_absolute_error: 0.02 - ETA: 1s - loss: 0.0024 - mean_squared_error: 0.0017 - mean_absolute_error: 0.02 - ETA: 0s - loss: 0.0024 - mean_squared_error: 0.0017 - mean_absolute_error: 0.02 - ETA: 0s - loss: 0.0024 - mean_squared_error: 0.0017 - mean_absolute_error: 0.02 - ETA: 0s - loss: 0.0024 - mean_squared_error: 0.0017 - mean_absolute_error: 0.02 - ETA: 0s - loss: 0.0024 - mean_squared_error: 0.0017 - mean_absolute_error: 0.02 - ETA: 0s - loss: 0.0024 - mean_squared_error: 0.0017 - mean_absolute_error: 0.02 - ETA: 0s - loss: 0.0024 - mean_squared_error: 0.0017 - mean_absolute_error: 0.02 - ETA: 0s - loss: 0.0024 - mean_squared_error: 0.0017 - mean_absolute_error: 0.02 - ETA: 0s - loss: 0.0024 - mean_squared_error: 0.0017 - mean_absolute_error: 0.02 - ETA: 0s - loss: 0.0024 - mean_squared_error: 0.0017 - mean_absolute_error: 0.02 - ETA: 0s - loss: 0.0024 - mean_squared_error: 0.0017 - mean_absolute_error: 0.02 - ETA: 0s - loss: 0.0024 - mean_squared_error: 0.0017 - mean_absolute_error: 0.02 - ETA: 0s - loss: 0.0024 - mean_squared_error: 0.0017 - mean_absolute_error: 0.02 - ETA: 0s - loss: 0.0024 - mean_squared_error: 0.0017 - mean_absolute_error: 0.02 - ETA: 0s - loss: 0.0024 - mean_squared_error: 0.0017 - mean_absolute_error: 0.02 - ETA: 0s - loss: 0.0024 - mean_squared_error: 0.0017 - mean_absolute_error: 0.02 - ETA: 0s - loss: 0.0024 - mean_squared_error: 0.0017 - mean_absolute_error: 0.02 - ETA: 0s - loss: 0.0024 - mean_squared_error: 0.0017 - mean_absolute_error: 0.02 - ETA: 0s - loss: 0.0024 - mean_squared_error: 0.0017 - mean_absolute_error: 0.02 - 1s 159us/sample - loss: 0.0024 - mean_squared_error: 0.0017 - mean_absolute_error: 0.0252 - val_loss: 0.0012 - val_mean_squared_error: 5.4067e-04 - val_mean_absolute_error: 0.0171\n",
      "Epoch 83/100\n",
      "8000/8000 [==============================] - ETA: 1s - loss: 0.0025 - mean_squared_error: 0.0018 - mean_absolute_error: 0.02 - ETA: 1s - loss: 0.0024 - mean_squared_error: 0.0017 - mean_absolute_error: 0.02 - ETA: 0s - loss: 0.0024 - mean_squared_error: 0.0017 - mean_absolute_error: 0.02 - ETA: 0s - loss: 0.0024 - mean_squared_error: 0.0017 - mean_absolute_error: 0.02 - ETA: 0s - loss: 0.0024 - mean_squared_error: 0.0017 - mean_absolute_error: 0.02 - ETA: 0s - loss: 0.0024 - mean_squared_error: 0.0017 - mean_absolute_error: 0.02 - ETA: 0s - loss: 0.0024 - mean_squared_error: 0.0017 - mean_absolute_error: 0.02 - ETA: 0s - loss: 0.0024 - mean_squared_error: 0.0017 - mean_absolute_error: 0.02 - ETA: 0s - loss: 0.0024 - mean_squared_error: 0.0018 - mean_absolute_error: 0.02 - ETA: 0s - loss: 0.0024 - mean_squared_error: 0.0018 - mean_absolute_error: 0.02 - ETA: 0s - loss: 0.0024 - mean_squared_error: 0.0017 - mean_absolute_error: 0.02 - ETA: 0s - loss: 0.0024 - mean_squared_error: 0.0017 - mean_absolute_error: 0.02 - ETA: 0s - loss: 0.0024 - mean_squared_error: 0.0018 - mean_absolute_error: 0.02 - ETA: 0s - loss: 0.0024 - mean_squared_error: 0.0017 - mean_absolute_error: 0.02 - ETA: 0s - loss: 0.0024 - mean_squared_error: 0.0017 - mean_absolute_error: 0.02 - ETA: 0s - loss: 0.0024 - mean_squared_error: 0.0017 - mean_absolute_error: 0.02 - ETA: 0s - loss: 0.0024 - mean_squared_error: 0.0017 - mean_absolute_error: 0.02 - ETA: 0s - loss: 0.0024 - mean_squared_error: 0.0017 - mean_absolute_error: 0.02 - ETA: 0s - loss: 0.0024 - mean_squared_error: 0.0017 - mean_absolute_error: 0.02 - ETA: 0s - loss: 0.0024 - mean_squared_error: 0.0017 - mean_absolute_error: 0.02 - 1s 153us/sample - loss: 0.0024 - mean_squared_error: 0.0017 - mean_absolute_error: 0.0253 - val_loss: 0.0013 - val_mean_squared_error: 5.8772e-04 - val_mean_absolute_error: 0.0176\n",
      "Epoch 84/100\n"
     ]
    },
    {
     "name": "stdout",
     "output_type": "stream",
     "text": [
      "8000/8000 [==============================] - ETA: 1s - loss: 0.0025 - mean_squared_error: 0.0018 - mean_absolute_error: 0.02 - ETA: 0s - loss: 0.0023 - mean_squared_error: 0.0016 - mean_absolute_error: 0.02 - ETA: 0s - loss: 0.0024 - mean_squared_error: 0.0017 - mean_absolute_error: 0.02 - ETA: 0s - loss: 0.0024 - mean_squared_error: 0.0017 - mean_absolute_error: 0.02 - ETA: 0s - loss: 0.0024 - mean_squared_error: 0.0017 - mean_absolute_error: 0.02 - ETA: 0s - loss: 0.0024 - mean_squared_error: 0.0017 - mean_absolute_error: 0.02 - ETA: 0s - loss: 0.0024 - mean_squared_error: 0.0017 - mean_absolute_error: 0.02 - ETA: 0s - loss: 0.0024 - mean_squared_error: 0.0017 - mean_absolute_error: 0.02 - ETA: 0s - loss: 0.0024 - mean_squared_error: 0.0017 - mean_absolute_error: 0.02 - ETA: 0s - loss: 0.0024 - mean_squared_error: 0.0017 - mean_absolute_error: 0.02 - ETA: 0s - loss: 0.0024 - mean_squared_error: 0.0017 - mean_absolute_error: 0.02 - ETA: 0s - loss: 0.0024 - mean_squared_error: 0.0017 - mean_absolute_error: 0.02 - ETA: 0s - loss: 0.0024 - mean_squared_error: 0.0017 - mean_absolute_error: 0.02 - ETA: 0s - loss: 0.0024 - mean_squared_error: 0.0017 - mean_absolute_error: 0.02 - ETA: 0s - loss: 0.0024 - mean_squared_error: 0.0017 - mean_absolute_error: 0.02 - ETA: 0s - loss: 0.0024 - mean_squared_error: 0.0017 - mean_absolute_error: 0.02 - ETA: 0s - loss: 0.0024 - mean_squared_error: 0.0017 - mean_absolute_error: 0.02 - ETA: 0s - loss: 0.0024 - mean_squared_error: 0.0017 - mean_absolute_error: 0.02 - ETA: 0s - loss: 0.0024 - mean_squared_error: 0.0017 - mean_absolute_error: 0.02 - ETA: 0s - loss: 0.0024 - mean_squared_error: 0.0017 - mean_absolute_error: 0.02 - 1s 149us/sample - loss: 0.0024 - mean_squared_error: 0.0017 - mean_absolute_error: 0.0253 - val_loss: 0.0012 - val_mean_squared_error: 5.1145e-04 - val_mean_absolute_error: 0.0167\n",
      "Epoch 85/100\n",
      "8000/8000 [==============================] - ETA: 1s - loss: 0.0030 - mean_squared_error: 0.0023 - mean_absolute_error: 0.02 - ETA: 1s - loss: 0.0024 - mean_squared_error: 0.0018 - mean_absolute_error: 0.02 - ETA: 0s - loss: 0.0023 - mean_squared_error: 0.0017 - mean_absolute_error: 0.02 - ETA: 0s - loss: 0.0024 - mean_squared_error: 0.0017 - mean_absolute_error: 0.02 - ETA: 0s - loss: 0.0024 - mean_squared_error: 0.0017 - mean_absolute_error: 0.02 - ETA: 0s - loss: 0.0024 - mean_squared_error: 0.0017 - mean_absolute_error: 0.02 - ETA: 0s - loss: 0.0024 - mean_squared_error: 0.0017 - mean_absolute_error: 0.02 - ETA: 0s - loss: 0.0024 - mean_squared_error: 0.0017 - mean_absolute_error: 0.02 - ETA: 0s - loss: 0.0024 - mean_squared_error: 0.0017 - mean_absolute_error: 0.02 - ETA: 0s - loss: 0.0025 - mean_squared_error: 0.0018 - mean_absolute_error: 0.02 - ETA: 0s - loss: 0.0024 - mean_squared_error: 0.0018 - mean_absolute_error: 0.02 - ETA: 0s - loss: 0.0024 - mean_squared_error: 0.0018 - mean_absolute_error: 0.02 - ETA: 0s - loss: 0.0025 - mean_squared_error: 0.0018 - mean_absolute_error: 0.02 - ETA: 0s - loss: 0.0024 - mean_squared_error: 0.0018 - mean_absolute_error: 0.02 - ETA: 0s - loss: 0.0024 - mean_squared_error: 0.0017 - mean_absolute_error: 0.02 - ETA: 0s - loss: 0.0024 - mean_squared_error: 0.0017 - mean_absolute_error: 0.02 - ETA: 0s - loss: 0.0024 - mean_squared_error: 0.0017 - mean_absolute_error: 0.02 - ETA: 0s - loss: 0.0024 - mean_squared_error: 0.0017 - mean_absolute_error: 0.02 - ETA: 0s - loss: 0.0024 - mean_squared_error: 0.0017 - mean_absolute_error: 0.02 - ETA: 0s - loss: 0.0024 - mean_squared_error: 0.0017 - mean_absolute_error: 0.02 - ETA: 0s - loss: 0.0024 - mean_squared_error: 0.0017 - mean_absolute_error: 0.02 - 1s 156us/sample - loss: 0.0024 - mean_squared_error: 0.0017 - mean_absolute_error: 0.0253 - val_loss: 0.0012 - val_mean_squared_error: 5.1642e-04 - val_mean_absolute_error: 0.0168\n",
      "Epoch 86/100\n",
      "8000/8000 [==============================] - ETA: 1s - loss: 0.0029 - mean_squared_error: 0.0022 - mean_absolute_error: 0.02 - ETA: 1s - loss: 0.0025 - mean_squared_error: 0.0018 - mean_absolute_error: 0.02 - ETA: 0s - loss: 0.0024 - mean_squared_error: 0.0017 - mean_absolute_error: 0.02 - ETA: 0s - loss: 0.0025 - mean_squared_error: 0.0018 - mean_absolute_error: 0.02 - ETA: 0s - loss: 0.0025 - mean_squared_error: 0.0018 - mean_absolute_error: 0.02 - ETA: 0s - loss: 0.0025 - mean_squared_error: 0.0018 - mean_absolute_error: 0.02 - ETA: 0s - loss: 0.0025 - mean_squared_error: 0.0018 - mean_absolute_error: 0.02 - ETA: 0s - loss: 0.0025 - mean_squared_error: 0.0018 - mean_absolute_error: 0.02 - ETA: 0s - loss: 0.0025 - mean_squared_error: 0.0018 - mean_absolute_error: 0.02 - ETA: 0s - loss: 0.0025 - mean_squared_error: 0.0018 - mean_absolute_error: 0.02 - ETA: 0s - loss: 0.0025 - mean_squared_error: 0.0018 - mean_absolute_error: 0.02 - ETA: 0s - loss: 0.0025 - mean_squared_error: 0.0018 - mean_absolute_error: 0.02 - ETA: 0s - loss: 0.0025 - mean_squared_error: 0.0018 - mean_absolute_error: 0.02 - ETA: 0s - loss: 0.0025 - mean_squared_error: 0.0018 - mean_absolute_error: 0.02 - ETA: 0s - loss: 0.0025 - mean_squared_error: 0.0018 - mean_absolute_error: 0.02 - ETA: 0s - loss: 0.0025 - mean_squared_error: 0.0018 - mean_absolute_error: 0.02 - ETA: 0s - loss: 0.0024 - mean_squared_error: 0.0017 - mean_absolute_error: 0.02 - ETA: 0s - loss: 0.0024 - mean_squared_error: 0.0018 - mean_absolute_error: 0.02 - ETA: 0s - loss: 0.0024 - mean_squared_error: 0.0017 - mean_absolute_error: 0.02 - ETA: 0s - loss: 0.0024 - mean_squared_error: 0.0017 - mean_absolute_error: 0.02 - ETA: 0s - loss: 0.0024 - mean_squared_error: 0.0017 - mean_absolute_error: 0.02 - 1s 157us/sample - loss: 0.0024 - mean_squared_error: 0.0017 - mean_absolute_error: 0.0254 - val_loss: 0.0012 - val_mean_squared_error: 4.8424e-04 - val_mean_absolute_error: 0.0165\n",
      "Epoch 87/100\n",
      "8000/8000 [==============================] - ETA: 1s - loss: 0.0025 - mean_squared_error: 0.0018 - mean_absolute_error: 0.02 - ETA: 1s - loss: 0.0023 - mean_squared_error: 0.0016 - mean_absolute_error: 0.02 - ETA: 0s - loss: 0.0025 - mean_squared_error: 0.0018 - mean_absolute_error: 0.02 - ETA: 0s - loss: 0.0025 - mean_squared_error: 0.0018 - mean_absolute_error: 0.02 - ETA: 0s - loss: 0.0025 - mean_squared_error: 0.0018 - mean_absolute_error: 0.02 - ETA: 0s - loss: 0.0025 - mean_squared_error: 0.0018 - mean_absolute_error: 0.02 - ETA: 0s - loss: 0.0024 - mean_squared_error: 0.0018 - mean_absolute_error: 0.02 - ETA: 0s - loss: 0.0024 - mean_squared_error: 0.0017 - mean_absolute_error: 0.02 - ETA: 0s - loss: 0.0024 - mean_squared_error: 0.0017 - mean_absolute_error: 0.02 - ETA: 0s - loss: 0.0024 - mean_squared_error: 0.0017 - mean_absolute_error: 0.02 - ETA: 0s - loss: 0.0024 - mean_squared_error: 0.0017 - mean_absolute_error: 0.02 - ETA: 0s - loss: 0.0024 - mean_squared_error: 0.0017 - mean_absolute_error: 0.02 - ETA: 0s - loss: 0.0024 - mean_squared_error: 0.0017 - mean_absolute_error: 0.02 - ETA: 0s - loss: 0.0024 - mean_squared_error: 0.0017 - mean_absolute_error: 0.02 - ETA: 0s - loss: 0.0024 - mean_squared_error: 0.0017 - mean_absolute_error: 0.02 - ETA: 0s - loss: 0.0024 - mean_squared_error: 0.0017 - mean_absolute_error: 0.02 - ETA: 0s - loss: 0.0024 - mean_squared_error: 0.0017 - mean_absolute_error: 0.02 - ETA: 0s - loss: 0.0024 - mean_squared_error: 0.0017 - mean_absolute_error: 0.02 - ETA: 0s - loss: 0.0024 - mean_squared_error: 0.0017 - mean_absolute_error: 0.02 - ETA: 0s - loss: 0.0024 - mean_squared_error: 0.0017 - mean_absolute_error: 0.02 - 1s 154us/sample - loss: 0.0024 - mean_squared_error: 0.0017 - mean_absolute_error: 0.0253 - val_loss: 0.0012 - val_mean_squared_error: 4.9358e-04 - val_mean_absolute_error: 0.0166\n",
      "Epoch 88/100\n"
     ]
    },
    {
     "name": "stdout",
     "output_type": "stream",
     "text": [
      "8000/8000 [==============================] - ETA: 1s - loss: 0.0024 - mean_squared_error: 0.0017 - mean_absolute_error: 0.02 - ETA: 0s - loss: 0.0025 - mean_squared_error: 0.0018 - mean_absolute_error: 0.02 - ETA: 0s - loss: 0.0024 - mean_squared_error: 0.0017 - mean_absolute_error: 0.02 - ETA: 0s - loss: 0.0024 - mean_squared_error: 0.0017 - mean_absolute_error: 0.02 - ETA: 0s - loss: 0.0024 - mean_squared_error: 0.0017 - mean_absolute_error: 0.02 - ETA: 0s - loss: 0.0024 - mean_squared_error: 0.0017 - mean_absolute_error: 0.02 - ETA: 0s - loss: 0.0024 - mean_squared_error: 0.0017 - mean_absolute_error: 0.02 - ETA: 0s - loss: 0.0024 - mean_squared_error: 0.0017 - mean_absolute_error: 0.02 - ETA: 0s - loss: 0.0024 - mean_squared_error: 0.0017 - mean_absolute_error: 0.02 - ETA: 0s - loss: 0.0024 - mean_squared_error: 0.0017 - mean_absolute_error: 0.02 - ETA: 0s - loss: 0.0024 - mean_squared_error: 0.0017 - mean_absolute_error: 0.02 - ETA: 0s - loss: 0.0024 - mean_squared_error: 0.0017 - mean_absolute_error: 0.02 - ETA: 0s - loss: 0.0024 - mean_squared_error: 0.0017 - mean_absolute_error: 0.02 - ETA: 0s - loss: 0.0024 - mean_squared_error: 0.0017 - mean_absolute_error: 0.02 - ETA: 0s - loss: 0.0024 - mean_squared_error: 0.0017 - mean_absolute_error: 0.02 - ETA: 0s - loss: 0.0024 - mean_squared_error: 0.0017 - mean_absolute_error: 0.02 - ETA: 0s - loss: 0.0024 - mean_squared_error: 0.0017 - mean_absolute_error: 0.02 - ETA: 0s - loss: 0.0024 - mean_squared_error: 0.0017 - mean_absolute_error: 0.02 - ETA: 0s - loss: 0.0024 - mean_squared_error: 0.0017 - mean_absolute_error: 0.02 - ETA: 0s - loss: 0.0024 - mean_squared_error: 0.0017 - mean_absolute_error: 0.02 - ETA: 0s - loss: 0.0024 - mean_squared_error: 0.0017 - mean_absolute_error: 0.02 - 1s 160us/sample - loss: 0.0024 - mean_squared_error: 0.0017 - mean_absolute_error: 0.0254 - val_loss: 0.0012 - val_mean_squared_error: 5.3734e-04 - val_mean_absolute_error: 0.0170\n",
      "Epoch 89/100\n",
      "8000/8000 [==============================] - ETA: 1s - loss: 0.0025 - mean_squared_error: 0.0018 - mean_absolute_error: 0.02 - ETA: 1s - loss: 0.0024 - mean_squared_error: 0.0017 - mean_absolute_error: 0.02 - ETA: 0s - loss: 0.0024 - mean_squared_error: 0.0017 - mean_absolute_error: 0.02 - ETA: 0s - loss: 0.0024 - mean_squared_error: 0.0017 - mean_absolute_error: 0.02 - ETA: 0s - loss: 0.0024 - mean_squared_error: 0.0017 - mean_absolute_error: 0.02 - ETA: 0s - loss: 0.0024 - mean_squared_error: 0.0017 - mean_absolute_error: 0.02 - ETA: 0s - loss: 0.0024 - mean_squared_error: 0.0017 - mean_absolute_error: 0.02 - ETA: 0s - loss: 0.0024 - mean_squared_error: 0.0017 - mean_absolute_error: 0.02 - ETA: 0s - loss: 0.0024 - mean_squared_error: 0.0017 - mean_absolute_error: 0.02 - ETA: 0s - loss: 0.0024 - mean_squared_error: 0.0017 - mean_absolute_error: 0.02 - ETA: 0s - loss: 0.0024 - mean_squared_error: 0.0017 - mean_absolute_error: 0.02 - ETA: 0s - loss: 0.0024 - mean_squared_error: 0.0017 - mean_absolute_error: 0.02 - ETA: 0s - loss: 0.0024 - mean_squared_error: 0.0017 - mean_absolute_error: 0.02 - ETA: 0s - loss: 0.0024 - mean_squared_error: 0.0017 - mean_absolute_error: 0.02 - ETA: 0s - loss: 0.0024 - mean_squared_error: 0.0018 - mean_absolute_error: 0.02 - ETA: 0s - loss: 0.0024 - mean_squared_error: 0.0018 - mean_absolute_error: 0.02 - ETA: 0s - loss: 0.0024 - mean_squared_error: 0.0018 - mean_absolute_error: 0.02 - ETA: 0s - loss: 0.0024 - mean_squared_error: 0.0017 - mean_absolute_error: 0.02 - ETA: 0s - loss: 0.0024 - mean_squared_error: 0.0017 - mean_absolute_error: 0.02 - ETA: 0s - loss: 0.0024 - mean_squared_error: 0.0017 - mean_absolute_error: 0.02 - ETA: 0s - loss: 0.0024 - mean_squared_error: 0.0017 - mean_absolute_error: 0.02 - ETA: 0s - loss: 0.0024 - mean_squared_error: 0.0017 - mean_absolute_error: 0.02 - 1s 162us/sample - loss: 0.0024 - mean_squared_error: 0.0017 - mean_absolute_error: 0.0253 - val_loss: 0.0012 - val_mean_squared_error: 5.0969e-04 - val_mean_absolute_error: 0.0167\n",
      "Epoch 90/100\n",
      "8000/8000 [==============================] - ETA: 1s - loss: 0.0025 - mean_squared_error: 0.0018 - mean_absolute_error: 0.02 - ETA: 1s - loss: 0.0023 - mean_squared_error: 0.0016 - mean_absolute_error: 0.02 - ETA: 1s - loss: 0.0024 - mean_squared_error: 0.0017 - mean_absolute_error: 0.02 - ETA: 0s - loss: 0.0023 - mean_squared_error: 0.0016 - mean_absolute_error: 0.02 - ETA: 0s - loss: 0.0023 - mean_squared_error: 0.0016 - mean_absolute_error: 0.02 - ETA: 0s - loss: 0.0023 - mean_squared_error: 0.0016 - mean_absolute_error: 0.02 - ETA: 0s - loss: 0.0024 - mean_squared_error: 0.0017 - mean_absolute_error: 0.02 - ETA: 0s - loss: 0.0024 - mean_squared_error: 0.0017 - mean_absolute_error: 0.02 - ETA: 0s - loss: 0.0024 - mean_squared_error: 0.0017 - mean_absolute_error: 0.02 - ETA: 0s - loss: 0.0024 - mean_squared_error: 0.0017 - mean_absolute_error: 0.02 - ETA: 0s - loss: 0.0024 - mean_squared_error: 0.0017 - mean_absolute_error: 0.02 - ETA: 0s - loss: 0.0024 - mean_squared_error: 0.0017 - mean_absolute_error: 0.02 - ETA: 0s - loss: 0.0024 - mean_squared_error: 0.0017 - mean_absolute_error: 0.02 - ETA: 0s - loss: 0.0024 - mean_squared_error: 0.0017 - mean_absolute_error: 0.02 - ETA: 0s - loss: 0.0024 - mean_squared_error: 0.0017 - mean_absolute_error: 0.02 - ETA: 0s - loss: 0.0024 - mean_squared_error: 0.0017 - mean_absolute_error: 0.02 - ETA: 0s - loss: 0.0024 - mean_squared_error: 0.0017 - mean_absolute_error: 0.02 - ETA: 0s - loss: 0.0024 - mean_squared_error: 0.0017 - mean_absolute_error: 0.02 - ETA: 0s - loss: 0.0024 - mean_squared_error: 0.0017 - mean_absolute_error: 0.02 - ETA: 0s - loss: 0.0024 - mean_squared_error: 0.0017 - mean_absolute_error: 0.02 - ETA: 0s - loss: 0.0024 - mean_squared_error: 0.0017 - mean_absolute_error: 0.02 - ETA: 0s - loss: 0.0024 - mean_squared_error: 0.0017 - mean_absolute_error: 0.02 - 1s 167us/sample - loss: 0.0024 - mean_squared_error: 0.0017 - mean_absolute_error: 0.0252 - val_loss: 0.0013 - val_mean_squared_error: 5.7902e-04 - val_mean_absolute_error: 0.0174\n",
      "Epoch 91/100\n",
      "8000/8000 [==============================] - ETA: 2s - loss: 0.0023 - mean_squared_error: 0.0016 - mean_absolute_error: 0.02 - ETA: 1s - loss: 0.0023 - mean_squared_error: 0.0017 - mean_absolute_error: 0.02 - ETA: 1s - loss: 0.0023 - mean_squared_error: 0.0016 - mean_absolute_error: 0.02 - ETA: 0s - loss: 0.0024 - mean_squared_error: 0.0017 - mean_absolute_error: 0.02 - ETA: 0s - loss: 0.0024 - mean_squared_error: 0.0017 - mean_absolute_error: 0.02 - ETA: 0s - loss: 0.0024 - mean_squared_error: 0.0017 - mean_absolute_error: 0.02 - ETA: 0s - loss: 0.0024 - mean_squared_error: 0.0017 - mean_absolute_error: 0.02 - ETA: 0s - loss: 0.0024 - mean_squared_error: 0.0017 - mean_absolute_error: 0.02 - ETA: 0s - loss: 0.0024 - mean_squared_error: 0.0017 - mean_absolute_error: 0.02 - ETA: 0s - loss: 0.0024 - mean_squared_error: 0.0017 - mean_absolute_error: 0.02 - ETA: 0s - loss: 0.0024 - mean_squared_error: 0.0017 - mean_absolute_error: 0.02 - ETA: 0s - loss: 0.0024 - mean_squared_error: 0.0017 - mean_absolute_error: 0.02 - ETA: 0s - loss: 0.0024 - mean_squared_error: 0.0017 - mean_absolute_error: 0.02 - ETA: 0s - loss: 0.0024 - mean_squared_error: 0.0017 - mean_absolute_error: 0.02 - ETA: 0s - loss: 0.0024 - mean_squared_error: 0.0017 - mean_absolute_error: 0.02 - ETA: 0s - loss: 0.0024 - mean_squared_error: 0.0017 - mean_absolute_error: 0.02 - ETA: 0s - loss: 0.0024 - mean_squared_error: 0.0017 - mean_absolute_error: 0.02 - ETA: 0s - loss: 0.0024 - mean_squared_error: 0.0017 - mean_absolute_error: 0.02 - ETA: 0s - loss: 0.0024 - mean_squared_error: 0.0017 - mean_absolute_error: 0.02 - ETA: 0s - loss: 0.0024 - mean_squared_error: 0.0017 - mean_absolute_error: 0.02 - ETA: 0s - loss: 0.0024 - mean_squared_error: 0.0017 - mean_absolute_error: 0.02 - 1s 162us/sample - loss: 0.0024 - mean_squared_error: 0.0017 - mean_absolute_error: 0.0253 - val_loss: 0.0013 - val_mean_squared_error: 5.6127e-04 - val_mean_absolute_error: 0.0172\n",
      "Epoch 92/100\n"
     ]
    },
    {
     "name": "stdout",
     "output_type": "stream",
     "text": [
      "8000/8000 [==============================] - ETA: 1s - loss: 0.0028 - mean_squared_error: 0.0021 - mean_absolute_error: 0.03 - ETA: 1s - loss: 0.0024 - mean_squared_error: 0.0017 - mean_absolute_error: 0.02 - ETA: 1s - loss: 0.0023 - mean_squared_error: 0.0017 - mean_absolute_error: 0.02 - ETA: 0s - loss: 0.0024 - mean_squared_error: 0.0017 - mean_absolute_error: 0.02 - ETA: 0s - loss: 0.0024 - mean_squared_error: 0.0017 - mean_absolute_error: 0.02 - ETA: 0s - loss: 0.0024 - mean_squared_error: 0.0017 - mean_absolute_error: 0.02 - ETA: 0s - loss: 0.0024 - mean_squared_error: 0.0017 - mean_absolute_error: 0.02 - ETA: 0s - loss: 0.0024 - mean_squared_error: 0.0017 - mean_absolute_error: 0.02 - ETA: 0s - loss: 0.0024 - mean_squared_error: 0.0017 - mean_absolute_error: 0.02 - ETA: 0s - loss: 0.0024 - mean_squared_error: 0.0017 - mean_absolute_error: 0.02 - ETA: 0s - loss: 0.0024 - mean_squared_error: 0.0017 - mean_absolute_error: 0.02 - ETA: 0s - loss: 0.0024 - mean_squared_error: 0.0017 - mean_absolute_error: 0.02 - ETA: 0s - loss: 0.0024 - mean_squared_error: 0.0017 - mean_absolute_error: 0.02 - ETA: 0s - loss: 0.0024 - mean_squared_error: 0.0017 - mean_absolute_error: 0.02 - ETA: 0s - loss: 0.0024 - mean_squared_error: 0.0017 - mean_absolute_error: 0.02 - ETA: 0s - loss: 0.0024 - mean_squared_error: 0.0017 - mean_absolute_error: 0.02 - ETA: 0s - loss: 0.0024 - mean_squared_error: 0.0017 - mean_absolute_error: 0.02 - ETA: 0s - loss: 0.0024 - mean_squared_error: 0.0017 - mean_absolute_error: 0.02 - ETA: 0s - loss: 0.0024 - mean_squared_error: 0.0017 - mean_absolute_error: 0.02 - ETA: 0s - loss: 0.0024 - mean_squared_error: 0.0017 - mean_absolute_error: 0.02 - ETA: 0s - loss: 0.0024 - mean_squared_error: 0.0017 - mean_absolute_error: 0.02 - ETA: 0s - loss: 0.0024 - mean_squared_error: 0.0017 - mean_absolute_error: 0.02 - 1s 161us/sample - loss: 0.0024 - mean_squared_error: 0.0017 - mean_absolute_error: 0.0251 - val_loss: 0.0012 - val_mean_squared_error: 4.9038e-04 - val_mean_absolute_error: 0.0165\n",
      "Epoch 93/100\n",
      "8000/8000 [==============================] - ETA: 1s - loss: 0.0024 - mean_squared_error: 0.0017 - mean_absolute_error: 0.02 - ETA: 1s - loss: 0.0024 - mean_squared_error: 0.0017 - mean_absolute_error: 0.02 - ETA: 0s - loss: 0.0024 - mean_squared_error: 0.0017 - mean_absolute_error: 0.02 - ETA: 0s - loss: 0.0024 - mean_squared_error: 0.0017 - mean_absolute_error: 0.02 - ETA: 0s - loss: 0.0024 - mean_squared_error: 0.0017 - mean_absolute_error: 0.02 - ETA: 0s - loss: 0.0024 - mean_squared_error: 0.0017 - mean_absolute_error: 0.02 - ETA: 0s - loss: 0.0024 - mean_squared_error: 0.0017 - mean_absolute_error: 0.02 - ETA: 0s - loss: 0.0024 - mean_squared_error: 0.0018 - mean_absolute_error: 0.02 - ETA: 0s - loss: 0.0024 - mean_squared_error: 0.0018 - mean_absolute_error: 0.02 - ETA: 0s - loss: 0.0025 - mean_squared_error: 0.0018 - mean_absolute_error: 0.02 - ETA: 0s - loss: 0.0024 - mean_squared_error: 0.0017 - mean_absolute_error: 0.02 - ETA: 0s - loss: 0.0024 - mean_squared_error: 0.0017 - mean_absolute_error: 0.02 - ETA: 0s - loss: 0.0024 - mean_squared_error: 0.0017 - mean_absolute_error: 0.02 - ETA: 0s - loss: 0.0024 - mean_squared_error: 0.0017 - mean_absolute_error: 0.02 - ETA: 0s - loss: 0.0024 - mean_squared_error: 0.0017 - mean_absolute_error: 0.02 - ETA: 0s - loss: 0.0024 - mean_squared_error: 0.0017 - mean_absolute_error: 0.02 - ETA: 0s - loss: 0.0024 - mean_squared_error: 0.0017 - mean_absolute_error: 0.02 - ETA: 0s - loss: 0.0024 - mean_squared_error: 0.0017 - mean_absolute_error: 0.02 - ETA: 0s - loss: 0.0024 - mean_squared_error: 0.0017 - mean_absolute_error: 0.02 - ETA: 0s - loss: 0.0024 - mean_squared_error: 0.0017 - mean_absolute_error: 0.02 - ETA: 0s - loss: 0.0024 - mean_squared_error: 0.0017 - mean_absolute_error: 0.02 - 1s 163us/sample - loss: 0.0024 - mean_squared_error: 0.0017 - mean_absolute_error: 0.0253 - val_loss: 0.0012 - val_mean_squared_error: 5.1494e-04 - val_mean_absolute_error: 0.0168\n",
      "Epoch 94/100\n",
      "8000/8000 [==============================] - ETA: 1s - loss: 0.0022 - mean_squared_error: 0.0015 - mean_absolute_error: 0.02 - ETA: 1s - loss: 0.0024 - mean_squared_error: 0.0017 - mean_absolute_error: 0.02 - ETA: 1s - loss: 0.0024 - mean_squared_error: 0.0017 - mean_absolute_error: 0.02 - ETA: 0s - loss: 0.0024 - mean_squared_error: 0.0017 - mean_absolute_error: 0.02 - ETA: 0s - loss: 0.0024 - mean_squared_error: 0.0018 - mean_absolute_error: 0.02 - ETA: 0s - loss: 0.0024 - mean_squared_error: 0.0018 - mean_absolute_error: 0.02 - ETA: 0s - loss: 0.0024 - mean_squared_error: 0.0017 - mean_absolute_error: 0.02 - ETA: 0s - loss: 0.0024 - mean_squared_error: 0.0017 - mean_absolute_error: 0.02 - ETA: 0s - loss: 0.0024 - mean_squared_error: 0.0017 - mean_absolute_error: 0.02 - ETA: 0s - loss: 0.0024 - mean_squared_error: 0.0017 - mean_absolute_error: 0.02 - ETA: 0s - loss: 0.0024 - mean_squared_error: 0.0017 - mean_absolute_error: 0.02 - ETA: 0s - loss: 0.0024 - mean_squared_error: 0.0017 - mean_absolute_error: 0.02 - ETA: 0s - loss: 0.0024 - mean_squared_error: 0.0017 - mean_absolute_error: 0.02 - ETA: 0s - loss: 0.0024 - mean_squared_error: 0.0017 - mean_absolute_error: 0.02 - ETA: 0s - loss: 0.0024 - mean_squared_error: 0.0017 - mean_absolute_error: 0.02 - ETA: 0s - loss: 0.0024 - mean_squared_error: 0.0017 - mean_absolute_error: 0.02 - ETA: 0s - loss: 0.0024 - mean_squared_error: 0.0017 - mean_absolute_error: 0.02 - ETA: 0s - loss: 0.0024 - mean_squared_error: 0.0017 - mean_absolute_error: 0.02 - ETA: 0s - loss: 0.0024 - mean_squared_error: 0.0017 - mean_absolute_error: 0.02 - ETA: 0s - loss: 0.0024 - mean_squared_error: 0.0017 - mean_absolute_error: 0.02 - ETA: 0s - loss: 0.0024 - mean_squared_error: 0.0017 - mean_absolute_error: 0.02 - ETA: 0s - loss: 0.0024 - mean_squared_error: 0.0017 - mean_absolute_error: 0.02 - 1s 163us/sample - loss: 0.0024 - mean_squared_error: 0.0017 - mean_absolute_error: 0.0254 - val_loss: 0.0012 - val_mean_squared_error: 5.0695e-04 - val_mean_absolute_error: 0.0167\n",
      "Epoch 95/100\n",
      "8000/8000 [==============================] - ETA: 1s - loss: 0.0029 - mean_squared_error: 0.0022 - mean_absolute_error: 0.02 - ETA: 1s - loss: 0.0025 - mean_squared_error: 0.0018 - mean_absolute_error: 0.02 - ETA: 0s - loss: 0.0025 - mean_squared_error: 0.0018 - mean_absolute_error: 0.02 - ETA: 0s - loss: 0.0025 - mean_squared_error: 0.0018 - mean_absolute_error: 0.02 - ETA: 0s - loss: 0.0025 - mean_squared_error: 0.0018 - mean_absolute_error: 0.02 - ETA: 0s - loss: 0.0025 - mean_squared_error: 0.0018 - mean_absolute_error: 0.02 - ETA: 0s - loss: 0.0025 - mean_squared_error: 0.0018 - mean_absolute_error: 0.02 - ETA: 0s - loss: 0.0024 - mean_squared_error: 0.0018 - mean_absolute_error: 0.02 - ETA: 0s - loss: 0.0024 - mean_squared_error: 0.0017 - mean_absolute_error: 0.02 - ETA: 0s - loss: 0.0024 - mean_squared_error: 0.0017 - mean_absolute_error: 0.02 - ETA: 0s - loss: 0.0024 - mean_squared_error: 0.0017 - mean_absolute_error: 0.02 - ETA: 0s - loss: 0.0024 - mean_squared_error: 0.0017 - mean_absolute_error: 0.02 - ETA: 0s - loss: 0.0024 - mean_squared_error: 0.0017 - mean_absolute_error: 0.02 - ETA: 0s - loss: 0.0024 - mean_squared_error: 0.0017 - mean_absolute_error: 0.02 - ETA: 0s - loss: 0.0024 - mean_squared_error: 0.0017 - mean_absolute_error: 0.02 - ETA: 0s - loss: 0.0024 - mean_squared_error: 0.0017 - mean_absolute_error: 0.02 - ETA: 0s - loss: 0.0024 - mean_squared_error: 0.0017 - mean_absolute_error: 0.02 - ETA: 0s - loss: 0.0024 - mean_squared_error: 0.0017 - mean_absolute_error: 0.02 - ETA: 0s - loss: 0.0024 - mean_squared_error: 0.0017 - mean_absolute_error: 0.02 - ETA: 0s - loss: 0.0024 - mean_squared_error: 0.0017 - mean_absolute_error: 0.02 - ETA: 0s - loss: 0.0024 - mean_squared_error: 0.0017 - mean_absolute_error: 0.02 - 1s 158us/sample - loss: 0.0024 - mean_squared_error: 0.0017 - mean_absolute_error: 0.0252 - val_loss: 0.0015 - val_mean_squared_error: 7.5757e-04 - val_mean_absolute_error: 0.0193\n",
      "Epoch 96/100\n"
     ]
    },
    {
     "name": "stdout",
     "output_type": "stream",
     "text": [
      "8000/8000 [==============================] - ETA: 1s - loss: 0.0026 - mean_squared_error: 0.0019 - mean_absolute_error: 0.02 - ETA: 1s - loss: 0.0024 - mean_squared_error: 0.0017 - mean_absolute_error: 0.02 - ETA: 0s - loss: 0.0023 - mean_squared_error: 0.0017 - mean_absolute_error: 0.02 - ETA: 0s - loss: 0.0024 - mean_squared_error: 0.0017 - mean_absolute_error: 0.02 - ETA: 0s - loss: 0.0024 - mean_squared_error: 0.0017 - mean_absolute_error: 0.02 - ETA: 0s - loss: 0.0024 - mean_squared_error: 0.0017 - mean_absolute_error: 0.02 - ETA: 0s - loss: 0.0024 - mean_squared_error: 0.0017 - mean_absolute_error: 0.02 - ETA: 0s - loss: 0.0024 - mean_squared_error: 0.0017 - mean_absolute_error: 0.02 - ETA: 0s - loss: 0.0024 - mean_squared_error: 0.0017 - mean_absolute_error: 0.02 - ETA: 0s - loss: 0.0024 - mean_squared_error: 0.0017 - mean_absolute_error: 0.02 - ETA: 0s - loss: 0.0024 - mean_squared_error: 0.0017 - mean_absolute_error: 0.02 - ETA: 0s - loss: 0.0024 - mean_squared_error: 0.0017 - mean_absolute_error: 0.02 - ETA: 0s - loss: 0.0024 - mean_squared_error: 0.0017 - mean_absolute_error: 0.02 - ETA: 0s - loss: 0.0024 - mean_squared_error: 0.0017 - mean_absolute_error: 0.02 - ETA: 0s - loss: 0.0024 - mean_squared_error: 0.0017 - mean_absolute_error: 0.02 - ETA: 0s - loss: 0.0024 - mean_squared_error: 0.0017 - mean_absolute_error: 0.02 - ETA: 0s - loss: 0.0024 - mean_squared_error: 0.0017 - mean_absolute_error: 0.02 - ETA: 0s - loss: 0.0024 - mean_squared_error: 0.0017 - mean_absolute_error: 0.02 - ETA: 0s - loss: 0.0024 - mean_squared_error: 0.0017 - mean_absolute_error: 0.02 - ETA: 0s - loss: 0.0024 - mean_squared_error: 0.0017 - mean_absolute_error: 0.02 - 1s 151us/sample - loss: 0.0024 - mean_squared_error: 0.0017 - mean_absolute_error: 0.0252 - val_loss: 0.0014 - val_mean_squared_error: 6.9234e-04 - val_mean_absolute_error: 0.0187\n",
      "Epoch 97/100\n",
      "8000/8000 [==============================] - ETA: 1s - loss: 0.0025 - mean_squared_error: 0.0018 - mean_absolute_error: 0.02 - ETA: 1s - loss: 0.0024 - mean_squared_error: 0.0017 - mean_absolute_error: 0.02 - ETA: 0s - loss: 0.0024 - mean_squared_error: 0.0017 - mean_absolute_error: 0.02 - ETA: 0s - loss: 0.0024 - mean_squared_error: 0.0017 - mean_absolute_error: 0.02 - ETA: 0s - loss: 0.0024 - mean_squared_error: 0.0017 - mean_absolute_error: 0.02 - ETA: 0s - loss: 0.0024 - mean_squared_error: 0.0017 - mean_absolute_error: 0.02 - ETA: 0s - loss: 0.0024 - mean_squared_error: 0.0017 - mean_absolute_error: 0.02 - ETA: 0s - loss: 0.0024 - mean_squared_error: 0.0017 - mean_absolute_error: 0.02 - ETA: 0s - loss: 0.0024 - mean_squared_error: 0.0017 - mean_absolute_error: 0.02 - ETA: 0s - loss: 0.0024 - mean_squared_error: 0.0017 - mean_absolute_error: 0.02 - ETA: 0s - loss: 0.0024 - mean_squared_error: 0.0017 - mean_absolute_error: 0.02 - ETA: 0s - loss: 0.0024 - mean_squared_error: 0.0017 - mean_absolute_error: 0.02 - ETA: 0s - loss: 0.0024 - mean_squared_error: 0.0017 - mean_absolute_error: 0.02 - ETA: 0s - loss: 0.0024 - mean_squared_error: 0.0017 - mean_absolute_error: 0.02 - ETA: 0s - loss: 0.0025 - mean_squared_error: 0.0018 - mean_absolute_error: 0.02 - ETA: 0s - loss: 0.0024 - mean_squared_error: 0.0018 - mean_absolute_error: 0.02 - ETA: 0s - loss: 0.0025 - mean_squared_error: 0.0018 - mean_absolute_error: 0.02 - ETA: 0s - loss: 0.0024 - mean_squared_error: 0.0018 - mean_absolute_error: 0.02 - ETA: 0s - loss: 0.0024 - mean_squared_error: 0.0017 - mean_absolute_error: 0.02 - ETA: 0s - loss: 0.0024 - mean_squared_error: 0.0017 - mean_absolute_error: 0.02 - 1s 149us/sample - loss: 0.0024 - mean_squared_error: 0.0017 - mean_absolute_error: 0.0253 - val_loss: 0.0014 - val_mean_squared_error: 6.7579e-04 - val_mean_absolute_error: 0.0184\n",
      "Epoch 98/100\n",
      "8000/8000 [==============================] - ETA: 1s - loss: 0.0026 - mean_squared_error: 0.0019 - mean_absolute_error: 0.02 - ETA: 0s - loss: 0.0025 - mean_squared_error: 0.0018 - mean_absolute_error: 0.02 - ETA: 0s - loss: 0.0025 - mean_squared_error: 0.0018 - mean_absolute_error: 0.02 - ETA: 0s - loss: 0.0025 - mean_squared_error: 0.0018 - mean_absolute_error: 0.02 - ETA: 0s - loss: 0.0024 - mean_squared_error: 0.0017 - mean_absolute_error: 0.02 - ETA: 0s - loss: 0.0024 - mean_squared_error: 0.0017 - mean_absolute_error: 0.02 - ETA: 0s - loss: 0.0024 - mean_squared_error: 0.0017 - mean_absolute_error: 0.02 - ETA: 0s - loss: 0.0024 - mean_squared_error: 0.0017 - mean_absolute_error: 0.02 - ETA: 0s - loss: 0.0024 - mean_squared_error: 0.0017 - mean_absolute_error: 0.02 - ETA: 0s - loss: 0.0024 - mean_squared_error: 0.0017 - mean_absolute_error: 0.02 - ETA: 0s - loss: 0.0024 - mean_squared_error: 0.0017 - mean_absolute_error: 0.02 - ETA: 0s - loss: 0.0024 - mean_squared_error: 0.0017 - mean_absolute_error: 0.02 - ETA: 0s - loss: 0.0024 - mean_squared_error: 0.0017 - mean_absolute_error: 0.02 - ETA: 0s - loss: 0.0024 - mean_squared_error: 0.0017 - mean_absolute_error: 0.02 - ETA: 0s - loss: 0.0024 - mean_squared_error: 0.0017 - mean_absolute_error: 0.02 - ETA: 0s - loss: 0.0024 - mean_squared_error: 0.0017 - mean_absolute_error: 0.02 - ETA: 0s - loss: 0.0024 - mean_squared_error: 0.0017 - mean_absolute_error: 0.02 - ETA: 0s - loss: 0.0024 - mean_squared_error: 0.0017 - mean_absolute_error: 0.02 - ETA: 0s - loss: 0.0024 - mean_squared_error: 0.0017 - mean_absolute_error: 0.02 - ETA: 0s - loss: 0.0024 - mean_squared_error: 0.0017 - mean_absolute_error: 0.02 - ETA: 0s - loss: 0.0024 - mean_squared_error: 0.0017 - mean_absolute_error: 0.02 - 1s 159us/sample - loss: 0.0024 - mean_squared_error: 0.0017 - mean_absolute_error: 0.0253 - val_loss: 0.0012 - val_mean_squared_error: 4.8495e-04 - val_mean_absolute_error: 0.0164\n",
      "Epoch 99/100\n",
      "8000/8000 [==============================] - ETA: 2s - loss: 0.0023 - mean_squared_error: 0.0016 - mean_absolute_error: 0.02 - ETA: 1s - loss: 0.0024 - mean_squared_error: 0.0017 - mean_absolute_error: 0.02 - ETA: 1s - loss: 0.0024 - mean_squared_error: 0.0017 - mean_absolute_error: 0.02 - ETA: 0s - loss: 0.0024 - mean_squared_error: 0.0017 - mean_absolute_error: 0.02 - ETA: 0s - loss: 0.0024 - mean_squared_error: 0.0017 - mean_absolute_error: 0.02 - ETA: 0s - loss: 0.0024 - mean_squared_error: 0.0017 - mean_absolute_error: 0.02 - ETA: 0s - loss: 0.0024 - mean_squared_error: 0.0017 - mean_absolute_error: 0.02 - ETA: 0s - loss: 0.0024 - mean_squared_error: 0.0017 - mean_absolute_error: 0.02 - ETA: 0s - loss: 0.0024 - mean_squared_error: 0.0017 - mean_absolute_error: 0.02 - ETA: 0s - loss: 0.0024 - mean_squared_error: 0.0017 - mean_absolute_error: 0.02 - ETA: 0s - loss: 0.0024 - mean_squared_error: 0.0017 - mean_absolute_error: 0.02 - ETA: 0s - loss: 0.0024 - mean_squared_error: 0.0017 - mean_absolute_error: 0.02 - ETA: 0s - loss: 0.0024 - mean_squared_error: 0.0017 - mean_absolute_error: 0.02 - ETA: 0s - loss: 0.0024 - mean_squared_error: 0.0017 - mean_absolute_error: 0.02 - ETA: 0s - loss: 0.0024 - mean_squared_error: 0.0017 - mean_absolute_error: 0.02 - ETA: 0s - loss: 0.0024 - mean_squared_error: 0.0017 - mean_absolute_error: 0.02 - ETA: 0s - loss: 0.0024 - mean_squared_error: 0.0017 - mean_absolute_error: 0.02 - ETA: 0s - loss: 0.0024 - mean_squared_error: 0.0017 - mean_absolute_error: 0.02 - ETA: 0s - loss: 0.0024 - mean_squared_error: 0.0017 - mean_absolute_error: 0.02 - ETA: 0s - loss: 0.0024 - mean_squared_error: 0.0017 - mean_absolute_error: 0.02 - ETA: 0s - loss: 0.0024 - mean_squared_error: 0.0017 - mean_absolute_error: 0.02 - ETA: 0s - loss: 0.0024 - mean_squared_error: 0.0017 - mean_absolute_error: 0.02 - 1s 169us/sample - loss: 0.0024 - mean_squared_error: 0.0017 - mean_absolute_error: 0.0252 - val_loss: 0.0012 - val_mean_squared_error: 5.0119e-04 - val_mean_absolute_error: 0.0166\n",
      "Epoch 100/100\n"
     ]
    },
    {
     "name": "stdout",
     "output_type": "stream",
     "text": [
      "8000/8000 [==============================] - ETA: 1s - loss: 0.0027 - mean_squared_error: 0.0020 - mean_absolute_error: 0.02 - ETA: 1s - loss: 0.0024 - mean_squared_error: 0.0017 - mean_absolute_error: 0.02 - ETA: 1s - loss: 0.0024 - mean_squared_error: 0.0017 - mean_absolute_error: 0.02 - ETA: 1s - loss: 0.0024 - mean_squared_error: 0.0017 - mean_absolute_error: 0.02 - ETA: 1s - loss: 0.0024 - mean_squared_error: 0.0017 - mean_absolute_error: 0.02 - ETA: 1s - loss: 0.0024 - mean_squared_error: 0.0017 - mean_absolute_error: 0.02 - ETA: 0s - loss: 0.0024 - mean_squared_error: 0.0017 - mean_absolute_error: 0.02 - ETA: 0s - loss: 0.0024 - mean_squared_error: 0.0017 - mean_absolute_error: 0.02 - ETA: 0s - loss: 0.0024 - mean_squared_error: 0.0017 - mean_absolute_error: 0.02 - ETA: 0s - loss: 0.0024 - mean_squared_error: 0.0017 - mean_absolute_error: 0.02 - ETA: 0s - loss: 0.0024 - mean_squared_error: 0.0017 - mean_absolute_error: 0.02 - ETA: 0s - loss: 0.0024 - mean_squared_error: 0.0017 - mean_absolute_error: 0.02 - ETA: 0s - loss: 0.0024 - mean_squared_error: 0.0017 - mean_absolute_error: 0.02 - ETA: 0s - loss: 0.0024 - mean_squared_error: 0.0017 - mean_absolute_error: 0.02 - ETA: 0s - loss: 0.0024 - mean_squared_error: 0.0017 - mean_absolute_error: 0.02 - ETA: 0s - loss: 0.0024 - mean_squared_error: 0.0017 - mean_absolute_error: 0.02 - ETA: 0s - loss: 0.0024 - mean_squared_error: 0.0017 - mean_absolute_error: 0.02 - ETA: 0s - loss: 0.0024 - mean_squared_error: 0.0017 - mean_absolute_error: 0.02 - ETA: 0s - loss: 0.0024 - mean_squared_error: 0.0017 - mean_absolute_error: 0.02 - ETA: 0s - loss: 0.0024 - mean_squared_error: 0.0017 - mean_absolute_error: 0.02 - ETA: 0s - loss: 0.0024 - mean_squared_error: 0.0017 - mean_absolute_error: 0.02 - ETA: 0s - loss: 0.0024 - mean_squared_error: 0.0017 - mean_absolute_error: 0.02 - ETA: 0s - loss: 0.0024 - mean_squared_error: 0.0017 - mean_absolute_error: 0.02 - ETA: 0s - loss: 0.0024 - mean_squared_error: 0.0017 - mean_absolute_error: 0.02 - 1s 182us/sample - loss: 0.0024 - mean_squared_error: 0.0017 - mean_absolute_error: 0.0253 - val_loss: 0.0012 - val_mean_squared_error: 5.2018e-04 - val_mean_absolute_error: 0.0169\n"
     ]
    },
    {
     "data": {
      "text/plain": [
       "<tensorflow.python.keras.callbacks.History at 0x7fc4bd4821d0>"
      ]
     },
     "execution_count": 111,
     "metadata": {},
     "output_type": "execute_result"
    }
   ],
   "source": [
    "logdir = tempfile.mkdtemp()\n",
    "\n",
    "callbacks = [\n",
    "  tfmot.sparsity.keras.UpdatePruningStep(),\n",
    "  tfmot.sparsity.keras.PruningSummaries(log_dir=logdir),\n",
    "]\n",
    "\n",
    "model_for_pruning.fit(X_scale, Y_scale,\n",
    "                  batch_size=batch_size, epochs=epochs, validation_split=validation_split,\n",
    "                  callbacks=callbacks, verbose=0)"
   ]
  },
  {
   "cell_type": "code",
   "execution_count": 112,
   "metadata": {},
   "outputs": [
    {
     "name": "stdout",
     "output_type": "stream",
     "text": [
      "Pruned model MSE: 0.0005371348233893514\n",
      "Initial model MSE: 0.000505145697388798\n"
     ]
    }
   ],
   "source": [
    "file_path = '/Users/jackkelly/Desktop/Building_Model/Data_NEW/10000_initial_data_testing.csv'\n",
    "X_test, Y_test = processing_data(N_channels, file_path)\n",
    "model_for_pruning_accuracy = model_for_pruning.evaluate(X_test, Y_test, verbose=0)[1]\n",
    "print(f'Pruned model MSE: {model_for_pruning_accuracy}')\n",
    "print(f'Initial model MSE: {eval_result}')"
   ]
  },
  {
   "cell_type": "code",
   "execution_count": 113,
   "metadata": {},
   "outputs": [],
   "source": [
    "# %tensorboard --logdir={logdir}"
   ]
  },
  {
   "cell_type": "code",
   "execution_count": 114,
   "metadata": {},
   "outputs": [
    {
     "name": "stdout",
     "output_type": "stream",
     "text": [
      "Saved pruned Keras model to: /var/folders/yp/nbwcv8453t3f3sx3xxwwycqm0000gn/T/tmp_68ena9n.h5\n"
     ]
    }
   ],
   "source": [
    "model_for_export = tfmot.sparsity.keras.strip_pruning(model_for_pruning)\n",
    "\n",
    "_, pruned_keras_file = tempfile.mkstemp('.h5')\n",
    "tf.keras.models.save_model(model_for_export, pruned_keras_file, include_optimizer=False)\n",
    "print('Saved pruned Keras model to:', pruned_keras_file)"
   ]
  },
  {
   "cell_type": "code",
   "execution_count": 115,
   "metadata": {},
   "outputs": [],
   "source": [
    "def get_gzipped_model_size(file):\n",
    "  # Returns size of gzipped model, in bytes.\n",
    "    import zipfile\n",
    "\n",
    "    _, zipped_file = tempfile.mkstemp('.zip')\n",
    "    with zipfile.ZipFile(zipped_file, 'w', compression=zipfile.ZIP_DEFLATED) as f:\n",
    "        f.write(file)\n",
    "\n",
    "    return os.path.getsize(zipped_file)"
   ]
  },
  {
   "cell_type": "code",
   "execution_count": 116,
   "metadata": {},
   "outputs": [
    {
     "name": "stdout",
     "output_type": "stream",
     "text": [
      "Size of gzipped baseline Keras model: 61486.00 bytes\n",
      "Size of gzipped pruned Keras model: 39394.00 bytes\n"
     ]
    }
   ],
   "source": [
    "### One hidden layer vs Pruned model\n",
    "print(\"Size of gzipped baseline Keras model: %.2f bytes\" % (get_gzipped_model_size(keras_file)))\n",
    "print(\"Size of gzipped pruned Keras model: %.2f bytes\" % (get_gzipped_model_size(pruned_keras_file)))"
   ]
  },
  {
   "cell_type": "code",
   "execution_count": 117,
   "metadata": {},
   "outputs": [
    {
     "name": "stdout",
     "output_type": "stream",
     "text": [
      "Size of gzipped pruned Keras model: 91070.00 bytes\n"
     ]
    }
   ],
   "source": [
    "### Two hidden layer model\n",
    "two_layer_model = keras.models.load_model('/Users/jackkelly/Desktop/Building_Model/Tuned_40_channels_ANN_model.h5')\n",
    "_, two_layer_keras_file = tempfile.mkstemp('.h5')\n",
    "tf.keras.models.save_model(two_layer_model, two_layer_keras_file, include_optimizer=False)\n",
    "print(\"Size of gzipped pruned Keras model: %.2f bytes\" % (get_gzipped_model_size(two_layer_keras_file)))"
   ]
  },
  {
   "cell_type": "code",
   "execution_count": 118,
   "metadata": {},
   "outputs": [
    {
     "name": "stdout",
     "output_type": "stream",
     "text": [
      "Model: \"sequential\"\n",
      "_________________________________________________________________\n",
      "Layer (type)                 Output Shape              Param #   \n",
      "=================================================================\n",
      "dense (Dense)                (None, 196)               8232      \n",
      "_________________________________________________________________\n",
      "dropout (Dropout)            (None, 196)               0         \n",
      "_________________________________________________________________\n",
      "dense_1 (Dense)              (None, 40)                7880      \n",
      "=================================================================\n",
      "Total params: 16,112\n",
      "Trainable params: 16,112\n",
      "Non-trainable params: 0\n",
      "_________________________________________________________________\n"
     ]
    }
   ],
   "source": [
    "model_for_export.summary()"
   ]
  },
  {
   "cell_type": "code",
   "execution_count": null,
   "metadata": {},
   "outputs": [],
   "source": []
  }
 ],
 "metadata": {
  "kernelspec": {
   "display_name": "Python 3",
   "language": "python",
   "name": "python3"
  },
  "language_info": {
   "codemirror_mode": {
    "name": "ipython",
    "version": 3
   },
   "file_extension": ".py",
   "mimetype": "text/x-python",
   "name": "python",
   "nbconvert_exporter": "python",
   "pygments_lexer": "ipython3",
   "version": "3.6.10"
  }
 },
 "nbformat": 4,
 "nbformat_minor": 4
}
