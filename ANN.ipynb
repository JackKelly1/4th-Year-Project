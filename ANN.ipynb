{
 "cells": [
  {
   "cell_type": "markdown",
   "metadata": {},
   "source": [
    "# Processing the data"
   ]
  },
  {
   "cell_type": "code",
   "execution_count": 1,
   "metadata": {},
   "outputs": [
    {
     "name": "stderr",
     "output_type": "stream",
     "text": [
      "Using TensorFlow backend.\n"
     ]
    }
   ],
   "source": [
    "import tensorflow as tf\n",
    "import pandas as pd\n",
    "from sklearn import preprocessing\n",
    "from sklearn.model_selection import train_test_split\n",
    "from sklearn.utils import shuffle\n",
    "from keras.models import Sequential\n",
    "from keras.layers import Dense\n",
    "from keras import regularizers\n",
    "from tensorflow import keras\n",
    "import matplotlib.pyplot as plt\n",
    "import numpy as np\n",
    "import time\n",
    "import h5py"
   ]
  },
  {
   "cell_type": "code",
   "execution_count": 2,
   "metadata": {},
   "outputs": [],
   "source": [
    "# Reproducibility\n",
    "seed = 8 # arbitrary number\n",
    "np.random.seed(seed=seed)\n",
    "tf.random.set_seed(seed=seed)"
   ]
  },
  {
   "cell_type": "code",
   "execution_count": 3,
   "metadata": {},
   "outputs": [
    {
     "name": "stdout",
     "output_type": "stream",
     "text": [
      "CPUs Available:  1\n",
      "GPUs Available:  0\n"
     ]
    }
   ],
   "source": [
    "physical_devices_cpu = tf.config.experimental.list_physical_devices('CPU')\n",
    "print('CPUs Available: ' ,len(physical_devices_cpu))\n",
    "physical_devices_gpu = tf.config.experimental.list_physical_devices('GPU')\n",
    "print('GPUs Available: ' ,len(physical_devices_gpu))"
   ]
  },
  {
   "cell_type": "code",
   "execution_count": 4,
   "metadata": {},
   "outputs": [],
   "source": [
    "def processing_data(N_channels, file_path):\n",
    "    df = pd.read_csv(file_path)\n",
    "    dataset = df.values\n",
    "    # dataset\n",
    "    dataset = df.values\n",
    "    # input power and channels statuses\n",
    "    X = dataset[0:10000,0:N_channels+1]\n",
    "    # channel SNRs\n",
    "    Y = dataset[0:10000,N_channels+1:2*N_channels+1]\n",
    "    # shuffle necessary because while shuffle=True in .fit() shuffles the data, it splits into different datasets first\n",
    "    X, Y = shuffle(X, Y)\n",
    "    # scaling between 0 and 1\n",
    "    min_max_scaler = preprocessing.MinMaxScaler()\n",
    "    X_scale = min_max_scaler.fit_transform(X)\n",
    "    Y_scale = min_max_scaler.fit_transform(Y)\n",
    "    X_train, X_val_and_test, Y_train, Y_val_and_test = train_test_split(X_scale, Y_scale, test_size=0.3)\n",
    "    X_val, X_test, Y_val, Y_test = train_test_split(X_val_and_test, Y_val_and_test, test_size=0.5)\n",
    "    print(X_train.shape, X_val.shape, X_test.shape, Y_train.shape, Y_val.shape, Y_test.shape)\n",
    "    return X_train, Y_train, X_val, Y_val, X_test, Y_test"
   ]
  },
  {
   "cell_type": "markdown",
   "metadata": {},
   "source": [
    "# Visualising the Model"
   ]
  },
  {
   "cell_type": "code",
   "execution_count": 5,
   "metadata": {},
   "outputs": [],
   "source": [
    "def visualising_data(hist):\n",
    "    plt.title('Mean Squared Error')\n",
    "    plt.plot(hist.history['mean_squared_error'], label='Train')\n",
    "    plt.plot(hist.history['val_loss'], label='Test')\n",
    "    plt.legend()\n",
    "    plt.show()\n",
    "#     plt.plot(hist.history['mean_absolute_error'], label='Train')\n",
    "#     plt.plot(hist.history['val_mean_absolute_error'], label='Test')\n",
    "#     plt.legend()\n",
    "#     plt.show()"
   ]
  },
  {
   "cell_type": "markdown",
   "metadata": {},
   "source": [
    "# Building the ANN"
   ]
  },
  {
   "cell_type": "code",
   "execution_count": 6,
   "metadata": {},
   "outputs": [],
   "source": [
    "def build_model(N_channels, file_path):\n",
    "    X_train, Y_train, X_val, Y_val, X_test, Y_test = processing_data(N_channels, file_path)\n",
    "    model = Sequential()\n",
    "#     kernel_regularizer=regularizers.l2(0.00001)  - ADD THIS AT SOME POINT\n",
    "    model.add(Dense(80, activation='relu', kernel_regularizer=regularizers.l1(0.000001), input_dim=N_channels+1))\n",
    "    model.add(Dense(80, activation='relu', kernel_regularizer=regularizers.l1(0.000001)))\n",
    "    model.add(Dense(N_channels, activation='sigmoid', kernel_regularizer=regularizers.l1(0.000001)))\n",
    "    # learning_rate=0.1 causes zig-zags, learning_rate=0.0001 is far too slow\n",
    "#     opt = keras.optimizers.Adam(learning_rate=0.001)\n",
    "    opt = 'adam'\n",
    "    model.compile(optimizer=opt, loss='mean_squared_error', metrics=['mean_squared_error', 'mean_absolute_error'])\n",
    "    # fit as we are fitting the parameters to the data\n",
    "    # verbose shows how much info is shown during model fitting\n",
    "    # shuffle by default set to true so this is for visual purposes\n",
    "    start_time = time.time()\n",
    "    hist = model.fit(X_train, Y_train, validation_data=(X_val, Y_val), epochs=40, shuffle=True, verbose=1, batch_size=N_channels+1)\n",
    "    training_time = time.time() - start_time\n",
    "    return hist, model, X_train, Y_train, X_val, Y_val, X_test, Y_test, training_time"
   ]
  },
  {
   "cell_type": "code",
   "execution_count": 7,
   "metadata": {},
   "outputs": [],
   "source": [
    "def evaluate_model(N_channels, file_path):\n",
    "    hist, model, X_train, Y_train, X_val, Y_val, X_test, Y_test, training_time = build_model(N_channels, file_path)\n",
    "    visualising_data(hist)\n",
    "    #0 = loss, 1 = accuracy\n",
    "    train_mse = (model.evaluate(X_train, Y_train, verbose=1))[1]\n",
    "    test_mse = (model.evaluate(X_test, Y_test, verbose=1))[1]\n",
    "    val_mse = (model.evaluate(X_val, Y_val, verbose=1))[1]\n",
    "    model.save('/Users/jackkelly/Desktop/Building_Model/' + str(N_channels) + '_channels_ANN_model.h5')\n",
    "    print('MSE train: %.5f, MSE test: %.5f MSE val: %.5f' % (train_mse, test_mse, val_mse))\n",
    "    print(\"Training Time: %s\" % (training_time))\n",
    "    return model"
   ]
  },
  {
   "cell_type": "code",
   "execution_count": 8,
   "metadata": {},
   "outputs": [
    {
     "name": "stdout",
     "output_type": "stream",
     "text": [
      "(7000, 31) (1500, 31) (1500, 31) (7000, 30) (1500, 30) (1500, 30)\n",
      "Train on 7000 samples, validate on 1500 samples\n",
      "Epoch 1/40\n",
      "7000/7000 [==============================] - 2s 224us/step - loss: 0.0824 - mean_squared_error: 0.0811 - mean_absolute_error: 0.2411 - val_loss: 0.0335 - val_mean_squared_error: 0.0321 - val_mean_absolute_error: 0.1477\n",
      "Epoch 2/40\n",
      "7000/7000 [==============================] - 1s 90us/step - loss: 0.0170 - mean_squared_error: 0.0156 - mean_absolute_error: 0.0997 - val_loss: 0.0087 - val_mean_squared_error: 0.0072 - val_mean_absolute_error: 0.0694\n",
      "Epoch 3/40\n",
      "7000/7000 [==============================] - 1s 90us/step - loss: 0.0056 - mean_squared_error: 0.0040 - mean_absolute_error: 0.0509 - val_loss: 0.0041 - val_mean_squared_error: 0.0025 - val_mean_absolute_error: 0.0400\n",
      "Epoch 4/40\n",
      "7000/7000 [==============================] - 1s 91us/step - loss: 0.0035 - mean_squared_error: 0.0019 - mean_absolute_error: 0.0349 - val_loss: 0.0031 - val_mean_squared_error: 0.0015 - val_mean_absolute_error: 0.0304\n",
      "Epoch 5/40\n",
      "7000/7000 [==============================] - 1s 92us/step - loss: 0.0030 - mean_squared_error: 0.0014 - mean_absolute_error: 0.0296 - val_loss: 0.0028 - val_mean_squared_error: 0.0012 - val_mean_absolute_error: 0.0284\n",
      "Epoch 6/40\n",
      "7000/7000 [==============================] - 1s 90us/step - loss: 0.0029 - mean_squared_error: 0.0013 - mean_absolute_error: 0.0281 - val_loss: 0.0032 - val_mean_squared_error: 0.0016 - val_mean_absolute_error: 0.0299\n",
      "Epoch 7/40\n",
      "7000/7000 [==============================] - 1s 91us/step - loss: 0.0028 - mean_squared_error: 0.0011 - mean_absolute_error: 0.0260 - val_loss: 0.0028 - val_mean_squared_error: 0.0011 - val_mean_absolute_error: 0.0241\n",
      "Epoch 8/40\n",
      "7000/7000 [==============================] - 1s 91us/step - loss: 0.0029 - mean_squared_error: 0.0013 - mean_absolute_error: 0.0271 - val_loss: 0.0026 - val_mean_squared_error: 9.9595e-04 - val_mean_absolute_error: 0.0243\n",
      "Epoch 9/40\n",
      "7000/7000 [==============================] - 1s 93us/step - loss: 0.0028 - mean_squared_error: 0.0012 - mean_absolute_error: 0.0261 - val_loss: 0.0036 - val_mean_squared_error: 0.0020 - val_mean_absolute_error: 0.0350\n",
      "Epoch 10/40\n",
      "7000/7000 [==============================] - 1s 92us/step - loss: 0.0026 - mean_squared_error: 9.8152e-04 - mean_absolute_error: 0.0238 - val_loss: 0.0025 - val_mean_squared_error: 8.7826e-04 - val_mean_absolute_error: 0.0228\n",
      "Epoch 11/40\n",
      "7000/7000 [==============================] - 1s 98us/step - loss: 0.0027 - mean_squared_error: 0.0010 - mean_absolute_error: 0.0242 - val_loss: 0.0025 - val_mean_squared_error: 9.0973e-04 - val_mean_absolute_error: 0.0233\n",
      "Epoch 12/40\n",
      "7000/7000 [==============================] - 1s 94us/step - loss: 0.0027 - mean_squared_error: 0.0011 - mean_absolute_error: 0.0241 - val_loss: 0.0025 - val_mean_squared_error: 9.0343e-04 - val_mean_absolute_error: 0.0235\n",
      "Epoch 13/40\n",
      "7000/7000 [==============================] - 1s 93us/step - loss: 0.0026 - mean_squared_error: 9.5219e-04 - mean_absolute_error: 0.0230 - val_loss: 0.0025 - val_mean_squared_error: 8.4500e-04 - val_mean_absolute_error: 0.0224\n",
      "Epoch 14/40\n",
      "7000/7000 [==============================] - 1s 96us/step - loss: 0.0025 - mean_squared_error: 8.9400e-04 - mean_absolute_error: 0.0223 - val_loss: 0.0025 - val_mean_squared_error: 8.6340e-04 - val_mean_absolute_error: 0.0227\n",
      "Epoch 15/40\n",
      "7000/7000 [==============================] - 1s 100us/step - loss: 0.0025 - mean_squared_error: 8.4831e-04 - mean_absolute_error: 0.0217 - val_loss: 0.0024 - val_mean_squared_error: 8.1655e-04 - val_mean_absolute_error: 0.0211\n",
      "Epoch 16/40\n",
      "7000/7000 [==============================] - 1s 99us/step - loss: 0.0025 - mean_squared_error: 8.7069e-04 - mean_absolute_error: 0.0219 - val_loss: 0.0025 - val_mean_squared_error: 8.7530e-04 - val_mean_absolute_error: 0.0232\n",
      "Epoch 17/40\n",
      "7000/7000 [==============================] - 1s 101us/step - loss: 0.0027 - mean_squared_error: 0.0011 - mean_absolute_error: 0.0236 - val_loss: 0.0025 - val_mean_squared_error: 8.3590e-04 - val_mean_absolute_error: 0.0223\n",
      "Epoch 18/40\n",
      "7000/7000 [==============================] - 1s 100us/step - loss: 0.0025 - mean_squared_error: 8.9847e-04 - mean_absolute_error: 0.0220 - val_loss: 0.0027 - val_mean_squared_error: 0.0011 - val_mean_absolute_error: 0.0223\n",
      "Epoch 19/40\n",
      "7000/7000 [==============================] - 1s 100us/step - loss: 0.0027 - mean_squared_error: 0.0011 - mean_absolute_error: 0.0234 - val_loss: 0.0026 - val_mean_squared_error: 9.6653e-04 - val_mean_absolute_error: 0.0215\n",
      "Epoch 20/40\n",
      "7000/7000 [==============================] - 1s 101us/step - loss: 0.0025 - mean_squared_error: 8.7157e-04 - mean_absolute_error: 0.0217 - val_loss: 0.0035 - val_mean_squared_error: 0.0019 - val_mean_absolute_error: 0.0326\n",
      "Epoch 21/40\n",
      "7000/7000 [==============================] - 1s 101us/step - loss: 0.0027 - mean_squared_error: 0.0010 - mean_absolute_error: 0.0234 - val_loss: 0.0024 - val_mean_squared_error: 7.7422e-04 - val_mean_absolute_error: 0.0213\n",
      "Epoch 22/40\n",
      "7000/7000 [==============================] - 1s 104us/step - loss: 0.0025 - mean_squared_error: 8.4209e-04 - mean_absolute_error: 0.0213 - val_loss: 0.0026 - val_mean_squared_error: 0.0010 - val_mean_absolute_error: 0.0246\n",
      "Epoch 23/40\n",
      "7000/7000 [==============================] - 1s 117us/step - loss: 0.0025 - mean_squared_error: 8.6038e-04 - mean_absolute_error: 0.0215 - val_loss: 0.0024 - val_mean_squared_error: 8.0284e-04 - val_mean_absolute_error: 0.0198\n",
      "Epoch 24/40\n",
      "7000/7000 [==============================] - 1s 112us/step - loss: 0.0027 - mean_squared_error: 0.0011 - mean_absolute_error: 0.0241 - val_loss: 0.0025 - val_mean_squared_error: 8.7921e-04 - val_mean_absolute_error: 0.0206\n",
      "Epoch 25/40\n",
      "7000/7000 [==============================] - 1s 102us/step - loss: 0.0025 - mean_squared_error: 8.7336e-04 - mean_absolute_error: 0.0216 - val_loss: 0.0028 - val_mean_squared_error: 0.0012 - val_mean_absolute_error: 0.0234\n",
      "Epoch 26/40\n",
      "7000/7000 [==============================] - 1s 105us/step - loss: 0.0025 - mean_squared_error: 8.9243e-04 - mean_absolute_error: 0.0217 - val_loss: 0.0025 - val_mean_squared_error: 9.0522e-04 - val_mean_absolute_error: 0.0205\n",
      "Epoch 27/40\n",
      "7000/7000 [==============================] - 1s 106us/step - loss: 0.0027 - mean_squared_error: 0.0011 - mean_absolute_error: 0.0231 - val_loss: 0.0025 - val_mean_squared_error: 8.7783e-04 - val_mean_absolute_error: 0.0224\n",
      "Epoch 28/40\n",
      "7000/7000 [==============================] - 1s 105us/step - loss: 0.0024 - mean_squared_error: 8.0777e-04 - mean_absolute_error: 0.0209 - val_loss: 0.0026 - val_mean_squared_error: 9.8146e-04 - val_mean_absolute_error: 0.0242\n",
      "Epoch 29/40\n",
      "7000/7000 [==============================] - 1s 108us/step - loss: 0.0024 - mean_squared_error: 7.6285e-04 - mean_absolute_error: 0.0203 - val_loss: 0.0024 - val_mean_squared_error: 7.7046e-04 - val_mean_absolute_error: 0.0211\n",
      "Epoch 30/40\n",
      "7000/7000 [==============================] - 1s 107us/step - loss: 0.0025 - mean_squared_error: 9.1013e-04 - mean_absolute_error: 0.0218 - val_loss: 0.0023 - val_mean_squared_error: 7.4067e-04 - val_mean_absolute_error: 0.0199\n",
      "Epoch 31/40\n",
      "7000/7000 [==============================] - 1s 104us/step - loss: 0.0025 - mean_squared_error: 9.2516e-04 - mean_absolute_error: 0.0219 - val_loss: 0.0024 - val_mean_squared_error: 7.9966e-04 - val_mean_absolute_error: 0.0192\n",
      "Epoch 32/40\n",
      "7000/7000 [==============================] - 1s 99us/step - loss: 0.0024 - mean_squared_error: 7.6803e-04 - mean_absolute_error: 0.0203 - val_loss: 0.0023 - val_mean_squared_error: 7.6167e-04 - val_mean_absolute_error: 0.0194\n",
      "Epoch 33/40\n",
      "7000/7000 [==============================] - 1s 102us/step - loss: 0.0024 - mean_squared_error: 7.8642e-04 - mean_absolute_error: 0.0204 - val_loss: 0.0023 - val_mean_squared_error: 7.2578e-04 - val_mean_absolute_error: 0.0201\n",
      "Epoch 34/40\n",
      "7000/7000 [==============================] - 1s 107us/step - loss: 0.0024 - mean_squared_error: 8.1652e-04 - mean_absolute_error: 0.0208 - val_loss: 0.0024 - val_mean_squared_error: 7.8559e-04 - val_mean_absolute_error: 0.0208\n",
      "Epoch 35/40\n"
     ]
    },
    {
     "name": "stdout",
     "output_type": "stream",
     "text": [
      "7000/7000 [==============================] - 1s 102us/step - loss: 0.0024 - mean_squared_error: 8.2154e-04 - mean_absolute_error: 0.0207 - val_loss: 0.0024 - val_mean_squared_error: 7.7549e-04 - val_mean_absolute_error: 0.0208\n",
      "Epoch 36/40\n",
      "7000/7000 [==============================] - 1s 101us/step - loss: 0.0024 - mean_squared_error: 8.3870e-04 - mean_absolute_error: 0.0209 - val_loss: 0.0024 - val_mean_squared_error: 8.0919e-04 - val_mean_absolute_error: 0.0218\n",
      "Epoch 37/40\n",
      "7000/7000 [==============================] - 1s 102us/step - loss: 0.0024 - mean_squared_error: 8.2525e-04 - mean_absolute_error: 0.0208 - val_loss: 0.0023 - val_mean_squared_error: 7.1990e-04 - val_mean_absolute_error: 0.0198\n",
      "Epoch 38/40\n",
      "7000/7000 [==============================] - 1s 104us/step - loss: 0.0024 - mean_squared_error: 7.8195e-04 - mean_absolute_error: 0.0203 - val_loss: 0.0024 - val_mean_squared_error: 8.5112e-04 - val_mean_absolute_error: 0.0224\n",
      "Epoch 39/40\n",
      "7000/7000 [==============================] - 1s 105us/step - loss: 0.0025 - mean_squared_error: 9.4039e-04 - mean_absolute_error: 0.0218 - val_loss: 0.0025 - val_mean_squared_error: 9.6779e-04 - val_mean_absolute_error: 0.0206\n",
      "Epoch 40/40\n",
      "7000/7000 [==============================] - 1s 106us/step - loss: 0.0023 - mean_squared_error: 7.3714e-04 - mean_absolute_error: 0.0198 - val_loss: 0.0024 - val_mean_squared_error: 8.2186e-04 - val_mean_absolute_error: 0.0223\n"
     ]
    },
    {
     "data": {
      "image/png": "[encoded data removed]",
      "text/plain": [
       "<Figure size 432x288 with 1 Axes>"
      ]
     },
     "metadata": {
      "needs_background": "light"
     },
     "output_type": "display_data"
    },
    {
     "name": "stdout",
     "output_type": "stream",
     "text": [
      "7000/7000 [==============================] - 0s 33us/step\n",
      "1500/1500 [==============================] - 0s 33us/step\n",
      "1500/1500 [==============================] - 0s 34us/step\n",
      "MSE train: 0.00076, MSE test: 0.00081 MSE val: 0.00082\n",
      "Training Time: 29.4084370136261\n"
     ]
    }
   ],
   "source": [
    "N_channels = 30\n",
    "file_path = '/Users/jackkelly/Desktop/Building_Model/Data/30_channels_data_10000.csv'\n",
    "# file_path = '/Users/jackkelly/Desktop/Building_Model/Data/myfile.csv'\n",
    "model_30 = evaluate_model(N_channels, file_path)"
   ]
  },
  {
   "cell_type": "code",
   "execution_count": 9,
   "metadata": {},
   "outputs": [
    {
     "name": "stdout",
     "output_type": "stream",
     "text": [
      "(7000, 41) (1500, 41) (1500, 41) (7000, 40) (1500, 40) (1500, 40)\n",
      "Train on 7000 samples, validate on 1500 samples\n",
      "Epoch 1/40\n",
      "7000/7000 [==============================] - 1s 208us/step - loss: 0.1217 - mean_squared_error: 0.1203 - mean_absolute_error: 0.3047 - val_loss: 0.0731 - val_mean_squared_error: 0.0716 - val_mean_absolute_error: 0.2192\n",
      "Epoch 2/40\n",
      "7000/7000 [==============================] - 1s 75us/step - loss: 0.0449 - mean_squared_error: 0.0433 - mean_absolute_error: 0.1633 - val_loss: 0.0267 - val_mean_squared_error: 0.0250 - val_mean_absolute_error: 0.1236\n",
      "Epoch 3/40\n",
      "7000/7000 [==============================] - 1s 79us/step - loss: 0.0163 - mean_squared_error: 0.0146 - mean_absolute_error: 0.0931 - val_loss: 0.0108 - val_mean_squared_error: 0.0089 - val_mean_absolute_error: 0.0750\n",
      "Epoch 4/40\n",
      "7000/7000 [==============================] - 1s 79us/step - loss: 0.0077 - mean_squared_error: 0.0058 - mean_absolute_error: 0.0610 - val_loss: 0.0061 - val_mean_squared_error: 0.0042 - val_mean_absolute_error: 0.0522\n",
      "Epoch 5/40\n",
      "7000/7000 [==============================] - 1s 78us/step - loss: 0.0050 - mean_squared_error: 0.0030 - mean_absolute_error: 0.0449 - val_loss: 0.0046 - val_mean_squared_error: 0.0026 - val_mean_absolute_error: 0.0420\n",
      "Epoch 6/40\n",
      "7000/7000 [==============================] - 1s 85us/step - loss: 0.0039 - mean_squared_error: 0.0020 - mean_absolute_error: 0.0363 - val_loss: 0.0037 - val_mean_squared_error: 0.0017 - val_mean_absolute_error: 0.0346\n",
      "Epoch 7/40\n",
      "7000/7000 [==============================] - 1s 97us/step - loss: 0.0034 - mean_squared_error: 0.0014 - mean_absolute_error: 0.0307 - val_loss: 0.0032 - val_mean_squared_error: 0.0012 - val_mean_absolute_error: 0.0295\n",
      "Epoch 8/40\n",
      "7000/7000 [==============================] - 1s 93us/step - loss: 0.0030 - mean_squared_error: 9.8889e-04 - mean_absolute_error: 0.0260 - val_loss: 0.0030 - val_mean_squared_error: 0.0011 - val_mean_absolute_error: 0.0287\n",
      "Epoch 9/40\n",
      "7000/7000 [==============================] - 1s 93us/step - loss: 0.0027 - mean_squared_error: 7.3688e-04 - mean_absolute_error: 0.0224 - val_loss: 0.0027 - val_mean_squared_error: 6.8460e-04 - val_mean_absolute_error: 0.0208\n",
      "Epoch 10/40\n",
      "7000/7000 [==============================] - 1s 93us/step - loss: 0.0027 - mean_squared_error: 6.8484e-04 - mean_absolute_error: 0.0214 - val_loss: 0.0029 - val_mean_squared_error: 9.1723e-04 - val_mean_absolute_error: 0.0230\n",
      "Epoch 11/40\n",
      "7000/7000 [==============================] - 1s 88us/step - loss: 0.0027 - mean_squared_error: 6.5531e-04 - mean_absolute_error: 0.0207 - val_loss: 0.0027 - val_mean_squared_error: 7.0347e-04 - val_mean_absolute_error: 0.0228\n",
      "Epoch 12/40\n",
      "7000/7000 [==============================] - 1s 87us/step - loss: 0.0026 - mean_squared_error: 5.8514e-04 - mean_absolute_error: 0.0196 - val_loss: 0.0026 - val_mean_squared_error: 5.4640e-04 - val_mean_absolute_error: 0.0184\n",
      "Epoch 13/40\n",
      "7000/7000 [==============================] - 1s 86us/step - loss: 0.0026 - mean_squared_error: 5.7048e-04 - mean_absolute_error: 0.0191 - val_loss: 0.0025 - val_mean_squared_error: 5.4234e-04 - val_mean_absolute_error: 0.0184\n",
      "Epoch 14/40\n",
      "7000/7000 [==============================] - 1s 84us/step - loss: 0.0026 - mean_squared_error: 5.6924e-04 - mean_absolute_error: 0.0190 - val_loss: 0.0025 - val_mean_squared_error: 5.3731e-04 - val_mean_absolute_error: 0.0179\n",
      "Epoch 15/40\n",
      "7000/7000 [==============================] - 1s 84us/step - loss: 0.0026 - mean_squared_error: 5.7144e-04 - mean_absolute_error: 0.0189 - val_loss: 0.0027 - val_mean_squared_error: 6.8640e-04 - val_mean_absolute_error: 0.0193\n",
      "Epoch 16/40\n",
      "7000/7000 [==============================] - 1s 82us/step - loss: 0.0026 - mean_squared_error: 6.0485e-04 - mean_absolute_error: 0.0193 - val_loss: 0.0025 - val_mean_squared_error: 5.1570e-04 - val_mean_absolute_error: 0.0173\n",
      "Epoch 17/40\n",
      "7000/7000 [==============================] - 1s 84us/step - loss: 0.0025 - mean_squared_error: 4.9857e-04 - mean_absolute_error: 0.0176 - val_loss: 0.0025 - val_mean_squared_error: 4.8791e-04 - val_mean_absolute_error: 0.0174\n",
      "Epoch 18/40\n",
      "7000/7000 [==============================] - 1s 86us/step - loss: 0.0026 - mean_squared_error: 5.9363e-04 - mean_absolute_error: 0.0190 - val_loss: 0.0025 - val_mean_squared_error: 4.7879e-04 - val_mean_absolute_error: 0.0168\n",
      "Epoch 19/40\n",
      "7000/7000 [==============================] - 1s 88us/step - loss: 0.0025 - mean_squared_error: 5.3181e-04 - mean_absolute_error: 0.0180 - val_loss: 0.0025 - val_mean_squared_error: 4.9859e-04 - val_mean_absolute_error: 0.0176\n",
      "Epoch 20/40\n",
      "7000/7000 [==============================] - 1s 92us/step - loss: 0.0027 - mean_squared_error: 7.4704e-04 - mean_absolute_error: 0.0207 - val_loss: 0.0026 - val_mean_squared_error: 5.9138e-04 - val_mean_absolute_error: 0.0177\n",
      "Epoch 21/40\n",
      "7000/7000 [==============================] - 1s 89us/step - loss: 0.0025 - mean_squared_error: 5.1164e-04 - mean_absolute_error: 0.0176 - val_loss: 0.0025 - val_mean_squared_error: 4.6326e-04 - val_mean_absolute_error: 0.0162\n",
      "Epoch 22/40\n",
      "7000/7000 [==============================] - 1s 90us/step - loss: 0.0025 - mean_squared_error: 5.3521e-04 - mean_absolute_error: 0.0179 - val_loss: 0.0026 - val_mean_squared_error: 5.6674e-04 - val_mean_absolute_error: 0.0195\n",
      "Epoch 23/40\n",
      "7000/7000 [==============================] - 1s 93us/step - loss: 0.0025 - mean_squared_error: 4.9221e-04 - mean_absolute_error: 0.0172 - val_loss: 0.0025 - val_mean_squared_error: 5.5945e-04 - val_mean_absolute_error: 0.0193\n",
      "Epoch 24/40\n",
      "7000/7000 [==============================] - 1s 92us/step - loss: 0.0024 - mean_squared_error: 4.6154e-04 - mean_absolute_error: 0.0166 - val_loss: 0.0024 - val_mean_squared_error: 4.5084e-04 - val_mean_absolute_error: 0.0163\n",
      "Epoch 25/40\n",
      "7000/7000 [==============================] - 1s 92us/step - loss: 0.0026 - mean_squared_error: 5.9988e-04 - mean_absolute_error: 0.0185 - val_loss: 0.0025 - val_mean_squared_error: 5.5515e-04 - val_mean_absolute_error: 0.0192\n",
      "Epoch 26/40\n",
      "7000/7000 [==============================] - 1s 100us/step - loss: 0.0025 - mean_squared_error: 5.0199e-04 - mean_absolute_error: 0.0173 - val_loss: 0.0027 - val_mean_squared_error: 6.8823e-04 - val_mean_absolute_error: 0.0217\n",
      "Epoch 27/40\n",
      "7000/7000 [==============================] - 1s 99us/step - loss: 0.0025 - mean_squared_error: 5.0263e-04 - mean_absolute_error: 0.0172 - val_loss: 0.0029 - val_mean_squared_error: 8.8815e-04 - val_mean_absolute_error: 0.0248\n",
      "Epoch 28/40\n",
      "7000/7000 [==============================] - 1s 93us/step - loss: 0.0025 - mean_squared_error: 4.9929e-04 - mean_absolute_error: 0.0172 - val_loss: 0.0024 - val_mean_squared_error: 4.4452e-04 - val_mean_absolute_error: 0.0156\n",
      "Epoch 29/40\n",
      "7000/7000 [==============================] - 1s 90us/step - loss: 0.0026 - mean_squared_error: 6.0876e-04 - mean_absolute_error: 0.0186 - val_loss: 0.0025 - val_mean_squared_error: 5.4111e-04 - val_mean_absolute_error: 0.0190\n",
      "Epoch 30/40\n",
      "7000/7000 [==============================] - 1s 84us/step - loss: 0.0024 - mean_squared_error: 4.5507e-04 - mean_absolute_error: 0.0165 - val_loss: 0.0026 - val_mean_squared_error: 6.0257e-04 - val_mean_absolute_error: 0.0205\n",
      "Epoch 31/40\n",
      "7000/7000 [==============================] - 1s 83us/step - loss: 0.0024 - mean_squared_error: 4.5531e-04 - mean_absolute_error: 0.0164 - val_loss: 0.0024 - val_mean_squared_error: 4.6306e-04 - val_mean_absolute_error: 0.0158\n",
      "Epoch 32/40\n",
      "7000/7000 [==============================] - 1s 85us/step - loss: 0.0025 - mean_squared_error: 5.2776e-04 - mean_absolute_error: 0.0175 - val_loss: 0.0024 - val_mean_squared_error: 4.3903e-04 - val_mean_absolute_error: 0.0162\n",
      "Epoch 33/40\n",
      "7000/7000 [==============================] - 1s 83us/step - loss: 0.0025 - mean_squared_error: 5.5772e-04 - mean_absolute_error: 0.0179 - val_loss: 0.0024 - val_mean_squared_error: 4.6802e-04 - val_mean_absolute_error: 0.0166\n",
      "Epoch 34/40\n",
      "7000/7000 [==============================] - 1s 82us/step - loss: 0.0025 - mean_squared_error: 5.0707e-04 - mean_absolute_error: 0.0171 - val_loss: 0.0026 - val_mean_squared_error: 6.2045e-04 - val_mean_absolute_error: 0.0177\n",
      "Epoch 35/40\n"
     ]
    },
    {
     "name": "stdout",
     "output_type": "stream",
     "text": [
      "7000/7000 [==============================] - 1s 83us/step - loss: 0.0025 - mean_squared_error: 5.5152e-04 - mean_absolute_error: 0.0179 - val_loss: 0.0025 - val_mean_squared_error: 5.6593e-04 - val_mean_absolute_error: 0.0170\n",
      "Epoch 36/40\n",
      "7000/7000 [==============================] - 1s 86us/step - loss: 0.0024 - mean_squared_error: 4.8220e-04 - mean_absolute_error: 0.0168 - val_loss: 0.0024 - val_mean_squared_error: 4.3978e-04 - val_mean_absolute_error: 0.0157\n",
      "Epoch 37/40\n",
      "7000/7000 [==============================] - 1s 87us/step - loss: 0.0024 - mean_squared_error: 4.6603e-04 - mean_absolute_error: 0.0166 - val_loss: 0.0029 - val_mean_squared_error: 9.9678e-04 - val_mean_absolute_error: 0.0262\n",
      "Epoch 38/40\n",
      "7000/7000 [==============================] - 1s 86us/step - loss: 0.0025 - mean_squared_error: 6.0062e-04 - mean_absolute_error: 0.0186 - val_loss: 0.0025 - val_mean_squared_error: 6.1677e-04 - val_mean_absolute_error: 0.0205\n",
      "Epoch 39/40\n",
      "7000/7000 [==============================] - 1s 87us/step - loss: 0.0024 - mean_squared_error: 4.4724e-04 - mean_absolute_error: 0.0163 - val_loss: 0.0024 - val_mean_squared_error: 4.7741e-04 - val_mean_absolute_error: 0.0162\n",
      "Epoch 40/40\n",
      "7000/7000 [==============================] - 1s 85us/step - loss: 0.0025 - mean_squared_error: 5.3679e-04 - mean_absolute_error: 0.0177 - val_loss: 0.0025 - val_mean_squared_error: 5.4704e-04 - val_mean_absolute_error: 0.0191\n"
     ]
    },
    {
     "data": {
      "image/png": "[encoded data removed]",
      "text/plain": [
       "<Figure size 432x288 with 1 Axes>"
      ]
     },
     "metadata": {
      "needs_background": "light"
     },
     "output_type": "display_data"
    },
    {
     "name": "stdout",
     "output_type": "stream",
     "text": [
      "7000/7000 [==============================] - 0s 36us/step\n",
      "1500/1500 [==============================] - 0s 36us/step\n",
      "1500/1500 [==============================] - 0s 38us/step\n",
      "MSE train: 0.00053, MSE test: 0.00054 MSE val: 0.00055\n",
      "Training Time: 25.854641914367676\n"
     ]
    }
   ],
   "source": [
    "N_channels = 40\n",
    "file_path = '/Users/jackkelly/Desktop/Building_Model/Data/40_channels_data_10000.csv'\n",
    "model_40 = evaluate_model(N_channels, file_path)"
   ]
  },
  {
   "cell_type": "code",
   "execution_count": 10,
   "metadata": {},
   "outputs": [],
   "source": [
    "# filename = \"30_channels_ANN_model.h5\"\n",
    "\n",
    "# with h5py.File(filename, \"r\") as f:\n",
    "#     # List all groups\n",
    "#     print(\"Keys: %s\" % f.keys())\n",
    "#     a_group_key = list(f.keys())[0]\n",
    "\n",
    "#     # Get the data\n",
    "#     data = list(f[a_group_key])\n",
    "#     print(data)"
   ]
  },
  {
   "cell_type": "code",
   "execution_count": 11,
   "metadata": {},
   "outputs": [
    {
     "name": "stdout",
     "output_type": "stream",
     "text": [
      "<keras.engine.sequential.Sequential object at 0x7ff5ce17cba8>\n",
      "<keras.engine.sequential.Sequential object at 0x7ff5be724550>\n"
     ]
    }
   ],
   "source": [
    "print(model_30)\n",
    "print(model_40)"
   ]
  }
 ],
 "metadata": {
  "kernelspec": {
   "display_name": "Python 3",
   "language": "python",
   "name": "python3"
  },
  "language_info": {
   "codemirror_mode": {
    "name": "ipython",
    "version": 3
   },
   "file_extension": ".py",
   "mimetype": "text/x-python",
   "name": "python",
   "nbconvert_exporter": "python",
   "pygments_lexer": "ipython3",
   "version": "3.6.10"
  }
 },
 "nbformat": 4,
 "nbformat_minor": 4
}
