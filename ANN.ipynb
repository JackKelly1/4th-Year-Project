{
 "cells": [
  {
   "cell_type": "markdown",
   "metadata": {},
   "source": [
    "# Processing the data"
   ]
  },
  {
   "cell_type": "code",
   "execution_count": 1,
   "metadata": {},
   "outputs": [
    {
     "name": "stderr",
     "output_type": "stream",
     "text": [
      "Using TensorFlow backend.\n"
     ]
    }
   ],
   "source": [
    "import tensorflow as tf\n",
    "import pandas as pd\n",
    "from sklearn import preprocessing\n",
    "from sklearn.model_selection import train_test_split\n",
    "from sklearn.utils import shuffle\n",
    "from keras.models import Sequential\n",
    "from keras.layers import Dense\n",
    "from keras import regularizers\n",
    "from tensorflow import keras\n",
    "import matplotlib.pyplot as plt\n",
    "import numpy as np\n",
    "import time\n",
    "import h5py"
   ]
  },
  {
   "cell_type": "code",
   "execution_count": 2,
   "metadata": {},
   "outputs": [],
   "source": [
    "# Reproducibility\n",
    "seed = 8 # arbitrary number\n",
    "np.random.seed(seed=seed)\n",
    "tf.random.set_seed(seed=seed)"
   ]
  },
  {
   "cell_type": "code",
   "execution_count": 3,
   "metadata": {},
   "outputs": [
    {
     "name": "stdout",
     "output_type": "stream",
     "text": [
      "CPUs Available:  1\n",
      "GPUs Available:  0\n"
     ]
    }
   ],
   "source": [
    "physical_devices_cpu = tf.config.experimental.list_physical_devices('CPU')\n",
    "print('CPUs Available: ' ,len(physical_devices_cpu))\n",
    "physical_devices_gpu = tf.config.experimental.list_physical_devices('GPU')\n",
    "print('GPUs Available: ' ,len(physical_devices_gpu))"
   ]
  },
  {
   "cell_type": "code",
   "execution_count": 4,
   "metadata": {},
   "outputs": [],
   "source": [
    "def processing_data_full(N_channels, file_path):\n",
    "    df = pd.read_csv(file_path)\n",
    "    # dataset\n",
    "    dataset = df.values\n",
    "    # input power and channels statuses\n",
    "    X = dataset[0:10000,0:N_channels+1]\n",
    "    # channel SNRs\n",
    "    Y = dataset[0:10000,N_channels+1:2*N_channels+1]\n",
    "    # shuffle necessary because while shuffle=True in .fit() shuffles the data, it splits into different datasets first\n",
    "    X, Y = shuffle(X, Y)\n",
    "    # scaling between 0 and 1\n",
    "    min_max_scaler = preprocessing.MinMaxScaler()\n",
    "    X_scale = min_max_scaler.fit_transform(X)\n",
    "    Y_scale = min_max_scaler.fit_transform(Y)\n",
    "    X_train, X_val_and_test, Y_train, Y_val_and_test = train_test_split(X_scale, Y_scale, test_size=0.3)\n",
    "    X_val, X_test, Y_val, Y_test = train_test_split(X_val_and_test, Y_val_and_test, test_size=0.5)\n",
    "    print(X_train.shape, X_val.shape, X_test.shape, Y_train.shape, Y_val.shape, Y_test.shape)\n",
    "    return X_train, Y_train, X_val, Y_val, X_test, Y_test"
   ]
  },
  {
   "cell_type": "code",
   "execution_count": 41,
   "metadata": {},
   "outputs": [],
   "source": [
    "def processing_data_blocks(N_channels, file_path):\n",
    "    df = pd.read_csv(file_path)\n",
    "    # dataset\n",
    "    dataset = df.values\n",
    "#     print(dataset)\n",
    "    block_number = 10000//N_channels\n",
    "    X = dataset[0:block_number,0:N_channels+1]\n",
    "    # input power and channels statuses\n",
    "#     # channel SNRs\n",
    "    Y = dataset[0:block_number,N_channels+1:2*N_channels+1]\n",
    "#     # shuffle necessary because while shuffle=True in .fit() shuffles the data, it splits into different datasets first\n",
    "    X, Y = shuffle(X, Y)\n",
    "#     # scaling between 0 and 1\n",
    "    min_max_scaler = preprocessing.MinMaxScaler()\n",
    "    X_scale = min_max_scaler.fit_transform(X)\n",
    "    Y_scale = min_max_scaler.fit_transform(Y)\n",
    "    X_train, X_val, Y_train, Y_val = train_test_split(X_scale, Y_scale, test_size=0.15)\n",
    "#     X_val, X_test, Y_val, Y_test = train_test_split(X_val_and_test, Y_val_and_test, test_size=0.5)\n",
    "    print(X_train.shape, X_val.shape, X_test.shape, Y_train.shape, Y_val.shape, Y_test.shape)\n",
    "    return X_train, Y_train, X_val, Y_val"
   ]
  },
  {
   "cell_type": "code",
   "execution_count": 42,
   "metadata": {},
   "outputs": [
    {
     "name": "stdout",
     "output_type": "stream",
     "text": [
      "250\n",
      "[[8.02       1.         0.         ... 0.         0.         7.68690191]\n",
      " [8.1        0.         0.         ... 0.         0.         0.        ]\n",
      " [8.46       0.         0.         ... 0.         0.         0.        ]\n",
      " ...\n",
      " [8.88       0.         0.         ... 0.         0.         0.        ]\n",
      " [8.32       0.         0.         ... 0.         0.         0.        ]\n",
      " [8.58       0.         0.         ... 0.         0.         0.        ]]\n"
     ]
    }
   ],
   "source": [
    "N_channels = 40\n",
    "file_path = '/Users/jackkelly/Desktop/Building_Model/Data/40_channels_split_10000.csv'\n",
    "processing_data_blocks(N_channels, file_path)"
   ]
  },
  {
   "cell_type": "markdown",
   "metadata": {},
   "source": [
    "# Visualising the Model"
   ]
  },
  {
   "cell_type": "code",
   "execution_count": 6,
   "metadata": {},
   "outputs": [],
   "source": [
    "def visualising_data(hist):\n",
    "    plt.title('Mean Squared Error')\n",
    "    plt.plot(hist.history['mean_squared_error'], label='Train')\n",
    "    plt.plot(hist.history['val_loss'], label='Test')\n",
    "    plt.legend()\n",
    "    plt.show()"
   ]
  },
  {
   "cell_type": "markdown",
   "metadata": {},
   "source": [
    "# Building the ANN"
   ]
  },
  {
   "cell_type": "code",
   "execution_count": 7,
   "metadata": {},
   "outputs": [],
   "source": [
    "def build_model(N_channels, file_path):\n",
    "    X_train, Y_train, X_val, Y_val, X_test, Y_test = processing_data_full(N_channels, file_path)\n",
    "    model = Sequential()\n",
    "#     kernel_regularizer=regularizers.l2(0.00001)  - ADD THIS AT SOME POINT\n",
    "    model.add(Dense(80, activation='relu', kernel_regularizer=regularizers.l1(0.000001), input_dim=N_channels+1))\n",
    "    model.add(Dense(80, activation='relu', kernel_regularizer=regularizers.l1(0.000001)))\n",
    "    model.add(Dense(N_channels, activation='sigmoid', kernel_regularizer=regularizers.l1(0.000001)))\n",
    "    # learning_rate=0.1 causes zig-zags, learning_rate=0.0001 is far too slow\n",
    "#     opt = keras.optimizers.Adam(learning_rate=0.001) - doesn't allow model to be saved as h5 model for some reason\n",
    "    opt = 'adam'\n",
    "    model.compile(optimizer=opt, loss='mean_squared_error', metrics=['mean_squared_error', 'mean_absolute_error'])\n",
    "    # fit as we are fitting the parameters to the data\n",
    "    # verbose shows how much info is shown during model fitting\n",
    "    # shuffle by default set to true so this is for visual purposes\n",
    "    start_time = time.time()\n",
    "    hist = model.fit(X_train, Y_train, validation_data=(X_val, Y_val), epochs=40, shuffle=True, verbose=1, batch_size=N_channels+1)\n",
    "    training_time = time.time() - start_time\n",
    "    print(\"Training Time: %s\" % (training_time))\n",
    "    return hist, model, X_train, Y_train, X_val, Y_val, X_test, Y_test"
   ]
  },
  {
   "cell_type": "code",
   "execution_count": 8,
   "metadata": {},
   "outputs": [],
   "source": [
    "def evaluate_model(model, hist):\n",
    "    visualising_data(hist)\n",
    "    #0 = loss, 1 = accuracy\n",
    "    train_mse = (model.evaluate(X_train, Y_train, verbose=1))[1]\n",
    "    test_mse = (model.evaluate(X_test, Y_test, verbose=1))[1]\n",
    "    val_mse = (model.evaluate(X_val, Y_val, verbose=1))[1]\n",
    "    model.save('/Users/jackkelly/Desktop/Building_Model/' + str(N_channels) + '_channels_ANN_model.h5')\n",
    "    print('MSE train: %.5f, MSE test: %.5f MSE val: %.5f' % (train_mse, test_mse, val_mse))"
   ]
  },
  {
   "cell_type": "code",
   "execution_count": 9,
   "metadata": {},
   "outputs": [
    {
     "name": "stdout",
     "output_type": "stream",
     "text": [
      "(7000, 31) (1500, 31) (1500, 31) (7000, 30) (1500, 30) (1500, 30)\n",
      "Train on 7000 samples, validate on 1500 samples\n",
      "Epoch 1/40\n",
      "7000/7000 [==============================] - 2s 218us/step - loss: 0.0824 - mean_squared_error: 0.0812 - mean_absolute_error: 0.2412 - val_loss: 0.0335 - val_mean_squared_error: 0.0321 - val_mean_absolute_error: 0.1477\n",
      "Epoch 2/40\n",
      "7000/7000 [==============================] - 1s 93us/step - loss: 0.0170 - mean_squared_error: 0.0155 - mean_absolute_error: 0.0996 - val_loss: 0.0087 - val_mean_squared_error: 0.0072 - val_mean_absolute_error: 0.0693\n",
      "Epoch 3/40\n",
      "7000/7000 [==============================] - 1s 94us/step - loss: 0.0056 - mean_squared_error: 0.0040 - mean_absolute_error: 0.0509 - val_loss: 0.0041 - val_mean_squared_error: 0.0025 - val_mean_absolute_error: 0.0400\n",
      "Epoch 4/40\n",
      "7000/7000 [==============================] - 1s 97us/step - loss: 0.0035 - mean_squared_error: 0.0019 - mean_absolute_error: 0.0349 - val_loss: 0.0031 - val_mean_squared_error: 0.0015 - val_mean_absolute_error: 0.0303\n",
      "Epoch 5/40\n",
      "7000/7000 [==============================] - 1s 95us/step - loss: 0.0030 - mean_squared_error: 0.0014 - mean_absolute_error: 0.0296 - val_loss: 0.0028 - val_mean_squared_error: 0.0012 - val_mean_absolute_error: 0.0284\n",
      "Epoch 6/40\n",
      "7000/7000 [==============================] - 1s 95us/step - loss: 0.0029 - mean_squared_error: 0.0013 - mean_absolute_error: 0.0282 - val_loss: 0.0033 - val_mean_squared_error: 0.0016 - val_mean_absolute_error: 0.0300\n",
      "Epoch 7/40\n",
      "7000/7000 [==============================] - 1s 95us/step - loss: 0.0028 - mean_squared_error: 0.0011 - mean_absolute_error: 0.0260 - val_loss: 0.0028 - val_mean_squared_error: 0.0011 - val_mean_absolute_error: 0.0241\n",
      "Epoch 8/40\n",
      "7000/7000 [==============================] - 1s 95us/step - loss: 0.0029 - mean_squared_error: 0.0013 - mean_absolute_error: 0.0271 - val_loss: 0.0026 - val_mean_squared_error: 9.9556e-04 - val_mean_absolute_error: 0.0243\n",
      "Epoch 9/40\n",
      "7000/7000 [==============================] - 1s 97us/step - loss: 0.0028 - mean_squared_error: 0.0012 - mean_absolute_error: 0.0261 - val_loss: 0.0036 - val_mean_squared_error: 0.0020 - val_mean_absolute_error: 0.0350\n",
      "Epoch 10/40\n",
      "7000/7000 [==============================] - 1s 95us/step - loss: 0.0026 - mean_squared_error: 9.8201e-04 - mean_absolute_error: 0.0238 - val_loss: 0.0025 - val_mean_squared_error: 8.7854e-04 - val_mean_absolute_error: 0.0229\n",
      "Epoch 11/40\n",
      "7000/7000 [==============================] - 1s 98us/step - loss: 0.0027 - mean_squared_error: 0.0010 - mean_absolute_error: 0.0242 - val_loss: 0.0025 - val_mean_squared_error: 9.1087e-04 - val_mean_absolute_error: 0.0233\n",
      "Epoch 12/40\n",
      "7000/7000 [==============================] - 1s 96us/step - loss: 0.0027 - mean_squared_error: 0.0011 - mean_absolute_error: 0.0241 - val_loss: 0.0025 - val_mean_squared_error: 9.0265e-04 - val_mean_absolute_error: 0.0235\n",
      "Epoch 13/40\n",
      "7000/7000 [==============================] - 1s 96us/step - loss: 0.0026 - mean_squared_error: 9.5222e-04 - mean_absolute_error: 0.0230 - val_loss: 0.0025 - val_mean_squared_error: 8.4460e-04 - val_mean_absolute_error: 0.0223\n",
      "Epoch 14/40\n",
      "7000/7000 [==============================] - 1s 99us/step - loss: 0.0025 - mean_squared_error: 8.9409e-04 - mean_absolute_error: 0.0223 - val_loss: 0.0025 - val_mean_squared_error: 8.6355e-04 - val_mean_absolute_error: 0.0228\n",
      "Epoch 15/40\n",
      "7000/7000 [==============================] - 1s 103us/step - loss: 0.0025 - mean_squared_error: 8.4838e-04 - mean_absolute_error: 0.0217 - val_loss: 0.0024 - val_mean_squared_error: 8.1646e-04 - val_mean_absolute_error: 0.0211\n",
      "Epoch 16/40\n",
      "7000/7000 [==============================] - 1s 104us/step - loss: 0.0025 - mean_squared_error: 8.7081e-04 - mean_absolute_error: 0.0219 - val_loss: 0.0025 - val_mean_squared_error: 8.7427e-04 - val_mean_absolute_error: 0.0231\n",
      "Epoch 17/40\n",
      "7000/7000 [==============================] - 1s 106us/step - loss: 0.0027 - mean_squared_error: 0.0011 - mean_absolute_error: 0.0236 - val_loss: 0.0025 - val_mean_squared_error: 8.3618e-04 - val_mean_absolute_error: 0.0223\n",
      "Epoch 18/40\n",
      "7000/7000 [==============================] - 1s 108us/step - loss: 0.0025 - mean_squared_error: 8.9806e-04 - mean_absolute_error: 0.0220 - val_loss: 0.0027 - val_mean_squared_error: 0.0011 - val_mean_absolute_error: 0.0223\n",
      "Epoch 19/40\n",
      "7000/7000 [==============================] - 1s 104us/step - loss: 0.0027 - mean_squared_error: 0.0011 - mean_absolute_error: 0.0234 - val_loss: 0.0026 - val_mean_squared_error: 9.6659e-04 - val_mean_absolute_error: 0.0215\n",
      "Epoch 20/40\n",
      "7000/7000 [==============================] - 1s 102us/step - loss: 0.0025 - mean_squared_error: 8.7155e-04 - mean_absolute_error: 0.0217 - val_loss: 0.0035 - val_mean_squared_error: 0.0019 - val_mean_absolute_error: 0.0326\n",
      "Epoch 21/40\n",
      "7000/7000 [==============================] - 1s 103us/step - loss: 0.0027 - mean_squared_error: 0.0010 - mean_absolute_error: 0.0234 - val_loss: 0.0024 - val_mean_squared_error: 7.7441e-04 - val_mean_absolute_error: 0.0213\n",
      "Epoch 22/40\n",
      "7000/7000 [==============================] - 1s 102us/step - loss: 0.0025 - mean_squared_error: 8.4213e-04 - mean_absolute_error: 0.0213 - val_loss: 0.0026 - val_mean_squared_error: 0.0010 - val_mean_absolute_error: 0.0247\n",
      "Epoch 23/40\n",
      "7000/7000 [==============================] - 1s 103us/step - loss: 0.0025 - mean_squared_error: 8.6032e-04 - mean_absolute_error: 0.0215 - val_loss: 0.0024 - val_mean_squared_error: 8.0220e-04 - val_mean_absolute_error: 0.0198\n",
      "Epoch 24/40\n",
      "7000/7000 [==============================] - 1s 104us/step - loss: 0.0027 - mean_squared_error: 0.0011 - mean_absolute_error: 0.0241 - val_loss: 0.0025 - val_mean_squared_error: 8.8013e-04 - val_mean_absolute_error: 0.0206\n",
      "Epoch 25/40\n",
      "7000/7000 [==============================] - 1s 102us/step - loss: 0.0025 - mean_squared_error: 8.7348e-04 - mean_absolute_error: 0.0216 - val_loss: 0.0028 - val_mean_squared_error: 0.0012 - val_mean_absolute_error: 0.0234\n",
      "Epoch 26/40\n",
      "7000/7000 [==============================] - 1s 104us/step - loss: 0.0025 - mean_squared_error: 8.9252e-04 - mean_absolute_error: 0.0217 - val_loss: 0.0025 - val_mean_squared_error: 9.0464e-04 - val_mean_absolute_error: 0.0205\n",
      "Epoch 27/40\n",
      "7000/7000 [==============================] - 1s 102us/step - loss: 0.0027 - mean_squared_error: 0.0011 - mean_absolute_error: 0.0231 - val_loss: 0.0025 - val_mean_squared_error: 8.7726e-04 - val_mean_absolute_error: 0.0224\n",
      "Epoch 28/40\n",
      "7000/7000 [==============================] - 1s 103us/step - loss: 0.0024 - mean_squared_error: 8.0803e-04 - mean_absolute_error: 0.0209 - val_loss: 0.0026 - val_mean_squared_error: 9.8107e-04 - val_mean_absolute_error: 0.0242\n",
      "Epoch 29/40\n",
      "7000/7000 [==============================] - 1s 102us/step - loss: 0.0024 - mean_squared_error: 7.6263e-04 - mean_absolute_error: 0.0203 - val_loss: 0.0024 - val_mean_squared_error: 7.7090e-04 - val_mean_absolute_error: 0.0212\n",
      "Epoch 30/40\n",
      "7000/7000 [==============================] - 1s 103us/step - loss: 0.0025 - mean_squared_error: 9.1024e-04 - mean_absolute_error: 0.0218 - val_loss: 0.0023 - val_mean_squared_error: 7.4054e-04 - val_mean_absolute_error: 0.0198\n",
      "Epoch 31/40\n",
      "7000/7000 [==============================] - 1s 103us/step - loss: 0.0025 - mean_squared_error: 9.2487e-04 - mean_absolute_error: 0.0219 - val_loss: 0.0024 - val_mean_squared_error: 7.9959e-04 - val_mean_absolute_error: 0.0192\n",
      "Epoch 32/40\n",
      "7000/7000 [==============================] - 1s 104us/step - loss: 0.0024 - mean_squared_error: 7.6796e-04 - mean_absolute_error: 0.0203 - val_loss: 0.0023 - val_mean_squared_error: 7.6115e-04 - val_mean_absolute_error: 0.0193\n",
      "Epoch 33/40\n",
      "7000/7000 [==============================] - 1s 102us/step - loss: 0.0024 - mean_squared_error: 7.8626e-04 - mean_absolute_error: 0.0204 - val_loss: 0.0023 - val_mean_squared_error: 7.2531e-04 - val_mean_absolute_error: 0.0201\n",
      "Epoch 34/40\n",
      "7000/7000 [==============================] - 1s 103us/step - loss: 0.0024 - mean_squared_error: 8.1655e-04 - mean_absolute_error: 0.0208 - val_loss: 0.0024 - val_mean_squared_error: 7.8554e-04 - val_mean_absolute_error: 0.0208\n",
      "Epoch 35/40\n"
     ]
    },
    {
     "name": "stdout",
     "output_type": "stream",
     "text": [
      "7000/7000 [==============================] - 1s 103us/step - loss: 0.0024 - mean_squared_error: 8.2152e-04 - mean_absolute_error: 0.0207 - val_loss: 0.0024 - val_mean_squared_error: 7.7485e-04 - val_mean_absolute_error: 0.0208\n",
      "Epoch 36/40\n",
      "7000/7000 [==============================] - 1s 101us/step - loss: 0.0024 - mean_squared_error: 8.3879e-04 - mean_absolute_error: 0.0209 - val_loss: 0.0024 - val_mean_squared_error: 8.0921e-04 - val_mean_absolute_error: 0.0218\n",
      "Epoch 37/40\n",
      "7000/7000 [==============================] - 1s 102us/step - loss: 0.0024 - mean_squared_error: 8.2515e-04 - mean_absolute_error: 0.0208 - val_loss: 0.0023 - val_mean_squared_error: 7.2016e-04 - val_mean_absolute_error: 0.0198\n",
      "Epoch 38/40\n",
      "7000/7000 [==============================] - 1s 101us/step - loss: 0.0024 - mean_squared_error: 7.8157e-04 - mean_absolute_error: 0.0203 - val_loss: 0.0024 - val_mean_squared_error: 8.5251e-04 - val_mean_absolute_error: 0.0224\n",
      "Epoch 39/40\n",
      "7000/7000 [==============================] - 1s 103us/step - loss: 0.0025 - mean_squared_error: 9.4044e-04 - mean_absolute_error: 0.0218 - val_loss: 0.0025 - val_mean_squared_error: 9.6875e-04 - val_mean_absolute_error: 0.0206\n",
      "Epoch 40/40\n",
      "7000/7000 [==============================] - 1s 102us/step - loss: 0.0023 - mean_squared_error: 7.3706e-04 - mean_absolute_error: 0.0198 - val_loss: 0.0024 - val_mean_squared_error: 8.2195e-04 - val_mean_absolute_error: 0.0223\n",
      "Training Time: 29.48386788368225\n"
     ]
    },
    {
     "data": {
      "image/png": "[encoded data removed]",
      "text/plain": [
       "<Figure size 432x288 with 1 Axes>"
      ]
     },
     "metadata": {
      "needs_background": "light"
     },
     "output_type": "display_data"
    },
    {
     "name": "stdout",
     "output_type": "stream",
     "text": [
      "7000/7000 [==============================] - 0s 33us/step\n",
      "1500/1500 [==============================] - 0s 33us/step\n",
      "1500/1500 [==============================] - 0s 34us/step\n",
      "MSE train: 0.00076, MSE test: 0.00081 MSE val: 0.00082\n"
     ]
    }
   ],
   "source": [
    "N_channels = 30\n",
    "file_path = '/Users/jackkelly/Desktop/Building_Model/Data/30_channels_data_10000.csv'\n",
    "hist, model, X_train, Y_train, X_val, Y_val, X_test, Y_test = build_model(N_channels, file_path)\n",
    "model = evaluate_model(model, hist)"
   ]
  },
  {
   "cell_type": "code",
   "execution_count": 10,
   "metadata": {},
   "outputs": [
    {
     "name": "stdout",
     "output_type": "stream",
     "text": [
      "(7000, 41) (1500, 41) (1500, 41) (7000, 40) (1500, 40) (1500, 40)\n",
      "Train on 7000 samples, validate on 1500 samples\n",
      "Epoch 1/40\n",
      "7000/7000 [==============================] - 1s 183us/step - loss: 0.1217 - mean_squared_error: 0.1203 - mean_absolute_error: 0.3048 - val_loss: 0.0732 - val_mean_squared_error: 0.0717 - val_mean_absolute_error: 0.2192\n",
      "Epoch 2/40\n",
      "7000/7000 [==============================] - 1s 75us/step - loss: 0.0449 - mean_squared_error: 0.0433 - mean_absolute_error: 0.1633 - val_loss: 0.0264 - val_mean_squared_error: 0.0247 - val_mean_absolute_error: 0.1230\n",
      "Epoch 3/40\n",
      "7000/7000 [==============================] - 1s 77us/step - loss: 0.0161 - mean_squared_error: 0.0144 - mean_absolute_error: 0.0925 - val_loss: 0.0107 - val_mean_squared_error: 0.0089 - val_mean_absolute_error: 0.0748\n",
      "Epoch 4/40\n",
      "7000/7000 [==============================] - 1s 75us/step - loss: 0.0077 - mean_squared_error: 0.0058 - mean_absolute_error: 0.0610 - val_loss: 0.0062 - val_mean_squared_error: 0.0043 - val_mean_absolute_error: 0.0525\n",
      "Epoch 5/40\n",
      "7000/7000 [==============================] - 1s 80us/step - loss: 0.0050 - mean_squared_error: 0.0031 - mean_absolute_error: 0.0451 - val_loss: 0.0046 - val_mean_squared_error: 0.0027 - val_mean_absolute_error: 0.0425\n",
      "Epoch 6/40\n",
      "7000/7000 [==============================] - 1s 89us/step - loss: 0.0040 - mean_squared_error: 0.0020 - mean_absolute_error: 0.0364 - val_loss: 0.0037 - val_mean_squared_error: 0.0018 - val_mean_absolute_error: 0.0349\n",
      "Epoch 7/40\n",
      "7000/7000 [==============================] - 1s 81us/step - loss: 0.0034 - mean_squared_error: 0.0014 - mean_absolute_error: 0.0310 - val_loss: 0.0033 - val_mean_squared_error: 0.0013 - val_mean_absolute_error: 0.0300\n",
      "Epoch 8/40\n",
      "7000/7000 [==============================] - 1s 82us/step - loss: 0.0030 - mean_squared_error: 0.0010 - mean_absolute_error: 0.0264 - val_loss: 0.0031 - val_mean_squared_error: 0.0011 - val_mean_absolute_error: 0.0291\n",
      "Epoch 9/40\n",
      "7000/7000 [==============================] - 1s 85us/step - loss: 0.0027 - mean_squared_error: 7.4669e-04 - mean_absolute_error: 0.0225 - val_loss: 0.0027 - val_mean_squared_error: 7.0237e-04 - val_mean_absolute_error: 0.0210\n",
      "Epoch 10/40\n",
      "7000/7000 [==============================] - 1s 84us/step - loss: 0.0027 - mean_squared_error: 6.8581e-04 - mean_absolute_error: 0.0214 - val_loss: 0.0029 - val_mean_squared_error: 9.3332e-04 - val_mean_absolute_error: 0.0232\n",
      "Epoch 11/40\n",
      "7000/7000 [==============================] - 1s 84us/step - loss: 0.0027 - mean_squared_error: 6.5010e-04 - mean_absolute_error: 0.0207 - val_loss: 0.0027 - val_mean_squared_error: 6.8015e-04 - val_mean_absolute_error: 0.0223\n",
      "Epoch 12/40\n",
      "7000/7000 [==============================] - 1s 84us/step - loss: 0.0026 - mean_squared_error: 5.8987e-04 - mean_absolute_error: 0.0197 - val_loss: 0.0026 - val_mean_squared_error: 5.5131e-04 - val_mean_absolute_error: 0.0184\n",
      "Epoch 13/40\n",
      "7000/7000 [==============================] - 1s 84us/step - loss: 0.0026 - mean_squared_error: 5.7255e-04 - mean_absolute_error: 0.0192 - val_loss: 0.0025 - val_mean_squared_error: 5.4390e-04 - val_mean_absolute_error: 0.0184\n",
      "Epoch 14/40\n",
      "7000/7000 [==============================] - 1s 82us/step - loss: 0.0026 - mean_squared_error: 5.7141e-04 - mean_absolute_error: 0.0190 - val_loss: 0.0025 - val_mean_squared_error: 5.3673e-04 - val_mean_absolute_error: 0.0179\n",
      "Epoch 15/40\n",
      "7000/7000 [==============================] - 1s 82us/step - loss: 0.0026 - mean_squared_error: 5.7185e-04 - mean_absolute_error: 0.0190 - val_loss: 0.0027 - val_mean_squared_error: 6.8673e-04 - val_mean_absolute_error: 0.0193\n",
      "Epoch 16/40\n",
      "7000/7000 [==============================] - 1s 82us/step - loss: 0.0026 - mean_squared_error: 5.9256e-04 - mean_absolute_error: 0.0191 - val_loss: 0.0025 - val_mean_squared_error: 5.2260e-04 - val_mean_absolute_error: 0.0173\n",
      "Epoch 17/40\n",
      "7000/7000 [==============================] - 1s 81us/step - loss: 0.0025 - mean_squared_error: 4.9687e-04 - mean_absolute_error: 0.0175 - val_loss: 0.0025 - val_mean_squared_error: 5.1514e-04 - val_mean_absolute_error: 0.0183\n",
      "Epoch 18/40\n",
      "7000/7000 [==============================] - 1s 82us/step - loss: 0.0026 - mean_squared_error: 5.5858e-04 - mean_absolute_error: 0.0185 - val_loss: 0.0025 - val_mean_squared_error: 5.2815e-04 - val_mean_absolute_error: 0.0183\n",
      "Epoch 19/40\n",
      "7000/7000 [==============================] - 1s 82us/step - loss: 0.0025 - mean_squared_error: 5.4377e-04 - mean_absolute_error: 0.0182 - val_loss: 0.0025 - val_mean_squared_error: 5.4664e-04 - val_mean_absolute_error: 0.0188\n",
      "Epoch 20/40\n",
      "7000/7000 [==============================] - 1s 81us/step - loss: 0.0028 - mean_squared_error: 7.6074e-04 - mean_absolute_error: 0.0209 - val_loss: 0.0026 - val_mean_squared_error: 5.8740e-04 - val_mean_absolute_error: 0.0176\n",
      "Epoch 21/40\n",
      "7000/7000 [==============================] - 1s 82us/step - loss: 0.0025 - mean_squared_error: 5.1421e-04 - mean_absolute_error: 0.0176 - val_loss: 0.0025 - val_mean_squared_error: 4.6350e-04 - val_mean_absolute_error: 0.0162\n",
      "Epoch 22/40\n",
      "7000/7000 [==============================] - 1s 83us/step - loss: 0.0025 - mean_squared_error: 5.3578e-04 - mean_absolute_error: 0.0179 - val_loss: 0.0026 - val_mean_squared_error: 5.6947e-04 - val_mean_absolute_error: 0.0195\n",
      "Epoch 23/40\n",
      "7000/7000 [==============================] - 1s 81us/step - loss: 0.0025 - mean_squared_error: 4.9284e-04 - mean_absolute_error: 0.0172 - val_loss: 0.0025 - val_mean_squared_error: 5.6206e-04 - val_mean_absolute_error: 0.0193\n",
      "Epoch 24/40\n",
      "7000/7000 [==============================] - 1s 82us/step - loss: 0.0024 - mean_squared_error: 4.6281e-04 - mean_absolute_error: 0.0167 - val_loss: 0.0024 - val_mean_squared_error: 4.5212e-04 - val_mean_absolute_error: 0.0163\n",
      "Epoch 25/40\n",
      "7000/7000 [==============================] - 1s 81us/step - loss: 0.0026 - mean_squared_error: 6.0038e-04 - mean_absolute_error: 0.0185 - val_loss: 0.0025 - val_mean_squared_error: 5.5369e-04 - val_mean_absolute_error: 0.0192\n",
      "Epoch 26/40\n",
      "7000/7000 [==============================] - 1s 81us/step - loss: 0.0025 - mean_squared_error: 5.0015e-04 - mean_absolute_error: 0.0173 - val_loss: 0.0027 - val_mean_squared_error: 7.0031e-04 - val_mean_absolute_error: 0.0219\n",
      "Epoch 27/40\n",
      "7000/7000 [==============================] - 1s 81us/step - loss: 0.0025 - mean_squared_error: 5.0245e-04 - mean_absolute_error: 0.0172 - val_loss: 0.0029 - val_mean_squared_error: 8.8098e-04 - val_mean_absolute_error: 0.0247\n",
      "Epoch 28/40\n",
      "7000/7000 [==============================] - 1s 83us/step - loss: 0.0025 - mean_squared_error: 4.9645e-04 - mean_absolute_error: 0.0172 - val_loss: 0.0024 - val_mean_squared_error: 4.4923e-04 - val_mean_absolute_error: 0.0157\n",
      "Epoch 29/40\n",
      "7000/7000 [==============================] - 1s 82us/step - loss: 0.0026 - mean_squared_error: 6.1436e-04 - mean_absolute_error: 0.0187 - val_loss: 0.0025 - val_mean_squared_error: 5.4148e-04 - val_mean_absolute_error: 0.0190\n",
      "Epoch 30/40\n",
      "7000/7000 [==============================] - 1s 82us/step - loss: 0.0024 - mean_squared_error: 4.5704e-04 - mean_absolute_error: 0.0165 - val_loss: 0.0026 - val_mean_squared_error: 6.1076e-04 - val_mean_absolute_error: 0.0207\n",
      "Epoch 31/40\n",
      "7000/7000 [==============================] - 1s 82us/step - loss: 0.0024 - mean_squared_error: 4.5395e-04 - mean_absolute_error: 0.0164 - val_loss: 0.0024 - val_mean_squared_error: 4.6099e-04 - val_mean_absolute_error: 0.0157\n",
      "Epoch 32/40\n",
      "7000/7000 [==============================] - 1s 81us/step - loss: 0.0025 - mean_squared_error: 5.2872e-04 - mean_absolute_error: 0.0175 - val_loss: 0.0024 - val_mean_squared_error: 4.4262e-04 - val_mean_absolute_error: 0.0163\n",
      "Epoch 33/40\n",
      "7000/7000 [==============================] - 1s 82us/step - loss: 0.0025 - mean_squared_error: 5.6158e-04 - mean_absolute_error: 0.0180 - val_loss: 0.0024 - val_mean_squared_error: 4.6472e-04 - val_mean_absolute_error: 0.0165\n",
      "Epoch 34/40\n",
      "7000/7000 [==============================] - 1s 81us/step - loss: 0.0025 - mean_squared_error: 5.0666e-04 - mean_absolute_error: 0.0171 - val_loss: 0.0026 - val_mean_squared_error: 6.1581e-04 - val_mean_absolute_error: 0.0176\n",
      "Epoch 35/40\n"
     ]
    },
    {
     "name": "stdout",
     "output_type": "stream",
     "text": [
      "7000/7000 [==============================] - 1s 82us/step - loss: 0.0025 - mean_squared_error: 5.4938e-04 - mean_absolute_error: 0.0179 - val_loss: 0.0025 - val_mean_squared_error: 5.6215e-04 - val_mean_absolute_error: 0.0170\n",
      "Epoch 36/40\n",
      "7000/7000 [==============================] - 1s 83us/step - loss: 0.0024 - mean_squared_error: 4.7944e-04 - mean_absolute_error: 0.0168 - val_loss: 0.0024 - val_mean_squared_error: 4.3930e-04 - val_mean_absolute_error: 0.0157\n",
      "Epoch 37/40\n",
      "7000/7000 [==============================] - 1s 83us/step - loss: 0.0024 - mean_squared_error: 4.6525e-04 - mean_absolute_error: 0.0166 - val_loss: 0.0029 - val_mean_squared_error: 9.8054e-04 - val_mean_absolute_error: 0.0260\n",
      "Epoch 38/40\n",
      "7000/7000 [==============================] - 1s 83us/step - loss: 0.0025 - mean_squared_error: 6.1071e-04 - mean_absolute_error: 0.0187 - val_loss: 0.0025 - val_mean_squared_error: 5.7354e-04 - val_mean_absolute_error: 0.0195\n",
      "Epoch 39/40\n",
      "7000/7000 [==============================] - 1s 83us/step - loss: 0.0024 - mean_squared_error: 4.4502e-04 - mean_absolute_error: 0.0163 - val_loss: 0.0024 - val_mean_squared_error: 4.7644e-04 - val_mean_absolute_error: 0.0162\n",
      "Epoch 40/40\n",
      "7000/7000 [==============================] - 1s 80us/step - loss: 0.0025 - mean_squared_error: 5.3715e-04 - mean_absolute_error: 0.0177 - val_loss: 0.0025 - val_mean_squared_error: 5.4126e-04 - val_mean_absolute_error: 0.0189\n",
      "Training Time: 24.211251974105835\n"
     ]
    },
    {
     "data": {
      "image/png": "[encoded data removed]",
      "text/plain": [
       "<Figure size 432x288 with 1 Axes>"
      ]
     },
     "metadata": {
      "needs_background": "light"
     },
     "output_type": "display_data"
    },
    {
     "name": "stdout",
     "output_type": "stream",
     "text": [
      "7000/7000 [==============================] - 0s 34us/step\n",
      "1500/1500 [==============================] - 0s 35us/step\n",
      "1500/1500 [==============================] - 0s 34us/step\n",
      "MSE train: 0.00052, MSE test: 0.00053 MSE val: 0.00054\n"
     ]
    }
   ],
   "source": [
    "N_channels = 40\n",
    "file_path = '/Users/jackkelly/Desktop/Building_Model/Data/40_channels_data_10000.csv'\n",
    "hist, model, X_train, Y_train, X_val, Y_val, X_test, Y_test = build_model(N_channels, file_path)\n",
    "model = evaluate_model(model, hist)"
   ]
  },
  {
   "cell_type": "code",
   "execution_count": 11,
   "metadata": {},
   "outputs": [],
   "source": [
    "# Remove nested function, so that chunks of data from a csv file can be fed in\n",
    "# Current design only allows for entire file\n",
    "\n",
    "# Make loops that test different models, TUNING as something is not completely correct about mine, although theres is much less data than previous years"
   ]
  }
 ],
 "metadata": {
  "kernelspec": {
   "display_name": "Python 3",
   "language": "python",
   "name": "python3"
  },
  "language_info": {
   "codemirror_mode": {
    "name": "ipython",
    "version": 3
   },
   "file_extension": ".py",
   "mimetype": "text/x-python",
   "name": "python",
   "nbconvert_exporter": "python",
   "pygments_lexer": "ipython3",
   "version": "3.6.10"
  }
 },
 "nbformat": 4,
 "nbformat_minor": 4
}
