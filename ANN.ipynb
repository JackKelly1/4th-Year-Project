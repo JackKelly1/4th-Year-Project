{
 "cells": [
  {
   "cell_type": "markdown",
   "metadata": {},
   "source": [
    "# Processing the data"
   ]
  },
  {
   "cell_type": "code",
   "execution_count": 1,
   "metadata": {},
   "outputs": [
    {
     "name": "stderr",
     "output_type": "stream",
     "text": [
      "Using TensorFlow backend.\n"
     ]
    }
   ],
   "source": [
    "import tensorflow as tf\n",
    "import pandas as pd\n",
    "from sklearn import preprocessing\n",
    "from sklearn.model_selection import train_test_split\n",
    "from sklearn.utils import shuffle\n",
    "from keras.models import Sequential\n",
    "from keras.layers import Dense\n",
    "from keras import regularizers\n",
    "from tensorflow import keras\n",
    "import matplotlib.pyplot as plt"
   ]
  },
  {
   "cell_type": "code",
   "execution_count": 2,
   "metadata": {},
   "outputs": [
    {
     "name": "stdout",
     "output_type": "stream",
     "text": [
      "[PhysicalDevice(name='/physical_device:CPU:0', device_type='CPU')]\n"
     ]
    }
   ],
   "source": [
    "physical_devices = tf.config.experimental.list_physical_devices('CPU')\n",
    "# print('CPUs Available: ' ,len(physical_devices))\n",
    "print(physical_devices)\n",
    "# file_path = '/Users/jackkelly/Desktop/Building_Model/Data/40_channels_data_4000.csv'\n",
    "file_path = '/Users/jackkelly/Desktop/Building_Model/Data/30_channels_data_3000.csv'\n",
    "N_channels = 30"
   ]
  },
  {
   "cell_type": "code",
   "execution_count": 3,
   "metadata": {},
   "outputs": [],
   "source": [
    "def processing_data(N_channels, file_path):\n",
    "    df = pd.read_csv(file_path)\n",
    "    dataset = df.values\n",
    "    # dataset\n",
    "    dataset = df.values\n",
    "    # input power and channels statuses\n",
    "    X = dataset[:,0:N_channels+1]\n",
    "    # channel SNRs\n",
    "    Y = dataset[:,N_channels+1:2*N_channels+1]\n",
    "    # shuffle necessary because while shuffle=True in .fit() shuffles the data, it splits into different datasets first\n",
    "    X, Y = shuffle(X, Y)\n",
    "    # scaling between 0 and 1\n",
    "    min_max_scaler = preprocessing.MinMaxScaler()\n",
    "    X_scale = min_max_scaler.fit_transform(X)\n",
    "    Y_scale = min_max_scaler.fit_transform(Y)\n",
    "    X_train, X_val_and_test, Y_train, Y_val_and_test = train_test_split(X_scale, Y_scale, test_size=0.3)\n",
    "    X_val, X_test, Y_val, Y_test = train_test_split(X_val_and_test, Y_val_and_test, test_size=0.5)\n",
    "    print(X_train.shape, X_val.shape, X_test.shape, Y_train.shape, Y_val.shape, Y_test.shape)\n",
    "    return X_train, Y_train, X_val, Y_val, X_test, Y_test"
   ]
  },
  {
   "cell_type": "code",
   "execution_count": 4,
   "metadata": {},
   "outputs": [
    {
     "name": "stdout",
     "output_type": "stream",
     "text": [
      "(2100, 31) (450, 31) (450, 31) (2100, 30) (450, 30) (450, 30)\n"
     ]
    }
   ],
   "source": [
    "X_train, Y_train, X_val, Y_val, X_test, Y_test = processing_data(N_channels, file_path)"
   ]
  },
  {
   "cell_type": "markdown",
   "metadata": {},
   "source": [
    "# Building the ANN"
   ]
  },
  {
   "cell_type": "code",
   "execution_count": 5,
   "metadata": {},
   "outputs": [
    {
     "name": "stdout",
     "output_type": "stream",
     "text": [
      "Model: \"sequential_1\"\n",
      "_________________________________________________________________\n",
      "Layer (type)                 Output Shape              Param #   \n",
      "=================================================================\n",
      "dense_1 (Dense)              (None, 80)                2560      \n",
      "_________________________________________________________________\n",
      "dense_2 (Dense)              (None, 80)                6480      \n",
      "_________________________________________________________________\n",
      "dense_3 (Dense)              (None, 30)                2430      \n",
      "=================================================================\n",
      "Total params: 11,470\n",
      "Trainable params: 11,470\n",
      "Non-trainable params: 0\n",
      "_________________________________________________________________\n"
     ]
    }
   ],
   "source": [
    "model = Sequential()\n",
    "model.add(Dense(80, activation='relu', input_dim=N_channels+1))\n",
    "model.add(Dense(80, activation='relu'))\n",
    "model.add(Dense(N_channels, activation='sigmoid'))\n",
    "model.summary()"
   ]
  },
  {
   "cell_type": "code",
   "execution_count": 6,
   "metadata": {},
   "outputs": [],
   "source": [
    "# learning_rate=0.1 causes zig-zags, learning_rate=0.0001 is far too slow\n",
    "opt = keras.optimizers.Adam(learning_rate=0.001)\n",
    "model.compile(optimizer=opt, loss='mean_squared_error', metrics=['mean_squared_error', 'mean_absolute_error'])"
   ]
  },
  {
   "cell_type": "code",
   "execution_count": 7,
   "metadata": {},
   "outputs": [
    {
     "name": "stdout",
     "output_type": "stream",
     "text": [
      "Train on 2100 samples, validate on 450 samples\n",
      "Epoch 1/50\n",
      "2100/2100 [==============================] - 1s 339us/step - loss: 0.1359 - mean_squared_error: 0.1359 - mean_absolute_error: 0.3391 - val_loss: 0.0933 - val_mean_squared_error: 0.0933 - val_mean_absolute_error: 0.2704\n",
      "Epoch 2/50\n",
      "2100/2100 [==============================] - 0s 81us/step - loss: 0.0750 - mean_squared_error: 0.0750 - mean_absolute_error: 0.2328 - val_loss: 0.0567 - val_mean_squared_error: 0.0567 - val_mean_absolute_error: 0.1975\n",
      "Epoch 3/50\n",
      "2100/2100 [==============================] - 0s 82us/step - loss: 0.0454 - mean_squared_error: 0.0454 - mean_absolute_error: 0.1756 - val_loss: 0.0344 - val_mean_squared_error: 0.0344 - val_mean_absolute_error: 0.1516\n",
      "Epoch 4/50\n",
      "2100/2100 [==============================] - 0s 89us/step - loss: 0.0273 - mean_squared_error: 0.0273 - mean_absolute_error: 0.1343 - val_loss: 0.0208 - val_mean_squared_error: 0.0208 - val_mean_absolute_error: 0.1174\n",
      "Epoch 5/50\n",
      "2100/2100 [==============================] - 0s 82us/step - loss: 0.0169 - mean_squared_error: 0.0169 - mean_absolute_error: 0.1055 - val_loss: 0.0133 - val_mean_squared_error: 0.0133 - val_mean_absolute_error: 0.0935\n",
      "Epoch 6/50\n",
      "2100/2100 [==============================] - 0s 74us/step - loss: 0.0108 - mean_squared_error: 0.0108 - mean_absolute_error: 0.0839 - val_loss: 0.0083 - val_mean_squared_error: 0.0083 - val_mean_absolute_error: 0.0733\n",
      "Epoch 7/50\n",
      "2100/2100 [==============================] - 0s 75us/step - loss: 0.0071 - mean_squared_error: 0.0071 - mean_absolute_error: 0.0680 - val_loss: 0.0057 - val_mean_squared_error: 0.0057 - val_mean_absolute_error: 0.0615\n",
      "Epoch 8/50\n",
      "2100/2100 [==============================] - 0s 75us/step - loss: 0.0047 - mean_squared_error: 0.0047 - mean_absolute_error: 0.0556 - val_loss: 0.0042 - val_mean_squared_error: 0.0042 - val_mean_absolute_error: 0.0533\n",
      "Epoch 9/50\n",
      "2100/2100 [==============================] - 0s 76us/step - loss: 0.0034 - mean_squared_error: 0.0034 - mean_absolute_error: 0.0473 - val_loss: 0.0026 - val_mean_squared_error: 0.0026 - val_mean_absolute_error: 0.0408\n",
      "Epoch 10/50\n",
      "2100/2100 [==============================] - 0s 74us/step - loss: 0.0024 - mean_squared_error: 0.0024 - mean_absolute_error: 0.0397 - val_loss: 0.0022 - val_mean_squared_error: 0.0022 - val_mean_absolute_error: 0.0383\n",
      "Epoch 11/50\n",
      "2100/2100 [==============================] - 0s 75us/step - loss: 0.0019 - mean_squared_error: 0.0019 - mean_absolute_error: 0.0351 - val_loss: 0.0018 - val_mean_squared_error: 0.0018 - val_mean_absolute_error: 0.0349\n",
      "Epoch 12/50\n",
      "2100/2100 [==============================] - 0s 74us/step - loss: 0.0017 - mean_squared_error: 0.0017 - mean_absolute_error: 0.0334 - val_loss: 0.0016 - val_mean_squared_error: 0.0016 - val_mean_absolute_error: 0.0332\n",
      "Epoch 13/50\n",
      "2100/2100 [==============================] - 0s 75us/step - loss: 0.0020 - mean_squared_error: 0.0020 - mean_absolute_error: 0.0356 - val_loss: 0.0014 - val_mean_squared_error: 0.0014 - val_mean_absolute_error: 0.0297\n",
      "Epoch 14/50\n",
      "2100/2100 [==============================] - 0s 76us/step - loss: 0.0015 - mean_squared_error: 0.0015 - mean_absolute_error: 0.0312 - val_loss: 0.0013 - val_mean_squared_error: 0.0013 - val_mean_absolute_error: 0.0296\n",
      "Epoch 15/50\n",
      "2100/2100 [==============================] - 0s 74us/step - loss: 0.0014 - mean_squared_error: 0.0014 - mean_absolute_error: 0.0298 - val_loss: 0.0024 - val_mean_squared_error: 0.0024 - val_mean_absolute_error: 0.0368\n",
      "Epoch 16/50\n",
      "2100/2100 [==============================] - 0s 74us/step - loss: 0.0015 - mean_squared_error: 0.0015 - mean_absolute_error: 0.0301 - val_loss: 0.0013 - val_mean_squared_error: 0.0013 - val_mean_absolute_error: 0.0271\n",
      "Epoch 17/50\n",
      "2100/2100 [==============================] - 0s 78us/step - loss: 0.0016 - mean_squared_error: 0.0016 - mean_absolute_error: 0.0309 - val_loss: 0.0042 - val_mean_squared_error: 0.0042 - val_mean_absolute_error: 0.0501\n",
      "Epoch 18/50\n",
      "2100/2100 [==============================] - 0s 78us/step - loss: 0.0020 - mean_squared_error: 0.0020 - mean_absolute_error: 0.0336 - val_loss: 0.0014 - val_mean_squared_error: 0.0014 - val_mean_absolute_error: 0.0301\n",
      "Epoch 19/50\n",
      "2100/2100 [==============================] - 0s 76us/step - loss: 0.0013 - mean_squared_error: 0.0013 - mean_absolute_error: 0.0279 - val_loss: 0.0024 - val_mean_squared_error: 0.0024 - val_mean_absolute_error: 0.0361\n",
      "Epoch 20/50\n",
      "2100/2100 [==============================] - 0s 80us/step - loss: 0.0011 - mean_squared_error: 0.0011 - mean_absolute_error: 0.0261 - val_loss: 0.0010 - val_mean_squared_error: 0.0010 - val_mean_absolute_error: 0.0248\n",
      "Epoch 21/50\n",
      "2100/2100 [==============================] - 0s 74us/step - loss: 0.0011 - mean_squared_error: 0.0011 - mean_absolute_error: 0.0259 - val_loss: 0.0015 - val_mean_squared_error: 0.0015 - val_mean_absolute_error: 0.0304\n",
      "Epoch 22/50\n",
      "2100/2100 [==============================] - 0s 73us/step - loss: 0.0011 - mean_squared_error: 0.0011 - mean_absolute_error: 0.0258 - val_loss: 9.7509e-04 - val_mean_squared_error: 9.7509e-04 - val_mean_absolute_error: 0.0242\n",
      "Epoch 23/50\n",
      "2100/2100 [==============================] - 0s 82us/step - loss: 0.0013 - mean_squared_error: 0.0013 - mean_absolute_error: 0.0271 - val_loss: 0.0011 - val_mean_squared_error: 0.0011 - val_mean_absolute_error: 0.0239\n",
      "Epoch 24/50\n",
      "2100/2100 [==============================] - 0s 76us/step - loss: 9.9395e-04 - mean_squared_error: 9.9395e-04 - mean_absolute_error: 0.0242 - val_loss: 0.0010 - val_mean_squared_error: 0.0010 - val_mean_absolute_error: 0.0232\n",
      "Epoch 25/50\n",
      "2100/2100 [==============================] - 0s 75us/step - loss: 9.9249e-04 - mean_squared_error: 9.9249e-04 - mean_absolute_error: 0.0242 - val_loss: 0.0011 - val_mean_squared_error: 0.0011 - val_mean_absolute_error: 0.0237\n",
      "Epoch 26/50\n",
      "2100/2100 [==============================] - 0s 76us/step - loss: 0.0010 - mean_squared_error: 0.0010 - mean_absolute_error: 0.0246 - val_loss: 0.0010 - val_mean_squared_error: 0.0010 - val_mean_absolute_error: 0.0236\n",
      "Epoch 27/50\n",
      "2100/2100 [==============================] - 0s 80us/step - loss: 0.0014 - mean_squared_error: 0.0014 - mean_absolute_error: 0.0279 - val_loss: 0.0011 - val_mean_squared_error: 0.0011 - val_mean_absolute_error: 0.0234\n",
      "Epoch 28/50\n",
      "2100/2100 [==============================] - 0s 78us/step - loss: 0.0011 - mean_squared_error: 0.0011 - mean_absolute_error: 0.0248 - val_loss: 0.0012 - val_mean_squared_error: 0.0012 - val_mean_absolute_error: 0.0236\n",
      "Epoch 29/50\n",
      "2100/2100 [==============================] - 0s 76us/step - loss: 9.2996e-04 - mean_squared_error: 9.2996e-04 - mean_absolute_error: 0.0230 - val_loss: 9.0067e-04 - val_mean_squared_error: 9.0067e-04 - val_mean_absolute_error: 0.0225\n",
      "Epoch 30/50\n",
      "2100/2100 [==============================] - 0s 76us/step - loss: 0.0012 - mean_squared_error: 0.0012 - mean_absolute_error: 0.0253 - val_loss: 9.4860e-04 - val_mean_squared_error: 9.4860e-04 - val_mean_absolute_error: 0.0224\n",
      "Epoch 31/50\n",
      "2100/2100 [==============================] - 0s 76us/step - loss: 8.6925e-04 - mean_squared_error: 8.6925e-04 - mean_absolute_error: 0.0223 - val_loss: 9.0359e-04 - val_mean_squared_error: 9.0359e-04 - val_mean_absolute_error: 0.0233\n",
      "Epoch 32/50\n",
      "2100/2100 [==============================] - 0s 81us/step - loss: 0.0012 - mean_squared_error: 0.0012 - mean_absolute_error: 0.0252 - val_loss: 0.0012 - val_mean_squared_error: 0.0012 - val_mean_absolute_error: 0.0238\n",
      "Epoch 33/50\n",
      "2100/2100 [==============================] - 0s 80us/step - loss: 0.0011 - mean_squared_error: 0.0011 - mean_absolute_error: 0.0242 - val_loss: 9.0934e-04 - val_mean_squared_error: 9.0934e-04 - val_mean_absolute_error: 0.0226\n",
      "Epoch 34/50\n",
      "2100/2100 [==============================] - 0s 77us/step - loss: 8.6509e-04 - mean_squared_error: 8.6509e-04 - mean_absolute_error: 0.0219 - val_loss: 0.0011 - val_mean_squared_error: 0.0011 - val_mean_absolute_error: 0.0258\n",
      "Epoch 35/50\n",
      "2100/2100 [==============================] - 0s 75us/step - loss: 9.0576e-04 - mean_squared_error: 9.0576e-04 - mean_absolute_error: 0.0224 - val_loss: 0.0010 - val_mean_squared_error: 0.0010 - val_mean_absolute_error: 0.0246\n",
      "Epoch 36/50\n"
     ]
    },
    {
     "name": "stdout",
     "output_type": "stream",
     "text": [
      "2100/2100 [==============================] - 0s 78us/step - loss: 0.0010 - mean_squared_error: 0.0010 - mean_absolute_error: 0.0234 - val_loss: 9.4152e-04 - val_mean_squared_error: 9.4152e-04 - val_mean_absolute_error: 0.0214\n",
      "Epoch 37/50\n",
      "2100/2100 [==============================] - 0s 75us/step - loss: 8.9278e-04 - mean_squared_error: 8.9278e-04 - mean_absolute_error: 0.0222 - val_loss: 8.4184e-04 - val_mean_squared_error: 8.4184e-04 - val_mean_absolute_error: 0.0217\n",
      "Epoch 38/50\n",
      "2100/2100 [==============================] - 0s 75us/step - loss: 8.5610e-04 - mean_squared_error: 8.5610e-04 - mean_absolute_error: 0.0217 - val_loss: 8.6627e-04 - val_mean_squared_error: 8.6627e-04 - val_mean_absolute_error: 0.0207\n",
      "Epoch 39/50\n",
      "2100/2100 [==============================] - 0s 74us/step - loss: 8.7588e-04 - mean_squared_error: 8.7588e-04 - mean_absolute_error: 0.0220 - val_loss: 9.7067e-04 - val_mean_squared_error: 9.7067e-04 - val_mean_absolute_error: 0.0210\n",
      "Epoch 40/50\n",
      "2100/2100 [==============================] - 0s 73us/step - loss: 8.7798e-04 - mean_squared_error: 8.7798e-04 - mean_absolute_error: 0.0218 - val_loss: 0.0010 - val_mean_squared_error: 0.0010 - val_mean_absolute_error: 0.0247\n",
      "Epoch 41/50\n",
      "2100/2100 [==============================] - 0s 72us/step - loss: 0.0010 - mean_squared_error: 0.0010 - mean_absolute_error: 0.0232 - val_loss: 8.4584e-04 - val_mean_squared_error: 8.4584e-04 - val_mean_absolute_error: 0.0218\n",
      "Epoch 42/50\n",
      "2100/2100 [==============================] - 0s 74us/step - loss: 7.8299e-04 - mean_squared_error: 7.8299e-04 - mean_absolute_error: 0.0206 - val_loss: 8.4869e-04 - val_mean_squared_error: 8.4869e-04 - val_mean_absolute_error: 0.0206\n",
      "Epoch 43/50\n",
      "2100/2100 [==============================] - 0s 76us/step - loss: 8.7834e-04 - mean_squared_error: 8.7834e-04 - mean_absolute_error: 0.0217 - val_loss: 0.0011 - val_mean_squared_error: 0.0011 - val_mean_absolute_error: 0.0214\n",
      "Epoch 44/50\n",
      "2100/2100 [==============================] - 0s 76us/step - loss: 8.8203e-04 - mean_squared_error: 8.8203e-04 - mean_absolute_error: 0.0216 - val_loss: 8.5900e-04 - val_mean_squared_error: 8.5900e-04 - val_mean_absolute_error: 0.0204\n",
      "Epoch 45/50\n",
      "2100/2100 [==============================] - 0s 73us/step - loss: 9.1400e-04 - mean_squared_error: 9.1400e-04 - mean_absolute_error: 0.0219 - val_loss: 0.0032 - val_mean_squared_error: 0.0032 - val_mean_absolute_error: 0.0387\n",
      "Epoch 46/50\n",
      "2100/2100 [==============================] - 0s 79us/step - loss: 9.9851e-04 - mean_squared_error: 9.9851e-04 - mean_absolute_error: 0.0227 - val_loss: 8.5382e-04 - val_mean_squared_error: 8.5382e-04 - val_mean_absolute_error: 0.0208\n",
      "Epoch 47/50\n",
      "2100/2100 [==============================] - 0s 76us/step - loss: 7.7609e-04 - mean_squared_error: 7.7609e-04 - mean_absolute_error: 0.0204 - val_loss: 9.4674e-04 - val_mean_squared_error: 9.4674e-04 - val_mean_absolute_error: 0.0206\n",
      "Epoch 48/50\n",
      "2100/2100 [==============================] - 0s 77us/step - loss: 0.0014 - mean_squared_error: 0.0014 - mean_absolute_error: 0.0255 - val_loss: 0.0012 - val_mean_squared_error: 0.0012 - val_mean_absolute_error: 0.0234\n",
      "Epoch 49/50\n",
      "2100/2100 [==============================] - 0s 77us/step - loss: 7.9016e-04 - mean_squared_error: 7.9016e-04 - mean_absolute_error: 0.0205 - val_loss: 8.5949e-04 - val_mean_squared_error: 8.5949e-04 - val_mean_absolute_error: 0.0215\n",
      "Epoch 50/50\n",
      "2100/2100 [==============================] - 0s 76us/step - loss: 7.9424e-04 - mean_squared_error: 7.9424e-04 - mean_absolute_error: 0.0205 - val_loss: 8.6531e-04 - val_mean_squared_error: 8.6531e-04 - val_mean_absolute_error: 0.0222\n"
     ]
    }
   ],
   "source": [
    "# fit as we are fitting the parameters to the data\n",
    "# verbose shows how much info is shown during model fitting\n",
    "# shuffle by default set to true so this is for visual purposes\n",
    "hist = model.fit(X_train, Y_train, validation_data=(X_val, Y_val), epochs=50, shuffle=True, verbose=1, batch_size=N_channels+1)"
   ]
  },
  {
   "cell_type": "code",
   "execution_count": 8,
   "metadata": {},
   "outputs": [
    {
     "data": {
      "image/png": "[encoded data removed]",
      "text/plain": [
       "<Figure size 432x288 with 1 Axes>"
      ]
     },
     "metadata": {
      "needs_background": "light"
     },
     "output_type": "display_data"
    }
   ],
   "source": [
    "plt.title('Mean Squared Error')\n",
    "plt.plot(hist.history['mean_squared_error'], label='Train')\n",
    "plt.plot(hist.history['val_loss'], label='Test')\n",
    "plt.legend()\n",
    "plt.show()"
   ]
  },
  {
   "cell_type": "code",
   "execution_count": 9,
   "metadata": {},
   "outputs": [
    {
     "data": {
      "image/png": "[encoded data removed]",
      "text/plain": [
       "<Figure size 432x288 with 1 Axes>"
      ]
     },
     "metadata": {
      "needs_background": "light"
     },
     "output_type": "display_data"
    }
   ],
   "source": [
    "plt.plot(hist.history['mean_absolute_error'], label='Train')\n",
    "plt.plot(hist.history['val_mean_absolute_error'], label='Test')\n",
    "plt.legend()\n",
    "plt.show()"
   ]
  },
  {
   "cell_type": "code",
   "execution_count": 10,
   "metadata": {},
   "outputs": [
    {
     "name": "stdout",
     "output_type": "stream",
     "text": [
      "2100/2100 [==============================] - 0s 33us/step\n",
      "450/450 [==============================] - 0s 37us/step\n",
      "450/450 [==============================] - 0s 39us/step\n",
      "MSE train: 0.00079, MSE test: 0.00089 MSE val: 0.00087\n"
     ]
    }
   ],
   "source": [
    "#0 = loss, 1 = accuracy\n",
    "train_mse = (model.evaluate(X_train, Y_train, verbose=1))[1]\n",
    "test_mse = (model.evaluate(X_test, Y_test, verbose=1))[1]\n",
    "val_mse = (model.evaluate(X_val, Y_val, verbose=1))[1]\n",
    "print('MSE train: %.5f, MSE test: %.5f MSE val: %.5f' % (train_mse, test_mse, val_mse))"
   ]
  },
  {
   "cell_type": "code",
   "execution_count": 11,
   "metadata": {},
   "outputs": [],
   "source": [
    "# MSE train: 0.00045, MSE test: 0.00047"
   ]
  }
 ],
 "metadata": {
  "kernelspec": {
   "display_name": "Python 3",
   "language": "python",
   "name": "python3"
  },
  "language_info": {
   "codemirror_mode": {
    "name": "ipython",
    "version": 3
   },
   "file_extension": ".py",
   "mimetype": "text/x-python",
   "name": "python",
   "nbconvert_exporter": "python",
   "pygments_lexer": "ipython3",
   "version": "3.6.10"
  }
 },
 "nbformat": 4,
 "nbformat_minor": 4
}
