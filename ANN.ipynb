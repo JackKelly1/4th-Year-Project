{
 "cells": [
  {
   "cell_type": "markdown",
   "metadata": {},
   "source": [
    "# Processing the data"
   ]
  },
  {
   "cell_type": "code",
   "execution_count": 1,
   "metadata": {},
   "outputs": [
    {
     "name": "stderr",
     "output_type": "stream",
     "text": [
      "Using TensorFlow backend.\n"
     ]
    }
   ],
   "source": [
    "import tensorflow as tf\n",
    "import pandas as pd\n",
    "from sklearn import preprocessing\n",
    "from sklearn.model_selection import train_test_split\n",
    "from sklearn.utils import shuffle\n",
    "from keras.models import Sequential\n",
    "from keras.layers import Dense\n",
    "from keras import regularizers\n",
    "from tensorflow import keras\n",
    "import matplotlib.pyplot as plt"
   ]
  },
  {
   "cell_type": "code",
   "execution_count": 2,
   "metadata": {},
   "outputs": [
    {
     "name": "stdout",
     "output_type": "stream",
     "text": [
      "[PhysicalDevice(name='/physical_device:CPU:0', device_type='CPU')]\n"
     ]
    }
   ],
   "source": [
    "physical_devices = tf.config.experimental.list_physical_devices('CPU')\n",
    "# print('CPUs Available: ' ,len(physical_devices))\n",
    "print(physical_devices)"
   ]
  },
  {
   "cell_type": "code",
   "execution_count": 3,
   "metadata": {
    "scrolled": false
   },
   "outputs": [
    {
     "data": {
      "text/html": [
       "<div>\n",
       "<style scoped>\n",
       "    .dataframe tbody tr th:only-of-type {\n",
       "        vertical-align: middle;\n",
       "    }\n",
       "\n",
       "    .dataframe tbody tr th {\n",
       "        vertical-align: top;\n",
       "    }\n",
       "\n",
       "    .dataframe thead th {\n",
       "        text-align: right;\n",
       "    }\n",
       "</style>\n",
       "<table border=\"1\" class=\"dataframe\">\n",
       "  <thead>\n",
       "    <tr style=\"text-align: right;\">\n",
       "      <th></th>\n",
       "      <th>launch_power_dbm</th>\n",
       "      <th>Status_Ch1</th>\n",
       "      <th>Status_Ch2</th>\n",
       "      <th>Status_Ch3</th>\n",
       "      <th>Status_Ch4</th>\n",
       "      <th>Status_Ch5</th>\n",
       "      <th>Status_Ch6</th>\n",
       "      <th>Status_Ch7</th>\n",
       "      <th>Status_Ch8</th>\n",
       "      <th>Status_Ch9</th>\n",
       "      <th>...</th>\n",
       "      <th>snr_Ch31</th>\n",
       "      <th>snr_Ch32</th>\n",
       "      <th>snr_Ch33</th>\n",
       "      <th>snr_Ch34</th>\n",
       "      <th>snr_Ch35</th>\n",
       "      <th>snr_Ch36</th>\n",
       "      <th>snr_Ch37</th>\n",
       "      <th>snr_Ch38</th>\n",
       "      <th>snr_Ch39</th>\n",
       "      <th>snr_Ch40</th>\n",
       "    </tr>\n",
       "  </thead>\n",
       "  <tbody>\n",
       "    <tr>\n",
       "      <th>0</th>\n",
       "      <td>9.10</td>\n",
       "      <td>0</td>\n",
       "      <td>0</td>\n",
       "      <td>0</td>\n",
       "      <td>0</td>\n",
       "      <td>0</td>\n",
       "      <td>0</td>\n",
       "      <td>0</td>\n",
       "      <td>0</td>\n",
       "      <td>0</td>\n",
       "      <td>...</td>\n",
       "      <td>0.0</td>\n",
       "      <td>0.0</td>\n",
       "      <td>0.000000</td>\n",
       "      <td>0.0</td>\n",
       "      <td>0.0</td>\n",
       "      <td>0.000000</td>\n",
       "      <td>0.0</td>\n",
       "      <td>0.000000</td>\n",
       "      <td>6.844896</td>\n",
       "      <td>0.0</td>\n",
       "    </tr>\n",
       "    <tr>\n",
       "      <th>1</th>\n",
       "      <td>8.88</td>\n",
       "      <td>0</td>\n",
       "      <td>0</td>\n",
       "      <td>0</td>\n",
       "      <td>0</td>\n",
       "      <td>0</td>\n",
       "      <td>0</td>\n",
       "      <td>0</td>\n",
       "      <td>0</td>\n",
       "      <td>0</td>\n",
       "      <td>...</td>\n",
       "      <td>0.0</td>\n",
       "      <td>0.0</td>\n",
       "      <td>6.187725</td>\n",
       "      <td>0.0</td>\n",
       "      <td>0.0</td>\n",
       "      <td>0.000000</td>\n",
       "      <td>0.0</td>\n",
       "      <td>0.000000</td>\n",
       "      <td>0.000000</td>\n",
       "      <td>0.0</td>\n",
       "    </tr>\n",
       "    <tr>\n",
       "      <th>2</th>\n",
       "      <td>7.98</td>\n",
       "      <td>0</td>\n",
       "      <td>0</td>\n",
       "      <td>0</td>\n",
       "      <td>0</td>\n",
       "      <td>0</td>\n",
       "      <td>0</td>\n",
       "      <td>0</td>\n",
       "      <td>0</td>\n",
       "      <td>0</td>\n",
       "      <td>...</td>\n",
       "      <td>0.0</td>\n",
       "      <td>0.0</td>\n",
       "      <td>0.000000</td>\n",
       "      <td>0.0</td>\n",
       "      <td>0.0</td>\n",
       "      <td>0.000000</td>\n",
       "      <td>0.0</td>\n",
       "      <td>0.000000</td>\n",
       "      <td>0.000000</td>\n",
       "      <td>0.0</td>\n",
       "    </tr>\n",
       "    <tr>\n",
       "      <th>3</th>\n",
       "      <td>9.42</td>\n",
       "      <td>0</td>\n",
       "      <td>0</td>\n",
       "      <td>0</td>\n",
       "      <td>0</td>\n",
       "      <td>0</td>\n",
       "      <td>0</td>\n",
       "      <td>1</td>\n",
       "      <td>0</td>\n",
       "      <td>0</td>\n",
       "      <td>...</td>\n",
       "      <td>0.0</td>\n",
       "      <td>0.0</td>\n",
       "      <td>0.000000</td>\n",
       "      <td>0.0</td>\n",
       "      <td>0.0</td>\n",
       "      <td>0.000000</td>\n",
       "      <td>0.0</td>\n",
       "      <td>0.000000</td>\n",
       "      <td>0.000000</td>\n",
       "      <td>0.0</td>\n",
       "    </tr>\n",
       "    <tr>\n",
       "      <th>4</th>\n",
       "      <td>7.86</td>\n",
       "      <td>0</td>\n",
       "      <td>0</td>\n",
       "      <td>0</td>\n",
       "      <td>0</td>\n",
       "      <td>0</td>\n",
       "      <td>0</td>\n",
       "      <td>0</td>\n",
       "      <td>0</td>\n",
       "      <td>0</td>\n",
       "      <td>...</td>\n",
       "      <td>0.0</td>\n",
       "      <td>0.0</td>\n",
       "      <td>0.000000</td>\n",
       "      <td>0.0</td>\n",
       "      <td>0.0</td>\n",
       "      <td>6.877953</td>\n",
       "      <td>0.0</td>\n",
       "      <td>7.148713</td>\n",
       "      <td>0.000000</td>\n",
       "      <td>0.0</td>\n",
       "    </tr>\n",
       "  </tbody>\n",
       "</table>\n",
       "<p>5 rows × 81 columns</p>\n",
       "</div>"
      ],
      "text/plain": [
       "   launch_power_dbm  Status_Ch1  Status_Ch2  Status_Ch3  Status_Ch4  \\\n",
       "0              9.10           0           0           0           0   \n",
       "1              8.88           0           0           0           0   \n",
       "2              7.98           0           0           0           0   \n",
       "3              9.42           0           0           0           0   \n",
       "4              7.86           0           0           0           0   \n",
       "\n",
       "   Status_Ch5  Status_Ch6  Status_Ch7  Status_Ch8  Status_Ch9  ...  snr_Ch31  \\\n",
       "0           0           0           0           0           0  ...       0.0   \n",
       "1           0           0           0           0           0  ...       0.0   \n",
       "2           0           0           0           0           0  ...       0.0   \n",
       "3           0           0           1           0           0  ...       0.0   \n",
       "4           0           0           0           0           0  ...       0.0   \n",
       "\n",
       "   snr_Ch32  snr_Ch33  snr_Ch34  snr_Ch35  snr_Ch36  snr_Ch37  snr_Ch38  \\\n",
       "0       0.0  0.000000       0.0       0.0  0.000000       0.0  0.000000   \n",
       "1       0.0  6.187725       0.0       0.0  0.000000       0.0  0.000000   \n",
       "2       0.0  0.000000       0.0       0.0  0.000000       0.0  0.000000   \n",
       "3       0.0  0.000000       0.0       0.0  0.000000       0.0  0.000000   \n",
       "4       0.0  0.000000       0.0       0.0  6.877953       0.0  7.148713   \n",
       "\n",
       "   snr_Ch39  snr_Ch40  \n",
       "0  6.844896       0.0  \n",
       "1  0.000000       0.0  \n",
       "2  0.000000       0.0  \n",
       "3  0.000000       0.0  \n",
       "4  0.000000       0.0  \n",
       "\n",
       "[5 rows x 81 columns]"
      ]
     },
     "execution_count": 3,
     "metadata": {},
     "output_type": "execute_result"
    }
   ],
   "source": [
    "df = pd.read_csv('/Users/jackkelly/Desktop/Building_Model/Data/40_channels_data_4000.csv')\n",
    "df.head()"
   ]
  },
  {
   "cell_type": "code",
   "execution_count": 4,
   "metadata": {},
   "outputs": [],
   "source": [
    "dataset = df.values\n",
    "# dataset"
   ]
  },
  {
   "cell_type": "code",
   "execution_count": 5,
   "metadata": {},
   "outputs": [],
   "source": [
    "X = dataset[:,0:41]\n",
    "# channel SNRs\n",
    "Y = dataset[:,41:81]"
   ]
  },
  {
   "cell_type": "code",
   "execution_count": 6,
   "metadata": {},
   "outputs": [],
   "source": [
    "# shuffle necessary because while shuffle=True in .fit() shuffles the data, it splits into different datasets first\n",
    "X, Y = shuffle(X, Y)"
   ]
  },
  {
   "cell_type": "code",
   "execution_count": 7,
   "metadata": {},
   "outputs": [],
   "source": [
    "# scaling between 0 and 1\n",
    "min_max_scaler = preprocessing.MinMaxScaler()\n",
    "X_scale = min_max_scaler.fit_transform(X)\n",
    "Y_scale = min_max_scaler.fit_transform(Y)"
   ]
  },
  {
   "cell_type": "code",
   "execution_count": 8,
   "metadata": {},
   "outputs": [],
   "source": [
    "X_train, X_val_and_test, Y_train, Y_val_and_test = train_test_split(X_scale, Y_scale, test_size=0.3)"
   ]
  },
  {
   "cell_type": "code",
   "execution_count": 9,
   "metadata": {},
   "outputs": [
    {
     "name": "stdout",
     "output_type": "stream",
     "text": [
      "(2800, 41) (600, 41) (600, 41) (2800, 40) (600, 40) (600, 40)\n"
     ]
    }
   ],
   "source": [
    "X_val, X_test, Y_val, Y_test = train_test_split(X_val_and_test, Y_val_and_test, test_size=0.5)\n",
    "print(X_train.shape, X_val.shape, X_test.shape, Y_train.shape, Y_val.shape, Y_test.shape)"
   ]
  },
  {
   "cell_type": "markdown",
   "metadata": {},
   "source": [
    "# Building the ANN"
   ]
  },
  {
   "cell_type": "code",
   "execution_count": 10,
   "metadata": {},
   "outputs": [
    {
     "name": "stdout",
     "output_type": "stream",
     "text": [
      "Model: \"sequential_1\"\n",
      "_________________________________________________________________\n",
      "Layer (type)                 Output Shape              Param #   \n",
      "=================================================================\n",
      "dense_1 (Dense)              (None, 80)                3360      \n",
      "_________________________________________________________________\n",
      "dense_2 (Dense)              (None, 80)                6480      \n",
      "_________________________________________________________________\n",
      "dense_3 (Dense)              (None, 40)                3240      \n",
      "=================================================================\n",
      "Total params: 13,080\n",
      "Trainable params: 13,080\n",
      "Non-trainable params: 0\n",
      "_________________________________________________________________\n"
     ]
    }
   ],
   "source": [
    "model = Sequential()\n",
    "model.add(Dense(80, activation='relu', input_dim=41))\n",
    "model.add(Dense(80, activation='relu'))\n",
    "model.add(Dense(40, activation='sigmoid'))\n",
    "model.summary()"
   ]
  },
  {
   "cell_type": "code",
   "execution_count": 11,
   "metadata": {},
   "outputs": [],
   "source": [
    "# learning_rate=0.1 causes zig-zags, learning_rate=0.0001 is far too slow\n",
    "opt = keras.optimizers.Adam(learning_rate=0.001)\n",
    "model.compile(optimizer=opt, loss='mean_squared_error', metrics=['mean_squared_error', 'mean_absolute_error'])"
   ]
  },
  {
   "cell_type": "code",
   "execution_count": 12,
   "metadata": {},
   "outputs": [
    {
     "name": "stdout",
     "output_type": "stream",
     "text": [
      "Train on 2800 samples, validate on 600 samples\n",
      "Epoch 1/50\n",
      "2800/2800 [==============================] - 1s 237us/step - loss: 0.1611 - mean_squared_error: 0.1611 - mean_absolute_error: 0.3821 - val_loss: 0.1201 - val_mean_squared_error: 0.1201 - val_mean_absolute_error: 0.3011\n",
      "Epoch 2/50\n",
      "2800/2800 [==============================] - 0s 67us/step - loss: 0.1012 - mean_squared_error: 0.1012 - mean_absolute_error: 0.2675 - val_loss: 0.0821 - val_mean_squared_error: 0.0821 - val_mean_absolute_error: 0.2399\n",
      "Epoch 3/50\n",
      "2800/2800 [==============================] - 0s 63us/step - loss: 0.0667 - mean_squared_error: 0.0667 - mean_absolute_error: 0.2110 - val_loss: 0.0536 - val_mean_squared_error: 0.0536 - val_mean_absolute_error: 0.1859\n",
      "Epoch 4/50\n",
      "2800/2800 [==============================] - 0s 60us/step - loss: 0.0432 - mean_squared_error: 0.0432 - mean_absolute_error: 0.1639 - val_loss: 0.0358 - val_mean_squared_error: 0.0358 - val_mean_absolute_error: 0.1473\n",
      "Epoch 5/50\n",
      "2800/2800 [==============================] - 0s 61us/step - loss: 0.0282 - mean_squared_error: 0.0282 - mean_absolute_error: 0.1298 - val_loss: 0.0235 - val_mean_squared_error: 0.0235 - val_mean_absolute_error: 0.1169\n",
      "Epoch 6/50\n",
      "2800/2800 [==============================] - 0s 67us/step - loss: 0.0184 - mean_squared_error: 0.0184 - mean_absolute_error: 0.1041 - val_loss: 0.0161 - val_mean_squared_error: 0.0161 - val_mean_absolute_error: 0.0964\n",
      "Epoch 7/50\n",
      "2800/2800 [==============================] - 0s 61us/step - loss: 0.0123 - mean_squared_error: 0.0123 - mean_absolute_error: 0.0855 - val_loss: 0.0108 - val_mean_squared_error: 0.0108 - val_mean_absolute_error: 0.0798\n",
      "Epoch 8/50\n",
      "2800/2800 [==============================] - 0s 62us/step - loss: 0.0086 - mean_squared_error: 0.0086 - mean_absolute_error: 0.0720 - val_loss: 0.0079 - val_mean_squared_error: 0.0079 - val_mean_absolute_error: 0.0684\n",
      "Epoch 9/50\n",
      "2800/2800 [==============================] - 0s 61us/step - loss: 0.0062 - mean_squared_error: 0.0062 - mean_absolute_error: 0.0620 - val_loss: 0.0060 - val_mean_squared_error: 0.0060 - val_mean_absolute_error: 0.0614\n",
      "Epoch 10/50\n",
      "2800/2800 [==============================] - 0s 61us/step - loss: 0.0047 - mean_squared_error: 0.0047 - mean_absolute_error: 0.0545 - val_loss: 0.0046 - val_mean_squared_error: 0.0046 - val_mean_absolute_error: 0.0538\n",
      "Epoch 11/50\n",
      "2800/2800 [==============================] - 0s 61us/step - loss: 0.0036 - mean_squared_error: 0.0036 - mean_absolute_error: 0.0480 - val_loss: 0.0036 - val_mean_squared_error: 0.0036 - val_mean_absolute_error: 0.0471\n",
      "Epoch 12/50\n",
      "2800/2800 [==============================] - 0s 62us/step - loss: 0.0028 - mean_squared_error: 0.0028 - mean_absolute_error: 0.0429 - val_loss: 0.0028 - val_mean_squared_error: 0.0028 - val_mean_absolute_error: 0.0427\n",
      "Epoch 13/50\n",
      "2800/2800 [==============================] - 0s 62us/step - loss: 0.0022 - mean_squared_error: 0.0022 - mean_absolute_error: 0.0384 - val_loss: 0.0022 - val_mean_squared_error: 0.0022 - val_mean_absolute_error: 0.0378\n",
      "Epoch 14/50\n",
      "2800/2800 [==============================] - 0s 62us/step - loss: 0.0018 - mean_squared_error: 0.0018 - mean_absolute_error: 0.0347 - val_loss: 0.0018 - val_mean_squared_error: 0.0018 - val_mean_absolute_error: 0.0343\n",
      "Epoch 15/50\n",
      "2800/2800 [==============================] - 0s 61us/step - loss: 0.0014 - mean_squared_error: 0.0014 - mean_absolute_error: 0.0311 - val_loss: 0.0014 - val_mean_squared_error: 0.0014 - val_mean_absolute_error: 0.0309\n",
      "Epoch 16/50\n",
      "2800/2800 [==============================] - 0s 62us/step - loss: 0.0012 - mean_squared_error: 0.0012 - mean_absolute_error: 0.0290 - val_loss: 0.0012 - val_mean_squared_error: 0.0012 - val_mean_absolute_error: 0.0291\n",
      "Epoch 17/50\n",
      "2800/2800 [==============================] - 0s 63us/step - loss: 0.0010 - mean_squared_error: 0.0010 - mean_absolute_error: 0.0264 - val_loss: 0.0010 - val_mean_squared_error: 0.0010 - val_mean_absolute_error: 0.0269\n",
      "Epoch 18/50\n",
      "2800/2800 [==============================] - 0s 62us/step - loss: 9.3441e-04 - mean_squared_error: 9.3441e-04 - mean_absolute_error: 0.0254 - val_loss: 9.0386e-04 - val_mean_squared_error: 9.0386e-04 - val_mean_absolute_error: 0.0255\n",
      "Epoch 19/50\n",
      "2800/2800 [==============================] - 0s 62us/step - loss: 7.8748e-04 - mean_squared_error: 7.8748e-04 - mean_absolute_error: 0.0232 - val_loss: 8.4905e-04 - val_mean_squared_error: 8.4905e-04 - val_mean_absolute_error: 0.0230\n",
      "Epoch 20/50\n",
      "2800/2800 [==============================] - 0s 63us/step - loss: 7.0244e-04 - mean_squared_error: 7.0244e-04 - mean_absolute_error: 0.0218 - val_loss: 8.6562e-04 - val_mean_squared_error: 8.6562e-04 - val_mean_absolute_error: 0.0257\n",
      "Epoch 21/50\n",
      "2800/2800 [==============================] - 0s 64us/step - loss: 6.4885e-04 - mean_squared_error: 6.4885e-04 - mean_absolute_error: 0.0209 - val_loss: 6.9193e-04 - val_mean_squared_error: 6.9193e-04 - val_mean_absolute_error: 0.0220\n",
      "Epoch 22/50\n",
      "2800/2800 [==============================] - 0s 68us/step - loss: 6.5731e-04 - mean_squared_error: 6.5731e-04 - mean_absolute_error: 0.0210 - val_loss: 7.8973e-04 - val_mean_squared_error: 7.8973e-04 - val_mean_absolute_error: 0.0215\n",
      "Epoch 23/50\n",
      "2800/2800 [==============================] - 0s 65us/step - loss: 7.9746e-04 - mean_squared_error: 7.9746e-04 - mean_absolute_error: 0.0229 - val_loss: 6.7717e-04 - val_mean_squared_error: 6.7717e-04 - val_mean_absolute_error: 0.0211\n",
      "Epoch 24/50\n",
      "2800/2800 [==============================] - 0s 59us/step - loss: 5.6265e-04 - mean_squared_error: 5.6265e-04 - mean_absolute_error: 0.0191 - val_loss: 7.1559e-04 - val_mean_squared_error: 7.1559e-04 - val_mean_absolute_error: 0.0230\n",
      "Epoch 25/50\n",
      "2800/2800 [==============================] - 0s 59us/step - loss: 6.6065e-04 - mean_squared_error: 6.6065e-04 - mean_absolute_error: 0.0208 - val_loss: 6.2853e-04 - val_mean_squared_error: 6.2853e-04 - val_mean_absolute_error: 0.0203\n",
      "Epoch 26/50\n",
      "2800/2800 [==============================] - 0s 59us/step - loss: 5.5852e-04 - mean_squared_error: 5.5852e-04 - mean_absolute_error: 0.0189 - val_loss: 5.8893e-04 - val_mean_squared_error: 5.8893e-04 - val_mean_absolute_error: 0.0196\n",
      "Epoch 27/50\n",
      "2800/2800 [==============================] - 0s 60us/step - loss: 5.2588e-04 - mean_squared_error: 5.2588e-04 - mean_absolute_error: 0.0182 - val_loss: 6.4497e-04 - val_mean_squared_error: 6.4497e-04 - val_mean_absolute_error: 0.0210\n",
      "Epoch 28/50\n",
      "2800/2800 [==============================] - 0s 59us/step - loss: 5.1183e-04 - mean_squared_error: 5.1183e-04 - mean_absolute_error: 0.0180 - val_loss: 5.5989e-04 - val_mean_squared_error: 5.5989e-04 - val_mean_absolute_error: 0.0182\n",
      "Epoch 29/50\n",
      "2800/2800 [==============================] - 0s 59us/step - loss: 5.1345e-04 - mean_squared_error: 5.1345e-04 - mean_absolute_error: 0.0179 - val_loss: 5.8073e-04 - val_mean_squared_error: 5.8073e-04 - val_mean_absolute_error: 0.0180\n",
      "Epoch 30/50\n",
      "2800/2800 [==============================] - 0s 60us/step - loss: 5.2501e-04 - mean_squared_error: 5.2501e-04 - mean_absolute_error: 0.0181 - val_loss: 8.0358e-04 - val_mean_squared_error: 8.0358e-04 - val_mean_absolute_error: 0.0205\n",
      "Epoch 31/50\n",
      "2800/2800 [==============================] - 0s 68us/step - loss: 5.3692e-04 - mean_squared_error: 5.3692e-04 - mean_absolute_error: 0.0180 - val_loss: 5.2283e-04 - val_mean_squared_error: 5.2283e-04 - val_mean_absolute_error: 0.0178\n",
      "Epoch 32/50\n",
      "2800/2800 [==============================] - 0s 58us/step - loss: 5.4955e-04 - mean_squared_error: 5.4955e-04 - mean_absolute_error: 0.0183 - val_loss: 5.2661e-04 - val_mean_squared_error: 5.2661e-04 - val_mean_absolute_error: 0.0171\n",
      "Epoch 33/50\n",
      "2800/2800 [==============================] - 0s 60us/step - loss: 6.8757e-04 - mean_squared_error: 6.8757e-04 - mean_absolute_error: 0.0198 - val_loss: 0.0013 - val_mean_squared_error: 0.0013 - val_mean_absolute_error: 0.0285\n",
      "Epoch 34/50\n",
      "2800/2800 [==============================] - 0s 62us/step - loss: 5.4591e-04 - mean_squared_error: 5.4591e-04 - mean_absolute_error: 0.0179 - val_loss: 5.1353e-04 - val_mean_squared_error: 5.1353e-04 - val_mean_absolute_error: 0.0168\n",
      "Epoch 35/50\n"
     ]
    },
    {
     "name": "stdout",
     "output_type": "stream",
     "text": [
      "2800/2800 [==============================] - 0s 62us/step - loss: 4.9720e-04 - mean_squared_error: 4.9720e-04 - mean_absolute_error: 0.0171 - val_loss: 5.1297e-04 - val_mean_squared_error: 5.1297e-04 - val_mean_absolute_error: 0.0173\n",
      "Epoch 36/50\n",
      "2800/2800 [==============================] - 0s 60us/step - loss: 8.1270e-04 - mean_squared_error: 8.1270e-04 - mean_absolute_error: 0.0211 - val_loss: 8.1295e-04 - val_mean_squared_error: 8.1295e-04 - val_mean_absolute_error: 0.0199\n",
      "Epoch 37/50\n",
      "2800/2800 [==============================] - 0s 59us/step - loss: 4.8800e-04 - mean_squared_error: 4.8800e-04 - mean_absolute_error: 0.0169 - val_loss: 6.3780e-04 - val_mean_squared_error: 6.3780e-04 - val_mean_absolute_error: 0.0207\n",
      "Epoch 38/50\n",
      "2800/2800 [==============================] - 0s 57us/step - loss: 4.7399e-04 - mean_squared_error: 4.7399e-04 - mean_absolute_error: 0.0167 - val_loss: 8.8612e-04 - val_mean_squared_error: 8.8612e-04 - val_mean_absolute_error: 0.0208\n",
      "Epoch 39/50\n",
      "2800/2800 [==============================] - 0s 58us/step - loss: 5.5793e-04 - mean_squared_error: 5.5793e-04 - mean_absolute_error: 0.0179 - val_loss: 5.0452e-04 - val_mean_squared_error: 5.0452e-04 - val_mean_absolute_error: 0.0165\n",
      "Epoch 40/50\n",
      "2800/2800 [==============================] - 0s 58us/step - loss: 4.4797e-04 - mean_squared_error: 4.4797e-04 - mean_absolute_error: 0.0161 - val_loss: 5.7373e-04 - val_mean_squared_error: 5.7373e-04 - val_mean_absolute_error: 0.0191\n",
      "Epoch 41/50\n",
      "2800/2800 [==============================] - 0s 58us/step - loss: 6.8546e-04 - mean_squared_error: 6.8546e-04 - mean_absolute_error: 0.0192 - val_loss: 7.0116e-04 - val_mean_squared_error: 7.0116e-04 - val_mean_absolute_error: 0.0184\n",
      "Epoch 42/50\n",
      "2800/2800 [==============================] - 0s 59us/step - loss: 4.4321e-04 - mean_squared_error: 4.4320e-04 - mean_absolute_error: 0.0158 - val_loss: 5.3690e-04 - val_mean_squared_error: 5.3690e-04 - val_mean_absolute_error: 0.0164\n",
      "Epoch 43/50\n",
      "2800/2800 [==============================] - 0s 57us/step - loss: 5.0399e-04 - mean_squared_error: 5.0399e-04 - mean_absolute_error: 0.0168 - val_loss: 7.6600e-04 - val_mean_squared_error: 7.6600e-04 - val_mean_absolute_error: 0.0223\n",
      "Epoch 44/50\n",
      "2800/2800 [==============================] - 0s 58us/step - loss: 4.7900e-04 - mean_squared_error: 4.7900e-04 - mean_absolute_error: 0.0164 - val_loss: 5.0867e-04 - val_mean_squared_error: 5.0867e-04 - val_mean_absolute_error: 0.0169\n",
      "Epoch 45/50\n",
      "2800/2800 [==============================] - 0s 59us/step - loss: 4.7626e-04 - mean_squared_error: 4.7626e-04 - mean_absolute_error: 0.0164 - val_loss: 5.4002e-04 - val_mean_squared_error: 5.4002e-04 - val_mean_absolute_error: 0.0180\n",
      "Epoch 46/50\n",
      "2800/2800 [==============================] - 0s 58us/step - loss: 4.2171e-04 - mean_squared_error: 4.2171e-04 - mean_absolute_error: 0.0153 - val_loss: 4.9085e-04 - val_mean_squared_error: 4.9085e-04 - val_mean_absolute_error: 0.0166\n",
      "Epoch 47/50\n",
      "2800/2800 [==============================] - 0s 62us/step - loss: 4.7386e-04 - mean_squared_error: 4.7386e-04 - mean_absolute_error: 0.0163 - val_loss: 6.4893e-04 - val_mean_squared_error: 6.4893e-04 - val_mean_absolute_error: 0.0205\n",
      "Epoch 48/50\n",
      "2800/2800 [==============================] - 0s 60us/step - loss: 5.2318e-04 - mean_squared_error: 5.2317e-04 - mean_absolute_error: 0.0170 - val_loss: 4.6584e-04 - val_mean_squared_error: 4.6584e-04 - val_mean_absolute_error: 0.0157\n",
      "Epoch 49/50\n",
      "2800/2800 [==============================] - 0s 61us/step - loss: 8.5787e-04 - mean_squared_error: 8.5787e-04 - mean_absolute_error: 0.0209 - val_loss: 0.0013 - val_mean_squared_error: 0.0013 - val_mean_absolute_error: 0.0265\n",
      "Epoch 50/50\n",
      "2800/2800 [==============================] - 0s 61us/step - loss: 5.1421e-04 - mean_squared_error: 5.1421e-04 - mean_absolute_error: 0.0165 - val_loss: 5.1607e-04 - val_mean_squared_error: 5.1607e-04 - val_mean_absolute_error: 0.0174\n"
     ]
    }
   ],
   "source": [
    "# fit as we are fitting the parameters to the data\n",
    "# verbose shows how much info is shown during model fitting\n",
    "# shuffle by default set to true so this is for visual purposes\n",
    "hist = model.fit(X_train, Y_train, validation_data=(X_val, Y_val), epochs=50, shuffle=True, verbose=1, batch_size=41)"
   ]
  },
  {
   "cell_type": "code",
   "execution_count": 13,
   "metadata": {},
   "outputs": [
    {
     "data": {
      "image/png": "[encoded data removed]",
      "text/plain": [
       "<Figure size 432x288 with 1 Axes>"
      ]
     },
     "metadata": {
      "needs_background": "light"
     },
     "output_type": "display_data"
    }
   ],
   "source": [
    "plt.title('Mean Squared Error')\n",
    "plt.plot(hist.history['mean_squared_error'], label='Train')\n",
    "plt.plot(hist.history['val_loss'], label='Test')\n",
    "plt.legend()\n",
    "plt.show()"
   ]
  },
  {
   "cell_type": "code",
   "execution_count": 14,
   "metadata": {},
   "outputs": [
    {
     "data": {
      "image/png": "[encoded data removed]",
      "text/plain": [
       "<Figure size 432x288 with 1 Axes>"
      ]
     },
     "metadata": {
      "needs_background": "light"
     },
     "output_type": "display_data"
    }
   ],
   "source": [
    "plt.plot(hist.history['mean_absolute_error'], label='Train')\n",
    "plt.plot(hist.history['val_mean_absolute_error'], label='Test')\n",
    "plt.legend()\n",
    "plt.show()"
   ]
  },
  {
   "cell_type": "code",
   "execution_count": 15,
   "metadata": {},
   "outputs": [
    {
     "name": "stdout",
     "output_type": "stream",
     "text": [
      "2800/2800 [==============================] - 0s 33us/step\n",
      "600/600 [==============================] - 0s 37us/step\n",
      "600/600 [==============================] - 0s 36us/step\n",
      "MSE train: 0.00045, MSE test: 0.00049 MSE val: 0.00052\n"
     ]
    }
   ],
   "source": [
    "#0 = loss, 1 = accuracy\n",
    "train_mse = (model.evaluate(X_train, Y_train, verbose=1))[1]\n",
    "test_mse = (model.evaluate(X_test, Y_test, verbose=1))[1]\n",
    "val_mse = (model.evaluate(X_val, Y_val, verbose=1))[1]\n",
    "print('MSE train: %.5f, MSE test: %.5f MSE val: %.5f' % (train_mse, test_mse, val_mse))"
   ]
  },
  {
   "cell_type": "code",
   "execution_count": 16,
   "metadata": {},
   "outputs": [],
   "source": [
    "# MSE train: 0.00045, MSE test: 0.00047"
   ]
  }
 ],
 "metadata": {
  "kernelspec": {
   "display_name": "Python 3",
   "language": "python",
   "name": "python3"
  },
  "language_info": {
   "codemirror_mode": {
    "name": "ipython",
    "version": 3
   },
   "file_extension": ".py",
   "mimetype": "text/x-python",
   "name": "python",
   "nbconvert_exporter": "python",
   "pygments_lexer": "ipython3",
   "version": "3.6.10"
  }
 },
 "nbformat": 4,
 "nbformat_minor": 4
}
