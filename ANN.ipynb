{
 "cells": [
  {
   "cell_type": "markdown",
   "metadata": {},
   "source": [
    "# Processing the data"
   ]
  },
  {
   "cell_type": "code",
   "execution_count": 1,
   "metadata": {},
   "outputs": [
    {
     "name": "stderr",
     "output_type": "stream",
     "text": [
      "Using TensorFlow backend.\n"
     ]
    }
   ],
   "source": [
    "import tensorflow as tf\n",
    "import pandas as pd\n",
    "from sklearn import preprocessing\n",
    "from sklearn.model_selection import train_test_split\n",
    "from sklearn.utils import shuffle\n",
    "from keras.models import Sequential\n",
    "from keras.layers import Dense\n",
    "from keras import regularizers\n",
    "from tensorflow import keras\n",
    "import matplotlib.pyplot as plt\n",
    "import numpy as np\n",
    "import time"
   ]
  },
  {
   "cell_type": "code",
   "execution_count": 2,
   "metadata": {},
   "outputs": [],
   "source": [
    "# Reproducibility\n",
    "seed = 8 # arbitrary number\n",
    "np.random.seed(seed=seed)\n",
    "tf.random.set_seed(seed=seed)"
   ]
  },
  {
   "cell_type": "code",
   "execution_count": 3,
   "metadata": {},
   "outputs": [
    {
     "name": "stdout",
     "output_type": "stream",
     "text": [
      "CPUs Available:  1\n",
      "GPUs Available:  0\n"
     ]
    }
   ],
   "source": [
    "physical_devices_cpu = tf.config.experimental.list_physical_devices('CPU')\n",
    "print('CPUs Available: ' ,len(physical_devices_cpu))\n",
    "physical_devices_gpu = tf.config.experimental.list_physical_devices('GPU')\n",
    "print('GPUs Available: ' ,len(physical_devices_gpu))"
   ]
  },
  {
   "cell_type": "code",
   "execution_count": 4,
   "metadata": {},
   "outputs": [],
   "source": [
    "def processing_data(N_channels, file_path):\n",
    "    df = pd.read_csv(file_path)\n",
    "    dataset = df.values\n",
    "    # dataset\n",
    "    dataset = df.values\n",
    "    # input power and channels statuses\n",
    "    X = dataset[:,0:N_channels+1]\n",
    "    # channel SNRs\n",
    "    Y = dataset[:,N_channels+1:2*N_channels+1]\n",
    "    # shuffle necessary because while shuffle=True in .fit() shuffles the data, it splits into different datasets first\n",
    "    X, Y = shuffle(X, Y)\n",
    "    # scaling between 0 and 1\n",
    "    min_max_scaler = preprocessing.MinMaxScaler()\n",
    "    X_scale = min_max_scaler.fit_transform(X)\n",
    "    Y_scale = min_max_scaler.fit_transform(Y)\n",
    "    X_train, X_val_and_test, Y_train, Y_val_and_test = train_test_split(X_scale, Y_scale, test_size=0.3)\n",
    "    X_val, X_test, Y_val, Y_test = train_test_split(X_val_and_test, Y_val_and_test, test_size=0.5)\n",
    "    print(X_train.shape, X_val.shape, X_test.shape, Y_train.shape, Y_val.shape, Y_test.shape)\n",
    "    return X_train, Y_train, X_val, Y_val, X_test, Y_test"
   ]
  },
  {
   "cell_type": "markdown",
   "metadata": {},
   "source": [
    "# Visualising the Model"
   ]
  },
  {
   "cell_type": "code",
   "execution_count": 5,
   "metadata": {},
   "outputs": [],
   "source": [
    "def visualising_data(hist):\n",
    "    plt.title('Mean Squared Error')\n",
    "    plt.plot(hist.history['mean_squared_error'], label='Train')\n",
    "    plt.plot(hist.history['val_loss'], label='Test')\n",
    "    plt.legend()\n",
    "    plt.show()\n",
    "#     plt.plot(hist.history['mean_absolute_error'], label='Train')\n",
    "#     plt.plot(hist.history['val_mean_absolute_error'], label='Test')\n",
    "#     plt.legend()\n",
    "#     plt.show()"
   ]
  },
  {
   "cell_type": "markdown",
   "metadata": {},
   "source": [
    "# Building the ANN"
   ]
  },
  {
   "cell_type": "code",
   "execution_count": 6,
   "metadata": {},
   "outputs": [],
   "source": [
    "def build_model(N_channels, file_path):\n",
    "    X_train, Y_train, X_val, Y_val, X_test, Y_test = processing_data(N_channels, file_path)\n",
    "    model = Sequential()\n",
    "#     kernel_regularizer=regularizers.l2(0.00001)  - ADD THIS AT SOME POINT\n",
    "    model.add(Dense(80, activation='relu', input_dim=N_channels+1))\n",
    "    model.add(Dense(80, activation='relu'))\n",
    "    model.add(Dense(N_channels, activation='sigmoid'))\n",
    "    # learning_rate=0.1 causes zig-zags, learning_rate=0.0001 is far too slow\n",
    "    opt = keras.optimizers.Adam(learning_rate=0.001)\n",
    "    model.compile(optimizer=opt, loss='mean_squared_error', metrics=['mean_squared_error', 'mean_absolute_error'])\n",
    "    # fit as we are fitting the parameters to the data\n",
    "    # verbose shows how much info is shown during model fitting\n",
    "    # shuffle by default set to true so this is for visual purposes\n",
    "    start_time = time.time()\n",
    "    hist = model.fit(X_train, Y_train, validation_data=(X_val, Y_val), epochs=40, shuffle=True, verbose=1, batch_size=N_channels+1)\n",
    "    print(\"--- %s seconds ---\" % (time.time() - start_time))\n",
    "    return hist, model, X_train, Y_train, X_val, Y_val, X_test, Y_test"
   ]
  },
  {
   "cell_type": "code",
   "execution_count": 7,
   "metadata": {},
   "outputs": [],
   "source": [
    "def evaluate_model(N_channels, file_path):\n",
    "    hist, model, X_train, Y_train, X_val, Y_val, X_test, Y_test = build_model(N_channels, file_path)\n",
    "    visualising_data(hist)\n",
    "    #0 = loss, 1 = accuracy\n",
    "    train_mse = (model.evaluate(X_train, Y_train, verbose=1))[1]\n",
    "    test_mse = (model.evaluate(X_test, Y_test, verbose=1))[1]\n",
    "    val_mse = (model.evaluate(X_val, Y_val, verbose=1))[1]\n",
    "    print('MSE train: %.5f, MSE test: %.5f MSE val: %.5f' % (train_mse, test_mse, val_mse))"
   ]
  },
  {
   "cell_type": "code",
   "execution_count": 8,
   "metadata": {},
   "outputs": [
    {
     "name": "stdout",
     "output_type": "stream",
     "text": [
      "(2100, 31) (450, 31) (450, 31) (2100, 30) (450, 30) (450, 30)\n",
      "Train on 2100 samples, validate on 450 samples\n",
      "Epoch 1/40\n",
      "2100/2100 [==============================] - 1s 259us/step - loss: 0.1381 - mean_squared_error: 0.1381 - mean_absolute_error: 0.3418 - val_loss: 0.1009 - val_mean_squared_error: 0.1009 - val_mean_absolute_error: 0.2853\n",
      "Epoch 2/40\n",
      "2100/2100 [==============================] - 0s 81us/step - loss: 0.0774 - mean_squared_error: 0.0774 - mean_absolute_error: 0.2388 - val_loss: 0.0619 - val_mean_squared_error: 0.0619 - val_mean_absolute_error: 0.2070\n",
      "Epoch 3/40\n",
      "2100/2100 [==============================] - 0s 78us/step - loss: 0.0491 - mean_squared_error: 0.0491 - mean_absolute_error: 0.1833 - val_loss: 0.0406 - val_mean_squared_error: 0.0406 - val_mean_absolute_error: 0.1653\n",
      "Epoch 4/40\n",
      "2100/2100 [==============================] - 0s 75us/step - loss: 0.0317 - mean_squared_error: 0.0317 - mean_absolute_error: 0.1451 - val_loss: 0.0264 - val_mean_squared_error: 0.0264 - val_mean_absolute_error: 0.1312\n",
      "Epoch 5/40\n",
      "2100/2100 [==============================] - 0s 75us/step - loss: 0.0204 - mean_squared_error: 0.0204 - mean_absolute_error: 0.1160 - val_loss: 0.0174 - val_mean_squared_error: 0.0174 - val_mean_absolute_error: 0.1064\n",
      "Epoch 6/40\n",
      "2100/2100 [==============================] - 0s 75us/step - loss: 0.0135 - mean_squared_error: 0.0135 - mean_absolute_error: 0.0941 - val_loss: 0.0116 - val_mean_squared_error: 0.0116 - val_mean_absolute_error: 0.0866\n",
      "Epoch 7/40\n",
      "2100/2100 [==============================] - 0s 76us/step - loss: 0.0091 - mean_squared_error: 0.0091 - mean_absolute_error: 0.0773 - val_loss: 0.0083 - val_mean_squared_error: 0.0083 - val_mean_absolute_error: 0.0729\n",
      "Epoch 8/40\n",
      "2100/2100 [==============================] - 0s 77us/step - loss: 0.0064 - mean_squared_error: 0.0064 - mean_absolute_error: 0.0644 - val_loss: 0.0056 - val_mean_squared_error: 0.0056 - val_mean_absolute_error: 0.0601\n",
      "Epoch 9/40\n",
      "2100/2100 [==============================] - 0s 76us/step - loss: 0.0043 - mean_squared_error: 0.0043 - mean_absolute_error: 0.0532 - val_loss: 0.0040 - val_mean_squared_error: 0.0040 - val_mean_absolute_error: 0.0510\n",
      "Epoch 10/40\n",
      "2100/2100 [==============================] - 0s 77us/step - loss: 0.0031 - mean_squared_error: 0.0031 - mean_absolute_error: 0.0453 - val_loss: 0.0032 - val_mean_squared_error: 0.0032 - val_mean_absolute_error: 0.0460\n",
      "Epoch 11/40\n",
      "2100/2100 [==============================] - 0s 77us/step - loss: 0.0023 - mean_squared_error: 0.0023 - mean_absolute_error: 0.0385 - val_loss: 0.0023 - val_mean_squared_error: 0.0023 - val_mean_absolute_error: 0.0380\n",
      "Epoch 12/40\n",
      "2100/2100 [==============================] - 0s 76us/step - loss: 0.0023 - mean_squared_error: 0.0023 - mean_absolute_error: 0.0388 - val_loss: 0.0021 - val_mean_squared_error: 0.0021 - val_mean_absolute_error: 0.0359\n",
      "Epoch 13/40\n",
      "2100/2100 [==============================] - 0s 77us/step - loss: 0.0018 - mean_squared_error: 0.0018 - mean_absolute_error: 0.0339 - val_loss: 0.0017 - val_mean_squared_error: 0.0017 - val_mean_absolute_error: 0.0323\n",
      "Epoch 14/40\n",
      "2100/2100 [==============================] - 0s 77us/step - loss: 0.0015 - mean_squared_error: 0.0015 - mean_absolute_error: 0.0305 - val_loss: 0.0015 - val_mean_squared_error: 0.0015 - val_mean_absolute_error: 0.0318\n",
      "Epoch 15/40\n",
      "2100/2100 [==============================] - 0s 76us/step - loss: 0.0014 - mean_squared_error: 0.0014 - mean_absolute_error: 0.0296 - val_loss: 0.0014 - val_mean_squared_error: 0.0014 - val_mean_absolute_error: 0.0298\n",
      "Epoch 16/40\n",
      "2100/2100 [==============================] - 0s 78us/step - loss: 0.0013 - mean_squared_error: 0.0013 - mean_absolute_error: 0.0287 - val_loss: 0.0016 - val_mean_squared_error: 0.0016 - val_mean_absolute_error: 0.0332\n",
      "Epoch 17/40\n",
      "2100/2100 [==============================] - 0s 75us/step - loss: 0.0013 - mean_squared_error: 0.0013 - mean_absolute_error: 0.0290 - val_loss: 0.0018 - val_mean_squared_error: 0.0018 - val_mean_absolute_error: 0.0347\n",
      "Epoch 18/40\n",
      "2100/2100 [==============================] - 0s 76us/step - loss: 0.0012 - mean_squared_error: 0.0012 - mean_absolute_error: 0.0277 - val_loss: 0.0014 - val_mean_squared_error: 0.0014 - val_mean_absolute_error: 0.0277\n",
      "Epoch 19/40\n",
      "2100/2100 [==============================] - 0s 77us/step - loss: 0.0013 - mean_squared_error: 0.0013 - mean_absolute_error: 0.0282 - val_loss: 0.0032 - val_mean_squared_error: 0.0032 - val_mean_absolute_error: 0.0428\n",
      "Epoch 20/40\n",
      "2100/2100 [==============================] - 0s 77us/step - loss: 0.0014 - mean_squared_error: 0.0014 - mean_absolute_error: 0.0286 - val_loss: 0.0015 - val_mean_squared_error: 0.0015 - val_mean_absolute_error: 0.0283\n",
      "Epoch 21/40\n",
      "2100/2100 [==============================] - 0s 75us/step - loss: 0.0012 - mean_squared_error: 0.0012 - mean_absolute_error: 0.0266 - val_loss: 0.0012 - val_mean_squared_error: 0.0012 - val_mean_absolute_error: 0.0264\n",
      "Epoch 22/40\n",
      "2100/2100 [==============================] - 0s 77us/step - loss: 0.0011 - mean_squared_error: 0.0011 - mean_absolute_error: 0.0260 - val_loss: 0.0011 - val_mean_squared_error: 0.0011 - val_mean_absolute_error: 0.0256\n",
      "Epoch 23/40\n",
      "2100/2100 [==============================] - 0s 77us/step - loss: 9.6563e-04 - mean_squared_error: 9.6563e-04 - mean_absolute_error: 0.0241 - val_loss: 0.0011 - val_mean_squared_error: 0.0011 - val_mean_absolute_error: 0.0250\n",
      "Epoch 24/40\n",
      "2100/2100 [==============================] - 0s 76us/step - loss: 0.0012 - mean_squared_error: 0.0012 - mean_absolute_error: 0.0266 - val_loss: 0.0014 - val_mean_squared_error: 0.0014 - val_mean_absolute_error: 0.0302\n",
      "Epoch 25/40\n",
      "2100/2100 [==============================] - 0s 76us/step - loss: 0.0011 - mean_squared_error: 0.0011 - mean_absolute_error: 0.0248 - val_loss: 0.0011 - val_mean_squared_error: 0.0011 - val_mean_absolute_error: 0.0247\n",
      "Epoch 26/40\n",
      "2100/2100 [==============================] - 0s 76us/step - loss: 0.0016 - mean_squared_error: 0.0016 - mean_absolute_error: 0.0292 - val_loss: 0.0022 - val_mean_squared_error: 0.0022 - val_mean_absolute_error: 0.0346\n",
      "Epoch 27/40\n",
      "2100/2100 [==============================] - 0s 77us/step - loss: 0.0012 - mean_squared_error: 0.0012 - mean_absolute_error: 0.0263 - val_loss: 0.0026 - val_mean_squared_error: 0.0026 - val_mean_absolute_error: 0.0372\n",
      "Epoch 28/40\n",
      "2100/2100 [==============================] - 0s 78us/step - loss: 0.0011 - mean_squared_error: 0.0011 - mean_absolute_error: 0.0253 - val_loss: 9.9672e-04 - val_mean_squared_error: 9.9672e-04 - val_mean_absolute_error: 0.0237\n",
      "Epoch 29/40\n",
      "2100/2100 [==============================] - 0s 76us/step - loss: 9.2435e-04 - mean_squared_error: 9.2435e-04 - mean_absolute_error: 0.0231 - val_loss: 0.0018 - val_mean_squared_error: 0.0018 - val_mean_absolute_error: 0.0330\n",
      "Epoch 30/40\n",
      "2100/2100 [==============================] - 0s 76us/step - loss: 9.1699e-04 - mean_squared_error: 9.1699e-04 - mean_absolute_error: 0.0229 - val_loss: 0.0014 - val_mean_squared_error: 0.0014 - val_mean_absolute_error: 0.0293\n",
      "Epoch 31/40\n",
      "2100/2100 [==============================] - 0s 77us/step - loss: 9.8082e-04 - mean_squared_error: 9.8082e-04 - mean_absolute_error: 0.0236 - val_loss: 9.7131e-04 - val_mean_squared_error: 9.7131e-04 - val_mean_absolute_error: 0.0231\n",
      "Epoch 32/40\n",
      "2100/2100 [==============================] - 0s 76us/step - loss: 0.0011 - mean_squared_error: 0.0011 - mean_absolute_error: 0.0248 - val_loss: 0.0012 - val_mean_squared_error: 0.0012 - val_mean_absolute_error: 0.0270\n",
      "Epoch 33/40\n",
      "2100/2100 [==============================] - 0s 84us/step - loss: 9.2378e-04 - mean_squared_error: 9.2378e-04 - mean_absolute_error: 0.0227 - val_loss: 0.0011 - val_mean_squared_error: 0.0011 - val_mean_absolute_error: 0.0234\n",
      "Epoch 34/40\n",
      "2100/2100 [==============================] - 0s 89us/step - loss: 0.0010 - mean_squared_error: 0.0010 - mean_absolute_error: 0.0240 - val_loss: 9.6802e-04 - val_mean_squared_error: 9.6802e-04 - val_mean_absolute_error: 0.0228\n",
      "Epoch 35/40\n",
      "2100/2100 [==============================] - 0s 80us/step - loss: 8.5064e-04 - mean_squared_error: 8.5064e-04 - mean_absolute_error: 0.0219 - val_loss: 0.0011 - val_mean_squared_error: 0.0011 - val_mean_absolute_error: 0.0235\n"
     ]
    },
    {
     "name": "stdout",
     "output_type": "stream",
     "text": [
      "Epoch 36/40\n",
      "2100/2100 [==============================] - 0s 76us/step - loss: 9.9632e-04 - mean_squared_error: 9.9632e-04 - mean_absolute_error: 0.0234 - val_loss: 0.0016 - val_mean_squared_error: 0.0016 - val_mean_absolute_error: 0.0284\n",
      "Epoch 37/40\n",
      "2100/2100 [==============================] - 0s 77us/step - loss: 9.7805e-04 - mean_squared_error: 9.7805e-04 - mean_absolute_error: 0.0230 - val_loss: 9.0724e-04 - val_mean_squared_error: 9.0724e-04 - val_mean_absolute_error: 0.0230\n",
      "Epoch 38/40\n",
      "2100/2100 [==============================] - 0s 73us/step - loss: 0.0011 - mean_squared_error: 0.0011 - mean_absolute_error: 0.0243 - val_loss: 0.0011 - val_mean_squared_error: 0.0011 - val_mean_absolute_error: 0.0235\n",
      "Epoch 39/40\n",
      "2100/2100 [==============================] - 0s 75us/step - loss: 8.5667e-04 - mean_squared_error: 8.5667e-04 - mean_absolute_error: 0.0218 - val_loss: 8.8984e-04 - val_mean_squared_error: 8.8984e-04 - val_mean_absolute_error: 0.0232\n",
      "Epoch 40/40\n",
      "2100/2100 [==============================] - 0s 74us/step - loss: 7.7903e-04 - mean_squared_error: 7.7903e-04 - mean_absolute_error: 0.0208 - val_loss: 9.5342e-04 - val_mean_squared_error: 9.5342e-04 - val_mean_absolute_error: 0.0219\n",
      "--- 7.214591979980469 seconds ---\n"
     ]
    },
    {
     "data": {
      "image/png": "[encoded data removed]",
      "text/plain": [
       "<Figure size 432x288 with 1 Axes>"
      ]
     },
     "metadata": {
      "needs_background": "light"
     },
     "output_type": "display_data"
    },
    {
     "name": "stdout",
     "output_type": "stream",
     "text": [
      "2100/2100 [==============================] - 0s 31us/step\n",
      "450/450 [==============================] - 0s 35us/step\n",
      "450/450 [==============================] - 0s 35us/step\n",
      "MSE train: 0.00076, MSE test: 0.00087 MSE val: 0.00095\n"
     ]
    }
   ],
   "source": [
    "N_channels = 30\n",
    "file_path = '/Users/jackkelly/Desktop/Building_Model/Data/30_channels_data_3000.csv'\n",
    "evaluate_model(N_channels, file_path)"
   ]
  },
  {
   "cell_type": "code",
   "execution_count": 9,
   "metadata": {},
   "outputs": [
    {
     "name": "stdout",
     "output_type": "stream",
     "text": [
      "(2800, 41) (600, 41) (600, 41) (2800, 40) (600, 40) (600, 40)\n",
      "Train on 2800 samples, validate on 600 samples\n",
      "Epoch 1/40\n",
      "2800/2800 [==============================] - 1s 209us/step - loss: 0.1646 - mean_squared_error: 0.1646 - mean_absolute_error: 0.3876 - val_loss: 0.1213 - val_mean_squared_error: 0.1213 - val_mean_absolute_error: 0.3047\n",
      "Epoch 2/40\n",
      "2800/2800 [==============================] - 0s 70us/step - loss: 0.1017 - mean_squared_error: 0.1017 - mean_absolute_error: 0.2683 - val_loss: 0.0827 - val_mean_squared_error: 0.0827 - val_mean_absolute_error: 0.2384\n",
      "Epoch 3/40\n",
      "2800/2800 [==============================] - 0s 68us/step - loss: 0.0672 - mean_squared_error: 0.0672 - mean_absolute_error: 0.2113 - val_loss: 0.0542 - val_mean_squared_error: 0.0542 - val_mean_absolute_error: 0.1887\n",
      "Epoch 4/40\n",
      "2800/2800 [==============================] - 0s 69us/step - loss: 0.0431 - mean_squared_error: 0.0431 - mean_absolute_error: 0.1639 - val_loss: 0.0344 - val_mean_squared_error: 0.0344 - val_mean_absolute_error: 0.1452\n",
      "Epoch 5/40\n",
      "2800/2800 [==============================] - 0s 67us/step - loss: 0.0273 - mean_squared_error: 0.0273 - mean_absolute_error: 0.1283 - val_loss: 0.0218 - val_mean_squared_error: 0.0218 - val_mean_absolute_error: 0.1137\n",
      "Epoch 6/40\n",
      "2800/2800 [==============================] - 0s 61us/step - loss: 0.0173 - mean_squared_error: 0.0173 - mean_absolute_error: 0.1019 - val_loss: 0.0139 - val_mean_squared_error: 0.0139 - val_mean_absolute_error: 0.0913\n",
      "Epoch 7/40\n",
      "2800/2800 [==============================] - 0s 60us/step - loss: 0.0112 - mean_squared_error: 0.0112 - mean_absolute_error: 0.0832 - val_loss: 0.0094 - val_mean_squared_error: 0.0094 - val_mean_absolute_error: 0.0762\n",
      "Epoch 8/40\n",
      "2800/2800 [==============================] - 0s 60us/step - loss: 0.0074 - mean_squared_error: 0.0074 - mean_absolute_error: 0.0688 - val_loss: 0.0065 - val_mean_squared_error: 0.0065 - val_mean_absolute_error: 0.0640\n",
      "Epoch 9/40\n",
      "2800/2800 [==============================] - 0s 62us/step - loss: 0.0052 - mean_squared_error: 0.0052 - mean_absolute_error: 0.0585 - val_loss: 0.0046 - val_mean_squared_error: 0.0046 - val_mean_absolute_error: 0.0555\n",
      "Epoch 10/40\n",
      "2800/2800 [==============================] - 0s 62us/step - loss: 0.0037 - mean_squared_error: 0.0037 - mean_absolute_error: 0.0501 - val_loss: 0.0034 - val_mean_squared_error: 0.0034 - val_mean_absolute_error: 0.0471\n",
      "Epoch 11/40\n",
      "2800/2800 [==============================] - 0s 61us/step - loss: 0.0027 - mean_squared_error: 0.0027 - mean_absolute_error: 0.0433 - val_loss: 0.0025 - val_mean_squared_error: 0.0025 - val_mean_absolute_error: 0.0408\n",
      "Epoch 12/40\n",
      "2800/2800 [==============================] - 0s 61us/step - loss: 0.0021 - mean_squared_error: 0.0021 - mean_absolute_error: 0.0381 - val_loss: 0.0020 - val_mean_squared_error: 0.0020 - val_mean_absolute_error: 0.0379\n",
      "Epoch 13/40\n",
      "2800/2800 [==============================] - 0s 62us/step - loss: 0.0017 - mean_squared_error: 0.0017 - mean_absolute_error: 0.0344 - val_loss: 0.0016 - val_mean_squared_error: 0.0016 - val_mean_absolute_error: 0.0322\n",
      "Epoch 14/40\n",
      "2800/2800 [==============================] - 0s 70us/step - loss: 0.0013 - mean_squared_error: 0.0013 - mean_absolute_error: 0.0303 - val_loss: 0.0013 - val_mean_squared_error: 0.0013 - val_mean_absolute_error: 0.0294\n",
      "Epoch 15/40\n",
      "2800/2800 [==============================] - 0s 62us/step - loss: 0.0011 - mean_squared_error: 0.0011 - mean_absolute_error: 0.0278 - val_loss: 0.0011 - val_mean_squared_error: 0.0011 - val_mean_absolute_error: 0.0270\n",
      "Epoch 16/40\n",
      "2800/2800 [==============================] - 0s 64us/step - loss: 9.5856e-04 - mean_squared_error: 9.5856e-04 - mean_absolute_error: 0.0259 - val_loss: 9.1438e-04 - val_mean_squared_error: 9.1438e-04 - val_mean_absolute_error: 0.0246\n",
      "Epoch 17/40\n",
      "2800/2800 [==============================] - 0s 67us/step - loss: 8.1554e-04 - mean_squared_error: 8.1554e-04 - mean_absolute_error: 0.0237 - val_loss: 8.2435e-04 - val_mean_squared_error: 8.2435e-04 - val_mean_absolute_error: 0.0233\n",
      "Epoch 18/40\n",
      "2800/2800 [==============================] - 0s 65us/step - loss: 7.7668e-04 - mean_squared_error: 7.7668e-04 - mean_absolute_error: 0.0231 - val_loss: 7.8001e-04 - val_mean_squared_error: 7.8001e-04 - val_mean_absolute_error: 0.0230\n",
      "Epoch 19/40\n",
      "2800/2800 [==============================] - 0s 65us/step - loss: 6.8218e-04 - mean_squared_error: 6.8218e-04 - mean_absolute_error: 0.0216 - val_loss: 7.7798e-04 - val_mean_squared_error: 7.7798e-04 - val_mean_absolute_error: 0.0216\n",
      "Epoch 20/40\n",
      "2800/2800 [==============================] - 0s 65us/step - loss: 6.7708e-04 - mean_squared_error: 6.7708e-04 - mean_absolute_error: 0.0214 - val_loss: 6.7555e-04 - val_mean_squared_error: 6.7555e-04 - val_mean_absolute_error: 0.0210\n",
      "Epoch 21/40\n",
      "2800/2800 [==============================] - 0s 65us/step - loss: 6.1377e-04 - mean_squared_error: 6.1377e-04 - mean_absolute_error: 0.0203 - val_loss: 6.5007e-04 - val_mean_squared_error: 6.5007e-04 - val_mean_absolute_error: 0.0199\n",
      "Epoch 22/40\n",
      "2800/2800 [==============================] - 0s 68us/step - loss: 6.2886e-04 - mean_squared_error: 6.2886e-04 - mean_absolute_error: 0.0205 - val_loss: 6.3076e-04 - val_mean_squared_error: 6.3076e-04 - val_mean_absolute_error: 0.0194\n",
      "Epoch 23/40\n",
      "2800/2800 [==============================] - 0s 66us/step - loss: 6.2857e-04 - mean_squared_error: 6.2857e-04 - mean_absolute_error: 0.0204 - val_loss: 6.7799e-04 - val_mean_squared_error: 6.7799e-04 - val_mean_absolute_error: 0.0197\n",
      "Epoch 24/40\n",
      "2800/2800 [==============================] - 0s 67us/step - loss: 5.3983e-04 - mean_squared_error: 5.3983e-04 - mean_absolute_error: 0.0187 - val_loss: 6.2233e-04 - val_mean_squared_error: 6.2233e-04 - val_mean_absolute_error: 0.0203\n",
      "Epoch 25/40\n",
      "2800/2800 [==============================] - 0s 67us/step - loss: 6.0213e-04 - mean_squared_error: 6.0213e-04 - mean_absolute_error: 0.0197 - val_loss: 5.8142e-04 - val_mean_squared_error: 5.8142e-04 - val_mean_absolute_error: 0.0188\n",
      "Epoch 26/40\n",
      "2800/2800 [==============================] - 0s 67us/step - loss: 5.7000e-04 - mean_squared_error: 5.7000e-04 - mean_absolute_error: 0.0192 - val_loss: 6.0063e-04 - val_mean_squared_error: 6.0063e-04 - val_mean_absolute_error: 0.0183\n",
      "Epoch 27/40\n",
      "2800/2800 [==============================] - 0s 70us/step - loss: 5.7727e-04 - mean_squared_error: 5.7727e-04 - mean_absolute_error: 0.0191 - val_loss: 5.8695e-04 - val_mean_squared_error: 5.8695e-04 - val_mean_absolute_error: 0.0195\n",
      "Epoch 28/40\n",
      "2800/2800 [==============================] - 0s 67us/step - loss: 5.9779e-04 - mean_squared_error: 5.9779e-04 - mean_absolute_error: 0.0194 - val_loss: 5.3914e-04 - val_mean_squared_error: 5.3914e-04 - val_mean_absolute_error: 0.0179\n",
      "Epoch 29/40\n",
      "2800/2800 [==============================] - 0s 67us/step - loss: 5.0874e-04 - mean_squared_error: 5.0874e-04 - mean_absolute_error: 0.0178 - val_loss: 5.8769e-04 - val_mean_squared_error: 5.8769e-04 - val_mean_absolute_error: 0.0177\n",
      "Epoch 30/40\n",
      "2800/2800 [==============================] - 0s 67us/step - loss: 5.0607e-04 - mean_squared_error: 5.0607e-04 - mean_absolute_error: 0.0177 - val_loss: 5.3048e-04 - val_mean_squared_error: 5.3048e-04 - val_mean_absolute_error: 0.0177\n",
      "Epoch 31/40\n",
      "2800/2800 [==============================] - 0s 68us/step - loss: 5.9034e-04 - mean_squared_error: 5.9034e-04 - mean_absolute_error: 0.0188 - val_loss: 0.0011 - val_mean_squared_error: 0.0011 - val_mean_absolute_error: 0.0274\n",
      "Epoch 32/40\n",
      "2800/2800 [==============================] - 0s 67us/step - loss: 5.9316e-04 - mean_squared_error: 5.9316e-04 - mean_absolute_error: 0.0189 - val_loss: 5.4780e-04 - val_mean_squared_error: 5.4780e-04 - val_mean_absolute_error: 0.0183\n",
      "Epoch 33/40\n",
      "2800/2800 [==============================] - 0s 68us/step - loss: 6.7827e-04 - mean_squared_error: 6.7827e-04 - mean_absolute_error: 0.0196 - val_loss: 8.2716e-04 - val_mean_squared_error: 8.2716e-04 - val_mean_absolute_error: 0.0213\n",
      "Epoch 34/40\n",
      "2800/2800 [==============================] - 0s 65us/step - loss: 7.4228e-04 - mean_squared_error: 7.4228e-04 - mean_absolute_error: 0.0205 - val_loss: 9.6467e-04 - val_mean_squared_error: 9.6467e-04 - val_mean_absolute_error: 0.0251\n"
     ]
    },
    {
     "name": "stdout",
     "output_type": "stream",
     "text": [
      "Epoch 35/40\n",
      "2800/2800 [==============================] - 0s 66us/step - loss: 4.9944e-04 - mean_squared_error: 4.9944e-04 - mean_absolute_error: 0.0172 - val_loss: 4.9884e-04 - val_mean_squared_error: 4.9884e-04 - val_mean_absolute_error: 0.0164\n",
      "Epoch 36/40\n",
      "2800/2800 [==============================] - 0s 66us/step - loss: 4.8169e-04 - mean_squared_error: 4.8169e-04 - mean_absolute_error: 0.0169 - val_loss: 6.2266e-04 - val_mean_squared_error: 6.2266e-04 - val_mean_absolute_error: 0.0198\n",
      "Epoch 37/40\n",
      "2800/2800 [==============================] - 0s 66us/step - loss: 5.2658e-04 - mean_squared_error: 5.2658e-04 - mean_absolute_error: 0.0176 - val_loss: 4.7577e-04 - val_mean_squared_error: 4.7577e-04 - val_mean_absolute_error: 0.0160\n",
      "Epoch 38/40\n",
      "2800/2800 [==============================] - 0s 68us/step - loss: 4.6341e-04 - mean_squared_error: 4.6341e-04 - mean_absolute_error: 0.0165 - val_loss: 5.5220e-04 - val_mean_squared_error: 5.5220e-04 - val_mean_absolute_error: 0.0166\n",
      "Epoch 39/40\n",
      "2800/2800 [==============================] - 0s 66us/step - loss: 5.3871e-04 - mean_squared_error: 5.3871e-04 - mean_absolute_error: 0.0177 - val_loss: 7.1845e-04 - val_mean_squared_error: 7.1845e-04 - val_mean_absolute_error: 0.0186\n",
      "Epoch 40/40\n",
      "2800/2800 [==============================] - 0s 66us/step - loss: 5.5062e-04 - mean_squared_error: 5.5062e-04 - mean_absolute_error: 0.0180 - val_loss: 4.9044e-04 - val_mean_squared_error: 4.9044e-04 - val_mean_absolute_error: 0.0166\n",
      "--- 8.06763505935669 seconds ---\n"
     ]
    },
    {
     "data": {
      "image/png": "[encoded data removed]",
      "text/plain": [
       "<Figure size 432x288 with 1 Axes>"
      ]
     },
     "metadata": {
      "needs_background": "light"
     },
     "output_type": "display_data"
    },
    {
     "name": "stdout",
     "output_type": "stream",
     "text": [
      "2800/2800 [==============================] - 0s 32us/step\n",
      "600/600 [==============================] - 0s 35us/step\n",
      "600/600 [==============================] - 0s 37us/step\n",
      "MSE train: 0.00041, MSE test: 0.00047 MSE val: 0.00049\n"
     ]
    }
   ],
   "source": [
    "N_channels = 40\n",
    "file_path = '/Users/jackkelly/Desktop/Building_Model/Data/40_channels_data_4000.csv'\n",
    "evaluate_model(N_channels, file_path)"
   ]
  }
 ],
 "metadata": {
  "kernelspec": {
   "display_name": "Python 3",
   "language": "python",
   "name": "python3"
  },
  "language_info": {
   "codemirror_mode": {
    "name": "ipython",
    "version": 3
   },
   "file_extension": ".py",
   "mimetype": "text/x-python",
   "name": "python",
   "nbconvert_exporter": "python",
   "pygments_lexer": "ipython3",
   "version": "3.6.10"
  }
 },
 "nbformat": 4,
 "nbformat_minor": 4
}
