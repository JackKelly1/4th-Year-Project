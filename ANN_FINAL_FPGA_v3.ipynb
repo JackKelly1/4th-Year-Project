{
 "cells": [
  {
   "cell_type": "code",
   "execution_count": 52,
   "metadata": {},
   "outputs": [],
   "source": [
    "import tensorflow.compat.v2 as tf\n",
    "import pandas as pd\n",
    "from sklearn import preprocessing\n",
    "from sklearn.model_selection import train_test_split\n",
    "from sklearn.utils import shuffle\n",
    "from sklearn.metrics import mean_squared_error\n",
    "# from keras.models import Sequential\n",
    "# from keras.layers import Dense\n",
    "# from keras.layers import Dropout\n",
    "# from keras import regularizers\n",
    "from tensorflow import keras\n",
    "import matplotlib.pyplot as plt\n",
    "import numpy as np\n",
    "import time\n",
    "import h5py\n",
    "import kerastuner as kt\n",
    "import tempfile\n",
    "import os\n",
    "import sys\n",
    "import csv\n",
    "sys.path.append('/Users/jackkelly/Desktop/Building_Model/qkeras')\n",
    "from qkeras.utils import model_quantize\n",
    "from qkeras.utils import model_save_quantized_weights\n",
    "from qkeras.utils import print_model_sparsity\n",
    "import qkeras\n",
    "import tensorflow_model_optimization as tfmot"
   ]
  },
  {
   "cell_type": "code",
   "execution_count": 3,
   "metadata": {},
   "outputs": [],
   "source": [
    "# Reproducibility\n",
    "seed = 9 # arbitrary number\n",
    "np.random.seed(seed=seed)\n",
    "tf.random.set_seed(seed=seed)"
   ]
  },
  {
   "cell_type": "code",
   "execution_count": 4,
   "metadata": {},
   "outputs": [],
   "source": [
    "### IMPORT, RAMDOMIZE AND SCALE DATA ###\n",
    "def processing_data(N_channels, file_path):\n",
    "    df = pd.read_csv(file_path)\n",
    "    # dataset\n",
    "    dataset = df.values\n",
    "    # input power and channels statuses\n",
    "    X = dataset[:,0:N_channels+1]\n",
    "    # channel SNRs\n",
    "    Y = dataset[:,N_channels+1:2*N_channels+1]\n",
    "    # shuffle necessary because while shuffle=True in .fit() shuffles the data, it splits into different datasets first\n",
    "    X, Y = shuffle(X, Y)\n",
    "    # scaling between 0 and 1\n",
    "    min_max_scaler = preprocessing.MinMaxScaler()\n",
    "    X = min_max_scaler.fit_transform(X)\n",
    "    Y = min_max_scaler.fit_transform(Y)\n",
    "    return X, Y"
   ]
  },
  {
   "cell_type": "code",
   "execution_count": 5,
   "metadata": {},
   "outputs": [],
   "source": [
    "### IMPORT 10,000 PIECES OF DATA ###\n",
    "\n",
    "N_channels = 40\n",
    "file_path = '/Users/jackkelly/Desktop/Building_Model/Data_NEW/10000_initial_data.csv'\n",
    "X_scale, Y_scale = processing_data(N_channels, file_path)"
   ]
  },
  {
   "cell_type": "code",
   "execution_count": 5,
   "metadata": {},
   "outputs": [],
   "source": [
    "### FUNCTION TAKES HYPERPARAMETERS AND RETURNS COMPILED MODEL ###\n",
    "\n",
    "def model_builder(hp):\n",
    "    model = keras.Sequential()\n",
    "    model.add(keras.layers.InputLayer(input_shape=N_channels+1))\n",
    "#     hp_regularizer = hp.Choice('regularizer_penalty', values=[1e-4, 1e-5, 1e-6])\n",
    "#     for i in range(hp.Int('n_layers', 1, 2)):\n",
    "    model.add(keras.layers.Dense(hp.Int('hidden_units', min_value=20, max_value=150, step=2), kernel_regularizer=tf.keras.regularizers.l2(1e-6)))\n",
    "#     model.add(keras.layers.Dense(hp.Int('hidden_units', min_value=10, max_value=320, step=1), kernel_regularizer=tf.keras.regularizers.l2(hp_regularizer)))\n",
    "#         model.add(keras.layers.Dense(hp.Int(f'hidden_{i}_units', min_value=10, max_value=320, step=1)))\n",
    "#     SHOULD DROPOUT BE INCLUDED??\n",
    "#     model.add(keras.layers.Dropout(0.1))\n",
    "    model.add(keras.layers.Dense(N_channels, activation='sigmoid', kernel_regularizer=tf.keras.regularizers.l2(1e-6)))\n",
    "#     model.add(keras.layers.Dense(N_channels, activation='sigmoid', kernel_regularizer=tf.keras.regularizers.l2(hp_regularizer)))\n",
    "    # Tune the learning rate for the optimizer\n",
    "    # Choose an optimal value from 0.01, 0.001, or 0.0001\n",
    "    hp_learning_rate = hp.Choice('learning_rate', values=[1e-2, 1e-3, 1e-4])\n",
    "    model.compile(optimizer=keras.optimizers.Adam(learning_rate=hp_learning_rate),\n",
    "                    loss=keras.losses.MeanSquaredError(), metrics=['mean_squared_error', 'mean_absolute_error'])\n",
    "    return model"
   ]
  },
  {
   "cell_type": "code",
   "execution_count": 6,
   "metadata": {},
   "outputs": [],
   "source": [
    "### CREATE HYPERBAND TUNER ###\n",
    "\n",
    "# The maximum number of epochs to train one model. It is recommended to \n",
    "# set this to a value slightly higher than the expected time \n",
    "# to convergence for your largest Model, and to use early stopping \n",
    "# during training\n",
    "tuner = kt.Hyperband(model_builder,\n",
    "                     objective=kt.Objective('val_mean_squared_error', 'min'),\n",
    "                     max_epochs=50,\n",
    "                     factor=3,\n",
    "                     directory='/Users/jackkelly/Desktop/Building_Model/',\n",
    "                     project_name='intro_to_kt_layers_fpga',\n",
    "                     overwrite=True,\n",
    "                     seed=8)\n",
    "stop_early = tf.keras.callbacks.EarlyStopping(monitor='val_mean_squared_error', patience=5)"
   ]
  },
  {
   "cell_type": "code",
   "execution_count": 7,
   "metadata": {},
   "outputs": [
    {
     "name": "stdout",
     "output_type": "stream",
     "text": [
      "Train on 8000 samples, validate on 2000 samples\n",
      "Epoch 1/2\n",
      "8000/8000 - 2s - loss: 0.1552 - mean_squared_error: 0.1551 - mean_absolute_error: 0.3615 - val_loss: 0.0950 - val_mean_squared_error: 0.0949 - val_mean_absolute_error: 0.2776\n",
      "Epoch 2/2\n",
      "8000/8000 - 1s - loss: 0.0639 - mean_squared_error: 0.0637 - mean_absolute_error: 0.2169 - val_loss: 0.0420 - val_mean_squared_error: 0.0418 - val_mean_absolute_error: 0.1712\n"
     ]
    },
    {
     "data": {
      "text/html": [
       "<span style=\"color:#4527A0\"><h1 style=\"font-size:18px\">Trial complete</h1></span>"
      ],
      "text/plain": [
       "<IPython.core.display.HTML object>"
      ]
     },
     "metadata": {},
     "output_type": "display_data"
    },
    {
     "data": {
      "text/html": [
       "<span style=\"color:#4527A0\"><h1 style=\"font-size:18px\">Trial summary</h1></span>"
      ],
      "text/plain": [
       "<IPython.core.display.HTML object>"
      ]
     },
     "metadata": {},
     "output_type": "display_data"
    },
    {
     "data": {
      "text/html": [
       "<span style=\"color:cyan\"> |-Trial ID: c2c3744c084ba5a48acc2e58340fab73</span>"
      ],
      "text/plain": [
       "<IPython.core.display.HTML object>"
      ]
     },
     "metadata": {},
     "output_type": "display_data"
    },
    {
     "data": {
      "text/html": [
       "<span style=\"color:cyan\"> |-Score: 0.04177151992917061</span>"
      ],
      "text/plain": [
       "<IPython.core.display.HTML object>"
      ]
     },
     "metadata": {},
     "output_type": "display_data"
    },
    {
     "data": {
      "text/html": [
       "<span style=\"color:cyan\"> |-Best step: 0</span>"
      ],
      "text/plain": [
       "<IPython.core.display.HTML object>"
      ]
     },
     "metadata": {},
     "output_type": "display_data"
    },
    {
     "data": {
      "text/html": [
       "<span style=\"color:#7E57C2\"><h2 style=\"font-size:16px\">Hyperparameters:</h2></span>"
      ],
      "text/plain": [
       "<IPython.core.display.HTML object>"
      ]
     },
     "metadata": {},
     "output_type": "display_data"
    },
    {
     "data": {
      "text/html": [
       "<span style=\"color:cyan\"> |-hidden_units: 50</span>"
      ],
      "text/plain": [
       "<IPython.core.display.HTML object>"
      ]
     },
     "metadata": {},
     "output_type": "display_data"
    },
    {
     "data": {
      "text/html": [
       "<span style=\"color:blue\"> |-learning_rate: 0.001</span>"
      ],
      "text/plain": [
       "<IPython.core.display.HTML object>"
      ]
     },
     "metadata": {},
     "output_type": "display_data"
    },
    {
     "data": {
      "text/html": [
       "<span style=\"color:cyan\"> |-tuner/bracket: 3</span>"
      ],
      "text/plain": [
       "<IPython.core.display.HTML object>"
      ]
     },
     "metadata": {},
     "output_type": "display_data"
    },
    {
     "data": {
      "text/html": [
       "<span style=\"color:blue\"> |-tuner/epochs: 2</span>"
      ],
      "text/plain": [
       "<IPython.core.display.HTML object>"
      ]
     },
     "metadata": {},
     "output_type": "display_data"
    },
    {
     "data": {
      "text/html": [
       "<span style=\"color:cyan\"> |-tuner/initial_epoch: 0</span>"
      ],
      "text/plain": [
       "<IPython.core.display.HTML object>"
      ]
     },
     "metadata": {},
     "output_type": "display_data"
    },
    {
     "data": {
      "text/html": [
       "<span style=\"color:blue\"> |-tuner/round: 0</span>"
      ],
      "text/plain": [
       "<IPython.core.display.HTML object>"
      ]
     },
     "metadata": {},
     "output_type": "display_data"
    },
    {
     "name": "stdout",
     "output_type": "stream",
     "text": [
      "Train on 8000 samples, validate on 2000 samples\n",
      "Epoch 1/2\n",
      "8000/8000 - 1s - loss: 0.1282 - mean_squared_error: 0.1281 - mean_absolute_error: 0.3239 - val_loss: 0.0598 - val_mean_squared_error: 0.0596 - val_mean_absolute_error: 0.2150\n",
      "Epoch 2/2\n",
      "8000/8000 - 1s - loss: 0.0321 - mean_squared_error: 0.0319 - mean_absolute_error: 0.1529 - val_loss: 0.0151 - val_mean_squared_error: 0.0148 - val_mean_absolute_error: 0.1065\n"
     ]
    },
    {
     "data": {
      "text/html": [
       "<span style=\"color:#4527A0\"><h1 style=\"font-size:18px\">Trial complete</h1></span>"
      ],
      "text/plain": [
       "<IPython.core.display.HTML object>"
      ]
     },
     "metadata": {},
     "output_type": "display_data"
    },
    {
     "data": {
      "text/html": [
       "<span style=\"color:#4527A0\"><h1 style=\"font-size:18px\">Trial summary</h1></span>"
      ],
      "text/plain": [
       "<IPython.core.display.HTML object>"
      ]
     },
     "metadata": {},
     "output_type": "display_data"
    },
    {
     "data": {
      "text/html": [
       "<span style=\"color:cyan\"> |-Trial ID: d1185db744694745a3644b26dbf63d64</span>"
      ],
      "text/plain": [
       "<IPython.core.display.HTML object>"
      ]
     },
     "metadata": {},
     "output_type": "display_data"
    },
    {
     "data": {
      "text/html": [
       "<span style=\"color:cyan\"> |-Score: 0.014810764230787754</span>"
      ],
      "text/plain": [
       "<IPython.core.display.HTML object>"
      ]
     },
     "metadata": {},
     "output_type": "display_data"
    },
    {
     "data": {
      "text/html": [
       "<span style=\"color:cyan\"> |-Best step: 0</span>"
      ],
      "text/plain": [
       "<IPython.core.display.HTML object>"
      ]
     },
     "metadata": {},
     "output_type": "display_data"
    },
    {
     "data": {
      "text/html": [
       "<span style=\"color:#7E57C2\"><h2 style=\"font-size:16px\">Hyperparameters:</h2></span>"
      ],
      "text/plain": [
       "<IPython.core.display.HTML object>"
      ]
     },
     "metadata": {},
     "output_type": "display_data"
    },
    {
     "data": {
      "text/html": [
       "<span style=\"color:cyan\"> |-hidden_units: 94</span>"
      ],
      "text/plain": [
       "<IPython.core.display.HTML object>"
      ]
     },
     "metadata": {},
     "output_type": "display_data"
    },
    {
     "data": {
      "text/html": [
       "<span style=\"color:blue\"> |-learning_rate: 0.001</span>"
      ],
      "text/plain": [
       "<IPython.core.display.HTML object>"
      ]
     },
     "metadata": {},
     "output_type": "display_data"
    },
    {
     "data": {
      "text/html": [
       "<span style=\"color:cyan\"> |-tuner/bracket: 3</span>"
      ],
      "text/plain": [
       "<IPython.core.display.HTML object>"
      ]
     },
     "metadata": {},
     "output_type": "display_data"
    },
    {
     "data": {
      "text/html": [
       "<span style=\"color:blue\"> |-tuner/epochs: 2</span>"
      ],
      "text/plain": [
       "<IPython.core.display.HTML object>"
      ]
     },
     "metadata": {},
     "output_type": "display_data"
    },
    {
     "data": {
      "text/html": [
       "<span style=\"color:cyan\"> |-tuner/initial_epoch: 0</span>"
      ],
      "text/plain": [
       "<IPython.core.display.HTML object>"
      ]
     },
     "metadata": {},
     "output_type": "display_data"
    },
    {
     "data": {
      "text/html": [
       "<span style=\"color:blue\"> |-tuner/round: 0</span>"
      ],
      "text/plain": [
       "<IPython.core.display.HTML object>"
      ]
     },
     "metadata": {},
     "output_type": "display_data"
    },
    {
     "name": "stdout",
     "output_type": "stream",
     "text": [
      "Train on 8000 samples, validate on 2000 samples\n",
      "Epoch 1/2\n",
      "8000/8000 - 1s - loss: 0.1339 - mean_squared_error: 0.1338 - mean_absolute_error: 0.3323 - val_loss: 0.0673 - val_mean_squared_error: 0.0671 - val_mean_absolute_error: 0.2298\n",
      "Epoch 2/2\n",
      "8000/8000 - 1s - loss: 0.0386 - mean_squared_error: 0.0384 - mean_absolute_error: 0.1680 - val_loss: 0.0194 - val_mean_squared_error: 0.0191 - val_mean_absolute_error: 0.1197\n"
     ]
    },
    {
     "data": {
      "text/html": [
       "<span style=\"color:#4527A0\"><h1 style=\"font-size:18px\">Trial complete</h1></span>"
      ],
      "text/plain": [
       "<IPython.core.display.HTML object>"
      ]
     },
     "metadata": {},
     "output_type": "display_data"
    },
    {
     "data": {
      "text/html": [
       "<span style=\"color:#4527A0\"><h1 style=\"font-size:18px\">Trial summary</h1></span>"
      ],
      "text/plain": [
       "<IPython.core.display.HTML object>"
      ]
     },
     "metadata": {},
     "output_type": "display_data"
    },
    {
     "data": {
      "text/html": [
       "<span style=\"color:cyan\"> |-Trial ID: 084fc35615cdb3b703068de6b2c04922</span>"
      ],
      "text/plain": [
       "<IPython.core.display.HTML object>"
      ]
     },
     "metadata": {},
     "output_type": "display_data"
    },
    {
     "data": {
      "text/html": [
       "<span style=\"color:cyan\"> |-Score: 0.019063320010900497</span>"
      ],
      "text/plain": [
       "<IPython.core.display.HTML object>"
      ]
     },
     "metadata": {},
     "output_type": "display_data"
    },
    {
     "data": {
      "text/html": [
       "<span style=\"color:cyan\"> |-Best step: 0</span>"
      ],
      "text/plain": [
       "<IPython.core.display.HTML object>"
      ]
     },
     "metadata": {},
     "output_type": "display_data"
    },
    {
     "data": {
      "text/html": [
       "<span style=\"color:#7E57C2\"><h2 style=\"font-size:16px\">Hyperparameters:</h2></span>"
      ],
      "text/plain": [
       "<IPython.core.display.HTML object>"
      ]
     },
     "metadata": {},
     "output_type": "display_data"
    },
    {
     "data": {
      "text/html": [
       "<span style=\"color:cyan\"> |-hidden_units: 82</span>"
      ],
      "text/plain": [
       "<IPython.core.display.HTML object>"
      ]
     },
     "metadata": {},
     "output_type": "display_data"
    },
    {
     "data": {
      "text/html": [
       "<span style=\"color:blue\"> |-learning_rate: 0.001</span>"
      ],
      "text/plain": [
       "<IPython.core.display.HTML object>"
      ]
     },
     "metadata": {},
     "output_type": "display_data"
    },
    {
     "data": {
      "text/html": [
       "<span style=\"color:cyan\"> |-tuner/bracket: 3</span>"
      ],
      "text/plain": [
       "<IPython.core.display.HTML object>"
      ]
     },
     "metadata": {},
     "output_type": "display_data"
    },
    {
     "data": {
      "text/html": [
       "<span style=\"color:blue\"> |-tuner/epochs: 2</span>"
      ],
      "text/plain": [
       "<IPython.core.display.HTML object>"
      ]
     },
     "metadata": {},
     "output_type": "display_data"
    },
    {
     "data": {
      "text/html": [
       "<span style=\"color:cyan\"> |-tuner/initial_epoch: 0</span>"
      ],
      "text/plain": [
       "<IPython.core.display.HTML object>"
      ]
     },
     "metadata": {},
     "output_type": "display_data"
    },
    {
     "data": {
      "text/html": [
       "<span style=\"color:blue\"> |-tuner/round: 0</span>"
      ],
      "text/plain": [
       "<IPython.core.display.HTML object>"
      ]
     },
     "metadata": {},
     "output_type": "display_data"
    },
    {
     "name": "stdout",
     "output_type": "stream",
     "text": [
      "Train on 8000 samples, validate on 2000 samples\n",
      "Epoch 1/2\n",
      "8000/8000 - 1s - loss: 0.0493 - mean_squared_error: 0.0490 - mean_absolute_error: 0.1560 - val_loss: 0.0121 - val_mean_squared_error: 0.0116 - val_mean_absolute_error: 0.0674\n",
      "Epoch 2/2\n",
      "8000/8000 - 1s - loss: 0.0106 - mean_squared_error: 0.0101 - mean_absolute_error: 0.0596 - val_loss: 0.0109 - val_mean_squared_error: 0.0103 - val_mean_absolute_error: 0.0575\n"
     ]
    },
    {
     "data": {
      "text/html": [
       "<span style=\"color:#4527A0\"><h1 style=\"font-size:18px\">Trial complete</h1></span>"
      ],
      "text/plain": [
       "<IPython.core.display.HTML object>"
      ]
     },
     "metadata": {},
     "output_type": "display_data"
    },
    {
     "data": {
      "text/html": [
       "<span style=\"color:#4527A0\"><h1 style=\"font-size:18px\">Trial summary</h1></span>"
      ],
      "text/plain": [
       "<IPython.core.display.HTML object>"
      ]
     },
     "metadata": {},
     "output_type": "display_data"
    },
    {
     "data": {
      "text/html": [
       "<span style=\"color:cyan\"> |-Trial ID: ab7b0bdb23c2db26c4e2f57389b58c00</span>"
      ],
      "text/plain": [
       "<IPython.core.display.HTML object>"
      ]
     },
     "metadata": {},
     "output_type": "display_data"
    },
    {
     "data": {
      "text/html": [
       "<span style=\"color:cyan\"> |-Score: 0.010303791612386703</span>"
      ],
      "text/plain": [
       "<IPython.core.display.HTML object>"
      ]
     },
     "metadata": {},
     "output_type": "display_data"
    },
    {
     "data": {
      "text/html": [
       "<span style=\"color:cyan\"> |-Best step: 0</span>"
      ],
      "text/plain": [
       "<IPython.core.display.HTML object>"
      ]
     },
     "metadata": {},
     "output_type": "display_data"
    },
    {
     "data": {
      "text/html": [
       "<span style=\"color:#7E57C2\"><h2 style=\"font-size:16px\">Hyperparameters:</h2></span>"
      ],
      "text/plain": [
       "<IPython.core.display.HTML object>"
      ]
     },
     "metadata": {},
     "output_type": "display_data"
    },
    {
     "data": {
      "text/html": [
       "<span style=\"color:cyan\"> |-hidden_units: 34</span>"
      ],
      "text/plain": [
       "<IPython.core.display.HTML object>"
      ]
     },
     "metadata": {},
     "output_type": "display_data"
    },
    {
     "data": {
      "text/html": [
       "<span style=\"color:blue\"> |-learning_rate: 0.01</span>"
      ],
      "text/plain": [
       "<IPython.core.display.HTML object>"
      ]
     },
     "metadata": {},
     "output_type": "display_data"
    },
    {
     "data": {
      "text/html": [
       "<span style=\"color:cyan\"> |-tuner/bracket: 3</span>"
      ],
      "text/plain": [
       "<IPython.core.display.HTML object>"
      ]
     },
     "metadata": {},
     "output_type": "display_data"
    },
    {
     "data": {
      "text/html": [
       "<span style=\"color:blue\"> |-tuner/epochs: 2</span>"
      ],
      "text/plain": [
       "<IPython.core.display.HTML object>"
      ]
     },
     "metadata": {},
     "output_type": "display_data"
    },
    {
     "data": {
      "text/html": [
       "<span style=\"color:cyan\"> |-tuner/initial_epoch: 0</span>"
      ],
      "text/plain": [
       "<IPython.core.display.HTML object>"
      ]
     },
     "metadata": {},
     "output_type": "display_data"
    },
    {
     "data": {
      "text/html": [
       "<span style=\"color:blue\"> |-tuner/round: 0</span>"
      ],
      "text/plain": [
       "<IPython.core.display.HTML object>"
      ]
     },
     "metadata": {},
     "output_type": "display_data"
    },
    {
     "name": "stdout",
     "output_type": "stream",
     "text": [
      "Train on 8000 samples, validate on 2000 samples\n",
      "Epoch 1/2\n",
      "8000/8000 - 1s - loss: 0.2190 - mean_squared_error: 0.2189 - mean_absolute_error: 0.4434 - val_loss: 0.2037 - val_mean_squared_error: 0.2036 - val_mean_absolute_error: 0.4236\n",
      "Epoch 2/2\n",
      "8000/8000 - 1s - loss: 0.1941 - mean_squared_error: 0.1940 - mean_absolute_error: 0.4115 - val_loss: 0.1861 - val_mean_squared_error: 0.1860 - val_mean_absolute_error: 0.4005\n"
     ]
    },
    {
     "data": {
      "text/html": [
       "<span style=\"color:#4527A0\"><h1 style=\"font-size:18px\">Trial complete</h1></span>"
      ],
      "text/plain": [
       "<IPython.core.display.HTML object>"
      ]
     },
     "metadata": {},
     "output_type": "display_data"
    },
    {
     "data": {
      "text/html": [
       "<span style=\"color:#4527A0\"><h1 style=\"font-size:18px\">Trial summary</h1></span>"
      ],
      "text/plain": [
       "<IPython.core.display.HTML object>"
      ]
     },
     "metadata": {},
     "output_type": "display_data"
    },
    {
     "data": {
      "text/html": [
       "<span style=\"color:cyan\"> |-Trial ID: 4992263a137a9248a075104600964719</span>"
      ],
      "text/plain": [
       "<IPython.core.display.HTML object>"
      ]
     },
     "metadata": {},
     "output_type": "display_data"
    },
    {
     "data": {
      "text/html": [
       "<span style=\"color:cyan\"> |-Score: 0.18604905903339386</span>"
      ],
      "text/plain": [
       "<IPython.core.display.HTML object>"
      ]
     },
     "metadata": {},
     "output_type": "display_data"
    },
    {
     "data": {
      "text/html": [
       "<span style=\"color:cyan\"> |-Best step: 0</span>"
      ],
      "text/plain": [
       "<IPython.core.display.HTML object>"
      ]
     },
     "metadata": {},
     "output_type": "display_data"
    },
    {
     "data": {
      "text/html": [
       "<span style=\"color:#7E57C2\"><h2 style=\"font-size:16px\">Hyperparameters:</h2></span>"
      ],
      "text/plain": [
       "<IPython.core.display.HTML object>"
      ]
     },
     "metadata": {},
     "output_type": "display_data"
    },
    {
     "data": {
      "text/html": [
       "<span style=\"color:cyan\"> |-hidden_units: 66</span>"
      ],
      "text/plain": [
       "<IPython.core.display.HTML object>"
      ]
     },
     "metadata": {},
     "output_type": "display_data"
    },
    {
     "data": {
      "text/html": [
       "<span style=\"color:blue\"> |-learning_rate: 0.0001</span>"
      ],
      "text/plain": [
       "<IPython.core.display.HTML object>"
      ]
     },
     "metadata": {},
     "output_type": "display_data"
    },
    {
     "data": {
      "text/html": [
       "<span style=\"color:cyan\"> |-tuner/bracket: 3</span>"
      ],
      "text/plain": [
       "<IPython.core.display.HTML object>"
      ]
     },
     "metadata": {},
     "output_type": "display_data"
    },
    {
     "data": {
      "text/html": [
       "<span style=\"color:blue\"> |-tuner/epochs: 2</span>"
      ],
      "text/plain": [
       "<IPython.core.display.HTML object>"
      ]
     },
     "metadata": {},
     "output_type": "display_data"
    },
    {
     "data": {
      "text/html": [
       "<span style=\"color:cyan\"> |-tuner/initial_epoch: 0</span>"
      ],
      "text/plain": [
       "<IPython.core.display.HTML object>"
      ]
     },
     "metadata": {},
     "output_type": "display_data"
    },
    {
     "data": {
      "text/html": [
       "<span style=\"color:blue\"> |-tuner/round: 0</span>"
      ],
      "text/plain": [
       "<IPython.core.display.HTML object>"
      ]
     },
     "metadata": {},
     "output_type": "display_data"
    },
    {
     "name": "stdout",
     "output_type": "stream",
     "text": [
      "Train on 8000 samples, validate on 2000 samples\n",
      "Epoch 1/2\n",
      "8000/8000 - 1s - loss: 0.2210 - mean_squared_error: 0.2209 - mean_absolute_error: 0.4450 - val_loss: 0.2076 - val_mean_squared_error: 0.2075 - val_mean_absolute_error: 0.4289\n",
      "Epoch 2/2\n",
      "8000/8000 - 1s - loss: 0.1985 - mean_squared_error: 0.1985 - mean_absolute_error: 0.4172 - val_loss: 0.1927 - val_mean_squared_error: 0.1926 - val_mean_absolute_error: 0.4080\n"
     ]
    },
    {
     "data": {
      "text/html": [
       "<span style=\"color:#4527A0\"><h1 style=\"font-size:18px\">Trial complete</h1></span>"
      ],
      "text/plain": [
       "<IPython.core.display.HTML object>"
      ]
     },
     "metadata": {},
     "output_type": "display_data"
    },
    {
     "data": {
      "text/html": [
       "<span style=\"color:#4527A0\"><h1 style=\"font-size:18px\">Trial summary</h1></span>"
      ],
      "text/plain": [
       "<IPython.core.display.HTML object>"
      ]
     },
     "metadata": {},
     "output_type": "display_data"
    },
    {
     "data": {
      "text/html": [
       "<span style=\"color:cyan\"> |-Trial ID: 661c9bf6314349ebfa4bc7ac33843f79</span>"
      ],
      "text/plain": [
       "<IPython.core.display.HTML object>"
      ]
     },
     "metadata": {},
     "output_type": "display_data"
    },
    {
     "data": {
      "text/html": [
       "<span style=\"color:cyan\"> |-Score: 0.1926041692495346</span>"
      ],
      "text/plain": [
       "<IPython.core.display.HTML object>"
      ]
     },
     "metadata": {},
     "output_type": "display_data"
    },
    {
     "data": {
      "text/html": [
       "<span style=\"color:cyan\"> |-Best step: 0</span>"
      ],
      "text/plain": [
       "<IPython.core.display.HTML object>"
      ]
     },
     "metadata": {},
     "output_type": "display_data"
    },
    {
     "data": {
      "text/html": [
       "<span style=\"color:#7E57C2\"><h2 style=\"font-size:16px\">Hyperparameters:</h2></span>"
      ],
      "text/plain": [
       "<IPython.core.display.HTML object>"
      ]
     },
     "metadata": {},
     "output_type": "display_data"
    },
    {
     "data": {
      "text/html": [
       "<span style=\"color:cyan\"> |-hidden_units: 44</span>"
      ],
      "text/plain": [
       "<IPython.core.display.HTML object>"
      ]
     },
     "metadata": {},
     "output_type": "display_data"
    },
    {
     "data": {
      "text/html": [
       "<span style=\"color:blue\"> |-learning_rate: 0.0001</span>"
      ],
      "text/plain": [
       "<IPython.core.display.HTML object>"
      ]
     },
     "metadata": {},
     "output_type": "display_data"
    },
    {
     "data": {
      "text/html": [
       "<span style=\"color:cyan\"> |-tuner/bracket: 3</span>"
      ],
      "text/plain": [
       "<IPython.core.display.HTML object>"
      ]
     },
     "metadata": {},
     "output_type": "display_data"
    },
    {
     "data": {
      "text/html": [
       "<span style=\"color:blue\"> |-tuner/epochs: 2</span>"
      ],
      "text/plain": [
       "<IPython.core.display.HTML object>"
      ]
     },
     "metadata": {},
     "output_type": "display_data"
    },
    {
     "data": {
      "text/html": [
       "<span style=\"color:cyan\"> |-tuner/initial_epoch: 0</span>"
      ],
      "text/plain": [
       "<IPython.core.display.HTML object>"
      ]
     },
     "metadata": {},
     "output_type": "display_data"
    },
    {
     "data": {
      "text/html": [
       "<span style=\"color:blue\"> |-tuner/round: 0</span>"
      ],
      "text/plain": [
       "<IPython.core.display.HTML object>"
      ]
     },
     "metadata": {},
     "output_type": "display_data"
    },
    {
     "name": "stdout",
     "output_type": "stream",
     "text": [
      "Train on 8000 samples, validate on 2000 samples\n",
      "Epoch 1/2\n",
      "8000/8000 - 2s - loss: 0.0167 - mean_squared_error: 0.0162 - mean_absolute_error: 0.0695 - val_loss: 0.0012 - val_mean_squared_error: 5.7689e-04 - val_mean_absolute_error: 0.0190\n",
      "Epoch 2/2\n",
      "8000/8000 - 1s - loss: 0.0012 - mean_squared_error: 4.9402e-04 - mean_absolute_error: 0.0167 - val_loss: 0.0011 - val_mean_squared_error: 3.5917e-04 - val_mean_absolute_error: 0.0141\n"
     ]
    },
    {
     "data": {
      "text/html": [
       "<span style=\"color:#4527A0\"><h1 style=\"font-size:18px\">Trial complete</h1></span>"
      ],
      "text/plain": [
       "<IPython.core.display.HTML object>"
      ]
     },
     "metadata": {},
     "output_type": "display_data"
    },
    {
     "data": {
      "text/html": [
       "<span style=\"color:#4527A0\"><h1 style=\"font-size:18px\">Trial summary</h1></span>"
      ],
      "text/plain": [
       "<IPython.core.display.HTML object>"
      ]
     },
     "metadata": {},
     "output_type": "display_data"
    },
    {
     "data": {
      "text/html": [
       "<span style=\"color:cyan\"> |-Trial ID: 45e65c675e00e7b238273adeb535063a</span>"
      ],
      "text/plain": [
       "<IPython.core.display.HTML object>"
      ]
     },
     "metadata": {},
     "output_type": "display_data"
    },
    {
     "data": {
      "text/html": [
       "<span style=\"color:cyan\"> |-Score: 0.00035916862543672323</span>"
      ],
      "text/plain": [
       "<IPython.core.display.HTML object>"
      ]
     },
     "metadata": {},
     "output_type": "display_data"
    },
    {
     "data": {
      "text/html": [
       "<span style=\"color:cyan\"> |-Best step: 0</span>"
      ],
      "text/plain": [
       "<IPython.core.display.HTML object>"
      ]
     },
     "metadata": {},
     "output_type": "display_data"
    },
    {
     "data": {
      "text/html": [
       "<span style=\"color:#7E57C2\"><h2 style=\"font-size:16px\">Hyperparameters:</h2></span>"
      ],
      "text/plain": [
       "<IPython.core.display.HTML object>"
      ]
     },
     "metadata": {},
     "output_type": "display_data"
    },
    {
     "data": {
      "text/html": [
       "<span style=\"color:cyan\"> |-hidden_units: 138</span>"
      ],
      "text/plain": [
       "<IPython.core.display.HTML object>"
      ]
     },
     "metadata": {},
     "output_type": "display_data"
    },
    {
     "data": {
      "text/html": [
       "<span style=\"color:blue\"> |-learning_rate: 0.01</span>"
      ],
      "text/plain": [
       "<IPython.core.display.HTML object>"
      ]
     },
     "metadata": {},
     "output_type": "display_data"
    },
    {
     "data": {
      "text/html": [
       "<span style=\"color:cyan\"> |-tuner/bracket: 3</span>"
      ],
      "text/plain": [
       "<IPython.core.display.HTML object>"
      ]
     },
     "metadata": {},
     "output_type": "display_data"
    },
    {
     "data": {
      "text/html": [
       "<span style=\"color:blue\"> |-tuner/epochs: 2</span>"
      ],
      "text/plain": [
       "<IPython.core.display.HTML object>"
      ]
     },
     "metadata": {},
     "output_type": "display_data"
    },
    {
     "data": {
      "text/html": [
       "<span style=\"color:cyan\"> |-tuner/initial_epoch: 0</span>"
      ],
      "text/plain": [
       "<IPython.core.display.HTML object>"
      ]
     },
     "metadata": {},
     "output_type": "display_data"
    },
    {
     "data": {
      "text/html": [
       "<span style=\"color:blue\"> |-tuner/round: 0</span>"
      ],
      "text/plain": [
       "<IPython.core.display.HTML object>"
      ]
     },
     "metadata": {},
     "output_type": "display_data"
    },
    {
     "name": "stdout",
     "output_type": "stream",
     "text": [
      "Train on 8000 samples, validate on 2000 samples\n",
      "Epoch 1/2\n",
      "8000/8000 - 2s - loss: 0.1057 - mean_squared_error: 0.1055 - mean_absolute_error: 0.2895 - val_loss: 0.0355 - val_mean_squared_error: 0.0353 - val_mean_absolute_error: 0.1656\n",
      "Epoch 2/2\n",
      "8000/8000 - 1s - loss: 0.0169 - mean_squared_error: 0.0166 - mean_absolute_error: 0.1115 - val_loss: 0.0077 - val_mean_squared_error: 0.0073 - val_mean_absolute_error: 0.0762\n"
     ]
    },
    {
     "data": {
      "text/html": [
       "<span style=\"color:#4527A0\"><h1 style=\"font-size:18px\">Trial complete</h1></span>"
      ],
      "text/plain": [
       "<IPython.core.display.HTML object>"
      ]
     },
     "metadata": {},
     "output_type": "display_data"
    },
    {
     "data": {
      "text/html": [
       "<span style=\"color:#4527A0\"><h1 style=\"font-size:18px\">Trial summary</h1></span>"
      ],
      "text/plain": [
       "<IPython.core.display.HTML object>"
      ]
     },
     "metadata": {},
     "output_type": "display_data"
    },
    {
     "data": {
      "text/html": [
       "<span style=\"color:cyan\"> |-Trial ID: bb22bf18cdc010563aa32e6d7542e55a</span>"
      ],
      "text/plain": [
       "<IPython.core.display.HTML object>"
      ]
     },
     "metadata": {},
     "output_type": "display_data"
    },
    {
     "data": {
      "text/html": [
       "<span style=\"color:cyan\"> |-Score: 0.007323169149458408</span>"
      ],
      "text/plain": [
       "<IPython.core.display.HTML object>"
      ]
     },
     "metadata": {},
     "output_type": "display_data"
    },
    {
     "data": {
      "text/html": [
       "<span style=\"color:cyan\"> |-Best step: 0</span>"
      ],
      "text/plain": [
       "<IPython.core.display.HTML object>"
      ]
     },
     "metadata": {},
     "output_type": "display_data"
    },
    {
     "data": {
      "text/html": [
       "<span style=\"color:#7E57C2\"><h2 style=\"font-size:16px\">Hyperparameters:</h2></span>"
      ],
      "text/plain": [
       "<IPython.core.display.HTML object>"
      ]
     },
     "metadata": {},
     "output_type": "display_data"
    },
    {
     "data": {
      "text/html": [
       "<span style=\"color:cyan\"> |-hidden_units: 144</span>"
      ],
      "text/plain": [
       "<IPython.core.display.HTML object>"
      ]
     },
     "metadata": {},
     "output_type": "display_data"
    },
    {
     "data": {
      "text/html": [
       "<span style=\"color:blue\"> |-learning_rate: 0.001</span>"
      ],
      "text/plain": [
       "<IPython.core.display.HTML object>"
      ]
     },
     "metadata": {},
     "output_type": "display_data"
    },
    {
     "data": {
      "text/html": [
       "<span style=\"color:cyan\"> |-tuner/bracket: 3</span>"
      ],
      "text/plain": [
       "<IPython.core.display.HTML object>"
      ]
     },
     "metadata": {},
     "output_type": "display_data"
    },
    {
     "data": {
      "text/html": [
       "<span style=\"color:blue\"> |-tuner/epochs: 2</span>"
      ],
      "text/plain": [
       "<IPython.core.display.HTML object>"
      ]
     },
     "metadata": {},
     "output_type": "display_data"
    },
    {
     "data": {
      "text/html": [
       "<span style=\"color:cyan\"> |-tuner/initial_epoch: 0</span>"
      ],
      "text/plain": [
       "<IPython.core.display.HTML object>"
      ]
     },
     "metadata": {},
     "output_type": "display_data"
    },
    {
     "data": {
      "text/html": [
       "<span style=\"color:blue\"> |-tuner/round: 0</span>"
      ],
      "text/plain": [
       "<IPython.core.display.HTML object>"
      ]
     },
     "metadata": {},
     "output_type": "display_data"
    },
    {
     "name": "stdout",
     "output_type": "stream",
     "text": [
      "Train on 8000 samples, validate on 2000 samples\n",
      "Epoch 1/2\n",
      "8000/8000 - 1s - loss: 0.1190 - mean_squared_error: 0.1189 - mean_absolute_error: 0.3105 - val_loss: 0.0497 - val_mean_squared_error: 0.0495 - val_mean_absolute_error: 0.1954\n",
      "Epoch 2/2\n",
      "8000/8000 - 1s - loss: 0.0249 - mean_squared_error: 0.0246 - mean_absolute_error: 0.1347 - val_loss: 0.0114 - val_mean_squared_error: 0.0110 - val_mean_absolute_error: 0.0926\n"
     ]
    },
    {
     "data": {
      "text/html": [
       "<span style=\"color:#4527A0\"><h1 style=\"font-size:18px\">Trial complete</h1></span>"
      ],
      "text/plain": [
       "<IPython.core.display.HTML object>"
      ]
     },
     "metadata": {},
     "output_type": "display_data"
    },
    {
     "data": {
      "text/html": [
       "<span style=\"color:#4527A0\"><h1 style=\"font-size:18px\">Trial summary</h1></span>"
      ],
      "text/plain": [
       "<IPython.core.display.HTML object>"
      ]
     },
     "metadata": {},
     "output_type": "display_data"
    },
    {
     "data": {
      "text/html": [
       "<span style=\"color:cyan\"> |-Trial ID: fdf7e85bcbac3825dd2865370631b457</span>"
      ],
      "text/plain": [
       "<IPython.core.display.HTML object>"
      ]
     },
     "metadata": {},
     "output_type": "display_data"
    },
    {
     "data": {
      "text/html": [
       "<span style=\"color:cyan\"> |-Score: 0.01101404894143343</span>"
      ],
      "text/plain": [
       "<IPython.core.display.HTML object>"
      ]
     },
     "metadata": {},
     "output_type": "display_data"
    },
    {
     "data": {
      "text/html": [
       "<span style=\"color:cyan\"> |-Best step: 0</span>"
      ],
      "text/plain": [
       "<IPython.core.display.HTML object>"
      ]
     },
     "metadata": {},
     "output_type": "display_data"
    },
    {
     "data": {
      "text/html": [
       "<span style=\"color:#7E57C2\"><h2 style=\"font-size:16px\">Hyperparameters:</h2></span>"
      ],
      "text/plain": [
       "<IPython.core.display.HTML object>"
      ]
     },
     "metadata": {},
     "output_type": "display_data"
    },
    {
     "data": {
      "text/html": [
       "<span style=\"color:cyan\"> |-hidden_units: 112</span>"
      ],
      "text/plain": [
       "<IPython.core.display.HTML object>"
      ]
     },
     "metadata": {},
     "output_type": "display_data"
    },
    {
     "data": {
      "text/html": [
       "<span style=\"color:blue\"> |-learning_rate: 0.001</span>"
      ],
      "text/plain": [
       "<IPython.core.display.HTML object>"
      ]
     },
     "metadata": {},
     "output_type": "display_data"
    },
    {
     "data": {
      "text/html": [
       "<span style=\"color:cyan\"> |-tuner/bracket: 3</span>"
      ],
      "text/plain": [
       "<IPython.core.display.HTML object>"
      ]
     },
     "metadata": {},
     "output_type": "display_data"
    },
    {
     "data": {
      "text/html": [
       "<span style=\"color:blue\"> |-tuner/epochs: 2</span>"
      ],
      "text/plain": [
       "<IPython.core.display.HTML object>"
      ]
     },
     "metadata": {},
     "output_type": "display_data"
    },
    {
     "data": {
      "text/html": [
       "<span style=\"color:cyan\"> |-tuner/initial_epoch: 0</span>"
      ],
      "text/plain": [
       "<IPython.core.display.HTML object>"
      ]
     },
     "metadata": {},
     "output_type": "display_data"
    },
    {
     "data": {
      "text/html": [
       "<span style=\"color:blue\"> |-tuner/round: 0</span>"
      ],
      "text/plain": [
       "<IPython.core.display.HTML object>"
      ]
     },
     "metadata": {},
     "output_type": "display_data"
    },
    {
     "name": "stdout",
     "output_type": "stream",
     "text": [
      "Train on 8000 samples, validate on 2000 samples\n",
      "Epoch 1/2\n",
      "8000/8000 - 1s - loss: 0.2090 - mean_squared_error: 0.2089 - mean_absolute_error: 0.4289 - val_loss: 0.1939 - val_mean_squared_error: 0.1938 - val_mean_absolute_error: 0.4099\n",
      "Epoch 2/2\n",
      "8000/8000 - 1s - loss: 0.1818 - mean_squared_error: 0.1817 - mean_absolute_error: 0.3971 - val_loss: 0.1706 - val_mean_squared_error: 0.1705 - val_mean_absolute_error: 0.3833\n"
     ]
    },
    {
     "data": {
      "text/html": [
       "<span style=\"color:#4527A0\"><h1 style=\"font-size:18px\">Trial complete</h1></span>"
      ],
      "text/plain": [
       "<IPython.core.display.HTML object>"
      ]
     },
     "metadata": {},
     "output_type": "display_data"
    },
    {
     "data": {
      "text/html": [
       "<span style=\"color:#4527A0\"><h1 style=\"font-size:18px\">Trial summary</h1></span>"
      ],
      "text/plain": [
       "<IPython.core.display.HTML object>"
      ]
     },
     "metadata": {},
     "output_type": "display_data"
    },
    {
     "data": {
      "text/html": [
       "<span style=\"color:cyan\"> |-Trial ID: 9250370744d7094244da802e2644440a</span>"
      ],
      "text/plain": [
       "<IPython.core.display.HTML object>"
      ]
     },
     "metadata": {},
     "output_type": "display_data"
    },
    {
     "data": {
      "text/html": [
       "<span style=\"color:cyan\"> |-Score: 0.17047245800495148</span>"
      ],
      "text/plain": [
       "<IPython.core.display.HTML object>"
      ]
     },
     "metadata": {},
     "output_type": "display_data"
    },
    {
     "data": {
      "text/html": [
       "<span style=\"color:cyan\"> |-Best step: 0</span>"
      ],
      "text/plain": [
       "<IPython.core.display.HTML object>"
      ]
     },
     "metadata": {},
     "output_type": "display_data"
    },
    {
     "data": {
      "text/html": [
       "<span style=\"color:#7E57C2\"><h2 style=\"font-size:16px\">Hyperparameters:</h2></span>"
      ],
      "text/plain": [
       "<IPython.core.display.HTML object>"
      ]
     },
     "metadata": {},
     "output_type": "display_data"
    },
    {
     "data": {
      "text/html": [
       "<span style=\"color:cyan\"> |-hidden_units: 118</span>"
      ],
      "text/plain": [
       "<IPython.core.display.HTML object>"
      ]
     },
     "metadata": {},
     "output_type": "display_data"
    },
    {
     "data": {
      "text/html": [
       "<span style=\"color:blue\"> |-learning_rate: 0.0001</span>"
      ],
      "text/plain": [
       "<IPython.core.display.HTML object>"
      ]
     },
     "metadata": {},
     "output_type": "display_data"
    },
    {
     "data": {
      "text/html": [
       "<span style=\"color:cyan\"> |-tuner/bracket: 3</span>"
      ],
      "text/plain": [
       "<IPython.core.display.HTML object>"
      ]
     },
     "metadata": {},
     "output_type": "display_data"
    },
    {
     "data": {
      "text/html": [
       "<span style=\"color:blue\"> |-tuner/epochs: 2</span>"
      ],
      "text/plain": [
       "<IPython.core.display.HTML object>"
      ]
     },
     "metadata": {},
     "output_type": "display_data"
    },
    {
     "data": {
      "text/html": [
       "<span style=\"color:cyan\"> |-tuner/initial_epoch: 0</span>"
      ],
      "text/plain": [
       "<IPython.core.display.HTML object>"
      ]
     },
     "metadata": {},
     "output_type": "display_data"
    },
    {
     "data": {
      "text/html": [
       "<span style=\"color:blue\"> |-tuner/round: 0</span>"
      ],
      "text/plain": [
       "<IPython.core.display.HTML object>"
      ]
     },
     "metadata": {},
     "output_type": "display_data"
    },
    {
     "name": "stdout",
     "output_type": "stream",
     "text": [
      "Train on 8000 samples, validate on 2000 samples\n",
      "Epoch 1/2\n",
      "8000/8000 - 1s - loss: 0.2234 - mean_squared_error: 0.2233 - mean_absolute_error: 0.4446 - val_loss: 0.2106 - val_mean_squared_error: 0.2105 - val_mean_absolute_error: 0.4321\n",
      "Epoch 2/2\n",
      "8000/8000 - 0s - loss: 0.2026 - mean_squared_error: 0.2025 - mean_absolute_error: 0.4229 - val_loss: 0.1962 - val_mean_squared_error: 0.1962 - val_mean_absolute_error: 0.4135\n"
     ]
    },
    {
     "data": {
      "text/html": [
       "<span style=\"color:#4527A0\"><h1 style=\"font-size:18px\">Trial complete</h1></span>"
      ],
      "text/plain": [
       "<IPython.core.display.HTML object>"
      ]
     },
     "metadata": {},
     "output_type": "display_data"
    },
    {
     "data": {
      "text/html": [
       "<span style=\"color:#4527A0\"><h1 style=\"font-size:18px\">Trial summary</h1></span>"
      ],
      "text/plain": [
       "<IPython.core.display.HTML object>"
      ]
     },
     "metadata": {},
     "output_type": "display_data"
    },
    {
     "data": {
      "text/html": [
       "<span style=\"color:cyan\"> |-Trial ID: 1d9251502c3027a2632e227f009f2099</span>"
      ],
      "text/plain": [
       "<IPython.core.display.HTML object>"
      ]
     },
     "metadata": {},
     "output_type": "display_data"
    },
    {
     "data": {
      "text/html": [
       "<span style=\"color:cyan\"> |-Score: 0.19616246223449707</span>"
      ],
      "text/plain": [
       "<IPython.core.display.HTML object>"
      ]
     },
     "metadata": {},
     "output_type": "display_data"
    },
    {
     "data": {
      "text/html": [
       "<span style=\"color:cyan\"> |-Best step: 0</span>"
      ],
      "text/plain": [
       "<IPython.core.display.HTML object>"
      ]
     },
     "metadata": {},
     "output_type": "display_data"
    },
    {
     "data": {
      "text/html": [
       "<span style=\"color:#7E57C2\"><h2 style=\"font-size:16px\">Hyperparameters:</h2></span>"
      ],
      "text/plain": [
       "<IPython.core.display.HTML object>"
      ]
     },
     "metadata": {},
     "output_type": "display_data"
    },
    {
     "data": {
      "text/html": [
       "<span style=\"color:cyan\"> |-hidden_units: 34</span>"
      ],
      "text/plain": [
       "<IPython.core.display.HTML object>"
      ]
     },
     "metadata": {},
     "output_type": "display_data"
    },
    {
     "data": {
      "text/html": [
       "<span style=\"color:blue\"> |-learning_rate: 0.0001</span>"
      ],
      "text/plain": [
       "<IPython.core.display.HTML object>"
      ]
     },
     "metadata": {},
     "output_type": "display_data"
    },
    {
     "data": {
      "text/html": [
       "<span style=\"color:cyan\"> |-tuner/bracket: 3</span>"
      ],
      "text/plain": [
       "<IPython.core.display.HTML object>"
      ]
     },
     "metadata": {},
     "output_type": "display_data"
    },
    {
     "data": {
      "text/html": [
       "<span style=\"color:blue\"> |-tuner/epochs: 2</span>"
      ],
      "text/plain": [
       "<IPython.core.display.HTML object>"
      ]
     },
     "metadata": {},
     "output_type": "display_data"
    },
    {
     "data": {
      "text/html": [
       "<span style=\"color:cyan\"> |-tuner/initial_epoch: 0</span>"
      ],
      "text/plain": [
       "<IPython.core.display.HTML object>"
      ]
     },
     "metadata": {},
     "output_type": "display_data"
    },
    {
     "data": {
      "text/html": [
       "<span style=\"color:blue\"> |-tuner/round: 0</span>"
      ],
      "text/plain": [
       "<IPython.core.display.HTML object>"
      ]
     },
     "metadata": {},
     "output_type": "display_data"
    },
    {
     "name": "stdout",
     "output_type": "stream",
     "text": [
      "Train on 8000 samples, validate on 2000 samples\n",
      "Epoch 1/2\n",
      "8000/8000 - 1s - loss: 0.0205 - mean_squared_error: 0.0201 - mean_absolute_error: 0.0829 - val_loss: 0.0013 - val_mean_squared_error: 7.3916e-04 - val_mean_absolute_error: 0.0219\n",
      "Epoch 2/2\n",
      "8000/8000 - 1s - loss: 0.0012 - mean_squared_error: 4.8717e-04 - mean_absolute_error: 0.0173 - val_loss: 0.0010 - val_mean_squared_error: 3.0291e-04 - val_mean_absolute_error: 0.0134\n"
     ]
    },
    {
     "data": {
      "text/html": [
       "<span style=\"color:#4527A0\"><h1 style=\"font-size:18px\">Trial complete</h1></span>"
      ],
      "text/plain": [
       "<IPython.core.display.HTML object>"
      ]
     },
     "metadata": {},
     "output_type": "display_data"
    },
    {
     "data": {
      "text/html": [
       "<span style=\"color:#4527A0\"><h1 style=\"font-size:18px\">Trial summary</h1></span>"
      ],
      "text/plain": [
       "<IPython.core.display.HTML object>"
      ]
     },
     "metadata": {},
     "output_type": "display_data"
    },
    {
     "data": {
      "text/html": [
       "<span style=\"color:cyan\"> |-Trial ID: e09c5cf3ad609f61b07343055908c9b6</span>"
      ],
      "text/plain": [
       "<IPython.core.display.HTML object>"
      ]
     },
     "metadata": {},
     "output_type": "display_data"
    },
    {
     "data": {
      "text/html": [
       "<span style=\"color:cyan\"> |-Score: 0.0003029110375791788</span>"
      ],
      "text/plain": [
       "<IPython.core.display.HTML object>"
      ]
     },
     "metadata": {},
     "output_type": "display_data"
    },
    {
     "data": {
      "text/html": [
       "<span style=\"color:cyan\"> |-Best step: 0</span>"
      ],
      "text/plain": [
       "<IPython.core.display.HTML object>"
      ]
     },
     "metadata": {},
     "output_type": "display_data"
    },
    {
     "data": {
      "text/html": [
       "<span style=\"color:#7E57C2\"><h2 style=\"font-size:16px\">Hyperparameters:</h2></span>"
      ],
      "text/plain": [
       "<IPython.core.display.HTML object>"
      ]
     },
     "metadata": {},
     "output_type": "display_data"
    },
    {
     "data": {
      "text/html": [
       "<span style=\"color:cyan\"> |-hidden_units: 90</span>"
      ],
      "text/plain": [
       "<IPython.core.display.HTML object>"
      ]
     },
     "metadata": {},
     "output_type": "display_data"
    },
    {
     "data": {
      "text/html": [
       "<span style=\"color:blue\"> |-learning_rate: 0.01</span>"
      ],
      "text/plain": [
       "<IPython.core.display.HTML object>"
      ]
     },
     "metadata": {},
     "output_type": "display_data"
    },
    {
     "data": {
      "text/html": [
       "<span style=\"color:cyan\"> |-tuner/bracket: 3</span>"
      ],
      "text/plain": [
       "<IPython.core.display.HTML object>"
      ]
     },
     "metadata": {},
     "output_type": "display_data"
    },
    {
     "data": {
      "text/html": [
       "<span style=\"color:blue\"> |-tuner/epochs: 2</span>"
      ],
      "text/plain": [
       "<IPython.core.display.HTML object>"
      ]
     },
     "metadata": {},
     "output_type": "display_data"
    },
    {
     "data": {
      "text/html": [
       "<span style=\"color:cyan\"> |-tuner/initial_epoch: 0</span>"
      ],
      "text/plain": [
       "<IPython.core.display.HTML object>"
      ]
     },
     "metadata": {},
     "output_type": "display_data"
    },
    {
     "data": {
      "text/html": [
       "<span style=\"color:blue\"> |-tuner/round: 0</span>"
      ],
      "text/plain": [
       "<IPython.core.display.HTML object>"
      ]
     },
     "metadata": {},
     "output_type": "display_data"
    },
    {
     "name": "stdout",
     "output_type": "stream",
     "text": [
      "Train on 8000 samples, validate on 2000 samples\n",
      "Epoch 1/2\n",
      "8000/8000 - 1s - loss: 0.2276 - mean_squared_error: 0.2275 - mean_absolute_error: 0.4477 - val_loss: 0.2137 - val_mean_squared_error: 0.2137 - val_mean_absolute_error: 0.4362\n",
      "Epoch 2/2\n",
      "8000/8000 - 0s - loss: 0.2058 - mean_squared_error: 0.2058 - mean_absolute_error: 0.4270 - val_loss: 0.1998 - val_mean_squared_error: 0.1997 - val_mean_absolute_error: 0.4187\n"
     ]
    },
    {
     "data": {
      "text/html": [
       "<span style=\"color:#4527A0\"><h1 style=\"font-size:18px\">Trial complete</h1></span>"
      ],
      "text/plain": [
       "<IPython.core.display.HTML object>"
      ]
     },
     "metadata": {},
     "output_type": "display_data"
    },
    {
     "data": {
      "text/html": [
       "<span style=\"color:#4527A0\"><h1 style=\"font-size:18px\">Trial summary</h1></span>"
      ],
      "text/plain": [
       "<IPython.core.display.HTML object>"
      ]
     },
     "metadata": {},
     "output_type": "display_data"
    },
    {
     "data": {
      "text/html": [
       "<span style=\"color:cyan\"> |-Trial ID: d0280c44251273c992fd51281ec712c8</span>"
      ],
      "text/plain": [
       "<IPython.core.display.HTML object>"
      ]
     },
     "metadata": {},
     "output_type": "display_data"
    },
    {
     "data": {
      "text/html": [
       "<span style=\"color:cyan\"> |-Score: 0.19974404573440552</span>"
      ],
      "text/plain": [
       "<IPython.core.display.HTML object>"
      ]
     },
     "metadata": {},
     "output_type": "display_data"
    },
    {
     "data": {
      "text/html": [
       "<span style=\"color:cyan\"> |-Best step: 0</span>"
      ],
      "text/plain": [
       "<IPython.core.display.HTML object>"
      ]
     },
     "metadata": {},
     "output_type": "display_data"
    },
    {
     "data": {
      "text/html": [
       "<span style=\"color:#7E57C2\"><h2 style=\"font-size:16px\">Hyperparameters:</h2></span>"
      ],
      "text/plain": [
       "<IPython.core.display.HTML object>"
      ]
     },
     "metadata": {},
     "output_type": "display_data"
    },
    {
     "data": {
      "text/html": [
       "<span style=\"color:cyan\"> |-hidden_units: 30</span>"
      ],
      "text/plain": [
       "<IPython.core.display.HTML object>"
      ]
     },
     "metadata": {},
     "output_type": "display_data"
    },
    {
     "data": {
      "text/html": [
       "<span style=\"color:blue\"> |-learning_rate: 0.0001</span>"
      ],
      "text/plain": [
       "<IPython.core.display.HTML object>"
      ]
     },
     "metadata": {},
     "output_type": "display_data"
    },
    {
     "data": {
      "text/html": [
       "<span style=\"color:cyan\"> |-tuner/bracket: 3</span>"
      ],
      "text/plain": [
       "<IPython.core.display.HTML object>"
      ]
     },
     "metadata": {},
     "output_type": "display_data"
    },
    {
     "data": {
      "text/html": [
       "<span style=\"color:blue\"> |-tuner/epochs: 2</span>"
      ],
      "text/plain": [
       "<IPython.core.display.HTML object>"
      ]
     },
     "metadata": {},
     "output_type": "display_data"
    },
    {
     "data": {
      "text/html": [
       "<span style=\"color:cyan\"> |-tuner/initial_epoch: 0</span>"
      ],
      "text/plain": [
       "<IPython.core.display.HTML object>"
      ]
     },
     "metadata": {},
     "output_type": "display_data"
    },
    {
     "data": {
      "text/html": [
       "<span style=\"color:blue\"> |-tuner/round: 0</span>"
      ],
      "text/plain": [
       "<IPython.core.display.HTML object>"
      ]
     },
     "metadata": {},
     "output_type": "display_data"
    },
    {
     "name": "stdout",
     "output_type": "stream",
     "text": [
      "Train on 8000 samples, validate on 2000 samples\n",
      "Epoch 1/2\n",
      "8000/8000 - 1s - loss: 0.2121 - mean_squared_error: 0.2120 - mean_absolute_error: 0.4347 - val_loss: 0.1983 - val_mean_squared_error: 0.1982 - val_mean_absolute_error: 0.4161\n",
      "Epoch 2/2\n",
      "8000/8000 - 1s - loss: 0.1870 - mean_squared_error: 0.1869 - mean_absolute_error: 0.4037 - val_loss: 0.1783 - val_mean_squared_error: 0.1782 - val_mean_absolute_error: 0.3925\n"
     ]
    },
    {
     "data": {
      "text/html": [
       "<span style=\"color:#4527A0\"><h1 style=\"font-size:18px\">Trial complete</h1></span>"
      ],
      "text/plain": [
       "<IPython.core.display.HTML object>"
      ]
     },
     "metadata": {},
     "output_type": "display_data"
    },
    {
     "data": {
      "text/html": [
       "<span style=\"color:#4527A0\"><h1 style=\"font-size:18px\">Trial summary</h1></span>"
      ],
      "text/plain": [
       "<IPython.core.display.HTML object>"
      ]
     },
     "metadata": {},
     "output_type": "display_data"
    },
    {
     "data": {
      "text/html": [
       "<span style=\"color:cyan\"> |-Trial ID: bb184743840f0f30633f903737098af1</span>"
      ],
      "text/plain": [
       "<IPython.core.display.HTML object>"
      ]
     },
     "metadata": {},
     "output_type": "display_data"
    },
    {
     "data": {
      "text/html": [
       "<span style=\"color:cyan\"> |-Score: 0.17818114161491394</span>"
      ],
      "text/plain": [
       "<IPython.core.display.HTML object>"
      ]
     },
     "metadata": {},
     "output_type": "display_data"
    },
    {
     "data": {
      "text/html": [
       "<span style=\"color:cyan\"> |-Best step: 0</span>"
      ],
      "text/plain": [
       "<IPython.core.display.HTML object>"
      ]
     },
     "metadata": {},
     "output_type": "display_data"
    },
    {
     "data": {
      "text/html": [
       "<span style=\"color:#7E57C2\"><h2 style=\"font-size:16px\">Hyperparameters:</h2></span>"
      ],
      "text/plain": [
       "<IPython.core.display.HTML object>"
      ]
     },
     "metadata": {},
     "output_type": "display_data"
    },
    {
     "data": {
      "text/html": [
       "<span style=\"color:cyan\"> |-hidden_units: 88</span>"
      ],
      "text/plain": [
       "<IPython.core.display.HTML object>"
      ]
     },
     "metadata": {},
     "output_type": "display_data"
    },
    {
     "data": {
      "text/html": [
       "<span style=\"color:blue\"> |-learning_rate: 0.0001</span>"
      ],
      "text/plain": [
       "<IPython.core.display.HTML object>"
      ]
     },
     "metadata": {},
     "output_type": "display_data"
    },
    {
     "data": {
      "text/html": [
       "<span style=\"color:cyan\"> |-tuner/bracket: 3</span>"
      ],
      "text/plain": [
       "<IPython.core.display.HTML object>"
      ]
     },
     "metadata": {},
     "output_type": "display_data"
    },
    {
     "data": {
      "text/html": [
       "<span style=\"color:blue\"> |-tuner/epochs: 2</span>"
      ],
      "text/plain": [
       "<IPython.core.display.HTML object>"
      ]
     },
     "metadata": {},
     "output_type": "display_data"
    },
    {
     "data": {
      "text/html": [
       "<span style=\"color:cyan\"> |-tuner/initial_epoch: 0</span>"
      ],
      "text/plain": [
       "<IPython.core.display.HTML object>"
      ]
     },
     "metadata": {},
     "output_type": "display_data"
    },
    {
     "data": {
      "text/html": [
       "<span style=\"color:blue\"> |-tuner/round: 0</span>"
      ],
      "text/plain": [
       "<IPython.core.display.HTML object>"
      ]
     },
     "metadata": {},
     "output_type": "display_data"
    },
    {
     "name": "stdout",
     "output_type": "stream",
     "text": [
      "Train on 8000 samples, validate on 2000 samples\n",
      "Epoch 1/2\n",
      "8000/8000 - 1s - loss: 0.2116 - mean_squared_error: 0.2115 - mean_absolute_error: 0.4305 - val_loss: 0.2005 - val_mean_squared_error: 0.2004 - val_mean_absolute_error: 0.4162\n",
      "Epoch 2/2\n",
      "8000/8000 - 1s - loss: 0.1908 - mean_squared_error: 0.1907 - mean_absolute_error: 0.4055 - val_loss: 0.1834 - val_mean_squared_error: 0.1833 - val_mean_absolute_error: 0.3955\n"
     ]
    },
    {
     "data": {
      "text/html": [
       "<span style=\"color:#4527A0\"><h1 style=\"font-size:18px\">Trial complete</h1></span>"
      ],
      "text/plain": [
       "<IPython.core.display.HTML object>"
      ]
     },
     "metadata": {},
     "output_type": "display_data"
    },
    {
     "data": {
      "text/html": [
       "<span style=\"color:#4527A0\"><h1 style=\"font-size:18px\">Trial summary</h1></span>"
      ],
      "text/plain": [
       "<IPython.core.display.HTML object>"
      ]
     },
     "metadata": {},
     "output_type": "display_data"
    },
    {
     "data": {
      "text/html": [
       "<span style=\"color:cyan\"> |-Trial ID: 3549400c541b7709a29748e90a5422c6</span>"
      ],
      "text/plain": [
       "<IPython.core.display.HTML object>"
      ]
     },
     "metadata": {},
     "output_type": "display_data"
    },
    {
     "data": {
      "text/html": [
       "<span style=\"color:cyan\"> |-Score: 0.18326088786125183</span>"
      ],
      "text/plain": [
       "<IPython.core.display.HTML object>"
      ]
     },
     "metadata": {},
     "output_type": "display_data"
    },
    {
     "data": {
      "text/html": [
       "<span style=\"color:cyan\"> |-Best step: 0</span>"
      ],
      "text/plain": [
       "<IPython.core.display.HTML object>"
      ]
     },
     "metadata": {},
     "output_type": "display_data"
    },
    {
     "data": {
      "text/html": [
       "<span style=\"color:#7E57C2\"><h2 style=\"font-size:16px\">Hyperparameters:</h2></span>"
      ],
      "text/plain": [
       "<IPython.core.display.HTML object>"
      ]
     },
     "metadata": {},
     "output_type": "display_data"
    },
    {
     "data": {
      "text/html": [
       "<span style=\"color:cyan\"> |-hidden_units: 62</span>"
      ],
      "text/plain": [
       "<IPython.core.display.HTML object>"
      ]
     },
     "metadata": {},
     "output_type": "display_data"
    },
    {
     "data": {
      "text/html": [
       "<span style=\"color:blue\"> |-learning_rate: 0.0001</span>"
      ],
      "text/plain": [
       "<IPython.core.display.HTML object>"
      ]
     },
     "metadata": {},
     "output_type": "display_data"
    },
    {
     "data": {
      "text/html": [
       "<span style=\"color:cyan\"> |-tuner/bracket: 3</span>"
      ],
      "text/plain": [
       "<IPython.core.display.HTML object>"
      ]
     },
     "metadata": {},
     "output_type": "display_data"
    },
    {
     "data": {
      "text/html": [
       "<span style=\"color:blue\"> |-tuner/epochs: 2</span>"
      ],
      "text/plain": [
       "<IPython.core.display.HTML object>"
      ]
     },
     "metadata": {},
     "output_type": "display_data"
    },
    {
     "data": {
      "text/html": [
       "<span style=\"color:cyan\"> |-tuner/initial_epoch: 0</span>"
      ],
      "text/plain": [
       "<IPython.core.display.HTML object>"
      ]
     },
     "metadata": {},
     "output_type": "display_data"
    },
    {
     "data": {
      "text/html": [
       "<span style=\"color:blue\"> |-tuner/round: 0</span>"
      ],
      "text/plain": [
       "<IPython.core.display.HTML object>"
      ]
     },
     "metadata": {},
     "output_type": "display_data"
    },
    {
     "name": "stdout",
     "output_type": "stream",
     "text": [
      "Train on 8000 samples, validate on 2000 samples\n",
      "Epoch 1/2\n",
      "8000/8000 - 1s - loss: 0.0198 - mean_squared_error: 0.0194 - mean_absolute_error: 0.0805 - val_loss: 0.0013 - val_mean_squared_error: 7.0935e-04 - val_mean_absolute_error: 0.0214\n",
      "Epoch 2/2\n",
      "8000/8000 - 1s - loss: 0.0011 - mean_squared_error: 4.7587e-04 - mean_absolute_error: 0.0171 - val_loss: 0.0010 - val_mean_squared_error: 2.9225e-04 - val_mean_absolute_error: 0.0131\n"
     ]
    },
    {
     "data": {
      "text/html": [
       "<span style=\"color:#4527A0\"><h1 style=\"font-size:18px\">Trial complete</h1></span>"
      ],
      "text/plain": [
       "<IPython.core.display.HTML object>"
      ]
     },
     "metadata": {},
     "output_type": "display_data"
    },
    {
     "data": {
      "text/html": [
       "<span style=\"color:#4527A0\"><h1 style=\"font-size:18px\">Trial summary</h1></span>"
      ],
      "text/plain": [
       "<IPython.core.display.HTML object>"
      ]
     },
     "metadata": {},
     "output_type": "display_data"
    },
    {
     "data": {
      "text/html": [
       "<span style=\"color:cyan\"> |-Trial ID: 80fd5216439144cc9deb81e68f5272b6</span>"
      ],
      "text/plain": [
       "<IPython.core.display.HTML object>"
      ]
     },
     "metadata": {},
     "output_type": "display_data"
    },
    {
     "data": {
      "text/html": [
       "<span style=\"color:cyan\"> |-Score: 0.0002922482672147453</span>"
      ],
      "text/plain": [
       "<IPython.core.display.HTML object>"
      ]
     },
     "metadata": {},
     "output_type": "display_data"
    },
    {
     "data": {
      "text/html": [
       "<span style=\"color:cyan\"> |-Best step: 0</span>"
      ],
      "text/plain": [
       "<IPython.core.display.HTML object>"
      ]
     },
     "metadata": {},
     "output_type": "display_data"
    },
    {
     "data": {
      "text/html": [
       "<span style=\"color:#7E57C2\"><h2 style=\"font-size:16px\">Hyperparameters:</h2></span>"
      ],
      "text/plain": [
       "<IPython.core.display.HTML object>"
      ]
     },
     "metadata": {},
     "output_type": "display_data"
    },
    {
     "data": {
      "text/html": [
       "<span style=\"color:cyan\"> |-hidden_units: 104</span>"
      ],
      "text/plain": [
       "<IPython.core.display.HTML object>"
      ]
     },
     "metadata": {},
     "output_type": "display_data"
    },
    {
     "data": {
      "text/html": [
       "<span style=\"color:blue\"> |-learning_rate: 0.01</span>"
      ],
      "text/plain": [
       "<IPython.core.display.HTML object>"
      ]
     },
     "metadata": {},
     "output_type": "display_data"
    },
    {
     "data": {
      "text/html": [
       "<span style=\"color:cyan\"> |-tuner/bracket: 3</span>"
      ],
      "text/plain": [
       "<IPython.core.display.HTML object>"
      ]
     },
     "metadata": {},
     "output_type": "display_data"
    },
    {
     "data": {
      "text/html": [
       "<span style=\"color:blue\"> |-tuner/epochs: 2</span>"
      ],
      "text/plain": [
       "<IPython.core.display.HTML object>"
      ]
     },
     "metadata": {},
     "output_type": "display_data"
    },
    {
     "data": {
      "text/html": [
       "<span style=\"color:cyan\"> |-tuner/initial_epoch: 0</span>"
      ],
      "text/plain": [
       "<IPython.core.display.HTML object>"
      ]
     },
     "metadata": {},
     "output_type": "display_data"
    },
    {
     "data": {
      "text/html": [
       "<span style=\"color:blue\"> |-tuner/round: 0</span>"
      ],
      "text/plain": [
       "<IPython.core.display.HTML object>"
      ]
     },
     "metadata": {},
     "output_type": "display_data"
    },
    {
     "name": "stdout",
     "output_type": "stream",
     "text": [
      "Train on 8000 samples, validate on 2000 samples\n",
      "Epoch 1/2\n",
      "8000/8000 - 1s - loss: 0.1350 - mean_squared_error: 0.1349 - mean_absolute_error: 0.3343 - val_loss: 0.0664 - val_mean_squared_error: 0.0663 - val_mean_absolute_error: 0.2296\n",
      "Epoch 2/2\n",
      "8000/8000 - 1s - loss: 0.0372 - mean_squared_error: 0.0369 - mean_absolute_error: 0.1650 - val_loss: 0.0185 - val_mean_squared_error: 0.0182 - val_mean_absolute_error: 0.1171\n"
     ]
    },
    {
     "data": {
      "text/html": [
       "<span style=\"color:#4527A0\"><h1 style=\"font-size:18px\">Trial complete</h1></span>"
      ],
      "text/plain": [
       "<IPython.core.display.HTML object>"
      ]
     },
     "metadata": {},
     "output_type": "display_data"
    },
    {
     "data": {
      "text/html": [
       "<span style=\"color:#4527A0\"><h1 style=\"font-size:18px\">Trial summary</h1></span>"
      ],
      "text/plain": [
       "<IPython.core.display.HTML object>"
      ]
     },
     "metadata": {},
     "output_type": "display_data"
    },
    {
     "data": {
      "text/html": [
       "<span style=\"color:cyan\"> |-Trial ID: e85038c842c096cb3daa5083d4dc119b</span>"
      ],
      "text/plain": [
       "<IPython.core.display.HTML object>"
      ]
     },
     "metadata": {},
     "output_type": "display_data"
    },
    {
     "data": {
      "text/html": [
       "<span style=\"color:cyan\"> |-Score: 0.018152723088860512</span>"
      ],
      "text/plain": [
       "<IPython.core.display.HTML object>"
      ]
     },
     "metadata": {},
     "output_type": "display_data"
    },
    {
     "data": {
      "text/html": [
       "<span style=\"color:cyan\"> |-Best step: 0</span>"
      ],
      "text/plain": [
       "<IPython.core.display.HTML object>"
      ]
     },
     "metadata": {},
     "output_type": "display_data"
    },
    {
     "data": {
      "text/html": [
       "<span style=\"color:#7E57C2\"><h2 style=\"font-size:16px\">Hyperparameters:</h2></span>"
      ],
      "text/plain": [
       "<IPython.core.display.HTML object>"
      ]
     },
     "metadata": {},
     "output_type": "display_data"
    },
    {
     "data": {
      "text/html": [
       "<span style=\"color:cyan\"> |-hidden_units: 80</span>"
      ],
      "text/plain": [
       "<IPython.core.display.HTML object>"
      ]
     },
     "metadata": {},
     "output_type": "display_data"
    },
    {
     "data": {
      "text/html": [
       "<span style=\"color:blue\"> |-learning_rate: 0.001</span>"
      ],
      "text/plain": [
       "<IPython.core.display.HTML object>"
      ]
     },
     "metadata": {},
     "output_type": "display_data"
    },
    {
     "data": {
      "text/html": [
       "<span style=\"color:cyan\"> |-tuner/bracket: 3</span>"
      ],
      "text/plain": [
       "<IPython.core.display.HTML object>"
      ]
     },
     "metadata": {},
     "output_type": "display_data"
    },
    {
     "data": {
      "text/html": [
       "<span style=\"color:blue\"> |-tuner/epochs: 2</span>"
      ],
      "text/plain": [
       "<IPython.core.display.HTML object>"
      ]
     },
     "metadata": {},
     "output_type": "display_data"
    },
    {
     "data": {
      "text/html": [
       "<span style=\"color:cyan\"> |-tuner/initial_epoch: 0</span>"
      ],
      "text/plain": [
       "<IPython.core.display.HTML object>"
      ]
     },
     "metadata": {},
     "output_type": "display_data"
    },
    {
     "data": {
      "text/html": [
       "<span style=\"color:blue\"> |-tuner/round: 0</span>"
      ],
      "text/plain": [
       "<IPython.core.display.HTML object>"
      ]
     },
     "metadata": {},
     "output_type": "display_data"
    },
    {
     "name": "stdout",
     "output_type": "stream",
     "text": [
      "Train on 8000 samples, validate on 2000 samples\n",
      "Epoch 1/2\n",
      "8000/8000 - 1s - loss: 0.1376 - mean_squared_error: 0.1375 - mean_absolute_error: 0.3376 - val_loss: 0.0719 - val_mean_squared_error: 0.0717 - val_mean_absolute_error: 0.2379\n",
      "Epoch 2/2\n",
      "8000/8000 - 1s - loss: 0.0424 - mean_squared_error: 0.0422 - mean_absolute_error: 0.1759 - val_loss: 0.0220 - val_mean_squared_error: 0.0218 - val_mean_absolute_error: 0.1268\n"
     ]
    },
    {
     "data": {
      "text/html": [
       "<span style=\"color:#4527A0\"><h1 style=\"font-size:18px\">Trial complete</h1></span>"
      ],
      "text/plain": [
       "<IPython.core.display.HTML object>"
      ]
     },
     "metadata": {},
     "output_type": "display_data"
    },
    {
     "data": {
      "text/html": [
       "<span style=\"color:#4527A0\"><h1 style=\"font-size:18px\">Trial summary</h1></span>"
      ],
      "text/plain": [
       "<IPython.core.display.HTML object>"
      ]
     },
     "metadata": {},
     "output_type": "display_data"
    },
    {
     "data": {
      "text/html": [
       "<span style=\"color:cyan\"> |-Trial ID: 37230b86df43fc2828264ec6887dd6c3</span>"
      ],
      "text/plain": [
       "<IPython.core.display.HTML object>"
      ]
     },
     "metadata": {},
     "output_type": "display_data"
    },
    {
     "data": {
      "text/html": [
       "<span style=\"color:cyan\"> |-Score: 0.02175207808613777</span>"
      ],
      "text/plain": [
       "<IPython.core.display.HTML object>"
      ]
     },
     "metadata": {},
     "output_type": "display_data"
    },
    {
     "data": {
      "text/html": [
       "<span style=\"color:cyan\"> |-Best step: 0</span>"
      ],
      "text/plain": [
       "<IPython.core.display.HTML object>"
      ]
     },
     "metadata": {},
     "output_type": "display_data"
    },
    {
     "data": {
      "text/html": [
       "<span style=\"color:#7E57C2\"><h2 style=\"font-size:16px\">Hyperparameters:</h2></span>"
      ],
      "text/plain": [
       "<IPython.core.display.HTML object>"
      ]
     },
     "metadata": {},
     "output_type": "display_data"
    },
    {
     "data": {
      "text/html": [
       "<span style=\"color:cyan\"> |-hidden_units: 74</span>"
      ],
      "text/plain": [
       "<IPython.core.display.HTML object>"
      ]
     },
     "metadata": {},
     "output_type": "display_data"
    },
    {
     "data": {
      "text/html": [
       "<span style=\"color:blue\"> |-learning_rate: 0.001</span>"
      ],
      "text/plain": [
       "<IPython.core.display.HTML object>"
      ]
     },
     "metadata": {},
     "output_type": "display_data"
    },
    {
     "data": {
      "text/html": [
       "<span style=\"color:cyan\"> |-tuner/bracket: 3</span>"
      ],
      "text/plain": [
       "<IPython.core.display.HTML object>"
      ]
     },
     "metadata": {},
     "output_type": "display_data"
    },
    {
     "data": {
      "text/html": [
       "<span style=\"color:blue\"> |-tuner/epochs: 2</span>"
      ],
      "text/plain": [
       "<IPython.core.display.HTML object>"
      ]
     },
     "metadata": {},
     "output_type": "display_data"
    },
    {
     "data": {
      "text/html": [
       "<span style=\"color:cyan\"> |-tuner/initial_epoch: 0</span>"
      ],
      "text/plain": [
       "<IPython.core.display.HTML object>"
      ]
     },
     "metadata": {},
     "output_type": "display_data"
    },
    {
     "data": {
      "text/html": [
       "<span style=\"color:blue\"> |-tuner/round: 0</span>"
      ],
      "text/plain": [
       "<IPython.core.display.HTML object>"
      ]
     },
     "metadata": {},
     "output_type": "display_data"
    },
    {
     "name": "stdout",
     "output_type": "stream",
     "text": [
      "Train on 8000 samples, validate on 2000 samples\n",
      "Epoch 1/2\n",
      "8000/8000 - 1s - loss: 0.1083 - mean_squared_error: 0.1081 - mean_absolute_error: 0.2934 - val_loss: 0.0390 - val_mean_squared_error: 0.0387 - val_mean_absolute_error: 0.1728\n",
      "Epoch 2/2\n",
      "8000/8000 - 1s - loss: 0.0185 - mean_squared_error: 0.0182 - mean_absolute_error: 0.1165 - val_loss: 0.0083 - val_mean_squared_error: 0.0079 - val_mean_absolute_error: 0.0793\n"
     ]
    },
    {
     "data": {
      "text/html": [
       "<span style=\"color:#4527A0\"><h1 style=\"font-size:18px\">Trial complete</h1></span>"
      ],
      "text/plain": [
       "<IPython.core.display.HTML object>"
      ]
     },
     "metadata": {},
     "output_type": "display_data"
    },
    {
     "data": {
      "text/html": [
       "<span style=\"color:#4527A0\"><h1 style=\"font-size:18px\">Trial summary</h1></span>"
      ],
      "text/plain": [
       "<IPython.core.display.HTML object>"
      ]
     },
     "metadata": {},
     "output_type": "display_data"
    },
    {
     "data": {
      "text/html": [
       "<span style=\"color:cyan\"> |-Trial ID: be8eca46e5563c384e82934055195322</span>"
      ],
      "text/plain": [
       "<IPython.core.display.HTML object>"
      ]
     },
     "metadata": {},
     "output_type": "display_data"
    },
    {
     "data": {
      "text/html": [
       "<span style=\"color:cyan\"> |-Score: 0.007928168401122093</span>"
      ],
      "text/plain": [
       "<IPython.core.display.HTML object>"
      ]
     },
     "metadata": {},
     "output_type": "display_data"
    },
    {
     "data": {
      "text/html": [
       "<span style=\"color:cyan\"> |-Best step: 0</span>"
      ],
      "text/plain": [
       "<IPython.core.display.HTML object>"
      ]
     },
     "metadata": {},
     "output_type": "display_data"
    },
    {
     "data": {
      "text/html": [
       "<span style=\"color:#7E57C2\"><h2 style=\"font-size:16px\">Hyperparameters:</h2></span>"
      ],
      "text/plain": [
       "<IPython.core.display.HTML object>"
      ]
     },
     "metadata": {},
     "output_type": "display_data"
    },
    {
     "data": {
      "text/html": [
       "<span style=\"color:cyan\"> |-hidden_units: 136</span>"
      ],
      "text/plain": [
       "<IPython.core.display.HTML object>"
      ]
     },
     "metadata": {},
     "output_type": "display_data"
    },
    {
     "data": {
      "text/html": [
       "<span style=\"color:blue\"> |-learning_rate: 0.001</span>"
      ],
      "text/plain": [
       "<IPython.core.display.HTML object>"
      ]
     },
     "metadata": {},
     "output_type": "display_data"
    },
    {
     "data": {
      "text/html": [
       "<span style=\"color:cyan\"> |-tuner/bracket: 3</span>"
      ],
      "text/plain": [
       "<IPython.core.display.HTML object>"
      ]
     },
     "metadata": {},
     "output_type": "display_data"
    },
    {
     "data": {
      "text/html": [
       "<span style=\"color:blue\"> |-tuner/epochs: 2</span>"
      ],
      "text/plain": [
       "<IPython.core.display.HTML object>"
      ]
     },
     "metadata": {},
     "output_type": "display_data"
    },
    {
     "data": {
      "text/html": [
       "<span style=\"color:cyan\"> |-tuner/initial_epoch: 0</span>"
      ],
      "text/plain": [
       "<IPython.core.display.HTML object>"
      ]
     },
     "metadata": {},
     "output_type": "display_data"
    },
    {
     "data": {
      "text/html": [
       "<span style=\"color:blue\"> |-tuner/round: 0</span>"
      ],
      "text/plain": [
       "<IPython.core.display.HTML object>"
      ]
     },
     "metadata": {},
     "output_type": "display_data"
    },
    {
     "name": "stdout",
     "output_type": "stream",
     "text": [
      "Train on 8000 samples, validate on 2000 samples\n",
      "Epoch 1/2\n",
      "8000/8000 - 1s - loss: 0.0211 - mean_squared_error: 0.0207 - mean_absolute_error: 0.0839 - val_loss: 0.0013 - val_mean_squared_error: 7.4226e-04 - val_mean_absolute_error: 0.0219\n",
      "Epoch 2/2\n",
      "8000/8000 - 1s - loss: 0.0012 - mean_squared_error: 4.9256e-04 - mean_absolute_error: 0.0174 - val_loss: 0.0010 - val_mean_squared_error: 3.1180e-04 - val_mean_absolute_error: 0.0136\n"
     ]
    },
    {
     "data": {
      "text/html": [
       "<span style=\"color:#4527A0\"><h1 style=\"font-size:18px\">Trial complete</h1></span>"
      ],
      "text/plain": [
       "<IPython.core.display.HTML object>"
      ]
     },
     "metadata": {},
     "output_type": "display_data"
    },
    {
     "data": {
      "text/html": [
       "<span style=\"color:#4527A0\"><h1 style=\"font-size:18px\">Trial summary</h1></span>"
      ],
      "text/plain": [
       "<IPython.core.display.HTML object>"
      ]
     },
     "metadata": {},
     "output_type": "display_data"
    },
    {
     "data": {
      "text/html": [
       "<span style=\"color:cyan\"> |-Trial ID: 9a4ec0ce5d951bf489a88e85b7bf20c2</span>"
      ],
      "text/plain": [
       "<IPython.core.display.HTML object>"
      ]
     },
     "metadata": {},
     "output_type": "display_data"
    },
    {
     "data": {
      "text/html": [
       "<span style=\"color:cyan\"> |-Score: 0.0003118035674560815</span>"
      ],
      "text/plain": [
       "<IPython.core.display.HTML object>"
      ]
     },
     "metadata": {},
     "output_type": "display_data"
    },
    {
     "data": {
      "text/html": [
       "<span style=\"color:cyan\"> |-Best step: 0</span>"
      ],
      "text/plain": [
       "<IPython.core.display.HTML object>"
      ]
     },
     "metadata": {},
     "output_type": "display_data"
    },
    {
     "data": {
      "text/html": [
       "<span style=\"color:#7E57C2\"><h2 style=\"font-size:16px\">Hyperparameters:</h2></span>"
      ],
      "text/plain": [
       "<IPython.core.display.HTML object>"
      ]
     },
     "metadata": {},
     "output_type": "display_data"
    },
    {
     "data": {
      "text/html": [
       "<span style=\"color:cyan\"> |-hidden_units: 92</span>"
      ],
      "text/plain": [
       "<IPython.core.display.HTML object>"
      ]
     },
     "metadata": {},
     "output_type": "display_data"
    },
    {
     "data": {
      "text/html": [
       "<span style=\"color:blue\"> |-learning_rate: 0.01</span>"
      ],
      "text/plain": [
       "<IPython.core.display.HTML object>"
      ]
     },
     "metadata": {},
     "output_type": "display_data"
    },
    {
     "data": {
      "text/html": [
       "<span style=\"color:cyan\"> |-tuner/bracket: 3</span>"
      ],
      "text/plain": [
       "<IPython.core.display.HTML object>"
      ]
     },
     "metadata": {},
     "output_type": "display_data"
    },
    {
     "data": {
      "text/html": [
       "<span style=\"color:blue\"> |-tuner/epochs: 2</span>"
      ],
      "text/plain": [
       "<IPython.core.display.HTML object>"
      ]
     },
     "metadata": {},
     "output_type": "display_data"
    },
    {
     "data": {
      "text/html": [
       "<span style=\"color:cyan\"> |-tuner/initial_epoch: 0</span>"
      ],
      "text/plain": [
       "<IPython.core.display.HTML object>"
      ]
     },
     "metadata": {},
     "output_type": "display_data"
    },
    {
     "data": {
      "text/html": [
       "<span style=\"color:blue\"> |-tuner/round: 0</span>"
      ],
      "text/plain": [
       "<IPython.core.display.HTML object>"
      ]
     },
     "metadata": {},
     "output_type": "display_data"
    },
    {
     "name": "stdout",
     "output_type": "stream",
     "text": [
      "Train on 8000 samples, validate on 2000 samples\n",
      "Epoch 1/2\n",
      "8000/8000 - 1s - loss: 0.0218 - mean_squared_error: 0.0213 - mean_absolute_error: 0.0866 - val_loss: 0.0014 - val_mean_squared_error: 8.0033e-04 - val_mean_absolute_error: 0.0228\n",
      "Epoch 2/2\n",
      "8000/8000 - 1s - loss: 0.0012 - mean_squared_error: 5.0751e-04 - mean_absolute_error: 0.0177 - val_loss: 0.0010 - val_mean_squared_error: 3.4259e-04 - val_mean_absolute_error: 0.0144\n"
     ]
    },
    {
     "data": {
      "text/html": [
       "<span style=\"color:#4527A0\"><h1 style=\"font-size:18px\">Trial complete</h1></span>"
      ],
      "text/plain": [
       "<IPython.core.display.HTML object>"
      ]
     },
     "metadata": {},
     "output_type": "display_data"
    },
    {
     "data": {
      "text/html": [
       "<span style=\"color:#4527A0\"><h1 style=\"font-size:18px\">Trial summary</h1></span>"
      ],
      "text/plain": [
       "<IPython.core.display.HTML object>"
      ]
     },
     "metadata": {},
     "output_type": "display_data"
    },
    {
     "data": {
      "text/html": [
       "<span style=\"color:cyan\"> |-Trial ID: 80ccfc959cf1073548912798536d12b3</span>"
      ],
      "text/plain": [
       "<IPython.core.display.HTML object>"
      ]
     },
     "metadata": {},
     "output_type": "display_data"
    },
    {
     "data": {
      "text/html": [
       "<span style=\"color:cyan\"> |-Score: 0.00034258648520335555</span>"
      ],
      "text/plain": [
       "<IPython.core.display.HTML object>"
      ]
     },
     "metadata": {},
     "output_type": "display_data"
    },
    {
     "data": {
      "text/html": [
       "<span style=\"color:cyan\"> |-Best step: 0</span>"
      ],
      "text/plain": [
       "<IPython.core.display.HTML object>"
      ]
     },
     "metadata": {},
     "output_type": "display_data"
    },
    {
     "data": {
      "text/html": [
       "<span style=\"color:#7E57C2\"><h2 style=\"font-size:16px\">Hyperparameters:</h2></span>"
      ],
      "text/plain": [
       "<IPython.core.display.HTML object>"
      ]
     },
     "metadata": {},
     "output_type": "display_data"
    },
    {
     "data": {
      "text/html": [
       "<span style=\"color:cyan\"> |-hidden_units: 84</span>"
      ],
      "text/plain": [
       "<IPython.core.display.HTML object>"
      ]
     },
     "metadata": {},
     "output_type": "display_data"
    },
    {
     "data": {
      "text/html": [
       "<span style=\"color:blue\"> |-learning_rate: 0.01</span>"
      ],
      "text/plain": [
       "<IPython.core.display.HTML object>"
      ]
     },
     "metadata": {},
     "output_type": "display_data"
    },
    {
     "data": {
      "text/html": [
       "<span style=\"color:cyan\"> |-tuner/bracket: 3</span>"
      ],
      "text/plain": [
       "<IPython.core.display.HTML object>"
      ]
     },
     "metadata": {},
     "output_type": "display_data"
    },
    {
     "data": {
      "text/html": [
       "<span style=\"color:blue\"> |-tuner/epochs: 2</span>"
      ],
      "text/plain": [
       "<IPython.core.display.HTML object>"
      ]
     },
     "metadata": {},
     "output_type": "display_data"
    },
    {
     "data": {
      "text/html": [
       "<span style=\"color:cyan\"> |-tuner/initial_epoch: 0</span>"
      ],
      "text/plain": [
       "<IPython.core.display.HTML object>"
      ]
     },
     "metadata": {},
     "output_type": "display_data"
    },
    {
     "data": {
      "text/html": [
       "<span style=\"color:blue\"> |-tuner/round: 0</span>"
      ],
      "text/plain": [
       "<IPython.core.display.HTML object>"
      ]
     },
     "metadata": {},
     "output_type": "display_data"
    },
    {
     "name": "stdout",
     "output_type": "stream",
     "text": [
      "Train on 8000 samples, validate on 2000 samples\n",
      "Epoch 1/2\n",
      "8000/8000 - 1s - loss: 0.2038 - mean_squared_error: 0.2036 - mean_absolute_error: 0.4274 - val_loss: 0.1864 - val_mean_squared_error: 0.1863 - val_mean_absolute_error: 0.4038\n",
      "Epoch 2/2\n",
      "8000/8000 - 1s - loss: 0.1719 - mean_squared_error: 0.1718 - mean_absolute_error: 0.3876 - val_loss: 0.1589 - val_mean_squared_error: 0.1588 - val_mean_absolute_error: 0.3712\n"
     ]
    },
    {
     "data": {
      "text/html": [
       "<span style=\"color:#4527A0\"><h1 style=\"font-size:18px\">Trial complete</h1></span>"
      ],
      "text/plain": [
       "<IPython.core.display.HTML object>"
      ]
     },
     "metadata": {},
     "output_type": "display_data"
    },
    {
     "data": {
      "text/html": [
       "<span style=\"color:#4527A0\"><h1 style=\"font-size:18px\">Trial summary</h1></span>"
      ],
      "text/plain": [
       "<IPython.core.display.HTML object>"
      ]
     },
     "metadata": {},
     "output_type": "display_data"
    },
    {
     "data": {
      "text/html": [
       "<span style=\"color:cyan\"> |-Trial ID: 41ce002aa6a52aab4ad7b397a2ab27bf</span>"
      ],
      "text/plain": [
       "<IPython.core.display.HTML object>"
      ]
     },
     "metadata": {},
     "output_type": "display_data"
    },
    {
     "data": {
      "text/html": [
       "<span style=\"color:cyan\"> |-Score: 0.15876978635787964</span>"
      ],
      "text/plain": [
       "<IPython.core.display.HTML object>"
      ]
     },
     "metadata": {},
     "output_type": "display_data"
    },
    {
     "data": {
      "text/html": [
       "<span style=\"color:cyan\"> |-Best step: 0</span>"
      ],
      "text/plain": [
       "<IPython.core.display.HTML object>"
      ]
     },
     "metadata": {},
     "output_type": "display_data"
    },
    {
     "data": {
      "text/html": [
       "<span style=\"color:#7E57C2\"><h2 style=\"font-size:16px\">Hyperparameters:</h2></span>"
      ],
      "text/plain": [
       "<IPython.core.display.HTML object>"
      ]
     },
     "metadata": {},
     "output_type": "display_data"
    },
    {
     "data": {
      "text/html": [
       "<span style=\"color:cyan\"> |-hidden_units: 148</span>"
      ],
      "text/plain": [
       "<IPython.core.display.HTML object>"
      ]
     },
     "metadata": {},
     "output_type": "display_data"
    },
    {
     "data": {
      "text/html": [
       "<span style=\"color:blue\"> |-learning_rate: 0.0001</span>"
      ],
      "text/plain": [
       "<IPython.core.display.HTML object>"
      ]
     },
     "metadata": {},
     "output_type": "display_data"
    },
    {
     "data": {
      "text/html": [
       "<span style=\"color:cyan\"> |-tuner/bracket: 3</span>"
      ],
      "text/plain": [
       "<IPython.core.display.HTML object>"
      ]
     },
     "metadata": {},
     "output_type": "display_data"
    },
    {
     "data": {
      "text/html": [
       "<span style=\"color:blue\"> |-tuner/epochs: 2</span>"
      ],
      "text/plain": [
       "<IPython.core.display.HTML object>"
      ]
     },
     "metadata": {},
     "output_type": "display_data"
    },
    {
     "data": {
      "text/html": [
       "<span style=\"color:cyan\"> |-tuner/initial_epoch: 0</span>"
      ],
      "text/plain": [
       "<IPython.core.display.HTML object>"
      ]
     },
     "metadata": {},
     "output_type": "display_data"
    },
    {
     "data": {
      "text/html": [
       "<span style=\"color:blue\"> |-tuner/round: 0</span>"
      ],
      "text/plain": [
       "<IPython.core.display.HTML object>"
      ]
     },
     "metadata": {},
     "output_type": "display_data"
    },
    {
     "name": "stdout",
     "output_type": "stream",
     "text": [
      "Train on 8000 samples, validate on 2000 samples\n",
      "Epoch 1/2\n",
      "8000/8000 - 1s - loss: 0.0159 - mean_squared_error: 0.0154 - mean_absolute_error: 0.0673 - val_loss: 0.0013 - val_mean_squared_error: 6.4407e-04 - val_mean_absolute_error: 0.0195\n",
      "Epoch 2/2\n",
      "8000/8000 - 1s - loss: 0.0012 - mean_squared_error: 5.0901e-04 - mean_absolute_error: 0.0168 - val_loss: 0.0010 - val_mean_squared_error: 3.2562e-04 - val_mean_absolute_error: 0.0136\n"
     ]
    },
    {
     "data": {
      "text/html": [
       "<span style=\"color:#4527A0\"><h1 style=\"font-size:18px\">Trial complete</h1></span>"
      ],
      "text/plain": [
       "<IPython.core.display.HTML object>"
      ]
     },
     "metadata": {},
     "output_type": "display_data"
    },
    {
     "data": {
      "text/html": [
       "<span style=\"color:#4527A0\"><h1 style=\"font-size:18px\">Trial summary</h1></span>"
      ],
      "text/plain": [
       "<IPython.core.display.HTML object>"
      ]
     },
     "metadata": {},
     "output_type": "display_data"
    },
    {
     "data": {
      "text/html": [
       "<span style=\"color:cyan\"> |-Trial ID: a683aa0799a92ca6345f5814eb8c45c2</span>"
      ],
      "text/plain": [
       "<IPython.core.display.HTML object>"
      ]
     },
     "metadata": {},
     "output_type": "display_data"
    },
    {
     "data": {
      "text/html": [
       "<span style=\"color:cyan\"> |-Score: 0.00032561912667006254</span>"
      ],
      "text/plain": [
       "<IPython.core.display.HTML object>"
      ]
     },
     "metadata": {},
     "output_type": "display_data"
    },
    {
     "data": {
      "text/html": [
       "<span style=\"color:cyan\"> |-Best step: 0</span>"
      ],
      "text/plain": [
       "<IPython.core.display.HTML object>"
      ]
     },
     "metadata": {},
     "output_type": "display_data"
    },
    {
     "data": {
      "text/html": [
       "<span style=\"color:#7E57C2\"><h2 style=\"font-size:16px\">Hyperparameters:</h2></span>"
      ],
      "text/plain": [
       "<IPython.core.display.HTML object>"
      ]
     },
     "metadata": {},
     "output_type": "display_data"
    },
    {
     "data": {
      "text/html": [
       "<span style=\"color:cyan\"> |-hidden_units: 146</span>"
      ],
      "text/plain": [
       "<IPython.core.display.HTML object>"
      ]
     },
     "metadata": {},
     "output_type": "display_data"
    },
    {
     "data": {
      "text/html": [
       "<span style=\"color:blue\"> |-learning_rate: 0.01</span>"
      ],
      "text/plain": [
       "<IPython.core.display.HTML object>"
      ]
     },
     "metadata": {},
     "output_type": "display_data"
    },
    {
     "data": {
      "text/html": [
       "<span style=\"color:cyan\"> |-tuner/bracket: 3</span>"
      ],
      "text/plain": [
       "<IPython.core.display.HTML object>"
      ]
     },
     "metadata": {},
     "output_type": "display_data"
    },
    {
     "data": {
      "text/html": [
       "<span style=\"color:blue\"> |-tuner/epochs: 2</span>"
      ],
      "text/plain": [
       "<IPython.core.display.HTML object>"
      ]
     },
     "metadata": {},
     "output_type": "display_data"
    },
    {
     "data": {
      "text/html": [
       "<span style=\"color:cyan\"> |-tuner/initial_epoch: 0</span>"
      ],
      "text/plain": [
       "<IPython.core.display.HTML object>"
      ]
     },
     "metadata": {},
     "output_type": "display_data"
    },
    {
     "data": {
      "text/html": [
       "<span style=\"color:blue\"> |-tuner/round: 0</span>"
      ],
      "text/plain": [
       "<IPython.core.display.HTML object>"
      ]
     },
     "metadata": {},
     "output_type": "display_data"
    },
    {
     "name": "stdout",
     "output_type": "stream",
     "text": [
      "Train on 8000 samples, validate on 2000 samples\n",
      "Epoch 1/2\n",
      "8000/8000 - 1s - loss: 0.0202 - mean_squared_error: 0.0197 - mean_absolute_error: 0.0815 - val_loss: 0.0013 - val_mean_squared_error: 7.2206e-04 - val_mean_absolute_error: 0.0216\n",
      "Epoch 2/2\n",
      "8000/8000 - 1s - loss: 0.0011 - mean_squared_error: 4.7584e-04 - mean_absolute_error: 0.0171 - val_loss: 0.0010 - val_mean_squared_error: 3.3082e-04 - val_mean_absolute_error: 0.0140\n"
     ]
    },
    {
     "data": {
      "text/html": [
       "<span style=\"color:#4527A0\"><h1 style=\"font-size:18px\">Trial complete</h1></span>"
      ],
      "text/plain": [
       "<IPython.core.display.HTML object>"
      ]
     },
     "metadata": {},
     "output_type": "display_data"
    },
    {
     "data": {
      "text/html": [
       "<span style=\"color:#4527A0\"><h1 style=\"font-size:18px\">Trial summary</h1></span>"
      ],
      "text/plain": [
       "<IPython.core.display.HTML object>"
      ]
     },
     "metadata": {},
     "output_type": "display_data"
    },
    {
     "data": {
      "text/html": [
       "<span style=\"color:cyan\"> |-Trial ID: bd938ba057708a33d2bf528c0da49a63</span>"
      ],
      "text/plain": [
       "<IPython.core.display.HTML object>"
      ]
     },
     "metadata": {},
     "output_type": "display_data"
    },
    {
     "data": {
      "text/html": [
       "<span style=\"color:cyan\"> |-Score: 0.00033081875881180167</span>"
      ],
      "text/plain": [
       "<IPython.core.display.HTML object>"
      ]
     },
     "metadata": {},
     "output_type": "display_data"
    },
    {
     "data": {
      "text/html": [
       "<span style=\"color:cyan\"> |-Best step: 0</span>"
      ],
      "text/plain": [
       "<IPython.core.display.HTML object>"
      ]
     },
     "metadata": {},
     "output_type": "display_data"
    },
    {
     "data": {
      "text/html": [
       "<span style=\"color:#7E57C2\"><h2 style=\"font-size:16px\">Hyperparameters:</h2></span>"
      ],
      "text/plain": [
       "<IPython.core.display.HTML object>"
      ]
     },
     "metadata": {},
     "output_type": "display_data"
    },
    {
     "data": {
      "text/html": [
       "<span style=\"color:cyan\"> |-hidden_units: 96</span>"
      ],
      "text/plain": [
       "<IPython.core.display.HTML object>"
      ]
     },
     "metadata": {},
     "output_type": "display_data"
    },
    {
     "data": {
      "text/html": [
       "<span style=\"color:blue\"> |-learning_rate: 0.01</span>"
      ],
      "text/plain": [
       "<IPython.core.display.HTML object>"
      ]
     },
     "metadata": {},
     "output_type": "display_data"
    },
    {
     "data": {
      "text/html": [
       "<span style=\"color:cyan\"> |-tuner/bracket: 3</span>"
      ],
      "text/plain": [
       "<IPython.core.display.HTML object>"
      ]
     },
     "metadata": {},
     "output_type": "display_data"
    },
    {
     "data": {
      "text/html": [
       "<span style=\"color:blue\"> |-tuner/epochs: 2</span>"
      ],
      "text/plain": [
       "<IPython.core.display.HTML object>"
      ]
     },
     "metadata": {},
     "output_type": "display_data"
    },
    {
     "data": {
      "text/html": [
       "<span style=\"color:cyan\"> |-tuner/initial_epoch: 0</span>"
      ],
      "text/plain": [
       "<IPython.core.display.HTML object>"
      ]
     },
     "metadata": {},
     "output_type": "display_data"
    },
    {
     "data": {
      "text/html": [
       "<span style=\"color:blue\"> |-tuner/round: 0</span>"
      ],
      "text/plain": [
       "<IPython.core.display.HTML object>"
      ]
     },
     "metadata": {},
     "output_type": "display_data"
    },
    {
     "name": "stdout",
     "output_type": "stream",
     "text": [
      "Train on 8000 samples, validate on 2000 samples\n",
      "Epoch 1/2\n",
      "8000/8000 - 1s - loss: 0.1458 - mean_squared_error: 0.1457 - mean_absolute_error: 0.3487 - val_loss: 0.0842 - val_mean_squared_error: 0.0840 - val_mean_absolute_error: 0.2585\n",
      "Epoch 2/2\n",
      "8000/8000 - 1s - loss: 0.0538 - mean_squared_error: 0.0536 - mean_absolute_error: 0.1979 - val_loss: 0.0322 - val_mean_squared_error: 0.0320 - val_mean_absolute_error: 0.1508\n"
     ]
    },
    {
     "data": {
      "text/html": [
       "<span style=\"color:#4527A0\"><h1 style=\"font-size:18px\">Trial complete</h1></span>"
      ],
      "text/plain": [
       "<IPython.core.display.HTML object>"
      ]
     },
     "metadata": {},
     "output_type": "display_data"
    },
    {
     "data": {
      "text/html": [
       "<span style=\"color:#4527A0\"><h1 style=\"font-size:18px\">Trial summary</h1></span>"
      ],
      "text/plain": [
       "<IPython.core.display.HTML object>"
      ]
     },
     "metadata": {},
     "output_type": "display_data"
    },
    {
     "data": {
      "text/html": [
       "<span style=\"color:cyan\"> |-Trial ID: 5b6013df8c2fce9b1bfec513dfa71794</span>"
      ],
      "text/plain": [
       "<IPython.core.display.HTML object>"
      ]
     },
     "metadata": {},
     "output_type": "display_data"
    },
    {
     "data": {
      "text/html": [
       "<span style=\"color:cyan\"> |-Score: 0.031950704753398895</span>"
      ],
      "text/plain": [
       "<IPython.core.display.HTML object>"
      ]
     },
     "metadata": {},
     "output_type": "display_data"
    },
    {
     "data": {
      "text/html": [
       "<span style=\"color:cyan\"> |-Best step: 0</span>"
      ],
      "text/plain": [
       "<IPython.core.display.HTML object>"
      ]
     },
     "metadata": {},
     "output_type": "display_data"
    },
    {
     "data": {
      "text/html": [
       "<span style=\"color:#7E57C2\"><h2 style=\"font-size:16px\">Hyperparameters:</h2></span>"
      ],
      "text/plain": [
       "<IPython.core.display.HTML object>"
      ]
     },
     "metadata": {},
     "output_type": "display_data"
    },
    {
     "data": {
      "text/html": [
       "<span style=\"color:cyan\"> |-hidden_units: 60</span>"
      ],
      "text/plain": [
       "<IPython.core.display.HTML object>"
      ]
     },
     "metadata": {},
     "output_type": "display_data"
    },
    {
     "data": {
      "text/html": [
       "<span style=\"color:blue\"> |-learning_rate: 0.001</span>"
      ],
      "text/plain": [
       "<IPython.core.display.HTML object>"
      ]
     },
     "metadata": {},
     "output_type": "display_data"
    },
    {
     "data": {
      "text/html": [
       "<span style=\"color:cyan\"> |-tuner/bracket: 3</span>"
      ],
      "text/plain": [
       "<IPython.core.display.HTML object>"
      ]
     },
     "metadata": {},
     "output_type": "display_data"
    },
    {
     "data": {
      "text/html": [
       "<span style=\"color:blue\"> |-tuner/epochs: 2</span>"
      ],
      "text/plain": [
       "<IPython.core.display.HTML object>"
      ]
     },
     "metadata": {},
     "output_type": "display_data"
    },
    {
     "data": {
      "text/html": [
       "<span style=\"color:cyan\"> |-tuner/initial_epoch: 0</span>"
      ],
      "text/plain": [
       "<IPython.core.display.HTML object>"
      ]
     },
     "metadata": {},
     "output_type": "display_data"
    },
    {
     "data": {
      "text/html": [
       "<span style=\"color:blue\"> |-tuner/round: 0</span>"
      ],
      "text/plain": [
       "<IPython.core.display.HTML object>"
      ]
     },
     "metadata": {},
     "output_type": "display_data"
    },
    {
     "name": "stdout",
     "output_type": "stream",
     "text": [
      "Train on 8000 samples, validate on 2000 samples\n",
      "Epoch 1/2\n",
      "8000/8000 - 1s - loss: 0.1063 - mean_squared_error: 0.1062 - mean_absolute_error: 0.2906 - val_loss: 0.0362 - val_mean_squared_error: 0.0360 - val_mean_absolute_error: 0.1673\n",
      "Epoch 2/2\n",
      "8000/8000 - 1s - loss: 0.0171 - mean_squared_error: 0.0168 - mean_absolute_error: 0.1124 - val_loss: 0.0077 - val_mean_squared_error: 0.0074 - val_mean_absolute_error: 0.0767\n"
     ]
    },
    {
     "data": {
      "text/html": [
       "<span style=\"color:#4527A0\"><h1 style=\"font-size:18px\">Trial complete</h1></span>"
      ],
      "text/plain": [
       "<IPython.core.display.HTML object>"
      ]
     },
     "metadata": {},
     "output_type": "display_data"
    },
    {
     "data": {
      "text/html": [
       "<span style=\"color:#4527A0\"><h1 style=\"font-size:18px\">Trial summary</h1></span>"
      ],
      "text/plain": [
       "<IPython.core.display.HTML object>"
      ]
     },
     "metadata": {},
     "output_type": "display_data"
    },
    {
     "data": {
      "text/html": [
       "<span style=\"color:cyan\"> |-Trial ID: cb024c2939ab73e48c6bc8106da8da1d</span>"
      ],
      "text/plain": [
       "<IPython.core.display.HTML object>"
      ]
     },
     "metadata": {},
     "output_type": "display_data"
    },
    {
     "data": {
      "text/html": [
       "<span style=\"color:cyan\"> |-Score: 0.0073667229153215885</span>"
      ],
      "text/plain": [
       "<IPython.core.display.HTML object>"
      ]
     },
     "metadata": {},
     "output_type": "display_data"
    },
    {
     "data": {
      "text/html": [
       "<span style=\"color:cyan\"> |-Best step: 0</span>"
      ],
      "text/plain": [
       "<IPython.core.display.HTML object>"
      ]
     },
     "metadata": {},
     "output_type": "display_data"
    },
    {
     "data": {
      "text/html": [
       "<span style=\"color:#7E57C2\"><h2 style=\"font-size:16px\">Hyperparameters:</h2></span>"
      ],
      "text/plain": [
       "<IPython.core.display.HTML object>"
      ]
     },
     "metadata": {},
     "output_type": "display_data"
    },
    {
     "data": {
      "text/html": [
       "<span style=\"color:cyan\"> |-hidden_units: 140</span>"
      ],
      "text/plain": [
       "<IPython.core.display.HTML object>"
      ]
     },
     "metadata": {},
     "output_type": "display_data"
    },
    {
     "data": {
      "text/html": [
       "<span style=\"color:blue\"> |-learning_rate: 0.001</span>"
      ],
      "text/plain": [
       "<IPython.core.display.HTML object>"
      ]
     },
     "metadata": {},
     "output_type": "display_data"
    },
    {
     "data": {
      "text/html": [
       "<span style=\"color:cyan\"> |-tuner/bracket: 3</span>"
      ],
      "text/plain": [
       "<IPython.core.display.HTML object>"
      ]
     },
     "metadata": {},
     "output_type": "display_data"
    },
    {
     "data": {
      "text/html": [
       "<span style=\"color:blue\"> |-tuner/epochs: 2</span>"
      ],
      "text/plain": [
       "<IPython.core.display.HTML object>"
      ]
     },
     "metadata": {},
     "output_type": "display_data"
    },
    {
     "data": {
      "text/html": [
       "<span style=\"color:cyan\"> |-tuner/initial_epoch: 0</span>"
      ],
      "text/plain": [
       "<IPython.core.display.HTML object>"
      ]
     },
     "metadata": {},
     "output_type": "display_data"
    },
    {
     "data": {
      "text/html": [
       "<span style=\"color:blue\"> |-tuner/round: 0</span>"
      ],
      "text/plain": [
       "<IPython.core.display.HTML object>"
      ]
     },
     "metadata": {},
     "output_type": "display_data"
    },
    {
     "name": "stdout",
     "output_type": "stream",
     "text": [
      "Train on 8000 samples, validate on 2000 samples\n",
      "Epoch 1/2\n",
      "8000/8000 - 1s - loss: 0.0569 - mean_squared_error: 0.0566 - mean_absolute_error: 0.1699 - val_loss: 0.0224 - val_mean_squared_error: 0.0219 - val_mean_absolute_error: 0.0886\n",
      "Epoch 2/2\n",
      "8000/8000 - 1s - loss: 0.0212 - mean_squared_error: 0.0206 - mean_absolute_error: 0.0807 - val_loss: 0.0214 - val_mean_squared_error: 0.0208 - val_mean_absolute_error: 0.0772\n"
     ]
    },
    {
     "data": {
      "text/html": [
       "<span style=\"color:#4527A0\"><h1 style=\"font-size:18px\">Trial complete</h1></span>"
      ],
      "text/plain": [
       "<IPython.core.display.HTML object>"
      ]
     },
     "metadata": {},
     "output_type": "display_data"
    },
    {
     "data": {
      "text/html": [
       "<span style=\"color:#4527A0\"><h1 style=\"font-size:18px\">Trial summary</h1></span>"
      ],
      "text/plain": [
       "<IPython.core.display.HTML object>"
      ]
     },
     "metadata": {},
     "output_type": "display_data"
    },
    {
     "data": {
      "text/html": [
       "<span style=\"color:cyan\"> |-Trial ID: 692c15f11383e5f01b785fad7ea6dcf2</span>"
      ],
      "text/plain": [
       "<IPython.core.display.HTML object>"
      ]
     },
     "metadata": {},
     "output_type": "display_data"
    },
    {
     "data": {
      "text/html": [
       "<span style=\"color:cyan\"> |-Score: 0.020794840529561043</span>"
      ],
      "text/plain": [
       "<IPython.core.display.HTML object>"
      ]
     },
     "metadata": {},
     "output_type": "display_data"
    },
    {
     "data": {
      "text/html": [
       "<span style=\"color:cyan\"> |-Best step: 0</span>"
      ],
      "text/plain": [
       "<IPython.core.display.HTML object>"
      ]
     },
     "metadata": {},
     "output_type": "display_data"
    },
    {
     "data": {
      "text/html": [
       "<span style=\"color:#7E57C2\"><h2 style=\"font-size:16px\">Hyperparameters:</h2></span>"
      ],
      "text/plain": [
       "<IPython.core.display.HTML object>"
      ]
     },
     "metadata": {},
     "output_type": "display_data"
    },
    {
     "data": {
      "text/html": [
       "<span style=\"color:cyan\"> |-hidden_units: 30</span>"
      ],
      "text/plain": [
       "<IPython.core.display.HTML object>"
      ]
     },
     "metadata": {},
     "output_type": "display_data"
    },
    {
     "data": {
      "text/html": [
       "<span style=\"color:blue\"> |-learning_rate: 0.01</span>"
      ],
      "text/plain": [
       "<IPython.core.display.HTML object>"
      ]
     },
     "metadata": {},
     "output_type": "display_data"
    },
    {
     "data": {
      "text/html": [
       "<span style=\"color:cyan\"> |-tuner/bracket: 3</span>"
      ],
      "text/plain": [
       "<IPython.core.display.HTML object>"
      ]
     },
     "metadata": {},
     "output_type": "display_data"
    },
    {
     "data": {
      "text/html": [
       "<span style=\"color:blue\"> |-tuner/epochs: 2</span>"
      ],
      "text/plain": [
       "<IPython.core.display.HTML object>"
      ]
     },
     "metadata": {},
     "output_type": "display_data"
    },
    {
     "data": {
      "text/html": [
       "<span style=\"color:cyan\"> |-tuner/initial_epoch: 0</span>"
      ],
      "text/plain": [
       "<IPython.core.display.HTML object>"
      ]
     },
     "metadata": {},
     "output_type": "display_data"
    },
    {
     "data": {
      "text/html": [
       "<span style=\"color:blue\"> |-tuner/round: 0</span>"
      ],
      "text/plain": [
       "<IPython.core.display.HTML object>"
      ]
     },
     "metadata": {},
     "output_type": "display_data"
    },
    {
     "name": "stdout",
     "output_type": "stream",
     "text": [
      "Train on 8000 samples, validate on 2000 samples\n",
      "Epoch 1/2\n",
      "8000/8000 - 1s - loss: 0.2072 - mean_squared_error: 0.2070 - mean_absolute_error: 0.4288 - val_loss: 0.1911 - val_mean_squared_error: 0.1910 - val_mean_absolute_error: 0.4078\n",
      "Epoch 2/2\n",
      "8000/8000 - 1s - loss: 0.1790 - mean_squared_error: 0.1789 - mean_absolute_error: 0.3947 - val_loss: 0.1672 - val_mean_squared_error: 0.1670 - val_mean_absolute_error: 0.3798\n"
     ]
    },
    {
     "data": {
      "text/html": [
       "<span style=\"color:#4527A0\"><h1 style=\"font-size:18px\">Trial complete</h1></span>"
      ],
      "text/plain": [
       "<IPython.core.display.HTML object>"
      ]
     },
     "metadata": {},
     "output_type": "display_data"
    },
    {
     "data": {
      "text/html": [
       "<span style=\"color:#4527A0\"><h1 style=\"font-size:18px\">Trial summary</h1></span>"
      ],
      "text/plain": [
       "<IPython.core.display.HTML object>"
      ]
     },
     "metadata": {},
     "output_type": "display_data"
    },
    {
     "data": {
      "text/html": [
       "<span style=\"color:cyan\"> |-Trial ID: abfe78e81eddf0acf4c226846d34893c</span>"
      ],
      "text/plain": [
       "<IPython.core.display.HTML object>"
      ]
     },
     "metadata": {},
     "output_type": "display_data"
    },
    {
     "data": {
      "text/html": [
       "<span style=\"color:cyan\"> |-Score: 0.16704943776130676</span>"
      ],
      "text/plain": [
       "<IPython.core.display.HTML object>"
      ]
     },
     "metadata": {},
     "output_type": "display_data"
    },
    {
     "data": {
      "text/html": [
       "<span style=\"color:cyan\"> |-Best step: 0</span>"
      ],
      "text/plain": [
       "<IPython.core.display.HTML object>"
      ]
     },
     "metadata": {},
     "output_type": "display_data"
    },
    {
     "data": {
      "text/html": [
       "<span style=\"color:#7E57C2\"><h2 style=\"font-size:16px\">Hyperparameters:</h2></span>"
      ],
      "text/plain": [
       "<IPython.core.display.HTML object>"
      ]
     },
     "metadata": {},
     "output_type": "display_data"
    },
    {
     "data": {
      "text/html": [
       "<span style=\"color:cyan\"> |-hidden_units: 116</span>"
      ],
      "text/plain": [
       "<IPython.core.display.HTML object>"
      ]
     },
     "metadata": {},
     "output_type": "display_data"
    },
    {
     "data": {
      "text/html": [
       "<span style=\"color:blue\"> |-learning_rate: 0.0001</span>"
      ],
      "text/plain": [
       "<IPython.core.display.HTML object>"
      ]
     },
     "metadata": {},
     "output_type": "display_data"
    },
    {
     "data": {
      "text/html": [
       "<span style=\"color:cyan\"> |-tuner/bracket: 3</span>"
      ],
      "text/plain": [
       "<IPython.core.display.HTML object>"
      ]
     },
     "metadata": {},
     "output_type": "display_data"
    },
    {
     "data": {
      "text/html": [
       "<span style=\"color:blue\"> |-tuner/epochs: 2</span>"
      ],
      "text/plain": [
       "<IPython.core.display.HTML object>"
      ]
     },
     "metadata": {},
     "output_type": "display_data"
    },
    {
     "data": {
      "text/html": [
       "<span style=\"color:cyan\"> |-tuner/initial_epoch: 0</span>"
      ],
      "text/plain": [
       "<IPython.core.display.HTML object>"
      ]
     },
     "metadata": {},
     "output_type": "display_data"
    },
    {
     "data": {
      "text/html": [
       "<span style=\"color:blue\"> |-tuner/round: 0</span>"
      ],
      "text/plain": [
       "<IPython.core.display.HTML object>"
      ]
     },
     "metadata": {},
     "output_type": "display_data"
    },
    {
     "name": "stdout",
     "output_type": "stream",
     "text": [
      "Train on 8000 samples, validate on 2000 samples\n",
      "Epoch 1/2\n",
      "8000/8000 - 1s - loss: 0.1055 - mean_squared_error: 0.1054 - mean_absolute_error: 0.2893 - val_loss: 0.0361 - val_mean_squared_error: 0.0359 - val_mean_absolute_error: 0.1669\n",
      "Epoch 2/2\n",
      "8000/8000 - 1s - loss: 0.0173 - mean_squared_error: 0.0169 - mean_absolute_error: 0.1127 - val_loss: 0.0079 - val_mean_squared_error: 0.0075 - val_mean_absolute_error: 0.0773\n"
     ]
    },
    {
     "data": {
      "text/html": [
       "<span style=\"color:#4527A0\"><h1 style=\"font-size:18px\">Trial complete</h1></span>"
      ],
      "text/plain": [
       "<IPython.core.display.HTML object>"
      ]
     },
     "metadata": {},
     "output_type": "display_data"
    },
    {
     "data": {
      "text/html": [
       "<span style=\"color:#4527A0\"><h1 style=\"font-size:18px\">Trial summary</h1></span>"
      ],
      "text/plain": [
       "<IPython.core.display.HTML object>"
      ]
     },
     "metadata": {},
     "output_type": "display_data"
    },
    {
     "data": {
      "text/html": [
       "<span style=\"color:cyan\"> |-Trial ID: 91c5326b3f0f4edc2632b1b51c4e997e</span>"
      ],
      "text/plain": [
       "<IPython.core.display.HTML object>"
      ]
     },
     "metadata": {},
     "output_type": "display_data"
    },
    {
     "data": {
      "text/html": [
       "<span style=\"color:cyan\"> |-Score: 0.0075116632506251335</span>"
      ],
      "text/plain": [
       "<IPython.core.display.HTML object>"
      ]
     },
     "metadata": {},
     "output_type": "display_data"
    },
    {
     "data": {
      "text/html": [
       "<span style=\"color:cyan\"> |-Best step: 0</span>"
      ],
      "text/plain": [
       "<IPython.core.display.HTML object>"
      ]
     },
     "metadata": {},
     "output_type": "display_data"
    },
    {
     "data": {
      "text/html": [
       "<span style=\"color:#7E57C2\"><h2 style=\"font-size:16px\">Hyperparameters:</h2></span>"
      ],
      "text/plain": [
       "<IPython.core.display.HTML object>"
      ]
     },
     "metadata": {},
     "output_type": "display_data"
    },
    {
     "data": {
      "text/html": [
       "<span style=\"color:cyan\"> |-hidden_units: 138</span>"
      ],
      "text/plain": [
       "<IPython.core.display.HTML object>"
      ]
     },
     "metadata": {},
     "output_type": "display_data"
    },
    {
     "data": {
      "text/html": [
       "<span style=\"color:blue\"> |-learning_rate: 0.001</span>"
      ],
      "text/plain": [
       "<IPython.core.display.HTML object>"
      ]
     },
     "metadata": {},
     "output_type": "display_data"
    },
    {
     "data": {
      "text/html": [
       "<span style=\"color:cyan\"> |-tuner/bracket: 3</span>"
      ],
      "text/plain": [
       "<IPython.core.display.HTML object>"
      ]
     },
     "metadata": {},
     "output_type": "display_data"
    },
    {
     "data": {
      "text/html": [
       "<span style=\"color:blue\"> |-tuner/epochs: 2</span>"
      ],
      "text/plain": [
       "<IPython.core.display.HTML object>"
      ]
     },
     "metadata": {},
     "output_type": "display_data"
    },
    {
     "data": {
      "text/html": [
       "<span style=\"color:cyan\"> |-tuner/initial_epoch: 0</span>"
      ],
      "text/plain": [
       "<IPython.core.display.HTML object>"
      ]
     },
     "metadata": {},
     "output_type": "display_data"
    },
    {
     "data": {
      "text/html": [
       "<span style=\"color:blue\"> |-tuner/round: 0</span>"
      ],
      "text/plain": [
       "<IPython.core.display.HTML object>"
      ]
     },
     "metadata": {},
     "output_type": "display_data"
    },
    {
     "name": "stdout",
     "output_type": "stream",
     "text": [
      "Train on 8000 samples, validate on 2000 samples\n",
      "Epoch 1/2\n",
      "8000/8000 - 1s - loss: 0.1686 - mean_squared_error: 0.1685 - mean_absolute_error: 0.3811 - val_loss: 0.1204 - val_mean_squared_error: 0.1203 - val_mean_absolute_error: 0.3158\n",
      "Epoch 2/2\n",
      "8000/8000 - 0s - loss: 0.0944 - mean_squared_error: 0.0943 - mean_absolute_error: 0.2650 - val_loss: 0.0776 - val_mean_squared_error: 0.0775 - val_mean_absolute_error: 0.2306\n"
     ]
    },
    {
     "data": {
      "text/html": [
       "<span style=\"color:#4527A0\"><h1 style=\"font-size:18px\">Trial complete</h1></span>"
      ],
      "text/plain": [
       "<IPython.core.display.HTML object>"
      ]
     },
     "metadata": {},
     "output_type": "display_data"
    },
    {
     "data": {
      "text/html": [
       "<span style=\"color:#4527A0\"><h1 style=\"font-size:18px\">Trial summary</h1></span>"
      ],
      "text/plain": [
       "<IPython.core.display.HTML object>"
      ]
     },
     "metadata": {},
     "output_type": "display_data"
    },
    {
     "data": {
      "text/html": [
       "<span style=\"color:cyan\"> |-Trial ID: 09f1426d72e218b1c93d8773703d5673</span>"
      ],
      "text/plain": [
       "<IPython.core.display.HTML object>"
      ]
     },
     "metadata": {},
     "output_type": "display_data"
    },
    {
     "data": {
      "text/html": [
       "<span style=\"color:cyan\"> |-Score: 0.07746367901563644</span>"
      ],
      "text/plain": [
       "<IPython.core.display.HTML object>"
      ]
     },
     "metadata": {},
     "output_type": "display_data"
    },
    {
     "data": {
      "text/html": [
       "<span style=\"color:cyan\"> |-Best step: 0</span>"
      ],
      "text/plain": [
       "<IPython.core.display.HTML object>"
      ]
     },
     "metadata": {},
     "output_type": "display_data"
    },
    {
     "data": {
      "text/html": [
       "<span style=\"color:#7E57C2\"><h2 style=\"font-size:16px\">Hyperparameters:</h2></span>"
      ],
      "text/plain": [
       "<IPython.core.display.HTML object>"
      ]
     },
     "metadata": {},
     "output_type": "display_data"
    },
    {
     "data": {
      "text/html": [
       "<span style=\"color:cyan\"> |-hidden_units: 30</span>"
      ],
      "text/plain": [
       "<IPython.core.display.HTML object>"
      ]
     },
     "metadata": {},
     "output_type": "display_data"
    },
    {
     "data": {
      "text/html": [
       "<span style=\"color:blue\"> |-learning_rate: 0.001</span>"
      ],
      "text/plain": [
       "<IPython.core.display.HTML object>"
      ]
     },
     "metadata": {},
     "output_type": "display_data"
    },
    {
     "data": {
      "text/html": [
       "<span style=\"color:cyan\"> |-tuner/bracket: 3</span>"
      ],
      "text/plain": [
       "<IPython.core.display.HTML object>"
      ]
     },
     "metadata": {},
     "output_type": "display_data"
    },
    {
     "data": {
      "text/html": [
       "<span style=\"color:blue\"> |-tuner/epochs: 2</span>"
      ],
      "text/plain": [
       "<IPython.core.display.HTML object>"
      ]
     },
     "metadata": {},
     "output_type": "display_data"
    },
    {
     "data": {
      "text/html": [
       "<span style=\"color:cyan\"> |-tuner/initial_epoch: 0</span>"
      ],
      "text/plain": [
       "<IPython.core.display.HTML object>"
      ]
     },
     "metadata": {},
     "output_type": "display_data"
    },
    {
     "data": {
      "text/html": [
       "<span style=\"color:blue\"> |-tuner/round: 0</span>"
      ],
      "text/plain": [
       "<IPython.core.display.HTML object>"
      ]
     },
     "metadata": {},
     "output_type": "display_data"
    },
    {
     "name": "stdout",
     "output_type": "stream",
     "text": [
      "Train on 8000 samples, validate on 2000 samples\n",
      "Epoch 1/2\n",
      "8000/8000 - 1s - loss: 0.1119 - mean_squared_error: 0.1117 - mean_absolute_error: 0.2988 - val_loss: 0.0416 - val_mean_squared_error: 0.0413 - val_mean_absolute_error: 0.1790\n",
      "Epoch 2/2\n",
      "8000/8000 - 1s - loss: 0.0201 - mean_squared_error: 0.0198 - mean_absolute_error: 0.1216 - val_loss: 0.0092 - val_mean_squared_error: 0.0088 - val_mean_absolute_error: 0.0835\n"
     ]
    },
    {
     "data": {
      "text/html": [
       "<span style=\"color:#4527A0\"><h1 style=\"font-size:18px\">Trial complete</h1></span>"
      ],
      "text/plain": [
       "<IPython.core.display.HTML object>"
      ]
     },
     "metadata": {},
     "output_type": "display_data"
    },
    {
     "data": {
      "text/html": [
       "<span style=\"color:#4527A0\"><h1 style=\"font-size:18px\">Trial summary</h1></span>"
      ],
      "text/plain": [
       "<IPython.core.display.HTML object>"
      ]
     },
     "metadata": {},
     "output_type": "display_data"
    },
    {
     "data": {
      "text/html": [
       "<span style=\"color:cyan\"> |-Trial ID: 9b9959c2a2b27a7fe1ba8596357b42c1</span>"
      ],
      "text/plain": [
       "<IPython.core.display.HTML object>"
      ]
     },
     "metadata": {},
     "output_type": "display_data"
    },
    {
     "data": {
      "text/html": [
       "<span style=\"color:cyan\"> |-Score: 0.008796037174761295</span>"
      ],
      "text/plain": [
       "<IPython.core.display.HTML object>"
      ]
     },
     "metadata": {},
     "output_type": "display_data"
    },
    {
     "data": {
      "text/html": [
       "<span style=\"color:cyan\"> |-Best step: 0</span>"
      ],
      "text/plain": [
       "<IPython.core.display.HTML object>"
      ]
     },
     "metadata": {},
     "output_type": "display_data"
    },
    {
     "data": {
      "text/html": [
       "<span style=\"color:#7E57C2\"><h2 style=\"font-size:16px\">Hyperparameters:</h2></span>"
      ],
      "text/plain": [
       "<IPython.core.display.HTML object>"
      ]
     },
     "metadata": {},
     "output_type": "display_data"
    },
    {
     "data": {
      "text/html": [
       "<span style=\"color:cyan\"> |-hidden_units: 132</span>"
      ],
      "text/plain": [
       "<IPython.core.display.HTML object>"
      ]
     },
     "metadata": {},
     "output_type": "display_data"
    },
    {
     "data": {
      "text/html": [
       "<span style=\"color:blue\"> |-learning_rate: 0.001</span>"
      ],
      "text/plain": [
       "<IPython.core.display.HTML object>"
      ]
     },
     "metadata": {},
     "output_type": "display_data"
    },
    {
     "data": {
      "text/html": [
       "<span style=\"color:cyan\"> |-tuner/bracket: 3</span>"
      ],
      "text/plain": [
       "<IPython.core.display.HTML object>"
      ]
     },
     "metadata": {},
     "output_type": "display_data"
    },
    {
     "data": {
      "text/html": [
       "<span style=\"color:blue\"> |-tuner/epochs: 2</span>"
      ],
      "text/plain": [
       "<IPython.core.display.HTML object>"
      ]
     },
     "metadata": {},
     "output_type": "display_data"
    },
    {
     "data": {
      "text/html": [
       "<span style=\"color:cyan\"> |-tuner/initial_epoch: 0</span>"
      ],
      "text/plain": [
       "<IPython.core.display.HTML object>"
      ]
     },
     "metadata": {},
     "output_type": "display_data"
    },
    {
     "data": {
      "text/html": [
       "<span style=\"color:blue\"> |-tuner/round: 0</span>"
      ],
      "text/plain": [
       "<IPython.core.display.HTML object>"
      ]
     },
     "metadata": {},
     "output_type": "display_data"
    },
    {
     "name": "stdout",
     "output_type": "stream",
     "text": [
      "Train on 8000 samples, validate on 2000 samples\n",
      "Epoch 1/2\n",
      "8000/8000 - 1s - loss: 0.1390 - mean_squared_error: 0.1389 - mean_absolute_error: 0.3389 - val_loss: 0.0752 - val_mean_squared_error: 0.0750 - val_mean_absolute_error: 0.2431\n",
      "Epoch 2/2\n",
      "8000/8000 - 1s - loss: 0.0456 - mean_squared_error: 0.0454 - mean_absolute_error: 0.1818 - val_loss: 0.0249 - val_mean_squared_error: 0.0247 - val_mean_absolute_error: 0.1339\n"
     ]
    },
    {
     "data": {
      "text/html": [
       "<span style=\"color:#4527A0\"><h1 style=\"font-size:18px\">Trial complete</h1></span>"
      ],
      "text/plain": [
       "<IPython.core.display.HTML object>"
      ]
     },
     "metadata": {},
     "output_type": "display_data"
    },
    {
     "data": {
      "text/html": [
       "<span style=\"color:#4527A0\"><h1 style=\"font-size:18px\">Trial summary</h1></span>"
      ],
      "text/plain": [
       "<IPython.core.display.HTML object>"
      ]
     },
     "metadata": {},
     "output_type": "display_data"
    },
    {
     "data": {
      "text/html": [
       "<span style=\"color:cyan\"> |-Trial ID: c912c2fe92854dd9179541dcbaecb94d</span>"
      ],
      "text/plain": [
       "<IPython.core.display.HTML object>"
      ]
     },
     "metadata": {},
     "output_type": "display_data"
    },
    {
     "data": {
      "text/html": [
       "<span style=\"color:cyan\"> |-Score: 0.024650845676660538</span>"
      ],
      "text/plain": [
       "<IPython.core.display.HTML object>"
      ]
     },
     "metadata": {},
     "output_type": "display_data"
    },
    {
     "data": {
      "text/html": [
       "<span style=\"color:cyan\"> |-Best step: 0</span>"
      ],
      "text/plain": [
       "<IPython.core.display.HTML object>"
      ]
     },
     "metadata": {},
     "output_type": "display_data"
    },
    {
     "data": {
      "text/html": [
       "<span style=\"color:#7E57C2\"><h2 style=\"font-size:16px\">Hyperparameters:</h2></span>"
      ],
      "text/plain": [
       "<IPython.core.display.HTML object>"
      ]
     },
     "metadata": {},
     "output_type": "display_data"
    },
    {
     "data": {
      "text/html": [
       "<span style=\"color:cyan\"> |-hidden_units: 68</span>"
      ],
      "text/plain": [
       "<IPython.core.display.HTML object>"
      ]
     },
     "metadata": {},
     "output_type": "display_data"
    },
    {
     "data": {
      "text/html": [
       "<span style=\"color:blue\"> |-learning_rate: 0.001</span>"
      ],
      "text/plain": [
       "<IPython.core.display.HTML object>"
      ]
     },
     "metadata": {},
     "output_type": "display_data"
    },
    {
     "data": {
      "text/html": [
       "<span style=\"color:cyan\"> |-tuner/bracket: 3</span>"
      ],
      "text/plain": [
       "<IPython.core.display.HTML object>"
      ]
     },
     "metadata": {},
     "output_type": "display_data"
    },
    {
     "data": {
      "text/html": [
       "<span style=\"color:blue\"> |-tuner/epochs: 2</span>"
      ],
      "text/plain": [
       "<IPython.core.display.HTML object>"
      ]
     },
     "metadata": {},
     "output_type": "display_data"
    },
    {
     "data": {
      "text/html": [
       "<span style=\"color:cyan\"> |-tuner/initial_epoch: 0</span>"
      ],
      "text/plain": [
       "<IPython.core.display.HTML object>"
      ]
     },
     "metadata": {},
     "output_type": "display_data"
    },
    {
     "data": {
      "text/html": [
       "<span style=\"color:blue\"> |-tuner/round: 0</span>"
      ],
      "text/plain": [
       "<IPython.core.display.HTML object>"
      ]
     },
     "metadata": {},
     "output_type": "display_data"
    },
    {
     "name": "stdout",
     "output_type": "stream",
     "text": [
      "Train on 8000 samples, validate on 2000 samples\n",
      "Epoch 1/2\n",
      "8000/8000 - 1s - loss: 0.0173 - mean_squared_error: 0.0168 - mean_absolute_error: 0.0719 - val_loss: 0.0012 - val_mean_squared_error: 6.0877e-04 - val_mean_absolute_error: 0.0195\n",
      "Epoch 2/2\n",
      "8000/8000 - 1s - loss: 0.0012 - mean_squared_error: 4.8236e-04 - mean_absolute_error: 0.0167 - val_loss: 0.0010 - val_mean_squared_error: 3.0933e-04 - val_mean_absolute_error: 0.0133\n"
     ]
    },
    {
     "data": {
      "text/html": [
       "<span style=\"color:#4527A0\"><h1 style=\"font-size:18px\">Trial complete</h1></span>"
      ],
      "text/plain": [
       "<IPython.core.display.HTML object>"
      ]
     },
     "metadata": {},
     "output_type": "display_data"
    },
    {
     "data": {
      "text/html": [
       "<span style=\"color:#4527A0\"><h1 style=\"font-size:18px\">Trial summary</h1></span>"
      ],
      "text/plain": [
       "<IPython.core.display.HTML object>"
      ]
     },
     "metadata": {},
     "output_type": "display_data"
    },
    {
     "data": {
      "text/html": [
       "<span style=\"color:cyan\"> |-Trial ID: 5b3e0555ce064f9a98959213cf191045</span>"
      ],
      "text/plain": [
       "<IPython.core.display.HTML object>"
      ]
     },
     "metadata": {},
     "output_type": "display_data"
    },
    {
     "data": {
      "text/html": [
       "<span style=\"color:cyan\"> |-Score: 0.00030932508525438607</span>"
      ],
      "text/plain": [
       "<IPython.core.display.HTML object>"
      ]
     },
     "metadata": {},
     "output_type": "display_data"
    },
    {
     "data": {
      "text/html": [
       "<span style=\"color:cyan\"> |-Best step: 0</span>"
      ],
      "text/plain": [
       "<IPython.core.display.HTML object>"
      ]
     },
     "metadata": {},
     "output_type": "display_data"
    },
    {
     "data": {
      "text/html": [
       "<span style=\"color:#7E57C2\"><h2 style=\"font-size:16px\">Hyperparameters:</h2></span>"
      ],
      "text/plain": [
       "<IPython.core.display.HTML object>"
      ]
     },
     "metadata": {},
     "output_type": "display_data"
    },
    {
     "data": {
      "text/html": [
       "<span style=\"color:cyan\"> |-hidden_units: 126</span>"
      ],
      "text/plain": [
       "<IPython.core.display.HTML object>"
      ]
     },
     "metadata": {},
     "output_type": "display_data"
    },
    {
     "data": {
      "text/html": [
       "<span style=\"color:blue\"> |-learning_rate: 0.01</span>"
      ],
      "text/plain": [
       "<IPython.core.display.HTML object>"
      ]
     },
     "metadata": {},
     "output_type": "display_data"
    },
    {
     "data": {
      "text/html": [
       "<span style=\"color:cyan\"> |-tuner/bracket: 3</span>"
      ],
      "text/plain": [
       "<IPython.core.display.HTML object>"
      ]
     },
     "metadata": {},
     "output_type": "display_data"
    },
    {
     "data": {
      "text/html": [
       "<span style=\"color:blue\"> |-tuner/epochs: 2</span>"
      ],
      "text/plain": [
       "<IPython.core.display.HTML object>"
      ]
     },
     "metadata": {},
     "output_type": "display_data"
    },
    {
     "data": {
      "text/html": [
       "<span style=\"color:cyan\"> |-tuner/initial_epoch: 0</span>"
      ],
      "text/plain": [
       "<IPython.core.display.HTML object>"
      ]
     },
     "metadata": {},
     "output_type": "display_data"
    },
    {
     "data": {
      "text/html": [
       "<span style=\"color:blue\"> |-tuner/round: 0</span>"
      ],
      "text/plain": [
       "<IPython.core.display.HTML object>"
      ]
     },
     "metadata": {},
     "output_type": "display_data"
    },
    {
     "name": "stdout",
     "output_type": "stream",
     "text": [
      "Train on 8000 samples, validate on 2000 samples\n",
      "Epoch 1/2\n",
      "8000/8000 - 1s - loss: 0.2154 - mean_squared_error: 0.2153 - mean_absolute_error: 0.4357 - val_loss: 0.2036 - val_mean_squared_error: 0.2035 - val_mean_absolute_error: 0.4225\n",
      "Epoch 2/2\n",
      "8000/8000 - 1s - loss: 0.1948 - mean_squared_error: 0.1947 - mean_absolute_error: 0.4116 - val_loss: 0.1885 - val_mean_squared_error: 0.1884 - val_mean_absolute_error: 0.4026\n"
     ]
    },
    {
     "data": {
      "text/html": [
       "<span style=\"color:#4527A0\"><h1 style=\"font-size:18px\">Trial complete</h1></span>"
      ],
      "text/plain": [
       "<IPython.core.display.HTML object>"
      ]
     },
     "metadata": {},
     "output_type": "display_data"
    },
    {
     "data": {
      "text/html": [
       "<span style=\"color:#4527A0\"><h1 style=\"font-size:18px\">Trial summary</h1></span>"
      ],
      "text/plain": [
       "<IPython.core.display.HTML object>"
      ]
     },
     "metadata": {},
     "output_type": "display_data"
    },
    {
     "data": {
      "text/html": [
       "<span style=\"color:cyan\"> |-Trial ID: 745cb2be01bff19118fe9a65b953ff2c</span>"
      ],
      "text/plain": [
       "<IPython.core.display.HTML object>"
      ]
     },
     "metadata": {},
     "output_type": "display_data"
    },
    {
     "data": {
      "text/html": [
       "<span style=\"color:cyan\"> |-Score: 0.18836145102977753</span>"
      ],
      "text/plain": [
       "<IPython.core.display.HTML object>"
      ]
     },
     "metadata": {},
     "output_type": "display_data"
    },
    {
     "data": {
      "text/html": [
       "<span style=\"color:cyan\"> |-Best step: 0</span>"
      ],
      "text/plain": [
       "<IPython.core.display.HTML object>"
      ]
     },
     "metadata": {},
     "output_type": "display_data"
    },
    {
     "data": {
      "text/html": [
       "<span style=\"color:#7E57C2\"><h2 style=\"font-size:16px\">Hyperparameters:</h2></span>"
      ],
      "text/plain": [
       "<IPython.core.display.HTML object>"
      ]
     },
     "metadata": {},
     "output_type": "display_data"
    },
    {
     "data": {
      "text/html": [
       "<span style=\"color:cyan\"> |-hidden_units: 56</span>"
      ],
      "text/plain": [
       "<IPython.core.display.HTML object>"
      ]
     },
     "metadata": {},
     "output_type": "display_data"
    },
    {
     "data": {
      "text/html": [
       "<span style=\"color:blue\"> |-learning_rate: 0.0001</span>"
      ],
      "text/plain": [
       "<IPython.core.display.HTML object>"
      ]
     },
     "metadata": {},
     "output_type": "display_data"
    },
    {
     "data": {
      "text/html": [
       "<span style=\"color:cyan\"> |-tuner/bracket: 3</span>"
      ],
      "text/plain": [
       "<IPython.core.display.HTML object>"
      ]
     },
     "metadata": {},
     "output_type": "display_data"
    },
    {
     "data": {
      "text/html": [
       "<span style=\"color:blue\"> |-tuner/epochs: 2</span>"
      ],
      "text/plain": [
       "<IPython.core.display.HTML object>"
      ]
     },
     "metadata": {},
     "output_type": "display_data"
    },
    {
     "data": {
      "text/html": [
       "<span style=\"color:cyan\"> |-tuner/initial_epoch: 0</span>"
      ],
      "text/plain": [
       "<IPython.core.display.HTML object>"
      ]
     },
     "metadata": {},
     "output_type": "display_data"
    },
    {
     "data": {
      "text/html": [
       "<span style=\"color:blue\"> |-tuner/round: 0</span>"
      ],
      "text/plain": [
       "<IPython.core.display.HTML object>"
      ]
     },
     "metadata": {},
     "output_type": "display_data"
    },
    {
     "name": "stdout",
     "output_type": "stream",
     "text": [
      "Train on 8000 samples, validate on 2000 samples\n",
      "Epoch 3/6\n",
      "8000/8000 - 1s - loss: 0.0192 - mean_squared_error: 0.0187 - mean_absolute_error: 0.0780 - val_loss: 0.0013 - val_mean_squared_error: 6.6797e-04 - val_mean_absolute_error: 0.0207\n",
      "Epoch 4/6\n",
      "8000/8000 - 1s - loss: 0.0011 - mean_squared_error: 4.6374e-04 - mean_absolute_error: 0.0168 - val_loss: 0.0011 - val_mean_squared_error: 3.5048e-04 - val_mean_absolute_error: 0.0144\n",
      "Epoch 5/6\n",
      "8000/8000 - 1s - loss: 0.0011 - mean_squared_error: 3.9161e-04 - mean_absolute_error: 0.0142 - val_loss: 0.0011 - val_mean_squared_error: 3.3395e-04 - val_mean_absolute_error: 0.0133\n",
      "Epoch 6/6\n",
      "8000/8000 - 1s - loss: 0.0012 - mean_squared_error: 4.4909e-04 - mean_absolute_error: 0.0147 - val_loss: 0.0011 - val_mean_squared_error: 3.9584e-04 - val_mean_absolute_error: 0.0140\n"
     ]
    },
    {
     "data": {
      "text/html": [
       "<span style=\"color:#4527A0\"><h1 style=\"font-size:18px\">Trial complete</h1></span>"
      ],
      "text/plain": [
       "<IPython.core.display.HTML object>"
      ]
     },
     "metadata": {},
     "output_type": "display_data"
    },
    {
     "data": {
      "text/html": [
       "<span style=\"color:#4527A0\"><h1 style=\"font-size:18px\">Trial summary</h1></span>"
      ],
      "text/plain": [
       "<IPython.core.display.HTML object>"
      ]
     },
     "metadata": {},
     "output_type": "display_data"
    },
    {
     "data": {
      "text/html": [
       "<span style=\"color:cyan\"> |-Trial ID: d6f1811ed986923775b371de5dfacd65</span>"
      ],
      "text/plain": [
       "<IPython.core.display.HTML object>"
      ]
     },
     "metadata": {},
     "output_type": "display_data"
    },
    {
     "data": {
      "text/html": [
       "<span style=\"color:cyan\"> |-Score: 0.00033395379432477057</span>"
      ],
      "text/plain": [
       "<IPython.core.display.HTML object>"
      ]
     },
     "metadata": {},
     "output_type": "display_data"
    },
    {
     "data": {
      "text/html": [
       "<span style=\"color:cyan\"> |-Best step: 0</span>"
      ],
      "text/plain": [
       "<IPython.core.display.HTML object>"
      ]
     },
     "metadata": {},
     "output_type": "display_data"
    },
    {
     "data": {
      "text/html": [
       "<span style=\"color:#7E57C2\"><h2 style=\"font-size:16px\">Hyperparameters:</h2></span>"
      ],
      "text/plain": [
       "<IPython.core.display.HTML object>"
      ]
     },
     "metadata": {},
     "output_type": "display_data"
    },
    {
     "data": {
      "text/html": [
       "<span style=\"color:cyan\"> |-hidden_units: 104</span>"
      ],
      "text/plain": [
       "<IPython.core.display.HTML object>"
      ]
     },
     "metadata": {},
     "output_type": "display_data"
    },
    {
     "data": {
      "text/html": [
       "<span style=\"color:blue\"> |-learning_rate: 0.01</span>"
      ],
      "text/plain": [
       "<IPython.core.display.HTML object>"
      ]
     },
     "metadata": {},
     "output_type": "display_data"
    },
    {
     "data": {
      "text/html": [
       "<span style=\"color:cyan\"> |-tuner/bracket: 3</span>"
      ],
      "text/plain": [
       "<IPython.core.display.HTML object>"
      ]
     },
     "metadata": {},
     "output_type": "display_data"
    },
    {
     "data": {
      "text/html": [
       "<span style=\"color:blue\"> |-tuner/epochs: 6</span>"
      ],
      "text/plain": [
       "<IPython.core.display.HTML object>"
      ]
     },
     "metadata": {},
     "output_type": "display_data"
    },
    {
     "data": {
      "text/html": [
       "<span style=\"color:cyan\"> |-tuner/initial_epoch: 2</span>"
      ],
      "text/plain": [
       "<IPython.core.display.HTML object>"
      ]
     },
     "metadata": {},
     "output_type": "display_data"
    },
    {
     "data": {
      "text/html": [
       "<span style=\"color:blue\"> |-tuner/round: 1</span>"
      ],
      "text/plain": [
       "<IPython.core.display.HTML object>"
      ]
     },
     "metadata": {},
     "output_type": "display_data"
    },
    {
     "data": {
      "text/html": [
       "<span style=\"color:cyan\"> |-tuner/trial_id: 80fd5216439144cc9deb81e68f5272b6</span>"
      ],
      "text/plain": [
       "<IPython.core.display.HTML object>"
      ]
     },
     "metadata": {},
     "output_type": "display_data"
    },
    {
     "name": "stdout",
     "output_type": "stream",
     "text": [
      "Train on 8000 samples, validate on 2000 samples\n",
      "Epoch 3/6\n",
      "8000/8000 - 1s - loss: 0.0216 - mean_squared_error: 0.0212 - mean_absolute_error: 0.0858 - val_loss: 0.0014 - val_mean_squared_error: 7.8220e-04 - val_mean_absolute_error: 0.0226\n",
      "Epoch 4/6\n",
      "8000/8000 - 1s - loss: 0.0012 - mean_squared_error: 5.0395e-04 - mean_absolute_error: 0.0176 - val_loss: 0.0010 - val_mean_squared_error: 3.2519e-04 - val_mean_absolute_error: 0.0139\n",
      "Epoch 5/6\n",
      "8000/8000 - 1s - loss: 0.0012 - mean_squared_error: 4.9145e-04 - mean_absolute_error: 0.0151 - val_loss: 9.9346e-04 - val_mean_squared_error: 2.5803e-04 - val_mean_absolute_error: 0.0122\n",
      "Epoch 6/6\n",
      "8000/8000 - 1s - loss: 0.0011 - mean_squared_error: 3.7632e-04 - mean_absolute_error: 0.0137 - val_loss: 9.9795e-04 - val_mean_squared_error: 2.5540e-04 - val_mean_absolute_error: 0.0120\n"
     ]
    },
    {
     "data": {
      "text/html": [
       "<span style=\"color:#4527A0\"><h1 style=\"font-size:18px\">Trial complete</h1></span>"
      ],
      "text/plain": [
       "<IPython.core.display.HTML object>"
      ]
     },
     "metadata": {},
     "output_type": "display_data"
    },
    {
     "data": {
      "text/html": [
       "<span style=\"color:#4527A0\"><h1 style=\"font-size:18px\">Trial summary</h1></span>"
      ],
      "text/plain": [
       "<IPython.core.display.HTML object>"
      ]
     },
     "metadata": {},
     "output_type": "display_data"
    },
    {
     "data": {
      "text/html": [
       "<span style=\"color:cyan\"> |-Trial ID: cbfcc6f3c3ef4bbff28674946376bb53</span>"
      ],
      "text/plain": [
       "<IPython.core.display.HTML object>"
      ]
     },
     "metadata": {},
     "output_type": "display_data"
    },
    {
     "data": {
      "text/html": [
       "<span style=\"color:cyan\"> |-Score: 0.00025540494243614376</span>"
      ],
      "text/plain": [
       "<IPython.core.display.HTML object>"
      ]
     },
     "metadata": {},
     "output_type": "display_data"
    },
    {
     "data": {
      "text/html": [
       "<span style=\"color:cyan\"> |-Best step: 0</span>"
      ],
      "text/plain": [
       "<IPython.core.display.HTML object>"
      ]
     },
     "metadata": {},
     "output_type": "display_data"
    },
    {
     "data": {
      "text/html": [
       "<span style=\"color:#7E57C2\"><h2 style=\"font-size:16px\">Hyperparameters:</h2></span>"
      ],
      "text/plain": [
       "<IPython.core.display.HTML object>"
      ]
     },
     "metadata": {},
     "output_type": "display_data"
    },
    {
     "data": {
      "text/html": [
       "<span style=\"color:cyan\"> |-hidden_units: 90</span>"
      ],
      "text/plain": [
       "<IPython.core.display.HTML object>"
      ]
     },
     "metadata": {},
     "output_type": "display_data"
    },
    {
     "data": {
      "text/html": [
       "<span style=\"color:blue\"> |-learning_rate: 0.01</span>"
      ],
      "text/plain": [
       "<IPython.core.display.HTML object>"
      ]
     },
     "metadata": {},
     "output_type": "display_data"
    },
    {
     "data": {
      "text/html": [
       "<span style=\"color:cyan\"> |-tuner/bracket: 3</span>"
      ],
      "text/plain": [
       "<IPython.core.display.HTML object>"
      ]
     },
     "metadata": {},
     "output_type": "display_data"
    },
    {
     "data": {
      "text/html": [
       "<span style=\"color:blue\"> |-tuner/epochs: 6</span>"
      ],
      "text/plain": [
       "<IPython.core.display.HTML object>"
      ]
     },
     "metadata": {},
     "output_type": "display_data"
    },
    {
     "data": {
      "text/html": [
       "<span style=\"color:cyan\"> |-tuner/initial_epoch: 2</span>"
      ],
      "text/plain": [
       "<IPython.core.display.HTML object>"
      ]
     },
     "metadata": {},
     "output_type": "display_data"
    },
    {
     "data": {
      "text/html": [
       "<span style=\"color:blue\"> |-tuner/round: 1</span>"
      ],
      "text/plain": [
       "<IPython.core.display.HTML object>"
      ]
     },
     "metadata": {},
     "output_type": "display_data"
    },
    {
     "data": {
      "text/html": [
       "<span style=\"color:cyan\"> |-tuner/trial_id: e09c5cf3ad609f61b07343055908c9b6</span>"
      ],
      "text/plain": [
       "<IPython.core.display.HTML object>"
      ]
     },
     "metadata": {},
     "output_type": "display_data"
    },
    {
     "name": "stdout",
     "output_type": "stream",
     "text": [
      "Train on 8000 samples, validate on 2000 samples\n",
      "Epoch 3/6\n",
      "8000/8000 - 1s - loss: 0.0171 - mean_squared_error: 0.0167 - mean_absolute_error: 0.0718 - val_loss: 0.0012 - val_mean_squared_error: 5.7420e-04 - val_mean_absolute_error: 0.0191\n",
      "Epoch 4/6\n",
      "8000/8000 - 1s - loss: 0.0012 - mean_squared_error: 4.9710e-04 - mean_absolute_error: 0.0169 - val_loss: 0.0012 - val_mean_squared_error: 4.5328e-04 - val_mean_absolute_error: 0.0158\n",
      "Epoch 5/6\n",
      "8000/8000 - 1s - loss: 0.0012 - mean_squared_error: 5.0111e-04 - mean_absolute_error: 0.0151 - val_loss: 0.0010 - val_mean_squared_error: 3.0614e-04 - val_mean_absolute_error: 0.0130\n",
      "Epoch 6/6\n",
      "8000/8000 - 1s - loss: 0.0011 - mean_squared_error: 3.9403e-04 - mean_absolute_error: 0.0141 - val_loss: 0.0012 - val_mean_squared_error: 4.7521e-04 - val_mean_absolute_error: 0.0149\n"
     ]
    },
    {
     "data": {
      "text/html": [
       "<span style=\"color:#4527A0\"><h1 style=\"font-size:18px\">Trial complete</h1></span>"
      ],
      "text/plain": [
       "<IPython.core.display.HTML object>"
      ]
     },
     "metadata": {},
     "output_type": "display_data"
    },
    {
     "data": {
      "text/html": [
       "<span style=\"color:#4527A0\"><h1 style=\"font-size:18px\">Trial summary</h1></span>"
      ],
      "text/plain": [
       "<IPython.core.display.HTML object>"
      ]
     },
     "metadata": {},
     "output_type": "display_data"
    },
    {
     "data": {
      "text/html": [
       "<span style=\"color:cyan\"> |-Trial ID: a105f21891d8df0ba504b876bb2c2fd9</span>"
      ],
      "text/plain": [
       "<IPython.core.display.HTML object>"
      ]
     },
     "metadata": {},
     "output_type": "display_data"
    },
    {
     "data": {
      "text/html": [
       "<span style=\"color:cyan\"> |-Score: 0.00030613801209256053</span>"
      ],
      "text/plain": [
       "<IPython.core.display.HTML object>"
      ]
     },
     "metadata": {},
     "output_type": "display_data"
    },
    {
     "data": {
      "text/html": [
       "<span style=\"color:cyan\"> |-Best step: 0</span>"
      ],
      "text/plain": [
       "<IPython.core.display.HTML object>"
      ]
     },
     "metadata": {},
     "output_type": "display_data"
    },
    {
     "data": {
      "text/html": [
       "<span style=\"color:#7E57C2\"><h2 style=\"font-size:16px\">Hyperparameters:</h2></span>"
      ],
      "text/plain": [
       "<IPython.core.display.HTML object>"
      ]
     },
     "metadata": {},
     "output_type": "display_data"
    },
    {
     "data": {
      "text/html": [
       "<span style=\"color:cyan\"> |-hidden_units: 126</span>"
      ],
      "text/plain": [
       "<IPython.core.display.HTML object>"
      ]
     },
     "metadata": {},
     "output_type": "display_data"
    },
    {
     "data": {
      "text/html": [
       "<span style=\"color:blue\"> |-learning_rate: 0.01</span>"
      ],
      "text/plain": [
       "<IPython.core.display.HTML object>"
      ]
     },
     "metadata": {},
     "output_type": "display_data"
    },
    {
     "data": {
      "text/html": [
       "<span style=\"color:cyan\"> |-tuner/bracket: 3</span>"
      ],
      "text/plain": [
       "<IPython.core.display.HTML object>"
      ]
     },
     "metadata": {},
     "output_type": "display_data"
    },
    {
     "data": {
      "text/html": [
       "<span style=\"color:blue\"> |-tuner/epochs: 6</span>"
      ],
      "text/plain": [
       "<IPython.core.display.HTML object>"
      ]
     },
     "metadata": {},
     "output_type": "display_data"
    },
    {
     "data": {
      "text/html": [
       "<span style=\"color:cyan\"> |-tuner/initial_epoch: 2</span>"
      ],
      "text/plain": [
       "<IPython.core.display.HTML object>"
      ]
     },
     "metadata": {},
     "output_type": "display_data"
    },
    {
     "data": {
      "text/html": [
       "<span style=\"color:blue\"> |-tuner/round: 1</span>"
      ],
      "text/plain": [
       "<IPython.core.display.HTML object>"
      ]
     },
     "metadata": {},
     "output_type": "display_data"
    },
    {
     "data": {
      "text/html": [
       "<span style=\"color:cyan\"> |-tuner/trial_id: 5b3e0555ce064f9a98959213cf191045</span>"
      ],
      "text/plain": [
       "<IPython.core.display.HTML object>"
      ]
     },
     "metadata": {},
     "output_type": "display_data"
    },
    {
     "name": "stdout",
     "output_type": "stream",
     "text": [
      "Train on 8000 samples, validate on 2000 samples\n",
      "Epoch 3/6\n",
      "8000/8000 - 1s - loss: 0.0219 - mean_squared_error: 0.0214 - mean_absolute_error: 0.0860 - val_loss: 0.0014 - val_mean_squared_error: 7.7579e-04 - val_mean_absolute_error: 0.0225\n",
      "Epoch 4/6\n",
      "8000/8000 - 1s - loss: 0.0012 - mean_squared_error: 5.0513e-04 - mean_absolute_error: 0.0176 - val_loss: 0.0010 - val_mean_squared_error: 3.0522e-04 - val_mean_absolute_error: 0.0135\n",
      "Epoch 5/6\n",
      "8000/8000 - 1s - loss: 0.0012 - mean_squared_error: 4.6547e-04 - mean_absolute_error: 0.0150 - val_loss: 0.0010 - val_mean_squared_error: 2.8470e-04 - val_mean_absolute_error: 0.0127\n",
      "Epoch 6/6\n",
      "8000/8000 - 1s - loss: 0.0011 - mean_squared_error: 4.0059e-04 - mean_absolute_error: 0.0141 - val_loss: 0.0010 - val_mean_squared_error: 2.8213e-04 - val_mean_absolute_error: 0.0125\n"
     ]
    },
    {
     "data": {
      "text/html": [
       "<span style=\"color:#4527A0\"><h1 style=\"font-size:18px\">Trial complete</h1></span>"
      ],
      "text/plain": [
       "<IPython.core.display.HTML object>"
      ]
     },
     "metadata": {},
     "output_type": "display_data"
    },
    {
     "data": {
      "text/html": [
       "<span style=\"color:#4527A0\"><h1 style=\"font-size:18px\">Trial summary</h1></span>"
      ],
      "text/plain": [
       "<IPython.core.display.HTML object>"
      ]
     },
     "metadata": {},
     "output_type": "display_data"
    },
    {
     "data": {
      "text/html": [
       "<span style=\"color:cyan\"> |-Trial ID: 8c3f32ab5abad2df989809f3dba20bba</span>"
      ],
      "text/plain": [
       "<IPython.core.display.HTML object>"
      ]
     },
     "metadata": {},
     "output_type": "display_data"
    },
    {
     "data": {
      "text/html": [
       "<span style=\"color:cyan\"> |-Score: 0.0002821272355504334</span>"
      ],
      "text/plain": [
       "<IPython.core.display.HTML object>"
      ]
     },
     "metadata": {},
     "output_type": "display_data"
    },
    {
     "data": {
      "text/html": [
       "<span style=\"color:cyan\"> |-Best step: 0</span>"
      ],
      "text/plain": [
       "<IPython.core.display.HTML object>"
      ]
     },
     "metadata": {},
     "output_type": "display_data"
    },
    {
     "data": {
      "text/html": [
       "<span style=\"color:#7E57C2\"><h2 style=\"font-size:16px\">Hyperparameters:</h2></span>"
      ],
      "text/plain": [
       "<IPython.core.display.HTML object>"
      ]
     },
     "metadata": {},
     "output_type": "display_data"
    },
    {
     "data": {
      "text/html": [
       "<span style=\"color:cyan\"> |-hidden_units: 92</span>"
      ],
      "text/plain": [
       "<IPython.core.display.HTML object>"
      ]
     },
     "metadata": {},
     "output_type": "display_data"
    },
    {
     "data": {
      "text/html": [
       "<span style=\"color:blue\"> |-learning_rate: 0.01</span>"
      ],
      "text/plain": [
       "<IPython.core.display.HTML object>"
      ]
     },
     "metadata": {},
     "output_type": "display_data"
    },
    {
     "data": {
      "text/html": [
       "<span style=\"color:cyan\"> |-tuner/bracket: 3</span>"
      ],
      "text/plain": [
       "<IPython.core.display.HTML object>"
      ]
     },
     "metadata": {},
     "output_type": "display_data"
    },
    {
     "data": {
      "text/html": [
       "<span style=\"color:blue\"> |-tuner/epochs: 6</span>"
      ],
      "text/plain": [
       "<IPython.core.display.HTML object>"
      ]
     },
     "metadata": {},
     "output_type": "display_data"
    },
    {
     "data": {
      "text/html": [
       "<span style=\"color:cyan\"> |-tuner/initial_epoch: 2</span>"
      ],
      "text/plain": [
       "<IPython.core.display.HTML object>"
      ]
     },
     "metadata": {},
     "output_type": "display_data"
    },
    {
     "data": {
      "text/html": [
       "<span style=\"color:blue\"> |-tuner/round: 1</span>"
      ],
      "text/plain": [
       "<IPython.core.display.HTML object>"
      ]
     },
     "metadata": {},
     "output_type": "display_data"
    },
    {
     "data": {
      "text/html": [
       "<span style=\"color:cyan\"> |-tuner/trial_id: 9a4ec0ce5d951bf489a88e85b7bf20c2</span>"
      ],
      "text/plain": [
       "<IPython.core.display.HTML object>"
      ]
     },
     "metadata": {},
     "output_type": "display_data"
    },
    {
     "name": "stdout",
     "output_type": "stream",
     "text": [
      "Train on 8000 samples, validate on 2000 samples\n",
      "Epoch 3/6\n",
      "8000/8000 - 1s - loss: 0.0162 - mean_squared_error: 0.0157 - mean_absolute_error: 0.0684 - val_loss: 0.0013 - val_mean_squared_error: 6.2217e-04 - val_mean_absolute_error: 0.0193\n",
      "Epoch 4/6\n",
      "8000/8000 - 1s - loss: 0.0012 - mean_squared_error: 4.9121e-04 - mean_absolute_error: 0.0166 - val_loss: 0.0010 - val_mean_squared_error: 3.1240e-04 - val_mean_absolute_error: 0.0133\n",
      "Epoch 5/6\n",
      "8000/8000 - 1s - loss: 0.0011 - mean_squared_error: 3.4139e-04 - mean_absolute_error: 0.0136 - val_loss: 0.0014 - val_mean_squared_error: 6.7338e-04 - val_mean_absolute_error: 0.0166\n",
      "Epoch 6/6\n",
      "8000/8000 - 1s - loss: 0.0014 - mean_squared_error: 7.0242e-04 - mean_absolute_error: 0.0169 - val_loss: 0.0011 - val_mean_squared_error: 3.7950e-04 - val_mean_absolute_error: 0.0138\n"
     ]
    },
    {
     "data": {
      "text/html": [
       "<span style=\"color:#4527A0\"><h1 style=\"font-size:18px\">Trial complete</h1></span>"
      ],
      "text/plain": [
       "<IPython.core.display.HTML object>"
      ]
     },
     "metadata": {},
     "output_type": "display_data"
    },
    {
     "data": {
      "text/html": [
       "<span style=\"color:#4527A0\"><h1 style=\"font-size:18px\">Trial summary</h1></span>"
      ],
      "text/plain": [
       "<IPython.core.display.HTML object>"
      ]
     },
     "metadata": {},
     "output_type": "display_data"
    },
    {
     "data": {
      "text/html": [
       "<span style=\"color:cyan\"> |-Trial ID: a572f72dfe333da14ce8c14cc9fe6c3a</span>"
      ],
      "text/plain": [
       "<IPython.core.display.HTML object>"
      ]
     },
     "metadata": {},
     "output_type": "display_data"
    },
    {
     "data": {
      "text/html": [
       "<span style=\"color:cyan\"> |-Score: 0.00031240071984939277</span>"
      ],
      "text/plain": [
       "<IPython.core.display.HTML object>"
      ]
     },
     "metadata": {},
     "output_type": "display_data"
    },
    {
     "data": {
      "text/html": [
       "<span style=\"color:cyan\"> |-Best step: 0</span>"
      ],
      "text/plain": [
       "<IPython.core.display.HTML object>"
      ]
     },
     "metadata": {},
     "output_type": "display_data"
    },
    {
     "data": {
      "text/html": [
       "<span style=\"color:#7E57C2\"><h2 style=\"font-size:16px\">Hyperparameters:</h2></span>"
      ],
      "text/plain": [
       "<IPython.core.display.HTML object>"
      ]
     },
     "metadata": {},
     "output_type": "display_data"
    },
    {
     "data": {
      "text/html": [
       "<span style=\"color:cyan\"> |-hidden_units: 146</span>"
      ],
      "text/plain": [
       "<IPython.core.display.HTML object>"
      ]
     },
     "metadata": {},
     "output_type": "display_data"
    },
    {
     "data": {
      "text/html": [
       "<span style=\"color:blue\"> |-learning_rate: 0.01</span>"
      ],
      "text/plain": [
       "<IPython.core.display.HTML object>"
      ]
     },
     "metadata": {},
     "output_type": "display_data"
    },
    {
     "data": {
      "text/html": [
       "<span style=\"color:cyan\"> |-tuner/bracket: 3</span>"
      ],
      "text/plain": [
       "<IPython.core.display.HTML object>"
      ]
     },
     "metadata": {},
     "output_type": "display_data"
    },
    {
     "data": {
      "text/html": [
       "<span style=\"color:blue\"> |-tuner/epochs: 6</span>"
      ],
      "text/plain": [
       "<IPython.core.display.HTML object>"
      ]
     },
     "metadata": {},
     "output_type": "display_data"
    },
    {
     "data": {
      "text/html": [
       "<span style=\"color:cyan\"> |-tuner/initial_epoch: 2</span>"
      ],
      "text/plain": [
       "<IPython.core.display.HTML object>"
      ]
     },
     "metadata": {},
     "output_type": "display_data"
    },
    {
     "data": {
      "text/html": [
       "<span style=\"color:blue\"> |-tuner/round: 1</span>"
      ],
      "text/plain": [
       "<IPython.core.display.HTML object>"
      ]
     },
     "metadata": {},
     "output_type": "display_data"
    },
    {
     "data": {
      "text/html": [
       "<span style=\"color:cyan\"> |-tuner/trial_id: a683aa0799a92ca6345f5814eb8c45c2</span>"
      ],
      "text/plain": [
       "<IPython.core.display.HTML object>"
      ]
     },
     "metadata": {},
     "output_type": "display_data"
    },
    {
     "name": "stdout",
     "output_type": "stream",
     "text": [
      "Train on 8000 samples, validate on 2000 samples\n",
      "Epoch 3/6\n",
      "8000/8000 - 1s - loss: 0.0198 - mean_squared_error: 0.0194 - mean_absolute_error: 0.0808 - val_loss: 0.0013 - val_mean_squared_error: 7.1224e-04 - val_mean_absolute_error: 0.0214\n",
      "Epoch 4/6\n",
      "8000/8000 - 1s - loss: 0.0011 - mean_squared_error: 4.7739e-04 - mean_absolute_error: 0.0171 - val_loss: 0.0011 - val_mean_squared_error: 3.4453e-04 - val_mean_absolute_error: 0.0143\n",
      "Epoch 5/6\n",
      "8000/8000 - 1s - loss: 0.0011 - mean_squared_error: 4.1637e-04 - mean_absolute_error: 0.0144 - val_loss: 0.0011 - val_mean_squared_error: 3.4582e-04 - val_mean_absolute_error: 0.0134\n",
      "Epoch 6/6\n",
      "8000/8000 - 1s - loss: 0.0011 - mean_squared_error: 3.7744e-04 - mean_absolute_error: 0.0139 - val_loss: 0.0011 - val_mean_squared_error: 3.4429e-04 - val_mean_absolute_error: 0.0135\n"
     ]
    },
    {
     "data": {
      "text/html": [
       "<span style=\"color:#4527A0\"><h1 style=\"font-size:18px\">Trial complete</h1></span>"
      ],
      "text/plain": [
       "<IPython.core.display.HTML object>"
      ]
     },
     "metadata": {},
     "output_type": "display_data"
    },
    {
     "data": {
      "text/html": [
       "<span style=\"color:#4527A0\"><h1 style=\"font-size:18px\">Trial summary</h1></span>"
      ],
      "text/plain": [
       "<IPython.core.display.HTML object>"
      ]
     },
     "metadata": {},
     "output_type": "display_data"
    },
    {
     "data": {
      "text/html": [
       "<span style=\"color:cyan\"> |-Trial ID: 3316c0b908af18a62407ada6a86d52b1</span>"
      ],
      "text/plain": [
       "<IPython.core.display.HTML object>"
      ]
     },
     "metadata": {},
     "output_type": "display_data"
    },
    {
     "data": {
      "text/html": [
       "<span style=\"color:cyan\"> |-Score: 0.00034429150400683284</span>"
      ],
      "text/plain": [
       "<IPython.core.display.HTML object>"
      ]
     },
     "metadata": {},
     "output_type": "display_data"
    },
    {
     "data": {
      "text/html": [
       "<span style=\"color:cyan\"> |-Best step: 0</span>"
      ],
      "text/plain": [
       "<IPython.core.display.HTML object>"
      ]
     },
     "metadata": {},
     "output_type": "display_data"
    },
    {
     "data": {
      "text/html": [
       "<span style=\"color:#7E57C2\"><h2 style=\"font-size:16px\">Hyperparameters:</h2></span>"
      ],
      "text/plain": [
       "<IPython.core.display.HTML object>"
      ]
     },
     "metadata": {},
     "output_type": "display_data"
    },
    {
     "data": {
      "text/html": [
       "<span style=\"color:cyan\"> |-hidden_units: 96</span>"
      ],
      "text/plain": [
       "<IPython.core.display.HTML object>"
      ]
     },
     "metadata": {},
     "output_type": "display_data"
    },
    {
     "data": {
      "text/html": [
       "<span style=\"color:blue\"> |-learning_rate: 0.01</span>"
      ],
      "text/plain": [
       "<IPython.core.display.HTML object>"
      ]
     },
     "metadata": {},
     "output_type": "display_data"
    },
    {
     "data": {
      "text/html": [
       "<span style=\"color:cyan\"> |-tuner/bracket: 3</span>"
      ],
      "text/plain": [
       "<IPython.core.display.HTML object>"
      ]
     },
     "metadata": {},
     "output_type": "display_data"
    },
    {
     "data": {
      "text/html": [
       "<span style=\"color:blue\"> |-tuner/epochs: 6</span>"
      ],
      "text/plain": [
       "<IPython.core.display.HTML object>"
      ]
     },
     "metadata": {},
     "output_type": "display_data"
    },
    {
     "data": {
      "text/html": [
       "<span style=\"color:cyan\"> |-tuner/initial_epoch: 2</span>"
      ],
      "text/plain": [
       "<IPython.core.display.HTML object>"
      ]
     },
     "metadata": {},
     "output_type": "display_data"
    },
    {
     "data": {
      "text/html": [
       "<span style=\"color:blue\"> |-tuner/round: 1</span>"
      ],
      "text/plain": [
       "<IPython.core.display.HTML object>"
      ]
     },
     "metadata": {},
     "output_type": "display_data"
    },
    {
     "data": {
      "text/html": [
       "<span style=\"color:cyan\"> |-tuner/trial_id: bd938ba057708a33d2bf528c0da49a63</span>"
      ],
      "text/plain": [
       "<IPython.core.display.HTML object>"
      ]
     },
     "metadata": {},
     "output_type": "display_data"
    },
    {
     "name": "stdout",
     "output_type": "stream",
     "text": [
      "Train on 8000 samples, validate on 2000 samples\n",
      "Epoch 3/6\n",
      "8000/8000 - 1s - loss: 0.0225 - mean_squared_error: 0.0221 - mean_absolute_error: 0.0884 - val_loss: 0.0014 - val_mean_squared_error: 8.2031e-04 - val_mean_absolute_error: 0.0231\n",
      "Epoch 4/6\n",
      "8000/8000 - 1s - loss: 0.0012 - mean_squared_error: 5.1947e-04 - mean_absolute_error: 0.0179 - val_loss: 0.0010 - val_mean_squared_error: 3.4064e-04 - val_mean_absolute_error: 0.0143\n",
      "Epoch 5/6\n",
      "8000/8000 - 1s - loss: 0.0012 - mean_squared_error: 4.5375e-04 - mean_absolute_error: 0.0149 - val_loss: 0.0010 - val_mean_squared_error: 2.6850e-04 - val_mean_absolute_error: 0.0124\n",
      "Epoch 6/6\n",
      "8000/8000 - 1s - loss: 0.0011 - mean_squared_error: 3.5814e-04 - mean_absolute_error: 0.0136 - val_loss: 0.0010 - val_mean_squared_error: 2.8776e-04 - val_mean_absolute_error: 0.0126\n"
     ]
    },
    {
     "data": {
      "text/html": [
       "<span style=\"color:#4527A0\"><h1 style=\"font-size:18px\">Trial complete</h1></span>"
      ],
      "text/plain": [
       "<IPython.core.display.HTML object>"
      ]
     },
     "metadata": {},
     "output_type": "display_data"
    },
    {
     "data": {
      "text/html": [
       "<span style=\"color:#4527A0\"><h1 style=\"font-size:18px\">Trial summary</h1></span>"
      ],
      "text/plain": [
       "<IPython.core.display.HTML object>"
      ]
     },
     "metadata": {},
     "output_type": "display_data"
    },
    {
     "data": {
      "text/html": [
       "<span style=\"color:cyan\"> |-Trial ID: e578b543e11437e192cd4475638d4b62</span>"
      ],
      "text/plain": [
       "<IPython.core.display.HTML object>"
      ]
     },
     "metadata": {},
     "output_type": "display_data"
    },
    {
     "data": {
      "text/html": [
       "<span style=\"color:cyan\"> |-Score: 0.000268496572971344</span>"
      ],
      "text/plain": [
       "<IPython.core.display.HTML object>"
      ]
     },
     "metadata": {},
     "output_type": "display_data"
    },
    {
     "data": {
      "text/html": [
       "<span style=\"color:cyan\"> |-Best step: 0</span>"
      ],
      "text/plain": [
       "<IPython.core.display.HTML object>"
      ]
     },
     "metadata": {},
     "output_type": "display_data"
    },
    {
     "data": {
      "text/html": [
       "<span style=\"color:#7E57C2\"><h2 style=\"font-size:16px\">Hyperparameters:</h2></span>"
      ],
      "text/plain": [
       "<IPython.core.display.HTML object>"
      ]
     },
     "metadata": {},
     "output_type": "display_data"
    },
    {
     "data": {
      "text/html": [
       "<span style=\"color:cyan\"> |-hidden_units: 84</span>"
      ],
      "text/plain": [
       "<IPython.core.display.HTML object>"
      ]
     },
     "metadata": {},
     "output_type": "display_data"
    },
    {
     "data": {
      "text/html": [
       "<span style=\"color:blue\"> |-learning_rate: 0.01</span>"
      ],
      "text/plain": [
       "<IPython.core.display.HTML object>"
      ]
     },
     "metadata": {},
     "output_type": "display_data"
    },
    {
     "data": {
      "text/html": [
       "<span style=\"color:cyan\"> |-tuner/bracket: 3</span>"
      ],
      "text/plain": [
       "<IPython.core.display.HTML object>"
      ]
     },
     "metadata": {},
     "output_type": "display_data"
    },
    {
     "data": {
      "text/html": [
       "<span style=\"color:blue\"> |-tuner/epochs: 6</span>"
      ],
      "text/plain": [
       "<IPython.core.display.HTML object>"
      ]
     },
     "metadata": {},
     "output_type": "display_data"
    },
    {
     "data": {
      "text/html": [
       "<span style=\"color:cyan\"> |-tuner/initial_epoch: 2</span>"
      ],
      "text/plain": [
       "<IPython.core.display.HTML object>"
      ]
     },
     "metadata": {},
     "output_type": "display_data"
    },
    {
     "data": {
      "text/html": [
       "<span style=\"color:blue\"> |-tuner/round: 1</span>"
      ],
      "text/plain": [
       "<IPython.core.display.HTML object>"
      ]
     },
     "metadata": {},
     "output_type": "display_data"
    },
    {
     "data": {
      "text/html": [
       "<span style=\"color:cyan\"> |-tuner/trial_id: 80ccfc959cf1073548912798536d12b3</span>"
      ],
      "text/plain": [
       "<IPython.core.display.HTML object>"
      ]
     },
     "metadata": {},
     "output_type": "display_data"
    },
    {
     "name": "stdout",
     "output_type": "stream",
     "text": [
      "Train on 8000 samples, validate on 2000 samples\n",
      "Epoch 3/6\n",
      "8000/8000 - 1s - loss: 0.0164 - mean_squared_error: 0.0159 - mean_absolute_error: 0.0688 - val_loss: 0.0013 - val_mean_squared_error: 6.3598e-04 - val_mean_absolute_error: 0.0195\n",
      "Epoch 4/6\n",
      "8000/8000 - 1s - loss: 0.0012 - mean_squared_error: 5.0102e-04 - mean_absolute_error: 0.0167 - val_loss: 0.0011 - val_mean_squared_error: 3.3742e-04 - val_mean_absolute_error: 0.0138\n",
      "Epoch 5/6\n",
      "8000/8000 - 1s - loss: 0.0011 - mean_squared_error: 3.5381e-04 - mean_absolute_error: 0.0137 - val_loss: 0.0015 - val_mean_squared_error: 7.7961e-04 - val_mean_absolute_error: 0.0175\n",
      "Epoch 6/6\n",
      "8000/8000 - 1s - loss: 0.0013 - mean_squared_error: 5.8201e-04 - mean_absolute_error: 0.0161 - val_loss: 0.0014 - val_mean_squared_error: 6.7306e-04 - val_mean_absolute_error: 0.0172\n"
     ]
    },
    {
     "data": {
      "text/html": [
       "<span style=\"color:#4527A0\"><h1 style=\"font-size:18px\">Trial complete</h1></span>"
      ],
      "text/plain": [
       "<IPython.core.display.HTML object>"
      ]
     },
     "metadata": {},
     "output_type": "display_data"
    },
    {
     "data": {
      "text/html": [
       "<span style=\"color:#4527A0\"><h1 style=\"font-size:18px\">Trial summary</h1></span>"
      ],
      "text/plain": [
       "<IPython.core.display.HTML object>"
      ]
     },
     "metadata": {},
     "output_type": "display_data"
    },
    {
     "data": {
      "text/html": [
       "<span style=\"color:cyan\"> |-Trial ID: 53fa847f07ccc6e618658aa1af47d4fe</span>"
      ],
      "text/plain": [
       "<IPython.core.display.HTML object>"
      ]
     },
     "metadata": {},
     "output_type": "display_data"
    },
    {
     "data": {
      "text/html": [
       "<span style=\"color:cyan\"> |-Score: 0.00033742323284968734</span>"
      ],
      "text/plain": [
       "<IPython.core.display.HTML object>"
      ]
     },
     "metadata": {},
     "output_type": "display_data"
    },
    {
     "data": {
      "text/html": [
       "<span style=\"color:cyan\"> |-Best step: 0</span>"
      ],
      "text/plain": [
       "<IPython.core.display.HTML object>"
      ]
     },
     "metadata": {},
     "output_type": "display_data"
    },
    {
     "data": {
      "text/html": [
       "<span style=\"color:#7E57C2\"><h2 style=\"font-size:16px\">Hyperparameters:</h2></span>"
      ],
      "text/plain": [
       "<IPython.core.display.HTML object>"
      ]
     },
     "metadata": {},
     "output_type": "display_data"
    },
    {
     "data": {
      "text/html": [
       "<span style=\"color:cyan\"> |-hidden_units: 138</span>"
      ],
      "text/plain": [
       "<IPython.core.display.HTML object>"
      ]
     },
     "metadata": {},
     "output_type": "display_data"
    },
    {
     "data": {
      "text/html": [
       "<span style=\"color:blue\"> |-learning_rate: 0.01</span>"
      ],
      "text/plain": [
       "<IPython.core.display.HTML object>"
      ]
     },
     "metadata": {},
     "output_type": "display_data"
    },
    {
     "data": {
      "text/html": [
       "<span style=\"color:cyan\"> |-tuner/bracket: 3</span>"
      ],
      "text/plain": [
       "<IPython.core.display.HTML object>"
      ]
     },
     "metadata": {},
     "output_type": "display_data"
    },
    {
     "data": {
      "text/html": [
       "<span style=\"color:blue\"> |-tuner/epochs: 6</span>"
      ],
      "text/plain": [
       "<IPython.core.display.HTML object>"
      ]
     },
     "metadata": {},
     "output_type": "display_data"
    },
    {
     "data": {
      "text/html": [
       "<span style=\"color:cyan\"> |-tuner/initial_epoch: 2</span>"
      ],
      "text/plain": [
       "<IPython.core.display.HTML object>"
      ]
     },
     "metadata": {},
     "output_type": "display_data"
    },
    {
     "data": {
      "text/html": [
       "<span style=\"color:blue\"> |-tuner/round: 1</span>"
      ],
      "text/plain": [
       "<IPython.core.display.HTML object>"
      ]
     },
     "metadata": {},
     "output_type": "display_data"
    },
    {
     "data": {
      "text/html": [
       "<span style=\"color:cyan\"> |-tuner/trial_id: 45e65c675e00e7b238273adeb535063a</span>"
      ],
      "text/plain": [
       "<IPython.core.display.HTML object>"
      ]
     },
     "metadata": {},
     "output_type": "display_data"
    },
    {
     "name": "stdout",
     "output_type": "stream",
     "text": [
      "Train on 8000 samples, validate on 2000 samples\n",
      "Epoch 3/6\n",
      "8000/8000 - 1s - loss: 0.1076 - mean_squared_error: 0.1074 - mean_absolute_error: 0.2921 - val_loss: 0.0374 - val_mean_squared_error: 0.0371 - val_mean_absolute_error: 0.1692\n",
      "Epoch 4/6\n",
      "8000/8000 - 1s - loss: 0.0176 - mean_squared_error: 0.0173 - mean_absolute_error: 0.1136 - val_loss: 0.0079 - val_mean_squared_error: 0.0075 - val_mean_absolute_error: 0.0773\n",
      "Epoch 5/6\n",
      "8000/8000 - 1s - loss: 0.0053 - mean_squared_error: 0.0049 - mean_absolute_error: 0.0617 - val_loss: 0.0037 - val_mean_squared_error: 0.0032 - val_mean_absolute_error: 0.0501\n",
      "Epoch 6/6\n",
      "8000/8000 - 1s - loss: 0.0030 - mean_squared_error: 0.0025 - mean_absolute_error: 0.0436 - val_loss: 0.0025 - val_mean_squared_error: 0.0020 - val_mean_absolute_error: 0.0377\n"
     ]
    },
    {
     "data": {
      "text/html": [
       "<span style=\"color:#4527A0\"><h1 style=\"font-size:18px\">Trial complete</h1></span>"
      ],
      "text/plain": [
       "<IPython.core.display.HTML object>"
      ]
     },
     "metadata": {},
     "output_type": "display_data"
    },
    {
     "data": {
      "text/html": [
       "<span style=\"color:#4527A0\"><h1 style=\"font-size:18px\">Trial summary</h1></span>"
      ],
      "text/plain": [
       "<IPython.core.display.HTML object>"
      ]
     },
     "metadata": {},
     "output_type": "display_data"
    },
    {
     "data": {
      "text/html": [
       "<span style=\"color:cyan\"> |-Trial ID: f1ed66edf0c5aa33a06b984fcb2fcc02</span>"
      ],
      "text/plain": [
       "<IPython.core.display.HTML object>"
      ]
     },
     "metadata": {},
     "output_type": "display_data"
    },
    {
     "data": {
      "text/html": [
       "<span style=\"color:cyan\"> |-Score: 0.0019854847341775894</span>"
      ],
      "text/plain": [
       "<IPython.core.display.HTML object>"
      ]
     },
     "metadata": {},
     "output_type": "display_data"
    },
    {
     "data": {
      "text/html": [
       "<span style=\"color:cyan\"> |-Best step: 0</span>"
      ],
      "text/plain": [
       "<IPython.core.display.HTML object>"
      ]
     },
     "metadata": {},
     "output_type": "display_data"
    },
    {
     "data": {
      "text/html": [
       "<span style=\"color:#7E57C2\"><h2 style=\"font-size:16px\">Hyperparameters:</h2></span>"
      ],
      "text/plain": [
       "<IPython.core.display.HTML object>"
      ]
     },
     "metadata": {},
     "output_type": "display_data"
    },
    {
     "data": {
      "text/html": [
       "<span style=\"color:cyan\"> |-hidden_units: 144</span>"
      ],
      "text/plain": [
       "<IPython.core.display.HTML object>"
      ]
     },
     "metadata": {},
     "output_type": "display_data"
    },
    {
     "data": {
      "text/html": [
       "<span style=\"color:blue\"> |-learning_rate: 0.001</span>"
      ],
      "text/plain": [
       "<IPython.core.display.HTML object>"
      ]
     },
     "metadata": {},
     "output_type": "display_data"
    },
    {
     "data": {
      "text/html": [
       "<span style=\"color:cyan\"> |-tuner/bracket: 3</span>"
      ],
      "text/plain": [
       "<IPython.core.display.HTML object>"
      ]
     },
     "metadata": {},
     "output_type": "display_data"
    },
    {
     "data": {
      "text/html": [
       "<span style=\"color:blue\"> |-tuner/epochs: 6</span>"
      ],
      "text/plain": [
       "<IPython.core.display.HTML object>"
      ]
     },
     "metadata": {},
     "output_type": "display_data"
    },
    {
     "data": {
      "text/html": [
       "<span style=\"color:cyan\"> |-tuner/initial_epoch: 2</span>"
      ],
      "text/plain": [
       "<IPython.core.display.HTML object>"
      ]
     },
     "metadata": {},
     "output_type": "display_data"
    },
    {
     "data": {
      "text/html": [
       "<span style=\"color:blue\"> |-tuner/round: 1</span>"
      ],
      "text/plain": [
       "<IPython.core.display.HTML object>"
      ]
     },
     "metadata": {},
     "output_type": "display_data"
    },
    {
     "data": {
      "text/html": [
       "<span style=\"color:cyan\"> |-tuner/trial_id: bb22bf18cdc010563aa32e6d7542e55a</span>"
      ],
      "text/plain": [
       "<IPython.core.display.HTML object>"
      ]
     },
     "metadata": {},
     "output_type": "display_data"
    },
    {
     "name": "stdout",
     "output_type": "stream",
     "text": [
      "Train on 8000 samples, validate on 2000 samples\n",
      "Epoch 3/6\n",
      "8000/8000 - 1s - loss: 0.1076 - mean_squared_error: 0.1074 - mean_absolute_error: 0.2919 - val_loss: 0.0374 - val_mean_squared_error: 0.0372 - val_mean_absolute_error: 0.1696\n",
      "Epoch 4/6\n",
      "8000/8000 - 1s - loss: 0.0178 - mean_squared_error: 0.0175 - mean_absolute_error: 0.1141 - val_loss: 0.0081 - val_mean_squared_error: 0.0077 - val_mean_absolute_error: 0.0781\n",
      "Epoch 5/6\n",
      "8000/8000 - 1s - loss: 0.0054 - mean_squared_error: 0.0050 - mean_absolute_error: 0.0623 - val_loss: 0.0038 - val_mean_squared_error: 0.0033 - val_mean_absolute_error: 0.0506\n",
      "Epoch 6/6\n",
      "8000/8000 - 1s - loss: 0.0031 - mean_squared_error: 0.0026 - mean_absolute_error: 0.0441 - val_loss: 0.0025 - val_mean_squared_error: 0.0020 - val_mean_absolute_error: 0.0381\n"
     ]
    },
    {
     "data": {
      "text/html": [
       "<span style=\"color:#4527A0\"><h1 style=\"font-size:18px\">Trial complete</h1></span>"
      ],
      "text/plain": [
       "<IPython.core.display.HTML object>"
      ]
     },
     "metadata": {},
     "output_type": "display_data"
    },
    {
     "data": {
      "text/html": [
       "<span style=\"color:#4527A0\"><h1 style=\"font-size:18px\">Trial summary</h1></span>"
      ],
      "text/plain": [
       "<IPython.core.display.HTML object>"
      ]
     },
     "metadata": {},
     "output_type": "display_data"
    },
    {
     "data": {
      "text/html": [
       "<span style=\"color:cyan\"> |-Trial ID: ec6d1a5693083f0ccef018d69c50bcdb</span>"
      ],
      "text/plain": [
       "<IPython.core.display.HTML object>"
      ]
     },
     "metadata": {},
     "output_type": "display_data"
    },
    {
     "data": {
      "text/html": [
       "<span style=\"color:cyan\"> |-Score: 0.0020295316353440285</span>"
      ],
      "text/plain": [
       "<IPython.core.display.HTML object>"
      ]
     },
     "metadata": {},
     "output_type": "display_data"
    },
    {
     "data": {
      "text/html": [
       "<span style=\"color:cyan\"> |-Best step: 0</span>"
      ],
      "text/plain": [
       "<IPython.core.display.HTML object>"
      ]
     },
     "metadata": {},
     "output_type": "display_data"
    },
    {
     "data": {
      "text/html": [
       "<span style=\"color:#7E57C2\"><h2 style=\"font-size:16px\">Hyperparameters:</h2></span>"
      ],
      "text/plain": [
       "<IPython.core.display.HTML object>"
      ]
     },
     "metadata": {},
     "output_type": "display_data"
    },
    {
     "data": {
      "text/html": [
       "<span style=\"color:cyan\"> |-hidden_units: 140</span>"
      ],
      "text/plain": [
       "<IPython.core.display.HTML object>"
      ]
     },
     "metadata": {},
     "output_type": "display_data"
    },
    {
     "data": {
      "text/html": [
       "<span style=\"color:blue\"> |-learning_rate: 0.001</span>"
      ],
      "text/plain": [
       "<IPython.core.display.HTML object>"
      ]
     },
     "metadata": {},
     "output_type": "display_data"
    },
    {
     "data": {
      "text/html": [
       "<span style=\"color:cyan\"> |-tuner/bracket: 3</span>"
      ],
      "text/plain": [
       "<IPython.core.display.HTML object>"
      ]
     },
     "metadata": {},
     "output_type": "display_data"
    },
    {
     "data": {
      "text/html": [
       "<span style=\"color:blue\"> |-tuner/epochs: 6</span>"
      ],
      "text/plain": [
       "<IPython.core.display.HTML object>"
      ]
     },
     "metadata": {},
     "output_type": "display_data"
    },
    {
     "data": {
      "text/html": [
       "<span style=\"color:cyan\"> |-tuner/initial_epoch: 2</span>"
      ],
      "text/plain": [
       "<IPython.core.display.HTML object>"
      ]
     },
     "metadata": {},
     "output_type": "display_data"
    },
    {
     "data": {
      "text/html": [
       "<span style=\"color:blue\"> |-tuner/round: 1</span>"
      ],
      "text/plain": [
       "<IPython.core.display.HTML object>"
      ]
     },
     "metadata": {},
     "output_type": "display_data"
    },
    {
     "data": {
      "text/html": [
       "<span style=\"color:cyan\"> |-tuner/trial_id: cb024c2939ab73e48c6bc8106da8da1d</span>"
      ],
      "text/plain": [
       "<IPython.core.display.HTML object>"
      ]
     },
     "metadata": {},
     "output_type": "display_data"
    },
    {
     "name": "stdout",
     "output_type": "stream",
     "text": [
      "Train on 8000 samples, validate on 2000 samples\n",
      "Epoch 3/6\n",
      "8000/8000 - 1s - loss: 0.1084 - mean_squared_error: 0.1083 - mean_absolute_error: 0.2936 - val_loss: 0.0379 - val_mean_squared_error: 0.0376 - val_mean_absolute_error: 0.1704\n",
      "Epoch 4/6\n",
      "8000/8000 - 1s - loss: 0.0183 - mean_squared_error: 0.0179 - mean_absolute_error: 0.1156 - val_loss: 0.0082 - val_mean_squared_error: 0.0079 - val_mean_absolute_error: 0.0790\n",
      "Epoch 5/6\n",
      "8000/8000 - 1s - loss: 0.0055 - mean_squared_error: 0.0051 - mean_absolute_error: 0.0632 - val_loss: 0.0038 - val_mean_squared_error: 0.0034 - val_mean_absolute_error: 0.0512\n",
      "Epoch 6/6\n",
      "8000/8000 - 1s - loss: 0.0031 - mean_squared_error: 0.0026 - mean_absolute_error: 0.0446 - val_loss: 0.0026 - val_mean_squared_error: 0.0021 - val_mean_absolute_error: 0.0385\n"
     ]
    },
    {
     "data": {
      "text/html": [
       "<span style=\"color:#4527A0\"><h1 style=\"font-size:18px\">Trial complete</h1></span>"
      ],
      "text/plain": [
       "<IPython.core.display.HTML object>"
      ]
     },
     "metadata": {},
     "output_type": "display_data"
    },
    {
     "data": {
      "text/html": [
       "<span style=\"color:#4527A0\"><h1 style=\"font-size:18px\">Trial summary</h1></span>"
      ],
      "text/plain": [
       "<IPython.core.display.HTML object>"
      ]
     },
     "metadata": {},
     "output_type": "display_data"
    },
    {
     "data": {
      "text/html": [
       "<span style=\"color:cyan\"> |-Trial ID: 6665857361a0c5b5d34eba786269480b</span>"
      ],
      "text/plain": [
       "<IPython.core.display.HTML object>"
      ]
     },
     "metadata": {},
     "output_type": "display_data"
    },
    {
     "data": {
      "text/html": [
       "<span style=\"color:cyan\"> |-Score: 0.0020674155093729496</span>"
      ],
      "text/plain": [
       "<IPython.core.display.HTML object>"
      ]
     },
     "metadata": {},
     "output_type": "display_data"
    },
    {
     "data": {
      "text/html": [
       "<span style=\"color:cyan\"> |-Best step: 0</span>"
      ],
      "text/plain": [
       "<IPython.core.display.HTML object>"
      ]
     },
     "metadata": {},
     "output_type": "display_data"
    },
    {
     "data": {
      "text/html": [
       "<span style=\"color:#7E57C2\"><h2 style=\"font-size:16px\">Hyperparameters:</h2></span>"
      ],
      "text/plain": [
       "<IPython.core.display.HTML object>"
      ]
     },
     "metadata": {},
     "output_type": "display_data"
    },
    {
     "data": {
      "text/html": [
       "<span style=\"color:cyan\"> |-hidden_units: 138</span>"
      ],
      "text/plain": [
       "<IPython.core.display.HTML object>"
      ]
     },
     "metadata": {},
     "output_type": "display_data"
    },
    {
     "data": {
      "text/html": [
       "<span style=\"color:blue\"> |-learning_rate: 0.001</span>"
      ],
      "text/plain": [
       "<IPython.core.display.HTML object>"
      ]
     },
     "metadata": {},
     "output_type": "display_data"
    },
    {
     "data": {
      "text/html": [
       "<span style=\"color:cyan\"> |-tuner/bracket: 3</span>"
      ],
      "text/plain": [
       "<IPython.core.display.HTML object>"
      ]
     },
     "metadata": {},
     "output_type": "display_data"
    },
    {
     "data": {
      "text/html": [
       "<span style=\"color:blue\"> |-tuner/epochs: 6</span>"
      ],
      "text/plain": [
       "<IPython.core.display.HTML object>"
      ]
     },
     "metadata": {},
     "output_type": "display_data"
    },
    {
     "data": {
      "text/html": [
       "<span style=\"color:cyan\"> |-tuner/initial_epoch: 2</span>"
      ],
      "text/plain": [
       "<IPython.core.display.HTML object>"
      ]
     },
     "metadata": {},
     "output_type": "display_data"
    },
    {
     "data": {
      "text/html": [
       "<span style=\"color:blue\"> |-tuner/round: 1</span>"
      ],
      "text/plain": [
       "<IPython.core.display.HTML object>"
      ]
     },
     "metadata": {},
     "output_type": "display_data"
    },
    {
     "data": {
      "text/html": [
       "<span style=\"color:cyan\"> |-tuner/trial_id: 91c5326b3f0f4edc2632b1b51c4e997e</span>"
      ],
      "text/plain": [
       "<IPython.core.display.HTML object>"
      ]
     },
     "metadata": {},
     "output_type": "display_data"
    },
    {
     "name": "stdout",
     "output_type": "stream",
     "text": [
      "Train on 8000 samples, validate on 2000 samples\n",
      "Epoch 3/6\n",
      "8000/8000 - 1s - loss: 0.1078 - mean_squared_error: 0.1077 - mean_absolute_error: 0.2929 - val_loss: 0.0381 - val_mean_squared_error: 0.0379 - val_mean_absolute_error: 0.1713\n",
      "Epoch 4/6\n",
      "8000/8000 - 1s - loss: 0.0182 - mean_squared_error: 0.0178 - mean_absolute_error: 0.1155 - val_loss: 0.0082 - val_mean_squared_error: 0.0078 - val_mean_absolute_error: 0.0789\n",
      "Epoch 5/6\n",
      "8000/8000 - 1s - loss: 0.0055 - mean_squared_error: 0.0050 - mean_absolute_error: 0.0629 - val_loss: 0.0038 - val_mean_squared_error: 0.0034 - val_mean_absolute_error: 0.0511\n",
      "Epoch 6/6\n",
      "8000/8000 - 1s - loss: 0.0031 - mean_squared_error: 0.0026 - mean_absolute_error: 0.0444 - val_loss: 0.0026 - val_mean_squared_error: 0.0021 - val_mean_absolute_error: 0.0383\n"
     ]
    },
    {
     "data": {
      "text/html": [
       "<span style=\"color:#4527A0\"><h1 style=\"font-size:18px\">Trial complete</h1></span>"
      ],
      "text/plain": [
       "<IPython.core.display.HTML object>"
      ]
     },
     "metadata": {},
     "output_type": "display_data"
    },
    {
     "data": {
      "text/html": [
       "<span style=\"color:#4527A0\"><h1 style=\"font-size:18px\">Trial summary</h1></span>"
      ],
      "text/plain": [
       "<IPython.core.display.HTML object>"
      ]
     },
     "metadata": {},
     "output_type": "display_data"
    },
    {
     "data": {
      "text/html": [
       "<span style=\"color:cyan\"> |-Trial ID: 048481e1b4235ee4f2a261cad5405d7b</span>"
      ],
      "text/plain": [
       "<IPython.core.display.HTML object>"
      ]
     },
     "metadata": {},
     "output_type": "display_data"
    },
    {
     "data": {
      "text/html": [
       "<span style=\"color:cyan\"> |-Score: 0.002052599098533392</span>"
      ],
      "text/plain": [
       "<IPython.core.display.HTML object>"
      ]
     },
     "metadata": {},
     "output_type": "display_data"
    },
    {
     "data": {
      "text/html": [
       "<span style=\"color:cyan\"> |-Best step: 0</span>"
      ],
      "text/plain": [
       "<IPython.core.display.HTML object>"
      ]
     },
     "metadata": {},
     "output_type": "display_data"
    },
    {
     "data": {
      "text/html": [
       "<span style=\"color:#7E57C2\"><h2 style=\"font-size:16px\">Hyperparameters:</h2></span>"
      ],
      "text/plain": [
       "<IPython.core.display.HTML object>"
      ]
     },
     "metadata": {},
     "output_type": "display_data"
    },
    {
     "data": {
      "text/html": [
       "<span style=\"color:cyan\"> |-hidden_units: 136</span>"
      ],
      "text/plain": [
       "<IPython.core.display.HTML object>"
      ]
     },
     "metadata": {},
     "output_type": "display_data"
    },
    {
     "data": {
      "text/html": [
       "<span style=\"color:blue\"> |-learning_rate: 0.001</span>"
      ],
      "text/plain": [
       "<IPython.core.display.HTML object>"
      ]
     },
     "metadata": {},
     "output_type": "display_data"
    },
    {
     "data": {
      "text/html": [
       "<span style=\"color:cyan\"> |-tuner/bracket: 3</span>"
      ],
      "text/plain": [
       "<IPython.core.display.HTML object>"
      ]
     },
     "metadata": {},
     "output_type": "display_data"
    },
    {
     "data": {
      "text/html": [
       "<span style=\"color:blue\"> |-tuner/epochs: 6</span>"
      ],
      "text/plain": [
       "<IPython.core.display.HTML object>"
      ]
     },
     "metadata": {},
     "output_type": "display_data"
    },
    {
     "data": {
      "text/html": [
       "<span style=\"color:cyan\"> |-tuner/initial_epoch: 2</span>"
      ],
      "text/plain": [
       "<IPython.core.display.HTML object>"
      ]
     },
     "metadata": {},
     "output_type": "display_data"
    },
    {
     "data": {
      "text/html": [
       "<span style=\"color:blue\"> |-tuner/round: 1</span>"
      ],
      "text/plain": [
       "<IPython.core.display.HTML object>"
      ]
     },
     "metadata": {},
     "output_type": "display_data"
    },
    {
     "data": {
      "text/html": [
       "<span style=\"color:cyan\"> |-tuner/trial_id: be8eca46e5563c384e82934055195322</span>"
      ],
      "text/plain": [
       "<IPython.core.display.HTML object>"
      ]
     },
     "metadata": {},
     "output_type": "display_data"
    },
    {
     "name": "stdout",
     "output_type": "stream",
     "text": [
      "Train on 8000 samples, validate on 2000 samples\n",
      "Epoch 7/17\n",
      "8000/8000 - 1s - loss: 0.0213 - mean_squared_error: 0.0208 - mean_absolute_error: 0.0847 - val_loss: 0.0014 - val_mean_squared_error: 7.6408e-04 - val_mean_absolute_error: 0.0222\n",
      "Epoch 8/17\n",
      "8000/8000 - 1s - loss: 0.0012 - mean_squared_error: 5.0802e-04 - mean_absolute_error: 0.0176 - val_loss: 0.0010 - val_mean_squared_error: 3.0553e-04 - val_mean_absolute_error: 0.0135\n",
      "Epoch 9/17\n",
      "8000/8000 - 1s - loss: 0.0011 - mean_squared_error: 4.1600e-04 - mean_absolute_error: 0.0145 - val_loss: 9.9254e-04 - val_mean_squared_error: 2.5950e-04 - val_mean_absolute_error: 0.0121\n",
      "Epoch 10/17\n",
      "8000/8000 - 1s - loss: 0.0010 - mean_squared_error: 3.1043e-04 - mean_absolute_error: 0.0130 - val_loss: 0.0010 - val_mean_squared_error: 2.7623e-04 - val_mean_absolute_error: 0.0123\n",
      "Epoch 11/17\n",
      "8000/8000 - 1s - loss: 0.0013 - mean_squared_error: 5.3404e-04 - mean_absolute_error: 0.0153 - val_loss: 0.0021 - val_mean_squared_error: 0.0013 - val_mean_absolute_error: 0.0225\n",
      "Epoch 12/17\n",
      "8000/8000 - 1s - loss: 0.0013 - mean_squared_error: 5.2093e-04 - mean_absolute_error: 0.0154 - val_loss: 0.0015 - val_mean_squared_error: 7.9040e-04 - val_mean_absolute_error: 0.0177\n",
      "Epoch 13/17\n",
      "8000/8000 - 1s - loss: 0.0012 - mean_squared_error: 4.6574e-04 - mean_absolute_error: 0.0148 - val_loss: 0.0011 - val_mean_squared_error: 3.6168e-04 - val_mean_absolute_error: 0.0134\n",
      "Epoch 14/17\n",
      "8000/8000 - 1s - loss: 0.0011 - mean_squared_error: 3.9997e-04 - mean_absolute_error: 0.0140 - val_loss: 0.0011 - val_mean_squared_error: 3.9926e-04 - val_mean_absolute_error: 0.0136\n"
     ]
    },
    {
     "data": {
      "text/html": [
       "<span style=\"color:#4527A0\"><h1 style=\"font-size:18px\">Trial complete</h1></span>"
      ],
      "text/plain": [
       "<IPython.core.display.HTML object>"
      ]
     },
     "metadata": {},
     "output_type": "display_data"
    },
    {
     "data": {
      "text/html": [
       "<span style=\"color:#4527A0\"><h1 style=\"font-size:18px\">Trial summary</h1></span>"
      ],
      "text/plain": [
       "<IPython.core.display.HTML object>"
      ]
     },
     "metadata": {},
     "output_type": "display_data"
    },
    {
     "data": {
      "text/html": [
       "<span style=\"color:cyan\"> |-Trial ID: 77febdd0f7b5894e28e3acef105fe4a0</span>"
      ],
      "text/plain": [
       "<IPython.core.display.HTML object>"
      ]
     },
     "metadata": {},
     "output_type": "display_data"
    },
    {
     "data": {
      "text/html": [
       "<span style=\"color:cyan\"> |-Score: 0.00025950290728360415</span>"
      ],
      "text/plain": [
       "<IPython.core.display.HTML object>"
      ]
     },
     "metadata": {},
     "output_type": "display_data"
    },
    {
     "data": {
      "text/html": [
       "<span style=\"color:cyan\"> |-Best step: 0</span>"
      ],
      "text/plain": [
       "<IPython.core.display.HTML object>"
      ]
     },
     "metadata": {},
     "output_type": "display_data"
    },
    {
     "data": {
      "text/html": [
       "<span style=\"color:#7E57C2\"><h2 style=\"font-size:16px\">Hyperparameters:</h2></span>"
      ],
      "text/plain": [
       "<IPython.core.display.HTML object>"
      ]
     },
     "metadata": {},
     "output_type": "display_data"
    },
    {
     "data": {
      "text/html": [
       "<span style=\"color:cyan\"> |-hidden_units: 90</span>"
      ],
      "text/plain": [
       "<IPython.core.display.HTML object>"
      ]
     },
     "metadata": {},
     "output_type": "display_data"
    },
    {
     "data": {
      "text/html": [
       "<span style=\"color:blue\"> |-learning_rate: 0.01</span>"
      ],
      "text/plain": [
       "<IPython.core.display.HTML object>"
      ]
     },
     "metadata": {},
     "output_type": "display_data"
    },
    {
     "data": {
      "text/html": [
       "<span style=\"color:cyan\"> |-tuner/bracket: 3</span>"
      ],
      "text/plain": [
       "<IPython.core.display.HTML object>"
      ]
     },
     "metadata": {},
     "output_type": "display_data"
    },
    {
     "data": {
      "text/html": [
       "<span style=\"color:blue\"> |-tuner/epochs: 17</span>"
      ],
      "text/plain": [
       "<IPython.core.display.HTML object>"
      ]
     },
     "metadata": {},
     "output_type": "display_data"
    },
    {
     "data": {
      "text/html": [
       "<span style=\"color:cyan\"> |-tuner/initial_epoch: 6</span>"
      ],
      "text/plain": [
       "<IPython.core.display.HTML object>"
      ]
     },
     "metadata": {},
     "output_type": "display_data"
    },
    {
     "data": {
      "text/html": [
       "<span style=\"color:blue\"> |-tuner/round: 2</span>"
      ],
      "text/plain": [
       "<IPython.core.display.HTML object>"
      ]
     },
     "metadata": {},
     "output_type": "display_data"
    },
    {
     "data": {
      "text/html": [
       "<span style=\"color:cyan\"> |-tuner/trial_id: cbfcc6f3c3ef4bbff28674946376bb53</span>"
      ],
      "text/plain": [
       "<IPython.core.display.HTML object>"
      ]
     },
     "metadata": {},
     "output_type": "display_data"
    },
    {
     "name": "stdout",
     "output_type": "stream",
     "text": [
      "Train on 8000 samples, validate on 2000 samples\n",
      "Epoch 7/17\n",
      "8000/8000 - 1s - loss: 0.0218 - mean_squared_error: 0.0213 - mean_absolute_error: 0.0862 - val_loss: 0.0014 - val_mean_squared_error: 7.8280e-04 - val_mean_absolute_error: 0.0225\n",
      "Epoch 8/17\n",
      "8000/8000 - 1s - loss: 0.0012 - mean_squared_error: 5.1341e-04 - mean_absolute_error: 0.0177 - val_loss: 0.0010 - val_mean_squared_error: 3.0467e-04 - val_mean_absolute_error: 0.0135\n",
      "Epoch 9/17\n",
      "8000/8000 - 1s - loss: 0.0012 - mean_squared_error: 4.9197e-04 - mean_absolute_error: 0.0151 - val_loss: 9.8725e-04 - val_mean_squared_error: 2.5848e-04 - val_mean_absolute_error: 0.0122\n",
      "Epoch 10/17\n",
      "8000/8000 - 1s - loss: 0.0011 - mean_squared_error: 4.1044e-04 - mean_absolute_error: 0.0141 - val_loss: 0.0010 - val_mean_squared_error: 2.9098e-04 - val_mean_absolute_error: 0.0126\n",
      "Epoch 11/17\n",
      "8000/8000 - 1s - loss: 0.0011 - mean_squared_error: 3.7005e-04 - mean_absolute_error: 0.0137 - val_loss: 0.0012 - val_mean_squared_error: 5.1163e-04 - val_mean_absolute_error: 0.0154\n",
      "Epoch 12/17\n",
      "8000/8000 - 1s - loss: 0.0013 - mean_squared_error: 5.3903e-04 - mean_absolute_error: 0.0155 - val_loss: 0.0014 - val_mean_squared_error: 6.8239e-04 - val_mean_absolute_error: 0.0169\n",
      "Epoch 13/17\n",
      "8000/8000 - 1s - loss: 0.0011 - mean_squared_error: 4.0277e-04 - mean_absolute_error: 0.0140 - val_loss: 0.0011 - val_mean_squared_error: 3.9744e-04 - val_mean_absolute_error: 0.0138\n",
      "Epoch 14/17\n",
      "8000/8000 - 1s - loss: 0.0012 - mean_squared_error: 4.2810e-04 - mean_absolute_error: 0.0143 - val_loss: 0.0011 - val_mean_squared_error: 3.7070e-04 - val_mean_absolute_error: 0.0135\n"
     ]
    },
    {
     "data": {
      "text/html": [
       "<span style=\"color:#4527A0\"><h1 style=\"font-size:18px\">Trial complete</h1></span>"
      ],
      "text/plain": [
       "<IPython.core.display.HTML object>"
      ]
     },
     "metadata": {},
     "output_type": "display_data"
    },
    {
     "data": {
      "text/html": [
       "<span style=\"color:#4527A0\"><h1 style=\"font-size:18px\">Trial summary</h1></span>"
      ],
      "text/plain": [
       "<IPython.core.display.HTML object>"
      ]
     },
     "metadata": {},
     "output_type": "display_data"
    },
    {
     "data": {
      "text/html": [
       "<span style=\"color:cyan\"> |-Trial ID: 9bfd16ab08c7759e6a6f96f5660d44ac</span>"
      ],
      "text/plain": [
       "<IPython.core.display.HTML object>"
      ]
     },
     "metadata": {},
     "output_type": "display_data"
    },
    {
     "data": {
      "text/html": [
       "<span style=\"color:cyan\"> |-Score: 0.000258479209151119</span>"
      ],
      "text/plain": [
       "<IPython.core.display.HTML object>"
      ]
     },
     "metadata": {},
     "output_type": "display_data"
    },
    {
     "data": {
      "text/html": [
       "<span style=\"color:cyan\"> |-Best step: 0</span>"
      ],
      "text/plain": [
       "<IPython.core.display.HTML object>"
      ]
     },
     "metadata": {},
     "output_type": "display_data"
    },
    {
     "data": {
      "text/html": [
       "<span style=\"color:#7E57C2\"><h2 style=\"font-size:16px\">Hyperparameters:</h2></span>"
      ],
      "text/plain": [
       "<IPython.core.display.HTML object>"
      ]
     },
     "metadata": {},
     "output_type": "display_data"
    },
    {
     "data": {
      "text/html": [
       "<span style=\"color:cyan\"> |-hidden_units: 84</span>"
      ],
      "text/plain": [
       "<IPython.core.display.HTML object>"
      ]
     },
     "metadata": {},
     "output_type": "display_data"
    },
    {
     "data": {
      "text/html": [
       "<span style=\"color:blue\"> |-learning_rate: 0.01</span>"
      ],
      "text/plain": [
       "<IPython.core.display.HTML object>"
      ]
     },
     "metadata": {},
     "output_type": "display_data"
    },
    {
     "data": {
      "text/html": [
       "<span style=\"color:cyan\"> |-tuner/bracket: 3</span>"
      ],
      "text/plain": [
       "<IPython.core.display.HTML object>"
      ]
     },
     "metadata": {},
     "output_type": "display_data"
    },
    {
     "data": {
      "text/html": [
       "<span style=\"color:blue\"> |-tuner/epochs: 17</span>"
      ],
      "text/plain": [
       "<IPython.core.display.HTML object>"
      ]
     },
     "metadata": {},
     "output_type": "display_data"
    },
    {
     "data": {
      "text/html": [
       "<span style=\"color:cyan\"> |-tuner/initial_epoch: 6</span>"
      ],
      "text/plain": [
       "<IPython.core.display.HTML object>"
      ]
     },
     "metadata": {},
     "output_type": "display_data"
    },
    {
     "data": {
      "text/html": [
       "<span style=\"color:blue\"> |-tuner/round: 2</span>"
      ],
      "text/plain": [
       "<IPython.core.display.HTML object>"
      ]
     },
     "metadata": {},
     "output_type": "display_data"
    },
    {
     "data": {
      "text/html": [
       "<span style=\"color:cyan\"> |-tuner/trial_id: e578b543e11437e192cd4475638d4b62</span>"
      ],
      "text/plain": [
       "<IPython.core.display.HTML object>"
      ]
     },
     "metadata": {},
     "output_type": "display_data"
    },
    {
     "name": "stdout",
     "output_type": "stream",
     "text": [
      "Train on 8000 samples, validate on 2000 samples\n",
      "Epoch 7/17\n",
      "8000/8000 - 1s - loss: 0.0211 - mean_squared_error: 0.0207 - mean_absolute_error: 0.0845 - val_loss: 0.0014 - val_mean_squared_error: 7.6637e-04 - val_mean_absolute_error: 0.0223\n",
      "Epoch 8/17\n",
      "8000/8000 - 1s - loss: 0.0012 - mean_squared_error: 5.0677e-04 - mean_absolute_error: 0.0176 - val_loss: 0.0010 - val_mean_squared_error: 3.1499e-04 - val_mean_absolute_error: 0.0137\n",
      "Epoch 9/17\n",
      "8000/8000 - 1s - loss: 0.0012 - mean_squared_error: 4.3374e-04 - mean_absolute_error: 0.0147 - val_loss: 0.0011 - val_mean_squared_error: 3.4640e-04 - val_mean_absolute_error: 0.0135\n",
      "Epoch 10/17\n",
      "8000/8000 - 1s - loss: 0.0011 - mean_squared_error: 3.3382e-04 - mean_absolute_error: 0.0134 - val_loss: 0.0010 - val_mean_squared_error: 2.8601e-04 - val_mean_absolute_error: 0.0125\n",
      "Epoch 11/17\n",
      "8000/8000 - 1s - loss: 0.0013 - mean_squared_error: 5.3198e-04 - mean_absolute_error: 0.0153 - val_loss: 0.0011 - val_mean_squared_error: 3.8312e-04 - val_mean_absolute_error: 0.0140\n",
      "Epoch 12/17\n",
      "8000/8000 - 1s - loss: 0.0013 - mean_squared_error: 5.7602e-04 - mean_absolute_error: 0.0158 - val_loss: 0.0015 - val_mean_squared_error: 8.0829e-04 - val_mean_absolute_error: 0.0181\n",
      "Epoch 13/17\n",
      "8000/8000 - 1s - loss: 0.0012 - mean_squared_error: 4.4652e-04 - mean_absolute_error: 0.0147 - val_loss: 0.0011 - val_mean_squared_error: 3.5383e-04 - val_mean_absolute_error: 0.0133\n",
      "Epoch 14/17\n",
      "8000/8000 - 1s - loss: 0.0012 - mean_squared_error: 4.7142e-04 - mean_absolute_error: 0.0148 - val_loss: 0.0012 - val_mean_squared_error: 4.6469e-04 - val_mean_absolute_error: 0.0147\n",
      "Epoch 15/17\n",
      "8000/8000 - 1s - loss: 0.0015 - mean_squared_error: 7.7674e-04 - mean_absolute_error: 0.0175 - val_loss: 0.0015 - val_mean_squared_error: 7.5565e-04 - val_mean_absolute_error: 0.0173\n"
     ]
    },
    {
     "data": {
      "text/html": [
       "<span style=\"color:#4527A0\"><h1 style=\"font-size:18px\">Trial complete</h1></span>"
      ],
      "text/plain": [
       "<IPython.core.display.HTML object>"
      ]
     },
     "metadata": {},
     "output_type": "display_data"
    },
    {
     "data": {
      "text/html": [
       "<span style=\"color:#4527A0\"><h1 style=\"font-size:18px\">Trial summary</h1></span>"
      ],
      "text/plain": [
       "<IPython.core.display.HTML object>"
      ]
     },
     "metadata": {},
     "output_type": "display_data"
    },
    {
     "data": {
      "text/html": [
       "<span style=\"color:cyan\"> |-Trial ID: a2d807bf5cbb215bfe620d82daa07e75</span>"
      ],
      "text/plain": [
       "<IPython.core.display.HTML object>"
      ]
     },
     "metadata": {},
     "output_type": "display_data"
    },
    {
     "data": {
      "text/html": [
       "<span style=\"color:cyan\"> |-Score: 0.00028600695077329874</span>"
      ],
      "text/plain": [
       "<IPython.core.display.HTML object>"
      ]
     },
     "metadata": {},
     "output_type": "display_data"
    },
    {
     "data": {
      "text/html": [
       "<span style=\"color:cyan\"> |-Best step: 0</span>"
      ],
      "text/plain": [
       "<IPython.core.display.HTML object>"
      ]
     },
     "metadata": {},
     "output_type": "display_data"
    },
    {
     "data": {
      "text/html": [
       "<span style=\"color:#7E57C2\"><h2 style=\"font-size:16px\">Hyperparameters:</h2></span>"
      ],
      "text/plain": [
       "<IPython.core.display.HTML object>"
      ]
     },
     "metadata": {},
     "output_type": "display_data"
    },
    {
     "data": {
      "text/html": [
       "<span style=\"color:cyan\"> |-hidden_units: 92</span>"
      ],
      "text/plain": [
       "<IPython.core.display.HTML object>"
      ]
     },
     "metadata": {},
     "output_type": "display_data"
    },
    {
     "data": {
      "text/html": [
       "<span style=\"color:blue\"> |-learning_rate: 0.01</span>"
      ],
      "text/plain": [
       "<IPython.core.display.HTML object>"
      ]
     },
     "metadata": {},
     "output_type": "display_data"
    },
    {
     "data": {
      "text/html": [
       "<span style=\"color:cyan\"> |-tuner/bracket: 3</span>"
      ],
      "text/plain": [
       "<IPython.core.display.HTML object>"
      ]
     },
     "metadata": {},
     "output_type": "display_data"
    },
    {
     "data": {
      "text/html": [
       "<span style=\"color:blue\"> |-tuner/epochs: 17</span>"
      ],
      "text/plain": [
       "<IPython.core.display.HTML object>"
      ]
     },
     "metadata": {},
     "output_type": "display_data"
    },
    {
     "data": {
      "text/html": [
       "<span style=\"color:cyan\"> |-tuner/initial_epoch: 6</span>"
      ],
      "text/plain": [
       "<IPython.core.display.HTML object>"
      ]
     },
     "metadata": {},
     "output_type": "display_data"
    },
    {
     "data": {
      "text/html": [
       "<span style=\"color:blue\"> |-tuner/round: 2</span>"
      ],
      "text/plain": [
       "<IPython.core.display.HTML object>"
      ]
     },
     "metadata": {},
     "output_type": "display_data"
    },
    {
     "data": {
      "text/html": [
       "<span style=\"color:cyan\"> |-tuner/trial_id: 8c3f32ab5abad2df989809f3dba20bba</span>"
      ],
      "text/plain": [
       "<IPython.core.display.HTML object>"
      ]
     },
     "metadata": {},
     "output_type": "display_data"
    },
    {
     "name": "stdout",
     "output_type": "stream",
     "text": [
      "Train on 8000 samples, validate on 2000 samples\n",
      "Epoch 7/17\n",
      "8000/8000 - 1s - loss: 0.0171 - mean_squared_error: 0.0166 - mean_absolute_error: 0.0711 - val_loss: 0.0013 - val_mean_squared_error: 6.3015e-04 - val_mean_absolute_error: 0.0196\n",
      "Epoch 8/17\n",
      "8000/8000 - 1s - loss: 0.0012 - mean_squared_error: 4.9552e-04 - mean_absolute_error: 0.0168 - val_loss: 0.0010 - val_mean_squared_error: 3.1779e-04 - val_mean_absolute_error: 0.0135\n",
      "Epoch 9/17\n",
      "8000/8000 - 1s - loss: 0.0011 - mean_squared_error: 3.5472e-04 - mean_absolute_error: 0.0138 - val_loss: 0.0014 - val_mean_squared_error: 6.5774e-04 - val_mean_absolute_error: 0.0167\n",
      "Epoch 10/17\n",
      "8000/8000 - 1s - loss: 0.0012 - mean_squared_error: 4.9494e-04 - mean_absolute_error: 0.0152 - val_loss: 0.0012 - val_mean_squared_error: 4.5436e-04 - val_mean_absolute_error: 0.0146\n",
      "Epoch 11/17\n",
      "8000/8000 - 1s - loss: 0.0015 - mean_squared_error: 7.6576e-04 - mean_absolute_error: 0.0175 - val_loss: 0.0021 - val_mean_squared_error: 0.0014 - val_mean_absolute_error: 0.0226\n",
      "Epoch 12/17\n",
      "8000/8000 - 1s - loss: 0.0014 - mean_squared_error: 6.2609e-04 - mean_absolute_error: 0.0165 - val_loss: 0.0014 - val_mean_squared_error: 7.0098e-04 - val_mean_absolute_error: 0.0169\n",
      "Epoch 13/17\n",
      "8000/8000 - 1s - loss: 0.0015 - mean_squared_error: 7.4547e-04 - mean_absolute_error: 0.0173 - val_loss: 0.0014 - val_mean_squared_error: 6.7350e-04 - val_mean_absolute_error: 0.0164\n"
     ]
    },
    {
     "data": {
      "text/html": [
       "<span style=\"color:#4527A0\"><h1 style=\"font-size:18px\">Trial complete</h1></span>"
      ],
      "text/plain": [
       "<IPython.core.display.HTML object>"
      ]
     },
     "metadata": {},
     "output_type": "display_data"
    },
    {
     "data": {
      "text/html": [
       "<span style=\"color:#4527A0\"><h1 style=\"font-size:18px\">Trial summary</h1></span>"
      ],
      "text/plain": [
       "<IPython.core.display.HTML object>"
      ]
     },
     "metadata": {},
     "output_type": "display_data"
    },
    {
     "data": {
      "text/html": [
       "<span style=\"color:cyan\"> |-Trial ID: b80c5eb0c14e805c660ea365f7bf710f</span>"
      ],
      "text/plain": [
       "<IPython.core.display.HTML object>"
      ]
     },
     "metadata": {},
     "output_type": "display_data"
    },
    {
     "data": {
      "text/html": [
       "<span style=\"color:cyan\"> |-Score: 0.00031779284472577274</span>"
      ],
      "text/plain": [
       "<IPython.core.display.HTML object>"
      ]
     },
     "metadata": {},
     "output_type": "display_data"
    },
    {
     "data": {
      "text/html": [
       "<span style=\"color:cyan\"> |-Best step: 0</span>"
      ],
      "text/plain": [
       "<IPython.core.display.HTML object>"
      ]
     },
     "metadata": {},
     "output_type": "display_data"
    },
    {
     "data": {
      "text/html": [
       "<span style=\"color:#7E57C2\"><h2 style=\"font-size:16px\">Hyperparameters:</h2></span>"
      ],
      "text/plain": [
       "<IPython.core.display.HTML object>"
      ]
     },
     "metadata": {},
     "output_type": "display_data"
    },
    {
     "data": {
      "text/html": [
       "<span style=\"color:cyan\"> |-hidden_units: 126</span>"
      ],
      "text/plain": [
       "<IPython.core.display.HTML object>"
      ]
     },
     "metadata": {},
     "output_type": "display_data"
    },
    {
     "data": {
      "text/html": [
       "<span style=\"color:blue\"> |-learning_rate: 0.01</span>"
      ],
      "text/plain": [
       "<IPython.core.display.HTML object>"
      ]
     },
     "metadata": {},
     "output_type": "display_data"
    },
    {
     "data": {
      "text/html": [
       "<span style=\"color:cyan\"> |-tuner/bracket: 3</span>"
      ],
      "text/plain": [
       "<IPython.core.display.HTML object>"
      ]
     },
     "metadata": {},
     "output_type": "display_data"
    },
    {
     "data": {
      "text/html": [
       "<span style=\"color:blue\"> |-tuner/epochs: 17</span>"
      ],
      "text/plain": [
       "<IPython.core.display.HTML object>"
      ]
     },
     "metadata": {},
     "output_type": "display_data"
    },
    {
     "data": {
      "text/html": [
       "<span style=\"color:cyan\"> |-tuner/initial_epoch: 6</span>"
      ],
      "text/plain": [
       "<IPython.core.display.HTML object>"
      ]
     },
     "metadata": {},
     "output_type": "display_data"
    },
    {
     "data": {
      "text/html": [
       "<span style=\"color:blue\"> |-tuner/round: 2</span>"
      ],
      "text/plain": [
       "<IPython.core.display.HTML object>"
      ]
     },
     "metadata": {},
     "output_type": "display_data"
    },
    {
     "data": {
      "text/html": [
       "<span style=\"color:cyan\"> |-tuner/trial_id: a105f21891d8df0ba504b876bb2c2fd9</span>"
      ],
      "text/plain": [
       "<IPython.core.display.HTML object>"
      ]
     },
     "metadata": {},
     "output_type": "display_data"
    },
    {
     "name": "stdout",
     "output_type": "stream",
     "text": [
      "Train on 8000 samples, validate on 2000 samples\n",
      "Epoch 18/50\n",
      "8000/8000 - 1s - loss: 0.0233 - mean_squared_error: 0.0228 - mean_absolute_error: 0.0902 - val_loss: 0.0014 - val_mean_squared_error: 8.4567e-04 - val_mean_absolute_error: 0.0235\n",
      "Epoch 19/50\n",
      "8000/8000 - 1s - loss: 0.0012 - mean_squared_error: 5.3033e-04 - mean_absolute_error: 0.0181 - val_loss: 0.0011 - val_mean_squared_error: 4.1357e-04 - val_mean_absolute_error: 0.0160\n",
      "Epoch 20/50\n",
      "8000/8000 - 1s - loss: 0.0011 - mean_squared_error: 3.8695e-04 - mean_absolute_error: 0.0145 - val_loss: 0.0010 - val_mean_squared_error: 2.7097e-04 - val_mean_absolute_error: 0.0124\n",
      "Epoch 21/50\n",
      "8000/8000 - 1s - loss: 0.0011 - mean_squared_error: 3.6765e-04 - mean_absolute_error: 0.0137 - val_loss: 0.0010 - val_mean_squared_error: 2.7886e-04 - val_mean_absolute_error: 0.0125\n",
      "Epoch 22/50\n",
      "8000/8000 - 1s - loss: 0.0011 - mean_squared_error: 3.8840e-04 - mean_absolute_error: 0.0139 - val_loss: 0.0012 - val_mean_squared_error: 4.2193e-04 - val_mean_absolute_error: 0.0142\n",
      "Epoch 23/50\n",
      "8000/8000 - 1s - loss: 0.0013 - mean_squared_error: 5.3663e-04 - mean_absolute_error: 0.0154 - val_loss: 0.0015 - val_mean_squared_error: 8.1796e-04 - val_mean_absolute_error: 0.0179\n",
      "Epoch 24/50\n",
      "8000/8000 - 1s - loss: 0.0011 - mean_squared_error: 3.9118e-04 - mean_absolute_error: 0.0140 - val_loss: 0.0011 - val_mean_squared_error: 3.3711e-04 - val_mean_absolute_error: 0.0131\n",
      "Epoch 25/50\n",
      "8000/8000 - 1s - loss: 0.0012 - mean_squared_error: 4.2533e-04 - mean_absolute_error: 0.0142 - val_loss: 0.0012 - val_mean_squared_error: 4.8240e-04 - val_mean_absolute_error: 0.0148\n"
     ]
    },
    {
     "data": {
      "text/html": [
       "<span style=\"color:#4527A0\"><h1 style=\"font-size:18px\">Trial complete</h1></span>"
      ],
      "text/plain": [
       "<IPython.core.display.HTML object>"
      ]
     },
     "metadata": {},
     "output_type": "display_data"
    },
    {
     "data": {
      "text/html": [
       "<span style=\"color:#4527A0\"><h1 style=\"font-size:18px\">Trial summary</h1></span>"
      ],
      "text/plain": [
       "<IPython.core.display.HTML object>"
      ]
     },
     "metadata": {},
     "output_type": "display_data"
    },
    {
     "data": {
      "text/html": [
       "<span style=\"color:cyan\"> |-Trial ID: abecee593cce4f338cb419093babd20b</span>"
      ],
      "text/plain": [
       "<IPython.core.display.HTML object>"
      ]
     },
     "metadata": {},
     "output_type": "display_data"
    },
    {
     "data": {
      "text/html": [
       "<span style=\"color:cyan\"> |-Score: 0.00027096772100776434</span>"
      ],
      "text/plain": [
       "<IPython.core.display.HTML object>"
      ]
     },
     "metadata": {},
     "output_type": "display_data"
    },
    {
     "data": {
      "text/html": [
       "<span style=\"color:cyan\"> |-Best step: 0</span>"
      ],
      "text/plain": [
       "<IPython.core.display.HTML object>"
      ]
     },
     "metadata": {},
     "output_type": "display_data"
    },
    {
     "data": {
      "text/html": [
       "<span style=\"color:#7E57C2\"><h2 style=\"font-size:16px\">Hyperparameters:</h2></span>"
      ],
      "text/plain": [
       "<IPython.core.display.HTML object>"
      ]
     },
     "metadata": {},
     "output_type": "display_data"
    },
    {
     "data": {
      "text/html": [
       "<span style=\"color:cyan\"> |-hidden_units: 84</span>"
      ],
      "text/plain": [
       "<IPython.core.display.HTML object>"
      ]
     },
     "metadata": {},
     "output_type": "display_data"
    },
    {
     "data": {
      "text/html": [
       "<span style=\"color:blue\"> |-learning_rate: 0.01</span>"
      ],
      "text/plain": [
       "<IPython.core.display.HTML object>"
      ]
     },
     "metadata": {},
     "output_type": "display_data"
    },
    {
     "data": {
      "text/html": [
       "<span style=\"color:cyan\"> |-tuner/bracket: 3</span>"
      ],
      "text/plain": [
       "<IPython.core.display.HTML object>"
      ]
     },
     "metadata": {},
     "output_type": "display_data"
    },
    {
     "data": {
      "text/html": [
       "<span style=\"color:blue\"> |-tuner/epochs: 50</span>"
      ],
      "text/plain": [
       "<IPython.core.display.HTML object>"
      ]
     },
     "metadata": {},
     "output_type": "display_data"
    },
    {
     "data": {
      "text/html": [
       "<span style=\"color:cyan\"> |-tuner/initial_epoch: 17</span>"
      ],
      "text/plain": [
       "<IPython.core.display.HTML object>"
      ]
     },
     "metadata": {},
     "output_type": "display_data"
    },
    {
     "data": {
      "text/html": [
       "<span style=\"color:blue\"> |-tuner/round: 3</span>"
      ],
      "text/plain": [
       "<IPython.core.display.HTML object>"
      ]
     },
     "metadata": {},
     "output_type": "display_data"
    },
    {
     "data": {
      "text/html": [
       "<span style=\"color:cyan\"> |-tuner/trial_id: 9bfd16ab08c7759e6a6f96f5660d44ac</span>"
      ],
      "text/plain": [
       "<IPython.core.display.HTML object>"
      ]
     },
     "metadata": {},
     "output_type": "display_data"
    },
    {
     "name": "stdout",
     "output_type": "stream",
     "text": [
      "Train on 8000 samples, validate on 2000 samples\n",
      "Epoch 18/50\n",
      "8000/8000 - 1s - loss: 0.0220 - mean_squared_error: 0.0216 - mean_absolute_error: 0.0869 - val_loss: 0.0014 - val_mean_squared_error: 7.9499e-04 - val_mean_absolute_error: 0.0228\n",
      "Epoch 19/50\n",
      "8000/8000 - 1s - loss: 0.0012 - mean_squared_error: 5.0753e-04 - mean_absolute_error: 0.0177 - val_loss: 0.0011 - val_mean_squared_error: 3.4363e-04 - val_mean_absolute_error: 0.0144\n",
      "Epoch 20/50\n",
      "8000/8000 - 1s - loss: 0.0012 - mean_squared_error: 4.5331e-04 - mean_absolute_error: 0.0149 - val_loss: 0.0010 - val_mean_squared_error: 2.6613e-04 - val_mean_absolute_error: 0.0123\n",
      "Epoch 21/50\n",
      "8000/8000 - 1s - loss: 0.0012 - mean_squared_error: 4.2937e-04 - mean_absolute_error: 0.0143 - val_loss: 0.0011 - val_mean_squared_error: 3.6296e-04 - val_mean_absolute_error: 0.0137\n",
      "Epoch 22/50\n",
      "8000/8000 - 1s - loss: 0.0011 - mean_squared_error: 3.3063e-04 - mean_absolute_error: 0.0133 - val_loss: 0.0010 - val_mean_squared_error: 3.0407e-04 - val_mean_absolute_error: 0.0127\n",
      "Epoch 23/50\n",
      "8000/8000 - 1s - loss: 0.0014 - mean_squared_error: 6.5530e-04 - mean_absolute_error: 0.0162 - val_loss: 0.0013 - val_mean_squared_error: 5.3225e-04 - val_mean_absolute_error: 0.0154\n",
      "Epoch 24/50\n",
      "8000/8000 - 1s - loss: 0.0011 - mean_squared_error: 3.8333e-04 - mean_absolute_error: 0.0139 - val_loss: 0.0011 - val_mean_squared_error: 3.4780e-04 - val_mean_absolute_error: 0.0132\n",
      "Epoch 25/50\n",
      "8000/8000 - 1s - loss: 0.0011 - mean_squared_error: 4.0598e-04 - mean_absolute_error: 0.0140 - val_loss: 0.0012 - val_mean_squared_error: 4.6794e-04 - val_mean_absolute_error: 0.0148\n"
     ]
    },
    {
     "data": {
      "text/html": [
       "<span style=\"color:#4527A0\"><h1 style=\"font-size:18px\">Trial complete</h1></span>"
      ],
      "text/plain": [
       "<IPython.core.display.HTML object>"
      ]
     },
     "metadata": {},
     "output_type": "display_data"
    },
    {
     "data": {
      "text/html": [
       "<span style=\"color:#4527A0\"><h1 style=\"font-size:18px\">Trial summary</h1></span>"
      ],
      "text/plain": [
       "<IPython.core.display.HTML object>"
      ]
     },
     "metadata": {},
     "output_type": "display_data"
    },
    {
     "data": {
      "text/html": [
       "<span style=\"color:cyan\"> |-Trial ID: c17c029e34b4ba201fb5e5a81ed602d8</span>"
      ],
      "text/plain": [
       "<IPython.core.display.HTML object>"
      ]
     },
     "metadata": {},
     "output_type": "display_data"
    },
    {
     "data": {
      "text/html": [
       "<span style=\"color:cyan\"> |-Score: 0.00026613447698764503</span>"
      ],
      "text/plain": [
       "<IPython.core.display.HTML object>"
      ]
     },
     "metadata": {},
     "output_type": "display_data"
    },
    {
     "data": {
      "text/html": [
       "<span style=\"color:cyan\"> |-Best step: 0</span>"
      ],
      "text/plain": [
       "<IPython.core.display.HTML object>"
      ]
     },
     "metadata": {},
     "output_type": "display_data"
    },
    {
     "data": {
      "text/html": [
       "<span style=\"color:#7E57C2\"><h2 style=\"font-size:16px\">Hyperparameters:</h2></span>"
      ],
      "text/plain": [
       "<IPython.core.display.HTML object>"
      ]
     },
     "metadata": {},
     "output_type": "display_data"
    },
    {
     "data": {
      "text/html": [
       "<span style=\"color:cyan\"> |-hidden_units: 90</span>"
      ],
      "text/plain": [
       "<IPython.core.display.HTML object>"
      ]
     },
     "metadata": {},
     "output_type": "display_data"
    },
    {
     "data": {
      "text/html": [
       "<span style=\"color:blue\"> |-learning_rate: 0.01</span>"
      ],
      "text/plain": [
       "<IPython.core.display.HTML object>"
      ]
     },
     "metadata": {},
     "output_type": "display_data"
    },
    {
     "data": {
      "text/html": [
       "<span style=\"color:cyan\"> |-tuner/bracket: 3</span>"
      ],
      "text/plain": [
       "<IPython.core.display.HTML object>"
      ]
     },
     "metadata": {},
     "output_type": "display_data"
    },
    {
     "data": {
      "text/html": [
       "<span style=\"color:blue\"> |-tuner/epochs: 50</span>"
      ],
      "text/plain": [
       "<IPython.core.display.HTML object>"
      ]
     },
     "metadata": {},
     "output_type": "display_data"
    },
    {
     "data": {
      "text/html": [
       "<span style=\"color:cyan\"> |-tuner/initial_epoch: 17</span>"
      ],
      "text/plain": [
       "<IPython.core.display.HTML object>"
      ]
     },
     "metadata": {},
     "output_type": "display_data"
    },
    {
     "data": {
      "text/html": [
       "<span style=\"color:blue\"> |-tuner/round: 3</span>"
      ],
      "text/plain": [
       "<IPython.core.display.HTML object>"
      ]
     },
     "metadata": {},
     "output_type": "display_data"
    },
    {
     "data": {
      "text/html": [
       "<span style=\"color:cyan\"> |-tuner/trial_id: 77febdd0f7b5894e28e3acef105fe4a0</span>"
      ],
      "text/plain": [
       "<IPython.core.display.HTML object>"
      ]
     },
     "metadata": {},
     "output_type": "display_data"
    },
    {
     "name": "stdout",
     "output_type": "stream",
     "text": [
      "Train on 8000 samples, validate on 2000 samples\n",
      "Epoch 1/6\n",
      "8000/8000 - 1s - loss: 0.1626 - mean_squared_error: 0.1625 - mean_absolute_error: 0.3710 - val_loss: 0.1100 - val_mean_squared_error: 0.1098 - val_mean_absolute_error: 0.2992\n",
      "Epoch 2/6\n",
      "8000/8000 - 0s - loss: 0.0823 - mean_squared_error: 0.0822 - mean_absolute_error: 0.2462 - val_loss: 0.0628 - val_mean_squared_error: 0.0626 - val_mean_absolute_error: 0.2067\n",
      "Epoch 3/6\n",
      "8000/8000 - 0s - loss: 0.0474 - mean_squared_error: 0.0472 - mean_absolute_error: 0.1752 - val_loss: 0.0361 - val_mean_squared_error: 0.0359 - val_mean_absolute_error: 0.1494\n",
      "Epoch 4/6\n",
      "8000/8000 - 0s - loss: 0.0268 - mean_squared_error: 0.0265 - mean_absolute_error: 0.1266 - val_loss: 0.0208 - val_mean_squared_error: 0.0205 - val_mean_absolute_error: 0.1095\n",
      "Epoch 5/6\n",
      "8000/8000 - 0s - loss: 0.0156 - mean_squared_error: 0.0153 - mean_absolute_error: 0.0945 - val_loss: 0.0129 - val_mean_squared_error: 0.0125 - val_mean_absolute_error: 0.0846\n",
      "Epoch 6/6\n",
      "8000/8000 - 0s - loss: 0.0101 - mean_squared_error: 0.0097 - mean_absolute_error: 0.0747 - val_loss: 0.0088 - val_mean_squared_error: 0.0084 - val_mean_absolute_error: 0.0685\n"
     ]
    },
    {
     "data": {
      "text/html": [
       "<span style=\"color:#4527A0\"><h1 style=\"font-size:18px\">Trial complete</h1></span>"
      ],
      "text/plain": [
       "<IPython.core.display.HTML object>"
      ]
     },
     "metadata": {},
     "output_type": "display_data"
    },
    {
     "data": {
      "text/html": [
       "<span style=\"color:#4527A0\"><h1 style=\"font-size:18px\">Trial summary</h1></span>"
      ],
      "text/plain": [
       "<IPython.core.display.HTML object>"
      ]
     },
     "metadata": {},
     "output_type": "display_data"
    },
    {
     "data": {
      "text/html": [
       "<span style=\"color:cyan\"> |-Trial ID: 9dfeca9ec7a244bc7f535d1d5b995027</span>"
      ],
      "text/plain": [
       "<IPython.core.display.HTML object>"
      ]
     },
     "metadata": {},
     "output_type": "display_data"
    },
    {
     "data": {
      "text/html": [
       "<span style=\"color:cyan\"> |-Score: 0.008401582017540932</span>"
      ],
      "text/plain": [
       "<IPython.core.display.HTML object>"
      ]
     },
     "metadata": {},
     "output_type": "display_data"
    },
    {
     "data": {
      "text/html": [
       "<span style=\"color:cyan\"> |-Best step: 0</span>"
      ],
      "text/plain": [
       "<IPython.core.display.HTML object>"
      ]
     },
     "metadata": {},
     "output_type": "display_data"
    },
    {
     "data": {
      "text/html": [
       "<span style=\"color:#7E57C2\"><h2 style=\"font-size:16px\">Hyperparameters:</h2></span>"
      ],
      "text/plain": [
       "<IPython.core.display.HTML object>"
      ]
     },
     "metadata": {},
     "output_type": "display_data"
    },
    {
     "data": {
      "text/html": [
       "<span style=\"color:cyan\"> |-hidden_units: 38</span>"
      ],
      "text/plain": [
       "<IPython.core.display.HTML object>"
      ]
     },
     "metadata": {},
     "output_type": "display_data"
    },
    {
     "data": {
      "text/html": [
       "<span style=\"color:blue\"> |-learning_rate: 0.001</span>"
      ],
      "text/plain": [
       "<IPython.core.display.HTML object>"
      ]
     },
     "metadata": {},
     "output_type": "display_data"
    },
    {
     "data": {
      "text/html": [
       "<span style=\"color:cyan\"> |-tuner/bracket: 2</span>"
      ],
      "text/plain": [
       "<IPython.core.display.HTML object>"
      ]
     },
     "metadata": {},
     "output_type": "display_data"
    },
    {
     "data": {
      "text/html": [
       "<span style=\"color:blue\"> |-tuner/epochs: 6</span>"
      ],
      "text/plain": [
       "<IPython.core.display.HTML object>"
      ]
     },
     "metadata": {},
     "output_type": "display_data"
    },
    {
     "data": {
      "text/html": [
       "<span style=\"color:cyan\"> |-tuner/initial_epoch: 0</span>"
      ],
      "text/plain": [
       "<IPython.core.display.HTML object>"
      ]
     },
     "metadata": {},
     "output_type": "display_data"
    },
    {
     "data": {
      "text/html": [
       "<span style=\"color:blue\"> |-tuner/round: 0</span>"
      ],
      "text/plain": [
       "<IPython.core.display.HTML object>"
      ]
     },
     "metadata": {},
     "output_type": "display_data"
    },
    {
     "name": "stdout",
     "output_type": "stream",
     "text": [
      "Train on 8000 samples, validate on 2000 samples\n",
      "Epoch 1/6\n",
      "8000/8000 - 1s - loss: 0.0182 - mean_squared_error: 0.0177 - mean_absolute_error: 0.0747 - val_loss: 0.0012 - val_mean_squared_error: 6.0226e-04 - val_mean_absolute_error: 0.0196\n",
      "Epoch 2/6\n",
      "8000/8000 - 1s - loss: 0.0012 - mean_squared_error: 5.0174e-04 - mean_absolute_error: 0.0171 - val_loss: 0.0011 - val_mean_squared_error: 3.7234e-04 - val_mean_absolute_error: 0.0147\n",
      "Epoch 3/6\n",
      "8000/8000 - 1s - loss: 0.0013 - mean_squared_error: 5.8567e-04 - mean_absolute_error: 0.0156 - val_loss: 0.0010 - val_mean_squared_error: 2.8417e-04 - val_mean_absolute_error: 0.0126\n",
      "Epoch 4/6\n",
      "8000/8000 - 1s - loss: 0.0011 - mean_squared_error: 3.5392e-04 - mean_absolute_error: 0.0136 - val_loss: 0.0011 - val_mean_squared_error: 3.2307e-04 - val_mean_absolute_error: 0.0131\n",
      "Epoch 5/6\n",
      "8000/8000 - 1s - loss: 0.0014 - mean_squared_error: 6.4877e-04 - mean_absolute_error: 0.0164 - val_loss: 0.0022 - val_mean_squared_error: 0.0015 - val_mean_absolute_error: 0.0230\n",
      "Epoch 6/6\n",
      "8000/8000 - 1s - loss: 0.0014 - mean_squared_error: 6.3387e-04 - mean_absolute_error: 0.0166 - val_loss: 0.0015 - val_mean_squared_error: 7.5186e-04 - val_mean_absolute_error: 0.0172\n"
     ]
    },
    {
     "data": {
      "text/html": [
       "<span style=\"color:#4527A0\"><h1 style=\"font-size:18px\">Trial complete</h1></span>"
      ],
      "text/plain": [
       "<IPython.core.display.HTML object>"
      ]
     },
     "metadata": {},
     "output_type": "display_data"
    },
    {
     "data": {
      "text/html": [
       "<span style=\"color:#4527A0\"><h1 style=\"font-size:18px\">Trial summary</h1></span>"
      ],
      "text/plain": [
       "<IPython.core.display.HTML object>"
      ]
     },
     "metadata": {},
     "output_type": "display_data"
    },
    {
     "data": {
      "text/html": [
       "<span style=\"color:cyan\"> |-Trial ID: d95f87ac4b547086dec30fe42658e21a</span>"
      ],
      "text/plain": [
       "<IPython.core.display.HTML object>"
      ]
     },
     "metadata": {},
     "output_type": "display_data"
    },
    {
     "data": {
      "text/html": [
       "<span style=\"color:cyan\"> |-Score: 0.0002841664827428758</span>"
      ],
      "text/plain": [
       "<IPython.core.display.HTML object>"
      ]
     },
     "metadata": {},
     "output_type": "display_data"
    },
    {
     "data": {
      "text/html": [
       "<span style=\"color:cyan\"> |-Best step: 0</span>"
      ],
      "text/plain": [
       "<IPython.core.display.HTML object>"
      ]
     },
     "metadata": {},
     "output_type": "display_data"
    },
    {
     "data": {
      "text/html": [
       "<span style=\"color:#7E57C2\"><h2 style=\"font-size:16px\">Hyperparameters:</h2></span>"
      ],
      "text/plain": [
       "<IPython.core.display.HTML object>"
      ]
     },
     "metadata": {},
     "output_type": "display_data"
    },
    {
     "data": {
      "text/html": [
       "<span style=\"color:cyan\"> |-hidden_units: 116</span>"
      ],
      "text/plain": [
       "<IPython.core.display.HTML object>"
      ]
     },
     "metadata": {},
     "output_type": "display_data"
    },
    {
     "data": {
      "text/html": [
       "<span style=\"color:blue\"> |-learning_rate: 0.01</span>"
      ],
      "text/plain": [
       "<IPython.core.display.HTML object>"
      ]
     },
     "metadata": {},
     "output_type": "display_data"
    },
    {
     "data": {
      "text/html": [
       "<span style=\"color:cyan\"> |-tuner/bracket: 2</span>"
      ],
      "text/plain": [
       "<IPython.core.display.HTML object>"
      ]
     },
     "metadata": {},
     "output_type": "display_data"
    },
    {
     "data": {
      "text/html": [
       "<span style=\"color:blue\"> |-tuner/epochs: 6</span>"
      ],
      "text/plain": [
       "<IPython.core.display.HTML object>"
      ]
     },
     "metadata": {},
     "output_type": "display_data"
    },
    {
     "data": {
      "text/html": [
       "<span style=\"color:cyan\"> |-tuner/initial_epoch: 0</span>"
      ],
      "text/plain": [
       "<IPython.core.display.HTML object>"
      ]
     },
     "metadata": {},
     "output_type": "display_data"
    },
    {
     "data": {
      "text/html": [
       "<span style=\"color:blue\"> |-tuner/round: 0</span>"
      ],
      "text/plain": [
       "<IPython.core.display.HTML object>"
      ]
     },
     "metadata": {},
     "output_type": "display_data"
    },
    {
     "name": "stdout",
     "output_type": "stream",
     "text": [
      "Train on 8000 samples, validate on 2000 samples\n",
      "Epoch 1/6\n",
      "8000/8000 - 1s - loss: 0.0170 - mean_squared_error: 0.0166 - mean_absolute_error: 0.0711 - val_loss: 0.0012 - val_mean_squared_error: 5.9490e-04 - val_mean_absolute_error: 0.0193\n",
      "Epoch 2/6\n",
      "8000/8000 - 1s - loss: 0.0012 - mean_squared_error: 4.9138e-04 - mean_absolute_error: 0.0167 - val_loss: 0.0010 - val_mean_squared_error: 3.3027e-04 - val_mean_absolute_error: 0.0137\n",
      "Epoch 3/6\n",
      "8000/8000 - 1s - loss: 0.0011 - mean_squared_error: 3.4275e-04 - mean_absolute_error: 0.0137 - val_loss: 0.0013 - val_mean_squared_error: 5.3420e-04 - val_mean_absolute_error: 0.0158\n",
      "Epoch 4/6\n",
      "8000/8000 - 1s - loss: 0.0013 - mean_squared_error: 6.1350e-04 - mean_absolute_error: 0.0163 - val_loss: 0.0012 - val_mean_squared_error: 4.7857e-04 - val_mean_absolute_error: 0.0151\n",
      "Epoch 5/6\n",
      "8000/8000 - 1s - loss: 0.0014 - mean_squared_error: 6.6426e-04 - mean_absolute_error: 0.0168 - val_loss: 0.0024 - val_mean_squared_error: 0.0017 - val_mean_absolute_error: 0.0240\n",
      "Epoch 6/6\n",
      "8000/8000 - 1s - loss: 0.0013 - mean_squared_error: 6.0408e-04 - mean_absolute_error: 0.0162 - val_loss: 0.0013 - val_mean_squared_error: 5.7597e-04 - val_mean_absolute_error: 0.0160\n"
     ]
    },
    {
     "data": {
      "text/html": [
       "<span style=\"color:#4527A0\"><h1 style=\"font-size:18px\">Trial complete</h1></span>"
      ],
      "text/plain": [
       "<IPython.core.display.HTML object>"
      ]
     },
     "metadata": {},
     "output_type": "display_data"
    },
    {
     "data": {
      "text/html": [
       "<span style=\"color:#4527A0\"><h1 style=\"font-size:18px\">Trial summary</h1></span>"
      ],
      "text/plain": [
       "<IPython.core.display.HTML object>"
      ]
     },
     "metadata": {},
     "output_type": "display_data"
    },
    {
     "data": {
      "text/html": [
       "<span style=\"color:cyan\"> |-Trial ID: 804a2741b32f88e6a9000d33d22dab0a</span>"
      ],
      "text/plain": [
       "<IPython.core.display.HTML object>"
      ]
     },
     "metadata": {},
     "output_type": "display_data"
    },
    {
     "data": {
      "text/html": [
       "<span style=\"color:cyan\"> |-Score: 0.00033027195604518056</span>"
      ],
      "text/plain": [
       "<IPython.core.display.HTML object>"
      ]
     },
     "metadata": {},
     "output_type": "display_data"
    },
    {
     "data": {
      "text/html": [
       "<span style=\"color:cyan\"> |-Best step: 0</span>"
      ],
      "text/plain": [
       "<IPython.core.display.HTML object>"
      ]
     },
     "metadata": {},
     "output_type": "display_data"
    },
    {
     "data": {
      "text/html": [
       "<span style=\"color:#7E57C2\"><h2 style=\"font-size:16px\">Hyperparameters:</h2></span>"
      ],
      "text/plain": [
       "<IPython.core.display.HTML object>"
      ]
     },
     "metadata": {},
     "output_type": "display_data"
    },
    {
     "data": {
      "text/html": [
       "<span style=\"color:cyan\"> |-hidden_units: 122</span>"
      ],
      "text/plain": [
       "<IPython.core.display.HTML object>"
      ]
     },
     "metadata": {},
     "output_type": "display_data"
    },
    {
     "data": {
      "text/html": [
       "<span style=\"color:blue\"> |-learning_rate: 0.01</span>"
      ],
      "text/plain": [
       "<IPython.core.display.HTML object>"
      ]
     },
     "metadata": {},
     "output_type": "display_data"
    },
    {
     "data": {
      "text/html": [
       "<span style=\"color:cyan\"> |-tuner/bracket: 2</span>"
      ],
      "text/plain": [
       "<IPython.core.display.HTML object>"
      ]
     },
     "metadata": {},
     "output_type": "display_data"
    },
    {
     "data": {
      "text/html": [
       "<span style=\"color:blue\"> |-tuner/epochs: 6</span>"
      ],
      "text/plain": [
       "<IPython.core.display.HTML object>"
      ]
     },
     "metadata": {},
     "output_type": "display_data"
    },
    {
     "data": {
      "text/html": [
       "<span style=\"color:cyan\"> |-tuner/initial_epoch: 0</span>"
      ],
      "text/plain": [
       "<IPython.core.display.HTML object>"
      ]
     },
     "metadata": {},
     "output_type": "display_data"
    },
    {
     "data": {
      "text/html": [
       "<span style=\"color:blue\"> |-tuner/round: 0</span>"
      ],
      "text/plain": [
       "<IPython.core.display.HTML object>"
      ]
     },
     "metadata": {},
     "output_type": "display_data"
    },
    {
     "name": "stdout",
     "output_type": "stream",
     "text": [
      "Train on 8000 samples, validate on 2000 samples\n",
      "Epoch 1/6\n",
      "8000/8000 - 1s - loss: 0.0254 - mean_squared_error: 0.0250 - mean_absolute_error: 0.0964 - val_loss: 0.0015 - val_mean_squared_error: 9.6497e-04 - val_mean_absolute_error: 0.0251\n",
      "Epoch 2/6\n",
      "8000/8000 - 1s - loss: 0.0012 - mean_squared_error: 5.9237e-04 - mean_absolute_error: 0.0191 - val_loss: 0.0012 - val_mean_squared_error: 4.7614e-04 - val_mean_absolute_error: 0.0172\n",
      "Epoch 3/6\n",
      "8000/8000 - 1s - loss: 0.0010 - mean_squared_error: 3.1607e-04 - mean_absolute_error: 0.0137 - val_loss: 9.7630e-04 - val_mean_squared_error: 2.4190e-04 - val_mean_absolute_error: 0.0118\n",
      "Epoch 4/6\n",
      "8000/8000 - 1s - loss: 0.0010 - mean_squared_error: 2.9668e-04 - mean_absolute_error: 0.0128 - val_loss: 0.0011 - val_mean_squared_error: 3.1588e-04 - val_mean_absolute_error: 0.0131\n",
      "Epoch 5/6\n",
      "8000/8000 - 1s - loss: 0.0013 - mean_squared_error: 5.1955e-04 - mean_absolute_error: 0.0152 - val_loss: 0.0016 - val_mean_squared_error: 8.5295e-04 - val_mean_absolute_error: 0.0192\n",
      "Epoch 6/6\n",
      "8000/8000 - 1s - loss: 0.0012 - mean_squared_error: 4.4311e-04 - mean_absolute_error: 0.0145 - val_loss: 0.0014 - val_mean_squared_error: 7.0472e-04 - val_mean_absolute_error: 0.0168\n"
     ]
    },
    {
     "data": {
      "text/html": [
       "<span style=\"color:#4527A0\"><h1 style=\"font-size:18px\">Trial complete</h1></span>"
      ],
      "text/plain": [
       "<IPython.core.display.HTML object>"
      ]
     },
     "metadata": {},
     "output_type": "display_data"
    },
    {
     "data": {
      "text/html": [
       "<span style=\"color:#4527A0\"><h1 style=\"font-size:18px\">Trial summary</h1></span>"
      ],
      "text/plain": [
       "<IPython.core.display.HTML object>"
      ]
     },
     "metadata": {},
     "output_type": "display_data"
    },
    {
     "data": {
      "text/html": [
       "<span style=\"color:cyan\"> |-Trial ID: 0f174c80198d0f1c7764b71adfb09bb3</span>"
      ],
      "text/plain": [
       "<IPython.core.display.HTML object>"
      ]
     },
     "metadata": {},
     "output_type": "display_data"
    },
    {
     "data": {
      "text/html": [
       "<span style=\"color:cyan\"> |-Score: 0.00024189687974285334</span>"
      ],
      "text/plain": [
       "<IPython.core.display.HTML object>"
      ]
     },
     "metadata": {},
     "output_type": "display_data"
    },
    {
     "data": {
      "text/html": [
       "<span style=\"color:cyan\"> |-Best step: 0</span>"
      ],
      "text/plain": [
       "<IPython.core.display.HTML object>"
      ]
     },
     "metadata": {},
     "output_type": "display_data"
    },
    {
     "data": {
      "text/html": [
       "<span style=\"color:#7E57C2\"><h2 style=\"font-size:16px\">Hyperparameters:</h2></span>"
      ],
      "text/plain": [
       "<IPython.core.display.HTML object>"
      ]
     },
     "metadata": {},
     "output_type": "display_data"
    },
    {
     "data": {
      "text/html": [
       "<span style=\"color:cyan\"> |-hidden_units: 72</span>"
      ],
      "text/plain": [
       "<IPython.core.display.HTML object>"
      ]
     },
     "metadata": {},
     "output_type": "display_data"
    },
    {
     "data": {
      "text/html": [
       "<span style=\"color:blue\"> |-learning_rate: 0.01</span>"
      ],
      "text/plain": [
       "<IPython.core.display.HTML object>"
      ]
     },
     "metadata": {},
     "output_type": "display_data"
    },
    {
     "data": {
      "text/html": [
       "<span style=\"color:cyan\"> |-tuner/bracket: 2</span>"
      ],
      "text/plain": [
       "<IPython.core.display.HTML object>"
      ]
     },
     "metadata": {},
     "output_type": "display_data"
    },
    {
     "data": {
      "text/html": [
       "<span style=\"color:blue\"> |-tuner/epochs: 6</span>"
      ],
      "text/plain": [
       "<IPython.core.display.HTML object>"
      ]
     },
     "metadata": {},
     "output_type": "display_data"
    },
    {
     "data": {
      "text/html": [
       "<span style=\"color:cyan\"> |-tuner/initial_epoch: 0</span>"
      ],
      "text/plain": [
       "<IPython.core.display.HTML object>"
      ]
     },
     "metadata": {},
     "output_type": "display_data"
    },
    {
     "data": {
      "text/html": [
       "<span style=\"color:blue\"> |-tuner/round: 0</span>"
      ],
      "text/plain": [
       "<IPython.core.display.HTML object>"
      ]
     },
     "metadata": {},
     "output_type": "display_data"
    },
    {
     "name": "stdout",
     "output_type": "stream",
     "text": [
      "Train on 8000 samples, validate on 2000 samples\n",
      "Epoch 1/6\n",
      "8000/8000 - 1s - loss: 0.0347 - mean_squared_error: 0.0343 - mean_absolute_error: 0.1219 - val_loss: 0.0025 - val_mean_squared_error: 0.0019 - val_mean_absolute_error: 0.0339\n",
      "Epoch 2/6\n",
      "8000/8000 - 1s - loss: 0.0016 - mean_squared_error: 0.0010 - mean_absolute_error: 0.0244 - val_loss: 0.0013 - val_mean_squared_error: 6.6596e-04 - val_mean_absolute_error: 0.0203\n",
      "Epoch 3/6\n",
      "8000/8000 - 1s - loss: 0.0011 - mean_squared_error: 3.8041e-04 - mean_absolute_error: 0.0152 - val_loss: 0.0010 - val_mean_squared_error: 3.1366e-04 - val_mean_absolute_error: 0.0137\n",
      "Epoch 4/6\n",
      "8000/8000 - 1s - loss: 0.0010 - mean_squared_error: 2.8361e-04 - mean_absolute_error: 0.0127 - val_loss: 0.0010 - val_mean_squared_error: 3.0316e-04 - val_mean_absolute_error: 0.0132\n",
      "Epoch 5/6\n",
      "8000/8000 - 0s - loss: 0.0011 - mean_squared_error: 3.3898e-04 - mean_absolute_error: 0.0132 - val_loss: 0.0010 - val_mean_squared_error: 2.9717e-04 - val_mean_absolute_error: 0.0129\n",
      "Epoch 6/6\n",
      "8000/8000 - 0s - loss: 0.0012 - mean_squared_error: 4.1671e-04 - mean_absolute_error: 0.0141 - val_loss: 0.0015 - val_mean_squared_error: 7.5702e-04 - val_mean_absolute_error: 0.0180\n"
     ]
    },
    {
     "data": {
      "text/html": [
       "<span style=\"color:#4527A0\"><h1 style=\"font-size:18px\">Trial complete</h1></span>"
      ],
      "text/plain": [
       "<IPython.core.display.HTML object>"
      ]
     },
     "metadata": {},
     "output_type": "display_data"
    },
    {
     "data": {
      "text/html": [
       "<span style=\"color:#4527A0\"><h1 style=\"font-size:18px\">Trial summary</h1></span>"
      ],
      "text/plain": [
       "<IPython.core.display.HTML object>"
      ]
     },
     "metadata": {},
     "output_type": "display_data"
    },
    {
     "data": {
      "text/html": [
       "<span style=\"color:cyan\"> |-Trial ID: d09de26f627d9831a73248b2fa43ec38</span>"
      ],
      "text/plain": [
       "<IPython.core.display.HTML object>"
      ]
     },
     "metadata": {},
     "output_type": "display_data"
    },
    {
     "data": {
      "text/html": [
       "<span style=\"color:cyan\"> |-Score: 0.00029717080178670585</span>"
      ],
      "text/plain": [
       "<IPython.core.display.HTML object>"
      ]
     },
     "metadata": {},
     "output_type": "display_data"
    },
    {
     "data": {
      "text/html": [
       "<span style=\"color:cyan\"> |-Best step: 0</span>"
      ],
      "text/plain": [
       "<IPython.core.display.HTML object>"
      ]
     },
     "metadata": {},
     "output_type": "display_data"
    },
    {
     "data": {
      "text/html": [
       "<span style=\"color:#7E57C2\"><h2 style=\"font-size:16px\">Hyperparameters:</h2></span>"
      ],
      "text/plain": [
       "<IPython.core.display.HTML object>"
      ]
     },
     "metadata": {},
     "output_type": "display_data"
    },
    {
     "data": {
      "text/html": [
       "<span style=\"color:cyan\"> |-hidden_units: 46</span>"
      ],
      "text/plain": [
       "<IPython.core.display.HTML object>"
      ]
     },
     "metadata": {},
     "output_type": "display_data"
    },
    {
     "data": {
      "text/html": [
       "<span style=\"color:blue\"> |-learning_rate: 0.01</span>"
      ],
      "text/plain": [
       "<IPython.core.display.HTML object>"
      ]
     },
     "metadata": {},
     "output_type": "display_data"
    },
    {
     "data": {
      "text/html": [
       "<span style=\"color:cyan\"> |-tuner/bracket: 2</span>"
      ],
      "text/plain": [
       "<IPython.core.display.HTML object>"
      ]
     },
     "metadata": {},
     "output_type": "display_data"
    },
    {
     "data": {
      "text/html": [
       "<span style=\"color:blue\"> |-tuner/epochs: 6</span>"
      ],
      "text/plain": [
       "<IPython.core.display.HTML object>"
      ]
     },
     "metadata": {},
     "output_type": "display_data"
    },
    {
     "data": {
      "text/html": [
       "<span style=\"color:cyan\"> |-tuner/initial_epoch: 0</span>"
      ],
      "text/plain": [
       "<IPython.core.display.HTML object>"
      ]
     },
     "metadata": {},
     "output_type": "display_data"
    },
    {
     "data": {
      "text/html": [
       "<span style=\"color:blue\"> |-tuner/round: 0</span>"
      ],
      "text/plain": [
       "<IPython.core.display.HTML object>"
      ]
     },
     "metadata": {},
     "output_type": "display_data"
    },
    {
     "name": "stdout",
     "output_type": "stream",
     "text": [
      "Train on 8000 samples, validate on 2000 samples\n",
      "Epoch 1/6\n",
      "8000/8000 - 1s - loss: 0.2093 - mean_squared_error: 0.2092 - mean_absolute_error: 0.4314 - val_loss: 0.1953 - val_mean_squared_error: 0.1952 - val_mean_absolute_error: 0.4126\n",
      "Epoch 2/6\n",
      "8000/8000 - 1s - loss: 0.1845 - mean_squared_error: 0.1844 - mean_absolute_error: 0.4004 - val_loss: 0.1748 - val_mean_squared_error: 0.1747 - val_mean_absolute_error: 0.3879\n",
      "Epoch 3/6\n",
      "8000/8000 - 1s - loss: 0.1640 - mean_squared_error: 0.1639 - mean_absolute_error: 0.3768 - val_loss: 0.1541 - val_mean_squared_error: 0.1540 - val_mean_absolute_error: 0.3647\n",
      "Epoch 4/6\n",
      "8000/8000 - 1s - loss: 0.1434 - mean_squared_error: 0.1433 - mean_absolute_error: 0.3522 - val_loss: 0.1336 - val_mean_squared_error: 0.1335 - val_mean_absolute_error: 0.3391\n",
      "Epoch 5/6\n",
      "8000/8000 - 1s - loss: 0.1233 - mean_squared_error: 0.1232 - mean_absolute_error: 0.3260 - val_loss: 0.1144 - val_mean_squared_error: 0.1143 - val_mean_absolute_error: 0.3122\n",
      "Epoch 6/6\n",
      "8000/8000 - 1s - loss: 0.1051 - mean_squared_error: 0.1050 - mean_absolute_error: 0.2993 - val_loss: 0.0976 - val_mean_squared_error: 0.0974 - val_mean_absolute_error: 0.2869\n"
     ]
    },
    {
     "data": {
      "text/html": [
       "<span style=\"color:#4527A0\"><h1 style=\"font-size:18px\">Trial complete</h1></span>"
      ],
      "text/plain": [
       "<IPython.core.display.HTML object>"
      ]
     },
     "metadata": {},
     "output_type": "display_data"
    },
    {
     "data": {
      "text/html": [
       "<span style=\"color:#4527A0\"><h1 style=\"font-size:18px\">Trial summary</h1></span>"
      ],
      "text/plain": [
       "<IPython.core.display.HTML object>"
      ]
     },
     "metadata": {},
     "output_type": "display_data"
    },
    {
     "data": {
      "text/html": [
       "<span style=\"color:cyan\"> |-Trial ID: 41673e962e0c04c4bf7c53b4e356691e</span>"
      ],
      "text/plain": [
       "<IPython.core.display.HTML object>"
      ]
     },
     "metadata": {},
     "output_type": "display_data"
    },
    {
     "data": {
      "text/html": [
       "<span style=\"color:cyan\"> |-Score: 0.09743187576532364</span>"
      ],
      "text/plain": [
       "<IPython.core.display.HTML object>"
      ]
     },
     "metadata": {},
     "output_type": "display_data"
    },
    {
     "data": {
      "text/html": [
       "<span style=\"color:cyan\"> |-Best step: 0</span>"
      ],
      "text/plain": [
       "<IPython.core.display.HTML object>"
      ]
     },
     "metadata": {},
     "output_type": "display_data"
    },
    {
     "data": {
      "text/html": [
       "<span style=\"color:#7E57C2\"><h2 style=\"font-size:16px\">Hyperparameters:</h2></span>"
      ],
      "text/plain": [
       "<IPython.core.display.HTML object>"
      ]
     },
     "metadata": {},
     "output_type": "display_data"
    },
    {
     "data": {
      "text/html": [
       "<span style=\"color:cyan\"> |-hidden_units: 92</span>"
      ],
      "text/plain": [
       "<IPython.core.display.HTML object>"
      ]
     },
     "metadata": {},
     "output_type": "display_data"
    },
    {
     "data": {
      "text/html": [
       "<span style=\"color:blue\"> |-learning_rate: 0.0001</span>"
      ],
      "text/plain": [
       "<IPython.core.display.HTML object>"
      ]
     },
     "metadata": {},
     "output_type": "display_data"
    },
    {
     "data": {
      "text/html": [
       "<span style=\"color:cyan\"> |-tuner/bracket: 2</span>"
      ],
      "text/plain": [
       "<IPython.core.display.HTML object>"
      ]
     },
     "metadata": {},
     "output_type": "display_data"
    },
    {
     "data": {
      "text/html": [
       "<span style=\"color:blue\"> |-tuner/epochs: 6</span>"
      ],
      "text/plain": [
       "<IPython.core.display.HTML object>"
      ]
     },
     "metadata": {},
     "output_type": "display_data"
    },
    {
     "data": {
      "text/html": [
       "<span style=\"color:cyan\"> |-tuner/initial_epoch: 0</span>"
      ],
      "text/plain": [
       "<IPython.core.display.HTML object>"
      ]
     },
     "metadata": {},
     "output_type": "display_data"
    },
    {
     "data": {
      "text/html": [
       "<span style=\"color:blue\"> |-tuner/round: 0</span>"
      ],
      "text/plain": [
       "<IPython.core.display.HTML object>"
      ]
     },
     "metadata": {},
     "output_type": "display_data"
    },
    {
     "name": "stdout",
     "output_type": "stream",
     "text": [
      "Train on 8000 samples, validate on 2000 samples\n",
      "Epoch 1/6\n",
      "8000/8000 - 1s - loss: 0.0265 - mean_squared_error: 0.0261 - mean_absolute_error: 0.1002 - val_loss: 0.0016 - val_mean_squared_error: 0.0011 - val_mean_absolute_error: 0.0264\n",
      "Epoch 2/6\n",
      "8000/8000 - 1s - loss: 0.0013 - mean_squared_error: 6.6638e-04 - mean_absolute_error: 0.0203 - val_loss: 0.0011 - val_mean_squared_error: 3.9161e-04 - val_mean_absolute_error: 0.0154\n",
      "Epoch 3/6\n",
      "8000/8000 - 1s - loss: 0.0011 - mean_squared_error: 4.2685e-04 - mean_absolute_error: 0.0154 - val_loss: 9.9551e-04 - val_mean_squared_error: 2.6996e-04 - val_mean_absolute_error: 0.0125\n",
      "Epoch 4/6\n",
      "8000/8000 - 1s - loss: 0.0010 - mean_squared_error: 2.7522e-04 - mean_absolute_error: 0.0126 - val_loss: 9.9906e-04 - val_mean_squared_error: 2.5522e-04 - val_mean_absolute_error: 0.0120\n",
      "Epoch 5/6\n",
      "8000/8000 - 1s - loss: 0.0011 - mean_squared_error: 3.1829e-04 - mean_absolute_error: 0.0130 - val_loss: 0.0011 - val_mean_squared_error: 3.0923e-04 - val_mean_absolute_error: 0.0128\n",
      "Epoch 6/6\n",
      "8000/8000 - 1s - loss: 0.0013 - mean_squared_error: 5.4521e-04 - mean_absolute_error: 0.0153 - val_loss: 0.0014 - val_mean_squared_error: 6.5499e-04 - val_mean_absolute_error: 0.0165\n"
     ]
    },
    {
     "data": {
      "text/html": [
       "<span style=\"color:#4527A0\"><h1 style=\"font-size:18px\">Trial complete</h1></span>"
      ],
      "text/plain": [
       "<IPython.core.display.HTML object>"
      ]
     },
     "metadata": {},
     "output_type": "display_data"
    },
    {
     "data": {
      "text/html": [
       "<span style=\"color:#4527A0\"><h1 style=\"font-size:18px\">Trial summary</h1></span>"
      ],
      "text/plain": [
       "<IPython.core.display.HTML object>"
      ]
     },
     "metadata": {},
     "output_type": "display_data"
    },
    {
     "data": {
      "text/html": [
       "<span style=\"color:cyan\"> |-Trial ID: 7aed1875e62110c3623393293768ddad</span>"
      ],
      "text/plain": [
       "<IPython.core.display.HTML object>"
      ]
     },
     "metadata": {},
     "output_type": "display_data"
    },
    {
     "data": {
      "text/html": [
       "<span style=\"color:cyan\"> |-Score: 0.0002552164951339364</span>"
      ],
      "text/plain": [
       "<IPython.core.display.HTML object>"
      ]
     },
     "metadata": {},
     "output_type": "display_data"
    },
    {
     "data": {
      "text/html": [
       "<span style=\"color:cyan\"> |-Best step: 0</span>"
      ],
      "text/plain": [
       "<IPython.core.display.HTML object>"
      ]
     },
     "metadata": {},
     "output_type": "display_data"
    },
    {
     "data": {
      "text/html": [
       "<span style=\"color:#7E57C2\"><h2 style=\"font-size:16px\">Hyperparameters:</h2></span>"
      ],
      "text/plain": [
       "<IPython.core.display.HTML object>"
      ]
     },
     "metadata": {},
     "output_type": "display_data"
    },
    {
     "data": {
      "text/html": [
       "<span style=\"color:cyan\"> |-hidden_units: 68</span>"
      ],
      "text/plain": [
       "<IPython.core.display.HTML object>"
      ]
     },
     "metadata": {},
     "output_type": "display_data"
    },
    {
     "data": {
      "text/html": [
       "<span style=\"color:blue\"> |-learning_rate: 0.01</span>"
      ],
      "text/plain": [
       "<IPython.core.display.HTML object>"
      ]
     },
     "metadata": {},
     "output_type": "display_data"
    },
    {
     "data": {
      "text/html": [
       "<span style=\"color:cyan\"> |-tuner/bracket: 2</span>"
      ],
      "text/plain": [
       "<IPython.core.display.HTML object>"
      ]
     },
     "metadata": {},
     "output_type": "display_data"
    },
    {
     "data": {
      "text/html": [
       "<span style=\"color:blue\"> |-tuner/epochs: 6</span>"
      ],
      "text/plain": [
       "<IPython.core.display.HTML object>"
      ]
     },
     "metadata": {},
     "output_type": "display_data"
    },
    {
     "data": {
      "text/html": [
       "<span style=\"color:cyan\"> |-tuner/initial_epoch: 0</span>"
      ],
      "text/plain": [
       "<IPython.core.display.HTML object>"
      ]
     },
     "metadata": {},
     "output_type": "display_data"
    },
    {
     "data": {
      "text/html": [
       "<span style=\"color:blue\"> |-tuner/round: 0</span>"
      ],
      "text/plain": [
       "<IPython.core.display.HTML object>"
      ]
     },
     "metadata": {},
     "output_type": "display_data"
    },
    {
     "name": "stdout",
     "output_type": "stream",
     "text": [
      "Train on 8000 samples, validate on 2000 samples\n",
      "Epoch 1/6\n",
      "8000/8000 - 1s - loss: 0.1379 - mean_squared_error: 0.1378 - mean_absolute_error: 0.3374 - val_loss: 0.0763 - val_mean_squared_error: 0.0761 - val_mean_absolute_error: 0.2436\n",
      "Epoch 2/6\n",
      "8000/8000 - 1s - loss: 0.0463 - mean_squared_error: 0.0461 - mean_absolute_error: 0.1832 - val_loss: 0.0256 - val_mean_squared_error: 0.0253 - val_mean_absolute_error: 0.1358\n",
      "Epoch 3/6\n",
      "8000/8000 - 1s - loss: 0.0150 - mean_squared_error: 0.0147 - mean_absolute_error: 0.1037 - val_loss: 0.0089 - val_mean_squared_error: 0.0085 - val_mean_absolute_error: 0.0806\n",
      "Epoch 4/6\n",
      "8000/8000 - 1s - loss: 0.0063 - mean_squared_error: 0.0059 - mean_absolute_error: 0.0672 - val_loss: 0.0047 - val_mean_squared_error: 0.0043 - val_mean_absolute_error: 0.0567\n",
      "Epoch 5/6\n",
      "8000/8000 - 1s - loss: 0.0037 - mean_squared_error: 0.0033 - mean_absolute_error: 0.0500 - val_loss: 0.0031 - val_mean_squared_error: 0.0026 - val_mean_absolute_error: 0.0443\n",
      "Epoch 6/6\n",
      "8000/8000 - 1s - loss: 0.0027 - mean_squared_error: 0.0022 - mean_absolute_error: 0.0401 - val_loss: 0.0023 - val_mean_squared_error: 0.0018 - val_mean_absolute_error: 0.0361\n"
     ]
    },
    {
     "data": {
      "text/html": [
       "<span style=\"color:#4527A0\"><h1 style=\"font-size:18px\">Trial complete</h1></span>"
      ],
      "text/plain": [
       "<IPython.core.display.HTML object>"
      ]
     },
     "metadata": {},
     "output_type": "display_data"
    },
    {
     "data": {
      "text/html": [
       "<span style=\"color:#4527A0\"><h1 style=\"font-size:18px\">Trial summary</h1></span>"
      ],
      "text/plain": [
       "<IPython.core.display.HTML object>"
      ]
     },
     "metadata": {},
     "output_type": "display_data"
    },
    {
     "data": {
      "text/html": [
       "<span style=\"color:cyan\"> |-Trial ID: 9978426f7526c6767546257f7af269ec</span>"
      ],
      "text/plain": [
       "<IPython.core.display.HTML object>"
      ]
     },
     "metadata": {},
     "output_type": "display_data"
    },
    {
     "data": {
      "text/html": [
       "<span style=\"color:cyan\"> |-Score: 0.001829291693866253</span>"
      ],
      "text/plain": [
       "<IPython.core.display.HTML object>"
      ]
     },
     "metadata": {},
     "output_type": "display_data"
    },
    {
     "data": {
      "text/html": [
       "<span style=\"color:cyan\"> |-Best step: 0</span>"
      ],
      "text/plain": [
       "<IPython.core.display.HTML object>"
      ]
     },
     "metadata": {},
     "output_type": "display_data"
    },
    {
     "data": {
      "text/html": [
       "<span style=\"color:#7E57C2\"><h2 style=\"font-size:16px\">Hyperparameters:</h2></span>"
      ],
      "text/plain": [
       "<IPython.core.display.HTML object>"
      ]
     },
     "metadata": {},
     "output_type": "display_data"
    },
    {
     "data": {
      "text/html": [
       "<span style=\"color:cyan\"> |-hidden_units: 66</span>"
      ],
      "text/plain": [
       "<IPython.core.display.HTML object>"
      ]
     },
     "metadata": {},
     "output_type": "display_data"
    },
    {
     "data": {
      "text/html": [
       "<span style=\"color:blue\"> |-learning_rate: 0.001</span>"
      ],
      "text/plain": [
       "<IPython.core.display.HTML object>"
      ]
     },
     "metadata": {},
     "output_type": "display_data"
    },
    {
     "data": {
      "text/html": [
       "<span style=\"color:cyan\"> |-tuner/bracket: 2</span>"
      ],
      "text/plain": [
       "<IPython.core.display.HTML object>"
      ]
     },
     "metadata": {},
     "output_type": "display_data"
    },
    {
     "data": {
      "text/html": [
       "<span style=\"color:blue\"> |-tuner/epochs: 6</span>"
      ],
      "text/plain": [
       "<IPython.core.display.HTML object>"
      ]
     },
     "metadata": {},
     "output_type": "display_data"
    },
    {
     "data": {
      "text/html": [
       "<span style=\"color:cyan\"> |-tuner/initial_epoch: 0</span>"
      ],
      "text/plain": [
       "<IPython.core.display.HTML object>"
      ]
     },
     "metadata": {},
     "output_type": "display_data"
    },
    {
     "data": {
      "text/html": [
       "<span style=\"color:blue\"> |-tuner/round: 0</span>"
      ],
      "text/plain": [
       "<IPython.core.display.HTML object>"
      ]
     },
     "metadata": {},
     "output_type": "display_data"
    },
    {
     "name": "stdout",
     "output_type": "stream",
     "text": [
      "Train on 8000 samples, validate on 2000 samples\n",
      "Epoch 1/6\n",
      "8000/8000 - 1s - loss: 0.2173 - mean_squared_error: 0.2173 - mean_absolute_error: 0.4387 - val_loss: 0.2041 - val_mean_squared_error: 0.2041 - val_mean_absolute_error: 0.4253\n",
      "Epoch 2/6\n",
      "8000/8000 - 1s - loss: 0.1960 - mean_squared_error: 0.1960 - mean_absolute_error: 0.4158 - val_loss: 0.1895 - val_mean_squared_error: 0.1894 - val_mean_absolute_error: 0.4063\n",
      "Epoch 3/6\n",
      "8000/8000 - 1s - loss: 0.1828 - mean_squared_error: 0.1827 - mean_absolute_error: 0.3987 - val_loss: 0.1772 - val_mean_squared_error: 0.1771 - val_mean_absolute_error: 0.3914\n",
      "Epoch 4/6\n",
      "8000/8000 - 0s - loss: 0.1707 - mean_squared_error: 0.1706 - mean_absolute_error: 0.3841 - val_loss: 0.1652 - val_mean_squared_error: 0.1651 - val_mean_absolute_error: 0.3768\n",
      "Epoch 5/6\n",
      "8000/8000 - 0s - loss: 0.1587 - mean_squared_error: 0.1586 - mean_absolute_error: 0.3697 - val_loss: 0.1533 - val_mean_squared_error: 0.1532 - val_mean_absolute_error: 0.3619\n",
      "Epoch 6/6\n",
      "8000/8000 - 1s - loss: 0.1468 - mean_squared_error: 0.1467 - mean_absolute_error: 0.3546 - val_loss: 0.1415 - val_mean_squared_error: 0.1414 - val_mean_absolute_error: 0.3471\n"
     ]
    },
    {
     "data": {
      "text/html": [
       "<span style=\"color:#4527A0\"><h1 style=\"font-size:18px\">Trial complete</h1></span>"
      ],
      "text/plain": [
       "<IPython.core.display.HTML object>"
      ]
     },
     "metadata": {},
     "output_type": "display_data"
    },
    {
     "data": {
      "text/html": [
       "<span style=\"color:#4527A0\"><h1 style=\"font-size:18px\">Trial summary</h1></span>"
      ],
      "text/plain": [
       "<IPython.core.display.HTML object>"
      ]
     },
     "metadata": {},
     "output_type": "display_data"
    },
    {
     "data": {
      "text/html": [
       "<span style=\"color:cyan\"> |-Trial ID: cb4a07f6560923b1d40a965da948145d</span>"
      ],
      "text/plain": [
       "<IPython.core.display.HTML object>"
      ]
     },
     "metadata": {},
     "output_type": "display_data"
    },
    {
     "data": {
      "text/html": [
       "<span style=\"color:cyan\"> |-Score: 0.14143911004066467</span>"
      ],
      "text/plain": [
       "<IPython.core.display.HTML object>"
      ]
     },
     "metadata": {},
     "output_type": "display_data"
    },
    {
     "data": {
      "text/html": [
       "<span style=\"color:cyan\"> |-Best step: 0</span>"
      ],
      "text/plain": [
       "<IPython.core.display.HTML object>"
      ]
     },
     "metadata": {},
     "output_type": "display_data"
    },
    {
     "data": {
      "text/html": [
       "<span style=\"color:#7E57C2\"><h2 style=\"font-size:16px\">Hyperparameters:</h2></span>"
      ],
      "text/plain": [
       "<IPython.core.display.HTML object>"
      ]
     },
     "metadata": {},
     "output_type": "display_data"
    },
    {
     "data": {
      "text/html": [
       "<span style=\"color:cyan\"> |-hidden_units: 38</span>"
      ],
      "text/plain": [
       "<IPython.core.display.HTML object>"
      ]
     },
     "metadata": {},
     "output_type": "display_data"
    },
    {
     "data": {
      "text/html": [
       "<span style=\"color:blue\"> |-learning_rate: 0.0001</span>"
      ],
      "text/plain": [
       "<IPython.core.display.HTML object>"
      ]
     },
     "metadata": {},
     "output_type": "display_data"
    },
    {
     "data": {
      "text/html": [
       "<span style=\"color:cyan\"> |-tuner/bracket: 2</span>"
      ],
      "text/plain": [
       "<IPython.core.display.HTML object>"
      ]
     },
     "metadata": {},
     "output_type": "display_data"
    },
    {
     "data": {
      "text/html": [
       "<span style=\"color:blue\"> |-tuner/epochs: 6</span>"
      ],
      "text/plain": [
       "<IPython.core.display.HTML object>"
      ]
     },
     "metadata": {},
     "output_type": "display_data"
    },
    {
     "data": {
      "text/html": [
       "<span style=\"color:cyan\"> |-tuner/initial_epoch: 0</span>"
      ],
      "text/plain": [
       "<IPython.core.display.HTML object>"
      ]
     },
     "metadata": {},
     "output_type": "display_data"
    },
    {
     "data": {
      "text/html": [
       "<span style=\"color:blue\"> |-tuner/round: 0</span>"
      ],
      "text/plain": [
       "<IPython.core.display.HTML object>"
      ]
     },
     "metadata": {},
     "output_type": "display_data"
    },
    {
     "name": "stdout",
     "output_type": "stream",
     "text": [
      "Train on 8000 samples, validate on 2000 samples\n",
      "Epoch 1/6\n",
      "8000/8000 - 1s - loss: 0.2224 - mean_squared_error: 0.2223 - mean_absolute_error: 0.4462 - val_loss: 0.2098 - val_mean_squared_error: 0.2098 - val_mean_absolute_error: 0.4325\n",
      "Epoch 2/6\n",
      "8000/8000 - 1s - loss: 0.2018 - mean_squared_error: 0.2017 - mean_absolute_error: 0.4222 - val_loss: 0.1955 - val_mean_squared_error: 0.1954 - val_mean_absolute_error: 0.4128\n",
      "Epoch 3/6\n",
      "8000/8000 - 0s - loss: 0.1884 - mean_squared_error: 0.1883 - mean_absolute_error: 0.4045 - val_loss: 0.1831 - val_mean_squared_error: 0.1830 - val_mean_absolute_error: 0.3975\n",
      "Epoch 4/6\n",
      "8000/8000 - 1s - loss: 0.1761 - mean_squared_error: 0.1760 - mean_absolute_error: 0.3897 - val_loss: 0.1710 - val_mean_squared_error: 0.1709 - val_mean_absolute_error: 0.3830\n",
      "Epoch 5/6\n",
      "8000/8000 - 1s - loss: 0.1638 - mean_squared_error: 0.1637 - mean_absolute_error: 0.3753 - val_loss: 0.1587 - val_mean_squared_error: 0.1586 - val_mean_absolute_error: 0.3684\n",
      "Epoch 6/6\n",
      "8000/8000 - 0s - loss: 0.1513 - mean_squared_error: 0.1512 - mean_absolute_error: 0.3600 - val_loss: 0.1463 - val_mean_squared_error: 0.1462 - val_mean_absolute_error: 0.3532\n"
     ]
    },
    {
     "data": {
      "text/html": [
       "<span style=\"color:#4527A0\"><h1 style=\"font-size:18px\">Trial complete</h1></span>"
      ],
      "text/plain": [
       "<IPython.core.display.HTML object>"
      ]
     },
     "metadata": {},
     "output_type": "display_data"
    },
    {
     "data": {
      "text/html": [
       "<span style=\"color:#4527A0\"><h1 style=\"font-size:18px\">Trial summary</h1></span>"
      ],
      "text/plain": [
       "<IPython.core.display.HTML object>"
      ]
     },
     "metadata": {},
     "output_type": "display_data"
    },
    {
     "data": {
      "text/html": [
       "<span style=\"color:cyan\"> |-Trial ID: 985265dc76ebdd77dc7c58162a044ccd</span>"
      ],
      "text/plain": [
       "<IPython.core.display.HTML object>"
      ]
     },
     "metadata": {},
     "output_type": "display_data"
    },
    {
     "data": {
      "text/html": [
       "<span style=\"color:cyan\"> |-Score: 0.14619974792003632</span>"
      ],
      "text/plain": [
       "<IPython.core.display.HTML object>"
      ]
     },
     "metadata": {},
     "output_type": "display_data"
    },
    {
     "data": {
      "text/html": [
       "<span style=\"color:cyan\"> |-Best step: 0</span>"
      ],
      "text/plain": [
       "<IPython.core.display.HTML object>"
      ]
     },
     "metadata": {},
     "output_type": "display_data"
    },
    {
     "data": {
      "text/html": [
       "<span style=\"color:#7E57C2\"><h2 style=\"font-size:16px\">Hyperparameters:</h2></span>"
      ],
      "text/plain": [
       "<IPython.core.display.HTML object>"
      ]
     },
     "metadata": {},
     "output_type": "display_data"
    },
    {
     "data": {
      "text/html": [
       "<span style=\"color:cyan\"> |-hidden_units: 40</span>"
      ],
      "text/plain": [
       "<IPython.core.display.HTML object>"
      ]
     },
     "metadata": {},
     "output_type": "display_data"
    },
    {
     "data": {
      "text/html": [
       "<span style=\"color:blue\"> |-learning_rate: 0.0001</span>"
      ],
      "text/plain": [
       "<IPython.core.display.HTML object>"
      ]
     },
     "metadata": {},
     "output_type": "display_data"
    },
    {
     "data": {
      "text/html": [
       "<span style=\"color:cyan\"> |-tuner/bracket: 2</span>"
      ],
      "text/plain": [
       "<IPython.core.display.HTML object>"
      ]
     },
     "metadata": {},
     "output_type": "display_data"
    },
    {
     "data": {
      "text/html": [
       "<span style=\"color:blue\"> |-tuner/epochs: 6</span>"
      ],
      "text/plain": [
       "<IPython.core.display.HTML object>"
      ]
     },
     "metadata": {},
     "output_type": "display_data"
    },
    {
     "data": {
      "text/html": [
       "<span style=\"color:cyan\"> |-tuner/initial_epoch: 0</span>"
      ],
      "text/plain": [
       "<IPython.core.display.HTML object>"
      ]
     },
     "metadata": {},
     "output_type": "display_data"
    },
    {
     "data": {
      "text/html": [
       "<span style=\"color:blue\"> |-tuner/round: 0</span>"
      ],
      "text/plain": [
       "<IPython.core.display.HTML object>"
      ]
     },
     "metadata": {},
     "output_type": "display_data"
    },
    {
     "name": "stdout",
     "output_type": "stream",
     "text": [
      "Train on 8000 samples, validate on 2000 samples\n",
      "Epoch 1/6\n",
      "8000/8000 - 1s - loss: 0.2040 - mean_squared_error: 0.2039 - mean_absolute_error: 0.4262 - val_loss: 0.1872 - val_mean_squared_error: 0.1871 - val_mean_absolute_error: 0.4043\n",
      "Epoch 2/6\n",
      "8000/8000 - 1s - loss: 0.1733 - mean_squared_error: 0.1732 - mean_absolute_error: 0.3891 - val_loss: 0.1604 - val_mean_squared_error: 0.1603 - val_mean_absolute_error: 0.3727\n",
      "Epoch 3/6\n",
      "8000/8000 - 1s - loss: 0.1468 - mean_squared_error: 0.1467 - mean_absolute_error: 0.3579 - val_loss: 0.1341 - val_mean_squared_error: 0.1339 - val_mean_absolute_error: 0.3408\n",
      "Epoch 4/6\n",
      "8000/8000 - 1s - loss: 0.1213 - mean_squared_error: 0.1212 - mean_absolute_error: 0.3247 - val_loss: 0.1098 - val_mean_squared_error: 0.1096 - val_mean_absolute_error: 0.3077\n",
      "Epoch 5/6\n",
      "8000/8000 - 1s - loss: 0.0987 - mean_squared_error: 0.0986 - mean_absolute_error: 0.2914 - val_loss: 0.0894 - val_mean_squared_error: 0.0892 - val_mean_absolute_error: 0.2748\n",
      "Epoch 6/6\n",
      "8000/8000 - 1s - loss: 0.0803 - mean_squared_error: 0.0801 - mean_absolute_error: 0.2603 - val_loss: 0.0730 - val_mean_squared_error: 0.0728 - val_mean_absolute_error: 0.2461\n"
     ]
    },
    {
     "data": {
      "text/html": [
       "<span style=\"color:#4527A0\"><h1 style=\"font-size:18px\">Trial complete</h1></span>"
      ],
      "text/plain": [
       "<IPython.core.display.HTML object>"
      ]
     },
     "metadata": {},
     "output_type": "display_data"
    },
    {
     "data": {
      "text/html": [
       "<span style=\"color:#4527A0\"><h1 style=\"font-size:18px\">Trial summary</h1></span>"
      ],
      "text/plain": [
       "<IPython.core.display.HTML object>"
      ]
     },
     "metadata": {},
     "output_type": "display_data"
    },
    {
     "data": {
      "text/html": [
       "<span style=\"color:cyan\"> |-Trial ID: 96f0d30de593b80fc20987d752c2edb5</span>"
      ],
      "text/plain": [
       "<IPython.core.display.HTML object>"
      ]
     },
     "metadata": {},
     "output_type": "display_data"
    },
    {
     "data": {
      "text/html": [
       "<span style=\"color:cyan\"> |-Score: 0.07284615933895111</span>"
      ],
      "text/plain": [
       "<IPython.core.display.HTML object>"
      ]
     },
     "metadata": {},
     "output_type": "display_data"
    },
    {
     "data": {
      "text/html": [
       "<span style=\"color:cyan\"> |-Best step: 0</span>"
      ],
      "text/plain": [
       "<IPython.core.display.HTML object>"
      ]
     },
     "metadata": {},
     "output_type": "display_data"
    },
    {
     "data": {
      "text/html": [
       "<span style=\"color:#7E57C2\"><h2 style=\"font-size:16px\">Hyperparameters:</h2></span>"
      ],
      "text/plain": [
       "<IPython.core.display.HTML object>"
      ]
     },
     "metadata": {},
     "output_type": "display_data"
    },
    {
     "data": {
      "text/html": [
       "<span style=\"color:cyan\"> |-hidden_units: 144</span>"
      ],
      "text/plain": [
       "<IPython.core.display.HTML object>"
      ]
     },
     "metadata": {},
     "output_type": "display_data"
    },
    {
     "data": {
      "text/html": [
       "<span style=\"color:blue\"> |-learning_rate: 0.0001</span>"
      ],
      "text/plain": [
       "<IPython.core.display.HTML object>"
      ]
     },
     "metadata": {},
     "output_type": "display_data"
    },
    {
     "data": {
      "text/html": [
       "<span style=\"color:cyan\"> |-tuner/bracket: 2</span>"
      ],
      "text/plain": [
       "<IPython.core.display.HTML object>"
      ]
     },
     "metadata": {},
     "output_type": "display_data"
    },
    {
     "data": {
      "text/html": [
       "<span style=\"color:blue\"> |-tuner/epochs: 6</span>"
      ],
      "text/plain": [
       "<IPython.core.display.HTML object>"
      ]
     },
     "metadata": {},
     "output_type": "display_data"
    },
    {
     "data": {
      "text/html": [
       "<span style=\"color:cyan\"> |-tuner/initial_epoch: 0</span>"
      ],
      "text/plain": [
       "<IPython.core.display.HTML object>"
      ]
     },
     "metadata": {},
     "output_type": "display_data"
    },
    {
     "data": {
      "text/html": [
       "<span style=\"color:blue\"> |-tuner/round: 0</span>"
      ],
      "text/plain": [
       "<IPython.core.display.HTML object>"
      ]
     },
     "metadata": {},
     "output_type": "display_data"
    },
    {
     "name": "stdout",
     "output_type": "stream",
     "text": [
      "Train on 8000 samples, validate on 2000 samples\n",
      "Epoch 1/6\n",
      "8000/8000 - 1s - loss: 0.0192 - mean_squared_error: 0.0187 - mean_absolute_error: 0.0774 - val_loss: 0.0013 - val_mean_squared_error: 6.4171e-04 - val_mean_absolute_error: 0.0202\n",
      "Epoch 2/6\n",
      "8000/8000 - 1s - loss: 0.0012 - mean_squared_error: 5.1547e-04 - mean_absolute_error: 0.0174 - val_loss: 0.0011 - val_mean_squared_error: 4.0538e-04 - val_mean_absolute_error: 0.0153\n",
      "Epoch 3/6\n",
      "8000/8000 - 1s - loss: 0.0011 - mean_squared_error: 3.3683e-04 - mean_absolute_error: 0.0136 - val_loss: 0.0011 - val_mean_squared_error: 3.6930e-04 - val_mean_absolute_error: 0.0137\n",
      "Epoch 4/6\n",
      "8000/8000 - 1s - loss: 0.0012 - mean_squared_error: 4.7411e-04 - mean_absolute_error: 0.0148 - val_loss: 0.0011 - val_mean_squared_error: 3.3623e-04 - val_mean_absolute_error: 0.0132\n",
      "Epoch 5/6\n",
      "8000/8000 - 1s - loss: 0.0016 - mean_squared_error: 8.5793e-04 - mean_absolute_error: 0.0176 - val_loss: 0.0012 - val_mean_squared_error: 4.2966e-04 - val_mean_absolute_error: 0.0146\n",
      "Epoch 6/6\n",
      "8000/8000 - 1s - loss: 0.0013 - mean_squared_error: 5.2974e-04 - mean_absolute_error: 0.0154 - val_loss: 0.0015 - val_mean_squared_error: 8.1319e-04 - val_mean_absolute_error: 0.0179\n"
     ]
    },
    {
     "data": {
      "text/html": [
       "<span style=\"color:#4527A0\"><h1 style=\"font-size:18px\">Trial complete</h1></span>"
      ],
      "text/plain": [
       "<IPython.core.display.HTML object>"
      ]
     },
     "metadata": {},
     "output_type": "display_data"
    },
    {
     "data": {
      "text/html": [
       "<span style=\"color:#4527A0\"><h1 style=\"font-size:18px\">Trial summary</h1></span>"
      ],
      "text/plain": [
       "<IPython.core.display.HTML object>"
      ]
     },
     "metadata": {},
     "output_type": "display_data"
    },
    {
     "data": {
      "text/html": [
       "<span style=\"color:cyan\"> |-Trial ID: c1c437697d1eaeb89f2b5e8d75b98dad</span>"
      ],
      "text/plain": [
       "<IPython.core.display.HTML object>"
      ]
     },
     "metadata": {},
     "output_type": "display_data"
    },
    {
     "data": {
      "text/html": [
       "<span style=\"color:cyan\"> |-Score: 0.00033622857881709933</span>"
      ],
      "text/plain": [
       "<IPython.core.display.HTML object>"
      ]
     },
     "metadata": {},
     "output_type": "display_data"
    },
    {
     "data": {
      "text/html": [
       "<span style=\"color:cyan\"> |-Best step: 0</span>"
      ],
      "text/plain": [
       "<IPython.core.display.HTML object>"
      ]
     },
     "metadata": {},
     "output_type": "display_data"
    },
    {
     "data": {
      "text/html": [
       "<span style=\"color:#7E57C2\"><h2 style=\"font-size:16px\">Hyperparameters:</h2></span>"
      ],
      "text/plain": [
       "<IPython.core.display.HTML object>"
      ]
     },
     "metadata": {},
     "output_type": "display_data"
    },
    {
     "data": {
      "text/html": [
       "<span style=\"color:cyan\"> |-hidden_units: 112</span>"
      ],
      "text/plain": [
       "<IPython.core.display.HTML object>"
      ]
     },
     "metadata": {},
     "output_type": "display_data"
    },
    {
     "data": {
      "text/html": [
       "<span style=\"color:blue\"> |-learning_rate: 0.01</span>"
      ],
      "text/plain": [
       "<IPython.core.display.HTML object>"
      ]
     },
     "metadata": {},
     "output_type": "display_data"
    },
    {
     "data": {
      "text/html": [
       "<span style=\"color:cyan\"> |-tuner/bracket: 2</span>"
      ],
      "text/plain": [
       "<IPython.core.display.HTML object>"
      ]
     },
     "metadata": {},
     "output_type": "display_data"
    },
    {
     "data": {
      "text/html": [
       "<span style=\"color:blue\"> |-tuner/epochs: 6</span>"
      ],
      "text/plain": [
       "<IPython.core.display.HTML object>"
      ]
     },
     "metadata": {},
     "output_type": "display_data"
    },
    {
     "data": {
      "text/html": [
       "<span style=\"color:cyan\"> |-tuner/initial_epoch: 0</span>"
      ],
      "text/plain": [
       "<IPython.core.display.HTML object>"
      ]
     },
     "metadata": {},
     "output_type": "display_data"
    },
    {
     "data": {
      "text/html": [
       "<span style=\"color:blue\"> |-tuner/round: 0</span>"
      ],
      "text/plain": [
       "<IPython.core.display.HTML object>"
      ]
     },
     "metadata": {},
     "output_type": "display_data"
    },
    {
     "name": "stdout",
     "output_type": "stream",
     "text": [
      "Train on 8000 samples, validate on 2000 samples\n",
      "Epoch 1/6\n",
      "8000/8000 - 1s - loss: 0.1711 - mean_squared_error: 0.1710 - mean_absolute_error: 0.3821 - val_loss: 0.1186 - val_mean_squared_error: 0.1185 - val_mean_absolute_error: 0.3154\n",
      "Epoch 2/6\n",
      "8000/8000 - 0s - loss: 0.0873 - mean_squared_error: 0.0871 - mean_absolute_error: 0.2566 - val_loss: 0.0665 - val_mean_squared_error: 0.0663 - val_mean_absolute_error: 0.2148\n",
      "Epoch 3/6\n",
      "8000/8000 - 0s - loss: 0.0507 - mean_squared_error: 0.0505 - mean_absolute_error: 0.1828 - val_loss: 0.0389 - val_mean_squared_error: 0.0386 - val_mean_absolute_error: 0.1563\n",
      "Epoch 4/6\n",
      "8000/8000 - 0s - loss: 0.0295 - mean_squared_error: 0.0292 - mean_absolute_error: 0.1337 - val_loss: 0.0230 - val_mean_squared_error: 0.0227 - val_mean_absolute_error: 0.1157\n",
      "Epoch 5/6\n",
      "8000/8000 - 0s - loss: 0.0180 - mean_squared_error: 0.0176 - mean_absolute_error: 0.1012 - val_loss: 0.0148 - val_mean_squared_error: 0.0145 - val_mean_absolute_error: 0.0905\n",
      "Epoch 6/6\n",
      "8000/8000 - 0s - loss: 0.0123 - mean_squared_error: 0.0119 - mean_absolute_error: 0.0813 - val_loss: 0.0109 - val_mean_squared_error: 0.0105 - val_mean_absolute_error: 0.0750\n"
     ]
    },
    {
     "data": {
      "text/html": [
       "<span style=\"color:#4527A0\"><h1 style=\"font-size:18px\">Trial complete</h1></span>"
      ],
      "text/plain": [
       "<IPython.core.display.HTML object>"
      ]
     },
     "metadata": {},
     "output_type": "display_data"
    },
    {
     "data": {
      "text/html": [
       "<span style=\"color:#4527A0\"><h1 style=\"font-size:18px\">Trial summary</h1></span>"
      ],
      "text/plain": [
       "<IPython.core.display.HTML object>"
      ]
     },
     "metadata": {},
     "output_type": "display_data"
    },
    {
     "data": {
      "text/html": [
       "<span style=\"color:cyan\"> |-Trial ID: 331d8c8117f04a0f2b9733e878cf50ff</span>"
      ],
      "text/plain": [
       "<IPython.core.display.HTML object>"
      ]
     },
     "metadata": {},
     "output_type": "display_data"
    },
    {
     "data": {
      "text/html": [
       "<span style=\"color:cyan\"> |-Score: 0.010458072647452354</span>"
      ],
      "text/plain": [
       "<IPython.core.display.HTML object>"
      ]
     },
     "metadata": {},
     "output_type": "display_data"
    },
    {
     "data": {
      "text/html": [
       "<span style=\"color:cyan\"> |-Best step: 0</span>"
      ],
      "text/plain": [
       "<IPython.core.display.HTML object>"
      ]
     },
     "metadata": {},
     "output_type": "display_data"
    },
    {
     "data": {
      "text/html": [
       "<span style=\"color:#7E57C2\"><h2 style=\"font-size:16px\">Hyperparameters:</h2></span>"
      ],
      "text/plain": [
       "<IPython.core.display.HTML object>"
      ]
     },
     "metadata": {},
     "output_type": "display_data"
    },
    {
     "data": {
      "text/html": [
       "<span style=\"color:cyan\"> |-hidden_units: 36</span>"
      ],
      "text/plain": [
       "<IPython.core.display.HTML object>"
      ]
     },
     "metadata": {},
     "output_type": "display_data"
    },
    {
     "data": {
      "text/html": [
       "<span style=\"color:blue\"> |-learning_rate: 0.001</span>"
      ],
      "text/plain": [
       "<IPython.core.display.HTML object>"
      ]
     },
     "metadata": {},
     "output_type": "display_data"
    },
    {
     "data": {
      "text/html": [
       "<span style=\"color:cyan\"> |-tuner/bracket: 2</span>"
      ],
      "text/plain": [
       "<IPython.core.display.HTML object>"
      ]
     },
     "metadata": {},
     "output_type": "display_data"
    },
    {
     "data": {
      "text/html": [
       "<span style=\"color:blue\"> |-tuner/epochs: 6</span>"
      ],
      "text/plain": [
       "<IPython.core.display.HTML object>"
      ]
     },
     "metadata": {},
     "output_type": "display_data"
    },
    {
     "data": {
      "text/html": [
       "<span style=\"color:cyan\"> |-tuner/initial_epoch: 0</span>"
      ],
      "text/plain": [
       "<IPython.core.display.HTML object>"
      ]
     },
     "metadata": {},
     "output_type": "display_data"
    },
    {
     "data": {
      "text/html": [
       "<span style=\"color:blue\"> |-tuner/round: 0</span>"
      ],
      "text/plain": [
       "<IPython.core.display.HTML object>"
      ]
     },
     "metadata": {},
     "output_type": "display_data"
    },
    {
     "name": "stdout",
     "output_type": "stream",
     "text": [
      "Train on 8000 samples, validate on 2000 samples\n",
      "Epoch 1/6\n",
      "8000/8000 - 1s - loss: 0.0164 - mean_squared_error: 0.0159 - mean_absolute_error: 0.0691 - val_loss: 0.0013 - val_mean_squared_error: 6.1066e-04 - val_mean_absolute_error: 0.0193\n",
      "Epoch 2/6\n",
      "8000/8000 - 1s - loss: 0.0012 - mean_squared_error: 4.8972e-04 - mean_absolute_error: 0.0166 - val_loss: 0.0011 - val_mean_squared_error: 3.4501e-04 - val_mean_absolute_error: 0.0138\n",
      "Epoch 3/6\n",
      "8000/8000 - 1s - loss: 0.0011 - mean_squared_error: 3.6891e-04 - mean_absolute_error: 0.0140 - val_loss: 0.0013 - val_mean_squared_error: 5.3976e-04 - val_mean_absolute_error: 0.0156\n",
      "Epoch 4/6\n",
      "8000/8000 - 1s - loss: 0.0012 - mean_squared_error: 5.1084e-04 - mean_absolute_error: 0.0153 - val_loss: 0.0012 - val_mean_squared_error: 4.1877e-04 - val_mean_absolute_error: 0.0143\n",
      "Epoch 5/6\n",
      "8000/8000 - 1s - loss: 0.0016 - mean_squared_error: 9.0263e-04 - mean_absolute_error: 0.0185 - val_loss: 0.0021 - val_mean_squared_error: 0.0014 - val_mean_absolute_error: 0.0228\n",
      "Epoch 6/6\n",
      "8000/8000 - 1s - loss: 0.0014 - mean_squared_error: 6.5339e-04 - mean_absolute_error: 0.0167 - val_loss: 0.0014 - val_mean_squared_error: 6.7956e-04 - val_mean_absolute_error: 0.0170\n"
     ]
    },
    {
     "data": {
      "text/html": [
       "<span style=\"color:#4527A0\"><h1 style=\"font-size:18px\">Trial complete</h1></span>"
      ],
      "text/plain": [
       "<IPython.core.display.HTML object>"
      ]
     },
     "metadata": {},
     "output_type": "display_data"
    },
    {
     "data": {
      "text/html": [
       "<span style=\"color:#4527A0\"><h1 style=\"font-size:18px\">Trial summary</h1></span>"
      ],
      "text/plain": [
       "<IPython.core.display.HTML object>"
      ]
     },
     "metadata": {},
     "output_type": "display_data"
    },
    {
     "data": {
      "text/html": [
       "<span style=\"color:cyan\"> |-Trial ID: bc8da37c52c7bef08d531d64ebfee196</span>"
      ],
      "text/plain": [
       "<IPython.core.display.HTML object>"
      ]
     },
     "metadata": {},
     "output_type": "display_data"
    },
    {
     "data": {
      "text/html": [
       "<span style=\"color:cyan\"> |-Score: 0.0003450089425314218</span>"
      ],
      "text/plain": [
       "<IPython.core.display.HTML object>"
      ]
     },
     "metadata": {},
     "output_type": "display_data"
    },
    {
     "data": {
      "text/html": [
       "<span style=\"color:cyan\"> |-Best step: 0</span>"
      ],
      "text/plain": [
       "<IPython.core.display.HTML object>"
      ]
     },
     "metadata": {},
     "output_type": "display_data"
    },
    {
     "data": {
      "text/html": [
       "<span style=\"color:#7E57C2\"><h2 style=\"font-size:16px\">Hyperparameters:</h2></span>"
      ],
      "text/plain": [
       "<IPython.core.display.HTML object>"
      ]
     },
     "metadata": {},
     "output_type": "display_data"
    },
    {
     "data": {
      "text/html": [
       "<span style=\"color:cyan\"> |-hidden_units: 142</span>"
      ],
      "text/plain": [
       "<IPython.core.display.HTML object>"
      ]
     },
     "metadata": {},
     "output_type": "display_data"
    },
    {
     "data": {
      "text/html": [
       "<span style=\"color:blue\"> |-learning_rate: 0.01</span>"
      ],
      "text/plain": [
       "<IPython.core.display.HTML object>"
      ]
     },
     "metadata": {},
     "output_type": "display_data"
    },
    {
     "data": {
      "text/html": [
       "<span style=\"color:cyan\"> |-tuner/bracket: 2</span>"
      ],
      "text/plain": [
       "<IPython.core.display.HTML object>"
      ]
     },
     "metadata": {},
     "output_type": "display_data"
    },
    {
     "data": {
      "text/html": [
       "<span style=\"color:blue\"> |-tuner/epochs: 6</span>"
      ],
      "text/plain": [
       "<IPython.core.display.HTML object>"
      ]
     },
     "metadata": {},
     "output_type": "display_data"
    },
    {
     "data": {
      "text/html": [
       "<span style=\"color:cyan\"> |-tuner/initial_epoch: 0</span>"
      ],
      "text/plain": [
       "<IPython.core.display.HTML object>"
      ]
     },
     "metadata": {},
     "output_type": "display_data"
    },
    {
     "data": {
      "text/html": [
       "<span style=\"color:blue\"> |-tuner/round: 0</span>"
      ],
      "text/plain": [
       "<IPython.core.display.HTML object>"
      ]
     },
     "metadata": {},
     "output_type": "display_data"
    },
    {
     "name": "stdout",
     "output_type": "stream",
     "text": [
      "Train on 8000 samples, validate on 2000 samples\n",
      "Epoch 1/6\n",
      "8000/8000 - 1s - loss: 0.0224 - mean_squared_error: 0.0220 - mean_absolute_error: 0.0887 - val_loss: 0.0014 - val_mean_squared_error: 8.3839e-04 - val_mean_absolute_error: 0.0234\n",
      "Epoch 2/6\n",
      "8000/8000 - 1s - loss: 0.0012 - mean_squared_error: 5.2674e-04 - mean_absolute_error: 0.0180 - val_loss: 0.0011 - val_mean_squared_error: 3.8008e-04 - val_mean_absolute_error: 0.0153\n",
      "Epoch 3/6\n",
      "8000/8000 - 1s - loss: 0.0011 - mean_squared_error: 3.9163e-04 - mean_absolute_error: 0.0145 - val_loss: 9.9757e-04 - val_mean_squared_error: 2.5994e-04 - val_mean_absolute_error: 0.0122\n",
      "Epoch 4/6\n",
      "8000/8000 - 1s - loss: 0.0011 - mean_squared_error: 3.6072e-04 - mean_absolute_error: 0.0136 - val_loss: 0.0010 - val_mean_squared_error: 2.7098e-04 - val_mean_absolute_error: 0.0123\n",
      "Epoch 5/6\n",
      "8000/8000 - 1s - loss: 0.0013 - mean_squared_error: 5.7233e-04 - mean_absolute_error: 0.0155 - val_loss: 0.0013 - val_mean_squared_error: 5.3842e-04 - val_mean_absolute_error: 0.0162\n",
      "Epoch 6/6\n",
      "8000/8000 - 1s - loss: 0.0012 - mean_squared_error: 4.6232e-04 - mean_absolute_error: 0.0148 - val_loss: 0.0014 - val_mean_squared_error: 7.1573e-04 - val_mean_absolute_error: 0.0169\n"
     ]
    },
    {
     "data": {
      "text/html": [
       "<span style=\"color:#4527A0\"><h1 style=\"font-size:18px\">Trial complete</h1></span>"
      ],
      "text/plain": [
       "<IPython.core.display.HTML object>"
      ]
     },
     "metadata": {},
     "output_type": "display_data"
    },
    {
     "data": {
      "text/html": [
       "<span style=\"color:#4527A0\"><h1 style=\"font-size:18px\">Trial summary</h1></span>"
      ],
      "text/plain": [
       "<IPython.core.display.HTML object>"
      ]
     },
     "metadata": {},
     "output_type": "display_data"
    },
    {
     "data": {
      "text/html": [
       "<span style=\"color:cyan\"> |-Trial ID: 81a8cb27c0902d1045439240cb6a156e</span>"
      ],
      "text/plain": [
       "<IPython.core.display.HTML object>"
      ]
     },
     "metadata": {},
     "output_type": "display_data"
    },
    {
     "data": {
      "text/html": [
       "<span style=\"color:cyan\"> |-Score: 0.0002599366707727313</span>"
      ],
      "text/plain": [
       "<IPython.core.display.HTML object>"
      ]
     },
     "metadata": {},
     "output_type": "display_data"
    },
    {
     "data": {
      "text/html": [
       "<span style=\"color:cyan\"> |-Best step: 0</span>"
      ],
      "text/plain": [
       "<IPython.core.display.HTML object>"
      ]
     },
     "metadata": {},
     "output_type": "display_data"
    },
    {
     "data": {
      "text/html": [
       "<span style=\"color:#7E57C2\"><h2 style=\"font-size:16px\">Hyperparameters:</h2></span>"
      ],
      "text/plain": [
       "<IPython.core.display.HTML object>"
      ]
     },
     "metadata": {},
     "output_type": "display_data"
    },
    {
     "data": {
      "text/html": [
       "<span style=\"color:cyan\"> |-hidden_units: 82</span>"
      ],
      "text/plain": [
       "<IPython.core.display.HTML object>"
      ]
     },
     "metadata": {},
     "output_type": "display_data"
    },
    {
     "data": {
      "text/html": [
       "<span style=\"color:blue\"> |-learning_rate: 0.01</span>"
      ],
      "text/plain": [
       "<IPython.core.display.HTML object>"
      ]
     },
     "metadata": {},
     "output_type": "display_data"
    },
    {
     "data": {
      "text/html": [
       "<span style=\"color:cyan\"> |-tuner/bracket: 2</span>"
      ],
      "text/plain": [
       "<IPython.core.display.HTML object>"
      ]
     },
     "metadata": {},
     "output_type": "display_data"
    },
    {
     "data": {
      "text/html": [
       "<span style=\"color:blue\"> |-tuner/epochs: 6</span>"
      ],
      "text/plain": [
       "<IPython.core.display.HTML object>"
      ]
     },
     "metadata": {},
     "output_type": "display_data"
    },
    {
     "data": {
      "text/html": [
       "<span style=\"color:cyan\"> |-tuner/initial_epoch: 0</span>"
      ],
      "text/plain": [
       "<IPython.core.display.HTML object>"
      ]
     },
     "metadata": {},
     "output_type": "display_data"
    },
    {
     "data": {
      "text/html": [
       "<span style=\"color:blue\"> |-tuner/round: 0</span>"
      ],
      "text/plain": [
       "<IPython.core.display.HTML object>"
      ]
     },
     "metadata": {},
     "output_type": "display_data"
    },
    {
     "name": "stdout",
     "output_type": "stream",
     "text": [
      "Train on 8000 samples, validate on 2000 samples\n",
      "Epoch 7/17\n",
      "8000/8000 - 1s - loss: 0.0240 - mean_squared_error: 0.0236 - mean_absolute_error: 0.0928 - val_loss: 0.0015 - val_mean_squared_error: 9.0195e-04 - val_mean_absolute_error: 0.0243\n",
      "Epoch 8/17\n",
      "8000/8000 - 1s - loss: 0.0012 - mean_squared_error: 5.5819e-04 - mean_absolute_error: 0.0186 - val_loss: 0.0012 - val_mean_squared_error: 4.5682e-04 - val_mean_absolute_error: 0.0169\n",
      "Epoch 9/17\n",
      "8000/8000 - 1s - loss: 0.0010 - mean_squared_error: 3.1682e-04 - mean_absolute_error: 0.0137 - val_loss: 9.9132e-04 - val_mean_squared_error: 2.5874e-04 - val_mean_absolute_error: 0.0122\n",
      "Epoch 10/17\n",
      "8000/8000 - 1s - loss: 0.0010 - mean_squared_error: 3.0915e-04 - mean_absolute_error: 0.0130 - val_loss: 0.0010 - val_mean_squared_error: 2.8438e-04 - val_mean_absolute_error: 0.0124\n",
      "Epoch 11/17\n",
      "8000/8000 - 1s - loss: 0.0012 - mean_squared_error: 4.4294e-04 - mean_absolute_error: 0.0143 - val_loss: 0.0010 - val_mean_squared_error: 2.7693e-04 - val_mean_absolute_error: 0.0123\n",
      "Epoch 12/17\n",
      "8000/8000 - 1s - loss: 0.0012 - mean_squared_error: 4.7135e-04 - mean_absolute_error: 0.0145 - val_loss: 0.0015 - val_mean_squared_error: 7.4849e-04 - val_mean_absolute_error: 0.0173\n",
      "Epoch 13/17\n",
      "8000/8000 - 1s - loss: 0.0012 - mean_squared_error: 4.1962e-04 - mean_absolute_error: 0.0143 - val_loss: 0.0011 - val_mean_squared_error: 3.5467e-04 - val_mean_absolute_error: 0.0134\n",
      "Epoch 14/17\n",
      "8000/8000 - 1s - loss: 0.0011 - mean_squared_error: 3.5369e-04 - mean_absolute_error: 0.0135 - val_loss: 0.0011 - val_mean_squared_error: 3.5750e-04 - val_mean_absolute_error: 0.0136\n"
     ]
    },
    {
     "data": {
      "text/html": [
       "<span style=\"color:#4527A0\"><h1 style=\"font-size:18px\">Trial complete</h1></span>"
      ],
      "text/plain": [
       "<IPython.core.display.HTML object>"
      ]
     },
     "metadata": {},
     "output_type": "display_data"
    },
    {
     "data": {
      "text/html": [
       "<span style=\"color:#4527A0\"><h1 style=\"font-size:18px\">Trial summary</h1></span>"
      ],
      "text/plain": [
       "<IPython.core.display.HTML object>"
      ]
     },
     "metadata": {},
     "output_type": "display_data"
    },
    {
     "data": {
      "text/html": [
       "<span style=\"color:cyan\"> |-Trial ID: 54b8d7584bc0e4516d3e29fd583e7f0d</span>"
      ],
      "text/plain": [
       "<IPython.core.display.HTML object>"
      ]
     },
     "metadata": {},
     "output_type": "display_data"
    },
    {
     "data": {
      "text/html": [
       "<span style=\"color:cyan\"> |-Score: 0.00025873599224723876</span>"
      ],
      "text/plain": [
       "<IPython.core.display.HTML object>"
      ]
     },
     "metadata": {},
     "output_type": "display_data"
    },
    {
     "data": {
      "text/html": [
       "<span style=\"color:cyan\"> |-Best step: 0</span>"
      ],
      "text/plain": [
       "<IPython.core.display.HTML object>"
      ]
     },
     "metadata": {},
     "output_type": "display_data"
    },
    {
     "data": {
      "text/html": [
       "<span style=\"color:#7E57C2\"><h2 style=\"font-size:16px\">Hyperparameters:</h2></span>"
      ],
      "text/plain": [
       "<IPython.core.display.HTML object>"
      ]
     },
     "metadata": {},
     "output_type": "display_data"
    },
    {
     "data": {
      "text/html": [
       "<span style=\"color:cyan\"> |-hidden_units: 72</span>"
      ],
      "text/plain": [
       "<IPython.core.display.HTML object>"
      ]
     },
     "metadata": {},
     "output_type": "display_data"
    },
    {
     "data": {
      "text/html": [
       "<span style=\"color:blue\"> |-learning_rate: 0.01</span>"
      ],
      "text/plain": [
       "<IPython.core.display.HTML object>"
      ]
     },
     "metadata": {},
     "output_type": "display_data"
    },
    {
     "data": {
      "text/html": [
       "<span style=\"color:cyan\"> |-tuner/bracket: 2</span>"
      ],
      "text/plain": [
       "<IPython.core.display.HTML object>"
      ]
     },
     "metadata": {},
     "output_type": "display_data"
    },
    {
     "data": {
      "text/html": [
       "<span style=\"color:blue\"> |-tuner/epochs: 17</span>"
      ],
      "text/plain": [
       "<IPython.core.display.HTML object>"
      ]
     },
     "metadata": {},
     "output_type": "display_data"
    },
    {
     "data": {
      "text/html": [
       "<span style=\"color:cyan\"> |-tuner/initial_epoch: 6</span>"
      ],
      "text/plain": [
       "<IPython.core.display.HTML object>"
      ]
     },
     "metadata": {},
     "output_type": "display_data"
    },
    {
     "data": {
      "text/html": [
       "<span style=\"color:blue\"> |-tuner/round: 1</span>"
      ],
      "text/plain": [
       "<IPython.core.display.HTML object>"
      ]
     },
     "metadata": {},
     "output_type": "display_data"
    },
    {
     "data": {
      "text/html": [
       "<span style=\"color:cyan\"> |-tuner/trial_id: 0f174c80198d0f1c7764b71adfb09bb3</span>"
      ],
      "text/plain": [
       "<IPython.core.display.HTML object>"
      ]
     },
     "metadata": {},
     "output_type": "display_data"
    },
    {
     "name": "stdout",
     "output_type": "stream",
     "text": [
      "Train on 8000 samples, validate on 2000 samples\n",
      "Epoch 7/17\n",
      "8000/8000 - 1s - loss: 0.0252 - mean_squared_error: 0.0248 - mean_absolute_error: 0.0964 - val_loss: 0.0015 - val_mean_squared_error: 9.6985e-04 - val_mean_absolute_error: 0.0253\n",
      "Epoch 8/17\n",
      "8000/8000 - 1s - loss: 0.0012 - mean_squared_error: 5.9848e-04 - mean_absolute_error: 0.0193 - val_loss: 0.0012 - val_mean_squared_error: 4.8273e-04 - val_mean_absolute_error: 0.0174\n",
      "Epoch 9/17\n",
      "8000/8000 - 1s - loss: 0.0010 - mean_squared_error: 3.1997e-04 - mean_absolute_error: 0.0138 - val_loss: 9.6885e-04 - val_mean_squared_error: 2.3803e-04 - val_mean_absolute_error: 0.0117\n",
      "Epoch 10/17\n",
      "8000/8000 - 1s - loss: 0.0010 - mean_squared_error: 2.9575e-04 - mean_absolute_error: 0.0129 - val_loss: 0.0010 - val_mean_squared_error: 2.5774e-04 - val_mean_absolute_error: 0.0120\n",
      "Epoch 11/17\n",
      "8000/8000 - 1s - loss: 0.0012 - mean_squared_error: 4.6266e-04 - mean_absolute_error: 0.0144 - val_loss: 0.0010 - val_mean_squared_error: 2.7212e-04 - val_mean_absolute_error: 0.0123\n",
      "Epoch 12/17\n",
      "8000/8000 - 1s - loss: 0.0013 - mean_squared_error: 5.3070e-04 - mean_absolute_error: 0.0151 - val_loss: 0.0016 - val_mean_squared_error: 8.8497e-04 - val_mean_absolute_error: 0.0184\n",
      "Epoch 13/17\n",
      "8000/8000 - 1s - loss: 0.0011 - mean_squared_error: 3.6571e-04 - mean_absolute_error: 0.0136 - val_loss: 0.0010 - val_mean_squared_error: 2.8253e-04 - val_mean_absolute_error: 0.0122\n",
      "Epoch 14/17\n",
      "8000/8000 - 1s - loss: 0.0011 - mean_squared_error: 3.1890e-04 - mean_absolute_error: 0.0129 - val_loss: 0.0010 - val_mean_squared_error: 3.0647e-04 - val_mean_absolute_error: 0.0126\n"
     ]
    },
    {
     "data": {
      "text/html": [
       "<span style=\"color:#4527A0\"><h1 style=\"font-size:18px\">Trial complete</h1></span>"
      ],
      "text/plain": [
       "<IPython.core.display.HTML object>"
      ]
     },
     "metadata": {},
     "output_type": "display_data"
    },
    {
     "data": {
      "text/html": [
       "<span style=\"color:#4527A0\"><h1 style=\"font-size:18px\">Trial summary</h1></span>"
      ],
      "text/plain": [
       "<IPython.core.display.HTML object>"
      ]
     },
     "metadata": {},
     "output_type": "display_data"
    },
    {
     "data": {
      "text/html": [
       "<span style=\"color:cyan\"> |-Trial ID: 3dd2ed9b4da1d72a7b1e36d4194d9439</span>"
      ],
      "text/plain": [
       "<IPython.core.display.HTML object>"
      ]
     },
     "metadata": {},
     "output_type": "display_data"
    },
    {
     "data": {
      "text/html": [
       "<span style=\"color:cyan\"> |-Score: 0.00023803180374670774</span>"
      ],
      "text/plain": [
       "<IPython.core.display.HTML object>"
      ]
     },
     "metadata": {},
     "output_type": "display_data"
    },
    {
     "data": {
      "text/html": [
       "<span style=\"color:cyan\"> |-Best step: 0</span>"
      ],
      "text/plain": [
       "<IPython.core.display.HTML object>"
      ]
     },
     "metadata": {},
     "output_type": "display_data"
    },
    {
     "data": {
      "text/html": [
       "<span style=\"color:#7E57C2\"><h2 style=\"font-size:16px\">Hyperparameters:</h2></span>"
      ],
      "text/plain": [
       "<IPython.core.display.HTML object>"
      ]
     },
     "metadata": {},
     "output_type": "display_data"
    },
    {
     "data": {
      "text/html": [
       "<span style=\"color:cyan\"> |-hidden_units: 68</span>"
      ],
      "text/plain": [
       "<IPython.core.display.HTML object>"
      ]
     },
     "metadata": {},
     "output_type": "display_data"
    },
    {
     "data": {
      "text/html": [
       "<span style=\"color:blue\"> |-learning_rate: 0.01</span>"
      ],
      "text/plain": [
       "<IPython.core.display.HTML object>"
      ]
     },
     "metadata": {},
     "output_type": "display_data"
    },
    {
     "data": {
      "text/html": [
       "<span style=\"color:cyan\"> |-tuner/bracket: 2</span>"
      ],
      "text/plain": [
       "<IPython.core.display.HTML object>"
      ]
     },
     "metadata": {},
     "output_type": "display_data"
    },
    {
     "data": {
      "text/html": [
       "<span style=\"color:blue\"> |-tuner/epochs: 17</span>"
      ],
      "text/plain": [
       "<IPython.core.display.HTML object>"
      ]
     },
     "metadata": {},
     "output_type": "display_data"
    },
    {
     "data": {
      "text/html": [
       "<span style=\"color:cyan\"> |-tuner/initial_epoch: 6</span>"
      ],
      "text/plain": [
       "<IPython.core.display.HTML object>"
      ]
     },
     "metadata": {},
     "output_type": "display_data"
    },
    {
     "data": {
      "text/html": [
       "<span style=\"color:blue\"> |-tuner/round: 1</span>"
      ],
      "text/plain": [
       "<IPython.core.display.HTML object>"
      ]
     },
     "metadata": {},
     "output_type": "display_data"
    },
    {
     "data": {
      "text/html": [
       "<span style=\"color:cyan\"> |-tuner/trial_id: 7aed1875e62110c3623393293768ddad</span>"
      ],
      "text/plain": [
       "<IPython.core.display.HTML object>"
      ]
     },
     "metadata": {},
     "output_type": "display_data"
    },
    {
     "name": "stdout",
     "output_type": "stream",
     "text": [
      "Train on 8000 samples, validate on 2000 samples\n",
      "Epoch 7/17\n",
      "8000/8000 - 1s - loss: 0.0224 - mean_squared_error: 0.0219 - mean_absolute_error: 0.0883 - val_loss: 0.0014 - val_mean_squared_error: 8.3496e-04 - val_mean_absolute_error: 0.0233\n",
      "Epoch 8/17\n",
      "8000/8000 - 1s - loss: 0.0012 - mean_squared_error: 5.2690e-04 - mean_absolute_error: 0.0180 - val_loss: 0.0011 - val_mean_squared_error: 3.9510e-04 - val_mean_absolute_error: 0.0156\n",
      "Epoch 9/17\n",
      "8000/8000 - 1s - loss: 0.0011 - mean_squared_error: 3.8945e-04 - mean_absolute_error: 0.0144 - val_loss: 9.9697e-04 - val_mean_squared_error: 2.6223e-04 - val_mean_absolute_error: 0.0123\n",
      "Epoch 10/17\n",
      "8000/8000 - 1s - loss: 0.0010 - mean_squared_error: 3.0500e-04 - mean_absolute_error: 0.0130 - val_loss: 0.0010 - val_mean_squared_error: 2.9429e-04 - val_mean_absolute_error: 0.0127\n",
      "Epoch 11/17\n",
      "8000/8000 - 1s - loss: 0.0012 - mean_squared_error: 4.4660e-04 - mean_absolute_error: 0.0146 - val_loss: 0.0011 - val_mean_squared_error: 3.5849e-04 - val_mean_absolute_error: 0.0136\n",
      "Epoch 12/17\n",
      "8000/8000 - 1s - loss: 0.0013 - mean_squared_error: 5.2233e-04 - mean_absolute_error: 0.0154 - val_loss: 0.0015 - val_mean_squared_error: 8.1901e-04 - val_mean_absolute_error: 0.0179\n",
      "Epoch 13/17\n",
      "8000/8000 - 1s - loss: 0.0012 - mean_squared_error: 4.1822e-04 - mean_absolute_error: 0.0143 - val_loss: 0.0011 - val_mean_squared_error: 3.2709e-04 - val_mean_absolute_error: 0.0130\n",
      "Epoch 14/17\n",
      "8000/8000 - 1s - loss: 0.0011 - mean_squared_error: 3.7197e-04 - mean_absolute_error: 0.0137 - val_loss: 0.0011 - val_mean_squared_error: 3.6234e-04 - val_mean_absolute_error: 0.0137\n"
     ]
    },
    {
     "data": {
      "text/html": [
       "<span style=\"color:#4527A0\"><h1 style=\"font-size:18px\">Trial complete</h1></span>"
      ],
      "text/plain": [
       "<IPython.core.display.HTML object>"
      ]
     },
     "metadata": {},
     "output_type": "display_data"
    },
    {
     "data": {
      "text/html": [
       "<span style=\"color:#4527A0\"><h1 style=\"font-size:18px\">Trial summary</h1></span>"
      ],
      "text/plain": [
       "<IPython.core.display.HTML object>"
      ]
     },
     "metadata": {},
     "output_type": "display_data"
    },
    {
     "data": {
      "text/html": [
       "<span style=\"color:cyan\"> |-Trial ID: fbef9ad09bd5639ffb07b304e4356532</span>"
      ],
      "text/plain": [
       "<IPython.core.display.HTML object>"
      ]
     },
     "metadata": {},
     "output_type": "display_data"
    },
    {
     "data": {
      "text/html": [
       "<span style=\"color:cyan\"> |-Score: 0.00026222580345347524</span>"
      ],
      "text/plain": [
       "<IPython.core.display.HTML object>"
      ]
     },
     "metadata": {},
     "output_type": "display_data"
    },
    {
     "data": {
      "text/html": [
       "<span style=\"color:cyan\"> |-Best step: 0</span>"
      ],
      "text/plain": [
       "<IPython.core.display.HTML object>"
      ]
     },
     "metadata": {},
     "output_type": "display_data"
    },
    {
     "data": {
      "text/html": [
       "<span style=\"color:#7E57C2\"><h2 style=\"font-size:16px\">Hyperparameters:</h2></span>"
      ],
      "text/plain": [
       "<IPython.core.display.HTML object>"
      ]
     },
     "metadata": {},
     "output_type": "display_data"
    },
    {
     "data": {
      "text/html": [
       "<span style=\"color:cyan\"> |-hidden_units: 82</span>"
      ],
      "text/plain": [
       "<IPython.core.display.HTML object>"
      ]
     },
     "metadata": {},
     "output_type": "display_data"
    },
    {
     "data": {
      "text/html": [
       "<span style=\"color:blue\"> |-learning_rate: 0.01</span>"
      ],
      "text/plain": [
       "<IPython.core.display.HTML object>"
      ]
     },
     "metadata": {},
     "output_type": "display_data"
    },
    {
     "data": {
      "text/html": [
       "<span style=\"color:cyan\"> |-tuner/bracket: 2</span>"
      ],
      "text/plain": [
       "<IPython.core.display.HTML object>"
      ]
     },
     "metadata": {},
     "output_type": "display_data"
    },
    {
     "data": {
      "text/html": [
       "<span style=\"color:blue\"> |-tuner/epochs: 17</span>"
      ],
      "text/plain": [
       "<IPython.core.display.HTML object>"
      ]
     },
     "metadata": {},
     "output_type": "display_data"
    },
    {
     "data": {
      "text/html": [
       "<span style=\"color:cyan\"> |-tuner/initial_epoch: 6</span>"
      ],
      "text/plain": [
       "<IPython.core.display.HTML object>"
      ]
     },
     "metadata": {},
     "output_type": "display_data"
    },
    {
     "data": {
      "text/html": [
       "<span style=\"color:blue\"> |-tuner/round: 1</span>"
      ],
      "text/plain": [
       "<IPython.core.display.HTML object>"
      ]
     },
     "metadata": {},
     "output_type": "display_data"
    },
    {
     "data": {
      "text/html": [
       "<span style=\"color:cyan\"> |-tuner/trial_id: 81a8cb27c0902d1045439240cb6a156e</span>"
      ],
      "text/plain": [
       "<IPython.core.display.HTML object>"
      ]
     },
     "metadata": {},
     "output_type": "display_data"
    },
    {
     "name": "stdout",
     "output_type": "stream",
     "text": [
      "Train on 8000 samples, validate on 2000 samples\n",
      "Epoch 7/17\n",
      "8000/8000 - 1s - loss: 0.0186 - mean_squared_error: 0.0181 - mean_absolute_error: 0.0760 - val_loss: 0.0013 - val_mean_squared_error: 6.3194e-04 - val_mean_absolute_error: 0.0201\n",
      "Epoch 8/17\n",
      "8000/8000 - 1s - loss: 0.0011 - mean_squared_error: 4.5888e-04 - mean_absolute_error: 0.0167 - val_loss: 0.0011 - val_mean_squared_error: 3.5959e-04 - val_mean_absolute_error: 0.0145\n",
      "Epoch 9/17\n",
      "8000/8000 - 1s - loss: 0.0011 - mean_squared_error: 3.8179e-04 - mean_absolute_error: 0.0141 - val_loss: 0.0012 - val_mean_squared_error: 4.3400e-04 - val_mean_absolute_error: 0.0144\n",
      "Epoch 10/17\n",
      "8000/8000 - 1s - loss: 0.0012 - mean_squared_error: 4.5024e-04 - mean_absolute_error: 0.0145 - val_loss: 0.0011 - val_mean_squared_error: 4.0342e-04 - val_mean_absolute_error: 0.0140\n",
      "Epoch 11/17\n",
      "8000/8000 - 1s - loss: 0.0015 - mean_squared_error: 7.6533e-04 - mean_absolute_error: 0.0174 - val_loss: 0.0020 - val_mean_squared_error: 0.0013 - val_mean_absolute_error: 0.0218\n",
      "Epoch 12/17\n",
      "8000/8000 - 1s - loss: 0.0013 - mean_squared_error: 5.4077e-04 - mean_absolute_error: 0.0157 - val_loss: 0.0016 - val_mean_squared_error: 8.1896e-04 - val_mean_absolute_error: 0.0178\n",
      "Epoch 13/17\n",
      "8000/8000 - 1s - loss: 0.0013 - mean_squared_error: 5.5356e-04 - mean_absolute_error: 0.0157 - val_loss: 0.0012 - val_mean_squared_error: 5.1056e-04 - val_mean_absolute_error: 0.0151\n"
     ]
    },
    {
     "data": {
      "text/html": [
       "<span style=\"color:#4527A0\"><h1 style=\"font-size:18px\">Trial complete</h1></span>"
      ],
      "text/plain": [
       "<IPython.core.display.HTML object>"
      ]
     },
     "metadata": {},
     "output_type": "display_data"
    },
    {
     "data": {
      "text/html": [
       "<span style=\"color:#4527A0\"><h1 style=\"font-size:18px\">Trial summary</h1></span>"
      ],
      "text/plain": [
       "<IPython.core.display.HTML object>"
      ]
     },
     "metadata": {},
     "output_type": "display_data"
    },
    {
     "data": {
      "text/html": [
       "<span style=\"color:cyan\"> |-Trial ID: aa17cf07f9f2a343f77b91efa2f0aa82</span>"
      ],
      "text/plain": [
       "<IPython.core.display.HTML object>"
      ]
     },
     "metadata": {},
     "output_type": "display_data"
    },
    {
     "data": {
      "text/html": [
       "<span style=\"color:cyan\"> |-Score: 0.00035959036904387176</span>"
      ],
      "text/plain": [
       "<IPython.core.display.HTML object>"
      ]
     },
     "metadata": {},
     "output_type": "display_data"
    },
    {
     "data": {
      "text/html": [
       "<span style=\"color:cyan\"> |-Best step: 0</span>"
      ],
      "text/plain": [
       "<IPython.core.display.HTML object>"
      ]
     },
     "metadata": {},
     "output_type": "display_data"
    },
    {
     "data": {
      "text/html": [
       "<span style=\"color:#7E57C2\"><h2 style=\"font-size:16px\">Hyperparameters:</h2></span>"
      ],
      "text/plain": [
       "<IPython.core.display.HTML object>"
      ]
     },
     "metadata": {},
     "output_type": "display_data"
    },
    {
     "data": {
      "text/html": [
       "<span style=\"color:cyan\"> |-hidden_units: 116</span>"
      ],
      "text/plain": [
       "<IPython.core.display.HTML object>"
      ]
     },
     "metadata": {},
     "output_type": "display_data"
    },
    {
     "data": {
      "text/html": [
       "<span style=\"color:blue\"> |-learning_rate: 0.01</span>"
      ],
      "text/plain": [
       "<IPython.core.display.HTML object>"
      ]
     },
     "metadata": {},
     "output_type": "display_data"
    },
    {
     "data": {
      "text/html": [
       "<span style=\"color:cyan\"> |-tuner/bracket: 2</span>"
      ],
      "text/plain": [
       "<IPython.core.display.HTML object>"
      ]
     },
     "metadata": {},
     "output_type": "display_data"
    },
    {
     "data": {
      "text/html": [
       "<span style=\"color:blue\"> |-tuner/epochs: 17</span>"
      ],
      "text/plain": [
       "<IPython.core.display.HTML object>"
      ]
     },
     "metadata": {},
     "output_type": "display_data"
    },
    {
     "data": {
      "text/html": [
       "<span style=\"color:cyan\"> |-tuner/initial_epoch: 6</span>"
      ],
      "text/plain": [
       "<IPython.core.display.HTML object>"
      ]
     },
     "metadata": {},
     "output_type": "display_data"
    },
    {
     "data": {
      "text/html": [
       "<span style=\"color:blue\"> |-tuner/round: 1</span>"
      ],
      "text/plain": [
       "<IPython.core.display.HTML object>"
      ]
     },
     "metadata": {},
     "output_type": "display_data"
    },
    {
     "data": {
      "text/html": [
       "<span style=\"color:cyan\"> |-tuner/trial_id: d95f87ac4b547086dec30fe42658e21a</span>"
      ],
      "text/plain": [
       "<IPython.core.display.HTML object>"
      ]
     },
     "metadata": {},
     "output_type": "display_data"
    },
    {
     "name": "stdout",
     "output_type": "stream",
     "text": [
      "Train on 8000 samples, validate on 2000 samples\n",
      "Epoch 7/17\n",
      "8000/8000 - 1s - loss: 0.0343 - mean_squared_error: 0.0339 - mean_absolute_error: 0.1204 - val_loss: 0.0023 - val_mean_squared_error: 0.0018 - val_mean_absolute_error: 0.0332\n",
      "Epoch 8/17\n",
      "8000/8000 - 0s - loss: 0.0016 - mean_squared_error: 9.8700e-04 - mean_absolute_error: 0.0242 - val_loss: 0.0013 - val_mean_squared_error: 6.6748e-04 - val_mean_absolute_error: 0.0203\n",
      "Epoch 9/17\n",
      "8000/8000 - 0s - loss: 0.0011 - mean_squared_error: 3.7426e-04 - mean_absolute_error: 0.0151 - val_loss: 0.0010 - val_mean_squared_error: 3.0311e-04 - val_mean_absolute_error: 0.0134\n",
      "Epoch 10/17\n",
      "8000/8000 - 0s - loss: 0.0010 - mean_squared_error: 2.8209e-04 - mean_absolute_error: 0.0127 - val_loss: 0.0010 - val_mean_squared_error: 2.9012e-04 - val_mean_absolute_error: 0.0129\n",
      "Epoch 11/17\n",
      "8000/8000 - 0s - loss: 0.0011 - mean_squared_error: 4.0569e-04 - mean_absolute_error: 0.0140 - val_loss: 0.0018 - val_mean_squared_error: 0.0010 - val_mean_absolute_error: 0.0213\n",
      "Epoch 12/17\n",
      "8000/8000 - 0s - loss: 0.0011 - mean_squared_error: 3.5837e-04 - mean_absolute_error: 0.0134 - val_loss: 0.0016 - val_mean_squared_error: 9.0661e-04 - val_mean_absolute_error: 0.0192\n",
      "Epoch 13/17\n",
      "8000/8000 - 0s - loss: 0.0011 - mean_squared_error: 3.2103e-04 - mean_absolute_error: 0.0130 - val_loss: 9.9989e-04 - val_mean_squared_error: 2.5957e-04 - val_mean_absolute_error: 0.0120\n",
      "Epoch 14/17\n",
      "8000/8000 - 0s - loss: 0.0010 - mean_squared_error: 2.7335e-04 - mean_absolute_error: 0.0123 - val_loss: 0.0011 - val_mean_squared_error: 3.1892e-04 - val_mean_absolute_error: 0.0131\n",
      "Epoch 15/17\n",
      "8000/8000 - 0s - loss: 0.0012 - mean_squared_error: 4.3821e-04 - mean_absolute_error: 0.0143 - val_loss: 0.0013 - val_mean_squared_error: 5.3309e-04 - val_mean_absolute_error: 0.0156\n",
      "Epoch 16/17\n",
      "8000/8000 - 0s - loss: 0.0011 - mean_squared_error: 3.2186e-04 - mean_absolute_error: 0.0130 - val_loss: 0.0012 - val_mean_squared_error: 4.5607e-04 - val_mean_absolute_error: 0.0147\n",
      "Epoch 17/17\n",
      "8000/8000 - 0s - loss: 0.0013 - mean_squared_error: 6.0026e-04 - mean_absolute_error: 0.0157 - val_loss: 0.0012 - val_mean_squared_error: 4.8134e-04 - val_mean_absolute_error: 0.0148\n"
     ]
    },
    {
     "data": {
      "text/html": [
       "<span style=\"color:#4527A0\"><h1 style=\"font-size:18px\">Trial complete</h1></span>"
      ],
      "text/plain": [
       "<IPython.core.display.HTML object>"
      ]
     },
     "metadata": {},
     "output_type": "display_data"
    },
    {
     "data": {
      "text/html": [
       "<span style=\"color:#4527A0\"><h1 style=\"font-size:18px\">Trial summary</h1></span>"
      ],
      "text/plain": [
       "<IPython.core.display.HTML object>"
      ]
     },
     "metadata": {},
     "output_type": "display_data"
    },
    {
     "data": {
      "text/html": [
       "<span style=\"color:cyan\"> |-Trial ID: e44d2db4a2f1533c33cfb8b8fc8a2988</span>"
      ],
      "text/plain": [
       "<IPython.core.display.HTML object>"
      ]
     },
     "metadata": {},
     "output_type": "display_data"
    },
    {
     "data": {
      "text/html": [
       "<span style=\"color:cyan\"> |-Score: 0.0002595693222247064</span>"
      ],
      "text/plain": [
       "<IPython.core.display.HTML object>"
      ]
     },
     "metadata": {},
     "output_type": "display_data"
    },
    {
     "data": {
      "text/html": [
       "<span style=\"color:cyan\"> |-Best step: 0</span>"
      ],
      "text/plain": [
       "<IPython.core.display.HTML object>"
      ]
     },
     "metadata": {},
     "output_type": "display_data"
    },
    {
     "data": {
      "text/html": [
       "<span style=\"color:#7E57C2\"><h2 style=\"font-size:16px\">Hyperparameters:</h2></span>"
      ],
      "text/plain": [
       "<IPython.core.display.HTML object>"
      ]
     },
     "metadata": {},
     "output_type": "display_data"
    },
    {
     "data": {
      "text/html": [
       "<span style=\"color:cyan\"> |-hidden_units: 46</span>"
      ],
      "text/plain": [
       "<IPython.core.display.HTML object>"
      ]
     },
     "metadata": {},
     "output_type": "display_data"
    },
    {
     "data": {
      "text/html": [
       "<span style=\"color:blue\"> |-learning_rate: 0.01</span>"
      ],
      "text/plain": [
       "<IPython.core.display.HTML object>"
      ]
     },
     "metadata": {},
     "output_type": "display_data"
    },
    {
     "data": {
      "text/html": [
       "<span style=\"color:cyan\"> |-tuner/bracket: 2</span>"
      ],
      "text/plain": [
       "<IPython.core.display.HTML object>"
      ]
     },
     "metadata": {},
     "output_type": "display_data"
    },
    {
     "data": {
      "text/html": [
       "<span style=\"color:blue\"> |-tuner/epochs: 17</span>"
      ],
      "text/plain": [
       "<IPython.core.display.HTML object>"
      ]
     },
     "metadata": {},
     "output_type": "display_data"
    },
    {
     "data": {
      "text/html": [
       "<span style=\"color:cyan\"> |-tuner/initial_epoch: 6</span>"
      ],
      "text/plain": [
       "<IPython.core.display.HTML object>"
      ]
     },
     "metadata": {},
     "output_type": "display_data"
    },
    {
     "data": {
      "text/html": [
       "<span style=\"color:blue\"> |-tuner/round: 1</span>"
      ],
      "text/plain": [
       "<IPython.core.display.HTML object>"
      ]
     },
     "metadata": {},
     "output_type": "display_data"
    },
    {
     "data": {
      "text/html": [
       "<span style=\"color:cyan\"> |-tuner/trial_id: d09de26f627d9831a73248b2fa43ec38</span>"
      ],
      "text/plain": [
       "<IPython.core.display.HTML object>"
      ]
     },
     "metadata": {},
     "output_type": "display_data"
    },
    {
     "name": "stdout",
     "output_type": "stream",
     "text": [
      "Train on 8000 samples, validate on 2000 samples\n",
      "Epoch 18/50\n",
      "8000/8000 - 1s - loss: 0.0262 - mean_squared_error: 0.0258 - mean_absolute_error: 0.0986 - val_loss: 0.0016 - val_mean_squared_error: 9.9399e-04 - val_mean_absolute_error: 0.0255\n",
      "Epoch 19/50\n",
      "8000/8000 - 1s - loss: 0.0013 - mean_squared_error: 6.1475e-04 - mean_absolute_error: 0.0195 - val_loss: 0.0011 - val_mean_squared_error: 4.1377e-04 - val_mean_absolute_error: 0.0160\n",
      "Epoch 20/50\n",
      "8000/8000 - 1s - loss: 0.0011 - mean_squared_error: 4.0133e-04 - mean_absolute_error: 0.0150 - val_loss: 9.9633e-04 - val_mean_squared_error: 2.6841e-04 - val_mean_absolute_error: 0.0124\n",
      "Epoch 21/50\n",
      "8000/8000 - 1s - loss: 0.0010 - mean_squared_error: 3.0813e-04 - mean_absolute_error: 0.0131 - val_loss: 9.7999e-04 - val_mean_squared_error: 2.3754e-04 - val_mean_absolute_error: 0.0115\n",
      "Epoch 22/50\n",
      "8000/8000 - 1s - loss: 0.0011 - mean_squared_error: 3.1396e-04 - mean_absolute_error: 0.0128 - val_loss: 0.0012 - val_mean_squared_error: 4.5766e-04 - val_mean_absolute_error: 0.0144\n",
      "Epoch 23/50\n",
      "8000/8000 - 1s - loss: 0.0012 - mean_squared_error: 4.6400e-04 - mean_absolute_error: 0.0146 - val_loss: 0.0013 - val_mean_squared_error: 5.5905e-04 - val_mean_absolute_error: 0.0158\n",
      "Epoch 24/50\n",
      "8000/8000 - 1s - loss: 0.0011 - mean_squared_error: 3.3976e-04 - mean_absolute_error: 0.0133 - val_loss: 0.0010 - val_mean_squared_error: 2.8887e-04 - val_mean_absolute_error: 0.0124\n",
      "Epoch 25/50\n",
      "8000/8000 - 1s - loss: 0.0011 - mean_squared_error: 3.7356e-04 - mean_absolute_error: 0.0136 - val_loss: 0.0011 - val_mean_squared_error: 4.1006e-04 - val_mean_absolute_error: 0.0142\n",
      "Epoch 26/50\n",
      "8000/8000 - 1s - loss: 0.0013 - mean_squared_error: 5.7190e-04 - mean_absolute_error: 0.0157 - val_loss: 0.0013 - val_mean_squared_error: 5.2537e-04 - val_mean_absolute_error: 0.0153\n"
     ]
    },
    {
     "data": {
      "text/html": [
       "<span style=\"color:#4527A0\"><h1 style=\"font-size:18px\">Trial complete</h1></span>"
      ],
      "text/plain": [
       "<IPython.core.display.HTML object>"
      ]
     },
     "metadata": {},
     "output_type": "display_data"
    },
    {
     "data": {
      "text/html": [
       "<span style=\"color:#4527A0\"><h1 style=\"font-size:18px\">Trial summary</h1></span>"
      ],
      "text/plain": [
       "<IPython.core.display.HTML object>"
      ]
     },
     "metadata": {},
     "output_type": "display_data"
    },
    {
     "data": {
      "text/html": [
       "<span style=\"color:cyan\"> |-Trial ID: be7d1d04d3d3333581ac5db3cf01793f</span>"
      ],
      "text/plain": [
       "<IPython.core.display.HTML object>"
      ]
     },
     "metadata": {},
     "output_type": "display_data"
    },
    {
     "data": {
      "text/html": [
       "<span style=\"color:cyan\"> |-Score: 0.00023753952700644732</span>"
      ],
      "text/plain": [
       "<IPython.core.display.HTML object>"
      ]
     },
     "metadata": {},
     "output_type": "display_data"
    },
    {
     "data": {
      "text/html": [
       "<span style=\"color:cyan\"> |-Best step: 0</span>"
      ],
      "text/plain": [
       "<IPython.core.display.HTML object>"
      ]
     },
     "metadata": {},
     "output_type": "display_data"
    },
    {
     "data": {
      "text/html": [
       "<span style=\"color:#7E57C2\"><h2 style=\"font-size:16px\">Hyperparameters:</h2></span>"
      ],
      "text/plain": [
       "<IPython.core.display.HTML object>"
      ]
     },
     "metadata": {},
     "output_type": "display_data"
    },
    {
     "data": {
      "text/html": [
       "<span style=\"color:cyan\"> |-hidden_units: 68</span>"
      ],
      "text/plain": [
       "<IPython.core.display.HTML object>"
      ]
     },
     "metadata": {},
     "output_type": "display_data"
    },
    {
     "data": {
      "text/html": [
       "<span style=\"color:blue\"> |-learning_rate: 0.01</span>"
      ],
      "text/plain": [
       "<IPython.core.display.HTML object>"
      ]
     },
     "metadata": {},
     "output_type": "display_data"
    },
    {
     "data": {
      "text/html": [
       "<span style=\"color:cyan\"> |-tuner/bracket: 2</span>"
      ],
      "text/plain": [
       "<IPython.core.display.HTML object>"
      ]
     },
     "metadata": {},
     "output_type": "display_data"
    },
    {
     "data": {
      "text/html": [
       "<span style=\"color:blue\"> |-tuner/epochs: 50</span>"
      ],
      "text/plain": [
       "<IPython.core.display.HTML object>"
      ]
     },
     "metadata": {},
     "output_type": "display_data"
    },
    {
     "data": {
      "text/html": [
       "<span style=\"color:cyan\"> |-tuner/initial_epoch: 17</span>"
      ],
      "text/plain": [
       "<IPython.core.display.HTML object>"
      ]
     },
     "metadata": {},
     "output_type": "display_data"
    },
    {
     "data": {
      "text/html": [
       "<span style=\"color:blue\"> |-tuner/round: 2</span>"
      ],
      "text/plain": [
       "<IPython.core.display.HTML object>"
      ]
     },
     "metadata": {},
     "output_type": "display_data"
    },
    {
     "data": {
      "text/html": [
       "<span style=\"color:cyan\"> |-tuner/trial_id: 3dd2ed9b4da1d72a7b1e36d4194d9439</span>"
      ],
      "text/plain": [
       "<IPython.core.display.HTML object>"
      ]
     },
     "metadata": {},
     "output_type": "display_data"
    },
    {
     "name": "stdout",
     "output_type": "stream",
     "text": [
      "Train on 8000 samples, validate on 2000 samples\n",
      "Epoch 18/50\n",
      "8000/8000 - 1s - loss: 0.0250 - mean_squared_error: 0.0246 - mean_absolute_error: 0.0954 - val_loss: 0.0015 - val_mean_squared_error: 9.4301e-04 - val_mean_absolute_error: 0.0248\n",
      "Epoch 19/50\n",
      "8000/8000 - 1s - loss: 0.0012 - mean_squared_error: 5.7955e-04 - mean_absolute_error: 0.0189 - val_loss: 0.0012 - val_mean_squared_error: 4.6732e-04 - val_mean_absolute_error: 0.0171\n",
      "Epoch 20/50\n",
      "8000/8000 - 1s - loss: 0.0010 - mean_squared_error: 3.1297e-04 - mean_absolute_error: 0.0136 - val_loss: 9.6856e-04 - val_mean_squared_error: 2.3634e-04 - val_mean_absolute_error: 0.0117\n",
      "Epoch 21/50\n",
      "8000/8000 - 1s - loss: 0.0010 - mean_squared_error: 2.9854e-04 - mean_absolute_error: 0.0129 - val_loss: 0.0010 - val_mean_squared_error: 2.8959e-04 - val_mean_absolute_error: 0.0126\n",
      "Epoch 22/50\n",
      "8000/8000 - 1s - loss: 0.0012 - mean_squared_error: 4.9393e-04 - mean_absolute_error: 0.0149 - val_loss: 0.0012 - val_mean_squared_error: 4.4092e-04 - val_mean_absolute_error: 0.0150\n",
      "Epoch 23/50\n",
      "8000/8000 - 1s - loss: 0.0012 - mean_squared_error: 4.8454e-04 - mean_absolute_error: 0.0149 - val_loss: 0.0016 - val_mean_squared_error: 8.6361e-04 - val_mean_absolute_error: 0.0181\n",
      "Epoch 24/50\n",
      "8000/8000 - 1s - loss: 0.0011 - mean_squared_error: 3.8233e-04 - mean_absolute_error: 0.0138 - val_loss: 0.0010 - val_mean_squared_error: 3.0412e-04 - val_mean_absolute_error: 0.0127\n",
      "Epoch 25/50\n",
      "8000/8000 - 1s - loss: 0.0011 - mean_squared_error: 3.5623e-04 - mean_absolute_error: 0.0135 - val_loss: 0.0011 - val_mean_squared_error: 3.4699e-04 - val_mean_absolute_error: 0.0134\n"
     ]
    },
    {
     "data": {
      "text/html": [
       "<span style=\"color:#4527A0\"><h1 style=\"font-size:18px\">Trial complete</h1></span>"
      ],
      "text/plain": [
       "<IPython.core.display.HTML object>"
      ]
     },
     "metadata": {},
     "output_type": "display_data"
    },
    {
     "data": {
      "text/html": [
       "<span style=\"color:#4527A0\"><h1 style=\"font-size:18px\">Trial summary</h1></span>"
      ],
      "text/plain": [
       "<IPython.core.display.HTML object>"
      ]
     },
     "metadata": {},
     "output_type": "display_data"
    },
    {
     "data": {
      "text/html": [
       "<span style=\"color:cyan\"> |-Trial ID: a13d11d4bb85bd4950f5a9edbd8a0a74</span>"
      ],
      "text/plain": [
       "<IPython.core.display.HTML object>"
      ]
     },
     "metadata": {},
     "output_type": "display_data"
    },
    {
     "data": {
      "text/html": [
       "<span style=\"color:cyan\"> |-Score: 0.00023633889213670045</span>"
      ],
      "text/plain": [
       "<IPython.core.display.HTML object>"
      ]
     },
     "metadata": {},
     "output_type": "display_data"
    },
    {
     "data": {
      "text/html": [
       "<span style=\"color:cyan\"> |-Best step: 0</span>"
      ],
      "text/plain": [
       "<IPython.core.display.HTML object>"
      ]
     },
     "metadata": {},
     "output_type": "display_data"
    },
    {
     "data": {
      "text/html": [
       "<span style=\"color:#7E57C2\"><h2 style=\"font-size:16px\">Hyperparameters:</h2></span>"
      ],
      "text/plain": [
       "<IPython.core.display.HTML object>"
      ]
     },
     "metadata": {},
     "output_type": "display_data"
    },
    {
     "data": {
      "text/html": [
       "<span style=\"color:cyan\"> |-hidden_units: 72</span>"
      ],
      "text/plain": [
       "<IPython.core.display.HTML object>"
      ]
     },
     "metadata": {},
     "output_type": "display_data"
    },
    {
     "data": {
      "text/html": [
       "<span style=\"color:blue\"> |-learning_rate: 0.01</span>"
      ],
      "text/plain": [
       "<IPython.core.display.HTML object>"
      ]
     },
     "metadata": {},
     "output_type": "display_data"
    },
    {
     "data": {
      "text/html": [
       "<span style=\"color:cyan\"> |-tuner/bracket: 2</span>"
      ],
      "text/plain": [
       "<IPython.core.display.HTML object>"
      ]
     },
     "metadata": {},
     "output_type": "display_data"
    },
    {
     "data": {
      "text/html": [
       "<span style=\"color:blue\"> |-tuner/epochs: 50</span>"
      ],
      "text/plain": [
       "<IPython.core.display.HTML object>"
      ]
     },
     "metadata": {},
     "output_type": "display_data"
    },
    {
     "data": {
      "text/html": [
       "<span style=\"color:cyan\"> |-tuner/initial_epoch: 17</span>"
      ],
      "text/plain": [
       "<IPython.core.display.HTML object>"
      ]
     },
     "metadata": {},
     "output_type": "display_data"
    },
    {
     "data": {
      "text/html": [
       "<span style=\"color:blue\"> |-tuner/round: 2</span>"
      ],
      "text/plain": [
       "<IPython.core.display.HTML object>"
      ]
     },
     "metadata": {},
     "output_type": "display_data"
    },
    {
     "data": {
      "text/html": [
       "<span style=\"color:cyan\"> |-tuner/trial_id: 54b8d7584bc0e4516d3e29fd583e7f0d</span>"
      ],
      "text/plain": [
       "<IPython.core.display.HTML object>"
      ]
     },
     "metadata": {},
     "output_type": "display_data"
    },
    {
     "name": "stdout",
     "output_type": "stream",
     "text": [
      "Train on 8000 samples, validate on 2000 samples\n",
      "Epoch 1/17\n",
      "8000/8000 - 1s - loss: 0.1521 - mean_squared_error: 0.1520 - mean_absolute_error: 0.3574 - val_loss: 0.0928 - val_mean_squared_error: 0.0927 - val_mean_absolute_error: 0.2726\n",
      "Epoch 2/17\n",
      "8000/8000 - 1s - loss: 0.0627 - mean_squared_error: 0.0625 - mean_absolute_error: 0.2138 - val_loss: 0.0406 - val_mean_squared_error: 0.0404 - val_mean_absolute_error: 0.1686\n",
      "Epoch 3/17\n",
      "8000/8000 - 1s - loss: 0.0257 - mean_squared_error: 0.0254 - mean_absolute_error: 0.1326 - val_loss: 0.0158 - val_mean_squared_error: 0.0155 - val_mean_absolute_error: 0.1047\n",
      "Epoch 4/17\n",
      "8000/8000 - 1s - loss: 0.0105 - mean_squared_error: 0.0101 - mean_absolute_error: 0.0854 - val_loss: 0.0073 - val_mean_squared_error: 0.0069 - val_mean_absolute_error: 0.0709\n",
      "Epoch 5/17\n",
      "8000/8000 - 1s - loss: 0.0055 - mean_squared_error: 0.0051 - mean_absolute_error: 0.0614 - val_loss: 0.0043 - val_mean_squared_error: 0.0039 - val_mean_absolute_error: 0.0537\n",
      "Epoch 6/17\n",
      "8000/8000 - 1s - loss: 0.0036 - mean_squared_error: 0.0031 - mean_absolute_error: 0.0481 - val_loss: 0.0030 - val_mean_squared_error: 0.0025 - val_mean_absolute_error: 0.0429\n",
      "Epoch 7/17\n",
      "8000/8000 - 1s - loss: 0.0026 - mean_squared_error: 0.0021 - mean_absolute_error: 0.0393 - val_loss: 0.0023 - val_mean_squared_error: 0.0018 - val_mean_absolute_error: 0.0356\n",
      "Epoch 8/17\n",
      "8000/8000 - 1s - loss: 0.0021 - mean_squared_error: 0.0016 - mean_absolute_error: 0.0332 - val_loss: 0.0019 - val_mean_squared_error: 0.0013 - val_mean_absolute_error: 0.0303\n",
      "Epoch 9/17\n",
      "8000/8000 - 1s - loss: 0.0017 - mean_squared_error: 0.0012 - mean_absolute_error: 0.0286 - val_loss: 0.0016 - val_mean_squared_error: 0.0010 - val_mean_absolute_error: 0.0263\n",
      "Epoch 10/17\n",
      "8000/8000 - 1s - loss: 0.0015 - mean_squared_error: 9.1957e-04 - mean_absolute_error: 0.0250 - val_loss: 0.0014 - val_mean_squared_error: 7.9926e-04 - val_mean_absolute_error: 0.0230\n",
      "Epoch 11/17\n",
      "8000/8000 - 1s - loss: 0.0013 - mean_squared_error: 7.3199e-04 - mean_absolute_error: 0.0221 - val_loss: 0.0012 - val_mean_squared_error: 6.3990e-04 - val_mean_absolute_error: 0.0205\n",
      "Epoch 12/17\n",
      "8000/8000 - 1s - loss: 0.0012 - mean_squared_error: 5.9435e-04 - mean_absolute_error: 0.0197 - val_loss: 0.0012 - val_mean_squared_error: 5.3656e-04 - val_mean_absolute_error: 0.0183\n",
      "Epoch 13/17\n",
      "8000/8000 - 1s - loss: 0.0011 - mean_squared_error: 4.9332e-04 - mean_absolute_error: 0.0178 - val_loss: 0.0011 - val_mean_squared_error: 4.3479e-04 - val_mean_absolute_error: 0.0163\n",
      "Epoch 14/17\n",
      "8000/8000 - 1s - loss: 0.0011 - mean_squared_error: 4.1508e-04 - mean_absolute_error: 0.0161 - val_loss: 0.0010 - val_mean_squared_error: 3.7942e-04 - val_mean_absolute_error: 0.0154\n",
      "Epoch 15/17\n",
      "8000/8000 - 1s - loss: 0.0010 - mean_squared_error: 3.5869e-04 - mean_absolute_error: 0.0148 - val_loss: 0.0010 - val_mean_squared_error: 3.2841e-04 - val_mean_absolute_error: 0.0142\n",
      "Epoch 16/17\n",
      "8000/8000 - 1s - loss: 0.0010 - mean_squared_error: 3.1337e-04 - mean_absolute_error: 0.0138 - val_loss: 9.8112e-04 - val_mean_squared_error: 2.8666e-04 - val_mean_absolute_error: 0.0130\n",
      "Epoch 17/17\n",
      "8000/8000 - 1s - loss: 9.8434e-04 - mean_squared_error: 2.8399e-04 - mean_absolute_error: 0.0130 - val_loss: 9.7435e-04 - val_mean_squared_error: 2.6819e-04 - val_mean_absolute_error: 0.0123\n"
     ]
    },
    {
     "data": {
      "text/html": [
       "<span style=\"color:#4527A0\"><h1 style=\"font-size:18px\">Trial complete</h1></span>"
      ],
      "text/plain": [
       "<IPython.core.display.HTML object>"
      ]
     },
     "metadata": {},
     "output_type": "display_data"
    },
    {
     "data": {
      "text/html": [
       "<span style=\"color:#4527A0\"><h1 style=\"font-size:18px\">Trial summary</h1></span>"
      ],
      "text/plain": [
       "<IPython.core.display.HTML object>"
      ]
     },
     "metadata": {},
     "output_type": "display_data"
    },
    {
     "data": {
      "text/html": [
       "<span style=\"color:cyan\"> |-Trial ID: 864f3588427d900be43d4430b912beaf</span>"
      ],
      "text/plain": [
       "<IPython.core.display.HTML object>"
      ]
     },
     "metadata": {},
     "output_type": "display_data"
    },
    {
     "data": {
      "text/html": [
       "<span style=\"color:cyan\"> |-Score: 0.0002681859477888793</span>"
      ],
      "text/plain": [
       "<IPython.core.display.HTML object>"
      ]
     },
     "metadata": {},
     "output_type": "display_data"
    },
    {
     "data": {
      "text/html": [
       "<span style=\"color:cyan\"> |-Best step: 0</span>"
      ],
      "text/plain": [
       "<IPython.core.display.HTML object>"
      ]
     },
     "metadata": {},
     "output_type": "display_data"
    },
    {
     "data": {
      "text/html": [
       "<span style=\"color:#7E57C2\"><h2 style=\"font-size:16px\">Hyperparameters:</h2></span>"
      ],
      "text/plain": [
       "<IPython.core.display.HTML object>"
      ]
     },
     "metadata": {},
     "output_type": "display_data"
    },
    {
     "data": {
      "text/html": [
       "<span style=\"color:cyan\"> |-hidden_units: 52</span>"
      ],
      "text/plain": [
       "<IPython.core.display.HTML object>"
      ]
     },
     "metadata": {},
     "output_type": "display_data"
    },
    {
     "data": {
      "text/html": [
       "<span style=\"color:blue\"> |-learning_rate: 0.001</span>"
      ],
      "text/plain": [
       "<IPython.core.display.HTML object>"
      ]
     },
     "metadata": {},
     "output_type": "display_data"
    },
    {
     "data": {
      "text/html": [
       "<span style=\"color:cyan\"> |-tuner/bracket: 1</span>"
      ],
      "text/plain": [
       "<IPython.core.display.HTML object>"
      ]
     },
     "metadata": {},
     "output_type": "display_data"
    },
    {
     "data": {
      "text/html": [
       "<span style=\"color:blue\"> |-tuner/epochs: 17</span>"
      ],
      "text/plain": [
       "<IPython.core.display.HTML object>"
      ]
     },
     "metadata": {},
     "output_type": "display_data"
    },
    {
     "data": {
      "text/html": [
       "<span style=\"color:cyan\"> |-tuner/initial_epoch: 0</span>"
      ],
      "text/plain": [
       "<IPython.core.display.HTML object>"
      ]
     },
     "metadata": {},
     "output_type": "display_data"
    },
    {
     "data": {
      "text/html": [
       "<span style=\"color:blue\"> |-tuner/round: 0</span>"
      ],
      "text/plain": [
       "<IPython.core.display.HTML object>"
      ]
     },
     "metadata": {},
     "output_type": "display_data"
    },
    {
     "name": "stdout",
     "output_type": "stream",
     "text": [
      "Train on 8000 samples, validate on 2000 samples\n",
      "Epoch 1/17\n",
      "8000/8000 - 1s - loss: 0.0212 - mean_squared_error: 0.0208 - mean_absolute_error: 0.0847 - val_loss: 0.0014 - val_mean_squared_error: 7.6353e-04 - val_mean_absolute_error: 0.0222\n",
      "Epoch 2/17\n",
      "8000/8000 - 1s - loss: 0.0012 - mean_squared_error: 5.0222e-04 - mean_absolute_error: 0.0175 - val_loss: 0.0010 - val_mean_squared_error: 3.1074e-04 - val_mean_absolute_error: 0.0136\n",
      "Epoch 3/17\n",
      "8000/8000 - 1s - loss: 0.0012 - mean_squared_error: 4.4668e-04 - mean_absolute_error: 0.0148 - val_loss: 0.0010 - val_mean_squared_error: 2.9824e-04 - val_mean_absolute_error: 0.0129\n",
      "Epoch 4/17\n",
      "8000/8000 - 1s - loss: 0.0011 - mean_squared_error: 3.1566e-04 - mean_absolute_error: 0.0131 - val_loss: 0.0011 - val_mean_squared_error: 3.6644e-04 - val_mean_absolute_error: 0.0138\n",
      "Epoch 5/17\n",
      "8000/8000 - 1s - loss: 0.0012 - mean_squared_error: 5.0269e-04 - mean_absolute_error: 0.0151 - val_loss: 0.0021 - val_mean_squared_error: 0.0013 - val_mean_absolute_error: 0.0227\n",
      "Epoch 6/17\n",
      "8000/8000 - 1s - loss: 0.0013 - mean_squared_error: 6.1707e-04 - mean_absolute_error: 0.0161 - val_loss: 0.0016 - val_mean_squared_error: 8.3804e-04 - val_mean_absolute_error: 0.0183\n",
      "Epoch 7/17\n",
      "8000/8000 - 1s - loss: 0.0012 - mean_squared_error: 5.1569e-04 - mean_absolute_error: 0.0154 - val_loss: 0.0012 - val_mean_squared_error: 4.1759e-04 - val_mean_absolute_error: 0.0140\n",
      "Epoch 8/17\n",
      "8000/8000 - 1s - loss: 0.0012 - mean_squared_error: 4.1820e-04 - mean_absolute_error: 0.0142 - val_loss: 0.0011 - val_mean_squared_error: 4.1335e-04 - val_mean_absolute_error: 0.0142\n"
     ]
    },
    {
     "data": {
      "text/html": [
       "<span style=\"color:#4527A0\"><h1 style=\"font-size:18px\">Trial complete</h1></span>"
      ],
      "text/plain": [
       "<IPython.core.display.HTML object>"
      ]
     },
     "metadata": {},
     "output_type": "display_data"
    },
    {
     "data": {
      "text/html": [
       "<span style=\"color:#4527A0\"><h1 style=\"font-size:18px\">Trial summary</h1></span>"
      ],
      "text/plain": [
       "<IPython.core.display.HTML object>"
      ]
     },
     "metadata": {},
     "output_type": "display_data"
    },
    {
     "data": {
      "text/html": [
       "<span style=\"color:cyan\"> |-Trial ID: f15bc42ce73ac75a9af707f98a2faf66</span>"
      ],
      "text/plain": [
       "<IPython.core.display.HTML object>"
      ]
     },
     "metadata": {},
     "output_type": "display_data"
    },
    {
     "data": {
      "text/html": [
       "<span style=\"color:cyan\"> |-Score: 0.0002982416481245309</span>"
      ],
      "text/plain": [
       "<IPython.core.display.HTML object>"
      ]
     },
     "metadata": {},
     "output_type": "display_data"
    },
    {
     "data": {
      "text/html": [
       "<span style=\"color:cyan\"> |-Best step: 0</span>"
      ],
      "text/plain": [
       "<IPython.core.display.HTML object>"
      ]
     },
     "metadata": {},
     "output_type": "display_data"
    },
    {
     "data": {
      "text/html": [
       "<span style=\"color:#7E57C2\"><h2 style=\"font-size:16px\">Hyperparameters:</h2></span>"
      ],
      "text/plain": [
       "<IPython.core.display.HTML object>"
      ]
     },
     "metadata": {},
     "output_type": "display_data"
    },
    {
     "data": {
      "text/html": [
       "<span style=\"color:cyan\"> |-hidden_units: 86</span>"
      ],
      "text/plain": [
       "<IPython.core.display.HTML object>"
      ]
     },
     "metadata": {},
     "output_type": "display_data"
    },
    {
     "data": {
      "text/html": [
       "<span style=\"color:blue\"> |-learning_rate: 0.01</span>"
      ],
      "text/plain": [
       "<IPython.core.display.HTML object>"
      ]
     },
     "metadata": {},
     "output_type": "display_data"
    },
    {
     "data": {
      "text/html": [
       "<span style=\"color:cyan\"> |-tuner/bracket: 1</span>"
      ],
      "text/plain": [
       "<IPython.core.display.HTML object>"
      ]
     },
     "metadata": {},
     "output_type": "display_data"
    },
    {
     "data": {
      "text/html": [
       "<span style=\"color:blue\"> |-tuner/epochs: 17</span>"
      ],
      "text/plain": [
       "<IPython.core.display.HTML object>"
      ]
     },
     "metadata": {},
     "output_type": "display_data"
    },
    {
     "data": {
      "text/html": [
       "<span style=\"color:cyan\"> |-tuner/initial_epoch: 0</span>"
      ],
      "text/plain": [
       "<IPython.core.display.HTML object>"
      ]
     },
     "metadata": {},
     "output_type": "display_data"
    },
    {
     "data": {
      "text/html": [
       "<span style=\"color:blue\"> |-tuner/round: 0</span>"
      ],
      "text/plain": [
       "<IPython.core.display.HTML object>"
      ]
     },
     "metadata": {},
     "output_type": "display_data"
    },
    {
     "name": "stdout",
     "output_type": "stream",
     "text": [
      "Train on 8000 samples, validate on 2000 samples\n",
      "Epoch 1/17\n",
      "8000/8000 - 1s - loss: 0.0159 - mean_squared_error: 0.0154 - mean_absolute_error: 0.0674 - val_loss: 0.0013 - val_mean_squared_error: 6.1816e-04 - val_mean_absolute_error: 0.0191\n",
      "Epoch 2/17\n",
      "8000/8000 - 1s - loss: 0.0012 - mean_squared_error: 5.2667e-04 - mean_absolute_error: 0.0169 - val_loss: 0.0011 - val_mean_squared_error: 3.5055e-04 - val_mean_absolute_error: 0.0139\n",
      "Epoch 3/17\n",
      "8000/8000 - 1s - loss: 0.0011 - mean_squared_error: 3.3967e-04 - mean_absolute_error: 0.0136 - val_loss: 0.0014 - val_mean_squared_error: 6.3240e-04 - val_mean_absolute_error: 0.0165\n",
      "Epoch 4/17\n",
      "8000/8000 - 1s - loss: 0.0014 - mean_squared_error: 6.9247e-04 - mean_absolute_error: 0.0170 - val_loss: 0.0012 - val_mean_squared_error: 4.5963e-04 - val_mean_absolute_error: 0.0148\n",
      "Epoch 5/17\n",
      "8000/8000 - 1s - loss: 0.0021 - mean_squared_error: 0.0013 - mean_absolute_error: 0.0205 - val_loss: 0.0024 - val_mean_squared_error: 0.0017 - val_mean_absolute_error: 0.0245\n",
      "Epoch 6/17\n",
      "8000/8000 - 1s - loss: 0.0013 - mean_squared_error: 5.9222e-04 - mean_absolute_error: 0.0160 - val_loss: 0.0013 - val_mean_squared_error: 5.7422e-04 - val_mean_absolute_error: 0.0152\n",
      "Epoch 7/17\n",
      "8000/8000 - 1s - loss: 0.0015 - mean_squared_error: 7.2454e-04 - mean_absolute_error: 0.0170 - val_loss: 0.0014 - val_mean_squared_error: 6.6868e-04 - val_mean_absolute_error: 0.0161\n"
     ]
    },
    {
     "data": {
      "text/html": [
       "<span style=\"color:#4527A0\"><h1 style=\"font-size:18px\">Trial complete</h1></span>"
      ],
      "text/plain": [
       "<IPython.core.display.HTML object>"
      ]
     },
     "metadata": {},
     "output_type": "display_data"
    },
    {
     "data": {
      "text/html": [
       "<span style=\"color:#4527A0\"><h1 style=\"font-size:18px\">Trial summary</h1></span>"
      ],
      "text/plain": [
       "<IPython.core.display.HTML object>"
      ]
     },
     "metadata": {},
     "output_type": "display_data"
    },
    {
     "data": {
      "text/html": [
       "<span style=\"color:cyan\"> |-Trial ID: 927900a0edd572e2eb2391c9ca5536d8</span>"
      ],
      "text/plain": [
       "<IPython.core.display.HTML object>"
      ]
     },
     "metadata": {},
     "output_type": "display_data"
    },
    {
     "data": {
      "text/html": [
       "<span style=\"color:cyan\"> |-Score: 0.00035055025364272296</span>"
      ],
      "text/plain": [
       "<IPython.core.display.HTML object>"
      ]
     },
     "metadata": {},
     "output_type": "display_data"
    },
    {
     "data": {
      "text/html": [
       "<span style=\"color:cyan\"> |-Best step: 0</span>"
      ],
      "text/plain": [
       "<IPython.core.display.HTML object>"
      ]
     },
     "metadata": {},
     "output_type": "display_data"
    },
    {
     "data": {
      "text/html": [
       "<span style=\"color:#7E57C2\"><h2 style=\"font-size:16px\">Hyperparameters:</h2></span>"
      ],
      "text/plain": [
       "<IPython.core.display.HTML object>"
      ]
     },
     "metadata": {},
     "output_type": "display_data"
    },
    {
     "data": {
      "text/html": [
       "<span style=\"color:cyan\"> |-hidden_units: 144</span>"
      ],
      "text/plain": [
       "<IPython.core.display.HTML object>"
      ]
     },
     "metadata": {},
     "output_type": "display_data"
    },
    {
     "data": {
      "text/html": [
       "<span style=\"color:blue\"> |-learning_rate: 0.01</span>"
      ],
      "text/plain": [
       "<IPython.core.display.HTML object>"
      ]
     },
     "metadata": {},
     "output_type": "display_data"
    },
    {
     "data": {
      "text/html": [
       "<span style=\"color:cyan\"> |-tuner/bracket: 1</span>"
      ],
      "text/plain": [
       "<IPython.core.display.HTML object>"
      ]
     },
     "metadata": {},
     "output_type": "display_data"
    },
    {
     "data": {
      "text/html": [
       "<span style=\"color:blue\"> |-tuner/epochs: 17</span>"
      ],
      "text/plain": [
       "<IPython.core.display.HTML object>"
      ]
     },
     "metadata": {},
     "output_type": "display_data"
    },
    {
     "data": {
      "text/html": [
       "<span style=\"color:cyan\"> |-tuner/initial_epoch: 0</span>"
      ],
      "text/plain": [
       "<IPython.core.display.HTML object>"
      ]
     },
     "metadata": {},
     "output_type": "display_data"
    },
    {
     "data": {
      "text/html": [
       "<span style=\"color:blue\"> |-tuner/round: 0</span>"
      ],
      "text/plain": [
       "<IPython.core.display.HTML object>"
      ]
     },
     "metadata": {},
     "output_type": "display_data"
    },
    {
     "name": "stdout",
     "output_type": "stream",
     "text": [
      "Train on 8000 samples, validate on 2000 samples\n",
      "Epoch 1/17\n",
      "8000/8000 - 1s - loss: 0.0213 - mean_squared_error: 0.0209 - mean_absolute_error: 0.0845 - val_loss: 0.0014 - val_mean_squared_error: 7.5347e-04 - val_mean_absolute_error: 0.0221\n",
      "Epoch 2/17\n",
      "8000/8000 - 1s - loss: 0.0012 - mean_squared_error: 4.9596e-04 - mean_absolute_error: 0.0174 - val_loss: 0.0010 - val_mean_squared_error: 3.0153e-04 - val_mean_absolute_error: 0.0134\n",
      "Epoch 3/17\n",
      "8000/8000 - 1s - loss: 0.0012 - mean_squared_error: 4.2485e-04 - mean_absolute_error: 0.0145 - val_loss: 9.8980e-04 - val_mean_squared_error: 2.5550e-04 - val_mean_absolute_error: 0.0121\n",
      "Epoch 4/17\n",
      "8000/8000 - 1s - loss: 0.0011 - mean_squared_error: 3.1732e-04 - mean_absolute_error: 0.0131 - val_loss: 0.0010 - val_mean_squared_error: 3.0050e-04 - val_mean_absolute_error: 0.0128\n",
      "Epoch 5/17\n",
      "8000/8000 - 1s - loss: 0.0014 - mean_squared_error: 6.5672e-04 - mean_absolute_error: 0.0164 - val_loss: 0.0015 - val_mean_squared_error: 8.1397e-04 - val_mean_absolute_error: 0.0186\n",
      "Epoch 6/17\n",
      "8000/8000 - 1s - loss: 0.0013 - mean_squared_error: 5.3918e-04 - mean_absolute_error: 0.0155 - val_loss: 0.0017 - val_mean_squared_error: 9.7382e-04 - val_mean_absolute_error: 0.0194\n",
      "Epoch 7/17\n",
      "8000/8000 - 1s - loss: 0.0012 - mean_squared_error: 4.2866e-04 - mean_absolute_error: 0.0144 - val_loss: 0.0010 - val_mean_squared_error: 3.0965e-04 - val_mean_absolute_error: 0.0128\n",
      "Epoch 8/17\n",
      "8000/8000 - 1s - loss: 0.0012 - mean_squared_error: 4.3837e-04 - mean_absolute_error: 0.0142 - val_loss: 0.0012 - val_mean_squared_error: 4.5084e-04 - val_mean_absolute_error: 0.0146\n"
     ]
    },
    {
     "data": {
      "text/html": [
       "<span style=\"color:#4527A0\"><h1 style=\"font-size:18px\">Trial complete</h1></span>"
      ],
      "text/plain": [
       "<IPython.core.display.HTML object>"
      ]
     },
     "metadata": {},
     "output_type": "display_data"
    },
    {
     "data": {
      "text/html": [
       "<span style=\"color:#4527A0\"><h1 style=\"font-size:18px\">Trial summary</h1></span>"
      ],
      "text/plain": [
       "<IPython.core.display.HTML object>"
      ]
     },
     "metadata": {},
     "output_type": "display_data"
    },
    {
     "data": {
      "text/html": [
       "<span style=\"color:cyan\"> |-Trial ID: 4521154a6e7f85e1cf3a95a55d58ed4a</span>"
      ],
      "text/plain": [
       "<IPython.core.display.HTML object>"
      ]
     },
     "metadata": {},
     "output_type": "display_data"
    },
    {
     "data": {
      "text/html": [
       "<span style=\"color:cyan\"> |-Score: 0.0002554970851633698</span>"
      ],
      "text/plain": [
       "<IPython.core.display.HTML object>"
      ]
     },
     "metadata": {},
     "output_type": "display_data"
    },
    {
     "data": {
      "text/html": [
       "<span style=\"color:cyan\"> |-Best step: 0</span>"
      ],
      "text/plain": [
       "<IPython.core.display.HTML object>"
      ]
     },
     "metadata": {},
     "output_type": "display_data"
    },
    {
     "data": {
      "text/html": [
       "<span style=\"color:#7E57C2\"><h2 style=\"font-size:16px\">Hyperparameters:</h2></span>"
      ],
      "text/plain": [
       "<IPython.core.display.HTML object>"
      ]
     },
     "metadata": {},
     "output_type": "display_data"
    },
    {
     "data": {
      "text/html": [
       "<span style=\"color:cyan\"> |-hidden_units: 94</span>"
      ],
      "text/plain": [
       "<IPython.core.display.HTML object>"
      ]
     },
     "metadata": {},
     "output_type": "display_data"
    },
    {
     "data": {
      "text/html": [
       "<span style=\"color:blue\"> |-learning_rate: 0.01</span>"
      ],
      "text/plain": [
       "<IPython.core.display.HTML object>"
      ]
     },
     "metadata": {},
     "output_type": "display_data"
    },
    {
     "data": {
      "text/html": [
       "<span style=\"color:cyan\"> |-tuner/bracket: 1</span>"
      ],
      "text/plain": [
       "<IPython.core.display.HTML object>"
      ]
     },
     "metadata": {},
     "output_type": "display_data"
    },
    {
     "data": {
      "text/html": [
       "<span style=\"color:blue\"> |-tuner/epochs: 17</span>"
      ],
      "text/plain": [
       "<IPython.core.display.HTML object>"
      ]
     },
     "metadata": {},
     "output_type": "display_data"
    },
    {
     "data": {
      "text/html": [
       "<span style=\"color:cyan\"> |-tuner/initial_epoch: 0</span>"
      ],
      "text/plain": [
       "<IPython.core.display.HTML object>"
      ]
     },
     "metadata": {},
     "output_type": "display_data"
    },
    {
     "data": {
      "text/html": [
       "<span style=\"color:blue\"> |-tuner/round: 0</span>"
      ],
      "text/plain": [
       "<IPython.core.display.HTML object>"
      ]
     },
     "metadata": {},
     "output_type": "display_data"
    },
    {
     "name": "stdout",
     "output_type": "stream",
     "text": [
      "Train on 8000 samples, validate on 2000 samples\n",
      "Epoch 1/17\n",
      "8000/8000 - 1s - loss: 0.2000 - mean_squared_error: 0.1999 - mean_absolute_error: 0.4191 - val_loss: 0.1850 - val_mean_squared_error: 0.1849 - val_mean_absolute_error: 0.4019\n",
      "Epoch 2/17\n",
      "8000/8000 - 1s - loss: 0.1712 - mean_squared_error: 0.1710 - mean_absolute_error: 0.3871 - val_loss: 0.1584 - val_mean_squared_error: 0.1583 - val_mean_absolute_error: 0.3707\n",
      "Epoch 3/17\n",
      "8000/8000 - 1s - loss: 0.1447 - mean_squared_error: 0.1446 - mean_absolute_error: 0.3560 - val_loss: 0.1321 - val_mean_squared_error: 0.1320 - val_mean_absolute_error: 0.3392\n",
      "Epoch 4/17\n",
      "8000/8000 - 1s - loss: 0.1194 - mean_squared_error: 0.1192 - mean_absolute_error: 0.3228 - val_loss: 0.1081 - val_mean_squared_error: 0.1079 - val_mean_absolute_error: 0.3062\n",
      "Epoch 5/17\n",
      "8000/8000 - 1s - loss: 0.0971 - mean_squared_error: 0.0970 - mean_absolute_error: 0.2896 - val_loss: 0.0881 - val_mean_squared_error: 0.0879 - val_mean_absolute_error: 0.2735\n",
      "Epoch 6/17\n",
      "8000/8000 - 1s - loss: 0.0791 - mean_squared_error: 0.0789 - mean_absolute_error: 0.2587 - val_loss: 0.0722 - val_mean_squared_error: 0.0720 - val_mean_absolute_error: 0.2451\n",
      "Epoch 7/17\n",
      "8000/8000 - 1s - loss: 0.0648 - mean_squared_error: 0.0646 - mean_absolute_error: 0.2315 - val_loss: 0.0594 - val_mean_squared_error: 0.0592 - val_mean_absolute_error: 0.2193\n",
      "Epoch 8/17\n",
      "8000/8000 - 1s - loss: 0.0532 - mean_squared_error: 0.0530 - mean_absolute_error: 0.2075 - val_loss: 0.0488 - val_mean_squared_error: 0.0486 - val_mean_absolute_error: 0.1971\n",
      "Epoch 9/17\n",
      "8000/8000 - 1s - loss: 0.0435 - mean_squared_error: 0.0433 - mean_absolute_error: 0.1862 - val_loss: 0.0398 - val_mean_squared_error: 0.0396 - val_mean_absolute_error: 0.1768\n",
      "Epoch 10/17\n",
      "8000/8000 - 1s - loss: 0.0354 - mean_squared_error: 0.0351 - mean_absolute_error: 0.1670 - val_loss: 0.0323 - val_mean_squared_error: 0.0321 - val_mean_absolute_error: 0.1590\n",
      "Epoch 11/17\n",
      "8000/8000 - 1s - loss: 0.0286 - mean_squared_error: 0.0284 - mean_absolute_error: 0.1498 - val_loss: 0.0261 - val_mean_squared_error: 0.0259 - val_mean_absolute_error: 0.1430\n",
      "Epoch 12/17\n",
      "8000/8000 - 1s - loss: 0.0231 - mean_squared_error: 0.0229 - mean_absolute_error: 0.1344 - val_loss: 0.0211 - val_mean_squared_error: 0.0208 - val_mean_absolute_error: 0.1280\n",
      "Epoch 13/17\n",
      "8000/8000 - 1s - loss: 0.0187 - mean_squared_error: 0.0184 - mean_absolute_error: 0.1207 - val_loss: 0.0171 - val_mean_squared_error: 0.0168 - val_mean_absolute_error: 0.1153\n",
      "Epoch 14/17\n",
      "8000/8000 - 1s - loss: 0.0152 - mean_squared_error: 0.0149 - mean_absolute_error: 0.1087 - val_loss: 0.0139 - val_mean_squared_error: 0.0136 - val_mean_absolute_error: 0.1036\n",
      "Epoch 15/17\n",
      "8000/8000 - 1s - loss: 0.0124 - mean_squared_error: 0.0121 - mean_absolute_error: 0.0983 - val_loss: 0.0114 - val_mean_squared_error: 0.0111 - val_mean_absolute_error: 0.0941\n",
      "Epoch 16/17\n",
      "8000/8000 - 1s - loss: 0.0103 - mean_squared_error: 0.0099 - mean_absolute_error: 0.0892 - val_loss: 0.0095 - val_mean_squared_error: 0.0091 - val_mean_absolute_error: 0.0857\n",
      "Epoch 17/17\n",
      "8000/8000 - 1s - loss: 0.0086 - mean_squared_error: 0.0082 - mean_absolute_error: 0.0813 - val_loss: 0.0080 - val_mean_squared_error: 0.0076 - val_mean_absolute_error: 0.0780\n"
     ]
    },
    {
     "data": {
      "text/html": [
       "<span style=\"color:#4527A0\"><h1 style=\"font-size:18px\">Trial complete</h1></span>"
      ],
      "text/plain": [
       "<IPython.core.display.HTML object>"
      ]
     },
     "metadata": {},
     "output_type": "display_data"
    },
    {
     "data": {
      "text/html": [
       "<span style=\"color:#4527A0\"><h1 style=\"font-size:18px\">Trial summary</h1></span>"
      ],
      "text/plain": [
       "<IPython.core.display.HTML object>"
      ]
     },
     "metadata": {},
     "output_type": "display_data"
    },
    {
     "data": {
      "text/html": [
       "<span style=\"color:cyan\"> |-Trial ID: 25126bb7a9f8ed866ad7af2f559b5b21</span>"
      ],
      "text/plain": [
       "<IPython.core.display.HTML object>"
      ]
     },
     "metadata": {},
     "output_type": "display_data"
    },
    {
     "data": {
      "text/html": [
       "<span style=\"color:cyan\"> |-Score: 0.007610825821757317</span>"
      ],
      "text/plain": [
       "<IPython.core.display.HTML object>"
      ]
     },
     "metadata": {},
     "output_type": "display_data"
    },
    {
     "data": {
      "text/html": [
       "<span style=\"color:cyan\"> |-Best step: 0</span>"
      ],
      "text/plain": [
       "<IPython.core.display.HTML object>"
      ]
     },
     "metadata": {},
     "output_type": "display_data"
    },
    {
     "data": {
      "text/html": [
       "<span style=\"color:#7E57C2\"><h2 style=\"font-size:16px\">Hyperparameters:</h2></span>"
      ],
      "text/plain": [
       "<IPython.core.display.HTML object>"
      ]
     },
     "metadata": {},
     "output_type": "display_data"
    },
    {
     "data": {
      "text/html": [
       "<span style=\"color:cyan\"> |-hidden_units: 142</span>"
      ],
      "text/plain": [
       "<IPython.core.display.HTML object>"
      ]
     },
     "metadata": {},
     "output_type": "display_data"
    },
    {
     "data": {
      "text/html": [
       "<span style=\"color:blue\"> |-learning_rate: 0.0001</span>"
      ],
      "text/plain": [
       "<IPython.core.display.HTML object>"
      ]
     },
     "metadata": {},
     "output_type": "display_data"
    },
    {
     "data": {
      "text/html": [
       "<span style=\"color:cyan\"> |-tuner/bracket: 1</span>"
      ],
      "text/plain": [
       "<IPython.core.display.HTML object>"
      ]
     },
     "metadata": {},
     "output_type": "display_data"
    },
    {
     "data": {
      "text/html": [
       "<span style=\"color:blue\"> |-tuner/epochs: 17</span>"
      ],
      "text/plain": [
       "<IPython.core.display.HTML object>"
      ]
     },
     "metadata": {},
     "output_type": "display_data"
    },
    {
     "data": {
      "text/html": [
       "<span style=\"color:cyan\"> |-tuner/initial_epoch: 0</span>"
      ],
      "text/plain": [
       "<IPython.core.display.HTML object>"
      ]
     },
     "metadata": {},
     "output_type": "display_data"
    },
    {
     "data": {
      "text/html": [
       "<span style=\"color:blue\"> |-tuner/round: 0</span>"
      ],
      "text/plain": [
       "<IPython.core.display.HTML object>"
      ]
     },
     "metadata": {},
     "output_type": "display_data"
    },
    {
     "name": "stdout",
     "output_type": "stream",
     "text": [
      "Train on 8000 samples, validate on 2000 samples\n",
      "Epoch 1/17\n",
      "8000/8000 - 1s - loss: 0.1310 - mean_squared_error: 0.1309 - mean_absolute_error: 0.3280 - val_loss: 0.0622 - val_mean_squared_error: 0.0620 - val_mean_absolute_error: 0.2217\n",
      "Epoch 2/17\n",
      "8000/8000 - 1s - loss: 0.0337 - mean_squared_error: 0.0334 - mean_absolute_error: 0.1569 - val_loss: 0.0162 - val_mean_squared_error: 0.0159 - val_mean_absolute_error: 0.1099\n",
      "Epoch 3/17\n",
      "8000/8000 - 1s - loss: 0.0097 - mean_squared_error: 0.0093 - mean_absolute_error: 0.0846 - val_loss: 0.0061 - val_mean_squared_error: 0.0057 - val_mean_absolute_error: 0.0668\n",
      "Epoch 4/17\n",
      "8000/8000 - 1s - loss: 0.0046 - mean_squared_error: 0.0042 - mean_absolute_error: 0.0569 - val_loss: 0.0037 - val_mean_squared_error: 0.0032 - val_mean_absolute_error: 0.0488\n",
      "Epoch 5/17\n",
      "8000/8000 - 1s - loss: 0.0030 - mean_squared_error: 0.0025 - mean_absolute_error: 0.0435 - val_loss: 0.0025 - val_mean_squared_error: 0.0021 - val_mean_absolute_error: 0.0386\n",
      "Epoch 6/17\n",
      "8000/8000 - 1s - loss: 0.0022 - mean_squared_error: 0.0017 - mean_absolute_error: 0.0352 - val_loss: 0.0020 - val_mean_squared_error: 0.0014 - val_mean_absolute_error: 0.0316\n",
      "Epoch 7/17\n",
      "8000/8000 - 1s - loss: 0.0018 - mean_squared_error: 0.0012 - mean_absolute_error: 0.0294 - val_loss: 0.0016 - val_mean_squared_error: 0.0010 - val_mean_absolute_error: 0.0266\n",
      "Epoch 8/17\n",
      "8000/8000 - 1s - loss: 0.0015 - mean_squared_error: 9.2587e-04 - mean_absolute_error: 0.0251 - val_loss: 0.0014 - val_mean_squared_error: 7.8193e-04 - val_mean_absolute_error: 0.0228\n",
      "Epoch 9/17\n",
      "8000/8000 - 1s - loss: 0.0013 - mean_squared_error: 7.1136e-04 - mean_absolute_error: 0.0218 - val_loss: 0.0012 - val_mean_squared_error: 6.1361e-04 - val_mean_absolute_error: 0.0200\n",
      "Epoch 10/17\n",
      "8000/8000 - 1s - loss: 0.0012 - mean_squared_error: 5.6228e-04 - mean_absolute_error: 0.0191 - val_loss: 0.0011 - val_mean_squared_error: 4.8684e-04 - val_mean_absolute_error: 0.0174\n",
      "Epoch 11/17\n",
      "8000/8000 - 1s - loss: 0.0011 - mean_squared_error: 4.5509e-04 - mean_absolute_error: 0.0170 - val_loss: 0.0011 - val_mean_squared_error: 4.0162e-04 - val_mean_absolute_error: 0.0159\n",
      "Epoch 12/17\n",
      "8000/8000 - 1s - loss: 0.0011 - mean_squared_error: 3.8012e-04 - mean_absolute_error: 0.0154 - val_loss: 0.0010 - val_mean_squared_error: 3.3511e-04 - val_mean_absolute_error: 0.0142\n",
      "Epoch 13/17\n",
      "8000/8000 - 1s - loss: 0.0010 - mean_squared_error: 3.2484e-04 - mean_absolute_error: 0.0140 - val_loss: 9.9188e-04 - val_mean_squared_error: 2.9617e-04 - val_mean_absolute_error: 0.0130\n",
      "Epoch 14/17\n",
      "8000/8000 - 1s - loss: 9.9149e-04 - mean_squared_error: 2.8906e-04 - mean_absolute_error: 0.0132 - val_loss: 9.7603e-04 - val_mean_squared_error: 2.6719e-04 - val_mean_absolute_error: 0.0126\n",
      "Epoch 15/17\n",
      "8000/8000 - 1s - loss: 9.7385e-04 - mean_squared_error: 2.5927e-04 - mean_absolute_error: 0.0124 - val_loss: 9.5911e-04 - val_mean_squared_error: 2.3923e-04 - val_mean_absolute_error: 0.0118\n",
      "Epoch 16/17\n",
      "8000/8000 - 1s - loss: 9.6357e-04 - mean_squared_error: 2.3910e-04 - mean_absolute_error: 0.0118 - val_loss: 9.5704e-04 - val_mean_squared_error: 2.2810e-04 - val_mean_absolute_error: 0.0116\n",
      "Epoch 17/17\n",
      "8000/8000 - 1s - loss: 9.6309e-04 - mean_squared_error: 2.3061e-04 - mean_absolute_error: 0.0116 - val_loss: 9.5640e-04 - val_mean_squared_error: 2.2045e-04 - val_mean_absolute_error: 0.0110\n"
     ]
    },
    {
     "data": {
      "text/html": [
       "<span style=\"color:#4527A0\"><h1 style=\"font-size:18px\">Trial complete</h1></span>"
      ],
      "text/plain": [
       "<IPython.core.display.HTML object>"
      ]
     },
     "metadata": {},
     "output_type": "display_data"
    },
    {
     "data": {
      "text/html": [
       "<span style=\"color:#4527A0\"><h1 style=\"font-size:18px\">Trial summary</h1></span>"
      ],
      "text/plain": [
       "<IPython.core.display.HTML object>"
      ]
     },
     "metadata": {},
     "output_type": "display_data"
    },
    {
     "data": {
      "text/html": [
       "<span style=\"color:cyan\"> |-Trial ID: 216232f013b77079cc3de876a20e2c33</span>"
      ],
      "text/plain": [
       "<IPython.core.display.HTML object>"
      ]
     },
     "metadata": {},
     "output_type": "display_data"
    },
    {
     "data": {
      "text/html": [
       "<span style=\"color:cyan\"> |-Score: 0.0002204546908615157</span>"
      ],
      "text/plain": [
       "<IPython.core.display.HTML object>"
      ]
     },
     "metadata": {},
     "output_type": "display_data"
    },
    {
     "data": {
      "text/html": [
       "<span style=\"color:cyan\"> |-Best step: 0</span>"
      ],
      "text/plain": [
       "<IPython.core.display.HTML object>"
      ]
     },
     "metadata": {},
     "output_type": "display_data"
    },
    {
     "data": {
      "text/html": [
       "<span style=\"color:#7E57C2\"><h2 style=\"font-size:16px\">Hyperparameters:</h2></span>"
      ],
      "text/plain": [
       "<IPython.core.display.HTML object>"
      ]
     },
     "metadata": {},
     "output_type": "display_data"
    },
    {
     "data": {
      "text/html": [
       "<span style=\"color:cyan\"> |-hidden_units: 88</span>"
      ],
      "text/plain": [
       "<IPython.core.display.HTML object>"
      ]
     },
     "metadata": {},
     "output_type": "display_data"
    },
    {
     "data": {
      "text/html": [
       "<span style=\"color:blue\"> |-learning_rate: 0.001</span>"
      ],
      "text/plain": [
       "<IPython.core.display.HTML object>"
      ]
     },
     "metadata": {},
     "output_type": "display_data"
    },
    {
     "data": {
      "text/html": [
       "<span style=\"color:cyan\"> |-tuner/bracket: 1</span>"
      ],
      "text/plain": [
       "<IPython.core.display.HTML object>"
      ]
     },
     "metadata": {},
     "output_type": "display_data"
    },
    {
     "data": {
      "text/html": [
       "<span style=\"color:blue\"> |-tuner/epochs: 17</span>"
      ],
      "text/plain": [
       "<IPython.core.display.HTML object>"
      ]
     },
     "metadata": {},
     "output_type": "display_data"
    },
    {
     "data": {
      "text/html": [
       "<span style=\"color:cyan\"> |-tuner/initial_epoch: 0</span>"
      ],
      "text/plain": [
       "<IPython.core.display.HTML object>"
      ]
     },
     "metadata": {},
     "output_type": "display_data"
    },
    {
     "data": {
      "text/html": [
       "<span style=\"color:blue\"> |-tuner/round: 0</span>"
      ],
      "text/plain": [
       "<IPython.core.display.HTML object>"
      ]
     },
     "metadata": {},
     "output_type": "display_data"
    },
    {
     "name": "stdout",
     "output_type": "stream",
     "text": [
      "Train on 8000 samples, validate on 2000 samples\n",
      "Epoch 1/17\n",
      "8000/8000 - 1s - loss: 0.2145 - mean_squared_error: 0.2143 - mean_absolute_error: 0.4393 - val_loss: 0.1991 - val_mean_squared_error: 0.1990 - val_mean_absolute_error: 0.4189\n",
      "Epoch 2/17\n",
      "8000/8000 - 1s - loss: 0.1880 - mean_squared_error: 0.1879 - mean_absolute_error: 0.4052 - val_loss: 0.1793 - val_mean_squared_error: 0.1792 - val_mean_absolute_error: 0.3936\n",
      "Epoch 3/17\n",
      "8000/8000 - 1s - loss: 0.1687 - mean_squared_error: 0.1686 - mean_absolute_error: 0.3822 - val_loss: 0.1601 - val_mean_squared_error: 0.1600 - val_mean_absolute_error: 0.3718\n",
      "Epoch 4/17\n",
      "8000/8000 - 1s - loss: 0.1495 - mean_squared_error: 0.1494 - mean_absolute_error: 0.3594 - val_loss: 0.1410 - val_mean_squared_error: 0.1408 - val_mean_absolute_error: 0.3483\n",
      "Epoch 5/17\n",
      "8000/8000 - 1s - loss: 0.1308 - mean_squared_error: 0.1306 - mean_absolute_error: 0.3354 - val_loss: 0.1229 - val_mean_squared_error: 0.1227 - val_mean_absolute_error: 0.3234\n",
      "Epoch 6/17\n",
      "8000/8000 - 1s - loss: 0.1135 - mean_squared_error: 0.1133 - mean_absolute_error: 0.3105 - val_loss: 0.1066 - val_mean_squared_error: 0.1065 - val_mean_absolute_error: 0.2999\n",
      "Epoch 7/17\n",
      "8000/8000 - 1s - loss: 0.0984 - mean_squared_error: 0.0983 - mean_absolute_error: 0.2869 - val_loss: 0.0928 - val_mean_squared_error: 0.0927 - val_mean_absolute_error: 0.2769\n",
      "Epoch 8/17\n",
      "8000/8000 - 1s - loss: 0.0857 - mean_squared_error: 0.0856 - mean_absolute_error: 0.2649 - val_loss: 0.0812 - val_mean_squared_error: 0.0811 - val_mean_absolute_error: 0.2561\n",
      "Epoch 9/17\n",
      "8000/8000 - 1s - loss: 0.0750 - mean_squared_error: 0.0749 - mean_absolute_error: 0.2451 - val_loss: 0.0713 - val_mean_squared_error: 0.0711 - val_mean_absolute_error: 0.2370\n",
      "Epoch 10/17\n",
      "8000/8000 - 1s - loss: 0.0658 - mean_squared_error: 0.0656 - mean_absolute_error: 0.2270 - val_loss: 0.0625 - val_mean_squared_error: 0.0624 - val_mean_absolute_error: 0.2204\n",
      "Epoch 11/17\n",
      "8000/8000 - 1s - loss: 0.0575 - mean_squared_error: 0.0573 - mean_absolute_error: 0.2105 - val_loss: 0.0547 - val_mean_squared_error: 0.0545 - val_mean_absolute_error: 0.2049\n",
      "Epoch 12/17\n",
      "8000/8000 - 1s - loss: 0.0501 - mean_squared_error: 0.0499 - mean_absolute_error: 0.1951 - val_loss: 0.0475 - val_mean_squared_error: 0.0473 - val_mean_absolute_error: 0.1890\n",
      "Epoch 13/17\n",
      "8000/8000 - 1s - loss: 0.0434 - mean_squared_error: 0.0432 - mean_absolute_error: 0.1805 - val_loss: 0.0410 - val_mean_squared_error: 0.0408 - val_mean_absolute_error: 0.1756\n",
      "Epoch 14/17\n",
      "8000/8000 - 1s - loss: 0.0373 - mean_squared_error: 0.0371 - mean_absolute_error: 0.1669 - val_loss: 0.0353 - val_mean_squared_error: 0.0350 - val_mean_absolute_error: 0.1614\n",
      "Epoch 15/17\n",
      "8000/8000 - 1s - loss: 0.0319 - mean_squared_error: 0.0317 - mean_absolute_error: 0.1540 - val_loss: 0.0301 - val_mean_squared_error: 0.0298 - val_mean_absolute_error: 0.1494\n",
      "Epoch 16/17\n",
      "8000/8000 - 1s - loss: 0.0272 - mean_squared_error: 0.0269 - mean_absolute_error: 0.1420 - val_loss: 0.0255 - val_mean_squared_error: 0.0253 - val_mean_absolute_error: 0.1375\n",
      "Epoch 17/17\n",
      "8000/8000 - 1s - loss: 0.0231 - mean_squared_error: 0.0228 - mean_absolute_error: 0.1307 - val_loss: 0.0216 - val_mean_squared_error: 0.0214 - val_mean_absolute_error: 0.1265\n"
     ]
    },
    {
     "data": {
      "text/html": [
       "<span style=\"color:#4527A0\"><h1 style=\"font-size:18px\">Trial complete</h1></span>"
      ],
      "text/plain": [
       "<IPython.core.display.HTML object>"
      ]
     },
     "metadata": {},
     "output_type": "display_data"
    },
    {
     "data": {
      "text/html": [
       "<span style=\"color:#4527A0\"><h1 style=\"font-size:18px\">Trial summary</h1></span>"
      ],
      "text/plain": [
       "<IPython.core.display.HTML object>"
      ]
     },
     "metadata": {},
     "output_type": "display_data"
    },
    {
     "data": {
      "text/html": [
       "<span style=\"color:cyan\"> |-Trial ID: 5d747ab5441e3a0d0e319d613586c5c8</span>"
      ],
      "text/plain": [
       "<IPython.core.display.HTML object>"
      ]
     },
     "metadata": {},
     "output_type": "display_data"
    },
    {
     "data": {
      "text/html": [
       "<span style=\"color:cyan\"> |-Score: 0.021353764459490776</span>"
      ],
      "text/plain": [
       "<IPython.core.display.HTML object>"
      ]
     },
     "metadata": {},
     "output_type": "display_data"
    },
    {
     "data": {
      "text/html": [
       "<span style=\"color:cyan\"> |-Best step: 0</span>"
      ],
      "text/plain": [
       "<IPython.core.display.HTML object>"
      ]
     },
     "metadata": {},
     "output_type": "display_data"
    },
    {
     "data": {
      "text/html": [
       "<span style=\"color:#7E57C2\"><h2 style=\"font-size:16px\">Hyperparameters:</h2></span>"
      ],
      "text/plain": [
       "<IPython.core.display.HTML object>"
      ]
     },
     "metadata": {},
     "output_type": "display_data"
    },
    {
     "data": {
      "text/html": [
       "<span style=\"color:cyan\"> |-hidden_units: 82</span>"
      ],
      "text/plain": [
       "<IPython.core.display.HTML object>"
      ]
     },
     "metadata": {},
     "output_type": "display_data"
    },
    {
     "data": {
      "text/html": [
       "<span style=\"color:blue\"> |-learning_rate: 0.0001</span>"
      ],
      "text/plain": [
       "<IPython.core.display.HTML object>"
      ]
     },
     "metadata": {},
     "output_type": "display_data"
    },
    {
     "data": {
      "text/html": [
       "<span style=\"color:cyan\"> |-tuner/bracket: 1</span>"
      ],
      "text/plain": [
       "<IPython.core.display.HTML object>"
      ]
     },
     "metadata": {},
     "output_type": "display_data"
    },
    {
     "data": {
      "text/html": [
       "<span style=\"color:blue\"> |-tuner/epochs: 17</span>"
      ],
      "text/plain": [
       "<IPython.core.display.HTML object>"
      ]
     },
     "metadata": {},
     "output_type": "display_data"
    },
    {
     "data": {
      "text/html": [
       "<span style=\"color:cyan\"> |-tuner/initial_epoch: 0</span>"
      ],
      "text/plain": [
       "<IPython.core.display.HTML object>"
      ]
     },
     "metadata": {},
     "output_type": "display_data"
    },
    {
     "data": {
      "text/html": [
       "<span style=\"color:blue\"> |-tuner/round: 0</span>"
      ],
      "text/plain": [
       "<IPython.core.display.HTML object>"
      ]
     },
     "metadata": {},
     "output_type": "display_data"
    },
    {
     "name": "stdout",
     "output_type": "stream",
     "text": [
      "Train on 8000 samples, validate on 2000 samples\n",
      "Epoch 1/17\n",
      "8000/8000 - 1s - loss: 0.2073 - mean_squared_error: 0.2071 - mean_absolute_error: 0.4283 - val_loss: 0.1919 - val_mean_squared_error: 0.1918 - val_mean_absolute_error: 0.4084\n",
      "Epoch 2/17\n",
      "8000/8000 - 1s - loss: 0.1797 - mean_squared_error: 0.1795 - mean_absolute_error: 0.3954 - val_loss: 0.1676 - val_mean_squared_error: 0.1675 - val_mean_absolute_error: 0.3805\n",
      "Epoch 3/17\n",
      "8000/8000 - 1s - loss: 0.1554 - mean_squared_error: 0.1552 - mean_absolute_error: 0.3678 - val_loss: 0.1431 - val_mean_squared_error: 0.1430 - val_mean_absolute_error: 0.3525\n",
      "Epoch 4/17\n",
      "8000/8000 - 1s - loss: 0.1313 - mean_squared_error: 0.1311 - mean_absolute_error: 0.3380 - val_loss: 0.1197 - val_mean_squared_error: 0.1195 - val_mean_absolute_error: 0.3217\n",
      "Epoch 5/17\n",
      "8000/8000 - 1s - loss: 0.1090 - mean_squared_error: 0.1088 - mean_absolute_error: 0.3070 - val_loss: 0.0992 - val_mean_squared_error: 0.0990 - val_mean_absolute_error: 0.2909\n",
      "Epoch 6/17\n",
      "8000/8000 - 1s - loss: 0.0901 - mean_squared_error: 0.0900 - mean_absolute_error: 0.2770 - val_loss: 0.0824 - val_mean_squared_error: 0.0822 - val_mean_absolute_error: 0.2632\n",
      "Epoch 7/17\n",
      "8000/8000 - 1s - loss: 0.0749 - mean_squared_error: 0.0748 - mean_absolute_error: 0.2500 - val_loss: 0.0690 - val_mean_squared_error: 0.0688 - val_mean_absolute_error: 0.2376\n",
      "Epoch 8/17\n",
      "8000/8000 - 1s - loss: 0.0627 - mean_squared_error: 0.0625 - mean_absolute_error: 0.2260 - val_loss: 0.0579 - val_mean_squared_error: 0.0577 - val_mean_absolute_error: 0.2154\n",
      "Epoch 9/17\n",
      "8000/8000 - 1s - loss: 0.0524 - mean_squared_error: 0.0522 - mean_absolute_error: 0.2048 - val_loss: 0.0484 - val_mean_squared_error: 0.0482 - val_mean_absolute_error: 0.1953\n",
      "Epoch 10/17\n",
      "8000/8000 - 1s - loss: 0.0437 - mean_squared_error: 0.0435 - mean_absolute_error: 0.1856 - val_loss: 0.0402 - val_mean_squared_error: 0.0400 - val_mean_absolute_error: 0.1775\n",
      "Epoch 11/17\n",
      "8000/8000 - 1s - loss: 0.0362 - mean_squared_error: 0.0360 - mean_absolute_error: 0.1682 - val_loss: 0.0333 - val_mean_squared_error: 0.0330 - val_mean_absolute_error: 0.1612\n",
      "Epoch 12/17\n",
      "8000/8000 - 1s - loss: 0.0299 - mean_squared_error: 0.0296 - mean_absolute_error: 0.1522 - val_loss: 0.0274 - val_mean_squared_error: 0.0271 - val_mean_absolute_error: 0.1453\n",
      "Epoch 13/17\n",
      "8000/8000 - 1s - loss: 0.0245 - mean_squared_error: 0.0242 - mean_absolute_error: 0.1377 - val_loss: 0.0224 - val_mean_squared_error: 0.0222 - val_mean_absolute_error: 0.1318\n",
      "Epoch 14/17\n",
      "8000/8000 - 1s - loss: 0.0201 - mean_squared_error: 0.0198 - mean_absolute_error: 0.1247 - val_loss: 0.0184 - val_mean_squared_error: 0.0181 - val_mean_absolute_error: 0.1189\n",
      "Epoch 15/17\n",
      "8000/8000 - 1s - loss: 0.0165 - mean_squared_error: 0.0162 - mean_absolute_error: 0.1130 - val_loss: 0.0152 - val_mean_squared_error: 0.0148 - val_mean_absolute_error: 0.1082\n",
      "Epoch 16/17\n",
      "8000/8000 - 1s - loss: 0.0137 - mean_squared_error: 0.0133 - mean_absolute_error: 0.1027 - val_loss: 0.0126 - val_mean_squared_error: 0.0122 - val_mean_absolute_error: 0.0985\n",
      "Epoch 17/17\n",
      "8000/8000 - 1s - loss: 0.0114 - mean_squared_error: 0.0110 - mean_absolute_error: 0.0936 - val_loss: 0.0105 - val_mean_squared_error: 0.0101 - val_mean_absolute_error: 0.0896\n"
     ]
    },
    {
     "data": {
      "text/html": [
       "<span style=\"color:#4527A0\"><h1 style=\"font-size:18px\">Trial complete</h1></span>"
      ],
      "text/plain": [
       "<IPython.core.display.HTML object>"
      ]
     },
     "metadata": {},
     "output_type": "display_data"
    },
    {
     "data": {
      "text/html": [
       "<span style=\"color:#4527A0\"><h1 style=\"font-size:18px\">Trial summary</h1></span>"
      ],
      "text/plain": [
       "<IPython.core.display.HTML object>"
      ]
     },
     "metadata": {},
     "output_type": "display_data"
    },
    {
     "data": {
      "text/html": [
       "<span style=\"color:cyan\"> |-Trial ID: 6995582c9d842cf20939ec58868bffae</span>"
      ],
      "text/plain": [
       "<IPython.core.display.HTML object>"
      ]
     },
     "metadata": {},
     "output_type": "display_data"
    },
    {
     "data": {
      "text/html": [
       "<span style=\"color:cyan\"> |-Score: 0.010131740011274815</span>"
      ],
      "text/plain": [
       "<IPython.core.display.HTML object>"
      ]
     },
     "metadata": {},
     "output_type": "display_data"
    },
    {
     "data": {
      "text/html": [
       "<span style=\"color:cyan\"> |-Best step: 0</span>"
      ],
      "text/plain": [
       "<IPython.core.display.HTML object>"
      ]
     },
     "metadata": {},
     "output_type": "display_data"
    },
    {
     "data": {
      "text/html": [
       "<span style=\"color:#7E57C2\"><h2 style=\"font-size:16px\">Hyperparameters:</h2></span>"
      ],
      "text/plain": [
       "<IPython.core.display.HTML object>"
      ]
     },
     "metadata": {},
     "output_type": "display_data"
    },
    {
     "data": {
      "text/html": [
       "<span style=\"color:cyan\"> |-hidden_units: 120</span>"
      ],
      "text/plain": [
       "<IPython.core.display.HTML object>"
      ]
     },
     "metadata": {},
     "output_type": "display_data"
    },
    {
     "data": {
      "text/html": [
       "<span style=\"color:blue\"> |-learning_rate: 0.0001</span>"
      ],
      "text/plain": [
       "<IPython.core.display.HTML object>"
      ]
     },
     "metadata": {},
     "output_type": "display_data"
    },
    {
     "data": {
      "text/html": [
       "<span style=\"color:cyan\"> |-tuner/bracket: 1</span>"
      ],
      "text/plain": [
       "<IPython.core.display.HTML object>"
      ]
     },
     "metadata": {},
     "output_type": "display_data"
    },
    {
     "data": {
      "text/html": [
       "<span style=\"color:blue\"> |-tuner/epochs: 17</span>"
      ],
      "text/plain": [
       "<IPython.core.display.HTML object>"
      ]
     },
     "metadata": {},
     "output_type": "display_data"
    },
    {
     "data": {
      "text/html": [
       "<span style=\"color:cyan\"> |-tuner/initial_epoch: 0</span>"
      ],
      "text/plain": [
       "<IPython.core.display.HTML object>"
      ]
     },
     "metadata": {},
     "output_type": "display_data"
    },
    {
     "data": {
      "text/html": [
       "<span style=\"color:blue\"> |-tuner/round: 0</span>"
      ],
      "text/plain": [
       "<IPython.core.display.HTML object>"
      ]
     },
     "metadata": {},
     "output_type": "display_data"
    },
    {
     "name": "stdout",
     "output_type": "stream",
     "text": [
      "Train on 8000 samples, validate on 2000 samples\n",
      "Epoch 18/50\n",
      "8000/8000 - 1s - loss: 0.1302 - mean_squared_error: 0.1301 - mean_absolute_error: 0.3266 - val_loss: 0.0627 - val_mean_squared_error: 0.0625 - val_mean_absolute_error: 0.2198\n",
      "Epoch 19/50\n",
      "8000/8000 - 1s - loss: 0.0347 - mean_squared_error: 0.0345 - mean_absolute_error: 0.1586 - val_loss: 0.0166 - val_mean_squared_error: 0.0163 - val_mean_absolute_error: 0.1109\n",
      "Epoch 20/50\n",
      "8000/8000 - 1s - loss: 0.0100 - mean_squared_error: 0.0096 - mean_absolute_error: 0.0855 - val_loss: 0.0062 - val_mean_squared_error: 0.0058 - val_mean_absolute_error: 0.0670\n",
      "Epoch 21/50\n",
      "8000/8000 - 1s - loss: 0.0046 - mean_squared_error: 0.0042 - mean_absolute_error: 0.0572 - val_loss: 0.0037 - val_mean_squared_error: 0.0032 - val_mean_absolute_error: 0.0488\n",
      "Epoch 22/50\n",
      "8000/8000 - 1s - loss: 0.0030 - mean_squared_error: 0.0025 - mean_absolute_error: 0.0435 - val_loss: 0.0025 - val_mean_squared_error: 0.0020 - val_mean_absolute_error: 0.0385\n",
      "Epoch 23/50\n",
      "8000/8000 - 1s - loss: 0.0022 - mean_squared_error: 0.0017 - mean_absolute_error: 0.0352 - val_loss: 0.0020 - val_mean_squared_error: 0.0014 - val_mean_absolute_error: 0.0315\n",
      "Epoch 24/50\n",
      "8000/8000 - 1s - loss: 0.0018 - mean_squared_error: 0.0012 - mean_absolute_error: 0.0293 - val_loss: 0.0016 - val_mean_squared_error: 0.0010 - val_mean_absolute_error: 0.0265\n",
      "Epoch 25/50\n",
      "8000/8000 - 1s - loss: 0.0015 - mean_squared_error: 9.1650e-04 - mean_absolute_error: 0.0249 - val_loss: 0.0014 - val_mean_squared_error: 7.7376e-04 - val_mean_absolute_error: 0.0227\n",
      "Epoch 26/50\n",
      "8000/8000 - 1s - loss: 0.0013 - mean_squared_error: 7.0379e-04 - mean_absolute_error: 0.0216 - val_loss: 0.0012 - val_mean_squared_error: 6.0687e-04 - val_mean_absolute_error: 0.0199\n",
      "Epoch 27/50\n",
      "8000/8000 - 1s - loss: 0.0012 - mean_squared_error: 5.5640e-04 - mean_absolute_error: 0.0190 - val_loss: 0.0011 - val_mean_squared_error: 4.8242e-04 - val_mean_absolute_error: 0.0173\n",
      "Epoch 28/50\n",
      "8000/8000 - 1s - loss: 0.0011 - mean_squared_error: 4.5114e-04 - mean_absolute_error: 0.0169 - val_loss: 0.0011 - val_mean_squared_error: 3.9873e-04 - val_mean_absolute_error: 0.0158\n",
      "Epoch 29/50\n",
      "8000/8000 - 1s - loss: 0.0010 - mean_squared_error: 3.7740e-04 - mean_absolute_error: 0.0153 - val_loss: 0.0010 - val_mean_squared_error: 3.3305e-04 - val_mean_absolute_error: 0.0141\n",
      "Epoch 30/50\n",
      "8000/8000 - 1s - loss: 0.0010 - mean_squared_error: 3.2311e-04 - mean_absolute_error: 0.0140 - val_loss: 9.9133e-04 - val_mean_squared_error: 2.9505e-04 - val_mean_absolute_error: 0.0130\n",
      "Epoch 31/50\n",
      "8000/8000 - 1s - loss: 9.9104e-04 - mean_squared_error: 2.8809e-04 - mean_absolute_error: 0.0131 - val_loss: 9.7581e-04 - val_mean_squared_error: 2.6650e-04 - val_mean_absolute_error: 0.0126\n",
      "Epoch 32/50\n",
      "8000/8000 - 1s - loss: 9.7361e-04 - mean_squared_error: 2.5862e-04 - mean_absolute_error: 0.0123 - val_loss: 9.5893e-04 - val_mean_squared_error: 2.3869e-04 - val_mean_absolute_error: 0.0117\n",
      "Epoch 33/50\n",
      "8000/8000 - 1s - loss: 9.6358e-04 - mean_squared_error: 2.3881e-04 - mean_absolute_error: 0.0118 - val_loss: 9.5707e-04 - val_mean_squared_error: 2.2788e-04 - val_mean_absolute_error: 0.0115\n",
      "Epoch 34/50\n",
      "8000/8000 - 1s - loss: 9.6332e-04 - mean_squared_error: 2.3065e-04 - mean_absolute_error: 0.0116 - val_loss: 9.5653e-04 - val_mean_squared_error: 2.2042e-04 - val_mean_absolute_error: 0.0110\n",
      "Epoch 35/50\n",
      "8000/8000 - 1s - loss: 9.5666e-04 - mean_squared_error: 2.1739e-04 - mean_absolute_error: 0.0112 - val_loss: 9.4676e-04 - val_mean_squared_error: 2.0511e-04 - val_mean_absolute_error: 0.0109\n",
      "Epoch 36/50\n",
      "8000/8000 - 1s - loss: 9.5399e-04 - mean_squared_error: 2.1033e-04 - mean_absolute_error: 0.0110 - val_loss: 9.4230e-04 - val_mean_squared_error: 1.9666e-04 - val_mean_absolute_error: 0.0105\n",
      "Epoch 37/50\n",
      "8000/8000 - 1s - loss: 9.5139e-04 - mean_squared_error: 2.0423e-04 - mean_absolute_error: 0.0108 - val_loss: 9.4168e-04 - val_mean_squared_error: 1.9340e-04 - val_mean_absolute_error: 0.0104\n",
      "Epoch 38/50\n",
      "8000/8000 - 1s - loss: 9.5144e-04 - mean_squared_error: 2.0196e-04 - mean_absolute_error: 0.0108 - val_loss: 9.4705e-04 - val_mean_squared_error: 1.9689e-04 - val_mean_absolute_error: 0.0106\n",
      "Epoch 39/50\n",
      "8000/8000 - 1s - loss: 9.5276e-04 - mean_squared_error: 2.0225e-04 - mean_absolute_error: 0.0108 - val_loss: 9.4259e-04 - val_mean_squared_error: 1.9173e-04 - val_mean_absolute_error: 0.0102\n",
      "Epoch 40/50\n",
      "8000/8000 - 1s - loss: 9.4919e-04 - mean_squared_error: 1.9848e-04 - mean_absolute_error: 0.0106 - val_loss: 9.4021e-04 - val_mean_squared_error: 1.8933e-04 - val_mean_absolute_error: 0.0102\n",
      "Epoch 41/50\n",
      "8000/8000 - 1s - loss: 9.5672e-04 - mean_squared_error: 2.0588e-04 - mean_absolute_error: 0.0108 - val_loss: 9.6664e-04 - val_mean_squared_error: 2.1589e-04 - val_mean_absolute_error: 0.0109\n",
      "Epoch 42/50\n",
      "8000/8000 - 1s - loss: 9.5877e-04 - mean_squared_error: 2.0939e-04 - mean_absolute_error: 0.0109 - val_loss: 9.3687e-04 - val_mean_squared_error: 1.8734e-04 - val_mean_absolute_error: 0.0101\n",
      "Epoch 43/50\n",
      "8000/8000 - 1s - loss: 9.4346e-04 - mean_squared_error: 1.9366e-04 - mean_absolute_error: 0.0105 - val_loss: 9.4043e-04 - val_mean_squared_error: 1.9091e-04 - val_mean_absolute_error: 0.0104\n",
      "Epoch 44/50\n",
      "8000/8000 - 1s - loss: 9.5335e-04 - mean_squared_error: 2.0457e-04 - mean_absolute_error: 0.0108 - val_loss: 9.3297e-04 - val_mean_squared_error: 1.8493e-04 - val_mean_absolute_error: 0.0101\n",
      "Epoch 45/50\n",
      "8000/8000 - 1s - loss: 9.4486e-04 - mean_squared_error: 1.9727e-04 - mean_absolute_error: 0.0106 - val_loss: 9.3851e-04 - val_mean_squared_error: 1.9093e-04 - val_mean_absolute_error: 0.0102\n",
      "Epoch 46/50\n",
      "8000/8000 - 1s - loss: 9.4216e-04 - mean_squared_error: 1.9464e-04 - mean_absolute_error: 0.0105 - val_loss: 9.4028e-04 - val_mean_squared_error: 1.9323e-04 - val_mean_absolute_error: 0.0102\n",
      "Epoch 47/50\n",
      "8000/8000 - 1s - loss: 9.4949e-04 - mean_squared_error: 2.0293e-04 - mean_absolute_error: 0.0107 - val_loss: 9.3219e-04 - val_mean_squared_error: 1.8560e-04 - val_mean_absolute_error: 0.0101\n",
      "Epoch 48/50\n",
      "8000/8000 - 1s - loss: 9.4857e-04 - mean_squared_error: 2.0231e-04 - mean_absolute_error: 0.0107 - val_loss: 9.3368e-04 - val_mean_squared_error: 1.8801e-04 - val_mean_absolute_error: 0.0102\n",
      "Epoch 49/50\n",
      "8000/8000 - 1s - loss: 9.4639e-04 - mean_squared_error: 2.0107e-04 - mean_absolute_error: 0.0107 - val_loss: 9.3615e-04 - val_mean_squared_error: 1.9107e-04 - val_mean_absolute_error: 0.0104\n"
     ]
    },
    {
     "data": {
      "text/html": [
       "<span style=\"color:#4527A0\"><h1 style=\"font-size:18px\">Trial complete</h1></span>"
      ],
      "text/plain": [
       "<IPython.core.display.HTML object>"
      ]
     },
     "metadata": {},
     "output_type": "display_data"
    },
    {
     "data": {
      "text/html": [
       "<span style=\"color:#4527A0\"><h1 style=\"font-size:18px\">Trial summary</h1></span>"
      ],
      "text/plain": [
       "<IPython.core.display.HTML object>"
      ]
     },
     "metadata": {},
     "output_type": "display_data"
    },
    {
     "data": {
      "text/html": [
       "<span style=\"color:cyan\"> |-Trial ID: 8f2cfac0835612e54604c56f71cf0652</span>"
      ],
      "text/plain": [
       "<IPython.core.display.HTML object>"
      ]
     },
     "metadata": {},
     "output_type": "display_data"
    },
    {
     "data": {
      "text/html": [
       "<span style=\"color:cyan\"> |-Score: 0.00018493467359803617</span>"
      ],
      "text/plain": [
       "<IPython.core.display.HTML object>"
      ]
     },
     "metadata": {},
     "output_type": "display_data"
    },
    {
     "data": {
      "text/html": [
       "<span style=\"color:cyan\"> |-Best step: 0</span>"
      ],
      "text/plain": [
       "<IPython.core.display.HTML object>"
      ]
     },
     "metadata": {},
     "output_type": "display_data"
    },
    {
     "data": {
      "text/html": [
       "<span style=\"color:#7E57C2\"><h2 style=\"font-size:16px\">Hyperparameters:</h2></span>"
      ],
      "text/plain": [
       "<IPython.core.display.HTML object>"
      ]
     },
     "metadata": {},
     "output_type": "display_data"
    },
    {
     "data": {
      "text/html": [
       "<span style=\"color:cyan\"> |-hidden_units: 88</span>"
      ],
      "text/plain": [
       "<IPython.core.display.HTML object>"
      ]
     },
     "metadata": {},
     "output_type": "display_data"
    },
    {
     "data": {
      "text/html": [
       "<span style=\"color:blue\"> |-learning_rate: 0.001</span>"
      ],
      "text/plain": [
       "<IPython.core.display.HTML object>"
      ]
     },
     "metadata": {},
     "output_type": "display_data"
    },
    {
     "data": {
      "text/html": [
       "<span style=\"color:cyan\"> |-tuner/bracket: 1</span>"
      ],
      "text/plain": [
       "<IPython.core.display.HTML object>"
      ]
     },
     "metadata": {},
     "output_type": "display_data"
    },
    {
     "data": {
      "text/html": [
       "<span style=\"color:blue\"> |-tuner/epochs: 50</span>"
      ],
      "text/plain": [
       "<IPython.core.display.HTML object>"
      ]
     },
     "metadata": {},
     "output_type": "display_data"
    },
    {
     "data": {
      "text/html": [
       "<span style=\"color:cyan\"> |-tuner/initial_epoch: 17</span>"
      ],
      "text/plain": [
       "<IPython.core.display.HTML object>"
      ]
     },
     "metadata": {},
     "output_type": "display_data"
    },
    {
     "data": {
      "text/html": [
       "<span style=\"color:blue\"> |-tuner/round: 1</span>"
      ],
      "text/plain": [
       "<IPython.core.display.HTML object>"
      ]
     },
     "metadata": {},
     "output_type": "display_data"
    },
    {
     "data": {
      "text/html": [
       "<span style=\"color:cyan\"> |-tuner/trial_id: 216232f013b77079cc3de876a20e2c33</span>"
      ],
      "text/plain": [
       "<IPython.core.display.HTML object>"
      ]
     },
     "metadata": {},
     "output_type": "display_data"
    },
    {
     "name": "stdout",
     "output_type": "stream",
     "text": [
      "Train on 8000 samples, validate on 2000 samples\n",
      "Epoch 18/50\n",
      "8000/8000 - 1s - loss: 0.0215 - mean_squared_error: 0.0210 - mean_absolute_error: 0.0853 - val_loss: 0.0014 - val_mean_squared_error: 7.6885e-04 - val_mean_absolute_error: 0.0224\n",
      "Epoch 19/50\n",
      "8000/8000 - 1s - loss: 0.0012 - mean_squared_error: 5.0094e-04 - mean_absolute_error: 0.0175 - val_loss: 0.0010 - val_mean_squared_error: 3.0687e-04 - val_mean_absolute_error: 0.0135\n",
      "Epoch 20/50\n",
      "8000/8000 - 1s - loss: 0.0012 - mean_squared_error: 4.9521e-04 - mean_absolute_error: 0.0151 - val_loss: 9.8768e-04 - val_mean_squared_error: 2.5603e-04 - val_mean_absolute_error: 0.0121\n",
      "Epoch 21/50\n",
      "8000/8000 - 1s - loss: 0.0011 - mean_squared_error: 3.6900e-04 - mean_absolute_error: 0.0136 - val_loss: 0.0010 - val_mean_squared_error: 2.6235e-04 - val_mean_absolute_error: 0.0121\n",
      "Epoch 22/50\n",
      "8000/8000 - 1s - loss: 0.0011 - mean_squared_error: 3.8808e-04 - mean_absolute_error: 0.0139 - val_loss: 0.0012 - val_mean_squared_error: 4.8479e-04 - val_mean_absolute_error: 0.0152\n",
      "Epoch 23/50\n",
      "8000/8000 - 1s - loss: 0.0013 - mean_squared_error: 5.6277e-04 - mean_absolute_error: 0.0158 - val_loss: 0.0014 - val_mean_squared_error: 6.7932e-04 - val_mean_absolute_error: 0.0164\n",
      "Epoch 24/50\n",
      "8000/8000 - 1s - loss: 0.0012 - mean_squared_error: 4.2227e-04 - mean_absolute_error: 0.0143 - val_loss: 0.0012 - val_mean_squared_error: 4.3613e-04 - val_mean_absolute_error: 0.0143\n",
      "Epoch 25/50\n",
      "8000/8000 - 1s - loss: 0.0012 - mean_squared_error: 5.0142e-04 - mean_absolute_error: 0.0151 - val_loss: 0.0014 - val_mean_squared_error: 7.0446e-04 - val_mean_absolute_error: 0.0169\n"
     ]
    },
    {
     "data": {
      "text/html": [
       "<span style=\"color:#4527A0\"><h1 style=\"font-size:18px\">Trial complete</h1></span>"
      ],
      "text/plain": [
       "<IPython.core.display.HTML object>"
      ]
     },
     "metadata": {},
     "output_type": "display_data"
    },
    {
     "data": {
      "text/html": [
       "<span style=\"color:#4527A0\"><h1 style=\"font-size:18px\">Trial summary</h1></span>"
      ],
      "text/plain": [
       "<IPython.core.display.HTML object>"
      ]
     },
     "metadata": {},
     "output_type": "display_data"
    },
    {
     "data": {
      "text/html": [
       "<span style=\"color:cyan\"> |-Trial ID: 85bb9dd6ad661d171566e0a97e856f21</span>"
      ],
      "text/plain": [
       "<IPython.core.display.HTML object>"
      ]
     },
     "metadata": {},
     "output_type": "display_data"
    },
    {
     "data": {
      "text/html": [
       "<span style=\"color:cyan\"> |-Score: 0.00025603396352380514</span>"
      ],
      "text/plain": [
       "<IPython.core.display.HTML object>"
      ]
     },
     "metadata": {},
     "output_type": "display_data"
    },
    {
     "data": {
      "text/html": [
       "<span style=\"color:cyan\"> |-Best step: 0</span>"
      ],
      "text/plain": [
       "<IPython.core.display.HTML object>"
      ]
     },
     "metadata": {},
     "output_type": "display_data"
    },
    {
     "data": {
      "text/html": [
       "<span style=\"color:#7E57C2\"><h2 style=\"font-size:16px\">Hyperparameters:</h2></span>"
      ],
      "text/plain": [
       "<IPython.core.display.HTML object>"
      ]
     },
     "metadata": {},
     "output_type": "display_data"
    },
    {
     "data": {
      "text/html": [
       "<span style=\"color:cyan\"> |-hidden_units: 94</span>"
      ],
      "text/plain": [
       "<IPython.core.display.HTML object>"
      ]
     },
     "metadata": {},
     "output_type": "display_data"
    },
    {
     "data": {
      "text/html": [
       "<span style=\"color:blue\"> |-learning_rate: 0.01</span>"
      ],
      "text/plain": [
       "<IPython.core.display.HTML object>"
      ]
     },
     "metadata": {},
     "output_type": "display_data"
    },
    {
     "data": {
      "text/html": [
       "<span style=\"color:cyan\"> |-tuner/bracket: 1</span>"
      ],
      "text/plain": [
       "<IPython.core.display.HTML object>"
      ]
     },
     "metadata": {},
     "output_type": "display_data"
    },
    {
     "data": {
      "text/html": [
       "<span style=\"color:blue\"> |-tuner/epochs: 50</span>"
      ],
      "text/plain": [
       "<IPython.core.display.HTML object>"
      ]
     },
     "metadata": {},
     "output_type": "display_data"
    },
    {
     "data": {
      "text/html": [
       "<span style=\"color:cyan\"> |-tuner/initial_epoch: 17</span>"
      ],
      "text/plain": [
       "<IPython.core.display.HTML object>"
      ]
     },
     "metadata": {},
     "output_type": "display_data"
    },
    {
     "data": {
      "text/html": [
       "<span style=\"color:blue\"> |-tuner/round: 1</span>"
      ],
      "text/plain": [
       "<IPython.core.display.HTML object>"
      ]
     },
     "metadata": {},
     "output_type": "display_data"
    },
    {
     "data": {
      "text/html": [
       "<span style=\"color:cyan\"> |-tuner/trial_id: 4521154a6e7f85e1cf3a95a55d58ed4a</span>"
      ],
      "text/plain": [
       "<IPython.core.display.HTML object>"
      ]
     },
     "metadata": {},
     "output_type": "display_data"
    },
    {
     "name": "stdout",
     "output_type": "stream",
     "text": [
      "Train on 8000 samples, validate on 2000 samples\n",
      "Epoch 18/50\n",
      "8000/8000 - 1s - loss: 0.1512 - mean_squared_error: 0.1511 - mean_absolute_error: 0.3562 - val_loss: 0.0930 - val_mean_squared_error: 0.0929 - val_mean_absolute_error: 0.2729\n",
      "Epoch 19/50\n",
      "8000/8000 - 1s - loss: 0.0629 - mean_squared_error: 0.0628 - mean_absolute_error: 0.2145 - val_loss: 0.0405 - val_mean_squared_error: 0.0403 - val_mean_absolute_error: 0.1686\n",
      "Epoch 20/50\n",
      "8000/8000 - 1s - loss: 0.0258 - mean_squared_error: 0.0255 - mean_absolute_error: 0.1327 - val_loss: 0.0158 - val_mean_squared_error: 0.0155 - val_mean_absolute_error: 0.1044\n",
      "Epoch 21/50\n",
      "8000/8000 - 1s - loss: 0.0106 - mean_squared_error: 0.0102 - mean_absolute_error: 0.0857 - val_loss: 0.0074 - val_mean_squared_error: 0.0070 - val_mean_absolute_error: 0.0710\n",
      "Epoch 22/50\n",
      "8000/8000 - 1s - loss: 0.0055 - mean_squared_error: 0.0051 - mean_absolute_error: 0.0616 - val_loss: 0.0043 - val_mean_squared_error: 0.0039 - val_mean_absolute_error: 0.0538\n",
      "Epoch 23/50\n",
      "8000/8000 - 1s - loss: 0.0036 - mean_squared_error: 0.0031 - mean_absolute_error: 0.0482 - val_loss: 0.0030 - val_mean_squared_error: 0.0025 - val_mean_absolute_error: 0.0430\n",
      "Epoch 24/50\n",
      "8000/8000 - 1s - loss: 0.0026 - mean_squared_error: 0.0022 - mean_absolute_error: 0.0395 - val_loss: 0.0023 - val_mean_squared_error: 0.0018 - val_mean_absolute_error: 0.0357\n",
      "Epoch 25/50\n",
      "8000/8000 - 1s - loss: 0.0021 - mean_squared_error: 0.0016 - mean_absolute_error: 0.0333 - val_loss: 0.0019 - val_mean_squared_error: 0.0013 - val_mean_absolute_error: 0.0304\n",
      "Epoch 26/50\n",
      "8000/8000 - 1s - loss: 0.0017 - mean_squared_error: 0.0012 - mean_absolute_error: 0.0287 - val_loss: 0.0016 - val_mean_squared_error: 0.0010 - val_mean_absolute_error: 0.0264\n",
      "Epoch 27/50\n",
      "8000/8000 - 1s - loss: 0.0015 - mean_squared_error: 9.2689e-04 - mean_absolute_error: 0.0251 - val_loss: 0.0014 - val_mean_squared_error: 8.0492e-04 - val_mean_absolute_error: 0.0231\n",
      "Epoch 28/50\n",
      "8000/8000 - 1s - loss: 0.0013 - mean_squared_error: 7.3777e-04 - mean_absolute_error: 0.0222 - val_loss: 0.0013 - val_mean_squared_error: 6.4452e-04 - val_mean_absolute_error: 0.0206\n",
      "Epoch 29/50\n",
      "8000/8000 - 1s - loss: 0.0012 - mean_squared_error: 5.9878e-04 - mean_absolute_error: 0.0198 - val_loss: 0.0012 - val_mean_squared_error: 5.3972e-04 - val_mean_absolute_error: 0.0183\n",
      "Epoch 30/50\n",
      "8000/8000 - 1s - loss: 0.0011 - mean_squared_error: 4.9678e-04 - mean_absolute_error: 0.0178 - val_loss: 0.0011 - val_mean_squared_error: 4.3799e-04 - val_mean_absolute_error: 0.0164\n",
      "Epoch 31/50\n",
      "8000/8000 - 1s - loss: 0.0011 - mean_squared_error: 4.1754e-04 - mean_absolute_error: 0.0162 - val_loss: 0.0010 - val_mean_squared_error: 3.8026e-04 - val_mean_absolute_error: 0.0154\n",
      "Epoch 32/50\n",
      "8000/8000 - 1s - loss: 0.0010 - mean_squared_error: 3.6031e-04 - mean_absolute_error: 0.0149 - val_loss: 0.0010 - val_mean_squared_error: 3.3033e-04 - val_mean_absolute_error: 0.0143\n",
      "Epoch 33/50\n",
      "8000/8000 - 1s - loss: 0.0010 - mean_squared_error: 3.1452e-04 - mean_absolute_error: 0.0138 - val_loss: 9.8110e-04 - val_mean_squared_error: 2.8750e-04 - val_mean_absolute_error: 0.0130\n",
      "Epoch 34/50\n",
      "8000/8000 - 1s - loss: 9.8407e-04 - mean_squared_error: 2.8456e-04 - mean_absolute_error: 0.0130 - val_loss: 9.7264e-04 - val_mean_squared_error: 2.6728e-04 - val_mean_absolute_error: 0.0123\n",
      "Epoch 35/50\n",
      "8000/8000 - 1s - loss: 9.7215e-04 - mean_squared_error: 2.6142e-04 - mean_absolute_error: 0.0124 - val_loss: 9.6318e-04 - val_mean_squared_error: 2.4765e-04 - val_mean_absolute_error: 0.0122\n",
      "Epoch 36/50\n",
      "8000/8000 - 1s - loss: 9.6214e-04 - mean_squared_error: 2.4230e-04 - mean_absolute_error: 0.0119 - val_loss: 9.5116e-04 - val_mean_squared_error: 2.2715e-04 - val_mean_absolute_error: 0.0115\n",
      "Epoch 37/50\n",
      "8000/8000 - 1s - loss: 9.5539e-04 - mean_squared_error: 2.2778e-04 - mean_absolute_error: 0.0115 - val_loss: 9.4412e-04 - val_mean_squared_error: 2.1324e-04 - val_mean_absolute_error: 0.0110\n",
      "Epoch 38/50\n",
      "8000/8000 - 1s - loss: 9.5297e-04 - mean_squared_error: 2.1898e-04 - mean_absolute_error: 0.0113 - val_loss: 9.4244e-04 - val_mean_squared_error: 2.0593e-04 - val_mean_absolute_error: 0.0107\n",
      "Epoch 39/50\n",
      "8000/8000 - 1s - loss: 9.5431e-04 - mean_squared_error: 2.1582e-04 - mean_absolute_error: 0.0112 - val_loss: 9.3910e-04 - val_mean_squared_error: 1.9856e-04 - val_mean_absolute_error: 0.0105\n",
      "Epoch 40/50\n",
      "8000/8000 - 1s - loss: 9.5292e-04 - mean_squared_error: 2.1084e-04 - mean_absolute_error: 0.0110 - val_loss: 9.4011e-04 - val_mean_squared_error: 1.9661e-04 - val_mean_absolute_error: 0.0104\n",
      "Epoch 41/50\n",
      "8000/8000 - 1s - loss: 9.4792e-04 - mean_squared_error: 2.0310e-04 - mean_absolute_error: 0.0108 - val_loss: 9.3679e-04 - val_mean_squared_error: 1.9057e-04 - val_mean_absolute_error: 0.0103\n",
      "Epoch 42/50\n",
      "8000/8000 - 1s - loss: 9.4640e-04 - mean_squared_error: 1.9978e-04 - mean_absolute_error: 0.0107 - val_loss: 9.3840e-04 - val_mean_squared_error: 1.9085e-04 - val_mean_absolute_error: 0.0102\n",
      "Epoch 43/50\n",
      "8000/8000 - 1s - loss: 9.4329e-04 - mean_squared_error: 1.9491e-04 - mean_absolute_error: 0.0105 - val_loss: 9.3564e-04 - val_mean_squared_error: 1.8688e-04 - val_mean_absolute_error: 0.0102\n",
      "Epoch 44/50\n",
      "8000/8000 - 1s - loss: 9.4568e-04 - mean_squared_error: 1.9679e-04 - mean_absolute_error: 0.0106 - val_loss: 9.3432e-04 - val_mean_squared_error: 1.8539e-04 - val_mean_absolute_error: 0.0101\n",
      "Epoch 45/50\n",
      "8000/8000 - 1s - loss: 9.4598e-04 - mean_squared_error: 1.9728e-04 - mean_absolute_error: 0.0106 - val_loss: 9.5517e-04 - val_mean_squared_error: 2.0639e-04 - val_mean_absolute_error: 0.0106\n",
      "Epoch 46/50\n",
      "8000/8000 - 1s - loss: 9.4324e-04 - mean_squared_error: 1.9443e-04 - mean_absolute_error: 0.0105 - val_loss: 9.4987e-04 - val_mean_squared_error: 2.0136e-04 - val_mean_absolute_error: 0.0104\n",
      "Epoch 47/50\n",
      "8000/8000 - 1s - loss: 9.4573e-04 - mean_squared_error: 1.9745e-04 - mean_absolute_error: 0.0106 - val_loss: 9.3494e-04 - val_mean_squared_error: 1.8675e-04 - val_mean_absolute_error: 0.0102\n",
      "Epoch 48/50\n",
      "8000/8000 - 1s - loss: 9.4539e-04 - mean_squared_error: 1.9720e-04 - mean_absolute_error: 0.0106 - val_loss: 9.3656e-04 - val_mean_squared_error: 1.8876e-04 - val_mean_absolute_error: 0.0103\n",
      "Epoch 49/50\n",
      "8000/8000 - 1s - loss: 9.4951e-04 - mean_squared_error: 2.0217e-04 - mean_absolute_error: 0.0107 - val_loss: 9.4165e-04 - val_mean_squared_error: 1.9470e-04 - val_mean_absolute_error: 0.0106\n"
     ]
    },
    {
     "data": {
      "text/html": [
       "<span style=\"color:#4527A0\"><h1 style=\"font-size:18px\">Trial complete</h1></span>"
      ],
      "text/plain": [
       "<IPython.core.display.HTML object>"
      ]
     },
     "metadata": {},
     "output_type": "display_data"
    },
    {
     "data": {
      "text/html": [
       "<span style=\"color:#4527A0\"><h1 style=\"font-size:18px\">Trial summary</h1></span>"
      ],
      "text/plain": [
       "<IPython.core.display.HTML object>"
      ]
     },
     "metadata": {},
     "output_type": "display_data"
    },
    {
     "data": {
      "text/html": [
       "<span style=\"color:cyan\"> |-Trial ID: 1cb2131f8622d7b69d5e2b55b147c44f</span>"
      ],
      "text/plain": [
       "<IPython.core.display.HTML object>"
      ]
     },
     "metadata": {},
     "output_type": "display_data"
    },
    {
     "data": {
      "text/html": [
       "<span style=\"color:cyan\"> |-Score: 0.00018539476150181144</span>"
      ],
      "text/plain": [
       "<IPython.core.display.HTML object>"
      ]
     },
     "metadata": {},
     "output_type": "display_data"
    },
    {
     "data": {
      "text/html": [
       "<span style=\"color:cyan\"> |-Best step: 0</span>"
      ],
      "text/plain": [
       "<IPython.core.display.HTML object>"
      ]
     },
     "metadata": {},
     "output_type": "display_data"
    },
    {
     "data": {
      "text/html": [
       "<span style=\"color:#7E57C2\"><h2 style=\"font-size:16px\">Hyperparameters:</h2></span>"
      ],
      "text/plain": [
       "<IPython.core.display.HTML object>"
      ]
     },
     "metadata": {},
     "output_type": "display_data"
    },
    {
     "data": {
      "text/html": [
       "<span style=\"color:cyan\"> |-hidden_units: 52</span>"
      ],
      "text/plain": [
       "<IPython.core.display.HTML object>"
      ]
     },
     "metadata": {},
     "output_type": "display_data"
    },
    {
     "data": {
      "text/html": [
       "<span style=\"color:blue\"> |-learning_rate: 0.001</span>"
      ],
      "text/plain": [
       "<IPython.core.display.HTML object>"
      ]
     },
     "metadata": {},
     "output_type": "display_data"
    },
    {
     "data": {
      "text/html": [
       "<span style=\"color:cyan\"> |-tuner/bracket: 1</span>"
      ],
      "text/plain": [
       "<IPython.core.display.HTML object>"
      ]
     },
     "metadata": {},
     "output_type": "display_data"
    },
    {
     "data": {
      "text/html": [
       "<span style=\"color:blue\"> |-tuner/epochs: 50</span>"
      ],
      "text/plain": [
       "<IPython.core.display.HTML object>"
      ]
     },
     "metadata": {},
     "output_type": "display_data"
    },
    {
     "data": {
      "text/html": [
       "<span style=\"color:cyan\"> |-tuner/initial_epoch: 17</span>"
      ],
      "text/plain": [
       "<IPython.core.display.HTML object>"
      ]
     },
     "metadata": {},
     "output_type": "display_data"
    },
    {
     "data": {
      "text/html": [
       "<span style=\"color:blue\"> |-tuner/round: 1</span>"
      ],
      "text/plain": [
       "<IPython.core.display.HTML object>"
      ]
     },
     "metadata": {},
     "output_type": "display_data"
    },
    {
     "data": {
      "text/html": [
       "<span style=\"color:cyan\"> |-tuner/trial_id: 864f3588427d900be43d4430b912beaf</span>"
      ],
      "text/plain": [
       "<IPython.core.display.HTML object>"
      ]
     },
     "metadata": {},
     "output_type": "display_data"
    },
    {
     "name": "stdout",
     "output_type": "stream",
     "text": [
      "Train on 8000 samples, validate on 2000 samples\n",
      "Epoch 1/50\n",
      "8000/8000 - 1s - loss: 0.1332 - mean_squared_error: 0.1331 - mean_absolute_error: 0.3314 - val_loss: 0.0686 - val_mean_squared_error: 0.0684 - val_mean_absolute_error: 0.2321\n",
      "Epoch 2/50\n",
      "8000/8000 - 1s - loss: 0.0392 - mean_squared_error: 0.0390 - mean_absolute_error: 0.1689 - val_loss: 0.0203 - val_mean_squared_error: 0.0200 - val_mean_absolute_error: 0.1218\n",
      "Epoch 3/50\n",
      "8000/8000 - 1s - loss: 0.0119 - mean_squared_error: 0.0116 - mean_absolute_error: 0.0933 - val_loss: 0.0073 - val_mean_squared_error: 0.0069 - val_mean_absolute_error: 0.0731\n",
      "Epoch 4/50\n",
      "8000/8000 - 1s - loss: 0.0053 - mean_squared_error: 0.0049 - mean_absolute_error: 0.0617 - val_loss: 0.0041 - val_mean_squared_error: 0.0037 - val_mean_absolute_error: 0.0525\n",
      "Epoch 5/50\n",
      "8000/8000 - 1s - loss: 0.0033 - mean_squared_error: 0.0029 - mean_absolute_error: 0.0466 - val_loss: 0.0028 - val_mean_squared_error: 0.0023 - val_mean_absolute_error: 0.0414\n",
      "Epoch 6/50\n",
      "8000/8000 - 1s - loss: 0.0024 - mean_squared_error: 0.0019 - mean_absolute_error: 0.0377 - val_loss: 0.0021 - val_mean_squared_error: 0.0016 - val_mean_absolute_error: 0.0339\n",
      "Epoch 7/50\n",
      "8000/8000 - 1s - loss: 0.0019 - mean_squared_error: 0.0014 - mean_absolute_error: 0.0314 - val_loss: 0.0017 - val_mean_squared_error: 0.0012 - val_mean_absolute_error: 0.0284\n",
      "Epoch 8/50\n",
      "8000/8000 - 1s - loss: 0.0016 - mean_squared_error: 0.0010 - mean_absolute_error: 0.0267 - val_loss: 0.0015 - val_mean_squared_error: 8.8322e-04 - val_mean_absolute_error: 0.0243\n",
      "Epoch 9/50\n",
      "8000/8000 - 1s - loss: 0.0014 - mean_squared_error: 8.0020e-04 - mean_absolute_error: 0.0232 - val_loss: 0.0013 - val_mean_squared_error: 6.8686e-04 - val_mean_absolute_error: 0.0213\n",
      "Epoch 10/50\n",
      "8000/8000 - 1s - loss: 0.0012 - mean_squared_error: 6.3109e-04 - mean_absolute_error: 0.0203 - val_loss: 0.0012 - val_mean_squared_error: 5.4951e-04 - val_mean_absolute_error: 0.0186\n",
      "Epoch 11/50\n",
      "8000/8000 - 1s - loss: 0.0011 - mean_squared_error: 5.0813e-04 - mean_absolute_error: 0.0181 - val_loss: 0.0011 - val_mean_squared_error: 4.4815e-04 - val_mean_absolute_error: 0.0169\n",
      "Epoch 12/50\n",
      "8000/8000 - 1s - loss: 0.0011 - mean_squared_error: 4.2006e-04 - mean_absolute_error: 0.0162 - val_loss: 0.0010 - val_mean_squared_error: 3.7209e-04 - val_mean_absolute_error: 0.0149\n",
      "Epoch 13/50\n",
      "8000/8000 - 1s - loss: 0.0010 - mean_squared_error: 3.5591e-04 - mean_absolute_error: 0.0148 - val_loss: 0.0010 - val_mean_squared_error: 3.2206e-04 - val_mean_absolute_error: 0.0136\n",
      "Epoch 14/50\n",
      "8000/8000 - 1s - loss: 0.0010 - mean_squared_error: 3.1151e-04 - mean_absolute_error: 0.0137 - val_loss: 9.9149e-04 - val_mean_squared_error: 2.9281e-04 - val_mean_absolute_error: 0.0134\n",
      "Epoch 15/50\n",
      "8000/8000 - 1s - loss: 9.8254e-04 - mean_squared_error: 2.7755e-04 - mean_absolute_error: 0.0128 - val_loss: 9.6679e-04 - val_mean_squared_error: 2.5593e-04 - val_mean_absolute_error: 0.0123\n",
      "Epoch 16/50\n",
      "8000/8000 - 1s - loss: 9.6831e-04 - mean_squared_error: 2.5228e-04 - mean_absolute_error: 0.0122 - val_loss: 9.5767e-04 - val_mean_squared_error: 2.3660e-04 - val_mean_absolute_error: 0.0117\n",
      "Epoch 17/50\n",
      "8000/8000 - 1s - loss: 9.6383e-04 - mean_squared_error: 2.3863e-04 - mean_absolute_error: 0.0118 - val_loss: 9.5393e-04 - val_mean_squared_error: 2.2464e-04 - val_mean_absolute_error: 0.0112\n",
      "Epoch 18/50\n",
      "8000/8000 - 1s - loss: 9.6083e-04 - mean_squared_error: 2.2781e-04 - mean_absolute_error: 0.0115 - val_loss: 9.6065e-04 - val_mean_squared_error: 2.2460e-04 - val_mean_absolute_error: 0.0115\n",
      "Epoch 19/50\n",
      "8000/8000 - 1s - loss: 9.5525e-04 - mean_squared_error: 2.1667e-04 - mean_absolute_error: 0.0112 - val_loss: 9.4347e-04 - val_mean_squared_error: 2.0242e-04 - val_mean_absolute_error: 0.0107\n",
      "Epoch 20/50\n",
      "8000/8000 - 1s - loss: 9.5209e-04 - mean_squared_error: 2.0902e-04 - mean_absolute_error: 0.0110 - val_loss: 9.4043e-04 - val_mean_squared_error: 1.9578e-04 - val_mean_absolute_error: 0.0105\n",
      "Epoch 21/50\n",
      "8000/8000 - 1s - loss: 9.4907e-04 - mean_squared_error: 2.0274e-04 - mean_absolute_error: 0.0108 - val_loss: 9.4182e-04 - val_mean_squared_error: 1.9438e-04 - val_mean_absolute_error: 0.0105\n",
      "Epoch 22/50\n",
      "8000/8000 - 1s - loss: 9.5343e-04 - mean_squared_error: 2.0520e-04 - mean_absolute_error: 0.0108 - val_loss: 9.4065e-04 - val_mean_squared_error: 1.9173e-04 - val_mean_absolute_error: 0.0103\n",
      "Epoch 23/50\n",
      "8000/8000 - 1s - loss: 9.5049e-04 - mean_squared_error: 2.0146e-04 - mean_absolute_error: 0.0107 - val_loss: 9.3970e-04 - val_mean_squared_error: 1.9033e-04 - val_mean_absolute_error: 0.0102\n",
      "Epoch 24/50\n",
      "8000/8000 - 1s - loss: 9.5292e-04 - mean_squared_error: 2.0320e-04 - mean_absolute_error: 0.0107 - val_loss: 9.6097e-04 - val_mean_squared_error: 2.1090e-04 - val_mean_absolute_error: 0.0108\n",
      "Epoch 25/50\n",
      "8000/8000 - 1s - loss: 9.5286e-04 - mean_squared_error: 2.0362e-04 - mean_absolute_error: 0.0108 - val_loss: 9.3669e-04 - val_mean_squared_error: 1.8715e-04 - val_mean_absolute_error: 0.0101\n",
      "Epoch 26/50\n",
      "8000/8000 - 1s - loss: 9.4299e-04 - mean_squared_error: 1.9306e-04 - mean_absolute_error: 0.0105 - val_loss: 9.3911e-04 - val_mean_squared_error: 1.8936e-04 - val_mean_absolute_error: 0.0104\n",
      "Epoch 27/50\n",
      "8000/8000 - 1s - loss: 9.5186e-04 - mean_squared_error: 2.0269e-04 - mean_absolute_error: 0.0107 - val_loss: 9.3330e-04 - val_mean_squared_error: 1.8466e-04 - val_mean_absolute_error: 0.0101\n",
      "Epoch 28/50\n",
      "8000/8000 - 1s - loss: 9.4454e-04 - mean_squared_error: 1.9636e-04 - mean_absolute_error: 0.0106 - val_loss: 9.3997e-04 - val_mean_squared_error: 1.9179e-04 - val_mean_absolute_error: 0.0102\n",
      "Epoch 29/50\n",
      "8000/8000 - 1s - loss: 9.4181e-04 - mean_squared_error: 1.9369e-04 - mean_absolute_error: 0.0105 - val_loss: 9.4275e-04 - val_mean_squared_error: 1.9506e-04 - val_mean_absolute_error: 0.0103\n",
      "Epoch 30/50\n",
      "8000/8000 - 1s - loss: 9.4862e-04 - mean_squared_error: 2.0145e-04 - mean_absolute_error: 0.0107 - val_loss: 9.3082e-04 - val_mean_squared_error: 1.8368e-04 - val_mean_absolute_error: 0.0101\n",
      "Epoch 31/50\n",
      "8000/8000 - 1s - loss: 9.4680e-04 - mean_squared_error: 1.9987e-04 - mean_absolute_error: 0.0106 - val_loss: 9.3300e-04 - val_mean_squared_error: 1.8663e-04 - val_mean_absolute_error: 0.0102\n",
      "Epoch 32/50\n",
      "8000/8000 - 1s - loss: 9.4526e-04 - mean_squared_error: 1.9920e-04 - mean_absolute_error: 0.0106 - val_loss: 9.3672e-04 - val_mean_squared_error: 1.9085e-04 - val_mean_absolute_error: 0.0104\n",
      "Epoch 33/50\n",
      "8000/8000 - 1s - loss: 9.5273e-04 - mean_squared_error: 2.0777e-04 - mean_absolute_error: 0.0109 - val_loss: 9.3918e-04 - val_mean_squared_error: 1.9540e-04 - val_mean_absolute_error: 0.0104\n",
      "Epoch 34/50\n",
      "8000/8000 - 1s - loss: 9.4752e-04 - mean_squared_error: 2.0377e-04 - mean_absolute_error: 0.0108 - val_loss: 9.2907e-04 - val_mean_squared_error: 1.8535e-04 - val_mean_absolute_error: 0.0101\n",
      "Epoch 35/50\n",
      "8000/8000 - 1s - loss: 9.4316e-04 - mean_squared_error: 1.9985e-04 - mean_absolute_error: 0.0107 - val_loss: 9.3900e-04 - val_mean_squared_error: 1.9552e-04 - val_mean_absolute_error: 0.0103\n"
     ]
    },
    {
     "data": {
      "text/html": [
       "<span style=\"color:#4527A0\"><h1 style=\"font-size:18px\">Trial complete</h1></span>"
      ],
      "text/plain": [
       "<IPython.core.display.HTML object>"
      ]
     },
     "metadata": {},
     "output_type": "display_data"
    },
    {
     "data": {
      "text/html": [
       "<span style=\"color:#4527A0\"><h1 style=\"font-size:18px\">Trial summary</h1></span>"
      ],
      "text/plain": [
       "<IPython.core.display.HTML object>"
      ]
     },
     "metadata": {},
     "output_type": "display_data"
    },
    {
     "data": {
      "text/html": [
       "<span style=\"color:cyan\"> |-Trial ID: 22287fdce9fbd74541d977b76c9523d4</span>"
      ],
      "text/plain": [
       "<IPython.core.display.HTML object>"
      ]
     },
     "metadata": {},
     "output_type": "display_data"
    },
    {
     "data": {
      "text/html": [
       "<span style=\"color:cyan\"> |-Score: 0.0001836808951338753</span>"
      ],
      "text/plain": [
       "<IPython.core.display.HTML object>"
      ]
     },
     "metadata": {},
     "output_type": "display_data"
    },
    {
     "data": {
      "text/html": [
       "<span style=\"color:cyan\"> |-Best step: 0</span>"
      ],
      "text/plain": [
       "<IPython.core.display.HTML object>"
      ]
     },
     "metadata": {},
     "output_type": "display_data"
    },
    {
     "data": {
      "text/html": [
       "<span style=\"color:#7E57C2\"><h2 style=\"font-size:16px\">Hyperparameters:</h2></span>"
      ],
      "text/plain": [
       "<IPython.core.display.HTML object>"
      ]
     },
     "metadata": {},
     "output_type": "display_data"
    },
    {
     "data": {
      "text/html": [
       "<span style=\"color:cyan\"> |-hidden_units: 78</span>"
      ],
      "text/plain": [
       "<IPython.core.display.HTML object>"
      ]
     },
     "metadata": {},
     "output_type": "display_data"
    },
    {
     "data": {
      "text/html": [
       "<span style=\"color:blue\"> |-learning_rate: 0.001</span>"
      ],
      "text/plain": [
       "<IPython.core.display.HTML object>"
      ]
     },
     "metadata": {},
     "output_type": "display_data"
    },
    {
     "data": {
      "text/html": [
       "<span style=\"color:cyan\"> |-tuner/bracket: 0</span>"
      ],
      "text/plain": [
       "<IPython.core.display.HTML object>"
      ]
     },
     "metadata": {},
     "output_type": "display_data"
    },
    {
     "data": {
      "text/html": [
       "<span style=\"color:blue\"> |-tuner/epochs: 50</span>"
      ],
      "text/plain": [
       "<IPython.core.display.HTML object>"
      ]
     },
     "metadata": {},
     "output_type": "display_data"
    },
    {
     "data": {
      "text/html": [
       "<span style=\"color:cyan\"> |-tuner/initial_epoch: 0</span>"
      ],
      "text/plain": [
       "<IPython.core.display.HTML object>"
      ]
     },
     "metadata": {},
     "output_type": "display_data"
    },
    {
     "data": {
      "text/html": [
       "<span style=\"color:blue\"> |-tuner/round: 0</span>"
      ],
      "text/plain": [
       "<IPython.core.display.HTML object>"
      ]
     },
     "metadata": {},
     "output_type": "display_data"
    },
    {
     "name": "stdout",
     "output_type": "stream",
     "text": [
      "Train on 8000 samples, validate on 2000 samples\n",
      "Epoch 1/50\n",
      "8000/8000 - 1s - loss: 0.2083 - mean_squared_error: 0.2082 - mean_absolute_error: 0.4292 - val_loss: 0.1923 - val_mean_squared_error: 0.1922 - val_mean_absolute_error: 0.4093\n",
      "Epoch 2/50\n",
      "8000/8000 - 1s - loss: 0.1791 - mean_squared_error: 0.1790 - mean_absolute_error: 0.3953 - val_loss: 0.1670 - val_mean_squared_error: 0.1669 - val_mean_absolute_error: 0.3802\n",
      "Epoch 3/50\n",
      "8000/8000 - 1s - loss: 0.1538 - mean_squared_error: 0.1537 - mean_absolute_error: 0.3663 - val_loss: 0.1418 - val_mean_squared_error: 0.1417 - val_mean_absolute_error: 0.3509\n",
      "Epoch 4/50\n",
      "8000/8000 - 1s - loss: 0.1289 - mean_squared_error: 0.1288 - mean_absolute_error: 0.3352 - val_loss: 0.1177 - val_mean_squared_error: 0.1176 - val_mean_absolute_error: 0.3196\n",
      "Epoch 5/50\n",
      "8000/8000 - 1s - loss: 0.1061 - mean_squared_error: 0.1059 - mean_absolute_error: 0.3030 - val_loss: 0.0967 - val_mean_squared_error: 0.0965 - val_mean_absolute_error: 0.2874\n",
      "Epoch 6/50\n",
      "8000/8000 - 1s - loss: 0.0868 - mean_squared_error: 0.0867 - mean_absolute_error: 0.2721 - val_loss: 0.0795 - val_mean_squared_error: 0.0793 - val_mean_absolute_error: 0.2586\n",
      "Epoch 7/50\n",
      "8000/8000 - 1s - loss: 0.0715 - mean_squared_error: 0.0713 - mean_absolute_error: 0.2442 - val_loss: 0.0658 - val_mean_squared_error: 0.0656 - val_mean_absolute_error: 0.2321\n",
      "Epoch 8/50\n",
      "8000/8000 - 1s - loss: 0.0591 - mean_squared_error: 0.0589 - mean_absolute_error: 0.2196 - val_loss: 0.0546 - val_mean_squared_error: 0.0544 - val_mean_absolute_error: 0.2094\n",
      "Epoch 9/50\n",
      "8000/8000 - 1s - loss: 0.0489 - mean_squared_error: 0.0487 - mean_absolute_error: 0.1980 - val_loss: 0.0451 - val_mean_squared_error: 0.0449 - val_mean_absolute_error: 0.1888\n",
      "Epoch 10/50\n",
      "8000/8000 - 1s - loss: 0.0403 - mean_squared_error: 0.0401 - mean_absolute_error: 0.1784 - val_loss: 0.0371 - val_mean_squared_error: 0.0369 - val_mean_absolute_error: 0.1707\n",
      "Epoch 11/50\n",
      "8000/8000 - 1s - loss: 0.0331 - mean_squared_error: 0.0328 - mean_absolute_error: 0.1609 - val_loss: 0.0304 - val_mean_squared_error: 0.0301 - val_mean_absolute_error: 0.1543\n",
      "Epoch 12/50\n",
      "8000/8000 - 1s - loss: 0.0270 - mean_squared_error: 0.0267 - mean_absolute_error: 0.1450 - val_loss: 0.0248 - val_mean_squared_error: 0.0245 - val_mean_absolute_error: 0.1386\n",
      "Epoch 13/50\n",
      "8000/8000 - 1s - loss: 0.0220 - mean_squared_error: 0.0217 - mean_absolute_error: 0.1308 - val_loss: 0.0202 - val_mean_squared_error: 0.0199 - val_mean_absolute_error: 0.1253\n",
      "Epoch 14/50\n",
      "8000/8000 - 1s - loss: 0.0180 - mean_squared_error: 0.0177 - mean_absolute_error: 0.1181 - val_loss: 0.0165 - val_mean_squared_error: 0.0162 - val_mean_absolute_error: 0.1128\n",
      "Epoch 15/50\n",
      "8000/8000 - 1s - loss: 0.0147 - mean_squared_error: 0.0144 - mean_absolute_error: 0.1069 - val_loss: 0.0136 - val_mean_squared_error: 0.0133 - val_mean_absolute_error: 0.1026\n",
      "Epoch 16/50\n",
      "8000/8000 - 1s - loss: 0.0122 - mean_squared_error: 0.0118 - mean_absolute_error: 0.0971 - val_loss: 0.0113 - val_mean_squared_error: 0.0109 - val_mean_absolute_error: 0.0934\n",
      "Epoch 17/50\n",
      "8000/8000 - 1s - loss: 0.0101 - mean_squared_error: 0.0098 - mean_absolute_error: 0.0885 - val_loss: 0.0094 - val_mean_squared_error: 0.0091 - val_mean_absolute_error: 0.0849\n",
      "Epoch 18/50\n",
      "8000/8000 - 1s - loss: 0.0085 - mean_squared_error: 0.0082 - mean_absolute_error: 0.0810 - val_loss: 0.0080 - val_mean_squared_error: 0.0076 - val_mean_absolute_error: 0.0778\n",
      "Epoch 19/50\n",
      "8000/8000 - 1s - loss: 0.0073 - mean_squared_error: 0.0069 - mean_absolute_error: 0.0744 - val_loss: 0.0068 - val_mean_squared_error: 0.0064 - val_mean_absolute_error: 0.0715\n",
      "Epoch 20/50\n",
      "8000/8000 - 1s - loss: 0.0063 - mean_squared_error: 0.0059 - mean_absolute_error: 0.0686 - val_loss: 0.0059 - val_mean_squared_error: 0.0055 - val_mean_absolute_error: 0.0660\n",
      "Epoch 21/50\n",
      "8000/8000 - 1s - loss: 0.0055 - mean_squared_error: 0.0050 - mean_absolute_error: 0.0635 - val_loss: 0.0051 - val_mean_squared_error: 0.0047 - val_mean_absolute_error: 0.0612\n",
      "Epoch 22/50\n",
      "8000/8000 - 1s - loss: 0.0048 - mean_squared_error: 0.0044 - mean_absolute_error: 0.0589 - val_loss: 0.0045 - val_mean_squared_error: 0.0041 - val_mean_absolute_error: 0.0567\n",
      "Epoch 23/50\n",
      "8000/8000 - 1s - loss: 0.0043 - mean_squared_error: 0.0038 - mean_absolute_error: 0.0549 - val_loss: 0.0040 - val_mean_squared_error: 0.0036 - val_mean_absolute_error: 0.0530\n",
      "Epoch 24/50\n",
      "8000/8000 - 1s - loss: 0.0038 - mean_squared_error: 0.0034 - mean_absolute_error: 0.0512 - val_loss: 0.0036 - val_mean_squared_error: 0.0032 - val_mean_absolute_error: 0.0493\n",
      "Epoch 25/50\n",
      "8000/8000 - 1s - loss: 0.0034 - mean_squared_error: 0.0030 - mean_absolute_error: 0.0478 - val_loss: 0.0033 - val_mean_squared_error: 0.0028 - val_mean_absolute_error: 0.0461\n",
      "Epoch 26/50\n",
      "8000/8000 - 1s - loss: 0.0031 - mean_squared_error: 0.0026 - mean_absolute_error: 0.0448 - val_loss: 0.0030 - val_mean_squared_error: 0.0025 - val_mean_absolute_error: 0.0432\n",
      "Epoch 27/50\n",
      "8000/8000 - 1s - loss: 0.0028 - mean_squared_error: 0.0024 - mean_absolute_error: 0.0420 - val_loss: 0.0027 - val_mean_squared_error: 0.0022 - val_mean_absolute_error: 0.0405\n",
      "Epoch 28/50\n",
      "8000/8000 - 1s - loss: 0.0026 - mean_squared_error: 0.0021 - mean_absolute_error: 0.0395 - val_loss: 0.0025 - val_mean_squared_error: 0.0020 - val_mean_absolute_error: 0.0380\n",
      "Epoch 29/50\n",
      "8000/8000 - 1s - loss: 0.0024 - mean_squared_error: 0.0019 - mean_absolute_error: 0.0372 - val_loss: 0.0023 - val_mean_squared_error: 0.0018 - val_mean_absolute_error: 0.0358\n",
      "Epoch 30/50\n",
      "8000/8000 - 1s - loss: 0.0022 - mean_squared_error: 0.0017 - mean_absolute_error: 0.0350 - val_loss: 0.0021 - val_mean_squared_error: 0.0016 - val_mean_absolute_error: 0.0337\n",
      "Epoch 31/50\n",
      "8000/8000 - 1s - loss: 0.0021 - mean_squared_error: 0.0015 - mean_absolute_error: 0.0330 - val_loss: 0.0020 - val_mean_squared_error: 0.0014 - val_mean_absolute_error: 0.0318\n",
      "Epoch 32/50\n",
      "8000/8000 - 1s - loss: 0.0019 - mean_squared_error: 0.0014 - mean_absolute_error: 0.0312 - val_loss: 0.0019 - val_mean_squared_error: 0.0013 - val_mean_absolute_error: 0.0302\n",
      "Epoch 33/50\n",
      "8000/8000 - 1s - loss: 0.0018 - mean_squared_error: 0.0012 - mean_absolute_error: 0.0295 - val_loss: 0.0017 - val_mean_squared_error: 0.0012 - val_mean_absolute_error: 0.0284\n",
      "Epoch 34/50\n",
      "8000/8000 - 1s - loss: 0.0017 - mean_squared_error: 0.0011 - mean_absolute_error: 0.0279 - val_loss: 0.0016 - val_mean_squared_error: 0.0011 - val_mean_absolute_error: 0.0269\n",
      "Epoch 35/50\n",
      "8000/8000 - 1s - loss: 0.0016 - mean_squared_error: 0.0010 - mean_absolute_error: 0.0264 - val_loss: 0.0015 - val_mean_squared_error: 9.5314e-04 - val_mean_absolute_error: 0.0254\n",
      "Epoch 36/50\n",
      "8000/8000 - 1s - loss: 0.0015 - mean_squared_error: 9.1459e-04 - mean_absolute_error: 0.0250 - val_loss: 0.0014 - val_mean_squared_error: 8.5787e-04 - val_mean_absolute_error: 0.0240\n",
      "Epoch 37/50\n",
      "8000/8000 - 1s - loss: 0.0014 - mean_squared_error: 8.2957e-04 - mean_absolute_error: 0.0237 - val_loss: 0.0014 - val_mean_squared_error: 7.8394e-04 - val_mean_absolute_error: 0.0228\n",
      "Epoch 38/50\n",
      "8000/8000 - 1s - loss: 0.0014 - mean_squared_error: 7.5186e-04 - mean_absolute_error: 0.0225 - val_loss: 0.0013 - val_mean_squared_error: 7.0872e-04 - val_mean_absolute_error: 0.0217\n",
      "Epoch 39/50\n",
      "8000/8000 - 1s - loss: 0.0013 - mean_squared_error: 6.8315e-04 - mean_absolute_error: 0.0213 - val_loss: 0.0013 - val_mean_squared_error: 6.5813e-04 - val_mean_absolute_error: 0.0208\n",
      "Epoch 40/50\n",
      "8000/8000 - 1s - loss: 0.0013 - mean_squared_error: 6.2336e-04 - mean_absolute_error: 0.0203 - val_loss: 0.0012 - val_mean_squared_error: 5.8209e-04 - val_mean_absolute_error: 0.0195\n",
      "Epoch 41/50\n",
      "8000/8000 - 1s - loss: 0.0012 - mean_squared_error: 5.6893e-04 - mean_absolute_error: 0.0193 - val_loss: 0.0012 - val_mean_squared_error: 5.3086e-04 - val_mean_absolute_error: 0.0185\n",
      "Epoch 42/50\n",
      "8000/8000 - 1s - loss: 0.0012 - mean_squared_error: 5.2022e-04 - mean_absolute_error: 0.0184 - val_loss: 0.0011 - val_mean_squared_error: 4.8566e-04 - val_mean_absolute_error: 0.0176\n",
      "Epoch 43/50\n",
      "8000/8000 - 1s - loss: 0.0011 - mean_squared_error: 4.7614e-04 - mean_absolute_error: 0.0175 - val_loss: 0.0011 - val_mean_squared_error: 4.4539e-04 - val_mean_absolute_error: 0.0168\n",
      "Epoch 44/50\n",
      "8000/8000 - 1s - loss: 0.0011 - mean_squared_error: 4.3782e-04 - mean_absolute_error: 0.0167 - val_loss: 0.0011 - val_mean_squared_error: 4.0995e-04 - val_mean_absolute_error: 0.0160\n"
     ]
    },
    {
     "name": "stdout",
     "output_type": "stream",
     "text": [
      "Epoch 45/50\n",
      "8000/8000 - 1s - loss: 0.0011 - mean_squared_error: 4.0487e-04 - mean_absolute_error: 0.0160 - val_loss: 0.0011 - val_mean_squared_error: 3.8029e-04 - val_mean_absolute_error: 0.0154\n",
      "Epoch 46/50\n",
      "8000/8000 - 1s - loss: 0.0011 - mean_squared_error: 3.7457e-04 - mean_absolute_error: 0.0153 - val_loss: 0.0010 - val_mean_squared_error: 3.5289e-04 - val_mean_absolute_error: 0.0145\n",
      "Epoch 47/50\n",
      "8000/8000 - 1s - loss: 0.0010 - mean_squared_error: 3.4900e-04 - mean_absolute_error: 0.0146 - val_loss: 0.0010 - val_mean_squared_error: 3.2696e-04 - val_mean_absolute_error: 0.0140\n",
      "Epoch 48/50\n",
      "8000/8000 - 1s - loss: 0.0010 - mean_squared_error: 3.2651e-04 - mean_absolute_error: 0.0141 - val_loss: 0.0010 - val_mean_squared_error: 3.0781e-04 - val_mean_absolute_error: 0.0136\n",
      "Epoch 49/50\n",
      "8000/8000 - 1s - loss: 0.0010 - mean_squared_error: 3.0642e-04 - mean_absolute_error: 0.0136 - val_loss: 9.9891e-04 - val_mean_squared_error: 2.8822e-04 - val_mean_absolute_error: 0.0130\n",
      "Epoch 50/50\n",
      "8000/8000 - 1s - loss: 0.0010 - mean_squared_error: 2.8849e-04 - mean_absolute_error: 0.0131 - val_loss: 9.8994e-04 - val_mean_squared_error: 2.7255e-04 - val_mean_absolute_error: 0.0126\n"
     ]
    },
    {
     "data": {
      "text/html": [
       "<span style=\"color:#4527A0\"><h1 style=\"font-size:18px\">Trial complete</h1></span>"
      ],
      "text/plain": [
       "<IPython.core.display.HTML object>"
      ]
     },
     "metadata": {},
     "output_type": "display_data"
    },
    {
     "data": {
      "text/html": [
       "<span style=\"color:#4527A0\"><h1 style=\"font-size:18px\">Trial summary</h1></span>"
      ],
      "text/plain": [
       "<IPython.core.display.HTML object>"
      ]
     },
     "metadata": {},
     "output_type": "display_data"
    },
    {
     "data": {
      "text/html": [
       "<span style=\"color:cyan\"> |-Trial ID: c10ba70c403147767d6dfa19b6f42c7b</span>"
      ],
      "text/plain": [
       "<IPython.core.display.HTML object>"
      ]
     },
     "metadata": {},
     "output_type": "display_data"
    },
    {
     "data": {
      "text/html": [
       "<span style=\"color:cyan\"> |-Score: 0.0002725530066527426</span>"
      ],
      "text/plain": [
       "<IPython.core.display.HTML object>"
      ]
     },
     "metadata": {},
     "output_type": "display_data"
    },
    {
     "data": {
      "text/html": [
       "<span style=\"color:cyan\"> |-Best step: 0</span>"
      ],
      "text/plain": [
       "<IPython.core.display.HTML object>"
      ]
     },
     "metadata": {},
     "output_type": "display_data"
    },
    {
     "data": {
      "text/html": [
       "<span style=\"color:#7E57C2\"><h2 style=\"font-size:16px\">Hyperparameters:</h2></span>"
      ],
      "text/plain": [
       "<IPython.core.display.HTML object>"
      ]
     },
     "metadata": {},
     "output_type": "display_data"
    },
    {
     "data": {
      "text/html": [
       "<span style=\"color:cyan\"> |-hidden_units: 128</span>"
      ],
      "text/plain": [
       "<IPython.core.display.HTML object>"
      ]
     },
     "metadata": {},
     "output_type": "display_data"
    },
    {
     "data": {
      "text/html": [
       "<span style=\"color:blue\"> |-learning_rate: 0.0001</span>"
      ],
      "text/plain": [
       "<IPython.core.display.HTML object>"
      ]
     },
     "metadata": {},
     "output_type": "display_data"
    },
    {
     "data": {
      "text/html": [
       "<span style=\"color:cyan\"> |-tuner/bracket: 0</span>"
      ],
      "text/plain": [
       "<IPython.core.display.HTML object>"
      ]
     },
     "metadata": {},
     "output_type": "display_data"
    },
    {
     "data": {
      "text/html": [
       "<span style=\"color:blue\"> |-tuner/epochs: 50</span>"
      ],
      "text/plain": [
       "<IPython.core.display.HTML object>"
      ]
     },
     "metadata": {},
     "output_type": "display_data"
    },
    {
     "data": {
      "text/html": [
       "<span style=\"color:cyan\"> |-tuner/initial_epoch: 0</span>"
      ],
      "text/plain": [
       "<IPython.core.display.HTML object>"
      ]
     },
     "metadata": {},
     "output_type": "display_data"
    },
    {
     "data": {
      "text/html": [
       "<span style=\"color:blue\"> |-tuner/round: 0</span>"
      ],
      "text/plain": [
       "<IPython.core.display.HTML object>"
      ]
     },
     "metadata": {},
     "output_type": "display_data"
    },
    {
     "name": "stdout",
     "output_type": "stream",
     "text": [
      "Train on 8000 samples, validate on 2000 samples\n",
      "Epoch 1/50\n",
      "8000/8000 - 1s - loss: 0.1076 - mean_squared_error: 0.1075 - mean_absolute_error: 0.2921 - val_loss: 0.0362 - val_mean_squared_error: 0.0360 - val_mean_absolute_error: 0.1674\n",
      "Epoch 2/50\n",
      "8000/8000 - 1s - loss: 0.0171 - mean_squared_error: 0.0168 - mean_absolute_error: 0.1123 - val_loss: 0.0077 - val_mean_squared_error: 0.0074 - val_mean_absolute_error: 0.0766\n",
      "Epoch 3/50\n",
      "8000/8000 - 1s - loss: 0.0052 - mean_squared_error: 0.0048 - mean_absolute_error: 0.0614 - val_loss: 0.0037 - val_mean_squared_error: 0.0032 - val_mean_absolute_error: 0.0499\n",
      "Epoch 4/50\n",
      "8000/8000 - 1s - loss: 0.0030 - mean_squared_error: 0.0025 - mean_absolute_error: 0.0434 - val_loss: 0.0025 - val_mean_squared_error: 0.0020 - val_mean_absolute_error: 0.0375\n",
      "Epoch 5/50\n",
      "8000/8000 - 1s - loss: 0.0021 - mean_squared_error: 0.0016 - mean_absolute_error: 0.0338 - val_loss: 0.0018 - val_mean_squared_error: 0.0013 - val_mean_absolute_error: 0.0298\n",
      "Epoch 6/50\n",
      "8000/8000 - 1s - loss: 0.0017 - mean_squared_error: 0.0011 - mean_absolute_error: 0.0275 - val_loss: 0.0015 - val_mean_squared_error: 8.9838e-04 - val_mean_absolute_error: 0.0246\n",
      "Epoch 7/50\n",
      "8000/8000 - 1s - loss: 0.0014 - mean_squared_error: 7.9288e-04 - mean_absolute_error: 0.0231 - val_loss: 0.0013 - val_mean_squared_error: 6.5795e-04 - val_mean_absolute_error: 0.0207\n",
      "Epoch 8/50\n",
      "8000/8000 - 1s - loss: 0.0012 - mean_squared_error: 5.9363e-04 - mean_absolute_error: 0.0197 - val_loss: 0.0011 - val_mean_squared_error: 5.0168e-04 - val_mean_absolute_error: 0.0179\n",
      "Epoch 9/50\n",
      "8000/8000 - 1s - loss: 0.0011 - mean_squared_error: 4.6912e-04 - mean_absolute_error: 0.0173 - val_loss: 0.0011 - val_mean_squared_error: 4.0957e-04 - val_mean_absolute_error: 0.0161\n",
      "Epoch 10/50\n",
      "8000/8000 - 1s - loss: 0.0011 - mean_squared_error: 3.7842e-04 - mean_absolute_error: 0.0153 - val_loss: 0.0010 - val_mean_squared_error: 3.3018e-04 - val_mean_absolute_error: 0.0139\n",
      "Epoch 11/50\n",
      "8000/8000 - 1s - loss: 0.0010 - mean_squared_error: 3.2064e-04 - mean_absolute_error: 0.0139 - val_loss: 0.0010 - val_mean_squared_error: 3.0006e-04 - val_mean_absolute_error: 0.0136\n",
      "Epoch 12/50\n",
      "8000/8000 - 1s - loss: 9.9163e-04 - mean_squared_error: 2.8171e-04 - mean_absolute_error: 0.0130 - val_loss: 9.7466e-04 - val_mean_squared_error: 2.5813e-04 - val_mean_absolute_error: 0.0124\n",
      "Epoch 13/50\n",
      "8000/8000 - 1s - loss: 9.7434e-04 - mean_squared_error: 2.5213e-04 - mean_absolute_error: 0.0122 - val_loss: 9.6273e-04 - val_mean_squared_error: 2.3500e-04 - val_mean_absolute_error: 0.0117\n",
      "Epoch 14/50\n",
      "8000/8000 - 1s - loss: 9.6889e-04 - mean_squared_error: 2.3674e-04 - mean_absolute_error: 0.0118 - val_loss: 9.6631e-04 - val_mean_squared_error: 2.2987e-04 - val_mean_absolute_error: 0.0117\n",
      "Epoch 15/50\n",
      "8000/8000 - 1s - loss: 9.6556e-04 - mean_squared_error: 2.2577e-04 - mean_absolute_error: 0.0115 - val_loss: 9.4903e-04 - val_mean_squared_error: 2.0645e-04 - val_mean_absolute_error: 0.0108\n",
      "Epoch 16/50\n",
      "8000/8000 - 1s - loss: 9.5962e-04 - mean_squared_error: 2.1470e-04 - mean_absolute_error: 0.0111 - val_loss: 9.5213e-04 - val_mean_squared_error: 2.0494e-04 - val_mean_absolute_error: 0.0109\n",
      "Epoch 17/50\n",
      "8000/8000 - 1s - loss: 9.6067e-04 - mean_squared_error: 2.1187e-04 - mean_absolute_error: 0.0110 - val_loss: 9.4806e-04 - val_mean_squared_error: 1.9762e-04 - val_mean_absolute_error: 0.0104\n",
      "Epoch 18/50\n",
      "8000/8000 - 1s - loss: 9.5782e-04 - mean_squared_error: 2.0604e-04 - mean_absolute_error: 0.0109 - val_loss: 9.4306e-04 - val_mean_squared_error: 1.9100e-04 - val_mean_absolute_error: 0.0103\n",
      "Epoch 19/50\n",
      "8000/8000 - 1s - loss: 9.5582e-04 - mean_squared_error: 2.0318e-04 - mean_absolute_error: 0.0108 - val_loss: 9.4320e-04 - val_mean_squared_error: 1.8996e-04 - val_mean_absolute_error: 0.0102\n",
      "Epoch 20/50\n",
      "8000/8000 - 1s - loss: 9.5465e-04 - mean_squared_error: 2.0130e-04 - mean_absolute_error: 0.0107 - val_loss: 9.4174e-04 - val_mean_squared_error: 1.8843e-04 - val_mean_absolute_error: 0.0103\n",
      "Epoch 21/50\n",
      "8000/8000 - 1s - loss: 9.5792e-04 - mean_squared_error: 2.0461e-04 - mean_absolute_error: 0.0108 - val_loss: 9.4767e-04 - val_mean_squared_error: 1.9470e-04 - val_mean_absolute_error: 0.0105\n",
      "Epoch 22/50\n",
      "8000/8000 - 1s - loss: 9.5393e-04 - mean_squared_error: 2.0159e-04 - mean_absolute_error: 0.0107 - val_loss: 9.3905e-04 - val_mean_squared_error: 1.8708e-04 - val_mean_absolute_error: 0.0102\n",
      "Epoch 23/50\n",
      "8000/8000 - 1s - loss: 9.5246e-04 - mean_squared_error: 2.0129e-04 - mean_absolute_error: 0.0107 - val_loss: 9.5438e-04 - val_mean_squared_error: 2.0360e-04 - val_mean_absolute_error: 0.0108\n",
      "Epoch 24/50\n",
      "8000/8000 - 1s - loss: 9.5413e-04 - mean_squared_error: 2.0381e-04 - mean_absolute_error: 0.0108 - val_loss: 9.4317e-04 - val_mean_squared_error: 1.9302e-04 - val_mean_absolute_error: 0.0103\n",
      "Epoch 25/50\n",
      "8000/8000 - 1s - loss: 9.6312e-04 - mean_squared_error: 2.1462e-04 - mean_absolute_error: 0.0110 - val_loss: 9.4050e-04 - val_mean_squared_error: 1.9179e-04 - val_mean_absolute_error: 0.0102\n",
      "Epoch 26/50\n",
      "8000/8000 - 1s - loss: 9.4949e-04 - mean_squared_error: 2.0093e-04 - mean_absolute_error: 0.0107 - val_loss: 9.5717e-04 - val_mean_squared_error: 2.0944e-04 - val_mean_absolute_error: 0.0109\n",
      "Epoch 27/50\n",
      "8000/8000 - 1s - loss: 9.6075e-04 - mean_squared_error: 2.1396e-04 - mean_absolute_error: 0.0110 - val_loss: 9.3507e-04 - val_mean_squared_error: 1.8940e-04 - val_mean_absolute_error: 0.0103\n"
     ]
    },
    {
     "data": {
      "text/html": [
       "<span style=\"color:#4527A0\"><h1 style=\"font-size:18px\">Trial complete</h1></span>"
      ],
      "text/plain": [
       "<IPython.core.display.HTML object>"
      ]
     },
     "metadata": {},
     "output_type": "display_data"
    },
    {
     "data": {
      "text/html": [
       "<span style=\"color:#4527A0\"><h1 style=\"font-size:18px\">Trial summary</h1></span>"
      ],
      "text/plain": [
       "<IPython.core.display.HTML object>"
      ]
     },
     "metadata": {},
     "output_type": "display_data"
    },
    {
     "data": {
      "text/html": [
       "<span style=\"color:cyan\"> |-Trial ID: 4356418bef8f60355ca198f55db5efae</span>"
      ],
      "text/plain": [
       "<IPython.core.display.HTML object>"
      ]
     },
     "metadata": {},
     "output_type": "display_data"
    },
    {
     "data": {
      "text/html": [
       "<span style=\"color:cyan\"> |-Score: 0.00018708333664108068</span>"
      ],
      "text/plain": [
       "<IPython.core.display.HTML object>"
      ]
     },
     "metadata": {},
     "output_type": "display_data"
    },
    {
     "data": {
      "text/html": [
       "<span style=\"color:cyan\"> |-Best step: 0</span>"
      ],
      "text/plain": [
       "<IPython.core.display.HTML object>"
      ]
     },
     "metadata": {},
     "output_type": "display_data"
    },
    {
     "data": {
      "text/html": [
       "<span style=\"color:#7E57C2\"><h2 style=\"font-size:16px\">Hyperparameters:</h2></span>"
      ],
      "text/plain": [
       "<IPython.core.display.HTML object>"
      ]
     },
     "metadata": {},
     "output_type": "display_data"
    },
    {
     "data": {
      "text/html": [
       "<span style=\"color:cyan\"> |-hidden_units: 148</span>"
      ],
      "text/plain": [
       "<IPython.core.display.HTML object>"
      ]
     },
     "metadata": {},
     "output_type": "display_data"
    },
    {
     "data": {
      "text/html": [
       "<span style=\"color:blue\"> |-learning_rate: 0.001</span>"
      ],
      "text/plain": [
       "<IPython.core.display.HTML object>"
      ]
     },
     "metadata": {},
     "output_type": "display_data"
    },
    {
     "data": {
      "text/html": [
       "<span style=\"color:cyan\"> |-tuner/bracket: 0</span>"
      ],
      "text/plain": [
       "<IPython.core.display.HTML object>"
      ]
     },
     "metadata": {},
     "output_type": "display_data"
    },
    {
     "data": {
      "text/html": [
       "<span style=\"color:blue\"> |-tuner/epochs: 50</span>"
      ],
      "text/plain": [
       "<IPython.core.display.HTML object>"
      ]
     },
     "metadata": {},
     "output_type": "display_data"
    },
    {
     "data": {
      "text/html": [
       "<span style=\"color:cyan\"> |-tuner/initial_epoch: 0</span>"
      ],
      "text/plain": [
       "<IPython.core.display.HTML object>"
      ]
     },
     "metadata": {},
     "output_type": "display_data"
    },
    {
     "data": {
      "text/html": [
       "<span style=\"color:blue\"> |-tuner/round: 0</span>"
      ],
      "text/plain": [
       "<IPython.core.display.HTML object>"
      ]
     },
     "metadata": {},
     "output_type": "display_data"
    },
    {
     "name": "stdout",
     "output_type": "stream",
     "text": [
      "Train on 8000 samples, validate on 2000 samples\n",
      "Epoch 1/50\n",
      "8000/8000 - 1s - loss: 0.2193 - mean_squared_error: 0.2192 - mean_absolute_error: 0.4432 - val_loss: 0.2050 - val_mean_squared_error: 0.2049 - val_mean_absolute_error: 0.4261\n",
      "Epoch 2/50\n",
      "8000/8000 - 1s - loss: 0.1961 - mean_squared_error: 0.1960 - mean_absolute_error: 0.4141 - val_loss: 0.1902 - val_mean_squared_error: 0.1902 - val_mean_absolute_error: 0.4050\n",
      "Epoch 3/50\n",
      "8000/8000 - 1s - loss: 0.1825 - mean_squared_error: 0.1824 - mean_absolute_error: 0.3967 - val_loss: 0.1771 - val_mean_squared_error: 0.1770 - val_mean_absolute_error: 0.3904\n",
      "Epoch 4/50\n",
      "8000/8000 - 1s - loss: 0.1693 - mean_squared_error: 0.1692 - mean_absolute_error: 0.3818 - val_loss: 0.1639 - val_mean_squared_error: 0.1638 - val_mean_absolute_error: 0.3750\n",
      "Epoch 5/50\n",
      "8000/8000 - 1s - loss: 0.1559 - mean_squared_error: 0.1559 - mean_absolute_error: 0.3661 - val_loss: 0.1506 - val_mean_squared_error: 0.1505 - val_mean_absolute_error: 0.3588\n",
      "Epoch 6/50\n",
      "8000/8000 - 1s - loss: 0.1427 - mean_squared_error: 0.1426 - mean_absolute_error: 0.3493 - val_loss: 0.1375 - val_mean_squared_error: 0.1374 - val_mean_absolute_error: 0.3425\n",
      "Epoch 7/50\n",
      "8000/8000 - 0s - loss: 0.1299 - mean_squared_error: 0.1298 - mean_absolute_error: 0.3322 - val_loss: 0.1253 - val_mean_squared_error: 0.1252 - val_mean_absolute_error: 0.3250\n",
      "Epoch 8/50\n",
      "8000/8000 - 1s - loss: 0.1182 - mean_squared_error: 0.1181 - mean_absolute_error: 0.3147 - val_loss: 0.1144 - val_mean_squared_error: 0.1143 - val_mean_absolute_error: 0.3081\n",
      "Epoch 9/50\n",
      "8000/8000 - 1s - loss: 0.1078 - mean_squared_error: 0.1077 - mean_absolute_error: 0.2981 - val_loss: 0.1048 - val_mean_squared_error: 0.1046 - val_mean_absolute_error: 0.2915\n",
      "Epoch 10/50\n",
      "8000/8000 - 1s - loss: 0.0987 - mean_squared_error: 0.0986 - mean_absolute_error: 0.2822 - val_loss: 0.0963 - val_mean_squared_error: 0.0962 - val_mean_absolute_error: 0.2777\n",
      "Epoch 11/50\n",
      "8000/8000 - 1s - loss: 0.0908 - mean_squared_error: 0.0907 - mean_absolute_error: 0.2679 - val_loss: 0.0890 - val_mean_squared_error: 0.0888 - val_mean_absolute_error: 0.2641\n",
      "Epoch 12/50\n",
      "8000/8000 - 1s - loss: 0.0839 - mean_squared_error: 0.0837 - mean_absolute_error: 0.2547 - val_loss: 0.0824 - val_mean_squared_error: 0.0822 - val_mean_absolute_error: 0.2503\n",
      "Epoch 13/50\n",
      "8000/8000 - 1s - loss: 0.0775 - mean_squared_error: 0.0774 - mean_absolute_error: 0.2422 - val_loss: 0.0763 - val_mean_squared_error: 0.0761 - val_mean_absolute_error: 0.2397\n",
      "Epoch 14/50\n",
      "8000/8000 - 1s - loss: 0.0717 - mean_squared_error: 0.0715 - mean_absolute_error: 0.2308 - val_loss: 0.0706 - val_mean_squared_error: 0.0704 - val_mean_absolute_error: 0.2275\n",
      "Epoch 15/50\n",
      "8000/8000 - 1s - loss: 0.0662 - mean_squared_error: 0.0660 - mean_absolute_error: 0.2199 - val_loss: 0.0652 - val_mean_squared_error: 0.0650 - val_mean_absolute_error: 0.2177\n",
      "Epoch 16/50\n",
      "8000/8000 - 1s - loss: 0.0610 - mean_squared_error: 0.0608 - mean_absolute_error: 0.2096 - val_loss: 0.0601 - val_mean_squared_error: 0.0599 - val_mean_absolute_error: 0.2074\n",
      "Epoch 17/50\n",
      "8000/8000 - 0s - loss: 0.0561 - mean_squared_error: 0.0559 - mean_absolute_error: 0.1996 - val_loss: 0.0552 - val_mean_squared_error: 0.0550 - val_mean_absolute_error: 0.1976\n",
      "Epoch 18/50\n",
      "8000/8000 - 1s - loss: 0.0514 - mean_squared_error: 0.0512 - mean_absolute_error: 0.1900 - val_loss: 0.0506 - val_mean_squared_error: 0.0504 - val_mean_absolute_error: 0.1875\n",
      "Epoch 19/50\n",
      "8000/8000 - 1s - loss: 0.0470 - mean_squared_error: 0.0468 - mean_absolute_error: 0.1807 - val_loss: 0.0462 - val_mean_squared_error: 0.0460 - val_mean_absolute_error: 0.1786\n",
      "Epoch 20/50\n",
      "8000/8000 - 1s - loss: 0.0428 - mean_squared_error: 0.0426 - mean_absolute_error: 0.1717 - val_loss: 0.0421 - val_mean_squared_error: 0.0419 - val_mean_absolute_error: 0.1695\n",
      "Epoch 21/50\n",
      "8000/8000 - 0s - loss: 0.0389 - mean_squared_error: 0.0387 - mean_absolute_error: 0.1629 - val_loss: 0.0383 - val_mean_squared_error: 0.0380 - val_mean_absolute_error: 0.1610\n",
      "Epoch 22/50\n",
      "8000/8000 - 0s - loss: 0.0352 - mean_squared_error: 0.0350 - mean_absolute_error: 0.1545 - val_loss: 0.0347 - val_mean_squared_error: 0.0344 - val_mean_absolute_error: 0.1525\n",
      "Epoch 23/50\n",
      "8000/8000 - 0s - loss: 0.0318 - mean_squared_error: 0.0316 - mean_absolute_error: 0.1463 - val_loss: 0.0313 - val_mean_squared_error: 0.0310 - val_mean_absolute_error: 0.1448\n",
      "Epoch 24/50\n",
      "8000/8000 - 0s - loss: 0.0287 - mean_squared_error: 0.0284 - mean_absolute_error: 0.1386 - val_loss: 0.0282 - val_mean_squared_error: 0.0279 - val_mean_absolute_error: 0.1369\n",
      "Epoch 25/50\n",
      "8000/8000 - 0s - loss: 0.0258 - mean_squared_error: 0.0255 - mean_absolute_error: 0.1311 - val_loss: 0.0254 - val_mean_squared_error: 0.0251 - val_mean_absolute_error: 0.1293\n",
      "Epoch 26/50\n",
      "8000/8000 - 1s - loss: 0.0231 - mean_squared_error: 0.0228 - mean_absolute_error: 0.1239 - val_loss: 0.0228 - val_mean_squared_error: 0.0225 - val_mean_absolute_error: 0.1225\n",
      "Epoch 27/50\n",
      "8000/8000 - 1s - loss: 0.0207 - mean_squared_error: 0.0204 - mean_absolute_error: 0.1171 - val_loss: 0.0204 - val_mean_squared_error: 0.0201 - val_mean_absolute_error: 0.1157\n",
      "Epoch 28/50\n",
      "8000/8000 - 1s - loss: 0.0185 - mean_squared_error: 0.0182 - mean_absolute_error: 0.1107 - val_loss: 0.0183 - val_mean_squared_error: 0.0179 - val_mean_absolute_error: 0.1093\n",
      "Epoch 29/50\n",
      "8000/8000 - 1s - loss: 0.0166 - mean_squared_error: 0.0163 - mean_absolute_error: 0.1047 - val_loss: 0.0164 - val_mean_squared_error: 0.0160 - val_mean_absolute_error: 0.1032\n",
      "Epoch 30/50\n",
      "8000/8000 - 0s - loss: 0.0148 - mean_squared_error: 0.0145 - mean_absolute_error: 0.0990 - val_loss: 0.0146 - val_mean_squared_error: 0.0143 - val_mean_absolute_error: 0.0978\n",
      "Epoch 31/50\n",
      "8000/8000 - 1s - loss: 0.0133 - mean_squared_error: 0.0129 - mean_absolute_error: 0.0936 - val_loss: 0.0131 - val_mean_squared_error: 0.0128 - val_mean_absolute_error: 0.0924\n",
      "Epoch 32/50\n",
      "8000/8000 - 1s - loss: 0.0119 - mean_squared_error: 0.0115 - mean_absolute_error: 0.0885 - val_loss: 0.0118 - val_mean_squared_error: 0.0114 - val_mean_absolute_error: 0.0875\n",
      "Epoch 33/50\n",
      "8000/8000 - 1s - loss: 0.0107 - mean_squared_error: 0.0103 - mean_absolute_error: 0.0839 - val_loss: 0.0106 - val_mean_squared_error: 0.0102 - val_mean_absolute_error: 0.0827\n",
      "Epoch 34/50\n",
      "8000/8000 - 0s - loss: 0.0096 - mean_squared_error: 0.0092 - mean_absolute_error: 0.0795 - val_loss: 0.0095 - val_mean_squared_error: 0.0091 - val_mean_absolute_error: 0.0784\n",
      "Epoch 35/50\n",
      "8000/8000 - 0s - loss: 0.0087 - mean_squared_error: 0.0083 - mean_absolute_error: 0.0754 - val_loss: 0.0086 - val_mean_squared_error: 0.0082 - val_mean_absolute_error: 0.0743\n",
      "Epoch 36/50\n",
      "8000/8000 - 1s - loss: 0.0078 - mean_squared_error: 0.0074 - mean_absolute_error: 0.0715 - val_loss: 0.0078 - val_mean_squared_error: 0.0074 - val_mean_absolute_error: 0.0705\n",
      "Epoch 37/50\n",
      "8000/8000 - 1s - loss: 0.0071 - mean_squared_error: 0.0067 - mean_absolute_error: 0.0679 - val_loss: 0.0070 - val_mean_squared_error: 0.0066 - val_mean_absolute_error: 0.0671\n",
      "Epoch 38/50\n",
      "8000/8000 - 1s - loss: 0.0064 - mean_squared_error: 0.0060 - mean_absolute_error: 0.0646 - val_loss: 0.0064 - val_mean_squared_error: 0.0060 - val_mean_absolute_error: 0.0637\n",
      "Epoch 39/50\n",
      "8000/8000 - 1s - loss: 0.0059 - mean_squared_error: 0.0055 - mean_absolute_error: 0.0614 - val_loss: 0.0058 - val_mean_squared_error: 0.0054 - val_mean_absolute_error: 0.0605\n",
      "Epoch 40/50\n",
      "8000/8000 - 0s - loss: 0.0054 - mean_squared_error: 0.0049 - mean_absolute_error: 0.0584 - val_loss: 0.0053 - val_mean_squared_error: 0.0049 - val_mean_absolute_error: 0.0575\n",
      "Epoch 41/50\n",
      "8000/8000 - 0s - loss: 0.0049 - mean_squared_error: 0.0045 - mean_absolute_error: 0.0557 - val_loss: 0.0049 - val_mean_squared_error: 0.0044 - val_mean_absolute_error: 0.0548\n",
      "Epoch 42/50\n",
      "8000/8000 - 0s - loss: 0.0045 - mean_squared_error: 0.0041 - mean_absolute_error: 0.0531 - val_loss: 0.0045 - val_mean_squared_error: 0.0040 - val_mean_absolute_error: 0.0522\n",
      "Epoch 43/50\n",
      "8000/8000 - 0s - loss: 0.0042 - mean_squared_error: 0.0037 - mean_absolute_error: 0.0506 - val_loss: 0.0041 - val_mean_squared_error: 0.0037 - val_mean_absolute_error: 0.0498\n",
      "Epoch 44/50\n",
      "8000/8000 - 0s - loss: 0.0038 - mean_squared_error: 0.0034 - mean_absolute_error: 0.0483 - val_loss: 0.0038 - val_mean_squared_error: 0.0033 - val_mean_absolute_error: 0.0474\n"
     ]
    },
    {
     "name": "stdout",
     "output_type": "stream",
     "text": [
      "Epoch 45/50\n",
      "8000/8000 - 0s - loss: 0.0035 - mean_squared_error: 0.0031 - mean_absolute_error: 0.0461 - val_loss: 0.0035 - val_mean_squared_error: 0.0030 - val_mean_absolute_error: 0.0453\n",
      "Epoch 46/50\n",
      "8000/8000 - 0s - loss: 0.0033 - mean_squared_error: 0.0028 - mean_absolute_error: 0.0440 - val_loss: 0.0032 - val_mean_squared_error: 0.0028 - val_mean_absolute_error: 0.0433\n",
      "Epoch 47/50\n",
      "8000/8000 - 0s - loss: 0.0031 - mean_squared_error: 0.0026 - mean_absolute_error: 0.0421 - val_loss: 0.0030 - val_mean_squared_error: 0.0025 - val_mean_absolute_error: 0.0412\n",
      "Epoch 48/50\n",
      "8000/8000 - 0s - loss: 0.0028 - mean_squared_error: 0.0023 - mean_absolute_error: 0.0403 - val_loss: 0.0028 - val_mean_squared_error: 0.0023 - val_mean_absolute_error: 0.0393\n",
      "Epoch 49/50\n",
      "8000/8000 - 0s - loss: 0.0027 - mean_squared_error: 0.0021 - mean_absolute_error: 0.0385 - val_loss: 0.0026 - val_mean_squared_error: 0.0021 - val_mean_absolute_error: 0.0377\n",
      "Epoch 50/50\n",
      "8000/8000 - 1s - loss: 0.0025 - mean_squared_error: 0.0020 - mean_absolute_error: 0.0368 - val_loss: 0.0024 - val_mean_squared_error: 0.0019 - val_mean_absolute_error: 0.0360\n"
     ]
    },
    {
     "data": {
      "text/html": [
       "<span style=\"color:#4527A0\"><h1 style=\"font-size:18px\">Trial complete</h1></span>"
      ],
      "text/plain": [
       "<IPython.core.display.HTML object>"
      ]
     },
     "metadata": {},
     "output_type": "display_data"
    },
    {
     "data": {
      "text/html": [
       "<span style=\"color:#4527A0\"><h1 style=\"font-size:18px\">Trial summary</h1></span>"
      ],
      "text/plain": [
       "<IPython.core.display.HTML object>"
      ]
     },
     "metadata": {},
     "output_type": "display_data"
    },
    {
     "data": {
      "text/html": [
       "<span style=\"color:cyan\"> |-Trial ID: 3507a011b83a646cc13699122813edc3</span>"
      ],
      "text/plain": [
       "<IPython.core.display.HTML object>"
      ]
     },
     "metadata": {},
     "output_type": "display_data"
    },
    {
     "data": {
      "text/html": [
       "<span style=\"color:cyan\"> |-Score: 0.0019131683511659503</span>"
      ],
      "text/plain": [
       "<IPython.core.display.HTML object>"
      ]
     },
     "metadata": {},
     "output_type": "display_data"
    },
    {
     "data": {
      "text/html": [
       "<span style=\"color:cyan\"> |-Best step: 0</span>"
      ],
      "text/plain": [
       "<IPython.core.display.HTML object>"
      ]
     },
     "metadata": {},
     "output_type": "display_data"
    },
    {
     "data": {
      "text/html": [
       "<span style=\"color:#7E57C2\"><h2 style=\"font-size:16px\">Hyperparameters:</h2></span>"
      ],
      "text/plain": [
       "<IPython.core.display.HTML object>"
      ]
     },
     "metadata": {},
     "output_type": "display_data"
    },
    {
     "data": {
      "text/html": [
       "<span style=\"color:cyan\"> |-hidden_units: 46</span>"
      ],
      "text/plain": [
       "<IPython.core.display.HTML object>"
      ]
     },
     "metadata": {},
     "output_type": "display_data"
    },
    {
     "data": {
      "text/html": [
       "<span style=\"color:blue\"> |-learning_rate: 0.0001</span>"
      ],
      "text/plain": [
       "<IPython.core.display.HTML object>"
      ]
     },
     "metadata": {},
     "output_type": "display_data"
    },
    {
     "data": {
      "text/html": [
       "<span style=\"color:cyan\"> |-tuner/bracket: 0</span>"
      ],
      "text/plain": [
       "<IPython.core.display.HTML object>"
      ]
     },
     "metadata": {},
     "output_type": "display_data"
    },
    {
     "data": {
      "text/html": [
       "<span style=\"color:blue\"> |-tuner/epochs: 50</span>"
      ],
      "text/plain": [
       "<IPython.core.display.HTML object>"
      ]
     },
     "metadata": {},
     "output_type": "display_data"
    },
    {
     "data": {
      "text/html": [
       "<span style=\"color:cyan\"> |-tuner/initial_epoch: 0</span>"
      ],
      "text/plain": [
       "<IPython.core.display.HTML object>"
      ]
     },
     "metadata": {},
     "output_type": "display_data"
    },
    {
     "data": {
      "text/html": [
       "<span style=\"color:blue\"> |-tuner/round: 0</span>"
      ],
      "text/plain": [
       "<IPython.core.display.HTML object>"
      ]
     },
     "metadata": {},
     "output_type": "display_data"
    },
    {
     "name": "stdout",
     "output_type": "stream",
     "text": [
      "Train on 8000 samples, validate on 2000 samples\n",
      "Epoch 1/50\n",
      "8000/8000 - 1s - loss: 0.2133 - mean_squared_error: 0.2132 - mean_absolute_error: 0.4337 - val_loss: 0.1977 - val_mean_squared_error: 0.1976 - val_mean_absolute_error: 0.4152\n",
      "Epoch 2/50\n",
      "8000/8000 - 1s - loss: 0.1870 - mean_squared_error: 0.1869 - mean_absolute_error: 0.4030 - val_loss: 0.1777 - val_mean_squared_error: 0.1776 - val_mean_absolute_error: 0.3907\n",
      "Epoch 3/50\n",
      "8000/8000 - 1s - loss: 0.1674 - mean_squared_error: 0.1673 - mean_absolute_error: 0.3804 - val_loss: 0.1582 - val_mean_squared_error: 0.1581 - val_mean_absolute_error: 0.3689\n",
      "Epoch 4/50\n",
      "8000/8000 - 1s - loss: 0.1481 - mean_squared_error: 0.1480 - mean_absolute_error: 0.3574 - val_loss: 0.1392 - val_mean_squared_error: 0.1391 - val_mean_absolute_error: 0.3452\n",
      "Epoch 5/50\n",
      "8000/8000 - 1s - loss: 0.1295 - mean_squared_error: 0.1293 - mean_absolute_error: 0.3334 - val_loss: 0.1213 - val_mean_squared_error: 0.1212 - val_mean_absolute_error: 0.3206\n",
      "Epoch 6/50\n",
      "8000/8000 - 1s - loss: 0.1124 - mean_squared_error: 0.1123 - mean_absolute_error: 0.3089 - val_loss: 0.1054 - val_mean_squared_error: 0.1052 - val_mean_absolute_error: 0.2978\n",
      "Epoch 7/50\n",
      "8000/8000 - 1s - loss: 0.0976 - mean_squared_error: 0.0974 - mean_absolute_error: 0.2855 - val_loss: 0.0918 - val_mean_squared_error: 0.0917 - val_mean_absolute_error: 0.2747\n",
      "Epoch 8/50\n",
      "8000/8000 - 1s - loss: 0.0851 - mean_squared_error: 0.0849 - mean_absolute_error: 0.2637 - val_loss: 0.0804 - val_mean_squared_error: 0.0802 - val_mean_absolute_error: 0.2543\n",
      "Epoch 9/50\n",
      "8000/8000 - 1s - loss: 0.0745 - mean_squared_error: 0.0743 - mean_absolute_error: 0.2441 - val_loss: 0.0705 - val_mean_squared_error: 0.0703 - val_mean_absolute_error: 0.2356\n",
      "Epoch 10/50\n",
      "8000/8000 - 1s - loss: 0.0652 - mean_squared_error: 0.0651 - mean_absolute_error: 0.2261 - val_loss: 0.0618 - val_mean_squared_error: 0.0616 - val_mean_absolute_error: 0.2190\n",
      "Epoch 11/50\n",
      "8000/8000 - 1s - loss: 0.0570 - mean_squared_error: 0.0568 - mean_absolute_error: 0.2097 - val_loss: 0.0539 - val_mean_squared_error: 0.0537 - val_mean_absolute_error: 0.2036\n",
      "Epoch 12/50\n",
      "8000/8000 - 1s - loss: 0.0496 - mean_squared_error: 0.0494 - mean_absolute_error: 0.1943 - val_loss: 0.0468 - val_mean_squared_error: 0.0466 - val_mean_absolute_error: 0.1878\n",
      "Epoch 13/50\n",
      "8000/8000 - 1s - loss: 0.0429 - mean_squared_error: 0.0427 - mean_absolute_error: 0.1798 - val_loss: 0.0404 - val_mean_squared_error: 0.0401 - val_mean_absolute_error: 0.1742\n",
      "Epoch 14/50\n",
      "8000/8000 - 1s - loss: 0.0369 - mean_squared_error: 0.0367 - mean_absolute_error: 0.1662 - val_loss: 0.0346 - val_mean_squared_error: 0.0344 - val_mean_absolute_error: 0.1602\n",
      "Epoch 15/50\n",
      "8000/8000 - 1s - loss: 0.0315 - mean_squared_error: 0.0313 - mean_absolute_error: 0.1533 - val_loss: 0.0295 - val_mean_squared_error: 0.0292 - val_mean_absolute_error: 0.1482\n",
      "Epoch 16/50\n",
      "8000/8000 - 1s - loss: 0.0268 - mean_squared_error: 0.0265 - mean_absolute_error: 0.1412 - val_loss: 0.0250 - val_mean_squared_error: 0.0247 - val_mean_absolute_error: 0.1365\n",
      "Epoch 17/50\n",
      "8000/8000 - 1s - loss: 0.0227 - mean_squared_error: 0.0224 - mean_absolute_error: 0.1300 - val_loss: 0.0211 - val_mean_squared_error: 0.0209 - val_mean_absolute_error: 0.1254\n",
      "Epoch 18/50\n",
      "8000/8000 - 1s - loss: 0.0192 - mean_squared_error: 0.0189 - mean_absolute_error: 0.1196 - val_loss: 0.0179 - val_mean_squared_error: 0.0176 - val_mean_absolute_error: 0.1151\n",
      "Epoch 19/50\n",
      "8000/8000 - 1s - loss: 0.0162 - mean_squared_error: 0.0159 - mean_absolute_error: 0.1101 - val_loss: 0.0151 - val_mean_squared_error: 0.0148 - val_mean_absolute_error: 0.1061\n",
      "Epoch 20/50\n",
      "8000/8000 - 1s - loss: 0.0137 - mean_squared_error: 0.0134 - mean_absolute_error: 0.1014 - val_loss: 0.0128 - val_mean_squared_error: 0.0125 - val_mean_absolute_error: 0.0977\n",
      "Epoch 21/50\n",
      "8000/8000 - 1s - loss: 0.0117 - mean_squared_error: 0.0113 - mean_absolute_error: 0.0936 - val_loss: 0.0109 - val_mean_squared_error: 0.0106 - val_mean_absolute_error: 0.0903\n",
      "Epoch 22/50\n",
      "8000/8000 - 1s - loss: 0.0100 - mean_squared_error: 0.0096 - mean_absolute_error: 0.0865 - val_loss: 0.0093 - val_mean_squared_error: 0.0090 - val_mean_absolute_error: 0.0835\n",
      "Epoch 23/50\n",
      "8000/8000 - 1s - loss: 0.0086 - mean_squared_error: 0.0082 - mean_absolute_error: 0.0802 - val_loss: 0.0081 - val_mean_squared_error: 0.0077 - val_mean_absolute_error: 0.0776\n",
      "Epoch 24/50\n",
      "8000/8000 - 1s - loss: 0.0074 - mean_squared_error: 0.0071 - mean_absolute_error: 0.0744 - val_loss: 0.0070 - val_mean_squared_error: 0.0066 - val_mean_absolute_error: 0.0720\n",
      "Epoch 25/50\n",
      "8000/8000 - 1s - loss: 0.0065 - mean_squared_error: 0.0061 - mean_absolute_error: 0.0693 - val_loss: 0.0062 - val_mean_squared_error: 0.0058 - val_mean_absolute_error: 0.0669\n",
      "Epoch 26/50\n",
      "8000/8000 - 1s - loss: 0.0057 - mean_squared_error: 0.0053 - mean_absolute_error: 0.0647 - val_loss: 0.0054 - val_mean_squared_error: 0.0050 - val_mean_absolute_error: 0.0626\n",
      "Epoch 27/50\n",
      "8000/8000 - 1s - loss: 0.0051 - mean_squared_error: 0.0047 - mean_absolute_error: 0.0604 - val_loss: 0.0048 - val_mean_squared_error: 0.0044 - val_mean_absolute_error: 0.0584\n",
      "Epoch 28/50\n",
      "8000/8000 - 1s - loss: 0.0045 - mean_squared_error: 0.0041 - mean_absolute_error: 0.0566 - val_loss: 0.0043 - val_mean_squared_error: 0.0039 - val_mean_absolute_error: 0.0547\n",
      "Epoch 29/50\n",
      "8000/8000 - 1s - loss: 0.0041 - mean_squared_error: 0.0036 - mean_absolute_error: 0.0531 - val_loss: 0.0039 - val_mean_squared_error: 0.0035 - val_mean_absolute_error: 0.0513\n",
      "Epoch 30/50\n",
      "8000/8000 - 1s - loss: 0.0037 - mean_squared_error: 0.0032 - mean_absolute_error: 0.0500 - val_loss: 0.0035 - val_mean_squared_error: 0.0031 - val_mean_absolute_error: 0.0484\n",
      "Epoch 31/50\n",
      "8000/8000 - 1s - loss: 0.0034 - mean_squared_error: 0.0029 - mean_absolute_error: 0.0470 - val_loss: 0.0032 - val_mean_squared_error: 0.0028 - val_mean_absolute_error: 0.0456\n",
      "Epoch 32/50\n",
      "8000/8000 - 1s - loss: 0.0031 - mean_squared_error: 0.0026 - mean_absolute_error: 0.0444 - val_loss: 0.0030 - val_mean_squared_error: 0.0025 - val_mean_absolute_error: 0.0432\n",
      "Epoch 33/50\n",
      "8000/8000 - 1s - loss: 0.0028 - mean_squared_error: 0.0024 - mean_absolute_error: 0.0419 - val_loss: 0.0027 - val_mean_squared_error: 0.0022 - val_mean_absolute_error: 0.0405\n",
      "Epoch 34/50\n",
      "8000/8000 - 1s - loss: 0.0026 - mean_squared_error: 0.0021 - mean_absolute_error: 0.0396 - val_loss: 0.0025 - val_mean_squared_error: 0.0020 - val_mean_absolute_error: 0.0383\n",
      "Epoch 35/50\n",
      "8000/8000 - 1s - loss: 0.0024 - mean_squared_error: 0.0019 - mean_absolute_error: 0.0375 - val_loss: 0.0023 - val_mean_squared_error: 0.0018 - val_mean_absolute_error: 0.0362\n",
      "Epoch 36/50\n",
      "8000/8000 - 1s - loss: 0.0023 - mean_squared_error: 0.0017 - mean_absolute_error: 0.0355 - val_loss: 0.0022 - val_mean_squared_error: 0.0017 - val_mean_absolute_error: 0.0343\n",
      "Epoch 37/50\n",
      "8000/8000 - 1s - loss: 0.0021 - mean_squared_error: 0.0016 - mean_absolute_error: 0.0337 - val_loss: 0.0020 - val_mean_squared_error: 0.0015 - val_mean_absolute_error: 0.0327\n",
      "Epoch 38/50\n",
      "8000/8000 - 1s - loss: 0.0020 - mean_squared_error: 0.0014 - mean_absolute_error: 0.0320 - val_loss: 0.0019 - val_mean_squared_error: 0.0014 - val_mean_absolute_error: 0.0309\n",
      "Epoch 39/50\n",
      "8000/8000 - 1s - loss: 0.0019 - mean_squared_error: 0.0013 - mean_absolute_error: 0.0304 - val_loss: 0.0018 - val_mean_squared_error: 0.0013 - val_mean_absolute_error: 0.0295\n",
      "Epoch 40/50\n",
      "8000/8000 - 1s - loss: 0.0018 - mean_squared_error: 0.0012 - mean_absolute_error: 0.0289 - val_loss: 0.0017 - val_mean_squared_error: 0.0011 - val_mean_absolute_error: 0.0280\n",
      "Epoch 41/50\n",
      "8000/8000 - 1s - loss: 0.0017 - mean_squared_error: 0.0011 - mean_absolute_error: 0.0276 - val_loss: 0.0016 - val_mean_squared_error: 0.0010 - val_mean_absolute_error: 0.0266\n",
      "Epoch 42/50\n",
      "8000/8000 - 1s - loss: 0.0016 - mean_squared_error: 0.0010 - mean_absolute_error: 0.0263 - val_loss: 0.0015 - val_mean_squared_error: 9.5740e-04 - val_mean_absolute_error: 0.0254\n",
      "Epoch 43/50\n",
      "8000/8000 - 1s - loss: 0.0015 - mean_squared_error: 9.1700e-04 - mean_absolute_error: 0.0250 - val_loss: 0.0015 - val_mean_squared_error: 8.6592e-04 - val_mean_absolute_error: 0.0241\n",
      "Epoch 44/50\n",
      "8000/8000 - 1s - loss: 0.0014 - mean_squared_error: 8.3910e-04 - mean_absolute_error: 0.0239 - val_loss: 0.0014 - val_mean_squared_error: 7.9418e-04 - val_mean_absolute_error: 0.0230\n"
     ]
    },
    {
     "name": "stdout",
     "output_type": "stream",
     "text": [
      "Epoch 45/50\n",
      "8000/8000 - 1s - loss: 0.0014 - mean_squared_error: 7.7089e-04 - mean_absolute_error: 0.0228 - val_loss: 0.0013 - val_mean_squared_error: 7.2994e-04 - val_mean_absolute_error: 0.0220\n",
      "Epoch 46/50\n",
      "8000/8000 - 1s - loss: 0.0013 - mean_squared_error: 7.0692e-04 - mean_absolute_error: 0.0217 - val_loss: 0.0013 - val_mean_squared_error: 6.7062e-04 - val_mean_absolute_error: 0.0209\n",
      "Epoch 47/50\n",
      "8000/8000 - 1s - loss: 0.0013 - mean_squared_error: 6.5083e-04 - mean_absolute_error: 0.0208 - val_loss: 0.0012 - val_mean_squared_error: 6.1218e-04 - val_mean_absolute_error: 0.0199\n",
      "Epoch 48/50\n",
      "8000/8000 - 1s - loss: 0.0012 - mean_squared_error: 5.9937e-04 - mean_absolute_error: 0.0198 - val_loss: 0.0012 - val_mean_squared_error: 5.6853e-04 - val_mean_absolute_error: 0.0192\n",
      "Epoch 49/50\n",
      "8000/8000 - 1s - loss: 0.0012 - mean_squared_error: 5.5210e-04 - mean_absolute_error: 0.0190 - val_loss: 0.0012 - val_mean_squared_error: 5.1909e-04 - val_mean_absolute_error: 0.0182\n",
      "Epoch 50/50\n",
      "8000/8000 - 1s - loss: 0.0012 - mean_squared_error: 5.0924e-04 - mean_absolute_error: 0.0182 - val_loss: 0.0011 - val_mean_squared_error: 4.8152e-04 - val_mean_absolute_error: 0.0174\n"
     ]
    },
    {
     "data": {
      "text/html": [
       "<span style=\"color:#4527A0\"><h1 style=\"font-size:18px\">Trial complete</h1></span>"
      ],
      "text/plain": [
       "<IPython.core.display.HTML object>"
      ]
     },
     "metadata": {},
     "output_type": "display_data"
    },
    {
     "data": {
      "text/html": [
       "<span style=\"color:#4527A0\"><h1 style=\"font-size:18px\">Trial summary</h1></span>"
      ],
      "text/plain": [
       "<IPython.core.display.HTML object>"
      ]
     },
     "metadata": {},
     "output_type": "display_data"
    },
    {
     "data": {
      "text/html": [
       "<span style=\"color:cyan\"> |-Trial ID: a2faee75842691394270f374529b41f0</span>"
      ],
      "text/plain": [
       "<IPython.core.display.HTML object>"
      ]
     },
     "metadata": {},
     "output_type": "display_data"
    },
    {
     "data": {
      "text/html": [
       "<span style=\"color:cyan\"> |-Score: 0.0004815230786334723</span>"
      ],
      "text/plain": [
       "<IPython.core.display.HTML object>"
      ]
     },
     "metadata": {},
     "output_type": "display_data"
    },
    {
     "data": {
      "text/html": [
       "<span style=\"color:cyan\"> |-Best step: 0</span>"
      ],
      "text/plain": [
       "<IPython.core.display.HTML object>"
      ]
     },
     "metadata": {},
     "output_type": "display_data"
    },
    {
     "data": {
      "text/html": [
       "<span style=\"color:#7E57C2\"><h2 style=\"font-size:16px\">Hyperparameters:</h2></span>"
      ],
      "text/plain": [
       "<IPython.core.display.HTML object>"
      ]
     },
     "metadata": {},
     "output_type": "display_data"
    },
    {
     "data": {
      "text/html": [
       "<span style=\"color:cyan\"> |-hidden_units: 84</span>"
      ],
      "text/plain": [
       "<IPython.core.display.HTML object>"
      ]
     },
     "metadata": {},
     "output_type": "display_data"
    },
    {
     "data": {
      "text/html": [
       "<span style=\"color:blue\"> |-learning_rate: 0.0001</span>"
      ],
      "text/plain": [
       "<IPython.core.display.HTML object>"
      ]
     },
     "metadata": {},
     "output_type": "display_data"
    },
    {
     "data": {
      "text/html": [
       "<span style=\"color:cyan\"> |-tuner/bracket: 0</span>"
      ],
      "text/plain": [
       "<IPython.core.display.HTML object>"
      ]
     },
     "metadata": {},
     "output_type": "display_data"
    },
    {
     "data": {
      "text/html": [
       "<span style=\"color:blue\"> |-tuner/epochs: 50</span>"
      ],
      "text/plain": [
       "<IPython.core.display.HTML object>"
      ]
     },
     "metadata": {},
     "output_type": "display_data"
    },
    {
     "data": {
      "text/html": [
       "<span style=\"color:cyan\"> |-tuner/initial_epoch: 0</span>"
      ],
      "text/plain": [
       "<IPython.core.display.HTML object>"
      ]
     },
     "metadata": {},
     "output_type": "display_data"
    },
    {
     "data": {
      "text/html": [
       "<span style=\"color:blue\"> |-tuner/round: 0</span>"
      ],
      "text/plain": [
       "<IPython.core.display.HTML object>"
      ]
     },
     "metadata": {},
     "output_type": "display_data"
    },
    {
     "name": "stdout",
     "output_type": "stream",
     "text": [
      "INFO:tensorflow:Oracle triggered exit\n",
      "539.5976529121399\n"
     ]
    }
   ],
   "source": [
    "### SEARCHING FOR THE ANN LAYOUT THAT ACCOMPLISHES THE HYPERPARAMTER GOALS ###\n",
    "\n",
    "start_time = time.time()\n",
    "tuner.search(X_scale, Y_scale, validation_split=0.2, callbacks=[stop_early], verbose=2)\n",
    "searching_time = time.time() - start_time\n",
    "print(searching_time)"
   ]
  },
  {
   "cell_type": "code",
   "execution_count": 8,
   "metadata": {
    "scrolled": true
   },
   "outputs": [
    {
     "name": "stdout",
     "output_type": "stream",
     "text": [
      "\n",
      "The hyperparameter search is complete:\n",
      "- The optimal learning rate for the optimizer is \n",
      "0.001\n",
      "- The optimal number of nodes in the hidden layer is 78\n",
      "\n",
      "Train on 8000 samples, validate on 2000 samples\n",
      "Epoch 1/100\n",
      "8000/8000 - 1s - loss: 0.1388 - mean_squared_error: 0.1387 - mean_absolute_error: 0.3395 - val_loss: 0.0721 - val_mean_squared_error: 0.0720 - val_mean_absolute_error: 0.2381\n",
      "Epoch 2/100\n",
      "8000/8000 - 1s - loss: 0.0421 - mean_squared_error: 0.0419 - mean_absolute_error: 0.1749 - val_loss: 0.0219 - val_mean_squared_error: 0.0216 - val_mean_absolute_error: 0.1264\n",
      "Epoch 3/100\n",
      "8000/8000 - 1s - loss: 0.0130 - mean_squared_error: 0.0126 - mean_absolute_error: 0.0967 - val_loss: 0.0078 - val_mean_squared_error: 0.0074 - val_mean_absolute_error: 0.0754\n",
      "Epoch 4/100\n",
      "8000/8000 - 1s - loss: 0.0056 - mean_squared_error: 0.0052 - mean_absolute_error: 0.0632 - val_loss: 0.0043 - val_mean_squared_error: 0.0039 - val_mean_absolute_error: 0.0537\n",
      "Epoch 5/100\n",
      "8000/8000 - 1s - loss: 0.0034 - mean_squared_error: 0.0030 - mean_absolute_error: 0.0474 - val_loss: 0.0029 - val_mean_squared_error: 0.0024 - val_mean_absolute_error: 0.0420\n",
      "Epoch 6/100\n",
      "8000/8000 - 1s - loss: 0.0025 - mean_squared_error: 0.0020 - mean_absolute_error: 0.0381 - val_loss: 0.0022 - val_mean_squared_error: 0.0017 - val_mean_absolute_error: 0.0343\n",
      "Epoch 7/100\n",
      "8000/8000 - 1s - loss: 0.0020 - mean_squared_error: 0.0014 - mean_absolute_error: 0.0317 - val_loss: 0.0017 - val_mean_squared_error: 0.0012 - val_mean_absolute_error: 0.0287\n",
      "Epoch 8/100\n",
      "8000/8000 - 1s - loss: 0.0016 - mean_squared_error: 0.0011 - mean_absolute_error: 0.0270 - val_loss: 0.0015 - val_mean_squared_error: 8.9809e-04 - val_mean_absolute_error: 0.0246\n",
      "Epoch 9/100\n",
      "8000/8000 - 1s - loss: 0.0014 - mean_squared_error: 8.1218e-04 - mean_absolute_error: 0.0234 - val_loss: 0.0013 - val_mean_squared_error: 6.9562e-04 - val_mean_absolute_error: 0.0214\n",
      "Epoch 10/100\n",
      "8000/8000 - 1s - loss: 0.0013 - mean_squared_error: 6.3907e-04 - mean_absolute_error: 0.0205 - val_loss: 0.0012 - val_mean_squared_error: 5.5725e-04 - val_mean_absolute_error: 0.0187\n",
      "Epoch 11/100\n",
      "8000/8000 - 1s - loss: 0.0011 - mean_squared_error: 5.1377e-04 - mean_absolute_error: 0.0182 - val_loss: 0.0011 - val_mean_squared_error: 4.5258e-04 - val_mean_absolute_error: 0.0170\n",
      "Epoch 12/100\n",
      "8000/8000 - 1s - loss: 0.0011 - mean_squared_error: 4.2352e-04 - mean_absolute_error: 0.0163 - val_loss: 0.0010 - val_mean_squared_error: 3.7664e-04 - val_mean_absolute_error: 0.0150\n",
      "Epoch 13/100\n",
      "8000/8000 - 1s - loss: 0.0010 - mean_squared_error: 3.5825e-04 - mean_absolute_error: 0.0148 - val_loss: 0.0010 - val_mean_squared_error: 3.2405e-04 - val_mean_absolute_error: 0.0137\n",
      "Epoch 14/100\n",
      "8000/8000 - 1s - loss: 0.0010 - mean_squared_error: 3.1253e-04 - mean_absolute_error: 0.0137 - val_loss: 9.9081e-04 - val_mean_squared_error: 2.9585e-04 - val_mean_absolute_error: 0.0134\n",
      "Epoch 15/100\n",
      "8000/8000 - 1s - loss: 9.7966e-04 - mean_squared_error: 2.7831e-04 - mean_absolute_error: 0.0129 - val_loss: 9.6431e-04 - val_mean_squared_error: 2.5697e-04 - val_mean_absolute_error: 0.0123\n",
      "Epoch 16/100\n",
      "8000/8000 - 1s - loss: 9.6499e-04 - mean_squared_error: 2.5239e-04 - mean_absolute_error: 0.0122 - val_loss: 9.5337e-04 - val_mean_squared_error: 2.3562e-04 - val_mean_absolute_error: 0.0117\n",
      "Epoch 17/100\n",
      "8000/8000 - 1s - loss: 9.6001e-04 - mean_squared_error: 2.3801e-04 - mean_absolute_error: 0.0118 - val_loss: 9.4942e-04 - val_mean_squared_error: 2.2323e-04 - val_mean_absolute_error: 0.0111\n",
      "Epoch 18/100\n",
      "8000/8000 - 1s - loss: 9.5854e-04 - mean_squared_error: 2.2852e-04 - mean_absolute_error: 0.0115 - val_loss: 9.6090e-04 - val_mean_squared_error: 2.2772e-04 - val_mean_absolute_error: 0.0116\n",
      "Epoch 19/100\n",
      "8000/8000 - 1s - loss: 9.5318e-04 - mean_squared_error: 2.1744e-04 - mean_absolute_error: 0.0112 - val_loss: 9.3946e-04 - val_mean_squared_error: 2.0117e-04 - val_mean_absolute_error: 0.0107\n",
      "Epoch 20/100\n",
      "8000/8000 - 1s - loss: 9.4953e-04 - mean_squared_error: 2.0910e-04 - mean_absolute_error: 0.0110 - val_loss: 9.3747e-04 - val_mean_squared_error: 1.9538e-04 - val_mean_absolute_error: 0.0104\n",
      "Epoch 21/100\n",
      "8000/8000 - 1s - loss: 9.4568e-04 - mean_squared_error: 2.0176e-04 - mean_absolute_error: 0.0107 - val_loss: 9.3745e-04 - val_mean_squared_error: 1.9227e-04 - val_mean_absolute_error: 0.0104\n",
      "Epoch 22/100\n",
      "8000/8000 - 1s - loss: 9.5226e-04 - mean_squared_error: 2.0624e-04 - mean_absolute_error: 0.0109 - val_loss: 9.4048e-04 - val_mean_squared_error: 1.9373e-04 - val_mean_absolute_error: 0.0105\n",
      "Epoch 23/100\n",
      "8000/8000 - 1s - loss: 9.5422e-04 - mean_squared_error: 2.0742e-04 - mean_absolute_error: 0.0109 - val_loss: 9.3652e-04 - val_mean_squared_error: 1.8960e-04 - val_mean_absolute_error: 0.0102\n",
      "Epoch 24/100\n",
      "8000/8000 - 1s - loss: 9.4740e-04 - mean_squared_error: 1.9987e-04 - mean_absolute_error: 0.0107 - val_loss: 9.4220e-04 - val_mean_squared_error: 1.9403e-04 - val_mean_absolute_error: 0.0103\n",
      "Epoch 25/100\n",
      "8000/8000 - 1s - loss: 9.4711e-04 - mean_squared_error: 1.9936e-04 - mean_absolute_error: 0.0107 - val_loss: 9.3520e-04 - val_mean_squared_error: 1.8696e-04 - val_mean_absolute_error: 0.0101\n",
      "Epoch 26/100\n",
      "8000/8000 - 1s - loss: 9.4083e-04 - mean_squared_error: 1.9218e-04 - mean_absolute_error: 0.0104 - val_loss: 9.3500e-04 - val_mean_squared_error: 1.8645e-04 - val_mean_absolute_error: 0.0102\n",
      "Epoch 27/100\n",
      "8000/8000 - 1s - loss: 9.4835e-04 - mean_squared_error: 2.0024e-04 - mean_absolute_error: 0.0107 - val_loss: 9.3158e-04 - val_mean_squared_error: 1.8389e-04 - val_mean_absolute_error: 0.0101\n",
      "Epoch 28/100\n",
      "8000/8000 - 1s - loss: 9.4304e-04 - mean_squared_error: 1.9578e-04 - mean_absolute_error: 0.0105 - val_loss: 9.4059e-04 - val_mean_squared_error: 1.9332e-04 - val_mean_absolute_error: 0.0102\n",
      "Epoch 29/100\n",
      "8000/8000 - 1s - loss: 9.4069e-04 - mean_squared_error: 1.9342e-04 - mean_absolute_error: 0.0105 - val_loss: 9.4551e-04 - val_mean_squared_error: 1.9861e-04 - val_mean_absolute_error: 0.0104\n",
      "Epoch 30/100\n",
      "8000/8000 - 1s - loss: 9.4666e-04 - mean_squared_error: 2.0020e-04 - mean_absolute_error: 0.0107 - val_loss: 9.3167e-04 - val_mean_squared_error: 1.8532e-04 - val_mean_absolute_error: 0.0102\n",
      "Epoch 31/100\n",
      "8000/8000 - 1s - loss: 9.4533e-04 - mean_squared_error: 1.9902e-04 - mean_absolute_error: 0.0106 - val_loss: 9.3270e-04 - val_mean_squared_error: 1.8685e-04 - val_mean_absolute_error: 0.0102\n",
      "Epoch 32/100\n",
      "8000/8000 - 1s - loss: 9.4467e-04 - mean_squared_error: 1.9917e-04 - mean_absolute_error: 0.0106 - val_loss: 9.3426e-04 - val_mean_squared_error: 1.8893e-04 - val_mean_absolute_error: 0.0103\n",
      "Epoch 33/100\n",
      "8000/8000 - 1s - loss: 9.5378e-04 - mean_squared_error: 2.0949e-04 - mean_absolute_error: 0.0109 - val_loss: 9.3686e-04 - val_mean_squared_error: 1.9380e-04 - val_mean_absolute_error: 0.0104\n",
      "Epoch 34/100\n",
      "8000/8000 - 2s - loss: 9.4428e-04 - mean_squared_error: 2.0102e-04 - mean_absolute_error: 0.0107 - val_loss: 9.2842e-04 - val_mean_squared_error: 1.8500e-04 - val_mean_absolute_error: 0.0101\n",
      "Epoch 35/100\n",
      "8000/8000 - 1s - loss: 9.4133e-04 - mean_squared_error: 1.9827e-04 - mean_absolute_error: 0.0106 - val_loss: 9.3667e-04 - val_mean_squared_error: 1.9339e-04 - val_mean_absolute_error: 0.0103\n",
      "Epoch 36/100\n",
      "8000/8000 - 2s - loss: 9.3896e-04 - mean_squared_error: 1.9531e-04 - mean_absolute_error: 0.0105 - val_loss: 9.7522e-04 - val_mean_squared_error: 2.3202e-04 - val_mean_absolute_error: 0.0115\n",
      "Epoch 37/100\n",
      "8000/8000 - 1s - loss: 9.4062e-04 - mean_squared_error: 1.9758e-04 - mean_absolute_error: 0.0106 - val_loss: 9.2824e-04 - val_mean_squared_error: 1.8535e-04 - val_mean_absolute_error: 0.0101\n",
      "Epoch 38/100\n",
      "8000/8000 - 1s - loss: 9.4657e-04 - mean_squared_error: 2.0345e-04 - mean_absolute_error: 0.0107 - val_loss: 9.7578e-04 - val_mean_squared_error: 2.3442e-04 - val_mean_absolute_error: 0.0115\n",
      "Epoch 39/100\n",
      "8000/8000 - 1s - loss: 9.3778e-04 - mean_squared_error: 1.9639e-04 - mean_absolute_error: 0.0106 - val_loss: 9.3155e-04 - val_mean_squared_error: 1.8975e-04 - val_mean_absolute_error: 0.0101\n",
      "Epoch 40/100\n",
      "8000/8000 - 1s - loss: 9.3793e-04 - mean_squared_error: 1.9542e-04 - mean_absolute_error: 0.0105 - val_loss: 9.2950e-04 - val_mean_squared_error: 1.8720e-04 - val_mean_absolute_error: 0.0102\n",
      "Epoch 41/100\n",
      "8000/8000 - 1s - loss: 9.3962e-04 - mean_squared_error: 1.9742e-04 - mean_absolute_error: 0.0106 - val_loss: 9.5656e-04 - val_mean_squared_error: 2.1417e-04 - val_mean_absolute_error: 0.0111\n",
      "Epoch 42/100\n",
      "8000/8000 - 1s - loss: 9.4429e-04 - mean_squared_error: 2.0258e-04 - mean_absolute_error: 0.0107 - val_loss: 9.2746e-04 - val_mean_squared_error: 1.8603e-04 - val_mean_absolute_error: 0.0101\n",
      "Epoch 43/100\n",
      "8000/8000 - 1s - loss: 9.4235e-04 - mean_squared_error: 2.0101e-04 - mean_absolute_error: 0.0107 - val_loss: 9.3254e-04 - val_mean_squared_error: 1.9128e-04 - val_mean_absolute_error: 0.0104\n",
      "Epoch 44/100\n",
      "8000/8000 - 1s - loss: 9.3595e-04 - mean_squared_error: 1.9414e-04 - mean_absolute_error: 0.0105 - val_loss: 9.2862e-04 - val_mean_squared_error: 1.8680e-04 - val_mean_absolute_error: 0.0100\n",
      "Epoch 45/100\n",
      "8000/8000 - 1s - loss: 9.4129e-04 - mean_squared_error: 1.9987e-04 - mean_absolute_error: 0.0106 - val_loss: 9.2846e-04 - val_mean_squared_error: 1.8653e-04 - val_mean_absolute_error: 0.0101\n",
      "Epoch 46/100\n",
      "8000/8000 - 1s - loss: 9.3879e-04 - mean_squared_error: 1.9671e-04 - mean_absolute_error: 0.0105 - val_loss: 9.2827e-04 - val_mean_squared_error: 1.8643e-04 - val_mean_absolute_error: 0.0100\n",
      "Epoch 47/100\n",
      "8000/8000 - 1s - loss: 9.4105e-04 - mean_squared_error: 1.9981e-04 - mean_absolute_error: 0.0106 - val_loss: 9.3228e-04 - val_mean_squared_error: 1.9086e-04 - val_mean_absolute_error: 0.0102\n",
      "Epoch 48/100\n",
      "8000/8000 - 1s - loss: 9.3653e-04 - mean_squared_error: 1.9574e-04 - mean_absolute_error: 0.0105 - val_loss: 9.3706e-04 - val_mean_squared_error: 1.9591e-04 - val_mean_absolute_error: 0.0105\n",
      "Epoch 49/100\n",
      "8000/8000 - 1s - loss: 9.3689e-04 - mean_squared_error: 1.9516e-04 - mean_absolute_error: 0.0105 - val_loss: 9.2833e-04 - val_mean_squared_error: 1.8665e-04 - val_mean_absolute_error: 0.0102\n",
      "Epoch 50/100\n",
      "8000/8000 - 1s - loss: 9.3817e-04 - mean_squared_error: 1.9670e-04 - mean_absolute_error: 0.0106 - val_loss: 9.4765e-04 - val_mean_squared_error: 2.0699e-04 - val_mean_absolute_error: 0.0106\n",
      "Epoch 51/100\n",
      "8000/8000 - 1s - loss: 9.5155e-04 - mean_squared_error: 2.1099e-04 - mean_absolute_error: 0.0109 - val_loss: 9.3193e-04 - val_mean_squared_error: 1.9226e-04 - val_mean_absolute_error: 0.0104\n",
      "Epoch 52/100\n",
      "8000/8000 - 1s - loss: 9.4088e-04 - mean_squared_error: 2.0086e-04 - mean_absolute_error: 0.0107 - val_loss: 9.2488e-04 - val_mean_squared_error: 1.8420e-04 - val_mean_absolute_error: 0.0101\n",
      "Epoch 53/100\n",
      "8000/8000 - 1s - loss: 9.3499e-04 - mean_squared_error: 1.9421e-04 - mean_absolute_error: 0.0105 - val_loss: 9.2778e-04 - val_mean_squared_error: 1.8634e-04 - val_mean_absolute_error: 0.0102\n",
      "Epoch 54/100\n",
      "8000/8000 - 1s - loss: 9.4237e-04 - mean_squared_error: 2.0097e-04 - mean_absolute_error: 0.0107 - val_loss: 9.3175e-04 - val_mean_squared_error: 1.9030e-04 - val_mean_absolute_error: 0.0104\n",
      "Epoch 55/100\n",
      "8000/8000 - 1s - loss: 9.3752e-04 - mean_squared_error: 1.9618e-04 - mean_absolute_error: 0.0105 - val_loss: 9.3054e-04 - val_mean_squared_error: 1.8960e-04 - val_mean_absolute_error: 0.0102\n",
      "Epoch 56/100\n",
      "8000/8000 - 1s - loss: 9.3603e-04 - mean_squared_error: 1.9522e-04 - mean_absolute_error: 0.0105 - val_loss: 9.2531e-04 - val_mean_squared_error: 1.8493e-04 - val_mean_absolute_error: 0.0100\n",
      "Epoch 57/100\n",
      "8000/8000 - 1s - loss: 9.3438e-04 - mean_squared_error: 1.9345e-04 - mean_absolute_error: 0.0105 - val_loss: 9.2808e-04 - val_mean_squared_error: 1.8712e-04 - val_mean_absolute_error: 0.0103\n",
      "Epoch 58/100\n",
      "8000/8000 - 1s - loss: 9.3335e-04 - mean_squared_error: 1.9228e-04 - mean_absolute_error: 0.0104 - val_loss: 9.4685e-04 - val_mean_squared_error: 2.0505e-04 - val_mean_absolute_error: 0.0105\n",
      "Epoch 59/100\n",
      "8000/8000 - 1s - loss: 9.4615e-04 - mean_squared_error: 2.0461e-04 - mean_absolute_error: 0.0108 - val_loss: 9.2517e-04 - val_mean_squared_error: 1.8450e-04 - val_mean_absolute_error: 0.0101\n",
      "Epoch 60/100\n",
      "8000/8000 - 1s - loss: 9.3564e-04 - mean_squared_error: 1.9455e-04 - mean_absolute_error: 0.0105 - val_loss: 9.3791e-04 - val_mean_squared_error: 1.9671e-04 - val_mean_absolute_error: 0.0103\n",
      "Epoch 61/100\n",
      "8000/8000 - 1s - loss: 9.3692e-04 - mean_squared_error: 1.9548e-04 - mean_absolute_error: 0.0105 - val_loss: 9.2756e-04 - val_mean_squared_error: 1.8564e-04 - val_mean_absolute_error: 0.0102\n",
      "Epoch 62/100\n",
      "8000/8000 - 1s - loss: 9.3982e-04 - mean_squared_error: 1.9808e-04 - mean_absolute_error: 0.0106 - val_loss: 9.2495e-04 - val_mean_squared_error: 1.8356e-04 - val_mean_absolute_error: 0.0101\n",
      "Epoch 63/100\n",
      "8000/8000 - 1s - loss: 9.3553e-04 - mean_squared_error: 1.9430e-04 - mean_absolute_error: 0.0105 - val_loss: 9.3004e-04 - val_mean_squared_error: 1.8873e-04 - val_mean_absolute_error: 0.0101\n",
      "Epoch 64/100\n",
      "8000/8000 - 1s - loss: 9.3598e-04 - mean_squared_error: 1.9461e-04 - mean_absolute_error: 0.0105 - val_loss: 9.2751e-04 - val_mean_squared_error: 1.8589e-04 - val_mean_absolute_error: 0.0102\n",
      "Epoch 65/100\n",
      "8000/8000 - 1s - loss: 9.4587e-04 - mean_squared_error: 2.0483e-04 - mean_absolute_error: 0.0107 - val_loss: 9.2779e-04 - val_mean_squared_error: 1.8722e-04 - val_mean_absolute_error: 0.0102\n",
      "Epoch 66/100\n",
      "8000/8000 - 1s - loss: 9.3661e-04 - mean_squared_error: 1.9569e-04 - mean_absolute_error: 0.0105 - val_loss: 9.2488e-04 - val_mean_squared_error: 1.8325e-04 - val_mean_absolute_error: 0.0101\n",
      "Epoch 67/100\n",
      "8000/8000 - 1s - loss: 9.3905e-04 - mean_squared_error: 1.9757e-04 - mean_absolute_error: 0.0105 - val_loss: 9.5258e-04 - val_mean_squared_error: 2.1137e-04 - val_mean_absolute_error: 0.0107\n",
      "Epoch 68/100\n",
      "8000/8000 - 1s - loss: 9.4625e-04 - mean_squared_error: 2.0539e-04 - mean_absolute_error: 0.0108 - val_loss: 9.3242e-04 - val_mean_squared_error: 1.9168e-04 - val_mean_absolute_error: 0.0102\n",
      "Epoch 69/100\n",
      "8000/8000 - 1s - loss: 9.3893e-04 - mean_squared_error: 1.9773e-04 - mean_absolute_error: 0.0106 - val_loss: 9.2998e-04 - val_mean_squared_error: 1.8883e-04 - val_mean_absolute_error: 0.0102\n",
      "Epoch 70/100\n",
      "8000/8000 - 1s - loss: 9.3955e-04 - mean_squared_error: 1.9834e-04 - mean_absolute_error: 0.0106 - val_loss: 9.2818e-04 - val_mean_squared_error: 1.8695e-04 - val_mean_absolute_error: 0.0102\n",
      "Epoch 71/100\n",
      "8000/8000 - 1s - loss: 9.3972e-04 - mean_squared_error: 1.9809e-04 - mean_absolute_error: 0.0106 - val_loss: 9.3006e-04 - val_mean_squared_error: 1.8892e-04 - val_mean_absolute_error: 0.0103\n",
      "Epoch 72/100\n",
      "8000/8000 - 1s - loss: 9.4239e-04 - mean_squared_error: 2.0168e-04 - mean_absolute_error: 0.0107 - val_loss: 9.3587e-04 - val_mean_squared_error: 1.9484e-04 - val_mean_absolute_error: 0.0105\n",
      "Epoch 73/100\n",
      "8000/8000 - 1s - loss: 9.3758e-04 - mean_squared_error: 1.9638e-04 - mean_absolute_error: 0.0105 - val_loss: 9.6506e-04 - val_mean_squared_error: 2.2375e-04 - val_mean_absolute_error: 0.0113\n",
      "Epoch 74/100\n",
      "8000/8000 - 1s - loss: 9.3929e-04 - mean_squared_error: 1.9834e-04 - mean_absolute_error: 0.0106 - val_loss: 9.3746e-04 - val_mean_squared_error: 1.9644e-04 - val_mean_absolute_error: 0.0105\n",
      "Epoch 75/100\n",
      "8000/8000 - 1s - loss: 9.3484e-04 - mean_squared_error: 1.9288e-04 - mean_absolute_error: 0.0104 - val_loss: 9.2805e-04 - val_mean_squared_error: 1.8690e-04 - val_mean_absolute_error: 0.0101\n",
      "Epoch 76/100\n",
      "8000/8000 - 1s - loss: 9.4189e-04 - mean_squared_error: 2.0122e-04 - mean_absolute_error: 0.0107 - val_loss: 9.3716e-04 - val_mean_squared_error: 1.9659e-04 - val_mean_absolute_error: 0.0106\n",
      "Epoch 77/100\n",
      "8000/8000 - 1s - loss: 9.4334e-04 - mean_squared_error: 2.0204e-04 - mean_absolute_error: 0.0107 - val_loss: 9.3858e-04 - val_mean_squared_error: 1.9744e-04 - val_mean_absolute_error: 0.0103\n",
      "Epoch 78/100\n",
      "8000/8000 - 1s - loss: 9.4106e-04 - mean_squared_error: 1.9959e-04 - mean_absolute_error: 0.0106 - val_loss: 9.7391e-04 - val_mean_squared_error: 2.3244e-04 - val_mean_absolute_error: 0.0113\n",
      "Epoch 79/100\n",
      "8000/8000 - 1s - loss: 9.3457e-04 - mean_squared_error: 1.9350e-04 - mean_absolute_error: 0.0105 - val_loss: 9.4701e-04 - val_mean_squared_error: 2.0562e-04 - val_mean_absolute_error: 0.0105\n",
      "Epoch 80/100\n",
      "8000/8000 - 1s - loss: 9.3780e-04 - mean_squared_error: 1.9660e-04 - mean_absolute_error: 0.0105 - val_loss: 9.6271e-04 - val_mean_squared_error: 2.2070e-04 - val_mean_absolute_error: 0.0112\n",
      "Epoch 81/100\n",
      "8000/8000 - 1s - loss: 9.3587e-04 - mean_squared_error: 1.9361e-04 - mean_absolute_error: 0.0105 - val_loss: 9.2590e-04 - val_mean_squared_error: 1.8352e-04 - val_mean_absolute_error: 0.0100\n"
     ]
    },
    {
     "name": "stdout",
     "output_type": "stream",
     "text": [
      "Epoch 82/100\n",
      "8000/8000 - 1s - loss: 9.3546e-04 - mean_squared_error: 1.9243e-04 - mean_absolute_error: 0.0104 - val_loss: 9.3423e-04 - val_mean_squared_error: 1.9191e-04 - val_mean_absolute_error: 0.0102\n",
      "Epoch 83/100\n",
      "8000/8000 - 1s - loss: 9.4627e-04 - mean_squared_error: 2.0431e-04 - mean_absolute_error: 0.0107 - val_loss: 9.3023e-04 - val_mean_squared_error: 1.8915e-04 - val_mean_absolute_error: 0.0101\n",
      "Epoch 84/100\n",
      "8000/8000 - 1s - loss: 9.3438e-04 - mean_squared_error: 1.9259e-04 - mean_absolute_error: 0.0104 - val_loss: 9.5644e-04 - val_mean_squared_error: 2.1437e-04 - val_mean_absolute_error: 0.0111\n",
      "Epoch 85/100\n",
      "8000/8000 - 1s - loss: 9.5433e-04 - mean_squared_error: 2.1386e-04 - mean_absolute_error: 0.0109 - val_loss: 9.2565e-04 - val_mean_squared_error: 1.8485e-04 - val_mean_absolute_error: 0.0100\n",
      "Epoch 86/100\n",
      "8000/8000 - 1s - loss: 9.3534e-04 - mean_squared_error: 1.9489e-04 - mean_absolute_error: 0.0105 - val_loss: 9.2794e-04 - val_mean_squared_error: 1.8545e-04 - val_mean_absolute_error: 0.0101\n",
      "Epoch 87/100\n",
      "8000/8000 - 1s - loss: 9.3284e-04 - mean_squared_error: 1.9057e-04 - mean_absolute_error: 0.0104 - val_loss: 9.2474e-04 - val_mean_squared_error: 1.8266e-04 - val_mean_absolute_error: 0.0100\n",
      "Epoch 88/100\n",
      "8000/8000 - 1s - loss: 9.3405e-04 - mean_squared_error: 1.9202e-04 - mean_absolute_error: 0.0104 - val_loss: 9.2340e-04 - val_mean_squared_error: 1.8117e-04 - val_mean_absolute_error: 0.0100\n",
      "Epoch 89/100\n",
      "8000/8000 - 1s - loss: 9.3653e-04 - mean_squared_error: 1.9422e-04 - mean_absolute_error: 0.0105 - val_loss: 9.3978e-04 - val_mean_squared_error: 1.9722e-04 - val_mean_absolute_error: 0.0106\n",
      "Epoch 90/100\n",
      "8000/8000 - 1s - loss: 9.3493e-04 - mean_squared_error: 1.9205e-04 - mean_absolute_error: 0.0104 - val_loss: 9.2782e-04 - val_mean_squared_error: 1.8490e-04 - val_mean_absolute_error: 0.0101\n",
      "Epoch 91/100\n",
      "8000/8000 - 1s - loss: 9.3998e-04 - mean_squared_error: 1.9717e-04 - mean_absolute_error: 0.0105 - val_loss: 9.2556e-04 - val_mean_squared_error: 1.8331e-04 - val_mean_absolute_error: 0.0100\n",
      "Epoch 92/100\n",
      "8000/8000 - 1s - loss: 9.3449e-04 - mean_squared_error: 1.9224e-04 - mean_absolute_error: 0.0104 - val_loss: 9.2506e-04 - val_mean_squared_error: 1.8323e-04 - val_mean_absolute_error: 0.0101\n",
      "Epoch 93/100\n",
      "8000/8000 - 1s - loss: 9.3710e-04 - mean_squared_error: 1.9514e-04 - mean_absolute_error: 0.0105 - val_loss: 9.3356e-04 - val_mean_squared_error: 1.9192e-04 - val_mean_absolute_error: 0.0102\n",
      "Epoch 94/100\n",
      "8000/8000 - 1s - loss: 9.4028e-04 - mean_squared_error: 1.9858e-04 - mean_absolute_error: 0.0106 - val_loss: 9.2713e-04 - val_mean_squared_error: 1.8494e-04 - val_mean_absolute_error: 0.0101\n",
      "Epoch 95/100\n",
      "8000/8000 - 1s - loss: 9.3561e-04 - mean_squared_error: 1.9347e-04 - mean_absolute_error: 0.0104 - val_loss: 9.4123e-04 - val_mean_squared_error: 1.9895e-04 - val_mean_absolute_error: 0.0106\n",
      "Epoch 96/100\n",
      "8000/8000 - 1s - loss: 9.4992e-04 - mean_squared_error: 2.0863e-04 - mean_absolute_error: 0.0108 - val_loss: 9.3325e-04 - val_mean_squared_error: 1.9173e-04 - val_mean_absolute_error: 0.0102\n",
      "Epoch 97/100\n",
      "8000/8000 - 1s - loss: 9.3300e-04 - mean_squared_error: 1.9105e-04 - mean_absolute_error: 0.0104 - val_loss: 9.2737e-04 - val_mean_squared_error: 1.8468e-04 - val_mean_absolute_error: 0.0102\n",
      "Epoch 98/100\n",
      "8000/8000 - 1s - loss: 9.3677e-04 - mean_squared_error: 1.9457e-04 - mean_absolute_error: 0.0105 - val_loss: 9.3437e-04 - val_mean_squared_error: 1.9265e-04 - val_mean_absolute_error: 0.0102\n",
      "Epoch 99/100\n",
      "8000/8000 - 1s - loss: 9.3609e-04 - mean_squared_error: 1.9378e-04 - mean_absolute_error: 0.0105 - val_loss: 9.3010e-04 - val_mean_squared_error: 1.8812e-04 - val_mean_absolute_error: 0.0102\n",
      "Epoch 100/100\n",
      "8000/8000 - 1s - loss: 9.3400e-04 - mean_squared_error: 1.9176e-04 - mean_absolute_error: 0.0104 - val_loss: 9.2735e-04 - val_mean_squared_error: 1.8523e-04 - val_mean_absolute_error: 0.0101\n",
      "Best epoch: 87\n",
      "Train on 8000 samples, validate on 2000 samples\n",
      "Epoch 1/87\n",
      "8000/8000 - 1s - loss: 0.1366 - mean_squared_error: 0.1365 - mean_absolute_error: 0.3355 - val_loss: 0.0693 - val_mean_squared_error: 0.0691 - val_mean_absolute_error: 0.2323\n",
      "Epoch 2/87\n",
      "8000/8000 - 1s - loss: 0.0400 - mean_squared_error: 0.0398 - mean_absolute_error: 0.1704 - val_loss: 0.0203 - val_mean_squared_error: 0.0200 - val_mean_absolute_error: 0.1217\n",
      "Epoch 3/87\n",
      "8000/8000 - 1s - loss: 0.0120 - mean_squared_error: 0.0117 - mean_absolute_error: 0.0935 - val_loss: 0.0072 - val_mean_squared_error: 0.0068 - val_mean_absolute_error: 0.0730\n",
      "Epoch 4/87\n",
      "8000/8000 - 1s - loss: 0.0053 - mean_squared_error: 0.0049 - mean_absolute_error: 0.0616 - val_loss: 0.0041 - val_mean_squared_error: 0.0037 - val_mean_absolute_error: 0.0524\n",
      "Epoch 5/87\n",
      "8000/8000 - 1s - loss: 0.0033 - mean_squared_error: 0.0029 - mean_absolute_error: 0.0465 - val_loss: 0.0028 - val_mean_squared_error: 0.0023 - val_mean_absolute_error: 0.0413\n",
      "Epoch 6/87\n",
      "8000/8000 - 1s - loss: 0.0024 - mean_squared_error: 0.0019 - mean_absolute_error: 0.0376 - val_loss: 0.0021 - val_mean_squared_error: 0.0016 - val_mean_absolute_error: 0.0337\n",
      "Epoch 7/87\n",
      "8000/8000 - 1s - loss: 0.0019 - mean_squared_error: 0.0014 - mean_absolute_error: 0.0313 - val_loss: 0.0017 - val_mean_squared_error: 0.0012 - val_mean_absolute_error: 0.0283\n",
      "Epoch 8/87\n",
      "8000/8000 - 1s - loss: 0.0016 - mean_squared_error: 0.0010 - mean_absolute_error: 0.0266 - val_loss: 0.0015 - val_mean_squared_error: 8.7520e-04 - val_mean_absolute_error: 0.0242\n",
      "Epoch 9/87\n",
      "8000/8000 - 1s - loss: 0.0014 - mean_squared_error: 7.9339e-04 - mean_absolute_error: 0.0231 - val_loss: 0.0013 - val_mean_squared_error: 6.8032e-04 - val_mean_absolute_error: 0.0212\n",
      "Epoch 10/87\n",
      "8000/8000 - 1s - loss: 0.0012 - mean_squared_error: 6.2513e-04 - mean_absolute_error: 0.0202 - val_loss: 0.0012 - val_mean_squared_error: 5.4302e-04 - val_mean_absolute_error: 0.0185\n",
      "Epoch 11/87\n",
      "8000/8000 - 1s - loss: 0.0011 - mean_squared_error: 5.0311e-04 - mean_absolute_error: 0.0180 - val_loss: 0.0011 - val_mean_squared_error: 4.4310e-04 - val_mean_absolute_error: 0.0168\n",
      "Epoch 12/87\n",
      "8000/8000 - 1s - loss: 0.0011 - mean_squared_error: 4.1575e-04 - mean_absolute_error: 0.0162 - val_loss: 0.0010 - val_mean_squared_error: 3.6769e-04 - val_mean_absolute_error: 0.0148\n",
      "Epoch 13/87\n",
      "8000/8000 - 1s - loss: 0.0010 - mean_squared_error: 3.5248e-04 - mean_absolute_error: 0.0147 - val_loss: 0.0010 - val_mean_squared_error: 3.1878e-04 - val_mean_absolute_error: 0.0136\n",
      "Epoch 14/87\n",
      "8000/8000 - 1s - loss: 0.0010 - mean_squared_error: 3.0890e-04 - mean_absolute_error: 0.0137 - val_loss: 9.9015e-04 - val_mean_squared_error: 2.9013e-04 - val_mean_absolute_error: 0.0133\n",
      "Epoch 15/87\n",
      "8000/8000 - 1s - loss: 9.8167e-04 - mean_squared_error: 2.7538e-04 - mean_absolute_error: 0.0128 - val_loss: 9.6577e-04 - val_mean_squared_error: 2.5363e-04 - val_mean_absolute_error: 0.0122\n",
      "Epoch 16/87\n",
      "8000/8000 - 1s - loss: 9.6786e-04 - mean_squared_error: 2.5059e-04 - mean_absolute_error: 0.0121 - val_loss: 9.5752e-04 - val_mean_squared_error: 2.3522e-04 - val_mean_absolute_error: 0.0117\n",
      "Epoch 17/87\n",
      "8000/8000 - 1s - loss: 9.6384e-04 - mean_squared_error: 2.3746e-04 - mean_absolute_error: 0.0118 - val_loss: 9.5386e-04 - val_mean_squared_error: 2.2346e-04 - val_mean_absolute_error: 0.0111\n",
      "Epoch 18/87\n",
      "8000/8000 - 1s - loss: 9.6055e-04 - mean_squared_error: 2.2646e-04 - mean_absolute_error: 0.0115 - val_loss: 9.5914e-04 - val_mean_squared_error: 2.2208e-04 - val_mean_absolute_error: 0.0115\n",
      "Epoch 19/87\n",
      "8000/8000 - 1s - loss: 9.5525e-04 - mean_squared_error: 2.1570e-04 - mean_absolute_error: 0.0112 - val_loss: 9.4377e-04 - val_mean_squared_error: 2.0181e-04 - val_mean_absolute_error: 0.0107\n",
      "Epoch 20/87\n",
      "8000/8000 - 1s - loss: 9.5251e-04 - mean_squared_error: 2.0858e-04 - mean_absolute_error: 0.0110 - val_loss: 9.4066e-04 - val_mean_squared_error: 1.9521e-04 - val_mean_absolute_error: 0.0105\n",
      "Epoch 21/87\n",
      "8000/8000 - 1s - loss: 9.4972e-04 - mean_squared_error: 2.0263e-04 - mean_absolute_error: 0.0108 - val_loss: 9.4257e-04 - val_mean_squared_error: 1.9443e-04 - val_mean_absolute_error: 0.0105\n",
      "Epoch 22/87\n",
      "8000/8000 - 1s - loss: 9.5372e-04 - mean_squared_error: 2.0486e-04 - mean_absolute_error: 0.0108 - val_loss: 9.4092e-04 - val_mean_squared_error: 1.9145e-04 - val_mean_absolute_error: 0.0103\n"
     ]
    },
    {
     "name": "stdout",
     "output_type": "stream",
     "text": [
      "Epoch 23/87\n",
      "8000/8000 - 1s - loss: 9.5038e-04 - mean_squared_error: 2.0083e-04 - mean_absolute_error: 0.0107 - val_loss: 9.4048e-04 - val_mean_squared_error: 1.9060e-04 - val_mean_absolute_error: 0.0102\n",
      "Epoch 24/87\n",
      "8000/8000 - 1s - loss: 9.5390e-04 - mean_squared_error: 2.0372e-04 - mean_absolute_error: 0.0107 - val_loss: 9.6354e-04 - val_mean_squared_error: 2.1310e-04 - val_mean_absolute_error: 0.0108\n",
      "Epoch 25/87\n",
      "8000/8000 - 1s - loss: 9.5409e-04 - mean_squared_error: 2.0459e-04 - mean_absolute_error: 0.0108 - val_loss: 9.3734e-04 - val_mean_squared_error: 1.8757e-04 - val_mean_absolute_error: 0.0101\n",
      "Epoch 26/87\n",
      "8000/8000 - 1s - loss: 9.4336e-04 - mean_squared_error: 1.9324e-04 - mean_absolute_error: 0.0105 - val_loss: 9.3918e-04 - val_mean_squared_error: 1.8928e-04 - val_mean_absolute_error: 0.0103\n",
      "Epoch 27/87\n",
      "8000/8000 - 1s - loss: 9.5200e-04 - mean_squared_error: 2.0270e-04 - mean_absolute_error: 0.0107 - val_loss: 9.3340e-04 - val_mean_squared_error: 1.8466e-04 - val_mean_absolute_error: 0.0101\n",
      "Epoch 28/87\n",
      "8000/8000 - 1s - loss: 9.4476e-04 - mean_squared_error: 1.9650e-04 - mean_absolute_error: 0.0106 - val_loss: 9.4067e-04 - val_mean_squared_error: 1.9242e-04 - val_mean_absolute_error: 0.0102\n",
      "Epoch 29/87\n",
      "8000/8000 - 1s - loss: 9.4252e-04 - mean_squared_error: 1.9439e-04 - mean_absolute_error: 0.0105 - val_loss: 9.4390e-04 - val_mean_squared_error: 1.9625e-04 - val_mean_absolute_error: 0.0103\n",
      "Epoch 30/87\n",
      "8000/8000 - 1s - loss: 9.4910e-04 - mean_squared_error: 2.0193e-04 - mean_absolute_error: 0.0107 - val_loss: 9.3183e-04 - val_mean_squared_error: 1.8474e-04 - val_mean_absolute_error: 0.0101\n",
      "Epoch 31/87\n",
      "8000/8000 - 1s - loss: 9.4740e-04 - mean_squared_error: 2.0049e-04 - mean_absolute_error: 0.0107 - val_loss: 9.3375e-04 - val_mean_squared_error: 1.8739e-04 - val_mean_absolute_error: 0.0102\n",
      "Epoch 32/87\n",
      "8000/8000 - 1s - loss: 9.4610e-04 - mean_squared_error: 2.0010e-04 - mean_absolute_error: 0.0106 - val_loss: 9.3661e-04 - val_mean_squared_error: 1.9084e-04 - val_mean_absolute_error: 0.0104\n",
      "Epoch 33/87\n",
      "8000/8000 - 1s - loss: 9.5356e-04 - mean_squared_error: 2.0874e-04 - mean_absolute_error: 0.0109 - val_loss: 9.3972e-04 - val_mean_squared_error: 1.9615e-04 - val_mean_absolute_error: 0.0105\n",
      "Epoch 34/87\n",
      "8000/8000 - 1s - loss: 9.4703e-04 - mean_squared_error: 2.0340e-04 - mean_absolute_error: 0.0108 - val_loss: 9.2923e-04 - val_mean_squared_error: 1.8557e-04 - val_mean_absolute_error: 0.0101\n",
      "Epoch 35/87\n",
      "8000/8000 - 1s - loss: 9.4355e-04 - mean_squared_error: 2.0029e-04 - mean_absolute_error: 0.0107 - val_loss: 9.4059e-04 - val_mean_squared_error: 1.9711e-04 - val_mean_absolute_error: 0.0104\n",
      "Epoch 36/87\n",
      "8000/8000 - 1s - loss: 9.3987e-04 - mean_squared_error: 1.9608e-04 - mean_absolute_error: 0.0106 - val_loss: 9.7732e-04 - val_mean_squared_error: 2.3397e-04 - val_mean_absolute_error: 0.0116\n",
      "Epoch 37/87\n",
      "8000/8000 - 1s - loss: 9.4156e-04 - mean_squared_error: 1.9839e-04 - mean_absolute_error: 0.0106 - val_loss: 9.2854e-04 - val_mean_squared_error: 1.8554e-04 - val_mean_absolute_error: 0.0101\n",
      "Epoch 38/87\n",
      "8000/8000 - 1s - loss: 9.4721e-04 - mean_squared_error: 2.0403e-04 - mean_absolute_error: 0.0107 - val_loss: 9.7191e-04 - val_mean_squared_error: 2.3057e-04 - val_mean_absolute_error: 0.0115\n",
      "Epoch 39/87\n",
      "8000/8000 - 1s - loss: 9.3811e-04 - mean_squared_error: 1.9664e-04 - mean_absolute_error: 0.0106 - val_loss: 9.3281e-04 - val_mean_squared_error: 1.9082e-04 - val_mean_absolute_error: 0.0102\n",
      "Epoch 40/87\n",
      "8000/8000 - 1s - loss: 9.3910e-04 - mean_squared_error: 1.9650e-04 - mean_absolute_error: 0.0106 - val_loss: 9.3137e-04 - val_mean_squared_error: 1.8906e-04 - val_mean_absolute_error: 0.0102\n",
      "Epoch 41/87\n",
      "8000/8000 - 1s - loss: 9.4095e-04 - mean_squared_error: 1.9877e-04 - mean_absolute_error: 0.0106 - val_loss: 9.5766e-04 - val_mean_squared_error: 2.1536e-04 - val_mean_absolute_error: 0.0111\n",
      "Epoch 42/87\n",
      "8000/8000 - 1s - loss: 9.4559e-04 - mean_squared_error: 2.0397e-04 - mean_absolute_error: 0.0108 - val_loss: 9.2872e-04 - val_mean_squared_error: 1.8743e-04 - val_mean_absolute_error: 0.0101\n",
      "Epoch 43/87\n",
      "8000/8000 - 1s - loss: 9.4351e-04 - mean_squared_error: 2.0232e-04 - mean_absolute_error: 0.0107 - val_loss: 9.3287e-04 - val_mean_squared_error: 1.9180e-04 - val_mean_absolute_error: 0.0104\n",
      "Epoch 44/87\n",
      "8000/8000 - 1s - loss: 9.3653e-04 - mean_squared_error: 1.9485e-04 - mean_absolute_error: 0.0105 - val_loss: 9.2812e-04 - val_mean_squared_error: 1.8650e-04 - val_mean_absolute_error: 0.0100\n",
      "Epoch 45/87\n",
      "8000/8000 - 1s - loss: 9.4125e-04 - mean_squared_error: 1.9995e-04 - mean_absolute_error: 0.0106 - val_loss: 9.2839e-04 - val_mean_squared_error: 1.8655e-04 - val_mean_absolute_error: 0.0101\n",
      "Epoch 46/87\n",
      "8000/8000 - 1s - loss: 9.4009e-04 - mean_squared_error: 1.9813e-04 - mean_absolute_error: 0.0106 - val_loss: 9.2911e-04 - val_mean_squared_error: 1.8747e-04 - val_mean_absolute_error: 0.0101\n",
      "Epoch 47/87\n",
      "8000/8000 - 1s - loss: 9.4186e-04 - mean_squared_error: 2.0082e-04 - mean_absolute_error: 0.0107 - val_loss: 9.3331e-04 - val_mean_squared_error: 1.9211e-04 - val_mean_absolute_error: 0.0102\n",
      "Epoch 48/87\n",
      "8000/8000 - 1s - loss: 9.3724e-04 - mean_squared_error: 1.9667e-04 - mean_absolute_error: 0.0106 - val_loss: 9.3723e-04 - val_mean_squared_error: 1.9627e-04 - val_mean_absolute_error: 0.0105\n",
      "Epoch 49/87\n",
      "8000/8000 - 1s - loss: 9.3699e-04 - mean_squared_error: 1.9543e-04 - mean_absolute_error: 0.0105 - val_loss: 9.2839e-04 - val_mean_squared_error: 1.8689e-04 - val_mean_absolute_error: 0.0102\n",
      "Epoch 50/87\n",
      "8000/8000 - 1s - loss: 9.3945e-04 - mean_squared_error: 1.9817e-04 - mean_absolute_error: 0.0106 - val_loss: 9.5102e-04 - val_mean_squared_error: 2.1063e-04 - val_mean_absolute_error: 0.0107\n",
      "Epoch 51/87\n",
      "8000/8000 - 1s - loss: 9.5183e-04 - mean_squared_error: 2.1149e-04 - mean_absolute_error: 0.0109 - val_loss: 9.3083e-04 - val_mean_squared_error: 1.9138e-04 - val_mean_absolute_error: 0.0104\n",
      "Epoch 52/87\n",
      "8000/8000 - 1s - loss: 9.4129e-04 - mean_squared_error: 2.0145e-04 - mean_absolute_error: 0.0107 - val_loss: 9.2477e-04 - val_mean_squared_error: 1.8427e-04 - val_mean_absolute_error: 0.0101\n",
      "Epoch 53/87\n",
      "8000/8000 - 1s - loss: 9.3589e-04 - mean_squared_error: 1.9535e-04 - mean_absolute_error: 0.0105 - val_loss: 9.2747e-04 - val_mean_squared_error: 1.8631e-04 - val_mean_absolute_error: 0.0102\n",
      "Epoch 54/87\n",
      "8000/8000 - 1s - loss: 9.4232e-04 - mean_squared_error: 2.0115e-04 - mean_absolute_error: 0.0107 - val_loss: 9.3138e-04 - val_mean_squared_error: 1.9012e-04 - val_mean_absolute_error: 0.0103\n",
      "Epoch 55/87\n",
      "8000/8000 - 1s - loss: 9.3788e-04 - mean_squared_error: 1.9673e-04 - mean_absolute_error: 0.0106 - val_loss: 9.3154e-04 - val_mean_squared_error: 1.9084e-04 - val_mean_absolute_error: 0.0103\n",
      "Epoch 56/87\n",
      "8000/8000 - 1s - loss: 9.3685e-04 - mean_squared_error: 1.9631e-04 - mean_absolute_error: 0.0105 - val_loss: 9.2524e-04 - val_mean_squared_error: 1.8517e-04 - val_mean_absolute_error: 0.0100\n",
      "Epoch 57/87\n",
      "8000/8000 - 1s - loss: 9.3450e-04 - mean_squared_error: 1.9383e-04 - mean_absolute_error: 0.0105 - val_loss: 9.2780e-04 - val_mean_squared_error: 1.8705e-04 - val_mean_absolute_error: 0.0103\n",
      "Epoch 58/87\n",
      "8000/8000 - 1s - loss: 9.3371e-04 - mean_squared_error: 1.9289e-04 - mean_absolute_error: 0.0104 - val_loss: 9.4569e-04 - val_mean_squared_error: 2.0418e-04 - val_mean_absolute_error: 0.0105\n",
      "Epoch 59/87\n",
      "8000/8000 - 1s - loss: 9.4671e-04 - mean_squared_error: 2.0538e-04 - mean_absolute_error: 0.0108 - val_loss: 9.2569e-04 - val_mean_squared_error: 1.8523e-04 - val_mean_absolute_error: 0.0101\n",
      "Epoch 60/87\n",
      "8000/8000 - 1s - loss: 9.3544e-04 - mean_squared_error: 1.9456e-04 - mean_absolute_error: 0.0105 - val_loss: 9.3907e-04 - val_mean_squared_error: 1.9807e-04 - val_mean_absolute_error: 0.0103\n",
      "Epoch 61/87\n",
      "8000/8000 - 1s - loss: 9.3799e-04 - mean_squared_error: 1.9676e-04 - mean_absolute_error: 0.0105 - val_loss: 9.2707e-04 - val_mean_squared_error: 1.8534e-04 - val_mean_absolute_error: 0.0102\n",
      "Epoch 62/87\n",
      "8000/8000 - 1s - loss: 9.3956e-04 - mean_squared_error: 1.9801e-04 - mean_absolute_error: 0.0106 - val_loss: 9.2510e-04 - val_mean_squared_error: 1.8390e-04 - val_mean_absolute_error: 0.0101\n",
      "Epoch 63/87\n",
      "8000/8000 - 1s - loss: 9.3563e-04 - mean_squared_error: 1.9465e-04 - mean_absolute_error: 0.0105 - val_loss: 9.3062e-04 - val_mean_squared_error: 1.8957e-04 - val_mean_absolute_error: 0.0102\n"
     ]
    },
    {
     "name": "stdout",
     "output_type": "stream",
     "text": [
      "Epoch 64/87\n",
      "8000/8000 - 1s - loss: 9.3632e-04 - mean_squared_error: 1.9519e-04 - mean_absolute_error: 0.0105 - val_loss: 9.2701e-04 - val_mean_squared_error: 1.8566e-04 - val_mean_absolute_error: 0.0102\n",
      "Epoch 65/87\n",
      "8000/8000 - 1s - loss: 9.4615e-04 - mean_squared_error: 2.0538e-04 - mean_absolute_error: 0.0108 - val_loss: 9.2796e-04 - val_mean_squared_error: 1.8771e-04 - val_mean_absolute_error: 0.0102\n",
      "Epoch 66/87\n",
      "8000/8000 - 1s - loss: 9.3700e-04 - mean_squared_error: 1.9631e-04 - mean_absolute_error: 0.0105 - val_loss: 9.2514e-04 - val_mean_squared_error: 1.8377e-04 - val_mean_absolute_error: 0.0101\n",
      "Epoch 67/87\n",
      "8000/8000 - 1s - loss: 9.3961e-04 - mean_squared_error: 1.9838e-04 - mean_absolute_error: 0.0106 - val_loss: 9.5405e-04 - val_mean_squared_error: 2.1309e-04 - val_mean_absolute_error: 0.0108\n",
      "Epoch 68/87\n",
      "8000/8000 - 1s - loss: 9.4686e-04 - mean_squared_error: 2.0620e-04 - mean_absolute_error: 0.0108 - val_loss: 9.3408e-04 - val_mean_squared_error: 1.9357e-04 - val_mean_absolute_error: 0.0102\n",
      "Epoch 69/87\n",
      "8000/8000 - 1s - loss: 9.3883e-04 - mean_squared_error: 1.9783e-04 - mean_absolute_error: 0.0106 - val_loss: 9.3058e-04 - val_mean_squared_error: 1.8955e-04 - val_mean_absolute_error: 0.0103\n",
      "Epoch 70/87\n",
      "8000/8000 - 1s - loss: 9.3989e-04 - mean_squared_error: 1.9887e-04 - mean_absolute_error: 0.0106 - val_loss: 9.2797e-04 - val_mean_squared_error: 1.8701e-04 - val_mean_absolute_error: 0.0102\n",
      "Epoch 71/87\n",
      "8000/8000 - 1s - loss: 9.3964e-04 - mean_squared_error: 1.9823e-04 - mean_absolute_error: 0.0106 - val_loss: 9.2931e-04 - val_mean_squared_error: 1.8836e-04 - val_mean_absolute_error: 0.0103\n",
      "Epoch 72/87\n",
      "8000/8000 - 1s - loss: 9.4252e-04 - mean_squared_error: 2.0198e-04 - mean_absolute_error: 0.0107 - val_loss: 9.3440e-04 - val_mean_squared_error: 1.9363e-04 - val_mean_absolute_error: 0.0104\n",
      "Epoch 73/87\n",
      "8000/8000 - 1s - loss: 9.3750e-04 - mean_squared_error: 1.9646e-04 - mean_absolute_error: 0.0105 - val_loss: 9.6928e-04 - val_mean_squared_error: 2.2807e-04 - val_mean_absolute_error: 0.0114\n",
      "Epoch 74/87\n",
      "8000/8000 - 1s - loss: 9.3992e-04 - mean_squared_error: 1.9919e-04 - mean_absolute_error: 0.0106 - val_loss: 9.3764e-04 - val_mean_squared_error: 1.9690e-04 - val_mean_absolute_error: 0.0105\n",
      "Epoch 75/87\n",
      "8000/8000 - 1s - loss: 9.3478e-04 - mean_squared_error: 1.9306e-04 - mean_absolute_error: 0.0104 - val_loss: 9.2784e-04 - val_mean_squared_error: 1.8693e-04 - val_mean_absolute_error: 0.0101\n",
      "Epoch 76/87\n",
      "8000/8000 - 1s - loss: 9.4218e-04 - mean_squared_error: 2.0169e-04 - mean_absolute_error: 0.0107 - val_loss: 9.3699e-04 - val_mean_squared_error: 1.9657e-04 - val_mean_absolute_error: 0.0106\n",
      "Epoch 77/87\n",
      "8000/8000 - 1s - loss: 9.4162e-04 - mean_squared_error: 2.0046e-04 - mean_absolute_error: 0.0106 - val_loss: 9.3201e-04 - val_mean_squared_error: 1.9090e-04 - val_mean_absolute_error: 0.0102\n",
      "Epoch 78/87\n",
      "8000/8000 - 1s - loss: 9.4112e-04 - mean_squared_error: 1.9961e-04 - mean_absolute_error: 0.0106 - val_loss: 9.7617e-04 - val_mean_squared_error: 2.3478e-04 - val_mean_absolute_error: 0.0113\n",
      "Epoch 79/87\n",
      "8000/8000 - 1s - loss: 9.3511e-04 - mean_squared_error: 1.9413e-04 - mean_absolute_error: 0.0105 - val_loss: 9.4591e-04 - val_mean_squared_error: 2.0470e-04 - val_mean_absolute_error: 0.0105\n",
      "Epoch 80/87\n",
      "8000/8000 - 1s - loss: 9.3844e-04 - mean_squared_error: 1.9741e-04 - mean_absolute_error: 0.0106 - val_loss: 9.6354e-04 - val_mean_squared_error: 2.2170e-04 - val_mean_absolute_error: 0.0113\n",
      "Epoch 81/87\n",
      "8000/8000 - 1s - loss: 9.3612e-04 - mean_squared_error: 1.9405e-04 - mean_absolute_error: 0.0105 - val_loss: 9.2729e-04 - val_mean_squared_error: 1.8508e-04 - val_mean_absolute_error: 0.0100\n",
      "Epoch 82/87\n",
      "8000/8000 - 1s - loss: 9.3525e-04 - mean_squared_error: 1.9236e-04 - mean_absolute_error: 0.0104 - val_loss: 9.3189e-04 - val_mean_squared_error: 1.8968e-04 - val_mean_absolute_error: 0.0101\n",
      "Epoch 83/87\n",
      "8000/8000 - 1s - loss: 9.4657e-04 - mean_squared_error: 2.0475e-04 - mean_absolute_error: 0.0107 - val_loss: 9.2959e-04 - val_mean_squared_error: 1.8866e-04 - val_mean_absolute_error: 0.0101\n",
      "Epoch 84/87\n",
      "8000/8000 - 1s - loss: 9.3475e-04 - mean_squared_error: 1.9312e-04 - mean_absolute_error: 0.0104 - val_loss: 9.5733e-04 - val_mean_squared_error: 2.1540e-04 - val_mean_absolute_error: 0.0112\n",
      "Epoch 85/87\n",
      "8000/8000 - 1s - loss: 9.5737e-04 - mean_squared_error: 2.1716e-04 - mean_absolute_error: 0.0110 - val_loss: 9.2606e-04 - val_mean_squared_error: 1.8551e-04 - val_mean_absolute_error: 0.0100\n",
      "Epoch 86/87\n",
      "8000/8000 - 1s - loss: 9.3501e-04 - mean_squared_error: 1.9474e-04 - mean_absolute_error: 0.0105 - val_loss: 9.2688e-04 - val_mean_squared_error: 1.8459e-04 - val_mean_absolute_error: 0.0101\n",
      "Epoch 87/87\n",
      "8000/8000 - 1s - loss: 9.3262e-04 - mean_squared_error: 1.9051e-04 - mean_absolute_error: 0.0104 - val_loss: 9.2447e-04 - val_mean_squared_error: 1.8250e-04 - val_mean_absolute_error: 0.0100\n"
     ]
    }
   ],
   "source": [
    "# Build the model with the optimal hyperparameters and train it on the data for 25 epochs\n",
    "best_hps=tuner.get_best_hyperparameters(num_trials=1)[0]\n",
    "print(f\"\"\"\n",
    "The hyperparameter search is complete:\\n- The optimal learning rate for the optimizer is \n",
    "{best_hps.get('learning_rate')}\\n- The optimal number of nodes in the hidden layer is {best_hps.get('hidden_units')}\n",
    "\"\"\")\n",
    "model = tuner.hypermodel.build(best_hps)\n",
    "history = model.fit(X_scale, Y_scale, epochs=100, shuffle=True, validation_split=0.2, verbose=2)\n",
    "\n",
    "mean_squared_error_per_epoch = history.history['mean_squared_error']\n",
    "best_epoch = mean_squared_error_per_epoch.index(min(mean_squared_error_per_epoch)) + 1\n",
    "print('Best epoch: %d' % (best_epoch,))\n",
    "hypermodel = tuner.hypermodel.build(best_hps)\n",
    "\n",
    "# Retrain the model\n",
    "hypermodel_hist = hypermodel.fit(X_scale, Y_scale, epochs=best_epoch, shuffle=True, validation_split=0.2, verbose=2)"
   ]
  },
  {
   "cell_type": "code",
   "execution_count": 9,
   "metadata": {},
   "outputs": [
    {
     "name": "stdout",
     "output_type": "stream",
     "text": [
      "- hidden_units: 78\n",
      "- learning_rate: 0.001\n",
      "- tuner/epochs: 50\n",
      "- tuner/initial_epoch: 0\n",
      "- tuner/bracket: 0\n",
      "- tuner/round: 0\n"
     ]
    }
   ],
   "source": [
    "# List the tuned hyperparameter values\n",
    "# best_hps.__dict__.keys()\n",
    "for key, value in best_hps.__dict__['values'].items():\n",
    "    print(f'- {key}: {value}')"
   ]
  },
  {
   "cell_type": "code",
   "execution_count": 10,
   "metadata": {},
   "outputs": [
    {
     "name": "stdout",
     "output_type": "stream",
     "text": [
      "['loss', 'mean_squared_error', 'mean_absolute_error']\n",
      "MSE test: 0.00018996083235833794\n"
     ]
    }
   ],
   "source": [
    "file_path = '/Users/jackkelly/Desktop/Building_Model/Data_NEW/10000_initial_data_testing.csv'\n",
    "X_test, Y_test = processing_data(N_channels, file_path)\n",
    "eval_result = hypermodel.evaluate(X_test, Y_test, verbose=0)[1]\n",
    "print(hypermodel.metrics_names)\n",
    "print(f'MSE test: {eval_result}')"
   ]
  },
  {
   "cell_type": "code",
   "execution_count": 11,
   "metadata": {},
   "outputs": [
    {
     "name": "stderr",
     "output_type": "stream",
     "text": [
      "/opt/anaconda3/envs/project/lib/python3.6/site-packages/ipykernel_launcher.py:10: UserWarning: Matplotlib is currently using agg, which is a non-GUI backend, so cannot show the figure.\n",
      "  # Remove the CWD from sys.path while we load stuff.\n",
      "/opt/anaconda3/envs/project/lib/python3.6/site-packages/ipykernel_launcher.py:20: UserWarning: Matplotlib is currently using agg, which is a non-GUI backend, so cannot show the figure.\n"
     ]
    }
   ],
   "source": [
    "def visualising_data_MSE(hist, name):\n",
    "#     MSE\n",
    "    plt.title('Mean squared error vs. the number of epochs')\n",
    "    plt.plot(hist.history['mean_squared_error'], label='Train')\n",
    "    plt.plot(hist.history['val_mean_squared_error'], label='Validation')\n",
    "    plt.ylabel('MSE')\n",
    "    plt.xlabel('Epoch')\n",
    "    plt.legend()\n",
    "    plt.savefig(name, bbox_inches='tight', format='svg', dpi=1200)\n",
    "    plt.show()\n",
    "\n",
    "def visualising_data_MAE(hist, name):\n",
    "    plt.title('Mean absolute error vs. the number of epochs')\n",
    "    plt.plot(hist.history['mean_absolute_error'], label='Train')\n",
    "    plt.plot(hist.history['val_mean_absolute_error'], label='Validation')\n",
    "    plt.ylabel('MAE')\n",
    "    plt.xlabel('Epoch')\n",
    "    plt.legend()\n",
    "    plt.savefig(name, bbox_inches='tight', format='svg', dpi=1200)\n",
    "    plt.show()\n",
    "    \n",
    "# data up to the best epoch\n",
    "# visualising_data_MSE(hypermodel_hist, '/Users/jackkelly/Desktop/Building_Model/Figures/hypermodel_results_MSE.svg')\n",
    "# data for the full 100 epochs\n",
    "visualising_data_MSE(history, '/Users/jackkelly/Desktop/Building_Model/Figures/full_epochs_results_MSE_FPGA.svg')\n",
    "visualising_data_MAE(history, '/Users/jackkelly/Desktop/Building_Model/Figures/full_epochs_results_MAE_FPGA.svg')"
   ]
  },
  {
   "cell_type": "code",
   "execution_count": 12,
   "metadata": {},
   "outputs": [
    {
     "name": "stdout",
     "output_type": "stream",
     "text": [
      "Model: \"sequential\"\n",
      "_________________________________________________________________\n",
      "Layer (type)                 Output Shape              Param #   \n",
      "=================================================================\n",
      "dense (Dense)                (None, 78)                3276      \n",
      "_________________________________________________________________\n",
      "dense_1 (Dense)              (None, 40)                3160      \n",
      "=================================================================\n",
      "Total params: 6,436\n",
      "Trainable params: 6,436\n",
      "Non-trainable params: 0\n",
      "_________________________________________________________________\n"
     ]
    }
   ],
   "source": [
    "# shows weights of the ANN\n",
    "# print(hypermodel.weights)\n",
    "hypermodel.summary()"
   ]
  },
  {
   "cell_type": "code",
   "execution_count": 13,
   "metadata": {},
   "outputs": [],
   "source": [
    "# save the tuned model\n",
    "hypermodel.save('/Users/jackkelly/Desktop/Building_Model/Tuned_40_channels_ANN_model_FPGA.h5')"
   ]
  },
  {
   "cell_type": "code",
   "execution_count": 14,
   "metadata": {},
   "outputs": [
    {
     "name": "stdout",
     "output_type": "stream",
     "text": [
      "Saved baseline model to: /var/folders/yp/nbwcv8453t3f3sx3xxwwycqm0000gn/T/tmpvrp53eyk.h5\n"
     ]
    }
   ],
   "source": [
    "# necessary to save this temporary file as don't to include the optimizer as that wouldn't actually be part of the ANN\n",
    "_, keras_file = tempfile.mkstemp('.h5')\n",
    "tf.keras.models.save_model(hypermodel, keras_file, include_optimizer=False)\n",
    "print('Saved baseline model to:', keras_file)"
   ]
  },
  {
   "cell_type": "markdown",
   "metadata": {},
   "source": [
    "# Low-magnitude Pruning with Quantization"
   ]
  },
  {
   "cell_type": "code",
   "execution_count": 24,
   "metadata": {},
   "outputs": [],
   "source": [
    "# CSV file manipulation\n",
    "\n",
    "def instantiateWriteFile(name):\n",
    "    with open(name, 'w', newline='') as file:\n",
    "        writer = csv.writer(file)\n",
    "        # 51 input variables in total\n",
    "        labels = [0.2, 0.4, 0.6, 0.8]\n",
    "        writer.writerow(labels)\n",
    "        \n",
    "def add_row_of_data(file_path, list_of_elem):\n",
    "    with open(file_path, 'a+', newline='') as file:\n",
    "        writer = csv.writer(file)\n",
    "        writer.writerow(list_of_elem)"
   ]
  },
  {
   "cell_type": "code",
   "execution_count": 25,
   "metadata": {},
   "outputs": [],
   "source": [
    "def get_gzipped_model_size(file):\n",
    "  # Returns size of gzipped model, in bytes.\n",
    "    import zipfile\n",
    "\n",
    "    _, zipped_file = tempfile.mkstemp('.zip')\n",
    "    with zipfile.ZipFile(zipped_file, 'w', compression=zipfile.ZIP_DEFLATED) as f:\n",
    "        f.write(file)\n",
    "\n",
    "    return os.path.getsize(zipped_file)"
   ]
  },
  {
   "cell_type": "code",
   "execution_count": 76,
   "metadata": {},
   "outputs": [],
   "source": [
    "instantiateWriteFile('/Users/jackkelly/Desktop/Building_Model/Data_NEW/sparsity_MSE_data_v2.csv')\n",
    "instantiateWriteFile('/Users/jackkelly/Desktop/Building_Model/Data_NEW/sparsity_size_data_v2.csv')\n",
    "\n",
    "file_path = '/Users/jackkelly/Desktop/Building_Model/Data_NEW/10000_initial_data_testing.csv'\n",
    "X_test, Y_test = processing_data(N_channels, file_path)\n",
    "model = keras.models.load_model('/Users/jackkelly/Desktop/Building_Model/Tuned_40_channels_ANN_model_FPGA.h5')\n",
    "prune_low_magnitude = tfmot.sparsity.keras.prune_low_magnitude\n",
    "batch_size = 32\n",
    "epochs = 100\n",
    "validation_split = 0.2"
   ]
  },
  {
   "cell_type": "code",
   "execution_count": 80,
   "metadata": {},
   "outputs": [
    {
     "name": "stdout",
     "output_type": "stream",
     "text": [
      "Train on 8000 samples, validate on 2000 samples\n",
      "Epoch 1/100\n",
      "8000/8000 - 6s - loss: 0.0013 - mean_squared_error: 6.0651e-04 - val_loss: 0.0011 - val_mean_squared_error: 3.6104e-04\n",
      "Epoch 2/100\n",
      "8000/8000 - 2s - loss: 0.0013 - mean_squared_error: 5.2982e-04 - val_loss: 0.0013 - val_mean_squared_error: 5.5668e-04\n",
      "Epoch 3/100\n",
      "8000/8000 - 2s - loss: 0.0012 - mean_squared_error: 4.7472e-04 - val_loss: 0.0011 - val_mean_squared_error: 3.0377e-04\n",
      "Epoch 4/100\n",
      "8000/8000 - 2s - loss: 0.0011 - mean_squared_error: 3.6908e-04 - val_loss: 0.0011 - val_mean_squared_error: 3.1928e-04\n",
      "Epoch 5/100\n",
      "8000/8000 - 2s - loss: 0.0011 - mean_squared_error: 3.1907e-04 - val_loss: 0.0011 - val_mean_squared_error: 3.0291e-04\n",
      "Epoch 6/100\n",
      "8000/8000 - 2s - loss: 0.0010 - mean_squared_error: 2.8699e-04 - val_loss: 0.0011 - val_mean_squared_error: 3.3083e-04\n",
      "Epoch 7/100\n",
      "8000/8000 - 2s - loss: 0.0011 - mean_squared_error: 3.2052e-04 - val_loss: 0.0011 - val_mean_squared_error: 3.0422e-04\n",
      "Epoch 8/100\n",
      "8000/8000 - 2s - loss: 0.0011 - mean_squared_error: 3.5694e-04 - val_loss: 0.0010 - val_mean_squared_error: 2.7353e-04\n",
      "Epoch 9/100\n",
      "8000/8000 - 2s - loss: 0.0011 - mean_squared_error: 3.2930e-04 - val_loss: 0.0011 - val_mean_squared_error: 3.6888e-04\n",
      "Epoch 10/100\n",
      "8000/8000 - 2s - loss: 0.0011 - mean_squared_error: 3.0158e-04 - val_loss: 0.0012 - val_mean_squared_error: 4.6878e-04\n",
      "Epoch 11/100\n",
      "8000/8000 - 2s - loss: 0.0011 - mean_squared_error: 3.2626e-04 - val_loss: 0.0010 - val_mean_squared_error: 2.5409e-04\n",
      "Epoch 12/100\n",
      "8000/8000 - 2s - loss: 0.0011 - mean_squared_error: 3.1902e-04 - val_loss: 0.0011 - val_mean_squared_error: 3.5674e-04\n",
      "Epoch 13/100\n",
      "8000/8000 - 2s - loss: 0.0011 - mean_squared_error: 3.7695e-04 - val_loss: 9.8070e-04 - val_mean_squared_error: 2.2345e-04\n",
      "Epoch 14/100\n",
      "8000/8000 - 2s - loss: 0.0010 - mean_squared_error: 2.8357e-04 - val_loss: 0.0010 - val_mean_squared_error: 2.5638e-04\n",
      "Epoch 15/100\n",
      "8000/8000 - 2s - loss: 0.0010 - mean_squared_error: 2.8947e-04 - val_loss: 0.0011 - val_mean_squared_error: 3.0479e-04\n",
      "Epoch 16/100\n",
      "8000/8000 - 2s - loss: 0.0010 - mean_squared_error: 2.6146e-04 - val_loss: 0.0010 - val_mean_squared_error: 2.8103e-04\n",
      "Epoch 17/100\n",
      "8000/8000 - 2s - loss: 0.0010 - mean_squared_error: 2.5619e-04 - val_loss: 0.0011 - val_mean_squared_error: 2.9355e-04\n",
      "Epoch 18/100\n",
      "8000/8000 - 2s - loss: 0.0010 - mean_squared_error: 2.6674e-04 - val_loss: 0.0011 - val_mean_squared_error: 3.1539e-04\n",
      "Epoch 19/100\n",
      "8000/8000 - 2s - loss: 0.0011 - mean_squared_error: 3.2464e-04 - val_loss: 0.0010 - val_mean_squared_error: 2.7413e-04\n",
      "Epoch 20/100\n",
      "8000/8000 - 2s - loss: 0.0011 - mean_squared_error: 3.1045e-04 - val_loss: 0.0010 - val_mean_squared_error: 2.6406e-04\n",
      "Epoch 21/100\n",
      "8000/8000 - 2s - loss: 0.0010 - mean_squared_error: 2.8650e-04 - val_loss: 0.0011 - val_mean_squared_error: 3.5282e-04\n",
      "Epoch 22/100\n",
      "8000/8000 - 2s - loss: 0.0010 - mean_squared_error: 2.8707e-04 - val_loss: 0.0010 - val_mean_squared_error: 2.7248e-04\n",
      "Epoch 23/100\n",
      "8000/8000 - 2s - loss: 0.0011 - mean_squared_error: 3.2077e-04 - val_loss: 0.0010 - val_mean_squared_error: 2.7573e-04\n",
      "Epoch 24/100\n",
      "8000/8000 - 2s - loss: 0.0010 - mean_squared_error: 2.7844e-04 - val_loss: 0.0013 - val_mean_squared_error: 4.9382e-04\n",
      "Epoch 25/100\n",
      "8000/8000 - 2s - loss: 0.0011 - mean_squared_error: 2.9550e-04 - val_loss: 0.0010 - val_mean_squared_error: 2.6017e-04\n",
      "Epoch 26/100\n",
      "8000/8000 - 2s - loss: 0.0010 - mean_squared_error: 2.6698e-04 - val_loss: 0.0010 - val_mean_squared_error: 2.4616e-04\n",
      "Epoch 27/100\n",
      "8000/8000 - 2s - loss: 0.0011 - mean_squared_error: 2.9334e-04 - val_loss: 9.8853e-04 - val_mean_squared_error: 2.2964e-04\n",
      "Epoch 28/100\n",
      "8000/8000 - 2s - loss: 0.0011 - mean_squared_error: 3.3129e-04 - val_loss: 0.0010 - val_mean_squared_error: 2.4909e-04\n",
      "Epoch 29/100\n",
      "8000/8000 - 2s - loss: 0.0010 - mean_squared_error: 2.7700e-04 - val_loss: 9.7279e-04 - val_mean_squared_error: 2.1398e-04\n",
      "Epoch 30/100\n",
      "8000/8000 - 2s - loss: 0.0011 - mean_squared_error: 3.1883e-04 - val_loss: 9.9186e-04 - val_mean_squared_error: 2.3317e-04\n",
      "Epoch 31/100\n",
      "8000/8000 - 2s - loss: 0.0011 - mean_squared_error: 3.0634e-04 - val_loss: 0.0011 - val_mean_squared_error: 2.9426e-04\n",
      "Epoch 32/100\n",
      "8000/8000 - 2s - loss: 0.0011 - mean_squared_error: 3.2489e-04 - val_loss: 0.0010 - val_mean_squared_error: 2.5273e-04\n",
      "Epoch 33/100\n",
      "8000/8000 - 2s - loss: 0.0010 - mean_squared_error: 2.8266e-04 - val_loss: 9.9551e-04 - val_mean_squared_error: 2.3765e-04\n",
      "Epoch 34/100\n",
      "8000/8000 - 2s - loss: 0.0011 - mean_squared_error: 3.1552e-04 - val_loss: 0.0010 - val_mean_squared_error: 2.8113e-04\n",
      "Epoch 35/100\n",
      "8000/8000 - 2s - loss: 0.0011 - mean_squared_error: 2.9938e-04 - val_loss: 0.0010 - val_mean_squared_error: 2.6297e-04\n",
      "Epoch 36/100\n",
      "8000/8000 - 2s - loss: 0.0011 - mean_squared_error: 2.9760e-04 - val_loss: 0.0011 - val_mean_squared_error: 2.9995e-04\n",
      "Epoch 37/100\n",
      "8000/8000 - 2s - loss: 0.0010 - mean_squared_error: 2.9128e-04 - val_loss: 0.0010 - val_mean_squared_error: 2.6911e-04\n",
      "Epoch 38/100\n",
      "8000/8000 - 2s - loss: 0.0010 - mean_squared_error: 2.8390e-04 - val_loss: 0.0011 - val_mean_squared_error: 2.9236e-04\n",
      "Epoch 39/100\n",
      "8000/8000 - 2s - loss: 0.0010 - mean_squared_error: 2.8482e-04 - val_loss: 0.0010 - val_mean_squared_error: 2.5736e-04\n",
      "Epoch 40/100\n",
      "8000/8000 - 2s - loss: 0.0010 - mean_squared_error: 2.9014e-04 - val_loss: 0.0010 - val_mean_squared_error: 2.6690e-04\n",
      "Epoch 41/100\n",
      "8000/8000 - 2s - loss: 0.0011 - mean_squared_error: 2.9822e-04 - val_loss: 0.0010 - val_mean_squared_error: 2.5967e-04\n",
      "Epoch 42/100\n",
      "8000/8000 - 2s - loss: 0.0010 - mean_squared_error: 2.7132e-04 - val_loss: 9.8277e-04 - val_mean_squared_error: 2.2301e-04\n",
      "Epoch 43/100\n",
      "8000/8000 - 2s - loss: 0.0010 - mean_squared_error: 2.8607e-04 - val_loss: 0.0010 - val_mean_squared_error: 2.7492e-04\n",
      "Epoch 44/100\n",
      "8000/8000 - 2s - loss: 0.0010 - mean_squared_error: 2.6367e-04 - val_loss: 9.8283e-04 - val_mean_squared_error: 2.2277e-04\n",
      "Epoch 45/100\n",
      "8000/8000 - 2s - loss: 0.0011 - mean_squared_error: 2.9109e-04 - val_loss: 9.9746e-04 - val_mean_squared_error: 2.3744e-04\n",
      "Epoch 46/100\n",
      "8000/8000 - 2s - loss: 0.0010 - mean_squared_error: 2.8219e-04 - val_loss: 9.6907e-04 - val_mean_squared_error: 2.0850e-04\n",
      "Epoch 47/100\n",
      "8000/8000 - 2s - loss: 0.0010 - mean_squared_error: 2.6619e-04 - val_loss: 0.0010 - val_mean_squared_error: 2.5544e-04\n",
      "Epoch 48/100\n",
      "8000/8000 - 2s - loss: 0.0011 - mean_squared_error: 2.9150e-04 - val_loss: 9.9113e-04 - val_mean_squared_error: 2.3123e-04\n",
      "Epoch 49/100\n",
      "8000/8000 - 2s - loss: 0.0010 - mean_squared_error: 2.8117e-04 - val_loss: 0.0010 - val_mean_squared_error: 2.7748e-04\n",
      "Epoch 50/100\n",
      "8000/8000 - 2s - loss: 0.0010 - mean_squared_error: 2.7381e-04 - val_loss: 0.0011 - val_mean_squared_error: 3.0060e-04\n",
      "Epoch 51/100\n",
      "8000/8000 - 2s - loss: 0.0010 - mean_squared_error: 2.6742e-04 - val_loss: 0.0011 - val_mean_squared_error: 3.6358e-04\n",
      "Epoch 52/100\n",
      "8000/8000 - 2s - loss: 0.0010 - mean_squared_error: 2.5358e-04 - val_loss: 9.9558e-04 - val_mean_squared_error: 2.3389e-04\n",
      "Epoch 53/100\n",
      "8000/8000 - 2s - loss: 0.0011 - mean_squared_error: 2.9031e-04 - val_loss: 9.7832e-04 - val_mean_squared_error: 2.1653e-04\n",
      "Epoch 54/100\n",
      "8000/8000 - 2s - loss: 0.0010 - mean_squared_error: 2.8098e-04 - val_loss: 0.0010 - val_mean_squared_error: 2.6724e-04\n",
      "Epoch 55/100\n",
      "8000/8000 - 2s - loss: 0.0011 - mean_squared_error: 2.9906e-04 - val_loss: 0.0010 - val_mean_squared_error: 2.6361e-04\n",
      "Epoch 56/100\n",
      "8000/8000 - 2s - loss: 0.0010 - mean_squared_error: 2.6661e-04 - val_loss: 0.0010 - val_mean_squared_error: 2.7018e-04\n",
      "Epoch 57/100\n",
      "8000/8000 - 2s - loss: 0.0010 - mean_squared_error: 2.8044e-04 - val_loss: 0.0011 - val_mean_squared_error: 3.1868e-04\n",
      "Epoch 58/100\n",
      "8000/8000 - 2s - loss: 0.0010 - mean_squared_error: 2.7803e-04 - val_loss: 0.0012 - val_mean_squared_error: 4.6512e-04\n",
      "Epoch 59/100\n",
      "8000/8000 - 2s - loss: 0.0010 - mean_squared_error: 2.8607e-04 - val_loss: 0.0011 - val_mean_squared_error: 3.3273e-04\n",
      "Epoch 60/100\n",
      "8000/8000 - 2s - loss: 0.0010 - mean_squared_error: 2.6784e-04 - val_loss: 9.9713e-04 - val_mean_squared_error: 2.3551e-04\n",
      "Epoch 61/100\n",
      "8000/8000 - 2s - loss: 0.0010 - mean_squared_error: 2.8575e-04 - val_loss: 0.0010 - val_mean_squared_error: 2.8345e-04\n",
      "Epoch 62/100\n",
      "8000/8000 - 2s - loss: 0.0010 - mean_squared_error: 2.6555e-04 - val_loss: 0.0011 - val_mean_squared_error: 3.6891e-04\n"
     ]
    },
    {
     "name": "stdout",
     "output_type": "stream",
     "text": [
      "Epoch 63/100\n",
      "8000/8000 - 2s - loss: 0.0010 - mean_squared_error: 2.7322e-04 - val_loss: 0.0014 - val_mean_squared_error: 6.1103e-04\n",
      "Epoch 64/100\n",
      "8000/8000 - 2s - loss: 0.0010 - mean_squared_error: 2.7892e-04 - val_loss: 9.9664e-04 - val_mean_squared_error: 2.3449e-04\n",
      "Epoch 65/100\n",
      "8000/8000 - 2s - loss: 0.0010 - mean_squared_error: 2.6011e-04 - val_loss: 0.0010 - val_mean_squared_error: 2.6203e-04\n",
      "Epoch 66/100\n",
      "8000/8000 - 2s - loss: 0.0011 - mean_squared_error: 2.9193e-04 - val_loss: 0.0010 - val_mean_squared_error: 2.5254e-04\n",
      "Epoch 67/100\n",
      "8000/8000 - 2s - loss: 0.0010 - mean_squared_error: 2.4471e-04 - val_loss: 9.8606e-04 - val_mean_squared_error: 2.2307e-04\n",
      "Epoch 68/100\n",
      "8000/8000 - 2s - loss: 0.0010 - mean_squared_error: 2.3751e-04 - val_loss: 0.0010 - val_mean_squared_error: 2.6234e-04\n",
      "Epoch 69/100\n",
      "8000/8000 - 2s - loss: 0.0010 - mean_squared_error: 2.5534e-04 - val_loss: 0.0010 - val_mean_squared_error: 2.8003e-04\n",
      "Epoch 70/100\n",
      "8000/8000 - 2s - loss: 0.0010 - mean_squared_error: 2.5282e-04 - val_loss: 0.0010 - val_mean_squared_error: 2.6848e-04\n",
      "Epoch 71/100\n",
      "8000/8000 - 2s - loss: 0.0010 - mean_squared_error: 2.7036e-04 - val_loss: 0.0011 - val_mean_squared_error: 2.9534e-04\n",
      "Epoch 72/100\n",
      "8000/8000 - 2s - loss: 0.0010 - mean_squared_error: 2.4889e-04 - val_loss: 0.0010 - val_mean_squared_error: 2.4526e-04\n",
      "Epoch 73/100\n",
      "8000/8000 - 2s - loss: 0.0010 - mean_squared_error: 2.5726e-04 - val_loss: 0.0010 - val_mean_squared_error: 2.8018e-04\n",
      "Epoch 74/100\n",
      "8000/8000 - 2s - loss: 0.0010 - mean_squared_error: 2.5527e-04 - val_loss: 0.0011 - val_mean_squared_error: 3.3159e-04\n",
      "Epoch 75/100\n",
      "8000/8000 - 2s - loss: 0.0010 - mean_squared_error: 2.6249e-04 - val_loss: 0.0010 - val_mean_squared_error: 2.8052e-04\n",
      "Epoch 76/100\n",
      "8000/8000 - 2s - loss: 0.0010 - mean_squared_error: 2.5133e-04 - val_loss: 9.6726e-04 - val_mean_squared_error: 2.0433e-04\n",
      "Epoch 77/100\n",
      "8000/8000 - 2s - loss: 0.0010 - mean_squared_error: 2.5663e-04 - val_loss: 9.8256e-04 - val_mean_squared_error: 2.1975e-04\n",
      "Epoch 78/100\n",
      "8000/8000 - 2s - loss: 0.0010 - mean_squared_error: 2.5162e-04 - val_loss: 9.8858e-04 - val_mean_squared_error: 2.2524e-04\n",
      "Epoch 79/100\n",
      "8000/8000 - 2s - loss: 0.0010 - mean_squared_error: 2.5231e-04 - val_loss: 0.0010 - val_mean_squared_error: 2.4523e-04\n",
      "Epoch 80/100\n",
      "8000/8000 - 2s - loss: 0.0010 - mean_squared_error: 2.5987e-04 - val_loss: 0.0010 - val_mean_squared_error: 2.5015e-04\n",
      "Epoch 81/100\n",
      "8000/8000 - 2s - loss: 0.0010 - mean_squared_error: 2.7820e-04 - val_loss: 0.0010 - val_mean_squared_error: 2.4971e-04\n",
      "Epoch 82/100\n",
      "8000/8000 - 2s - loss: 0.0010 - mean_squared_error: 2.4696e-04 - val_loss: 9.6674e-04 - val_mean_squared_error: 2.0430e-04\n",
      "Epoch 83/100\n",
      "8000/8000 - 2s - loss: 0.0010 - mean_squared_error: 2.6035e-04 - val_loss: 9.6878e-04 - val_mean_squared_error: 2.0642e-04\n",
      "Epoch 84/100\n",
      "8000/8000 - 2s - loss: 0.0010 - mean_squared_error: 2.6102e-04 - val_loss: 0.0010 - val_mean_squared_error: 2.5799e-04\n",
      "Epoch 85/100\n",
      "8000/8000 - 2s - loss: 0.0010 - mean_squared_error: 2.5788e-04 - val_loss: 0.0011 - val_mean_squared_error: 3.5533e-04\n",
      "Epoch 86/100\n",
      "8000/8000 - 2s - loss: 0.0010 - mean_squared_error: 2.6107e-04 - val_loss: 0.0010 - val_mean_squared_error: 2.4737e-04\n",
      "Epoch 87/100\n",
      "8000/8000 - 2s - loss: 0.0010 - mean_squared_error: 2.6234e-04 - val_loss: 0.0010 - val_mean_squared_error: 2.6312e-04\n",
      "Epoch 88/100\n",
      "8000/8000 - 2s - loss: 0.0010 - mean_squared_error: 2.5173e-04 - val_loss: 9.9711e-04 - val_mean_squared_error: 2.3487e-04\n",
      "Epoch 89/100\n",
      "8000/8000 - 2s - loss: 0.0010 - mean_squared_error: 2.4565e-04 - val_loss: 9.9351e-04 - val_mean_squared_error: 2.3066e-04\n",
      "Epoch 90/100\n",
      "8000/8000 - 2s - loss: 0.0010 - mean_squared_error: 2.6651e-04 - val_loss: 0.0011 - val_mean_squared_error: 3.3491e-04\n",
      "Epoch 91/100\n",
      "8000/8000 - 2s - loss: 0.0010 - mean_squared_error: 2.6496e-04 - val_loss: 0.0011 - val_mean_squared_error: 2.9430e-04\n",
      "Epoch 92/100\n",
      "8000/8000 - 2s - loss: 0.0010 - mean_squared_error: 2.4312e-04 - val_loss: 0.0011 - val_mean_squared_error: 2.9338e-04\n",
      "Epoch 93/100\n",
      "8000/8000 - 2s - loss: 0.0010 - mean_squared_error: 2.8021e-04 - val_loss: 9.7517e-04 - val_mean_squared_error: 2.1338e-04\n",
      "Epoch 94/100\n",
      "8000/8000 - 2s - loss: 0.0010 - mean_squared_error: 2.6313e-04 - val_loss: 9.6607e-04 - val_mean_squared_error: 2.0397e-04\n",
      "Epoch 95/100\n",
      "8000/8000 - 2s - loss: 0.0010 - mean_squared_error: 2.5150e-04 - val_loss: 0.0010 - val_mean_squared_error: 2.3951e-04\n",
      "Epoch 96/100\n",
      "8000/8000 - 2s - loss: 0.0010 - mean_squared_error: 2.7416e-04 - val_loss: 0.0011 - val_mean_squared_error: 3.3686e-04\n",
      "Epoch 97/100\n",
      "8000/8000 - 2s - loss: 0.0010 - mean_squared_error: 2.5536e-04 - val_loss: 9.7224e-04 - val_mean_squared_error: 2.0948e-04\n",
      "Epoch 98/100\n",
      "8000/8000 - 2s - loss: 0.0011 - mean_squared_error: 2.9791e-04 - val_loss: 9.9146e-04 - val_mean_squared_error: 2.3018e-04\n",
      "Epoch 99/100\n",
      "8000/8000 - 2s - loss: 0.0010 - mean_squared_error: 2.7471e-04 - val_loss: 0.0011 - val_mean_squared_error: 3.3810e-04\n",
      "Epoch 100/100\n",
      "8000/8000 - 2s - loss: 0.0010 - mean_squared_error: 2.7487e-04 - val_loss: 9.8277e-04 - val_mean_squared_error: 2.2176e-04\n",
      "Pruned model MSE: 0.00023086077999323606\n",
      "Saved pruned Keras model to: /var/folders/yp/nbwcv8453t3f3sx3xxwwycqm0000gn/T/tmp4oej4w_9.h5\n",
      "Size of gzipped baseline Keras model: 22638.00 bytes\n",
      "Train on 8000 samples, validate on 2000 samples\n",
      "Epoch 1/100\n",
      "8000/8000 - 5s - loss: 0.0035 - mean_squared_error: 0.0028 - val_loss: 0.0024 - val_mean_squared_error: 0.0017\n",
      "Epoch 2/100\n",
      "8000/8000 - 2s - loss: 0.0020 - mean_squared_error: 0.0013 - val_loss: 0.0017 - val_mean_squared_error: 9.5849e-04\n",
      "Epoch 3/100\n",
      "8000/8000 - 2s - loss: 0.0015 - mean_squared_error: 7.9219e-04 - val_loss: 0.0014 - val_mean_squared_error: 7.0027e-04\n",
      "Epoch 4/100\n",
      "8000/8000 - 2s - loss: 0.0013 - mean_squared_error: 5.4670e-04 - val_loss: 0.0012 - val_mean_squared_error: 4.9323e-04\n",
      "Epoch 5/100\n",
      "8000/8000 - 2s - loss: 0.0012 - mean_squared_error: 4.7824e-04 - val_loss: 0.0015 - val_mean_squared_error: 7.0622e-04\n",
      "Epoch 6/100\n",
      "8000/8000 - 2s - loss: 0.0012 - mean_squared_error: 4.2772e-04 - val_loss: 0.0012 - val_mean_squared_error: 4.5622e-04\n",
      "Epoch 7/100\n",
      "8000/8000 - 2s - loss: 0.0012 - mean_squared_error: 3.9871e-04 - val_loss: 0.0011 - val_mean_squared_error: 3.4680e-04\n",
      "Epoch 8/100\n",
      "8000/8000 - 2s - loss: 0.0011 - mean_squared_error: 3.5058e-04 - val_loss: 0.0011 - val_mean_squared_error: 3.5017e-04\n",
      "Epoch 9/100\n",
      "8000/8000 - 2s - loss: 0.0011 - mean_squared_error: 2.9889e-04 - val_loss: 0.0010 - val_mean_squared_error: 2.4453e-04\n",
      "Epoch 10/100\n",
      "8000/8000 - 2s - loss: 0.0010 - mean_squared_error: 2.7276e-04 - val_loss: 0.0010 - val_mean_squared_error: 2.7207e-04\n",
      "Epoch 11/100\n",
      "8000/8000 - 2s - loss: 0.0010 - mean_squared_error: 2.6314e-04 - val_loss: 0.0010 - val_mean_squared_error: 2.3909e-04\n",
      "Epoch 12/100\n",
      "8000/8000 - 2s - loss: 0.0010 - mean_squared_error: 2.3497e-04 - val_loss: 0.0010 - val_mean_squared_error: 2.6645e-04\n",
      "Epoch 13/100\n",
      "8000/8000 - 2s - loss: 0.0010 - mean_squared_error: 2.6517e-04 - val_loss: 0.0010 - val_mean_squared_error: 2.5043e-04\n",
      "Epoch 14/100\n",
      "8000/8000 - 2s - loss: 0.0011 - mean_squared_error: 2.9956e-04 - val_loss: 0.0011 - val_mean_squared_error: 3.4476e-04\n",
      "Epoch 15/100\n",
      "8000/8000 - 2s - loss: 0.0011 - mean_squared_error: 2.9682e-04 - val_loss: 0.0010 - val_mean_squared_error: 2.7389e-04\n",
      "Epoch 16/100\n",
      "8000/8000 - 2s - loss: 0.0011 - mean_squared_error: 3.5415e-04 - val_loss: 0.0014 - val_mean_squared_error: 5.8643e-04\n",
      "Epoch 17/100\n",
      "8000/8000 - 2s - loss: 0.0012 - mean_squared_error: 4.0463e-04 - val_loss: 0.0011 - val_mean_squared_error: 3.2125e-04\n",
      "Epoch 18/100\n",
      "8000/8000 - 2s - loss: 0.0010 - mean_squared_error: 2.5452e-04 - val_loss: 9.7096e-04 - val_mean_squared_error: 2.0181e-04\n",
      "Epoch 19/100\n",
      "8000/8000 - 2s - loss: 0.0010 - mean_squared_error: 2.7040e-04 - val_loss: 0.0011 - val_mean_squared_error: 2.8068e-04\n",
      "Epoch 20/100\n",
      "8000/8000 - 2s - loss: 0.0010 - mean_squared_error: 2.4391e-04 - val_loss: 0.0010 - val_mean_squared_error: 2.4931e-04\n",
      "Epoch 21/100\n",
      "8000/8000 - 2s - loss: 0.0010 - mean_squared_error: 2.3186e-04 - val_loss: 0.0011 - val_mean_squared_error: 3.0825e-04\n",
      "Epoch 22/100\n",
      "8000/8000 - 2s - loss: 0.0010 - mean_squared_error: 2.6132e-04 - val_loss: 0.0011 - val_mean_squared_error: 3.0179e-04\n"
     ]
    },
    {
     "name": "stdout",
     "output_type": "stream",
     "text": [
      "Epoch 23/100\n",
      "8000/8000 - 2s - loss: 0.0010 - mean_squared_error: 2.3495e-04 - val_loss: 9.6977e-04 - val_mean_squared_error: 1.9865e-04\n",
      "Epoch 24/100\n",
      "8000/8000 - 2s - loss: 9.9888e-04 - mean_squared_error: 2.2774e-04 - val_loss: 0.0010 - val_mean_squared_error: 2.4242e-04\n",
      "Epoch 25/100\n",
      "8000/8000 - 2s - loss: 0.0010 - mean_squared_error: 2.4246e-04 - val_loss: 9.5998e-04 - val_mean_squared_error: 1.8897e-04\n",
      "Epoch 26/100\n",
      "8000/8000 - 2s - loss: 0.0010 - mean_squared_error: 2.3402e-04 - val_loss: 0.0011 - val_mean_squared_error: 3.0146e-04\n",
      "Epoch 27/100\n",
      "8000/8000 - 2s - loss: 0.0010 - mean_squared_error: 2.3953e-04 - val_loss: 0.0010 - val_mean_squared_error: 2.5017e-04\n",
      "Epoch 28/100\n",
      "8000/8000 - 2s - loss: 0.0010 - mean_squared_error: 2.5664e-04 - val_loss: 0.0010 - val_mean_squared_error: 2.5133e-04\n",
      "Epoch 29/100\n",
      "8000/8000 - 2s - loss: 0.0011 - mean_squared_error: 2.9570e-04 - val_loss: 0.0011 - val_mean_squared_error: 2.9334e-04\n",
      "Epoch 30/100\n",
      "8000/8000 - 2s - loss: 0.0011 - mean_squared_error: 2.9560e-04 - val_loss: 0.0010 - val_mean_squared_error: 2.5742e-04\n",
      "Epoch 31/100\n",
      "8000/8000 - 2s - loss: 0.0010 - mean_squared_error: 2.7762e-04 - val_loss: 0.0012 - val_mean_squared_error: 3.9052e-04\n",
      "Epoch 32/100\n",
      "8000/8000 - 2s - loss: 0.0010 - mean_squared_error: 2.6278e-04 - val_loss: 0.0011 - val_mean_squared_error: 2.9799e-04\n",
      "Epoch 33/100\n",
      "8000/8000 - 2s - loss: 0.0010 - mean_squared_error: 2.3419e-04 - val_loss: 9.5913e-04 - val_mean_squared_error: 1.9278e-04\n",
      "Epoch 34/100\n",
      "8000/8000 - 2s - loss: 0.0010 - mean_squared_error: 2.4748e-04 - val_loss: 0.0010 - val_mean_squared_error: 2.4687e-04\n",
      "Epoch 35/100\n",
      "8000/8000 - 2s - loss: 0.0010 - mean_squared_error: 2.5752e-04 - val_loss: 9.6330e-04 - val_mean_squared_error: 1.9704e-04\n",
      "Epoch 36/100\n",
      "8000/8000 - 2s - loss: 0.0010 - mean_squared_error: 2.4504e-04 - val_loss: 9.7079e-04 - val_mean_squared_error: 2.0477e-04\n",
      "Epoch 37/100\n",
      "8000/8000 - 2s - loss: 0.0010 - mean_squared_error: 2.3804e-04 - val_loss: 9.9612e-04 - val_mean_squared_error: 2.2958e-04\n",
      "Epoch 38/100\n",
      "8000/8000 - 2s - loss: 0.0010 - mean_squared_error: 2.4420e-04 - val_loss: 0.0011 - val_mean_squared_error: 3.6474e-04\n",
      "Epoch 39/100\n",
      "8000/8000 - 2s - loss: 0.0010 - mean_squared_error: 2.4611e-04 - val_loss: 9.7317e-04 - val_mean_squared_error: 2.0676e-04\n",
      "Epoch 40/100\n",
      "8000/8000 - 2s - loss: 9.9948e-04 - mean_squared_error: 2.3262e-04 - val_loss: 9.9310e-04 - val_mean_squared_error: 2.2654e-04\n",
      "Epoch 41/100\n",
      "8000/8000 - 2s - loss: 0.0010 - mean_squared_error: 2.6299e-04 - val_loss: 0.0010 - val_mean_squared_error: 2.3636e-04\n",
      "Epoch 42/100\n",
      "8000/8000 - 2s - loss: 0.0010 - mean_squared_error: 2.4332e-04 - val_loss: 9.6553e-04 - val_mean_squared_error: 1.9975e-04\n",
      "Epoch 43/100\n",
      "8000/8000 - 2s - loss: 0.0010 - mean_squared_error: 2.3800e-04 - val_loss: 0.0010 - val_mean_squared_error: 2.5270e-04\n",
      "Epoch 44/100\n",
      "8000/8000 - 2s - loss: 0.0010 - mean_squared_error: 2.4794e-04 - val_loss: 0.0010 - val_mean_squared_error: 2.7750e-04\n",
      "Epoch 45/100\n",
      "8000/8000 - 2s - loss: 0.0010 - mean_squared_error: 2.5732e-04 - val_loss: 9.9758e-04 - val_mean_squared_error: 2.3210e-04\n",
      "Epoch 46/100\n",
      "8000/8000 - 2s - loss: 0.0010 - mean_squared_error: 2.3488e-04 - val_loss: 0.0010 - val_mean_squared_error: 2.4691e-04\n",
      "Epoch 47/100\n",
      "8000/8000 - 2s - loss: 0.0010 - mean_squared_error: 2.3696e-04 - val_loss: 9.7421e-04 - val_mean_squared_error: 2.0783e-04\n",
      "Epoch 48/100\n",
      "8000/8000 - 2s - loss: 0.0010 - mean_squared_error: 2.3419e-04 - val_loss: 0.0010 - val_mean_squared_error: 2.3611e-04\n",
      "Epoch 49/100\n",
      "8000/8000 - 2s - loss: 0.0010 - mean_squared_error: 2.7334e-04 - val_loss: 0.0010 - val_mean_squared_error: 2.5571e-04\n",
      "Epoch 50/100\n",
      "8000/8000 - 2s - loss: 0.0010 - mean_squared_error: 2.5380e-04 - val_loss: 0.0010 - val_mean_squared_error: 2.4856e-04\n",
      "Epoch 51/100\n",
      "8000/8000 - 2s - loss: 0.0010 - mean_squared_error: 2.3520e-04 - val_loss: 0.0010 - val_mean_squared_error: 2.4606e-04\n",
      "Epoch 52/100\n",
      "8000/8000 - 2s - loss: 0.0010 - mean_squared_error: 2.3631e-04 - val_loss: 0.0011 - val_mean_squared_error: 2.9103e-04\n",
      "Epoch 53/100\n",
      "8000/8000 - 2s - loss: 0.0010 - mean_squared_error: 2.5158e-04 - val_loss: 9.8607e-04 - val_mean_squared_error: 2.2135e-04\n",
      "Epoch 54/100\n",
      "8000/8000 - 2s - loss: 0.0010 - mean_squared_error: 2.5848e-04 - val_loss: 0.0011 - val_mean_squared_error: 3.4876e-04\n",
      "Epoch 55/100\n",
      "8000/8000 - 2s - loss: 0.0010 - mean_squared_error: 2.3978e-04 - val_loss: 9.5912e-04 - val_mean_squared_error: 1.9430e-04\n",
      "Epoch 56/100\n",
      "8000/8000 - 2s - loss: 0.0010 - mean_squared_error: 2.3821e-04 - val_loss: 9.9233e-04 - val_mean_squared_error: 2.2755e-04\n",
      "Epoch 57/100\n",
      "8000/8000 - 2s - loss: 0.0010 - mean_squared_error: 2.4302e-04 - val_loss: 9.9793e-04 - val_mean_squared_error: 2.3286e-04\n",
      "Epoch 58/100\n",
      "8000/8000 - 2s - loss: 9.9756e-04 - mean_squared_error: 2.3256e-04 - val_loss: 9.8574e-04 - val_mean_squared_error: 2.2047e-04\n",
      "Epoch 59/100\n",
      "8000/8000 - 2s - loss: 0.0010 - mean_squared_error: 2.4787e-04 - val_loss: 0.0010 - val_mean_squared_error: 2.8440e-04\n",
      "Epoch 60/100\n",
      "8000/8000 - 2s - loss: 9.9669e-04 - mean_squared_error: 2.3141e-04 - val_loss: 9.6792e-04 - val_mean_squared_error: 2.0264e-04\n",
      "Epoch 61/100\n",
      "8000/8000 - 2s - loss: 0.0010 - mean_squared_error: 2.3604e-04 - val_loss: 0.0010 - val_mean_squared_error: 2.6700e-04\n",
      "Epoch 62/100\n",
      "8000/8000 - 2s - loss: 0.0010 - mean_squared_error: 2.4397e-04 - val_loss: 0.0011 - val_mean_squared_error: 3.6705e-04\n",
      "Epoch 63/100\n",
      "8000/8000 - 2s - loss: 0.0010 - mean_squared_error: 2.4292e-04 - val_loss: 0.0010 - val_mean_squared_error: 2.5137e-04\n",
      "Epoch 64/100\n",
      "8000/8000 - 2s - loss: 9.9808e-04 - mean_squared_error: 2.3325e-04 - val_loss: 9.6525e-04 - val_mean_squared_error: 2.0024e-04\n",
      "Epoch 65/100\n",
      "8000/8000 - 2s - loss: 0.0010 - mean_squared_error: 2.6153e-04 - val_loss: 0.0013 - val_mean_squared_error: 5.0822e-04\n",
      "Epoch 66/100\n",
      "8000/8000 - 2s - loss: 0.0010 - mean_squared_error: 2.3854e-04 - val_loss: 9.8372e-04 - val_mean_squared_error: 2.1917e-04\n",
      "Epoch 67/100\n",
      "8000/8000 - 2s - loss: 0.0010 - mean_squared_error: 2.4495e-04 - val_loss: 9.5876e-04 - val_mean_squared_error: 1.9429e-04\n",
      "Epoch 68/100\n",
      "8000/8000 - 2s - loss: 9.9551e-04 - mean_squared_error: 2.3070e-04 - val_loss: 0.0010 - val_mean_squared_error: 2.4310e-04\n",
      "Epoch 69/100\n",
      "8000/8000 - 2s - loss: 0.0010 - mean_squared_error: 2.4458e-04 - val_loss: 9.8381e-04 - val_mean_squared_error: 2.1885e-04\n",
      "Epoch 70/100\n",
      "8000/8000 - 2s - loss: 9.9549e-04 - mean_squared_error: 2.3049e-04 - val_loss: 9.8636e-04 - val_mean_squared_error: 2.2136e-04\n",
      "Epoch 71/100\n",
      "8000/8000 - 2s - loss: 0.0010 - mean_squared_error: 2.5594e-04 - val_loss: 0.0010 - val_mean_squared_error: 2.5838e-04\n",
      "Epoch 72/100\n",
      "8000/8000 - 2s - loss: 0.0010 - mean_squared_error: 2.8453e-04 - val_loss: 0.0010 - val_mean_squared_error: 2.5847e-04\n",
      "Epoch 73/100\n",
      "8000/8000 - 2s - loss: 0.0010 - mean_squared_error: 2.6070e-04 - val_loss: 0.0011 - val_mean_squared_error: 3.8021e-04\n",
      "Epoch 74/100\n",
      "8000/8000 - 2s - loss: 0.0010 - mean_squared_error: 2.6204e-04 - val_loss: 0.0010 - val_mean_squared_error: 2.7353e-04\n",
      "Epoch 75/100\n",
      "8000/8000 - 2s - loss: 0.0010 - mean_squared_error: 2.6288e-04 - val_loss: 9.6953e-04 - val_mean_squared_error: 2.0597e-04\n",
      "Epoch 76/100\n",
      "8000/8000 - 2s - loss: 0.0010 - mean_squared_error: 2.6065e-04 - val_loss: 0.0011 - val_mean_squared_error: 3.7424e-04\n",
      "Epoch 77/100\n",
      "8000/8000 - 3s - loss: 0.0010 - mean_squared_error: 2.5639e-04 - val_loss: 9.6853e-04 - val_mean_squared_error: 2.0448e-04\n",
      "Epoch 78/100\n",
      "8000/8000 - 2s - loss: 0.0010 - mean_squared_error: 2.4278e-04 - val_loss: 9.9500e-04 - val_mean_squared_error: 2.3064e-04\n",
      "Epoch 79/100\n",
      "8000/8000 - 2s - loss: 0.0010 - mean_squared_error: 2.4348e-04 - val_loss: 0.0011 - val_mean_squared_error: 3.4800e-04\n",
      "Epoch 80/100\n",
      "8000/8000 - 2s - loss: 0.0010 - mean_squared_error: 2.5823e-04 - val_loss: 0.0011 - val_mean_squared_error: 3.4017e-04\n",
      "Epoch 81/100\n",
      "8000/8000 - 2s - loss: 0.0010 - mean_squared_error: 2.5654e-04 - val_loss: 0.0010 - val_mean_squared_error: 2.6278e-04\n",
      "Epoch 82/100\n",
      "8000/8000 - 2s - loss: 9.9947e-04 - mean_squared_error: 2.3417e-04 - val_loss: 9.9483e-04 - val_mean_squared_error: 2.2965e-04\n",
      "Epoch 83/100\n",
      "8000/8000 - 2s - loss: 0.0010 - mean_squared_error: 2.4576e-04 - val_loss: 9.7301e-04 - val_mean_squared_error: 2.0765e-04\n",
      "Epoch 84/100\n",
      "8000/8000 - 2s - loss: 0.0010 - mean_squared_error: 2.6807e-04 - val_loss: 0.0010 - val_mean_squared_error: 2.5346e-04\n",
      "Epoch 85/100\n",
      "8000/8000 - 2s - loss: 0.0010 - mean_squared_error: 2.4670e-04 - val_loss: 0.0010 - val_mean_squared_error: 2.3874e-04\n",
      "Epoch 86/100\n",
      "8000/8000 - 2s - loss: 0.0010 - mean_squared_error: 2.4636e-04 - val_loss: 9.6308e-04 - val_mean_squared_error: 1.9779e-04\n",
      "Epoch 87/100\n",
      "8000/8000 - 2s - loss: 0.0010 - mean_squared_error: 2.5784e-04 - val_loss: 0.0010 - val_mean_squared_error: 2.4123e-04\n",
      "Epoch 88/100\n",
      "8000/8000 - 2s - loss: 0.0010 - mean_squared_error: 2.4472e-04 - val_loss: 0.0010 - val_mean_squared_error: 2.6517e-04\n",
      "Epoch 89/100\n",
      "8000/8000 - 2s - loss: 0.0010 - mean_squared_error: 2.5423e-04 - val_loss: 0.0010 - val_mean_squared_error: 2.7218e-04\n",
      "Epoch 90/100\n",
      "8000/8000 - 2s - loss: 0.0010 - mean_squared_error: 2.4469e-04 - val_loss: 0.0010 - val_mean_squared_error: 2.4318e-04\n",
      "Epoch 91/100\n",
      "8000/8000 - 2s - loss: 0.0010 - mean_squared_error: 2.4369e-04 - val_loss: 0.0010 - val_mean_squared_error: 2.7489e-04\n",
      "Epoch 92/100\n",
      "8000/8000 - 2s - loss: 0.0010 - mean_squared_error: 2.4195e-04 - val_loss: 0.0010 - val_mean_squared_error: 2.5166e-04\n",
      "Epoch 93/100\n",
      "8000/8000 - 2s - loss: 0.0010 - mean_squared_error: 2.5044e-04 - val_loss: 0.0010 - val_mean_squared_error: 2.6380e-04\n",
      "Epoch 94/100\n",
      "8000/8000 - 2s - loss: 0.0010 - mean_squared_error: 2.4889e-04 - val_loss: 9.7099e-04 - val_mean_squared_error: 2.0521e-04\n",
      "Epoch 95/100\n",
      "8000/8000 - 2s - loss: 9.9634e-04 - mean_squared_error: 2.3030e-04 - val_loss: 9.8493e-04 - val_mean_squared_error: 2.1848e-04\n",
      "Epoch 96/100\n",
      "8000/8000 - 2s - loss: 0.0010 - mean_squared_error: 2.3934e-04 - val_loss: 0.0011 - val_mean_squared_error: 3.4723e-04\n",
      "Epoch 97/100\n",
      "8000/8000 - 2s - loss: 0.0010 - mean_squared_error: 2.3684e-04 - val_loss: 9.9621e-04 - val_mean_squared_error: 2.2952e-04\n",
      "Epoch 98/100\n",
      "8000/8000 - 2s - loss: 9.8856e-04 - mean_squared_error: 2.2196e-04 - val_loss: 9.7174e-04 - val_mean_squared_error: 2.0477e-04\n",
      "Epoch 99/100\n",
      "8000/8000 - 2s - loss: 0.0010 - mean_squared_error: 2.4805e-04 - val_loss: 9.9300e-04 - val_mean_squared_error: 2.2657e-04\n",
      "Epoch 100/100\n",
      "8000/8000 - 2s - loss: 9.9007e-04 - mean_squared_error: 2.2330e-04 - val_loss: 0.0010 - val_mean_squared_error: 2.4137e-04\n",
      "Pruned model MSE: 0.00025096192257478833\n",
      "Saved pruned Keras model to: /var/folders/yp/nbwcv8453t3f3sx3xxwwycqm0000gn/T/tmpjxdx_roc.h5\n",
      "Size of gzipped baseline Keras model: 18935.00 bytes\n",
      "Train on 8000 samples, validate on 2000 samples\n",
      "Epoch 1/100\n",
      "8000/8000 - 5s - loss: 0.0132 - mean_squared_error: 0.0126 - val_loss: 0.0079 - val_mean_squared_error: 0.0073\n",
      "Epoch 2/100\n",
      "8000/8000 - 2s - loss: 0.0065 - mean_squared_error: 0.0059 - val_loss: 0.0056 - val_mean_squared_error: 0.0050\n",
      "Epoch 3/100\n",
      "8000/8000 - 2s - loss: 0.0049 - mean_squared_error: 0.0042 - val_loss: 0.0045 - val_mean_squared_error: 0.0038\n",
      "Epoch 4/100\n",
      "8000/8000 - 2s - loss: 0.0039 - mean_squared_error: 0.0033 - val_loss: 0.0036 - val_mean_squared_error: 0.0030\n",
      "Epoch 5/100\n",
      "8000/8000 - 2s - loss: 0.0033 - mean_squared_error: 0.0026 - val_loss: 0.0031 - val_mean_squared_error: 0.0024\n",
      "Epoch 6/100\n",
      "8000/8000 - 2s - loss: 0.0028 - mean_squared_error: 0.0021 - val_loss: 0.0027 - val_mean_squared_error: 0.0020\n",
      "Epoch 7/100\n",
      "8000/8000 - 2s - loss: 0.0025 - mean_squared_error: 0.0018 - val_loss: 0.0024 - val_mean_squared_error: 0.0017\n",
      "Epoch 8/100\n",
      "8000/8000 - 2s - loss: 0.0023 - mean_squared_error: 0.0016 - val_loss: 0.0021 - val_mean_squared_error: 0.0014\n",
      "Epoch 9/100\n",
      "8000/8000 - 2s - loss: 0.0020 - mean_squared_error: 0.0013 - val_loss: 0.0019 - val_mean_squared_error: 0.0012\n",
      "Epoch 10/100\n",
      "8000/8000 - 2s - loss: 0.0018 - mean_squared_error: 0.0011 - val_loss: 0.0018 - val_mean_squared_error: 0.0010\n",
      "Epoch 11/100\n",
      "8000/8000 - 2s - loss: 0.0016 - mean_squared_error: 8.8364e-04 - val_loss: 0.0016 - val_mean_squared_error: 8.3482e-04\n",
      "Epoch 12/100\n",
      "8000/8000 - 2s - loss: 0.0015 - mean_squared_error: 7.4394e-04 - val_loss: 0.0015 - val_mean_squared_error: 7.2670e-04\n",
      "Epoch 13/100\n",
      "8000/8000 - 2s - loss: 0.0014 - mean_squared_error: 6.6193e-04 - val_loss: 0.0013 - val_mean_squared_error: 6.1215e-04\n",
      "Epoch 14/100\n",
      "8000/8000 - 2s - loss: 0.0013 - mean_squared_error: 5.7807e-04 - val_loss: 0.0013 - val_mean_squared_error: 5.3965e-04\n",
      "Epoch 15/100\n",
      "8000/8000 - 2s - loss: 0.0013 - mean_squared_error: 5.0465e-04 - val_loss: 0.0012 - val_mean_squared_error: 4.7321e-04\n",
      "Epoch 16/100\n",
      "8000/8000 - 2s - loss: 0.0012 - mean_squared_error: 4.4523e-04 - val_loss: 0.0012 - val_mean_squared_error: 4.4790e-04\n",
      "Epoch 17/100\n",
      "8000/8000 - 2s - loss: 0.0012 - mean_squared_error: 4.1395e-04 - val_loss: 0.0011 - val_mean_squared_error: 3.7854e-04\n",
      "Epoch 18/100\n",
      "8000/8000 - 2s - loss: 0.0011 - mean_squared_error: 3.6387e-04 - val_loss: 0.0011 - val_mean_squared_error: 3.4081e-04\n",
      "Epoch 19/100\n",
      "8000/8000 - 2s - loss: 0.0011 - mean_squared_error: 3.2673e-04 - val_loss: 0.0011 - val_mean_squared_error: 3.0532e-04\n",
      "Epoch 20/100\n",
      "8000/8000 - 2s - loss: 0.0011 - mean_squared_error: 2.9822e-04 - val_loss: 0.0011 - val_mean_squared_error: 2.8085e-04\n",
      "Epoch 21/100\n",
      "8000/8000 - 2s - loss: 0.0011 - mean_squared_error: 3.4496e-04 - val_loss: 0.0011 - val_mean_squared_error: 2.9688e-04\n",
      "Epoch 22/100\n",
      "8000/8000 - 2s - loss: 0.0011 - mean_squared_error: 3.1555e-04 - val_loss: 0.0010 - val_mean_squared_error: 2.5360e-04\n",
      "Epoch 23/100\n",
      "8000/8000 - 2s - loss: 0.0011 - mean_squared_error: 2.7057e-04 - val_loss: 0.0010 - val_mean_squared_error: 2.4721e-04\n",
      "Epoch 24/100\n",
      "8000/8000 - 2s - loss: 0.0010 - mean_squared_error: 2.4994e-04 - val_loss: 0.0010 - val_mean_squared_error: 2.2869e-04\n",
      "Epoch 25/100\n",
      "8000/8000 - 2s - loss: 0.0010 - mean_squared_error: 2.3321e-04 - val_loss: 0.0010 - val_mean_squared_error: 2.1852e-04\n",
      "Epoch 26/100\n",
      "8000/8000 - 2s - loss: 0.0010 - mean_squared_error: 2.2047e-04 - val_loss: 0.0010 - val_mean_squared_error: 2.1216e-04\n",
      "Epoch 27/100\n",
      "8000/8000 - 2s - loss: 0.0010 - mean_squared_error: 2.1461e-04 - val_loss: 0.0010 - val_mean_squared_error: 2.0966e-04\n",
      "Epoch 28/100\n",
      "8000/8000 - 2s - loss: 0.0010 - mean_squared_error: 2.0857e-04 - val_loss: 9.9687e-04 - val_mean_squared_error: 2.0288e-04\n",
      "Epoch 29/100\n",
      "8000/8000 - 2s - loss: 9.9888e-04 - mean_squared_error: 2.0441e-04 - val_loss: 9.9621e-04 - val_mean_squared_error: 2.0176e-04\n",
      "Epoch 30/100\n",
      "8000/8000 - 2s - loss: 9.9728e-04 - mean_squared_error: 2.0283e-04 - val_loss: 9.9019e-04 - val_mean_squared_error: 1.9515e-04\n",
      "Epoch 31/100\n",
      "8000/8000 - 2s - loss: 9.9561e-04 - mean_squared_error: 2.0067e-04 - val_loss: 9.9556e-04 - val_mean_squared_error: 2.0089e-04\n",
      "Epoch 32/100\n",
      "8000/8000 - 2s - loss: 9.9553e-04 - mean_squared_error: 2.0101e-04 - val_loss: 9.8865e-04 - val_mean_squared_error: 1.9474e-04\n",
      "Epoch 33/100\n",
      "8000/8000 - 2s - loss: 9.9355e-04 - mean_squared_error: 1.9979e-04 - val_loss: 9.9648e-04 - val_mean_squared_error: 2.0329e-04\n",
      "Epoch 34/100\n",
      "8000/8000 - 2s - loss: 9.8936e-04 - mean_squared_error: 1.9653e-04 - val_loss: 9.8083e-04 - val_mean_squared_error: 1.8814e-04\n",
      "Epoch 35/100\n",
      "8000/8000 - 2s - loss: 9.8573e-04 - mean_squared_error: 1.9364e-04 - val_loss: 9.8441e-04 - val_mean_squared_error: 1.9225e-04\n",
      "Epoch 36/100\n",
      "8000/8000 - 2s - loss: 9.8406e-04 - mean_squared_error: 1.9221e-04 - val_loss: 9.8087e-04 - val_mean_squared_error: 1.8998e-04\n",
      "Epoch 37/100\n",
      "8000/8000 - 2s - loss: 9.8294e-04 - mean_squared_error: 1.9222e-04 - val_loss: 9.7695e-04 - val_mean_squared_error: 1.8694e-04\n",
      "Epoch 38/100\n",
      "8000/8000 - 2s - loss: 9.8227e-04 - mean_squared_error: 1.9258e-04 - val_loss: 9.7790e-04 - val_mean_squared_error: 1.8904e-04\n",
      "Epoch 39/100\n",
      "8000/8000 - 2s - loss: 9.7996e-04 - mean_squared_error: 1.9178e-04 - val_loss: 9.7412e-04 - val_mean_squared_error: 1.8644e-04\n",
      "Epoch 40/100\n",
      "8000/8000 - 2s - loss: 9.7822e-04 - mean_squared_error: 1.9066e-04 - val_loss: 9.7481e-04 - val_mean_squared_error: 1.8825e-04\n",
      "Epoch 41/100\n",
      "8000/8000 - 2s - loss: 9.7782e-04 - mean_squared_error: 1.9157e-04 - val_loss: 9.7101e-04 - val_mean_squared_error: 1.8493e-04\n",
      "Epoch 42/100\n",
      "8000/8000 - 2s - loss: 9.7612e-04 - mean_squared_error: 1.9064e-04 - val_loss: 9.7738e-04 - val_mean_squared_error: 1.9280e-04\n",
      "Epoch 43/100\n",
      "8000/8000 - 2s - loss: 9.7464e-04 - mean_squared_error: 1.9030e-04 - val_loss: 9.6894e-04 - val_mean_squared_error: 1.8502e-04\n"
     ]
    },
    {
     "name": "stdout",
     "output_type": "stream",
     "text": [
      "Epoch 44/100\n",
      "8000/8000 - 2s - loss: 9.7442e-04 - mean_squared_error: 1.9072e-04 - val_loss: 9.6786e-04 - val_mean_squared_error: 1.8508e-04\n",
      "Epoch 45/100\n",
      "8000/8000 - 2s - loss: 9.7358e-04 - mean_squared_error: 1.9123e-04 - val_loss: 9.6591e-04 - val_mean_squared_error: 1.8341e-04\n",
      "Epoch 46/100\n",
      "8000/8000 - 2s - loss: 9.7258e-04 - mean_squared_error: 1.9041e-04 - val_loss: 9.6551e-04 - val_mean_squared_error: 1.8354e-04\n",
      "Epoch 47/100\n",
      "8000/8000 - 2s - loss: 9.7073e-04 - mean_squared_error: 1.8948e-04 - val_loss: 9.6597e-04 - val_mean_squared_error: 1.8486e-04\n",
      "Epoch 48/100\n",
      "8000/8000 - 2s - loss: 9.6993e-04 - mean_squared_error: 1.8979e-04 - val_loss: 9.6712e-04 - val_mean_squared_error: 1.8694e-04\n",
      "Epoch 49/100\n",
      "8000/8000 - 2s - loss: 9.6854e-04 - mean_squared_error: 1.8856e-04 - val_loss: 9.7068e-04 - val_mean_squared_error: 1.9099e-04\n",
      "Epoch 50/100\n",
      "8000/8000 - 2s - loss: 9.6862e-04 - mean_squared_error: 1.8939e-04 - val_loss: 9.6395e-04 - val_mean_squared_error: 1.8567e-04\n",
      "Epoch 51/100\n",
      "8000/8000 - 2s - loss: 9.6830e-04 - mean_squared_error: 1.8991e-04 - val_loss: 9.6060e-04 - val_mean_squared_error: 1.8250e-04\n",
      "Epoch 52/100\n",
      "8000/8000 - 2s - loss: 9.6631e-04 - mean_squared_error: 1.8871e-04 - val_loss: 9.5969e-04 - val_mean_squared_error: 1.8221e-04\n",
      "Epoch 53/100\n",
      "8000/8000 - 2s - loss: 9.6545e-04 - mean_squared_error: 1.8829e-04 - val_loss: 9.6194e-04 - val_mean_squared_error: 1.8475e-04\n",
      "Epoch 54/100\n",
      "8000/8000 - 2s - loss: 9.6733e-04 - mean_squared_error: 1.9079e-04 - val_loss: 9.6356e-04 - val_mean_squared_error: 1.8747e-04\n",
      "Epoch 55/100\n",
      "8000/8000 - 2s - loss: 9.6681e-04 - mean_squared_error: 1.9105e-04 - val_loss: 9.7312e-04 - val_mean_squared_error: 1.9777e-04\n",
      "Epoch 56/100\n",
      "8000/8000 - 2s - loss: 9.6571e-04 - mean_squared_error: 1.9046e-04 - val_loss: 9.7681e-04 - val_mean_squared_error: 2.0216e-04\n",
      "Epoch 57/100\n",
      "8000/8000 - 2s - loss: 9.6504e-04 - mean_squared_error: 1.9015e-04 - val_loss: 9.5831e-04 - val_mean_squared_error: 1.8385e-04\n",
      "Epoch 58/100\n",
      "8000/8000 - 2s - loss: 9.6489e-04 - mean_squared_error: 1.9058e-04 - val_loss: 9.9966e-04 - val_mean_squared_error: 2.2546e-04\n",
      "Epoch 59/100\n",
      "8000/8000 - 2s - loss: 9.6324e-04 - mean_squared_error: 1.8884e-04 - val_loss: 9.5561e-04 - val_mean_squared_error: 1.8173e-04\n",
      "Epoch 60/100\n",
      "8000/8000 - 2s - loss: 9.6305e-04 - mean_squared_error: 1.8947e-04 - val_loss: 9.5822e-04 - val_mean_squared_error: 1.8495e-04\n",
      "Epoch 61/100\n",
      "8000/8000 - 2s - loss: 9.6045e-04 - mean_squared_error: 1.8690e-04 - val_loss: 9.6253e-04 - val_mean_squared_error: 1.8899e-04\n",
      "Epoch 62/100\n",
      "8000/8000 - 2s - loss: 9.6066e-04 - mean_squared_error: 1.8757e-04 - val_loss: 9.5418e-04 - val_mean_squared_error: 1.8140e-04\n",
      "Epoch 63/100\n",
      "8000/8000 - 2s - loss: 9.6307e-04 - mean_squared_error: 1.9074e-04 - val_loss: 9.7796e-04 - val_mean_squared_error: 2.0577e-04\n",
      "Epoch 64/100\n",
      "8000/8000 - 2s - loss: 9.5987e-04 - mean_squared_error: 1.8790e-04 - val_loss: 9.5402e-04 - val_mean_squared_error: 1.8178e-04\n",
      "Epoch 65/100\n",
      "8000/8000 - 2s - loss: 9.6111e-04 - mean_squared_error: 1.8926e-04 - val_loss: 9.5610e-04 - val_mean_squared_error: 1.8471e-04\n",
      "Epoch 66/100\n",
      "8000/8000 - 2s - loss: 9.5836e-04 - mean_squared_error: 1.8683e-04 - val_loss: 9.5319e-04 - val_mean_squared_error: 1.8138e-04\n",
      "Epoch 67/100\n",
      "8000/8000 - 2s - loss: 9.6078e-04 - mean_squared_error: 1.8929e-04 - val_loss: 9.5438e-04 - val_mean_squared_error: 1.8342e-04\n",
      "Epoch 68/100\n",
      "8000/8000 - 2s - loss: 9.5858e-04 - mean_squared_error: 1.8783e-04 - val_loss: 9.5883e-04 - val_mean_squared_error: 1.8838e-04\n",
      "Epoch 69/100\n",
      "8000/8000 - 2s - loss: 9.6004e-04 - mean_squared_error: 1.8954e-04 - val_loss: 9.5259e-04 - val_mean_squared_error: 1.8233e-04\n",
      "Epoch 70/100\n",
      "8000/8000 - 2s - loss: 9.5827e-04 - mean_squared_error: 1.8802e-04 - val_loss: 9.5784e-04 - val_mean_squared_error: 1.8813e-04\n",
      "Epoch 71/100\n",
      "8000/8000 - 2s - loss: 9.5798e-04 - mean_squared_error: 1.8769e-04 - val_loss: 9.5269e-04 - val_mean_squared_error: 1.8310e-04\n",
      "Epoch 72/100\n",
      "8000/8000 - 2s - loss: 9.5772e-04 - mean_squared_error: 1.8826e-04 - val_loss: 9.5451e-04 - val_mean_squared_error: 1.8472e-04\n",
      "Epoch 73/100\n",
      "8000/8000 - 2s - loss: 9.5792e-04 - mean_squared_error: 1.8811e-04 - val_loss: 9.5178e-04 - val_mean_squared_error: 1.8259e-04\n",
      "Epoch 74/100\n",
      "8000/8000 - 2s - loss: 9.5733e-04 - mean_squared_error: 1.8802e-04 - val_loss: 9.5189e-04 - val_mean_squared_error: 1.8265e-04\n",
      "Epoch 75/100\n",
      "8000/8000 - 2s - loss: 9.5664e-04 - mean_squared_error: 1.8665e-04 - val_loss: 9.5027e-04 - val_mean_squared_error: 1.8114e-04\n",
      "Epoch 76/100\n",
      "8000/8000 - 2s - loss: 9.5580e-04 - mean_squared_error: 1.8696e-04 - val_loss: 9.5382e-04 - val_mean_squared_error: 1.8490e-04\n",
      "Epoch 77/100\n",
      "8000/8000 - 2s - loss: 9.5652e-04 - mean_squared_error: 1.8769e-04 - val_loss: 9.5088e-04 - val_mean_squared_error: 1.8204e-04\n",
      "Epoch 78/100\n",
      "8000/8000 - 2s - loss: 9.5581e-04 - mean_squared_error: 1.8686e-04 - val_loss: 9.4924e-04 - val_mean_squared_error: 1.8058e-04\n",
      "Epoch 79/100\n",
      "8000/8000 - 2s - loss: 9.5679e-04 - mean_squared_error: 1.8859e-04 - val_loss: 9.5943e-04 - val_mean_squared_error: 1.9130e-04\n",
      "Epoch 80/100\n",
      "8000/8000 - 2s - loss: 9.5634e-04 - mean_squared_error: 1.8853e-04 - val_loss: 9.5192e-04 - val_mean_squared_error: 1.8344e-04\n",
      "Epoch 81/100\n",
      "8000/8000 - 2s - loss: 9.5512e-04 - mean_squared_error: 1.8676e-04 - val_loss: 9.4999e-04 - val_mean_squared_error: 1.8183e-04\n",
      "Epoch 82/100\n",
      "8000/8000 - 2s - loss: 9.5495e-04 - mean_squared_error: 1.8650e-04 - val_loss: 9.4903e-04 - val_mean_squared_error: 1.8149e-04\n",
      "Epoch 83/100\n",
      "8000/8000 - 2s - loss: 9.5493e-04 - mean_squared_error: 1.8692e-04 - val_loss: 9.4846e-04 - val_mean_squared_error: 1.8123e-04\n",
      "Epoch 84/100\n",
      "8000/8000 - 2s - loss: 9.5637e-04 - mean_squared_error: 1.8891e-04 - val_loss: 9.4999e-04 - val_mean_squared_error: 1.8260e-04\n",
      "Epoch 85/100\n",
      "8000/8000 - 2s - loss: 9.5609e-04 - mean_squared_error: 1.8917e-04 - val_loss: 9.5155e-04 - val_mean_squared_error: 1.8415e-04\n",
      "Epoch 86/100\n",
      "8000/8000 - 2s - loss: 9.5479e-04 - mean_squared_error: 1.8833e-04 - val_loss: 9.4868e-04 - val_mean_squared_error: 1.8086e-04\n",
      "Epoch 87/100\n",
      "8000/8000 - 2s - loss: 9.5562e-04 - mean_squared_error: 1.8826e-04 - val_loss: 9.5297e-04 - val_mean_squared_error: 1.8629e-04\n",
      "Epoch 88/100\n",
      "8000/8000 - 2s - loss: 9.5335e-04 - mean_squared_error: 1.8661e-04 - val_loss: 9.4683e-04 - val_mean_squared_error: 1.8013e-04\n",
      "Epoch 89/100\n",
      "8000/8000 - 2s - loss: 9.5469e-04 - mean_squared_error: 1.8823e-04 - val_loss: 9.4737e-04 - val_mean_squared_error: 1.8074e-04\n",
      "Epoch 90/100\n",
      "8000/8000 - 2s - loss: 9.5415e-04 - mean_squared_error: 1.8741e-04 - val_loss: 9.5117e-04 - val_mean_squared_error: 1.8498e-04\n",
      "Epoch 91/100\n",
      "8000/8000 - 2s - loss: 9.5414e-04 - mean_squared_error: 1.8773e-04 - val_loss: 9.5074e-04 - val_mean_squared_error: 1.8470e-04\n",
      "Epoch 92/100\n",
      "8000/8000 - 2s - loss: 9.5253e-04 - mean_squared_error: 1.8628e-04 - val_loss: 9.4673e-04 - val_mean_squared_error: 1.8075e-04\n",
      "Epoch 93/100\n",
      "8000/8000 - 2s - loss: 9.5463e-04 - mean_squared_error: 1.8880e-04 - val_loss: 9.4780e-04 - val_mean_squared_error: 1.8227e-04\n",
      "Epoch 94/100\n",
      "8000/8000 - 2s - loss: 9.5423e-04 - mean_squared_error: 1.8876e-04 - val_loss: 9.4697e-04 - val_mean_squared_error: 1.8092e-04\n",
      "Epoch 95/100\n",
      "8000/8000 - 2s - loss: 9.5226e-04 - mean_squared_error: 1.8650e-04 - val_loss: 9.5521e-04 - val_mean_squared_error: 1.8959e-04\n",
      "Epoch 96/100\n",
      "8000/8000 - 2s - loss: 9.5353e-04 - mean_squared_error: 1.8811e-04 - val_loss: 9.4804e-04 - val_mean_squared_error: 1.8237e-04\n",
      "Epoch 97/100\n",
      "8000/8000 - 2s - loss: 9.5209e-04 - mean_squared_error: 1.8670e-04 - val_loss: 9.4687e-04 - val_mean_squared_error: 1.8096e-04\n",
      "Epoch 98/100\n",
      "8000/8000 - 2s - loss: 9.5142e-04 - mean_squared_error: 1.8609e-04 - val_loss: 9.4619e-04 - val_mean_squared_error: 1.8070e-04\n",
      "Epoch 99/100\n",
      "8000/8000 - 2s - loss: 9.5133e-04 - mean_squared_error: 1.8558e-04 - val_loss: 9.4728e-04 - val_mean_squared_error: 1.8206e-04\n",
      "Epoch 100/100\n",
      "8000/8000 - 2s - loss: 9.5162e-04 - mean_squared_error: 1.8641e-04 - val_loss: 9.4563e-04 - val_mean_squared_error: 1.8085e-04\n",
      "Pruned model MSE: 0.00018886374891735613\n",
      "Saved pruned Keras model to: /var/folders/yp/nbwcv8453t3f3sx3xxwwycqm0000gn/T/tmpqdvhw10e.h5\n",
      "Size of gzipped baseline Keras model: 14632.00 bytes\n",
      "Train on 8000 samples, validate on 2000 samples\n",
      "Epoch 1/100\n",
      "8000/8000 - 5s - loss: 0.0568 - mean_squared_error: 0.0563 - val_loss: 0.0389 - val_mean_squared_error: 0.0384\n",
      "Epoch 2/100\n",
      "8000/8000 - 3s - loss: 0.0331 - mean_squared_error: 0.0326 - val_loss: 0.0294 - val_mean_squared_error: 0.0289\n",
      "Epoch 3/100\n",
      "8000/8000 - 2s - loss: 0.0254 - mean_squared_error: 0.0249 - val_loss: 0.0238 - val_mean_squared_error: 0.0233\n",
      "Epoch 4/100\n",
      "8000/8000 - 2s - loss: 0.0203 - mean_squared_error: 0.0198 - val_loss: 0.0193 - val_mean_squared_error: 0.0187\n",
      "Epoch 5/100\n",
      "8000/8000 - 2s - loss: 0.0169 - mean_squared_error: 0.0164 - val_loss: 0.0168 - val_mean_squared_error: 0.0162\n",
      "Epoch 6/100\n",
      "8000/8000 - 2s - loss: 0.0145 - mean_squared_error: 0.0140 - val_loss: 0.0146 - val_mean_squared_error: 0.0140\n",
      "Epoch 7/100\n",
      "8000/8000 - 2s - loss: 0.0129 - mean_squared_error: 0.0124 - val_loss: 0.0132 - val_mean_squared_error: 0.0126\n",
      "Epoch 8/100\n",
      "8000/8000 - 2s - loss: 0.0118 - mean_squared_error: 0.0112 - val_loss: 0.0121 - val_mean_squared_error: 0.0115\n",
      "Epoch 9/100\n",
      "8000/8000 - 2s - loss: 0.0109 - mean_squared_error: 0.0103 - val_loss: 0.0112 - val_mean_squared_error: 0.0106\n",
      "Epoch 10/100\n",
      "8000/8000 - 5s - loss: 0.0101 - mean_squared_error: 0.0096 - val_loss: 0.0105 - val_mean_squared_error: 0.0099\n",
      "Epoch 11/100\n",
      "8000/8000 - 2s - loss: 0.0096 - mean_squared_error: 0.0090 - val_loss: 0.0099 - val_mean_squared_error: 0.0093\n",
      "Epoch 12/100\n",
      "8000/8000 - 2s - loss: 0.0090 - mean_squared_error: 0.0084 - val_loss: 0.0094 - val_mean_squared_error: 0.0088\n",
      "Epoch 13/100\n",
      "8000/8000 - 2s - loss: 0.0086 - mean_squared_error: 0.0080 - val_loss: 0.0089 - val_mean_squared_error: 0.0084\n",
      "Epoch 14/100\n",
      "8000/8000 - 2s - loss: 0.0082 - mean_squared_error: 0.0076 - val_loss: 0.0085 - val_mean_squared_error: 0.0080\n",
      "Epoch 15/100\n",
      "8000/8000 - 2s - loss: 0.0079 - mean_squared_error: 0.0073 - val_loss: 0.0082 - val_mean_squared_error: 0.0076\n",
      "Epoch 16/100\n",
      "8000/8000 - 2s - loss: 0.0076 - mean_squared_error: 0.0070 - val_loss: 0.0079 - val_mean_squared_error: 0.0073\n",
      "Epoch 17/100\n",
      "8000/8000 - 2s - loss: 0.0073 - mean_squared_error: 0.0068 - val_loss: 0.0076 - val_mean_squared_error: 0.0071\n",
      "Epoch 18/100\n",
      "8000/8000 - 2s - loss: 0.0071 - mean_squared_error: 0.0065 - val_loss: 0.0074 - val_mean_squared_error: 0.0068\n",
      "Epoch 19/100\n",
      "8000/8000 - 2s - loss: 0.0069 - mean_squared_error: 0.0063 - val_loss: 0.0072 - val_mean_squared_error: 0.0066\n",
      "Epoch 20/100\n",
      "8000/8000 - 2s - loss: 0.0067 - mean_squared_error: 0.0061 - val_loss: 0.0069 - val_mean_squared_error: 0.0063\n",
      "Epoch 21/100\n",
      "8000/8000 - 2s - loss: 0.0065 - mean_squared_error: 0.0059 - val_loss: 0.0067 - val_mean_squared_error: 0.0061\n",
      "Epoch 22/100\n",
      "8000/8000 - 2s - loss: 0.0063 - mean_squared_error: 0.0057 - val_loss: 0.0065 - val_mean_squared_error: 0.0059\n",
      "Epoch 23/100\n",
      "8000/8000 - 2s - loss: 0.0061 - mean_squared_error: 0.0055 - val_loss: 0.0063 - val_mean_squared_error: 0.0057\n",
      "Epoch 24/100\n",
      "8000/8000 - 2s - loss: 0.0059 - mean_squared_error: 0.0053 - val_loss: 0.0061 - val_mean_squared_error: 0.0055\n",
      "Epoch 25/100\n",
      "8000/8000 - 2s - loss: 0.0058 - mean_squared_error: 0.0052 - val_loss: 0.0060 - val_mean_squared_error: 0.0054\n",
      "Epoch 26/100\n",
      "8000/8000 - 2s - loss: 0.0056 - mean_squared_error: 0.0050 - val_loss: 0.0058 - val_mean_squared_error: 0.0052\n",
      "Epoch 27/100\n",
      "8000/8000 - 2s - loss: 0.0055 - mean_squared_error: 0.0049 - val_loss: 0.0056 - val_mean_squared_error: 0.0051\n",
      "Epoch 28/100\n",
      "8000/8000 - 2s - loss: 0.0054 - mean_squared_error: 0.0048 - val_loss: 0.0055 - val_mean_squared_error: 0.0049\n",
      "Epoch 29/100\n",
      "8000/8000 - 2s - loss: 0.0052 - mean_squared_error: 0.0046 - val_loss: 0.0054 - val_mean_squared_error: 0.0048\n",
      "Epoch 30/100\n",
      "8000/8000 - 2s - loss: 0.0051 - mean_squared_error: 0.0045 - val_loss: 0.0052 - val_mean_squared_error: 0.0047\n",
      "Epoch 31/100\n",
      "8000/8000 - 2s - loss: 0.0050 - mean_squared_error: 0.0044 - val_loss: 0.0051 - val_mean_squared_error: 0.0045\n",
      "Epoch 32/100\n",
      "8000/8000 - 2s - loss: 0.0049 - mean_squared_error: 0.0043 - val_loss: 0.0050 - val_mean_squared_error: 0.0044\n",
      "Epoch 33/100\n",
      "8000/8000 - 2s - loss: 0.0048 - mean_squared_error: 0.0042 - val_loss: 0.0049 - val_mean_squared_error: 0.0043\n",
      "Epoch 34/100\n",
      "8000/8000 - 2s - loss: 0.0047 - mean_squared_error: 0.0041 - val_loss: 0.0048 - val_mean_squared_error: 0.0042\n",
      "Epoch 35/100\n",
      "8000/8000 - 2s - loss: 0.0046 - mean_squared_error: 0.0040 - val_loss: 0.0047 - val_mean_squared_error: 0.0041\n",
      "Epoch 36/100\n",
      "8000/8000 - 2s - loss: 0.0045 - mean_squared_error: 0.0039 - val_loss: 0.0046 - val_mean_squared_error: 0.0040\n",
      "Epoch 37/100\n",
      "8000/8000 - 2s - loss: 0.0044 - mean_squared_error: 0.0038 - val_loss: 0.0046 - val_mean_squared_error: 0.0040\n",
      "Epoch 38/100\n",
      "8000/8000 - 2s - loss: 0.0043 - mean_squared_error: 0.0038 - val_loss: 0.0045 - val_mean_squared_error: 0.0039\n",
      "Epoch 39/100\n",
      "8000/8000 - 2s - loss: 0.0043 - mean_squared_error: 0.0037 - val_loss: 0.0044 - val_mean_squared_error: 0.0038\n",
      "Epoch 40/100\n",
      "8000/8000 - 2s - loss: 0.0042 - mean_squared_error: 0.0036 - val_loss: 0.0044 - val_mean_squared_error: 0.0038\n",
      "Epoch 41/100\n",
      "8000/8000 - 2s - loss: 0.0042 - mean_squared_error: 0.0036 - val_loss: 0.0043 - val_mean_squared_error: 0.0037\n",
      "Epoch 42/100\n",
      "8000/8000 - 2s - loss: 0.0041 - mean_squared_error: 0.0035 - val_loss: 0.0043 - val_mean_squared_error: 0.0037\n",
      "Epoch 43/100\n",
      "8000/8000 - 2s - loss: 0.0041 - mean_squared_error: 0.0035 - val_loss: 0.0042 - val_mean_squared_error: 0.0036\n",
      "Epoch 44/100\n",
      "8000/8000 - 2s - loss: 0.0041 - mean_squared_error: 0.0035 - val_loss: 0.0042 - val_mean_squared_error: 0.0036\n",
      "Epoch 45/100\n",
      "8000/8000 - 2s - loss: 0.0040 - mean_squared_error: 0.0034 - val_loss: 0.0042 - val_mean_squared_error: 0.0035\n",
      "Epoch 46/100\n",
      "8000/8000 - 2s - loss: 0.0040 - mean_squared_error: 0.0034 - val_loss: 0.0041 - val_mean_squared_error: 0.0035\n",
      "Epoch 47/100\n",
      "8000/8000 - 2s - loss: 0.0039 - mean_squared_error: 0.0033 - val_loss: 0.0041 - val_mean_squared_error: 0.0035\n",
      "Epoch 48/100\n",
      "8000/8000 - 2s - loss: 0.0039 - mean_squared_error: 0.0033 - val_loss: 0.0040 - val_mean_squared_error: 0.0034\n",
      "Epoch 49/100\n",
      "8000/8000 - 2s - loss: 0.0039 - mean_squared_error: 0.0033 - val_loss: 0.0040 - val_mean_squared_error: 0.0034\n",
      "Epoch 50/100\n",
      "8000/8000 - 2s - loss: 0.0039 - mean_squared_error: 0.0033 - val_loss: 0.0040 - val_mean_squared_error: 0.0034\n",
      "Epoch 51/100\n",
      "8000/8000 - 2s - loss: 0.0038 - mean_squared_error: 0.0032 - val_loss: 0.0040 - val_mean_squared_error: 0.0034\n",
      "Epoch 52/100\n",
      "8000/8000 - 2s - loss: 0.0038 - mean_squared_error: 0.0032 - val_loss: 0.0039 - val_mean_squared_error: 0.0033\n",
      "Epoch 53/100\n",
      "8000/8000 - 2s - loss: 0.0038 - mean_squared_error: 0.0031 - val_loss: 0.0039 - val_mean_squared_error: 0.0033\n",
      "Epoch 54/100\n",
      "8000/8000 - 2s - loss: 0.0037 - mean_squared_error: 0.0031 - val_loss: 0.0038 - val_mean_squared_error: 0.0032\n",
      "Epoch 55/100\n",
      "8000/8000 - 2s - loss: 0.0037 - mean_squared_error: 0.0031 - val_loss: 0.0038 - val_mean_squared_error: 0.0032\n",
      "Epoch 56/100\n",
      "8000/8000 - 2s - loss: 0.0037 - mean_squared_error: 0.0031 - val_loss: 0.0038 - val_mean_squared_error: 0.0032\n",
      "Epoch 57/100\n",
      "8000/8000 - 2s - loss: 0.0036 - mean_squared_error: 0.0030 - val_loss: 0.0037 - val_mean_squared_error: 0.0031\n",
      "Epoch 58/100\n",
      "8000/8000 - 2s - loss: 0.0036 - mean_squared_error: 0.0030 - val_loss: 0.0037 - val_mean_squared_error: 0.0031\n",
      "Epoch 59/100\n",
      "8000/8000 - 2s - loss: 0.0036 - mean_squared_error: 0.0030 - val_loss: 0.0037 - val_mean_squared_error: 0.0031\n",
      "Epoch 60/100\n",
      "8000/8000 - 2s - loss: 0.0035 - mean_squared_error: 0.0029 - val_loss: 0.0036 - val_mean_squared_error: 0.0030\n",
      "Epoch 61/100\n",
      "8000/8000 - 2s - loss: 0.0035 - mean_squared_error: 0.0029 - val_loss: 0.0036 - val_mean_squared_error: 0.0030\n",
      "Epoch 62/100\n",
      "8000/8000 - 2s - loss: 0.0035 - mean_squared_error: 0.0029 - val_loss: 0.0036 - val_mean_squared_error: 0.0030\n",
      "Epoch 63/100\n",
      "8000/8000 - 2s - loss: 0.0035 - mean_squared_error: 0.0028 - val_loss: 0.0036 - val_mean_squared_error: 0.0029\n",
      "Epoch 64/100\n",
      "8000/8000 - 2s - loss: 0.0034 - mean_squared_error: 0.0028 - val_loss: 0.0035 - val_mean_squared_error: 0.0029\n",
      "Epoch 65/100\n",
      "8000/8000 - 2s - loss: 0.0034 - mean_squared_error: 0.0028 - val_loss: 0.0035 - val_mean_squared_error: 0.0029\n",
      "Epoch 66/100\n",
      "8000/8000 - 2s - loss: 0.0034 - mean_squared_error: 0.0028 - val_loss: 0.0035 - val_mean_squared_error: 0.0029\n"
     ]
    },
    {
     "name": "stdout",
     "output_type": "stream",
     "text": [
      "Epoch 67/100\n",
      "8000/8000 - 2s - loss: 0.0034 - mean_squared_error: 0.0028 - val_loss: 0.0035 - val_mean_squared_error: 0.0028\n",
      "Epoch 68/100\n",
      "8000/8000 - 2s - loss: 0.0034 - mean_squared_error: 0.0027 - val_loss: 0.0034 - val_mean_squared_error: 0.0028\n",
      "Epoch 69/100\n",
      "8000/8000 - 2s - loss: 0.0033 - mean_squared_error: 0.0027 - val_loss: 0.0034 - val_mean_squared_error: 0.0028\n",
      "Epoch 70/100\n",
      "8000/8000 - 2s - loss: 0.0033 - mean_squared_error: 0.0027 - val_loss: 0.0034 - val_mean_squared_error: 0.0028\n",
      "Epoch 71/100\n",
      "8000/8000 - 2s - loss: 0.0033 - mean_squared_error: 0.0027 - val_loss: 0.0034 - val_mean_squared_error: 0.0028\n",
      "Epoch 72/100\n",
      "8000/8000 - 2s - loss: 0.0033 - mean_squared_error: 0.0026 - val_loss: 0.0033 - val_mean_squared_error: 0.0027\n",
      "Epoch 73/100\n",
      "8000/8000 - 2s - loss: 0.0032 - mean_squared_error: 0.0026 - val_loss: 0.0033 - val_mean_squared_error: 0.0027\n",
      "Epoch 74/100\n",
      "8000/8000 - 2s - loss: 0.0032 - mean_squared_error: 0.0026 - val_loss: 0.0033 - val_mean_squared_error: 0.0027\n",
      "Epoch 75/100\n",
      "8000/8000 - 2s - loss: 0.0032 - mean_squared_error: 0.0026 - val_loss: 0.0033 - val_mean_squared_error: 0.0027\n",
      "Epoch 76/100\n",
      "8000/8000 - 2s - loss: 0.0032 - mean_squared_error: 0.0026 - val_loss: 0.0033 - val_mean_squared_error: 0.0027\n",
      "Epoch 77/100\n",
      "8000/8000 - 2s - loss: 0.0032 - mean_squared_error: 0.0026 - val_loss: 0.0032 - val_mean_squared_error: 0.0026\n",
      "Epoch 78/100\n",
      "8000/8000 - 2s - loss: 0.0032 - mean_squared_error: 0.0025 - val_loss: 0.0032 - val_mean_squared_error: 0.0026\n",
      "Epoch 79/100\n",
      "8000/8000 - 2s - loss: 0.0031 - mean_squared_error: 0.0025 - val_loss: 0.0032 - val_mean_squared_error: 0.0026\n",
      "Epoch 80/100\n",
      "8000/8000 - 2s - loss: 0.0031 - mean_squared_error: 0.0025 - val_loss: 0.0032 - val_mean_squared_error: 0.0026\n",
      "Epoch 81/100\n",
      "8000/8000 - 2s - loss: 0.0031 - mean_squared_error: 0.0025 - val_loss: 0.0032 - val_mean_squared_error: 0.0026\n",
      "Epoch 82/100\n",
      "8000/8000 - 2s - loss: 0.0031 - mean_squared_error: 0.0025 - val_loss: 0.0032 - val_mean_squared_error: 0.0025\n",
      "Epoch 83/100\n",
      "8000/8000 - 2s - loss: 0.0031 - mean_squared_error: 0.0025 - val_loss: 0.0031 - val_mean_squared_error: 0.0025\n",
      "Epoch 84/100\n",
      "8000/8000 - 2s - loss: 0.0031 - mean_squared_error: 0.0024 - val_loss: 0.0031 - val_mean_squared_error: 0.0025\n",
      "Epoch 85/100\n",
      "8000/8000 - 4s - loss: 0.0030 - mean_squared_error: 0.0024 - val_loss: 0.0031 - val_mean_squared_error: 0.0025\n",
      "Epoch 86/100\n",
      "8000/8000 - 2s - loss: 0.0030 - mean_squared_error: 0.0024 - val_loss: 0.0031 - val_mean_squared_error: 0.0025\n",
      "Epoch 87/100\n",
      "8000/8000 - 2s - loss: 0.0030 - mean_squared_error: 0.0024 - val_loss: 0.0031 - val_mean_squared_error: 0.0024\n",
      "Epoch 88/100\n",
      "8000/8000 - 2s - loss: 0.0030 - mean_squared_error: 0.0024 - val_loss: 0.0030 - val_mean_squared_error: 0.0024\n",
      "Epoch 89/100\n",
      "8000/8000 - 2s - loss: 0.0030 - mean_squared_error: 0.0024 - val_loss: 0.0030 - val_mean_squared_error: 0.0024\n",
      "Epoch 90/100\n",
      "8000/8000 - 2s - loss: 0.0030 - mean_squared_error: 0.0023 - val_loss: 0.0030 - val_mean_squared_error: 0.0024\n",
      "Epoch 91/100\n",
      "8000/8000 - 2s - loss: 0.0030 - mean_squared_error: 0.0023 - val_loss: 0.0030 - val_mean_squared_error: 0.0024\n",
      "Epoch 92/100\n",
      "8000/8000 - 2s - loss: 0.0029 - mean_squared_error: 0.0023 - val_loss: 0.0031 - val_mean_squared_error: 0.0024\n",
      "Epoch 93/100\n",
      "8000/8000 - 2s - loss: 0.0029 - mean_squared_error: 0.0023 - val_loss: 0.0030 - val_mean_squared_error: 0.0024\n",
      "Epoch 94/100\n",
      "8000/8000 - 2s - loss: 0.0029 - mean_squared_error: 0.0023 - val_loss: 0.0030 - val_mean_squared_error: 0.0023\n",
      "Epoch 95/100\n",
      "8000/8000 - 2s - loss: 0.0029 - mean_squared_error: 0.0023 - val_loss: 0.0030 - val_mean_squared_error: 0.0023\n",
      "Epoch 96/100\n",
      "8000/8000 - 2s - loss: 0.0029 - mean_squared_error: 0.0023 - val_loss: 0.0030 - val_mean_squared_error: 0.0023\n",
      "Epoch 97/100\n",
      "8000/8000 - 2s - loss: 0.0029 - mean_squared_error: 0.0023 - val_loss: 0.0030 - val_mean_squared_error: 0.0023\n",
      "Epoch 98/100\n",
      "8000/8000 - 2s - loss: 0.0029 - mean_squared_error: 0.0023 - val_loss: 0.0029 - val_mean_squared_error: 0.0023\n",
      "Epoch 99/100\n",
      "8000/8000 - 2s - loss: 0.0029 - mean_squared_error: 0.0023 - val_loss: 0.0029 - val_mean_squared_error: 0.0023\n",
      "Epoch 100/100\n",
      "8000/8000 - 2s - loss: 0.0029 - mean_squared_error: 0.0023 - val_loss: 0.0029 - val_mean_squared_error: 0.0023\n",
      "Pruned model MSE: 0.002317904494702816\n",
      "Saved pruned Keras model to: /var/folders/yp/nbwcv8453t3f3sx3xxwwycqm0000gn/T/tmp9ua9i4ra.h5\n",
      "Size of gzipped baseline Keras model: 9066.00 bytes\n"
     ]
    }
   ],
   "source": [
    "def prune_and_quantize(desired_sparsity, model):\n",
    "    # quantized_bits(no., integer bits, symmetric)\n",
    "    config = {\n",
    "      \"QDense\": {\n",
    "          \"kernel_quantizer\": \"quantized_bits(12,0,1)\",\n",
    "          \"bias_quantizer\": \"quantized_bits(12)\"\n",
    "      },\n",
    "      \"QActivation\": { \"relu\": \"quantized_bits(12)\" },\n",
    "    }\n",
    "    qmodel = model_quantize(model, config, 16, transfer_weights=True)\n",
    "    pruning_params = {\n",
    "      'pruning_schedule': tfmot.sparsity.keras.ConstantSparsity(target_sparsity=desired_sparsity, begin_step=0, end_step=-1, frequency=100)\n",
    "    }\n",
    "\n",
    "    # take the 1 layer hyermodel and prune it\n",
    "    pruned_q_model = prune_low_magnitude(qmodel, **pruning_params)\n",
    "    # 'prune_low_magnitude' requires a recompile.\n",
    "    pruned_q_model.compile(optimizer=keras.optimizers.Adam(),\n",
    "                        loss=keras.losses.MeanSquaredError(), metrics=['mean_squared_error'])\n",
    "    callbacks = [\n",
    "      tfmot.sparsity.keras.UpdatePruningStep(),\n",
    "    ]\n",
    "    pruned_q_model.fit(X_scale, Y_scale,\n",
    "                      batch_size=batch_size, epochs=epochs, validation_split=validation_split, callbacks=callbacks, verbose=2)\n",
    "    # evaluate performance\n",
    "    eval_pruned_model = pruned_q_model.evaluate(X_test, Y_test, verbose=0)[1]\n",
    "    print(f'Pruned model MSE: {eval_pruned_model}')\n",
    "    qmodel_stripped = tfmot.sparsity.keras.strip_pruning(pruned_q_model)\n",
    "    _, pruned_keras_file = tempfile.mkstemp('.h5')\n",
    "    tf.keras.models.save_model(qmodel_stripped, pruned_keras_file, include_optimizer=False)\n",
    "    print('Saved pruned Keras model to:', pruned_keras_file)\n",
    "    # Size of model after pruning\n",
    "    size = get_gzipped_model_size(pruned_keras_file)\n",
    "    print(\"Size of gzipped baseline Keras model: %.2f bytes\" % (size))\n",
    "    return eval_pruned_model, size\n",
    "\n",
    "eval_pruned_results = []\n",
    "size_results = []\n",
    "pruning_list = [0.2, 0.4, 0.6, 0.8]\n",
    "for i in pruning_list:\n",
    "    eval_pruned_model, size = prune_and_quantize(i, model)\n",
    "    eval_pruned_results.append(eval_pruned_model)\n",
    "    size_results.append(size)\n",
    "\n",
    "file_path = '/Users/jackkelly/Desktop/Building_Model/Data_NEW/sparsity_MSE_data_v2.csv'\n",
    "add_row_of_data(file_path, eval_pruned_results)\n",
    "file_path = '/Users/jackkelly/Desktop/Building_Model/Data_NEW/sparsity_size_data_v2.csv'\n",
    "add_row_of_data(file_path, size_results)"
   ]
  },
  {
   "cell_type": "markdown",
   "metadata": {},
   "source": [
    "# Analysing Data"
   ]
  },
  {
   "cell_type": "code",
   "execution_count": 81,
   "metadata": {},
   "outputs": [
    {
     "data": {
      "text/plain": [
       "array([[0.00022777, 0.00020082, 0.00018896, 0.00228342],\n",
       "       [0.00023086, 0.00025096, 0.00018886, 0.0023179 ]])"
      ]
     },
     "execution_count": 81,
     "metadata": {},
     "output_type": "execute_result"
    }
   ],
   "source": [
    "df = pd.read_csv('/Users/jackkelly/Desktop/Building_Model/Data_NEW/sparsity_MSE_data_v2.csv')\n",
    "MSE_values = df.values\n",
    "MSE_values"
   ]
  },
  {
   "cell_type": "code",
   "execution_count": 82,
   "metadata": {},
   "outputs": [
    {
     "data": {
      "text/plain": [
       "array([[22635, 18901, 14640,  9134],\n",
       "       [22638, 18935, 14632,  9066]])"
      ]
     },
     "execution_count": 82,
     "metadata": {},
     "output_type": "execute_result"
    }
   ],
   "source": [
    "df = pd.read_csv('/Users/jackkelly/Desktop/Building_Model/Data_NEW/sparsity_size_data_v2.csv')\n",
    "size_values = df.values\n",
    "size_values"
   ]
  },
  {
   "cell_type": "code",
   "execution_count": 64,
   "metadata": {},
   "outputs": [
    {
     "name": "stderr",
     "output_type": "stream",
     "text": [
      "/opt/anaconda3/envs/project/lib/python3.6/site-packages/ipykernel_launcher.py:10: UserWarning: Matplotlib is currently using agg, which is a non-GUI backend, so cannot show the figure.\n",
      "  # Remove the CWD from sys.path while we load stuff.\n"
     ]
    }
   ],
   "source": [
    "plt.figure(0)\n",
    "plt.title('Mean squared error vs. the number of epochs')\n",
    "plt.plot(pruning_list, MSE_values[0,:])\n",
    "# plt.plot(hist.history['val_mean_squared_error'], label='Validation')\n",
    "plt.ylabel('MSE')\n",
    "plt.xlabel('Sparsity')\n",
    "# plt.legend()\n",
    "name = '/Users/jackkelly/Desktop/Building_Model/Figures/sparsity_plot.svg'\n",
    "plt.savefig(name, bbox_inches='tight', format='svg', dpi=1200)\n",
    "plt.show()"
   ]
  },
  {
   "cell_type": "code",
   "execution_count": 65,
   "metadata": {},
   "outputs": [
    {
     "name": "stderr",
     "output_type": "stream",
     "text": [
      "/opt/anaconda3/envs/project/lib/python3.6/site-packages/ipykernel_launcher.py:10: UserWarning: Matplotlib is currently using agg, which is a non-GUI backend, so cannot show the figure.\n",
      "  # Remove the CWD from sys.path while we load stuff.\n"
     ]
    }
   ],
   "source": [
    "plt.figure(1)\n",
    "plt.title('Mean squared error vs. the number of epochs')\n",
    "plt.plot(pruning_list, size_values[0,:])\n",
    "# plt.plot(hist.history['val_mean_squared_error'], label='Validation')\n",
    "plt.ylabel('MSE')\n",
    "plt.xlabel('Sparsity')\n",
    "# plt.legend()\n",
    "name = '/Users/jackkelly/Desktop/Building_Model/Figures/size_plot.svg'\n",
    "plt.savefig(name, bbox_inches='tight', format='svg', dpi=1200)\n",
    "plt.show()"
   ]
  }
 ],
 "metadata": {
  "kernelspec": {
   "display_name": "Python 3",
   "language": "python",
   "name": "python3"
  },
  "language_info": {
   "codemirror_mode": {
    "name": "ipython",
    "version": 3
   },
   "file_extension": ".py",
   "mimetype": "text/x-python",
   "name": "python",
   "nbconvert_exporter": "python",
   "pygments_lexer": "ipython3",
   "version": "3.6.13"
  }
 },
 "nbformat": 4,
 "nbformat_minor": 4
}
