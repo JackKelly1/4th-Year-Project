{
 "cells": [
  {
   "cell_type": "code",
   "execution_count": 1,
   "metadata": {},
   "outputs": [
    {
     "name": "stderr",
     "output_type": "stream",
     "text": [
      "Using TensorFlow backend.\n"
     ]
    }
   ],
   "source": [
    "import tensorflow as tf\n",
    "import pandas as pd\n",
    "from sklearn import preprocessing\n",
    "from sklearn.model_selection import train_test_split\n",
    "from sklearn.utils import shuffle\n",
    "from sklearn.metrics import mean_squared_error\n",
    "from keras.models import Sequential\n",
    "from keras.layers import Dense\n",
    "from keras import regularizers\n",
    "from tensorflow import keras\n",
    "import matplotlib.pyplot as plt\n",
    "import numpy as np\n",
    "import time\n",
    "import h5py\n",
    "import kerastuner as kt"
   ]
  },
  {
   "cell_type": "code",
   "execution_count": 2,
   "metadata": {},
   "outputs": [],
   "source": [
    "### IMPORT, RAMDOMIZE AND SCALE DATA ###\n",
    "\n",
    "def processing_data(N_channels, file_path):\n",
    "    df = pd.read_csv(file_path)\n",
    "    # dataset\n",
    "    dataset = df.values\n",
    "    # input power and channels statuses\n",
    "    X = dataset[:,0:N_channels+1]\n",
    "    # channel SNRs\n",
    "    Y = dataset[:,N_channels+1:2*N_channels+1]\n",
    "    # shuffle necessary because while shuffle=True in .fit() shuffles the data, it splits into different datasets first\n",
    "    X, Y = shuffle(X, Y)\n",
    "    # scaling between 0 and 1\n",
    "    min_max_scaler = preprocessing.MinMaxScaler()\n",
    "    X = min_max_scaler.fit_transform(X)\n",
    "    Y = min_max_scaler.fit_transform(Y)\n",
    "    return X, Y"
   ]
  },
  {
   "cell_type": "code",
   "execution_count": 3,
   "metadata": {},
   "outputs": [],
   "source": [
    "### RECEIVE 20,000 PIECES OF DATA ###\n",
    "\n",
    "N_channels = 40\n",
    "file_path = '/Users/jackkelly/Desktop/Building_Model/Data/40_channels_data_10000.csv'\n",
    "X_scale, Y_scale = processing_data(N_channels, file_path)\n",
    "X_scale, X_test, Y_scale, Y_test = train_test_split(X_scale, Y_scale, test_size=0.15)"
   ]
  },
  {
   "cell_type": "code",
   "execution_count": 4,
   "metadata": {},
   "outputs": [],
   "source": [
    "### FUNCTION TAKES HYPERPARAMETERS AND RETURNS COMPILED MODEL ###\n",
    "\n",
    "def model_builder(hp):\n",
    "    model = keras.Sequential()\n",
    "    model.add(keras.layers.InputLayer(input_shape=N_channels+1))\n",
    "#     hp_regularizer = hp.Choice('kernel_regularizer', values=[1e-4, 1e-5, 1e-6])\n",
    "    for i in range(hp.Int('n_layers', 1, 2)):\n",
    "#         model.add(keras.layers.Dense(hp.Int(f'hidden_{i}_units', min_value=10, max_value=320, step=1), kernel_regularizer=regularizers.l2(hp_regularizer)))\n",
    "        model.add(keras.layers.Dense(hp.Int(f'hidden_{i}_units', min_value=10, max_value=320, step=1)))\n",
    "    model.add(keras.layers.Dense(N_channels, activation='sigmoid'))\n",
    "    # Tune the learning rate for the optimizer\n",
    "    # Choose an optimal value from 0.01, 0.001, or 0.0001\n",
    "    hp_learning_rate = hp.Choice('learning_rate', values=[1e-2, 1e-3, 1e-4])\n",
    "\n",
    "    model.compile(optimizer=keras.optimizers.Adam(learning_rate=hp_learning_rate),\n",
    "                loss=keras.losses.MeanSquaredError(), metrics=['mean_squared_error'])\n",
    "    return model"
   ]
  },
  {
   "cell_type": "code",
   "execution_count": 5,
   "metadata": {},
   "outputs": [],
   "source": [
    "### CREATE HYPERBAND TUNER ###\n",
    "\n",
    "# The maximum number of epochs to train one model. It is recommended to \n",
    "# set this to a value slightly higher than the expected time \n",
    "# to convergence for your largest Model, and to use early stopping \n",
    "# during training\n",
    "tuner = kt.Hyperband(model_builder,\n",
    "                     objective=kt.Objective('mean_squared_error', 'min'),\n",
    "                     max_epochs=25,\n",
    "                     factor=3,\n",
    "                     directory='/Users/jackkelly/Desktop/Building_Model/',\n",
    "                     project_name='intro_to_kt_layers',\n",
    "                     overwrite=True)\n",
    "# stop_early = tf.keras.callbacks.EarlyStopping(monitor='val_loss', patience=5)\n",
    "stop_early = tf.keras.callbacks.EarlyStopping(monitor='mean_squared_error', patience=5)"
   ]
  },
  {
   "cell_type": "code",
   "execution_count": 6,
   "metadata": {},
   "outputs": [
    {
     "name": "stdout",
     "output_type": "stream",
     "text": [
      "Train on 7225 samples, validate on 1275 samples\n",
      "Epoch 1/3\n",
      "7225/7225 - 2s - loss: 0.1472 - mean_squared_error: 0.1472 - val_loss: 0.1064 - val_mean_squared_error: 0.1064\n",
      "Epoch 2/3\n",
      "7225/7225 - 1s - loss: 0.0999 - mean_squared_error: 0.0999 - val_loss: 0.0943 - val_mean_squared_error: 0.0943\n",
      "Epoch 3/3\n",
      "7225/7225 - 1s - loss: 0.0951 - mean_squared_error: 0.0951 - val_loss: 0.0935 - val_mean_squared_error: 0.0935\n"
     ]
    },
    {
     "data": {
      "text/html": [
       "<span style=\"color:#4527A0\"><h1 style=\"font-size:18px\">Trial complete</h1></span>"
      ],
      "text/plain": [
       "<IPython.core.display.HTML object>"
      ]
     },
     "metadata": {},
     "output_type": "display_data"
    },
    {
     "data": {
      "text/html": [
       "<span style=\"color:#4527A0\"><h1 style=\"font-size:18px\">Trial summary</h1></span>"
      ],
      "text/plain": [
       "<IPython.core.display.HTML object>"
      ]
     },
     "metadata": {},
     "output_type": "display_data"
    },
    {
     "data": {
      "text/html": [
       "<span style=\"color:cyan\"> |-Trial ID: f7ef4561768ab9c334aee8740d756c89</span>"
      ],
      "text/plain": [
       "<IPython.core.display.HTML object>"
      ]
     },
     "metadata": {},
     "output_type": "display_data"
    },
    {
     "data": {
      "text/html": [
       "<span style=\"color:cyan\"> |-Score: 0.0951235219836235</span>"
      ],
      "text/plain": [
       "<IPython.core.display.HTML object>"
      ]
     },
     "metadata": {},
     "output_type": "display_data"
    },
    {
     "data": {
      "text/html": [
       "<span style=\"color:cyan\"> |-Best step: 0</span>"
      ],
      "text/plain": [
       "<IPython.core.display.HTML object>"
      ]
     },
     "metadata": {},
     "output_type": "display_data"
    },
    {
     "data": {
      "text/html": [
       "<span style=\"color:#7E57C2\"><h2 style=\"font-size:16px\">Hyperparameters:</h2></span>"
      ],
      "text/plain": [
       "<IPython.core.display.HTML object>"
      ]
     },
     "metadata": {},
     "output_type": "display_data"
    },
    {
     "data": {
      "text/html": [
       "<span style=\"color:cyan\"> |-hidden_0_units: 55</span>"
      ],
      "text/plain": [
       "<IPython.core.display.HTML object>"
      ]
     },
     "metadata": {},
     "output_type": "display_data"
    },
    {
     "data": {
      "text/html": [
       "<span style=\"color:blue\"> |-hidden_1_units: 10</span>"
      ],
      "text/plain": [
       "<IPython.core.display.HTML object>"
      ]
     },
     "metadata": {},
     "output_type": "display_data"
    },
    {
     "data": {
      "text/html": [
       "<span style=\"color:cyan\"> |-learning_rate: 0.001</span>"
      ],
      "text/plain": [
       "<IPython.core.display.HTML object>"
      ]
     },
     "metadata": {},
     "output_type": "display_data"
    },
    {
     "data": {
      "text/html": [
       "<span style=\"color:blue\"> |-n_layers: 2</span>"
      ],
      "text/plain": [
       "<IPython.core.display.HTML object>"
      ]
     },
     "metadata": {},
     "output_type": "display_data"
    },
    {
     "data": {
      "text/html": [
       "<span style=\"color:cyan\"> |-tuner/bracket: 2</span>"
      ],
      "text/plain": [
       "<IPython.core.display.HTML object>"
      ]
     },
     "metadata": {},
     "output_type": "display_data"
    },
    {
     "data": {
      "text/html": [
       "<span style=\"color:blue\"> |-tuner/epochs: 3</span>"
      ],
      "text/plain": [
       "<IPython.core.display.HTML object>"
      ]
     },
     "metadata": {},
     "output_type": "display_data"
    },
    {
     "data": {
      "text/html": [
       "<span style=\"color:cyan\"> |-tuner/initial_epoch: 0</span>"
      ],
      "text/plain": [
       "<IPython.core.display.HTML object>"
      ]
     },
     "metadata": {},
     "output_type": "display_data"
    },
    {
     "data": {
      "text/html": [
       "<span style=\"color:blue\"> |-tuner/round: 0</span>"
      ],
      "text/plain": [
       "<IPython.core.display.HTML object>"
      ]
     },
     "metadata": {},
     "output_type": "display_data"
    },
    {
     "name": "stdout",
     "output_type": "stream",
     "text": [
      "Train on 7225 samples, validate on 1275 samples\n",
      "Epoch 1/3\n",
      "7225/7225 - 2s - loss: 0.0161 - mean_squared_error: 0.0161 - val_loss: 5.5420e-04 - val_mean_squared_error: 5.5420e-04\n",
      "Epoch 2/3\n",
      "7225/7225 - 1s - loss: 7.7594e-04 - mean_squared_error: 7.7594e-04 - val_loss: 0.0018 - val_mean_squared_error: 0.0018\n",
      "Epoch 3/3\n",
      "7225/7225 - 1s - loss: 8.1083e-04 - mean_squared_error: 8.1083e-04 - val_loss: 0.0011 - val_mean_squared_error: 0.0011\n"
     ]
    },
    {
     "data": {
      "text/html": [
       "<span style=\"color:#4527A0\"><h1 style=\"font-size:18px\">Trial complete</h1></span>"
      ],
      "text/plain": [
       "<IPython.core.display.HTML object>"
      ]
     },
     "metadata": {},
     "output_type": "display_data"
    },
    {
     "data": {
      "text/html": [
       "<span style=\"color:#4527A0\"><h1 style=\"font-size:18px\">Trial summary</h1></span>"
      ],
      "text/plain": [
       "<IPython.core.display.HTML object>"
      ]
     },
     "metadata": {},
     "output_type": "display_data"
    },
    {
     "data": {
      "text/html": [
       "<span style=\"color:cyan\"> |-Trial ID: 5ca1e18ca32065589ab61c9700f97c8c</span>"
      ],
      "text/plain": [
       "<IPython.core.display.HTML object>"
      ]
     },
     "metadata": {},
     "output_type": "display_data"
    },
    {
     "data": {
      "text/html": [
       "<span style=\"color:cyan\"> |-Score: 0.0007759399595670402</span>"
      ],
      "text/plain": [
       "<IPython.core.display.HTML object>"
      ]
     },
     "metadata": {},
     "output_type": "display_data"
    },
    {
     "data": {
      "text/html": [
       "<span style=\"color:cyan\"> |-Best step: 0</span>"
      ],
      "text/plain": [
       "<IPython.core.display.HTML object>"
      ]
     },
     "metadata": {},
     "output_type": "display_data"
    },
    {
     "data": {
      "text/html": [
       "<span style=\"color:#7E57C2\"><h2 style=\"font-size:16px\">Hyperparameters:</h2></span>"
      ],
      "text/plain": [
       "<IPython.core.display.HTML object>"
      ]
     },
     "metadata": {},
     "output_type": "display_data"
    },
    {
     "data": {
      "text/html": [
       "<span style=\"color:cyan\"> |-hidden_0_units: 68</span>"
      ],
      "text/plain": [
       "<IPython.core.display.HTML object>"
      ]
     },
     "metadata": {},
     "output_type": "display_data"
    },
    {
     "data": {
      "text/html": [
       "<span style=\"color:blue\"> |-hidden_1_units: 107</span>"
      ],
      "text/plain": [
       "<IPython.core.display.HTML object>"
      ]
     },
     "metadata": {},
     "output_type": "display_data"
    },
    {
     "data": {
      "text/html": [
       "<span style=\"color:cyan\"> |-learning_rate: 0.01</span>"
      ],
      "text/plain": [
       "<IPython.core.display.HTML object>"
      ]
     },
     "metadata": {},
     "output_type": "display_data"
    },
    {
     "data": {
      "text/html": [
       "<span style=\"color:blue\"> |-n_layers: 2</span>"
      ],
      "text/plain": [
       "<IPython.core.display.HTML object>"
      ]
     },
     "metadata": {},
     "output_type": "display_data"
    },
    {
     "data": {
      "text/html": [
       "<span style=\"color:cyan\"> |-tuner/bracket: 2</span>"
      ],
      "text/plain": [
       "<IPython.core.display.HTML object>"
      ]
     },
     "metadata": {},
     "output_type": "display_data"
    },
    {
     "data": {
      "text/html": [
       "<span style=\"color:blue\"> |-tuner/epochs: 3</span>"
      ],
      "text/plain": [
       "<IPython.core.display.HTML object>"
      ]
     },
     "metadata": {},
     "output_type": "display_data"
    },
    {
     "data": {
      "text/html": [
       "<span style=\"color:cyan\"> |-tuner/initial_epoch: 0</span>"
      ],
      "text/plain": [
       "<IPython.core.display.HTML object>"
      ]
     },
     "metadata": {},
     "output_type": "display_data"
    },
    {
     "data": {
      "text/html": [
       "<span style=\"color:blue\"> |-tuner/round: 0</span>"
      ],
      "text/plain": [
       "<IPython.core.display.HTML object>"
      ]
     },
     "metadata": {},
     "output_type": "display_data"
    },
    {
     "name": "stdout",
     "output_type": "stream",
     "text": [
      "Train on 7225 samples, validate on 1275 samples\n",
      "Epoch 1/3\n",
      "7225/7225 - 1s - loss: 0.1602 - mean_squared_error: 0.1602 - val_loss: 0.1299 - val_mean_squared_error: 0.1299\n",
      "Epoch 2/3\n",
      "7225/7225 - 1s - loss: 0.0991 - mean_squared_error: 0.0991 - val_loss: 0.0740 - val_mean_squared_error: 0.0740\n",
      "Epoch 3/3\n",
      "7225/7225 - 1s - loss: 0.0561 - mean_squared_error: 0.0561 - val_loss: 0.0430 - val_mean_squared_error: 0.0430\n"
     ]
    },
    {
     "data": {
      "text/html": [
       "<span style=\"color:#4527A0\"><h1 style=\"font-size:18px\">Trial complete</h1></span>"
      ],
      "text/plain": [
       "<IPython.core.display.HTML object>"
      ]
     },
     "metadata": {},
     "output_type": "display_data"
    },
    {
     "data": {
      "text/html": [
       "<span style=\"color:#4527A0\"><h1 style=\"font-size:18px\">Trial summary</h1></span>"
      ],
      "text/plain": [
       "<IPython.core.display.HTML object>"
      ]
     },
     "metadata": {},
     "output_type": "display_data"
    },
    {
     "data": {
      "text/html": [
       "<span style=\"color:cyan\"> |-Trial ID: 196916535a684c1fe0d66e1e4cd8d00e</span>"
      ],
      "text/plain": [
       "<IPython.core.display.HTML object>"
      ]
     },
     "metadata": {},
     "output_type": "display_data"
    },
    {
     "data": {
      "text/html": [
       "<span style=\"color:cyan\"> |-Score: 0.056089285761117935</span>"
      ],
      "text/plain": [
       "<IPython.core.display.HTML object>"
      ]
     },
     "metadata": {},
     "output_type": "display_data"
    },
    {
     "data": {
      "text/html": [
       "<span style=\"color:cyan\"> |-Best step: 0</span>"
      ],
      "text/plain": [
       "<IPython.core.display.HTML object>"
      ]
     },
     "metadata": {},
     "output_type": "display_data"
    },
    {
     "data": {
      "text/html": [
       "<span style=\"color:#7E57C2\"><h2 style=\"font-size:16px\">Hyperparameters:</h2></span>"
      ],
      "text/plain": [
       "<IPython.core.display.HTML object>"
      ]
     },
     "metadata": {},
     "output_type": "display_data"
    },
    {
     "data": {
      "text/html": [
       "<span style=\"color:cyan\"> |-hidden_0_units: 234</span>"
      ],
      "text/plain": [
       "<IPython.core.display.HTML object>"
      ]
     },
     "metadata": {},
     "output_type": "display_data"
    },
    {
     "data": {
      "text/html": [
       "<span style=\"color:blue\"> |-hidden_1_units: 171</span>"
      ],
      "text/plain": [
       "<IPython.core.display.HTML object>"
      ]
     },
     "metadata": {},
     "output_type": "display_data"
    },
    {
     "data": {
      "text/html": [
       "<span style=\"color:cyan\"> |-learning_rate: 0.0001</span>"
      ],
      "text/plain": [
       "<IPython.core.display.HTML object>"
      ]
     },
     "metadata": {},
     "output_type": "display_data"
    },
    {
     "data": {
      "text/html": [
       "<span style=\"color:blue\"> |-n_layers: 2</span>"
      ],
      "text/plain": [
       "<IPython.core.display.HTML object>"
      ]
     },
     "metadata": {},
     "output_type": "display_data"
    },
    {
     "data": {
      "text/html": [
       "<span style=\"color:cyan\"> |-tuner/bracket: 2</span>"
      ],
      "text/plain": [
       "<IPython.core.display.HTML object>"
      ]
     },
     "metadata": {},
     "output_type": "display_data"
    },
    {
     "data": {
      "text/html": [
       "<span style=\"color:blue\"> |-tuner/epochs: 3</span>"
      ],
      "text/plain": [
       "<IPython.core.display.HTML object>"
      ]
     },
     "metadata": {},
     "output_type": "display_data"
    },
    {
     "data": {
      "text/html": [
       "<span style=\"color:cyan\"> |-tuner/initial_epoch: 0</span>"
      ],
      "text/plain": [
       "<IPython.core.display.HTML object>"
      ]
     },
     "metadata": {},
     "output_type": "display_data"
    },
    {
     "data": {
      "text/html": [
       "<span style=\"color:blue\"> |-tuner/round: 0</span>"
      ],
      "text/plain": [
       "<IPython.core.display.HTML object>"
      ]
     },
     "metadata": {},
     "output_type": "display_data"
    },
    {
     "name": "stdout",
     "output_type": "stream",
     "text": [
      "Train on 7225 samples, validate on 1275 samples\n",
      "Epoch 1/3\n",
      "7225/7225 - 1s - loss: 0.0358 - mean_squared_error: 0.0358 - val_loss: 0.0256 - val_mean_squared_error: 0.0256\n",
      "Epoch 2/3\n",
      "7225/7225 - 1s - loss: 0.0235 - mean_squared_error: 0.0235 - val_loss: 0.0255 - val_mean_squared_error: 0.0255\n",
      "Epoch 3/3\n",
      "7225/7225 - 1s - loss: 0.0235 - mean_squared_error: 0.0235 - val_loss: 0.0253 - val_mean_squared_error: 0.0253\n"
     ]
    },
    {
     "data": {
      "text/html": [
       "<span style=\"color:#4527A0\"><h1 style=\"font-size:18px\">Trial complete</h1></span>"
      ],
      "text/plain": [
       "<IPython.core.display.HTML object>"
      ]
     },
     "metadata": {},
     "output_type": "display_data"
    },
    {
     "data": {
      "text/html": [
       "<span style=\"color:#4527A0\"><h1 style=\"font-size:18px\">Trial summary</h1></span>"
      ],
      "text/plain": [
       "<IPython.core.display.HTML object>"
      ]
     },
     "metadata": {},
     "output_type": "display_data"
    },
    {
     "data": {
      "text/html": [
       "<span style=\"color:cyan\"> |-Trial ID: 9f0dc0543c2cdaefef963509819bebc1</span>"
      ],
      "text/plain": [
       "<IPython.core.display.HTML object>"
      ]
     },
     "metadata": {},
     "output_type": "display_data"
    },
    {
     "data": {
      "text/html": [
       "<span style=\"color:cyan\"> |-Score: 0.0234603863209486</span>"
      ],
      "text/plain": [
       "<IPython.core.display.HTML object>"
      ]
     },
     "metadata": {},
     "output_type": "display_data"
    },
    {
     "data": {
      "text/html": [
       "<span style=\"color:cyan\"> |-Best step: 0</span>"
      ],
      "text/plain": [
       "<IPython.core.display.HTML object>"
      ]
     },
     "metadata": {},
     "output_type": "display_data"
    },
    {
     "data": {
      "text/html": [
       "<span style=\"color:#7E57C2\"><h2 style=\"font-size:16px\">Hyperparameters:</h2></span>"
      ],
      "text/plain": [
       "<IPython.core.display.HTML object>"
      ]
     },
     "metadata": {},
     "output_type": "display_data"
    },
    {
     "data": {
      "text/html": [
       "<span style=\"color:cyan\"> |-hidden_0_units: 30</span>"
      ],
      "text/plain": [
       "<IPython.core.display.HTML object>"
      ]
     },
     "metadata": {},
     "output_type": "display_data"
    },
    {
     "data": {
      "text/html": [
       "<span style=\"color:blue\"> |-hidden_1_units: 160</span>"
      ],
      "text/plain": [
       "<IPython.core.display.HTML object>"
      ]
     },
     "metadata": {},
     "output_type": "display_data"
    },
    {
     "data": {
      "text/html": [
       "<span style=\"color:cyan\"> |-learning_rate: 0.01</span>"
      ],
      "text/plain": [
       "<IPython.core.display.HTML object>"
      ]
     },
     "metadata": {},
     "output_type": "display_data"
    },
    {
     "data": {
      "text/html": [
       "<span style=\"color:blue\"> |-n_layers: 2</span>"
      ],
      "text/plain": [
       "<IPython.core.display.HTML object>"
      ]
     },
     "metadata": {},
     "output_type": "display_data"
    },
    {
     "data": {
      "text/html": [
       "<span style=\"color:cyan\"> |-tuner/bracket: 2</span>"
      ],
      "text/plain": [
       "<IPython.core.display.HTML object>"
      ]
     },
     "metadata": {},
     "output_type": "display_data"
    },
    {
     "data": {
      "text/html": [
       "<span style=\"color:blue\"> |-tuner/epochs: 3</span>"
      ],
      "text/plain": [
       "<IPython.core.display.HTML object>"
      ]
     },
     "metadata": {},
     "output_type": "display_data"
    },
    {
     "data": {
      "text/html": [
       "<span style=\"color:cyan\"> |-tuner/initial_epoch: 0</span>"
      ],
      "text/plain": [
       "<IPython.core.display.HTML object>"
      ]
     },
     "metadata": {},
     "output_type": "display_data"
    },
    {
     "data": {
      "text/html": [
       "<span style=\"color:blue\"> |-tuner/round: 0</span>"
      ],
      "text/plain": [
       "<IPython.core.display.HTML object>"
      ]
     },
     "metadata": {},
     "output_type": "display_data"
    },
    {
     "name": "stdout",
     "output_type": "stream",
     "text": [
      "Train on 7225 samples, validate on 1275 samples\n",
      "Epoch 1/3\n",
      "7225/7225 - 1s - loss: 0.0531 - mean_squared_error: 0.0531 - val_loss: 0.0037 - val_mean_squared_error: 0.0037\n",
      "Epoch 2/3\n",
      "7225/7225 - 1s - loss: 0.0014 - mean_squared_error: 0.0014 - val_loss: 7.0591e-04 - val_mean_squared_error: 7.0591e-04\n",
      "Epoch 3/3\n",
      "7225/7225 - 1s - loss: 5.9324e-04 - mean_squared_error: 5.9324e-04 - val_loss: 8.8095e-04 - val_mean_squared_error: 8.8095e-04\n"
     ]
    },
    {
     "data": {
      "text/html": [
       "<span style=\"color:#4527A0\"><h1 style=\"font-size:18px\">Trial complete</h1></span>"
      ],
      "text/plain": [
       "<IPython.core.display.HTML object>"
      ]
     },
     "metadata": {},
     "output_type": "display_data"
    },
    {
     "data": {
      "text/html": [
       "<span style=\"color:#4527A0\"><h1 style=\"font-size:18px\">Trial summary</h1></span>"
      ],
      "text/plain": [
       "<IPython.core.display.HTML object>"
      ]
     },
     "metadata": {},
     "output_type": "display_data"
    },
    {
     "data": {
      "text/html": [
       "<span style=\"color:cyan\"> |-Trial ID: b3555caf77ae9c320c4ef185d1af1885</span>"
      ],
      "text/plain": [
       "<IPython.core.display.HTML object>"
      ]
     },
     "metadata": {},
     "output_type": "display_data"
    },
    {
     "data": {
      "text/html": [
       "<span style=\"color:cyan\"> |-Score: 0.0005932404892519116</span>"
      ],
      "text/plain": [
       "<IPython.core.display.HTML object>"
      ]
     },
     "metadata": {},
     "output_type": "display_data"
    },
    {
     "data": {
      "text/html": [
       "<span style=\"color:cyan\"> |-Best step: 0</span>"
      ],
      "text/plain": [
       "<IPython.core.display.HTML object>"
      ]
     },
     "metadata": {},
     "output_type": "display_data"
    },
    {
     "data": {
      "text/html": [
       "<span style=\"color:#7E57C2\"><h2 style=\"font-size:16px\">Hyperparameters:</h2></span>"
      ],
      "text/plain": [
       "<IPython.core.display.HTML object>"
      ]
     },
     "metadata": {},
     "output_type": "display_data"
    },
    {
     "data": {
      "text/html": [
       "<span style=\"color:cyan\"> |-hidden_0_units: 181</span>"
      ],
      "text/plain": [
       "<IPython.core.display.HTML object>"
      ]
     },
     "metadata": {},
     "output_type": "display_data"
    },
    {
     "data": {
      "text/html": [
       "<span style=\"color:blue\"> |-hidden_1_units: 150</span>"
      ],
      "text/plain": [
       "<IPython.core.display.HTML object>"
      ]
     },
     "metadata": {},
     "output_type": "display_data"
    },
    {
     "data": {
      "text/html": [
       "<span style=\"color:cyan\"> |-learning_rate: 0.001</span>"
      ],
      "text/plain": [
       "<IPython.core.display.HTML object>"
      ]
     },
     "metadata": {},
     "output_type": "display_data"
    },
    {
     "data": {
      "text/html": [
       "<span style=\"color:blue\"> |-n_layers: 2</span>"
      ],
      "text/plain": [
       "<IPython.core.display.HTML object>"
      ]
     },
     "metadata": {},
     "output_type": "display_data"
    },
    {
     "data": {
      "text/html": [
       "<span style=\"color:cyan\"> |-tuner/bracket: 2</span>"
      ],
      "text/plain": [
       "<IPython.core.display.HTML object>"
      ]
     },
     "metadata": {},
     "output_type": "display_data"
    },
    {
     "data": {
      "text/html": [
       "<span style=\"color:blue\"> |-tuner/epochs: 3</span>"
      ],
      "text/plain": [
       "<IPython.core.display.HTML object>"
      ]
     },
     "metadata": {},
     "output_type": "display_data"
    },
    {
     "data": {
      "text/html": [
       "<span style=\"color:cyan\"> |-tuner/initial_epoch: 0</span>"
      ],
      "text/plain": [
       "<IPython.core.display.HTML object>"
      ]
     },
     "metadata": {},
     "output_type": "display_data"
    },
    {
     "data": {
      "text/html": [
       "<span style=\"color:blue\"> |-tuner/round: 0</span>"
      ],
      "text/plain": [
       "<IPython.core.display.HTML object>"
      ]
     },
     "metadata": {},
     "output_type": "display_data"
    },
    {
     "name": "stdout",
     "output_type": "stream",
     "text": [
      "Train on 7225 samples, validate on 1275 samples\n",
      "Epoch 1/3\n",
      "7225/7225 - 2s - loss: 0.0123 - mean_squared_error: 0.0123 - val_loss: 0.0019 - val_mean_squared_error: 0.0019\n",
      "Epoch 2/3\n",
      "7225/7225 - 1s - loss: 9.7758e-04 - mean_squared_error: 9.7758e-04 - val_loss: 9.7902e-04 - val_mean_squared_error: 9.7902e-04\n",
      "Epoch 3/3\n",
      "7225/7225 - 1s - loss: 0.0012 - mean_squared_error: 0.0012 - val_loss: 0.0018 - val_mean_squared_error: 0.0018\n"
     ]
    },
    {
     "data": {
      "text/html": [
       "<span style=\"color:#4527A0\"><h1 style=\"font-size:18px\">Trial complete</h1></span>"
      ],
      "text/plain": [
       "<IPython.core.display.HTML object>"
      ]
     },
     "metadata": {},
     "output_type": "display_data"
    },
    {
     "data": {
      "text/html": [
       "<span style=\"color:#4527A0\"><h1 style=\"font-size:18px\">Trial summary</h1></span>"
      ],
      "text/plain": [
       "<IPython.core.display.HTML object>"
      ]
     },
     "metadata": {},
     "output_type": "display_data"
    },
    {
     "data": {
      "text/html": [
       "<span style=\"color:cyan\"> |-Trial ID: ea0dc776b225386267e64e3b807dbded</span>"
      ],
      "text/plain": [
       "<IPython.core.display.HTML object>"
      ]
     },
     "metadata": {},
     "output_type": "display_data"
    },
    {
     "data": {
      "text/html": [
       "<span style=\"color:cyan\"> |-Score: 0.0009775754297152162</span>"
      ],
      "text/plain": [
       "<IPython.core.display.HTML object>"
      ]
     },
     "metadata": {},
     "output_type": "display_data"
    },
    {
     "data": {
      "text/html": [
       "<span style=\"color:cyan\"> |-Best step: 0</span>"
      ],
      "text/plain": [
       "<IPython.core.display.HTML object>"
      ]
     },
     "metadata": {},
     "output_type": "display_data"
    },
    {
     "data": {
      "text/html": [
       "<span style=\"color:#7E57C2\"><h2 style=\"font-size:16px\">Hyperparameters:</h2></span>"
      ],
      "text/plain": [
       "<IPython.core.display.HTML object>"
      ]
     },
     "metadata": {},
     "output_type": "display_data"
    },
    {
     "data": {
      "text/html": [
       "<span style=\"color:cyan\"> |-hidden_0_units: 228</span>"
      ],
      "text/plain": [
       "<IPython.core.display.HTML object>"
      ]
     },
     "metadata": {},
     "output_type": "display_data"
    },
    {
     "data": {
      "text/html": [
       "<span style=\"color:blue\"> |-hidden_1_units: 307</span>"
      ],
      "text/plain": [
       "<IPython.core.display.HTML object>"
      ]
     },
     "metadata": {},
     "output_type": "display_data"
    },
    {
     "data": {
      "text/html": [
       "<span style=\"color:cyan\"> |-learning_rate: 0.01</span>"
      ],
      "text/plain": [
       "<IPython.core.display.HTML object>"
      ]
     },
     "metadata": {},
     "output_type": "display_data"
    },
    {
     "data": {
      "text/html": [
       "<span style=\"color:blue\"> |-n_layers: 2</span>"
      ],
      "text/plain": [
       "<IPython.core.display.HTML object>"
      ]
     },
     "metadata": {},
     "output_type": "display_data"
    },
    {
     "data": {
      "text/html": [
       "<span style=\"color:cyan\"> |-tuner/bracket: 2</span>"
      ],
      "text/plain": [
       "<IPython.core.display.HTML object>"
      ]
     },
     "metadata": {},
     "output_type": "display_data"
    },
    {
     "data": {
      "text/html": [
       "<span style=\"color:blue\"> |-tuner/epochs: 3</span>"
      ],
      "text/plain": [
       "<IPython.core.display.HTML object>"
      ]
     },
     "metadata": {},
     "output_type": "display_data"
    },
    {
     "data": {
      "text/html": [
       "<span style=\"color:cyan\"> |-tuner/initial_epoch: 0</span>"
      ],
      "text/plain": [
       "<IPython.core.display.HTML object>"
      ]
     },
     "metadata": {},
     "output_type": "display_data"
    },
    {
     "data": {
      "text/html": [
       "<span style=\"color:blue\"> |-tuner/round: 0</span>"
      ],
      "text/plain": [
       "<IPython.core.display.HTML object>"
      ]
     },
     "metadata": {},
     "output_type": "display_data"
    },
    {
     "name": "stdout",
     "output_type": "stream",
     "text": [
      "Train on 7225 samples, validate on 1275 samples\n",
      "Epoch 1/3\n",
      "7225/7225 - 1s - loss: 0.0979 - mean_squared_error: 0.0979 - val_loss: 0.0327 - val_mean_squared_error: 0.0327\n",
      "Epoch 2/3\n",
      "7225/7225 - 1s - loss: 0.0148 - mean_squared_error: 0.0148 - val_loss: 0.0058 - val_mean_squared_error: 0.0058\n",
      "Epoch 3/3\n",
      "7225/7225 - 1s - loss: 0.0033 - mean_squared_error: 0.0033 - val_loss: 0.0020 - val_mean_squared_error: 0.0020\n"
     ]
    },
    {
     "data": {
      "text/html": [
       "<span style=\"color:#4527A0\"><h1 style=\"font-size:18px\">Trial complete</h1></span>"
      ],
      "text/plain": [
       "<IPython.core.display.HTML object>"
      ]
     },
     "metadata": {},
     "output_type": "display_data"
    },
    {
     "data": {
      "text/html": [
       "<span style=\"color:#4527A0\"><h1 style=\"font-size:18px\">Trial summary</h1></span>"
      ],
      "text/plain": [
       "<IPython.core.display.HTML object>"
      ]
     },
     "metadata": {},
     "output_type": "display_data"
    },
    {
     "data": {
      "text/html": [
       "<span style=\"color:cyan\"> |-Trial ID: 15520b2af1f447661c8bdfa1ad5b31fa</span>"
      ],
      "text/plain": [
       "<IPython.core.display.HTML object>"
      ]
     },
     "metadata": {},
     "output_type": "display_data"
    },
    {
     "data": {
      "text/html": [
       "<span style=\"color:cyan\"> |-Score: 0.003305599559098482</span>"
      ],
      "text/plain": [
       "<IPython.core.display.HTML object>"
      ]
     },
     "metadata": {},
     "output_type": "display_data"
    },
    {
     "data": {
      "text/html": [
       "<span style=\"color:cyan\"> |-Best step: 0</span>"
      ],
      "text/plain": [
       "<IPython.core.display.HTML object>"
      ]
     },
     "metadata": {},
     "output_type": "display_data"
    },
    {
     "data": {
      "text/html": [
       "<span style=\"color:#7E57C2\"><h2 style=\"font-size:16px\">Hyperparameters:</h2></span>"
      ],
      "text/plain": [
       "<IPython.core.display.HTML object>"
      ]
     },
     "metadata": {},
     "output_type": "display_data"
    },
    {
     "data": {
      "text/html": [
       "<span style=\"color:cyan\"> |-hidden_0_units: 154</span>"
      ],
      "text/plain": [
       "<IPython.core.display.HTML object>"
      ]
     },
     "metadata": {},
     "output_type": "display_data"
    },
    {
     "data": {
      "text/html": [
       "<span style=\"color:blue\"> |-hidden_1_units: 183</span>"
      ],
      "text/plain": [
       "<IPython.core.display.HTML object>"
      ]
     },
     "metadata": {},
     "output_type": "display_data"
    },
    {
     "data": {
      "text/html": [
       "<span style=\"color:cyan\"> |-learning_rate: 0.001</span>"
      ],
      "text/plain": [
       "<IPython.core.display.HTML object>"
      ]
     },
     "metadata": {},
     "output_type": "display_data"
    },
    {
     "data": {
      "text/html": [
       "<span style=\"color:blue\"> |-n_layers: 1</span>"
      ],
      "text/plain": [
       "<IPython.core.display.HTML object>"
      ]
     },
     "metadata": {},
     "output_type": "display_data"
    },
    {
     "data": {
      "text/html": [
       "<span style=\"color:cyan\"> |-tuner/bracket: 2</span>"
      ],
      "text/plain": [
       "<IPython.core.display.HTML object>"
      ]
     },
     "metadata": {},
     "output_type": "display_data"
    },
    {
     "data": {
      "text/html": [
       "<span style=\"color:blue\"> |-tuner/epochs: 3</span>"
      ],
      "text/plain": [
       "<IPython.core.display.HTML object>"
      ]
     },
     "metadata": {},
     "output_type": "display_data"
    },
    {
     "data": {
      "text/html": [
       "<span style=\"color:cyan\"> |-tuner/initial_epoch: 0</span>"
      ],
      "text/plain": [
       "<IPython.core.display.HTML object>"
      ]
     },
     "metadata": {},
     "output_type": "display_data"
    },
    {
     "data": {
      "text/html": [
       "<span style=\"color:blue\"> |-tuner/round: 0</span>"
      ],
      "text/plain": [
       "<IPython.core.display.HTML object>"
      ]
     },
     "metadata": {},
     "output_type": "display_data"
    },
    {
     "name": "stdout",
     "output_type": "stream",
     "text": [
      "Train on 7225 samples, validate on 1275 samples\n",
      "Epoch 1/3\n",
      "7225/7225 - 1s - loss: 0.1262 - mean_squared_error: 0.1262 - val_loss: 0.0679 - val_mean_squared_error: 0.0679\n",
      "Epoch 2/3\n",
      "7225/7225 - 1s - loss: 0.0406 - mean_squared_error: 0.0406 - val_loss: 0.0218 - val_mean_squared_error: 0.0218\n",
      "Epoch 3/3\n",
      "7225/7225 - 1s - loss: 0.0123 - mean_squared_error: 0.0123 - val_loss: 0.0068 - val_mean_squared_error: 0.0068\n"
     ]
    },
    {
     "data": {
      "text/html": [
       "<span style=\"color:#4527A0\"><h1 style=\"font-size:18px\">Trial complete</h1></span>"
      ],
      "text/plain": [
       "<IPython.core.display.HTML object>"
      ]
     },
     "metadata": {},
     "output_type": "display_data"
    },
    {
     "data": {
      "text/html": [
       "<span style=\"color:#4527A0\"><h1 style=\"font-size:18px\">Trial summary</h1></span>"
      ],
      "text/plain": [
       "<IPython.core.display.HTML object>"
      ]
     },
     "metadata": {},
     "output_type": "display_data"
    },
    {
     "data": {
      "text/html": [
       "<span style=\"color:cyan\"> |-Trial ID: 9bcd06b246dd39176769347f4333c6de</span>"
      ],
      "text/plain": [
       "<IPython.core.display.HTML object>"
      ]
     },
     "metadata": {},
     "output_type": "display_data"
    },
    {
     "data": {
      "text/html": [
       "<span style=\"color:cyan\"> |-Score: 0.012263822369277477</span>"
      ],
      "text/plain": [
       "<IPython.core.display.HTML object>"
      ]
     },
     "metadata": {},
     "output_type": "display_data"
    },
    {
     "data": {
      "text/html": [
       "<span style=\"color:cyan\"> |-Best step: 0</span>"
      ],
      "text/plain": [
       "<IPython.core.display.HTML object>"
      ]
     },
     "metadata": {},
     "output_type": "display_data"
    },
    {
     "data": {
      "text/html": [
       "<span style=\"color:#7E57C2\"><h2 style=\"font-size:16px\">Hyperparameters:</h2></span>"
      ],
      "text/plain": [
       "<IPython.core.display.HTML object>"
      ]
     },
     "metadata": {},
     "output_type": "display_data"
    },
    {
     "data": {
      "text/html": [
       "<span style=\"color:cyan\"> |-hidden_0_units: 73</span>"
      ],
      "text/plain": [
       "<IPython.core.display.HTML object>"
      ]
     },
     "metadata": {},
     "output_type": "display_data"
    },
    {
     "data": {
      "text/html": [
       "<span style=\"color:blue\"> |-hidden_1_units: 143</span>"
      ],
      "text/plain": [
       "<IPython.core.display.HTML object>"
      ]
     },
     "metadata": {},
     "output_type": "display_data"
    },
    {
     "data": {
      "text/html": [
       "<span style=\"color:cyan\"> |-learning_rate: 0.001</span>"
      ],
      "text/plain": [
       "<IPython.core.display.HTML object>"
      ]
     },
     "metadata": {},
     "output_type": "display_data"
    },
    {
     "data": {
      "text/html": [
       "<span style=\"color:blue\"> |-n_layers: 1</span>"
      ],
      "text/plain": [
       "<IPython.core.display.HTML object>"
      ]
     },
     "metadata": {},
     "output_type": "display_data"
    },
    {
     "data": {
      "text/html": [
       "<span style=\"color:cyan\"> |-tuner/bracket: 2</span>"
      ],
      "text/plain": [
       "<IPython.core.display.HTML object>"
      ]
     },
     "metadata": {},
     "output_type": "display_data"
    },
    {
     "data": {
      "text/html": [
       "<span style=\"color:blue\"> |-tuner/epochs: 3</span>"
      ],
      "text/plain": [
       "<IPython.core.display.HTML object>"
      ]
     },
     "metadata": {},
     "output_type": "display_data"
    },
    {
     "data": {
      "text/html": [
       "<span style=\"color:cyan\"> |-tuner/initial_epoch: 0</span>"
      ],
      "text/plain": [
       "<IPython.core.display.HTML object>"
      ]
     },
     "metadata": {},
     "output_type": "display_data"
    },
    {
     "data": {
      "text/html": [
       "<span style=\"color:blue\"> |-tuner/round: 0</span>"
      ],
      "text/plain": [
       "<IPython.core.display.HTML object>"
      ]
     },
     "metadata": {},
     "output_type": "display_data"
    },
    {
     "name": "stdout",
     "output_type": "stream",
     "text": [
      "Train on 7225 samples, validate on 1275 samples\n",
      "Epoch 1/3\n",
      "7225/7225 - 1s - loss: 0.0142 - mean_squared_error: 0.0142 - val_loss: 5.1644e-04 - val_mean_squared_error: 5.1644e-04\n",
      "Epoch 2/3\n",
      "7225/7225 - 1s - loss: 0.0011 - mean_squared_error: 0.0011 - val_loss: 0.0024 - val_mean_squared_error: 0.0024\n",
      "Epoch 3/3\n",
      "7225/7225 - 1s - loss: 0.0014 - mean_squared_error: 0.0014 - val_loss: 0.0012 - val_mean_squared_error: 0.0012\n"
     ]
    },
    {
     "data": {
      "text/html": [
       "<span style=\"color:#4527A0\"><h1 style=\"font-size:18px\">Trial complete</h1></span>"
      ],
      "text/plain": [
       "<IPython.core.display.HTML object>"
      ]
     },
     "metadata": {},
     "output_type": "display_data"
    },
    {
     "data": {
      "text/html": [
       "<span style=\"color:#4527A0\"><h1 style=\"font-size:18px\">Trial summary</h1></span>"
      ],
      "text/plain": [
       "<IPython.core.display.HTML object>"
      ]
     },
     "metadata": {},
     "output_type": "display_data"
    },
    {
     "data": {
      "text/html": [
       "<span style=\"color:cyan\"> |-Trial ID: d32324f01ac4e0d30317dfc8e80c991b</span>"
      ],
      "text/plain": [
       "<IPython.core.display.HTML object>"
      ]
     },
     "metadata": {},
     "output_type": "display_data"
    },
    {
     "data": {
      "text/html": [
       "<span style=\"color:cyan\"> |-Score: 0.0010998313082382083</span>"
      ],
      "text/plain": [
       "<IPython.core.display.HTML object>"
      ]
     },
     "metadata": {},
     "output_type": "display_data"
    },
    {
     "data": {
      "text/html": [
       "<span style=\"color:cyan\"> |-Best step: 0</span>"
      ],
      "text/plain": [
       "<IPython.core.display.HTML object>"
      ]
     },
     "metadata": {},
     "output_type": "display_data"
    },
    {
     "data": {
      "text/html": [
       "<span style=\"color:#7E57C2\"><h2 style=\"font-size:16px\">Hyperparameters:</h2></span>"
      ],
      "text/plain": [
       "<IPython.core.display.HTML object>"
      ]
     },
     "metadata": {},
     "output_type": "display_data"
    },
    {
     "data": {
      "text/html": [
       "<span style=\"color:cyan\"> |-hidden_0_units: 268</span>"
      ],
      "text/plain": [
       "<IPython.core.display.HTML object>"
      ]
     },
     "metadata": {},
     "output_type": "display_data"
    },
    {
     "data": {
      "text/html": [
       "<span style=\"color:blue\"> |-hidden_1_units: 70</span>"
      ],
      "text/plain": [
       "<IPython.core.display.HTML object>"
      ]
     },
     "metadata": {},
     "output_type": "display_data"
    },
    {
     "data": {
      "text/html": [
       "<span style=\"color:cyan\"> |-learning_rate: 0.01</span>"
      ],
      "text/plain": [
       "<IPython.core.display.HTML object>"
      ]
     },
     "metadata": {},
     "output_type": "display_data"
    },
    {
     "data": {
      "text/html": [
       "<span style=\"color:blue\"> |-n_layers: 2</span>"
      ],
      "text/plain": [
       "<IPython.core.display.HTML object>"
      ]
     },
     "metadata": {},
     "output_type": "display_data"
    },
    {
     "data": {
      "text/html": [
       "<span style=\"color:cyan\"> |-tuner/bracket: 2</span>"
      ],
      "text/plain": [
       "<IPython.core.display.HTML object>"
      ]
     },
     "metadata": {},
     "output_type": "display_data"
    },
    {
     "data": {
      "text/html": [
       "<span style=\"color:blue\"> |-tuner/epochs: 3</span>"
      ],
      "text/plain": [
       "<IPython.core.display.HTML object>"
      ]
     },
     "metadata": {},
     "output_type": "display_data"
    },
    {
     "data": {
      "text/html": [
       "<span style=\"color:cyan\"> |-tuner/initial_epoch: 0</span>"
      ],
      "text/plain": [
       "<IPython.core.display.HTML object>"
      ]
     },
     "metadata": {},
     "output_type": "display_data"
    },
    {
     "data": {
      "text/html": [
       "<span style=\"color:blue\"> |-tuner/round: 0</span>"
      ],
      "text/plain": [
       "<IPython.core.display.HTML object>"
      ]
     },
     "metadata": {},
     "output_type": "display_data"
    },
    {
     "name": "stdout",
     "output_type": "stream",
     "text": [
      "Train on 7225 samples, validate on 1275 samples\n",
      "Epoch 1/3\n",
      "7225/7225 - 1s - loss: 0.1270 - mean_squared_error: 0.1270 - val_loss: 0.0665 - val_mean_squared_error: 0.0665\n",
      "Epoch 2/3\n",
      "7225/7225 - 1s - loss: 0.0392 - mean_squared_error: 0.0392 - val_loss: 0.0203 - val_mean_squared_error: 0.0203\n",
      "Epoch 3/3\n",
      "7225/7225 - 1s - loss: 0.0114 - mean_squared_error: 0.0114 - val_loss: 0.0062 - val_mean_squared_error: 0.0062\n"
     ]
    },
    {
     "data": {
      "text/html": [
       "<span style=\"color:#4527A0\"><h1 style=\"font-size:18px\">Trial complete</h1></span>"
      ],
      "text/plain": [
       "<IPython.core.display.HTML object>"
      ]
     },
     "metadata": {},
     "output_type": "display_data"
    },
    {
     "data": {
      "text/html": [
       "<span style=\"color:#4527A0\"><h1 style=\"font-size:18px\">Trial summary</h1></span>"
      ],
      "text/plain": [
       "<IPython.core.display.HTML object>"
      ]
     },
     "metadata": {},
     "output_type": "display_data"
    },
    {
     "data": {
      "text/html": [
       "<span style=\"color:cyan\"> |-Trial ID: 8f9c0f1094a4405cba2b9f0008f1c44e</span>"
      ],
      "text/plain": [
       "<IPython.core.display.HTML object>"
      ]
     },
     "metadata": {},
     "output_type": "display_data"
    },
    {
     "data": {
      "text/html": [
       "<span style=\"color:cyan\"> |-Score: 0.011415348388254642</span>"
      ],
      "text/plain": [
       "<IPython.core.display.HTML object>"
      ]
     },
     "metadata": {},
     "output_type": "display_data"
    },
    {
     "data": {
      "text/html": [
       "<span style=\"color:cyan\"> |-Best step: 0</span>"
      ],
      "text/plain": [
       "<IPython.core.display.HTML object>"
      ]
     },
     "metadata": {},
     "output_type": "display_data"
    },
    {
     "data": {
      "text/html": [
       "<span style=\"color:#7E57C2\"><h2 style=\"font-size:16px\">Hyperparameters:</h2></span>"
      ],
      "text/plain": [
       "<IPython.core.display.HTML object>"
      ]
     },
     "metadata": {},
     "output_type": "display_data"
    },
    {
     "data": {
      "text/html": [
       "<span style=\"color:cyan\"> |-hidden_0_units: 77</span>"
      ],
      "text/plain": [
       "<IPython.core.display.HTML object>"
      ]
     },
     "metadata": {},
     "output_type": "display_data"
    },
    {
     "data": {
      "text/html": [
       "<span style=\"color:blue\"> |-hidden_1_units: 109</span>"
      ],
      "text/plain": [
       "<IPython.core.display.HTML object>"
      ]
     },
     "metadata": {},
     "output_type": "display_data"
    },
    {
     "data": {
      "text/html": [
       "<span style=\"color:cyan\"> |-learning_rate: 0.001</span>"
      ],
      "text/plain": [
       "<IPython.core.display.HTML object>"
      ]
     },
     "metadata": {},
     "output_type": "display_data"
    },
    {
     "data": {
      "text/html": [
       "<span style=\"color:blue\"> |-n_layers: 1</span>"
      ],
      "text/plain": [
       "<IPython.core.display.HTML object>"
      ]
     },
     "metadata": {},
     "output_type": "display_data"
    },
    {
     "data": {
      "text/html": [
       "<span style=\"color:cyan\"> |-tuner/bracket: 2</span>"
      ],
      "text/plain": [
       "<IPython.core.display.HTML object>"
      ]
     },
     "metadata": {},
     "output_type": "display_data"
    },
    {
     "data": {
      "text/html": [
       "<span style=\"color:blue\"> |-tuner/epochs: 3</span>"
      ],
      "text/plain": [
       "<IPython.core.display.HTML object>"
      ]
     },
     "metadata": {},
     "output_type": "display_data"
    },
    {
     "data": {
      "text/html": [
       "<span style=\"color:cyan\"> |-tuner/initial_epoch: 0</span>"
      ],
      "text/plain": [
       "<IPython.core.display.HTML object>"
      ]
     },
     "metadata": {},
     "output_type": "display_data"
    },
    {
     "data": {
      "text/html": [
       "<span style=\"color:blue\"> |-tuner/round: 0</span>"
      ],
      "text/plain": [
       "<IPython.core.display.HTML object>"
      ]
     },
     "metadata": {},
     "output_type": "display_data"
    },
    {
     "name": "stdout",
     "output_type": "stream",
     "text": [
      "Train on 7225 samples, validate on 1275 samples\n",
      "Epoch 1/3\n",
      "7225/7225 - 1s - loss: 0.1865 - mean_squared_error: 0.1865 - val_loss: 0.1786 - val_mean_squared_error: 0.1786\n",
      "Epoch 2/3\n",
      "7225/7225 - 1s - loss: 0.1688 - mean_squared_error: 0.1688 - val_loss: 0.1599 - val_mean_squared_error: 0.1599\n",
      "Epoch 3/3\n",
      "7225/7225 - 1s - loss: 0.1485 - mean_squared_error: 0.1485 - val_loss: 0.1381 - val_mean_squared_error: 0.1381\n"
     ]
    },
    {
     "data": {
      "text/html": [
       "<span style=\"color:#4527A0\"><h1 style=\"font-size:18px\">Trial complete</h1></span>"
      ],
      "text/plain": [
       "<IPython.core.display.HTML object>"
      ]
     },
     "metadata": {},
     "output_type": "display_data"
    },
    {
     "data": {
      "text/html": [
       "<span style=\"color:#4527A0\"><h1 style=\"font-size:18px\">Trial summary</h1></span>"
      ],
      "text/plain": [
       "<IPython.core.display.HTML object>"
      ]
     },
     "metadata": {},
     "output_type": "display_data"
    },
    {
     "data": {
      "text/html": [
       "<span style=\"color:cyan\"> |-Trial ID: 4a2cf7d4c4b91ee542d9aaf308aff16d</span>"
      ],
      "text/plain": [
       "<IPython.core.display.HTML object>"
      ]
     },
     "metadata": {},
     "output_type": "display_data"
    },
    {
     "data": {
      "text/html": [
       "<span style=\"color:cyan\"> |-Score: 0.14852812886238098</span>"
      ],
      "text/plain": [
       "<IPython.core.display.HTML object>"
      ]
     },
     "metadata": {},
     "output_type": "display_data"
    },
    {
     "data": {
      "text/html": [
       "<span style=\"color:cyan\"> |-Best step: 0</span>"
      ],
      "text/plain": [
       "<IPython.core.display.HTML object>"
      ]
     },
     "metadata": {},
     "output_type": "display_data"
    },
    {
     "data": {
      "text/html": [
       "<span style=\"color:#7E57C2\"><h2 style=\"font-size:16px\">Hyperparameters:</h2></span>"
      ],
      "text/plain": [
       "<IPython.core.display.HTML object>"
      ]
     },
     "metadata": {},
     "output_type": "display_data"
    },
    {
     "data": {
      "text/html": [
       "<span style=\"color:cyan\"> |-hidden_0_units: 137</span>"
      ],
      "text/plain": [
       "<IPython.core.display.HTML object>"
      ]
     },
     "metadata": {},
     "output_type": "display_data"
    },
    {
     "data": {
      "text/html": [
       "<span style=\"color:blue\"> |-hidden_1_units: 13</span>"
      ],
      "text/plain": [
       "<IPython.core.display.HTML object>"
      ]
     },
     "metadata": {},
     "output_type": "display_data"
    },
    {
     "data": {
      "text/html": [
       "<span style=\"color:cyan\"> |-learning_rate: 0.0001</span>"
      ],
      "text/plain": [
       "<IPython.core.display.HTML object>"
      ]
     },
     "metadata": {},
     "output_type": "display_data"
    },
    {
     "data": {
      "text/html": [
       "<span style=\"color:blue\"> |-n_layers: 2</span>"
      ],
      "text/plain": [
       "<IPython.core.display.HTML object>"
      ]
     },
     "metadata": {},
     "output_type": "display_data"
    },
    {
     "data": {
      "text/html": [
       "<span style=\"color:cyan\"> |-tuner/bracket: 2</span>"
      ],
      "text/plain": [
       "<IPython.core.display.HTML object>"
      ]
     },
     "metadata": {},
     "output_type": "display_data"
    },
    {
     "data": {
      "text/html": [
       "<span style=\"color:blue\"> |-tuner/epochs: 3</span>"
      ],
      "text/plain": [
       "<IPython.core.display.HTML object>"
      ]
     },
     "metadata": {},
     "output_type": "display_data"
    },
    {
     "data": {
      "text/html": [
       "<span style=\"color:cyan\"> |-tuner/initial_epoch: 0</span>"
      ],
      "text/plain": [
       "<IPython.core.display.HTML object>"
      ]
     },
     "metadata": {},
     "output_type": "display_data"
    },
    {
     "data": {
      "text/html": [
       "<span style=\"color:blue\"> |-tuner/round: 0</span>"
      ],
      "text/plain": [
       "<IPython.core.display.HTML object>"
      ]
     },
     "metadata": {},
     "output_type": "display_data"
    },
    {
     "name": "stdout",
     "output_type": "stream",
     "text": [
      "Train on 7225 samples, validate on 1275 samples\n",
      "Epoch 1/3\n",
      "7225/7225 - 1s - loss: 0.1642 - mean_squared_error: 0.1642 - val_loss: 0.1392 - val_mean_squared_error: 0.1392\n",
      "Epoch 2/3\n",
      "7225/7225 - 1s - loss: 0.1127 - mean_squared_error: 0.1127 - val_loss: 0.0919 - val_mean_squared_error: 0.0919\n",
      "Epoch 3/3\n",
      "7225/7225 - 1s - loss: 0.0743 - mean_squared_error: 0.0743 - val_loss: 0.0621 - val_mean_squared_error: 0.0621\n"
     ]
    },
    {
     "data": {
      "text/html": [
       "<span style=\"color:#4527A0\"><h1 style=\"font-size:18px\">Trial complete</h1></span>"
      ],
      "text/plain": [
       "<IPython.core.display.HTML object>"
      ]
     },
     "metadata": {},
     "output_type": "display_data"
    },
    {
     "data": {
      "text/html": [
       "<span style=\"color:#4527A0\"><h1 style=\"font-size:18px\">Trial summary</h1></span>"
      ],
      "text/plain": [
       "<IPython.core.display.HTML object>"
      ]
     },
     "metadata": {},
     "output_type": "display_data"
    },
    {
     "data": {
      "text/html": [
       "<span style=\"color:cyan\"> |-Trial ID: c0fcef4a14799206c6e524859d2c39c5</span>"
      ],
      "text/plain": [
       "<IPython.core.display.HTML object>"
      ]
     },
     "metadata": {},
     "output_type": "display_data"
    },
    {
     "data": {
      "text/html": [
       "<span style=\"color:cyan\"> |-Score: 0.07427973300218582</span>"
      ],
      "text/plain": [
       "<IPython.core.display.HTML object>"
      ]
     },
     "metadata": {},
     "output_type": "display_data"
    },
    {
     "data": {
      "text/html": [
       "<span style=\"color:cyan\"> |-Best step: 0</span>"
      ],
      "text/plain": [
       "<IPython.core.display.HTML object>"
      ]
     },
     "metadata": {},
     "output_type": "display_data"
    },
    {
     "data": {
      "text/html": [
       "<span style=\"color:#7E57C2\"><h2 style=\"font-size:16px\">Hyperparameters:</h2></span>"
      ],
      "text/plain": [
       "<IPython.core.display.HTML object>"
      ]
     },
     "metadata": {},
     "output_type": "display_data"
    },
    {
     "data": {
      "text/html": [
       "<span style=\"color:cyan\"> |-hidden_0_units: 83</span>"
      ],
      "text/plain": [
       "<IPython.core.display.HTML object>"
      ]
     },
     "metadata": {},
     "output_type": "display_data"
    },
    {
     "data": {
      "text/html": [
       "<span style=\"color:blue\"> |-hidden_1_units: 308</span>"
      ],
      "text/plain": [
       "<IPython.core.display.HTML object>"
      ]
     },
     "metadata": {},
     "output_type": "display_data"
    },
    {
     "data": {
      "text/html": [
       "<span style=\"color:cyan\"> |-learning_rate: 0.0001</span>"
      ],
      "text/plain": [
       "<IPython.core.display.HTML object>"
      ]
     },
     "metadata": {},
     "output_type": "display_data"
    },
    {
     "data": {
      "text/html": [
       "<span style=\"color:blue\"> |-n_layers: 2</span>"
      ],
      "text/plain": [
       "<IPython.core.display.HTML object>"
      ]
     },
     "metadata": {},
     "output_type": "display_data"
    },
    {
     "data": {
      "text/html": [
       "<span style=\"color:cyan\"> |-tuner/bracket: 2</span>"
      ],
      "text/plain": [
       "<IPython.core.display.HTML object>"
      ]
     },
     "metadata": {},
     "output_type": "display_data"
    },
    {
     "data": {
      "text/html": [
       "<span style=\"color:blue\"> |-tuner/epochs: 3</span>"
      ],
      "text/plain": [
       "<IPython.core.display.HTML object>"
      ]
     },
     "metadata": {},
     "output_type": "display_data"
    },
    {
     "data": {
      "text/html": [
       "<span style=\"color:cyan\"> |-tuner/initial_epoch: 0</span>"
      ],
      "text/plain": [
       "<IPython.core.display.HTML object>"
      ]
     },
     "metadata": {},
     "output_type": "display_data"
    },
    {
     "data": {
      "text/html": [
       "<span style=\"color:blue\"> |-tuner/round: 0</span>"
      ],
      "text/plain": [
       "<IPython.core.display.HTML object>"
      ]
     },
     "metadata": {},
     "output_type": "display_data"
    },
    {
     "name": "stdout",
     "output_type": "stream",
     "text": [
      "Train on 7225 samples, validate on 1275 samples\n",
      "Epoch 4/9\n",
      "7225/7225 - 1s - loss: 0.0514 - mean_squared_error: 0.0514 - val_loss: 0.0033 - val_mean_squared_error: 0.0033\n",
      "Epoch 5/9\n",
      "7225/7225 - 1s - loss: 0.0014 - mean_squared_error: 0.0014 - val_loss: 6.9275e-04 - val_mean_squared_error: 6.9275e-04\n",
      "Epoch 6/9\n",
      "7225/7225 - 1s - loss: 5.6298e-04 - mean_squared_error: 5.6298e-04 - val_loss: 4.6736e-04 - val_mean_squared_error: 4.6736e-04\n",
      "Epoch 7/9\n",
      "7225/7225 - 1s - loss: 4.5655e-04 - mean_squared_error: 4.5655e-04 - val_loss: 3.9560e-04 - val_mean_squared_error: 3.9560e-04\n",
      "Epoch 8/9\n",
      "7225/7225 - 1s - loss: 4.6405e-04 - mean_squared_error: 4.6405e-04 - val_loss: 3.6159e-04 - val_mean_squared_error: 3.6159e-04\n",
      "Epoch 9/9\n",
      "7225/7225 - 1s - loss: 3.9610e-04 - mean_squared_error: 3.9610e-04 - val_loss: 3.7606e-04 - val_mean_squared_error: 3.7606e-04\n"
     ]
    },
    {
     "data": {
      "text/html": [
       "<span style=\"color:#4527A0\"><h1 style=\"font-size:18px\">Trial complete</h1></span>"
      ],
      "text/plain": [
       "<IPython.core.display.HTML object>"
      ]
     },
     "metadata": {},
     "output_type": "display_data"
    },
    {
     "data": {
      "text/html": [
       "<span style=\"color:#4527A0\"><h1 style=\"font-size:18px\">Trial summary</h1></span>"
      ],
      "text/plain": [
       "<IPython.core.display.HTML object>"
      ]
     },
     "metadata": {},
     "output_type": "display_data"
    },
    {
     "data": {
      "text/html": [
       "<span style=\"color:cyan\"> |-Trial ID: 43ce6b4d8c8288ab3d1c57c83219af12</span>"
      ],
      "text/plain": [
       "<IPython.core.display.HTML object>"
      ]
     },
     "metadata": {},
     "output_type": "display_data"
    },
    {
     "data": {
      "text/html": [
       "<span style=\"color:cyan\"> |-Score: 0.00039609664236195385</span>"
      ],
      "text/plain": [
       "<IPython.core.display.HTML object>"
      ]
     },
     "metadata": {},
     "output_type": "display_data"
    },
    {
     "data": {
      "text/html": [
       "<span style=\"color:cyan\"> |-Best step: 0</span>"
      ],
      "text/plain": [
       "<IPython.core.display.HTML object>"
      ]
     },
     "metadata": {},
     "output_type": "display_data"
    },
    {
     "data": {
      "text/html": [
       "<span style=\"color:#7E57C2\"><h2 style=\"font-size:16px\">Hyperparameters:</h2></span>"
      ],
      "text/plain": [
       "<IPython.core.display.HTML object>"
      ]
     },
     "metadata": {},
     "output_type": "display_data"
    },
    {
     "data": {
      "text/html": [
       "<span style=\"color:cyan\"> |-hidden_0_units: 181</span>"
      ],
      "text/plain": [
       "<IPython.core.display.HTML object>"
      ]
     },
     "metadata": {},
     "output_type": "display_data"
    },
    {
     "data": {
      "text/html": [
       "<span style=\"color:blue\"> |-hidden_1_units: 150</span>"
      ],
      "text/plain": [
       "<IPython.core.display.HTML object>"
      ]
     },
     "metadata": {},
     "output_type": "display_data"
    },
    {
     "data": {
      "text/html": [
       "<span style=\"color:cyan\"> |-learning_rate: 0.001</span>"
      ],
      "text/plain": [
       "<IPython.core.display.HTML object>"
      ]
     },
     "metadata": {},
     "output_type": "display_data"
    },
    {
     "data": {
      "text/html": [
       "<span style=\"color:blue\"> |-n_layers: 2</span>"
      ],
      "text/plain": [
       "<IPython.core.display.HTML object>"
      ]
     },
     "metadata": {},
     "output_type": "display_data"
    },
    {
     "data": {
      "text/html": [
       "<span style=\"color:cyan\"> |-tuner/bracket: 2</span>"
      ],
      "text/plain": [
       "<IPython.core.display.HTML object>"
      ]
     },
     "metadata": {},
     "output_type": "display_data"
    },
    {
     "data": {
      "text/html": [
       "<span style=\"color:blue\"> |-tuner/epochs: 9</span>"
      ],
      "text/plain": [
       "<IPython.core.display.HTML object>"
      ]
     },
     "metadata": {},
     "output_type": "display_data"
    },
    {
     "data": {
      "text/html": [
       "<span style=\"color:cyan\"> |-tuner/initial_epoch: 3</span>"
      ],
      "text/plain": [
       "<IPython.core.display.HTML object>"
      ]
     },
     "metadata": {},
     "output_type": "display_data"
    },
    {
     "data": {
      "text/html": [
       "<span style=\"color:blue\"> |-tuner/round: 1</span>"
      ],
      "text/plain": [
       "<IPython.core.display.HTML object>"
      ]
     },
     "metadata": {},
     "output_type": "display_data"
    },
    {
     "data": {
      "text/html": [
       "<span style=\"color:cyan\"> |-tuner/trial_id: b3555caf77ae9c320c4ef185d1af1885</span>"
      ],
      "text/plain": [
       "<IPython.core.display.HTML object>"
      ]
     },
     "metadata": {},
     "output_type": "display_data"
    },
    {
     "name": "stdout",
     "output_type": "stream",
     "text": [
      "Train on 7225 samples, validate on 1275 samples\n",
      "Epoch 4/9\n",
      "7225/7225 - 1s - loss: 0.0163 - mean_squared_error: 0.0163 - val_loss: 8.1172e-04 - val_mean_squared_error: 8.1172e-04\n",
      "Epoch 5/9\n",
      "7225/7225 - 1s - loss: 8.2586e-04 - mean_squared_error: 8.2586e-04 - val_loss: 6.4480e-04 - val_mean_squared_error: 6.4480e-04\n",
      "Epoch 6/9\n",
      "7225/7225 - 1s - loss: 9.1016e-04 - mean_squared_error: 9.1016e-04 - val_loss: 6.6473e-04 - val_mean_squared_error: 6.6473e-04\n",
      "Epoch 7/9\n",
      "7225/7225 - 1s - loss: 9.2591e-04 - mean_squared_error: 9.2591e-04 - val_loss: 0.0010 - val_mean_squared_error: 0.0010\n",
      "Epoch 8/9\n",
      "7225/7225 - 1s - loss: 0.0010 - mean_squared_error: 0.0010 - val_loss: 0.0012 - val_mean_squared_error: 0.0012\n",
      "Epoch 9/9\n",
      "7225/7225 - 1s - loss: 0.0027 - mean_squared_error: 0.0027 - val_loss: 0.0059 - val_mean_squared_error: 0.0059\n"
     ]
    },
    {
     "data": {
      "text/html": [
       "<span style=\"color:#4527A0\"><h1 style=\"font-size:18px\">Trial complete</h1></span>"
      ],
      "text/plain": [
       "<IPython.core.display.HTML object>"
      ]
     },
     "metadata": {},
     "output_type": "display_data"
    },
    {
     "data": {
      "text/html": [
       "<span style=\"color:#4527A0\"><h1 style=\"font-size:18px\">Trial summary</h1></span>"
      ],
      "text/plain": [
       "<IPython.core.display.HTML object>"
      ]
     },
     "metadata": {},
     "output_type": "display_data"
    },
    {
     "data": {
      "text/html": [
       "<span style=\"color:cyan\"> |-Trial ID: 06f86ec19dc064571c688f473053702a</span>"
      ],
      "text/plain": [
       "<IPython.core.display.HTML object>"
      ]
     },
     "metadata": {},
     "output_type": "display_data"
    },
    {
     "data": {
      "text/html": [
       "<span style=\"color:cyan\"> |-Score: 0.000825855357106775</span>"
      ],
      "text/plain": [
       "<IPython.core.display.HTML object>"
      ]
     },
     "metadata": {},
     "output_type": "display_data"
    },
    {
     "data": {
      "text/html": [
       "<span style=\"color:cyan\"> |-Best step: 0</span>"
      ],
      "text/plain": [
       "<IPython.core.display.HTML object>"
      ]
     },
     "metadata": {},
     "output_type": "display_data"
    },
    {
     "data": {
      "text/html": [
       "<span style=\"color:#7E57C2\"><h2 style=\"font-size:16px\">Hyperparameters:</h2></span>"
      ],
      "text/plain": [
       "<IPython.core.display.HTML object>"
      ]
     },
     "metadata": {},
     "output_type": "display_data"
    },
    {
     "data": {
      "text/html": [
       "<span style=\"color:cyan\"> |-hidden_0_units: 68</span>"
      ],
      "text/plain": [
       "<IPython.core.display.HTML object>"
      ]
     },
     "metadata": {},
     "output_type": "display_data"
    },
    {
     "data": {
      "text/html": [
       "<span style=\"color:blue\"> |-hidden_1_units: 107</span>"
      ],
      "text/plain": [
       "<IPython.core.display.HTML object>"
      ]
     },
     "metadata": {},
     "output_type": "display_data"
    },
    {
     "data": {
      "text/html": [
       "<span style=\"color:cyan\"> |-learning_rate: 0.01</span>"
      ],
      "text/plain": [
       "<IPython.core.display.HTML object>"
      ]
     },
     "metadata": {},
     "output_type": "display_data"
    },
    {
     "data": {
      "text/html": [
       "<span style=\"color:blue\"> |-n_layers: 2</span>"
      ],
      "text/plain": [
       "<IPython.core.display.HTML object>"
      ]
     },
     "metadata": {},
     "output_type": "display_data"
    },
    {
     "data": {
      "text/html": [
       "<span style=\"color:cyan\"> |-tuner/bracket: 2</span>"
      ],
      "text/plain": [
       "<IPython.core.display.HTML object>"
      ]
     },
     "metadata": {},
     "output_type": "display_data"
    },
    {
     "data": {
      "text/html": [
       "<span style=\"color:blue\"> |-tuner/epochs: 9</span>"
      ],
      "text/plain": [
       "<IPython.core.display.HTML object>"
      ]
     },
     "metadata": {},
     "output_type": "display_data"
    },
    {
     "data": {
      "text/html": [
       "<span style=\"color:cyan\"> |-tuner/initial_epoch: 3</span>"
      ],
      "text/plain": [
       "<IPython.core.display.HTML object>"
      ]
     },
     "metadata": {},
     "output_type": "display_data"
    },
    {
     "data": {
      "text/html": [
       "<span style=\"color:blue\"> |-tuner/round: 1</span>"
      ],
      "text/plain": [
       "<IPython.core.display.HTML object>"
      ]
     },
     "metadata": {},
     "output_type": "display_data"
    },
    {
     "data": {
      "text/html": [
       "<span style=\"color:cyan\"> |-tuner/trial_id: 5ca1e18ca32065589ab61c9700f97c8c</span>"
      ],
      "text/plain": [
       "<IPython.core.display.HTML object>"
      ]
     },
     "metadata": {},
     "output_type": "display_data"
    },
    {
     "name": "stdout",
     "output_type": "stream",
     "text": [
      "Train on 7225 samples, validate on 1275 samples\n",
      "Epoch 4/9\n",
      "7225/7225 - 2s - loss: 0.0118 - mean_squared_error: 0.0118 - val_loss: 6.8666e-04 - val_mean_squared_error: 6.8666e-04\n",
      "Epoch 5/9\n",
      "7225/7225 - 1s - loss: 0.0011 - mean_squared_error: 0.0011 - val_loss: 0.0016 - val_mean_squared_error: 0.0016\n",
      "Epoch 6/9\n",
      "7225/7225 - 1s - loss: 0.0017 - mean_squared_error: 0.0017 - val_loss: 0.0021 - val_mean_squared_error: 0.0021\n",
      "Epoch 7/9\n",
      "7225/7225 - 1s - loss: 0.1156 - mean_squared_error: 0.1156 - val_loss: 0.2204 - val_mean_squared_error: 0.2204\n",
      "Epoch 8/9\n",
      "7225/7225 - 1s - loss: 0.2460 - mean_squared_error: 0.2460 - val_loss: 0.2510 - val_mean_squared_error: 0.2510\n",
      "Epoch 9/9\n",
      "7225/7225 - 1s - loss: 0.3515 - mean_squared_error: 0.3515 - val_loss: 0.3834 - val_mean_squared_error: 0.3834\n"
     ]
    },
    {
     "data": {
      "text/html": [
       "<span style=\"color:#4527A0\"><h1 style=\"font-size:18px\">Trial complete</h1></span>"
      ],
      "text/plain": [
       "<IPython.core.display.HTML object>"
      ]
     },
     "metadata": {},
     "output_type": "display_data"
    },
    {
     "data": {
      "text/html": [
       "<span style=\"color:#4527A0\"><h1 style=\"font-size:18px\">Trial summary</h1></span>"
      ],
      "text/plain": [
       "<IPython.core.display.HTML object>"
      ]
     },
     "metadata": {},
     "output_type": "display_data"
    },
    {
     "data": {
      "text/html": [
       "<span style=\"color:cyan\"> |-Trial ID: dce0a28162d105f433f2687723b54b22</span>"
      ],
      "text/plain": [
       "<IPython.core.display.HTML object>"
      ]
     },
     "metadata": {},
     "output_type": "display_data"
    },
    {
     "data": {
      "text/html": [
       "<span style=\"color:cyan\"> |-Score: 0.0011085056466981769</span>"
      ],
      "text/plain": [
       "<IPython.core.display.HTML object>"
      ]
     },
     "metadata": {},
     "output_type": "display_data"
    },
    {
     "data": {
      "text/html": [
       "<span style=\"color:cyan\"> |-Best step: 0</span>"
      ],
      "text/plain": [
       "<IPython.core.display.HTML object>"
      ]
     },
     "metadata": {},
     "output_type": "display_data"
    },
    {
     "data": {
      "text/html": [
       "<span style=\"color:#7E57C2\"><h2 style=\"font-size:16px\">Hyperparameters:</h2></span>"
      ],
      "text/plain": [
       "<IPython.core.display.HTML object>"
      ]
     },
     "metadata": {},
     "output_type": "display_data"
    },
    {
     "data": {
      "text/html": [
       "<span style=\"color:cyan\"> |-hidden_0_units: 228</span>"
      ],
      "text/plain": [
       "<IPython.core.display.HTML object>"
      ]
     },
     "metadata": {},
     "output_type": "display_data"
    },
    {
     "data": {
      "text/html": [
       "<span style=\"color:blue\"> |-hidden_1_units: 307</span>"
      ],
      "text/plain": [
       "<IPython.core.display.HTML object>"
      ]
     },
     "metadata": {},
     "output_type": "display_data"
    },
    {
     "data": {
      "text/html": [
       "<span style=\"color:cyan\"> |-learning_rate: 0.01</span>"
      ],
      "text/plain": [
       "<IPython.core.display.HTML object>"
      ]
     },
     "metadata": {},
     "output_type": "display_data"
    },
    {
     "data": {
      "text/html": [
       "<span style=\"color:blue\"> |-n_layers: 2</span>"
      ],
      "text/plain": [
       "<IPython.core.display.HTML object>"
      ]
     },
     "metadata": {},
     "output_type": "display_data"
    },
    {
     "data": {
      "text/html": [
       "<span style=\"color:cyan\"> |-tuner/bracket: 2</span>"
      ],
      "text/plain": [
       "<IPython.core.display.HTML object>"
      ]
     },
     "metadata": {},
     "output_type": "display_data"
    },
    {
     "data": {
      "text/html": [
       "<span style=\"color:blue\"> |-tuner/epochs: 9</span>"
      ],
      "text/plain": [
       "<IPython.core.display.HTML object>"
      ]
     },
     "metadata": {},
     "output_type": "display_data"
    },
    {
     "data": {
      "text/html": [
       "<span style=\"color:cyan\"> |-tuner/initial_epoch: 3</span>"
      ],
      "text/plain": [
       "<IPython.core.display.HTML object>"
      ]
     },
     "metadata": {},
     "output_type": "display_data"
    },
    {
     "data": {
      "text/html": [
       "<span style=\"color:blue\"> |-tuner/round: 1</span>"
      ],
      "text/plain": [
       "<IPython.core.display.HTML object>"
      ]
     },
     "metadata": {},
     "output_type": "display_data"
    },
    {
     "data": {
      "text/html": [
       "<span style=\"color:cyan\"> |-tuner/trial_id: ea0dc776b225386267e64e3b807dbded</span>"
      ],
      "text/plain": [
       "<IPython.core.display.HTML object>"
      ]
     },
     "metadata": {},
     "output_type": "display_data"
    },
    {
     "name": "stdout",
     "output_type": "stream",
     "text": [
      "Train on 7225 samples, validate on 1275 samples\n",
      "Epoch 4/9\n",
      "7225/7225 - 2s - loss: 0.0145 - mean_squared_error: 0.0145 - val_loss: 4.6122e-04 - val_mean_squared_error: 4.6122e-04\n",
      "Epoch 5/9\n",
      "7225/7225 - 1s - loss: 0.0017 - mean_squared_error: 0.0017 - val_loss: 7.3065e-04 - val_mean_squared_error: 7.3065e-04\n",
      "Epoch 6/9\n",
      "7225/7225 - 1s - loss: 0.0011 - mean_squared_error: 0.0011 - val_loss: 0.0012 - val_mean_squared_error: 0.0012\n",
      "Epoch 7/9\n",
      "7225/7225 - 1s - loss: 0.0013 - mean_squared_error: 0.0013 - val_loss: 0.0015 - val_mean_squared_error: 0.0015\n",
      "Epoch 8/9\n",
      "7225/7225 - 1s - loss: 0.0067 - mean_squared_error: 0.0067 - val_loss: 0.0396 - val_mean_squared_error: 0.0396\n",
      "Epoch 9/9\n",
      "7225/7225 - 1s - loss: 0.1038 - mean_squared_error: 0.1038 - val_loss: 0.1286 - val_mean_squared_error: 0.1286\n"
     ]
    },
    {
     "data": {
      "text/html": [
       "<span style=\"color:#4527A0\"><h1 style=\"font-size:18px\">Trial complete</h1></span>"
      ],
      "text/plain": [
       "<IPython.core.display.HTML object>"
      ]
     },
     "metadata": {},
     "output_type": "display_data"
    },
    {
     "data": {
      "text/html": [
       "<span style=\"color:#4527A0\"><h1 style=\"font-size:18px\">Trial summary</h1></span>"
      ],
      "text/plain": [
       "<IPython.core.display.HTML object>"
      ]
     },
     "metadata": {},
     "output_type": "display_data"
    },
    {
     "data": {
      "text/html": [
       "<span style=\"color:cyan\"> |-Trial ID: dbe1ce04f0e88083b2634d5cd3854d42</span>"
      ],
      "text/plain": [
       "<IPython.core.display.HTML object>"
      ]
     },
     "metadata": {},
     "output_type": "display_data"
    },
    {
     "data": {
      "text/html": [
       "<span style=\"color:cyan\"> |-Score: 0.0011012442409992218</span>"
      ],
      "text/plain": [
       "<IPython.core.display.HTML object>"
      ]
     },
     "metadata": {},
     "output_type": "display_data"
    },
    {
     "data": {
      "text/html": [
       "<span style=\"color:cyan\"> |-Best step: 0</span>"
      ],
      "text/plain": [
       "<IPython.core.display.HTML object>"
      ]
     },
     "metadata": {},
     "output_type": "display_data"
    },
    {
     "data": {
      "text/html": [
       "<span style=\"color:#7E57C2\"><h2 style=\"font-size:16px\">Hyperparameters:</h2></span>"
      ],
      "text/plain": [
       "<IPython.core.display.HTML object>"
      ]
     },
     "metadata": {},
     "output_type": "display_data"
    },
    {
     "data": {
      "text/html": [
       "<span style=\"color:cyan\"> |-hidden_0_units: 268</span>"
      ],
      "text/plain": [
       "<IPython.core.display.HTML object>"
      ]
     },
     "metadata": {},
     "output_type": "display_data"
    },
    {
     "data": {
      "text/html": [
       "<span style=\"color:blue\"> |-hidden_1_units: 70</span>"
      ],
      "text/plain": [
       "<IPython.core.display.HTML object>"
      ]
     },
     "metadata": {},
     "output_type": "display_data"
    },
    {
     "data": {
      "text/html": [
       "<span style=\"color:cyan\"> |-learning_rate: 0.01</span>"
      ],
      "text/plain": [
       "<IPython.core.display.HTML object>"
      ]
     },
     "metadata": {},
     "output_type": "display_data"
    },
    {
     "data": {
      "text/html": [
       "<span style=\"color:blue\"> |-n_layers: 2</span>"
      ],
      "text/plain": [
       "<IPython.core.display.HTML object>"
      ]
     },
     "metadata": {},
     "output_type": "display_data"
    },
    {
     "data": {
      "text/html": [
       "<span style=\"color:cyan\"> |-tuner/bracket: 2</span>"
      ],
      "text/plain": [
       "<IPython.core.display.HTML object>"
      ]
     },
     "metadata": {},
     "output_type": "display_data"
    },
    {
     "data": {
      "text/html": [
       "<span style=\"color:blue\"> |-tuner/epochs: 9</span>"
      ],
      "text/plain": [
       "<IPython.core.display.HTML object>"
      ]
     },
     "metadata": {},
     "output_type": "display_data"
    },
    {
     "data": {
      "text/html": [
       "<span style=\"color:cyan\"> |-tuner/initial_epoch: 3</span>"
      ],
      "text/plain": [
       "<IPython.core.display.HTML object>"
      ]
     },
     "metadata": {},
     "output_type": "display_data"
    },
    {
     "data": {
      "text/html": [
       "<span style=\"color:blue\"> |-tuner/round: 1</span>"
      ],
      "text/plain": [
       "<IPython.core.display.HTML object>"
      ]
     },
     "metadata": {},
     "output_type": "display_data"
    },
    {
     "data": {
      "text/html": [
       "<span style=\"color:cyan\"> |-tuner/trial_id: d32324f01ac4e0d30317dfc8e80c991b</span>"
      ],
      "text/plain": [
       "<IPython.core.display.HTML object>"
      ]
     },
     "metadata": {},
     "output_type": "display_data"
    },
    {
     "name": "stdout",
     "output_type": "stream",
     "text": [
      "Train on 7225 samples, validate on 1275 samples\n",
      "Epoch 10/25\n",
      "7225/7225 - 2s - loss: 0.0518 - mean_squared_error: 0.0518 - val_loss: 0.0036 - val_mean_squared_error: 0.0036\n",
      "Epoch 11/25\n",
      "7225/7225 - 1s - loss: 0.0014 - mean_squared_error: 0.0014 - val_loss: 7.3481e-04 - val_mean_squared_error: 7.3481e-04\n",
      "Epoch 12/25\n",
      "7225/7225 - 1s - loss: 5.6093e-04 - mean_squared_error: 5.6093e-04 - val_loss: 4.4594e-04 - val_mean_squared_error: 4.4594e-04\n",
      "Epoch 13/25\n",
      "7225/7225 - 1s - loss: 4.5738e-04 - mean_squared_error: 4.5738e-04 - val_loss: 3.8940e-04 - val_mean_squared_error: 3.8940e-04\n",
      "Epoch 14/25\n",
      "7225/7225 - 1s - loss: 4.6239e-04 - mean_squared_error: 4.6239e-04 - val_loss: 6.6114e-04 - val_mean_squared_error: 6.6114e-04\n",
      "Epoch 15/25\n",
      "7225/7225 - 1s - loss: 4.3268e-04 - mean_squared_error: 4.3268e-04 - val_loss: 0.0012 - val_mean_squared_error: 0.0012\n",
      "Epoch 16/25\n",
      "7225/7225 - 1s - loss: 4.2166e-04 - mean_squared_error: 4.2166e-04 - val_loss: 4.2050e-04 - val_mean_squared_error: 4.2050e-04\n",
      "Epoch 17/25\n",
      "7225/7225 - 1s - loss: 4.2673e-04 - mean_squared_error: 4.2673e-04 - val_loss: 5.3883e-04 - val_mean_squared_error: 5.3883e-04\n",
      "Epoch 18/25\n",
      "7225/7225 - 1s - loss: 4.7827e-04 - mean_squared_error: 4.7827e-04 - val_loss: 3.6134e-04 - val_mean_squared_error: 3.6134e-04\n",
      "Epoch 19/25\n",
      "7225/7225 - 1s - loss: 4.0851e-04 - mean_squared_error: 4.0851e-04 - val_loss: 3.8653e-04 - val_mean_squared_error: 3.8653e-04\n",
      "Epoch 20/25\n",
      "7225/7225 - 1s - loss: 4.0125e-04 - mean_squared_error: 4.0125e-04 - val_loss: 3.8631e-04 - val_mean_squared_error: 3.8631e-04\n",
      "Epoch 21/25\n",
      "7225/7225 - 1s - loss: 3.7001e-04 - mean_squared_error: 3.7001e-04 - val_loss: 4.0115e-04 - val_mean_squared_error: 4.0115e-04\n",
      "Epoch 22/25\n",
      "7225/7225 - 1s - loss: 4.1890e-04 - mean_squared_error: 4.1890e-04 - val_loss: 4.0099e-04 - val_mean_squared_error: 4.0099e-04\n",
      "Epoch 23/25\n",
      "7225/7225 - 1s - loss: 4.5359e-04 - mean_squared_error: 4.5359e-04 - val_loss: 4.0105e-04 - val_mean_squared_error: 4.0105e-04\n",
      "Epoch 24/25\n",
      "7225/7225 - 1s - loss: 3.9829e-04 - mean_squared_error: 3.9829e-04 - val_loss: 4.5370e-04 - val_mean_squared_error: 4.5370e-04\n",
      "Epoch 25/25\n",
      "7225/7225 - 1s - loss: 4.2113e-04 - mean_squared_error: 4.2113e-04 - val_loss: 4.5327e-04 - val_mean_squared_error: 4.5327e-04\n"
     ]
    },
    {
     "data": {
      "text/html": [
       "<span style=\"color:#4527A0\"><h1 style=\"font-size:18px\">Trial complete</h1></span>"
      ],
      "text/plain": [
       "<IPython.core.display.HTML object>"
      ]
     },
     "metadata": {},
     "output_type": "display_data"
    },
    {
     "data": {
      "text/html": [
       "<span style=\"color:#4527A0\"><h1 style=\"font-size:18px\">Trial summary</h1></span>"
      ],
      "text/plain": [
       "<IPython.core.display.HTML object>"
      ]
     },
     "metadata": {},
     "output_type": "display_data"
    },
    {
     "data": {
      "text/html": [
       "<span style=\"color:cyan\"> |-Trial ID: 514728b92c8e5078a43cb5e7716bf38f</span>"
      ],
      "text/plain": [
       "<IPython.core.display.HTML object>"
      ]
     },
     "metadata": {},
     "output_type": "display_data"
    },
    {
     "data": {
      "text/html": [
       "<span style=\"color:cyan\"> |-Score: 0.0003700086672324687</span>"
      ],
      "text/plain": [
       "<IPython.core.display.HTML object>"
      ]
     },
     "metadata": {},
     "output_type": "display_data"
    },
    {
     "data": {
      "text/html": [
       "<span style=\"color:cyan\"> |-Best step: 0</span>"
      ],
      "text/plain": [
       "<IPython.core.display.HTML object>"
      ]
     },
     "metadata": {},
     "output_type": "display_data"
    },
    {
     "data": {
      "text/html": [
       "<span style=\"color:#7E57C2\"><h2 style=\"font-size:16px\">Hyperparameters:</h2></span>"
      ],
      "text/plain": [
       "<IPython.core.display.HTML object>"
      ]
     },
     "metadata": {},
     "output_type": "display_data"
    },
    {
     "data": {
      "text/html": [
       "<span style=\"color:cyan\"> |-hidden_0_units: 181</span>"
      ],
      "text/plain": [
       "<IPython.core.display.HTML object>"
      ]
     },
     "metadata": {},
     "output_type": "display_data"
    },
    {
     "data": {
      "text/html": [
       "<span style=\"color:blue\"> |-hidden_1_units: 150</span>"
      ],
      "text/plain": [
       "<IPython.core.display.HTML object>"
      ]
     },
     "metadata": {},
     "output_type": "display_data"
    },
    {
     "data": {
      "text/html": [
       "<span style=\"color:cyan\"> |-learning_rate: 0.001</span>"
      ],
      "text/plain": [
       "<IPython.core.display.HTML object>"
      ]
     },
     "metadata": {},
     "output_type": "display_data"
    },
    {
     "data": {
      "text/html": [
       "<span style=\"color:blue\"> |-n_layers: 2</span>"
      ],
      "text/plain": [
       "<IPython.core.display.HTML object>"
      ]
     },
     "metadata": {},
     "output_type": "display_data"
    },
    {
     "data": {
      "text/html": [
       "<span style=\"color:cyan\"> |-tuner/bracket: 2</span>"
      ],
      "text/plain": [
       "<IPython.core.display.HTML object>"
      ]
     },
     "metadata": {},
     "output_type": "display_data"
    },
    {
     "data": {
      "text/html": [
       "<span style=\"color:blue\"> |-tuner/epochs: 25</span>"
      ],
      "text/plain": [
       "<IPython.core.display.HTML object>"
      ]
     },
     "metadata": {},
     "output_type": "display_data"
    },
    {
     "data": {
      "text/html": [
       "<span style=\"color:cyan\"> |-tuner/initial_epoch: 9</span>"
      ],
      "text/plain": [
       "<IPython.core.display.HTML object>"
      ]
     },
     "metadata": {},
     "output_type": "display_data"
    },
    {
     "data": {
      "text/html": [
       "<span style=\"color:blue\"> |-tuner/round: 2</span>"
      ],
      "text/plain": [
       "<IPython.core.display.HTML object>"
      ]
     },
     "metadata": {},
     "output_type": "display_data"
    },
    {
     "data": {
      "text/html": [
       "<span style=\"color:cyan\"> |-tuner/trial_id: 43ce6b4d8c8288ab3d1c57c83219af12</span>"
      ],
      "text/plain": [
       "<IPython.core.display.HTML object>"
      ]
     },
     "metadata": {},
     "output_type": "display_data"
    },
    {
     "name": "stdout",
     "output_type": "stream",
     "text": [
      "Train on 7225 samples, validate on 1275 samples\n",
      "Epoch 10/25\n",
      "7225/7225 - 1s - loss: 0.0166 - mean_squared_error: 0.0166 - val_loss: 4.5757e-04 - val_mean_squared_error: 4.5757e-04\n",
      "Epoch 11/25\n",
      "7225/7225 - 1s - loss: 7.1272e-04 - mean_squared_error: 7.1272e-04 - val_loss: 0.0018 - val_mean_squared_error: 0.0018\n",
      "Epoch 12/25\n",
      "7225/7225 - 1s - loss: 7.8427e-04 - mean_squared_error: 7.8427e-04 - val_loss: 6.4590e-04 - val_mean_squared_error: 6.4590e-04\n",
      "Epoch 13/25\n",
      "7225/7225 - 1s - loss: 7.7648e-04 - mean_squared_error: 7.7648e-04 - val_loss: 7.6121e-04 - val_mean_squared_error: 7.6121e-04\n",
      "Epoch 14/25\n",
      "7225/7225 - 1s - loss: 0.0011 - mean_squared_error: 0.0011 - val_loss: 0.0017 - val_mean_squared_error: 0.0017\n",
      "Epoch 15/25\n",
      "7225/7225 - 1s - loss: 0.0015 - mean_squared_error: 0.0015 - val_loss: 0.0015 - val_mean_squared_error: 0.0015\n",
      "Epoch 16/25\n",
      "7225/7225 - 1s - loss: 0.0016 - mean_squared_error: 0.0016 - val_loss: 0.0017 - val_mean_squared_error: 0.0017\n"
     ]
    },
    {
     "data": {
      "text/html": [
       "<span style=\"color:#4527A0\"><h1 style=\"font-size:18px\">Trial complete</h1></span>"
      ],
      "text/plain": [
       "<IPython.core.display.HTML object>"
      ]
     },
     "metadata": {},
     "output_type": "display_data"
    },
    {
     "data": {
      "text/html": [
       "<span style=\"color:#4527A0\"><h1 style=\"font-size:18px\">Trial summary</h1></span>"
      ],
      "text/plain": [
       "<IPython.core.display.HTML object>"
      ]
     },
     "metadata": {},
     "output_type": "display_data"
    },
    {
     "data": {
      "text/html": [
       "<span style=\"color:cyan\"> |-Trial ID: e01233740795380b3034956af21d10b3</span>"
      ],
      "text/plain": [
       "<IPython.core.display.HTML object>"
      ]
     },
     "metadata": {},
     "output_type": "display_data"
    },
    {
     "data": {
      "text/html": [
       "<span style=\"color:cyan\"> |-Score: 0.0007127173594199121</span>"
      ],
      "text/plain": [
       "<IPython.core.display.HTML object>"
      ]
     },
     "metadata": {},
     "output_type": "display_data"
    },
    {
     "data": {
      "text/html": [
       "<span style=\"color:cyan\"> |-Best step: 0</span>"
      ],
      "text/plain": [
       "<IPython.core.display.HTML object>"
      ]
     },
     "metadata": {},
     "output_type": "display_data"
    },
    {
     "data": {
      "text/html": [
       "<span style=\"color:#7E57C2\"><h2 style=\"font-size:16px\">Hyperparameters:</h2></span>"
      ],
      "text/plain": [
       "<IPython.core.display.HTML object>"
      ]
     },
     "metadata": {},
     "output_type": "display_data"
    },
    {
     "data": {
      "text/html": [
       "<span style=\"color:cyan\"> |-hidden_0_units: 68</span>"
      ],
      "text/plain": [
       "<IPython.core.display.HTML object>"
      ]
     },
     "metadata": {},
     "output_type": "display_data"
    },
    {
     "data": {
      "text/html": [
       "<span style=\"color:blue\"> |-hidden_1_units: 107</span>"
      ],
      "text/plain": [
       "<IPython.core.display.HTML object>"
      ]
     },
     "metadata": {},
     "output_type": "display_data"
    },
    {
     "data": {
      "text/html": [
       "<span style=\"color:cyan\"> |-learning_rate: 0.01</span>"
      ],
      "text/plain": [
       "<IPython.core.display.HTML object>"
      ]
     },
     "metadata": {},
     "output_type": "display_data"
    },
    {
     "data": {
      "text/html": [
       "<span style=\"color:blue\"> |-n_layers: 2</span>"
      ],
      "text/plain": [
       "<IPython.core.display.HTML object>"
      ]
     },
     "metadata": {},
     "output_type": "display_data"
    },
    {
     "data": {
      "text/html": [
       "<span style=\"color:cyan\"> |-tuner/bracket: 2</span>"
      ],
      "text/plain": [
       "<IPython.core.display.HTML object>"
      ]
     },
     "metadata": {},
     "output_type": "display_data"
    },
    {
     "data": {
      "text/html": [
       "<span style=\"color:blue\"> |-tuner/epochs: 25</span>"
      ],
      "text/plain": [
       "<IPython.core.display.HTML object>"
      ]
     },
     "metadata": {},
     "output_type": "display_data"
    },
    {
     "data": {
      "text/html": [
       "<span style=\"color:cyan\"> |-tuner/initial_epoch: 9</span>"
      ],
      "text/plain": [
       "<IPython.core.display.HTML object>"
      ]
     },
     "metadata": {},
     "output_type": "display_data"
    },
    {
     "data": {
      "text/html": [
       "<span style=\"color:blue\"> |-tuner/round: 2</span>"
      ],
      "text/plain": [
       "<IPython.core.display.HTML object>"
      ]
     },
     "metadata": {},
     "output_type": "display_data"
    },
    {
     "data": {
      "text/html": [
       "<span style=\"color:cyan\"> |-tuner/trial_id: 06f86ec19dc064571c688f473053702a</span>"
      ],
      "text/plain": [
       "<IPython.core.display.HTML object>"
      ]
     },
     "metadata": {},
     "output_type": "display_data"
    },
    {
     "name": "stdout",
     "output_type": "stream",
     "text": [
      "Train on 7225 samples, validate on 1275 samples\n",
      "Epoch 1/9\n",
      "7225/7225 - 2s - loss: 0.1613 - mean_squared_error: 0.1613 - val_loss: 0.1286 - val_mean_squared_error: 0.1286\n",
      "Epoch 2/9\n",
      "7225/7225 - 1s - loss: 0.0963 - mean_squared_error: 0.0963 - val_loss: 0.0701 - val_mean_squared_error: 0.0701\n",
      "Epoch 3/9\n",
      "7225/7225 - 1s - loss: 0.0522 - mean_squared_error: 0.0522 - val_loss: 0.0390 - val_mean_squared_error: 0.0390\n",
      "Epoch 4/9\n",
      "7225/7225 - 1s - loss: 0.0288 - mean_squared_error: 0.0288 - val_loss: 0.0213 - val_mean_squared_error: 0.0213\n",
      "Epoch 5/9\n",
      "7225/7225 - 1s - loss: 0.0155 - mean_squared_error: 0.0155 - val_loss: 0.0115 - val_mean_squared_error: 0.0115\n",
      "Epoch 6/9\n",
      "7225/7225 - 1s - loss: 0.0084 - mean_squared_error: 0.0084 - val_loss: 0.0064 - val_mean_squared_error: 0.0064\n",
      "Epoch 7/9\n",
      "7225/7225 - 1s - loss: 0.0049 - mean_squared_error: 0.0049 - val_loss: 0.0039 - val_mean_squared_error: 0.0039\n",
      "Epoch 8/9\n",
      "7225/7225 - 1s - loss: 0.0030 - mean_squared_error: 0.0030 - val_loss: 0.0025 - val_mean_squared_error: 0.0025\n",
      "Epoch 9/9\n",
      "7225/7225 - 1s - loss: 0.0020 - mean_squared_error: 0.0020 - val_loss: 0.0018 - val_mean_squared_error: 0.0018\n"
     ]
    },
    {
     "data": {
      "text/html": [
       "<span style=\"color:#4527A0\"><h1 style=\"font-size:18px\">Trial complete</h1></span>"
      ],
      "text/plain": [
       "<IPython.core.display.HTML object>"
      ]
     },
     "metadata": {},
     "output_type": "display_data"
    },
    {
     "data": {
      "text/html": [
       "<span style=\"color:#4527A0\"><h1 style=\"font-size:18px\">Trial summary</h1></span>"
      ],
      "text/plain": [
       "<IPython.core.display.HTML object>"
      ]
     },
     "metadata": {},
     "output_type": "display_data"
    },
    {
     "data": {
      "text/html": [
       "<span style=\"color:cyan\"> |-Trial ID: d8fc9e97609efda713b67e498a58ff5c</span>"
      ],
      "text/plain": [
       "<IPython.core.display.HTML object>"
      ]
     },
     "metadata": {},
     "output_type": "display_data"
    },
    {
     "data": {
      "text/html": [
       "<span style=\"color:cyan\"> |-Score: 0.0020385028328746557</span>"
      ],
      "text/plain": [
       "<IPython.core.display.HTML object>"
      ]
     },
     "metadata": {},
     "output_type": "display_data"
    },
    {
     "data": {
      "text/html": [
       "<span style=\"color:cyan\"> |-Best step: 0</span>"
      ],
      "text/plain": [
       "<IPython.core.display.HTML object>"
      ]
     },
     "metadata": {},
     "output_type": "display_data"
    },
    {
     "data": {
      "text/html": [
       "<span style=\"color:#7E57C2\"><h2 style=\"font-size:16px\">Hyperparameters:</h2></span>"
      ],
      "text/plain": [
       "<IPython.core.display.HTML object>"
      ]
     },
     "metadata": {},
     "output_type": "display_data"
    },
    {
     "data": {
      "text/html": [
       "<span style=\"color:cyan\"> |-hidden_0_units: 266</span>"
      ],
      "text/plain": [
       "<IPython.core.display.HTML object>"
      ]
     },
     "metadata": {},
     "output_type": "display_data"
    },
    {
     "data": {
      "text/html": [
       "<span style=\"color:blue\"> |-hidden_1_units: 171</span>"
      ],
      "text/plain": [
       "<IPython.core.display.HTML object>"
      ]
     },
     "metadata": {},
     "output_type": "display_data"
    },
    {
     "data": {
      "text/html": [
       "<span style=\"color:cyan\"> |-learning_rate: 0.0001</span>"
      ],
      "text/plain": [
       "<IPython.core.display.HTML object>"
      ]
     },
     "metadata": {},
     "output_type": "display_data"
    },
    {
     "data": {
      "text/html": [
       "<span style=\"color:blue\"> |-n_layers: 2</span>"
      ],
      "text/plain": [
       "<IPython.core.display.HTML object>"
      ]
     },
     "metadata": {},
     "output_type": "display_data"
    },
    {
     "data": {
      "text/html": [
       "<span style=\"color:cyan\"> |-tuner/bracket: 1</span>"
      ],
      "text/plain": [
       "<IPython.core.display.HTML object>"
      ]
     },
     "metadata": {},
     "output_type": "display_data"
    },
    {
     "data": {
      "text/html": [
       "<span style=\"color:blue\"> |-tuner/epochs: 9</span>"
      ],
      "text/plain": [
       "<IPython.core.display.HTML object>"
      ]
     },
     "metadata": {},
     "output_type": "display_data"
    },
    {
     "data": {
      "text/html": [
       "<span style=\"color:cyan\"> |-tuner/initial_epoch: 0</span>"
      ],
      "text/plain": [
       "<IPython.core.display.HTML object>"
      ]
     },
     "metadata": {},
     "output_type": "display_data"
    },
    {
     "data": {
      "text/html": [
       "<span style=\"color:blue\"> |-tuner/round: 0</span>"
      ],
      "text/plain": [
       "<IPython.core.display.HTML object>"
      ]
     },
     "metadata": {},
     "output_type": "display_data"
    },
    {
     "name": "stdout",
     "output_type": "stream",
     "text": [
      "Train on 7225 samples, validate on 1275 samples\n",
      "Epoch 1/9\n",
      "7225/7225 - 1s - loss: 0.0900 - mean_squared_error: 0.0900 - val_loss: 0.0253 - val_mean_squared_error: 0.0253\n",
      "Epoch 2/9\n",
      "7225/7225 - 1s - loss: 0.0107 - mean_squared_error: 0.0107 - val_loss: 0.0041 - val_mean_squared_error: 0.0041\n",
      "Epoch 3/9\n",
      "7225/7225 - 1s - loss: 0.0024 - mean_squared_error: 0.0024 - val_loss: 0.0015 - val_mean_squared_error: 0.0015\n",
      "Epoch 4/9\n",
      "7225/7225 - 1s - loss: 0.0011 - mean_squared_error: 0.0011 - val_loss: 8.8714e-04 - val_mean_squared_error: 8.8714e-04\n",
      "Epoch 5/9\n",
      "7225/7225 - 1s - loss: 7.4235e-04 - mean_squared_error: 7.4235e-04 - val_loss: 6.3193e-04 - val_mean_squared_error: 6.3193e-04\n",
      "Epoch 6/9\n",
      "7225/7225 - 1s - loss: 5.7224e-04 - mean_squared_error: 5.7224e-04 - val_loss: 5.3669e-04 - val_mean_squared_error: 5.3669e-04\n",
      "Epoch 7/9\n",
      "7225/7225 - 1s - loss: 4.9173e-04 - mean_squared_error: 4.9173e-04 - val_loss: 4.9839e-04 - val_mean_squared_error: 4.9839e-04\n",
      "Epoch 8/9\n",
      "7225/7225 - 1s - loss: 4.4164e-04 - mean_squared_error: 4.4164e-04 - val_loss: 4.0574e-04 - val_mean_squared_error: 4.0574e-04\n",
      "Epoch 9/9\n",
      "7225/7225 - 1s - loss: 4.0951e-04 - mean_squared_error: 4.0951e-04 - val_loss: 3.8185e-04 - val_mean_squared_error: 3.8185e-04\n"
     ]
    },
    {
     "data": {
      "text/html": [
       "<span style=\"color:#4527A0\"><h1 style=\"font-size:18px\">Trial complete</h1></span>"
      ],
      "text/plain": [
       "<IPython.core.display.HTML object>"
      ]
     },
     "metadata": {},
     "output_type": "display_data"
    },
    {
     "data": {
      "text/html": [
       "<span style=\"color:#4527A0\"><h1 style=\"font-size:18px\">Trial summary</h1></span>"
      ],
      "text/plain": [
       "<IPython.core.display.HTML object>"
      ]
     },
     "metadata": {},
     "output_type": "display_data"
    },
    {
     "data": {
      "text/html": [
       "<span style=\"color:cyan\"> |-Trial ID: b76291b8f63f95e59e1a13648db73932</span>"
      ],
      "text/plain": [
       "<IPython.core.display.HTML object>"
      ]
     },
     "metadata": {},
     "output_type": "display_data"
    },
    {
     "data": {
      "text/html": [
       "<span style=\"color:cyan\"> |-Score: 0.0004095116164535284</span>"
      ],
      "text/plain": [
       "<IPython.core.display.HTML object>"
      ]
     },
     "metadata": {},
     "output_type": "display_data"
    },
    {
     "data": {
      "text/html": [
       "<span style=\"color:cyan\"> |-Best step: 0</span>"
      ],
      "text/plain": [
       "<IPython.core.display.HTML object>"
      ]
     },
     "metadata": {},
     "output_type": "display_data"
    },
    {
     "data": {
      "text/html": [
       "<span style=\"color:#7E57C2\"><h2 style=\"font-size:16px\">Hyperparameters:</h2></span>"
      ],
      "text/plain": [
       "<IPython.core.display.HTML object>"
      ]
     },
     "metadata": {},
     "output_type": "display_data"
    },
    {
     "data": {
      "text/html": [
       "<span style=\"color:cyan\"> |-hidden_0_units: 177</span>"
      ],
      "text/plain": [
       "<IPython.core.display.HTML object>"
      ]
     },
     "metadata": {},
     "output_type": "display_data"
    },
    {
     "data": {
      "text/html": [
       "<span style=\"color:blue\"> |-hidden_1_units: 230</span>"
      ],
      "text/plain": [
       "<IPython.core.display.HTML object>"
      ]
     },
     "metadata": {},
     "output_type": "display_data"
    },
    {
     "data": {
      "text/html": [
       "<span style=\"color:cyan\"> |-learning_rate: 0.001</span>"
      ],
      "text/plain": [
       "<IPython.core.display.HTML object>"
      ]
     },
     "metadata": {},
     "output_type": "display_data"
    },
    {
     "data": {
      "text/html": [
       "<span style=\"color:blue\"> |-n_layers: 1</span>"
      ],
      "text/plain": [
       "<IPython.core.display.HTML object>"
      ]
     },
     "metadata": {},
     "output_type": "display_data"
    },
    {
     "data": {
      "text/html": [
       "<span style=\"color:cyan\"> |-tuner/bracket: 1</span>"
      ],
      "text/plain": [
       "<IPython.core.display.HTML object>"
      ]
     },
     "metadata": {},
     "output_type": "display_data"
    },
    {
     "data": {
      "text/html": [
       "<span style=\"color:blue\"> |-tuner/epochs: 9</span>"
      ],
      "text/plain": [
       "<IPython.core.display.HTML object>"
      ]
     },
     "metadata": {},
     "output_type": "display_data"
    },
    {
     "data": {
      "text/html": [
       "<span style=\"color:cyan\"> |-tuner/initial_epoch: 0</span>"
      ],
      "text/plain": [
       "<IPython.core.display.HTML object>"
      ]
     },
     "metadata": {},
     "output_type": "display_data"
    },
    {
     "data": {
      "text/html": [
       "<span style=\"color:blue\"> |-tuner/round: 0</span>"
      ],
      "text/plain": [
       "<IPython.core.display.HTML object>"
      ]
     },
     "metadata": {},
     "output_type": "display_data"
    },
    {
     "name": "stdout",
     "output_type": "stream",
     "text": [
      "Train on 7225 samples, validate on 1275 samples\n",
      "Epoch 1/9\n",
      "7225/7225 - 1s - loss: 0.1776 - mean_squared_error: 0.1776 - val_loss: 0.1636 - val_mean_squared_error: 0.1636\n",
      "Epoch 2/9\n",
      "7225/7225 - 1s - loss: 0.1498 - mean_squared_error: 0.1498 - val_loss: 0.1372 - val_mean_squared_error: 0.1372\n",
      "Epoch 3/9\n",
      "7225/7225 - 1s - loss: 0.1241 - mean_squared_error: 0.1241 - val_loss: 0.1126 - val_mean_squared_error: 0.1126\n",
      "Epoch 4/9\n",
      "7225/7225 - 1s - loss: 0.1031 - mean_squared_error: 0.1031 - val_loss: 0.0951 - val_mean_squared_error: 0.0951\n",
      "Epoch 5/9\n",
      "7225/7225 - 1s - loss: 0.0890 - mean_squared_error: 0.0890 - val_loss: 0.0836 - val_mean_squared_error: 0.0836\n",
      "Epoch 6/9\n",
      "7225/7225 - 1s - loss: 0.0794 - mean_squared_error: 0.0794 - val_loss: 0.0754 - val_mean_squared_error: 0.0754\n",
      "Epoch 7/9\n",
      "7225/7225 - 1s - loss: 0.0722 - mean_squared_error: 0.0722 - val_loss: 0.0690 - val_mean_squared_error: 0.0690\n",
      "Epoch 8/9\n",
      "7225/7225 - 1s - loss: 0.0664 - mean_squared_error: 0.0664 - val_loss: 0.0638 - val_mean_squared_error: 0.0638\n",
      "Epoch 9/9\n",
      "7225/7225 - 1s - loss: 0.0615 - mean_squared_error: 0.0615 - val_loss: 0.0593 - val_mean_squared_error: 0.0593\n"
     ]
    },
    {
     "data": {
      "text/html": [
       "<span style=\"color:#4527A0\"><h1 style=\"font-size:18px\">Trial complete</h1></span>"
      ],
      "text/plain": [
       "<IPython.core.display.HTML object>"
      ]
     },
     "metadata": {},
     "output_type": "display_data"
    },
    {
     "data": {
      "text/html": [
       "<span style=\"color:#4527A0\"><h1 style=\"font-size:18px\">Trial summary</h1></span>"
      ],
      "text/plain": [
       "<IPython.core.display.HTML object>"
      ]
     },
     "metadata": {},
     "output_type": "display_data"
    },
    {
     "data": {
      "text/html": [
       "<span style=\"color:cyan\"> |-Trial ID: 552444d7f8a78403e8430715b0b850b4</span>"
      ],
      "text/plain": [
       "<IPython.core.display.HTML object>"
      ]
     },
     "metadata": {},
     "output_type": "display_data"
    },
    {
     "data": {
      "text/html": [
       "<span style=\"color:cyan\"> |-Score: 0.0614771693944931</span>"
      ],
      "text/plain": [
       "<IPython.core.display.HTML object>"
      ]
     },
     "metadata": {},
     "output_type": "display_data"
    },
    {
     "data": {
      "text/html": [
       "<span style=\"color:cyan\"> |-Best step: 0</span>"
      ],
      "text/plain": [
       "<IPython.core.display.HTML object>"
      ]
     },
     "metadata": {},
     "output_type": "display_data"
    },
    {
     "data": {
      "text/html": [
       "<span style=\"color:#7E57C2\"><h2 style=\"font-size:16px\">Hyperparameters:</h2></span>"
      ],
      "text/plain": [
       "<IPython.core.display.HTML object>"
      ]
     },
     "metadata": {},
     "output_type": "display_data"
    },
    {
     "data": {
      "text/html": [
       "<span style=\"color:cyan\"> |-hidden_0_units: 25</span>"
      ],
      "text/plain": [
       "<IPython.core.display.HTML object>"
      ]
     },
     "metadata": {},
     "output_type": "display_data"
    },
    {
     "data": {
      "text/html": [
       "<span style=\"color:blue\"> |-hidden_1_units: 239</span>"
      ],
      "text/plain": [
       "<IPython.core.display.HTML object>"
      ]
     },
     "metadata": {},
     "output_type": "display_data"
    },
    {
     "data": {
      "text/html": [
       "<span style=\"color:cyan\"> |-learning_rate: 0.0001</span>"
      ],
      "text/plain": [
       "<IPython.core.display.HTML object>"
      ]
     },
     "metadata": {},
     "output_type": "display_data"
    },
    {
     "data": {
      "text/html": [
       "<span style=\"color:blue\"> |-n_layers: 2</span>"
      ],
      "text/plain": [
       "<IPython.core.display.HTML object>"
      ]
     },
     "metadata": {},
     "output_type": "display_data"
    },
    {
     "data": {
      "text/html": [
       "<span style=\"color:cyan\"> |-tuner/bracket: 1</span>"
      ],
      "text/plain": [
       "<IPython.core.display.HTML object>"
      ]
     },
     "metadata": {},
     "output_type": "display_data"
    },
    {
     "data": {
      "text/html": [
       "<span style=\"color:blue\"> |-tuner/epochs: 9</span>"
      ],
      "text/plain": [
       "<IPython.core.display.HTML object>"
      ]
     },
     "metadata": {},
     "output_type": "display_data"
    },
    {
     "data": {
      "text/html": [
       "<span style=\"color:cyan\"> |-tuner/initial_epoch: 0</span>"
      ],
      "text/plain": [
       "<IPython.core.display.HTML object>"
      ]
     },
     "metadata": {},
     "output_type": "display_data"
    },
    {
     "data": {
      "text/html": [
       "<span style=\"color:blue\"> |-tuner/round: 0</span>"
      ],
      "text/plain": [
       "<IPython.core.display.HTML object>"
      ]
     },
     "metadata": {},
     "output_type": "display_data"
    },
    {
     "name": "stdout",
     "output_type": "stream",
     "text": [
      "Train on 7225 samples, validate on 1275 samples\n",
      "Epoch 1/9\n",
      "7225/7225 - 1s - loss: 0.1800 - mean_squared_error: 0.1800 - val_loss: 0.1630 - val_mean_squared_error: 0.1630\n",
      "Epoch 2/9\n",
      "7225/7225 - 1s - loss: 0.1464 - mean_squared_error: 0.1464 - val_loss: 0.1322 - val_mean_squared_error: 0.1322\n",
      "Epoch 3/9\n",
      "7225/7225 - 1s - loss: 0.1161 - mean_squared_error: 0.1161 - val_loss: 0.1031 - val_mean_squared_error: 0.1031\n",
      "Epoch 4/9\n",
      "7225/7225 - 1s - loss: 0.0891 - mean_squared_error: 0.0891 - val_loss: 0.0786 - val_mean_squared_error: 0.0786\n",
      "Epoch 5/9\n",
      "7225/7225 - 1s - loss: 0.0678 - mean_squared_error: 0.0678 - val_loss: 0.0600 - val_mean_squared_error: 0.0600\n",
      "Epoch 6/9\n",
      "7225/7225 - 1s - loss: 0.0518 - mean_squared_error: 0.0518 - val_loss: 0.0460 - val_mean_squared_error: 0.0460\n",
      "Epoch 7/9\n",
      "7225/7225 - 1s - loss: 0.0397 - mean_squared_error: 0.0397 - val_loss: 0.0352 - val_mean_squared_error: 0.0352\n",
      "Epoch 8/9\n",
      "7225/7225 - 1s - loss: 0.0303 - mean_squared_error: 0.0303 - val_loss: 0.0269 - val_mean_squared_error: 0.0269\n",
      "Epoch 9/9\n",
      "7225/7225 - 1s - loss: 0.0230 - mean_squared_error: 0.0230 - val_loss: 0.0204 - val_mean_squared_error: 0.0204\n"
     ]
    },
    {
     "data": {
      "text/html": [
       "<span style=\"color:#4527A0\"><h1 style=\"font-size:18px\">Trial complete</h1></span>"
      ],
      "text/plain": [
       "<IPython.core.display.HTML object>"
      ]
     },
     "metadata": {},
     "output_type": "display_data"
    },
    {
     "data": {
      "text/html": [
       "<span style=\"color:#4527A0\"><h1 style=\"font-size:18px\">Trial summary</h1></span>"
      ],
      "text/plain": [
       "<IPython.core.display.HTML object>"
      ]
     },
     "metadata": {},
     "output_type": "display_data"
    },
    {
     "data": {
      "text/html": [
       "<span style=\"color:cyan\"> |-Trial ID: 767c75ea6a71b890c9b1782a1b93481d</span>"
      ],
      "text/plain": [
       "<IPython.core.display.HTML object>"
      ]
     },
     "metadata": {},
     "output_type": "display_data"
    },
    {
     "data": {
      "text/html": [
       "<span style=\"color:cyan\"> |-Score: 0.0230367761105299</span>"
      ],
      "text/plain": [
       "<IPython.core.display.HTML object>"
      ]
     },
     "metadata": {},
     "output_type": "display_data"
    },
    {
     "data": {
      "text/html": [
       "<span style=\"color:cyan\"> |-Best step: 0</span>"
      ],
      "text/plain": [
       "<IPython.core.display.HTML object>"
      ]
     },
     "metadata": {},
     "output_type": "display_data"
    },
    {
     "data": {
      "text/html": [
       "<span style=\"color:#7E57C2\"><h2 style=\"font-size:16px\">Hyperparameters:</h2></span>"
      ],
      "text/plain": [
       "<IPython.core.display.HTML object>"
      ]
     },
     "metadata": {},
     "output_type": "display_data"
    },
    {
     "data": {
      "text/html": [
       "<span style=\"color:cyan\"> |-hidden_0_units: 243</span>"
      ],
      "text/plain": [
       "<IPython.core.display.HTML object>"
      ]
     },
     "metadata": {},
     "output_type": "display_data"
    },
    {
     "data": {
      "text/html": [
       "<span style=\"color:blue\"> |-hidden_1_units: 91</span>"
      ],
      "text/plain": [
       "<IPython.core.display.HTML object>"
      ]
     },
     "metadata": {},
     "output_type": "display_data"
    },
    {
     "data": {
      "text/html": [
       "<span style=\"color:cyan\"> |-learning_rate: 0.0001</span>"
      ],
      "text/plain": [
       "<IPython.core.display.HTML object>"
      ]
     },
     "metadata": {},
     "output_type": "display_data"
    },
    {
     "data": {
      "text/html": [
       "<span style=\"color:blue\"> |-n_layers: 1</span>"
      ],
      "text/plain": [
       "<IPython.core.display.HTML object>"
      ]
     },
     "metadata": {},
     "output_type": "display_data"
    },
    {
     "data": {
      "text/html": [
       "<span style=\"color:cyan\"> |-tuner/bracket: 1</span>"
      ],
      "text/plain": [
       "<IPython.core.display.HTML object>"
      ]
     },
     "metadata": {},
     "output_type": "display_data"
    },
    {
     "data": {
      "text/html": [
       "<span style=\"color:blue\"> |-tuner/epochs: 9</span>"
      ],
      "text/plain": [
       "<IPython.core.display.HTML object>"
      ]
     },
     "metadata": {},
     "output_type": "display_data"
    },
    {
     "data": {
      "text/html": [
       "<span style=\"color:cyan\"> |-tuner/initial_epoch: 0</span>"
      ],
      "text/plain": [
       "<IPython.core.display.HTML object>"
      ]
     },
     "metadata": {},
     "output_type": "display_data"
    },
    {
     "data": {
      "text/html": [
       "<span style=\"color:blue\"> |-tuner/round: 0</span>"
      ],
      "text/plain": [
       "<IPython.core.display.HTML object>"
      ]
     },
     "metadata": {},
     "output_type": "display_data"
    },
    {
     "name": "stdout",
     "output_type": "stream",
     "text": [
      "Train on 7225 samples, validate on 1275 samples\n",
      "Epoch 1/9\n",
      "7225/7225 - 1s - loss: 0.0984 - mean_squared_error: 0.0984 - val_loss: 0.0362 - val_mean_squared_error: 0.0362\n",
      "Epoch 2/9\n",
      "7225/7225 - 1s - loss: 0.0166 - mean_squared_error: 0.0166 - val_loss: 0.0058 - val_mean_squared_error: 0.0058\n",
      "Epoch 3/9\n",
      "7225/7225 - 1s - loss: 0.0031 - mean_squared_error: 0.0031 - val_loss: 0.0016 - val_mean_squared_error: 0.0016\n",
      "Epoch 4/9\n",
      "7225/7225 - 1s - loss: 9.6548e-04 - mean_squared_error: 9.6548e-04 - val_loss: 6.4881e-04 - val_mean_squared_error: 6.4881e-04\n",
      "Epoch 5/9\n",
      "7225/7225 - 1s - loss: 5.3989e-04 - mean_squared_error: 5.3989e-04 - val_loss: 4.6330e-04 - val_mean_squared_error: 4.6330e-04\n",
      "Epoch 6/9\n",
      "7225/7225 - 1s - loss: 4.6035e-04 - mean_squared_error: 4.6035e-04 - val_loss: 4.1845e-04 - val_mean_squared_error: 4.1845e-04\n",
      "Epoch 7/9\n",
      "7225/7225 - 1s - loss: 4.1632e-04 - mean_squared_error: 4.1632e-04 - val_loss: 4.2422e-04 - val_mean_squared_error: 4.2422e-04\n",
      "Epoch 8/9\n",
      "7225/7225 - 1s - loss: 4.2395e-04 - mean_squared_error: 4.2395e-04 - val_loss: 3.6136e-04 - val_mean_squared_error: 3.6136e-04\n",
      "Epoch 9/9\n",
      "7225/7225 - 1s - loss: 3.8222e-04 - mean_squared_error: 3.8222e-04 - val_loss: 3.8565e-04 - val_mean_squared_error: 3.8565e-04\n"
     ]
    },
    {
     "data": {
      "text/html": [
       "<span style=\"color:#4527A0\"><h1 style=\"font-size:18px\">Trial complete</h1></span>"
      ],
      "text/plain": [
       "<IPython.core.display.HTML object>"
      ]
     },
     "metadata": {},
     "output_type": "display_data"
    },
    {
     "data": {
      "text/html": [
       "<span style=\"color:#4527A0\"><h1 style=\"font-size:18px\">Trial summary</h1></span>"
      ],
      "text/plain": [
       "<IPython.core.display.HTML object>"
      ]
     },
     "metadata": {},
     "output_type": "display_data"
    },
    {
     "data": {
      "text/html": [
       "<span style=\"color:cyan\"> |-Trial ID: c47b986a545cdf0d927d7317bc75cb2e</span>"
      ],
      "text/plain": [
       "<IPython.core.display.HTML object>"
      ]
     },
     "metadata": {},
     "output_type": "display_data"
    },
    {
     "data": {
      "text/html": [
       "<span style=\"color:cyan\"> |-Score: 0.0003822202852461487</span>"
      ],
      "text/plain": [
       "<IPython.core.display.HTML object>"
      ]
     },
     "metadata": {},
     "output_type": "display_data"
    },
    {
     "data": {
      "text/html": [
       "<span style=\"color:cyan\"> |-Best step: 0</span>"
      ],
      "text/plain": [
       "<IPython.core.display.HTML object>"
      ]
     },
     "metadata": {},
     "output_type": "display_data"
    },
    {
     "data": {
      "text/html": [
       "<span style=\"color:#7E57C2\"><h2 style=\"font-size:16px\">Hyperparameters:</h2></span>"
      ],
      "text/plain": [
       "<IPython.core.display.HTML object>"
      ]
     },
     "metadata": {},
     "output_type": "display_data"
    },
    {
     "data": {
      "text/html": [
       "<span style=\"color:cyan\"> |-hidden_0_units: 75</span>"
      ],
      "text/plain": [
       "<IPython.core.display.HTML object>"
      ]
     },
     "metadata": {},
     "output_type": "display_data"
    },
    {
     "data": {
      "text/html": [
       "<span style=\"color:blue\"> |-hidden_1_units: 71</span>"
      ],
      "text/plain": [
       "<IPython.core.display.HTML object>"
      ]
     },
     "metadata": {},
     "output_type": "display_data"
    },
    {
     "data": {
      "text/html": [
       "<span style=\"color:cyan\"> |-learning_rate: 0.001</span>"
      ],
      "text/plain": [
       "<IPython.core.display.HTML object>"
      ]
     },
     "metadata": {},
     "output_type": "display_data"
    },
    {
     "data": {
      "text/html": [
       "<span style=\"color:blue\"> |-n_layers: 2</span>"
      ],
      "text/plain": [
       "<IPython.core.display.HTML object>"
      ]
     },
     "metadata": {},
     "output_type": "display_data"
    },
    {
     "data": {
      "text/html": [
       "<span style=\"color:cyan\"> |-tuner/bracket: 1</span>"
      ],
      "text/plain": [
       "<IPython.core.display.HTML object>"
      ]
     },
     "metadata": {},
     "output_type": "display_data"
    },
    {
     "data": {
      "text/html": [
       "<span style=\"color:blue\"> |-tuner/epochs: 9</span>"
      ],
      "text/plain": [
       "<IPython.core.display.HTML object>"
      ]
     },
     "metadata": {},
     "output_type": "display_data"
    },
    {
     "data": {
      "text/html": [
       "<span style=\"color:cyan\"> |-tuner/initial_epoch: 0</span>"
      ],
      "text/plain": [
       "<IPython.core.display.HTML object>"
      ]
     },
     "metadata": {},
     "output_type": "display_data"
    },
    {
     "data": {
      "text/html": [
       "<span style=\"color:blue\"> |-tuner/round: 0</span>"
      ],
      "text/plain": [
       "<IPython.core.display.HTML object>"
      ]
     },
     "metadata": {},
     "output_type": "display_data"
    },
    {
     "name": "stdout",
     "output_type": "stream",
     "text": [
      "Train on 7225 samples, validate on 1275 samples\n",
      "Epoch 1/9\n",
      "7225/7225 - 1s - loss: 0.1788 - mean_squared_error: 0.1788 - val_loss: 0.1610 - val_mean_squared_error: 0.1610\n",
      "Epoch 2/9\n",
      "7225/7225 - 1s - loss: 0.1434 - mean_squared_error: 0.1434 - val_loss: 0.1285 - val_mean_squared_error: 0.1285\n",
      "Epoch 3/9\n",
      "7225/7225 - 1s - loss: 0.1114 - mean_squared_error: 0.1114 - val_loss: 0.0978 - val_mean_squared_error: 0.0978\n",
      "Epoch 4/9\n",
      "7225/7225 - 1s - loss: 0.0830 - mean_squared_error: 0.0830 - val_loss: 0.0722 - val_mean_squared_error: 0.0722\n",
      "Epoch 5/9\n",
      "7225/7225 - 1s - loss: 0.0612 - mean_squared_error: 0.0612 - val_loss: 0.0535 - val_mean_squared_error: 0.0535\n",
      "Epoch 6/9\n",
      "7225/7225 - 1s - loss: 0.0455 - mean_squared_error: 0.0455 - val_loss: 0.0400 - val_mean_squared_error: 0.0400\n",
      "Epoch 7/9\n",
      "7225/7225 - 1s - loss: 0.0340 - mean_squared_error: 0.0340 - val_loss: 0.0299 - val_mean_squared_error: 0.0299\n",
      "Epoch 8/9\n",
      "7225/7225 - 1s - loss: 0.0253 - mean_squared_error: 0.0253 - val_loss: 0.0223 - val_mean_squared_error: 0.0223\n",
      "Epoch 9/9\n",
      "7225/7225 - 1s - loss: 0.0188 - mean_squared_error: 0.0188 - val_loss: 0.0166 - val_mean_squared_error: 0.0166\n"
     ]
    },
    {
     "data": {
      "text/html": [
       "<span style=\"color:#4527A0\"><h1 style=\"font-size:18px\">Trial complete</h1></span>"
      ],
      "text/plain": [
       "<IPython.core.display.HTML object>"
      ]
     },
     "metadata": {},
     "output_type": "display_data"
    },
    {
     "data": {
      "text/html": [
       "<span style=\"color:#4527A0\"><h1 style=\"font-size:18px\">Trial summary</h1></span>"
      ],
      "text/plain": [
       "<IPython.core.display.HTML object>"
      ]
     },
     "metadata": {},
     "output_type": "display_data"
    },
    {
     "data": {
      "text/html": [
       "<span style=\"color:cyan\"> |-Trial ID: 94ba4997844e29253db4f5263ccf1cbc</span>"
      ],
      "text/plain": [
       "<IPython.core.display.HTML object>"
      ]
     },
     "metadata": {},
     "output_type": "display_data"
    },
    {
     "data": {
      "text/html": [
       "<span style=\"color:cyan\"> |-Score: 0.01882322132587433</span>"
      ],
      "text/plain": [
       "<IPython.core.display.HTML object>"
      ]
     },
     "metadata": {},
     "output_type": "display_data"
    },
    {
     "data": {
      "text/html": [
       "<span style=\"color:cyan\"> |-Best step: 0</span>"
      ],
      "text/plain": [
       "<IPython.core.display.HTML object>"
      ]
     },
     "metadata": {},
     "output_type": "display_data"
    },
    {
     "data": {
      "text/html": [
       "<span style=\"color:#7E57C2\"><h2 style=\"font-size:16px\">Hyperparameters:</h2></span>"
      ],
      "text/plain": [
       "<IPython.core.display.HTML object>"
      ]
     },
     "metadata": {},
     "output_type": "display_data"
    },
    {
     "data": {
      "text/html": [
       "<span style=\"color:cyan\"> |-hidden_0_units: 274</span>"
      ],
      "text/plain": [
       "<IPython.core.display.HTML object>"
      ]
     },
     "metadata": {},
     "output_type": "display_data"
    },
    {
     "data": {
      "text/html": [
       "<span style=\"color:blue\"> |-hidden_1_units: 180</span>"
      ],
      "text/plain": [
       "<IPython.core.display.HTML object>"
      ]
     },
     "metadata": {},
     "output_type": "display_data"
    },
    {
     "data": {
      "text/html": [
       "<span style=\"color:cyan\"> |-learning_rate: 0.0001</span>"
      ],
      "text/plain": [
       "<IPython.core.display.HTML object>"
      ]
     },
     "metadata": {},
     "output_type": "display_data"
    },
    {
     "data": {
      "text/html": [
       "<span style=\"color:blue\"> |-n_layers: 1</span>"
      ],
      "text/plain": [
       "<IPython.core.display.HTML object>"
      ]
     },
     "metadata": {},
     "output_type": "display_data"
    },
    {
     "data": {
      "text/html": [
       "<span style=\"color:cyan\"> |-tuner/bracket: 1</span>"
      ],
      "text/plain": [
       "<IPython.core.display.HTML object>"
      ]
     },
     "metadata": {},
     "output_type": "display_data"
    },
    {
     "data": {
      "text/html": [
       "<span style=\"color:blue\"> |-tuner/epochs: 9</span>"
      ],
      "text/plain": [
       "<IPython.core.display.HTML object>"
      ]
     },
     "metadata": {},
     "output_type": "display_data"
    },
    {
     "data": {
      "text/html": [
       "<span style=\"color:cyan\"> |-tuner/initial_epoch: 0</span>"
      ],
      "text/plain": [
       "<IPython.core.display.HTML object>"
      ]
     },
     "metadata": {},
     "output_type": "display_data"
    },
    {
     "data": {
      "text/html": [
       "<span style=\"color:blue\"> |-tuner/round: 0</span>"
      ],
      "text/plain": [
       "<IPython.core.display.HTML object>"
      ]
     },
     "metadata": {},
     "output_type": "display_data"
    },
    {
     "name": "stdout",
     "output_type": "stream",
     "text": [
      "Train on 7225 samples, validate on 1275 samples\n",
      "Epoch 10/25\n",
      "7225/7225 - 1s - loss: 0.0962 - mean_squared_error: 0.0962 - val_loss: 0.0362 - val_mean_squared_error: 0.0362\n",
      "Epoch 11/25\n",
      "7225/7225 - 1s - loss: 0.0169 - mean_squared_error: 0.0169 - val_loss: 0.0059 - val_mean_squared_error: 0.0059\n",
      "Epoch 12/25\n",
      "7225/7225 - 1s - loss: 0.0033 - mean_squared_error: 0.0033 - val_loss: 0.0017 - val_mean_squared_error: 0.0017\n",
      "Epoch 13/25\n",
      "7225/7225 - 1s - loss: 0.0011 - mean_squared_error: 0.0011 - val_loss: 6.5716e-04 - val_mean_squared_error: 6.5716e-04\n",
      "Epoch 14/25\n",
      "7225/7225 - 1s - loss: 5.5483e-04 - mean_squared_error: 5.5483e-04 - val_loss: 4.8355e-04 - val_mean_squared_error: 4.8355e-04\n",
      "Epoch 15/25\n",
      "7225/7225 - 1s - loss: 4.5693e-04 - mean_squared_error: 4.5693e-04 - val_loss: 4.1456e-04 - val_mean_squared_error: 4.1456e-04\n",
      "Epoch 16/25\n",
      "7225/7225 - 1s - loss: 4.1381e-04 - mean_squared_error: 4.1381e-04 - val_loss: 3.7012e-04 - val_mean_squared_error: 3.7012e-04\n",
      "Epoch 17/25\n",
      "7225/7225 - 1s - loss: 3.9631e-04 - mean_squared_error: 3.9631e-04 - val_loss: 3.8034e-04 - val_mean_squared_error: 3.8034e-04\n",
      "Epoch 18/25\n",
      "7225/7225 - 1s - loss: 3.9114e-04 - mean_squared_error: 3.9114e-04 - val_loss: 3.4263e-04 - val_mean_squared_error: 3.4263e-04\n",
      "Epoch 19/25\n",
      "7225/7225 - 1s - loss: 3.8552e-04 - mean_squared_error: 3.8552e-04 - val_loss: 3.3648e-04 - val_mean_squared_error: 3.3648e-04\n",
      "Epoch 20/25\n",
      "7225/7225 - 1s - loss: 3.7389e-04 - mean_squared_error: 3.7389e-04 - val_loss: 4.7221e-04 - val_mean_squared_error: 4.7221e-04\n",
      "Epoch 21/25\n",
      "7225/7225 - 1s - loss: 4.2757e-04 - mean_squared_error: 4.2757e-04 - val_loss: 3.8038e-04 - val_mean_squared_error: 3.8038e-04\n",
      "Epoch 22/25\n",
      "7225/7225 - 1s - loss: 3.9994e-04 - mean_squared_error: 3.9994e-04 - val_loss: 5.9020e-04 - val_mean_squared_error: 5.9020e-04\n",
      "Epoch 23/25\n",
      "7225/7225 - 1s - loss: 3.7050e-04 - mean_squared_error: 3.7050e-04 - val_loss: 4.1277e-04 - val_mean_squared_error: 4.1277e-04\n",
      "Epoch 24/25\n",
      "7225/7225 - 1s - loss: 3.9143e-04 - mean_squared_error: 3.9143e-04 - val_loss: 3.3335e-04 - val_mean_squared_error: 3.3335e-04\n",
      "Epoch 25/25\n",
      "7225/7225 - 1s - loss: 3.7373e-04 - mean_squared_error: 3.7373e-04 - val_loss: 3.5983e-04 - val_mean_squared_error: 3.5983e-04\n"
     ]
    },
    {
     "data": {
      "text/html": [
       "<span style=\"color:#4527A0\"><h1 style=\"font-size:18px\">Trial complete</h1></span>"
      ],
      "text/plain": [
       "<IPython.core.display.HTML object>"
      ]
     },
     "metadata": {},
     "output_type": "display_data"
    },
    {
     "data": {
      "text/html": [
       "<span style=\"color:#4527A0\"><h1 style=\"font-size:18px\">Trial summary</h1></span>"
      ],
      "text/plain": [
       "<IPython.core.display.HTML object>"
      ]
     },
     "metadata": {},
     "output_type": "display_data"
    },
    {
     "data": {
      "text/html": [
       "<span style=\"color:cyan\"> |-Trial ID: eb6e9886d773879f06107dd35bd63bb7</span>"
      ],
      "text/plain": [
       "<IPython.core.display.HTML object>"
      ]
     },
     "metadata": {},
     "output_type": "display_data"
    },
    {
     "data": {
      "text/html": [
       "<span style=\"color:cyan\"> |-Score: 0.0003705024137161672</span>"
      ],
      "text/plain": [
       "<IPython.core.display.HTML object>"
      ]
     },
     "metadata": {},
     "output_type": "display_data"
    },
    {
     "data": {
      "text/html": [
       "<span style=\"color:cyan\"> |-Best step: 0</span>"
      ],
      "text/plain": [
       "<IPython.core.display.HTML object>"
      ]
     },
     "metadata": {},
     "output_type": "display_data"
    },
    {
     "data": {
      "text/html": [
       "<span style=\"color:#7E57C2\"><h2 style=\"font-size:16px\">Hyperparameters:</h2></span>"
      ],
      "text/plain": [
       "<IPython.core.display.HTML object>"
      ]
     },
     "metadata": {},
     "output_type": "display_data"
    },
    {
     "data": {
      "text/html": [
       "<span style=\"color:cyan\"> |-hidden_0_units: 75</span>"
      ],
      "text/plain": [
       "<IPython.core.display.HTML object>"
      ]
     },
     "metadata": {},
     "output_type": "display_data"
    },
    {
     "data": {
      "text/html": [
       "<span style=\"color:blue\"> |-hidden_1_units: 71</span>"
      ],
      "text/plain": [
       "<IPython.core.display.HTML object>"
      ]
     },
     "metadata": {},
     "output_type": "display_data"
    },
    {
     "data": {
      "text/html": [
       "<span style=\"color:cyan\"> |-learning_rate: 0.001</span>"
      ],
      "text/plain": [
       "<IPython.core.display.HTML object>"
      ]
     },
     "metadata": {},
     "output_type": "display_data"
    },
    {
     "data": {
      "text/html": [
       "<span style=\"color:blue\"> |-n_layers: 2</span>"
      ],
      "text/plain": [
       "<IPython.core.display.HTML object>"
      ]
     },
     "metadata": {},
     "output_type": "display_data"
    },
    {
     "data": {
      "text/html": [
       "<span style=\"color:cyan\"> |-tuner/bracket: 1</span>"
      ],
      "text/plain": [
       "<IPython.core.display.HTML object>"
      ]
     },
     "metadata": {},
     "output_type": "display_data"
    },
    {
     "data": {
      "text/html": [
       "<span style=\"color:blue\"> |-tuner/epochs: 25</span>"
      ],
      "text/plain": [
       "<IPython.core.display.HTML object>"
      ]
     },
     "metadata": {},
     "output_type": "display_data"
    },
    {
     "data": {
      "text/html": [
       "<span style=\"color:cyan\"> |-tuner/initial_epoch: 9</span>"
      ],
      "text/plain": [
       "<IPython.core.display.HTML object>"
      ]
     },
     "metadata": {},
     "output_type": "display_data"
    },
    {
     "data": {
      "text/html": [
       "<span style=\"color:blue\"> |-tuner/round: 1</span>"
      ],
      "text/plain": [
       "<IPython.core.display.HTML object>"
      ]
     },
     "metadata": {},
     "output_type": "display_data"
    },
    {
     "data": {
      "text/html": [
       "<span style=\"color:cyan\"> |-tuner/trial_id: c47b986a545cdf0d927d7317bc75cb2e</span>"
      ],
      "text/plain": [
       "<IPython.core.display.HTML object>"
      ]
     },
     "metadata": {},
     "output_type": "display_data"
    },
    {
     "name": "stdout",
     "output_type": "stream",
     "text": [
      "Train on 7225 samples, validate on 1275 samples\n",
      "Epoch 10/25\n",
      "7225/7225 - 1s - loss: 0.0938 - mean_squared_error: 0.0938 - val_loss: 0.0280 - val_mean_squared_error: 0.0280\n",
      "Epoch 11/25\n",
      "7225/7225 - 1s - loss: 0.0122 - mean_squared_error: 0.0122 - val_loss: 0.0047 - val_mean_squared_error: 0.0047\n",
      "Epoch 12/25\n",
      "7225/7225 - 1s - loss: 0.0027 - mean_squared_error: 0.0027 - val_loss: 0.0017 - val_mean_squared_error: 0.0017\n",
      "Epoch 13/25\n",
      "7225/7225 - 1s - loss: 0.0012 - mean_squared_error: 0.0012 - val_loss: 9.7389e-04 - val_mean_squared_error: 9.7389e-04\n",
      "Epoch 14/25\n",
      "7225/7225 - 1s - loss: 7.8876e-04 - mean_squared_error: 7.8876e-04 - val_loss: 6.7860e-04 - val_mean_squared_error: 6.7860e-04\n",
      "Epoch 15/25\n",
      "7225/7225 - 1s - loss: 6.0248e-04 - mean_squared_error: 6.0248e-04 - val_loss: 5.3720e-04 - val_mean_squared_error: 5.3720e-04\n",
      "Epoch 16/25\n",
      "7225/7225 - 1s - loss: 5.0740e-04 - mean_squared_error: 5.0740e-04 - val_loss: 4.6239e-04 - val_mean_squared_error: 4.6239e-04\n",
      "Epoch 17/25\n",
      "7225/7225 - 1s - loss: 4.5511e-04 - mean_squared_error: 4.5511e-04 - val_loss: 4.1820e-04 - val_mean_squared_error: 4.1820e-04\n",
      "Epoch 18/25\n",
      "7225/7225 - 1s - loss: 4.2817e-04 - mean_squared_error: 4.2817e-04 - val_loss: 4.0255e-04 - val_mean_squared_error: 4.0255e-04\n",
      "Epoch 19/25\n",
      "7225/7225 - 1s - loss: 3.9361e-04 - mean_squared_error: 3.9361e-04 - val_loss: 4.0013e-04 - val_mean_squared_error: 4.0013e-04\n",
      "Epoch 20/25\n",
      "7225/7225 - 1s - loss: 3.8724e-04 - mean_squared_error: 3.8724e-04 - val_loss: 3.8536e-04 - val_mean_squared_error: 3.8536e-04\n",
      "Epoch 21/25\n",
      "7225/7225 - 1s - loss: 3.7855e-04 - mean_squared_error: 3.7855e-04 - val_loss: 3.4407e-04 - val_mean_squared_error: 3.4407e-04\n",
      "Epoch 22/25\n",
      "7225/7225 - 1s - loss: 3.7017e-04 - mean_squared_error: 3.7017e-04 - val_loss: 3.6725e-04 - val_mean_squared_error: 3.6725e-04\n",
      "Epoch 23/25\n",
      "7225/7225 - 1s - loss: 3.6532e-04 - mean_squared_error: 3.6532e-04 - val_loss: 3.2553e-04 - val_mean_squared_error: 3.2553e-04\n",
      "Epoch 24/25\n",
      "7225/7225 - 1s - loss: 3.6893e-04 - mean_squared_error: 3.6893e-04 - val_loss: 3.5548e-04 - val_mean_squared_error: 3.5548e-04\n",
      "Epoch 25/25\n",
      "7225/7225 - 1s - loss: 3.5480e-04 - mean_squared_error: 3.5480e-04 - val_loss: 3.1576e-04 - val_mean_squared_error: 3.1576e-04\n"
     ]
    },
    {
     "data": {
      "text/html": [
       "<span style=\"color:#4527A0\"><h1 style=\"font-size:18px\">Trial complete</h1></span>"
      ],
      "text/plain": [
       "<IPython.core.display.HTML object>"
      ]
     },
     "metadata": {},
     "output_type": "display_data"
    },
    {
     "data": {
      "text/html": [
       "<span style=\"color:#4527A0\"><h1 style=\"font-size:18px\">Trial summary</h1></span>"
      ],
      "text/plain": [
       "<IPython.core.display.HTML object>"
      ]
     },
     "metadata": {},
     "output_type": "display_data"
    },
    {
     "data": {
      "text/html": [
       "<span style=\"color:cyan\"> |-Trial ID: 5c9a7ba6cd1316520c4180e4b2a52d5a</span>"
      ],
      "text/plain": [
       "<IPython.core.display.HTML object>"
      ]
     },
     "metadata": {},
     "output_type": "display_data"
    },
    {
     "data": {
      "text/html": [
       "<span style=\"color:cyan\"> |-Score: 0.0003548026143107563</span>"
      ],
      "text/plain": [
       "<IPython.core.display.HTML object>"
      ]
     },
     "metadata": {},
     "output_type": "display_data"
    },
    {
     "data": {
      "text/html": [
       "<span style=\"color:cyan\"> |-Best step: 0</span>"
      ],
      "text/plain": [
       "<IPython.core.display.HTML object>"
      ]
     },
     "metadata": {},
     "output_type": "display_data"
    },
    {
     "data": {
      "text/html": [
       "<span style=\"color:#7E57C2\"><h2 style=\"font-size:16px\">Hyperparameters:</h2></span>"
      ],
      "text/plain": [
       "<IPython.core.display.HTML object>"
      ]
     },
     "metadata": {},
     "output_type": "display_data"
    },
    {
     "data": {
      "text/html": [
       "<span style=\"color:cyan\"> |-hidden_0_units: 177</span>"
      ],
      "text/plain": [
       "<IPython.core.display.HTML object>"
      ]
     },
     "metadata": {},
     "output_type": "display_data"
    },
    {
     "data": {
      "text/html": [
       "<span style=\"color:blue\"> |-hidden_1_units: 230</span>"
      ],
      "text/plain": [
       "<IPython.core.display.HTML object>"
      ]
     },
     "metadata": {},
     "output_type": "display_data"
    },
    {
     "data": {
      "text/html": [
       "<span style=\"color:cyan\"> |-learning_rate: 0.001</span>"
      ],
      "text/plain": [
       "<IPython.core.display.HTML object>"
      ]
     },
     "metadata": {},
     "output_type": "display_data"
    },
    {
     "data": {
      "text/html": [
       "<span style=\"color:blue\"> |-n_layers: 1</span>"
      ],
      "text/plain": [
       "<IPython.core.display.HTML object>"
      ]
     },
     "metadata": {},
     "output_type": "display_data"
    },
    {
     "data": {
      "text/html": [
       "<span style=\"color:cyan\"> |-tuner/bracket: 1</span>"
      ],
      "text/plain": [
       "<IPython.core.display.HTML object>"
      ]
     },
     "metadata": {},
     "output_type": "display_data"
    },
    {
     "data": {
      "text/html": [
       "<span style=\"color:blue\"> |-tuner/epochs: 25</span>"
      ],
      "text/plain": [
       "<IPython.core.display.HTML object>"
      ]
     },
     "metadata": {},
     "output_type": "display_data"
    },
    {
     "data": {
      "text/html": [
       "<span style=\"color:cyan\"> |-tuner/initial_epoch: 9</span>"
      ],
      "text/plain": [
       "<IPython.core.display.HTML object>"
      ]
     },
     "metadata": {},
     "output_type": "display_data"
    },
    {
     "data": {
      "text/html": [
       "<span style=\"color:blue\"> |-tuner/round: 1</span>"
      ],
      "text/plain": [
       "<IPython.core.display.HTML object>"
      ]
     },
     "metadata": {},
     "output_type": "display_data"
    },
    {
     "data": {
      "text/html": [
       "<span style=\"color:cyan\"> |-tuner/trial_id: b76291b8f63f95e59e1a13648db73932</span>"
      ],
      "text/plain": [
       "<IPython.core.display.HTML object>"
      ]
     },
     "metadata": {},
     "output_type": "display_data"
    },
    {
     "name": "stdout",
     "output_type": "stream",
     "text": [
      "Train on 7225 samples, validate on 1275 samples\n",
      "Epoch 1/25\n",
      "7225/7225 - 1s - loss: 0.0847 - mean_squared_error: 0.0847 - val_loss: 0.0228 - val_mean_squared_error: 0.0228\n",
      "Epoch 2/25\n",
      "7225/7225 - 1s - loss: 0.0091 - mean_squared_error: 0.0091 - val_loss: 0.0030 - val_mean_squared_error: 0.0030\n",
      "Epoch 3/25\n",
      "7225/7225 - 1s - loss: 0.0016 - mean_squared_error: 0.0016 - val_loss: 8.2884e-04 - val_mean_squared_error: 8.2884e-04\n",
      "Epoch 4/25\n",
      "7225/7225 - 1s - loss: 6.0986e-04 - mean_squared_error: 6.0985e-04 - val_loss: 5.7184e-04 - val_mean_squared_error: 5.7184e-04\n",
      "Epoch 5/25\n",
      "7225/7225 - 1s - loss: 4.6842e-04 - mean_squared_error: 4.6842e-04 - val_loss: 4.2790e-04 - val_mean_squared_error: 4.2790e-04\n",
      "Epoch 6/25\n",
      "7225/7225 - 1s - loss: 4.4413e-04 - mean_squared_error: 4.4413e-04 - val_loss: 3.9881e-04 - val_mean_squared_error: 3.9881e-04\n",
      "Epoch 7/25\n",
      "7225/7225 - 1s - loss: 3.9924e-04 - mean_squared_error: 3.9924e-04 - val_loss: 4.3581e-04 - val_mean_squared_error: 4.3581e-04\n",
      "Epoch 8/25\n",
      "7225/7225 - 1s - loss: 4.0386e-04 - mean_squared_error: 4.0386e-04 - val_loss: 8.1414e-04 - val_mean_squared_error: 8.1414e-04\n",
      "Epoch 9/25\n",
      "7225/7225 - 1s - loss: 3.9736e-04 - mean_squared_error: 3.9736e-04 - val_loss: 3.3814e-04 - val_mean_squared_error: 3.3814e-04\n",
      "Epoch 10/25\n",
      "7225/7225 - 1s - loss: 4.1518e-04 - mean_squared_error: 4.1518e-04 - val_loss: 3.8957e-04 - val_mean_squared_error: 3.8957e-04\n",
      "Epoch 11/25\n",
      "7225/7225 - 1s - loss: 3.9719e-04 - mean_squared_error: 3.9719e-04 - val_loss: 4.9426e-04 - val_mean_squared_error: 4.9426e-04\n",
      "Epoch 12/25\n",
      "7225/7225 - 1s - loss: 3.6791e-04 - mean_squared_error: 3.6791e-04 - val_loss: 3.5901e-04 - val_mean_squared_error: 3.5901e-04\n",
      "Epoch 13/25\n",
      "7225/7225 - 1s - loss: 4.0082e-04 - mean_squared_error: 4.0082e-04 - val_loss: 3.5236e-04 - val_mean_squared_error: 3.5236e-04\n",
      "Epoch 14/25\n",
      "7225/7225 - 1s - loss: 3.8480e-04 - mean_squared_error: 3.8480e-04 - val_loss: 3.6307e-04 - val_mean_squared_error: 3.6307e-04\n",
      "Epoch 15/25\n",
      "7225/7225 - 1s - loss: 3.8140e-04 - mean_squared_error: 3.8140e-04 - val_loss: 3.2696e-04 - val_mean_squared_error: 3.2696e-04\n",
      "Epoch 16/25\n",
      "7225/7225 - 1s - loss: 3.8906e-04 - mean_squared_error: 3.8906e-04 - val_loss: 4.4960e-04 - val_mean_squared_error: 4.4960e-04\n",
      "Epoch 17/25\n",
      "7225/7225 - 1s - loss: 3.8332e-04 - mean_squared_error: 3.8332e-04 - val_loss: 3.3278e-04 - val_mean_squared_error: 3.3278e-04\n"
     ]
    },
    {
     "data": {
      "text/html": [
       "<span style=\"color:#4527A0\"><h1 style=\"font-size:18px\">Trial complete</h1></span>"
      ],
      "text/plain": [
       "<IPython.core.display.HTML object>"
      ]
     },
     "metadata": {},
     "output_type": "display_data"
    },
    {
     "data": {
      "text/html": [
       "<span style=\"color:#4527A0\"><h1 style=\"font-size:18px\">Trial summary</h1></span>"
      ],
      "text/plain": [
       "<IPython.core.display.HTML object>"
      ]
     },
     "metadata": {},
     "output_type": "display_data"
    },
    {
     "data": {
      "text/html": [
       "<span style=\"color:cyan\"> |-Trial ID: 6bb551ea88a6bdfacc0aadb1d178fcf8</span>"
      ],
      "text/plain": [
       "<IPython.core.display.HTML object>"
      ]
     },
     "metadata": {},
     "output_type": "display_data"
    },
    {
     "data": {
      "text/html": [
       "<span style=\"color:cyan\"> |-Score: 0.0003679138608276844</span>"
      ],
      "text/plain": [
       "<IPython.core.display.HTML object>"
      ]
     },
     "metadata": {},
     "output_type": "display_data"
    },
    {
     "data": {
      "text/html": [
       "<span style=\"color:cyan\"> |-Best step: 0</span>"
      ],
      "text/plain": [
       "<IPython.core.display.HTML object>"
      ]
     },
     "metadata": {},
     "output_type": "display_data"
    },
    {
     "data": {
      "text/html": [
       "<span style=\"color:#7E57C2\"><h2 style=\"font-size:16px\">Hyperparameters:</h2></span>"
      ],
      "text/plain": [
       "<IPython.core.display.HTML object>"
      ]
     },
     "metadata": {},
     "output_type": "display_data"
    },
    {
     "data": {
      "text/html": [
       "<span style=\"color:cyan\"> |-hidden_0_units: 124</span>"
      ],
      "text/plain": [
       "<IPython.core.display.HTML object>"
      ]
     },
     "metadata": {},
     "output_type": "display_data"
    },
    {
     "data": {
      "text/html": [
       "<span style=\"color:blue\"> |-hidden_1_units: 68</span>"
      ],
      "text/plain": [
       "<IPython.core.display.HTML object>"
      ]
     },
     "metadata": {},
     "output_type": "display_data"
    },
    {
     "data": {
      "text/html": [
       "<span style=\"color:cyan\"> |-learning_rate: 0.001</span>"
      ],
      "text/plain": [
       "<IPython.core.display.HTML object>"
      ]
     },
     "metadata": {},
     "output_type": "display_data"
    },
    {
     "data": {
      "text/html": [
       "<span style=\"color:blue\"> |-n_layers: 2</span>"
      ],
      "text/plain": [
       "<IPython.core.display.HTML object>"
      ]
     },
     "metadata": {},
     "output_type": "display_data"
    },
    {
     "data": {
      "text/html": [
       "<span style=\"color:cyan\"> |-tuner/bracket: 0</span>"
      ],
      "text/plain": [
       "<IPython.core.display.HTML object>"
      ]
     },
     "metadata": {},
     "output_type": "display_data"
    },
    {
     "data": {
      "text/html": [
       "<span style=\"color:blue\"> |-tuner/epochs: 25</span>"
      ],
      "text/plain": [
       "<IPython.core.display.HTML object>"
      ]
     },
     "metadata": {},
     "output_type": "display_data"
    },
    {
     "data": {
      "text/html": [
       "<span style=\"color:cyan\"> |-tuner/initial_epoch: 0</span>"
      ],
      "text/plain": [
       "<IPython.core.display.HTML object>"
      ]
     },
     "metadata": {},
     "output_type": "display_data"
    },
    {
     "data": {
      "text/html": [
       "<span style=\"color:blue\"> |-tuner/round: 0</span>"
      ],
      "text/plain": [
       "<IPython.core.display.HTML object>"
      ]
     },
     "metadata": {},
     "output_type": "display_data"
    },
    {
     "name": "stdout",
     "output_type": "stream",
     "text": [
      "Train on 7225 samples, validate on 1275 samples\n",
      "Epoch 1/25\n",
      "7225/7225 - 1s - loss: 0.0124 - mean_squared_error: 0.0124 - val_loss: 5.3693e-04 - val_mean_squared_error: 5.3693e-04\n",
      "Epoch 2/25\n",
      "7225/7225 - 1s - loss: 6.4969e-04 - mean_squared_error: 6.4969e-04 - val_loss: 0.0011 - val_mean_squared_error: 0.0011\n",
      "Epoch 3/25\n",
      "7225/7225 - 1s - loss: 9.8562e-04 - mean_squared_error: 9.8562e-04 - val_loss: 8.0618e-04 - val_mean_squared_error: 8.0618e-04\n",
      "Epoch 4/25\n",
      "7225/7225 - 1s - loss: 7.4395e-04 - mean_squared_error: 7.4395e-04 - val_loss: 8.2207e-04 - val_mean_squared_error: 8.2207e-04\n",
      "Epoch 5/25\n",
      "7225/7225 - 1s - loss: 6.6120e-04 - mean_squared_error: 6.6120e-04 - val_loss: 7.7033e-04 - val_mean_squared_error: 7.7033e-04\n",
      "Epoch 6/25\n",
      "7225/7225 - 1s - loss: 6.5794e-04 - mean_squared_error: 6.5794e-04 - val_loss: 6.6387e-04 - val_mean_squared_error: 6.6387e-04\n",
      "Epoch 7/25\n",
      "7225/7225 - 1s - loss: 9.1385e-04 - mean_squared_error: 9.1385e-04 - val_loss: 0.0014 - val_mean_squared_error: 0.0014\n"
     ]
    },
    {
     "data": {
      "text/html": [
       "<span style=\"color:#4527A0\"><h1 style=\"font-size:18px\">Trial complete</h1></span>"
      ],
      "text/plain": [
       "<IPython.core.display.HTML object>"
      ]
     },
     "metadata": {},
     "output_type": "display_data"
    },
    {
     "data": {
      "text/html": [
       "<span style=\"color:#4527A0\"><h1 style=\"font-size:18px\">Trial summary</h1></span>"
      ],
      "text/plain": [
       "<IPython.core.display.HTML object>"
      ]
     },
     "metadata": {},
     "output_type": "display_data"
    },
    {
     "data": {
      "text/html": [
       "<span style=\"color:cyan\"> |-Trial ID: 90214102d21435b1adf8a4d2e4850ce2</span>"
      ],
      "text/plain": [
       "<IPython.core.display.HTML object>"
      ]
     },
     "metadata": {},
     "output_type": "display_data"
    },
    {
     "data": {
      "text/html": [
       "<span style=\"color:cyan\"> |-Score: 0.0006496899295598269</span>"
      ],
      "text/plain": [
       "<IPython.core.display.HTML object>"
      ]
     },
     "metadata": {},
     "output_type": "display_data"
    },
    {
     "data": {
      "text/html": [
       "<span style=\"color:cyan\"> |-Best step: 0</span>"
      ],
      "text/plain": [
       "<IPython.core.display.HTML object>"
      ]
     },
     "metadata": {},
     "output_type": "display_data"
    },
    {
     "data": {
      "text/html": [
       "<span style=\"color:#7E57C2\"><h2 style=\"font-size:16px\">Hyperparameters:</h2></span>"
      ],
      "text/plain": [
       "<IPython.core.display.HTML object>"
      ]
     },
     "metadata": {},
     "output_type": "display_data"
    },
    {
     "data": {
      "text/html": [
       "<span style=\"color:cyan\"> |-hidden_0_units: 255</span>"
      ],
      "text/plain": [
       "<IPython.core.display.HTML object>"
      ]
     },
     "metadata": {},
     "output_type": "display_data"
    },
    {
     "data": {
      "text/html": [
       "<span style=\"color:blue\"> |-hidden_1_units: 312</span>"
      ],
      "text/plain": [
       "<IPython.core.display.HTML object>"
      ]
     },
     "metadata": {},
     "output_type": "display_data"
    },
    {
     "data": {
      "text/html": [
       "<span style=\"color:cyan\"> |-learning_rate: 0.01</span>"
      ],
      "text/plain": [
       "<IPython.core.display.HTML object>"
      ]
     },
     "metadata": {},
     "output_type": "display_data"
    },
    {
     "data": {
      "text/html": [
       "<span style=\"color:blue\"> |-n_layers: 1</span>"
      ],
      "text/plain": [
       "<IPython.core.display.HTML object>"
      ]
     },
     "metadata": {},
     "output_type": "display_data"
    },
    {
     "data": {
      "text/html": [
       "<span style=\"color:cyan\"> |-tuner/bracket: 0</span>"
      ],
      "text/plain": [
       "<IPython.core.display.HTML object>"
      ]
     },
     "metadata": {},
     "output_type": "display_data"
    },
    {
     "data": {
      "text/html": [
       "<span style=\"color:blue\"> |-tuner/epochs: 25</span>"
      ],
      "text/plain": [
       "<IPython.core.display.HTML object>"
      ]
     },
     "metadata": {},
     "output_type": "display_data"
    },
    {
     "data": {
      "text/html": [
       "<span style=\"color:cyan\"> |-tuner/initial_epoch: 0</span>"
      ],
      "text/plain": [
       "<IPython.core.display.HTML object>"
      ]
     },
     "metadata": {},
     "output_type": "display_data"
    },
    {
     "data": {
      "text/html": [
       "<span style=\"color:blue\"> |-tuner/round: 0</span>"
      ],
      "text/plain": [
       "<IPython.core.display.HTML object>"
      ]
     },
     "metadata": {},
     "output_type": "display_data"
    },
    {
     "name": "stdout",
     "output_type": "stream",
     "text": [
      "Train on 7225 samples, validate on 1275 samples\n",
      "Epoch 1/25\n",
      "7225/7225 - 1s - loss: 0.0986 - mean_squared_error: 0.0986 - val_loss: 0.0410 - val_mean_squared_error: 0.0410\n",
      "Epoch 2/25\n",
      "7225/7225 - 1s - loss: 0.0210 - mean_squared_error: 0.0210 - val_loss: 0.0096 - val_mean_squared_error: 0.0096\n",
      "Epoch 3/25\n",
      "7225/7225 - 1s - loss: 0.0057 - mean_squared_error: 0.0057 - val_loss: 0.0041 - val_mean_squared_error: 0.0041\n",
      "Epoch 4/25\n",
      "7225/7225 - 1s - loss: 0.0028 - mean_squared_error: 0.0028 - val_loss: 0.0023 - val_mean_squared_error: 0.0023\n",
      "Epoch 5/25\n",
      "7225/7225 - 1s - loss: 0.0015 - mean_squared_error: 0.0015 - val_loss: 0.0011 - val_mean_squared_error: 0.0011\n",
      "Epoch 6/25\n",
      "7225/7225 - 1s - loss: 7.2389e-04 - mean_squared_error: 7.2389e-04 - val_loss: 5.0265e-04 - val_mean_squared_error: 5.0265e-04\n",
      "Epoch 7/25\n",
      "7225/7225 - 1s - loss: 4.2487e-04 - mean_squared_error: 4.2487e-04 - val_loss: 3.9852e-04 - val_mean_squared_error: 3.9852e-04\n",
      "Epoch 8/25\n",
      "7225/7225 - 1s - loss: 4.1220e-04 - mean_squared_error: 4.1220e-04 - val_loss: 3.9920e-04 - val_mean_squared_error: 3.9920e-04\n",
      "Epoch 9/25\n",
      "7225/7225 - 1s - loss: 4.0887e-04 - mean_squared_error: 4.0887e-04 - val_loss: 3.5757e-04 - val_mean_squared_error: 3.5757e-04\n",
      "Epoch 10/25\n",
      "7225/7225 - 1s - loss: 4.2038e-04 - mean_squared_error: 4.2038e-04 - val_loss: 3.3870e-04 - val_mean_squared_error: 3.3870e-04\n",
      "Epoch 11/25\n",
      "7225/7225 - 1s - loss: 3.8418e-04 - mean_squared_error: 3.8418e-04 - val_loss: 3.3842e-04 - val_mean_squared_error: 3.3842e-04\n",
      "Epoch 12/25\n",
      "7225/7225 - 1s - loss: 3.8506e-04 - mean_squared_error: 3.8506e-04 - val_loss: 4.4954e-04 - val_mean_squared_error: 4.4954e-04\n",
      "Epoch 13/25\n",
      "7225/7225 - 1s - loss: 3.7124e-04 - mean_squared_error: 3.7124e-04 - val_loss: 4.2632e-04 - val_mean_squared_error: 4.2632e-04\n",
      "Epoch 14/25\n",
      "7225/7225 - 1s - loss: 3.7246e-04 - mean_squared_error: 3.7246e-04 - val_loss: 3.3126e-04 - val_mean_squared_error: 3.3126e-04\n",
      "Epoch 15/25\n",
      "7225/7225 - 1s - loss: 3.7864e-04 - mean_squared_error: 3.7864e-04 - val_loss: 3.2508e-04 - val_mean_squared_error: 3.2508e-04\n",
      "Epoch 16/25\n",
      "7225/7225 - 1s - loss: 3.7008e-04 - mean_squared_error: 3.7008e-04 - val_loss: 3.5769e-04 - val_mean_squared_error: 3.5769e-04\n",
      "Epoch 17/25\n",
      "7225/7225 - 1s - loss: 3.6758e-04 - mean_squared_error: 3.6758e-04 - val_loss: 3.2751e-04 - val_mean_squared_error: 3.2751e-04\n",
      "Epoch 18/25\n",
      "7225/7225 - 1s - loss: 3.9802e-04 - mean_squared_error: 3.9802e-04 - val_loss: 3.9129e-04 - val_mean_squared_error: 3.9129e-04\n",
      "Epoch 19/25\n",
      "7225/7225 - 1s - loss: 3.7981e-04 - mean_squared_error: 3.7981e-04 - val_loss: 5.6190e-04 - val_mean_squared_error: 5.6190e-04\n",
      "Epoch 20/25\n",
      "7225/7225 - 1s - loss: 3.7233e-04 - mean_squared_error: 3.7233e-04 - val_loss: 3.2583e-04 - val_mean_squared_error: 3.2583e-04\n",
      "Epoch 21/25\n",
      "7225/7225 - 1s - loss: 3.8819e-04 - mean_squared_error: 3.8819e-04 - val_loss: 4.5866e-04 - val_mean_squared_error: 4.5866e-04\n",
      "Epoch 22/25\n",
      "7225/7225 - 1s - loss: 4.0942e-04 - mean_squared_error: 4.0942e-04 - val_loss: 3.3468e-04 - val_mean_squared_error: 3.3468e-04\n"
     ]
    },
    {
     "data": {
      "text/html": [
       "<span style=\"color:#4527A0\"><h1 style=\"font-size:18px\">Trial complete</h1></span>"
      ],
      "text/plain": [
       "<IPython.core.display.HTML object>"
      ]
     },
     "metadata": {},
     "output_type": "display_data"
    },
    {
     "data": {
      "text/html": [
       "<span style=\"color:#4527A0\"><h1 style=\"font-size:18px\">Trial summary</h1></span>"
      ],
      "text/plain": [
       "<IPython.core.display.HTML object>"
      ]
     },
     "metadata": {},
     "output_type": "display_data"
    },
    {
     "data": {
      "text/html": [
       "<span style=\"color:cyan\"> |-Trial ID: 09c4e90b268ea09234113f4badd204ef</span>"
      ],
      "text/plain": [
       "<IPython.core.display.HTML object>"
      ]
     },
     "metadata": {},
     "output_type": "display_data"
    },
    {
     "data": {
      "text/html": [
       "<span style=\"color:cyan\"> |-Score: 0.0003675827174447477</span>"
      ],
      "text/plain": [
       "<IPython.core.display.HTML object>"
      ]
     },
     "metadata": {},
     "output_type": "display_data"
    },
    {
     "data": {
      "text/html": [
       "<span style=\"color:cyan\"> |-Best step: 0</span>"
      ],
      "text/plain": [
       "<IPython.core.display.HTML object>"
      ]
     },
     "metadata": {},
     "output_type": "display_data"
    },
    {
     "data": {
      "text/html": [
       "<span style=\"color:#7E57C2\"><h2 style=\"font-size:16px\">Hyperparameters:</h2></span>"
      ],
      "text/plain": [
       "<IPython.core.display.HTML object>"
      ]
     },
     "metadata": {},
     "output_type": "display_data"
    },
    {
     "data": {
      "text/html": [
       "<span style=\"color:cyan\"> |-hidden_0_units: 132</span>"
      ],
      "text/plain": [
       "<IPython.core.display.HTML object>"
      ]
     },
     "metadata": {},
     "output_type": "display_data"
    },
    {
     "data": {
      "text/html": [
       "<span style=\"color:blue\"> |-hidden_1_units: 42</span>"
      ],
      "text/plain": [
       "<IPython.core.display.HTML object>"
      ]
     },
     "metadata": {},
     "output_type": "display_data"
    },
    {
     "data": {
      "text/html": [
       "<span style=\"color:cyan\"> |-learning_rate: 0.001</span>"
      ],
      "text/plain": [
       "<IPython.core.display.HTML object>"
      ]
     },
     "metadata": {},
     "output_type": "display_data"
    },
    {
     "data": {
      "text/html": [
       "<span style=\"color:blue\"> |-n_layers: 2</span>"
      ],
      "text/plain": [
       "<IPython.core.display.HTML object>"
      ]
     },
     "metadata": {},
     "output_type": "display_data"
    },
    {
     "data": {
      "text/html": [
       "<span style=\"color:cyan\"> |-tuner/bracket: 0</span>"
      ],
      "text/plain": [
       "<IPython.core.display.HTML object>"
      ]
     },
     "metadata": {},
     "output_type": "display_data"
    },
    {
     "data": {
      "text/html": [
       "<span style=\"color:blue\"> |-tuner/epochs: 25</span>"
      ],
      "text/plain": [
       "<IPython.core.display.HTML object>"
      ]
     },
     "metadata": {},
     "output_type": "display_data"
    },
    {
     "data": {
      "text/html": [
       "<span style=\"color:cyan\"> |-tuner/initial_epoch: 0</span>"
      ],
      "text/plain": [
       "<IPython.core.display.HTML object>"
      ]
     },
     "metadata": {},
     "output_type": "display_data"
    },
    {
     "data": {
      "text/html": [
       "<span style=\"color:blue\"> |-tuner/round: 0</span>"
      ],
      "text/plain": [
       "<IPython.core.display.HTML object>"
      ]
     },
     "metadata": {},
     "output_type": "display_data"
    },
    {
     "name": "stdout",
     "output_type": "stream",
     "text": [
      "Train on 7225 samples, validate on 1275 samples\n",
      "Epoch 1/25\n",
      "7225/7225 - 1s - loss: 0.0728 - mean_squared_error: 0.0728 - val_loss: 0.0143 - val_mean_squared_error: 0.0143\n",
      "Epoch 2/25\n",
      "7225/7225 - 1s - loss: 0.0059 - mean_squared_error: 0.0059 - val_loss: 0.0024 - val_mean_squared_error: 0.0024\n",
      "Epoch 3/25\n",
      "7225/7225 - 1s - loss: 0.0015 - mean_squared_error: 0.0015 - val_loss: 0.0010 - val_mean_squared_error: 0.0010\n",
      "Epoch 4/25\n",
      "7225/7225 - 1s - loss: 8.1677e-04 - mean_squared_error: 8.1677e-04 - val_loss: 6.7380e-04 - val_mean_squared_error: 6.7380e-04\n",
      "Epoch 5/25\n",
      "7225/7225 - 1s - loss: 5.9107e-04 - mean_squared_error: 5.9107e-04 - val_loss: 5.1693e-04 - val_mean_squared_error: 5.1693e-04\n",
      "Epoch 6/25\n",
      "7225/7225 - 1s - loss: 4.8667e-04 - mean_squared_error: 4.8667e-04 - val_loss: 4.4557e-04 - val_mean_squared_error: 4.4557e-04\n",
      "Epoch 7/25\n",
      "7225/7225 - 1s - loss: 4.4288e-04 - mean_squared_error: 4.4288e-04 - val_loss: 4.0481e-04 - val_mean_squared_error: 4.0481e-04\n",
      "Epoch 8/25\n",
      "7225/7225 - 1s - loss: 4.1017e-04 - mean_squared_error: 4.1017e-04 - val_loss: 3.8017e-04 - val_mean_squared_error: 3.8017e-04\n",
      "Epoch 9/25\n",
      "7225/7225 - 1s - loss: 4.2181e-04 - mean_squared_error: 4.2181e-04 - val_loss: 4.3503e-04 - val_mean_squared_error: 4.3503e-04\n",
      "Epoch 10/25\n",
      "7225/7225 - 1s - loss: 3.9143e-04 - mean_squared_error: 3.9143e-04 - val_loss: 3.6047e-04 - val_mean_squared_error: 3.6047e-04\n",
      "Epoch 11/25\n",
      "7225/7225 - 1s - loss: 3.7981e-04 - mean_squared_error: 3.7981e-04 - val_loss: 3.5568e-04 - val_mean_squared_error: 3.5568e-04\n",
      "Epoch 12/25\n",
      "7225/7225 - 1s - loss: 3.7832e-04 - mean_squared_error: 3.7832e-04 - val_loss: 3.3866e-04 - val_mean_squared_error: 3.3866e-04\n",
      "Epoch 13/25\n",
      "7225/7225 - 1s - loss: 3.5978e-04 - mean_squared_error: 3.5978e-04 - val_loss: 3.4523e-04 - val_mean_squared_error: 3.4523e-04\n",
      "Epoch 14/25\n",
      "7225/7225 - 1s - loss: 3.7119e-04 - mean_squared_error: 3.7119e-04 - val_loss: 3.4061e-04 - val_mean_squared_error: 3.4061e-04\n",
      "Epoch 15/25\n",
      "7225/7225 - 1s - loss: 3.5489e-04 - mean_squared_error: 3.5489e-04 - val_loss: 3.8129e-04 - val_mean_squared_error: 3.8129e-04\n",
      "Epoch 16/25\n",
      "7225/7225 - 1s - loss: 3.6874e-04 - mean_squared_error: 3.6874e-04 - val_loss: 3.7827e-04 - val_mean_squared_error: 3.7827e-04\n",
      "Epoch 17/25\n",
      "7225/7225 - 1s - loss: 3.7808e-04 - mean_squared_error: 3.7808e-04 - val_loss: 3.3574e-04 - val_mean_squared_error: 3.3574e-04\n",
      "Epoch 18/25\n",
      "7225/7225 - 1s - loss: 3.4573e-04 - mean_squared_error: 3.4572e-04 - val_loss: 3.7920e-04 - val_mean_squared_error: 3.7920e-04\n",
      "Epoch 19/25\n",
      "7225/7225 - 1s - loss: 3.4598e-04 - mean_squared_error: 3.4598e-04 - val_loss: 3.5074e-04 - val_mean_squared_error: 3.5074e-04\n",
      "Epoch 20/25\n",
      "7225/7225 - 1s - loss: 3.9392e-04 - mean_squared_error: 3.9392e-04 - val_loss: 3.5059e-04 - val_mean_squared_error: 3.5059e-04\n",
      "Epoch 21/25\n",
      "7225/7225 - 1s - loss: 3.5304e-04 - mean_squared_error: 3.5304e-04 - val_loss: 3.5905e-04 - val_mean_squared_error: 3.5905e-04\n",
      "Epoch 22/25\n",
      "7225/7225 - 1s - loss: 3.7189e-04 - mean_squared_error: 3.7189e-04 - val_loss: 3.3140e-04 - val_mean_squared_error: 3.3140e-04\n",
      "Epoch 23/25\n",
      "7225/7225 - 1s - loss: 3.9667e-04 - mean_squared_error: 3.9667e-04 - val_loss: 3.5615e-04 - val_mean_squared_error: 3.5615e-04\n"
     ]
    },
    {
     "data": {
      "text/html": [
       "<span style=\"color:#4527A0\"><h1 style=\"font-size:18px\">Trial complete</h1></span>"
      ],
      "text/plain": [
       "<IPython.core.display.HTML object>"
      ]
     },
     "metadata": {},
     "output_type": "display_data"
    },
    {
     "data": {
      "text/html": [
       "<span style=\"color:#4527A0\"><h1 style=\"font-size:18px\">Trial summary</h1></span>"
      ],
      "text/plain": [
       "<IPython.core.display.HTML object>"
      ]
     },
     "metadata": {},
     "output_type": "display_data"
    },
    {
     "data": {
      "text/html": [
       "<span style=\"color:cyan\"> |-Trial ID: 535d3fb5d32c442efa66c856c63e33f9</span>"
      ],
      "text/plain": [
       "<IPython.core.display.HTML object>"
      ]
     },
     "metadata": {},
     "output_type": "display_data"
    },
    {
     "data": {
      "text/html": [
       "<span style=\"color:cyan\"> |-Score: 0.00034572495496831834</span>"
      ],
      "text/plain": [
       "<IPython.core.display.HTML object>"
      ]
     },
     "metadata": {},
     "output_type": "display_data"
    },
    {
     "data": {
      "text/html": [
       "<span style=\"color:cyan\"> |-Best step: 0</span>"
      ],
      "text/plain": [
       "<IPython.core.display.HTML object>"
      ]
     },
     "metadata": {},
     "output_type": "display_data"
    },
    {
     "data": {
      "text/html": [
       "<span style=\"color:#7E57C2\"><h2 style=\"font-size:16px\">Hyperparameters:</h2></span>"
      ],
      "text/plain": [
       "<IPython.core.display.HTML object>"
      ]
     },
     "metadata": {},
     "output_type": "display_data"
    },
    {
     "data": {
      "text/html": [
       "<span style=\"color:cyan\"> |-hidden_0_units: 272</span>"
      ],
      "text/plain": [
       "<IPython.core.display.HTML object>"
      ]
     },
     "metadata": {},
     "output_type": "display_data"
    },
    {
     "data": {
      "text/html": [
       "<span style=\"color:blue\"> |-hidden_1_units: 139</span>"
      ],
      "text/plain": [
       "<IPython.core.display.HTML object>"
      ]
     },
     "metadata": {},
     "output_type": "display_data"
    },
    {
     "data": {
      "text/html": [
       "<span style=\"color:cyan\"> |-learning_rate: 0.001</span>"
      ],
      "text/plain": [
       "<IPython.core.display.HTML object>"
      ]
     },
     "metadata": {},
     "output_type": "display_data"
    },
    {
     "data": {
      "text/html": [
       "<span style=\"color:blue\"> |-n_layers: 1</span>"
      ],
      "text/plain": [
       "<IPython.core.display.HTML object>"
      ]
     },
     "metadata": {},
     "output_type": "display_data"
    },
    {
     "data": {
      "text/html": [
       "<span style=\"color:cyan\"> |-tuner/bracket: 0</span>"
      ],
      "text/plain": [
       "<IPython.core.display.HTML object>"
      ]
     },
     "metadata": {},
     "output_type": "display_data"
    },
    {
     "data": {
      "text/html": [
       "<span style=\"color:blue\"> |-tuner/epochs: 25</span>"
      ],
      "text/plain": [
       "<IPython.core.display.HTML object>"
      ]
     },
     "metadata": {},
     "output_type": "display_data"
    },
    {
     "data": {
      "text/html": [
       "<span style=\"color:cyan\"> |-tuner/initial_epoch: 0</span>"
      ],
      "text/plain": [
       "<IPython.core.display.HTML object>"
      ]
     },
     "metadata": {},
     "output_type": "display_data"
    },
    {
     "data": {
      "text/html": [
       "<span style=\"color:blue\"> |-tuner/round: 0</span>"
      ],
      "text/plain": [
       "<IPython.core.display.HTML object>"
      ]
     },
     "metadata": {},
     "output_type": "display_data"
    },
    {
     "name": "stdout",
     "output_type": "stream",
     "text": [
      "INFO:tensorflow:Oracle triggered exit\n",
      "193.14425015449524\n"
     ]
    }
   ],
   "source": [
    "### SEARCHING FOR THE ANN LAYOUT THAT ACCOMPLISHES THE HYPERPARAMTER GOALS ###\n",
    "\n",
    "start_time = time.time()\n",
    "# tuner.search(X_scale, Y_scale, epochs=50, validation_split=0.15, callbacks=[stop_early], verbose=2)\n",
    "tuner.search(X_scale, Y_scale, validation_split=0.15, callbacks=[stop_early], verbose=2)\n",
    "searching_time = time.time() - start_time\n",
    "print(searching_time)"
   ]
  },
  {
   "cell_type": "code",
   "execution_count": 7,
   "metadata": {},
   "outputs": [
    {
     "name": "stdout",
     "output_type": "stream",
     "text": [
      "\n",
      "The hyperparameter search is complete. The optimal number of hidden layers are 1 and the optimal learning rate for the optimizer\n",
      "is 0.001.\n",
      "\n",
      "Best epoch: 31\n",
      "Train on 7225 samples, validate on 1275 samples\n",
      "Epoch 1/31\n",
      "7225/7225 - 1s - loss: 0.0753 - mean_squared_error: 0.0753 - val_loss: 0.0146 - val_mean_squared_error: 0.0146\n",
      "Epoch 2/31\n",
      "7225/7225 - 1s - loss: 0.0059 - mean_squared_error: 0.0059 - val_loss: 0.0024 - val_mean_squared_error: 0.0024\n",
      "Epoch 3/31\n",
      "7225/7225 - 1s - loss: 0.0015 - mean_squared_error: 0.0015 - val_loss: 0.0011 - val_mean_squared_error: 0.0011\n",
      "Epoch 4/31\n",
      "7225/7225 - 1s - loss: 8.2327e-04 - mean_squared_error: 8.2327e-04 - val_loss: 6.7063e-04 - val_mean_squared_error: 6.7063e-04\n",
      "Epoch 5/31\n",
      "7225/7225 - 1s - loss: 5.9715e-04 - mean_squared_error: 5.9715e-04 - val_loss: 5.5563e-04 - val_mean_squared_error: 5.5563e-04\n",
      "Epoch 6/31\n",
      "7225/7225 - 1s - loss: 4.9115e-04 - mean_squared_error: 4.9115e-04 - val_loss: 4.5678e-04 - val_mean_squared_error: 4.5678e-04\n",
      "Epoch 7/31\n",
      "7225/7225 - 1s - loss: 4.3688e-04 - mean_squared_error: 4.3688e-04 - val_loss: 4.4484e-04 - val_mean_squared_error: 4.4484e-04\n",
      "Epoch 8/31\n",
      "7225/7225 - 1s - loss: 4.1048e-04 - mean_squared_error: 4.1048e-04 - val_loss: 3.9855e-04 - val_mean_squared_error: 3.9855e-04\n",
      "Epoch 9/31\n",
      "7225/7225 - 1s - loss: 3.9629e-04 - mean_squared_error: 3.9629e-04 - val_loss: 4.5284e-04 - val_mean_squared_error: 4.5284e-04\n",
      "Epoch 10/31\n",
      "7225/7225 - 1s - loss: 3.9094e-04 - mean_squared_error: 3.9094e-04 - val_loss: 3.5392e-04 - val_mean_squared_error: 3.5392e-04\n",
      "Epoch 11/31\n",
      "7225/7225 - 1s - loss: 3.9504e-04 - mean_squared_error: 3.9504e-04 - val_loss: 3.4143e-04 - val_mean_squared_error: 3.4143e-04\n",
      "Epoch 12/31\n",
      "7225/7225 - 1s - loss: 3.7532e-04 - mean_squared_error: 3.7532e-04 - val_loss: 4.0627e-04 - val_mean_squared_error: 4.0627e-04\n",
      "Epoch 13/31\n",
      "7225/7225 - 1s - loss: 3.5617e-04 - mean_squared_error: 3.5617e-04 - val_loss: 3.3992e-04 - val_mean_squared_error: 3.3992e-04\n",
      "Epoch 14/31\n",
      "7225/7225 - 1s - loss: 3.5132e-04 - mean_squared_error: 3.5132e-04 - val_loss: 3.9606e-04 - val_mean_squared_error: 3.9606e-04\n",
      "Epoch 15/31\n",
      "7225/7225 - 1s - loss: 3.7531e-04 - mean_squared_error: 3.7531e-04 - val_loss: 4.8847e-04 - val_mean_squared_error: 4.8847e-04\n",
      "Epoch 16/31\n",
      "7225/7225 - 1s - loss: 3.5059e-04 - mean_squared_error: 3.5059e-04 - val_loss: 3.7756e-04 - val_mean_squared_error: 3.7756e-04\n",
      "Epoch 17/31\n",
      "7225/7225 - 1s - loss: 3.8602e-04 - mean_squared_error: 3.8602e-04 - val_loss: 3.2612e-04 - val_mean_squared_error: 3.2612e-04\n",
      "Epoch 18/31\n",
      "7225/7225 - 1s - loss: 3.5187e-04 - mean_squared_error: 3.5187e-04 - val_loss: 4.5743e-04 - val_mean_squared_error: 4.5743e-04\n",
      "Epoch 19/31\n",
      "7225/7225 - 1s - loss: 3.6635e-04 - mean_squared_error: 3.6635e-04 - val_loss: 3.4024e-04 - val_mean_squared_error: 3.4024e-04\n",
      "Epoch 20/31\n",
      "7225/7225 - 1s - loss: 3.6722e-04 - mean_squared_error: 3.6722e-04 - val_loss: 3.7045e-04 - val_mean_squared_error: 3.7045e-04\n",
      "Epoch 21/31\n",
      "7225/7225 - 1s - loss: 3.5039e-04 - mean_squared_error: 3.5039e-04 - val_loss: 3.1808e-04 - val_mean_squared_error: 3.1808e-04\n",
      "Epoch 22/31\n",
      "7225/7225 - 1s - loss: 3.5615e-04 - mean_squared_error: 3.5615e-04 - val_loss: 3.3992e-04 - val_mean_squared_error: 3.3992e-04\n",
      "Epoch 23/31\n",
      "7225/7225 - 1s - loss: 3.6100e-04 - mean_squared_error: 3.6100e-04 - val_loss: 3.3747e-04 - val_mean_squared_error: 3.3747e-04\n",
      "Epoch 24/31\n",
      "7225/7225 - 1s - loss: 3.7881e-04 - mean_squared_error: 3.7881e-04 - val_loss: 3.2849e-04 - val_mean_squared_error: 3.2849e-04\n",
      "Epoch 25/31\n",
      "7225/7225 - 1s - loss: 3.7029e-04 - mean_squared_error: 3.7029e-04 - val_loss: 3.6093e-04 - val_mean_squared_error: 3.6093e-04\n",
      "Epoch 26/31\n",
      "7225/7225 - 1s - loss: 3.5895e-04 - mean_squared_error: 3.5895e-04 - val_loss: 3.3267e-04 - val_mean_squared_error: 3.3267e-04\n",
      "Epoch 27/31\n",
      "7225/7225 - 1s - loss: 3.5134e-04 - mean_squared_error: 3.5134e-04 - val_loss: 3.7764e-04 - val_mean_squared_error: 3.7764e-04\n",
      "Epoch 28/31\n",
      "7225/7225 - 1s - loss: 3.8363e-04 - mean_squared_error: 3.8363e-04 - val_loss: 3.2618e-04 - val_mean_squared_error: 3.2618e-04\n",
      "Epoch 29/31\n",
      "7225/7225 - 1s - loss: 3.5157e-04 - mean_squared_error: 3.5157e-04 - val_loss: 3.3129e-04 - val_mean_squared_error: 3.3129e-04\n",
      "Epoch 30/31\n",
      "7225/7225 - 1s - loss: 3.5123e-04 - mean_squared_error: 3.5123e-04 - val_loss: 3.7715e-04 - val_mean_squared_error: 3.7715e-04\n",
      "Epoch 31/31\n",
      "7225/7225 - 1s - loss: 3.3916e-04 - mean_squared_error: 3.3916e-04 - val_loss: 4.7317e-04 - val_mean_squared_error: 4.7317e-04\n"
     ]
    }
   ],
   "source": [
    "# Build the model with the optimal hyperparameters and train it on the data for 25 epochs\n",
    "best_hps=tuner.get_best_hyperparameters(num_trials=1)[0]\n",
    "print(f\"\"\"\n",
    "The hyperparameter search is complete. The optimal number of hidden layers are {best_hps.get('n_layers')} and the optimal learning rate for the optimizer\n",
    "is {best_hps.get('learning_rate')}.\n",
    "\"\"\")\n",
    "model = tuner.hypermodel.build(best_hps)\n",
    "history = model.fit(X_scale, Y_scale, epochs=40, shuffle=True, validation_split=0.25, verbose=0)\n",
    "\n",
    "mean_squared_error_per_epoch = history.history['mean_squared_error']\n",
    "best_epoch = mean_squared_error_per_epoch.index(min(mean_squared_error_per_epoch)) + 1\n",
    "print('Best epoch: %d' % (best_epoch,))\n",
    "hypermodel = tuner.hypermodel.build(best_hps)\n",
    "\n",
    "# Retrain the model\n",
    "hypermodel_hist = hypermodel.fit(X_scale, Y_scale, epochs=best_epoch, shuffle=True, validation_split=0.15, verbose=2)"
   ]
  },
  {
   "cell_type": "code",
   "execution_count": 8,
   "metadata": {},
   "outputs": [
    {
     "name": "stdout",
     "output_type": "stream",
     "text": [
      "1500/1 [========================================================================================================================================================================================================================================================================================================================================================================================================================================================================================================================================================================================================================================================================================================================================================================================================================================================================================================================================================================================================================================================================================================================================================================================================================================================================================================================================================================================================================================================================================================================================================================================================================================================================================================================================================================================================================================================================================================================================================================================================================================================================================================================================================================================================================================================================================================================================================================================================================================================================================================================================================================================================================================================================================================================================================================================================================================================================================================================================================================================================================================================================================================================================================================================================================================================================================================================================================================================================================================================================================================================================================================================================================================================================================================================================================================================================================================================================================================================================================================================================================================================================================================================================================================================================================================================================================================================================================================================================================================================================================================================================================================================================================================================================================================================================================================================================================================================================================================================================================================================================================================================================================================================================================================================================================================================================================================================================================================================================================================================================================================================================================================================================================================================================================================================================================================================================================================================================================================================================================================================================================================================================================================================================================================================================================================================================================================================================================================================================================================================================================================================================================================================================================================================================================================================================================================================================================================================================================================================================================================================================================================================================================================================================================================================================================================================================================================================================================================================================================================================================================================================================================================================================================================================================================================================================================================================================================================================================================================================================================================================================================================================================================================================================================================================================================================================================================================================================================================================================================================================================================================================================================================================================================================================================================================================================================================================================================================================================================================================================================================================================================================================================================================================================================================================================================================================================================================================================================================================================================================================================================================================================================================================================================================================================================================================================================================================================================================================================================================================================================================================================================================================================================================================================================================================================================================================================================================================================================================================================================================================================================================================================================================================================================================================================================================================================================================================================================================================================================================================================================================================================================================================================================================================================================================================================================================================================================================================================================================================================================================================================================================================================================================================================================================================================================================================================================================================================================================================================================================================================================================================================================================================================================================================================================================================================================================================================================================================================================================================================================================================================================================================================================================================================================================================================================================================================================================================================================================================================================================================================================================================================================================================================================================================================================================================================================================================================================================================================================================================================================================================================================================================================================================================================================================================================================================================================================================================================================================================================================================================================================================================================================================================================================================================================================================================================================================================================================================================================================================================================================================================================================================================================================================================================================================================================================================================================================================================================================================================================================================================================================================================================================================================================================================================================================================================================================================================================================================================================================================================================================================================================================================================================================================================================================================================================================================================================================================================================================================================================================================================================================================================================================================================================================================================================================================================================================================================================================================================================================================================================================================================================================================================================================================================================================================================================================================================================================================================================================================================================================================================================================================================================================================================================================================================================================================================================================================================================================================================================================================================================================================================================================================================================================================================================================================================================================================================================================================================================================================================================================================================================================================================================================================================================================================================================================================================================================================================================================================================================================================================================================================================================================================================================================================================================================================================================================================================================================================================================================================================================================================================================================================================================================================================================================================================================================================================================================================================================================================================================================================================================================================================================================================================================================================================================================================================================================================================================================================================================================================================================================================================================================================================================================================================================================================================================================================================================================================================================================================================================================================================================================================================================================================================================================================================================================================================================================================================================================================================================================================================================================================================================================================================================================================================================================================================================================================================================================================================================================================================================================================================================================================================================================================================================================================================================================================================================================================================================================================================================================================================================================================================================================================================================================================================================================================================================================================================================================================================================================================================================================================================================================================================================================================================================================================================================================================================================================================================================================================================================================================================================================================================================================================================================================================================================================================================================================================================================================================================================================================================================================================================================================================================================================================================================================================================================================================================================================================================================================================================================================================================================================================================================================================================================================================================================================================================================================================================================================================================================================================================================================================================================================================================================================================================================================================================================================================================================================================================================================================================================================================================================================================================================================================================================================================================================================================================================================================================================================================================================================================================================================================================================================================================================================================================================================================================================================================================================================================================================================================================================================================================================================================================================================================================================================================================================================================================================================================================================================================================================================================================================================================================================================================================================================================================================================================================================================================================================================================================================================================================================================================================================================================================================================================================================================================================================================================================================================================================================================================================================================================================================================================================================================================================================================================================================================================================================================================================================================================================================================================================================================================================================================================================================================================================================================================================================================================================================================================================================================================================================================================================================================================================================================================================================================================================================================================================================================================================================================================================================================================================================================================================================================================================================================================================================================================================================================================================================================================================================================================================================================================================================================================================================================================================================================================================================================================================================================================================================================================================================================================================================================================================================================================================================================================================================================================================================================================================================================================================================================================================================================================================================================================================================================================================================================================================================================================================================================================================================================================================================================================================================================================================================================================================================================================================================================================================================================================================================================================================================================================================================================================================================================================================================================================================================================================================================================================================================================================================================================================================================================================================================================================================================================================================================================================================================================================================================================================================================================================================================================================================================================================================================================================================================================================================================================================================================================================================================================================================================================================================================================================================================================================================================================================================================================================================================================================================================================================================================================================================================================================================================================================================================================================================================================================================================================================================================================================================================================================================================================================================================================================================================================================================================================================================================================================================================================================================================================================================================================================================================================================================================================================================================================================================================================================================================================================================================================================================================================================================================================================================================================================================================================================================================================================================================================================================================================================================================================================================================================================================================================================================================================================================================================================================================================================================================================================================================================================================================================================================================================================================================================================================================================================================================================================================================================================================================================================================================================================================================================================================================================================================================================================================================================================================================================================================================================================================================================================================================================================================================================================================================================================================================================================================================================================================================================================================================================================================================================================================================================================================================================================================================================================================================================================================================================================================================================================================================================================================================================================================================================================================================================================================================================================================================================================================================================================================================================================================================================================================================================================================================================================================================================================================================================================================================================================================================================================================================================================================================================================================================================================================================================================================================================================================================================================================================================================================================================================================================================================================================================================================================================================================================================================================================================================================================================================================================================================================================================================================================================================================================================================================================================================================================================================================================================================================================================================================================================================================================================================================================================================================================================================================================================================================================================================================================================================================================================================================================================================================================================================================================================================================================================================================================================================================================================================================================================================================================================================================================================================================================================================================================================================================================================================================================================================================================================================================================================================================================================================================================================================================================================================================================================================================================================================================================================================================================================================================================================================================================================================================================================================================================================================================================================================================================================================================================================================================================================================================================================================================================================================================================================================================================================================================================================================================================================================================================================================================================================================================================================================================================================================================================================================================================================================================================================================================================================================================================================================================================================================================================================================================================================================================================================================================================================================================================================================================================================================================================================================================================================================================================================================================================================================================================================================================================================================================================================================================================================================================================================================================================================================================================================================================================================================================================================================================================================================================================================================================================================================================================================================================================================================================================================================================================================================================================================================================================================================================================================================================================================================================================================================================================================================================================================================================================================================================================================================================================================================================================================================================================================================================================================================================================================================================================================================================================================================================================================================================================================================================================================================================================================================================================================================================================================================================================================================================================]"
     ]
    },
    {
     "name": "stdout",
     "output_type": "stream",
     "text": [
      " - 0s 39us/sample - loss: 4.5386e-04 - mean_squared_error: 4.6050e-04\n",
      "0.00046049984\n"
     ]
    }
   ],
   "source": [
    "# file_path = '/Users/jackkelly/Desktop/Building_Model/Data/40_channels_data_10000.csv'\n",
    "# X_test, Y_test = processing_data(N_channels, file_path)\n",
    "eval_result = hypermodel.evaluate(X_test, Y_test)[1]\n",
    "print(eval_result)"
   ]
  },
  {
   "cell_type": "code",
   "execution_count": 9,
   "metadata": {},
   "outputs": [
    {
     "data": {
      "image/png": "[encoded data removed]",
      "text/plain": [
       "<Figure size 432x288 with 1 Axes>"
      ]
     },
     "metadata": {
      "needs_background": "light"
     },
     "output_type": "display_data"
    }
   ],
   "source": [
    "def visualising_data(hist, name):\n",
    "    plt.title('Tuned ANN')\n",
    "    plt.plot(hist.history['mean_squared_error'], label='Train')\n",
    "    plt.plot(hist.history['val_mean_squared_error'], label='Validation')\n",
    "    plt.ylabel('MSE')\n",
    "    plt.xlabel('Epoch')\n",
    "    plt.legend()\n",
    "    plt.savefig(name)\n",
    "    plt.show()\n",
    "visualising_data(hypermodel_hist, '/Users/jackkelly/Desktop/Building_Model/Figures/hypermodel_results.png')"
   ]
  },
  {
   "cell_type": "code",
   "execution_count": 10,
   "metadata": {},
   "outputs": [
    {
     "name": "stdout",
     "output_type": "stream",
     "text": [
      "Model: \"sequential\"\n",
      "_________________________________________________________________\n",
      "Layer (type)                 Output Shape              Param #   \n",
      "=================================================================\n",
      "dense (Dense)                (None, 272)               11424     \n",
      "_________________________________________________________________\n",
      "dense_1 (Dense)              (None, 40)                10920     \n",
      "=================================================================\n",
      "Total params: 22,344\n",
      "Trainable params: 22,344\n",
      "Non-trainable params: 0\n",
      "_________________________________________________________________\n"
     ]
    }
   ],
   "source": [
    "# shows weights of the ANN\n",
    "# hypermodel.weights\n",
    "hypermodel.summary()\n",
    "# print(hypermodel.metrics_names)"
   ]
  },
  {
   "cell_type": "code",
   "execution_count": 11,
   "metadata": {},
   "outputs": [],
   "source": [
    "# best_hps.__dict__.keys()\n",
    "# best_hps.__dict__['values']\n",
    "hypermodel.save('/Users/jackkelly/Desktop/Building_Model/Tuned_' + str(N_channels) + '_channels_ANN_model.h5')"
   ]
  },
  {
   "cell_type": "markdown",
   "metadata": {},
   "source": [
    "# Transfer Learning"
   ]
  },
  {
   "cell_type": "code",
   "execution_count": 12,
   "metadata": {},
   "outputs": [],
   "source": [
    "def transfer_learning(model_path):\n",
    "    hypermodel = keras.models.load_model(model_path)\n",
    "#     hypermodel.summary()\n",
    "    model = tf.keras.Sequential()\n",
    "    for layer in hypermodel.layers[:-1]: # go through until last layer\n",
    "        layer.trainable=False\n",
    "        model.add(layer)\n",
    "    model.add(keras.layers.Dense(40, activation='sigmoid'))\n",
    "#     model.summary()\n",
    "\n",
    "    model.compile(optimizer='adam', loss=keras.losses.MeanSquaredError(), metrics=['mean_squared_error'])\n",
    "    return model"
   ]
  },
  {
   "cell_type": "code",
   "execution_count": 13,
   "metadata": {},
   "outputs": [],
   "source": [
    "model = transfer_learning('Tuned_' + str(N_channels) + '_channels_ANN_model.h5')\n",
    "N_channels = 40\n",
    "file_path = '/Users/jackkelly/Desktop/Building_Model/Data/40_channels_data_variedlengths_10000.csv'\n",
    "X_scale, Y_scale = processing_data(N_channels, file_path)\n",
    "X_train, X_val_and_test, Y_train, Y_val_and_test = train_test_split(X_scale, Y_scale, test_size=0.3)\n",
    "X_val, X_test, Y_val, Y_test = train_test_split(X_val_and_test, Y_val_and_test, test_size=0.5)"
   ]
  },
  {
   "cell_type": "code",
   "execution_count": 14,
   "metadata": {},
   "outputs": [
    {
     "name": "stdout",
     "output_type": "stream",
     "text": [
      "22.646841764450073\n",
      "[0.000126498835044913, 0.00012649882]\n",
      "[0.0014548823128764828, 0.0014548821]\n"
     ]
    }
   ],
   "source": [
    "start_time = time.time()\n",
    "# new_hist = model.fit(X_train, Y_train, validation_data=(X_val, Y_val), epochs=40, shuffle=True, verbose=1, batch_size=N_channels+1)\n",
    "new_hist = model.fit(X_train, Y_train, validation_data=(X_val, Y_val), epochs=40, shuffle=True, verbose=0)\n",
    "training_time = time.time() - start_time\n",
    "print(training_time)\n",
    "# evaluating transfer-learned model\n",
    "eval_result = model.evaluate(X_test, Y_test, verbose=0)\n",
    "# evaluating OLD model with new data\n",
    "hypermodel_result = hypermodel.evaluate(X_test, Y_test, verbose=0)\n",
    "print(eval_result)\n",
    "print(hypermodel_result)"
   ]
  },
  {
   "cell_type": "code",
   "execution_count": 15,
   "metadata": {},
   "outputs": [
    {
     "name": "stdout",
     "output_type": "stream",
     "text": [
      "18.60822606086731\n",
      "[0.00011500731677127381, 0.00011500732]\n",
      "[0.0014833107491334279, 0.0014833111]\n"
     ]
    }
   ],
   "source": [
    "N_channels = 40\n",
    "file_path = '/Users/jackkelly/Desktop/Building_Model/Data/40_channels_data_variedlengths_EDFAs_10000.csv'\n",
    "X_scale, Y_scale = processing_data(N_channels, file_path)\n",
    "X_train, X_val_and_test, Y_train, Y_val_and_test = train_test_split(X_scale, Y_scale, test_size=0.3)\n",
    "X_val, X_test, Y_val, Y_test = train_test_split(X_val_and_test, Y_val_and_test, test_size=0.5)\n",
    "start_time = time.time()\n",
    "new_hist = model.fit(X_train, Y_train, validation_data=(X_val, Y_val), epochs=40, shuffle=True, verbose=0, batch_size=N_channels+1)\n",
    "training_time = time.time() - start_time\n",
    "print(training_time)\n",
    "# evaluating transfer-learned model\n",
    "value_new = model.evaluate(X_test, Y_test, verbose=0)\n",
    "# evaluating new model\n",
    "value_old = hypermodel.evaluate(X_test, Y_test, verbose=0)\n",
    "print(value_new)\n",
    "print(value_old)"
   ]
  },
  {
   "cell_type": "code",
   "execution_count": 16,
   "metadata": {},
   "outputs": [],
   "source": [
    "N_channels = 40\n",
    "file_path = '/Users/jackkelly/Desktop/Building_Model/Data/40_channels_data_blocks_20000.csv'\n",
    "X_scale, Y_scale = processing_data(N_channels, file_path)\n",
    "X_scale, X_test, Y_scale, Y_test = train_test_split(X_scale, Y_scale, test_size=0.15)"
   ]
  },
  {
   "cell_type": "code",
   "execution_count": 17,
   "metadata": {},
   "outputs": [
    {
     "name": "stdout",
     "output_type": "stream",
     "text": [
      "17000/1 [================================================================================================================================================================================================================================================================================================================================================================================================================================================================================================================================================================================================================================================================================================================================================================================================================================================================================================================================================================================================================================================================================================================================================================================================================================================================================================================================================================================================================================================================================================================================================================================================================================================================================================================================================================================================================================================================================================================================================================================================================================================================================================================================================================================================================================================================================================================================================================================================================================================================================================================================================================================================================================================================================================================================================================================================================================================================================================================================================================================================================================================================================================================================================================================================================================================================================================================================================================================================================================================================================================================================================================================================================================================================================================================================================================================================================================================================================================================================================================================================================================================================================================================================================================================================================================================================================================================================================================================================================================================================================================================================================================================================================================================================================================================================================================================================================================================================================================================================================================================================================================================================================================================================================================================================================================================================================================================================================================================================================================================================================================================================================================================================================================================================================================================================================================================================================================================================================================================================================================================================================================================================================================================================================================================================================================================================================================================================================================================================================================================================================================================================================================================================================================================================================================================================================================================================================================================================================================================================================================================================================================================================================================================================================================================================================================================================================================================================================================================================================================================================================================================================================================================================================================================================================================================================================================================================================================================================================================================================================================================================================================================================================================================================================================================================================================================================================================================================================================================================================================================================================================================================================================================================================================================================================================================================================================================================================================================================================================================================================================================================================================================================================================================================================================================================================================================================================================================================================================================================================================================================================================================================================================================================================================================================================================================================================================================================================================================================================================================================================================================================================================================================================================================================================================================================================================================================================================================================================================================================================================================================================================================================================================================================================================================================================================================================================================================================================================================================================================================================================================================================================================================================================================================================================================================================================================================================================================================================================================================================================================================================================================================================================================================================================================================================================================================================================================================================================================================================================================================================================================================================================================================================================================================================================================================================================================================================================================================================================================================================================================================================================================================================================================================================================================================================================================================================================================================================================================================================================================================================================================================================================================================================================================================================================================================================================================================================================================================================================================================================================================================================================================================================================================================================================================================================================================================================================================================================================================================================================================================================================================================================================================================================================================================================================================================================================================================================================================================================================================================================================================================================================================================================================================================================================================================================================================================================================================================================================================================================================================================================================================================================================================================================================================================================================================================================================================================================================================================================================================================================================================================================================================================================================================================================================================================================================================================================================================================================================================================================================================================================================================================================================================================================================================================================================================================================================================================================================================================================================================================================================================================================================================================================================================================================================================================================================================================================================================================================================================================================================================================================================================================================================================================================================================================================================================================================================================================================================================================================================================================================================================================================================================================================================================================================================================================================================================================================================================================================================================================================================================================================================================================================================================================================================================================================================================================================================================================================================================================================================================================================================================================================================================================================================================================================================================================================================================================================================================================================================================================================================================================================================================================================================================================================================================================================================================================================================================================================================================================================================================================================================================================================================================================================================================================================================================================================================================================================================================================================================================================================================================================================================================================================================================================================================================================================================================================================================================================================================================================================================================================================================================================================================================================================================================================================================================================================================================================================================================================================================================================================================================================================================================================================================================================================================================================================================================================================================================================================================================================================================================================================================================================================================================================================================================================================================================================================================================================================================================================================================================================================================================================================================================================================================================================================================================================================================================================================================================================================================================================================================================================================================================================================================================================================================================================================================================================================================================================================================================================================================================================================================================================================================================================================================================================================================================================================================================================================================================================================================================================================================================================================================================================================================================================================================================================================================================================================================================================================================================================================================================================================================================================================================================================================================================================================================================================================================================================================================================================================================================================================================================================================================================================================================================================================================================================================================================================================================================================================================================================================================================================================================================================================================================================================================================================================================================================================================================================================================================================================================================================================================================================================================================================================================================================================================================================================================================================================================================================================================================================================================================================================================================================================================================================================================================================================================================================================================================================================================================================================================================================================================================================================================================================================================================================================================================================================================================================================================================================================================================================================================================================================================================================================================================================================================================================================================================================================================================================================================================================================================================================================================================================================================================================================================================================================================================================================================================================================================================================================================================================================================================================================================================================================================================================================================================================================================================================================================================================================================================================================================================================================================================================================================================================================================================================================================================================================================================================================================================================================================================================================================================================================================================================================================================================================================================================================================================================================================================================================================================================================================================================================================================================================================================================================================================================================================================================================================================================================================================================================================================================================================================================================================================================================================================================================================================================================================================================================================================================================================================================================================================================================================================================================================================================================================================================================================================================================================================================================================================================================================================================================================================================================================================================================================================================================================================================================================================================================================================================================================================================================================================================================================================================================================================================================================================================================================================================================================================================================================================================================================================================================================================================================================================================================================================================================================================================================================================================================================================================================================================================================================================================================================================================================================================================================================================================================================================================================================================================================================================================================================================================================================================================================================================================================================================================================================================================================================================================================================================================================================================================================================================================================================================================================================================================================================================================================================================================================================================================================================================================================================================================================================================================================================================================================================================================================================================================================================================================================================================================================================================================================================================================================================================================================================================================================================================================================================================================================================================================================================================================================================================================================================================================================================================================================================================================================================================================================================================================================================================================================================================================================================================================================================================================================================================================================================================================================================================================================================================================================================================================================================================================================================================================================================================================================================================================================================================================================================================================================================================================================================================================================================================================================================================================================================================================================================================================================================================================================================================================================================================================================================================================================================================================================================================================================================================================================================================================================================================================================================================================================================================================================================================================================================================================================================================================================================================================================================================================================================================================================================================================================================================================================================================================================================================================================================================================================================================================================================================================================================================================================================================================================================================================================================================================================================================================================================================================================================================================================================================================================================================================================================================================================================================================================================================================================================================================================================================================================================================================================================================================================================================================================================================================================================================================================================================================================================================================================================================================================================================================================================================================================================================================================================================================================================================================================================================================================================================================================================================================================================================================================================================================================================================================================================================================================================================================================================================================================================================================================================================================================================================================================================================================================================================================================================================================================================================================================================================================================================================================================================================================================================================================================================================================================================================================================================================================================================================================================================================================================================================================================================================================================================================================================================================================================================================================================================================================================================================================================================================================================================================================================================================================================================================================================================================================================================================================================================================================================================================================================================================================================================================================================================================================================================================================================================================================================================================================================================================================================================================================================================================================================================================================================================================================================================================================================================================================================================================================================================================================================================================================================================================================================================================================================================================================================================================================================================================================================================================================================================================================================================================================================================================================================================================================================================================================================================================================================================================================================================================================================================================================================================================================================================================================================================================================================================================================================================================================================================================================================================================================================================================================================================================================================================================================================================================================================================================================================================================================================================================================================================================================================================================================================================================================================================================================================================================================================================================================================================================================================================================================================================================================================================================================================================================================================================================================================================================================================================================================================================================================================================================================================================================================================================================================================================================================================================================================================================================================================================================================================================================================================================================================================================================================================================================================================================================================================================================================================================================================================================================================================================================================================================================================================================================================================================================================================================================================================================================================================================================================================================================================================================================================================================================================================================================================================================================================================================================================================================================================================================================================================================================================================================================================================================================================================================================================================================================================================================================================================================================================================================================================================================================================================================================================================================================================================================================================================================================================================================================================================================================================================================================================================================================================================================================================================================================================================================================================================================================================================================================================================================================================================================================================================================================================================================================================================================================================================================================================================================================================================================================================================================================================================================================================================================================================================================================================================================================================================================================================================================================================================================================================================================================================================================================================================================================================================================================================================================================================================================================================================================================================================================================================================================================================================================================================================================================================================================================================================================================================================================================================================================================================================================================================================================================================================================================================================================================================================================================================================================================================================================================================================================================================================================================================================================================================================================================================================================================================================================================================================================================================================================================================================================================================================================================================================================================================================================================================================================================================================================================================================================================================================================================================================================================================================================================================================================================================================================================================================================================================================================================================================================================================================================================================================================================================================================================================================================================================================================================================================================================================================================================================================================================================================================================================================================================================================================================================================================================================================================================================================================================================================================================================================================================================================================================================================================================================================================================================================================================================================================================================================================================================================================================================================================================================================================================================================================================================================================================================================================================================================================================================================================================================================================================================================================================================================================================================================================================================================================================================================================================================================================================================================================================================================================================================================================================================================================================================================================================================================================================================================================================================================================================================================================================================================================================================================================================================================================================================================================================================================================================================================================================================================================================================================================================================================================================================================================================================================================================================================================================================================================================================================================================================================================================================================================================================================================================================================================================================================================================================================================================================================================================================================================================================================================================================================================================================================================================================================================================================================================================================================================================================================================================================================================================================================================================================================================================================================================================================================================================================================================================================================================================================================================================================================================================================================================================================================================================================================================================================================================================================================================================================================================================================================================================================================================================================================================================================================================================================================================================================================================================================================================================================================================================================================================================================================================================================================================================================================================================================================================================================================================================================================================================================================================================================================================================================================================================================================================================================================================================================================================================================================================================================================================================================================================================================================================================================================================================================================================================================================================================================================================================================================================================================================================================================================================================================================================================================================================================================================================================================================================================================================================================================================================================================================================================================================================================================================================================================================================================================================================================================================================================================================================================================================================================================================================================================================================================================================================================================================================================================================================================================================================================================================================================================================================================================================================================================================================================================================================================================================================================================================================================================================================================================================================================================================================================================================================================================================================================================================================================================================================================================================================================================================================================================================================================================================================================================================================================================================================================================================================================================================================================================================================================================================================================================================================================================================================================================================================================================================================================================================================================================================================================================================================================================================================================================================================================================================================================================================================================================================================================================================================================================================================================================================================================================================================================================================================================================================================================================================================================================================================================================================================================================================================================================================================================================================================================================================================================================================================================================================================================================================================================================================================================================================================================================================================================================================================================================================================================================================================================================================================================================================================================================================================================================================================================================================================================================================================================================================================================================================================================================================================================================================================================================================================================================================================================================================================================================================================================================================================================================================================================================================================================================================================================================================================================================================================================================================================================================================================================================================================================================================================================================================================================================================================================================================================================================================================================================================================================================================================================================================================================================================================================================================================================================================================================================================================================================================================================================================================================================================================================================================================================================================================================================================================================================================================================================================================================================================================================================================================================================================================================================================================================================================================================================================================================================================================================================================================================================================================================================================================================================================================================================================================================================================================================================================================================================================================================================================================================================================================================================================================================================================================================================================================================================================================================================================================================================================================================================================================================================================================================================================================================================================================================================================================================================================================================================================================================================================================================================================================================================================================================================================================================================================================================================================================================================================================================================================================================================================================================================================================================================================================================================================================================================================================================================================================================================================================================================================================================================================================================================================================================================================================================================================================================================================================================================================================================================================================================================================================================================================================================================================================================================================================================================================================================================================================================================================================================================================================================================================================================================================================================================================================================================================================================================================================================================================================================================================================================================================================================================================================================================================================================================================================================================================================================================================================================================================================================================================================================================================================================================================================================================================================================================================================================================================================================================================================================================================================================================================================================================================================================================================================================================================================================================================================================================================================================================================================================================================================================================================================================================================================================================================================================================================================================================================================================================================================================================================================================================================================================================================================================================================================================================================================================================================================================================================================================================================================================================================================================================================================================================================================================================================================================================================================================================================================================================================================================================================================================================================================================================================================================================================================================================================================================================================================================================================================================================================================================================================================================================================================================================================================================================================================================================================================================================================================================================================================================================================================================================================================================================================================================================================================================================================================================================================================================================================================================================================================================================================================================================================================================================================================================================================================================================================================================================================================================================================================================================================================================================================================================================================================================================================================================================================================================================================================================================================================================================================================================================================================================================================================================================================================================================================================================================================================================================================================================================================================================================================================================================================================================================================================================================================================================================================================================================================================================================================================================================================================================================================================================================================================================================================================================================================================================================================================================================================================================================================================================================================================================================================================================================================================================================================================================================================================================================================================================================================================================================================================================================================================================================================================================================================================================================================================================================================================================================================================================================================================================================================================================================================================================================================================================================================================================================================================================================================================================================================================================================================================================================================================================================================================================================================================================================================================================================================================================================================================================================================================================================================================================================================================================================================================================================================================================================================================================================================================================================================================================================================================================================================================================================================================================================================================================================================================================================================================================================================================================================================================================================================================================================================================================================================================================================================================================================================================================================================================================================================================================================================================================================================================================================================================================================================================================================================================================================================================================================================================================================================================================================================================================================================================================================================================================================================================================================================================================================================================================================================================================================================================================================================================================================================================================================================================================================================================================================================================================================================================================================================================================================================================================================================================================================================================================================================================================================================================================================================================================================================================================================================================================================================================================================================================================================================================================================================================================================================================================================================================================================================================================================================================================================================================================================================================================================================================================================================================================================================================================================================================================================================================================================================================================================================================================================================================================================================================================================================================================================================================================================================================================================================================================================================================================================================================================================================================================================================================================================================================================================================================================================================================================================================================================================================================================================================================================================================================================================================================================================================================================================================================================================================================================================================================================================================================================================================================================================================================================================================================================================================================================================================================================================================================================================================================================================================================================================================================================================================================================================================================================================================================================================================================================================================================================================================================================================================================================================================================================================================================================================================================================================================================================================================================================================================================================================================================================================================================================================================================================================================================================================================================================================================================================================================================================================================================================================================================================================================================================================================================================================================================================================================================================================================================================================================================================================================================================================================================================================================================================================================================================================================================================================================================================================================================================================================================================================================================================================================================================================================================================================================================================================================================================================================================================================================================================================================================================================================================================================================================================================================================================================================================================================================================================================================================================================================================================================================================================================================================================================================================================================================================================================================================================================================================================================================================================================================================================================================================================================================================================================================================================================================================================================================================================================================================================================================================================================================================================================================================================================================================================================================================================================================================================================================================================================================================================================================================================================================================================================================================================================================================================================================================================================================================================================================================================================================================================================================================================================================================================================================================================================================================================================================================================================================================================================================================================================================================================================================================================================================================================================================================================================================================================================================================================================================================================================================================================================================================================================================================================================================================================================================================================================================================================================================================================================================================================================================================================================================================================================================================================================================================================================================================================================================================================================================================================================================================================================================================================================================================================================================================================================================================================================================================================================================================================================================================================================================================================================================================================================================================================================================================================================================================================================================================================================================================================================================================================================================================================================================================================================================================================================================================================================================================================================================================================================================================================================================================================================================================================================================================================================================================================================================================================================================================================================================================================================================================================================================================================================================================================================================================================================================================================================================================================================================================================================================================================================================================================================================================================================================================================================================================================================================================================================================================================================================================================================================================================================================================================================================================================================================================================================================================================================================================================================================================================================================================================================================================================================================================================================================================================================================================================================================================================================================================================================================================================================================================================================================================================================================================================================================================================================================================================================================================================================================================================================================================================================================================================================================================================================================================================================================================================================================================================================================================================================================================================================================================================================================================================================================================================================================================================================================================================================================================================================================================================================================================================================================================================================================================================================================================================================================================================================================================================================================================================================================================================================================================================================================================================================================================================================================================================================================================================================================================================================================================================================================================================================================================================================================================================================================================================================================================================================================================================================================================================================================================================================================================================================================================================================================================================================================================================================================================================================================================================================================================================================================================================================================================================================================================================================================================================================================================================================================================================================================================================================================================================================================================================================================================================================================================================================================================================================================================================================================================================================================================================================================================================================================================================================================================================================================================================================================================================================================================================================================================================================================================================================================================================================================================================================================================================================================================================================================================================================================================================================================================================================================================================================================================================================================================================================================================================================================================================================================================================================================================================================================================================================================================================================================================================================================================================================================================================================================================================================================================================================================================================================================================================================================================================================================================================================================================================================================================================================================================================================================================================================================================================================================================================================================================================================================================================================================================================================================================================================================================================================================================================================================================================================================================================================================================================================================================================================================================================================================================================================================================================================================================================================================================================================================================================================================================================================================================================================================================================================================================================================================================================================================================================================================================================================================================================================================================================================================================================================================================================================================================================================================================================================================================================================================================================================================================================================================================================================================================================================================================================================================================================================================================================================================================================================================================================================================================================================================================================================================================================================================================================================================================================================================================================================================================================================================================================================================================================================================================================================================================================================================================================================================================================================================================================================================================================================================================================================================================================================================================================================================================================================================================================================================================================================================================================================================================================================================================================================================================================================================================================================================================================================================================================================================================================================================================================================================================================================================================================================================================================================================================================================================================================================================================================================================================================================================================================================================================================================================================================================================================================================================================================================================================================================================================================================================================================================================================================================================================================================================================================================================================================================================================================================================================================================================================================================================================================================================================================================================================================================================================================================================================================================================================================================================================================================================================================================================================================================================================================================================================================================================================================================================================================================================================================================================================================================================================================================================================================================================================================================================================================================================================================================================================================================================================================================================================================================================================================================================================================================================================================================================================================================================================================================================================================================================================================================================================================================================================================================================================================================================================================================================================================================================================================================================================================================================================================================================================================================================================================================================================================================================================================================================================================================================================================================================================================================================================================================================================================================================================================================================================================================================================================================================================================================================================================================================================================================================================================================================================================================================================================================================================================================================================================================================================================================================================================================================================================================================================================================================================================================================================================================================================================================================================================================================================================================================================================================================================================================================================================================================================================================================================================================================================================================================================================================================================================================================================================================================================================================================================================================================================================================================================================================================================================================================================================================================================================================================================================================================================================================================================================================================================================================================================================================================================================================================================================================================================================================================================================================================================================================================================================================================================================================================================================================================================================================================================================================================================================================================================================================================================================================================================================================================================================================================================================================================================================================================================================================================================================================================================================================================================================================================================================================================================================================================================================================================================================================================================================================================================================================================================================================================================================================================================================================================================================================================================================================================================================================================================================================================================================================================================================================================================================================================================================================================================================================================================================================================================================================================================================================================================================================================================================================================================================================================================================================================================================================================================================================================================================================================================================================================================================================================================================================================================================================================================================================================================================================================================================================================================================================================================================================================================================================================================================================================================================================================================================================================================================================================================================================================================================================================================================================================================================================================================================================================================================================================================================================================================================================================================================================================================================================================================================================================================================================================================================================================================================================================================================================================================================================================================================================================================================================================================================================================================================================================================================================================================================================================================================================================================================================================================================================================================================================================================================================================================================================================================================================================================================================================================================================================================================================================================================================================================================================================================================================================================================================================================================================================================================================================================================================================================================================================================================================================================================================================================================================================================================================================================================================================================================================================================================================================================================================================================================================================================================================================================================================================================================================================================================================================================================================================================================================================================================================================================================================================================================================================================================================================================================================================================================================================================================================================================================================================================================================================================================================================================================================================================================================================================================================================================================================================================================================================================================================================================================================================================================================================================================================================================================================================================================================================================================================================================================================================================================================================================================================================================================================================================================================================================================================================================================================================================================================================================================================================================================================================================================================================================================================================================================================================================================================================================================================================================================================================================================================================================================================================================================================================================================================================================================================================================================================================================================================================================================================================================================================================================================================================================================================================================================================================================================================================================================================================================================================================================================================================================================================================================================================================================================================================================================================================================================================================================================================================================================================================================================================================================================================================================================================================================================================================================================================================================================================================================================================================================================================================================================================================================================================================================================================================================================================================================================================================================================================================================================================================================================================================================================================================================================================================================================================================================================================================================================================================================================================================================================================================================================================================================================================================================================================================================================================================================================================================================================================================================================================================================================================================================================================================================================================================================================================================================================================================================================================================================================================================================================================================================================================================================================================================================================================================================================================================================================================================================================================================================================================================================================================================================================================================================================================================================================================================================================================================================================================================================================================================================================================================================================================================================================================================================================================================================================================================================================================================================================================================================================================================================================================================================================================================================================================================================================================================================================================================================================================================================================================================================================================================================================================================================================================================================================================================================================================================================================================================================================================================================================================================================================================================================================================================================================================================================================================================================================================================================================================================================================================================================================================================================================================================================================================================================================================================================================================================================================================================================================================================================================================================================================================================================================================================================================================================================================================================================================================================================================================================================================================================================================================================================================================================================================================================================================================================================================================================================================================================================================================================================================================================================================================================================================================================================================================================================================================================================================================================================================================================================================================================================================================================================================================================================================================================================================================================================================================================================================================================================================================================================================================================================================================================================================================================================================================================================================================================================================================================================================================================================================================================================================================================================================================================================================================================================================================================================================================================================================================================================================================================================================================================================================================================================================================================================================================================================================================================================================================================================================================================================================================================================================================================================================================================================================================================================================================================================================================================================================================================================================================================================================================================================================================================================================================================================================================================================================================================================================================================================================================================================================================================================================================================================================================================================================================================================================================================================================================================================================================================================================================================================================================================================================================================================================================================================================================================================================================================================================================================================================================================================================================================================================================================================================================================================================================================================================================================================================================================================================================================================================================================================================================================================================================================================================================================================================================================================================================================================================================================================================================================================================================================================================================================================================================================================================================================================================================================================================================================================================================================================================================================================================================================================================================================================================================================================================================================================================================================================================================================================================================================================================================================================================================================================================================================================================================================================================================================================================================================================================================================================================================================================================================================================================================================================================================================================================================================================================================================================================================================================================================================================================================================================================================================================================================================================================================================================================================================================================================================================================================================================================================================================================================================================================================================================================================================================================================================================================================================================================================================================================================================================================================================================================================================================================================================================================================================================================================================================================================================================================================================================================================================================================================================================================================================================================================================================================================================================================================================================================================================================================================================================================================================================================================================================================================================================================================================================================================================================================================================================================================================================================================================================================================================================================================================================================================================================================================================================================================================================================================================================================================================================================================================================================================================================================================================================================================================================================================================================================================================================================================================================================================================================================================================================================================================================================================================================================================================================================================================================================================================================================================================================================================================================================================================================================================================================================================================================================================================================================================================================================================================================================================================================================================================================================================================================================================================================================================================================================================================================================================================================================================================================================================================================================================================================================================================================================================================================================================================================================================================================================================================================================================================================================================================================================================================================================================================================================================================================================================================================================================================================================================================================================================================================================================================================================================================================================================================================================================================================================================================================================================================================================================================================================================================================================================================================================================================================================================================================================================================================================================================================================================================================================================================================================================================================================================================================================================================================================================================================================================================================================================================================================================================================================================================================================================================================================================================================================================================================================================================================================================================================================================================================================================================================================================================================================================================================================================================================================================================================================================================================================================================================================================================================================================================================================================================================================================================================================================================================================================================================================================================================================================================================================================================================================================================================================================================================================================================================================================================================================================================================================================================================================================================================================================================================================================================================================================================================================================================================================================================================================================================================================================================================================================================================================================================================================================================================================================================================================================================================================================================================================================================================================================================================================================================================================================================================================================================================================================================================================================================================================================================================================================================================================================================================================================================================================================================================================================================================================================================================================================================================================================================================================================================================================================================================================================================================================================================================================================================================================================================================================================================================================================================================================================================================================================================================================================================================================================================================================================================================================================================================================================================================================================================================================================================================================================================================================================================================================================================================================================================================================================================================================================================================================================================================================================================================================================================================================================================================================================================================================================================================================================================================================================================================================================================================================================================================================================================================================================================================================================================================================================================================================================================================================================================================================================================================================================================================================================================================================================================================================================================================================================================================================================================================================================================================================================================================================================================================================================================================================================================================================================================================================================================================================================================================================================================================================================================================================================================================================================================================================================================================================================================================================================================================================================================================================================================================================================================================================================================================================================================================================================================================================================================================================================================================================================================================================================================================================================================================================================================================================================================================================================================================================================================================================================================================================================================================================================================================================================================================================================================================================================================================================================================================================================================================================================================================================================================================================================================================================================================================================================================================================================================================================================================================================================================================================================================================================================================================================================================================================================================================================================================================================================================================================================================================================================================================================================================================================================================================================================================================================================================================================================================================================================================================================================================================================================================================================================================================================================================================================================================================================================================================================================================================================================================================================================================================================================================================================================================================================================================================================================================================================================================================================================================================================================================================================================================================================================================================================================================================================================================================================================================================================================================================================================================================================================================================================================================================================================================================================================================================================================================================================================================================================================================================================================================================================================================================================================================================================================================================================================================================================================================================================================================================================================================================================================================================================================================================================================================================================================================================================================================================================================================================================================================================================================================================================================================================================================================================================================================================================================================================================================================================================================================================================================================================================================================================================================================================================================================================================================================================================================================================================================================================================================================================================================================================================================================================================================================================================================================================================================================================================================================================================================================================================================================================================================================================================================================================================================================================================================================================================================================================================================================================================================================================================================================================================================================================================================================================================================================================================================================================================================================================================================================================================================================================================================================================================================================================================================================================================================================================================================================================================================================================================================================================================================================================================================================================================================================================================================================================================================================================================================================================================================================================================================================================================================================================================================================================================================================================================================================================================================================================================================================================================================================================================================================================================================================================================================================================================================================================================================================================================================================================================================================================================================================================================================================================================================================================================================================================================================================================================================================================================================================================================================================================================================================================================================================================================================================================================================================================================================================================================================================================================================================================================================================================================================================================================================================================================================================================================================================================================================================================================================================================================================================================================================================================================================================================================================================================================================================================================================================================================================================================================================================================================================================================================================================================================================================================================================================================================================================================================================================================================================================================================================================================================================================================================================================================================================================================================================================================================================================================================================================================================================================================================================================================================================================================================================================================================================================================================================================================================================================================================================================================================================================================================================================================================================================================================================================================================================================================================================================================================================================================================================================================================================================================================================================================================================================================================================================================================================================================================================================================================================================================================================================================================================================================================================================================================================================================================================================================================================================================================================================================================================================================================================================================================================================================================================================================================================================================================================================================================================================================================================================================================================================================================================================================================================================================================================================================================================================================================================================================================================================================================================================================================================================================================================================================================================================================================================================================================================================================================================================================================================================================================================================================================================================================================================================================================================================================================================================================================================================================================================================================================================================================================================================================================================================================================================================================================================================================================================================================================================================================================================================================================================================================================================================================================================================================================================================================================================================================================================================================================================================================================================================================================================================================================================================================================================================================================================================================================================================================================================================================================================================================================================================================================================================================================================================================================================================================================================================================================================================================================================================================================================================================================================================================================================================================================================================================================================================================================================================================================================================================================================================================================================================================================================================================================================================================================================================================================================================================================================================================================================================================================================================================================================================================================================================================================================================================================================================================================================================================================================================================================================================================================================================================================================================================================================================================================================================================================================================================================================================================================================================================================================================================================================================================================================================================================================================================================================================================================================================================================================================================================================================================================================================================================================================================================================================================================================================================================================================================================================================================================================================================================================================================================================================================================================================================================================================================================================================================================================================================================================================================================================================================================================================================================================================================================================================================================================================================================================================================================================================================================================================================================================================================================================================================================================================================================================================================================================================================================================================================================================================================================================================================================================================================================================================================================================================================================================================================================================================================================================================================================================================================================================================================================================================================================================================================================================================================================================================================================================================================================================================================================================================================================================================================================================================================================================================================================================================================================================================================================================================================================================================================================================================================================================================================================================================================================================================================================================================================================================================================================================================================================================================================================================================================================================================================================================================================================================================================================================================================================================================================================================================================================================================================================================================================================================================================================================================================================================================================================================================================================================================================================================================================================================================================================================================================================================================================================================================================================================================================================================================================================================================================================================================================================================================================================================================================================================================================================================================================================================================================================================================================================================================================================================================================================================================================================================================================================================================================================================================================================================================================================================================================================================================================================================================================================================================================================================================================================================================================================================================================================================================================================================================================================================================================================================================================================================================================================================================================================================================================================================================================================================================================================================================================================================================================================================================================================================================================================================================================================================================================================================================================================================================================================================================================================================================================================================================================================================================================================================================================================================================================================================================================================================================================================================================================================================================================================================================================================================================================================================================================================================================================================================================================================================================================================================================================================================================================================================================================================================================================================================================================================================================================================================================================================================================================================================================================================================================================================================================================================================================================================================================================================================================================================================================================================================================================================================================================================================================================================================================================================================================================================================================================================================================================================================================================================================================================================================================================================================================================================================================================================================================================================================================================================================================================================================================================================================================================================================================================================================================================================================================================================================================================================================================================================================================================================================================================================================================================================================================================================================================================================================================================================================================================================================================================================================================================================================================================================================================================================================================================================================================================================================================================================================================================================================================================================================================================================================================================================================================================================================================================================================================================================================================================================================================================================================================================================================================================================================================================================================================================================================================================================================================================================================================================================================================================================================================================================================================================================================================================================================================================================================================================================================================================================================================================================================================================================================================================================================================================================================================================================================================================================================================================================================================================================================================================================================================================================================================================================================================================================================================================================================================================================================================================================================================================================================================================================================================================================================================================================================================================================================================================================================================================================================================================================================================================================================================================================================================================================================================================================================================================================================================================================================================================================================================================================================================================================================================================================================================================================================================================================================================================================================================================================================================================================================================================================================================================================================================================================================================================================================================================================================================================================================================================================================================================================================================================================================================================================================================================================================================================================================================================================================================================================================================================================================================================================================================================================================================================================================================================================================================================================================================================================================================================================================================================================================================================================================================================================================================================================================================================================================================================================================================================================================================================================================================================================================================================================================================================================================================================================================================================================================================================================================================================================================================================================================================================================================================================================================================================================================================================================================================================================================================================================================================================================================================================================================================================================================================================================================================================================================================================================================================================================================================================================================================================================================================================================================================================================================================================================================================================================================================================================================================================================================================================================================================================================================================================================================================================================================================================================================================================================================================================================================================================================================================================================================================================================================================================================================================================================================================================================================================================================================================================================================================================================================================================================================================================================================================================================================================================================================================================================================================================================================================================================================================================================================================================================================================================================================================================================================================================================================================================================================================================================================================================================================================================================================================================================================================================================================================================================================================================================================================================================================================================================================================================================================================================================================================================================================================================================================================================================================================================================================================================================================================================================================================================================================================================================================================================================================================================================================================================================================================================================================================================================================================================================================================================================================================================================================================================================================================================================================================================================================================================================================================================================================================================================================================================================================================================================================================================================================================================================================================================================================================================================================================================================================================================================================================================================================================================================================================================================================================================================================================================================================================================================================================================================================================================================================================================================================================================================================================================================================================================================================================================================================================================================================================================================================================================================================================================================================================================================================================================================================================================================================================================================================================================================================================================================================================================================================================================================================================================================================================================================================================================================================================================================================================================================================================================================================================================================================================================================================================================================================================================================================================================================================================================================================================================================================================================================================================================================================================================================================================================================================================================================================================================================================================================================================================================================================================================================================================================================================================================================================================================================================================================================================================================================================================================================================================================================================================================================================================================================================================================================================================================================================================================================================================================================================================================================================================================================================================================================================================================================================================================================================================================================================================================================================================================================================================================================================================================================================================================================================================================================================================================================================================================================================================================================================================================================================================================================================================================================================================================================================================================================================================================================================================================================================================================================================================================================================================================================================================================================================================================================================================================================================================================================================================================================================================================================================================================================================================================================================================================================================================================================================================================================================================================================================================================================================================================================================================================================================================================================================================================================================================================================================================================================================================================================================================================================================================================================================================================================================================================================================================================================================================================================================================================================================================================================================================================================================================================================================================================================================================================================================================================================================================================================================================================================================================================================================================================================================================================================================================================================================================================================================================================================================================================================================================================================================================================================================================================================================================================================================================================================================================================================================================================================================================================================================================================================================================================================================================================================================================================================================================================================================================================================================================================================================================================================================================================================================================================================================================================================================================================================================================================================================================================================================================================================================================================================================================================================================================================================================================================================================================================================================================================================================================================================================================================================================================================================================================================================================================================================================================================================================================================================================================================================================================================================================================================================================================================================================================================================================================================================================================================================================================================================================================================================================================================================================================================================================================================================================================================================================================================================================================================================================================================================================================================================================================================================================================================================================================================================================================================================================================================================================================================================================================================================================================================================================================================================================================================================================================================================================================================================================================================================================================================================================================================================================================================================================================================================================================================================================================================================================================================================================================================================================================================================================================================================================================================================================================================================================================================================================================================================================================================================================================================================================================================================================================================================================================================================================================================================================================================================================================================================================================================================================================================================================================================================================================================================================================================================================================================================================================================================================================================================================================================================================================================================================================================================================================================================================================================================================================================================================================================================================================================================================================================================================================================================================================================================================================================================================================================================================================================================================================================================================================================================================================================================================================================================================================================================================================================================================================================================================================================================================================================================================================================================================================================================================================================================================================================================================================================================================================================================================================================================================================================================================================================================================================================================================================================================================================================================================================================================================================================================================================================================================================================================================================================================================================================================================================================================================================================================================================================================================================================================================================================================================================================================================================================================================================================================================================================================================================================================================================================================================================================================================================================================================================================================================================================================================================================================================================================================================================================================================================================================================================================================================================================================================================================================================================================================================================================================================================================================================================================================================================================================================================================================================================================================================================================================================================================================================================================================================================================================================================================================================================================================================================================================================================================================================================================================================================================================================================================================================================================================================================================================================================================================================================================================================================================================================================================================================================================================================================================================================================================================================================================================================================================================================================================================================================================================================================================================================================================================================================================================================================================================================================================================================================================================================================================================================================================================================================================================================================================================================================================================================================================================================================================================================================================================================================================================================================================================================================================================================================================================================================================================================================================================================================================================================================================================================================================================================================================================================================================================================================================================================================================================================================================================================================================================================================================================================================================================================================================================================================================================================================================================================================================================================================================================================================================================================================================================================================================================================================================================================================================================================================================================================================================================================================================================================================================================================================================================================================================================================================================================================================================================================================================================================================================================================================================================================================================================================================================================================================================================================================================================================================================================================================================================================================================================================================================================================================================================================================================================================================================================================================================================================================================================================================================================================================================================================================================================================================================================================================================================================================================================================================================================================================================================================================================================================================================================================================================================================================================================================================================================================================================================================================================================================================================================================================================================================================================================================================================================================================================================================================================================================================================================================================================================================================================================================================================================================================================================================================================================================================================================================================================================================================================================================================================================================================================================================================================================================================================================================================================================================================================================================================================================================================================================================================================================================================================================================================================================================================================================================================================================================================================================================================================================================================================================================================================================================================================================================================================================================================================================================================================================================================================================================================================================================================================================================================================================================================================================================================================================================================================================================================================================================================================================================================================================================================================================================================================================================================================================================================================================================================================================================================================================================================================================================================================================================================================================================================================================================================================================================================================================================================================================================================================================================================================================================================================================================================================================================================================================================================================================================================================================================================================================================================================================================================================================================================================================================================================================================================================================================================================================================================================================================================================================================================================================================================================================================================================================================================================================================================================================================================================================================================================================================================================================================================================================================================================================================================================================================================================================================================================================================================================================================================================================================================================================================================================================================================================================================================================================================================================================================================================================================================================================================================================================================================================================================================================================================================================================================================================================================================================================================================================================================================================================================================================================================================================================================================================================================================================================================================================================================================================================================================================================================================================================================================================================================================================================================================================================================================================================================================================================================================================================================================================================================================================================================================================================================================================================================================================================================================================================================================================================================================================================================================================================================================================================================================================================================================================================================================================================================================================================================================================================================================================================================================================================================================================================================================================================================================================================================================================================================================================================================================================================================================================================================================================================================================================================================================================================================================================================================================================================================================================================================================================================================================================================================================================================================================================================================================================================================================================================================================================================================================================================================================================================================================================================================================================================================================================================================================================================================================================================================================================================================================================================================================================================================================================================================================================================================================================================================================================================================================================================================================================================================================================================================================================================================================================================================================================================================================================================================================================================================================================================================================================================================================================================================================================================================================================================================================================================================================================================================================================================================================================================================================================================================================================================================================================================================================================================================================================================================================================================================================================================================================================================================================================================================================================================================================================================================================================================================================================================================================================================================================================================================================================================================================================================================================================================================================================================================================================================================================================================================================================================================================================================================================================================================================================================================================================================================================================================================================================================================================================================================================================================================================================================================================================================================================================================================================================================================================================================================================================================================================================================================================================================================================================================================================================================================================================================================================================================================================================================================================================================================================================================================================================================================================================================================================================================================================================================================================================================================================================================================================================================================================================================================================================================================================================================================================================================================================================================================================================================================================================================================================================================================================================================================================================================================================================================================================================================================================================================================================================================================================================================================================================================================================================================================================================================================================================================================================================================================================================================================================================================================================================================================================================================================================================================================================================================================================================================================================================================================================================================================================================================================================================================================================================================================================================================================================================================================================================================================================================================================================================================================================================================================================================================================================================================================================================================================================================================================================================================================================================================================================================================================================================================================================================================================================================================================================================================================================================================================================================================================================================================================================================================================================================================================================================================================================================================================================================================================================================================================================================================================================================================================================================================================================================================================================================================================================================================================================================================================================================================================================================================================================================================================================================================================================================================================================================================================================================================================================================================================================================================================================================================================================================================================================================================================================================================================================================================================================================================================================================================================================================================================================================================================================================================================================================================================================================================================================================================================================================================================================================================================================================================================================================================================================================================================================================================================================================================================================================================================================================================================================================================================================================================================================================================================================================================================================================================================================================================================================================================================================================================================================================================================================================================================================================================================================================================================================================================================================================================================================================================================================================================================================================================================================================================================================================================================================================================================================================================================================================================================================================================================================================================================================================================================================================================================================================================================================================================================================================================================================================================================================================================================================================================================================================================================================================================================================================================================================================================================================================================================================================================================================================================================================================================================================================================================================================================================================================================================================================================================================================================================================================================================================================================================================================================================================================================================================================================================================================================================================================================================================================================================================================================================================================================================================================================================================================================================================================================================================================================================================================================================================================================================================================================================================================================================================================================================================================================================================================================================================================================================================================================================================================================================================================================================================================================================================================================================================================================================================================================================================================================================================================================================================================================================================================================================================================================================================================================================================================================================================================================================================================================================================================================================================================================================================================================================================================================================================================================================================================================================================================================================================================================================================================================================================================================================================================================================================================================================================================================================================================================================================================================================================================================================================================================================================================================================================================================================================================================================================================================================================================================================================================================================================================================================================================================================================================================================================================================================================================================================================================================================================================================================================================================================================================================================================================================================================================================================================================================================================================================================================================================================================================================================================================================================================================================================================================================================================================================================================================================================================================================================================================================================================================================================================================================================================================================================================================================================================================================================================================================================================================================================================================================================================================================================================================================================================================================================================================================================================================================================================================================================================================================================================================================================================================================================================================================================================================================================================================================================================================================================================================================================================================================================================================================================================================================================================================================================================================================================================================================================================================================================================================================================================================================================================================================================================================================================================================================================================================================================================================================================================================================================================================================================================================================================================================================================================================================================================================================================================================================================================================================================================================================================================================================================================================================================================================================================================================================================================================================================================================================================================================================================================================================================================================================================================================================================================================================================================================================================================================================================================================================================================================================================================================================================================================================================================================================================================================================================================================================================================================================================================================================================================================================================================================================================================================================================================================================================================================================================================================================================================================================================================================================================================================================================================================================================================================================================================================================================================================================================================================================================================================================================================================================================================================================================================================================================================================================================================================================================================================================================================================================================================================================================================================================================================================================================================================================================================================================================================================================================================================================================================================================================================================================================================================================================================================================================================================================================================================================================================================================================================================================================================================================================================================================================================================================================================================================================================================================================================================================================================================================================================================================================================================================================================================================================================================================================================================================================================================================================================================================================================================================================================================================================================================================================================================================================================================================================================================================================================================================================================================================================================================================================================================================================================================================================================================================================================================================================================================================================================================================================================================================================================================================================================================================================================================================================================================================================================================================================================================================================================================================================================================================================================================================================================================================================================================================================================================================================================================================================================================================================================================================================================================================================================================================================================================================================================================================================================================================================================================================================================================================================================================================================================================================================================================================================================================================================================================================================================================================================================================================================================================================================================================================================================================================================================================================================================================================================================================================================================================================================================================================================================================================================================================================================================================================================================================================================================================================================================================================================================================================================================================================================================================================================================================================================================================================================================================================================================================================================================================================================================================================================================================================================================================================================================================================================================================================================================================================================================================================================================================================================================================================================================================================================================================================================================================================================================================================================================================================================================================================================================================================================================================================================================================================================================================================================================================================================================================================================================================================================================================================================================================================================================================================================================================================================================================================================================================================================================================================================================================================================================================================================================================================================================================================================================================================================================================================================================================================================================================================================================================================================================================================================================================================================================================================================================================================================================================================================================================================================================================================================================================================================================================================================================================================================================================================================================================================================================================================================================================================================================================================================================================================================================================================================================================================================================================================================================================================================================================================================================================================================================================================================================================================================================================================================================================================================================================================================================================================================================================================================================================================================================================================================================================================================================================================================================================================================================================================================================================================================================================================================================================================================================================================================================================================================================================================================================================================================================================================================================================================================================================================================================================================================================================================================================================================================================================================================================================================================================================================================================================================================================================================================================================================================================================================================================================================================================================================================================================================================================================================================================================================================================================================================================================================================================================================================================================================================================================================================================================================================================================================================================================================================================================================================================================================================================================================================================================================================================================================================================================================================================================================================================================================================================================================================================================================================================================================================================================================================================================================================================================================================================================================================================================================================================================================================================================================================================================================================================================================================================================================================================================================================================================================================================================================================================================================================================================================================================================================================================================================================================================================================================================================================================================================================================================================================================================================================================================================================================================================================================================================================================================================================================================================================================================================================================================================================================================================================================================================================================================================================================================================================================================================================================================================================================================================================================================================================================================================================================================================================================================================================================================================================================================================================================================================================================================================================================================================================================================================================================================================================================================================================================================================================================================================================================================================================================================================================================================================================================================================================================================================================================================================================================================================================================================================================================================================================================================================================================================================================================================================================================================================================================================================================================================================================================================================================================================================================================================================================================================================================================================================================================================================================================================================================================================================================================================================================================================================================================================================================================================================================================================================================================================================================================================================================================================================================================================================================================================================================================================================================================================================================================================================================================================================================================================================================================================================================================================================================================================================================================================================================================================================================================================================================================================================================================================================================================================================================================================================================================================================================================================================================================================================================================================================================================================================================================================================================================================================================================================================================================================================================================================================================================================================================================================================================================================================================================================================================================================================================================================================================================================================================================================================================================================================================================================================================================================================================================================================================================================================================================================================================================================================================================================================================================================================================================================================================================================================================================================================================================================================================================================================================================================================================================================================================================================================================================================================================================================================================================================================================================================================================================================================================================================================================================================================================================================================================================================================================================================================================================================================================================================================================================================================================================================================================================================================================================================================================================================================================================================================================================================================================================================================================================================================================================================================================================================================================================================================================================================================================================================================================================================================================================================================================================================================================================================================================================================================================================================================================================================================================================================================================================================================================================================================================================================================================================================================================================================================================================================================================================================================================================================================================================================================================================================================================================================================================================================================================================================================================================================================================================================================================================================================================================================================================================================================================================================================================================================================================================================================================================================================================================================================================================================================================================================================================================================================================================================================================================================================================================================================================================================================================================================================================================================================================================================================================================================================================================================================================================================================================================================================================================================================================================================================================================================================================================================================================================================================================================================================================================================================================================================================================================================================================================================================================================================================================================================================================================================================================================================================================================================================================================================================================================================================================================================================================================================================================================================================================================================================================================================================================================================================================================================================================================================================================================================================================================================================================================================================================================================================================================================================================================================================================================================================================================================================================================================================================================================================================================================================================================================================================================================================================================================================================================================================================================================================================================================================================================================================================================================================================================================================================================================================================================================================================================================================================================================================================================================================================================================================================================================================================================================================================================================================================================================================================================================================================================================================================================================================================================================================================================================================================================================================================================================================================================================================================================================================================================================================================================================================================================================================================================================================================================================================================================================================================================================================================================================================================================================================================================================================================================================================================================================================================================================================================================================================================================================================================================================================================================================================================================================================================================================================================================================================================================================================================================================================================================================================================================================================================================================================================================================================================================================================================================================================================================================================================================================================================================================================================================================================================================================================================================================================================================================================================================================================================================================================================================================================================================================================================================================================================================================================================================================================================================================================================================================================================================================================================================================================================================================================================================================================================================================================================================================================================================================================================================================================================================================================================================================================================================================================================================================================================================================================================================================================================================================================================================================================================================================================================================================================================================================================================================================================================================================================================================================================================================================================================================================================================================================================================================================================================================================================================================================================================================================================================================================================================================================================================================================================================================================================================================================================================================================================================================================================================================================================================================================================================================================================================================================================================================================================================================================================================================================================================================================================================================================================================================================================================================================================================================================================================================================================================================================================================================================================================================================================================================================================================================================================================================================================================================================================================================================================================================================================================================================================================================================================================================================================================================================================================================================================================================================================================================================================================================================================================================================================================================================================================================================================================================================================================================================================================================================================================================================================================================================================================================================================================================================================================================================================================================================================================================================================================================================================================================================================================================================================================================================================================================================================================================================================================================================================================================================================================================================================================================================================================================================================================================================================================================================================================================================================================================================================================================================================================================================================================================================================================================================================================================================================================================================================================================================================================================================================================================================================================================================================================================================================================================================================================================================================================================================================================================================================================================================================================================================================================================================================================================================================================================================================================================================================================================================================================================================================================================================================================================================================================================================================================================================================================================================================================================================================================================================================================================================================================================================================================================================================================================================================================================================================================================================================================================================================================================================================================================================================================================================================================================================================================================================================================================================================================================================================================================================================================================================================================================================================================================================================================================================================================================================================================================================================================================================================================================================================================================================================================================================================================================================================================================================================================================================================================================================================================================================================================================================================================================================================================================================================================================================================================================================================================================================================================================================================================================================================================================================================================================================================================================================================================================================================================================================================================================================================================================================================================================================================================================================================================================================================================================================================================================================================================================================================================================================================================================================================================================================================================================================================================================================================================================================================================================================================================================================================================================================================================================================================================================================================================================================================================================================================================================================================================================================================================================================================================================================================================================================================================================================================================================================================================================================================================================================================================================================================================================================================================================================================================================================================================================================================================================================================================================================================================================================================================================================================================================================================================================================================================================================================================================================================================================================================================================================================================================================================================================================================================================================================================================================================================================================================================================================================================================================================================================================================================================================================================================================================================================================================================================================================================================================================================================================================================================================================================================================================================================================================================================================================================================================================================================================================================================================================================================================================================================================================================================================================================================================================================================================================================================================================================================================================================================================================================================================================================================================================================================================================================================================================================================================================================================================================================================================================================================================================================================================================================================================================================================================================================================================================================================================================================================================================================================================================================================================================================================================================================================================================================================================================================================================================================================================================================================================================================================================================================================================================================================================================================================================================================================================================================================================================================================================================================================================================================================================================================================================================================================================================================================================================================================================================================================================================================================================================================================================================================================================================================================================================================================================================================================================================================================================================================================================================================================================================================================================================================================================================================================================================================================================================================================================================================================================================================================================================================================================================================================================================================================================================================================================================================================================================================================================================================================================================================================================================================================================================================================================================================================================================================================================================================================================================================================================================================================================================================================================================================================================================================================================================================================================================================================================================================================================================================================================================================================================================================================================================================================================================================================================================================================================================================================================================================================================================================================================================================================================================================================================================================================================================================================================================================================================================================================================================================================================================================================================================================================================================================================================================================================================================================================================================================================================================================================================================================================================================================================================================================================================================================================================================================================================================================================================================================================================================================================================================================================================================================================================================================================================================================================================================================================================================================================================================================================================================================================================================================================================================================================================================================================================================================================================================================================================================================================================================================================================================================================================================================================================================================================================================================================================================================================================================================================================================================================================================================================================================================================================================================================================================================================================================================================================================================================================================================================================================================================================================================================================================================================================================================================================================================================================================================================================================================================================================================================================================================================================================================================================================================================================================================================================================================================================================================================================================================================================================================================================================================================================================================================================================================================================================================================================================================================================================================================================================================================================================================================================================================================================================================================================================================================================================================================================================================================================================================================================================================================================================================================================================================================================================================================================================================================================================================================================================================================================================================================================================================================================================================================================================================================================================================================================================================================================================================================================================================================================================================================================================================================================================================================================================================================================================================================================================================================================================================================================================================================================================================================================================================================================================================================================================================================================================================================================================================================================================================================================================================================================================================================================================================================================================================================================================================================================================================================================================================================================================================================================================================================================================================================================================================================================================================================================================================================================================================================================================================================================================================================================================================================================================================================================================================================================================================================================================================================================================================================================================================================================================================================================================================================================================================================================================================================================================================================================================================================================================================================================================================================================================================================================================================================================================================================================================================================================================================================================================================================================================================================================================================================================================================================================================================================================================================================================================================================================================================================================================================================================================================================================================================================================================================================================================================================================================================================================================================================================================================================================================================================================================================================================================================================================================================================================================================================================================================================================================================================================================================================================================================================================================================================================================================================================================================================================================================================================================================================================================================================================================================================================================================================================================================================================================================================================================================================================================================================================================================================================================================================================================================================================================================================================================================================================================================================================================================================================================================================================================================================================================================================================================================================================================================================================================================================================================================================================================================================================================================================================================================================================================================================================================================================================================================================================================================================================================================================================================================================================================================================================================================================================================================================================================================================================================================================================================================================================================================================================================================================================================================================================================================================================================================================================================================================================================================================================================================================================================================================================================================================================================================================================================================================================================================================================================================================================================================================================================================================================================================================================================================================================================================================================================================================================================================================================================================================================================================================================================================================================================================================================================================================================================================================================================================================================================================================================================================================================================================================================================================================================================================================================================================================================================================================================================================================================================================================================================================================================================================================================================================================================================================================================================================================================================================================================================================================================================================================================================================================================================================================================================================================================================================================================================================================================================================================================================================================================================================================================================================================================================================================================================================================================================================================================================================================================================================================================================================================================================================================================================================================================================================================================================================================================================================================================================================================================================================================================================================================================================================================================================================================================================================================================================================================================================================================================================================================================================================================================================================================================================================================================================================================================================================================================================================================================================================================================================================================================================================================================================================================================================================================================================================================================================================================================================================================================================================================================================================================================================================================================================================================================================================================================================================================================================================================================================================================================================================================================================================================================================================================================================================================================================================================================================================================================================================================================================================================================================================================================================================================================================================================================================================================================================================================================================================================================================================================================================================================================================================================================================================================================================================================================================================================================================================================================================================================================================================================================================================================================================================================================================================================================================================================================================================================================================================================================================================================================================================================================================================================================================================================================================================================================================================================================================================================================================================================================================================================================================================================================================================================================================================================================================================================================================================================================================================================================================================================================================================================================================================================================================================================================================================================================================================================================================================================================================================================================================================================================================================================================================================================================================================================================================================================================================================================================================================================================================================================================================================================================================================================================================================================================================================================================================================================================================================================================================================================================================================================================================================================================================================================================================================================================================================================================================================================================================================================================================================================================================================================================================================================================================================================================================================================================================================================================================================================================================================================================================================================================================================================================================================================================================================================================================================================================================================================================================================================================================================================================================================================================================================================================================================================================================================================================================================================================================================================================================================================================================================================================================================================================================================================================================================================================================================================================================================================================================================================================================================================================================================================================================================================================================================================================================================================================================================================================================================================================================================================================================================================================================================================================================================================================================================================================================================================================================================================================================================================================================================================================================================================================================================================================================================================================================================================================================================================================================================================================================================================================================================================================================================================================================================================================================================================================================================================================================================================================================================================================================================================================================================================================================================================================================================================================================================================================================================================================================================================================================================================================================================================================================================================================================================================================================================================================================================================================================================================================================================================================================================================================================================================================================================================================================================================================================================================================================================================================================================================================================================================================================================================================================================================================================================================================================================================================================================================================================================================================================================================================================================================================================================================================================================================================================================================================================================================================================================================================================================================================================================================================================================================================================================================================================================================================================================================================================================================================================================================================================================================================================================================================================================================================================================================================================================================================================================================================================================================================================================================================================================================================================================================================================================================================================================================================================================================================================================================================================================================================================================================================================================================================================================================================================================================================================================================================================================================================================================================================================================================================================================================================================================================================================================================================================================================================================================================================================================================================================================================================================================================================================================================================================================================================================================================================================================================================================================================================================================================================================================================================================================================================================================================================================================================================================================================================================================================================================================================================================================================================================================================================================================================================================================================================================================================================================================================================================================================================================================================================================================================================================================================================================================================================================================================================================================================================================================================================================================================================================================================================================================================================================================================================================================================================================================================================================================================================================================================================================================================================================================================================================================================================================================================================================================================================================================================================================================================================================================================================================================================================================================================================================================================================================================================================================================================================================================================================================================================================================================================================================================================================================================================================================================================================================================================================================================================================================================================================================================================================================================================================================================================================================================================================================================================================================================================================================================================================================================================================================================================================================================================================================================================================================================================================================================================================================================================================================================================================================================================================================================================================================================================================================================================================================================================================================================================================================================================================================================================================================================================================================================================================================================================================================================================================================================================================================================================================================================================================================================================================================================================================================================================================================================================================================================================================================================================================================================================================================================================================================================================================================================================================================================================================================================================================================================================================================================================================================================================================================================================================================================================================================================================================================================================================================================================================================================================================================================================================================================================================================================================================================================================================================================================================================================================================================================================================================================================================================================================================================================================================================================================================================================================================================================================================================================================================================================================================================================================================================================================================================================================================================================================================================================================================================================================================================================================================================================================================================================================================================================================================================================================================================================================================================================================================================================================================================================================================================================================================================================================================================================================================================================================================================================================================================================================================================================================================================================================================================================================================================================================================================================================================================================================================================================================================================================================================================================================================================================================================================================================================================================================================================================================================================================================================================================================================================================================================================================================================================================================================================================================================================================================================================================================================================================================================================================================================================================================================================================================================================================================================================================================================================================================================================================================================================================================================================================================================================================================================================================================================================================================================================================================================================================================================================================================================================================================================================================================================================================================================================================================================================================================================================================================================================================================================================================================================================================================================================================================================================================================================================================================================================================================================================================================================================================================================================================================================================================================================================================================================================================================================================================================================================================================================================================================================================================================================================================================================================================================================================================================================================================================================================================================================================================================================================================================================================================================================================================================================================================================================================================================================================================================================================================================================================================================================================================================================================================================================================================================================================================================================================================================================================================================================================================================================================================================================================================================================================================================================================================================================================================================================================================================================================================================================================================================================================================================================================================================================================================================================================================================================================================================================================================================================================================================================================================================================================================================================================================================================================================================================================================================================================================================================================================================================================================================================================================================================================================================================================================================================================================================================================================================================================================================================================================================================================================================================================================================================================================================================================================================================================================================================================================================================================================================================================================================================================================================================================================================================================================================================================================================================================================================================================================================================================================================================================================================================================================================================================================================================================================================================================================================================================================================================================================================================================================================================================================================================================================================================================================================================================================================================================================================================================================================================================================================================================================================================================================================================================================================================================================================================================================================================================================================================================================================================================================================================================================================================================================================================================================================================================================================================================================================================================================================================================================================================================================================================================================================================================================================================================================================================================================================================================================================================================================================================================================================================================================================================================================================================================================================================================================================================================================================================================================================================================================================================================================================================================================================================================================================================================================================================================================================================================================================================================================================================================================================================================================================================================================================================================================================================================================================================================================================================================================================================================================================================================================================================================================================================================================================================================================================================================================================================================================================================================================================================================================================================================================================================================================================================================================================================================================================================================================================================================================================================================================================================================================================================================================================================================================================================================================================================================================================================================================================================================================================================================================================================================================================================================================================================================================================================================================================================================================================================================================================================================================================================================================================================================================================================================================================================================================================================================================================================================================================================================================================================================================================================================================================================================================================================================================================================================================================================================================================================================================================================================================================================================================================================================================================================================================================================================================================================================================================================================================================================================================================================================================================================================================================================================================================================================================================================================================================================================================================================================================================================================================================================================================================================================================================================================================================================================================================================================================================================================================================================================================================================================================================================================================================================================================================================================================================================================================================================================================================================================================================================================================================================================================================================================================================================================================================================================================================================================================================================================================================================================================================================================================================================================================================================================================================================================================================================================================================================================================================================================================================================================================================================================================================================================================================================================================================================================================================================================================================================================================================================================================================================================================================================================================================================================================================================================================================================================================================================================================================================================================================================================================================================================================================================================================================================================================================================================================================================================================================================================================================================================================================================================================================================================================================================================================================================================================================================================================================================================================================================================================================================================================================================================================================================================================================================================================================================================================================================================================================================================================================================================================================================================================================================================================================================================================================================================================================================================================================================================================================================================================================================================================================================================================================================================================================================================================================================================================================================================================================================================================================================================================================================================================================================================================================================================================================================================================================================================================================================================================================================================================================================================================================================================================================================================================================================================================================================================================================================================================================================================================================================================================================================================================================================================================================================================================================================================================================================================================================================================================================================================================================================================================================================================================================================================================================================================================================================================================================================================================================================================================================================================================================================================================================================================================================================================================================================================================================================================================================================================================================================================================================================================================================================================================================================================================================================================================================================================================================================================================================================================================================================================================================================================================================================================================================================================================================================================================================================================================================================================================================================================================================================================================================================================================================================================================================================================================================================================================================================================================================================================================================================================================================================================================================================================================================================================================================================================================================================================================================================================================================================================================================================================================================================================================================================================================================================================================================================================================================================================================================================================================================================================================================================================================================================================================================================================================================================================================================================================================================================================================================================================================================================================================================================================================================================================================================================================================================================================================================================================================================================================================================================================================================================================================================================================================================================================================================================================================================================================================================================================================================================================================================================================================================================================================================================================================================================================================================================================================================================================================================================================================================================================================================================================================================================================================================================================================================================================================================================================================================================================================================================================================================================================================================================================================================================================================================================================================================================================================================================================================================================================================================================================================================================================================================================================================================================================================================================================================================================================================================================================================================================================================================================================================================================================================================================================================================================================================================================================================================================================================================================================================================================================================================================================================================================================================================================================================================================================================================================================================================================================================================================================================================================================================================================================================================================================================================================================================================================================================================================================================================================================================================================================================================================================================================================================================================================================================================================================================================================================================================================================================================================================================================================================================================================================================================================================================================================================================================================================================================================================================================================================================================================================================================================================================================================================================================================================================================================================================================================================================================================================================================================================================================================================================================================================================================================================================================================================================================================================================================================================================================================================================================================================================================================================================================================================================================================================================================================================================================================================================================================================================================================================================================================================================================================================================================================================================================================================================================================================================================================================================================================================================================================================================================================================================================================================================================================================================================================================================================================================================================================================================================================================================================================================================================================================================================================================================================================================================================================================================================================================================================================================================================================================================================================================================================================================================================================================================================================================================================================================================================================================================================================================================================================================================================================================================================================================================================================================================================================================================================================================================================================================================================================================================================================================================================================================================================================================================================================================================================================================================================================================================================================================================================================================================================================================================================================================================================================================================================================================================================================================================================================================================================================================================================================================================================================================================================================================================================================================================================================================================================================================================================================================================================================================================================================================================================================================================================================================================================================================================================================================================================================================================================================================================================================================================================================================================================================================================================================================================================================================================================================================================================================================================================================================================================================================================================================================================================================================================================================================================================================================================================================================================================================================================================================================================================================================================================================================================================================================================================================================================================================================================================================================================================================================================================================================================================================================================================================================================================================================================================================================================================================================================================================================================================================================================================================================================================================================================================================================================================================================================================================================================================================================================================================================================================================================================================================================================================================================================================================================================================================================================================================================================================================================================================================================================================================================================================================================================================================================================================================================================================================================================================================================================================================================================================================================================================================================================================================================================================================================================================================================================================================================================================================================================================================================================================================================================================================================================================================================================================================================================================================================================================================================================================================================================================================================================================================================================================================================================================================================================================================================================================================================================================================================================================================================================================================================================================================================================================================================================================================================================================================================================================================================================================================================================================================================================================================================================================================================================================================================================================================================================================================================================================================================================================================================================================================================================================================================================================================================================================================================================================================================================================================================================================================================================================================================================================================================================================================================================================================================================================================================================================================================================================================================================================================================================================================================================================================================================================================================================================================================================================================================================================================================================================================================================================================================================================================================================================================================================================================================================================================================================================================================================================================================================================================================================================================================================================================================================================================================================================================================================================================================================================================================================================================================================================================================================================================================================================================================================================================================================================================================================================================================================================================================================================================================================================================================================================================================================================================================================================================================================================================================================================================================================================================================================================================================================================================================================================================================================================================================================================================================================================================================================================================================================================================================================================================================================================================================================================================================================================================================================================================================================================================================================================================================================================================================================================================================================================================================================================================================================================================================================================================================================================================================================================================================================================================================================================================================================================================================================================================================================================================================================================================================================================================================================================================================================================================================================================================================================================================================================================================================================================================================================================================================================================================================================================================================================================================================================================================================================================================================================================================================================================================================================================================================================================================================================================================================================================================================================================================================================================================================================================================================================================================================================================================================================================================================================================================================================================================================================================================================================================================================================================================================================================================================================================================================================================================================================================================================================================================================================================================================================================================================================================================================================================================================================================================================================================================================================================================================================================================================================================================================================================================================================================================================================================================================================================================================================================================================================================================================================================================================================================================================================================================================================================================================================================================================================================================================================================================================================================================================================================================================================================================================================================================================================================================================================================================================================================================================================================================================================================================================================================================================================================================================================================================================================================================================================================================================================================================================================================================================================================================================================================================================================================================================================================================================================================================================================================================================================================================================================================================================================================================================================================================================================================================================================================================================================================================================================================================================================================================================================================================================================================================================================================================================================================================================================================================================================================================================================================================================================================================================================================================================================================================================================================================================================================================================================================================================================================================================================================================================================================================================================================================================================================================================================================================================================================================================================================================================================================================================================================================================================================================================================================================================================================================================================================================================================================================================================================================================================================================================================================================================================================================================================================================================================================================================================================================================================================================================================================================================================================================================================================================================================================================================================================================================================================================================================================================================================================================================================================================================================================================================================================================================================================================================================================================================================================================================================================================================================================================================================================================================================================================================================================================================================================================================================================================================================================================================================================================================================================================================================================================================================================================================================================================================================================================================================================================================================================================================================================================================================================================================================================================================================================================================================================================================================================================================================================================================================================================================================================================================================================================================================================================================================================================================================================================================================================================================================================================================================================================================================================================================================================================================================================================================================================================================================================================================================================================================================================================================================================================================================================================================================================================================================================================================================================================================================================================================================================================================================================================================================================================================================================================================================================================================================================================================================================================================================================================================================================================================================================================================================================================================================================================================================================================================================================================================================================================================================================================================================================================================================================================================================================================================================================================================================================================================================================================================================================================================================================================================================================================================================================================================================================================================================================================================================================================================================================================================================================================================================================================================================================================================================================================================================================================================================================================================================================================================================================================================================================================================================================================================================================================================================================================================================================================================================================================================================================================================================================================================================================================================================================================================================================================================================================================================================================================================================================================================================================================================================================================================================================================================================================================================================================================================================================================================================================================================================================================================================================================================================================================================================================================================================================================================================================================================================================================================================================================================================================================================================================================================================================================================================================================================================================================================================================================================================================================================================================================================================================================================================================================================================================================================================================================================================================================================================================================================================================================================================================================================================================================================================================================================================================================================================================================================================================================================================================================================================================================================================================================================================================================================================================================================================================================================================================================================================================================================================================================================================================================================================================================================================================================================================================================================================================================================================================================================================================================================================================================================================================================================================================================================================================================================================================================================================================================================================================================================================================================================================================================================================================================================================================================================================================================================================================================================================================================================================================================================================================================================================================================================================================================================================================================================================================================================================================================================================================================================================================================================================================================================================================================================================================================================================================================================================================================================================================================================================================================================================================================================================================================================================================================================================================================================================================================================================================================================================================================================================================================================================================================================================================================================================================================================================================================================================================================================================================================================================================================================================================================================================================================================================================================================================================================================================================================================================================================================================================================================================================================================================================================================================================================================================================================================================================================================================================================================================================================================================================================================================================================================================================================================================================================================================================================================================================================================================================================================================================================================================================================================================================================================================================================================================================================================================================================================================================================================================================================================================================================================================================================================================================================================================================================================================================================================================================================================================================================================================================================================================================================================================================================================================================================================================================================================================================================================================================================================================================================================================================================================================================================================================================================================================================================================================================================================================================================================================================================================================================================================================================================================================================================================================================================================================================================================================================================================================================================================================================================================================================================================================================================================================================================================================================================================================================================================================================================================================================================================================================================================================================================================================================================================================================================================================================================================================================================================================================================================================================================================================================================================================================================================================================================================================================================================================================================================================================================================================================================================================================================================================================================================================================================================================================================================================================================================================================================================================================================================================================================================================================================================================================================================================================================================================================================================================================================================================================================================================================================================================================================================================================================================================================================================================================================================================================================================================================================================================================================================================================================================================================================================================================================================================================================================================================================================================================================================================================================================================================================================================================================================================================================================================================================================================================================================================================================================================================================================================================================================================================================================================================================================================================================================================================================================================================================================================================================================================================================================================================================================================================================================================================================================================================================================================================================================================================================================================================================================================================================================================================================================================================================================================================================================================================================================================================================================================================================================================================================================================================================================================================================================================================================================================================================================================================================================================================================================================================================================================================================================================================================================================================================================================================================================================================================================================================================================================================================================================================================================================================================================================================================================================================================================================================================================================================================================================================================================================================================================================================================================================================================================================================================================================================================================================================================================================================================================================================================================================================================================================================================================================================================================================================================================================================================================================================================================================================================================================================================================================================================================================================================================================================================================================================================================================================================================================================================================================================================================================================================================================================================================================================================================================================================================================================================================================================================================================================================================================================================================================================================================================================================================================================================================================================================================================================================================================================================================================================================================================================================================================================================================================================================================================================================================================================================================================================================================================================================================================================================================================================================================================================================================================================================================================================================================================================================================================================================================================================================================================================================================================================================================================================================================================================================================================================================================================================================================================================================================================================================================================================================================================================================================================================================================================================================================================================================================================================================================================================================================================================================================================================================================================================================================================================================================================================================================================================================================================================================================================================================================================================================================================================================================================================================================================================================================================================================================================================================================================================================================================================================================================================================================================================================================================================================================================================================================================================================================================================================================================================================================================================================================================================================================================================================================================================================================================================================================================================================================================================================================================================================================================================================================================================================================================================================================================================================================================================================================================================================================================================================================================================================================================================================================================================================================================================================================================================================================================================================================================================================================================================================================================================================================================================================================================================================================================================================================================================================================================================================================================================================================================================================================================================================================================================================================================================================================================================================================================================================================================================================================================================================================================================================================================================================================================================================================================================================================================================================================================================================================================================================================================================================================================================================================================================================================================================================================================================================================================================================================================================================================================================================================================================================================================================================================================================================================================================================================================================================================================================================================================================================================================================================================================================================================================================================================================================================================================================================================================================================================================================================================================================================================================================================================================================================================================================================================================================================================================================================================================================================================================================================================================================================================================================================================================================================================================================================================================================================================================================================================================================================================================================================================================================================================================================================================================================================================================================================================================================================================================================================================================================================================================================================================================================================================================================================================================================================================================================================================================================================================================================================================================================================================================================================================================================================================================================================================================================================================================================================================================================================================================================================================================================================================================================================================================================================================================================================================================================================================================================================================================================================================================================================================================================================================================================================================================================================================================================================================================================================================================================================================================================================================================================================================================================================================================================================================================================================================================================================================================================================================================================================================================================================================================================================================================================================================================================================================================================================================================================================================================================================================================================================================================================================================================================================================================================================================================================================================================================================================================================================================================================================================================================================================================================================================================================================================================================================================================================================================================================================================================================================================================================================================================================================================================================================================================================================================================================================================================================================================================================================================================================================================================================================================================================================================================================================================================================================================================================================================================================================================================================================================================================================================================================================================================================================================================================================================================================================================================================================================================================================================================================================================================================================================================================================================================================================================================================================================================================================================================================================================================================================================================================================================================================================================================================================================================================================================================================================================================================================================================================================================================================================================================================================================================================================================================================================================================================================================================================================================================================================================================================================================================================================================================================================================================================================================================================================================================================================================================================================================================================================================================================================================================================================================================================================================================================================================================================================================================================================================================================================================================================================================================================================================================================================================================================================================================================================================================================================================================================================================================================================================================================================================================================================================================================================================================================================================================================================================================================================================================================================================================================================================================================================================================================================================================================================================================================================================================================================================================================================================================================================================================================================================================================================================================================================================================================================================================================================================================================================================================================================================================================================================================================================================================================================================================================================================================================================================================================================================================================================================================================================================================================================================================================================================================================================================================================================================================================================================================================================================================================================================================================================================================================================================================================================================================================================================================================================================================================================================================================================================================================================================================================================================================================================================================================================================================================================================================================================================================================================================================================================================================================================================================================================================================================================================================================================================================================================================================================================================================================================================================================================================================================================================================================================================================================================================================================================================================================================================================================================================================================================================================================================================================================================================================================================================================================================================================================================================================================================================================================================================================================================================================================================================================================================================================================================================================================================================================================================================================================================================================================================================================================================================================================================================================================================================================================================================================================================================================================================================================================================================================================================================================================================================================================================================================================================================================================================================================================================================================================================================================================================================================================================================================================================================================================================================================================================================================================================================================================================================================================================================================================================================================================================================================================================================================================================================================================================================================================================================================================================================================================================================================================================================================================================================================================================================================================================================================================================================================================================================================================================================================================================================================================================================================================================================================================================================================================================================================================================================================================================================================================================================================================================================================================================================================================================================================================================================================================================================================================================================================================================================================================================================================================================================================================================================================================================================================================================================================================================================================================================================================================================================================================================================================================================================================================================================================================================================================================================================================================================================================================================================================================================================================================================================================================================================================================================================================================================================================================================================================================================================================================================================================================================================================================================================================================================================================================================================================================================================================================================================================================================================================================================================================================================================================================================================================================================================================================================================================================================================================================================================================================================================================================================================================================================================================================================================================================================================================================================================================================================================================================================================================================================================================================================================================================================================================================================================================================================================================================================================================================================================================================================================================================================================================================================================================================================================================================================================================================================================================================================================================================================================================================================================================================================================================================================================================================================================================================================================================================================================================================================================================================================================================================================================================================================================================================================================================================================================================================================================================================================================================================================================================================================================================================================================================================================================================================================================================================================================================================================================================================================================================================================================================================================================================================================================================================================================================================================================================================================================================================================================================================================================================================================================================================================================================================================================================================================================================================================================================================================================================================================================================================================================================================================================================================================================================================================================================================================================================================================================================================================================================================================================================================================================================================================================================================================================================================================================================================================================================================================================================================================================================================================================================================================================================================================================================================================================================================================================================================================================================================================================================================================================================================================================================================================================================================================================================================================================================================================================================================================================================================================================================================================================================================================================================================================================================================================================================================================================================================================================================================================================================================================================================================================================================================================================================================================================================================================================================================================================================================================================================================================================================================================================================================================================================================================================================================================================================================================================================================================================================================================================================================================================================================================================================================================================================================================================================================================================================================================================================================================================================================================================================================================================================================================================================================================================================================================================================================================================================================================================================================================================================================================================================================================================================================================================================================================================================================================================================================================================================================================================================================================================================================================================================================================================================================================================================================================================================================================================================================================================================================================================================================================================================================================================================================================================================================================================================================================================================================================================================================================================================================================================================================================================================================================================================================================================================================================================================================================================================================================================================================================================================================================================================================================================================================================================================================================================================================================================================================================================================================================================================================================================================================================================================================================================================================================================================================================================================================================================================================================================================================================================================================================================================================================================================================================================================================================================================================================================================================================================================================================================================================================================================================================================================================================================================================================================================================================================================================================================================================================================================================================================================================================================================================================================================================================================================================================================================================================================================================================================================================================================================================================================================================================================================================================================================================================================================================================================================================================================================================================================================================================================================================================================================================================================================================================================================================================================================================================================================================================================================================================================================================================================================================================================================================================================================================================================================================================================================================================================================================================================================================================================================================================================================================================================================================================================================================================================================================================================================================================================================================================================================================================================================================================================================================================================================================================================================================================================================================================================================================================================================================================================================================================================================================================================================================================================================================================================================================================================================================================================================================================================================================================================================================================================================================================================================================================================================================================================================================================================================================================================================================================================================================================================================================================================================================================================================================================================================================================================================================================================================================================================================================================================================================================================================================================================================================================================================================================================================================================================================================================================================================================================================================================================================================================================================================================================================================================================================================================================================================================================================================================================================================================================================================================================================================================================================================================================================================================================================================================================================================================================================================================================================================================================================================================================================================================================================================================================================================================================================================================================================================================================================================================================================================================================================================================================================================================================================================================================================================================================================================================================================================================================================================================================================================================================================================================================================================================================================================================================================================================================================================================================================================================================================================================================================================================================================================================================================================================================================================================================================================================================================================================================================================================================================================================================================================================================================================================================================================================================================================================================================================================================================================================================================================================================================================================================================================================================================================================================================================================================================================================================================================================================================================================================================================================================================================================================================================================================================================================================================================================================================================================================================================================================================================================================================================================================================================================================================================================================================================================================================================================================================================================================================================================================================================================================================================================================================================================================================================================================================================================================================================================================================================================================================================================================================================================================================================================================================================================================================================================================================================================================================================================================================================================================================================================================================================================================================================================================================================================================================================================================================================================================================================================================================================================================================================================================================================================================================================================================================================================================================================================================================================================================================================================================================================================================================================================================================================================================================================================================================================================================================================================================================================================================================================================================================================================================================================================================================================================================================================================================================================================================================================================================================================================================================================================================================================================================================================================================================================================================================================================================================================================================================================================================================================================================================================================================================================================================================================================================================================================================================================================================================================================================================================================================================================================================================================================================================================================================================================================================================================================================================================================================================================================================================================================================================================================================================================================================================================================================================================================================================================================================================================================================================================================================================================================================================================================================================================================================================================================================================================================================================================================================================================================================================================================================================================================================================================================================================================================================================================================================================================================================================================================================================================================================================================================================================================================================================================================================================================================================================================================================================================================================================================================================================================================================================================================================================================================================================================================================================================================================================================================================================================================================================================================================================================================================================================================================================================================================================================================================================================================================================================================================================================================================================================================================================================================================================================================================================================================================================================================================================================================================================================================================================================================================================================================================================================================================================================================================================================================================================================================================================================================================================================================================================================================================================================================================================================================================================================================================================================================================================================================================================================================================================================================================================================================================================================================================================================================================================================================================================================================================================================================================================================================================================================================================================================================================================================================================================================================================================================================================================================================================================================================================================================================================================================================================================================================================================================================================================================================================================================================================================================================================================================================================================================================================================================================================================================================================================================================================================================================================================================================================================================================================================================================================================================================================================================================================================================================================================================================================================================================================================================================================================================================================================================================================================================================================================================================================================================================================================================================================================================================================================================================================================================================================================================================================================================================================================================================================================================================================================================================================================================================================================================================================================================================================================================================================================================================================================================================================================================================================================================================================================================================================================================================================================================================================================================================================================================================================================================================================================================================================================================================================================================================================================================================================================================================================================================================================================================================================================================================================================================================================================================================================================================================================================================================================================================================================================================================================================================================================================================================================================================================================================================================================================================================================================================================================================================================================================================================================================================================================================================================================================================================================================================================================================================================================================================================================================================================================================================================================================================================================================================================================================================================================================================================================================================================================================================================================================================================================================================================================================================================================================================================================================================================================================================================================================================================================================================================================================================================================================================================================================================================================================================================================================================================================================================================================================================================================================================================================================================================================================================================================================================================================================================================================================================================================================================================================================================================================================================================================================================================================================================================================================================================================================================================================================================================================================================================================================================================================================================================================================================================================================================================================================================================================================================================================================================================================================================================================================================================================================================================================================================================================================================================================================================================================================================================================================================================================================================================================================================================================================================================================================================================================================================================================================================================================================================================================================================================================================================================================================================================================================================================================================================================================================================================================================================================================================================================================================================================================================================================================================================================================================]"
     ]
    },
    {
     "name": "stdout",
     "output_type": "stream",
     "text": [
      " - 1s 39us/sample - loss: 4.4590e-04 - mean_squared_error: 4.8089e-04\n"
     ]
    },
    {
     "data": {
      "text/plain": [
       "[0.0004808932520202635, 0.00048089324]"
      ]
     },
     "execution_count": 17,
     "metadata": {},
     "output_type": "execute_result"
    }
   ],
   "source": [
    "hypermodel.evaluate(X_scale, Y_scale)"
   ]
  },
  {
   "cell_type": "code",
   "execution_count": 18,
   "metadata": {},
   "outputs": [
    {
     "data": {
      "text/plain": [
       "{'loss': [0.07526718192111868,\n",
       "  0.00592848964499561,\n",
       "  0.0015262631889574462,\n",
       "  0.0008232698191374631,\n",
       "  0.0005971452058292925,\n",
       "  0.0004911460659457016,\n",
       "  0.00043688342924258803,\n",
       "  0.0004104821820732103,\n",
       "  0.0003962878552813302,\n",
       "  0.0003909358157249406,\n",
       "  0.00039504182008159535,\n",
       "  0.00037532464838763987,\n",
       "  0.00035616545416301945,\n",
       "  0.00035131976850311493,\n",
       "  0.00037531388332184314,\n",
       "  0.000350593896892895,\n",
       "  0.0003860221102722569,\n",
       "  0.000351870408842411,\n",
       "  0.00036635466334474464,\n",
       "  0.00036722198987112196,\n",
       "  0.0003503885683176594,\n",
       "  0.0003561502258465738,\n",
       "  0.00036099898833523675,\n",
       "  0.0003788125403322099,\n",
       "  0.00037029439887147926,\n",
       "  0.0003589494671905413,\n",
       "  0.000351337647185561,\n",
       "  0.00038362753070378516,\n",
       "  0.00035156656404680036,\n",
       "  0.0003512268868004291,\n",
       "  0.0003391641698887243],\n",
       " 'mean_squared_error': [0.075267166,\n",
       "  0.0059284926,\n",
       "  0.0015262639,\n",
       "  0.00082326983,\n",
       "  0.0005971451,\n",
       "  0.00049114606,\n",
       "  0.00043688342,\n",
       "  0.00041048217,\n",
       "  0.0003962877,\n",
       "  0.00039093586,\n",
       "  0.00039504186,\n",
       "  0.0003753247,\n",
       "  0.0003561654,\n",
       "  0.00035131982,\n",
       "  0.00037531392,\n",
       "  0.00035059388,\n",
       "  0.00038602206,\n",
       "  0.00035187037,\n",
       "  0.00036635468,\n",
       "  0.000367222,\n",
       "  0.00035038852,\n",
       "  0.00035615003,\n",
       "  0.0003609989,\n",
       "  0.0003788127,\n",
       "  0.00037029438,\n",
       "  0.00035894942,\n",
       "  0.0003513376,\n",
       "  0.00038362757,\n",
       "  0.00035156647,\n",
       "  0.00035122692,\n",
       "  0.00033916434],\n",
       " 'val_loss': [0.014602156756993603,\n",
       "  0.002417165122780145,\n",
       "  0.0010598948439035345,\n",
       "  0.0006706330954444175,\n",
       "  0.0005556336153006437,\n",
       "  0.0004567774286146696,\n",
       "  0.00044484252105558326,\n",
       "  0.0003985480694374179,\n",
       "  0.0004528388584160483,\n",
       "  0.0003539173518919258,\n",
       "  0.0003414348113423615,\n",
       "  0.0004062720049884828,\n",
       "  0.00033991838161669233,\n",
       "  0.00039606376742834553,\n",
       "  0.0004884713404702351,\n",
       "  0.00037755523100677953,\n",
       "  0.00032611778556077063,\n",
       "  0.00045742869468442366,\n",
       "  0.00034024369186155644,\n",
       "  0.0003704486547868845,\n",
       "  0.0003180846471942085,\n",
       "  0.00033991913623906966,\n",
       "  0.000337469789733672,\n",
       "  0.0003284915063448031,\n",
       "  0.00036092637901139607,\n",
       "  0.00033266822140956044,\n",
       "  0.0003776407118558007,\n",
       "  0.0003261798929295265,\n",
       "  0.00033129035967730864,\n",
       "  0.00037714567307072384,\n",
       "  0.00047317120858340287],\n",
       " 'val_mean_squared_error': [0.014602155,\n",
       "  0.0024171649,\n",
       "  0.001059895,\n",
       "  0.0006706331,\n",
       "  0.0005556336,\n",
       "  0.00045677746,\n",
       "  0.00044484256,\n",
       "  0.00039854806,\n",
       "  0.00045283887,\n",
       "  0.00035391736,\n",
       "  0.00034143482,\n",
       "  0.00040627198,\n",
       "  0.0003399184,\n",
       "  0.00039606376,\n",
       "  0.0004884713,\n",
       "  0.0003775552,\n",
       "  0.00032611776,\n",
       "  0.00045742866,\n",
       "  0.00034024369,\n",
       "  0.00037044866,\n",
       "  0.00031808458,\n",
       "  0.00033991918,\n",
       "  0.0003374698,\n",
       "  0.00032849156,\n",
       "  0.0003609263,\n",
       "  0.0003326682,\n",
       "  0.0003776407,\n",
       "  0.00032617993,\n",
       "  0.0003312904,\n",
       "  0.00037714562,\n",
       "  0.0004731712]}"
      ]
     },
     "execution_count": 18,
     "metadata": {},
     "output_type": "execute_result"
    }
   ],
   "source": [
    "hypermodel_hist.history"
   ]
  },
  {
   "cell_type": "code",
   "execution_count": 19,
   "metadata": {},
   "outputs": [],
   "source": [
    "def build_model(N_channels, file_path):\n",
    "    X, Y = processing_data(N_channels, file_path)\n",
    "    X_train, X_val_and_test, Y_train, Y_val_and_test = train_test_split(X, Y, test_size=0.3)\n",
    "    X_val, X_test, Y_val, Y_test = train_test_split(X_val_and_test, Y_val_and_test, test_size=0.5)\n",
    "    model = Sequential()\n",
    "#     kernel_regularizer=regularizers.l2(0.00001)  - ADD THIS AT SOME POINT\n",
    "    model.add(Dense(80, activation='relu', kernel_regularizer=regularizers.l1(0.000001), input_dim=N_channels+1))\n",
    "    model.add(Dense(80, activation='relu', kernel_regularizer=regularizers.l1(0.000001)))\n",
    "    model.add(Dense(N_channels, activation='sigmoid', kernel_regularizer=regularizers.l1(0.000001)))\n",
    "    # learning_rate=0.1 causes zig-zags, learning_rate=0.0001 is far too slow\n",
    "#     opt = keras.optimizers.Adam(learning_rate=0.001) - doesn't allow model to be saved as h5 model for some reason\n",
    "    opt = 'adam'\n",
    "    model.compile(optimizer=opt, loss='mean_squared_error', metrics=['mean_squared_error'])\n",
    "    # fit as we are fitting the parameters to the data\n",
    "    # verbose shows how much info is shown during model fitting\n",
    "    # shuffle by default set to true so this is for visual purposes\n",
    "    start_time = time.time()\n",
    "    hist = model.fit(X_train, Y_train, validation_data=(X_val, Y_val), epochs=40, shuffle=True, verbose=1, batch_size=N_channels+1)\n",
    "    training_time = time.time() - start_time\n",
    "    print(\"Training Time: %s\" % (training_time))\n",
    "    return hist, model, X_train, Y_train, X_val, Y_val, X_test, Y_test"
   ]
  },
  {
   "cell_type": "code",
   "execution_count": 20,
   "metadata": {},
   "outputs": [
    {
     "name": "stdout",
     "output_type": "stream",
     "text": [
      "Train on 14000 samples, validate on 3000 samples\n",
      "Epoch 1/40\n",
      "14000/14000 [==============================] - ETA: 3:33 - loss: 0.2032 - mean_squared_error: 0.20 - ETA: 13s - loss: 0.1897 - mean_squared_error: 0.1883 - ETA: 7s - loss: 0.1836 - mean_squared_error: 0.182 - ETA: 4s - loss: 0.1740 - mean_squared_error: 0.17 - ETA: 3s - loss: 0.1636 - mean_squared_error: 0.16 - ETA: 2s - loss: 0.1545 - mean_squared_error: 0.15 - ETA: 2s - loss: 0.1467 - mean_squared_error: 0.14 - ETA: 1s - loss: 0.1397 - mean_squared_error: 0.13 - ETA: 1s - loss: 0.1332 - mean_squared_error: 0.13 - ETA: 1s - loss: 0.1275 - mean_squared_error: 0.12 - ETA: 1s - loss: 0.1223 - mean_squared_error: 0.12 - ETA: 1s - loss: 0.1175 - mean_squared_error: 0.11 - ETA: 0s - loss: 0.1126 - mean_squared_error: 0.11 - ETA: 0s - loss: 0.1082 - mean_squared_error: 0.10 - ETA: 0s - loss: 0.1038 - mean_squared_error: 0.10 - ETA: 0s - loss: 0.0999 - mean_squared_error: 0.09 - ETA: 0s - loss: 0.0962 - mean_squared_error: 0.09 - ETA: 0s - loss: 0.0926 - mean_squared_error: 0.09 - ETA: 0s - loss: 0.0895 - mean_squared_error: 0.08 - ETA: 0s - loss: 0.0867 - mean_squared_error: 0.08 - ETA: 0s - loss: 0.0843 - mean_squared_error: 0.08 - ETA: 0s - loss: 0.0820 - mean_squared_error: 0.08 - 2s 143us/step - loss: 0.0812 - mean_squared_error: 0.0797 - val_loss: 0.0229 - val_mean_squared_error: 0.0212\n",
      "Epoch 2/40\n",
      "14000/14000 [==============================] - ETA: 2s - loss: 0.0201 - mean_squared_error: 0.01 - ETA: 1s - loss: 0.0207 - mean_squared_error: 0.01 - ETA: 1s - loss: 0.0202 - mean_squared_error: 0.01 - ETA: 0s - loss: 0.0191 - mean_squared_error: 0.01 - ETA: 0s - loss: 0.0184 - mean_squared_error: 0.01 - ETA: 0s - loss: 0.0176 - mean_squared_error: 0.01 - ETA: 0s - loss: 0.0169 - mean_squared_error: 0.01 - ETA: 0s - loss: 0.0162 - mean_squared_error: 0.01 - ETA: 0s - loss: 0.0156 - mean_squared_error: 0.01 - ETA: 0s - loss: 0.0151 - mean_squared_error: 0.01 - ETA: 0s - loss: 0.0145 - mean_squared_error: 0.01 - ETA: 0s - loss: 0.0141 - mean_squared_error: 0.01 - ETA: 0s - loss: 0.0136 - mean_squared_error: 0.01 - ETA: 0s - loss: 0.0132 - mean_squared_error: 0.01 - ETA: 0s - loss: 0.0128 - mean_squared_error: 0.01 - ETA: 0s - loss: 0.0124 - mean_squared_error: 0.01 - ETA: 0s - loss: 0.0120 - mean_squared_error: 0.01 - ETA: 0s - loss: 0.0116 - mean_squared_error: 0.00 - ETA: 0s - loss: 0.0114 - mean_squared_error: 0.00 - ETA: 0s - loss: 0.0110 - mean_squared_error: 0.00 - ETA: 0s - loss: 0.0108 - mean_squared_error: 0.00 - ETA: 0s - loss: 0.0105 - mean_squared_error: 0.00 - 1s 85us/step - loss: 0.0104 - mean_squared_error: 0.0086 - val_loss: 0.0050 - val_mean_squared_error: 0.0030\n",
      "Epoch 3/40\n",
      "14000/14000 [==============================] - ETA: 1s - loss: 0.0051 - mean_squared_error: 0.00 - ETA: 1s - loss: 0.0047 - mean_squared_error: 0.00 - ETA: 1s - loss: 0.0046 - mean_squared_error: 0.00 - ETA: 0s - loss: 0.0045 - mean_squared_error: 0.00 - ETA: 0s - loss: 0.0044 - mean_squared_error: 0.00 - ETA: 0s - loss: 0.0043 - mean_squared_error: 0.00 - ETA: 0s - loss: 0.0043 - mean_squared_error: 0.00 - ETA: 0s - loss: 0.0042 - mean_squared_error: 0.00 - ETA: 0s - loss: 0.0041 - mean_squared_error: 0.00 - ETA: 0s - loss: 0.0041 - mean_squared_error: 0.00 - ETA: 0s - loss: 0.0040 - mean_squared_error: 0.00 - ETA: 0s - loss: 0.0040 - mean_squared_error: 0.00 - ETA: 0s - loss: 0.0039 - mean_squared_error: 0.00 - ETA: 0s - loss: 0.0039 - mean_squared_error: 0.00 - ETA: 0s - loss: 0.0038 - mean_squared_error: 0.00 - ETA: 0s - loss: 0.0038 - mean_squared_error: 0.00 - ETA: 0s - loss: 0.0037 - mean_squared_error: 0.00 - ETA: 0s - loss: 0.0037 - mean_squared_error: 0.00 - ETA: 0s - loss: 0.0037 - mean_squared_error: 0.00 - ETA: 0s - loss: 0.0036 - mean_squared_error: 0.00 - ETA: 0s - loss: 0.0036 - mean_squared_error: 0.00 - ETA: 0s - loss: 0.0036 - mean_squared_error: 0.00 - ETA: 0s - loss: 0.0035 - mean_squared_error: 0.00 - 1s 90us/step - loss: 0.0035 - mean_squared_error: 0.0016 - val_loss: 0.0030 - val_mean_squared_error: 0.0010\n",
      "Epoch 4/40\n",
      "14000/14000 [==============================] - ETA: 1s - loss: 0.0034 - mean_squared_error: 0.00 - ETA: 1s - loss: 0.0029 - mean_squared_error: 8.9190e- - ETA: 1s - loss: 0.0029 - mean_squared_error: 8.9369e- - ETA: 1s - loss: 0.0029 - mean_squared_error: 8.8309e- - ETA: 0s - loss: 0.0028 - mean_squared_error: 8.5627e- - ETA: 0s - loss: 0.0028 - mean_squared_error: 8.4632e- - ETA: 0s - loss: 0.0028 - mean_squared_error: 8.3351e- - ETA: 0s - loss: 0.0028 - mean_squared_error: 8.3371e- - ETA: 0s - loss: 0.0028 - mean_squared_error: 8.3271e- - ETA: 0s - loss: 0.0028 - mean_squared_error: 8.3493e- - ETA: 0s - loss: 0.0028 - mean_squared_error: 8.2578e- - ETA: 0s - loss: 0.0028 - mean_squared_error: 8.2286e- - ETA: 0s - loss: 0.0028 - mean_squared_error: 8.2043e- - ETA: 0s - loss: 0.0028 - mean_squared_error: 8.1138e- - ETA: 0s - loss: 0.0028 - mean_squared_error: 8.1378e- - ETA: 0s - loss: 0.0028 - mean_squared_error: 8.1015e- - ETA: 0s - loss: 0.0028 - mean_squared_error: 8.0353e- - ETA: 0s - loss: 0.0028 - mean_squared_error: 8.0409e- - ETA: 0s - loss: 0.0028 - mean_squared_error: 8.0583e- - ETA: 0s - loss: 0.0028 - mean_squared_error: 8.1238e- - ETA: 0s - loss: 0.0028 - mean_squared_error: 8.1709e- - ETA: 0s - loss: 0.0028 - mean_squared_error: 8.1500e- - ETA: 0s - loss: 0.0028 - mean_squared_error: 8.0988e- - 1s 92us/step - loss: 0.0028 - mean_squared_error: 8.0871e-04 - val_loss: 0.0028 - val_mean_squared_error: 8.4568e-04\n",
      "Epoch 5/40\n",
      "14000/14000 [==============================] - ETA: 1s - loss: 0.0028 - mean_squared_error: 7.8516e- - ETA: 1s - loss: 0.0028 - mean_squared_error: 8.2316e- - ETA: 1s - loss: 0.0028 - mean_squared_error: 7.7433e- - ETA: 1s - loss: 0.0028 - mean_squared_error: 7.5546e- - ETA: 1s - loss: 0.0028 - mean_squared_error: 7.6326e- - ETA: 1s - loss: 0.0028 - mean_squared_error: 7.6985e- - ETA: 0s - loss: 0.0028 - mean_squared_error: 7.5483e- - ETA: 0s - loss: 0.0028 - mean_squared_error: 7.5166e- - ETA: 0s - loss: 0.0028 - mean_squared_error: 7.4815e- - ETA: 0s - loss: 0.0027 - mean_squared_error: 7.3902e- - ETA: 0s - loss: 0.0027 - mean_squared_error: 7.2964e- - ETA: 0s - loss: 0.0027 - mean_squared_error: 7.2558e- - ETA: 0s - loss: 0.0027 - mean_squared_error: 7.1847e- - ETA: 0s - loss: 0.0027 - mean_squared_error: 7.0844e- - ETA: 0s - loss: 0.0027 - mean_squared_error: 7.3744e- - ETA: 0s - loss: 0.0028 - mean_squared_error: 7.6393e- - ETA: 0s - loss: 0.0028 - mean_squared_error: 7.9925e- - ETA: 0s - loss: 0.0028 - mean_squared_error: 8.1129e- - ETA: 0s - loss: 0.0028 - mean_squared_error: 8.1084e- - ETA: 0s - loss: 0.0028 - mean_squared_error: 8.0227e- - ETA: 0s - loss: 0.0028 - mean_squared_error: 7.9440e- - ETA: 0s - loss: 0.0028 - mean_squared_error: 7.8607e- - ETA: 0s - loss: 0.0028 - mean_squared_error: 7.7830e- - ETA: 0s - loss: 0.0028 - mean_squared_error: 7.7467e- - 1s 95us/step - loss: 0.0028 - mean_squared_error: 7.7318e-04 - val_loss: 0.0030 - val_mean_squared_error: 0.0010\n",
      "Epoch 6/40\n"
     ]
    },
    {
     "name": "stdout",
     "output_type": "stream",
     "text": [
      "14000/14000 [==============================] - ETA: 1s - loss: 0.0035 - mean_squared_error: 0.00 - ETA: 1s - loss: 0.0034 - mean_squared_error: 0.00 - ETA: 1s - loss: 0.0031 - mean_squared_error: 0.00 - ETA: 1s - loss: 0.0029 - mean_squared_error: 9.3666e- - ETA: 1s - loss: 0.0029 - mean_squared_error: 8.7830e- - ETA: 0s - loss: 0.0028 - mean_squared_error: 8.2080e- - ETA: 0s - loss: 0.0028 - mean_squared_error: 7.7863e- - ETA: 0s - loss: 0.0028 - mean_squared_error: 7.5279e- - ETA: 0s - loss: 0.0027 - mean_squared_error: 7.2961e- - ETA: 0s - loss: 0.0027 - mean_squared_error: 7.1548e- - ETA: 0s - loss: 0.0027 - mean_squared_error: 7.0256e- - ETA: 0s - loss: 0.0027 - mean_squared_error: 6.9531e- - ETA: 0s - loss: 0.0027 - mean_squared_error: 6.9197e- - ETA: 0s - loss: 0.0027 - mean_squared_error: 6.8288e- - ETA: 0s - loss: 0.0027 - mean_squared_error: 6.7751e- - ETA: 0s - loss: 0.0027 - mean_squared_error: 6.8001e- - ETA: 0s - loss: 0.0027 - mean_squared_error: 6.7121e- - ETA: 0s - loss: 0.0027 - mean_squared_error: 6.6424e- - ETA: 0s - loss: 0.0027 - mean_squared_error: 6.6073e- - ETA: 0s - loss: 0.0027 - mean_squared_error: 6.5450e- - ETA: 0s - loss: 0.0027 - mean_squared_error: 6.5124e- - ETA: 0s - loss: 0.0027 - mean_squared_error: 6.5261e- - ETA: 0s - loss: 0.0027 - mean_squared_error: 6.5241e- - ETA: 0s - loss: 0.0027 - mean_squared_error: 6.4890e- - 1s 94us/step - loss: 0.0027 - mean_squared_error: 6.4896e-04 - val_loss: 0.0026 - val_mean_squared_error: 6.3146e-04\n",
      "Epoch 7/40\n",
      "14000/14000 [==============================] - ETA: 1s - loss: 0.0026 - mean_squared_error: 5.8488e- - ETA: 1s - loss: 0.0026 - mean_squared_error: 5.5509e- - ETA: 1s - loss: 0.0026 - mean_squared_error: 5.7492e- - ETA: 1s - loss: 0.0026 - mean_squared_error: 5.6309e- - ETA: 1s - loss: 0.0026 - mean_squared_error: 5.6447e- - ETA: 0s - loss: 0.0026 - mean_squared_error: 5.6267e- - ETA: 0s - loss: 0.0026 - mean_squared_error: 5.6765e- - ETA: 0s - loss: 0.0026 - mean_squared_error: 5.5928e- - ETA: 0s - loss: 0.0026 - mean_squared_error: 5.5239e- - ETA: 0s - loss: 0.0026 - mean_squared_error: 5.4599e- - ETA: 0s - loss: 0.0026 - mean_squared_error: 5.4210e- - ETA: 0s - loss: 0.0026 - mean_squared_error: 5.4596e- - ETA: 0s - loss: 0.0026 - mean_squared_error: 5.5164e- - ETA: 0s - loss: 0.0026 - mean_squared_error: 5.6003e- - ETA: 0s - loss: 0.0026 - mean_squared_error: 5.7281e- - ETA: 0s - loss: 0.0026 - mean_squared_error: 5.8027e- - ETA: 0s - loss: 0.0026 - mean_squared_error: 5.7824e- - ETA: 0s - loss: 0.0026 - mean_squared_error: 5.7702e- - ETA: 0s - loss: 0.0026 - mean_squared_error: 5.7369e- - ETA: 0s - loss: 0.0026 - mean_squared_error: 5.7441e- - ETA: 0s - loss: 0.0026 - mean_squared_error: 5.7896e- - ETA: 0s - loss: 0.0026 - mean_squared_error: 5.8920e- - ETA: 0s - loss: 0.0026 - mean_squared_error: 6.0644e- - ETA: 0s - loss: 0.0026 - mean_squared_error: 6.1909e- - 1s 96us/step - loss: 0.0026 - mean_squared_error: 6.2105e-04 - val_loss: 0.0026 - val_mean_squared_error: 5.5211e-04\n",
      "Epoch 8/40\n",
      "14000/14000 [==============================] - ETA: 1s - loss: 0.0024 - mean_squared_error: 3.8807e- - ETA: 1s - loss: 0.0026 - mean_squared_error: 5.5042e- - ETA: 1s - loss: 0.0026 - mean_squared_error: 5.4196e- - ETA: 1s - loss: 0.0025 - mean_squared_error: 5.2065e- - ETA: 1s - loss: 0.0025 - mean_squared_error: 5.0297e- - ETA: 0s - loss: 0.0025 - mean_squared_error: 5.0542e- - ETA: 0s - loss: 0.0025 - mean_squared_error: 5.1676e- - ETA: 0s - loss: 0.0026 - mean_squared_error: 6.0630e- - ETA: 0s - loss: 0.0026 - mean_squared_error: 6.2077e- - ETA: 0s - loss: 0.0027 - mean_squared_error: 6.6309e- - ETA: 0s - loss: 0.0027 - mean_squared_error: 6.5411e- - ETA: 0s - loss: 0.0027 - mean_squared_error: 6.4683e- - ETA: 0s - loss: 0.0026 - mean_squared_error: 6.3937e- - ETA: 0s - loss: 0.0026 - mean_squared_error: 6.2863e- - ETA: 0s - loss: 0.0026 - mean_squared_error: 6.1299e- - ETA: 0s - loss: 0.0026 - mean_squared_error: 6.0538e- - ETA: 0s - loss: 0.0026 - mean_squared_error: 6.0270e- - ETA: 0s - loss: 0.0026 - mean_squared_error: 5.9438e- - ETA: 0s - loss: 0.0026 - mean_squared_error: 5.8572e- - ETA: 0s - loss: 0.0026 - mean_squared_error: 5.8049e- - ETA: 0s - loss: 0.0026 - mean_squared_error: 5.7611e- - ETA: 0s - loss: 0.0026 - mean_squared_error: 5.7034e- - ETA: 0s - loss: 0.0026 - mean_squared_error: 5.6627e- - ETA: 0s - loss: 0.0026 - mean_squared_error: 5.6676e- - 1s 93us/step - loss: 0.0026 - mean_squared_error: 5.6655e-04 - val_loss: 0.0026 - val_mean_squared_error: 6.0535e-04\n",
      "Epoch 9/40\n",
      "14000/14000 [==============================] - ETA: 1s - loss: 0.0025 - mean_squared_error: 4.5801e- - ETA: 1s - loss: 0.0025 - mean_squared_error: 5.1663e- - ETA: 1s - loss: 0.0025 - mean_squared_error: 4.7853e- - ETA: 1s - loss: 0.0025 - mean_squared_error: 4.6920e- - ETA: 1s - loss: 0.0025 - mean_squared_error: 4.6046e- - ETA: 0s - loss: 0.0025 - mean_squared_error: 4.6313e- - ETA: 0s - loss: 0.0025 - mean_squared_error: 4.6687e- - ETA: 0s - loss: 0.0025 - mean_squared_error: 4.7073e- - ETA: 0s - loss: 0.0025 - mean_squared_error: 4.9253e- - ETA: 0s - loss: 0.0025 - mean_squared_error: 5.0290e- - ETA: 0s - loss: 0.0025 - mean_squared_error: 5.0098e- - ETA: 0s - loss: 0.0025 - mean_squared_error: 5.0153e- - ETA: 0s - loss: 0.0025 - mean_squared_error: 5.1219e- - ETA: 0s - loss: 0.0025 - mean_squared_error: 5.1373e- - ETA: 0s - loss: 0.0025 - mean_squared_error: 5.1154e- - ETA: 0s - loss: 0.0025 - mean_squared_error: 5.0901e- - ETA: 0s - loss: 0.0025 - mean_squared_error: 5.0846e- - ETA: 0s - loss: 0.0025 - mean_squared_error: 5.0402e- - ETA: 0s - loss: 0.0025 - mean_squared_error: 5.0508e- - ETA: 0s - loss: 0.0025 - mean_squared_error: 5.0777e- - ETA: 0s - loss: 0.0025 - mean_squared_error: 5.0818e- - ETA: 0s - loss: 0.0025 - mean_squared_error: 5.0781e- - ETA: 0s - loss: 0.0025 - mean_squared_error: 5.0742e- - ETA: 0s - loss: 0.0025 - mean_squared_error: 5.1168e- - 1s 94us/step - loss: 0.0025 - mean_squared_error: 5.1200e-04 - val_loss: 0.0025 - val_mean_squared_error: 4.4997e-04\n",
      "Epoch 10/40\n",
      "14000/14000 [==============================] - ETA: 1s - loss: 0.0023 - mean_squared_error: 3.1873e- - ETA: 1s - loss: 0.0025 - mean_squared_error: 4.9157e- - ETA: 1s - loss: 0.0025 - mean_squared_error: 5.3335e- - ETA: 1s - loss: 0.0025 - mean_squared_error: 5.4021e- - ETA: 0s - loss: 0.0025 - mean_squared_error: 5.2954e- - ETA: 0s - loss: 0.0025 - mean_squared_error: 5.1886e- - ETA: 0s - loss: 0.0025 - mean_squared_error: 5.2060e- - ETA: 0s - loss: 0.0025 - mean_squared_error: 5.2539e- - ETA: 0s - loss: 0.0025 - mean_squared_error: 5.2722e- - ETA: 0s - loss: 0.0025 - mean_squared_error: 5.3146e- - ETA: 0s - loss: 0.0025 - mean_squared_error: 5.2350e- - ETA: 0s - loss: 0.0025 - mean_squared_error: 5.2403e- - ETA: 0s - loss: 0.0025 - mean_squared_error: 5.4292e- - ETA: 0s - loss: 0.0026 - mean_squared_error: 5.5072e- - ETA: 0s - loss: 0.0026 - mean_squared_error: 5.6301e- - ETA: 0s - loss: 0.0026 - mean_squared_error: 6.0467e- - ETA: 0s - loss: 0.0026 - mean_squared_error: 6.2781e- - ETA: 0s - loss: 0.0026 - mean_squared_error: 6.2361e- - ETA: 0s - loss: 0.0026 - mean_squared_error: 6.1702e- - ETA: 0s - loss: 0.0026 - mean_squared_error: 6.1033e- - ETA: 0s - loss: 0.0026 - mean_squared_error: 6.0699e- - ETA: 0s - loss: 0.0026 - mean_squared_error: 6.0163e- - ETA: 0s - loss: 0.0026 - mean_squared_error: 5.9520e- - ETA: 0s - loss: 0.0026 - mean_squared_error: 5.8930e- - 1s 95us/step - loss: 0.0026 - mean_squared_error: 5.8477e-04 - val_loss: 0.0024 - val_mean_squared_error: 4.4025e-04\n",
      "Epoch 11/40\n"
     ]
    },
    {
     "name": "stdout",
     "output_type": "stream",
     "text": [
      "14000/14000 [==============================] - ETA: 1s - loss: 0.0024 - mean_squared_error: 3.8325e- - ETA: 1s - loss: 0.0025 - mean_squared_error: 4.6456e- - ETA: 1s - loss: 0.0025 - mean_squared_error: 5.3151e- - ETA: 1s - loss: 0.0026 - mean_squared_error: 5.8883e- - ETA: 0s - loss: 0.0026 - mean_squared_error: 5.8163e- - ETA: 0s - loss: 0.0026 - mean_squared_error: 5.5706e- - ETA: 0s - loss: 0.0025 - mean_squared_error: 5.4333e- - ETA: 0s - loss: 0.0025 - mean_squared_error: 5.3805e- - ETA: 0s - loss: 0.0025 - mean_squared_error: 5.2573e- - ETA: 0s - loss: 0.0025 - mean_squared_error: 5.1564e- - ETA: 0s - loss: 0.0025 - mean_squared_error: 5.1007e- - ETA: 0s - loss: 0.0025 - mean_squared_error: 5.0479e- - ETA: 0s - loss: 0.0025 - mean_squared_error: 4.9474e- - ETA: 0s - loss: 0.0025 - mean_squared_error: 5.0531e- - ETA: 0s - loss: 0.0025 - mean_squared_error: 5.0974e- - ETA: 0s - loss: 0.0025 - mean_squared_error: 5.1111e- - ETA: 0s - loss: 0.0025 - mean_squared_error: 5.0736e- - ETA: 0s - loss: 0.0025 - mean_squared_error: 5.0031e- - ETA: 0s - loss: 0.0025 - mean_squared_error: 4.9890e- - ETA: 0s - loss: 0.0025 - mean_squared_error: 4.9648e- - ETA: 0s - loss: 0.0025 - mean_squared_error: 4.9560e- - ETA: 0s - loss: 0.0025 - mean_squared_error: 4.9275e- - ETA: 0s - loss: 0.0025 - mean_squared_error: 4.9303e- - 1s 91us/step - loss: 0.0025 - mean_squared_error: 4.9486e-04 - val_loss: 0.0027 - val_mean_squared_error: 7.5190e-04\n",
      "Epoch 12/40\n",
      "14000/14000 [==============================] - ETA: 1s - loss: 0.0027 - mean_squared_error: 7.0516e- - ETA: 1s - loss: 0.0026 - mean_squared_error: 6.5653e- - ETA: 1s - loss: 0.0025 - mean_squared_error: 5.4571e- - ETA: 1s - loss: 0.0025 - mean_squared_error: 5.1342e- - ETA: 0s - loss: 0.0025 - mean_squared_error: 5.0969e- - ETA: 0s - loss: 0.0025 - mean_squared_error: 5.4385e- - ETA: 0s - loss: 0.0025 - mean_squared_error: 5.5023e- - ETA: 0s - loss: 0.0025 - mean_squared_error: 5.3752e- - ETA: 0s - loss: 0.0025 - mean_squared_error: 5.3952e- - ETA: 0s - loss: 0.0025 - mean_squared_error: 5.4163e- - ETA: 0s - loss: 0.0025 - mean_squared_error: 5.3607e- - ETA: 0s - loss: 0.0025 - mean_squared_error: 5.3372e- - ETA: 0s - loss: 0.0025 - mean_squared_error: 5.2509e- - ETA: 0s - loss: 0.0025 - mean_squared_error: 5.2665e- - ETA: 0s - loss: 0.0025 - mean_squared_error: 5.1850e- - ETA: 0s - loss: 0.0025 - mean_squared_error: 5.1458e- - ETA: 0s - loss: 0.0025 - mean_squared_error: 5.1019e- - ETA: 0s - loss: 0.0025 - mean_squared_error: 5.1087e- - ETA: 0s - loss: 0.0025 - mean_squared_error: 5.0554e- - ETA: 0s - loss: 0.0025 - mean_squared_error: 5.0079e- - ETA: 0s - loss: 0.0025 - mean_squared_error: 4.9791e- - ETA: 0s - loss: 0.0025 - mean_squared_error: 5.0764e- - 1s 88us/step - loss: 0.0025 - mean_squared_error: 5.2326e-04 - val_loss: 0.0036 - val_mean_squared_error: 0.0016\n",
      "Epoch 13/40\n",
      "14000/14000 [==============================] - ETA: 1s - loss: 0.0033 - mean_squared_error: 0.00 - ETA: 1s - loss: 0.0027 - mean_squared_error: 7.0852e- - ETA: 1s - loss: 0.0027 - mean_squared_error: 7.1779e- - ETA: 0s - loss: 0.0027 - mean_squared_error: 7.4612e- - ETA: 0s - loss: 0.0027 - mean_squared_error: 7.1195e- - ETA: 0s - loss: 0.0027 - mean_squared_error: 6.8032e- - ETA: 0s - loss: 0.0026 - mean_squared_error: 6.4468e- - ETA: 0s - loss: 0.0026 - mean_squared_error: 6.1662e- - ETA: 0s - loss: 0.0026 - mean_squared_error: 5.8794e- - ETA: 0s - loss: 0.0026 - mean_squared_error: 5.6773e- - ETA: 0s - loss: 0.0025 - mean_squared_error: 5.5733e- - ETA: 0s - loss: 0.0025 - mean_squared_error: 5.5222e- - ETA: 0s - loss: 0.0025 - mean_squared_error: 5.4406e- - ETA: 0s - loss: 0.0025 - mean_squared_error: 5.3951e- - ETA: 0s - loss: 0.0025 - mean_squared_error: 5.3249e- - ETA: 0s - loss: 0.0025 - mean_squared_error: 5.2874e- - ETA: 0s - loss: 0.0025 - mean_squared_error: 5.2721e- - ETA: 0s - loss: 0.0025 - mean_squared_error: 5.2951e- - ETA: 0s - loss: 0.0025 - mean_squared_error: 5.2911e- - ETA: 0s - loss: 0.0025 - mean_squared_error: 5.4001e- - ETA: 0s - loss: 0.0025 - mean_squared_error: 5.3881e- - ETA: 0s - loss: 0.0025 - mean_squared_error: 5.3674e- - 1s 87us/step - loss: 0.0025 - mean_squared_error: 5.3323e-04 - val_loss: 0.0025 - val_mean_squared_error: 5.2096e-04\n",
      "Epoch 14/40\n",
      "14000/14000 [==============================] - ETA: 1s - loss: 0.0025 - mean_squared_error: 5.2224e- - ETA: 1s - loss: 0.0026 - mean_squared_error: 6.4759e- - ETA: 1s - loss: 0.0027 - mean_squared_error: 7.5253e- - ETA: 0s - loss: 0.0029 - mean_squared_error: 9.0948e- - ETA: 0s - loss: 0.0028 - mean_squared_error: 8.4238e- - ETA: 0s - loss: 0.0027 - mean_squared_error: 7.6728e- - ETA: 0s - loss: 0.0027 - mean_squared_error: 7.0904e- - ETA: 0s - loss: 0.0027 - mean_squared_error: 6.7689e- - ETA: 0s - loss: 0.0026 - mean_squared_error: 6.5613e- - ETA: 0s - loss: 0.0026 - mean_squared_error: 6.3324e- - ETA: 0s - loss: 0.0026 - mean_squared_error: 6.1474e- - ETA: 0s - loss: 0.0026 - mean_squared_error: 6.0096e- - ETA: 0s - loss: 0.0026 - mean_squared_error: 5.9291e- - ETA: 0s - loss: 0.0026 - mean_squared_error: 5.7931e- - ETA: 0s - loss: 0.0025 - mean_squared_error: 5.7369e- - ETA: 0s - loss: 0.0025 - mean_squared_error: 5.6868e- - ETA: 0s - loss: 0.0025 - mean_squared_error: 5.5972e- - ETA: 0s - loss: 0.0025 - mean_squared_error: 5.5092e- - ETA: 0s - loss: 0.0025 - mean_squared_error: 5.4312e- - ETA: 0s - loss: 0.0025 - mean_squared_error: 5.4043e- - ETA: 0s - loss: 0.0025 - mean_squared_error: 5.3625e- - ETA: 0s - loss: 0.0025 - mean_squared_error: 5.3332e- - 1s 88us/step - loss: 0.0025 - mean_squared_error: 5.2880e-04 - val_loss: 0.0024 - val_mean_squared_error: 4.4210e-04\n",
      "Epoch 15/40\n",
      "14000/14000 [==============================] - ETA: 1s - loss: 0.0024 - mean_squared_error: 4.2974e- - ETA: 1s - loss: 0.0024 - mean_squared_error: 4.6120e- - ETA: 0s - loss: 0.0024 - mean_squared_error: 4.5060e- - ETA: 0s - loss: 0.0024 - mean_squared_error: 4.5702e- - ETA: 0s - loss: 0.0024 - mean_squared_error: 4.4963e- - ETA: 0s - loss: 0.0024 - mean_squared_error: 4.3778e- - ETA: 0s - loss: 0.0024 - mean_squared_error: 4.3366e- - ETA: 0s - loss: 0.0024 - mean_squared_error: 4.3993e- - ETA: 0s - loss: 0.0024 - mean_squared_error: 4.4603e- - ETA: 0s - loss: 0.0024 - mean_squared_error: 4.4611e- - ETA: 0s - loss: 0.0024 - mean_squared_error: 4.5420e- - ETA: 0s - loss: 0.0024 - mean_squared_error: 4.7284e- - ETA: 0s - loss: 0.0024 - mean_squared_error: 4.7815e- - ETA: 0s - loss: 0.0024 - mean_squared_error: 4.7340e- - ETA: 0s - loss: 0.0025 - mean_squared_error: 4.8174e- - ETA: 0s - loss: 0.0025 - mean_squared_error: 4.8015e- - ETA: 0s - loss: 0.0024 - mean_squared_error: 4.7819e- - ETA: 0s - loss: 0.0024 - mean_squared_error: 4.7616e- - ETA: 0s - loss: 0.0024 - mean_squared_error: 4.7631e- - ETA: 0s - loss: 0.0024 - mean_squared_error: 4.7371e- - ETA: 0s - loss: 0.0024 - mean_squared_error: 4.7208e- - ETA: 0s - loss: 0.0024 - mean_squared_error: 4.7323e- - 1s 86us/step - loss: 0.0024 - mean_squared_error: 4.7390e-04 - val_loss: 0.0024 - val_mean_squared_error: 4.3559e-04\n",
      "Epoch 16/40\n"
     ]
    },
    {
     "name": "stdout",
     "output_type": "stream",
     "text": [
      "14000/14000 [==============================] - ETA: 1s - loss: 0.0023 - mean_squared_error: 2.9098e- - ETA: 1s - loss: 0.0024 - mean_squared_error: 4.1712e- - ETA: 1s - loss: 0.0024 - mean_squared_error: 3.9611e- - ETA: 1s - loss: 0.0024 - mean_squared_error: 4.0695e- - ETA: 0s - loss: 0.0024 - mean_squared_error: 4.1314e- - ETA: 0s - loss: 0.0024 - mean_squared_error: 4.1870e- - ETA: 0s - loss: 0.0024 - mean_squared_error: 4.1914e- - ETA: 0s - loss: 0.0024 - mean_squared_error: 4.3737e- - ETA: 0s - loss: 0.0024 - mean_squared_error: 4.7714e- - ETA: 0s - loss: 0.0025 - mean_squared_error: 4.9769e- - ETA: 0s - loss: 0.0025 - mean_squared_error: 4.9199e- - ETA: 0s - loss: 0.0025 - mean_squared_error: 4.9491e- - ETA: 0s - loss: 0.0024 - mean_squared_error: 4.8556e- - ETA: 0s - loss: 0.0024 - mean_squared_error: 4.8363e- - ETA: 0s - loss: 0.0025 - mean_squared_error: 4.8810e- - ETA: 0s - loss: 0.0024 - mean_squared_error: 4.8192e- - ETA: 0s - loss: 0.0024 - mean_squared_error: 4.8390e- - ETA: 0s - loss: 0.0024 - mean_squared_error: 4.8575e- - ETA: 0s - loss: 0.0024 - mean_squared_error: 4.8312e- - ETA: 0s - loss: 0.0024 - mean_squared_error: 4.8113e- - ETA: 0s - loss: 0.0024 - mean_squared_error: 4.7855e- - ETA: 0s - loss: 0.0024 - mean_squared_error: 4.8203e- - 1s 87us/step - loss: 0.0024 - mean_squared_error: 4.8087e-04 - val_loss: 0.0025 - val_mean_squared_error: 5.7060e-04\n",
      "Epoch 17/40\n",
      "14000/14000 [==============================] - ETA: 1s - loss: 0.0027 - mean_squared_error: 6.9740e- - ETA: 1s - loss: 0.0024 - mean_squared_error: 4.4835e- - ETA: 1s - loss: 0.0024 - mean_squared_error: 4.5013e- - ETA: 0s - loss: 0.0024 - mean_squared_error: 4.4708e- - ETA: 0s - loss: 0.0024 - mean_squared_error: 4.4774e- - ETA: 0s - loss: 0.0024 - mean_squared_error: 4.6392e- - ETA: 0s - loss: 0.0024 - mean_squared_error: 4.6493e- - ETA: 0s - loss: 0.0024 - mean_squared_error: 4.5783e- - ETA: 0s - loss: 0.0024 - mean_squared_error: 4.5169e- - ETA: 0s - loss: 0.0024 - mean_squared_error: 4.5111e- - ETA: 0s - loss: 0.0024 - mean_squared_error: 4.5592e- - ETA: 0s - loss: 0.0024 - mean_squared_error: 4.5557e- - ETA: 0s - loss: 0.0024 - mean_squared_error: 4.5520e- - ETA: 0s - loss: 0.0024 - mean_squared_error: 4.5519e- - ETA: 0s - loss: 0.0024 - mean_squared_error: 4.5341e- - ETA: 0s - loss: 0.0024 - mean_squared_error: 4.7123e- - ETA: 0s - loss: 0.0024 - mean_squared_error: 4.7839e- - ETA: 0s - loss: 0.0024 - mean_squared_error: 4.7924e- - ETA: 0s - loss: 0.0024 - mean_squared_error: 4.8074e- - ETA: 0s - loss: 0.0024 - mean_squared_error: 4.7875e- - ETA: 0s - loss: 0.0024 - mean_squared_error: 4.8691e- - ETA: 0s - loss: 0.0024 - mean_squared_error: 4.8998e- - 1s 85us/step - loss: 0.0024 - mean_squared_error: 4.8901e-04 - val_loss: 0.0024 - val_mean_squared_error: 4.3377e-04\n",
      "Epoch 18/40\n",
      "14000/14000 [==============================] - ETA: 1s - loss: 0.0025 - mean_squared_error: 5.4731e- - ETA: 1s - loss: 0.0024 - mean_squared_error: 4.5446e- - ETA: 1s - loss: 0.0024 - mean_squared_error: 4.6355e- - ETA: 0s - loss: 0.0024 - mean_squared_error: 4.7427e- - ETA: 0s - loss: 0.0024 - mean_squared_error: 4.8447e- - ETA: 0s - loss: 0.0024 - mean_squared_error: 4.6858e- - ETA: 0s - loss: 0.0024 - mean_squared_error: 4.6621e- - ETA: 0s - loss: 0.0024 - mean_squared_error: 4.5653e- - ETA: 0s - loss: 0.0024 - mean_squared_error: 4.5492e- - ETA: 0s - loss: 0.0024 - mean_squared_error: 4.5246e- - ETA: 0s - loss: 0.0024 - mean_squared_error: 4.6619e- - ETA: 0s - loss: 0.0025 - mean_squared_error: 5.0794e- - ETA: 0s - loss: 0.0025 - mean_squared_error: 5.1578e- - ETA: 0s - loss: 0.0025 - mean_squared_error: 5.0967e- - ETA: 0s - loss: 0.0025 - mean_squared_error: 5.0199e- - ETA: 0s - loss: 0.0024 - mean_squared_error: 4.9853e- - ETA: 0s - loss: 0.0024 - mean_squared_error: 4.9570e- - ETA: 0s - loss: 0.0025 - mean_squared_error: 5.0365e- - ETA: 0s - loss: 0.0025 - mean_squared_error: 5.0360e- - ETA: 0s - loss: 0.0024 - mean_squared_error: 5.0216e- - ETA: 0s - loss: 0.0024 - mean_squared_error: 5.0234e- - ETA: 0s - loss: 0.0025 - mean_squared_error: 5.2048e- - 1s 85us/step - loss: 0.0025 - mean_squared_error: 5.2307e-04 - val_loss: 0.0024 - val_mean_squared_error: 5.0416e-04\n",
      "Epoch 19/40\n",
      "14000/14000 [==============================] - ETA: 1s - loss: 0.0023 - mean_squared_error: 3.9599e- - ETA: 1s - loss: 0.0026 - mean_squared_error: 6.0936e- - ETA: 1s - loss: 0.0025 - mean_squared_error: 5.8629e- - ETA: 0s - loss: 0.0025 - mean_squared_error: 5.4352e- - ETA: 0s - loss: 0.0025 - mean_squared_error: 5.2629e- - ETA: 0s - loss: 0.0024 - mean_squared_error: 5.0793e- - ETA: 0s - loss: 0.0024 - mean_squared_error: 4.9891e- - ETA: 0s - loss: 0.0024 - mean_squared_error: 4.9889e- - ETA: 0s - loss: 0.0024 - mean_squared_error: 4.8883e- - ETA: 0s - loss: 0.0024 - mean_squared_error: 4.8149e- - ETA: 0s - loss: 0.0024 - mean_squared_error: 4.7829e- - ETA: 0s - loss: 0.0024 - mean_squared_error: 4.7035e- - ETA: 0s - loss: 0.0024 - mean_squared_error: 4.6566e- - ETA: 0s - loss: 0.0024 - mean_squared_error: 4.6360e- - ETA: 0s - loss: 0.0024 - mean_squared_error: 4.7440e- - ETA: 0s - loss: 0.0024 - mean_squared_error: 4.6955e- - ETA: 0s - loss: 0.0024 - mean_squared_error: 4.6835e- - ETA: 0s - loss: 0.0024 - mean_squared_error: 4.6608e- - ETA: 0s - loss: 0.0024 - mean_squared_error: 4.6628e- - ETA: 0s - loss: 0.0024 - mean_squared_error: 4.6877e- - ETA: 0s - loss: 0.0024 - mean_squared_error: 4.7415e- - ETA: 0s - loss: 0.0024 - mean_squared_error: 4.7500e- - 1s 86us/step - loss: 0.0024 - mean_squared_error: 4.7392e-04 - val_loss: 0.0023 - val_mean_squared_error: 3.8947e-04\n",
      "Epoch 20/40\n",
      "14000/14000 [==============================] - ETA: 1s - loss: 0.0023 - mean_squared_error: 3.8463e- - ETA: 1s - loss: 0.0024 - mean_squared_error: 4.4442e- - ETA: 1s - loss: 0.0024 - mean_squared_error: 4.8841e- - ETA: 0s - loss: 0.0024 - mean_squared_error: 5.1317e- - ETA: 0s - loss: 0.0024 - mean_squared_error: 5.0297e- - ETA: 0s - loss: 0.0024 - mean_squared_error: 4.9790e- - ETA: 0s - loss: 0.0024 - mean_squared_error: 5.1579e- - ETA: 0s - loss: 0.0024 - mean_squared_error: 5.0641e- - ETA: 0s - loss: 0.0024 - mean_squared_error: 4.9086e- - ETA: 0s - loss: 0.0024 - mean_squared_error: 4.8432e- - ETA: 0s - loss: 0.0024 - mean_squared_error: 4.8176e- - ETA: 0s - loss: 0.0024 - mean_squared_error: 4.8508e- - ETA: 0s - loss: 0.0024 - mean_squared_error: 4.8343e- - ETA: 0s - loss: 0.0024 - mean_squared_error: 4.7783e- - ETA: 0s - loss: 0.0024 - mean_squared_error: 4.7400e- - ETA: 0s - loss: 0.0024 - mean_squared_error: 4.7336e- - ETA: 0s - loss: 0.0024 - mean_squared_error: 4.7875e- - ETA: 0s - loss: 0.0024 - mean_squared_error: 4.7615e- - ETA: 0s - loss: 0.0024 - mean_squared_error: 4.6925e- - ETA: 0s - loss: 0.0024 - mean_squared_error: 4.7363e- - ETA: 0s - loss: 0.0024 - mean_squared_error: 4.7708e- - ETA: 0s - loss: 0.0024 - mean_squared_error: 4.7480e- - 1s 87us/step - loss: 0.0024 - mean_squared_error: 4.7374e-04 - val_loss: 0.0023 - val_mean_squared_error: 4.0024e-04\n",
      "Epoch 21/40\n"
     ]
    },
    {
     "name": "stdout",
     "output_type": "stream",
     "text": [
      "14000/14000 [==============================] - ETA: 2s - loss: 0.0022 - mean_squared_error: 2.7665e- - ETA: 1s - loss: 0.0023 - mean_squared_error: 4.1303e- - ETA: 1s - loss: 0.0023 - mean_squared_error: 4.0616e- - ETA: 1s - loss: 0.0023 - mean_squared_error: 4.0787e- - ETA: 1s - loss: 0.0023 - mean_squared_error: 3.9565e- - ETA: 1s - loss: 0.0023 - mean_squared_error: 4.0168e- - ETA: 1s - loss: 0.0023 - mean_squared_error: 4.0621e- - ETA: 0s - loss: 0.0023 - mean_squared_error: 3.9815e- - ETA: 0s - loss: 0.0023 - mean_squared_error: 3.9289e- - ETA: 0s - loss: 0.0023 - mean_squared_error: 3.9797e- - ETA: 0s - loss: 0.0023 - mean_squared_error: 4.0809e- - ETA: 0s - loss: 0.0023 - mean_squared_error: 4.1128e- - ETA: 0s - loss: 0.0023 - mean_squared_error: 4.1425e- - ETA: 0s - loss: 0.0023 - mean_squared_error: 4.1486e- - ETA: 0s - loss: 0.0023 - mean_squared_error: 4.1646e- - ETA: 0s - loss: 0.0023 - mean_squared_error: 4.2112e- - ETA: 0s - loss: 0.0024 - mean_squared_error: 4.5279e- - ETA: 0s - loss: 0.0024 - mean_squared_error: 4.6776e- - ETA: 0s - loss: 0.0024 - mean_squared_error: 4.6643e- - ETA: 0s - loss: 0.0024 - mean_squared_error: 4.6888e- - ETA: 0s - loss: 0.0024 - mean_squared_error: 4.6735e- - ETA: 0s - loss: 0.0024 - mean_squared_error: 4.6560e- - ETA: 0s - loss: 0.0024 - mean_squared_error: 4.6706e- - ETA: 0s - loss: 0.0024 - mean_squared_error: 4.6774e- - 1s 105us/step - loss: 0.0024 - mean_squared_error: 4.6828e-04 - val_loss: 0.0023 - val_mean_squared_error: 4.0852e-04\n",
      "Epoch 22/40\n",
      "14000/14000 [==============================] - ETA: 3s - loss: 0.0023 - mean_squared_error: 3.7313e- - ETA: 1s - loss: 0.0024 - mean_squared_error: 4.5686e- - ETA: 1s - loss: 0.0023 - mean_squared_error: 4.2426e- - ETA: 1s - loss: 0.0023 - mean_squared_error: 4.1491e- - ETA: 1s - loss: 0.0023 - mean_squared_error: 4.1178e- - ETA: 1s - loss: 0.0023 - mean_squared_error: 4.1197e- - ETA: 1s - loss: 0.0023 - mean_squared_error: 4.1795e- - ETA: 1s - loss: 0.0023 - mean_squared_error: 4.1293e- - ETA: 1s - loss: 0.0023 - mean_squared_error: 4.2127e- - ETA: 0s - loss: 0.0024 - mean_squared_error: 4.3298e- - ETA: 0s - loss: 0.0024 - mean_squared_error: 4.3207e- - ETA: 0s - loss: 0.0024 - mean_squared_error: 4.3431e- - ETA: 0s - loss: 0.0024 - mean_squared_error: 4.3208e- - ETA: 0s - loss: 0.0024 - mean_squared_error: 4.3189e- - ETA: 0s - loss: 0.0024 - mean_squared_error: 4.3315e- - ETA: 0s - loss: 0.0024 - mean_squared_error: 4.3658e- - ETA: 0s - loss: 0.0024 - mean_squared_error: 4.3129e- - ETA: 0s - loss: 0.0024 - mean_squared_error: 4.3233e- - ETA: 0s - loss: 0.0023 - mean_squared_error: 4.3063e- - ETA: 0s - loss: 0.0023 - mean_squared_error: 4.3114e- - ETA: 0s - loss: 0.0023 - mean_squared_error: 4.3066e- - ETA: 0s - loss: 0.0024 - mean_squared_error: 4.3231e- - ETA: 0s - loss: 0.0024 - mean_squared_error: 4.3377e- - ETA: 0s - loss: 0.0024 - mean_squared_error: 4.3535e- - ETA: 0s - loss: 0.0024 - mean_squared_error: 4.3236e- - ETA: 0s - loss: 0.0023 - mean_squared_error: 4.3184e- - ETA: 0s - loss: 0.0023 - mean_squared_error: 4.3121e- - ETA: 0s - loss: 0.0023 - mean_squared_error: 4.3103e- - ETA: 0s - loss: 0.0023 - mean_squared_error: 4.3112e- - ETA: 0s - loss: 0.0023 - mean_squared_error: 4.2898e- - 2s 118us/step - loss: 0.0023 - mean_squared_error: 4.2937e-04 - val_loss: 0.0023 - val_mean_squared_error: 3.9878e-04\n",
      "Epoch 23/40\n",
      "14000/14000 [==============================] - ETA: 1s - loss: 0.0025 - mean_squared_error: 5.7737e- - ETA: 1s - loss: 0.0024 - mean_squared_error: 4.6797e- - ETA: 1s - loss: 0.0024 - mean_squared_error: 4.4614e- - ETA: 1s - loss: 0.0023 - mean_squared_error: 4.2376e- - ETA: 1s - loss: 0.0023 - mean_squared_error: 4.1482e- - ETA: 1s - loss: 0.0023 - mean_squared_error: 4.1664e- - ETA: 1s - loss: 0.0023 - mean_squared_error: 4.2175e- - ETA: 0s - loss: 0.0024 - mean_squared_error: 4.4026e- - ETA: 0s - loss: 0.0023 - mean_squared_error: 4.3607e- - ETA: 0s - loss: 0.0023 - mean_squared_error: 4.3468e- - ETA: 0s - loss: 0.0024 - mean_squared_error: 4.3827e- - ETA: 0s - loss: 0.0024 - mean_squared_error: 4.4042e- - ETA: 0s - loss: 0.0024 - mean_squared_error: 4.3750e- - ETA: 0s - loss: 0.0023 - mean_squared_error: 4.3463e- - ETA: 0s - loss: 0.0023 - mean_squared_error: 4.3052e- - ETA: 0s - loss: 0.0023 - mean_squared_error: 4.2779e- - ETA: 0s - loss: 0.0023 - mean_squared_error: 4.3201e- - ETA: 0s - loss: 0.0023 - mean_squared_error: 4.3716e- - ETA: 0s - loss: 0.0023 - mean_squared_error: 4.3791e- - ETA: 0s - loss: 0.0024 - mean_squared_error: 4.3877e- - ETA: 0s - loss: 0.0024 - mean_squared_error: 4.3895e- - ETA: 0s - loss: 0.0024 - mean_squared_error: 4.5400e- - ETA: 0s - loss: 0.0024 - mean_squared_error: 4.5631e- - ETA: 0s - loss: 0.0024 - mean_squared_error: 4.6172e- - ETA: 0s - loss: 0.0024 - mean_squared_error: 4.6826e- - ETA: 0s - loss: 0.0024 - mean_squared_error: 4.7100e- - 1s 101us/step - loss: 0.0024 - mean_squared_error: 4.7130e-04 - val_loss: 0.0023 - val_mean_squared_error: 4.1753e-04\n",
      "Epoch 24/40\n",
      "14000/14000 [==============================] - ETA: 1s - loss: 0.0024 - mean_squared_error: 5.0934e- - ETA: 1s - loss: 0.0024 - mean_squared_error: 4.4924e- - ETA: 1s - loss: 0.0024 - mean_squared_error: 4.9196e- - ETA: 1s - loss: 0.0024 - mean_squared_error: 5.1527e- - ETA: 0s - loss: 0.0024 - mean_squared_error: 5.1109e- - ETA: 0s - loss: 0.0024 - mean_squared_error: 5.2246e- - ETA: 0s - loss: 0.0024 - mean_squared_error: 5.0147e- - ETA: 0s - loss: 0.0024 - mean_squared_error: 4.8721e- - ETA: 0s - loss: 0.0024 - mean_squared_error: 4.7769e- - ETA: 0s - loss: 0.0024 - mean_squared_error: 4.7325e- - ETA: 0s - loss: 0.0024 - mean_squared_error: 4.7056e- - ETA: 0s - loss: 0.0024 - mean_squared_error: 4.6711e- - ETA: 0s - loss: 0.0024 - mean_squared_error: 4.6444e- - ETA: 0s - loss: 0.0024 - mean_squared_error: 4.5976e- - ETA: 0s - loss: 0.0024 - mean_squared_error: 4.5685e- - ETA: 0s - loss: 0.0024 - mean_squared_error: 4.6152e- - ETA: 0s - loss: 0.0024 - mean_squared_error: 4.6054e- - ETA: 0s - loss: 0.0024 - mean_squared_error: 4.5687e- - ETA: 0s - loss: 0.0024 - mean_squared_error: 4.5947e- - ETA: 0s - loss: 0.0024 - mean_squared_error: 4.6202e- - ETA: 0s - loss: 0.0024 - mean_squared_error: 4.5927e- - ETA: 0s - loss: 0.0024 - mean_squared_error: 4.5943e- - ETA: 0s - loss: 0.0024 - mean_squared_error: 4.5853e- - 1s 91us/step - loss: 0.0024 - mean_squared_error: 4.5855e-04 - val_loss: 0.0023 - val_mean_squared_error: 4.1385e-04\n",
      "Epoch 25/40\n",
      "14000/14000 [==============================] - ETA: 3s - loss: 0.0022 - mean_squared_error: 3.0345e- - ETA: 2s - loss: 0.0024 - mean_squared_error: 4.5962e- - ETA: 2s - loss: 0.0023 - mean_squared_error: 4.1576e- - ETA: 1s - loss: 0.0024 - mean_squared_error: 4.5622e- - ETA: 1s - loss: 0.0026 - mean_squared_error: 7.4745e- - ETA: 1s - loss: 0.0026 - mean_squared_error: 7.2899e- - ETA: 1s - loss: 0.0026 - mean_squared_error: 6.9628e- - ETA: 1s - loss: 0.0026 - mean_squared_error: 6.5815e- - ETA: 0s - loss: 0.0025 - mean_squared_error: 6.3708e- - ETA: 0s - loss: 0.0025 - mean_squared_error: 6.2696e- - ETA: 0s - loss: 0.0025 - mean_squared_error: 5.9840e- - ETA: 0s - loss: 0.0025 - mean_squared_error: 5.8347e- - ETA: 0s - loss: 0.0025 - mean_squared_error: 5.7762e- - ETA: 0s - loss: 0.0025 - mean_squared_error: 5.7016e- - ETA: 0s - loss: 0.0025 - mean_squared_error: 5.5839e- - ETA: 0s - loss: 0.0024 - mean_squared_error: 5.4981e- - ETA: 0s - loss: 0.0024 - mean_squared_error: 5.4936e- - ETA: 0s - loss: 0.0024 - mean_squared_error: 5.4631e- - ETA: 0s - loss: 0.0024 - mean_squared_error: 5.4292e- - ETA: 0s - loss: 0.0024 - mean_squared_error: 5.3904e- - ETA: 0s - loss: 0.0024 - mean_squared_error: 5.3567e- - ETA: 0s - loss: 0.0024 - mean_squared_error: 5.3253e- - ETA: 0s - loss: 0.0024 - mean_squared_error: 5.3338e- - ETA: 0s - loss: 0.0024 - mean_squared_error: 5.2707e- - ETA: 0s - loss: 0.0024 - mean_squared_error: 5.2000e- - ETA: 0s - loss: 0.0024 - mean_squared_error: 5.1487e- - ETA: 0s - loss: 0.0024 - mean_squared_error: 5.0978e- - ETA: 0s - loss: 0.0024 - mean_squared_error: 5.0646e- - 2s 111us/step - loss: 0.0024 - mean_squared_error: 5.0588e-04 - val_loss: 0.0023 - val_mean_squared_error: 3.9227e-04\n"
     ]
    },
    {
     "name": "stdout",
     "output_type": "stream",
     "text": [
      "Epoch 26/40\n",
      "14000/14000 [==============================] - ETA: 1s - loss: 0.0023 - mean_squared_error: 4.3108e- - ETA: 1s - loss: 0.0023 - mean_squared_error: 3.8163e- - ETA: 1s - loss: 0.0023 - mean_squared_error: 4.0898e- - ETA: 1s - loss: 0.0023 - mean_squared_error: 3.8544e- - ETA: 1s - loss: 0.0023 - mean_squared_error: 3.8511e- - ETA: 0s - loss: 0.0023 - mean_squared_error: 3.8617e- - ETA: 0s - loss: 0.0023 - mean_squared_error: 3.8605e- - ETA: 0s - loss: 0.0023 - mean_squared_error: 3.8557e- - ETA: 0s - loss: 0.0023 - mean_squared_error: 3.8903e- - ETA: 0s - loss: 0.0023 - mean_squared_error: 3.9091e- - ETA: 0s - loss: 0.0023 - mean_squared_error: 4.0536e- - ETA: 0s - loss: 0.0023 - mean_squared_error: 4.3764e- - ETA: 0s - loss: 0.0023 - mean_squared_error: 4.4842e- - ETA: 0s - loss: 0.0023 - mean_squared_error: 4.5118e- - ETA: 0s - loss: 0.0023 - mean_squared_error: 4.5298e- - ETA: 0s - loss: 0.0023 - mean_squared_error: 4.5390e- - ETA: 0s - loss: 0.0023 - mean_squared_error: 4.5523e- - ETA: 0s - loss: 0.0023 - mean_squared_error: 4.5315e- - ETA: 0s - loss: 0.0023 - mean_squared_error: 4.5583e- - ETA: 0s - loss: 0.0023 - mean_squared_error: 4.5247e- - ETA: 0s - loss: 0.0023 - mean_squared_error: 4.5042e- - ETA: 0s - loss: 0.0023 - mean_squared_error: 4.5094e- - ETA: 0s - loss: 0.0023 - mean_squared_error: 4.4894e- - ETA: 0s - loss: 0.0023 - mean_squared_error: 4.4962e- - ETA: 0s - loss: 0.0023 - mean_squared_error: 4.4665e- - ETA: 0s - loss: 0.0023 - mean_squared_error: 4.4623e- - 1s 102us/step - loss: 0.0023 - mean_squared_error: 4.4611e-04 - val_loss: 0.0023 - val_mean_squared_error: 4.5939e-04\n",
      "Epoch 27/40\n",
      "14000/14000 [==============================] - ETA: 1s - loss: 0.0024 - mean_squared_error: 5.6271e- - ETA: 1s - loss: 0.0023 - mean_squared_error: 4.2652e- - ETA: 1s - loss: 0.0023 - mean_squared_error: 4.2840e- - ETA: 1s - loss: 0.0023 - mean_squared_error: 4.3393e- - ETA: 1s - loss: 0.0023 - mean_squared_error: 4.2509e- - ETA: 0s - loss: 0.0023 - mean_squared_error: 4.3603e- - ETA: 0s - loss: 0.0023 - mean_squared_error: 4.4278e- - ETA: 0s - loss: 0.0023 - mean_squared_error: 4.5089e- - ETA: 0s - loss: 0.0023 - mean_squared_error: 4.4611e- - ETA: 0s - loss: 0.0023 - mean_squared_error: 4.4443e- - ETA: 0s - loss: 0.0023 - mean_squared_error: 4.4738e- - ETA: 0s - loss: 0.0023 - mean_squared_error: 4.4935e- - ETA: 0s - loss: 0.0023 - mean_squared_error: 4.5274e- - ETA: 0s - loss: 0.0023 - mean_squared_error: 4.6377e- - ETA: 0s - loss: 0.0024 - mean_squared_error: 4.7022e- - ETA: 0s - loss: 0.0023 - mean_squared_error: 4.6438e- - ETA: 0s - loss: 0.0023 - mean_squared_error: 4.6390e- - ETA: 0s - loss: 0.0023 - mean_squared_error: 4.6448e- - ETA: 0s - loss: 0.0023 - mean_squared_error: 4.6787e- - ETA: 0s - loss: 0.0024 - mean_squared_error: 4.8005e- - ETA: 0s - loss: 0.0024 - mean_squared_error: 4.8052e- - ETA: 0s - loss: 0.0024 - mean_squared_error: 4.7681e- - 1s 87us/step - loss: 0.0024 - mean_squared_error: 4.7332e-04 - val_loss: 0.0023 - val_mean_squared_error: 4.4931e-04\n",
      "Epoch 28/40\n",
      "14000/14000 [==============================] - ETA: 1s - loss: 0.0023 - mean_squared_error: 4.4106e- - ETA: 1s - loss: 0.0023 - mean_squared_error: 4.0590e- - ETA: 1s - loss: 0.0023 - mean_squared_error: 3.9229e- - ETA: 0s - loss: 0.0023 - mean_squared_error: 4.0567e- - ETA: 0s - loss: 0.0023 - mean_squared_error: 4.3148e- - ETA: 0s - loss: 0.0023 - mean_squared_error: 4.2737e- - ETA: 0s - loss: 0.0023 - mean_squared_error: 4.2874e- - ETA: 0s - loss: 0.0023 - mean_squared_error: 4.3861e- - ETA: 0s - loss: 0.0023 - mean_squared_error: 4.5279e- - ETA: 0s - loss: 0.0023 - mean_squared_error: 4.4970e- - ETA: 0s - loss: 0.0023 - mean_squared_error: 4.4852e- - ETA: 0s - loss: 0.0023 - mean_squared_error: 4.4765e- - ETA: 0s - loss: 0.0023 - mean_squared_error: 4.4375e- - ETA: 0s - loss: 0.0023 - mean_squared_error: 4.4598e- - ETA: 0s - loss: 0.0023 - mean_squared_error: 4.5065e- - ETA: 0s - loss: 0.0023 - mean_squared_error: 4.4859e- - ETA: 0s - loss: 0.0023 - mean_squared_error: 4.5387e- - ETA: 0s - loss: 0.0023 - mean_squared_error: 4.5117e- - ETA: 0s - loss: 0.0023 - mean_squared_error: 4.4776e- - ETA: 0s - loss: 0.0023 - mean_squared_error: 4.4436e- - ETA: 0s - loss: 0.0023 - mean_squared_error: 4.4471e- - ETA: 0s - loss: 0.0023 - mean_squared_error: 4.4261e- - ETA: 0s - loss: 0.0023 - mean_squared_error: 4.4008e- - 1s 89us/step - loss: 0.0023 - mean_squared_error: 4.3997e-04 - val_loss: 0.0023 - val_mean_squared_error: 4.3093e-04\n",
      "Epoch 29/40\n",
      "14000/14000 [==============================] - ETA: 1s - loss: 0.0023 - mean_squared_error: 4.1885e- - ETA: 1s - loss: 0.0023 - mean_squared_error: 4.3781e- - ETA: 1s - loss: 0.0023 - mean_squared_error: 4.1888e- - ETA: 0s - loss: 0.0023 - mean_squared_error: 4.3362e- - ETA: 0s - loss: 0.0023 - mean_squared_error: 4.3935e- - ETA: 0s - loss: 0.0023 - mean_squared_error: 4.4397e- - ETA: 0s - loss: 0.0023 - mean_squared_error: 4.3354e- - ETA: 0s - loss: 0.0023 - mean_squared_error: 4.6226e- - ETA: 0s - loss: 0.0023 - mean_squared_error: 4.7424e- - ETA: 0s - loss: 0.0024 - mean_squared_error: 4.8230e- - ETA: 0s - loss: 0.0024 - mean_squared_error: 4.8312e- - ETA: 0s - loss: 0.0023 - mean_squared_error: 4.7994e- - ETA: 0s - loss: 0.0023 - mean_squared_error: 4.7980e- - ETA: 0s - loss: 0.0023 - mean_squared_error: 4.7372e- - ETA: 0s - loss: 0.0023 - mean_squared_error: 4.6812e- - ETA: 0s - loss: 0.0023 - mean_squared_error: 4.6632e- - ETA: 0s - loss: 0.0023 - mean_squared_error: 4.6173e- - ETA: 0s - loss: 0.0023 - mean_squared_error: 4.5807e- - ETA: 0s - loss: 0.0023 - mean_squared_error: 4.5409e- - ETA: 0s - loss: 0.0023 - mean_squared_error: 4.5596e- - ETA: 0s - loss: 0.0023 - mean_squared_error: 4.6081e- - ETA: 0s - loss: 0.0023 - mean_squared_error: 4.6391e- - ETA: 0s - loss: 0.0023 - mean_squared_error: 4.6108e- - 1s 89us/step - loss: 0.0023 - mean_squared_error: 4.6146e-04 - val_loss: 0.0022 - val_mean_squared_error: 3.8423e-04\n",
      "Epoch 30/40\n",
      "14000/14000 [==============================] - ETA: 1s - loss: 0.0024 - mean_squared_error: 5.7041e- - ETA: 1s - loss: 0.0023 - mean_squared_error: 4.6809e- - ETA: 1s - loss: 0.0023 - mean_squared_error: 4.5425e- - ETA: 0s - loss: 0.0023 - mean_squared_error: 4.6265e- - ETA: 0s - loss: 0.0023 - mean_squared_error: 4.5522e- - ETA: 0s - loss: 0.0023 - mean_squared_error: 4.6110e- - ETA: 0s - loss: 0.0024 - mean_squared_error: 5.0627e- - ETA: 0s - loss: 0.0024 - mean_squared_error: 5.1941e- - ETA: 0s - loss: 0.0024 - mean_squared_error: 5.2458e- - ETA: 0s - loss: 0.0024 - mean_squared_error: 5.0882e- - ETA: 0s - loss: 0.0024 - mean_squared_error: 5.0372e- - ETA: 0s - loss: 0.0024 - mean_squared_error: 4.9790e- - ETA: 0s - loss: 0.0024 - mean_squared_error: 5.0249e- - ETA: 0s - loss: 0.0024 - mean_squared_error: 4.9808e- - ETA: 0s - loss: 0.0024 - mean_squared_error: 4.9224e- - ETA: 0s - loss: 0.0023 - mean_squared_error: 4.8499e- - ETA: 0s - loss: 0.0023 - mean_squared_error: 4.7999e- - ETA: 0s - loss: 0.0023 - mean_squared_error: 4.7559e- - ETA: 0s - loss: 0.0023 - mean_squared_error: 4.7363e- - ETA: 0s - loss: 0.0023 - mean_squared_error: 4.6868e- - ETA: 0s - loss: 0.0023 - mean_squared_error: 4.6714e- - ETA: 0s - loss: 0.0023 - mean_squared_error: 4.6601e- - 1s 88us/step - loss: 0.0023 - mean_squared_error: 4.6653e-04 - val_loss: 0.0023 - val_mean_squared_error: 4.2158e-04\n",
      "Epoch 31/40\n"
     ]
    },
    {
     "name": "stdout",
     "output_type": "stream",
     "text": [
      "14000/14000 [==============================] - ETA: 1s - loss: 0.0023 - mean_squared_error: 4.5891e- - ETA: 1s - loss: 0.0022 - mean_squared_error: 3.7967e- - ETA: 1s - loss: 0.0023 - mean_squared_error: 4.1203e- - ETA: 0s - loss: 0.0024 - mean_squared_error: 5.1893e- - ETA: 0s - loss: 0.0024 - mean_squared_error: 5.0650e- - ETA: 0s - loss: 0.0023 - mean_squared_error: 4.8783e- - ETA: 0s - loss: 0.0023 - mean_squared_error: 4.7872e- - ETA: 0s - loss: 0.0023 - mean_squared_error: 4.6800e- - ETA: 0s - loss: 0.0023 - mean_squared_error: 4.6563e- - ETA: 0s - loss: 0.0023 - mean_squared_error: 4.6406e- - ETA: 0s - loss: 0.0023 - mean_squared_error: 4.7093e- - ETA: 0s - loss: 0.0023 - mean_squared_error: 4.6529e- - ETA: 0s - loss: 0.0023 - mean_squared_error: 4.7038e- - ETA: 0s - loss: 0.0023 - mean_squared_error: 4.6599e- - ETA: 0s - loss: 0.0023 - mean_squared_error: 4.6019e- - ETA: 0s - loss: 0.0023 - mean_squared_error: 4.5871e- - ETA: 0s - loss: 0.0023 - mean_squared_error: 4.5389e- - ETA: 0s - loss: 0.0023 - mean_squared_error: 4.5725e- - ETA: 0s - loss: 0.0023 - mean_squared_error: 4.5549e- - ETA: 0s - loss: 0.0023 - mean_squared_error: 4.5685e- - ETA: 0s - loss: 0.0023 - mean_squared_error: 4.5416e- - ETA: 0s - loss: 0.0023 - mean_squared_error: 4.5195e- - 1s 88us/step - loss: 0.0023 - mean_squared_error: 4.4832e-04 - val_loss: 0.0022 - val_mean_squared_error: 3.9471e-04\n",
      "Epoch 32/40\n",
      "14000/14000 [==============================] - ETA: 1s - loss: 0.0023 - mean_squared_error: 4.1424e- - ETA: 1s - loss: 0.0023 - mean_squared_error: 4.2107e- - ETA: 1s - loss: 0.0022 - mean_squared_error: 3.8863e- - ETA: 1s - loss: 0.0022 - mean_squared_error: 3.8839e- - ETA: 0s - loss: 0.0022 - mean_squared_error: 3.9444e- - ETA: 0s - loss: 0.0023 - mean_squared_error: 4.1463e- - ETA: 0s - loss: 0.0023 - mean_squared_error: 4.1136e- - ETA: 0s - loss: 0.0023 - mean_squared_error: 4.1614e- - ETA: 0s - loss: 0.0023 - mean_squared_error: 4.2014e- - ETA: 0s - loss: 0.0023 - mean_squared_error: 4.1824e- - ETA: 0s - loss: 0.0023 - mean_squared_error: 4.2632e- - ETA: 0s - loss: 0.0023 - mean_squared_error: 4.2898e- - ETA: 0s - loss: 0.0023 - mean_squared_error: 4.2522e- - ETA: 0s - loss: 0.0023 - mean_squared_error: 4.2815e- - ETA: 0s - loss: 0.0023 - mean_squared_error: 4.3170e- - ETA: 0s - loss: 0.0023 - mean_squared_error: 4.4726e- - ETA: 0s - loss: 0.0023 - mean_squared_error: 4.4624e- - ETA: 0s - loss: 0.0023 - mean_squared_error: 4.5010e- - ETA: 0s - loss: 0.0023 - mean_squared_error: 4.5222e- - ETA: 0s - loss: 0.0023 - mean_squared_error: 4.5675e- - ETA: 0s - loss: 0.0023 - mean_squared_error: 4.6976e- - ETA: 0s - loss: 0.0023 - mean_squared_error: 4.8165e- - 1s 87us/step - loss: 0.0023 - mean_squared_error: 4.8703e-04 - val_loss: 0.0023 - val_mean_squared_error: 4.5201e-04\n",
      "Epoch 33/40\n",
      "14000/14000 [==============================] - ETA: 1s - loss: 0.0023 - mean_squared_error: 4.7558e- - ETA: 1s - loss: 0.0024 - mean_squared_error: 5.6589e- - ETA: 1s - loss: 0.0024 - mean_squared_error: 5.6157e- - ETA: 0s - loss: 0.0024 - mean_squared_error: 5.3875e- - ETA: 0s - loss: 0.0023 - mean_squared_error: 5.0008e- - ETA: 0s - loss: 0.0023 - mean_squared_error: 4.8907e- - ETA: 0s - loss: 0.0023 - mean_squared_error: 4.8205e- - ETA: 0s - loss: 0.0023 - mean_squared_error: 4.8066e- - ETA: 0s - loss: 0.0023 - mean_squared_error: 4.6898e- - ETA: 0s - loss: 0.0023 - mean_squared_error: 4.5788e- - ETA: 0s - loss: 0.0023 - mean_squared_error: 4.5270e- - ETA: 0s - loss: 0.0023 - mean_squared_error: 4.4873e- - ETA: 0s - loss: 0.0023 - mean_squared_error: 4.4989e- - ETA: 0s - loss: 0.0023 - mean_squared_error: 4.4442e- - ETA: 0s - loss: 0.0023 - mean_squared_error: 4.3833e- - ETA: 0s - loss: 0.0023 - mean_squared_error: 4.4599e- - ETA: 0s - loss: 0.0023 - mean_squared_error: 4.4281e- - ETA: 0s - loss: 0.0023 - mean_squared_error: 4.4106e- - ETA: 0s - loss: 0.0023 - mean_squared_error: 4.4243e- - ETA: 0s - loss: 0.0023 - mean_squared_error: 4.4238e- - ETA: 0s - loss: 0.0023 - mean_squared_error: 4.4248e- - ETA: 0s - loss: 0.0023 - mean_squared_error: 4.4501e- - 1s 87us/step - loss: 0.0023 - mean_squared_error: 4.4383e-04 - val_loss: 0.0022 - val_mean_squared_error: 3.8800e-04\n",
      "Epoch 34/40\n",
      "14000/14000 [==============================] - ETA: 1s - loss: 0.0021 - mean_squared_error: 3.0767e- - ETA: 1s - loss: 0.0023 - mean_squared_error: 4.4098e- - ETA: 1s - loss: 0.0023 - mean_squared_error: 4.6262e- - ETA: 1s - loss: 0.0023 - mean_squared_error: 4.4571e- - ETA: 0s - loss: 0.0023 - mean_squared_error: 4.3680e- - ETA: 0s - loss: 0.0023 - mean_squared_error: 4.5185e- - ETA: 0s - loss: 0.0023 - mean_squared_error: 4.5196e- - ETA: 0s - loss: 0.0023 - mean_squared_error: 4.5696e- - ETA: 0s - loss: 0.0023 - mean_squared_error: 4.5567e- - ETA: 0s - loss: 0.0023 - mean_squared_error: 4.5117e- - ETA: 0s - loss: 0.0023 - mean_squared_error: 4.4819e- - ETA: 0s - loss: 0.0023 - mean_squared_error: 4.4753e- - ETA: 0s - loss: 0.0023 - mean_squared_error: 4.5095e- - ETA: 0s - loss: 0.0023 - mean_squared_error: 4.4433e- - ETA: 0s - loss: 0.0023 - mean_squared_error: 4.4635e- - ETA: 0s - loss: 0.0023 - mean_squared_error: 4.4395e- - ETA: 0s - loss: 0.0023 - mean_squared_error: 4.5140e- - ETA: 0s - loss: 0.0023 - mean_squared_error: 4.4923e- - ETA: 0s - loss: 0.0023 - mean_squared_error: 4.4418e- - ETA: 0s - loss: 0.0023 - mean_squared_error: 4.3938e- - ETA: 0s - loss: 0.0023 - mean_squared_error: 4.3881e- - ETA: 0s - loss: 0.0023 - mean_squared_error: 4.3658e- - 1s 86us/step - loss: 0.0023 - mean_squared_error: 4.3569e-04 - val_loss: 0.0024 - val_mean_squared_error: 5.6651e-04\n",
      "Epoch 35/40\n",
      "14000/14000 [==============================] - ETA: 1s - loss: 0.0023 - mean_squared_error: 4.9411e- - ETA: 1s - loss: 0.0024 - mean_squared_error: 5.7177e- - ETA: 1s - loss: 0.0024 - mean_squared_error: 5.4142e- - ETA: 0s - loss: 0.0024 - mean_squared_error: 5.3497e- - ETA: 0s - loss: 0.0023 - mean_squared_error: 5.1059e- - ETA: 0s - loss: 0.0023 - mean_squared_error: 5.0627e- - ETA: 0s - loss: 0.0023 - mean_squared_error: 4.9638e- - ETA: 0s - loss: 0.0023 - mean_squared_error: 5.0312e- - ETA: 0s - loss: 0.0023 - mean_squared_error: 5.1215e- - ETA: 0s - loss: 0.0023 - mean_squared_error: 5.0880e- - ETA: 0s - loss: 0.0023 - mean_squared_error: 5.0664e- - ETA: 0s - loss: 0.0023 - mean_squared_error: 4.9673e- - ETA: 0s - loss: 0.0023 - mean_squared_error: 4.9138e- - ETA: 0s - loss: 0.0023 - mean_squared_error: 4.9496e- - ETA: 0s - loss: 0.0023 - mean_squared_error: 5.1139e- - ETA: 0s - loss: 0.0023 - mean_squared_error: 5.1055e- - ETA: 0s - loss: 0.0023 - mean_squared_error: 5.0616e- - ETA: 0s - loss: 0.0023 - mean_squared_error: 5.0044e- - ETA: 0s - loss: 0.0023 - mean_squared_error: 4.9331e- - ETA: 0s - loss: 0.0023 - mean_squared_error: 4.8995e- - ETA: 0s - loss: 0.0023 - mean_squared_error: 4.8436e- - ETA: 0s - loss: 0.0023 - mean_squared_error: 4.8243e- - 1s 88us/step - loss: 0.0023 - mean_squared_error: 4.7863e-04 - val_loss: 0.0023 - val_mean_squared_error: 4.8521e-04\n",
      "Epoch 36/40\n"
     ]
    },
    {
     "name": "stdout",
     "output_type": "stream",
     "text": [
      "14000/14000 [==============================] - ETA: 1s - loss: 0.0026 - mean_squared_error: 8.1699e- - ETA: 1s - loss: 0.0023 - mean_squared_error: 4.4100e- - ETA: 1s - loss: 0.0022 - mean_squared_error: 4.1994e- - ETA: 0s - loss: 0.0022 - mean_squared_error: 4.1304e- - ETA: 0s - loss: 0.0022 - mean_squared_error: 4.1222e- - ETA: 0s - loss: 0.0022 - mean_squared_error: 4.1797e- - ETA: 0s - loss: 0.0023 - mean_squared_error: 4.4419e- - ETA: 0s - loss: 0.0023 - mean_squared_error: 4.5513e- - ETA: 0s - loss: 0.0023 - mean_squared_error: 4.6629e- - ETA: 0s - loss: 0.0023 - mean_squared_error: 4.6506e- - ETA: 0s - loss: 0.0023 - mean_squared_error: 4.6092e- - ETA: 0s - loss: 0.0023 - mean_squared_error: 4.5480e- - ETA: 0s - loss: 0.0023 - mean_squared_error: 4.5077e- - ETA: 0s - loss: 0.0023 - mean_squared_error: 4.5141e- - ETA: 0s - loss: 0.0023 - mean_squared_error: 4.4684e- - ETA: 0s - loss: 0.0023 - mean_squared_error: 4.4169e- - ETA: 0s - loss: 0.0023 - mean_squared_error: 4.4509e- - ETA: 0s - loss: 0.0023 - mean_squared_error: 4.4770e- - ETA: 0s - loss: 0.0023 - mean_squared_error: 4.4446e- - ETA: 0s - loss: 0.0023 - mean_squared_error: 4.4346e- - ETA: 0s - loss: 0.0023 - mean_squared_error: 4.4400e- - ETA: 0s - loss: 0.0023 - mean_squared_error: 4.4331e- - 1s 87us/step - loss: 0.0023 - mean_squared_error: 4.4286e-04 - val_loss: 0.0022 - val_mean_squared_error: 3.9146e-04\n",
      "Epoch 37/40\n",
      "14000/14000 [==============================] - ETA: 1s - loss: 0.0022 - mean_squared_error: 4.0601e- - ETA: 1s - loss: 0.0023 - mean_squared_error: 4.4932e- - ETA: 0s - loss: 0.0022 - mean_squared_error: 4.3072e- - ETA: 0s - loss: 0.0022 - mean_squared_error: 4.2939e- - ETA: 0s - loss: 0.0022 - mean_squared_error: 4.3275e- - ETA: 0s - loss: 0.0022 - mean_squared_error: 4.2420e- - ETA: 0s - loss: 0.0022 - mean_squared_error: 4.1871e- - ETA: 0s - loss: 0.0022 - mean_squared_error: 4.1982e- - ETA: 0s - loss: 0.0022 - mean_squared_error: 4.1499e- - ETA: 0s - loss: 0.0022 - mean_squared_error: 4.2326e- - ETA: 0s - loss: 0.0022 - mean_squared_error: 4.2417e- - ETA: 0s - loss: 0.0022 - mean_squared_error: 4.2371e- - ETA: 0s - loss: 0.0022 - mean_squared_error: 4.2093e- - ETA: 0s - loss: 0.0022 - mean_squared_error: 4.2311e- - ETA: 0s - loss: 0.0022 - mean_squared_error: 4.2602e- - ETA: 0s - loss: 0.0022 - mean_squared_error: 4.2535e- - ETA: 0s - loss: 0.0022 - mean_squared_error: 4.2209e- - ETA: 0s - loss: 0.0022 - mean_squared_error: 4.2428e- - ETA: 0s - loss: 0.0022 - mean_squared_error: 4.2432e- - ETA: 0s - loss: 0.0022 - mean_squared_error: 4.2278e- - ETA: 0s - loss: 0.0022 - mean_squared_error: 4.1989e- - ETA: 0s - loss: 0.0022 - mean_squared_error: 4.1859e- - 1s 86us/step - loss: 0.0022 - mean_squared_error: 4.1959e-04 - val_loss: 0.0022 - val_mean_squared_error: 4.3083e-04\n",
      "Epoch 38/40\n",
      "14000/14000 [==============================] - ETA: 1s - loss: 0.0023 - mean_squared_error: 4.8651e- - ETA: 1s - loss: 0.0023 - mean_squared_error: 4.4392e- - ETA: 1s - loss: 0.0023 - mean_squared_error: 4.4425e- - ETA: 0s - loss: 0.0022 - mean_squared_error: 4.2449e- - ETA: 0s - loss: 0.0022 - mean_squared_error: 4.1516e- - ETA: 0s - loss: 0.0022 - mean_squared_error: 4.1107e- - ETA: 0s - loss: 0.0022 - mean_squared_error: 4.0787e- - ETA: 0s - loss: 0.0022 - mean_squared_error: 4.1088e- - ETA: 0s - loss: 0.0022 - mean_squared_error: 4.1307e- - ETA: 0s - loss: 0.0022 - mean_squared_error: 4.1972e- - ETA: 0s - loss: 0.0022 - mean_squared_error: 4.3556e- - ETA: 0s - loss: 0.0022 - mean_squared_error: 4.3556e- - ETA: 0s - loss: 0.0022 - mean_squared_error: 4.3478e- - ETA: 0s - loss: 0.0022 - mean_squared_error: 4.4145e- - ETA: 0s - loss: 0.0022 - mean_squared_error: 4.3838e- - ETA: 0s - loss: 0.0022 - mean_squared_error: 4.3760e- - ETA: 0s - loss: 0.0022 - mean_squared_error: 4.4105e- - ETA: 0s - loss: 0.0022 - mean_squared_error: 4.3895e- - ETA: 0s - loss: 0.0022 - mean_squared_error: 4.3914e- - ETA: 0s - loss: 0.0022 - mean_squared_error: 4.3880e- - ETA: 0s - loss: 0.0022 - mean_squared_error: 4.4096e- - ETA: 0s - loss: 0.0023 - mean_squared_error: 4.4467e- - 1s 89us/step - loss: 0.0022 - mean_squared_error: 4.4335e-04 - val_loss: 0.0022 - val_mean_squared_error: 4.0699e-04\n",
      "Epoch 39/40\n",
      "14000/14000 [==============================] - ETA: 2s - loss: 0.0024 - mean_squared_error: 5.7977e- - ETA: 1s - loss: 0.0022 - mean_squared_error: 4.0124e- - ETA: 1s - loss: 0.0022 - mean_squared_error: 4.0494e- - ETA: 1s - loss: 0.0022 - mean_squared_error: 4.3522e- - ETA: 1s - loss: 0.0022 - mean_squared_error: 4.3269e- - ETA: 0s - loss: 0.0023 - mean_squared_error: 4.6886e- - ETA: 0s - loss: 0.0023 - mean_squared_error: 4.9916e- - ETA: 0s - loss: 0.0023 - mean_squared_error: 5.0869e- - ETA: 0s - loss: 0.0023 - mean_squared_error: 5.0433e- - ETA: 0s - loss: 0.0023 - mean_squared_error: 5.0223e- - ETA: 0s - loss: 0.0023 - mean_squared_error: 4.8823e- - ETA: 0s - loss: 0.0023 - mean_squared_error: 4.8517e- - ETA: 0s - loss: 0.0023 - mean_squared_error: 4.8387e- - ETA: 0s - loss: 0.0023 - mean_squared_error: 4.8484e- - ETA: 0s - loss: 0.0023 - mean_squared_error: 4.8150e- - ETA: 0s - loss: 0.0023 - mean_squared_error: 4.7648e- - ETA: 0s - loss: 0.0023 - mean_squared_error: 4.7254e- - ETA: 0s - loss: 0.0023 - mean_squared_error: 4.6655e- - ETA: 0s - loss: 0.0023 - mean_squared_error: 4.6111e- - ETA: 0s - loss: 0.0023 - mean_squared_error: 4.5825e- - ETA: 0s - loss: 0.0023 - mean_squared_error: 4.5698e- - ETA: 0s - loss: 0.0023 - mean_squared_error: 4.6016e- - 1s 87us/step - loss: 0.0023 - mean_squared_error: 4.6066e-04 - val_loss: 0.0022 - val_mean_squared_error: 3.9750e-04\n",
      "Epoch 40/40\n",
      "14000/14000 [==============================] - ETA: 1s - loss: 0.0021 - mean_squared_error: 2.8849e- - ETA: 1s - loss: 0.0022 - mean_squared_error: 4.5084e- - ETA: 1s - loss: 0.0022 - mean_squared_error: 4.2929e- - ETA: 0s - loss: 0.0022 - mean_squared_error: 4.1100e- - ETA: 0s - loss: 0.0022 - mean_squared_error: 4.1528e- - ETA: 0s - loss: 0.0022 - mean_squared_error: 4.1246e- - ETA: 0s - loss: 0.0022 - mean_squared_error: 4.2363e- - ETA: 0s - loss: 0.0022 - mean_squared_error: 4.3919e- - ETA: 0s - loss: 0.0022 - mean_squared_error: 4.3808e- - ETA: 0s - loss: 0.0022 - mean_squared_error: 4.3300e- - ETA: 0s - loss: 0.0022 - mean_squared_error: 4.3421e- - ETA: 0s - loss: 0.0022 - mean_squared_error: 4.3451e- - ETA: 0s - loss: 0.0022 - mean_squared_error: 4.3119e- - ETA: 0s - loss: 0.0022 - mean_squared_error: 4.3272e- - ETA: 0s - loss: 0.0022 - mean_squared_error: 4.3590e- - ETA: 0s - loss: 0.0022 - mean_squared_error: 4.3758e- - ETA: 0s - loss: 0.0022 - mean_squared_error: 4.3652e- - ETA: 0s - loss: 0.0022 - mean_squared_error: 4.3840e- - ETA: 0s - loss: 0.0022 - mean_squared_error: 4.3991e- - ETA: 0s - loss: 0.0022 - mean_squared_error: 4.3800e- - ETA: 0s - loss: 0.0022 - mean_squared_error: 4.3708e- - ETA: 0s - loss: 0.0022 - mean_squared_error: 4.5026e- - 1s 89us/step - loss: 0.0022 - mean_squared_error: 4.5381e-04 - val_loss: 0.0022 - val_mean_squared_error: 4.1670e-04\n",
      "Training Time: 52.594531774520874\n"
     ]
    }
   ],
   "source": [
    "N_channels = 40\n",
    "file_path = '/Users/jackkelly/Desktop/Building_Model/Data/40_channels_data_blocks_20000.csv'\n",
    "hist, model, X_train, Y_train, X_val, Y_val, X_test, Y_test = build_model(N_channels, file_path)"
   ]
  },
  {
   "cell_type": "code",
   "execution_count": 21,
   "metadata": {},
   "outputs": [
    {
     "data": {
      "text/plain": [
       "{'val_loss': [0.022891073688864706,\n",
       "  0.00495265010635679,\n",
       "  0.0029805324555685123,\n",
       "  0.002846163478602345,\n",
       "  0.0030415670916748546,\n",
       "  0.002642792551855867,\n",
       "  0.002562598088523373,\n",
       "  0.0026133517233344417,\n",
       "  0.002454530949316298,\n",
       "  0.002438369683222845,\n",
       "  0.0027450582966363677,\n",
       "  0.0035638437921491762,\n",
       "  0.00250020299355189,\n",
       "  0.0024145809915692854,\n",
       "  0.0024008141388185324,\n",
       "  0.002529135332830871,\n",
       "  0.0023844516575336457,\n",
       "  0.0024468160957718888,\n",
       "  0.0023246556577893596,\n",
       "  0.0023286412380790957,\n",
       "  0.0023296226797004543,\n",
       "  0.002313387600549807,\n",
       "  0.00232430546823889,\n",
       "  0.0023135436227700364,\n",
       "  0.002283666332407544,\n",
       "  0.0023445130871453633,\n",
       "  0.002326497777597979,\n",
       "  0.0023013423355296254,\n",
       "  0.002247424172392736,\n",
       "  0.0022778307591409734,\n",
       "  0.0022438423294418803,\n",
       "  0.00229362022698236,\n",
       "  0.0022225860968853035,\n",
       "  0.0023947969191552452,\n",
       "  0.0023061463029589503,\n",
       "  0.0022065290029471118,\n",
       "  0.0022394684632308782,\n",
       "  0.002209079995828991,\n",
       "  0.002192230706879248,\n",
       "  0.0022047898406162857],\n",
       " 'val_mean_squared_error': [0.021183645352721214,\n",
       "  0.0030382827389985323,\n",
       "  0.0010039957705885172,\n",
       "  0.0008456778596155345,\n",
       "  0.0010328438365831971,\n",
       "  0.0006314596976153553,\n",
       "  0.0005521067650988698,\n",
       "  0.0006053493125364184,\n",
       "  0.00044996579526923597,\n",
       "  0.00044024683302268386,\n",
       "  0.0007518958300352097,\n",
       "  0.0015773241175338626,\n",
       "  0.0005209630471654236,\n",
       "  0.0004420958866830915,\n",
       "  0.0004355924029368907,\n",
       "  0.0005705991061404347,\n",
       "  0.000433771318057552,\n",
       "  0.0005041620461270213,\n",
       "  0.0003894707770086825,\n",
       "  0.0004002415807917714,\n",
       "  0.0004085154796484858,\n",
       "  0.00039877943345345557,\n",
       "  0.00041752541437745094,\n",
       "  0.0004138470394536853,\n",
       "  0.0003922666364815086,\n",
       "  0.0004593926714733243,\n",
       "  0.00044931320007890463,\n",
       "  0.00043093471322208643,\n",
       "  0.0003842282167170197,\n",
       "  0.00042157722054980695,\n",
       "  0.000394710194086656,\n",
       "  0.0004520053043961525,\n",
       "  0.0003880018775817007,\n",
       "  0.0005665100179612637,\n",
       "  0.0004852057318203151,\n",
       "  0.00039146372000686824,\n",
       "  0.0004308279021643102,\n",
       "  0.0004069852002430707,\n",
       "  0.0003974969731643796,\n",
       "  0.0004167028528172523],\n",
       " 'loss': [0.08116033484893186,\n",
       "  0.010441194095582302,\n",
       "  0.0035357379250261665,\n",
       "  0.0027989198513761427,\n",
       "  0.0027786265085451307,\n",
       "  0.0026592144782022972,\n",
       "  0.002632718475868127,\n",
       "  0.002575764633399168,\n",
       "  0.0025184654612094163,\n",
       "  0.0025866945896497262,\n",
       "  0.002490382862194175,\n",
       "  0.0025132647910088833,\n",
       "  0.0025157644728564525,\n",
       "  0.0025037734532961623,\n",
       "  0.0024431564995320513,\n",
       "  0.002442589234494205,\n",
       "  0.00244393370401979,\n",
       "  0.0024699549228285574,\n",
       "  0.0024127831204927394,\n",
       "  0.0024053500035744425,\n",
       "  0.002392961887991987,\n",
       "  0.0023470888500534263,\n",
       "  0.0023821817663099085,\n",
       "  0.0023612731192427286,\n",
       "  0.0024009275829053617,\n",
       "  0.002334064924840017,\n",
       "  0.00235467226306043,\n",
       "  0.002313800349066566,\n",
       "  0.002328281018467221,\n",
       "  0.002325833684448818,\n",
       "  0.0023007685274517697,\n",
       "  0.0023327236333196715,\n",
       "  0.002281866144255868,\n",
       "  0.002267246610002725,\n",
       "  0.0023030314510688187,\n",
       "  0.0022606241378567314,\n",
       "  0.0022315076740757962,\n",
       "  0.0022488066802366768,\n",
       "  0.002259345948579721,\n",
       "  0.002245354045548343],\n",
       " 'mean_squared_error': [0.07966085,\n",
       "  0.008611469,\n",
       "  0.0015851642,\n",
       "  0.0008087085,\n",
       "  0.0007731799,\n",
       "  0.0006489611,\n",
       "  0.0006210508,\n",
       "  0.00056654675,\n",
       "  0.00051200326,\n",
       "  0.00058476627,\n",
       "  0.00049485726,\n",
       "  0.00052326085,\n",
       "  0.00053323334,\n",
       "  0.0005288033,\n",
       "  0.00047390326,\n",
       "  0.00048087456,\n",
       "  0.0004890081,\n",
       "  0.0005230698,\n",
       "  0.00047392465,\n",
       "  0.00047374004,\n",
       "  0.00046828404,\n",
       "  0.00042936864,\n",
       "  0.0004713011,\n",
       "  0.0004585451,\n",
       "  0.00050587597,\n",
       "  0.00044611073,\n",
       "  0.00047332354,\n",
       "  0.00043997442,\n",
       "  0.00046145794,\n",
       "  0.0004665298,\n",
       "  0.0004483195,\n",
       "  0.00048702533,\n",
       "  0.00044383304,\n",
       "  0.00043568522,\n",
       "  0.00047862603,\n",
       "  0.00044285614,\n",
       "  0.00041958856,\n",
       "  0.00044334575,\n",
       "  0.00046066198,\n",
       "  0.00045381344]}"
      ]
     },
     "execution_count": 21,
     "metadata": {},
     "output_type": "execute_result"
    }
   ],
   "source": [
    "hist.history"
   ]
  },
  {
   "cell_type": "code",
   "execution_count": 22,
   "metadata": {},
   "outputs": [
    {
     "name": "stdout",
     "output_type": "stream",
     "text": [
      "90th percentile mse =  0.0008987610229637139 dB\n"
     ]
    },
    {
     "data": {
      "image/png": "[encoded data removed]",
      "text/plain": [
       "<Figure size 432x288 with 1 Axes>"
      ]
     },
     "metadata": {
      "needs_background": "light"
     },
     "output_type": "display_data"
    }
   ],
   "source": [
    "# name = '/Users/jackkelly/Desktop/Building_Model/Figures/Comparison.png'\n",
    "# plt.title('Comparison of new and old ANN model')\n",
    "# plt.plot(hypermodel_hist.history['mean_squared_error'], label='[Trained ANN] Train')\n",
    "# plt.plot(hypermodel_hist.history['val_mean_squared_error'], label='[Trained ANN] Validation')\n",
    "# plt.plot(hist.history['val_mean_squared_error'], label='[Non-tuned ANN] Validation')\n",
    "# plt.ylabel('MSE')\n",
    "# plt.xlabel('Epoch')\n",
    "# plt.legend()\n",
    "# plt.savefig(name)\n",
    "# plt.show()\n",
    "\n",
    "predictions = model.predict(X_test)\n",
    "# mse = mean_squared_error(predictions, Y_test)\n",
    "mean_squared_error_store = []\n",
    "for i in range(3000):\n",
    "    mean_squared_error_store.append(mean_squared_error(predictions[i], Y_test[i]))\n",
    "x = np.sort(mean_squared_error_store)\n",
    "y = np.arange(1, len(x)+1) / len(x)\n",
    "\n",
    "predictions_hyper = hypermodel.predict(X_test)\n",
    "# mse = mean_squared_error(predictions, Y_test)\n",
    "mean_squared_error_store_hyper = []\n",
    "for i in range(3000):\n",
    "    mean_squared_error_store_hyper.append(mean_squared_error(predictions_hyper[i], Y_test[i]))\n",
    "x_hyper = np.sort(mean_squared_error_store_hyper)\n",
    "y_hyper = np.arange(1, len(x_hyper)+1) / len(x_hyper)\n",
    "\n",
    "\n",
    "# 500 elements in mseArray so 90th percentile is 450th element\n",
    "print('90th percentile mse = ', x[2700],'dB')\n",
    "mse_ecdf = plt.plot(x,y, marker='.', linestyle='none', color='blue', label='Non-Tuned')\n",
    "mse_ecdf = plt.plot(x_hyper, y_hyper, marker='*', linestyle='none', color='green', label='Tuned')\n",
    "plt.title('Cumulative Distribution Function Plot')\n",
    "plt.xlabel('MSE')\n",
    "plt.ylabel('CDF')\n",
    "plt.legend()\n",
    "plt.savefig('CDF_initial_ann.png')\n",
    "plt.show()"
   ]
  },
  {
   "cell_type": "code",
   "execution_count": null,
   "metadata": {},
   "outputs": [],
   "source": []
  }
 ],
 "metadata": {
  "kernelspec": {
   "display_name": "Python 3",
   "language": "python",
   "name": "python3"
  },
  "language_info": {
   "codemirror_mode": {
    "name": "ipython",
    "version": 3
   },
   "file_extension": ".py",
   "mimetype": "text/x-python",
   "name": "python",
   "nbconvert_exporter": "python",
   "pygments_lexer": "ipython3",
   "version": "3.6.10"
  }
 },
 "nbformat": 4,
 "nbformat_minor": 4
}
