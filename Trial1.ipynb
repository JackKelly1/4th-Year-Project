{
 "cells": [
  {
   "cell_type": "markdown",
   "metadata": {},
   "source": [
    "# Processing the data"
   ]
  },
  {
   "cell_type": "code",
   "execution_count": 1,
   "metadata": {},
   "outputs": [
    {
     "name": "stderr",
     "output_type": "stream",
     "text": [
      "Using TensorFlow backend.\n"
     ]
    }
   ],
   "source": [
    "import pandas as pd\n",
    "from sklearn import preprocessing\n",
    "from sklearn.model_selection import train_test_split\n",
    "from keras.models import Sequential\n",
    "from keras.layers import Dense\n",
    "import matplotlib.pyplot as plt"
   ]
  },
  {
   "cell_type": "code",
   "execution_count": 2,
   "metadata": {},
   "outputs": [],
   "source": [
    "df = pd.read_csv('gnpy_simulated_results-1.csv')\n",
    "# df.head()"
   ]
  },
  {
   "cell_type": "code",
   "execution_count": 3,
   "metadata": {},
   "outputs": [],
   "source": [
    "dataset = df.values\n",
    "# dataset"
   ]
  },
  {
   "cell_type": "code",
   "execution_count": 4,
   "metadata": {},
   "outputs": [],
   "source": [
    "# X1 = dataset[:,0]\n",
    "# X2 = dataset[:,35:43]\n",
    "X = df[['launch_power_dbm','Status_Ch1','Status_Ch2','Status_Ch3','Status_Ch4','Status_Ch5','Status_Ch6','Status_Ch7','Status_Ch8']]\n",
    "X = X.values"
   ]
  },
  {
   "cell_type": "code",
   "execution_count": 5,
   "metadata": {},
   "outputs": [],
   "source": [
    "# channel SNRs\n",
    "Y = dataset[:,43:50]"
   ]
  },
  {
   "cell_type": "code",
   "execution_count": 6,
   "metadata": {},
   "outputs": [],
   "source": [
    "# scaling between 0 and 1\n",
    "min_max_scaler = preprocessing.MinMaxScaler()\n",
    "X_scale = min_max_scaler.fit_transform(X)\n",
    "Y_scale = min_max_scaler.fit_transform(Y)"
   ]
  },
  {
   "cell_type": "code",
   "execution_count": 7,
   "metadata": {},
   "outputs": [],
   "source": [
    "X_train, X_val_and_test, Y_train, Y_val_and_test = train_test_split(X_scale, Y_scale, test_size=0.3)"
   ]
  },
  {
   "cell_type": "code",
   "execution_count": 8,
   "metadata": {},
   "outputs": [
    {
     "name": "stdout",
     "output_type": "stream",
     "text": [
      "(6299, 9) (1350, 9) (1350, 9) (6299, 7) (1350, 7) (1350, 7)\n"
     ]
    }
   ],
   "source": [
    "X_val, X_test, Y_val, Y_test = train_test_split(X_val_and_test, Y_val_and_test, test_size=0.5)\n",
    "print(X_train.shape, X_val.shape, X_test.shape, Y_train.shape, Y_val.shape, Y_test.shape)"
   ]
  },
  {
   "cell_type": "markdown",
   "metadata": {},
   "source": [
    "# Building the ANN"
   ]
  },
  {
   "cell_type": "code",
   "execution_count": 9,
   "metadata": {},
   "outputs": [],
   "source": [
    "model = Sequential()\n",
    "model.add(Dense(32, activation='relu', input_dim=9))\n",
    "model.add(Dense(32, activation='relu'))\n",
    "model.add(Dense(7, activation='sigmoid'))"
   ]
  },
  {
   "cell_type": "code",
   "execution_count": 10,
   "metadata": {},
   "outputs": [],
   "source": [
    "# sgd = stochastic gradient descent\n",
    "# loss function for outputs that take values 1 or 0 is called binary cross entropy\n",
    "# want to track the accuracy on top of the loss function\n",
    "model.compile(optimizer='adam', loss='mean_squared_error', metrics=['mean_squared_error','mean_absolute_error'])"
   ]
  },
  {
   "cell_type": "code",
   "execution_count": 11,
   "metadata": {},
   "outputs": [
    {
     "name": "stdout",
     "output_type": "stream",
     "text": [
      "Train on 6299 samples, validate on 1350 samples\n",
      "Epoch 1/40\n",
      "6299/6299 [==============================] - 1s 177us/step - loss: 0.1028 - mean_squared_error: 0.1028 - mean_absolute_error: 0.2936 - val_loss: 0.0304 - val_mean_squared_error: 0.0304 - val_mean_absolute_error: 0.1466\n",
      "Epoch 2/40\n",
      "6299/6299 [==============================] - 0s 52us/step - loss: 0.0125 - mean_squared_error: 0.0125 - mean_absolute_error: 0.0876 - val_loss: 0.0054 - val_mean_squared_error: 0.0054 - val_mean_absolute_error: 0.0600\n",
      "Epoch 3/40\n",
      "6299/6299 [==============================] - 0s 51us/step - loss: 0.0032 - mean_squared_error: 0.0032 - mean_absolute_error: 0.0455 - val_loss: 0.0022 - val_mean_squared_error: 0.0022 - val_mean_absolute_error: 0.0367\n",
      "Epoch 4/40\n",
      "6299/6299 [==============================] - 0s 51us/step - loss: 0.0018 - mean_squared_error: 0.0018 - mean_absolute_error: 0.0331 - val_loss: 0.0017 - val_mean_squared_error: 0.0017 - val_mean_absolute_error: 0.0294\n",
      "Epoch 5/40\n",
      "6299/6299 [==============================] - 0s 52us/step - loss: 0.0015 - mean_squared_error: 0.0015 - mean_absolute_error: 0.0284 - val_loss: 0.0014 - val_mean_squared_error: 0.0014 - val_mean_absolute_error: 0.0278\n",
      "Epoch 6/40\n",
      "6299/6299 [==============================] - 0s 51us/step - loss: 0.0014 - mean_squared_error: 0.0014 - mean_absolute_error: 0.0259 - val_loss: 0.0015 - val_mean_squared_error: 0.0015 - val_mean_absolute_error: 0.0287\n",
      "Epoch 7/40\n",
      "6299/6299 [==============================] - 0s 52us/step - loss: 0.0013 - mean_squared_error: 0.0013 - mean_absolute_error: 0.0242 - val_loss: 0.0013 - val_mean_squared_error: 0.0013 - val_mean_absolute_error: 0.0227\n",
      "Epoch 8/40\n",
      "6299/6299 [==============================] - 0s 51us/step - loss: 0.0012 - mean_squared_error: 0.0012 - mean_absolute_error: 0.0231 - val_loss: 0.0012 - val_mean_squared_error: 0.0012 - val_mean_absolute_error: 0.0231\n",
      "Epoch 9/40\n",
      "6299/6299 [==============================] - 0s 51us/step - loss: 0.0012 - mean_squared_error: 0.0012 - mean_absolute_error: 0.0221 - val_loss: 0.0011 - val_mean_squared_error: 0.0011 - val_mean_absolute_error: 0.0218\n",
      "Epoch 10/40\n",
      "6299/6299 [==============================] - 0s 56us/step - loss: 0.0012 - mean_squared_error: 0.0012 - mean_absolute_error: 0.0216 - val_loss: 0.0011 - val_mean_squared_error: 0.0011 - val_mean_absolute_error: 0.0201\n",
      "Epoch 11/40\n",
      "6299/6299 [==============================] - 0s 54us/step - loss: 0.0012 - mean_squared_error: 0.0012 - mean_absolute_error: 0.0220 - val_loss: 0.0012 - val_mean_squared_error: 0.0012 - val_mean_absolute_error: 0.0210\n",
      "Epoch 12/40\n",
      "6299/6299 [==============================] - 0s 51us/step - loss: 0.0012 - mean_squared_error: 0.0012 - mean_absolute_error: 0.0207 - val_loss: 0.0012 - val_mean_squared_error: 0.0012 - val_mean_absolute_error: 0.0200\n",
      "Epoch 13/40\n",
      "6299/6299 [==============================] - 0s 51us/step - loss: 0.0012 - mean_squared_error: 0.0012 - mean_absolute_error: 0.0209 - val_loss: 0.0011 - val_mean_squared_error: 0.0011 - val_mean_absolute_error: 0.0196\n",
      "Epoch 14/40\n",
      "6299/6299 [==============================] - 0s 51us/step - loss: 0.0012 - mean_squared_error: 0.0012 - mean_absolute_error: 0.0206 - val_loss: 0.0011 - val_mean_squared_error: 0.0011 - val_mean_absolute_error: 0.0189\n",
      "Epoch 15/40\n",
      "6299/6299 [==============================] - 0s 51us/step - loss: 0.0011 - mean_squared_error: 0.0011 - mean_absolute_error: 0.0200 - val_loss: 0.0011 - val_mean_squared_error: 0.0011 - val_mean_absolute_error: 0.0183\n",
      "Epoch 16/40\n",
      "6299/6299 [==============================] - 0s 51us/step - loss: 0.0011 - mean_squared_error: 0.0011 - mean_absolute_error: 0.0197 - val_loss: 0.0011 - val_mean_squared_error: 0.0011 - val_mean_absolute_error: 0.0186\n",
      "Epoch 17/40\n",
      "6299/6299 [==============================] - 0s 51us/step - loss: 0.0011 - mean_squared_error: 0.0011 - mean_absolute_error: 0.0202 - val_loss: 0.0011 - val_mean_squared_error: 0.0011 - val_mean_absolute_error: 0.0183\n",
      "Epoch 18/40\n",
      "6299/6299 [==============================] - 0s 52us/step - loss: 0.0011 - mean_squared_error: 0.0011 - mean_absolute_error: 0.0195 - val_loss: 0.0011 - val_mean_squared_error: 0.0011 - val_mean_absolute_error: 0.0185\n",
      "Epoch 19/40\n",
      "6299/6299 [==============================] - 0s 52us/step - loss: 0.0011 - mean_squared_error: 0.0011 - mean_absolute_error: 0.0194 - val_loss: 0.0012 - val_mean_squared_error: 0.0012 - val_mean_absolute_error: 0.0191\n",
      "Epoch 20/40\n",
      "6299/6299 [==============================] - 0s 51us/step - loss: 0.0011 - mean_squared_error: 0.0011 - mean_absolute_error: 0.0190 - val_loss: 0.0011 - val_mean_squared_error: 0.0011 - val_mean_absolute_error: 0.0177\n",
      "Epoch 21/40\n",
      "6299/6299 [==============================] - 0s 52us/step - loss: 0.0011 - mean_squared_error: 0.0011 - mean_absolute_error: 0.0196 - val_loss: 0.0011 - val_mean_squared_error: 0.0011 - val_mean_absolute_error: 0.0178\n",
      "Epoch 22/40\n",
      "6299/6299 [==============================] - 0s 65us/step - loss: 0.0011 - mean_squared_error: 0.0011 - mean_absolute_error: 0.0190 - val_loss: 0.0013 - val_mean_squared_error: 0.0013 - val_mean_absolute_error: 0.0199\n",
      "Epoch 23/40\n",
      "6299/6299 [==============================] - 0s 61us/step - loss: 0.0011 - mean_squared_error: 0.0011 - mean_absolute_error: 0.0192 - val_loss: 0.0011 - val_mean_squared_error: 0.0011 - val_mean_absolute_error: 0.0188\n",
      "Epoch 24/40\n",
      "6299/6299 [==============================] - 0s 55us/step - loss: 0.0011 - mean_squared_error: 0.0011 - mean_absolute_error: 0.0186 - val_loss: 0.0011 - val_mean_squared_error: 0.0011 - val_mean_absolute_error: 0.0189\n",
      "Epoch 25/40\n",
      "6299/6299 [==============================] - 0s 52us/step - loss: 0.0011 - mean_squared_error: 0.0011 - mean_absolute_error: 0.0192 - val_loss: 0.0012 - val_mean_squared_error: 0.0012 - val_mean_absolute_error: 0.0194\n",
      "Epoch 26/40\n",
      "6299/6299 [==============================] - 0s 51us/step - loss: 0.0011 - mean_squared_error: 0.0011 - mean_absolute_error: 0.0189 - val_loss: 0.0011 - val_mean_squared_error: 0.0011 - val_mean_absolute_error: 0.0176\n",
      "Epoch 27/40\n",
      "6299/6299 [==============================] - 0s 53us/step - loss: 0.0011 - mean_squared_error: 0.0011 - mean_absolute_error: 0.0186 - val_loss: 0.0011 - val_mean_squared_error: 0.0011 - val_mean_absolute_error: 0.0180\n",
      "Epoch 28/40\n",
      "6299/6299 [==============================] - 0s 52us/step - loss: 0.0011 - mean_squared_error: 0.0011 - mean_absolute_error: 0.0185 - val_loss: 0.0011 - val_mean_squared_error: 0.0011 - val_mean_absolute_error: 0.0180\n",
      "Epoch 29/40\n",
      "6299/6299 [==============================] - 0s 52us/step - loss: 0.0011 - mean_squared_error: 0.0011 - mean_absolute_error: 0.0186 - val_loss: 0.0010 - val_mean_squared_error: 0.0010 - val_mean_absolute_error: 0.0173\n",
      "Epoch 30/40\n",
      "6299/6299 [==============================] - 0s 52us/step - loss: 0.0011 - mean_squared_error: 0.0011 - mean_absolute_error: 0.0188 - val_loss: 0.0011 - val_mean_squared_error: 0.0011 - val_mean_absolute_error: 0.0173\n",
      "Epoch 31/40\n",
      "6299/6299 [==============================] - 0s 52us/step - loss: 0.0011 - mean_squared_error: 0.0011 - mean_absolute_error: 0.0185 - val_loss: 0.0010 - val_mean_squared_error: 0.0010 - val_mean_absolute_error: 0.0168\n",
      "Epoch 32/40\n",
      "6299/6299 [==============================] - 0s 52us/step - loss: 0.0011 - mean_squared_error: 0.0011 - mean_absolute_error: 0.0186 - val_loss: 0.0011 - val_mean_squared_error: 0.0011 - val_mean_absolute_error: 0.0179\n",
      "Epoch 33/40\n",
      "6299/6299 [==============================] - 0s 52us/step - loss: 0.0011 - mean_squared_error: 0.0011 - mean_absolute_error: 0.0191 - val_loss: 0.0011 - val_mean_squared_error: 0.0011 - val_mean_absolute_error: 0.0193\n",
      "Epoch 34/40\n",
      "6299/6299 [==============================] - 0s 52us/step - loss: 0.0011 - mean_squared_error: 0.0011 - mean_absolute_error: 0.0186 - val_loss: 0.0011 - val_mean_squared_error: 0.0011 - val_mean_absolute_error: 0.0169\n",
      "Epoch 35/40\n",
      "6299/6299 [==============================] - 0s 52us/step - loss: 0.0011 - mean_squared_error: 0.0011 - mean_absolute_error: 0.0181 - val_loss: 0.0011 - val_mean_squared_error: 0.0011 - val_mean_absolute_error: 0.0180\n",
      "Epoch 36/40\n",
      "6299/6299 [==============================] - 0s 52us/step - loss: 0.0011 - mean_squared_error: 0.0011 - mean_absolute_error: 0.0187 - val_loss: 0.0011 - val_mean_squared_error: 0.0011 - val_mean_absolute_error: 0.0175\n",
      "Epoch 37/40\n",
      "6299/6299 [==============================] - 0s 51us/step - loss: 0.0011 - mean_squared_error: 0.0011 - mean_absolute_error: 0.0184 - val_loss: 0.0011 - val_mean_squared_error: 0.0011 - val_mean_absolute_error: 0.0178\n",
      "Epoch 38/40\n",
      "6299/6299 [==============================] - 0s 51us/step - loss: 0.0011 - mean_squared_error: 0.0011 - mean_absolute_error: 0.0184 - val_loss: 0.0011 - val_mean_squared_error: 0.0011 - val_mean_absolute_error: 0.0177\n",
      "Epoch 39/40\n",
      "6299/6299 [==============================] - 0s 51us/step - loss: 0.0011 - mean_squared_error: 0.0011 - mean_absolute_error: 0.0187 - val_loss: 0.0014 - val_mean_squared_error: 0.0014 - val_mean_absolute_error: 0.0255\n",
      "Epoch 40/40\n",
      "6299/6299 [==============================] - 0s 51us/step - loss: 0.0011 - mean_squared_error: 0.0011 - mean_absolute_error: 0.0181 - val_loss: 0.0010 - val_mean_squared_error: 0.0010 - val_mean_absolute_error: 0.0181\n"
     ]
    }
   ],
   "source": [
    "# fit as we are fitting the parameters to the data\n",
    "hist = model.fit(X_train, Y_train, validation_data=(X_val, Y_val), epochs=40, batch_size=32)"
   ]
  },
  {
   "cell_type": "code",
   "execution_count": 15,
   "metadata": {},
   "outputs": [
    {
     "data": {
      "image/png": "[encoded data removed]",
      "text/plain": [
       "<Figure size 432x288 with 1 Axes>"
      ]
     },
     "metadata": {
      "needs_background": "light"
     },
     "output_type": "display_data"
    }
   ],
   "source": [
    "plt.plot(hist.history['mean_squared_error'])\n",
    "plt.show()"
   ]
  },
  {
   "cell_type": "code",
   "execution_count": 17,
   "metadata": {},
   "outputs": [
    {
     "data": {
      "image/png": "[encoded data removed]",
      "text/plain": [
       "<Figure size 432x288 with 1 Axes>"
      ]
     },
     "metadata": {
      "needs_background": "light"
     },
     "output_type": "display_data"
    }
   ],
   "source": [
    "plt.plot(hist.history['mean_absolute_error'], label='train')\n",
    "plt.plot(hist.history['val_mean_absolute_error'], label='test')\n",
    "plt.legend()\n",
    "plt.show()"
   ]
  },
  {
   "cell_type": "code",
   "execution_count": 14,
   "metadata": {},
   "outputs": [
    {
     "name": "stdout",
     "output_type": "stream",
     "text": [
      "6299/6299 [==============================] - 0s 17us/step\n",
      "1350/1350 [==============================] - 0s 18us/step\n",
      "MSE train: 0.00105, MSE test: 0.00093\n"
     ]
    }
   ],
   "source": [
    "train_mse = (model.evaluate(X_train, Y_train, verbose=1))[1]\n",
    "test_mse = (model.evaluate(X_test, Y_test, verbose=1))[1]\n",
    "print('MSE train: %.5f, MSE test: %.5f' % (train_mse, test_mse))"
   ]
  },
  {
   "cell_type": "code",
   "execution_count": null,
   "metadata": {},
   "outputs": [],
   "source": []
  },
  {
   "cell_type": "code",
   "execution_count": null,
   "metadata": {},
   "outputs": [],
   "source": []
  }
 ],
 "metadata": {
  "kernelspec": {
   "display_name": "Python 3",
   "language": "python",
   "name": "python3"
  },
  "language_info": {
   "codemirror_mode": {
    "name": "ipython",
    "version": 3
   },
   "file_extension": ".py",
   "mimetype": "text/x-python",
   "name": "python",
   "nbconvert_exporter": "python",
   "pygments_lexer": "ipython3",
   "version": "3.6.10"
  }
 },
 "nbformat": 4,
 "nbformat_minor": 4
}
