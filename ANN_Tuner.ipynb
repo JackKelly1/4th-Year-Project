{
 "cells": [
  {
   "cell_type": "code",
   "execution_count": 17,
   "id": "1bd3a49e",
   "metadata": {},
   "outputs": [],
   "source": [
    "import tensorflow as tf\n",
    "import pandas as pd\n",
    "from sklearn import preprocessing\n",
    "from sklearn.model_selection import train_test_split\n",
    "from sklearn.utils import shuffle\n",
    "from sklearn.metrics import mean_squared_error\n",
    "from sklearn.metrics import mean_absolute_error\n",
    "from tensorflow import keras\n",
    "import matplotlib.pyplot as plt\n",
    "import numpy as np\n",
    "import time\n",
    "import h5py\n",
    "import kerastuner as kt\n",
    "import os\n",
    "import sys\n",
    "import pathlib\n",
    "from matplotlib import colors as mcolors"
   ]
  },
  {
   "cell_type": "code",
   "execution_count": 2,
   "id": "0a1c29d2",
   "metadata": {},
   "outputs": [],
   "source": [
    "# Reproducibility\n",
    "seed = 9 # arbitrary number\n",
    "np.random.seed(seed=seed)\n",
    "tf.random.set_seed(seed=seed)"
   ]
  },
  {
   "cell_type": "code",
   "execution_count": 3,
   "id": "83a4f596",
   "metadata": {},
   "outputs": [],
   "source": [
    "N_channels = 40\n",
    "data_path = os.getcwd()"
   ]
  },
  {
   "cell_type": "code",
   "execution_count": 4,
   "id": "9f99dd15",
   "metadata": {},
   "outputs": [],
   "source": [
    "### IMPORT, SHUFFLE AND SCALE DATA ###\n",
    "def processing_data(N_channels, file_path):\n",
    "    df = pd.read_csv(file_path)\n",
    "    # dataset\n",
    "    dataset = df.values\n",
    "    # input power and channels statuses\n",
    "    X = dataset[:,0:N_channels+1]\n",
    "    # channel SNRs\n",
    "    Y = dataset[:,N_channels+1:2*N_channels+1]\n",
    "    # shuffle necessary because while shuffle=True in .fit() shuffles the data, it splits into different datasets first\n",
    "    X, Y = shuffle(X, Y)\n",
    "    # scaling between 0 and 1\n",
    "    min_max_scaler = preprocessing.MinMaxScaler()\n",
    "    X = min_max_scaler.fit_transform(X)\n",
    "    Y = min_max_scaler.fit_transform(Y)\n",
    "    return X, Y"
   ]
  },
  {
   "cell_type": "code",
   "execution_count": 5,
   "id": "59ecaa1f",
   "metadata": {},
   "outputs": [],
   "source": [
    "file_path = f'{data_path}/Data/10000_initial_data.csv'\n",
    "X_scale, Y_scale = processing_data(N_channels, file_path)"
   ]
  },
  {
   "cell_type": "code",
   "execution_count": 6,
   "id": "0d2e4252",
   "metadata": {},
   "outputs": [],
   "source": [
    "### FUNCTION TAKES HYPERPARAMETERS AND RETURNS COMPILED MODEL ###\n",
    "\n",
    "def model_builder(hp):\n",
    "    model = keras.Sequential()\n",
    "    model.add(keras.layers.InputLayer(input_shape=N_channels+1))\n",
    "    hp_regularizer = hp.Choice('regularizer_penalty', values=[1e-4, 1e-5, 1e-6])\n",
    "    for i in range(hp.Int('n_layers', 1, 2)):\n",
    "        model.add(keras.layers.Dense(hp.Int(f'hidden_{i}_units', min_value=56, max_value=200, step=4), activation='relu', kernel_regularizer=tf.keras.regularizers.l2(hp_regularizer)))\n",
    "    model.add(keras.layers.Dense(N_channels, activation='sigmoid', kernel_regularizer=tf.keras.regularizers.l2(hp_regularizer)))\n",
    "    hp_learning_rate = hp.Choice('learning_rate', values=[1e-2, 1e-3, 1e-4])\n",
    "    model.compile(optimizer=keras.optimizers.Adam(learning_rate=hp_learning_rate),\n",
    "                    loss=keras.losses.MeanSquaredError(), metrics=['mean_squared_error', 'mean_absolute_error'])\n",
    "    return model"
   ]
  },
  {
   "cell_type": "code",
   "execution_count": 7,
   "id": "5fa54b06",
   "metadata": {},
   "outputs": [],
   "source": [
    "### CREATE HYPERBAND TUNER ###\n",
    "\n",
    "tuner = kt.Hyperband(model_builder,\n",
    "                     objective=kt.Objective('val_mean_squared_error', 'min'),\n",
    "                     max_epochs=100,\n",
    "                     factor=3,\n",
    "                     directory=data_path,\n",
    "                     project_name='tuned_ANN',\n",
    "                     overwrite=True,\n",
    "                     seed=8)\n",
    "stop_early = tf.keras.callbacks.EarlyStopping(monitor='val_mean_squared_error', patience=5)"
   ]
  },
  {
   "cell_type": "code",
   "execution_count": 8,
   "id": "f245fd91",
   "metadata": {},
   "outputs": [
    {
     "name": "stdout",
     "output_type": "stream",
     "text": [
      "Trial 254 Complete [00h 00m 14s]\n",
      "val_mean_squared_error: 0.006495912559330463\n",
      "\n",
      "Best val_mean_squared_error So Far: 0.00018903274030890316\n",
      "Total elapsed time: 00h 10m 43s\n",
      "INFO:tensorflow:Oracle triggered exit\n",
      "643.4013319015503\n"
     ]
    }
   ],
   "source": [
    "### SEARCHING FOR THE OPTIMAL ANN ###\n",
    "\n",
    "start_time = time.time()\n",
    "# tuner.search(X_scale, Y_scale, epochs=50, validation_split=0.15, callbacks=[stop_early], verbose=2)\n",
    "tuner.search(X_scale, Y_scale, validation_split=0.2, callbacks=[stop_early], verbose=2)\n",
    "searching_time = time.time() - start_time\n",
    "print(searching_time)"
   ]
  },
  {
   "cell_type": "code",
   "execution_count": 9,
   "id": "00e236b8",
   "metadata": {},
   "outputs": [
    {
     "name": "stdout",
     "output_type": "stream",
     "text": [
      "Epoch 1/100\n",
      "250/250 - 0s - loss: 0.2019 - mean_squared_error: 0.2016 - mean_absolute_error: 0.4348 - val_loss: 0.1816 - val_mean_squared_error: 0.1814 - val_mean_absolute_error: 0.4065\n",
      "Epoch 2/100\n",
      "250/250 - 0s - loss: 0.1545 - mean_squared_error: 0.1542 - mean_absolute_error: 0.3657 - val_loss: 0.1332 - val_mean_squared_error: 0.1329 - val_mean_absolute_error: 0.3310\n",
      "Epoch 3/100\n",
      "250/250 - 0s - loss: 0.1169 - mean_squared_error: 0.1167 - mean_absolute_error: 0.3011 - val_loss: 0.1060 - val_mean_squared_error: 0.1057 - val_mean_absolute_error: 0.2817\n",
      "Epoch 4/100\n",
      "250/250 - 0s - loss: 0.0925 - mean_squared_error: 0.0923 - mean_absolute_error: 0.2622 - val_loss: 0.0834 - val_mean_squared_error: 0.0831 - val_mean_absolute_error: 0.2488\n",
      "Epoch 5/100\n",
      "250/250 - 0s - loss: 0.0724 - mean_squared_error: 0.0721 - mean_absolute_error: 0.2297 - val_loss: 0.0653 - val_mean_squared_error: 0.0650 - val_mean_absolute_error: 0.2186\n",
      "Epoch 6/100\n",
      "250/250 - 0s - loss: 0.0564 - mean_squared_error: 0.0561 - mean_absolute_error: 0.2007 - val_loss: 0.0510 - val_mean_squared_error: 0.0506 - val_mean_absolute_error: 0.1898\n",
      "Epoch 7/100\n",
      "250/250 - 0s - loss: 0.0440 - mean_squared_error: 0.0437 - mean_absolute_error: 0.1757 - val_loss: 0.0399 - val_mean_squared_error: 0.0395 - val_mean_absolute_error: 0.1671\n",
      "Epoch 8/100\n",
      "250/250 - 0s - loss: 0.0342 - mean_squared_error: 0.0338 - mean_absolute_error: 0.1538 - val_loss: 0.0308 - val_mean_squared_error: 0.0305 - val_mean_absolute_error: 0.1455\n",
      "Epoch 9/100\n",
      "250/250 - 0s - loss: 0.0264 - mean_squared_error: 0.0260 - mean_absolute_error: 0.1346 - val_loss: 0.0237 - val_mean_squared_error: 0.0233 - val_mean_absolute_error: 0.1274\n",
      "Epoch 10/100\n",
      "250/250 - 0s - loss: 0.0204 - mean_squared_error: 0.0200 - mean_absolute_error: 0.1183 - val_loss: 0.0185 - val_mean_squared_error: 0.0181 - val_mean_absolute_error: 0.1127\n",
      "Epoch 11/100\n",
      "250/250 - 0s - loss: 0.0160 - mean_squared_error: 0.0156 - mean_absolute_error: 0.1047 - val_loss: 0.0146 - val_mean_squared_error: 0.0142 - val_mean_absolute_error: 0.0997\n",
      "Epoch 12/100\n",
      "250/250 - 0s - loss: 0.0127 - mean_squared_error: 0.0123 - mean_absolute_error: 0.0933 - val_loss: 0.0117 - val_mean_squared_error: 0.0113 - val_mean_absolute_error: 0.0890\n",
      "Epoch 13/100\n",
      "250/250 - 0s - loss: 0.0103 - mean_squared_error: 0.0099 - mean_absolute_error: 0.0838 - val_loss: 0.0095 - val_mean_squared_error: 0.0091 - val_mean_absolute_error: 0.0800\n",
      "Epoch 14/100\n",
      "250/250 - 0s - loss: 0.0084 - mean_squared_error: 0.0080 - mean_absolute_error: 0.0756 - val_loss: 0.0078 - val_mean_squared_error: 0.0074 - val_mean_absolute_error: 0.0724\n",
      "Epoch 15/100\n",
      "250/250 - 0s - loss: 0.0070 - mean_squared_error: 0.0066 - mean_absolute_error: 0.0685 - val_loss: 0.0065 - val_mean_squared_error: 0.0061 - val_mean_absolute_error: 0.0656\n",
      "Epoch 16/100\n",
      "250/250 - 0s - loss: 0.0059 - mean_squared_error: 0.0055 - mean_absolute_error: 0.0626 - val_loss: 0.0056 - val_mean_squared_error: 0.0051 - val_mean_absolute_error: 0.0600\n",
      "Epoch 17/100\n",
      "250/250 - 0s - loss: 0.0051 - mean_squared_error: 0.0046 - mean_absolute_error: 0.0574 - val_loss: 0.0048 - val_mean_squared_error: 0.0043 - val_mean_absolute_error: 0.0551\n",
      "Epoch 18/100\n",
      "250/250 - 0s - loss: 0.0044 - mean_squared_error: 0.0039 - mean_absolute_error: 0.0528 - val_loss: 0.0041 - val_mean_squared_error: 0.0036 - val_mean_absolute_error: 0.0505\n",
      "Epoch 19/100\n",
      "250/250 - 0s - loss: 0.0039 - mean_squared_error: 0.0034 - mean_absolute_error: 0.0487 - val_loss: 0.0036 - val_mean_squared_error: 0.0031 - val_mean_absolute_error: 0.0467\n",
      "Epoch 20/100\n",
      "250/250 - 0s - loss: 0.0034 - mean_squared_error: 0.0029 - mean_absolute_error: 0.0452 - val_loss: 0.0032 - val_mean_squared_error: 0.0027 - val_mean_absolute_error: 0.0432\n",
      "Epoch 21/100\n",
      "250/250 - 0s - loss: 0.0030 - mean_squared_error: 0.0025 - mean_absolute_error: 0.0420 - val_loss: 0.0030 - val_mean_squared_error: 0.0025 - val_mean_absolute_error: 0.0411\n",
      "Epoch 22/100\n",
      "250/250 - 0s - loss: 0.0027 - mean_squared_error: 0.0022 - mean_absolute_error: 0.0390 - val_loss: 0.0026 - val_mean_squared_error: 0.0021 - val_mean_absolute_error: 0.0377\n",
      "Epoch 23/100\n",
      "250/250 - 0s - loss: 0.0025 - mean_squared_error: 0.0019 - mean_absolute_error: 0.0365 - val_loss: 0.0024 - val_mean_squared_error: 0.0018 - val_mean_absolute_error: 0.0350\n",
      "Epoch 24/100\n",
      "250/250 - 0s - loss: 0.0022 - mean_squared_error: 0.0017 - mean_absolute_error: 0.0341 - val_loss: 0.0021 - val_mean_squared_error: 0.0016 - val_mean_absolute_error: 0.0326\n",
      "Epoch 25/100\n",
      "250/250 - 0s - loss: 0.0021 - mean_squared_error: 0.0015 - mean_absolute_error: 0.0321 - val_loss: 0.0020 - val_mean_squared_error: 0.0014 - val_mean_absolute_error: 0.0306\n",
      "Epoch 26/100\n",
      "250/250 - 0s - loss: 0.0019 - mean_squared_error: 0.0014 - mean_absolute_error: 0.0303 - val_loss: 0.0018 - val_mean_squared_error: 0.0012 - val_mean_absolute_error: 0.0288\n",
      "Epoch 27/100\n",
      "250/250 - 0s - loss: 0.0018 - mean_squared_error: 0.0012 - mean_absolute_error: 0.0285 - val_loss: 0.0017 - val_mean_squared_error: 0.0011 - val_mean_absolute_error: 0.0272\n",
      "Epoch 28/100\n",
      "250/250 - 0s - loss: 0.0017 - mean_squared_error: 0.0011 - mean_absolute_error: 0.0269 - val_loss: 0.0016 - val_mean_squared_error: 0.0010 - val_mean_absolute_error: 0.0258\n",
      "Epoch 29/100\n",
      "250/250 - 0s - loss: 0.0016 - mean_squared_error: 9.8434e-04 - mean_absolute_error: 0.0254 - val_loss: 0.0015 - val_mean_squared_error: 9.2792e-04 - val_mean_absolute_error: 0.0246\n",
      "Epoch 30/100\n",
      "250/250 - 0s - loss: 0.0015 - mean_squared_error: 9.0212e-04 - mean_absolute_error: 0.0242 - val_loss: 0.0014 - val_mean_squared_error: 8.3656e-04 - val_mean_absolute_error: 0.0231\n",
      "Epoch 31/100\n",
      "250/250 - 0s - loss: 0.0014 - mean_squared_error: 8.1824e-04 - mean_absolute_error: 0.0230 - val_loss: 0.0013 - val_mean_squared_error: 7.6724e-04 - val_mean_absolute_error: 0.0221\n",
      "Epoch 32/100\n",
      "250/250 - 0s - loss: 0.0013 - mean_squared_error: 7.5702e-04 - mean_absolute_error: 0.0220 - val_loss: 0.0013 - val_mean_squared_error: 7.0142e-04 - val_mean_absolute_error: 0.0210\n",
      "Epoch 33/100\n",
      "250/250 - 0s - loss: 0.0013 - mean_squared_error: 6.8758e-04 - mean_absolute_error: 0.0209 - val_loss: 0.0012 - val_mean_squared_error: 6.4646e-04 - val_mean_absolute_error: 0.0199\n",
      "Epoch 34/100\n",
      "250/250 - 0s - loss: 0.0012 - mean_squared_error: 6.3720e-04 - mean_absolute_error: 0.0200 - val_loss: 0.0012 - val_mean_squared_error: 6.0334e-04 - val_mean_absolute_error: 0.0194\n",
      "Epoch 35/100\n",
      "250/250 - 0s - loss: 0.0012 - mean_squared_error: 5.9362e-04 - mean_absolute_error: 0.0192 - val_loss: 0.0012 - val_mean_squared_error: 5.5690e-04 - val_mean_absolute_error: 0.0182\n",
      "Epoch 36/100\n",
      "250/250 - 0s - loss: 0.0011 - mean_squared_error: 5.4716e-04 - mean_absolute_error: 0.0184 - val_loss: 0.0011 - val_mean_squared_error: 5.3478e-04 - val_mean_absolute_error: 0.0182\n",
      "Epoch 37/100\n",
      "250/250 - 0s - loss: 0.0011 - mean_squared_error: 5.1189e-04 - mean_absolute_error: 0.0177 - val_loss: 0.0011 - val_mean_squared_error: 4.8150e-04 - val_mean_absolute_error: 0.0171\n",
      "Epoch 38/100\n",
      "250/250 - 0s - loss: 0.0011 - mean_squared_error: 4.8028e-04 - mean_absolute_error: 0.0171 - val_loss: 0.0011 - val_mean_squared_error: 4.9327e-04 - val_mean_absolute_error: 0.0174\n",
      "Epoch 39/100\n",
      "250/250 - 0s - loss: 0.0011 - mean_squared_error: 4.4531e-04 - mean_absolute_error: 0.0164 - val_loss: 0.0010 - val_mean_squared_error: 4.2481e-04 - val_mean_absolute_error: 0.0158\n",
      "Epoch 40/100\n",
      "250/250 - 0s - loss: 0.0010 - mean_squared_error: 4.2140e-04 - mean_absolute_error: 0.0159 - val_loss: 0.0010 - val_mean_squared_error: 4.0075e-04 - val_mean_absolute_error: 0.0152\n",
      "Epoch 41/100\n",
      "250/250 - 0s - loss: 0.0010 - mean_squared_error: 3.9804e-04 - mean_absolute_error: 0.0154 - val_loss: 0.0010 - val_mean_squared_error: 3.8040e-04 - val_mean_absolute_error: 0.0147\n",
      "Epoch 42/100\n",
      "250/250 - 0s - loss: 9.9996e-04 - mean_squared_error: 3.7579e-04 - mean_absolute_error: 0.0149 - val_loss: 9.8721e-04 - val_mean_squared_error: 3.6145e-04 - val_mean_absolute_error: 0.0144\n",
      "Epoch 43/100\n",
      "250/250 - 0s - loss: 9.8736e-04 - mean_squared_error: 3.6011e-04 - mean_absolute_error: 0.0146 - val_loss: 9.7219e-04 - val_mean_squared_error: 3.4349e-04 - val_mean_absolute_error: 0.0139\n",
      "Epoch 44/100\n",
      "250/250 - 0s - loss: 9.7497e-04 - mean_squared_error: 3.4492e-04 - mean_absolute_error: 0.0142 - val_loss: 9.6069e-04 - val_mean_squared_error: 3.2926e-04 - val_mean_absolute_error: 0.0135\n"
     ]
    },
    {
     "name": "stdout",
     "output_type": "stream",
     "text": [
      "Epoch 45/100\n",
      "250/250 - 0s - loss: 9.6448e-04 - mean_squared_error: 3.3178e-04 - mean_absolute_error: 0.0139 - val_loss: 9.6133e-04 - val_mean_squared_error: 3.2736e-04 - val_mean_absolute_error: 0.0137\n",
      "Epoch 46/100\n",
      "250/250 - 0s - loss: 9.5004e-04 - mean_squared_error: 3.1486e-04 - mean_absolute_error: 0.0135 - val_loss: 9.4461e-04 - val_mean_squared_error: 3.0828e-04 - val_mean_absolute_error: 0.0131\n",
      "Epoch 47/100\n",
      "250/250 - 0s - loss: 9.4136e-04 - mean_squared_error: 3.0388e-04 - mean_absolute_error: 0.0133 - val_loss: 9.3828e-04 - val_mean_squared_error: 2.9971e-04 - val_mean_absolute_error: 0.0130\n",
      "Epoch 48/100\n",
      "250/250 - 0s - loss: 9.3288e-04 - mean_squared_error: 2.9324e-04 - mean_absolute_error: 0.0130 - val_loss: 9.2967e-04 - val_mean_squared_error: 2.8900e-04 - val_mean_absolute_error: 0.0125\n",
      "Epoch 49/100\n",
      "250/250 - 0s - loss: 9.2992e-04 - mean_squared_error: 2.8829e-04 - mean_absolute_error: 0.0129 - val_loss: 9.2964e-04 - val_mean_squared_error: 2.8708e-04 - val_mean_absolute_error: 0.0124\n",
      "Epoch 50/100\n",
      "250/250 - 0s - loss: 9.1897e-04 - mean_squared_error: 2.7551e-04 - mean_absolute_error: 0.0125 - val_loss: 9.1480e-04 - val_mean_squared_error: 2.7046e-04 - val_mean_absolute_error: 0.0121\n",
      "Epoch 51/100\n",
      "250/250 - 0s - loss: 9.1208e-04 - mean_squared_error: 2.6689e-04 - mean_absolute_error: 0.0123 - val_loss: 9.1218e-04 - val_mean_squared_error: 2.6615e-04 - val_mean_absolute_error: 0.0121\n",
      "Epoch 52/100\n",
      "250/250 - 0s - loss: 9.1649e-04 - mean_squared_error: 2.6970e-04 - mean_absolute_error: 0.0124 - val_loss: 0.0010 - val_mean_squared_error: 3.7481e-04 - val_mean_absolute_error: 0.0143\n",
      "Epoch 53/100\n",
      "250/250 - 0s - loss: 9.1218e-04 - mean_squared_error: 2.6397e-04 - mean_absolute_error: 0.0122 - val_loss: 9.0343e-04 - val_mean_squared_error: 2.5458e-04 - val_mean_absolute_error: 0.0118\n",
      "Epoch 54/100\n",
      "250/250 - 0s - loss: 8.9894e-04 - mean_squared_error: 2.4944e-04 - mean_absolute_error: 0.0119 - val_loss: 9.0478e-04 - val_mean_squared_error: 2.5466e-04 - val_mean_absolute_error: 0.0118\n",
      "Epoch 55/100\n",
      "250/250 - 0s - loss: 8.9860e-04 - mean_squared_error: 2.4791e-04 - mean_absolute_error: 0.0118 - val_loss: 9.2359e-04 - val_mean_squared_error: 2.7236e-04 - val_mean_absolute_error: 0.0119\n",
      "Epoch 56/100\n",
      "250/250 - 0s - loss: 9.0324e-04 - mean_squared_error: 2.5147e-04 - mean_absolute_error: 0.0119 - val_loss: 8.9343e-04 - val_mean_squared_error: 2.4114e-04 - val_mean_absolute_error: 0.0113\n",
      "Epoch 57/100\n",
      "250/250 - 0s - loss: 8.9088e-04 - mean_squared_error: 2.3810e-04 - mean_absolute_error: 0.0116 - val_loss: 9.0664e-04 - val_mean_squared_error: 2.5336e-04 - val_mean_absolute_error: 0.0115\n",
      "Epoch 58/100\n",
      "250/250 - 0s - loss: 8.9491e-04 - mean_squared_error: 2.4118e-04 - mean_absolute_error: 0.0116 - val_loss: 8.9290e-04 - val_mean_squared_error: 2.3874e-04 - val_mean_absolute_error: 0.0111\n",
      "Epoch 59/100\n",
      "250/250 - 0s - loss: 8.9851e-04 - mean_squared_error: 2.4401e-04 - mean_absolute_error: 0.0117 - val_loss: 8.9366e-04 - val_mean_squared_error: 2.3873e-04 - val_mean_absolute_error: 0.0114\n",
      "Epoch 60/100\n",
      "250/250 - 0s - loss: 8.8677e-04 - mean_squared_error: 2.3148e-04 - mean_absolute_error: 0.0114 - val_loss: 9.1403e-04 - val_mean_squared_error: 2.5840e-04 - val_mean_absolute_error: 0.0116\n",
      "Epoch 61/100\n",
      "250/250 - 0s - loss: 8.8806e-04 - mean_squared_error: 2.3208e-04 - mean_absolute_error: 0.0114 - val_loss: 8.8767e-04 - val_mean_squared_error: 2.3141e-04 - val_mean_absolute_error: 0.0109\n",
      "Epoch 62/100\n",
      "250/250 - 0s - loss: 8.7903e-04 - mean_squared_error: 2.2242e-04 - mean_absolute_error: 0.0111 - val_loss: 8.7749e-04 - val_mean_squared_error: 2.2054e-04 - val_mean_absolute_error: 0.0108\n",
      "Epoch 63/100\n",
      "250/250 - 0s - loss: 8.7571e-04 - mean_squared_error: 2.1847e-04 - mean_absolute_error: 0.0110 - val_loss: 8.8071e-04 - val_mean_squared_error: 2.2315e-04 - val_mean_absolute_error: 0.0108\n",
      "Epoch 64/100\n",
      "250/250 - 0s - loss: 8.7728e-04 - mean_squared_error: 2.1943e-04 - mean_absolute_error: 0.0110 - val_loss: 8.7725e-04 - val_mean_squared_error: 2.1912e-04 - val_mean_absolute_error: 0.0107\n",
      "Epoch 65/100\n",
      "250/250 - 0s - loss: 8.7760e-04 - mean_squared_error: 2.1923e-04 - mean_absolute_error: 0.0110 - val_loss: 8.7524e-04 - val_mean_squared_error: 2.1661e-04 - val_mean_absolute_error: 0.0107\n",
      "Epoch 66/100\n",
      "250/250 - 0s - loss: 8.8147e-04 - mean_squared_error: 2.2257e-04 - mean_absolute_error: 0.0111 - val_loss: 8.7820e-04 - val_mean_squared_error: 2.1909e-04 - val_mean_absolute_error: 0.0109\n",
      "Epoch 67/100\n",
      "250/250 - 0s - loss: 8.7677e-04 - mean_squared_error: 2.1747e-04 - mean_absolute_error: 0.0110 - val_loss: 8.7519e-04 - val_mean_squared_error: 2.1567e-04 - val_mean_absolute_error: 0.0105\n",
      "Epoch 68/100\n",
      "250/250 - 0s - loss: 8.7174e-04 - mean_squared_error: 2.1203e-04 - mean_absolute_error: 0.0108 - val_loss: 8.8585e-04 - val_mean_squared_error: 2.2594e-04 - val_mean_absolute_error: 0.0111\n",
      "Epoch 69/100\n",
      "250/250 - 0s - loss: 8.7937e-04 - mean_squared_error: 2.1924e-04 - mean_absolute_error: 0.0110 - val_loss: 8.6975e-04 - val_mean_squared_error: 2.0949e-04 - val_mean_absolute_error: 0.0105\n",
      "Epoch 70/100\n",
      "250/250 - 0s - loss: 8.6931e-04 - mean_squared_error: 2.0887e-04 - mean_absolute_error: 0.0107 - val_loss: 8.6864e-04 - val_mean_squared_error: 2.0804e-04 - val_mean_absolute_error: 0.0104\n",
      "Epoch 71/100\n",
      "250/250 - 0s - loss: 8.8607e-04 - mean_squared_error: 2.2532e-04 - mean_absolute_error: 0.0111 - val_loss: 9.9097e-04 - val_mean_squared_error: 3.3010e-04 - val_mean_absolute_error: 0.0129\n",
      "Epoch 72/100\n",
      "250/250 - 0s - loss: 8.6697e-04 - mean_squared_error: 2.0598e-04 - mean_absolute_error: 0.0106 - val_loss: 8.9254e-04 - val_mean_squared_error: 2.3141e-04 - val_mean_absolute_error: 0.0108\n",
      "Epoch 73/100\n",
      "250/250 - 0s - loss: 8.6347e-04 - mean_squared_error: 2.0221e-04 - mean_absolute_error: 0.0105 - val_loss: 8.6538e-04 - val_mean_squared_error: 2.0398e-04 - val_mean_absolute_error: 0.0102\n",
      "Epoch 74/100\n",
      "250/250 - 0s - loss: 8.7069e-04 - mean_squared_error: 2.0919e-04 - mean_absolute_error: 0.0107 - val_loss: 8.6427e-04 - val_mean_squared_error: 2.0268e-04 - val_mean_absolute_error: 0.0103\n",
      "Epoch 75/100\n",
      "250/250 - 0s - loss: 8.6494e-04 - mean_squared_error: 2.0321e-04 - mean_absolute_error: 0.0106 - val_loss: 8.6793e-04 - val_mean_squared_error: 2.0609e-04 - val_mean_absolute_error: 0.0104\n",
      "Epoch 76/100\n",
      "250/250 - 0s - loss: 8.7046e-04 - mean_squared_error: 2.0852e-04 - mean_absolute_error: 0.0107 - val_loss: 9.1793e-04 - val_mean_squared_error: 2.5589e-04 - val_mean_absolute_error: 0.0113\n",
      "Epoch 77/100\n",
      "250/250 - 0s - loss: 8.9220e-04 - mean_squared_error: 2.3014e-04 - mean_absolute_error: 0.0110 - val_loss: 8.6079e-04 - val_mean_squared_error: 1.9874e-04 - val_mean_absolute_error: 0.0101\n",
      "Epoch 78/100\n",
      "250/250 - 0s - loss: 8.6379e-04 - mean_squared_error: 2.0167e-04 - mean_absolute_error: 0.0105 - val_loss: 8.7942e-04 - val_mean_squared_error: 2.1722e-04 - val_mean_absolute_error: 0.0109\n",
      "Epoch 79/100\n",
      "250/250 - 0s - loss: 8.6051e-04 - mean_squared_error: 1.9820e-04 - mean_absolute_error: 0.0104 - val_loss: 8.7471e-04 - val_mean_squared_error: 2.1235e-04 - val_mean_absolute_error: 0.0103\n",
      "Epoch 80/100\n",
      "250/250 - 0s - loss: 8.6122e-04 - mean_squared_error: 1.9880e-04 - mean_absolute_error: 0.0104 - val_loss: 8.6140e-04 - val_mean_squared_error: 1.9894e-04 - val_mean_absolute_error: 0.0101\n",
      "Epoch 81/100\n",
      "250/250 - 0s - loss: 8.5852e-04 - mean_squared_error: 1.9598e-04 - mean_absolute_error: 0.0103 - val_loss: 8.5893e-04 - val_mean_squared_error: 1.9632e-04 - val_mean_absolute_error: 0.0101\n",
      "Epoch 82/100\n",
      "250/250 - 0s - loss: 8.6433e-04 - mean_squared_error: 2.0163e-04 - mean_absolute_error: 0.0105 - val_loss: 8.5762e-04 - val_mean_squared_error: 1.9487e-04 - val_mean_absolute_error: 0.0101\n",
      "Epoch 83/100\n",
      "250/250 - 0s - loss: 8.5847e-04 - mean_squared_error: 1.9569e-04 - mean_absolute_error: 0.0103 - val_loss: 8.5875e-04 - val_mean_squared_error: 1.9590e-04 - val_mean_absolute_error: 0.0101\n",
      "Epoch 84/100\n",
      "250/250 - 0s - loss: 8.5838e-04 - mean_squared_error: 1.9551e-04 - mean_absolute_error: 0.0103 - val_loss: 8.7621e-04 - val_mean_squared_error: 2.1328e-04 - val_mean_absolute_error: 0.0103\n",
      "Epoch 85/100\n",
      "250/250 - 0s - loss: 8.6037e-04 - mean_squared_error: 1.9740e-04 - mean_absolute_error: 0.0103 - val_loss: 8.5804e-04 - val_mean_squared_error: 1.9507e-04 - val_mean_absolute_error: 0.0100\n"
     ]
    },
    {
     "name": "stdout",
     "output_type": "stream",
     "text": [
      "Epoch 86/100\n",
      "250/250 - 0s - loss: 8.5710e-04 - mean_squared_error: 1.9411e-04 - mean_absolute_error: 0.0103 - val_loss: 8.9802e-04 - val_mean_squared_error: 2.3499e-04 - val_mean_absolute_error: 0.0108\n",
      "Epoch 87/100\n",
      "250/250 - 0s - loss: 8.7371e-04 - mean_squared_error: 2.1071e-04 - mean_absolute_error: 0.0106 - val_loss: 8.7509e-04 - val_mean_squared_error: 2.1208e-04 - val_mean_absolute_error: 0.0102\n",
      "Epoch 88/100\n",
      "250/250 - 0s - loss: 8.6829e-04 - mean_squared_error: 2.0529e-04 - mean_absolute_error: 0.0105 - val_loss: 8.7336e-04 - val_mean_squared_error: 2.1038e-04 - val_mean_absolute_error: 0.0102\n",
      "Epoch 89/100\n",
      "250/250 - 0s - loss: 8.5614e-04 - mean_squared_error: 1.9313e-04 - mean_absolute_error: 0.0102 - val_loss: 8.5376e-04 - val_mean_squared_error: 1.9070e-04 - val_mean_absolute_error: 0.0099\n",
      "Epoch 90/100\n",
      "250/250 - 0s - loss: 8.5055e-04 - mean_squared_error: 1.8748e-04 - mean_absolute_error: 0.0101 - val_loss: 8.5997e-04 - val_mean_squared_error: 1.9685e-04 - val_mean_absolute_error: 0.0100\n",
      "Epoch 91/100\n",
      "250/250 - 0s - loss: 8.5447e-04 - mean_squared_error: 1.9138e-04 - mean_absolute_error: 0.0101 - val_loss: 8.6049e-04 - val_mean_squared_error: 1.9741e-04 - val_mean_absolute_error: 0.0102\n",
      "Epoch 92/100\n",
      "250/250 - 0s - loss: 8.5396e-04 - mean_squared_error: 1.9085e-04 - mean_absolute_error: 0.0102 - val_loss: 8.5099e-04 - val_mean_squared_error: 1.8789e-04 - val_mean_absolute_error: 0.0099\n",
      "Epoch 93/100\n",
      "250/250 - 0s - loss: 8.5419e-04 - mean_squared_error: 1.9110e-04 - mean_absolute_error: 0.0102 - val_loss: 8.7410e-04 - val_mean_squared_error: 2.1103e-04 - val_mean_absolute_error: 0.0102\n",
      "Epoch 94/100\n",
      "250/250 - 0s - loss: 8.5924e-04 - mean_squared_error: 1.9616e-04 - mean_absolute_error: 0.0103 - val_loss: 8.6116e-04 - val_mean_squared_error: 1.9807e-04 - val_mean_absolute_error: 0.0102\n",
      "Epoch 95/100\n",
      "250/250 - 0s - loss: 8.6424e-04 - mean_squared_error: 2.0123e-04 - mean_absolute_error: 0.0103 - val_loss: 8.6632e-04 - val_mean_squared_error: 2.0333e-04 - val_mean_absolute_error: 0.0100\n",
      "Epoch 96/100\n",
      "250/250 - 0s - loss: 8.5478e-04 - mean_squared_error: 1.9180e-04 - mean_absolute_error: 0.0102 - val_loss: 8.5038e-04 - val_mean_squared_error: 1.8744e-04 - val_mean_absolute_error: 0.0098\n",
      "Epoch 97/100\n",
      "250/250 - 0s - loss: 8.5746e-04 - mean_squared_error: 1.9458e-04 - mean_absolute_error: 0.0102 - val_loss: 8.5002e-04 - val_mean_squared_error: 1.8714e-04 - val_mean_absolute_error: 0.0097\n",
      "Epoch 98/100\n",
      "250/250 - 0s - loss: 8.4755e-04 - mean_squared_error: 1.8466e-04 - mean_absolute_error: 0.0100 - val_loss: 8.5138e-04 - val_mean_squared_error: 1.8851e-04 - val_mean_absolute_error: 0.0098\n",
      "Epoch 99/100\n",
      "250/250 - 0s - loss: 8.5247e-04 - mean_squared_error: 1.8963e-04 - mean_absolute_error: 0.0101 - val_loss: 8.6165e-04 - val_mean_squared_error: 1.9886e-04 - val_mean_absolute_error: 0.0099\n",
      "Epoch 100/100\n",
      "250/250 - 0s - loss: 8.6632e-04 - mean_squared_error: 2.0354e-04 - mean_absolute_error: 0.0104 - val_loss: 9.0478e-04 - val_mean_squared_error: 2.4205e-04 - val_mean_absolute_error: 0.0109\n",
      "Best epoch: 98\n",
      "Epoch 1/98\n",
      "250/250 - 0s - loss: 0.2016 - mean_squared_error: 0.2014 - mean_absolute_error: 0.4343 - val_loss: 0.1816 - val_mean_squared_error: 0.1814 - val_mean_absolute_error: 0.4060\n",
      "Epoch 2/98\n",
      "250/250 - 0s - loss: 0.1543 - mean_squared_error: 0.1540 - mean_absolute_error: 0.3640 - val_loss: 0.1347 - val_mean_squared_error: 0.1344 - val_mean_absolute_error: 0.3289\n",
      "Epoch 3/98\n",
      "250/250 - 0s - loss: 0.1199 - mean_squared_error: 0.1197 - mean_absolute_error: 0.3024 - val_loss: 0.1100 - val_mean_squared_error: 0.1097 - val_mean_absolute_error: 0.2865\n",
      "Epoch 4/98\n",
      "250/250 - 0s - loss: 0.0973 - mean_squared_error: 0.0971 - mean_absolute_error: 0.2682 - val_loss: 0.0884 - val_mean_squared_error: 0.0881 - val_mean_absolute_error: 0.2556\n",
      "Epoch 5/98\n",
      "250/250 - 0s - loss: 0.0777 - mean_squared_error: 0.0774 - mean_absolute_error: 0.2375 - val_loss: 0.0703 - val_mean_squared_error: 0.0700 - val_mean_absolute_error: 0.2262\n",
      "Epoch 6/98\n",
      "250/250 - 0s - loss: 0.0617 - mean_squared_error: 0.0614 - mean_absolute_error: 0.2095 - val_loss: 0.0560 - val_mean_squared_error: 0.0557 - val_mean_absolute_error: 0.1988\n",
      "Epoch 7/98\n",
      "250/250 - 0s - loss: 0.0492 - mean_squared_error: 0.0489 - mean_absolute_error: 0.1850 - val_loss: 0.0449 - val_mean_squared_error: 0.0445 - val_mean_absolute_error: 0.1761\n",
      "Epoch 8/98\n",
      "250/250 - 0s - loss: 0.0393 - mean_squared_error: 0.0390 - mean_absolute_error: 0.1637 - val_loss: 0.0358 - val_mean_squared_error: 0.0355 - val_mean_absolute_error: 0.1556\n",
      "Epoch 9/98\n",
      "250/250 - 0s - loss: 0.0314 - mean_squared_error: 0.0311 - mean_absolute_error: 0.1452 - val_loss: 0.0288 - val_mean_squared_error: 0.0284 - val_mean_absolute_error: 0.1381\n",
      "Epoch 10/98\n",
      "250/250 - 0s - loss: 0.0251 - mean_squared_error: 0.0247 - mean_absolute_error: 0.1290 - val_loss: 0.0230 - val_mean_squared_error: 0.0226 - val_mean_absolute_error: 0.1230\n",
      "Epoch 11/98\n",
      "250/250 - 0s - loss: 0.0200 - mean_squared_error: 0.0196 - mean_absolute_error: 0.1149 - val_loss: 0.0184 - val_mean_squared_error: 0.0180 - val_mean_absolute_error: 0.1097\n",
      "Epoch 12/98\n",
      "250/250 - 0s - loss: 0.0161 - mean_squared_error: 0.0157 - mean_absolute_error: 0.1029 - val_loss: 0.0149 - val_mean_squared_error: 0.0144 - val_mean_absolute_error: 0.0984\n",
      "Epoch 13/98\n",
      "250/250 - 0s - loss: 0.0131 - mean_squared_error: 0.0126 - mean_absolute_error: 0.0925 - val_loss: 0.0121 - val_mean_squared_error: 0.0116 - val_mean_absolute_error: 0.0885\n",
      "Epoch 14/98\n",
      "250/250 - 0s - loss: 0.0107 - mean_squared_error: 0.0103 - mean_absolute_error: 0.0837 - val_loss: 0.0100 - val_mean_squared_error: 0.0095 - val_mean_absolute_error: 0.0803\n",
      "Epoch 15/98\n",
      "250/250 - 0s - loss: 0.0089 - mean_squared_error: 0.0084 - mean_absolute_error: 0.0761 - val_loss: 0.0083 - val_mean_squared_error: 0.0079 - val_mean_absolute_error: 0.0731\n",
      "Epoch 16/98\n",
      "250/250 - 0s - loss: 0.0075 - mean_squared_error: 0.0070 - mean_absolute_error: 0.0695 - val_loss: 0.0071 - val_mean_squared_error: 0.0066 - val_mean_absolute_error: 0.0669\n",
      "Epoch 17/98\n",
      "250/250 - 0s - loss: 0.0064 - mean_squared_error: 0.0059 - mean_absolute_error: 0.0638 - val_loss: 0.0060 - val_mean_squared_error: 0.0056 - val_mean_absolute_error: 0.0615\n",
      "Epoch 18/98\n",
      "250/250 - 0s - loss: 0.0055 - mean_squared_error: 0.0050 - mean_absolute_error: 0.0587 - val_loss: 0.0052 - val_mean_squared_error: 0.0047 - val_mean_absolute_error: 0.0565\n",
      "Epoch 19/98\n",
      "250/250 - 0s - loss: 0.0048 - mean_squared_error: 0.0043 - mean_absolute_error: 0.0542 - val_loss: 0.0045 - val_mean_squared_error: 0.0040 - val_mean_absolute_error: 0.0521\n",
      "Epoch 20/98\n",
      "250/250 - 0s - loss: 0.0042 - mean_squared_error: 0.0037 - mean_absolute_error: 0.0501 - val_loss: 0.0039 - val_mean_squared_error: 0.0034 - val_mean_absolute_error: 0.0481\n",
      "Epoch 21/98\n",
      "250/250 - 0s - loss: 0.0037 - mean_squared_error: 0.0032 - mean_absolute_error: 0.0465 - val_loss: 0.0037 - val_mean_squared_error: 0.0032 - val_mean_absolute_error: 0.0458\n",
      "Epoch 22/98\n",
      "250/250 - 0s - loss: 0.0032 - mean_squared_error: 0.0027 - mean_absolute_error: 0.0431 - val_loss: 0.0031 - val_mean_squared_error: 0.0026 - val_mean_absolute_error: 0.0415\n",
      "Epoch 23/98\n",
      "250/250 - 0s - loss: 0.0029 - mean_squared_error: 0.0024 - mean_absolute_error: 0.0402 - val_loss: 0.0027 - val_mean_squared_error: 0.0022 - val_mean_absolute_error: 0.0385\n",
      "Epoch 24/98\n",
      "250/250 - 0s - loss: 0.0026 - mean_squared_error: 0.0021 - mean_absolute_error: 0.0374 - val_loss: 0.0024 - val_mean_squared_error: 0.0019 - val_mean_absolute_error: 0.0357\n",
      "Epoch 25/98\n",
      "250/250 - 0s - loss: 0.0023 - mean_squared_error: 0.0018 - mean_absolute_error: 0.0350 - val_loss: 0.0022 - val_mean_squared_error: 0.0017 - val_mean_absolute_error: 0.0334\n",
      "Epoch 26/98\n",
      "250/250 - 0s - loss: 0.0021 - mean_squared_error: 0.0016 - mean_absolute_error: 0.0329 - val_loss: 0.0020 - val_mean_squared_error: 0.0015 - val_mean_absolute_error: 0.0314\n",
      "Epoch 27/98\n",
      "250/250 - 0s - loss: 0.0020 - mean_squared_error: 0.0014 - mean_absolute_error: 0.0309 - val_loss: 0.0019 - val_mean_squared_error: 0.0013 - val_mean_absolute_error: 0.0295\n",
      "Epoch 28/98\n",
      "250/250 - 0s - loss: 0.0018 - mean_squared_error: 0.0013 - mean_absolute_error: 0.0291 - val_loss: 0.0017 - val_mean_squared_error: 0.0012 - val_mean_absolute_error: 0.0279\n"
     ]
    },
    {
     "name": "stdout",
     "output_type": "stream",
     "text": [
      "Epoch 29/98\n",
      "250/250 - 0s - loss: 0.0017 - mean_squared_error: 0.0011 - mean_absolute_error: 0.0274 - val_loss: 0.0016 - val_mean_squared_error: 0.0011 - val_mean_absolute_error: 0.0265\n",
      "Epoch 30/98\n",
      "250/250 - 0s - loss: 0.0016 - mean_squared_error: 0.0010 - mean_absolute_error: 0.0261 - val_loss: 0.0015 - val_mean_squared_error: 9.5300e-04 - val_mean_absolute_error: 0.0249\n",
      "Epoch 31/98\n",
      "250/250 - 0s - loss: 0.0015 - mean_squared_error: 9.3562e-04 - mean_absolute_error: 0.0247 - val_loss: 0.0015 - val_mean_squared_error: 8.9870e-04 - val_mean_absolute_error: 0.0241\n",
      "Epoch 32/98\n",
      "250/250 - 0s - loss: 0.0014 - mean_squared_error: 8.6589e-04 - mean_absolute_error: 0.0237 - val_loss: 0.0014 - val_mean_squared_error: 7.9168e-04 - val_mean_absolute_error: 0.0224\n",
      "Epoch 33/98\n",
      "250/250 - 0s - loss: 0.0014 - mean_squared_error: 7.8237e-04 - mean_absolute_error: 0.0224 - val_loss: 0.0013 - val_mean_squared_error: 7.2688e-04 - val_mean_absolute_error: 0.0213\n",
      "Epoch 34/98\n",
      "250/250 - 0s - loss: 0.0013 - mean_squared_error: 7.1887e-04 - mean_absolute_error: 0.0214 - val_loss: 0.0013 - val_mean_squared_error: 6.6962e-04 - val_mean_absolute_error: 0.0206\n",
      "Epoch 35/98\n",
      "250/250 - 0s - loss: 0.0013 - mean_squared_error: 6.6799e-04 - mean_absolute_error: 0.0206 - val_loss: 0.0012 - val_mean_squared_error: 6.2118e-04 - val_mean_absolute_error: 0.0194\n",
      "Epoch 36/98\n",
      "250/250 - 0s - loss: 0.0012 - mean_squared_error: 6.1335e-04 - mean_absolute_error: 0.0196 - val_loss: 0.0012 - val_mean_squared_error: 5.9675e-04 - val_mean_absolute_error: 0.0193\n",
      "Epoch 37/98\n",
      "250/250 - 0s - loss: 0.0012 - mean_squared_error: 5.7201e-04 - mean_absolute_error: 0.0189 - val_loss: 0.0011 - val_mean_squared_error: 5.3676e-04 - val_mean_absolute_error: 0.0183\n",
      "Epoch 38/98\n",
      "250/250 - 0s - loss: 0.0011 - mean_squared_error: 5.3612e-04 - mean_absolute_error: 0.0182 - val_loss: 0.0012 - val_mean_squared_error: 5.4769e-04 - val_mean_absolute_error: 0.0185\n",
      "Epoch 39/98\n",
      "250/250 - 0s - loss: 0.0011 - mean_squared_error: 4.9207e-04 - mean_absolute_error: 0.0174 - val_loss: 0.0011 - val_mean_squared_error: 4.6162e-04 - val_mean_absolute_error: 0.0166\n",
      "Epoch 40/98\n",
      "250/250 - 0s - loss: 0.0011 - mean_squared_error: 4.6093e-04 - mean_absolute_error: 0.0167 - val_loss: 0.0010 - val_mean_squared_error: 4.3632e-04 - val_mean_absolute_error: 0.0160\n",
      "Epoch 41/98\n",
      "250/250 - 0s - loss: 0.0010 - mean_squared_error: 4.3544e-04 - mean_absolute_error: 0.0162 - val_loss: 0.0010 - val_mean_squared_error: 4.1311e-04 - val_mean_absolute_error: 0.0155\n",
      "Epoch 42/98\n",
      "250/250 - 0s - loss: 0.0010 - mean_squared_error: 4.0846e-04 - mean_absolute_error: 0.0156 - val_loss: 0.0010 - val_mean_squared_error: 3.8786e-04 - val_mean_absolute_error: 0.0149\n",
      "Epoch 43/98\n",
      "250/250 - 0s - loss: 0.0010 - mean_squared_error: 3.8961e-04 - mean_absolute_error: 0.0152 - val_loss: 0.0010 - val_mean_squared_error: 3.7805e-04 - val_mean_absolute_error: 0.0146\n",
      "Epoch 44/98\n",
      "250/250 - 0s - loss: 9.9581e-04 - mean_squared_error: 3.7229e-04 - mean_absolute_error: 0.0149 - val_loss: 9.7579e-04 - val_mean_squared_error: 3.5080e-04 - val_mean_absolute_error: 0.0141\n",
      "Epoch 45/98\n",
      "250/250 - 0s - loss: 9.8001e-04 - mean_squared_error: 3.5361e-04 - mean_absolute_error: 0.0144 - val_loss: 9.7022e-04 - val_mean_squared_error: 3.4241e-04 - val_mean_absolute_error: 0.0141\n",
      "Epoch 46/98\n",
      "250/250 - 0s - loss: 9.6330e-04 - mean_squared_error: 3.3416e-04 - mean_absolute_error: 0.0140 - val_loss: 9.5394e-04 - val_mean_squared_error: 3.2349e-04 - val_mean_absolute_error: 0.0135\n",
      "Epoch 47/98\n",
      "250/250 - 0s - loss: 9.5419e-04 - mean_squared_error: 3.2249e-04 - mean_absolute_error: 0.0137 - val_loss: 9.4351e-04 - val_mean_squared_error: 3.1063e-04 - val_mean_absolute_error: 0.0132\n",
      "Epoch 48/98\n",
      "250/250 - 0s - loss: 9.4450e-04 - mean_squared_error: 3.1044e-04 - mean_absolute_error: 0.0135 - val_loss: 9.3719e-04 - val_mean_squared_error: 3.0199e-04 - val_mean_absolute_error: 0.0129\n",
      "Epoch 49/98\n",
      "250/250 - 0s - loss: 9.3647e-04 - mean_squared_error: 3.0019e-04 - mean_absolute_error: 0.0132 - val_loss: 9.2843e-04 - val_mean_squared_error: 2.9109e-04 - val_mean_absolute_error: 0.0127\n",
      "Epoch 50/98\n",
      "250/250 - 0s - loss: 9.2700e-04 - mean_squared_error: 2.8865e-04 - mean_absolute_error: 0.0129 - val_loss: 9.2586e-04 - val_mean_squared_error: 2.8656e-04 - val_mean_absolute_error: 0.0128\n",
      "Epoch 51/98\n",
      "250/250 - 0s - loss: 9.1822e-04 - mean_squared_error: 2.7797e-04 - mean_absolute_error: 0.0126 - val_loss: 9.1734e-04 - val_mean_squared_error: 2.7617e-04 - val_mean_absolute_error: 0.0123\n",
      "Epoch 52/98\n",
      "250/250 - 0s - loss: 9.2775e-04 - mean_squared_error: 2.8577e-04 - mean_absolute_error: 0.0128 - val_loss: 9.9045e-04 - val_mean_squared_error: 3.4771e-04 - val_mean_absolute_error: 0.0141\n",
      "Epoch 53/98\n",
      "250/250 - 0s - loss: 9.1397e-04 - mean_squared_error: 2.7046e-04 - mean_absolute_error: 0.0124 - val_loss: 9.0107e-04 - val_mean_squared_error: 2.5683e-04 - val_mean_absolute_error: 0.0119\n",
      "Epoch 54/98\n",
      "250/250 - 0s - loss: 9.0541e-04 - mean_squared_error: 2.6047e-04 - mean_absolute_error: 0.0122 - val_loss: 9.0183e-04 - val_mean_squared_error: 2.5622e-04 - val_mean_absolute_error: 0.0119\n",
      "Epoch 55/98\n",
      "250/250 - 0s - loss: 9.0072e-04 - mean_squared_error: 2.5449e-04 - mean_absolute_error: 0.0120 - val_loss: 9.2948e-04 - val_mean_squared_error: 2.8261e-04 - val_mean_absolute_error: 0.0123\n",
      "Epoch 56/98\n",
      "250/250 - 0s - loss: 9.0237e-04 - mean_squared_error: 2.5493e-04 - mean_absolute_error: 0.0120 - val_loss: 8.9266e-04 - val_mean_squared_error: 2.4463e-04 - val_mean_absolute_error: 0.0116\n",
      "Epoch 57/98\n",
      "250/250 - 0s - loss: 8.9294e-04 - mean_squared_error: 2.4437e-04 - mean_absolute_error: 0.0118 - val_loss: 9.0189e-04 - val_mean_squared_error: 2.5278e-04 - val_mean_absolute_error: 0.0116\n",
      "Epoch 58/98\n",
      "250/250 - 0s - loss: 8.9769e-04 - mean_squared_error: 2.4807e-04 - mean_absolute_error: 0.0119 - val_loss: 9.1723e-04 - val_mean_squared_error: 2.6712e-04 - val_mean_absolute_error: 0.0119\n",
      "Epoch 59/98\n",
      "250/250 - 0s - loss: 8.9407e-04 - mean_squared_error: 2.4358e-04 - mean_absolute_error: 0.0117 - val_loss: 8.9012e-04 - val_mean_squared_error: 2.3915e-04 - val_mean_absolute_error: 0.0114\n",
      "Epoch 60/98\n",
      "250/250 - 0s - loss: 8.8644e-04 - mean_squared_error: 2.3508e-04 - mean_absolute_error: 0.0115 - val_loss: 9.0074e-04 - val_mean_squared_error: 2.4899e-04 - val_mean_absolute_error: 0.0114\n",
      "Epoch 61/98\n",
      "250/250 - 0s - loss: 8.8860e-04 - mean_squared_error: 2.3646e-04 - mean_absolute_error: 0.0115 - val_loss: 8.8770e-04 - val_mean_squared_error: 2.3522e-04 - val_mean_absolute_error: 0.0111\n",
      "Epoch 62/98\n",
      "250/250 - 0s - loss: 8.7733e-04 - mean_squared_error: 2.2449e-04 - mean_absolute_error: 0.0112 - val_loss: 8.7624e-04 - val_mean_squared_error: 2.2303e-04 - val_mean_absolute_error: 0.0109\n",
      "Epoch 63/98\n",
      "250/250 - 0s - loss: 8.7582e-04 - mean_squared_error: 2.2228e-04 - mean_absolute_error: 0.0112 - val_loss: 8.7554e-04 - val_mean_squared_error: 2.2163e-04 - val_mean_absolute_error: 0.0109\n",
      "Epoch 64/98\n",
      "250/250 - 0s - loss: 8.7444e-04 - mean_squared_error: 2.2022e-04 - mean_absolute_error: 0.0111 - val_loss: 8.7286e-04 - val_mean_squared_error: 2.1832e-04 - val_mean_absolute_error: 0.0107\n",
      "Epoch 65/98\n",
      "250/250 - 0s - loss: 8.7654e-04 - mean_squared_error: 2.2172e-04 - mean_absolute_error: 0.0111 - val_loss: 8.7016e-04 - val_mean_squared_error: 2.1506e-04 - val_mean_absolute_error: 0.0108\n",
      "Epoch 66/98\n",
      "250/250 - 0s - loss: 8.7498e-04 - mean_squared_error: 2.1959e-04 - mean_absolute_error: 0.0110 - val_loss: 8.7421e-04 - val_mean_squared_error: 2.1856e-04 - val_mean_absolute_error: 0.0110\n",
      "Epoch 67/98\n",
      "250/250 - 0s - loss: 8.7277e-04 - mean_squared_error: 2.1692e-04 - mean_absolute_error: 0.0110 - val_loss: 8.6946e-04 - val_mean_squared_error: 2.1336e-04 - val_mean_absolute_error: 0.0106\n",
      "Epoch 68/98\n",
      "250/250 - 0s - loss: 8.7318e-04 - mean_squared_error: 2.1686e-04 - mean_absolute_error: 0.0110 - val_loss: 8.8535e-04 - val_mean_squared_error: 2.2881e-04 - val_mean_absolute_error: 0.0113\n",
      "Epoch 69/98\n",
      "250/250 - 0s - loss: 8.7379e-04 - mean_squared_error: 2.1702e-04 - mean_absolute_error: 0.0110 - val_loss: 8.6322e-04 - val_mean_squared_error: 2.0628e-04 - val_mean_absolute_error: 0.0105\n",
      "Epoch 70/98\n",
      "250/250 - 0s - loss: 8.6793e-04 - mean_squared_error: 2.1081e-04 - mean_absolute_error: 0.0108 - val_loss: 8.6168e-04 - val_mean_squared_error: 2.0439e-04 - val_mean_absolute_error: 0.0104\n"
     ]
    },
    {
     "name": "stdout",
     "output_type": "stream",
     "text": [
      "Epoch 71/98\n",
      "250/250 - 0s - loss: 8.8776e-04 - mean_squared_error: 2.3032e-04 - mean_absolute_error: 0.0112 - val_loss: 9.7180e-04 - val_mean_squared_error: 3.1424e-04 - val_mean_absolute_error: 0.0127\n",
      "Epoch 72/98\n",
      "250/250 - 0s - loss: 8.6411e-04 - mean_squared_error: 2.0643e-04 - mean_absolute_error: 0.0107 - val_loss: 8.9961e-04 - val_mean_squared_error: 2.4176e-04 - val_mean_absolute_error: 0.0111\n",
      "Epoch 73/98\n",
      "250/250 - 0s - loss: 8.5890e-04 - mean_squared_error: 2.0095e-04 - mean_absolute_error: 0.0105 - val_loss: 8.6239e-04 - val_mean_squared_error: 2.0426e-04 - val_mean_absolute_error: 0.0103\n",
      "Epoch 74/98\n",
      "250/250 - 0s - loss: 8.6918e-04 - mean_squared_error: 2.1094e-04 - mean_absolute_error: 0.0108 - val_loss: 8.6200e-04 - val_mean_squared_error: 2.0367e-04 - val_mean_absolute_error: 0.0103\n",
      "Epoch 75/98\n",
      "250/250 - 0s - loss: 8.5906e-04 - mean_squared_error: 2.0060e-04 - mean_absolute_error: 0.0105 - val_loss: 8.6093e-04 - val_mean_squared_error: 2.0236e-04 - val_mean_absolute_error: 0.0105\n",
      "Epoch 76/98\n",
      "250/250 - 0s - loss: 8.6874e-04 - mean_squared_error: 2.1006e-04 - mean_absolute_error: 0.0107 - val_loss: 8.9458e-04 - val_mean_squared_error: 2.3577e-04 - val_mean_absolute_error: 0.0109\n",
      "Epoch 77/98\n",
      "250/250 - 0s - loss: 8.7922e-04 - mean_squared_error: 2.2035e-04 - mean_absolute_error: 0.0109 - val_loss: 8.5387e-04 - val_mean_squared_error: 1.9499e-04 - val_mean_absolute_error: 0.0102\n",
      "Epoch 78/98\n",
      "250/250 - 0s - loss: 8.5865e-04 - mean_squared_error: 1.9968e-04 - mean_absolute_error: 0.0105 - val_loss: 8.8099e-04 - val_mean_squared_error: 2.2191e-04 - val_mean_absolute_error: 0.0111\n",
      "Epoch 79/98\n",
      "250/250 - 0s - loss: 8.5605e-04 - mean_squared_error: 1.9687e-04 - mean_absolute_error: 0.0104 - val_loss: 8.8177e-04 - val_mean_squared_error: 2.2250e-04 - val_mean_absolute_error: 0.0106\n",
      "Epoch 80/98\n",
      "250/250 - 0s - loss: 8.5445e-04 - mean_squared_error: 1.9509e-04 - mean_absolute_error: 0.0104 - val_loss: 8.5073e-04 - val_mean_squared_error: 1.9131e-04 - val_mean_absolute_error: 0.0101\n",
      "Epoch 81/98\n",
      "250/250 - 0s - loss: 8.5065e-04 - mean_squared_error: 1.9114e-04 - mean_absolute_error: 0.0102 - val_loss: 8.4953e-04 - val_mean_squared_error: 1.8994e-04 - val_mean_absolute_error: 0.0101\n",
      "Epoch 82/98\n",
      "250/250 - 0s - loss: 8.5783e-04 - mean_squared_error: 1.9811e-04 - mean_absolute_error: 0.0104 - val_loss: 8.4591e-04 - val_mean_squared_error: 1.8609e-04 - val_mean_absolute_error: 0.0100\n",
      "Epoch 83/98\n",
      "250/250 - 0s - loss: 8.4887e-04 - mean_squared_error: 1.8899e-04 - mean_absolute_error: 0.0102 - val_loss: 8.4429e-04 - val_mean_squared_error: 1.8431e-04 - val_mean_absolute_error: 0.0100\n",
      "Epoch 84/98\n",
      "250/250 - 0s - loss: 8.5269e-04 - mean_squared_error: 1.9262e-04 - mean_absolute_error: 0.0103 - val_loss: 8.5715e-04 - val_mean_squared_error: 1.9700e-04 - val_mean_absolute_error: 0.0100\n",
      "Epoch 85/98\n",
      "250/250 - 0s - loss: 8.4828e-04 - mean_squared_error: 1.8802e-04 - mean_absolute_error: 0.0102 - val_loss: 8.4401e-04 - val_mean_squared_error: 1.8370e-04 - val_mean_absolute_error: 0.0099\n",
      "Epoch 86/98\n",
      "250/250 - 0s - loss: 8.4675e-04 - mean_squared_error: 1.8636e-04 - mean_absolute_error: 0.0101 - val_loss: 8.7905e-04 - val_mean_squared_error: 2.1855e-04 - val_mean_absolute_error: 0.0105\n",
      "Epoch 87/98\n",
      "250/250 - 0s - loss: 8.5530e-04 - mean_squared_error: 1.9477e-04 - mean_absolute_error: 0.0103 - val_loss: 8.6341e-04 - val_mean_squared_error: 2.0280e-04 - val_mean_absolute_error: 0.0101\n",
      "Epoch 88/98\n",
      "250/250 - 0s - loss: 8.5957e-04 - mean_squared_error: 1.9890e-04 - mean_absolute_error: 0.0104 - val_loss: 8.6557e-04 - val_mean_squared_error: 2.0483e-04 - val_mean_absolute_error: 0.0101\n",
      "Epoch 89/98\n",
      "250/250 - 0s - loss: 8.4213e-04 - mean_squared_error: 1.8127e-04 - mean_absolute_error: 0.0100 - val_loss: 8.4066e-04 - val_mean_squared_error: 1.7969e-04 - val_mean_absolute_error: 0.0099\n",
      "Epoch 90/98\n",
      "250/250 - 0s - loss: 8.3809e-04 - mean_squared_error: 1.7702e-04 - mean_absolute_error: 0.0099 - val_loss: 8.4417e-04 - val_mean_squared_error: 1.8299e-04 - val_mean_absolute_error: 0.0098\n",
      "Epoch 91/98\n",
      "250/250 - 0s - loss: 8.4223e-04 - mean_squared_error: 1.8100e-04 - mean_absolute_error: 0.0100 - val_loss: 8.4968e-04 - val_mean_squared_error: 1.8839e-04 - val_mean_absolute_error: 0.0102\n",
      "Epoch 92/98\n",
      "250/250 - 0s - loss: 8.3779e-04 - mean_squared_error: 1.7642e-04 - mean_absolute_error: 0.0099 - val_loss: 8.3338e-04 - val_mean_squared_error: 1.7198e-04 - val_mean_absolute_error: 0.0096\n",
      "Epoch 93/98\n",
      "250/250 - 0s - loss: 8.4297e-04 - mean_squared_error: 1.8149e-04 - mean_absolute_error: 0.0100 - val_loss: 8.5107e-04 - val_mean_squared_error: 1.8956e-04 - val_mean_absolute_error: 0.0098\n",
      "Epoch 94/98\n",
      "250/250 - 0s - loss: 8.5631e-04 - mean_squared_error: 1.9473e-04 - mean_absolute_error: 0.0103 - val_loss: 8.3338e-04 - val_mean_squared_error: 1.7175e-04 - val_mean_absolute_error: 0.0096\n",
      "Epoch 95/98\n",
      "250/250 - 0s - loss: 8.4240e-04 - mean_squared_error: 1.8078e-04 - mean_absolute_error: 0.0100 - val_loss: 8.4458e-04 - val_mean_squared_error: 1.8290e-04 - val_mean_absolute_error: 0.0097\n",
      "Epoch 96/98\n",
      "250/250 - 0s - loss: 8.3694e-04 - mean_squared_error: 1.7520e-04 - mean_absolute_error: 0.0099 - val_loss: 8.3165e-04 - val_mean_squared_error: 1.6986e-04 - val_mean_absolute_error: 0.0095\n",
      "Epoch 97/98\n",
      "250/250 - 0s - loss: 8.3836e-04 - mean_squared_error: 1.7656e-04 - mean_absolute_error: 0.0099 - val_loss: 8.3294e-04 - val_mean_squared_error: 1.7109e-04 - val_mean_absolute_error: 0.0095\n",
      "Epoch 98/98\n",
      "250/250 - 0s - loss: 8.3033e-04 - mean_squared_error: 1.6844e-04 - mean_absolute_error: 0.0097 - val_loss: 8.3017e-04 - val_mean_squared_error: 1.6824e-04 - val_mean_absolute_error: 0.0094\n"
     ]
    }
   ],
   "source": [
    "# Build the model with the optimal hyperparameters and train it on the data for 25 epochs\n",
    "best_hps=tuner.get_best_hyperparameters(num_trials=1)[0]\n",
    "# Tuned model trained for 100 epochs\n",
    "model = tuner.hypermodel.build(best_hps)\n",
    "history = model.fit(X_scale, Y_scale, epochs=100, shuffle=True, validation_split=0.2, verbose=2)\n",
    "\n",
    "mean_squared_error_per_epoch = history.history['mean_squared_error']\n",
    "best_epoch = mean_squared_error_per_epoch.index(min(mean_squared_error_per_epoch)) + 1\n",
    "print('Best epoch: %d' % (best_epoch,))\n",
    "hypermodel = tuner.hypermodel.build(best_hps)\n",
    "\n",
    "# Tuned model trained for optimum number of epochs\n",
    "hypermodel_hist = hypermodel.fit(X_scale, Y_scale, epochs=best_epoch, shuffle=True, validation_split=0.2, verbose=2)"
   ]
  },
  {
   "cell_type": "code",
   "execution_count": 10,
   "id": "362122e6",
   "metadata": {},
   "outputs": [
    {
     "name": "stdout",
     "output_type": "stream",
     "text": [
      "- regularizer_penalty: 1e-06\n",
      "- n_layers: 2\n",
      "- hidden_0_units: 140\n",
      "- learning_rate: 0.0001\n",
      "- hidden_1_units: 100\n",
      "- tuner/epochs: 150\n",
      "- tuner/initial_epoch: 50\n",
      "- tuner/bracket: 1\n",
      "- tuner/round: 1\n",
      "- tuner/trial_id: 548e49ec3a5079ff0e443c74a390d49b\n"
     ]
    }
   ],
   "source": [
    "for key, value in best_hps.__dict__['values'].items():\n",
    "    print(f'- {key}: {value}')"
   ]
  },
  {
   "cell_type": "code",
   "execution_count": 40,
   "id": "15bf7bb3",
   "metadata": {},
   "outputs": [
    {
     "name": "stdout",
     "output_type": "stream",
     "text": [
      "MSE test: 0.00017492468759883195\n"
     ]
    }
   ],
   "source": [
    "file_path = f'{data_path}/Data/10000_initial_data_testing.csv'\n",
    "X_test, Y_test = processing_data(N_channels, file_path)\n",
    "eval_result = hypermodel.evaluate(X_test, Y_test, verbose=0)[1]\n",
    "print(f'MSE test: {eval_result}')"
   ]
  },
  {
   "cell_type": "code",
   "execution_count": 12,
   "id": "2f288bd0",
   "metadata": {},
   "outputs": [],
   "source": [
    "def visualising_data_MSE(hist, name):\n",
    "    plt.plot(hist.history['mean_squared_error'], label='Train')\n",
    "    plt.plot(hist.history['val_mean_squared_error'], label='Validation')\n",
    "    plt.ylabel('MSE')\n",
    "    plt.xlabel('Epoch')\n",
    "    plt.legend()\n",
    "    plt.savefig(name, bbox_inches='tight', format='svg', dpi=1200)\n",
    "    plt.show()\n",
    "\n",
    "def visualising_data_MAE(hist, name):\n",
    "    plt.plot(hist.history['mean_absolute_error'], label='Train')\n",
    "    plt.plot(hist.history['val_mean_absolute_error'], label='Validation')\n",
    "    plt.ylabel('MAE')\n",
    "    plt.xlabel('Epoch')\n",
    "    plt.legend()\n",
    "    plt.savefig(name, bbox_inches='tight', format='svg', dpi=1200)\n",
    "    plt.show()"
   ]
  },
  {
   "cell_type": "code",
   "execution_count": 13,
   "id": "201897c1",
   "metadata": {},
   "outputs": [
    {
     "data": {
      "image/png": "[encoded data removed]",
      "text/plain": [
       "<Figure size 432x288 with 1 Axes>"
      ]
     },
     "metadata": {
      "needs_background": "light"
     },
     "output_type": "display_data"
    },
    {
     "data": {
      "image/png": "[encoded data removed]",
      "text/plain": [
       "<Figure size 432x288 with 1 Axes>"
      ]
     },
     "metadata": {
      "needs_background": "light"
     },
     "output_type": "display_data"
    }
   ],
   "source": [
    "visualising_data_MSE(history, f'{data_path}/Figures/full_epochs_results_MSE.svg')\n",
    "visualising_data_MAE(history, f'{data_path}/Figures/full_epochs_results_MAE.svg')"
   ]
  },
  {
   "cell_type": "code",
   "execution_count": 14,
   "id": "247ccbca",
   "metadata": {},
   "outputs": [
    {
     "name": "stdout",
     "output_type": "stream",
     "text": [
      "Model: \"sequential\"\n",
      "_________________________________________________________________\n",
      "Layer (type)                 Output Shape              Param #   \n",
      "=================================================================\n",
      "dense (Dense)                (None, 140)               5880      \n",
      "_________________________________________________________________\n",
      "dense_1 (Dense)              (None, 100)               14100     \n",
      "_________________________________________________________________\n",
      "dense_2 (Dense)              (None, 40)                4040      \n",
      "=================================================================\n",
      "Total params: 24,020\n",
      "Trainable params: 24,020\n",
      "Non-trainable params: 0\n",
      "_________________________________________________________________\n"
     ]
    }
   ],
   "source": [
    "hypermodel.summary()"
   ]
  },
  {
   "cell_type": "code",
   "execution_count": 15,
   "id": "cb7faa71",
   "metadata": {},
   "outputs": [],
   "source": [
    "hypermodel.save(f'{data_path}/Tuned_ANN_model.h5')"
   ]
  },
  {
   "cell_type": "markdown",
   "id": "70ee25d8",
   "metadata": {},
   "source": [
    "# CDF"
   ]
  },
  {
   "cell_type": "code",
   "execution_count": 34,
   "id": "087cdd4e",
   "metadata": {},
   "outputs": [],
   "source": [
    "colors = dict(mcolors.BASE_COLORS, **mcolors.CSS4_COLORS)"
   ]
  },
  {
   "cell_type": "code",
   "execution_count": 30,
   "id": "83cb17ba",
   "metadata": {},
   "outputs": [],
   "source": [
    "def CDF_plot(x, y, name, e_type):\n",
    "    mse_ecdf = plt.plot(x,y, marker='.', linestyle='none', color=colors['blue'])\n",
    "    plt.xlabel(f'{e_type} [dB]')\n",
    "    plt.ylabel('Probability')\n",
    "    plt.savefig(f'{data_path}/Figures/{name}.svg', bbox_inches='tight', format='svg', dpi=1200)\n",
    "    plt.show()"
   ]
  },
  {
   "cell_type": "code",
   "execution_count": 31,
   "id": "d9c4ee15",
   "metadata": {},
   "outputs": [
    {
     "name": "stdout",
     "output_type": "stream",
     "text": [
      "0.14397001266479492\n"
     ]
    }
   ],
   "source": [
    "model = keras.models.load_model(f'{data_path}/Tuned_ANN_model.h5')\n",
    "df = pd.read_csv(f'{data_path}/Data/10000_initial_data_testing.csv')\n",
    "# dataset\n",
    "dataset = df.values\n",
    "# input power and channels statuses\n",
    "X = dataset[:,0:N_channels+1]\n",
    "Y = dataset[:,N_channels+1:2*N_channels+1]\n",
    "\n",
    "xScaler = preprocessing.MinMaxScaler()\n",
    "yScaler = preprocessing.MinMaxScaler()\n",
    "\n",
    "xScaler.fit(X)\n",
    "yScaler.fit(Y)\n",
    "\n",
    "xTrainNorm = xScaler.transform(X)\n",
    "yTrainNorm = yScaler.transform(Y)\n",
    "\n",
    "start_time = time.time()\n",
    "y_predicted = model.predict(xTrainNorm)\n",
    "y_predicted_inverted = yScaler.inverse_transform(y_predicted)\n",
    "prediction_time = time.time() - start_time\n",
    "print(prediction_time)"
   ]
  },
  {
   "cell_type": "code",
   "execution_count": 32,
   "id": "40a30c61",
   "metadata": {},
   "outputs": [
    {
     "name": "stdout",
     "output_type": "stream",
     "text": [
      "90th percentile mse =  0.16325716183053002 dB\n",
      "90th percentile mae =  0.372598829589338 dB\n"
     ]
    },
    {
     "data": {
      "image/png": "[encoded data removed]",
      "text/plain": [
       "<Figure size 432x288 with 1 Axes>"
      ]
     },
     "metadata": {
      "needs_background": "light"
     },
     "output_type": "display_data"
    },
    {
     "data": {
      "image/png": "[encoded data removed]",
      "text/plain": [
       "<Figure size 432x288 with 1 Axes>"
      ]
     },
     "metadata": {
      "needs_background": "light"
     },
     "output_type": "display_data"
    }
   ],
   "source": [
    "mean_squared_error_store = []\n",
    "mean_absolute_error_store = []\n",
    "for i in range(10000):\n",
    "    mean_squared_error_store.append(mean_squared_error(y_predicted_inverted[i], Y[i]))\n",
    "    mean_absolute_error_store.append(mean_absolute_error(y_predicted_inverted[i], Y[i]))\n",
    "x_mse = np.sort(mean_squared_error_store)\n",
    "x_mae = np.sort(mean_absolute_error_store)\n",
    "y = np.arange(1, len(x_mse)+1)/len(x_mse)\n",
    "print('90th percentile mse = ', x_mse[9000],'dB')\n",
    "print('90th percentile mae = ', x_mae[9000],'dB')\n",
    "CDF_plot(x_mse, y, 'CDF_tuned_ANN_MSE', 'MSE')\n",
    "CDF_plot(x_mae, y, 'CDF_tuned_ANN_MAE', 'MAE')"
   ]
  },
  {
   "cell_type": "markdown",
   "id": "647e0293",
   "metadata": {},
   "source": [
    "# Bar plot"
   ]
  },
  {
   "cell_type": "code",
   "execution_count": 33,
   "id": "6a83ed3b",
   "metadata": {},
   "outputs": [
    {
     "data": {
      "image/png": "[encoded data removed]",
      "text/plain": [
       "<Figure size 1296x360 with 1 Axes>"
      ]
     },
     "metadata": {
      "needs_background": "light"
     },
     "output_type": "display_data"
    },
    {
     "data": {
      "image/png": "[encoded data removed]",
      "text/plain": [
       "<Figure size 1296x360 with 1 Axes>"
      ]
     },
     "metadata": {
      "needs_background": "light"
     },
     "output_type": "display_data"
    },
    {
     "data": {
      "image/png": "[encoded data removed]",
      "text/plain": [
       "<Figure size 1296x360 with 1 Axes>"
      ]
     },
     "metadata": {
      "needs_background": "light"
     },
     "output_type": "display_data"
    }
   ],
   "source": [
    "def barplot(index):\n",
    "    y_actual = Y[index] * X[index][1:]\n",
    "    y_predicted = y_predicted_inverted[index] * X[index][1:]\n",
    "    \n",
    "    labels = [i for i in range(1,41)]\n",
    "\n",
    "    x = np.arange(len(labels))  # the label locations\n",
    "    width = 0.35  # the width of the bars\n",
    "\n",
    "    fig, ax = plt.subplots(figsize=(18,5))\n",
    "    # plt.figure(figsize=(25,5))\n",
    "    rects1 = ax.bar(x - width/2, y_actual, width, label='Actual')\n",
    "    rects2 = ax.bar(x + width/2, y_predicted, width, label='Predicted')\n",
    "\n",
    "    # Add some text for labels, title and custom x-axis tick labels, etc.\n",
    "    ax.set_ylabel('GSNR [dB]', fontsize=15)\n",
    "    ax.set_xlabel('Channel Number', fontsize=15)\n",
    "    ax.set_xticks(x)\n",
    "    ax.set_xticklabels(labels)\n",
    "    ax.tick_params(axis='x', labelsize=15)\n",
    "    ax.tick_params(axis='y', labelsize=15)\n",
    "    # ax.set_yticklabels(labels, fontsize=12)\n",
    "    ax.legend(fontsize=15, loc='upper right')\n",
    "\n",
    "    fig.tight_layout()\n",
    "\n",
    "    plt.savefig(f'{data_path}/Figures/tuned_channel_bar_chart_{index}.svg', bbox_inches='tight', format='svg', dpi=1200)\n",
    "    plt.show()\n",
    "\n",
    "barplot(2500)\n",
    "barplot(5100)\n",
    "barplot(7500)"
   ]
  },
  {
   "cell_type": "code",
   "execution_count": null,
   "id": "24db9674",
   "metadata": {},
   "outputs": [],
   "source": []
  }
 ],
 "metadata": {
  "kernelspec": {
   "display_name": "Python 3",
   "language": "python",
   "name": "python3"
  },
  "language_info": {
   "codemirror_mode": {
    "name": "ipython",
    "version": 3
   },
   "file_extension": ".py",
   "mimetype": "text/x-python",
   "name": "python",
   "nbconvert_exporter": "python",
   "pygments_lexer": "ipython3",
   "version": "3.6.13"
  }
 },
 "nbformat": 4,
 "nbformat_minor": 5
}
